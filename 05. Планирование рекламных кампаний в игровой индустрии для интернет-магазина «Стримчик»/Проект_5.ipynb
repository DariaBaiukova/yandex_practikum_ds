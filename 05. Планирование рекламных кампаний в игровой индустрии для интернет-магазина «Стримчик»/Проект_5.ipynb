{
 "cells": [
  {
   "cell_type": "markdown",
   "metadata": {},
   "source": [
    "# Планирование рекламных кампаний в игровой индустрии для интернет-магазина «Стримчик»"
   ]
  },
  {
   "cell_type": "markdown",
   "metadata": {},
   "source": [
    "# Описание данных\n",
    "-\tName — название игры\n",
    "-\tPlatform — платформа\n",
    "-\tYear_of_Release — год выпуска\n",
    "-\tGenre — жанр игры\n",
    "-\tNA_sales — продажи в Северной Америке (миллионы проданных копий)\n",
    "-\tEU_sales — продажи в Европе (миллионы проданных копий)\n",
    "-\tJP_sales — продажи в Японии (миллионы проданных копий)\n",
    "-\tOther_sales — продажи в других странах (миллионы проданных копий)\n",
    "-\tCritic_Score — оценка критиков (максимум 100)\n",
    "-\tUser_Score — оценка пользователей (максимум 10)\n",
    "-\tRating — рейтинг от организации ESRB (англ. Entertainment Software Rating Board). Эта ассоциация определяет рейтинг компьютерных игр и присваивает им подходящую возрастную категорию.\n",
    "Данные за 2016 год могут быть неполными."
   ]
  },
  {
   "cell_type": "markdown",
   "metadata": {},
   "source": [
    "## Подготовка данных"
   ]
  },
  {
   "cell_type": "code",
   "execution_count": 1,
   "metadata": {},
   "outputs": [],
   "source": [
    "import pandas as pd\n",
    "import matplotlib \n",
    "import matplotlib.pyplot as plt\n",
    "import numpy as np\n",
    "import seaborn as sns\n",
    "from scipy import stats as st\n"
   ]
  },
  {
   "cell_type": "code",
   "execution_count": 2,
   "metadata": {},
   "outputs": [
    {
     "data": {
      "text/html": [
       "<div>\n",
       "<style scoped>\n",
       "    .dataframe tbody tr th:only-of-type {\n",
       "        vertical-align: middle;\n",
       "    }\n",
       "\n",
       "    .dataframe tbody tr th {\n",
       "        vertical-align: top;\n",
       "    }\n",
       "\n",
       "    .dataframe thead th {\n",
       "        text-align: right;\n",
       "    }\n",
       "</style>\n",
       "<table border=\"1\" class=\"dataframe\">\n",
       "  <thead>\n",
       "    <tr style=\"text-align: right;\">\n",
       "      <th></th>\n",
       "      <th>Name</th>\n",
       "      <th>Platform</th>\n",
       "      <th>Year_of_Release</th>\n",
       "      <th>Genre</th>\n",
       "      <th>NA_sales</th>\n",
       "      <th>EU_sales</th>\n",
       "      <th>JP_sales</th>\n",
       "      <th>Other_sales</th>\n",
       "      <th>Critic_Score</th>\n",
       "      <th>User_Score</th>\n",
       "      <th>Rating</th>\n",
       "    </tr>\n",
       "  </thead>\n",
       "  <tbody>\n",
       "    <tr>\n",
       "      <th>0</th>\n",
       "      <td>Wii Sports</td>\n",
       "      <td>Wii</td>\n",
       "      <td>2006.0</td>\n",
       "      <td>Sports</td>\n",
       "      <td>41.36</td>\n",
       "      <td>28.96</td>\n",
       "      <td>3.77</td>\n",
       "      <td>8.45</td>\n",
       "      <td>76.0</td>\n",
       "      <td>8</td>\n",
       "      <td>E</td>\n",
       "    </tr>\n",
       "    <tr>\n",
       "      <th>1</th>\n",
       "      <td>Super Mario Bros.</td>\n",
       "      <td>NES</td>\n",
       "      <td>1985.0</td>\n",
       "      <td>Platform</td>\n",
       "      <td>29.08</td>\n",
       "      <td>3.58</td>\n",
       "      <td>6.81</td>\n",
       "      <td>0.77</td>\n",
       "      <td>NaN</td>\n",
       "      <td>NaN</td>\n",
       "      <td>NaN</td>\n",
       "    </tr>\n",
       "    <tr>\n",
       "      <th>2</th>\n",
       "      <td>Mario Kart Wii</td>\n",
       "      <td>Wii</td>\n",
       "      <td>2008.0</td>\n",
       "      <td>Racing</td>\n",
       "      <td>15.68</td>\n",
       "      <td>12.76</td>\n",
       "      <td>3.79</td>\n",
       "      <td>3.29</td>\n",
       "      <td>82.0</td>\n",
       "      <td>8.3</td>\n",
       "      <td>E</td>\n",
       "    </tr>\n",
       "    <tr>\n",
       "      <th>3</th>\n",
       "      <td>Wii Sports Resort</td>\n",
       "      <td>Wii</td>\n",
       "      <td>2009.0</td>\n",
       "      <td>Sports</td>\n",
       "      <td>15.61</td>\n",
       "      <td>10.93</td>\n",
       "      <td>3.28</td>\n",
       "      <td>2.95</td>\n",
       "      <td>80.0</td>\n",
       "      <td>8</td>\n",
       "      <td>E</td>\n",
       "    </tr>\n",
       "    <tr>\n",
       "      <th>4</th>\n",
       "      <td>Pokemon Red/Pokemon Blue</td>\n",
       "      <td>GB</td>\n",
       "      <td>1996.0</td>\n",
       "      <td>Role-Playing</td>\n",
       "      <td>11.27</td>\n",
       "      <td>8.89</td>\n",
       "      <td>10.22</td>\n",
       "      <td>1.00</td>\n",
       "      <td>NaN</td>\n",
       "      <td>NaN</td>\n",
       "      <td>NaN</td>\n",
       "    </tr>\n",
       "    <tr>\n",
       "      <th>...</th>\n",
       "      <td>...</td>\n",
       "      <td>...</td>\n",
       "      <td>...</td>\n",
       "      <td>...</td>\n",
       "      <td>...</td>\n",
       "      <td>...</td>\n",
       "      <td>...</td>\n",
       "      <td>...</td>\n",
       "      <td>...</td>\n",
       "      <td>...</td>\n",
       "      <td>...</td>\n",
       "    </tr>\n",
       "    <tr>\n",
       "      <th>16710</th>\n",
       "      <td>Samurai Warriors: Sanada Maru</td>\n",
       "      <td>PS3</td>\n",
       "      <td>2016.0</td>\n",
       "      <td>Action</td>\n",
       "      <td>0.00</td>\n",
       "      <td>0.00</td>\n",
       "      <td>0.01</td>\n",
       "      <td>0.00</td>\n",
       "      <td>NaN</td>\n",
       "      <td>NaN</td>\n",
       "      <td>NaN</td>\n",
       "    </tr>\n",
       "    <tr>\n",
       "      <th>16711</th>\n",
       "      <td>LMA Manager 2007</td>\n",
       "      <td>X360</td>\n",
       "      <td>2006.0</td>\n",
       "      <td>Sports</td>\n",
       "      <td>0.00</td>\n",
       "      <td>0.01</td>\n",
       "      <td>0.00</td>\n",
       "      <td>0.00</td>\n",
       "      <td>NaN</td>\n",
       "      <td>NaN</td>\n",
       "      <td>NaN</td>\n",
       "    </tr>\n",
       "    <tr>\n",
       "      <th>16712</th>\n",
       "      <td>Haitaka no Psychedelica</td>\n",
       "      <td>PSV</td>\n",
       "      <td>2016.0</td>\n",
       "      <td>Adventure</td>\n",
       "      <td>0.00</td>\n",
       "      <td>0.00</td>\n",
       "      <td>0.01</td>\n",
       "      <td>0.00</td>\n",
       "      <td>NaN</td>\n",
       "      <td>NaN</td>\n",
       "      <td>NaN</td>\n",
       "    </tr>\n",
       "    <tr>\n",
       "      <th>16713</th>\n",
       "      <td>Spirits &amp; Spells</td>\n",
       "      <td>GBA</td>\n",
       "      <td>2003.0</td>\n",
       "      <td>Platform</td>\n",
       "      <td>0.01</td>\n",
       "      <td>0.00</td>\n",
       "      <td>0.00</td>\n",
       "      <td>0.00</td>\n",
       "      <td>NaN</td>\n",
       "      <td>NaN</td>\n",
       "      <td>NaN</td>\n",
       "    </tr>\n",
       "    <tr>\n",
       "      <th>16714</th>\n",
       "      <td>Winning Post 8 2016</td>\n",
       "      <td>PSV</td>\n",
       "      <td>2016.0</td>\n",
       "      <td>Simulation</td>\n",
       "      <td>0.00</td>\n",
       "      <td>0.00</td>\n",
       "      <td>0.01</td>\n",
       "      <td>0.00</td>\n",
       "      <td>NaN</td>\n",
       "      <td>NaN</td>\n",
       "      <td>NaN</td>\n",
       "    </tr>\n",
       "  </tbody>\n",
       "</table>\n",
       "<p>16715 rows × 11 columns</p>\n",
       "</div>"
      ],
      "text/plain": [
       "                                Name Platform  Year_of_Release         Genre  \\\n",
       "0                         Wii Sports      Wii           2006.0        Sports   \n",
       "1                  Super Mario Bros.      NES           1985.0      Platform   \n",
       "2                     Mario Kart Wii      Wii           2008.0        Racing   \n",
       "3                  Wii Sports Resort      Wii           2009.0        Sports   \n",
       "4           Pokemon Red/Pokemon Blue       GB           1996.0  Role-Playing   \n",
       "...                              ...      ...              ...           ...   \n",
       "16710  Samurai Warriors: Sanada Maru      PS3           2016.0        Action   \n",
       "16711               LMA Manager 2007     X360           2006.0        Sports   \n",
       "16712        Haitaka no Psychedelica      PSV           2016.0     Adventure   \n",
       "16713               Spirits & Spells      GBA           2003.0      Platform   \n",
       "16714            Winning Post 8 2016      PSV           2016.0    Simulation   \n",
       "\n",
       "       NA_sales  EU_sales  JP_sales  Other_sales  Critic_Score User_Score  \\\n",
       "0         41.36     28.96      3.77         8.45          76.0          8   \n",
       "1         29.08      3.58      6.81         0.77           NaN        NaN   \n",
       "2         15.68     12.76      3.79         3.29          82.0        8.3   \n",
       "3         15.61     10.93      3.28         2.95          80.0          8   \n",
       "4         11.27      8.89     10.22         1.00           NaN        NaN   \n",
       "...         ...       ...       ...          ...           ...        ...   \n",
       "16710      0.00      0.00      0.01         0.00           NaN        NaN   \n",
       "16711      0.00      0.01      0.00         0.00           NaN        NaN   \n",
       "16712      0.00      0.00      0.01         0.00           NaN        NaN   \n",
       "16713      0.01      0.00      0.00         0.00           NaN        NaN   \n",
       "16714      0.00      0.00      0.01         0.00           NaN        NaN   \n",
       "\n",
       "      Rating  \n",
       "0          E  \n",
       "1        NaN  \n",
       "2          E  \n",
       "3          E  \n",
       "4        NaN  \n",
       "...      ...  \n",
       "16710    NaN  \n",
       "16711    NaN  \n",
       "16712    NaN  \n",
       "16713    NaN  \n",
       "16714    NaN  \n",
       "\n",
       "[16715 rows x 11 columns]"
      ]
     },
     "execution_count": 2,
     "metadata": {},
     "output_type": "execute_result"
    }
   ],
   "source": [
    "games = pd.read_csv('/datasets/games.csv')\n",
    "games"
   ]
  },
  {
   "cell_type": "code",
   "execution_count": 3,
   "metadata": {},
   "outputs": [
    {
     "data": {
      "text/plain": [
       "0"
      ]
     },
     "execution_count": 3,
     "metadata": {},
     "output_type": "execute_result"
    }
   ],
   "source": [
    "games.duplicated().sum()"
   ]
  },
  {
   "cell_type": "markdown",
   "metadata": {},
   "source": [
    "Явных дубликатов не обнаружено."
   ]
  },
  {
   "cell_type": "code",
   "execution_count": 4,
   "metadata": {},
   "outputs": [
    {
     "name": "stdout",
     "output_type": "stream",
     "text": [
      "<class 'pandas.core.frame.DataFrame'>\n",
      "RangeIndex: 16715 entries, 0 to 16714\n",
      "Data columns (total 11 columns):\n",
      " #   Column           Non-Null Count  Dtype  \n",
      "---  ------           --------------  -----  \n",
      " 0   name             16713 non-null  object \n",
      " 1   platform         16715 non-null  object \n",
      " 2   year_of_release  16446 non-null  float64\n",
      " 3   genre            16713 non-null  object \n",
      " 4   na_sales         16715 non-null  float64\n",
      " 5   eu_sales         16715 non-null  float64\n",
      " 6   jp_sales         16715 non-null  float64\n",
      " 7   other_sales      16715 non-null  float64\n",
      " 8   critic_score     8137 non-null   float64\n",
      " 9   user_score       10014 non-null  object \n",
      " 10  rating           9949 non-null   object \n",
      "dtypes: float64(6), object(5)\n",
      "memory usage: 1.4+ MB\n"
     ]
    }
   ],
   "source": [
    "games.columns = games.columns.str.lower()\n",
    "games.info()"
   ]
  },
  {
   "cell_type": "code",
   "execution_count": 5,
   "metadata": {},
   "outputs": [
    {
     "data": {
      "text/html": [
       "<div>\n",
       "<style scoped>\n",
       "    .dataframe tbody tr th:only-of-type {\n",
       "        vertical-align: middle;\n",
       "    }\n",
       "\n",
       "    .dataframe tbody tr th {\n",
       "        vertical-align: top;\n",
       "    }\n",
       "\n",
       "    .dataframe thead th {\n",
       "        text-align: right;\n",
       "    }\n",
       "</style>\n",
       "<table border=\"1\" class=\"dataframe\">\n",
       "  <thead>\n",
       "    <tr style=\"text-align: right;\">\n",
       "      <th></th>\n",
       "      <th>year_of_release</th>\n",
       "      <th>na_sales</th>\n",
       "      <th>eu_sales</th>\n",
       "      <th>jp_sales</th>\n",
       "      <th>other_sales</th>\n",
       "      <th>critic_score</th>\n",
       "    </tr>\n",
       "  </thead>\n",
       "  <tbody>\n",
       "    <tr>\n",
       "      <th>count</th>\n",
       "      <td>16446.000000</td>\n",
       "      <td>16715.000000</td>\n",
       "      <td>16715.000000</td>\n",
       "      <td>16715.000000</td>\n",
       "      <td>16715.000000</td>\n",
       "      <td>8137.000000</td>\n",
       "    </tr>\n",
       "    <tr>\n",
       "      <th>mean</th>\n",
       "      <td>2006.484616</td>\n",
       "      <td>0.263377</td>\n",
       "      <td>0.145060</td>\n",
       "      <td>0.077617</td>\n",
       "      <td>0.047342</td>\n",
       "      <td>68.967679</td>\n",
       "    </tr>\n",
       "    <tr>\n",
       "      <th>std</th>\n",
       "      <td>5.877050</td>\n",
       "      <td>0.813604</td>\n",
       "      <td>0.503339</td>\n",
       "      <td>0.308853</td>\n",
       "      <td>0.186731</td>\n",
       "      <td>13.938165</td>\n",
       "    </tr>\n",
       "    <tr>\n",
       "      <th>min</th>\n",
       "      <td>1980.000000</td>\n",
       "      <td>0.000000</td>\n",
       "      <td>0.000000</td>\n",
       "      <td>0.000000</td>\n",
       "      <td>0.000000</td>\n",
       "      <td>13.000000</td>\n",
       "    </tr>\n",
       "    <tr>\n",
       "      <th>25%</th>\n",
       "      <td>2003.000000</td>\n",
       "      <td>0.000000</td>\n",
       "      <td>0.000000</td>\n",
       "      <td>0.000000</td>\n",
       "      <td>0.000000</td>\n",
       "      <td>60.000000</td>\n",
       "    </tr>\n",
       "    <tr>\n",
       "      <th>50%</th>\n",
       "      <td>2007.000000</td>\n",
       "      <td>0.080000</td>\n",
       "      <td>0.020000</td>\n",
       "      <td>0.000000</td>\n",
       "      <td>0.010000</td>\n",
       "      <td>71.000000</td>\n",
       "    </tr>\n",
       "    <tr>\n",
       "      <th>75%</th>\n",
       "      <td>2010.000000</td>\n",
       "      <td>0.240000</td>\n",
       "      <td>0.110000</td>\n",
       "      <td>0.040000</td>\n",
       "      <td>0.030000</td>\n",
       "      <td>79.000000</td>\n",
       "    </tr>\n",
       "    <tr>\n",
       "      <th>max</th>\n",
       "      <td>2016.000000</td>\n",
       "      <td>41.360000</td>\n",
       "      <td>28.960000</td>\n",
       "      <td>10.220000</td>\n",
       "      <td>10.570000</td>\n",
       "      <td>98.000000</td>\n",
       "    </tr>\n",
       "  </tbody>\n",
       "</table>\n",
       "</div>"
      ],
      "text/plain": [
       "       year_of_release      na_sales      eu_sales      jp_sales  \\\n",
       "count     16446.000000  16715.000000  16715.000000  16715.000000   \n",
       "mean       2006.484616      0.263377      0.145060      0.077617   \n",
       "std           5.877050      0.813604      0.503339      0.308853   \n",
       "min        1980.000000      0.000000      0.000000      0.000000   \n",
       "25%        2003.000000      0.000000      0.000000      0.000000   \n",
       "50%        2007.000000      0.080000      0.020000      0.000000   \n",
       "75%        2010.000000      0.240000      0.110000      0.040000   \n",
       "max        2016.000000     41.360000     28.960000     10.220000   \n",
       "\n",
       "        other_sales  critic_score  \n",
       "count  16715.000000   8137.000000  \n",
       "mean       0.047342     68.967679  \n",
       "std        0.186731     13.938165  \n",
       "min        0.000000     13.000000  \n",
       "25%        0.000000     60.000000  \n",
       "50%        0.010000     71.000000  \n",
       "75%        0.030000     79.000000  \n",
       "max       10.570000     98.000000  "
      ]
     },
     "execution_count": 5,
     "metadata": {},
     "output_type": "execute_result"
    }
   ],
   "source": [
    "games.describe()"
   ]
  },
  {
   "cell_type": "code",
   "execution_count": 6,
   "metadata": {},
   "outputs": [
    {
     "data": {
      "text/plain": [
       "array(['8', nan, '8.3', '8.5', '6.6', '8.4', '8.6', '7.7', '6.3', '7.4',\n",
       "       '8.2', '9', '7.9', '8.1', '8.7', '7.1', '3.4', '5.3', '4.8', '3.2',\n",
       "       '8.9', '6.4', '7.8', '7.5', '2.6', '7.2', '9.2', '7', '7.3', '4.3',\n",
       "       '7.6', '5.7', '5', '9.1', '6.5', 'tbd', '8.8', '6.9', '9.4', '6.8',\n",
       "       '6.1', '6.7', '5.4', '4', '4.9', '4.5', '9.3', '6.2', '4.2', '6',\n",
       "       '3.7', '4.1', '5.8', '5.6', '5.5', '4.4', '4.6', '5.9', '3.9',\n",
       "       '3.1', '2.9', '5.2', '3.3', '4.7', '5.1', '3.5', '2.5', '1.9', '3',\n",
       "       '2.7', '2.2', '2', '9.5', '2.1', '3.6', '2.8', '1.8', '3.8', '0',\n",
       "       '1.6', '9.6', '2.4', '1.7', '1.1', '0.3', '1.5', '0.7', '1.2',\n",
       "       '2.3', '0.5', '1.3', '0.2', '0.6', '1.4', '0.9', '1', '9.7'],\n",
       "      dtype=object)"
      ]
     },
     "execution_count": 6,
     "metadata": {},
     "output_type": "execute_result"
    }
   ],
   "source": [
    "games['user_score'].unique()"
   ]
  },
  {
   "cell_type": "code",
   "execution_count": 7,
   "metadata": {},
   "outputs": [
    {
     "data": {
      "text/plain": [
       "array(['8', nan, '8.3', '8.5', '6.6', '8.4', '8.6', '7.7', '6.3', '7.4',\n",
       "       '8.2', '9', '7.9', '8.1', '8.7', '7.1', '3.4', '5.3', '4.8', '3.2',\n",
       "       '8.9', '6.4', '7.8', '7.5', '2.6', '7.2', '9.2', '7', '7.3', '4.3',\n",
       "       '7.6', '5.7', '5', '9.1', '6.5', '8.8', '6.9', '9.4', '6.8', '6.1',\n",
       "       '6.7', '5.4', '4', '4.9', '4.5', '9.3', '6.2', '4.2', '6', '3.7',\n",
       "       '4.1', '5.8', '5.6', '5.5', '4.4', '4.6', '5.9', '3.9', '3.1',\n",
       "       '2.9', '5.2', '3.3', '4.7', '5.1', '3.5', '2.5', '1.9', '3', '2.7',\n",
       "       '2.2', '2', '9.5', '2.1', '3.6', '2.8', '1.8', '3.8', '0', '1.6',\n",
       "       '9.6', '2.4', '1.7', '1.1', '0.3', '1.5', '0.7', '1.2', '2.3',\n",
       "       '0.5', '1.3', '0.2', '0.6', '1.4', '0.9', '1', '9.7'], dtype=object)"
      ]
     },
     "execution_count": 7,
     "metadata": {},
     "output_type": "execute_result"
    }
   ],
   "source": [
    "games['user_score'] = games['user_score'].replace('tbd',np.nan,regex=True)\n",
    "games['user_score'].unique()"
   ]
  },
  {
   "cell_type": "code",
   "execution_count": 8,
   "metadata": {},
   "outputs": [],
   "source": [
    "games.dropna(subset=['year_of_release','genre','name'],inplace=True)"
   ]
  },
  {
   "cell_type": "code",
   "execution_count": 9,
   "metadata": {},
   "outputs": [
    {
     "data": {
      "text/plain": [
       "array([2006., 1985., 2008., 2009., 1996., 1989., 1984., 2005., 1999.,\n",
       "       2007., 2010., 2013., 2004., 1990., 1988., 2002., 2001., 2011.,\n",
       "       1998., 2015., 2012., 2014., 1992., 1997., 1993., 1994., 1982.,\n",
       "       2016., 2003., 1986., 2000., 1995., 1991., 1981., 1987., 1980.,\n",
       "       1983.])"
      ]
     },
     "execution_count": 9,
     "metadata": {},
     "output_type": "execute_result"
    }
   ],
   "source": [
    "games['year_of_release'].unique()"
   ]
  },
  {
   "cell_type": "code",
   "execution_count": 10,
   "metadata": {},
   "outputs": [
    {
     "data": {
      "text/plain": [
       "array(['Sports', 'Platform', 'Racing', 'Role-Playing', 'Puzzle', 'Misc',\n",
       "       'Shooter', 'Simulation', 'Action', 'Fighting', 'Adventure',\n",
       "       'Strategy'], dtype=object)"
      ]
     },
     "execution_count": 10,
     "metadata": {},
     "output_type": "execute_result"
    }
   ],
   "source": [
    "games['genre'].unique()"
   ]
  },
  {
   "cell_type": "code",
   "execution_count": 11,
   "metadata": {},
   "outputs": [],
   "source": [
    "games['year_of_release'] = games['year_of_release'].astype('int')\n",
    "games['user_score'] = games['user_score'].astype('float')\n",
    "games['rating'] = games['rating'].fillna('No_rating')"
   ]
  },
  {
   "cell_type": "markdown",
   "metadata": {},
   "source": [
    " В столбце user_score 'tbd' перевести nan,пропуски в name,genre,year_of_release удалены."
   ]
  },
  {
   "cell_type": "code",
   "execution_count": 12,
   "metadata": {},
   "outputs": [],
   "source": [
    "games['sum_sales'] = games['na_sales'] + games['eu_sales'] + games['jp_sales'] + games['other_sales']"
   ]
  },
  {
   "cell_type": "code",
   "execution_count": 13,
   "metadata": {},
   "outputs": [
    {
     "data": {
      "text/html": [
       "<div>\n",
       "<style scoped>\n",
       "    .dataframe tbody tr th:only-of-type {\n",
       "        vertical-align: middle;\n",
       "    }\n",
       "\n",
       "    .dataframe tbody tr th {\n",
       "        vertical-align: top;\n",
       "    }\n",
       "\n",
       "    .dataframe thead th {\n",
       "        text-align: right;\n",
       "    }\n",
       "</style>\n",
       "<table border=\"1\" class=\"dataframe\">\n",
       "  <thead>\n",
       "    <tr style=\"text-align: right;\">\n",
       "      <th></th>\n",
       "      <th>name</th>\n",
       "      <th>platform</th>\n",
       "      <th>year_of_release</th>\n",
       "      <th>genre</th>\n",
       "      <th>na_sales</th>\n",
       "      <th>eu_sales</th>\n",
       "      <th>jp_sales</th>\n",
       "      <th>other_sales</th>\n",
       "      <th>critic_score</th>\n",
       "      <th>user_score</th>\n",
       "      <th>rating</th>\n",
       "      <th>sum_sales</th>\n",
       "    </tr>\n",
       "  </thead>\n",
       "  <tbody>\n",
       "    <tr>\n",
       "      <th>0</th>\n",
       "      <td>Wii Sports</td>\n",
       "      <td>Wii</td>\n",
       "      <td>2006</td>\n",
       "      <td>Sports</td>\n",
       "      <td>41.36</td>\n",
       "      <td>28.96</td>\n",
       "      <td>3.77</td>\n",
       "      <td>8.45</td>\n",
       "      <td>76.0</td>\n",
       "      <td>8.0</td>\n",
       "      <td>E</td>\n",
       "      <td>82.54</td>\n",
       "    </tr>\n",
       "    <tr>\n",
       "      <th>1</th>\n",
       "      <td>Super Mario Bros.</td>\n",
       "      <td>NES</td>\n",
       "      <td>1985</td>\n",
       "      <td>Platform</td>\n",
       "      <td>29.08</td>\n",
       "      <td>3.58</td>\n",
       "      <td>6.81</td>\n",
       "      <td>0.77</td>\n",
       "      <td>NaN</td>\n",
       "      <td>NaN</td>\n",
       "      <td>No_rating</td>\n",
       "      <td>40.24</td>\n",
       "    </tr>\n",
       "    <tr>\n",
       "      <th>2</th>\n",
       "      <td>Mario Kart Wii</td>\n",
       "      <td>Wii</td>\n",
       "      <td>2008</td>\n",
       "      <td>Racing</td>\n",
       "      <td>15.68</td>\n",
       "      <td>12.76</td>\n",
       "      <td>3.79</td>\n",
       "      <td>3.29</td>\n",
       "      <td>82.0</td>\n",
       "      <td>8.3</td>\n",
       "      <td>E</td>\n",
       "      <td>35.52</td>\n",
       "    </tr>\n",
       "    <tr>\n",
       "      <th>3</th>\n",
       "      <td>Wii Sports Resort</td>\n",
       "      <td>Wii</td>\n",
       "      <td>2009</td>\n",
       "      <td>Sports</td>\n",
       "      <td>15.61</td>\n",
       "      <td>10.93</td>\n",
       "      <td>3.28</td>\n",
       "      <td>2.95</td>\n",
       "      <td>80.0</td>\n",
       "      <td>8.0</td>\n",
       "      <td>E</td>\n",
       "      <td>32.77</td>\n",
       "    </tr>\n",
       "    <tr>\n",
       "      <th>4</th>\n",
       "      <td>Pokemon Red/Pokemon Blue</td>\n",
       "      <td>GB</td>\n",
       "      <td>1996</td>\n",
       "      <td>Role-Playing</td>\n",
       "      <td>11.27</td>\n",
       "      <td>8.89</td>\n",
       "      <td>10.22</td>\n",
       "      <td>1.00</td>\n",
       "      <td>NaN</td>\n",
       "      <td>NaN</td>\n",
       "      <td>No_rating</td>\n",
       "      <td>31.38</td>\n",
       "    </tr>\n",
       "    <tr>\n",
       "      <th>...</th>\n",
       "      <td>...</td>\n",
       "      <td>...</td>\n",
       "      <td>...</td>\n",
       "      <td>...</td>\n",
       "      <td>...</td>\n",
       "      <td>...</td>\n",
       "      <td>...</td>\n",
       "      <td>...</td>\n",
       "      <td>...</td>\n",
       "      <td>...</td>\n",
       "      <td>...</td>\n",
       "      <td>...</td>\n",
       "    </tr>\n",
       "    <tr>\n",
       "      <th>16183</th>\n",
       "      <td>Uta no * Prince-Sama: Sweet Serenade</td>\n",
       "      <td>PSP</td>\n",
       "      <td>2011</td>\n",
       "      <td>Adventure</td>\n",
       "      <td>0.00</td>\n",
       "      <td>0.00</td>\n",
       "      <td>0.01</td>\n",
       "      <td>0.00</td>\n",
       "      <td>NaN</td>\n",
       "      <td>NaN</td>\n",
       "      <td>No_rating</td>\n",
       "      <td>0.01</td>\n",
       "    </tr>\n",
       "    <tr>\n",
       "      <th>16184</th>\n",
       "      <td>Higurashi no Naku Koro ni Iki</td>\n",
       "      <td>PS3</td>\n",
       "      <td>2015</td>\n",
       "      <td>Action</td>\n",
       "      <td>0.00</td>\n",
       "      <td>0.00</td>\n",
       "      <td>0.01</td>\n",
       "      <td>0.00</td>\n",
       "      <td>NaN</td>\n",
       "      <td>NaN</td>\n",
       "      <td>No_rating</td>\n",
       "      <td>0.01</td>\n",
       "    </tr>\n",
       "    <tr>\n",
       "      <th>16714</th>\n",
       "      <td>Winning Post 8 2016</td>\n",
       "      <td>PSV</td>\n",
       "      <td>2016</td>\n",
       "      <td>Simulation</td>\n",
       "      <td>0.00</td>\n",
       "      <td>0.00</td>\n",
       "      <td>0.01</td>\n",
       "      <td>0.00</td>\n",
       "      <td>NaN</td>\n",
       "      <td>NaN</td>\n",
       "      <td>No_rating</td>\n",
       "      <td>0.01</td>\n",
       "    </tr>\n",
       "    <tr>\n",
       "      <th>16676</th>\n",
       "      <td>G1 Jockey 4 2008</td>\n",
       "      <td>PS3</td>\n",
       "      <td>2008</td>\n",
       "      <td>Sports</td>\n",
       "      <td>0.00</td>\n",
       "      <td>0.00</td>\n",
       "      <td>0.00</td>\n",
       "      <td>0.00</td>\n",
       "      <td>NaN</td>\n",
       "      <td>NaN</td>\n",
       "      <td>No_rating</td>\n",
       "      <td>0.00</td>\n",
       "    </tr>\n",
       "    <tr>\n",
       "      <th>16709</th>\n",
       "      <td>SCORE International Baja 1000: The Official Game</td>\n",
       "      <td>PS2</td>\n",
       "      <td>2008</td>\n",
       "      <td>Racing</td>\n",
       "      <td>0.00</td>\n",
       "      <td>0.00</td>\n",
       "      <td>0.00</td>\n",
       "      <td>0.00</td>\n",
       "      <td>NaN</td>\n",
       "      <td>NaN</td>\n",
       "      <td>No_rating</td>\n",
       "      <td>0.00</td>\n",
       "    </tr>\n",
       "  </tbody>\n",
       "</table>\n",
       "<p>16444 rows × 12 columns</p>\n",
       "</div>"
      ],
      "text/plain": [
       "                                                   name platform  \\\n",
       "0                                            Wii Sports      Wii   \n",
       "1                                     Super Mario Bros.      NES   \n",
       "2                                        Mario Kart Wii      Wii   \n",
       "3                                     Wii Sports Resort      Wii   \n",
       "4                              Pokemon Red/Pokemon Blue       GB   \n",
       "...                                                 ...      ...   \n",
       "16183              Uta no * Prince-Sama: Sweet Serenade      PSP   \n",
       "16184                     Higurashi no Naku Koro ni Iki      PS3   \n",
       "16714                               Winning Post 8 2016      PSV   \n",
       "16676                                  G1 Jockey 4 2008      PS3   \n",
       "16709  SCORE International Baja 1000: The Official Game      PS2   \n",
       "\n",
       "       year_of_release         genre  na_sales  eu_sales  jp_sales  \\\n",
       "0                 2006        Sports     41.36     28.96      3.77   \n",
       "1                 1985      Platform     29.08      3.58      6.81   \n",
       "2                 2008        Racing     15.68     12.76      3.79   \n",
       "3                 2009        Sports     15.61     10.93      3.28   \n",
       "4                 1996  Role-Playing     11.27      8.89     10.22   \n",
       "...                ...           ...       ...       ...       ...   \n",
       "16183             2011     Adventure      0.00      0.00      0.01   \n",
       "16184             2015        Action      0.00      0.00      0.01   \n",
       "16714             2016    Simulation      0.00      0.00      0.01   \n",
       "16676             2008        Sports      0.00      0.00      0.00   \n",
       "16709             2008        Racing      0.00      0.00      0.00   \n",
       "\n",
       "       other_sales  critic_score  user_score     rating  sum_sales  \n",
       "0             8.45          76.0         8.0          E      82.54  \n",
       "1             0.77           NaN         NaN  No_rating      40.24  \n",
       "2             3.29          82.0         8.3          E      35.52  \n",
       "3             2.95          80.0         8.0          E      32.77  \n",
       "4             1.00           NaN         NaN  No_rating      31.38  \n",
       "...            ...           ...         ...        ...        ...  \n",
       "16183         0.00           NaN         NaN  No_rating       0.01  \n",
       "16184         0.00           NaN         NaN  No_rating       0.01  \n",
       "16714         0.00           NaN         NaN  No_rating       0.01  \n",
       "16676         0.00           NaN         NaN  No_rating       0.00  \n",
       "16709         0.00           NaN         NaN  No_rating       0.00  \n",
       "\n",
       "[16444 rows x 12 columns]"
      ]
     },
     "execution_count": 13,
     "metadata": {},
     "output_type": "execute_result"
    }
   ],
   "source": [
    "games.sort_values('sum_sales',ascending=False)"
   ]
  },
  {
   "cell_type": "markdown",
   "metadata": {},
   "source": [
    "## Исследовательский анализ данных"
   ]
  },
  {
   "cell_type": "markdown",
   "metadata": {},
   "source": [
    "### Сколько игр выпускалось в разные годы"
   ]
  },
  {
   "cell_type": "code",
   "execution_count": 15,
   "metadata": {},
   "outputs": [
    {
     "data": {
      "text/html": [
       "<div>\n",
       "<style scoped>\n",
       "    .dataframe tbody tr th:only-of-type {\n",
       "        vertical-align: middle;\n",
       "    }\n",
       "\n",
       "    .dataframe tbody tr th {\n",
       "        vertical-align: top;\n",
       "    }\n",
       "\n",
       "    .dataframe thead th {\n",
       "        text-align: right;\n",
       "    }\n",
       "</style>\n",
       "<table border=\"1\" class=\"dataframe\">\n",
       "  <thead>\n",
       "    <tr style=\"text-align: right;\">\n",
       "      <th></th>\n",
       "      <th>name</th>\n",
       "    </tr>\n",
       "    <tr>\n",
       "      <th>year_of_release</th>\n",
       "      <th></th>\n",
       "    </tr>\n",
       "  </thead>\n",
       "  <tbody>\n",
       "    <tr>\n",
       "      <th>1980</th>\n",
       "      <td>9</td>\n",
       "    </tr>\n",
       "    <tr>\n",
       "      <th>1981</th>\n",
       "      <td>46</td>\n",
       "    </tr>\n",
       "    <tr>\n",
       "      <th>1982</th>\n",
       "      <td>36</td>\n",
       "    </tr>\n",
       "    <tr>\n",
       "      <th>1983</th>\n",
       "      <td>17</td>\n",
       "    </tr>\n",
       "    <tr>\n",
       "      <th>1984</th>\n",
       "      <td>14</td>\n",
       "    </tr>\n",
       "    <tr>\n",
       "      <th>1985</th>\n",
       "      <td>14</td>\n",
       "    </tr>\n",
       "    <tr>\n",
       "      <th>1986</th>\n",
       "      <td>21</td>\n",
       "    </tr>\n",
       "    <tr>\n",
       "      <th>1987</th>\n",
       "      <td>16</td>\n",
       "    </tr>\n",
       "    <tr>\n",
       "      <th>1988</th>\n",
       "      <td>15</td>\n",
       "    </tr>\n",
       "    <tr>\n",
       "      <th>1989</th>\n",
       "      <td>17</td>\n",
       "    </tr>\n",
       "    <tr>\n",
       "      <th>1990</th>\n",
       "      <td>16</td>\n",
       "    </tr>\n",
       "    <tr>\n",
       "      <th>1991</th>\n",
       "      <td>41</td>\n",
       "    </tr>\n",
       "    <tr>\n",
       "      <th>1992</th>\n",
       "      <td>43</td>\n",
       "    </tr>\n",
       "    <tr>\n",
       "      <th>1993</th>\n",
       "      <td>60</td>\n",
       "    </tr>\n",
       "    <tr>\n",
       "      <th>1994</th>\n",
       "      <td>121</td>\n",
       "    </tr>\n",
       "    <tr>\n",
       "      <th>1995</th>\n",
       "      <td>219</td>\n",
       "    </tr>\n",
       "    <tr>\n",
       "      <th>1996</th>\n",
       "      <td>263</td>\n",
       "    </tr>\n",
       "    <tr>\n",
       "      <th>1997</th>\n",
       "      <td>289</td>\n",
       "    </tr>\n",
       "    <tr>\n",
       "      <th>1998</th>\n",
       "      <td>379</td>\n",
       "    </tr>\n",
       "    <tr>\n",
       "      <th>1999</th>\n",
       "      <td>338</td>\n",
       "    </tr>\n",
       "    <tr>\n",
       "      <th>2000</th>\n",
       "      <td>350</td>\n",
       "    </tr>\n",
       "    <tr>\n",
       "      <th>2001</th>\n",
       "      <td>482</td>\n",
       "    </tr>\n",
       "    <tr>\n",
       "      <th>2002</th>\n",
       "      <td>829</td>\n",
       "    </tr>\n",
       "    <tr>\n",
       "      <th>2003</th>\n",
       "      <td>775</td>\n",
       "    </tr>\n",
       "    <tr>\n",
       "      <th>2004</th>\n",
       "      <td>762</td>\n",
       "    </tr>\n",
       "    <tr>\n",
       "      <th>2005</th>\n",
       "      <td>939</td>\n",
       "    </tr>\n",
       "    <tr>\n",
       "      <th>2006</th>\n",
       "      <td>1006</td>\n",
       "    </tr>\n",
       "    <tr>\n",
       "      <th>2007</th>\n",
       "      <td>1197</td>\n",
       "    </tr>\n",
       "    <tr>\n",
       "      <th>2008</th>\n",
       "      <td>1427</td>\n",
       "    </tr>\n",
       "    <tr>\n",
       "      <th>2009</th>\n",
       "      <td>1426</td>\n",
       "    </tr>\n",
       "    <tr>\n",
       "      <th>2010</th>\n",
       "      <td>1255</td>\n",
       "    </tr>\n",
       "    <tr>\n",
       "      <th>2011</th>\n",
       "      <td>1136</td>\n",
       "    </tr>\n",
       "    <tr>\n",
       "      <th>2012</th>\n",
       "      <td>653</td>\n",
       "    </tr>\n",
       "    <tr>\n",
       "      <th>2013</th>\n",
       "      <td>544</td>\n",
       "    </tr>\n",
       "    <tr>\n",
       "      <th>2014</th>\n",
       "      <td>581</td>\n",
       "    </tr>\n",
       "    <tr>\n",
       "      <th>2015</th>\n",
       "      <td>606</td>\n",
       "    </tr>\n",
       "    <tr>\n",
       "      <th>2016</th>\n",
       "      <td>502</td>\n",
       "    </tr>\n",
       "  </tbody>\n",
       "</table>\n",
       "</div>"
      ],
      "text/plain": [
       "                 name\n",
       "year_of_release      \n",
       "1980                9\n",
       "1981               46\n",
       "1982               36\n",
       "1983               17\n",
       "1984               14\n",
       "1985               14\n",
       "1986               21\n",
       "1987               16\n",
       "1988               15\n",
       "1989               17\n",
       "1990               16\n",
       "1991               41\n",
       "1992               43\n",
       "1993               60\n",
       "1994              121\n",
       "1995              219\n",
       "1996              263\n",
       "1997              289\n",
       "1998              379\n",
       "1999              338\n",
       "2000              350\n",
       "2001              482\n",
       "2002              829\n",
       "2003              775\n",
       "2004              762\n",
       "2005              939\n",
       "2006             1006\n",
       "2007             1197\n",
       "2008             1427\n",
       "2009             1426\n",
       "2010             1255\n",
       "2011             1136\n",
       "2012              653\n",
       "2013              544\n",
       "2014              581\n",
       "2015              606\n",
       "2016              502"
      ]
     },
     "execution_count": 15,
     "metadata": {},
     "output_type": "execute_result"
    }
   ],
   "source": [
    "pivot_table_games_year = games.pivot_table(index = 'year_of_release',values = 'name', aggfunc = 'count')\n",
    "pivot_table_games_year"
   ]
  },
  {
   "cell_type": "code",
   "execution_count": 16,
   "metadata": {},
   "outputs": [
    {
     "data": {
      "image/png": "[encoded data removed]",
      "text/plain": [
       "<Figure size 432x288 with 1 Axes>"
      ]
     },
     "metadata": {
      "needs_background": "light"
     },
     "output_type": "display_data"
    }
   ],
   "source": [
    "pivot_table_games_year.plot();\n",
    "plt.title('Количество игр выпускаемых в год с 1980г по 2016г')\n",
    "plt.xlabel('Год');\n",
    "plt.ylabel('Количество игр');"
   ]
  },
  {
   "cell_type": "markdown",
   "metadata": {},
   "source": [
    "Количество компьютерных игр было на пике в 2009 году.После этого игр стало выпускаться меньше."
   ]
  },
  {
   "cell_type": "markdown",
   "metadata": {},
   "source": [
    "### Платформы с наибольшими суммарными продажами"
   ]
  },
  {
   "cell_type": "code",
   "execution_count": 17,
   "metadata": {},
   "outputs": [
    {
     "data": {
      "text/html": [
       "<div>\n",
       "<style scoped>\n",
       "    .dataframe tbody tr th:only-of-type {\n",
       "        vertical-align: middle;\n",
       "    }\n",
       "\n",
       "    .dataframe tbody tr th {\n",
       "        vertical-align: top;\n",
       "    }\n",
       "\n",
       "    .dataframe thead th {\n",
       "        text-align: right;\n",
       "    }\n",
       "</style>\n",
       "<table border=\"1\" class=\"dataframe\">\n",
       "  <thead>\n",
       "    <tr style=\"text-align: right;\">\n",
       "      <th></th>\n",
       "      <th>sum_sales</th>\n",
       "    </tr>\n",
       "    <tr>\n",
       "      <th>platform</th>\n",
       "      <th></th>\n",
       "    </tr>\n",
       "  </thead>\n",
       "  <tbody>\n",
       "    <tr>\n",
       "      <th>PS2</th>\n",
       "      <td>1233.56</td>\n",
       "    </tr>\n",
       "    <tr>\n",
       "      <th>X360</th>\n",
       "      <td>961.24</td>\n",
       "    </tr>\n",
       "    <tr>\n",
       "      <th>PS3</th>\n",
       "      <td>931.34</td>\n",
       "    </tr>\n",
       "    <tr>\n",
       "      <th>Wii</th>\n",
       "      <td>891.18</td>\n",
       "    </tr>\n",
       "    <tr>\n",
       "      <th>DS</th>\n",
       "      <td>802.78</td>\n",
       "    </tr>\n",
       "    <tr>\n",
       "      <th>PS</th>\n",
       "      <td>727.58</td>\n",
       "    </tr>\n",
       "    <tr>\n",
       "      <th>PS4</th>\n",
       "      <td>314.14</td>\n",
       "    </tr>\n",
       "    <tr>\n",
       "      <th>GBA</th>\n",
       "      <td>312.88</td>\n",
       "    </tr>\n",
       "    <tr>\n",
       "      <th>PSP</th>\n",
       "      <td>289.53</td>\n",
       "    </tr>\n",
       "    <tr>\n",
       "      <th>3DS</th>\n",
       "      <td>257.81</td>\n",
       "    </tr>\n",
       "    <tr>\n",
       "      <th>PC</th>\n",
       "      <td>255.76</td>\n",
       "    </tr>\n",
       "    <tr>\n",
       "      <th>GB</th>\n",
       "      <td>254.43</td>\n",
       "    </tr>\n",
       "    <tr>\n",
       "      <th>XB</th>\n",
       "      <td>251.57</td>\n",
       "    </tr>\n",
       "    <tr>\n",
       "      <th>NES</th>\n",
       "      <td>251.05</td>\n",
       "    </tr>\n",
       "    <tr>\n",
       "      <th>N64</th>\n",
       "      <td>218.01</td>\n",
       "    </tr>\n",
       "    <tr>\n",
       "      <th>SNES</th>\n",
       "      <td>200.04</td>\n",
       "    </tr>\n",
       "    <tr>\n",
       "      <th>GC</th>\n",
       "      <td>196.73</td>\n",
       "    </tr>\n",
       "    <tr>\n",
       "      <th>XOne</th>\n",
       "      <td>159.32</td>\n",
       "    </tr>\n",
       "    <tr>\n",
       "      <th>2600</th>\n",
       "      <td>86.48</td>\n",
       "    </tr>\n",
       "    <tr>\n",
       "      <th>WiiU</th>\n",
       "      <td>82.19</td>\n",
       "    </tr>\n",
       "    <tr>\n",
       "      <th>PSV</th>\n",
       "      <td>53.81</td>\n",
       "    </tr>\n",
       "    <tr>\n",
       "      <th>SAT</th>\n",
       "      <td>33.59</td>\n",
       "    </tr>\n",
       "    <tr>\n",
       "      <th>GEN</th>\n",
       "      <td>28.35</td>\n",
       "    </tr>\n",
       "    <tr>\n",
       "      <th>DC</th>\n",
       "      <td>15.95</td>\n",
       "    </tr>\n",
       "    <tr>\n",
       "      <th>SCD</th>\n",
       "      <td>1.86</td>\n",
       "    </tr>\n",
       "    <tr>\n",
       "      <th>NG</th>\n",
       "      <td>1.44</td>\n",
       "    </tr>\n",
       "    <tr>\n",
       "      <th>WS</th>\n",
       "      <td>1.42</td>\n",
       "    </tr>\n",
       "    <tr>\n",
       "      <th>TG16</th>\n",
       "      <td>0.16</td>\n",
       "    </tr>\n",
       "    <tr>\n",
       "      <th>3DO</th>\n",
       "      <td>0.10</td>\n",
       "    </tr>\n",
       "    <tr>\n",
       "      <th>GG</th>\n",
       "      <td>0.04</td>\n",
       "    </tr>\n",
       "    <tr>\n",
       "      <th>PCFX</th>\n",
       "      <td>0.03</td>\n",
       "    </tr>\n",
       "  </tbody>\n",
       "</table>\n",
       "</div>"
      ],
      "text/plain": [
       "          sum_sales\n",
       "platform           \n",
       "PS2         1233.56\n",
       "X360         961.24\n",
       "PS3          931.34\n",
       "Wii          891.18\n",
       "DS           802.78\n",
       "PS           727.58\n",
       "PS4          314.14\n",
       "GBA          312.88\n",
       "PSP          289.53\n",
       "3DS          257.81\n",
       "PC           255.76\n",
       "GB           254.43\n",
       "XB           251.57\n",
       "NES          251.05\n",
       "N64          218.01\n",
       "SNES         200.04\n",
       "GC           196.73\n",
       "XOne         159.32\n",
       "2600          86.48\n",
       "WiiU          82.19\n",
       "PSV           53.81\n",
       "SAT           33.59\n",
       "GEN           28.35\n",
       "DC            15.95\n",
       "SCD            1.86\n",
       "NG             1.44\n",
       "WS             1.42\n",
       "TG16           0.16\n",
       "3DO            0.10\n",
       "GG             0.04\n",
       "PCFX           0.03"
      ]
     },
     "execution_count": 17,
     "metadata": {},
     "output_type": "execute_result"
    }
   ],
   "source": [
    "pivot_table_sum_sales_platform = games.pivot_table(index = 'platform',values = 'sum_sales',aggfunc = 'sum')\n",
    "pivot_table_sum_sales_platform = pivot_table_sum_sales_platform.sort_values('sum_sales',ascending = False)\n",
    "pivot_table_sum_sales_platform "
   ]
  },
  {
   "cell_type": "code",
   "execution_count": 18,
   "metadata": {},
   "outputs": [],
   "source": [
    "top_platform = ['PS2','PS3','X360','DS','Wii','PC']"
   ]
  },
  {
   "cell_type": "code",
   "execution_count": 19,
   "metadata": {},
   "outputs": [
    {
     "data": {
      "image/png": "[encoded data removed]",
      "text/plain": [
       "<Figure size 432x288 with 1 Axes>"
      ]
     },
     "metadata": {
      "needs_background": "light"
     },
     "output_type": "display_data"
    }
   ],
   "source": [
    "top_platform_pivot_table = games.query('platform in @top_platform').pivot_table(index ='year_of_release',columns = 'platform',values = 'name',aggfunc = 'count' )\n",
    "top_platform_pivot_table.plot();\n",
    "plt.xlim([1985, 2016]);\n",
    "plt.title('Количество выпускаемых игр для топ 6 платформ по продажам');\n",
    "plt.xlabel('Год');\n",
    "plt.ylabel('Количество игр');"
   ]
  },
  {
   "cell_type": "markdown",
   "metadata": {},
   "source": [
    "В среднем платформа живет около 10 лет,кроме платформы \"PC\".Пик  примерно по середине,с учетом этого можно выбрать период от 2012 ,и посмотреть на платформы ,которые идут в рост по количеству игр или по продажам."
   ]
  },
  {
   "cell_type": "markdown",
   "metadata": {},
   "source": [
    "### Актуальный период"
   ]
  },
  {
   "cell_type": "code",
   "execution_count": 20,
   "metadata": {},
   "outputs": [
    {
     "data": {
      "text/html": [
       "<div>\n",
       "<style scoped>\n",
       "    .dataframe tbody tr th:only-of-type {\n",
       "        vertical-align: middle;\n",
       "    }\n",
       "\n",
       "    .dataframe tbody tr th {\n",
       "        vertical-align: top;\n",
       "    }\n",
       "\n",
       "    .dataframe thead th {\n",
       "        text-align: right;\n",
       "    }\n",
       "</style>\n",
       "<table border=\"1\" class=\"dataframe\">\n",
       "  <thead>\n",
       "    <tr style=\"text-align: right;\">\n",
       "      <th></th>\n",
       "      <th>name</th>\n",
       "      <th>platform</th>\n",
       "      <th>year_of_release</th>\n",
       "      <th>genre</th>\n",
       "      <th>na_sales</th>\n",
       "      <th>eu_sales</th>\n",
       "      <th>jp_sales</th>\n",
       "      <th>other_sales</th>\n",
       "      <th>critic_score</th>\n",
       "      <th>user_score</th>\n",
       "      <th>rating</th>\n",
       "      <th>sum_sales</th>\n",
       "    </tr>\n",
       "  </thead>\n",
       "  <tbody>\n",
       "    <tr>\n",
       "      <th>16</th>\n",
       "      <td>Grand Theft Auto V</td>\n",
       "      <td>PS3</td>\n",
       "      <td>2013</td>\n",
       "      <td>Action</td>\n",
       "      <td>7.02</td>\n",
       "      <td>9.09</td>\n",
       "      <td>0.98</td>\n",
       "      <td>3.96</td>\n",
       "      <td>97.0</td>\n",
       "      <td>8.2</td>\n",
       "      <td>M</td>\n",
       "      <td>21.05</td>\n",
       "    </tr>\n",
       "    <tr>\n",
       "      <th>23</th>\n",
       "      <td>Grand Theft Auto V</td>\n",
       "      <td>X360</td>\n",
       "      <td>2013</td>\n",
       "      <td>Action</td>\n",
       "      <td>9.66</td>\n",
       "      <td>5.14</td>\n",
       "      <td>0.06</td>\n",
       "      <td>1.41</td>\n",
       "      <td>97.0</td>\n",
       "      <td>8.1</td>\n",
       "      <td>M</td>\n",
       "      <td>16.27</td>\n",
       "    </tr>\n",
       "    <tr>\n",
       "      <th>31</th>\n",
       "      <td>Call of Duty: Black Ops 3</td>\n",
       "      <td>PS4</td>\n",
       "      <td>2015</td>\n",
       "      <td>Shooter</td>\n",
       "      <td>6.03</td>\n",
       "      <td>5.86</td>\n",
       "      <td>0.36</td>\n",
       "      <td>2.38</td>\n",
       "      <td>NaN</td>\n",
       "      <td>NaN</td>\n",
       "      <td>No_rating</td>\n",
       "      <td>14.63</td>\n",
       "    </tr>\n",
       "    <tr>\n",
       "      <th>33</th>\n",
       "      <td>Pokemon X/Pokemon Y</td>\n",
       "      <td>3DS</td>\n",
       "      <td>2013</td>\n",
       "      <td>Role-Playing</td>\n",
       "      <td>5.28</td>\n",
       "      <td>4.19</td>\n",
       "      <td>4.35</td>\n",
       "      <td>0.78</td>\n",
       "      <td>NaN</td>\n",
       "      <td>NaN</td>\n",
       "      <td>No_rating</td>\n",
       "      <td>14.60</td>\n",
       "    </tr>\n",
       "    <tr>\n",
       "      <th>34</th>\n",
       "      <td>Call of Duty: Black Ops II</td>\n",
       "      <td>PS3</td>\n",
       "      <td>2012</td>\n",
       "      <td>Shooter</td>\n",
       "      <td>4.99</td>\n",
       "      <td>5.73</td>\n",
       "      <td>0.65</td>\n",
       "      <td>2.42</td>\n",
       "      <td>83.0</td>\n",
       "      <td>5.3</td>\n",
       "      <td>M</td>\n",
       "      <td>13.79</td>\n",
       "    </tr>\n",
       "    <tr>\n",
       "      <th>...</th>\n",
       "      <td>...</td>\n",
       "      <td>...</td>\n",
       "      <td>...</td>\n",
       "      <td>...</td>\n",
       "      <td>...</td>\n",
       "      <td>...</td>\n",
       "      <td>...</td>\n",
       "      <td>...</td>\n",
       "      <td>...</td>\n",
       "      <td>...</td>\n",
       "      <td>...</td>\n",
       "      <td>...</td>\n",
       "    </tr>\n",
       "    <tr>\n",
       "      <th>16703</th>\n",
       "      <td>Strawberry Nauts</td>\n",
       "      <td>PSV</td>\n",
       "      <td>2016</td>\n",
       "      <td>Adventure</td>\n",
       "      <td>0.00</td>\n",
       "      <td>0.00</td>\n",
       "      <td>0.01</td>\n",
       "      <td>0.00</td>\n",
       "      <td>NaN</td>\n",
       "      <td>NaN</td>\n",
       "      <td>No_rating</td>\n",
       "      <td>0.01</td>\n",
       "    </tr>\n",
       "    <tr>\n",
       "      <th>16707</th>\n",
       "      <td>Aiyoku no Eustia</td>\n",
       "      <td>PSV</td>\n",
       "      <td>2014</td>\n",
       "      <td>Misc</td>\n",
       "      <td>0.00</td>\n",
       "      <td>0.00</td>\n",
       "      <td>0.01</td>\n",
       "      <td>0.00</td>\n",
       "      <td>NaN</td>\n",
       "      <td>NaN</td>\n",
       "      <td>No_rating</td>\n",
       "      <td>0.01</td>\n",
       "    </tr>\n",
       "    <tr>\n",
       "      <th>16710</th>\n",
       "      <td>Samurai Warriors: Sanada Maru</td>\n",
       "      <td>PS3</td>\n",
       "      <td>2016</td>\n",
       "      <td>Action</td>\n",
       "      <td>0.00</td>\n",
       "      <td>0.00</td>\n",
       "      <td>0.01</td>\n",
       "      <td>0.00</td>\n",
       "      <td>NaN</td>\n",
       "      <td>NaN</td>\n",
       "      <td>No_rating</td>\n",
       "      <td>0.01</td>\n",
       "    </tr>\n",
       "    <tr>\n",
       "      <th>16712</th>\n",
       "      <td>Haitaka no Psychedelica</td>\n",
       "      <td>PSV</td>\n",
       "      <td>2016</td>\n",
       "      <td>Adventure</td>\n",
       "      <td>0.00</td>\n",
       "      <td>0.00</td>\n",
       "      <td>0.01</td>\n",
       "      <td>0.00</td>\n",
       "      <td>NaN</td>\n",
       "      <td>NaN</td>\n",
       "      <td>No_rating</td>\n",
       "      <td>0.01</td>\n",
       "    </tr>\n",
       "    <tr>\n",
       "      <th>16714</th>\n",
       "      <td>Winning Post 8 2016</td>\n",
       "      <td>PSV</td>\n",
       "      <td>2016</td>\n",
       "      <td>Simulation</td>\n",
       "      <td>0.00</td>\n",
       "      <td>0.00</td>\n",
       "      <td>0.01</td>\n",
       "      <td>0.00</td>\n",
       "      <td>NaN</td>\n",
       "      <td>NaN</td>\n",
       "      <td>No_rating</td>\n",
       "      <td>0.01</td>\n",
       "    </tr>\n",
       "  </tbody>\n",
       "</table>\n",
       "<p>2886 rows × 12 columns</p>\n",
       "</div>"
      ],
      "text/plain": [
       "                                name platform  year_of_release         genre  \\\n",
       "16                Grand Theft Auto V      PS3             2013        Action   \n",
       "23                Grand Theft Auto V     X360             2013        Action   \n",
       "31         Call of Duty: Black Ops 3      PS4             2015       Shooter   \n",
       "33               Pokemon X/Pokemon Y      3DS             2013  Role-Playing   \n",
       "34        Call of Duty: Black Ops II      PS3             2012       Shooter   \n",
       "...                              ...      ...              ...           ...   \n",
       "16703               Strawberry Nauts      PSV             2016     Adventure   \n",
       "16707               Aiyoku no Eustia      PSV             2014          Misc   \n",
       "16710  Samurai Warriors: Sanada Maru      PS3             2016        Action   \n",
       "16712        Haitaka no Psychedelica      PSV             2016     Adventure   \n",
       "16714            Winning Post 8 2016      PSV             2016    Simulation   \n",
       "\n",
       "       na_sales  eu_sales  jp_sales  other_sales  critic_score  user_score  \\\n",
       "16         7.02      9.09      0.98         3.96          97.0         8.2   \n",
       "23         9.66      5.14      0.06         1.41          97.0         8.1   \n",
       "31         6.03      5.86      0.36         2.38           NaN         NaN   \n",
       "33         5.28      4.19      4.35         0.78           NaN         NaN   \n",
       "34         4.99      5.73      0.65         2.42          83.0         5.3   \n",
       "...         ...       ...       ...          ...           ...         ...   \n",
       "16703      0.00      0.00      0.01         0.00           NaN         NaN   \n",
       "16707      0.00      0.00      0.01         0.00           NaN         NaN   \n",
       "16710      0.00      0.00      0.01         0.00           NaN         NaN   \n",
       "16712      0.00      0.00      0.01         0.00           NaN         NaN   \n",
       "16714      0.00      0.00      0.01         0.00           NaN         NaN   \n",
       "\n",
       "          rating  sum_sales  \n",
       "16             M      21.05  \n",
       "23             M      16.27  \n",
       "31     No_rating      14.63  \n",
       "33     No_rating      14.60  \n",
       "34             M      13.79  \n",
       "...          ...        ...  \n",
       "16703  No_rating       0.01  \n",
       "16707  No_rating       0.01  \n",
       "16710  No_rating       0.01  \n",
       "16712  No_rating       0.01  \n",
       "16714  No_rating       0.01  \n",
       "\n",
       "[2886 rows x 12 columns]"
      ]
     },
     "execution_count": 20,
     "metadata": {},
     "output_type": "execute_result"
    }
   ],
   "source": [
    "actual_period = games[games['year_of_release'] > 2011]\n",
    "actual_period\n"
   ]
  },
  {
   "cell_type": "markdown",
   "metadata": {},
   "source": [
    "### Поиск потенциально прибыльных платформ"
   ]
  },
  {
   "cell_type": "code",
   "execution_count": 21,
   "metadata": {},
   "outputs": [
    {
     "data": {
      "text/plain": [
       "platform\n",
       "PS4     314.14\n",
       "PS3     288.79\n",
       "X360    236.54\n",
       "3DS     194.61\n",
       "XOne    159.32\n",
       "WiiU     82.19\n",
       "PC       62.65\n",
       "PSV      49.18\n",
       "Wii      35.37\n",
       "DS       12.55\n",
       "PSP      11.19\n",
       "Name: sum_sales, dtype: float64"
      ]
     },
     "execution_count": 21,
     "metadata": {},
     "output_type": "execute_result"
    }
   ],
   "source": [
    "actual_period.groupby('platform')['sum_sales'].sum().sort_values(ascending=False)"
   ]
  },
  {
   "cell_type": "code",
   "execution_count": 22,
   "metadata": {},
   "outputs": [
    {
     "data": {
      "text/plain": [
       "platform\n",
       "PS3     493\n",
       "PSV     411\n",
       "3DS     396\n",
       "PS4     392\n",
       "X360    292\n",
       "PC      250\n",
       "XOne    247\n",
       "PSP     173\n",
       "WiiU    147\n",
       "Wii      54\n",
       "DS       31\n",
       "Name: name, dtype: int64"
      ]
     },
     "execution_count": 22,
     "metadata": {},
     "output_type": "execute_result"
    }
   ],
   "source": [
    "actual_period.groupby('platform')['name'].count().sort_values(ascending=False)"
   ]
  },
  {
   "cell_type": "code",
   "execution_count": 23,
   "metadata": {},
   "outputs": [],
   "source": [
    "top_sales_platform = ['PS4','PS3','X360','3DS','XOne','WiiU','PC','PSV','Wii']\n"
   ]
  },
  {
   "cell_type": "code",
   "execution_count": 24,
   "metadata": {},
   "outputs": [
    {
     "data": {
      "image/png": "[encoded data removed]",
      "text/plain": [
       "<Figure size 432x288 with 1 Axes>"
      ]
     },
     "metadata": {
      "needs_background": "light"
     },
     "output_type": "display_data"
    }
   ],
   "source": [
    "actual_sales = actual_period.query('platform in @top_sales_platform').pivot_table(index='year_of_release', columns = 'platform', values='sum_sales', aggfunc='sum')\n",
    "actual_sales.plot();\n",
    "plt.xlabel('Год');\n",
    "plt.ylabel('Количество продаж,млн');"
   ]
  },
  {
   "cell_type": "code",
   "execution_count": 25,
   "metadata": {},
   "outputs": [
    {
     "data": {
      "image/png": "[encoded data removed]",
      "text/plain": [
       "<Figure size 432x288 with 1 Axes>"
      ]
     },
     "metadata": {
      "needs_background": "light"
     },
     "output_type": "display_data"
    }
   ],
   "source": [
    "actual_count = actual_period.query('platform in @top_sales_platform').pivot_table(index='year_of_release', columns = 'platform', values='name', aggfunc='count')\n",
    "actual_count.plot();\n",
    "plt.xlabel('Год');\n",
    "plt.ylabel('Количество выпускаемых игр');"
   ]
  },
  {
   "cell_type": "markdown",
   "metadata": {},
   "source": [
    "### Диаграмма размаха  по глобальным продажам игр в разбивке по платформам"
   ]
  },
  {
   "cell_type": "code",
   "execution_count": 26,
   "metadata": {},
   "outputs": [
    {
     "data": {
      "image/png": "[encoded data removed]",
      "text/plain": [
       "<Figure size 432x288 with 1 Axes>"
      ]
     },
     "metadata": {
      "needs_background": "light"
     },
     "output_type": "display_data"
    }
   ],
   "source": [
    "sns.boxplot(data =actual_period,x='platform',y='sum_sales');\n",
    "plt.xlabel('Платформы');\n",
    "plt.ylabel('Кол-во продаж,млн');\n",
    "plt.ylim([0,2]);\n"
   ]
  },
  {
   "cell_type": "markdown",
   "metadata": {},
   "source": [
    "Можно выделить 6 платформ, у которых медианные продажи игры около 200 тысяч проданных копий.Количетсво выпущенных игр на платформы  'Wii','Wiiu','X360' сильно снижается на протяжении нескольких лет и близко к нулю.\n",
    "PS3,3DS,PSV количество выпускаемых игр снижается,но не так сильно как у 'Wii','Wiiu','X360'.\n",
    "PC,PS4,XOne количество выпускаемых игр растет.\n",
    "К перспективным платформам можно отнестии PS4,XOne.\n",
    "\n"
   ]
  },
  {
   "cell_type": "code",
   "execution_count": 27,
   "metadata": {},
   "outputs": [],
   "source": [
    "perspective = ['PS4','XOne']"
   ]
  },
  {
   "cell_type": "code",
   "execution_count": 28,
   "metadata": {},
   "outputs": [],
   "source": [
    "perspective_platform = actual_period.query('platform in @perspective')\n"
   ]
  },
  {
   "cell_type": "code",
   "execution_count": 29,
   "metadata": {},
   "outputs": [
    {
     "data": {
      "image/png": "[encoded data removed]",
      "text/plain": [
       "<Figure size 432x288 with 1 Axes>"
      ]
     },
     "metadata": {
      "needs_background": "light"
     },
     "output_type": "display_data"
    }
   ],
   "source": [
    "sns.boxplot(data =perspective_platform,x='platform',y='sum_sales');\n",
    "plt.xlabel('Платформы');\n",
    "plt.ylabel('Кол-во продаж,млн');\n",
    "plt.ylim([0,3]);\n"
   ]
  },
  {
   "cell_type": "markdown",
   "metadata": {},
   "source": [
    "Медиана платформ PS4 и Xone находится на уровне 200 тысяч проданных копий игры."
   ]
  },
  {
   "cell_type": "markdown",
   "metadata": {},
   "source": [
    "### Как влияют на продажи внутри одной популярной платформы отзывы пользователей и критиков"
   ]
  },
  {
   "cell_type": "code",
   "execution_count": 30,
   "metadata": {},
   "outputs": [
    {
     "name": "stdout",
     "output_type": "stream",
     "text": [
      "Корреляция оценок пользователей и продаж: -0.031957110204556424\n",
      "Корреляция оценок критиков и продаж: 0.4065679020617816\n"
     ]
    },
    {
     "data": {
      "text/plain": [
       "Text(0.5, 1.0, 'ps4_critic_score')"
      ]
     },
     "execution_count": 30,
     "metadata": {},
     "output_type": "execute_result"
    },
    {
     "data": {
      "image/png": "[encoded data removed]",
      "text/plain": [
       "<Figure size 720x360 with 2 Axes>"
      ]
     },
     "metadata": {
      "needs_background": "light"
     },
     "output_type": "display_data"
    }
   ],
   "source": [
    "plt.figure(figsize=(10, 5))\n",
    "plt.subplot(1, 2, 1)\n",
    "ps4 = actual_period[actual_period['platform']== 'PS4']\n",
    "print('Корреляция оценок пользователей и продаж:',ps4['user_score'].corr(ps4['sum_sales']))\n",
    "sns.scatterplot(x = 'user_score',y = 'sum_sales',data=ps4);\n",
    "plt.title('ps4_user_score')\n",
    "\n",
    "plt.subplot(1, 2, 2)\n",
    "ps4 = actual_period[actual_period['platform']== 'PS4']\n",
    "print('Корреляция оценок критиков и продаж:',ps4['critic_score'].corr(ps4['sum_sales']))\n",
    "sns.scatterplot(x = 'critic_score',y = 'sum_sales',data=ps4);\n",
    "plt.title('ps4_critic_score')\n"
   ]
  },
  {
   "cell_type": "markdown",
   "metadata": {},
   "source": [
    "Чем выше оценки критиков,тем чаще игры приносили высокую прибыль.Корреляция между оценками критиков и продажами,выше чем корреляция между пользовательскими оценка и продажами"
   ]
  },
  {
   "cell_type": "code",
   "execution_count": 31,
   "metadata": {},
   "outputs": [
    {
     "name": "stdout",
     "output_type": "stream",
     "text": [
      "Корреляция оценок пользователей и продаж: -0.004339437514314869\n",
      "Корреляция оценок критиков и продаж: 0.0944878992931617\n"
     ]
    },
    {
     "data": {
      "text/plain": [
       "Text(0.5, 1.0, 'psv_critic_score')"
      ]
     },
     "execution_count": 31,
     "metadata": {},
     "output_type": "execute_result"
    },
    {
     "data": {
      "image/png": "[encoded data removed]",
      "text/plain": [
       "<Figure size 720x360 with 2 Axes>"
      ]
     },
     "metadata": {
      "needs_background": "light"
     },
     "output_type": "display_data"
    }
   ],
   "source": [
    "plt.figure(figsize=(10, 5))\n",
    "plt.subplot(1, 2, 1)\n",
    "psv = actual_period[actual_period['platform']== 'PSV']\n",
    "print('Корреляция оценок пользователей и продаж:',psv['user_score'].corr(psv['sum_sales']))\n",
    "sns.scatterplot(x = 'user_score',y = 'sum_sales',data=psv);\n",
    "plt.title('psv_user_score')\n",
    "\n",
    "plt.subplot(1, 2, 2)\n",
    "psv = actual_period[actual_period['platform']== 'PSV']\n",
    "print('Корреляция оценок критиков и продаж:',psv['critic_score'].corr(psv['sum_sales']))\n",
    "sns.scatterplot(x = 'critic_score',y = 'sum_sales',data=psv);\n",
    "plt.title('psv_critic_score')\n"
   ]
  },
  {
   "cell_type": "markdown",
   "metadata": {},
   "source": [
    "Пользовательские оценки чаще всего высокие."
   ]
  },
  {
   "cell_type": "code",
   "execution_count": 32,
   "metadata": {},
   "outputs": [
    {
     "name": "stdout",
     "output_type": "stream",
     "text": [
      "Корреляция оценок пользователей и продаж: -0.12186747630735582\n",
      "Корреляция оценок критиков и продаж: 0.23724324311567926\n"
     ]
    },
    {
     "data": {
      "image/png": "[encoded data removed]",
      "text/plain": [
       "<Figure size 720x360 with 2 Axes>"
      ]
     },
     "metadata": {
      "needs_background": "light"
     },
     "output_type": "display_data"
    }
   ],
   "source": [
    "plt.figure(figsize=(10, 5))\n",
    "plt.subplot(1, 2, 1)\n",
    "pc = actual_period[actual_period['platform']== 'PC']\n",
    "print('Корреляция оценок пользователей и продаж:',pc['user_score'].corr(pc['sum_sales']))\n",
    "sns.scatterplot(x = 'user_score',y = 'sum_sales',data=pc);\n",
    "plt.title('pc_user_score');\n",
    "\n",
    "plt.subplot(1, 2, 2)\n",
    "pc = actual_period[actual_period['platform']== 'PC']\n",
    "print('Корреляция оценок критиков и продаж:',pc['critic_score'].corr(pc['sum_sales']))\n",
    "sns.scatterplot(x = 'critic_score',y = 'sum_sales',data=pc);\n",
    "plt.title('pc_critic_score');"
   ]
  },
  {
   "cell_type": "code",
   "execution_count": 33,
   "metadata": {},
   "outputs": [
    {
     "name": "stdout",
     "output_type": "stream",
     "text": [
      "Корреляция оценок пользователей и продаж: -0.06892505328279416\n",
      "Корреляция оценок критиков и продаж: 0.4169983280084017\n"
     ]
    },
    {
     "data": {
      "image/png": "[encoded data removed]",
      "text/plain": [
       "<Figure size 720x360 with 2 Axes>"
      ]
     },
     "metadata": {
      "needs_background": "light"
     },
     "output_type": "display_data"
    }
   ],
   "source": [
    "plt.figure(figsize=(10, 5))\n",
    "plt.subplot(1, 2, 1)\n",
    "xone = actual_period[actual_period['platform']== 'XOne']\n",
    "print('Корреляция оценок пользователей и продаж:',xone['user_score'].corr(xone['sum_sales']))\n",
    "sns.scatterplot(x = 'user_score',y = 'sum_sales',data=xone);\n",
    "plt.title('xone_user_score');\n",
    "\n",
    "plt.subplot(1, 2, 2)\n",
    "xone = actual_period[actual_period['platform']== 'XOne']\n",
    "print('Корреляция оценок критиков и продаж:',xone['critic_score'].corr(xone['sum_sales']))\n",
    "sns.scatterplot(x = 'critic_score',y = 'sum_sales',data=xone);\n",
    "plt.title('xone_critic_score');"
   ]
  },
  {
   "cell_type": "markdown",
   "metadata": {},
   "source": [
    "Чем выше оценки критиков,тем чаще игры имели хорошие продажи. Оценка пользователей меньше влияет на продажи,по сравнению с оценками критиков."
   ]
  },
  {
   "cell_type": "markdown",
   "metadata": {},
   "source": [
    "Оценки пользователей и продаж имеют очень слабую корреляцию.\n",
    "Оценки критиков на платформах PS4  и XOne имеют слабую корреляцию,в отличие от PC и PSV.\n",
    "В целом оценки пользователей и критиков имеют слабое влияние на продажи"
   ]
  },
  {
   "cell_type": "markdown",
   "metadata": {},
   "source": [
    "### Общее распределение игр по жанрам"
   ]
  },
  {
   "cell_type": "code",
   "execution_count": 34,
   "metadata": {},
   "outputs": [
    {
     "data": {
      "image/png": "[encoded data removed]",
      "text/plain": [
       "<Figure size 432x288 with 1 Axes>"
      ]
     },
     "metadata": {},
     "output_type": "display_data"
    }
   ],
   "source": [
    "genre = actual_period.groupby('genre')['sum_sales'].count().sort_values(ascending=False).reset_index()\n",
    "others = genre.iloc[5:]['sum_sales'].sum()\n",
    "genre_df = genre.iloc[:5]\n",
    "df = pd.DataFrame([['others',others]],columns=['genre','sum_sales'])\n",
    "df2 = genre_df.append(df,ignore_index=True)\n",
    "\n",
    "labels = df2['genre']\n",
    "values = df2['sum_sales']\n",
    "colors = ['yellow','green','red','blue','pink','beige']\n",
    "plt.pie(values,labels=labels,colors=colors,shadow=True,autopct='%1.1f%%')\n",
    "plt.axis('equal')\n",
    "plt.legend(loc='upper left',bbox_to_anchor=(1.0,1.0))\n",
    "plt.show()"
   ]
  },
  {
   "cell_type": "code",
   "execution_count": 35,
   "metadata": {},
   "outputs": [
    {
     "data": {
      "image/png": "[encoded data removed]",
      "text/plain": [
       "<Figure size 864x432 with 1 Axes>"
      ]
     },
     "metadata": {
      "needs_background": "light"
     },
     "output_type": "display_data"
    }
   ],
   "source": [
    "plt.figure(figsize=(12,6))\n",
    "sns.boxplot(data =actual_period,x='genre',y='sum_sales');\n",
    "plt.title('Распределение продаж по жанрам', fontsize=15)\n",
    "plt.xlabel('жанр', fontsize=12)\n",
    "plt.ylabel('продажи в кол-ве проданных копий млн',fontsize=12)\n",
    "plt.ylim([0,4]);\n",
    "plt.show()\n",
    "\n"
   ]
  },
  {
   "cell_type": "code",
   "execution_count": 36,
   "metadata": {},
   "outputs": [
    {
     "data": {
      "text/html": [
       "<div>\n",
       "<style scoped>\n",
       "    .dataframe tbody tr th:only-of-type {\n",
       "        vertical-align: middle;\n",
       "    }\n",
       "\n",
       "    .dataframe tbody tr th {\n",
       "        vertical-align: top;\n",
       "    }\n",
       "\n",
       "    .dataframe thead th {\n",
       "        text-align: right;\n",
       "    }\n",
       "</style>\n",
       "<table border=\"1\" class=\"dataframe\">\n",
       "  <thead>\n",
       "    <tr style=\"text-align: right;\">\n",
       "      <th></th>\n",
       "      <th>sum_sales</th>\n",
       "    </tr>\n",
       "    <tr>\n",
       "      <th>genre</th>\n",
       "      <th></th>\n",
       "    </tr>\n",
       "  </thead>\n",
       "  <tbody>\n",
       "    <tr>\n",
       "      <th>Shooter</th>\n",
       "      <td>0.440</td>\n",
       "    </tr>\n",
       "    <tr>\n",
       "      <th>Sports</th>\n",
       "      <td>0.240</td>\n",
       "    </tr>\n",
       "    <tr>\n",
       "      <th>Platform</th>\n",
       "      <td>0.210</td>\n",
       "    </tr>\n",
       "    <tr>\n",
       "      <th>Role-Playing</th>\n",
       "      <td>0.140</td>\n",
       "    </tr>\n",
       "    <tr>\n",
       "      <th>Racing</th>\n",
       "      <td>0.140</td>\n",
       "    </tr>\n",
       "    <tr>\n",
       "      <th>Fighting</th>\n",
       "      <td>0.130</td>\n",
       "    </tr>\n",
       "    <tr>\n",
       "      <th>Action</th>\n",
       "      <td>0.120</td>\n",
       "    </tr>\n",
       "    <tr>\n",
       "      <th>Misc</th>\n",
       "      <td>0.120</td>\n",
       "    </tr>\n",
       "    <tr>\n",
       "      <th>Simulation</th>\n",
       "      <td>0.120</td>\n",
       "    </tr>\n",
       "    <tr>\n",
       "      <th>Strategy</th>\n",
       "      <td>0.080</td>\n",
       "    </tr>\n",
       "    <tr>\n",
       "      <th>Puzzle</th>\n",
       "      <td>0.045</td>\n",
       "    </tr>\n",
       "    <tr>\n",
       "      <th>Adventure</th>\n",
       "      <td>0.030</td>\n",
       "    </tr>\n",
       "  </tbody>\n",
       "</table>\n",
       "</div>"
      ],
      "text/plain": [
       "              sum_sales\n",
       "genre                  \n",
       "Shooter           0.440\n",
       "Sports            0.240\n",
       "Platform          0.210\n",
       "Role-Playing      0.140\n",
       "Racing            0.140\n",
       "Fighting          0.130\n",
       "Action            0.120\n",
       "Misc              0.120\n",
       "Simulation        0.120\n",
       "Strategy          0.080\n",
       "Puzzle            0.045\n",
       "Adventure         0.030"
      ]
     },
     "execution_count": 36,
     "metadata": {},
     "output_type": "execute_result"
    }
   ],
   "source": [
    "medina_genre = actual_period.pivot_table(index='genre',values='sum_sales',aggfunc='median').sort_values('sum_sales',ascending=False)\n",
    "medina_genre"
   ]
  },
  {
   "cell_type": "markdown",
   "metadata": {},
   "source": [
    "Топ 5 прибыльных жанров.\n",
    "Shooter- 440 000 проданных копий\n",
    "Sports- 240 000 проданных копий\n",
    "Platform - 210 000 проданных копий\n",
    "Role-Playing - 140 000 проданных копий\n",
    "Racing\t- 140 000 проданных копий\n",
    "\n",
    "Три жанра с самыми низкими продажами Strategy,Puzzle,Adventure\t\n",
    "Больше всего игр выходит жанра Action"
   ]
  },
  {
   "cell_type": "markdown",
   "metadata": {},
   "source": [
    "## Портрет пользователя каждого региона  (NA, EU, JP):"
   ]
  },
  {
   "cell_type": "markdown",
   "metadata": {},
   "source": [
    "### Самые популярные платформы (топ-5) различия в долях продаж"
   ]
  },
  {
   "cell_type": "code",
   "execution_count": 37,
   "metadata": {},
   "outputs": [
    {
     "data": {
      "image/png": "[encoded data removed]",
      "text/plain": [
       "<Figure size 432x288 with 1 Axes>"
      ]
     },
     "metadata": {},
     "output_type": "display_data"
    }
   ],
   "source": [
    "na_platform = actual_period.pivot_table(index='platform',values='na_sales',aggfunc='sum').sort_values('na_sales',ascending=False).reset_index()\n",
    "others = na_platform.iloc[5:]['na_sales'].sum()\n",
    "platform = na_platform.iloc[:5]\n",
    "df = pd.DataFrame([['others',others]], columns = ['platform','na_sales'])\n",
    "df2 = platform.append(df,ignore_index=True)\n",
    "\n",
    "labels = df2['platform']\n",
    "values = df2['na_sales']\n",
    "colors = ['yellow','green','red','blue','pink','beige']\n",
    "plt.pie(values,labels=labels,colors=colors,shadow=True,autopct='%1.1f%%')\n",
    "plt.axis('equal')\n",
    "plt.legend(loc='upper left', bbox_to_anchor=(1.0, 1.0))\n",
    "plt.show()\n",
    "\n"
   ]
  },
  {
   "cell_type": "code",
   "execution_count": 38,
   "metadata": {},
   "outputs": [
    {
     "data": {
      "image/png": "[encoded data removed]",
      "text/plain": [
       "<Figure size 432x288 with 1 Axes>"
      ]
     },
     "metadata": {},
     "output_type": "display_data"
    }
   ],
   "source": [
    "eu_platform = actual_period.pivot_table(index='platform',values='eu_sales',aggfunc='sum').sort_values('eu_sales',ascending=False).reset_index()\n",
    "others = eu_platform.iloc[5:]['eu_sales'].sum()\n",
    "platform = eu_platform.iloc[:5]\n",
    "df = pd.DataFrame([['others',others]], columns = ['platform','eu_sales'])\n",
    "df2 = platform.append(df,ignore_index=True)\n",
    "\n",
    "labels = df2['platform']\n",
    "values = df2['eu_sales']\n",
    "colors = ['yellow','green','red','blue','pink','beige']\n",
    "plt.pie(values,labels=labels,colors=colors,shadow=True,autopct='%1.1f%%')\n",
    "plt.axis('equal')\n",
    "plt.legend(loc='upper left', bbox_to_anchor=(1.0, 1.0))\n",
    "plt.show()\n",
    "\n"
   ]
  },
  {
   "cell_type": "code",
   "execution_count": 39,
   "metadata": {},
   "outputs": [
    {
     "data": {
      "image/png": "[encoded data removed]",
      "text/plain": [
       "<Figure size 432x288 with 1 Axes>"
      ]
     },
     "metadata": {},
     "output_type": "display_data"
    }
   ],
   "source": [
    "jp_platform = actual_period.pivot_table(index='platform',values='jp_sales',aggfunc='sum').sort_values('jp_sales',ascending=False).reset_index()\n",
    "others = jp_platform.iloc[5:]['jp_sales'].sum()\n",
    "platform = jp_platform.iloc[:5]\n",
    "df = pd.DataFrame([['others',others]], columns = ['platform','jp_sales'])\n",
    "df2 = platform.append(df,ignore_index=True)\n",
    "\n",
    "labels = df2['platform']\n",
    "values = df2['jp_sales']\n",
    "colors = ['yellow','green','red','blue','pink','beige']\n",
    "plt.pie(values,labels=labels,colors=colors,shadow=True,autopct='%1.1f%%')\n",
    "plt.axis('equal')\n",
    "plt.legend(loc='upper left', bbox_to_anchor=(1.0, 1.0))\n",
    "plt.show()"
   ]
  },
  {
   "cell_type": "markdown",
   "metadata": {},
   "source": [
    "В Северной Америке почти 85% продаж приходится на платформы X360-23,7% ,PS4-18,4%, PS3-17,5%, XOne-15,8%,DS-9,4%\n",
    "В Европе ситуация схожа, 82% продаж приходится на эти же платформы. PS4-27,8%,PS3-21,1%,X360-14,7%,XOne-10,2%,DS-8,4%\n",
    "В Японии платформы X360,XOne не входят в топ5,а платформа 3DS?которая в NA и EU занимает от 8,4 до 9,4% рынка, в Японии занимает большую часть рынка (45,6%),PS3-18,3%,PSV-10.9%,PS4-8.3%,Wiiu-6.8%"
   ]
  },
  {
   "cell_type": "markdown",
   "metadata": {},
   "source": [
    "### Самые популярные жанры (топ-5)."
   ]
  },
  {
   "cell_type": "code",
   "execution_count": 40,
   "metadata": {},
   "outputs": [
    {
     "data": {
      "image/png": "[encoded data removed]",
      "text/plain": [
       "<Figure size 432x288 with 1 Axes>"
      ]
     },
     "metadata": {},
     "output_type": "display_data"
    }
   ],
   "source": [
    "na_genre = actual_period.pivot_table(index='genre',values='na_sales',aggfunc='sum').sort_values('na_sales',ascending=False).reset_index()\n",
    "others = na_genre.iloc[5:]['na_sales'].sum()\n",
    "platform = na_genre.iloc[:5]\n",
    "df = pd.DataFrame([['others',others]], columns = ['genre','na_sales'])\n",
    "df2 = platform.append(df,ignore_index=True)\n",
    "\n",
    "labels = df2['genre']\n",
    "values = df2['na_sales']\n",
    "colors = ['yellow','green','red','blue','pink','beige']\n",
    "plt.pie(values,labels=labels,colors=colors,shadow=True,autopct='%1.1f%%')\n",
    "plt.axis('equal')\n",
    "plt.legend(loc='upper left', bbox_to_anchor=(1.0, 1.0))\n",
    "plt.show()\n",
    "\n"
   ]
  },
  {
   "cell_type": "code",
   "execution_count": 41,
   "metadata": {},
   "outputs": [
    {
     "data": {
      "image/png": "[encoded data removed]",
      "text/plain": [
       "<Figure size 432x288 with 1 Axes>"
      ]
     },
     "metadata": {},
     "output_type": "display_data"
    }
   ],
   "source": [
    "eu_genre = actual_period.pivot_table(index='genre',values='eu_sales',aggfunc='sum').sort_values('eu_sales',ascending=False).reset_index()\n",
    "others = eu_genre.iloc[5:]['eu_sales'].sum()\n",
    "platform = eu_genre.iloc[:5]\n",
    "df = pd.DataFrame([['others',others]], columns = ['genre','eu_sales'])\n",
    "df2 = platform.append(df,ignore_index=True)\n",
    "\n",
    "labels = df2['genre']\n",
    "values = df2['eu_sales']\n",
    "colors = ['yellow','green','red','blue','pink','beige']\n",
    "plt.pie(values,labels=labels,colors=colors,shadow=True,autopct='%1.1f%%')\n",
    "plt.axis('equal')\n",
    "plt.legend(loc='upper left', bbox_to_anchor=(1.0, 1.0))\n",
    "plt.show()"
   ]
  },
  {
   "cell_type": "code",
   "execution_count": 42,
   "metadata": {},
   "outputs": [
    {
     "data": {
      "image/png": "[encoded data removed]",
      "text/plain": [
       "<Figure size 432x288 with 1 Axes>"
      ]
     },
     "metadata": {},
     "output_type": "display_data"
    }
   ],
   "source": [
    "jp_genre = actual_period.pivot_table(index='genre',values='jp_sales',aggfunc='sum').sort_values('jp_sales',ascending=False).reset_index()\n",
    "others = jp_genre.iloc[5:]['jp_sales'].sum()\n",
    "platform = jp_genre.iloc[:5]\n",
    "df = pd.DataFrame([['others',others]], columns = ['genre','jp_sales'])\n",
    "df2 = platform.append(df,ignore_index=True)\n",
    "\n",
    "labels = df2['genre']\n",
    "values = df2['jp_sales']\n",
    "colors = ['yellow','green','red','blue','pink','beige']\n",
    "plt.pie(values,labels=labels,colors=colors,shadow=True,autopct='%1.1f%%')\n",
    "plt.axis('equal')\n",
    "plt.legend(loc='upper left', bbox_to_anchor=(1.0, 1.0))\n",
    "plt.show()"
   ]
  },
  {
   "cell_type": "markdown",
   "metadata": {},
   "source": [
    "В Северной Америке в топ 5 жанров входят, Action-30.1%,Shooter-24.5%,Sports-13.8%,Role-Playing - 10.8%,Misc-6.5%\n",
    "В Европе топ 5 жанров:Action-31.1%,Shooter-22.5%,Sports-13.6%,Role-Playing - 9.6%,Racing-5.4%\n",
    "4 жанра из 5 повторяются,и имеют схожее распределение процентов по продажам. \n",
    "В Японии предпочтение жанров отличается,от двух других регионов.Самый продаваемый жанр Role-Playing - 34%,в NA и EU он занимал 4 место , и имел около 10%.\n",
    "Action-27.4% ,имеет так же хорошую популярность. Misc -6.7%,Simulation-5.4%,Fighting-4.9%/\n"
   ]
  },
  {
   "cell_type": "markdown",
   "metadata": {},
   "source": [
    "### Влияние рейтингa ESRB на продажи в отдельном регионе"
   ]
  },
  {
   "cell_type": "code",
   "execution_count": 43,
   "metadata": {},
   "outputs": [
    {
     "data": {
      "image/png": "[encoded data removed]",
      "text/plain": [
       "<Figure size 432x288 with 1 Axes>"
      ]
     },
     "metadata": {},
     "output_type": "display_data"
    }
   ],
   "source": [
    "na_rating = actual_period.pivot_table(index='rating',values='na_sales',aggfunc='sum').sort_values('na_sales',ascending=False).reset_index()\n",
    "others = na_rating.iloc[5:]['na_sales'].sum()\n",
    "platform = na_rating.iloc[:5]\n",
    "df = pd.DataFrame([['others',others]], columns = ['rating','na_sales'])\n",
    "df2 = platform.append(df,ignore_index=True)\n",
    "\n",
    "labels = df2['rating']\n",
    "values = df2['na_sales']\n",
    "colors = ['yellow','green','red','blue','pink','beige']\n",
    "plt.pie(values,labels=labels,colors=colors,shadow=True,autopct='%1.1f%%')\n",
    "plt.axis('equal')\n",
    "plt.legend(loc='upper left', bbox_to_anchor=(1.0, 1.0))\n",
    "plt.show()"
   ]
  },
  {
   "cell_type": "code",
   "execution_count": 44,
   "metadata": {},
   "outputs": [
    {
     "data": {
      "image/png": "[encoded data removed]",
      "text/plain": [
       "<Figure size 432x288 with 1 Axes>"
      ]
     },
     "metadata": {},
     "output_type": "display_data"
    }
   ],
   "source": [
    "eu_rating = actual_period.pivot_table(index='rating',values='eu_sales',aggfunc='sum').sort_values('eu_sales',ascending=False).reset_index()\n",
    "others = eu_rating.iloc[5:]['eu_sales'].sum()\n",
    "platform = eu_rating.iloc[:5]\n",
    "df = pd.DataFrame([['others',others]], columns = ['rating','eu_sales'])\n",
    "df2 = platform.append(df,ignore_index=True)\n",
    "\n",
    "labels = df2['rating']\n",
    "values = df2['eu_sales']\n",
    "colors = ['yellow','green','red','blue','pink','beige']\n",
    "plt.pie(values,labels=labels,colors=colors,shadow=True,autopct='%1.1f%%')\n",
    "plt.axis('equal')\n",
    "plt.legend(loc='upper left', bbox_to_anchor=(1.0, 1.0))\n",
    "plt.show()"
   ]
  },
  {
   "cell_type": "markdown",
   "metadata": {},
   "source": [
    "В Северной Америке и Европе ,схоже распределение рейтинга ESRB.Большую часть занимает категория \"М\"(для взрослых) 38,3-39,3%,категория \"Е\" занимает 19,4 -22,3%\n",
    "Игры без рейтинга 17,5- 18,1%,так как показатель довольно высокий,можно предположить рейтинг не влияют на продажи.\n",
    "В Северной Америке и Европе предпочтения по играм очень близки."
   ]
  },
  {
   "cell_type": "code",
   "execution_count": 45,
   "metadata": {
    "scrolled": true
   },
   "outputs": [
    {
     "data": {
      "image/png": "[encoded data removed]",
      "text/plain": [
       "<Figure size 432x288 with 1 Axes>"
      ]
     },
     "metadata": {},
     "output_type": "display_data"
    }
   ],
   "source": [
    "jp_rating = actual_period.pivot_table(index='rating',values='jp_sales',aggfunc='sum').sort_values('jp_sales',ascending=False).reset_index()\n",
    "others = jp_rating.iloc[5:]['jp_sales'].sum()\n",
    "platform = jp_rating.iloc[:5]\n",
    "df = pd.DataFrame([['others',others]], columns = ['rating','jp_sales'])\n",
    "df2 = platform.append(df,ignore_index=True)\n",
    "\n",
    "labels = df2['rating']\n",
    "values = df2['jp_sales']\n",
    "colors = ['yellow','green','red','blue','pink','beige']\n",
    "plt.pie(values,labels=labels,colors=colors,shadow=True,autopct='%1.1f%%')\n",
    "plt.axis('equal')\n",
    "plt.legend(loc='upper left', bbox_to_anchor=(1.0, 1.0))\n",
    "plt.show()"
   ]
  },
  {
   "cell_type": "markdown",
   "metadata": {},
   "source": [
    "Игры без рейтинга занимают 56%,что в 3 раза больше чем в Европе или Северной Америке.Рейтинг ESBP в Японии не влияет на продажи"
   ]
  },
  {
   "cell_type": "markdown",
   "metadata": {},
   "source": [
    "Самые популярные платформы в Японии компаний Nintendo и PlayStation,при этом Xbox нет в топ10 по продажам,это связано с тем что Nintendo и PlayStation японские компании. Можно предположить ,что эти компании лучше понимают своих покупателей ,а так же возможен патриотизм граждан.\n"
   ]
  },
  {
   "cell_type": "code",
   "execution_count": 47,
   "metadata": {},
   "outputs": [
    {
     "name": "stdout",
     "output_type": "stream",
     "text": [
      "Количество проданых игр в Северной Америке 590.97\n",
      "Количество проданых игр в Европе 506.82000000000005\n",
      "Количество проданых игр в Японии 192.58\n"
     ]
    }
   ],
   "source": [
    "na=actual_period['na_sales'].sum()\n",
    "print('Количество проданых игр в Северной Америке',na)\n",
    "eu=actual_period['eu_sales'].sum()\n",
    "print('Количество проданых игр в Европе',eu)\n",
    "jp=actual_period['jp_sales'].sum()\n",
    "print('Количество проданых игр в Японии',jp)"
   ]
  },
  {
   "cell_type": "markdown",
   "metadata": {},
   "source": [
    "## Проверка гипотез"
   ]
  },
  {
   "cell_type": "markdown",
   "metadata": {},
   "source": [
    "### Средние пользовательские рейтинги платформ Xbox One и PC одинаковые\n"
   ]
  },
  {
   "cell_type": "code",
   "execution_count": 48,
   "metadata": {},
   "outputs": [],
   "source": [
    "games['user_score'] = games['user_score'].dropna().astype('int')"
   ]
  },
  {
   "cell_type": "code",
   "execution_count": 49,
   "metadata": {},
   "outputs": [],
   "source": [
    "ttest_xone = games.query('platform == \"XOne\" and user_score > 0')['user_score']\n",
    "ttest_pc = games.query('platform == \"PC\" and user_score > 0')['user_score']\n"
   ]
  },
  {
   "cell_type": "code",
   "execution_count": 50,
   "metadata": {},
   "outputs": [
    {
     "data": {
      "text/plain": [
       "1.856056031880208"
      ]
     },
     "execution_count": 50,
     "metadata": {},
     "output_type": "execute_result"
    }
   ],
   "source": [
    "xone_var = np.var(ttest_xone )\n",
    "xone_var"
   ]
  },
  {
   "cell_type": "code",
   "execution_count": 51,
   "metadata": {},
   "outputs": [
    {
     "data": {
      "text/plain": [
       "2.43437393096794"
      ]
     },
     "execution_count": 51,
     "metadata": {},
     "output_type": "execute_result"
    }
   ],
   "source": [
    "pc_var = np.var(ttest_pc)\n",
    "pc_var                 "
   ]
  },
  {
   "cell_type": "markdown",
   "metadata": {},
   "source": [
    "H0:Средние пользовательские рейтинги платформ Xbox One и PC одинаковые\n",
    "\n",
    "H1:Средние пользовательские рейтинги платформ Xbox One и PC разные"
   ]
  },
  {
   "cell_type": "code",
   "execution_count": 52,
   "metadata": {},
   "outputs": [
    {
     "name": "stdout",
     "output_type": "stream",
     "text": [
      "р-значение: 2.4073039894750292e-05\n",
      "Отвергаем нулевую гипотезу\n",
      "Средние оценки платформы \"XOne\": 6.1098901098901095\n",
      "Средние оценки платформы \"PC\": 6.60794701986755\n"
     ]
    }
   ],
   "source": [
    "alpha = .05\n",
    "\n",
    "results = st.ttest_ind(ttest_xone,ttest_pc,equal_var = False)\n",
    "\n",
    "print('р-значение:',results.pvalue)\n",
    "\n",
    "if results.pvalue < alpha:\n",
    "    print('Отвергаем нулевую гипотезу')\n",
    "else:\n",
    "    print('Не получилось отвергнуть нулевую гипотезу')\n",
    "    \n",
    "print('Средние оценки платформы \"XOne\":',ttest_xone.mean())\n",
    "print('Средние оценки платформы \"PC\":',ttest_pc.mean())"
   ]
  },
  {
   "cell_type": "markdown",
   "metadata": {},
   "source": [
    "Можно сделать вывод что средние пользовательские рейтинги платформ Xone и PC разные,так как вероятность что они одинаковые близка к 0"
   ]
  },
  {
   "cell_type": "markdown",
   "metadata": {},
   "source": [
    "\n",
    "### Средние пользовательские рейтинги жанров Action (англ. «действие», экшен-игры) и Sports (англ. «спортивные соревнования») разные."
   ]
  },
  {
   "cell_type": "markdown",
   "metadata": {},
   "source": [
    "H0: Средние пользовательские рейтинги жанров Action и Sports одинаковые\n",
    "\n",
    "H1: Средние пользовательские рейтинги жанров Action и Sports разные.    "
   ]
  },
  {
   "cell_type": "code",
   "execution_count": 53,
   "metadata": {},
   "outputs": [],
   "source": [
    "action = games.query('genre == \"Action\" and user_score > 0')['user_score']\n",
    "sports = games.query('genre == \"Sports\" and user_score > 0')['user_score']\n"
   ]
  },
  {
   "cell_type": "code",
   "execution_count": 54,
   "metadata": {},
   "outputs": [
    {
     "data": {
      "text/plain": [
       "2.048700429077987"
      ]
     },
     "execution_count": 54,
     "metadata": {},
     "output_type": "execute_result"
    }
   ],
   "source": [
    "action_var = np.var(action)\n",
    "action_var"
   ]
  },
  {
   "cell_type": "code",
   "execution_count": 55,
   "metadata": {},
   "outputs": [
    {
     "data": {
      "text/plain": [
       "2.5244784370148805"
      ]
     },
     "execution_count": 55,
     "metadata": {},
     "output_type": "execute_result"
    }
   ],
   "source": [
    "sports_var = np.var(sports)\n",
    "sports_var"
   ]
  },
  {
   "cell_type": "code",
   "execution_count": 56,
   "metadata": {
    "scrolled": true
   },
   "outputs": [
    {
     "name": "stdout",
     "output_type": "stream",
     "text": [
      "p-значение 0.055351601583131446\n",
      "Не получилось отвергнуть нулевую гипотезу\n",
      "Средние оценки платформы \"Action\": 6.623398328690808\n",
      "Средние оценки платформы \"Sports\": 6.510204081632653\n"
     ]
    }
   ],
   "source": [
    "alpha = .05\n",
    "\n",
    "results = st.ttest_ind(action,sports,equal_var=False)\n",
    "\n",
    "print('p-значение',results.pvalue)\n",
    "\n",
    "if results.pvalue < alpha:\n",
    "    print('Отвергаем нулевую гипотезу')\n",
    "else:\n",
    "    print('Не получилось отвергнуть нулевую гипотезу')\n",
    "    \n",
    "print('Средние оценки платформы \"Action\":',action.mean())\n",
    "print('Средние оценки платформы \"Sports\":',sports.mean())\n"
   ]
  },
  {
   "cell_type": "markdown",
   "metadata": {},
   "source": [
    "Исходя из ттестов можно сделать вывод,что средние пользовательские оценки между жанрами одинаковые в 8% случаев,что превышает порог отвегания гипотезы"
   ]
  },
  {
   "cell_type": "markdown",
   "metadata": {},
   "source": [
    "## Общий вывод"
   ]
  },
  {
   "cell_type": "markdown",
   "metadata": {},
   "source": [
    "PS4 и XOne перспективные платформы для Европы или Северной Америки\n",
    "предпочтительный жанр - Shooter \n",
    "рейтинг ESRB -\"М\"\n",
    "Регион - Северная Америка,там продано больше всего количество игр.\n",
    "Отзывы пользоватей и критиков,слабо влияют на продажи,их можно не учитывать."
   ]
  }
 ],
 "metadata": {
  "ExecuteTimeLog": [
   {
    "duration": 761,
    "start_time": "2022-05-12T22:10:58.804Z"
   },
   {
    "duration": 34,
    "start_time": "2022-05-12T22:12:15.042Z"
   },
   {
    "duration": 84,
    "start_time": "2022-05-12T22:12:30.170Z"
   },
   {
    "duration": 23,
    "start_time": "2022-05-12T22:12:39.040Z"
   },
   {
    "duration": 42,
    "start_time": "2022-05-12T22:12:50.385Z"
   },
   {
    "duration": 75,
    "start_time": "2022-05-12T22:16:34.620Z"
   },
   {
    "duration": 19,
    "start_time": "2022-05-12T22:16:34.698Z"
   },
   {
    "duration": 107,
    "start_time": "2022-05-12T22:16:34.720Z"
   },
   {
    "duration": 12,
    "start_time": "2022-05-12T22:16:34.830Z"
   },
   {
    "duration": 13,
    "start_time": "2022-05-12T22:16:34.844Z"
   },
   {
    "duration": 57,
    "start_time": "2022-05-12T22:16:34.859Z"
   },
   {
    "duration": 23,
    "start_time": "2022-05-12T22:16:34.918Z"
   },
   {
    "duration": 756,
    "start_time": "2022-05-12T22:16:34.943Z"
   },
   {
    "duration": 26,
    "start_time": "2022-05-12T22:16:35.702Z"
   },
   {
    "duration": 5,
    "start_time": "2022-05-23T20:40:36.525Z"
   },
   {
    "duration": 74,
    "start_time": "2022-05-23T20:42:27.781Z"
   },
   {
    "duration": 11,
    "start_time": "2022-05-23T20:42:35.601Z"
   },
   {
    "duration": 8,
    "start_time": "2022-05-23T20:42:45.523Z"
   },
   {
    "duration": 7,
    "start_time": "2022-05-23T20:42:57.221Z"
   },
   {
    "duration": 9,
    "start_time": "2022-05-23T20:45:32.888Z"
   },
   {
    "duration": 8,
    "start_time": "2022-05-23T20:45:49.404Z"
   },
   {
    "duration": 9,
    "start_time": "2022-05-23T20:48:11.634Z"
   },
   {
    "duration": 8,
    "start_time": "2022-05-23T20:48:23.160Z"
   },
   {
    "duration": 75,
    "start_time": "2022-05-23T20:51:19.921Z"
   },
   {
    "duration": 5,
    "start_time": "2022-05-23T20:51:21.527Z"
   },
   {
    "duration": 579,
    "start_time": "2022-05-23T20:51:28.086Z"
   },
   {
    "duration": 14,
    "start_time": "2022-05-23T20:51:28.668Z"
   },
   {
    "duration": 43,
    "start_time": "2022-05-23T20:51:28.683Z"
   },
   {
    "duration": 15,
    "start_time": "2022-05-23T20:51:28.729Z"
   },
   {
    "duration": 25,
    "start_time": "2022-05-23T20:51:28.745Z"
   },
   {
    "duration": 82,
    "start_time": "2022-05-23T20:51:28.772Z"
   },
   {
    "duration": 0,
    "start_time": "2022-05-23T20:51:28.856Z"
   },
   {
    "duration": 0,
    "start_time": "2022-05-23T20:51:28.857Z"
   },
   {
    "duration": 0,
    "start_time": "2022-05-23T20:51:28.857Z"
   },
   {
    "duration": 0,
    "start_time": "2022-05-23T20:51:28.859Z"
   },
   {
    "duration": 0,
    "start_time": "2022-05-23T20:51:28.859Z"
   },
   {
    "duration": 7,
    "start_time": "2022-05-23T20:51:52.522Z"
   },
   {
    "duration": 7,
    "start_time": "2022-05-23T20:52:10.293Z"
   },
   {
    "duration": 21,
    "start_time": "2022-05-23T20:53:47.292Z"
   },
   {
    "duration": 557,
    "start_time": "2022-05-23T20:54:58.300Z"
   },
   {
    "duration": 10,
    "start_time": "2022-05-23T20:55:08.096Z"
   },
   {
    "duration": 505,
    "start_time": "2022-05-23T20:56:40.167Z"
   },
   {
    "duration": 14,
    "start_time": "2022-05-23T20:56:40.674Z"
   },
   {
    "duration": 31,
    "start_time": "2022-05-23T20:56:40.689Z"
   },
   {
    "duration": 4,
    "start_time": "2022-05-23T20:56:40.722Z"
   },
   {
    "duration": 19,
    "start_time": "2022-05-23T20:56:40.727Z"
   },
   {
    "duration": 9,
    "start_time": "2022-05-23T20:56:40.748Z"
   },
   {
    "duration": 5,
    "start_time": "2022-05-23T20:56:40.759Z"
   },
   {
    "duration": 56,
    "start_time": "2022-05-23T20:56:40.766Z"
   },
   {
    "duration": 15,
    "start_time": "2022-05-23T20:56:40.824Z"
   },
   {
    "duration": 354,
    "start_time": "2022-05-23T20:56:40.841Z"
   },
   {
    "duration": 27,
    "start_time": "2022-05-23T20:56:41.197Z"
   },
   {
    "duration": 221,
    "start_time": "2022-05-23T21:03:34.691Z"
   },
   {
    "duration": 142,
    "start_time": "2022-05-23T21:03:44.731Z"
   },
   {
    "duration": 14,
    "start_time": "2022-05-23T21:21:45.233Z"
   },
   {
    "duration": 15,
    "start_time": "2022-05-23T21:26:16.726Z"
   },
   {
    "duration": 139,
    "start_time": "2022-05-23T21:27:44.334Z"
   },
   {
    "duration": 124,
    "start_time": "2022-05-23T21:27:46.522Z"
   },
   {
    "duration": 132,
    "start_time": "2022-05-23T21:28:27.901Z"
   },
   {
    "duration": 131,
    "start_time": "2022-05-23T21:29:39.663Z"
   },
   {
    "duration": 126,
    "start_time": "2022-05-23T21:30:19.576Z"
   },
   {
    "duration": 9,
    "start_time": "2022-05-23T21:39:12.316Z"
   },
   {
    "duration": 4,
    "start_time": "2022-05-23T21:39:54.341Z"
   },
   {
    "duration": 128,
    "start_time": "2022-05-23T21:41:26.701Z"
   },
   {
    "duration": 200,
    "start_time": "2022-05-23T21:42:46.396Z"
   },
   {
    "duration": 128,
    "start_time": "2022-05-23T21:43:02.753Z"
   },
   {
    "duration": 140,
    "start_time": "2022-05-23T21:43:28.114Z"
   },
   {
    "duration": 128,
    "start_time": "2022-05-23T21:43:36.519Z"
   },
   {
    "duration": 143,
    "start_time": "2022-05-23T21:46:28.210Z"
   },
   {
    "duration": 153,
    "start_time": "2022-05-23T21:46:40.315Z"
   },
   {
    "duration": 5,
    "start_time": "2022-05-23T21:49:24.839Z"
   },
   {
    "duration": 6,
    "start_time": "2022-05-23T21:49:29.679Z"
   },
   {
    "duration": 6,
    "start_time": "2022-05-23T21:49:56.041Z"
   },
   {
    "duration": 8,
    "start_time": "2022-05-23T21:50:02.793Z"
   },
   {
    "duration": 4,
    "start_time": "2022-05-23T21:50:55.748Z"
   },
   {
    "duration": 4,
    "start_time": "2022-05-23T21:51:06.678Z"
   },
   {
    "duration": 35,
    "start_time": "2022-05-23T21:54:12.875Z"
   },
   {
    "duration": 11,
    "start_time": "2022-05-23T21:54:28.923Z"
   },
   {
    "duration": 20,
    "start_time": "2022-05-23T21:54:37.488Z"
   },
   {
    "duration": 21,
    "start_time": "2022-05-23T21:55:32.845Z"
   },
   {
    "duration": 3,
    "start_time": "2022-05-23T22:04:48.936Z"
   },
   {
    "duration": 8,
    "start_time": "2022-05-23T22:07:41.542Z"
   },
   {
    "duration": 22,
    "start_time": "2022-05-23T22:07:49.193Z"
   },
   {
    "duration": 3,
    "start_time": "2022-05-23T22:07:50.842Z"
   },
   {
    "duration": 184,
    "start_time": "2022-05-23T22:07:52.047Z"
   },
   {
    "duration": 13,
    "start_time": "2022-05-23T22:20:12.658Z"
   },
   {
    "duration": 9,
    "start_time": "2022-05-23T22:28:59.657Z"
   },
   {
    "duration": 18,
    "start_time": "2022-05-23T22:29:50.500Z"
   },
   {
    "duration": 18,
    "start_time": "2022-05-23T22:30:26.552Z"
   },
   {
    "duration": 9,
    "start_time": "2022-05-23T22:30:36.497Z"
   },
   {
    "duration": 18,
    "start_time": "2022-05-23T22:30:46.769Z"
   },
   {
    "duration": 2,
    "start_time": "2022-05-23T22:30:48.871Z"
   },
   {
    "duration": 8,
    "start_time": "2022-05-23T22:30:49.721Z"
   },
   {
    "duration": 8,
    "start_time": "2022-05-23T22:30:58.006Z"
   },
   {
    "duration": 9,
    "start_time": "2022-05-23T22:34:52.321Z"
   },
   {
    "duration": 9,
    "start_time": "2022-05-23T22:35:26.113Z"
   },
   {
    "duration": 9,
    "start_time": "2022-05-23T22:39:38.814Z"
   },
   {
    "duration": 8,
    "start_time": "2022-05-23T22:39:46.964Z"
   },
   {
    "duration": 18,
    "start_time": "2022-05-23T22:41:37.888Z"
   },
   {
    "duration": 17,
    "start_time": "2022-05-23T23:27:01.040Z"
   },
   {
    "duration": 19,
    "start_time": "2022-05-23T23:28:21.050Z"
   },
   {
    "duration": 5,
    "start_time": "2022-05-23T23:28:51.541Z"
   },
   {
    "duration": 3,
    "start_time": "2022-05-23T23:28:53.031Z"
   },
   {
    "duration": 8,
    "start_time": "2022-05-23T23:28:54.385Z"
   },
   {
    "duration": 17,
    "start_time": "2022-05-23T23:28:55.901Z"
   },
   {
    "duration": 16,
    "start_time": "2022-05-23T23:33:06.468Z"
   },
   {
    "duration": 20,
    "start_time": "2022-05-23T23:33:22.374Z"
   },
   {
    "duration": 18,
    "start_time": "2022-05-23T23:34:43.419Z"
   },
   {
    "duration": 1748,
    "start_time": "2022-05-23T23:35:55.676Z"
   },
   {
    "duration": 1740,
    "start_time": "2022-05-23T23:36:12.569Z"
   },
   {
    "duration": 1894,
    "start_time": "2022-05-23T23:36:46.703Z"
   },
   {
    "duration": 9,
    "start_time": "2022-05-23T23:37:10.731Z"
   },
   {
    "duration": 23,
    "start_time": "2022-05-23T23:38:51.088Z"
   },
   {
    "duration": 271,
    "start_time": "2022-05-23T23:39:35.622Z"
   },
   {
    "duration": 6,
    "start_time": "2022-05-23T23:41:41.329Z"
   },
   {
    "duration": 7,
    "start_time": "2022-05-23T23:42:05.239Z"
   },
   {
    "duration": 5,
    "start_time": "2022-05-23T23:44:56.359Z"
   },
   {
    "duration": 4,
    "start_time": "2022-05-23T23:45:44.979Z"
   },
   {
    "duration": 3,
    "start_time": "2022-05-23T23:45:45.689Z"
   },
   {
    "duration": 211,
    "start_time": "2022-05-23T23:45:46.664Z"
   },
   {
    "duration": 251,
    "start_time": "2022-05-23T23:46:36.361Z"
   },
   {
    "duration": 210,
    "start_time": "2022-05-23T23:54:11.748Z"
   },
   {
    "duration": 8,
    "start_time": "2022-05-23T23:54:58.052Z"
   },
   {
    "duration": 213,
    "start_time": "2022-05-23T23:55:11.458Z"
   },
   {
    "duration": 205,
    "start_time": "2022-05-23T23:55:12.265Z"
   },
   {
    "duration": 13,
    "start_time": "2022-05-23T23:55:13.422Z"
   },
   {
    "duration": 13,
    "start_time": "2022-05-23T23:56:13.939Z"
   },
   {
    "duration": 12,
    "start_time": "2022-05-23T23:57:16.594Z"
   },
   {
    "duration": 12,
    "start_time": "2022-05-23T23:57:32.634Z"
   },
   {
    "duration": 10,
    "start_time": "2022-05-23T23:57:43.717Z"
   },
   {
    "duration": 22,
    "start_time": "2022-05-24T00:00:02.776Z"
   },
   {
    "duration": 6,
    "start_time": "2022-05-24T00:00:10.422Z"
   },
   {
    "duration": 11,
    "start_time": "2022-05-24T00:01:55.039Z"
   },
   {
    "duration": 9,
    "start_time": "2022-05-24T00:02:19.270Z"
   },
   {
    "duration": 9,
    "start_time": "2022-05-24T00:02:50.654Z"
   },
   {
    "duration": 39,
    "start_time": "2022-05-24T00:03:29.902Z"
   },
   {
    "duration": 8,
    "start_time": "2022-05-24T00:03:36.554Z"
   },
   {
    "duration": 7,
    "start_time": "2022-05-24T00:04:10.450Z"
   },
   {
    "duration": 3,
    "start_time": "2022-05-24T00:09:56.036Z"
   },
   {
    "duration": 61,
    "start_time": "2022-05-24T00:10:18.214Z"
   },
   {
    "duration": 17,
    "start_time": "2022-05-24T00:11:27.899Z"
   },
   {
    "duration": 18,
    "start_time": "2022-05-24T00:12:46.607Z"
   },
   {
    "duration": 9,
    "start_time": "2022-05-24T00:13:34.488Z"
   },
   {
    "duration": 178,
    "start_time": "2022-05-24T00:14:00.648Z"
   },
   {
    "duration": 3,
    "start_time": "2022-05-24T00:15:49.731Z"
   },
   {
    "duration": 17,
    "start_time": "2022-05-24T00:16:18.802Z"
   },
   {
    "duration": 233,
    "start_time": "2022-05-24T00:16:25.359Z"
   },
   {
    "duration": 17,
    "start_time": "2022-05-24T00:17:29.835Z"
   },
   {
    "duration": 113,
    "start_time": "2022-05-24T00:17:52.230Z"
   },
   {
    "duration": 211,
    "start_time": "2022-05-24T00:19:09.528Z"
   },
   {
    "duration": 216,
    "start_time": "2022-05-24T00:19:11.144Z"
   },
   {
    "duration": 3,
    "start_time": "2022-05-24T00:19:15.206Z"
   },
   {
    "duration": 21,
    "start_time": "2022-05-24T00:24:17.784Z"
   },
   {
    "duration": 7,
    "start_time": "2022-05-24T00:24:53.782Z"
   },
   {
    "duration": 112,
    "start_time": "2022-05-24T00:25:27.728Z"
   },
   {
    "duration": 8,
    "start_time": "2022-05-24T00:25:46.713Z"
   },
   {
    "duration": 13,
    "start_time": "2022-05-24T00:26:26.613Z"
   },
   {
    "duration": 4,
    "start_time": "2022-05-24T00:27:32.421Z"
   },
   {
    "duration": 16,
    "start_time": "2022-05-24T00:27:48.144Z"
   },
   {
    "duration": 5,
    "start_time": "2022-05-24T00:28:12.947Z"
   },
   {
    "duration": 11,
    "start_time": "2022-05-24T00:28:22.402Z"
   },
   {
    "duration": 114,
    "start_time": "2022-05-24T00:29:11.651Z"
   },
   {
    "duration": 116,
    "start_time": "2022-05-24T00:29:36.617Z"
   },
   {
    "duration": 113,
    "start_time": "2022-05-24T00:30:27.339Z"
   },
   {
    "duration": 111,
    "start_time": "2022-05-24T00:30:54.036Z"
   },
   {
    "duration": 184,
    "start_time": "2022-05-24T00:32:24.178Z"
   },
   {
    "duration": 22,
    "start_time": "2022-05-24T00:39:33.010Z"
   },
   {
    "duration": 79,
    "start_time": "2022-05-24T15:17:39.141Z"
   },
   {
    "duration": 1001,
    "start_time": "2022-05-24T15:17:47.688Z"
   },
   {
    "duration": 16,
    "start_time": "2022-05-24T15:17:48.691Z"
   },
   {
    "duration": 30,
    "start_time": "2022-05-24T15:17:48.709Z"
   },
   {
    "duration": 25,
    "start_time": "2022-05-24T15:17:48.741Z"
   },
   {
    "duration": 30,
    "start_time": "2022-05-24T15:17:48.768Z"
   },
   {
    "duration": 11,
    "start_time": "2022-05-24T15:17:48.799Z"
   },
   {
    "duration": 5,
    "start_time": "2022-05-24T15:17:48.812Z"
   },
   {
    "duration": 25,
    "start_time": "2022-05-24T15:17:48.819Z"
   },
   {
    "duration": 38,
    "start_time": "2022-05-24T15:17:48.846Z"
   },
   {
    "duration": 229,
    "start_time": "2022-05-24T15:17:48.887Z"
   },
   {
    "duration": 113,
    "start_time": "2022-05-24T15:17:49.118Z"
   },
   {
    "duration": 0,
    "start_time": "2022-05-24T15:17:49.233Z"
   },
   {
    "duration": 0,
    "start_time": "2022-05-24T15:17:49.235Z"
   },
   {
    "duration": 0,
    "start_time": "2022-05-24T15:17:49.236Z"
   },
   {
    "duration": 0,
    "start_time": "2022-05-24T15:17:49.238Z"
   },
   {
    "duration": 0,
    "start_time": "2022-05-24T15:17:49.239Z"
   },
   {
    "duration": 0,
    "start_time": "2022-05-24T15:17:49.241Z"
   },
   {
    "duration": 0,
    "start_time": "2022-05-24T15:17:49.243Z"
   },
   {
    "duration": 0,
    "start_time": "2022-05-24T15:17:49.245Z"
   },
   {
    "duration": 0,
    "start_time": "2022-05-24T15:17:49.265Z"
   },
   {
    "duration": 0,
    "start_time": "2022-05-24T15:17:49.267Z"
   },
   {
    "duration": 0,
    "start_time": "2022-05-24T15:17:49.268Z"
   },
   {
    "duration": 0,
    "start_time": "2022-05-24T15:17:49.272Z"
   },
   {
    "duration": 0,
    "start_time": "2022-05-24T15:17:49.273Z"
   },
   {
    "duration": 0,
    "start_time": "2022-05-24T15:17:49.276Z"
   },
   {
    "duration": 0,
    "start_time": "2022-05-24T15:17:49.277Z"
   },
   {
    "duration": 0,
    "start_time": "2022-05-24T15:17:49.279Z"
   },
   {
    "duration": 0,
    "start_time": "2022-05-24T15:17:49.280Z"
   },
   {
    "duration": 765,
    "start_time": "2022-05-24T15:18:19.227Z"
   },
   {
    "duration": 15,
    "start_time": "2022-05-24T15:18:19.994Z"
   },
   {
    "duration": 31,
    "start_time": "2022-05-24T15:18:20.011Z"
   },
   {
    "duration": 29,
    "start_time": "2022-05-24T15:18:20.044Z"
   },
   {
    "duration": 25,
    "start_time": "2022-05-24T15:18:20.077Z"
   },
   {
    "duration": 12,
    "start_time": "2022-05-24T15:18:20.103Z"
   },
   {
    "duration": 10,
    "start_time": "2022-05-24T15:18:20.117Z"
   },
   {
    "duration": 41,
    "start_time": "2022-05-24T15:18:20.129Z"
   },
   {
    "duration": 17,
    "start_time": "2022-05-24T15:18:20.177Z"
   },
   {
    "duration": 180,
    "start_time": "2022-05-24T15:18:20.197Z"
   },
   {
    "duration": 21,
    "start_time": "2022-05-24T15:18:20.379Z"
   },
   {
    "duration": 149,
    "start_time": "2022-05-24T15:18:20.403Z"
   },
   {
    "duration": 165,
    "start_time": "2022-05-24T15:18:20.554Z"
   },
   {
    "duration": 170,
    "start_time": "2022-05-24T15:18:20.721Z"
   },
   {
    "duration": 162,
    "start_time": "2022-05-24T15:18:20.893Z"
   },
   {
    "duration": 164,
    "start_time": "2022-05-24T15:18:21.057Z"
   },
   {
    "duration": 26,
    "start_time": "2022-05-24T15:18:21.223Z"
   },
   {
    "duration": 13,
    "start_time": "2022-05-24T15:18:21.268Z"
   },
   {
    "duration": 9,
    "start_time": "2022-05-24T15:18:21.283Z"
   },
   {
    "duration": 7,
    "start_time": "2022-05-24T15:18:21.293Z"
   },
   {
    "duration": 260,
    "start_time": "2022-05-24T15:18:21.301Z"
   },
   {
    "duration": 263,
    "start_time": "2022-05-24T15:18:21.570Z"
   },
   {
    "duration": 3,
    "start_time": "2022-05-24T15:18:21.835Z"
   },
   {
    "duration": 28,
    "start_time": "2022-05-24T15:18:21.840Z"
   },
   {
    "duration": 31,
    "start_time": "2022-05-24T15:18:21.870Z"
   },
   {
    "duration": 84,
    "start_time": "2022-05-24T15:18:21.903Z"
   },
   {
    "duration": 0,
    "start_time": "2022-05-24T15:18:21.989Z"
   },
   {
    "duration": 0,
    "start_time": "2022-05-24T15:18:21.990Z"
   },
   {
    "duration": 2,
    "start_time": "2022-05-24T15:20:28.841Z"
   },
   {
    "duration": 21,
    "start_time": "2022-05-24T15:20:32.492Z"
   },
   {
    "duration": 8,
    "start_time": "2022-05-24T15:20:37.294Z"
   },
   {
    "duration": 863,
    "start_time": "2022-05-24T15:22:18.329Z"
   },
   {
    "duration": 4,
    "start_time": "2022-05-24T15:25:58.496Z"
   },
   {
    "duration": 7,
    "start_time": "2022-05-24T15:26:52.963Z"
   },
   {
    "duration": 6,
    "start_time": "2022-05-24T15:27:15.119Z"
   },
   {
    "duration": 156,
    "start_time": "2022-05-24T15:28:44.634Z"
   },
   {
    "duration": 84,
    "start_time": "2022-05-24T17:42:01.310Z"
   },
   {
    "duration": 1143,
    "start_time": "2022-05-24T17:42:12.303Z"
   },
   {
    "duration": 19,
    "start_time": "2022-05-24T17:42:13.449Z"
   },
   {
    "duration": 53,
    "start_time": "2022-05-24T17:42:13.470Z"
   },
   {
    "duration": 5,
    "start_time": "2022-05-24T17:42:13.525Z"
   },
   {
    "duration": 25,
    "start_time": "2022-05-24T17:42:13.532Z"
   },
   {
    "duration": 20,
    "start_time": "2022-05-24T17:42:13.560Z"
   },
   {
    "duration": 7,
    "start_time": "2022-05-24T17:42:13.582Z"
   },
   {
    "duration": 51,
    "start_time": "2022-05-24T17:42:13.591Z"
   },
   {
    "duration": 18,
    "start_time": "2022-05-24T17:42:13.644Z"
   },
   {
    "duration": 174,
    "start_time": "2022-05-24T17:42:13.665Z"
   },
   {
    "duration": 21,
    "start_time": "2022-05-24T17:42:13.840Z"
   },
   {
    "duration": 196,
    "start_time": "2022-05-24T17:42:13.863Z"
   },
   {
    "duration": 189,
    "start_time": "2022-05-24T17:42:14.061Z"
   },
   {
    "duration": 233,
    "start_time": "2022-05-24T17:42:14.252Z"
   },
   {
    "duration": 175,
    "start_time": "2022-05-24T17:42:14.487Z"
   },
   {
    "duration": 171,
    "start_time": "2022-05-24T17:42:14.664Z"
   },
   {
    "duration": 23,
    "start_time": "2022-05-24T17:42:14.837Z"
   },
   {
    "duration": 11,
    "start_time": "2022-05-24T17:42:14.862Z"
   },
   {
    "duration": 13,
    "start_time": "2022-05-24T17:42:14.875Z"
   },
   {
    "duration": 6,
    "start_time": "2022-05-24T17:42:14.889Z"
   },
   {
    "duration": 332,
    "start_time": "2022-05-24T17:42:14.923Z"
   },
   {
    "duration": 316,
    "start_time": "2022-05-24T17:42:15.256Z"
   },
   {
    "duration": 5,
    "start_time": "2022-05-24T17:42:15.574Z"
   },
   {
    "duration": 29,
    "start_time": "2022-05-24T17:42:15.580Z"
   },
   {
    "duration": 31,
    "start_time": "2022-05-24T17:42:15.611Z"
   },
   {
    "duration": 710,
    "start_time": "2022-05-24T17:42:15.646Z"
   },
   {
    "duration": 175,
    "start_time": "2022-05-24T17:42:16.358Z"
   },
   {
    "duration": 9,
    "start_time": "2022-05-24T17:42:16.537Z"
   },
   {
    "duration": 239,
    "start_time": "2022-05-24T17:42:16.548Z"
   },
   {
    "duration": 18,
    "start_time": "2022-05-24T17:42:16.789Z"
   },
   {
    "duration": 271,
    "start_time": "2022-05-24T17:42:16.810Z"
   },
   {
    "duration": 233,
    "start_time": "2022-05-24T17:42:32.969Z"
   },
   {
    "duration": 220,
    "start_time": "2022-05-24T17:43:10.456Z"
   },
   {
    "duration": 111,
    "start_time": "2022-05-24T17:44:32.314Z"
   },
   {
    "duration": 141,
    "start_time": "2022-05-24T17:46:36.547Z"
   },
   {
    "duration": 131,
    "start_time": "2022-05-24T17:47:27.041Z"
   },
   {
    "duration": 128,
    "start_time": "2022-05-24T17:48:34.236Z"
   },
   {
    "duration": 155,
    "start_time": "2022-05-24T17:49:12.487Z"
   },
   {
    "duration": 138,
    "start_time": "2022-05-24T17:54:02.131Z"
   },
   {
    "duration": 144,
    "start_time": "2022-05-24T17:54:32.327Z"
   },
   {
    "duration": 328,
    "start_time": "2022-05-24T18:32:40.792Z"
   },
   {
    "duration": 230,
    "start_time": "2022-05-24T18:33:21.407Z"
   },
   {
    "duration": 207,
    "start_time": "2022-05-24T18:39:37.161Z"
   },
   {
    "duration": 29,
    "start_time": "2022-05-24T18:43:40.014Z"
   },
   {
    "duration": 10,
    "start_time": "2022-05-24T18:44:16.416Z"
   },
   {
    "duration": 14,
    "start_time": "2022-05-24T18:44:24.080Z"
   },
   {
    "duration": 20,
    "start_time": "2022-05-24T18:47:03.129Z"
   },
   {
    "duration": 19,
    "start_time": "2022-05-24T18:47:18.876Z"
   },
   {
    "duration": 10,
    "start_time": "2022-05-24T18:48:05.385Z"
   },
   {
    "duration": 14,
    "start_time": "2022-05-24T18:48:31.689Z"
   },
   {
    "duration": 16,
    "start_time": "2022-05-24T18:48:53.040Z"
   },
   {
    "duration": 15,
    "start_time": "2022-05-24T18:49:12.486Z"
   },
   {
    "duration": 15,
    "start_time": "2022-05-24T18:49:26.587Z"
   },
   {
    "duration": 14,
    "start_time": "2022-05-24T18:49:53.853Z"
   },
   {
    "duration": 15,
    "start_time": "2022-05-24T18:53:10.679Z"
   },
   {
    "duration": 14,
    "start_time": "2022-05-24T18:53:27.378Z"
   },
   {
    "duration": 14,
    "start_time": "2022-05-24T18:54:08.330Z"
   },
   {
    "duration": 20,
    "start_time": "2022-05-24T18:54:29.736Z"
   },
   {
    "duration": 36,
    "start_time": "2022-05-24T18:55:12.260Z"
   },
   {
    "duration": 14,
    "start_time": "2022-05-24T18:55:47.162Z"
   },
   {
    "duration": 14,
    "start_time": "2022-05-24T18:56:16.572Z"
   },
   {
    "duration": 14,
    "start_time": "2022-05-24T18:56:37.718Z"
   },
   {
    "duration": 3,
    "start_time": "2022-05-24T19:09:21.530Z"
   },
   {
    "duration": 437,
    "start_time": "2022-05-24T19:11:44.113Z"
   },
   {
    "duration": 3,
    "start_time": "2022-05-24T19:15:53.607Z"
   },
   {
    "duration": 42,
    "start_time": "2022-05-24T19:16:41.479Z"
   },
   {
    "duration": 274,
    "start_time": "2022-05-24T19:16:53.580Z"
   },
   {
    "duration": 163,
    "start_time": "2022-05-24T19:19:12.609Z"
   },
   {
    "duration": 183,
    "start_time": "2022-05-24T19:19:18.489Z"
   },
   {
    "duration": 179,
    "start_time": "2022-05-24T19:22:32.817Z"
   },
   {
    "duration": 204,
    "start_time": "2022-05-24T19:24:29.180Z"
   },
   {
    "duration": 3,
    "start_time": "2022-05-24T19:27:46.773Z"
   },
   {
    "duration": 2,
    "start_time": "2022-05-24T19:33:18.099Z"
   },
   {
    "duration": 2,
    "start_time": "2022-05-24T19:34:48.671Z"
   },
   {
    "duration": 25,
    "start_time": "2022-05-24T19:38:39.747Z"
   },
   {
    "duration": 28,
    "start_time": "2022-05-24T19:38:53.366Z"
   },
   {
    "duration": 30,
    "start_time": "2022-05-24T19:39:05.094Z"
   },
   {
    "duration": 26,
    "start_time": "2022-05-24T19:39:18.865Z"
   },
   {
    "duration": 33,
    "start_time": "2022-05-24T19:39:31.874Z"
   },
   {
    "duration": 30,
    "start_time": "2022-05-24T19:39:41.580Z"
   },
   {
    "duration": 38,
    "start_time": "2022-05-24T19:39:53.098Z"
   },
   {
    "duration": 149,
    "start_time": "2022-05-24T19:40:51.264Z"
   },
   {
    "duration": 182,
    "start_time": "2022-05-24T19:41:07.872Z"
   },
   {
    "duration": 178,
    "start_time": "2022-05-24T19:42:02.749Z"
   },
   {
    "duration": 14,
    "start_time": "2022-05-24T19:44:49.559Z"
   },
   {
    "duration": 15,
    "start_time": "2022-05-24T19:44:51.660Z"
   },
   {
    "duration": 16,
    "start_time": "2022-05-24T19:44:56.168Z"
   },
   {
    "duration": 162,
    "start_time": "2022-05-24T19:46:29.455Z"
   },
   {
    "duration": 147,
    "start_time": "2022-05-24T19:46:39.693Z"
   },
   {
    "duration": 20,
    "start_time": "2022-05-24T19:47:47.324Z"
   },
   {
    "duration": 19,
    "start_time": "2022-05-24T19:48:21.320Z"
   },
   {
    "duration": 18,
    "start_time": "2022-05-24T19:48:40.114Z"
   },
   {
    "duration": 18,
    "start_time": "2022-05-24T19:49:51.369Z"
   },
   {
    "duration": 134,
    "start_time": "2022-05-24T19:53:34.263Z"
   },
   {
    "duration": 241,
    "start_time": "2022-05-24T19:53:47.290Z"
   },
   {
    "duration": 191,
    "start_time": "2022-05-24T19:54:12.572Z"
   },
   {
    "duration": 246,
    "start_time": "2022-05-24T19:54:44.542Z"
   },
   {
    "duration": 137,
    "start_time": "2022-05-24T19:57:44.325Z"
   },
   {
    "duration": 122,
    "start_time": "2022-05-24T19:58:02.190Z"
   },
   {
    "duration": 16,
    "start_time": "2022-05-24T19:58:15.719Z"
   },
   {
    "duration": 116,
    "start_time": "2022-05-24T19:58:30.041Z"
   },
   {
    "duration": 17,
    "start_time": "2022-05-24T19:58:40.112Z"
   },
   {
    "duration": 19,
    "start_time": "2022-05-24T19:58:42.570Z"
   },
   {
    "duration": 15,
    "start_time": "2022-05-24T19:58:44.815Z"
   },
   {
    "duration": 3,
    "start_time": "2022-05-24T19:59:16.844Z"
   },
   {
    "duration": 3,
    "start_time": "2022-05-24T20:01:52.929Z"
   },
   {
    "duration": 22,
    "start_time": "2022-05-24T20:02:16.263Z"
   },
   {
    "duration": 13,
    "start_time": "2022-05-24T20:04:58.439Z"
   },
   {
    "duration": 4,
    "start_time": "2022-05-24T20:05:12.074Z"
   },
   {
    "duration": 8,
    "start_time": "2022-05-24T20:05:31.877Z"
   },
   {
    "duration": 6,
    "start_time": "2022-05-24T20:05:43.127Z"
   },
   {
    "duration": 7,
    "start_time": "2022-05-24T20:05:53.323Z"
   },
   {
    "duration": 11,
    "start_time": "2022-05-24T20:06:24.333Z"
   },
   {
    "duration": 8,
    "start_time": "2022-05-24T20:07:31.264Z"
   },
   {
    "duration": 3,
    "start_time": "2022-05-24T20:07:41.122Z"
   },
   {
    "duration": 4,
    "start_time": "2022-05-24T20:07:48.792Z"
   },
   {
    "duration": 4,
    "start_time": "2022-05-24T20:08:26.883Z"
   },
   {
    "duration": 15,
    "start_time": "2022-05-24T20:08:36.619Z"
   },
   {
    "duration": 6,
    "start_time": "2022-05-24T20:10:23.973Z"
   },
   {
    "duration": 12,
    "start_time": "2022-05-24T20:11:12.570Z"
   },
   {
    "duration": 8,
    "start_time": "2022-05-24T20:11:23.833Z"
   },
   {
    "duration": 4,
    "start_time": "2022-05-24T20:11:25.624Z"
   },
   {
    "duration": 6,
    "start_time": "2022-05-24T20:11:26.823Z"
   },
   {
    "duration": 5,
    "start_time": "2022-05-24T20:11:28.670Z"
   },
   {
    "duration": 23,
    "start_time": "2022-05-24T20:11:59.752Z"
   },
   {
    "duration": 5,
    "start_time": "2022-05-24T20:12:42.336Z"
   },
   {
    "duration": 8,
    "start_time": "2022-05-24T20:13:14.260Z"
   },
   {
    "duration": 4,
    "start_time": "2022-05-24T20:13:15.256Z"
   },
   {
    "duration": 5,
    "start_time": "2022-05-24T20:13:16.095Z"
   },
   {
    "duration": 5,
    "start_time": "2022-05-24T20:13:17.200Z"
   },
   {
    "duration": 9,
    "start_time": "2022-05-24T20:14:11.929Z"
   },
   {
    "duration": 5,
    "start_time": "2022-05-24T20:14:13.082Z"
   },
   {
    "duration": 11,
    "start_time": "2022-05-24T20:14:54.681Z"
   },
   {
    "duration": 10,
    "start_time": "2022-05-24T20:16:30.655Z"
   },
   {
    "duration": 10,
    "start_time": "2022-05-24T20:17:43.863Z"
   },
   {
    "duration": 5,
    "start_time": "2022-05-24T20:17:58.909Z"
   },
   {
    "duration": 5,
    "start_time": "2022-05-24T20:17:59.996Z"
   },
   {
    "duration": 8,
    "start_time": "2022-05-24T20:19:15.292Z"
   },
   {
    "duration": 21,
    "start_time": "2022-05-24T20:19:45.116Z"
   },
   {
    "duration": 9,
    "start_time": "2022-05-24T20:19:54.336Z"
   },
   {
    "duration": 4,
    "start_time": "2022-05-24T20:20:07.922Z"
   },
   {
    "duration": 4,
    "start_time": "2022-05-24T20:20:09.615Z"
   },
   {
    "duration": 20,
    "start_time": "2022-05-24T20:20:44.195Z"
   },
   {
    "duration": 5,
    "start_time": "2022-05-24T20:21:06.807Z"
   },
   {
    "duration": 22,
    "start_time": "2022-05-24T20:21:24.934Z"
   },
   {
    "duration": 11,
    "start_time": "2022-05-24T20:21:37.522Z"
   },
   {
    "duration": 13,
    "start_time": "2022-05-24T20:21:48.781Z"
   },
   {
    "duration": 12,
    "start_time": "2022-05-24T20:22:03.148Z"
   },
   {
    "duration": 5,
    "start_time": "2022-05-24T20:23:56.907Z"
   },
   {
    "duration": 5,
    "start_time": "2022-05-24T20:23:58.146Z"
   },
   {
    "duration": 6,
    "start_time": "2022-05-24T20:24:01.948Z"
   },
   {
    "duration": 6,
    "start_time": "2022-05-24T20:24:32.108Z"
   },
   {
    "duration": 6,
    "start_time": "2022-05-24T20:29:58.961Z"
   },
   {
    "duration": 8,
    "start_time": "2022-05-24T20:30:27.198Z"
   },
   {
    "duration": 14,
    "start_time": "2022-05-24T20:33:38.062Z"
   },
   {
    "duration": 4,
    "start_time": "2022-05-24T20:34:13.095Z"
   },
   {
    "duration": 6,
    "start_time": "2022-05-24T20:34:14.847Z"
   },
   {
    "duration": 9,
    "start_time": "2022-05-24T20:34:57.345Z"
   },
   {
    "duration": 9,
    "start_time": "2022-05-24T20:35:34.774Z"
   },
   {
    "duration": 11,
    "start_time": "2022-05-24T20:36:27.028Z"
   },
   {
    "duration": 9,
    "start_time": "2022-05-24T20:36:46.489Z"
   },
   {
    "duration": 8,
    "start_time": "2022-05-24T20:38:31.118Z"
   },
   {
    "duration": 9,
    "start_time": "2022-05-24T20:38:36.447Z"
   },
   {
    "duration": 5,
    "start_time": "2022-05-24T20:38:37.478Z"
   },
   {
    "duration": 5,
    "start_time": "2022-05-24T20:38:39.072Z"
   },
   {
    "duration": 11,
    "start_time": "2022-05-24T20:38:44.457Z"
   },
   {
    "duration": 13,
    "start_time": "2022-05-24T20:39:02.319Z"
   },
   {
    "duration": 5,
    "start_time": "2022-05-24T20:39:13.239Z"
   },
   {
    "duration": 17,
    "start_time": "2022-05-24T20:40:44.818Z"
   },
   {
    "duration": 34,
    "start_time": "2022-05-24T20:46:30.286Z"
   },
   {
    "duration": 21,
    "start_time": "2022-05-24T20:46:59.021Z"
   },
   {
    "duration": 12,
    "start_time": "2022-05-24T20:47:06.569Z"
   },
   {
    "duration": 1197,
    "start_time": "2022-05-25T15:24:23.537Z"
   },
   {
    "duration": 16,
    "start_time": "2022-05-25T15:24:24.736Z"
   },
   {
    "duration": 42,
    "start_time": "2022-05-25T15:24:24.754Z"
   },
   {
    "duration": 5,
    "start_time": "2022-05-25T15:24:24.799Z"
   },
   {
    "duration": 50,
    "start_time": "2022-05-25T15:24:24.807Z"
   },
   {
    "duration": 14,
    "start_time": "2022-05-25T15:24:24.860Z"
   },
   {
    "duration": 8,
    "start_time": "2022-05-25T15:24:24.877Z"
   },
   {
    "duration": 34,
    "start_time": "2022-05-25T15:24:24.886Z"
   },
   {
    "duration": 50,
    "start_time": "2022-05-25T15:24:24.922Z"
   },
   {
    "duration": 273,
    "start_time": "2022-05-25T15:24:24.976Z"
   },
   {
    "duration": 23,
    "start_time": "2022-05-25T15:24:25.252Z"
   },
   {
    "duration": 46,
    "start_time": "2022-05-25T15:24:25.277Z"
   },
   {
    "duration": 6,
    "start_time": "2022-05-25T15:24:25.326Z"
   },
   {
    "duration": 307,
    "start_time": "2022-05-25T15:24:25.335Z"
   },
   {
    "duration": 40,
    "start_time": "2022-05-25T15:24:25.644Z"
   },
   {
    "duration": 9,
    "start_time": "2022-05-25T15:24:25.686Z"
   },
   {
    "duration": 8,
    "start_time": "2022-05-25T15:24:25.697Z"
   },
   {
    "duration": 8,
    "start_time": "2022-05-25T15:24:25.708Z"
   },
   {
    "duration": 274,
    "start_time": "2022-05-25T15:24:25.751Z"
   },
   {
    "duration": 291,
    "start_time": "2022-05-25T15:24:26.027Z"
   },
   {
    "duration": 3,
    "start_time": "2022-05-25T15:24:26.320Z"
   },
   {
    "duration": 37,
    "start_time": "2022-05-25T15:24:26.325Z"
   },
   {
    "duration": 23,
    "start_time": "2022-05-25T15:24:26.364Z"
   },
   {
    "duration": 815,
    "start_time": "2022-05-25T15:24:26.389Z"
   },
   {
    "duration": 201,
    "start_time": "2022-05-25T15:24:27.207Z"
   },
   {
    "duration": 245,
    "start_time": "2022-05-25T15:24:27.410Z"
   },
   {
    "duration": 253,
    "start_time": "2022-05-25T15:24:27.657Z"
   },
   {
    "duration": 215,
    "start_time": "2022-05-25T15:24:27.916Z"
   },
   {
    "duration": 233,
    "start_time": "2022-05-25T15:24:28.132Z"
   },
   {
    "duration": 198,
    "start_time": "2022-05-25T15:24:28.367Z"
   },
   {
    "duration": 172,
    "start_time": "2022-05-25T15:24:28.568Z"
   },
   {
    "duration": 265,
    "start_time": "2022-05-25T15:24:28.742Z"
   },
   {
    "duration": 15,
    "start_time": "2022-05-25T15:24:29.009Z"
   },
   {
    "duration": 267,
    "start_time": "2022-05-25T15:24:29.026Z"
   },
   {
    "duration": 19,
    "start_time": "2022-05-25T15:24:29.295Z"
   },
   {
    "duration": 42,
    "start_time": "2022-05-25T15:24:29.316Z"
   },
   {
    "duration": 22,
    "start_time": "2022-05-25T15:24:29.360Z"
   },
   {
    "duration": 20,
    "start_time": "2022-05-25T15:24:29.384Z"
   },
   {
    "duration": 58,
    "start_time": "2022-05-25T15:24:29.406Z"
   },
   {
    "duration": 21,
    "start_time": "2022-05-25T15:24:29.467Z"
   },
   {
    "duration": 16,
    "start_time": "2022-05-25T15:24:29.491Z"
   },
   {
    "duration": 48,
    "start_time": "2022-05-25T15:24:29.509Z"
   },
   {
    "duration": 17,
    "start_time": "2022-05-25T15:24:29.559Z"
   },
   {
    "duration": 4,
    "start_time": "2022-05-25T15:24:29.578Z"
   },
   {
    "duration": 5,
    "start_time": "2022-05-25T15:24:29.585Z"
   },
   {
    "duration": 182,
    "start_time": "2022-05-25T15:24:29.592Z"
   },
   {
    "duration": 0,
    "start_time": "2022-05-25T15:24:29.775Z"
   },
   {
    "duration": 0,
    "start_time": "2022-05-25T15:24:29.778Z"
   },
   {
    "duration": 0,
    "start_time": "2022-05-25T15:24:29.779Z"
   },
   {
    "duration": 0,
    "start_time": "2022-05-25T15:24:29.781Z"
   },
   {
    "duration": 0,
    "start_time": "2022-05-25T15:24:29.782Z"
   },
   {
    "duration": 18,
    "start_time": "2022-05-25T15:27:06.057Z"
   },
   {
    "duration": 20,
    "start_time": "2022-05-25T15:27:23.745Z"
   },
   {
    "duration": 218,
    "start_time": "2022-05-25T15:28:11.044Z"
   },
   {
    "duration": 192,
    "start_time": "2022-05-25T15:32:07.171Z"
   },
   {
    "duration": 212,
    "start_time": "2022-05-25T15:32:13.863Z"
   },
   {
    "duration": 194,
    "start_time": "2022-05-25T15:32:21.081Z"
   },
   {
    "duration": 160,
    "start_time": "2022-05-25T15:54:28.886Z"
   },
   {
    "duration": 198,
    "start_time": "2022-05-25T16:02:01.170Z"
   },
   {
    "duration": 215,
    "start_time": "2022-05-25T16:02:48.515Z"
   },
   {
    "duration": 217,
    "start_time": "2022-05-25T16:03:23.735Z"
   },
   {
    "duration": 25,
    "start_time": "2022-05-25T16:04:52.954Z"
   },
   {
    "duration": 188,
    "start_time": "2022-05-25T16:09:22.658Z"
   },
   {
    "duration": 325,
    "start_time": "2022-05-25T16:09:49.991Z"
   },
   {
    "duration": 439,
    "start_time": "2022-05-25T16:11:49.786Z"
   },
   {
    "duration": 357,
    "start_time": "2022-05-25T16:12:02.989Z"
   },
   {
    "duration": 403,
    "start_time": "2022-05-25T16:12:23.391Z"
   },
   {
    "duration": 296,
    "start_time": "2022-05-25T16:12:43.022Z"
   },
   {
    "duration": 340,
    "start_time": "2022-05-25T16:12:53.473Z"
   },
   {
    "duration": 327,
    "start_time": "2022-05-25T16:15:52.370Z"
   },
   {
    "duration": 308,
    "start_time": "2022-05-25T16:18:37.167Z"
   },
   {
    "duration": 190,
    "start_time": "2022-05-25T16:20:35.793Z"
   },
   {
    "duration": 165,
    "start_time": "2022-05-25T16:21:08.220Z"
   },
   {
    "duration": 351,
    "start_time": "2022-05-25T16:22:18.230Z"
   },
   {
    "duration": 406,
    "start_time": "2022-05-25T16:23:05.067Z"
   },
   {
    "duration": 63,
    "start_time": "2022-05-25T16:27:05.013Z"
   },
   {
    "duration": 418,
    "start_time": "2022-05-25T16:27:19.732Z"
   },
   {
    "duration": 258,
    "start_time": "2022-05-25T16:36:03.277Z"
   },
   {
    "duration": 13,
    "start_time": "2022-05-25T16:37:46.709Z"
   },
   {
    "duration": 246,
    "start_time": "2022-05-25T16:44:07.849Z"
   },
   {
    "duration": 229,
    "start_time": "2022-05-25T16:46:47.207Z"
   },
   {
    "duration": 243,
    "start_time": "2022-05-25T16:47:04.030Z"
   },
   {
    "duration": 309,
    "start_time": "2022-05-25T16:48:32.721Z"
   },
   {
    "duration": 260,
    "start_time": "2022-05-25T16:49:24.204Z"
   },
   {
    "duration": 222,
    "start_time": "2022-05-25T16:49:36.804Z"
   },
   {
    "duration": 323,
    "start_time": "2022-05-25T16:49:44.327Z"
   },
   {
    "duration": 11,
    "start_time": "2022-05-25T16:51:39.307Z"
   },
   {
    "duration": 146,
    "start_time": "2022-05-25T16:54:59.691Z"
   },
   {
    "duration": 137,
    "start_time": "2022-05-25T17:04:40.622Z"
   },
   {
    "duration": 19,
    "start_time": "2022-05-25T17:04:53.603Z"
   },
   {
    "duration": 142,
    "start_time": "2022-05-25T17:06:48.551Z"
   },
   {
    "duration": 22,
    "start_time": "2022-05-25T17:06:55.183Z"
   },
   {
    "duration": 165,
    "start_time": "2022-05-25T17:07:02.833Z"
   },
   {
    "duration": 121,
    "start_time": "2022-05-25T17:09:01.069Z"
   },
   {
    "duration": 17,
    "start_time": "2022-05-25T17:09:01.478Z"
   },
   {
    "duration": 171,
    "start_time": "2022-05-25T17:14:45.431Z"
   },
   {
    "duration": 211,
    "start_time": "2022-05-25T17:15:18.176Z"
   },
   {
    "duration": 386,
    "start_time": "2022-05-25T17:15:27.879Z"
   },
   {
    "duration": 223,
    "start_time": "2022-05-25T17:15:43.684Z"
   },
   {
    "duration": 33,
    "start_time": "2022-05-25T17:15:58.450Z"
   },
   {
    "duration": 31,
    "start_time": "2022-05-25T17:16:28.561Z"
   },
   {
    "duration": 136,
    "start_time": "2022-05-25T17:16:49.980Z"
   },
   {
    "duration": 227,
    "start_time": "2022-05-25T17:17:03.969Z"
   },
   {
    "duration": 33,
    "start_time": "2022-05-25T17:17:24.268Z"
   },
   {
    "duration": 75,
    "start_time": "2022-05-25T17:17:54.910Z"
   },
   {
    "duration": 24,
    "start_time": "2022-05-25T17:21:05.691Z"
   },
   {
    "duration": 50,
    "start_time": "2022-05-25T17:32:28.178Z"
   },
   {
    "duration": 44,
    "start_time": "2022-05-25T17:32:40.535Z"
   },
   {
    "duration": 14,
    "start_time": "2022-05-25T17:36:07.809Z"
   },
   {
    "duration": 42,
    "start_time": "2022-05-25T17:38:54.471Z"
   },
   {
    "duration": 334,
    "start_time": "2022-05-25T17:39:51.042Z"
   },
   {
    "duration": 340,
    "start_time": "2022-05-25T17:40:13.882Z"
   },
   {
    "duration": 827,
    "start_time": "2022-05-25T17:41:12.681Z"
   },
   {
    "duration": 46,
    "start_time": "2022-05-25T17:41:32.783Z"
   },
   {
    "duration": 41,
    "start_time": "2022-05-25T17:43:17.965Z"
   },
   {
    "duration": 18,
    "start_time": "2022-05-25T17:44:05.280Z"
   },
   {
    "duration": 19,
    "start_time": "2022-05-25T17:52:07.000Z"
   },
   {
    "duration": 48,
    "start_time": "2022-05-25T17:52:28.565Z"
   },
   {
    "duration": 41,
    "start_time": "2022-05-25T17:52:34.591Z"
   },
   {
    "duration": 29,
    "start_time": "2022-05-25T17:56:52.183Z"
   },
   {
    "duration": 22,
    "start_time": "2022-05-25T17:57:21.836Z"
   },
   {
    "duration": 40,
    "start_time": "2022-05-25T18:03:23.486Z"
   },
   {
    "duration": 8,
    "start_time": "2022-05-25T18:03:43.187Z"
   },
   {
    "duration": 37,
    "start_time": "2022-05-25T18:03:59.388Z"
   },
   {
    "duration": 8,
    "start_time": "2022-05-25T18:04:40.191Z"
   },
   {
    "duration": 31,
    "start_time": "2022-05-25T18:04:56.141Z"
   },
   {
    "duration": 20,
    "start_time": "2022-05-25T18:05:24.051Z"
   },
   {
    "duration": 17,
    "start_time": "2022-05-25T18:09:25.148Z"
   },
   {
    "duration": 12,
    "start_time": "2022-05-25T18:09:41.839Z"
   },
   {
    "duration": 5,
    "start_time": "2022-05-25T18:10:18.497Z"
   },
   {
    "duration": 13,
    "start_time": "2022-05-25T18:10:19.835Z"
   },
   {
    "duration": 60,
    "start_time": "2022-05-25T18:36:29.237Z"
   },
   {
    "duration": 36,
    "start_time": "2022-05-25T18:37:02.813Z"
   },
   {
    "duration": 40,
    "start_time": "2022-05-25T18:37:46.767Z"
   },
   {
    "duration": 40,
    "start_time": "2022-05-25T18:38:03.748Z"
   },
   {
    "duration": 16,
    "start_time": "2022-05-25T18:38:18.863Z"
   },
   {
    "duration": 12,
    "start_time": "2022-05-25T18:38:50.495Z"
   },
   {
    "duration": 12,
    "start_time": "2022-05-25T18:39:00.405Z"
   },
   {
    "duration": 13,
    "start_time": "2022-05-25T18:39:06.064Z"
   },
   {
    "duration": 4,
    "start_time": "2022-05-25T18:39:10.995Z"
   },
   {
    "duration": 4,
    "start_time": "2022-05-25T18:39:12.539Z"
   },
   {
    "duration": 17,
    "start_time": "2022-05-25T18:39:15.747Z"
   },
   {
    "duration": 6,
    "start_time": "2022-05-25T18:40:00.601Z"
   },
   {
    "duration": 22,
    "start_time": "2022-05-25T18:41:18.810Z"
   },
   {
    "duration": 10,
    "start_time": "2022-05-25T18:42:50.926Z"
   },
   {
    "duration": 3,
    "start_time": "2022-05-25T18:43:24.012Z"
   },
   {
    "duration": 5,
    "start_time": "2022-05-25T18:43:31.921Z"
   },
   {
    "duration": 6,
    "start_time": "2022-05-25T18:43:58.899Z"
   },
   {
    "duration": 5,
    "start_time": "2022-05-25T18:44:19.517Z"
   },
   {
    "duration": 34,
    "start_time": "2022-05-25T18:48:36.546Z"
   },
   {
    "duration": 11,
    "start_time": "2022-05-25T18:48:49.731Z"
   },
   {
    "duration": 5,
    "start_time": "2022-05-25T18:49:11.304Z"
   },
   {
    "duration": 737,
    "start_time": "2022-05-25T19:00:53.061Z"
   },
   {
    "duration": 17,
    "start_time": "2022-05-25T19:00:53.800Z"
   },
   {
    "duration": 48,
    "start_time": "2022-05-25T19:00:53.818Z"
   },
   {
    "duration": 5,
    "start_time": "2022-05-25T19:00:53.868Z"
   },
   {
    "duration": 19,
    "start_time": "2022-05-25T19:00:53.875Z"
   },
   {
    "duration": 10,
    "start_time": "2022-05-25T19:00:53.895Z"
   },
   {
    "duration": 6,
    "start_time": "2022-05-25T19:00:53.907Z"
   },
   {
    "duration": 62,
    "start_time": "2022-05-25T19:00:53.914Z"
   },
   {
    "duration": 14,
    "start_time": "2022-05-25T19:00:53.978Z"
   },
   {
    "duration": 190,
    "start_time": "2022-05-25T19:00:53.995Z"
   },
   {
    "duration": 18,
    "start_time": "2022-05-25T19:00:54.186Z"
   },
   {
    "duration": 33,
    "start_time": "2022-05-25T19:00:54.206Z"
   },
   {
    "duration": 206,
    "start_time": "2022-05-25T19:00:54.241Z"
   },
   {
    "duration": 25,
    "start_time": "2022-05-25T19:00:54.449Z"
   },
   {
    "duration": 9,
    "start_time": "2022-05-25T19:00:54.476Z"
   },
   {
    "duration": 7,
    "start_time": "2022-05-25T19:00:54.486Z"
   },
   {
    "duration": 4,
    "start_time": "2022-05-25T19:00:54.496Z"
   },
   {
    "duration": 288,
    "start_time": "2022-05-25T19:00:54.502Z"
   },
   {
    "duration": 290,
    "start_time": "2022-05-25T19:00:54.792Z"
   },
   {
    "duration": 3,
    "start_time": "2022-05-25T19:00:55.084Z"
   },
   {
    "duration": 18,
    "start_time": "2022-05-25T19:00:55.089Z"
   },
   {
    "duration": 48,
    "start_time": "2022-05-25T19:00:55.109Z"
   },
   {
    "duration": 688,
    "start_time": "2022-05-25T19:00:55.159Z"
   },
   {
    "duration": 286,
    "start_time": "2022-05-25T19:00:55.849Z"
   },
   {
    "duration": 309,
    "start_time": "2022-05-25T19:00:56.136Z"
   },
   {
    "duration": 283,
    "start_time": "2022-05-25T19:00:56.452Z"
   },
   {
    "duration": 268,
    "start_time": "2022-05-25T19:00:56.737Z"
   },
   {
    "duration": 12,
    "start_time": "2022-05-25T19:00:57.008Z"
   },
   {
    "duration": 32,
    "start_time": "2022-05-25T19:00:57.021Z"
   },
   {
    "duration": 310,
    "start_time": "2022-05-25T19:00:57.055Z"
   },
   {
    "duration": 38,
    "start_time": "2022-05-25T19:00:57.367Z"
   },
   {
    "duration": 46,
    "start_time": "2022-05-25T19:00:57.407Z"
   },
   {
    "duration": 14,
    "start_time": "2022-05-25T19:00:57.454Z"
   },
   {
    "duration": 13,
    "start_time": "2022-05-25T19:00:57.470Z"
   },
   {
    "duration": 16,
    "start_time": "2022-05-25T19:00:57.484Z"
   },
   {
    "duration": 52,
    "start_time": "2022-05-25T19:00:57.501Z"
   },
   {
    "duration": 15,
    "start_time": "2022-05-25T19:00:57.555Z"
   },
   {
    "duration": 9,
    "start_time": "2022-05-25T19:00:57.572Z"
   },
   {
    "duration": 10,
    "start_time": "2022-05-25T19:00:57.583Z"
   },
   {
    "duration": 4,
    "start_time": "2022-05-25T19:00:57.595Z"
   },
   {
    "duration": 54,
    "start_time": "2022-05-25T19:00:57.601Z"
   },
   {
    "duration": 3,
    "start_time": "2022-05-25T19:00:57.657Z"
   },
   {
    "duration": 5,
    "start_time": "2022-05-25T19:00:57.662Z"
   },
   {
    "duration": 5,
    "start_time": "2022-05-25T19:00:57.669Z"
   },
   {
    "duration": 13,
    "start_time": "2022-05-25T19:00:57.675Z"
   },
   {
    "duration": 4,
    "start_time": "2022-05-25T19:00:57.689Z"
   },
   {
    "duration": 59,
    "start_time": "2022-05-25T19:00:57.694Z"
   },
   {
    "duration": 5,
    "start_time": "2022-05-25T19:00:57.755Z"
   },
   {
    "duration": 15,
    "start_time": "2022-05-25T19:07:45.266Z"
   },
   {
    "duration": 10,
    "start_time": "2022-05-25T19:07:50.707Z"
   },
   {
    "duration": 36,
    "start_time": "2022-05-25T19:09:47.613Z"
   },
   {
    "duration": 5,
    "start_time": "2022-05-25T19:10:34.211Z"
   },
   {
    "duration": 16,
    "start_time": "2022-05-25T19:32:22.246Z"
   },
   {
    "duration": 14,
    "start_time": "2022-05-25T19:32:30.223Z"
   },
   {
    "duration": 40,
    "start_time": "2022-05-25T19:39:56.452Z"
   },
   {
    "duration": 39,
    "start_time": "2022-05-25T19:40:19.327Z"
   },
   {
    "duration": 35,
    "start_time": "2022-05-25T19:40:26.650Z"
   },
   {
    "duration": 39,
    "start_time": "2022-05-25T19:40:53.280Z"
   },
   {
    "duration": 13,
    "start_time": "2022-05-25T19:46:32.890Z"
   },
   {
    "duration": 16,
    "start_time": "2022-05-25T19:46:40.705Z"
   },
   {
    "duration": 13,
    "start_time": "2022-05-25T19:46:49.553Z"
   },
   {
    "duration": 14,
    "start_time": "2022-05-25T19:47:06.297Z"
   },
   {
    "duration": 14,
    "start_time": "2022-05-25T19:47:15.967Z"
   },
   {
    "duration": 13,
    "start_time": "2022-05-25T19:47:28.665Z"
   },
   {
    "duration": 14,
    "start_time": "2022-05-25T19:54:08.466Z"
   },
   {
    "duration": 13,
    "start_time": "2022-05-25T19:54:14.251Z"
   },
   {
    "duration": 16,
    "start_time": "2022-05-25T19:54:33.054Z"
   },
   {
    "duration": 13,
    "start_time": "2022-05-25T19:54:43.818Z"
   },
   {
    "duration": 91,
    "start_time": "2022-05-25T21:24:41.260Z"
   },
   {
    "duration": 779,
    "start_time": "2022-05-25T21:24:54.152Z"
   },
   {
    "duration": 17,
    "start_time": "2022-05-25T21:24:54.933Z"
   },
   {
    "duration": 15,
    "start_time": "2022-05-25T21:24:54.954Z"
   },
   {
    "duration": 57,
    "start_time": "2022-05-25T21:24:54.972Z"
   },
   {
    "duration": 5,
    "start_time": "2022-05-25T21:24:55.031Z"
   },
   {
    "duration": 31,
    "start_time": "2022-05-25T21:24:55.038Z"
   },
   {
    "duration": 10,
    "start_time": "2022-05-25T21:24:55.071Z"
   },
   {
    "duration": 10,
    "start_time": "2022-05-25T21:24:55.101Z"
   },
   {
    "duration": 29,
    "start_time": "2022-05-25T21:24:55.113Z"
   },
   {
    "duration": 101,
    "start_time": "2022-05-25T21:24:55.145Z"
   },
   {
    "duration": 20,
    "start_time": "2022-05-25T21:24:55.247Z"
   },
   {
    "duration": 190,
    "start_time": "2022-05-25T21:24:55.269Z"
   },
   {
    "duration": 18,
    "start_time": "2022-05-25T21:24:55.462Z"
   },
   {
    "duration": 6,
    "start_time": "2022-05-25T21:24:55.482Z"
   },
   {
    "duration": 222,
    "start_time": "2022-05-25T21:24:55.502Z"
   },
   {
    "duration": 26,
    "start_time": "2022-05-25T21:24:55.726Z"
   },
   {
    "duration": 13,
    "start_time": "2022-05-25T21:24:55.753Z"
   },
   {
    "duration": 13,
    "start_time": "2022-05-25T21:24:55.768Z"
   },
   {
    "duration": 11,
    "start_time": "2022-05-25T21:24:55.802Z"
   },
   {
    "duration": 275,
    "start_time": "2022-05-25T21:24:55.815Z"
   },
   {
    "duration": 284,
    "start_time": "2022-05-25T21:24:56.091Z"
   },
   {
    "duration": 3,
    "start_time": "2022-05-25T21:24:56.378Z"
   },
   {
    "duration": 30,
    "start_time": "2022-05-25T21:24:56.383Z"
   },
   {
    "duration": 51,
    "start_time": "2022-05-25T21:24:56.415Z"
   },
   {
    "duration": 725,
    "start_time": "2022-05-25T21:24:56.468Z"
   },
   {
    "duration": 288,
    "start_time": "2022-05-25T21:24:57.195Z"
   },
   {
    "duration": 298,
    "start_time": "2022-05-25T21:24:57.485Z"
   },
   {
    "duration": 336,
    "start_time": "2022-05-25T21:24:57.785Z"
   },
   {
    "duration": 341,
    "start_time": "2022-05-25T21:24:58.123Z"
   },
   {
    "duration": 13,
    "start_time": "2022-05-25T21:24:58.467Z"
   },
   {
    "duration": 23,
    "start_time": "2022-05-25T21:24:58.482Z"
   },
   {
    "duration": 333,
    "start_time": "2022-05-25T21:24:58.507Z"
   },
   {
    "duration": 40,
    "start_time": "2022-05-25T21:24:58.842Z"
   },
   {
    "duration": 16,
    "start_time": "2022-05-25T21:24:58.901Z"
   },
   {
    "duration": 16,
    "start_time": "2022-05-25T21:24:58.918Z"
   },
   {
    "duration": 20,
    "start_time": "2022-05-25T21:24:58.935Z"
   },
   {
    "duration": 46,
    "start_time": "2022-05-25T21:24:58.957Z"
   },
   {
    "duration": 15,
    "start_time": "2022-05-25T21:24:59.005Z"
   },
   {
    "duration": 18,
    "start_time": "2022-05-25T21:24:59.022Z"
   },
   {
    "duration": 4,
    "start_time": "2022-05-25T21:24:59.044Z"
   },
   {
    "duration": 13,
    "start_time": "2022-05-25T21:24:59.050Z"
   },
   {
    "duration": 5,
    "start_time": "2022-05-25T21:24:59.065Z"
   },
   {
    "duration": 38,
    "start_time": "2022-05-25T21:24:59.071Z"
   },
   {
    "duration": 9,
    "start_time": "2022-05-25T21:24:59.110Z"
   },
   {
    "duration": 11,
    "start_time": "2022-05-25T21:24:59.121Z"
   },
   {
    "duration": 5,
    "start_time": "2022-05-25T21:24:59.134Z"
   },
   {
    "duration": 7,
    "start_time": "2022-05-25T21:24:59.141Z"
   },
   {
    "duration": 9,
    "start_time": "2022-05-25T21:24:59.149Z"
   },
   {
    "duration": 8,
    "start_time": "2022-05-25T21:36:07.045Z"
   },
   {
    "duration": 104,
    "start_time": "2022-05-26T11:43:29.243Z"
   },
   {
    "duration": 924,
    "start_time": "2022-05-26T11:43:37.588Z"
   },
   {
    "duration": 153,
    "start_time": "2022-05-26T11:43:38.514Z"
   },
   {
    "duration": 16,
    "start_time": "2022-05-26T11:43:38.669Z"
   },
   {
    "duration": 14,
    "start_time": "2022-05-26T11:43:38.686Z"
   },
   {
    "duration": 42,
    "start_time": "2022-05-26T11:43:38.701Z"
   },
   {
    "duration": 5,
    "start_time": "2022-05-26T11:43:38.746Z"
   },
   {
    "duration": 36,
    "start_time": "2022-05-26T11:43:38.753Z"
   },
   {
    "duration": 11,
    "start_time": "2022-05-26T11:43:38.791Z"
   },
   {
    "duration": 5,
    "start_time": "2022-05-26T11:43:38.804Z"
   },
   {
    "duration": 37,
    "start_time": "2022-05-26T11:43:38.811Z"
   },
   {
    "duration": 91,
    "start_time": "2022-05-26T11:43:38.849Z"
   },
   {
    "duration": 28,
    "start_time": "2022-05-26T11:43:38.942Z"
   },
   {
    "duration": 205,
    "start_time": "2022-05-26T11:43:38.971Z"
   },
   {
    "duration": 16,
    "start_time": "2022-05-26T11:43:39.177Z"
   },
   {
    "duration": 3,
    "start_time": "2022-05-26T11:43:39.194Z"
   },
   {
    "duration": 270,
    "start_time": "2022-05-26T11:43:39.198Z"
   },
   {
    "duration": 22,
    "start_time": "2022-05-26T11:43:39.469Z"
   },
   {
    "duration": 9,
    "start_time": "2022-05-26T11:43:39.493Z"
   },
   {
    "duration": 8,
    "start_time": "2022-05-26T11:43:39.504Z"
   },
   {
    "duration": 9,
    "start_time": "2022-05-26T11:43:39.526Z"
   },
   {
    "duration": 303,
    "start_time": "2022-05-26T11:43:39.537Z"
   },
   {
    "duration": 277,
    "start_time": "2022-05-26T11:43:39.842Z"
   },
   {
    "duration": 10,
    "start_time": "2022-05-26T11:43:40.120Z"
   },
   {
    "duration": 44,
    "start_time": "2022-05-26T11:43:40.132Z"
   },
   {
    "duration": 21,
    "start_time": "2022-05-26T11:43:40.178Z"
   },
   {
    "duration": 776,
    "start_time": "2022-05-26T11:43:40.200Z"
   },
   {
    "duration": 296,
    "start_time": "2022-05-26T11:43:40.979Z"
   },
   {
    "duration": 301,
    "start_time": "2022-05-26T11:43:41.279Z"
   },
   {
    "duration": 292,
    "start_time": "2022-05-26T11:43:41.582Z"
   },
   {
    "duration": 289,
    "start_time": "2022-05-26T11:43:41.875Z"
   },
   {
    "duration": 10,
    "start_time": "2022-05-26T11:43:42.166Z"
   },
   {
    "duration": 10,
    "start_time": "2022-05-26T11:43:42.178Z"
   },
   {
    "duration": 340,
    "start_time": "2022-05-26T11:43:42.189Z"
   },
   {
    "duration": 58,
    "start_time": "2022-05-26T11:43:42.531Z"
   },
   {
    "duration": 15,
    "start_time": "2022-05-26T11:43:42.591Z"
   },
   {
    "duration": 23,
    "start_time": "2022-05-26T11:43:42.609Z"
   },
   {
    "duration": 52,
    "start_time": "2022-05-26T11:43:42.638Z"
   },
   {
    "duration": 14,
    "start_time": "2022-05-26T11:43:42.691Z"
   },
   {
    "duration": 18,
    "start_time": "2022-05-26T11:43:42.708Z"
   },
   {
    "duration": 52,
    "start_time": "2022-05-26T11:43:42.728Z"
   },
   {
    "duration": 14,
    "start_time": "2022-05-26T11:43:42.782Z"
   },
   {
    "duration": 4,
    "start_time": "2022-05-26T11:43:42.800Z"
   },
   {
    "duration": 12,
    "start_time": "2022-05-26T11:43:42.806Z"
   },
   {
    "duration": 59,
    "start_time": "2022-05-26T11:43:42.820Z"
   },
   {
    "duration": 22,
    "start_time": "2022-05-26T11:43:42.880Z"
   },
   {
    "duration": 10,
    "start_time": "2022-05-26T11:43:42.904Z"
   },
   {
    "duration": 47,
    "start_time": "2022-05-26T11:43:42.916Z"
   },
   {
    "duration": 16,
    "start_time": "2022-05-26T11:43:42.966Z"
   },
   {
    "duration": 15,
    "start_time": "2022-05-26T11:43:42.984Z"
   },
   {
    "duration": 14,
    "start_time": "2022-05-26T11:43:43.001Z"
   },
   {
    "duration": 3,
    "start_time": "2022-05-26T12:40:21.075Z"
   },
   {
    "duration": 1323,
    "start_time": "2022-05-26T12:41:18.991Z"
   },
   {
    "duration": 95,
    "start_time": "2022-05-26T12:41:20.317Z"
   },
   {
    "duration": 37,
    "start_time": "2022-05-26T12:41:20.414Z"
   },
   {
    "duration": 46,
    "start_time": "2022-05-26T12:41:20.454Z"
   },
   {
    "duration": 40,
    "start_time": "2022-05-26T12:41:20.501Z"
   },
   {
    "duration": 8,
    "start_time": "2022-05-26T12:41:20.543Z"
   },
   {
    "duration": 40,
    "start_time": "2022-05-26T12:41:20.553Z"
   },
   {
    "duration": 13,
    "start_time": "2022-05-26T12:41:20.595Z"
   },
   {
    "duration": 17,
    "start_time": "2022-05-26T12:41:20.610Z"
   },
   {
    "duration": 53,
    "start_time": "2022-05-26T12:41:20.631Z"
   },
   {
    "duration": 109,
    "start_time": "2022-05-26T12:41:20.686Z"
   },
   {
    "duration": 32,
    "start_time": "2022-05-26T12:41:20.797Z"
   },
   {
    "duration": 207,
    "start_time": "2022-05-26T12:41:20.840Z"
   },
   {
    "duration": 20,
    "start_time": "2022-05-26T12:41:21.050Z"
   },
   {
    "duration": 6,
    "start_time": "2022-05-26T12:41:21.073Z"
   },
   {
    "duration": 370,
    "start_time": "2022-05-26T12:41:21.081Z"
   },
   {
    "duration": 25,
    "start_time": "2022-05-26T12:41:21.457Z"
   },
   {
    "duration": 7,
    "start_time": "2022-05-26T12:41:21.484Z"
   },
   {
    "duration": 7,
    "start_time": "2022-05-26T12:41:21.493Z"
   },
   {
    "duration": 25,
    "start_time": "2022-05-26T12:41:21.502Z"
   },
   {
    "duration": 331,
    "start_time": "2022-05-26T12:41:21.544Z"
   },
   {
    "duration": 316,
    "start_time": "2022-05-26T12:41:21.877Z"
   },
   {
    "duration": 3,
    "start_time": "2022-05-26T12:41:22.195Z"
   },
   {
    "duration": 30,
    "start_time": "2022-05-26T12:41:22.199Z"
   },
   {
    "duration": 44,
    "start_time": "2022-05-26T12:41:22.233Z"
   },
   {
    "duration": 153,
    "start_time": "2022-05-26T12:41:22.278Z"
   },
   {
    "duration": 312,
    "start_time": "2022-05-26T12:41:22.433Z"
   },
   {
    "duration": 347,
    "start_time": "2022-05-26T12:41:22.750Z"
   },
   {
    "duration": 303,
    "start_time": "2022-05-26T12:41:23.099Z"
   },
   {
    "duration": 277,
    "start_time": "2022-05-26T12:41:23.403Z"
   },
   {
    "duration": 21,
    "start_time": "2022-05-26T12:41:23.682Z"
   },
   {
    "duration": 20,
    "start_time": "2022-05-26T12:41:23.705Z"
   },
   {
    "duration": 369,
    "start_time": "2022-05-26T12:41:23.727Z"
   },
   {
    "duration": 62,
    "start_time": "2022-05-26T12:41:24.098Z"
   },
   {
    "duration": 14,
    "start_time": "2022-05-26T12:41:24.162Z"
   },
   {
    "duration": 14,
    "start_time": "2022-05-26T12:41:24.177Z"
   },
   {
    "duration": 46,
    "start_time": "2022-05-26T12:41:24.192Z"
   },
   {
    "duration": 18,
    "start_time": "2022-05-26T12:41:24.243Z"
   },
   {
    "duration": 20,
    "start_time": "2022-05-26T12:41:24.263Z"
   },
   {
    "duration": 12,
    "start_time": "2022-05-26T12:41:24.284Z"
   },
   {
    "duration": 9,
    "start_time": "2022-05-26T12:41:24.298Z"
   },
   {
    "duration": 18,
    "start_time": "2022-05-26T12:41:24.309Z"
   },
   {
    "duration": 39,
    "start_time": "2022-05-26T12:41:24.328Z"
   },
   {
    "duration": 4,
    "start_time": "2022-05-26T12:41:24.369Z"
   },
   {
    "duration": 6,
    "start_time": "2022-05-26T12:41:24.375Z"
   },
   {
    "duration": 6,
    "start_time": "2022-05-26T12:41:24.383Z"
   },
   {
    "duration": 16,
    "start_time": "2022-05-26T12:41:24.391Z"
   },
   {
    "duration": 5,
    "start_time": "2022-05-26T12:41:24.409Z"
   },
   {
    "duration": 10,
    "start_time": "2022-05-26T12:41:24.416Z"
   },
   {
    "duration": 31,
    "start_time": "2022-05-26T12:41:24.428Z"
   },
   {
    "duration": 121,
    "start_time": "2022-05-26T12:44:49.148Z"
   },
   {
    "duration": 6,
    "start_time": "2022-05-26T12:45:23.589Z"
   },
   {
    "duration": 6,
    "start_time": "2022-05-26T12:46:25.118Z"
   },
   {
    "duration": 55,
    "start_time": "2022-05-26T12:47:51.038Z"
   },
   {
    "duration": 9,
    "start_time": "2022-05-26T12:54:28.472Z"
   },
   {
    "duration": 9,
    "start_time": "2022-05-26T12:57:26.409Z"
   },
   {
    "duration": 99,
    "start_time": "2022-05-26T12:57:34.414Z"
   },
   {
    "duration": 1390,
    "start_time": "2022-05-26T13:06:44.912Z"
   },
   {
    "duration": 112,
    "start_time": "2022-05-26T13:06:46.304Z"
   },
   {
    "duration": 27,
    "start_time": "2022-05-26T13:06:46.418Z"
   },
   {
    "duration": 49,
    "start_time": "2022-05-26T13:06:46.449Z"
   },
   {
    "duration": 38,
    "start_time": "2022-05-26T13:06:46.499Z"
   },
   {
    "duration": 9,
    "start_time": "2022-05-26T13:06:46.545Z"
   },
   {
    "duration": 52,
    "start_time": "2022-05-26T13:06:46.555Z"
   },
   {
    "duration": 30,
    "start_time": "2022-05-26T13:06:46.609Z"
   },
   {
    "duration": 11,
    "start_time": "2022-05-26T13:06:46.651Z"
   },
   {
    "duration": 43,
    "start_time": "2022-05-26T13:06:46.666Z"
   },
   {
    "duration": 101,
    "start_time": "2022-05-26T13:06:46.711Z"
   },
   {
    "duration": 26,
    "start_time": "2022-05-26T13:06:46.830Z"
   },
   {
    "duration": 217,
    "start_time": "2022-05-26T13:06:46.862Z"
   },
   {
    "duration": 21,
    "start_time": "2022-05-26T13:06:47.080Z"
   },
   {
    "duration": 48,
    "start_time": "2022-05-26T13:06:47.103Z"
   },
   {
    "duration": 315,
    "start_time": "2022-05-26T13:06:47.159Z"
   },
   {
    "duration": 25,
    "start_time": "2022-05-26T13:06:47.476Z"
   },
   {
    "duration": 26,
    "start_time": "2022-05-26T13:06:47.503Z"
   },
   {
    "duration": 43,
    "start_time": "2022-05-26T13:06:47.531Z"
   },
   {
    "duration": 9,
    "start_time": "2022-05-26T13:06:47.576Z"
   },
   {
    "duration": 355,
    "start_time": "2022-05-26T13:06:47.587Z"
   },
   {
    "duration": 318,
    "start_time": "2022-05-26T13:06:47.949Z"
   },
   {
    "duration": 3,
    "start_time": "2022-05-26T13:06:48.271Z"
   },
   {
    "duration": 19,
    "start_time": "2022-05-26T13:06:48.276Z"
   },
   {
    "duration": 44,
    "start_time": "2022-05-26T13:06:48.297Z"
   },
   {
    "duration": 213,
    "start_time": "2022-05-26T13:06:48.343Z"
   },
   {
    "duration": 375,
    "start_time": "2022-05-26T13:06:48.558Z"
   },
   {
    "duration": 422,
    "start_time": "2022-05-26T13:06:48.942Z"
   },
   {
    "duration": 380,
    "start_time": "2022-05-26T13:06:49.372Z"
   },
   {
    "duration": 320,
    "start_time": "2022-05-26T13:06:49.753Z"
   },
   {
    "duration": 17,
    "start_time": "2022-05-26T13:06:50.075Z"
   },
   {
    "duration": 24,
    "start_time": "2022-05-26T13:06:50.094Z"
   },
   {
    "duration": 430,
    "start_time": "2022-05-26T13:06:50.120Z"
   },
   {
    "duration": 49,
    "start_time": "2022-05-26T13:06:50.561Z"
   },
   {
    "duration": 30,
    "start_time": "2022-05-26T13:06:50.611Z"
   },
   {
    "duration": 51,
    "start_time": "2022-05-26T13:06:50.644Z"
   },
   {
    "duration": 17,
    "start_time": "2022-05-26T13:06:50.697Z"
   },
   {
    "duration": 53,
    "start_time": "2022-05-26T13:06:50.716Z"
   },
   {
    "duration": 15,
    "start_time": "2022-05-26T13:06:50.771Z"
   },
   {
    "duration": 16,
    "start_time": "2022-05-26T13:06:50.787Z"
   },
   {
    "duration": 14,
    "start_time": "2022-05-26T13:06:50.805Z"
   },
   {
    "duration": 25,
    "start_time": "2022-05-26T13:06:50.822Z"
   },
   {
    "duration": 43,
    "start_time": "2022-05-26T13:06:50.851Z"
   },
   {
    "duration": 21,
    "start_time": "2022-05-26T13:06:50.896Z"
   },
   {
    "duration": 54,
    "start_time": "2022-05-26T13:06:50.920Z"
   },
   {
    "duration": 8,
    "start_time": "2022-05-26T13:06:50.975Z"
   },
   {
    "duration": 20,
    "start_time": "2022-05-26T13:06:50.986Z"
   },
   {
    "duration": 7,
    "start_time": "2022-05-26T13:06:51.008Z"
   },
   {
    "duration": 16,
    "start_time": "2022-05-26T13:06:51.017Z"
   },
   {
    "duration": 55,
    "start_time": "2022-05-26T13:06:51.037Z"
   },
   {
    "duration": 91,
    "start_time": "2022-05-26T13:10:30.655Z"
   },
   {
    "duration": 11,
    "start_time": "2022-05-26T13:10:56.886Z"
   },
   {
    "duration": 7,
    "start_time": "2022-05-26T13:14:50.844Z"
   },
   {
    "duration": 11,
    "start_time": "2022-05-26T13:19:54.980Z"
   },
   {
    "duration": 10,
    "start_time": "2022-05-26T13:20:30.296Z"
   },
   {
    "duration": 5,
    "start_time": "2022-05-26T13:20:31.498Z"
   },
   {
    "duration": 109,
    "start_time": "2022-05-26T13:20:46.676Z"
   },
   {
    "duration": 14,
    "start_time": "2022-05-26T13:23:14.504Z"
   },
   {
    "duration": 28,
    "start_time": "2022-05-26T13:23:24.122Z"
   },
   {
    "duration": 6,
    "start_time": "2022-05-26T13:23:25.160Z"
   },
   {
    "duration": 6,
    "start_time": "2022-05-26T19:43:58.495Z"
   },
   {
    "duration": 8,
    "start_time": "2022-05-26T19:44:25.178Z"
   },
   {
    "duration": 5,
    "start_time": "2022-05-26T19:45:00.364Z"
   },
   {
    "duration": 14,
    "start_time": "2022-05-26T19:45:25.062Z"
   },
   {
    "duration": 108,
    "start_time": "2022-05-26T19:45:38.178Z"
   },
   {
    "duration": 10,
    "start_time": "2022-05-26T19:46:28.082Z"
   },
   {
    "duration": 11,
    "start_time": "2022-05-26T19:46:36.557Z"
   },
   {
    "duration": 1213,
    "start_time": "2022-05-26T19:46:54.979Z"
   },
   {
    "duration": 78,
    "start_time": "2022-05-26T19:46:56.194Z"
   },
   {
    "duration": 20,
    "start_time": "2022-05-26T19:46:56.274Z"
   },
   {
    "duration": 37,
    "start_time": "2022-05-26T19:46:56.297Z"
   },
   {
    "duration": 32,
    "start_time": "2022-05-26T19:46:56.336Z"
   },
   {
    "duration": 6,
    "start_time": "2022-05-26T19:46:56.370Z"
   },
   {
    "duration": 60,
    "start_time": "2022-05-26T19:46:56.378Z"
   },
   {
    "duration": 6,
    "start_time": "2022-05-26T19:46:56.440Z"
   },
   {
    "duration": 17,
    "start_time": "2022-05-26T19:46:56.448Z"
   },
   {
    "duration": 6,
    "start_time": "2022-05-26T19:46:56.469Z"
   },
   {
    "duration": 46,
    "start_time": "2022-05-26T19:46:56.477Z"
   },
   {
    "duration": 29,
    "start_time": "2022-05-26T19:46:56.526Z"
   },
   {
    "duration": 106,
    "start_time": "2022-05-26T19:46:56.557Z"
   },
   {
    "duration": 26,
    "start_time": "2022-05-26T19:46:56.665Z"
   },
   {
    "duration": 204,
    "start_time": "2022-05-26T19:46:56.694Z"
   },
   {
    "duration": 36,
    "start_time": "2022-05-26T19:46:56.900Z"
   },
   {
    "duration": 9,
    "start_time": "2022-05-26T19:46:56.938Z"
   },
   {
    "duration": 335,
    "start_time": "2022-05-26T19:46:56.951Z"
   },
   {
    "duration": 49,
    "start_time": "2022-05-26T19:46:57.289Z"
   },
   {
    "duration": 10,
    "start_time": "2022-05-26T19:46:57.340Z"
   },
   {
    "duration": 24,
    "start_time": "2022-05-26T19:46:57.352Z"
   },
   {
    "duration": 5,
    "start_time": "2022-05-26T19:46:57.378Z"
   },
   {
    "duration": 334,
    "start_time": "2022-05-26T19:46:57.385Z"
   },
   {
    "duration": 329,
    "start_time": "2022-05-26T19:46:57.721Z"
   },
   {
    "duration": 3,
    "start_time": "2022-05-26T19:46:58.052Z"
   },
   {
    "duration": 32,
    "start_time": "2022-05-26T19:46:58.057Z"
   },
   {
    "duration": 47,
    "start_time": "2022-05-26T19:46:58.091Z"
   },
   {
    "duration": 192,
    "start_time": "2022-05-26T19:46:58.143Z"
   },
   {
    "duration": 344,
    "start_time": "2022-05-26T19:46:58.345Z"
   },
   {
    "duration": 386,
    "start_time": "2022-05-26T19:46:58.691Z"
   },
   {
    "duration": 332,
    "start_time": "2022-05-26T19:46:59.079Z"
   },
   {
    "duration": 305,
    "start_time": "2022-05-26T19:46:59.413Z"
   },
   {
    "duration": 14,
    "start_time": "2022-05-26T19:46:59.719Z"
   },
   {
    "duration": 25,
    "start_time": "2022-05-26T19:46:59.735Z"
   },
   {
    "duration": 407,
    "start_time": "2022-05-26T19:46:59.762Z"
   },
   {
    "duration": 62,
    "start_time": "2022-05-26T19:47:00.171Z"
   },
   {
    "duration": 20,
    "start_time": "2022-05-26T19:47:00.236Z"
   },
   {
    "duration": 34,
    "start_time": "2022-05-26T19:47:00.258Z"
   },
   {
    "duration": 30,
    "start_time": "2022-05-26T19:47:00.293Z"
   },
   {
    "duration": 26,
    "start_time": "2022-05-26T19:47:00.325Z"
   },
   {
    "duration": 20,
    "start_time": "2022-05-26T19:47:00.353Z"
   },
   {
    "duration": 23,
    "start_time": "2022-05-26T19:47:00.375Z"
   },
   {
    "duration": 29,
    "start_time": "2022-05-26T19:47:00.401Z"
   },
   {
    "duration": 11,
    "start_time": "2022-05-26T19:47:00.432Z"
   },
   {
    "duration": 24,
    "start_time": "2022-05-26T19:47:00.445Z"
   },
   {
    "duration": 5,
    "start_time": "2022-05-26T19:47:00.471Z"
   },
   {
    "duration": 10,
    "start_time": "2022-05-26T19:47:00.478Z"
   },
   {
    "duration": 9,
    "start_time": "2022-05-26T19:47:00.490Z"
   },
   {
    "duration": 35,
    "start_time": "2022-05-26T19:47:00.501Z"
   },
   {
    "duration": 10,
    "start_time": "2022-05-26T19:47:00.539Z"
   },
   {
    "duration": 37,
    "start_time": "2022-05-26T19:47:00.552Z"
   },
   {
    "duration": 15,
    "start_time": "2022-05-26T19:47:00.590Z"
   },
   {
    "duration": 8,
    "start_time": "2022-05-26T19:48:37.117Z"
   },
   {
    "duration": 8,
    "start_time": "2022-05-26T19:49:06.118Z"
   },
   {
    "duration": 6,
    "start_time": "2022-05-26T19:49:18.099Z"
   },
   {
    "duration": 9,
    "start_time": "2022-05-26T19:49:26.965Z"
   },
   {
    "duration": 13,
    "start_time": "2022-05-26T19:49:51.229Z"
   },
   {
    "duration": 9,
    "start_time": "2022-05-26T19:50:20.549Z"
   },
   {
    "duration": 128,
    "start_time": "2022-05-26T19:50:46.467Z"
   },
   {
    "duration": 9,
    "start_time": "2022-05-26T19:50:54.940Z"
   },
   {
    "duration": 7,
    "start_time": "2022-05-26T19:51:01.067Z"
   },
   {
    "duration": 5,
    "start_time": "2022-05-26T19:51:24.536Z"
   },
   {
    "duration": 14,
    "start_time": "2022-05-26T19:51:25.746Z"
   },
   {
    "duration": 6,
    "start_time": "2022-05-26T19:51:49.409Z"
   },
   {
    "duration": 6,
    "start_time": "2022-05-26T19:51:50.620Z"
   },
   {
    "duration": 15,
    "start_time": "2022-05-26T19:53:29.113Z"
   },
   {
    "duration": 8,
    "start_time": "2022-05-26T19:53:35.126Z"
   },
   {
    "duration": 7,
    "start_time": "2022-05-26T19:53:38.090Z"
   },
   {
    "duration": 10,
    "start_time": "2022-05-26T19:53:58.152Z"
   },
   {
    "duration": 8,
    "start_time": "2022-05-26T19:54:01.181Z"
   },
   {
    "duration": 12,
    "start_time": "2022-05-26T19:54:14.650Z"
   },
   {
    "duration": 5,
    "start_time": "2022-05-26T19:54:17.723Z"
   },
   {
    "duration": 6,
    "start_time": "2022-05-26T19:54:31.023Z"
   },
   {
    "duration": 9,
    "start_time": "2022-05-26T20:00:01.786Z"
   },
   {
    "duration": 6,
    "start_time": "2022-05-26T20:00:30.240Z"
   },
   {
    "duration": 12,
    "start_time": "2022-05-26T20:00:54.536Z"
   },
   {
    "duration": 6,
    "start_time": "2022-05-26T20:00:55.946Z"
   },
   {
    "duration": 8,
    "start_time": "2022-05-26T20:01:14.924Z"
   },
   {
    "duration": 5,
    "start_time": "2022-05-26T20:01:49.909Z"
   },
   {
    "duration": 9,
    "start_time": "2022-05-26T20:01:56.088Z"
   },
   {
    "duration": 80,
    "start_time": "2022-05-26T20:02:23.837Z"
   },
   {
    "duration": 7,
    "start_time": "2022-05-26T20:08:51.620Z"
   },
   {
    "duration": 120,
    "start_time": "2022-05-26T20:09:39.113Z"
   },
   {
    "duration": 35,
    "start_time": "2022-05-26T20:11:56.524Z"
   },
   {
    "duration": 24,
    "start_time": "2022-05-26T20:12:14.286Z"
   },
   {
    "duration": 30,
    "start_time": "2022-05-26T20:13:41.718Z"
   },
   {
    "duration": 59,
    "start_time": "2022-05-26T20:14:23.855Z"
   },
   {
    "duration": 272,
    "start_time": "2022-05-26T20:18:46.797Z"
   },
   {
    "duration": 187,
    "start_time": "2022-05-26T20:19:50.696Z"
   },
   {
    "duration": 300,
    "start_time": "2022-05-26T20:20:20.398Z"
   },
   {
    "duration": 227,
    "start_time": "2022-05-26T20:21:13.943Z"
   },
   {
    "duration": 41,
    "start_time": "2022-05-26T20:22:59.858Z"
   },
   {
    "duration": 154,
    "start_time": "2022-05-26T20:24:06.384Z"
   },
   {
    "duration": 166,
    "start_time": "2022-05-26T20:26:53.957Z"
   },
   {
    "duration": 48386,
    "start_time": "2022-05-26T20:27:09.835Z"
   },
   {
    "duration": 33,
    "start_time": "2022-05-26T20:48:50.807Z"
   },
   {
    "duration": 3,
    "start_time": "2022-05-26T20:48:59.041Z"
   },
   {
    "duration": 7,
    "start_time": "2022-05-26T20:49:00.114Z"
   },
   {
    "duration": 1287,
    "start_time": "2022-05-26T20:49:52.395Z"
   },
   {
    "duration": 152,
    "start_time": "2022-05-26T20:51:53.287Z"
   },
   {
    "duration": 229,
    "start_time": "2022-05-26T20:53:12.064Z"
   },
   {
    "duration": 4,
    "start_time": "2022-05-26T21:00:29.261Z"
   },
   {
    "duration": 284,
    "start_time": "2022-05-26T21:00:30.436Z"
   },
   {
    "duration": 2,
    "start_time": "2022-05-26T21:00:45.673Z"
   },
   {
    "duration": 237,
    "start_time": "2022-05-26T21:00:48.082Z"
   },
   {
    "duration": 264,
    "start_time": "2022-05-26T21:01:33.878Z"
   },
   {
    "duration": 253,
    "start_time": "2022-05-26T21:02:50.031Z"
   },
   {
    "duration": 273,
    "start_time": "2022-05-26T21:03:09.281Z"
   },
   {
    "duration": 383,
    "start_time": "2022-05-26T21:03:20.364Z"
   },
   {
    "duration": 240,
    "start_time": "2022-05-26T21:03:29.533Z"
   },
   {
    "duration": 257,
    "start_time": "2022-05-26T21:03:36.154Z"
   },
   {
    "duration": 253,
    "start_time": "2022-05-26T21:04:20.927Z"
   },
   {
    "duration": 236,
    "start_time": "2022-05-26T21:04:36.983Z"
   },
   {
    "duration": 427,
    "start_time": "2022-05-26T21:04:44.574Z"
   },
   {
    "duration": 261,
    "start_time": "2022-05-26T21:04:51.618Z"
   },
   {
    "duration": 254,
    "start_time": "2022-05-26T21:13:45.736Z"
   },
   {
    "duration": 224,
    "start_time": "2022-05-26T21:16:00.313Z"
   },
   {
    "duration": 245,
    "start_time": "2022-05-26T21:16:09.893Z"
   },
   {
    "duration": 4,
    "start_time": "2022-05-26T21:16:59.175Z"
   },
   {
    "duration": 10,
    "start_time": "2022-05-26T21:17:00.323Z"
   },
   {
    "duration": 155,
    "start_time": "2022-05-26T21:17:24.311Z"
   },
   {
    "duration": 176,
    "start_time": "2022-05-26T21:17:32.710Z"
   },
   {
    "duration": 140,
    "start_time": "2022-05-26T21:17:50.614Z"
   },
   {
    "duration": 3,
    "start_time": "2022-05-26T21:17:53.614Z"
   },
   {
    "duration": 6,
    "start_time": "2022-05-26T21:17:54.585Z"
   },
   {
    "duration": 287,
    "start_time": "2022-05-26T21:17:55.584Z"
   },
   {
    "duration": 1085,
    "start_time": "2022-05-26T21:19:35.698Z"
   },
   {
    "duration": 74,
    "start_time": "2022-05-26T21:19:36.785Z"
   },
   {
    "duration": 15,
    "start_time": "2022-05-26T21:19:36.860Z"
   },
   {
    "duration": 13,
    "start_time": "2022-05-26T21:19:36.876Z"
   },
   {
    "duration": 53,
    "start_time": "2022-05-26T21:19:36.890Z"
   },
   {
    "duration": 4,
    "start_time": "2022-05-26T21:19:36.945Z"
   },
   {
    "duration": 18,
    "start_time": "2022-05-26T21:19:36.951Z"
   },
   {
    "duration": 9,
    "start_time": "2022-05-26T21:19:36.971Z"
   },
   {
    "duration": 4,
    "start_time": "2022-05-26T21:19:36.982Z"
   },
   {
    "duration": 7,
    "start_time": "2022-05-26T21:19:37.036Z"
   },
   {
    "duration": 13,
    "start_time": "2022-05-26T21:19:37.045Z"
   },
   {
    "duration": 12,
    "start_time": "2022-05-26T21:19:37.060Z"
   },
   {
    "duration": 26,
    "start_time": "2022-05-26T21:19:37.074Z"
   },
   {
    "duration": 89,
    "start_time": "2022-05-26T21:19:37.102Z"
   },
   {
    "duration": 13,
    "start_time": "2022-05-26T21:19:37.193Z"
   },
   {
    "duration": 177,
    "start_time": "2022-05-26T21:19:37.223Z"
   },
   {
    "duration": 24,
    "start_time": "2022-05-26T21:19:37.402Z"
   },
   {
    "duration": 3,
    "start_time": "2022-05-26T21:19:37.440Z"
   },
   {
    "duration": 270,
    "start_time": "2022-05-26T21:19:37.444Z"
   },
   {
    "duration": 32,
    "start_time": "2022-05-26T21:19:37.715Z"
   },
   {
    "duration": 7,
    "start_time": "2022-05-26T21:19:37.748Z"
   },
   {
    "duration": 7,
    "start_time": "2022-05-26T21:19:37.757Z"
   },
   {
    "duration": 7,
    "start_time": "2022-05-26T21:19:37.766Z"
   },
   {
    "duration": 297,
    "start_time": "2022-05-26T21:19:37.774Z"
   },
   {
    "duration": 279,
    "start_time": "2022-05-26T21:19:38.073Z"
   },
   {
    "duration": 239,
    "start_time": "2022-05-26T21:19:38.354Z"
   },
   {
    "duration": 2,
    "start_time": "2022-05-26T21:19:38.594Z"
   },
   {
    "duration": 6,
    "start_time": "2022-05-26T21:19:38.600Z"
   },
   {
    "duration": 178,
    "start_time": "2022-05-26T21:19:38.608Z"
   },
   {
    "duration": 286,
    "start_time": "2022-05-26T21:19:38.787Z"
   },
   {
    "duration": 308,
    "start_time": "2022-05-26T21:19:39.074Z"
   },
   {
    "duration": 273,
    "start_time": "2022-05-26T21:19:39.383Z"
   },
   {
    "duration": 251,
    "start_time": "2022-05-26T21:19:39.658Z"
   },
   {
    "duration": 28,
    "start_time": "2022-05-26T21:19:39.911Z"
   },
   {
    "duration": 9,
    "start_time": "2022-05-26T21:19:39.941Z"
   },
   {
    "duration": 309,
    "start_time": "2022-05-26T21:19:39.952Z"
   },
   {
    "duration": 37,
    "start_time": "2022-05-26T21:19:40.263Z"
   },
   {
    "duration": 37,
    "start_time": "2022-05-26T21:19:40.302Z"
   },
   {
    "duration": 12,
    "start_time": "2022-05-26T21:19:40.341Z"
   },
   {
    "duration": 138,
    "start_time": "2022-05-26T21:19:40.354Z"
   },
   {
    "duration": 29,
    "start_time": "2022-05-26T21:19:40.494Z"
   },
   {
    "duration": 15,
    "start_time": "2022-05-26T21:19:40.531Z"
   },
   {
    "duration": 14,
    "start_time": "2022-05-26T21:19:40.547Z"
   },
   {
    "duration": 8,
    "start_time": "2022-05-26T21:19:40.563Z"
   },
   {
    "duration": 5,
    "start_time": "2022-05-26T21:19:40.573Z"
   },
   {
    "duration": 9,
    "start_time": "2022-05-26T21:19:40.579Z"
   },
   {
    "duration": 47,
    "start_time": "2022-05-26T21:19:40.589Z"
   },
   {
    "duration": 7,
    "start_time": "2022-05-26T21:19:40.638Z"
   },
   {
    "duration": 7,
    "start_time": "2022-05-26T21:19:40.646Z"
   },
   {
    "duration": 14,
    "start_time": "2022-05-26T21:19:40.654Z"
   },
   {
    "duration": 4,
    "start_time": "2022-05-26T21:19:40.670Z"
   },
   {
    "duration": 10,
    "start_time": "2022-05-26T21:19:40.675Z"
   },
   {
    "duration": 8,
    "start_time": "2022-05-26T21:19:40.686Z"
   },
   {
    "duration": 258,
    "start_time": "2022-05-26T21:24:14.186Z"
   },
   {
    "duration": 271,
    "start_time": "2022-05-26T21:24:32.722Z"
   },
   {
    "duration": 3,
    "start_time": "2022-05-26T21:27:46.404Z"
   },
   {
    "duration": 201,
    "start_time": "2022-05-26T21:27:47.483Z"
   },
   {
    "duration": 210,
    "start_time": "2022-05-26T21:27:53.009Z"
   },
   {
    "duration": 3,
    "start_time": "2022-05-26T21:36:22.737Z"
   },
   {
    "duration": 246,
    "start_time": "2022-05-26T21:36:23.886Z"
   },
   {
    "duration": 248,
    "start_time": "2022-05-26T21:36:25.831Z"
   },
   {
    "duration": 3,
    "start_time": "2022-05-26T21:37:26.012Z"
   },
   {
    "duration": 265,
    "start_time": "2022-05-26T21:37:30.234Z"
   },
   {
    "duration": 3,
    "start_time": "2022-05-26T21:37:44.585Z"
   },
   {
    "duration": 235,
    "start_time": "2022-05-26T21:37:45.736Z"
   },
   {
    "duration": 239,
    "start_time": "2022-05-26T21:37:47.146Z"
   },
   {
    "duration": 3,
    "start_time": "2022-05-26T21:39:15.477Z"
   },
   {
    "duration": 6,
    "start_time": "2022-05-26T21:39:16.687Z"
   },
   {
    "duration": 220,
    "start_time": "2022-05-26T21:39:18.034Z"
   },
   {
    "duration": 122,
    "start_time": "2022-05-26T21:39:33.288Z"
   },
   {
    "duration": 2,
    "start_time": "2022-05-26T21:42:38.830Z"
   },
   {
    "duration": 6,
    "start_time": "2022-05-26T21:42:40.078Z"
   },
   {
    "duration": 162,
    "start_time": "2022-05-26T21:42:41.034Z"
   },
   {
    "duration": 3,
    "start_time": "2022-05-26T21:43:43.360Z"
   },
   {
    "duration": 5,
    "start_time": "2022-05-26T21:43:45.663Z"
   },
   {
    "duration": 138,
    "start_time": "2022-05-26T21:43:46.763Z"
   },
   {
    "duration": 3,
    "start_time": "2022-05-26T21:45:34.175Z"
   },
   {
    "duration": 5,
    "start_time": "2022-05-26T21:45:35.325Z"
   },
   {
    "duration": 142,
    "start_time": "2022-05-26T21:45:36.208Z"
   },
   {
    "duration": 3,
    "start_time": "2022-05-26T21:48:11.489Z"
   },
   {
    "duration": 5,
    "start_time": "2022-05-26T21:48:12.325Z"
   },
   {
    "duration": 151,
    "start_time": "2022-05-26T21:48:13.415Z"
   },
   {
    "duration": 235,
    "start_time": "2022-05-26T21:53:32.693Z"
   },
   {
    "duration": 2,
    "start_time": "2022-05-26T21:54:35.743Z"
   },
   {
    "duration": 5,
    "start_time": "2022-05-26T21:54:36.777Z"
   },
   {
    "duration": 162,
    "start_time": "2022-05-26T21:54:37.885Z"
   },
   {
    "duration": 3,
    "start_time": "2022-05-26T21:56:44.949Z"
   },
   {
    "duration": 7,
    "start_time": "2022-05-26T21:56:46.013Z"
   },
   {
    "duration": 124,
    "start_time": "2022-05-26T21:56:47.092Z"
   },
   {
    "duration": 3,
    "start_time": "2022-05-26T21:57:52.435Z"
   },
   {
    "duration": 6,
    "start_time": "2022-05-26T21:57:53.901Z"
   },
   {
    "duration": 120,
    "start_time": "2022-05-26T21:57:54.840Z"
   },
   {
    "duration": 30,
    "start_time": "2022-05-26T21:58:40.503Z"
   },
   {
    "duration": 107,
    "start_time": "2022-05-26T21:59:07.142Z"
   },
   {
    "duration": 11,
    "start_time": "2022-05-26T22:02:01.254Z"
   },
   {
    "duration": 12,
    "start_time": "2022-05-26T22:02:16.757Z"
   },
   {
    "duration": 11,
    "start_time": "2022-05-26T22:03:33.993Z"
   },
   {
    "duration": 420,
    "start_time": "2022-05-26T22:03:35.381Z"
   },
   {
    "duration": 10,
    "start_time": "2022-05-26T22:09:55.182Z"
   },
   {
    "duration": 35,
    "start_time": "2022-05-26T22:11:03.245Z"
   },
   {
    "duration": 16,
    "start_time": "2022-05-26T22:11:25.959Z"
   },
   {
    "duration": 16,
    "start_time": "2022-05-26T22:11:29.651Z"
   },
   {
    "duration": 15,
    "start_time": "2022-05-26T22:11:31.593Z"
   },
   {
    "duration": 15,
    "start_time": "2022-05-26T22:11:37.526Z"
   },
   {
    "duration": 14,
    "start_time": "2022-05-26T22:11:39.351Z"
   },
   {
    "duration": 14,
    "start_time": "2022-05-26T22:11:47.799Z"
   },
   {
    "duration": 219,
    "start_time": "2022-05-26T22:28:37.500Z"
   },
   {
    "duration": 120,
    "start_time": "2022-05-26T22:31:11.166Z"
   },
   {
    "duration": 110,
    "start_time": "2022-05-26T22:31:46.602Z"
   },
   {
    "duration": 87,
    "start_time": "2022-05-26T22:32:09.364Z"
   },
   {
    "duration": 96,
    "start_time": "2022-05-26T22:34:19.154Z"
   },
   {
    "duration": 107,
    "start_time": "2022-05-26T22:35:04.059Z"
   },
   {
    "duration": 129,
    "start_time": "2022-05-26T22:35:53.960Z"
   },
   {
    "duration": 473,
    "start_time": "2022-05-26T22:36:26.653Z"
   },
   {
    "duration": 389,
    "start_time": "2022-05-26T22:44:55.138Z"
   },
   {
    "duration": 36,
    "start_time": "2022-05-26T22:53:34.619Z"
   },
   {
    "duration": 19,
    "start_time": "2022-05-26T22:56:21.357Z"
   },
   {
    "duration": 35,
    "start_time": "2022-05-26T22:58:31.038Z"
   },
   {
    "duration": 10,
    "start_time": "2022-05-26T23:05:43.768Z"
   },
   {
    "duration": 15,
    "start_time": "2022-05-26T23:05:50.554Z"
   },
   {
    "duration": 15,
    "start_time": "2022-05-26T23:05:58.267Z"
   },
   {
    "duration": 19,
    "start_time": "2022-05-26T23:07:27.797Z"
   },
   {
    "duration": 20,
    "start_time": "2022-05-26T23:08:20.393Z"
   },
   {
    "duration": 16,
    "start_time": "2022-05-26T23:08:48.837Z"
   },
   {
    "duration": 13,
    "start_time": "2022-05-26T23:09:50.935Z"
   },
   {
    "duration": 16,
    "start_time": "2022-05-26T23:10:09.990Z"
   },
   {
    "duration": 21,
    "start_time": "2022-05-26T23:10:41.887Z"
   },
   {
    "duration": 25,
    "start_time": "2022-05-26T23:11:32.007Z"
   },
   {
    "duration": 17,
    "start_time": "2022-05-26T23:11:41.665Z"
   },
   {
    "duration": 17,
    "start_time": "2022-05-26T23:30:39.523Z"
   },
   {
    "duration": 16,
    "start_time": "2022-05-26T23:30:50.303Z"
   },
   {
    "duration": 15,
    "start_time": "2022-05-26T23:31:07.351Z"
   },
   {
    "duration": 20,
    "start_time": "2022-05-26T23:32:50.885Z"
   },
   {
    "duration": 16,
    "start_time": "2022-05-26T23:33:26.581Z"
   },
   {
    "duration": 13,
    "start_time": "2022-05-26T23:33:50.570Z"
   },
   {
    "duration": 16,
    "start_time": "2022-05-26T23:34:21.963Z"
   },
   {
    "duration": 21,
    "start_time": "2022-05-26T23:34:55.808Z"
   },
   {
    "duration": 19,
    "start_time": "2022-05-26T23:35:04.924Z"
   },
   {
    "duration": 19,
    "start_time": "2022-05-26T23:35:28.212Z"
   },
   {
    "duration": 12,
    "start_time": "2022-05-26T23:39:50.594Z"
   },
   {
    "duration": 31,
    "start_time": "2022-05-26T23:40:34.257Z"
   },
   {
    "duration": 12,
    "start_time": "2022-05-26T23:40:41.164Z"
   },
   {
    "duration": 15,
    "start_time": "2022-05-26T23:40:49.693Z"
   },
   {
    "duration": 20,
    "start_time": "2022-05-26T23:41:55.529Z"
   },
   {
    "duration": 18,
    "start_time": "2022-05-26T23:42:36.343Z"
   },
   {
    "duration": 368,
    "start_time": "2022-05-26T23:43:16.903Z"
   },
   {
    "duration": 24,
    "start_time": "2022-05-26T23:43:35.939Z"
   },
   {
    "duration": 20,
    "start_time": "2022-05-26T23:43:48.470Z"
   },
   {
    "duration": 17,
    "start_time": "2022-05-26T23:43:55.476Z"
   },
   {
    "duration": 162,
    "start_time": "2022-05-26T23:44:31.619Z"
   },
   {
    "duration": 158,
    "start_time": "2022-05-26T23:45:39.510Z"
   },
   {
    "duration": 217,
    "start_time": "2022-05-26T23:52:13.330Z"
   },
   {
    "duration": 201,
    "start_time": "2022-05-26T23:52:21.338Z"
   },
   {
    "duration": 23,
    "start_time": "2022-05-26T23:58:11.927Z"
   },
   {
    "duration": 37,
    "start_time": "2022-05-26T23:59:53.348Z"
   },
   {
    "duration": 154,
    "start_time": "2022-05-27T00:00:34.845Z"
   },
   {
    "duration": 174,
    "start_time": "2022-05-27T00:01:05.896Z"
   },
   {
    "duration": 154,
    "start_time": "2022-05-27T00:01:32.750Z"
   },
   {
    "duration": 163,
    "start_time": "2022-05-27T00:01:49.429Z"
   },
   {
    "duration": 166,
    "start_time": "2022-05-27T00:03:09.736Z"
   },
   {
    "duration": 181,
    "start_time": "2022-05-27T00:05:03.958Z"
   },
   {
    "duration": 59,
    "start_time": "2022-05-27T11:22:15.954Z"
   },
   {
    "duration": 1369,
    "start_time": "2022-05-27T11:22:33.092Z"
   },
   {
    "duration": 421,
    "start_time": "2022-05-27T11:22:34.463Z"
   },
   {
    "duration": 17,
    "start_time": "2022-05-27T11:22:34.885Z"
   },
   {
    "duration": 24,
    "start_time": "2022-05-27T11:22:34.905Z"
   },
   {
    "duration": 27,
    "start_time": "2022-05-27T11:22:34.931Z"
   },
   {
    "duration": 30,
    "start_time": "2022-05-27T11:22:34.960Z"
   },
   {
    "duration": 31,
    "start_time": "2022-05-27T11:22:34.993Z"
   },
   {
    "duration": 11,
    "start_time": "2022-05-27T11:22:35.026Z"
   },
   {
    "duration": 6,
    "start_time": "2022-05-27T11:22:35.039Z"
   },
   {
    "duration": 36,
    "start_time": "2022-05-27T11:22:35.048Z"
   },
   {
    "duration": 11,
    "start_time": "2022-05-27T11:22:35.086Z"
   },
   {
    "duration": 6,
    "start_time": "2022-05-27T11:22:35.098Z"
   },
   {
    "duration": 31,
    "start_time": "2022-05-27T11:22:35.105Z"
   },
   {
    "duration": 110,
    "start_time": "2022-05-27T11:22:35.138Z"
   },
   {
    "duration": 14,
    "start_time": "2022-05-27T11:22:35.249Z"
   },
   {
    "duration": 250,
    "start_time": "2022-05-27T11:22:35.283Z"
   },
   {
    "duration": 15,
    "start_time": "2022-05-27T11:22:35.535Z"
   },
   {
    "duration": 3,
    "start_time": "2022-05-27T11:22:35.551Z"
   },
   {
    "duration": 219,
    "start_time": "2022-05-27T11:22:35.555Z"
   },
   {
    "duration": 35,
    "start_time": "2022-05-27T11:22:35.776Z"
   },
   {
    "duration": 8,
    "start_time": "2022-05-27T11:22:35.813Z"
   },
   {
    "duration": 10,
    "start_time": "2022-05-27T11:22:35.822Z"
   },
   {
    "duration": 5,
    "start_time": "2022-05-27T11:22:35.833Z"
   },
   {
    "duration": 278,
    "start_time": "2022-05-27T11:22:35.839Z"
   },
   {
    "duration": 267,
    "start_time": "2022-05-27T11:22:36.119Z"
   },
   {
    "duration": 240,
    "start_time": "2022-05-27T11:22:36.388Z"
   },
   {
    "duration": 3,
    "start_time": "2022-05-27T11:22:36.629Z"
   },
   {
    "duration": 6,
    "start_time": "2022-05-27T11:22:36.635Z"
   },
   {
    "duration": 117,
    "start_time": "2022-05-27T11:22:36.643Z"
   },
   {
    "duration": 257,
    "start_time": "2022-05-27T11:22:36.762Z"
   },
   {
    "duration": 277,
    "start_time": "2022-05-27T11:22:37.021Z"
   },
   {
    "duration": 308,
    "start_time": "2022-05-27T11:22:37.299Z"
   },
   {
    "duration": 261,
    "start_time": "2022-05-27T11:22:37.608Z"
   },
   {
    "duration": 14,
    "start_time": "2022-05-27T11:22:37.871Z"
   },
   {
    "duration": 15,
    "start_time": "2022-05-27T11:22:37.886Z"
   },
   {
    "duration": 429,
    "start_time": "2022-05-27T11:22:37.903Z"
   },
   {
    "duration": 391,
    "start_time": "2022-05-27T11:22:38.334Z"
   },
   {
    "duration": 0,
    "start_time": "2022-05-27T11:22:38.726Z"
   },
   {
    "duration": 0,
    "start_time": "2022-05-27T11:22:38.728Z"
   },
   {
    "duration": 0,
    "start_time": "2022-05-27T11:22:38.729Z"
   },
   {
    "duration": 0,
    "start_time": "2022-05-27T11:22:38.730Z"
   },
   {
    "duration": 0,
    "start_time": "2022-05-27T11:22:38.731Z"
   },
   {
    "duration": 0,
    "start_time": "2022-05-27T11:22:38.732Z"
   },
   {
    "duration": 0,
    "start_time": "2022-05-27T11:22:38.734Z"
   },
   {
    "duration": 0,
    "start_time": "2022-05-27T11:22:38.735Z"
   },
   {
    "duration": 0,
    "start_time": "2022-05-27T11:22:38.736Z"
   },
   {
    "duration": 0,
    "start_time": "2022-05-27T11:22:38.737Z"
   },
   {
    "duration": 0,
    "start_time": "2022-05-27T11:22:38.738Z"
   },
   {
    "duration": 0,
    "start_time": "2022-05-27T11:22:38.739Z"
   },
   {
    "duration": 0,
    "start_time": "2022-05-27T11:22:38.740Z"
   },
   {
    "duration": 0,
    "start_time": "2022-05-27T11:22:38.741Z"
   },
   {
    "duration": 0,
    "start_time": "2022-05-27T11:22:38.742Z"
   },
   {
    "duration": 0,
    "start_time": "2022-05-27T11:22:38.744Z"
   },
   {
    "duration": 0,
    "start_time": "2022-05-27T11:22:38.744Z"
   },
   {
    "duration": 0,
    "start_time": "2022-05-27T11:22:38.745Z"
   },
   {
    "duration": 336,
    "start_time": "2022-05-27T11:23:56.264Z"
   },
   {
    "duration": 1000,
    "start_time": "2022-05-27T11:24:00.113Z"
   },
   {
    "duration": 722,
    "start_time": "2022-05-27T11:25:35.385Z"
   },
   {
    "duration": 199,
    "start_time": "2022-05-27T11:26:45.398Z"
   },
   {
    "duration": 164,
    "start_time": "2022-05-27T11:27:06.792Z"
   },
   {
    "duration": 202,
    "start_time": "2022-05-27T11:28:13.326Z"
   },
   {
    "duration": 295,
    "start_time": "2022-05-27T11:29:03.603Z"
   },
   {
    "duration": 174,
    "start_time": "2022-05-27T11:30:02.847Z"
   },
   {
    "duration": 10,
    "start_time": "2022-05-27T11:38:10.938Z"
   },
   {
    "duration": 10,
    "start_time": "2022-05-27T11:57:31.785Z"
   },
   {
    "duration": 16,
    "start_time": "2022-05-27T11:57:44.121Z"
   },
   {
    "duration": 25,
    "start_time": "2022-05-27T11:58:31.216Z"
   },
   {
    "duration": 20,
    "start_time": "2022-05-27T11:58:50.651Z"
   },
   {
    "duration": 17,
    "start_time": "2022-05-27T11:59:40.237Z"
   },
   {
    "duration": 18,
    "start_time": "2022-05-27T12:00:32.472Z"
   },
   {
    "duration": 18,
    "start_time": "2022-05-27T12:00:51.079Z"
   },
   {
    "duration": 171,
    "start_time": "2022-05-27T12:03:29.226Z"
   },
   {
    "duration": 161,
    "start_time": "2022-05-27T12:05:13.310Z"
   },
   {
    "duration": 170,
    "start_time": "2022-05-27T12:06:45.698Z"
   },
   {
    "duration": 190,
    "start_time": "2022-05-27T12:08:19.048Z"
   },
   {
    "duration": 191,
    "start_time": "2022-05-27T12:09:58.426Z"
   },
   {
    "duration": 176,
    "start_time": "2022-05-27T12:11:26.512Z"
   },
   {
    "duration": 169,
    "start_time": "2022-05-27T12:11:41.594Z"
   },
   {
    "duration": 171,
    "start_time": "2022-05-27T12:12:40.882Z"
   },
   {
    "duration": 195,
    "start_time": "2022-05-27T12:12:57.357Z"
   },
   {
    "duration": 537,
    "start_time": "2022-05-27T12:14:52.299Z"
   },
   {
    "duration": 163,
    "start_time": "2022-05-27T12:15:06.010Z"
   },
   {
    "duration": 284,
    "start_time": "2022-05-27T12:15:34.671Z"
   },
   {
    "duration": 32,
    "start_time": "2022-05-27T12:17:25.741Z"
   },
   {
    "duration": 66,
    "start_time": "2022-05-27T12:18:50.793Z"
   },
   {
    "duration": 3,
    "start_time": "2022-05-27T12:23:10.859Z"
   },
   {
    "duration": 32,
    "start_time": "2022-05-27T12:28:09.759Z"
   },
   {
    "duration": 13,
    "start_time": "2022-05-27T13:15:46.483Z"
   },
   {
    "duration": 374,
    "start_time": "2022-05-27T13:17:28.157Z"
   },
   {
    "duration": 269,
    "start_time": "2022-05-27T13:18:39.295Z"
   },
   {
    "duration": 309,
    "start_time": "2022-05-27T13:18:48.113Z"
   },
   {
    "duration": 389,
    "start_time": "2022-05-27T13:19:59.675Z"
   },
   {
    "duration": 386,
    "start_time": "2022-05-27T13:20:28.865Z"
   },
   {
    "duration": 432,
    "start_time": "2022-05-27T13:20:38.743Z"
   },
   {
    "duration": 427,
    "start_time": "2022-05-27T13:20:50.374Z"
   },
   {
    "duration": 292,
    "start_time": "2022-05-27T13:20:55.029Z"
   },
   {
    "duration": 273,
    "start_time": "2022-05-27T13:21:04.466Z"
   },
   {
    "duration": 279,
    "start_time": "2022-05-27T13:21:10.899Z"
   },
   {
    "duration": 325,
    "start_time": "2022-05-27T13:21:19.029Z"
   },
   {
    "duration": 426,
    "start_time": "2022-05-27T13:21:23.758Z"
   },
   {
    "duration": 311,
    "start_time": "2022-05-27T13:21:31.415Z"
   },
   {
    "duration": 359,
    "start_time": "2022-05-27T13:22:18.155Z"
   },
   {
    "duration": 5,
    "start_time": "2022-05-27T13:23:01.311Z"
   },
   {
    "duration": 290,
    "start_time": "2022-05-27T13:23:05.547Z"
   },
   {
    "duration": 317,
    "start_time": "2022-05-27T13:23:19.926Z"
   },
   {
    "duration": 287,
    "start_time": "2022-05-27T13:24:39.281Z"
   },
   {
    "duration": 427,
    "start_time": "2022-05-27T13:24:53.868Z"
   },
   {
    "duration": 327,
    "start_time": "2022-05-27T13:25:03.626Z"
   },
   {
    "duration": 349,
    "start_time": "2022-05-27T13:25:10.208Z"
   },
   {
    "duration": 339,
    "start_time": "2022-05-27T13:30:20.615Z"
   },
   {
    "duration": 339,
    "start_time": "2022-05-27T13:30:40.152Z"
   },
   {
    "duration": 550,
    "start_time": "2022-05-27T13:30:48.010Z"
   },
   {
    "duration": 37,
    "start_time": "2022-05-27T13:34:07.909Z"
   },
   {
    "duration": 144,
    "start_time": "2022-05-27T13:34:24.348Z"
   },
   {
    "duration": 291,
    "start_time": "2022-05-27T13:34:31.602Z"
   },
   {
    "duration": 301,
    "start_time": "2022-05-27T13:35:25.079Z"
   },
   {
    "duration": 123,
    "start_time": "2022-05-27T13:37:34.447Z"
   },
   {
    "duration": 143,
    "start_time": "2022-05-27T13:37:49.376Z"
   },
   {
    "duration": 162,
    "start_time": "2022-05-27T13:38:38.375Z"
   },
   {
    "duration": 302,
    "start_time": "2022-05-27T13:38:45.612Z"
   },
   {
    "duration": 317,
    "start_time": "2022-05-27T13:40:02.307Z"
   },
   {
    "duration": 411,
    "start_time": "2022-05-27T13:40:59.416Z"
   },
   {
    "duration": 337,
    "start_time": "2022-05-27T13:43:23.022Z"
   },
   {
    "duration": 326,
    "start_time": "2022-05-27T13:44:38.911Z"
   },
   {
    "duration": 352,
    "start_time": "2022-05-27T13:44:48.682Z"
   },
   {
    "duration": 335,
    "start_time": "2022-05-27T13:45:21.818Z"
   },
   {
    "duration": 445,
    "start_time": "2022-05-27T13:45:36.905Z"
   },
   {
    "duration": 289,
    "start_time": "2022-05-27T13:45:43.402Z"
   },
   {
    "duration": 15,
    "start_time": "2022-05-27T13:49:44.692Z"
   },
   {
    "duration": 8,
    "start_time": "2022-05-27T13:50:23.626Z"
   },
   {
    "duration": 2007,
    "start_time": "2022-05-27T13:54:29.839Z"
   },
   {
    "duration": 128,
    "start_time": "2022-05-27T13:55:06.414Z"
   },
   {
    "duration": 261,
    "start_time": "2022-05-27T13:55:45.490Z"
   },
   {
    "duration": 299,
    "start_time": "2022-05-27T14:04:03.971Z"
   },
   {
    "duration": 13,
    "start_time": "2022-05-27T14:05:42.150Z"
   },
   {
    "duration": 22,
    "start_time": "2022-05-27T14:06:03.581Z"
   },
   {
    "duration": 15,
    "start_time": "2022-05-27T14:06:20.055Z"
   },
   {
    "duration": 300,
    "start_time": "2022-05-27T14:06:44.950Z"
   },
   {
    "duration": 157,
    "start_time": "2022-05-27T14:18:01.887Z"
   },
   {
    "duration": 152,
    "start_time": "2022-05-27T14:18:15.647Z"
   },
   {
    "duration": 196,
    "start_time": "2022-05-27T14:19:14.972Z"
   },
   {
    "duration": 201,
    "start_time": "2022-05-27T14:20:02.206Z"
   },
   {
    "duration": 189,
    "start_time": "2022-05-27T14:20:39.710Z"
   },
   {
    "duration": 229,
    "start_time": "2022-05-27T14:21:15.672Z"
   },
   {
    "duration": 276,
    "start_time": "2022-05-27T14:21:26.120Z"
   },
   {
    "duration": 272,
    "start_time": "2022-05-27T14:22:25.180Z"
   },
   {
    "duration": 257,
    "start_time": "2022-05-27T14:22:31.057Z"
   },
   {
    "duration": 247,
    "start_time": "2022-05-27T14:23:06.586Z"
   },
   {
    "duration": 341,
    "start_time": "2022-05-27T14:23:40.944Z"
   },
   {
    "duration": 137,
    "start_time": "2022-05-27T14:24:00.518Z"
   },
   {
    "duration": 119,
    "start_time": "2022-05-27T14:24:07.321Z"
   },
   {
    "duration": 127,
    "start_time": "2022-05-27T14:24:17.268Z"
   },
   {
    "duration": 255,
    "start_time": "2022-05-27T14:24:43.201Z"
   },
   {
    "duration": 239,
    "start_time": "2022-05-27T14:24:46.502Z"
   },
   {
    "duration": 233,
    "start_time": "2022-05-27T14:24:55.439Z"
   },
   {
    "duration": 4,
    "start_time": "2022-05-27T14:27:00.049Z"
   },
   {
    "duration": 5,
    "start_time": "2022-05-27T14:27:05.849Z"
   },
   {
    "duration": 3,
    "start_time": "2022-05-27T14:27:25.193Z"
   },
   {
    "duration": 5,
    "start_time": "2022-05-27T14:27:30.769Z"
   },
   {
    "duration": 6,
    "start_time": "2022-05-27T14:27:46.572Z"
   },
   {
    "duration": 7,
    "start_time": "2022-05-27T14:29:13.030Z"
   },
   {
    "duration": 1177,
    "start_time": "2022-05-27T14:38:39.378Z"
   },
   {
    "duration": 86,
    "start_time": "2022-05-27T14:38:40.557Z"
   },
   {
    "duration": 19,
    "start_time": "2022-05-27T14:38:40.645Z"
   },
   {
    "duration": 39,
    "start_time": "2022-05-27T14:38:40.666Z"
   },
   {
    "duration": 32,
    "start_time": "2022-05-27T14:38:40.707Z"
   },
   {
    "duration": 6,
    "start_time": "2022-05-27T14:38:40.741Z"
   },
   {
    "duration": 49,
    "start_time": "2022-05-27T14:38:40.749Z"
   },
   {
    "duration": 10,
    "start_time": "2022-05-27T14:38:40.800Z"
   },
   {
    "duration": 5,
    "start_time": "2022-05-27T14:38:40.811Z"
   },
   {
    "duration": 6,
    "start_time": "2022-05-27T14:38:40.819Z"
   },
   {
    "duration": 9,
    "start_time": "2022-05-27T14:38:40.826Z"
   },
   {
    "duration": 9,
    "start_time": "2022-05-27T14:38:40.836Z"
   },
   {
    "duration": 40,
    "start_time": "2022-05-27T14:38:40.846Z"
   },
   {
    "duration": 97,
    "start_time": "2022-05-27T14:38:40.889Z"
   },
   {
    "duration": 15,
    "start_time": "2022-05-27T14:38:40.988Z"
   },
   {
    "duration": 192,
    "start_time": "2022-05-27T14:38:41.005Z"
   },
   {
    "duration": 17,
    "start_time": "2022-05-27T14:38:41.205Z"
   },
   {
    "duration": 3,
    "start_time": "2022-05-27T14:38:41.224Z"
   },
   {
    "duration": 301,
    "start_time": "2022-05-27T14:38:41.228Z"
   },
   {
    "duration": 21,
    "start_time": "2022-05-27T14:38:41.531Z"
   },
   {
    "duration": 7,
    "start_time": "2022-05-27T14:38:41.554Z"
   },
   {
    "duration": 36,
    "start_time": "2022-05-27T14:38:41.563Z"
   },
   {
    "duration": 3,
    "start_time": "2022-05-27T14:38:41.601Z"
   },
   {
    "duration": 248,
    "start_time": "2022-05-27T14:38:41.605Z"
   },
   {
    "duration": 277,
    "start_time": "2022-05-27T14:38:41.854Z"
   },
   {
    "duration": 247,
    "start_time": "2022-05-27T14:38:42.132Z"
   },
   {
    "duration": 4,
    "start_time": "2022-05-27T14:38:42.380Z"
   },
   {
    "duration": 19,
    "start_time": "2022-05-27T14:38:42.387Z"
   },
   {
    "duration": 120,
    "start_time": "2022-05-27T14:38:42.408Z"
   },
   {
    "duration": 256,
    "start_time": "2022-05-27T14:38:42.530Z"
   },
   {
    "duration": 267,
    "start_time": "2022-05-27T14:38:42.797Z"
   },
   {
    "duration": 267,
    "start_time": "2022-05-27T14:38:43.066Z"
   },
   {
    "duration": 267,
    "start_time": "2022-05-27T14:38:43.334Z"
   },
   {
    "duration": 190,
    "start_time": "2022-05-27T14:38:43.602Z"
   },
   {
    "duration": 405,
    "start_time": "2022-05-27T14:38:43.794Z"
   },
   {
    "duration": 14,
    "start_time": "2022-05-27T14:38:44.201Z"
   },
   {
    "duration": 189,
    "start_time": "2022-05-27T14:38:44.216Z"
   },
   {
    "duration": 195,
    "start_time": "2022-05-27T14:38:44.407Z"
   },
   {
    "duration": 187,
    "start_time": "2022-05-27T14:38:44.603Z"
   },
   {
    "duration": 198,
    "start_time": "2022-05-27T14:38:44.792Z"
   },
   {
    "duration": 199,
    "start_time": "2022-05-27T14:38:44.992Z"
   },
   {
    "duration": 173,
    "start_time": "2022-05-27T14:38:45.198Z"
   },
   {
    "duration": 171,
    "start_time": "2022-05-27T14:38:45.372Z"
   },
   {
    "duration": 183,
    "start_time": "2022-05-27T14:38:45.544Z"
   },
   {
    "duration": 187,
    "start_time": "2022-05-27T14:38:45.729Z"
   },
   {
    "duration": 9,
    "start_time": "2022-05-27T14:38:45.918Z"
   },
   {
    "duration": 7,
    "start_time": "2022-05-27T14:38:45.928Z"
   },
   {
    "duration": 13,
    "start_time": "2022-05-27T14:38:45.936Z"
   },
   {
    "duration": 14,
    "start_time": "2022-05-27T14:38:45.951Z"
   },
   {
    "duration": 29,
    "start_time": "2022-05-27T14:38:45.968Z"
   },
   {
    "duration": 12,
    "start_time": "2022-05-27T14:38:45.999Z"
   },
   {
    "duration": 9,
    "start_time": "2022-05-27T14:38:46.013Z"
   },
   {
    "duration": 13,
    "start_time": "2022-05-27T14:38:46.023Z"
   },
   {
    "duration": 4,
    "start_time": "2022-05-27T14:38:46.038Z"
   },
   {
    "duration": 14,
    "start_time": "2022-05-27T14:38:46.044Z"
   },
   {
    "duration": 130,
    "start_time": "2022-05-27T14:38:46.059Z"
   },
   {
    "duration": 1068,
    "start_time": "2022-05-27T23:37:55.653Z"
   },
   {
    "duration": 75,
    "start_time": "2022-05-27T23:37:56.723Z"
   },
   {
    "duration": 16,
    "start_time": "2022-05-27T23:37:56.799Z"
   },
   {
    "duration": 13,
    "start_time": "2022-05-27T23:37:56.817Z"
   },
   {
    "duration": 29,
    "start_time": "2022-05-27T23:37:56.832Z"
   },
   {
    "duration": 5,
    "start_time": "2022-05-27T23:37:56.863Z"
   },
   {
    "duration": 18,
    "start_time": "2022-05-27T23:37:56.895Z"
   },
   {
    "duration": 10,
    "start_time": "2022-05-27T23:37:56.915Z"
   },
   {
    "duration": 5,
    "start_time": "2022-05-27T23:37:56.926Z"
   },
   {
    "duration": 5,
    "start_time": "2022-05-27T23:37:56.934Z"
   },
   {
    "duration": 9,
    "start_time": "2022-05-27T23:37:56.941Z"
   },
   {
    "duration": 5,
    "start_time": "2022-05-27T23:37:56.952Z"
   },
   {
    "duration": 24,
    "start_time": "2022-05-27T23:37:56.995Z"
   },
   {
    "duration": 85,
    "start_time": "2022-05-27T23:37:57.021Z"
   },
   {
    "duration": 13,
    "start_time": "2022-05-27T23:37:57.107Z"
   },
   {
    "duration": 185,
    "start_time": "2022-05-27T23:37:57.122Z"
   },
   {
    "duration": 16,
    "start_time": "2022-05-27T23:37:57.309Z"
   },
   {
    "duration": 3,
    "start_time": "2022-05-27T23:37:57.327Z"
   },
   {
    "duration": 284,
    "start_time": "2022-05-27T23:37:57.332Z"
   },
   {
    "duration": 21,
    "start_time": "2022-05-27T23:37:57.618Z"
   },
   {
    "duration": 11,
    "start_time": "2022-05-27T23:37:57.640Z"
   },
   {
    "duration": 13,
    "start_time": "2022-05-27T23:37:57.652Z"
   },
   {
    "duration": 6,
    "start_time": "2022-05-27T23:37:57.666Z"
   },
   {
    "duration": 244,
    "start_time": "2022-05-27T23:37:57.673Z"
   },
   {
    "duration": 248,
    "start_time": "2022-05-27T23:37:57.919Z"
   },
   {
    "duration": 231,
    "start_time": "2022-05-27T23:37:58.169Z"
   },
   {
    "duration": 2,
    "start_time": "2022-05-27T23:37:58.402Z"
   },
   {
    "duration": 7,
    "start_time": "2022-05-27T23:37:58.409Z"
   },
   {
    "duration": 122,
    "start_time": "2022-05-27T23:37:58.417Z"
   },
   {
    "duration": 249,
    "start_time": "2022-05-27T23:37:58.541Z"
   },
   {
    "duration": 295,
    "start_time": "2022-05-27T23:37:58.791Z"
   },
   {
    "duration": 246,
    "start_time": "2022-05-27T23:37:59.087Z"
   },
   {
    "duration": 236,
    "start_time": "2022-05-27T23:37:59.335Z"
   },
   {
    "duration": 186,
    "start_time": "2022-05-27T23:37:59.573Z"
   },
   {
    "duration": 381,
    "start_time": "2022-05-27T23:37:59.761Z"
   },
   {
    "duration": 15,
    "start_time": "2022-05-27T23:38:00.144Z"
   },
   {
    "duration": 180,
    "start_time": "2022-05-27T23:38:00.161Z"
   },
   {
    "duration": 181,
    "start_time": "2022-05-27T23:38:00.343Z"
   },
   {
    "duration": 175,
    "start_time": "2022-05-27T23:38:00.526Z"
   },
   {
    "duration": 176,
    "start_time": "2022-05-27T23:38:00.703Z"
   },
   {
    "duration": 175,
    "start_time": "2022-05-27T23:38:00.881Z"
   },
   {
    "duration": 187,
    "start_time": "2022-05-27T23:38:01.058Z"
   },
   {
    "duration": 169,
    "start_time": "2022-05-27T23:38:01.246Z"
   },
   {
    "duration": 170,
    "start_time": "2022-05-27T23:38:01.417Z"
   },
   {
    "duration": 168,
    "start_time": "2022-05-27T23:38:01.589Z"
   },
   {
    "duration": 9,
    "start_time": "2022-05-27T23:38:01.758Z"
   },
   {
    "duration": 7,
    "start_time": "2022-05-27T23:38:01.769Z"
   },
   {
    "duration": 19,
    "start_time": "2022-05-27T23:38:01.778Z"
   },
   {
    "duration": 17,
    "start_time": "2022-05-27T23:38:01.799Z"
   },
   {
    "duration": 4,
    "start_time": "2022-05-27T23:38:01.818Z"
   },
   {
    "duration": 13,
    "start_time": "2022-05-27T23:38:01.823Z"
   },
   {
    "duration": 15,
    "start_time": "2022-05-27T23:38:01.838Z"
   },
   {
    "duration": 12,
    "start_time": "2022-05-27T23:38:01.855Z"
   },
   {
    "duration": 6,
    "start_time": "2022-05-27T23:38:01.868Z"
   },
   {
    "duration": 6,
    "start_time": "2022-05-27T23:38:01.876Z"
   },
   {
    "duration": 122,
    "start_time": "2022-05-27T23:38:01.894Z"
   }
  ],
  "kernelspec": {
   "display_name": "Python 3 (ipykernel)",
   "language": "python",
   "name": "python3"
  },
  "language_info": {
   "codemirror_mode": {
    "name": "ipython",
    "version": 3
   },
   "file_extension": ".py",
   "mimetype": "text/x-python",
   "name": "python",
   "nbconvert_exporter": "python",
   "pygments_lexer": "ipython3",
   "version": "3.9.12"
  },
  "toc": {
   "base_numbering": 1,
   "nav_menu": {
    "height": "401px",
    "width": "221px"
   },
   "number_sections": true,
   "sideBar": true,
   "skip_h1_title": true,
   "title_cell": "Table of Contents",
   "title_sidebar": "Contents",
   "toc_cell": false,
   "toc_position": {
    "height": "calc(100% - 180px)",
    "left": "10px",
    "top": "150px",
    "width": "197.682px"
   },
   "toc_section_display": true,
   "toc_window_display": true
  }
 },
 "nbformat": 4,
 "nbformat_minor": 2
}
