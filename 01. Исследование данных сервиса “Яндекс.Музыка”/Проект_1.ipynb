{
 "cells": [
  {
   "cell_type": "markdown",
   "metadata": {
    "id": "E0vqbgi9ay0H"
   },
   "source": [
    "# Яндекс.Музыка"
   ]
  },
  {
   "cell_type": "markdown",
   "metadata": {
    "id": "VUC88oWjTJw2"
   },
   "source": [
    "Сравнение Москвы и Петербурга окружено мифами. Например:\n",
    " * Москва — мегаполис, подчинённый жёсткому ритму рабочей недели;\n",
    " * Петербург — культурная столица, со своими вкусами.\n",
    "\n",
    "На данных Яндекс.Музыки вы сравните поведение пользователей двух столиц.\n",
    "\n",
    "**Цель исследования** — проверьте три гипотезы:\n",
    "1. Активность пользователей зависит от дня недели. Причём в Москве и Петербурге это проявляется по-разному.\n",
    "2. В понедельник утром в Москве преобладают одни жанры, а в Петербурге — другие. Так же и вечером пятницы преобладают разные жанры — в зависимости от города. \n",
    "3. Москва и Петербург предпочитают разные жанры музыки. В Москве чаще слушают поп-музыку, в Петербурге — русский рэп.\n",
    "\n",
    "**Ход исследования**\n",
    "\n",
    "Данные о поведении пользователей вы получите из файла `yandex_music_project.csv`. О качестве данных ничего не известно. Поэтому перед проверкой гипотез понадобится обзор данных. \n",
    "\n",
    "Вы проверите данные на ошибки и оцените их влияние на исследование. Затем, на этапе предобработки вы поищете возможность исправить самые критичные ошибки данных.\n",
    " \n",
    "Таким образом, исследование пройдёт в три этапа:\n",
    " 1. Обзор данных.\n",
    " 2. Предобработка данных.\n",
    " 3. Проверка гипотез.\n",
    "\n"
   ]
  },
  {
   "cell_type": "markdown",
   "metadata": {
    "id": "Ml1hmfXC_Zcs"
   },
   "source": [
    "## Обзор данных\n",
    "\n",
    "Составьте первое представление о данных Яндекс.Музыки.\n",
    "\n",
    "\n"
   ]
  },
  {
   "cell_type": "markdown",
   "metadata": {
    "id": "57eAOGIz_Zcs"
   },
   "source": [
    "Основной инструмент аналитика — `pandas`. Импортируйте эту библиотеку."
   ]
  },
  {
   "cell_type": "code",
   "execution_count": 1,
   "metadata": {
    "id": "AXN7PHPN_Zcs"
   },
   "outputs": [],
   "source": [
    "import pandas as pd # импорт библиотеки pandas"
   ]
  },
  {
   "cell_type": "markdown",
   "metadata": {
    "id": "SG23P8tt_Zcs"
   },
   "source": [
    "Прочитайте файл `yandex_music_project.csv` из папки `/datasets` и сохраните его в переменной `df`:"
   ]
  },
  {
   "cell_type": "code",
   "execution_count": 2,
   "metadata": {
    "id": "fFVu7vqh_Zct"
   },
   "outputs": [],
   "source": [
    "df = pd.read_csv('/datasets/yandex_music_project.csv') # чтение файла с данными и сохранение в df"
   ]
  },
  {
   "cell_type": "markdown",
   "metadata": {
    "id": "rDoOMd3uTqnZ"
   },
   "source": [
    "Выведите на экран первые десять строк таблицы:"
   ]
  },
  {
   "cell_type": "code",
   "execution_count": 3,
   "metadata": {
    "id": "oWTVX3gW_Zct",
    "scrolled": true
   },
   "outputs": [
    {
     "data": {
      "text/html": [
       "<div>\n",
       "<style scoped>\n",
       "    .dataframe tbody tr th:only-of-type {\n",
       "        vertical-align: middle;\n",
       "    }\n",
       "\n",
       "    .dataframe tbody tr th {\n",
       "        vertical-align: top;\n",
       "    }\n",
       "\n",
       "    .dataframe thead th {\n",
       "        text-align: right;\n",
       "    }\n",
       "</style>\n",
       "<table border=\"1\" class=\"dataframe\">\n",
       "  <thead>\n",
       "    <tr style=\"text-align: right;\">\n",
       "      <th></th>\n",
       "      <th>userID</th>\n",
       "      <th>Track</th>\n",
       "      <th>artist</th>\n",
       "      <th>genre</th>\n",
       "      <th>City</th>\n",
       "      <th>time</th>\n",
       "      <th>Day</th>\n",
       "    </tr>\n",
       "  </thead>\n",
       "  <tbody>\n",
       "    <tr>\n",
       "      <td>0</td>\n",
       "      <td>FFB692EC</td>\n",
       "      <td>Kamigata To Boots</td>\n",
       "      <td>The Mass Missile</td>\n",
       "      <td>rock</td>\n",
       "      <td>Saint-Petersburg</td>\n",
       "      <td>20:28:33</td>\n",
       "      <td>Wednesday</td>\n",
       "    </tr>\n",
       "    <tr>\n",
       "      <td>1</td>\n",
       "      <td>55204538</td>\n",
       "      <td>Delayed Because of Accident</td>\n",
       "      <td>Andreas Rönnberg</td>\n",
       "      <td>rock</td>\n",
       "      <td>Moscow</td>\n",
       "      <td>14:07:09</td>\n",
       "      <td>Friday</td>\n",
       "    </tr>\n",
       "    <tr>\n",
       "      <td>2</td>\n",
       "      <td>20EC38</td>\n",
       "      <td>Funiculì funiculà</td>\n",
       "      <td>Mario Lanza</td>\n",
       "      <td>pop</td>\n",
       "      <td>Saint-Petersburg</td>\n",
       "      <td>20:58:07</td>\n",
       "      <td>Wednesday</td>\n",
       "    </tr>\n",
       "    <tr>\n",
       "      <td>3</td>\n",
       "      <td>A3DD03C9</td>\n",
       "      <td>Dragons in the Sunset</td>\n",
       "      <td>Fire + Ice</td>\n",
       "      <td>folk</td>\n",
       "      <td>Saint-Petersburg</td>\n",
       "      <td>08:37:09</td>\n",
       "      <td>Monday</td>\n",
       "    </tr>\n",
       "    <tr>\n",
       "      <td>4</td>\n",
       "      <td>E2DC1FAE</td>\n",
       "      <td>Soul People</td>\n",
       "      <td>Space Echo</td>\n",
       "      <td>dance</td>\n",
       "      <td>Moscow</td>\n",
       "      <td>08:34:34</td>\n",
       "      <td>Monday</td>\n",
       "    </tr>\n",
       "    <tr>\n",
       "      <td>5</td>\n",
       "      <td>842029A1</td>\n",
       "      <td>Преданная</td>\n",
       "      <td>IMPERVTOR</td>\n",
       "      <td>rusrap</td>\n",
       "      <td>Saint-Petersburg</td>\n",
       "      <td>13:09:41</td>\n",
       "      <td>Friday</td>\n",
       "    </tr>\n",
       "    <tr>\n",
       "      <td>6</td>\n",
       "      <td>4CB90AA5</td>\n",
       "      <td>True</td>\n",
       "      <td>Roman Messer</td>\n",
       "      <td>dance</td>\n",
       "      <td>Moscow</td>\n",
       "      <td>13:00:07</td>\n",
       "      <td>Wednesday</td>\n",
       "    </tr>\n",
       "    <tr>\n",
       "      <td>7</td>\n",
       "      <td>F03E1C1F</td>\n",
       "      <td>Feeling This Way</td>\n",
       "      <td>Polina Griffith</td>\n",
       "      <td>dance</td>\n",
       "      <td>Moscow</td>\n",
       "      <td>20:47:49</td>\n",
       "      <td>Wednesday</td>\n",
       "    </tr>\n",
       "    <tr>\n",
       "      <td>8</td>\n",
       "      <td>8FA1D3BE</td>\n",
       "      <td>И вновь продолжается бой</td>\n",
       "      <td>NaN</td>\n",
       "      <td>ruspop</td>\n",
       "      <td>Moscow</td>\n",
       "      <td>09:17:40</td>\n",
       "      <td>Friday</td>\n",
       "    </tr>\n",
       "    <tr>\n",
       "      <td>9</td>\n",
       "      <td>E772D5C0</td>\n",
       "      <td>Pessimist</td>\n",
       "      <td>NaN</td>\n",
       "      <td>dance</td>\n",
       "      <td>Saint-Petersburg</td>\n",
       "      <td>21:20:49</td>\n",
       "      <td>Wednesday</td>\n",
       "    </tr>\n",
       "  </tbody>\n",
       "</table>\n",
       "</div>"
      ],
      "text/plain": [
       "     userID                        Track            artist   genre  \\\n",
       "0  FFB692EC            Kamigata To Boots  The Mass Missile    rock   \n",
       "1  55204538  Delayed Because of Accident  Andreas Rönnberg    rock   \n",
       "2    20EC38            Funiculì funiculà       Mario Lanza     pop   \n",
       "3  A3DD03C9        Dragons in the Sunset        Fire + Ice    folk   \n",
       "4  E2DC1FAE                  Soul People        Space Echo   dance   \n",
       "5  842029A1                    Преданная         IMPERVTOR  rusrap   \n",
       "6  4CB90AA5                         True      Roman Messer   dance   \n",
       "7  F03E1C1F             Feeling This Way   Polina Griffith   dance   \n",
       "8  8FA1D3BE     И вновь продолжается бой               NaN  ruspop   \n",
       "9  E772D5C0                    Pessimist               NaN   dance   \n",
       "\n",
       "             City        time        Day  \n",
       "0  Saint-Petersburg  20:28:33  Wednesday  \n",
       "1            Moscow  14:07:09     Friday  \n",
       "2  Saint-Petersburg  20:58:07  Wednesday  \n",
       "3  Saint-Petersburg  08:37:09     Monday  \n",
       "4            Moscow  08:34:34     Monday  \n",
       "5  Saint-Petersburg  13:09:41     Friday  \n",
       "6            Moscow  13:00:07  Wednesday  \n",
       "7            Moscow  20:47:49  Wednesday  \n",
       "8            Moscow  09:17:40     Friday  \n",
       "9  Saint-Petersburg  21:20:49  Wednesday  "
      ]
     },
     "execution_count": 3,
     "metadata": {},
     "output_type": "execute_result"
    }
   ],
   "source": [
    "df.head(10)# получение первых 10 строк таблицы df"
   ]
  },
  {
   "cell_type": "markdown",
   "metadata": {
    "id": "EO73Kwic_Zct"
   },
   "source": [
    "Одной командой получить общую информацию о таблице:"
   ]
  },
  {
   "cell_type": "code",
   "execution_count": 4,
   "metadata": {
    "id": "DSf2kIb-_Zct"
   },
   "outputs": [
    {
     "name": "stdout",
     "output_type": "stream",
     "text": [
      "<class 'pandas.core.frame.DataFrame'>\n",
      "RangeIndex: 65079 entries, 0 to 65078\n",
      "Data columns (total 7 columns):\n",
      "  userID    65079 non-null object\n",
      "Track       63848 non-null object\n",
      "artist      57876 non-null object\n",
      "genre       63881 non-null object\n",
      "  City      65079 non-null object\n",
      "time        65079 non-null object\n",
      "Day         65079 non-null object\n",
      "dtypes: object(7)\n",
      "memory usage: 3.5+ MB\n"
     ]
    }
   ],
   "source": [
    "df.info()# получение общей информации о данных в таблице df"
   ]
  },
  {
   "cell_type": "markdown",
   "metadata": {
    "id": "TaQ2Iwbr_Zct"
   },
   "source": [
    "Итак, в таблице семь столбцов. Тип данных во всех столбцах — `object`.\n",
    "\n",
    "Согласно документации к данным:\n",
    "* `userID` — идентификатор пользователя;\n",
    "* `Track` — название трека;  \n",
    "* `artist` — имя исполнителя;\n",
    "* `genre` — название жанра;\n",
    "* `City` — город пользователя;\n",
    "* `time` — время начала прослушивания;\n",
    "* `Day` — день недели.\n",
    "\n",
    "В названиях колонок видны три нарушения стиля:\n",
    "1. Строчные буквы сочетаются с прописными.\n",
    "2. Встречаются пробелы.\n",
    "3. Найдите ещё одну проблему в названии колонок и опишите её в этом пункте.\n",
    "\n",
    "\n",
    "\n",
    "Количество значений в столбцах различается. Значит, в данных есть пропущенные значения.\n"
   ]
  },
  {
   "cell_type": "markdown",
   "metadata": {
    "id": "MCB6-dXG_Zct"
   },
   "source": [
    "**Выводы**\n",
    "\n",
    "В каждой строке таблицы — данные о прослушанном треке. Часть колонок описывает саму композицию: название, исполнителя и жанр. Остальные данные рассказывают о пользователе: из какого он города, когда он слушал музыку. \n",
    "\n",
    "Предварительно можно утверждать, что, данных достаточно для проверки гипотез. Но встречаются пропуски в данных, а в названиях колонок — расхождения с хорошим стилем.\n",
    "\n",
    "Чтобы двигаться дальше, нужно устранить проблемы в данных."
   ]
  },
  {
   "cell_type": "markdown",
   "metadata": {
    "id": "SjYF6Ub9_Zct"
   },
   "source": [
    "## Предобработка данных\n",
    "Исправьте стиль в заголовках столбцов, исключите пропуски. Затем проверьте данные на дубликаты."
   ]
  },
  {
   "cell_type": "markdown",
   "metadata": {
    "id": "dIaKXr29_Zct"
   },
   "source": [
    "### Стиль заголовков\n",
    "Выведите на экран названия столбцов:"
   ]
  },
  {
   "cell_type": "code",
   "execution_count": 5,
   "metadata": {
    "id": "oKOTdF_Q_Zct"
   },
   "outputs": [
    {
     "data": {
      "text/plain": [
       "Index(['  userID', 'Track', 'artist', 'genre', '  City  ', 'time', 'Day'], dtype='object')"
      ]
     },
     "execution_count": 5,
     "metadata": {},
     "output_type": "execute_result"
    }
   ],
   "source": [
    "df.columns# перечень названий столбцов таблицы df"
   ]
  },
  {
   "cell_type": "markdown",
   "metadata": {
    "id": "zj5534cv_Zct"
   },
   "source": [
    "Приведите названия в соответствие с хорошим стилем:\n",
    "* несколько слов в названии запишите в «змеином_регистре»,\n",
    "* все символы сделайте строчными,\n",
    "* устраните пробелы.\n",
    "\n",
    "Для этого переименуйте колонки так:\n",
    "* `'  userID'` → `'user_id'`;\n",
    "* `'Track'` → `'track'`;\n",
    "* `'  City  '` → `'city'`;\n",
    "* `'Day'` → `'day'`."
   ]
  },
  {
   "cell_type": "code",
   "execution_count": 6,
   "metadata": {
    "id": "ISlFqs5y_Zct",
    "scrolled": true
   },
   "outputs": [],
   "source": [
    "df = df.rename(columns={'  userID':'user_id','Track':'track','  City  ':'city','Day':'day'})"
   ]
  },
  {
   "cell_type": "markdown",
   "metadata": {
    "id": "1dqbh00J_Zct"
   },
   "source": [
    "Проверьте результат. Для этого ещё раз выведите на экран названия столбцов:"
   ]
  },
  {
   "cell_type": "code",
   "execution_count": 7,
   "metadata": {
    "id": "d4NOAmTW_Zct"
   },
   "outputs": [
    {
     "data": {
      "text/plain": [
       "Index(['user_id', 'track', 'artist', 'genre', 'city', 'time', 'day'], dtype='object')"
      ]
     },
     "execution_count": 7,
     "metadata": {},
     "output_type": "execute_result"
    }
   ],
   "source": [
    "df.columns# проверка результатов - перечень названий столбцов"
   ]
  },
  {
   "cell_type": "markdown",
   "metadata": {
    "id": "5ISfbcfY_Zct"
   },
   "source": [
    "### Пропуски значений\n",
    "Сначала посчитайте, сколько в таблице пропущенных значений. Для этого достаточно двух методов `pandas`:"
   ]
  },
  {
   "cell_type": "code",
   "execution_count": 8,
   "metadata": {
    "id": "RskX29qr_Zct"
   },
   "outputs": [
    {
     "data": {
      "text/plain": [
       "user_id       0\n",
       "track      1231\n",
       "artist     7203\n",
       "genre      1198\n",
       "city          0\n",
       "time          0\n",
       "day           0\n",
       "dtype: int64"
      ]
     },
     "execution_count": 8,
     "metadata": {},
     "output_type": "execute_result"
    }
   ],
   "source": [
    "df.isna().sum()# подсчёт пропусков"
   ]
  },
  {
   "cell_type": "markdown",
   "metadata": {
    "id": "qubhgnlO_Zct"
   },
   "source": [
    "Не все пропущенные значения влияют на исследование. Так в `track` и `artist` пропуски не важны для вашей работы. Достаточно заменить их явными обозначениями.\n",
    "\n",
    "Но пропуски в `genre` могут помешать сравнению музыкальных вкусов в Москве и Санкт-Петербурге. На практике было бы правильно установить причину пропусков и восстановить данные. Такой возможности нет в учебном проекте. Придётся:\n",
    "* заполнить и эти пропуски явными обозначениями,\n",
    "* оценить, насколько они повредят расчётам. "
   ]
  },
  {
   "cell_type": "markdown",
   "metadata": {
    "id": "fSv2laPA_Zct"
   },
   "source": [
    "Замените пропущенные значения в столбцах `track`, `artist` и `genre` на строку `'unknown'`. Для этого создайте список `columns_to_replace`, переберите его элементы циклом `for` и для каждого столбца выполните замену пропущенных значений:"
   ]
  },
  {
   "cell_type": "code",
   "execution_count": 9,
   "metadata": {
    "id": "KplB5qWs_Zct"
   },
   "outputs": [],
   "source": [
    "columns_to_replace = ['track', 'artist', 'genre']\n",
    "for column in columns_to_replace:\n",
    "    df[column] = df[column].fillna('unknown')\n",
    "\n",
    "# перебор названий столбцов в цикле и замена пропущенных значений на 'unknown'"
   ]
  },
  {
   "cell_type": "markdown",
   "metadata": {
    "id": "Ilsm-MZo_Zct"
   },
   "source": [
    "Убедитесь, что в таблице не осталось пропусков. Для этого ещё раз посчитайте пропущенные значения."
   ]
  },
  {
   "cell_type": "code",
   "execution_count": 10,
   "metadata": {
    "id": "Tq4nYRX4_Zct"
   },
   "outputs": [
    {
     "data": {
      "text/plain": [
       "user_id    0\n",
       "track      0\n",
       "artist     0\n",
       "genre      0\n",
       "city       0\n",
       "time       0\n",
       "day        0\n",
       "dtype: int64"
      ]
     },
     "execution_count": 10,
     "metadata": {},
     "output_type": "execute_result"
    }
   ],
   "source": [
    "df.isna().sum()# подсчёт пропусков"
   ]
  },
  {
   "cell_type": "markdown",
   "metadata": {
    "id": "BWKRtBJ3_Zct"
   },
   "source": [
    "### Дубликаты\n",
    "Посчитайте явные дубликаты в таблице одной командой:"
   ]
  },
  {
   "cell_type": "code",
   "execution_count": 11,
   "metadata": {
    "id": "36eES_S0_Zct"
   },
   "outputs": [
    {
     "data": {
      "text/plain": [
       "3826"
      ]
     },
     "execution_count": 11,
     "metadata": {},
     "output_type": "execute_result"
    }
   ],
   "source": [
    "df.duplicated().sum()# подсчёт явных дубликатов"
   ]
  },
  {
   "cell_type": "markdown",
   "metadata": {
    "id": "Ot25h6XR_Zct"
   },
   "source": [
    "Вызовите специальный метод `pandas`, чтобы удалить явные дубликаты:"
   ]
  },
  {
   "cell_type": "code",
   "execution_count": 12,
   "metadata": {
    "id": "exFHq6tt_Zct"
   },
   "outputs": [],
   "source": [
    "df = df.drop_duplicates()# удаление явных дубликатов (с удалением старых индексов и формированием новых)"
   ]
  },
  {
   "cell_type": "markdown",
   "metadata": {
    "id": "Im2YwBEG_Zct"
   },
   "source": [
    "Ещё раз посчитайте явные дубликаты в таблице — убедитесь, что полностью от них избавились:"
   ]
  },
  {
   "cell_type": "code",
   "execution_count": 13,
   "metadata": {
    "id": "-8PuNWQ0_Zct"
   },
   "outputs": [
    {
     "data": {
      "text/plain": [
       "0"
      ]
     },
     "execution_count": 13,
     "metadata": {},
     "output_type": "execute_result"
    }
   ],
   "source": [
    "df.duplicated().sum()# проверка на отсутствие дубликатов"
   ]
  },
  {
   "cell_type": "markdown",
   "metadata": {
    "id": "QlFBsxAr_Zct"
   },
   "source": [
    "Теперь избавьтесь от неявных дубликатов в колонке `genre`. Например, название одного и того же жанра может быть записано немного по-разному. Такие ошибки тоже повлияют на результат исследования."
   ]
  },
  {
   "cell_type": "markdown",
   "metadata": {
    "id": "eSjWwsOh_Zct"
   },
   "source": [
    "Выведите на экран список уникальных названий жанров, отсортированный в алфавитном порядке. Для этого:\n",
    "* извлеките нужный столбец датафрейма, \n",
    "* примените к нему метод сортировки,\n",
    "* для отсортированного столбца вызовите метод, который вернёт уникальные значения из столбца."
   ]
  },
  {
   "cell_type": "code",
   "execution_count": 14,
   "metadata": {
    "id": "JIUcqzZN_Zct",
    "scrolled": false
   },
   "outputs": [
    {
     "data": {
      "text/plain": [
       "array(['acid', 'acoustic', 'action', 'adult', 'africa', 'afrikaans',\n",
       "       'alternative', 'alternativepunk', 'ambient', 'americana',\n",
       "       'animated', 'anime', 'arabesk', 'arabic', 'arena',\n",
       "       'argentinetango', 'art', 'audiobook', 'author', 'avantgarde',\n",
       "       'axé', 'baile', 'balkan', 'beats', 'bigroom', 'black', 'bluegrass',\n",
       "       'blues', 'bollywood', 'bossa', 'brazilian', 'breakbeat', 'breaks',\n",
       "       'broadway', 'cantautori', 'cantopop', 'canzone', 'caribbean',\n",
       "       'caucasian', 'celtic', 'chamber', 'chanson', 'children', 'chill',\n",
       "       'chinese', 'choral', 'christian', 'christmas', 'classical',\n",
       "       'classicmetal', 'club', 'colombian', 'comedy', 'conjazz',\n",
       "       'contemporary', 'country', 'cuban', 'dance', 'dancehall',\n",
       "       'dancepop', 'dark', 'death', 'deep', 'deutschrock', 'deutschspr',\n",
       "       'dirty', 'disco', 'dnb', 'documentary', 'downbeat', 'downtempo',\n",
       "       'drum', 'dub', 'dubstep', 'eastern', 'easy', 'electronic',\n",
       "       'electropop', 'emo', 'entehno', 'epicmetal', 'estrada', 'ethnic',\n",
       "       'eurofolk', 'european', 'experimental', 'extrememetal', 'fado',\n",
       "       'fairytail', 'film', 'fitness', 'flamenco', 'folk', 'folklore',\n",
       "       'folkmetal', 'folkrock', 'folktronica', 'forró', 'frankreich',\n",
       "       'französisch', 'french', 'funk', 'future', 'gangsta', 'garage',\n",
       "       'german', 'ghazal', 'gitarre', 'glitch', 'gospel', 'gothic',\n",
       "       'grime', 'grunge', 'gypsy', 'handsup', \"hard'n'heavy\", 'hardcore',\n",
       "       'hardstyle', 'hardtechno', 'hip', 'hip-hop', 'hiphop',\n",
       "       'historisch', 'holiday', 'hop', 'horror', 'house', 'hymn', 'idm',\n",
       "       'independent', 'indian', 'indie', 'indipop', 'industrial',\n",
       "       'inspirational', 'instrumental', 'international', 'irish', 'jam',\n",
       "       'japanese', 'jazz', 'jewish', 'jpop', 'jungle', 'k-pop',\n",
       "       'karadeniz', 'karaoke', 'kayokyoku', 'korean', 'laiko', 'latin',\n",
       "       'latino', 'leftfield', 'local', 'lounge', 'loungeelectronic',\n",
       "       'lovers', 'malaysian', 'mandopop', 'marschmusik', 'meditative',\n",
       "       'mediterranean', 'melodic', 'metal', 'metalcore', 'mexican',\n",
       "       'middle', 'minimal', 'miscellaneous', 'modern', 'mood', 'mpb',\n",
       "       'muslim', 'native', 'neoklassik', 'neue', 'new', 'newage',\n",
       "       'newwave', 'nu', 'nujazz', 'numetal', 'oceania', 'old', 'opera',\n",
       "       'orchestral', 'other', 'piano', 'podcasts', 'pop', 'popdance',\n",
       "       'popelectronic', 'popeurodance', 'poprussian', 'post',\n",
       "       'posthardcore', 'postrock', 'power', 'progmetal', 'progressive',\n",
       "       'psychedelic', 'punjabi', 'punk', 'quebecois', 'ragga', 'ram',\n",
       "       'rancheras', 'rap', 'rave', 'reggae', 'reggaeton', 'regional',\n",
       "       'relax', 'religious', 'retro', 'rhythm', 'rnb', 'rnr', 'rock',\n",
       "       'rockabilly', 'rockalternative', 'rockindie', 'rockother',\n",
       "       'romance', 'roots', 'ruspop', 'rusrap', 'rusrock', 'russian',\n",
       "       'salsa', 'samba', 'scenic', 'schlager', 'self', 'sertanejo',\n",
       "       'shanson', 'shoegazing', 'showtunes', 'singer', 'ska', 'skarock',\n",
       "       'slow', 'smooth', 'soft', 'soul', 'soulful', 'sound', 'soundtrack',\n",
       "       'southern', 'specialty', 'speech', 'spiritual', 'sport',\n",
       "       'stonerrock', 'surf', 'swing', 'synthpop', 'synthrock',\n",
       "       'sängerportrait', 'tango', 'tanzorchester', 'taraftar', 'tatar',\n",
       "       'tech', 'techno', 'teen', 'thrash', 'top', 'traditional',\n",
       "       'tradjazz', 'trance', 'tribal', 'trip', 'triphop', 'tropical',\n",
       "       'türk', 'türkçe', 'ukrrock', 'unknown', 'urban', 'uzbek',\n",
       "       'variété', 'vi', 'videogame', 'vocal', 'western', 'world',\n",
       "       'worldbeat', 'ïîï', 'электроника'], dtype=object)"
      ]
     },
     "execution_count": 14,
     "metadata": {},
     "output_type": "execute_result"
    }
   ],
   "source": [
    "df['genre'].sort_values().unique()# Просмотр уникальных названий жанров"
   ]
  },
  {
   "cell_type": "markdown",
   "metadata": {
    "id": "qej-Qmuo_Zct"
   },
   "source": [
    "Просмотрите список и найдите неявные дубликаты названия `hiphop`. Это могут быть названия с ошибками или альтернативные названия того же жанра.\n",
    "\n",
    "Вы увидите следующие неявные дубликаты:\n",
    "* *hip*,\n",
    "* *hop*,\n",
    "* *hip-hop*.\n",
    "\n",
    "Чтобы очистить от них таблицу, напишите функцию `replace_wrong_genres()` с двумя параметрами: \n",
    "* `wrong_genres` — список дубликатов,\n",
    "* `correct_genre` — строка с правильным значением.\n",
    "\n",
    "Функция должна исправить колонку `genre` в таблице `df`: заменить каждое значение из списка `wrong_genres` на значение из `correct_genre`."
   ]
  },
  {
   "cell_type": "code",
   "execution_count": 15,
   "metadata": {
    "id": "ErNDkmns_Zct"
   },
   "outputs": [],
   "source": [
    "def replace_wrong_genres(wrong_genres, correct_genre):\n",
    "    for wrong_genre in wrong_genres:\n",
    "        df['genre'] = df['genre'].replace(wrong_genre, correct_genre)\n",
    "        # Функция для замены неявных дубликатов"
   ]
  },
  {
   "cell_type": "markdown",
   "metadata": {
    "id": "aDoBJxbA_Zct"
   },
   "source": [
    "Вызовите `replace_wrong_genres()` и передайте ей такие аргументы, чтобы она устранила неявные дубликаты: вместо `hip`, `hop` и `hip-hop` в таблице должно быть значение `hiphop`:"
   ]
  },
  {
   "cell_type": "code",
   "execution_count": 16,
   "metadata": {
    "id": "YN5i2hpmSo09"
   },
   "outputs": [],
   "source": [
    "replace_wrong_genres(['hip', 'hop', 'hip-hop'], 'hiphop') \n",
    "\n",
    "# Устранение неявных дубликатов"
   ]
  },
  {
   "cell_type": "markdown",
   "metadata": {
    "id": "zQKF16_RG15m"
   },
   "source": [
    "Проверьте, что заменили неправильные названия:\n",
    "\n",
    "*   hip\n",
    "*   hop\n",
    "*   hip-hop\n",
    "\n",
    "Выведите отсортированный список уникальных значений столбца `genre`:"
   ]
  },
  {
   "cell_type": "code",
   "execution_count": 17,
   "metadata": {
    "id": "wvixALnFG15m"
   },
   "outputs": [
    {
     "data": {
      "text/plain": [
       "array(['acid', 'acoustic', 'action', 'adult', 'africa', 'afrikaans',\n",
       "       'alternative', 'alternativepunk', 'ambient', 'americana',\n",
       "       'animated', 'anime', 'arabesk', 'arabic', 'arena',\n",
       "       'argentinetango', 'art', 'audiobook', 'author', 'avantgarde',\n",
       "       'axé', 'baile', 'balkan', 'beats', 'bigroom', 'black', 'bluegrass',\n",
       "       'blues', 'bollywood', 'bossa', 'brazilian', 'breakbeat', 'breaks',\n",
       "       'broadway', 'cantautori', 'cantopop', 'canzone', 'caribbean',\n",
       "       'caucasian', 'celtic', 'chamber', 'chanson', 'children', 'chill',\n",
       "       'chinese', 'choral', 'christian', 'christmas', 'classical',\n",
       "       'classicmetal', 'club', 'colombian', 'comedy', 'conjazz',\n",
       "       'contemporary', 'country', 'cuban', 'dance', 'dancehall',\n",
       "       'dancepop', 'dark', 'death', 'deep', 'deutschrock', 'deutschspr',\n",
       "       'dirty', 'disco', 'dnb', 'documentary', 'downbeat', 'downtempo',\n",
       "       'drum', 'dub', 'dubstep', 'eastern', 'easy', 'electronic',\n",
       "       'electropop', 'emo', 'entehno', 'epicmetal', 'estrada', 'ethnic',\n",
       "       'eurofolk', 'european', 'experimental', 'extrememetal', 'fado',\n",
       "       'fairytail', 'film', 'fitness', 'flamenco', 'folk', 'folklore',\n",
       "       'folkmetal', 'folkrock', 'folktronica', 'forró', 'frankreich',\n",
       "       'französisch', 'french', 'funk', 'future', 'gangsta', 'garage',\n",
       "       'german', 'ghazal', 'gitarre', 'glitch', 'gospel', 'gothic',\n",
       "       'grime', 'grunge', 'gypsy', 'handsup', \"hard'n'heavy\", 'hardcore',\n",
       "       'hardstyle', 'hardtechno', 'hiphop', 'historisch', 'holiday',\n",
       "       'horror', 'house', 'hymn', 'idm', 'independent', 'indian', 'indie',\n",
       "       'indipop', 'industrial', 'inspirational', 'instrumental',\n",
       "       'international', 'irish', 'jam', 'japanese', 'jazz', 'jewish',\n",
       "       'jpop', 'jungle', 'k-pop', 'karadeniz', 'karaoke', 'kayokyoku',\n",
       "       'korean', 'laiko', 'latin', 'latino', 'leftfield', 'local',\n",
       "       'lounge', 'loungeelectronic', 'lovers', 'malaysian', 'mandopop',\n",
       "       'marschmusik', 'meditative', 'mediterranean', 'melodic', 'metal',\n",
       "       'metalcore', 'mexican', 'middle', 'minimal', 'miscellaneous',\n",
       "       'modern', 'mood', 'mpb', 'muslim', 'native', 'neoklassik', 'neue',\n",
       "       'new', 'newage', 'newwave', 'nu', 'nujazz', 'numetal', 'oceania',\n",
       "       'old', 'opera', 'orchestral', 'other', 'piano', 'podcasts', 'pop',\n",
       "       'popdance', 'popelectronic', 'popeurodance', 'poprussian', 'post',\n",
       "       'posthardcore', 'postrock', 'power', 'progmetal', 'progressive',\n",
       "       'psychedelic', 'punjabi', 'punk', 'quebecois', 'ragga', 'ram',\n",
       "       'rancheras', 'rap', 'rave', 'reggae', 'reggaeton', 'regional',\n",
       "       'relax', 'religious', 'retro', 'rhythm', 'rnb', 'rnr', 'rock',\n",
       "       'rockabilly', 'rockalternative', 'rockindie', 'rockother',\n",
       "       'romance', 'roots', 'ruspop', 'rusrap', 'rusrock', 'russian',\n",
       "       'salsa', 'samba', 'scenic', 'schlager', 'self', 'sertanejo',\n",
       "       'shanson', 'shoegazing', 'showtunes', 'singer', 'ska', 'skarock',\n",
       "       'slow', 'smooth', 'soft', 'soul', 'soulful', 'sound', 'soundtrack',\n",
       "       'southern', 'specialty', 'speech', 'spiritual', 'sport',\n",
       "       'stonerrock', 'surf', 'swing', 'synthpop', 'synthrock',\n",
       "       'sängerportrait', 'tango', 'tanzorchester', 'taraftar', 'tatar',\n",
       "       'tech', 'techno', 'teen', 'thrash', 'top', 'traditional',\n",
       "       'tradjazz', 'trance', 'tribal', 'trip', 'triphop', 'tropical',\n",
       "       'türk', 'türkçe', 'ukrrock', 'unknown', 'urban', 'uzbek',\n",
       "       'variété', 'vi', 'videogame', 'vocal', 'western', 'world',\n",
       "       'worldbeat', 'ïîï', 'электроника'], dtype=object)"
      ]
     },
     "execution_count": 17,
     "metadata": {},
     "output_type": "execute_result"
    }
   ],
   "source": [
    "df['genre'].sort_values().unique()# Проверка на неявные дубликаты"
   ]
  },
  {
   "cell_type": "markdown",
   "metadata": {
    "id": "jz6a9-7HQUDd"
   },
   "source": [
    "**Выводы**\n",
    "\n",
    "Предобработка обнаружила три проблемы в данных:\n",
    "\n",
    "- нарушения в стиле заголовков,\n",
    "- пропущенные значения,\n",
    "- дубликаты — явные и неявные.\n",
    "\n",
    "Вы исправили заголовки, чтобы упростить работу с таблицей. Без дубликатов исследование станет более точным.\n",
    "\n",
    "Пропущенные значения вы заменили на `'unknown'`. Ещё предстоит увидеть, не повредят ли исследованию пропуски в колонке `genre`.\n",
    "\n",
    "Теперь можно перейти к проверке гипотез. "
   ]
  },
  {
   "cell_type": "markdown",
   "metadata": {
    "id": "WttZHXH0SqKk"
   },
   "source": [
    "## Проверка гипотез"
   ]
  },
  {
   "cell_type": "markdown",
   "metadata": {
    "id": "Im936VVi_Zcu"
   },
   "source": [
    "### Сравнение поведения пользователей двух столиц"
   ]
  },
  {
   "cell_type": "markdown",
   "metadata": {
    "id": "nwt_MuaL_Zcu"
   },
   "source": [
    "Первая гипотеза утверждает, что пользователи по-разному слушают музыку в Москве и Санкт-Петербурге. Проверьте это предположение по данным о трёх днях недели — понедельнике, среде и пятнице. Для этого:\n",
    "\n",
    "* Разделите пользователей Москвы и Санкт-Петербурга\n",
    "* Сравните, сколько треков послушала каждая группа пользователей в понедельник, среду и пятницу.\n"
   ]
  },
  {
   "cell_type": "markdown",
   "metadata": {
    "id": "8Dw_YMmT_Zcu"
   },
   "source": [
    "Для тренировки сначала выполните каждый из расчётов по отдельности. \n",
    "\n",
    "Оцените активность пользователей в каждом городе. Сгруппируйте данные по городу и посчитайте прослушивания в каждой группе.\n",
    "\n"
   ]
  },
  {
   "cell_type": "code",
   "execution_count": 18,
   "metadata": {
    "id": "0_Qs96oh_Zcu",
    "scrolled": true
   },
   "outputs": [
    {
     "data": {
      "text/plain": [
       "city\n",
       "Moscow              42741\n",
       "Saint-Petersburg    18512\n",
       "Name: user_id, dtype: int64"
      ]
     },
     "execution_count": 18,
     "metadata": {},
     "output_type": "execute_result"
    }
   ],
   "source": [
    "df.groupby('city')['user_id'].count()# Подсчёт прослушиваний в каждом городе"
   ]
  },
  {
   "cell_type": "markdown",
   "metadata": {
    "id": "dzli3w8o_Zcu"
   },
   "source": [
    "В Москве прослушиваний больше, чем в Петербурге. Из этого не следует, что московские пользователи чаще слушают музыку. Просто самих пользователей в Москве больше.\n",
    "\n",
    "Теперь сгруппируйте данные по дню недели и подсчитайте прослушивания в понедельник, среду и пятницу. Учтите, что в данных есть информация только о прослушиваниях только за эти дни.\n"
   ]
  },
  {
   "cell_type": "code",
   "execution_count": 19,
   "metadata": {
    "id": "uZMKjiJz_Zcu",
    "scrolled": true
   },
   "outputs": [
    {
     "data": {
      "text/plain": [
       "day\n",
       "Friday       21840\n",
       "Monday       21354\n",
       "Wednesday    18059\n",
       "Name: user_id, dtype: int64"
      ]
     },
     "execution_count": 19,
     "metadata": {},
     "output_type": "execute_result"
    }
   ],
   "source": [
    "df.groupby('day')['user_id'].count()# Подсчёт прослушиваний в каждый из трёх дней"
   ]
  },
  {
   "cell_type": "markdown",
   "metadata": {
    "id": "cC2tNrlL_Zcu"
   },
   "source": [
    "В среднем пользователи из двух городов менее активны по средам. Но картина может измениться, если рассмотреть каждый город в отдельности."
   ]
  },
  {
   "cell_type": "markdown",
   "metadata": {
    "id": "POzs8bGa_Zcu"
   },
   "source": [
    "Вы видели, как работает группировка по городу и по дням недели. Теперь напишите функцию, которая объединит два эти расчёта.\n",
    "\n",
    "Создайте функцию `number_tracks()`, которая посчитает прослушивания для заданного дня и города. Ей понадобятся два параметра:\n",
    "* день недели,\n",
    "* название города.\n",
    "\n",
    "В функции сохраните в переменную строки исходной таблицы, у которых значение:\n",
    "  * в колонке `day` равно параметру `day`,\n",
    "  * в колонке `city` равно параметру `city`.\n",
    "\n",
    "Для этого примените последовательную фильтрацию с логической индексацией.\n",
    "\n",
    "Затем посчитайте значения в столбце `user_id` получившейся таблицы. Результат сохраните в новую переменную. Верните эту переменную из функции."
   ]
  },
  {
   "cell_type": "code",
   "execution_count": 20,
   "metadata": {
    "id": "Nz3GdQB1_Zcu"
   },
   "outputs": [],
   "source": [
    "def number_tracks(day, city):\n",
    "    # <создание функции number_tracks()> Объявляется функция с двумя параметрами: day, city.\n",
    "    track_list = df[df['day'] == day]\n",
    "    # В переменной track_list сохраняются те строки таблицы df, для которых \n",
    "    track_list = track_list[track_list['city'] == city]\n",
    "    # значение в столбце 'day' равно параметру day и одновременно значение,'city' равно параметру city \n",
    "    track_list_count =  track_list['user_id'].count()\n",
    "    # В переменной track_list_count сохраняется число значений столбца 'user_id',рассчитанное методом count() для таблицы track_list.\n",
    "    return  track_list_count\n",
    "# Функция возвращает число - значение track_list_count.\n",
    "\n",
    "# Функция для подсчёта прослушиваний для конкретного города и дня.\n",
    "# С помощью последовательной фильтрации с логической индексацией она \n",
    "# сначала получит из исходной таблицы строки с нужным днём,\n",
    "# затем из результата отфильтрует строки с нужным городом,\n",
    "# методом count() посчитает количество значений в колонке user_id. \n",
    "# Это количество функция вернёт в качестве результата"
   ]
  },
  {
   "cell_type": "markdown",
   "metadata": {
    "id": "ytf7xFrFJQ2r"
   },
   "source": [
    "Вызовите `number_tracks()` шесть раз, меняя значение параметров — так, чтобы получить данные для каждого города в каждый из трёх дней."
   ]
  },
  {
   "cell_type": "code",
   "execution_count": 21,
   "metadata": {
    "id": "rJcRATNQ_Zcu"
   },
   "outputs": [
    {
     "data": {
      "text/plain": [
       "15740"
      ]
     },
     "execution_count": 21,
     "metadata": {},
     "output_type": "execute_result"
    }
   ],
   "source": [
    "number_tracks('Monday','Moscow')# количество прослушиваний в Москве по понедельникам"
   ]
  },
  {
   "cell_type": "code",
   "execution_count": 22,
   "metadata": {
    "id": "hq_ncZ5T_Zcu"
   },
   "outputs": [
    {
     "data": {
      "text/plain": [
       "5614"
      ]
     },
     "execution_count": 22,
     "metadata": {},
     "output_type": "execute_result"
    }
   ],
   "source": [
    "number_tracks('Monday','Saint-Petersburg')# количество прослушиваний в Санкт-Петербурге по понедельникам"
   ]
  },
  {
   "cell_type": "code",
   "execution_count": 23,
   "metadata": {
    "id": "_NTy2VPU_Zcu"
   },
   "outputs": [
    {
     "data": {
      "text/plain": [
       "11056"
      ]
     },
     "execution_count": 23,
     "metadata": {},
     "output_type": "execute_result"
    }
   ],
   "source": [
    "number_tracks('Wednesday','Moscow')# количество прослушиваний в Москве по средам"
   ]
  },
  {
   "cell_type": "code",
   "execution_count": 24,
   "metadata": {
    "id": "j2y3TAwo_Zcu"
   },
   "outputs": [
    {
     "data": {
      "text/plain": [
       "7003"
      ]
     },
     "execution_count": 24,
     "metadata": {},
     "output_type": "execute_result"
    }
   ],
   "source": [
    "number_tracks('Wednesday','Saint-Petersburg')# количество прослушиваний в Санкт-Петербурге по средам"
   ]
  },
  {
   "cell_type": "code",
   "execution_count": 25,
   "metadata": {
    "id": "vYDw5u_K_Zcu"
   },
   "outputs": [
    {
     "data": {
      "text/plain": [
       "15945"
      ]
     },
     "execution_count": 25,
     "metadata": {},
     "output_type": "execute_result"
    }
   ],
   "source": [
    "number_tracks('Friday','Moscow')# количество прослушиваний в Москве по пятницам"
   ]
  },
  {
   "cell_type": "code",
   "execution_count": 26,
   "metadata": {
    "id": "8_yzFtW3_Zcu"
   },
   "outputs": [
    {
     "data": {
      "text/plain": [
       "5895"
      ]
     },
     "execution_count": 26,
     "metadata": {},
     "output_type": "execute_result"
    }
   ],
   "source": [
    "number_tracks('Friday','Saint-Petersburg')# количество прослушиваний в Санкт-Петербурге по пятницам"
   ]
  },
  {
   "cell_type": "markdown",
   "metadata": {
    "id": "7QXffbO-_Zcu"
   },
   "source": [
    "Создайте c помощью конструктора `pd.DataFrame` таблицу, где\n",
    "* названия колонок — `['city', 'monday', 'wednesday', 'friday']`;\n",
    "* данные — результаты, которые вы получили с помощью `number_tracks`."
   ]
  },
  {
   "cell_type": "code",
   "execution_count": 27,
   "metadata": {
    "id": "APAcLpOr_Zcu",
    "scrolled": false
   },
   "outputs": [
    {
     "data": {
      "text/html": [
       "<div>\n",
       "<style scoped>\n",
       "    .dataframe tbody tr th:only-of-type {\n",
       "        vertical-align: middle;\n",
       "    }\n",
       "\n",
       "    .dataframe tbody tr th {\n",
       "        vertical-align: top;\n",
       "    }\n",
       "\n",
       "    .dataframe thead th {\n",
       "        text-align: right;\n",
       "    }\n",
       "</style>\n",
       "<table border=\"1\" class=\"dataframe\">\n",
       "  <thead>\n",
       "    <tr style=\"text-align: right;\">\n",
       "      <th></th>\n",
       "      <th>monday</th>\n",
       "      <th>wednesday</th>\n",
       "      <th>friday</th>\n",
       "    </tr>\n",
       "    <tr>\n",
       "      <th>city</th>\n",
       "      <th></th>\n",
       "      <th></th>\n",
       "      <th></th>\n",
       "    </tr>\n",
       "  </thead>\n",
       "  <tbody>\n",
       "    <tr>\n",
       "      <td>Moscow</td>\n",
       "      <td>15740</td>\n",
       "      <td>11056</td>\n",
       "      <td>15945</td>\n",
       "    </tr>\n",
       "    <tr>\n",
       "      <td>Saint-Petersburg</td>\n",
       "      <td>5614</td>\n",
       "      <td>7003</td>\n",
       "      <td>5895</td>\n",
       "    </tr>\n",
       "  </tbody>\n",
       "</table>\n",
       "</div>"
      ],
      "text/plain": [
       "                  monday  wednesday  friday\n",
       "city                                       \n",
       "Moscow             15740      11056   15945\n",
       "Saint-Petersburg    5614       7003    5895"
      ]
     },
     "metadata": {},
     "output_type": "display_data"
    }
   ],
   "source": [
    "data = [\n",
    "    ['Moscow',\n",
    "    number_tracks('Monday','Moscow'), \n",
    "    number_tracks('Wednesday','Moscow'),\n",
    "    number_tracks('Friday','Moscow')],\n",
    "    ['Saint-Petersburg',\n",
    "    number_tracks('Monday','Saint-Petersburg'), \n",
    "    number_tracks('Wednesday','Saint-Petersburg'),\n",
    "    number_tracks('Friday','Saint-Petersburg')]\n",
    "]\n",
    "columns = ['city', 'monday', 'wednesday', 'friday']\n",
    "table = pd.DataFrame(data  = data ,columns = columns)\n",
    "table.set_index('city', inplace=True)\n",
    "display(table)\n",
    "# Таблица с результатами"
   ]
  },
  {
   "cell_type": "markdown",
   "metadata": {
    "id": "-EgPIHYu_Zcu"
   },
   "source": [
    "**Выводы**\n",
    "\n",
    "Данные показывают разницу поведения пользователей:\n",
    "\n",
    "- В Москве пик прослушиваний приходится на понедельник и пятницу, а в среду заметен спад.\n",
    "- В Петербурге, наоборот, больше слушают музыку по средам. Активность в понедельник и пятницу здесь почти в равной мере уступает среде.\n",
    "\n",
    "Значит, данные говорят в пользу первой гипотезы."
   ]
  },
  {
   "cell_type": "markdown",
   "metadata": {
    "id": "atZAxtq4_Zcu"
   },
   "source": [
    "### Музыка в начале и в конце недели"
   ]
  },
  {
   "cell_type": "markdown",
   "metadata": {
    "id": "eXrQqXFH_Zcu"
   },
   "source": [
    "Согласно второй гипотезе, утром в понедельник в Москве преобладают одни жанры, а в Петербурге — другие. Так же и вечером пятницы преобладают разные жанры — в зависимости от города."
   ]
  },
  {
   "cell_type": "markdown",
   "metadata": {
    "id": "S8UcW6Hw_Zcu"
   },
   "source": [
    "Сохраните таблицы с данными в две переменные:\n",
    "* по Москве — в `moscow_general`;\n",
    "* по Санкт-Петербургу — в `spb_general`."
   ]
  },
  {
   "cell_type": "code",
   "execution_count": 28,
   "metadata": {
    "id": "qeaFfM_P_Zcu"
   },
   "outputs": [
    {
     "data": {
      "text/html": [
       "<div>\n",
       "<style scoped>\n",
       "    .dataframe tbody tr th:only-of-type {\n",
       "        vertical-align: middle;\n",
       "    }\n",
       "\n",
       "    .dataframe tbody tr th {\n",
       "        vertical-align: top;\n",
       "    }\n",
       "\n",
       "    .dataframe thead th {\n",
       "        text-align: right;\n",
       "    }\n",
       "</style>\n",
       "<table border=\"1\" class=\"dataframe\">\n",
       "  <thead>\n",
       "    <tr style=\"text-align: right;\">\n",
       "      <th></th>\n",
       "      <th>user_id</th>\n",
       "      <th>track</th>\n",
       "      <th>artist</th>\n",
       "      <th>genre</th>\n",
       "      <th>city</th>\n",
       "      <th>time</th>\n",
       "      <th>day</th>\n",
       "    </tr>\n",
       "  </thead>\n",
       "  <tbody>\n",
       "    <tr>\n",
       "      <td>1</td>\n",
       "      <td>55204538</td>\n",
       "      <td>Delayed Because of Accident</td>\n",
       "      <td>Andreas Rönnberg</td>\n",
       "      <td>rock</td>\n",
       "      <td>Moscow</td>\n",
       "      <td>14:07:09</td>\n",
       "      <td>Friday</td>\n",
       "    </tr>\n",
       "    <tr>\n",
       "      <td>4</td>\n",
       "      <td>E2DC1FAE</td>\n",
       "      <td>Soul People</td>\n",
       "      <td>Space Echo</td>\n",
       "      <td>dance</td>\n",
       "      <td>Moscow</td>\n",
       "      <td>08:34:34</td>\n",
       "      <td>Monday</td>\n",
       "    </tr>\n",
       "    <tr>\n",
       "      <td>6</td>\n",
       "      <td>4CB90AA5</td>\n",
       "      <td>True</td>\n",
       "      <td>Roman Messer</td>\n",
       "      <td>dance</td>\n",
       "      <td>Moscow</td>\n",
       "      <td>13:00:07</td>\n",
       "      <td>Wednesday</td>\n",
       "    </tr>\n",
       "    <tr>\n",
       "      <td>7</td>\n",
       "      <td>F03E1C1F</td>\n",
       "      <td>Feeling This Way</td>\n",
       "      <td>Polina Griffith</td>\n",
       "      <td>dance</td>\n",
       "      <td>Moscow</td>\n",
       "      <td>20:47:49</td>\n",
       "      <td>Wednesday</td>\n",
       "    </tr>\n",
       "    <tr>\n",
       "      <td>8</td>\n",
       "      <td>8FA1D3BE</td>\n",
       "      <td>И вновь продолжается бой</td>\n",
       "      <td>unknown</td>\n",
       "      <td>ruspop</td>\n",
       "      <td>Moscow</td>\n",
       "      <td>09:17:40</td>\n",
       "      <td>Friday</td>\n",
       "    </tr>\n",
       "    <tr>\n",
       "      <td>...</td>\n",
       "      <td>...</td>\n",
       "      <td>...</td>\n",
       "      <td>...</td>\n",
       "      <td>...</td>\n",
       "      <td>...</td>\n",
       "      <td>...</td>\n",
       "      <td>...</td>\n",
       "    </tr>\n",
       "    <tr>\n",
       "      <td>65073</td>\n",
       "      <td>83A474E7</td>\n",
       "      <td>I Worship Only What You Bleed</td>\n",
       "      <td>The Black Dahlia Murder</td>\n",
       "      <td>extrememetal</td>\n",
       "      <td>Moscow</td>\n",
       "      <td>21:07:12</td>\n",
       "      <td>Monday</td>\n",
       "    </tr>\n",
       "    <tr>\n",
       "      <td>65074</td>\n",
       "      <td>729CBB09</td>\n",
       "      <td>My Name</td>\n",
       "      <td>McLean</td>\n",
       "      <td>rnb</td>\n",
       "      <td>Moscow</td>\n",
       "      <td>13:32:28</td>\n",
       "      <td>Wednesday</td>\n",
       "    </tr>\n",
       "    <tr>\n",
       "      <td>65076</td>\n",
       "      <td>C5E3A0D5</td>\n",
       "      <td>Jalopiina</td>\n",
       "      <td>unknown</td>\n",
       "      <td>industrial</td>\n",
       "      <td>Moscow</td>\n",
       "      <td>20:09:26</td>\n",
       "      <td>Friday</td>\n",
       "    </tr>\n",
       "    <tr>\n",
       "      <td>65077</td>\n",
       "      <td>321D0506</td>\n",
       "      <td>Freight Train</td>\n",
       "      <td>Chas McDevitt</td>\n",
       "      <td>rock</td>\n",
       "      <td>Moscow</td>\n",
       "      <td>21:43:59</td>\n",
       "      <td>Friday</td>\n",
       "    </tr>\n",
       "    <tr>\n",
       "      <td>65078</td>\n",
       "      <td>3A64EF84</td>\n",
       "      <td>Tell Me Sweet Little Lies</td>\n",
       "      <td>Monica Lopez</td>\n",
       "      <td>country</td>\n",
       "      <td>Moscow</td>\n",
       "      <td>21:59:46</td>\n",
       "      <td>Friday</td>\n",
       "    </tr>\n",
       "  </tbody>\n",
       "</table>\n",
       "<p>42741 rows × 7 columns</p>\n",
       "</div>"
      ],
      "text/plain": [
       "        user_id                          track                   artist  \\\n",
       "1      55204538    Delayed Because of Accident         Andreas Rönnberg   \n",
       "4      E2DC1FAE                    Soul People               Space Echo   \n",
       "6      4CB90AA5                           True             Roman Messer   \n",
       "7      F03E1C1F               Feeling This Way          Polina Griffith   \n",
       "8      8FA1D3BE       И вновь продолжается бой                  unknown   \n",
       "...         ...                            ...                      ...   \n",
       "65073  83A474E7  I Worship Only What You Bleed  The Black Dahlia Murder   \n",
       "65074  729CBB09                        My Name                   McLean   \n",
       "65076  C5E3A0D5                      Jalopiina                  unknown   \n",
       "65077  321D0506                  Freight Train            Chas McDevitt   \n",
       "65078  3A64EF84      Tell Me Sweet Little Lies             Monica Lopez   \n",
       "\n",
       "              genre    city      time        day  \n",
       "1              rock  Moscow  14:07:09     Friday  \n",
       "4             dance  Moscow  08:34:34     Monday  \n",
       "6             dance  Moscow  13:00:07  Wednesday  \n",
       "7             dance  Moscow  20:47:49  Wednesday  \n",
       "8            ruspop  Moscow  09:17:40     Friday  \n",
       "...             ...     ...       ...        ...  \n",
       "65073  extrememetal  Moscow  21:07:12     Monday  \n",
       "65074           rnb  Moscow  13:32:28  Wednesday  \n",
       "65076    industrial  Moscow  20:09:26     Friday  \n",
       "65077          rock  Moscow  21:43:59     Friday  \n",
       "65078       country  Moscow  21:59:46     Friday  \n",
       "\n",
       "[42741 rows x 7 columns]"
      ]
     },
     "metadata": {},
     "output_type": "display_data"
    }
   ],
   "source": [
    "moscow_general = df[df['city'] =='Moscow']\n",
    "display(moscow_general)# получение таблицы moscow_general из тех строк таблицы df, \n",
    "# для которых значение в столбце 'city' равно 'Moscow'\n"
   ]
  },
  {
   "cell_type": "code",
   "execution_count": 29,
   "metadata": {
    "id": "ORaVRKto_Zcu"
   },
   "outputs": [],
   "source": [
    "spb_general = df[df['city'] =='Saint-Petersburg']\n",
    "# получение таблицы spb_general из тех строк таблицы df,\n",
    "# для которых значение в столбце 'city' равно 'Saint-Petersburg'\n"
   ]
  },
  {
   "cell_type": "markdown",
   "metadata": {
    "id": "MEJV-CX2_Zcu"
   },
   "source": [
    "Создайте функцию `genre_weekday()` с четырьмя параметрами:\n",
    "* таблица (датафрейм) с данными,\n",
    "* день недели,\n",
    "* начальная временная метка в формате 'hh:mm', \n",
    "* последняя временная метка в формате 'hh:mm'.\n",
    "\n",
    "Функция должна вернуть информацию о топ-10 жанров тех треков, которые прослушивали в указанный день, в промежутке между двумя отметками времени."
   ]
  },
  {
   "cell_type": "code",
   "execution_count": 30,
   "metadata": {
    "id": "laJT9BYl_Zcu"
   },
   "outputs": [],
   "source": [
    "def genre_weekday(table, day, time1, time2):\n",
    "    # Объявление функции genre_weekday() с параметрами table, day, time1, time2,\n",
    "    # которая возвращает информацию о самых популярных жанрах в указанный день в заданное время:\n",
    "\n",
    "    genre_df = table[(table['day'] == day) & (table['time'] > time1) & (table['time'] < time2)]\n",
    "    # 1) в переменную genre_df сохраняются те строки переданного датафрейма table, для\n",
    "#    которых одновременно:\n",
    "#    - значение в столбце day равно значению аргумента day\n",
    "#    - значение в столбце time больше значения аргумента time1\n",
    "#    - значение в столбце time меньше значения аргумента time2\n",
    "#    Используйте последовательную фильтрацию с помощью логической индексации.\n",
    "   \n",
    "    genre_df_count = genre_df.groupby('genre')['track'].count()\n",
    "    \n",
    "# 2) сгруппировать датафрейм genre_df по столбцу genre, взять один из его\n",
    "#    столбцов и посчитать методом count() количество записей для каждого из\n",
    "#    присутствующих жанров, получившийся Series записать в переменную\n",
    "#    genre_df_count\n",
    "    genre_df_sorted = genre_df_count.sort_values(ascending = False)\n",
    "# 3) отсортировать genre_df_count по убыванию встречаемости и сохранить\n",
    "#    в переменную genre_df_sorted\n",
    "    return genre_df_sorted.head(10)\n",
    "# 4) вернуть Series из 10 первых значений genre_df_sorted, это будут топ-10\n",
    "#    популярных жанров (в указанный день, в заданное время)"
   ]
  },
  {
   "cell_type": "markdown",
   "metadata": {
    "id": "la2s2_PF_Zcu"
   },
   "source": [
    "Cравните результаты функции `genre_weekday()` для Москвы и Санкт-Петербурга в понедельник утром (с 7:00 до 11:00) и в пятницу вечером (с 17:00 до 23:00):"
   ]
  },
  {
   "cell_type": "code",
   "execution_count": 31,
   "metadata": {
    "id": "yz7itPUQ_Zcu"
   },
   "outputs": [
    {
     "data": {
      "text/plain": [
       "genre\n",
       "pop            781\n",
       "dance          549\n",
       "electronic     480\n",
       "rock           474\n",
       "hiphop         286\n",
       "ruspop         186\n",
       "world          181\n",
       "rusrap         175\n",
       "alternative    164\n",
       "unknown        161\n",
       "Name: track, dtype: int64"
      ]
     },
     "execution_count": 31,
     "metadata": {},
     "output_type": "execute_result"
    }
   ],
   "source": [
    "genre_weekday(moscow_general,'Monday', '07:00', '11:00')# вызов функции для утра понедельника в Москве (вместо df — таблица moscow_general)\n",
    "# объекты, хранящие время, являются строками и сравниваются как строки\n",
    "# пример вызова: genre_weekday(moscow_general, 'Monday', '07:00', '11:00')"
   ]
  },
  {
   "cell_type": "code",
   "execution_count": 32,
   "metadata": {
    "id": "kwUcHPdy_Zcu"
   },
   "outputs": [
    {
     "data": {
      "text/plain": [
       "genre\n",
       "pop            218\n",
       "dance          182\n",
       "rock           162\n",
       "electronic     147\n",
       "hiphop          80\n",
       "ruspop          64\n",
       "alternative     58\n",
       "rusrap          55\n",
       "jazz            44\n",
       "classical       40\n",
       "Name: track, dtype: int64"
      ]
     },
     "execution_count": 32,
     "metadata": {},
     "output_type": "execute_result"
    }
   ],
   "source": [
    "genre_weekday(spb_general,'Monday', '07:00', '11:00')# вызов функции для утра понедельника в Петербурге (вместо df — таблица spb_general)"
   ]
  },
  {
   "cell_type": "code",
   "execution_count": 33,
   "metadata": {
    "id": "EzXVRE1o_Zcu"
   },
   "outputs": [
    {
     "data": {
      "text/plain": [
       "genre\n",
       "pop            713\n",
       "rock           517\n",
       "dance          495\n",
       "electronic     482\n",
       "hiphop         273\n",
       "world          208\n",
       "ruspop         170\n",
       "alternative    163\n",
       "classical      163\n",
       "rusrap         142\n",
       "Name: track, dtype: int64"
      ]
     },
     "execution_count": 33,
     "metadata": {},
     "output_type": "execute_result"
    }
   ],
   "source": [
    "genre_weekday(moscow_general,'Friday', '17:00', '23:00')# вызов функции для вечера пятницы в Москве"
   ]
  },
  {
   "cell_type": "code",
   "execution_count": 34,
   "metadata": {
    "id": "JZaEKu5v_Zcu"
   },
   "outputs": [
    {
     "data": {
      "text/plain": [
       "genre\n",
       "pop            256\n",
       "rock           216\n",
       "electronic     216\n",
       "dance          210\n",
       "hiphop          97\n",
       "alternative     63\n",
       "jazz            61\n",
       "classical       60\n",
       "rusrap          59\n",
       "world           54\n",
       "Name: track, dtype: int64"
      ]
     },
     "execution_count": 34,
     "metadata": {},
     "output_type": "execute_result"
    }
   ],
   "source": [
    "genre_weekday(spb_general,'Friday', '17:00', '23:00')# вызов функции для вечера пятницы в Петербурге"
   ]
  },
  {
   "cell_type": "markdown",
   "metadata": {
    "id": "wrCe4MNX_Zcu"
   },
   "source": [
    "**Выводы**\n",
    "\n",
    "Если сравнить топ-10 жанров в понедельник утром, можно сделать такие выводы:\n",
    "\n",
    "1. В Москве и Петербурге слушают похожую музыку. Единственное отличие — в московский рейтинг вошёл жанр “world”, а в петербургский — джаз и классика.\n",
    "\n",
    "2. В Москве пропущенных значений оказалось так много, что значение `'unknown'` заняло десятое место среди самых популярных жанров. Значит, пропущенные значения занимают существенную долю в данных и угрожают достоверности исследования.\n",
    "\n",
    "Вечер пятницы не меняет эту картину. Некоторые жанры поднимаются немного выше, другие спускаются, но в целом топ-10 остаётся тем же самым.\n",
    "\n",
    "Таким образом, вторая гипотеза подтвердилась лишь частично:\n",
    "* Пользователи слушают похожую музыку в начале недели и в конце.\n",
    "* Разница между Москвой и Петербургом не слишком выражена. В Москве чаще слушают русскую популярную музыку, в Петербурге — джаз.\n",
    "\n",
    "Однако пропуски в данных ставят под сомнение этот результат. В Москве их так много, что рейтинг топ-10 мог бы выглядеть иначе, если бы не утерянные  данные о жанрах."
   ]
  },
  {
   "cell_type": "markdown",
   "metadata": {
    "id": "JolODAqr_Zcu"
   },
   "source": [
    "### Жанровые предпочтения в Москве и Петербурге\n",
    "\n",
    "Гипотеза: Петербург — столица рэпа, музыку этого жанра там слушают чаще, чем в Москве.  А Москва — город контрастов, в котором, тем не менее, преобладает поп-музыка."
   ]
  },
  {
   "cell_type": "markdown",
   "metadata": {
    "id": "DlegSvaT_Zcu"
   },
   "source": [
    "Сгруппируйте таблицу `moscow_general` по жанру и посчитайте прослушивания треков каждого жанра методом `count()`. Затем отсортируйте результат в порядке убывания и сохраните его в таблице `moscow_genres`."
   ]
  },
  {
   "cell_type": "code",
   "execution_count": 35,
   "metadata": {
    "id": "r19lIPke_Zcu",
    "scrolled": true
   },
   "outputs": [],
   "source": [
    "moscow_genres = moscow_general.groupby('genre')['track'].count().sort_values(ascending=False)\n",
    "# одной строкой: группировка таблицы moscow_general по столбцу 'genre', \n",
    "# подсчёт числа значений 'genre' в этой группировке методом count(), \n",
    "# сортировка получившегося Series в порядке убывания и сохранение в moscow_genres"
   ]
  },
  {
   "cell_type": "markdown",
   "metadata": {
    "id": "6kMuomxTiIr8"
   },
   "source": [
    "Выведите на экран первые десять строк `moscow_genres`:"
   ]
  },
  {
   "cell_type": "code",
   "execution_count": 36,
   "metadata": {
    "id": "WhCSooF8_Zcv"
   },
   "outputs": [
    {
     "data": {
      "text/plain": [
       "genre\n",
       "pop            5892\n",
       "dance          4435\n",
       "rock           3965\n",
       "electronic     3786\n",
       "hiphop         2096\n",
       "classical      1616\n",
       "world          1432\n",
       "alternative    1379\n",
       "ruspop         1372\n",
       "rusrap         1161\n",
       "Name: track, dtype: int64"
      ]
     },
     "metadata": {},
     "output_type": "display_data"
    }
   ],
   "source": [
    "display(moscow_genres.head(10))# просмотр первых 10 строк moscow_genres"
   ]
  },
  {
   "cell_type": "markdown",
   "metadata": {
    "id": "cnPG2vnN_Zcv"
   },
   "source": [
    "Теперь повторите то же и для Петербурга.\n",
    "\n",
    "Сгруппируйте таблицу `spb_general` по жанру. Посчитайте прослушивания треков каждого жанра. Результат отсортируйте в порядке убывания и сохраните в таблице `spb_genres`:\n"
   ]
  },
  {
   "cell_type": "code",
   "execution_count": 37,
   "metadata": {
    "id": "gluLIpE7_Zcv"
   },
   "outputs": [],
   "source": [
    "spb_genres = spb_general.groupby('genre')['track'].count().sort_values(ascending = False)# одной строкой: группировка таблицы spb_general по столбцу 'genre', \n",
    "# подсчёт числа значений 'genre' в этой группировке методом count(), \n",
    "# сортировка получившегося Series в порядке убывания и сохранение в spb_genres"
   ]
  },
  {
   "cell_type": "markdown",
   "metadata": {
    "id": "5Doha_ODgyQ8"
   },
   "source": [
    "Выведите на экран первые десять строк `spb_genres`:"
   ]
  },
  {
   "cell_type": "code",
   "execution_count": 38,
   "metadata": {
    "id": "uaGJHjVU_Zcv"
   },
   "outputs": [
    {
     "data": {
      "text/plain": [
       "genre\n",
       "pop            2431\n",
       "dance          1932\n",
       "rock           1879\n",
       "electronic     1736\n",
       "hiphop          960\n",
       "alternative     649\n",
       "classical       646\n",
       "rusrap          564\n",
       "ruspop          538\n",
       "world           515\n",
       "Name: track, dtype: int64"
      ]
     },
     "execution_count": 38,
     "metadata": {},
     "output_type": "execute_result"
    }
   ],
   "source": [
    "spb_genres.head(10)# просмотр первых 10 строк spb_genres"
   ]
  },
  {
   "cell_type": "markdown",
   "metadata": {
    "id": "RY51YJYu_Zcv"
   },
   "source": [
    "**Выводы**"
   ]
  },
  {
   "cell_type": "markdown",
   "metadata": {
    "id": "nVhnJEm__Zcv"
   },
   "source": [
    "Гипотеза частично подтвердилась:\n",
    "* Поп-музыка — самый популярный жанр в Москве, как и предполагала гипотеза. Более того, в топ-10 жанров встречается близкий жанр — русская популярная музыка.\n",
    "* Вопреки ожиданиям, рэп одинаково популярен в Москве и Петербурге. \n"
   ]
  },
  {
   "cell_type": "markdown",
   "metadata": {
    "id": "ykKQ0N65_Zcv"
   },
   "source": [
    "## Итоги исследования"
   ]
  },
  {
   "cell_type": "markdown",
   "metadata": {
    "id": "tjUwbHb3_Zcv"
   },
   "source": [
    "Вы проверили три гипотезы и установили:\n",
    "\n",
    "1. День недели по-разному влияет на активность пользователей в Москве и Петербурге. \n",
    "\n",
    "Первая гипотеза полностью подтвердилась.\n",
    "\n",
    "2. Музыкальные предпочтения не сильно меняются в течение недели — будь то Москва или Петербург. Небольшие различия заметны в начале недели, по понедельникам:\n",
    "* в Москве слушают музыку жанра “world”,\n",
    "* в Петербурге — джаз и классику.\n",
    "\n",
    "Таким образом, вторая гипотеза подтвердилась лишь отчасти. Этот результат мог оказаться иным, если бы не пропуски в данных.\n",
    "\n",
    "3. Во вкусах пользователей Москвы и Петербурга больше общего чем различий. Вопреки ожиданиям, предпочтения жанров в Петербурге напоминают московские.\n",
    "\n",
    "Третья гипотеза не подтвердилась. Если различия в предпочтениях и существуют, на основной массе пользователей они незаметны.\n",
    "\n",
    "**На практике исследования содержат проверки статистических гипотез.**\n",
    "Из данных одного сервиса не всегда можно сделать вывод о всех жителях города.\n",
    "Проверки статистических гипотез покажут, насколько они достоверны, исходя из имеющихся данных. \n",
    "С методами проверок гипотез вы ещё познакомитесь в следующих темах."
   ]
  }
 ],
 "metadata": {
  "ExecuteTimeLog": [
   {
    "duration": 260,
    "start_time": "2022-02-24T20:06:21.004Z"
   },
   {
    "duration": 196,
    "start_time": "2022-02-24T20:06:40.034Z"
   },
   {
    "duration": 206,
    "start_time": "2022-02-24T20:06:55.486Z"
   },
   {
    "duration": 660,
    "start_time": "2022-02-24T20:07:11.489Z"
   },
   {
    "duration": 156,
    "start_time": "2022-02-24T20:07:18.306Z"
   },
   {
    "duration": 151,
    "start_time": "2022-02-24T20:07:23.271Z"
   },
   {
    "duration": 8,
    "start_time": "2022-02-24T20:07:34.123Z"
   },
   {
    "duration": 27,
    "start_time": "2022-02-24T20:07:59.154Z"
   },
   {
    "duration": 4,
    "start_time": "2022-02-24T20:09:10.501Z"
   },
   {
    "duration": 64,
    "start_time": "2022-02-24T20:09:18.352Z"
   },
   {
    "duration": 71,
    "start_time": "2022-02-24T20:09:34.167Z"
   },
   {
    "duration": 4,
    "start_time": "2022-02-24T20:09:39.768Z"
   },
   {
    "duration": 64,
    "start_time": "2022-02-24T20:11:13.077Z"
   },
   {
    "duration": 24,
    "start_time": "2022-02-24T20:15:22.282Z"
   },
   {
    "duration": 22,
    "start_time": "2022-02-24T20:15:27.944Z"
   },
   {
    "duration": 5,
    "start_time": "2022-02-24T20:15:34.493Z"
   },
   {
    "duration": 25,
    "start_time": "2022-02-24T20:18:44.196Z"
   },
   {
    "duration": 32,
    "start_time": "2022-02-24T20:24:24.963Z"
   },
   {
    "duration": 4983,
    "start_time": "2022-02-24T20:24:30.424Z"
   },
   {
    "duration": 26,
    "start_time": "2022-02-24T20:24:36.674Z"
   },
   {
    "duration": 20,
    "start_time": "2022-02-24T20:28:26.214Z"
   },
   {
    "duration": 27,
    "start_time": "2022-02-24T20:28:34.444Z"
   },
   {
    "duration": 62,
    "start_time": "2022-02-24T20:29:06.527Z"
   },
   {
    "duration": 62,
    "start_time": "2022-02-24T20:29:17.037Z"
   },
   {
    "duration": 61,
    "start_time": "2022-02-24T20:29:21.947Z"
   },
   {
    "duration": 229,
    "start_time": "2022-02-28T09:15:34.927Z"
   },
   {
    "duration": 188,
    "start_time": "2022-02-28T09:17:33.951Z"
   },
   {
    "duration": 708,
    "start_time": "2022-02-28T09:19:57.386Z"
   },
   {
    "duration": 170,
    "start_time": "2022-02-28T09:19:58.096Z"
   },
   {
    "duration": 14,
    "start_time": "2022-02-28T09:19:58.269Z"
   },
   {
    "duration": 39,
    "start_time": "2022-02-28T09:19:58.285Z"
   },
   {
    "duration": 8,
    "start_time": "2022-02-28T09:19:58.326Z"
   },
   {
    "duration": 50,
    "start_time": "2022-02-28T09:19:58.336Z"
   },
   {
    "duration": 4,
    "start_time": "2022-02-28T09:19:58.389Z"
   },
   {
    "duration": 41,
    "start_time": "2022-02-28T09:19:58.396Z"
   },
   {
    "duration": 23,
    "start_time": "2022-02-28T09:19:58.440Z"
   },
   {
    "duration": 48,
    "start_time": "2022-02-28T09:19:58.465Z"
   },
   {
    "duration": 95,
    "start_time": "2022-02-28T09:19:58.515Z"
   },
   {
    "duration": 94,
    "start_time": "2022-02-28T09:19:58.612Z"
   },
   {
    "duration": 90,
    "start_time": "2022-02-28T09:19:58.708Z"
   },
   {
    "duration": 207,
    "start_time": "2022-02-28T09:19:58.802Z"
   },
   {
    "duration": -94498,
    "start_time": "2022-02-28T09:21:33.510Z"
   },
   {
    "duration": -94505,
    "start_time": "2022-02-28T09:21:33.519Z"
   },
   {
    "duration": -94515,
    "start_time": "2022-02-28T09:21:33.530Z"
   },
   {
    "duration": -94523,
    "start_time": "2022-02-28T09:21:33.539Z"
   },
   {
    "duration": -94534,
    "start_time": "2022-02-28T09:21:33.551Z"
   },
   {
    "duration": -94543,
    "start_time": "2022-02-28T09:21:33.561Z"
   },
   {
    "duration": -94574,
    "start_time": "2022-02-28T09:21:33.594Z"
   },
   {
    "duration": -94596,
    "start_time": "2022-02-28T09:21:33.617Z"
   },
   {
    "duration": -94605,
    "start_time": "2022-02-28T09:21:33.627Z"
   },
   {
    "duration": -94613,
    "start_time": "2022-02-28T09:21:33.637Z"
   },
   {
    "duration": -94623,
    "start_time": "2022-02-28T09:21:33.648Z"
   },
   {
    "duration": -94631,
    "start_time": "2022-02-28T09:21:33.658Z"
   },
   {
    "duration": -94640,
    "start_time": "2022-02-28T09:21:33.668Z"
   },
   {
    "duration": -94648,
    "start_time": "2022-02-28T09:21:33.677Z"
   },
   {
    "duration": -94657,
    "start_time": "2022-02-28T09:21:33.688Z"
   },
   {
    "duration": -94665,
    "start_time": "2022-02-28T09:21:33.697Z"
   },
   {
    "duration": -94674,
    "start_time": "2022-02-28T09:21:33.707Z"
   },
   {
    "duration": -94699,
    "start_time": "2022-02-28T09:21:33.733Z"
   },
   {
    "duration": -94710,
    "start_time": "2022-02-28T09:21:33.745Z"
   },
   {
    "duration": -94717,
    "start_time": "2022-02-28T09:21:33.754Z"
   },
   {
    "duration": -94732,
    "start_time": "2022-02-28T09:21:33.770Z"
   },
   {
    "duration": -94741,
    "start_time": "2022-02-28T09:21:33.780Z"
   },
   {
    "duration": -94751,
    "start_time": "2022-02-28T09:21:33.791Z"
   },
   {
    "duration": -94760,
    "start_time": "2022-02-28T09:21:33.801Z"
   },
   {
    "duration": 190,
    "start_time": "2022-02-28T09:20:26.304Z"
   },
   {
    "duration": 206,
    "start_time": "2022-02-28T09:28:44.228Z"
   },
   {
    "duration": 5,
    "start_time": "2022-02-28T09:31:01.963Z"
   },
   {
    "duration": 10,
    "start_time": "2022-02-28T09:31:20.644Z"
   },
   {
    "duration": 236,
    "start_time": "2022-02-28T09:38:02.395Z"
   },
   {
    "duration": 185,
    "start_time": "2022-02-28T09:38:14.910Z"
   },
   {
    "duration": 204,
    "start_time": "2022-02-28T09:38:18.964Z"
   },
   {
    "duration": 57,
    "start_time": "2022-02-28T09:39:15.511Z"
   },
   {
    "duration": 239,
    "start_time": "2022-02-28T09:41:39.373Z"
   },
   {
    "duration": 222,
    "start_time": "2022-02-28T09:42:38.784Z"
   },
   {
    "duration": 6,
    "start_time": "2022-02-28T09:44:15.692Z"
   },
   {
    "duration": 5,
    "start_time": "2022-02-28T09:45:44.849Z"
   },
   {
    "duration": 52,
    "start_time": "2022-02-28T09:46:11.697Z"
   },
   {
    "duration": 54,
    "start_time": "2022-02-28T09:46:32.365Z"
   },
   {
    "duration": 4,
    "start_time": "2022-02-28T09:59:07.696Z"
   },
   {
    "duration": 16,
    "start_time": "2022-02-28T10:05:15.679Z"
   },
   {
    "duration": 59,
    "start_time": "2022-02-28T10:05:50.447Z"
   },
   {
    "duration": 57,
    "start_time": "2022-02-28T10:06:12.350Z"
   },
   {
    "duration": 59,
    "start_time": "2022-02-28T10:06:26.071Z"
   },
   {
    "duration": 318,
    "start_time": "2022-02-28T10:29:06.498Z"
   },
   {
    "duration": 15,
    "start_time": "2022-02-28T10:29:57.556Z"
   },
   {
    "duration": 44,
    "start_time": "2022-02-28T10:30:55.248Z"
   },
   {
    "duration": 42,
    "start_time": "2022-02-28T10:31:31.919Z"
   },
   {
    "duration": 193,
    "start_time": "2022-02-28T11:08:45.150Z"
   },
   {
    "duration": 6,
    "start_time": "2022-02-28T11:10:50.683Z"
   },
   {
    "duration": 5,
    "start_time": "2022-02-28T11:11:34.472Z"
   },
   {
    "duration": 5,
    "start_time": "2022-02-28T11:15:38.480Z"
   },
   {
    "duration": 189,
    "start_time": "2022-02-28T11:16:49.933Z"
   },
   {
    "duration": 185,
    "start_time": "2022-02-28T11:17:21.989Z"
   },
   {
    "duration": 4,
    "start_time": "2022-02-28T11:20:48.647Z"
   },
   {
    "duration": 197,
    "start_time": "2022-02-28T11:21:14.602Z"
   },
   {
    "duration": 3,
    "start_time": "2022-02-28T11:31:17.815Z"
   },
   {
    "duration": 191,
    "start_time": "2022-02-28T11:31:17.827Z"
   },
   {
    "duration": 10,
    "start_time": "2022-02-28T11:31:18.022Z"
   },
   {
    "duration": 55,
    "start_time": "2022-02-28T11:31:18.036Z"
   },
   {
    "duration": 5,
    "start_time": "2022-02-28T11:31:18.095Z"
   },
   {
    "duration": 27,
    "start_time": "2022-02-28T11:31:18.102Z"
   },
   {
    "duration": 5,
    "start_time": "2022-02-28T11:31:18.131Z"
   },
   {
    "duration": 70,
    "start_time": "2022-02-28T11:31:18.138Z"
   },
   {
    "duration": 37,
    "start_time": "2022-02-28T11:31:18.213Z"
   },
   {
    "duration": 38,
    "start_time": "2022-02-28T11:31:18.254Z"
   },
   {
    "duration": 108,
    "start_time": "2022-02-28T11:31:18.295Z"
   },
   {
    "duration": 99,
    "start_time": "2022-02-28T11:31:18.406Z"
   },
   {
    "duration": 84,
    "start_time": "2022-02-28T11:31:18.508Z"
   },
   {
    "duration": 57,
    "start_time": "2022-02-28T11:31:18.594Z"
   },
   {
    "duration": 4,
    "start_time": "2022-02-28T11:31:18.654Z"
   },
   {
    "duration": 36,
    "start_time": "2022-02-28T11:31:18.660Z"
   },
   {
    "duration": 62,
    "start_time": "2022-02-28T11:31:18.699Z"
   },
   {
    "duration": 60,
    "start_time": "2022-02-28T11:31:18.764Z"
   },
   {
    "duration": 69,
    "start_time": "2022-02-28T11:31:18.827Z"
   },
   {
    "duration": 6,
    "start_time": "2022-02-28T11:31:18.899Z"
   },
   {
    "duration": 182,
    "start_time": "2022-02-28T11:31:18.911Z"
   },
   {
    "duration": -94772,
    "start_time": "2022-02-28T11:32:53.869Z"
   },
   {
    "duration": -94779,
    "start_time": "2022-02-28T11:32:53.878Z"
   },
   {
    "duration": -94787,
    "start_time": "2022-02-28T11:32:53.888Z"
   },
   {
    "duration": -94826,
    "start_time": "2022-02-28T11:32:53.929Z"
   },
   {
    "duration": -94835,
    "start_time": "2022-02-28T11:32:53.940Z"
   },
   {
    "duration": -94843,
    "start_time": "2022-02-28T11:32:53.950Z"
   },
   {
    "duration": -94849,
    "start_time": "2022-02-28T11:32:53.959Z"
   },
   {
    "duration": -94858,
    "start_time": "2022-02-28T11:32:53.970Z"
   },
   {
    "duration": -94866,
    "start_time": "2022-02-28T11:32:53.980Z"
   },
   {
    "duration": -94873,
    "start_time": "2022-02-28T11:32:53.990Z"
   },
   {
    "duration": -94881,
    "start_time": "2022-02-28T11:32:54.000Z"
   },
   {
    "duration": -94888,
    "start_time": "2022-02-28T11:32:54.009Z"
   },
   {
    "duration": -94896,
    "start_time": "2022-02-28T11:32:54.019Z"
   },
   {
    "duration": -94926,
    "start_time": "2022-02-28T11:32:54.051Z"
   },
   {
    "duration": -94933,
    "start_time": "2022-02-28T11:32:54.060Z"
   },
   {
    "duration": -94942,
    "start_time": "2022-02-28T11:32:54.071Z"
   },
   {
    "duration": -94950,
    "start_time": "2022-02-28T11:32:54.081Z"
   },
   {
    "duration": 12,
    "start_time": "2022-02-28T11:31:55.714Z"
   },
   {
    "duration": 21,
    "start_time": "2022-02-28T11:33:24.934Z"
   },
   {
    "duration": 3,
    "start_time": "2022-02-28T11:35:13.979Z"
   },
   {
    "duration": 181,
    "start_time": "2022-02-28T11:35:13.988Z"
   },
   {
    "duration": 10,
    "start_time": "2022-02-28T11:35:14.181Z"
   },
   {
    "duration": 34,
    "start_time": "2022-02-28T11:35:14.194Z"
   },
   {
    "duration": 6,
    "start_time": "2022-02-28T11:35:14.231Z"
   },
   {
    "duration": 58,
    "start_time": "2022-02-28T11:35:14.239Z"
   },
   {
    "duration": 5,
    "start_time": "2022-02-28T11:35:14.299Z"
   },
   {
    "duration": 37,
    "start_time": "2022-02-28T11:35:14.306Z"
   },
   {
    "duration": 49,
    "start_time": "2022-02-28T11:35:14.347Z"
   },
   {
    "duration": 28,
    "start_time": "2022-02-28T11:35:14.399Z"
   },
   {
    "duration": 110,
    "start_time": "2022-02-28T11:35:14.429Z"
   },
   {
    "duration": 102,
    "start_time": "2022-02-28T11:35:14.541Z"
   },
   {
    "duration": 87,
    "start_time": "2022-02-28T11:35:14.645Z"
   },
   {
    "duration": 71,
    "start_time": "2022-02-28T11:35:14.735Z"
   },
   {
    "duration": 5,
    "start_time": "2022-02-28T11:35:14.808Z"
   },
   {
    "duration": 40,
    "start_time": "2022-02-28T11:35:14.815Z"
   },
   {
    "duration": 69,
    "start_time": "2022-02-28T11:35:14.857Z"
   },
   {
    "duration": 54,
    "start_time": "2022-02-28T11:35:14.929Z"
   },
   {
    "duration": 48,
    "start_time": "2022-02-28T11:35:14.986Z"
   },
   {
    "duration": 4,
    "start_time": "2022-02-28T11:35:15.037Z"
   },
   {
    "duration": 46,
    "start_time": "2022-02-28T11:35:15.043Z"
   },
   {
    "duration": 18,
    "start_time": "2022-02-28T11:35:15.092Z"
   },
   {
    "duration": 26,
    "start_time": "2022-02-28T11:35:15.112Z"
   },
   {
    "duration": 41,
    "start_time": "2022-02-28T11:35:15.143Z"
   },
   {
    "duration": 21,
    "start_time": "2022-02-28T11:35:15.186Z"
   },
   {
    "duration": 18,
    "start_time": "2022-02-28T11:35:15.209Z"
   },
   {
    "duration": 3,
    "start_time": "2022-02-28T11:35:15.229Z"
   },
   {
    "duration": 14,
    "start_time": "2022-02-28T11:35:15.235Z"
   },
   {
    "duration": 32,
    "start_time": "2022-02-28T11:35:15.251Z"
   },
   {
    "duration": 33,
    "start_time": "2022-02-28T11:35:15.285Z"
   },
   {
    "duration": 28,
    "start_time": "2022-02-28T11:35:15.320Z"
   },
   {
    "duration": 9,
    "start_time": "2022-02-28T11:35:15.351Z"
   },
   {
    "duration": 23,
    "start_time": "2022-02-28T11:35:15.363Z"
   },
   {
    "duration": 17,
    "start_time": "2022-02-28T11:35:15.389Z"
   },
   {
    "duration": 29,
    "start_time": "2022-02-28T11:35:15.408Z"
   },
   {
    "duration": 27,
    "start_time": "2022-02-28T11:35:15.440Z"
   },
   {
    "duration": 18,
    "start_time": "2022-02-28T11:35:15.469Z"
   },
   {
    "duration": 13,
    "start_time": "2022-02-28T11:35:15.489Z"
   },
   {
    "duration": 258,
    "start_time": "2022-02-28T11:38:53.276Z"
   },
   {
    "duration": 191,
    "start_time": "2022-02-28T11:39:15.727Z"
   },
   {
    "duration": 274,
    "start_time": "2022-02-28T13:24:04.966Z"
   },
   {
    "duration": 246,
    "start_time": "2022-02-28T13:24:37.288Z"
   },
   {
    "duration": 584,
    "start_time": "2022-02-28T13:24:44.479Z"
   },
   {
    "duration": 128,
    "start_time": "2022-02-28T13:24:45.065Z"
   },
   {
    "duration": 7,
    "start_time": "2022-02-28T13:24:45.195Z"
   },
   {
    "duration": 31,
    "start_time": "2022-02-28T13:24:45.204Z"
   },
   {
    "duration": 4,
    "start_time": "2022-02-28T13:24:45.236Z"
   },
   {
    "duration": 32,
    "start_time": "2022-02-28T13:24:45.241Z"
   },
   {
    "duration": 6,
    "start_time": "2022-02-28T13:24:45.275Z"
   },
   {
    "duration": 21,
    "start_time": "2022-02-28T13:24:45.283Z"
   },
   {
    "duration": 18,
    "start_time": "2022-02-28T13:24:45.306Z"
   },
   {
    "duration": 47,
    "start_time": "2022-02-28T13:24:45.325Z"
   },
   {
    "duration": 55,
    "start_time": "2022-02-28T13:24:45.374Z"
   },
   {
    "duration": 78,
    "start_time": "2022-02-28T13:24:45.430Z"
   },
   {
    "duration": 56,
    "start_time": "2022-02-28T13:24:45.509Z"
   },
   {
    "duration": 39,
    "start_time": "2022-02-28T13:24:45.567Z"
   },
   {
    "duration": 3,
    "start_time": "2022-02-28T13:24:45.608Z"
   },
   {
    "duration": 16,
    "start_time": "2022-02-28T13:24:45.613Z"
   },
   {
    "duration": 60,
    "start_time": "2022-02-28T13:24:45.631Z"
   },
   {
    "duration": 31,
    "start_time": "2022-02-28T13:24:45.692Z"
   },
   {
    "duration": 46,
    "start_time": "2022-02-28T13:24:45.724Z"
   },
   {
    "duration": 3,
    "start_time": "2022-02-28T13:24:45.772Z"
   },
   {
    "duration": 20,
    "start_time": "2022-02-28T13:24:45.777Z"
   },
   {
    "duration": 15,
    "start_time": "2022-02-28T13:24:45.799Z"
   },
   {
    "duration": 45,
    "start_time": "2022-02-28T13:24:45.818Z"
   },
   {
    "duration": 14,
    "start_time": "2022-02-28T13:24:45.865Z"
   },
   {
    "duration": 15,
    "start_time": "2022-02-28T13:24:45.881Z"
   },
   {
    "duration": 13,
    "start_time": "2022-02-28T13:24:45.897Z"
   },
   {
    "duration": 253,
    "start_time": "2022-02-28T13:24:45.912Z"
   },
   {
    "duration": -94722,
    "start_time": "2022-02-28T13:26:20.889Z"
   },
   {
    "duration": -94733,
    "start_time": "2022-02-28T13:26:20.900Z"
   },
   {
    "duration": -94742,
    "start_time": "2022-02-28T13:26:20.910Z"
   },
   {
    "duration": -94753,
    "start_time": "2022-02-28T13:26:20.922Z"
   },
   {
    "duration": -94766,
    "start_time": "2022-02-28T13:26:20.936Z"
   },
   {
    "duration": -94824,
    "start_time": "2022-02-28T13:26:20.995Z"
   },
   {
    "duration": -94839,
    "start_time": "2022-02-28T13:26:21.011Z"
   },
   {
    "duration": -94852,
    "start_time": "2022-02-28T13:26:21.025Z"
   },
   {
    "duration": -94864,
    "start_time": "2022-02-28T13:26:21.038Z"
   },
   {
    "duration": -94874,
    "start_time": "2022-02-28T13:26:21.049Z"
   },
   {
    "duration": -94882,
    "start_time": "2022-02-28T13:26:21.058Z"
   },
   {
    "duration": 221,
    "start_time": "2022-02-28T13:29:13.609Z"
   },
   {
    "duration": 310,
    "start_time": "2022-02-28T13:39:30.975Z"
   },
   {
    "duration": 84,
    "start_time": "2022-02-28T13:41:11.836Z"
   },
   {
    "duration": 303,
    "start_time": "2022-02-28T13:42:00.815Z"
   },
   {
    "duration": 285,
    "start_time": "2022-02-28T13:42:57.276Z"
   },
   {
    "duration": 326,
    "start_time": "2022-02-28T13:45:08.871Z"
   },
   {
    "duration": 295,
    "start_time": "2022-02-28T13:45:50.214Z"
   },
   {
    "duration": 66,
    "start_time": "2022-02-28T13:49:10.213Z"
   },
   {
    "duration": 12,
    "start_time": "2022-02-28T13:58:34.016Z"
   },
   {
    "duration": 20,
    "start_time": "2022-02-28T13:58:49.875Z"
   },
   {
    "duration": 15,
    "start_time": "2022-02-28T13:59:53.043Z"
   },
   {
    "duration": 4,
    "start_time": "2022-02-28T14:12:40.716Z"
   },
   {
    "duration": 5,
    "start_time": "2022-02-28T14:12:52.625Z"
   },
   {
    "duration": 5,
    "start_time": "2022-02-28T14:13:07.370Z"
   },
   {
    "duration": 4,
    "start_time": "2022-02-28T14:17:52.330Z"
   },
   {
    "duration": 169,
    "start_time": "2022-02-28T14:17:52.340Z"
   },
   {
    "duration": 13,
    "start_time": "2022-02-28T14:17:52.511Z"
   },
   {
    "duration": 43,
    "start_time": "2022-02-28T14:17:52.526Z"
   },
   {
    "duration": 8,
    "start_time": "2022-02-28T14:17:52.570Z"
   },
   {
    "duration": 46,
    "start_time": "2022-02-28T14:17:52.580Z"
   },
   {
    "duration": 4,
    "start_time": "2022-02-28T14:17:52.628Z"
   },
   {
    "duration": 38,
    "start_time": "2022-02-28T14:17:52.633Z"
   },
   {
    "duration": 19,
    "start_time": "2022-02-28T14:17:52.674Z"
   },
   {
    "duration": 24,
    "start_time": "2022-02-28T14:17:52.696Z"
   },
   {
    "duration": 81,
    "start_time": "2022-02-28T14:17:52.722Z"
   },
   {
    "duration": 69,
    "start_time": "2022-02-28T14:17:52.805Z"
   },
   {
    "duration": 56,
    "start_time": "2022-02-28T14:17:52.876Z"
   },
   {
    "duration": 55,
    "start_time": "2022-02-28T14:17:52.934Z"
   },
   {
    "duration": 4,
    "start_time": "2022-02-28T14:17:52.991Z"
   },
   {
    "duration": 16,
    "start_time": "2022-02-28T14:17:52.997Z"
   },
   {
    "duration": 54,
    "start_time": "2022-02-28T14:17:53.015Z"
   },
   {
    "duration": 34,
    "start_time": "2022-02-28T14:17:53.071Z"
   },
   {
    "duration": 32,
    "start_time": "2022-02-28T14:17:53.106Z"
   },
   {
    "duration": 22,
    "start_time": "2022-02-28T14:17:53.140Z"
   },
   {
    "duration": 24,
    "start_time": "2022-02-28T14:17:53.164Z"
   },
   {
    "duration": 17,
    "start_time": "2022-02-28T14:17:53.190Z"
   },
   {
    "duration": 15,
    "start_time": "2022-02-28T14:17:53.210Z"
   },
   {
    "duration": 39,
    "start_time": "2022-02-28T14:17:53.229Z"
   },
   {
    "duration": 18,
    "start_time": "2022-02-28T14:17:53.270Z"
   },
   {
    "duration": 17,
    "start_time": "2022-02-28T14:17:53.290Z"
   },
   {
    "duration": 102,
    "start_time": "2022-02-28T14:17:53.309Z"
   },
   {
    "duration": 14,
    "start_time": "2022-02-28T14:17:53.413Z"
   },
   {
    "duration": 16,
    "start_time": "2022-02-28T14:17:53.429Z"
   },
   {
    "duration": 14,
    "start_time": "2022-02-28T14:17:53.447Z"
   },
   {
    "duration": 23,
    "start_time": "2022-02-28T14:17:53.463Z"
   },
   {
    "duration": 14,
    "start_time": "2022-02-28T14:17:53.487Z"
   },
   {
    "duration": 18,
    "start_time": "2022-02-28T14:17:53.502Z"
   },
   {
    "duration": 14,
    "start_time": "2022-02-28T14:17:53.522Z"
   },
   {
    "duration": 17,
    "start_time": "2022-02-28T14:17:53.537Z"
   },
   {
    "duration": 23,
    "start_time": "2022-02-28T14:17:53.555Z"
   },
   {
    "duration": 8,
    "start_time": "2022-02-28T14:17:53.579Z"
   },
   {
    "duration": 5,
    "start_time": "2022-02-28T14:17:53.589Z"
   },
   {
    "duration": 4,
    "start_time": "2022-02-28T14:20:29.128Z"
   },
   {
    "duration": 16,
    "start_time": "2022-02-28T14:22:45.943Z"
   },
   {
    "duration": 4,
    "start_time": "2022-02-28T14:29:12.184Z"
   },
   {
    "duration": 468,
    "start_time": "2022-02-28T14:31:16.421Z"
   },
   {
    "duration": 4,
    "start_time": "2022-02-28T14:36:40.656Z"
   },
   {
    "duration": 494,
    "start_time": "2022-02-28T14:36:55.335Z"
   },
   {
    "duration": 5,
    "start_time": "2022-02-28T14:38:25.999Z"
   },
   {
    "duration": 481,
    "start_time": "2022-02-28T14:38:30.438Z"
   },
   {
    "duration": 5,
    "start_time": "2022-02-28T14:38:56.505Z"
   },
   {
    "duration": 483,
    "start_time": "2022-02-28T14:39:00.211Z"
   },
   {
    "duration": 4,
    "start_time": "2022-02-28T14:41:15.953Z"
   },
   {
    "duration": 472,
    "start_time": "2022-02-28T14:41:18.564Z"
   },
   {
    "duration": 4,
    "start_time": "2022-02-28T14:41:36.653Z"
   },
   {
    "duration": 449,
    "start_time": "2022-02-28T14:41:39.249Z"
   },
   {
    "duration": 4,
    "start_time": "2022-02-28T14:44:11.097Z"
   },
   {
    "duration": 489,
    "start_time": "2022-02-28T14:44:13.560Z"
   },
   {
    "duration": 4,
    "start_time": "2022-02-28T14:45:07.791Z"
   },
   {
    "duration": 23,
    "start_time": "2022-02-28T14:45:10.155Z"
   },
   {
    "duration": 2,
    "start_time": "2022-02-28T14:48:46.765Z"
   },
   {
    "duration": 150,
    "start_time": "2022-02-28T14:48:46.774Z"
   },
   {
    "duration": 7,
    "start_time": "2022-02-28T14:48:46.926Z"
   },
   {
    "duration": 43,
    "start_time": "2022-02-28T14:48:46.935Z"
   },
   {
    "duration": 4,
    "start_time": "2022-02-28T14:48:46.980Z"
   },
   {
    "duration": 25,
    "start_time": "2022-02-28T14:48:46.985Z"
   },
   {
    "duration": 3,
    "start_time": "2022-02-28T14:48:47.012Z"
   },
   {
    "duration": 53,
    "start_time": "2022-02-28T14:48:47.016Z"
   },
   {
    "duration": 18,
    "start_time": "2022-02-28T14:48:47.072Z"
   },
   {
    "duration": 24,
    "start_time": "2022-02-28T14:48:47.093Z"
   },
   {
    "duration": 86,
    "start_time": "2022-02-28T14:48:47.118Z"
   },
   {
    "duration": 77,
    "start_time": "2022-02-28T14:48:47.205Z"
   },
   {
    "duration": 58,
    "start_time": "2022-02-28T14:48:47.284Z"
   },
   {
    "duration": 58,
    "start_time": "2022-02-28T14:48:47.344Z"
   },
   {
    "duration": 3,
    "start_time": "2022-02-28T14:48:47.404Z"
   },
   {
    "duration": 15,
    "start_time": "2022-02-28T14:48:47.408Z"
   },
   {
    "duration": 68,
    "start_time": "2022-02-28T14:48:47.425Z"
   },
   {
    "duration": 34,
    "start_time": "2022-02-28T14:48:47.495Z"
   },
   {
    "duration": 51,
    "start_time": "2022-02-28T14:48:47.531Z"
   },
   {
    "duration": 3,
    "start_time": "2022-02-28T14:48:47.584Z"
   },
   {
    "duration": 25,
    "start_time": "2022-02-28T14:48:47.589Z"
   },
   {
    "duration": 17,
    "start_time": "2022-02-28T14:48:47.615Z"
   },
   {
    "duration": 38,
    "start_time": "2022-02-28T14:48:47.634Z"
   },
   {
    "duration": 16,
    "start_time": "2022-02-28T14:48:47.676Z"
   },
   {
    "duration": 19,
    "start_time": "2022-02-28T14:48:47.694Z"
   },
   {
    "duration": 47,
    "start_time": "2022-02-28T14:48:47.714Z"
   },
   {
    "duration": 82,
    "start_time": "2022-02-28T14:48:47.762Z"
   },
   {
    "duration": 26,
    "start_time": "2022-02-28T14:48:47.845Z"
   },
   {
    "duration": 11,
    "start_time": "2022-02-28T14:48:47.873Z"
   },
   {
    "duration": 4,
    "start_time": "2022-02-28T14:48:47.886Z"
   },
   {
    "duration": 28,
    "start_time": "2022-02-28T14:48:47.891Z"
   },
   {
    "duration": 44,
    "start_time": "2022-02-28T14:48:47.921Z"
   },
   {
    "duration": 19,
    "start_time": "2022-02-28T14:48:47.967Z"
   },
   {
    "duration": 14,
    "start_time": "2022-02-28T14:48:47.988Z"
   },
   {
    "duration": 2,
    "start_time": "2022-02-28T14:48:48.003Z"
   },
   {
    "duration": 5,
    "start_time": "2022-02-28T14:48:48.007Z"
   },
   {
    "duration": 7,
    "start_time": "2022-02-28T14:48:48.013Z"
   },
   {
    "duration": 7,
    "start_time": "2022-02-28T14:48:48.021Z"
   },
   {
    "duration": 3,
    "start_time": "2022-02-28T14:53:17.075Z"
   },
   {
    "duration": 166,
    "start_time": "2022-02-28T14:53:17.082Z"
   },
   {
    "duration": 12,
    "start_time": "2022-02-28T14:53:17.250Z"
   },
   {
    "duration": 31,
    "start_time": "2022-02-28T14:53:17.264Z"
   },
   {
    "duration": 4,
    "start_time": "2022-02-28T14:53:17.297Z"
   },
   {
    "duration": 26,
    "start_time": "2022-02-28T14:53:17.302Z"
   },
   {
    "duration": 31,
    "start_time": "2022-02-28T14:53:17.330Z"
   },
   {
    "duration": 27,
    "start_time": "2022-02-28T14:53:17.363Z"
   },
   {
    "duration": 19,
    "start_time": "2022-02-28T14:53:17.393Z"
   },
   {
    "duration": 56,
    "start_time": "2022-02-28T14:53:17.414Z"
   },
   {
    "duration": 66,
    "start_time": "2022-02-28T14:53:17.472Z"
   },
   {
    "duration": 89,
    "start_time": "2022-02-28T14:53:17.539Z"
   },
   {
    "duration": 77,
    "start_time": "2022-02-28T14:53:17.630Z"
   },
   {
    "duration": 53,
    "start_time": "2022-02-28T14:53:17.709Z"
   },
   {
    "duration": 3,
    "start_time": "2022-02-28T14:53:17.764Z"
   },
   {
    "duration": 15,
    "start_time": "2022-02-28T14:53:17.768Z"
   },
   {
    "duration": 44,
    "start_time": "2022-02-28T14:53:17.785Z"
   },
   {
    "duration": 57,
    "start_time": "2022-02-28T14:53:17.831Z"
   },
   {
    "duration": 37,
    "start_time": "2022-02-28T14:53:17.889Z"
   },
   {
    "duration": 3,
    "start_time": "2022-02-28T14:53:17.928Z"
   },
   {
    "duration": 42,
    "start_time": "2022-02-28T14:53:17.932Z"
   },
   {
    "duration": 17,
    "start_time": "2022-02-28T14:53:17.975Z"
   },
   {
    "duration": 16,
    "start_time": "2022-02-28T14:53:17.993Z"
   },
   {
    "duration": 15,
    "start_time": "2022-02-28T14:53:18.013Z"
   },
   {
    "duration": 25,
    "start_time": "2022-02-28T14:53:18.059Z"
   },
   {
    "duration": 17,
    "start_time": "2022-02-28T14:53:18.085Z"
   },
   {
    "duration": 107,
    "start_time": "2022-02-28T14:53:18.104Z"
   },
   {
    "duration": 20,
    "start_time": "2022-02-28T14:53:18.212Z"
   },
   {
    "duration": 30,
    "start_time": "2022-02-28T14:53:18.234Z"
   },
   {
    "duration": 4,
    "start_time": "2022-02-28T14:53:18.265Z"
   },
   {
    "duration": 37,
    "start_time": "2022-02-28T14:53:18.271Z"
   },
   {
    "duration": 14,
    "start_time": "2022-02-28T14:53:18.310Z"
   },
   {
    "duration": 19,
    "start_time": "2022-02-28T14:53:18.326Z"
   },
   {
    "duration": 14,
    "start_time": "2022-02-28T14:53:18.359Z"
   },
   {
    "duration": 280,
    "start_time": "2022-02-28T14:53:18.374Z"
   },
   {
    "duration": -94790,
    "start_time": "2022-02-28T14:54:53.446Z"
   },
   {
    "duration": -94800,
    "start_time": "2022-02-28T14:54:53.457Z"
   },
   {
    "duration": -94809,
    "start_time": "2022-02-28T14:54:53.467Z"
   },
   {
    "duration": 229,
    "start_time": "2022-02-28T14:56:56.463Z"
   },
   {
    "duration": 250,
    "start_time": "2022-02-28T14:57:13.271Z"
   },
   {
    "duration": 293,
    "start_time": "2022-02-28T14:58:27.177Z"
   },
   {
    "duration": 12,
    "start_time": "2022-02-28T14:58:57.428Z"
   },
   {
    "duration": 5,
    "start_time": "2022-02-28T14:59:03.567Z"
   },
   {
    "duration": 6,
    "start_time": "2022-02-28T14:59:16.875Z"
   },
   {
    "duration": 7,
    "start_time": "2022-02-28T15:00:47.133Z"
   },
   {
    "duration": 4,
    "start_time": "2022-02-28T15:01:14.995Z"
   },
   {
    "duration": 716,
    "start_time": "2022-03-01T09:05:14.962Z"
   },
   {
    "duration": 185,
    "start_time": "2022-03-01T09:05:15.680Z"
   },
   {
    "duration": 10,
    "start_time": "2022-03-01T09:05:15.868Z"
   },
   {
    "duration": 33,
    "start_time": "2022-03-01T09:05:15.881Z"
   },
   {
    "duration": 5,
    "start_time": "2022-03-01T09:05:15.933Z"
   },
   {
    "duration": 27,
    "start_time": "2022-03-01T09:05:15.940Z"
   },
   {
    "duration": 6,
    "start_time": "2022-03-01T09:05:15.969Z"
   },
   {
    "duration": 57,
    "start_time": "2022-03-01T09:05:15.979Z"
   },
   {
    "duration": 21,
    "start_time": "2022-03-01T09:05:16.039Z"
   },
   {
    "duration": 35,
    "start_time": "2022-03-01T09:05:16.063Z"
   },
   {
    "duration": 107,
    "start_time": "2022-03-01T09:05:16.101Z"
   },
   {
    "duration": 105,
    "start_time": "2022-03-01T09:05:16.211Z"
   },
   {
    "duration": 90,
    "start_time": "2022-03-01T09:05:16.318Z"
   },
   {
    "duration": 64,
    "start_time": "2022-03-01T09:05:16.410Z"
   },
   {
    "duration": 4,
    "start_time": "2022-03-01T09:05:16.477Z"
   },
   {
    "duration": 19,
    "start_time": "2022-03-01T09:05:16.483Z"
   },
   {
    "duration": 57,
    "start_time": "2022-03-01T09:05:16.533Z"
   },
   {
    "duration": 62,
    "start_time": "2022-03-01T09:05:16.593Z"
   },
   {
    "duration": 42,
    "start_time": "2022-03-01T09:05:16.657Z"
   },
   {
    "duration": 4,
    "start_time": "2022-03-01T09:05:16.702Z"
   },
   {
    "duration": 43,
    "start_time": "2022-03-01T09:05:16.708Z"
   },
   {
    "duration": 18,
    "start_time": "2022-03-01T09:05:16.754Z"
   },
   {
    "duration": 18,
    "start_time": "2022-03-01T09:05:16.776Z"
   },
   {
    "duration": 45,
    "start_time": "2022-03-01T09:05:16.797Z"
   },
   {
    "duration": 19,
    "start_time": "2022-03-01T09:05:16.844Z"
   },
   {
    "duration": 19,
    "start_time": "2022-03-01T09:05:16.865Z"
   },
   {
    "duration": 133,
    "start_time": "2022-03-01T09:05:16.886Z"
   },
   {
    "duration": 21,
    "start_time": "2022-03-01T09:05:17.033Z"
   },
   {
    "duration": 16,
    "start_time": "2022-03-01T09:05:17.057Z"
   },
   {
    "duration": 12,
    "start_time": "2022-03-01T09:05:17.076Z"
   },
   {
    "duration": 54,
    "start_time": "2022-03-01T09:05:17.090Z"
   },
   {
    "duration": 16,
    "start_time": "2022-03-01T09:05:17.146Z"
   },
   {
    "duration": 20,
    "start_time": "2022-03-01T09:05:17.164Z"
   },
   {
    "duration": 48,
    "start_time": "2022-03-01T09:05:17.186Z"
   },
   {
    "duration": 12,
    "start_time": "2022-03-01T09:05:17.236Z"
   },
   {
    "duration": 8,
    "start_time": "2022-03-01T09:05:17.250Z"
   },
   {
    "duration": 11,
    "start_time": "2022-03-01T09:05:17.261Z"
   },
   {
    "duration": 6,
    "start_time": "2022-03-01T09:05:17.275Z"
   },
   {
    "duration": 877,
    "start_time": "2022-03-07T14:19:13.463Z"
   },
   {
    "duration": 194,
    "start_time": "2022-03-07T14:19:14.343Z"
   },
   {
    "duration": 11,
    "start_time": "2022-03-07T14:19:14.543Z"
   },
   {
    "duration": 50,
    "start_time": "2022-03-07T14:19:14.556Z"
   },
   {
    "duration": 5,
    "start_time": "2022-03-07T14:19:14.608Z"
   },
   {
    "duration": 59,
    "start_time": "2022-03-07T14:19:14.615Z"
   },
   {
    "duration": 10,
    "start_time": "2022-03-07T14:19:14.677Z"
   },
   {
    "duration": 34,
    "start_time": "2022-03-07T14:19:14.689Z"
   },
   {
    "duration": 24,
    "start_time": "2022-03-07T14:19:14.725Z"
   },
   {
    "duration": 60,
    "start_time": "2022-03-07T14:19:14.751Z"
   },
   {
    "duration": 107,
    "start_time": "2022-03-07T14:19:14.813Z"
   },
   {
    "duration": 102,
    "start_time": "2022-03-07T14:19:14.923Z"
   },
   {
    "duration": 92,
    "start_time": "2022-03-07T14:19:15.028Z"
   },
   {
    "duration": 73,
    "start_time": "2022-03-07T14:19:15.122Z"
   },
   {
    "duration": 4,
    "start_time": "2022-03-07T14:19:15.198Z"
   },
   {
    "duration": 24,
    "start_time": "2022-03-07T14:19:15.205Z"
   },
   {
    "duration": 77,
    "start_time": "2022-03-07T14:19:15.232Z"
   },
   {
    "duration": 63,
    "start_time": "2022-03-07T14:19:15.311Z"
   },
   {
    "duration": 46,
    "start_time": "2022-03-07T14:19:15.377Z"
   },
   {
    "duration": 4,
    "start_time": "2022-03-07T14:19:15.426Z"
   },
   {
    "duration": 54,
    "start_time": "2022-03-07T14:19:15.433Z"
   },
   {
    "duration": 23,
    "start_time": "2022-03-07T14:19:15.492Z"
   },
   {
    "duration": 19,
    "start_time": "2022-03-07T14:19:15.518Z"
   },
   {
    "duration": 45,
    "start_time": "2022-03-07T14:19:15.539Z"
   },
   {
    "duration": 25,
    "start_time": "2022-03-07T14:19:15.587Z"
   },
   {
    "duration": 61,
    "start_time": "2022-03-07T14:19:15.615Z"
   },
   {
    "duration": 111,
    "start_time": "2022-03-07T14:19:15.679Z"
   },
   {
    "duration": 21,
    "start_time": "2022-03-07T14:19:15.793Z"
   },
   {
    "duration": 12,
    "start_time": "2022-03-07T14:19:15.816Z"
   },
   {
    "duration": 6,
    "start_time": "2022-03-07T14:19:15.830Z"
   },
   {
    "duration": 59,
    "start_time": "2022-03-07T14:19:15.839Z"
   },
   {
    "duration": 17,
    "start_time": "2022-03-07T14:19:15.901Z"
   },
   {
    "duration": 23,
    "start_time": "2022-03-07T14:19:15.921Z"
   },
   {
    "duration": 18,
    "start_time": "2022-03-07T14:19:15.974Z"
   },
   {
    "duration": 13,
    "start_time": "2022-03-07T14:19:15.994Z"
   },
   {
    "duration": 7,
    "start_time": "2022-03-07T14:19:16.009Z"
   },
   {
    "duration": 10,
    "start_time": "2022-03-07T14:19:16.018Z"
   },
   {
    "duration": 46,
    "start_time": "2022-03-07T14:19:16.031Z"
   },
   {
    "duration": 294,
    "start_time": "2022-03-11T08:29:33.626Z"
   },
   {
    "duration": 792,
    "start_time": "2022-03-11T08:29:41.155Z"
   },
   {
    "duration": 184,
    "start_time": "2022-03-11T08:29:41.949Z"
   },
   {
    "duration": 24,
    "start_time": "2022-03-11T08:29:42.136Z"
   },
   {
    "duration": 55,
    "start_time": "2022-03-11T08:29:42.163Z"
   },
   {
    "duration": 4,
    "start_time": "2022-03-11T08:29:42.221Z"
   },
   {
    "duration": 25,
    "start_time": "2022-03-11T08:29:42.228Z"
   },
   {
    "duration": 11,
    "start_time": "2022-03-11T08:29:42.287Z"
   },
   {
    "duration": 34,
    "start_time": "2022-03-11T08:29:42.303Z"
   },
   {
    "duration": 20,
    "start_time": "2022-03-11T08:29:42.340Z"
   },
   {
    "duration": 38,
    "start_time": "2022-03-11T08:29:42.386Z"
   },
   {
    "duration": 90,
    "start_time": "2022-03-11T08:29:42.426Z"
   },
   {
    "duration": 89,
    "start_time": "2022-03-11T08:29:42.519Z"
   },
   {
    "duration": 70,
    "start_time": "2022-03-11T08:29:42.610Z"
   },
   {
    "duration": 61,
    "start_time": "2022-03-11T08:29:42.689Z"
   },
   {
    "duration": 3,
    "start_time": "2022-03-11T08:29:42.753Z"
   },
   {
    "duration": 17,
    "start_time": "2022-03-11T08:29:42.758Z"
   },
   {
    "duration": 70,
    "start_time": "2022-03-11T08:29:42.777Z"
   },
   {
    "duration": 49,
    "start_time": "2022-03-11T08:29:42.849Z"
   },
   {
    "duration": 48,
    "start_time": "2022-03-11T08:29:42.902Z"
   },
   {
    "duration": 4,
    "start_time": "2022-03-11T08:29:42.953Z"
   },
   {
    "duration": 34,
    "start_time": "2022-03-11T08:29:42.959Z"
   },
   {
    "duration": 20,
    "start_time": "2022-03-11T08:29:42.996Z"
   },
   {
    "duration": 19,
    "start_time": "2022-03-11T08:29:43.020Z"
   },
   {
    "duration": 21,
    "start_time": "2022-03-11T08:29:43.042Z"
   },
   {
    "duration": 34,
    "start_time": "2022-03-11T08:29:43.066Z"
   },
   {
    "duration": 22,
    "start_time": "2022-03-11T08:29:43.104Z"
   },
   {
    "duration": 197,
    "start_time": "2022-03-11T08:29:43.128Z"
   },
   {
    "duration": 21,
    "start_time": "2022-03-11T08:29:43.327Z"
   },
   {
    "duration": 14,
    "start_time": "2022-03-11T08:29:43.351Z"
   },
   {
    "duration": 5,
    "start_time": "2022-03-11T08:29:43.368Z"
   },
   {
    "duration": 43,
    "start_time": "2022-03-11T08:29:43.383Z"
   },
   {
    "duration": 16,
    "start_time": "2022-03-11T08:29:43.429Z"
   },
   {
    "duration": 63,
    "start_time": "2022-03-11T08:29:43.447Z"
   },
   {
    "duration": 82,
    "start_time": "2022-03-11T08:29:43.513Z"
   },
   {
    "duration": 14,
    "start_time": "2022-03-11T08:29:43.598Z"
   },
   {
    "duration": 7,
    "start_time": "2022-03-11T08:29:43.614Z"
   },
   {
    "duration": 78,
    "start_time": "2022-03-11T08:29:43.623Z"
   },
   {
    "duration": 10,
    "start_time": "2022-03-11T08:29:43.704Z"
   },
   {
    "duration": 88,
    "start_time": "2022-03-11T08:45:05.482Z"
   },
   {
    "duration": 80,
    "start_time": "2022-03-11T08:45:13.536Z"
   },
   {
    "duration": 6,
    "start_time": "2022-03-11T09:01:14.052Z"
   },
   {
    "duration": 5,
    "start_time": "2022-03-11T09:02:28.201Z"
   },
   {
    "duration": 27,
    "start_time": "2022-03-11T09:02:42.809Z"
   },
   {
    "duration": 68,
    "start_time": "2022-03-11T09:09:27.667Z"
   },
   {
    "duration": 14,
    "start_time": "2022-03-11T09:10:56.006Z"
   },
   {
    "duration": 60,
    "start_time": "2022-03-11T09:12:10.718Z"
   },
   {
    "duration": 73,
    "start_time": "2022-03-11T09:13:13.622Z"
   },
   {
    "duration": 250,
    "start_time": "2022-03-11T09:14:11.971Z"
   },
   {
    "duration": 17,
    "start_time": "2022-03-11T09:14:28.304Z"
   },
   {
    "duration": 16,
    "start_time": "2022-03-11T09:16:27.939Z"
   },
   {
    "duration": 30,
    "start_time": "2022-03-11T09:17:26.436Z"
   },
   {
    "duration": 5,
    "start_time": "2022-03-11T09:20:54.559Z"
   },
   {
    "duration": 7,
    "start_time": "2022-03-11T09:24:35.636Z"
   },
   {
    "duration": 6,
    "start_time": "2022-03-11T09:24:55.272Z"
   },
   {
    "duration": 4,
    "start_time": "2022-03-11T09:28:26.193Z"
   },
   {
    "duration": 172,
    "start_time": "2022-03-11T09:28:26.211Z"
   },
   {
    "duration": 19,
    "start_time": "2022-03-11T09:28:26.387Z"
   },
   {
    "duration": 38,
    "start_time": "2022-03-11T09:28:26.410Z"
   },
   {
    "duration": 34,
    "start_time": "2022-03-11T09:28:26.451Z"
   },
   {
    "duration": 32,
    "start_time": "2022-03-11T09:28:26.488Z"
   },
   {
    "duration": 17,
    "start_time": "2022-03-11T09:28:26.523Z"
   },
   {
    "duration": 54,
    "start_time": "2022-03-11T09:28:26.543Z"
   },
   {
    "duration": 22,
    "start_time": "2022-03-11T09:28:26.602Z"
   },
   {
    "duration": 28,
    "start_time": "2022-03-11T09:28:26.627Z"
   },
   {
    "duration": 86,
    "start_time": "2022-03-11T09:28:26.681Z"
   },
   {
    "duration": 100,
    "start_time": "2022-03-11T09:28:26.782Z"
   },
   {
    "duration": 78,
    "start_time": "2022-03-11T09:28:26.886Z"
   },
   {
    "duration": 73,
    "start_time": "2022-03-11T09:28:26.966Z"
   },
   {
    "duration": 5,
    "start_time": "2022-03-11T09:28:27.041Z"
   },
   {
    "duration": 38,
    "start_time": "2022-03-11T09:28:27.048Z"
   },
   {
    "duration": 68,
    "start_time": "2022-03-11T09:28:27.089Z"
   },
   {
    "duration": 34,
    "start_time": "2022-03-11T09:28:27.160Z"
   },
   {
    "duration": 16,
    "start_time": "2022-03-11T09:28:27.198Z"
   },
   {
    "duration": 6,
    "start_time": "2022-03-11T09:28:27.216Z"
   },
   {
    "duration": 58,
    "start_time": "2022-03-11T09:28:27.224Z"
   },
   {
    "duration": 23,
    "start_time": "2022-03-11T09:28:27.285Z"
   },
   {
    "duration": 18,
    "start_time": "2022-03-11T09:28:27.310Z"
   },
   {
    "duration": 16,
    "start_time": "2022-03-11T09:28:27.333Z"
   },
   {
    "duration": 53,
    "start_time": "2022-03-11T09:28:27.352Z"
   },
   {
    "duration": 24,
    "start_time": "2022-03-11T09:28:27.408Z"
   },
   {
    "duration": 136,
    "start_time": "2022-03-11T09:28:27.434Z"
   },
   {
    "duration": 45,
    "start_time": "2022-03-11T09:28:27.572Z"
   },
   {
    "duration": 12,
    "start_time": "2022-03-11T09:28:27.619Z"
   },
   {
    "duration": 6,
    "start_time": "2022-03-11T09:28:27.634Z"
   },
   {
    "duration": 63,
    "start_time": "2022-03-11T09:28:27.642Z"
   },
   {
    "duration": 22,
    "start_time": "2022-03-11T09:28:27.708Z"
   },
   {
    "duration": 26,
    "start_time": "2022-03-11T09:28:27.733Z"
   },
   {
    "duration": 33,
    "start_time": "2022-03-11T09:28:27.762Z"
   },
   {
    "duration": 12,
    "start_time": "2022-03-11T09:28:27.798Z"
   },
   {
    "duration": 10,
    "start_time": "2022-03-11T09:28:27.813Z"
   },
   {
    "duration": 10,
    "start_time": "2022-03-11T09:28:27.825Z"
   },
   {
    "duration": 7,
    "start_time": "2022-03-11T09:28:27.838Z"
   },
   {
    "duration": 331,
    "start_time": "2022-03-11T09:42:47.585Z"
   },
   {
    "duration": 256,
    "start_time": "2022-03-11T09:43:38.388Z"
   },
   {
    "duration": 231,
    "start_time": "2022-03-11T09:46:39.484Z"
   },
   {
    "duration": 20,
    "start_time": "2022-03-11T09:48:28.897Z"
   },
   {
    "duration": 3,
    "start_time": "2022-03-11T09:48:34.203Z"
   },
   {
    "duration": 206,
    "start_time": "2022-03-11T09:48:34.217Z"
   },
   {
    "duration": 15,
    "start_time": "2022-03-11T09:48:34.425Z"
   },
   {
    "duration": 65,
    "start_time": "2022-03-11T09:48:34.444Z"
   },
   {
    "duration": 14,
    "start_time": "2022-03-11T09:48:34.512Z"
   },
   {
    "duration": 30,
    "start_time": "2022-03-11T09:48:34.529Z"
   },
   {
    "duration": 23,
    "start_time": "2022-03-11T09:48:34.562Z"
   },
   {
    "duration": 69,
    "start_time": "2022-03-11T09:48:34.587Z"
   },
   {
    "duration": 21,
    "start_time": "2022-03-11T09:48:34.660Z"
   },
   {
    "duration": 54,
    "start_time": "2022-03-11T09:48:34.684Z"
   },
   {
    "duration": 96,
    "start_time": "2022-03-11T09:48:34.741Z"
   },
   {
    "duration": 102,
    "start_time": "2022-03-11T09:48:34.840Z"
   },
   {
    "duration": 90,
    "start_time": "2022-03-11T09:48:34.944Z"
   },
   {
    "duration": 72,
    "start_time": "2022-03-11T09:48:35.036Z"
   },
   {
    "duration": 18,
    "start_time": "2022-03-11T09:48:35.110Z"
   },
   {
    "duration": 28,
    "start_time": "2022-03-11T09:48:35.130Z"
   },
   {
    "duration": 75,
    "start_time": "2022-03-11T09:48:35.160Z"
   },
   {
    "duration": 28,
    "start_time": "2022-03-11T09:48:35.238Z"
   },
   {
    "duration": 26,
    "start_time": "2022-03-11T09:48:35.268Z"
   },
   {
    "duration": 29,
    "start_time": "2022-03-11T09:48:35.297Z"
   },
   {
    "duration": 78,
    "start_time": "2022-03-11T09:48:35.329Z"
   },
   {
    "duration": 43,
    "start_time": "2022-03-11T09:48:35.409Z"
   },
   {
    "duration": 51,
    "start_time": "2022-03-11T09:48:35.454Z"
   },
   {
    "duration": 33,
    "start_time": "2022-03-11T09:48:35.510Z"
   },
   {
    "duration": 41,
    "start_time": "2022-03-11T09:48:35.546Z"
   },
   {
    "duration": 33,
    "start_time": "2022-03-11T09:48:35.590Z"
   },
   {
    "duration": 127,
    "start_time": "2022-03-11T09:48:35.626Z"
   },
   {
    "duration": 53,
    "start_time": "2022-03-11T09:48:35.755Z"
   },
   {
    "duration": 13,
    "start_time": "2022-03-11T09:48:35.811Z"
   },
   {
    "duration": 11,
    "start_time": "2022-03-11T09:48:35.827Z"
   },
   {
    "duration": 77,
    "start_time": "2022-03-11T09:48:35.840Z"
   },
   {
    "duration": 75,
    "start_time": "2022-03-11T09:48:35.919Z"
   },
   {
    "duration": 60,
    "start_time": "2022-03-11T09:48:35.997Z"
   },
   {
    "duration": 57,
    "start_time": "2022-03-11T09:48:36.059Z"
   },
   {
    "duration": 29,
    "start_time": "2022-03-11T09:48:36.119Z"
   },
   {
    "duration": 37,
    "start_time": "2022-03-11T09:48:36.151Z"
   },
   {
    "duration": 34,
    "start_time": "2022-03-11T09:48:36.191Z"
   },
   {
    "duration": 29,
    "start_time": "2022-03-11T09:48:36.228Z"
   },
   {
    "duration": 14,
    "start_time": "2022-03-11T09:58:38.431Z"
   },
   {
    "duration": 84,
    "start_time": "2022-03-11T10:00:57.764Z"
   },
   {
    "duration": 83,
    "start_time": "2022-03-11T10:02:16.763Z"
   },
   {
    "duration": 10,
    "start_time": "2022-03-11T10:05:27.680Z"
   },
   {
    "duration": 213,
    "start_time": "2022-03-11T10:05:27.694Z"
   },
   {
    "duration": 16,
    "start_time": "2022-03-11T10:05:27.910Z"
   },
   {
    "duration": 54,
    "start_time": "2022-03-11T10:05:27.930Z"
   },
   {
    "duration": 7,
    "start_time": "2022-03-11T10:05:27.987Z"
   },
   {
    "duration": 21,
    "start_time": "2022-03-11T10:05:27.998Z"
   },
   {
    "duration": 6,
    "start_time": "2022-03-11T10:05:28.021Z"
   },
   {
    "duration": 73,
    "start_time": "2022-03-11T10:05:28.029Z"
   },
   {
    "duration": 25,
    "start_time": "2022-03-11T10:05:28.106Z"
   },
   {
    "duration": 57,
    "start_time": "2022-03-11T10:05:28.134Z"
   },
   {
    "duration": 119,
    "start_time": "2022-03-11T10:05:28.194Z"
   },
   {
    "duration": 104,
    "start_time": "2022-03-11T10:05:28.315Z"
   },
   {
    "duration": 92,
    "start_time": "2022-03-11T10:05:28.421Z"
   },
   {
    "duration": 73,
    "start_time": "2022-03-11T10:05:28.515Z"
   },
   {
    "duration": 5,
    "start_time": "2022-03-11T10:05:28.591Z"
   },
   {
    "duration": 25,
    "start_time": "2022-03-11T10:05:28.599Z"
   },
   {
    "duration": 68,
    "start_time": "2022-03-11T10:05:28.626Z"
   },
   {
    "duration": 21,
    "start_time": "2022-03-11T10:05:28.697Z"
   },
   {
    "duration": 15,
    "start_time": "2022-03-11T10:05:28.721Z"
   },
   {
    "duration": 5,
    "start_time": "2022-03-11T10:05:28.739Z"
   },
   {
    "duration": 30,
    "start_time": "2022-03-11T10:05:28.783Z"
   },
   {
    "duration": 19,
    "start_time": "2022-03-11T10:05:28.816Z"
   },
   {
    "duration": 47,
    "start_time": "2022-03-11T10:05:28.838Z"
   },
   {
    "duration": 22,
    "start_time": "2022-03-11T10:05:28.888Z"
   },
   {
    "duration": 27,
    "start_time": "2022-03-11T10:05:28.912Z"
   },
   {
    "duration": 41,
    "start_time": "2022-03-11T10:05:28.941Z"
   },
   {
    "duration": 110,
    "start_time": "2022-03-11T10:05:28.986Z"
   },
   {
    "duration": 37,
    "start_time": "2022-03-11T10:05:29.098Z"
   },
   {
    "duration": 15,
    "start_time": "2022-03-11T10:05:29.137Z"
   },
   {
    "duration": 33,
    "start_time": "2022-03-11T10:05:29.154Z"
   },
   {
    "duration": 36,
    "start_time": "2022-03-11T10:05:29.191Z"
   },
   {
    "duration": 18,
    "start_time": "2022-03-11T10:05:29.229Z"
   },
   {
    "duration": 51,
    "start_time": "2022-03-11T10:05:29.249Z"
   },
   {
    "duration": 17,
    "start_time": "2022-03-11T10:05:29.303Z"
   },
   {
    "duration": 12,
    "start_time": "2022-03-11T10:05:29.323Z"
   },
   {
    "duration": 6,
    "start_time": "2022-03-11T10:05:29.338Z"
   },
   {
    "duration": 49,
    "start_time": "2022-03-11T10:05:29.346Z"
   },
   {
    "duration": 9,
    "start_time": "2022-03-11T10:05:29.398Z"
   },
   {
    "duration": 679,
    "start_time": "2022-03-11T17:06:17.674Z"
   },
   {
    "duration": 142,
    "start_time": "2022-03-11T17:06:18.356Z"
   },
   {
    "duration": 19,
    "start_time": "2022-03-11T17:06:18.500Z"
   },
   {
    "duration": 30,
    "start_time": "2022-03-11T17:06:18.521Z"
   },
   {
    "duration": 3,
    "start_time": "2022-03-11T17:06:18.553Z"
   },
   {
    "duration": 37,
    "start_time": "2022-03-11T17:06:18.558Z"
   },
   {
    "duration": 7,
    "start_time": "2022-03-11T17:06:18.597Z"
   },
   {
    "duration": 24,
    "start_time": "2022-03-11T17:06:18.606Z"
   },
   {
    "duration": 18,
    "start_time": "2022-03-11T17:06:18.632Z"
   },
   {
    "duration": 47,
    "start_time": "2022-03-11T17:06:18.652Z"
   },
   {
    "duration": 78,
    "start_time": "2022-03-11T17:06:18.700Z"
   },
   {
    "duration": 67,
    "start_time": "2022-03-11T17:06:18.779Z"
   },
   {
    "duration": 71,
    "start_time": "2022-03-11T17:06:18.847Z"
   },
   {
    "duration": 58,
    "start_time": "2022-03-11T17:06:18.920Z"
   },
   {
    "duration": 4,
    "start_time": "2022-03-11T17:06:18.979Z"
   },
   {
    "duration": 13,
    "start_time": "2022-03-11T17:06:18.984Z"
   },
   {
    "duration": 47,
    "start_time": "2022-03-11T17:06:18.999Z"
   },
   {
    "duration": 35,
    "start_time": "2022-03-11T17:06:19.048Z"
   },
   {
    "duration": 13,
    "start_time": "2022-03-11T17:06:19.085Z"
   },
   {
    "duration": 5,
    "start_time": "2022-03-11T17:06:19.100Z"
   },
   {
    "duration": 25,
    "start_time": "2022-03-11T17:06:19.107Z"
   },
   {
    "duration": 44,
    "start_time": "2022-03-11T17:06:19.134Z"
   },
   {
    "duration": 15,
    "start_time": "2022-03-11T17:06:19.182Z"
   },
   {
    "duration": 14,
    "start_time": "2022-03-11T17:06:19.200Z"
   },
   {
    "duration": 19,
    "start_time": "2022-03-11T17:06:19.216Z"
   },
   {
    "duration": 46,
    "start_time": "2022-03-11T17:06:19.237Z"
   },
   {
    "duration": 91,
    "start_time": "2022-03-11T17:06:19.285Z"
   },
   {
    "duration": 23,
    "start_time": "2022-03-11T17:06:19.378Z"
   },
   {
    "duration": 11,
    "start_time": "2022-03-11T17:06:19.403Z"
   },
   {
    "duration": 5,
    "start_time": "2022-03-11T17:06:19.416Z"
   },
   {
    "duration": 23,
    "start_time": "2022-03-11T17:06:19.422Z"
   },
   {
    "duration": 39,
    "start_time": "2022-03-11T17:06:19.447Z"
   },
   {
    "duration": 19,
    "start_time": "2022-03-11T17:06:19.487Z"
   },
   {
    "duration": 13,
    "start_time": "2022-03-11T17:06:19.508Z"
   },
   {
    "duration": 10,
    "start_time": "2022-03-11T17:06:19.522Z"
   },
   {
    "duration": 6,
    "start_time": "2022-03-11T17:06:19.533Z"
   },
   {
    "duration": 7,
    "start_time": "2022-03-11T17:06:19.579Z"
   },
   {
    "duration": 8,
    "start_time": "2022-03-11T17:06:19.588Z"
   }
  ],
  "colab": {
   "collapsed_sections": [
    "E0vqbgi9ay0H",
    "VUC88oWjTJw2"
   ],
   "name": "yandex_music_project_2021.2.ipynb",
   "provenance": []
  },
  "kernelspec": {
   "display_name": "Python 3 (ipykernel)",
   "language": "python",
   "name": "python3"
  },
  "language_info": {
   "codemirror_mode": {
    "name": "ipython",
    "version": 3
   },
   "file_extension": ".py",
   "mimetype": "text/x-python",
   "name": "python",
   "nbconvert_exporter": "python",
   "pygments_lexer": "ipython3",
   "version": "3.9.12"
  },
  "toc": {
   "base_numbering": 1,
   "nav_menu": {},
   "number_sections": true,
   "sideBar": true,
   "skip_h1_title": true,
   "title_cell": "Table of Contents",
   "title_sidebar": "Contents",
   "toc_cell": false,
   "toc_position": {},
   "toc_section_display": true,
   "toc_window_display": true
  }
 },
 "nbformat": 4,
 "nbformat_minor": 1
}
