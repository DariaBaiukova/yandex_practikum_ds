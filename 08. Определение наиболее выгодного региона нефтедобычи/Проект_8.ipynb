{
 "cells": [
  {
   "cell_type": "markdown",
   "metadata": {},
   "source": [
    "# Выбор локации для скважины"
   ]
  },
  {
   "cell_type": "markdown",
   "metadata": {},
   "source": [
    "Допустим, вы работаете в добывающей компании «ГлавРосГосНефть». Нужно решить, где бурить новую скважину.  \n",
    "Вам предоставлены пробы нефти в трёх регионах: в каждом 10 000 месторождений, где измерили качество нефти и объём её запасов. Постройте модель машинного обучения, которая поможет определить регион, где добыча принесёт наибольшую прибыль. Проанализируйте возможную прибыль и риски техникой *Bootstrap.*  \n",
    "Шаги для выбора локации:\n",
    "- В избранном регионе ищут месторождения, для каждого определяют значения признаков;\n",
    "- Строят модель и оценивают объём запасов;\n",
    "- Выбирают месторождения с самым высокими оценками значений. Количество месторождений зависит от бюджета компании и стоимости разработки одной скважины;\n",
    "- Прибыль равна суммарной прибыли отобранных месторождений."
   ]
  },
  {
   "cell_type": "markdown",
   "metadata": {},
   "source": [
    "## Загрузка и подготовка данных"
   ]
  },
  {
   "cell_type": "code",
   "execution_count": 1,
   "metadata": {},
   "outputs": [],
   "source": [
    "import pandas as pd\n",
    "import numpy as np\n",
    "import seaborn as sns\n",
    "import matplotlib.pyplot as plt\n",
    "from sklearn.model_selection import train_test_split\n",
    "from sklearn.linear_model import LinearRegression\n",
    "from sklearn.metrics  import mean_squared_error"
   ]
  },
  {
   "cell_type": "code",
   "execution_count": 2,
   "metadata": {},
   "outputs": [],
   "source": [
    "df_0 = pd.read_csv('geo_data_0.csv')\n",
    "df_1 = pd.read_csv('geo_data_1.csv')\n",
    "df_2 = pd.read_csv('geo_data_2.csv')\n",
    "\n",
    "regions = [df_0,df_1,df_2]\n"
   ]
  },
  {
   "cell_type": "code",
   "execution_count": 3,
   "metadata": {},
   "outputs": [
    {
     "data": {
      "text/html": [
       "<div>\n",
       "<style scoped>\n",
       "    .dataframe tbody tr th:only-of-type {\n",
       "        vertical-align: middle;\n",
       "    }\n",
       "\n",
       "    .dataframe tbody tr th {\n",
       "        vertical-align: top;\n",
       "    }\n",
       "\n",
       "    .dataframe thead th {\n",
       "        text-align: right;\n",
       "    }\n",
       "</style>\n",
       "<table border=\"1\" class=\"dataframe\">\n",
       "  <thead>\n",
       "    <tr style=\"text-align: right;\">\n",
       "      <th></th>\n",
       "      <th>id</th>\n",
       "      <th>f0</th>\n",
       "      <th>f1</th>\n",
       "      <th>f2</th>\n",
       "      <th>product</th>\n",
       "    </tr>\n",
       "  </thead>\n",
       "  <tbody>\n",
       "    <tr>\n",
       "      <th>0</th>\n",
       "      <td>txEyH</td>\n",
       "      <td>0.705745</td>\n",
       "      <td>-0.497823</td>\n",
       "      <td>1.221170</td>\n",
       "      <td>105.280062</td>\n",
       "    </tr>\n",
       "    <tr>\n",
       "      <th>1</th>\n",
       "      <td>2acmU</td>\n",
       "      <td>1.334711</td>\n",
       "      <td>-0.340164</td>\n",
       "      <td>4.365080</td>\n",
       "      <td>73.037750</td>\n",
       "    </tr>\n",
       "    <tr>\n",
       "      <th>2</th>\n",
       "      <td>409Wp</td>\n",
       "      <td>1.022732</td>\n",
       "      <td>0.151990</td>\n",
       "      <td>1.419926</td>\n",
       "      <td>85.265647</td>\n",
       "    </tr>\n",
       "    <tr>\n",
       "      <th>3</th>\n",
       "      <td>iJLyR</td>\n",
       "      <td>-0.032172</td>\n",
       "      <td>0.139033</td>\n",
       "      <td>2.978566</td>\n",
       "      <td>168.620776</td>\n",
       "    </tr>\n",
       "    <tr>\n",
       "      <th>4</th>\n",
       "      <td>Xdl7t</td>\n",
       "      <td>1.988431</td>\n",
       "      <td>0.155413</td>\n",
       "      <td>4.751769</td>\n",
       "      <td>154.036647</td>\n",
       "    </tr>\n",
       "  </tbody>\n",
       "</table>\n",
       "</div>"
      ],
      "text/plain": [
       "      id        f0        f1        f2     product\n",
       "0  txEyH  0.705745 -0.497823  1.221170  105.280062\n",
       "1  2acmU  1.334711 -0.340164  4.365080   73.037750\n",
       "2  409Wp  1.022732  0.151990  1.419926   85.265647\n",
       "3  iJLyR -0.032172  0.139033  2.978566  168.620776\n",
       "4  Xdl7t  1.988431  0.155413  4.751769  154.036647"
      ]
     },
     "metadata": {},
     "output_type": "display_data"
    },
    {
     "name": "stdout",
     "output_type": "stream",
     "text": [
      "_ _ _ _ _ _ _ _ _ _ _ _ _ _ _ _ _ _ _ _ \n",
      "<class 'pandas.core.frame.DataFrame'>\n",
      "RangeIndex: 100000 entries, 0 to 99999\n",
      "Data columns (total 5 columns):\n",
      " #   Column   Non-Null Count   Dtype  \n",
      "---  ------   --------------   -----  \n",
      " 0   id       100000 non-null  object \n",
      " 1   f0       100000 non-null  float64\n",
      " 2   f1       100000 non-null  float64\n",
      " 3   f2       100000 non-null  float64\n",
      " 4   product  100000 non-null  float64\n",
      "dtypes: float64(4), object(1)\n",
      "memory usage: 3.8+ MB\n",
      "_ _ _ _ _ _ _ _ _ _ _ _ _ _ _ _ _ _ _ _ \n",
      "Количество дубликатов 0\n"
     ]
    },
    {
     "data": {
      "text/html": [
       "<div>\n",
       "<style scoped>\n",
       "    .dataframe tbody tr th:only-of-type {\n",
       "        vertical-align: middle;\n",
       "    }\n",
       "\n",
       "    .dataframe tbody tr th {\n",
       "        vertical-align: top;\n",
       "    }\n",
       "\n",
       "    .dataframe thead th {\n",
       "        text-align: right;\n",
       "    }\n",
       "</style>\n",
       "<table border=\"1\" class=\"dataframe\">\n",
       "  <thead>\n",
       "    <tr style=\"text-align: right;\">\n",
       "      <th></th>\n",
       "      <th>id</th>\n",
       "      <th>f0</th>\n",
       "      <th>f1</th>\n",
       "      <th>f2</th>\n",
       "      <th>product</th>\n",
       "    </tr>\n",
       "  </thead>\n",
       "  <tbody>\n",
       "    <tr>\n",
       "      <th>0</th>\n",
       "      <td>kBEdx</td>\n",
       "      <td>-15.001348</td>\n",
       "      <td>-8.276000</td>\n",
       "      <td>-0.005876</td>\n",
       "      <td>3.179103</td>\n",
       "    </tr>\n",
       "    <tr>\n",
       "      <th>1</th>\n",
       "      <td>62mP7</td>\n",
       "      <td>14.272088</td>\n",
       "      <td>-3.475083</td>\n",
       "      <td>0.999183</td>\n",
       "      <td>26.953261</td>\n",
       "    </tr>\n",
       "    <tr>\n",
       "      <th>2</th>\n",
       "      <td>vyE1P</td>\n",
       "      <td>6.263187</td>\n",
       "      <td>-5.948386</td>\n",
       "      <td>5.001160</td>\n",
       "      <td>134.766305</td>\n",
       "    </tr>\n",
       "    <tr>\n",
       "      <th>3</th>\n",
       "      <td>KcrkZ</td>\n",
       "      <td>-13.081196</td>\n",
       "      <td>-11.506057</td>\n",
       "      <td>4.999415</td>\n",
       "      <td>137.945408</td>\n",
       "    </tr>\n",
       "    <tr>\n",
       "      <th>4</th>\n",
       "      <td>AHL4O</td>\n",
       "      <td>12.702195</td>\n",
       "      <td>-8.147433</td>\n",
       "      <td>5.004363</td>\n",
       "      <td>134.766305</td>\n",
       "    </tr>\n",
       "  </tbody>\n",
       "</table>\n",
       "</div>"
      ],
      "text/plain": [
       "      id         f0         f1        f2     product\n",
       "0  kBEdx -15.001348  -8.276000 -0.005876    3.179103\n",
       "1  62mP7  14.272088  -3.475083  0.999183   26.953261\n",
       "2  vyE1P   6.263187  -5.948386  5.001160  134.766305\n",
       "3  KcrkZ -13.081196 -11.506057  4.999415  137.945408\n",
       "4  AHL4O  12.702195  -8.147433  5.004363  134.766305"
      ]
     },
     "metadata": {},
     "output_type": "display_data"
    },
    {
     "name": "stdout",
     "output_type": "stream",
     "text": [
      "_ _ _ _ _ _ _ _ _ _ _ _ _ _ _ _ _ _ _ _ \n",
      "<class 'pandas.core.frame.DataFrame'>\n",
      "RangeIndex: 100000 entries, 0 to 99999\n",
      "Data columns (total 5 columns):\n",
      " #   Column   Non-Null Count   Dtype  \n",
      "---  ------   --------------   -----  \n",
      " 0   id       100000 non-null  object \n",
      " 1   f0       100000 non-null  float64\n",
      " 2   f1       100000 non-null  float64\n",
      " 3   f2       100000 non-null  float64\n",
      " 4   product  100000 non-null  float64\n",
      "dtypes: float64(4), object(1)\n",
      "memory usage: 3.8+ MB\n",
      "_ _ _ _ _ _ _ _ _ _ _ _ _ _ _ _ _ _ _ _ \n",
      "Количество дубликатов 0\n"
     ]
    },
    {
     "data": {
      "text/html": [
       "<div>\n",
       "<style scoped>\n",
       "    .dataframe tbody tr th:only-of-type {\n",
       "        vertical-align: middle;\n",
       "    }\n",
       "\n",
       "    .dataframe tbody tr th {\n",
       "        vertical-align: top;\n",
       "    }\n",
       "\n",
       "    .dataframe thead th {\n",
       "        text-align: right;\n",
       "    }\n",
       "</style>\n",
       "<table border=\"1\" class=\"dataframe\">\n",
       "  <thead>\n",
       "    <tr style=\"text-align: right;\">\n",
       "      <th></th>\n",
       "      <th>id</th>\n",
       "      <th>f0</th>\n",
       "      <th>f1</th>\n",
       "      <th>f2</th>\n",
       "      <th>product</th>\n",
       "    </tr>\n",
       "  </thead>\n",
       "  <tbody>\n",
       "    <tr>\n",
       "      <th>0</th>\n",
       "      <td>fwXo0</td>\n",
       "      <td>-1.146987</td>\n",
       "      <td>0.963328</td>\n",
       "      <td>-0.828965</td>\n",
       "      <td>27.758673</td>\n",
       "    </tr>\n",
       "    <tr>\n",
       "      <th>1</th>\n",
       "      <td>WJtFt</td>\n",
       "      <td>0.262778</td>\n",
       "      <td>0.269839</td>\n",
       "      <td>-2.530187</td>\n",
       "      <td>56.069697</td>\n",
       "    </tr>\n",
       "    <tr>\n",
       "      <th>2</th>\n",
       "      <td>ovLUW</td>\n",
       "      <td>0.194587</td>\n",
       "      <td>0.289035</td>\n",
       "      <td>-5.586433</td>\n",
       "      <td>62.871910</td>\n",
       "    </tr>\n",
       "    <tr>\n",
       "      <th>3</th>\n",
       "      <td>q6cA6</td>\n",
       "      <td>2.236060</td>\n",
       "      <td>-0.553760</td>\n",
       "      <td>0.930038</td>\n",
       "      <td>114.572842</td>\n",
       "    </tr>\n",
       "    <tr>\n",
       "      <th>4</th>\n",
       "      <td>WPMUX</td>\n",
       "      <td>-0.515993</td>\n",
       "      <td>1.716266</td>\n",
       "      <td>5.899011</td>\n",
       "      <td>149.600746</td>\n",
       "    </tr>\n",
       "  </tbody>\n",
       "</table>\n",
       "</div>"
      ],
      "text/plain": [
       "      id        f0        f1        f2     product\n",
       "0  fwXo0 -1.146987  0.963328 -0.828965   27.758673\n",
       "1  WJtFt  0.262778  0.269839 -2.530187   56.069697\n",
       "2  ovLUW  0.194587  0.289035 -5.586433   62.871910\n",
       "3  q6cA6  2.236060 -0.553760  0.930038  114.572842\n",
       "4  WPMUX -0.515993  1.716266  5.899011  149.600746"
      ]
     },
     "metadata": {},
     "output_type": "display_data"
    },
    {
     "name": "stdout",
     "output_type": "stream",
     "text": [
      "_ _ _ _ _ _ _ _ _ _ _ _ _ _ _ _ _ _ _ _ \n",
      "<class 'pandas.core.frame.DataFrame'>\n",
      "RangeIndex: 100000 entries, 0 to 99999\n",
      "Data columns (total 5 columns):\n",
      " #   Column   Non-Null Count   Dtype  \n",
      "---  ------   --------------   -----  \n",
      " 0   id       100000 non-null  object \n",
      " 1   f0       100000 non-null  float64\n",
      " 2   f1       100000 non-null  float64\n",
      " 3   f2       100000 non-null  float64\n",
      " 4   product  100000 non-null  float64\n",
      "dtypes: float64(4), object(1)\n",
      "memory usage: 3.8+ MB\n",
      "_ _ _ _ _ _ _ _ _ _ _ _ _ _ _ _ _ _ _ _ \n",
      "Количество дубликатов 0\n"
     ]
    }
   ],
   "source": [
    "for i in regions:\n",
    "    display(i.head())\n",
    "    print('_ '*20)\n",
    "    i.info()\n",
    "    print('_ '*20)\n",
    "    print('Количество дубликатов',i.duplicated().sum())"
   ]
  },
  {
   "cell_type": "markdown",
   "metadata": {},
   "source": [
    "Пропуски и дубликаты не обнаружены"
   ]
  },
  {
   "cell_type": "code",
   "execution_count": 4,
   "metadata": {},
   "outputs": [
    {
     "data": {
      "image/png": "[encoded data removed]",
      "text/plain": [
       "<Figure size 432x288 with 2 Axes>"
      ]
     },
     "metadata": {
      "needs_background": "light"
     },
     "output_type": "display_data"
    },
    {
     "data": {
      "image/png": "[encoded data removed]",
      "text/plain": [
       "<Figure size 432x288 with 2 Axes>"
      ]
     },
     "metadata": {
      "needs_background": "light"
     },
     "output_type": "display_data"
    },
    {
     "data": {
      "image/png": "[encoded data removed]",
      "text/plain": [
       "<Figure size 432x288 with 2 Axes>"
      ]
     },
     "metadata": {
      "needs_background": "light"
     },
     "output_type": "display_data"
    }
   ],
   "source": [
    "for i in regions:\n",
    "    matrix = np.triu(i.corr())\n",
    "    sns.heatmap(i.corr(),annot=True,mask=matrix)\n",
    "    plt.show()"
   ]
  },
  {
   "cell_type": "markdown",
   "metadata": {},
   "source": [
    "У всех трех датасетов выраженная корреляция между признаком f2 и целевым признаком."
   ]
  },
  {
   "cell_type": "code",
   "execution_count": 5,
   "metadata": {},
   "outputs": [
    {
     "data": {
      "image/png": "[encoded data removed]",
      "text/plain": [
       "<Figure size 648x432 with 1 Axes>"
      ]
     },
     "metadata": {
      "needs_background": "light"
     },
     "output_type": "display_data"
    }
   ],
   "source": [
    "plt.figure(figsize=(9, 6))\n",
    "sns.kdeplot(df_0['f2'], label=\"df_0\", alpha=.7)\n",
    "sns.kdeplot(df_1['f2'], label=\"df_1\", alpha=.7)\n",
    "sns.kdeplot(df_2['f2'],label=\"df_2\", alpha=.7)\n",
    "\n",
    "plt.title('График распределение параметра \"f2\" в регионах')\n",
    "plt.legend()\n",
    "plt.xlabel('Распределение параметра \"f2\" в регионах')\n",
    "plt.show()"
   ]
  },
  {
   "cell_type": "code",
   "execution_count": 6,
   "metadata": {},
   "outputs": [
    {
     "data": {
      "image/png": "[encoded data removed]",
      "text/plain": [
       "<Figure size 864x360 with 1 Axes>"
      ]
     },
     "metadata": {
      "needs_background": "light"
     },
     "output_type": "display_data"
    }
   ],
   "source": [
    "plt.figure(figsize=(12,5))\n",
    "plt.xlim(-5,10)\n",
    "plt.title('График распределение параметра \"f2\" в регионах')\n",
    "sns.histplot(data = df_0,x = df_0['f2'],fill=False,linewidth=3, label=\"df_0\")\n",
    "sns.histplot(data = df_1,x = df_1['f2'],fill=False,linewidth=3, label=\"df_1\")\n",
    "sns.histplot(data = df_2,x = df_2['f2'],fill=False,linewidth=3, label=\"df_2\")\n",
    "plt.xlabel('Распределение параметра \"f2\" в регионах')\n",
    "plt.legend()\n",
    "plt.show()"
   ]
  },
  {
   "cell_type": "code",
   "execution_count": 7,
   "metadata": {},
   "outputs": [
    {
     "data": {
      "image/png": "[encoded data removed]",
      "text/plain": [
       "<Figure size 648x432 with 1 Axes>"
      ]
     },
     "metadata": {
      "needs_background": "light"
     },
     "output_type": "display_data"
    }
   ],
   "source": [
    "plt.figure(figsize=(9, 6))\n",
    "sns.kdeplot(df_0['product'], label=\"df_0\", alpha=0.7)\n",
    "sns.kdeplot(df_1['product'], label=\"df_1\", alpha=0.7)\n",
    "sns.kdeplot(df_2['product'],label=\"df_2\", alpha=0.7)\n",
    " \n",
    "\n",
    "plt.title('Графики распределения запасов сырья в регионах')\n",
    "plt.xlabel('Распределение данных по запасам сырья в регионах')\n",
    "plt.ylabel('Запасы сырья, тыс.баррелей')\n",
    "plt.legend()\n",
    "plt.show()"
   ]
  },
  {
   "cell_type": "code",
   "execution_count": 8,
   "metadata": {
    "scrolled": true
   },
   "outputs": [
    {
     "data": {
      "image/png": "[encoded data removed]",
      "text/plain": [
       "<Figure size 864x360 with 1 Axes>"
      ]
     },
     "metadata": {
      "needs_background": "light"
     },
     "output_type": "display_data"
    }
   ],
   "source": [
    "plt.figure(figsize=(12,5))\n",
    "plt.title('Графики распределения запасов сырья в регионах')\n",
    "sns.histplot(data = df_0,x = df_0['product'],fill=False,linewidth=3, label=\"df_0\")\n",
    "sns.histplot(data = df_1,x = df_1['product'],fill=False,linewidth=3, label=\"df_1\")\n",
    "sns.histplot(data = df_2,x = df_2['product'],fill=False,linewidth=3, label=\"df_2\")\n",
    "plt.xlabel('Распределение данных по запасам сырья в регионах')\n",
    "plt.ylabel('Запасы сырья, тыс.баррелей')\n",
    "plt.legend()\n",
    "plt.show()"
   ]
  },
  {
   "cell_type": "code",
   "execution_count": 9,
   "metadata": {},
   "outputs": [
    {
     "data": {
      "image/png": "[encoded data removed]",
      "text/plain": [
       "<Figure size 864x648 with 1 Axes>"
      ]
     },
     "metadata": {
      "needs_background": "light"
     },
     "output_type": "display_data"
    },
    {
     "name": "stdout",
     "output_type": "stream",
     "text": [
      "Медиана df_0 91.84997204396296\n",
      "Медиана df_1 57.08562464628662\n",
      "Медиана df_2 94.92561258990247\n"
     ]
    }
   ],
   "source": [
    "plt.figure(figsize=(12,9))\n",
    "box = plt.boxplot([df_0['product'],df_1['product'],df_2['product']],\n",
    "            labels=['df_0','df_1','df_2'],\n",
    "            patch_artist=True)\n",
    "colors = ['#0343DF', '#FFA500', '#15B01A']\n",
    "\n",
    "for patch, color in zip(box['boxes'], colors):\n",
    "    patch.set_facecolor(color)\n",
    "\n",
    "plt.show()\n",
    "print('Медиана df_0',df_0['product'].median())\n",
    "print('Медиана df_1',df_1['product'].median())\n",
    "print('Медиана df_2',df_2['product'].median())"
   ]
  },
  {
   "cell_type": "markdown",
   "metadata": {},
   "source": [
    "Два региона df_0,df_2 похожи между собой. \n",
    "- Корреляция признака f2 и product примерно на одном уровне.Средняя корреляция 0.45-0.48.\n",
    "- Признак f2 имеет нормальное распределение.\n",
    "- Целевой признак product имеет схожее распределение.\n",
    "- Медиана сильно не отличаются.92-95\n",
    "\n",
    "Регион df_1 сильно отличается от двух других регионов.Корреляция признака f2 у этого региона равна 1,\n",
    "и это очень сильная зависимость между признаком и целевым признаком.Медиана 57,что сильно ниже других регионов"
   ]
  },
  {
   "cell_type": "markdown",
   "metadata": {},
   "source": [
    "## Обучение и проверка модели"
   ]
  },
  {
   "cell_type": "code",
   "execution_count": 10,
   "metadata": {},
   "outputs": [],
   "source": [
    "def make_predictictions (data):\n",
    "    features = data.drop(['id', 'product'], axis = 1)\n",
    "    target = data['product']\n",
    "    features_train,features_valid,target_train,target_valid=train_test_split(features,target,test_size=.25,random_state=12345)\n",
    "    print('Размер обучающей выборки',features_train.shape)\n",
    "    print('Размер валидационной выборки',features_valid.shape)\n",
    "    model = LinearRegression()\n",
    "    model.fit(features_train, target_train)\n",
    "    predictions_valid = model.predict(features_valid)\n",
    "    rmse_valid = mean_squared_error(target_valid,predictions_valid)**0.5 \n",
    "    print('Средний запас  и rmse  предсказаного сырья', predictions_valid.mean(), rmse_valid)\n",
    "    return pd.Series(predictions_valid,copy=True), target_valid.reset_index(drop=True)"
   ]
  },
  {
   "cell_type": "code",
   "execution_count": 11,
   "metadata": {},
   "outputs": [
    {
     "name": "stdout",
     "output_type": "stream",
     "text": [
      "Регион df_0\n",
      "Размер обучающей выборки (75000, 3)\n",
      "Размер валидационной выборки (25000, 3)\n",
      "Средний запас  и rmse  предсказаного сырья 92.59256778438035 37.5794217150813\n"
     ]
    }
   ],
   "source": [
    "print('Регион df_0')\n",
    "predictions_0_valid,target_0_valid = make_predictictions(df_0)"
   ]
  },
  {
   "cell_type": "code",
   "execution_count": 12,
   "metadata": {},
   "outputs": [
    {
     "name": "stdout",
     "output_type": "stream",
     "text": [
      "Регион df_1\n",
      "Размер обучающей выборки (75000, 3)\n",
      "Размер валидационной выборки (25000, 3)\n",
      "Средний запас  и rmse  предсказаного сырья 68.728546895446 0.8930992867756167\n"
     ]
    }
   ],
   "source": [
    "print('Регион df_1')\n",
    "predictions_1_valid,target_1_valid = make_predictictions(df_1)"
   ]
  },
  {
   "cell_type": "code",
   "execution_count": 13,
   "metadata": {},
   "outputs": [
    {
     "name": "stdout",
     "output_type": "stream",
     "text": [
      "Регион df_2\n",
      "Размер обучающей выборки (75000, 3)\n",
      "Размер валидационной выборки (25000, 3)\n",
      "Средний запас  и rmse  предсказаного сырья 94.96504596800489 40.02970873393434\n"
     ]
    }
   ],
   "source": [
    "print('Регион df_2')\n",
    "predictions_2_valid,target_2_valid = make_predictictions(df_2)"
   ]
  },
  {
   "cell_type": "markdown",
   "metadata": {},
   "source": [
    "У первого и третьего региона,средний запас выше,чем у второго.  \n",
    "У второго среднеквадратичная ошибка и расхождения между target и predictions минимальны."
   ]
  },
  {
   "cell_type": "markdown",
   "metadata": {},
   "source": [
    "## Подготовка к расчёту прибыли"
   ]
  },
  {
   "cell_type": "code",
   "execution_count": 14,
   "metadata": {},
   "outputs": [
    {
     "name": "stdout",
     "output_type": "stream",
     "text": [
      "Необходимый объем тысяч баррелей для безубыточности 111.11111111111111\n"
     ]
    }
   ],
   "source": [
    "money = 10000000000 #бюджет на разработку скважин в каждом регионе\n",
    "price = 450000 #цена за 1000 баррелей\n",
    "count = 200 #количество выбранных скважин на каждый регион\n",
    "value = money/(price*count) # необходимый объем тысяч баррелей для безубыточности\n",
    "print('Необходимый объем тысяч баррелей для безубыточности',value)"
   ]
  },
  {
   "cell_type": "code",
   "execution_count": 15,
   "metadata": {},
   "outputs": [],
   "source": [
    "def revenue (target,predictions,count):\n",
    "    probs_sorted = predictions.sort_values(ascending=False)\n",
    "    selected = target[probs_sorted.index][:count]\n",
    "    return sum(selected)* price - money #объем запасов в скважине умножаем на стоимость и вычитаем расходы"
   ]
  },
  {
   "cell_type": "code",
   "execution_count": 16,
   "metadata": {},
   "outputs": [
    {
     "name": "stdout",
     "output_type": "stream",
     "text": [
      "Средний объем в одной скважине в первом регионе 92.49999999999974\n",
      "Средний объем в одной скважине во втором регионе 68.82500000002561\n",
      "Средний объем в одной скважине в третьем регионе 95.00000000000041\n"
     ]
    }
   ],
   "source": [
    "print('Средний объем в одной скважине в первом регионе',df_0['product'].mean())\n",
    "print('Средний объем в одной скважине во втором регионе',df_1['product'].mean())\n",
    "print('Средний объем в одной скважине в третьем регионе',df_2['product'].mean())"
   ]
  },
  {
   "cell_type": "markdown",
   "metadata": {},
   "source": [
    "Если судить по среднему для каждого региона,то в каждом регионе среднее меньше необходимого количества баррелей для безубыточности. Средний объем в одной скважине в регионе df_1 наименьший."
   ]
  },
  {
   "cell_type": "markdown",
   "metadata": {},
   "source": [
    "## Расчёт прибыли и рисков "
   ]
  },
  {
   "cell_type": "code",
   "execution_count": 17,
   "metadata": {},
   "outputs": [
    {
     "name": "stdout",
     "output_type": "stream",
     "text": [
      "Прибыль первого региона 3320826043.1398544\n"
     ]
    }
   ],
   "source": [
    "profit_0 = revenue(target_0_valid,predictions_0_valid,200)\n",
    "print('Прибыль первого региона',profit_0)"
   ]
  },
  {
   "cell_type": "code",
   "execution_count": 18,
   "metadata": {},
   "outputs": [
    {
     "name": "stdout",
     "output_type": "stream",
     "text": [
      "Прибыль второго региона 2415086696.681551\n"
     ]
    }
   ],
   "source": [
    "profit_1 = revenue(target_1_valid,predictions_1_valid,200)\n",
    "print('Прибыль второго региона',profit_1)"
   ]
  },
  {
   "cell_type": "code",
   "execution_count": 19,
   "metadata": {},
   "outputs": [
    {
     "name": "stdout",
     "output_type": "stream",
     "text": [
      "Прибыль третьего региона 2710349963.5998363\n"
     ]
    }
   ],
   "source": [
    "profit_2 = revenue(target_2_valid,predictions_2_valid,200)\n",
    "print('Прибыль третьего региона',profit_2)"
   ]
  },
  {
   "cell_type": "code",
   "execution_count": 20,
   "metadata": {
    "scrolled": true
   },
   "outputs": [
    {
     "name": "stdout",
     "output_type": "stream",
     "text": [
      "Для первого региона df_0\n",
      "Средняя выручка 425151011.9246163\n",
      "Верхняя граница доверительного интервала 962849011.3137126\n",
      "Нижняя граница доверительного интервала -84988537.00934061\n",
      "Риск убытков региона равен 4.9 %\n",
      "\n",
      "Для второго региона df_1\n",
      "Средняя выручка 517281712.32023466\n",
      "Верхняя граница доверительного интервала 943777633.4501419\n",
      "Нижняя граница доверительного интервала 73849212.02249078\n",
      "Риск убытков региона равен 1.0 %\n",
      "\n",
      "Для третьего региона df_2\n",
      "Средняя выручка 432314546.489199\n",
      "Верхняя граница доверительного интервала 928120635.3484013\n",
      "Нижняя граница доверительного интервала -103472745.08673143\n",
      "Риск убытков региона равен 7.1 %\n"
     ]
    }
   ],
   "source": [
    "def boots (target, predictions):\n",
    "    state = np.random.RandomState(12345) \n",
    "    values = []\n",
    "    for i in range(1000):\n",
    "        target_subsample = target.sample(n=500, replace=True)\n",
    "        preds_subsample = predictions[target_subsample.index]  \n",
    "        values.append(revenue(target_subsample, preds_subsample,200)) \n",
    "        \n",
    "    values = pd.Series(values)\n",
    "    lower = values.quantile(0.025)\n",
    "    higher = values.quantile(0.975)\n",
    "    mean = values.mean()\n",
    "    \n",
    "    print('Средняя выручка',mean)\n",
    "    print('Верхняя граница доверительного интервала', higher)\n",
    "    print('Нижняя граница доверительного интервала', lower)\n",
    "    print('Риск убытков региона равен',(values < 0).mean()* 100, \"%\")\n",
    "    \n",
    "print('Для первого региона df_0')\n",
    "boots(target_0_valid,predictions_0_valid)\n",
    "print()\n",
    "print('Для второго региона df_1')\n",
    "boots(target_1_valid,predictions_1_valid)\n",
    "print()\n",
    "print('Для третьего региона df_2')\n",
    "boots(target_2_valid,predictions_2_valid)"
   ]
  },
  {
   "cell_type": "markdown",
   "metadata": {},
   "source": [
    "## Общий вывод"
   ]
  },
  {
   "cell_type": "markdown",
   "metadata": {},
   "source": [
    "Регион df_1 больше всего подходит для разработки скважин.\n",
    "Вероятность получить убытки меньше 2,5% ,имеет регион df_1,так же у региона самый низкий процент вероятности получить убытки, по сравнению с другими регионами. Регион df_1 имеет наибольшую среднюю выручку,по сравнению с остальными регионами.\n"
   ]
  }
 ],
 "metadata": {
  "ExecuteTimeLog": [
   {
    "duration": 4,
    "start_time": "2022-06-04T14:44:02.003Z"
   },
   {
    "duration": 27,
    "start_time": "2022-06-04T14:44:02.744Z"
   },
   {
    "duration": 451,
    "start_time": "2022-06-04T14:44:22.232Z"
   },
   {
    "duration": 15,
    "start_time": "2022-06-04T14:44:37.495Z"
   },
   {
    "duration": 47,
    "start_time": "2022-06-04T14:47:24.511Z"
   },
   {
    "duration": 41,
    "start_time": "2022-06-04T14:47:42.907Z"
   },
   {
    "duration": 119,
    "start_time": "2022-06-04T14:48:06.336Z"
   },
   {
    "duration": 52,
    "start_time": "2022-06-04T14:48:48.068Z"
   },
   {
    "duration": 38,
    "start_time": "2022-06-04T14:49:20.016Z"
   },
   {
    "duration": 38,
    "start_time": "2022-06-04T14:49:34.499Z"
   },
   {
    "duration": 43,
    "start_time": "2022-06-04T14:49:52.407Z"
   },
   {
    "duration": 41,
    "start_time": "2022-06-04T14:54:10.971Z"
   },
   {
    "duration": 16,
    "start_time": "2022-06-04T14:54:29.569Z"
   },
   {
    "duration": 37,
    "start_time": "2022-06-04T14:55:14.347Z"
   },
   {
    "duration": 7,
    "start_time": "2022-06-04T15:05:17.111Z"
   },
   {
    "duration": 131,
    "start_time": "2022-06-04T15:05:54.178Z"
   },
   {
    "duration": 6,
    "start_time": "2022-06-04T15:05:59.822Z"
   },
   {
    "duration": 509,
    "start_time": "2022-06-04T15:08:50.638Z"
   },
   {
    "duration": 6,
    "start_time": "2022-06-04T15:08:55.782Z"
   },
   {
    "duration": 20,
    "start_time": "2022-06-04T15:08:56.616Z"
   },
   {
    "duration": 8,
    "start_time": "2022-06-04T15:10:08.190Z"
   },
   {
    "duration": 17,
    "start_time": "2022-06-04T15:10:08.847Z"
   },
   {
    "duration": 6,
    "start_time": "2022-06-04T15:11:31.450Z"
   },
   {
    "duration": 15,
    "start_time": "2022-06-04T15:11:32.578Z"
   },
   {
    "duration": 65,
    "start_time": "2022-06-04T15:13:10.645Z"
   },
   {
    "duration": 12,
    "start_time": "2022-06-04T15:17:02.877Z"
   },
   {
    "duration": 4,
    "start_time": "2022-06-04T15:17:07.449Z"
   },
   {
    "duration": 13,
    "start_time": "2022-06-04T15:17:20.798Z"
   },
   {
    "duration": 101,
    "start_time": "2022-06-04T15:17:27.525Z"
   },
   {
    "duration": 10,
    "start_time": "2022-06-04T15:19:14.289Z"
   },
   {
    "duration": 4,
    "start_time": "2022-06-04T15:19:26.697Z"
   },
   {
    "duration": 31,
    "start_time": "2022-06-04T15:20:42.594Z"
   },
   {
    "duration": 97,
    "start_time": "2022-06-04T15:22:38.038Z"
   },
   {
    "duration": 104,
    "start_time": "2022-06-04T15:22:51.122Z"
   },
   {
    "duration": 16,
    "start_time": "2022-06-04T15:23:10.675Z"
   },
   {
    "duration": 6,
    "start_time": "2022-06-04T15:24:12.825Z"
   },
   {
    "duration": 12,
    "start_time": "2022-06-04T15:24:13.478Z"
   },
   {
    "duration": 14,
    "start_time": "2022-06-04T15:24:14.190Z"
   },
   {
    "duration": 23,
    "start_time": "2022-06-04T15:24:58.806Z"
   },
   {
    "duration": 14,
    "start_time": "2022-06-04T18:46:25.193Z"
   },
   {
    "duration": 4,
    "start_time": "2022-06-04T18:46:39.391Z"
   },
   {
    "duration": 50,
    "start_time": "2022-06-04T19:01:50.796Z"
   },
   {
    "duration": 5,
    "start_time": "2022-06-04T19:02:31.131Z"
   },
   {
    "duration": 8,
    "start_time": "2022-06-04T19:11:43.590Z"
   },
   {
    "duration": 987,
    "start_time": "2022-06-04T19:11:54.194Z"
   },
   {
    "duration": 771,
    "start_time": "2022-06-04T19:11:55.184Z"
   },
   {
    "duration": 81,
    "start_time": "2022-06-04T19:11:55.957Z"
   },
   {
    "duration": 139,
    "start_time": "2022-06-04T19:11:56.040Z"
   },
   {
    "duration": 52,
    "start_time": "2022-06-04T19:11:56.182Z"
   },
   {
    "duration": 35,
    "start_time": "2022-06-04T19:11:56.235Z"
   },
   {
    "duration": 53,
    "start_time": "2022-06-04T19:11:56.271Z"
   },
   {
    "duration": 40,
    "start_time": "2022-06-04T19:11:56.325Z"
   },
   {
    "duration": 4,
    "start_time": "2022-06-04T19:11:56.367Z"
   },
   {
    "duration": 13,
    "start_time": "2022-06-04T19:11:56.395Z"
   },
   {
    "duration": 89,
    "start_time": "2022-06-04T19:11:56.410Z"
   },
   {
    "duration": 94,
    "start_time": "2022-06-04T19:11:56.501Z"
   },
   {
    "duration": 17,
    "start_time": "2022-06-04T19:11:56.597Z"
   },
   {
    "duration": 80,
    "start_time": "2022-06-04T19:11:56.616Z"
   },
   {
    "duration": 96,
    "start_time": "2022-06-04T19:11:56.699Z"
   },
   {
    "duration": 14,
    "start_time": "2022-06-04T19:11:56.797Z"
   },
   {
    "duration": 83,
    "start_time": "2022-06-04T19:11:56.813Z"
   },
   {
    "duration": 5,
    "start_time": "2022-06-04T19:11:56.898Z"
   },
   {
    "duration": 97,
    "start_time": "2022-06-04T19:11:56.905Z"
   },
   {
    "duration": 111,
    "start_time": "2022-06-04T19:12:54.926Z"
   },
   {
    "duration": 6,
    "start_time": "2022-06-04T19:13:58.938Z"
   },
   {
    "duration": 9,
    "start_time": "2022-06-04T19:14:25.698Z"
   },
   {
    "duration": 8,
    "start_time": "2022-06-04T19:15:08.751Z"
   },
   {
    "duration": 26,
    "start_time": "2022-06-04T19:18:08.680Z"
   },
   {
    "duration": 3,
    "start_time": "2022-06-04T19:18:17.861Z"
   },
   {
    "duration": 9,
    "start_time": "2022-06-04T19:18:52.924Z"
   },
   {
    "duration": 8,
    "start_time": "2022-06-04T19:19:30.284Z"
   },
   {
    "duration": 10,
    "start_time": "2022-06-04T19:20:29.306Z"
   },
   {
    "duration": 9,
    "start_time": "2022-06-04T19:20:34.260Z"
   },
   {
    "duration": 4,
    "start_time": "2022-06-04T19:20:39.078Z"
   },
   {
    "duration": 3,
    "start_time": "2022-06-04T19:22:27.151Z"
   },
   {
    "duration": 32,
    "start_time": "2022-06-04T19:23:08.594Z"
   },
   {
    "duration": 8,
    "start_time": "2022-06-04T19:23:13.345Z"
   },
   {
    "duration": 9,
    "start_time": "2022-06-04T19:23:33.418Z"
   },
   {
    "duration": 14,
    "start_time": "2022-06-04T19:23:50.536Z"
   },
   {
    "duration": 9,
    "start_time": "2022-06-04T19:24:06.176Z"
   },
   {
    "duration": 10,
    "start_time": "2022-06-04T19:24:18.013Z"
   },
   {
    "duration": 10,
    "start_time": "2022-06-04T19:24:25.589Z"
   },
   {
    "duration": 911,
    "start_time": "2022-06-04T19:24:34.516Z"
   },
   {
    "duration": 390,
    "start_time": "2022-06-04T19:24:35.429Z"
   },
   {
    "duration": 87,
    "start_time": "2022-06-04T19:24:35.820Z"
   },
   {
    "duration": 145,
    "start_time": "2022-06-04T19:24:35.909Z"
   },
   {
    "duration": 44,
    "start_time": "2022-06-04T19:24:36.056Z"
   },
   {
    "duration": 35,
    "start_time": "2022-06-04T19:24:36.102Z"
   },
   {
    "duration": 34,
    "start_time": "2022-06-04T19:24:36.139Z"
   },
   {
    "duration": 35,
    "start_time": "2022-06-04T19:24:36.195Z"
   },
   {
    "duration": 5,
    "start_time": "2022-06-04T19:24:36.232Z"
   },
   {
    "duration": 12,
    "start_time": "2022-06-04T19:24:36.240Z"
   },
   {
    "duration": 140,
    "start_time": "2022-06-04T19:24:36.254Z"
   },
   {
    "duration": 9,
    "start_time": "2022-06-04T19:24:36.397Z"
   },
   {
    "duration": 12,
    "start_time": "2022-06-04T19:24:36.495Z"
   },
   {
    "duration": 27,
    "start_time": "2022-06-04T19:24:36.509Z"
   },
   {
    "duration": 66,
    "start_time": "2022-06-04T19:24:36.538Z"
   },
   {
    "duration": 23,
    "start_time": "2022-06-04T19:24:36.695Z"
   },
   {
    "duration": 25,
    "start_time": "2022-06-04T19:24:36.720Z"
   },
   {
    "duration": 151,
    "start_time": "2022-06-04T19:24:36.746Z"
   },
   {
    "duration": 18,
    "start_time": "2022-06-04T19:24:36.898Z"
   },
   {
    "duration": 111,
    "start_time": "2022-06-04T19:25:26.097Z"
   },
   {
    "duration": 2,
    "start_time": "2022-06-04T19:25:38.091Z"
   },
   {
    "duration": 6,
    "start_time": "2022-06-04T19:25:44.878Z"
   },
   {
    "duration": 9,
    "start_time": "2022-06-04T19:25:58.216Z"
   },
   {
    "duration": 10,
    "start_time": "2022-06-04T19:26:10.102Z"
   },
   {
    "duration": 9,
    "start_time": "2022-06-04T19:26:20.211Z"
   },
   {
    "duration": 13,
    "start_time": "2022-06-04T19:26:46.578Z"
   },
   {
    "duration": 9,
    "start_time": "2022-06-04T19:26:56.140Z"
   },
   {
    "duration": 30,
    "start_time": "2022-06-04T19:28:14.688Z"
   },
   {
    "duration": 21,
    "start_time": "2022-06-04T19:28:19.102Z"
   },
   {
    "duration": 5,
    "start_time": "2022-06-04T19:28:22.933Z"
   },
   {
    "duration": 8,
    "start_time": "2022-06-04T19:28:38.680Z"
   },
   {
    "duration": 4,
    "start_time": "2022-06-04T19:32:00.858Z"
   },
   {
    "duration": 5,
    "start_time": "2022-06-04T19:32:14.652Z"
   },
   {
    "duration": 9,
    "start_time": "2022-06-04T19:32:22.552Z"
   },
   {
    "duration": 3,
    "start_time": "2022-06-04T19:33:26.488Z"
   },
   {
    "duration": 6,
    "start_time": "2022-06-04T19:33:51.809Z"
   },
   {
    "duration": 11,
    "start_time": "2022-06-04T19:34:07.087Z"
   },
   {
    "duration": 11,
    "start_time": "2022-06-04T19:34:16.955Z"
   },
   {
    "duration": 5,
    "start_time": "2022-06-04T19:34:20.792Z"
   },
   {
    "duration": 794,
    "start_time": "2022-06-04T19:34:41.434Z"
   },
   {
    "duration": 388,
    "start_time": "2022-06-04T19:34:42.230Z"
   },
   {
    "duration": 82,
    "start_time": "2022-06-04T19:34:42.619Z"
   },
   {
    "duration": 133,
    "start_time": "2022-06-04T19:34:42.703Z"
   },
   {
    "duration": 43,
    "start_time": "2022-06-04T19:34:42.837Z"
   },
   {
    "duration": 44,
    "start_time": "2022-06-04T19:34:42.881Z"
   },
   {
    "duration": 33,
    "start_time": "2022-06-04T19:34:42.927Z"
   },
   {
    "duration": 55,
    "start_time": "2022-06-04T19:34:42.962Z"
   },
   {
    "duration": 5,
    "start_time": "2022-06-04T19:34:43.018Z"
   },
   {
    "duration": 37,
    "start_time": "2022-06-04T19:34:43.026Z"
   },
   {
    "duration": 129,
    "start_time": "2022-06-04T19:34:43.065Z"
   },
   {
    "duration": 98,
    "start_time": "2022-06-04T19:34:43.196Z"
   },
   {
    "duration": 19,
    "start_time": "2022-06-04T19:34:43.296Z"
   },
   {
    "duration": 21,
    "start_time": "2022-06-04T19:34:43.316Z"
   },
   {
    "duration": 101,
    "start_time": "2022-06-04T19:34:43.396Z"
   },
   {
    "duration": 19,
    "start_time": "2022-06-04T19:34:43.498Z"
   },
   {
    "duration": 23,
    "start_time": "2022-06-04T19:34:43.518Z"
   },
   {
    "duration": 154,
    "start_time": "2022-06-04T19:34:43.543Z"
   },
   {
    "duration": 17,
    "start_time": "2022-06-04T19:34:43.699Z"
   },
   {
    "duration": 7,
    "start_time": "2022-06-04T19:35:15.853Z"
   },
   {
    "duration": 8,
    "start_time": "2022-06-04T19:35:24.358Z"
   },
   {
    "duration": 7,
    "start_time": "2022-06-04T19:35:49.404Z"
   },
   {
    "duration": 5,
    "start_time": "2022-06-04T19:36:14.619Z"
   },
   {
    "duration": 104,
    "start_time": "2022-06-04T19:36:21.185Z"
   },
   {
    "duration": 10,
    "start_time": "2022-06-04T19:36:36.605Z"
   },
   {
    "duration": 872,
    "start_time": "2022-06-04T19:36:46.357Z"
   },
   {
    "duration": 384,
    "start_time": "2022-06-04T19:36:47.231Z"
   },
   {
    "duration": 84,
    "start_time": "2022-06-04T19:36:47.616Z"
   },
   {
    "duration": 136,
    "start_time": "2022-06-04T19:36:47.702Z"
   },
   {
    "duration": 38,
    "start_time": "2022-06-04T19:36:47.840Z"
   },
   {
    "duration": 45,
    "start_time": "2022-06-04T19:36:47.879Z"
   },
   {
    "duration": 36,
    "start_time": "2022-06-04T19:36:47.925Z"
   },
   {
    "duration": 54,
    "start_time": "2022-06-04T19:36:47.962Z"
   },
   {
    "duration": 4,
    "start_time": "2022-06-04T19:36:48.018Z"
   },
   {
    "duration": 16,
    "start_time": "2022-06-04T19:36:48.025Z"
   },
   {
    "duration": 55,
    "start_time": "2022-06-04T19:36:48.043Z"
   },
   {
    "duration": 96,
    "start_time": "2022-06-04T19:36:48.099Z"
   },
   {
    "duration": 17,
    "start_time": "2022-06-04T19:36:48.196Z"
   },
   {
    "duration": 78,
    "start_time": "2022-06-04T19:36:48.215Z"
   },
   {
    "duration": 99,
    "start_time": "2022-06-04T19:36:48.295Z"
   },
   {
    "duration": 17,
    "start_time": "2022-06-04T19:36:48.396Z"
   },
   {
    "duration": 18,
    "start_time": "2022-06-04T19:36:48.415Z"
   },
   {
    "duration": 8,
    "start_time": "2022-06-04T19:36:48.493Z"
   },
   {
    "duration": 99,
    "start_time": "2022-06-04T19:36:48.503Z"
   },
   {
    "duration": 107,
    "start_time": "2022-06-04T19:37:05.835Z"
   },
   {
    "duration": 4,
    "start_time": "2022-06-04T19:38:13.316Z"
   },
   {
    "duration": 7,
    "start_time": "2022-06-04T19:38:21.125Z"
   },
   {
    "duration": 3,
    "start_time": "2022-06-04T19:50:49.411Z"
   },
   {
    "duration": 9,
    "start_time": "2022-06-04T19:51:20.428Z"
   },
   {
    "duration": 4,
    "start_time": "2022-06-04T19:51:33.065Z"
   },
   {
    "duration": 318,
    "start_time": "2022-06-04T19:52:41.401Z"
   },
   {
    "duration": 369,
    "start_time": "2022-06-04T19:53:03.265Z"
   },
   {
    "duration": 3,
    "start_time": "2022-06-04T19:53:10.061Z"
   },
   {
    "duration": 8,
    "start_time": "2022-06-04T19:53:18.746Z"
   },
   {
    "duration": 347,
    "start_time": "2022-06-04T19:53:29.839Z"
   },
   {
    "duration": 9,
    "start_time": "2022-06-04T19:53:49.036Z"
   },
   {
    "duration": 11,
    "start_time": "2022-06-04T19:54:06.407Z"
   },
   {
    "duration": 7,
    "start_time": "2022-06-04T19:54:20.691Z"
   },
   {
    "duration": 12,
    "start_time": "2022-06-04T19:55:07.616Z"
   },
   {
    "duration": 261,
    "start_time": "2022-06-04T19:57:43.663Z"
   },
   {
    "duration": 8,
    "start_time": "2022-06-04T19:57:59.301Z"
   },
   {
    "duration": 9,
    "start_time": "2022-06-04T19:58:10.993Z"
   },
   {
    "duration": 860,
    "start_time": "2022-06-04T19:58:18.361Z"
   },
   {
    "duration": 375,
    "start_time": "2022-06-04T19:58:19.223Z"
   },
   {
    "duration": 83,
    "start_time": "2022-06-04T19:58:19.600Z"
   },
   {
    "duration": 138,
    "start_time": "2022-06-04T19:58:19.685Z"
   },
   {
    "duration": 40,
    "start_time": "2022-06-04T19:58:19.825Z"
   },
   {
    "duration": 48,
    "start_time": "2022-06-04T19:58:19.866Z"
   },
   {
    "duration": 32,
    "start_time": "2022-06-04T19:58:19.916Z"
   },
   {
    "duration": 48,
    "start_time": "2022-06-04T19:58:19.950Z"
   },
   {
    "duration": 5,
    "start_time": "2022-06-04T19:58:20.000Z"
   },
   {
    "duration": 21,
    "start_time": "2022-06-04T19:58:20.007Z"
   },
   {
    "duration": 69,
    "start_time": "2022-06-04T19:58:20.030Z"
   },
   {
    "duration": 94,
    "start_time": "2022-06-04T19:58:20.101Z"
   },
   {
    "duration": 16,
    "start_time": "2022-06-04T19:58:20.197Z"
   },
   {
    "duration": 79,
    "start_time": "2022-06-04T19:58:20.216Z"
   },
   {
    "duration": 6,
    "start_time": "2022-06-04T19:58:20.297Z"
   },
   {
    "duration": 16,
    "start_time": "2022-06-04T19:58:20.395Z"
   },
   {
    "duration": 16,
    "start_time": "2022-06-04T19:58:20.413Z"
   },
   {
    "duration": 7,
    "start_time": "2022-06-04T19:58:20.493Z"
   },
   {
    "duration": 104,
    "start_time": "2022-06-04T19:58:20.502Z"
   },
   {
    "duration": 15,
    "start_time": "2022-06-04T19:58:20.608Z"
   },
   {
    "duration": 115,
    "start_time": "2022-06-04T20:02:56.842Z"
   },
   {
    "duration": 885,
    "start_time": "2022-06-04T20:03:16.899Z"
   },
   {
    "duration": 395,
    "start_time": "2022-06-04T20:03:17.785Z"
   },
   {
    "duration": 82,
    "start_time": "2022-06-04T20:03:18.182Z"
   },
   {
    "duration": 143,
    "start_time": "2022-06-04T20:03:18.267Z"
   },
   {
    "duration": 38,
    "start_time": "2022-06-04T20:03:18.412Z"
   },
   {
    "duration": 48,
    "start_time": "2022-06-04T20:03:18.452Z"
   },
   {
    "duration": 34,
    "start_time": "2022-06-04T20:03:18.502Z"
   },
   {
    "duration": 35,
    "start_time": "2022-06-04T20:03:18.538Z"
   },
   {
    "duration": 5,
    "start_time": "2022-06-04T20:03:18.594Z"
   },
   {
    "duration": 14,
    "start_time": "2022-06-04T20:03:18.601Z"
   },
   {
    "duration": 80,
    "start_time": "2022-06-04T20:03:18.617Z"
   },
   {
    "duration": 97,
    "start_time": "2022-06-04T20:03:18.698Z"
   },
   {
    "duration": 15,
    "start_time": "2022-06-04T20:03:18.797Z"
   },
   {
    "duration": 17,
    "start_time": "2022-06-04T20:03:18.813Z"
   },
   {
    "duration": 65,
    "start_time": "2022-06-04T20:03:18.831Z"
   },
   {
    "duration": 119,
    "start_time": "2022-06-04T20:03:18.897Z"
   },
   {
    "duration": 20,
    "start_time": "2022-06-04T20:03:19.018Z"
   },
   {
    "duration": 6,
    "start_time": "2022-06-04T20:03:19.096Z"
   },
   {
    "duration": 97,
    "start_time": "2022-06-04T20:03:19.104Z"
   },
   {
    "duration": 11,
    "start_time": "2022-06-04T20:03:19.203Z"
   },
   {
    "duration": 7,
    "start_time": "2022-06-04T20:03:26.864Z"
   },
   {
    "duration": 102,
    "start_time": "2022-06-04T20:03:37.530Z"
   },
   {
    "duration": 937,
    "start_time": "2022-06-04T20:03:51.209Z"
   },
   {
    "duration": 417,
    "start_time": "2022-06-04T20:03:52.148Z"
   },
   {
    "duration": 88,
    "start_time": "2022-06-04T20:03:52.566Z"
   },
   {
    "duration": 161,
    "start_time": "2022-06-04T20:03:52.657Z"
   },
   {
    "duration": 43,
    "start_time": "2022-06-04T20:03:52.820Z"
   },
   {
    "duration": 52,
    "start_time": "2022-06-04T20:03:52.865Z"
   },
   {
    "duration": 38,
    "start_time": "2022-06-04T20:03:52.919Z"
   },
   {
    "duration": 57,
    "start_time": "2022-06-04T20:03:52.959Z"
   },
   {
    "duration": 4,
    "start_time": "2022-06-04T20:03:53.018Z"
   },
   {
    "duration": 15,
    "start_time": "2022-06-04T20:03:53.025Z"
   },
   {
    "duration": 57,
    "start_time": "2022-06-04T20:03:53.042Z"
   },
   {
    "duration": 94,
    "start_time": "2022-06-04T20:03:53.101Z"
   },
   {
    "duration": 17,
    "start_time": "2022-06-04T20:03:53.197Z"
   },
   {
    "duration": 23,
    "start_time": "2022-06-04T20:03:53.216Z"
   },
   {
    "duration": 95,
    "start_time": "2022-06-04T20:03:53.300Z"
   },
   {
    "duration": 16,
    "start_time": "2022-06-04T20:03:53.397Z"
   },
   {
    "duration": 17,
    "start_time": "2022-06-04T20:03:53.415Z"
   },
   {
    "duration": 66,
    "start_time": "2022-06-04T20:03:53.434Z"
   },
   {
    "duration": 101,
    "start_time": "2022-06-04T20:03:53.503Z"
   },
   {
    "duration": 8,
    "start_time": "2022-06-04T20:03:53.605Z"
   },
   {
    "duration": 4,
    "start_time": "2022-06-04T20:12:32.433Z"
   },
   {
    "duration": 100,
    "start_time": "2022-06-04T20:14:21.607Z"
   },
   {
    "duration": 23,
    "start_time": "2022-06-04T20:14:55.868Z"
   },
   {
    "duration": 23,
    "start_time": "2022-06-04T20:15:23.602Z"
   },
   {
    "duration": 268,
    "start_time": "2022-06-04T20:17:39.901Z"
   },
   {
    "duration": 231,
    "start_time": "2022-06-04T20:17:46.464Z"
   },
   {
    "duration": 4,
    "start_time": "2022-06-04T20:18:41.146Z"
   },
   {
    "duration": 5,
    "start_time": "2022-06-04T20:18:48.494Z"
   },
   {
    "duration": 5,
    "start_time": "2022-06-04T20:20:41.218Z"
   },
   {
    "duration": 238,
    "start_time": "2022-06-04T20:20:45.858Z"
   },
   {
    "duration": 13,
    "start_time": "2022-06-04T20:20:54.392Z"
   },
   {
    "duration": 18,
    "start_time": "2022-06-04T20:21:04.165Z"
   },
   {
    "duration": 903,
    "start_time": "2022-06-04T20:26:25.902Z"
   },
   {
    "duration": 376,
    "start_time": "2022-06-04T20:26:26.807Z"
   },
   {
    "duration": 82,
    "start_time": "2022-06-04T20:26:27.184Z"
   },
   {
    "duration": 136,
    "start_time": "2022-06-04T20:26:27.269Z"
   },
   {
    "duration": 37,
    "start_time": "2022-06-04T20:26:27.407Z"
   },
   {
    "duration": 53,
    "start_time": "2022-06-04T20:26:27.446Z"
   },
   {
    "duration": 34,
    "start_time": "2022-06-04T20:26:27.501Z"
   },
   {
    "duration": 33,
    "start_time": "2022-06-04T20:26:27.537Z"
   },
   {
    "duration": 5,
    "start_time": "2022-06-04T20:26:27.593Z"
   },
   {
    "duration": 17,
    "start_time": "2022-06-04T20:26:27.601Z"
   },
   {
    "duration": 17,
    "start_time": "2022-06-04T20:26:27.620Z"
   },
   {
    "duration": 64,
    "start_time": "2022-06-04T20:26:27.639Z"
   },
   {
    "duration": 106,
    "start_time": "2022-06-04T20:26:27.705Z"
   },
   {
    "duration": 17,
    "start_time": "2022-06-04T20:26:27.813Z"
   },
   {
    "duration": 162,
    "start_time": "2022-06-04T20:26:27.832Z"
   },
   {
    "duration": 15,
    "start_time": "2022-06-04T20:26:27.997Z"
   },
   {
    "duration": 81,
    "start_time": "2022-06-04T20:26:28.014Z"
   },
   {
    "duration": 100,
    "start_time": "2022-06-04T20:26:28.097Z"
   },
   {
    "duration": 13,
    "start_time": "2022-06-04T20:26:28.198Z"
   },
   {
    "duration": 120,
    "start_time": "2022-06-04T20:26:28.213Z"
   },
   {
    "duration": 4,
    "start_time": "2022-06-04T20:29:07.988Z"
   },
   {
    "duration": 21,
    "start_time": "2022-06-04T20:29:09.757Z"
   },
   {
    "duration": 23,
    "start_time": "2022-06-04T20:29:24.712Z"
   },
   {
    "duration": 20,
    "start_time": "2022-06-04T20:30:33.014Z"
   },
   {
    "duration": 4,
    "start_time": "2022-06-04T20:31:16.837Z"
   },
   {
    "duration": 6,
    "start_time": "2022-06-04T20:31:36.410Z"
   },
   {
    "duration": 6,
    "start_time": "2022-06-04T20:31:51.956Z"
   },
   {
    "duration": 4,
    "start_time": "2022-06-04T20:32:07.093Z"
   },
   {
    "duration": 6,
    "start_time": "2022-06-04T20:32:14.445Z"
   },
   {
    "duration": 249,
    "start_time": "2022-06-04T20:32:27.530Z"
   },
   {
    "duration": 25,
    "start_time": "2022-06-04T20:32:33.992Z"
   },
   {
    "duration": 9,
    "start_time": "2022-06-04T20:35:57.750Z"
   },
   {
    "duration": 10,
    "start_time": "2022-06-04T20:36:08.001Z"
   },
   {
    "duration": 9,
    "start_time": "2022-06-04T20:37:03.890Z"
   },
   {
    "duration": 3,
    "start_time": "2022-06-04T20:41:28.628Z"
   },
   {
    "duration": 6,
    "start_time": "2022-06-04T20:41:37.757Z"
   },
   {
    "duration": 12,
    "start_time": "2022-06-04T20:46:00.259Z"
   },
   {
    "duration": 11,
    "start_time": "2022-06-04T20:47:10.125Z"
   },
   {
    "duration": 9,
    "start_time": "2022-06-04T20:47:20.001Z"
   },
   {
    "duration": 9,
    "start_time": "2022-06-04T20:53:00.980Z"
   },
   {
    "duration": 105,
    "start_time": "2022-06-04T20:55:02.104Z"
   },
   {
    "duration": 14,
    "start_time": "2022-06-04T20:58:07.883Z"
   },
   {
    "duration": 31,
    "start_time": "2022-06-04T20:58:30.474Z"
   },
   {
    "duration": 13,
    "start_time": "2022-06-04T20:58:35.182Z"
   },
   {
    "duration": 14,
    "start_time": "2022-06-04T20:58:41.361Z"
   },
   {
    "duration": 10,
    "start_time": "2022-06-04T20:58:56.036Z"
   },
   {
    "duration": 15,
    "start_time": "2022-06-04T20:59:13.279Z"
   },
   {
    "duration": 9,
    "start_time": "2022-06-04T20:59:27.074Z"
   },
   {
    "duration": 10,
    "start_time": "2022-06-04T20:59:32.811Z"
   },
   {
    "duration": 901,
    "start_time": "2022-06-04T20:59:52.334Z"
   },
   {
    "duration": 398,
    "start_time": "2022-06-04T20:59:53.237Z"
   },
   {
    "duration": 87,
    "start_time": "2022-06-04T20:59:53.637Z"
   },
   {
    "duration": 149,
    "start_time": "2022-06-04T20:59:53.726Z"
   },
   {
    "duration": 46,
    "start_time": "2022-06-04T20:59:53.877Z"
   },
   {
    "duration": 36,
    "start_time": "2022-06-04T20:59:53.925Z"
   },
   {
    "duration": 56,
    "start_time": "2022-06-04T20:59:53.962Z"
   },
   {
    "duration": 39,
    "start_time": "2022-06-04T20:59:54.020Z"
   },
   {
    "duration": 4,
    "start_time": "2022-06-04T20:59:54.061Z"
   },
   {
    "duration": 29,
    "start_time": "2022-06-04T20:59:54.067Z"
   },
   {
    "duration": 17,
    "start_time": "2022-06-04T20:59:54.098Z"
   },
   {
    "duration": 78,
    "start_time": "2022-06-04T20:59:54.118Z"
   },
   {
    "duration": 106,
    "start_time": "2022-06-04T20:59:54.199Z"
   },
   {
    "duration": 86,
    "start_time": "2022-06-04T20:59:54.307Z"
   },
   {
    "duration": 6,
    "start_time": "2022-06-04T20:59:54.396Z"
   },
   {
    "duration": 109,
    "start_time": "2022-06-04T20:59:54.404Z"
   },
   {
    "duration": 17,
    "start_time": "2022-06-04T20:59:54.514Z"
   },
   {
    "duration": 66,
    "start_time": "2022-06-04T20:59:54.533Z"
   },
   {
    "duration": 220,
    "start_time": "2022-06-04T20:59:54.602Z"
   },
   {
    "duration": 0,
    "start_time": "2022-06-04T20:59:54.824Z"
   },
   {
    "duration": 6,
    "start_time": "2022-06-04T21:00:24.296Z"
   },
   {
    "duration": 16,
    "start_time": "2022-06-04T21:02:10.393Z"
   },
   {
    "duration": 4,
    "start_time": "2022-06-04T21:02:25.287Z"
   },
   {
    "duration": 931,
    "start_time": "2022-06-04T21:02:35.784Z"
   },
   {
    "duration": 396,
    "start_time": "2022-06-04T21:02:36.717Z"
   },
   {
    "duration": 86,
    "start_time": "2022-06-04T21:02:37.115Z"
   },
   {
    "duration": 152,
    "start_time": "2022-06-04T21:02:37.203Z"
   },
   {
    "duration": 46,
    "start_time": "2022-06-04T21:02:37.358Z"
   },
   {
    "duration": 42,
    "start_time": "2022-06-04T21:02:37.406Z"
   },
   {
    "duration": 53,
    "start_time": "2022-06-04T21:02:37.450Z"
   },
   {
    "duration": 36,
    "start_time": "2022-06-04T21:02:37.506Z"
   },
   {
    "duration": 5,
    "start_time": "2022-06-04T21:02:37.544Z"
   },
   {
    "duration": 21,
    "start_time": "2022-06-04T21:02:37.551Z"
   },
   {
    "duration": 34,
    "start_time": "2022-06-04T21:02:37.574Z"
   },
   {
    "duration": 85,
    "start_time": "2022-06-04T21:02:37.610Z"
   },
   {
    "duration": 114,
    "start_time": "2022-06-04T21:02:37.697Z"
   },
   {
    "duration": 15,
    "start_time": "2022-06-04T21:02:37.814Z"
   },
   {
    "duration": 68,
    "start_time": "2022-06-04T21:02:37.831Z"
   },
   {
    "duration": 108,
    "start_time": "2022-06-04T21:02:37.902Z"
   },
   {
    "duration": 81,
    "start_time": "2022-06-04T21:02:38.012Z"
   },
   {
    "duration": 6,
    "start_time": "2022-06-04T21:02:38.097Z"
   },
   {
    "duration": 99,
    "start_time": "2022-06-04T21:02:38.105Z"
   },
   {
    "duration": 13,
    "start_time": "2022-06-04T21:02:38.206Z"
   },
   {
    "duration": 10,
    "start_time": "2022-06-04T21:02:45.286Z"
   },
   {
    "duration": 8,
    "start_time": "2022-06-04T21:03:04.959Z"
   },
   {
    "duration": 15,
    "start_time": "2022-06-04T21:03:19.123Z"
   },
   {
    "duration": 110,
    "start_time": "2022-06-04T21:03:34.201Z"
   },
   {
    "duration": 9,
    "start_time": "2022-06-04T21:04:05.589Z"
   },
   {
    "duration": 10,
    "start_time": "2022-06-04T21:04:24.247Z"
   },
   {
    "duration": 3,
    "start_time": "2022-06-04T21:05:54.008Z"
   },
   {
    "duration": 10,
    "start_time": "2022-06-04T21:06:01.761Z"
   },
   {
    "duration": 381,
    "start_time": "2022-06-04T21:06:12.747Z"
   },
   {
    "duration": 13,
    "start_time": "2022-06-04T21:06:24.533Z"
   },
   {
    "duration": 3,
    "start_time": "2022-06-04T21:07:02.347Z"
   },
   {
    "duration": 9,
    "start_time": "2022-06-04T21:07:07.473Z"
   },
   {
    "duration": 8,
    "start_time": "2022-06-04T21:07:24.228Z"
   },
   {
    "duration": 12,
    "start_time": "2022-06-04T21:07:55.634Z"
   },
   {
    "duration": 14,
    "start_time": "2022-06-04T21:08:04.793Z"
   },
   {
    "duration": 4,
    "start_time": "2022-06-04T21:08:21.783Z"
   },
   {
    "duration": 4,
    "start_time": "2022-06-04T21:08:33.174Z"
   },
   {
    "duration": 5,
    "start_time": "2022-06-04T21:08:46.094Z"
   },
   {
    "duration": 9,
    "start_time": "2022-06-04T21:08:51.726Z"
   },
   {
    "duration": 508,
    "start_time": "2022-06-04T21:09:45.358Z"
   },
   {
    "duration": 13,
    "start_time": "2022-06-04T21:09:59.886Z"
   },
   {
    "duration": 4,
    "start_time": "2022-06-04T21:10:15.336Z"
   },
   {
    "duration": 11,
    "start_time": "2022-06-04T21:10:28.825Z"
   },
   {
    "duration": 11,
    "start_time": "2022-06-04T21:10:51.973Z"
   },
   {
    "duration": 3,
    "start_time": "2022-06-04T21:10:58.712Z"
   },
   {
    "duration": 887,
    "start_time": "2022-06-04T21:11:16.834Z"
   },
   {
    "duration": 391,
    "start_time": "2022-06-04T21:11:17.723Z"
   },
   {
    "duration": 85,
    "start_time": "2022-06-04T21:11:18.115Z"
   },
   {
    "duration": 142,
    "start_time": "2022-06-04T21:11:18.203Z"
   },
   {
    "duration": 47,
    "start_time": "2022-06-04T21:11:18.347Z"
   },
   {
    "duration": 35,
    "start_time": "2022-06-04T21:11:18.395Z"
   },
   {
    "duration": 34,
    "start_time": "2022-06-04T21:11:18.432Z"
   },
   {
    "duration": 55,
    "start_time": "2022-06-04T21:11:18.467Z"
   },
   {
    "duration": 3,
    "start_time": "2022-06-04T21:11:18.524Z"
   },
   {
    "duration": 15,
    "start_time": "2022-06-04T21:11:18.530Z"
   },
   {
    "duration": 16,
    "start_time": "2022-06-04T21:11:18.547Z"
   },
   {
    "duration": 32,
    "start_time": "2022-06-04T21:11:18.565Z"
   },
   {
    "duration": 110,
    "start_time": "2022-06-04T21:11:18.598Z"
   },
   {
    "duration": 17,
    "start_time": "2022-06-04T21:11:18.709Z"
   },
   {
    "duration": 67,
    "start_time": "2022-06-04T21:11:18.728Z"
   },
   {
    "duration": 118,
    "start_time": "2022-06-04T21:11:18.797Z"
   },
   {
    "duration": 30,
    "start_time": "2022-06-04T21:11:18.917Z"
   },
   {
    "duration": 6,
    "start_time": "2022-06-04T21:11:18.996Z"
   },
   {
    "duration": 103,
    "start_time": "2022-06-04T21:11:19.004Z"
   },
   {
    "duration": 20,
    "start_time": "2022-06-04T21:11:19.108Z"
   },
   {
    "duration": 107,
    "start_time": "2022-06-04T21:11:19.129Z"
   },
   {
    "duration": 25,
    "start_time": "2022-06-04T21:11:37.784Z"
   },
   {
    "duration": 4,
    "start_time": "2022-06-04T21:32:05.191Z"
   },
   {
    "duration": 4,
    "start_time": "2022-06-04T21:32:40.101Z"
   },
   {
    "duration": 12,
    "start_time": "2022-06-04T21:32:41.126Z"
   },
   {
    "duration": 19,
    "start_time": "2022-06-04T21:32:42.593Z"
   },
   {
    "duration": 4,
    "start_time": "2022-06-04T21:34:49.197Z"
   },
   {
    "duration": 11,
    "start_time": "2022-06-04T21:34:50.193Z"
   },
   {
    "duration": 3,
    "start_time": "2022-06-04T21:35:58.200Z"
   },
   {
    "duration": 12,
    "start_time": "2022-06-04T21:35:59.126Z"
   },
   {
    "duration": 4,
    "start_time": "2022-06-04T21:36:11.698Z"
   },
   {
    "duration": 11,
    "start_time": "2022-06-04T21:36:13.807Z"
   },
   {
    "duration": 4,
    "start_time": "2022-06-04T21:36:34.702Z"
   },
   {
    "duration": 12,
    "start_time": "2022-06-04T21:39:01.692Z"
   },
   {
    "duration": 927,
    "start_time": "2022-06-04T21:39:10.417Z"
   },
   {
    "duration": 411,
    "start_time": "2022-06-04T21:39:11.346Z"
   },
   {
    "duration": 85,
    "start_time": "2022-06-04T21:39:11.759Z"
   },
   {
    "duration": 183,
    "start_time": "2022-06-04T21:39:11.846Z"
   },
   {
    "duration": 48,
    "start_time": "2022-06-04T21:39:12.031Z"
   },
   {
    "duration": 43,
    "start_time": "2022-06-04T21:39:12.095Z"
   },
   {
    "duration": 58,
    "start_time": "2022-06-04T21:39:12.139Z"
   },
   {
    "duration": 40,
    "start_time": "2022-06-04T21:39:12.199Z"
   },
   {
    "duration": 4,
    "start_time": "2022-06-04T21:39:12.241Z"
   },
   {
    "duration": 13,
    "start_time": "2022-06-04T21:39:12.247Z"
   },
   {
    "duration": 50,
    "start_time": "2022-06-04T21:39:12.262Z"
   },
   {
    "duration": 96,
    "start_time": "2022-06-04T21:39:12.399Z"
   },
   {
    "duration": 24,
    "start_time": "2022-06-04T21:39:12.497Z"
   },
   {
    "duration": 73,
    "start_time": "2022-06-04T21:39:12.524Z"
   },
   {
    "duration": 94,
    "start_time": "2022-06-04T21:39:12.601Z"
   },
   {
    "duration": 15,
    "start_time": "2022-06-04T21:39:12.696Z"
   },
   {
    "duration": 82,
    "start_time": "2022-06-04T21:39:12.713Z"
   },
   {
    "duration": 8,
    "start_time": "2022-06-04T21:39:12.798Z"
   },
   {
    "duration": 101,
    "start_time": "2022-06-04T21:39:12.809Z"
   },
   {
    "duration": 122,
    "start_time": "2022-06-04T21:39:12.913Z"
   },
   {
    "duration": 5,
    "start_time": "2022-06-04T21:39:51.331Z"
   },
   {
    "duration": 13,
    "start_time": "2022-06-04T21:39:54.492Z"
   },
   {
    "duration": 916,
    "start_time": "2022-06-04T21:40:07.295Z"
   },
   {
    "duration": 390,
    "start_time": "2022-06-04T21:40:08.213Z"
   },
   {
    "duration": 90,
    "start_time": "2022-06-04T21:40:08.604Z"
   },
   {
    "duration": 143,
    "start_time": "2022-06-04T21:40:08.696Z"
   },
   {
    "duration": 66,
    "start_time": "2022-06-04T21:40:08.841Z"
   },
   {
    "duration": 45,
    "start_time": "2022-06-04T21:40:08.909Z"
   },
   {
    "duration": 58,
    "start_time": "2022-06-04T21:40:08.955Z"
   },
   {
    "duration": 34,
    "start_time": "2022-06-04T21:40:09.015Z"
   },
   {
    "duration": 4,
    "start_time": "2022-06-04T21:40:09.050Z"
   },
   {
    "duration": 16,
    "start_time": "2022-06-04T21:40:09.056Z"
   },
   {
    "duration": 40,
    "start_time": "2022-06-04T21:40:09.074Z"
   },
   {
    "duration": 6,
    "start_time": "2022-06-04T21:40:09.196Z"
   },
   {
    "duration": 113,
    "start_time": "2022-06-04T21:40:09.205Z"
   },
   {
    "duration": 18,
    "start_time": "2022-06-04T21:40:09.321Z"
   },
   {
    "duration": 152,
    "start_time": "2022-06-04T21:40:09.342Z"
   },
   {
    "duration": 14,
    "start_time": "2022-06-04T21:40:09.496Z"
   },
   {
    "duration": 17,
    "start_time": "2022-06-04T21:40:09.512Z"
   },
   {
    "duration": 64,
    "start_time": "2022-06-04T21:40:09.532Z"
   },
   {
    "duration": 103,
    "start_time": "2022-06-04T21:40:09.598Z"
   },
   {
    "duration": 107,
    "start_time": "2022-06-04T21:40:09.703Z"
   },
   {
    "duration": 867,
    "start_time": "2022-06-04T21:41:19.047Z"
   },
   {
    "duration": 383,
    "start_time": "2022-06-04T21:41:19.916Z"
   },
   {
    "duration": 94,
    "start_time": "2022-06-04T21:41:20.301Z"
   },
   {
    "duration": 136,
    "start_time": "2022-06-04T21:41:20.397Z"
   },
   {
    "duration": 37,
    "start_time": "2022-06-04T21:41:20.535Z"
   },
   {
    "duration": 52,
    "start_time": "2022-06-04T21:41:20.574Z"
   },
   {
    "duration": 36,
    "start_time": "2022-06-04T21:41:20.628Z"
   },
   {
    "duration": 57,
    "start_time": "2022-06-04T21:41:20.665Z"
   },
   {
    "duration": 4,
    "start_time": "2022-06-04T21:41:20.724Z"
   },
   {
    "duration": 18,
    "start_time": "2022-06-04T21:41:20.731Z"
   },
   {
    "duration": 49,
    "start_time": "2022-06-04T21:41:20.750Z"
   },
   {
    "duration": 94,
    "start_time": "2022-06-04T21:41:20.801Z"
   },
   {
    "duration": 37,
    "start_time": "2022-06-04T21:41:20.897Z"
   },
   {
    "duration": 61,
    "start_time": "2022-06-04T21:41:20.936Z"
   },
   {
    "duration": 99,
    "start_time": "2022-06-04T21:41:21.001Z"
   },
   {
    "duration": 23,
    "start_time": "2022-06-04T21:41:21.102Z"
   },
   {
    "duration": 71,
    "start_time": "2022-06-04T21:41:21.126Z"
   },
   {
    "duration": 99,
    "start_time": "2022-06-04T21:41:21.200Z"
   },
   {
    "duration": 12,
    "start_time": "2022-06-04T21:41:21.301Z"
   },
   {
    "duration": 112,
    "start_time": "2022-06-04T21:41:21.314Z"
   },
   {
    "duration": 5,
    "start_time": "2022-06-04T21:41:33.278Z"
   },
   {
    "duration": 16,
    "start_time": "2022-06-04T21:41:35.650Z"
   },
   {
    "duration": 4,
    "start_time": "2022-06-04T21:41:45.884Z"
   },
   {
    "duration": 9,
    "start_time": "2022-06-04T21:41:48.297Z"
   },
   {
    "duration": 6,
    "start_time": "2022-06-04T21:42:23.589Z"
   },
   {
    "duration": 5,
    "start_time": "2022-06-04T21:42:40.622Z"
   },
   {
    "duration": 917,
    "start_time": "2022-06-05T11:38:31.036Z"
   },
   {
    "duration": 785,
    "start_time": "2022-06-05T11:38:31.955Z"
   },
   {
    "duration": 80,
    "start_time": "2022-06-05T11:38:32.742Z"
   },
   {
    "duration": 132,
    "start_time": "2022-06-05T11:38:32.824Z"
   },
   {
    "duration": 35,
    "start_time": "2022-06-05T11:38:32.958Z"
   },
   {
    "duration": 54,
    "start_time": "2022-06-05T11:38:32.995Z"
   },
   {
    "duration": 34,
    "start_time": "2022-06-05T11:38:33.050Z"
   },
   {
    "duration": 47,
    "start_time": "2022-06-05T11:38:33.086Z"
   },
   {
    "duration": 4,
    "start_time": "2022-06-05T11:38:33.134Z"
   },
   {
    "duration": 15,
    "start_time": "2022-06-05T11:38:33.140Z"
   },
   {
    "duration": 26,
    "start_time": "2022-06-05T11:38:33.157Z"
   },
   {
    "duration": 45,
    "start_time": "2022-06-05T11:38:33.184Z"
   },
   {
    "duration": 108,
    "start_time": "2022-06-05T11:38:33.231Z"
   },
   {
    "duration": 14,
    "start_time": "2022-06-05T11:38:33.340Z"
   },
   {
    "duration": 72,
    "start_time": "2022-06-05T11:38:33.357Z"
   },
   {
    "duration": 105,
    "start_time": "2022-06-05T11:38:33.432Z"
   },
   {
    "duration": 16,
    "start_time": "2022-06-05T11:38:33.539Z"
   },
   {
    "duration": 71,
    "start_time": "2022-06-05T11:38:33.557Z"
   },
   {
    "duration": 96,
    "start_time": "2022-06-05T11:38:33.632Z"
   },
   {
    "duration": 9,
    "start_time": "2022-06-05T11:38:33.730Z"
   },
   {
    "duration": 4,
    "start_time": "2022-06-05T11:38:33.740Z"
   },
   {
    "duration": 4,
    "start_time": "2022-06-05T11:39:21.955Z"
   },
   {
    "duration": 4,
    "start_time": "2022-06-05T11:40:06.198Z"
   },
   {
    "duration": 6,
    "start_time": "2022-06-05T11:40:10.190Z"
   },
   {
    "duration": 4,
    "start_time": "2022-06-05T11:40:11.387Z"
   },
   {
    "duration": 7,
    "start_time": "2022-06-05T11:43:53.985Z"
   },
   {
    "duration": 8,
    "start_time": "2022-06-05T11:43:54.918Z"
   },
   {
    "duration": 5,
    "start_time": "2022-06-05T11:43:56.517Z"
   },
   {
    "duration": 4,
    "start_time": "2022-06-05T11:44:05.812Z"
   },
   {
    "duration": 8,
    "start_time": "2022-06-05T11:44:06.525Z"
   },
   {
    "duration": 4,
    "start_time": "2022-06-05T11:44:07.204Z"
   },
   {
    "duration": 8,
    "start_time": "2022-06-05T11:44:30.643Z"
   },
   {
    "duration": 928,
    "start_time": "2022-06-05T11:44:41.995Z"
   },
   {
    "duration": 351,
    "start_time": "2022-06-05T11:44:42.924Z"
   },
   {
    "duration": 75,
    "start_time": "2022-06-05T11:44:43.276Z"
   },
   {
    "duration": 127,
    "start_time": "2022-06-05T11:44:43.353Z"
   },
   {
    "duration": 49,
    "start_time": "2022-06-05T11:44:43.482Z"
   },
   {
    "duration": 46,
    "start_time": "2022-06-05T11:44:43.533Z"
   },
   {
    "duration": 45,
    "start_time": "2022-06-05T11:44:43.580Z"
   },
   {
    "duration": 32,
    "start_time": "2022-06-05T11:44:43.627Z"
   },
   {
    "duration": 4,
    "start_time": "2022-06-05T11:44:43.660Z"
   },
   {
    "duration": 14,
    "start_time": "2022-06-05T11:44:43.666Z"
   },
   {
    "duration": 46,
    "start_time": "2022-06-05T11:44:43.681Z"
   },
   {
    "duration": 6,
    "start_time": "2022-06-05T11:44:43.729Z"
   },
   {
    "duration": 14,
    "start_time": "2022-06-05T11:44:43.824Z"
   },
   {
    "duration": 18,
    "start_time": "2022-06-05T11:44:43.840Z"
   },
   {
    "duration": 66,
    "start_time": "2022-06-05T11:44:43.860Z"
   },
   {
    "duration": 108,
    "start_time": "2022-06-05T11:44:43.928Z"
   },
   {
    "duration": 16,
    "start_time": "2022-06-05T11:44:44.037Z"
   },
   {
    "duration": 99,
    "start_time": "2022-06-05T11:44:44.123Z"
   },
   {
    "duration": 6,
    "start_time": "2022-06-05T11:44:44.224Z"
   },
   {
    "duration": 11,
    "start_time": "2022-06-05T11:44:44.231Z"
   },
   {
    "duration": 5,
    "start_time": "2022-06-05T11:44:44.244Z"
   },
   {
    "duration": 4,
    "start_time": "2022-06-05T11:45:51.346Z"
   },
   {
    "duration": 6,
    "start_time": "2022-06-05T11:45:52.348Z"
   },
   {
    "duration": 6,
    "start_time": "2022-06-05T11:45:53.605Z"
   },
   {
    "duration": 4,
    "start_time": "2022-06-05T11:46:14.696Z"
   },
   {
    "duration": 8,
    "start_time": "2022-06-05T11:46:15.486Z"
   },
   {
    "duration": 3,
    "start_time": "2022-06-05T11:46:16.252Z"
   },
   {
    "duration": 6,
    "start_time": "2022-06-05T11:47:51.326Z"
   },
   {
    "duration": 7,
    "start_time": "2022-06-05T11:47:52.254Z"
   },
   {
    "duration": 8,
    "start_time": "2022-06-05T11:47:53.401Z"
   },
   {
    "duration": 9,
    "start_time": "2022-06-05T11:47:54.412Z"
   },
   {
    "duration": 116,
    "start_time": "2022-06-05T12:03:00.902Z"
   },
   {
    "duration": 2,
    "start_time": "2022-06-05T12:03:24.327Z"
   },
   {
    "duration": 9,
    "start_time": "2022-06-05T12:03:31.356Z"
   },
   {
    "duration": 1133,
    "start_time": "2022-06-05T12:03:47.860Z"
   },
   {
    "duration": 25,
    "start_time": "2022-06-05T12:07:46.087Z"
   },
   {
    "duration": 16,
    "start_time": "2022-06-05T12:08:35.494Z"
   },
   {
    "duration": 17,
    "start_time": "2022-06-05T12:10:35.848Z"
   },
   {
    "duration": 25,
    "start_time": "2022-06-05T12:10:47.895Z"
   },
   {
    "duration": 15,
    "start_time": "2022-06-05T12:11:08.732Z"
   },
   {
    "duration": 22,
    "start_time": "2022-06-05T12:11:16.621Z"
   },
   {
    "duration": 26,
    "start_time": "2022-06-05T12:16:31.371Z"
   },
   {
    "duration": 56,
    "start_time": "2022-06-05T12:16:40.620Z"
   },
   {
    "duration": 18,
    "start_time": "2022-06-05T12:16:49.223Z"
   },
   {
    "duration": 17,
    "start_time": "2022-06-05T12:17:53.805Z"
   },
   {
    "duration": 19,
    "start_time": "2022-06-05T12:18:06.811Z"
   },
   {
    "duration": 25,
    "start_time": "2022-06-05T12:18:35.901Z"
   },
   {
    "duration": 17,
    "start_time": "2022-06-05T12:19:04.826Z"
   },
   {
    "duration": 18,
    "start_time": "2022-06-05T12:19:15.949Z"
   },
   {
    "duration": 16,
    "start_time": "2022-06-05T12:19:23.489Z"
   },
   {
    "duration": 6,
    "start_time": "2022-06-05T12:26:37.998Z"
   },
   {
    "duration": 31,
    "start_time": "2022-06-05T13:06:46.203Z"
   },
   {
    "duration": 6,
    "start_time": "2022-06-05T13:06:55.669Z"
   },
   {
    "duration": 20,
    "start_time": "2022-06-05T13:08:07.173Z"
   },
   {
    "duration": 33,
    "start_time": "2022-06-05T13:08:12.501Z"
   },
   {
    "duration": 6,
    "start_time": "2022-06-05T13:08:17.674Z"
   },
   {
    "duration": 7,
    "start_time": "2022-06-05T13:09:28.415Z"
   },
   {
    "duration": 22,
    "start_time": "2022-06-05T13:10:07.126Z"
   },
   {
    "duration": 9,
    "start_time": "2022-06-05T13:13:08.494Z"
   },
   {
    "duration": 10,
    "start_time": "2022-06-05T13:13:24.524Z"
   },
   {
    "duration": 4,
    "start_time": "2022-06-05T13:13:30.904Z"
   },
   {
    "duration": 4,
    "start_time": "2022-06-05T13:14:41.805Z"
   },
   {
    "duration": 31,
    "start_time": "2022-06-05T13:15:54.880Z"
   },
   {
    "duration": 10,
    "start_time": "2022-06-05T13:16:06.345Z"
   },
   {
    "duration": 10,
    "start_time": "2022-06-05T13:16:14.423Z"
   },
   {
    "duration": 12,
    "start_time": "2022-06-05T13:16:22.688Z"
   },
   {
    "duration": 10,
    "start_time": "2022-06-05T13:16:37.940Z"
   },
   {
    "duration": 1008,
    "start_time": "2022-06-05T13:16:57.351Z"
   },
   {
    "duration": 586,
    "start_time": "2022-06-05T13:16:58.361Z"
   },
   {
    "duration": 89,
    "start_time": "2022-06-05T13:16:58.949Z"
   },
   {
    "duration": 132,
    "start_time": "2022-06-05T13:16:59.039Z"
   },
   {
    "duration": 37,
    "start_time": "2022-06-05T13:16:59.174Z"
   },
   {
    "duration": 42,
    "start_time": "2022-06-05T13:16:59.222Z"
   },
   {
    "duration": 41,
    "start_time": "2022-06-05T13:16:59.266Z"
   },
   {
    "duration": 47,
    "start_time": "2022-06-05T13:16:59.308Z"
   },
   {
    "duration": 4,
    "start_time": "2022-06-05T13:16:59.356Z"
   },
   {
    "duration": 16,
    "start_time": "2022-06-05T13:16:59.361Z"
   },
   {
    "duration": 49,
    "start_time": "2022-06-05T13:16:59.379Z"
   },
   {
    "duration": 97,
    "start_time": "2022-06-05T13:16:59.429Z"
   },
   {
    "duration": 15,
    "start_time": "2022-06-05T13:16:59.528Z"
   },
   {
    "duration": 17,
    "start_time": "2022-06-05T13:16:59.546Z"
   },
   {
    "duration": 98,
    "start_time": "2022-06-05T13:16:59.624Z"
   },
   {
    "duration": 15,
    "start_time": "2022-06-05T13:16:59.724Z"
   },
   {
    "duration": 15,
    "start_time": "2022-06-05T13:16:59.741Z"
   },
   {
    "duration": 74,
    "start_time": "2022-06-05T13:16:59.759Z"
   },
   {
    "duration": 10,
    "start_time": "2022-06-05T13:16:59.924Z"
   },
   {
    "duration": 26,
    "start_time": "2022-06-05T13:16:59.935Z"
   },
   {
    "duration": 17,
    "start_time": "2022-06-05T13:16:59.963Z"
   },
   {
    "duration": 10,
    "start_time": "2022-06-05T13:16:59.982Z"
   },
   {
    "duration": 10,
    "start_time": "2022-06-05T13:16:59.994Z"
   },
   {
    "duration": 97,
    "start_time": "2022-06-05T13:17:45.221Z"
   },
   {
    "duration": 11,
    "start_time": "2022-06-05T13:18:00.393Z"
   },
   {
    "duration": 7,
    "start_time": "2022-06-05T13:18:30.467Z"
   },
   {
    "duration": 5,
    "start_time": "2022-06-05T13:18:47.633Z"
   },
   {
    "duration": 6,
    "start_time": "2022-06-05T13:18:59.549Z"
   },
   {
    "duration": 4,
    "start_time": "2022-06-05T13:19:25.785Z"
   },
   {
    "duration": 4,
    "start_time": "2022-06-05T13:19:32.484Z"
   },
   {
    "duration": 6,
    "start_time": "2022-06-05T13:19:36.406Z"
   },
   {
    "duration": 6,
    "start_time": "2022-06-05T13:19:49.170Z"
   },
   {
    "duration": 858,
    "start_time": "2022-06-05T13:19:57.850Z"
   },
   {
    "duration": 490,
    "start_time": "2022-06-05T13:19:58.709Z"
   },
   {
    "duration": 89,
    "start_time": "2022-06-05T13:19:59.201Z"
   },
   {
    "duration": 141,
    "start_time": "2022-06-05T13:19:59.293Z"
   },
   {
    "duration": 38,
    "start_time": "2022-06-05T13:19:59.435Z"
   },
   {
    "duration": 49,
    "start_time": "2022-06-05T13:19:59.475Z"
   },
   {
    "duration": 35,
    "start_time": "2022-06-05T13:19:59.525Z"
   },
   {
    "duration": 34,
    "start_time": "2022-06-05T13:19:59.562Z"
   },
   {
    "duration": 4,
    "start_time": "2022-06-05T13:19:59.598Z"
   },
   {
    "duration": 12,
    "start_time": "2022-06-05T13:19:59.623Z"
   },
   {
    "duration": 88,
    "start_time": "2022-06-05T13:19:59.637Z"
   },
   {
    "duration": 96,
    "start_time": "2022-06-05T13:19:59.727Z"
   },
   {
    "duration": 14,
    "start_time": "2022-06-05T13:19:59.825Z"
   },
   {
    "duration": 16,
    "start_time": "2022-06-05T13:19:59.841Z"
   },
   {
    "duration": 100,
    "start_time": "2022-06-05T13:19:59.922Z"
   },
   {
    "duration": 18,
    "start_time": "2022-06-05T13:20:00.024Z"
   },
   {
    "duration": 18,
    "start_time": "2022-06-05T13:20:00.043Z"
   },
   {
    "duration": 161,
    "start_time": "2022-06-05T13:20:00.063Z"
   },
   {
    "duration": 5,
    "start_time": "2022-06-05T13:20:00.226Z"
   },
   {
    "duration": 24,
    "start_time": "2022-06-05T13:20:00.232Z"
   },
   {
    "duration": 16,
    "start_time": "2022-06-05T13:20:00.258Z"
   },
   {
    "duration": 10,
    "start_time": "2022-06-05T13:20:00.275Z"
   },
   {
    "duration": 107,
    "start_time": "2022-06-05T13:20:00.286Z"
   },
   {
    "duration": 22,
    "start_time": "2022-06-05T13:20:52.136Z"
   },
   {
    "duration": 14,
    "start_time": "2022-06-05T13:21:09.505Z"
   },
   {
    "duration": 532,
    "start_time": "2022-06-05T13:21:58.623Z"
   },
   {
    "duration": 4,
    "start_time": "2022-06-05T13:22:25.899Z"
   },
   {
    "duration": 4,
    "start_time": "2022-06-05T13:22:31.979Z"
   },
   {
    "duration": 4,
    "start_time": "2022-06-05T13:22:48.727Z"
   },
   {
    "duration": 10,
    "start_time": "2022-06-05T13:22:56.607Z"
   },
   {
    "duration": 4,
    "start_time": "2022-06-05T13:24:41.550Z"
   },
   {
    "duration": 11,
    "start_time": "2022-06-05T13:24:50.407Z"
   },
   {
    "duration": 21,
    "start_time": "2022-06-05T13:35:35.369Z"
   },
   {
    "duration": 13,
    "start_time": "2022-06-05T13:37:37.047Z"
   },
   {
    "duration": 19,
    "start_time": "2022-06-05T13:37:47.380Z"
   },
   {
    "duration": 21,
    "start_time": "2022-06-05T13:38:23.093Z"
   },
   {
    "duration": 24,
    "start_time": "2022-06-05T13:38:40.596Z"
   },
   {
    "duration": 10,
    "start_time": "2022-06-05T13:40:16.967Z"
   },
   {
    "duration": 14,
    "start_time": "2022-06-05T13:40:34.734Z"
   },
   {
    "duration": 20,
    "start_time": "2022-06-05T13:40:47.884Z"
   },
   {
    "duration": 31,
    "start_time": "2022-06-05T13:41:37.803Z"
   },
   {
    "duration": 18,
    "start_time": "2022-06-05T13:41:43.404Z"
   },
   {
    "duration": 12,
    "start_time": "2022-06-05T13:43:04.171Z"
   },
   {
    "duration": 12,
    "start_time": "2022-06-05T13:43:18.607Z"
   },
   {
    "duration": 29,
    "start_time": "2022-06-05T13:43:31.798Z"
   },
   {
    "duration": 28,
    "start_time": "2022-06-05T13:46:32.949Z"
   },
   {
    "duration": 967,
    "start_time": "2022-06-05T13:46:55.866Z"
   },
   {
    "duration": 407,
    "start_time": "2022-06-05T13:46:56.836Z"
   },
   {
    "duration": 89,
    "start_time": "2022-06-05T13:46:57.244Z"
   },
   {
    "duration": 139,
    "start_time": "2022-06-05T13:46:57.335Z"
   },
   {
    "duration": 53,
    "start_time": "2022-06-05T13:46:57.476Z"
   },
   {
    "duration": 39,
    "start_time": "2022-06-05T13:46:57.531Z"
   },
   {
    "duration": 53,
    "start_time": "2022-06-05T13:46:57.571Z"
   },
   {
    "duration": 34,
    "start_time": "2022-06-05T13:46:57.625Z"
   },
   {
    "duration": 4,
    "start_time": "2022-06-05T13:46:57.661Z"
   },
   {
    "duration": 18,
    "start_time": "2022-06-05T13:46:57.668Z"
   },
   {
    "duration": 137,
    "start_time": "2022-06-05T13:46:57.688Z"
   },
   {
    "duration": 11,
    "start_time": "2022-06-05T13:46:57.827Z"
   },
   {
    "duration": 104,
    "start_time": "2022-06-05T13:46:57.840Z"
   },
   {
    "duration": 80,
    "start_time": "2022-06-05T13:46:57.946Z"
   },
   {
    "duration": 99,
    "start_time": "2022-06-05T13:46:58.029Z"
   },
   {
    "duration": 22,
    "start_time": "2022-06-05T13:46:58.131Z"
   },
   {
    "duration": 21,
    "start_time": "2022-06-05T13:46:58.156Z"
   },
   {
    "duration": 150,
    "start_time": "2022-06-05T13:46:58.179Z"
   },
   {
    "duration": 13,
    "start_time": "2022-06-05T13:46:58.332Z"
   },
   {
    "duration": 17,
    "start_time": "2022-06-05T13:46:58.347Z"
   },
   {
    "duration": 8,
    "start_time": "2022-06-05T13:46:58.366Z"
   },
   {
    "duration": 8,
    "start_time": "2022-06-05T13:46:58.376Z"
   },
   {
    "duration": 190,
    "start_time": "2022-06-05T13:46:58.386Z"
   },
   {
    "duration": 12,
    "start_time": "2022-06-05T13:48:30.982Z"
   },
   {
    "duration": 19,
    "start_time": "2022-06-05T13:48:58.346Z"
   },
   {
    "duration": 4,
    "start_time": "2022-06-05T13:50:45.292Z"
   },
   {
    "duration": 3,
    "start_time": "2022-06-05T13:50:46.600Z"
   },
   {
    "duration": 10,
    "start_time": "2022-06-05T13:50:47.718Z"
   },
   {
    "duration": 8,
    "start_time": "2022-06-05T13:50:48.822Z"
   },
   {
    "duration": 9,
    "start_time": "2022-06-05T13:50:50.152Z"
   },
   {
    "duration": 20,
    "start_time": "2022-06-05T13:50:51.487Z"
   },
   {
    "duration": 20,
    "start_time": "2022-06-05T13:51:14.599Z"
   },
   {
    "duration": 11,
    "start_time": "2022-06-05T13:59:54.551Z"
   },
   {
    "duration": 16,
    "start_time": "2022-06-05T14:00:43.453Z"
   },
   {
    "duration": 16,
    "start_time": "2022-06-05T14:01:57.908Z"
   },
   {
    "duration": 334,
    "start_time": "2022-06-05T14:06:16.599Z"
   },
   {
    "duration": 25,
    "start_time": "2022-06-05T14:08:04.827Z"
   },
   {
    "duration": 24,
    "start_time": "2022-06-05T14:09:32.164Z"
   },
   {
    "duration": 23,
    "start_time": "2022-06-05T14:10:49.566Z"
   },
   {
    "duration": 35,
    "start_time": "2022-06-05T14:10:59.876Z"
   },
   {
    "duration": 23,
    "start_time": "2022-06-05T14:11:53.036Z"
   },
   {
    "duration": 37,
    "start_time": "2022-06-05T14:12:20.751Z"
   },
   {
    "duration": 30,
    "start_time": "2022-06-05T14:12:49.275Z"
   },
   {
    "duration": 34,
    "start_time": "2022-06-05T14:13:04.818Z"
   },
   {
    "duration": 969,
    "start_time": "2022-06-05T14:13:12.201Z"
   },
   {
    "duration": 411,
    "start_time": "2022-06-05T14:13:13.176Z"
   },
   {
    "duration": 87,
    "start_time": "2022-06-05T14:13:13.590Z"
   },
   {
    "duration": 178,
    "start_time": "2022-06-05T14:13:13.679Z"
   },
   {
    "duration": 64,
    "start_time": "2022-06-05T14:13:13.859Z"
   },
   {
    "duration": 50,
    "start_time": "2022-06-05T14:13:13.926Z"
   },
   {
    "duration": 65,
    "start_time": "2022-06-05T14:13:13.979Z"
   },
   {
    "duration": 50,
    "start_time": "2022-06-05T14:13:14.046Z"
   },
   {
    "duration": 5,
    "start_time": "2022-06-05T14:13:14.100Z"
   },
   {
    "duration": 35,
    "start_time": "2022-06-05T14:13:14.107Z"
   },
   {
    "duration": 27,
    "start_time": "2022-06-05T14:13:14.144Z"
   },
   {
    "duration": 55,
    "start_time": "2022-06-05T14:13:14.173Z"
   },
   {
    "duration": 106,
    "start_time": "2022-06-05T14:13:14.231Z"
   },
   {
    "duration": 102,
    "start_time": "2022-06-05T14:13:14.339Z"
   },
   {
    "duration": 6,
    "start_time": "2022-06-05T14:13:14.524Z"
   },
   {
    "duration": 26,
    "start_time": "2022-06-05T14:13:14.532Z"
   },
   {
    "duration": 71,
    "start_time": "2022-06-05T14:13:14.561Z"
   },
   {
    "duration": 11,
    "start_time": "2022-06-05T14:13:14.634Z"
   },
   {
    "duration": 4,
    "start_time": "2022-06-05T14:13:14.724Z"
   },
   {
    "duration": 11,
    "start_time": "2022-06-05T14:13:14.730Z"
   },
   {
    "duration": 17,
    "start_time": "2022-06-05T14:13:14.743Z"
   },
   {
    "duration": 10,
    "start_time": "2022-06-05T14:13:14.762Z"
   },
   {
    "duration": 9,
    "start_time": "2022-06-05T14:13:14.774Z"
   },
   {
    "duration": 199,
    "start_time": "2022-06-05T14:13:14.785Z"
   },
   {
    "duration": 7,
    "start_time": "2022-06-05T14:13:56.145Z"
   },
   {
    "duration": 25,
    "start_time": "2022-06-05T14:14:02.797Z"
   },
   {
    "duration": 1055,
    "start_time": "2022-06-05T14:14:10.578Z"
   },
   {
    "duration": 429,
    "start_time": "2022-06-05T14:14:11.635Z"
   },
   {
    "duration": 80,
    "start_time": "2022-06-05T14:14:12.066Z"
   },
   {
    "duration": 139,
    "start_time": "2022-06-05T14:14:12.149Z"
   },
   {
    "duration": 48,
    "start_time": "2022-06-05T14:14:12.290Z"
   },
   {
    "duration": 36,
    "start_time": "2022-06-05T14:14:12.339Z"
   },
   {
    "duration": 51,
    "start_time": "2022-06-05T14:14:12.376Z"
   },
   {
    "duration": 37,
    "start_time": "2022-06-05T14:14:12.430Z"
   },
   {
    "duration": 4,
    "start_time": "2022-06-05T14:14:12.468Z"
   },
   {
    "duration": 14,
    "start_time": "2022-06-05T14:14:12.475Z"
   },
   {
    "duration": 57,
    "start_time": "2022-06-05T14:14:12.490Z"
   },
   {
    "duration": 76,
    "start_time": "2022-06-05T14:14:12.549Z"
   },
   {
    "duration": 108,
    "start_time": "2022-06-05T14:14:12.634Z"
   },
   {
    "duration": 41,
    "start_time": "2022-06-05T14:14:12.745Z"
   },
   {
    "duration": 103,
    "start_time": "2022-06-05T14:14:12.824Z"
   },
   {
    "duration": 28,
    "start_time": "2022-06-05T14:14:12.929Z"
   },
   {
    "duration": 64,
    "start_time": "2022-06-05T14:14:12.959Z"
   },
   {
    "duration": 6,
    "start_time": "2022-06-05T14:14:13.025Z"
   },
   {
    "duration": 101,
    "start_time": "2022-06-05T14:14:13.033Z"
   },
   {
    "duration": 19,
    "start_time": "2022-06-05T14:14:13.136Z"
   },
   {
    "duration": 11,
    "start_time": "2022-06-05T14:14:13.156Z"
   },
   {
    "duration": 8,
    "start_time": "2022-06-05T14:14:13.169Z"
   },
   {
    "duration": 7,
    "start_time": "2022-06-05T14:14:13.178Z"
   },
   {
    "duration": 116,
    "start_time": "2022-06-05T14:14:13.187Z"
   },
   {
    "duration": 18,
    "start_time": "2022-06-05T14:15:27.879Z"
   },
   {
    "duration": 907,
    "start_time": "2022-06-05T14:15:36.245Z"
   },
   {
    "duration": 383,
    "start_time": "2022-06-05T14:15:37.154Z"
   },
   {
    "duration": 78,
    "start_time": "2022-06-05T14:15:37.538Z"
   },
   {
    "duration": 134,
    "start_time": "2022-06-05T14:15:37.623Z"
   },
   {
    "duration": 37,
    "start_time": "2022-06-05T14:15:37.760Z"
   },
   {
    "duration": 62,
    "start_time": "2022-06-05T14:15:37.799Z"
   },
   {
    "duration": 34,
    "start_time": "2022-06-05T14:15:37.863Z"
   },
   {
    "duration": 58,
    "start_time": "2022-06-05T14:15:37.899Z"
   },
   {
    "duration": 4,
    "start_time": "2022-06-05T14:15:37.959Z"
   },
   {
    "duration": 16,
    "start_time": "2022-06-05T14:15:37.964Z"
   },
   {
    "duration": 142,
    "start_time": "2022-06-05T14:15:37.982Z"
   },
   {
    "duration": 4,
    "start_time": "2022-06-05T14:15:38.126Z"
   },
   {
    "duration": 91,
    "start_time": "2022-06-05T14:15:38.132Z"
   },
   {
    "duration": 98,
    "start_time": "2022-06-05T14:15:38.226Z"
   },
   {
    "duration": 95,
    "start_time": "2022-06-05T14:15:38.328Z"
   },
   {
    "duration": 16,
    "start_time": "2022-06-05T14:15:38.425Z"
   },
   {
    "duration": 20,
    "start_time": "2022-06-05T14:15:38.442Z"
   },
   {
    "duration": 63,
    "start_time": "2022-06-05T14:15:38.464Z"
   },
   {
    "duration": 100,
    "start_time": "2022-06-05T14:15:38.529Z"
   },
   {
    "duration": 5,
    "start_time": "2022-06-05T14:15:38.631Z"
   },
   {
    "duration": 16,
    "start_time": "2022-06-05T14:15:38.638Z"
   },
   {
    "duration": 13,
    "start_time": "2022-06-05T14:15:38.655Z"
   },
   {
    "duration": 7,
    "start_time": "2022-06-05T14:15:38.669Z"
   },
   {
    "duration": 129,
    "start_time": "2022-06-05T14:15:38.678Z"
   },
   {
    "duration": 23,
    "start_time": "2022-06-05T14:17:19.152Z"
   },
   {
    "duration": 878,
    "start_time": "2022-06-05T14:19:06.286Z"
   },
   {
    "duration": 384,
    "start_time": "2022-06-05T14:19:07.167Z"
   },
   {
    "duration": 82,
    "start_time": "2022-06-05T14:19:07.555Z"
   },
   {
    "duration": 136,
    "start_time": "2022-06-05T14:19:07.640Z"
   },
   {
    "duration": 36,
    "start_time": "2022-06-05T14:19:07.778Z"
   },
   {
    "duration": 35,
    "start_time": "2022-06-05T14:19:07.823Z"
   },
   {
    "duration": 33,
    "start_time": "2022-06-05T14:19:07.860Z"
   },
   {
    "duration": 59,
    "start_time": "2022-06-05T14:19:07.895Z"
   },
   {
    "duration": 5,
    "start_time": "2022-06-05T14:19:07.960Z"
   },
   {
    "duration": 32,
    "start_time": "2022-06-05T14:19:07.966Z"
   },
   {
    "duration": 35,
    "start_time": "2022-06-05T14:19:08.000Z"
   },
   {
    "duration": 10,
    "start_time": "2022-06-05T14:19:08.129Z"
   },
   {
    "duration": 21,
    "start_time": "2022-06-05T14:19:08.226Z"
   },
   {
    "duration": 78,
    "start_time": "2022-06-05T14:19:08.250Z"
   },
   {
    "duration": 6,
    "start_time": "2022-06-05T14:19:08.331Z"
   },
   {
    "duration": 108,
    "start_time": "2022-06-05T14:19:08.338Z"
   },
   {
    "duration": 82,
    "start_time": "2022-06-05T14:19:08.448Z"
   },
   {
    "duration": 93,
    "start_time": "2022-06-05T14:19:08.532Z"
   },
   {
    "duration": 10,
    "start_time": "2022-06-05T14:19:08.627Z"
   },
   {
    "duration": 11,
    "start_time": "2022-06-05T14:19:08.639Z"
   },
   {
    "duration": 13,
    "start_time": "2022-06-05T14:19:08.651Z"
   },
   {
    "duration": 8,
    "start_time": "2022-06-05T14:19:08.666Z"
   },
   {
    "duration": 50,
    "start_time": "2022-06-05T14:19:08.675Z"
   },
   {
    "duration": 143,
    "start_time": "2022-06-05T14:19:08.727Z"
   },
   {
    "duration": 23,
    "start_time": "2022-06-05T14:22:30.397Z"
   },
   {
    "duration": 23,
    "start_time": "2022-06-05T14:24:46.524Z"
   },
   {
    "duration": 28,
    "start_time": "2022-06-05T14:24:59.292Z"
   },
   {
    "duration": 21,
    "start_time": "2022-06-05T14:25:14.417Z"
   },
   {
    "duration": 33,
    "start_time": "2022-06-05T14:25:58.343Z"
   },
   {
    "duration": 20,
    "start_time": "2022-06-05T14:26:20.803Z"
   },
   {
    "duration": 30,
    "start_time": "2022-06-05T14:26:38.698Z"
   },
   {
    "duration": 23,
    "start_time": "2022-06-05T14:26:56.490Z"
   },
   {
    "duration": 5,
    "start_time": "2022-06-05T14:28:57.899Z"
   },
   {
    "duration": 8,
    "start_time": "2022-06-05T14:29:19.346Z"
   },
   {
    "duration": 183,
    "start_time": "2022-06-05T14:31:19.343Z"
   },
   {
    "duration": 941,
    "start_time": "2022-06-05T14:31:57.650Z"
   },
   {
    "duration": 572,
    "start_time": "2022-06-05T14:31:58.593Z"
   },
   {
    "duration": 105,
    "start_time": "2022-06-05T14:31:59.167Z"
   },
   {
    "duration": 172,
    "start_time": "2022-06-05T14:31:59.275Z"
   },
   {
    "duration": 39,
    "start_time": "2022-06-05T14:31:59.448Z"
   },
   {
    "duration": 54,
    "start_time": "2022-06-05T14:31:59.488Z"
   },
   {
    "duration": 37,
    "start_time": "2022-06-05T14:31:59.544Z"
   },
   {
    "duration": 60,
    "start_time": "2022-06-05T14:31:59.583Z"
   },
   {
    "duration": 8,
    "start_time": "2022-06-05T14:31:59.645Z"
   },
   {
    "duration": 22,
    "start_time": "2022-06-05T14:31:59.657Z"
   },
   {
    "duration": 341,
    "start_time": "2022-06-05T14:31:59.682Z"
   },
   {
    "duration": 0,
    "start_time": "2022-06-05T14:32:00.026Z"
   },
   {
    "duration": 0,
    "start_time": "2022-06-05T14:32:00.027Z"
   },
   {
    "duration": 0,
    "start_time": "2022-06-05T14:32:00.029Z"
   },
   {
    "duration": 0,
    "start_time": "2022-06-05T14:32:00.031Z"
   },
   {
    "duration": 1,
    "start_time": "2022-06-05T14:32:00.032Z"
   },
   {
    "duration": 0,
    "start_time": "2022-06-05T14:32:00.035Z"
   },
   {
    "duration": 0,
    "start_time": "2022-06-05T14:32:00.036Z"
   },
   {
    "duration": 0,
    "start_time": "2022-06-05T14:32:00.037Z"
   },
   {
    "duration": 0,
    "start_time": "2022-06-05T14:32:00.038Z"
   },
   {
    "duration": 0,
    "start_time": "2022-06-05T14:32:00.039Z"
   },
   {
    "duration": 0,
    "start_time": "2022-06-05T14:32:00.040Z"
   },
   {
    "duration": 0,
    "start_time": "2022-06-05T14:32:00.042Z"
   },
   {
    "duration": 0,
    "start_time": "2022-06-05T14:32:00.043Z"
   },
   {
    "duration": 0,
    "start_time": "2022-06-05T14:32:00.045Z"
   },
   {
    "duration": 0,
    "start_time": "2022-06-05T14:32:00.046Z"
   },
   {
    "duration": 124,
    "start_time": "2022-06-05T14:32:41.699Z"
   },
   {
    "duration": 70,
    "start_time": "2022-06-05T14:33:10.358Z"
   },
   {
    "duration": 928,
    "start_time": "2022-06-05T14:33:34.184Z"
   },
   {
    "duration": 374,
    "start_time": "2022-06-05T14:33:35.114Z"
   },
   {
    "duration": 77,
    "start_time": "2022-06-05T14:33:35.490Z"
   },
   {
    "duration": 137,
    "start_time": "2022-06-05T14:33:35.568Z"
   },
   {
    "duration": 39,
    "start_time": "2022-06-05T14:33:35.708Z"
   },
   {
    "duration": 32,
    "start_time": "2022-06-05T14:33:35.748Z"
   },
   {
    "duration": 53,
    "start_time": "2022-06-05T14:33:35.781Z"
   },
   {
    "duration": 33,
    "start_time": "2022-06-05T14:33:35.835Z"
   },
   {
    "duration": 4,
    "start_time": "2022-06-05T14:33:35.869Z"
   },
   {
    "duration": 14,
    "start_time": "2022-06-05T14:33:35.874Z"
   },
   {
    "duration": 56,
    "start_time": "2022-06-05T14:33:35.889Z"
   },
   {
    "duration": 82,
    "start_time": "2022-06-05T14:33:35.948Z"
   },
   {
    "duration": 94,
    "start_time": "2022-06-05T14:33:36.032Z"
   },
   {
    "duration": 5,
    "start_time": "2022-06-05T14:33:36.130Z"
   },
   {
    "duration": 21,
    "start_time": "2022-06-05T14:33:36.137Z"
   },
   {
    "duration": 16,
    "start_time": "2022-06-05T14:33:36.159Z"
   },
   {
    "duration": 52,
    "start_time": "2022-06-05T14:33:36.177Z"
   },
   {
    "duration": 116,
    "start_time": "2022-06-05T14:33:36.231Z"
   },
   {
    "duration": 21,
    "start_time": "2022-06-05T14:33:36.350Z"
   },
   {
    "duration": 152,
    "start_time": "2022-06-05T14:33:36.374Z"
   },
   {
    "duration": 14,
    "start_time": "2022-06-05T14:33:36.528Z"
   },
   {
    "duration": 20,
    "start_time": "2022-06-05T14:33:36.544Z"
   },
   {
    "duration": 24,
    "start_time": "2022-06-05T14:33:36.567Z"
   },
   {
    "duration": 11,
    "start_time": "2022-06-05T14:33:36.592Z"
   },
   {
    "duration": 15,
    "start_time": "2022-06-05T14:33:36.605Z"
   },
   {
    "duration": 127,
    "start_time": "2022-06-05T14:33:36.622Z"
   },
   {
    "duration": 5,
    "start_time": "2022-06-05T14:54:42.891Z"
   },
   {
    "duration": 5,
    "start_time": "2022-06-05T14:55:10.751Z"
   },
   {
    "duration": 10,
    "start_time": "2022-06-05T14:55:39.411Z"
   },
   {
    "duration": 18,
    "start_time": "2022-06-05T14:56:53.219Z"
   },
   {
    "duration": 31,
    "start_time": "2022-06-05T14:57:49.159Z"
   },
   {
    "duration": 25,
    "start_time": "2022-06-05T15:03:49.188Z"
   },
   {
    "duration": 855,
    "start_time": "2022-06-05T15:04:06.963Z"
   },
   {
    "duration": 433,
    "start_time": "2022-06-05T15:04:07.822Z"
   },
   {
    "duration": 135,
    "start_time": "2022-06-05T15:04:08.257Z"
   },
   {
    "duration": 236,
    "start_time": "2022-06-05T15:04:08.395Z"
   },
   {
    "duration": 38,
    "start_time": "2022-06-05T15:04:08.633Z"
   },
   {
    "duration": 52,
    "start_time": "2022-06-05T15:04:08.673Z"
   },
   {
    "duration": 45,
    "start_time": "2022-06-05T15:04:08.727Z"
   },
   {
    "duration": 57,
    "start_time": "2022-06-05T15:04:08.774Z"
   },
   {
    "duration": 4,
    "start_time": "2022-06-05T15:04:08.833Z"
   },
   {
    "duration": 19,
    "start_time": "2022-06-05T15:04:08.840Z"
   },
   {
    "duration": 5,
    "start_time": "2022-06-05T15:04:08.861Z"
   },
   {
    "duration": 12,
    "start_time": "2022-06-05T15:04:08.868Z"
   },
   {
    "duration": 142,
    "start_time": "2022-06-05T15:04:08.882Z"
   },
   {
    "duration": 4,
    "start_time": "2022-06-05T15:04:09.026Z"
   },
   {
    "duration": 12,
    "start_time": "2022-06-05T15:04:09.032Z"
   },
   {
    "duration": 11,
    "start_time": "2022-06-05T15:04:09.046Z"
   },
   {
    "duration": 76,
    "start_time": "2022-06-05T15:04:09.059Z"
   },
   {
    "duration": 186,
    "start_time": "2022-06-05T15:04:09.137Z"
   },
   {
    "duration": 5,
    "start_time": "2022-06-05T15:04:09.326Z"
   },
   {
    "duration": 25,
    "start_time": "2022-06-05T15:04:09.333Z"
   },
   {
    "duration": 78,
    "start_time": "2022-06-05T15:04:09.361Z"
   },
   {
    "duration": 8,
    "start_time": "2022-06-05T15:04:09.522Z"
   },
   {
    "duration": 98,
    "start_time": "2022-06-05T15:04:09.533Z"
   },
   {
    "duration": 8,
    "start_time": "2022-06-05T15:04:09.632Z"
   },
   {
    "duration": 12,
    "start_time": "2022-06-05T15:04:09.641Z"
   },
   {
    "duration": 7,
    "start_time": "2022-06-05T15:04:09.655Z"
   },
   {
    "duration": 7,
    "start_time": "2022-06-05T15:04:09.663Z"
   },
   {
    "duration": 142,
    "start_time": "2022-06-05T15:04:09.673Z"
   },
   {
    "duration": 8,
    "start_time": "2022-06-05T15:06:35.614Z"
   },
   {
    "duration": 4,
    "start_time": "2022-06-05T15:07:47.391Z"
   },
   {
    "duration": 10,
    "start_time": "2022-06-05T15:07:57.704Z"
   },
   {
    "duration": 6,
    "start_time": "2022-06-05T15:08:19.596Z"
   },
   {
    "duration": 11,
    "start_time": "2022-06-05T15:08:27.053Z"
   },
   {
    "duration": 909,
    "start_time": "2022-06-05T15:10:08.020Z"
   },
   {
    "duration": 429,
    "start_time": "2022-06-05T15:10:08.932Z"
   },
   {
    "duration": 94,
    "start_time": "2022-06-05T15:10:09.363Z"
   },
   {
    "duration": 124,
    "start_time": "2022-06-05T15:10:09.460Z"
   },
   {
    "duration": 44,
    "start_time": "2022-06-05T15:10:09.586Z"
   },
   {
    "duration": 34,
    "start_time": "2022-06-05T15:10:09.632Z"
   },
   {
    "duration": 33,
    "start_time": "2022-06-05T15:10:09.668Z"
   },
   {
    "duration": 50,
    "start_time": "2022-06-05T15:10:09.703Z"
   },
   {
    "duration": 3,
    "start_time": "2022-06-05T15:10:09.755Z"
   },
   {
    "duration": 15,
    "start_time": "2022-06-05T15:10:09.761Z"
   },
   {
    "duration": 51,
    "start_time": "2022-06-05T15:10:09.777Z"
   },
   {
    "duration": 6,
    "start_time": "2022-06-05T15:10:09.830Z"
   },
   {
    "duration": 109,
    "start_time": "2022-06-05T15:10:09.837Z"
   },
   {
    "duration": 76,
    "start_time": "2022-06-05T15:10:09.947Z"
   },
   {
    "duration": 6,
    "start_time": "2022-06-05T15:10:10.030Z"
   },
   {
    "duration": 96,
    "start_time": "2022-06-05T15:10:10.038Z"
   },
   {
    "duration": 28,
    "start_time": "2022-06-05T15:10:10.136Z"
   },
   {
    "duration": 105,
    "start_time": "2022-06-05T15:10:10.225Z"
   },
   {
    "duration": 7,
    "start_time": "2022-06-05T15:10:10.332Z"
   },
   {
    "duration": 8,
    "start_time": "2022-06-05T15:10:10.340Z"
   },
   {
    "duration": 12,
    "start_time": "2022-06-05T15:10:10.350Z"
   },
   {
    "duration": 11,
    "start_time": "2022-06-05T15:10:10.365Z"
   },
   {
    "duration": 9,
    "start_time": "2022-06-05T15:10:10.378Z"
   },
   {
    "duration": 134,
    "start_time": "2022-06-05T15:10:10.389Z"
   },
   {
    "duration": 43,
    "start_time": "2022-06-05T15:11:10.493Z"
   },
   {
    "duration": 21,
    "start_time": "2022-06-05T15:12:08.315Z"
   },
   {
    "duration": 37,
    "start_time": "2022-06-05T15:12:22.048Z"
   },
   {
    "duration": 37,
    "start_time": "2022-06-05T15:12:34.052Z"
   },
   {
    "duration": 24,
    "start_time": "2022-06-05T15:12:50.238Z"
   },
   {
    "duration": 3,
    "start_time": "2022-06-05T15:14:44.740Z"
   },
   {
    "duration": 11,
    "start_time": "2022-06-05T15:14:50.555Z"
   },
   {
    "duration": 6,
    "start_time": "2022-06-05T15:15:23.895Z"
   },
   {
    "duration": 13,
    "start_time": "2022-06-05T15:15:30.712Z"
   },
   {
    "duration": 23,
    "start_time": "2022-06-05T15:15:44.938Z"
   },
   {
    "duration": 30,
    "start_time": "2022-06-05T15:16:45.497Z"
   },
   {
    "duration": 22,
    "start_time": "2022-06-05T15:16:52.093Z"
   },
   {
    "duration": 5,
    "start_time": "2022-06-05T15:17:18.596Z"
   },
   {
    "duration": 12,
    "start_time": "2022-06-05T15:17:33.311Z"
   },
   {
    "duration": 14,
    "start_time": "2022-06-05T15:18:11.063Z"
   },
   {
    "duration": 866,
    "start_time": "2022-06-05T15:20:26.688Z"
   },
   {
    "duration": 375,
    "start_time": "2022-06-05T15:20:27.555Z"
   },
   {
    "duration": 77,
    "start_time": "2022-06-05T15:20:27.932Z"
   },
   {
    "duration": 135,
    "start_time": "2022-06-05T15:20:28.011Z"
   },
   {
    "duration": 36,
    "start_time": "2022-06-05T15:20:28.148Z"
   },
   {
    "duration": 62,
    "start_time": "2022-06-05T15:20:28.185Z"
   },
   {
    "duration": 32,
    "start_time": "2022-06-05T15:20:28.248Z"
   },
   {
    "duration": 41,
    "start_time": "2022-06-05T15:20:28.282Z"
   },
   {
    "duration": 4,
    "start_time": "2022-06-05T15:20:28.325Z"
   },
   {
    "duration": 19,
    "start_time": "2022-06-05T15:20:28.332Z"
   },
   {
    "duration": 77,
    "start_time": "2022-06-05T15:20:28.352Z"
   },
   {
    "duration": 7,
    "start_time": "2022-06-05T15:20:28.431Z"
   },
   {
    "duration": 15,
    "start_time": "2022-06-05T15:20:28.524Z"
   },
   {
    "duration": 16,
    "start_time": "2022-06-05T15:20:28.541Z"
   },
   {
    "duration": 68,
    "start_time": "2022-06-05T15:20:28.559Z"
   },
   {
    "duration": 107,
    "start_time": "2022-06-05T15:20:28.630Z"
   },
   {
    "duration": 86,
    "start_time": "2022-06-05T15:20:28.739Z"
   },
   {
    "duration": 97,
    "start_time": "2022-06-05T15:20:28.828Z"
   },
   {
    "duration": 15,
    "start_time": "2022-06-05T15:20:28.926Z"
   },
   {
    "duration": 9,
    "start_time": "2022-06-05T15:20:28.942Z"
   },
   {
    "duration": 126,
    "start_time": "2022-06-05T15:20:28.952Z"
   },
   {
    "duration": 0,
    "start_time": "2022-06-05T15:20:29.079Z"
   },
   {
    "duration": 0,
    "start_time": "2022-06-05T15:20:29.080Z"
   },
   {
    "duration": 0,
    "start_time": "2022-06-05T15:20:29.082Z"
   },
   {
    "duration": 11,
    "start_time": "2022-06-05T15:20:55.985Z"
   },
   {
    "duration": 7,
    "start_time": "2022-06-05T15:21:03.958Z"
   },
   {
    "duration": 10,
    "start_time": "2022-06-05T15:21:18.881Z"
   },
   {
    "duration": 928,
    "start_time": "2022-06-05T15:21:55.607Z"
   },
   {
    "duration": 392,
    "start_time": "2022-06-05T15:21:56.538Z"
   },
   {
    "duration": 91,
    "start_time": "2022-06-05T15:21:56.932Z"
   },
   {
    "duration": 174,
    "start_time": "2022-06-05T15:21:57.026Z"
   },
   {
    "duration": 46,
    "start_time": "2022-06-05T15:21:57.202Z"
   },
   {
    "duration": 33,
    "start_time": "2022-06-05T15:21:57.251Z"
   },
   {
    "duration": 52,
    "start_time": "2022-06-05T15:21:57.286Z"
   },
   {
    "duration": 34,
    "start_time": "2022-06-05T15:21:57.339Z"
   },
   {
    "duration": 4,
    "start_time": "2022-06-05T15:21:57.375Z"
   },
   {
    "duration": 16,
    "start_time": "2022-06-05T15:21:57.382Z"
   },
   {
    "duration": 223,
    "start_time": "2022-06-05T15:21:57.400Z"
   },
   {
    "duration": 6,
    "start_time": "2022-06-05T15:21:57.625Z"
   },
   {
    "duration": 22,
    "start_time": "2022-06-05T15:21:57.633Z"
   },
   {
    "duration": 65,
    "start_time": "2022-06-05T15:21:57.658Z"
   },
   {
    "duration": 6,
    "start_time": "2022-06-05T15:21:57.725Z"
   },
   {
    "duration": 109,
    "start_time": "2022-06-05T15:21:57.733Z"
   },
   {
    "duration": 18,
    "start_time": "2022-06-05T15:21:57.844Z"
   },
   {
    "duration": 70,
    "start_time": "2022-06-05T15:21:57.864Z"
   },
   {
    "duration": 104,
    "start_time": "2022-06-05T15:21:57.937Z"
   },
   {
    "duration": 14,
    "start_time": "2022-06-05T15:21:58.043Z"
   },
   {
    "duration": 7,
    "start_time": "2022-06-05T15:21:58.059Z"
   },
   {
    "duration": 0,
    "start_time": "2022-06-05T15:21:58.068Z"
   },
   {
    "duration": 0,
    "start_time": "2022-06-05T15:21:58.068Z"
   },
   {
    "duration": 0,
    "start_time": "2022-06-05T15:21:58.070Z"
   },
   {
    "duration": 0,
    "start_time": "2022-06-05T15:21:58.071Z"
   },
   {
    "duration": 0,
    "start_time": "2022-06-05T15:21:58.072Z"
   },
   {
    "duration": 10,
    "start_time": "2022-06-05T15:22:08.529Z"
   },
   {
    "duration": 10,
    "start_time": "2022-06-05T15:23:02.229Z"
   },
   {
    "duration": 9,
    "start_time": "2022-06-05T15:23:08.595Z"
   },
   {
    "duration": 6,
    "start_time": "2022-06-05T15:23:22.817Z"
   },
   {
    "duration": 108,
    "start_time": "2022-06-05T15:23:25.181Z"
   },
   {
    "duration": 4,
    "start_time": "2022-06-05T15:23:51.000Z"
   },
   {
    "duration": 17,
    "start_time": "2022-06-05T15:23:52.813Z"
   },
   {
    "duration": 10,
    "start_time": "2022-06-05T15:24:05.253Z"
   },
   {
    "duration": 11,
    "start_time": "2022-06-05T15:24:17.425Z"
   },
   {
    "duration": 4,
    "start_time": "2022-06-05T15:25:31.782Z"
   },
   {
    "duration": 3,
    "start_time": "2022-06-05T15:25:41.608Z"
   },
   {
    "duration": 15,
    "start_time": "2022-06-05T15:25:45.082Z"
   },
   {
    "duration": 992,
    "start_time": "2022-06-05T15:26:16.667Z"
   },
   {
    "duration": 397,
    "start_time": "2022-06-05T15:26:17.661Z"
   },
   {
    "duration": 84,
    "start_time": "2022-06-05T15:26:18.060Z"
   },
   {
    "duration": 141,
    "start_time": "2022-06-05T15:26:18.146Z"
   },
   {
    "duration": 46,
    "start_time": "2022-06-05T15:26:18.289Z"
   },
   {
    "duration": 35,
    "start_time": "2022-06-05T15:26:18.337Z"
   },
   {
    "duration": 51,
    "start_time": "2022-06-05T15:26:18.373Z"
   },
   {
    "duration": 33,
    "start_time": "2022-06-05T15:26:18.426Z"
   },
   {
    "duration": 4,
    "start_time": "2022-06-05T15:26:18.461Z"
   },
   {
    "duration": 18,
    "start_time": "2022-06-05T15:26:18.466Z"
   },
   {
    "duration": 46,
    "start_time": "2022-06-05T15:26:18.486Z"
   },
   {
    "duration": 93,
    "start_time": "2022-06-05T15:26:18.534Z"
   },
   {
    "duration": 123,
    "start_time": "2022-06-05T15:26:18.630Z"
   },
   {
    "duration": 21,
    "start_time": "2022-06-05T15:26:18.756Z"
   },
   {
    "duration": 56,
    "start_time": "2022-06-05T15:26:18.779Z"
   },
   {
    "duration": 121,
    "start_time": "2022-06-05T15:26:18.838Z"
   },
   {
    "duration": 19,
    "start_time": "2022-06-05T15:26:18.961Z"
   },
   {
    "duration": 146,
    "start_time": "2022-06-05T15:26:18.982Z"
   },
   {
    "duration": 19,
    "start_time": "2022-06-05T15:26:19.130Z"
   },
   {
    "duration": 10,
    "start_time": "2022-06-05T15:26:19.150Z"
   },
   {
    "duration": 16,
    "start_time": "2022-06-05T15:26:19.162Z"
   },
   {
    "duration": 15,
    "start_time": "2022-06-05T15:26:19.179Z"
   },
   {
    "duration": 25,
    "start_time": "2022-06-05T15:26:19.195Z"
   },
   {
    "duration": 135,
    "start_time": "2022-06-05T15:26:19.222Z"
   },
   {
    "duration": 0,
    "start_time": "2022-06-05T15:26:19.358Z"
   },
   {
    "duration": 0,
    "start_time": "2022-06-05T15:26:19.360Z"
   },
   {
    "duration": 0,
    "start_time": "2022-06-05T15:26:19.360Z"
   },
   {
    "duration": 18,
    "start_time": "2022-06-05T15:26:41.942Z"
   },
   {
    "duration": 887,
    "start_time": "2022-06-05T15:27:40.964Z"
   },
   {
    "duration": 378,
    "start_time": "2022-06-05T15:27:41.852Z"
   },
   {
    "duration": 73,
    "start_time": "2022-06-05T15:27:42.234Z"
   },
   {
    "duration": 139,
    "start_time": "2022-06-05T15:27:42.308Z"
   },
   {
    "duration": 36,
    "start_time": "2022-06-05T15:27:42.448Z"
   },
   {
    "duration": 60,
    "start_time": "2022-06-05T15:27:42.485Z"
   },
   {
    "duration": 42,
    "start_time": "2022-06-05T15:27:42.547Z"
   },
   {
    "duration": 56,
    "start_time": "2022-06-05T15:27:42.592Z"
   },
   {
    "duration": 5,
    "start_time": "2022-06-05T15:27:42.651Z"
   },
   {
    "duration": 20,
    "start_time": "2022-06-05T15:27:42.658Z"
   },
   {
    "duration": 46,
    "start_time": "2022-06-05T15:27:42.680Z"
   },
   {
    "duration": 105,
    "start_time": "2022-06-05T15:27:42.728Z"
   },
   {
    "duration": 48,
    "start_time": "2022-06-05T15:27:42.835Z"
   },
   {
    "duration": 43,
    "start_time": "2022-06-05T15:27:42.885Z"
   },
   {
    "duration": 6,
    "start_time": "2022-06-05T15:27:42.930Z"
   },
   {
    "duration": 104,
    "start_time": "2022-06-05T15:27:42.937Z"
   },
   {
    "duration": 180,
    "start_time": "2022-06-05T15:27:43.043Z"
   },
   {
    "duration": 5,
    "start_time": "2022-06-05T15:27:43.225Z"
   },
   {
    "duration": 29,
    "start_time": "2022-06-05T15:27:43.231Z"
   },
   {
    "duration": 32,
    "start_time": "2022-06-05T15:27:43.263Z"
   },
   {
    "duration": 118,
    "start_time": "2022-06-05T15:27:43.296Z"
   },
   {
    "duration": 0,
    "start_time": "2022-06-05T15:27:43.416Z"
   },
   {
    "duration": 0,
    "start_time": "2022-06-05T15:27:43.417Z"
   },
   {
    "duration": 0,
    "start_time": "2022-06-05T15:27:43.418Z"
   },
   {
    "duration": 0,
    "start_time": "2022-06-05T15:27:43.422Z"
   },
   {
    "duration": 0,
    "start_time": "2022-06-05T15:27:43.423Z"
   },
   {
    "duration": 0,
    "start_time": "2022-06-05T15:27:43.424Z"
   },
   {
    "duration": 10,
    "start_time": "2022-06-05T15:27:56.469Z"
   },
   {
    "duration": 4,
    "start_time": "2022-06-05T15:28:04.224Z"
   },
   {
    "duration": 926,
    "start_time": "2022-06-05T15:28:36.535Z"
   },
   {
    "duration": 373,
    "start_time": "2022-06-05T15:28:37.463Z"
   },
   {
    "duration": 78,
    "start_time": "2022-06-05T15:28:37.838Z"
   },
   {
    "duration": 129,
    "start_time": "2022-06-05T15:28:37.922Z"
   },
   {
    "duration": 36,
    "start_time": "2022-06-05T15:28:38.053Z"
   },
   {
    "duration": 56,
    "start_time": "2022-06-05T15:28:38.090Z"
   },
   {
    "duration": 38,
    "start_time": "2022-06-05T15:28:38.148Z"
   },
   {
    "duration": 53,
    "start_time": "2022-06-05T15:28:38.188Z"
   },
   {
    "duration": 5,
    "start_time": "2022-06-05T15:28:38.243Z"
   },
   {
    "duration": 16,
    "start_time": "2022-06-05T15:28:38.250Z"
   },
   {
    "duration": 60,
    "start_time": "2022-06-05T15:28:38.268Z"
   },
   {
    "duration": 5,
    "start_time": "2022-06-05T15:28:38.330Z"
   },
   {
    "duration": 99,
    "start_time": "2022-06-05T15:28:38.337Z"
   },
   {
    "duration": 17,
    "start_time": "2022-06-05T15:28:38.437Z"
   },
   {
    "duration": 71,
    "start_time": "2022-06-05T15:28:38.456Z"
   },
   {
    "duration": 103,
    "start_time": "2022-06-05T15:28:38.530Z"
   },
   {
    "duration": 19,
    "start_time": "2022-06-05T15:28:38.635Z"
   },
   {
    "duration": 70,
    "start_time": "2022-06-05T15:28:38.657Z"
   },
   {
    "duration": 199,
    "start_time": "2022-06-05T15:28:38.728Z"
   },
   {
    "duration": 0,
    "start_time": "2022-06-05T15:28:38.929Z"
   },
   {
    "duration": 0,
    "start_time": "2022-06-05T15:28:38.931Z"
   },
   {
    "duration": 0,
    "start_time": "2022-06-05T15:28:38.932Z"
   },
   {
    "duration": 0,
    "start_time": "2022-06-05T15:28:38.933Z"
   },
   {
    "duration": 0,
    "start_time": "2022-06-05T15:28:38.935Z"
   },
   {
    "duration": 0,
    "start_time": "2022-06-05T15:28:38.936Z"
   },
   {
    "duration": 0,
    "start_time": "2022-06-05T15:28:38.937Z"
   },
   {
    "duration": 0,
    "start_time": "2022-06-05T15:28:38.938Z"
   },
   {
    "duration": 9,
    "start_time": "2022-06-05T15:29:39.262Z"
   },
   {
    "duration": 11,
    "start_time": "2022-06-05T15:29:41.010Z"
   },
   {
    "duration": 4,
    "start_time": "2022-06-05T15:29:43.210Z"
   },
   {
    "duration": 10,
    "start_time": "2022-06-05T15:29:59.510Z"
   },
   {
    "duration": 5,
    "start_time": "2022-06-05T15:30:25.814Z"
   },
   {
    "duration": 21,
    "start_time": "2022-06-05T15:30:34.588Z"
   },
   {
    "duration": 5,
    "start_time": "2022-06-05T15:30:43.644Z"
   },
   {
    "duration": 17,
    "start_time": "2022-06-05T15:30:46.830Z"
   },
   {
    "duration": 3,
    "start_time": "2022-06-05T15:31:17.564Z"
   },
   {
    "duration": 45,
    "start_time": "2022-06-05T15:31:21.985Z"
   },
   {
    "duration": 13,
    "start_time": "2022-06-05T15:31:31.187Z"
   },
   {
    "duration": 893,
    "start_time": "2022-06-05T15:32:41.203Z"
   },
   {
    "duration": 370,
    "start_time": "2022-06-05T15:32:42.098Z"
   },
   {
    "duration": 92,
    "start_time": "2022-06-05T15:32:42.469Z"
   },
   {
    "duration": 166,
    "start_time": "2022-06-05T15:32:42.563Z"
   },
   {
    "duration": 45,
    "start_time": "2022-06-05T15:32:42.732Z"
   },
   {
    "duration": 59,
    "start_time": "2022-06-05T15:32:42.779Z"
   },
   {
    "duration": 36,
    "start_time": "2022-06-05T15:32:42.840Z"
   },
   {
    "duration": 49,
    "start_time": "2022-06-05T15:32:42.878Z"
   },
   {
    "duration": 4,
    "start_time": "2022-06-05T15:32:42.928Z"
   },
   {
    "duration": 13,
    "start_time": "2022-06-05T15:32:42.935Z"
   },
   {
    "duration": 76,
    "start_time": "2022-06-05T15:32:42.949Z"
   },
   {
    "duration": 7,
    "start_time": "2022-06-05T15:32:43.026Z"
   },
   {
    "duration": 107,
    "start_time": "2022-06-05T15:32:43.034Z"
   },
   {
    "duration": 83,
    "start_time": "2022-06-05T15:32:43.142Z"
   },
   {
    "duration": 9,
    "start_time": "2022-06-05T15:32:43.228Z"
   },
   {
    "duration": 15,
    "start_time": "2022-06-05T15:32:43.324Z"
   },
   {
    "duration": 15,
    "start_time": "2022-06-05T15:32:43.341Z"
   },
   {
    "duration": 70,
    "start_time": "2022-06-05T15:32:43.358Z"
   },
   {
    "duration": 105,
    "start_time": "2022-06-05T15:32:43.430Z"
   },
   {
    "duration": 10,
    "start_time": "2022-06-05T15:32:43.537Z"
   },
   {
    "duration": 9,
    "start_time": "2022-06-05T15:32:43.548Z"
   },
   {
    "duration": 5,
    "start_time": "2022-06-05T15:32:43.559Z"
   },
   {
    "duration": 124,
    "start_time": "2022-06-05T15:32:43.565Z"
   },
   {
    "duration": 0,
    "start_time": "2022-06-05T15:32:43.691Z"
   },
   {
    "duration": 0,
    "start_time": "2022-06-05T15:32:43.692Z"
   },
   {
    "duration": 0,
    "start_time": "2022-06-05T15:32:43.693Z"
   },
   {
    "duration": 5,
    "start_time": "2022-06-05T15:33:12.886Z"
   },
   {
    "duration": 3,
    "start_time": "2022-06-05T15:33:24.410Z"
   },
   {
    "duration": 9,
    "start_time": "2022-06-05T15:33:26.685Z"
   },
   {
    "duration": 6,
    "start_time": "2022-06-05T15:33:33.797Z"
   },
   {
    "duration": 4,
    "start_time": "2022-06-05T15:33:41.760Z"
   },
   {
    "duration": 16,
    "start_time": "2022-06-05T15:33:43.094Z"
   },
   {
    "duration": 8,
    "start_time": "2022-06-05T15:33:57.458Z"
   },
   {
    "duration": 8,
    "start_time": "2022-06-05T15:34:10.345Z"
   },
   {
    "duration": 8,
    "start_time": "2022-06-05T15:34:11.277Z"
   },
   {
    "duration": 23,
    "start_time": "2022-06-05T15:34:12.608Z"
   },
   {
    "duration": 928,
    "start_time": "2022-06-05T15:41:41.633Z"
   },
   {
    "duration": 392,
    "start_time": "2022-06-05T15:41:42.566Z"
   },
   {
    "duration": 76,
    "start_time": "2022-06-05T15:41:42.960Z"
   },
   {
    "duration": 143,
    "start_time": "2022-06-05T15:41:43.038Z"
   },
   {
    "duration": 46,
    "start_time": "2022-06-05T15:41:43.183Z"
   },
   {
    "duration": 34,
    "start_time": "2022-06-05T15:41:43.231Z"
   },
   {
    "duration": 34,
    "start_time": "2022-06-05T15:41:43.266Z"
   },
   {
    "duration": 49,
    "start_time": "2022-06-05T15:41:43.302Z"
   },
   {
    "duration": 4,
    "start_time": "2022-06-05T15:41:43.353Z"
   },
   {
    "duration": 12,
    "start_time": "2022-06-05T15:41:43.359Z"
   },
   {
    "duration": 57,
    "start_time": "2022-06-05T15:41:43.372Z"
   },
   {
    "duration": 93,
    "start_time": "2022-06-05T15:41:43.431Z"
   },
   {
    "duration": 15,
    "start_time": "2022-06-05T15:41:43.526Z"
   },
   {
    "duration": 83,
    "start_time": "2022-06-05T15:41:43.542Z"
   },
   {
    "duration": 6,
    "start_time": "2022-06-05T15:41:43.627Z"
   },
   {
    "duration": 14,
    "start_time": "2022-06-05T15:41:43.724Z"
   },
   {
    "duration": 86,
    "start_time": "2022-06-05T15:41:43.739Z"
   },
   {
    "duration": 96,
    "start_time": "2022-06-05T15:41:43.827Z"
   },
   {
    "duration": 10,
    "start_time": "2022-06-05T15:41:43.925Z"
   },
   {
    "duration": 8,
    "start_time": "2022-06-05T15:41:43.937Z"
   },
   {
    "duration": 7,
    "start_time": "2022-06-05T15:41:43.947Z"
   },
   {
    "duration": 12,
    "start_time": "2022-06-05T15:41:43.956Z"
   },
   {
    "duration": 112,
    "start_time": "2022-06-05T15:41:43.970Z"
   },
   {
    "duration": 0,
    "start_time": "2022-06-05T15:41:44.084Z"
   },
   {
    "duration": 0,
    "start_time": "2022-06-05T15:41:44.085Z"
   },
   {
    "duration": 0,
    "start_time": "2022-06-05T15:41:44.085Z"
   },
   {
    "duration": 953,
    "start_time": "2022-06-05T15:44:58.835Z"
   },
   {
    "duration": 422,
    "start_time": "2022-06-05T15:44:59.790Z"
   },
   {
    "duration": 81,
    "start_time": "2022-06-05T15:45:00.214Z"
   },
   {
    "duration": 174,
    "start_time": "2022-06-05T15:45:00.296Z"
   },
   {
    "duration": 38,
    "start_time": "2022-06-05T15:45:00.471Z"
   },
   {
    "duration": 48,
    "start_time": "2022-06-05T15:45:00.511Z"
   },
   {
    "duration": 34,
    "start_time": "2022-06-05T15:45:00.561Z"
   },
   {
    "duration": 60,
    "start_time": "2022-06-05T15:45:00.597Z"
   },
   {
    "duration": 5,
    "start_time": "2022-06-05T15:45:00.659Z"
   },
   {
    "duration": 23,
    "start_time": "2022-06-05T15:45:00.667Z"
   },
   {
    "duration": 41,
    "start_time": "2022-06-05T15:45:00.692Z"
   },
   {
    "duration": 102,
    "start_time": "2022-06-05T15:45:00.824Z"
   },
   {
    "duration": 24,
    "start_time": "2022-06-05T15:45:00.928Z"
   },
   {
    "duration": 16,
    "start_time": "2022-06-05T15:45:00.954Z"
   },
   {
    "duration": 168,
    "start_time": "2022-06-05T15:45:00.972Z"
   },
   {
    "duration": 31,
    "start_time": "2022-06-05T15:45:01.142Z"
   },
   {
    "duration": 48,
    "start_time": "2022-06-05T15:45:01.175Z"
   },
   {
    "duration": 97,
    "start_time": "2022-06-05T15:45:01.226Z"
   },
   {
    "duration": 103,
    "start_time": "2022-06-05T15:45:01.326Z"
   },
   {
    "duration": 25,
    "start_time": "2022-06-05T15:45:01.431Z"
   },
   {
    "duration": 74,
    "start_time": "2022-06-05T15:45:01.458Z"
   },
   {
    "duration": 42,
    "start_time": "2022-06-05T15:45:01.534Z"
   },
   {
    "duration": 132,
    "start_time": "2022-06-05T15:45:01.578Z"
   },
   {
    "duration": 0,
    "start_time": "2022-06-05T15:45:01.712Z"
   },
   {
    "duration": 0,
    "start_time": "2022-06-05T15:45:01.713Z"
   },
   {
    "duration": 0,
    "start_time": "2022-06-05T15:45:01.714Z"
   },
   {
    "duration": 844,
    "start_time": "2022-06-05T15:45:19.474Z"
   },
   {
    "duration": 420,
    "start_time": "2022-06-05T15:45:20.320Z"
   },
   {
    "duration": 93,
    "start_time": "2022-06-05T15:45:20.742Z"
   },
   {
    "duration": 139,
    "start_time": "2022-06-05T15:45:20.837Z"
   },
   {
    "duration": 45,
    "start_time": "2022-06-05T15:45:20.978Z"
   },
   {
    "duration": 38,
    "start_time": "2022-06-05T15:45:21.025Z"
   },
   {
    "duration": 32,
    "start_time": "2022-06-05T15:45:21.064Z"
   },
   {
    "duration": 63,
    "start_time": "2022-06-05T15:45:21.097Z"
   },
   {
    "duration": 4,
    "start_time": "2022-06-05T15:45:21.162Z"
   },
   {
    "duration": 13,
    "start_time": "2022-06-05T15:45:21.168Z"
   },
   {
    "duration": 56,
    "start_time": "2022-06-05T15:45:21.183Z"
   },
   {
    "duration": 87,
    "start_time": "2022-06-05T15:45:21.241Z"
   },
   {
    "duration": 25,
    "start_time": "2022-06-05T15:45:21.330Z"
   },
   {
    "duration": 16,
    "start_time": "2022-06-05T15:45:21.356Z"
   },
   {
    "duration": 108,
    "start_time": "2022-06-05T15:45:21.424Z"
   },
   {
    "duration": 34,
    "start_time": "2022-06-05T15:45:21.535Z"
   },
   {
    "duration": 17,
    "start_time": "2022-06-05T15:45:21.571Z"
   },
   {
    "duration": 14,
    "start_time": "2022-06-05T15:45:21.624Z"
   },
   {
    "duration": 107,
    "start_time": "2022-06-05T15:45:21.642Z"
   },
   {
    "duration": 5,
    "start_time": "2022-06-05T15:45:21.751Z"
   },
   {
    "duration": 7,
    "start_time": "2022-06-05T15:45:21.757Z"
   },
   {
    "duration": 7,
    "start_time": "2022-06-05T15:45:21.765Z"
   },
   {
    "duration": 110,
    "start_time": "2022-06-05T15:45:21.774Z"
   },
   {
    "duration": 0,
    "start_time": "2022-06-05T15:45:21.886Z"
   },
   {
    "duration": 0,
    "start_time": "2022-06-05T15:45:21.887Z"
   },
   {
    "duration": 0,
    "start_time": "2022-06-05T15:45:21.889Z"
   },
   {
    "duration": 9,
    "start_time": "2022-06-05T15:45:35.478Z"
   },
   {
    "duration": 7,
    "start_time": "2022-06-05T15:45:41.051Z"
   },
   {
    "duration": 8,
    "start_time": "2022-06-05T15:45:45.826Z"
   },
   {
    "duration": 30,
    "start_time": "2022-06-05T15:45:51.112Z"
   },
   {
    "duration": 21,
    "start_time": "2022-06-05T15:48:10.505Z"
   },
   {
    "duration": 20,
    "start_time": "2022-06-05T15:50:08.581Z"
   },
   {
    "duration": 11,
    "start_time": "2022-06-05T15:51:10.443Z"
   },
   {
    "duration": 19,
    "start_time": "2022-06-05T15:51:49.802Z"
   },
   {
    "duration": 29,
    "start_time": "2022-06-05T15:53:14.274Z"
   },
   {
    "duration": 20,
    "start_time": "2022-06-05T15:54:43.686Z"
   },
   {
    "duration": 24,
    "start_time": "2022-06-05T15:56:42.212Z"
   },
   {
    "duration": 24,
    "start_time": "2022-06-05T15:58:37.833Z"
   },
   {
    "duration": 30,
    "start_time": "2022-06-05T15:59:01.044Z"
   },
   {
    "duration": 20,
    "start_time": "2022-06-05T16:01:52.420Z"
   },
   {
    "duration": 930,
    "start_time": "2022-06-05T16:03:42.623Z"
   },
   {
    "duration": 380,
    "start_time": "2022-06-05T16:03:43.555Z"
   },
   {
    "duration": 86,
    "start_time": "2022-06-05T16:03:43.937Z"
   },
   {
    "duration": 134,
    "start_time": "2022-06-05T16:03:44.026Z"
   },
   {
    "duration": 38,
    "start_time": "2022-06-05T16:03:44.162Z"
   },
   {
    "duration": 46,
    "start_time": "2022-06-05T16:03:44.202Z"
   },
   {
    "duration": 33,
    "start_time": "2022-06-05T16:03:44.250Z"
   },
   {
    "duration": 55,
    "start_time": "2022-06-05T16:03:44.284Z"
   },
   {
    "duration": 4,
    "start_time": "2022-06-05T16:03:44.341Z"
   },
   {
    "duration": 12,
    "start_time": "2022-06-05T16:03:44.348Z"
   },
   {
    "duration": 67,
    "start_time": "2022-06-05T16:03:44.361Z"
   },
   {
    "duration": 92,
    "start_time": "2022-06-05T16:03:44.431Z"
   },
   {
    "duration": 14,
    "start_time": "2022-06-05T16:03:44.525Z"
   },
   {
    "duration": 84,
    "start_time": "2022-06-05T16:03:44.540Z"
   },
   {
    "duration": 96,
    "start_time": "2022-06-05T16:03:44.627Z"
   },
   {
    "duration": 13,
    "start_time": "2022-06-05T16:03:44.725Z"
   },
   {
    "duration": 16,
    "start_time": "2022-06-05T16:03:44.740Z"
   },
   {
    "duration": 5,
    "start_time": "2022-06-05T16:03:44.823Z"
   },
   {
    "duration": 101,
    "start_time": "2022-06-05T16:03:44.830Z"
   },
   {
    "duration": 11,
    "start_time": "2022-06-05T16:03:44.933Z"
   },
   {
    "duration": 7,
    "start_time": "2022-06-05T16:03:44.946Z"
   },
   {
    "duration": 13,
    "start_time": "2022-06-05T16:03:44.954Z"
   },
   {
    "duration": 14,
    "start_time": "2022-06-05T16:03:44.968Z"
   },
   {
    "duration": 7,
    "start_time": "2022-06-05T16:03:44.984Z"
   },
   {
    "duration": 8,
    "start_time": "2022-06-05T16:03:44.993Z"
   },
   {
    "duration": 136,
    "start_time": "2022-06-05T16:03:45.003Z"
   },
   {
    "duration": 15,
    "start_time": "2022-06-05T16:04:49.720Z"
   },
   {
    "duration": 15,
    "start_time": "2022-06-05T16:06:35.765Z"
   },
   {
    "duration": 19,
    "start_time": "2022-06-05T16:08:33.474Z"
   },
   {
    "duration": 18,
    "start_time": "2022-06-05T16:10:14.765Z"
   },
   {
    "duration": 16,
    "start_time": "2022-06-05T16:10:37.807Z"
   },
   {
    "duration": 16,
    "start_time": "2022-06-05T16:10:47.234Z"
   },
   {
    "duration": 12,
    "start_time": "2022-06-05T16:11:07.895Z"
   },
   {
    "duration": 15,
    "start_time": "2022-06-05T16:11:13.811Z"
   },
   {
    "duration": 9,
    "start_time": "2022-06-05T16:15:11.105Z"
   },
   {
    "duration": 5,
    "start_time": "2022-06-05T16:15:15.101Z"
   },
   {
    "duration": 5,
    "start_time": "2022-06-05T16:15:16.542Z"
   },
   {
    "duration": 4,
    "start_time": "2022-06-05T16:15:18.035Z"
   },
   {
    "duration": 7,
    "start_time": "2022-06-05T16:15:19.466Z"
   },
   {
    "duration": 7,
    "start_time": "2022-06-05T16:15:20.468Z"
   },
   {
    "duration": 8,
    "start_time": "2022-06-05T16:15:21.207Z"
   },
   {
    "duration": 24,
    "start_time": "2022-06-05T16:15:22.672Z"
   },
   {
    "duration": 22,
    "start_time": "2022-06-05T16:16:18.576Z"
   },
   {
    "duration": 872,
    "start_time": "2022-06-05T16:16:30.830Z"
   },
   {
    "duration": 386,
    "start_time": "2022-06-05T16:16:31.704Z"
   },
   {
    "duration": 78,
    "start_time": "2022-06-05T16:16:32.091Z"
   },
   {
    "duration": 136,
    "start_time": "2022-06-05T16:16:32.171Z"
   },
   {
    "duration": 42,
    "start_time": "2022-06-05T16:16:32.309Z"
   },
   {
    "duration": 32,
    "start_time": "2022-06-05T16:16:32.352Z"
   },
   {
    "duration": 49,
    "start_time": "2022-06-05T16:16:32.386Z"
   },
   {
    "duration": 34,
    "start_time": "2022-06-05T16:16:32.436Z"
   },
   {
    "duration": 5,
    "start_time": "2022-06-05T16:16:32.472Z"
   },
   {
    "duration": 15,
    "start_time": "2022-06-05T16:16:32.479Z"
   },
   {
    "duration": 39,
    "start_time": "2022-06-05T16:16:32.495Z"
   },
   {
    "duration": 93,
    "start_time": "2022-06-05T16:16:32.537Z"
   },
   {
    "duration": 112,
    "start_time": "2022-06-05T16:16:32.633Z"
   },
   {
    "duration": 81,
    "start_time": "2022-06-05T16:16:32.747Z"
   },
   {
    "duration": 98,
    "start_time": "2022-06-05T16:16:32.831Z"
   },
   {
    "duration": 16,
    "start_time": "2022-06-05T16:16:32.930Z"
   },
   {
    "duration": 19,
    "start_time": "2022-06-05T16:16:32.947Z"
   },
   {
    "duration": 6,
    "start_time": "2022-06-05T16:16:33.025Z"
   },
   {
    "duration": 103,
    "start_time": "2022-06-05T16:16:33.033Z"
   },
   {
    "duration": 5,
    "start_time": "2022-06-05T16:16:33.138Z"
   },
   {
    "duration": 6,
    "start_time": "2022-06-05T16:16:33.145Z"
   },
   {
    "duration": 4,
    "start_time": "2022-06-05T16:16:33.153Z"
   },
   {
    "duration": 12,
    "start_time": "2022-06-05T16:16:33.159Z"
   },
   {
    "duration": 7,
    "start_time": "2022-06-05T16:16:33.173Z"
   },
   {
    "duration": 10,
    "start_time": "2022-06-05T16:16:33.182Z"
   },
   {
    "duration": 138,
    "start_time": "2022-06-05T16:16:33.194Z"
   },
   {
    "duration": 22,
    "start_time": "2022-06-05T16:16:57.720Z"
   },
   {
    "duration": 20,
    "start_time": "2022-06-05T16:17:55.402Z"
   },
   {
    "duration": 20,
    "start_time": "2022-06-05T16:18:07.419Z"
   },
   {
    "duration": 22,
    "start_time": "2022-06-05T16:19:09.711Z"
   },
   {
    "duration": 22,
    "start_time": "2022-06-05T16:20:16.002Z"
   },
   {
    "duration": 21,
    "start_time": "2022-06-05T16:20:58.689Z"
   },
   {
    "duration": 11,
    "start_time": "2022-06-05T16:21:30.376Z"
   },
   {
    "duration": 827,
    "start_time": "2022-06-05T16:21:56.334Z"
   },
   {
    "duration": 372,
    "start_time": "2022-06-05T16:21:57.163Z"
   },
   {
    "duration": 86,
    "start_time": "2022-06-05T16:21:57.537Z"
   },
   {
    "duration": 125,
    "start_time": "2022-06-05T16:21:57.625Z"
   },
   {
    "duration": 35,
    "start_time": "2022-06-05T16:21:57.752Z"
   },
   {
    "duration": 47,
    "start_time": "2022-06-05T16:21:57.788Z"
   },
   {
    "duration": 32,
    "start_time": "2022-06-05T16:21:57.836Z"
   },
   {
    "duration": 33,
    "start_time": "2022-06-05T16:21:57.870Z"
   },
   {
    "duration": 4,
    "start_time": "2022-06-05T16:21:57.923Z"
   },
   {
    "duration": 14,
    "start_time": "2022-06-05T16:21:57.930Z"
   },
   {
    "duration": 80,
    "start_time": "2022-06-05T16:21:57.945Z"
   },
   {
    "duration": 6,
    "start_time": "2022-06-05T16:21:58.028Z"
   },
   {
    "duration": 16,
    "start_time": "2022-06-05T16:21:58.123Z"
   },
   {
    "duration": 16,
    "start_time": "2022-06-05T16:21:58.140Z"
   },
   {
    "duration": 73,
    "start_time": "2022-06-05T16:21:58.157Z"
   },
   {
    "duration": 16,
    "start_time": "2022-06-05T16:21:58.323Z"
   },
   {
    "duration": 18,
    "start_time": "2022-06-05T16:21:58.340Z"
   },
   {
    "duration": 98,
    "start_time": "2022-06-05T16:21:58.426Z"
   },
   {
    "duration": 6,
    "start_time": "2022-06-05T16:21:58.525Z"
   },
   {
    "duration": 7,
    "start_time": "2022-06-05T16:21:58.532Z"
   },
   {
    "duration": 6,
    "start_time": "2022-06-05T16:21:58.541Z"
   },
   {
    "duration": 6,
    "start_time": "2022-06-05T16:21:58.549Z"
   },
   {
    "duration": 12,
    "start_time": "2022-06-05T16:21:58.556Z"
   },
   {
    "duration": 6,
    "start_time": "2022-06-05T16:21:58.569Z"
   },
   {
    "duration": 7,
    "start_time": "2022-06-05T16:21:58.576Z"
   },
   {
    "duration": 141,
    "start_time": "2022-06-05T16:21:58.584Z"
   },
   {
    "duration": 23,
    "start_time": "2022-06-05T16:22:38.077Z"
   },
   {
    "duration": 25,
    "start_time": "2022-06-05T16:23:18.569Z"
   },
   {
    "duration": 880,
    "start_time": "2022-06-05T16:23:26.047Z"
   },
   {
    "duration": 363,
    "start_time": "2022-06-05T16:23:26.928Z"
   },
   {
    "duration": 73,
    "start_time": "2022-06-05T16:23:27.293Z"
   },
   {
    "duration": 129,
    "start_time": "2022-06-05T16:23:27.367Z"
   },
   {
    "duration": 40,
    "start_time": "2022-06-05T16:23:27.497Z"
   },
   {
    "duration": 33,
    "start_time": "2022-06-05T16:23:27.539Z"
   },
   {
    "duration": 50,
    "start_time": "2022-06-05T16:23:27.574Z"
   },
   {
    "duration": 32,
    "start_time": "2022-06-05T16:23:27.625Z"
   },
   {
    "duration": 4,
    "start_time": "2022-06-05T16:23:27.658Z"
   },
   {
    "duration": 12,
    "start_time": "2022-06-05T16:23:27.664Z"
   },
   {
    "duration": 14,
    "start_time": "2022-06-05T16:23:27.678Z"
   },
   {
    "duration": 7,
    "start_time": "2022-06-05T16:23:27.723Z"
   },
   {
    "duration": 102,
    "start_time": "2022-06-05T16:23:27.731Z"
   },
   {
    "duration": 17,
    "start_time": "2022-06-05T16:23:27.834Z"
   },
   {
    "duration": 98,
    "start_time": "2022-06-05T16:23:27.926Z"
   },
   {
    "duration": 15,
    "start_time": "2022-06-05T16:23:28.025Z"
   },
   {
    "duration": 17,
    "start_time": "2022-06-05T16:23:28.041Z"
   },
   {
    "duration": 7,
    "start_time": "2022-06-05T16:23:28.124Z"
   },
   {
    "duration": 97,
    "start_time": "2022-06-05T16:23:28.133Z"
   },
   {
    "duration": 8,
    "start_time": "2022-06-05T16:23:28.232Z"
   },
   {
    "duration": 8,
    "start_time": "2022-06-05T16:23:28.241Z"
   },
   {
    "duration": 6,
    "start_time": "2022-06-05T16:23:28.251Z"
   },
   {
    "duration": 10,
    "start_time": "2022-06-05T16:23:28.258Z"
   },
   {
    "duration": 7,
    "start_time": "2022-06-05T16:23:28.269Z"
   },
   {
    "duration": 6,
    "start_time": "2022-06-05T16:23:28.277Z"
   },
   {
    "duration": 135,
    "start_time": "2022-06-05T16:23:28.285Z"
   },
   {
    "duration": 1000,
    "start_time": "2022-06-05T16:24:12.489Z"
   },
   {
    "duration": 368,
    "start_time": "2022-06-05T16:24:13.491Z"
   },
   {
    "duration": 80,
    "start_time": "2022-06-05T16:24:13.861Z"
   },
   {
    "duration": 144,
    "start_time": "2022-06-05T16:24:13.943Z"
   },
   {
    "duration": 45,
    "start_time": "2022-06-05T16:24:14.090Z"
   },
   {
    "duration": 34,
    "start_time": "2022-06-05T16:24:14.137Z"
   },
   {
    "duration": 32,
    "start_time": "2022-06-05T16:24:14.172Z"
   },
   {
    "duration": 35,
    "start_time": "2022-06-05T16:24:14.223Z"
   },
   {
    "duration": 4,
    "start_time": "2022-06-05T16:24:14.260Z"
   },
   {
    "duration": 21,
    "start_time": "2022-06-05T16:24:14.267Z"
   },
   {
    "duration": 42,
    "start_time": "2022-06-05T16:24:14.291Z"
   },
   {
    "duration": 189,
    "start_time": "2022-06-05T16:24:14.335Z"
   },
   {
    "duration": 35,
    "start_time": "2022-06-05T16:24:14.525Z"
   },
   {
    "duration": 23,
    "start_time": "2022-06-05T16:24:14.561Z"
   },
   {
    "duration": 103,
    "start_time": "2022-06-05T16:24:14.622Z"
   },
   {
    "duration": 38,
    "start_time": "2022-06-05T16:24:14.727Z"
   },
   {
    "duration": 16,
    "start_time": "2022-06-05T16:24:14.767Z"
   },
   {
    "duration": 6,
    "start_time": "2022-06-05T16:24:14.822Z"
   },
   {
    "duration": 121,
    "start_time": "2022-06-05T16:24:14.830Z"
   },
   {
    "duration": 21,
    "start_time": "2022-06-05T16:24:14.953Z"
   },
   {
    "duration": 28,
    "start_time": "2022-06-05T16:24:14.975Z"
   },
   {
    "duration": 29,
    "start_time": "2022-06-05T16:24:15.004Z"
   },
   {
    "duration": 28,
    "start_time": "2022-06-05T16:24:15.035Z"
   },
   {
    "duration": 23,
    "start_time": "2022-06-05T16:24:15.065Z"
   },
   {
    "duration": 24,
    "start_time": "2022-06-05T16:24:15.089Z"
   },
   {
    "duration": 124,
    "start_time": "2022-06-05T16:24:15.115Z"
   },
   {
    "duration": 12,
    "start_time": "2022-06-05T16:26:20.670Z"
   },
   {
    "duration": 12,
    "start_time": "2022-06-05T16:26:31.237Z"
   },
   {
    "duration": 22,
    "start_time": "2022-06-05T16:26:55.103Z"
   },
   {
    "duration": 32,
    "start_time": "2022-06-05T16:27:45.837Z"
   },
   {
    "duration": 933,
    "start_time": "2022-06-05T16:27:55.978Z"
   },
   {
    "duration": 641,
    "start_time": "2022-06-05T16:31:53.090Z"
   },
   {
    "duration": 679,
    "start_time": "2022-06-05T16:33:04.440Z"
   },
   {
    "duration": 2028,
    "start_time": "2022-06-05T16:33:27.114Z"
   },
   {
    "duration": 890,
    "start_time": "2022-06-06T09:03:15.076Z"
   },
   {
    "duration": 1656,
    "start_time": "2022-06-06T09:03:15.968Z"
   },
   {
    "duration": 72,
    "start_time": "2022-06-06T09:03:17.626Z"
   },
   {
    "duration": 153,
    "start_time": "2022-06-06T09:03:17.700Z"
   },
   {
    "duration": 48,
    "start_time": "2022-06-06T09:03:17.854Z"
   },
   {
    "duration": 62,
    "start_time": "2022-06-06T09:03:17.904Z"
   },
   {
    "duration": 43,
    "start_time": "2022-06-06T09:03:17.968Z"
   },
   {
    "duration": 68,
    "start_time": "2022-06-06T09:03:18.013Z"
   },
   {
    "duration": 5,
    "start_time": "2022-06-06T09:03:18.083Z"
   },
   {
    "duration": 23,
    "start_time": "2022-06-06T09:03:18.091Z"
   },
   {
    "duration": 38,
    "start_time": "2022-06-06T09:03:18.118Z"
   },
   {
    "duration": 95,
    "start_time": "2022-06-06T09:03:18.158Z"
   },
   {
    "duration": 107,
    "start_time": "2022-06-06T09:03:18.256Z"
   },
   {
    "duration": 25,
    "start_time": "2022-06-06T09:03:18.365Z"
   },
   {
    "duration": 97,
    "start_time": "2022-06-06T09:03:18.445Z"
   },
   {
    "duration": 25,
    "start_time": "2022-06-06T09:03:18.544Z"
   },
   {
    "duration": 26,
    "start_time": "2022-06-06T09:03:18.571Z"
   },
   {
    "duration": 19,
    "start_time": "2022-06-06T09:03:18.642Z"
   },
   {
    "duration": 80,
    "start_time": "2022-06-06T09:03:18.664Z"
   },
   {
    "duration": 10,
    "start_time": "2022-06-06T09:03:18.745Z"
   },
   {
    "duration": 7,
    "start_time": "2022-06-06T09:03:18.758Z"
   },
   {
    "duration": 7,
    "start_time": "2022-06-06T09:03:18.767Z"
   },
   {
    "duration": 15,
    "start_time": "2022-06-06T09:03:18.776Z"
   },
   {
    "duration": 9,
    "start_time": "2022-06-06T09:03:18.794Z"
   },
   {
    "duration": 38,
    "start_time": "2022-06-06T09:03:18.805Z"
   },
   {
    "duration": 2234,
    "start_time": "2022-06-06T09:03:18.845Z"
   },
   {
    "duration": 1019,
    "start_time": "2022-06-06T09:03:21.080Z"
   },
   {
    "duration": 2752,
    "start_time": "2022-06-06T09:15:00.476Z"
   },
   {
    "duration": 2347,
    "start_time": "2022-06-06T09:17:19.001Z"
   },
   {
    "duration": 4,
    "start_time": "2022-06-06T09:22:06.124Z"
   },
   {
    "duration": 8,
    "start_time": "2022-06-06T09:22:07.804Z"
   },
   {
    "duration": 8,
    "start_time": "2022-06-06T09:22:08.952Z"
   },
   {
    "duration": 8,
    "start_time": "2022-06-06T09:22:09.852Z"
   },
   {
    "duration": 2083,
    "start_time": "2022-06-06T09:22:11.115Z"
   },
   {
    "duration": 2454,
    "start_time": "2022-06-06T09:25:19.161Z"
   },
   {
    "duration": 1084,
    "start_time": "2022-06-06T09:28:36.246Z"
   },
   {
    "duration": 2320,
    "start_time": "2022-06-06T09:28:48.214Z"
   },
   {
    "duration": 980,
    "start_time": "2022-06-06T09:31:58.676Z"
   },
   {
    "duration": 3,
    "start_time": "2022-06-06T09:34:46.310Z"
   },
   {
    "duration": 9,
    "start_time": "2022-06-06T09:34:47.748Z"
   },
   {
    "duration": 4,
    "start_time": "2022-06-06T09:35:00.390Z"
   },
   {
    "duration": 11,
    "start_time": "2022-06-06T09:35:02.040Z"
   },
   {
    "duration": 8,
    "start_time": "2022-06-06T09:35:04.389Z"
   },
   {
    "duration": 18,
    "start_time": "2022-06-06T09:35:07.849Z"
   },
   {
    "duration": 2806,
    "start_time": "2022-06-06T09:35:42.343Z"
   },
   {
    "duration": 2941,
    "start_time": "2022-06-06T09:36:16.151Z"
   },
   {
    "duration": 5,
    "start_time": "2022-06-06T09:38:19.038Z"
   },
   {
    "duration": 25,
    "start_time": "2022-06-06T09:38:20.163Z"
   },
   {
    "duration": 5,
    "start_time": "2022-06-06T09:38:59.267Z"
   },
   {
    "duration": 9,
    "start_time": "2022-06-06T09:39:00.358Z"
   },
   {
    "duration": 11,
    "start_time": "2022-06-06T09:39:11.244Z"
   },
   {
    "duration": 8,
    "start_time": "2022-06-06T09:39:12.074Z"
   },
   {
    "duration": 1735,
    "start_time": "2022-06-06T09:39:13.414Z"
   },
   {
    "duration": 1571,
    "start_time": "2022-06-06T09:40:55.536Z"
   },
   {
    "duration": 1639,
    "start_time": "2022-06-06T09:41:31.195Z"
   },
   {
    "duration": 555,
    "start_time": "2022-06-06T09:42:56.404Z"
   },
   {
    "duration": 512,
    "start_time": "2022-06-06T09:43:33.076Z"
   },
   {
    "duration": 1620,
    "start_time": "2022-06-06T09:43:40.915Z"
   },
   {
    "duration": 1527,
    "start_time": "2022-06-06T09:45:41.015Z"
   },
   {
    "duration": 1840,
    "start_time": "2022-06-06T09:45:57.919Z"
   },
   {
    "duration": 760,
    "start_time": "2022-06-06T09:46:33.046Z"
   },
   {
    "duration": 779,
    "start_time": "2022-06-06T09:47:03.785Z"
   },
   {
    "duration": 761,
    "start_time": "2022-06-06T09:47:35.595Z"
   },
   {
    "duration": 545,
    "start_time": "2022-06-06T09:47:50.339Z"
   },
   {
    "duration": 513,
    "start_time": "2022-06-06T09:48:52.814Z"
   },
   {
    "duration": 514,
    "start_time": "2022-06-06T09:49:13.662Z"
   },
   {
    "duration": 551,
    "start_time": "2022-06-06T09:49:30.478Z"
   },
   {
    "duration": 555,
    "start_time": "2022-06-06T09:49:40.580Z"
   },
   {
    "duration": 570,
    "start_time": "2022-06-06T09:49:50.473Z"
   },
   {
    "duration": 644,
    "start_time": "2022-06-06T09:50:07.615Z"
   },
   {
    "duration": 566,
    "start_time": "2022-06-06T09:51:42.268Z"
   },
   {
    "duration": 541,
    "start_time": "2022-06-06T09:51:50.882Z"
   },
   {
    "duration": 5,
    "start_time": "2022-06-06T09:56:46.057Z"
   },
   {
    "duration": 9,
    "start_time": "2022-06-06T09:56:47.088Z"
   },
   {
    "duration": 11,
    "start_time": "2022-06-06T09:56:48.049Z"
   },
   {
    "duration": 7,
    "start_time": "2022-06-06T09:56:48.798Z"
   },
   {
    "duration": 1635,
    "start_time": "2022-06-06T09:56:51.352Z"
   },
   {
    "duration": 4,
    "start_time": "2022-06-06T09:58:35.696Z"
   },
   {
    "duration": 8,
    "start_time": "2022-06-06T09:58:36.773Z"
   },
   {
    "duration": 8,
    "start_time": "2022-06-06T09:58:37.497Z"
   },
   {
    "duration": 7,
    "start_time": "2022-06-06T09:58:38.267Z"
   },
   {
    "duration": 584,
    "start_time": "2022-06-06T09:59:29.457Z"
   },
   {
    "duration": 1474,
    "start_time": "2022-06-06T09:59:39.073Z"
   },
   {
    "duration": 1552,
    "start_time": "2022-06-06T10:01:32.562Z"
   },
   {
    "duration": 4,
    "start_time": "2022-06-06T10:04:02.802Z"
   },
   {
    "duration": 7,
    "start_time": "2022-06-06T10:04:04.265Z"
   },
   {
    "duration": 8,
    "start_time": "2022-06-06T10:04:05.414Z"
   },
   {
    "duration": 11,
    "start_time": "2022-06-06T10:04:06.163Z"
   },
   {
    "duration": 1776,
    "start_time": "2022-06-06T10:04:07.582Z"
   },
   {
    "duration": 1603,
    "start_time": "2022-06-06T10:04:18.945Z"
   },
   {
    "duration": 1944,
    "start_time": "2022-06-06T10:05:32.103Z"
   },
   {
    "duration": 20,
    "start_time": "2022-06-06T10:07:42.305Z"
   },
   {
    "duration": 2191,
    "start_time": "2022-06-06T10:07:58.576Z"
   },
   {
    "duration": 6,
    "start_time": "2022-06-06T10:08:04.553Z"
   },
   {
    "duration": 1865,
    "start_time": "2022-06-06T10:08:07.209Z"
   },
   {
    "duration": 562,
    "start_time": "2022-06-06T10:10:01.573Z"
   },
   {
    "duration": 2005,
    "start_time": "2022-06-06T10:10:21.405Z"
   },
   {
    "duration": 5,
    "start_time": "2022-06-06T10:10:46.292Z"
   },
   {
    "duration": 23,
    "start_time": "2022-06-06T10:10:47.345Z"
   },
   {
    "duration": 9,
    "start_time": "2022-06-06T10:10:48.068Z"
   },
   {
    "duration": 9,
    "start_time": "2022-06-06T10:10:48.733Z"
   },
   {
    "duration": 1672,
    "start_time": "2022-06-06T10:10:49.745Z"
   },
   {
    "duration": 7,
    "start_time": "2022-06-06T10:11:54.811Z"
   },
   {
    "duration": 9,
    "start_time": "2022-06-06T10:11:55.922Z"
   },
   {
    "duration": 11,
    "start_time": "2022-06-06T10:11:56.596Z"
   },
   {
    "duration": 9,
    "start_time": "2022-06-06T10:11:57.210Z"
   },
   {
    "duration": 1814,
    "start_time": "2022-06-06T10:12:11.053Z"
   },
   {
    "duration": 2013,
    "start_time": "2022-06-06T10:13:13.294Z"
   },
   {
    "duration": 1858,
    "start_time": "2022-06-06T10:13:29.479Z"
   },
   {
    "duration": 3,
    "start_time": "2022-06-06T10:16:06.649Z"
   },
   {
    "duration": 1463,
    "start_time": "2022-06-06T10:17:22.002Z"
   },
   {
    "duration": 3,
    "start_time": "2022-06-06T10:18:02.996Z"
   },
   {
    "duration": 1502,
    "start_time": "2022-06-06T10:19:16.050Z"
   },
   {
    "duration": 1528,
    "start_time": "2022-06-06T10:19:45.603Z"
   },
   {
    "duration": 4,
    "start_time": "2022-06-06T10:22:25.374Z"
   },
   {
    "duration": 7,
    "start_time": "2022-06-06T10:22:27.760Z"
   },
   {
    "duration": 7,
    "start_time": "2022-06-06T10:22:33.046Z"
   },
   {
    "duration": 7,
    "start_time": "2022-06-06T10:22:33.963Z"
   },
   {
    "duration": 1481,
    "start_time": "2022-06-06T10:22:35.077Z"
   },
   {
    "duration": 3,
    "start_time": "2022-06-06T10:22:47.191Z"
   },
   {
    "duration": 9,
    "start_time": "2022-06-06T10:22:47.977Z"
   },
   {
    "duration": 7,
    "start_time": "2022-06-06T10:22:49.179Z"
   },
   {
    "duration": 7,
    "start_time": "2022-06-06T10:22:50.004Z"
   },
   {
    "duration": 1458,
    "start_time": "2022-06-06T10:22:52.577Z"
   },
   {
    "duration": 4,
    "start_time": "2022-06-06T10:24:53.361Z"
   },
   {
    "duration": 9,
    "start_time": "2022-06-06T10:24:54.396Z"
   },
   {
    "duration": 6,
    "start_time": "2022-06-06T10:25:01.920Z"
   },
   {
    "duration": 8,
    "start_time": "2022-06-06T10:25:02.833Z"
   },
   {
    "duration": 4,
    "start_time": "2022-06-06T10:25:21.303Z"
   },
   {
    "duration": 11,
    "start_time": "2022-06-06T10:25:23.050Z"
   },
   {
    "duration": 10,
    "start_time": "2022-06-06T10:26:09.670Z"
   },
   {
    "duration": 7,
    "start_time": "2022-06-06T10:26:11.269Z"
   },
   {
    "duration": 9,
    "start_time": "2022-06-06T10:26:12.045Z"
   },
   {
    "duration": 1649,
    "start_time": "2022-06-06T10:26:13.609Z"
   },
   {
    "duration": 1847,
    "start_time": "2022-06-06T10:26:40.839Z"
   },
   {
    "duration": 1719,
    "start_time": "2022-06-06T10:27:46.239Z"
   },
   {
    "duration": 1572,
    "start_time": "2022-06-06T10:32:42.482Z"
   },
   {
    "duration": 3,
    "start_time": "2022-06-06T10:34:23.315Z"
   },
   {
    "duration": 7,
    "start_time": "2022-06-06T10:34:24.455Z"
   },
   {
    "duration": 6,
    "start_time": "2022-06-06T10:34:55.122Z"
   },
   {
    "duration": 9,
    "start_time": "2022-06-06T10:34:55.821Z"
   },
   {
    "duration": 5,
    "start_time": "2022-06-06T10:35:18.586Z"
   },
   {
    "duration": 7,
    "start_time": "2022-06-06T10:35:19.459Z"
   },
   {
    "duration": 8,
    "start_time": "2022-06-06T10:35:21.007Z"
   },
   {
    "duration": 9,
    "start_time": "2022-06-06T10:35:21.697Z"
   },
   {
    "duration": 1676,
    "start_time": "2022-06-06T10:35:22.679Z"
   },
   {
    "duration": 8,
    "start_time": "2022-06-06T10:36:33.452Z"
   },
   {
    "duration": 8,
    "start_time": "2022-06-06T10:36:34.076Z"
   },
   {
    "duration": 9,
    "start_time": "2022-06-06T10:36:34.765Z"
   },
   {
    "duration": 7,
    "start_time": "2022-06-06T10:36:35.404Z"
   },
   {
    "duration": 5,
    "start_time": "2022-06-06T10:37:39.477Z"
   },
   {
    "duration": 9,
    "start_time": "2022-06-06T10:37:40.790Z"
   },
   {
    "duration": 10,
    "start_time": "2022-06-06T10:37:48.898Z"
   },
   {
    "duration": 21,
    "start_time": "2022-06-06T10:37:50.438Z"
   },
   {
    "duration": 4,
    "start_time": "2022-06-06T10:38:15.563Z"
   },
   {
    "duration": 9,
    "start_time": "2022-06-06T10:38:16.419Z"
   },
   {
    "duration": 4,
    "start_time": "2022-06-06T10:39:42.929Z"
   },
   {
    "duration": 9,
    "start_time": "2022-06-06T10:39:43.698Z"
   },
   {
    "duration": 18,
    "start_time": "2022-06-06T10:39:45.060Z"
   },
   {
    "duration": 9,
    "start_time": "2022-06-06T10:39:45.886Z"
   },
   {
    "duration": 1796,
    "start_time": "2022-06-06T10:39:47.442Z"
   },
   {
    "duration": 4,
    "start_time": "2022-06-06T10:40:10.659Z"
   },
   {
    "duration": 11,
    "start_time": "2022-06-06T10:40:11.654Z"
   },
   {
    "duration": 9,
    "start_time": "2022-06-06T10:40:13.723Z"
   },
   {
    "duration": 12,
    "start_time": "2022-06-06T10:40:14.449Z"
   },
   {
    "duration": 1748,
    "start_time": "2022-06-06T10:40:15.871Z"
   },
   {
    "duration": 1720,
    "start_time": "2022-06-06T10:41:28.664Z"
   },
   {
    "duration": 8,
    "start_time": "2022-06-06T10:48:22.294Z"
   },
   {
    "duration": 8,
    "start_time": "2022-06-06T10:48:23.090Z"
   },
   {
    "duration": 7,
    "start_time": "2022-06-06T10:48:23.957Z"
   },
   {
    "duration": 1562,
    "start_time": "2022-06-06T10:48:46.125Z"
   },
   {
    "duration": 1539,
    "start_time": "2022-06-06T10:49:04.852Z"
   },
   {
    "duration": 43,
    "start_time": "2022-06-06T10:53:48.531Z"
   },
   {
    "duration": 28,
    "start_time": "2022-06-06T10:53:54.836Z"
   },
   {
    "duration": 912,
    "start_time": "2022-06-06T10:57:43.787Z"
   },
   {
    "duration": 624,
    "start_time": "2022-06-06T10:57:44.701Z"
   },
   {
    "duration": 78,
    "start_time": "2022-06-06T10:57:45.327Z"
   },
   {
    "duration": 139,
    "start_time": "2022-06-06T10:57:45.407Z"
   },
   {
    "duration": 40,
    "start_time": "2022-06-06T10:57:45.548Z"
   },
   {
    "duration": 38,
    "start_time": "2022-06-06T10:57:45.589Z"
   },
   {
    "duration": 38,
    "start_time": "2022-06-06T10:57:45.641Z"
   },
   {
    "duration": 36,
    "start_time": "2022-06-06T10:57:45.681Z"
   },
   {
    "duration": 23,
    "start_time": "2022-06-06T10:57:45.718Z"
   },
   {
    "duration": 21,
    "start_time": "2022-06-06T10:57:45.745Z"
   },
   {
    "duration": 75,
    "start_time": "2022-06-06T10:57:45.770Z"
   },
   {
    "duration": 103,
    "start_time": "2022-06-06T10:57:45.847Z"
   },
   {
    "duration": 16,
    "start_time": "2022-06-06T10:57:45.952Z"
   },
   {
    "duration": 72,
    "start_time": "2022-06-06T10:57:45.970Z"
   },
   {
    "duration": 6,
    "start_time": "2022-06-06T10:57:46.045Z"
   },
   {
    "duration": 19,
    "start_time": "2022-06-06T10:57:46.142Z"
   },
   {
    "duration": 18,
    "start_time": "2022-06-06T10:57:46.163Z"
   },
   {
    "duration": 7,
    "start_time": "2022-06-06T10:57:46.241Z"
   },
   {
    "duration": 94,
    "start_time": "2022-06-06T10:57:46.250Z"
   },
   {
    "duration": 10,
    "start_time": "2022-06-06T10:57:46.345Z"
   },
   {
    "duration": 7,
    "start_time": "2022-06-06T10:57:46.357Z"
   },
   {
    "duration": 5,
    "start_time": "2022-06-06T10:57:46.366Z"
   },
   {
    "duration": 10,
    "start_time": "2022-06-06T10:57:46.372Z"
   },
   {
    "duration": 7,
    "start_time": "2022-06-06T10:57:46.384Z"
   },
   {
    "duration": 20,
    "start_time": "2022-06-06T10:57:46.392Z"
   },
   {
    "duration": 158,
    "start_time": "2022-06-06T10:57:46.413Z"
   },
   {
    "duration": 1615,
    "start_time": "2022-06-06T10:58:17.208Z"
   },
   {
    "duration": 1731,
    "start_time": "2022-06-06T11:01:17.991Z"
   },
   {
    "duration": 899,
    "start_time": "2022-06-06T11:08:34.780Z"
   },
   {
    "duration": 378,
    "start_time": "2022-06-06T11:08:35.680Z"
   },
   {
    "duration": 74,
    "start_time": "2022-06-06T11:08:36.060Z"
   },
   {
    "duration": 137,
    "start_time": "2022-06-06T11:08:36.140Z"
   },
   {
    "duration": 38,
    "start_time": "2022-06-06T11:08:36.278Z"
   },
   {
    "duration": 50,
    "start_time": "2022-06-06T11:08:36.318Z"
   },
   {
    "duration": 34,
    "start_time": "2022-06-06T11:08:36.369Z"
   },
   {
    "duration": 54,
    "start_time": "2022-06-06T11:08:36.404Z"
   },
   {
    "duration": 4,
    "start_time": "2022-06-06T11:08:36.460Z"
   },
   {
    "duration": 15,
    "start_time": "2022-06-06T11:08:36.466Z"
   },
   {
    "duration": 158,
    "start_time": "2022-06-06T11:08:36.482Z"
   },
   {
    "duration": 5,
    "start_time": "2022-06-06T11:08:36.642Z"
   },
   {
    "duration": 16,
    "start_time": "2022-06-06T11:08:36.648Z"
   },
   {
    "duration": 18,
    "start_time": "2022-06-06T11:08:36.666Z"
   },
   {
    "duration": 59,
    "start_time": "2022-06-06T11:08:36.686Z"
   },
   {
    "duration": 107,
    "start_time": "2022-06-06T11:08:36.747Z"
   },
   {
    "duration": 87,
    "start_time": "2022-06-06T11:08:36.855Z"
   },
   {
    "duration": 96,
    "start_time": "2022-06-06T11:08:36.945Z"
   },
   {
    "duration": 6,
    "start_time": "2022-06-06T11:08:37.043Z"
   },
   {
    "duration": 8,
    "start_time": "2022-06-06T11:08:37.051Z"
   },
   {
    "duration": 7,
    "start_time": "2022-06-06T11:08:37.061Z"
   },
   {
    "duration": 6,
    "start_time": "2022-06-06T11:08:37.069Z"
   },
   {
    "duration": 10,
    "start_time": "2022-06-06T11:08:37.076Z"
   },
   {
    "duration": 6,
    "start_time": "2022-06-06T11:08:37.087Z"
   },
   {
    "duration": 6,
    "start_time": "2022-06-06T11:08:37.095Z"
   },
   {
    "duration": 1617,
    "start_time": "2022-06-06T11:08:37.102Z"
   },
   {
    "duration": 925,
    "start_time": "2022-06-06T11:13:35.780Z"
   },
   {
    "duration": 387,
    "start_time": "2022-06-06T11:13:36.707Z"
   },
   {
    "duration": 75,
    "start_time": "2022-06-06T11:13:37.096Z"
   },
   {
    "duration": 133,
    "start_time": "2022-06-06T11:13:37.173Z"
   },
   {
    "duration": 52,
    "start_time": "2022-06-06T11:13:37.308Z"
   },
   {
    "duration": 36,
    "start_time": "2022-06-06T11:13:37.362Z"
   },
   {
    "duration": 53,
    "start_time": "2022-06-06T11:13:37.400Z"
   },
   {
    "duration": 35,
    "start_time": "2022-06-06T11:13:37.456Z"
   },
   {
    "duration": 4,
    "start_time": "2022-06-06T11:13:37.492Z"
   },
   {
    "duration": 42,
    "start_time": "2022-06-06T11:13:37.499Z"
   },
   {
    "duration": 24,
    "start_time": "2022-06-06T11:13:37.543Z"
   },
   {
    "duration": 9,
    "start_time": "2022-06-06T11:13:37.643Z"
   },
   {
    "duration": 13,
    "start_time": "2022-06-06T11:13:37.742Z"
   },
   {
    "duration": 18,
    "start_time": "2022-06-06T11:13:37.757Z"
   },
   {
    "duration": 166,
    "start_time": "2022-06-06T11:13:37.776Z"
   },
   {
    "duration": 21,
    "start_time": "2022-06-06T11:13:37.944Z"
   },
   {
    "duration": 32,
    "start_time": "2022-06-06T11:13:37.967Z"
   },
   {
    "duration": 140,
    "start_time": "2022-06-06T11:13:38.001Z"
   },
   {
    "duration": 16,
    "start_time": "2022-06-06T11:13:38.143Z"
   },
   {
    "duration": 16,
    "start_time": "2022-06-06T11:13:38.160Z"
   },
   {
    "duration": 18,
    "start_time": "2022-06-06T11:13:38.178Z"
   },
   {
    "duration": 21,
    "start_time": "2022-06-06T11:13:38.197Z"
   },
   {
    "duration": 22,
    "start_time": "2022-06-06T11:13:38.220Z"
   },
   {
    "duration": 22,
    "start_time": "2022-06-06T11:13:38.244Z"
   },
   {
    "duration": 17,
    "start_time": "2022-06-06T11:13:38.267Z"
   },
   {
    "duration": 1492,
    "start_time": "2022-06-06T11:13:38.286Z"
   },
   {
    "duration": 1744,
    "start_time": "2022-06-06T11:26:00.130Z"
   },
   {
    "duration": 900,
    "start_time": "2022-06-06T11:26:01.879Z"
   },
   {
    "duration": 74,
    "start_time": "2022-06-06T11:26:02.780Z"
   },
   {
    "duration": 155,
    "start_time": "2022-06-06T11:26:02.856Z"
   },
   {
    "duration": 52,
    "start_time": "2022-06-06T11:26:03.014Z"
   },
   {
    "duration": 38,
    "start_time": "2022-06-06T11:26:03.071Z"
   },
   {
    "duration": 54,
    "start_time": "2022-06-06T11:26:03.111Z"
   },
   {
    "duration": 33,
    "start_time": "2022-06-06T11:26:03.167Z"
   },
   {
    "duration": 4,
    "start_time": "2022-06-06T11:26:03.202Z"
   },
   {
    "duration": 34,
    "start_time": "2022-06-06T11:26:03.208Z"
   },
   {
    "duration": 25,
    "start_time": "2022-06-06T11:26:03.245Z"
   },
   {
    "duration": 202,
    "start_time": "2022-06-06T11:26:03.271Z"
   },
   {
    "duration": 15,
    "start_time": "2022-06-06T11:26:03.475Z"
   },
   {
    "duration": 24,
    "start_time": "2022-06-06T11:26:03.492Z"
   },
   {
    "duration": 134,
    "start_time": "2022-06-06T11:26:03.519Z"
   },
   {
    "duration": 27,
    "start_time": "2022-06-06T11:26:03.655Z"
   },
   {
    "duration": 34,
    "start_time": "2022-06-06T11:26:03.684Z"
   },
   {
    "duration": 142,
    "start_time": "2022-06-06T11:26:03.720Z"
   },
   {
    "duration": 17,
    "start_time": "2022-06-06T11:26:03.863Z"
   },
   {
    "duration": 11,
    "start_time": "2022-06-06T11:26:03.881Z"
   },
   {
    "duration": 17,
    "start_time": "2022-06-06T11:26:03.894Z"
   },
   {
    "duration": 8,
    "start_time": "2022-06-06T11:26:03.913Z"
   },
   {
    "duration": 17,
    "start_time": "2022-06-06T11:26:03.922Z"
   },
   {
    "duration": 17,
    "start_time": "2022-06-06T11:26:03.941Z"
   },
   {
    "duration": 19,
    "start_time": "2022-06-06T11:26:03.966Z"
   },
   {
    "duration": 1628,
    "start_time": "2022-06-06T11:26:03.987Z"
   },
   {
    "duration": 4,
    "start_time": "2022-06-06T11:26:29.715Z"
   },
   {
    "duration": 8,
    "start_time": "2022-06-06T11:26:30.400Z"
   },
   {
    "duration": 10,
    "start_time": "2022-06-06T11:26:30.558Z"
   },
   {
    "duration": 8,
    "start_time": "2022-06-06T11:26:30.708Z"
   },
   {
    "duration": 2883,
    "start_time": "2022-06-06T11:26:30.980Z"
   },
   {
    "duration": 3081,
    "start_time": "2022-06-06T11:27:00.713Z"
   },
   {
    "duration": 4,
    "start_time": "2022-06-06T11:27:05.102Z"
   },
   {
    "duration": 9,
    "start_time": "2022-06-06T11:27:05.299Z"
   },
   {
    "duration": 10,
    "start_time": "2022-06-06T11:27:05.450Z"
   },
   {
    "duration": 8,
    "start_time": "2022-06-06T11:27:05.606Z"
   },
   {
    "duration": 1481,
    "start_time": "2022-06-06T11:27:05.789Z"
   },
   {
    "duration": 135,
    "start_time": "2022-06-06T11:27:29.826Z"
   },
   {
    "duration": 7,
    "start_time": "2022-06-06T11:27:36.481Z"
   },
   {
    "duration": 9,
    "start_time": "2022-06-06T11:27:36.627Z"
   },
   {
    "duration": 8,
    "start_time": "2022-06-06T11:27:36.790Z"
   },
   {
    "duration": 10,
    "start_time": "2022-06-06T11:27:36.964Z"
   },
   {
    "duration": 1386,
    "start_time": "2022-06-06T11:27:37.355Z"
   },
   {
    "duration": 4,
    "start_time": "2022-06-06T11:27:59.906Z"
   },
   {
    "duration": 7,
    "start_time": "2022-06-06T11:28:00.214Z"
   },
   {
    "duration": 9,
    "start_time": "2022-06-06T11:28:00.394Z"
   },
   {
    "duration": 7,
    "start_time": "2022-06-06T11:28:00.567Z"
   },
   {
    "duration": 20,
    "start_time": "2022-06-06T11:28:00.803Z"
   },
   {
    "duration": 16,
    "start_time": "2022-06-06T11:28:03.874Z"
   },
   {
    "duration": 7,
    "start_time": "2022-06-06T11:28:05.750Z"
   },
   {
    "duration": 11,
    "start_time": "2022-06-06T11:28:05.947Z"
   },
   {
    "duration": 6,
    "start_time": "2022-06-06T11:28:06.110Z"
   },
   {
    "duration": 8,
    "start_time": "2022-06-06T11:28:06.298Z"
   },
   {
    "duration": 22,
    "start_time": "2022-06-06T11:28:06.514Z"
   },
   {
    "duration": 1461,
    "start_time": "2022-06-06T11:28:08.667Z"
   },
   {
    "duration": 6,
    "start_time": "2022-06-06T11:28:14.987Z"
   },
   {
    "duration": 7,
    "start_time": "2022-06-06T11:28:18.113Z"
   },
   {
    "duration": 5,
    "start_time": "2022-06-06T11:28:25.724Z"
   },
   {
    "duration": 8,
    "start_time": "2022-06-06T11:28:28.669Z"
   },
   {
    "duration": 7,
    "start_time": "2022-06-06T11:28:30.402Z"
   },
   {
    "duration": 162,
    "start_time": "2022-06-06T11:29:02.088Z"
   },
   {
    "duration": 33,
    "start_time": "2022-06-06T11:29:05.180Z"
   },
   {
    "duration": 28,
    "start_time": "2022-06-06T11:29:27.461Z"
   },
   {
    "duration": 7,
    "start_time": "2022-06-06T11:29:40.367Z"
   },
   {
    "duration": 5,
    "start_time": "2022-06-06T11:29:47.607Z"
   },
   {
    "duration": 57,
    "start_time": "2022-06-06T11:30:05.881Z"
   },
   {
    "duration": 11,
    "start_time": "2022-06-06T11:30:08.649Z"
   },
   {
    "duration": 26,
    "start_time": "2022-06-06T11:30:22.392Z"
   },
   {
    "duration": 28,
    "start_time": "2022-06-06T11:30:46.100Z"
   },
   {
    "duration": 15,
    "start_time": "2022-06-06T11:31:25.443Z"
   },
   {
    "duration": 18,
    "start_time": "2022-06-06T11:31:30.156Z"
   },
   {
    "duration": 17,
    "start_time": "2022-06-06T11:31:42.423Z"
   },
   {
    "duration": 33,
    "start_time": "2022-06-06T11:31:45.447Z"
   },
   {
    "duration": 6,
    "start_time": "2022-06-06T11:31:59.649Z"
   },
   {
    "duration": 11,
    "start_time": "2022-06-06T11:31:59.926Z"
   },
   {
    "duration": 11,
    "start_time": "2022-06-06T11:32:00.118Z"
   },
   {
    "duration": 12,
    "start_time": "2022-06-06T11:32:00.269Z"
   },
   {
    "duration": 25,
    "start_time": "2022-06-06T11:32:00.420Z"
   },
   {
    "duration": 21,
    "start_time": "2022-06-06T11:32:09.637Z"
   },
   {
    "duration": 3878,
    "start_time": "2022-06-06T11:40:57.574Z"
   },
   {
    "duration": 3,
    "start_time": "2022-06-06T11:41:28.631Z"
   },
   {
    "duration": 8,
    "start_time": "2022-06-06T11:41:28.837Z"
   },
   {
    "duration": 8,
    "start_time": "2022-06-06T11:41:29.009Z"
   },
   {
    "duration": 7,
    "start_time": "2022-06-06T11:41:29.219Z"
   },
   {
    "duration": 3738,
    "start_time": "2022-06-06T11:41:29.417Z"
   },
   {
    "duration": 4,
    "start_time": "2022-06-06T11:41:37.782Z"
   },
   {
    "duration": 7,
    "start_time": "2022-06-06T11:41:37.978Z"
   },
   {
    "duration": 8,
    "start_time": "2022-06-06T11:41:38.173Z"
   },
   {
    "duration": 7,
    "start_time": "2022-06-06T11:41:38.359Z"
   },
   {
    "duration": 1385,
    "start_time": "2022-06-06T11:41:38.577Z"
   },
   {
    "duration": 1383,
    "start_time": "2022-06-06T11:41:48.050Z"
   },
   {
    "duration": 35,
    "start_time": "2022-06-06T12:03:49.146Z"
   },
   {
    "duration": 4,
    "start_time": "2022-06-06T12:04:18.807Z"
   },
   {
    "duration": 5,
    "start_time": "2022-06-06T12:10:26.280Z"
   },
   {
    "duration": 5,
    "start_time": "2022-06-06T12:10:55.408Z"
   },
   {
    "duration": 4,
    "start_time": "2022-06-06T12:11:27.587Z"
   },
   {
    "duration": 4,
    "start_time": "2022-06-06T12:11:33.593Z"
   },
   {
    "duration": 891,
    "start_time": "2022-06-06T12:12:25.593Z"
   },
   {
    "duration": 390,
    "start_time": "2022-06-06T12:12:26.486Z"
   },
   {
    "duration": 76,
    "start_time": "2022-06-06T12:12:26.878Z"
   },
   {
    "duration": 147,
    "start_time": "2022-06-06T12:12:26.956Z"
   },
   {
    "duration": 48,
    "start_time": "2022-06-06T12:12:27.105Z"
   },
   {
    "duration": 36,
    "start_time": "2022-06-06T12:12:27.154Z"
   },
   {
    "duration": 55,
    "start_time": "2022-06-06T12:12:27.191Z"
   },
   {
    "duration": 34,
    "start_time": "2022-06-06T12:12:27.248Z"
   },
   {
    "duration": 4,
    "start_time": "2022-06-06T12:12:27.283Z"
   },
   {
    "duration": 12,
    "start_time": "2022-06-06T12:12:27.289Z"
   },
   {
    "duration": 138,
    "start_time": "2022-06-06T12:12:27.303Z"
   },
   {
    "duration": 6,
    "start_time": "2022-06-06T12:12:27.443Z"
   },
   {
    "duration": 110,
    "start_time": "2022-06-06T12:12:27.451Z"
   },
   {
    "duration": 80,
    "start_time": "2022-06-06T12:12:27.562Z"
   },
   {
    "duration": 4,
    "start_time": "2022-06-06T12:12:27.645Z"
   },
   {
    "duration": 104,
    "start_time": "2022-06-06T12:12:27.651Z"
   },
   {
    "duration": 16,
    "start_time": "2022-06-06T12:12:27.757Z"
   },
   {
    "duration": 289,
    "start_time": "2022-06-06T12:12:27.775Z"
   },
   {
    "duration": 0,
    "start_time": "2022-06-06T12:12:28.066Z"
   },
   {
    "duration": 0,
    "start_time": "2022-06-06T12:12:28.068Z"
   },
   {
    "duration": 0,
    "start_time": "2022-06-06T12:12:28.069Z"
   },
   {
    "duration": 0,
    "start_time": "2022-06-06T12:12:28.070Z"
   },
   {
    "duration": 0,
    "start_time": "2022-06-06T12:12:28.071Z"
   },
   {
    "duration": 0,
    "start_time": "2022-06-06T12:12:28.073Z"
   },
   {
    "duration": 0,
    "start_time": "2022-06-06T12:12:28.074Z"
   },
   {
    "duration": 0,
    "start_time": "2022-06-06T12:12:28.075Z"
   },
   {
    "duration": 0,
    "start_time": "2022-06-06T12:12:28.076Z"
   },
   {
    "duration": 0,
    "start_time": "2022-06-06T12:12:28.077Z"
   },
   {
    "duration": 0,
    "start_time": "2022-06-06T12:12:28.078Z"
   },
   {
    "duration": 901,
    "start_time": "2022-06-06T12:12:57.968Z"
   },
   {
    "duration": 385,
    "start_time": "2022-06-06T12:12:58.871Z"
   },
   {
    "duration": 73,
    "start_time": "2022-06-06T12:12:59.258Z"
   },
   {
    "duration": 143,
    "start_time": "2022-06-06T12:12:59.342Z"
   },
   {
    "duration": 43,
    "start_time": "2022-06-06T12:12:59.487Z"
   },
   {
    "duration": 44,
    "start_time": "2022-06-06T12:12:59.542Z"
   },
   {
    "duration": 58,
    "start_time": "2022-06-06T12:12:59.588Z"
   },
   {
    "duration": 36,
    "start_time": "2022-06-06T12:12:59.649Z"
   },
   {
    "duration": 5,
    "start_time": "2022-06-06T12:12:59.687Z"
   },
   {
    "duration": 14,
    "start_time": "2022-06-06T12:12:59.696Z"
   },
   {
    "duration": 25,
    "start_time": "2022-06-06T12:12:59.741Z"
   },
   {
    "duration": 98,
    "start_time": "2022-06-06T12:12:59.843Z"
   },
   {
    "duration": 15,
    "start_time": "2022-06-06T12:12:59.943Z"
   },
   {
    "duration": 85,
    "start_time": "2022-06-06T12:12:59.960Z"
   },
   {
    "duration": 7,
    "start_time": "2022-06-06T12:13:00.047Z"
   },
   {
    "duration": 28,
    "start_time": "2022-06-06T12:13:00.142Z"
   },
   {
    "duration": 28,
    "start_time": "2022-06-06T12:13:00.172Z"
   },
   {
    "duration": 5,
    "start_time": "2022-06-06T12:13:00.243Z"
   },
   {
    "duration": 114,
    "start_time": "2022-06-06T12:13:00.250Z"
   },
   {
    "duration": 17,
    "start_time": "2022-06-06T12:13:00.366Z"
   },
   {
    "duration": 12,
    "start_time": "2022-06-06T12:13:00.385Z"
   },
   {
    "duration": 13,
    "start_time": "2022-06-06T12:13:00.399Z"
   },
   {
    "duration": 11,
    "start_time": "2022-06-06T12:13:00.414Z"
   },
   {
    "duration": 29,
    "start_time": "2022-06-06T12:13:00.427Z"
   },
   {
    "duration": 28,
    "start_time": "2022-06-06T12:13:00.458Z"
   },
   {
    "duration": 48,
    "start_time": "2022-06-06T12:13:00.488Z"
   },
   {
    "duration": 40,
    "start_time": "2022-06-06T12:13:00.538Z"
   },
   {
    "duration": 11,
    "start_time": "2022-06-06T12:13:00.583Z"
   },
   {
    "duration": 4078,
    "start_time": "2022-06-06T12:13:00.596Z"
   },
   {
    "duration": 12,
    "start_time": "2022-06-06T12:22:20.630Z"
   },
   {
    "duration": 9,
    "start_time": "2022-06-06T12:22:52.085Z"
   },
   {
    "duration": 25,
    "start_time": "2022-06-06T12:23:14.607Z"
   },
   {
    "duration": 4,
    "start_time": "2022-06-06T12:27:07.291Z"
   },
   {
    "duration": 4,
    "start_time": "2022-06-06T12:27:32.627Z"
   },
   {
    "duration": 4,
    "start_time": "2022-06-06T12:27:47.254Z"
   },
   {
    "duration": 886,
    "start_time": "2022-06-06T12:31:55.211Z"
   },
   {
    "duration": 399,
    "start_time": "2022-06-06T12:31:56.099Z"
   },
   {
    "duration": 85,
    "start_time": "2022-06-06T12:31:56.500Z"
   },
   {
    "duration": 149,
    "start_time": "2022-06-06T12:31:56.587Z"
   },
   {
    "duration": 39,
    "start_time": "2022-06-06T12:31:56.738Z"
   },
   {
    "duration": 38,
    "start_time": "2022-06-06T12:31:56.779Z"
   },
   {
    "duration": 69,
    "start_time": "2022-06-06T12:31:56.818Z"
   },
   {
    "duration": 55,
    "start_time": "2022-06-06T12:31:56.889Z"
   },
   {
    "duration": 6,
    "start_time": "2022-06-06T12:31:56.946Z"
   },
   {
    "duration": 9,
    "start_time": "2022-06-06T12:31:56.955Z"
   },
   {
    "duration": 16,
    "start_time": "2022-06-06T12:31:56.966Z"
   },
   {
    "duration": 64,
    "start_time": "2022-06-06T12:31:56.984Z"
   },
   {
    "duration": 92,
    "start_time": "2022-06-06T12:31:57.050Z"
   },
   {
    "duration": 16,
    "start_time": "2022-06-06T12:31:57.143Z"
   },
   {
    "duration": 82,
    "start_time": "2022-06-06T12:31:57.161Z"
   },
   {
    "duration": 6,
    "start_time": "2022-06-06T12:31:57.245Z"
   },
   {
    "duration": 14,
    "start_time": "2022-06-06T12:31:57.342Z"
   },
   {
    "duration": 18,
    "start_time": "2022-06-06T12:31:57.357Z"
   },
   {
    "duration": 66,
    "start_time": "2022-06-06T12:31:57.377Z"
   },
   {
    "duration": 104,
    "start_time": "2022-06-06T12:31:57.445Z"
   },
   {
    "duration": 6,
    "start_time": "2022-06-06T12:31:57.551Z"
   },
   {
    "duration": 6,
    "start_time": "2022-06-06T12:31:57.558Z"
   },
   {
    "duration": 6,
    "start_time": "2022-06-06T12:31:57.565Z"
   },
   {
    "duration": 8,
    "start_time": "2022-06-06T12:31:57.572Z"
   },
   {
    "duration": 8,
    "start_time": "2022-06-06T12:31:57.582Z"
   },
   {
    "duration": 5,
    "start_time": "2022-06-06T12:31:57.592Z"
   },
   {
    "duration": 46,
    "start_time": "2022-06-06T12:31:57.599Z"
   },
   {
    "duration": 9,
    "start_time": "2022-06-06T12:31:57.648Z"
   },
   {
    "duration": 8,
    "start_time": "2022-06-06T12:31:57.659Z"
   },
   {
    "duration": 4181,
    "start_time": "2022-06-06T12:31:57.668Z"
   },
   {
    "duration": 4,
    "start_time": "2022-06-06T12:38:10.653Z"
   },
   {
    "duration": 966,
    "start_time": "2022-06-06T12:41:31.207Z"
   },
   {
    "duration": 391,
    "start_time": "2022-06-06T12:41:32.175Z"
   },
   {
    "duration": 83,
    "start_time": "2022-06-06T12:41:32.568Z"
   },
   {
    "duration": 138,
    "start_time": "2022-06-06T12:41:32.653Z"
   },
   {
    "duration": 49,
    "start_time": "2022-06-06T12:41:32.792Z"
   },
   {
    "duration": 36,
    "start_time": "2022-06-06T12:41:32.843Z"
   },
   {
    "duration": 35,
    "start_time": "2022-06-06T12:41:32.881Z"
   },
   {
    "duration": 61,
    "start_time": "2022-06-06T12:41:32.917Z"
   },
   {
    "duration": 3,
    "start_time": "2022-06-06T12:41:32.980Z"
   },
   {
    "duration": 12,
    "start_time": "2022-06-06T12:41:32.986Z"
   },
   {
    "duration": 48,
    "start_time": "2022-06-06T12:41:32.999Z"
   },
   {
    "duration": 96,
    "start_time": "2022-06-06T12:41:33.049Z"
   },
   {
    "duration": 15,
    "start_time": "2022-06-06T12:41:33.148Z"
   },
   {
    "duration": 21,
    "start_time": "2022-06-06T12:41:33.165Z"
   },
   {
    "duration": 7,
    "start_time": "2022-06-06T12:41:33.243Z"
   },
   {
    "duration": 107,
    "start_time": "2022-06-06T12:41:33.252Z"
   },
   {
    "duration": 17,
    "start_time": "2022-06-06T12:41:33.360Z"
   },
   {
    "duration": 99,
    "start_time": "2022-06-06T12:41:33.443Z"
   },
   {
    "duration": 5,
    "start_time": "2022-06-06T12:41:33.544Z"
   },
   {
    "duration": 9,
    "start_time": "2022-06-06T12:41:33.550Z"
   },
   {
    "duration": 6,
    "start_time": "2022-06-06T12:41:33.560Z"
   },
   {
    "duration": 6,
    "start_time": "2022-06-06T12:41:33.567Z"
   },
   {
    "duration": 5,
    "start_time": "2022-06-06T12:41:33.574Z"
   },
   {
    "duration": 15,
    "start_time": "2022-06-06T12:41:33.580Z"
   },
   {
    "duration": 45,
    "start_time": "2022-06-06T12:41:33.596Z"
   },
   {
    "duration": 9,
    "start_time": "2022-06-06T12:41:33.643Z"
   },
   {
    "duration": 3940,
    "start_time": "2022-06-06T12:41:33.654Z"
   },
   {
    "duration": 4576,
    "start_time": "2022-06-06T12:41:56.806Z"
   },
   {
    "duration": 3922,
    "start_time": "2022-06-06T12:42:09.626Z"
   },
   {
    "duration": 944,
    "start_time": "2022-06-06T12:42:36.153Z"
   },
   {
    "duration": 398,
    "start_time": "2022-06-06T12:42:37.098Z"
   },
   {
    "duration": 80,
    "start_time": "2022-06-06T12:42:37.498Z"
   },
   {
    "duration": 142,
    "start_time": "2022-06-06T12:42:37.580Z"
   },
   {
    "duration": 45,
    "start_time": "2022-06-06T12:42:37.725Z"
   },
   {
    "duration": 41,
    "start_time": "2022-06-06T12:42:37.772Z"
   },
   {
    "duration": 71,
    "start_time": "2022-06-06T12:42:37.815Z"
   },
   {
    "duration": 59,
    "start_time": "2022-06-06T12:42:37.888Z"
   },
   {
    "duration": 5,
    "start_time": "2022-06-06T12:42:37.949Z"
   },
   {
    "duration": 18,
    "start_time": "2022-06-06T12:42:37.956Z"
   },
   {
    "duration": 67,
    "start_time": "2022-06-06T12:42:37.976Z"
   },
   {
    "duration": 6,
    "start_time": "2022-06-06T12:42:38.045Z"
   },
   {
    "duration": 113,
    "start_time": "2022-06-06T12:42:38.053Z"
   },
   {
    "duration": 17,
    "start_time": "2022-06-06T12:42:38.169Z"
   },
   {
    "duration": 59,
    "start_time": "2022-06-06T12:42:38.188Z"
   },
   {
    "duration": 106,
    "start_time": "2022-06-06T12:42:38.250Z"
   },
   {
    "duration": 17,
    "start_time": "2022-06-06T12:42:38.358Z"
   },
   {
    "duration": 67,
    "start_time": "2022-06-06T12:42:38.377Z"
   },
   {
    "duration": 105,
    "start_time": "2022-06-06T12:42:38.446Z"
   },
   {
    "duration": 4,
    "start_time": "2022-06-06T12:42:38.553Z"
   },
   {
    "duration": 6,
    "start_time": "2022-06-06T12:42:38.559Z"
   },
   {
    "duration": 6,
    "start_time": "2022-06-06T12:42:38.566Z"
   },
   {
    "duration": 5,
    "start_time": "2022-06-06T12:42:38.573Z"
   },
   {
    "duration": 14,
    "start_time": "2022-06-06T12:42:38.580Z"
   },
   {
    "duration": 11,
    "start_time": "2022-06-06T12:42:38.595Z"
   },
   {
    "duration": 9,
    "start_time": "2022-06-06T12:42:38.641Z"
   },
   {
    "duration": 3874,
    "start_time": "2022-06-06T12:42:38.652Z"
   },
   {
    "duration": 896,
    "start_time": "2022-06-06T12:53:21.808Z"
   },
   {
    "duration": 389,
    "start_time": "2022-06-06T12:53:22.706Z"
   },
   {
    "duration": 75,
    "start_time": "2022-06-06T12:53:23.096Z"
   },
   {
    "duration": 140,
    "start_time": "2022-06-06T12:53:23.173Z"
   },
   {
    "duration": 47,
    "start_time": "2022-06-06T12:53:23.314Z"
   },
   {
    "duration": 35,
    "start_time": "2022-06-06T12:53:23.363Z"
   },
   {
    "duration": 52,
    "start_time": "2022-06-06T12:53:23.399Z"
   },
   {
    "duration": 35,
    "start_time": "2022-06-06T12:53:23.453Z"
   },
   {
    "duration": 4,
    "start_time": "2022-06-06T12:53:23.489Z"
   },
   {
    "duration": 17,
    "start_time": "2022-06-06T12:53:23.496Z"
   },
   {
    "duration": 126,
    "start_time": "2022-06-06T12:53:23.515Z"
   },
   {
    "duration": 6,
    "start_time": "2022-06-06T12:53:23.644Z"
   },
   {
    "duration": 16,
    "start_time": "2022-06-06T12:53:23.742Z"
   },
   {
    "duration": 15,
    "start_time": "2022-06-06T12:53:23.760Z"
   },
   {
    "duration": 68,
    "start_time": "2022-06-06T12:53:23.778Z"
   },
   {
    "duration": 109,
    "start_time": "2022-06-06T12:53:23.849Z"
   },
   {
    "duration": 15,
    "start_time": "2022-06-06T12:53:23.959Z"
   },
   {
    "duration": 160,
    "start_time": "2022-06-06T12:53:23.980Z"
   },
   {
    "duration": 7,
    "start_time": "2022-06-06T12:53:24.143Z"
   },
   {
    "duration": 5,
    "start_time": "2022-06-06T12:53:24.153Z"
   },
   {
    "duration": 6,
    "start_time": "2022-06-06T12:53:24.160Z"
   },
   {
    "duration": 7,
    "start_time": "2022-06-06T12:53:24.168Z"
   },
   {
    "duration": 4,
    "start_time": "2022-06-06T12:53:24.177Z"
   },
   {
    "duration": 11,
    "start_time": "2022-06-06T12:53:24.182Z"
   },
   {
    "duration": 53,
    "start_time": "2022-06-06T12:53:24.195Z"
   },
   {
    "duration": 8,
    "start_time": "2022-06-06T12:53:24.250Z"
   },
   {
    "duration": 4015,
    "start_time": "2022-06-06T12:53:24.260Z"
   },
   {
    "duration": 979,
    "start_time": "2022-06-06T12:53:45.607Z"
   },
   {
    "duration": 402,
    "start_time": "2022-06-06T12:53:46.588Z"
   },
   {
    "duration": 75,
    "start_time": "2022-06-06T12:53:46.992Z"
   },
   {
    "duration": 148,
    "start_time": "2022-06-06T12:53:47.069Z"
   },
   {
    "duration": 52,
    "start_time": "2022-06-06T12:53:47.219Z"
   },
   {
    "duration": 36,
    "start_time": "2022-06-06T12:53:47.272Z"
   },
   {
    "duration": 54,
    "start_time": "2022-06-06T12:53:47.310Z"
   },
   {
    "duration": 35,
    "start_time": "2022-06-06T12:53:47.366Z"
   },
   {
    "duration": 13,
    "start_time": "2022-06-06T12:53:47.403Z"
   },
   {
    "duration": 30,
    "start_time": "2022-06-06T12:53:47.419Z"
   },
   {
    "duration": 89,
    "start_time": "2022-06-06T12:53:47.451Z"
   },
   {
    "duration": 101,
    "start_time": "2022-06-06T12:53:47.543Z"
   },
   {
    "duration": 31,
    "start_time": "2022-06-06T12:53:47.646Z"
   },
   {
    "duration": 35,
    "start_time": "2022-06-06T12:53:47.678Z"
   },
   {
    "duration": 103,
    "start_time": "2022-06-06T12:53:47.742Z"
   },
   {
    "duration": 43,
    "start_time": "2022-06-06T12:53:47.847Z"
   },
   {
    "duration": 53,
    "start_time": "2022-06-06T12:53:47.893Z"
   },
   {
    "duration": 201,
    "start_time": "2022-06-06T12:53:47.949Z"
   },
   {
    "duration": 52,
    "start_time": "2022-06-06T12:53:48.152Z"
   },
   {
    "duration": 37,
    "start_time": "2022-06-06T12:53:48.206Z"
   },
   {
    "duration": 30,
    "start_time": "2022-06-06T12:53:48.244Z"
   },
   {
    "duration": 30,
    "start_time": "2022-06-06T12:53:48.275Z"
   },
   {
    "duration": 27,
    "start_time": "2022-06-06T12:53:48.306Z"
   },
   {
    "duration": 32,
    "start_time": "2022-06-06T12:53:48.335Z"
   },
   {
    "duration": 28,
    "start_time": "2022-06-06T12:53:48.369Z"
   },
   {
    "duration": 33,
    "start_time": "2022-06-06T12:53:48.399Z"
   },
   {
    "duration": 3901,
    "start_time": "2022-06-06T12:53:48.434Z"
   },
   {
    "duration": 4,
    "start_time": "2022-06-06T12:54:40.494Z"
   },
   {
    "duration": 25,
    "start_time": "2022-06-06T12:58:09.641Z"
   },
   {
    "duration": 75,
    "start_time": "2022-06-06T12:58:32.379Z"
   },
   {
    "duration": 2,
    "start_time": "2022-06-06T13:01:20.509Z"
   },
   {
    "duration": 917,
    "start_time": "2022-06-06T13:02:13.454Z"
   },
   {
    "duration": 403,
    "start_time": "2022-06-06T13:02:14.373Z"
   },
   {
    "duration": 82,
    "start_time": "2022-06-06T13:02:14.777Z"
   },
   {
    "duration": 150,
    "start_time": "2022-06-06T13:02:14.861Z"
   },
   {
    "duration": 58,
    "start_time": "2022-06-06T13:02:15.014Z"
   },
   {
    "duration": 38,
    "start_time": "2022-06-06T13:02:15.074Z"
   },
   {
    "duration": 54,
    "start_time": "2022-06-06T13:02:15.114Z"
   },
   {
    "duration": 35,
    "start_time": "2022-06-06T13:02:15.170Z"
   },
   {
    "duration": 4,
    "start_time": "2022-06-06T13:02:15.206Z"
   },
   {
    "duration": 37,
    "start_time": "2022-06-06T13:02:15.213Z"
   },
   {
    "duration": 17,
    "start_time": "2022-06-06T13:02:15.252Z"
   },
   {
    "duration": 78,
    "start_time": "2022-06-06T13:02:15.270Z"
   },
   {
    "duration": 18,
    "start_time": "2022-06-06T13:02:15.440Z"
   },
   {
    "duration": 17,
    "start_time": "2022-06-06T13:02:15.460Z"
   },
   {
    "duration": 65,
    "start_time": "2022-06-06T13:02:15.479Z"
   },
   {
    "duration": 126,
    "start_time": "2022-06-06T13:02:15.546Z"
   },
   {
    "duration": 32,
    "start_time": "2022-06-06T13:02:15.674Z"
   },
   {
    "duration": 6,
    "start_time": "2022-06-06T13:02:15.744Z"
   },
   {
    "duration": 102,
    "start_time": "2022-06-06T13:02:15.751Z"
   },
   {
    "duration": 6,
    "start_time": "2022-06-06T13:02:15.856Z"
   },
   {
    "duration": 6,
    "start_time": "2022-06-06T13:02:15.863Z"
   },
   {
    "duration": 8,
    "start_time": "2022-06-06T13:02:15.871Z"
   },
   {
    "duration": 6,
    "start_time": "2022-06-06T13:02:15.880Z"
   },
   {
    "duration": 16,
    "start_time": "2022-06-06T13:02:15.887Z"
   },
   {
    "duration": 8,
    "start_time": "2022-06-06T13:02:15.904Z"
   },
   {
    "duration": 34,
    "start_time": "2022-06-06T13:02:15.913Z"
   },
   {
    "duration": 4206,
    "start_time": "2022-06-06T13:02:15.949Z"
   },
   {
    "duration": 894,
    "start_time": "2022-06-06T13:03:12.500Z"
   },
   {
    "duration": 396,
    "start_time": "2022-06-06T13:03:13.396Z"
   },
   {
    "duration": 74,
    "start_time": "2022-06-06T13:03:13.794Z"
   },
   {
    "duration": 142,
    "start_time": "2022-06-06T13:03:13.870Z"
   },
   {
    "duration": 51,
    "start_time": "2022-06-06T13:03:14.014Z"
   },
   {
    "duration": 37,
    "start_time": "2022-06-06T13:03:14.067Z"
   },
   {
    "duration": 60,
    "start_time": "2022-06-06T13:03:14.106Z"
   },
   {
    "duration": 34,
    "start_time": "2022-06-06T13:03:14.168Z"
   },
   {
    "duration": 5,
    "start_time": "2022-06-06T13:03:14.204Z"
   },
   {
    "duration": 38,
    "start_time": "2022-06-06T13:03:14.211Z"
   },
   {
    "duration": 19,
    "start_time": "2022-06-06T13:03:14.251Z"
   },
   {
    "duration": 97,
    "start_time": "2022-06-06T13:03:14.345Z"
   },
   {
    "duration": 18,
    "start_time": "2022-06-06T13:03:14.444Z"
   },
   {
    "duration": 81,
    "start_time": "2022-06-06T13:03:14.464Z"
   },
   {
    "duration": 94,
    "start_time": "2022-06-06T13:03:14.547Z"
   },
   {
    "duration": 16,
    "start_time": "2022-06-06T13:03:14.643Z"
   },
   {
    "duration": 85,
    "start_time": "2022-06-06T13:03:14.661Z"
   },
   {
    "duration": 94,
    "start_time": "2022-06-06T13:03:14.748Z"
   },
   {
    "duration": 5,
    "start_time": "2022-06-06T13:03:14.844Z"
   },
   {
    "duration": 7,
    "start_time": "2022-06-06T13:03:14.851Z"
   },
   {
    "duration": 4,
    "start_time": "2022-06-06T13:03:14.860Z"
   },
   {
    "duration": 11,
    "start_time": "2022-06-06T13:03:14.866Z"
   },
   {
    "duration": 6,
    "start_time": "2022-06-06T13:03:14.878Z"
   },
   {
    "duration": 10,
    "start_time": "2022-06-06T13:03:14.885Z"
   },
   {
    "duration": 46,
    "start_time": "2022-06-06T13:03:14.897Z"
   },
   {
    "duration": 14,
    "start_time": "2022-06-06T13:03:14.945Z"
   },
   {
    "duration": 3947,
    "start_time": "2022-06-06T13:03:14.961Z"
   },
   {
    "duration": 893,
    "start_time": "2022-06-06T13:03:43.692Z"
   },
   {
    "duration": 391,
    "start_time": "2022-06-06T13:03:44.587Z"
   },
   {
    "duration": 83,
    "start_time": "2022-06-06T13:03:44.980Z"
   },
   {
    "duration": 145,
    "start_time": "2022-06-06T13:03:45.065Z"
   },
   {
    "duration": 50,
    "start_time": "2022-06-06T13:03:45.211Z"
   },
   {
    "duration": 37,
    "start_time": "2022-06-06T13:03:45.263Z"
   },
   {
    "duration": 67,
    "start_time": "2022-06-06T13:03:45.302Z"
   },
   {
    "duration": 34,
    "start_time": "2022-06-06T13:03:45.371Z"
   },
   {
    "duration": 4,
    "start_time": "2022-06-06T13:03:45.407Z"
   },
   {
    "duration": 35,
    "start_time": "2022-06-06T13:03:45.414Z"
   },
   {
    "duration": 97,
    "start_time": "2022-06-06T13:03:45.451Z"
   },
   {
    "duration": 109,
    "start_time": "2022-06-06T13:03:45.550Z"
   },
   {
    "duration": 31,
    "start_time": "2022-06-06T13:03:45.661Z"
   },
   {
    "duration": 39,
    "start_time": "2022-06-06T13:03:45.693Z"
   },
   {
    "duration": 210,
    "start_time": "2022-06-06T13:03:45.734Z"
   },
   {
    "duration": 29,
    "start_time": "2022-06-06T13:03:45.946Z"
   },
   {
    "duration": 39,
    "start_time": "2022-06-06T13:03:45.976Z"
   },
   {
    "duration": 101,
    "start_time": "2022-06-06T13:03:46.042Z"
   },
   {
    "duration": 31,
    "start_time": "2022-06-06T13:03:46.145Z"
   },
   {
    "duration": 24,
    "start_time": "2022-06-06T13:03:46.178Z"
   },
   {
    "duration": 40,
    "start_time": "2022-06-06T13:03:46.204Z"
   },
   {
    "duration": 41,
    "start_time": "2022-06-06T13:03:46.246Z"
   },
   {
    "duration": 33,
    "start_time": "2022-06-06T13:03:46.288Z"
   },
   {
    "duration": 32,
    "start_time": "2022-06-06T13:03:46.322Z"
   },
   {
    "duration": 33,
    "start_time": "2022-06-06T13:03:46.356Z"
   },
   {
    "duration": 28,
    "start_time": "2022-06-06T13:03:46.391Z"
   },
   {
    "duration": 4048,
    "start_time": "2022-06-06T13:03:46.421Z"
   },
   {
    "duration": 1010,
    "start_time": "2022-11-11T18:38:33.389Z"
   },
   {
    "duration": 1602,
    "start_time": "2022-11-11T18:38:34.401Z"
   },
   {
    "duration": 19,
    "start_time": "2022-11-11T18:38:36.005Z"
   },
   {
    "duration": 121,
    "start_time": "2022-11-11T18:38:36.026Z"
   },
   {
    "duration": 35,
    "start_time": "2022-11-11T18:38:36.149Z"
   },
   {
    "duration": 51,
    "start_time": "2022-11-11T18:38:36.186Z"
   },
   {
    "duration": 36,
    "start_time": "2022-11-11T18:38:36.238Z"
   },
   {
    "duration": 63,
    "start_time": "2022-11-11T18:38:36.276Z"
   },
   {
    "duration": 5,
    "start_time": "2022-11-11T18:38:36.341Z"
   },
   {
    "duration": 24,
    "start_time": "2022-11-11T18:38:36.349Z"
   },
   {
    "duration": 19,
    "start_time": "2022-11-11T18:38:36.376Z"
   },
   {
    "duration": 5,
    "start_time": "2022-11-11T18:38:36.434Z"
   },
   {
    "duration": 105,
    "start_time": "2022-11-11T18:38:36.441Z"
   },
   {
    "duration": 17,
    "start_time": "2022-11-11T18:38:36.548Z"
   },
   {
    "duration": 95,
    "start_time": "2022-11-11T18:38:36.638Z"
   },
   {
    "duration": 15,
    "start_time": "2022-11-11T18:38:36.735Z"
   },
   {
    "duration": 15,
    "start_time": "2022-11-11T18:38:36.752Z"
   },
   {
    "duration": 67,
    "start_time": "2022-11-11T18:38:36.769Z"
   },
   {
    "duration": 102,
    "start_time": "2022-11-11T18:38:36.839Z"
   },
   {
    "duration": 6,
    "start_time": "2022-11-11T18:38:36.943Z"
   },
   {
    "duration": 6,
    "start_time": "2022-11-11T18:38:36.951Z"
   },
   {
    "duration": 12,
    "start_time": "2022-11-11T18:38:36.958Z"
   },
   {
    "duration": 14,
    "start_time": "2022-11-11T18:38:36.971Z"
   },
   {
    "duration": 15,
    "start_time": "2022-11-11T18:38:36.986Z"
   },
   {
    "duration": 12,
    "start_time": "2022-11-11T18:38:37.002Z"
   },
   {
    "duration": 7,
    "start_time": "2022-11-11T18:38:37.016Z"
   },
   {
    "duration": 3711,
    "start_time": "2022-11-11T18:38:37.033Z"
   },
   {
    "duration": 6,
    "start_time": "2022-11-11T19:49:04.584Z"
   },
   {
    "duration": 379,
    "start_time": "2022-11-11T19:49:11.958Z"
   },
   {
    "duration": 105,
    "start_time": "2022-11-11T19:49:23.484Z"
   },
   {
    "duration": 9,
    "start_time": "2022-11-11T19:49:35.761Z"
   },
   {
    "duration": 10,
    "start_time": "2022-11-11T19:59:34.419Z"
   },
   {
    "duration": 10,
    "start_time": "2022-11-11T19:59:52.526Z"
   },
   {
    "duration": 9,
    "start_time": "2022-11-11T19:59:53.519Z"
   },
   {
    "duration": 3,
    "start_time": "2022-11-11T20:01:33.469Z"
   },
   {
    "duration": 4,
    "start_time": "2022-11-11T20:01:48.032Z"
   },
   {
    "duration": 3,
    "start_time": "2022-11-11T20:03:12.595Z"
   },
   {
    "duration": 49,
    "start_time": "2022-11-11T20:03:47.927Z"
   },
   {
    "duration": 13,
    "start_time": "2022-11-11T20:04:07.029Z"
   },
   {
    "duration": 11,
    "start_time": "2022-11-11T20:04:24.364Z"
   },
   {
    "duration": 4,
    "start_time": "2022-11-11T20:05:07.886Z"
   },
   {
    "duration": 4,
    "start_time": "2022-11-11T20:05:40.611Z"
   },
   {
    "duration": 3,
    "start_time": "2022-11-11T20:16:58.360Z"
   },
   {
    "duration": 22,
    "start_time": "2022-11-11T20:17:08.561Z"
   },
   {
    "duration": 8,
    "start_time": "2022-11-11T20:18:05.779Z"
   },
   {
    "duration": 1169,
    "start_time": "2022-11-11T20:20:20.663Z"
   },
   {
    "duration": 379,
    "start_time": "2022-11-11T20:20:21.833Z"
   },
   {
    "duration": 20,
    "start_time": "2022-11-11T20:20:22.213Z"
   },
   {
    "duration": 11,
    "start_time": "2022-11-11T20:20:22.235Z"
   },
   {
    "duration": 12,
    "start_time": "2022-11-11T20:20:22.248Z"
   },
   {
    "duration": 41,
    "start_time": "2022-11-11T20:20:22.262Z"
   },
   {
    "duration": 139,
    "start_time": "2022-11-11T20:20:22.305Z"
   },
   {
    "duration": 37,
    "start_time": "2022-11-11T20:20:22.446Z"
   },
   {
    "duration": 49,
    "start_time": "2022-11-11T20:20:22.484Z"
   },
   {
    "duration": 34,
    "start_time": "2022-11-11T20:20:22.536Z"
   },
   {
    "duration": 4,
    "start_time": "2022-11-11T20:20:22.572Z"
   },
   {
    "duration": 19,
    "start_time": "2022-11-11T20:20:22.577Z"
   },
   {
    "duration": 3,
    "start_time": "2022-11-11T20:20:22.598Z"
   },
   {
    "duration": 40,
    "start_time": "2022-11-11T20:20:22.603Z"
   },
   {
    "duration": 88,
    "start_time": "2022-11-11T20:20:22.645Z"
   },
   {
    "duration": 115,
    "start_time": "2022-11-11T20:20:22.735Z"
   },
   {
    "duration": 3,
    "start_time": "2022-11-11T20:20:22.852Z"
   },
   {
    "duration": 21,
    "start_time": "2022-11-11T20:20:22.857Z"
   },
   {
    "duration": 6,
    "start_time": "2022-11-11T20:20:22.934Z"
   },
   {
    "duration": 117,
    "start_time": "2022-11-11T20:20:22.945Z"
   },
   {
    "duration": 16,
    "start_time": "2022-11-11T20:20:23.063Z"
   },
   {
    "duration": 33,
    "start_time": "2022-11-11T20:20:23.080Z"
   },
   {
    "duration": 20,
    "start_time": "2022-11-11T20:20:23.115Z"
   },
   {
    "duration": 118,
    "start_time": "2022-11-11T20:20:23.137Z"
   },
   {
    "duration": 16,
    "start_time": "2022-11-11T20:20:23.257Z"
   },
   {
    "duration": 20,
    "start_time": "2022-11-11T20:20:23.274Z"
   },
   {
    "duration": 19,
    "start_time": "2022-11-11T20:20:23.296Z"
   },
   {
    "duration": 9,
    "start_time": "2022-11-11T20:20:23.318Z"
   },
   {
    "duration": 28,
    "start_time": "2022-11-11T20:20:23.329Z"
   },
   {
    "duration": 11,
    "start_time": "2022-11-11T20:20:23.359Z"
   },
   {
    "duration": 16,
    "start_time": "2022-11-11T20:20:23.371Z"
   },
   {
    "duration": 3658,
    "start_time": "2022-11-11T20:20:23.389Z"
   }
  ],
  "kernelspec": {
   "display_name": "Python 3 (ipykernel)",
   "language": "python",
   "name": "python3"
  },
  "language_info": {
   "codemirror_mode": {
    "name": "ipython",
    "version": 3
   },
   "file_extension": ".py",
   "mimetype": "text/x-python",
   "name": "python",
   "nbconvert_exporter": "python",
   "pygments_lexer": "ipython3",
   "version": "3.9.12"
  },
  "toc": {
   "base_numbering": 1,
   "nav_menu": {},
   "number_sections": true,
   "sideBar": true,
   "skip_h1_title": true,
   "title_cell": "Table of Contents",
   "title_sidebar": "Contents",
   "toc_cell": false,
   "toc_position": {
    "height": "calc(100% - 180px)",
    "left": "10px",
    "top": "150px",
    "width": "558.203px"
   },
   "toc_section_display": true,
   "toc_window_display": true
  }
 },
 "nbformat": 4,
 "nbformat_minor": 2
}
