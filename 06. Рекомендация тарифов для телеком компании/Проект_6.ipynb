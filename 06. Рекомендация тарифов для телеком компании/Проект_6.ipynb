{
 "cells": [
  {
   "cell_type": "markdown",
   "metadata": {},
   "source": [
    "# Рекомендация тарифов"
   ]
  },
  {
   "cell_type": "markdown",
   "metadata": {},
   "source": [
    "В вашем распоряжении данные о поведении клиентов, которые уже перешли на эти тарифы (из проекта курса «Статистический анализ данных»). Нужно построить модель для задачи классификации, которая выберет подходящий тариф. Предобработка данных не понадобится — вы её уже сделали.\n",
    "\n",
    "Постройте модель с максимально большим значением *accuracy*. Чтобы сдать проект успешно, нужно довести долю правильных ответов по крайней мере до 0.75. Проверьте *accuracy* на тестовой выборке самостоятельно."
   ]
  },
  {
   "cell_type": "markdown",
   "metadata": {},
   "source": [
    "# Описание проекта\n",
    "Оператор мобильной связи «Мегалайн» выяснил: многие клиенты пользуются архивными тарифами. Они хотят построить систему, способную проанализировать поведение клиентов и предложить пользователям новый тариф: «Смарт» или «Ультра».  \n",
    "В вашем распоряжении данные о поведении клиентов, которые уже перешли на эти тарифы (из проекта курса «Статистический анализ данных»). Нужно построить модель для задачи классификации, которая выберет подходящий тариф. Предобработка данных не понадобится — вы её уже сделали.  \n",
    "Постройте модель с максимально большим значением accuracy. Чтобы сдать проект успешно, нужно довести долю правильных ответов по крайней мере до 0.75. Проверьте accuracy на тестовой выборке самостоятельно."
   ]
  },
  {
   "cell_type": "markdown",
   "metadata": {},
   "source": [
    "# Описание данных\n",
    "Каждый объект в наборе данных — это информация о поведении одного пользователя за месяц. Известно:\n",
    "сalls — количество звонков,\n",
    "minutes — суммарная длительность звонков в минутах,\n",
    "messages — количество sms-сообщений,\n",
    "mb_used — израсходованный интернет-трафик в Мб,\n",
    "is_ultra — каким тарифом пользовался в течение месяца («Ультра» — 1, «Смарт» — 0)."
   ]
  },
  {
   "cell_type": "markdown",
   "metadata": {},
   "source": [
    "## Изучение файла"
   ]
  },
  {
   "cell_type": "code",
   "execution_count": 1,
   "metadata": {},
   "outputs": [],
   "source": [
    "import pandas as pd\n",
    "import numpy as np\n",
    "import seaborn as sns\n",
    "import matplotlib.pyplot as plt \n",
    "\n",
    "from sklearn.model_selection import train_test_split,GridSearchCV\n",
    "from sklearn.tree import DecisionTreeClassifier\n",
    "from sklearn.ensemble import RandomForestClassifier\n",
    "from sklearn.linear_model import LogisticRegression\n",
    "from sklearn.metrics import accuracy_score\n",
    "from sklearn.dummy import DummyClassifier\n",
    "\n",
    "from joblib import dump, load\n",
    "\n"
   ]
  },
  {
   "cell_type": "code",
   "execution_count": 2,
   "metadata": {
    "scrolled": true
   },
   "outputs": [
    {
     "data": {
      "text/html": [
       "<div>\n",
       "<style scoped>\n",
       "    .dataframe tbody tr th:only-of-type {\n",
       "        vertical-align: middle;\n",
       "    }\n",
       "\n",
       "    .dataframe tbody tr th {\n",
       "        vertical-align: top;\n",
       "    }\n",
       "\n",
       "    .dataframe thead th {\n",
       "        text-align: right;\n",
       "    }\n",
       "</style>\n",
       "<table border=\"1\" class=\"dataframe\">\n",
       "  <thead>\n",
       "    <tr style=\"text-align: right;\">\n",
       "      <th></th>\n",
       "      <th>calls</th>\n",
       "      <th>minutes</th>\n",
       "      <th>messages</th>\n",
       "      <th>mb_used</th>\n",
       "      <th>is_ultra</th>\n",
       "    </tr>\n",
       "  </thead>\n",
       "  <tbody>\n",
       "    <tr>\n",
       "      <th>0</th>\n",
       "      <td>40.0</td>\n",
       "      <td>311.90</td>\n",
       "      <td>83.0</td>\n",
       "      <td>19915.42</td>\n",
       "      <td>0</td>\n",
       "    </tr>\n",
       "    <tr>\n",
       "      <th>1</th>\n",
       "      <td>85.0</td>\n",
       "      <td>516.75</td>\n",
       "      <td>56.0</td>\n",
       "      <td>22696.96</td>\n",
       "      <td>0</td>\n",
       "    </tr>\n",
       "    <tr>\n",
       "      <th>2</th>\n",
       "      <td>77.0</td>\n",
       "      <td>467.66</td>\n",
       "      <td>86.0</td>\n",
       "      <td>21060.45</td>\n",
       "      <td>0</td>\n",
       "    </tr>\n",
       "    <tr>\n",
       "      <th>3</th>\n",
       "      <td>106.0</td>\n",
       "      <td>745.53</td>\n",
       "      <td>81.0</td>\n",
       "      <td>8437.39</td>\n",
       "      <td>1</td>\n",
       "    </tr>\n",
       "    <tr>\n",
       "      <th>4</th>\n",
       "      <td>66.0</td>\n",
       "      <td>418.74</td>\n",
       "      <td>1.0</td>\n",
       "      <td>14502.75</td>\n",
       "      <td>0</td>\n",
       "    </tr>\n",
       "    <tr>\n",
       "      <th>...</th>\n",
       "      <td>...</td>\n",
       "      <td>...</td>\n",
       "      <td>...</td>\n",
       "      <td>...</td>\n",
       "      <td>...</td>\n",
       "    </tr>\n",
       "    <tr>\n",
       "      <th>3209</th>\n",
       "      <td>122.0</td>\n",
       "      <td>910.98</td>\n",
       "      <td>20.0</td>\n",
       "      <td>35124.90</td>\n",
       "      <td>1</td>\n",
       "    </tr>\n",
       "    <tr>\n",
       "      <th>3210</th>\n",
       "      <td>25.0</td>\n",
       "      <td>190.36</td>\n",
       "      <td>0.0</td>\n",
       "      <td>3275.61</td>\n",
       "      <td>0</td>\n",
       "    </tr>\n",
       "    <tr>\n",
       "      <th>3211</th>\n",
       "      <td>97.0</td>\n",
       "      <td>634.44</td>\n",
       "      <td>70.0</td>\n",
       "      <td>13974.06</td>\n",
       "      <td>0</td>\n",
       "    </tr>\n",
       "    <tr>\n",
       "      <th>3212</th>\n",
       "      <td>64.0</td>\n",
       "      <td>462.32</td>\n",
       "      <td>90.0</td>\n",
       "      <td>31239.78</td>\n",
       "      <td>0</td>\n",
       "    </tr>\n",
       "    <tr>\n",
       "      <th>3213</th>\n",
       "      <td>80.0</td>\n",
       "      <td>566.09</td>\n",
       "      <td>6.0</td>\n",
       "      <td>29480.52</td>\n",
       "      <td>1</td>\n",
       "    </tr>\n",
       "  </tbody>\n",
       "</table>\n",
       "<p>3214 rows × 5 columns</p>\n",
       "</div>"
      ],
      "text/plain": [
       "      calls  minutes  messages   mb_used  is_ultra\n",
       "0      40.0   311.90      83.0  19915.42         0\n",
       "1      85.0   516.75      56.0  22696.96         0\n",
       "2      77.0   467.66      86.0  21060.45         0\n",
       "3     106.0   745.53      81.0   8437.39         1\n",
       "4      66.0   418.74       1.0  14502.75         0\n",
       "...     ...      ...       ...       ...       ...\n",
       "3209  122.0   910.98      20.0  35124.90         1\n",
       "3210   25.0   190.36       0.0   3275.61         0\n",
       "3211   97.0   634.44      70.0  13974.06         0\n",
       "3212   64.0   462.32      90.0  31239.78         0\n",
       "3213   80.0   566.09       6.0  29480.52         1\n",
       "\n",
       "[3214 rows x 5 columns]"
      ]
     },
     "execution_count": 2,
     "metadata": {},
     "output_type": "execute_result"
    }
   ],
   "source": [
    "df = pd.read_csv('/datasets/users_behavior.csv')\n",
    "df"
   ]
  },
  {
   "cell_type": "code",
   "execution_count": 3,
   "metadata": {},
   "outputs": [
    {
     "data": {
      "text/html": [
       "<div>\n",
       "<style scoped>\n",
       "    .dataframe tbody tr th:only-of-type {\n",
       "        vertical-align: middle;\n",
       "    }\n",
       "\n",
       "    .dataframe tbody tr th {\n",
       "        vertical-align: top;\n",
       "    }\n",
       "\n",
       "    .dataframe thead th {\n",
       "        text-align: right;\n",
       "    }\n",
       "</style>\n",
       "<table border=\"1\" class=\"dataframe\">\n",
       "  <thead>\n",
       "    <tr style=\"text-align: right;\">\n",
       "      <th></th>\n",
       "      <th>calls</th>\n",
       "      <th>minutes</th>\n",
       "      <th>messages</th>\n",
       "      <th>mb_used</th>\n",
       "      <th>is_ultra</th>\n",
       "    </tr>\n",
       "  </thead>\n",
       "  <tbody>\n",
       "    <tr>\n",
       "      <th>count</th>\n",
       "      <td>3214.000000</td>\n",
       "      <td>3214.000000</td>\n",
       "      <td>3214.000000</td>\n",
       "      <td>3214.000000</td>\n",
       "      <td>3214.000000</td>\n",
       "    </tr>\n",
       "    <tr>\n",
       "      <th>mean</th>\n",
       "      <td>63.038892</td>\n",
       "      <td>438.208787</td>\n",
       "      <td>38.281269</td>\n",
       "      <td>17207.673836</td>\n",
       "      <td>0.306472</td>\n",
       "    </tr>\n",
       "    <tr>\n",
       "      <th>std</th>\n",
       "      <td>33.236368</td>\n",
       "      <td>234.569872</td>\n",
       "      <td>36.148326</td>\n",
       "      <td>7570.968246</td>\n",
       "      <td>0.461100</td>\n",
       "    </tr>\n",
       "    <tr>\n",
       "      <th>min</th>\n",
       "      <td>0.000000</td>\n",
       "      <td>0.000000</td>\n",
       "      <td>0.000000</td>\n",
       "      <td>0.000000</td>\n",
       "      <td>0.000000</td>\n",
       "    </tr>\n",
       "    <tr>\n",
       "      <th>25%</th>\n",
       "      <td>40.000000</td>\n",
       "      <td>274.575000</td>\n",
       "      <td>9.000000</td>\n",
       "      <td>12491.902500</td>\n",
       "      <td>0.000000</td>\n",
       "    </tr>\n",
       "    <tr>\n",
       "      <th>50%</th>\n",
       "      <td>62.000000</td>\n",
       "      <td>430.600000</td>\n",
       "      <td>30.000000</td>\n",
       "      <td>16943.235000</td>\n",
       "      <td>0.000000</td>\n",
       "    </tr>\n",
       "    <tr>\n",
       "      <th>75%</th>\n",
       "      <td>82.000000</td>\n",
       "      <td>571.927500</td>\n",
       "      <td>57.000000</td>\n",
       "      <td>21424.700000</td>\n",
       "      <td>1.000000</td>\n",
       "    </tr>\n",
       "    <tr>\n",
       "      <th>max</th>\n",
       "      <td>244.000000</td>\n",
       "      <td>1632.060000</td>\n",
       "      <td>224.000000</td>\n",
       "      <td>49745.730000</td>\n",
       "      <td>1.000000</td>\n",
       "    </tr>\n",
       "  </tbody>\n",
       "</table>\n",
       "</div>"
      ],
      "text/plain": [
       "             calls      minutes     messages       mb_used     is_ultra\n",
       "count  3214.000000  3214.000000  3214.000000   3214.000000  3214.000000\n",
       "mean     63.038892   438.208787    38.281269  17207.673836     0.306472\n",
       "std      33.236368   234.569872    36.148326   7570.968246     0.461100\n",
       "min       0.000000     0.000000     0.000000      0.000000     0.000000\n",
       "25%      40.000000   274.575000     9.000000  12491.902500     0.000000\n",
       "50%      62.000000   430.600000    30.000000  16943.235000     0.000000\n",
       "75%      82.000000   571.927500    57.000000  21424.700000     1.000000\n",
       "max     244.000000  1632.060000   224.000000  49745.730000     1.000000"
      ]
     },
     "execution_count": 3,
     "metadata": {},
     "output_type": "execute_result"
    }
   ],
   "source": [
    "df.describe()"
   ]
  },
  {
   "cell_type": "code",
   "execution_count": 4,
   "metadata": {},
   "outputs": [
    {
     "data": {
      "image/png": "[encoded data removed]",
      "text/plain": [
       "<Figure size 432x288 with 1 Axes>"
      ]
     },
     "metadata": {
      "needs_background": "light"
     },
     "output_type": "display_data"
    },
    {
     "name": "stdout",
     "output_type": "stream",
     "text": [
      "Тариф не \"ultra\" 0.693528313627878\n",
      "Тариф \"ultra\" 0.30647168637212197\n"
     ]
    }
   ],
   "source": [
    "sns.countplot(x='is_ultra',data=df,palette='hls')\n",
    "plt.show();\n",
    "print('Тариф не \"ultra\"',(df['is_ultra'] == 0).sum()/len(df))\n",
    "print('Тариф \"ultra\"',(df['is_ultra'] == 1).sum()/len(df))"
   ]
  },
  {
   "cell_type": "markdown",
   "metadata": {},
   "source": [
    "В 69,4% пользователи используют тариф Смарт,и в 30,6% используют тариф Ультра. "
   ]
  },
  {
   "cell_type": "markdown",
   "metadata": {},
   "source": [
    "## Разбейте данные на выборки"
   ]
  },
  {
   "cell_type": "code",
   "execution_count": 5,
   "metadata": {},
   "outputs": [],
   "source": [
    "features = df.drop(['is_ultra'],axis=1)\n",
    "target = df['is_ultra']"
   ]
  },
  {
   "cell_type": "code",
   "execution_count": 6,
   "metadata": {},
   "outputs": [],
   "source": [
    "features_train,features_test_valid,target_train,target_test_valid = train_test_split(features,target,test_size=0.4,random_state=12345,stratify=target)\n",
    "features_test,features_valid,target_test,target_valid = train_test_split(features_test_valid,target_test_valid,test_size = 0.5,random_state = 12345,stratify=target_test_valid)"
   ]
  },
  {
   "cell_type": "code",
   "execution_count": 8,
   "metadata": {},
   "outputs": [
    {
     "data": {
      "text/plain": [
       "(1928, 4)"
      ]
     },
     "execution_count": 8,
     "metadata": {},
     "output_type": "execute_result"
    }
   ],
   "source": [
    "features_train.shape"
   ]
  },
  {
   "cell_type": "code",
   "execution_count": 9,
   "metadata": {},
   "outputs": [
    {
     "data": {
      "text/plain": [
       "(643, 4)"
      ]
     },
     "execution_count": 9,
     "metadata": {},
     "output_type": "execute_result"
    }
   ],
   "source": [
    "features_valid.shape"
   ]
  },
  {
   "cell_type": "code",
   "execution_count": 10,
   "metadata": {},
   "outputs": [
    {
     "data": {
      "text/plain": [
       "(643, 4)"
      ]
     },
     "execution_count": 10,
     "metadata": {},
     "output_type": "execute_result"
    }
   ],
   "source": [
    "features_test.shape"
   ]
  },
  {
   "cell_type": "markdown",
   "metadata": {},
   "source": [
    "## Исследуйте модели"
   ]
  },
  {
   "cell_type": "code",
   "execution_count": 11,
   "metadata": {},
   "outputs": [
    {
     "name": "stdout",
     "output_type": "stream",
     "text": [
      "Лучшая модель: DecisionTreeClassifier(max_depth=5, random_state=12345)\n",
      "Accuracy лучшей  модели на валидационной выборке: 0.8118195956454122\n",
      "Accuracy лучшей модели на обучающей выборке: 0.8874481327800829\n"
     ]
    },
    {
     "data": {
      "image/png": "[encoded data removed]",
      "text/plain": [
       "<Figure size 432x288 with 1 Axes>"
      ]
     },
     "metadata": {
      "needs_background": "light"
     },
     "output_type": "display_data"
    }
   ],
   "source": [
    "result_train_list = []\n",
    "result_valid_list = []\n",
    "best_result = 0\n",
    "best_model = None\n",
    "for depth in range(1,11): #оставлю максимальную глубину деревьев до 10,чтобы видеть график\n",
    "    model = DecisionTreeClassifier(random_state = 12345,max_depth = depth)\n",
    "    model.fit(features_train,target_train)\n",
    "    predictions_valid = model.predict(features_valid)\n",
    "    predictions_train = model.predict(features_train)\n",
    "    result = accuracy_score(target_valid,predictions_valid)\n",
    "    result_train = accuracy_score(target_train,predictions_train)\n",
    "    result_train_list.append(result_train)\n",
    "    result_valid_list.append(result)\n",
    "    if result > best_result:\n",
    "        best_model = model\n",
    "        best_result = result\n",
    "    \n",
    "        \n",
    "plt.plot(result_train_list)\n",
    "plt.plot(result_valid_list)\n",
    "plt.legend(['result_train_list','result_valid_list'])\n",
    "plt.title('DecisionTreeClassifier')\n",
    "\n",
    "print('Лучшая модель:',best_model)\n",
    "\n",
    "print('Accuracy лучшей  модели на валидационной выборке:',best_result)\n",
    "print('Accuracy лучшей модели на обучающей выборке:',result_train)\n",
    "        "
   ]
  },
  {
   "cell_type": "markdown",
   "metadata": {},
   "source": [
    "Лучшая модель: DecisionTreeClassifier(max_depth=5, random_state=12345)\n",
    "Accuracy лучшей  модели на валидационной выборке: 0.8118195956454122\n",
    "Accuracy лучшей модели на обучающей выборке: 0.8137966804979253\n",
    "При параметре max_depth=5,модель хорошо обучена."
   ]
  },
  {
   "cell_type": "code",
   "execution_count": 12,
   "metadata": {},
   "outputs": [
    {
     "name": "stdout",
     "output_type": "stream",
     "text": [
      "1.0\n",
      "0.7247278382581649\n"
     ]
    }
   ],
   "source": [
    "model = DecisionTreeClassifier(random_state = 12345)\n",
    "model.fit(features_train,target_train)\n",
    "predictions_valid = model.predict(features_valid)\n",
    "predictions_train = model.predict(features_train)\n",
    "result = accuracy_score(target_valid,predictions_valid)\n",
    "result_train = accuracy_score(target_train,predictions_train)\n",
    "\n",
    "print(result_train)\n",
    "print(result)"
   ]
  },
  {
   "cell_type": "markdown",
   "metadata": {},
   "source": [
    "Модель по умолчанию находится около max_depth = 20,если изменить параметры в цикле,можно увидеть что если max_depth >20,то график пойдет параллельно друг другу со значениями равными по умолчанию"
   ]
  },
  {
   "cell_type": "code",
   "execution_count": 13,
   "metadata": {},
   "outputs": [
    {
     "name": "stdout",
     "output_type": "stream",
     "text": [
      "Accuracy лучшей  модели на валидационной выборке: 0.8149300155520995\n",
      "Accuracy лучшей модели на обучающей выборке: 0.8241701244813278\n",
      "Лучшая модель: RandomForestClassifier(max_depth=6, n_estimators=3, random_state=12345)\n"
     ]
    },
    {
     "data": {
      "image/png": "[encoded data removed]",
      "text/plain": [
       "<Figure size 432x288 with 1 Axes>"
      ]
     },
     "metadata": {
      "needs_background": "light"
     },
     "output_type": "display_data"
    }
   ],
   "source": [
    "best_result = 0\n",
    "best_model = None\n",
    "for est in range(1,4):\n",
    "    for depth in range (1,7):\n",
    "        model = RandomForestClassifier(random_state = 12345,n_estimators=est,max_depth = depth)\n",
    "        model.fit(features_train,target_train)\n",
    "        result = model.score(features_valid,target_valid)\n",
    "        result_train = model.score(features_train,target_train)\n",
    "        result_valid_list.append(result)\n",
    "        result_train_list.append(result_train)\n",
    "        if result > best_result:\n",
    "            best_model = model\n",
    "            best_result = result\n",
    "            \n",
    "           \n",
    "\n",
    "plt.plot(result_train_list)\n",
    "plt.plot(result_valid_list)\n",
    "plt.legend(['result_train_list','result_valid_list'])\n",
    "plt.title('RandomForestClassifier')\n",
    "print('Accuracy лучшей  модели на валидационной выборке:',best_result)\n",
    "print('Accuracy лучшей модели на обучающей выборке:',result_train)\n",
    "print('Лучшая модель:',best_model)"
   ]
  },
  {
   "cell_type": "markdown",
   "metadata": {},
   "source": [
    "Можно заметить что график в \"Случайном лесе\" не расходится так как \"Дерево решений\"\n",
    "Accuracy лучшей  модели на валидационной выборке: 0.8149300155520995\n",
    "Accuracy лучшей модели на обучающей выборке: 0.8241701244813278\n",
    "Лучшая модель: RandomForestClassifier(max_depth=6, n_estimators=3, random_state=12345)"
   ]
  },
  {
   "cell_type": "code",
   "execution_count": 14,
   "metadata": {},
   "outputs": [
    {
     "name": "stdout",
     "output_type": "stream",
     "text": [
      "0.8180404354587869\n",
      "0.8397302904564315\n"
     ]
    }
   ],
   "source": [
    "model = RandomForestClassifier(random_state = 12345,n_estimators=10,max_depth = 7,min_samples_leaf=2,min_samples_split=8)\n",
    "model.fit(features_train,target_train)\n",
    "result = model.score(features_valid,target_valid)\n",
    "result_train = model.score(features_train,target_train)\n",
    "dump(best_model, 'filename.joblib') \n",
    "print(result)\n",
    "print(result_train)"
   ]
  },
  {
   "cell_type": "markdown",
   "metadata": {},
   "source": [
    "<div class=\"alert alert-info\">\n",
    "<font size=\"5\"><b>Комментарий студента</b></font>\n",
    "    \n",
    "<font > Попробовала GridSearch,не поняла как выбирают параметры и шаги,подскажи пожалуйста)\n",
    "    Результат лучше чем, с подбором по двум параметрам,думаю можно еще лучше,но мой ноут этого не выдержит)\n",
    "    Разница между валидационной и обучающей около 2%,это немного?</b></font>"
   ]
  },
  {
   "cell_type": "code",
   "execution_count": 15,
   "metadata": {},
   "outputs": [
    {
     "name": "stdout",
     "output_type": "stream",
     "text": [
      "Доля правильных ответов на валидационной выборке: 0.7465007776049767\n",
      "Доля правильных ответов на обучающей выборке: 0.75\n"
     ]
    }
   ],
   "source": [
    "model = LogisticRegression(penalty='l1',random_state = 12345,solver='liblinear',max_iter = 1000)\n",
    "model.fit(features_train,target_train)\n",
    "predict = model.predict(features_valid)\n",
    "model.score(features_valid,target_valid)\n",
    "print('Доля правильных ответов на валидационной выборке:',model.score(features_valid,target_valid))\n",
    "print('Доля правильных ответов на обучающей выборке:',model.score(features_train,target_train))"
   ]
  },
  {
   "cell_type": "markdown",
   "metadata": {},
   "source": [
    "## Проверьте модель на тестовой выборке"
   ]
  },
  {
   "cell_type": "code",
   "execution_count": 16,
   "metadata": {},
   "outputs": [
    {
     "name": "stdout",
     "output_type": "stream",
     "text": [
      "0.7947122861586314\n"
     ]
    }
   ],
   "source": [
    "best_model = load('filename.joblib') \n",
    "result = best_model.score(features_test,target_test)\n",
    "print(result)"
   ]
  },
  {
   "cell_type": "markdown",
   "metadata": {},
   "source": [
    "На тестовой выборке модель \"Случайный Лес\" показывает результат - 0.7947122861586314, на валидационной выборке - 0.8180404354587869."
   ]
  },
  {
   "cell_type": "code",
   "execution_count": 17,
   "metadata": {},
   "outputs": [
    {
     "data": {
      "text/plain": [
       "(2571, 4)"
      ]
     },
     "execution_count": 17,
     "metadata": {},
     "output_type": "execute_result"
    }
   ],
   "source": [
    "new_features = pd.concat([features_train,features_valid],ignore_index=True)\n",
    "new_target = pd.concat([target_train,target_valid],ignore_index=True)\n",
    "new_features.shape"
   ]
  },
  {
   "cell_type": "code",
   "execution_count": 18,
   "metadata": {},
   "outputs": [
    {
     "data": {
      "text/html": [
       "<div>\n",
       "<style scoped>\n",
       "    .dataframe tbody tr th:only-of-type {\n",
       "        vertical-align: middle;\n",
       "    }\n",
       "\n",
       "    .dataframe tbody tr th {\n",
       "        vertical-align: top;\n",
       "    }\n",
       "\n",
       "    .dataframe thead th {\n",
       "        text-align: right;\n",
       "    }\n",
       "</style>\n",
       "<table border=\"1\" class=\"dataframe\">\n",
       "  <thead>\n",
       "    <tr style=\"text-align: right;\">\n",
       "      <th></th>\n",
       "      <th>calls</th>\n",
       "      <th>minutes</th>\n",
       "      <th>messages</th>\n",
       "      <th>mb_used</th>\n",
       "    </tr>\n",
       "  </thead>\n",
       "  <tbody>\n",
       "    <tr>\n",
       "      <th>0</th>\n",
       "      <td>76.0</td>\n",
       "      <td>484.49</td>\n",
       "      <td>11.0</td>\n",
       "      <td>22454.35</td>\n",
       "    </tr>\n",
       "    <tr>\n",
       "      <th>1</th>\n",
       "      <td>51.0</td>\n",
       "      <td>328.88</td>\n",
       "      <td>24.0</td>\n",
       "      <td>20511.93</td>\n",
       "    </tr>\n",
       "    <tr>\n",
       "      <th>2</th>\n",
       "      <td>105.0</td>\n",
       "      <td>705.05</td>\n",
       "      <td>18.0</td>\n",
       "      <td>22130.74</td>\n",
       "    </tr>\n",
       "    <tr>\n",
       "      <th>3</th>\n",
       "      <td>19.0</td>\n",
       "      <td>135.52</td>\n",
       "      <td>48.0</td>\n",
       "      <td>13152.50</td>\n",
       "    </tr>\n",
       "    <tr>\n",
       "      <th>4</th>\n",
       "      <td>28.0</td>\n",
       "      <td>159.55</td>\n",
       "      <td>0.0</td>\n",
       "      <td>14780.00</td>\n",
       "    </tr>\n",
       "  </tbody>\n",
       "</table>\n",
       "</div>"
      ],
      "text/plain": [
       "   calls  minutes  messages   mb_used\n",
       "0   76.0   484.49      11.0  22454.35\n",
       "1   51.0   328.88      24.0  20511.93\n",
       "2  105.0   705.05      18.0  22130.74\n",
       "3   19.0   135.52      48.0  13152.50\n",
       "4   28.0   159.55       0.0  14780.00"
      ]
     },
     "execution_count": 18,
     "metadata": {},
     "output_type": "execute_result"
    }
   ],
   "source": [
    "new_features.head()\n"
   ]
  },
  {
   "cell_type": "code",
   "execution_count": 19,
   "metadata": {},
   "outputs": [
    {
     "name": "stdout",
     "output_type": "stream",
     "text": [
      "Результат на тестовой выборке,модель обучена на тренировочной + валидационной выборке 0.8289269051321928\n",
      "Результат на  новой тренировочной выборке,которая состоит из тренировочной + валидационной выборке 0.838584208479191\n"
     ]
    }
   ],
   "source": [
    "model = RandomForestClassifier(random_state = 12345,n_estimators=10,max_depth = 7,min_samples_leaf=2,min_samples_split=8)\n",
    "model.fit(new_features,new_target)\n",
    "result = model.score(features_test,target_test)\n",
    "result_train = model.score(new_features,new_target)\n",
    "print('Результат на тестовой выборке,модель обучена на тренировочной + валидационной выборке',result)\n",
    "print('Результат на  новой тренировочной выборке,которая состоит из тренировочной + валидационной выборке',result_train)"
   ]
  },
  {
   "cell_type": "markdown",
   "metadata": {},
   "source": [
    "## (бонус) Проверьте модели на адекватность"
   ]
  },
  {
   "cell_type": "code",
   "execution_count": 20,
   "metadata": {},
   "outputs": [
    {
     "name": "stdout",
     "output_type": "stream",
     "text": [
      "[0.6936236391912908, 0.5567651632970451, 0.49455676516329705, 0.30637636080870917]\n"
     ]
    }
   ],
   "source": [
    "strategies = ['most_frequent', 'stratified', 'uniform', 'constant']\n",
    "\n",
    "  \n",
    "\n",
    "test_scores = []\n",
    "\n",
    "for s in strategies:\n",
    "\n",
    "    if s =='constant':\n",
    "\n",
    "        dclf = DummyClassifier(strategy = s, random_state = 12345, constant =1)\n",
    "\n",
    "    else:\n",
    "\n",
    "        dclf = DummyClassifier(strategy = s, random_state = 12345)\n",
    "\n",
    "    dclf.fit(features_train, target_train)\n",
    "\n",
    "    score = dclf.score(features_valid, target_valid)\n",
    "\n",
    "    test_scores.append(score)\n",
    "print(test_scores)"
   ]
  },
  {
   "cell_type": "markdown",
   "metadata": {},
   "source": [
    "При использовании классификатора со стратегией \"самое частое\",получаем результат доля правильных ответов 69,36%. Самый частый ответ будет \"0\".\n",
    "При использовании константы = 1,получаем долю правильных ответов 30,64%.\n",
    "При стратегии выставления ответов равномерно наугад ,доля правильных ответов 49,5%.\n",
    "При стратифицированный стратегии ,доля правильных ответов 55,7%.\n",
    "Исходя из этого, можно сделать вывод, что выбранная нами модель дает результат лучше, чем случайный классификатор или ,если по умолчанию поставить самое частое значение."
   ]
  },
  {
   "cell_type": "markdown",
   "metadata": {},
   "source": [
    "## Общий вывод"
   ]
  },
  {
   "cell_type": "markdown",
   "metadata": {},
   "source": [
    "При проведение данной работы использовались модели обучения \"Дерево решений\",\"Случайный лес\" и \"Логистическая регрессия\".\n",
    "Лучший результат показала модель \"Случайный лес\",с результатом 0.8180404354587869,на валидационой выборке,0.7947122861586314 на тестовой выборке.\n",
    "После этого модель дообучили на выборке тренировочная + валидационной,результат на тестовой выборке улучшился до 0.8289269051321928."
   ]
  },
  {
   "cell_type": "markdown",
   "metadata": {},
   "source": [
    "## Чек-лист готовности проекта"
   ]
  },
  {
   "cell_type": "markdown",
   "metadata": {},
   "source": [
    "Поставьте 'x' в выполненных пунктах. Далее нажмите Shift+Enter."
   ]
  },
  {
   "cell_type": "markdown",
   "metadata": {},
   "source": [
    "- [x] Jupyter Notebook открыт\n",
    "- [x] Весь код исполняется без ошибок\n",
    "- [x] Ячейки с кодом расположены в порядке исполнения\n",
    "- [x] Выполнено задание 1: данные загружены и изучены\n",
    "- [x] Выполнено задание 2: данные разбиты на три выборки\n",
    "- [x] Выполнено задание 3: проведено исследование моделей\n",
    "    - [x] Рассмотрено больше одной модели\n",
    "    - [x] Рассмотрено хотя бы 3 значения гипепараметров для какой-нибудь модели\n",
    "    - [x] Написаны выводы по результатам исследования\n",
    "- [x] Выполнено задание 3: Проведено тестирование\n",
    "- [x] Удалось достичь accuracy не меньше 0.75\n"
   ]
  }
 ],
 "metadata": {
  "ExecuteTimeLog": [
   {
    "duration": 954,
    "start_time": "2022-05-28T06:31:21.693Z"
   },
   {
    "duration": 125,
    "start_time": "2022-05-28T06:31:37.614Z"
   },
   {
    "duration": 125,
    "start_time": "2022-05-28T06:32:13.098Z"
   },
   {
    "duration": 25,
    "start_time": "2022-05-28T06:32:37.364Z"
   },
   {
    "duration": 1576,
    "start_time": "2022-05-28T08:20:50.007Z"
   },
   {
    "duration": 132,
    "start_time": "2022-05-28T08:20:51.586Z"
   },
   {
    "duration": 25,
    "start_time": "2022-05-28T08:20:51.720Z"
   },
   {
    "duration": 3,
    "start_time": "2022-05-28T08:20:51.748Z"
   },
   {
    "duration": 8,
    "start_time": "2022-05-28T08:20:51.753Z"
   },
   {
    "duration": 26,
    "start_time": "2022-05-28T08:20:51.763Z"
   },
   {
    "duration": 588,
    "start_time": "2022-05-28T08:20:51.791Z"
   },
   {
    "duration": 38,
    "start_time": "2022-05-28T08:20:52.381Z"
   },
   {
    "duration": 9,
    "start_time": "2022-05-28T08:20:52.421Z"
   },
   {
    "duration": 45,
    "start_time": "2022-05-28T08:20:52.432Z"
   },
   {
    "duration": 11,
    "start_time": "2022-05-28T08:20:52.480Z"
   },
   {
    "duration": 18,
    "start_time": "2022-05-28T08:21:05.517Z"
   },
   {
    "duration": 52,
    "start_time": "2022-05-30T22:26:50.460Z"
   },
   {
    "duration": 1467,
    "start_time": "2022-05-30T22:27:01.475Z"
   },
   {
    "duration": 133,
    "start_time": "2022-05-30T22:27:02.944Z"
   },
   {
    "duration": 22,
    "start_time": "2022-05-30T22:27:03.078Z"
   },
   {
    "duration": 3,
    "start_time": "2022-05-30T22:27:03.102Z"
   },
   {
    "duration": 11,
    "start_time": "2022-05-30T22:27:03.106Z"
   },
   {
    "duration": 8,
    "start_time": "2022-05-30T22:27:03.118Z"
   },
   {
    "duration": 20,
    "start_time": "2022-05-30T22:27:03.127Z"
   },
   {
    "duration": 450,
    "start_time": "2022-05-30T22:27:03.149Z"
   },
   {
    "duration": 28,
    "start_time": "2022-05-30T22:27:03.601Z"
   },
   {
    "duration": 9,
    "start_time": "2022-05-30T22:27:03.631Z"
   },
   {
    "duration": 14,
    "start_time": "2022-05-30T22:27:03.641Z"
   },
   {
    "duration": 8,
    "start_time": "2022-05-30T22:27:03.656Z"
   },
   {
    "duration": 4,
    "start_time": "2022-05-30T22:28:02.412Z"
   },
   {
    "duration": 4,
    "start_time": "2022-05-30T22:28:24.480Z"
   },
   {
    "duration": 111,
    "start_time": "2022-05-30T22:36:41.385Z"
   },
   {
    "duration": 12,
    "start_time": "2022-05-30T22:37:03.110Z"
   },
   {
    "duration": 20,
    "start_time": "2022-05-30T22:38:16.213Z"
   },
   {
    "duration": 20,
    "start_time": "2022-05-30T22:38:21.455Z"
   },
   {
    "duration": 9,
    "start_time": "2022-05-30T22:46:17.833Z"
   },
   {
    "duration": 6,
    "start_time": "2022-05-30T22:46:29.179Z"
   },
   {
    "duration": 63,
    "start_time": "2022-05-31T16:23:50.292Z"
   },
   {
    "duration": 1618,
    "start_time": "2022-05-31T16:24:03.539Z"
   },
   {
    "duration": 182,
    "start_time": "2022-05-31T16:24:05.159Z"
   },
   {
    "duration": 32,
    "start_time": "2022-05-31T16:24:05.343Z"
   },
   {
    "duration": 157,
    "start_time": "2022-05-31T16:24:05.382Z"
   },
   {
    "duration": 4,
    "start_time": "2022-05-31T16:24:05.541Z"
   },
   {
    "duration": 20,
    "start_time": "2022-05-31T16:24:05.546Z"
   },
   {
    "duration": 24,
    "start_time": "2022-05-31T16:24:05.567Z"
   },
   {
    "duration": 8,
    "start_time": "2022-05-31T16:24:05.592Z"
   },
   {
    "duration": 8,
    "start_time": "2022-05-31T16:24:05.601Z"
   },
   {
    "duration": 22,
    "start_time": "2022-05-31T16:24:05.612Z"
   },
   {
    "duration": 587,
    "start_time": "2022-05-31T16:24:05.636Z"
   },
   {
    "duration": 18,
    "start_time": "2022-05-31T16:24:06.225Z"
   },
   {
    "duration": 47,
    "start_time": "2022-05-31T16:24:06.245Z"
   },
   {
    "duration": 12,
    "start_time": "2022-05-31T16:24:06.296Z"
   },
   {
    "duration": 21,
    "start_time": "2022-05-31T16:24:06.310Z"
   },
   {
    "duration": 11,
    "start_time": "2022-05-31T16:24:06.333Z"
   },
   {
    "duration": 130,
    "start_time": "2022-05-31T16:24:59.307Z"
   },
   {
    "duration": 139,
    "start_time": "2022-05-31T16:25:30.561Z"
   },
   {
    "duration": 21,
    "start_time": "2022-05-31T16:25:39.339Z"
   },
   {
    "duration": 35,
    "start_time": "2022-05-31T16:25:44.300Z"
   },
   {
    "duration": 134,
    "start_time": "2022-05-31T16:26:05.162Z"
   },
   {
    "duration": 252,
    "start_time": "2022-05-31T16:31:03.952Z"
   },
   {
    "duration": 138,
    "start_time": "2022-05-31T16:31:19.117Z"
   },
   {
    "duration": 131,
    "start_time": "2022-05-31T16:33:46.744Z"
   },
   {
    "duration": 10,
    "start_time": "2022-05-31T16:34:06.788Z"
   },
   {
    "duration": 23,
    "start_time": "2022-05-31T16:34:12.136Z"
   },
   {
    "duration": 26,
    "start_time": "2022-05-31T16:34:18.061Z"
   },
   {
    "duration": 178,
    "start_time": "2022-05-31T16:34:29.040Z"
   },
   {
    "duration": 193,
    "start_time": "2022-05-31T16:35:44.750Z"
   },
   {
    "duration": 126,
    "start_time": "2022-05-31T16:38:53.393Z"
   },
   {
    "duration": 225,
    "start_time": "2022-05-31T16:40:45.541Z"
   },
   {
    "duration": 125,
    "start_time": "2022-05-31T16:46:07.917Z"
   },
   {
    "duration": 123,
    "start_time": "2022-05-31T16:46:16.594Z"
   },
   {
    "duration": 9,
    "start_time": "2022-05-31T16:49:23.927Z"
   },
   {
    "duration": 1386,
    "start_time": "2022-05-31T16:50:19.820Z"
   },
   {
    "duration": 46,
    "start_time": "2022-05-31T16:50:21.208Z"
   },
   {
    "duration": 29,
    "start_time": "2022-05-31T16:50:21.256Z"
   },
   {
    "duration": 153,
    "start_time": "2022-05-31T16:50:21.288Z"
   },
   {
    "duration": 4,
    "start_time": "2022-05-31T16:50:21.443Z"
   },
   {
    "duration": 25,
    "start_time": "2022-05-31T16:50:21.449Z"
   },
   {
    "duration": 19,
    "start_time": "2022-05-31T16:50:21.475Z"
   },
   {
    "duration": 13,
    "start_time": "2022-05-31T16:50:21.496Z"
   },
   {
    "duration": 10,
    "start_time": "2022-05-31T16:50:21.511Z"
   },
   {
    "duration": 7,
    "start_time": "2022-05-31T16:50:21.524Z"
   },
   {
    "duration": 22,
    "start_time": "2022-05-31T16:50:21.533Z"
   },
   {
    "duration": 551,
    "start_time": "2022-05-31T16:50:21.557Z"
   },
   {
    "duration": 20,
    "start_time": "2022-05-31T16:50:22.111Z"
   },
   {
    "duration": 40,
    "start_time": "2022-05-31T16:50:22.133Z"
   },
   {
    "duration": 13,
    "start_time": "2022-05-31T16:50:22.174Z"
   },
   {
    "duration": 15,
    "start_time": "2022-05-31T16:50:22.189Z"
   },
   {
    "duration": 8,
    "start_time": "2022-05-31T16:50:22.206Z"
   },
   {
    "duration": 27,
    "start_time": "2022-05-31T17:02:04.547Z"
   },
   {
    "duration": 101,
    "start_time": "2022-05-31T17:10:47.894Z"
   },
   {
    "duration": 20,
    "start_time": "2022-05-31T17:15:15.485Z"
   },
   {
    "duration": 38,
    "start_time": "2022-05-31T17:15:29.011Z"
   },
   {
    "duration": 311,
    "start_time": "2022-05-31T17:17:24.681Z"
   },
   {
    "duration": 43,
    "start_time": "2022-05-31T17:18:19.188Z"
   },
   {
    "duration": 48,
    "start_time": "2022-05-31T17:20:36.432Z"
   },
   {
    "duration": 33,
    "start_time": "2022-05-31T17:29:05.280Z"
   },
   {
    "duration": 82,
    "start_time": "2022-05-31T17:55:08.357Z"
   },
   {
    "duration": 44,
    "start_time": "2022-05-31T17:55:16.464Z"
   },
   {
    "duration": 135,
    "start_time": "2022-05-31T17:56:05.184Z"
   },
   {
    "duration": 43,
    "start_time": "2022-05-31T17:56:24.316Z"
   },
   {
    "duration": 59,
    "start_time": "2022-05-31T17:58:39.058Z"
   },
   {
    "duration": 77,
    "start_time": "2022-05-31T18:01:38.198Z"
   },
   {
    "duration": 46,
    "start_time": "2022-05-31T18:02:13.738Z"
   },
   {
    "duration": 45,
    "start_time": "2022-05-31T18:02:49.636Z"
   },
   {
    "duration": 84,
    "start_time": "2022-05-31T18:03:05.532Z"
   },
   {
    "duration": 87,
    "start_time": "2022-05-31T18:04:05.110Z"
   },
   {
    "duration": 95,
    "start_time": "2022-05-31T18:05:33.052Z"
   },
   {
    "duration": 182,
    "start_time": "2022-05-31T18:06:17.533Z"
   },
   {
    "duration": 10,
    "start_time": "2022-05-31T18:06:28.553Z"
   },
   {
    "duration": 150,
    "start_time": "2022-05-31T18:08:10.700Z"
   },
   {
    "duration": 217,
    "start_time": "2022-05-31T18:09:05.892Z"
   },
   {
    "duration": 232,
    "start_time": "2022-05-31T18:10:43.721Z"
   },
   {
    "duration": 283,
    "start_time": "2022-05-31T18:10:58.973Z"
   },
   {
    "duration": 268,
    "start_time": "2022-05-31T18:11:11.434Z"
   },
   {
    "duration": 294,
    "start_time": "2022-05-31T18:11:28.808Z"
   },
   {
    "duration": 254,
    "start_time": "2022-05-31T18:12:03.692Z"
   },
   {
    "duration": 28,
    "start_time": "2022-05-31T18:14:52.704Z"
   },
   {
    "duration": 32,
    "start_time": "2022-05-31T18:16:06.247Z"
   },
   {
    "duration": 27,
    "start_time": "2022-05-31T18:16:26.084Z"
   },
   {
    "duration": 294,
    "start_time": "2022-05-31T18:18:24.458Z"
   },
   {
    "duration": 3522,
    "start_time": "2022-05-31T18:20:45.842Z"
   },
   {
    "duration": 564,
    "start_time": "2022-05-31T18:23:35.564Z"
   },
   {
    "duration": 563,
    "start_time": "2022-05-31T18:26:32.293Z"
   },
   {
    "duration": 824,
    "start_time": "2022-05-31T18:27:08.374Z"
   },
   {
    "duration": 34,
    "start_time": "2022-05-31T18:31:18.694Z"
   },
   {
    "duration": 1556,
    "start_time": "2022-05-31T18:32:48.927Z"
   },
   {
    "duration": 45,
    "start_time": "2022-05-31T18:32:50.485Z"
   },
   {
    "duration": 24,
    "start_time": "2022-05-31T18:32:50.532Z"
   },
   {
    "duration": 100,
    "start_time": "2022-05-31T18:32:50.559Z"
   },
   {
    "duration": 9,
    "start_time": "2022-05-31T18:32:50.661Z"
   },
   {
    "duration": 29,
    "start_time": "2022-05-31T18:32:50.673Z"
   },
   {
    "duration": 3,
    "start_time": "2022-05-31T18:32:50.703Z"
   },
   {
    "duration": 5,
    "start_time": "2022-05-31T18:32:50.708Z"
   },
   {
    "duration": 5,
    "start_time": "2022-05-31T18:32:50.715Z"
   },
   {
    "duration": 5,
    "start_time": "2022-05-31T18:32:50.723Z"
   },
   {
    "duration": 274,
    "start_time": "2022-05-31T18:32:50.729Z"
   },
   {
    "duration": 534,
    "start_time": "2022-05-31T18:32:51.005Z"
   },
   {
    "duration": 43,
    "start_time": "2022-05-31T18:32:51.542Z"
   },
   {
    "duration": 10,
    "start_time": "2022-05-31T18:32:51.587Z"
   },
   {
    "duration": 17,
    "start_time": "2022-05-31T18:32:51.599Z"
   },
   {
    "duration": 8,
    "start_time": "2022-05-31T18:32:51.618Z"
   },
   {
    "duration": 49,
    "start_time": "2022-05-31T18:35:49.857Z"
   },
   {
    "duration": 23,
    "start_time": "2022-05-31T18:35:57.233Z"
   },
   {
    "duration": 6,
    "start_time": "2022-05-31T18:36:05.554Z"
   },
   {
    "duration": 157,
    "start_time": "2022-05-31T18:36:39.142Z"
   },
   {
    "duration": 9,
    "start_time": "2022-05-31T18:36:48.220Z"
   },
   {
    "duration": 9,
    "start_time": "2022-05-31T18:36:55.127Z"
   },
   {
    "duration": 133,
    "start_time": "2022-05-31T18:38:45.148Z"
   },
   {
    "duration": 255,
    "start_time": "2022-05-31T18:45:19.467Z"
   },
   {
    "duration": 7,
    "start_time": "2022-05-31T18:47:13.174Z"
   },
   {
    "duration": 260,
    "start_time": "2022-05-31T18:52:25.936Z"
   },
   {
    "duration": 14,
    "start_time": "2022-05-31T18:53:13.482Z"
   },
   {
    "duration": 13,
    "start_time": "2022-05-31T18:53:29.292Z"
   },
   {
    "duration": 5,
    "start_time": "2022-05-31T18:53:35.982Z"
   },
   {
    "duration": 4,
    "start_time": "2022-05-31T18:55:41.156Z"
   },
   {
    "duration": 261,
    "start_time": "2022-05-31T18:56:09.531Z"
   },
   {
    "duration": 27,
    "start_time": "2022-05-31T18:58:30.262Z"
   },
   {
    "duration": 14,
    "start_time": "2022-05-31T18:58:37.206Z"
   },
   {
    "duration": 16,
    "start_time": "2022-05-31T18:59:35.435Z"
   },
   {
    "duration": 22,
    "start_time": "2022-05-31T19:00:13.158Z"
   },
   {
    "duration": 212,
    "start_time": "2022-05-31T19:05:04.540Z"
   },
   {
    "duration": 198,
    "start_time": "2022-05-31T19:05:17.605Z"
   },
   {
    "duration": 238,
    "start_time": "2022-05-31T19:05:51.894Z"
   },
   {
    "duration": 305,
    "start_time": "2022-05-31T19:11:59.625Z"
   },
   {
    "duration": 3265,
    "start_time": "2022-05-31T19:13:01.879Z"
   },
   {
    "duration": 363,
    "start_time": "2022-05-31T19:13:34.744Z"
   },
   {
    "duration": 334497,
    "start_time": "2022-05-31T19:27:51.950Z"
   },
   {
    "duration": 14,
    "start_time": "2022-05-31T19:35:23.703Z"
   },
   {
    "duration": 65,
    "start_time": "2022-05-31T19:37:31.550Z"
   },
   {
    "duration": 260,
    "start_time": "2022-05-31T19:46:17.490Z"
   },
   {
    "duration": 252,
    "start_time": "2022-05-31T20:49:17.321Z"
   },
   {
    "duration": 12,
    "start_time": "2022-05-31T20:49:53.492Z"
   },
   {
    "duration": 19,
    "start_time": "2022-05-31T20:56:44.695Z"
   },
   {
    "duration": 28,
    "start_time": "2022-05-31T20:57:07.749Z"
   },
   {
    "duration": 19,
    "start_time": "2022-05-31T20:57:36.090Z"
   },
   {
    "duration": 1382,
    "start_time": "2022-05-31T20:59:13.929Z"
   },
   {
    "duration": 46,
    "start_time": "2022-05-31T20:59:15.313Z"
   },
   {
    "duration": 34,
    "start_time": "2022-05-31T20:59:15.361Z"
   },
   {
    "duration": 104,
    "start_time": "2022-05-31T20:59:15.397Z"
   },
   {
    "duration": 4,
    "start_time": "2022-05-31T20:59:15.503Z"
   },
   {
    "duration": 11,
    "start_time": "2022-05-31T20:59:15.509Z"
   },
   {
    "duration": 3,
    "start_time": "2022-05-31T20:59:15.522Z"
   },
   {
    "duration": 6,
    "start_time": "2022-05-31T20:59:15.527Z"
   },
   {
    "duration": 33,
    "start_time": "2022-05-31T20:59:15.535Z"
   },
   {
    "duration": 11,
    "start_time": "2022-05-31T20:59:15.570Z"
   },
   {
    "duration": 21,
    "start_time": "2022-05-31T20:59:15.583Z"
   },
   {
    "duration": 154,
    "start_time": "2022-05-31T20:59:15.606Z"
   },
   {
    "duration": 1,
    "start_time": "2022-05-31T20:59:15.763Z"
   },
   {
    "duration": 0,
    "start_time": "2022-05-31T20:59:15.764Z"
   },
   {
    "duration": 0,
    "start_time": "2022-05-31T20:59:15.765Z"
   },
   {
    "duration": 0,
    "start_time": "2022-05-31T20:59:15.766Z"
   },
   {
    "duration": 0,
    "start_time": "2022-05-31T20:59:15.767Z"
   },
   {
    "duration": 23,
    "start_time": "2022-05-31T21:00:00.469Z"
   },
   {
    "duration": 487,
    "start_time": "2022-05-31T21:00:22.411Z"
   },
   {
    "duration": 744,
    "start_time": "2022-05-31T21:01:32.942Z"
   },
   {
    "duration": 240,
    "start_time": "2022-05-31T21:01:58.597Z"
   },
   {
    "duration": 378,
    "start_time": "2022-05-31T21:02:56.565Z"
   },
   {
    "duration": 252,
    "start_time": "2022-05-31T21:03:07.439Z"
   },
   {
    "duration": 404,
    "start_time": "2022-05-31T21:07:57.538Z"
   },
   {
    "duration": 6,
    "start_time": "2022-05-31T21:09:48.603Z"
   },
   {
    "duration": 74,
    "start_time": "2022-05-31T21:10:20.557Z"
   },
   {
    "duration": 24,
    "start_time": "2022-05-31T21:17:24.404Z"
   },
   {
    "duration": 21,
    "start_time": "2022-05-31T21:24:55.075Z"
   },
   {
    "duration": 65,
    "start_time": "2022-05-31T21:27:32.206Z"
   },
   {
    "duration": 10,
    "start_time": "2022-05-31T21:27:41.422Z"
   },
   {
    "duration": 10,
    "start_time": "2022-05-31T21:33:13.480Z"
   },
   {
    "duration": 4,
    "start_time": "2022-05-31T21:33:34.485Z"
   },
   {
    "duration": 4,
    "start_time": "2022-05-31T21:34:00.653Z"
   },
   {
    "duration": 17,
    "start_time": "2022-05-31T21:34:25.161Z"
   },
   {
    "duration": 11,
    "start_time": "2022-05-31T21:34:26.135Z"
   },
   {
    "duration": 54,
    "start_time": "2022-05-31T21:36:05.981Z"
   },
   {
    "duration": 60,
    "start_time": "2022-05-31T21:39:16.123Z"
   },
   {
    "duration": 23,
    "start_time": "2022-05-31T21:40:43.603Z"
   },
   {
    "duration": 10,
    "start_time": "2022-05-31T21:44:51.314Z"
   },
   {
    "duration": 1376,
    "start_time": "2022-05-31T21:46:13.449Z"
   },
   {
    "duration": 51,
    "start_time": "2022-05-31T21:46:14.827Z"
   },
   {
    "duration": 25,
    "start_time": "2022-05-31T21:46:14.881Z"
   },
   {
    "duration": 111,
    "start_time": "2022-05-31T21:46:14.909Z"
   },
   {
    "duration": 5,
    "start_time": "2022-05-31T21:46:15.022Z"
   },
   {
    "duration": 11,
    "start_time": "2022-05-31T21:46:15.029Z"
   },
   {
    "duration": 6,
    "start_time": "2022-05-31T21:46:15.042Z"
   },
   {
    "duration": 29,
    "start_time": "2022-05-31T21:46:15.065Z"
   },
   {
    "duration": 7,
    "start_time": "2022-05-31T21:46:15.095Z"
   },
   {
    "duration": 4,
    "start_time": "2022-05-31T21:46:15.105Z"
   },
   {
    "duration": 249,
    "start_time": "2022-05-31T21:46:15.110Z"
   },
   {
    "duration": 21,
    "start_time": "2022-05-31T21:46:15.364Z"
   },
   {
    "duration": 416,
    "start_time": "2022-05-31T21:46:15.387Z"
   },
   {
    "duration": 49,
    "start_time": "2022-05-31T21:46:15.804Z"
   },
   {
    "duration": 44,
    "start_time": "2022-05-31T21:46:15.864Z"
   },
   {
    "duration": 10,
    "start_time": "2022-05-31T21:46:15.910Z"
   },
   {
    "duration": 6,
    "start_time": "2022-05-31T21:46:15.922Z"
   },
   {
    "duration": 10,
    "start_time": "2022-05-31T21:46:15.930Z"
   },
   {
    "duration": 87,
    "start_time": "2022-05-31T21:46:15.942Z"
   },
   {
    "duration": 9,
    "start_time": "2022-05-31T21:46:16.031Z"
   },
   {
    "duration": 3,
    "start_time": "2022-05-31T21:51:11.983Z"
   },
   {
    "duration": 6,
    "start_time": "2022-05-31T21:51:20.522Z"
   },
   {
    "duration": 19,
    "start_time": "2022-05-31T21:54:41.624Z"
   },
   {
    "duration": 23,
    "start_time": "2022-05-31T21:54:53.384Z"
   },
   {
    "duration": 94,
    "start_time": "2022-05-31T21:55:03.233Z"
   },
   {
    "duration": 138,
    "start_time": "2022-05-31T21:56:27.418Z"
   },
   {
    "duration": 101,
    "start_time": "2022-05-31T22:10:02.084Z"
   },
   {
    "duration": 256,
    "start_time": "2022-05-31T22:10:49.595Z"
   },
   {
    "duration": 99,
    "start_time": "2022-05-31T22:10:55.084Z"
   },
   {
    "duration": 115,
    "start_time": "2022-05-31T22:10:58.632Z"
   },
   {
    "duration": 121,
    "start_time": "2022-05-31T22:11:10.200Z"
   },
   {
    "duration": 19576,
    "start_time": "2022-05-31T22:16:43.481Z"
   },
   {
    "duration": 19430,
    "start_time": "2022-05-31T22:17:14.950Z"
   },
   {
    "duration": 120,
    "start_time": "2022-05-31T22:18:00.636Z"
   },
   {
    "duration": 29,
    "start_time": "2022-05-31T22:19:26.331Z"
   },
   {
    "duration": 104,
    "start_time": "2022-05-31T22:19:32.362Z"
   },
   {
    "duration": 25,
    "start_time": "2022-05-31T22:21:29.125Z"
   },
   {
    "duration": 36,
    "start_time": "2022-05-31T22:21:48.546Z"
   },
   {
    "duration": 94,
    "start_time": "2022-05-31T22:22:02.333Z"
   },
   {
    "duration": 33,
    "start_time": "2022-05-31T22:30:44.513Z"
   },
   {
    "duration": 129,
    "start_time": "2022-05-31T22:30:50.798Z"
   },
   {
    "duration": 141,
    "start_time": "2022-05-31T22:31:12.339Z"
   },
   {
    "duration": 96,
    "start_time": "2022-05-31T22:34:24.124Z"
   },
   {
    "duration": 110,
    "start_time": "2022-05-31T22:35:22.935Z"
   },
   {
    "duration": 98,
    "start_time": "2022-05-31T22:35:35.816Z"
   },
   {
    "duration": 101,
    "start_time": "2022-05-31T22:35:46.315Z"
   },
   {
    "duration": 103,
    "start_time": "2022-05-31T22:35:51.879Z"
   },
   {
    "duration": 100,
    "start_time": "2022-05-31T22:37:26.245Z"
   },
   {
    "duration": 30,
    "start_time": "2022-05-31T22:45:45.116Z"
   },
   {
    "duration": 76,
    "start_time": "2022-05-31T22:47:21.240Z"
   },
   {
    "duration": 1369,
    "start_time": "2022-05-31T22:55:15.975Z"
   },
   {
    "duration": 55,
    "start_time": "2022-05-31T22:55:17.346Z"
   },
   {
    "duration": 28,
    "start_time": "2022-05-31T22:55:17.403Z"
   },
   {
    "duration": 133,
    "start_time": "2022-05-31T22:55:17.434Z"
   },
   {
    "duration": 7,
    "start_time": "2022-05-31T22:55:17.574Z"
   },
   {
    "duration": 10,
    "start_time": "2022-05-31T22:55:17.584Z"
   },
   {
    "duration": 3,
    "start_time": "2022-05-31T22:55:17.595Z"
   },
   {
    "duration": 7,
    "start_time": "2022-05-31T22:55:17.599Z"
   },
   {
    "duration": 10,
    "start_time": "2022-05-31T22:55:17.608Z"
   },
   {
    "duration": 5,
    "start_time": "2022-05-31T22:55:17.621Z"
   },
   {
    "duration": 271,
    "start_time": "2022-05-31T22:55:17.628Z"
   },
   {
    "duration": 19,
    "start_time": "2022-05-31T22:55:17.901Z"
   },
   {
    "duration": 381,
    "start_time": "2022-05-31T22:55:17.922Z"
   },
   {
    "duration": 64,
    "start_time": "2022-05-31T22:55:18.305Z"
   },
   {
    "duration": 25,
    "start_time": "2022-05-31T22:55:18.381Z"
   },
   {
    "duration": 9,
    "start_time": "2022-05-31T22:55:18.408Z"
   },
   {
    "duration": 7,
    "start_time": "2022-05-31T22:55:18.419Z"
   },
   {
    "duration": 13,
    "start_time": "2022-05-31T22:55:18.427Z"
   },
   {
    "duration": 74,
    "start_time": "2022-05-31T22:55:18.442Z"
   },
   {
    "duration": 11,
    "start_time": "2022-05-31T22:55:18.518Z"
   }
  ],
  "kernelspec": {
   "display_name": "Python 3 (ipykernel)",
   "language": "python",
   "name": "python3"
  },
  "language_info": {
   "codemirror_mode": {
    "name": "ipython",
    "version": 3
   },
   "file_extension": ".py",
   "mimetype": "text/x-python",
   "name": "python",
   "nbconvert_exporter": "python",
   "pygments_lexer": "ipython3",
   "version": "3.9.12"
  },
  "toc": {
   "base_numbering": 1,
   "nav_menu": {},
   "number_sections": true,
   "sideBar": true,
   "skip_h1_title": true,
   "title_cell": "Table of Contents",
   "title_sidebar": "Contents",
   "toc_cell": false,
   "toc_position": {},
   "toc_section_display": true,
   "toc_window_display": true
  }
 },
 "nbformat": 4,
 "nbformat_minor": 2
}
