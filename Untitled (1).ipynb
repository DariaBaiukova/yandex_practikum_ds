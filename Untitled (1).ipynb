{
 "cells": [
  {
   "cell_type": "code",
   "execution_count": 1,
   "id": "cec22a65",
   "metadata": {
    "cellId": "cmznixwoo7nlc28kbw7ngg"
   },
   "outputs": [
    {
     "name": "stdout",
     "output_type": "stream",
     "text": [
      "Defaulting to user installation because normal site-packages is not writeable\n",
      "Requirement already satisfied: seaborn in /home/jupyter/.local/lib/python3.8/site-packages (0.12.1)\n",
      "Requirement already satisfied: numpy>=1.17 in /kernel/fallback/lib/python3.8/site-packages (from seaborn) (1.19.4)\n",
      "Requirement already satisfied: matplotlib!=3.6.1,>=3.1 in /kernel/lib/python3.8/site-packages (from seaborn) (3.3.3)\n",
      "Requirement already satisfied: pandas>=0.25 in /usr/local/lib/python3.8/dist-packages (from seaborn) (0.25.3)\n",
      "Requirement already satisfied: kiwisolver>=1.0.1 in /kernel/lib/python3.8/site-packages (from matplotlib!=3.6.1,>=3.1->seaborn) (1.4.4)\n",
      "Requirement already satisfied: pillow>=6.2.0 in /kernel/lib/python3.8/site-packages (from matplotlib!=3.6.1,>=3.1->seaborn) (9.3.0)\n",
      "Requirement already satisfied: python-dateutil>=2.1 in /kernel/lib/python3.8/site-packages (from matplotlib!=3.6.1,>=3.1->seaborn) (2.8.2)\n",
      "Requirement already satisfied: pyparsing!=2.0.4,!=2.1.2,!=2.1.6,>=2.0.3 in /kernel/lib/python3.8/site-packages (from matplotlib!=3.6.1,>=3.1->seaborn) (2.4.7)\n",
      "Requirement already satisfied: cycler>=0.10 in /kernel/lib/python3.8/site-packages (from matplotlib!=3.6.1,>=3.1->seaborn) (0.11.0)\n",
      "Requirement already satisfied: pytz>=2017.2 in /usr/local/lib/python3.8/dist-packages (from pandas>=0.25->seaborn) (2021.3)\n",
      "Requirement already satisfied: six>=1.5 in /kernel/lib/python3.8/site-packages (from python-dateutil>=2.1->matplotlib!=3.6.1,>=3.1->seaborn) (1.16.0)\n",
      "\u001b[33mWARNING: You are using pip version 21.3.1; however, version 22.3.1 is available.\n",
      "You should consider upgrading via the '/usr/local/bin/python3 -m pip install --upgrade pip' command.\u001b[0m\n"
     ]
    }
   ],
   "source": []
  },
  {
   "cell_type": "markdown",
   "id": "9f55463c",
   "metadata": {
    "cellId": "wv9joxncwtbzjbm8nuhb0m",
    "execution_id": "6796056b-78fa-4bd2-92ed-82db4b84dd59"
   },
   "source": [
    "# Расшифровка столбцов\n",
    "| Номер | Наименование поля | Описание данных |\n",
    "| :-------: |:-------------:| :-------------:|\n",
    "| 1 | oper_type + oper_attr | Тип и атрибут операции |\n",
    "| 2 | index_oper  | Индекс места операции |\n",
    "| 3 | type | Обозначение типа объекта почтовой связи  |\n",
    "| 4 | priority |  Приоритет объекта |\n",
    "| 5 | is_privatecategory |   Y - является отделением закрытого типа,N - иначе | \n",
    "| 6 | class | Значение класса или категории объекта почтовой связи  |\n",
    "| 7 | is_in_yandex  | Y адрес отделения связи отображается в Яндекс-картах N - иначе|\n",
    "| 8 | is_return | Y - Отправление движется в направлении возвратаотправителюN - иначе | \n",
    "| 9 | weight | Вес в граммах  |\n",
    "| 10  | mailtype | Код вида отправления |\n",
    "| 11  | mailctg  |  Код категории почтового отправления  |\n",
    "| 12  | mailrank | Код разряда почтового отправления |\n",
    "| 13  | directctg| Код классификации отправления |\n",
    "| 14  | transport_pay  | Общая сумма платы за пересылку в условной валюте  |\n",
    "| 15  | postmark | Код отметки  |\n",
    "| 16  | name_mfi | Наименование вложений (указано через запятую),указывается на бирке отправления |\n",
    "| 17  | weight_mfi | Суммарная масса вложений  |\n",
    "| 18  | price_mfi  | Суммарная стоимость вложений в условной валюте  |\n",
    "| 19  | dist_qty_oper_login_1 | Количество уникальных именоператоров, задействованных вобработке данного типа отправлений (mailtype) на конкретном индексе, по которым возможно идентифицироватьоператора |\n",
    "| 20  | total_qty_oper_login_1| Количество отправлений с уникальным именем операторов, задействованных в обработке данного типа отправлений (mailtype) на конкретном индексе, по которым возможно идентифицировать оператора  |\n",
    "| 21  | total_qty_oper_login_0| Количество отправлений данного типа (mailtype), которые были обработаны неизвестным оператором на этом индексе  |\n",
    "| 22  | total_qty_over_index_and_type| Общее количество отправлений данного типа (mailtype),прошедших обработку на этом индексе|\n",
    "| 23  | total_qty_over_index | Общее количество отправлений, прошедших обработку на этом индексе |\n",
    "| 24  | is_wrong_sndr_name | Есть ли явные признаки, что имя отправителя введено некорректно? 1 - да, 0 - иначе  |\n",
    "| 25  | is_wrong_rcpn_name | Есть ли явные признаки, что имя получателя введено некорректно? 1 - да, 0 - иначе  |\n",
    "| 26  | is_wrong_phone_number |  Есть ли явные признаки, что номер телефона получателя введен некорректно? 1 - да, 0 - иначе |\n",
    "| 27  | is_wrong_address | Есть ли явные признаки, что адрес получателя введен некорректно? 1 - да, 0 - иначе  |\n",
    "| 28  | label | 1 - операция, на которой цифровой след оборвался, т.к. отправление потеряно 0 - отправление было вручено или возвращено отправителю  |"
   ]
  },
  {
   "cell_type": "markdown",
   "id": "14cee61a",
   "metadata": {
    "cellId": "4lw2xia6k1u021d9r9x9ru8",
    "execution_id": "5bfd204f-4fd8-4478-bb91-1c8f9993aa72"
   },
   "source": [
    "# Метрика\n",
    "Result = 0.1 * Recall + 0.9 * AUC_ROC"
   ]
  },
  {
   "cell_type": "code",
   "execution_count": null,
   "id": "248036cf",
   "metadata": {
    "cellId": "ad0bkfooq5uyttiuc5wao"
   },
   "outputs": [],
   "source": [
    "%pip install seaborn\n",
    "import pandas as pd\n",
    "import matplotlib.pyplot as plt\n",
    "import seaborn as sns\n",
    "import numpy as np\n",
    "import re\n",
    "\n",
    "from sklearn.metrics import roc_auc_score,recall_score,make_scorer\n",
    "from sklearn.model_selection import train_test_split\n",
    "\n",
    "\n",
    "from catboost import CatBoostClassifier\n",
    "from lightgbm import LGBMClassifier"
   ]
  },
  {
   "cell_type": "code",
   "execution_count": 2,
   "id": "98b333fd",
   "metadata": {
    "cellId": "7rxoh5hotruxav15d9p7"
   },
   "outputs": [],
   "source": [
    "df = pd.read_csv('train_dataset_train.csv',low_memory=False)\n",
    "df_test = pd.read_csv('test_dataset_test.csv',low_memory=False)"
   ]
  },
  {
   "cell_type": "code",
   "execution_count": 3,
   "id": "7bc45e5b",
   "metadata": {
    "cellId": "m01fm5lnkkd1k3kynq0q6"
   },
   "outputs": [
    {
     "data": {
      "text/html": [
       "<div>\n",
       "<style scoped>\n",
       "    .dataframe tbody tr th:only-of-type {\n",
       "        vertical-align: middle;\n",
       "    }\n",
       "\n",
       "    .dataframe tbody tr th {\n",
       "        vertical-align: top;\n",
       "    }\n",
       "\n",
       "    .dataframe thead th {\n",
       "        text-align: right;\n",
       "    }\n",
       "</style>\n",
       "<table border=\"1\" class=\"dataframe\">\n",
       "  <thead>\n",
       "    <tr style=\"text-align: right;\">\n",
       "      <th></th>\n",
       "      <th>id</th>\n",
       "      <th>oper_type + oper_attr</th>\n",
       "      <th>index_oper</th>\n",
       "      <th>type</th>\n",
       "      <th>priority</th>\n",
       "      <th>is_privatecategory</th>\n",
       "      <th>class</th>\n",
       "      <th>is_in_yandex</th>\n",
       "      <th>is_return</th>\n",
       "      <th>weight</th>\n",
       "      <th>...</th>\n",
       "      <th>dist_qty_oper_login_1</th>\n",
       "      <th>total_qty_oper_login_1</th>\n",
       "      <th>total_qty_oper_login_0</th>\n",
       "      <th>total_qty_over_index_and_type</th>\n",
       "      <th>total_qty_over_index</th>\n",
       "      <th>is_wrong_sndr_name</th>\n",
       "      <th>is_wrong_rcpn_name</th>\n",
       "      <th>is_wrong_phone_number</th>\n",
       "      <th>is_wrong_address</th>\n",
       "      <th>label</th>\n",
       "    </tr>\n",
       "  </thead>\n",
       "  <tbody>\n",
       "    <tr>\n",
       "      <th>0</th>\n",
       "      <td>6818780</td>\n",
       "      <td>1043_-1</td>\n",
       "      <td>628629</td>\n",
       "      <td>Участок</td>\n",
       "      <td>7503.0</td>\n",
       "      <td>N</td>\n",
       "      <td>0.0</td>\n",
       "      <td>Y</td>\n",
       "      <td>N</td>\n",
       "      <td>87.0</td>\n",
       "      <td>...</td>\n",
       "      <td>42.0</td>\n",
       "      <td>720176.0</td>\n",
       "      <td>58950.0</td>\n",
       "      <td>779126.0</td>\n",
       "      <td>8290896.0</td>\n",
       "      <td>0</td>\n",
       "      <td>0</td>\n",
       "      <td>0</td>\n",
       "      <td>0</td>\n",
       "      <td>0</td>\n",
       "    </tr>\n",
       "    <tr>\n",
       "      <th>1</th>\n",
       "      <td>9907176</td>\n",
       "      <td>1023_-1</td>\n",
       "      <td>102976</td>\n",
       "      <td>ММПО</td>\n",
       "      <td>7503.0</td>\n",
       "      <td>N</td>\n",
       "      <td>0.0</td>\n",
       "      <td>N</td>\n",
       "      <td>N</td>\n",
       "      <td>107.0</td>\n",
       "      <td>...</td>\n",
       "      <td>914.0</td>\n",
       "      <td>48856658.0</td>\n",
       "      <td>83318932.0</td>\n",
       "      <td>132175590.0</td>\n",
       "      <td>136819803.0</td>\n",
       "      <td>0</td>\n",
       "      <td>0</td>\n",
       "      <td>0</td>\n",
       "      <td>0</td>\n",
       "      <td>0</td>\n",
       "    </tr>\n",
       "    <tr>\n",
       "      <th>2</th>\n",
       "      <td>3304275</td>\n",
       "      <td>1018_-1</td>\n",
       "      <td>620962</td>\n",
       "      <td>Цех</td>\n",
       "      <td>7503.0</td>\n",
       "      <td>N</td>\n",
       "      <td>0.0</td>\n",
       "      <td>Y</td>\n",
       "      <td>N</td>\n",
       "      <td>50.0</td>\n",
       "      <td>...</td>\n",
       "      <td>62.0</td>\n",
       "      <td>3246292.0</td>\n",
       "      <td>3233068.0</td>\n",
       "      <td>6479360.0</td>\n",
       "      <td>52708071.0</td>\n",
       "      <td>0</td>\n",
       "      <td>1</td>\n",
       "      <td>0</td>\n",
       "      <td>0</td>\n",
       "      <td>0</td>\n",
       "    </tr>\n",
       "    <tr>\n",
       "      <th>3</th>\n",
       "      <td>9020937</td>\n",
       "      <td>1019_-1</td>\n",
       "      <td>344964</td>\n",
       "      <td>Цех</td>\n",
       "      <td>7503.0</td>\n",
       "      <td>N</td>\n",
       "      <td>0.0</td>\n",
       "      <td>Y</td>\n",
       "      <td>N</td>\n",
       "      <td>416.0</td>\n",
       "      <td>...</td>\n",
       "      <td>55.0</td>\n",
       "      <td>2060928.0</td>\n",
       "      <td>653280.0</td>\n",
       "      <td>2714208.0</td>\n",
       "      <td>19562334.0</td>\n",
       "      <td>0</td>\n",
       "      <td>0</td>\n",
       "      <td>0</td>\n",
       "      <td>0</td>\n",
       "      <td>0</td>\n",
       "    </tr>\n",
       "    <tr>\n",
       "      <th>4</th>\n",
       "      <td>3082311</td>\n",
       "      <td>1020_-1</td>\n",
       "      <td>629819</td>\n",
       "      <td>Участок</td>\n",
       "      <td>7503.0</td>\n",
       "      <td>N</td>\n",
       "      <td>0.0</td>\n",
       "      <td>Y</td>\n",
       "      <td>N</td>\n",
       "      <td>795.0</td>\n",
       "      <td>...</td>\n",
       "      <td>16.0</td>\n",
       "      <td>316919.0</td>\n",
       "      <td>27911.0</td>\n",
       "      <td>344830.0</td>\n",
       "      <td>4719186.0</td>\n",
       "      <td>0</td>\n",
       "      <td>0</td>\n",
       "      <td>0</td>\n",
       "      <td>0</td>\n",
       "      <td>0</td>\n",
       "    </tr>\n",
       "  </tbody>\n",
       "</table>\n",
       "<p>5 rows × 29 columns</p>\n",
       "</div>"
      ],
      "text/plain": [
       "        id oper_type + oper_attr index_oper     type  priority  \\\n",
       "0  6818780               1043_-1     628629  Участок    7503.0   \n",
       "1  9907176               1023_-1     102976     ММПО    7503.0   \n",
       "2  3304275               1018_-1     620962      Цех    7503.0   \n",
       "3  9020937               1019_-1     344964      Цех    7503.0   \n",
       "4  3082311               1020_-1     629819  Участок    7503.0   \n",
       "\n",
       "  is_privatecategory  class is_in_yandex is_return  weight  ...  \\\n",
       "0                  N    0.0            Y         N    87.0  ...   \n",
       "1                  N    0.0            N         N   107.0  ...   \n",
       "2                  N    0.0            Y         N    50.0  ...   \n",
       "3                  N    0.0            Y         N   416.0  ...   \n",
       "4                  N    0.0            Y         N   795.0  ...   \n",
       "\n",
       "   dist_qty_oper_login_1  total_qty_oper_login_1  total_qty_oper_login_0  \\\n",
       "0                   42.0                720176.0                 58950.0   \n",
       "1                  914.0              48856658.0              83318932.0   \n",
       "2                   62.0               3246292.0               3233068.0   \n",
       "3                   55.0               2060928.0                653280.0   \n",
       "4                   16.0                316919.0                 27911.0   \n",
       "\n",
       "   total_qty_over_index_and_type  total_qty_over_index  is_wrong_sndr_name  \\\n",
       "0                       779126.0             8290896.0                   0   \n",
       "1                    132175590.0           136819803.0                   0   \n",
       "2                      6479360.0            52708071.0                   0   \n",
       "3                      2714208.0            19562334.0                   0   \n",
       "4                       344830.0             4719186.0                   0   \n",
       "\n",
       "  is_wrong_rcpn_name  is_wrong_phone_number  is_wrong_address  label  \n",
       "0                  0                      0                 0      0  \n",
       "1                  0                      0                 0      0  \n",
       "2                  1                      0                 0      0  \n",
       "3                  0                      0                 0      0  \n",
       "4                  0                      0                 0      0  \n",
       "\n",
       "[5 rows x 29 columns]"
      ]
     },
     "execution_count": 3,
     "metadata": {},
     "output_type": "execute_result"
    }
   ],
   "source": [
    "df.head()"
   ]
  },
  {
   "cell_type": "code",
   "execution_count": 4,
   "id": "382f7497",
   "metadata": {
    "cellId": "47yw9o8jjll4npgmhd2hum"
   },
   "outputs": [
    {
     "data": {
      "text/html": [
       "<div>\n",
       "<style scoped>\n",
       "    .dataframe tbody tr th:only-of-type {\n",
       "        vertical-align: middle;\n",
       "    }\n",
       "\n",
       "    .dataframe tbody tr th {\n",
       "        vertical-align: top;\n",
       "    }\n",
       "\n",
       "    .dataframe thead th {\n",
       "        text-align: right;\n",
       "    }\n",
       "</style>\n",
       "<table border=\"1\" class=\"dataframe\">\n",
       "  <thead>\n",
       "    <tr style=\"text-align: right;\">\n",
       "      <th></th>\n",
       "      <th>id</th>\n",
       "      <th>oper_type + oper_attr</th>\n",
       "      <th>index_oper</th>\n",
       "      <th>type</th>\n",
       "      <th>priority</th>\n",
       "      <th>is_privatecategory</th>\n",
       "      <th>class</th>\n",
       "      <th>is_in_yandex</th>\n",
       "      <th>is_return</th>\n",
       "      <th>weight</th>\n",
       "      <th>...</th>\n",
       "      <th>price_mfi</th>\n",
       "      <th>dist_qty_oper_login_1</th>\n",
       "      <th>total_qty_oper_login_1</th>\n",
       "      <th>total_qty_oper_login_0</th>\n",
       "      <th>total_qty_over_index_and_type</th>\n",
       "      <th>total_qty_over_index</th>\n",
       "      <th>is_wrong_sndr_name</th>\n",
       "      <th>is_wrong_rcpn_name</th>\n",
       "      <th>is_wrong_phone_number</th>\n",
       "      <th>is_wrong_address</th>\n",
       "    </tr>\n",
       "  </thead>\n",
       "  <tbody>\n",
       "    <tr>\n",
       "      <th>0</th>\n",
       "      <td>7815282</td>\n",
       "      <td>8_13</td>\n",
       "      <td>102976</td>\n",
       "      <td>ММПО</td>\n",
       "      <td>7503.0</td>\n",
       "      <td>N</td>\n",
       "      <td>0.0</td>\n",
       "      <td>N</td>\n",
       "      <td>N</td>\n",
       "      <td>85.0</td>\n",
       "      <td>...</td>\n",
       "      <td>489.0</td>\n",
       "      <td>972.0</td>\n",
       "      <td>68766046.0</td>\n",
       "      <td>91123247.0</td>\n",
       "      <td>159889293.0</td>\n",
       "      <td>164927295.0</td>\n",
       "      <td>0</td>\n",
       "      <td>0</td>\n",
       "      <td>0</td>\n",
       "      <td>0</td>\n",
       "    </tr>\n",
       "    <tr>\n",
       "      <th>1</th>\n",
       "      <td>8443555</td>\n",
       "      <td>8_2</td>\n",
       "      <td>238753</td>\n",
       "      <td>ГОПС</td>\n",
       "      <td>7503.0</td>\n",
       "      <td>N</td>\n",
       "      <td>4.0</td>\n",
       "      <td>Y</td>\n",
       "      <td>N</td>\n",
       "      <td>21.0</td>\n",
       "      <td>...</td>\n",
       "      <td>186.0</td>\n",
       "      <td>2.0</td>\n",
       "      <td>2895.0</td>\n",
       "      <td>1545.0</td>\n",
       "      <td>4440.0</td>\n",
       "      <td>20623.0</td>\n",
       "      <td>0</td>\n",
       "      <td>1</td>\n",
       "      <td>1</td>\n",
       "      <td>0</td>\n",
       "    </tr>\n",
       "    <tr>\n",
       "      <th>2</th>\n",
       "      <td>6352559</td>\n",
       "      <td>1020_-1</td>\n",
       "      <td>618254</td>\n",
       "      <td>ГОПС</td>\n",
       "      <td>7503.0</td>\n",
       "      <td>N</td>\n",
       "      <td>4.0</td>\n",
       "      <td>Y</td>\n",
       "      <td>N</td>\n",
       "      <td>388.0</td>\n",
       "      <td>...</td>\n",
       "      <td>500.0</td>\n",
       "      <td>3.0</td>\n",
       "      <td>2751.0</td>\n",
       "      <td>993.0</td>\n",
       "      <td>3744.0</td>\n",
       "      <td>37817.0</td>\n",
       "      <td>0</td>\n",
       "      <td>0</td>\n",
       "      <td>0</td>\n",
       "      <td>0</td>\n",
       "    </tr>\n",
       "    <tr>\n",
       "      <th>3</th>\n",
       "      <td>4921420</td>\n",
       "      <td>1016_-1</td>\n",
       "      <td>102968</td>\n",
       "      <td>ТИ</td>\n",
       "      <td>7503.0</td>\n",
       "      <td>N</td>\n",
       "      <td>0.0</td>\n",
       "      <td>N</td>\n",
       "      <td>N</td>\n",
       "      <td>1203.0</td>\n",
       "      <td>...</td>\n",
       "      <td>0.0</td>\n",
       "      <td>69.0</td>\n",
       "      <td>9379609.0</td>\n",
       "      <td>2267333.0</td>\n",
       "      <td>11646942.0</td>\n",
       "      <td>11759329.0</td>\n",
       "      <td>0</td>\n",
       "      <td>1</td>\n",
       "      <td>0</td>\n",
       "      <td>0</td>\n",
       "    </tr>\n",
       "    <tr>\n",
       "      <th>4</th>\n",
       "      <td>1420440</td>\n",
       "      <td>1018_-1</td>\n",
       "      <td>102971</td>\n",
       "      <td>Цех</td>\n",
       "      <td>7506.0</td>\n",
       "      <td>N</td>\n",
       "      <td>0.0</td>\n",
       "      <td>N</td>\n",
       "      <td>N</td>\n",
       "      <td>956.0</td>\n",
       "      <td>...</td>\n",
       "      <td>1267.0</td>\n",
       "      <td>181.0</td>\n",
       "      <td>76138189.0</td>\n",
       "      <td>8747.0</td>\n",
       "      <td>76146936.0</td>\n",
       "      <td>84110459.0</td>\n",
       "      <td>0</td>\n",
       "      <td>1</td>\n",
       "      <td>0</td>\n",
       "      <td>0</td>\n",
       "    </tr>\n",
       "  </tbody>\n",
       "</table>\n",
       "<p>5 rows × 28 columns</p>\n",
       "</div>"
      ],
      "text/plain": [
       "        id oper_type + oper_attr index_oper  type  priority  \\\n",
       "0  7815282                  8_13     102976  ММПО    7503.0   \n",
       "1  8443555                   8_2     238753  ГОПС    7503.0   \n",
       "2  6352559               1020_-1     618254  ГОПС    7503.0   \n",
       "3  4921420               1016_-1     102968    ТИ    7503.0   \n",
       "4  1420440               1018_-1     102971   Цех    7506.0   \n",
       "\n",
       "  is_privatecategory  class is_in_yandex is_return  weight  ...  price_mfi  \\\n",
       "0                  N    0.0            N         N    85.0  ...      489.0   \n",
       "1                  N    4.0            Y         N    21.0  ...      186.0   \n",
       "2                  N    4.0            Y         N   388.0  ...      500.0   \n",
       "3                  N    0.0            N         N  1203.0  ...        0.0   \n",
       "4                  N    0.0            N         N   956.0  ...     1267.0   \n",
       "\n",
       "   dist_qty_oper_login_1  total_qty_oper_login_1  total_qty_oper_login_0  \\\n",
       "0                  972.0              68766046.0              91123247.0   \n",
       "1                    2.0                  2895.0                  1545.0   \n",
       "2                    3.0                  2751.0                   993.0   \n",
       "3                   69.0               9379609.0               2267333.0   \n",
       "4                  181.0              76138189.0                  8747.0   \n",
       "\n",
       "   total_qty_over_index_and_type  total_qty_over_index is_wrong_sndr_name  \\\n",
       "0                    159889293.0           164927295.0                  0   \n",
       "1                         4440.0               20623.0                  0   \n",
       "2                         3744.0               37817.0                  0   \n",
       "3                     11646942.0            11759329.0                  0   \n",
       "4                     76146936.0            84110459.0                  0   \n",
       "\n",
       "   is_wrong_rcpn_name  is_wrong_phone_number  is_wrong_address  \n",
       "0                   0                      0                 0  \n",
       "1                   1                      1                 0  \n",
       "2                   0                      0                 0  \n",
       "3                   1                      0                 0  \n",
       "4                   1                      0                 0  \n",
       "\n",
       "[5 rows x 28 columns]"
      ]
     },
     "execution_count": 4,
     "metadata": {},
     "output_type": "execute_result"
    }
   ],
   "source": [
    "df_test.head()"
   ]
  },
  {
   "cell_type": "code",
   "execution_count": 5,
   "id": "9ce17981",
   "metadata": {
    "cellId": "a6jgedm5y9s7rf4qg9za6n"
   },
   "outputs": [
    {
     "name": "stdout",
     "output_type": "stream",
     "text": [
      "<class 'pandas.core.frame.DataFrame'>\n",
      "RangeIndex: 6000000 entries, 0 to 5999999\n",
      "Data columns (total 29 columns):\n",
      "id                               int64\n",
      "oper_type + oper_attr            object\n",
      "index_oper                       object\n",
      "type                             object\n",
      "priority                         float64\n",
      "is_privatecategory               object\n",
      "class                            float64\n",
      "is_in_yandex                     object\n",
      "is_return                        object\n",
      "weight                           float64\n",
      "mailtype                         float64\n",
      "mailctg                          float64\n",
      "mailrank                         float64\n",
      "directctg                        float64\n",
      "transport_pay                    float64\n",
      "postmark                         float64\n",
      "name_mfi                         object\n",
      "weight_mfi                       float64\n",
      "price_mfi                        float64\n",
      "dist_qty_oper_login_1            float64\n",
      "total_qty_oper_login_1           float64\n",
      "total_qty_oper_login_0           float64\n",
      "total_qty_over_index_and_type    float64\n",
      "total_qty_over_index             float64\n",
      "is_wrong_sndr_name               int64\n",
      "is_wrong_rcpn_name               int64\n",
      "is_wrong_phone_number            int64\n",
      "is_wrong_address                 int64\n",
      "label                            int64\n",
      "dtypes: float64(16), int64(6), object(7)\n",
      "memory usage: 1.3+ GB\n"
     ]
    }
   ],
   "source": [
    "df.info()"
   ]
  },
  {
   "cell_type": "code",
   "execution_count": 6,
   "id": "86f836f8",
   "metadata": {
    "cellId": "4oadvkfjvpapzuowvlygoa"
   },
   "outputs": [
    {
     "name": "stdout",
     "output_type": "stream",
     "text": [
      "<class 'pandas.core.frame.DataFrame'>\n",
      "RangeIndex: 4000000 entries, 0 to 3999999\n",
      "Data columns (total 28 columns):\n",
      "id                               int64\n",
      "oper_type + oper_attr            object\n",
      "index_oper                       object\n",
      "type                             object\n",
      "priority                         float64\n",
      "is_privatecategory               object\n",
      "class                            float64\n",
      "is_in_yandex                     object\n",
      "is_return                        object\n",
      "weight                           float64\n",
      "mailtype                         float64\n",
      "mailctg                          float64\n",
      "mailrank                         float64\n",
      "directctg                        float64\n",
      "transport_pay                    float64\n",
      "postmark                         float64\n",
      "name_mfi                         object\n",
      "weight_mfi                       float64\n",
      "price_mfi                        float64\n",
      "dist_qty_oper_login_1            float64\n",
      "total_qty_oper_login_1           float64\n",
      "total_qty_oper_login_0           float64\n",
      "total_qty_over_index_and_type    float64\n",
      "total_qty_over_index             float64\n",
      "is_wrong_sndr_name               int64\n",
      "is_wrong_rcpn_name               int64\n",
      "is_wrong_phone_number            int64\n",
      "is_wrong_address                 int64\n",
      "dtypes: float64(16), int64(5), object(7)\n",
      "memory usage: 854.5+ MB\n"
     ]
    }
   ],
   "source": [
    "df_test.info()"
   ]
  },
  {
   "cell_type": "code",
   "execution_count": 7,
   "id": "c98b0c87",
   "metadata": {
    "cellId": "gfggy7v7mlgzmdiu97fa8"
   },
   "outputs": [
    {
     "data": {
      "text/plain": [
       "0.0    6000000\n",
       "Name: mailrank, dtype: int64"
      ]
     },
     "execution_count": 7,
     "metadata": {},
     "output_type": "execute_result"
    }
   ],
   "source": [
    "df['mailrank'].value_counts()"
   ]
  },
  {
   "cell_type": "code",
   "execution_count": 8,
   "id": "9ec889f4",
   "metadata": {
    "cellId": "11sdyahrtg9jn383mzndnd"
   },
   "outputs": [
    {
     "data": {
      "text/plain": [
       "0.0    4000000\n",
       "Name: mailrank, dtype: int64"
      ]
     },
     "execution_count": 8,
     "metadata": {},
     "output_type": "execute_result"
    }
   ],
   "source": [
    "df_test['mailrank'].value_counts()"
   ]
  },
  {
   "cell_type": "code",
   "execution_count": 10,
   "id": "8d9a11bd",
   "metadata": {
    "cellId": "ka4ynee56gpeibdhuvo9cb"
   },
   "outputs": [],
   "source": [
    "df = df.drop('mailrank',axis=1)\n",
    "df_test = df_test.drop('mailrank',axis=1)"
   ]
  },
  {
   "cell_type": "code",
   "execution_count": 11,
   "id": "070d81ad",
   "metadata": {
    "cellId": "bgwtonnqzol3n4bf8o2fq3"
   },
   "outputs": [],
   "source": [
    "df = df.drop('name_mfi',axis=1)\n",
    "df_test = df_test.drop('name_mfi',axis=1)"
   ]
  },
  {
   "cell_type": "markdown",
   "id": "85029026",
   "metadata": {
    "cellId": "61u0sv07xx5wij9qyu4ivo",
    "execution_id": "7d385845-1c8d-410d-afea-5cb0b9b8c7e9"
   },
   "source": [
    "Слишком много схожих названий,пробовала объединить в группы.После удаления признака ,качество модели не изменилось"
   ]
  },
  {
   "cell_type": "code",
   "execution_count": 12,
   "id": "46424849",
   "metadata": {
    "cellId": "t3qwubokbqbqtx3wpukis"
   },
   "outputs": [],
   "source": [
    "df['oper_type'], df['oper_attr'] = zip(*df['oper_type + oper_attr'].map(lambda x: re.split(r'\\_', x)))\n",
    "df_test['oper_type'], df_test['oper_attr'] = zip(*df_test['oper_type + oper_attr'].map(lambda x: re.split(r'\\_', x)))"
   ]
  },
  {
   "cell_type": "code",
   "execution_count": 13,
   "id": "c8b07185",
   "metadata": {
    "cellId": "7xlitratg5p2yz8cvg32no"
   },
   "outputs": [],
   "source": [
    "df = df.drop('oper_type + oper_attr',axis=1)\n",
    "df_test = df_test.drop('oper_type + oper_attr',axis=1)"
   ]
  },
  {
   "cell_type": "code",
   "execution_count": 14,
   "id": "366e6074",
   "metadata": {
    "cellId": "ibrbm47iqugksokobyudmb"
   },
   "outputs": [
    {
     "name": "stdout",
     "output_type": "stream",
     "text": [
      "<class 'pandas.core.frame.DataFrame'>\n",
      "RangeIndex: 6000000 entries, 0 to 5999999\n",
      "Data columns (total 28 columns):\n",
      "id                               int64\n",
      "index_oper                       object\n",
      "type                             object\n",
      "priority                         float64\n",
      "is_privatecategory               object\n",
      "class                            float64\n",
      "is_in_yandex                     object\n",
      "is_return                        object\n",
      "weight                           float64\n",
      "mailtype                         float64\n",
      "mailctg                          float64\n",
      "directctg                        float64\n",
      "transport_pay                    float64\n",
      "postmark                         float64\n",
      "weight_mfi                       float64\n",
      "price_mfi                        float64\n",
      "dist_qty_oper_login_1            float64\n",
      "total_qty_oper_login_1           float64\n",
      "total_qty_oper_login_0           float64\n",
      "total_qty_over_index_and_type    float64\n",
      "total_qty_over_index             float64\n",
      "is_wrong_sndr_name               int64\n",
      "is_wrong_rcpn_name               int64\n",
      "is_wrong_phone_number            int64\n",
      "is_wrong_address                 int64\n",
      "label                            int64\n",
      "oper_type                        object\n",
      "oper_attr                        object\n",
      "dtypes: float64(15), int64(6), object(7)\n",
      "memory usage: 1.3+ GB\n"
     ]
    }
   ],
   "source": [
    "df.info()"
   ]
  },
  {
   "cell_type": "code",
   "execution_count": 15,
   "id": "eb30f190",
   "metadata": {
    "cellId": "iot8ivpd88mrcvv0e6qp"
   },
   "outputs": [],
   "source": [
    "df['index_oper'] = pd.to_numeric(df['index_oper'],errors='coerce')\n",
    "df_test['index_oper'] = pd.to_numeric(df_test['index_oper'],errors='coerce')"
   ]
  },
  {
   "cell_type": "code",
   "execution_count": 17,
   "id": "2cdca802",
   "metadata": {
    "cellId": "8i0w0imm6a9jkeuuemj4"
   },
   "outputs": [
    {
     "data": {
      "text/plain": [
       "154"
      ]
     },
     "execution_count": 17,
     "metadata": {},
     "output_type": "execute_result"
    }
   ],
   "source": [
    "df['index_oper'].isnull().sum()"
   ]
  },
  {
   "cell_type": "code",
   "execution_count": 18,
   "id": "45e48242",
   "metadata": {
    "cellId": "m24b9062x9ldiujdkehwp4"
   },
   "outputs": [
    {
     "data": {
      "text/plain": [
       "101"
      ]
     },
     "execution_count": 18,
     "metadata": {},
     "output_type": "execute_result"
    }
   ],
   "source": [
    "df_test['index_oper'].isnull().sum()"
   ]
  },
  {
   "cell_type": "code",
   "execution_count": 19,
   "id": "36237549",
   "metadata": {
    "cellId": "5y147kv8cssnflifn522"
   },
   "outputs": [],
   "source": [
    "df['index_oper'] = df['index_oper'].fillna(0).astype(int)\n",
    "df_test['index_oper'] = df_test['index_oper'].fillna(0).astype(int)"
   ]
  },
  {
   "cell_type": "code",
   "execution_count": 20,
   "id": "b4a9646c",
   "metadata": {
    "cellId": "fi3no6p9r6di3rqsyl1cy"
   },
   "outputs": [
    {
     "data": {
      "text/plain": [
       "0"
      ]
     },
     "execution_count": 20,
     "metadata": {},
     "output_type": "execute_result"
    }
   ],
   "source": [
    "df['index_oper'].isnull().sum()"
   ]
  },
  {
   "cell_type": "code",
   "execution_count": 21,
   "id": "ad936b4b",
   "metadata": {
    "cellId": "n02r19olpj837f8h2nbof"
   },
   "outputs": [],
   "source": [
    "convert_dict = {'total_qty_over_index': int,\n",
    "                'total_qty_over_index_and_type': int,\n",
    "                'total_qty_oper_login_0' : int,\n",
    "                'total_qty_oper_login_1': int,\n",
    "                'dist_qty_oper_login_1' : int,\n",
    "                'weight_mfi': int,\n",
    "                'directctg': int,\n",
    "                'mailtype': int,\n",
    "                'mailctg': int,\n",
    "                'priority': int,\n",
    "                'class': int,\n",
    "                'weight': int,\n",
    "                'postmark': int,\n",
    "                'price_mfi': int,\n",
    "                'oper_type': int,\n",
    "                'oper_attr': int }\n",
    " \n",
    "df = df.astype(convert_dict)"
   ]
  },
  {
   "cell_type": "code",
   "execution_count": 22,
   "id": "e7b1112f",
   "metadata": {
    "cellId": "ayy02ugrnzlw53s4hyj1oi"
   },
   "outputs": [],
   "source": [
    "df_test = df_test.astype(convert_dict)"
   ]
  },
  {
   "cell_type": "code",
   "execution_count": 24,
   "id": "3f99ff9e",
   "metadata": {
    "cellId": "8yfcctbxdy2cgxk34lgexb"
   },
   "outputs": [],
   "source": [
    "df_test['transport_pay'] = df_test['transport_pay'].astype(int)\n",
    "df['transport_pay'] = df['transport_pay'].astype(int)"
   ]
  },
  {
   "cell_type": "code",
   "execution_count": 25,
   "id": "e8fcb980",
   "metadata": {
    "cellId": "8ql9v1zr6o25nm8ypyn0fg"
   },
   "outputs": [
    {
     "name": "stdout",
     "output_type": "stream",
     "text": [
      "<class 'pandas.core.frame.DataFrame'>\n",
      "RangeIndex: 6000000 entries, 0 to 5999999\n",
      "Data columns (total 28 columns):\n",
      "id                               int64\n",
      "index_oper                       int64\n",
      "type                             object\n",
      "priority                         int64\n",
      "is_privatecategory               object\n",
      "class                            int64\n",
      "is_in_yandex                     object\n",
      "is_return                        object\n",
      "weight                           int64\n",
      "mailtype                         int64\n",
      "mailctg                          int64\n",
      "directctg                        int64\n",
      "transport_pay                    int64\n",
      "postmark                         int64\n",
      "weight_mfi                       int64\n",
      "price_mfi                        int64\n",
      "dist_qty_oper_login_1            int64\n",
      "total_qty_oper_login_1           int64\n",
      "total_qty_oper_login_0           int64\n",
      "total_qty_over_index_and_type    int64\n",
      "total_qty_over_index             int64\n",
      "is_wrong_sndr_name               int64\n",
      "is_wrong_rcpn_name               int64\n",
      "is_wrong_phone_number            int64\n",
      "is_wrong_address                 int64\n",
      "label                            int64\n",
      "oper_type                        int64\n",
      "oper_attr                        int64\n",
      "dtypes: int64(24), object(4)\n",
      "memory usage: 1.3+ GB\n"
     ]
    }
   ],
   "source": [
    "df.info()"
   ]
  },
  {
   "cell_type": "code",
   "execution_count": 28,
   "id": "ed5bf81d",
   "metadata": {
    "cellId": "aubzy264xmlolaap6ys7tq"
   },
   "outputs": [
    {
     "data": {
      "text/plain": [
       "Цех               0.348945\n",
       "ММПО              0.269162\n",
       "Участок           0.154439\n",
       "ГОПС              0.077292\n",
       "ТИ                0.050915\n",
       "П                 0.040969\n",
       "МСЦ               0.037207\n",
       "СОПС              0.012027\n",
       "СЦ                0.002078\n",
       "ОП                0.001588\n",
       "МСО               0.001244\n",
       "ОПП               0.001198\n",
       "АОПП              0.001114\n",
       "МРП               0.000642\n",
       "0                 0.000574\n",
       "АО                0.000217\n",
       "ПЕРЕДВИЖНОЕ ОС    0.000168\n",
       "ППС               0.000114\n",
       "УМСЦ              0.000095\n",
       "УКД               0.000014\n",
       "Name: type, dtype: float64"
      ]
     },
     "execution_count": 28,
     "metadata": {},
     "output_type": "execute_result"
    }
   ],
   "source": [
    "df['type'].value_counts(normalize=True)"
   ]
  },
  {
   "cell_type": "code",
   "execution_count": 29,
   "id": "e33ea931",
   "metadata": {
    "cellId": "o0mk418utuftmy72jha4x"
   },
   "outputs": [
    {
     "data": {
      "text/plain": [
       "Цех               0.348789\n",
       "ММПО              0.268999\n",
       "Участок           0.154757\n",
       "ГОПС              0.077219\n",
       "ТИ                0.050754\n",
       "П                 0.041117\n",
       "МСЦ               0.037344\n",
       "СОПС              0.012029\n",
       "СЦ                0.002077\n",
       "ОП                0.001610\n",
       "МСО               0.001279\n",
       "АОПП              0.001133\n",
       "ОПП               0.001116\n",
       "МРП               0.000630\n",
       "0                 0.000562\n",
       "АО                0.000202\n",
       "ПЕРЕДВИЖНОЕ ОС    0.000151\n",
       "УМСЦ              0.000108\n",
       "ППС               0.000107\n",
       "УКД               0.000016\n",
       "Name: type, dtype: float64"
      ]
     },
     "execution_count": 29,
     "metadata": {},
     "output_type": "execute_result"
    }
   ],
   "source": [
    "df_test['type'].value_counts(normalize=True)"
   ]
  },
  {
   "cell_type": "code",
   "execution_count": 34,
   "id": "9a2d0e7e",
   "metadata": {
    "cellId": "8xbvz2tpvt85z17nth8vjm"
   },
   "outputs": [
    {
     "data": {
      "text/plain": [
       "7503    0.665086\n",
       "7506    0.290771\n",
       "7504    0.043597\n",
       "0       0.000545\n",
       "Name: priority, dtype: float64"
      ]
     },
     "execution_count": 34,
     "metadata": {},
     "output_type": "execute_result"
    }
   ],
   "source": [
    "df['priority'].value_counts(normalize=True)"
   ]
  },
  {
   "cell_type": "code",
   "execution_count": 33,
   "id": "0f99f882",
   "metadata": {
    "cellId": "r3lo5tzzf8srzjn5w9l7l"
   },
   "outputs": [
    {
     "data": {
      "text/plain": [
       "7503    0.665208\n",
       "7506    0.290712\n",
       "7504    0.043556\n",
       "0       0.000523\n",
       "Name: priority, dtype: float64"
      ]
     },
     "execution_count": 33,
     "metadata": {},
     "output_type": "execute_result"
    }
   ],
   "source": [
    "df_test['priority'].value_counts(normalize=True)"
   ]
  },
  {
   "cell_type": "code",
   "execution_count": 32,
   "id": "69b06334",
   "metadata": {
    "cellId": "zak5q7n6lzbpw03pj02q4i"
   },
   "outputs": [
    {
     "data": {
      "text/plain": [
       "<AxesSubplot:xlabel='priority', ylabel='count'>"
      ]
     },
     "execution_count": 32,
     "metadata": {},
     "output_type": "execute_result"
    },
    {
     "data": {
      "image/png": "[encoded data removed]",
      "text/plain": [
       "<Figure size 432x288 with 1 Axes>"
      ]
     },
     "metadata": {
      "needs_background": "light"
     },
     "output_type": "display_data"
    }
   ],
   "source": [
    "sns.countplot(x = \"priority\" , data  = df) "
   ]
  },
  {
   "cell_type": "markdown",
   "id": "e0c0ab5f",
   "metadata": {
    "cellId": "h6zfufk8hfi970r1yzkp",
    "execution_id": "3ecca3e5-b21c-47d3-8a06-8ffcc1cb859f"
   },
   "source": [
    "# Функция для вычисление ошибки"
   ]
  },
  {
   "cell_type": "code",
   "execution_count": 38,
   "id": "02b8b929",
   "metadata": {
    "cellId": "u5vm6bejibm607ikhrnhc7"
   },
   "outputs": [],
   "source": [
    "def met(target,predict):\n",
    "    recall = recall_score(target,predict)\n",
    "    auc_roc = roc_auc_score(target,predict)\n",
    "    met  = 0.1*recall + 0.9*auc_roc\n",
    "    return met"
   ]
  },
  {
   "cell_type": "code",
   "execution_count": 39,
   "id": "f3236716",
   "metadata": {
    "cellId": "13rt735pqoun0g8qm99sdah"
   },
   "outputs": [],
   "source": [
    "scorer = make_scorer(met,greater_is_better=False)"
   ]
  },
  {
   "cell_type": "code",
   "execution_count": 67,
   "id": "c27511dd",
   "metadata": {
    "cellId": "n8w5rtljf5pbz0thv9w82e"
   },
   "outputs": [],
   "source": [
    "features = df.drop(['id','label','oper_attr','oper_type'],axis=1 )\n",
    "target = df['label']\n",
    "features_test = df_test.drop(['id','oper_attr','oper_type'],axis=1)"
   ]
  },
  {
   "cell_type": "code",
   "execution_count": 41,
   "id": "c5944ae2",
   "metadata": {
    "cellId": "2vft1d31hpvyqisjmdtzv"
   },
   "outputs": [
    {
     "name": "stdout",
     "output_type": "stream",
     "text": [
      "<class 'pandas.core.frame.DataFrame'>\n",
      "RangeIndex: 6000000 entries, 0 to 5999999\n",
      "Data columns (total 24 columns):\n",
      "index_oper                       int64\n",
      "type                             object\n",
      "priority                         int64\n",
      "is_privatecategory               object\n",
      "class                            int64\n",
      "is_in_yandex                     object\n",
      "is_return                        object\n",
      "weight                           int64\n",
      "mailtype                         int64\n",
      "mailctg                          int64\n",
      "directctg                        int64\n",
      "transport_pay                    int64\n",
      "postmark                         int64\n",
      "weight_mfi                       int64\n",
      "price_mfi                        int64\n",
      "dist_qty_oper_login_1            int64\n",
      "total_qty_oper_login_1           int64\n",
      "total_qty_oper_login_0           int64\n",
      "total_qty_over_index_and_type    int64\n",
      "total_qty_over_index             int64\n",
      "is_wrong_sndr_name               int64\n",
      "is_wrong_rcpn_name               int64\n",
      "is_wrong_phone_number            int64\n",
      "is_wrong_address                 int64\n",
      "dtypes: int64(20), object(4)\n",
      "memory usage: 1.1+ GB\n"
     ]
    }
   ],
   "source": [
    "features.info()"
   ]
  },
  {
   "cell_type": "code",
   "execution_count": 68,
   "id": "0a7e25fc",
   "metadata": {
    "cellId": "rlr3znctacjvvade96obkl"
   },
   "outputs": [],
   "source": [
    "features_train,features_valid,target_train,target_valid = train_test_split(features,target,test_size=0.25,random_state=12345,stratify = target)"
   ]
  },
  {
   "cell_type": "code",
   "execution_count": 43,
   "id": "d95ef0f1",
   "metadata": {
    "cellId": "bazjze26838bctg094gij"
   },
   "outputs": [],
   "source": [
    "cat_features = ['type','is_privatecategory','is_in_yandex','is_return']"
   ]
  },
  {
   "cell_type": "code",
   "execution_count": 44,
   "id": "070764df",
   "metadata": {
    "cellId": "lpsbbdy1p1ce46s9kkvok"
   },
   "outputs": [
    {
     "name": "stdout",
     "output_type": "stream",
     "text": [
      "train: 0.9129818815302797\n",
      "valid: 0.8801651450871115\n",
      "CPU times: user 8h 35min 12s, sys: 2h 40min, total: 11h 15min 12s\n",
      "Wall time: 53min 37s\n"
     ]
    }
   ],
   "source": [
    "#!c1.32\n",
    "%%time \n",
    "model = CatBoostClassifier(random_state=12345,class_weights = (1,34),verbose=False,learning_rate=0.03,l2_leaf_reg = 8,depth = 16)\n",
    "model.fit(features_train, target_train,cat_features = cat_features)\n",
    "predict_train = model.predict(features_train)\n",
    "predict_valid = model.predict(features_valid)\n",
    "print('train:',met(target_train,predict_train))\n",
    "print('valid:',met(target_valid,predict_valid))"
   ]
  },
  {
   "cell_type": "code",
   "execution_count": 45,
   "id": "8b0ca1ab",
   "metadata": {
    "cellId": "f7a9eno1hmepjp09nu1gpf"
   },
   "outputs": [
    {
     "data": {
      "text/html": [
       "<div>\n",
       "<style scoped>\n",
       "    .dataframe tbody tr th:only-of-type {\n",
       "        vertical-align: middle;\n",
       "    }\n",
       "\n",
       "    .dataframe tbody tr th {\n",
       "        vertical-align: top;\n",
       "    }\n",
       "\n",
       "    .dataframe thead th {\n",
       "        text-align: right;\n",
       "    }\n",
       "</style>\n",
       "<table border=\"1\" class=\"dataframe\">\n",
       "  <thead>\n",
       "    <tr style=\"text-align: right;\">\n",
       "      <th></th>\n",
       "      <th>0</th>\n",
       "    </tr>\n",
       "  </thead>\n",
       "  <tbody>\n",
       "    <tr>\n",
       "      <th>type</th>\n",
       "      <td>9.909211</td>\n",
       "    </tr>\n",
       "    <tr>\n",
       "      <th>index_oper</th>\n",
       "      <td>9.658158</td>\n",
       "    </tr>\n",
       "    <tr>\n",
       "      <th>total_qty_oper_login_0</th>\n",
       "      <td>8.856761</td>\n",
       "    </tr>\n",
       "    <tr>\n",
       "      <th>price_mfi</th>\n",
       "      <td>8.096080</td>\n",
       "    </tr>\n",
       "    <tr>\n",
       "      <th>weight</th>\n",
       "      <td>7.540697</td>\n",
       "    </tr>\n",
       "    <tr>\n",
       "      <th>transport_pay</th>\n",
       "      <td>6.906161</td>\n",
       "    </tr>\n",
       "    <tr>\n",
       "      <th>weight_mfi</th>\n",
       "      <td>6.534201</td>\n",
       "    </tr>\n",
       "    <tr>\n",
       "      <th>total_qty_oper_login_1</th>\n",
       "      <td>6.197952</td>\n",
       "    </tr>\n",
       "    <tr>\n",
       "      <th>is_wrong_rcpn_name</th>\n",
       "      <td>5.979294</td>\n",
       "    </tr>\n",
       "    <tr>\n",
       "      <th>dist_qty_oper_login_1</th>\n",
       "      <td>5.847065</td>\n",
       "    </tr>\n",
       "    <tr>\n",
       "      <th>mailctg</th>\n",
       "      <td>5.287369</td>\n",
       "    </tr>\n",
       "    <tr>\n",
       "      <th>priority</th>\n",
       "      <td>4.660122</td>\n",
       "    </tr>\n",
       "    <tr>\n",
       "      <th>total_qty_over_index</th>\n",
       "      <td>4.525002</td>\n",
       "    </tr>\n",
       "    <tr>\n",
       "      <th>total_qty_over_index_and_type</th>\n",
       "      <td>2.882140</td>\n",
       "    </tr>\n",
       "    <tr>\n",
       "      <th>is_in_yandex</th>\n",
       "      <td>2.821552</td>\n",
       "    </tr>\n",
       "    <tr>\n",
       "      <th>is_wrong_phone_number</th>\n",
       "      <td>2.643694</td>\n",
       "    </tr>\n",
       "    <tr>\n",
       "      <th>class</th>\n",
       "      <td>0.995270</td>\n",
       "    </tr>\n",
       "    <tr>\n",
       "      <th>is_privatecategory</th>\n",
       "      <td>0.357913</td>\n",
       "    </tr>\n",
       "    <tr>\n",
       "      <th>directctg</th>\n",
       "      <td>0.253714</td>\n",
       "    </tr>\n",
       "    <tr>\n",
       "      <th>mailtype</th>\n",
       "      <td>0.018595</td>\n",
       "    </tr>\n",
       "    <tr>\n",
       "      <th>is_return</th>\n",
       "      <td>0.018289</td>\n",
       "    </tr>\n",
       "    <tr>\n",
       "      <th>is_wrong_sndr_name</th>\n",
       "      <td>0.006174</td>\n",
       "    </tr>\n",
       "    <tr>\n",
       "      <th>is_wrong_address</th>\n",
       "      <td>0.004119</td>\n",
       "    </tr>\n",
       "    <tr>\n",
       "      <th>postmark</th>\n",
       "      <td>0.000467</td>\n",
       "    </tr>\n",
       "  </tbody>\n",
       "</table>\n",
       "</div>"
      ],
      "text/plain": [
       "                                      0\n",
       "type                           9.909211\n",
       "index_oper                     9.658158\n",
       "total_qty_oper_login_0         8.856761\n",
       "price_mfi                      8.096080\n",
       "weight                         7.540697\n",
       "transport_pay                  6.906161\n",
       "weight_mfi                     6.534201\n",
       "total_qty_oper_login_1         6.197952\n",
       "is_wrong_rcpn_name             5.979294\n",
       "dist_qty_oper_login_1          5.847065\n",
       "mailctg                        5.287369\n",
       "priority                       4.660122\n",
       "total_qty_over_index           4.525002\n",
       "total_qty_over_index_and_type  2.882140\n",
       "is_in_yandex                   2.821552\n",
       "is_wrong_phone_number          2.643694\n",
       "class                          0.995270\n",
       "is_privatecategory             0.357913\n",
       "directctg                      0.253714\n",
       "mailtype                       0.018595\n",
       "is_return                      0.018289\n",
       "is_wrong_sndr_name             0.006174\n",
       "is_wrong_address               0.004119\n",
       "postmark                       0.000467"
      ]
     },
     "execution_count": 45,
     "metadata": {},
     "output_type": "execute_result"
    }
   ],
   "source": [
    "feature_importance = pd.Series(model.feature_importances_,index=features_train.columns).sort_values(ascending=False).to_frame()\n",
    "feature_importance"
   ]
  },
  {
   "cell_type": "code",
   "execution_count": 46,
   "id": "2c1e96ee",
   "metadata": {
    "cellId": "8xfnm9i93c6dsx1y8ct36"
   },
   "outputs": [
    {
     "data": {
      "image/png": "[encoded data removed]",
      "text/plain": [
       "<Figure size 432x288 with 1 Axes>"
      ]
     },
     "metadata": {
      "needs_background": "light"
     },
     "output_type": "display_data"
    }
   ],
   "source": [
    "feature_importance.plot(title ='Важность признаков',kind='bar');"
   ]
  },
  {
   "cell_type": "markdown",
   "id": "dc8b8418",
   "metadata": {
    "cellId": "alb6v3v630ojgyl7cjt1i",
    "execution_id": "7388eca1-bb1b-4a19-b54f-ea53ef325c9a"
   },
   "source": [
    "На основе изученных данных сгенерируем новые признаки и удалим малозначимые"
   ]
  },
  {
   "cell_type": "code",
   "execution_count": null,
   "id": "12485c12",
   "metadata": {
    "cellId": "on54y7b9zrf6nbtkrqjeg"
   },
   "outputs": [],
   "source": []
  },
  {
   "cell_type": "code",
   "execution_count": 48,
   "id": "e61b2d39",
   "metadata": {
    "cellId": "4dcr3702vf72sznf2zrdks"
   },
   "outputs": [],
   "source": [
    "predict_test = model.predict(features_test)"
   ]
  },
  {
   "cell_type": "code",
   "execution_count": 49,
   "id": "2204c4aa",
   "metadata": {
    "cellId": "vg4td34f3h02vbcycnowy"
   },
   "outputs": [],
   "source": [
    "sample = pd.read_csv('sample_solution.csv')"
   ]
  },
  {
   "cell_type": "code",
   "execution_count": 50,
   "id": "7e034397",
   "metadata": {
    "cellId": "9u7zz1eutkuylsfrz3k29"
   },
   "outputs": [],
   "source": [
    "sample = sample.drop('label',axis=1)"
   ]
  },
  {
   "cell_type": "code",
   "execution_count": 51,
   "id": "a63aa674",
   "metadata": {
    "cellId": "xfktrz8kmtnwqyy55441ye"
   },
   "outputs": [],
   "source": [
    "prediction_test = pd.DataFrame(predict_test, columns=['label'])"
   ]
  },
  {
   "cell_type": "code",
   "execution_count": 52,
   "id": "64fbfdc3",
   "metadata": {
    "cellId": "kjfr9wdncbdf0odl678hcn"
   },
   "outputs": [],
   "source": [
    "sample = sample.join(prediction_test)"
   ]
  },
  {
   "cell_type": "code",
   "execution_count": 53,
   "id": "f029371c",
   "metadata": {
    "cellId": "lg88do79fct9qwhrk88b"
   },
   "outputs": [],
   "source": [
    "sample.to_csv(\"sample_solution_11.csv\",sep=\",\",index=False,line_terminator=\"\\n\")"
   ]
  },
  {
   "cell_type": "code",
   "execution_count": 69,
   "id": "4e3865c3",
   "metadata": {
    "cellId": "mjdot5csdsqbavevqct2"
   },
   "outputs": [],
   "source": [
    "features_train_2 = features_train.drop(['postmark','is_wrong_address','is_wrong_sndr_name','mailtype','is_return'],axis=1) \n",
    "features_valid_2 = features_valid.drop(['postmark','is_wrong_address','is_wrong_sndr_name','mailtype','is_return'],axis=1)"
   ]
  },
  {
   "cell_type": "code",
   "execution_count": 71,
   "id": "aa025c28",
   "metadata": {
    "cellId": "0fu7xrocs07sxvzh2x44mo"
   },
   "outputs": [
    {
     "data": {
      "text/html": [
       "<div>\n",
       "<style scoped>\n",
       "    .dataframe tbody tr th:only-of-type {\n",
       "        vertical-align: middle;\n",
       "    }\n",
       "\n",
       "    .dataframe tbody tr th {\n",
       "        vertical-align: top;\n",
       "    }\n",
       "\n",
       "    .dataframe thead th {\n",
       "        text-align: right;\n",
       "    }\n",
       "</style>\n",
       "<table border=\"1\" class=\"dataframe\">\n",
       "  <thead>\n",
       "    <tr style=\"text-align: right;\">\n",
       "      <th></th>\n",
       "      <th>index_oper</th>\n",
       "      <th>type</th>\n",
       "      <th>priority</th>\n",
       "      <th>is_privatecategory</th>\n",
       "      <th>class</th>\n",
       "      <th>is_in_yandex</th>\n",
       "      <th>weight</th>\n",
       "      <th>mailctg</th>\n",
       "      <th>directctg</th>\n",
       "      <th>transport_pay</th>\n",
       "      <th>weight_mfi</th>\n",
       "      <th>price_mfi</th>\n",
       "      <th>dist_qty_oper_login_1</th>\n",
       "      <th>total_qty_oper_login_1</th>\n",
       "      <th>total_qty_oper_login_0</th>\n",
       "      <th>total_qty_over_index_and_type</th>\n",
       "      <th>total_qty_over_index</th>\n",
       "      <th>is_wrong_rcpn_name</th>\n",
       "      <th>is_wrong_phone_number</th>\n",
       "    </tr>\n",
       "  </thead>\n",
       "  <tbody>\n",
       "    <tr>\n",
       "      <th>4182110</th>\n",
       "      <td>111950</td>\n",
       "      <td>Цех</td>\n",
       "      <td>7506</td>\n",
       "      <td>N</td>\n",
       "      <td>0</td>\n",
       "      <td>Y</td>\n",
       "      <td>83</td>\n",
       "      <td>1</td>\n",
       "      <td>2</td>\n",
       "      <td>0</td>\n",
       "      <td>80</td>\n",
       "      <td>400</td>\n",
       "      <td>113</td>\n",
       "      <td>7258279</td>\n",
       "      <td>41587</td>\n",
       "      <td>7299866</td>\n",
       "      <td>132348119</td>\n",
       "      <td>0</td>\n",
       "      <td>0</td>\n",
       "    </tr>\n",
       "    <tr>\n",
       "      <th>632935</th>\n",
       "      <td>357129</td>\n",
       "      <td>П</td>\n",
       "      <td>7506</td>\n",
       "      <td>N</td>\n",
       "      <td>2</td>\n",
       "      <td>Y</td>\n",
       "      <td>253</td>\n",
       "      <td>1</td>\n",
       "      <td>2</td>\n",
       "      <td>0</td>\n",
       "      <td>129</td>\n",
       "      <td>203</td>\n",
       "      <td>13</td>\n",
       "      <td>167036</td>\n",
       "      <td>154976</td>\n",
       "      <td>322012</td>\n",
       "      <td>2951262</td>\n",
       "      <td>1</td>\n",
       "      <td>0</td>\n",
       "    </tr>\n",
       "    <tr>\n",
       "      <th>4662895</th>\n",
       "      <td>400964</td>\n",
       "      <td>Участок</td>\n",
       "      <td>7503</td>\n",
       "      <td>N</td>\n",
       "      <td>0</td>\n",
       "      <td>Y</td>\n",
       "      <td>530</td>\n",
       "      <td>1</td>\n",
       "      <td>2</td>\n",
       "      <td>45</td>\n",
       "      <td>0</td>\n",
       "      <td>0</td>\n",
       "      <td>30</td>\n",
       "      <td>742926</td>\n",
       "      <td>227992</td>\n",
       "      <td>970918</td>\n",
       "      <td>1869448</td>\n",
       "      <td>1</td>\n",
       "      <td>0</td>\n",
       "    </tr>\n",
       "    <tr>\n",
       "      <th>3090295</th>\n",
       "      <td>632336</td>\n",
       "      <td>ГОПС</td>\n",
       "      <td>7503</td>\n",
       "      <td>N</td>\n",
       "      <td>3</td>\n",
       "      <td>Y</td>\n",
       "      <td>37</td>\n",
       "      <td>0</td>\n",
       "      <td>2</td>\n",
       "      <td>0</td>\n",
       "      <td>33</td>\n",
       "      <td>50</td>\n",
       "      <td>4</td>\n",
       "      <td>1979</td>\n",
       "      <td>936</td>\n",
       "      <td>2915</td>\n",
       "      <td>144265</td>\n",
       "      <td>0</td>\n",
       "      <td>0</td>\n",
       "    </tr>\n",
       "    <tr>\n",
       "      <th>4112079</th>\n",
       "      <td>102976</td>\n",
       "      <td>ММПО</td>\n",
       "      <td>7503</td>\n",
       "      <td>N</td>\n",
       "      <td>0</td>\n",
       "      <td>N</td>\n",
       "      <td>87</td>\n",
       "      <td>1</td>\n",
       "      <td>2</td>\n",
       "      <td>0</td>\n",
       "      <td>77</td>\n",
       "      <td>50</td>\n",
       "      <td>914</td>\n",
       "      <td>48856658</td>\n",
       "      <td>83318932</td>\n",
       "      <td>132175590</td>\n",
       "      <td>136819803</td>\n",
       "      <td>1</td>\n",
       "      <td>0</td>\n",
       "    </tr>\n",
       "    <tr>\n",
       "      <th>...</th>\n",
       "      <td>...</td>\n",
       "      <td>...</td>\n",
       "      <td>...</td>\n",
       "      <td>...</td>\n",
       "      <td>...</td>\n",
       "      <td>...</td>\n",
       "      <td>...</td>\n",
       "      <td>...</td>\n",
       "      <td>...</td>\n",
       "      <td>...</td>\n",
       "      <td>...</td>\n",
       "      <td>...</td>\n",
       "      <td>...</td>\n",
       "      <td>...</td>\n",
       "      <td>...</td>\n",
       "      <td>...</td>\n",
       "      <td>...</td>\n",
       "      <td>...</td>\n",
       "      <td>...</td>\n",
       "    </tr>\n",
       "    <tr>\n",
       "      <th>5560245</th>\n",
       "      <td>102976</td>\n",
       "      <td>ММПО</td>\n",
       "      <td>7503</td>\n",
       "      <td>N</td>\n",
       "      <td>0</td>\n",
       "      <td>N</td>\n",
       "      <td>267</td>\n",
       "      <td>1</td>\n",
       "      <td>2</td>\n",
       "      <td>0</td>\n",
       "      <td>320</td>\n",
       "      <td>699</td>\n",
       "      <td>972</td>\n",
       "      <td>68766046</td>\n",
       "      <td>91123247</td>\n",
       "      <td>159889293</td>\n",
       "      <td>164927295</td>\n",
       "      <td>0</td>\n",
       "      <td>0</td>\n",
       "    </tr>\n",
       "    <tr>\n",
       "      <th>3081978</th>\n",
       "      <td>102976</td>\n",
       "      <td>ММПО</td>\n",
       "      <td>7503</td>\n",
       "      <td>N</td>\n",
       "      <td>0</td>\n",
       "      <td>N</td>\n",
       "      <td>77</td>\n",
       "      <td>1</td>\n",
       "      <td>2</td>\n",
       "      <td>0</td>\n",
       "      <td>60</td>\n",
       "      <td>163</td>\n",
       "      <td>914</td>\n",
       "      <td>48856658</td>\n",
       "      <td>83318932</td>\n",
       "      <td>132175590</td>\n",
       "      <td>136819803</td>\n",
       "      <td>0</td>\n",
       "      <td>0</td>\n",
       "    </tr>\n",
       "    <tr>\n",
       "      <th>4257314</th>\n",
       "      <td>344092</td>\n",
       "      <td>ГОПС</td>\n",
       "      <td>7506</td>\n",
       "      <td>N</td>\n",
       "      <td>1</td>\n",
       "      <td>Y</td>\n",
       "      <td>75</td>\n",
       "      <td>1</td>\n",
       "      <td>2</td>\n",
       "      <td>0</td>\n",
       "      <td>60</td>\n",
       "      <td>100</td>\n",
       "      <td>38</td>\n",
       "      <td>64210</td>\n",
       "      <td>24600</td>\n",
       "      <td>88810</td>\n",
       "      <td>511592</td>\n",
       "      <td>0</td>\n",
       "      <td>0</td>\n",
       "    </tr>\n",
       "    <tr>\n",
       "      <th>498860</th>\n",
       "      <td>102976</td>\n",
       "      <td>ММПО</td>\n",
       "      <td>7503</td>\n",
       "      <td>N</td>\n",
       "      <td>0</td>\n",
       "      <td>N</td>\n",
       "      <td>32</td>\n",
       "      <td>0</td>\n",
       "      <td>2</td>\n",
       "      <td>0</td>\n",
       "      <td>30</td>\n",
       "      <td>149</td>\n",
       "      <td>1089</td>\n",
       "      <td>64270133</td>\n",
       "      <td>116432632</td>\n",
       "      <td>180702765</td>\n",
       "      <td>188407812</td>\n",
       "      <td>0</td>\n",
       "      <td>1</td>\n",
       "    </tr>\n",
       "    <tr>\n",
       "      <th>4607857</th>\n",
       "      <td>102976</td>\n",
       "      <td>ММПО</td>\n",
       "      <td>7503</td>\n",
       "      <td>N</td>\n",
       "      <td>0</td>\n",
       "      <td>N</td>\n",
       "      <td>44</td>\n",
       "      <td>1</td>\n",
       "      <td>2</td>\n",
       "      <td>0</td>\n",
       "      <td>20</td>\n",
       "      <td>199</td>\n",
       "      <td>914</td>\n",
       "      <td>48856658</td>\n",
       "      <td>83318932</td>\n",
       "      <td>132175590</td>\n",
       "      <td>136819803</td>\n",
       "      <td>0</td>\n",
       "      <td>0</td>\n",
       "    </tr>\n",
       "  </tbody>\n",
       "</table>\n",
       "<p>4500000 rows × 19 columns</p>\n",
       "</div>"
      ],
      "text/plain": [
       "         index_oper     type  priority is_privatecategory  class is_in_yandex  \\\n",
       "4182110      111950      Цех      7506                  N      0            Y   \n",
       "632935       357129        П      7506                  N      2            Y   \n",
       "4662895      400964  Участок      7503                  N      0            Y   \n",
       "3090295      632336     ГОПС      7503                  N      3            Y   \n",
       "4112079      102976     ММПО      7503                  N      0            N   \n",
       "...             ...      ...       ...                ...    ...          ...   \n",
       "5560245      102976     ММПО      7503                  N      0            N   \n",
       "3081978      102976     ММПО      7503                  N      0            N   \n",
       "4257314      344092     ГОПС      7506                  N      1            Y   \n",
       "498860       102976     ММПО      7503                  N      0            N   \n",
       "4607857      102976     ММПО      7503                  N      0            N   \n",
       "\n",
       "         weight  mailctg  directctg  transport_pay  weight_mfi  price_mfi  \\\n",
       "4182110      83        1          2              0          80        400   \n",
       "632935      253        1          2              0         129        203   \n",
       "4662895     530        1          2             45           0          0   \n",
       "3090295      37        0          2              0          33         50   \n",
       "4112079      87        1          2              0          77         50   \n",
       "...         ...      ...        ...            ...         ...        ...   \n",
       "5560245     267        1          2              0         320        699   \n",
       "3081978      77        1          2              0          60        163   \n",
       "4257314      75        1          2              0          60        100   \n",
       "498860       32        0          2              0          30        149   \n",
       "4607857      44        1          2              0          20        199   \n",
       "\n",
       "         dist_qty_oper_login_1  total_qty_oper_login_1  \\\n",
       "4182110                    113                 7258279   \n",
       "632935                      13                  167036   \n",
       "4662895                     30                  742926   \n",
       "3090295                      4                    1979   \n",
       "4112079                    914                48856658   \n",
       "...                        ...                     ...   \n",
       "5560245                    972                68766046   \n",
       "3081978                    914                48856658   \n",
       "4257314                     38                   64210   \n",
       "498860                    1089                64270133   \n",
       "4607857                    914                48856658   \n",
       "\n",
       "         total_qty_oper_login_0  total_qty_over_index_and_type  \\\n",
       "4182110                   41587                        7299866   \n",
       "632935                   154976                         322012   \n",
       "4662895                  227992                         970918   \n",
       "3090295                     936                           2915   \n",
       "4112079                83318932                      132175590   \n",
       "...                         ...                            ...   \n",
       "5560245                91123247                      159889293   \n",
       "3081978                83318932                      132175590   \n",
       "4257314                   24600                          88810   \n",
       "498860                116432632                      180702765   \n",
       "4607857                83318932                      132175590   \n",
       "\n",
       "         total_qty_over_index  is_wrong_rcpn_name  is_wrong_phone_number  \n",
       "4182110             132348119                   0                      0  \n",
       "632935                2951262                   1                      0  \n",
       "4662895               1869448                   1                      0  \n",
       "3090295                144265                   0                      0  \n",
       "4112079             136819803                   1                      0  \n",
       "...                       ...                 ...                    ...  \n",
       "5560245             164927295                   0                      0  \n",
       "3081978             136819803                   0                      0  \n",
       "4257314                511592                   0                      0  \n",
       "498860              188407812                   0                      1  \n",
       "4607857             136819803                   0                      0  \n",
       "\n",
       "[4500000 rows x 19 columns]"
      ]
     },
     "execution_count": 71,
     "metadata": {},
     "output_type": "execute_result"
    }
   ],
   "source": [
    "features_train_2"
   ]
  },
  {
   "cell_type": "code",
   "execution_count": 70,
   "id": "d4b7e341",
   "metadata": {
    "cellId": "u80sr5dzr2xa1egwjbysm"
   },
   "outputs": [
    {
     "data": {
      "image/png": "[encoded data removed]",
      "text/plain": [
       "<Figure size 1080x1080 with 2 Axes>"
      ]
     },
     "metadata": {
      "needs_background": "light"
     },
     "output_type": "display_data"
    }
   ],
   "source": [
    "plt.rcParams['figure.figsize']=(15,15)\n",
    "\n",
    "\n",
    "corr = features_train_2.iloc[:100000].corr()\n",
    "g = sns.heatmap(corr, square = True, annot=True)"
   ]
  },
  {
   "cell_type": "code",
   "execution_count": 72,
   "id": "7872d667",
   "metadata": {
    "cellId": "dj27yeawfps5mfp5f8gehv"
   },
   "outputs": [],
   "source": [
    "features_train_2['t/m'] = features_train_2['transport_pay']/features_train_2['weight']\n",
    "features_valid_2['t/m'] = features_train_2['transport_pay']/features_train_2['weight']"
   ]
  },
  {
   "cell_type": "code",
   "execution_count": 74,
   "id": "0bd0ad9a",
   "metadata": {
    "cellId": "0h1g81oae71g43wma86j60h"
   },
   "outputs": [
    {
     "name": "stdout",
     "output_type": "stream",
     "text": [
      "<class 'pandas.core.frame.DataFrame'>\n",
      "Int64Index: 4500000 entries, 4182110 to 4607857\n",
      "Data columns (total 20 columns):\n",
      "index_oper                       int64\n",
      "type                             object\n",
      "priority                         int64\n",
      "is_privatecategory               object\n",
      "class                            int64\n",
      "is_in_yandex                     object\n",
      "weight                           int64\n",
      "mailctg                          int64\n",
      "directctg                        int64\n",
      "transport_pay                    int64\n",
      "weight_mfi                       int64\n",
      "price_mfi                        int64\n",
      "dist_qty_oper_login_1            int64\n",
      "total_qty_oper_login_1           int64\n",
      "total_qty_oper_login_0           int64\n",
      "total_qty_over_index_and_type    int64\n",
      "total_qty_over_index             int64\n",
      "is_wrong_rcpn_name               int64\n",
      "is_wrong_phone_number            int64\n",
      "t/m                              float64\n",
      "dtypes: float64(1), int64(16), object(3)\n",
      "memory usage: 881.0+ MB\n"
     ]
    }
   ],
   "source": [
    "features_train_2.info()"
   ]
  },
  {
   "cell_type": "code",
   "execution_count": 76,
   "id": "d0674b75",
   "metadata": {
    "cellId": "wpsduqmt1topr3cedjdnh"
   },
   "outputs": [
    {
     "data": {
      "text/plain": [
       "4500000"
      ]
     },
     "execution_count": 76,
     "metadata": {},
     "output_type": "execute_result"
    }
   ],
   "source": [
    "len(target_train)"
   ]
  },
  {
   "cell_type": "code",
   "execution_count": 73,
   "id": "331c1fd3",
   "metadata": {
    "cellId": "29ufy4mpliju11tfc42l9"
   },
   "outputs": [],
   "source": [
    "features_test = features_test.drop(['postmark','is_wrong_address','is_wrong_sndr_name','mailtype','is_return'],axis=1)"
   ]
  },
  {
   "cell_type": "code",
   "execution_count": 77,
   "id": "74e651bc",
   "metadata": {
    "cellId": "tm6s8mxrfwhh8csmqza3ek"
   },
   "outputs": [],
   "source": [
    "features_test['t/m'] = features_test['transport_pay']/features_test['weight']"
   ]
  },
  {
   "cell_type": "code",
   "execution_count": 78,
   "id": "9854e8a8",
   "metadata": {
    "cellId": "taxv5n4vg4nigcqsuucnh"
   },
   "outputs": [
    {
     "name": "stdout",
     "output_type": "stream",
     "text": [
      "<class 'pandas.core.frame.DataFrame'>\n",
      "RangeIndex: 4000000 entries, 0 to 3999999\n",
      "Data columns (total 20 columns):\n",
      "index_oper                       int64\n",
      "type                             object\n",
      "priority                         int64\n",
      "is_privatecategory               object\n",
      "class                            int64\n",
      "is_in_yandex                     object\n",
      "weight                           int64\n",
      "mailctg                          int64\n",
      "directctg                        int64\n",
      "transport_pay                    int64\n",
      "weight_mfi                       int64\n",
      "price_mfi                        int64\n",
      "dist_qty_oper_login_1            int64\n",
      "total_qty_oper_login_1           int64\n",
      "total_qty_oper_login_0           int64\n",
      "total_qty_over_index_and_type    int64\n",
      "total_qty_over_index             int64\n",
      "is_wrong_rcpn_name               int64\n",
      "is_wrong_phone_number            int64\n",
      "t/m                              float64\n",
      "dtypes: float64(1), int64(16), object(3)\n",
      "memory usage: 610.4+ MB\n"
     ]
    }
   ],
   "source": [
    "features_test.info()"
   ]
  },
  {
   "cell_type": "code",
   "execution_count": 79,
   "id": "f3b7606f",
   "metadata": {
    "cellId": "4607ts5nm6sqfwmn1l9soe"
   },
   "outputs": [],
   "source": [
    "cat_features_2 = ['type','is_privatecategory','is_in_yandex']"
   ]
  },
  {
   "cell_type": "code",
   "execution_count": null,
   "id": "0626f586",
   "metadata": {
    "cellId": "rh13s3d3nojerx0h316w",
    "execution_id": "586b1767-a9db-4150-8cb9-2e474cb56b29"
   },
   "outputs": [],
   "source": [
    "#!c1.32\n",
    "%%time \n",
    "model = CatBoostClassifier(random_state=12345,class_weights = (1,34),verbose=False,learning_rate=0.03,l2_leaf_reg = 8,depth = 16)\n",
    "model.fit(features_train_2, target_train,cat_features = cat_features_2)\n",
    "predict_train_2 = model.predict(features_train_2)\n",
    "predict_valid_2 = model.predict(features_valid_2)\n",
    "print('train:',met(target_train,predict_train_2))\n",
    "print('valid:',met(target_valid,predict_valid_2))"
   ]
  },
  {
   "cell_type": "code",
   "execution_count": null,
   "id": "b82128db",
   "metadata": {
    "cellId": "2ys5qdzv2cp2jwqy0hhu1a"
   },
   "outputs": [],
   "source": [
    "#!c1.32\n"
   ]
  },
  {
   "cell_type": "code",
   "execution_count": null,
   "id": "3bee27c1",
   "metadata": {
    "cellId": "916jvhtv686th8s1vq0a"
   },
   "outputs": [],
   "source": [
    "total_qty_over_index_and_type / dist_qty_oper_login_1"
   ]
  }
 ],
 "metadata": {
  "language_info": {
   "codemirror_mode": {
    "name": "ipython",
    "version": 3
   },
   "file_extension": ".py",
   "mimetype": "text/x-python",
   "name": "python",
   "nbconvert_exporter": "python",
   "pygments_lexer": "ipython3",
   "version": "3.7.7"
  },
  "notebookId": "b4ca124e-47b6-4f31-9ee5-1f49b134b111",
  "notebookPath": "Untitled.ipynb"
 },
 "nbformat": 4,
 "nbformat_minor": 5
}
