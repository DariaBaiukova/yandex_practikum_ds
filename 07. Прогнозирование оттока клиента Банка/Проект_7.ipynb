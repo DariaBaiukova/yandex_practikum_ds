{
 "cells": [
  {
   "cell_type": "markdown",
   "metadata": {
    "toc": true
   },
   "source": [
    "<h1>Содержание<span class=\"tocSkip\"></span></h1>\n",
    "<div class=\"toc\"><ul class=\"toc-item\"><li><span><a href=\"#Подготовка-данных\" data-toc-modified-id=\"Подготовка-данных-1\"><span class=\"toc-item-num\">1&nbsp;&nbsp;</span>Подготовка данных</a></span></li><li><span><a href=\"#Исследование-задачи\" data-toc-modified-id=\"Исследование-задачи-2\"><span class=\"toc-item-num\">2&nbsp;&nbsp;</span>Исследование задачи</a></span><ul class=\"toc-item\"><li><span><a href=\"#Дерево-решений\" data-toc-modified-id=\"Дерево-решений-2.1\"><span class=\"toc-item-num\">2.1&nbsp;&nbsp;</span>Дерево решений</a></span></li><li><span><a href=\"#Случайный-лес\" data-toc-modified-id=\"Случайный-лес-2.2\"><span class=\"toc-item-num\">2.2&nbsp;&nbsp;</span>Случайный лес</a></span></li><li><span><a href=\"#Логистическая-регрессия\" data-toc-modified-id=\"Логистическая-регрессия-2.3\"><span class=\"toc-item-num\">2.3&nbsp;&nbsp;</span>Логистическая регрессия</a></span></li></ul></li><li><span><a href=\"#Борьба-с-дисбалансом\" data-toc-modified-id=\"Борьба-с-дисбалансом-3\"><span class=\"toc-item-num\">3&nbsp;&nbsp;</span>Борьба с дисбалансом</a></span><ul class=\"toc-item\"><li><span><a href=\"#Метод-взвешивание-классов\" data-toc-modified-id=\"Метод-взвешивание-классов-3.1\"><span class=\"toc-item-num\">3.1&nbsp;&nbsp;</span>Метод взвешивание классов</a></span></li><li><span><a href=\"#Метод-увеличения-выборки\" data-toc-modified-id=\"Метод-увеличения-выборки-3.2\"><span class=\"toc-item-num\">3.2&nbsp;&nbsp;</span>Метод увеличения выборки</a></span></li><li><span><a href=\"#Метод-уменьшение-выборки\" data-toc-modified-id=\"Метод-уменьшение-выборки-3.3\"><span class=\"toc-item-num\">3.3&nbsp;&nbsp;</span>Метод уменьшение выборки</a></span></li></ul></li><li><span><a href=\"#Тестирование-модели\" data-toc-modified-id=\"Тестирование-модели-4\"><span class=\"toc-item-num\">4&nbsp;&nbsp;</span>Тестирование модели</a></span></li><li><span><a href=\"#Общий-вывод\" data-toc-modified-id=\"Общий-вывод-5\"><span class=\"toc-item-num\">5&nbsp;&nbsp;</span>Общий вывод</a></span></li></ul></div>"
   ]
  },
  {
   "cell_type": "markdown",
   "metadata": {},
   "source": [
    "# Отток клиентов"
   ]
  },
  {
   "cell_type": "markdown",
   "metadata": {},
   "source": [
    "Из «Бета-Банка» стали уходить клиенты. Каждый месяц. Немного, но заметно. Банковские маркетологи посчитали: сохранять текущих клиентов дешевле, чем привлекать новых.\n",
    "\n",
    "Нужно спрогнозировать, уйдёт клиент из банка в ближайшее время или нет. Вам предоставлены исторические данные о поведении клиентов и расторжении договоров с банком. \n",
    "\n",
    "Постройте модель с предельно большим значением *F1*-меры. Чтобы сдать проект успешно, нужно довести метрику до 0.59. Проверьте *F1*-меру на тестовой выборке самостоятельно.\n",
    "\n",
    "Дополнительно измеряйте *AUC-ROC*, сравнивайте её значение с *F1*-мерой.\n",
    "\n",
    "Источник данных: [https://www.kaggle.com/barelydedicated/bank-customer-churn-modeling](https://www.kaggle.com/barelydedicated/bank-customer-churn-modeling)"
   ]
  },
  {
   "cell_type": "markdown",
   "metadata": {},
   "source": [
    "# Признаки\n",
    "\n",
    "RowNumber — индекс строки в данных  \n",
    "CustomerId — уникальный идентификатор клиента  \n",
    "Surname — фамилия  \n",
    "CreditScore — кредитный рейтинг  \n",
    "Geography — страна проживания  \n",
    "Gender — пол  \n",
    "Age — возраст  \n",
    "Tenure — сколько лет человек является клиентом банка  \n",
    "Balance — баланс на счёте  \n",
    "NumOfProducts — количество продуктов банка, используемых клиентом  \n",
    "HasCrCard — наличие кредитной карты  \n",
    "IsActiveMember — активность клиента  \n",
    "EstimatedSalary — предполагаемая зарплата"
   ]
  },
  {
   "cell_type": "markdown",
   "metadata": {},
   "source": [
    "# Целевой признак\n",
    "\n",
    "Exited — факт ухода клиента"
   ]
  },
  {
   "cell_type": "markdown",
   "metadata": {},
   "source": [
    "## Подготовка данных"
   ]
  },
  {
   "cell_type": "code",
   "execution_count": 1,
   "metadata": {},
   "outputs": [],
   "source": [
    "import pandas as pd\n",
    "import matplotlib.pyplot as plt\n",
    "import numpy as np\n",
    "\n",
    "from sklearn.model_selection import train_test_split,GridSearchCV\n",
    "from sklearn.tree import DecisionTreeClassifier\n",
    "from sklearn.ensemble import RandomForestClassifier\n",
    "from sklearn.linear_model import LogisticRegression\n",
    "from sklearn.metrics import accuracy_score,roc_curve,roc_auc_score,recall_score,precision_score,f1_score\n",
    "from sklearn.preprocessing import StandardScaler\n",
    "from sklearn.utils import shuffle\n",
    "\n"
   ]
  },
  {
   "cell_type": "code",
   "execution_count": 2,
   "metadata": {},
   "outputs": [
    {
     "data": {
      "text/html": [
       "<div>\n",
       "<style scoped>\n",
       "    .dataframe tbody tr th:only-of-type {\n",
       "        vertical-align: middle;\n",
       "    }\n",
       "\n",
       "    .dataframe tbody tr th {\n",
       "        vertical-align: top;\n",
       "    }\n",
       "\n",
       "    .dataframe thead th {\n",
       "        text-align: right;\n",
       "    }\n",
       "</style>\n",
       "<table border=\"1\" class=\"dataframe\">\n",
       "  <thead>\n",
       "    <tr style=\"text-align: right;\">\n",
       "      <th></th>\n",
       "      <th>rownumber</th>\n",
       "      <th>customerid</th>\n",
       "      <th>surname</th>\n",
       "      <th>creditscore</th>\n",
       "      <th>geography</th>\n",
       "      <th>gender</th>\n",
       "      <th>age</th>\n",
       "      <th>tenure</th>\n",
       "      <th>balance</th>\n",
       "      <th>numofproducts</th>\n",
       "      <th>hascrcard</th>\n",
       "      <th>isactivemember</th>\n",
       "      <th>estimatedsalary</th>\n",
       "      <th>exited</th>\n",
       "    </tr>\n",
       "  </thead>\n",
       "  <tbody>\n",
       "    <tr>\n",
       "      <th>0</th>\n",
       "      <td>1</td>\n",
       "      <td>15634602</td>\n",
       "      <td>Hargrave</td>\n",
       "      <td>619</td>\n",
       "      <td>France</td>\n",
       "      <td>Female</td>\n",
       "      <td>42</td>\n",
       "      <td>2.0</td>\n",
       "      <td>0.00</td>\n",
       "      <td>1</td>\n",
       "      <td>1</td>\n",
       "      <td>1</td>\n",
       "      <td>101348.88</td>\n",
       "      <td>1</td>\n",
       "    </tr>\n",
       "    <tr>\n",
       "      <th>1</th>\n",
       "      <td>2</td>\n",
       "      <td>15647311</td>\n",
       "      <td>Hill</td>\n",
       "      <td>608</td>\n",
       "      <td>Spain</td>\n",
       "      <td>Female</td>\n",
       "      <td>41</td>\n",
       "      <td>1.0</td>\n",
       "      <td>83807.86</td>\n",
       "      <td>1</td>\n",
       "      <td>0</td>\n",
       "      <td>1</td>\n",
       "      <td>112542.58</td>\n",
       "      <td>0</td>\n",
       "    </tr>\n",
       "    <tr>\n",
       "      <th>2</th>\n",
       "      <td>3</td>\n",
       "      <td>15619304</td>\n",
       "      <td>Onio</td>\n",
       "      <td>502</td>\n",
       "      <td>France</td>\n",
       "      <td>Female</td>\n",
       "      <td>42</td>\n",
       "      <td>8.0</td>\n",
       "      <td>159660.80</td>\n",
       "      <td>3</td>\n",
       "      <td>1</td>\n",
       "      <td>0</td>\n",
       "      <td>113931.57</td>\n",
       "      <td>1</td>\n",
       "    </tr>\n",
       "    <tr>\n",
       "      <th>3</th>\n",
       "      <td>4</td>\n",
       "      <td>15701354</td>\n",
       "      <td>Boni</td>\n",
       "      <td>699</td>\n",
       "      <td>France</td>\n",
       "      <td>Female</td>\n",
       "      <td>39</td>\n",
       "      <td>1.0</td>\n",
       "      <td>0.00</td>\n",
       "      <td>2</td>\n",
       "      <td>0</td>\n",
       "      <td>0</td>\n",
       "      <td>93826.63</td>\n",
       "      <td>0</td>\n",
       "    </tr>\n",
       "    <tr>\n",
       "      <th>4</th>\n",
       "      <td>5</td>\n",
       "      <td>15737888</td>\n",
       "      <td>Mitchell</td>\n",
       "      <td>850</td>\n",
       "      <td>Spain</td>\n",
       "      <td>Female</td>\n",
       "      <td>43</td>\n",
       "      <td>2.0</td>\n",
       "      <td>125510.82</td>\n",
       "      <td>1</td>\n",
       "      <td>1</td>\n",
       "      <td>1</td>\n",
       "      <td>79084.10</td>\n",
       "      <td>0</td>\n",
       "    </tr>\n",
       "    <tr>\n",
       "      <th>...</th>\n",
       "      <td>...</td>\n",
       "      <td>...</td>\n",
       "      <td>...</td>\n",
       "      <td>...</td>\n",
       "      <td>...</td>\n",
       "      <td>...</td>\n",
       "      <td>...</td>\n",
       "      <td>...</td>\n",
       "      <td>...</td>\n",
       "      <td>...</td>\n",
       "      <td>...</td>\n",
       "      <td>...</td>\n",
       "      <td>...</td>\n",
       "      <td>...</td>\n",
       "    </tr>\n",
       "    <tr>\n",
       "      <th>9995</th>\n",
       "      <td>9996</td>\n",
       "      <td>15606229</td>\n",
       "      <td>Obijiaku</td>\n",
       "      <td>771</td>\n",
       "      <td>France</td>\n",
       "      <td>Male</td>\n",
       "      <td>39</td>\n",
       "      <td>5.0</td>\n",
       "      <td>0.00</td>\n",
       "      <td>2</td>\n",
       "      <td>1</td>\n",
       "      <td>0</td>\n",
       "      <td>96270.64</td>\n",
       "      <td>0</td>\n",
       "    </tr>\n",
       "    <tr>\n",
       "      <th>9996</th>\n",
       "      <td>9997</td>\n",
       "      <td>15569892</td>\n",
       "      <td>Johnstone</td>\n",
       "      <td>516</td>\n",
       "      <td>France</td>\n",
       "      <td>Male</td>\n",
       "      <td>35</td>\n",
       "      <td>10.0</td>\n",
       "      <td>57369.61</td>\n",
       "      <td>1</td>\n",
       "      <td>1</td>\n",
       "      <td>1</td>\n",
       "      <td>101699.77</td>\n",
       "      <td>0</td>\n",
       "    </tr>\n",
       "    <tr>\n",
       "      <th>9997</th>\n",
       "      <td>9998</td>\n",
       "      <td>15584532</td>\n",
       "      <td>Liu</td>\n",
       "      <td>709</td>\n",
       "      <td>France</td>\n",
       "      <td>Female</td>\n",
       "      <td>36</td>\n",
       "      <td>7.0</td>\n",
       "      <td>0.00</td>\n",
       "      <td>1</td>\n",
       "      <td>0</td>\n",
       "      <td>1</td>\n",
       "      <td>42085.58</td>\n",
       "      <td>1</td>\n",
       "    </tr>\n",
       "    <tr>\n",
       "      <th>9998</th>\n",
       "      <td>9999</td>\n",
       "      <td>15682355</td>\n",
       "      <td>Sabbatini</td>\n",
       "      <td>772</td>\n",
       "      <td>Germany</td>\n",
       "      <td>Male</td>\n",
       "      <td>42</td>\n",
       "      <td>3.0</td>\n",
       "      <td>75075.31</td>\n",
       "      <td>2</td>\n",
       "      <td>1</td>\n",
       "      <td>0</td>\n",
       "      <td>92888.52</td>\n",
       "      <td>1</td>\n",
       "    </tr>\n",
       "    <tr>\n",
       "      <th>9999</th>\n",
       "      <td>10000</td>\n",
       "      <td>15628319</td>\n",
       "      <td>Walker</td>\n",
       "      <td>792</td>\n",
       "      <td>France</td>\n",
       "      <td>Female</td>\n",
       "      <td>28</td>\n",
       "      <td>NaN</td>\n",
       "      <td>130142.79</td>\n",
       "      <td>1</td>\n",
       "      <td>1</td>\n",
       "      <td>0</td>\n",
       "      <td>38190.78</td>\n",
       "      <td>0</td>\n",
       "    </tr>\n",
       "  </tbody>\n",
       "</table>\n",
       "<p>10000 rows × 14 columns</p>\n",
       "</div>"
      ],
      "text/plain": [
       "      rownumber  customerid    surname  creditscore geography  gender  age  \\\n",
       "0             1    15634602   Hargrave          619    France  Female   42   \n",
       "1             2    15647311       Hill          608     Spain  Female   41   \n",
       "2             3    15619304       Onio          502    France  Female   42   \n",
       "3             4    15701354       Boni          699    France  Female   39   \n",
       "4             5    15737888   Mitchell          850     Spain  Female   43   \n",
       "...         ...         ...        ...          ...       ...     ...  ...   \n",
       "9995       9996    15606229   Obijiaku          771    France    Male   39   \n",
       "9996       9997    15569892  Johnstone          516    France    Male   35   \n",
       "9997       9998    15584532        Liu          709    France  Female   36   \n",
       "9998       9999    15682355  Sabbatini          772   Germany    Male   42   \n",
       "9999      10000    15628319     Walker          792    France  Female   28   \n",
       "\n",
       "      tenure    balance  numofproducts  hascrcard  isactivemember  \\\n",
       "0        2.0       0.00              1          1               1   \n",
       "1        1.0   83807.86              1          0               1   \n",
       "2        8.0  159660.80              3          1               0   \n",
       "3        1.0       0.00              2          0               0   \n",
       "4        2.0  125510.82              1          1               1   \n",
       "...      ...        ...            ...        ...             ...   \n",
       "9995     5.0       0.00              2          1               0   \n",
       "9996    10.0   57369.61              1          1               1   \n",
       "9997     7.0       0.00              1          0               1   \n",
       "9998     3.0   75075.31              2          1               0   \n",
       "9999     NaN  130142.79              1          1               0   \n",
       "\n",
       "      estimatedsalary  exited  \n",
       "0           101348.88       1  \n",
       "1           112542.58       0  \n",
       "2           113931.57       1  \n",
       "3            93826.63       0  \n",
       "4            79084.10       0  \n",
       "...               ...     ...  \n",
       "9995         96270.64       0  \n",
       "9996        101699.77       0  \n",
       "9997         42085.58       1  \n",
       "9998         92888.52       1  \n",
       "9999         38190.78       0  \n",
       "\n",
       "[10000 rows x 14 columns]"
      ]
     },
     "execution_count": 2,
     "metadata": {},
     "output_type": "execute_result"
    }
   ],
   "source": [
    "df = pd.read_csv('/datasets/Churn.csv')\n",
    "df.columns = df.columns.str.lower()\n",
    "df"
   ]
  },
  {
   "cell_type": "markdown",
   "metadata": {},
   "source": [
    "Численные признаки ['creditScore','age','tenure','balance','numofproducts','estimatedsalary'],необходимо масштабировать,на всем датасете.\n",
    "\n",
    "Категориальные признаки ['geography','gender','hascrcard','sactivemember'],первые два необходимо преобразовать в численные,с помощью техники прямого кодирования One-Hot Encoding.\n",
    "\n",
    "Следующим этапом следует удалить ['rownumber','customerid','surname','geography','gender']."
   ]
  },
  {
   "cell_type": "code",
   "execution_count": 3,
   "metadata": {
    "scrolled": false
   },
   "outputs": [
    {
     "data": {
      "text/html": [
       "<div>\n",
       "<style scoped>\n",
       "    .dataframe tbody tr th:only-of-type {\n",
       "        vertical-align: middle;\n",
       "    }\n",
       "\n",
       "    .dataframe tbody tr th {\n",
       "        vertical-align: top;\n",
       "    }\n",
       "\n",
       "    .dataframe thead th {\n",
       "        text-align: right;\n",
       "    }\n",
       "</style>\n",
       "<table border=\"1\" class=\"dataframe\">\n",
       "  <thead>\n",
       "    <tr style=\"text-align: right;\">\n",
       "      <th></th>\n",
       "      <th>rownumber</th>\n",
       "      <th>customerid</th>\n",
       "      <th>creditscore</th>\n",
       "      <th>age</th>\n",
       "      <th>tenure</th>\n",
       "      <th>balance</th>\n",
       "      <th>numofproducts</th>\n",
       "      <th>hascrcard</th>\n",
       "      <th>isactivemember</th>\n",
       "      <th>estimatedsalary</th>\n",
       "      <th>exited</th>\n",
       "    </tr>\n",
       "  </thead>\n",
       "  <tbody>\n",
       "    <tr>\n",
       "      <th>count</th>\n",
       "      <td>10000.00000</td>\n",
       "      <td>1.000000e+04</td>\n",
       "      <td>10000.000000</td>\n",
       "      <td>10000.000000</td>\n",
       "      <td>9091.000000</td>\n",
       "      <td>10000.000000</td>\n",
       "      <td>10000.000000</td>\n",
       "      <td>10000.00000</td>\n",
       "      <td>10000.000000</td>\n",
       "      <td>10000.000000</td>\n",
       "      <td>10000.000000</td>\n",
       "    </tr>\n",
       "    <tr>\n",
       "      <th>mean</th>\n",
       "      <td>5000.50000</td>\n",
       "      <td>1.569094e+07</td>\n",
       "      <td>650.528800</td>\n",
       "      <td>38.921800</td>\n",
       "      <td>4.997690</td>\n",
       "      <td>76485.889288</td>\n",
       "      <td>1.530200</td>\n",
       "      <td>0.70550</td>\n",
       "      <td>0.515100</td>\n",
       "      <td>100090.239881</td>\n",
       "      <td>0.203700</td>\n",
       "    </tr>\n",
       "    <tr>\n",
       "      <th>std</th>\n",
       "      <td>2886.89568</td>\n",
       "      <td>7.193619e+04</td>\n",
       "      <td>96.653299</td>\n",
       "      <td>10.487806</td>\n",
       "      <td>2.894723</td>\n",
       "      <td>62397.405202</td>\n",
       "      <td>0.581654</td>\n",
       "      <td>0.45584</td>\n",
       "      <td>0.499797</td>\n",
       "      <td>57510.492818</td>\n",
       "      <td>0.402769</td>\n",
       "    </tr>\n",
       "    <tr>\n",
       "      <th>min</th>\n",
       "      <td>1.00000</td>\n",
       "      <td>1.556570e+07</td>\n",
       "      <td>350.000000</td>\n",
       "      <td>18.000000</td>\n",
       "      <td>0.000000</td>\n",
       "      <td>0.000000</td>\n",
       "      <td>1.000000</td>\n",
       "      <td>0.00000</td>\n",
       "      <td>0.000000</td>\n",
       "      <td>11.580000</td>\n",
       "      <td>0.000000</td>\n",
       "    </tr>\n",
       "    <tr>\n",
       "      <th>25%</th>\n",
       "      <td>2500.75000</td>\n",
       "      <td>1.562853e+07</td>\n",
       "      <td>584.000000</td>\n",
       "      <td>32.000000</td>\n",
       "      <td>2.000000</td>\n",
       "      <td>0.000000</td>\n",
       "      <td>1.000000</td>\n",
       "      <td>0.00000</td>\n",
       "      <td>0.000000</td>\n",
       "      <td>51002.110000</td>\n",
       "      <td>0.000000</td>\n",
       "    </tr>\n",
       "    <tr>\n",
       "      <th>50%</th>\n",
       "      <td>5000.50000</td>\n",
       "      <td>1.569074e+07</td>\n",
       "      <td>652.000000</td>\n",
       "      <td>37.000000</td>\n",
       "      <td>5.000000</td>\n",
       "      <td>97198.540000</td>\n",
       "      <td>1.000000</td>\n",
       "      <td>1.00000</td>\n",
       "      <td>1.000000</td>\n",
       "      <td>100193.915000</td>\n",
       "      <td>0.000000</td>\n",
       "    </tr>\n",
       "    <tr>\n",
       "      <th>75%</th>\n",
       "      <td>7500.25000</td>\n",
       "      <td>1.575323e+07</td>\n",
       "      <td>718.000000</td>\n",
       "      <td>44.000000</td>\n",
       "      <td>7.000000</td>\n",
       "      <td>127644.240000</td>\n",
       "      <td>2.000000</td>\n",
       "      <td>1.00000</td>\n",
       "      <td>1.000000</td>\n",
       "      <td>149388.247500</td>\n",
       "      <td>0.000000</td>\n",
       "    </tr>\n",
       "    <tr>\n",
       "      <th>max</th>\n",
       "      <td>10000.00000</td>\n",
       "      <td>1.581569e+07</td>\n",
       "      <td>850.000000</td>\n",
       "      <td>92.000000</td>\n",
       "      <td>10.000000</td>\n",
       "      <td>250898.090000</td>\n",
       "      <td>4.000000</td>\n",
       "      <td>1.00000</td>\n",
       "      <td>1.000000</td>\n",
       "      <td>199992.480000</td>\n",
       "      <td>1.000000</td>\n",
       "    </tr>\n",
       "  </tbody>\n",
       "</table>\n",
       "</div>"
      ],
      "text/plain": [
       "         rownumber    customerid   creditscore           age       tenure  \\\n",
       "count  10000.00000  1.000000e+04  10000.000000  10000.000000  9091.000000   \n",
       "mean    5000.50000  1.569094e+07    650.528800     38.921800     4.997690   \n",
       "std     2886.89568  7.193619e+04     96.653299     10.487806     2.894723   \n",
       "min        1.00000  1.556570e+07    350.000000     18.000000     0.000000   \n",
       "25%     2500.75000  1.562853e+07    584.000000     32.000000     2.000000   \n",
       "50%     5000.50000  1.569074e+07    652.000000     37.000000     5.000000   \n",
       "75%     7500.25000  1.575323e+07    718.000000     44.000000     7.000000   \n",
       "max    10000.00000  1.581569e+07    850.000000     92.000000    10.000000   \n",
       "\n",
       "             balance  numofproducts    hascrcard  isactivemember  \\\n",
       "count   10000.000000   10000.000000  10000.00000    10000.000000   \n",
       "mean    76485.889288       1.530200      0.70550        0.515100   \n",
       "std     62397.405202       0.581654      0.45584        0.499797   \n",
       "min         0.000000       1.000000      0.00000        0.000000   \n",
       "25%         0.000000       1.000000      0.00000        0.000000   \n",
       "50%     97198.540000       1.000000      1.00000        1.000000   \n",
       "75%    127644.240000       2.000000      1.00000        1.000000   \n",
       "max    250898.090000       4.000000      1.00000        1.000000   \n",
       "\n",
       "       estimatedsalary        exited  \n",
       "count     10000.000000  10000.000000  \n",
       "mean     100090.239881      0.203700  \n",
       "std       57510.492818      0.402769  \n",
       "min          11.580000      0.000000  \n",
       "25%       51002.110000      0.000000  \n",
       "50%      100193.915000      0.000000  \n",
       "75%      149388.247500      0.000000  \n",
       "max      199992.480000      1.000000  "
      ]
     },
     "execution_count": 3,
     "metadata": {},
     "output_type": "execute_result"
    }
   ],
   "source": [
    "df.describe()"
   ]
  },
  {
   "cell_type": "code",
   "execution_count": 4,
   "metadata": {
    "scrolled": false
   },
   "outputs": [
    {
     "name": "stdout",
     "output_type": "stream",
     "text": [
      "<class 'pandas.core.frame.DataFrame'>\n",
      "RangeIndex: 10000 entries, 0 to 9999\n",
      "Data columns (total 14 columns):\n",
      " #   Column           Non-Null Count  Dtype  \n",
      "---  ------           --------------  -----  \n",
      " 0   rownumber        10000 non-null  int64  \n",
      " 1   customerid       10000 non-null  int64  \n",
      " 2   surname          10000 non-null  object \n",
      " 3   creditscore      10000 non-null  int64  \n",
      " 4   geography        10000 non-null  object \n",
      " 5   gender           10000 non-null  object \n",
      " 6   age              10000 non-null  int64  \n",
      " 7   tenure           9091 non-null   float64\n",
      " 8   balance          10000 non-null  float64\n",
      " 9   numofproducts    10000 non-null  int64  \n",
      " 10  hascrcard        10000 non-null  int64  \n",
      " 11  isactivemember   10000 non-null  int64  \n",
      " 12  estimatedsalary  10000 non-null  float64\n",
      " 13  exited           10000 non-null  int64  \n",
      "dtypes: float64(3), int64(8), object(3)\n",
      "memory usage: 1.1+ MB\n"
     ]
    }
   ],
   "source": [
    "df.info()"
   ]
  },
  {
   "cell_type": "markdown",
   "metadata": {},
   "source": [
    "Пропуски присутствуют только в столбце \"tenure\",можно заменить медианой,или удалить."
   ]
  },
  {
   "cell_type": "code",
   "execution_count": 5,
   "metadata": {},
   "outputs": [
    {
     "data": {
      "image/png": "[encoded data removed]",
      "text/plain": [
       "<Figure size 864x432 with 1 Axes>"
      ]
     },
     "metadata": {},
     "output_type": "display_data"
    },
    {
     "name": "stdout",
     "output_type": "stream",
     "text": [
      "Количество действующих клиентов 7963\n",
      "Количество ушедших клиентов 2037\n"
     ]
    }
   ],
   "source": [
    "df['exited'].value_counts().plot.pie(autopct='%1.2f%%', figsize=(12,6), title=\"Количество ушедщих клиентов\")\n",
    "plt.show()\n",
    "print('Количество действующих клиентов',len(df[df['exited']==0]))\n",
    "print('Количество ушедших клиентов',len(df[df['exited']==1]))"
   ]
  },
  {
   "cell_type": "code",
   "execution_count": 6,
   "metadata": {},
   "outputs": [
    {
     "data": {
      "image/png": "[encoded data removed]",
      "text/plain": [
       "<Figure size 432x288 with 1 Axes>"
      ]
     },
     "metadata": {
      "needs_background": "light"
     },
     "output_type": "display_data"
    }
   ],
   "source": [
    "df['balance'].hist(bins=30);\n",
    "plt.xlabel('Баланс')\n",
    "plt.ylabel('Количество клиентов')\n",
    "plt.show()\n"
   ]
  },
  {
   "cell_type": "code",
   "execution_count": 7,
   "metadata": {},
   "outputs": [
    {
     "data": {
      "image/png": "[encoded data removed]",
      "text/plain": [
       "<Figure size 864x432 with 1 Axes>"
      ]
     },
     "metadata": {},
     "output_type": "display_data"
    }
   ],
   "source": [
    "df['gender'].value_counts().plot.pie(autopct='%1.2f%%', figsize=(12,6), title=\"Количество мужчин и женщин\")\n",
    "plt.show()"
   ]
  },
  {
   "cell_type": "code",
   "execution_count": 8,
   "metadata": {},
   "outputs": [
    {
     "data": {
      "image/png": "[encoded data removed]",
      "text/plain": [
       "<Figure size 432x288 with 1 Axes>"
      ]
     },
     "metadata": {
      "needs_background": "light"
     },
     "output_type": "display_data"
    }
   ],
   "source": [
    "df['creditscore'].hist(bins=20);\n",
    "plt.xlabel('Кредитный рейтинг')\n",
    "plt.ylabel('Количество клиентов')\n",
    "plt.show()"
   ]
  },
  {
   "cell_type": "code",
   "execution_count": 9,
   "metadata": {},
   "outputs": [
    {
     "data": {
      "image/png": "[encoded data removed]",
      "text/plain": [
       "<Figure size 864x432 with 1 Axes>"
      ]
     },
     "metadata": {},
     "output_type": "display_data"
    }
   ],
   "source": [
    "df['hascrcard'].value_counts().plot.pie(autopct='%1.2f%%', figsize=(12,6), title=\"Количество клиентов с кредитными картами\")\n",
    "plt.show()"
   ]
  },
  {
   "cell_type": "code",
   "execution_count": 10,
   "metadata": {},
   "outputs": [
    {
     "data": {
      "image/png": "[encoded data removed]",
      "text/plain": [
       "<Figure size 864x432 with 1 Axes>"
      ]
     },
     "metadata": {},
     "output_type": "display_data"
    }
   ],
   "source": [
    "df['isactivemember'].value_counts().plot.pie(autopct='%1.2f%%', figsize=(12,6), title=\"Количество активных клиентов \")\n",
    "plt.show()"
   ]
  },
  {
   "cell_type": "code",
   "execution_count": 11,
   "metadata": {},
   "outputs": [
    {
     "data": {
      "image/png": "[encoded data removed]",
      "text/plain": [
       "<Figure size 864x432 with 1 Axes>"
      ]
     },
     "metadata": {},
     "output_type": "display_data"
    }
   ],
   "source": [
    "\n",
    "df['geography'].value_counts().plot.pie(autopct='%1.2f%%', figsize=(12,6), title=\"Количество клиентов в разных странах\")\n",
    "plt.show()\n"
   ]
  },
  {
   "cell_type": "code",
   "execution_count": 12,
   "metadata": {},
   "outputs": [],
   "source": [
    "df = df.dropna()"
   ]
  },
  {
   "cell_type": "code",
   "execution_count": 13,
   "metadata": {},
   "outputs": [
    {
     "data": {
      "text/plain": [
       "0"
      ]
     },
     "execution_count": 13,
     "metadata": {},
     "output_type": "execute_result"
    }
   ],
   "source": [
    "df.duplicated().sum()"
   ]
  },
  {
   "cell_type": "code",
   "execution_count": 14,
   "metadata": {
    "scrolled": false
   },
   "outputs": [
    {
     "data": {
      "text/html": [
       "<div>\n",
       "<style scoped>\n",
       "    .dataframe tbody tr th:only-of-type {\n",
       "        vertical-align: middle;\n",
       "    }\n",
       "\n",
       "    .dataframe tbody tr th {\n",
       "        vertical-align: top;\n",
       "    }\n",
       "\n",
       "    .dataframe thead th {\n",
       "        text-align: right;\n",
       "    }\n",
       "</style>\n",
       "<table border=\"1\" class=\"dataframe\">\n",
       "  <thead>\n",
       "    <tr style=\"text-align: right;\">\n",
       "      <th></th>\n",
       "      <th>rownumber</th>\n",
       "      <th>customerid</th>\n",
       "      <th>surname</th>\n",
       "      <th>creditscore</th>\n",
       "      <th>age</th>\n",
       "      <th>tenure</th>\n",
       "      <th>balance</th>\n",
       "      <th>numofproducts</th>\n",
       "      <th>hascrcard</th>\n",
       "      <th>isactivemember</th>\n",
       "      <th>estimatedsalary</th>\n",
       "      <th>exited</th>\n",
       "      <th>geography_Germany</th>\n",
       "      <th>geography_Spain</th>\n",
       "      <th>gender_Male</th>\n",
       "    </tr>\n",
       "  </thead>\n",
       "  <tbody>\n",
       "    <tr>\n",
       "      <th>0</th>\n",
       "      <td>1</td>\n",
       "      <td>15634602</td>\n",
       "      <td>Hargrave</td>\n",
       "      <td>619</td>\n",
       "      <td>42</td>\n",
       "      <td>2.0</td>\n",
       "      <td>0.00</td>\n",
       "      <td>1</td>\n",
       "      <td>1</td>\n",
       "      <td>1</td>\n",
       "      <td>101348.88</td>\n",
       "      <td>1</td>\n",
       "      <td>0</td>\n",
       "      <td>0</td>\n",
       "      <td>0</td>\n",
       "    </tr>\n",
       "    <tr>\n",
       "      <th>1</th>\n",
       "      <td>2</td>\n",
       "      <td>15647311</td>\n",
       "      <td>Hill</td>\n",
       "      <td>608</td>\n",
       "      <td>41</td>\n",
       "      <td>1.0</td>\n",
       "      <td>83807.86</td>\n",
       "      <td>1</td>\n",
       "      <td>0</td>\n",
       "      <td>1</td>\n",
       "      <td>112542.58</td>\n",
       "      <td>0</td>\n",
       "      <td>0</td>\n",
       "      <td>1</td>\n",
       "      <td>0</td>\n",
       "    </tr>\n",
       "    <tr>\n",
       "      <th>2</th>\n",
       "      <td>3</td>\n",
       "      <td>15619304</td>\n",
       "      <td>Onio</td>\n",
       "      <td>502</td>\n",
       "      <td>42</td>\n",
       "      <td>8.0</td>\n",
       "      <td>159660.80</td>\n",
       "      <td>3</td>\n",
       "      <td>1</td>\n",
       "      <td>0</td>\n",
       "      <td>113931.57</td>\n",
       "      <td>1</td>\n",
       "      <td>0</td>\n",
       "      <td>0</td>\n",
       "      <td>0</td>\n",
       "    </tr>\n",
       "    <tr>\n",
       "      <th>3</th>\n",
       "      <td>4</td>\n",
       "      <td>15701354</td>\n",
       "      <td>Boni</td>\n",
       "      <td>699</td>\n",
       "      <td>39</td>\n",
       "      <td>1.0</td>\n",
       "      <td>0.00</td>\n",
       "      <td>2</td>\n",
       "      <td>0</td>\n",
       "      <td>0</td>\n",
       "      <td>93826.63</td>\n",
       "      <td>0</td>\n",
       "      <td>0</td>\n",
       "      <td>0</td>\n",
       "      <td>0</td>\n",
       "    </tr>\n",
       "    <tr>\n",
       "      <th>4</th>\n",
       "      <td>5</td>\n",
       "      <td>15737888</td>\n",
       "      <td>Mitchell</td>\n",
       "      <td>850</td>\n",
       "      <td>43</td>\n",
       "      <td>2.0</td>\n",
       "      <td>125510.82</td>\n",
       "      <td>1</td>\n",
       "      <td>1</td>\n",
       "      <td>1</td>\n",
       "      <td>79084.10</td>\n",
       "      <td>0</td>\n",
       "      <td>0</td>\n",
       "      <td>1</td>\n",
       "      <td>0</td>\n",
       "    </tr>\n",
       "    <tr>\n",
       "      <th>...</th>\n",
       "      <td>...</td>\n",
       "      <td>...</td>\n",
       "      <td>...</td>\n",
       "      <td>...</td>\n",
       "      <td>...</td>\n",
       "      <td>...</td>\n",
       "      <td>...</td>\n",
       "      <td>...</td>\n",
       "      <td>...</td>\n",
       "      <td>...</td>\n",
       "      <td>...</td>\n",
       "      <td>...</td>\n",
       "      <td>...</td>\n",
       "      <td>...</td>\n",
       "      <td>...</td>\n",
       "    </tr>\n",
       "    <tr>\n",
       "      <th>9994</th>\n",
       "      <td>9995</td>\n",
       "      <td>15719294</td>\n",
       "      <td>Wood</td>\n",
       "      <td>800</td>\n",
       "      <td>29</td>\n",
       "      <td>2.0</td>\n",
       "      <td>0.00</td>\n",
       "      <td>2</td>\n",
       "      <td>0</td>\n",
       "      <td>0</td>\n",
       "      <td>167773.55</td>\n",
       "      <td>0</td>\n",
       "      <td>0</td>\n",
       "      <td>0</td>\n",
       "      <td>0</td>\n",
       "    </tr>\n",
       "    <tr>\n",
       "      <th>9995</th>\n",
       "      <td>9996</td>\n",
       "      <td>15606229</td>\n",
       "      <td>Obijiaku</td>\n",
       "      <td>771</td>\n",
       "      <td>39</td>\n",
       "      <td>5.0</td>\n",
       "      <td>0.00</td>\n",
       "      <td>2</td>\n",
       "      <td>1</td>\n",
       "      <td>0</td>\n",
       "      <td>96270.64</td>\n",
       "      <td>0</td>\n",
       "      <td>0</td>\n",
       "      <td>0</td>\n",
       "      <td>1</td>\n",
       "    </tr>\n",
       "    <tr>\n",
       "      <th>9996</th>\n",
       "      <td>9997</td>\n",
       "      <td>15569892</td>\n",
       "      <td>Johnstone</td>\n",
       "      <td>516</td>\n",
       "      <td>35</td>\n",
       "      <td>10.0</td>\n",
       "      <td>57369.61</td>\n",
       "      <td>1</td>\n",
       "      <td>1</td>\n",
       "      <td>1</td>\n",
       "      <td>101699.77</td>\n",
       "      <td>0</td>\n",
       "      <td>0</td>\n",
       "      <td>0</td>\n",
       "      <td>1</td>\n",
       "    </tr>\n",
       "    <tr>\n",
       "      <th>9997</th>\n",
       "      <td>9998</td>\n",
       "      <td>15584532</td>\n",
       "      <td>Liu</td>\n",
       "      <td>709</td>\n",
       "      <td>36</td>\n",
       "      <td>7.0</td>\n",
       "      <td>0.00</td>\n",
       "      <td>1</td>\n",
       "      <td>0</td>\n",
       "      <td>1</td>\n",
       "      <td>42085.58</td>\n",
       "      <td>1</td>\n",
       "      <td>0</td>\n",
       "      <td>0</td>\n",
       "      <td>0</td>\n",
       "    </tr>\n",
       "    <tr>\n",
       "      <th>9998</th>\n",
       "      <td>9999</td>\n",
       "      <td>15682355</td>\n",
       "      <td>Sabbatini</td>\n",
       "      <td>772</td>\n",
       "      <td>42</td>\n",
       "      <td>3.0</td>\n",
       "      <td>75075.31</td>\n",
       "      <td>2</td>\n",
       "      <td>1</td>\n",
       "      <td>0</td>\n",
       "      <td>92888.52</td>\n",
       "      <td>1</td>\n",
       "      <td>1</td>\n",
       "      <td>0</td>\n",
       "      <td>1</td>\n",
       "    </tr>\n",
       "  </tbody>\n",
       "</table>\n",
       "<p>9091 rows × 15 columns</p>\n",
       "</div>"
      ],
      "text/plain": [
       "      rownumber  customerid    surname  creditscore  age  tenure    balance  \\\n",
       "0             1    15634602   Hargrave          619   42     2.0       0.00   \n",
       "1             2    15647311       Hill          608   41     1.0   83807.86   \n",
       "2             3    15619304       Onio          502   42     8.0  159660.80   \n",
       "3             4    15701354       Boni          699   39     1.0       0.00   \n",
       "4             5    15737888   Mitchell          850   43     2.0  125510.82   \n",
       "...         ...         ...        ...          ...  ...     ...        ...   \n",
       "9994       9995    15719294       Wood          800   29     2.0       0.00   \n",
       "9995       9996    15606229   Obijiaku          771   39     5.0       0.00   \n",
       "9996       9997    15569892  Johnstone          516   35    10.0   57369.61   \n",
       "9997       9998    15584532        Liu          709   36     7.0       0.00   \n",
       "9998       9999    15682355  Sabbatini          772   42     3.0   75075.31   \n",
       "\n",
       "      numofproducts  hascrcard  isactivemember  estimatedsalary  exited  \\\n",
       "0                 1          1               1        101348.88       1   \n",
       "1                 1          0               1        112542.58       0   \n",
       "2                 3          1               0        113931.57       1   \n",
       "3                 2          0               0         93826.63       0   \n",
       "4                 1          1               1         79084.10       0   \n",
       "...             ...        ...             ...              ...     ...   \n",
       "9994              2          0               0        167773.55       0   \n",
       "9995              2          1               0         96270.64       0   \n",
       "9996              1          1               1        101699.77       0   \n",
       "9997              1          0               1         42085.58       1   \n",
       "9998              2          1               0         92888.52       1   \n",
       "\n",
       "      geography_Germany  geography_Spain  gender_Male  \n",
       "0                     0                0            0  \n",
       "1                     0                1            0  \n",
       "2                     0                0            0  \n",
       "3                     0                0            0  \n",
       "4                     0                1            0  \n",
       "...                 ...              ...          ...  \n",
       "9994                  0                0            0  \n",
       "9995                  0                0            1  \n",
       "9996                  0                0            1  \n",
       "9997                  0                0            0  \n",
       "9998                  1                0            1  \n",
       "\n",
       "[9091 rows x 15 columns]"
      ]
     },
     "execution_count": 14,
     "metadata": {},
     "output_type": "execute_result"
    }
   ],
   "source": [
    "df = pd.get_dummies(df,columns =['geography','gender'],drop_first =True)\n",
    "df\n"
   ]
  },
  {
   "cell_type": "code",
   "execution_count": 15,
   "metadata": {},
   "outputs": [],
   "source": [
    "df =df.drop(['surname','rownumber','customerid'],1)"
   ]
  },
  {
   "cell_type": "code",
   "execution_count": 16,
   "metadata": {},
   "outputs": [
    {
     "data": {
      "text/html": [
       "<div>\n",
       "<style scoped>\n",
       "    .dataframe tbody tr th:only-of-type {\n",
       "        vertical-align: middle;\n",
       "    }\n",
       "\n",
       "    .dataframe tbody tr th {\n",
       "        vertical-align: top;\n",
       "    }\n",
       "\n",
       "    .dataframe thead th {\n",
       "        text-align: right;\n",
       "    }\n",
       "</style>\n",
       "<table border=\"1\" class=\"dataframe\">\n",
       "  <thead>\n",
       "    <tr style=\"text-align: right;\">\n",
       "      <th></th>\n",
       "      <th>creditscore</th>\n",
       "      <th>age</th>\n",
       "      <th>tenure</th>\n",
       "      <th>balance</th>\n",
       "      <th>numofproducts</th>\n",
       "      <th>hascrcard</th>\n",
       "      <th>isactivemember</th>\n",
       "      <th>estimatedsalary</th>\n",
       "      <th>exited</th>\n",
       "      <th>geography_Germany</th>\n",
       "      <th>geography_Spain</th>\n",
       "      <th>gender_Male</th>\n",
       "    </tr>\n",
       "  </thead>\n",
       "  <tbody>\n",
       "    <tr>\n",
       "      <th>0</th>\n",
       "      <td>619</td>\n",
       "      <td>42</td>\n",
       "      <td>2.0</td>\n",
       "      <td>0.00</td>\n",
       "      <td>1</td>\n",
       "      <td>1</td>\n",
       "      <td>1</td>\n",
       "      <td>101348.88</td>\n",
       "      <td>1</td>\n",
       "      <td>0</td>\n",
       "      <td>0</td>\n",
       "      <td>0</td>\n",
       "    </tr>\n",
       "    <tr>\n",
       "      <th>1</th>\n",
       "      <td>608</td>\n",
       "      <td>41</td>\n",
       "      <td>1.0</td>\n",
       "      <td>83807.86</td>\n",
       "      <td>1</td>\n",
       "      <td>0</td>\n",
       "      <td>1</td>\n",
       "      <td>112542.58</td>\n",
       "      <td>0</td>\n",
       "      <td>0</td>\n",
       "      <td>1</td>\n",
       "      <td>0</td>\n",
       "    </tr>\n",
       "    <tr>\n",
       "      <th>2</th>\n",
       "      <td>502</td>\n",
       "      <td>42</td>\n",
       "      <td>8.0</td>\n",
       "      <td>159660.80</td>\n",
       "      <td>3</td>\n",
       "      <td>1</td>\n",
       "      <td>0</td>\n",
       "      <td>113931.57</td>\n",
       "      <td>1</td>\n",
       "      <td>0</td>\n",
       "      <td>0</td>\n",
       "      <td>0</td>\n",
       "    </tr>\n",
       "    <tr>\n",
       "      <th>3</th>\n",
       "      <td>699</td>\n",
       "      <td>39</td>\n",
       "      <td>1.0</td>\n",
       "      <td>0.00</td>\n",
       "      <td>2</td>\n",
       "      <td>0</td>\n",
       "      <td>0</td>\n",
       "      <td>93826.63</td>\n",
       "      <td>0</td>\n",
       "      <td>0</td>\n",
       "      <td>0</td>\n",
       "      <td>0</td>\n",
       "    </tr>\n",
       "    <tr>\n",
       "      <th>4</th>\n",
       "      <td>850</td>\n",
       "      <td>43</td>\n",
       "      <td>2.0</td>\n",
       "      <td>125510.82</td>\n",
       "      <td>1</td>\n",
       "      <td>1</td>\n",
       "      <td>1</td>\n",
       "      <td>79084.10</td>\n",
       "      <td>0</td>\n",
       "      <td>0</td>\n",
       "      <td>1</td>\n",
       "      <td>0</td>\n",
       "    </tr>\n",
       "    <tr>\n",
       "      <th>...</th>\n",
       "      <td>...</td>\n",
       "      <td>...</td>\n",
       "      <td>...</td>\n",
       "      <td>...</td>\n",
       "      <td>...</td>\n",
       "      <td>...</td>\n",
       "      <td>...</td>\n",
       "      <td>...</td>\n",
       "      <td>...</td>\n",
       "      <td>...</td>\n",
       "      <td>...</td>\n",
       "      <td>...</td>\n",
       "    </tr>\n",
       "    <tr>\n",
       "      <th>9994</th>\n",
       "      <td>800</td>\n",
       "      <td>29</td>\n",
       "      <td>2.0</td>\n",
       "      <td>0.00</td>\n",
       "      <td>2</td>\n",
       "      <td>0</td>\n",
       "      <td>0</td>\n",
       "      <td>167773.55</td>\n",
       "      <td>0</td>\n",
       "      <td>0</td>\n",
       "      <td>0</td>\n",
       "      <td>0</td>\n",
       "    </tr>\n",
       "    <tr>\n",
       "      <th>9995</th>\n",
       "      <td>771</td>\n",
       "      <td>39</td>\n",
       "      <td>5.0</td>\n",
       "      <td>0.00</td>\n",
       "      <td>2</td>\n",
       "      <td>1</td>\n",
       "      <td>0</td>\n",
       "      <td>96270.64</td>\n",
       "      <td>0</td>\n",
       "      <td>0</td>\n",
       "      <td>0</td>\n",
       "      <td>1</td>\n",
       "    </tr>\n",
       "    <tr>\n",
       "      <th>9996</th>\n",
       "      <td>516</td>\n",
       "      <td>35</td>\n",
       "      <td>10.0</td>\n",
       "      <td>57369.61</td>\n",
       "      <td>1</td>\n",
       "      <td>1</td>\n",
       "      <td>1</td>\n",
       "      <td>101699.77</td>\n",
       "      <td>0</td>\n",
       "      <td>0</td>\n",
       "      <td>0</td>\n",
       "      <td>1</td>\n",
       "    </tr>\n",
       "    <tr>\n",
       "      <th>9997</th>\n",
       "      <td>709</td>\n",
       "      <td>36</td>\n",
       "      <td>7.0</td>\n",
       "      <td>0.00</td>\n",
       "      <td>1</td>\n",
       "      <td>0</td>\n",
       "      <td>1</td>\n",
       "      <td>42085.58</td>\n",
       "      <td>1</td>\n",
       "      <td>0</td>\n",
       "      <td>0</td>\n",
       "      <td>0</td>\n",
       "    </tr>\n",
       "    <tr>\n",
       "      <th>9998</th>\n",
       "      <td>772</td>\n",
       "      <td>42</td>\n",
       "      <td>3.0</td>\n",
       "      <td>75075.31</td>\n",
       "      <td>2</td>\n",
       "      <td>1</td>\n",
       "      <td>0</td>\n",
       "      <td>92888.52</td>\n",
       "      <td>1</td>\n",
       "      <td>1</td>\n",
       "      <td>0</td>\n",
       "      <td>1</td>\n",
       "    </tr>\n",
       "  </tbody>\n",
       "</table>\n",
       "<p>9091 rows × 12 columns</p>\n",
       "</div>"
      ],
      "text/plain": [
       "      creditscore  age  tenure    balance  numofproducts  hascrcard  \\\n",
       "0             619   42     2.0       0.00              1          1   \n",
       "1             608   41     1.0   83807.86              1          0   \n",
       "2             502   42     8.0  159660.80              3          1   \n",
       "3             699   39     1.0       0.00              2          0   \n",
       "4             850   43     2.0  125510.82              1          1   \n",
       "...           ...  ...     ...        ...            ...        ...   \n",
       "9994          800   29     2.0       0.00              2          0   \n",
       "9995          771   39     5.0       0.00              2          1   \n",
       "9996          516   35    10.0   57369.61              1          1   \n",
       "9997          709   36     7.0       0.00              1          0   \n",
       "9998          772   42     3.0   75075.31              2          1   \n",
       "\n",
       "      isactivemember  estimatedsalary  exited  geography_Germany  \\\n",
       "0                  1        101348.88       1                  0   \n",
       "1                  1        112542.58       0                  0   \n",
       "2                  0        113931.57       1                  0   \n",
       "3                  0         93826.63       0                  0   \n",
       "4                  1         79084.10       0                  0   \n",
       "...              ...              ...     ...                ...   \n",
       "9994               0        167773.55       0                  0   \n",
       "9995               0         96270.64       0                  0   \n",
       "9996               1        101699.77       0                  0   \n",
       "9997               1         42085.58       1                  0   \n",
       "9998               0         92888.52       1                  1   \n",
       "\n",
       "      geography_Spain  gender_Male  \n",
       "0                   0            0  \n",
       "1                   1            0  \n",
       "2                   0            0  \n",
       "3                   0            0  \n",
       "4                   1            0  \n",
       "...               ...          ...  \n",
       "9994                0            0  \n",
       "9995                0            1  \n",
       "9996                0            1  \n",
       "9997                0            0  \n",
       "9998                0            1  \n",
       "\n",
       "[9091 rows x 12 columns]"
      ]
     },
     "execution_count": 16,
     "metadata": {},
     "output_type": "execute_result"
    }
   ],
   "source": [
    "df"
   ]
  },
  {
   "cell_type": "code",
   "execution_count": 17,
   "metadata": {},
   "outputs": [],
   "source": [
    "features = df.drop('exited',axis=1)\n",
    "target = df['exited']"
   ]
  },
  {
   "cell_type": "code",
   "execution_count": 18,
   "metadata": {},
   "outputs": [],
   "source": [
    "features_train,features_valid_test,target_train,target_valid_test = train_test_split(features,target,test_size=0.4,random_state=12345)\n",
    "features_valid,features_test,target_valid,target_test = train_test_split(features_valid_test,target_valid_test,test_size=0.5,random_state=12345)"
   ]
  },
  {
   "cell_type": "code",
   "execution_count": 19,
   "metadata": {},
   "outputs": [
    {
     "data": {
      "text/plain": [
       "(5454, 11)"
      ]
     },
     "execution_count": 19,
     "metadata": {},
     "output_type": "execute_result"
    }
   ],
   "source": [
    "features_train.shape"
   ]
  },
  {
   "cell_type": "code",
   "execution_count": 20,
   "metadata": {},
   "outputs": [
    {
     "data": {
      "text/plain": [
       "(1818, 11)"
      ]
     },
     "execution_count": 20,
     "metadata": {},
     "output_type": "execute_result"
    }
   ],
   "source": [
    "features_valid.shape\n"
   ]
  },
  {
   "cell_type": "code",
   "execution_count": 21,
   "metadata": {},
   "outputs": [
    {
     "data": {
      "text/plain": [
       "(1819, 11)"
      ]
     },
     "execution_count": 21,
     "metadata": {},
     "output_type": "execute_result"
    }
   ],
   "source": [
    "features_test.shape"
   ]
  },
  {
   "cell_type": "code",
   "execution_count": null,
   "metadata": {},
   "outputs": [],
   "source": [
    "scaler = StandardScaler()\n",
    "numeric = ['creditscore', 'age', 'tenure', 'balance', 'numofproducts', 'estimatedsalary']\n",
    "scaler.fit(features_train[numeric])\n",
    "    \n",
    "features_train[numeric] = scaler.transform(features_train[numeric])\n",
    "features_valid[numeric] = scaler.transform(features_valid[numeric])\n",
    "features_test[numeric] = scaler.transform(features_test[numeric])"
   ]
  },
  {
   "cell_type": "code",
   "execution_count": 23,
   "metadata": {
    "scrolled": false
   },
   "outputs": [
    {
     "data": {
      "text/html": [
       "<div>\n",
       "<style scoped>\n",
       "    .dataframe tbody tr th:only-of-type {\n",
       "        vertical-align: middle;\n",
       "    }\n",
       "\n",
       "    .dataframe tbody tr th {\n",
       "        vertical-align: top;\n",
       "    }\n",
       "\n",
       "    .dataframe thead th {\n",
       "        text-align: right;\n",
       "    }\n",
       "</style>\n",
       "<table border=\"1\" class=\"dataframe\">\n",
       "  <thead>\n",
       "    <tr style=\"text-align: right;\">\n",
       "      <th></th>\n",
       "      <th>creditscore</th>\n",
       "      <th>age</th>\n",
       "      <th>tenure</th>\n",
       "      <th>balance</th>\n",
       "      <th>numofproducts</th>\n",
       "      <th>hascrcard</th>\n",
       "      <th>isactivemember</th>\n",
       "      <th>estimatedsalary</th>\n",
       "      <th>geography_Germany</th>\n",
       "      <th>geography_Spain</th>\n",
       "      <th>gender_Male</th>\n",
       "    </tr>\n",
       "  </thead>\n",
       "  <tbody>\n",
       "    <tr>\n",
       "      <th>9344</th>\n",
       "      <td>0.809075</td>\n",
       "      <td>-1.039327</td>\n",
       "      <td>-1.025995</td>\n",
       "      <td>0.554904</td>\n",
       "      <td>-0.908179</td>\n",
       "      <td>1</td>\n",
       "      <td>0</td>\n",
       "      <td>0.019508</td>\n",
       "      <td>0</td>\n",
       "      <td>0</td>\n",
       "      <td>0</td>\n",
       "    </tr>\n",
       "    <tr>\n",
       "      <th>3796</th>\n",
       "      <td>-1.152518</td>\n",
       "      <td>-1.227561</td>\n",
       "      <td>0.696524</td>\n",
       "      <td>0.480609</td>\n",
       "      <td>-0.908179</td>\n",
       "      <td>0</td>\n",
       "      <td>0</td>\n",
       "      <td>0.056167</td>\n",
       "      <td>0</td>\n",
       "      <td>0</td>\n",
       "      <td>1</td>\n",
       "    </tr>\n",
       "    <tr>\n",
       "      <th>7462</th>\n",
       "      <td>-0.398853</td>\n",
       "      <td>0.090079</td>\n",
       "      <td>1.385532</td>\n",
       "      <td>-1.237830</td>\n",
       "      <td>-0.908179</td>\n",
       "      <td>1</td>\n",
       "      <td>1</td>\n",
       "      <td>0.848738</td>\n",
       "      <td>0</td>\n",
       "      <td>0</td>\n",
       "      <td>1</td>\n",
       "    </tr>\n",
       "    <tr>\n",
       "      <th>1508</th>\n",
       "      <td>-0.749875</td>\n",
       "      <td>-0.286389</td>\n",
       "      <td>0.352020</td>\n",
       "      <td>-1.237830</td>\n",
       "      <td>0.809300</td>\n",
       "      <td>1</td>\n",
       "      <td>1</td>\n",
       "      <td>-0.894953</td>\n",
       "      <td>0</td>\n",
       "      <td>0</td>\n",
       "      <td>1</td>\n",
       "    </tr>\n",
       "    <tr>\n",
       "      <th>4478</th>\n",
       "      <td>-1.028628</td>\n",
       "      <td>-0.756975</td>\n",
       "      <td>-0.336987</td>\n",
       "      <td>-1.237830</td>\n",
       "      <td>0.809300</td>\n",
       "      <td>0</td>\n",
       "      <td>1</td>\n",
       "      <td>-1.284516</td>\n",
       "      <td>0</td>\n",
       "      <td>0</td>\n",
       "      <td>1</td>\n",
       "    </tr>\n",
       "    <tr>\n",
       "      <th>...</th>\n",
       "      <td>...</td>\n",
       "      <td>...</td>\n",
       "      <td>...</td>\n",
       "      <td>...</td>\n",
       "      <td>...</td>\n",
       "      <td>...</td>\n",
       "      <td>...</td>\n",
       "      <td>...</td>\n",
       "      <td>...</td>\n",
       "      <td>...</td>\n",
       "      <td>...</td>\n",
       "    </tr>\n",
       "    <tr>\n",
       "      <th>4938</th>\n",
       "      <td>1.283988</td>\n",
       "      <td>-0.474624</td>\n",
       "      <td>1.730036</td>\n",
       "      <td>0.813031</td>\n",
       "      <td>-0.908179</td>\n",
       "      <td>0</td>\n",
       "      <td>0</td>\n",
       "      <td>-1.092767</td>\n",
       "      <td>1</td>\n",
       "      <td>0</td>\n",
       "      <td>1</td>\n",
       "    </tr>\n",
       "    <tr>\n",
       "      <th>4529</th>\n",
       "      <td>0.158652</td>\n",
       "      <td>0.466548</td>\n",
       "      <td>1.041028</td>\n",
       "      <td>1.071609</td>\n",
       "      <td>-0.908179</td>\n",
       "      <td>1</td>\n",
       "      <td>1</td>\n",
       "      <td>0.260842</td>\n",
       "      <td>0</td>\n",
       "      <td>0</td>\n",
       "      <td>0</td>\n",
       "    </tr>\n",
       "    <tr>\n",
       "      <th>3866</th>\n",
       "      <td>-1.049276</td>\n",
       "      <td>-0.945210</td>\n",
       "      <td>0.352020</td>\n",
       "      <td>0.449165</td>\n",
       "      <td>-0.908179</td>\n",
       "      <td>1</td>\n",
       "      <td>1</td>\n",
       "      <td>-1.086965</td>\n",
       "      <td>0</td>\n",
       "      <td>0</td>\n",
       "      <td>0</td>\n",
       "    </tr>\n",
       "    <tr>\n",
       "      <th>2414</th>\n",
       "      <td>-0.956359</td>\n",
       "      <td>1.219485</td>\n",
       "      <td>1.385532</td>\n",
       "      <td>-1.237830</td>\n",
       "      <td>-0.908179</td>\n",
       "      <td>1</td>\n",
       "      <td>0</td>\n",
       "      <td>1.288527</td>\n",
       "      <td>0</td>\n",
       "      <td>0</td>\n",
       "      <td>0</td>\n",
       "    </tr>\n",
       "    <tr>\n",
       "      <th>5056</th>\n",
       "      <td>1.222043</td>\n",
       "      <td>-1.509912</td>\n",
       "      <td>-1.025995</td>\n",
       "      <td>1.015938</td>\n",
       "      <td>-0.908179</td>\n",
       "      <td>0</td>\n",
       "      <td>1</td>\n",
       "      <td>-1.244002</td>\n",
       "      <td>1</td>\n",
       "      <td>0</td>\n",
       "      <td>1</td>\n",
       "    </tr>\n",
       "  </tbody>\n",
       "</table>\n",
       "<p>5454 rows × 11 columns</p>\n",
       "</div>"
      ],
      "text/plain": [
       "      creditscore       age    tenure   balance  numofproducts  hascrcard  \\\n",
       "9344     0.809075 -1.039327 -1.025995  0.554904      -0.908179          1   \n",
       "3796    -1.152518 -1.227561  0.696524  0.480609      -0.908179          0   \n",
       "7462    -0.398853  0.090079  1.385532 -1.237830      -0.908179          1   \n",
       "1508    -0.749875 -0.286389  0.352020 -1.237830       0.809300          1   \n",
       "4478    -1.028628 -0.756975 -0.336987 -1.237830       0.809300          0   \n",
       "...           ...       ...       ...       ...            ...        ...   \n",
       "4938     1.283988 -0.474624  1.730036  0.813031      -0.908179          0   \n",
       "4529     0.158652  0.466548  1.041028  1.071609      -0.908179          1   \n",
       "3866    -1.049276 -0.945210  0.352020  0.449165      -0.908179          1   \n",
       "2414    -0.956359  1.219485  1.385532 -1.237830      -0.908179          1   \n",
       "5056     1.222043 -1.509912 -1.025995  1.015938      -0.908179          0   \n",
       "\n",
       "      isactivemember  estimatedsalary  geography_Germany  geography_Spain  \\\n",
       "9344               0         0.019508                  0                0   \n",
       "3796               0         0.056167                  0                0   \n",
       "7462               1         0.848738                  0                0   \n",
       "1508               1        -0.894953                  0                0   \n",
       "4478               1        -1.284516                  0                0   \n",
       "...              ...              ...                ...              ...   \n",
       "4938               0        -1.092767                  1                0   \n",
       "4529               1         0.260842                  0                0   \n",
       "3866               1        -1.086965                  0                0   \n",
       "2414               0         1.288527                  0                0   \n",
       "5056               1        -1.244002                  1                0   \n",
       "\n",
       "      gender_Male  \n",
       "9344            0  \n",
       "3796            1  \n",
       "7462            1  \n",
       "1508            1  \n",
       "4478            1  \n",
       "...           ...  \n",
       "4938            1  \n",
       "4529            0  \n",
       "3866            0  \n",
       "2414            0  \n",
       "5056            1  \n",
       "\n",
       "[5454 rows x 11 columns]"
      ]
     },
     "execution_count": 23,
     "metadata": {},
     "output_type": "execute_result"
    }
   ],
   "source": [
    "features_train"
   ]
  },
  {
   "cell_type": "markdown",
   "metadata": {},
   "source": [
    "## Исследование задачи"
   ]
  },
  {
   "cell_type": "markdown",
   "metadata": {},
   "source": [
    "### Дерево решений"
   ]
  },
  {
   "cell_type": "code",
   "execution_count": 24,
   "metadata": {},
   "outputs": [
    {
     "name": "stdout",
     "output_type": "stream",
     "text": [
      "Accuracy лучшей модели на тренировочной выборке: 0.8755042170883756\n",
      "Accuracy лучшей модели на валидационной выборке: 0.8586358635863587\n",
      "Лучшая модель: DecisionTreeClassifier(max_depth=6, random_state=12345)\n"
     ]
    },
    {
     "data": {
      "image/png": "[encoded data removed]",
      "text/plain": [
       "<Figure size 432x288 with 1 Axes>"
      ]
     },
     "metadata": {
      "needs_background": "light"
     },
     "output_type": "display_data"
    }
   ],
   "source": [
    "result_train_list = []\n",
    "result_valid_list = []\n",
    "best_result = 0\n",
    "best_model = None\n",
    "for depth in range(1,8):\n",
    "    model = DecisionTreeClassifier(max_depth = depth,random_state = 12345)\n",
    "    model.fit(features_train,target_train)\n",
    "    predictions_valid = model.predict(features_valid)\n",
    "    predictions_train = model.predict(features_train)\n",
    "    result = accuracy_score(predictions_valid,target_valid)\n",
    "    result_train = accuracy_score(predictions_train,target_train)\n",
    "    result_train_list.append(result_train)\n",
    "    result_valid_list.append(result)\n",
    "    if result > best_result:\n",
    "        best_model = model\n",
    "        best_result = result\n",
    "        \n",
    "print('Accuracy лучшей модели на тренировочной выборке:',result_train)  \n",
    "print('Accuracy лучшей модели на валидационной выборке:',best_result)   \n",
    "print('Лучшая модель:',best_model)\n",
    "plt.plot(result_train_list);\n",
    "plt.plot(result_valid_list);"
   ]
  },
  {
   "cell_type": "code",
   "execution_count": 25,
   "metadata": {},
   "outputs": [
    {
     "name": "stdout",
     "output_type": "stream",
     "text": [
      "DecisionTreeClassifier(max_depth=7, random_state=12345) 0.5764331210191083 0.8536853685368537\n"
     ]
    }
   ],
   "source": [
    "best_f1 = 0\n",
    "best_result = 0\n",
    "best_model = None\n",
    "for depth in range(1,15):\n",
    "    model = DecisionTreeClassifier(max_depth = depth,random_state = 12345)\n",
    "    model.fit(features_train,target_train)\n",
    "    predictions_valid = model.predict(features_valid)\n",
    "    predictions_train = model.predict(features_train)\n",
    "    f1_valid = f1_score(target_valid, predictions_valid)\n",
    "    f1_train = f1_score(target_train, predictions_train)\n",
    "    result_valid = accuracy_score(predictions_valid,target_valid)\n",
    "    result_train = accuracy_score(predictions_train,target_train)\n",
    "    if f1_valid > best_f1 :\n",
    "        best_model = model\n",
    "        best_f1 = f1_valid\n",
    "        best_result = result_valid\n",
    "        \n",
    "print(best_model, best_f1 ,best_result)\n"
   ]
  },
  {
   "cell_type": "code",
   "execution_count": 26,
   "metadata": {},
   "outputs": [
    {
     "name": "stdout",
     "output_type": "stream",
     "text": [
      "Accuracy лучшей модели на тренировочной выборке: 0.8755042170883756\n",
      "Accuracy лучшей модели на валидационной выборке: 0.8536853685368537\n",
      "f1 тренировочной 0.6487325400931194\n",
      "f1 валидационной 0.5764331210191083\n"
     ]
    }
   ],
   "source": [
    "model = DecisionTreeClassifier(max_depth = 7,random_state=12345)\n",
    "model.fit(features_train,target_train)\n",
    "predictions_valid = model.predict(features_valid)\n",
    "predictions_train = model.predict(features_train)\n",
    "f1_valid = f1_score(target_valid, predictions_valid)\n",
    "f1_train = f1_score(target_train, predictions_train)\n",
    "result_valid = accuracy_score(predictions_valid,target_valid)\n",
    "result_train = accuracy_score(predictions_train,target_train)\n",
    "\n",
    "print('Accuracy лучшей модели на тренировочной выборке:',result_train)  \n",
    "print('Accuracy лучшей модели на валидационной выборке:',result_valid) \n",
    "print('f1 тренировочной',f1_score(target_train,predictions_train))\n",
    "print('f1 валидационной',f1_score(target_valid,predictions_valid))"
   ]
  },
  {
   "cell_type": "markdown",
   "metadata": {},
   "source": [
    "Лучший результат для модели \"Дерево решений\" при максимальной глубине деревьев -7,модель не переучена"
   ]
  },
  {
   "cell_type": "markdown",
   "metadata": {},
   "source": [
    "### Случайный лес"
   ]
  },
  {
   "cell_type": "code",
   "execution_count": 27,
   "metadata": {},
   "outputs": [
    {
     "name": "stdout",
     "output_type": "stream",
     "text": [
      "Accuracy лучшей модели на тренировочной выборке: 0.8854052071873854\n",
      "Accuracy лучшей модели на валидационной выборке: 0.8657865786578658\n",
      "Лучшая модель: RandomForestClassifier(max_depth=8, n_estimators=15, random_state=12345)\n"
     ]
    }
   ],
   "source": [
    "best_result = 0\n",
    "best_model = None\n",
    "for est in range(1,16):\n",
    "    for depth in range(1,9):\n",
    "        model = RandomForestClassifier(max_depth = depth,n_estimators = est,random_state=12345)\n",
    "        model.fit(features_train,target_train)\n",
    "        predictions_valid = model.predict(features_valid)\n",
    "        predictions_train = model.predict(features_train)\n",
    "        result = accuracy_score(predictions_valid,target_valid)\n",
    "        result_train = accuracy_score(predictions_train,target_train)\n",
    "        if result > best_result:\n",
    "            best_result = result\n",
    "            best_model = model\n",
    "            \n",
    "print('Accuracy лучшей модели на тренировочной выборке:',result_train)  \n",
    "print('Accuracy лучшей модели на валидационной выборке:',best_result)   \n",
    "print('Лучшая модель:',best_model)"
   ]
  },
  {
   "cell_type": "code",
   "execution_count": 28,
   "metadata": {},
   "outputs": [
    {
     "name": "stdout",
     "output_type": "stream",
     "text": [
      "RandomForestClassifier(max_depth=14, n_estimators=23, random_state=12345) 0.5886287625418061 0.8646864686468647\n"
     ]
    }
   ],
   "source": [
    "best_result = 0\n",
    "best_model = None\n",
    "for est in range(1,51):\n",
    "    for depth in range(1,16):\n",
    "        model = RandomForestClassifier(max_depth = depth,n_estimators = est,random_state=12345)\n",
    "        model.fit(features_train,target_train)\n",
    "        predictions_valid = model.predict(features_valid)\n",
    "        predictions_train = model.predict(features_train)\n",
    "        f1_valid = f1_score(target_valid, predictions_valid)\n",
    "        f1_train = f1_score(target_train, predictions_train)\n",
    "        result_valid = accuracy_score(predictions_valid,target_valid)\n",
    "        result_train = accuracy_score(predictions_train,target_train)\n",
    "        if f1_valid > best_f1 :\n",
    "            best_model = model\n",
    "            best_f1 = f1_valid\n",
    "            best_result = result_valid\n",
    "            \n",
    "print(best_model, best_f1 ,best_result)"
   ]
  },
  {
   "cell_type": "code",
   "execution_count": 29,
   "metadata": {},
   "outputs": [
    {
     "name": "stdout",
     "output_type": "stream",
     "text": [
      "Accuracy лучшей модели на тренировочной выборке: 0.8854052071873854\n",
      "Accuracy лучшей модели на валидационной выборке: 0.8613861386138614\n",
      "f1 тренировочной 0.6474901297236322\n",
      "f1 валидационной 0.5793103448275863\n"
     ]
    }
   ],
   "source": [
    "model = RandomForestClassifier(max_depth = 8,n_estimators = 15,random_state=12345)\n",
    "model.fit(features_train,target_train)\n",
    "predictions_valid = model.predict(features_valid)\n",
    "predictions_train = model.predict(features_train)\n",
    "result = accuracy_score(predictions_valid,target_valid)\n",
    "result_train = accuracy_score(predictions_train,target_train)\n",
    "f1_valid = f1_score(target_valid, predictions_valid)\n",
    "f1_train = f1_score(target_train, predictions_train)\n",
    "\n",
    "print('Accuracy лучшей модели на тренировочной выборке:',result_train)  \n",
    "print('Accuracy лучшей модели на валидационной выборке:',result_valid) \n",
    "print('f1 тренировочной',f1_score(target_train,predictions_train))\n",
    "print('f1 валидационной',f1_score(target_valid,predictions_valid))"
   ]
  },
  {
   "cell_type": "code",
   "execution_count": 47,
   "metadata": {},
   "outputs": [
    {
     "data": {
      "text/plain": [
       "{'max_depth': 11,\n",
       " 'min_samples_leaf': 1,\n",
       " 'min_samples_split': 4,\n",
       " 'n_estimators': 40}"
      ]
     },
     "execution_count": 47,
     "metadata": {},
     "output_type": "execute_result"
    }
   ],
   "source": [
    "new_features = pd.concat([features_train,features_valid],ignore_index=True)\n",
    "new_target = pd.concat([target_train,target_valid],ignore_index=True)\n",
    "\n",
    "clf = RandomForestClassifier(random_state=12345) #не сразу зафиксировала random_state,код перезапускала\n",
    "parametrs = { 'n_estimators': range (10, 51, 10),\n",
    "              'max_depth': range (1,13, 2),\n",
    "              'min_samples_leaf': range (1,8),\n",
    "              'min_samples_split': range (2,10,2) }\n",
    "grid = GridSearchCV(clf, parametrs, cv=5)\n",
    "grid.fit(new_features,new_target)\n",
    "grid.best_params_"
   ]
  },
  {
   "cell_type": "code",
   "execution_count": 48,
   "metadata": {},
   "outputs": [
    {
     "name": "stdout",
     "output_type": "stream",
     "text": [
      "Accuracy лучшей модели на тренировочной выборке: 0.9132746607994133\n",
      "Accuracy лучшей модели на валидационной выборке: 0.6963696369636964\n",
      "f1 тренировочной 0.49358974358974356\n",
      "f1 валидационной 0.5044883303411131\n"
     ]
    }
   ],
   "source": [
    "model = RandomForestClassifier(random_state = 12345,\n",
    "                               n_estimators=40,max_depth = 11,min_samples_leaf=1,min_samples_split=4)\n",
    "model.fit(features_train,target_train)\n",
    "result = model.score(features_valid,target_valid)\n",
    "result_train = model.score(features_train,target_train)\n",
    "print('Accuracy лучшей модели на тренировочной выборке:',result_train)  \n",
    "print('Accuracy лучшей модели на валидационной выборке:',result_valid) \n",
    "print('f1 тренировочной',f1_score(target_train,predictions_train))\n",
    "print('f1 валидационной',f1_score(target_valid,predictions_valid))"
   ]
  },
  {
   "cell_type": "markdown",
   "metadata": {},
   "source": [
    "Оптимальное решение для данной модели:\n",
    "model = RandomForestClassifier(max_depth = 8,n_estimators = 15,random_state=12345)\n",
    "Accuracy лучшей модели на тренировочной выборке: 0.8854052071873854\n",
    "Accuracy лучшей модели на валидационной выборке: 0.8613861386138614\n",
    "f1 тренировочной 0.6474901297236322\n",
    "f1 валидационной 0.5793103448275863\n",
    "\n",
    "При построении цикла на поиск наибольшего f1,модель переобучается\n",
    "    "
   ]
  },
  {
   "cell_type": "markdown",
   "metadata": {},
   "source": [
    "### Логистическая регрессия"
   ]
  },
  {
   "cell_type": "code",
   "execution_count": 32,
   "metadata": {},
   "outputs": [
    {
     "name": "stdout",
     "output_type": "stream",
     "text": [
      "Accuracy лучшей модели на тренировочной выборке: 0.8049138247158049\n",
      "Accuracy лучшей модели на валидационной выборке: 0.8085808580858086\n",
      "f1 тренировочной 0.2962962962962963\n",
      "f1 валидационной 0.30400000000000005\n"
     ]
    }
   ],
   "source": [
    "model = LogisticRegression(solver='liblinear',random_state=12345)\n",
    "model.fit(features_train,target_train)\n",
    "predictions_valid = model.predict(features_valid)\n",
    "predictions_train = model.predict(features_train)\n",
    "result_valid = accuracy_score(predictions_valid,target_valid)\n",
    "result_train = accuracy_score(predictions_train,target_train)\n",
    "\n",
    "print('Accuracy лучшей модели на тренировочной выборке:',result_train)  \n",
    "print('Accuracy лучшей модели на валидационной выборке:',result_valid) \n",
    "print('f1 тренировочной',f1_score(target_train,predictions_train))\n",
    "print('f1 валидационной',f1_score(target_valid,predictions_valid))"
   ]
  },
  {
   "cell_type": "markdown",
   "metadata": {},
   "source": [
    "Логистическая регрессия показывает самые низкие результаты\n",
    "    "
   ]
  },
  {
   "cell_type": "markdown",
   "metadata": {},
   "source": [
    "## Борьба с дисбалансом"
   ]
  },
  {
   "cell_type": "markdown",
   "metadata": {},
   "source": [
    "### Метод взвешивание классов\n"
   ]
  },
  {
   "cell_type": "code",
   "execution_count": 33,
   "metadata": {},
   "outputs": [
    {
     "name": "stdout",
     "output_type": "stream",
     "text": [
      "DecisionTreeClassifier(class_weight='balanced', max_depth=5, random_state=12345) 0.5735449735449736 0.7783278327832783\n"
     ]
    }
   ],
   "source": [
    "best_f1 = 0\n",
    "best_result = 0\n",
    "best_model = None\n",
    "for depth in range(1,25):\n",
    "    model = DecisionTreeClassifier(max_depth = depth,random_state=12345,class_weight = 'balanced')\n",
    "    model.fit(features_train,target_train)\n",
    "    predictions_valid = model.predict(features_valid)\n",
    "    predictions_train = model.predict(features_train)\n",
    "    f1_valid = f1_score(target_valid, predictions_valid)\n",
    "    f1_train = f1_score(target_train, predictions_train)\n",
    "    result_valid = accuracy_score(predictions_valid,target_valid)\n",
    "    result_train = accuracy_score(predictions_train,target_train)\n",
    "    if  f1_valid > best_f1 and result_valid > best_result:# если оставить только f1_valid > best_f1,\n",
    "        best_model = model                                  #результат тот же\n",
    "        best_f1 = f1_valid\n",
    "        best_result = result_valid\n",
    "        \n",
    "print(best_model, best_f1 ,best_result)"
   ]
  },
  {
   "cell_type": "markdown",
   "metadata": {},
   "source": [
    "В модели \"Дерево решений\",при построении цикла на поиск максимального f1,максимальная глубина деревьев-5,максимальное значение f1-0,5735449735449736, accuracy -0.7783278327832783.\n",
    "По сравнению,с обучением модели без устранения дисбаланса,процент правильных ответов упал."
   ]
  },
  {
   "cell_type": "code",
   "execution_count": 34,
   "metadata": {},
   "outputs": [
    {
     "name": "stdout",
     "output_type": "stream",
     "text": [
      "RandomForestClassifier(class_weight='balanced', max_depth=9, n_estimators=10,\n",
      "                       random_state=12345) 0.6497584541062802 0.8404840484048405\n"
     ]
    }
   ],
   "source": [
    "best_result = 0\n",
    "best_model = None\n",
    "for est in range(1,51):\n",
    "    for depth in range(1,16):\n",
    "        model = RandomForestClassifier(max_depth = depth,n_estimators = est,random_state=12345,class_weight = 'balanced')\n",
    "        model.fit(features_train,target_train)\n",
    "        predictions_valid = model.predict(features_valid)\n",
    "        predictions_train = model.predict(features_train)\n",
    "        f1_valid = f1_score(target_valid, predictions_valid)\n",
    "        f1_train = f1_score(target_train, predictions_train)\n",
    "        result_valid = accuracy_score(predictions_valid,target_valid)\n",
    "        result_train = accuracy_score(predictions_train,target_train)\n",
    "        if f1_valid > best_f1:\n",
    "            best_model = model\n",
    "            best_f1 = f1_valid\n",
    "            best_result = result_valid\n",
    "            \n",
    "print(best_model, best_f1 ,best_result)"
   ]
  },
  {
   "cell_type": "code",
   "execution_count": 35,
   "metadata": {},
   "outputs": [
    {
     "name": "stdout",
     "output_type": "stream",
     "text": [
      "Accuracy лучшей модели на тренировочной выборке: 0.8830216354968831\n",
      "Accuracy лучшей модели на валидационной выборке: 0.8404840484048405\n",
      "f1 тренировочной 0.7410714285714286\n",
      "f1 валидационной 0.6497584541062802\n"
     ]
    }
   ],
   "source": [
    "model = RandomForestClassifier(max_depth = 9,n_estimators = 10,random_state=12345,class_weight = 'balanced')\n",
    "model.fit(features_train,target_train)\n",
    "predictions_valid = model.predict(features_valid)\n",
    "predictions_train = model.predict(features_train)\n",
    "f1_valid = f1_score(target_valid, predictions_valid)\n",
    "f1_train = f1_score(target_train, predictions_train)\n",
    "result_valid = accuracy_score(predictions_valid,target_valid)\n",
    "result_train = accuracy_score(predictions_train,target_train)\n",
    "\n",
    "print('Accuracy лучшей модели на тренировочной выборке:',result_train)  \n",
    "print('Accuracy лучшей модели на валидационной выборке:',result_valid) \n",
    "print('f1 тренировочной',f1_score(target_train,predictions_train))\n",
    "print('f1 валидационной',f1_score(target_valid,predictions_valid))"
   ]
  },
  {
   "cell_type": "markdown",
   "metadata": {},
   "source": [
    "Максимум f1 дает при RandomForestClassifier(class_weight='balanced', max_depth=9, n_estimators=10,\n",
    "                       random_state=12345)\n",
    "При этом:\n",
    "Accuracy лучшей модели на тренировочной выборке: 0.8830216354968831\n",
    "Accuracy лучшей модели на валидационной выборке: 0.8404840484048405\n",
    "f1 тренировочной 0.7410714285714286\n",
    "f1 валидационной 0.6497584541062802"
   ]
  },
  {
   "cell_type": "code",
   "execution_count": 36,
   "metadata": {},
   "outputs": [
    {
     "name": "stdout",
     "output_type": "stream",
     "text": [
      "Accuracy лучшей модели на тренировочной выборке: 0.7103043637697103\n",
      "Accuracy лучшей модели на валидационной выборке: 0.7090209020902091\n",
      "f1 тренировочной 0.49358974358974356\n",
      "f1 валидационной 0.5088207985143918\n"
     ]
    }
   ],
   "source": [
    "model = LogisticRegression('l1',solver='liblinear',random_state=12345,class_weight = 'balanced')\n",
    "model.fit(features_train,target_train)\n",
    "predictions_valid = model.predict(features_valid)\n",
    "predictions_train = model.predict(features_train)\n",
    "result_valid = accuracy_score(predictions_valid,target_valid)\n",
    "result_train = accuracy_score(predictions_train,target_train)\n",
    "\n",
    "print('Accuracy лучшей модели на тренировочной выборке:',result_train)  \n",
    "print('Accuracy лучшей модели на валидационной выборке:',result_valid) \n",
    "print('f1 тренировочной',f1_score(target_train,predictions_train))\n",
    "print('f1 валидационной',f1_score(target_valid,predictions_valid))"
   ]
  },
  {
   "cell_type": "markdown",
   "metadata": {},
   "source": [
    "Модель \"Логистическая регрессия\" показывает низкий результат:\n",
    "Accuracy лучшей модели на тренировочной выборке: 0.7103043637697103\n",
    "Accuracy лучшей модели на валидационной выборке: 0.7090209020902091\n",
    "f1 тренировочной 0.49358974358974356\n",
    "f1 валидационной 0.5088207985143918\n",
    "После устранения дисбаланса методом взвешивания классов,кол-во правильных ответов упало."
   ]
  },
  {
   "cell_type": "markdown",
   "metadata": {},
   "source": [
    "### Метод увеличения выборки"
   ]
  },
  {
   "cell_type": "code",
   "execution_count": 37,
   "metadata": {},
   "outputs": [],
   "source": [
    "def upsample(features, target, repeat):\n",
    "    features_zeros = features[target == 0]\n",
    "    features_ones = features[target == 1]\n",
    "    target_zeros = target[target == 0]\n",
    "    target_ones = target[target == 1]\n",
    "\n",
    "    features_upsampled = pd.concat([features_zeros] + [features_ones] * repeat)\n",
    "    target_upsampled = pd.concat([target_zeros] + [target_ones] * repeat)\n",
    "    \n",
    "    features_upsampled, target_upsampled = shuffle(\n",
    "        features_upsampled, target_upsampled, random_state=12345)\n",
    "    \n",
    "    return features_upsampled, target_upsampled\n",
    "\n",
    "features_upsampled, target_upsampled = upsample(features_train, target_train, 4)\n"
   ]
  },
  {
   "cell_type": "markdown",
   "metadata": {},
   "source": [
    "Количество ушедших клиентов,в 4 раза меньше чем оставшихся,увеличиваю обучающую выборку с ушедшими клиентами в 4 раза."
   ]
  },
  {
   "cell_type": "code",
   "execution_count": 38,
   "metadata": {},
   "outputs": [
    {
     "name": "stdout",
     "output_type": "stream",
     "text": [
      "DecisionTreeClassifier(max_depth=5, random_state=12345) 0.5735449735449736 0.7783278327832783\n"
     ]
    }
   ],
   "source": [
    "best_f1 = 0\n",
    "best_result = 0\n",
    "best_model = None\n",
    "for depth in range(1,25):\n",
    "    model = DecisionTreeClassifier(max_depth = depth,random_state=12345)\n",
    "    model.fit(features_upsampled,target_upsampled)\n",
    "    predictions_valid = model.predict(features_valid)\n",
    "    predictions_upsampled = model.predict(features_upsampled)\n",
    "    f1_valid = f1_score(target_valid, predictions_valid)\n",
    "    f1_upsampled = f1_score(target_upsampled , predictions_upsampled)\n",
    "    result_valid = accuracy_score(predictions_valid,target_valid)\n",
    "    result_upsampled = accuracy_score(predictions_upsampled,target_upsampled)\n",
    "    if f1_valid > best_f1:\n",
    "        best_model = model\n",
    "        best_f1 = f1_valid\n",
    "        best_result = result_valid\n",
    "        \n",
    "print(best_model, best_f1 ,best_result)\n"
   ]
  },
  {
   "cell_type": "markdown",
   "metadata": {},
   "source": [
    "DecisionTreeClassifier(max_depth=5, random_state=12345) 0.5735449735449736 0.7783278327832783"
   ]
  },
  {
   "cell_type": "code",
   "execution_count": 39,
   "metadata": {},
   "outputs": [
    {
     "name": "stdout",
     "output_type": "stream",
     "text": [
      "RandomForestClassifier(max_depth=10, n_estimators=25, random_state=12345) 0.6139088729016786 0.8228822882288229\n"
     ]
    }
   ],
   "source": [
    "best_result = 0\n",
    "best_f1 = 0\n",
    "best_model = None\n",
    "for est in range(1,27):\n",
    "    for depth in range(1,11):\n",
    "        model = RandomForestClassifier(max_depth = depth,n_estimators = est,random_state=12345)\n",
    "        model.fit(features_upsampled,target_upsampled)\n",
    "        predictions_valid = model.predict(features_valid)\n",
    "        predictions_upsampled = model.predict(features_upsampled)\n",
    "        f1_valid = f1_score(target_valid, predictions_valid)\n",
    "        f1_upsampled = f1_score(target_upsampled, predictions_upsampled)\n",
    "        result_valid = accuracy_score(predictions_valid,target_valid)\n",
    "        result_upsampled = accuracy_score(predictions_upsampled,target_upsampled)\n",
    "        if f1_valid > best_f1 and result_valid>best_result:\n",
    "            best_model = model\n",
    "            best_f1 = f1_valid\n",
    "            best_result = result_valid\n",
    "            \n",
    "print(best_model, best_f1 ,best_result)"
   ]
  },
  {
   "cell_type": "code",
   "execution_count": 40,
   "metadata": {},
   "outputs": [
    {
     "name": "stdout",
     "output_type": "stream",
     "text": [
      "Accuracy лучшей модели на тренировочной выборке: 0.9228940217391305\n",
      "Accuracy лучшей модели на валидационной выборке: 0.8228822882288229\n",
      "f1 тренировочной 0.9245429362880887\n",
      "f1 валидационной 0.6139088729016786\n"
     ]
    }
   ],
   "source": [
    "model = RandomForestClassifier(max_depth = 10,n_estimators = 25,random_state=12345)\n",
    "model.fit(features_upsampled,target_upsampled)\n",
    "predictions_valid = model.predict(features_valid)\n",
    "predictions_upsampled = model.predict(features_upsampled)\n",
    "f1_valid = f1_score(target_valid, predictions_valid)\n",
    "f1_upsampled = f1_score(target_upsampled, predictions_upsampled)\n",
    "result_valid = accuracy_score(predictions_valid,target_valid)\n",
    "result_upsampled = accuracy_score(predictions_upsampled,target_upsampled)\n",
    "\n",
    "print('Accuracy лучшей модели на тренировочной выборке:',result_upsampled)  \n",
    "print('Accuracy лучшей модели на валидационной выборке:',result_valid) \n",
    "print('f1 тренировочной',f1_score(target_upsampled,predictions_upsampled))\n",
    "print('f1 валидационной',f1_score(target_valid,predictions_valid))"
   ]
  },
  {
   "cell_type": "markdown",
   "metadata": {},
   "source": [
    "\"Случайный лес\", при поиске максимального f1,в диапазоне max_depth (1,16),n_estimators(1,51),\n",
    "модель показала max_depth = 14,n_estimators = 39\n",
    "Accuracy лучшей модели на тренировочной выборке: 0.9937726449275363\n",
    "Accuracy лучшей модели на валидационной выборке: 0.852035203520352\n",
    "f1 тренировочной 0.9939260077305357\n",
    "f1 валидационной 0.6359945872801083  (Модель переобучена)\n"
   ]
  },
  {
   "cell_type": "code",
   "execution_count": 41,
   "metadata": {},
   "outputs": [
    {
     "name": "stdout",
     "output_type": "stream",
     "text": [
      "Accuracy лучшей модели на тренировочной выборке: 0.7000679347826086\n",
      "Accuracy лучшей модели на валидационной выборке: 0.7007700770077008\n",
      "f1 тренировочной 0.7030601950453984\n",
      "f1 валидационной 0.5072463768115941\n"
     ]
    }
   ],
   "source": [
    "model = LogisticRegression('l1',solver='liblinear',random_state=12345)\n",
    "model.fit(features_upsampled,target_upsampled)\n",
    "predictions_valid = model.predict(features_valid)\n",
    "predictions_upsampled = model.predict(features_upsampled)\n",
    "result_valid = accuracy_score(predictions_valid,target_valid)\n",
    "result_upsampled = accuracy_score(predictions_upsampled,target_upsampled)\n",
    "\n",
    "print('Accuracy лучшей модели на тренировочной выборке:',result_upsampled)  \n",
    "print('Accuracy лучшей модели на валидационной выборке:',result_valid) \n",
    "print('f1 тренировочной',f1_score(target_upsampled,predictions_upsampled))\n",
    "print('f1 валидационной',f1_score(target_valid,predictions_valid))"
   ]
  },
  {
   "cell_type": "markdown",
   "metadata": {},
   "source": [
    "### Метод уменьшение выборки"
   ]
  },
  {
   "cell_type": "code",
   "execution_count": 42,
   "metadata": {},
   "outputs": [],
   "source": [
    "def downsample(features, target, fraction):\n",
    "    features_zeros = features[target == 0]\n",
    "    features_ones = features[target == 1]\n",
    "    target_zeros = target[target == 0]\n",
    "    target_ones = target[target == 1]\n",
    "    \n",
    "    features_downsampled = pd.concat([features_zeros.sample(frac=fraction,random_state=12345)] + [features_ones])\n",
    "    target_downsampled = pd.concat([target_zeros.sample(frac=fraction,random_state = 12345)] + [target_ones])\n",
    "    features_downsampled,target_downsampled = shuffle(features_downsampled,target_downsampled,random_state=12345)\n",
    "    \n",
    "    \n",
    "    return features_downsampled, target_downsampled\n",
    "\n",
    "features_downsampled, target_downsampled = downsample(features_train, target_train, 0.25)"
   ]
  },
  {
   "cell_type": "markdown",
   "metadata": {},
   "source": [
    "Уменьшаю выборку с оставшимся клиентами,для уравнивания баланса"
   ]
  },
  {
   "cell_type": "code",
   "execution_count": 43,
   "metadata": {},
   "outputs": [
    {
     "name": "stdout",
     "output_type": "stream",
     "text": [
      "DecisionTreeClassifier(max_depth=6, random_state=12345) 0.5636704119850188 0.7436743674367436\n"
     ]
    }
   ],
   "source": [
    "best_f1 = 0\n",
    "best_result = 0\n",
    "best_model = None\n",
    "for depth in range(1,25):\n",
    "    model = DecisionTreeClassifier(max_depth = depth,random_state=12345)\n",
    "    model.fit(features_downsampled,target_downsampled)\n",
    "    predictions_valid = model.predict(features_valid)\n",
    "    predictions_downsampled = model.predict(features_downsampled)\n",
    "    f1_valid = f1_score(target_valid, predictions_valid)\n",
    "    f1_train = f1_score(target_downsampled , predictions_downsampled)\n",
    "    result_valid = accuracy_score(predictions_valid,target_valid)\n",
    "    result_downsampled = accuracy_score(predictions_downsampled,target_downsampled )\n",
    "    if f1_valid > best_f1:\n",
    "        best_model = model\n",
    "        best_f1 = f1_valid\n",
    "        best_result = result_valid\n",
    "        \n",
    "print(best_model, best_f1 ,best_result)"
   ]
  },
  {
   "cell_type": "code",
   "execution_count": 44,
   "metadata": {},
   "outputs": [
    {
     "name": "stdout",
     "output_type": "stream",
     "text": [
      "RandomForestClassifier(max_depth=5, n_estimators=14, random_state=12345) 0.6000000000000001 0.7843784378437844\n"
     ]
    }
   ],
   "source": [
    "best_result = 0\n",
    "best_f1 = 0\n",
    "best_model = None\n",
    "for est in range(1,27):\n",
    "    for depth in range(1,11):\n",
    "        model = RandomForestClassifier(max_depth = depth,n_estimators = est,random_state=12345)\n",
    "        model.fit(features_downsampled,target_downsampled)\n",
    "        predictions_valid = model.predict(features_valid)\n",
    "        predictions_downsampled = model.predict(features_downsampled)\n",
    "        f1_valid = f1_score(target_valid, predictions_valid)\n",
    "        f1_downsampled = f1_score(target_downsampled, predictions_downsampled)\n",
    "        result_valid = accuracy_score(predictions_valid,target_valid)\n",
    "        result_train = accuracy_score(predictions_downsampled,target_downsampled)\n",
    "        if f1_valid > best_f1 and result_valid>best_result:\n",
    "            best_model = model\n",
    "            best_f1 = f1_valid\n",
    "            best_result = result_valid\n",
    "            \n",
    "print(best_model, best_f1 ,best_result)"
   ]
  },
  {
   "cell_type": "code",
   "execution_count": 45,
   "metadata": {
    "scrolled": true
   },
   "outputs": [
    {
     "name": "stdout",
     "output_type": "stream",
     "text": [
      "Accuracy лучшей модели на тренировочной выборке: 0.7056159420289855\n",
      "Accuracy лучшей модели на валидационной выборке: 0.6963696369636964\n",
      "f1 тренировочной 0.7095621090259161\n",
      "f1 валидационной 0.5044883303411131\n"
     ]
    }
   ],
   "source": [
    "model = LogisticRegression(solver='liblinear',random_state=12345)\n",
    "model.fit(features_downsampled, target_downsampled)\n",
    "predictions_valid = model.predict(features_valid)\n",
    "predictions_downsampled = model.predict(features_downsampled)\n",
    "result_valid = accuracy_score(predictions_valid,target_valid)\n",
    "result_downsampled = accuracy_score(predictions_downsampled,target_downsampled )\n",
    "\n",
    "print('Accuracy лучшей модели на тренировочной выборке:',result_downsampled)  \n",
    "print('Accuracy лучшей модели на валидационной выборке:',result_valid) \n",
    "print('f1 тренировочной',f1_score(target_downsampled ,predictions_downsampled))\n",
    "print('f1 валидационной',f1_score(target_valid,predictions_valid))"
   ]
  },
  {
   "cell_type": "markdown",
   "metadata": {},
   "source": [
    "## Тестирование модели"
   ]
  },
  {
   "cell_type": "markdown",
   "metadata": {},
   "source": [
    "RandomForestClassifier(class_weight='balanced', max_depth=9, n_estimators=10,\n",
    "                       random_state=12345) 0.6497584541062802 0.8404840484048405\n",
    "Accuracy лучшей модели на тренировочной выборке: 0.8830216354968831\n",
    "Accuracy лучшей модели на валидационной выборке: 0.8404840484048405\n",
    "f1 тренировочной 0.7410714285714286\n",
    "f1 валидационной 0.6497584541062802"
   ]
  },
  {
   "cell_type": "code",
   "execution_count": 53,
   "metadata": {},
   "outputs": [
    {
     "name": "stdout",
     "output_type": "stream",
     "text": [
      "Accuracy лучшей модели на тестовой выборке: 0.8306761957119296\n",
      "f1 тестовой 0.5936675461741425\n",
      "0.8450291886940389\n"
     ]
    },
    {
     "data": {
      "image/png": "[encoded data removed]",
      "text/plain": [
       "<Figure size 432x432 with 1 Axes>"
      ]
     },
     "metadata": {
      "needs_background": "light"
     },
     "output_type": "display_data"
    }
   ],
   "source": [
    "model = RandomForestClassifier(max_depth = 9,n_estimators = 10,random_state=12345,class_weight = 'balanced')\n",
    "model.fit(features_train,target_train)\n",
    "predictions_test = model.predict(features_test)\n",
    "f1_test = f1_score(target_test, predictions_test)\n",
    "result_test = accuracy_score(predictions_test,target_test)\n",
    "\n",
    "\n",
    "print('Accuracy лучшей модели на тестовой выборке:',result_test) \n",
    "print('f1 тестовой',f1_score(target_test,predictions_test))\n",
    "\n",
    "probabilities_test = model.predict_proba(features_test)\n",
    "probabilities_one_test = probabilities_test[:, 1]\n",
    "\n",
    "auc_roc = roc_auc_score(target_test,probabilities_one_test)\n",
    "\n",
    "print(auc_roc)\n",
    "\n",
    "fpr, tpr, thresholds = roc_curve(target_test,probabilities_one_test)# < напишите код здесь >\n",
    "\n",
    "\n",
    "plt.figure(figsize=(6, 6))\n",
    "plt.plot([0, 1], [0, 1], linestyle='--')\n",
    "plt.plot(fpr, tpr)\n",
    "plt.xlim([0.0, 1.0])\n",
    "plt.ylim([0.0, 1.0])\n",
    "plt.xlabel('False Positive Rate')\n",
    "plt.ylabel('True Positive Rate')\n",
    "plt.title('ROC-кривая')\n",
    "plt.show() "
   ]
  },
  {
   "cell_type": "markdown",
   "metadata": {},
   "source": [
    "## Общий вывод"
   ]
  },
  {
   "cell_type": "markdown",
   "metadata": {},
   "source": [
    "При создании модели для данных с дисбалансом,наилучшая модель-\"Случайный лес\" ,способ устранения дисбаланса -\"Метод взвешивания классов\".\n",
    "Accuracy лучшей модели на тестовой выборке: 0.8306761957119296\n",
    "f1 тестовой 0.5936675461741425\n",
    "AUC-ROC тестовой -0.8690573706367336\n"
   ]
  }
 ],
 "metadata": {
  "ExecuteTimeLog": [
   {
    "duration": 658,
    "start_time": "2022-06-01T12:37:56.930Z"
   },
   {
    "duration": 123,
    "start_time": "2022-06-01T12:39:36.775Z"
   },
   {
    "duration": 22,
    "start_time": "2022-06-01T12:39:59.408Z"
   },
   {
    "duration": 124,
    "start_time": "2022-06-01T12:43:41.625Z"
   },
   {
    "duration": 114,
    "start_time": "2022-06-01T12:46:54.646Z"
   },
   {
    "duration": 17,
    "start_time": "2022-06-01T12:47:14.417Z"
   },
   {
    "duration": 46,
    "start_time": "2022-06-01T12:47:59.275Z"
   },
   {
    "duration": 52,
    "start_time": "2022-06-01T12:48:30.227Z"
   },
   {
    "duration": 6,
    "start_time": "2022-06-01T12:48:38.430Z"
   },
   {
    "duration": 33,
    "start_time": "2022-06-01T12:49:05.583Z"
   },
   {
    "duration": 6,
    "start_time": "2022-06-01T12:50:17.890Z"
   },
   {
    "duration": 6,
    "start_time": "2022-06-01T12:51:17.087Z"
   },
   {
    "duration": 7,
    "start_time": "2022-06-01T12:52:26.901Z"
   },
   {
    "duration": 5,
    "start_time": "2022-06-01T12:52:47.712Z"
   },
   {
    "duration": 13,
    "start_time": "2022-06-01T12:55:56.880Z"
   },
   {
    "duration": 34,
    "start_time": "2022-06-01T12:56:30.609Z"
   },
   {
    "duration": 3,
    "start_time": "2022-06-01T12:56:46.636Z"
   },
   {
    "duration": 605,
    "start_time": "2022-06-01T12:57:05.486Z"
   },
   {
    "duration": 24,
    "start_time": "2022-06-01T12:57:14.437Z"
   },
   {
    "duration": 32,
    "start_time": "2022-06-01T13:00:30.668Z"
   },
   {
    "duration": 31,
    "start_time": "2022-06-01T13:00:55.381Z"
   },
   {
    "duration": 46,
    "start_time": "2022-06-01T13:01:13.881Z"
   },
   {
    "duration": 3,
    "start_time": "2022-06-01T18:27:38.639Z"
   },
   {
    "duration": 38,
    "start_time": "2022-06-01T18:28:32.473Z"
   },
   {
    "duration": 14,
    "start_time": "2022-06-01T18:28:44.129Z"
   },
   {
    "duration": 13,
    "start_time": "2022-06-01T18:29:07.564Z"
   },
   {
    "duration": 9,
    "start_time": "2022-06-01T18:29:16.370Z"
   },
   {
    "duration": 570,
    "start_time": "2022-06-01T18:30:00.425Z"
   },
   {
    "duration": 15,
    "start_time": "2022-06-01T18:30:10.828Z"
   },
   {
    "duration": 4,
    "start_time": "2022-06-01T18:31:56.767Z"
   },
   {
    "duration": 5,
    "start_time": "2022-06-01T18:32:10.796Z"
   },
   {
    "duration": 2,
    "start_time": "2022-06-01T18:40:23.495Z"
   },
   {
    "duration": 10,
    "start_time": "2022-06-01T18:41:54.556Z"
   },
   {
    "duration": 825,
    "start_time": "2022-06-01T18:44:59.330Z"
   },
   {
    "duration": 40,
    "start_time": "2022-06-01T18:45:00.157Z"
   },
   {
    "duration": 46,
    "start_time": "2022-06-01T18:45:00.198Z"
   },
   {
    "duration": 14,
    "start_time": "2022-06-01T18:45:00.245Z"
   },
   {
    "duration": 12,
    "start_time": "2022-06-01T18:45:00.261Z"
   },
   {
    "duration": 6,
    "start_time": "2022-06-01T18:45:00.275Z"
   },
   {
    "duration": 22,
    "start_time": "2022-06-01T18:45:00.283Z"
   },
   {
    "duration": 4,
    "start_time": "2022-06-01T18:45:25.647Z"
   },
   {
    "duration": 4,
    "start_time": "2022-06-01T18:45:52.255Z"
   },
   {
    "duration": 4,
    "start_time": "2022-06-01T18:46:04.400Z"
   },
   {
    "duration": 100,
    "start_time": "2022-06-01T18:48:41.600Z"
   },
   {
    "duration": 93,
    "start_time": "2022-06-01T18:50:25.302Z"
   },
   {
    "duration": 27,
    "start_time": "2022-06-01T18:58:43.321Z"
   },
   {
    "duration": 125,
    "start_time": "2022-06-01T19:00:43.216Z"
   },
   {
    "duration": 12,
    "start_time": "2022-06-01T19:00:44.415Z"
   },
   {
    "duration": 7,
    "start_time": "2022-06-01T19:01:38.210Z"
   },
   {
    "duration": 4,
    "start_time": "2022-06-01T19:01:39.813Z"
   },
   {
    "duration": 9,
    "start_time": "2022-06-01T19:01:41.302Z"
   },
   {
    "duration": 5,
    "start_time": "2022-06-01T19:01:42.263Z"
   },
   {
    "duration": 3,
    "start_time": "2022-06-01T19:01:43.240Z"
   },
   {
    "duration": 3,
    "start_time": "2022-06-01T19:01:43.977Z"
   },
   {
    "duration": 20,
    "start_time": "2022-06-01T19:01:45.993Z"
   },
   {
    "duration": 21,
    "start_time": "2022-06-01T19:01:59.871Z"
   },
   {
    "duration": 17,
    "start_time": "2022-06-01T19:04:13.553Z"
   },
   {
    "duration": 5,
    "start_time": "2022-06-01T19:04:28.585Z"
   },
   {
    "duration": 10,
    "start_time": "2022-06-01T19:04:30.133Z"
   },
   {
    "duration": 4,
    "start_time": "2022-06-01T19:04:31.037Z"
   },
   {
    "duration": 4,
    "start_time": "2022-06-01T19:04:31.912Z"
   },
   {
    "duration": 3,
    "start_time": "2022-06-01T19:04:32.798Z"
   },
   {
    "duration": 19,
    "start_time": "2022-06-01T19:04:34.805Z"
   },
   {
    "duration": 973,
    "start_time": "2022-06-01T19:07:59.965Z"
   },
   {
    "duration": 42,
    "start_time": "2022-06-01T19:08:00.940Z"
   },
   {
    "duration": 45,
    "start_time": "2022-06-01T19:08:00.983Z"
   },
   {
    "duration": 12,
    "start_time": "2022-06-01T19:08:01.030Z"
   },
   {
    "duration": 31,
    "start_time": "2022-06-01T19:08:01.043Z"
   },
   {
    "duration": 11,
    "start_time": "2022-06-01T19:08:01.076Z"
   },
   {
    "duration": 12,
    "start_time": "2022-06-01T19:08:01.089Z"
   },
   {
    "duration": 24,
    "start_time": "2022-06-01T19:08:01.103Z"
   },
   {
    "duration": 6,
    "start_time": "2022-06-01T19:08:01.129Z"
   },
   {
    "duration": 18,
    "start_time": "2022-06-01T19:08:01.137Z"
   },
   {
    "duration": 14,
    "start_time": "2022-06-01T19:08:01.157Z"
   },
   {
    "duration": 121,
    "start_time": "2022-06-01T19:08:01.172Z"
   },
   {
    "duration": 914,
    "start_time": "2022-06-01T19:10:24.132Z"
   },
   {
    "duration": 42,
    "start_time": "2022-06-01T19:10:25.048Z"
   },
   {
    "duration": 44,
    "start_time": "2022-06-01T19:10:25.091Z"
   },
   {
    "duration": 11,
    "start_time": "2022-06-01T19:10:25.136Z"
   },
   {
    "duration": 17,
    "start_time": "2022-06-01T19:10:25.149Z"
   },
   {
    "duration": 11,
    "start_time": "2022-06-01T19:10:25.169Z"
   },
   {
    "duration": 4,
    "start_time": "2022-06-01T19:10:25.182Z"
   },
   {
    "duration": 10,
    "start_time": "2022-06-01T19:10:25.187Z"
   },
   {
    "duration": 4,
    "start_time": "2022-06-01T19:10:25.198Z"
   },
   {
    "duration": 4,
    "start_time": "2022-06-01T19:10:25.204Z"
   },
   {
    "duration": 6,
    "start_time": "2022-06-01T19:10:25.209Z"
   },
   {
    "duration": 146,
    "start_time": "2022-06-01T19:10:25.217Z"
   },
   {
    "duration": 22,
    "start_time": "2022-06-01T19:12:22.872Z"
   },
   {
    "duration": 13,
    "start_time": "2022-06-01T19:12:54.665Z"
   },
   {
    "duration": 12,
    "start_time": "2022-06-01T19:13:34.206Z"
   },
   {
    "duration": 25,
    "start_time": "2022-06-01T19:13:39.599Z"
   },
   {
    "duration": 10,
    "start_time": "2022-06-01T19:14:19.868Z"
   },
   {
    "duration": 3,
    "start_time": "2022-06-01T19:14:55.079Z"
   },
   {
    "duration": 19,
    "start_time": "2022-06-01T19:15:01.282Z"
   },
   {
    "duration": 9,
    "start_time": "2022-06-01T19:17:25.325Z"
   },
   {
    "duration": 552,
    "start_time": "2022-06-01T19:20:13.725Z"
   },
   {
    "duration": 9,
    "start_time": "2022-06-01T19:31:28.310Z"
   },
   {
    "duration": 510,
    "start_time": "2022-06-01T19:31:52.280Z"
   },
   {
    "duration": 21,
    "start_time": "2022-06-01T19:32:47.968Z"
   },
   {
    "duration": 14,
    "start_time": "2022-06-01T19:34:42.822Z"
   },
   {
    "duration": 24,
    "start_time": "2022-06-01T19:35:15.406Z"
   },
   {
    "duration": 23,
    "start_time": "2022-06-01T19:35:46.499Z"
   },
   {
    "duration": 6,
    "start_time": "2022-06-01T19:36:02.545Z"
   },
   {
    "duration": 11,
    "start_time": "2022-06-01T19:36:03.975Z"
   },
   {
    "duration": 5,
    "start_time": "2022-06-01T19:36:05.208Z"
   },
   {
    "duration": 5,
    "start_time": "2022-06-01T19:36:05.993Z"
   },
   {
    "duration": 5,
    "start_time": "2022-06-01T19:36:06.663Z"
   },
   {
    "duration": 20,
    "start_time": "2022-06-01T19:36:08.633Z"
   },
   {
    "duration": 27,
    "start_time": "2022-06-01T19:36:14.775Z"
   },
   {
    "duration": 1014,
    "start_time": "2022-06-01T19:37:11.275Z"
   },
   {
    "duration": 38,
    "start_time": "2022-06-01T19:37:12.291Z"
   },
   {
    "duration": 60,
    "start_time": "2022-06-01T19:37:12.331Z"
   },
   {
    "duration": 13,
    "start_time": "2022-06-01T19:37:12.392Z"
   },
   {
    "duration": 11,
    "start_time": "2022-06-01T19:37:12.407Z"
   },
   {
    "duration": 9,
    "start_time": "2022-06-01T19:37:12.419Z"
   },
   {
    "duration": 56,
    "start_time": "2022-06-01T19:37:12.429Z"
   },
   {
    "duration": 4,
    "start_time": "2022-06-01T19:37:12.487Z"
   },
   {
    "duration": 11,
    "start_time": "2022-06-01T19:37:12.492Z"
   },
   {
    "duration": 4,
    "start_time": "2022-06-01T19:37:12.504Z"
   },
   {
    "duration": 5,
    "start_time": "2022-06-01T19:37:12.509Z"
   },
   {
    "duration": 6,
    "start_time": "2022-06-01T19:37:12.515Z"
   },
   {
    "duration": 168,
    "start_time": "2022-06-01T19:37:12.523Z"
   },
   {
    "duration": 0,
    "start_time": "2022-06-01T19:37:12.694Z"
   },
   {
    "duration": 0,
    "start_time": "2022-06-01T19:37:12.695Z"
   },
   {
    "duration": 10,
    "start_time": "2022-06-01T19:37:59.762Z"
   },
   {
    "duration": 10,
    "start_time": "2022-06-01T19:38:01.540Z"
   },
   {
    "duration": 29,
    "start_time": "2022-06-01T19:38:02.494Z"
   },
   {
    "duration": 9,
    "start_time": "2022-06-01T19:38:09.378Z"
   },
   {
    "duration": 7,
    "start_time": "2022-06-01T19:38:10.284Z"
   },
   {
    "duration": 24,
    "start_time": "2022-06-01T19:38:11.102Z"
   },
   {
    "duration": 5,
    "start_time": "2022-06-01T19:38:17.610Z"
   },
   {
    "duration": 8,
    "start_time": "2022-06-01T19:38:18.270Z"
   },
   {
    "duration": 4,
    "start_time": "2022-06-01T19:38:18.885Z"
   },
   {
    "duration": 4,
    "start_time": "2022-06-01T19:38:19.666Z"
   },
   {
    "duration": 4,
    "start_time": "2022-06-01T19:38:20.295Z"
   },
   {
    "duration": 25,
    "start_time": "2022-06-01T19:38:21.975Z"
   },
   {
    "duration": 19,
    "start_time": "2022-06-01T19:38:30.607Z"
   },
   {
    "duration": 13,
    "start_time": "2022-06-01T19:39:03.189Z"
   },
   {
    "duration": 18,
    "start_time": "2022-06-01T19:40:07.675Z"
   },
   {
    "duration": 903,
    "start_time": "2022-06-01T19:40:27.370Z"
   },
   {
    "duration": 39,
    "start_time": "2022-06-01T19:40:28.275Z"
   },
   {
    "duration": 56,
    "start_time": "2022-06-01T19:40:28.316Z"
   },
   {
    "duration": 12,
    "start_time": "2022-06-01T19:40:28.374Z"
   },
   {
    "duration": 11,
    "start_time": "2022-06-01T19:40:28.388Z"
   },
   {
    "duration": 7,
    "start_time": "2022-06-01T19:40:28.400Z"
   },
   {
    "duration": 30,
    "start_time": "2022-06-01T19:40:28.408Z"
   },
   {
    "duration": 8,
    "start_time": "2022-06-01T19:40:28.454Z"
   },
   {
    "duration": 17,
    "start_time": "2022-06-01T19:40:28.468Z"
   },
   {
    "duration": 12,
    "start_time": "2022-06-01T19:40:28.487Z"
   },
   {
    "duration": 5,
    "start_time": "2022-06-01T19:40:28.501Z"
   },
   {
    "duration": 13,
    "start_time": "2022-06-01T19:40:28.507Z"
   },
   {
    "duration": 12,
    "start_time": "2022-06-01T19:40:28.522Z"
   },
   {
    "duration": 8,
    "start_time": "2022-06-01T19:40:28.535Z"
   },
   {
    "duration": 162,
    "start_time": "2022-06-01T19:40:28.554Z"
   },
   {
    "duration": 0,
    "start_time": "2022-06-01T19:40:28.717Z"
   },
   {
    "duration": 0,
    "start_time": "2022-06-01T19:40:28.718Z"
   },
   {
    "duration": 3,
    "start_time": "2022-06-01T19:45:41.917Z"
   },
   {
    "duration": 21,
    "start_time": "2022-06-01T19:45:55.128Z"
   },
   {
    "duration": 19,
    "start_time": "2022-06-01T19:46:07.188Z"
   },
   {
    "duration": 214,
    "start_time": "2022-06-01T19:46:18.482Z"
   },
   {
    "duration": 4,
    "start_time": "2022-06-01T19:51:44.880Z"
   },
   {
    "duration": 337,
    "start_time": "2022-06-01T19:52:17.893Z"
   },
   {
    "duration": 393,
    "start_time": "2022-06-01T19:54:16.304Z"
   },
   {
    "duration": 227,
    "start_time": "2022-06-01T19:54:45.504Z"
   },
   {
    "duration": 203,
    "start_time": "2022-06-01T19:55:26.906Z"
   },
   {
    "duration": 230,
    "start_time": "2022-06-01T19:56:02.947Z"
   },
   {
    "duration": 203,
    "start_time": "2022-06-01T19:56:07.922Z"
   },
   {
    "duration": 349,
    "start_time": "2022-06-01T19:56:20.443Z"
   },
   {
    "duration": 367,
    "start_time": "2022-06-01T19:57:06.370Z"
   },
   {
    "duration": 203,
    "start_time": "2022-06-01T19:57:56.431Z"
   },
   {
    "duration": 193,
    "start_time": "2022-06-01T19:59:16.672Z"
   },
   {
    "duration": 323,
    "start_time": "2022-06-01T19:59:28.876Z"
   },
   {
    "duration": 6246,
    "start_time": "2022-06-01T20:23:05.414Z"
   },
   {
    "duration": 6328,
    "start_time": "2022-06-01T20:23:39.437Z"
   },
   {
    "duration": 9349,
    "start_time": "2022-06-01T20:25:17.731Z"
   },
   {
    "duration": 6226,
    "start_time": "2022-06-01T20:25:36.865Z"
   },
   {
    "duration": 11449,
    "start_time": "2022-06-01T20:26:01.065Z"
   },
   {
    "duration": 27864,
    "start_time": "2022-06-01T20:26:59.227Z"
   },
   {
    "duration": 69218,
    "start_time": "2022-06-01T20:27:44.832Z"
   },
   {
    "duration": 17,
    "start_time": "2022-06-01T20:30:35.910Z"
   },
   {
    "duration": 3,
    "start_time": "2022-06-01T20:30:56.938Z"
   },
   {
    "duration": 978,
    "start_time": "2022-06-01T20:35:15.279Z"
   },
   {
    "duration": 950,
    "start_time": "2022-06-01T20:35:45.311Z"
   },
   {
    "duration": 505,
    "start_time": "2022-06-01T20:36:17.854Z"
   },
   {
    "duration": 189,
    "start_time": "2022-06-01T20:36:53.268Z"
   },
   {
    "duration": 58,
    "start_time": "2022-06-01T20:37:06.498Z"
   },
   {
    "duration": 805,
    "start_time": "2022-06-01T20:37:43.758Z"
   },
   {
    "duration": 21,
    "start_time": "2022-06-01T20:37:54.373Z"
   },
   {
    "duration": 128,
    "start_time": "2022-06-01T20:39:25.542Z"
   },
   {
    "duration": 155,
    "start_time": "2022-06-01T20:39:47.503Z"
   },
   {
    "duration": 142,
    "start_time": "2022-06-01T20:40:06.913Z"
   },
   {
    "duration": 13,
    "start_time": "2022-06-01T20:40:20.012Z"
   },
   {
    "duration": 170,
    "start_time": "2022-06-01T20:40:34.802Z"
   },
   {
    "duration": 34,
    "start_time": "2022-06-01T21:30:46.639Z"
   },
   {
    "duration": 13,
    "start_time": "2022-06-01T21:31:02.404Z"
   },
   {
    "duration": 4,
    "start_time": "2022-06-01T21:32:00.767Z"
   },
   {
    "duration": 10,
    "start_time": "2022-06-01T21:32:10.438Z"
   },
   {
    "duration": 11,
    "start_time": "2022-06-01T21:32:18.966Z"
   },
   {
    "duration": 0,
    "start_time": "2022-06-01T21:44:54.688Z"
   },
   {
    "duration": 0,
    "start_time": "2022-06-01T21:44:54.689Z"
   },
   {
    "duration": 11,
    "start_time": "2022-06-01T21:54:52.974Z"
   },
   {
    "duration": 4,
    "start_time": "2022-06-01T21:55:02.258Z"
   },
   {
    "duration": 12,
    "start_time": "2022-06-01T21:55:09.045Z"
   },
   {
    "duration": 10,
    "start_time": "2022-06-01T21:55:42.837Z"
   },
   {
    "duration": 3,
    "start_time": "2022-06-01T21:56:24.060Z"
   },
   {
    "duration": 11,
    "start_time": "2022-06-01T21:56:28.380Z"
   },
   {
    "duration": 20,
    "start_time": "2022-06-01T21:57:24.680Z"
   },
   {
    "duration": 1149,
    "start_time": "2022-06-01T21:57:41.602Z"
   },
   {
    "duration": 118,
    "start_time": "2022-06-01T21:57:42.753Z"
   },
   {
    "duration": 42,
    "start_time": "2022-06-01T21:57:42.872Z"
   },
   {
    "duration": 12,
    "start_time": "2022-06-01T21:57:42.916Z"
   },
   {
    "duration": 31,
    "start_time": "2022-06-01T21:57:42.930Z"
   },
   {
    "duration": 10,
    "start_time": "2022-06-01T21:57:42.966Z"
   },
   {
    "duration": 37,
    "start_time": "2022-06-01T21:57:42.978Z"
   },
   {
    "duration": 5,
    "start_time": "2022-06-01T21:57:43.017Z"
   },
   {
    "duration": 34,
    "start_time": "2022-06-01T21:57:43.023Z"
   },
   {
    "duration": 9,
    "start_time": "2022-06-01T21:57:43.060Z"
   },
   {
    "duration": 5,
    "start_time": "2022-06-01T21:57:43.071Z"
   },
   {
    "duration": 12,
    "start_time": "2022-06-01T21:57:43.077Z"
   },
   {
    "duration": 4,
    "start_time": "2022-06-01T21:57:43.090Z"
   },
   {
    "duration": 11,
    "start_time": "2022-06-01T21:57:43.096Z"
   },
   {
    "duration": 8,
    "start_time": "2022-06-01T21:57:43.109Z"
   },
   {
    "duration": 38,
    "start_time": "2022-06-01T21:57:43.119Z"
   },
   {
    "duration": 269,
    "start_time": "2022-06-01T21:57:43.159Z"
   },
   {
    "duration": 52190,
    "start_time": "2022-06-01T21:57:43.430Z"
   },
   {
    "duration": 7,
    "start_time": "2022-06-01T21:58:35.622Z"
   },
   {
    "duration": 1106,
    "start_time": "2022-06-01T22:02:27.176Z"
   },
   {
    "duration": 115,
    "start_time": "2022-06-01T22:02:28.284Z"
   },
   {
    "duration": 66,
    "start_time": "2022-06-01T22:02:28.401Z"
   },
   {
    "duration": 17,
    "start_time": "2022-06-01T22:02:28.470Z"
   },
   {
    "duration": 13,
    "start_time": "2022-06-01T22:02:28.489Z"
   },
   {
    "duration": 7,
    "start_time": "2022-06-01T22:02:28.504Z"
   },
   {
    "duration": 57,
    "start_time": "2022-06-01T22:02:28.512Z"
   },
   {
    "duration": 4,
    "start_time": "2022-06-01T22:02:28.570Z"
   },
   {
    "duration": 7,
    "start_time": "2022-06-01T22:02:28.576Z"
   },
   {
    "duration": 7,
    "start_time": "2022-06-01T22:02:28.586Z"
   },
   {
    "duration": 4,
    "start_time": "2022-06-01T22:02:28.595Z"
   },
   {
    "duration": 6,
    "start_time": "2022-06-01T22:02:28.600Z"
   },
   {
    "duration": 13,
    "start_time": "2022-06-01T22:02:28.607Z"
   },
   {
    "duration": 41,
    "start_time": "2022-06-01T22:02:28.621Z"
   },
   {
    "duration": 6,
    "start_time": "2022-06-01T22:02:28.664Z"
   },
   {
    "duration": 30,
    "start_time": "2022-06-01T22:02:28.671Z"
   },
   {
    "duration": 271,
    "start_time": "2022-06-01T22:02:28.704Z"
   },
   {
    "duration": 50995,
    "start_time": "2022-06-01T22:02:28.977Z"
   },
   {
    "duration": 5,
    "start_time": "2022-06-01T22:03:19.974Z"
   },
   {
    "duration": 1142,
    "start_time": "2022-06-01T22:08:09.306Z"
   },
   {
    "duration": 119,
    "start_time": "2022-06-01T22:08:10.450Z"
   },
   {
    "duration": 43,
    "start_time": "2022-06-01T22:08:10.571Z"
   },
   {
    "duration": 12,
    "start_time": "2022-06-01T22:08:10.616Z"
   },
   {
    "duration": 34,
    "start_time": "2022-06-01T22:08:10.629Z"
   },
   {
    "duration": 10,
    "start_time": "2022-06-01T22:08:10.665Z"
   },
   {
    "duration": 38,
    "start_time": "2022-06-01T22:08:10.676Z"
   },
   {
    "duration": 5,
    "start_time": "2022-06-01T22:08:10.716Z"
   },
   {
    "duration": 34,
    "start_time": "2022-06-01T22:08:10.722Z"
   },
   {
    "duration": 10,
    "start_time": "2022-06-01T22:08:10.759Z"
   },
   {
    "duration": 5,
    "start_time": "2022-06-01T22:08:10.770Z"
   },
   {
    "duration": 9,
    "start_time": "2022-06-01T22:08:10.776Z"
   },
   {
    "duration": 13,
    "start_time": "2022-06-01T22:08:10.786Z"
   },
   {
    "duration": 15,
    "start_time": "2022-06-01T22:08:10.800Z"
   },
   {
    "duration": 4,
    "start_time": "2022-06-01T22:08:10.817Z"
   },
   {
    "duration": 59,
    "start_time": "2022-06-01T22:08:10.823Z"
   },
   {
    "duration": 270,
    "start_time": "2022-06-01T22:08:10.884Z"
   },
   {
    "duration": 51090,
    "start_time": "2022-06-01T22:08:11.156Z"
   },
   {
    "duration": 9,
    "start_time": "2022-06-01T22:09:02.247Z"
   },
   {
    "duration": 1092,
    "start_time": "2022-06-01T22:09:25.844Z"
   },
   {
    "duration": 119,
    "start_time": "2022-06-01T22:09:26.938Z"
   },
   {
    "duration": 41,
    "start_time": "2022-06-01T22:09:27.059Z"
   },
   {
    "duration": 13,
    "start_time": "2022-06-01T22:09:27.102Z"
   },
   {
    "duration": 38,
    "start_time": "2022-06-01T22:09:27.117Z"
   },
   {
    "duration": 11,
    "start_time": "2022-06-01T22:09:27.157Z"
   },
   {
    "duration": 37,
    "start_time": "2022-06-01T22:09:27.170Z"
   },
   {
    "duration": 4,
    "start_time": "2022-06-01T22:09:27.208Z"
   },
   {
    "duration": 8,
    "start_time": "2022-06-01T22:09:27.214Z"
   },
   {
    "duration": 9,
    "start_time": "2022-06-01T22:09:27.254Z"
   },
   {
    "duration": 5,
    "start_time": "2022-06-01T22:09:27.265Z"
   },
   {
    "duration": 5,
    "start_time": "2022-06-01T22:09:27.272Z"
   },
   {
    "duration": 6,
    "start_time": "2022-06-01T22:09:27.279Z"
   },
   {
    "duration": 12,
    "start_time": "2022-06-01T22:09:27.286Z"
   },
   {
    "duration": 55,
    "start_time": "2022-06-01T22:09:27.299Z"
   },
   {
    "duration": 3,
    "start_time": "2022-06-01T22:09:27.356Z"
   },
   {
    "duration": 161,
    "start_time": "2022-06-01T22:09:27.360Z"
   },
   {
    "duration": 0,
    "start_time": "2022-06-01T22:09:27.523Z"
   },
   {
    "duration": 0,
    "start_time": "2022-06-01T22:09:27.524Z"
   },
   {
    "duration": 0,
    "start_time": "2022-06-01T22:09:27.525Z"
   },
   {
    "duration": 0,
    "start_time": "2022-06-01T22:09:27.526Z"
   },
   {
    "duration": 0,
    "start_time": "2022-06-01T22:09:27.527Z"
   },
   {
    "duration": 11,
    "start_time": "2022-06-01T22:10:23.194Z"
   },
   {
    "duration": 8,
    "start_time": "2022-06-01T22:10:31.059Z"
   },
   {
    "duration": 13,
    "start_time": "2022-06-01T22:10:47.582Z"
   },
   {
    "duration": 14,
    "start_time": "2022-06-01T22:11:12.576Z"
   },
   {
    "duration": 8,
    "start_time": "2022-06-01T22:11:28.505Z"
   },
   {
    "duration": 1127,
    "start_time": "2022-06-01T22:11:49.206Z"
   },
   {
    "duration": 118,
    "start_time": "2022-06-01T22:11:50.335Z"
   },
   {
    "duration": 43,
    "start_time": "2022-06-01T22:11:50.456Z"
   },
   {
    "duration": 12,
    "start_time": "2022-06-01T22:11:50.501Z"
   },
   {
    "duration": 40,
    "start_time": "2022-06-01T22:11:50.514Z"
   },
   {
    "duration": 8,
    "start_time": "2022-06-01T22:11:50.556Z"
   },
   {
    "duration": 23,
    "start_time": "2022-06-01T22:11:50.566Z"
   },
   {
    "duration": 4,
    "start_time": "2022-06-01T22:11:50.590Z"
   },
   {
    "duration": 6,
    "start_time": "2022-06-01T22:11:50.595Z"
   },
   {
    "duration": 10,
    "start_time": "2022-06-01T22:11:50.602Z"
   },
   {
    "duration": 43,
    "start_time": "2022-06-01T22:11:50.613Z"
   },
   {
    "duration": 3,
    "start_time": "2022-06-01T22:11:50.658Z"
   },
   {
    "duration": 14,
    "start_time": "2022-06-01T22:11:50.664Z"
   },
   {
    "duration": 13,
    "start_time": "2022-06-01T22:11:50.679Z"
   },
   {
    "duration": 18,
    "start_time": "2022-06-01T22:11:50.694Z"
   },
   {
    "duration": 41,
    "start_time": "2022-06-01T22:11:50.714Z"
   },
   {
    "duration": 14,
    "start_time": "2022-06-01T22:11:50.757Z"
   },
   {
    "duration": 238,
    "start_time": "2022-06-01T22:11:50.773Z"
   },
   {
    "duration": 49403,
    "start_time": "2022-06-01T22:11:51.012Z"
   },
   {
    "duration": 125,
    "start_time": "2022-06-01T22:12:40.417Z"
   },
   {
    "duration": 0,
    "start_time": "2022-06-01T22:12:40.544Z"
   },
   {
    "duration": 0,
    "start_time": "2022-06-01T22:12:40.545Z"
   },
   {
    "duration": 2,
    "start_time": "2022-06-01T22:14:18.826Z"
   },
   {
    "duration": 51,
    "start_time": "2022-06-01T22:14:20.706Z"
   },
   {
    "duration": 4,
    "start_time": "2022-06-01T22:17:19.375Z"
   },
   {
    "duration": 7,
    "start_time": "2022-06-01T22:17:28.475Z"
   },
   {
    "duration": 13,
    "start_time": "2022-06-01T22:17:39.435Z"
   },
   {
    "duration": 9,
    "start_time": "2022-06-01T22:17:53.619Z"
   },
   {
    "duration": 5,
    "start_time": "2022-06-01T22:18:01.416Z"
   },
   {
    "duration": 6,
    "start_time": "2022-06-01T22:18:25.822Z"
   },
   {
    "duration": 19286,
    "start_time": "2022-06-01T22:18:56.533Z"
   },
   {
    "duration": 4,
    "start_time": "2022-06-01T22:57:27.846Z"
   },
   {
    "duration": 4,
    "start_time": "2022-06-01T22:58:01.425Z"
   },
   {
    "duration": 53,
    "start_time": "2022-06-01T22:58:45.666Z"
   },
   {
    "duration": 71,
    "start_time": "2022-06-01T23:04:47.495Z"
   },
   {
    "duration": 84,
    "start_time": "2022-06-01T23:05:46.495Z"
   },
   {
    "duration": 56,
    "start_time": "2022-06-01T23:11:05.512Z"
   },
   {
    "duration": 47,
    "start_time": "2022-06-01T23:11:52.230Z"
   },
   {
    "duration": 1124,
    "start_time": "2022-06-01T23:20:39.100Z"
   },
   {
    "duration": 135,
    "start_time": "2022-06-01T23:20:40.226Z"
   },
   {
    "duration": 37,
    "start_time": "2022-06-01T23:20:40.362Z"
   },
   {
    "duration": 12,
    "start_time": "2022-06-01T23:20:40.402Z"
   },
   {
    "duration": 9,
    "start_time": "2022-06-01T23:20:40.416Z"
   },
   {
    "duration": 42,
    "start_time": "2022-06-01T23:20:40.426Z"
   },
   {
    "duration": 7,
    "start_time": "2022-06-01T23:20:40.469Z"
   },
   {
    "duration": 10,
    "start_time": "2022-06-01T23:20:40.477Z"
   },
   {
    "duration": 3,
    "start_time": "2022-06-01T23:20:40.489Z"
   },
   {
    "duration": 5,
    "start_time": "2022-06-01T23:20:40.494Z"
   },
   {
    "duration": 6,
    "start_time": "2022-06-01T23:20:40.501Z"
   },
   {
    "duration": 5,
    "start_time": "2022-06-01T23:20:40.508Z"
   },
   {
    "duration": 152,
    "start_time": "2022-06-01T23:20:40.514Z"
   },
   {
    "duration": 0,
    "start_time": "2022-06-01T23:20:40.669Z"
   },
   {
    "duration": 0,
    "start_time": "2022-06-01T23:20:40.670Z"
   },
   {
    "duration": 0,
    "start_time": "2022-06-01T23:20:40.670Z"
   },
   {
    "duration": 0,
    "start_time": "2022-06-01T23:20:40.671Z"
   },
   {
    "duration": 0,
    "start_time": "2022-06-01T23:20:40.672Z"
   },
   {
    "duration": 0,
    "start_time": "2022-06-01T23:20:40.672Z"
   },
   {
    "duration": 0,
    "start_time": "2022-06-01T23:20:40.673Z"
   },
   {
    "duration": 15,
    "start_time": "2022-06-01T23:23:10.236Z"
   },
   {
    "duration": 1065,
    "start_time": "2022-06-01T23:24:05.879Z"
   },
   {
    "duration": 136,
    "start_time": "2022-06-01T23:24:06.946Z"
   },
   {
    "duration": 37,
    "start_time": "2022-06-01T23:24:07.084Z"
   },
   {
    "duration": 10,
    "start_time": "2022-06-01T23:24:07.123Z"
   },
   {
    "duration": 13,
    "start_time": "2022-06-01T23:24:07.155Z"
   },
   {
    "duration": 23,
    "start_time": "2022-06-01T23:24:07.171Z"
   },
   {
    "duration": 4,
    "start_time": "2022-06-01T23:24:07.195Z"
   },
   {
    "duration": 13,
    "start_time": "2022-06-01T23:24:07.200Z"
   },
   {
    "duration": 3,
    "start_time": "2022-06-01T23:24:07.214Z"
   },
   {
    "duration": 19,
    "start_time": "2022-06-01T23:24:07.219Z"
   },
   {
    "duration": 12,
    "start_time": "2022-06-01T23:24:07.239Z"
   },
   {
    "duration": 23,
    "start_time": "2022-06-01T23:24:07.253Z"
   },
   {
    "duration": 12,
    "start_time": "2022-06-01T23:24:07.278Z"
   },
   {
    "duration": 126,
    "start_time": "2022-06-01T23:24:07.291Z"
   },
   {
    "duration": 0,
    "start_time": "2022-06-01T23:24:07.418Z"
   },
   {
    "duration": 0,
    "start_time": "2022-06-01T23:24:07.419Z"
   },
   {
    "duration": 0,
    "start_time": "2022-06-01T23:24:07.420Z"
   },
   {
    "duration": 0,
    "start_time": "2022-06-01T23:24:07.421Z"
   },
   {
    "duration": 0,
    "start_time": "2022-06-01T23:24:07.422Z"
   },
   {
    "duration": 0,
    "start_time": "2022-06-01T23:24:07.423Z"
   },
   {
    "duration": 0,
    "start_time": "2022-06-01T23:24:07.424Z"
   },
   {
    "duration": 1199,
    "start_time": "2022-06-01T23:25:01.925Z"
   },
   {
    "duration": 144,
    "start_time": "2022-06-01T23:25:03.128Z"
   },
   {
    "duration": 39,
    "start_time": "2022-06-01T23:25:03.275Z"
   },
   {
    "duration": 11,
    "start_time": "2022-06-01T23:25:03.315Z"
   },
   {
    "duration": 26,
    "start_time": "2022-06-01T23:25:03.328Z"
   },
   {
    "duration": 13,
    "start_time": "2022-06-01T23:25:03.361Z"
   },
   {
    "duration": 4,
    "start_time": "2022-06-01T23:25:03.375Z"
   },
   {
    "duration": 8,
    "start_time": "2022-06-01T23:25:03.381Z"
   },
   {
    "duration": 3,
    "start_time": "2022-06-01T23:25:03.392Z"
   },
   {
    "duration": 5,
    "start_time": "2022-06-01T23:25:03.396Z"
   },
   {
    "duration": 7,
    "start_time": "2022-06-01T23:25:03.402Z"
   },
   {
    "duration": 65,
    "start_time": "2022-06-01T23:25:03.410Z"
   },
   {
    "duration": 3,
    "start_time": "2022-06-01T23:25:03.477Z"
   },
   {
    "duration": 6,
    "start_time": "2022-06-01T23:25:03.481Z"
   },
   {
    "duration": 145,
    "start_time": "2022-06-01T23:25:03.488Z"
   },
   {
    "duration": 0,
    "start_time": "2022-06-01T23:25:03.635Z"
   },
   {
    "duration": 0,
    "start_time": "2022-06-01T23:25:03.636Z"
   },
   {
    "duration": 0,
    "start_time": "2022-06-01T23:25:03.637Z"
   },
   {
    "duration": 0,
    "start_time": "2022-06-01T23:25:03.638Z"
   },
   {
    "duration": 0,
    "start_time": "2022-06-01T23:25:03.639Z"
   },
   {
    "duration": 3,
    "start_time": "2022-06-01T23:25:51.152Z"
   },
   {
    "duration": 22,
    "start_time": "2022-06-01T23:25:52.303Z"
   },
   {
    "duration": 19,
    "start_time": "2022-06-01T23:26:02.950Z"
   },
   {
    "duration": 13,
    "start_time": "2022-06-01T23:26:14.135Z"
   },
   {
    "duration": 22,
    "start_time": "2022-06-01T23:27:08.544Z"
   },
   {
    "duration": 1114,
    "start_time": "2022-06-01T23:27:49.320Z"
   },
   {
    "duration": 145,
    "start_time": "2022-06-01T23:27:50.436Z"
   },
   {
    "duration": 37,
    "start_time": "2022-06-01T23:27:50.583Z"
   },
   {
    "duration": 10,
    "start_time": "2022-06-01T23:27:50.622Z"
   },
   {
    "duration": 26,
    "start_time": "2022-06-01T23:27:50.633Z"
   },
   {
    "duration": 23,
    "start_time": "2022-06-01T23:27:50.660Z"
   },
   {
    "duration": 4,
    "start_time": "2022-06-01T23:27:50.685Z"
   },
   {
    "duration": 9,
    "start_time": "2022-06-01T23:27:50.691Z"
   },
   {
    "duration": 4,
    "start_time": "2022-06-01T23:27:50.701Z"
   },
   {
    "duration": 11,
    "start_time": "2022-06-01T23:27:50.707Z"
   },
   {
    "duration": 15,
    "start_time": "2022-06-01T23:27:50.719Z"
   },
   {
    "duration": 42,
    "start_time": "2022-06-01T23:27:50.735Z"
   },
   {
    "duration": 11,
    "start_time": "2022-06-01T23:27:50.778Z"
   },
   {
    "duration": 4,
    "start_time": "2022-06-01T23:27:50.790Z"
   },
   {
    "duration": 5,
    "start_time": "2022-06-01T23:27:50.796Z"
   },
   {
    "duration": 63,
    "start_time": "2022-06-01T23:27:50.802Z"
   },
   {
    "duration": 13,
    "start_time": "2022-06-01T23:27:50.870Z"
   },
   {
    "duration": 127,
    "start_time": "2022-06-01T23:27:50.884Z"
   },
   {
    "duration": 0,
    "start_time": "2022-06-01T23:27:51.013Z"
   },
   {
    "duration": 0,
    "start_time": "2022-06-01T23:27:51.014Z"
   },
   {
    "duration": 0,
    "start_time": "2022-06-01T23:27:51.015Z"
   },
   {
    "duration": 0,
    "start_time": "2022-06-01T23:27:51.016Z"
   },
   {
    "duration": 16,
    "start_time": "2022-06-01T23:28:15.730Z"
   },
   {
    "duration": 13,
    "start_time": "2022-06-01T23:28:17.572Z"
   },
   {
    "duration": 23,
    "start_time": "2022-06-01T23:29:16.611Z"
   },
   {
    "duration": 36,
    "start_time": "2022-06-01T23:29:46.590Z"
   },
   {
    "duration": 1202,
    "start_time": "2022-06-01T23:30:09.490Z"
   },
   {
    "duration": 140,
    "start_time": "2022-06-01T23:30:10.694Z"
   },
   {
    "duration": 53,
    "start_time": "2022-06-01T23:30:10.835Z"
   },
   {
    "duration": 12,
    "start_time": "2022-06-01T23:30:10.890Z"
   },
   {
    "duration": 8,
    "start_time": "2022-06-01T23:30:10.903Z"
   },
   {
    "duration": 46,
    "start_time": "2022-06-01T23:30:10.913Z"
   },
   {
    "duration": 6,
    "start_time": "2022-06-01T23:30:10.964Z"
   },
   {
    "duration": 12,
    "start_time": "2022-06-01T23:30:10.972Z"
   },
   {
    "duration": 5,
    "start_time": "2022-06-01T23:30:10.986Z"
   },
   {
    "duration": 10,
    "start_time": "2022-06-01T23:30:10.994Z"
   },
   {
    "duration": 6,
    "start_time": "2022-06-01T23:30:11.006Z"
   },
   {
    "duration": 60,
    "start_time": "2022-06-01T23:30:11.014Z"
   },
   {
    "duration": 12,
    "start_time": "2022-06-01T23:30:11.076Z"
   },
   {
    "duration": 7,
    "start_time": "2022-06-01T23:30:11.089Z"
   },
   {
    "duration": 4,
    "start_time": "2022-06-01T23:30:11.098Z"
   },
   {
    "duration": 285,
    "start_time": "2022-06-01T23:30:11.104Z"
   },
   {
    "duration": 0,
    "start_time": "2022-06-01T23:30:11.391Z"
   },
   {
    "duration": 0,
    "start_time": "2022-06-01T23:30:11.394Z"
   },
   {
    "duration": 0,
    "start_time": "2022-06-01T23:30:11.396Z"
   },
   {
    "duration": 0,
    "start_time": "2022-06-01T23:30:11.397Z"
   },
   {
    "duration": 0,
    "start_time": "2022-06-01T23:30:11.399Z"
   },
   {
    "duration": 0,
    "start_time": "2022-06-01T23:30:11.400Z"
   },
   {
    "duration": 0,
    "start_time": "2022-06-01T23:37:51.964Z"
   },
   {
    "duration": 1114,
    "start_time": "2022-06-01T23:37:58.990Z"
   },
   {
    "duration": 137,
    "start_time": "2022-06-01T23:38:00.106Z"
   },
   {
    "duration": 45,
    "start_time": "2022-06-01T23:38:00.244Z"
   },
   {
    "duration": 11,
    "start_time": "2022-06-01T23:38:00.291Z"
   },
   {
    "duration": 8,
    "start_time": "2022-06-01T23:38:00.303Z"
   },
   {
    "duration": 11,
    "start_time": "2022-06-01T23:38:00.312Z"
   },
   {
    "duration": 67,
    "start_time": "2022-06-01T23:38:00.325Z"
   },
   {
    "duration": 4,
    "start_time": "2022-06-01T23:38:00.394Z"
   },
   {
    "duration": 30,
    "start_time": "2022-06-01T23:38:00.399Z"
   },
   {
    "duration": 10,
    "start_time": "2022-06-01T23:38:00.431Z"
   },
   {
    "duration": 19,
    "start_time": "2022-06-01T23:38:00.442Z"
   },
   {
    "duration": 7,
    "start_time": "2022-06-01T23:38:00.466Z"
   },
   {
    "duration": 8,
    "start_time": "2022-06-01T23:38:00.474Z"
   },
   {
    "duration": 8,
    "start_time": "2022-06-01T23:38:00.484Z"
   },
   {
    "duration": 13,
    "start_time": "2022-06-01T23:38:00.494Z"
   },
   {
    "duration": 11,
    "start_time": "2022-06-01T23:38:00.508Z"
   },
   {
    "duration": 50,
    "start_time": "2022-06-01T23:38:00.520Z"
   },
   {
    "duration": 15,
    "start_time": "2022-06-01T23:38:00.574Z"
   },
   {
    "duration": 279,
    "start_time": "2022-06-01T23:38:00.590Z"
   },
   {
    "duration": 21,
    "start_time": "2022-06-01T23:38:00.873Z"
   },
   {
    "duration": 52081,
    "start_time": "2022-06-01T23:38:00.896Z"
   },
   {
    "duration": 2,
    "start_time": "2022-06-01T23:38:52.979Z"
   },
   {
    "duration": 72,
    "start_time": "2022-06-01T23:38:52.982Z"
   },
   {
    "duration": 140,
    "start_time": "2022-06-01T23:39:53.032Z"
   },
   {
    "duration": 1200,
    "start_time": "2022-06-01T23:40:04.942Z"
   },
   {
    "duration": 132,
    "start_time": "2022-06-01T23:40:06.144Z"
   },
   {
    "duration": 36,
    "start_time": "2022-06-01T23:40:06.278Z"
   },
   {
    "duration": 11,
    "start_time": "2022-06-01T23:40:06.316Z"
   },
   {
    "duration": 49,
    "start_time": "2022-06-01T23:40:06.328Z"
   },
   {
    "duration": 13,
    "start_time": "2022-06-01T23:40:06.379Z"
   },
   {
    "duration": 8,
    "start_time": "2022-06-01T23:40:06.393Z"
   },
   {
    "duration": 115,
    "start_time": "2022-06-01T23:40:06.402Z"
   },
   {
    "duration": 0,
    "start_time": "2022-06-01T23:40:06.519Z"
   },
   {
    "duration": 0,
    "start_time": "2022-06-01T23:40:06.519Z"
   },
   {
    "duration": 0,
    "start_time": "2022-06-01T23:40:06.520Z"
   },
   {
    "duration": 0,
    "start_time": "2022-06-01T23:40:06.521Z"
   },
   {
    "duration": 0,
    "start_time": "2022-06-01T23:40:06.523Z"
   },
   {
    "duration": 0,
    "start_time": "2022-06-01T23:40:06.524Z"
   },
   {
    "duration": 0,
    "start_time": "2022-06-01T23:40:06.525Z"
   },
   {
    "duration": 0,
    "start_time": "2022-06-01T23:40:06.526Z"
   },
   {
    "duration": 0,
    "start_time": "2022-06-01T23:40:06.527Z"
   },
   {
    "duration": 0,
    "start_time": "2022-06-01T23:40:06.528Z"
   },
   {
    "duration": 0,
    "start_time": "2022-06-01T23:40:06.528Z"
   },
   {
    "duration": 0,
    "start_time": "2022-06-01T23:40:06.529Z"
   },
   {
    "duration": 0,
    "start_time": "2022-06-01T23:40:06.530Z"
   },
   {
    "duration": 0,
    "start_time": "2022-06-01T23:40:06.531Z"
   },
   {
    "duration": 0,
    "start_time": "2022-06-01T23:40:06.554Z"
   },
   {
    "duration": 13,
    "start_time": "2022-06-01T23:40:41.570Z"
   },
   {
    "duration": 1138,
    "start_time": "2022-06-01T23:41:04.530Z"
   },
   {
    "duration": 129,
    "start_time": "2022-06-01T23:41:05.671Z"
   },
   {
    "duration": 37,
    "start_time": "2022-06-01T23:41:05.801Z"
   },
   {
    "duration": 29,
    "start_time": "2022-06-01T23:41:05.840Z"
   },
   {
    "duration": 9,
    "start_time": "2022-06-01T23:41:05.871Z"
   },
   {
    "duration": 15,
    "start_time": "2022-06-01T23:41:05.881Z"
   },
   {
    "duration": 22,
    "start_time": "2022-06-01T23:41:05.897Z"
   },
   {
    "duration": 4,
    "start_time": "2022-06-01T23:41:05.921Z"
   },
   {
    "duration": 44,
    "start_time": "2022-06-01T23:41:05.926Z"
   },
   {
    "duration": 5,
    "start_time": "2022-06-01T23:41:05.973Z"
   },
   {
    "duration": 8,
    "start_time": "2022-06-01T23:41:05.980Z"
   },
   {
    "duration": 6,
    "start_time": "2022-06-01T23:41:05.990Z"
   },
   {
    "duration": 8,
    "start_time": "2022-06-01T23:41:05.998Z"
   },
   {
    "duration": 7,
    "start_time": "2022-06-01T23:41:06.007Z"
   },
   {
    "duration": 15,
    "start_time": "2022-06-01T23:41:06.015Z"
   },
   {
    "duration": 4,
    "start_time": "2022-06-01T23:41:06.032Z"
   },
   {
    "duration": 131,
    "start_time": "2022-06-01T23:41:06.054Z"
   },
   {
    "duration": 0,
    "start_time": "2022-06-01T23:41:06.187Z"
   },
   {
    "duration": 0,
    "start_time": "2022-06-01T23:41:06.188Z"
   },
   {
    "duration": 0,
    "start_time": "2022-06-01T23:41:06.190Z"
   },
   {
    "duration": 0,
    "start_time": "2022-06-01T23:41:06.191Z"
   },
   {
    "duration": 0,
    "start_time": "2022-06-01T23:41:06.192Z"
   },
   {
    "duration": 0,
    "start_time": "2022-06-01T23:41:06.194Z"
   },
   {
    "duration": 10,
    "start_time": "2022-06-01T23:43:40.558Z"
   },
   {
    "duration": 33,
    "start_time": "2022-06-01T23:43:41.633Z"
   },
   {
    "duration": 13,
    "start_time": "2022-06-01T23:43:46.926Z"
   },
   {
    "duration": 16,
    "start_time": "2022-06-01T23:43:48.878Z"
   },
   {
    "duration": 378,
    "start_time": "2022-06-01T23:44:16.973Z"
   },
   {
    "duration": 16,
    "start_time": "2022-06-01T23:44:32.385Z"
   },
   {
    "duration": 1172,
    "start_time": "2022-06-02T14:47:12.230Z"
   },
   {
    "duration": 162,
    "start_time": "2022-06-02T14:47:13.404Z"
   },
   {
    "duration": 37,
    "start_time": "2022-06-02T14:47:13.567Z"
   },
   {
    "duration": 10,
    "start_time": "2022-06-02T14:47:13.606Z"
   },
   {
    "duration": 6,
    "start_time": "2022-06-02T14:47:13.618Z"
   },
   {
    "duration": 12,
    "start_time": "2022-06-02T14:47:13.625Z"
   },
   {
    "duration": 22,
    "start_time": "2022-06-02T14:47:13.638Z"
   },
   {
    "duration": 4,
    "start_time": "2022-06-02T14:47:13.661Z"
   },
   {
    "duration": 34,
    "start_time": "2022-06-02T14:47:13.667Z"
   },
   {
    "duration": 3,
    "start_time": "2022-06-02T14:47:13.703Z"
   },
   {
    "duration": 8,
    "start_time": "2022-06-02T14:47:13.708Z"
   },
   {
    "duration": 3,
    "start_time": "2022-06-02T14:47:13.717Z"
   },
   {
    "duration": 5,
    "start_time": "2022-06-02T14:47:13.721Z"
   },
   {
    "duration": 7,
    "start_time": "2022-06-02T14:47:13.727Z"
   },
   {
    "duration": 11,
    "start_time": "2022-06-02T14:47:13.735Z"
   },
   {
    "duration": 4,
    "start_time": "2022-06-02T14:47:13.748Z"
   },
   {
    "duration": 56,
    "start_time": "2022-06-02T14:47:13.753Z"
   },
   {
    "duration": 14,
    "start_time": "2022-06-02T14:47:13.810Z"
   },
   {
    "duration": 258,
    "start_time": "2022-06-02T14:47:13.826Z"
   },
   {
    "duration": 17,
    "start_time": "2022-06-02T14:47:14.086Z"
   },
   {
    "duration": 53928,
    "start_time": "2022-06-02T14:47:14.105Z"
   },
   {
    "duration": 13,
    "start_time": "2022-06-02T14:48:08.035Z"
   },
   {
    "duration": 2,
    "start_time": "2022-06-02T14:48:08.050Z"
   },
   {
    "duration": 17,
    "start_time": "2022-06-02T14:48:08.053Z"
   },
   {
    "duration": 37,
    "start_time": "2022-06-02T14:48:08.071Z"
   },
   {
    "duration": 183,
    "start_time": "2022-06-02T14:48:08.110Z"
   },
   {
    "duration": 12,
    "start_time": "2022-06-02T14:48:08.295Z"
   },
   {
    "duration": 1045,
    "start_time": "2022-06-02T17:23:36.819Z"
   },
   {
    "duration": 133,
    "start_time": "2022-06-02T17:23:37.866Z"
   },
   {
    "duration": 39,
    "start_time": "2022-06-02T17:23:38.000Z"
   },
   {
    "duration": 10,
    "start_time": "2022-06-02T17:23:38.041Z"
   },
   {
    "duration": 7,
    "start_time": "2022-06-02T17:23:38.053Z"
   },
   {
    "duration": 37,
    "start_time": "2022-06-02T17:23:38.061Z"
   },
   {
    "duration": 22,
    "start_time": "2022-06-02T17:23:38.099Z"
   },
   {
    "duration": 4,
    "start_time": "2022-06-02T17:23:38.122Z"
   },
   {
    "duration": 15,
    "start_time": "2022-06-02T17:23:38.128Z"
   },
   {
    "duration": 4,
    "start_time": "2022-06-02T17:23:38.145Z"
   },
   {
    "duration": 42,
    "start_time": "2022-06-02T17:23:38.150Z"
   },
   {
    "duration": 4,
    "start_time": "2022-06-02T17:23:38.193Z"
   },
   {
    "duration": 5,
    "start_time": "2022-06-02T17:23:38.198Z"
   },
   {
    "duration": 4,
    "start_time": "2022-06-02T17:23:38.204Z"
   },
   {
    "duration": 26,
    "start_time": "2022-06-02T17:23:38.210Z"
   },
   {
    "duration": 14,
    "start_time": "2022-06-02T17:23:38.238Z"
   },
   {
    "duration": 294,
    "start_time": "2022-06-02T17:23:38.253Z"
   },
   {
    "duration": 16,
    "start_time": "2022-06-02T17:23:38.548Z"
   },
   {
    "duration": 54793,
    "start_time": "2022-06-02T17:23:38.566Z"
   },
   {
    "duration": 15,
    "start_time": "2022-06-02T17:24:33.361Z"
   },
   {
    "duration": 14,
    "start_time": "2022-06-02T17:24:33.378Z"
   },
   {
    "duration": 16,
    "start_time": "2022-06-02T17:24:33.393Z"
   },
   {
    "duration": 23,
    "start_time": "2022-06-02T17:24:33.410Z"
   },
   {
    "duration": 106,
    "start_time": "2022-06-02T17:24:33.497Z"
   },
   {
    "duration": 170,
    "start_time": "2022-06-02T17:29:29.122Z"
   },
   {
    "duration": 293,
    "start_time": "2022-06-02T17:39:12.699Z"
   },
   {
    "duration": 301,
    "start_time": "2022-06-02T17:40:09.043Z"
   },
   {
    "duration": 306,
    "start_time": "2022-06-02T17:41:00.919Z"
   },
   {
    "duration": 102,
    "start_time": "2022-06-02T17:44:01.390Z"
   },
   {
    "duration": 54410,
    "start_time": "2022-06-02T17:47:38.124Z"
   },
   {
    "duration": 53111,
    "start_time": "2022-06-02T17:49:40.445Z"
   },
   {
    "duration": 217,
    "start_time": "2022-06-02T17:52:01.885Z"
   },
   {
    "duration": 19,
    "start_time": "2022-06-02T17:52:25.563Z"
   },
   {
    "duration": 18,
    "start_time": "2022-06-02T17:52:44.981Z"
   },
   {
    "duration": 53252,
    "start_time": "2022-06-02T17:53:13.488Z"
   },
   {
    "duration": 104834,
    "start_time": "2022-06-02T17:54:50.427Z"
   },
   {
    "duration": 17,
    "start_time": "2022-06-02T17:56:58.006Z"
   },
   {
    "duration": 103546,
    "start_time": "2022-06-02T17:57:47.823Z"
   },
   {
    "duration": 338,
    "start_time": "2022-06-02T18:00:22.715Z"
   },
   {
    "duration": 110,
    "start_time": "2022-06-02T18:01:15.382Z"
   },
   {
    "duration": 60,
    "start_time": "2022-06-02T18:01:24.932Z"
   },
   {
    "duration": 72,
    "start_time": "2022-06-02T18:01:34.221Z"
   },
   {
    "duration": 92,
    "start_time": "2022-06-02T18:01:38.002Z"
   },
   {
    "duration": 96,
    "start_time": "2022-06-02T18:02:11.800Z"
   },
   {
    "duration": 73,
    "start_time": "2022-06-02T18:02:33.420Z"
   },
   {
    "duration": 46,
    "start_time": "2022-06-02T18:03:39.456Z"
   },
   {
    "duration": 106,
    "start_time": "2022-06-02T18:03:48.858Z"
   },
   {
    "duration": 104,
    "start_time": "2022-06-02T18:04:00.690Z"
   },
   {
    "duration": 626,
    "start_time": "2022-06-02T18:04:30.840Z"
   },
   {
    "duration": 97544,
    "start_time": "2022-06-02T18:07:20.251Z"
   },
   {
    "duration": 348,
    "start_time": "2022-06-02T18:10:27.653Z"
   },
   {
    "duration": 187,
    "start_time": "2022-06-02T18:11:35.848Z"
   },
   {
    "duration": 27,
    "start_time": "2022-06-02T18:14:41.794Z"
   },
   {
    "duration": 25,
    "start_time": "2022-06-02T18:15:32.380Z"
   },
   {
    "duration": 43,
    "start_time": "2022-06-02T18:18:22.424Z"
   },
   {
    "duration": 4,
    "start_time": "2022-06-02T18:18:40.859Z"
   },
   {
    "duration": 10,
    "start_time": "2022-06-02T18:21:42.928Z"
   },
   {
    "duration": 4,
    "start_time": "2022-06-02T18:21:53.039Z"
   },
   {
    "duration": 10,
    "start_time": "2022-06-02T18:21:54.028Z"
   },
   {
    "duration": 11,
    "start_time": "2022-06-02T18:22:20.167Z"
   },
   {
    "duration": 3,
    "start_time": "2022-06-02T18:22:42.483Z"
   },
   {
    "duration": 4,
    "start_time": "2022-06-02T18:24:03.764Z"
   },
   {
    "duration": 11,
    "start_time": "2022-06-02T18:24:06.723Z"
   },
   {
    "duration": 8,
    "start_time": "2022-06-02T18:25:46.759Z"
   },
   {
    "duration": 3,
    "start_time": "2022-06-02T18:26:25.288Z"
   },
   {
    "duration": 4,
    "start_time": "2022-06-02T18:26:37.195Z"
   },
   {
    "duration": 10,
    "start_time": "2022-06-02T18:26:43.777Z"
   },
   {
    "duration": 9,
    "start_time": "2022-06-02T18:27:37.758Z"
   },
   {
    "duration": 42,
    "start_time": "2022-06-02T18:28:12.186Z"
   },
   {
    "duration": 3,
    "start_time": "2022-06-02T18:28:36.167Z"
   },
   {
    "duration": 85,
    "start_time": "2022-06-02T18:28:42.513Z"
   },
   {
    "duration": 11,
    "start_time": "2022-06-02T18:29:22.394Z"
   },
   {
    "duration": 36,
    "start_time": "2022-06-02T18:29:23.858Z"
   },
   {
    "duration": 27,
    "start_time": "2022-06-02T18:29:38.113Z"
   },
   {
    "duration": 1029,
    "start_time": "2022-06-02T18:31:03.049Z"
   },
   {
    "duration": 95881,
    "start_time": "2022-06-02T18:34:59.038Z"
   },
   {
    "duration": 10,
    "start_time": "2022-06-02T18:36:53.163Z"
   },
   {
    "duration": 741,
    "start_time": "2022-06-02T18:36:54.499Z"
   },
   {
    "duration": 95803,
    "start_time": "2022-06-02T18:37:01.308Z"
   },
   {
    "duration": 22,
    "start_time": "2022-06-02T18:38:37.113Z"
   },
   {
    "duration": 10,
    "start_time": "2022-06-02T18:41:01.764Z"
   },
   {
    "duration": 805,
    "start_time": "2022-06-02T18:41:05.195Z"
   },
   {
    "duration": 96319,
    "start_time": "2022-06-02T18:41:15.503Z"
   },
   {
    "duration": 11,
    "start_time": "2022-06-02T18:43:17.281Z"
   },
   {
    "duration": 730,
    "start_time": "2022-06-02T18:43:18.668Z"
   },
   {
    "duration": 96052,
    "start_time": "2022-06-02T18:43:23.560Z"
   },
   {
    "duration": 20,
    "start_time": "2022-06-02T18:44:59.614Z"
   },
   {
    "duration": 12,
    "start_time": "2022-06-02T18:46:05.250Z"
   },
   {
    "duration": 9,
    "start_time": "2022-06-02T18:47:25.354Z"
   },
   {
    "duration": 9,
    "start_time": "2022-06-02T18:48:09.355Z"
   },
   {
    "duration": 86,
    "start_time": "2022-06-02T18:49:02.607Z"
   },
   {
    "duration": 26,
    "start_time": "2022-06-02T18:57:09.347Z"
   },
   {
    "duration": 32,
    "start_time": "2022-06-02T18:57:22.691Z"
   },
   {
    "duration": 29,
    "start_time": "2022-06-02T18:57:30.546Z"
   },
   {
    "duration": 25,
    "start_time": "2022-06-02T18:57:43.056Z"
   },
   {
    "duration": 23,
    "start_time": "2022-06-02T18:57:50.810Z"
   },
   {
    "duration": 629,
    "start_time": "2022-06-02T18:58:34.208Z"
   },
   {
    "duration": 115,
    "start_time": "2022-06-02T18:59:48.142Z"
   },
   {
    "duration": 98045,
    "start_time": "2022-06-02T19:00:36.201Z"
   },
   {
    "duration": 74,
    "start_time": "2022-06-02T19:02:44.559Z"
   },
   {
    "duration": 12,
    "start_time": "2022-06-02T19:03:36.122Z"
   },
   {
    "duration": 753,
    "start_time": "2022-06-02T19:03:43.376Z"
   },
   {
    "duration": 727,
    "start_time": "2022-06-02T19:03:58.622Z"
   },
   {
    "duration": 98085,
    "start_time": "2022-06-02T19:04:32.834Z"
   },
   {
    "duration": 26,
    "start_time": "2022-06-02T19:08:03.250Z"
   },
   {
    "duration": 11,
    "start_time": "2022-06-02T19:08:08.343Z"
   },
   {
    "duration": 64101,
    "start_time": "2022-06-02T20:16:00.785Z"
   },
   {
    "duration": 108,
    "start_time": "2022-06-02T20:23:36.987Z"
   },
   {
    "duration": 94,
    "start_time": "2022-06-02T20:23:50.198Z"
   },
   {
    "duration": 224,
    "start_time": "2022-06-02T20:23:58.876Z"
   },
   {
    "duration": 106,
    "start_time": "2022-06-02T20:24:09.091Z"
   },
   {
    "duration": 291,
    "start_time": "2022-06-02T20:29:47.320Z"
   },
   {
    "duration": 30,
    "start_time": "2022-06-02T20:30:43.215Z"
   },
   {
    "duration": 297,
    "start_time": "2022-06-02T20:30:46.336Z"
   },
   {
    "duration": 24,
    "start_time": "2022-06-02T20:31:42.518Z"
   },
   {
    "duration": 63007,
    "start_time": "2022-06-02T20:32:17.099Z"
   },
   {
    "duration": 4069,
    "start_time": "2022-06-02T20:33:41.702Z"
   },
   {
    "duration": 26,
    "start_time": "2022-06-02T20:34:01.260Z"
   },
   {
    "duration": 95923,
    "start_time": "2022-06-02T20:34:16.435Z"
   },
   {
    "duration": 166,
    "start_time": "2022-06-02T20:36:52.442Z"
   },
   {
    "duration": 165,
    "start_time": "2022-06-02T20:37:19.048Z"
   },
   {
    "duration": 98,
    "start_time": "2022-06-02T20:37:49.896Z"
   },
   {
    "duration": 621,
    "start_time": "2022-06-02T20:38:31.022Z"
   },
   {
    "duration": 590,
    "start_time": "2022-06-02T20:38:42.438Z"
   },
   {
    "duration": 586,
    "start_time": "2022-06-02T20:39:56.779Z"
   },
   {
    "duration": 594,
    "start_time": "2022-06-02T20:43:27.456Z"
   },
   {
    "duration": 591,
    "start_time": "2022-06-02T20:46:39.520Z"
   },
   {
    "duration": 588,
    "start_time": "2022-06-02T20:46:49.134Z"
   },
   {
    "duration": 26,
    "start_time": "2022-06-02T20:47:04.331Z"
   },
   {
    "duration": 97375,
    "start_time": "2022-06-02T20:47:27.255Z"
   },
   {
    "duration": 41,
    "start_time": "2022-06-02T20:53:08.846Z"
   },
   {
    "duration": 12,
    "start_time": "2022-06-02T20:55:53.096Z"
   },
   {
    "duration": 749,
    "start_time": "2022-06-02T20:56:42.012Z"
   },
   {
    "duration": 749,
    "start_time": "2022-06-02T20:58:11.882Z"
   },
   {
    "duration": 59,
    "start_time": "2022-06-02T20:58:40.973Z"
   },
   {
    "duration": 28,
    "start_time": "2022-06-02T20:59:01.386Z"
   },
   {
    "duration": 134538,
    "start_time": "2022-06-02T20:59:17.755Z"
   },
   {
    "duration": 67,
    "start_time": "2022-06-02T21:02:22.633Z"
   },
   {
    "duration": 363,
    "start_time": "2022-06-02T21:03:12.692Z"
   },
   {
    "duration": 368,
    "start_time": "2022-06-02T21:03:43.218Z"
   },
   {
    "duration": 78598,
    "start_time": "2022-06-02T21:06:45.278Z"
   },
   {
    "duration": 81085,
    "start_time": "2022-06-02T21:08:27.167Z"
   },
   {
    "duration": 14,
    "start_time": "2022-06-02T21:10:14.935Z"
   },
   {
    "duration": 83408,
    "start_time": "2022-06-02T21:10:36.544Z"
   },
   {
    "duration": 82481,
    "start_time": "2022-06-02T21:13:00.150Z"
   },
   {
    "duration": 973,
    "start_time": "2022-06-02T21:14:58.300Z"
   },
   {
    "duration": 134779,
    "start_time": "2022-06-02T21:15:20.742Z"
   },
   {
    "duration": 627,
    "start_time": "2022-06-02T21:18:02.376Z"
   },
   {
    "duration": 117963,
    "start_time": "2022-06-02T21:18:21.518Z"
   },
   {
    "duration": 432,
    "start_time": "2022-06-02T21:20:50.241Z"
   },
   {
    "duration": 124557,
    "start_time": "2022-06-02T21:21:28.159Z"
   },
   {
    "duration": 486,
    "start_time": "2022-06-02T21:23:54.565Z"
   },
   {
    "duration": 56364,
    "start_time": "2022-06-02T21:24:13.966Z"
   },
   {
    "duration": 394,
    "start_time": "2022-06-02T21:25:44.054Z"
   },
   {
    "duration": 38228,
    "start_time": "2022-06-02T21:26:01.664Z"
   },
   {
    "duration": 204,
    "start_time": "2022-06-02T21:27:41.701Z"
   },
   {
    "duration": 13,
    "start_time": "2022-06-02T21:28:07.641Z"
   },
   {
    "duration": 15,
    "start_time": "2022-06-02T21:28:13.922Z"
   },
   {
    "duration": 13,
    "start_time": "2022-06-02T21:28:20.898Z"
   },
   {
    "duration": 135,
    "start_time": "2022-06-02T21:28:59.458Z"
   },
   {
    "duration": 106,
    "start_time": "2022-06-02T21:29:13.591Z"
   },
   {
    "duration": 107,
    "start_time": "2022-06-02T21:29:52.093Z"
   },
   {
    "duration": 1116,
    "start_time": "2022-06-02T21:31:42.181Z"
   },
   {
    "duration": 125,
    "start_time": "2022-06-02T21:31:43.298Z"
   },
   {
    "duration": 39,
    "start_time": "2022-06-02T21:31:43.425Z"
   },
   {
    "duration": 31,
    "start_time": "2022-06-02T21:31:43.466Z"
   },
   {
    "duration": 9,
    "start_time": "2022-06-02T21:31:43.498Z"
   },
   {
    "duration": 10,
    "start_time": "2022-06-02T21:31:43.509Z"
   },
   {
    "duration": 21,
    "start_time": "2022-06-02T21:31:43.521Z"
   },
   {
    "duration": 4,
    "start_time": "2022-06-02T21:31:43.544Z"
   },
   {
    "duration": 49,
    "start_time": "2022-06-02T21:31:43.549Z"
   },
   {
    "duration": 4,
    "start_time": "2022-06-02T21:31:43.601Z"
   },
   {
    "duration": 11,
    "start_time": "2022-06-02T21:31:43.606Z"
   },
   {
    "duration": 3,
    "start_time": "2022-06-02T21:31:43.619Z"
   },
   {
    "duration": 7,
    "start_time": "2022-06-02T21:31:43.623Z"
   },
   {
    "duration": 6,
    "start_time": "2022-06-02T21:31:43.631Z"
   },
   {
    "duration": 72,
    "start_time": "2022-06-02T21:31:43.638Z"
   },
   {
    "duration": 15,
    "start_time": "2022-06-02T21:31:43.712Z"
   },
   {
    "duration": 218,
    "start_time": "2022-06-02T21:31:43.728Z"
   },
   {
    "duration": 306,
    "start_time": "2022-06-02T21:31:43.948Z"
   },
   {
    "duration": 41,
    "start_time": "2022-06-02T21:31:44.255Z"
   },
   {
    "duration": 4339,
    "start_time": "2022-06-02T21:31:44.297Z"
   },
   {
    "duration": 98568,
    "start_time": "2022-06-02T21:31:48.638Z"
   },
   {
    "duration": 100,
    "start_time": "2022-06-02T21:33:27.208Z"
   },
   {
    "duration": 85,
    "start_time": "2022-06-02T21:33:27.310Z"
   },
   {
    "duration": 695,
    "start_time": "2022-06-02T21:33:27.397Z"
   },
   {
    "duration": 98712,
    "start_time": "2022-06-02T21:33:28.094Z"
   },
   {
    "duration": 168,
    "start_time": "2022-06-02T21:35:06.808Z"
   },
   {
    "duration": 0,
    "start_time": "2022-06-02T21:35:06.978Z"
   },
   {
    "duration": 0,
    "start_time": "2022-06-02T21:35:06.979Z"
   },
   {
    "duration": 0,
    "start_time": "2022-06-02T21:35:06.991Z"
   },
   {
    "duration": 0,
    "start_time": "2022-06-02T21:35:06.992Z"
   },
   {
    "duration": 0,
    "start_time": "2022-06-02T21:35:06.993Z"
   },
   {
    "duration": 0,
    "start_time": "2022-06-02T21:35:06.994Z"
   },
   {
    "duration": 0,
    "start_time": "2022-06-02T21:35:06.995Z"
   },
   {
    "duration": 0,
    "start_time": "2022-06-02T21:35:06.996Z"
   },
   {
    "duration": 0,
    "start_time": "2022-06-02T21:35:06.997Z"
   },
   {
    "duration": 166,
    "start_time": "2022-06-02T21:35:52.304Z"
   },
   {
    "duration": 16,
    "start_time": "2022-06-02T21:42:23.278Z"
   },
   {
    "duration": 1052,
    "start_time": "2022-06-02T21:52:47.140Z"
   },
   {
    "duration": 126,
    "start_time": "2022-06-02T21:52:48.194Z"
   },
   {
    "duration": 38,
    "start_time": "2022-06-02T21:52:48.321Z"
   },
   {
    "duration": 12,
    "start_time": "2022-06-02T21:52:48.362Z"
   },
   {
    "duration": 7,
    "start_time": "2022-06-02T21:52:48.392Z"
   },
   {
    "duration": 10,
    "start_time": "2022-06-02T21:52:48.401Z"
   },
   {
    "duration": 22,
    "start_time": "2022-06-02T21:52:48.412Z"
   },
   {
    "duration": 4,
    "start_time": "2022-06-02T21:52:48.436Z"
   },
   {
    "duration": 51,
    "start_time": "2022-06-02T21:52:48.441Z"
   },
   {
    "duration": 3,
    "start_time": "2022-06-02T21:52:48.495Z"
   },
   {
    "duration": 9,
    "start_time": "2022-06-02T21:52:48.500Z"
   },
   {
    "duration": 3,
    "start_time": "2022-06-02T21:52:48.511Z"
   },
   {
    "duration": 8,
    "start_time": "2022-06-02T21:52:48.516Z"
   },
   {
    "duration": 7,
    "start_time": "2022-06-02T21:52:48.525Z"
   },
   {
    "duration": 27,
    "start_time": "2022-06-02T21:52:48.534Z"
   },
   {
    "duration": 42,
    "start_time": "2022-06-02T21:52:48.562Z"
   },
   {
    "duration": 209,
    "start_time": "2022-06-02T21:52:48.606Z"
   },
   {
    "duration": 303,
    "start_time": "2022-06-02T21:52:48.817Z"
   },
   {
    "duration": 29,
    "start_time": "2022-06-02T21:52:49.122Z"
   },
   {
    "duration": 4072,
    "start_time": "2022-06-02T21:52:49.152Z"
   },
   {
    "duration": 96202,
    "start_time": "2022-06-02T21:52:53.225Z"
   },
   {
    "duration": 168,
    "start_time": "2022-06-02T21:54:29.429Z"
   },
   {
    "duration": 24,
    "start_time": "2022-06-02T21:54:29.599Z"
   },
   {
    "duration": 683,
    "start_time": "2022-06-02T21:54:29.693Z"
   },
   {
    "duration": 98292,
    "start_time": "2022-06-02T21:54:30.377Z"
   },
   {
    "duration": 179,
    "start_time": "2022-06-02T21:56:08.671Z"
   },
   {
    "duration": 0,
    "start_time": "2022-06-02T21:56:08.851Z"
   },
   {
    "duration": 0,
    "start_time": "2022-06-02T21:56:08.853Z"
   },
   {
    "duration": 0,
    "start_time": "2022-06-02T21:56:08.854Z"
   },
   {
    "duration": 0,
    "start_time": "2022-06-02T21:56:08.855Z"
   },
   {
    "duration": 0,
    "start_time": "2022-06-02T21:56:08.856Z"
   },
   {
    "duration": 0,
    "start_time": "2022-06-02T21:56:08.857Z"
   },
   {
    "duration": 0,
    "start_time": "2022-06-02T21:56:08.858Z"
   },
   {
    "duration": 0,
    "start_time": "2022-06-02T21:56:08.860Z"
   },
   {
    "duration": 0,
    "start_time": "2022-06-02T21:56:08.861Z"
   },
   {
    "duration": 0,
    "start_time": "2022-06-02T21:56:08.862Z"
   },
   {
    "duration": 0,
    "start_time": "2022-06-02T21:56:08.863Z"
   },
   {
    "duration": 74,
    "start_time": "2022-06-02T21:56:54.087Z"
   },
   {
    "duration": 66,
    "start_time": "2022-06-02T21:57:06.227Z"
   },
   {
    "duration": 9,
    "start_time": "2022-06-02T21:57:11.482Z"
   },
   {
    "duration": 10,
    "start_time": "2022-06-02T21:57:13.449Z"
   },
   {
    "duration": 10,
    "start_time": "2022-06-02T21:57:32.182Z"
   },
   {
    "duration": 732,
    "start_time": "2022-06-02T21:57:33.759Z"
   },
   {
    "duration": 21249,
    "start_time": "2022-06-02T21:57:38.025Z"
   },
   {
    "duration": 220,
    "start_time": "2022-06-02T21:58:32.983Z"
   },
   {
    "duration": 222,
    "start_time": "2022-06-02T21:58:48.586Z"
   },
   {
    "duration": 308,
    "start_time": "2022-06-02T21:59:00.692Z"
   },
   {
    "duration": 46,
    "start_time": "2022-06-02T21:59:13.949Z"
   },
   {
    "duration": 11,
    "start_time": "2022-06-02T21:59:26.796Z"
   },
   {
    "duration": 310,
    "start_time": "2022-06-02T21:59:30.671Z"
   },
   {
    "duration": 10333,
    "start_time": "2022-06-02T21:59:35.352Z"
   },
   {
    "duration": 21,
    "start_time": "2022-06-02T22:00:12.949Z"
   },
   {
    "duration": 58,
    "start_time": "2022-06-02T22:00:21.896Z"
   },
   {
    "duration": 4,
    "start_time": "2022-06-02T22:00:55.343Z"
   },
   {
    "duration": 11,
    "start_time": "2022-06-02T22:01:46.770Z"
   },
   {
    "duration": 1087,
    "start_time": "2022-06-02T22:02:05.760Z"
   },
   {
    "duration": 117,
    "start_time": "2022-06-02T22:02:06.848Z"
   },
   {
    "duration": 43,
    "start_time": "2022-06-02T22:02:06.967Z"
   },
   {
    "duration": 14,
    "start_time": "2022-06-02T22:02:07.012Z"
   },
   {
    "duration": 9,
    "start_time": "2022-06-02T22:02:07.028Z"
   },
   {
    "duration": 15,
    "start_time": "2022-06-02T22:02:07.038Z"
   },
   {
    "duration": 52,
    "start_time": "2022-06-02T22:02:07.054Z"
   },
   {
    "duration": 5,
    "start_time": "2022-06-02T22:02:07.107Z"
   },
   {
    "duration": 16,
    "start_time": "2022-06-02T22:02:07.114Z"
   },
   {
    "duration": 3,
    "start_time": "2022-06-02T22:02:07.133Z"
   },
   {
    "duration": 8,
    "start_time": "2022-06-02T22:02:07.138Z"
   },
   {
    "duration": 46,
    "start_time": "2022-06-02T22:02:07.148Z"
   },
   {
    "duration": 10,
    "start_time": "2022-06-02T22:02:07.195Z"
   },
   {
    "duration": 10,
    "start_time": "2022-06-02T22:02:07.206Z"
   },
   {
    "duration": 35,
    "start_time": "2022-06-02T22:02:07.217Z"
   },
   {
    "duration": 15,
    "start_time": "2022-06-02T22:02:07.253Z"
   },
   {
    "duration": 202,
    "start_time": "2022-06-02T22:02:07.269Z"
   },
   {
    "duration": 307,
    "start_time": "2022-06-02T22:02:07.472Z"
   },
   {
    "duration": 31,
    "start_time": "2022-06-02T22:02:07.781Z"
   },
   {
    "duration": 5777,
    "start_time": "2022-06-02T22:02:07.813Z"
   },
   {
    "duration": 85894,
    "start_time": "2022-06-02T22:02:13.592Z"
   },
   {
    "duration": 0,
    "start_time": "2022-06-02T22:03:39.491Z"
   },
   {
    "duration": 0,
    "start_time": "2022-06-02T22:03:39.492Z"
   },
   {
    "duration": 0,
    "start_time": "2022-06-02T22:03:39.493Z"
   },
   {
    "duration": 0,
    "start_time": "2022-06-02T22:03:39.494Z"
   },
   {
    "duration": 0,
    "start_time": "2022-06-02T22:03:39.495Z"
   },
   {
    "duration": 0,
    "start_time": "2022-06-02T22:03:39.496Z"
   },
   {
    "duration": 0,
    "start_time": "2022-06-02T22:03:39.498Z"
   },
   {
    "duration": 0,
    "start_time": "2022-06-02T22:03:39.499Z"
   },
   {
    "duration": 0,
    "start_time": "2022-06-02T22:03:39.499Z"
   },
   {
    "duration": 0,
    "start_time": "2022-06-02T22:03:39.501Z"
   },
   {
    "duration": 0,
    "start_time": "2022-06-02T22:03:39.501Z"
   },
   {
    "duration": 0,
    "start_time": "2022-06-02T22:03:39.502Z"
   },
   {
    "duration": 0,
    "start_time": "2022-06-02T22:03:39.503Z"
   },
   {
    "duration": 0,
    "start_time": "2022-06-02T22:03:39.504Z"
   },
   {
    "duration": 0,
    "start_time": "2022-06-02T22:03:39.505Z"
   },
   {
    "duration": 0,
    "start_time": "2022-06-02T22:03:39.506Z"
   },
   {
    "duration": 33,
    "start_time": "2022-06-02T22:04:48.386Z"
   },
   {
    "duration": 10,
    "start_time": "2022-06-02T22:04:53.776Z"
   },
   {
    "duration": 134,
    "start_time": "2022-06-02T22:05:08.686Z"
   },
   {
    "duration": 141,
    "start_time": "2022-06-02T22:05:48.663Z"
   },
   {
    "duration": 78,
    "start_time": "2022-06-02T22:06:00.134Z"
   },
   {
    "duration": 110,
    "start_time": "2022-06-02T22:06:38.733Z"
   },
   {
    "duration": 155,
    "start_time": "2022-06-02T22:06:54.560Z"
   },
   {
    "duration": 129,
    "start_time": "2022-06-02T22:07:06.427Z"
   },
   {
    "duration": 418,
    "start_time": "2022-06-02T22:08:00.534Z"
   },
   {
    "duration": 1002,
    "start_time": "2022-06-02T22:21:02.832Z"
   },
   {
    "duration": 113,
    "start_time": "2022-06-02T22:21:03.836Z"
   },
   {
    "duration": 50,
    "start_time": "2022-06-02T22:21:03.950Z"
   },
   {
    "duration": 12,
    "start_time": "2022-06-02T22:21:04.001Z"
   },
   {
    "duration": 110,
    "start_time": "2022-06-02T22:21:04.015Z"
   },
   {
    "duration": 138,
    "start_time": "2022-06-02T22:21:04.127Z"
   },
   {
    "duration": 90,
    "start_time": "2022-06-02T22:21:04.267Z"
   },
   {
    "duration": 122,
    "start_time": "2022-06-02T22:21:04.359Z"
   },
   {
    "duration": 117,
    "start_time": "2022-06-02T22:21:04.491Z"
   },
   {
    "duration": 83,
    "start_time": "2022-06-02T22:21:04.611Z"
   },
   {
    "duration": 74,
    "start_time": "2022-06-02T22:21:04.695Z"
   },
   {
    "duration": 105,
    "start_time": "2022-06-02T22:21:04.770Z"
   },
   {
    "duration": 19,
    "start_time": "2022-06-02T22:21:04.877Z"
   },
   {
    "duration": 10,
    "start_time": "2022-06-02T22:21:04.897Z"
   },
   {
    "duration": 22,
    "start_time": "2022-06-02T22:21:04.908Z"
   },
   {
    "duration": 4,
    "start_time": "2022-06-02T22:21:04.931Z"
   },
   {
    "duration": 15,
    "start_time": "2022-06-02T22:21:04.937Z"
   },
   {
    "duration": 39,
    "start_time": "2022-06-02T22:21:04.954Z"
   },
   {
    "duration": 9,
    "start_time": "2022-06-02T22:21:04.995Z"
   },
   {
    "duration": 3,
    "start_time": "2022-06-02T22:21:05.006Z"
   },
   {
    "duration": 5,
    "start_time": "2022-06-02T22:21:05.011Z"
   },
   {
    "duration": 6,
    "start_time": "2022-06-02T22:21:05.018Z"
   },
   {
    "duration": 27,
    "start_time": "2022-06-02T22:21:05.025Z"
   },
   {
    "duration": 14,
    "start_time": "2022-06-02T22:21:05.091Z"
   },
   {
    "duration": 213,
    "start_time": "2022-06-02T22:21:05.107Z"
   },
   {
    "duration": 306,
    "start_time": "2022-06-02T22:21:05.322Z"
   },
   {
    "duration": 32,
    "start_time": "2022-06-02T22:21:05.630Z"
   },
   {
    "duration": 4116,
    "start_time": "2022-06-02T22:21:05.665Z"
   },
   {
    "duration": 9885,
    "start_time": "2022-06-02T22:21:09.783Z"
   },
   {
    "duration": 0,
    "start_time": "2022-06-02T22:21:19.670Z"
   },
   {
    "duration": 0,
    "start_time": "2022-06-02T22:21:19.672Z"
   },
   {
    "duration": 0,
    "start_time": "2022-06-02T22:21:19.673Z"
   },
   {
    "duration": 0,
    "start_time": "2022-06-02T22:21:19.674Z"
   },
   {
    "duration": 0,
    "start_time": "2022-06-02T22:21:19.675Z"
   },
   {
    "duration": 0,
    "start_time": "2022-06-02T22:21:19.692Z"
   },
   {
    "duration": 0,
    "start_time": "2022-06-02T22:21:19.693Z"
   },
   {
    "duration": 0,
    "start_time": "2022-06-02T22:21:19.695Z"
   },
   {
    "duration": 0,
    "start_time": "2022-06-02T22:21:19.696Z"
   },
   {
    "duration": 0,
    "start_time": "2022-06-02T22:21:19.697Z"
   },
   {
    "duration": 0,
    "start_time": "2022-06-02T22:21:19.698Z"
   },
   {
    "duration": 1,
    "start_time": "2022-06-02T22:21:19.699Z"
   },
   {
    "duration": 0,
    "start_time": "2022-06-02T22:21:19.701Z"
   },
   {
    "duration": 0,
    "start_time": "2022-06-02T22:21:19.702Z"
   },
   {
    "duration": 0,
    "start_time": "2022-06-02T22:21:19.703Z"
   },
   {
    "duration": 0,
    "start_time": "2022-06-02T22:21:19.705Z"
   },
   {
    "duration": 80,
    "start_time": "2022-06-02T22:24:03.746Z"
   },
   {
    "duration": 94,
    "start_time": "2022-06-02T22:25:55.943Z"
   },
   {
    "duration": 86,
    "start_time": "2022-06-02T22:26:20.977Z"
   },
   {
    "duration": 28,
    "start_time": "2022-06-02T22:26:34.801Z"
   },
   {
    "duration": 170,
    "start_time": "2022-06-02T22:26:53.633Z"
   },
   {
    "duration": 125,
    "start_time": "2022-06-02T22:27:53.426Z"
   },
   {
    "duration": 127,
    "start_time": "2022-06-02T22:28:20.898Z"
   },
   {
    "duration": 518,
    "start_time": "2022-06-02T22:29:34.696Z"
   },
   {
    "duration": 138,
    "start_time": "2022-06-02T22:30:34.973Z"
   },
   {
    "duration": 124,
    "start_time": "2022-06-02T22:31:18.994Z"
   },
   {
    "duration": 142,
    "start_time": "2022-06-02T22:31:39.975Z"
   },
   {
    "duration": 105,
    "start_time": "2022-06-02T22:32:10.643Z"
   },
   {
    "duration": 114,
    "start_time": "2022-06-02T22:32:22.048Z"
   },
   {
    "duration": 107,
    "start_time": "2022-06-02T22:32:28.737Z"
   },
   {
    "duration": 115,
    "start_time": "2022-06-02T22:32:35.803Z"
   },
   {
    "duration": 1132,
    "start_time": "2022-06-02T22:33:30.966Z"
   },
   {
    "duration": 118,
    "start_time": "2022-06-02T22:33:32.100Z"
   },
   {
    "duration": 37,
    "start_time": "2022-06-02T22:33:32.219Z"
   },
   {
    "duration": 12,
    "start_time": "2022-06-02T22:33:32.258Z"
   },
   {
    "duration": 125,
    "start_time": "2022-06-02T22:33:32.271Z"
   },
   {
    "duration": 147,
    "start_time": "2022-06-02T22:33:32.398Z"
   },
   {
    "duration": 89,
    "start_time": "2022-06-02T22:33:32.547Z"
   },
   {
    "duration": 132,
    "start_time": "2022-06-02T22:33:32.638Z"
   },
   {
    "duration": 79,
    "start_time": "2022-06-02T22:33:32.772Z"
   },
   {
    "duration": 84,
    "start_time": "2022-06-02T22:33:32.853Z"
   },
   {
    "duration": 94,
    "start_time": "2022-06-02T22:33:32.939Z"
   },
   {
    "duration": 8,
    "start_time": "2022-06-02T22:33:33.035Z"
   },
   {
    "duration": 11,
    "start_time": "2022-06-02T22:33:33.044Z"
   },
   {
    "duration": 51,
    "start_time": "2022-06-02T22:33:33.056Z"
   },
   {
    "duration": 4,
    "start_time": "2022-06-02T22:33:33.109Z"
   },
   {
    "duration": 15,
    "start_time": "2022-06-02T22:33:33.114Z"
   },
   {
    "duration": 4,
    "start_time": "2022-06-02T22:33:33.131Z"
   },
   {
    "duration": 7,
    "start_time": "2022-06-02T22:33:33.136Z"
   },
   {
    "duration": 4,
    "start_time": "2022-06-02T22:33:33.144Z"
   },
   {
    "duration": 5,
    "start_time": "2022-06-02T22:33:33.149Z"
   },
   {
    "duration": 38,
    "start_time": "2022-06-02T22:33:33.155Z"
   },
   {
    "duration": 25,
    "start_time": "2022-06-02T22:33:33.195Z"
   },
   {
    "duration": 14,
    "start_time": "2022-06-02T22:33:33.222Z"
   },
   {
    "duration": 205,
    "start_time": "2022-06-02T22:33:33.237Z"
   },
   {
    "duration": 291,
    "start_time": "2022-06-02T22:33:33.443Z"
   },
   {
    "duration": 29,
    "start_time": "2022-06-02T22:33:33.736Z"
   },
   {
    "duration": 4839,
    "start_time": "2022-06-02T22:33:33.766Z"
   },
   {
    "duration": 457,
    "start_time": "2022-06-02T22:37:43.297Z"
   },
   {
    "duration": 297,
    "start_time": "2022-06-02T22:37:55.684Z"
   },
   {
    "duration": 420,
    "start_time": "2022-06-02T22:39:47.714Z"
   },
   {
    "duration": 235,
    "start_time": "2022-06-02T22:39:56.472Z"
   },
   {
    "duration": 140,
    "start_time": "2022-06-02T22:40:19.159Z"
   },
   {
    "duration": 141,
    "start_time": "2022-06-02T22:40:40.167Z"
   },
   {
    "duration": 134,
    "start_time": "2022-06-02T22:40:54.315Z"
   },
   {
    "duration": 129,
    "start_time": "2022-06-02T22:41:29.879Z"
   },
   {
    "duration": 141,
    "start_time": "2022-06-02T22:42:04.032Z"
   },
   {
    "duration": 1054,
    "start_time": "2022-06-02T22:49:21.495Z"
   },
   {
    "duration": 125,
    "start_time": "2022-06-02T22:49:22.551Z"
   },
   {
    "duration": 47,
    "start_time": "2022-06-02T22:49:22.678Z"
   },
   {
    "duration": 12,
    "start_time": "2022-06-02T22:49:22.727Z"
   },
   {
    "duration": 130,
    "start_time": "2022-06-02T22:49:22.741Z"
   },
   {
    "duration": 175,
    "start_time": "2022-06-02T22:49:22.872Z"
   },
   {
    "duration": 102,
    "start_time": "2022-06-02T22:49:23.049Z"
   },
   {
    "duration": 151,
    "start_time": "2022-06-02T22:49:23.153Z"
   },
   {
    "duration": 98,
    "start_time": "2022-06-02T22:49:23.306Z"
   },
   {
    "duration": 97,
    "start_time": "2022-06-02T22:49:23.408Z"
   },
   {
    "duration": 111,
    "start_time": "2022-06-02T22:49:23.507Z"
   },
   {
    "duration": 8,
    "start_time": "2022-06-02T22:49:23.619Z"
   },
   {
    "duration": 13,
    "start_time": "2022-06-02T22:49:23.629Z"
   },
   {
    "duration": 59,
    "start_time": "2022-06-02T22:49:23.643Z"
   },
   {
    "duration": 5,
    "start_time": "2022-06-02T22:49:23.704Z"
   },
   {
    "duration": 15,
    "start_time": "2022-06-02T22:49:23.711Z"
   },
   {
    "duration": 4,
    "start_time": "2022-06-02T22:49:23.728Z"
   },
   {
    "duration": 7,
    "start_time": "2022-06-02T22:49:23.734Z"
   },
   {
    "duration": 3,
    "start_time": "2022-06-02T22:49:23.743Z"
   },
   {
    "duration": 44,
    "start_time": "2022-06-02T22:49:23.748Z"
   },
   {
    "duration": 3,
    "start_time": "2022-06-02T22:49:23.794Z"
   },
   {
    "duration": 27,
    "start_time": "2022-06-02T22:49:23.799Z"
   },
   {
    "duration": 15,
    "start_time": "2022-06-02T22:49:23.827Z"
   },
   {
    "duration": 216,
    "start_time": "2022-06-02T22:49:23.843Z"
   },
   {
    "duration": 294,
    "start_time": "2022-06-02T22:49:24.061Z"
   },
   {
    "duration": 40,
    "start_time": "2022-06-02T22:49:24.356Z"
   },
   {
    "duration": 4109,
    "start_time": "2022-06-02T22:49:24.397Z"
   },
   {
    "duration": 93858,
    "start_time": "2022-06-02T22:49:28.509Z"
   },
   {
    "duration": 185,
    "start_time": "2022-06-02T22:51:02.368Z"
   },
   {
    "duration": 142,
    "start_time": "2022-06-02T22:51:02.554Z"
   },
   {
    "duration": 685,
    "start_time": "2022-06-02T22:51:02.699Z"
   },
   {
    "duration": 95438,
    "start_time": "2022-06-02T22:51:03.386Z"
   },
   {
    "duration": 80,
    "start_time": "2022-06-02T22:52:38.826Z"
   },
   {
    "duration": 89,
    "start_time": "2022-06-02T22:52:38.908Z"
   },
   {
    "duration": 101,
    "start_time": "2022-06-02T22:52:38.999Z"
   },
   {
    "duration": 731,
    "start_time": "2022-06-02T22:52:39.101Z"
   },
   {
    "duration": 20921,
    "start_time": "2022-06-02T22:52:39.833Z"
   },
   {
    "duration": 219,
    "start_time": "2022-06-02T22:53:00.756Z"
   },
   {
    "duration": 117,
    "start_time": "2022-06-02T22:53:00.977Z"
   },
   {
    "duration": 96,
    "start_time": "2022-06-02T22:53:01.097Z"
   },
   {
    "duration": 328,
    "start_time": "2022-06-02T22:53:01.196Z"
   },
   {
    "duration": 10259,
    "start_time": "2022-06-02T22:53:01.526Z"
   },
   {
    "duration": 104,
    "start_time": "2022-06-02T22:53:11.787Z"
   },
   {
    "duration": 279,
    "start_time": "2022-06-02T22:53:11.894Z"
   },
   {
    "duration": 3,
    "start_time": "2022-06-02T22:54:16.996Z"
   },
   {
    "duration": 80,
    "start_time": "2022-06-02T22:54:23.164Z"
   },
   {
    "duration": 4,
    "start_time": "2022-06-02T22:55:01.407Z"
   },
   {
    "duration": 66,
    "start_time": "2022-06-02T22:55:05.998Z"
   },
   {
    "duration": 255,
    "start_time": "2022-06-02T22:56:52.075Z"
   },
   {
    "duration": 30,
    "start_time": "2022-06-02T22:58:15.783Z"
   },
   {
    "duration": 248,
    "start_time": "2022-06-02T22:59:41.816Z"
   },
   {
    "duration": 166,
    "start_time": "2022-06-02T23:00:01.350Z"
   },
   {
    "duration": 62,
    "start_time": "2022-06-03T11:00:20.422Z"
   },
   {
    "duration": 1437,
    "start_time": "2022-06-03T11:00:29.316Z"
   },
   {
    "duration": 261,
    "start_time": "2022-06-03T11:00:30.755Z"
   },
   {
    "duration": 46,
    "start_time": "2022-06-03T11:00:31.017Z"
   },
   {
    "duration": 25,
    "start_time": "2022-06-03T11:00:31.065Z"
   },
   {
    "duration": 136,
    "start_time": "2022-06-03T11:00:31.091Z"
   },
   {
    "duration": 199,
    "start_time": "2022-06-03T11:00:31.229Z"
   },
   {
    "duration": 118,
    "start_time": "2022-06-03T11:00:31.430Z"
   },
   {
    "duration": 175,
    "start_time": "2022-06-03T11:00:31.551Z"
   },
   {
    "duration": 107,
    "start_time": "2022-06-03T11:00:31.728Z"
   },
   {
    "duration": 117,
    "start_time": "2022-06-03T11:00:31.838Z"
   },
   {
    "duration": 120,
    "start_time": "2022-06-03T11:00:31.957Z"
   },
   {
    "duration": 16,
    "start_time": "2022-06-03T11:00:32.078Z"
   },
   {
    "duration": 13,
    "start_time": "2022-06-03T11:00:32.095Z"
   },
   {
    "duration": 29,
    "start_time": "2022-06-03T11:00:32.109Z"
   },
   {
    "duration": 5,
    "start_time": "2022-06-03T11:00:32.139Z"
   },
   {
    "duration": 50,
    "start_time": "2022-06-03T11:00:32.146Z"
   },
   {
    "duration": 9,
    "start_time": "2022-06-03T11:00:32.198Z"
   },
   {
    "duration": 16,
    "start_time": "2022-06-03T11:00:32.208Z"
   },
   {
    "duration": 5,
    "start_time": "2022-06-03T11:00:32.226Z"
   },
   {
    "duration": 8,
    "start_time": "2022-06-03T11:00:32.232Z"
   },
   {
    "duration": 14,
    "start_time": "2022-06-03T11:00:32.241Z"
   },
   {
    "duration": 47,
    "start_time": "2022-06-03T11:00:32.256Z"
   },
   {
    "duration": 19,
    "start_time": "2022-06-03T11:00:32.305Z"
   },
   {
    "duration": 251,
    "start_time": "2022-06-03T11:00:32.326Z"
   },
   {
    "duration": 370,
    "start_time": "2022-06-03T11:00:32.578Z"
   },
   {
    "duration": 47,
    "start_time": "2022-06-03T11:00:32.950Z"
   },
   {
    "duration": 4,
    "start_time": "2022-06-03T11:00:32.998Z"
   },
   {
    "duration": 0,
    "start_time": "2022-06-03T11:00:33.004Z"
   },
   {
    "duration": 0,
    "start_time": "2022-06-03T11:00:33.005Z"
   },
   {
    "duration": 0,
    "start_time": "2022-06-03T11:00:33.007Z"
   },
   {
    "duration": 0,
    "start_time": "2022-06-03T11:00:33.008Z"
   },
   {
    "duration": 0,
    "start_time": "2022-06-03T11:00:33.009Z"
   },
   {
    "duration": 0,
    "start_time": "2022-06-03T11:00:33.010Z"
   },
   {
    "duration": 0,
    "start_time": "2022-06-03T11:00:33.012Z"
   },
   {
    "duration": 0,
    "start_time": "2022-06-03T11:00:33.013Z"
   },
   {
    "duration": 0,
    "start_time": "2022-06-03T11:00:33.014Z"
   },
   {
    "duration": 0,
    "start_time": "2022-06-03T11:00:33.015Z"
   },
   {
    "duration": 0,
    "start_time": "2022-06-03T11:00:33.016Z"
   },
   {
    "duration": 0,
    "start_time": "2022-06-03T11:00:33.017Z"
   },
   {
    "duration": 0,
    "start_time": "2022-06-03T11:00:33.019Z"
   },
   {
    "duration": 0,
    "start_time": "2022-06-03T11:00:33.020Z"
   },
   {
    "duration": 0,
    "start_time": "2022-06-03T11:00:33.021Z"
   },
   {
    "duration": 0,
    "start_time": "2022-06-03T11:00:33.022Z"
   },
   {
    "duration": 0,
    "start_time": "2022-06-03T11:00:33.024Z"
   },
   {
    "duration": 0,
    "start_time": "2022-06-03T11:00:33.025Z"
   },
   {
    "duration": 4476,
    "start_time": "2022-06-03T11:01:00.913Z"
   },
   {
    "duration": 116,
    "start_time": "2022-06-03T11:01:09.411Z"
   },
   {
    "duration": 4,
    "start_time": "2022-06-03T11:09:43.787Z"
   },
   {
    "duration": 0,
    "start_time": "2022-06-03T11:13:56.411Z"
   },
   {
    "duration": 600586,
    "start_time": "2022-06-03T11:13:57.810Z"
   },
   {
    "duration": 149,
    "start_time": "2022-06-03T11:26:28.998Z"
   },
   {
    "duration": 160,
    "start_time": "2022-06-03T11:27:00.543Z"
   },
   {
    "duration": 1213,
    "start_time": "2022-06-03T11:27:45.132Z"
   },
   {
    "duration": 123,
    "start_time": "2022-06-03T11:27:46.347Z"
   },
   {
    "duration": 50,
    "start_time": "2022-06-03T11:27:46.471Z"
   },
   {
    "duration": 12,
    "start_time": "2022-06-03T11:27:46.523Z"
   },
   {
    "duration": 133,
    "start_time": "2022-06-03T11:27:46.537Z"
   },
   {
    "duration": 198,
    "start_time": "2022-06-03T11:27:46.671Z"
   },
   {
    "duration": 107,
    "start_time": "2022-06-03T11:27:46.870Z"
   },
   {
    "duration": 182,
    "start_time": "2022-06-03T11:27:46.979Z"
   },
   {
    "duration": 103,
    "start_time": "2022-06-03T11:27:47.163Z"
   },
   {
    "duration": 124,
    "start_time": "2022-06-03T11:27:47.269Z"
   },
   {
    "duration": 127,
    "start_time": "2022-06-03T11:27:47.395Z"
   },
   {
    "duration": 8,
    "start_time": "2022-06-03T11:27:47.523Z"
   },
   {
    "duration": 16,
    "start_time": "2022-06-03T11:27:47.532Z"
   },
   {
    "duration": 55,
    "start_time": "2022-06-03T11:27:47.549Z"
   },
   {
    "duration": 7,
    "start_time": "2022-06-03T11:27:47.606Z"
   },
   {
    "duration": 26,
    "start_time": "2022-06-03T11:27:47.615Z"
   },
   {
    "duration": 4,
    "start_time": "2022-06-03T11:27:47.643Z"
   },
   {
    "duration": 40,
    "start_time": "2022-06-03T11:27:47.650Z"
   },
   {
    "duration": 5,
    "start_time": "2022-06-03T11:27:47.692Z"
   },
   {
    "duration": 6,
    "start_time": "2022-06-03T11:27:47.699Z"
   },
   {
    "duration": 6,
    "start_time": "2022-06-03T11:27:47.707Z"
   },
   {
    "duration": 32,
    "start_time": "2022-06-03T11:27:47.715Z"
   },
   {
    "duration": 60,
    "start_time": "2022-06-03T11:27:47.749Z"
   },
   {
    "duration": 254,
    "start_time": "2022-06-03T11:27:47.811Z"
   },
   {
    "duration": 419,
    "start_time": "2022-06-03T11:27:48.067Z"
   },
   {
    "duration": 46,
    "start_time": "2022-06-03T11:27:48.490Z"
   },
   {
    "duration": 5166,
    "start_time": "2022-06-03T11:27:48.538Z"
   },
   {
    "duration": 122768,
    "start_time": "2022-06-03T11:27:53.708Z"
   },
   {
    "duration": 126,
    "start_time": "2022-06-03T11:29:56.477Z"
   },
   {
    "duration": 661144,
    "start_time": "2022-06-03T11:29:56.605Z"
   },
   {
    "duration": 173,
    "start_time": "2022-06-03T11:40:57.751Z"
   },
   {
    "duration": 92,
    "start_time": "2022-06-03T11:40:57.925Z"
   },
   {
    "duration": 927,
    "start_time": "2022-06-03T11:40:58.092Z"
   },
   {
    "duration": 136925,
    "start_time": "2022-06-03T11:40:59.021Z"
   },
   {
    "duration": 107,
    "start_time": "2022-06-03T11:43:15.948Z"
   },
   {
    "duration": 142,
    "start_time": "2022-06-03T11:43:16.057Z"
   },
   {
    "duration": 95,
    "start_time": "2022-06-03T11:43:16.201Z"
   },
   {
    "duration": 1014,
    "start_time": "2022-06-03T11:43:16.298Z"
   },
   {
    "duration": 30666,
    "start_time": "2022-06-03T11:43:17.314Z"
   },
   {
    "duration": 334,
    "start_time": "2022-06-03T11:43:47.982Z"
   },
   {
    "duration": 170,
    "start_time": "2022-06-03T11:43:48.319Z"
   },
   {
    "duration": 15,
    "start_time": "2022-06-03T11:43:48.492Z"
   },
   {
    "duration": 486,
    "start_time": "2022-06-03T11:43:48.511Z"
   },
   {
    "duration": 14582,
    "start_time": "2022-06-03T11:43:49.000Z"
   },
   {
    "duration": 115,
    "start_time": "2022-06-03T11:44:03.584Z"
   },
   {
    "duration": 307,
    "start_time": "2022-06-03T11:44:03.701Z"
   },
   {
    "duration": 645462,
    "start_time": "2022-06-03T11:50:13.171Z"
   },
   {
    "duration": 369,
    "start_time": "2022-06-03T12:01:48.328Z"
   },
   {
    "duration": 6,
    "start_time": "2022-06-03T12:11:17.331Z"
   },
   {
    "duration": 225,
    "start_time": "2022-06-03T12:13:14.342Z"
   },
   {
    "duration": 99,
    "start_time": "2022-06-03T12:14:05.575Z"
   },
   {
    "duration": 249,
    "start_time": "2022-06-03T12:14:27.244Z"
   },
   {
    "duration": 213,
    "start_time": "2022-06-03T12:15:33.995Z"
   },
   {
    "duration": 1402,
    "start_time": "2022-11-11T18:29:55.885Z"
   }
  ],
  "kernelspec": {
   "display_name": "Python 3 (ipykernel)",
   "language": "python",
   "name": "python3"
  },
  "language_info": {
   "codemirror_mode": {
    "name": "ipython",
    "version": 3
   },
   "file_extension": ".py",
   "mimetype": "text/x-python",
   "name": "python",
   "nbconvert_exporter": "python",
   "pygments_lexer": "ipython3",
   "version": "3.9.12"
  },
  "toc": {
   "base_numbering": 1,
   "nav_menu": {},
   "number_sections": true,
   "sideBar": true,
   "skip_h1_title": true,
   "title_cell": "Содержание",
   "title_sidebar": "Contents",
   "toc_cell": true,
   "toc_position": {
    "height": "calc(100% - 180px)",
    "left": "10px",
    "top": "150px",
    "width": "165px"
   },
   "toc_section_display": true,
   "toc_window_display": true
  }
 },
 "nbformat": 4,
 "nbformat_minor": 2
}
