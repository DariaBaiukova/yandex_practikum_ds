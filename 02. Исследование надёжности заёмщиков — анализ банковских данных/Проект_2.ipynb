{
 "cells": [
  {
   "cell_type": "markdown",
   "id": "b2a035ad",
   "metadata": {},
   "source": [
    "# Исследование надежности заемщиков."
   ]
  },
  {
   "cell_type": "markdown",
   "id": "7946ccb8",
   "metadata": {},
   "source": [
    "# Описание проекта\n",
    "Заказчик — кредитный отдел банка. Нужно разобраться, влияет ли семейное положение и количество детей клиента на факт погашения кредита в срок. Входные данные от банка — статистика о платёжеспособности клиентов.Результаты исследования будут учтены при построении модели кредитного скоринга — специальной системы, которая оценивает способность потенциального заёмщика вернуть кредит банку.\n",
    "# Поставленные вопросы\n",
    "- Есть ли зависимость между количеством детей и возвратом кредита в срок?\n",
    "- Есть ли зависимость между семейным положением и возвратом кредита в срок?\n",
    "- Есть ли зависимость между уровнем дохода и возвратом кредита в срок?\n",
    "- Как разные цели кредита влияют на его возврат в срок?"
   ]
  },
  {
   "cell_type": "markdown",
   "id": "51f74ce8",
   "metadata": {},
   "source": [
    "# Описание данных\n",
    "children — количество детей в семье  \n",
    "days_employed — общий трудовой стаж в днях  \n",
    "dob_years — возраст клиента в годах  \n",
    "education — уровень образования клиента  \n",
    "education_id — идентификатор уровня образования  \n",
    "family_status — семейное положение  \n",
    "family_status_id — идентификатор семейного положения  \n",
    "gender — пол клиента  \n",
    "income_type — тип занятости  \n",
    "debt — имел ли задолженность по возврату кредитов  \n",
    "total_income — ежемесячный доход  \n",
    "purpose — цель получения кредита"
   ]
  },
  {
   "cell_type": "markdown",
   "id": "e062c3da",
   "metadata": {},
   "source": [
    "## Шаг 1. Обзор данных"
   ]
  },
  {
   "cell_type": "code",
   "execution_count": 1,
   "id": "d675efef",
   "metadata": {},
   "outputs": [],
   "source": [
    "import pandas as pd\n",
    "import matplotlib.pyplot as plt\n",
    "import numpy as np"
   ]
  },
  {
   "cell_type": "code",
   "execution_count": 2,
   "id": "5bbbd993",
   "metadata": {},
   "outputs": [
    {
     "data": {
      "text/html": [
       "<div>\n",
       "<style scoped>\n",
       "    .dataframe tbody tr th:only-of-type {\n",
       "        vertical-align: middle;\n",
       "    }\n",
       "\n",
       "    .dataframe tbody tr th {\n",
       "        vertical-align: top;\n",
       "    }\n",
       "\n",
       "    .dataframe thead th {\n",
       "        text-align: right;\n",
       "    }\n",
       "</style>\n",
       "<table border=\"1\" class=\"dataframe\">\n",
       "  <thead>\n",
       "    <tr style=\"text-align: right;\">\n",
       "      <th></th>\n",
       "      <th>children</th>\n",
       "      <th>days_employed</th>\n",
       "      <th>dob_years</th>\n",
       "      <th>education</th>\n",
       "      <th>education_id</th>\n",
       "      <th>family_status</th>\n",
       "      <th>family_status_id</th>\n",
       "      <th>gender</th>\n",
       "      <th>income_type</th>\n",
       "      <th>debt</th>\n",
       "      <th>total_income</th>\n",
       "      <th>purpose</th>\n",
       "    </tr>\n",
       "  </thead>\n",
       "  <tbody>\n",
       "    <tr>\n",
       "      <th>0</th>\n",
       "      <td>1</td>\n",
       "      <td>-8437.673028</td>\n",
       "      <td>42</td>\n",
       "      <td>высшее</td>\n",
       "      <td>0</td>\n",
       "      <td>женат / замужем</td>\n",
       "      <td>0</td>\n",
       "      <td>F</td>\n",
       "      <td>сотрудник</td>\n",
       "      <td>0</td>\n",
       "      <td>253875.639453</td>\n",
       "      <td>покупка жилья</td>\n",
       "    </tr>\n",
       "    <tr>\n",
       "      <th>1</th>\n",
       "      <td>1</td>\n",
       "      <td>-4024.803754</td>\n",
       "      <td>36</td>\n",
       "      <td>среднее</td>\n",
       "      <td>1</td>\n",
       "      <td>женат / замужем</td>\n",
       "      <td>0</td>\n",
       "      <td>F</td>\n",
       "      <td>сотрудник</td>\n",
       "      <td>0</td>\n",
       "      <td>112080.014102</td>\n",
       "      <td>приобретение автомобиля</td>\n",
       "    </tr>\n",
       "    <tr>\n",
       "      <th>2</th>\n",
       "      <td>0</td>\n",
       "      <td>-5623.422610</td>\n",
       "      <td>33</td>\n",
       "      <td>Среднее</td>\n",
       "      <td>1</td>\n",
       "      <td>женат / замужем</td>\n",
       "      <td>0</td>\n",
       "      <td>M</td>\n",
       "      <td>сотрудник</td>\n",
       "      <td>0</td>\n",
       "      <td>145885.952297</td>\n",
       "      <td>покупка жилья</td>\n",
       "    </tr>\n",
       "    <tr>\n",
       "      <th>3</th>\n",
       "      <td>3</td>\n",
       "      <td>-4124.747207</td>\n",
       "      <td>32</td>\n",
       "      <td>среднее</td>\n",
       "      <td>1</td>\n",
       "      <td>женат / замужем</td>\n",
       "      <td>0</td>\n",
       "      <td>M</td>\n",
       "      <td>сотрудник</td>\n",
       "      <td>0</td>\n",
       "      <td>267628.550329</td>\n",
       "      <td>дополнительное образование</td>\n",
       "    </tr>\n",
       "    <tr>\n",
       "      <th>4</th>\n",
       "      <td>0</td>\n",
       "      <td>340266.072047</td>\n",
       "      <td>53</td>\n",
       "      <td>среднее</td>\n",
       "      <td>1</td>\n",
       "      <td>гражданский брак</td>\n",
       "      <td>1</td>\n",
       "      <td>F</td>\n",
       "      <td>пенсионер</td>\n",
       "      <td>0</td>\n",
       "      <td>158616.077870</td>\n",
       "      <td>сыграть свадьбу</td>\n",
       "    </tr>\n",
       "    <tr>\n",
       "      <th>5</th>\n",
       "      <td>0</td>\n",
       "      <td>-926.185831</td>\n",
       "      <td>27</td>\n",
       "      <td>высшее</td>\n",
       "      <td>0</td>\n",
       "      <td>гражданский брак</td>\n",
       "      <td>1</td>\n",
       "      <td>M</td>\n",
       "      <td>компаньон</td>\n",
       "      <td>0</td>\n",
       "      <td>255763.565419</td>\n",
       "      <td>покупка жилья</td>\n",
       "    </tr>\n",
       "    <tr>\n",
       "      <th>6</th>\n",
       "      <td>0</td>\n",
       "      <td>-2879.202052</td>\n",
       "      <td>43</td>\n",
       "      <td>высшее</td>\n",
       "      <td>0</td>\n",
       "      <td>женат / замужем</td>\n",
       "      <td>0</td>\n",
       "      <td>F</td>\n",
       "      <td>компаньон</td>\n",
       "      <td>0</td>\n",
       "      <td>240525.971920</td>\n",
       "      <td>операции с жильем</td>\n",
       "    </tr>\n",
       "    <tr>\n",
       "      <th>7</th>\n",
       "      <td>0</td>\n",
       "      <td>-152.779569</td>\n",
       "      <td>50</td>\n",
       "      <td>СРЕДНЕЕ</td>\n",
       "      <td>1</td>\n",
       "      <td>женат / замужем</td>\n",
       "      <td>0</td>\n",
       "      <td>M</td>\n",
       "      <td>сотрудник</td>\n",
       "      <td>0</td>\n",
       "      <td>135823.934197</td>\n",
       "      <td>образование</td>\n",
       "    </tr>\n",
       "    <tr>\n",
       "      <th>8</th>\n",
       "      <td>2</td>\n",
       "      <td>-6929.865299</td>\n",
       "      <td>35</td>\n",
       "      <td>ВЫСШЕЕ</td>\n",
       "      <td>0</td>\n",
       "      <td>гражданский брак</td>\n",
       "      <td>1</td>\n",
       "      <td>F</td>\n",
       "      <td>сотрудник</td>\n",
       "      <td>0</td>\n",
       "      <td>95856.832424</td>\n",
       "      <td>на проведение свадьбы</td>\n",
       "    </tr>\n",
       "    <tr>\n",
       "      <th>9</th>\n",
       "      <td>0</td>\n",
       "      <td>-2188.756445</td>\n",
       "      <td>41</td>\n",
       "      <td>среднее</td>\n",
       "      <td>1</td>\n",
       "      <td>женат / замужем</td>\n",
       "      <td>0</td>\n",
       "      <td>M</td>\n",
       "      <td>сотрудник</td>\n",
       "      <td>0</td>\n",
       "      <td>144425.938277</td>\n",
       "      <td>покупка жилья для семьи</td>\n",
       "    </tr>\n",
       "  </tbody>\n",
       "</table>\n",
       "</div>"
      ],
      "text/plain": [
       "   children  days_employed  dob_years education  education_id  \\\n",
       "0         1   -8437.673028         42    высшее             0   \n",
       "1         1   -4024.803754         36   среднее             1   \n",
       "2         0   -5623.422610         33   Среднее             1   \n",
       "3         3   -4124.747207         32   среднее             1   \n",
       "4         0  340266.072047         53   среднее             1   \n",
       "5         0    -926.185831         27    высшее             0   \n",
       "6         0   -2879.202052         43    высшее             0   \n",
       "7         0    -152.779569         50   СРЕДНЕЕ             1   \n",
       "8         2   -6929.865299         35    ВЫСШЕЕ             0   \n",
       "9         0   -2188.756445         41   среднее             1   \n",
       "\n",
       "      family_status  family_status_id gender income_type  debt   total_income  \\\n",
       "0   женат / замужем                 0      F   сотрудник     0  253875.639453   \n",
       "1   женат / замужем                 0      F   сотрудник     0  112080.014102   \n",
       "2   женат / замужем                 0      M   сотрудник     0  145885.952297   \n",
       "3   женат / замужем                 0      M   сотрудник     0  267628.550329   \n",
       "4  гражданский брак                 1      F   пенсионер     0  158616.077870   \n",
       "5  гражданский брак                 1      M   компаньон     0  255763.565419   \n",
       "6   женат / замужем                 0      F   компаньон     0  240525.971920   \n",
       "7   женат / замужем                 0      M   сотрудник     0  135823.934197   \n",
       "8  гражданский брак                 1      F   сотрудник     0   95856.832424   \n",
       "9   женат / замужем                 0      M   сотрудник     0  144425.938277   \n",
       "\n",
       "                      purpose  \n",
       "0               покупка жилья  \n",
       "1     приобретение автомобиля  \n",
       "2               покупка жилья  \n",
       "3  дополнительное образование  \n",
       "4             сыграть свадьбу  \n",
       "5               покупка жилья  \n",
       "6           операции с жильем  \n",
       "7                 образование  \n",
       "8       на проведение свадьбы  \n",
       "9     покупка жилья для семьи  "
      ]
     },
     "execution_count": 2,
     "metadata": {},
     "output_type": "execute_result"
    }
   ],
   "source": [
    "df = pd.read_csv('data.csv')\n",
    "df.head(10)"
   ]
  },
  {
   "cell_type": "code",
   "execution_count": 3,
   "id": "cdb33367",
   "metadata": {
    "scrolled": false
   },
   "outputs": [
    {
     "name": "stdout",
     "output_type": "stream",
     "text": [
      "<class 'pandas.core.frame.DataFrame'>\n",
      "RangeIndex: 21525 entries, 0 to 21524\n",
      "Data columns (total 12 columns):\n",
      " #   Column            Non-Null Count  Dtype  \n",
      "---  ------            --------------  -----  \n",
      " 0   children          21525 non-null  int64  \n",
      " 1   days_employed     19351 non-null  float64\n",
      " 2   dob_years         21525 non-null  int64  \n",
      " 3   education         21525 non-null  object \n",
      " 4   education_id      21525 non-null  int64  \n",
      " 5   family_status     21525 non-null  object \n",
      " 6   family_status_id  21525 non-null  int64  \n",
      " 7   gender            21525 non-null  object \n",
      " 8   income_type       21525 non-null  object \n",
      " 9   debt              21525 non-null  int64  \n",
      " 10  total_income      19351 non-null  float64\n",
      " 11  purpose           21525 non-null  object \n",
      "dtypes: float64(2), int64(5), object(5)\n",
      "memory usage: 2.0+ MB\n"
     ]
    }
   ],
   "source": [
    "df.info()"
   ]
  },
  {
   "cell_type": "code",
   "execution_count": 4,
   "id": "6cdb9116",
   "metadata": {
    "scrolled": true
   },
   "outputs": [
    {
     "data": {
      "text/plain": [
       "children               0\n",
       "days_employed       2174\n",
       "dob_years              0\n",
       "education              0\n",
       "education_id           0\n",
       "family_status          0\n",
       "family_status_id       0\n",
       "gender                 0\n",
       "income_type            0\n",
       "debt                   0\n",
       "total_income        2174\n",
       "purpose                0\n",
       "dtype: int64"
      ]
     },
     "execution_count": 4,
     "metadata": {},
     "output_type": "execute_result"
    }
   ],
   "source": [
    "df.isna().sum()"
   ]
  },
  {
   "cell_type": "markdown",
   "id": "695be4f9",
   "metadata": {},
   "source": [
    "Пропуски есть в двух столбцах: общий трудовой стаж в днях и ежемесячный доход"
   ]
  },
  {
   "cell_type": "markdown",
   "id": "f56709a0",
   "metadata": {},
   "source": [
    "## Шаг 2"
   ]
  },
  {
   "cell_type": "markdown",
   "id": "0d31ce85",
   "metadata": {},
   "source": [
    "### Шаг 2.1 Проверка данных на аномалии и исправления."
   ]
  },
  {
   "cell_type": "code",
   "execution_count": 5,
   "id": "b2223c0a",
   "metadata": {},
   "outputs": [
    {
     "data": {
      "text/plain": [
       "54"
      ]
     },
     "execution_count": 5,
     "metadata": {},
     "output_type": "execute_result"
    }
   ],
   "source": [
    "df.duplicated().sum()"
   ]
  },
  {
   "cell_type": "code",
   "execution_count": 6,
   "id": "23f383f8",
   "metadata": {},
   "outputs": [],
   "source": [
    "df = df.drop_duplicates().reset_index(drop=True) "
   ]
  },
  {
   "cell_type": "markdown",
   "id": "01ab4545",
   "metadata": {},
   "source": [
    "Удаляем явные дубликаты"
   ]
  },
  {
   "cell_type": "code",
   "execution_count": 7,
   "id": "e8776c42",
   "metadata": {},
   "outputs": [
    {
     "data": {
      "text/html": [
       "<div>\n",
       "<style scoped>\n",
       "    .dataframe tbody tr th:only-of-type {\n",
       "        vertical-align: middle;\n",
       "    }\n",
       "\n",
       "    .dataframe tbody tr th {\n",
       "        vertical-align: top;\n",
       "    }\n",
       "\n",
       "    .dataframe thead th {\n",
       "        text-align: right;\n",
       "    }\n",
       "</style>\n",
       "<table border=\"1\" class=\"dataframe\">\n",
       "  <thead>\n",
       "    <tr style=\"text-align: right;\">\n",
       "      <th></th>\n",
       "      <th>children</th>\n",
       "      <th>days_employed</th>\n",
       "      <th>dob_years</th>\n",
       "      <th>education_id</th>\n",
       "      <th>family_status_id</th>\n",
       "      <th>debt</th>\n",
       "      <th>total_income</th>\n",
       "    </tr>\n",
       "  </thead>\n",
       "  <tbody>\n",
       "    <tr>\n",
       "      <th>count</th>\n",
       "      <td>21471.000000</td>\n",
       "      <td>19351.000000</td>\n",
       "      <td>21471.000000</td>\n",
       "      <td>21471.000000</td>\n",
       "      <td>21471.000000</td>\n",
       "      <td>21471.000000</td>\n",
       "      <td>1.935100e+04</td>\n",
       "    </tr>\n",
       "    <tr>\n",
       "      <th>mean</th>\n",
       "      <td>0.539565</td>\n",
       "      <td>63046.497661</td>\n",
       "      <td>43.279074</td>\n",
       "      <td>0.817195</td>\n",
       "      <td>0.973685</td>\n",
       "      <td>0.081086</td>\n",
       "      <td>1.674223e+05</td>\n",
       "    </tr>\n",
       "    <tr>\n",
       "      <th>std</th>\n",
       "      <td>1.382978</td>\n",
       "      <td>140827.311974</td>\n",
       "      <td>12.574291</td>\n",
       "      <td>0.548508</td>\n",
       "      <td>1.421082</td>\n",
       "      <td>0.272974</td>\n",
       "      <td>1.029716e+05</td>\n",
       "    </tr>\n",
       "    <tr>\n",
       "      <th>min</th>\n",
       "      <td>-1.000000</td>\n",
       "      <td>-18388.949901</td>\n",
       "      <td>0.000000</td>\n",
       "      <td>0.000000</td>\n",
       "      <td>0.000000</td>\n",
       "      <td>0.000000</td>\n",
       "      <td>2.066726e+04</td>\n",
       "    </tr>\n",
       "    <tr>\n",
       "      <th>25%</th>\n",
       "      <td>0.000000</td>\n",
       "      <td>-2747.423625</td>\n",
       "      <td>33.000000</td>\n",
       "      <td>1.000000</td>\n",
       "      <td>0.000000</td>\n",
       "      <td>0.000000</td>\n",
       "      <td>1.030532e+05</td>\n",
       "    </tr>\n",
       "    <tr>\n",
       "      <th>50%</th>\n",
       "      <td>0.000000</td>\n",
       "      <td>-1203.369529</td>\n",
       "      <td>42.000000</td>\n",
       "      <td>1.000000</td>\n",
       "      <td>0.000000</td>\n",
       "      <td>0.000000</td>\n",
       "      <td>1.450179e+05</td>\n",
       "    </tr>\n",
       "    <tr>\n",
       "      <th>75%</th>\n",
       "      <td>1.000000</td>\n",
       "      <td>-291.095954</td>\n",
       "      <td>53.000000</td>\n",
       "      <td>1.000000</td>\n",
       "      <td>1.000000</td>\n",
       "      <td>0.000000</td>\n",
       "      <td>2.034351e+05</td>\n",
       "    </tr>\n",
       "    <tr>\n",
       "      <th>max</th>\n",
       "      <td>20.000000</td>\n",
       "      <td>401755.400475</td>\n",
       "      <td>75.000000</td>\n",
       "      <td>4.000000</td>\n",
       "      <td>4.000000</td>\n",
       "      <td>1.000000</td>\n",
       "      <td>2.265604e+06</td>\n",
       "    </tr>\n",
       "  </tbody>\n",
       "</table>\n",
       "</div>"
      ],
      "text/plain": [
       "           children  days_employed     dob_years  education_id  \\\n",
       "count  21471.000000   19351.000000  21471.000000  21471.000000   \n",
       "mean       0.539565   63046.497661     43.279074      0.817195   \n",
       "std        1.382978  140827.311974     12.574291      0.548508   \n",
       "min       -1.000000  -18388.949901      0.000000      0.000000   \n",
       "25%        0.000000   -2747.423625     33.000000      1.000000   \n",
       "50%        0.000000   -1203.369529     42.000000      1.000000   \n",
       "75%        1.000000    -291.095954     53.000000      1.000000   \n",
       "max       20.000000  401755.400475     75.000000      4.000000   \n",
       "\n",
       "       family_status_id          debt  total_income  \n",
       "count      21471.000000  21471.000000  1.935100e+04  \n",
       "mean           0.973685      0.081086  1.674223e+05  \n",
       "std            1.421082      0.272974  1.029716e+05  \n",
       "min            0.000000      0.000000  2.066726e+04  \n",
       "25%            0.000000      0.000000  1.030532e+05  \n",
       "50%            0.000000      0.000000  1.450179e+05  \n",
       "75%            1.000000      0.000000  2.034351e+05  \n",
       "max            4.000000      1.000000  2.265604e+06  "
      ]
     },
     "execution_count": 7,
     "metadata": {},
     "output_type": "execute_result"
    }
   ],
   "source": [
    "df.describe()"
   ]
  },
  {
   "cell_type": "markdown",
   "id": "1fc1889e",
   "metadata": {},
   "source": [
    "Исходя из таблицы можно сделать вывод, о наличие аномалий: \n",
    "- В столбце children есть отрицательные значения \"-1\" и слишком большое значение \"20\".\n",
    "- В столбце days_employed, есть отрицательные и слишком большие значения.\n",
    "- В столбце dob_years, некоторые значения равны 0.\n",
    "\n",
    "Отрицательные значения могли возникнуть, если человек поставил дефис\"-\". Слишком большие значения, скорее всего, возникли из-за человеческого фактора."
   ]
  },
  {
   "cell_type": "code",
   "execution_count": 8,
   "id": "8954c789",
   "metadata": {},
   "outputs": [
    {
     "data": {
      "text/plain": [
       "array([ 1,  0,  3,  2, -1,  4, 20,  5], dtype=int64)"
      ]
     },
     "execution_count": 8,
     "metadata": {},
     "output_type": "execute_result"
    }
   ],
   "source": [
    "df['children'].unique()"
   ]
  },
  {
   "cell_type": "code",
   "execution_count": 9,
   "id": "3e6701ca",
   "metadata": {},
   "outputs": [
    {
     "data": {
      "text/html": [
       "<div>\n",
       "<style scoped>\n",
       "    .dataframe tbody tr th:only-of-type {\n",
       "        vertical-align: middle;\n",
       "    }\n",
       "\n",
       "    .dataframe tbody tr th {\n",
       "        vertical-align: top;\n",
       "    }\n",
       "\n",
       "    .dataframe thead th {\n",
       "        text-align: right;\n",
       "    }\n",
       "</style>\n",
       "<table border=\"1\" class=\"dataframe\">\n",
       "  <thead>\n",
       "    <tr style=\"text-align: right;\">\n",
       "      <th></th>\n",
       "      <th>children</th>\n",
       "      <th>days_employed</th>\n",
       "      <th>dob_years</th>\n",
       "      <th>education</th>\n",
       "      <th>education_id</th>\n",
       "      <th>family_status</th>\n",
       "      <th>family_status_id</th>\n",
       "      <th>gender</th>\n",
       "      <th>income_type</th>\n",
       "      <th>debt</th>\n",
       "      <th>total_income</th>\n",
       "      <th>purpose</th>\n",
       "    </tr>\n",
       "  </thead>\n",
       "  <tbody>\n",
       "    <tr>\n",
       "      <th>606</th>\n",
       "      <td>20</td>\n",
       "      <td>-880.221113</td>\n",
       "      <td>21</td>\n",
       "      <td>среднее</td>\n",
       "      <td>1</td>\n",
       "      <td>женат / замужем</td>\n",
       "      <td>0</td>\n",
       "      <td>M</td>\n",
       "      <td>компаньон</td>\n",
       "      <td>0</td>\n",
       "      <td>145334.865002</td>\n",
       "      <td>покупка жилья</td>\n",
       "    </tr>\n",
       "    <tr>\n",
       "      <th>720</th>\n",
       "      <td>20</td>\n",
       "      <td>-855.595512</td>\n",
       "      <td>44</td>\n",
       "      <td>среднее</td>\n",
       "      <td>1</td>\n",
       "      <td>женат / замужем</td>\n",
       "      <td>0</td>\n",
       "      <td>F</td>\n",
       "      <td>компаньон</td>\n",
       "      <td>0</td>\n",
       "      <td>112998.738649</td>\n",
       "      <td>покупка недвижимости</td>\n",
       "    </tr>\n",
       "    <tr>\n",
       "      <th>1074</th>\n",
       "      <td>20</td>\n",
       "      <td>-3310.411598</td>\n",
       "      <td>56</td>\n",
       "      <td>среднее</td>\n",
       "      <td>1</td>\n",
       "      <td>женат / замужем</td>\n",
       "      <td>0</td>\n",
       "      <td>F</td>\n",
       "      <td>сотрудник</td>\n",
       "      <td>1</td>\n",
       "      <td>229518.537004</td>\n",
       "      <td>получение образования</td>\n",
       "    </tr>\n",
       "    <tr>\n",
       "      <th>2510</th>\n",
       "      <td>20</td>\n",
       "      <td>-2714.161249</td>\n",
       "      <td>59</td>\n",
       "      <td>высшее</td>\n",
       "      <td>0</td>\n",
       "      <td>вдовец / вдова</td>\n",
       "      <td>2</td>\n",
       "      <td>F</td>\n",
       "      <td>сотрудник</td>\n",
       "      <td>0</td>\n",
       "      <td>264474.835577</td>\n",
       "      <td>операции с коммерческой недвижимостью</td>\n",
       "    </tr>\n",
       "    <tr>\n",
       "      <th>2940</th>\n",
       "      <td>20</td>\n",
       "      <td>-2161.591519</td>\n",
       "      <td>0</td>\n",
       "      <td>среднее</td>\n",
       "      <td>1</td>\n",
       "      <td>женат / замужем</td>\n",
       "      <td>0</td>\n",
       "      <td>F</td>\n",
       "      <td>сотрудник</td>\n",
       "      <td>0</td>\n",
       "      <td>199739.941398</td>\n",
       "      <td>на покупку автомобиля</td>\n",
       "    </tr>\n",
       "    <tr>\n",
       "      <th>...</th>\n",
       "      <td>...</td>\n",
       "      <td>...</td>\n",
       "      <td>...</td>\n",
       "      <td>...</td>\n",
       "      <td>...</td>\n",
       "      <td>...</td>\n",
       "      <td>...</td>\n",
       "      <td>...</td>\n",
       "      <td>...</td>\n",
       "      <td>...</td>\n",
       "      <td>...</td>\n",
       "      <td>...</td>\n",
       "    </tr>\n",
       "    <tr>\n",
       "      <th>20958</th>\n",
       "      <td>20</td>\n",
       "      <td>-1240.257910</td>\n",
       "      <td>40</td>\n",
       "      <td>среднее</td>\n",
       "      <td>1</td>\n",
       "      <td>женат / замужем</td>\n",
       "      <td>0</td>\n",
       "      <td>F</td>\n",
       "      <td>сотрудник</td>\n",
       "      <td>1</td>\n",
       "      <td>133524.010303</td>\n",
       "      <td>свой автомобиль</td>\n",
       "    </tr>\n",
       "    <tr>\n",
       "      <th>21272</th>\n",
       "      <td>20</td>\n",
       "      <td>-601.174883</td>\n",
       "      <td>37</td>\n",
       "      <td>среднее</td>\n",
       "      <td>1</td>\n",
       "      <td>женат / замужем</td>\n",
       "      <td>0</td>\n",
       "      <td>F</td>\n",
       "      <td>компаньон</td>\n",
       "      <td>0</td>\n",
       "      <td>102986.065978</td>\n",
       "      <td>профильное образование</td>\n",
       "    </tr>\n",
       "    <tr>\n",
       "      <th>21337</th>\n",
       "      <td>20</td>\n",
       "      <td>NaN</td>\n",
       "      <td>53</td>\n",
       "      <td>среднее</td>\n",
       "      <td>1</td>\n",
       "      <td>женат / замужем</td>\n",
       "      <td>0</td>\n",
       "      <td>M</td>\n",
       "      <td>компаньон</td>\n",
       "      <td>0</td>\n",
       "      <td>NaN</td>\n",
       "      <td>покупка жилой недвижимости</td>\n",
       "    </tr>\n",
       "    <tr>\n",
       "      <th>21351</th>\n",
       "      <td>20</td>\n",
       "      <td>-494.788448</td>\n",
       "      <td>52</td>\n",
       "      <td>среднее</td>\n",
       "      <td>1</td>\n",
       "      <td>женат / замужем</td>\n",
       "      <td>0</td>\n",
       "      <td>M</td>\n",
       "      <td>компаньон</td>\n",
       "      <td>0</td>\n",
       "      <td>156629.683642</td>\n",
       "      <td>операции со своей недвижимостью</td>\n",
       "    </tr>\n",
       "    <tr>\n",
       "      <th>21437</th>\n",
       "      <td>20</td>\n",
       "      <td>-173.954460</td>\n",
       "      <td>27</td>\n",
       "      <td>среднее</td>\n",
       "      <td>1</td>\n",
       "      <td>женат / замужем</td>\n",
       "      <td>0</td>\n",
       "      <td>F</td>\n",
       "      <td>сотрудник</td>\n",
       "      <td>0</td>\n",
       "      <td>155520.899688</td>\n",
       "      <td>на покупку подержанного автомобиля</td>\n",
       "    </tr>\n",
       "  </tbody>\n",
       "</table>\n",
       "<p>76 rows × 12 columns</p>\n",
       "</div>"
      ],
      "text/plain": [
       "       children  days_employed  dob_years education  education_id  \\\n",
       "606          20    -880.221113         21   среднее             1   \n",
       "720          20    -855.595512         44   среднее             1   \n",
       "1074         20   -3310.411598         56   среднее             1   \n",
       "2510         20   -2714.161249         59    высшее             0   \n",
       "2940         20   -2161.591519          0   среднее             1   \n",
       "...         ...            ...        ...       ...           ...   \n",
       "20958        20   -1240.257910         40   среднее             1   \n",
       "21272        20    -601.174883         37   среднее             1   \n",
       "21337        20            NaN         53   среднее             1   \n",
       "21351        20    -494.788448         52   среднее             1   \n",
       "21437        20    -173.954460         27   среднее             1   \n",
       "\n",
       "         family_status  family_status_id gender income_type  debt  \\\n",
       "606    женат / замужем                 0      M   компаньон     0   \n",
       "720    женат / замужем                 0      F   компаньон     0   \n",
       "1074   женат / замужем                 0      F   сотрудник     1   \n",
       "2510    вдовец / вдова                 2      F   сотрудник     0   \n",
       "2940   женат / замужем                 0      F   сотрудник     0   \n",
       "...                ...               ...    ...         ...   ...   \n",
       "20958  женат / замужем                 0      F   сотрудник     1   \n",
       "21272  женат / замужем                 0      F   компаньон     0   \n",
       "21337  женат / замужем                 0      M   компаньон     0   \n",
       "21351  женат / замужем                 0      M   компаньон     0   \n",
       "21437  женат / замужем                 0      F   сотрудник     0   \n",
       "\n",
       "        total_income                                purpose  \n",
       "606    145334.865002                          покупка жилья  \n",
       "720    112998.738649                   покупка недвижимости  \n",
       "1074   229518.537004                  получение образования  \n",
       "2510   264474.835577  операции с коммерческой недвижимостью  \n",
       "2940   199739.941398                  на покупку автомобиля  \n",
       "...              ...                                    ...  \n",
       "20958  133524.010303                        свой автомобиль  \n",
       "21272  102986.065978                 профильное образование  \n",
       "21337            NaN             покупка жилой недвижимости  \n",
       "21351  156629.683642        операции со своей недвижимостью  \n",
       "21437  155520.899688     на покупку подержанного автомобиля  \n",
       "\n",
       "[76 rows x 12 columns]"
      ]
     },
     "execution_count": 9,
     "metadata": {},
     "output_type": "execute_result"
    }
   ],
   "source": [
    "df[df['children'] == 20]"
   ]
  },
  {
   "cell_type": "markdown",
   "id": "ac7925c5",
   "metadata": {},
   "source": [
    "Обнаруженная аномалия\"-1\" и \"20\" в столбце children, хорошо видна при нахождении уникальных значений.  "
   ]
  },
  {
   "cell_type": "code",
   "execution_count": 10,
   "id": "edfdc2b3",
   "metadata": {},
   "outputs": [],
   "source": [
    "df['days_employed'] = abs(df['days_employed'])#уберем отрицательные значения с помочью модуля\n",
    "df['children'] = abs(df['children'])"
   ]
  },
  {
   "cell_type": "code",
   "execution_count": 11,
   "id": "58fa1fd6",
   "metadata": {},
   "outputs": [
    {
     "data": {
      "text/plain": [
       "array([1, 0, 3, 2, 4, 5], dtype=int64)"
      ]
     },
     "execution_count": 11,
     "metadata": {},
     "output_type": "execute_result"
    }
   ],
   "source": [
    "df.loc[df['children']==20, 'children']=2 #заменим 20 на значение 2\n",
    "df['children'].unique()"
   ]
  },
  {
   "cell_type": "code",
   "execution_count": 12,
   "id": "f702aac9",
   "metadata": {},
   "outputs": [
    {
     "data": {
      "image/png": "[encoded data removed]",
      "text/plain": [
       "<Figure size 640x480 with 1 Axes>"
      ]
     },
     "metadata": {},
     "output_type": "display_data"
    }
   ],
   "source": [
    "df.plot(y='days_employed', kind='hist',bins=100, grid=True, title='Распределение клиентов по трудовому стажу', legend=False)\n",
    "plt.xlabel('Трудовой стаж в днях')\n",
    "plt.ylabel('Количество клиентов')\n",
    "plt.show()"
   ]
  },
  {
   "cell_type": "code",
   "execution_count": 13,
   "id": "d1419fb6",
   "metadata": {},
   "outputs": [
    {
     "data": {
      "text/plain": [
       "count     19351.000000\n",
       "mean      66914.728907\n",
       "std      139030.880527\n",
       "min          24.141633\n",
       "25%         927.009265\n",
       "50%        2194.220567\n",
       "75%        5537.882441\n",
       "max      401755.400475\n",
       "Name: days_employed, dtype: float64"
      ]
     },
     "execution_count": 13,
     "metadata": {},
     "output_type": "execute_result"
    }
   ],
   "source": [
    "df['days_employed'].describe()"
   ]
  },
  {
   "cell_type": "code",
   "execution_count": 14,
   "id": "e6ef501b",
   "metadata": {},
   "outputs": [
    {
     "data": {
      "text/plain": [
       "(-0.001, 10000.0]       15646\n",
       "(300000.0, 450000.0]     3445\n",
       "(10000.0, 20000.0]        260\n",
       "(20000.0, 300000.0]         0\n",
       "Name: days_employed, dtype: int64"
      ]
     },
     "execution_count": 14,
     "metadata": {},
     "output_type": "execute_result"
    }
   ],
   "source": [
    "df['days_employed'].value_counts(bins = [0,10000,20000,300000,450000])"
   ]
  },
  {
   "cell_type": "markdown",
   "id": "68f13fbc",
   "metadata": {},
   "source": [
    "3445 клиентов имеют стаж больше 800 лет. Заменим данные значения медианой,без учета аномалий."
   ]
  },
  {
   "cell_type": "code",
   "execution_count": 15,
   "id": "fd28cafb",
   "metadata": {},
   "outputs": [
    {
     "data": {
      "text/plain": [
       "1630.0193809778218"
      ]
     },
     "execution_count": 15,
     "metadata": {},
     "output_type": "execute_result"
    }
   ],
   "source": [
    "mediana_days = df[df['days_employed'] < 20000]['days_employed'].median()\n",
    "mediana_days "
   ]
  },
  {
   "cell_type": "code",
   "execution_count": 16,
   "id": "6bf9877f",
   "metadata": {},
   "outputs": [],
   "source": [
    "def days_employed_modify(x):\n",
    "    if x > 20000:\n",
    "        x = mediana_days\n",
    "        return x\n",
    "    else :\n",
    "        return x"
   ]
  },
  {
   "cell_type": "code",
   "execution_count": 17,
   "id": "3d0c731b",
   "metadata": {},
   "outputs": [],
   "source": [
    "df['days_employed'] = df['days_employed'].apply(days_employed_modify)"
   ]
  },
  {
   "cell_type": "code",
   "execution_count": 18,
   "id": "25f57847",
   "metadata": {},
   "outputs": [
    {
     "data": {
      "image/png": "[encoded data removed]",
      "text/plain": [
       "<Figure size 640x480 with 1 Axes>"
      ]
     },
     "metadata": {},
     "output_type": "display_data"
    }
   ],
   "source": [
    "df.plot(y='days_employed', kind='hist',bins=100, grid=True, title='Распределение клиентов по трудовому стажу', legend=False)\n",
    "plt.xlabel('Трудовой стаж в днях')\n",
    "plt.ylabel('Количество клиентов')\n",
    "plt.show()"
   ]
  },
  {
   "cell_type": "code",
   "execution_count": 19,
   "id": "85c2f8e6",
   "metadata": {},
   "outputs": [
    {
     "data": {
      "image/png": "[encoded data removed]",
      "text/plain": [
       "<Figure size 640x480 with 1 Axes>"
      ]
     },
     "metadata": {},
     "output_type": "display_data"
    }
   ],
   "source": [
    "df.plot(y='dob_years', kind='hist', bins=75, grid=True, title='Распределение клиентов по возрасту', legend=False)\n",
    "plt.xlabel('Возраст клиента в годах')\n",
    "plt.ylabel('Количество клиентов')\n",
    "plt.show()"
   ]
  },
  {
   "cell_type": "markdown",
   "id": "63094128",
   "metadata": {},
   "source": [
    "### Шаг 2.2 Заполнение пропусков"
   ]
  },
  {
   "cell_type": "code",
   "execution_count": 20,
   "id": "dde761a7",
   "metadata": {},
   "outputs": [],
   "source": [
    "df['days_employed'] = df['days_employed'].fillna(df['days_employed'].median())\n",
    "df['total_income'] = df['total_income'].fillna(df['total_income'].median())"
   ]
  },
  {
   "cell_type": "markdown",
   "id": "f252397e",
   "metadata": {},
   "source": [
    "Медиана устойчива к выбросам,поэтому находим медиану и заполняем ей пропуски."
   ]
  },
  {
   "cell_type": "markdown",
   "id": "e5ab2870",
   "metadata": {},
   "source": [
    "### Шаг 2.3. Изменение типов данных."
   ]
  },
  {
   "cell_type": "code",
   "execution_count": 21,
   "id": "c50f0599",
   "metadata": {},
   "outputs": [
    {
     "name": "stdout",
     "output_type": "stream",
     "text": [
      "<class 'pandas.core.frame.DataFrame'>\n",
      "RangeIndex: 21471 entries, 0 to 21470\n",
      "Data columns (total 12 columns):\n",
      " #   Column            Non-Null Count  Dtype  \n",
      "---  ------            --------------  -----  \n",
      " 0   children          21471 non-null  int64  \n",
      " 1   days_employed     21471 non-null  float64\n",
      " 2   dob_years         21471 non-null  int64  \n",
      " 3   education         21471 non-null  object \n",
      " 4   education_id      21471 non-null  int64  \n",
      " 5   family_status     21471 non-null  object \n",
      " 6   family_status_id  21471 non-null  int64  \n",
      " 7   gender            21471 non-null  object \n",
      " 8   income_type       21471 non-null  object \n",
      " 9   debt              21471 non-null  int64  \n",
      " 10  total_income      21471 non-null  float64\n",
      " 11  purpose           21471 non-null  object \n",
      "dtypes: float64(2), int64(5), object(5)\n",
      "memory usage: 2.0+ MB\n"
     ]
    }
   ],
   "source": [
    "df.info()"
   ]
  },
  {
   "cell_type": "code",
   "execution_count": 22,
   "id": "d1e211fb",
   "metadata": {},
   "outputs": [],
   "source": [
    "df['days_employed'] = df['days_employed'].astype('int')"
   ]
  },
  {
   "cell_type": "markdown",
   "id": "68f23498",
   "metadata": {},
   "source": [
    "### Шаг 2.4. Удаление дубликатов."
   ]
  },
  {
   "cell_type": "code",
   "execution_count": 23,
   "id": "5ee21613",
   "metadata": {},
   "outputs": [
    {
     "data": {
      "text/plain": [
       "array(['высшее', 'среднее', 'Среднее', 'СРЕДНЕЕ', 'ВЫСШЕЕ',\n",
       "       'неоконченное высшее', 'начальное', 'Высшее',\n",
       "       'НЕОКОНЧЕННОЕ ВЫСШЕЕ', 'Неоконченное высшее', 'НАЧАЛЬНОЕ',\n",
       "       'Начальное', 'Ученая степень', 'УЧЕНАЯ СТЕПЕНЬ', 'ученая степень'],\n",
       "      dtype=object)"
      ]
     },
     "execution_count": 23,
     "metadata": {},
     "output_type": "execute_result"
    }
   ],
   "source": [
    "df['education'].unique()"
   ]
  },
  {
   "cell_type": "markdown",
   "id": "19443595",
   "metadata": {},
   "source": [
    "Присутствуют дубликаты, из-за разного регистра, необходимо привести к одному регистру."
   ]
  },
  {
   "cell_type": "code",
   "execution_count": 24,
   "id": "cd4ccf6a",
   "metadata": {
    "scrolled": false
   },
   "outputs": [
    {
     "data": {
      "text/plain": [
       "array(['высшее', 'среднее', 'неоконченное высшее', 'начальное',\n",
       "       'ученая степень'], dtype=object)"
      ]
     },
     "execution_count": 24,
     "metadata": {},
     "output_type": "execute_result"
    }
   ],
   "source": [
    "df['education'] = df['education'].str.lower()\n",
    "df['education'].unique()"
   ]
  },
  {
   "cell_type": "code",
   "execution_count": 25,
   "id": "77397cb4",
   "metadata": {},
   "outputs": [
    {
     "data": {
      "text/plain": [
       "array([0, 1, 2, 3, 4], dtype=int64)"
      ]
     },
     "execution_count": 25,
     "metadata": {},
     "output_type": "execute_result"
    }
   ],
   "source": [
    "df['education_id'].unique()"
   ]
  },
  {
   "cell_type": "code",
   "execution_count": 26,
   "id": "90dd0c3c",
   "metadata": {},
   "outputs": [
    {
     "data": {
      "text/plain": [
       "array(['женат / замужем', 'гражданский брак', 'вдовец / вдова',\n",
       "       'в разводе', 'Не женат / не замужем'], dtype=object)"
      ]
     },
     "execution_count": 26,
     "metadata": {},
     "output_type": "execute_result"
    }
   ],
   "source": [
    "df['family_status'].unique()"
   ]
  },
  {
   "cell_type": "code",
   "execution_count": 27,
   "id": "d6d541e0",
   "metadata": {},
   "outputs": [
    {
     "data": {
      "text/plain": [
       "array([0, 1, 2, 3, 4], dtype=int64)"
      ]
     },
     "execution_count": 27,
     "metadata": {},
     "output_type": "execute_result"
    }
   ],
   "source": [
    "df['family_status_id'].unique()"
   ]
  },
  {
   "cell_type": "code",
   "execution_count": 28,
   "id": "c7b8b8e7",
   "metadata": {},
   "outputs": [
    {
     "data": {
      "text/plain": [
       "array(['F', 'M', 'XNA'], dtype=object)"
      ]
     },
     "execution_count": 28,
     "metadata": {},
     "output_type": "execute_result"
    }
   ],
   "source": [
    "df['gender'].unique()"
   ]
  },
  {
   "cell_type": "code",
   "execution_count": 29,
   "id": "2ff344eb",
   "metadata": {},
   "outputs": [
    {
     "data": {
      "text/html": [
       "<div>\n",
       "<style scoped>\n",
       "    .dataframe tbody tr th:only-of-type {\n",
       "        vertical-align: middle;\n",
       "    }\n",
       "\n",
       "    .dataframe tbody tr th {\n",
       "        vertical-align: top;\n",
       "    }\n",
       "\n",
       "    .dataframe thead th {\n",
       "        text-align: right;\n",
       "    }\n",
       "</style>\n",
       "<table border=\"1\" class=\"dataframe\">\n",
       "  <thead>\n",
       "    <tr style=\"text-align: right;\">\n",
       "      <th></th>\n",
       "      <th>children</th>\n",
       "      <th>days_employed</th>\n",
       "      <th>dob_years</th>\n",
       "      <th>education</th>\n",
       "      <th>education_id</th>\n",
       "      <th>family_status</th>\n",
       "      <th>family_status_id</th>\n",
       "      <th>gender</th>\n",
       "      <th>income_type</th>\n",
       "      <th>debt</th>\n",
       "      <th>total_income</th>\n",
       "      <th>purpose</th>\n",
       "    </tr>\n",
       "  </thead>\n",
       "  <tbody>\n",
       "    <tr>\n",
       "      <th>10690</th>\n",
       "      <td>0</td>\n",
       "      <td>2358</td>\n",
       "      <td>24</td>\n",
       "      <td>неоконченное высшее</td>\n",
       "      <td>2</td>\n",
       "      <td>гражданский брак</td>\n",
       "      <td>1</td>\n",
       "      <td>XNA</td>\n",
       "      <td>компаньон</td>\n",
       "      <td>0</td>\n",
       "      <td>203905.157261</td>\n",
       "      <td>покупка недвижимости</td>\n",
       "    </tr>\n",
       "  </tbody>\n",
       "</table>\n",
       "</div>"
      ],
      "text/plain": [
       "       children  days_employed  dob_years            education  education_id  \\\n",
       "10690         0           2358         24  неоконченное высшее             2   \n",
       "\n",
       "          family_status  family_status_id gender income_type  debt  \\\n",
       "10690  гражданский брак                 1    XNA   компаньон     0   \n",
       "\n",
       "        total_income               purpose  \n",
       "10690  203905.157261  покупка недвижимости  "
      ]
     },
     "execution_count": 29,
     "metadata": {},
     "output_type": "execute_result"
    }
   ],
   "source": [
    "df[df['gender']=='XNA']"
   ]
  },
  {
   "cell_type": "markdown",
   "id": "aabe1d07",
   "metadata": {},
   "source": [
    "В столбце \"gender\" замечена 1 ошибка."
   ]
  },
  {
   "cell_type": "code",
   "execution_count": 30,
   "id": "d1aefac0",
   "metadata": {},
   "outputs": [
    {
     "data": {
      "text/plain": [
       "array(['сотрудник', 'пенсионер', 'компаньон', 'госслужащий',\n",
       "       'безработный', 'предприниматель', 'студент', 'в декрете'],\n",
       "      dtype=object)"
      ]
     },
     "execution_count": 30,
     "metadata": {},
     "output_type": "execute_result"
    }
   ],
   "source": [
    "df['income_type'].unique()"
   ]
  },
  {
   "cell_type": "code",
   "execution_count": 31,
   "id": "1ab30a10",
   "metadata": {
    "scrolled": true
   },
   "outputs": [
    {
     "data": {
      "text/plain": [
       "array(['покупка жилья', 'приобретение автомобиля',\n",
       "       'дополнительное образование', 'сыграть свадьбу',\n",
       "       'операции с жильем', 'образование', 'на проведение свадьбы',\n",
       "       'покупка жилья для семьи', 'покупка недвижимости',\n",
       "       'покупка коммерческой недвижимости', 'покупка жилой недвижимости',\n",
       "       'строительство собственной недвижимости', 'недвижимость',\n",
       "       'строительство недвижимости', 'на покупку подержанного автомобиля',\n",
       "       'на покупку своего автомобиля',\n",
       "       'операции с коммерческой недвижимостью',\n",
       "       'строительство жилой недвижимости', 'жилье',\n",
       "       'операции со своей недвижимостью', 'автомобили',\n",
       "       'заняться образованием', 'сделка с подержанным автомобилем',\n",
       "       'получение образования', 'автомобиль', 'свадьба',\n",
       "       'получение дополнительного образования', 'покупка своего жилья',\n",
       "       'операции с недвижимостью', 'получение высшего образования',\n",
       "       'свой автомобиль', 'сделка с автомобилем',\n",
       "       'профильное образование', 'высшее образование',\n",
       "       'покупка жилья для сдачи', 'на покупку автомобиля', 'ремонт жилью',\n",
       "       'заняться высшим образованием'], dtype=object)"
      ]
     },
     "execution_count": 31,
     "metadata": {},
     "output_type": "execute_result"
    }
   ],
   "source": [
    "df['purpose'].unique()"
   ]
  },
  {
   "cell_type": "markdown",
   "id": "71053871",
   "metadata": {},
   "source": [
    "При проверки остальных столбцов, дубликаты из-за разного регистра не обнаружены. В столбце purpose есть близкие по смыслу значения."
   ]
  },
  {
   "cell_type": "markdown",
   "id": "cf6abe70",
   "metadata": {},
   "source": [
    "### Шаг 2.5. Формирование дополнительных датафреймов словарей, декомпозиция исходного датафрейма."
   ]
  },
  {
   "cell_type": "markdown",
   "id": "e972d18b",
   "metadata": {},
   "source": [
    "Сопоставление значений столбцов"
   ]
  },
  {
   "cell_type": "code",
   "execution_count": 32,
   "id": "710268ce",
   "metadata": {},
   "outputs": [
    {
     "data": {
      "text/html": [
       "<div>\n",
       "<style scoped>\n",
       "    .dataframe tbody tr th:only-of-type {\n",
       "        vertical-align: middle;\n",
       "    }\n",
       "\n",
       "    .dataframe tbody tr th {\n",
       "        vertical-align: top;\n",
       "    }\n",
       "\n",
       "    .dataframe thead th {\n",
       "        text-align: right;\n",
       "    }\n",
       "</style>\n",
       "<table border=\"1\" class=\"dataframe\">\n",
       "  <thead>\n",
       "    <tr style=\"text-align: right;\">\n",
       "      <th></th>\n",
       "      <th>education</th>\n",
       "      <th>education_id</th>\n",
       "    </tr>\n",
       "  </thead>\n",
       "  <tbody>\n",
       "    <tr>\n",
       "      <th>0</th>\n",
       "      <td>высшее</td>\n",
       "      <td>0</td>\n",
       "    </tr>\n",
       "    <tr>\n",
       "      <th>1</th>\n",
       "      <td>среднее</td>\n",
       "      <td>1</td>\n",
       "    </tr>\n",
       "    <tr>\n",
       "      <th>2</th>\n",
       "      <td>неоконченное высшее</td>\n",
       "      <td>2</td>\n",
       "    </tr>\n",
       "    <tr>\n",
       "      <th>3</th>\n",
       "      <td>начальное</td>\n",
       "      <td>3</td>\n",
       "    </tr>\n",
       "    <tr>\n",
       "      <th>4</th>\n",
       "      <td>ученая степень</td>\n",
       "      <td>4</td>\n",
       "    </tr>\n",
       "  </tbody>\n",
       "</table>\n",
       "</div>"
      ],
      "text/plain": [
       "             education  education_id\n",
       "0               высшее             0\n",
       "1              среднее             1\n",
       "2  неоконченное высшее             2\n",
       "3            начальное             3\n",
       "4       ученая степень             4"
      ]
     },
     "execution_count": 32,
     "metadata": {},
     "output_type": "execute_result"
    }
   ],
   "source": [
    "dictionary_education = df[['education','education_id']]\n",
    "dictionary_education = dictionary_education.drop_duplicates().reset_index(drop=True)\n",
    "dictionary_education"
   ]
  },
  {
   "cell_type": "code",
   "execution_count": 33,
   "id": "c1ec2232",
   "metadata": {},
   "outputs": [
    {
     "data": {
      "text/html": [
       "<div>\n",
       "<style scoped>\n",
       "    .dataframe tbody tr th:only-of-type {\n",
       "        vertical-align: middle;\n",
       "    }\n",
       "\n",
       "    .dataframe tbody tr th {\n",
       "        vertical-align: top;\n",
       "    }\n",
       "\n",
       "    .dataframe thead th {\n",
       "        text-align: right;\n",
       "    }\n",
       "</style>\n",
       "<table border=\"1\" class=\"dataframe\">\n",
       "  <thead>\n",
       "    <tr style=\"text-align: right;\">\n",
       "      <th></th>\n",
       "      <th>family_status</th>\n",
       "      <th>family_status_id</th>\n",
       "    </tr>\n",
       "  </thead>\n",
       "  <tbody>\n",
       "    <tr>\n",
       "      <th>0</th>\n",
       "      <td>женат / замужем</td>\n",
       "      <td>0</td>\n",
       "    </tr>\n",
       "    <tr>\n",
       "      <th>1</th>\n",
       "      <td>гражданский брак</td>\n",
       "      <td>1</td>\n",
       "    </tr>\n",
       "    <tr>\n",
       "      <th>2</th>\n",
       "      <td>вдовец / вдова</td>\n",
       "      <td>2</td>\n",
       "    </tr>\n",
       "    <tr>\n",
       "      <th>3</th>\n",
       "      <td>в разводе</td>\n",
       "      <td>3</td>\n",
       "    </tr>\n",
       "    <tr>\n",
       "      <th>4</th>\n",
       "      <td>Не женат / не замужем</td>\n",
       "      <td>4</td>\n",
       "    </tr>\n",
       "  </tbody>\n",
       "</table>\n",
       "</div>"
      ],
      "text/plain": [
       "           family_status  family_status_id\n",
       "0        женат / замужем                 0\n",
       "1       гражданский брак                 1\n",
       "2         вдовец / вдова                 2\n",
       "3              в разводе                 3\n",
       "4  Не женат / не замужем                 4"
      ]
     },
     "execution_count": 33,
     "metadata": {},
     "output_type": "execute_result"
    }
   ],
   "source": [
    "dictionary_family_status = df[['family_status','family_status_id']]\n",
    "dictionary_family_status = dictionary_family_status.drop_duplicates().reset_index(drop=True)\n",
    "dictionary_family_status"
   ]
  },
  {
   "cell_type": "markdown",
   "id": "014e1784",
   "metadata": {},
   "source": [
    "### Шаг 2.6. Категоризация дохода."
   ]
  },
  {
   "cell_type": "markdown",
   "id": "edbcb956",
   "metadata": {},
   "source": [
    "На основании диапазонов, указанных ниже, создадим столбец total_income_category с категориями дохода с помощью метода cut():\n",
    "\n",
    "- 0 - 30000 - 'E'\n",
    "- 30001 - 50000 - 'D'\n",
    "- 50001 - 200000 - 'C'\n",
    "- 200001 - 1000000 - 'B'\n",
    "- 1000001 и выше - 'A'"
   ]
  },
  {
   "cell_type": "code",
   "execution_count": 34,
   "id": "5ea7b011",
   "metadata": {
    "code_folding": []
   },
   "outputs": [],
   "source": [
    "df['total_income_category'] = pd.cut(x=df['total_income'], \n",
    "                                     bins=[0, 30_000, 50_000, 200_000, 1_000_000, np.inf],\n",
    "                                     labels=['E', 'D', 'C', 'B', 'A'],\n",
    "                                     include_lowest=True)"
   ]
  },
  {
   "cell_type": "markdown",
   "id": "2cf211e2",
   "metadata": {},
   "source": [
    "Добавляем столбец с категориями по уровню дохода."
   ]
  },
  {
   "cell_type": "code",
   "execution_count": 35,
   "id": "e40defa1",
   "metadata": {},
   "outputs": [
    {
     "data": {
      "text/plain": [
       "C    16033\n",
       "B     5041\n",
       "D      350\n",
       "A       25\n",
       "E       22\n",
       "Name: total_income_category, dtype: int64"
      ]
     },
     "execution_count": 35,
     "metadata": {},
     "output_type": "execute_result"
    }
   ],
   "source": [
    "df['total_income_category'].value_counts()"
   ]
  },
  {
   "cell_type": "markdown",
   "id": "93cb7215",
   "metadata": {},
   "source": [
    "### Шаг 2.7. Категоризация целей кредита."
   ]
  },
  {
   "cell_type": "code",
   "execution_count": 36,
   "id": "b1784679",
   "metadata": {
    "code_folding": []
   },
   "outputs": [],
   "source": [
    "def purpose_category(purpose):\n",
    "    if ('жиль'  in purpose)|('недвиж' in purpose):\n",
    "        return 'операции с недвижимостью'\n",
    "    if 'автомоб' in purpose:\n",
    "        return 'операции с автомобилем'\n",
    "    if 'свадь' in purpose:\n",
    "        return 'проведение свадьбы'\n",
    "    if 'образов' in purpose:\n",
    "        return 'получение образования'"
   ]
  },
  {
   "cell_type": "code",
   "execution_count": 37,
   "id": "8a77de77",
   "metadata": {},
   "outputs": [
    {
     "data": {
      "text/html": [
       "<div>\n",
       "<style scoped>\n",
       "    .dataframe tbody tr th:only-of-type {\n",
       "        vertical-align: middle;\n",
       "    }\n",
       "\n",
       "    .dataframe tbody tr th {\n",
       "        vertical-align: top;\n",
       "    }\n",
       "\n",
       "    .dataframe thead th {\n",
       "        text-align: right;\n",
       "    }\n",
       "</style>\n",
       "<table border=\"1\" class=\"dataframe\">\n",
       "  <thead>\n",
       "    <tr style=\"text-align: right;\">\n",
       "      <th></th>\n",
       "      <th>children</th>\n",
       "      <th>days_employed</th>\n",
       "      <th>dob_years</th>\n",
       "      <th>education</th>\n",
       "      <th>education_id</th>\n",
       "      <th>family_status</th>\n",
       "      <th>family_status_id</th>\n",
       "      <th>gender</th>\n",
       "      <th>income_type</th>\n",
       "      <th>debt</th>\n",
       "      <th>total_income</th>\n",
       "      <th>purpose</th>\n",
       "      <th>total_income_category</th>\n",
       "      <th>purpose_category</th>\n",
       "    </tr>\n",
       "  </thead>\n",
       "  <tbody>\n",
       "    <tr>\n",
       "      <th>0</th>\n",
       "      <td>1</td>\n",
       "      <td>8437</td>\n",
       "      <td>42</td>\n",
       "      <td>высшее</td>\n",
       "      <td>0</td>\n",
       "      <td>женат / замужем</td>\n",
       "      <td>0</td>\n",
       "      <td>F</td>\n",
       "      <td>сотрудник</td>\n",
       "      <td>0</td>\n",
       "      <td>253875.639453</td>\n",
       "      <td>покупка жилья</td>\n",
       "      <td>B</td>\n",
       "      <td>операции с недвижимостью</td>\n",
       "    </tr>\n",
       "    <tr>\n",
       "      <th>1</th>\n",
       "      <td>1</td>\n",
       "      <td>4024</td>\n",
       "      <td>36</td>\n",
       "      <td>среднее</td>\n",
       "      <td>1</td>\n",
       "      <td>женат / замужем</td>\n",
       "      <td>0</td>\n",
       "      <td>F</td>\n",
       "      <td>сотрудник</td>\n",
       "      <td>0</td>\n",
       "      <td>112080.014102</td>\n",
       "      <td>приобретение автомобиля</td>\n",
       "      <td>C</td>\n",
       "      <td>операции с автомобилем</td>\n",
       "    </tr>\n",
       "    <tr>\n",
       "      <th>2</th>\n",
       "      <td>0</td>\n",
       "      <td>5623</td>\n",
       "      <td>33</td>\n",
       "      <td>среднее</td>\n",
       "      <td>1</td>\n",
       "      <td>женат / замужем</td>\n",
       "      <td>0</td>\n",
       "      <td>M</td>\n",
       "      <td>сотрудник</td>\n",
       "      <td>0</td>\n",
       "      <td>145885.952297</td>\n",
       "      <td>покупка жилья</td>\n",
       "      <td>C</td>\n",
       "      <td>операции с недвижимостью</td>\n",
       "    </tr>\n",
       "    <tr>\n",
       "      <th>3</th>\n",
       "      <td>3</td>\n",
       "      <td>4124</td>\n",
       "      <td>32</td>\n",
       "      <td>среднее</td>\n",
       "      <td>1</td>\n",
       "      <td>женат / замужем</td>\n",
       "      <td>0</td>\n",
       "      <td>M</td>\n",
       "      <td>сотрудник</td>\n",
       "      <td>0</td>\n",
       "      <td>267628.550329</td>\n",
       "      <td>дополнительное образование</td>\n",
       "      <td>B</td>\n",
       "      <td>получение образования</td>\n",
       "    </tr>\n",
       "    <tr>\n",
       "      <th>4</th>\n",
       "      <td>0</td>\n",
       "      <td>1630</td>\n",
       "      <td>53</td>\n",
       "      <td>среднее</td>\n",
       "      <td>1</td>\n",
       "      <td>гражданский брак</td>\n",
       "      <td>1</td>\n",
       "      <td>F</td>\n",
       "      <td>пенсионер</td>\n",
       "      <td>0</td>\n",
       "      <td>158616.077870</td>\n",
       "      <td>сыграть свадьбу</td>\n",
       "      <td>C</td>\n",
       "      <td>проведение свадьбы</td>\n",
       "    </tr>\n",
       "    <tr>\n",
       "      <th>5</th>\n",
       "      <td>0</td>\n",
       "      <td>926</td>\n",
       "      <td>27</td>\n",
       "      <td>высшее</td>\n",
       "      <td>0</td>\n",
       "      <td>гражданский брак</td>\n",
       "      <td>1</td>\n",
       "      <td>M</td>\n",
       "      <td>компаньон</td>\n",
       "      <td>0</td>\n",
       "      <td>255763.565419</td>\n",
       "      <td>покупка жилья</td>\n",
       "      <td>B</td>\n",
       "      <td>операции с недвижимостью</td>\n",
       "    </tr>\n",
       "    <tr>\n",
       "      <th>6</th>\n",
       "      <td>0</td>\n",
       "      <td>2879</td>\n",
       "      <td>43</td>\n",
       "      <td>высшее</td>\n",
       "      <td>0</td>\n",
       "      <td>женат / замужем</td>\n",
       "      <td>0</td>\n",
       "      <td>F</td>\n",
       "      <td>компаньон</td>\n",
       "      <td>0</td>\n",
       "      <td>240525.971920</td>\n",
       "      <td>операции с жильем</td>\n",
       "      <td>B</td>\n",
       "      <td>операции с недвижимостью</td>\n",
       "    </tr>\n",
       "    <tr>\n",
       "      <th>7</th>\n",
       "      <td>0</td>\n",
       "      <td>152</td>\n",
       "      <td>50</td>\n",
       "      <td>среднее</td>\n",
       "      <td>1</td>\n",
       "      <td>женат / замужем</td>\n",
       "      <td>0</td>\n",
       "      <td>M</td>\n",
       "      <td>сотрудник</td>\n",
       "      <td>0</td>\n",
       "      <td>135823.934197</td>\n",
       "      <td>образование</td>\n",
       "      <td>C</td>\n",
       "      <td>получение образования</td>\n",
       "    </tr>\n",
       "    <tr>\n",
       "      <th>8</th>\n",
       "      <td>2</td>\n",
       "      <td>6929</td>\n",
       "      <td>35</td>\n",
       "      <td>высшее</td>\n",
       "      <td>0</td>\n",
       "      <td>гражданский брак</td>\n",
       "      <td>1</td>\n",
       "      <td>F</td>\n",
       "      <td>сотрудник</td>\n",
       "      <td>0</td>\n",
       "      <td>95856.832424</td>\n",
       "      <td>на проведение свадьбы</td>\n",
       "      <td>C</td>\n",
       "      <td>проведение свадьбы</td>\n",
       "    </tr>\n",
       "    <tr>\n",
       "      <th>9</th>\n",
       "      <td>0</td>\n",
       "      <td>2188</td>\n",
       "      <td>41</td>\n",
       "      <td>среднее</td>\n",
       "      <td>1</td>\n",
       "      <td>женат / замужем</td>\n",
       "      <td>0</td>\n",
       "      <td>M</td>\n",
       "      <td>сотрудник</td>\n",
       "      <td>0</td>\n",
       "      <td>144425.938277</td>\n",
       "      <td>покупка жилья для семьи</td>\n",
       "      <td>C</td>\n",
       "      <td>операции с недвижимостью</td>\n",
       "    </tr>\n",
       "  </tbody>\n",
       "</table>\n",
       "</div>"
      ],
      "text/plain": [
       "   children  days_employed  dob_years education  education_id  \\\n",
       "0         1           8437         42    высшее             0   \n",
       "1         1           4024         36   среднее             1   \n",
       "2         0           5623         33   среднее             1   \n",
       "3         3           4124         32   среднее             1   \n",
       "4         0           1630         53   среднее             1   \n",
       "5         0            926         27    высшее             0   \n",
       "6         0           2879         43    высшее             0   \n",
       "7         0            152         50   среднее             1   \n",
       "8         2           6929         35    высшее             0   \n",
       "9         0           2188         41   среднее             1   \n",
       "\n",
       "      family_status  family_status_id gender income_type  debt   total_income  \\\n",
       "0   женат / замужем                 0      F   сотрудник     0  253875.639453   \n",
       "1   женат / замужем                 0      F   сотрудник     0  112080.014102   \n",
       "2   женат / замужем                 0      M   сотрудник     0  145885.952297   \n",
       "3   женат / замужем                 0      M   сотрудник     0  267628.550329   \n",
       "4  гражданский брак                 1      F   пенсионер     0  158616.077870   \n",
       "5  гражданский брак                 1      M   компаньон     0  255763.565419   \n",
       "6   женат / замужем                 0      F   компаньон     0  240525.971920   \n",
       "7   женат / замужем                 0      M   сотрудник     0  135823.934197   \n",
       "8  гражданский брак                 1      F   сотрудник     0   95856.832424   \n",
       "9   женат / замужем                 0      M   сотрудник     0  144425.938277   \n",
       "\n",
       "                      purpose total_income_category          purpose_category  \n",
       "0               покупка жилья                     B  операции с недвижимостью  \n",
       "1     приобретение автомобиля                     C    операции с автомобилем  \n",
       "2               покупка жилья                     C  операции с недвижимостью  \n",
       "3  дополнительное образование                     B     получение образования  \n",
       "4             сыграть свадьбу                     C        проведение свадьбы  \n",
       "5               покупка жилья                     B  операции с недвижимостью  \n",
       "6           операции с жильем                     B  операции с недвижимостью  \n",
       "7                 образование                     C     получение образования  \n",
       "8       на проведение свадьбы                     C        проведение свадьбы  \n",
       "9     покупка жилья для семьи                     C  операции с недвижимостью  "
      ]
     },
     "execution_count": 37,
     "metadata": {},
     "output_type": "execute_result"
    }
   ],
   "source": [
    "df['purpose_category'] = df['purpose'].apply(purpose_category)\n",
    "df.head(10)"
   ]
  },
  {
   "cell_type": "code",
   "execution_count": 38,
   "id": "dbe5e379",
   "metadata": {},
   "outputs": [
    {
     "data": {
      "text/html": [
       "<div>\n",
       "<style scoped>\n",
       "    .dataframe tbody tr th:only-of-type {\n",
       "        vertical-align: middle;\n",
       "    }\n",
       "\n",
       "    .dataframe tbody tr th {\n",
       "        vertical-align: top;\n",
       "    }\n",
       "\n",
       "    .dataframe thead th {\n",
       "        text-align: right;\n",
       "    }\n",
       "</style>\n",
       "<table border=\"1\" class=\"dataframe\">\n",
       "  <thead>\n",
       "    <tr style=\"text-align: right;\">\n",
       "      <th></th>\n",
       "      <th>children</th>\n",
       "      <th>days_employed</th>\n",
       "      <th>dob_years</th>\n",
       "      <th>education</th>\n",
       "      <th>education_id</th>\n",
       "      <th>family_status</th>\n",
       "      <th>family_status_id</th>\n",
       "      <th>gender</th>\n",
       "      <th>income_type</th>\n",
       "      <th>debt</th>\n",
       "      <th>total_income_category</th>\n",
       "      <th>purpose_category</th>\n",
       "    </tr>\n",
       "  </thead>\n",
       "  <tbody>\n",
       "    <tr>\n",
       "      <th>0</th>\n",
       "      <td>1</td>\n",
       "      <td>8437</td>\n",
       "      <td>42</td>\n",
       "      <td>высшее</td>\n",
       "      <td>0</td>\n",
       "      <td>женат / замужем</td>\n",
       "      <td>0</td>\n",
       "      <td>F</td>\n",
       "      <td>сотрудник</td>\n",
       "      <td>0</td>\n",
       "      <td>B</td>\n",
       "      <td>операции с недвижимостью</td>\n",
       "    </tr>\n",
       "    <tr>\n",
       "      <th>1</th>\n",
       "      <td>1</td>\n",
       "      <td>4024</td>\n",
       "      <td>36</td>\n",
       "      <td>среднее</td>\n",
       "      <td>1</td>\n",
       "      <td>женат / замужем</td>\n",
       "      <td>0</td>\n",
       "      <td>F</td>\n",
       "      <td>сотрудник</td>\n",
       "      <td>0</td>\n",
       "      <td>C</td>\n",
       "      <td>операции с автомобилем</td>\n",
       "    </tr>\n",
       "    <tr>\n",
       "      <th>2</th>\n",
       "      <td>0</td>\n",
       "      <td>5623</td>\n",
       "      <td>33</td>\n",
       "      <td>среднее</td>\n",
       "      <td>1</td>\n",
       "      <td>женат / замужем</td>\n",
       "      <td>0</td>\n",
       "      <td>M</td>\n",
       "      <td>сотрудник</td>\n",
       "      <td>0</td>\n",
       "      <td>C</td>\n",
       "      <td>операции с недвижимостью</td>\n",
       "    </tr>\n",
       "    <tr>\n",
       "      <th>3</th>\n",
       "      <td>3</td>\n",
       "      <td>4124</td>\n",
       "      <td>32</td>\n",
       "      <td>среднее</td>\n",
       "      <td>1</td>\n",
       "      <td>женат / замужем</td>\n",
       "      <td>0</td>\n",
       "      <td>M</td>\n",
       "      <td>сотрудник</td>\n",
       "      <td>0</td>\n",
       "      <td>B</td>\n",
       "      <td>получение образования</td>\n",
       "    </tr>\n",
       "    <tr>\n",
       "      <th>4</th>\n",
       "      <td>0</td>\n",
       "      <td>1630</td>\n",
       "      <td>53</td>\n",
       "      <td>среднее</td>\n",
       "      <td>1</td>\n",
       "      <td>гражданский брак</td>\n",
       "      <td>1</td>\n",
       "      <td>F</td>\n",
       "      <td>пенсионер</td>\n",
       "      <td>0</td>\n",
       "      <td>C</td>\n",
       "      <td>проведение свадьбы</td>\n",
       "    </tr>\n",
       "    <tr>\n",
       "      <th>5</th>\n",
       "      <td>0</td>\n",
       "      <td>926</td>\n",
       "      <td>27</td>\n",
       "      <td>высшее</td>\n",
       "      <td>0</td>\n",
       "      <td>гражданский брак</td>\n",
       "      <td>1</td>\n",
       "      <td>M</td>\n",
       "      <td>компаньон</td>\n",
       "      <td>0</td>\n",
       "      <td>B</td>\n",
       "      <td>операции с недвижимостью</td>\n",
       "    </tr>\n",
       "    <tr>\n",
       "      <th>6</th>\n",
       "      <td>0</td>\n",
       "      <td>2879</td>\n",
       "      <td>43</td>\n",
       "      <td>высшее</td>\n",
       "      <td>0</td>\n",
       "      <td>женат / замужем</td>\n",
       "      <td>0</td>\n",
       "      <td>F</td>\n",
       "      <td>компаньон</td>\n",
       "      <td>0</td>\n",
       "      <td>B</td>\n",
       "      <td>операции с недвижимостью</td>\n",
       "    </tr>\n",
       "    <tr>\n",
       "      <th>7</th>\n",
       "      <td>0</td>\n",
       "      <td>152</td>\n",
       "      <td>50</td>\n",
       "      <td>среднее</td>\n",
       "      <td>1</td>\n",
       "      <td>женат / замужем</td>\n",
       "      <td>0</td>\n",
       "      <td>M</td>\n",
       "      <td>сотрудник</td>\n",
       "      <td>0</td>\n",
       "      <td>C</td>\n",
       "      <td>получение образования</td>\n",
       "    </tr>\n",
       "    <tr>\n",
       "      <th>8</th>\n",
       "      <td>2</td>\n",
       "      <td>6929</td>\n",
       "      <td>35</td>\n",
       "      <td>высшее</td>\n",
       "      <td>0</td>\n",
       "      <td>гражданский брак</td>\n",
       "      <td>1</td>\n",
       "      <td>F</td>\n",
       "      <td>сотрудник</td>\n",
       "      <td>0</td>\n",
       "      <td>C</td>\n",
       "      <td>проведение свадьбы</td>\n",
       "    </tr>\n",
       "    <tr>\n",
       "      <th>9</th>\n",
       "      <td>0</td>\n",
       "      <td>2188</td>\n",
       "      <td>41</td>\n",
       "      <td>среднее</td>\n",
       "      <td>1</td>\n",
       "      <td>женат / замужем</td>\n",
       "      <td>0</td>\n",
       "      <td>M</td>\n",
       "      <td>сотрудник</td>\n",
       "      <td>0</td>\n",
       "      <td>C</td>\n",
       "      <td>операции с недвижимостью</td>\n",
       "    </tr>\n",
       "  </tbody>\n",
       "</table>\n",
       "</div>"
      ],
      "text/plain": [
       "   children  days_employed  dob_years education  education_id  \\\n",
       "0         1           8437         42    высшее             0   \n",
       "1         1           4024         36   среднее             1   \n",
       "2         0           5623         33   среднее             1   \n",
       "3         3           4124         32   среднее             1   \n",
       "4         0           1630         53   среднее             1   \n",
       "5         0            926         27    высшее             0   \n",
       "6         0           2879         43    высшее             0   \n",
       "7         0            152         50   среднее             1   \n",
       "8         2           6929         35    высшее             0   \n",
       "9         0           2188         41   среднее             1   \n",
       "\n",
       "      family_status  family_status_id gender income_type  debt  \\\n",
       "0   женат / замужем                 0      F   сотрудник     0   \n",
       "1   женат / замужем                 0      F   сотрудник     0   \n",
       "2   женат / замужем                 0      M   сотрудник     0   \n",
       "3   женат / замужем                 0      M   сотрудник     0   \n",
       "4  гражданский брак                 1      F   пенсионер     0   \n",
       "5  гражданский брак                 1      M   компаньон     0   \n",
       "6   женат / замужем                 0      F   компаньон     0   \n",
       "7   женат / замужем                 0      M   сотрудник     0   \n",
       "8  гражданский брак                 1      F   сотрудник     0   \n",
       "9   женат / замужем                 0      M   сотрудник     0   \n",
       "\n",
       "  total_income_category          purpose_category  \n",
       "0                     B  операции с недвижимостью  \n",
       "1                     C    операции с автомобилем  \n",
       "2                     C  операции с недвижимостью  \n",
       "3                     B     получение образования  \n",
       "4                     C        проведение свадьбы  \n",
       "5                     B  операции с недвижимостью  \n",
       "6                     B  операции с недвижимостью  \n",
       "7                     C     получение образования  \n",
       "8                     C        проведение свадьбы  \n",
       "9                     C  операции с недвижимостью  "
      ]
     },
     "execution_count": 38,
     "metadata": {},
     "output_type": "execute_result"
    }
   ],
   "source": [
    "df = df.drop(['total_income','purpose'],axis=1) \n",
    "df.head(10)"
   ]
  },
  {
   "cell_type": "markdown",
   "id": "2a23d0d9",
   "metadata": {},
   "source": [
    "Убираем столбцы,которые использовали для составление категорий"
   ]
  },
  {
   "cell_type": "code",
   "execution_count": 39,
   "id": "2ede726a",
   "metadata": {},
   "outputs": [
    {
     "data": {
      "text/plain": [
       "операции с недвижимостью    10814\n",
       "операции с автомобилем       4308\n",
       "получение образования        4014\n",
       "проведение свадьбы           2335\n",
       "Name: purpose_category, dtype: int64"
      ]
     },
     "execution_count": 39,
     "metadata": {},
     "output_type": "execute_result"
    }
   ],
   "source": [
    "df['purpose_category'].value_counts()"
   ]
  },
  {
   "cell_type": "markdown",
   "id": "1794f61d",
   "metadata": {},
   "source": [
    "## Ответы на вопросы."
   ]
  },
  {
   "cell_type": "markdown",
   "id": "1155db67",
   "metadata": {},
   "source": [
    "### Вопрос 1:Есть ли зависимость между количеством детей и возвратом кредита в срок?"
   ]
  },
  {
   "cell_type": "code",
   "execution_count": 40,
   "id": "d408adc5",
   "metadata": {
    "scrolled": true
   },
   "outputs": [
    {
     "data": {
      "text/html": [
       "<div>\n",
       "<style scoped>\n",
       "    .dataframe tbody tr th:only-of-type {\n",
       "        vertical-align: middle;\n",
       "    }\n",
       "\n",
       "    .dataframe tbody tr th {\n",
       "        vertical-align: top;\n",
       "    }\n",
       "\n",
       "    .dataframe thead th {\n",
       "        text-align: right;\n",
       "    }\n",
       "</style>\n",
       "<table border=\"1\" class=\"dataframe\">\n",
       "  <thead>\n",
       "    <tr style=\"text-align: right;\">\n",
       "      <th></th>\n",
       "      <th>debt</th>\n",
       "    </tr>\n",
       "    <tr>\n",
       "      <th>children</th>\n",
       "      <th></th>\n",
       "    </tr>\n",
       "  </thead>\n",
       "  <tbody>\n",
       "    <tr>\n",
       "      <th>0</th>\n",
       "      <td>0.075353</td>\n",
       "    </tr>\n",
       "    <tr>\n",
       "      <th>1</th>\n",
       "      <td>0.091639</td>\n",
       "    </tr>\n",
       "    <tr>\n",
       "      <th>2</th>\n",
       "      <td>0.094925</td>\n",
       "    </tr>\n",
       "    <tr>\n",
       "      <th>3</th>\n",
       "      <td>0.081818</td>\n",
       "    </tr>\n",
       "    <tr>\n",
       "      <th>4</th>\n",
       "      <td>0.097561</td>\n",
       "    </tr>\n",
       "    <tr>\n",
       "      <th>5</th>\n",
       "      <td>0.000000</td>\n",
       "    </tr>\n",
       "  </tbody>\n",
       "</table>\n",
       "</div>"
      ],
      "text/plain": [
       "              debt\n",
       "children          \n",
       "0         0.075353\n",
       "1         0.091639\n",
       "2         0.094925\n",
       "3         0.081818\n",
       "4         0.097561\n",
       "5         0.000000"
      ]
     },
     "execution_count": 40,
     "metadata": {},
     "output_type": "execute_result"
    }
   ],
   "source": [
    "children_pivot = df.pivot_table(index='children',columns='debt',values='dob_years',aggfunc='count')\n",
    "children_pivot_mean = df.groupby(['children']).agg({'debt':'mean'})\n",
    "children_pivot_mean.head(10)"
   ]
  },
  {
   "cell_type": "code",
   "execution_count": 41,
   "id": "48b58ad1",
   "metadata": {},
   "outputs": [
    {
     "data": {
      "text/plain": [
       "9"
      ]
     },
     "execution_count": 41,
     "metadata": {},
     "output_type": "execute_result"
    }
   ],
   "source": [
    "len(df[df['children']==5]) #количество клиентов с 5 детьми в данной выборке"
   ]
  },
  {
   "cell_type": "markdown",
   "id": "dffdf466",
   "metadata": {},
   "source": [
    "На основании выше представленной таблицы можно сделать вывод:  \n",
    " - Клиенты без детей имеют в 7,5%  просроченных платежей. Это самый низкий процент, вероятно отсутствие детей положительно влияет на вероятность возврата кредита в срок.  \n",
    " \n",
    "По отношению к этой категории: \n",
    "- Клиенты с 1 ребенком имеют в 9,2%  просроченных платежей, что на 23% больше, чем клиенты без детей.\n",
    "- Клиенты с 2 детьми имеют в 9,4%  просроченных платежей, что на 27% больше, чем клиенты без детей.\n",
    "- Клиенты с 3 детьми имеют в 8,2%  просроченных платежей, что на 9% больше, чем клиенты без детей, и почти на 10% меньше, чем у клиенты с 1 ребенком. (Возможно, связано с поддержкой от государства для многодетных семей.)\n",
    "- Клиенты с 4 детьми имеют  в 9,8%  просроченных платежей, что на 30% больше, чем клиенты без детей, и на 20% больше, чем у клиенты с 3 детьми.(Поддержка от государства, в этом случае, так же присуствует, но здесь финансовая нагрузка на родителя больше, чем у людей 3 детьми)\n",
    "- Клиенты  с 5 детьми,в данной таблице, не имели задолженности. В таблице всего 9 клиентов с 5 детьми, нельзя с уверенностью сказать, что с  люди с 5 детьми не имеют просрочек по кредитам.\n",
    "\n",
    "Наличие детей является дополнительной финансовой нагрузкой на человека,что увеличивает вероятность выплаты кредита с нарушением срока."
   ]
  },
  {
   "cell_type": "markdown",
   "id": "5a5fbfdb",
   "metadata": {},
   "source": [
    "### Вопрос 2:Есть ли зависимость между семейным положением и возвратом кредита в срок?"
   ]
  },
  {
   "cell_type": "code",
   "execution_count": 42,
   "id": "20462fcc",
   "metadata": {
    "scrolled": true
   },
   "outputs": [
    {
     "data": {
      "text/html": [
       "<div>\n",
       "<style scoped>\n",
       "    .dataframe tbody tr th:only-of-type {\n",
       "        vertical-align: middle;\n",
       "    }\n",
       "\n",
       "    .dataframe tbody tr th {\n",
       "        vertical-align: top;\n",
       "    }\n",
       "\n",
       "    .dataframe thead th {\n",
       "        text-align: right;\n",
       "    }\n",
       "</style>\n",
       "<table border=\"1\" class=\"dataframe\">\n",
       "  <thead>\n",
       "    <tr style=\"text-align: right;\">\n",
       "      <th></th>\n",
       "      <th></th>\n",
       "      <th>debt</th>\n",
       "    </tr>\n",
       "    <tr>\n",
       "      <th>family_status_id</th>\n",
       "      <th>family_status</th>\n",
       "      <th></th>\n",
       "    </tr>\n",
       "  </thead>\n",
       "  <tbody>\n",
       "    <tr>\n",
       "      <th>0</th>\n",
       "      <th>женат / замужем</th>\n",
       "      <td>0.075421</td>\n",
       "    </tr>\n",
       "    <tr>\n",
       "      <th>1</th>\n",
       "      <th>гражданский брак</th>\n",
       "      <td>0.093202</td>\n",
       "    </tr>\n",
       "    <tr>\n",
       "      <th>2</th>\n",
       "      <th>вдовец / вдова</th>\n",
       "      <td>0.065693</td>\n",
       "    </tr>\n",
       "    <tr>\n",
       "      <th>3</th>\n",
       "      <th>в разводе</th>\n",
       "      <td>0.071130</td>\n",
       "    </tr>\n",
       "    <tr>\n",
       "      <th>4</th>\n",
       "      <th>Не женат / не замужем</th>\n",
       "      <td>0.097509</td>\n",
       "    </tr>\n",
       "  </tbody>\n",
       "</table>\n",
       "</div>"
      ],
      "text/plain": [
       "                                            debt\n",
       "family_status_id family_status                  \n",
       "0                женат / замужем        0.075421\n",
       "1                гражданский брак       0.093202\n",
       "2                вдовец / вдова         0.065693\n",
       "3                в разводе              0.071130\n",
       "4                Не женат / не замужем  0.097509"
      ]
     },
     "execution_count": 42,
     "metadata": {},
     "output_type": "execute_result"
    }
   ],
   "source": [
    "family_status_mean = df.groupby(['family_status_id','family_status']).agg({'debt':'mean'})\n",
    "family_status_mean.head(10)"
   ]
  },
  {
   "cell_type": "markdown",
   "id": "0623f83d",
   "metadata": {},
   "source": [
    " - Самый низкий процент просроченных платежей, имеют клиенты в статусе вдовец/вдова - 6,6%.  \n",
    " - Разведенные клиенты имеют в 7,1% ,имеют задолженность по возврату в срок, почти на 8% больше, чем в статусе вдовец/вдова.\n",
    " - Клиенты в браке имеют  в 7,5%, имеют задолженность по возврату в срок, почти на 14% больше,чем в статусе вдовец/вдова.\n",
    " - Клиенты в гражданском браке в 9,3% имеют задолженность по возврату в срок, почти на 41% больше, чем в статусе вдвовец/вдова\n",
    " - Клиенты в статусе не женат/не замужем имеют в 9,8% имеют задолженность по возврату в срок, почти на 49% больше, чем в статусе вдовец/вдова.\n",
    " - Клиенты, которые были или сейчас состоят в браке, имеют реже задолженность по возврату в срок, чем люди находящиеся в свободном статусе или гражанском браке. \n"
   ]
  },
  {
   "cell_type": "markdown",
   "id": "336a0764",
   "metadata": {},
   "source": [
    "### Вопрос 3:Есть ли зависимость между уровнем дохода и возвратом кредита в срок?"
   ]
  },
  {
   "cell_type": "code",
   "execution_count": 43,
   "id": "82d8cb6d",
   "metadata": {
    "scrolled": true
   },
   "outputs": [
    {
     "data": {
      "text/html": [
       "<div>\n",
       "<style scoped>\n",
       "    .dataframe tbody tr th:only-of-type {\n",
       "        vertical-align: middle;\n",
       "    }\n",
       "\n",
       "    .dataframe tbody tr th {\n",
       "        vertical-align: top;\n",
       "    }\n",
       "\n",
       "    .dataframe thead th {\n",
       "        text-align: right;\n",
       "    }\n",
       "</style>\n",
       "<table border=\"1\" class=\"dataframe\">\n",
       "  <thead>\n",
       "    <tr style=\"text-align: right;\">\n",
       "      <th></th>\n",
       "      <th>debt</th>\n",
       "    </tr>\n",
       "    <tr>\n",
       "      <th>total_income_category</th>\n",
       "      <th></th>\n",
       "    </tr>\n",
       "  </thead>\n",
       "  <tbody>\n",
       "    <tr>\n",
       "      <th>E</th>\n",
       "      <td>0.090909</td>\n",
       "    </tr>\n",
       "    <tr>\n",
       "      <th>D</th>\n",
       "      <td>0.060000</td>\n",
       "    </tr>\n",
       "    <tr>\n",
       "      <th>C</th>\n",
       "      <td>0.084825</td>\n",
       "    </tr>\n",
       "    <tr>\n",
       "      <th>B</th>\n",
       "      <td>0.070621</td>\n",
       "    </tr>\n",
       "    <tr>\n",
       "      <th>A</th>\n",
       "      <td>0.080000</td>\n",
       "    </tr>\n",
       "  </tbody>\n",
       "</table>\n",
       "</div>"
      ],
      "text/plain": [
       "                           debt\n",
       "total_income_category          \n",
       "E                      0.090909\n",
       "D                      0.060000\n",
       "C                      0.084825\n",
       "B                      0.070621\n",
       "A                      0.080000"
      ]
     },
     "execution_count": 43,
     "metadata": {},
     "output_type": "execute_result"
    }
   ],
   "source": [
    "total_income_mean = df.groupby(['total_income_category']).agg({'debt':'mean'})\n",
    "total_income_mean.head(10)"
   ]
  },
  {
   "cell_type": "markdown",
   "id": "2d1596cb",
   "metadata": {},
   "source": [
    " - Самый низкий процент задолженностей имеют клиенты с доходом выше 200 000 рублей, 6% просроченных платежей.\n",
    " \n",
    "По отношению к этой категории:\n",
    " - Клиенты с доходом до 30 000 рублей имеют 8% просроченных платежей,что 33% больше.\n",
    " - Клиенты с доходом от 30 000 до 50 000,имеют 7% просроченных платежей, что на 16% больше.\n",
    " - Клиенты с доходом от 50 000 до 200 000, имеют 8,5% просроченных платежей,что почти на 42% больше.\n",
    " - Клиенты с доходом от 1 млн, имеют 9,1% просроченных платежей,что почти на 52% больше. Большая зарплата несет за собой большую отвественность и риски, вероятнее всего, из-за этого процент увеличивается.\n",
    "\n",
    "\n"
   ]
  },
  {
   "cell_type": "markdown",
   "id": "4eeff431",
   "metadata": {},
   "source": [
    "### Вопрос 4:Как разные цели кредита влияют на его возврат в срок?"
   ]
  },
  {
   "cell_type": "code",
   "execution_count": 44,
   "id": "f7f96b6c",
   "metadata": {},
   "outputs": [
    {
     "data": {
      "text/html": [
       "<div>\n",
       "<style scoped>\n",
       "    .dataframe tbody tr th:only-of-type {\n",
       "        vertical-align: middle;\n",
       "    }\n",
       "\n",
       "    .dataframe tbody tr th {\n",
       "        vertical-align: top;\n",
       "    }\n",
       "\n",
       "    .dataframe thead th {\n",
       "        text-align: right;\n",
       "    }\n",
       "</style>\n",
       "<table border=\"1\" class=\"dataframe\">\n",
       "  <thead>\n",
       "    <tr style=\"text-align: right;\">\n",
       "      <th></th>\n",
       "      <th>debt</th>\n",
       "    </tr>\n",
       "    <tr>\n",
       "      <th>purpose_category</th>\n",
       "      <th></th>\n",
       "    </tr>\n",
       "  </thead>\n",
       "  <tbody>\n",
       "    <tr>\n",
       "      <th>операции с автомобилем</th>\n",
       "      <td>0.093547</td>\n",
       "    </tr>\n",
       "    <tr>\n",
       "      <th>операции с недвижимостью</th>\n",
       "      <td>0.072314</td>\n",
       "    </tr>\n",
       "    <tr>\n",
       "      <th>получение образования</th>\n",
       "      <td>0.092177</td>\n",
       "    </tr>\n",
       "    <tr>\n",
       "      <th>проведение свадьбы</th>\n",
       "      <td>0.079657</td>\n",
       "    </tr>\n",
       "  </tbody>\n",
       "</table>\n",
       "</div>"
      ],
      "text/plain": [
       "                              debt\n",
       "purpose_category                  \n",
       "операции с автомобилем    0.093547\n",
       "операции с недвижимостью  0.072314\n",
       "получение образования     0.092177\n",
       "проведение свадьбы        0.079657"
      ]
     },
     "execution_count": 44,
     "metadata": {},
     "output_type": "execute_result"
    }
   ],
   "source": [
    "purpose_category_mean = df.groupby(['purpose_category']).agg({'debt':'mean'})\n",
    "purpose_category_mean.head(10)"
   ]
  },
  {
   "cell_type": "markdown",
   "id": "cd5efb04",
   "metadata": {},
   "source": [
    " - Самый низкий процент просроченных платежей,по целям кредита имеют операции с недвижимостью - 7,2 % (Связанно залоговым имуществом)\n",
    " - Кредит с целью проведение свадьбы имеют почти в 8% задолженность по возврату кредита в срок, это на 10% больше, чем операции с недвижимостью. Процент не самый высокий, возможно в погашении идут подаренные деньги.\n",
    " - Операции с получением образования имеют задолженность в 9,2% ,это на 27% больше, чем операции с недвижимостью.\n",
    " - Операции с автомобилем имеют задолженность в 9,4%, это на 29% больше, чем операции с неджвижимостью.\n",
    " \n",
    " Самый низкий процент просроченных платежей имеют цели:операции с недвижимостью и проведение свадьбы"
   ]
  },
  {
   "cell_type": "markdown",
   "id": "48dd01c2",
   "metadata": {},
   "source": [
    "## Общий вывод:"
   ]
  },
  {
   "cell_type": "markdown",
   "id": "f4748040",
   "metadata": {},
   "source": [
    "- Самый низкий процент просроченных платежей клиенты без детей. 7,5% просроченных платежей.Отсутствие детей положительно влияет на вероятность возврата кредита в срок.\n",
    "- Самый низкий процент задолженности по возврату в срок имеют клиенты в статусе вдовец/вдова - 6,6%.Разведенные клиенты имеют в 7,1%.Клиенты, которые были или сейчас состоят в браке, имеют реже задолженность по возврату в срок, чем люди находящиеся в свободном статусе или гражанском браке.\n",
    "- Самый низкий процент просроченных платежей имеют клиенты с доходом выше 200 000 рублей, 6% просроченных платежей\n",
    "- Самый низкий процент просроченных платежей имеют цели:операции с недвижимостью  7,2 %  и проведение свадьбы 8%.\n",
    "- Семейное положение, наличие детей и уровень дохода влияют на вероятность задолженности по возврату кредита в срок.Хороший вариант заемщика, это человек, который находился или находится в браке, не имеет детей и его уровень дохода больше 200 000 рублей.\n",
    "- Цель кредита так же влияет на вероятность возврата в срок, риски банк закладывает в процентную ставку кредита. Операции с недвижимостью приносят меньше прибыли, чем автомобильные кредиты, за то вероятность вернуть деньги в срок больше. Здесь необходимо диверсифицировать по цели кредита, где меньше вероятность просрочки, выдавать чаще.А где выше риск просрочки выдавать реже,но заработок с них больше."
   ]
  }
 ],
 "metadata": {
  "ExecuteTimeLog": [
   {
    "duration": 295,
    "start_time": "2022-03-12T09:43:12.634Z"
   },
   {
    "duration": 565,
    "start_time": "2022-03-12T09:44:03.665Z"
   },
   {
    "duration": 45,
    "start_time": "2022-03-12T09:44:04.232Z"
   },
   {
    "duration": 23,
    "start_time": "2022-03-12T09:44:29.217Z"
   },
   {
    "duration": 11,
    "start_time": "2022-03-12T10:12:49.988Z"
   },
   {
    "duration": 11,
    "start_time": "2022-03-12T10:17:45.368Z"
   },
   {
    "duration": 3,
    "start_time": "2022-03-12T10:21:01.642Z"
   },
   {
    "duration": 3,
    "start_time": "2022-03-12T10:21:12.272Z"
   },
   {
    "duration": 10,
    "start_time": "2022-03-12T10:24:53.372Z"
   },
   {
    "duration": 4,
    "start_time": "2022-03-12T10:24:58.649Z"
   },
   {
    "duration": 4,
    "start_time": "2022-03-12T10:25:14.886Z"
   },
   {
    "duration": 5,
    "start_time": "2022-03-12T10:34:03.534Z"
   },
   {
    "duration": 3,
    "start_time": "2022-03-12T10:34:51.793Z"
   },
   {
    "duration": 6,
    "start_time": "2022-03-12T10:35:59.647Z"
   },
   {
    "duration": 5,
    "start_time": "2022-03-12T10:36:32.898Z"
   },
   {
    "duration": 129,
    "start_time": "2022-03-12T10:39:46.499Z"
   },
   {
    "duration": 1838,
    "start_time": "2022-03-12T10:40:29.965Z"
   },
   {
    "duration": 340,
    "start_time": "2022-03-12T10:40:46.580Z"
   },
   {
    "duration": 6737,
    "start_time": "2022-03-12T10:41:08.027Z"
   },
   {
    "duration": 5,
    "start_time": "2022-03-12T12:48:57.123Z"
   },
   {
    "duration": 19,
    "start_time": "2022-03-12T12:49:14.591Z"
   },
   {
    "duration": 6,
    "start_time": "2022-03-12T12:50:16.980Z"
   },
   {
    "duration": 6,
    "start_time": "2022-03-12T12:50:36.275Z"
   },
   {
    "duration": 279,
    "start_time": "2022-03-12T12:51:53.670Z"
   },
   {
    "duration": 265,
    "start_time": "2022-03-12T12:54:08.324Z"
   },
   {
    "duration": 3,
    "start_time": "2022-03-12T13:00:04.103Z"
   },
   {
    "duration": 54,
    "start_time": "2022-03-12T13:00:04.111Z"
   },
   {
    "duration": 29,
    "start_time": "2022-03-12T13:00:04.167Z"
   },
   {
    "duration": 14,
    "start_time": "2022-03-12T13:00:04.202Z"
   },
   {
    "duration": 419,
    "start_time": "2022-03-12T13:00:04.218Z"
   },
   {
    "duration": 9,
    "start_time": "2022-03-12T13:00:52.568Z"
   },
   {
    "duration": 88,
    "start_time": "2022-03-12T13:12:09.102Z"
   },
   {
    "duration": 6552,
    "start_time": "2022-03-12T13:12:46.174Z"
   },
   {
    "duration": 5,
    "start_time": "2022-03-12T13:17:20.496Z"
   },
   {
    "duration": 5,
    "start_time": "2022-03-12T13:18:15.096Z"
   },
   {
    "duration": 257,
    "start_time": "2022-03-12T13:18:45.993Z"
   },
   {
    "duration": 8,
    "start_time": "2022-03-12T13:21:34.516Z"
   },
   {
    "duration": 8,
    "start_time": "2022-03-12T13:22:24.060Z"
   },
   {
    "duration": 17,
    "start_time": "2022-03-12T13:22:36.673Z"
   },
   {
    "duration": 8,
    "start_time": "2022-03-12T13:22:59.489Z"
   },
   {
    "duration": 20,
    "start_time": "2022-03-12T13:23:04.333Z"
   },
   {
    "duration": 10,
    "start_time": "2022-03-12T13:25:38.733Z"
   },
   {
    "duration": 4,
    "start_time": "2022-03-12T13:25:51.851Z"
   },
   {
    "duration": 4,
    "start_time": "2022-03-12T13:26:11.192Z"
   },
   {
    "duration": 16,
    "start_time": "2022-03-12T13:27:43.143Z"
   },
   {
    "duration": 6,
    "start_time": "2022-03-12T13:28:05.831Z"
   },
   {
    "duration": 6,
    "start_time": "2022-03-12T13:28:28.778Z"
   },
   {
    "duration": 3,
    "start_time": "2022-03-12T13:28:57.852Z"
   },
   {
    "duration": 5,
    "start_time": "2022-03-12T13:29:07.843Z"
   },
   {
    "duration": 5,
    "start_time": "2022-03-12T13:29:35.613Z"
   },
   {
    "duration": 5,
    "start_time": "2022-03-12T13:29:38.716Z"
   },
   {
    "duration": 20,
    "start_time": "2022-03-12T13:29:50.418Z"
   },
   {
    "duration": 1852,
    "start_time": "2022-03-12T13:30:41.926Z"
   },
   {
    "duration": 20,
    "start_time": "2022-03-12T13:30:50.965Z"
   },
   {
    "duration": 21,
    "start_time": "2022-03-12T13:31:52.464Z"
   },
   {
    "duration": 116,
    "start_time": "2022-03-12T13:33:38.437Z"
   },
   {
    "duration": 267,
    "start_time": "2022-03-12T13:33:44.217Z"
   },
   {
    "duration": 674,
    "start_time": "2022-03-12T13:35:03.589Z"
   },
   {
    "duration": 3829,
    "start_time": "2022-03-12T13:35:31.018Z"
   },
   {
    "duration": 7,
    "start_time": "2022-03-12T13:39:46.774Z"
   },
   {
    "duration": 6,
    "start_time": "2022-03-12T13:44:54.852Z"
   },
   {
    "duration": 6,
    "start_time": "2022-03-12T13:55:23.653Z"
   },
   {
    "duration": 547,
    "start_time": "2022-03-13T16:14:36.666Z"
   },
   {
    "duration": 45,
    "start_time": "2022-03-13T16:14:37.215Z"
   },
   {
    "duration": 25,
    "start_time": "2022-03-13T16:14:37.262Z"
   },
   {
    "duration": 10,
    "start_time": "2022-03-13T16:14:37.289Z"
   },
   {
    "duration": 10,
    "start_time": "2022-03-13T16:14:37.301Z"
   },
   {
    "duration": 10,
    "start_time": "2022-03-13T16:14:37.338Z"
   },
   {
    "duration": 7,
    "start_time": "2022-03-13T16:14:37.350Z"
   },
   {
    "duration": 10,
    "start_time": "2022-03-13T16:14:37.360Z"
   },
   {
    "duration": 58,
    "start_time": "2022-03-13T16:14:37.373Z"
   },
   {
    "duration": -104013,
    "start_time": "2022-03-13T16:16:21.447Z"
   },
   {
    "duration": 22,
    "start_time": "2022-03-13T16:14:51.204Z"
   },
   {
    "duration": 5,
    "start_time": "2022-03-13T16:14:58.877Z"
   },
   {
    "duration": 6,
    "start_time": "2022-03-13T16:16:15.766Z"
   },
   {
    "duration": 4,
    "start_time": "2022-03-13T16:16:45.943Z"
   },
   {
    "duration": 7,
    "start_time": "2022-03-13T16:18:12.441Z"
   },
   {
    "duration": 7,
    "start_time": "2022-03-13T16:18:16.924Z"
   },
   {
    "duration": 10,
    "start_time": "2022-03-13T16:26:21.751Z"
   },
   {
    "duration": 67,
    "start_time": "2022-03-13T16:29:01.058Z"
   },
   {
    "duration": 10,
    "start_time": "2022-03-13T16:31:55.399Z"
   },
   {
    "duration": 7,
    "start_time": "2022-03-13T16:37:35.525Z"
   },
   {
    "duration": 20,
    "start_time": "2022-03-13T16:37:49.749Z"
   },
   {
    "duration": 19,
    "start_time": "2022-03-13T16:53:18.545Z"
   },
   {
    "duration": 65,
    "start_time": "2022-03-13T16:57:49.148Z"
   },
   {
    "duration": 7,
    "start_time": "2022-03-13T16:58:15.861Z"
   },
   {
    "duration": 8,
    "start_time": "2022-03-13T16:58:52.181Z"
   },
   {
    "duration": 8,
    "start_time": "2022-03-13T16:59:57.396Z"
   },
   {
    "duration": 9,
    "start_time": "2022-03-13T17:00:19.663Z"
   },
   {
    "duration": 5,
    "start_time": "2022-03-13T17:00:57.161Z"
   },
   {
    "duration": 6,
    "start_time": "2022-03-13T17:01:07.043Z"
   },
   {
    "duration": 833,
    "start_time": "2022-03-14T09:58:59.290Z"
   },
   {
    "duration": 27,
    "start_time": "2022-03-14T09:59:00.126Z"
   },
   {
    "duration": 16,
    "start_time": "2022-03-14T09:59:00.157Z"
   },
   {
    "duration": 12,
    "start_time": "2022-03-14T09:59:00.176Z"
   },
   {
    "duration": 133,
    "start_time": "2022-03-14T09:59:00.190Z"
   },
   {
    "duration": 28,
    "start_time": "2022-03-14T09:59:00.325Z"
   },
   {
    "duration": 15,
    "start_time": "2022-03-14T09:59:00.356Z"
   },
   {
    "duration": 10,
    "start_time": "2022-03-14T09:59:00.376Z"
   },
   {
    "duration": 14,
    "start_time": "2022-03-14T09:59:00.389Z"
   },
   {
    "duration": 7,
    "start_time": "2022-03-14T09:59:00.406Z"
   },
   {
    "duration": 74,
    "start_time": "2022-03-14T10:06:08.695Z"
   },
   {
    "duration": 415,
    "start_time": "2022-03-14T10:07:28.380Z"
   },
   {
    "duration": 5,
    "start_time": "2022-03-14T10:11:34.253Z"
   },
   {
    "duration": 18,
    "start_time": "2022-03-14T10:11:49.241Z"
   },
   {
    "duration": 345,
    "start_time": "2022-03-14T10:12:43.317Z"
   },
   {
    "duration": 5,
    "start_time": "2022-03-14T10:12:54.779Z"
   },
   {
    "duration": 8,
    "start_time": "2022-03-14T10:15:00.000Z"
   },
   {
    "duration": 9,
    "start_time": "2022-03-14T10:15:14.931Z"
   },
   {
    "duration": 6,
    "start_time": "2022-03-14T10:16:25.547Z"
   },
   {
    "duration": 75,
    "start_time": "2022-03-14T10:20:30.223Z"
   },
   {
    "duration": 15,
    "start_time": "2022-03-14T10:20:30.300Z"
   },
   {
    "duration": 38,
    "start_time": "2022-03-14T10:20:30.317Z"
   },
   {
    "duration": 4,
    "start_time": "2022-03-14T10:20:30.358Z"
   },
   {
    "duration": 7,
    "start_time": "2022-03-14T10:20:30.447Z"
   },
   {
    "duration": 7,
    "start_time": "2022-03-14T10:20:30.514Z"
   },
   {
    "duration": 7,
    "start_time": "2022-03-14T10:20:30.523Z"
   },
   {
    "duration": 18,
    "start_time": "2022-03-14T10:20:30.533Z"
   },
   {
    "duration": 102,
    "start_time": "2022-03-14T10:20:30.553Z"
   },
   {
    "duration": 9,
    "start_time": "2022-03-14T10:20:30.658Z"
   },
   {
    "duration": 27,
    "start_time": "2022-03-14T10:20:30.670Z"
   },
   {
    "duration": 8,
    "start_time": "2022-03-14T10:20:30.699Z"
   },
   {
    "duration": 10,
    "start_time": "2022-03-14T10:20:30.709Z"
   },
   {
    "duration": 336,
    "start_time": "2022-03-14T10:23:28.452Z"
   },
   {
    "duration": 292,
    "start_time": "2022-03-14T10:24:19.650Z"
   },
   {
    "duration": 18,
    "start_time": "2022-03-14T10:24:51.749Z"
   },
   {
    "duration": 6,
    "start_time": "2022-03-14T10:33:19.692Z"
   },
   {
    "duration": 21,
    "start_time": "2022-03-14T10:33:32.786Z"
   },
   {
    "duration": 8,
    "start_time": "2022-03-14T10:34:11.161Z"
   },
   {
    "duration": 7,
    "start_time": "2022-03-14T10:35:17.209Z"
   },
   {
    "duration": 7,
    "start_time": "2022-03-14T10:35:35.503Z"
   },
   {
    "duration": 6,
    "start_time": "2022-03-14T10:37:31.451Z"
   },
   {
    "duration": 1353,
    "start_time": "2022-03-14T10:50:25.942Z"
   },
   {
    "duration": 1359,
    "start_time": "2022-03-14T10:50:44.881Z"
   },
   {
    "duration": 785,
    "start_time": "2022-03-14T10:53:08.845Z"
   },
   {
    "duration": 6,
    "start_time": "2022-03-14T11:02:11.613Z"
   },
   {
    "duration": 6,
    "start_time": "2022-03-14T11:02:15.444Z"
   },
   {
    "duration": 13,
    "start_time": "2022-03-14T11:02:31.060Z"
   },
   {
    "duration": 340,
    "start_time": "2022-03-14T11:03:50.655Z"
   },
   {
    "duration": 16,
    "start_time": "2022-03-14T11:04:22.463Z"
   },
   {
    "duration": 17,
    "start_time": "2022-03-14T11:06:22.944Z"
   },
   {
    "duration": 18,
    "start_time": "2022-03-14T11:06:38.300Z"
   },
   {
    "duration": 16,
    "start_time": "2022-03-14T11:06:50.513Z"
   },
   {
    "duration": 314,
    "start_time": "2022-03-14T11:15:44.628Z"
   },
   {
    "duration": 448,
    "start_time": "2022-03-14T11:18:27.220Z"
   },
   {
    "duration": 33,
    "start_time": "2022-03-14T11:18:36.144Z"
   },
   {
    "duration": 31,
    "start_time": "2022-03-14T11:18:59.928Z"
   },
   {
    "duration": 344,
    "start_time": "2022-03-14T11:19:15.823Z"
   },
   {
    "duration": 306,
    "start_time": "2022-03-14T11:19:21.131Z"
   },
   {
    "duration": 306,
    "start_time": "2022-03-14T11:19:26.462Z"
   },
   {
    "duration": 335,
    "start_time": "2022-03-14T11:19:32.822Z"
   },
   {
    "duration": 328,
    "start_time": "2022-03-14T11:19:42.063Z"
   },
   {
    "duration": 294,
    "start_time": "2022-03-14T11:19:48.959Z"
   },
   {
    "duration": 437,
    "start_time": "2022-03-14T11:20:20.949Z"
   },
   {
    "duration": 332,
    "start_time": "2022-03-14T11:21:29.772Z"
   },
   {
    "duration": 483,
    "start_time": "2022-03-14T11:21:34.180Z"
   },
   {
    "duration": 373,
    "start_time": "2022-03-14T11:22:05.938Z"
   },
   {
    "duration": 364,
    "start_time": "2022-03-14T11:23:02.571Z"
   },
   {
    "duration": 309,
    "start_time": "2022-03-14T11:23:08.153Z"
   },
   {
    "duration": 334,
    "start_time": "2022-03-14T11:24:36.585Z"
   },
   {
    "duration": 487,
    "start_time": "2022-03-14T11:24:45.669Z"
   },
   {
    "duration": 335,
    "start_time": "2022-03-14T11:36:02.862Z"
   },
   {
    "duration": 298,
    "start_time": "2022-03-14T11:36:12.829Z"
   },
   {
    "duration": 333,
    "start_time": "2022-03-14T11:36:31.171Z"
   },
   {
    "duration": 364,
    "start_time": "2022-03-14T11:36:59.375Z"
   },
   {
    "duration": 347,
    "start_time": "2022-03-14T11:37:38.470Z"
   },
   {
    "duration": 330,
    "start_time": "2022-03-14T11:40:46.077Z"
   },
   {
    "duration": 337,
    "start_time": "2022-03-14T11:41:42.045Z"
   },
   {
    "duration": 307,
    "start_time": "2022-03-14T11:41:57.797Z"
   },
   {
    "duration": 331,
    "start_time": "2022-03-14T11:43:36.885Z"
   },
   {
    "duration": 323,
    "start_time": "2022-03-14T11:43:45.475Z"
   },
   {
    "duration": 289,
    "start_time": "2022-03-14T11:44:14.614Z"
   },
   {
    "duration": 351,
    "start_time": "2022-03-14T11:44:34.455Z"
   },
   {
    "duration": 487,
    "start_time": "2022-03-14T11:46:03.095Z"
   },
   {
    "duration": 28,
    "start_time": "2022-03-14T11:46:28.700Z"
   },
   {
    "duration": 309,
    "start_time": "2022-03-14T12:04:13.564Z"
   },
   {
    "duration": 16,
    "start_time": "2022-03-14T12:12:22.532Z"
   },
   {
    "duration": 359,
    "start_time": "2022-03-14T12:12:53.139Z"
   },
   {
    "duration": 73,
    "start_time": "2022-03-14T12:13:49.576Z"
   },
   {
    "duration": 15,
    "start_time": "2022-03-14T12:13:49.651Z"
   },
   {
    "duration": 11,
    "start_time": "2022-03-14T12:13:49.669Z"
   },
   {
    "duration": 4,
    "start_time": "2022-03-14T12:13:49.683Z"
   },
   {
    "duration": 6,
    "start_time": "2022-03-14T12:13:49.689Z"
   },
   {
    "duration": 53,
    "start_time": "2022-03-14T12:13:49.698Z"
   },
   {
    "duration": 5,
    "start_time": "2022-03-14T12:13:49.753Z"
   },
   {
    "duration": 22,
    "start_time": "2022-03-14T12:13:49.761Z"
   },
   {
    "duration": 17,
    "start_time": "2022-03-14T12:13:49.786Z"
   },
   {
    "duration": 63,
    "start_time": "2022-03-14T12:13:49.805Z"
   },
   {
    "duration": 32,
    "start_time": "2022-03-14T12:13:49.871Z"
   },
   {
    "duration": 429,
    "start_time": "2022-03-14T12:14:57.036Z"
   },
   {
    "duration": 6,
    "start_time": "2022-03-14T12:15:40.270Z"
   },
   {
    "duration": 493,
    "start_time": "2022-03-14T12:15:45.000Z"
   },
   {
    "duration": 71,
    "start_time": "2022-03-14T12:15:56.925Z"
   },
   {
    "duration": 13,
    "start_time": "2022-03-14T12:15:56.999Z"
   },
   {
    "duration": 37,
    "start_time": "2022-03-14T12:15:57.015Z"
   },
   {
    "duration": 4,
    "start_time": "2022-03-14T12:15:57.055Z"
   },
   {
    "duration": 8,
    "start_time": "2022-03-14T12:15:57.061Z"
   },
   {
    "duration": 5,
    "start_time": "2022-03-14T12:15:57.072Z"
   },
   {
    "duration": 6,
    "start_time": "2022-03-14T12:15:57.079Z"
   },
   {
    "duration": 67,
    "start_time": "2022-03-14T12:15:57.088Z"
   },
   {
    "duration": 16,
    "start_time": "2022-03-14T12:15:57.157Z"
   },
   {
    "duration": 15,
    "start_time": "2022-03-14T12:15:57.175Z"
   },
   {
    "duration": 67,
    "start_time": "2022-03-14T12:15:57.192Z"
   },
   {
    "duration": 7,
    "start_time": "2022-03-14T12:22:39.505Z"
   },
   {
    "duration": 17,
    "start_time": "2022-03-14T13:35:10.928Z"
   },
   {
    "duration": 32,
    "start_time": "2022-03-14T13:35:23.085Z"
   },
   {
    "duration": 17,
    "start_time": "2022-03-14T13:36:00.433Z"
   },
   {
    "duration": 36,
    "start_time": "2022-03-14T13:36:01.933Z"
   },
   {
    "duration": 10,
    "start_time": "2022-03-14T13:40:56.890Z"
   },
   {
    "duration": 1601,
    "start_time": "2022-03-14T13:49:01.564Z"
   },
   {
    "duration": 39,
    "start_time": "2022-03-14T13:49:24.713Z"
   },
   {
    "duration": 34,
    "start_time": "2022-03-14T13:56:45.965Z"
   },
   {
    "duration": 381,
    "start_time": "2022-03-14T14:00:01.977Z"
   },
   {
    "duration": 36,
    "start_time": "2022-03-14T14:00:23.620Z"
   },
   {
    "duration": 23,
    "start_time": "2022-03-14T14:00:42.068Z"
   },
   {
    "duration": 21,
    "start_time": "2022-03-14T14:00:47.000Z"
   },
   {
    "duration": 75,
    "start_time": "2022-03-14T14:13:48.861Z"
   },
   {
    "duration": 21,
    "start_time": "2022-03-14T14:13:48.940Z"
   },
   {
    "duration": 16,
    "start_time": "2022-03-14T14:13:48.964Z"
   },
   {
    "duration": 5,
    "start_time": "2022-03-14T14:13:48.983Z"
   },
   {
    "duration": 13,
    "start_time": "2022-03-14T14:13:48.991Z"
   },
   {
    "duration": 7,
    "start_time": "2022-03-14T14:13:49.080Z"
   },
   {
    "duration": 8,
    "start_time": "2022-03-14T14:13:49.090Z"
   },
   {
    "duration": 42,
    "start_time": "2022-03-14T14:13:49.101Z"
   },
   {
    "duration": 18,
    "start_time": "2022-03-14T14:13:49.150Z"
   },
   {
    "duration": 16,
    "start_time": "2022-03-14T14:13:49.171Z"
   },
   {
    "duration": 74,
    "start_time": "2022-03-14T14:13:49.190Z"
   },
   {
    "duration": 21,
    "start_time": "2022-03-14T14:13:49.268Z"
   },
   {
    "duration": 10,
    "start_time": "2022-03-14T14:13:49.293Z"
   },
   {
    "duration": 76,
    "start_time": "2022-03-14T14:13:49.306Z"
   },
   {
    "duration": 24,
    "start_time": "2022-03-14T14:13:49.384Z"
   },
   {
    "duration": 24,
    "start_time": "2022-03-14T20:51:20.008Z"
   },
   {
    "duration": 17,
    "start_time": "2022-03-14T20:51:51.919Z"
   },
   {
    "duration": 6,
    "start_time": "2022-03-14T20:53:38.105Z"
   },
   {
    "duration": 9,
    "start_time": "2022-03-14T20:54:23.898Z"
   },
   {
    "duration": 8,
    "start_time": "2022-03-14T20:54:39.003Z"
   },
   {
    "duration": 5,
    "start_time": "2022-03-14T20:55:10.966Z"
   },
   {
    "duration": 25,
    "start_time": "2022-03-14T20:56:37.188Z"
   },
   {
    "duration": 376,
    "start_time": "2022-03-14T21:10:38.783Z"
   },
   {
    "duration": 1010,
    "start_time": "2022-03-14T21:11:43.589Z"
   },
   {
    "duration": 1115,
    "start_time": "2022-03-14T21:12:54.285Z"
   },
   {
    "duration": 21,
    "start_time": "2022-03-14T21:14:47.391Z"
   },
   {
    "duration": 34,
    "start_time": "2022-03-14T21:15:04.867Z"
   },
   {
    "duration": 37,
    "start_time": "2022-03-14T21:15:51.889Z"
   },
   {
    "duration": 15,
    "start_time": "2022-03-14T21:16:25.057Z"
   },
   {
    "duration": 76,
    "start_time": "2022-03-14T21:17:40.196Z"
   },
   {
    "duration": 18,
    "start_time": "2022-03-14T21:17:40.276Z"
   },
   {
    "duration": 12,
    "start_time": "2022-03-14T21:17:40.297Z"
   },
   {
    "duration": 43,
    "start_time": "2022-03-14T21:17:40.311Z"
   },
   {
    "duration": 8,
    "start_time": "2022-03-14T21:17:40.357Z"
   },
   {
    "duration": 6,
    "start_time": "2022-03-14T21:17:40.368Z"
   },
   {
    "duration": 7,
    "start_time": "2022-03-14T21:17:40.378Z"
   },
   {
    "duration": 85,
    "start_time": "2022-03-14T21:17:40.391Z"
   },
   {
    "duration": 21,
    "start_time": "2022-03-14T21:17:40.479Z"
   },
   {
    "duration": 61,
    "start_time": "2022-03-14T21:17:40.503Z"
   },
   {
    "duration": 27,
    "start_time": "2022-03-14T21:17:40.567Z"
   },
   {
    "duration": 59,
    "start_time": "2022-03-14T21:17:40.597Z"
   },
   {
    "duration": 12,
    "start_time": "2022-03-14T21:17:40.659Z"
   },
   {
    "duration": 34,
    "start_time": "2022-03-14T21:17:40.674Z"
   },
   {
    "duration": 60,
    "start_time": "2022-03-14T21:17:40.711Z"
   },
   {
    "duration": 15,
    "start_time": "2022-03-14T21:17:40.774Z"
   },
   {
    "duration": 12,
    "start_time": "2022-03-14T21:18:21.783Z"
   },
   {
    "duration": 28,
    "start_time": "2022-03-14T21:28:13.903Z"
   },
   {
    "duration": 29,
    "start_time": "2022-03-14T21:28:29.385Z"
   },
   {
    "duration": 541,
    "start_time": "2022-03-14T21:34:34.436Z"
   },
   {
    "duration": 28,
    "start_time": "2022-03-14T21:34:46.160Z"
   },
   {
    "duration": 6,
    "start_time": "2022-03-14T21:39:08.350Z"
   },
   {
    "duration": 20,
    "start_time": "2022-03-14T21:40:25.898Z"
   },
   {
    "duration": 1673,
    "start_time": "2022-03-14T21:42:02.156Z"
   },
   {
    "duration": 704,
    "start_time": "2022-03-14T21:42:45.834Z"
   },
   {
    "duration": 918,
    "start_time": "2022-03-14T21:43:40.920Z"
   },
   {
    "duration": 562,
    "start_time": "2022-03-14T21:46:44.864Z"
   },
   {
    "duration": 559,
    "start_time": "2022-03-14T21:47:22.645Z"
   },
   {
    "duration": 555,
    "start_time": "2022-03-14T21:55:10.172Z"
   },
   {
    "duration": 593,
    "start_time": "2022-03-14T21:56:24.630Z"
   },
   {
    "duration": 28,
    "start_time": "2022-03-14T21:56:34.328Z"
   },
   {
    "duration": 73,
    "start_time": "2022-03-14T21:56:59.576Z"
   },
   {
    "duration": 15,
    "start_time": "2022-03-14T21:56:59.652Z"
   },
   {
    "duration": 17,
    "start_time": "2022-03-14T21:56:59.671Z"
   },
   {
    "duration": 7,
    "start_time": "2022-03-14T21:56:59.691Z"
   },
   {
    "duration": 55,
    "start_time": "2022-03-14T21:56:59.701Z"
   },
   {
    "duration": 7,
    "start_time": "2022-03-14T21:56:59.759Z"
   },
   {
    "duration": 6,
    "start_time": "2022-03-14T21:56:59.769Z"
   },
   {
    "duration": 73,
    "start_time": "2022-03-14T21:56:59.779Z"
   },
   {
    "duration": 21,
    "start_time": "2022-03-14T21:56:59.856Z"
   },
   {
    "duration": 15,
    "start_time": "2022-03-14T21:56:59.879Z"
   },
   {
    "duration": 61,
    "start_time": "2022-03-14T21:56:59.897Z"
   },
   {
    "duration": 24,
    "start_time": "2022-03-14T21:56:59.960Z"
   },
   {
    "duration": 17,
    "start_time": "2022-03-14T21:56:59.987Z"
   },
   {
    "duration": 66,
    "start_time": "2022-03-14T21:57:00.007Z"
   },
   {
    "duration": 20,
    "start_time": "2022-03-14T21:57:00.075Z"
   },
   {
    "duration": 66,
    "start_time": "2022-03-14T21:57:00.098Z"
   },
   {
    "duration": 8,
    "start_time": "2022-03-14T22:09:48.709Z"
   },
   {
    "duration": 6,
    "start_time": "2022-03-14T22:10:35.034Z"
   },
   {
    "duration": 11,
    "start_time": "2022-03-14T22:11:48.942Z"
   },
   {
    "duration": 75,
    "start_time": "2022-03-14T22:11:54.119Z"
   },
   {
    "duration": 15,
    "start_time": "2022-03-14T22:11:54.197Z"
   },
   {
    "duration": 42,
    "start_time": "2022-03-14T22:11:54.216Z"
   },
   {
    "duration": 7,
    "start_time": "2022-03-14T22:11:54.262Z"
   },
   {
    "duration": 14,
    "start_time": "2022-03-14T22:11:54.272Z"
   },
   {
    "duration": 5,
    "start_time": "2022-03-14T22:11:54.288Z"
   },
   {
    "duration": 59,
    "start_time": "2022-03-14T22:11:54.296Z"
   },
   {
    "duration": 7,
    "start_time": "2022-03-14T22:11:54.360Z"
   },
   {
    "duration": 25,
    "start_time": "2022-03-14T22:11:54.369Z"
   },
   {
    "duration": 66,
    "start_time": "2022-03-14T22:11:54.396Z"
   },
   {
    "duration": 19,
    "start_time": "2022-03-14T22:11:54.464Z"
   },
   {
    "duration": 25,
    "start_time": "2022-03-14T22:11:54.486Z"
   },
   {
    "duration": 53,
    "start_time": "2022-03-14T22:11:54.513Z"
   },
   {
    "duration": 10,
    "start_time": "2022-03-14T22:11:54.568Z"
   },
   {
    "duration": 31,
    "start_time": "2022-03-14T22:11:54.580Z"
   },
   {
    "duration": 23,
    "start_time": "2022-03-14T22:11:54.652Z"
   },
   {
    "duration": 30,
    "start_time": "2022-03-14T22:11:54.678Z"
   },
   {
    "duration": 29,
    "start_time": "2022-03-14T22:16:08.575Z"
   },
   {
    "duration": 20,
    "start_time": "2022-03-14T22:16:38.852Z"
   },
   {
    "duration": 25,
    "start_time": "2022-03-14T22:16:45.667Z"
   },
   {
    "duration": 29,
    "start_time": "2022-03-14T22:17:26.227Z"
   },
   {
    "duration": 27,
    "start_time": "2022-03-14T22:17:58.734Z"
   },
   {
    "duration": 27,
    "start_time": "2022-03-14T22:19:22.245Z"
   },
   {
    "duration": 25,
    "start_time": "2022-03-14T22:20:03.781Z"
   },
   {
    "duration": 18,
    "start_time": "2022-03-14T22:22:36.298Z"
   },
   {
    "duration": 19,
    "start_time": "2022-03-14T22:23:06.281Z"
   },
   {
    "duration": 17,
    "start_time": "2022-03-14T22:30:04.151Z"
   },
   {
    "duration": 27,
    "start_time": "2022-03-14T22:31:48.542Z"
   },
   {
    "duration": 27,
    "start_time": "2022-03-14T22:31:52.580Z"
   },
   {
    "duration": 38,
    "start_time": "2022-03-14T22:32:01.575Z"
   },
   {
    "duration": 41,
    "start_time": "2022-03-14T22:35:09.420Z"
   },
   {
    "duration": 28,
    "start_time": "2022-03-14T22:35:18.990Z"
   },
   {
    "duration": 18,
    "start_time": "2022-03-14T22:35:58.355Z"
   },
   {
    "duration": 22,
    "start_time": "2022-03-14T22:36:32.297Z"
   },
   {
    "duration": 75,
    "start_time": "2022-03-14T22:36:39.733Z"
   },
   {
    "duration": 42,
    "start_time": "2022-03-14T22:36:39.811Z"
   },
   {
    "duration": 12,
    "start_time": "2022-03-14T22:36:39.856Z"
   },
   {
    "duration": 5,
    "start_time": "2022-03-14T22:36:39.871Z"
   },
   {
    "duration": 31,
    "start_time": "2022-03-14T22:36:39.878Z"
   },
   {
    "duration": 49,
    "start_time": "2022-03-14T22:36:39.911Z"
   },
   {
    "duration": 8,
    "start_time": "2022-03-14T22:36:39.963Z"
   },
   {
    "duration": 7,
    "start_time": "2022-03-14T22:36:39.974Z"
   },
   {
    "duration": 7,
    "start_time": "2022-03-14T22:36:39.988Z"
   },
   {
    "duration": 28,
    "start_time": "2022-03-14T22:36:40.051Z"
   },
   {
    "duration": 19,
    "start_time": "2022-03-14T22:36:40.082Z"
   },
   {
    "duration": 54,
    "start_time": "2022-03-14T22:36:40.104Z"
   },
   {
    "duration": 27,
    "start_time": "2022-03-14T22:36:40.161Z"
   },
   {
    "duration": 65,
    "start_time": "2022-03-14T22:36:40.191Z"
   },
   {
    "duration": 10,
    "start_time": "2022-03-14T22:36:40.259Z"
   },
   {
    "duration": 31,
    "start_time": "2022-03-14T22:36:40.273Z"
   },
   {
    "duration": 59,
    "start_time": "2022-03-14T22:36:40.307Z"
   },
   {
    "duration": 26,
    "start_time": "2022-03-14T22:36:40.368Z"
   },
   {
    "duration": 58,
    "start_time": "2022-03-14T22:36:40.396Z"
   },
   {
    "duration": 20,
    "start_time": "2022-03-14T22:36:40.457Z"
   },
   {
    "duration": 26,
    "start_time": "2022-03-14T22:36:40.479Z"
   },
   {
    "duration": 26,
    "start_time": "2022-03-14T22:42:32.420Z"
   },
   {
    "duration": 25,
    "start_time": "2022-03-14T22:43:09.599Z"
   },
   {
    "duration": 18,
    "start_time": "2022-03-14T22:43:26.220Z"
   },
   {
    "duration": 27,
    "start_time": "2022-03-14T22:44:00.160Z"
   },
   {
    "duration": 29,
    "start_time": "2022-03-14T22:45:21.677Z"
   },
   {
    "duration": 747,
    "start_time": "2022-03-14T22:45:31.930Z"
   },
   {
    "duration": 28,
    "start_time": "2022-03-14T22:46:04.583Z"
   },
   {
    "duration": 30,
    "start_time": "2022-03-14T22:59:48.876Z"
   },
   {
    "duration": 706,
    "start_time": "2022-03-14T23:01:37.266Z"
   },
   {
    "duration": 29,
    "start_time": "2022-03-14T23:02:13.291Z"
   },
   {
    "duration": 30,
    "start_time": "2022-03-14T23:03:33.556Z"
   },
   {
    "duration": 31,
    "start_time": "2022-03-14T23:04:32.080Z"
   },
   {
    "duration": 510,
    "start_time": "2022-03-14T23:23:16.310Z"
   },
   {
    "duration": 70,
    "start_time": "2022-03-14T23:37:50.295Z"
   },
   {
    "duration": 14,
    "start_time": "2022-03-14T23:37:50.368Z"
   },
   {
    "duration": 11,
    "start_time": "2022-03-14T23:37:50.385Z"
   },
   {
    "duration": 6,
    "start_time": "2022-03-14T23:37:50.398Z"
   },
   {
    "duration": 26,
    "start_time": "2022-03-14T23:37:50.453Z"
   },
   {
    "duration": 11,
    "start_time": "2022-03-14T23:37:50.567Z"
   },
   {
    "duration": 7,
    "start_time": "2022-03-14T23:37:50.659Z"
   },
   {
    "duration": 5,
    "start_time": "2022-03-14T23:37:50.668Z"
   },
   {
    "duration": 7,
    "start_time": "2022-03-14T23:37:50.783Z"
   },
   {
    "duration": 22,
    "start_time": "2022-03-14T23:37:50.794Z"
   },
   {
    "duration": 17,
    "start_time": "2022-03-14T23:37:50.818Z"
   },
   {
    "duration": 19,
    "start_time": "2022-03-14T23:37:50.838Z"
   },
   {
    "duration": 25,
    "start_time": "2022-03-14T23:37:50.859Z"
   },
   {
    "duration": 15,
    "start_time": "2022-03-14T23:37:50.944Z"
   },
   {
    "duration": 8,
    "start_time": "2022-03-14T23:37:51.061Z"
   },
   {
    "duration": 29,
    "start_time": "2022-03-14T23:37:51.076Z"
   },
   {
    "duration": 26,
    "start_time": "2022-03-14T23:37:51.108Z"
   },
   {
    "duration": 28,
    "start_time": "2022-03-14T23:37:51.327Z"
   },
   {
    "duration": 13,
    "start_time": "2022-03-14T23:37:51.672Z"
   },
   {
    "duration": 14,
    "start_time": "2022-03-14T23:37:51.859Z"
   },
   {
    "duration": 15,
    "start_time": "2022-03-14T23:37:52.300Z"
   },
   {
    "duration": 230,
    "start_time": "2022-03-14T23:37:52.317Z"
   },
   {
    "duration": -105466,
    "start_time": "2022-03-14T23:39:38.016Z"
   },
   {
    "duration": 843,
    "start_time": "2022-03-14T23:39:43.258Z"
   },
   {
    "duration": 82,
    "start_time": "2022-03-14T23:41:00.327Z"
   },
   {
    "duration": 14,
    "start_time": "2022-03-14T23:41:00.412Z"
   },
   {
    "duration": 12,
    "start_time": "2022-03-14T23:41:00.453Z"
   },
   {
    "duration": 6,
    "start_time": "2022-03-14T23:41:00.469Z"
   },
   {
    "duration": 33,
    "start_time": "2022-03-14T23:41:00.477Z"
   },
   {
    "duration": 40,
    "start_time": "2022-03-14T23:41:00.513Z"
   },
   {
    "duration": 7,
    "start_time": "2022-03-14T23:41:00.555Z"
   },
   {
    "duration": 9,
    "start_time": "2022-03-14T23:41:00.566Z"
   },
   {
    "duration": 15,
    "start_time": "2022-03-14T23:41:00.578Z"
   },
   {
    "duration": 22,
    "start_time": "2022-03-14T23:41:00.595Z"
   },
   {
    "duration": 48,
    "start_time": "2022-03-14T23:41:00.619Z"
   },
   {
    "duration": 15,
    "start_time": "2022-03-14T23:41:00.669Z"
   },
   {
    "duration": 24,
    "start_time": "2022-03-14T23:41:00.687Z"
   },
   {
    "duration": 51,
    "start_time": "2022-03-14T23:41:00.713Z"
   },
   {
    "duration": 16,
    "start_time": "2022-03-14T23:41:00.766Z"
   },
   {
    "duration": 31,
    "start_time": "2022-03-14T23:41:00.785Z"
   },
   {
    "duration": 48,
    "start_time": "2022-03-14T23:41:00.818Z"
   },
   {
    "duration": 29,
    "start_time": "2022-03-14T23:41:00.868Z"
   },
   {
    "duration": 12,
    "start_time": "2022-03-14T23:41:00.900Z"
   },
   {
    "duration": 42,
    "start_time": "2022-03-14T23:41:00.914Z"
   },
   {
    "duration": 15,
    "start_time": "2022-03-14T23:41:00.959Z"
   },
   {
    "duration": 263,
    "start_time": "2022-03-25T12:50:12.184Z"
   },
   {
    "duration": 207,
    "start_time": "2022-03-25T12:56:03.263Z"
   },
   {
    "duration": 251,
    "start_time": "2022-03-25T12:57:01.547Z"
   },
   {
    "duration": 210,
    "start_time": "2022-03-25T12:57:33.538Z"
   },
   {
    "duration": 218,
    "start_time": "2022-03-25T12:57:41.953Z"
   },
   {
    "duration": 208,
    "start_time": "2022-03-25T12:58:08.565Z"
   },
   {
    "duration": 201,
    "start_time": "2022-03-25T13:01:08.912Z"
   },
   {
    "duration": 209,
    "start_time": "2022-03-25T13:05:51.743Z"
   },
   {
    "duration": 197,
    "start_time": "2022-03-25T13:09:38.673Z"
   },
   {
    "duration": 245,
    "start_time": "2022-03-25T13:12:15.381Z"
   },
   {
    "duration": 85,
    "start_time": "2022-04-12T22:13:49.742Z"
   },
   {
    "duration": 72,
    "start_time": "2022-04-13T15:50:57.410Z"
   },
   {
    "duration": 627,
    "start_time": "2022-04-13T15:51:04.014Z"
   },
   {
    "duration": 29,
    "start_time": "2022-04-13T15:51:04.643Z"
   },
   {
    "duration": 17,
    "start_time": "2022-04-13T15:51:04.675Z"
   },
   {
    "duration": 9,
    "start_time": "2022-04-13T15:51:04.697Z"
   },
   {
    "duration": 85,
    "start_time": "2022-04-13T15:51:04.709Z"
   },
   {
    "duration": 0,
    "start_time": "2022-04-13T15:51:04.799Z"
   },
   {
    "duration": 0,
    "start_time": "2022-04-13T15:51:04.801Z"
   },
   {
    "duration": 0,
    "start_time": "2022-04-13T15:51:04.803Z"
   },
   {
    "duration": 0,
    "start_time": "2022-04-13T15:51:04.805Z"
   },
   {
    "duration": 0,
    "start_time": "2022-04-13T15:51:04.807Z"
   },
   {
    "duration": 0,
    "start_time": "2022-04-13T15:51:04.809Z"
   },
   {
    "duration": 0,
    "start_time": "2022-04-13T15:51:04.811Z"
   },
   {
    "duration": 0,
    "start_time": "2022-04-13T15:51:04.814Z"
   },
   {
    "duration": 0,
    "start_time": "2022-04-13T15:51:04.816Z"
   },
   {
    "duration": 0,
    "start_time": "2022-04-13T15:51:04.852Z"
   },
   {
    "duration": 0,
    "start_time": "2022-04-13T15:51:04.854Z"
   },
   {
    "duration": 0,
    "start_time": "2022-04-13T15:51:04.858Z"
   },
   {
    "duration": 0,
    "start_time": "2022-04-13T15:51:04.860Z"
   },
   {
    "duration": 1,
    "start_time": "2022-04-13T15:51:04.862Z"
   },
   {
    "duration": 0,
    "start_time": "2022-04-13T15:51:04.868Z"
   },
   {
    "duration": 0,
    "start_time": "2022-04-13T15:51:04.869Z"
   },
   {
    "duration": 0,
    "start_time": "2022-04-13T15:51:04.871Z"
   },
   {
    "duration": 9,
    "start_time": "2022-04-13T15:53:27.599Z"
   },
   {
    "duration": 7,
    "start_time": "2022-04-13T15:54:03.777Z"
   },
   {
    "duration": 6,
    "start_time": "2022-04-13T15:56:42.497Z"
   },
   {
    "duration": 7,
    "start_time": "2022-04-13T15:56:45.653Z"
   },
   {
    "duration": 8,
    "start_time": "2022-04-13T15:56:49.082Z"
   },
   {
    "duration": 4,
    "start_time": "2022-04-13T15:58:48.314Z"
   },
   {
    "duration": 6,
    "start_time": "2022-04-13T15:58:59.566Z"
   },
   {
    "duration": 6,
    "start_time": "2022-04-13T15:59:28.463Z"
   },
   {
    "duration": 5,
    "start_time": "2022-04-13T15:59:33.080Z"
   },
   {
    "duration": 9,
    "start_time": "2022-04-13T16:00:52.337Z"
   },
   {
    "duration": 6,
    "start_time": "2022-04-13T16:05:33.981Z"
   },
   {
    "duration": 9,
    "start_time": "2022-04-13T16:06:58.277Z"
   },
   {
    "duration": 7,
    "start_time": "2022-04-13T16:07:04.852Z"
   },
   {
    "duration": 10,
    "start_time": "2022-04-13T16:08:53.144Z"
   },
   {
    "duration": 10,
    "start_time": "2022-04-13T16:09:22.341Z"
   },
   {
    "duration": 125,
    "start_time": "2022-04-13T16:09:46.661Z"
   },
   {
    "duration": 22,
    "start_time": "2022-04-13T16:09:46.789Z"
   },
   {
    "duration": 41,
    "start_time": "2022-04-13T16:09:46.813Z"
   },
   {
    "duration": 29,
    "start_time": "2022-04-13T16:09:46.857Z"
   },
   {
    "duration": 8,
    "start_time": "2022-04-13T16:09:46.888Z"
   },
   {
    "duration": 11,
    "start_time": "2022-04-13T16:09:46.898Z"
   },
   {
    "duration": 7,
    "start_time": "2022-04-13T16:09:46.953Z"
   },
   {
    "duration": 10,
    "start_time": "2022-04-13T16:09:46.962Z"
   },
   {
    "duration": 11,
    "start_time": "2022-04-13T16:09:46.975Z"
   },
   {
    "duration": 6,
    "start_time": "2022-04-13T16:09:46.988Z"
   },
   {
    "duration": 5,
    "start_time": "2022-04-13T16:09:47.053Z"
   },
   {
    "duration": 12,
    "start_time": "2022-04-13T16:09:47.061Z"
   },
   {
    "duration": 7,
    "start_time": "2022-04-13T16:09:47.075Z"
   },
   {
    "duration": 5,
    "start_time": "2022-04-13T16:09:47.084Z"
   },
   {
    "duration": 60,
    "start_time": "2022-04-13T16:09:47.092Z"
   },
   {
    "duration": 24,
    "start_time": "2022-04-13T16:09:47.154Z"
   },
   {
    "duration": 17,
    "start_time": "2022-04-13T16:09:47.180Z"
   },
   {
    "duration": 56,
    "start_time": "2022-04-13T16:09:47.200Z"
   },
   {
    "duration": 34,
    "start_time": "2022-04-13T16:09:47.262Z"
   },
   {
    "duration": 59,
    "start_time": "2022-04-13T16:09:47.299Z"
   },
   {
    "duration": 11,
    "start_time": "2022-04-13T16:09:47.361Z"
   },
   {
    "duration": 31,
    "start_time": "2022-04-13T16:09:47.375Z"
   },
   {
    "duration": 55,
    "start_time": "2022-04-13T16:09:47.408Z"
   },
   {
    "duration": 28,
    "start_time": "2022-04-13T16:09:47.465Z"
   },
   {
    "duration": 13,
    "start_time": "2022-04-13T16:09:47.495Z"
   },
   {
    "duration": 53,
    "start_time": "2022-04-13T16:09:47.510Z"
   },
   {
    "duration": 16,
    "start_time": "2022-04-13T16:09:47.565Z"
   },
   {
    "duration": 10,
    "start_time": "2022-04-13T16:10:09.260Z"
   },
   {
    "duration": 1902,
    "start_time": "2022-04-13T16:25:29.985Z"
   },
   {
    "duration": 1936,
    "start_time": "2022-04-13T16:25:42.903Z"
   },
   {
    "duration": 97,
    "start_time": "2022-04-13T16:25:48.959Z"
   },
   {
    "duration": 21,
    "start_time": "2022-04-13T16:25:49.059Z"
   },
   {
    "duration": 16,
    "start_time": "2022-04-13T16:25:49.082Z"
   },
   {
    "duration": 77,
    "start_time": "2022-04-13T16:25:49.102Z"
   },
   {
    "duration": 9,
    "start_time": "2022-04-13T16:25:49.181Z"
   },
   {
    "duration": 8,
    "start_time": "2022-04-13T16:25:49.193Z"
   },
   {
    "duration": 50,
    "start_time": "2022-04-13T16:25:49.203Z"
   },
   {
    "duration": 7,
    "start_time": "2022-04-13T16:25:49.256Z"
   },
   {
    "duration": 7,
    "start_time": "2022-04-13T16:25:49.265Z"
   },
   {
    "duration": 10,
    "start_time": "2022-04-13T16:25:49.275Z"
   },
   {
    "duration": 6,
    "start_time": "2022-04-13T16:25:49.287Z"
   },
   {
    "duration": 9,
    "start_time": "2022-04-13T16:25:49.393Z"
   },
   {
    "duration": 7,
    "start_time": "2022-04-13T16:25:49.412Z"
   },
   {
    "duration": 6,
    "start_time": "2022-04-13T16:25:49.429Z"
   },
   {
    "duration": 6,
    "start_time": "2022-04-13T16:25:49.452Z"
   },
   {
    "duration": 23,
    "start_time": "2022-04-13T16:25:49.471Z"
   },
   {
    "duration": 16,
    "start_time": "2022-04-13T16:25:49.500Z"
   },
   {
    "duration": 41,
    "start_time": "2022-04-13T16:25:49.518Z"
   },
   {
    "duration": 25,
    "start_time": "2022-04-13T16:25:49.562Z"
   },
   {
    "duration": 17,
    "start_time": "2022-04-13T16:25:49.589Z"
   },
   {
    "duration": 52,
    "start_time": "2022-04-13T16:25:49.609Z"
   },
   {
    "duration": 32,
    "start_time": "2022-04-13T16:25:49.663Z"
   },
   {
    "duration": 56,
    "start_time": "2022-04-13T16:25:49.697Z"
   },
   {
    "duration": 26,
    "start_time": "2022-04-13T16:25:49.756Z"
   },
   {
    "duration": 13,
    "start_time": "2022-04-13T16:25:49.784Z"
   },
   {
    "duration": 55,
    "start_time": "2022-04-13T16:25:49.799Z"
   },
   {
    "duration": 15,
    "start_time": "2022-04-13T16:25:49.856Z"
   },
   {
    "duration": 1937,
    "start_time": "2022-04-13T16:26:46.459Z"
   },
   {
    "duration": 1940,
    "start_time": "2022-04-13T16:27:27.021Z"
   },
   {
    "duration": 2347,
    "start_time": "2022-04-13T16:29:16.991Z"
   },
   {
    "duration": 38,
    "start_time": "2022-04-13T16:30:08.946Z"
   },
   {
    "duration": 37,
    "start_time": "2022-04-13T16:31:53.749Z"
   },
   {
    "duration": 88,
    "start_time": "2022-04-13T16:32:09.756Z"
   },
   {
    "duration": 24,
    "start_time": "2022-04-13T16:32:09.851Z"
   },
   {
    "duration": 14,
    "start_time": "2022-04-13T16:32:09.877Z"
   },
   {
    "duration": 60,
    "start_time": "2022-04-13T16:32:09.919Z"
   },
   {
    "duration": 61,
    "start_time": "2022-04-13T16:32:10.051Z"
   },
   {
    "duration": 36,
    "start_time": "2022-04-13T16:32:10.115Z"
   },
   {
    "duration": 7,
    "start_time": "2022-04-13T16:32:10.154Z"
   },
   {
    "duration": 11,
    "start_time": "2022-04-13T16:32:10.165Z"
   },
   {
    "duration": 10,
    "start_time": "2022-04-13T16:32:10.178Z"
   },
   {
    "duration": 63,
    "start_time": "2022-04-13T16:32:10.191Z"
   },
   {
    "duration": 13,
    "start_time": "2022-04-13T16:32:10.256Z"
   },
   {
    "duration": 8,
    "start_time": "2022-04-13T16:32:10.271Z"
   },
   {
    "duration": 6,
    "start_time": "2022-04-13T16:32:10.282Z"
   },
   {
    "duration": 6,
    "start_time": "2022-04-13T16:32:10.291Z"
   },
   {
    "duration": 6,
    "start_time": "2022-04-13T16:32:10.352Z"
   },
   {
    "duration": 28,
    "start_time": "2022-04-13T16:32:10.360Z"
   },
   {
    "duration": 69,
    "start_time": "2022-04-13T16:32:10.391Z"
   },
   {
    "duration": 17,
    "start_time": "2022-04-13T16:32:10.462Z"
   },
   {
    "duration": 26,
    "start_time": "2022-04-13T16:32:10.482Z"
   },
   {
    "duration": 65,
    "start_time": "2022-04-13T16:32:10.510Z"
   },
   {
    "duration": 13,
    "start_time": "2022-04-13T16:32:10.578Z"
   },
   {
    "duration": 79,
    "start_time": "2022-04-13T16:32:10.594Z"
   },
   {
    "duration": 22,
    "start_time": "2022-04-13T16:32:10.677Z"
   },
   {
    "duration": 56,
    "start_time": "2022-04-13T16:32:10.702Z"
   },
   {
    "duration": 14,
    "start_time": "2022-04-13T16:32:10.760Z"
   },
   {
    "duration": 16,
    "start_time": "2022-04-13T16:32:10.776Z"
   },
   {
    "duration": 61,
    "start_time": "2022-04-13T16:32:10.794Z"
   },
   {
    "duration": 7,
    "start_time": "2022-04-13T16:34:17.999Z"
   },
   {
    "duration": 1867,
    "start_time": "2022-04-13T16:37:26.531Z"
   },
   {
    "duration": 2283,
    "start_time": "2022-04-13T16:37:55.170Z"
   },
   {
    "duration": 91,
    "start_time": "2022-04-13T16:38:13.250Z"
   },
   {
    "duration": 24,
    "start_time": "2022-04-13T16:38:13.343Z"
   },
   {
    "duration": 12,
    "start_time": "2022-04-13T16:38:13.369Z"
   },
   {
    "duration": 68,
    "start_time": "2022-04-13T16:38:13.384Z"
   },
   {
    "duration": 49,
    "start_time": "2022-04-13T16:38:13.454Z"
   },
   {
    "duration": 8,
    "start_time": "2022-04-13T16:38:13.505Z"
   },
   {
    "duration": 48,
    "start_time": "2022-04-13T16:38:13.515Z"
   },
   {
    "duration": 9,
    "start_time": "2022-04-13T16:38:13.566Z"
   },
   {
    "duration": 7,
    "start_time": "2022-04-13T16:38:13.578Z"
   },
   {
    "duration": 64,
    "start_time": "2022-04-13T16:38:13.589Z"
   },
   {
    "duration": 8,
    "start_time": "2022-04-13T16:38:13.655Z"
   },
   {
    "duration": 5,
    "start_time": "2022-04-13T16:38:13.665Z"
   },
   {
    "duration": 6,
    "start_time": "2022-04-13T16:38:13.672Z"
   },
   {
    "duration": 8,
    "start_time": "2022-04-13T16:38:13.680Z"
   },
   {
    "duration": 62,
    "start_time": "2022-04-13T16:38:13.690Z"
   },
   {
    "duration": 6,
    "start_time": "2022-04-13T16:38:13.754Z"
   },
   {
    "duration": 6,
    "start_time": "2022-04-13T16:38:13.762Z"
   },
   {
    "duration": 23,
    "start_time": "2022-04-13T16:38:13.770Z"
   },
   {
    "duration": 66,
    "start_time": "2022-04-13T16:38:13.795Z"
   },
   {
    "duration": 15,
    "start_time": "2022-04-13T16:38:13.863Z"
   },
   {
    "duration": 25,
    "start_time": "2022-04-13T16:38:13.880Z"
   },
   {
    "duration": 52,
    "start_time": "2022-04-13T16:38:13.907Z"
   },
   {
    "duration": 12,
    "start_time": "2022-04-13T16:38:13.961Z"
   },
   {
    "duration": 28,
    "start_time": "2022-04-13T16:38:13.976Z"
   },
   {
    "duration": 50,
    "start_time": "2022-04-13T16:38:14.006Z"
   },
   {
    "duration": 26,
    "start_time": "2022-04-13T16:38:14.058Z"
   },
   {
    "duration": 12,
    "start_time": "2022-04-13T16:38:14.086Z"
   },
   {
    "duration": 14,
    "start_time": "2022-04-13T16:38:14.154Z"
   },
   {
    "duration": 16,
    "start_time": "2022-04-13T16:38:14.170Z"
   },
   {
    "duration": 1846,
    "start_time": "2022-04-13T16:38:41.716Z"
   },
   {
    "duration": 89,
    "start_time": "2022-04-13T16:38:47.964Z"
   },
   {
    "duration": 21,
    "start_time": "2022-04-13T16:38:48.055Z"
   },
   {
    "duration": 14,
    "start_time": "2022-04-13T16:38:48.078Z"
   },
   {
    "duration": 74,
    "start_time": "2022-04-13T16:38:48.095Z"
   },
   {
    "duration": 43,
    "start_time": "2022-04-13T16:38:48.171Z"
   },
   {
    "duration": 6,
    "start_time": "2022-04-13T16:38:48.216Z"
   },
   {
    "duration": 36,
    "start_time": "2022-04-13T16:38:48.224Z"
   },
   {
    "duration": 7,
    "start_time": "2022-04-13T16:38:48.263Z"
   },
   {
    "duration": 11,
    "start_time": "2022-04-13T16:38:48.272Z"
   },
   {
    "duration": 10,
    "start_time": "2022-04-13T16:38:48.287Z"
   },
   {
    "duration": 58,
    "start_time": "2022-04-13T16:38:48.299Z"
   },
   {
    "duration": 7,
    "start_time": "2022-04-13T16:38:48.360Z"
   },
   {
    "duration": 12,
    "start_time": "2022-04-13T16:38:48.369Z"
   },
   {
    "duration": 8,
    "start_time": "2022-04-13T16:38:48.384Z"
   },
   {
    "duration": 7,
    "start_time": "2022-04-13T16:38:48.394Z"
   },
   {
    "duration": 6,
    "start_time": "2022-04-13T16:38:48.452Z"
   },
   {
    "duration": 12,
    "start_time": "2022-04-13T16:38:48.461Z"
   },
   {
    "duration": 24,
    "start_time": "2022-04-13T16:38:48.475Z"
   },
   {
    "duration": 55,
    "start_time": "2022-04-13T16:38:48.501Z"
   },
   {
    "duration": 17,
    "start_time": "2022-04-13T16:38:48.558Z"
   },
   {
    "duration": 26,
    "start_time": "2022-04-13T16:38:48.577Z"
   },
   {
    "duration": 56,
    "start_time": "2022-04-13T16:38:48.605Z"
   },
   {
    "duration": 8,
    "start_time": "2022-04-13T16:38:48.663Z"
   },
   {
    "duration": 29,
    "start_time": "2022-04-13T16:38:48.673Z"
   },
   {
    "duration": 58,
    "start_time": "2022-04-13T16:38:48.705Z"
   },
   {
    "duration": 27,
    "start_time": "2022-04-13T16:38:48.765Z"
   },
   {
    "duration": 14,
    "start_time": "2022-04-13T16:38:48.796Z"
   },
   {
    "duration": 53,
    "start_time": "2022-04-13T16:38:48.812Z"
   },
   {
    "duration": 16,
    "start_time": "2022-04-13T16:38:48.867Z"
   },
   {
    "duration": 131,
    "start_time": "2022-04-13T16:39:42.797Z"
   },
   {
    "duration": 41,
    "start_time": "2022-04-13T16:39:42.931Z"
   },
   {
    "duration": 20,
    "start_time": "2022-04-13T16:39:42.974Z"
   },
   {
    "duration": 80,
    "start_time": "2022-04-13T16:39:42.998Z"
   },
   {
    "duration": 77,
    "start_time": "2022-04-13T16:39:43.081Z"
   },
   {
    "duration": 7,
    "start_time": "2022-04-13T16:39:43.161Z"
   },
   {
    "duration": 12,
    "start_time": "2022-04-13T16:39:43.170Z"
   },
   {
    "duration": 8,
    "start_time": "2022-04-13T16:39:43.185Z"
   },
   {
    "duration": 59,
    "start_time": "2022-04-13T16:39:43.196Z"
   },
   {
    "duration": 9,
    "start_time": "2022-04-13T16:39:43.260Z"
   },
   {
    "duration": 10,
    "start_time": "2022-04-13T16:39:43.272Z"
   },
   {
    "duration": 7,
    "start_time": "2022-04-13T16:39:43.285Z"
   },
   {
    "duration": 60,
    "start_time": "2022-04-13T16:39:43.294Z"
   },
   {
    "duration": 9,
    "start_time": "2022-04-13T16:39:43.357Z"
   },
   {
    "duration": 7,
    "start_time": "2022-04-13T16:39:43.369Z"
   },
   {
    "duration": 9,
    "start_time": "2022-04-13T16:39:43.378Z"
   },
   {
    "duration": 6,
    "start_time": "2022-04-13T16:39:43.389Z"
   },
   {
    "duration": 67,
    "start_time": "2022-04-13T16:39:43.398Z"
   },
   {
    "duration": 18,
    "start_time": "2022-04-13T16:39:43.467Z"
   },
   {
    "duration": 15,
    "start_time": "2022-04-13T16:39:43.487Z"
   },
   {
    "duration": 65,
    "start_time": "2022-04-13T16:39:43.504Z"
   },
   {
    "duration": 16,
    "start_time": "2022-04-13T16:39:43.571Z"
   },
   {
    "duration": 10,
    "start_time": "2022-04-13T16:39:43.590Z"
   },
   {
    "duration": 84,
    "start_time": "2022-04-13T16:39:43.602Z"
   },
   {
    "duration": 26,
    "start_time": "2022-04-13T16:39:43.689Z"
   },
   {
    "duration": 98,
    "start_time": "2022-04-13T16:39:43.718Z"
   },
   {
    "duration": 38,
    "start_time": "2022-04-13T16:39:43.818Z"
   },
   {
    "duration": 21,
    "start_time": "2022-04-13T16:39:43.861Z"
   },
   {
    "duration": 15,
    "start_time": "2022-04-13T16:39:43.884Z"
   },
   {
    "duration": 87,
    "start_time": "2022-04-13T16:40:49.759Z"
   },
   {
    "duration": 21,
    "start_time": "2022-04-13T16:40:49.852Z"
   },
   {
    "duration": 13,
    "start_time": "2022-04-13T16:40:49.875Z"
   },
   {
    "duration": 74,
    "start_time": "2022-04-13T16:40:49.891Z"
   },
   {
    "duration": 46,
    "start_time": "2022-04-13T16:40:49.967Z"
   },
   {
    "duration": 36,
    "start_time": "2022-04-13T16:40:50.015Z"
   },
   {
    "duration": 16,
    "start_time": "2022-04-13T16:40:50.053Z"
   },
   {
    "duration": 7,
    "start_time": "2022-04-13T16:40:50.072Z"
   },
   {
    "duration": 6,
    "start_time": "2022-04-13T16:40:50.082Z"
   },
   {
    "duration": 60,
    "start_time": "2022-04-13T16:40:50.092Z"
   },
   {
    "duration": 18,
    "start_time": "2022-04-13T16:40:50.155Z"
   },
   {
    "duration": 7,
    "start_time": "2022-04-13T16:40:50.175Z"
   },
   {
    "duration": 7,
    "start_time": "2022-04-13T16:40:50.184Z"
   },
   {
    "duration": 8,
    "start_time": "2022-04-13T16:40:50.193Z"
   },
   {
    "duration": 48,
    "start_time": "2022-04-13T16:40:50.204Z"
   },
   {
    "duration": 11,
    "start_time": "2022-04-13T16:40:50.254Z"
   },
   {
    "duration": 15,
    "start_time": "2022-04-13T16:40:50.267Z"
   },
   {
    "duration": 29,
    "start_time": "2022-04-13T16:40:50.285Z"
   },
   {
    "duration": 43,
    "start_time": "2022-04-13T16:40:50.316Z"
   },
   {
    "duration": 16,
    "start_time": "2022-04-13T16:40:50.360Z"
   },
   {
    "duration": 28,
    "start_time": "2022-04-13T16:40:50.378Z"
   },
   {
    "duration": 54,
    "start_time": "2022-04-13T16:40:50.410Z"
   },
   {
    "duration": 19,
    "start_time": "2022-04-13T16:40:50.466Z"
   },
   {
    "duration": 31,
    "start_time": "2022-04-13T16:40:50.490Z"
   },
   {
    "duration": 45,
    "start_time": "2022-04-13T16:40:50.523Z"
   },
   {
    "duration": 27,
    "start_time": "2022-04-13T16:40:50.570Z"
   },
   {
    "duration": 14,
    "start_time": "2022-04-13T16:40:50.599Z"
   },
   {
    "duration": 49,
    "start_time": "2022-04-13T16:40:50.614Z"
   },
   {
    "duration": 16,
    "start_time": "2022-04-13T16:40:50.665Z"
   },
   {
    "duration": 118,
    "start_time": "2022-04-13T16:57:39.276Z"
   },
   {
    "duration": 331,
    "start_time": "2022-04-13T17:00:44.782Z"
   },
   {
    "duration": 119,
    "start_time": "2022-04-13T17:02:11.032Z"
   },
   {
    "duration": 117,
    "start_time": "2022-04-13T17:04:26.812Z"
   },
   {
    "duration": 85,
    "start_time": "2022-04-13T17:13:12.711Z"
   },
   {
    "duration": 23,
    "start_time": "2022-04-13T17:13:12.799Z"
   },
   {
    "duration": 14,
    "start_time": "2022-04-13T17:13:12.851Z"
   },
   {
    "duration": 29,
    "start_time": "2022-04-13T17:13:12.868Z"
   },
   {
    "duration": 81,
    "start_time": "2022-04-13T17:13:12.899Z"
   },
   {
    "duration": 6,
    "start_time": "2022-04-13T17:13:12.982Z"
   },
   {
    "duration": 9,
    "start_time": "2022-04-13T17:13:12.990Z"
   },
   {
    "duration": 8,
    "start_time": "2022-04-13T17:13:13.001Z"
   },
   {
    "duration": 47,
    "start_time": "2022-04-13T17:13:13.011Z"
   },
   {
    "duration": 9,
    "start_time": "2022-04-13T17:13:13.061Z"
   },
   {
    "duration": 7,
    "start_time": "2022-04-13T17:13:13.072Z"
   },
   {
    "duration": 6,
    "start_time": "2022-04-13T17:13:13.081Z"
   },
   {
    "duration": 64,
    "start_time": "2022-04-13T17:13:13.089Z"
   },
   {
    "duration": 6,
    "start_time": "2022-04-13T17:13:13.155Z"
   },
   {
    "duration": 7,
    "start_time": "2022-04-13T17:13:13.164Z"
   },
   {
    "duration": 7,
    "start_time": "2022-04-13T17:13:13.173Z"
   },
   {
    "duration": 71,
    "start_time": "2022-04-13T17:13:13.182Z"
   },
   {
    "duration": 8,
    "start_time": "2022-04-13T17:13:13.255Z"
   },
   {
    "duration": 9,
    "start_time": "2022-04-13T17:13:13.265Z"
   },
   {
    "duration": 10,
    "start_time": "2022-04-13T17:13:13.277Z"
   },
   {
    "duration": 8,
    "start_time": "2022-04-13T17:13:13.289Z"
   },
   {
    "duration": 69,
    "start_time": "2022-04-13T17:13:13.300Z"
   },
   {
    "duration": 16,
    "start_time": "2022-04-13T17:13:13.371Z"
   },
   {
    "duration": 70,
    "start_time": "2022-04-13T17:13:13.389Z"
   },
   {
    "duration": 18,
    "start_time": "2022-04-13T17:13:13.461Z"
   },
   {
    "duration": 13,
    "start_time": "2022-04-13T17:13:13.481Z"
   },
   {
    "duration": 61,
    "start_time": "2022-04-13T17:13:13.497Z"
   },
   {
    "duration": 23,
    "start_time": "2022-04-13T17:13:13.562Z"
   },
   {
    "duration": 72,
    "start_time": "2022-04-13T17:13:13.587Z"
   },
   {
    "duration": 13,
    "start_time": "2022-04-13T17:13:13.661Z"
   },
   {
    "duration": 14,
    "start_time": "2022-04-13T17:13:13.676Z"
   },
   {
    "duration": 63,
    "start_time": "2022-04-13T17:13:13.692Z"
   },
   {
    "duration": 152,
    "start_time": "2022-04-13T17:23:00.142Z"
   },
   {
    "duration": 9,
    "start_time": "2022-04-13T19:22:28.984Z"
   },
   {
    "duration": 84,
    "start_time": "2022-04-13T19:22:35.915Z"
   },
   {
    "duration": 20,
    "start_time": "2022-04-13T19:22:36.002Z"
   },
   {
    "duration": 13,
    "start_time": "2022-04-13T19:22:36.052Z"
   },
   {
    "duration": 28,
    "start_time": "2022-04-13T19:22:36.068Z"
   },
   {
    "duration": 78,
    "start_time": "2022-04-13T19:22:36.099Z"
   },
   {
    "duration": 6,
    "start_time": "2022-04-13T19:22:36.180Z"
   },
   {
    "duration": 9,
    "start_time": "2022-04-13T19:22:36.188Z"
   },
   {
    "duration": 7,
    "start_time": "2022-04-13T19:22:36.199Z"
   },
   {
    "duration": 8,
    "start_time": "2022-04-13T19:22:36.251Z"
   },
   {
    "duration": 9,
    "start_time": "2022-04-13T19:22:36.263Z"
   },
   {
    "duration": 6,
    "start_time": "2022-04-13T19:22:36.275Z"
   },
   {
    "duration": 6,
    "start_time": "2022-04-13T19:22:36.283Z"
   },
   {
    "duration": 62,
    "start_time": "2022-04-13T19:22:36.291Z"
   },
   {
    "duration": 6,
    "start_time": "2022-04-13T19:22:36.355Z"
   },
   {
    "duration": 6,
    "start_time": "2022-04-13T19:22:36.363Z"
   },
   {
    "duration": 7,
    "start_time": "2022-04-13T19:22:36.371Z"
   },
   {
    "duration": 22,
    "start_time": "2022-04-13T19:22:36.380Z"
   },
   {
    "duration": 51,
    "start_time": "2022-04-13T19:22:36.404Z"
   },
   {
    "duration": 7,
    "start_time": "2022-04-13T19:22:36.457Z"
   },
   {
    "duration": 7,
    "start_time": "2022-04-13T19:22:36.466Z"
   },
   {
    "duration": 8,
    "start_time": "2022-04-13T19:22:36.475Z"
   },
   {
    "duration": 73,
    "start_time": "2022-04-13T19:22:36.485Z"
   },
   {
    "duration": 15,
    "start_time": "2022-04-13T19:22:36.560Z"
   },
   {
    "duration": 23,
    "start_time": "2022-04-13T19:22:36.577Z"
   },
   {
    "duration": 56,
    "start_time": "2022-04-13T19:22:36.603Z"
   },
   {
    "duration": 9,
    "start_time": "2022-04-13T19:22:36.661Z"
   },
   {
    "duration": 10,
    "start_time": "2022-04-13T19:22:36.675Z"
   },
   {
    "duration": 63,
    "start_time": "2022-04-13T19:22:36.688Z"
   },
   {
    "duration": 22,
    "start_time": "2022-04-13T19:22:36.754Z"
   },
   {
    "duration": 27,
    "start_time": "2022-04-13T19:22:36.778Z"
   },
   {
    "duration": 54,
    "start_time": "2022-04-13T19:22:36.807Z"
   },
   {
    "duration": 14,
    "start_time": "2022-04-13T19:22:36.863Z"
   },
   {
    "duration": 16,
    "start_time": "2022-04-13T19:22:36.879Z"
   },
   {
    "duration": 158,
    "start_time": "2022-04-13T19:24:23.116Z"
   },
   {
    "duration": 11,
    "start_time": "2022-04-13T19:27:04.716Z"
   },
   {
    "duration": 9,
    "start_time": "2022-04-13T19:27:28.371Z"
   },
   {
    "duration": 87,
    "start_time": "2022-04-13T19:27:46.980Z"
   },
   {
    "duration": 21,
    "start_time": "2022-04-13T19:27:47.069Z"
   },
   {
    "duration": 12,
    "start_time": "2022-04-13T19:27:47.092Z"
   },
   {
    "duration": 65,
    "start_time": "2022-04-13T19:27:47.107Z"
   },
   {
    "duration": 42,
    "start_time": "2022-04-13T19:27:47.175Z"
   },
   {
    "duration": 36,
    "start_time": "2022-04-13T19:27:47.219Z"
   },
   {
    "duration": 9,
    "start_time": "2022-04-13T19:27:47.257Z"
   },
   {
    "duration": 5,
    "start_time": "2022-04-13T19:27:47.268Z"
   },
   {
    "duration": 9,
    "start_time": "2022-04-13T19:27:47.275Z"
   },
   {
    "duration": 7,
    "start_time": "2022-04-13T19:27:47.287Z"
   },
   {
    "duration": 8,
    "start_time": "2022-04-13T19:27:47.353Z"
   },
   {
    "duration": 10,
    "start_time": "2022-04-13T19:27:47.364Z"
   },
   {
    "duration": 10,
    "start_time": "2022-04-13T19:27:47.376Z"
   },
   {
    "duration": 6,
    "start_time": "2022-04-13T19:27:47.388Z"
   },
   {
    "duration": 5,
    "start_time": "2022-04-13T19:27:47.452Z"
   },
   {
    "duration": 13,
    "start_time": "2022-04-13T19:27:47.459Z"
   },
   {
    "duration": 30,
    "start_time": "2022-04-13T19:27:47.474Z"
   },
   {
    "duration": 7,
    "start_time": "2022-04-13T19:27:47.506Z"
   },
   {
    "duration": 39,
    "start_time": "2022-04-13T19:27:47.515Z"
   },
   {
    "duration": 6,
    "start_time": "2022-04-13T19:27:47.557Z"
   },
   {
    "duration": 9,
    "start_time": "2022-04-13T19:27:47.565Z"
   },
   {
    "duration": 18,
    "start_time": "2022-04-13T19:27:47.576Z"
   },
   {
    "duration": 64,
    "start_time": "2022-04-13T19:27:47.596Z"
   },
   {
    "duration": 23,
    "start_time": "2022-04-13T19:27:47.662Z"
   },
   {
    "duration": 16,
    "start_time": "2022-04-13T19:27:47.690Z"
   },
   {
    "duration": 48,
    "start_time": "2022-04-13T19:27:47.708Z"
   },
   {
    "duration": 11,
    "start_time": "2022-04-13T19:27:47.759Z"
   },
   {
    "duration": 31,
    "start_time": "2022-04-13T19:27:47.772Z"
   },
   {
    "duration": 58,
    "start_time": "2022-04-13T19:27:47.805Z"
   },
   {
    "duration": 9,
    "start_time": "2022-04-13T19:27:47.866Z"
   },
   {
    "duration": 29,
    "start_time": "2022-04-13T19:27:47.877Z"
   },
   {
    "duration": 51,
    "start_time": "2022-04-13T19:27:47.909Z"
   },
   {
    "duration": 19,
    "start_time": "2022-04-13T19:27:47.962Z"
   },
   {
    "duration": 16,
    "start_time": "2022-04-13T19:27:47.982Z"
   },
   {
    "duration": 114,
    "start_time": "2022-04-13T19:35:45.526Z"
   },
   {
    "duration": 11,
    "start_time": "2022-04-13T19:38:31.216Z"
   },
   {
    "duration": 34,
    "start_time": "2022-04-13T19:38:43.875Z"
   },
   {
    "duration": 26,
    "start_time": "2022-04-13T19:38:56.882Z"
   },
   {
    "duration": 8,
    "start_time": "2022-04-13T20:16:57.625Z"
   },
   {
    "duration": 7,
    "start_time": "2022-04-13T20:18:33.661Z"
   },
   {
    "duration": 9,
    "start_time": "2022-04-13T20:18:40.249Z"
   },
   {
    "duration": 10,
    "start_time": "2022-04-13T20:18:46.175Z"
   },
   {
    "duration": 8,
    "start_time": "2022-04-13T20:18:52.004Z"
   },
   {
    "duration": 8,
    "start_time": "2022-04-13T20:18:57.277Z"
   },
   {
    "duration": 8,
    "start_time": "2022-04-13T20:19:02.982Z"
   },
   {
    "duration": 7,
    "start_time": "2022-04-13T20:19:10.326Z"
   },
   {
    "duration": 110,
    "start_time": "2022-04-13T20:24:23.145Z"
   },
   {
    "duration": 83,
    "start_time": "2022-04-13T20:26:34.138Z"
   },
   {
    "duration": 42,
    "start_time": "2022-04-13T20:26:34.224Z"
   },
   {
    "duration": 13,
    "start_time": "2022-04-13T20:26:34.268Z"
   },
   {
    "duration": 32,
    "start_time": "2022-04-13T20:26:34.284Z"
   },
   {
    "duration": 75,
    "start_time": "2022-04-13T20:26:34.318Z"
   },
   {
    "duration": 6,
    "start_time": "2022-04-13T20:26:34.396Z"
   },
   {
    "duration": 48,
    "start_time": "2022-04-13T20:26:34.404Z"
   },
   {
    "duration": 6,
    "start_time": "2022-04-13T20:26:34.454Z"
   },
   {
    "duration": 9,
    "start_time": "2022-04-13T20:26:34.462Z"
   },
   {
    "duration": 7,
    "start_time": "2022-04-13T20:26:34.475Z"
   },
   {
    "duration": 6,
    "start_time": "2022-04-13T20:26:34.484Z"
   },
   {
    "duration": 60,
    "start_time": "2022-04-13T20:26:34.492Z"
   },
   {
    "duration": 8,
    "start_time": "2022-04-13T20:26:34.554Z"
   },
   {
    "duration": 7,
    "start_time": "2022-04-13T20:26:34.564Z"
   },
   {
    "duration": 5,
    "start_time": "2022-04-13T20:26:34.573Z"
   },
   {
    "duration": 7,
    "start_time": "2022-04-13T20:26:34.579Z"
   },
   {
    "duration": 72,
    "start_time": "2022-04-13T20:26:34.588Z"
   },
   {
    "duration": 7,
    "start_time": "2022-04-13T20:26:34.662Z"
   },
   {
    "duration": 11,
    "start_time": "2022-04-13T20:26:34.670Z"
   },
   {
    "duration": 6,
    "start_time": "2022-04-13T20:26:34.683Z"
   },
   {
    "duration": 7,
    "start_time": "2022-04-13T20:26:34.691Z"
   },
   {
    "duration": 68,
    "start_time": "2022-04-13T20:26:34.700Z"
   },
   {
    "duration": 15,
    "start_time": "2022-04-13T20:26:34.770Z"
   },
   {
    "duration": 15,
    "start_time": "2022-04-13T20:26:34.787Z"
   },
   {
    "duration": 55,
    "start_time": "2022-04-13T20:26:34.804Z"
   },
   {
    "duration": 10,
    "start_time": "2022-04-13T20:26:34.861Z"
   },
   {
    "duration": 30,
    "start_time": "2022-04-13T20:26:34.874Z"
   },
   {
    "duration": 62,
    "start_time": "2022-04-13T20:26:34.908Z"
   },
   {
    "duration": 9,
    "start_time": "2022-04-13T20:26:34.972Z"
   },
   {
    "duration": 27,
    "start_time": "2022-04-13T20:26:34.983Z"
   },
   {
    "duration": 42,
    "start_time": "2022-04-13T20:26:35.012Z"
   },
   {
    "duration": 17,
    "start_time": "2022-04-13T20:26:35.056Z"
   },
   {
    "duration": 13,
    "start_time": "2022-04-13T20:26:35.076Z"
   },
   {
    "duration": 14,
    "start_time": "2022-04-13T20:26:35.092Z"
   },
   {
    "duration": 19,
    "start_time": "2022-04-13T20:28:20.916Z"
   },
   {
    "duration": 16,
    "start_time": "2022-04-13T20:29:27.122Z"
   },
   {
    "duration": 14,
    "start_time": "2022-04-13T20:29:36.007Z"
   },
   {
    "duration": 7,
    "start_time": "2022-04-13T20:31:20.601Z"
   },
   {
    "duration": 7,
    "start_time": "2022-04-13T20:31:30.082Z"
   },
   {
    "duration": 9,
    "start_time": "2022-04-13T20:31:35.117Z"
   },
   {
    "duration": 8,
    "start_time": "2022-04-13T20:31:42.010Z"
   },
   {
    "duration": 7,
    "start_time": "2022-04-13T20:31:49.832Z"
   },
   {
    "duration": 144,
    "start_time": "2022-04-13T20:58:16.602Z"
   },
   {
    "duration": 84,
    "start_time": "2022-04-13T22:12:47.179Z"
   },
   {
    "duration": 25,
    "start_time": "2022-04-13T22:12:47.266Z"
   },
   {
    "duration": 18,
    "start_time": "2022-04-13T22:12:47.293Z"
   },
   {
    "duration": 70,
    "start_time": "2022-04-13T22:12:47.313Z"
   },
   {
    "duration": 80,
    "start_time": "2022-04-13T22:12:47.385Z"
   },
   {
    "duration": 7,
    "start_time": "2022-04-13T22:12:47.468Z"
   },
   {
    "duration": 12,
    "start_time": "2022-04-13T22:12:47.478Z"
   },
   {
    "duration": 59,
    "start_time": "2022-04-13T22:12:47.493Z"
   },
   {
    "duration": 10,
    "start_time": "2022-04-13T22:12:47.554Z"
   },
   {
    "duration": 9,
    "start_time": "2022-04-13T22:12:47.570Z"
   },
   {
    "duration": 10,
    "start_time": "2022-04-13T22:12:47.583Z"
   },
   {
    "duration": 60,
    "start_time": "2022-04-13T22:12:47.596Z"
   },
   {
    "duration": 10,
    "start_time": "2022-04-13T22:12:47.658Z"
   },
   {
    "duration": 7,
    "start_time": "2022-04-13T22:12:47.669Z"
   },
   {
    "duration": 7,
    "start_time": "2022-04-13T22:12:47.678Z"
   },
   {
    "duration": 7,
    "start_time": "2022-04-13T22:12:47.687Z"
   },
   {
    "duration": 74,
    "start_time": "2022-04-13T22:12:47.695Z"
   },
   {
    "duration": 7,
    "start_time": "2022-04-13T22:12:47.771Z"
   },
   {
    "duration": 9,
    "start_time": "2022-04-13T22:12:47.780Z"
   },
   {
    "duration": 8,
    "start_time": "2022-04-13T22:12:47.791Z"
   },
   {
    "duration": 53,
    "start_time": "2022-04-13T22:12:47.801Z"
   },
   {
    "duration": 18,
    "start_time": "2022-04-13T22:12:47.856Z"
   },
   {
    "duration": 16,
    "start_time": "2022-04-13T22:12:47.876Z"
   },
   {
    "duration": 62,
    "start_time": "2022-04-13T22:12:47.894Z"
   },
   {
    "duration": 9,
    "start_time": "2022-04-13T22:12:47.961Z"
   },
   {
    "duration": 9,
    "start_time": "2022-04-13T22:12:47.972Z"
   },
   {
    "duration": 68,
    "start_time": "2022-04-13T22:12:47.983Z"
   },
   {
    "duration": 24,
    "start_time": "2022-04-13T22:12:48.054Z"
   },
   {
    "duration": 9,
    "start_time": "2022-04-13T22:12:48.081Z"
   },
   {
    "duration": 78,
    "start_time": "2022-04-13T22:12:48.092Z"
   },
   {
    "duration": 8,
    "start_time": "2022-04-13T22:12:48.172Z"
   },
   {
    "duration": 21,
    "start_time": "2022-04-13T22:12:48.466Z"
   },
   {
    "duration": 18,
    "start_time": "2022-04-13T22:12:48.491Z"
   },
   {
    "duration": 46,
    "start_time": "2022-04-13T22:12:48.512Z"
   },
   {
    "duration": 163,
    "start_time": "2022-04-13T22:23:03.402Z"
   },
   {
    "duration": 116,
    "start_time": "2022-04-13T22:24:05.273Z"
   },
   {
    "duration": 151,
    "start_time": "2022-04-13T22:45:51.584Z"
   },
   {
    "duration": 84,
    "start_time": "2022-04-13T22:46:50.187Z"
   },
   {
    "duration": 20,
    "start_time": "2022-04-13T22:46:50.273Z"
   },
   {
    "duration": 13,
    "start_time": "2022-04-13T22:46:50.295Z"
   },
   {
    "duration": 65,
    "start_time": "2022-04-13T22:46:50.311Z"
   },
   {
    "duration": 44,
    "start_time": "2022-04-13T22:46:50.378Z"
   },
   {
    "duration": 32,
    "start_time": "2022-04-13T22:46:50.424Z"
   },
   {
    "duration": 10,
    "start_time": "2022-04-13T22:46:50.459Z"
   },
   {
    "duration": 6,
    "start_time": "2022-04-13T22:46:50.471Z"
   },
   {
    "duration": 14,
    "start_time": "2022-04-13T22:46:50.478Z"
   },
   {
    "duration": 58,
    "start_time": "2022-04-13T22:46:50.495Z"
   },
   {
    "duration": 6,
    "start_time": "2022-04-13T22:46:50.555Z"
   },
   {
    "duration": 6,
    "start_time": "2022-04-13T22:46:50.563Z"
   },
   {
    "duration": 9,
    "start_time": "2022-04-13T22:46:50.572Z"
   },
   {
    "duration": 6,
    "start_time": "2022-04-13T22:46:50.583Z"
   },
   {
    "duration": 61,
    "start_time": "2022-04-13T22:46:50.591Z"
   },
   {
    "duration": 6,
    "start_time": "2022-04-13T22:46:50.655Z"
   },
   {
    "duration": 26,
    "start_time": "2022-04-13T22:46:50.663Z"
   },
   {
    "duration": 7,
    "start_time": "2022-04-13T22:46:50.691Z"
   },
   {
    "duration": 53,
    "start_time": "2022-04-13T22:46:50.700Z"
   },
   {
    "duration": 11,
    "start_time": "2022-04-13T22:46:50.755Z"
   },
   {
    "duration": 10,
    "start_time": "2022-04-13T22:46:50.769Z"
   },
   {
    "duration": 18,
    "start_time": "2022-04-13T22:46:50.781Z"
   },
   {
    "duration": 56,
    "start_time": "2022-04-13T22:46:50.804Z"
   },
   {
    "duration": 16,
    "start_time": "2022-04-13T22:46:50.862Z"
   },
   {
    "duration": 16,
    "start_time": "2022-04-13T22:46:50.881Z"
   },
   {
    "duration": 11,
    "start_time": "2022-04-13T22:46:50.900Z"
   },
   {
    "duration": 35,
    "start_time": "2022-04-13T22:46:50.953Z"
   },
   {
    "duration": 63,
    "start_time": "2022-04-13T22:46:50.990Z"
   },
   {
    "duration": 12,
    "start_time": "2022-04-13T22:46:51.056Z"
   },
   {
    "duration": 31,
    "start_time": "2022-04-13T22:46:51.071Z"
   },
   {
    "duration": 48,
    "start_time": "2022-04-13T22:46:51.105Z"
   },
   {
    "duration": 22,
    "start_time": "2022-04-13T22:46:51.156Z"
   },
   {
    "duration": 18,
    "start_time": "2022-04-13T22:46:51.181Z"
   },
   {
    "duration": 64,
    "start_time": "2022-04-13T22:46:51.202Z"
   },
   {
    "duration": 693,
    "start_time": "2022-11-11T17:09:26.387Z"
   },
   {
    "duration": 14,
    "start_time": "2022-11-11T17:09:27.082Z"
   },
   {
    "duration": 12,
    "start_time": "2022-11-11T17:09:27.098Z"
   },
   {
    "duration": 23,
    "start_time": "2022-11-11T17:09:27.112Z"
   },
   {
    "duration": 30,
    "start_time": "2022-11-11T17:09:27.137Z"
   },
   {
    "duration": 4,
    "start_time": "2022-11-11T17:09:27.169Z"
   },
   {
    "duration": 9,
    "start_time": "2022-11-11T17:09:27.175Z"
   },
   {
    "duration": 13,
    "start_time": "2022-11-11T17:09:27.186Z"
   },
   {
    "duration": 20,
    "start_time": "2022-11-11T17:09:27.201Z"
   },
   {
    "duration": 16,
    "start_time": "2022-11-11T17:09:27.225Z"
   },
   {
    "duration": 6,
    "start_time": "2022-11-11T17:09:27.242Z"
   },
   {
    "duration": 5,
    "start_time": "2022-11-11T17:09:27.250Z"
   },
   {
    "duration": 9,
    "start_time": "2022-11-11T17:09:27.256Z"
   },
   {
    "duration": 5,
    "start_time": "2022-11-11T17:09:27.267Z"
   },
   {
    "duration": 19,
    "start_time": "2022-11-11T17:09:27.273Z"
   },
   {
    "duration": 9,
    "start_time": "2022-11-11T17:09:27.294Z"
   },
   {
    "duration": 27,
    "start_time": "2022-11-11T17:09:27.305Z"
   },
   {
    "duration": 7,
    "start_time": "2022-11-11T17:09:27.334Z"
   },
   {
    "duration": 13,
    "start_time": "2022-11-11T17:09:27.343Z"
   },
   {
    "duration": 10,
    "start_time": "2022-11-11T17:09:27.357Z"
   },
   {
    "duration": 9,
    "start_time": "2022-11-11T17:09:27.369Z"
   },
   {
    "duration": 16,
    "start_time": "2022-11-11T17:09:27.380Z"
   },
   {
    "duration": 11,
    "start_time": "2022-11-11T17:09:27.398Z"
   },
   {
    "duration": 40,
    "start_time": "2022-11-11T17:09:27.410Z"
   },
   {
    "duration": 29,
    "start_time": "2022-11-11T17:09:27.451Z"
   },
   {
    "duration": 11,
    "start_time": "2022-11-11T17:09:27.481Z"
   },
   {
    "duration": 22,
    "start_time": "2022-11-11T17:09:27.493Z"
   },
   {
    "duration": 15,
    "start_time": "2022-11-11T17:09:27.518Z"
   },
   {
    "duration": 6,
    "start_time": "2022-11-11T17:09:27.535Z"
   },
   {
    "duration": 23,
    "start_time": "2022-11-11T17:09:27.543Z"
   },
   {
    "duration": 4,
    "start_time": "2022-11-11T17:09:27.568Z"
   },
   {
    "duration": 17,
    "start_time": "2022-11-11T17:09:27.574Z"
   },
   {
    "duration": 11,
    "start_time": "2022-11-11T17:09:27.593Z"
   },
   {
    "duration": 12,
    "start_time": "2022-11-11T17:09:27.633Z"
   },
   {
    "duration": 3,
    "start_time": "2022-11-11T17:11:22.378Z"
   },
   {
    "duration": 54,
    "start_time": "2022-11-15T20:35:01.790Z"
   },
   {
    "duration": 747,
    "start_time": "2022-11-15T20:35:08.675Z"
   },
   {
    "duration": 18,
    "start_time": "2022-11-15T20:35:09.426Z"
   },
   {
    "duration": 32,
    "start_time": "2022-11-15T20:35:09.446Z"
   },
   {
    "duration": 28,
    "start_time": "2022-11-15T20:35:09.481Z"
   },
   {
    "duration": 24,
    "start_time": "2022-11-15T20:35:09.512Z"
   },
   {
    "duration": 33,
    "start_time": "2022-11-15T20:35:09.538Z"
   },
   {
    "duration": 5,
    "start_time": "2022-11-15T20:35:09.572Z"
   },
   {
    "duration": 60,
    "start_time": "2022-11-15T20:35:09.578Z"
   },
   {
    "duration": 25,
    "start_time": "2022-11-15T20:35:09.639Z"
   },
   {
    "duration": 20,
    "start_time": "2022-11-15T20:35:09.667Z"
   },
   {
    "duration": 10,
    "start_time": "2022-11-15T20:35:09.689Z"
   },
   {
    "duration": 31,
    "start_time": "2022-11-15T20:35:09.701Z"
   },
   {
    "duration": 32,
    "start_time": "2022-11-15T20:35:09.734Z"
   },
   {
    "duration": 74,
    "start_time": "2022-11-15T20:35:09.767Z"
   },
   {
    "duration": 24,
    "start_time": "2022-11-15T20:35:09.843Z"
   },
   {
    "duration": 22,
    "start_time": "2022-11-15T20:35:09.869Z"
   },
   {
    "duration": 17,
    "start_time": "2022-11-15T20:35:09.892Z"
   },
   {
    "duration": 29,
    "start_time": "2022-11-15T20:35:09.917Z"
   },
   {
    "duration": 9,
    "start_time": "2022-11-15T20:35:09.948Z"
   },
   {
    "duration": 12,
    "start_time": "2022-11-15T20:35:09.958Z"
   },
   {
    "duration": 20,
    "start_time": "2022-11-15T20:35:09.972Z"
   },
   {
    "duration": 48,
    "start_time": "2022-11-15T20:35:09.993Z"
   },
   {
    "duration": 25,
    "start_time": "2022-11-15T20:35:10.043Z"
   },
   {
    "duration": 38,
    "start_time": "2022-11-15T20:35:10.070Z"
   },
   {
    "duration": 35,
    "start_time": "2022-11-15T20:35:10.110Z"
   },
   {
    "duration": 27,
    "start_time": "2022-11-15T20:35:10.147Z"
   },
   {
    "duration": 50,
    "start_time": "2022-11-15T20:35:10.180Z"
   },
   {
    "duration": 23,
    "start_time": "2022-11-15T20:35:10.234Z"
   },
   {
    "duration": 61,
    "start_time": "2022-11-15T20:35:10.259Z"
   },
   {
    "duration": 21,
    "start_time": "2022-11-15T20:35:10.322Z"
   },
   {
    "duration": 31,
    "start_time": "2022-11-15T20:35:10.347Z"
   },
   {
    "duration": 6,
    "start_time": "2022-11-15T20:35:10.380Z"
   },
   {
    "duration": 52,
    "start_time": "2022-11-15T20:35:10.387Z"
   },
   {
    "duration": 13,
    "start_time": "2022-11-15T20:35:10.441Z"
   },
   {
    "duration": 17,
    "start_time": "2022-11-15T20:35:10.456Z"
   },
   {
    "duration": 10,
    "start_time": "2022-11-15T20:38:32.808Z"
   },
   {
    "duration": 72,
    "start_time": "2022-11-15T20:39:06.864Z"
   },
   {
    "duration": 9,
    "start_time": "2022-11-15T20:44:32.878Z"
   },
   {
    "duration": 5,
    "start_time": "2022-11-15T20:46:23.532Z"
   },
   {
    "duration": 5,
    "start_time": "2022-11-15T20:46:38.685Z"
   },
   {
    "duration": 955,
    "start_time": "2022-11-15T20:47:25.553Z"
   },
   {
    "duration": 759,
    "start_time": "2022-11-15T20:47:45.288Z"
   },
   {
    "duration": 499,
    "start_time": "2022-11-15T20:48:13.828Z"
   },
   {
    "duration": 17,
    "start_time": "2022-11-15T20:48:14.329Z"
   },
   {
    "duration": 10,
    "start_time": "2022-11-15T20:48:14.347Z"
   },
   {
    "duration": 18,
    "start_time": "2022-11-15T20:48:14.359Z"
   },
   {
    "duration": 53,
    "start_time": "2022-11-15T20:48:14.379Z"
   },
   {
    "duration": 36,
    "start_time": "2022-11-15T20:48:14.434Z"
   },
   {
    "duration": 5,
    "start_time": "2022-11-15T20:48:14.472Z"
   },
   {
    "duration": 11,
    "start_time": "2022-11-15T20:48:14.479Z"
   },
   {
    "duration": 23,
    "start_time": "2022-11-15T20:48:14.492Z"
   },
   {
    "duration": 30,
    "start_time": "2022-11-15T20:48:14.519Z"
   },
   {
    "duration": 20,
    "start_time": "2022-11-15T20:48:14.550Z"
   },
   {
    "duration": 9,
    "start_time": "2022-11-15T20:48:14.572Z"
   },
   {
    "duration": 8,
    "start_time": "2022-11-15T20:48:14.582Z"
   },
   {
    "duration": 7,
    "start_time": "2022-11-15T20:48:14.592Z"
   },
   {
    "duration": 209,
    "start_time": "2022-11-15T20:48:14.601Z"
   },
   {
    "duration": 34,
    "start_time": "2022-11-15T20:48:14.812Z"
   },
   {
    "duration": 5,
    "start_time": "2022-11-15T20:48:14.848Z"
   },
   {
    "duration": 21,
    "start_time": "2022-11-15T20:48:14.855Z"
   },
   {
    "duration": 10,
    "start_time": "2022-11-15T20:48:14.879Z"
   },
   {
    "duration": 7,
    "start_time": "2022-11-15T20:48:14.891Z"
   },
   {
    "duration": 24,
    "start_time": "2022-11-15T20:48:14.902Z"
   },
   {
    "duration": 24,
    "start_time": "2022-11-15T20:48:14.932Z"
   },
   {
    "duration": 5,
    "start_time": "2022-11-15T20:48:14.957Z"
   },
   {
    "duration": 9,
    "start_time": "2022-11-15T20:48:14.964Z"
   },
   {
    "duration": 7,
    "start_time": "2022-11-15T20:48:14.974Z"
   },
   {
    "duration": 8,
    "start_time": "2022-11-15T20:48:14.982Z"
   },
   {
    "duration": 37,
    "start_time": "2022-11-15T20:48:14.991Z"
   },
   {
    "duration": 16,
    "start_time": "2022-11-15T20:48:15.032Z"
   },
   {
    "duration": 15,
    "start_time": "2022-11-15T20:48:15.050Z"
   },
   {
    "duration": 34,
    "start_time": "2022-11-15T20:48:15.067Z"
   },
   {
    "duration": 14,
    "start_time": "2022-11-15T20:48:15.103Z"
   },
   {
    "duration": 34,
    "start_time": "2022-11-15T20:48:15.118Z"
   },
   {
    "duration": 17,
    "start_time": "2022-11-15T20:48:15.155Z"
   },
   {
    "duration": 7,
    "start_time": "2022-11-15T20:48:15.174Z"
   },
   {
    "duration": 34,
    "start_time": "2022-11-15T20:48:15.183Z"
   },
   {
    "duration": 10,
    "start_time": "2022-11-15T20:48:15.218Z"
   },
   {
    "duration": 18,
    "start_time": "2022-11-15T20:48:15.230Z"
   },
   {
    "duration": 11,
    "start_time": "2022-11-15T20:48:15.250Z"
   },
   {
    "duration": 11,
    "start_time": "2022-11-15T20:48:15.262Z"
   },
   {
    "duration": 836,
    "start_time": "2022-11-15T20:48:35.525Z"
   },
   {
    "duration": 496,
    "start_time": "2022-11-15T20:48:51.611Z"
   },
   {
    "duration": 19,
    "start_time": "2022-11-15T20:48:52.108Z"
   },
   {
    "duration": 21,
    "start_time": "2022-11-15T20:48:52.128Z"
   },
   {
    "duration": 23,
    "start_time": "2022-11-15T20:48:52.151Z"
   },
   {
    "duration": 20,
    "start_time": "2022-11-15T20:48:52.176Z"
   },
   {
    "duration": 41,
    "start_time": "2022-11-15T20:48:52.198Z"
   },
   {
    "duration": 4,
    "start_time": "2022-11-15T20:48:52.241Z"
   },
   {
    "duration": 20,
    "start_time": "2022-11-15T20:48:52.247Z"
   },
   {
    "duration": 7,
    "start_time": "2022-11-15T20:48:52.268Z"
   },
   {
    "duration": 12,
    "start_time": "2022-11-15T20:48:52.276Z"
   },
   {
    "duration": 11,
    "start_time": "2022-11-15T20:48:52.289Z"
   },
   {
    "duration": 31,
    "start_time": "2022-11-15T20:48:52.301Z"
   },
   {
    "duration": 11,
    "start_time": "2022-11-15T20:48:52.334Z"
   },
   {
    "duration": 7,
    "start_time": "2022-11-15T20:48:52.348Z"
   },
   {
    "duration": 15,
    "start_time": "2022-11-15T20:48:52.356Z"
   },
   {
    "duration": 10,
    "start_time": "2022-11-15T20:48:52.373Z"
   },
   {
    "duration": 21,
    "start_time": "2022-11-15T20:48:52.385Z"
   },
   {
    "duration": 33,
    "start_time": "2022-11-15T20:48:52.408Z"
   },
   {
    "duration": 16,
    "start_time": "2022-11-15T20:48:52.442Z"
   },
   {
    "duration": 17,
    "start_time": "2022-11-15T20:48:52.459Z"
   },
   {
    "duration": 30,
    "start_time": "2022-11-15T20:48:52.478Z"
   },
   {
    "duration": 22,
    "start_time": "2022-11-15T20:48:52.509Z"
   },
   {
    "duration": 10,
    "start_time": "2022-11-15T20:48:52.533Z"
   },
   {
    "duration": 16,
    "start_time": "2022-11-15T20:48:52.545Z"
   },
   {
    "duration": 13,
    "start_time": "2022-11-15T20:48:52.562Z"
   },
   {
    "duration": 42,
    "start_time": "2022-11-15T20:48:52.576Z"
   },
   {
    "duration": 22,
    "start_time": "2022-11-15T20:48:52.619Z"
   },
   {
    "duration": 16,
    "start_time": "2022-11-15T20:48:52.643Z"
   },
   {
    "duration": 18,
    "start_time": "2022-11-15T20:48:52.660Z"
   },
   {
    "duration": 10,
    "start_time": "2022-11-15T20:48:52.680Z"
   },
   {
    "duration": 27,
    "start_time": "2022-11-15T20:48:52.691Z"
   },
   {
    "duration": 17,
    "start_time": "2022-11-15T20:48:52.726Z"
   },
   {
    "duration": 14,
    "start_time": "2022-11-15T20:48:52.745Z"
   },
   {
    "duration": 34,
    "start_time": "2022-11-15T20:48:52.761Z"
   },
   {
    "duration": 8,
    "start_time": "2022-11-15T20:48:52.797Z"
   },
   {
    "duration": 37,
    "start_time": "2022-11-15T20:48:52.806Z"
   },
   {
    "duration": 18,
    "start_time": "2022-11-15T20:48:52.845Z"
   },
   {
    "duration": 16,
    "start_time": "2022-11-15T20:48:52.864Z"
   },
   {
    "duration": 525,
    "start_time": "2022-11-15T20:51:40.781Z"
   },
   {
    "duration": 20,
    "start_time": "2022-11-15T20:51:41.308Z"
   },
   {
    "duration": 15,
    "start_time": "2022-11-15T20:51:41.330Z"
   },
   {
    "duration": 19,
    "start_time": "2022-11-15T20:51:41.347Z"
   },
   {
    "duration": 59,
    "start_time": "2022-11-15T20:51:41.369Z"
   },
   {
    "duration": 43,
    "start_time": "2022-11-15T20:51:41.430Z"
   },
   {
    "duration": 5,
    "start_time": "2022-11-15T20:51:41.475Z"
   },
   {
    "duration": 8,
    "start_time": "2022-11-15T20:51:41.481Z"
   },
   {
    "duration": 5,
    "start_time": "2022-11-15T20:51:41.491Z"
   },
   {
    "duration": 15,
    "start_time": "2022-11-15T20:51:41.514Z"
   },
   {
    "duration": 6,
    "start_time": "2022-11-15T20:51:41.531Z"
   },
   {
    "duration": 6,
    "start_time": "2022-11-15T20:51:41.539Z"
   },
   {
    "duration": 6,
    "start_time": "2022-11-15T20:51:41.547Z"
   },
   {
    "duration": 5,
    "start_time": "2022-11-15T20:51:41.558Z"
   },
   {
    "duration": 9,
    "start_time": "2022-11-15T20:51:41.564Z"
   },
   {
    "duration": 43,
    "start_time": "2022-11-15T20:51:41.574Z"
   },
   {
    "duration": 25,
    "start_time": "2022-11-15T20:51:41.619Z"
   },
   {
    "duration": 17,
    "start_time": "2022-11-15T20:51:41.645Z"
   },
   {
    "duration": 18,
    "start_time": "2022-11-15T20:51:41.664Z"
   },
   {
    "duration": 26,
    "start_time": "2022-11-15T20:51:41.684Z"
   },
   {
    "duration": 15,
    "start_time": "2022-11-15T20:51:41.714Z"
   },
   {
    "duration": 27,
    "start_time": "2022-11-15T20:51:41.731Z"
   },
   {
    "duration": 32,
    "start_time": "2022-11-15T20:51:41.760Z"
   },
   {
    "duration": 40,
    "start_time": "2022-11-15T20:51:41.793Z"
   },
   {
    "duration": 23,
    "start_time": "2022-11-15T20:51:41.835Z"
   },
   {
    "duration": 62,
    "start_time": "2022-11-15T20:51:41.860Z"
   },
   {
    "duration": 17,
    "start_time": "2022-11-15T20:51:41.926Z"
   },
   {
    "duration": 76,
    "start_time": "2022-11-15T20:51:41.945Z"
   },
   {
    "duration": 35,
    "start_time": "2022-11-15T20:51:42.022Z"
   },
   {
    "duration": 74,
    "start_time": "2022-11-15T20:51:42.059Z"
   },
   {
    "duration": 84,
    "start_time": "2022-11-15T20:51:42.135Z"
   },
   {
    "duration": 25,
    "start_time": "2022-11-15T20:51:42.221Z"
   },
   {
    "duration": 79,
    "start_time": "2022-11-15T20:51:42.249Z"
   },
   {
    "duration": 5,
    "start_time": "2022-11-15T20:51:42.331Z"
   },
   {
    "duration": 28,
    "start_time": "2022-11-15T20:51:42.338Z"
   },
   {
    "duration": 14,
    "start_time": "2022-11-15T20:51:42.414Z"
   },
   {
    "duration": 21,
    "start_time": "2022-11-15T20:51:42.431Z"
   },
   {
    "duration": 16,
    "start_time": "2022-11-15T20:52:13.289Z"
   },
   {
    "duration": 8,
    "start_time": "2022-11-15T21:09:22.494Z"
   },
   {
    "duration": 13,
    "start_time": "2022-11-15T21:10:25.827Z"
   },
   {
    "duration": 498,
    "start_time": "2022-11-15T21:43:08.477Z"
   },
   {
    "duration": 14,
    "start_time": "2022-11-15T21:43:08.977Z"
   },
   {
    "duration": 31,
    "start_time": "2022-11-15T21:43:08.995Z"
   },
   {
    "duration": 26,
    "start_time": "2022-11-15T21:43:09.028Z"
   },
   {
    "duration": 19,
    "start_time": "2022-11-15T21:43:09.056Z"
   },
   {
    "duration": 49,
    "start_time": "2022-11-15T21:43:09.077Z"
   },
   {
    "duration": 5,
    "start_time": "2022-11-15T21:43:09.127Z"
   },
   {
    "duration": 42,
    "start_time": "2022-11-15T21:43:09.134Z"
   },
   {
    "duration": 5,
    "start_time": "2022-11-15T21:43:09.179Z"
   },
   {
    "duration": 44,
    "start_time": "2022-11-15T21:43:09.186Z"
   },
   {
    "duration": 15,
    "start_time": "2022-11-15T21:43:09.232Z"
   },
   {
    "duration": 7,
    "start_time": "2022-11-15T21:43:09.248Z"
   },
   {
    "duration": 7,
    "start_time": "2022-11-15T21:43:09.256Z"
   },
   {
    "duration": 24,
    "start_time": "2022-11-15T21:43:09.264Z"
   },
   {
    "duration": 12,
    "start_time": "2022-11-15T21:43:09.289Z"
   },
   {
    "duration": 8,
    "start_time": "2022-11-15T21:43:09.303Z"
   },
   {
    "duration": 24,
    "start_time": "2022-11-15T21:43:09.313Z"
   },
   {
    "duration": 7,
    "start_time": "2022-11-15T21:43:09.338Z"
   },
   {
    "duration": 11,
    "start_time": "2022-11-15T21:43:09.347Z"
   },
   {
    "duration": 8,
    "start_time": "2022-11-15T21:43:09.360Z"
   },
   {
    "duration": 7,
    "start_time": "2022-11-15T21:43:09.370Z"
   },
   {
    "duration": 17,
    "start_time": "2022-11-15T21:43:09.379Z"
   },
   {
    "duration": 21,
    "start_time": "2022-11-15T21:43:09.398Z"
   },
   {
    "duration": 19,
    "start_time": "2022-11-15T21:43:09.422Z"
   },
   {
    "duration": 8,
    "start_time": "2022-11-15T21:43:09.442Z"
   },
   {
    "duration": 7,
    "start_time": "2022-11-15T21:43:09.451Z"
   },
   {
    "duration": 16,
    "start_time": "2022-11-15T21:43:09.461Z"
   },
   {
    "duration": 10,
    "start_time": "2022-11-15T21:43:09.479Z"
   },
   {
    "duration": 40,
    "start_time": "2022-11-15T21:43:09.491Z"
   },
   {
    "duration": 8,
    "start_time": "2022-11-15T21:43:09.534Z"
   },
   {
    "duration": 10,
    "start_time": "2022-11-15T21:43:09.544Z"
   },
   {
    "duration": 26,
    "start_time": "2022-11-15T21:43:09.556Z"
   },
   {
    "duration": 20,
    "start_time": "2022-11-15T21:43:09.584Z"
   },
   {
    "duration": 17,
    "start_time": "2022-11-15T21:43:09.611Z"
   },
   {
    "duration": 24,
    "start_time": "2022-11-15T21:43:09.629Z"
   },
   {
    "duration": 6,
    "start_time": "2022-11-15T21:43:09.654Z"
   },
   {
    "duration": 27,
    "start_time": "2022-11-15T21:43:09.661Z"
   },
   {
    "duration": 16,
    "start_time": "2022-11-15T21:43:09.689Z"
   },
   {
    "duration": 30,
    "start_time": "2022-11-15T21:43:09.712Z"
   }
  ],
  "kernelspec": {
   "display_name": "Python 3 (ipykernel)",
   "language": "python",
   "name": "python3"
  },
  "language_info": {
   "codemirror_mode": {
    "name": "ipython",
    "version": 3
   },
   "file_extension": ".py",
   "mimetype": "text/x-python",
   "name": "python",
   "nbconvert_exporter": "python",
   "pygments_lexer": "ipython3",
   "version": "3.9.13"
  },
  "toc": {
   "base_numbering": 1,
   "nav_menu": {},
   "number_sections": true,
   "sideBar": true,
   "skip_h1_title": true,
   "title_cell": "Table of Contents",
   "title_sidebar": "Contents",
   "toc_cell": false,
   "toc_position": {
    "height": "calc(100% - 180px)",
    "left": "10px",
    "top": "150px",
    "width": "540.422px"
   },
   "toc_section_display": true,
   "toc_window_display": true
  }
 },
 "nbformat": 4,
 "nbformat_minor": 5
}
