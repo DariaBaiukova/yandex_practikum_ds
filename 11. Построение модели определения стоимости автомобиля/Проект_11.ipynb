{
 "cells": [
  {
   "cell_type": "markdown",
   "metadata": {},
   "source": [
    "# Определение стоимости автомобилей"
   ]
  },
  {
   "cell_type": "markdown",
   "metadata": {},
   "source": [
    "Сервис по продаже автомобилей с пробегом «Не бит, не крашен» разрабатывает приложение для привлечения новых клиентов. В нём можно быстро узнать рыночную стоимость своего автомобиля. В вашем распоряжении исторические данные: технические характеристики, комплектации и цены автомобилей. Вам нужно построить модель для определения стоимости. \n",
    "\n",
    "Заказчику важны:\n",
    "\n",
    "- качество предсказания;\n",
    "- скорость предсказания;\n",
    "- время обучения."
   ]
  },
  {
   "cell_type": "markdown",
   "metadata": {},
   "source": [
    "Признаки\n",
    "- DateCrawled — дата скачивания анкеты из базы\n",
    "- VehicleType — тип автомобильного кузова\n",
    "- RegistrationYear — год регистрации автомобиля\n",
    "- Gearbox — тип коробки передач\n",
    "- Power — мощность (л. с.)\n",
    "- Model — модель автомобиля\n",
    "- Kilometer — пробег (км)\n",
    "- RegistrationMonth — месяц регистрации автомобиля\n",
    "- FuelType — тип топлива\n",
    "- Brand — марка автомобиля\n",
    "- NotRepaired — была машина в ремонте или нет\n",
    "- DateCreated — дата создания анкеты\n",
    "- NumberOfPictures — количество фотографий автомобиля\n",
    "- PostalCode — почтовый индекс владельца анкеты (пользователя)\n",
    "- LastSeen — дата последней активности пользователя\n",
    "\n",
    "Целевой признак\n",
    "- Price — цена (евро)"
   ]
  },
  {
   "cell_type": "markdown",
   "metadata": {},
   "source": [
    "<h1>Содержание<span class=\"tocSkip\"></span></h1>\n",
    "\n",
    "\n",
    "[1.Подготовка данных](#section_id)\n",
    "\n",
    "[2.Обучение моделей](#section_i)\n",
    "\n",
    "[2.1 LinearRegression](#sectio)\n",
    "\n",
    "[2.2 RandomForestRegressor](#secti)\n",
    "\n",
    "[2.3 CatBoostRegressor](#sect)\n",
    "\n",
    "[2.4 LGBMRegressor](#sec)\n",
    "\n",
    "[3.Анализ моделей](#section)\n"
   ]
  },
  {
   "cell_type": "markdown",
   "metadata": {},
   "source": [
    "## Подготовка данных\n",
    "<a id='section_id'></a>"
   ]
  },
  {
   "cell_type": "code",
   "execution_count": 2,
   "metadata": {},
   "outputs": [],
   "source": [
    "import pandas as pd\n",
    "import numpy as np\n",
    "import matplotlib.pyplot as plt\n",
    "import lightgbm as lgb\n",
    "from scipy.stats import mode\n",
    "\n",
    "from sklearn.preprocessing import StandardScaler,OrdinalEncoder\n",
    "from sklearn.model_selection import train_test_split,GridSearchCV,RandomizedSearchCV\n",
    "from sklearn.ensemble import RandomForestRegressor\n",
    "from sklearn.metrics import mean_squared_error\n",
    "from sklearn.linear_model import LinearRegression\n",
    "\n",
    "from catboost import CatBoostRegressor as cat\n",
    "from lightgbm import LGBMRegressor "
   ]
  },
  {
   "cell_type": "code",
   "execution_count": 2,
   "metadata": {},
   "outputs": [
    {
     "data": {
      "text/html": [
       "<div>\n",
       "<style scoped>\n",
       "    .dataframe tbody tr th:only-of-type {\n",
       "        vertical-align: middle;\n",
       "    }\n",
       "\n",
       "    .dataframe tbody tr th {\n",
       "        vertical-align: top;\n",
       "    }\n",
       "\n",
       "    .dataframe thead th {\n",
       "        text-align: right;\n",
       "    }\n",
       "</style>\n",
       "<table border=\"1\" class=\"dataframe\">\n",
       "  <thead>\n",
       "    <tr style=\"text-align: right;\">\n",
       "      <th></th>\n",
       "      <th>DateCrawled</th>\n",
       "      <th>Price</th>\n",
       "      <th>VehicleType</th>\n",
       "      <th>RegistrationYear</th>\n",
       "      <th>Gearbox</th>\n",
       "      <th>Power</th>\n",
       "      <th>Model</th>\n",
       "      <th>Kilometer</th>\n",
       "      <th>RegistrationMonth</th>\n",
       "      <th>FuelType</th>\n",
       "      <th>Brand</th>\n",
       "      <th>NotRepaired</th>\n",
       "      <th>DateCreated</th>\n",
       "      <th>NumberOfPictures</th>\n",
       "      <th>PostalCode</th>\n",
       "      <th>LastSeen</th>\n",
       "    </tr>\n",
       "  </thead>\n",
       "  <tbody>\n",
       "    <tr>\n",
       "      <th>0</th>\n",
       "      <td>2016-03-24 11:52:17</td>\n",
       "      <td>480</td>\n",
       "      <td>NaN</td>\n",
       "      <td>1993</td>\n",
       "      <td>manual</td>\n",
       "      <td>0</td>\n",
       "      <td>golf</td>\n",
       "      <td>150000</td>\n",
       "      <td>0</td>\n",
       "      <td>petrol</td>\n",
       "      <td>volkswagen</td>\n",
       "      <td>NaN</td>\n",
       "      <td>2016-03-24 00:00:00</td>\n",
       "      <td>0</td>\n",
       "      <td>70435</td>\n",
       "      <td>2016-04-07 03:16:57</td>\n",
       "    </tr>\n",
       "    <tr>\n",
       "      <th>1</th>\n",
       "      <td>2016-03-24 10:58:45</td>\n",
       "      <td>18300</td>\n",
       "      <td>coupe</td>\n",
       "      <td>2011</td>\n",
       "      <td>manual</td>\n",
       "      <td>190</td>\n",
       "      <td>NaN</td>\n",
       "      <td>125000</td>\n",
       "      <td>5</td>\n",
       "      <td>gasoline</td>\n",
       "      <td>audi</td>\n",
       "      <td>yes</td>\n",
       "      <td>2016-03-24 00:00:00</td>\n",
       "      <td>0</td>\n",
       "      <td>66954</td>\n",
       "      <td>2016-04-07 01:46:50</td>\n",
       "    </tr>\n",
       "    <tr>\n",
       "      <th>2</th>\n",
       "      <td>2016-03-14 12:52:21</td>\n",
       "      <td>9800</td>\n",
       "      <td>suv</td>\n",
       "      <td>2004</td>\n",
       "      <td>auto</td>\n",
       "      <td>163</td>\n",
       "      <td>grand</td>\n",
       "      <td>125000</td>\n",
       "      <td>8</td>\n",
       "      <td>gasoline</td>\n",
       "      <td>jeep</td>\n",
       "      <td>NaN</td>\n",
       "      <td>2016-03-14 00:00:00</td>\n",
       "      <td>0</td>\n",
       "      <td>90480</td>\n",
       "      <td>2016-04-05 12:47:46</td>\n",
       "    </tr>\n",
       "    <tr>\n",
       "      <th>3</th>\n",
       "      <td>2016-03-17 16:54:04</td>\n",
       "      <td>1500</td>\n",
       "      <td>small</td>\n",
       "      <td>2001</td>\n",
       "      <td>manual</td>\n",
       "      <td>75</td>\n",
       "      <td>golf</td>\n",
       "      <td>150000</td>\n",
       "      <td>6</td>\n",
       "      <td>petrol</td>\n",
       "      <td>volkswagen</td>\n",
       "      <td>no</td>\n",
       "      <td>2016-03-17 00:00:00</td>\n",
       "      <td>0</td>\n",
       "      <td>91074</td>\n",
       "      <td>2016-03-17 17:40:17</td>\n",
       "    </tr>\n",
       "    <tr>\n",
       "      <th>4</th>\n",
       "      <td>2016-03-31 17:25:20</td>\n",
       "      <td>3600</td>\n",
       "      <td>small</td>\n",
       "      <td>2008</td>\n",
       "      <td>manual</td>\n",
       "      <td>69</td>\n",
       "      <td>fabia</td>\n",
       "      <td>90000</td>\n",
       "      <td>7</td>\n",
       "      <td>gasoline</td>\n",
       "      <td>skoda</td>\n",
       "      <td>no</td>\n",
       "      <td>2016-03-31 00:00:00</td>\n",
       "      <td>0</td>\n",
       "      <td>60437</td>\n",
       "      <td>2016-04-06 10:17:21</td>\n",
       "    </tr>\n",
       "    <tr>\n",
       "      <th>...</th>\n",
       "      <td>...</td>\n",
       "      <td>...</td>\n",
       "      <td>...</td>\n",
       "      <td>...</td>\n",
       "      <td>...</td>\n",
       "      <td>...</td>\n",
       "      <td>...</td>\n",
       "      <td>...</td>\n",
       "      <td>...</td>\n",
       "      <td>...</td>\n",
       "      <td>...</td>\n",
       "      <td>...</td>\n",
       "      <td>...</td>\n",
       "      <td>...</td>\n",
       "      <td>...</td>\n",
       "      <td>...</td>\n",
       "    </tr>\n",
       "    <tr>\n",
       "      <th>354364</th>\n",
       "      <td>2016-03-21 09:50:58</td>\n",
       "      <td>0</td>\n",
       "      <td>NaN</td>\n",
       "      <td>2005</td>\n",
       "      <td>manual</td>\n",
       "      <td>0</td>\n",
       "      <td>colt</td>\n",
       "      <td>150000</td>\n",
       "      <td>7</td>\n",
       "      <td>petrol</td>\n",
       "      <td>mitsubishi</td>\n",
       "      <td>yes</td>\n",
       "      <td>2016-03-21 00:00:00</td>\n",
       "      <td>0</td>\n",
       "      <td>2694</td>\n",
       "      <td>2016-03-21 10:42:49</td>\n",
       "    </tr>\n",
       "    <tr>\n",
       "      <th>354365</th>\n",
       "      <td>2016-03-14 17:48:27</td>\n",
       "      <td>2200</td>\n",
       "      <td>NaN</td>\n",
       "      <td>2005</td>\n",
       "      <td>NaN</td>\n",
       "      <td>0</td>\n",
       "      <td>NaN</td>\n",
       "      <td>20000</td>\n",
       "      <td>1</td>\n",
       "      <td>NaN</td>\n",
       "      <td>sonstige_autos</td>\n",
       "      <td>NaN</td>\n",
       "      <td>2016-03-14 00:00:00</td>\n",
       "      <td>0</td>\n",
       "      <td>39576</td>\n",
       "      <td>2016-04-06 00:46:52</td>\n",
       "    </tr>\n",
       "    <tr>\n",
       "      <th>354366</th>\n",
       "      <td>2016-03-05 19:56:21</td>\n",
       "      <td>1199</td>\n",
       "      <td>convertible</td>\n",
       "      <td>2000</td>\n",
       "      <td>auto</td>\n",
       "      <td>101</td>\n",
       "      <td>fortwo</td>\n",
       "      <td>125000</td>\n",
       "      <td>3</td>\n",
       "      <td>petrol</td>\n",
       "      <td>smart</td>\n",
       "      <td>no</td>\n",
       "      <td>2016-03-05 00:00:00</td>\n",
       "      <td>0</td>\n",
       "      <td>26135</td>\n",
       "      <td>2016-03-11 18:17:12</td>\n",
       "    </tr>\n",
       "    <tr>\n",
       "      <th>354367</th>\n",
       "      <td>2016-03-19 18:57:12</td>\n",
       "      <td>9200</td>\n",
       "      <td>bus</td>\n",
       "      <td>1996</td>\n",
       "      <td>manual</td>\n",
       "      <td>102</td>\n",
       "      <td>transporter</td>\n",
       "      <td>150000</td>\n",
       "      <td>3</td>\n",
       "      <td>gasoline</td>\n",
       "      <td>volkswagen</td>\n",
       "      <td>no</td>\n",
       "      <td>2016-03-19 00:00:00</td>\n",
       "      <td>0</td>\n",
       "      <td>87439</td>\n",
       "      <td>2016-04-07 07:15:26</td>\n",
       "    </tr>\n",
       "    <tr>\n",
       "      <th>354368</th>\n",
       "      <td>2016-03-20 19:41:08</td>\n",
       "      <td>3400</td>\n",
       "      <td>wagon</td>\n",
       "      <td>2002</td>\n",
       "      <td>manual</td>\n",
       "      <td>100</td>\n",
       "      <td>golf</td>\n",
       "      <td>150000</td>\n",
       "      <td>6</td>\n",
       "      <td>gasoline</td>\n",
       "      <td>volkswagen</td>\n",
       "      <td>NaN</td>\n",
       "      <td>2016-03-20 00:00:00</td>\n",
       "      <td>0</td>\n",
       "      <td>40764</td>\n",
       "      <td>2016-03-24 12:45:21</td>\n",
       "    </tr>\n",
       "  </tbody>\n",
       "</table>\n",
       "<p>354369 rows × 16 columns</p>\n",
       "</div>"
      ],
      "text/plain": [
       "                DateCrawled  Price  VehicleType  RegistrationYear Gearbox  \\\n",
       "0       2016-03-24 11:52:17    480          NaN              1993  manual   \n",
       "1       2016-03-24 10:58:45  18300        coupe              2011  manual   \n",
       "2       2016-03-14 12:52:21   9800          suv              2004    auto   \n",
       "3       2016-03-17 16:54:04   1500        small              2001  manual   \n",
       "4       2016-03-31 17:25:20   3600        small              2008  manual   \n",
       "...                     ...    ...          ...               ...     ...   \n",
       "354364  2016-03-21 09:50:58      0          NaN              2005  manual   \n",
       "354365  2016-03-14 17:48:27   2200          NaN              2005     NaN   \n",
       "354366  2016-03-05 19:56:21   1199  convertible              2000    auto   \n",
       "354367  2016-03-19 18:57:12   9200          bus              1996  manual   \n",
       "354368  2016-03-20 19:41:08   3400        wagon              2002  manual   \n",
       "\n",
       "        Power        Model  Kilometer  RegistrationMonth  FuelType  \\\n",
       "0           0         golf     150000                  0    petrol   \n",
       "1         190          NaN     125000                  5  gasoline   \n",
       "2         163        grand     125000                  8  gasoline   \n",
       "3          75         golf     150000                  6    petrol   \n",
       "4          69        fabia      90000                  7  gasoline   \n",
       "...       ...          ...        ...                ...       ...   \n",
       "354364      0         colt     150000                  7    petrol   \n",
       "354365      0          NaN      20000                  1       NaN   \n",
       "354366    101       fortwo     125000                  3    petrol   \n",
       "354367    102  transporter     150000                  3  gasoline   \n",
       "354368    100         golf     150000                  6  gasoline   \n",
       "\n",
       "                 Brand NotRepaired          DateCreated  NumberOfPictures  \\\n",
       "0           volkswagen         NaN  2016-03-24 00:00:00                 0   \n",
       "1                 audi         yes  2016-03-24 00:00:00                 0   \n",
       "2                 jeep         NaN  2016-03-14 00:00:00                 0   \n",
       "3           volkswagen          no  2016-03-17 00:00:00                 0   \n",
       "4                skoda          no  2016-03-31 00:00:00                 0   \n",
       "...                ...         ...                  ...               ...   \n",
       "354364      mitsubishi         yes  2016-03-21 00:00:00                 0   \n",
       "354365  sonstige_autos         NaN  2016-03-14 00:00:00                 0   \n",
       "354366           smart          no  2016-03-05 00:00:00                 0   \n",
       "354367      volkswagen          no  2016-03-19 00:00:00                 0   \n",
       "354368      volkswagen         NaN  2016-03-20 00:00:00                 0   \n",
       "\n",
       "        PostalCode             LastSeen  \n",
       "0            70435  2016-04-07 03:16:57  \n",
       "1            66954  2016-04-07 01:46:50  \n",
       "2            90480  2016-04-05 12:47:46  \n",
       "3            91074  2016-03-17 17:40:17  \n",
       "4            60437  2016-04-06 10:17:21  \n",
       "...            ...                  ...  \n",
       "354364        2694  2016-03-21 10:42:49  \n",
       "354365       39576  2016-04-06 00:46:52  \n",
       "354366       26135  2016-03-11 18:17:12  \n",
       "354367       87439  2016-04-07 07:15:26  \n",
       "354368       40764  2016-03-24 12:45:21  \n",
       "\n",
       "[354369 rows x 16 columns]"
      ]
     },
     "execution_count": 2,
     "metadata": {},
     "output_type": "execute_result"
    }
   ],
   "source": [
    "df = pd.read_csv('/datasets/autos.csv')\n",
    "df"
   ]
  },
  {
   "cell_type": "code",
   "execution_count": 3,
   "metadata": {},
   "outputs": [
    {
     "name": "stdout",
     "output_type": "stream",
     "text": [
      "<class 'pandas.core.frame.DataFrame'>\n",
      "RangeIndex: 354369 entries, 0 to 354368\n",
      "Data columns (total 16 columns):\n",
      " #   Column             Non-Null Count   Dtype \n",
      "---  ------             --------------   ----- \n",
      " 0   DateCrawled        354369 non-null  object\n",
      " 1   Price              354369 non-null  int64 \n",
      " 2   VehicleType        316879 non-null  object\n",
      " 3   RegistrationYear   354369 non-null  int64 \n",
      " 4   Gearbox            334536 non-null  object\n",
      " 5   Power              354369 non-null  int64 \n",
      " 6   Model              334664 non-null  object\n",
      " 7   Kilometer          354369 non-null  int64 \n",
      " 8   RegistrationMonth  354369 non-null  int64 \n",
      " 9   FuelType           321474 non-null  object\n",
      " 10  Brand              354369 non-null  object\n",
      " 11  NotRepaired        283215 non-null  object\n",
      " 12  DateCreated        354369 non-null  object\n",
      " 13  NumberOfPictures   354369 non-null  int64 \n",
      " 14  PostalCode         354369 non-null  int64 \n",
      " 15  LastSeen           354369 non-null  object\n",
      "dtypes: int64(7), object(9)\n",
      "memory usage: 43.3+ MB\n"
     ]
    }
   ],
   "source": [
    "df.info()"
   ]
  },
  {
   "cell_type": "code",
   "execution_count": 4,
   "metadata": {},
   "outputs": [
    {
     "name": "stdout",
     "output_type": "stream",
     "text": [
      "DateCrawled - 0%\n",
      "Price - 0%\n",
      "VehicleType - 11%\n",
      "RegistrationYear - 0%\n",
      "Gearbox - 6%\n",
      "Power - 0%\n",
      "Model - 6%\n",
      "Kilometer - 0%\n",
      "RegistrationMonth - 0%\n",
      "FuelType - 9%\n",
      "Brand - 0%\n",
      "NotRepaired - 20%\n",
      "DateCreated - 0%\n",
      "NumberOfPictures - 0%\n",
      "PostalCode - 0%\n",
      "LastSeen - 0%\n"
     ]
    }
   ],
   "source": [
    "for column in df.columns:\n",
    "    missing_values = np.mean(df[column].isna())\n",
    "    print('{} - {}%'.format(column, round(missing_values*100)))"
   ]
  },
  {
   "cell_type": "markdown",
   "metadata": {},
   "source": [
    "Имеются пропуски в столбцах:  \n",
    "    VehicleType - тип автомобильного кузова  \n",
    "    Gearbox -  тип коробки передач  \n",
    "    Model - модель автомобиля  \n",
    "    FuelType - тип топлива  \n",
    "    NotRepaired - была машина в ремонте или нет  \n",
    "    \n",
    "Можно заменить данными для других автомобилей со схожими характеристиками, пропуски в NotRepaired заменим на 'no'"
   ]
  },
  {
   "cell_type": "code",
   "execution_count": 5,
   "metadata": {},
   "outputs": [
    {
     "data": {
      "text/html": [
       "<div>\n",
       "<style scoped>\n",
       "    .dataframe tbody tr th:only-of-type {\n",
       "        vertical-align: middle;\n",
       "    }\n",
       "\n",
       "    .dataframe tbody tr th {\n",
       "        vertical-align: top;\n",
       "    }\n",
       "\n",
       "    .dataframe thead th {\n",
       "        text-align: right;\n",
       "    }\n",
       "</style>\n",
       "<table border=\"1\" class=\"dataframe\">\n",
       "  <thead>\n",
       "    <tr style=\"text-align: right;\">\n",
       "      <th></th>\n",
       "      <th>Price</th>\n",
       "      <th>RegistrationYear</th>\n",
       "      <th>Power</th>\n",
       "      <th>Kilometer</th>\n",
       "      <th>RegistrationMonth</th>\n",
       "      <th>NumberOfPictures</th>\n",
       "      <th>PostalCode</th>\n",
       "    </tr>\n",
       "  </thead>\n",
       "  <tbody>\n",
       "    <tr>\n",
       "      <th>count</th>\n",
       "      <td>354369.000000</td>\n",
       "      <td>354369.000000</td>\n",
       "      <td>354369.000000</td>\n",
       "      <td>354369.000000</td>\n",
       "      <td>354369.000000</td>\n",
       "      <td>354369.0</td>\n",
       "      <td>354369.000000</td>\n",
       "    </tr>\n",
       "    <tr>\n",
       "      <th>mean</th>\n",
       "      <td>4416.656776</td>\n",
       "      <td>2004.234448</td>\n",
       "      <td>110.094337</td>\n",
       "      <td>128211.172535</td>\n",
       "      <td>5.714645</td>\n",
       "      <td>0.0</td>\n",
       "      <td>50508.689087</td>\n",
       "    </tr>\n",
       "    <tr>\n",
       "      <th>std</th>\n",
       "      <td>4514.158514</td>\n",
       "      <td>90.227958</td>\n",
       "      <td>189.850405</td>\n",
       "      <td>37905.341530</td>\n",
       "      <td>3.726421</td>\n",
       "      <td>0.0</td>\n",
       "      <td>25783.096248</td>\n",
       "    </tr>\n",
       "    <tr>\n",
       "      <th>min</th>\n",
       "      <td>0.000000</td>\n",
       "      <td>1000.000000</td>\n",
       "      <td>0.000000</td>\n",
       "      <td>5000.000000</td>\n",
       "      <td>0.000000</td>\n",
       "      <td>0.0</td>\n",
       "      <td>1067.000000</td>\n",
       "    </tr>\n",
       "    <tr>\n",
       "      <th>25%</th>\n",
       "      <td>1050.000000</td>\n",
       "      <td>1999.000000</td>\n",
       "      <td>69.000000</td>\n",
       "      <td>125000.000000</td>\n",
       "      <td>3.000000</td>\n",
       "      <td>0.0</td>\n",
       "      <td>30165.000000</td>\n",
       "    </tr>\n",
       "    <tr>\n",
       "      <th>50%</th>\n",
       "      <td>2700.000000</td>\n",
       "      <td>2003.000000</td>\n",
       "      <td>105.000000</td>\n",
       "      <td>150000.000000</td>\n",
       "      <td>6.000000</td>\n",
       "      <td>0.0</td>\n",
       "      <td>49413.000000</td>\n",
       "    </tr>\n",
       "    <tr>\n",
       "      <th>75%</th>\n",
       "      <td>6400.000000</td>\n",
       "      <td>2008.000000</td>\n",
       "      <td>143.000000</td>\n",
       "      <td>150000.000000</td>\n",
       "      <td>9.000000</td>\n",
       "      <td>0.0</td>\n",
       "      <td>71083.000000</td>\n",
       "    </tr>\n",
       "    <tr>\n",
       "      <th>max</th>\n",
       "      <td>20000.000000</td>\n",
       "      <td>9999.000000</td>\n",
       "      <td>20000.000000</td>\n",
       "      <td>150000.000000</td>\n",
       "      <td>12.000000</td>\n",
       "      <td>0.0</td>\n",
       "      <td>99998.000000</td>\n",
       "    </tr>\n",
       "  </tbody>\n",
       "</table>\n",
       "</div>"
      ],
      "text/plain": [
       "               Price  RegistrationYear          Power      Kilometer  \\\n",
       "count  354369.000000     354369.000000  354369.000000  354369.000000   \n",
       "mean     4416.656776       2004.234448     110.094337  128211.172535   \n",
       "std      4514.158514         90.227958     189.850405   37905.341530   \n",
       "min         0.000000       1000.000000       0.000000    5000.000000   \n",
       "25%      1050.000000       1999.000000      69.000000  125000.000000   \n",
       "50%      2700.000000       2003.000000     105.000000  150000.000000   \n",
       "75%      6400.000000       2008.000000     143.000000  150000.000000   \n",
       "max     20000.000000       9999.000000   20000.000000  150000.000000   \n",
       "\n",
       "       RegistrationMonth  NumberOfPictures     PostalCode  \n",
       "count      354369.000000          354369.0  354369.000000  \n",
       "mean            5.714645               0.0   50508.689087  \n",
       "std             3.726421               0.0   25783.096248  \n",
       "min             0.000000               0.0    1067.000000  \n",
       "25%             3.000000               0.0   30165.000000  \n",
       "50%             6.000000               0.0   49413.000000  \n",
       "75%             9.000000               0.0   71083.000000  \n",
       "max            12.000000               0.0   99998.000000  "
      ]
     },
     "execution_count": 5,
     "metadata": {},
     "output_type": "execute_result"
    }
   ],
   "source": [
    "df.describe()"
   ]
  },
  {
   "cell_type": "markdown",
   "metadata": {},
   "source": [
    "Выбросы RegistrationYear,минимум и максимум не соответсвуют действительности.\n",
    "Выбросы Power,максимум не соответсвует действительности, 0 лошадиных сил может быть в прицепе.\n",
    "Столбец NumberOfPictures принимает исключительно нулевые значения,его можно удалить"
   ]
  },
  {
   "cell_type": "code",
   "execution_count": 6,
   "metadata": {},
   "outputs": [
    {
     "data": {
      "text/plain": [
       "array([0])"
      ]
     },
     "execution_count": 6,
     "metadata": {},
     "output_type": "execute_result"
    }
   ],
   "source": [
    "df['NumberOfPictures'].unique()"
   ]
  },
  {
   "cell_type": "code",
   "execution_count": 7,
   "metadata": {},
   "outputs": [],
   "source": [
    "del df['NumberOfPictures']"
   ]
  },
  {
   "cell_type": "code",
   "execution_count": 8,
   "metadata": {},
   "outputs": [
    {
     "data": {
      "text/html": [
       "<div>\n",
       "<style scoped>\n",
       "    .dataframe tbody tr th:only-of-type {\n",
       "        vertical-align: middle;\n",
       "    }\n",
       "\n",
       "    .dataframe tbody tr th {\n",
       "        vertical-align: top;\n",
       "    }\n",
       "\n",
       "    .dataframe thead th {\n",
       "        text-align: right;\n",
       "    }\n",
       "</style>\n",
       "<table border=\"1\" class=\"dataframe\">\n",
       "  <thead>\n",
       "    <tr style=\"text-align: right;\">\n",
       "      <th></th>\n",
       "      <th>DateCrawled</th>\n",
       "      <th>Price</th>\n",
       "      <th>VehicleType</th>\n",
       "      <th>RegistrationYear</th>\n",
       "      <th>Gearbox</th>\n",
       "      <th>Power</th>\n",
       "      <th>Model</th>\n",
       "      <th>Kilometer</th>\n",
       "      <th>RegistrationMonth</th>\n",
       "      <th>FuelType</th>\n",
       "      <th>Brand</th>\n",
       "      <th>NotRepaired</th>\n",
       "      <th>DateCreated</th>\n",
       "      <th>PostalCode</th>\n",
       "      <th>LastSeen</th>\n",
       "    </tr>\n",
       "  </thead>\n",
       "  <tbody>\n",
       "    <tr>\n",
       "      <th>41529</th>\n",
       "      <td>2016-03-18 18:46:15</td>\n",
       "      <td>1999</td>\n",
       "      <td>wagon</td>\n",
       "      <td>2001</td>\n",
       "      <td>manual</td>\n",
       "      <td>131</td>\n",
       "      <td>passat</td>\n",
       "      <td>150000</td>\n",
       "      <td>7</td>\n",
       "      <td>gasoline</td>\n",
       "      <td>volkswagen</td>\n",
       "      <td>no</td>\n",
       "      <td>2016-03-18 00:00:00</td>\n",
       "      <td>36391</td>\n",
       "      <td>2016-03-18 18:46:15</td>\n",
       "    </tr>\n",
       "    <tr>\n",
       "      <th>325651</th>\n",
       "      <td>2016-03-18 18:46:15</td>\n",
       "      <td>1999</td>\n",
       "      <td>wagon</td>\n",
       "      <td>2001</td>\n",
       "      <td>manual</td>\n",
       "      <td>131</td>\n",
       "      <td>passat</td>\n",
       "      <td>150000</td>\n",
       "      <td>7</td>\n",
       "      <td>gasoline</td>\n",
       "      <td>volkswagen</td>\n",
       "      <td>no</td>\n",
       "      <td>2016-03-18 00:00:00</td>\n",
       "      <td>36391</td>\n",
       "      <td>2016-03-18 18:46:15</td>\n",
       "    </tr>\n",
       "    <tr>\n",
       "      <th>90964</th>\n",
       "      <td>2016-03-28 00:56:10</td>\n",
       "      <td>1000</td>\n",
       "      <td>small</td>\n",
       "      <td>2002</td>\n",
       "      <td>manual</td>\n",
       "      <td>83</td>\n",
       "      <td>other</td>\n",
       "      <td>150000</td>\n",
       "      <td>1</td>\n",
       "      <td>petrol</td>\n",
       "      <td>suzuki</td>\n",
       "      <td>no</td>\n",
       "      <td>2016-03-28 00:00:00</td>\n",
       "      <td>66589</td>\n",
       "      <td>2016-03-28 08:46:21</td>\n",
       "    </tr>\n",
       "    <tr>\n",
       "      <th>231258</th>\n",
       "      <td>2016-03-28 00:56:10</td>\n",
       "      <td>1000</td>\n",
       "      <td>small</td>\n",
       "      <td>2002</td>\n",
       "      <td>manual</td>\n",
       "      <td>83</td>\n",
       "      <td>other</td>\n",
       "      <td>150000</td>\n",
       "      <td>1</td>\n",
       "      <td>petrol</td>\n",
       "      <td>suzuki</td>\n",
       "      <td>no</td>\n",
       "      <td>2016-03-28 00:00:00</td>\n",
       "      <td>66589</td>\n",
       "      <td>2016-03-28 08:46:21</td>\n",
       "    </tr>\n",
       "    <tr>\n",
       "      <th>187735</th>\n",
       "      <td>2016-04-03 09:01:15</td>\n",
       "      <td>4699</td>\n",
       "      <td>coupe</td>\n",
       "      <td>2003</td>\n",
       "      <td>auto</td>\n",
       "      <td>218</td>\n",
       "      <td>clk</td>\n",
       "      <td>125000</td>\n",
       "      <td>6</td>\n",
       "      <td>petrol</td>\n",
       "      <td>mercedes_benz</td>\n",
       "      <td>yes</td>\n",
       "      <td>2016-04-03 00:00:00</td>\n",
       "      <td>75196</td>\n",
       "      <td>2016-04-07 09:44:54</td>\n",
       "    </tr>\n",
       "    <tr>\n",
       "      <th>258109</th>\n",
       "      <td>2016-04-03 09:01:15</td>\n",
       "      <td>4699</td>\n",
       "      <td>coupe</td>\n",
       "      <td>2003</td>\n",
       "      <td>auto</td>\n",
       "      <td>218</td>\n",
       "      <td>clk</td>\n",
       "      <td>125000</td>\n",
       "      <td>6</td>\n",
       "      <td>petrol</td>\n",
       "      <td>mercedes_benz</td>\n",
       "      <td>yes</td>\n",
       "      <td>2016-04-03 00:00:00</td>\n",
       "      <td>75196</td>\n",
       "      <td>2016-04-07 09:44:54</td>\n",
       "    </tr>\n",
       "    <tr>\n",
       "      <th>88087</th>\n",
       "      <td>2016-03-08 18:42:48</td>\n",
       "      <td>1799</td>\n",
       "      <td>coupe</td>\n",
       "      <td>1999</td>\n",
       "      <td>auto</td>\n",
       "      <td>193</td>\n",
       "      <td>clk</td>\n",
       "      <td>20000</td>\n",
       "      <td>7</td>\n",
       "      <td>petrol</td>\n",
       "      <td>mercedes_benz</td>\n",
       "      <td>no</td>\n",
       "      <td>2016-03-08 00:00:00</td>\n",
       "      <td>89518</td>\n",
       "      <td>2016-03-09 09:46:57</td>\n",
       "    </tr>\n",
       "    <tr>\n",
       "      <th>171088</th>\n",
       "      <td>2016-03-08 18:42:48</td>\n",
       "      <td>1799</td>\n",
       "      <td>coupe</td>\n",
       "      <td>1999</td>\n",
       "      <td>auto</td>\n",
       "      <td>193</td>\n",
       "      <td>clk</td>\n",
       "      <td>20000</td>\n",
       "      <td>7</td>\n",
       "      <td>petrol</td>\n",
       "      <td>mercedes_benz</td>\n",
       "      <td>no</td>\n",
       "      <td>2016-03-08 00:00:00</td>\n",
       "      <td>89518</td>\n",
       "      <td>2016-03-09 09:46:57</td>\n",
       "    </tr>\n",
       "  </tbody>\n",
       "</table>\n",
       "</div>"
      ],
      "text/plain": [
       "                DateCrawled  Price VehicleType  RegistrationYear Gearbox  \\\n",
       "41529   2016-03-18 18:46:15   1999       wagon              2001  manual   \n",
       "325651  2016-03-18 18:46:15   1999       wagon              2001  manual   \n",
       "90964   2016-03-28 00:56:10   1000       small              2002  manual   \n",
       "231258  2016-03-28 00:56:10   1000       small              2002  manual   \n",
       "187735  2016-04-03 09:01:15   4699       coupe              2003    auto   \n",
       "258109  2016-04-03 09:01:15   4699       coupe              2003    auto   \n",
       "88087   2016-03-08 18:42:48   1799       coupe              1999    auto   \n",
       "171088  2016-03-08 18:42:48   1799       coupe              1999    auto   \n",
       "\n",
       "        Power   Model  Kilometer  RegistrationMonth  FuelType          Brand  \\\n",
       "41529     131  passat     150000                  7  gasoline     volkswagen   \n",
       "325651    131  passat     150000                  7  gasoline     volkswagen   \n",
       "90964      83   other     150000                  1    petrol         suzuki   \n",
       "231258     83   other     150000                  1    petrol         suzuki   \n",
       "187735    218     clk     125000                  6    petrol  mercedes_benz   \n",
       "258109    218     clk     125000                  6    petrol  mercedes_benz   \n",
       "88087     193     clk      20000                  7    petrol  mercedes_benz   \n",
       "171088    193     clk      20000                  7    petrol  mercedes_benz   \n",
       "\n",
       "       NotRepaired          DateCreated  PostalCode             LastSeen  \n",
       "41529           no  2016-03-18 00:00:00       36391  2016-03-18 18:46:15  \n",
       "325651          no  2016-03-18 00:00:00       36391  2016-03-18 18:46:15  \n",
       "90964           no  2016-03-28 00:00:00       66589  2016-03-28 08:46:21  \n",
       "231258          no  2016-03-28 00:00:00       66589  2016-03-28 08:46:21  \n",
       "187735         yes  2016-04-03 00:00:00       75196  2016-04-07 09:44:54  \n",
       "258109         yes  2016-04-03 00:00:00       75196  2016-04-07 09:44:54  \n",
       "88087           no  2016-03-08 00:00:00       89518  2016-03-09 09:46:57  \n",
       "171088          no  2016-03-08 00:00:00       89518  2016-03-09 09:46:57  "
      ]
     },
     "execution_count": 8,
     "metadata": {},
     "output_type": "execute_result"
    }
   ],
   "source": [
    "df.loc[df.duplicated(keep=False)].sort_values('PostalCode')"
   ]
  },
  {
   "cell_type": "markdown",
   "metadata": {},
   "source": [
    "Дубликатов немного,удалим их"
   ]
  },
  {
   "cell_type": "code",
   "execution_count": 9,
   "metadata": {},
   "outputs": [],
   "source": [
    "df = df.drop_duplicates()"
   ]
  },
  {
   "cell_type": "code",
   "execution_count": 10,
   "metadata": {},
   "outputs": [
    {
     "data": {
      "text/plain": [
       "array(['volkswagen', 'audi', 'jeep', 'skoda', 'bmw', 'peugeot', 'ford',\n",
       "       'mazda', 'nissan', 'renault', 'mercedes_benz', 'opel', 'seat',\n",
       "       'citroen', 'honda', 'fiat', 'mini', 'smart', 'hyundai',\n",
       "       'sonstige_autos', 'alfa_romeo', 'subaru', 'volvo', 'mitsubishi',\n",
       "       'kia', 'suzuki', 'lancia', 'toyota', 'chevrolet', 'dacia',\n",
       "       'daihatsu', 'trabant', 'saab', 'chrysler', 'jaguar', 'daewoo',\n",
       "       'porsche', 'rover', 'land_rover', 'lada'], dtype=object)"
      ]
     },
     "execution_count": 10,
     "metadata": {},
     "output_type": "execute_result"
    }
   ],
   "source": [
    "df['Brand'].unique()"
   ]
  },
  {
   "cell_type": "code",
   "execution_count": 11,
   "metadata": {},
   "outputs": [
    {
     "data": {
      "text/plain": [
       "['100',\n",
       " '145',\n",
       " '147',\n",
       " '156',\n",
       " '159',\n",
       " '1_reihe',\n",
       " '1er',\n",
       " '200',\n",
       " '2_reihe',\n",
       " '300c',\n",
       " '3_reihe',\n",
       " '3er',\n",
       " '4_reihe',\n",
       " '500',\n",
       " '5_reihe',\n",
       " '5er',\n",
       " '601',\n",
       " '6_reihe',\n",
       " '6er',\n",
       " '7er',\n",
       " '80',\n",
       " '850',\n",
       " '90',\n",
       " '900',\n",
       " '9000',\n",
       " '911',\n",
       " 'a1',\n",
       " 'a2',\n",
       " 'a3',\n",
       " 'a4',\n",
       " 'a5',\n",
       " 'a6',\n",
       " 'a8',\n",
       " 'a_klasse',\n",
       " 'accord',\n",
       " 'agila',\n",
       " 'alhambra',\n",
       " 'almera',\n",
       " 'altea',\n",
       " 'amarok',\n",
       " 'antara',\n",
       " 'arosa',\n",
       " 'astra',\n",
       " 'auris',\n",
       " 'avensis',\n",
       " 'aveo',\n",
       " 'aygo',\n",
       " 'b_klasse',\n",
       " 'b_max',\n",
       " 'beetle',\n",
       " 'berlingo',\n",
       " 'bora',\n",
       " 'boxster',\n",
       " 'bravo',\n",
       " 'c1',\n",
       " 'c2',\n",
       " 'c3',\n",
       " 'c4',\n",
       " 'c5',\n",
       " 'c_klasse',\n",
       " 'c_max',\n",
       " 'c_reihe',\n",
       " 'caddy',\n",
       " 'calibra',\n",
       " 'captiva',\n",
       " 'carisma',\n",
       " 'carnival',\n",
       " 'cayenne',\n",
       " 'cc',\n",
       " 'ceed',\n",
       " 'charade',\n",
       " 'cherokee',\n",
       " 'citigo',\n",
       " 'civic',\n",
       " 'cl',\n",
       " 'clio',\n",
       " 'clk',\n",
       " 'clubman',\n",
       " 'colt',\n",
       " 'combo',\n",
       " 'cooper',\n",
       " 'cordoba',\n",
       " 'corolla',\n",
       " 'corsa',\n",
       " 'cr_reihe',\n",
       " 'croma',\n",
       " 'crossfire',\n",
       " 'cuore',\n",
       " 'cx_reihe',\n",
       " 'defender',\n",
       " 'delta',\n",
       " 'discovery',\n",
       " 'doblo',\n",
       " 'ducato',\n",
       " 'duster',\n",
       " 'e_klasse',\n",
       " 'elefantino',\n",
       " 'eos',\n",
       " 'escort',\n",
       " 'espace',\n",
       " 'exeo',\n",
       " 'fabia',\n",
       " 'fiesta',\n",
       " 'focus',\n",
       " 'forester',\n",
       " 'forfour',\n",
       " 'fortwo',\n",
       " 'fox',\n",
       " 'freelander',\n",
       " 'fusion',\n",
       " 'g_klasse',\n",
       " 'galant',\n",
       " 'galaxy',\n",
       " 'getz',\n",
       " 'gl',\n",
       " 'glk',\n",
       " 'golf',\n",
       " 'grand',\n",
       " 'i3',\n",
       " 'i_reihe',\n",
       " 'ibiza',\n",
       " 'impreza',\n",
       " 'insignia',\n",
       " 'jazz',\n",
       " 'jetta',\n",
       " 'jimny',\n",
       " 'juke',\n",
       " 'justy',\n",
       " 'ka',\n",
       " 'kadett',\n",
       " 'kaefer',\n",
       " 'kalina',\n",
       " 'kalos',\n",
       " 'kangoo',\n",
       " 'kappa',\n",
       " 'kuga',\n",
       " 'laguna',\n",
       " 'lancer',\n",
       " 'lanos',\n",
       " 'legacy',\n",
       " 'leon',\n",
       " 'lodgy',\n",
       " 'logan',\n",
       " 'lupo',\n",
       " 'lybra',\n",
       " 'm_klasse',\n",
       " 'm_reihe',\n",
       " 'materia',\n",
       " 'matiz',\n",
       " 'megane',\n",
       " 'meriva',\n",
       " 'micra',\n",
       " 'mii',\n",
       " 'modus',\n",
       " 'mondeo',\n",
       " 'move',\n",
       " 'musa',\n",
       " 'mustang',\n",
       " 'mx_reihe',\n",
       " 'nan',\n",
       " 'navara',\n",
       " 'niva',\n",
       " 'note',\n",
       " 'nubira',\n",
       " 'octavia',\n",
       " 'omega',\n",
       " 'one',\n",
       " 'other',\n",
       " 'outlander',\n",
       " 'pajero',\n",
       " 'panda',\n",
       " 'passat',\n",
       " 'phaeton',\n",
       " 'picanto',\n",
       " 'polo',\n",
       " 'primera',\n",
       " 'ptcruiser',\n",
       " 'punto',\n",
       " 'q3',\n",
       " 'q5',\n",
       " 'q7',\n",
       " 'qashqai',\n",
       " 'r19',\n",
       " 'range_rover',\n",
       " 'range_rover_evoque',\n",
       " 'range_rover_sport',\n",
       " 'rangerover',\n",
       " 'rav',\n",
       " 'rio',\n",
       " 'roadster',\n",
       " 'roomster',\n",
       " 'rx_reihe',\n",
       " 's60',\n",
       " 's_klasse',\n",
       " 's_max',\n",
       " 's_type',\n",
       " 'samara',\n",
       " 'sandero',\n",
       " 'santa',\n",
       " 'scenic',\n",
       " 'scirocco',\n",
       " 'seicento',\n",
       " 'serie_1',\n",
       " 'serie_2',\n",
       " 'serie_3',\n",
       " 'sharan',\n",
       " 'signum',\n",
       " 'sirion',\n",
       " 'sl',\n",
       " 'slk',\n",
       " 'sorento',\n",
       " 'spark',\n",
       " 'spider',\n",
       " 'sportage',\n",
       " 'sprinter',\n",
       " 'stilo',\n",
       " 'superb',\n",
       " 'swift',\n",
       " 'terios',\n",
       " 'tigra',\n",
       " 'tiguan',\n",
       " 'toledo',\n",
       " 'touareg',\n",
       " 'touran',\n",
       " 'transit',\n",
       " 'transporter',\n",
       " 'tt',\n",
       " 'tucson',\n",
       " 'twingo',\n",
       " 'up',\n",
       " 'v40',\n",
       " 'v50',\n",
       " 'v60',\n",
       " 'v70',\n",
       " 'v_klasse',\n",
       " 'vectra',\n",
       " 'verso',\n",
       " 'viano',\n",
       " 'vito',\n",
       " 'vivaro',\n",
       " 'voyager',\n",
       " 'wrangler',\n",
       " 'x_reihe',\n",
       " 'x_trail',\n",
       " 'x_type',\n",
       " 'xc_reihe',\n",
       " 'yaris',\n",
       " 'yeti',\n",
       " 'ypsilon',\n",
       " 'z_reihe',\n",
       " 'zafira']"
      ]
     },
     "execution_count": 11,
     "metadata": {},
     "output_type": "execute_result"
    }
   ],
   "source": [
    "sorted(df['Model'].unique().astype('str'))\n",
    "\n"
   ]
  },
  {
   "cell_type": "code",
   "execution_count": null,
   "metadata": {},
   "outputs": [],
   "source": [
    "df['Model'] = df.loc[:,'Model'].replace('rangerover', 'range_rover')"
   ]
  },
  {
   "cell_type": "code",
   "execution_count": 13,
   "metadata": {},
   "outputs": [
    {
     "data": {
      "text/html": [
       "<div>\n",
       "<style scoped>\n",
       "    .dataframe tbody tr th:only-of-type {\n",
       "        vertical-align: middle;\n",
       "    }\n",
       "\n",
       "    .dataframe tbody tr th {\n",
       "        vertical-align: top;\n",
       "    }\n",
       "\n",
       "    .dataframe thead th {\n",
       "        text-align: right;\n",
       "    }\n",
       "</style>\n",
       "<table border=\"1\" class=\"dataframe\">\n",
       "  <thead>\n",
       "    <tr style=\"text-align: right;\">\n",
       "      <th></th>\n",
       "      <th>DateCrawled</th>\n",
       "      <th>Price</th>\n",
       "      <th>VehicleType</th>\n",
       "      <th>RegistrationYear</th>\n",
       "      <th>Gearbox</th>\n",
       "      <th>Power</th>\n",
       "      <th>Model</th>\n",
       "      <th>Kilometer</th>\n",
       "      <th>RegistrationMonth</th>\n",
       "      <th>FuelType</th>\n",
       "      <th>Brand</th>\n",
       "      <th>NotRepaired</th>\n",
       "      <th>DateCreated</th>\n",
       "      <th>PostalCode</th>\n",
       "      <th>LastSeen</th>\n",
       "    </tr>\n",
       "  </thead>\n",
       "  <tbody>\n",
       "  </tbody>\n",
       "</table>\n",
       "</div>"
      ],
      "text/plain": [
       "Empty DataFrame\n",
       "Columns: [DateCrawled, Price, VehicleType, RegistrationYear, Gearbox, Power, Model, Kilometer, RegistrationMonth, FuelType, Brand, NotRepaired, DateCreated, PostalCode, LastSeen]\n",
       "Index: []"
      ]
     },
     "execution_count": 13,
     "metadata": {},
     "output_type": "execute_result"
    }
   ],
   "source": [
    "df[df['Model']=='rangerover']"
   ]
  },
  {
   "cell_type": "code",
   "execution_count": 14,
   "metadata": {},
   "outputs": [
    {
     "data": {
      "image/png": "[encoded data removed]",
      "text/plain": [
       "<Figure size 432x288 with 1 Axes>"
      ]
     },
     "metadata": {
      "needs_background": "light"
     },
     "output_type": "display_data"
    }
   ],
   "source": [
    "plt.boxplot(df.Power.dropna() , labels = ['Power'])\n",
    "plt.ylim([0,300])\n",
    "plt.show()\n"
   ]
  },
  {
   "cell_type": "markdown",
   "metadata": {},
   "source": [
    "Мощность свыше 250 является выбросами"
   ]
  },
  {
   "cell_type": "code",
   "execution_count": 15,
   "metadata": {},
   "outputs": [
    {
     "data": {
      "text/html": [
       "<div>\n",
       "<style scoped>\n",
       "    .dataframe tbody tr th:only-of-type {\n",
       "        vertical-align: middle;\n",
       "    }\n",
       "\n",
       "    .dataframe tbody tr th {\n",
       "        vertical-align: top;\n",
       "    }\n",
       "\n",
       "    .dataframe thead th {\n",
       "        text-align: right;\n",
       "    }\n",
       "</style>\n",
       "<table border=\"1\" class=\"dataframe\">\n",
       "  <thead>\n",
       "    <tr style=\"text-align: right;\">\n",
       "      <th></th>\n",
       "      <th>DateCrawled</th>\n",
       "      <th>Price</th>\n",
       "      <th>VehicleType</th>\n",
       "      <th>RegistrationYear</th>\n",
       "      <th>Gearbox</th>\n",
       "      <th>Power</th>\n",
       "      <th>Model</th>\n",
       "      <th>Kilometer</th>\n",
       "      <th>RegistrationMonth</th>\n",
       "      <th>FuelType</th>\n",
       "      <th>Brand</th>\n",
       "      <th>NotRepaired</th>\n",
       "      <th>DateCreated</th>\n",
       "      <th>PostalCode</th>\n",
       "      <th>LastSeen</th>\n",
       "    </tr>\n",
       "  </thead>\n",
       "  <tbody>\n",
       "    <tr>\n",
       "      <th>7</th>\n",
       "      <td>2016-03-21 18:54:38</td>\n",
       "      <td>0</td>\n",
       "      <td>sedan</td>\n",
       "      <td>1980</td>\n",
       "      <td>manual</td>\n",
       "      <td>50</td>\n",
       "      <td>other</td>\n",
       "      <td>40000</td>\n",
       "      <td>7</td>\n",
       "      <td>petrol</td>\n",
       "      <td>volkswagen</td>\n",
       "      <td>no</td>\n",
       "      <td>2016-03-21 00:00:00</td>\n",
       "      <td>19348</td>\n",
       "      <td>2016-03-25 16:47:58</td>\n",
       "    </tr>\n",
       "    <tr>\n",
       "      <th>40</th>\n",
       "      <td>2016-03-26 22:06:17</td>\n",
       "      <td>0</td>\n",
       "      <td>NaN</td>\n",
       "      <td>1990</td>\n",
       "      <td>NaN</td>\n",
       "      <td>0</td>\n",
       "      <td>corsa</td>\n",
       "      <td>150000</td>\n",
       "      <td>1</td>\n",
       "      <td>petrol</td>\n",
       "      <td>opel</td>\n",
       "      <td>NaN</td>\n",
       "      <td>2016-03-26 00:00:00</td>\n",
       "      <td>56412</td>\n",
       "      <td>2016-03-27 17:43:34</td>\n",
       "    </tr>\n",
       "    <tr>\n",
       "      <th>111</th>\n",
       "      <td>2016-03-19 18:40:12</td>\n",
       "      <td>0</td>\n",
       "      <td>NaN</td>\n",
       "      <td>2017</td>\n",
       "      <td>manual</td>\n",
       "      <td>0</td>\n",
       "      <td>golf</td>\n",
       "      <td>5000</td>\n",
       "      <td>12</td>\n",
       "      <td>petrol</td>\n",
       "      <td>volkswagen</td>\n",
       "      <td>NaN</td>\n",
       "      <td>2016-03-19 00:00:00</td>\n",
       "      <td>21698</td>\n",
       "      <td>2016-04-01 08:47:05</td>\n",
       "    </tr>\n",
       "    <tr>\n",
       "      <th>115</th>\n",
       "      <td>2016-03-20 18:53:27</td>\n",
       "      <td>0</td>\n",
       "      <td>small</td>\n",
       "      <td>1999</td>\n",
       "      <td>NaN</td>\n",
       "      <td>0</td>\n",
       "      <td>NaN</td>\n",
       "      <td>5000</td>\n",
       "      <td>0</td>\n",
       "      <td>petrol</td>\n",
       "      <td>volkswagen</td>\n",
       "      <td>NaN</td>\n",
       "      <td>2016-03-20 00:00:00</td>\n",
       "      <td>37520</td>\n",
       "      <td>2016-04-07 02:45:22</td>\n",
       "    </tr>\n",
       "    <tr>\n",
       "      <th>152</th>\n",
       "      <td>2016-03-11 18:55:53</td>\n",
       "      <td>0</td>\n",
       "      <td>bus</td>\n",
       "      <td>2004</td>\n",
       "      <td>manual</td>\n",
       "      <td>101</td>\n",
       "      <td>meriva</td>\n",
       "      <td>150000</td>\n",
       "      <td>10</td>\n",
       "      <td>lpg</td>\n",
       "      <td>opel</td>\n",
       "      <td>yes</td>\n",
       "      <td>2016-03-11 00:00:00</td>\n",
       "      <td>27432</td>\n",
       "      <td>2016-03-12 23:47:10</td>\n",
       "    </tr>\n",
       "    <tr>\n",
       "      <th>...</th>\n",
       "      <td>...</td>\n",
       "      <td>...</td>\n",
       "      <td>...</td>\n",
       "      <td>...</td>\n",
       "      <td>...</td>\n",
       "      <td>...</td>\n",
       "      <td>...</td>\n",
       "      <td>...</td>\n",
       "      <td>...</td>\n",
       "      <td>...</td>\n",
       "      <td>...</td>\n",
       "      <td>...</td>\n",
       "      <td>...</td>\n",
       "      <td>...</td>\n",
       "      <td>...</td>\n",
       "    </tr>\n",
       "    <tr>\n",
       "      <th>354205</th>\n",
       "      <td>2016-03-09 15:56:30</td>\n",
       "      <td>0</td>\n",
       "      <td>NaN</td>\n",
       "      <td>2000</td>\n",
       "      <td>manual</td>\n",
       "      <td>65</td>\n",
       "      <td>corsa</td>\n",
       "      <td>150000</td>\n",
       "      <td>0</td>\n",
       "      <td>NaN</td>\n",
       "      <td>opel</td>\n",
       "      <td>yes</td>\n",
       "      <td>2016-03-09 00:00:00</td>\n",
       "      <td>23758</td>\n",
       "      <td>2016-03-30 11:16:08</td>\n",
       "    </tr>\n",
       "    <tr>\n",
       "      <th>354238</th>\n",
       "      <td>2016-03-20 14:55:07</td>\n",
       "      <td>0</td>\n",
       "      <td>small</td>\n",
       "      <td>2002</td>\n",
       "      <td>manual</td>\n",
       "      <td>60</td>\n",
       "      <td>fiesta</td>\n",
       "      <td>150000</td>\n",
       "      <td>3</td>\n",
       "      <td>petrol</td>\n",
       "      <td>ford</td>\n",
       "      <td>NaN</td>\n",
       "      <td>2016-03-20 00:00:00</td>\n",
       "      <td>33659</td>\n",
       "      <td>2016-04-06 18:45:23</td>\n",
       "    </tr>\n",
       "    <tr>\n",
       "      <th>354248</th>\n",
       "      <td>2016-03-24 13:48:05</td>\n",
       "      <td>0</td>\n",
       "      <td>small</td>\n",
       "      <td>1999</td>\n",
       "      <td>manual</td>\n",
       "      <td>53</td>\n",
       "      <td>swift</td>\n",
       "      <td>150000</td>\n",
       "      <td>3</td>\n",
       "      <td>petrol</td>\n",
       "      <td>suzuki</td>\n",
       "      <td>NaN</td>\n",
       "      <td>2016-03-24 00:00:00</td>\n",
       "      <td>42329</td>\n",
       "      <td>2016-04-07 05:17:24</td>\n",
       "    </tr>\n",
       "    <tr>\n",
       "      <th>354277</th>\n",
       "      <td>2016-03-10 22:55:50</td>\n",
       "      <td>0</td>\n",
       "      <td>small</td>\n",
       "      <td>1999</td>\n",
       "      <td>manual</td>\n",
       "      <td>37</td>\n",
       "      <td>arosa</td>\n",
       "      <td>150000</td>\n",
       "      <td>7</td>\n",
       "      <td>petrol</td>\n",
       "      <td>seat</td>\n",
       "      <td>yes</td>\n",
       "      <td>2016-03-10 00:00:00</td>\n",
       "      <td>22559</td>\n",
       "      <td>2016-03-12 23:46:32</td>\n",
       "    </tr>\n",
       "    <tr>\n",
       "      <th>354364</th>\n",
       "      <td>2016-03-21 09:50:58</td>\n",
       "      <td>0</td>\n",
       "      <td>NaN</td>\n",
       "      <td>2005</td>\n",
       "      <td>manual</td>\n",
       "      <td>0</td>\n",
       "      <td>colt</td>\n",
       "      <td>150000</td>\n",
       "      <td>7</td>\n",
       "      <td>petrol</td>\n",
       "      <td>mitsubishi</td>\n",
       "      <td>yes</td>\n",
       "      <td>2016-03-21 00:00:00</td>\n",
       "      <td>2694</td>\n",
       "      <td>2016-03-21 10:42:49</td>\n",
       "    </tr>\n",
       "  </tbody>\n",
       "</table>\n",
       "<p>10772 rows × 15 columns</p>\n",
       "</div>"
      ],
      "text/plain": [
       "                DateCrawled  Price VehicleType  RegistrationYear Gearbox  \\\n",
       "7       2016-03-21 18:54:38      0       sedan              1980  manual   \n",
       "40      2016-03-26 22:06:17      0         NaN              1990     NaN   \n",
       "111     2016-03-19 18:40:12      0         NaN              2017  manual   \n",
       "115     2016-03-20 18:53:27      0       small              1999     NaN   \n",
       "152     2016-03-11 18:55:53      0         bus              2004  manual   \n",
       "...                     ...    ...         ...               ...     ...   \n",
       "354205  2016-03-09 15:56:30      0         NaN              2000  manual   \n",
       "354238  2016-03-20 14:55:07      0       small              2002  manual   \n",
       "354248  2016-03-24 13:48:05      0       small              1999  manual   \n",
       "354277  2016-03-10 22:55:50      0       small              1999  manual   \n",
       "354364  2016-03-21 09:50:58      0         NaN              2005  manual   \n",
       "\n",
       "        Power   Model  Kilometer  RegistrationMonth FuelType       Brand  \\\n",
       "7          50   other      40000                  7   petrol  volkswagen   \n",
       "40          0   corsa     150000                  1   petrol        opel   \n",
       "111         0    golf       5000                 12   petrol  volkswagen   \n",
       "115         0     NaN       5000                  0   petrol  volkswagen   \n",
       "152       101  meriva     150000                 10      lpg        opel   \n",
       "...       ...     ...        ...                ...      ...         ...   \n",
       "354205     65   corsa     150000                  0      NaN        opel   \n",
       "354238     60  fiesta     150000                  3   petrol        ford   \n",
       "354248     53   swift     150000                  3   petrol      suzuki   \n",
       "354277     37   arosa     150000                  7   petrol        seat   \n",
       "354364      0    colt     150000                  7   petrol  mitsubishi   \n",
       "\n",
       "       NotRepaired          DateCreated  PostalCode             LastSeen  \n",
       "7               no  2016-03-21 00:00:00       19348  2016-03-25 16:47:58  \n",
       "40             NaN  2016-03-26 00:00:00       56412  2016-03-27 17:43:34  \n",
       "111            NaN  2016-03-19 00:00:00       21698  2016-04-01 08:47:05  \n",
       "115            NaN  2016-03-20 00:00:00       37520  2016-04-07 02:45:22  \n",
       "152            yes  2016-03-11 00:00:00       27432  2016-03-12 23:47:10  \n",
       "...            ...                  ...         ...                  ...  \n",
       "354205         yes  2016-03-09 00:00:00       23758  2016-03-30 11:16:08  \n",
       "354238         NaN  2016-03-20 00:00:00       33659  2016-04-06 18:45:23  \n",
       "354248         NaN  2016-03-24 00:00:00       42329  2016-04-07 05:17:24  \n",
       "354277         yes  2016-03-10 00:00:00       22559  2016-03-12 23:46:32  \n",
       "354364         yes  2016-03-21 00:00:00        2694  2016-03-21 10:42:49  \n",
       "\n",
       "[10772 rows x 15 columns]"
      ]
     },
     "execution_count": 15,
     "metadata": {},
     "output_type": "execute_result"
    }
   ],
   "source": [
    "df[df['Price']==0]"
   ]
  },
  {
   "cell_type": "code",
   "execution_count": 16,
   "metadata": {},
   "outputs": [],
   "source": [
    "df = df[(df['RegistrationYear'] < 2017)&(df['RegistrationYear'] > 1900)&(df['Power'] < 250)&(df['Price'] > 0)] #Удалим выбросы"
   ]
  },
  {
   "cell_type": "markdown",
   "metadata": {},
   "source": [
    "Возможно выбросы появились из-за человеческого фактора,например,цену или мощность вносили в год"
   ]
  },
  {
   "cell_type": "code",
   "execution_count": 19,
   "metadata": {},
   "outputs": [],
   "source": [
    "df['Model']  = df.groupby(['Brand','RegistrationYear'])['Model'].transform(\n",
    "lambda x: x.fillna((x.mode()[0] if x.count() != 0 else'unknow')))"
   ]
  },
  {
   "cell_type": "code",
   "execution_count": 20,
   "metadata": {},
   "outputs": [
    {
     "name": "stdout",
     "output_type": "stream",
     "text": [
      "<class 'pandas.core.frame.DataFrame'>\n",
      "Int64Index: 321978 entries, 0 to 354368\n",
      "Data columns (total 15 columns):\n",
      " #   Column             Non-Null Count   Dtype \n",
      "---  ------             --------------   ----- \n",
      " 0   DateCrawled        321978 non-null  object\n",
      " 1   Price              321978 non-null  int64 \n",
      " 2   VehicleType        302244 non-null  object\n",
      " 3   RegistrationYear   321978 non-null  int64 \n",
      " 4   Gearbox            306472 non-null  object\n",
      " 5   Power              321978 non-null  int64 \n",
      " 6   Model              321978 non-null  object\n",
      " 7   Kilometer          321978 non-null  int64 \n",
      " 8   RegistrationMonth  321978 non-null  int64 \n",
      " 9   FuelType           298162 non-null  object\n",
      " 10  Brand              321978 non-null  object\n",
      " 11  NotRepaired        263045 non-null  object\n",
      " 12  DateCreated        321978 non-null  object\n",
      " 13  PostalCode         321978 non-null  int64 \n",
      " 14  LastSeen           321978 non-null  object\n",
      "dtypes: int64(6), object(9)\n",
      "memory usage: 39.3+ MB\n"
     ]
    }
   ],
   "source": [
    "df.info() # из-за ошибки перепроверяла сохранение,ошибку исправить не смогла.Так и не поняла,куда вставлять .loc"
   ]
  },
  {
   "cell_type": "code",
   "execution_count": 21,
   "metadata": {},
   "outputs": [],
   "source": [
    "df['VehicleType'] = df.groupby(['Brand','Power'])['VehicleType'].transform(\n",
    "lambda x: x.fillna((x.mode()[0] if x.count() != 0 else'unknow')))"
   ]
  },
  {
   "cell_type": "code",
   "execution_count": 22,
   "metadata": {},
   "outputs": [],
   "source": [
    "df['Gearbox'] = df.groupby(['Brand','Model','Power','RegistrationYear'])['Gearbox'].transform(\n",
    "lambda x: x.fillna((x.mode()[0] if x.count() != 0 else'unknow')))"
   ]
  },
  {
   "cell_type": "code",
   "execution_count": 23,
   "metadata": {},
   "outputs": [],
   "source": [
    "df['FuelType'] = df.groupby(['Brand','Model','Power'])['FuelType'].transform(\n",
    "lambda x: x.fillna((x.mode()[0] if x.count() != 0 else'unknow')))"
   ]
  },
  {
   "cell_type": "code",
   "execution_count": 24,
   "metadata": {},
   "outputs": [
    {
     "data": {
      "text/plain": [
       "array([nan, 'yes', 'no'], dtype=object)"
      ]
     },
     "execution_count": 24,
     "metadata": {},
     "output_type": "execute_result"
    }
   ],
   "source": [
    "df['NotRepaired'].unique()"
   ]
  },
  {
   "cell_type": "code",
   "execution_count": 25,
   "metadata": {},
   "outputs": [],
   "source": [
    "df['NotRepaired'] = df.loc[:,'NotRepaired'].fillna('no')"
   ]
  },
  {
   "cell_type": "code",
   "execution_count": 26,
   "metadata": {},
   "outputs": [
    {
     "name": "stdout",
     "output_type": "stream",
     "text": [
      "<class 'pandas.core.frame.DataFrame'>\n",
      "Int64Index: 321978 entries, 0 to 354368\n",
      "Data columns (total 15 columns):\n",
      " #   Column             Non-Null Count   Dtype \n",
      "---  ------             --------------   ----- \n",
      " 0   DateCrawled        321978 non-null  object\n",
      " 1   Price              321978 non-null  int64 \n",
      " 2   VehicleType        321978 non-null  object\n",
      " 3   RegistrationYear   321978 non-null  int64 \n",
      " 4   Gearbox            321978 non-null  object\n",
      " 5   Power              321978 non-null  int64 \n",
      " 6   Model              321978 non-null  object\n",
      " 7   Kilometer          321978 non-null  int64 \n",
      " 8   RegistrationMonth  321978 non-null  int64 \n",
      " 9   FuelType           321978 non-null  object\n",
      " 10  Brand              321978 non-null  object\n",
      " 11  NotRepaired        321978 non-null  object\n",
      " 12  DateCreated        321978 non-null  object\n",
      " 13  PostalCode         321978 non-null  int64 \n",
      " 14  LastSeen           321978 non-null  object\n",
      "dtypes: int64(6), object(9)\n",
      "memory usage: 39.3+ MB\n"
     ]
    }
   ],
   "source": [
    "df.info() # пропуски все заполнены"
   ]
  },
  {
   "cell_type": "code",
   "execution_count": 27,
   "metadata": {},
   "outputs": [],
   "source": [
    "df['DateCrawled'] = pd.to_datetime(df['DateCrawled'])# перевела в дату,чтобы разбить по столбцам на годы и месяца, \n",
    "df['DateCreated'] = pd.to_datetime(df['DateCreated']) #на дни и часы не разбивала,не хотела перегружать компьютер\n",
    "df['LastSeen'] = pd.to_datetime(df['LastSeen'])"
   ]
  },
  {
   "cell_type": "code",
   "execution_count": 28,
   "metadata": {},
   "outputs": [
    {
     "name": "stdout",
     "output_type": "stream",
     "text": [
      "<class 'pandas.core.frame.DataFrame'>\n",
      "Int64Index: 321978 entries, 0 to 354368\n",
      "Data columns (total 15 columns):\n",
      " #   Column             Non-Null Count   Dtype         \n",
      "---  ------             --------------   -----         \n",
      " 0   DateCrawled        321978 non-null  datetime64[ns]\n",
      " 1   Price              321978 non-null  int64         \n",
      " 2   VehicleType        321978 non-null  object        \n",
      " 3   RegistrationYear   321978 non-null  int64         \n",
      " 4   Gearbox            321978 non-null  object        \n",
      " 5   Power              321978 non-null  int64         \n",
      " 6   Model              321978 non-null  object        \n",
      " 7   Kilometer          321978 non-null  int64         \n",
      " 8   RegistrationMonth  321978 non-null  int64         \n",
      " 9   FuelType           321978 non-null  object        \n",
      " 10  Brand              321978 non-null  object        \n",
      " 11  NotRepaired        321978 non-null  object        \n",
      " 12  DateCreated        321978 non-null  datetime64[ns]\n",
      " 13  PostalCode         321978 non-null  int64         \n",
      " 14  LastSeen           321978 non-null  datetime64[ns]\n",
      "dtypes: datetime64[ns](3), int64(6), object(6)\n",
      "memory usage: 39.3+ MB\n"
     ]
    }
   ],
   "source": [
    "df.info()"
   ]
  },
  {
   "cell_type": "code",
   "execution_count": 29,
   "metadata": {},
   "outputs": [],
   "source": [
    "df['DateCreated_y'] = df['DateCreated'].dt.year\n",
    "df['DateCreated_m'] = df['DateCreated'].dt.month\n"
   ]
  },
  {
   "cell_type": "code",
   "execution_count": 30,
   "metadata": {},
   "outputs": [],
   "source": [
    "df = df.drop(['DateCrawled','DateCreated','LastSeen'],axis=1)"
   ]
  },
  {
   "cell_type": "code",
   "execution_count": 31,
   "metadata": {},
   "outputs": [
    {
     "name": "stdout",
     "output_type": "stream",
     "text": [
      "<class 'pandas.core.frame.DataFrame'>\n",
      "Int64Index: 321978 entries, 0 to 354368\n",
      "Data columns (total 14 columns):\n",
      " #   Column             Non-Null Count   Dtype \n",
      "---  ------             --------------   ----- \n",
      " 0   Price              321978 non-null  int64 \n",
      " 1   VehicleType        321978 non-null  object\n",
      " 2   RegistrationYear   321978 non-null  int64 \n",
      " 3   Gearbox            321978 non-null  object\n",
      " 4   Power              321978 non-null  int64 \n",
      " 5   Model              321978 non-null  object\n",
      " 6   Kilometer          321978 non-null  int64 \n",
      " 7   RegistrationMonth  321978 non-null  int64 \n",
      " 8   FuelType           321978 non-null  object\n",
      " 9   Brand              321978 non-null  object\n",
      " 10  NotRepaired        321978 non-null  object\n",
      " 11  PostalCode         321978 non-null  int64 \n",
      " 12  DateCreated_y      321978 non-null  int64 \n",
      " 13  DateCreated_m      321978 non-null  int64 \n",
      "dtypes: int64(8), object(6)\n",
      "memory usage: 36.8+ MB\n"
     ]
    }
   ],
   "source": [
    "df.info()"
   ]
  },
  {
   "cell_type": "markdown",
   "metadata": {},
   "source": [
    "## Обучение моделей\n",
    "<a id='section_i'></a>"
   ]
  },
  {
   "cell_type": "code",
   "execution_count": 32,
   "metadata": {},
   "outputs": [],
   "source": [
    "df_features = df.drop('Price',axis=1)\n",
    "df_target = df['Price']\n",
    "features_train, features_valid, target_train, target_valid = train_test_split(df_features,df_target,\n",
    "                                                                              test_size = 0.25,random_state = 12345)\n"
   ]
  },
  {
   "cell_type": "code",
   "execution_count": 33,
   "metadata": {},
   "outputs": [
    {
     "data": {
      "text/plain": [
       "(241483, 13)"
      ]
     },
     "execution_count": 33,
     "metadata": {},
     "output_type": "execute_result"
    }
   ],
   "source": [
    "features_train.shape"
   ]
  },
  {
   "cell_type": "code",
   "execution_count": 34,
   "metadata": {},
   "outputs": [
    {
     "data": {
      "text/plain": [
       "(80495, 13)"
      ]
     },
     "execution_count": 34,
     "metadata": {},
     "output_type": "execute_result"
    }
   ],
   "source": [
    "features_valid.shape"
   ]
  },
  {
   "cell_type": "markdown",
   "metadata": {},
   "source": [
    "### LinearRegression\n",
    "<a id='sectio'></a>"
   ]
  },
  {
   "cell_type": "code",
   "execution_count": 35,
   "metadata": {},
   "outputs": [],
   "source": [
    "features_train_linear = pd.get_dummies(features_train, columns = ['VehicleType','Gearbox','Model',\n",
    "                                                                  'FuelType','Brand','NotRepaired'],drop_first=True)\n",
    "features_valid_linear = pd.get_dummies(features_valid, columns = ['VehicleType','Gearbox','Model',\n",
    "                                                                  'FuelType','Brand','NotRepaired'],drop_first=True)\n"
   ]
  },
  {
   "cell_type": "code",
   "execution_count": 36,
   "metadata": {},
   "outputs": [
    {
     "data": {
      "text/plain": [
       "(241483, 312)"
      ]
     },
     "execution_count": 36,
     "metadata": {},
     "output_type": "execute_result"
    }
   ],
   "source": [
    "features_train_linear.shape"
   ]
  },
  {
   "cell_type": "code",
   "execution_count": 37,
   "metadata": {},
   "outputs": [
    {
     "data": {
      "text/plain": [
       "(80495, 311)"
      ]
     },
     "execution_count": 37,
     "metadata": {},
     "output_type": "execute_result"
    }
   ],
   "source": [
    "features_valid_linear.shape"
   ]
  },
  {
   "cell_type": "code",
   "execution_count": 38,
   "metadata": {},
   "outputs": [
    {
     "name": "stdout",
     "output_type": "stream",
     "text": [
      "['Model_serie_1']\n"
     ]
    }
   ],
   "source": [
    "o = []\n",
    "for column in features_train_linear:\n",
    "    if column not in features_valid_linear:\n",
    "        o.append(column)\n",
    "        \n",
    "print(o)"
   ]
  },
  {
   "cell_type": "markdown",
   "metadata": {},
   "source": [
    "Пои разделении выборки на обучающую и валидационную , в валидационную выборку не попало не одной['Model_serie_1'].\n",
    "Добавила в валидационную выборку пустой столбец , и заполнила 0"
   ]
  },
  {
   "cell_type": "code",
   "execution_count": 39,
   "metadata": {},
   "outputs": [],
   "source": [
    "\n",
    "features_valid_linear['Model_serie_1'] = np.nan\n",
    "features_valid_linear['Model_serie_1'] = features_valid_linear['Model_serie_1'].fillna(0)"
   ]
  },
  {
   "cell_type": "code",
   "execution_count": 40,
   "metadata": {},
   "outputs": [],
   "source": [
    "numeric = ['RegistrationYear','Power','Kilometer','RegistrationMonth','PostalCode','DateCreated_y','DateCreated_m']\n",
    "scaler = StandardScaler()\n",
    "scaler.fit(features_train_linear[numeric]) \n",
    "features_train_linear[numeric] = scaler.transform(features_train_linear[numeric])\n",
    "features_valid_linear[numeric] = scaler.transform(features_valid_linear[numeric])"
   ]
  },
  {
   "cell_type": "code",
   "execution_count": 41,
   "metadata": {},
   "outputs": [
    {
     "name": "stdout",
     "output_type": "stream",
     "text": [
      "CPU times: user 16.5 s, sys: 4.02 s, total: 20.5 s\n",
      "Wall time: 20.8 s\n"
     ]
    },
    {
     "data": {
      "text/plain": [
       "LinearRegression()"
      ]
     },
     "execution_count": 41,
     "metadata": {},
     "output_type": "execute_result"
    }
   ],
   "source": [
    "%%time\n",
    "model = LinearRegression()\n",
    "model.fit(features_train_linear,target_train)\n"
   ]
  },
  {
   "cell_type": "code",
   "execution_count": 42,
   "metadata": {},
   "outputs": [
    {
     "name": "stdout",
     "output_type": "stream",
     "text": [
      "4283.770308916413\n",
      "CPU times: user 83.8 ms, sys: 129 ms, total: 213 ms\n",
      "Wall time: 195 ms\n"
     ]
    }
   ],
   "source": [
    "%%time\n",
    "predict = model.predict(features_valid_linear)\n",
    "rmse = mean_squared_error(target_valid,predict)**0.5\n",
    "print(rmse)"
   ]
  },
  {
   "cell_type": "markdown",
   "metadata": {},
   "source": [
    "### RandomForestRegressor\n",
    "<a id='secti'></a>"
   ]
  },
  {
   "cell_type": "code",
   "execution_count": 43,
   "metadata": {},
   "outputs": [],
   "source": [
    "features_train_tree = features_train.copy()\n",
    "features_valid_tree = features_valid.copy()"
   ]
  },
  {
   "cell_type": "code",
   "execution_count": 44,
   "metadata": {},
   "outputs": [],
   "source": [
    "numeric = ['RegistrationYear','Power','Kilometer','RegistrationMonth','PostalCode','DateCreated_y','DateCreated_m']\n",
    "scaler = StandardScaler()\n",
    "scaler.fit(features_train_tree[numeric] ) \n",
    "features_train_tree[numeric]  = scaler.transform(features_train_tree[numeric])\n",
    "features_valid_tree[numeric] = scaler.transform(features_valid_tree[numeric])"
   ]
  },
  {
   "cell_type": "code",
   "execution_count": 45,
   "metadata": {},
   "outputs": [],
   "source": [
    "encoder = OrdinalEncoder()\n",
    "#features_tree = encoder.fit_transform(df_features[['VehicleType','Gearbox','Model','FuelType','Brand','NotRepaired']])\n",
    "\n",
    "encoder.fit(features_train_tree[['VehicleType','Gearbox','Model','FuelType','Brand','NotRepaired']])\n",
    "features_train_tree = encoder.transform(features_train_tree[['VehicleType','Gearbox','Model','FuelType','Brand','NotRepaired']])\n",
    "features_valid_tree = encoder.transform(features_valid_tree[['VehicleType','Gearbox','Model','FuelType','Brand','NotRepaired']])"
   ]
  },
  {
   "cell_type": "code",
   "execution_count": 47,
   "metadata": {},
   "outputs": [
    {
     "name": "stdout",
     "output_type": "stream",
     "text": [
      "Fitting 5 folds for each of 10 candidates, totalling 50 fits\n"
     ]
    },
    {
     "name": "stderr",
     "output_type": "stream",
     "text": [
      "/opt/conda/lib/python3.9/site-packages/sklearn/utils/validation.py:70: FutureWarning: Pass sample_weight=135637     3999\n",
      "21779      6200\n",
      "26030      2800\n",
      "252988     4444\n",
      "197203     1500\n",
      "          ...  \n",
      "79999     12000\n",
      "189360     1000\n",
      "187199     1850\n",
      "183012      200\n",
      "311505      600\n",
      "Name: Price, Length: 48297, dtype: int64 as keyword args. From version 1.0 (renaming of 0.25) passing these as positional arguments will result in an error\n",
      "  warnings.warn(f\"Pass {args_msg} as keyword args. From version \"\n",
      "/opt/conda/lib/python3.9/site-packages/sklearn/model_selection/_validation.py:683: UserWarning: Scoring failed. The score on this train-test partition for these parameters will be set to nan. Details: \n",
      "Traceback (most recent call last):\n",
      "  File \"/opt/conda/lib/python3.9/site-packages/sklearn/model_selection/_validation.py\", line 674, in _score\n",
      "    scores = scorer(estimator, X_test, y_test)\n",
      "  File \"/opt/conda/lib/python3.9/site-packages/sklearn/utils/validation.py\", line 74, in inner_f\n",
      "    return f(**kwargs)\n",
      "  File \"/opt/conda/lib/python3.9/site-packages/sklearn/metrics/_regression.py\", line 335, in mean_squared_error\n",
      "    y_type, y_true, y_pred, multioutput = _check_reg_targets(\n",
      "  File \"/opt/conda/lib/python3.9/site-packages/sklearn/metrics/_regression.py\", line 88, in _check_reg_targets\n",
      "    check_consistent_length(y_true, y_pred)\n",
      "  File \"/opt/conda/lib/python3.9/site-packages/sklearn/utils/validation.py\", line 259, in check_consistent_length\n",
      "    lengths = [_num_samples(X) for X in arrays if X is not None]\n",
      "  File \"/opt/conda/lib/python3.9/site-packages/sklearn/utils/validation.py\", line 259, in <listcomp>\n",
      "    lengths = [_num_samples(X) for X in arrays if X is not None]\n",
      "  File \"/opt/conda/lib/python3.9/site-packages/sklearn/utils/validation.py\", line 192, in _num_samples\n",
      "    raise TypeError(message)\n",
      "TypeError: Expected sequence or array-like, got <class 'sklearn.ensemble._forest.RandomForestRegressor'>\n",
      "\n",
      "  warnings.warn(\n"
     ]
    },
    {
     "name": "stdout",
     "output_type": "stream",
     "text": [
      "[CV 1/5] END bootstrap=False, max_depth=10, max_features=2, min_samples_leaf=12, min_samples_split=12, n_estimators=49; total time=   2.8s\n"
     ]
    },
    {
     "name": "stderr",
     "output_type": "stream",
     "text": [
      "/opt/conda/lib/python3.9/site-packages/sklearn/utils/validation.py:70: FutureWarning: Pass sample_weight=323115     2450\n",
      "281835     2800\n",
      "13700      3250\n",
      "134143     6400\n",
      "161494     2399\n",
      "          ...  \n",
      "338743     4000\n",
      "119708     9500\n",
      "173502     6000\n",
      "17459     18800\n",
      "114799     1600\n",
      "Name: Price, Length: 48297, dtype: int64 as keyword args. From version 1.0 (renaming of 0.25) passing these as positional arguments will result in an error\n",
      "  warnings.warn(f\"Pass {args_msg} as keyword args. From version \"\n",
      "/opt/conda/lib/python3.9/site-packages/sklearn/model_selection/_validation.py:683: UserWarning: Scoring failed. The score on this train-test partition for these parameters will be set to nan. Details: \n",
      "Traceback (most recent call last):\n",
      "  File \"/opt/conda/lib/python3.9/site-packages/sklearn/model_selection/_validation.py\", line 674, in _score\n",
      "    scores = scorer(estimator, X_test, y_test)\n",
      "  File \"/opt/conda/lib/python3.9/site-packages/sklearn/utils/validation.py\", line 74, in inner_f\n",
      "    return f(**kwargs)\n",
      "  File \"/opt/conda/lib/python3.9/site-packages/sklearn/metrics/_regression.py\", line 335, in mean_squared_error\n",
      "    y_type, y_true, y_pred, multioutput = _check_reg_targets(\n",
      "  File \"/opt/conda/lib/python3.9/site-packages/sklearn/metrics/_regression.py\", line 88, in _check_reg_targets\n",
      "    check_consistent_length(y_true, y_pred)\n",
      "  File \"/opt/conda/lib/python3.9/site-packages/sklearn/utils/validation.py\", line 259, in check_consistent_length\n",
      "    lengths = [_num_samples(X) for X in arrays if X is not None]\n",
      "  File \"/opt/conda/lib/python3.9/site-packages/sklearn/utils/validation.py\", line 259, in <listcomp>\n",
      "    lengths = [_num_samples(X) for X in arrays if X is not None]\n",
      "  File \"/opt/conda/lib/python3.9/site-packages/sklearn/utils/validation.py\", line 192, in _num_samples\n",
      "    raise TypeError(message)\n",
      "TypeError: Expected sequence or array-like, got <class 'sklearn.ensemble._forest.RandomForestRegressor'>\n",
      "\n",
      "  warnings.warn(\n"
     ]
    },
    {
     "name": "stdout",
     "output_type": "stream",
     "text": [
      "[CV 2/5] END bootstrap=False, max_depth=10, max_features=2, min_samples_leaf=12, min_samples_split=12, n_estimators=49; total time=   2.8s\n"
     ]
    },
    {
     "name": "stderr",
     "output_type": "stream",
     "text": [
      "/opt/conda/lib/python3.9/site-packages/sklearn/utils/validation.py:70: FutureWarning: Pass sample_weight=65693      1300\n",
      "67989       750\n",
      "280660    10000\n",
      "80596      1990\n",
      "204641     3000\n",
      "          ...  \n",
      "289534     2650\n",
      "201789      600\n",
      "101676      590\n",
      "133923     3100\n",
      "149376    11500\n",
      "Name: Price, Length: 48297, dtype: int64 as keyword args. From version 1.0 (renaming of 0.25) passing these as positional arguments will result in an error\n",
      "  warnings.warn(f\"Pass {args_msg} as keyword args. From version \"\n",
      "/opt/conda/lib/python3.9/site-packages/sklearn/model_selection/_validation.py:683: UserWarning: Scoring failed. The score on this train-test partition for these parameters will be set to nan. Details: \n",
      "Traceback (most recent call last):\n",
      "  File \"/opt/conda/lib/python3.9/site-packages/sklearn/model_selection/_validation.py\", line 674, in _score\n",
      "    scores = scorer(estimator, X_test, y_test)\n",
      "  File \"/opt/conda/lib/python3.9/site-packages/sklearn/utils/validation.py\", line 74, in inner_f\n",
      "    return f(**kwargs)\n",
      "  File \"/opt/conda/lib/python3.9/site-packages/sklearn/metrics/_regression.py\", line 335, in mean_squared_error\n",
      "    y_type, y_true, y_pred, multioutput = _check_reg_targets(\n",
      "  File \"/opt/conda/lib/python3.9/site-packages/sklearn/metrics/_regression.py\", line 88, in _check_reg_targets\n",
      "    check_consistent_length(y_true, y_pred)\n",
      "  File \"/opt/conda/lib/python3.9/site-packages/sklearn/utils/validation.py\", line 259, in check_consistent_length\n",
      "    lengths = [_num_samples(X) for X in arrays if X is not None]\n",
      "  File \"/opt/conda/lib/python3.9/site-packages/sklearn/utils/validation.py\", line 259, in <listcomp>\n",
      "    lengths = [_num_samples(X) for X in arrays if X is not None]\n",
      "  File \"/opt/conda/lib/python3.9/site-packages/sklearn/utils/validation.py\", line 192, in _num_samples\n",
      "    raise TypeError(message)\n",
      "TypeError: Expected sequence or array-like, got <class 'sklearn.ensemble._forest.RandomForestRegressor'>\n",
      "\n",
      "  warnings.warn(\n"
     ]
    },
    {
     "name": "stdout",
     "output_type": "stream",
     "text": [
      "[CV 3/5] END bootstrap=False, max_depth=10, max_features=2, min_samples_leaf=12, min_samples_split=12, n_estimators=49; total time=   2.9s\n"
     ]
    },
    {
     "name": "stderr",
     "output_type": "stream",
     "text": [
      "/opt/conda/lib/python3.9/site-packages/sklearn/utils/validation.py:70: FutureWarning: Pass sample_weight=45108       950\n",
      "42012      2500\n",
      "234180      800\n",
      "159635      850\n",
      "280569     1500\n",
      "          ...  \n",
      "42942      1400\n",
      "178034      880\n",
      "247205      449\n",
      "301181    13900\n",
      "113356     5500\n",
      "Name: Price, Length: 48296, dtype: int64 as keyword args. From version 1.0 (renaming of 0.25) passing these as positional arguments will result in an error\n",
      "  warnings.warn(f\"Pass {args_msg} as keyword args. From version \"\n",
      "/opt/conda/lib/python3.9/site-packages/sklearn/model_selection/_validation.py:683: UserWarning: Scoring failed. The score on this train-test partition for these parameters will be set to nan. Details: \n",
      "Traceback (most recent call last):\n",
      "  File \"/opt/conda/lib/python3.9/site-packages/sklearn/model_selection/_validation.py\", line 674, in _score\n",
      "    scores = scorer(estimator, X_test, y_test)\n",
      "  File \"/opt/conda/lib/python3.9/site-packages/sklearn/utils/validation.py\", line 74, in inner_f\n",
      "    return f(**kwargs)\n",
      "  File \"/opt/conda/lib/python3.9/site-packages/sklearn/metrics/_regression.py\", line 335, in mean_squared_error\n",
      "    y_type, y_true, y_pred, multioutput = _check_reg_targets(\n",
      "  File \"/opt/conda/lib/python3.9/site-packages/sklearn/metrics/_regression.py\", line 88, in _check_reg_targets\n",
      "    check_consistent_length(y_true, y_pred)\n",
      "  File \"/opt/conda/lib/python3.9/site-packages/sklearn/utils/validation.py\", line 259, in check_consistent_length\n",
      "    lengths = [_num_samples(X) for X in arrays if X is not None]\n",
      "  File \"/opt/conda/lib/python3.9/site-packages/sklearn/utils/validation.py\", line 259, in <listcomp>\n",
      "    lengths = [_num_samples(X) for X in arrays if X is not None]\n",
      "  File \"/opt/conda/lib/python3.9/site-packages/sklearn/utils/validation.py\", line 192, in _num_samples\n",
      "    raise TypeError(message)\n",
      "TypeError: Expected sequence or array-like, got <class 'sklearn.ensemble._forest.RandomForestRegressor'>\n",
      "\n",
      "  warnings.warn(\n"
     ]
    },
    {
     "name": "stdout",
     "output_type": "stream",
     "text": [
      "[CV 4/5] END bootstrap=False, max_depth=10, max_features=2, min_samples_leaf=12, min_samples_split=12, n_estimators=49; total time=   2.9s\n"
     ]
    },
    {
     "name": "stderr",
     "output_type": "stream",
     "text": [
      "/opt/conda/lib/python3.9/site-packages/sklearn/utils/validation.py:70: FutureWarning: Pass sample_weight=102680    19950\n",
      "39437      4900\n",
      "318435      800\n",
      "225179     4500\n",
      "132722     4999\n",
      "          ...  \n",
      "174842     1600\n",
      "52753      1500\n",
      "95001      3500\n",
      "84958      2300\n",
      "239552     4700\n",
      "Name: Price, Length: 48296, dtype: int64 as keyword args. From version 1.0 (renaming of 0.25) passing these as positional arguments will result in an error\n",
      "  warnings.warn(f\"Pass {args_msg} as keyword args. From version \"\n",
      "/opt/conda/lib/python3.9/site-packages/sklearn/model_selection/_validation.py:683: UserWarning: Scoring failed. The score on this train-test partition for these parameters will be set to nan. Details: \n",
      "Traceback (most recent call last):\n",
      "  File \"/opt/conda/lib/python3.9/site-packages/sklearn/model_selection/_validation.py\", line 674, in _score\n",
      "    scores = scorer(estimator, X_test, y_test)\n",
      "  File \"/opt/conda/lib/python3.9/site-packages/sklearn/utils/validation.py\", line 74, in inner_f\n",
      "    return f(**kwargs)\n",
      "  File \"/opt/conda/lib/python3.9/site-packages/sklearn/metrics/_regression.py\", line 335, in mean_squared_error\n",
      "    y_type, y_true, y_pred, multioutput = _check_reg_targets(\n",
      "  File \"/opt/conda/lib/python3.9/site-packages/sklearn/metrics/_regression.py\", line 88, in _check_reg_targets\n",
      "    check_consistent_length(y_true, y_pred)\n",
      "  File \"/opt/conda/lib/python3.9/site-packages/sklearn/utils/validation.py\", line 259, in check_consistent_length\n",
      "    lengths = [_num_samples(X) for X in arrays if X is not None]\n",
      "  File \"/opt/conda/lib/python3.9/site-packages/sklearn/utils/validation.py\", line 259, in <listcomp>\n",
      "    lengths = [_num_samples(X) for X in arrays if X is not None]\n",
      "  File \"/opt/conda/lib/python3.9/site-packages/sklearn/utils/validation.py\", line 192, in _num_samples\n",
      "    raise TypeError(message)\n",
      "TypeError: Expected sequence or array-like, got <class 'sklearn.ensemble._forest.RandomForestRegressor'>\n",
      "\n",
      "  warnings.warn(\n",
      "/opt/conda/lib/python3.9/site-packages/sklearn/model_selection/_validation.py:610: FitFailedWarning: Estimator fit failed. The score on this train-test partition for these parameters will be set to nan. Details: \n",
      "Traceback (most recent call last):\n",
      "  File \"/opt/conda/lib/python3.9/site-packages/sklearn/model_selection/_validation.py\", line 593, in _fit_and_score\n",
      "    estimator.fit(X_train, y_train, **fit_params)\n",
      "  File \"/opt/conda/lib/python3.9/site-packages/sklearn/ensemble/_forest.py\", line 387, in fit\n",
      "    trees = Parallel(n_jobs=self.n_jobs, verbose=self.verbose,\n",
      "  File \"/opt/conda/lib/python3.9/site-packages/joblib/parallel.py\", line 1043, in __call__\n",
      "    if self.dispatch_one_batch(iterator):\n",
      "  File \"/opt/conda/lib/python3.9/site-packages/joblib/parallel.py\", line 861, in dispatch_one_batch\n",
      "    self._dispatch(tasks)\n",
      "  File \"/opt/conda/lib/python3.9/site-packages/joblib/parallel.py\", line 779, in _dispatch\n",
      "    job = self._backend.apply_async(batch, callback=cb)\n",
      "  File \"/opt/conda/lib/python3.9/site-packages/joblib/_parallel_backends.py\", line 208, in apply_async\n",
      "    result = ImmediateResult(func)\n",
      "  File \"/opt/conda/lib/python3.9/site-packages/joblib/_parallel_backends.py\", line 572, in __init__\n",
      "    self.results = batch()\n",
      "  File \"/opt/conda/lib/python3.9/site-packages/joblib/parallel.py\", line 262, in __call__\n",
      "    return [func(*args, **kwargs)\n",
      "  File \"/opt/conda/lib/python3.9/site-packages/joblib/parallel.py\", line 262, in <listcomp>\n",
      "    return [func(*args, **kwargs)\n",
      "  File \"/opt/conda/lib/python3.9/site-packages/sklearn/utils/fixes.py\", line 222, in __call__\n",
      "    return self.function(*args, **kwargs)\n",
      "  File \"/opt/conda/lib/python3.9/site-packages/sklearn/ensemble/_forest.py\", line 169, in _parallel_build_trees\n",
      "    tree.fit(X, y, sample_weight=curr_sample_weight, check_input=False)\n",
      "  File \"/opt/conda/lib/python3.9/site-packages/sklearn/tree/_classes.py\", line 1247, in fit\n",
      "    super().fit(\n",
      "  File \"/opt/conda/lib/python3.9/site-packages/sklearn/tree/_classes.py\", line 288, in fit\n",
      "    raise ValueError(\"max_features must be in (0, n_features]\")\n",
      "ValueError: max_features must be in (0, n_features]\n",
      "\n",
      "  warnings.warn(\"Estimator fit failed. The score on this train-test\"\n",
      "/opt/conda/lib/python3.9/site-packages/sklearn/model_selection/_validation.py:610: FitFailedWarning: Estimator fit failed. The score on this train-test partition for these parameters will be set to nan. Details: \n",
      "Traceback (most recent call last):\n",
      "  File \"/opt/conda/lib/python3.9/site-packages/sklearn/model_selection/_validation.py\", line 593, in _fit_and_score\n",
      "    estimator.fit(X_train, y_train, **fit_params)\n",
      "  File \"/opt/conda/lib/python3.9/site-packages/sklearn/ensemble/_forest.py\", line 387, in fit\n",
      "    trees = Parallel(n_jobs=self.n_jobs, verbose=self.verbose,\n",
      "  File \"/opt/conda/lib/python3.9/site-packages/joblib/parallel.py\", line 1043, in __call__\n",
      "    if self.dispatch_one_batch(iterator):\n",
      "  File \"/opt/conda/lib/python3.9/site-packages/joblib/parallel.py\", line 861, in dispatch_one_batch\n",
      "    self._dispatch(tasks)\n",
      "  File \"/opt/conda/lib/python3.9/site-packages/joblib/parallel.py\", line 779, in _dispatch\n",
      "    job = self._backend.apply_async(batch, callback=cb)\n",
      "  File \"/opt/conda/lib/python3.9/site-packages/joblib/_parallel_backends.py\", line 208, in apply_async\n",
      "    result = ImmediateResult(func)\n",
      "  File \"/opt/conda/lib/python3.9/site-packages/joblib/_parallel_backends.py\", line 572, in __init__\n",
      "    self.results = batch()\n",
      "  File \"/opt/conda/lib/python3.9/site-packages/joblib/parallel.py\", line 262, in __call__\n",
      "    return [func(*args, **kwargs)\n",
      "  File \"/opt/conda/lib/python3.9/site-packages/joblib/parallel.py\", line 262, in <listcomp>\n",
      "    return [func(*args, **kwargs)\n",
      "  File \"/opt/conda/lib/python3.9/site-packages/sklearn/utils/fixes.py\", line 222, in __call__\n",
      "    return self.function(*args, **kwargs)\n",
      "  File \"/opt/conda/lib/python3.9/site-packages/sklearn/ensemble/_forest.py\", line 169, in _parallel_build_trees\n",
      "    tree.fit(X, y, sample_weight=curr_sample_weight, check_input=False)\n",
      "  File \"/opt/conda/lib/python3.9/site-packages/sklearn/tree/_classes.py\", line 1247, in fit\n",
      "    super().fit(\n",
      "  File \"/opt/conda/lib/python3.9/site-packages/sklearn/tree/_classes.py\", line 288, in fit\n",
      "    raise ValueError(\"max_features must be in (0, n_features]\")\n",
      "ValueError: max_features must be in (0, n_features]\n",
      "\n",
      "  warnings.warn(\"Estimator fit failed. The score on this train-test\"\n",
      "/opt/conda/lib/python3.9/site-packages/sklearn/model_selection/_validation.py:610: FitFailedWarning: Estimator fit failed. The score on this train-test partition for these parameters will be set to nan. Details: \n",
      "Traceback (most recent call last):\n",
      "  File \"/opt/conda/lib/python3.9/site-packages/sklearn/model_selection/_validation.py\", line 593, in _fit_and_score\n",
      "    estimator.fit(X_train, y_train, **fit_params)\n",
      "  File \"/opt/conda/lib/python3.9/site-packages/sklearn/ensemble/_forest.py\", line 387, in fit\n",
      "    trees = Parallel(n_jobs=self.n_jobs, verbose=self.verbose,\n",
      "  File \"/opt/conda/lib/python3.9/site-packages/joblib/parallel.py\", line 1043, in __call__\n",
      "    if self.dispatch_one_batch(iterator):\n",
      "  File \"/opt/conda/lib/python3.9/site-packages/joblib/parallel.py\", line 861, in dispatch_one_batch\n",
      "    self._dispatch(tasks)\n",
      "  File \"/opt/conda/lib/python3.9/site-packages/joblib/parallel.py\", line 779, in _dispatch\n",
      "    job = self._backend.apply_async(batch, callback=cb)\n",
      "  File \"/opt/conda/lib/python3.9/site-packages/joblib/_parallel_backends.py\", line 208, in apply_async\n",
      "    result = ImmediateResult(func)\n",
      "  File \"/opt/conda/lib/python3.9/site-packages/joblib/_parallel_backends.py\", line 572, in __init__\n",
      "    self.results = batch()\n",
      "  File \"/opt/conda/lib/python3.9/site-packages/joblib/parallel.py\", line 262, in __call__\n",
      "    return [func(*args, **kwargs)\n",
      "  File \"/opt/conda/lib/python3.9/site-packages/joblib/parallel.py\", line 262, in <listcomp>\n",
      "    return [func(*args, **kwargs)\n",
      "  File \"/opt/conda/lib/python3.9/site-packages/sklearn/utils/fixes.py\", line 222, in __call__\n",
      "    return self.function(*args, **kwargs)\n",
      "  File \"/opt/conda/lib/python3.9/site-packages/sklearn/ensemble/_forest.py\", line 169, in _parallel_build_trees\n",
      "    tree.fit(X, y, sample_weight=curr_sample_weight, check_input=False)\n",
      "  File \"/opt/conda/lib/python3.9/site-packages/sklearn/tree/_classes.py\", line 1247, in fit\n",
      "    super().fit(\n",
      "  File \"/opt/conda/lib/python3.9/site-packages/sklearn/tree/_classes.py\", line 288, in fit\n",
      "    raise ValueError(\"max_features must be in (0, n_features]\")\n",
      "ValueError: max_features must be in (0, n_features]\n",
      "\n",
      "  warnings.warn(\"Estimator fit failed. The score on this train-test\"\n",
      "/opt/conda/lib/python3.9/site-packages/sklearn/model_selection/_validation.py:610: FitFailedWarning: Estimator fit failed. The score on this train-test partition for these parameters will be set to nan. Details: \n",
      "Traceback (most recent call last):\n",
      "  File \"/opt/conda/lib/python3.9/site-packages/sklearn/model_selection/_validation.py\", line 593, in _fit_and_score\n",
      "    estimator.fit(X_train, y_train, **fit_params)\n",
      "  File \"/opt/conda/lib/python3.9/site-packages/sklearn/ensemble/_forest.py\", line 387, in fit\n",
      "    trees = Parallel(n_jobs=self.n_jobs, verbose=self.verbose,\n",
      "  File \"/opt/conda/lib/python3.9/site-packages/joblib/parallel.py\", line 1043, in __call__\n",
      "    if self.dispatch_one_batch(iterator):\n",
      "  File \"/opt/conda/lib/python3.9/site-packages/joblib/parallel.py\", line 861, in dispatch_one_batch\n",
      "    self._dispatch(tasks)\n",
      "  File \"/opt/conda/lib/python3.9/site-packages/joblib/parallel.py\", line 779, in _dispatch\n",
      "    job = self._backend.apply_async(batch, callback=cb)\n",
      "  File \"/opt/conda/lib/python3.9/site-packages/joblib/_parallel_backends.py\", line 208, in apply_async\n",
      "    result = ImmediateResult(func)\n",
      "  File \"/opt/conda/lib/python3.9/site-packages/joblib/_parallel_backends.py\", line 572, in __init__\n",
      "    self.results = batch()\n",
      "  File \"/opt/conda/lib/python3.9/site-packages/joblib/parallel.py\", line 262, in __call__\n",
      "    return [func(*args, **kwargs)\n",
      "  File \"/opt/conda/lib/python3.9/site-packages/joblib/parallel.py\", line 262, in <listcomp>\n",
      "    return [func(*args, **kwargs)\n",
      "  File \"/opt/conda/lib/python3.9/site-packages/sklearn/utils/fixes.py\", line 222, in __call__\n",
      "    return self.function(*args, **kwargs)\n",
      "  File \"/opt/conda/lib/python3.9/site-packages/sklearn/ensemble/_forest.py\", line 169, in _parallel_build_trees\n",
      "    tree.fit(X, y, sample_weight=curr_sample_weight, check_input=False)\n",
      "  File \"/opt/conda/lib/python3.9/site-packages/sklearn/tree/_classes.py\", line 1247, in fit\n",
      "    super().fit(\n",
      "  File \"/opt/conda/lib/python3.9/site-packages/sklearn/tree/_classes.py\", line 288, in fit\n",
      "    raise ValueError(\"max_features must be in (0, n_features]\")\n",
      "ValueError: max_features must be in (0, n_features]\n",
      "\n",
      "  warnings.warn(\"Estimator fit failed. The score on this train-test\"\n",
      "/opt/conda/lib/python3.9/site-packages/sklearn/model_selection/_validation.py:610: FitFailedWarning: Estimator fit failed. The score on this train-test partition for these parameters will be set to nan. Details: \n",
      "Traceback (most recent call last):\n",
      "  File \"/opt/conda/lib/python3.9/site-packages/sklearn/model_selection/_validation.py\", line 593, in _fit_and_score\n",
      "    estimator.fit(X_train, y_train, **fit_params)\n",
      "  File \"/opt/conda/lib/python3.9/site-packages/sklearn/ensemble/_forest.py\", line 387, in fit\n",
      "    trees = Parallel(n_jobs=self.n_jobs, verbose=self.verbose,\n",
      "  File \"/opt/conda/lib/python3.9/site-packages/joblib/parallel.py\", line 1043, in __call__\n",
      "    if self.dispatch_one_batch(iterator):\n",
      "  File \"/opt/conda/lib/python3.9/site-packages/joblib/parallel.py\", line 861, in dispatch_one_batch\n",
      "    self._dispatch(tasks)\n",
      "  File \"/opt/conda/lib/python3.9/site-packages/joblib/parallel.py\", line 779, in _dispatch\n",
      "    job = self._backend.apply_async(batch, callback=cb)\n",
      "  File \"/opt/conda/lib/python3.9/site-packages/joblib/_parallel_backends.py\", line 208, in apply_async\n",
      "    result = ImmediateResult(func)\n",
      "  File \"/opt/conda/lib/python3.9/site-packages/joblib/_parallel_backends.py\", line 572, in __init__\n",
      "    self.results = batch()\n",
      "  File \"/opt/conda/lib/python3.9/site-packages/joblib/parallel.py\", line 262, in __call__\n",
      "    return [func(*args, **kwargs)\n",
      "  File \"/opt/conda/lib/python3.9/site-packages/joblib/parallel.py\", line 262, in <listcomp>\n",
      "    return [func(*args, **kwargs)\n",
      "  File \"/opt/conda/lib/python3.9/site-packages/sklearn/utils/fixes.py\", line 222, in __call__\n",
      "    return self.function(*args, **kwargs)\n",
      "  File \"/opt/conda/lib/python3.9/site-packages/sklearn/ensemble/_forest.py\", line 169, in _parallel_build_trees\n",
      "    tree.fit(X, y, sample_weight=curr_sample_weight, check_input=False)\n",
      "  File \"/opt/conda/lib/python3.9/site-packages/sklearn/tree/_classes.py\", line 1247, in fit\n",
      "    super().fit(\n",
      "  File \"/opt/conda/lib/python3.9/site-packages/sklearn/tree/_classes.py\", line 288, in fit\n",
      "    raise ValueError(\"max_features must be in (0, n_features]\")\n",
      "ValueError: max_features must be in (0, n_features]\n",
      "\n",
      "  warnings.warn(\"Estimator fit failed. The score on this train-test\"\n"
     ]
    },
    {
     "name": "stdout",
     "output_type": "stream",
     "text": [
      "[CV 5/5] END bootstrap=False, max_depth=10, max_features=2, min_samples_leaf=12, min_samples_split=12, n_estimators=49; total time=   2.8s\n",
      "[CV 1/5] END bootstrap=True, max_depth=16, max_features=8, min_samples_leaf=6, min_samples_split=16, n_estimators=13; total time=   0.0s\n",
      "[CV 2/5] END bootstrap=True, max_depth=16, max_features=8, min_samples_leaf=6, min_samples_split=16, n_estimators=13; total time=   0.0s\n",
      "[CV 3/5] END bootstrap=True, max_depth=16, max_features=8, min_samples_leaf=6, min_samples_split=16, n_estimators=13; total time=   0.0s\n",
      "[CV 4/5] END bootstrap=True, max_depth=16, max_features=8, min_samples_leaf=6, min_samples_split=16, n_estimators=13; total time=   0.0s\n",
      "[CV 5/5] END bootstrap=True, max_depth=16, max_features=8, min_samples_leaf=6, min_samples_split=16, n_estimators=13; total time=   0.0s\n"
     ]
    },
    {
     "name": "stderr",
     "output_type": "stream",
     "text": [
      "/opt/conda/lib/python3.9/site-packages/sklearn/utils/validation.py:70: FutureWarning: Pass sample_weight=135637     3999\n",
      "21779      6200\n",
      "26030      2800\n",
      "252988     4444\n",
      "197203     1500\n",
      "          ...  \n",
      "79999     12000\n",
      "189360     1000\n",
      "187199     1850\n",
      "183012      200\n",
      "311505      600\n",
      "Name: Price, Length: 48297, dtype: int64 as keyword args. From version 1.0 (renaming of 0.25) passing these as positional arguments will result in an error\n",
      "  warnings.warn(f\"Pass {args_msg} as keyword args. From version \"\n",
      "/opt/conda/lib/python3.9/site-packages/sklearn/model_selection/_validation.py:683: UserWarning: Scoring failed. The score on this train-test partition for these parameters will be set to nan. Details: \n",
      "Traceback (most recent call last):\n",
      "  File \"/opt/conda/lib/python3.9/site-packages/sklearn/model_selection/_validation.py\", line 674, in _score\n",
      "    scores = scorer(estimator, X_test, y_test)\n",
      "  File \"/opt/conda/lib/python3.9/site-packages/sklearn/utils/validation.py\", line 74, in inner_f\n",
      "    return f(**kwargs)\n",
      "  File \"/opt/conda/lib/python3.9/site-packages/sklearn/metrics/_regression.py\", line 335, in mean_squared_error\n",
      "    y_type, y_true, y_pred, multioutput = _check_reg_targets(\n",
      "  File \"/opt/conda/lib/python3.9/site-packages/sklearn/metrics/_regression.py\", line 88, in _check_reg_targets\n",
      "    check_consistent_length(y_true, y_pred)\n",
      "  File \"/opt/conda/lib/python3.9/site-packages/sklearn/utils/validation.py\", line 259, in check_consistent_length\n",
      "    lengths = [_num_samples(X) for X in arrays if X is not None]\n",
      "  File \"/opt/conda/lib/python3.9/site-packages/sklearn/utils/validation.py\", line 259, in <listcomp>\n",
      "    lengths = [_num_samples(X) for X in arrays if X is not None]\n",
      "  File \"/opt/conda/lib/python3.9/site-packages/sklearn/utils/validation.py\", line 192, in _num_samples\n",
      "    raise TypeError(message)\n",
      "TypeError: Expected sequence or array-like, got <class 'sklearn.ensemble._forest.RandomForestRegressor'>\n",
      "\n",
      "  warnings.warn(\n"
     ]
    },
    {
     "name": "stdout",
     "output_type": "stream",
     "text": [
      "[CV 1/5] END bootstrap=True, max_depth=3, max_features=4, min_samples_leaf=6, min_samples_split=4, n_estimators=15; total time=   0.5s\n"
     ]
    },
    {
     "name": "stderr",
     "output_type": "stream",
     "text": [
      "/opt/conda/lib/python3.9/site-packages/sklearn/utils/validation.py:70: FutureWarning: Pass sample_weight=323115     2450\n",
      "281835     2800\n",
      "13700      3250\n",
      "134143     6400\n",
      "161494     2399\n",
      "          ...  \n",
      "338743     4000\n",
      "119708     9500\n",
      "173502     6000\n",
      "17459     18800\n",
      "114799     1600\n",
      "Name: Price, Length: 48297, dtype: int64 as keyword args. From version 1.0 (renaming of 0.25) passing these as positional arguments will result in an error\n",
      "  warnings.warn(f\"Pass {args_msg} as keyword args. From version \"\n",
      "/opt/conda/lib/python3.9/site-packages/sklearn/model_selection/_validation.py:683: UserWarning: Scoring failed. The score on this train-test partition for these parameters will be set to nan. Details: \n",
      "Traceback (most recent call last):\n",
      "  File \"/opt/conda/lib/python3.9/site-packages/sklearn/model_selection/_validation.py\", line 674, in _score\n",
      "    scores = scorer(estimator, X_test, y_test)\n",
      "  File \"/opt/conda/lib/python3.9/site-packages/sklearn/utils/validation.py\", line 74, in inner_f\n",
      "    return f(**kwargs)\n",
      "  File \"/opt/conda/lib/python3.9/site-packages/sklearn/metrics/_regression.py\", line 335, in mean_squared_error\n",
      "    y_type, y_true, y_pred, multioutput = _check_reg_targets(\n",
      "  File \"/opt/conda/lib/python3.9/site-packages/sklearn/metrics/_regression.py\", line 88, in _check_reg_targets\n",
      "    check_consistent_length(y_true, y_pred)\n",
      "  File \"/opt/conda/lib/python3.9/site-packages/sklearn/utils/validation.py\", line 259, in check_consistent_length\n",
      "    lengths = [_num_samples(X) for X in arrays if X is not None]\n",
      "  File \"/opt/conda/lib/python3.9/site-packages/sklearn/utils/validation.py\", line 259, in <listcomp>\n",
      "    lengths = [_num_samples(X) for X in arrays if X is not None]\n",
      "  File \"/opt/conda/lib/python3.9/site-packages/sklearn/utils/validation.py\", line 192, in _num_samples\n",
      "    raise TypeError(message)\n",
      "TypeError: Expected sequence or array-like, got <class 'sklearn.ensemble._forest.RandomForestRegressor'>\n",
      "\n",
      "  warnings.warn(\n"
     ]
    },
    {
     "name": "stdout",
     "output_type": "stream",
     "text": [
      "[CV 2/5] END bootstrap=True, max_depth=3, max_features=4, min_samples_leaf=6, min_samples_split=4, n_estimators=15; total time=   0.5s\n"
     ]
    },
    {
     "name": "stderr",
     "output_type": "stream",
     "text": [
      "/opt/conda/lib/python3.9/site-packages/sklearn/utils/validation.py:70: FutureWarning: Pass sample_weight=65693      1300\n",
      "67989       750\n",
      "280660    10000\n",
      "80596      1990\n",
      "204641     3000\n",
      "          ...  \n",
      "289534     2650\n",
      "201789      600\n",
      "101676      590\n",
      "133923     3100\n",
      "149376    11500\n",
      "Name: Price, Length: 48297, dtype: int64 as keyword args. From version 1.0 (renaming of 0.25) passing these as positional arguments will result in an error\n",
      "  warnings.warn(f\"Pass {args_msg} as keyword args. From version \"\n",
      "/opt/conda/lib/python3.9/site-packages/sklearn/model_selection/_validation.py:683: UserWarning: Scoring failed. The score on this train-test partition for these parameters will be set to nan. Details: \n",
      "Traceback (most recent call last):\n",
      "  File \"/opt/conda/lib/python3.9/site-packages/sklearn/model_selection/_validation.py\", line 674, in _score\n",
      "    scores = scorer(estimator, X_test, y_test)\n",
      "  File \"/opt/conda/lib/python3.9/site-packages/sklearn/utils/validation.py\", line 74, in inner_f\n",
      "    return f(**kwargs)\n",
      "  File \"/opt/conda/lib/python3.9/site-packages/sklearn/metrics/_regression.py\", line 335, in mean_squared_error\n",
      "    y_type, y_true, y_pred, multioutput = _check_reg_targets(\n",
      "  File \"/opt/conda/lib/python3.9/site-packages/sklearn/metrics/_regression.py\", line 88, in _check_reg_targets\n",
      "    check_consistent_length(y_true, y_pred)\n",
      "  File \"/opt/conda/lib/python3.9/site-packages/sklearn/utils/validation.py\", line 259, in check_consistent_length\n",
      "    lengths = [_num_samples(X) for X in arrays if X is not None]\n",
      "  File \"/opt/conda/lib/python3.9/site-packages/sklearn/utils/validation.py\", line 259, in <listcomp>\n",
      "    lengths = [_num_samples(X) for X in arrays if X is not None]\n",
      "  File \"/opt/conda/lib/python3.9/site-packages/sklearn/utils/validation.py\", line 192, in _num_samples\n",
      "    raise TypeError(message)\n",
      "TypeError: Expected sequence or array-like, got <class 'sklearn.ensemble._forest.RandomForestRegressor'>\n",
      "\n",
      "  warnings.warn(\n"
     ]
    },
    {
     "name": "stdout",
     "output_type": "stream",
     "text": [
      "[CV 3/5] END bootstrap=True, max_depth=3, max_features=4, min_samples_leaf=6, min_samples_split=4, n_estimators=15; total time=   0.5s\n"
     ]
    },
    {
     "name": "stderr",
     "output_type": "stream",
     "text": [
      "/opt/conda/lib/python3.9/site-packages/sklearn/utils/validation.py:70: FutureWarning: Pass sample_weight=45108       950\n",
      "42012      2500\n",
      "234180      800\n",
      "159635      850\n",
      "280569     1500\n",
      "          ...  \n",
      "42942      1400\n",
      "178034      880\n",
      "247205      449\n",
      "301181    13900\n",
      "113356     5500\n",
      "Name: Price, Length: 48296, dtype: int64 as keyword args. From version 1.0 (renaming of 0.25) passing these as positional arguments will result in an error\n",
      "  warnings.warn(f\"Pass {args_msg} as keyword args. From version \"\n",
      "/opt/conda/lib/python3.9/site-packages/sklearn/model_selection/_validation.py:683: UserWarning: Scoring failed. The score on this train-test partition for these parameters will be set to nan. Details: \n",
      "Traceback (most recent call last):\n",
      "  File \"/opt/conda/lib/python3.9/site-packages/sklearn/model_selection/_validation.py\", line 674, in _score\n",
      "    scores = scorer(estimator, X_test, y_test)\n",
      "  File \"/opt/conda/lib/python3.9/site-packages/sklearn/utils/validation.py\", line 74, in inner_f\n",
      "    return f(**kwargs)\n",
      "  File \"/opt/conda/lib/python3.9/site-packages/sklearn/metrics/_regression.py\", line 335, in mean_squared_error\n",
      "    y_type, y_true, y_pred, multioutput = _check_reg_targets(\n",
      "  File \"/opt/conda/lib/python3.9/site-packages/sklearn/metrics/_regression.py\", line 88, in _check_reg_targets\n",
      "    check_consistent_length(y_true, y_pred)\n",
      "  File \"/opt/conda/lib/python3.9/site-packages/sklearn/utils/validation.py\", line 259, in check_consistent_length\n",
      "    lengths = [_num_samples(X) for X in arrays if X is not None]\n",
      "  File \"/opt/conda/lib/python3.9/site-packages/sklearn/utils/validation.py\", line 259, in <listcomp>\n",
      "    lengths = [_num_samples(X) for X in arrays if X is not None]\n",
      "  File \"/opt/conda/lib/python3.9/site-packages/sklearn/utils/validation.py\", line 192, in _num_samples\n",
      "    raise TypeError(message)\n",
      "TypeError: Expected sequence or array-like, got <class 'sklearn.ensemble._forest.RandomForestRegressor'>\n",
      "\n",
      "  warnings.warn(\n"
     ]
    },
    {
     "name": "stdout",
     "output_type": "stream",
     "text": [
      "[CV 4/5] END bootstrap=True, max_depth=3, max_features=4, min_samples_leaf=6, min_samples_split=4, n_estimators=15; total time=   0.5s\n"
     ]
    },
    {
     "name": "stderr",
     "output_type": "stream",
     "text": [
      "/opt/conda/lib/python3.9/site-packages/sklearn/utils/validation.py:70: FutureWarning: Pass sample_weight=102680    19950\n",
      "39437      4900\n",
      "318435      800\n",
      "225179     4500\n",
      "132722     4999\n",
      "          ...  \n",
      "174842     1600\n",
      "52753      1500\n",
      "95001      3500\n",
      "84958      2300\n",
      "239552     4700\n",
      "Name: Price, Length: 48296, dtype: int64 as keyword args. From version 1.0 (renaming of 0.25) passing these as positional arguments will result in an error\n",
      "  warnings.warn(f\"Pass {args_msg} as keyword args. From version \"\n",
      "/opt/conda/lib/python3.9/site-packages/sklearn/model_selection/_validation.py:683: UserWarning: Scoring failed. The score on this train-test partition for these parameters will be set to nan. Details: \n",
      "Traceback (most recent call last):\n",
      "  File \"/opt/conda/lib/python3.9/site-packages/sklearn/model_selection/_validation.py\", line 674, in _score\n",
      "    scores = scorer(estimator, X_test, y_test)\n",
      "  File \"/opt/conda/lib/python3.9/site-packages/sklearn/utils/validation.py\", line 74, in inner_f\n",
      "    return f(**kwargs)\n",
      "  File \"/opt/conda/lib/python3.9/site-packages/sklearn/metrics/_regression.py\", line 335, in mean_squared_error\n",
      "    y_type, y_true, y_pred, multioutput = _check_reg_targets(\n",
      "  File \"/opt/conda/lib/python3.9/site-packages/sklearn/metrics/_regression.py\", line 88, in _check_reg_targets\n",
      "    check_consistent_length(y_true, y_pred)\n",
      "  File \"/opt/conda/lib/python3.9/site-packages/sklearn/utils/validation.py\", line 259, in check_consistent_length\n",
      "    lengths = [_num_samples(X) for X in arrays if X is not None]\n",
      "  File \"/opt/conda/lib/python3.9/site-packages/sklearn/utils/validation.py\", line 259, in <listcomp>\n",
      "    lengths = [_num_samples(X) for X in arrays if X is not None]\n",
      "  File \"/opt/conda/lib/python3.9/site-packages/sklearn/utils/validation.py\", line 192, in _num_samples\n",
      "    raise TypeError(message)\n",
      "TypeError: Expected sequence or array-like, got <class 'sklearn.ensemble._forest.RandomForestRegressor'>\n",
      "\n",
      "  warnings.warn(\n"
     ]
    },
    {
     "name": "stdout",
     "output_type": "stream",
     "text": [
      "[CV 5/5] END bootstrap=True, max_depth=3, max_features=4, min_samples_leaf=6, min_samples_split=4, n_estimators=15; total time=   0.5s\n"
     ]
    },
    {
     "name": "stderr",
     "output_type": "stream",
     "text": [
      "/opt/conda/lib/python3.9/site-packages/sklearn/utils/validation.py:70: FutureWarning: Pass sample_weight=135637     3999\n",
      "21779      6200\n",
      "26030      2800\n",
      "252988     4444\n",
      "197203     1500\n",
      "          ...  \n",
      "79999     12000\n",
      "189360     1000\n",
      "187199     1850\n",
      "183012      200\n",
      "311505      600\n",
      "Name: Price, Length: 48297, dtype: int64 as keyword args. From version 1.0 (renaming of 0.25) passing these as positional arguments will result in an error\n",
      "  warnings.warn(f\"Pass {args_msg} as keyword args. From version \"\n",
      "/opt/conda/lib/python3.9/site-packages/sklearn/model_selection/_validation.py:683: UserWarning: Scoring failed. The score on this train-test partition for these parameters will be set to nan. Details: \n",
      "Traceback (most recent call last):\n",
      "  File \"/opt/conda/lib/python3.9/site-packages/sklearn/model_selection/_validation.py\", line 674, in _score\n",
      "    scores = scorer(estimator, X_test, y_test)\n",
      "  File \"/opt/conda/lib/python3.9/site-packages/sklearn/utils/validation.py\", line 74, in inner_f\n",
      "    return f(**kwargs)\n",
      "  File \"/opt/conda/lib/python3.9/site-packages/sklearn/metrics/_regression.py\", line 335, in mean_squared_error\n",
      "    y_type, y_true, y_pred, multioutput = _check_reg_targets(\n",
      "  File \"/opt/conda/lib/python3.9/site-packages/sklearn/metrics/_regression.py\", line 88, in _check_reg_targets\n",
      "    check_consistent_length(y_true, y_pred)\n",
      "  File \"/opt/conda/lib/python3.9/site-packages/sklearn/utils/validation.py\", line 259, in check_consistent_length\n",
      "    lengths = [_num_samples(X) for X in arrays if X is not None]\n",
      "  File \"/opt/conda/lib/python3.9/site-packages/sklearn/utils/validation.py\", line 259, in <listcomp>\n",
      "    lengths = [_num_samples(X) for X in arrays if X is not None]\n",
      "  File \"/opt/conda/lib/python3.9/site-packages/sklearn/utils/validation.py\", line 192, in _num_samples\n",
      "    raise TypeError(message)\n",
      "TypeError: Expected sequence or array-like, got <class 'sklearn.ensemble._forest.RandomForestRegressor'>\n",
      "\n",
      "  warnings.warn(\n"
     ]
    },
    {
     "name": "stdout",
     "output_type": "stream",
     "text": [
      "[CV 1/5] END bootstrap=True, max_depth=2, max_features=6, min_samples_leaf=16, min_samples_split=12, n_estimators=40; total time=   1.2s\n"
     ]
    },
    {
     "name": "stderr",
     "output_type": "stream",
     "text": [
      "/opt/conda/lib/python3.9/site-packages/sklearn/utils/validation.py:70: FutureWarning: Pass sample_weight=323115     2450\n",
      "281835     2800\n",
      "13700      3250\n",
      "134143     6400\n",
      "161494     2399\n",
      "          ...  \n",
      "338743     4000\n",
      "119708     9500\n",
      "173502     6000\n",
      "17459     18800\n",
      "114799     1600\n",
      "Name: Price, Length: 48297, dtype: int64 as keyword args. From version 1.0 (renaming of 0.25) passing these as positional arguments will result in an error\n",
      "  warnings.warn(f\"Pass {args_msg} as keyword args. From version \"\n",
      "/opt/conda/lib/python3.9/site-packages/sklearn/model_selection/_validation.py:683: UserWarning: Scoring failed. The score on this train-test partition for these parameters will be set to nan. Details: \n",
      "Traceback (most recent call last):\n",
      "  File \"/opt/conda/lib/python3.9/site-packages/sklearn/model_selection/_validation.py\", line 674, in _score\n",
      "    scores = scorer(estimator, X_test, y_test)\n",
      "  File \"/opt/conda/lib/python3.9/site-packages/sklearn/utils/validation.py\", line 74, in inner_f\n",
      "    return f(**kwargs)\n",
      "  File \"/opt/conda/lib/python3.9/site-packages/sklearn/metrics/_regression.py\", line 335, in mean_squared_error\n",
      "    y_type, y_true, y_pred, multioutput = _check_reg_targets(\n",
      "  File \"/opt/conda/lib/python3.9/site-packages/sklearn/metrics/_regression.py\", line 88, in _check_reg_targets\n",
      "    check_consistent_length(y_true, y_pred)\n",
      "  File \"/opt/conda/lib/python3.9/site-packages/sklearn/utils/validation.py\", line 259, in check_consistent_length\n",
      "    lengths = [_num_samples(X) for X in arrays if X is not None]\n",
      "  File \"/opt/conda/lib/python3.9/site-packages/sklearn/utils/validation.py\", line 259, in <listcomp>\n",
      "    lengths = [_num_samples(X) for X in arrays if X is not None]\n",
      "  File \"/opt/conda/lib/python3.9/site-packages/sklearn/utils/validation.py\", line 192, in _num_samples\n",
      "    raise TypeError(message)\n",
      "TypeError: Expected sequence or array-like, got <class 'sklearn.ensemble._forest.RandomForestRegressor'>\n",
      "\n",
      "  warnings.warn(\n"
     ]
    },
    {
     "name": "stdout",
     "output_type": "stream",
     "text": [
      "[CV 2/5] END bootstrap=True, max_depth=2, max_features=6, min_samples_leaf=16, min_samples_split=12, n_estimators=40; total time=   1.2s\n"
     ]
    },
    {
     "name": "stderr",
     "output_type": "stream",
     "text": [
      "/opt/conda/lib/python3.9/site-packages/sklearn/utils/validation.py:70: FutureWarning: Pass sample_weight=65693      1300\n",
      "67989       750\n",
      "280660    10000\n",
      "80596      1990\n",
      "204641     3000\n",
      "          ...  \n",
      "289534     2650\n",
      "201789      600\n",
      "101676      590\n",
      "133923     3100\n",
      "149376    11500\n",
      "Name: Price, Length: 48297, dtype: int64 as keyword args. From version 1.0 (renaming of 0.25) passing these as positional arguments will result in an error\n",
      "  warnings.warn(f\"Pass {args_msg} as keyword args. From version \"\n",
      "/opt/conda/lib/python3.9/site-packages/sklearn/model_selection/_validation.py:683: UserWarning: Scoring failed. The score on this train-test partition for these parameters will be set to nan. Details: \n",
      "Traceback (most recent call last):\n",
      "  File \"/opt/conda/lib/python3.9/site-packages/sklearn/model_selection/_validation.py\", line 674, in _score\n",
      "    scores = scorer(estimator, X_test, y_test)\n",
      "  File \"/opt/conda/lib/python3.9/site-packages/sklearn/utils/validation.py\", line 74, in inner_f\n",
      "    return f(**kwargs)\n",
      "  File \"/opt/conda/lib/python3.9/site-packages/sklearn/metrics/_regression.py\", line 335, in mean_squared_error\n",
      "    y_type, y_true, y_pred, multioutput = _check_reg_targets(\n",
      "  File \"/opt/conda/lib/python3.9/site-packages/sklearn/metrics/_regression.py\", line 88, in _check_reg_targets\n",
      "    check_consistent_length(y_true, y_pred)\n",
      "  File \"/opt/conda/lib/python3.9/site-packages/sklearn/utils/validation.py\", line 259, in check_consistent_length\n",
      "    lengths = [_num_samples(X) for X in arrays if X is not None]\n",
      "  File \"/opt/conda/lib/python3.9/site-packages/sklearn/utils/validation.py\", line 259, in <listcomp>\n",
      "    lengths = [_num_samples(X) for X in arrays if X is not None]\n",
      "  File \"/opt/conda/lib/python3.9/site-packages/sklearn/utils/validation.py\", line 192, in _num_samples\n",
      "    raise TypeError(message)\n",
      "TypeError: Expected sequence or array-like, got <class 'sklearn.ensemble._forest.RandomForestRegressor'>\n",
      "\n",
      "  warnings.warn(\n"
     ]
    },
    {
     "name": "stdout",
     "output_type": "stream",
     "text": [
      "[CV 3/5] END bootstrap=True, max_depth=2, max_features=6, min_samples_leaf=16, min_samples_split=12, n_estimators=40; total time=   1.2s\n"
     ]
    },
    {
     "name": "stderr",
     "output_type": "stream",
     "text": [
      "/opt/conda/lib/python3.9/site-packages/sklearn/utils/validation.py:70: FutureWarning: Pass sample_weight=45108       950\n",
      "42012      2500\n",
      "234180      800\n",
      "159635      850\n",
      "280569     1500\n",
      "          ...  \n",
      "42942      1400\n",
      "178034      880\n",
      "247205      449\n",
      "301181    13900\n",
      "113356     5500\n",
      "Name: Price, Length: 48296, dtype: int64 as keyword args. From version 1.0 (renaming of 0.25) passing these as positional arguments will result in an error\n",
      "  warnings.warn(f\"Pass {args_msg} as keyword args. From version \"\n",
      "/opt/conda/lib/python3.9/site-packages/sklearn/model_selection/_validation.py:683: UserWarning: Scoring failed. The score on this train-test partition for these parameters will be set to nan. Details: \n",
      "Traceback (most recent call last):\n",
      "  File \"/opt/conda/lib/python3.9/site-packages/sklearn/model_selection/_validation.py\", line 674, in _score\n",
      "    scores = scorer(estimator, X_test, y_test)\n",
      "  File \"/opt/conda/lib/python3.9/site-packages/sklearn/utils/validation.py\", line 74, in inner_f\n",
      "    return f(**kwargs)\n",
      "  File \"/opt/conda/lib/python3.9/site-packages/sklearn/metrics/_regression.py\", line 335, in mean_squared_error\n",
      "    y_type, y_true, y_pred, multioutput = _check_reg_targets(\n",
      "  File \"/opt/conda/lib/python3.9/site-packages/sklearn/metrics/_regression.py\", line 88, in _check_reg_targets\n",
      "    check_consistent_length(y_true, y_pred)\n",
      "  File \"/opt/conda/lib/python3.9/site-packages/sklearn/utils/validation.py\", line 259, in check_consistent_length\n",
      "    lengths = [_num_samples(X) for X in arrays if X is not None]\n",
      "  File \"/opt/conda/lib/python3.9/site-packages/sklearn/utils/validation.py\", line 259, in <listcomp>\n",
      "    lengths = [_num_samples(X) for X in arrays if X is not None]\n",
      "  File \"/opt/conda/lib/python3.9/site-packages/sklearn/utils/validation.py\", line 192, in _num_samples\n",
      "    raise TypeError(message)\n",
      "TypeError: Expected sequence or array-like, got <class 'sklearn.ensemble._forest.RandomForestRegressor'>\n",
      "\n",
      "  warnings.warn(\n"
     ]
    },
    {
     "name": "stdout",
     "output_type": "stream",
     "text": [
      "[CV 4/5] END bootstrap=True, max_depth=2, max_features=6, min_samples_leaf=16, min_samples_split=12, n_estimators=40; total time=   1.2s\n"
     ]
    },
    {
     "name": "stderr",
     "output_type": "stream",
     "text": [
      "/opt/conda/lib/python3.9/site-packages/sklearn/utils/validation.py:70: FutureWarning: Pass sample_weight=102680    19950\n",
      "39437      4900\n",
      "318435      800\n",
      "225179     4500\n",
      "132722     4999\n",
      "          ...  \n",
      "174842     1600\n",
      "52753      1500\n",
      "95001      3500\n",
      "84958      2300\n",
      "239552     4700\n",
      "Name: Price, Length: 48296, dtype: int64 as keyword args. From version 1.0 (renaming of 0.25) passing these as positional arguments will result in an error\n",
      "  warnings.warn(f\"Pass {args_msg} as keyword args. From version \"\n",
      "/opt/conda/lib/python3.9/site-packages/sklearn/model_selection/_validation.py:683: UserWarning: Scoring failed. The score on this train-test partition for these parameters will be set to nan. Details: \n",
      "Traceback (most recent call last):\n",
      "  File \"/opt/conda/lib/python3.9/site-packages/sklearn/model_selection/_validation.py\", line 674, in _score\n",
      "    scores = scorer(estimator, X_test, y_test)\n",
      "  File \"/opt/conda/lib/python3.9/site-packages/sklearn/utils/validation.py\", line 74, in inner_f\n",
      "    return f(**kwargs)\n",
      "  File \"/opt/conda/lib/python3.9/site-packages/sklearn/metrics/_regression.py\", line 335, in mean_squared_error\n",
      "    y_type, y_true, y_pred, multioutput = _check_reg_targets(\n",
      "  File \"/opt/conda/lib/python3.9/site-packages/sklearn/metrics/_regression.py\", line 88, in _check_reg_targets\n",
      "    check_consistent_length(y_true, y_pred)\n",
      "  File \"/opt/conda/lib/python3.9/site-packages/sklearn/utils/validation.py\", line 259, in check_consistent_length\n",
      "    lengths = [_num_samples(X) for X in arrays if X is not None]\n",
      "  File \"/opt/conda/lib/python3.9/site-packages/sklearn/utils/validation.py\", line 259, in <listcomp>\n",
      "    lengths = [_num_samples(X) for X in arrays if X is not None]\n",
      "  File \"/opt/conda/lib/python3.9/site-packages/sklearn/utils/validation.py\", line 192, in _num_samples\n",
      "    raise TypeError(message)\n",
      "TypeError: Expected sequence or array-like, got <class 'sklearn.ensemble._forest.RandomForestRegressor'>\n",
      "\n",
      "  warnings.warn(\n",
      "/opt/conda/lib/python3.9/site-packages/sklearn/model_selection/_validation.py:610: FitFailedWarning: Estimator fit failed. The score on this train-test partition for these parameters will be set to nan. Details: \n",
      "Traceback (most recent call last):\n",
      "  File \"/opt/conda/lib/python3.9/site-packages/sklearn/model_selection/_validation.py\", line 593, in _fit_and_score\n",
      "    estimator.fit(X_train, y_train, **fit_params)\n",
      "  File \"/opt/conda/lib/python3.9/site-packages/sklearn/ensemble/_forest.py\", line 387, in fit\n",
      "    trees = Parallel(n_jobs=self.n_jobs, verbose=self.verbose,\n",
      "  File \"/opt/conda/lib/python3.9/site-packages/joblib/parallel.py\", line 1043, in __call__\n",
      "    if self.dispatch_one_batch(iterator):\n",
      "  File \"/opt/conda/lib/python3.9/site-packages/joblib/parallel.py\", line 861, in dispatch_one_batch\n",
      "    self._dispatch(tasks)\n",
      "  File \"/opt/conda/lib/python3.9/site-packages/joblib/parallel.py\", line 779, in _dispatch\n",
      "    job = self._backend.apply_async(batch, callback=cb)\n",
      "  File \"/opt/conda/lib/python3.9/site-packages/joblib/_parallel_backends.py\", line 208, in apply_async\n",
      "    result = ImmediateResult(func)\n",
      "  File \"/opt/conda/lib/python3.9/site-packages/joblib/_parallel_backends.py\", line 572, in __init__\n",
      "    self.results = batch()\n",
      "  File \"/opt/conda/lib/python3.9/site-packages/joblib/parallel.py\", line 262, in __call__\n",
      "    return [func(*args, **kwargs)\n",
      "  File \"/opt/conda/lib/python3.9/site-packages/joblib/parallel.py\", line 262, in <listcomp>\n",
      "    return [func(*args, **kwargs)\n",
      "  File \"/opt/conda/lib/python3.9/site-packages/sklearn/utils/fixes.py\", line 222, in __call__\n",
      "    return self.function(*args, **kwargs)\n",
      "  File \"/opt/conda/lib/python3.9/site-packages/sklearn/ensemble/_forest.py\", line 171, in _parallel_build_trees\n",
      "    tree.fit(X, y, sample_weight=sample_weight, check_input=False)\n",
      "  File \"/opt/conda/lib/python3.9/site-packages/sklearn/tree/_classes.py\", line 1247, in fit\n",
      "    super().fit(\n",
      "  File \"/opt/conda/lib/python3.9/site-packages/sklearn/tree/_classes.py\", line 288, in fit\n",
      "    raise ValueError(\"max_features must be in (0, n_features]\")\n",
      "ValueError: max_features must be in (0, n_features]\n",
      "\n",
      "  warnings.warn(\"Estimator fit failed. The score on this train-test\"\n",
      "/opt/conda/lib/python3.9/site-packages/sklearn/model_selection/_validation.py:610: FitFailedWarning: Estimator fit failed. The score on this train-test partition for these parameters will be set to nan. Details: \n",
      "Traceback (most recent call last):\n",
      "  File \"/opt/conda/lib/python3.9/site-packages/sklearn/model_selection/_validation.py\", line 593, in _fit_and_score\n",
      "    estimator.fit(X_train, y_train, **fit_params)\n",
      "  File \"/opt/conda/lib/python3.9/site-packages/sklearn/ensemble/_forest.py\", line 387, in fit\n",
      "    trees = Parallel(n_jobs=self.n_jobs, verbose=self.verbose,\n",
      "  File \"/opt/conda/lib/python3.9/site-packages/joblib/parallel.py\", line 1043, in __call__\n",
      "    if self.dispatch_one_batch(iterator):\n",
      "  File \"/opt/conda/lib/python3.9/site-packages/joblib/parallel.py\", line 861, in dispatch_one_batch\n",
      "    self._dispatch(tasks)\n",
      "  File \"/opt/conda/lib/python3.9/site-packages/joblib/parallel.py\", line 779, in _dispatch\n",
      "    job = self._backend.apply_async(batch, callback=cb)\n",
      "  File \"/opt/conda/lib/python3.9/site-packages/joblib/_parallel_backends.py\", line 208, in apply_async\n",
      "    result = ImmediateResult(func)\n",
      "  File \"/opt/conda/lib/python3.9/site-packages/joblib/_parallel_backends.py\", line 572, in __init__\n",
      "    self.results = batch()\n",
      "  File \"/opt/conda/lib/python3.9/site-packages/joblib/parallel.py\", line 262, in __call__\n",
      "    return [func(*args, **kwargs)\n",
      "  File \"/opt/conda/lib/python3.9/site-packages/joblib/parallel.py\", line 262, in <listcomp>\n",
      "    return [func(*args, **kwargs)\n",
      "  File \"/opt/conda/lib/python3.9/site-packages/sklearn/utils/fixes.py\", line 222, in __call__\n",
      "    return self.function(*args, **kwargs)\n",
      "  File \"/opt/conda/lib/python3.9/site-packages/sklearn/ensemble/_forest.py\", line 171, in _parallel_build_trees\n",
      "    tree.fit(X, y, sample_weight=sample_weight, check_input=False)\n",
      "  File \"/opt/conda/lib/python3.9/site-packages/sklearn/tree/_classes.py\", line 1247, in fit\n",
      "    super().fit(\n",
      "  File \"/opt/conda/lib/python3.9/site-packages/sklearn/tree/_classes.py\", line 288, in fit\n",
      "    raise ValueError(\"max_features must be in (0, n_features]\")\n",
      "ValueError: max_features must be in (0, n_features]\n",
      "\n",
      "  warnings.warn(\"Estimator fit failed. The score on this train-test\"\n",
      "/opt/conda/lib/python3.9/site-packages/sklearn/model_selection/_validation.py:610: FitFailedWarning: Estimator fit failed. The score on this train-test partition for these parameters will be set to nan. Details: \n",
      "Traceback (most recent call last):\n",
      "  File \"/opt/conda/lib/python3.9/site-packages/sklearn/model_selection/_validation.py\", line 593, in _fit_and_score\n",
      "    estimator.fit(X_train, y_train, **fit_params)\n",
      "  File \"/opt/conda/lib/python3.9/site-packages/sklearn/ensemble/_forest.py\", line 387, in fit\n",
      "    trees = Parallel(n_jobs=self.n_jobs, verbose=self.verbose,\n",
      "  File \"/opt/conda/lib/python3.9/site-packages/joblib/parallel.py\", line 1043, in __call__\n",
      "    if self.dispatch_one_batch(iterator):\n",
      "  File \"/opt/conda/lib/python3.9/site-packages/joblib/parallel.py\", line 861, in dispatch_one_batch\n",
      "    self._dispatch(tasks)\n",
      "  File \"/opt/conda/lib/python3.9/site-packages/joblib/parallel.py\", line 779, in _dispatch\n",
      "    job = self._backend.apply_async(batch, callback=cb)\n",
      "  File \"/opt/conda/lib/python3.9/site-packages/joblib/_parallel_backends.py\", line 208, in apply_async\n",
      "    result = ImmediateResult(func)\n",
      "  File \"/opt/conda/lib/python3.9/site-packages/joblib/_parallel_backends.py\", line 572, in __init__\n",
      "    self.results = batch()\n",
      "  File \"/opt/conda/lib/python3.9/site-packages/joblib/parallel.py\", line 262, in __call__\n",
      "    return [func(*args, **kwargs)\n",
      "  File \"/opt/conda/lib/python3.9/site-packages/joblib/parallel.py\", line 262, in <listcomp>\n",
      "    return [func(*args, **kwargs)\n",
      "  File \"/opt/conda/lib/python3.9/site-packages/sklearn/utils/fixes.py\", line 222, in __call__\n",
      "    return self.function(*args, **kwargs)\n",
      "  File \"/opt/conda/lib/python3.9/site-packages/sklearn/ensemble/_forest.py\", line 171, in _parallel_build_trees\n",
      "    tree.fit(X, y, sample_weight=sample_weight, check_input=False)\n",
      "  File \"/opt/conda/lib/python3.9/site-packages/sklearn/tree/_classes.py\", line 1247, in fit\n",
      "    super().fit(\n",
      "  File \"/opt/conda/lib/python3.9/site-packages/sklearn/tree/_classes.py\", line 288, in fit\n",
      "    raise ValueError(\"max_features must be in (0, n_features]\")\n",
      "ValueError: max_features must be in (0, n_features]\n",
      "\n",
      "  warnings.warn(\"Estimator fit failed. The score on this train-test\"\n",
      "/opt/conda/lib/python3.9/site-packages/sklearn/model_selection/_validation.py:610: FitFailedWarning: Estimator fit failed. The score on this train-test partition for these parameters will be set to nan. Details: \n",
      "Traceback (most recent call last):\n",
      "  File \"/opt/conda/lib/python3.9/site-packages/sklearn/model_selection/_validation.py\", line 593, in _fit_and_score\n",
      "    estimator.fit(X_train, y_train, **fit_params)\n",
      "  File \"/opt/conda/lib/python3.9/site-packages/sklearn/ensemble/_forest.py\", line 387, in fit\n",
      "    trees = Parallel(n_jobs=self.n_jobs, verbose=self.verbose,\n",
      "  File \"/opt/conda/lib/python3.9/site-packages/joblib/parallel.py\", line 1043, in __call__\n",
      "    if self.dispatch_one_batch(iterator):\n",
      "  File \"/opt/conda/lib/python3.9/site-packages/joblib/parallel.py\", line 861, in dispatch_one_batch\n",
      "    self._dispatch(tasks)\n",
      "  File \"/opt/conda/lib/python3.9/site-packages/joblib/parallel.py\", line 779, in _dispatch\n",
      "    job = self._backend.apply_async(batch, callback=cb)\n",
      "  File \"/opt/conda/lib/python3.9/site-packages/joblib/_parallel_backends.py\", line 208, in apply_async\n",
      "    result = ImmediateResult(func)\n",
      "  File \"/opt/conda/lib/python3.9/site-packages/joblib/_parallel_backends.py\", line 572, in __init__\n",
      "    self.results = batch()\n",
      "  File \"/opt/conda/lib/python3.9/site-packages/joblib/parallel.py\", line 262, in __call__\n",
      "    return [func(*args, **kwargs)\n",
      "  File \"/opt/conda/lib/python3.9/site-packages/joblib/parallel.py\", line 262, in <listcomp>\n",
      "    return [func(*args, **kwargs)\n",
      "  File \"/opt/conda/lib/python3.9/site-packages/sklearn/utils/fixes.py\", line 222, in __call__\n",
      "    return self.function(*args, **kwargs)\n",
      "  File \"/opt/conda/lib/python3.9/site-packages/sklearn/ensemble/_forest.py\", line 171, in _parallel_build_trees\n",
      "    tree.fit(X, y, sample_weight=sample_weight, check_input=False)\n",
      "  File \"/opt/conda/lib/python3.9/site-packages/sklearn/tree/_classes.py\", line 1247, in fit\n",
      "    super().fit(\n",
      "  File \"/opt/conda/lib/python3.9/site-packages/sklearn/tree/_classes.py\", line 288, in fit\n",
      "    raise ValueError(\"max_features must be in (0, n_features]\")\n",
      "ValueError: max_features must be in (0, n_features]\n",
      "\n",
      "  warnings.warn(\"Estimator fit failed. The score on this train-test\"\n",
      "/opt/conda/lib/python3.9/site-packages/sklearn/model_selection/_validation.py:610: FitFailedWarning: Estimator fit failed. The score on this train-test partition for these parameters will be set to nan. Details: \n",
      "Traceback (most recent call last):\n",
      "  File \"/opt/conda/lib/python3.9/site-packages/sklearn/model_selection/_validation.py\", line 593, in _fit_and_score\n",
      "    estimator.fit(X_train, y_train, **fit_params)\n",
      "  File \"/opt/conda/lib/python3.9/site-packages/sklearn/ensemble/_forest.py\", line 387, in fit\n",
      "    trees = Parallel(n_jobs=self.n_jobs, verbose=self.verbose,\n",
      "  File \"/opt/conda/lib/python3.9/site-packages/joblib/parallel.py\", line 1043, in __call__\n",
      "    if self.dispatch_one_batch(iterator):\n",
      "  File \"/opt/conda/lib/python3.9/site-packages/joblib/parallel.py\", line 861, in dispatch_one_batch\n",
      "    self._dispatch(tasks)\n",
      "  File \"/opt/conda/lib/python3.9/site-packages/joblib/parallel.py\", line 779, in _dispatch\n",
      "    job = self._backend.apply_async(batch, callback=cb)\n",
      "  File \"/opt/conda/lib/python3.9/site-packages/joblib/_parallel_backends.py\", line 208, in apply_async\n",
      "    result = ImmediateResult(func)\n",
      "  File \"/opt/conda/lib/python3.9/site-packages/joblib/_parallel_backends.py\", line 572, in __init__\n",
      "    self.results = batch()\n",
      "  File \"/opt/conda/lib/python3.9/site-packages/joblib/parallel.py\", line 262, in __call__\n",
      "    return [func(*args, **kwargs)\n",
      "  File \"/opt/conda/lib/python3.9/site-packages/joblib/parallel.py\", line 262, in <listcomp>\n",
      "    return [func(*args, **kwargs)\n",
      "  File \"/opt/conda/lib/python3.9/site-packages/sklearn/utils/fixes.py\", line 222, in __call__\n",
      "    return self.function(*args, **kwargs)\n",
      "  File \"/opt/conda/lib/python3.9/site-packages/sklearn/ensemble/_forest.py\", line 171, in _parallel_build_trees\n",
      "    tree.fit(X, y, sample_weight=sample_weight, check_input=False)\n",
      "  File \"/opt/conda/lib/python3.9/site-packages/sklearn/tree/_classes.py\", line 1247, in fit\n",
      "    super().fit(\n",
      "  File \"/opt/conda/lib/python3.9/site-packages/sklearn/tree/_classes.py\", line 288, in fit\n",
      "    raise ValueError(\"max_features must be in (0, n_features]\")\n",
      "ValueError: max_features must be in (0, n_features]\n",
      "\n",
      "  warnings.warn(\"Estimator fit failed. The score on this train-test\"\n"
     ]
    },
    {
     "name": "stdout",
     "output_type": "stream",
     "text": [
      "[CV 5/5] END bootstrap=True, max_depth=2, max_features=6, min_samples_leaf=16, min_samples_split=12, n_estimators=40; total time=   1.2s\n",
      "[CV 1/5] END bootstrap=False, max_depth=28, max_features=19, min_samples_leaf=10, min_samples_split=2, n_estimators=27; total time=   0.0s\n",
      "[CV 2/5] END bootstrap=False, max_depth=28, max_features=19, min_samples_leaf=10, min_samples_split=2, n_estimators=27; total time=   0.0s\n",
      "[CV 3/5] END bootstrap=False, max_depth=28, max_features=19, min_samples_leaf=10, min_samples_split=2, n_estimators=27; total time=   0.0s\n",
      "[CV 4/5] END bootstrap=False, max_depth=28, max_features=19, min_samples_leaf=10, min_samples_split=2, n_estimators=27; total time=   0.0s\n",
      "[CV 5/5] END bootstrap=False, max_depth=28, max_features=19, min_samples_leaf=10, min_samples_split=2, n_estimators=27; total time=   0.0s\n"
     ]
    },
    {
     "name": "stderr",
     "output_type": "stream",
     "text": [
      "/opt/conda/lib/python3.9/site-packages/sklearn/utils/validation.py:70: FutureWarning: Pass sample_weight=135637     3999\n",
      "21779      6200\n",
      "26030      2800\n",
      "252988     4444\n",
      "197203     1500\n",
      "          ...  \n",
      "79999     12000\n",
      "189360     1000\n",
      "187199     1850\n",
      "183012      200\n",
      "311505      600\n",
      "Name: Price, Length: 48297, dtype: int64 as keyword args. From version 1.0 (renaming of 0.25) passing these as positional arguments will result in an error\n",
      "  warnings.warn(f\"Pass {args_msg} as keyword args. From version \"\n",
      "/opt/conda/lib/python3.9/site-packages/sklearn/model_selection/_validation.py:683: UserWarning: Scoring failed. The score on this train-test partition for these parameters will be set to nan. Details: \n",
      "Traceback (most recent call last):\n",
      "  File \"/opt/conda/lib/python3.9/site-packages/sklearn/model_selection/_validation.py\", line 674, in _score\n",
      "    scores = scorer(estimator, X_test, y_test)\n",
      "  File \"/opt/conda/lib/python3.9/site-packages/sklearn/utils/validation.py\", line 74, in inner_f\n",
      "    return f(**kwargs)\n",
      "  File \"/opt/conda/lib/python3.9/site-packages/sklearn/metrics/_regression.py\", line 335, in mean_squared_error\n",
      "    y_type, y_true, y_pred, multioutput = _check_reg_targets(\n",
      "  File \"/opt/conda/lib/python3.9/site-packages/sklearn/metrics/_regression.py\", line 88, in _check_reg_targets\n",
      "    check_consistent_length(y_true, y_pred)\n",
      "  File \"/opt/conda/lib/python3.9/site-packages/sklearn/utils/validation.py\", line 259, in check_consistent_length\n",
      "    lengths = [_num_samples(X) for X in arrays if X is not None]\n",
      "  File \"/opt/conda/lib/python3.9/site-packages/sklearn/utils/validation.py\", line 259, in <listcomp>\n",
      "    lengths = [_num_samples(X) for X in arrays if X is not None]\n",
      "  File \"/opt/conda/lib/python3.9/site-packages/sklearn/utils/validation.py\", line 192, in _num_samples\n",
      "    raise TypeError(message)\n",
      "TypeError: Expected sequence or array-like, got <class 'sklearn.ensemble._forest.RandomForestRegressor'>\n",
      "\n",
      "  warnings.warn(\n"
     ]
    },
    {
     "name": "stdout",
     "output_type": "stream",
     "text": [
      "[CV 1/5] END bootstrap=True, max_depth=28, max_features=5, min_samples_leaf=14, min_samples_split=8, n_estimators=45; total time=   4.1s\n"
     ]
    },
    {
     "name": "stderr",
     "output_type": "stream",
     "text": [
      "/opt/conda/lib/python3.9/site-packages/sklearn/utils/validation.py:70: FutureWarning: Pass sample_weight=323115     2450\n",
      "281835     2800\n",
      "13700      3250\n",
      "134143     6400\n",
      "161494     2399\n",
      "          ...  \n",
      "338743     4000\n",
      "119708     9500\n",
      "173502     6000\n",
      "17459     18800\n",
      "114799     1600\n",
      "Name: Price, Length: 48297, dtype: int64 as keyword args. From version 1.0 (renaming of 0.25) passing these as positional arguments will result in an error\n",
      "  warnings.warn(f\"Pass {args_msg} as keyword args. From version \"\n",
      "/opt/conda/lib/python3.9/site-packages/sklearn/model_selection/_validation.py:683: UserWarning: Scoring failed. The score on this train-test partition for these parameters will be set to nan. Details: \n",
      "Traceback (most recent call last):\n",
      "  File \"/opt/conda/lib/python3.9/site-packages/sklearn/model_selection/_validation.py\", line 674, in _score\n",
      "    scores = scorer(estimator, X_test, y_test)\n",
      "  File \"/opt/conda/lib/python3.9/site-packages/sklearn/utils/validation.py\", line 74, in inner_f\n",
      "    return f(**kwargs)\n",
      "  File \"/opt/conda/lib/python3.9/site-packages/sklearn/metrics/_regression.py\", line 335, in mean_squared_error\n",
      "    y_type, y_true, y_pred, multioutput = _check_reg_targets(\n",
      "  File \"/opt/conda/lib/python3.9/site-packages/sklearn/metrics/_regression.py\", line 88, in _check_reg_targets\n",
      "    check_consistent_length(y_true, y_pred)\n",
      "  File \"/opt/conda/lib/python3.9/site-packages/sklearn/utils/validation.py\", line 259, in check_consistent_length\n",
      "    lengths = [_num_samples(X) for X in arrays if X is not None]\n",
      "  File \"/opt/conda/lib/python3.9/site-packages/sklearn/utils/validation.py\", line 259, in <listcomp>\n",
      "    lengths = [_num_samples(X) for X in arrays if X is not None]\n",
      "  File \"/opt/conda/lib/python3.9/site-packages/sklearn/utils/validation.py\", line 192, in _num_samples\n",
      "    raise TypeError(message)\n",
      "TypeError: Expected sequence or array-like, got <class 'sklearn.ensemble._forest.RandomForestRegressor'>\n",
      "\n",
      "  warnings.warn(\n"
     ]
    },
    {
     "name": "stdout",
     "output_type": "stream",
     "text": [
      "[CV 2/5] END bootstrap=True, max_depth=28, max_features=5, min_samples_leaf=14, min_samples_split=8, n_estimators=45; total time=   4.1s\n"
     ]
    },
    {
     "name": "stderr",
     "output_type": "stream",
     "text": [
      "/opt/conda/lib/python3.9/site-packages/sklearn/utils/validation.py:70: FutureWarning: Pass sample_weight=65693      1300\n",
      "67989       750\n",
      "280660    10000\n",
      "80596      1990\n",
      "204641     3000\n",
      "          ...  \n",
      "289534     2650\n",
      "201789      600\n",
      "101676      590\n",
      "133923     3100\n",
      "149376    11500\n",
      "Name: Price, Length: 48297, dtype: int64 as keyword args. From version 1.0 (renaming of 0.25) passing these as positional arguments will result in an error\n",
      "  warnings.warn(f\"Pass {args_msg} as keyword args. From version \"\n",
      "/opt/conda/lib/python3.9/site-packages/sklearn/model_selection/_validation.py:683: UserWarning: Scoring failed. The score on this train-test partition for these parameters will be set to nan. Details: \n",
      "Traceback (most recent call last):\n",
      "  File \"/opt/conda/lib/python3.9/site-packages/sklearn/model_selection/_validation.py\", line 674, in _score\n",
      "    scores = scorer(estimator, X_test, y_test)\n",
      "  File \"/opt/conda/lib/python3.9/site-packages/sklearn/utils/validation.py\", line 74, in inner_f\n",
      "    return f(**kwargs)\n",
      "  File \"/opt/conda/lib/python3.9/site-packages/sklearn/metrics/_regression.py\", line 335, in mean_squared_error\n",
      "    y_type, y_true, y_pred, multioutput = _check_reg_targets(\n",
      "  File \"/opt/conda/lib/python3.9/site-packages/sklearn/metrics/_regression.py\", line 88, in _check_reg_targets\n",
      "    check_consistent_length(y_true, y_pred)\n",
      "  File \"/opt/conda/lib/python3.9/site-packages/sklearn/utils/validation.py\", line 259, in check_consistent_length\n",
      "    lengths = [_num_samples(X) for X in arrays if X is not None]\n",
      "  File \"/opt/conda/lib/python3.9/site-packages/sklearn/utils/validation.py\", line 259, in <listcomp>\n",
      "    lengths = [_num_samples(X) for X in arrays if X is not None]\n",
      "  File \"/opt/conda/lib/python3.9/site-packages/sklearn/utils/validation.py\", line 192, in _num_samples\n",
      "    raise TypeError(message)\n",
      "TypeError: Expected sequence or array-like, got <class 'sklearn.ensemble._forest.RandomForestRegressor'>\n",
      "\n",
      "  warnings.warn(\n"
     ]
    },
    {
     "name": "stdout",
     "output_type": "stream",
     "text": [
      "[CV 3/5] END bootstrap=True, max_depth=28, max_features=5, min_samples_leaf=14, min_samples_split=8, n_estimators=45; total time=   4.2s\n"
     ]
    },
    {
     "name": "stderr",
     "output_type": "stream",
     "text": [
      "/opt/conda/lib/python3.9/site-packages/sklearn/utils/validation.py:70: FutureWarning: Pass sample_weight=45108       950\n",
      "42012      2500\n",
      "234180      800\n",
      "159635      850\n",
      "280569     1500\n",
      "          ...  \n",
      "42942      1400\n",
      "178034      880\n",
      "247205      449\n",
      "301181    13900\n",
      "113356     5500\n",
      "Name: Price, Length: 48296, dtype: int64 as keyword args. From version 1.0 (renaming of 0.25) passing these as positional arguments will result in an error\n",
      "  warnings.warn(f\"Pass {args_msg} as keyword args. From version \"\n",
      "/opt/conda/lib/python3.9/site-packages/sklearn/model_selection/_validation.py:683: UserWarning: Scoring failed. The score on this train-test partition for these parameters will be set to nan. Details: \n",
      "Traceback (most recent call last):\n",
      "  File \"/opt/conda/lib/python3.9/site-packages/sklearn/model_selection/_validation.py\", line 674, in _score\n",
      "    scores = scorer(estimator, X_test, y_test)\n",
      "  File \"/opt/conda/lib/python3.9/site-packages/sklearn/utils/validation.py\", line 74, in inner_f\n",
      "    return f(**kwargs)\n",
      "  File \"/opt/conda/lib/python3.9/site-packages/sklearn/metrics/_regression.py\", line 335, in mean_squared_error\n",
      "    y_type, y_true, y_pred, multioutput = _check_reg_targets(\n",
      "  File \"/opt/conda/lib/python3.9/site-packages/sklearn/metrics/_regression.py\", line 88, in _check_reg_targets\n",
      "    check_consistent_length(y_true, y_pred)\n",
      "  File \"/opt/conda/lib/python3.9/site-packages/sklearn/utils/validation.py\", line 259, in check_consistent_length\n",
      "    lengths = [_num_samples(X) for X in arrays if X is not None]\n",
      "  File \"/opt/conda/lib/python3.9/site-packages/sklearn/utils/validation.py\", line 259, in <listcomp>\n",
      "    lengths = [_num_samples(X) for X in arrays if X is not None]\n",
      "  File \"/opt/conda/lib/python3.9/site-packages/sklearn/utils/validation.py\", line 192, in _num_samples\n",
      "    raise TypeError(message)\n",
      "TypeError: Expected sequence or array-like, got <class 'sklearn.ensemble._forest.RandomForestRegressor'>\n",
      "\n",
      "  warnings.warn(\n"
     ]
    },
    {
     "name": "stdout",
     "output_type": "stream",
     "text": [
      "[CV 4/5] END bootstrap=True, max_depth=28, max_features=5, min_samples_leaf=14, min_samples_split=8, n_estimators=45; total time=   4.2s\n"
     ]
    },
    {
     "name": "stderr",
     "output_type": "stream",
     "text": [
      "/opt/conda/lib/python3.9/site-packages/sklearn/utils/validation.py:70: FutureWarning: Pass sample_weight=102680    19950\n",
      "39437      4900\n",
      "318435      800\n",
      "225179     4500\n",
      "132722     4999\n",
      "          ...  \n",
      "174842     1600\n",
      "52753      1500\n",
      "95001      3500\n",
      "84958      2300\n",
      "239552     4700\n",
      "Name: Price, Length: 48296, dtype: int64 as keyword args. From version 1.0 (renaming of 0.25) passing these as positional arguments will result in an error\n",
      "  warnings.warn(f\"Pass {args_msg} as keyword args. From version \"\n",
      "/opt/conda/lib/python3.9/site-packages/sklearn/model_selection/_validation.py:683: UserWarning: Scoring failed. The score on this train-test partition for these parameters will be set to nan. Details: \n",
      "Traceback (most recent call last):\n",
      "  File \"/opt/conda/lib/python3.9/site-packages/sklearn/model_selection/_validation.py\", line 674, in _score\n",
      "    scores = scorer(estimator, X_test, y_test)\n",
      "  File \"/opt/conda/lib/python3.9/site-packages/sklearn/utils/validation.py\", line 74, in inner_f\n",
      "    return f(**kwargs)\n",
      "  File \"/opt/conda/lib/python3.9/site-packages/sklearn/metrics/_regression.py\", line 335, in mean_squared_error\n",
      "    y_type, y_true, y_pred, multioutput = _check_reg_targets(\n",
      "  File \"/opt/conda/lib/python3.9/site-packages/sklearn/metrics/_regression.py\", line 88, in _check_reg_targets\n",
      "    check_consistent_length(y_true, y_pred)\n",
      "  File \"/opt/conda/lib/python3.9/site-packages/sklearn/utils/validation.py\", line 259, in check_consistent_length\n",
      "    lengths = [_num_samples(X) for X in arrays if X is not None]\n",
      "  File \"/opt/conda/lib/python3.9/site-packages/sklearn/utils/validation.py\", line 259, in <listcomp>\n",
      "    lengths = [_num_samples(X) for X in arrays if X is not None]\n",
      "  File \"/opt/conda/lib/python3.9/site-packages/sklearn/utils/validation.py\", line 192, in _num_samples\n",
      "    raise TypeError(message)\n",
      "TypeError: Expected sequence or array-like, got <class 'sklearn.ensemble._forest.RandomForestRegressor'>\n",
      "\n",
      "  warnings.warn(\n"
     ]
    },
    {
     "name": "stdout",
     "output_type": "stream",
     "text": [
      "[CV 5/5] END bootstrap=True, max_depth=28, max_features=5, min_samples_leaf=14, min_samples_split=8, n_estimators=45; total time=   4.1s\n"
     ]
    },
    {
     "name": "stderr",
     "output_type": "stream",
     "text": [
      "/opt/conda/lib/python3.9/site-packages/sklearn/utils/validation.py:70: FutureWarning: Pass sample_weight=135637     3999\n",
      "21779      6200\n",
      "26030      2800\n",
      "252988     4444\n",
      "197203     1500\n",
      "          ...  \n",
      "79999     12000\n",
      "189360     1000\n",
      "187199     1850\n",
      "183012      200\n",
      "311505      600\n",
      "Name: Price, Length: 48297, dtype: int64 as keyword args. From version 1.0 (renaming of 0.25) passing these as positional arguments will result in an error\n",
      "  warnings.warn(f\"Pass {args_msg} as keyword args. From version \"\n",
      "/opt/conda/lib/python3.9/site-packages/sklearn/model_selection/_validation.py:683: UserWarning: Scoring failed. The score on this train-test partition for these parameters will be set to nan. Details: \n",
      "Traceback (most recent call last):\n",
      "  File \"/opt/conda/lib/python3.9/site-packages/sklearn/model_selection/_validation.py\", line 674, in _score\n",
      "    scores = scorer(estimator, X_test, y_test)\n",
      "  File \"/opt/conda/lib/python3.9/site-packages/sklearn/utils/validation.py\", line 74, in inner_f\n",
      "    return f(**kwargs)\n",
      "  File \"/opt/conda/lib/python3.9/site-packages/sklearn/metrics/_regression.py\", line 335, in mean_squared_error\n",
      "    y_type, y_true, y_pred, multioutput = _check_reg_targets(\n",
      "  File \"/opt/conda/lib/python3.9/site-packages/sklearn/metrics/_regression.py\", line 88, in _check_reg_targets\n",
      "    check_consistent_length(y_true, y_pred)\n",
      "  File \"/opt/conda/lib/python3.9/site-packages/sklearn/utils/validation.py\", line 259, in check_consistent_length\n",
      "    lengths = [_num_samples(X) for X in arrays if X is not None]\n",
      "  File \"/opt/conda/lib/python3.9/site-packages/sklearn/utils/validation.py\", line 259, in <listcomp>\n",
      "    lengths = [_num_samples(X) for X in arrays if X is not None]\n",
      "  File \"/opt/conda/lib/python3.9/site-packages/sklearn/utils/validation.py\", line 192, in _num_samples\n",
      "    raise TypeError(message)\n",
      "TypeError: Expected sequence or array-like, got <class 'sklearn.ensemble._forest.RandomForestRegressor'>\n",
      "\n",
      "  warnings.warn(\n"
     ]
    },
    {
     "name": "stdout",
     "output_type": "stream",
     "text": [
      "[CV 1/5] END bootstrap=True, max_depth=36, max_features=4, min_samples_leaf=10, min_samples_split=12, n_estimators=27; total time=   2.2s\n"
     ]
    },
    {
     "name": "stderr",
     "output_type": "stream",
     "text": [
      "/opt/conda/lib/python3.9/site-packages/sklearn/utils/validation.py:70: FutureWarning: Pass sample_weight=323115     2450\n",
      "281835     2800\n",
      "13700      3250\n",
      "134143     6400\n",
      "161494     2399\n",
      "          ...  \n",
      "338743     4000\n",
      "119708     9500\n",
      "173502     6000\n",
      "17459     18800\n",
      "114799     1600\n",
      "Name: Price, Length: 48297, dtype: int64 as keyword args. From version 1.0 (renaming of 0.25) passing these as positional arguments will result in an error\n",
      "  warnings.warn(f\"Pass {args_msg} as keyword args. From version \"\n",
      "/opt/conda/lib/python3.9/site-packages/sklearn/model_selection/_validation.py:683: UserWarning: Scoring failed. The score on this train-test partition for these parameters will be set to nan. Details: \n",
      "Traceback (most recent call last):\n",
      "  File \"/opt/conda/lib/python3.9/site-packages/sklearn/model_selection/_validation.py\", line 674, in _score\n",
      "    scores = scorer(estimator, X_test, y_test)\n",
      "  File \"/opt/conda/lib/python3.9/site-packages/sklearn/utils/validation.py\", line 74, in inner_f\n",
      "    return f(**kwargs)\n",
      "  File \"/opt/conda/lib/python3.9/site-packages/sklearn/metrics/_regression.py\", line 335, in mean_squared_error\n",
      "    y_type, y_true, y_pred, multioutput = _check_reg_targets(\n",
      "  File \"/opt/conda/lib/python3.9/site-packages/sklearn/metrics/_regression.py\", line 88, in _check_reg_targets\n",
      "    check_consistent_length(y_true, y_pred)\n",
      "  File \"/opt/conda/lib/python3.9/site-packages/sklearn/utils/validation.py\", line 259, in check_consistent_length\n",
      "    lengths = [_num_samples(X) for X in arrays if X is not None]\n",
      "  File \"/opt/conda/lib/python3.9/site-packages/sklearn/utils/validation.py\", line 259, in <listcomp>\n",
      "    lengths = [_num_samples(X) for X in arrays if X is not None]\n",
      "  File \"/opt/conda/lib/python3.9/site-packages/sklearn/utils/validation.py\", line 192, in _num_samples\n",
      "    raise TypeError(message)\n",
      "TypeError: Expected sequence or array-like, got <class 'sklearn.ensemble._forest.RandomForestRegressor'>\n",
      "\n",
      "  warnings.warn(\n"
     ]
    },
    {
     "name": "stdout",
     "output_type": "stream",
     "text": [
      "[CV 2/5] END bootstrap=True, max_depth=36, max_features=4, min_samples_leaf=10, min_samples_split=12, n_estimators=27; total time=   2.2s\n"
     ]
    },
    {
     "name": "stderr",
     "output_type": "stream",
     "text": [
      "/opt/conda/lib/python3.9/site-packages/sklearn/utils/validation.py:70: FutureWarning: Pass sample_weight=65693      1300\n",
      "67989       750\n",
      "280660    10000\n",
      "80596      1990\n",
      "204641     3000\n",
      "          ...  \n",
      "289534     2650\n",
      "201789      600\n",
      "101676      590\n",
      "133923     3100\n",
      "149376    11500\n",
      "Name: Price, Length: 48297, dtype: int64 as keyword args. From version 1.0 (renaming of 0.25) passing these as positional arguments will result in an error\n",
      "  warnings.warn(f\"Pass {args_msg} as keyword args. From version \"\n",
      "/opt/conda/lib/python3.9/site-packages/sklearn/model_selection/_validation.py:683: UserWarning: Scoring failed. The score on this train-test partition for these parameters will be set to nan. Details: \n",
      "Traceback (most recent call last):\n",
      "  File \"/opt/conda/lib/python3.9/site-packages/sklearn/model_selection/_validation.py\", line 674, in _score\n",
      "    scores = scorer(estimator, X_test, y_test)\n",
      "  File \"/opt/conda/lib/python3.9/site-packages/sklearn/utils/validation.py\", line 74, in inner_f\n",
      "    return f(**kwargs)\n",
      "  File \"/opt/conda/lib/python3.9/site-packages/sklearn/metrics/_regression.py\", line 335, in mean_squared_error\n",
      "    y_type, y_true, y_pred, multioutput = _check_reg_targets(\n",
      "  File \"/opt/conda/lib/python3.9/site-packages/sklearn/metrics/_regression.py\", line 88, in _check_reg_targets\n",
      "    check_consistent_length(y_true, y_pred)\n",
      "  File \"/opt/conda/lib/python3.9/site-packages/sklearn/utils/validation.py\", line 259, in check_consistent_length\n",
      "    lengths = [_num_samples(X) for X in arrays if X is not None]\n",
      "  File \"/opt/conda/lib/python3.9/site-packages/sklearn/utils/validation.py\", line 259, in <listcomp>\n",
      "    lengths = [_num_samples(X) for X in arrays if X is not None]\n",
      "  File \"/opt/conda/lib/python3.9/site-packages/sklearn/utils/validation.py\", line 192, in _num_samples\n",
      "    raise TypeError(message)\n",
      "TypeError: Expected sequence or array-like, got <class 'sklearn.ensemble._forest.RandomForestRegressor'>\n",
      "\n",
      "  warnings.warn(\n"
     ]
    },
    {
     "name": "stdout",
     "output_type": "stream",
     "text": [
      "[CV 3/5] END bootstrap=True, max_depth=36, max_features=4, min_samples_leaf=10, min_samples_split=12, n_estimators=27; total time=   2.3s\n"
     ]
    },
    {
     "name": "stderr",
     "output_type": "stream",
     "text": [
      "/opt/conda/lib/python3.9/site-packages/sklearn/utils/validation.py:70: FutureWarning: Pass sample_weight=45108       950\n",
      "42012      2500\n",
      "234180      800\n",
      "159635      850\n",
      "280569     1500\n",
      "          ...  \n",
      "42942      1400\n",
      "178034      880\n",
      "247205      449\n",
      "301181    13900\n",
      "113356     5500\n",
      "Name: Price, Length: 48296, dtype: int64 as keyword args. From version 1.0 (renaming of 0.25) passing these as positional arguments will result in an error\n",
      "  warnings.warn(f\"Pass {args_msg} as keyword args. From version \"\n",
      "/opt/conda/lib/python3.9/site-packages/sklearn/model_selection/_validation.py:683: UserWarning: Scoring failed. The score on this train-test partition for these parameters will be set to nan. Details: \n",
      "Traceback (most recent call last):\n",
      "  File \"/opt/conda/lib/python3.9/site-packages/sklearn/model_selection/_validation.py\", line 674, in _score\n",
      "    scores = scorer(estimator, X_test, y_test)\n",
      "  File \"/opt/conda/lib/python3.9/site-packages/sklearn/utils/validation.py\", line 74, in inner_f\n",
      "    return f(**kwargs)\n",
      "  File \"/opt/conda/lib/python3.9/site-packages/sklearn/metrics/_regression.py\", line 335, in mean_squared_error\n",
      "    y_type, y_true, y_pred, multioutput = _check_reg_targets(\n",
      "  File \"/opt/conda/lib/python3.9/site-packages/sklearn/metrics/_regression.py\", line 88, in _check_reg_targets\n",
      "    check_consistent_length(y_true, y_pred)\n",
      "  File \"/opt/conda/lib/python3.9/site-packages/sklearn/utils/validation.py\", line 259, in check_consistent_length\n",
      "    lengths = [_num_samples(X) for X in arrays if X is not None]\n",
      "  File \"/opt/conda/lib/python3.9/site-packages/sklearn/utils/validation.py\", line 259, in <listcomp>\n",
      "    lengths = [_num_samples(X) for X in arrays if X is not None]\n",
      "  File \"/opt/conda/lib/python3.9/site-packages/sklearn/utils/validation.py\", line 192, in _num_samples\n",
      "    raise TypeError(message)\n",
      "TypeError: Expected sequence or array-like, got <class 'sklearn.ensemble._forest.RandomForestRegressor'>\n",
      "\n",
      "  warnings.warn(\n"
     ]
    },
    {
     "name": "stdout",
     "output_type": "stream",
     "text": [
      "[CV 4/5] END bootstrap=True, max_depth=36, max_features=4, min_samples_leaf=10, min_samples_split=12, n_estimators=27; total time=   2.2s\n"
     ]
    },
    {
     "name": "stderr",
     "output_type": "stream",
     "text": [
      "/opt/conda/lib/python3.9/site-packages/sklearn/utils/validation.py:70: FutureWarning: Pass sample_weight=102680    19950\n",
      "39437      4900\n",
      "318435      800\n",
      "225179     4500\n",
      "132722     4999\n",
      "          ...  \n",
      "174842     1600\n",
      "52753      1500\n",
      "95001      3500\n",
      "84958      2300\n",
      "239552     4700\n",
      "Name: Price, Length: 48296, dtype: int64 as keyword args. From version 1.0 (renaming of 0.25) passing these as positional arguments will result in an error\n",
      "  warnings.warn(f\"Pass {args_msg} as keyword args. From version \"\n",
      "/opt/conda/lib/python3.9/site-packages/sklearn/model_selection/_validation.py:683: UserWarning: Scoring failed. The score on this train-test partition for these parameters will be set to nan. Details: \n",
      "Traceback (most recent call last):\n",
      "  File \"/opt/conda/lib/python3.9/site-packages/sklearn/model_selection/_validation.py\", line 674, in _score\n",
      "    scores = scorer(estimator, X_test, y_test)\n",
      "  File \"/opt/conda/lib/python3.9/site-packages/sklearn/utils/validation.py\", line 74, in inner_f\n",
      "    return f(**kwargs)\n",
      "  File \"/opt/conda/lib/python3.9/site-packages/sklearn/metrics/_regression.py\", line 335, in mean_squared_error\n",
      "    y_type, y_true, y_pred, multioutput = _check_reg_targets(\n",
      "  File \"/opt/conda/lib/python3.9/site-packages/sklearn/metrics/_regression.py\", line 88, in _check_reg_targets\n",
      "    check_consistent_length(y_true, y_pred)\n",
      "  File \"/opt/conda/lib/python3.9/site-packages/sklearn/utils/validation.py\", line 259, in check_consistent_length\n",
      "    lengths = [_num_samples(X) for X in arrays if X is not None]\n",
      "  File \"/opt/conda/lib/python3.9/site-packages/sklearn/utils/validation.py\", line 259, in <listcomp>\n",
      "    lengths = [_num_samples(X) for X in arrays if X is not None]\n",
      "  File \"/opt/conda/lib/python3.9/site-packages/sklearn/utils/validation.py\", line 192, in _num_samples\n",
      "    raise TypeError(message)\n",
      "TypeError: Expected sequence or array-like, got <class 'sklearn.ensemble._forest.RandomForestRegressor'>\n",
      "\n",
      "  warnings.warn(\n"
     ]
    },
    {
     "name": "stdout",
     "output_type": "stream",
     "text": [
      "[CV 5/5] END bootstrap=True, max_depth=36, max_features=4, min_samples_leaf=10, min_samples_split=12, n_estimators=27; total time=   2.1s\n"
     ]
    },
    {
     "name": "stderr",
     "output_type": "stream",
     "text": [
      "/opt/conda/lib/python3.9/site-packages/sklearn/utils/validation.py:70: FutureWarning: Pass sample_weight=135637     3999\n",
      "21779      6200\n",
      "26030      2800\n",
      "252988     4444\n",
      "197203     1500\n",
      "          ...  \n",
      "79999     12000\n",
      "189360     1000\n",
      "187199     1850\n",
      "183012      200\n",
      "311505      600\n",
      "Name: Price, Length: 48297, dtype: int64 as keyword args. From version 1.0 (renaming of 0.25) passing these as positional arguments will result in an error\n",
      "  warnings.warn(f\"Pass {args_msg} as keyword args. From version \"\n",
      "/opt/conda/lib/python3.9/site-packages/sklearn/model_selection/_validation.py:683: UserWarning: Scoring failed. The score on this train-test partition for these parameters will be set to nan. Details: \n",
      "Traceback (most recent call last):\n",
      "  File \"/opt/conda/lib/python3.9/site-packages/sklearn/model_selection/_validation.py\", line 674, in _score\n",
      "    scores = scorer(estimator, X_test, y_test)\n",
      "  File \"/opt/conda/lib/python3.9/site-packages/sklearn/utils/validation.py\", line 74, in inner_f\n",
      "    return f(**kwargs)\n",
      "  File \"/opt/conda/lib/python3.9/site-packages/sklearn/metrics/_regression.py\", line 335, in mean_squared_error\n",
      "    y_type, y_true, y_pred, multioutput = _check_reg_targets(\n",
      "  File \"/opt/conda/lib/python3.9/site-packages/sklearn/metrics/_regression.py\", line 88, in _check_reg_targets\n",
      "    check_consistent_length(y_true, y_pred)\n",
      "  File \"/opt/conda/lib/python3.9/site-packages/sklearn/utils/validation.py\", line 259, in check_consistent_length\n",
      "    lengths = [_num_samples(X) for X in arrays if X is not None]\n",
      "  File \"/opt/conda/lib/python3.9/site-packages/sklearn/utils/validation.py\", line 259, in <listcomp>\n",
      "    lengths = [_num_samples(X) for X in arrays if X is not None]\n",
      "  File \"/opt/conda/lib/python3.9/site-packages/sklearn/utils/validation.py\", line 192, in _num_samples\n",
      "    raise TypeError(message)\n",
      "TypeError: Expected sequence or array-like, got <class 'sklearn.ensemble._forest.RandomForestRegressor'>\n",
      "\n",
      "  warnings.warn(\n"
     ]
    },
    {
     "name": "stdout",
     "output_type": "stream",
     "text": [
      "[CV 1/5] END bootstrap=False, max_depth=29, max_features=2, min_samples_leaf=8, min_samples_split=12, n_estimators=18; total time=   1.3s\n"
     ]
    },
    {
     "name": "stderr",
     "output_type": "stream",
     "text": [
      "/opt/conda/lib/python3.9/site-packages/sklearn/utils/validation.py:70: FutureWarning: Pass sample_weight=323115     2450\n",
      "281835     2800\n",
      "13700      3250\n",
      "134143     6400\n",
      "161494     2399\n",
      "          ...  \n",
      "338743     4000\n",
      "119708     9500\n",
      "173502     6000\n",
      "17459     18800\n",
      "114799     1600\n",
      "Name: Price, Length: 48297, dtype: int64 as keyword args. From version 1.0 (renaming of 0.25) passing these as positional arguments will result in an error\n",
      "  warnings.warn(f\"Pass {args_msg} as keyword args. From version \"\n",
      "/opt/conda/lib/python3.9/site-packages/sklearn/model_selection/_validation.py:683: UserWarning: Scoring failed. The score on this train-test partition for these parameters will be set to nan. Details: \n",
      "Traceback (most recent call last):\n",
      "  File \"/opt/conda/lib/python3.9/site-packages/sklearn/model_selection/_validation.py\", line 674, in _score\n",
      "    scores = scorer(estimator, X_test, y_test)\n",
      "  File \"/opt/conda/lib/python3.9/site-packages/sklearn/utils/validation.py\", line 74, in inner_f\n",
      "    return f(**kwargs)\n",
      "  File \"/opt/conda/lib/python3.9/site-packages/sklearn/metrics/_regression.py\", line 335, in mean_squared_error\n",
      "    y_type, y_true, y_pred, multioutput = _check_reg_targets(\n",
      "  File \"/opt/conda/lib/python3.9/site-packages/sklearn/metrics/_regression.py\", line 88, in _check_reg_targets\n",
      "    check_consistent_length(y_true, y_pred)\n",
      "  File \"/opt/conda/lib/python3.9/site-packages/sklearn/utils/validation.py\", line 259, in check_consistent_length\n",
      "    lengths = [_num_samples(X) for X in arrays if X is not None]\n",
      "  File \"/opt/conda/lib/python3.9/site-packages/sklearn/utils/validation.py\", line 259, in <listcomp>\n",
      "    lengths = [_num_samples(X) for X in arrays if X is not None]\n",
      "  File \"/opt/conda/lib/python3.9/site-packages/sklearn/utils/validation.py\", line 192, in _num_samples\n",
      "    raise TypeError(message)\n",
      "TypeError: Expected sequence or array-like, got <class 'sklearn.ensemble._forest.RandomForestRegressor'>\n",
      "\n",
      "  warnings.warn(\n"
     ]
    },
    {
     "name": "stdout",
     "output_type": "stream",
     "text": [
      "[CV 2/5] END bootstrap=False, max_depth=29, max_features=2, min_samples_leaf=8, min_samples_split=12, n_estimators=18; total time=   1.3s\n"
     ]
    },
    {
     "name": "stderr",
     "output_type": "stream",
     "text": [
      "/opt/conda/lib/python3.9/site-packages/sklearn/utils/validation.py:70: FutureWarning: Pass sample_weight=65693      1300\n",
      "67989       750\n",
      "280660    10000\n",
      "80596      1990\n",
      "204641     3000\n",
      "          ...  \n",
      "289534     2650\n",
      "201789      600\n",
      "101676      590\n",
      "133923     3100\n",
      "149376    11500\n",
      "Name: Price, Length: 48297, dtype: int64 as keyword args. From version 1.0 (renaming of 0.25) passing these as positional arguments will result in an error\n",
      "  warnings.warn(f\"Pass {args_msg} as keyword args. From version \"\n",
      "/opt/conda/lib/python3.9/site-packages/sklearn/model_selection/_validation.py:683: UserWarning: Scoring failed. The score on this train-test partition for these parameters will be set to nan. Details: \n",
      "Traceback (most recent call last):\n",
      "  File \"/opt/conda/lib/python3.9/site-packages/sklearn/model_selection/_validation.py\", line 674, in _score\n",
      "    scores = scorer(estimator, X_test, y_test)\n",
      "  File \"/opt/conda/lib/python3.9/site-packages/sklearn/utils/validation.py\", line 74, in inner_f\n",
      "    return f(**kwargs)\n",
      "  File \"/opt/conda/lib/python3.9/site-packages/sklearn/metrics/_regression.py\", line 335, in mean_squared_error\n",
      "    y_type, y_true, y_pred, multioutput = _check_reg_targets(\n",
      "  File \"/opt/conda/lib/python3.9/site-packages/sklearn/metrics/_regression.py\", line 88, in _check_reg_targets\n",
      "    check_consistent_length(y_true, y_pred)\n",
      "  File \"/opt/conda/lib/python3.9/site-packages/sklearn/utils/validation.py\", line 259, in check_consistent_length\n",
      "    lengths = [_num_samples(X) for X in arrays if X is not None]\n",
      "  File \"/opt/conda/lib/python3.9/site-packages/sklearn/utils/validation.py\", line 259, in <listcomp>\n",
      "    lengths = [_num_samples(X) for X in arrays if X is not None]\n",
      "  File \"/opt/conda/lib/python3.9/site-packages/sklearn/utils/validation.py\", line 192, in _num_samples\n",
      "    raise TypeError(message)\n",
      "TypeError: Expected sequence or array-like, got <class 'sklearn.ensemble._forest.RandomForestRegressor'>\n",
      "\n",
      "  warnings.warn(\n"
     ]
    },
    {
     "name": "stdout",
     "output_type": "stream",
     "text": [
      "[CV 3/5] END bootstrap=False, max_depth=29, max_features=2, min_samples_leaf=8, min_samples_split=12, n_estimators=18; total time=   1.3s\n"
     ]
    },
    {
     "name": "stderr",
     "output_type": "stream",
     "text": [
      "/opt/conda/lib/python3.9/site-packages/sklearn/utils/validation.py:70: FutureWarning: Pass sample_weight=45108       950\n",
      "42012      2500\n",
      "234180      800\n",
      "159635      850\n",
      "280569     1500\n",
      "          ...  \n",
      "42942      1400\n",
      "178034      880\n",
      "247205      449\n",
      "301181    13900\n",
      "113356     5500\n",
      "Name: Price, Length: 48296, dtype: int64 as keyword args. From version 1.0 (renaming of 0.25) passing these as positional arguments will result in an error\n",
      "  warnings.warn(f\"Pass {args_msg} as keyword args. From version \"\n",
      "/opt/conda/lib/python3.9/site-packages/sklearn/model_selection/_validation.py:683: UserWarning: Scoring failed. The score on this train-test partition for these parameters will be set to nan. Details: \n",
      "Traceback (most recent call last):\n",
      "  File \"/opt/conda/lib/python3.9/site-packages/sklearn/model_selection/_validation.py\", line 674, in _score\n",
      "    scores = scorer(estimator, X_test, y_test)\n",
      "  File \"/opt/conda/lib/python3.9/site-packages/sklearn/utils/validation.py\", line 74, in inner_f\n",
      "    return f(**kwargs)\n",
      "  File \"/opt/conda/lib/python3.9/site-packages/sklearn/metrics/_regression.py\", line 335, in mean_squared_error\n",
      "    y_type, y_true, y_pred, multioutput = _check_reg_targets(\n",
      "  File \"/opt/conda/lib/python3.9/site-packages/sklearn/metrics/_regression.py\", line 88, in _check_reg_targets\n",
      "    check_consistent_length(y_true, y_pred)\n",
      "  File \"/opt/conda/lib/python3.9/site-packages/sklearn/utils/validation.py\", line 259, in check_consistent_length\n",
      "    lengths = [_num_samples(X) for X in arrays if X is not None]\n",
      "  File \"/opt/conda/lib/python3.9/site-packages/sklearn/utils/validation.py\", line 259, in <listcomp>\n",
      "    lengths = [_num_samples(X) for X in arrays if X is not None]\n",
      "  File \"/opt/conda/lib/python3.9/site-packages/sklearn/utils/validation.py\", line 192, in _num_samples\n",
      "    raise TypeError(message)\n",
      "TypeError: Expected sequence or array-like, got <class 'sklearn.ensemble._forest.RandomForestRegressor'>\n",
      "\n",
      "  warnings.warn(\n"
     ]
    },
    {
     "name": "stdout",
     "output_type": "stream",
     "text": [
      "[CV 4/5] END bootstrap=False, max_depth=29, max_features=2, min_samples_leaf=8, min_samples_split=12, n_estimators=18; total time=   1.4s\n"
     ]
    },
    {
     "name": "stderr",
     "output_type": "stream",
     "text": [
      "/opt/conda/lib/python3.9/site-packages/sklearn/utils/validation.py:70: FutureWarning: Pass sample_weight=102680    19950\n",
      "39437      4900\n",
      "318435      800\n",
      "225179     4500\n",
      "132722     4999\n",
      "          ...  \n",
      "174842     1600\n",
      "52753      1500\n",
      "95001      3500\n",
      "84958      2300\n",
      "239552     4700\n",
      "Name: Price, Length: 48296, dtype: int64 as keyword args. From version 1.0 (renaming of 0.25) passing these as positional arguments will result in an error\n",
      "  warnings.warn(f\"Pass {args_msg} as keyword args. From version \"\n",
      "/opt/conda/lib/python3.9/site-packages/sklearn/model_selection/_validation.py:683: UserWarning: Scoring failed. The score on this train-test partition for these parameters will be set to nan. Details: \n",
      "Traceback (most recent call last):\n",
      "  File \"/opt/conda/lib/python3.9/site-packages/sklearn/model_selection/_validation.py\", line 674, in _score\n",
      "    scores = scorer(estimator, X_test, y_test)\n",
      "  File \"/opt/conda/lib/python3.9/site-packages/sklearn/utils/validation.py\", line 74, in inner_f\n",
      "    return f(**kwargs)\n",
      "  File \"/opt/conda/lib/python3.9/site-packages/sklearn/metrics/_regression.py\", line 335, in mean_squared_error\n",
      "    y_type, y_true, y_pred, multioutput = _check_reg_targets(\n",
      "  File \"/opt/conda/lib/python3.9/site-packages/sklearn/metrics/_regression.py\", line 88, in _check_reg_targets\n",
      "    check_consistent_length(y_true, y_pred)\n",
      "  File \"/opt/conda/lib/python3.9/site-packages/sklearn/utils/validation.py\", line 259, in check_consistent_length\n",
      "    lengths = [_num_samples(X) for X in arrays if X is not None]\n",
      "  File \"/opt/conda/lib/python3.9/site-packages/sklearn/utils/validation.py\", line 259, in <listcomp>\n",
      "    lengths = [_num_samples(X) for X in arrays if X is not None]\n",
      "  File \"/opt/conda/lib/python3.9/site-packages/sklearn/utils/validation.py\", line 192, in _num_samples\n",
      "    raise TypeError(message)\n",
      "TypeError: Expected sequence or array-like, got <class 'sklearn.ensemble._forest.RandomForestRegressor'>\n",
      "\n",
      "  warnings.warn(\n",
      "/opt/conda/lib/python3.9/site-packages/sklearn/model_selection/_validation.py:610: FitFailedWarning: Estimator fit failed. The score on this train-test partition for these parameters will be set to nan. Details: \n",
      "Traceback (most recent call last):\n",
      "  File \"/opt/conda/lib/python3.9/site-packages/sklearn/model_selection/_validation.py\", line 593, in _fit_and_score\n",
      "    estimator.fit(X_train, y_train, **fit_params)\n",
      "  File \"/opt/conda/lib/python3.9/site-packages/sklearn/ensemble/_forest.py\", line 387, in fit\n",
      "    trees = Parallel(n_jobs=self.n_jobs, verbose=self.verbose,\n",
      "  File \"/opt/conda/lib/python3.9/site-packages/joblib/parallel.py\", line 1043, in __call__\n",
      "    if self.dispatch_one_batch(iterator):\n",
      "  File \"/opt/conda/lib/python3.9/site-packages/joblib/parallel.py\", line 861, in dispatch_one_batch\n",
      "    self._dispatch(tasks)\n",
      "  File \"/opt/conda/lib/python3.9/site-packages/joblib/parallel.py\", line 779, in _dispatch\n",
      "    job = self._backend.apply_async(batch, callback=cb)\n",
      "  File \"/opt/conda/lib/python3.9/site-packages/joblib/_parallel_backends.py\", line 208, in apply_async\n",
      "    result = ImmediateResult(func)\n",
      "  File \"/opt/conda/lib/python3.9/site-packages/joblib/_parallel_backends.py\", line 572, in __init__\n",
      "    self.results = batch()\n",
      "  File \"/opt/conda/lib/python3.9/site-packages/joblib/parallel.py\", line 262, in __call__\n",
      "    return [func(*args, **kwargs)\n",
      "  File \"/opt/conda/lib/python3.9/site-packages/joblib/parallel.py\", line 262, in <listcomp>\n",
      "    return [func(*args, **kwargs)\n",
      "  File \"/opt/conda/lib/python3.9/site-packages/sklearn/utils/fixes.py\", line 222, in __call__\n",
      "    return self.function(*args, **kwargs)\n",
      "  File \"/opt/conda/lib/python3.9/site-packages/sklearn/ensemble/_forest.py\", line 171, in _parallel_build_trees\n",
      "    tree.fit(X, y, sample_weight=sample_weight, check_input=False)\n",
      "  File \"/opt/conda/lib/python3.9/site-packages/sklearn/tree/_classes.py\", line 1247, in fit\n",
      "    super().fit(\n",
      "  File \"/opt/conda/lib/python3.9/site-packages/sklearn/tree/_classes.py\", line 288, in fit\n",
      "    raise ValueError(\"max_features must be in (0, n_features]\")\n",
      "ValueError: max_features must be in (0, n_features]\n",
      "\n",
      "  warnings.warn(\"Estimator fit failed. The score on this train-test\"\n",
      "/opt/conda/lib/python3.9/site-packages/sklearn/model_selection/_validation.py:610: FitFailedWarning: Estimator fit failed. The score on this train-test partition for these parameters will be set to nan. Details: \n",
      "Traceback (most recent call last):\n",
      "  File \"/opt/conda/lib/python3.9/site-packages/sklearn/model_selection/_validation.py\", line 593, in _fit_and_score\n",
      "    estimator.fit(X_train, y_train, **fit_params)\n",
      "  File \"/opt/conda/lib/python3.9/site-packages/sklearn/ensemble/_forest.py\", line 387, in fit\n",
      "    trees = Parallel(n_jobs=self.n_jobs, verbose=self.verbose,\n",
      "  File \"/opt/conda/lib/python3.9/site-packages/joblib/parallel.py\", line 1043, in __call__\n",
      "    if self.dispatch_one_batch(iterator):\n",
      "  File \"/opt/conda/lib/python3.9/site-packages/joblib/parallel.py\", line 861, in dispatch_one_batch\n",
      "    self._dispatch(tasks)\n",
      "  File \"/opt/conda/lib/python3.9/site-packages/joblib/parallel.py\", line 779, in _dispatch\n",
      "    job = self._backend.apply_async(batch, callback=cb)\n",
      "  File \"/opt/conda/lib/python3.9/site-packages/joblib/_parallel_backends.py\", line 208, in apply_async\n",
      "    result = ImmediateResult(func)\n",
      "  File \"/opt/conda/lib/python3.9/site-packages/joblib/_parallel_backends.py\", line 572, in __init__\n",
      "    self.results = batch()\n",
      "  File \"/opt/conda/lib/python3.9/site-packages/joblib/parallel.py\", line 262, in __call__\n",
      "    return [func(*args, **kwargs)\n",
      "  File \"/opt/conda/lib/python3.9/site-packages/joblib/parallel.py\", line 262, in <listcomp>\n",
      "    return [func(*args, **kwargs)\n",
      "  File \"/opt/conda/lib/python3.9/site-packages/sklearn/utils/fixes.py\", line 222, in __call__\n",
      "    return self.function(*args, **kwargs)\n",
      "  File \"/opt/conda/lib/python3.9/site-packages/sklearn/ensemble/_forest.py\", line 171, in _parallel_build_trees\n",
      "    tree.fit(X, y, sample_weight=sample_weight, check_input=False)\n",
      "  File \"/opt/conda/lib/python3.9/site-packages/sklearn/tree/_classes.py\", line 1247, in fit\n",
      "    super().fit(\n",
      "  File \"/opt/conda/lib/python3.9/site-packages/sklearn/tree/_classes.py\", line 288, in fit\n",
      "    raise ValueError(\"max_features must be in (0, n_features]\")\n",
      "ValueError: max_features must be in (0, n_features]\n",
      "\n",
      "  warnings.warn(\"Estimator fit failed. The score on this train-test\"\n",
      "/opt/conda/lib/python3.9/site-packages/sklearn/model_selection/_validation.py:610: FitFailedWarning: Estimator fit failed. The score on this train-test partition for these parameters will be set to nan. Details: \n",
      "Traceback (most recent call last):\n",
      "  File \"/opt/conda/lib/python3.9/site-packages/sklearn/model_selection/_validation.py\", line 593, in _fit_and_score\n",
      "    estimator.fit(X_train, y_train, **fit_params)\n",
      "  File \"/opt/conda/lib/python3.9/site-packages/sklearn/ensemble/_forest.py\", line 387, in fit\n",
      "    trees = Parallel(n_jobs=self.n_jobs, verbose=self.verbose,\n",
      "  File \"/opt/conda/lib/python3.9/site-packages/joblib/parallel.py\", line 1043, in __call__\n",
      "    if self.dispatch_one_batch(iterator):\n",
      "  File \"/opt/conda/lib/python3.9/site-packages/joblib/parallel.py\", line 861, in dispatch_one_batch\n",
      "    self._dispatch(tasks)\n",
      "  File \"/opt/conda/lib/python3.9/site-packages/joblib/parallel.py\", line 779, in _dispatch\n",
      "    job = self._backend.apply_async(batch, callback=cb)\n",
      "  File \"/opt/conda/lib/python3.9/site-packages/joblib/_parallel_backends.py\", line 208, in apply_async\n",
      "    result = ImmediateResult(func)\n",
      "  File \"/opt/conda/lib/python3.9/site-packages/joblib/_parallel_backends.py\", line 572, in __init__\n",
      "    self.results = batch()\n",
      "  File \"/opt/conda/lib/python3.9/site-packages/joblib/parallel.py\", line 262, in __call__\n",
      "    return [func(*args, **kwargs)\n",
      "  File \"/opt/conda/lib/python3.9/site-packages/joblib/parallel.py\", line 262, in <listcomp>\n",
      "    return [func(*args, **kwargs)\n",
      "  File \"/opt/conda/lib/python3.9/site-packages/sklearn/utils/fixes.py\", line 222, in __call__\n",
      "    return self.function(*args, **kwargs)\n",
      "  File \"/opt/conda/lib/python3.9/site-packages/sklearn/ensemble/_forest.py\", line 171, in _parallel_build_trees\n",
      "    tree.fit(X, y, sample_weight=sample_weight, check_input=False)\n",
      "  File \"/opt/conda/lib/python3.9/site-packages/sklearn/tree/_classes.py\", line 1247, in fit\n",
      "    super().fit(\n",
      "  File \"/opt/conda/lib/python3.9/site-packages/sklearn/tree/_classes.py\", line 288, in fit\n",
      "    raise ValueError(\"max_features must be in (0, n_features]\")\n",
      "ValueError: max_features must be in (0, n_features]\n",
      "\n",
      "  warnings.warn(\"Estimator fit failed. The score on this train-test\"\n",
      "/opt/conda/lib/python3.9/site-packages/sklearn/model_selection/_validation.py:610: FitFailedWarning: Estimator fit failed. The score on this train-test partition for these parameters will be set to nan. Details: \n",
      "Traceback (most recent call last):\n",
      "  File \"/opt/conda/lib/python3.9/site-packages/sklearn/model_selection/_validation.py\", line 593, in _fit_and_score\n",
      "    estimator.fit(X_train, y_train, **fit_params)\n",
      "  File \"/opt/conda/lib/python3.9/site-packages/sklearn/ensemble/_forest.py\", line 387, in fit\n",
      "    trees = Parallel(n_jobs=self.n_jobs, verbose=self.verbose,\n",
      "  File \"/opt/conda/lib/python3.9/site-packages/joblib/parallel.py\", line 1043, in __call__\n",
      "    if self.dispatch_one_batch(iterator):\n",
      "  File \"/opt/conda/lib/python3.9/site-packages/joblib/parallel.py\", line 861, in dispatch_one_batch\n",
      "    self._dispatch(tasks)\n",
      "  File \"/opt/conda/lib/python3.9/site-packages/joblib/parallel.py\", line 779, in _dispatch\n",
      "    job = self._backend.apply_async(batch, callback=cb)\n",
      "  File \"/opt/conda/lib/python3.9/site-packages/joblib/_parallel_backends.py\", line 208, in apply_async\n",
      "    result = ImmediateResult(func)\n",
      "  File \"/opt/conda/lib/python3.9/site-packages/joblib/_parallel_backends.py\", line 572, in __init__\n",
      "    self.results = batch()\n",
      "  File \"/opt/conda/lib/python3.9/site-packages/joblib/parallel.py\", line 262, in __call__\n",
      "    return [func(*args, **kwargs)\n",
      "  File \"/opt/conda/lib/python3.9/site-packages/joblib/parallel.py\", line 262, in <listcomp>\n",
      "    return [func(*args, **kwargs)\n",
      "  File \"/opt/conda/lib/python3.9/site-packages/sklearn/utils/fixes.py\", line 222, in __call__\n",
      "    return self.function(*args, **kwargs)\n",
      "  File \"/opt/conda/lib/python3.9/site-packages/sklearn/ensemble/_forest.py\", line 171, in _parallel_build_trees\n",
      "    tree.fit(X, y, sample_weight=sample_weight, check_input=False)\n",
      "  File \"/opt/conda/lib/python3.9/site-packages/sklearn/tree/_classes.py\", line 1247, in fit\n",
      "    super().fit(\n",
      "  File \"/opt/conda/lib/python3.9/site-packages/sklearn/tree/_classes.py\", line 288, in fit\n",
      "    raise ValueError(\"max_features must be in (0, n_features]\")\n",
      "ValueError: max_features must be in (0, n_features]\n",
      "\n",
      "  warnings.warn(\"Estimator fit failed. The score on this train-test\"\n",
      "/opt/conda/lib/python3.9/site-packages/sklearn/model_selection/_validation.py:610: FitFailedWarning: Estimator fit failed. The score on this train-test partition for these parameters will be set to nan. Details: \n",
      "Traceback (most recent call last):\n",
      "  File \"/opt/conda/lib/python3.9/site-packages/sklearn/model_selection/_validation.py\", line 593, in _fit_and_score\n",
      "    estimator.fit(X_train, y_train, **fit_params)\n",
      "  File \"/opt/conda/lib/python3.9/site-packages/sklearn/ensemble/_forest.py\", line 387, in fit\n",
      "    trees = Parallel(n_jobs=self.n_jobs, verbose=self.verbose,\n",
      "  File \"/opt/conda/lib/python3.9/site-packages/joblib/parallel.py\", line 1043, in __call__\n",
      "    if self.dispatch_one_batch(iterator):\n",
      "  File \"/opt/conda/lib/python3.9/site-packages/joblib/parallel.py\", line 861, in dispatch_one_batch\n",
      "    self._dispatch(tasks)\n",
      "  File \"/opt/conda/lib/python3.9/site-packages/joblib/parallel.py\", line 779, in _dispatch\n",
      "    job = self._backend.apply_async(batch, callback=cb)\n",
      "  File \"/opt/conda/lib/python3.9/site-packages/joblib/_parallel_backends.py\", line 208, in apply_async\n",
      "    result = ImmediateResult(func)\n",
      "  File \"/opt/conda/lib/python3.9/site-packages/joblib/_parallel_backends.py\", line 572, in __init__\n",
      "    self.results = batch()\n",
      "  File \"/opt/conda/lib/python3.9/site-packages/joblib/parallel.py\", line 262, in __call__\n",
      "    return [func(*args, **kwargs)\n",
      "  File \"/opt/conda/lib/python3.9/site-packages/joblib/parallel.py\", line 262, in <listcomp>\n",
      "    return [func(*args, **kwargs)\n",
      "  File \"/opt/conda/lib/python3.9/site-packages/sklearn/utils/fixes.py\", line 222, in __call__\n",
      "    return self.function(*args, **kwargs)\n",
      "  File \"/opt/conda/lib/python3.9/site-packages/sklearn/ensemble/_forest.py\", line 171, in _parallel_build_trees\n",
      "    tree.fit(X, y, sample_weight=sample_weight, check_input=False)\n",
      "  File \"/opt/conda/lib/python3.9/site-packages/sklearn/tree/_classes.py\", line 1247, in fit\n",
      "    super().fit(\n",
      "  File \"/opt/conda/lib/python3.9/site-packages/sklearn/tree/_classes.py\", line 288, in fit\n",
      "    raise ValueError(\"max_features must be in (0, n_features]\")\n",
      "ValueError: max_features must be in (0, n_features]\n",
      "\n",
      "  warnings.warn(\"Estimator fit failed. The score on this train-test\"\n",
      "/opt/conda/lib/python3.9/site-packages/sklearn/model_selection/_validation.py:610: FitFailedWarning: Estimator fit failed. The score on this train-test partition for these parameters will be set to nan. Details: \n",
      "Traceback (most recent call last):\n",
      "  File \"/opt/conda/lib/python3.9/site-packages/sklearn/model_selection/_validation.py\", line 593, in _fit_and_score\n",
      "    estimator.fit(X_train, y_train, **fit_params)\n",
      "  File \"/opt/conda/lib/python3.9/site-packages/sklearn/ensemble/_forest.py\", line 387, in fit\n",
      "    trees = Parallel(n_jobs=self.n_jobs, verbose=self.verbose,\n",
      "  File \"/opt/conda/lib/python3.9/site-packages/joblib/parallel.py\", line 1043, in __call__\n",
      "    if self.dispatch_one_batch(iterator):\n",
      "  File \"/opt/conda/lib/python3.9/site-packages/joblib/parallel.py\", line 861, in dispatch_one_batch\n",
      "    self._dispatch(tasks)\n",
      "  File \"/opt/conda/lib/python3.9/site-packages/joblib/parallel.py\", line 779, in _dispatch\n",
      "    job = self._backend.apply_async(batch, callback=cb)\n",
      "  File \"/opt/conda/lib/python3.9/site-packages/joblib/_parallel_backends.py\", line 208, in apply_async\n",
      "    result = ImmediateResult(func)\n",
      "  File \"/opt/conda/lib/python3.9/site-packages/joblib/_parallel_backends.py\", line 572, in __init__\n",
      "    self.results = batch()\n",
      "  File \"/opt/conda/lib/python3.9/site-packages/joblib/parallel.py\", line 262, in __call__\n",
      "    return [func(*args, **kwargs)\n",
      "  File \"/opt/conda/lib/python3.9/site-packages/joblib/parallel.py\", line 262, in <listcomp>\n",
      "    return [func(*args, **kwargs)\n",
      "  File \"/opt/conda/lib/python3.9/site-packages/sklearn/utils/fixes.py\", line 222, in __call__\n",
      "    return self.function(*args, **kwargs)\n",
      "  File \"/opt/conda/lib/python3.9/site-packages/sklearn/ensemble/_forest.py\", line 171, in _parallel_build_trees\n",
      "    tree.fit(X, y, sample_weight=sample_weight, check_input=False)\n",
      "  File \"/opt/conda/lib/python3.9/site-packages/sklearn/tree/_classes.py\", line 1247, in fit\n",
      "    super().fit(\n",
      "  File \"/opt/conda/lib/python3.9/site-packages/sklearn/tree/_classes.py\", line 288, in fit\n",
      "    raise ValueError(\"max_features must be in (0, n_features]\")\n",
      "ValueError: max_features must be in (0, n_features]\n",
      "\n",
      "  warnings.warn(\"Estimator fit failed. The score on this train-test\"\n",
      "/opt/conda/lib/python3.9/site-packages/sklearn/model_selection/_validation.py:610: FitFailedWarning: Estimator fit failed. The score on this train-test partition for these parameters will be set to nan. Details: \n",
      "Traceback (most recent call last):\n",
      "  File \"/opt/conda/lib/python3.9/site-packages/sklearn/model_selection/_validation.py\", line 593, in _fit_and_score\n",
      "    estimator.fit(X_train, y_train, **fit_params)\n",
      "  File \"/opt/conda/lib/python3.9/site-packages/sklearn/ensemble/_forest.py\", line 387, in fit\n",
      "    trees = Parallel(n_jobs=self.n_jobs, verbose=self.verbose,\n",
      "  File \"/opt/conda/lib/python3.9/site-packages/joblib/parallel.py\", line 1043, in __call__\n",
      "    if self.dispatch_one_batch(iterator):\n",
      "  File \"/opt/conda/lib/python3.9/site-packages/joblib/parallel.py\", line 861, in dispatch_one_batch\n",
      "    self._dispatch(tasks)\n",
      "  File \"/opt/conda/lib/python3.9/site-packages/joblib/parallel.py\", line 779, in _dispatch\n",
      "    job = self._backend.apply_async(batch, callback=cb)\n",
      "  File \"/opt/conda/lib/python3.9/site-packages/joblib/_parallel_backends.py\", line 208, in apply_async\n",
      "    result = ImmediateResult(func)\n",
      "  File \"/opt/conda/lib/python3.9/site-packages/joblib/_parallel_backends.py\", line 572, in __init__\n",
      "    self.results = batch()\n",
      "  File \"/opt/conda/lib/python3.9/site-packages/joblib/parallel.py\", line 262, in __call__\n",
      "    return [func(*args, **kwargs)\n",
      "  File \"/opt/conda/lib/python3.9/site-packages/joblib/parallel.py\", line 262, in <listcomp>\n",
      "    return [func(*args, **kwargs)\n",
      "  File \"/opt/conda/lib/python3.9/site-packages/sklearn/utils/fixes.py\", line 222, in __call__\n",
      "    return self.function(*args, **kwargs)\n",
      "  File \"/opt/conda/lib/python3.9/site-packages/sklearn/ensemble/_forest.py\", line 171, in _parallel_build_trees\n",
      "    tree.fit(X, y, sample_weight=sample_weight, check_input=False)\n",
      "  File \"/opt/conda/lib/python3.9/site-packages/sklearn/tree/_classes.py\", line 1247, in fit\n",
      "    super().fit(\n",
      "  File \"/opt/conda/lib/python3.9/site-packages/sklearn/tree/_classes.py\", line 288, in fit\n",
      "    raise ValueError(\"max_features must be in (0, n_features]\")\n",
      "ValueError: max_features must be in (0, n_features]\n",
      "\n",
      "  warnings.warn(\"Estimator fit failed. The score on this train-test\"\n",
      "/opt/conda/lib/python3.9/site-packages/sklearn/model_selection/_validation.py:610: FitFailedWarning: Estimator fit failed. The score on this train-test partition for these parameters will be set to nan. Details: \n",
      "Traceback (most recent call last):\n",
      "  File \"/opt/conda/lib/python3.9/site-packages/sklearn/model_selection/_validation.py\", line 593, in _fit_and_score\n",
      "    estimator.fit(X_train, y_train, **fit_params)\n",
      "  File \"/opt/conda/lib/python3.9/site-packages/sklearn/ensemble/_forest.py\", line 387, in fit\n",
      "    trees = Parallel(n_jobs=self.n_jobs, verbose=self.verbose,\n",
      "  File \"/opt/conda/lib/python3.9/site-packages/joblib/parallel.py\", line 1043, in __call__\n",
      "    if self.dispatch_one_batch(iterator):\n",
      "  File \"/opt/conda/lib/python3.9/site-packages/joblib/parallel.py\", line 861, in dispatch_one_batch\n",
      "    self._dispatch(tasks)\n",
      "  File \"/opt/conda/lib/python3.9/site-packages/joblib/parallel.py\", line 779, in _dispatch\n",
      "    job = self._backend.apply_async(batch, callback=cb)\n",
      "  File \"/opt/conda/lib/python3.9/site-packages/joblib/_parallel_backends.py\", line 208, in apply_async\n",
      "    result = ImmediateResult(func)\n",
      "  File \"/opt/conda/lib/python3.9/site-packages/joblib/_parallel_backends.py\", line 572, in __init__\n",
      "    self.results = batch()\n",
      "  File \"/opt/conda/lib/python3.9/site-packages/joblib/parallel.py\", line 262, in __call__\n",
      "    return [func(*args, **kwargs)\n",
      "  File \"/opt/conda/lib/python3.9/site-packages/joblib/parallel.py\", line 262, in <listcomp>\n",
      "    return [func(*args, **kwargs)\n",
      "  File \"/opt/conda/lib/python3.9/site-packages/sklearn/utils/fixes.py\", line 222, in __call__\n",
      "    return self.function(*args, **kwargs)\n",
      "  File \"/opt/conda/lib/python3.9/site-packages/sklearn/ensemble/_forest.py\", line 171, in _parallel_build_trees\n",
      "    tree.fit(X, y, sample_weight=sample_weight, check_input=False)\n",
      "  File \"/opt/conda/lib/python3.9/site-packages/sklearn/tree/_classes.py\", line 1247, in fit\n",
      "    super().fit(\n",
      "  File \"/opt/conda/lib/python3.9/site-packages/sklearn/tree/_classes.py\", line 288, in fit\n",
      "    raise ValueError(\"max_features must be in (0, n_features]\")\n",
      "ValueError: max_features must be in (0, n_features]\n",
      "\n",
      "  warnings.warn(\"Estimator fit failed. The score on this train-test\"\n",
      "/opt/conda/lib/python3.9/site-packages/sklearn/model_selection/_validation.py:610: FitFailedWarning: Estimator fit failed. The score on this train-test partition for these parameters will be set to nan. Details: \n",
      "Traceback (most recent call last):\n",
      "  File \"/opt/conda/lib/python3.9/site-packages/sklearn/model_selection/_validation.py\", line 593, in _fit_and_score\n",
      "    estimator.fit(X_train, y_train, **fit_params)\n",
      "  File \"/opt/conda/lib/python3.9/site-packages/sklearn/ensemble/_forest.py\", line 387, in fit\n",
      "    trees = Parallel(n_jobs=self.n_jobs, verbose=self.verbose,\n",
      "  File \"/opt/conda/lib/python3.9/site-packages/joblib/parallel.py\", line 1043, in __call__\n",
      "    if self.dispatch_one_batch(iterator):\n",
      "  File \"/opt/conda/lib/python3.9/site-packages/joblib/parallel.py\", line 861, in dispatch_one_batch\n",
      "    self._dispatch(tasks)\n",
      "  File \"/opt/conda/lib/python3.9/site-packages/joblib/parallel.py\", line 779, in _dispatch\n",
      "    job = self._backend.apply_async(batch, callback=cb)\n",
      "  File \"/opt/conda/lib/python3.9/site-packages/joblib/_parallel_backends.py\", line 208, in apply_async\n",
      "    result = ImmediateResult(func)\n",
      "  File \"/opt/conda/lib/python3.9/site-packages/joblib/_parallel_backends.py\", line 572, in __init__\n",
      "    self.results = batch()\n",
      "  File \"/opt/conda/lib/python3.9/site-packages/joblib/parallel.py\", line 262, in __call__\n",
      "    return [func(*args, **kwargs)\n",
      "  File \"/opt/conda/lib/python3.9/site-packages/joblib/parallel.py\", line 262, in <listcomp>\n",
      "    return [func(*args, **kwargs)\n",
      "  File \"/opt/conda/lib/python3.9/site-packages/sklearn/utils/fixes.py\", line 222, in __call__\n",
      "    return self.function(*args, **kwargs)\n",
      "  File \"/opt/conda/lib/python3.9/site-packages/sklearn/ensemble/_forest.py\", line 171, in _parallel_build_trees\n",
      "    tree.fit(X, y, sample_weight=sample_weight, check_input=False)\n",
      "  File \"/opt/conda/lib/python3.9/site-packages/sklearn/tree/_classes.py\", line 1247, in fit\n",
      "    super().fit(\n",
      "  File \"/opt/conda/lib/python3.9/site-packages/sklearn/tree/_classes.py\", line 288, in fit\n",
      "    raise ValueError(\"max_features must be in (0, n_features]\")\n",
      "ValueError: max_features must be in (0, n_features]\n",
      "\n",
      "  warnings.warn(\"Estimator fit failed. The score on this train-test\"\n",
      "/opt/conda/lib/python3.9/site-packages/sklearn/model_selection/_validation.py:610: FitFailedWarning: Estimator fit failed. The score on this train-test partition for these parameters will be set to nan. Details: \n",
      "Traceback (most recent call last):\n",
      "  File \"/opt/conda/lib/python3.9/site-packages/sklearn/model_selection/_validation.py\", line 593, in _fit_and_score\n",
      "    estimator.fit(X_train, y_train, **fit_params)\n",
      "  File \"/opt/conda/lib/python3.9/site-packages/sklearn/ensemble/_forest.py\", line 387, in fit\n",
      "    trees = Parallel(n_jobs=self.n_jobs, verbose=self.verbose,\n",
      "  File \"/opt/conda/lib/python3.9/site-packages/joblib/parallel.py\", line 1043, in __call__\n",
      "    if self.dispatch_one_batch(iterator):\n",
      "  File \"/opt/conda/lib/python3.9/site-packages/joblib/parallel.py\", line 861, in dispatch_one_batch\n",
      "    self._dispatch(tasks)\n",
      "  File \"/opt/conda/lib/python3.9/site-packages/joblib/parallel.py\", line 779, in _dispatch\n",
      "    job = self._backend.apply_async(batch, callback=cb)\n",
      "  File \"/opt/conda/lib/python3.9/site-packages/joblib/_parallel_backends.py\", line 208, in apply_async\n",
      "    result = ImmediateResult(func)\n",
      "  File \"/opt/conda/lib/python3.9/site-packages/joblib/_parallel_backends.py\", line 572, in __init__\n",
      "    self.results = batch()\n",
      "  File \"/opt/conda/lib/python3.9/site-packages/joblib/parallel.py\", line 262, in __call__\n",
      "    return [func(*args, **kwargs)\n",
      "  File \"/opt/conda/lib/python3.9/site-packages/joblib/parallel.py\", line 262, in <listcomp>\n",
      "    return [func(*args, **kwargs)\n",
      "  File \"/opt/conda/lib/python3.9/site-packages/sklearn/utils/fixes.py\", line 222, in __call__\n",
      "    return self.function(*args, **kwargs)\n",
      "  File \"/opt/conda/lib/python3.9/site-packages/sklearn/ensemble/_forest.py\", line 171, in _parallel_build_trees\n",
      "    tree.fit(X, y, sample_weight=sample_weight, check_input=False)\n",
      "  File \"/opt/conda/lib/python3.9/site-packages/sklearn/tree/_classes.py\", line 1247, in fit\n",
      "    super().fit(\n",
      "  File \"/opt/conda/lib/python3.9/site-packages/sklearn/tree/_classes.py\", line 288, in fit\n",
      "    raise ValueError(\"max_features must be in (0, n_features]\")\n",
      "ValueError: max_features must be in (0, n_features]\n",
      "\n",
      "  warnings.warn(\"Estimator fit failed. The score on this train-test\"\n",
      "/opt/conda/lib/python3.9/site-packages/sklearn/model_selection/_search.py:918: UserWarning: One or more of the test scores are non-finite: [nan nan nan nan nan nan nan nan nan nan]\n",
      "  warnings.warn(\n"
     ]
    },
    {
     "name": "stdout",
     "output_type": "stream",
     "text": [
      "[CV 5/5] END bootstrap=False, max_depth=29, max_features=2, min_samples_leaf=8, min_samples_split=12, n_estimators=18; total time=   1.3s\n",
      "[CV 1/5] END bootstrap=False, max_depth=23, max_features=25, min_samples_leaf=6, min_samples_split=12, n_estimators=35; total time=   0.0s\n",
      "[CV 2/5] END bootstrap=False, max_depth=23, max_features=25, min_samples_leaf=6, min_samples_split=12, n_estimators=35; total time=   0.0s\n",
      "[CV 3/5] END bootstrap=False, max_depth=23, max_features=25, min_samples_leaf=6, min_samples_split=12, n_estimators=35; total time=   0.0s\n",
      "[CV 4/5] END bootstrap=False, max_depth=23, max_features=25, min_samples_leaf=6, min_samples_split=12, n_estimators=35; total time=   0.0s\n",
      "[CV 5/5] END bootstrap=False, max_depth=23, max_features=25, min_samples_leaf=6, min_samples_split=12, n_estimators=35; total time=   0.0s\n",
      "[CV 1/5] END bootstrap=False, max_depth=40, max_features=19, min_samples_leaf=4, min_samples_split=12, n_estimators=9; total time=   0.0s\n",
      "[CV 2/5] END bootstrap=False, max_depth=40, max_features=19, min_samples_leaf=4, min_samples_split=12, n_estimators=9; total time=   0.0s\n",
      "[CV 3/5] END bootstrap=False, max_depth=40, max_features=19, min_samples_leaf=4, min_samples_split=12, n_estimators=9; total time=   0.0s\n",
      "[CV 4/5] END bootstrap=False, max_depth=40, max_features=19, min_samples_leaf=4, min_samples_split=12, n_estimators=9; total time=   0.0s\n",
      "[CV 5/5] END bootstrap=False, max_depth=40, max_features=19, min_samples_leaf=4, min_samples_split=12, n_estimators=9; total time=   0.0s\n"
     ]
    }
   ],
   "source": [
    "model = RandomForestRegressor(random_state=12345)\n",
    "param_dist = {'n_estimators': range(1,50),\n",
    "               'max_features': range(1,30),\n",
    "               'max_depth': range(1,50),\n",
    "               'min_samples_split': range(2,20,2),\n",
    "               'min_samples_leaf': range(2,20,2),\n",
    "               'bootstrap': [True, False]}\n",
    "rs =  RandomizedSearchCV(model,param_distributions = param_dist, cv=5,scoring = mean_squared_error, verbose=3)\n",
    "rs.fit(features_train_tree, target_train)\n",
    "best_params = rs.best_params_"
   ]
  },
  {
   "cell_type": "code",
   "execution_count": 48,
   "metadata": {
    "scrolled": true
   },
   "outputs": [
    {
     "name": "stdout",
     "output_type": "stream",
     "text": [
      "CPU times: user 3.81 s, sys: 3.36 ms, total: 3.81 s\n",
      "Wall time: 3.81 s\n"
     ]
    },
    {
     "data": {
      "text/plain": [
       "RandomForestRegressor(bootstrap=False, max_depth=10, max_features=2,\n",
       "                      min_samples_leaf=12, min_samples_split=12,\n",
       "                      n_estimators=49)"
      ]
     },
     "execution_count": 48,
     "metadata": {},
     "output_type": "execute_result"
    }
   ],
   "source": [
    "%%time\n",
    "model = RandomForestRegressor(**best_params)\n",
    "model.fit(features_train_tree,target_train)\n"
   ]
  },
  {
   "cell_type": "code",
   "execution_count": 49,
   "metadata": {},
   "outputs": [
    {
     "name": "stdout",
     "output_type": "stream",
     "text": [
      "RMSE для RandomForestRegressor 3611.017237230683\n",
      "CPU times: user 240 ms, sys: 157 µs, total: 240 ms\n",
      "Wall time: 238 ms\n"
     ]
    }
   ],
   "source": [
    "%%time\n",
    "predict = model.predict(features_valid_tree)\n",
    "rmse = mean_squared_error(target_valid,predict)**0.5\n",
    "print('RMSE для RandomForestRegressor',rmse )"
   ]
  },
  {
   "cell_type": "markdown",
   "metadata": {},
   "source": [
    "### CatBoostRegressor\n",
    "<a id='sect'></a>"
   ]
  },
  {
   "cell_type": "code",
   "execution_count": 50,
   "metadata": {},
   "outputs": [
    {
     "name": "stdout",
     "output_type": "stream",
     "text": [
      "0:\tlearn: 4386.1832317\ttotal: 164ms\tremaining: 8.04s\n",
      "10:\tlearn: 4112.3058927\ttotal: 1.05s\tremaining: 3.73s\n",
      "20:\tlearn: 3870.5224798\ttotal: 1.89s\tremaining: 2.61s\n",
      "30:\tlearn: 3656.3058589\ttotal: 2.73s\tremaining: 1.68s\n",
      "40:\tlearn: 3466.1801891\ttotal: 3.6s\tremaining: 791ms\n",
      "49:\tlearn: 3313.0113819\ttotal: 4.41s\tremaining: 0us\n",
      "0:\tlearn: 4386.2481684\ttotal: 114ms\tremaining: 5.61s\n",
      "10:\tlearn: 4112.7973014\ttotal: 994ms\tremaining: 3.52s\n",
      "20:\tlearn: 3872.1124962\ttotal: 1.87s\tremaining: 2.58s\n",
      "30:\tlearn: 3657.5127056\ttotal: 2.75s\tremaining: 1.69s\n",
      "40:\tlearn: 3466.6953255\ttotal: 3.6s\tremaining: 791ms\n",
      "49:\tlearn: 3315.3433952\ttotal: 4.38s\tremaining: 0us\n",
      "0:\tlearn: 4391.1760422\ttotal: 106ms\tremaining: 5.22s\n",
      "10:\tlearn: 4115.6404807\ttotal: 979ms\tremaining: 3.47s\n",
      "20:\tlearn: 3872.6787404\ttotal: 1.84s\tremaining: 2.54s\n",
      "30:\tlearn: 3656.8462750\ttotal: 2.71s\tremaining: 1.66s\n",
      "40:\tlearn: 3465.2266616\ttotal: 3.59s\tremaining: 788ms\n",
      "49:\tlearn: 3311.6773089\ttotal: 4.35s\tremaining: 0us\n",
      "0:\tlearn: 4386.1832317\ttotal: 101ms\tremaining: 9.97s\n",
      "10:\tlearn: 4112.3058927\ttotal: 989ms\tremaining: 8s\n",
      "20:\tlearn: 3870.5224798\ttotal: 1.84s\tremaining: 6.91s\n",
      "30:\tlearn: 3656.3058589\ttotal: 2.68s\tremaining: 5.97s\n",
      "40:\tlearn: 3466.1801891\ttotal: 3.53s\tremaining: 5.07s\n",
      "50:\tlearn: 3297.1733827\ttotal: 4.37s\tremaining: 4.2s\n",
      "60:\tlearn: 3149.5511001\ttotal: 5.21s\tremaining: 3.33s\n",
      "70:\tlearn: 3018.1020353\ttotal: 6.07s\tremaining: 2.48s\n",
      "80:\tlearn: 2900.8162160\ttotal: 6.96s\tremaining: 1.63s\n",
      "90:\tlearn: 2796.4484551\ttotal: 7.81s\tremaining: 773ms\n",
      "99:\tlearn: 2713.4596449\ttotal: 8.62s\tremaining: 0us\n",
      "0:\tlearn: 4386.2481684\ttotal: 107ms\tremaining: 10.6s\n",
      "10:\tlearn: 4112.7973014\ttotal: 1.01s\tremaining: 8.14s\n",
      "20:\tlearn: 3872.1124962\ttotal: 1.9s\tremaining: 7.14s\n",
      "30:\tlearn: 3657.5127056\ttotal: 2.81s\tremaining: 6.25s\n",
      "40:\tlearn: 3466.6953255\ttotal: 3.68s\tremaining: 5.3s\n",
      "50:\tlearn: 3299.2918999\ttotal: 4.57s\tremaining: 4.39s\n",
      "60:\tlearn: 3150.1410976\ttotal: 5.46s\tremaining: 3.49s\n",
      "70:\tlearn: 3018.4758645\ttotal: 6.35s\tremaining: 2.59s\n",
      "80:\tlearn: 2902.7071208\ttotal: 7.25s\tremaining: 1.7s\n",
      "90:\tlearn: 2799.4740474\ttotal: 8.14s\tremaining: 805ms\n",
      "99:\tlearn: 2717.0810635\ttotal: 8.97s\tremaining: 0us\n",
      "0:\tlearn: 4391.1760422\ttotal: 112ms\tremaining: 11.1s\n",
      "10:\tlearn: 4115.6404807\ttotal: 1.02s\tremaining: 8.24s\n",
      "20:\tlearn: 3872.6787404\ttotal: 1.89s\tremaining: 7.12s\n",
      "30:\tlearn: 3656.8462750\ttotal: 2.77s\tremaining: 6.17s\n",
      "40:\tlearn: 3465.2266616\ttotal: 3.64s\tremaining: 5.24s\n",
      "50:\tlearn: 3295.8058115\ttotal: 4.51s\tremaining: 4.33s\n",
      "60:\tlearn: 3146.1415639\ttotal: 5.4s\tremaining: 3.46s\n",
      "70:\tlearn: 3013.1965340\ttotal: 6.27s\tremaining: 2.56s\n",
      "80:\tlearn: 2896.3080010\ttotal: 7.18s\tremaining: 1.68s\n",
      "90:\tlearn: 2792.8821345\ttotal: 8.04s\tremaining: 795ms\n",
      "99:\tlearn: 2708.4657242\ttotal: 8.85s\tremaining: 0us\n",
      "0:\tlearn: 3585.0342697\ttotal: 96.6ms\tremaining: 4.73s\n",
      "10:\tlearn: 1978.1029304\ttotal: 974ms\tremaining: 3.45s\n",
      "20:\tlearn: 1852.3207236\ttotal: 1.73s\tremaining: 2.39s\n",
      "30:\tlearn: 1809.4631963\ttotal: 2.48s\tremaining: 1.52s\n",
      "40:\tlearn: 1771.7636464\ttotal: 3.24s\tremaining: 711ms\n",
      "49:\tlearn: 1749.4208977\ttotal: 3.89s\tremaining: 0us\n",
      "0:\tlearn: 3580.4159285\ttotal: 105ms\tremaining: 5.15s\n",
      "10:\tlearn: 1968.3297570\ttotal: 933ms\tremaining: 3.31s\n",
      "20:\tlearn: 1856.9227084\ttotal: 1.72s\tremaining: 2.38s\n",
      "30:\tlearn: 1809.4966621\ttotal: 2.51s\tremaining: 1.54s\n",
      "40:\tlearn: 1780.6496506\ttotal: 3.25s\tremaining: 714ms\n",
      "49:\tlearn: 1757.1643227\ttotal: 3.99s\tremaining: 0us\n",
      "0:\tlearn: 3579.7483208\ttotal: 108ms\tremaining: 5.27s\n",
      "10:\tlearn: 1976.5365993\ttotal: 1s\tremaining: 3.55s\n",
      "20:\tlearn: 1865.7637639\ttotal: 1.79s\tremaining: 2.48s\n",
      "30:\tlearn: 1808.8868551\ttotal: 2.58s\tremaining: 1.58s\n",
      "40:\tlearn: 1776.0457512\ttotal: 3.34s\tremaining: 733ms\n",
      "49:\tlearn: 1745.0140317\ttotal: 4.06s\tremaining: 0us\n",
      "0:\tlearn: 3585.0342697\ttotal: 97.8ms\tremaining: 9.69s\n",
      "10:\tlearn: 1978.1029304\ttotal: 950ms\tremaining: 7.69s\n",
      "20:\tlearn: 1852.3207236\ttotal: 1.69s\tremaining: 6.37s\n",
      "30:\tlearn: 1809.4631963\ttotal: 2.47s\tremaining: 5.5s\n",
      "40:\tlearn: 1771.7636464\ttotal: 3.24s\tremaining: 4.67s\n",
      "50:\tlearn: 1745.8779463\ttotal: 4.04s\tremaining: 3.88s\n",
      "60:\tlearn: 1730.4910654\ttotal: 4.73s\tremaining: 3.03s\n",
      "70:\tlearn: 1719.2227151\ttotal: 5.46s\tremaining: 2.23s\n",
      "80:\tlearn: 1707.6497714\ttotal: 6.19s\tremaining: 1.45s\n",
      "90:\tlearn: 1691.9390641\ttotal: 6.91s\tremaining: 683ms\n",
      "99:\tlearn: 1682.7160870\ttotal: 7.55s\tremaining: 0us\n",
      "0:\tlearn: 3580.4159285\ttotal: 108ms\tremaining: 10.7s\n",
      "10:\tlearn: 1968.3297570\ttotal: 928ms\tremaining: 7.51s\n",
      "20:\tlearn: 1856.9227084\ttotal: 1.71s\tremaining: 6.42s\n",
      "30:\tlearn: 1809.4966621\ttotal: 2.46s\tremaining: 5.48s\n",
      "40:\tlearn: 1780.6496506\ttotal: 3.2s\tremaining: 4.61s\n",
      "50:\tlearn: 1756.9467375\ttotal: 3.96s\tremaining: 3.8s\n",
      "60:\tlearn: 1732.4118813\ttotal: 4.69s\tremaining: 3s\n",
      "70:\tlearn: 1719.6940886\ttotal: 5.45s\tremaining: 2.22s\n",
      "80:\tlearn: 1705.7887797\ttotal: 6.12s\tremaining: 1.43s\n",
      "90:\tlearn: 1697.9173215\ttotal: 6.82s\tremaining: 675ms\n",
      "99:\tlearn: 1689.4624819\ttotal: 7.48s\tremaining: 0us\n",
      "0:\tlearn: 3579.7483208\ttotal: 105ms\tremaining: 10.4s\n",
      "10:\tlearn: 1976.5365993\ttotal: 959ms\tremaining: 7.76s\n",
      "20:\tlearn: 1865.7637639\ttotal: 1.7s\tremaining: 6.39s\n",
      "30:\tlearn: 1808.8868551\ttotal: 2.47s\tremaining: 5.5s\n",
      "40:\tlearn: 1776.0457512\ttotal: 3.2s\tremaining: 4.61s\n",
      "50:\tlearn: 1742.8704140\ttotal: 4.15s\tremaining: 3.99s\n",
      "60:\tlearn: 1724.3076806\ttotal: 4.92s\tremaining: 3.15s\n",
      "70:\tlearn: 1709.9220493\ttotal: 5.67s\tremaining: 2.31s\n",
      "80:\tlearn: 1700.3348872\ttotal: 6.42s\tremaining: 1.51s\n",
      "90:\tlearn: 1688.4468952\ttotal: 7.13s\tremaining: 705ms\n",
      "99:\tlearn: 1679.9178391\ttotal: 7.78s\tremaining: 0us\n",
      "0:\tlearn: 4386.1871859\ttotal: 104ms\tremaining: 5.08s\n",
      "10:\tlearn: 4112.3466186\ttotal: 1.03s\tremaining: 3.65s\n",
      "20:\tlearn: 3870.5650751\ttotal: 1.91s\tremaining: 2.64s\n",
      "30:\tlearn: 3656.1079882\ttotal: 2.81s\tremaining: 1.72s\n",
      "40:\tlearn: 3466.4243755\ttotal: 3.7s\tremaining: 812ms\n",
      "49:\tlearn: 3313.1385642\ttotal: 4.5s\tremaining: 0us\n",
      "0:\tlearn: 4386.2518912\ttotal: 121ms\tremaining: 5.94s\n",
      "10:\tlearn: 4112.8391176\ttotal: 1.04s\tremaining: 3.68s\n",
      "20:\tlearn: 3872.1873099\ttotal: 1.93s\tremaining: 2.67s\n",
      "30:\tlearn: 3657.6131688\ttotal: 2.91s\tremaining: 1.78s\n",
      "40:\tlearn: 3466.8220761\ttotal: 3.78s\tremaining: 829ms\n",
      "49:\tlearn: 3315.4701013\ttotal: 4.58s\tremaining: 0us\n",
      "0:\tlearn: 4391.1799038\ttotal: 111ms\tremaining: 5.46s\n",
      "10:\tlearn: 4115.6832020\ttotal: 1.03s\tremaining: 3.67s\n",
      "20:\tlearn: 3872.7555047\ttotal: 1.92s\tremaining: 2.65s\n",
      "30:\tlearn: 3656.9501425\ttotal: 2.81s\tremaining: 1.72s\n",
      "40:\tlearn: 3465.3440723\ttotal: 3.68s\tremaining: 809ms\n",
      "49:\tlearn: 3311.8039560\ttotal: 4.48s\tremaining: 0us\n",
      "0:\tlearn: 4386.1871859\ttotal: 102ms\tremaining: 10.1s\n",
      "10:\tlearn: 4112.3466186\ttotal: 969ms\tremaining: 7.84s\n",
      "20:\tlearn: 3870.5650751\ttotal: 1.86s\tremaining: 7.02s\n",
      "30:\tlearn: 3656.1079882\ttotal: 2.71s\tremaining: 6.03s\n",
      "40:\tlearn: 3466.4243755\ttotal: 3.55s\tremaining: 5.11s\n",
      "50:\tlearn: 3297.2983828\ttotal: 4.4s\tremaining: 4.23s\n",
      "60:\tlearn: 3149.7122644\ttotal: 5.26s\tremaining: 3.36s\n",
      "70:\tlearn: 3018.1009259\ttotal: 6.13s\tremaining: 2.5s\n",
      "80:\tlearn: 2900.8861491\ttotal: 7s\tremaining: 1.64s\n",
      "90:\tlearn: 2796.4766602\ttotal: 7.83s\tremaining: 775ms\n",
      "99:\tlearn: 2713.4016512\ttotal: 8.59s\tremaining: 0us\n",
      "0:\tlearn: 4386.2518912\ttotal: 109ms\tremaining: 10.8s\n",
      "10:\tlearn: 4112.8391176\ttotal: 994ms\tremaining: 8.04s\n",
      "20:\tlearn: 3872.1873099\ttotal: 1.9s\tremaining: 7.13s\n",
      "30:\tlearn: 3657.6131688\ttotal: 2.76s\tremaining: 6.14s\n",
      "40:\tlearn: 3466.8220761\ttotal: 3.6s\tremaining: 5.18s\n",
      "50:\tlearn: 3299.4193268\ttotal: 4.48s\tremaining: 4.31s\n",
      "60:\tlearn: 3150.3669572\ttotal: 5.34s\tremaining: 3.42s\n",
      "70:\tlearn: 3018.1622022\ttotal: 6.23s\tremaining: 2.54s\n",
      "80:\tlearn: 2902.1764078\ttotal: 7.09s\tremaining: 1.66s\n",
      "90:\tlearn: 2798.8845113\ttotal: 7.95s\tremaining: 786ms\n",
      "99:\tlearn: 2716.8133931\ttotal: 8.72s\tremaining: 0us\n",
      "0:\tlearn: 4391.1799038\ttotal: 110ms\tremaining: 10.9s\n",
      "10:\tlearn: 4115.6832020\ttotal: 981ms\tremaining: 7.93s\n",
      "20:\tlearn: 3872.7555047\ttotal: 1.89s\tremaining: 7.11s\n",
      "30:\tlearn: 3656.9501425\ttotal: 2.76s\tremaining: 6.15s\n",
      "40:\tlearn: 3465.3440723\ttotal: 3.61s\tremaining: 5.19s\n",
      "50:\tlearn: 3295.9086928\ttotal: 4.47s\tremaining: 4.3s\n",
      "60:\tlearn: 3146.3059057\ttotal: 5.33s\tremaining: 3.41s\n",
      "70:\tlearn: 3013.3913810\ttotal: 6.19s\tremaining: 2.53s\n",
      "80:\tlearn: 2896.5054345\ttotal: 7.06s\tremaining: 1.66s\n",
      "90:\tlearn: 2793.0787536\ttotal: 7.93s\tremaining: 784ms\n",
      "99:\tlearn: 2708.7153005\ttotal: 8.71s\tremaining: 0us\n",
      "0:\tlearn: 3585.1369029\ttotal: 102ms\tremaining: 4.99s\n",
      "10:\tlearn: 1978.2473459\ttotal: 963ms\tremaining: 3.41s\n",
      "20:\tlearn: 1852.6667791\ttotal: 1.72s\tremaining: 2.38s\n",
      "30:\tlearn: 1810.1451027\ttotal: 2.52s\tremaining: 1.54s\n",
      "40:\tlearn: 1778.7880548\ttotal: 3.28s\tremaining: 720ms\n",
      "49:\tlearn: 1756.2717484\ttotal: 3.9s\tremaining: 0us\n",
      "0:\tlearn: 3580.5126850\ttotal: 104ms\tremaining: 5.12s\n",
      "10:\tlearn: 1968.5842181\ttotal: 945ms\tremaining: 3.35s\n",
      "20:\tlearn: 1862.1219363\ttotal: 1.74s\tremaining: 2.41s\n",
      "30:\tlearn: 1807.6536501\ttotal: 2.52s\tremaining: 1.54s\n",
      "40:\tlearn: 1783.5598377\ttotal: 3.25s\tremaining: 713ms\n",
      "49:\tlearn: 1767.6834510\ttotal: 3.88s\tremaining: 0us\n",
      "0:\tlearn: 3579.8488201\ttotal: 108ms\tremaining: 5.29s\n",
      "10:\tlearn: 1977.7936273\ttotal: 990ms\tremaining: 3.51s\n",
      "20:\tlearn: 1856.3899127\ttotal: 1.78s\tremaining: 2.46s\n",
      "30:\tlearn: 1807.4516516\ttotal: 2.57s\tremaining: 1.58s\n",
      "40:\tlearn: 1781.4869191\ttotal: 3.29s\tremaining: 723ms\n",
      "49:\tlearn: 1751.0230295\ttotal: 3.98s\tremaining: 0us\n",
      "0:\tlearn: 3585.1369029\ttotal: 97.5ms\tremaining: 9.65s\n",
      "10:\tlearn: 1978.2473459\ttotal: 961ms\tremaining: 7.78s\n",
      "20:\tlearn: 1852.6667791\ttotal: 1.76s\tremaining: 6.62s\n",
      "30:\tlearn: 1810.1451027\ttotal: 2.57s\tremaining: 5.71s\n",
      "40:\tlearn: 1778.7880548\ttotal: 3.35s\tremaining: 4.83s\n",
      "50:\tlearn: 1755.6037382\ttotal: 4.09s\tremaining: 3.93s\n",
      "60:\tlearn: 1726.6592577\ttotal: 4.91s\tremaining: 3.14s\n",
      "70:\tlearn: 1710.3135892\ttotal: 5.66s\tremaining: 2.31s\n",
      "80:\tlearn: 1702.1708329\ttotal: 6.39s\tremaining: 1.5s\n",
      "90:\tlearn: 1697.2759165\ttotal: 7.18s\tremaining: 711ms\n",
      "99:\tlearn: 1686.9431890\ttotal: 7.87s\tremaining: 0us\n",
      "0:\tlearn: 3580.5126850\ttotal: 113ms\tremaining: 11.2s\n",
      "10:\tlearn: 1968.5842181\ttotal: 1.01s\tremaining: 8.18s\n",
      "20:\tlearn: 1862.1219363\ttotal: 1.84s\tremaining: 6.92s\n",
      "30:\tlearn: 1807.6536501\ttotal: 2.67s\tremaining: 5.94s\n",
      "40:\tlearn: 1783.5598377\ttotal: 3.45s\tremaining: 4.96s\n",
      "50:\tlearn: 1765.5975445\ttotal: 4.21s\tremaining: 4.04s\n",
      "60:\tlearn: 1736.1570888\ttotal: 5.02s\tremaining: 3.21s\n",
      "70:\tlearn: 1722.3942564\ttotal: 5.79s\tremaining: 2.37s\n",
      "80:\tlearn: 1713.5802838\ttotal: 6.52s\tremaining: 1.53s\n",
      "90:\tlearn: 1702.1457995\ttotal: 7.28s\tremaining: 720ms\n",
      "99:\tlearn: 1693.4459714\ttotal: 7.93s\tremaining: 0us\n",
      "0:\tlearn: 3579.8488201\ttotal: 112ms\tremaining: 11s\n",
      "10:\tlearn: 1977.7936273\ttotal: 1.03s\tremaining: 8.31s\n",
      "20:\tlearn: 1856.3899127\ttotal: 1.88s\tremaining: 7.07s\n",
      "30:\tlearn: 1807.4516516\ttotal: 2.67s\tremaining: 5.94s\n",
      "40:\tlearn: 1781.4869191\ttotal: 3.44s\tremaining: 4.95s\n",
      "50:\tlearn: 1747.9876794\ttotal: 4.26s\tremaining: 4.1s\n",
      "60:\tlearn: 1732.4808865\ttotal: 5.05s\tremaining: 3.23s\n",
      "70:\tlearn: 1720.5618628\ttotal: 5.86s\tremaining: 2.39s\n",
      "80:\tlearn: 1707.2579799\ttotal: 6.62s\tremaining: 1.55s\n",
      "90:\tlearn: 1696.9248694\ttotal: 7.41s\tremaining: 733ms\n",
      "99:\tlearn: 1686.0718559\ttotal: 8.12s\tremaining: 0us\n",
      "0:\tlearn: 4386.1911374\ttotal: 104ms\tremaining: 5.11s\n",
      "10:\tlearn: 4112.3872364\ttotal: 1.03s\tremaining: 3.64s\n",
      "20:\tlearn: 3870.6372263\ttotal: 1.95s\tremaining: 2.69s\n",
      "30:\tlearn: 3656.2088020\ttotal: 2.84s\tremaining: 1.74s\n",
      "40:\tlearn: 3466.5502721\ttotal: 3.75s\tremaining: 824ms\n",
      "49:\tlearn: 3313.2852080\ttotal: 4.65s\tremaining: 0us\n",
      "0:\tlearn: 4386.2556114\ttotal: 111ms\tremaining: 5.42s\n",
      "10:\tlearn: 4112.8809059\ttotal: 973ms\tremaining: 3.45s\n",
      "20:\tlearn: 3872.2620685\ttotal: 1.84s\tremaining: 2.55s\n",
      "30:\tlearn: 3657.7135582\ttotal: 2.75s\tremaining: 1.68s\n",
      "40:\tlearn: 3466.9487326\ttotal: 3.66s\tremaining: 803ms\n",
      "49:\tlearn: 3315.6146971\ttotal: 4.45s\tremaining: 0us\n",
      "0:\tlearn: 4391.1837620\ttotal: 105ms\tremaining: 5.16s\n",
      "10:\tlearn: 4115.7258684\ttotal: 999ms\tremaining: 3.54s\n",
      "20:\tlearn: 3872.8321878\ttotal: 1.87s\tremaining: 2.58s\n",
      "30:\tlearn: 3657.0539107\ttotal: 2.75s\tremaining: 1.69s\n",
      "40:\tlearn: 3465.4817916\ttotal: 3.61s\tremaining: 792ms\n",
      "49:\tlearn: 3311.4220255\ttotal: 4.39s\tremaining: 0us\n",
      "0:\tlearn: 4386.1911374\ttotal: 97.5ms\tremaining: 9.65s\n",
      "10:\tlearn: 4112.3872364\ttotal: 985ms\tremaining: 7.97s\n",
      "20:\tlearn: 3870.6372263\ttotal: 1.86s\tremaining: 7.01s\n",
      "30:\tlearn: 3656.2088020\ttotal: 2.73s\tremaining: 6.09s\n",
      "40:\tlearn: 3466.5502721\ttotal: 3.59s\tremaining: 5.16s\n",
      "50:\tlearn: 3297.4467898\ttotal: 4.43s\tremaining: 4.25s\n",
      "60:\tlearn: 3149.8916901\ttotal: 5.27s\tremaining: 3.37s\n",
      "70:\tlearn: 3018.2584485\ttotal: 6.14s\tremaining: 2.51s\n",
      "80:\tlearn: 2901.0476880\ttotal: 7.02s\tremaining: 1.65s\n",
      "90:\tlearn: 2796.6529182\ttotal: 7.87s\tremaining: 778ms\n",
      "99:\tlearn: 2713.5956022\ttotal: 8.63s\tremaining: 0us\n",
      "0:\tlearn: 4386.2556114\ttotal: 110ms\tremaining: 10.9s\n",
      "10:\tlearn: 4112.8809059\ttotal: 978ms\tremaining: 7.92s\n",
      "20:\tlearn: 3872.2620685\ttotal: 1.87s\tremaining: 7.03s\n",
      "30:\tlearn: 3657.7135582\ttotal: 2.77s\tremaining: 6.16s\n",
      "40:\tlearn: 3466.9487326\ttotal: 3.64s\tremaining: 5.24s\n",
      "50:\tlearn: 3299.5654967\ttotal: 4.51s\tremaining: 4.33s\n",
      "60:\tlearn: 3150.5547532\ttotal: 5.36s\tremaining: 3.43s\n",
      "70:\tlearn: 3018.3694034\ttotal: 6.23s\tremaining: 2.54s\n",
      "80:\tlearn: 2902.3944179\ttotal: 7.09s\tremaining: 1.66s\n",
      "90:\tlearn: 2799.1235694\ttotal: 7.99s\tremaining: 790ms\n",
      "99:\tlearn: 2717.1727393\ttotal: 8.79s\tremaining: 0us\n",
      "0:\tlearn: 4391.1837620\ttotal: 110ms\tremaining: 10.9s\n",
      "10:\tlearn: 4115.7258684\ttotal: 990ms\tremaining: 8.01s\n",
      "20:\tlearn: 3872.8321878\ttotal: 1.9s\tremaining: 7.14s\n",
      "30:\tlearn: 3657.0539107\ttotal: 2.79s\tremaining: 6.22s\n",
      "40:\tlearn: 3465.4817916\ttotal: 3.71s\tremaining: 5.34s\n",
      "50:\tlearn: 3295.5581637\ttotal: 4.58s\tremaining: 4.4s\n",
      "60:\tlearn: 3146.6052466\ttotal: 5.48s\tremaining: 3.51s\n",
      "70:\tlearn: 3013.8408186\ttotal: 6.39s\tremaining: 2.61s\n",
      "80:\tlearn: 2896.6645212\ttotal: 7.3s\tremaining: 1.71s\n",
      "90:\tlearn: 2793.2132414\ttotal: 8.21s\tremaining: 812ms\n",
      "99:\tlearn: 2709.2057286\ttotal: 9.04s\tremaining: 0us\n",
      "0:\tlearn: 3585.2394788\ttotal: 102ms\tremaining: 4.99s\n",
      "10:\tlearn: 1978.3801451\ttotal: 994ms\tremaining: 3.52s\n",
      "20:\tlearn: 1852.9605101\ttotal: 1.79s\tremaining: 2.48s\n",
      "30:\tlearn: 1814.4628664\ttotal: 2.55s\tremaining: 1.56s\n",
      "40:\tlearn: 1783.8719555\ttotal: 3.34s\tremaining: 733ms\n",
      "49:\tlearn: 1755.5558908\ttotal: 4.03s\tremaining: 0us\n",
      "0:\tlearn: 3580.6093836\ttotal: 111ms\tremaining: 5.45s\n",
      "10:\tlearn: 1968.7362841\ttotal: 952ms\tremaining: 3.38s\n",
      "20:\tlearn: 1863.1772865\ttotal: 1.75s\tremaining: 2.41s\n",
      "30:\tlearn: 1815.5642646\ttotal: 2.52s\tremaining: 1.54s\n",
      "40:\tlearn: 1788.3990228\ttotal: 3.27s\tremaining: 718ms\n",
      "49:\tlearn: 1761.3283090\ttotal: 3.99s\tremaining: 0us\n",
      "0:\tlearn: 3579.9492443\ttotal: 110ms\tremaining: 5.39s\n",
      "10:\tlearn: 1977.5378265\ttotal: 1.02s\tremaining: 3.61s\n",
      "20:\tlearn: 1859.3267082\ttotal: 1.84s\tremaining: 2.54s\n",
      "30:\tlearn: 1812.3692842\ttotal: 2.63s\tremaining: 1.61s\n",
      "40:\tlearn: 1779.6887184\ttotal: 3.39s\tremaining: 743ms\n",
      "49:\tlearn: 1759.5846779\ttotal: 4.06s\tremaining: 0us\n",
      "0:\tlearn: 3585.2394788\ttotal: 100ms\tremaining: 9.9s\n",
      "90:\tlearn: 1700.4361200\ttotal: 6.77s\tremaining: 669ms\n",
      "99:\tlearn: 1691.5813364\ttotal: 7.41s\tremaining: 0us\n",
      "0:\tlearn: 3580.6093836\ttotal: 106ms\tremaining: 10.5s\n",
      "10:\tlearn: 1968.7362841\ttotal: 928ms\tremaining: 7.51s\n",
      "20:\tlearn: 1863.1772865\ttotal: 1.72s\tremaining: 6.46s\n",
      "30:\tlearn: 1815.5642646\ttotal: 2.46s\tremaining: 5.48s\n",
      "40:\tlearn: 1788.3990228\ttotal: 3.19s\tremaining: 4.59s\n",
      "50:\tlearn: 1761.0733110\ttotal: 3.91s\tremaining: 3.76s\n",
      "60:\tlearn: 1742.6748129\ttotal: 4.65s\tremaining: 2.97s\n",
      "70:\tlearn: 1728.4002567\ttotal: 5.35s\tremaining: 2.19s\n",
      "80:\tlearn: 1717.7708412\ttotal: 6.02s\tremaining: 1.41s\n",
      "90:\tlearn: 1705.8946994\ttotal: 6.69s\tremaining: 662ms\n",
      "99:\tlearn: 1694.4392615\ttotal: 7.33s\tremaining: 0us\n",
      "0:\tlearn: 3579.9492443\ttotal: 107ms\tremaining: 10.6s\n",
      "10:\tlearn: 1977.5378265\ttotal: 1.01s\tremaining: 8.22s\n",
      "20:\tlearn: 1859.3267082\ttotal: 1.81s\tremaining: 6.8s\n",
      "30:\tlearn: 1812.3692842\ttotal: 2.54s\tremaining: 5.65s\n",
      "40:\tlearn: 1779.6887184\ttotal: 3.27s\tremaining: 4.7s\n",
      "50:\tlearn: 1757.4679325\ttotal: 4s\tremaining: 3.85s\n",
      "60:\tlearn: 1734.0923664\ttotal: 4.71s\tremaining: 3.01s\n",
      "70:\tlearn: 1720.0451219\ttotal: 5.42s\tremaining: 2.21s\n",
      "80:\tlearn: 1705.8576330\ttotal: 6.13s\tremaining: 1.44s\n",
      "90:\tlearn: 1696.3264515\ttotal: 6.81s\tremaining: 674ms\n",
      "99:\tlearn: 1689.9810865\ttotal: 7.44s\tremaining: 0us\n",
      "0:\tlearn: 4386.1950862\ttotal: 102ms\tremaining: 4.98s\n",
      "10:\tlearn: 4112.4277965\ttotal: 988ms\tremaining: 3.5s\n",
      "20:\tlearn: 3870.7092923\ttotal: 1.83s\tremaining: 2.53s\n",
      "30:\tlearn: 3656.3094993\ttotal: 2.71s\tremaining: 1.66s\n",
      "40:\tlearn: 3466.6760300\ttotal: 3.57s\tremaining: 784ms\n",
      "49:\tlearn: 3313.4316906\ttotal: 4.33s\tremaining: 0us\n",
      "0:\tlearn: 4386.2593289\ttotal: 108ms\tremaining: 5.27s\n",
      "10:\tlearn: 4112.9226663\ttotal: 1.01s\tremaining: 3.6s\n",
      "20:\tlearn: 3872.3367724\ttotal: 1.91s\tremaining: 2.63s\n",
      "30:\tlearn: 3657.8286919\ttotal: 2.8s\tremaining: 1.72s\n",
      "40:\tlearn: 3466.8092390\ttotal: 3.67s\tremaining: 807ms\n",
      "49:\tlearn: 3315.5078214\ttotal: 4.49s\tremaining: 0us\n",
      "0:\tlearn: 4391.1876166\ttotal: 112ms\tremaining: 5.48s\n",
      "10:\tlearn: 4115.7684975\ttotal: 1.02s\tremaining: 3.61s\n",
      "20:\tlearn: 3872.9088074\ttotal: 1.94s\tremaining: 2.68s\n",
      "30:\tlearn: 3657.1575968\ttotal: 2.81s\tremaining: 1.72s\n",
      "40:\tlearn: 3465.5997316\ttotal: 3.69s\tremaining: 810ms\n",
      "49:\tlearn: 3312.0942748\ttotal: 4.51s\tremaining: 0us\n",
      "0:\tlearn: 4386.1950862\ttotal: 101ms\tremaining: 10s\n",
      "10:\tlearn: 4112.4277965\ttotal: 999ms\tremaining: 8.08s\n",
      "20:\tlearn: 3870.7092923\ttotal: 1.87s\tremaining: 7.03s\n",
      "30:\tlearn: 3656.3094993\ttotal: 2.75s\tremaining: 6.12s\n",
      "40:\tlearn: 3466.6760300\ttotal: 3.62s\tremaining: 5.21s\n",
      "50:\tlearn: 3297.5950347\ttotal: 4.49s\tremaining: 4.31s\n",
      "60:\tlearn: 3150.0399160\ttotal: 5.33s\tremaining: 3.4s\n",
      "70:\tlearn: 3018.4204930\ttotal: 6.22s\tremaining: 2.54s\n",
      "80:\tlearn: 2901.6683578\ttotal: 7.08s\tremaining: 1.66s\n",
      "90:\tlearn: 2797.6751275\ttotal: 7.91s\tremaining: 782ms\n",
      "99:\tlearn: 2713.9665216\ttotal: 8.66s\tremaining: 0us\n",
      "0:\tlearn: 4386.2593289\ttotal: 112ms\tremaining: 11.1s\n",
      "10:\tlearn: 4112.9226663\ttotal: 993ms\tremaining: 8.04s\n",
      "20:\tlearn: 3872.3367724\ttotal: 1.87s\tremaining: 7.03s\n",
      "30:\tlearn: 3657.8286919\ttotal: 2.75s\tremaining: 6.11s\n",
      "40:\tlearn: 3466.8092390\ttotal: 3.61s\tremaining: 5.2s\n",
      "50:\tlearn: 3299.4810515\ttotal: 4.49s\tremaining: 4.31s\n",
      "60:\tlearn: 3150.8132537\ttotal: 5.35s\tremaining: 3.42s\n",
      "70:\tlearn: 3018.9068127\ttotal: 6.28s\tremaining: 2.56s\n",
      "80:\tlearn: 2902.9458148\ttotal: 7.14s\tremaining: 1.67s\n",
      "90:\tlearn: 2799.8437155\ttotal: 8s\tremaining: 792ms\n",
      "99:\tlearn: 2717.6732109\ttotal: 8.77s\tremaining: 0us\n",
      "0:\tlearn: 4391.1876166\ttotal: 110ms\tremaining: 10.9s\n",
      "10:\tlearn: 4115.7684975\ttotal: 984ms\tremaining: 7.96s\n",
      "20:\tlearn: 3872.9088074\ttotal: 1.84s\tremaining: 6.92s\n",
      "30:\tlearn: 3657.1575968\ttotal: 2.72s\tremaining: 6.06s\n",
      "40:\tlearn: 3465.5997316\ttotal: 3.58s\tremaining: 5.15s\n",
      "50:\tlearn: 3296.2017953\ttotal: 4.44s\tremaining: 4.27s\n",
      "60:\tlearn: 3146.5390403\ttotal: 5.29s\tremaining: 3.38s\n",
      "70:\tlearn: 3013.6537284\ttotal: 6.17s\tremaining: 2.52s\n",
      "80:\tlearn: 2897.1396034\ttotal: 7.04s\tremaining: 1.65s\n",
      "90:\tlearn: 2793.7944909\ttotal: 7.89s\tremaining: 781ms\n",
      "99:\tlearn: 2709.5818294\ttotal: 8.68s\tremaining: 0us\n",
      "0:\tlearn: 3585.3419974\ttotal: 96.1ms\tremaining: 4.71s\n",
      "10:\tlearn: 1978.5076905\ttotal: 945ms\tremaining: 3.35s\n",
      "20:\tlearn: 1853.1284155\ttotal: 1.7s\tremaining: 2.35s\n",
      "30:\tlearn: 1808.9580303\ttotal: 2.45s\tremaining: 1.5s\n",
      "40:\tlearn: 1773.6208282\ttotal: 3.2s\tremaining: 703ms\n",
      "49:\tlearn: 1751.8975782\ttotal: 3.88s\tremaining: 0us\n",
      "0:\tlearn: 3580.7060245\ttotal: 106ms\tremaining: 5.19s\n",
      "10:\tlearn: 1968.5928390\ttotal: 970ms\tremaining: 3.44s\n",
      "20:\tlearn: 1858.3481218\ttotal: 1.73s\tremaining: 2.39s\n",
      "30:\tlearn: 1810.0598613\ttotal: 2.47s\tremaining: 1.51s\n",
      "40:\tlearn: 1781.2569233\ttotal: 3.21s\tremaining: 705ms\n",
      "49:\tlearn: 1770.9406485\ttotal: 3.84s\tremaining: 0us\n",
      "0:\tlearn: 3580.0495939\ttotal: 111ms\tremaining: 5.44s\n",
      "10:\tlearn: 1977.6658337\ttotal: 979ms\tremaining: 3.47s\n",
      "20:\tlearn: 1863.7304162\ttotal: 1.75s\tremaining: 2.42s\n",
      "30:\tlearn: 1815.0677345\ttotal: 2.65s\tremaining: 1.62s\n",
      "40:\tlearn: 1784.6960177\ttotal: 3.41s\tremaining: 749ms\n",
      "49:\tlearn: 1760.3442497\ttotal: 4.08s\tremaining: 0us\n",
      "0:\tlearn: 3585.3419974\ttotal: 97ms\tremaining: 9.6s\n",
      "10:\tlearn: 1978.5076905\ttotal: 974ms\tremaining: 7.88s\n",
      "20:\tlearn: 1853.1284155\ttotal: 1.75s\tremaining: 6.57s\n",
      "30:\tlearn: 1808.9580303\ttotal: 2.5s\tremaining: 5.56s\n",
      "40:\tlearn: 1773.6208282\ttotal: 3.26s\tremaining: 4.69s\n",
      "50:\tlearn: 1750.0979919\ttotal: 4.01s\tremaining: 3.86s\n",
      "60:\tlearn: 1732.9140346\ttotal: 4.76s\tremaining: 3.04s\n",
      "70:\tlearn: 1717.7502622\ttotal: 5.5s\tremaining: 2.25s\n",
      "80:\tlearn: 1705.5917811\ttotal: 6.29s\tremaining: 1.48s\n",
      "90:\tlearn: 1700.3270556\ttotal: 6.98s\tremaining: 690ms\n",
      "99:\tlearn: 1698.2288440\ttotal: 7.53s\tremaining: 0us\n",
      "0:\tlearn: 3580.7060245\ttotal: 123ms\tremaining: 12.1s\n",
      "10:\tlearn: 1968.5928390\ttotal: 1.02s\tremaining: 8.24s\n",
      "20:\tlearn: 1858.3481218\ttotal: 1.85s\tremaining: 6.97s\n",
      "30:\tlearn: 1810.0598613\ttotal: 2.66s\tremaining: 5.92s\n",
      "40:\tlearn: 1781.2569233\ttotal: 3.44s\tremaining: 4.95s\n",
      "50:\tlearn: 1769.7087130\ttotal: 4.15s\tremaining: 3.98s\n",
      "60:\tlearn: 1739.9953758\ttotal: 4.95s\tremaining: 3.17s\n",
      "70:\tlearn: 1730.0595159\ttotal: 5.64s\tremaining: 2.3s\n",
      "80:\tlearn: 1719.6926530\ttotal: 6.38s\tremaining: 1.5s\n",
      "90:\tlearn: 1711.8043192\ttotal: 7.05s\tremaining: 697ms\n",
      "99:\tlearn: 1704.5081150\ttotal: 7.68s\tremaining: 0us\n",
      "0:\tlearn: 3580.0495939\ttotal: 111ms\tremaining: 11s\n",
      "10:\tlearn: 1977.6658337\ttotal: 993ms\tremaining: 8.04s\n",
      "20:\tlearn: 1863.7304162\ttotal: 1.81s\tremaining: 6.82s\n",
      "30:\tlearn: 1815.0677345\ttotal: 2.6s\tremaining: 5.79s\n",
      "40:\tlearn: 1784.6960177\ttotal: 3.42s\tremaining: 4.92s\n",
      "50:\tlearn: 1756.9769506\ttotal: 4.21s\tremaining: 4.04s\n",
      "60:\tlearn: 1743.8341882\ttotal: 4.91s\tremaining: 3.14s\n",
      "70:\tlearn: 1723.8122675\ttotal: 5.67s\tremaining: 2.31s\n",
      "80:\tlearn: 1712.8418232\ttotal: 6.4s\tremaining: 1.5s\n",
      "90:\tlearn: 1704.1337746\ttotal: 7.11s\tremaining: 703ms\n",
      "99:\tlearn: 1692.0312438\ttotal: 7.8s\tremaining: 0us\n",
      "0:\tlearn: 4386.1990324\ttotal: 97ms\tremaining: 4.75s\n",
      "10:\tlearn: 4112.4683117\ttotal: 967ms\tremaining: 3.43s\n",
      "20:\tlearn: 3870.7812877\ttotal: 1.82s\tremaining: 2.52s\n",
      "30:\tlearn: 3656.4100960\ttotal: 2.68s\tremaining: 1.65s\n",
      "40:\tlearn: 3466.8016666\ttotal: 3.55s\tremaining: 779ms\n",
      "49:\tlearn: 3313.5780309\ttotal: 4.34s\tremaining: 0us\n",
      "0:\tlearn: 4386.2630437\ttotal: 110ms\tremaining: 5.37s\n",
      "10:\tlearn: 4112.9643991\ttotal: 991ms\tremaining: 3.51s\n",
      "20:\tlearn: 3872.4114216\ttotal: 1.86s\tremaining: 2.57s\n",
      "30:\tlearn: 3657.9291276\ttotal: 2.74s\tremaining: 1.68s\n",
      "40:\tlearn: 3466.9367368\ttotal: 3.59s\tremaining: 787ms\n",
      "49:\tlearn: 3315.6527064\ttotal: 4.38s\tremaining: 0us\n",
      "0:\tlearn: 4391.1914678\ttotal: 107ms\tremaining: 5.24s\n",
      "10:\tlearn: 4115.8110930\ttotal: 983ms\tremaining: 3.49s\n",
      "20:\tlearn: 3872.9853672\ttotal: 1.87s\tremaining: 2.58s\n",
      "30:\tlearn: 3657.2612046\ttotal: 2.74s\tremaining: 1.68s\n",
      "40:\tlearn: 3465.7273994\ttotal: 3.63s\tremaining: 798ms\n",
      "49:\tlearn: 3312.2303933\ttotal: 4.4s\tremaining: 0us\n",
      "0:\tlearn: 4386.1990324\ttotal: 95.9ms\tremaining: 9.49s\n",
      "10:\tlearn: 4112.4683117\ttotal: 950ms\tremaining: 7.69s\n",
      "20:\tlearn: 3870.7812877\ttotal: 1.81s\tremaining: 6.8s\n",
      "30:\tlearn: 3656.4100960\ttotal: 2.65s\tremaining: 5.89s\n",
      "40:\tlearn: 3466.8016666\ttotal: 3.49s\tremaining: 5.03s\n",
      "50:\tlearn: 3297.7431364\ttotal: 4.35s\tremaining: 4.18s\n",
      "60:\tlearn: 3150.2034947\ttotal: 5.19s\tremaining: 3.32s\n",
      "70:\tlearn: 3018.6219673\ttotal: 6.04s\tremaining: 2.46s\n",
      "80:\tlearn: 2901.4283161\ttotal: 6.93s\tremaining: 1.62s\n",
      "90:\tlearn: 2797.0342553\ttotal: 7.8s\tremaining: 772ms\n",
      "99:\tlearn: 2713.9665405\ttotal: 8.56s\tremaining: 0us\n",
      "0:\tlearn: 4386.2630437\ttotal: 108ms\tremaining: 10.7s\n",
      "10:\tlearn: 4112.9643991\ttotal: 981ms\tremaining: 7.93s\n",
      "20:\tlearn: 3872.4114216\ttotal: 1.85s\tremaining: 6.97s\n",
      "30:\tlearn: 3657.9291276\ttotal: 2.74s\tremaining: 6.1s\n",
      "40:\tlearn: 3466.9367368\ttotal: 3.6s\tremaining: 5.18s\n",
      "50:\tlearn: 3299.6274869\ttotal: 4.46s\tremaining: 4.29s\n",
      "60:\tlearn: 3150.9761177\ttotal: 5.3s\tremaining: 3.39s\n",
      "70:\tlearn: 3019.0801466\ttotal: 6.16s\tremaining: 2.52s\n",
      "80:\tlearn: 2903.1229536\ttotal: 7.05s\tremaining: 1.65s\n",
      "90:\tlearn: 2800.0738347\ttotal: 7.95s\tremaining: 786ms\n",
      "99:\tlearn: 2717.7453196\ttotal: 8.73s\tremaining: 0us\n",
      "0:\tlearn: 4391.1914678\ttotal: 105ms\tremaining: 10.4s\n",
      "10:\tlearn: 4115.8110930\ttotal: 983ms\tremaining: 7.95s\n",
      "20:\tlearn: 3872.9853672\ttotal: 1.86s\tremaining: 7s\n",
      "30:\tlearn: 3657.2612046\ttotal: 2.74s\tremaining: 6.1s\n",
      "40:\tlearn: 3465.7273994\ttotal: 3.63s\tremaining: 5.22s\n",
      "50:\tlearn: 3296.3397458\ttotal: 4.48s\tremaining: 4.31s\n",
      "60:\tlearn: 3146.6922103\ttotal: 5.34s\tremaining: 3.41s\n",
      "70:\tlearn: 3013.8185889\ttotal: 6.21s\tremaining: 2.54s\n",
      "80:\tlearn: 2897.3119019\ttotal: 7.1s\tremaining: 1.67s\n",
      "90:\tlearn: 2793.9553906\ttotal: 8.03s\tremaining: 795ms\n",
      "99:\tlearn: 2710.0300828\ttotal: 8.84s\tremaining: 0us\n",
      "0:\tlearn: 3585.4444589\ttotal: 102ms\tremaining: 4.97s\n",
      "10:\tlearn: 1978.6321967\ttotal: 985ms\tremaining: 3.49s\n",
      "20:\tlearn: 1853.1461655\ttotal: 1.75s\tremaining: 2.41s\n",
      "30:\tlearn: 1810.5568373\ttotal: 2.53s\tremaining: 1.55s\n",
      "40:\tlearn: 1784.8371282\ttotal: 3.29s\tremaining: 723ms\n",
      "49:\tlearn: 1765.4247264\ttotal: 3.96s\tremaining: 0us\n",
      "0:\tlearn: 3580.8026079\ttotal: 107ms\tremaining: 5.22s\n",
      "10:\tlearn: 1968.7395219\ttotal: 950ms\tremaining: 3.37s\n",
      "20:\tlearn: 1858.5569117\ttotal: 1.74s\tremaining: 2.41s\n",
      "30:\tlearn: 1811.8632752\ttotal: 2.51s\tremaining: 1.54s\n",
      "40:\tlearn: 1786.5726802\ttotal: 3.32s\tremaining: 729ms\n",
      "49:\tlearn: 1761.0569140\ttotal: 3.99s\tremaining: 0us\n",
      "0:\tlearn: 3580.1498692\ttotal: 114ms\tremaining: 5.56s\n",
      "10:\tlearn: 1979.2534246\ttotal: 991ms\tremaining: 3.51s\n",
      "20:\tlearn: 1859.3799366\ttotal: 1.75s\tremaining: 2.41s\n",
      "30:\tlearn: 1812.0338373\ttotal: 2.51s\tremaining: 1.54s\n",
      "40:\tlearn: 1784.6783914\ttotal: 3.26s\tremaining: 716ms\n",
      "49:\tlearn: 1757.6623026\ttotal: 3.92s\tremaining: 0us\n",
      "0:\tlearn: 3585.4444589\ttotal: 99.5ms\tremaining: 9.85s\n",
      "10:\tlearn: 1978.6321967\ttotal: 956ms\tremaining: 7.73s\n",
      "20:\tlearn: 1853.1461655\ttotal: 1.73s\tremaining: 6.52s\n",
      "30:\tlearn: 1810.5568373\ttotal: 2.5s\tremaining: 5.58s\n",
      "40:\tlearn: 1784.8371282\ttotal: 3.29s\tremaining: 4.74s\n",
      "50:\tlearn: 1761.3938926\ttotal: 4.03s\tremaining: 3.87s\n",
      "60:\tlearn: 1745.6951576\ttotal: 4.72s\tremaining: 3.02s\n",
      "70:\tlearn: 1730.2465001\ttotal: 5.45s\tremaining: 2.23s\n",
      "80:\tlearn: 1721.6494955\ttotal: 6.1s\tremaining: 1.43s\n",
      "90:\tlearn: 1711.1744397\ttotal: 6.82s\tremaining: 675ms\n",
      "99:\tlearn: 1707.5374713\ttotal: 7.41s\tremaining: 0us\n",
      "0:\tlearn: 3580.8026079\ttotal: 105ms\tremaining: 10.4s\n",
      "10:\tlearn: 1968.7395219\ttotal: 958ms\tremaining: 7.75s\n",
      "20:\tlearn: 1858.5569117\ttotal: 1.72s\tremaining: 6.46s\n",
      "30:\tlearn: 1811.8632752\ttotal: 2.45s\tremaining: 5.45s\n",
      "40:\tlearn: 1786.5726802\ttotal: 3.21s\tremaining: 4.61s\n",
      "50:\tlearn: 1758.4700612\ttotal: 3.91s\tremaining: 3.76s\n",
      "60:\tlearn: 1744.6725217\ttotal: 4.65s\tremaining: 2.97s\n",
      "70:\tlearn: 1738.0605894\ttotal: 5.31s\tremaining: 2.17s\n",
      "80:\tlearn: 1724.7270616\ttotal: 6.03s\tremaining: 1.41s\n",
      "90:\tlearn: 1713.3231983\ttotal: 6.74s\tremaining: 666ms\n",
      "99:\tlearn: 1709.8604538\ttotal: 7.3s\tremaining: 0us\n",
      "0:\tlearn: 3580.1498692\ttotal: 106ms\tremaining: 10.5s\n",
      "10:\tlearn: 1979.2534246\ttotal: 955ms\tremaining: 7.72s\n",
      "20:\tlearn: 1859.3799366\ttotal: 1.71s\tremaining: 6.44s\n",
      "30:\tlearn: 1812.0338373\ttotal: 2.48s\tremaining: 5.53s\n",
      "40:\tlearn: 1784.6783914\ttotal: 3.23s\tremaining: 4.66s\n",
      "50:\tlearn: 1757.0576370\ttotal: 3.96s\tremaining: 3.81s\n",
      "60:\tlearn: 1734.2469527\ttotal: 4.78s\tremaining: 3.06s\n",
      "70:\tlearn: 1721.4443622\ttotal: 5.48s\tremaining: 2.24s\n",
      "80:\tlearn: 1715.9760871\ttotal: 6.24s\tremaining: 1.46s\n",
      "90:\tlearn: 1703.1043215\ttotal: 6.97s\tremaining: 690ms\n",
      "99:\tlearn: 1698.7924962\ttotal: 7.58s\tremaining: 0us\n",
      "0:\tlearn: 4383.3717788\ttotal: 162ms\tremaining: 7.92s\n",
      "10:\tlearn: 4081.1688820\ttotal: 1.44s\tremaining: 5.09s\n",
      "20:\tlearn: 3813.4333997\ttotal: 2.71s\tremaining: 3.74s\n",
      "30:\tlearn: 3575.5868544\ttotal: 4.03s\tremaining: 2.47s\n",
      "40:\tlearn: 3364.3123467\ttotal: 5.47s\tremaining: 1.2s\n",
      "49:\tlearn: 3194.6745652\ttotal: 6.64s\tremaining: 0us\n",
      "0:\tlearn: 4383.7372512\ttotal: 174ms\tremaining: 8.51s\n",
      "10:\tlearn: 4082.2401822\ttotal: 1.49s\tremaining: 5.28s\n",
      "20:\tlearn: 3813.9623134\ttotal: 2.83s\tremaining: 3.9s\n",
      "30:\tlearn: 3576.5050042\ttotal: 4.21s\tremaining: 2.58s\n",
      "40:\tlearn: 3364.2161103\ttotal: 5.58s\tremaining: 1.23s\n",
      "49:\tlearn: 3194.9309970\ttotal: 6.79s\tremaining: 0us\n",
      "0:\tlearn: 4388.4337589\ttotal: 171ms\tremaining: 8.39s\n",
      "10:\tlearn: 4086.6386864\ttotal: 1.6s\tremaining: 5.67s\n",
      "20:\tlearn: 3817.6059950\ttotal: 2.92s\tremaining: 4.04s\n",
      "30:\tlearn: 3578.7330813\ttotal: 4.27s\tremaining: 2.62s\n",
      "40:\tlearn: 3367.3262997\ttotal: 5.65s\tremaining: 1.24s\n",
      "49:\tlearn: 3196.7099483\ttotal: 6.88s\tremaining: 0us\n",
      "0:\tlearn: 4383.3717788\ttotal: 171ms\tremaining: 16.9s\n",
      "10:\tlearn: 4081.1688820\ttotal: 1.49s\tremaining: 12.1s\n",
      "20:\tlearn: 3813.4333997\ttotal: 2.82s\tremaining: 10.6s\n",
      "30:\tlearn: 3575.5868544\ttotal: 4.21s\tremaining: 9.37s\n",
      "40:\tlearn: 3364.3123467\ttotal: 5.53s\tremaining: 7.96s\n",
      "50:\tlearn: 3177.0240444\ttotal: 6.87s\tremaining: 6.6s\n",
      "60:\tlearn: 3011.3396670\ttotal: 8.2s\tremaining: 5.24s\n",
      "70:\tlearn: 2864.4978347\ttotal: 9.49s\tremaining: 3.88s\n",
      "80:\tlearn: 2734.7397832\ttotal: 10.8s\tremaining: 2.53s\n",
      "90:\tlearn: 2620.0549073\ttotal: 12.1s\tremaining: 1.19s\n",
      "99:\tlearn: 2528.6897934\ttotal: 13.3s\tremaining: 0us\n",
      "0:\tlearn: 4383.7372512\ttotal: 171ms\tremaining: 16.9s\n",
      "10:\tlearn: 4082.2401822\ttotal: 1.47s\tremaining: 11.9s\n",
      "20:\tlearn: 3813.9623134\ttotal: 2.78s\tremaining: 10.5s\n",
      "30:\tlearn: 3576.5050042\ttotal: 4.1s\tremaining: 9.13s\n",
      "40:\tlearn: 3364.2161103\ttotal: 5.4s\tremaining: 7.77s\n",
      "50:\tlearn: 3176.8581807\ttotal: 6.7s\tremaining: 6.44s\n",
      "60:\tlearn: 3010.5198478\ttotal: 8.01s\tremaining: 5.12s\n",
      "70:\tlearn: 2864.4576284\ttotal: 9.33s\tremaining: 3.81s\n",
      "80:\tlearn: 2734.7429449\ttotal: 10.7s\tremaining: 2.5s\n",
      "90:\tlearn: 2620.2650007\ttotal: 12s\tremaining: 1.18s\n",
      "99:\tlearn: 2529.8446569\ttotal: 13.2s\tremaining: 0us\n",
      "0:\tlearn: 4388.4337589\ttotal: 171ms\tremaining: 16.9s\n",
      "10:\tlearn: 4086.6386864\ttotal: 1.47s\tremaining: 11.9s\n",
      "20:\tlearn: 3817.6059950\ttotal: 2.72s\tremaining: 10.2s\n",
      "30:\tlearn: 3578.7330813\ttotal: 4.03s\tremaining: 8.97s\n",
      "40:\tlearn: 3367.3262997\ttotal: 5.44s\tremaining: 7.83s\n",
      "50:\tlearn: 3178.9769554\ttotal: 6.79s\tremaining: 6.53s\n",
      "60:\tlearn: 3012.7641451\ttotal: 8.15s\tremaining: 5.21s\n",
      "70:\tlearn: 2865.5863305\ttotal: 9.5s\tremaining: 3.88s\n",
      "80:\tlearn: 2735.6475893\ttotal: 10.8s\tremaining: 2.54s\n",
      "90:\tlearn: 2620.8861318\ttotal: 12.2s\tremaining: 1.21s\n",
      "99:\tlearn: 2530.1307477\ttotal: 13.4s\tremaining: 0us\n",
      "0:\tlearn: 3495.7645853\ttotal: 185ms\tremaining: 9.06s\n",
      "10:\tlearn: 1817.0169129\ttotal: 1.45s\tremaining: 5.14s\n",
      "20:\tlearn: 1734.1558108\ttotal: 2.57s\tremaining: 3.56s\n",
      "30:\tlearn: 1686.2644330\ttotal: 3.71s\tremaining: 2.27s\n",
      "40:\tlearn: 1656.1619131\ttotal: 4.78s\tremaining: 1.05s\n",
      "49:\tlearn: 1638.0825015\ttotal: 5.74s\tremaining: 0us\n",
      "0:\tlearn: 3500.6741626\ttotal: 175ms\tremaining: 8.57s\n",
      "10:\tlearn: 1811.3285227\ttotal: 1.52s\tremaining: 5.38s\n",
      "20:\tlearn: 1724.6996806\ttotal: 2.71s\tremaining: 3.74s\n",
      "30:\tlearn: 1683.6426552\ttotal: 3.98s\tremaining: 2.44s\n",
      "40:\tlearn: 1655.5615644\ttotal: 5.08s\tremaining: 1.11s\n",
      "49:\tlearn: 1635.1957880\ttotal: 6.1s\tremaining: 0us\n",
      "0:\tlearn: 3492.4632404\ttotal: 169ms\tremaining: 8.27s\n",
      "10:\tlearn: 1807.5117251\ttotal: 1.53s\tremaining: 5.43s\n",
      "20:\tlearn: 1724.8906651\ttotal: 2.72s\tremaining: 3.75s\n",
      "30:\tlearn: 1686.0442266\ttotal: 3.87s\tremaining: 2.37s\n",
      "40:\tlearn: 1655.9841771\ttotal: 4.94s\tremaining: 1.08s\n",
      "49:\tlearn: 1635.6373630\ttotal: 5.9s\tremaining: 0us\n",
      "0:\tlearn: 3495.7645853\ttotal: 165ms\tremaining: 16.3s\n",
      "10:\tlearn: 1817.0169129\ttotal: 1.44s\tremaining: 11.7s\n",
      "20:\tlearn: 1734.1558108\ttotal: 2.56s\tremaining: 9.65s\n",
      "30:\tlearn: 1686.2644330\ttotal: 3.69s\tremaining: 8.21s\n",
      "40:\tlearn: 1656.1619131\ttotal: 4.72s\tremaining: 6.8s\n",
      "50:\tlearn: 1636.9813325\ttotal: 5.74s\tremaining: 5.51s\n",
      "60:\tlearn: 1611.7087224\ttotal: 6.74s\tremaining: 4.31s\n",
      "70:\tlearn: 1591.6400854\ttotal: 7.78s\tremaining: 3.17s\n",
      "80:\tlearn: 1577.1195037\ttotal: 8.76s\tremaining: 2.05s\n",
      "90:\tlearn: 1558.9440024\ttotal: 9.82s\tremaining: 971ms\n",
      "99:\tlearn: 1545.5464941\ttotal: 10.8s\tremaining: 0us\n",
      "0:\tlearn: 3500.6741626\ttotal: 177ms\tremaining: 17.5s\n",
      "10:\tlearn: 1811.3285227\ttotal: 1.49s\tremaining: 12.1s\n",
      "20:\tlearn: 1724.6996806\ttotal: 2.64s\tremaining: 9.93s\n",
      "30:\tlearn: 1683.6426552\ttotal: 3.78s\tremaining: 8.42s\n",
      "40:\tlearn: 1655.5615644\ttotal: 4.83s\tremaining: 6.95s\n",
      "50:\tlearn: 1631.5663551\ttotal: 5.88s\tremaining: 5.64s\n",
      "60:\tlearn: 1604.2856132\ttotal: 6.98s\tremaining: 4.46s\n",
      "70:\tlearn: 1591.9819287\ttotal: 7.96s\tremaining: 3.25s\n",
      "80:\tlearn: 1576.7596112\ttotal: 8.96s\tremaining: 2.1s\n",
      "90:\tlearn: 1566.9302762\ttotal: 9.96s\tremaining: 985ms\n",
      "99:\tlearn: 1554.8299037\ttotal: 10.9s\tremaining: 0us\n",
      "0:\tlearn: 3492.4632404\ttotal: 169ms\tremaining: 16.7s\n",
      "10:\tlearn: 1807.5117251\ttotal: 1.5s\tremaining: 12.1s\n",
      "20:\tlearn: 1724.8906651\ttotal: 2.66s\tremaining: 10s\n",
      "30:\tlearn: 1686.0442266\ttotal: 3.8s\tremaining: 8.45s\n",
      "40:\tlearn: 1655.9841771\ttotal: 4.9s\tremaining: 7.05s\n",
      "50:\tlearn: 1632.1716667\ttotal: 5.97s\tremaining: 5.73s\n",
      "60:\tlearn: 1605.4815728\ttotal: 7.01s\tremaining: 4.48s\n",
      "70:\tlearn: 1587.2359186\ttotal: 8.06s\tremaining: 3.29s\n",
      "80:\tlearn: 1578.9392480\ttotal: 8.99s\tremaining: 2.11s\n",
      "90:\tlearn: 1565.0069033\ttotal: 10s\tremaining: 991ms\n",
      "99:\tlearn: 1550.4467026\ttotal: 11s\tremaining: 0us\n",
      "0:\tlearn: 4383.3872958\ttotal: 163ms\tremaining: 7.97s\n",
      "10:\tlearn: 4081.3508373\ttotal: 1.44s\tremaining: 5.12s\n",
      "20:\tlearn: 3813.8375586\ttotal: 2.76s\tremaining: 3.81s\n",
      "30:\tlearn: 3576.0180058\ttotal: 4.08s\tremaining: 2.5s\n",
      "40:\tlearn: 3363.8122880\ttotal: 5.38s\tremaining: 1.18s\n",
      "49:\tlearn: 3194.4767786\ttotal: 6.64s\tremaining: 0us\n",
      "0:\tlearn: 4383.7567432\ttotal: 182ms\tremaining: 8.93s\n",
      "10:\tlearn: 4082.4420045\ttotal: 1.52s\tremaining: 5.4s\n",
      "20:\tlearn: 3814.3183200\ttotal: 2.88s\tremaining: 3.98s\n",
      "30:\tlearn: 3576.4938759\ttotal: 4.25s\tremaining: 2.61s\n",
      "40:\tlearn: 3365.3477335\ttotal: 5.65s\tremaining: 1.24s\n",
      "49:\tlearn: 3195.0848057\ttotal: 6.84s\tremaining: 0us\n",
      "0:\tlearn: 4388.4515112\ttotal: 178ms\tremaining: 8.7s\n",
      "10:\tlearn: 4086.8210648\ttotal: 1.53s\tremaining: 5.43s\n",
      "20:\tlearn: 3817.9758148\ttotal: 2.84s\tremaining: 3.93s\n",
      "30:\tlearn: 3578.4177619\ttotal: 4.18s\tremaining: 2.56s\n",
      "40:\tlearn: 3366.2085816\ttotal: 5.49s\tremaining: 1.21s\n",
      "49:\tlearn: 3196.4099592\ttotal: 6.69s\tremaining: 0us\n",
      "0:\tlearn: 4383.3872958\ttotal: 162ms\tremaining: 16.1s\n",
      "10:\tlearn: 4081.3508373\ttotal: 1.66s\tremaining: 13.4s\n",
      "20:\tlearn: 3813.8375586\ttotal: 3.6s\tremaining: 13.5s\n",
      "30:\tlearn: 3576.0180058\ttotal: 4.97s\tremaining: 11.1s\n",
      "40:\tlearn: 3363.8122880\ttotal: 7.02s\tremaining: 10.1s\n",
      "50:\tlearn: 3177.0055077\ttotal: 8.33s\tremaining: 8s\n",
      "60:\tlearn: 3011.0350409\ttotal: 9.66s\tremaining: 6.17s\n",
      "70:\tlearn: 2864.7644502\ttotal: 10.9s\tremaining: 4.47s\n",
      "80:\tlearn: 2735.4134454\ttotal: 12.3s\tremaining: 2.88s\n",
      "90:\tlearn: 2621.5193630\ttotal: 13.6s\tremaining: 1.34s\n",
      "99:\tlearn: 2530.0719719\ttotal: 14.8s\tremaining: 0us\n",
      "0:\tlearn: 4383.7567432\ttotal: 171ms\tremaining: 17s\n",
      "10:\tlearn: 4082.4420045\ttotal: 1.5s\tremaining: 12.1s\n",
      "20:\tlearn: 3814.3183200\ttotal: 2.85s\tremaining: 10.7s\n",
      "30:\tlearn: 3576.4938759\ttotal: 4.25s\tremaining: 9.46s\n",
      "40:\tlearn: 3365.3477335\ttotal: 5.58s\tremaining: 8.03s\n",
      "50:\tlearn: 3177.2511939\ttotal: 6.89s\tremaining: 6.62s\n",
      "60:\tlearn: 3012.2142412\ttotal: 8.18s\tremaining: 5.23s\n",
      "70:\tlearn: 2865.5887546\ttotal: 9.46s\tremaining: 3.87s\n",
      "80:\tlearn: 2735.7627937\ttotal: 10.7s\tremaining: 2.52s\n",
      "90:\tlearn: 2621.3697429\ttotal: 12s\tremaining: 1.19s\n",
      "99:\tlearn: 2530.5364169\ttotal: 13.2s\tremaining: 0us\n",
      "0:\tlearn: 4388.4515112\ttotal: 166ms\tremaining: 16.4s\n",
      "10:\tlearn: 4086.8210648\ttotal: 1.51s\tremaining: 12.2s\n",
      "20:\tlearn: 3817.9758148\ttotal: 2.79s\tremaining: 10.5s\n",
      "30:\tlearn: 3578.4177619\ttotal: 4.11s\tremaining: 9.15s\n",
      "40:\tlearn: 3366.2085816\ttotal: 5.43s\tremaining: 7.81s\n",
      "50:\tlearn: 3178.6173057\ttotal: 6.81s\tremaining: 6.54s\n",
      "60:\tlearn: 3012.4028688\ttotal: 8.17s\tremaining: 5.22s\n",
      "70:\tlearn: 2864.6922321\ttotal: 9.56s\tremaining: 3.91s\n",
      "80:\tlearn: 2735.0159355\ttotal: 10.9s\tremaining: 2.55s\n",
      "90:\tlearn: 2620.9069974\ttotal: 12.2s\tremaining: 1.21s\n",
      "99:\tlearn: 2529.1686762\ttotal: 13.5s\tremaining: 0us\n",
      "0:\tlearn: 3496.1815916\ttotal: 165ms\tremaining: 8.1s\n",
      "10:\tlearn: 1801.0664425\ttotal: 1.46s\tremaining: 5.18s\n",
      "20:\tlearn: 1720.7351357\ttotal: 2.64s\tremaining: 3.65s\n",
      "30:\tlearn: 1676.9174322\ttotal: 3.79s\tremaining: 2.32s\n",
      "40:\tlearn: 1655.4735922\ttotal: 4.9s\tremaining: 1.08s\n",
      "49:\tlearn: 1641.2440496\ttotal: 5.79s\tremaining: 0us\n",
      "0:\tlearn: 3501.1936529\ttotal: 173ms\tremaining: 8.47s\n",
      "10:\tlearn: 1798.9046288\ttotal: 1.49s\tremaining: 5.3s\n",
      "20:\tlearn: 1721.2013515\ttotal: 2.69s\tremaining: 3.71s\n",
      "30:\tlearn: 1686.2869676\ttotal: 3.8s\tremaining: 2.33s\n",
      "40:\tlearn: 1661.8177154\ttotal: 4.9s\tremaining: 1.08s\n",
      "49:\tlearn: 1646.0539480\ttotal: 5.82s\tremaining: 0us\n",
      "0:\tlearn: 3492.9373299\ttotal: 170ms\tremaining: 8.34s\n",
      "10:\tlearn: 1813.3064296\ttotal: 1.45s\tremaining: 5.15s\n",
      "20:\tlearn: 1721.6271512\ttotal: 2.6s\tremaining: 3.59s\n",
      "30:\tlearn: 1683.0464983\ttotal: 3.7s\tremaining: 2.27s\n",
      "40:\tlearn: 1661.6378074\ttotal: 4.73s\tremaining: 1.04s\n",
      "49:\tlearn: 1639.6223879\ttotal: 5.7s\tremaining: 0us\n",
      "0:\tlearn: 3496.1815916\ttotal: 163ms\tremaining: 16.2s\n",
      "10:\tlearn: 1801.0664425\ttotal: 1.42s\tremaining: 11.5s\n",
      "20:\tlearn: 1720.7351357\ttotal: 2.58s\tremaining: 9.7s\n",
      "30:\tlearn: 1676.9174322\ttotal: 3.7s\tremaining: 8.23s\n",
      "40:\tlearn: 1655.4735922\ttotal: 4.74s\tremaining: 6.83s\n",
      "50:\tlearn: 1638.4012608\ttotal: 5.72s\tremaining: 5.49s\n",
      "60:\tlearn: 1619.1775319\ttotal: 6.73s\tremaining: 4.3s\n",
      "70:\tlearn: 1604.3260665\ttotal: 7.71s\tremaining: 3.15s\n",
      "80:\tlearn: 1590.7037310\ttotal: 8.74s\tremaining: 2.05s\n",
      "90:\tlearn: 1578.6969736\ttotal: 9.69s\tremaining: 959ms\n",
      "99:\tlearn: 1565.9658977\ttotal: 10.6s\tremaining: 0us\n",
      "0:\tlearn: 3501.1936529\ttotal: 177ms\tremaining: 17.5s\n",
      "10:\tlearn: 1798.9046288\ttotal: 1.5s\tremaining: 12.1s\n",
      "20:\tlearn: 1721.2013515\ttotal: 2.69s\tremaining: 10.1s\n",
      "30:\tlearn: 1686.2869676\ttotal: 3.77s\tremaining: 8.4s\n",
      "40:\tlearn: 1661.8177154\ttotal: 4.86s\tremaining: 6.99s\n",
      "50:\tlearn: 1643.6664117\ttotal: 5.84s\tremaining: 5.62s\n",
      "60:\tlearn: 1619.8164984\ttotal: 6.9s\tremaining: 4.41s\n",
      "70:\tlearn: 1609.1858670\ttotal: 7.87s\tremaining: 3.21s\n",
      "80:\tlearn: 1595.6104963\ttotal: 8.85s\tremaining: 2.08s\n",
      "90:\tlearn: 1584.1855771\ttotal: 9.82s\tremaining: 971ms\n",
      "99:\tlearn: 1573.0247200\ttotal: 10.8s\tremaining: 0us\n",
      "0:\tlearn: 3492.9373299\ttotal: 170ms\tremaining: 16.9s\n",
      "10:\tlearn: 1813.3064296\ttotal: 1.41s\tremaining: 11.4s\n",
      "20:\tlearn: 1721.6271512\ttotal: 2.56s\tremaining: 9.64s\n",
      "30:\tlearn: 1683.0464983\ttotal: 3.65s\tremaining: 8.12s\n",
      "40:\tlearn: 1661.6378074\ttotal: 4.67s\tremaining: 6.72s\n",
      "50:\tlearn: 1637.5649966\ttotal: 5.76s\tremaining: 5.53s\n",
      "60:\tlearn: 1627.1304963\ttotal: 6.72s\tremaining: 4.3s\n",
      "70:\tlearn: 1606.0165353\ttotal: 7.89s\tremaining: 3.22s\n",
      "80:\tlearn: 1587.9856202\ttotal: 8.95s\tremaining: 2.1s\n",
      "90:\tlearn: 1571.8351167\ttotal: 10.1s\tremaining: 998ms\n",
      "99:\tlearn: 1561.7332715\ttotal: 11s\tremaining: 0us\n",
      "0:\tlearn: 4383.4022990\ttotal: 166ms\tremaining: 8.15s\n",
      "10:\tlearn: 4081.5453429\ttotal: 1.49s\tremaining: 5.29s\n",
      "20:\tlearn: 3814.2158048\ttotal: 2.82s\tremaining: 3.89s\n",
      "30:\tlearn: 3576.7707648\ttotal: 4.18s\tremaining: 2.56s\n",
      "40:\tlearn: 3365.7572826\ttotal: 5.48s\tremaining: 1.2s\n",
      "49:\tlearn: 3195.9168539\ttotal: 6.7s\tremaining: 0us\n",
      "0:\tlearn: 4383.7759720\ttotal: 178ms\tremaining: 8.74s\n",
      "10:\tlearn: 4082.6606010\ttotal: 1.52s\tremaining: 5.39s\n",
      "20:\tlearn: 3814.6654153\ttotal: 2.91s\tremaining: 4.02s\n",
      "30:\tlearn: 3577.0236603\ttotal: 4.29s\tremaining: 2.63s\n",
      "40:\tlearn: 3366.2111143\ttotal: 5.65s\tremaining: 1.24s\n",
      "49:\tlearn: 3196.1078824\ttotal: 6.86s\tremaining: 0us\n",
      "0:\tlearn: 4388.4691090\ttotal: 173ms\tremaining: 8.47s\n",
      "10:\tlearn: 4086.9924364\ttotal: 1.52s\tremaining: 5.38s\n",
      "20:\tlearn: 3818.3153878\ttotal: 2.88s\tremaining: 3.97s\n",
      "30:\tlearn: 3578.8717130\ttotal: 4.23s\tremaining: 2.59s\n",
      "40:\tlearn: 3366.8529631\ttotal: 5.54s\tremaining: 1.22s\n",
      "49:\tlearn: 3197.2063795\ttotal: 6.74s\tremaining: 0us\n",
      "0:\tlearn: 4383.4022990\ttotal: 171ms\tremaining: 16.9s\n",
      "10:\tlearn: 4081.5453429\ttotal: 1.45s\tremaining: 11.8s\n",
      "20:\tlearn: 3814.2158048\ttotal: 2.75s\tremaining: 10.4s\n",
      "30:\tlearn: 3576.7707648\ttotal: 4.1s\tremaining: 9.12s\n",
      "40:\tlearn: 3365.7572826\ttotal: 5.4s\tremaining: 7.77s\n",
      "50:\tlearn: 3178.4178193\ttotal: 6.69s\tremaining: 6.43s\n",
      "60:\tlearn: 3011.7367203\ttotal: 7.95s\tremaining: 5.08s\n",
      "70:\tlearn: 2865.2302103\ttotal: 9.21s\tremaining: 3.76s\n",
      "80:\tlearn: 2735.6769750\ttotal: 10.5s\tremaining: 2.47s\n",
      "90:\tlearn: 2621.9183581\ttotal: 11.8s\tremaining: 1.17s\n",
      "99:\tlearn: 2530.6612630\ttotal: 13s\tremaining: 0us\n",
      "0:\tlearn: 4383.7759720\ttotal: 185ms\tremaining: 18.3s\n",
      "10:\tlearn: 4082.6606010\ttotal: 1.48s\tremaining: 12s\n",
      "20:\tlearn: 3814.6654153\ttotal: 2.84s\tremaining: 10.7s\n",
      "30:\tlearn: 3577.0236603\ttotal: 4.17s\tremaining: 9.27s\n",
      "40:\tlearn: 3366.2111143\ttotal: 5.47s\tremaining: 7.88s\n",
      "50:\tlearn: 3178.2854522\ttotal: 6.78s\tremaining: 6.52s\n",
      "60:\tlearn: 3013.3468793\ttotal: 8.08s\tremaining: 5.17s\n",
      "70:\tlearn: 2867.1308015\ttotal: 9.41s\tremaining: 3.85s\n",
      "80:\tlearn: 2737.2840343\ttotal: 10.8s\tremaining: 2.52s\n",
      "90:\tlearn: 2622.9702574\ttotal: 12.1s\tremaining: 1.2s\n",
      "99:\tlearn: 2532.2637612\ttotal: 13.3s\tremaining: 0us\n",
      "0:\tlearn: 4388.4691090\ttotal: 165ms\tremaining: 16.4s\n",
      "10:\tlearn: 4086.9924364\ttotal: 1.47s\tremaining: 11.9s\n",
      "20:\tlearn: 3818.3153878\ttotal: 2.74s\tremaining: 10.3s\n",
      "30:\tlearn: 3578.8717130\ttotal: 4.01s\tremaining: 8.93s\n",
      "40:\tlearn: 3366.8529631\ttotal: 5.3s\tremaining: 7.62s\n",
      "50:\tlearn: 3179.4818506\ttotal: 6.67s\tremaining: 6.41s\n",
      "60:\tlearn: 3013.6918327\ttotal: 7.97s\tremaining: 5.1s\n",
      "70:\tlearn: 2866.3645209\ttotal: 9.32s\tremaining: 3.81s\n",
      "80:\tlearn: 2737.0496222\ttotal: 10.7s\tremaining: 2.51s\n",
      "90:\tlearn: 2621.8852538\ttotal: 12.1s\tremaining: 1.2s\n",
      "99:\tlearn: 2530.5760215\ttotal: 13.3s\tremaining: 0us\n",
      "0:\tlearn: 3496.5839458\ttotal: 167ms\tremaining: 8.16s\n",
      "10:\tlearn: 1816.7694000\ttotal: 1.49s\tremaining: 5.3s\n",
      "20:\tlearn: 1726.5604759\ttotal: 2.68s\tremaining: 3.7s\n",
      "30:\tlearn: 1691.5545228\ttotal: 3.82s\tremaining: 2.34s\n",
      "40:\tlearn: 1671.4394679\ttotal: 4.86s\tremaining: 1.07s\n",
      "49:\tlearn: 1649.1107599\ttotal: 5.79s\tremaining: 0us\n",
      "0:\tlearn: 3501.7067654\ttotal: 178ms\tremaining: 8.71s\n",
      "10:\tlearn: 1803.3883957\ttotal: 1.54s\tremaining: 5.46s\n",
      "20:\tlearn: 1721.5352047\ttotal: 2.78s\tremaining: 3.83s\n",
      "30:\tlearn: 1685.4862462\ttotal: 3.94s\tremaining: 2.41s\n",
      "40:\tlearn: 1660.4816957\ttotal: 5.07s\tremaining: 1.11s\n",
      "49:\tlearn: 1650.6844074\ttotal: 5.96s\tremaining: 0us\n",
      "0:\tlearn: 3493.4078200\ttotal: 165ms\tremaining: 8.09s\n",
      "10:\tlearn: 1813.9240787\ttotal: 1.47s\tremaining: 5.21s\n",
      "20:\tlearn: 1722.3501713\ttotal: 2.67s\tremaining: 3.69s\n",
      "30:\tlearn: 1685.8328750\ttotal: 3.79s\tremaining: 2.32s\n",
      "40:\tlearn: 1660.2727117\ttotal: 4.87s\tremaining: 1.07s\n",
      "49:\tlearn: 1637.3480637\ttotal: 5.85s\tremaining: 0us\n",
      "0:\tlearn: 3496.5839458\ttotal: 161ms\tremaining: 16s\n",
      "10:\tlearn: 1816.7694000\ttotal: 1.42s\tremaining: 11.5s\n",
      "20:\tlearn: 1726.5604759\ttotal: 2.58s\tremaining: 9.69s\n",
      "30:\tlearn: 1691.5545228\ttotal: 3.66s\tremaining: 8.14s\n",
      "40:\tlearn: 1671.4394679\ttotal: 4.7s\tremaining: 6.77s\n",
      "50:\tlearn: 1646.9717666\ttotal: 5.73s\tremaining: 5.5s\n",
      "60:\tlearn: 1634.3646198\ttotal: 6.66s\tremaining: 4.26s\n",
      "70:\tlearn: 1617.5229013\ttotal: 7.68s\tremaining: 3.14s\n",
      "80:\tlearn: 1607.6431246\ttotal: 8.61s\tremaining: 2.02s\n",
      "90:\tlearn: 1598.7438795\ttotal: 9.53s\tremaining: 942ms\n",
      "99:\tlearn: 1583.8788711\ttotal: 10.5s\tremaining: 0us\n",
      "0:\tlearn: 3501.7067654\ttotal: 171ms\tremaining: 16.9s\n",
      "10:\tlearn: 1803.3883957\ttotal: 1.49s\tremaining: 12s\n",
      "20:\tlearn: 1721.5352047\ttotal: 2.67s\tremaining: 10.1s\n",
      "30:\tlearn: 1685.4862462\ttotal: 3.75s\tremaining: 8.34s\n",
      "40:\tlearn: 1660.4816957\ttotal: 4.82s\tremaining: 6.93s\n",
      "50:\tlearn: 1645.8976872\ttotal: 5.79s\tremaining: 5.56s\n",
      "60:\tlearn: 1632.1137069\ttotal: 6.76s\tremaining: 4.32s\n",
      "70:\tlearn: 1623.7027329\ttotal: 7.72s\tremaining: 3.15s\n",
      "80:\tlearn: 1609.5535483\ttotal: 8.71s\tremaining: 2.04s\n",
      "90:\tlearn: 1600.5978614\ttotal: 9.67s\tremaining: 956ms\n",
      "99:\tlearn: 1597.8542515\ttotal: 10.5s\tremaining: 0us\n",
      "0:\tlearn: 3493.4078200\ttotal: 165ms\tremaining: 16.3s\n",
      "10:\tlearn: 1813.9240787\ttotal: 1.41s\tremaining: 11.4s\n",
      "20:\tlearn: 1722.3501713\ttotal: 2.57s\tremaining: 9.65s\n",
      "30:\tlearn: 1685.8328750\ttotal: 3.85s\tremaining: 8.58s\n",
      "40:\tlearn: 1660.2727117\ttotal: 4.93s\tremaining: 7.09s\n",
      "50:\tlearn: 1633.6100888\ttotal: 5.98s\tremaining: 5.74s\n",
      "60:\tlearn: 1615.4343812\ttotal: 7.05s\tremaining: 4.51s\n",
      "70:\tlearn: 1610.3605990\ttotal: 7.96s\tremaining: 3.25s\n",
      "80:\tlearn: 1593.0569184\ttotal: 9s\tremaining: 2.11s\n",
      "90:\tlearn: 1580.7589426\ttotal: 10s\tremaining: 989ms\n",
      "99:\tlearn: 1565.7110731\ttotal: 11s\tremaining: 0us\n",
      "0:\tlearn: 4383.4170669\ttotal: 169ms\tremaining: 8.29s\n",
      "10:\tlearn: 4081.8253311\ttotal: 1.52s\tremaining: 5.39s\n",
      "20:\tlearn: 3814.6331416\ttotal: 2.91s\tremaining: 4.01s\n",
      "30:\tlearn: 3577.1461956\ttotal: 4.32s\tremaining: 2.65s\n",
      "40:\tlearn: 3365.4169500\ttotal: 5.65s\tremaining: 1.24s\n",
      "49:\tlearn: 3195.5383464\ttotal: 6.88s\tremaining: 0us\n",
      "0:\tlearn: 4383.7949987\ttotal: 182ms\tremaining: 8.91s\n",
      "10:\tlearn: 4082.8533828\ttotal: 1.59s\tremaining: 5.66s\n",
      "20:\tlearn: 3814.9105356\ttotal: 3.04s\tremaining: 4.19s\n",
      "30:\tlearn: 3577.3192287\ttotal: 4.39s\tremaining: 2.69s\n",
      "40:\tlearn: 3367.4949776\ttotal: 5.7s\tremaining: 1.25s\n",
      "49:\tlearn: 3198.7224964\ttotal: 6.92s\tremaining: 0us\n",
      "0:\tlearn: 4388.4865805\ttotal: 173ms\tremaining: 8.46s\n",
      "10:\tlearn: 4087.1692142\ttotal: 1.5s\tremaining: 5.31s\n",
      "20:\tlearn: 3818.6238399\ttotal: 2.76s\tremaining: 3.81s\n",
      "30:\tlearn: 3579.3007172\ttotal: 4.05s\tremaining: 2.48s\n",
      "40:\tlearn: 3367.3573925\ttotal: 5.35s\tremaining: 1.17s\n",
      "49:\tlearn: 3197.8191267\ttotal: 6.58s\tremaining: 0us\n",
      "0:\tlearn: 4383.4170669\ttotal: 189ms\tremaining: 18.7s\n",
      "10:\tlearn: 4081.8253311\ttotal: 1.47s\tremaining: 11.9s\n",
      "20:\tlearn: 3814.6331416\ttotal: 2.75s\tremaining: 10.4s\n",
      "30:\tlearn: 3577.1461956\ttotal: 4.04s\tremaining: 8.99s\n",
      "40:\tlearn: 3365.4169500\ttotal: 5.37s\tremaining: 7.73s\n",
      "50:\tlearn: 3177.9521841\ttotal: 6.69s\tremaining: 6.43s\n",
      "60:\tlearn: 3011.7016740\ttotal: 8.01s\tremaining: 5.12s\n",
      "70:\tlearn: 2864.6645543\ttotal: 9.34s\tremaining: 3.82s\n",
      "80:\tlearn: 2735.1009741\ttotal: 10.7s\tremaining: 2.51s\n",
      "90:\tlearn: 2620.6029523\ttotal: 12s\tremaining: 1.19s\n",
      "99:\tlearn: 2530.0428183\ttotal: 13.1s\tremaining: 0us\n",
      "0:\tlearn: 4383.7949987\ttotal: 170ms\tremaining: 16.8s\n",
      "10:\tlearn: 4082.8533828\ttotal: 1.45s\tremaining: 11.7s\n",
      "20:\tlearn: 3814.9105356\ttotal: 2.77s\tremaining: 10.4s\n",
      "30:\tlearn: 3577.3192287\ttotal: 4.06s\tremaining: 9.04s\n",
      "40:\tlearn: 3367.4949776\ttotal: 5.38s\tremaining: 7.75s\n",
      "50:\tlearn: 3181.1508548\ttotal: 6.71s\tremaining: 6.44s\n",
      "60:\tlearn: 3015.6206804\ttotal: 8.01s\tremaining: 5.12s\n",
      "70:\tlearn: 2869.0879093\ttotal: 9.33s\tremaining: 3.81s\n",
      "80:\tlearn: 2739.1256918\ttotal: 10.6s\tremaining: 2.49s\n",
      "90:\tlearn: 2624.2548030\ttotal: 11.9s\tremaining: 1.18s\n",
      "99:\tlearn: 2533.5277982\ttotal: 13.1s\tremaining: 0us\n",
      "0:\tlearn: 4388.4865805\ttotal: 168ms\tremaining: 16.6s\n",
      "10:\tlearn: 4087.1692142\ttotal: 1.48s\tremaining: 12s\n",
      "20:\tlearn: 3818.6238399\ttotal: 2.79s\tremaining: 10.5s\n",
      "30:\tlearn: 3579.3007172\ttotal: 4.06s\tremaining: 9.04s\n",
      "40:\tlearn: 3367.3573925\ttotal: 5.39s\tremaining: 7.76s\n",
      "50:\tlearn: 3179.9608237\ttotal: 6.79s\tremaining: 6.53s\n",
      "60:\tlearn: 3013.8990227\ttotal: 8.19s\tremaining: 5.24s\n",
      "70:\tlearn: 2866.8209463\ttotal: 9.55s\tremaining: 3.9s\n",
      "80:\tlearn: 2736.8798548\ttotal: 10.9s\tremaining: 2.56s\n",
      "90:\tlearn: 2622.5951665\ttotal: 12.3s\tremaining: 1.22s\n",
      "99:\tlearn: 2531.6968853\ttotal: 13.6s\tremaining: 0us\n",
      "0:\tlearn: 3496.9796496\ttotal: 173ms\tremaining: 8.46s\n",
      "10:\tlearn: 1808.0178079\ttotal: 1.48s\tremaining: 5.26s\n",
      "20:\tlearn: 1725.7393436\ttotal: 2.68s\tremaining: 3.7s\n",
      "30:\tlearn: 1686.4142865\ttotal: 3.86s\tremaining: 2.37s\n",
      "40:\tlearn: 1659.5498013\ttotal: 4.95s\tremaining: 1.09s\n",
      "49:\tlearn: 1649.0990473\ttotal: 5.83s\tremaining: 0us\n",
      "0:\tlearn: 3502.2150956\ttotal: 186ms\tremaining: 9.12s\n",
      "10:\tlearn: 1807.2697617\ttotal: 1.5s\tremaining: 5.33s\n",
      "20:\tlearn: 1721.9531003\ttotal: 2.7s\tremaining: 3.73s\n",
      "30:\tlearn: 1694.3603296\ttotal: 3.79s\tremaining: 2.32s\n",
      "40:\tlearn: 1667.7424629\ttotal: 4.83s\tremaining: 1.06s\n",
      "49:\tlearn: 1650.4346780\ttotal: 5.72s\tremaining: 0us\n",
      "0:\tlearn: 3493.8752944\ttotal: 168ms\tremaining: 8.21s\n",
      "10:\tlearn: 1814.8864769\ttotal: 1.47s\tremaining: 5.22s\n",
      "20:\tlearn: 1724.9457171\ttotal: 2.65s\tremaining: 3.67s\n",
      "30:\tlearn: 1689.3306207\ttotal: 3.77s\tremaining: 2.31s\n",
      "40:\tlearn: 1663.4897579\ttotal: 4.84s\tremaining: 1.06s\n",
      "49:\tlearn: 1651.1183198\ttotal: 5.74s\tremaining: 0us\n",
      "0:\tlearn: 3496.9796496\ttotal: 165ms\tremaining: 16.3s\n",
      "10:\tlearn: 1808.0178079\ttotal: 1.46s\tremaining: 11.8s\n",
      "20:\tlearn: 1725.7393436\ttotal: 2.62s\tremaining: 9.87s\n",
      "30:\tlearn: 1686.4142865\ttotal: 3.78s\tremaining: 8.42s\n",
      "40:\tlearn: 1659.5498013\ttotal: 4.85s\tremaining: 6.98s\n",
      "50:\tlearn: 1646.0353961\ttotal: 5.8s\tremaining: 5.57s\n",
      "60:\tlearn: 1638.6908459\ttotal: 6.75s\tremaining: 4.31s\n",
      "70:\tlearn: 1624.0511956\ttotal: 7.69s\tremaining: 3.14s\n",
      "80:\tlearn: 1614.8506957\ttotal: 8.6s\tremaining: 2.02s\n",
      "90:\tlearn: 1605.6317234\ttotal: 9.56s\tremaining: 946ms\n",
      "99:\tlearn: 1591.3065090\ttotal: 10.5s\tremaining: 0us\n",
      "0:\tlearn: 3502.2150956\ttotal: 172ms\tremaining: 17.1s\n",
      "10:\tlearn: 1807.2697617\ttotal: 1.46s\tremaining: 11.8s\n",
      "20:\tlearn: 1721.9531003\ttotal: 2.6s\tremaining: 9.79s\n",
      "30:\tlearn: 1694.3603296\ttotal: 3.66s\tremaining: 8.14s\n",
      "40:\tlearn: 1667.7424629\ttotal: 4.7s\tremaining: 6.76s\n",
      "50:\tlearn: 1650.2318283\ttotal: 5.74s\tremaining: 5.51s\n",
      "60:\tlearn: 1633.6094898\ttotal: 6.74s\tremaining: 4.31s\n",
      "70:\tlearn: 1624.9298752\ttotal: 7.66s\tremaining: 3.13s\n",
      "80:\tlearn: 1613.9042548\ttotal: 8.59s\tremaining: 2.02s\n",
      "90:\tlearn: 1605.1922198\ttotal: 9.52s\tremaining: 942ms\n",
      "99:\tlearn: 1595.6998443\ttotal: 10.4s\tremaining: 0us\n",
      "0:\tlearn: 3493.8752944\ttotal: 310ms\tremaining: 30.7s\n",
      "10:\tlearn: 1814.8864769\ttotal: 1.63s\tremaining: 13.2s\n",
      "20:\tlearn: 1724.9457171\ttotal: 2.8s\tremaining: 10.6s\n",
      "30:\tlearn: 1689.3306207\ttotal: 3.94s\tremaining: 8.77s\n",
      "40:\tlearn: 1663.4897579\ttotal: 5.02s\tremaining: 7.22s\n",
      "50:\tlearn: 1650.8588470\ttotal: 6.03s\tremaining: 5.8s\n",
      "60:\tlearn: 1631.6131690\ttotal: 7.09s\tremaining: 4.54s\n",
      "70:\tlearn: 1616.9850763\ttotal: 8.12s\tremaining: 3.31s\n",
      "80:\tlearn: 1610.3338797\ttotal: 9.06s\tremaining: 2.13s\n",
      "90:\tlearn: 1603.0785345\ttotal: 10s\tremaining: 991ms\n",
      "99:\tlearn: 1591.5345384\ttotal: 10.9s\tremaining: 0us\n",
      "0:\tlearn: 4383.4316791\ttotal: 168ms\tremaining: 8.25s\n",
      "10:\tlearn: 4082.0142860\ttotal: 1.52s\tremaining: 5.4s\n",
      "20:\tlearn: 3814.9659607\ttotal: 2.84s\tremaining: 3.92s\n",
      "30:\tlearn: 3577.5346871\ttotal: 4.18s\tremaining: 2.56s\n",
      "40:\tlearn: 3366.6182225\ttotal: 5.48s\tremaining: 1.2s\n",
      "49:\tlearn: 3196.8196254\ttotal: 6.64s\tremaining: 0us\n",
      "0:\tlearn: 4383.8138500\ttotal: 171ms\tremaining: 8.36s\n",
      "10:\tlearn: 4082.9268029\ttotal: 1.46s\tremaining: 5.19s\n",
      "20:\tlearn: 3816.2656369\ttotal: 2.82s\tremaining: 3.89s\n",
      "30:\tlearn: 3578.5543196\ttotal: 4.23s\tremaining: 2.59s\n",
      "40:\tlearn: 3367.4800998\ttotal: 5.56s\tremaining: 1.22s\n",
      "49:\tlearn: 3198.4737377\ttotal: 6.75s\tremaining: 0us\n",
      "0:\tlearn: 4388.5039431\ttotal: 170ms\tremaining: 8.34s\n",
      "10:\tlearn: 4087.4422310\ttotal: 1.47s\tremaining: 5.22s\n",
      "20:\tlearn: 3819.1182593\ttotal: 2.74s\tremaining: 3.79s\n",
      "30:\tlearn: 3579.8806156\ttotal: 4.05s\tremaining: 2.48s\n",
      "40:\tlearn: 3369.0894586\ttotal: 5.36s\tremaining: 1.18s\n",
      "49:\tlearn: 3198.6331545\ttotal: 6.57s\tremaining: 0us\n",
      "0:\tlearn: 4383.4316791\ttotal: 162ms\tremaining: 16s\n",
      "10:\tlearn: 4082.0142860\ttotal: 1.43s\tremaining: 11.6s\n",
      "20:\tlearn: 3814.9659607\ttotal: 2.73s\tremaining: 10.3s\n",
      "30:\tlearn: 3577.5346871\ttotal: 4.03s\tremaining: 8.97s\n",
      "40:\tlearn: 3366.6182225\ttotal: 5.31s\tremaining: 7.64s\n",
      "50:\tlearn: 3179.3337888\ttotal: 6.58s\tremaining: 6.32s\n",
      "60:\tlearn: 3012.7643701\ttotal: 7.92s\tremaining: 5.06s\n",
      "70:\tlearn: 2866.1468638\ttotal: 9.22s\tremaining: 3.77s\n",
      "80:\tlearn: 2736.9022098\ttotal: 10.5s\tremaining: 2.47s\n",
      "90:\tlearn: 2622.1551702\ttotal: 11.8s\tremaining: 1.17s\n",
      "99:\tlearn: 2531.3546578\ttotal: 13s\tremaining: 0us\n",
      "0:\tlearn: 4383.8138500\ttotal: 173ms\tremaining: 17.2s\n",
      "10:\tlearn: 4082.9268029\ttotal: 1.44s\tremaining: 11.6s\n",
      "20:\tlearn: 3816.2656369\ttotal: 2.74s\tremaining: 10.3s\n",
      "30:\tlearn: 3578.5543196\ttotal: 4.08s\tremaining: 9.08s\n",
      "40:\tlearn: 3367.4800998\ttotal: 5.39s\tremaining: 7.75s\n",
      "50:\tlearn: 3180.6001560\ttotal: 6.68s\tremaining: 6.42s\n",
      "60:\tlearn: 3015.1971965\ttotal: 8.01s\tremaining: 5.12s\n",
      "70:\tlearn: 2868.3109994\ttotal: 9.31s\tremaining: 3.8s\n",
      "80:\tlearn: 2739.0228903\ttotal: 10.6s\tremaining: 2.48s\n",
      "90:\tlearn: 2624.8770031\ttotal: 12s\tremaining: 1.18s\n",
      "99:\tlearn: 2533.7326726\ttotal: 13.2s\tremaining: 0us\n",
      "0:\tlearn: 4388.5039431\ttotal: 164ms\tremaining: 16.2s\n",
      "10:\tlearn: 4087.4422310\ttotal: 1.48s\tremaining: 12s\n",
      "20:\tlearn: 3819.1182593\ttotal: 2.77s\tremaining: 10.4s\n",
      "30:\tlearn: 3579.8806156\ttotal: 4.08s\tremaining: 9.08s\n",
      "40:\tlearn: 3369.0894586\ttotal: 5.44s\tremaining: 7.83s\n",
      "50:\tlearn: 3180.4133868\ttotal: 6.78s\tremaining: 6.51s\n",
      "60:\tlearn: 3015.2351038\ttotal: 8.13s\tremaining: 5.2s\n",
      "70:\tlearn: 2868.4583343\ttotal: 9.54s\tremaining: 3.9s\n",
      "80:\tlearn: 2738.3546648\ttotal: 10.9s\tremaining: 2.56s\n",
      "90:\tlearn: 2624.0854230\ttotal: 12.3s\tremaining: 1.21s\n",
      "99:\tlearn: 2532.1666114\ttotal: 13.5s\tremaining: 0us\n",
      "0:\tlearn: 3497.3711494\ttotal: 164ms\tremaining: 8.03s\n",
      "10:\tlearn: 1800.7001353\ttotal: 1.47s\tremaining: 5.2s\n",
      "20:\tlearn: 1725.3870575\ttotal: 2.63s\tremaining: 3.63s\n",
      "30:\tlearn: 1691.7606045\ttotal: 3.76s\tremaining: 2.3s\n",
      "40:\tlearn: 1665.8750402\ttotal: 4.83s\tremaining: 1.06s\n",
      "49:\tlearn: 1652.3412421\ttotal: 5.71s\tremaining: 0us\n",
      "0:\tlearn: 3502.7192747\ttotal: 172ms\tremaining: 8.41s\n",
      "10:\tlearn: 1807.4596491\ttotal: 1.46s\tremaining: 5.16s\n",
      "20:\tlearn: 1729.3689201\ttotal: 2.63s\tremaining: 3.64s\n",
      "30:\tlearn: 1701.9241465\ttotal: 3.68s\tremaining: 2.26s\n",
      "40:\tlearn: 1680.8491303\ttotal: 4.69s\tremaining: 1.03s\n",
      "49:\tlearn: 1665.2266367\ttotal: 5.6s\tremaining: 0us\n",
      "0:\tlearn: 3494.3401425\ttotal: 173ms\tremaining: 8.5s\n",
      "10:\tlearn: 1815.4601611\ttotal: 1.49s\tremaining: 5.3s\n",
      "20:\tlearn: 1728.7935458\ttotal: 2.66s\tremaining: 3.67s\n",
      "30:\tlearn: 1697.9873321\ttotal: 3.73s\tremaining: 2.29s\n",
      "40:\tlearn: 1678.0231377\ttotal: 4.74s\tremaining: 1.04s\n",
      "49:\tlearn: 1663.1352860\ttotal: 5.64s\tremaining: 0us\n",
      "0:\tlearn: 3497.3711494\ttotal: 163ms\tremaining: 16.1s\n",
      "10:\tlearn: 1800.7001353\ttotal: 1.43s\tremaining: 11.6s\n",
      "20:\tlearn: 1725.3870575\ttotal: 2.56s\tremaining: 9.62s\n",
      "30:\tlearn: 1691.7606045\ttotal: 3.68s\tremaining: 8.19s\n",
      "40:\tlearn: 1665.8750402\ttotal: 4.74s\tremaining: 6.83s\n",
      "50:\tlearn: 1651.9612263\ttotal: 5.69s\tremaining: 5.46s\n",
      "60:\tlearn: 1635.8316349\ttotal: 6.64s\tremaining: 4.25s\n",
      "70:\tlearn: 1623.0383940\ttotal: 7.59s\tremaining: 3.1s\n",
      "80:\tlearn: 1612.2183399\ttotal: 8.5s\tremaining: 1.99s\n",
      "90:\tlearn: 1608.1532722\ttotal: 9.38s\tremaining: 927ms\n",
      "99:\tlearn: 1598.6410995\ttotal: 10.2s\tremaining: 0us\n",
      "0:\tlearn: 3502.7192747\ttotal: 171ms\tremaining: 16.9s\n",
      "10:\tlearn: 1807.4596491\ttotal: 1.46s\tremaining: 11.8s\n",
      "20:\tlearn: 1729.3689201\ttotal: 2.65s\tremaining: 9.99s\n",
      "30:\tlearn: 1701.9241465\ttotal: 3.76s\tremaining: 8.37s\n",
      "40:\tlearn: 1680.8491303\ttotal: 4.76s\tremaining: 6.85s\n",
      "50:\tlearn: 1664.7986651\ttotal: 5.77s\tremaining: 5.54s\n",
      "60:\tlearn: 1647.0148156\ttotal: 6.78s\tremaining: 4.33s\n",
      "70:\tlearn: 1635.4274610\ttotal: 7.75s\tremaining: 3.16s\n",
      "80:\tlearn: 1625.9331319\ttotal: 8.72s\tremaining: 2.05s\n",
      "90:\tlearn: 1613.8357944\ttotal: 9.74s\tremaining: 963ms\n",
      "99:\tlearn: 1609.0069314\ttotal: 10.7s\tremaining: 0us\n",
      "0:\tlearn: 3494.3401425\ttotal: 165ms\tremaining: 16.3s\n",
      "10:\tlearn: 1815.4601611\ttotal: 1.45s\tremaining: 11.8s\n",
      "20:\tlearn: 1728.7935458\ttotal: 2.63s\tremaining: 9.91s\n",
      "30:\tlearn: 1697.9873321\ttotal: 3.68s\tremaining: 8.2s\n",
      "40:\tlearn: 1678.0231377\ttotal: 4.73s\tremaining: 6.81s\n",
      "50:\tlearn: 1661.9174015\ttotal: 5.73s\tremaining: 5.5s\n",
      "60:\tlearn: 1649.9903439\ttotal: 6.76s\tremaining: 4.32s\n",
      "70:\tlearn: 1631.4569215\ttotal: 7.83s\tremaining: 3.2s\n",
      "80:\tlearn: 1619.3088988\ttotal: 8.85s\tremaining: 2.08s\n",
      "90:\tlearn: 1609.2109717\ttotal: 9.9s\tremaining: 979ms\n",
      "99:\tlearn: 1602.8320775\ttotal: 10.8s\tremaining: 0us\n",
      "0:\tlearn: 4381.6064328\ttotal: 351ms\tremaining: 17.2s\n",
      "10:\tlearn: 4060.0265365\ttotal: 3.45s\tremaining: 12.2s\n",
      "20:\tlearn: 3771.5732858\ttotal: 6.41s\tremaining: 8.85s\n",
      "30:\tlearn: 3514.7577469\ttotal: 9.4s\tremaining: 5.76s\n",
      "40:\tlearn: 3285.4175997\ttotal: 12.4s\tremaining: 2.72s\n",
      "49:\tlearn: 3100.6916953\ttotal: 15s\tremaining: 0us\n",
      "0:\tlearn: 4381.6965399\ttotal: 361ms\tremaining: 17.7s\n",
      "10:\tlearn: 4060.2940987\ttotal: 3.32s\tremaining: 11.8s\n",
      "20:\tlearn: 3772.5309527\ttotal: 6.18s\tremaining: 8.53s\n",
      "30:\tlearn: 3515.6459239\ttotal: 9.14s\tremaining: 5.6s\n",
      "40:\tlearn: 3287.0132716\ttotal: 12.1s\tremaining: 2.65s\n",
      "49:\tlearn: 3102.6027740\ttotal: 14.7s\tremaining: 0us\n",
      "0:\tlearn: 4386.5597702\ttotal: 333ms\tremaining: 16.3s\n",
      "10:\tlearn: 4064.5362764\ttotal: 3.17s\tremaining: 11.3s\n",
      "20:\tlearn: 3777.2402599\ttotal: 6.03s\tremaining: 8.32s\n",
      "30:\tlearn: 3519.7250642\ttotal: 8.93s\tremaining: 5.47s\n",
      "40:\tlearn: 3289.0846506\ttotal: 11.8s\tremaining: 2.6s\n",
      "49:\tlearn: 3104.1993807\ttotal: 14.4s\tremaining: 0us\n",
      "0:\tlearn: 4381.6064328\ttotal: 350ms\tremaining: 34.7s\n",
      "10:\tlearn: 4060.0265365\ttotal: 3.28s\tremaining: 26.6s\n",
      "20:\tlearn: 3771.5732858\ttotal: 6.21s\tremaining: 23.4s\n",
      "30:\tlearn: 3514.7577469\ttotal: 9.12s\tremaining: 20.3s\n",
      "40:\tlearn: 3285.4175997\ttotal: 12.1s\tremaining: 17.4s\n",
      "50:\tlearn: 3081.4665636\ttotal: 15.1s\tremaining: 14.5s\n",
      "60:\tlearn: 2900.3522004\ttotal: 18.1s\tremaining: 11.6s\n",
      "70:\tlearn: 2740.2078612\ttotal: 21.1s\tremaining: 8.61s\n",
      "80:\tlearn: 2598.3776435\ttotal: 24s\tremaining: 5.63s\n",
      "90:\tlearn: 2472.8726510\ttotal: 26.9s\tremaining: 2.67s\n",
      "99:\tlearn: 2372.2001136\ttotal: 29.6s\tremaining: 0us\n",
      "0:\tlearn: 4381.6965399\ttotal: 346ms\tremaining: 34.3s\n",
      "10:\tlearn: 4060.2940987\ttotal: 3.32s\tremaining: 26.9s\n",
      "20:\tlearn: 3772.5309527\ttotal: 6.24s\tremaining: 23.5s\n",
      "30:\tlearn: 3515.6459239\ttotal: 9.19s\tremaining: 20.5s\n",
      "40:\tlearn: 3287.0132716\ttotal: 12.2s\tremaining: 17.6s\n",
      "50:\tlearn: 3083.2408634\ttotal: 15.3s\tremaining: 14.7s\n",
      "60:\tlearn: 2902.8491624\ttotal: 18.2s\tremaining: 11.6s\n",
      "70:\tlearn: 2741.8924485\ttotal: 21.3s\tremaining: 8.7s\n",
      "80:\tlearn: 2600.3368441\ttotal: 24.2s\tremaining: 5.68s\n",
      "90:\tlearn: 2474.8505352\ttotal: 27.1s\tremaining: 2.68s\n",
      "99:\tlearn: 2374.7148723\ttotal: 29.9s\tremaining: 0us\n",
      "0:\tlearn: 4386.5597702\ttotal: 336ms\tremaining: 33.3s\n",
      "10:\tlearn: 4064.5362764\ttotal: 3.21s\tremaining: 26s\n",
      "20:\tlearn: 3777.2402599\ttotal: 6.13s\tremaining: 23.1s\n",
      "30:\tlearn: 3519.7250642\ttotal: 9.06s\tremaining: 20.2s\n",
      "40:\tlearn: 3289.0846506\ttotal: 12.1s\tremaining: 17.4s\n",
      "50:\tlearn: 3085.0618241\ttotal: 15.1s\tremaining: 14.5s\n",
      "60:\tlearn: 2904.1099654\ttotal: 18.1s\tremaining: 11.6s\n",
      "70:\tlearn: 2743.4803885\ttotal: 21.1s\tremaining: 8.63s\n",
      "80:\tlearn: 2600.7679876\ttotal: 24.1s\tremaining: 5.64s\n",
      "90:\tlearn: 2475.0732414\ttotal: 27s\tremaining: 2.67s\n",
      "99:\tlearn: 2373.9466859\ttotal: 29.6s\tremaining: 0us\n",
      "0:\tlearn: 3438.2315640\ttotal: 326ms\tremaining: 16s\n",
      "10:\tlearn: 1601.3171110\ttotal: 3.06s\tremaining: 10.8s\n",
      "20:\tlearn: 1511.8298164\ttotal: 5.48s\tremaining: 7.57s\n",
      "30:\tlearn: 1465.7047553\ttotal: 7.68s\tremaining: 4.71s\n",
      "40:\tlearn: 1424.2935966\ttotal: 9.91s\tremaining: 2.17s\n",
      "49:\tlearn: 1378.2087684\ttotal: 11.9s\tremaining: 0us\n",
      "0:\tlearn: 3434.2159935\ttotal: 338ms\tremaining: 16.5s\n",
      "10:\tlearn: 1600.4348501\ttotal: 3.19s\tremaining: 11.3s\n",
      "20:\tlearn: 1510.2888734\ttotal: 5.69s\tremaining: 7.86s\n",
      "30:\tlearn: 1469.1033824\ttotal: 7.87s\tremaining: 4.82s\n",
      "40:\tlearn: 1439.6188700\ttotal: 9.82s\tremaining: 2.15s\n",
      "49:\tlearn: 1392.4960316\ttotal: 11.8s\tremaining: 0us\n",
      "0:\tlearn: 3431.2339268\ttotal: 330ms\tremaining: 16.2s\n",
      "10:\tlearn: 1599.7051960\ttotal: 3.28s\tremaining: 11.6s\n",
      "20:\tlearn: 1502.1766399\ttotal: 5.81s\tremaining: 8.02s\n",
      "30:\tlearn: 1449.5008728\ttotal: 8.18s\tremaining: 5.01s\n",
      "40:\tlearn: 1416.9310128\ttotal: 10.4s\tremaining: 2.28s\n",
      "49:\tlearn: 1368.7006176\ttotal: 12.6s\tremaining: 0us\n",
      "0:\tlearn: 3438.2315640\ttotal: 336ms\tremaining: 33.2s\n",
      "10:\tlearn: 1601.3171110\ttotal: 3.18s\tremaining: 25.7s\n",
      "20:\tlearn: 1511.8298164\ttotal: 5.7s\tremaining: 21.4s\n",
      "30:\tlearn: 1465.7047553\ttotal: 7.97s\tremaining: 17.7s\n",
      "40:\tlearn: 1424.2935966\ttotal: 10.2s\tremaining: 14.6s\n",
      "50:\tlearn: 1373.0731932\ttotal: 12.4s\tremaining: 11.9s\n",
      "60:\tlearn: 1339.6053850\ttotal: 14.4s\tremaining: 9.19s\n",
      "70:\tlearn: 1298.5948738\ttotal: 16.7s\tremaining: 6.83s\n",
      "80:\tlearn: 1269.8421441\ttotal: 18.9s\tremaining: 4.44s\n",
      "90:\tlearn: 1236.3941120\ttotal: 21.2s\tremaining: 2.1s\n",
      "99:\tlearn: 1221.6907525\ttotal: 23s\tremaining: 0us\n",
      "0:\tlearn: 3434.2159935\ttotal: 323ms\tremaining: 31.9s\n",
      "10:\tlearn: 1600.4348501\ttotal: 3.17s\tremaining: 25.7s\n",
      "20:\tlearn: 1510.2888734\ttotal: 5.65s\tremaining: 21.3s\n",
      "30:\tlearn: 1469.1033824\ttotal: 7.81s\tremaining: 17.4s\n",
      "40:\tlearn: 1439.6188700\ttotal: 9.72s\tremaining: 14s\n",
      "50:\tlearn: 1389.7555835\ttotal: 11.9s\tremaining: 11.5s\n",
      "60:\tlearn: 1350.4136760\ttotal: 14.1s\tremaining: 8.99s\n",
      "70:\tlearn: 1324.5510460\ttotal: 16s\tremaining: 6.54s\n",
      "80:\tlearn: 1295.8922538\ttotal: 18.1s\tremaining: 4.24s\n",
      "90:\tlearn: 1260.1158706\ttotal: 20.4s\tremaining: 2.02s\n",
      "99:\tlearn: 1237.6526252\ttotal: 22.6s\tremaining: 0us\n",
      "0:\tlearn: 3431.2339268\ttotal: 356ms\tremaining: 35.3s\n",
      "10:\tlearn: 1599.7051960\ttotal: 3.25s\tremaining: 26.3s\n",
      "20:\tlearn: 1502.1766399\ttotal: 5.85s\tremaining: 22s\n",
      "30:\tlearn: 1449.5008728\ttotal: 8.15s\tremaining: 18.1s\n",
      "40:\tlearn: 1416.9310128\ttotal: 10.4s\tremaining: 14.9s\n",
      "50:\tlearn: 1365.1543666\ttotal: 12.7s\tremaining: 12.2s\n",
      "60:\tlearn: 1320.6962755\ttotal: 14.9s\tremaining: 9.54s\n",
      "70:\tlearn: 1292.7488543\ttotal: 17.1s\tremaining: 6.99s\n",
      "80:\tlearn: 1266.7264185\ttotal: 19.3s\tremaining: 4.52s\n",
      "90:\tlearn: 1238.4649905\ttotal: 21.6s\tremaining: 2.13s\n",
      "99:\tlearn: 1211.0467445\ttotal: 23.7s\tremaining: 0us\n",
      "0:\tlearn: 4381.7550620\ttotal: 325ms\tremaining: 15.9s\n",
      "10:\tlearn: 4061.8802741\ttotal: 3.17s\tremaining: 11.2s\n",
      "20:\tlearn: 3775.1330602\ttotal: 6.1s\tremaining: 8.42s\n",
      "30:\tlearn: 3519.2274436\ttotal: 8.95s\tremaining: 5.49s\n",
      "40:\tlearn: 3291.8286313\ttotal: 11.9s\tremaining: 2.6s\n",
      "49:\tlearn: 3107.9849003\ttotal: 14.5s\tremaining: 0us\n",
      "0:\tlearn: 4381.8276052\ttotal: 337ms\tremaining: 16.5s\n",
      "10:\tlearn: 4061.3548327\ttotal: 3.21s\tremaining: 11.4s\n",
      "20:\tlearn: 3774.2223631\ttotal: 6.14s\tremaining: 8.48s\n",
      "30:\tlearn: 3518.7341946\ttotal: 9.1s\tremaining: 5.58s\n",
      "40:\tlearn: 3290.4113987\ttotal: 12.1s\tremaining: 2.65s\n",
      "49:\tlearn: 3106.7105653\ttotal: 14.7s\tremaining: 0us\n",
      "0:\tlearn: 4386.6530664\ttotal: 334ms\tremaining: 16.3s\n",
      "10:\tlearn: 4065.6866232\ttotal: 3.28s\tremaining: 11.6s\n",
      "20:\tlearn: 3778.4514012\ttotal: 6.2s\tremaining: 8.56s\n",
      "30:\tlearn: 3522.7488904\ttotal: 9.18s\tremaining: 5.63s\n",
      "40:\tlearn: 3294.4025192\ttotal: 12.2s\tremaining: 2.68s\n",
      "49:\tlearn: 3109.6069871\ttotal: 15.1s\tremaining: 0us\n",
      "0:\tlearn: 4381.7550620\ttotal: 337ms\tremaining: 33.4s\n",
      "10:\tlearn: 4061.8802741\ttotal: 3.24s\tremaining: 26.2s\n",
      "20:\tlearn: 3775.1330602\ttotal: 6.15s\tremaining: 23.2s\n",
      "30:\tlearn: 3519.2274436\ttotal: 9.14s\tremaining: 20.3s\n",
      "40:\tlearn: 3291.8286313\ttotal: 12.1s\tremaining: 17.4s\n",
      "50:\tlearn: 3088.6615581\ttotal: 14.9s\tremaining: 14.3s\n",
      "60:\tlearn: 2907.8390965\ttotal: 17.9s\tremaining: 11.4s\n",
      "70:\tlearn: 2747.8359343\ttotal: 20.7s\tremaining: 8.47s\n",
      "80:\tlearn: 2605.7159835\ttotal: 23.6s\tremaining: 5.55s\n",
      "90:\tlearn: 2480.0654975\ttotal: 26.5s\tremaining: 2.62s\n",
      "99:\tlearn: 2379.7966698\ttotal: 29.2s\tremaining: 0us\n",
      "0:\tlearn: 4381.8276052\ttotal: 331ms\tremaining: 32.8s\n",
      "10:\tlearn: 4061.3548327\ttotal: 3.23s\tremaining: 26.1s\n",
      "20:\tlearn: 3774.2223631\ttotal: 6.16s\tremaining: 23.2s\n",
      "30:\tlearn: 3518.7341946\ttotal: 9.15s\tremaining: 20.4s\n",
      "40:\tlearn: 3290.4113987\ttotal: 12.1s\tremaining: 17.4s\n",
      "50:\tlearn: 3087.3718255\ttotal: 15.2s\tremaining: 14.6s\n",
      "60:\tlearn: 2906.4715462\ttotal: 18.1s\tremaining: 11.6s\n",
      "70:\tlearn: 2746.5086016\ttotal: 21.1s\tremaining: 8.63s\n",
      "80:\tlearn: 2605.2050723\ttotal: 24.1s\tremaining: 5.66s\n",
      "90:\tlearn: 2479.9808836\ttotal: 27.2s\tremaining: 2.69s\n",
      "99:\tlearn: 2379.7455251\ttotal: 29.9s\tremaining: 0us\n",
      "0:\tlearn: 4386.6530664\ttotal: 341ms\tremaining: 33.8s\n",
      "10:\tlearn: 4065.6866232\ttotal: 3.41s\tremaining: 27.6s\n",
      "20:\tlearn: 3778.4514012\ttotal: 6.45s\tremaining: 24.3s\n",
      "30:\tlearn: 3522.7488904\ttotal: 9.46s\tremaining: 21.1s\n",
      "40:\tlearn: 3294.4025192\ttotal: 12.4s\tremaining: 17.9s\n",
      "50:\tlearn: 3090.2574713\ttotal: 15.5s\tremaining: 14.9s\n",
      "60:\tlearn: 2908.9488312\ttotal: 18.4s\tremaining: 11.8s\n",
      "70:\tlearn: 2748.4750786\ttotal: 21.4s\tremaining: 8.72s\n",
      "80:\tlearn: 2606.5773337\ttotal: 24.3s\tremaining: 5.7s\n",
      "90:\tlearn: 2480.8321827\ttotal: 27.2s\tremaining: 2.69s\n",
      "99:\tlearn: 2380.7361353\ttotal: 29.9s\tremaining: 0us\n",
      "0:\tlearn: 3442.5081455\ttotal: 344ms\tremaining: 16.9s\n",
      "10:\tlearn: 1609.8889484\ttotal: 3.32s\tremaining: 11.8s\n",
      "20:\tlearn: 1526.9043316\ttotal: 5.84s\tremaining: 8.06s\n",
      "30:\tlearn: 1480.2713173\ttotal: 8.08s\tremaining: 4.95s\n",
      "40:\tlearn: 1447.3537171\ttotal: 10.2s\tremaining: 2.24s\n",
      "49:\tlearn: 1404.0014629\ttotal: 12.1s\tremaining: 0us\n",
      "0:\tlearn: 3437.8699613\ttotal: 330ms\tremaining: 16.2s\n",
      "10:\tlearn: 1610.7428403\ttotal: 3.21s\tremaining: 11.4s\n",
      "20:\tlearn: 1527.0993314\ttotal: 5.67s\tremaining: 7.83s\n",
      "30:\tlearn: 1493.2664262\ttotal: 7.78s\tremaining: 4.76s\n",
      "40:\tlearn: 1468.2873362\ttotal: 9.8s\tremaining: 2.15s\n",
      "49:\tlearn: 1432.7755791\ttotal: 11.7s\tremaining: 0us\n",
      "0:\tlearn: 3433.5970657\ttotal: 348ms\tremaining: 17s\n",
      "10:\tlearn: 1602.8706823\ttotal: 3.29s\tremaining: 11.7s\n",
      "20:\tlearn: 1520.4869524\ttotal: 5.79s\tremaining: 8s\n",
      "30:\tlearn: 1478.2918219\ttotal: 8.07s\tremaining: 4.95s\n",
      "40:\tlearn: 1456.0672796\ttotal: 10.1s\tremaining: 2.21s\n",
      "49:\tlearn: 1428.0684909\ttotal: 11.9s\tremaining: 0us\n",
      "0:\tlearn: 3442.5081455\ttotal: 322ms\tremaining: 31.9s\n",
      "10:\tlearn: 1609.8889484\ttotal: 3.15s\tremaining: 25.5s\n",
      "20:\tlearn: 1526.9043316\ttotal: 5.6s\tremaining: 21.1s\n",
      "30:\tlearn: 1480.2713173\ttotal: 7.78s\tremaining: 17.3s\n",
      "40:\tlearn: 1447.3537171\ttotal: 9.87s\tremaining: 14.2s\n",
      "50:\tlearn: 1398.6249031\ttotal: 12.1s\tremaining: 11.6s\n",
      "60:\tlearn: 1367.9580303\ttotal: 14.1s\tremaining: 8.99s\n",
      "70:\tlearn: 1342.7788773\ttotal: 16.2s\tremaining: 6.6s\n",
      "80:\tlearn: 1319.7761577\ttotal: 18.2s\tremaining: 4.28s\n",
      "90:\tlearn: 1293.4299026\ttotal: 20.4s\tremaining: 2.01s\n",
      "99:\tlearn: 1277.4908468\ttotal: 22.2s\tremaining: 0us\n",
      "0:\tlearn: 3437.8699613\ttotal: 354ms\tremaining: 35s\n",
      "10:\tlearn: 1610.7428403\ttotal: 3.27s\tremaining: 26.5s\n",
      "20:\tlearn: 1527.0993314\ttotal: 5.7s\tremaining: 21.5s\n",
      "30:\tlearn: 1493.2664262\ttotal: 7.96s\tremaining: 17.7s\n",
      "40:\tlearn: 1468.2873362\ttotal: 9.95s\tremaining: 14.3s\n",
      "50:\tlearn: 1428.0704701\ttotal: 12s\tremaining: 11.5s\n",
      "60:\tlearn: 1408.5871021\ttotal: 13.8s\tremaining: 8.82s\n",
      "70:\tlearn: 1376.1678471\ttotal: 16s\tremaining: 6.54s\n",
      "80:\tlearn: 1360.2369384\ttotal: 17.9s\tremaining: 4.2s\n",
      "90:\tlearn: 1333.7780454\ttotal: 20s\tremaining: 1.98s\n",
      "99:\tlearn: 1315.7355293\ttotal: 22s\tremaining: 0us\n",
      "0:\tlearn: 3433.5970657\ttotal: 354ms\tremaining: 35s\n",
      "10:\tlearn: 1602.8706823\ttotal: 3.32s\tremaining: 26.9s\n",
      "20:\tlearn: 1520.4869524\ttotal: 5.83s\tremaining: 21.9s\n",
      "30:\tlearn: 1478.2918219\ttotal: 8.1s\tremaining: 18s\n",
      "40:\tlearn: 1456.0672796\ttotal: 10.1s\tremaining: 14.5s\n",
      "50:\tlearn: 1426.8644591\ttotal: 12.1s\tremaining: 11.6s\n",
      "60:\tlearn: 1396.8539877\ttotal: 14.1s\tremaining: 9.01s\n",
      "70:\tlearn: 1376.8211624\ttotal: 15.9s\tremaining: 6.51s\n",
      "80:\tlearn: 1348.9887547\ttotal: 18.1s\tremaining: 4.24s\n",
      "90:\tlearn: 1332.9494566\ttotal: 20s\tremaining: 1.98s\n",
      "99:\tlearn: 1317.2242203\ttotal: 21.8s\tremaining: 0us\n",
      "0:\tlearn: 4381.8379356\ttotal: 319ms\tremaining: 15.6s\n",
      "10:\tlearn: 4063.1982548\ttotal: 3.16s\tremaining: 11.2s\n",
      "20:\tlearn: 3777.2664414\ttotal: 6.11s\tremaining: 8.43s\n",
      "30:\tlearn: 3522.0185444\ttotal: 8.99s\tremaining: 5.51s\n",
      "40:\tlearn: 3294.3873650\ttotal: 11.9s\tremaining: 2.6s\n",
      "49:\tlearn: 3110.9842182\ttotal: 14.5s\tremaining: 0us\n",
      "0:\tlearn: 4381.9469554\ttotal: 329ms\tremaining: 16.1s\n",
      "10:\tlearn: 4062.7618867\ttotal: 3.22s\tremaining: 11.4s\n",
      "20:\tlearn: 3777.2828788\ttotal: 6.12s\tremaining: 8.45s\n",
      "30:\tlearn: 3522.2592801\ttotal: 9.07s\tremaining: 5.56s\n",
      "40:\tlearn: 3294.7812051\ttotal: 12s\tremaining: 2.63s\n",
      "49:\tlearn: 3112.3269779\ttotal: 14.7s\tremaining: 0us\n",
      "0:\tlearn: 4386.8379522\ttotal: 342ms\tremaining: 16.8s\n",
      "10:\tlearn: 4067.2634627\ttotal: 3.36s\tremaining: 11.9s\n",
      "20:\tlearn: 3780.8969994\ttotal: 6.37s\tremaining: 8.79s\n",
      "30:\tlearn: 3525.1285885\ttotal: 9.38s\tremaining: 5.75s\n",
      "40:\tlearn: 3297.7142530\ttotal: 12.4s\tremaining: 2.73s\n",
      "49:\tlearn: 3114.8737430\ttotal: 15.1s\tremaining: 0us\n",
      "0:\tlearn: 4381.8379356\ttotal: 329ms\tremaining: 32.5s\n",
      "10:\tlearn: 4063.1982548\ttotal: 3.19s\tremaining: 25.8s\n",
      "20:\tlearn: 3777.2664414\ttotal: 6.09s\tremaining: 22.9s\n",
      "30:\tlearn: 3522.0185444\ttotal: 8.94s\tremaining: 19.9s\n",
      "40:\tlearn: 3294.3873650\ttotal: 11.8s\tremaining: 17s\n",
      "50:\tlearn: 3091.7393667\ttotal: 14.7s\tremaining: 14.1s\n",
      "60:\tlearn: 2911.8217295\ttotal: 17.7s\tremaining: 11.3s\n",
      "70:\tlearn: 2752.5241016\ttotal: 20.5s\tremaining: 8.38s\n",
      "80:\tlearn: 2611.3124453\ttotal: 23.3s\tremaining: 5.47s\n",
      "90:\tlearn: 2486.2213875\ttotal: 26.2s\tremaining: 2.59s\n",
      "99:\tlearn: 2386.1637598\ttotal: 28.8s\tremaining: 0us\n",
      "0:\tlearn: 4381.9469554\ttotal: 339ms\tremaining: 33.6s\n",
      "10:\tlearn: 4062.7618867\ttotal: 3.26s\tremaining: 26.4s\n",
      "20:\tlearn: 3777.2828788\ttotal: 6.34s\tremaining: 23.9s\n",
      "30:\tlearn: 3522.2592801\ttotal: 9.29s\tremaining: 20.7s\n",
      "40:\tlearn: 3294.7812051\ttotal: 12.3s\tremaining: 17.7s\n",
      "50:\tlearn: 3093.1764126\ttotal: 15.3s\tremaining: 14.7s\n",
      "60:\tlearn: 2913.5884273\ttotal: 18.4s\tremaining: 11.8s\n",
      "70:\tlearn: 2753.7091200\ttotal: 21.5s\tremaining: 8.78s\n",
      "80:\tlearn: 2612.5871959\ttotal: 24.5s\tremaining: 5.76s\n",
      "90:\tlearn: 2487.6798708\ttotal: 27.6s\tremaining: 2.73s\n",
      "99:\tlearn: 2387.7625676\ttotal: 30.4s\tremaining: 0us\n",
      "0:\tlearn: 4386.8379522\ttotal: 343ms\tremaining: 34s\n",
      "10:\tlearn: 4067.2634627\ttotal: 3.29s\tremaining: 26.6s\n",
      "20:\tlearn: 3780.8969994\ttotal: 6.26s\tremaining: 23.6s\n",
      "30:\tlearn: 3525.1285885\ttotal: 9.19s\tremaining: 20.4s\n",
      "40:\tlearn: 3297.7142530\ttotal: 12.1s\tremaining: 17.4s\n",
      "50:\tlearn: 3095.7901707\ttotal: 15.1s\tremaining: 14.5s\n",
      "60:\tlearn: 2915.2970660\ttotal: 18s\tremaining: 11.5s\n",
      "70:\tlearn: 2754.9284971\ttotal: 21s\tremaining: 8.58s\n",
      "80:\tlearn: 2612.9859707\ttotal: 24s\tremaining: 5.63s\n",
      "90:\tlearn: 2487.4047747\ttotal: 27s\tremaining: 2.67s\n",
      "99:\tlearn: 2387.7507423\ttotal: 29.6s\tremaining: 0us\n",
      "0:\tlearn: 3444.7189205\ttotal: 326ms\tremaining: 16s\n",
      "10:\tlearn: 1615.0172410\ttotal: 3.15s\tremaining: 11.2s\n",
      "20:\tlearn: 1533.0431522\ttotal: 5.57s\tremaining: 7.7s\n",
      "30:\tlearn: 1500.2915640\ttotal: 7.56s\tremaining: 4.63s\n",
      "40:\tlearn: 1472.8977111\ttotal: 9.53s\tremaining: 2.09s\n",
      "49:\tlearn: 1445.4224852\ttotal: 11.2s\tremaining: 0us\n",
      "0:\tlearn: 3441.2558501\ttotal: 346ms\tremaining: 16.9s\n",
      "10:\tlearn: 1618.2112995\ttotal: 3.31s\tremaining: 11.7s\n",
      "20:\tlearn: 1532.9523031\ttotal: 5.78s\tremaining: 7.98s\n",
      "30:\tlearn: 1507.1173437\ttotal: 7.74s\tremaining: 4.74s\n",
      "40:\tlearn: 1483.6630850\ttotal: 9.7s\tremaining: 2.13s\n",
      "49:\tlearn: 1463.8418148\ttotal: 11.4s\tremaining: 0us\n",
      "0:\tlearn: 3439.0611104\ttotal: 336ms\tremaining: 16.5s\n",
      "10:\tlearn: 1615.6790945\ttotal: 3.18s\tremaining: 11.3s\n",
      "20:\tlearn: 1531.8034613\ttotal: 5.71s\tremaining: 7.88s\n",
      "30:\tlearn: 1508.0791425\ttotal: 7.74s\tremaining: 4.74s\n",
      "40:\tlearn: 1478.7339019\ttotal: 9.74s\tremaining: 2.14s\n",
      "49:\tlearn: 1439.0790293\ttotal: 11.7s\tremaining: 0us\n",
      "0:\tlearn: 3444.7189205\ttotal: 337ms\tremaining: 33.4s\n",
      "10:\tlearn: 1615.0172410\ttotal: 3.17s\tremaining: 25.6s\n",
      "20:\tlearn: 1533.0431522\ttotal: 5.6s\tremaining: 21.1s\n",
      "30:\tlearn: 1500.2915640\ttotal: 7.61s\tremaining: 16.9s\n",
      "40:\tlearn: 1472.8977111\ttotal: 9.53s\tremaining: 13.7s\n",
      "50:\tlearn: 1442.0204427\ttotal: 11.4s\tremaining: 11s\n",
      "60:\tlearn: 1413.1790394\ttotal: 13.4s\tremaining: 8.57s\n",
      "70:\tlearn: 1389.1646352\ttotal: 15.4s\tremaining: 6.29s\n",
      "80:\tlearn: 1364.5940441\ttotal: 17.6s\tremaining: 4.13s\n",
      "90:\tlearn: 1337.5267205\ttotal: 19.8s\tremaining: 1.96s\n",
      "99:\tlearn: 1311.5831445\ttotal: 21.8s\tremaining: 0us\n",
      "0:\tlearn: 3441.2558501\ttotal: 445ms\tremaining: 44.1s\n",
      "10:\tlearn: 1618.2112995\ttotal: 3.43s\tremaining: 27.7s\n",
      "20:\tlearn: 1532.9523031\ttotal: 5.93s\tremaining: 22.3s\n",
      "30:\tlearn: 1507.1173437\ttotal: 8.01s\tremaining: 17.8s\n",
      "40:\tlearn: 1483.6630850\ttotal: 10.1s\tremaining: 14.5s\n",
      "50:\tlearn: 1460.0977997\ttotal: 12s\tremaining: 11.6s\n",
      "60:\tlearn: 1444.9083118\ttotal: 13.9s\tremaining: 8.87s\n",
      "70:\tlearn: 1434.5532951\ttotal: 15.7s\tremaining: 6.4s\n",
      "80:\tlearn: 1416.5805279\ttotal: 17.6s\tremaining: 4.13s\n",
      "90:\tlearn: 1399.9553709\ttotal: 19.5s\tremaining: 1.93s\n",
      "99:\tlearn: 1385.3063453\ttotal: 21.2s\tremaining: 0us\n",
      "0:\tlearn: 3439.0611104\ttotal: 330ms\tremaining: 32.7s\n",
      "10:\tlearn: 1615.6790945\ttotal: 3.26s\tremaining: 26.4s\n",
      "20:\tlearn: 1531.8034613\ttotal: 5.79s\tremaining: 21.8s\n",
      "30:\tlearn: 1508.0791425\ttotal: 7.83s\tremaining: 17.4s\n",
      "40:\tlearn: 1478.7339019\ttotal: 9.9s\tremaining: 14.3s\n",
      "50:\tlearn: 1438.5667000\ttotal: 12s\tremaining: 11.5s\n",
      "60:\tlearn: 1424.0803482\ttotal: 13.7s\tremaining: 8.73s\n",
      "70:\tlearn: 1411.9626341\ttotal: 15.4s\tremaining: 6.3s\n",
      "80:\tlearn: 1385.9734309\ttotal: 17.4s\tremaining: 4.08s\n",
      "90:\tlearn: 1361.3692328\ttotal: 19.5s\tremaining: 1.93s\n",
      "99:\tlearn: 1346.0120178\ttotal: 21.3s\tremaining: 0us\n",
      "0:\tlearn: 4381.8005273\ttotal: 329ms\tremaining: 16.1s\n",
      "10:\tlearn: 4062.5040398\ttotal: 3.2s\tremaining: 11.3s\n",
      "20:\tlearn: 3778.4305549\ttotal: 6.05s\tremaining: 8.35s\n",
      "30:\tlearn: 3524.1286893\ttotal: 8.93s\tremaining: 5.47s\n",
      "40:\tlearn: 3297.4414835\ttotal: 11.8s\tremaining: 2.59s\n",
      "49:\tlearn: 3115.1630292\ttotal: 14.4s\tremaining: 0us\n",
      "0:\tlearn: 4382.0619254\ttotal: 342ms\tremaining: 16.8s\n",
      "10:\tlearn: 4063.4664960\ttotal: 3.28s\tremaining: 11.6s\n",
      "20:\tlearn: 3779.5532898\ttotal: 6.2s\tremaining: 8.56s\n",
      "30:\tlearn: 3525.2672656\ttotal: 9.16s\tremaining: 5.61s\n",
      "40:\tlearn: 3298.3882859\ttotal: 12.2s\tremaining: 2.68s\n",
      "49:\tlearn: 3116.0467379\ttotal: 14.9s\tremaining: 0us\n",
      "0:\tlearn: 4386.9654038\ttotal: 332ms\tremaining: 16.3s\n",
      "10:\tlearn: 4068.7042272\ttotal: 3.26s\tremaining: 11.6s\n",
      "20:\tlearn: 3784.2052390\ttotal: 6.29s\tremaining: 8.68s\n",
      "30:\tlearn: 3529.0871566\ttotal: 9.13s\tremaining: 5.6s\n",
      "40:\tlearn: 3302.1291697\ttotal: 12s\tremaining: 2.64s\n",
      "49:\tlearn: 3119.7322554\ttotal: 14.7s\tremaining: 0us\n",
      "0:\tlearn: 4381.8005273\ttotal: 331ms\tremaining: 32.8s\n",
      "10:\tlearn: 4062.5040398\ttotal: 3.19s\tremaining: 25.8s\n",
      "20:\tlearn: 3778.4305549\ttotal: 6.06s\tremaining: 22.8s\n",
      "30:\tlearn: 3524.1286893\ttotal: 8.94s\tremaining: 19.9s\n",
      "40:\tlearn: 3297.4414835\ttotal: 11.8s\tremaining: 17s\n",
      "50:\tlearn: 3095.8220043\ttotal: 14.7s\tremaining: 14.1s\n",
      "60:\tlearn: 2916.7822868\ttotal: 17.6s\tremaining: 11.2s\n",
      "70:\tlearn: 2757.0171145\ttotal: 20.5s\tremaining: 8.36s\n",
      "80:\tlearn: 2616.1417799\ttotal: 23.3s\tremaining: 5.47s\n",
      "90:\tlearn: 2491.5619501\ttotal: 26.2s\tremaining: 2.59s\n",
      "99:\tlearn: 2391.6839627\ttotal: 28.7s\tremaining: 0us\n",
      "0:\tlearn: 4382.0619254\ttotal: 346ms\tremaining: 34.3s\n",
      "10:\tlearn: 4063.4664960\ttotal: 3.23s\tremaining: 26.1s\n",
      "20:\tlearn: 3779.5532898\ttotal: 6.26s\tremaining: 23.6s\n",
      "30:\tlearn: 3525.2672656\ttotal: 9.22s\tremaining: 20.5s\n",
      "40:\tlearn: 3298.3882859\ttotal: 12.3s\tremaining: 17.7s\n",
      "50:\tlearn: 3097.0040870\ttotal: 15.3s\tremaining: 14.7s\n",
      "60:\tlearn: 2917.9916741\ttotal: 18.3s\tremaining: 11.7s\n",
      "70:\tlearn: 2758.6138173\ttotal: 21.3s\tremaining: 8.72s\n",
      "80:\tlearn: 2617.7749552\ttotal: 24.3s\tremaining: 5.71s\n",
      "90:\tlearn: 2492.8550361\ttotal: 27.3s\tremaining: 2.7s\n",
      "99:\tlearn: 2392.7942957\ttotal: 30.2s\tremaining: 0us\n",
      "0:\tlearn: 4386.9654038\ttotal: 337ms\tremaining: 33.4s\n",
      "10:\tlearn: 4068.7042272\ttotal: 3.23s\tremaining: 26.1s\n",
      "20:\tlearn: 3784.2052390\ttotal: 6.15s\tremaining: 23.1s\n",
      "30:\tlearn: 3529.0871566\ttotal: 9.1s\tremaining: 20.3s\n",
      "40:\tlearn: 3302.1291697\ttotal: 12s\tremaining: 17.3s\n",
      "50:\tlearn: 3100.6392150\ttotal: 14.9s\tremaining: 14.3s\n",
      "60:\tlearn: 2920.8263800\ttotal: 17.8s\tremaining: 11.4s\n",
      "70:\tlearn: 2760.9657292\ttotal: 20.8s\tremaining: 8.51s\n",
      "80:\tlearn: 2619.6537511\ttotal: 23.8s\tremaining: 5.58s\n",
      "90:\tlearn: 2494.5664957\ttotal: 26.7s\tremaining: 2.64s\n",
      "99:\tlearn: 2394.3706172\ttotal: 29.4s\tremaining: 0us\n",
      "0:\tlearn: 3442.9465112\ttotal: 338ms\tremaining: 16.6s\n",
      "10:\tlearn: 1622.5167164\ttotal: 3.22s\tremaining: 11.4s\n",
      "20:\tlearn: 1549.9603815\ttotal: 5.64s\tremaining: 7.79s\n",
      "30:\tlearn: 1516.3784258\ttotal: 7.8s\tremaining: 4.78s\n",
      "40:\tlearn: 1495.1371411\ttotal: 9.72s\tremaining: 2.13s\n",
      "49:\tlearn: 1482.1222229\ttotal: 11.3s\tremaining: 0us\n",
      "0:\tlearn: 3444.4579608\ttotal: 349ms\tremaining: 17.1s\n",
      "10:\tlearn: 1625.2334179\ttotal: 3.3s\tremaining: 11.7s\n",
      "20:\tlearn: 1546.1456566\ttotal: 5.83s\tremaining: 8.05s\n",
      "30:\tlearn: 1514.2949379\ttotal: 7.94s\tremaining: 4.87s\n",
      "40:\tlearn: 1492.9295613\ttotal: 9.84s\tremaining: 2.16s\n",
      "49:\tlearn: 1468.5700831\ttotal: 11.6s\tremaining: 0us\n",
      "0:\tlearn: 3442.8188334\ttotal: 336ms\tremaining: 16.5s\n",
      "10:\tlearn: 1625.5393622\ttotal: 3.25s\tremaining: 11.5s\n",
      "20:\tlearn: 1536.4727327\ttotal: 5.8s\tremaining: 8.01s\n",
      "30:\tlearn: 1514.7752711\ttotal: 7.71s\tremaining: 4.72s\n",
      "40:\tlearn: 1485.6244638\ttotal: 9.72s\tremaining: 2.13s\n",
      "49:\tlearn: 1465.8212095\ttotal: 11.4s\tremaining: 0us\n",
      "0:\tlearn: 3442.9465112\ttotal: 318ms\tremaining: 31.4s\n",
      "10:\tlearn: 1622.5167164\ttotal: 3.1s\tremaining: 25.1s\n",
      "20:\tlearn: 1549.9603815\ttotal: 5.41s\tremaining: 20.4s\n",
      "30:\tlearn: 1516.3784258\ttotal: 7.4s\tremaining: 16.5s\n",
      "40:\tlearn: 1495.1371411\ttotal: 9.23s\tremaining: 13.3s\n",
      "50:\tlearn: 1479.4294902\ttotal: 10.9s\tremaining: 10.5s\n",
      "60:\tlearn: 1455.3560207\ttotal: 12.8s\tremaining: 8.16s\n",
      "70:\tlearn: 1438.6275946\ttotal: 14.5s\tremaining: 5.92s\n",
      "80:\tlearn: 1421.6730059\ttotal: 16.2s\tremaining: 3.79s\n",
      "90:\tlearn: 1403.9055630\ttotal: 18.1s\tremaining: 1.79s\n",
      "99:\tlearn: 1386.6524945\ttotal: 19.9s\tremaining: 0us\n",
      "0:\tlearn: 3444.4579608\ttotal: 336ms\tremaining: 33.2s\n",
      "10:\tlearn: 1625.2334179\ttotal: 3.25s\tremaining: 26.3s\n",
      "20:\tlearn: 1546.1456566\ttotal: 5.66s\tremaining: 21.3s\n",
      "30:\tlearn: 1514.2949379\ttotal: 7.71s\tremaining: 17.2s\n",
      "40:\tlearn: 1492.9295613\ttotal: 9.61s\tremaining: 13.8s\n",
      "50:\tlearn: 1466.1478809\ttotal: 11.5s\tremaining: 11.1s\n",
      "60:\tlearn: 1461.2972019\ttotal: 13.1s\tremaining: 8.37s\n",
      "70:\tlearn: 1444.7121546\ttotal: 14.9s\tremaining: 6.1s\n",
      "80:\tlearn: 1415.2503948\ttotal: 17s\tremaining: 3.98s\n",
      "90:\tlearn: 1395.6881580\ttotal: 19s\tremaining: 1.88s\n",
      "99:\tlearn: 1384.2993880\ttotal: 20.7s\tremaining: 0us\n",
      "0:\tlearn: 3442.8188334\ttotal: 333ms\tremaining: 32.9s\n",
      "10:\tlearn: 1625.5393622\ttotal: 3.17s\tremaining: 25.7s\n",
      "20:\tlearn: 1536.4727327\ttotal: 5.87s\tremaining: 22.1s\n",
      "30:\tlearn: 1514.7752711\ttotal: 7.76s\tremaining: 17.3s\n",
      "40:\tlearn: 1485.6244638\ttotal: 9.75s\tremaining: 14s\n",
      "50:\tlearn: 1463.0047314\ttotal: 11.6s\tremaining: 11.1s\n",
      "60:\tlearn: 1450.4090953\ttotal: 13.2s\tremaining: 8.46s\n",
      "70:\tlearn: 1438.9221735\ttotal: 15s\tremaining: 6.11s\n",
      "80:\tlearn: 1415.2199931\ttotal: 16.9s\tremaining: 3.97s\n",
      "90:\tlearn: 1391.7069936\ttotal: 19s\tremaining: 1.88s\n",
      "99:\tlearn: 1371.5115262\ttotal: 20.7s\tremaining: 0us\n",
      "0:\tlearn: 4381.9399699\ttotal: 315ms\tremaining: 15.4s\n",
      "10:\tlearn: 4065.0598056\ttotal: 3.12s\tremaining: 11.1s\n",
      "20:\tlearn: 3780.9420471\ttotal: 5.96s\tremaining: 8.23s\n",
      "30:\tlearn: 3527.6338525\ttotal: 8.81s\tremaining: 5.4s\n",
      "40:\tlearn: 3301.6202202\ttotal: 11.7s\tremaining: 2.57s\n",
      "49:\tlearn: 3119.3403193\ttotal: 14.4s\tremaining: 0us\n",
      "0:\tlearn: 4382.1834552\ttotal: 333ms\tremaining: 16.3s\n",
      "10:\tlearn: 4064.5623981\ttotal: 3.26s\tremaining: 11.6s\n",
      "20:\tlearn: 3780.6043970\ttotal: 6.24s\tremaining: 8.62s\n",
      "30:\tlearn: 3527.1737877\ttotal: 9.26s\tremaining: 5.67s\n",
      "40:\tlearn: 3301.6645744\ttotal: 12.2s\tremaining: 2.68s\n",
      "49:\tlearn: 3119.5024954\ttotal: 14.9s\tremaining: 0us\n",
      "0:\tlearn: 4387.0675805\ttotal: 335ms\tremaining: 16.4s\n",
      "10:\tlearn: 4069.9527220\ttotal: 3.28s\tremaining: 11.6s\n",
      "20:\tlearn: 3784.6254411\ttotal: 6.23s\tremaining: 8.6s\n",
      "30:\tlearn: 3531.1414553\ttotal: 9.21s\tremaining: 5.65s\n",
      "40:\tlearn: 3304.2450039\ttotal: 12.3s\tremaining: 2.69s\n",
      "49:\tlearn: 3122.2522464\ttotal: 14.9s\tremaining: 0us\n",
      "0:\tlearn: 4381.9399699\ttotal: 335ms\tremaining: 33.2s\n",
      "10:\tlearn: 4065.0598056\ttotal: 3.17s\tremaining: 25.7s\n",
      "20:\tlearn: 3780.9420471\ttotal: 6.07s\tremaining: 22.8s\n",
      "30:\tlearn: 3527.6338525\ttotal: 8.96s\tremaining: 19.9s\n",
      "40:\tlearn: 3301.6202202\ttotal: 11.8s\tremaining: 17s\n",
      "50:\tlearn: 3100.2318232\ttotal: 14.6s\tremaining: 14s\n",
      "60:\tlearn: 2921.0786506\ttotal: 17.5s\tremaining: 11.2s\n",
      "70:\tlearn: 2762.5094821\ttotal: 20.3s\tremaining: 8.31s\n",
      "80:\tlearn: 2621.6658340\ttotal: 23.2s\tremaining: 5.44s\n",
      "90:\tlearn: 2496.5822178\ttotal: 26s\tremaining: 2.58s\n",
      "99:\tlearn: 2397.2851047\ttotal: 28.6s\tremaining: 0us\n",
      "0:\tlearn: 4382.1834552\ttotal: 347ms\tremaining: 34.3s\n",
      "10:\tlearn: 4064.5623981\ttotal: 3.33s\tremaining: 27s\n",
      "20:\tlearn: 3780.6043970\ttotal: 6.41s\tremaining: 24.1s\n",
      "30:\tlearn: 3527.1737877\ttotal: 9.38s\tremaining: 20.9s\n",
      "40:\tlearn: 3301.6645744\ttotal: 12.4s\tremaining: 17.8s\n",
      "50:\tlearn: 3100.3234797\ttotal: 15.4s\tremaining: 14.8s\n",
      "60:\tlearn: 2921.0590602\ttotal: 18.4s\tremaining: 11.7s\n",
      "70:\tlearn: 2762.7175370\ttotal: 21.3s\tremaining: 8.7s\n",
      "80:\tlearn: 2621.9688893\ttotal: 24.2s\tremaining: 5.68s\n",
      "90:\tlearn: 2497.6275316\ttotal: 27.4s\tremaining: 2.71s\n",
      "99:\tlearn: 2398.0436266\ttotal: 30s\tremaining: 0us\n",
      "0:\tlearn: 4387.0675805\ttotal: 333ms\tremaining: 33s\n",
      "10:\tlearn: 4069.9527220\ttotal: 3.19s\tremaining: 25.8s\n",
      "20:\tlearn: 3784.6254411\ttotal: 6.08s\tremaining: 22.9s\n",
      "30:\tlearn: 3531.1414553\ttotal: 8.95s\tremaining: 19.9s\n",
      "40:\tlearn: 3304.2450039\ttotal: 11.9s\tremaining: 17.1s\n",
      "50:\tlearn: 3103.1156921\ttotal: 14.8s\tremaining: 14.2s\n",
      "60:\tlearn: 2923.5394737\ttotal: 17.7s\tremaining: 11.3s\n",
      "70:\tlearn: 2763.7113046\ttotal: 20.6s\tremaining: 8.42s\n",
      "80:\tlearn: 2623.2466211\ttotal: 23.5s\tremaining: 5.52s\n",
      "90:\tlearn: 2498.8393655\ttotal: 26.5s\tremaining: 2.62s\n",
      "99:\tlearn: 2398.7778841\ttotal: 29.2s\tremaining: 0us\n",
      "0:\tlearn: 3446.9543759\ttotal: 327ms\tremaining: 16s\n",
      "10:\tlearn: 1624.3576458\ttotal: 3.18s\tremaining: 11.3s\n",
      "20:\tlearn: 1550.1450708\ttotal: 5.63s\tremaining: 7.78s\n",
      "30:\tlearn: 1522.1590657\ttotal: 7.7s\tremaining: 4.72s\n",
      "40:\tlearn: 1496.9986769\ttotal: 9.6s\tremaining: 2.11s\n",
      "49:\tlearn: 1479.7659328\ttotal: 11.1s\tremaining: 0us\n",
      "0:\tlearn: 3447.9948007\ttotal: 341ms\tremaining: 16.7s\n",
      "10:\tlearn: 1628.9141368\ttotal: 3.24s\tremaining: 11.5s\n",
      "20:\tlearn: 1557.1141545\ttotal: 5.61s\tremaining: 7.75s\n",
      "30:\tlearn: 1529.9528557\ttotal: 7.56s\tremaining: 4.63s\n",
      "40:\tlearn: 1506.7656892\ttotal: 9.39s\tremaining: 2.06s\n",
      "49:\tlearn: 1489.1412597\ttotal: 10.9s\tremaining: 0us\n",
      "0:\tlearn: 3445.6691242\ttotal: 327ms\tremaining: 16s\n",
      "10:\tlearn: 1627.9135430\ttotal: 3.11s\tremaining: 11s\n",
      "20:\tlearn: 1552.8319425\ttotal: 5.47s\tremaining: 7.56s\n",
      "30:\tlearn: 1523.8509460\ttotal: 7.39s\tremaining: 4.53s\n",
      "40:\tlearn: 1511.0313707\ttotal: 9.11s\tremaining: 2s\n",
      "49:\tlearn: 1502.7973667\ttotal: 10.5s\tremaining: 0us\n",
      "0:\tlearn: 3446.9543759\ttotal: 329ms\tremaining: 32.5s\n",
      "10:\tlearn: 1624.3576458\ttotal: 3.07s\tremaining: 24.8s\n",
      "20:\tlearn: 1550.1450708\ttotal: 5.39s\tremaining: 20.3s\n",
      "30:\tlearn: 1522.1590657\ttotal: 7.38s\tremaining: 16.4s\n",
      "40:\tlearn: 1496.9986769\ttotal: 9.31s\tremaining: 13.4s\n",
      "50:\tlearn: 1478.3293611\ttotal: 11s\tremaining: 10.6s\n",
      "60:\tlearn: 1472.9130398\ttotal: 12.5s\tremaining: 7.99s\n",
      "70:\tlearn: 1454.6594217\ttotal: 14.3s\tremaining: 5.83s\n",
      "80:\tlearn: 1441.0031500\ttotal: 16s\tremaining: 3.75s\n",
      "90:\tlearn: 1427.5080800\ttotal: 17.7s\tremaining: 1.75s\n",
      "99:\tlearn: 1412.2863949\ttotal: 19.4s\tremaining: 0us\n",
      "0:\tlearn: 3447.9948007\ttotal: 356ms\tremaining: 35.3s\n",
      "10:\tlearn: 1628.9141368\ttotal: 3.3s\tremaining: 26.7s\n",
      "20:\tlearn: 1557.1141545\ttotal: 5.78s\tremaining: 21.7s\n",
      "30:\tlearn: 1529.9528557\ttotal: 7.86s\tremaining: 17.5s\n",
      "40:\tlearn: 1506.7656892\ttotal: 9.75s\tremaining: 14s\n",
      "50:\tlearn: 1489.0621731\ttotal: 11.5s\tremaining: 11s\n",
      "60:\tlearn: 1472.2150569\ttotal: 13.2s\tremaining: 8.46s\n",
      "70:\tlearn: 1458.3963712\ttotal: 15s\tremaining: 6.14s\n",
      "80:\tlearn: 1439.9405310\ttotal: 17.1s\tremaining: 4s\n",
      "90:\tlearn: 1425.8872164\ttotal: 18.9s\tremaining: 1.87s\n",
      "99:\tlearn: 1409.4653133\ttotal: 20.7s\tremaining: 0us\n",
      "0:\tlearn: 3445.6691242\ttotal: 335ms\tremaining: 33.2s\n",
      "10:\tlearn: 1627.9135430\ttotal: 3.25s\tremaining: 26.3s\n",
      "20:\tlearn: 1552.8319425\ttotal: 5.84s\tremaining: 22s\n",
      "30:\tlearn: 1523.8509460\ttotal: 7.74s\tremaining: 17.2s\n",
      "40:\tlearn: 1511.0313707\ttotal: 9.45s\tremaining: 13.6s\n",
      "50:\tlearn: 1502.1246497\ttotal: 11s\tremaining: 10.6s\n",
      "60:\tlearn: 1483.6802535\ttotal: 12.6s\tremaining: 8.08s\n",
      "70:\tlearn: 1472.7990512\ttotal: 14.2s\tremaining: 5.8s\n",
      "80:\tlearn: 1468.9466042\ttotal: 15.7s\tremaining: 3.69s\n",
      "90:\tlearn: 1440.1776381\ttotal: 17.6s\tremaining: 1.74s\n",
      "99:\tlearn: 1427.2137415\ttotal: 19.3s\tremaining: 0us\n",
      "0:\tlearn: 3423.2743641\ttotal: 483ms\tremaining: 47.8s\n",
      "10:\tlearn: 1596.3544556\ttotal: 4.7s\tremaining: 38s\n",
      "20:\tlearn: 1513.8207829\ttotal: 8.33s\tremaining: 31.3s\n",
      "30:\tlearn: 1470.7326230\ttotal: 11.6s\tremaining: 25.9s\n",
      "40:\tlearn: 1428.9479513\ttotal: 15.2s\tremaining: 21.9s\n",
      "50:\tlearn: 1398.9142511\ttotal: 18.2s\tremaining: 17.5s\n",
      "60:\tlearn: 1361.5497434\ttotal: 21.5s\tremaining: 13.8s\n",
      "70:\tlearn: 1325.5003480\ttotal: 25s\tremaining: 10.2s\n",
      "80:\tlearn: 1306.7808128\ttotal: 28.1s\tremaining: 6.58s\n",
      "90:\tlearn: 1279.6553170\ttotal: 31.5s\tremaining: 3.11s\n",
      "99:\tlearn: 1259.4072695\ttotal: 34.4s\tremaining: 0us\n",
      "Best hyperparams:  {'depth': 10, 'grow_policy': 'Depthwise', 'l2_leaf_reg': 1, 'learning_rate': 0.3, 'n_estimators': 100}\n",
      "RMSE score on train sample: nan\n",
      "CPU times: user 37min 9s, sys: 8.46 s, total: 37min 18s\n",
      "Wall time: 38min 45s\n"
     ]
    },
    {
     "name": "stderr",
     "output_type": "stream",
     "text": [
      "<timed exec>:11: RuntimeWarning: invalid value encountered in double_scalars\n"
     ]
    }
   ],
   "source": [
    "%%time\n",
    "model = cat(eval_metric='RMSE',random_state=12345,verbose=10)\n",
    "params = {'learning_rate': [0.01, 0.3],\n",
    "        'depth': [4, 6, 10],\n",
    "        'l2_leaf_reg': [1, 3, 5, 7, 9],\n",
    "        'n_estimators' : [50, 100],\n",
    "         'grow_policy' : ['Depthwise']}\n",
    "grid_cv = GridSearchCV(estimator=model, param_grid=params, cv=3, n_jobs=-1, scoring='neg_mean_squared_error')\n",
    "grid_cv.fit(df_features, df_target,cat_features=['VehicleType','Gearbox','Model','FuelType','Brand','NotRepaired'])\n",
    "print('Best hyperparams: ', grid_cv.best_params_)\n",
    "params_best =  grid_cv.best_params_\n",
    "print('RMSE score on train sample: {:.2f}'.format((grid_cv.best_score_) ** 0.5))"
   ]
  },
  {
   "cell_type": "code",
   "execution_count": 51,
   "metadata": {
    "scrolled": true
   },
   "outputs": [
    {
     "name": "stdout",
     "output_type": "stream",
     "text": [
      "0:\tlearn: 3435.2200496\ttotal: 363ms\tremaining: 35.9s\n",
      "1:\tlearn: 2782.8977291\ttotal: 684ms\tremaining: 33.5s\n",
      "2:\tlearn: 2357.8141999\ttotal: 1s\tremaining: 32.4s\n",
      "3:\tlearn: 2082.1234705\ttotal: 1.34s\tremaining: 32.1s\n",
      "4:\tlearn: 1904.8015095\ttotal: 1.66s\tremaining: 31.6s\n",
      "5:\tlearn: 1795.7690786\ttotal: 1.99s\tremaining: 31.2s\n",
      "6:\tlearn: 1723.7524789\ttotal: 2.31s\tremaining: 30.6s\n",
      "7:\tlearn: 1676.3572113\ttotal: 2.63s\tremaining: 30.3s\n",
      "8:\tlearn: 1642.6720427\ttotal: 2.93s\tremaining: 29.6s\n",
      "9:\tlearn: 1618.3474547\ttotal: 3.27s\tremaining: 29.4s\n",
      "10:\tlearn: 1600.5702380\ttotal: 3.59s\tremaining: 29s\n",
      "11:\tlearn: 1584.1357658\ttotal: 3.87s\tremaining: 28.4s\n",
      "12:\tlearn: 1570.4834139\ttotal: 4.17s\tremaining: 27.9s\n",
      "13:\tlearn: 1561.1342090\ttotal: 4.46s\tremaining: 27.4s\n",
      "14:\tlearn: 1553.1247535\ttotal: 4.74s\tremaining: 26.9s\n",
      "15:\tlearn: 1544.3714307\ttotal: 5.02s\tremaining: 26.4s\n",
      "16:\tlearn: 1537.0678322\ttotal: 5.31s\tremaining: 25.9s\n",
      "17:\tlearn: 1529.9213171\ttotal: 5.58s\tremaining: 25.4s\n",
      "18:\tlearn: 1521.2084098\ttotal: 5.86s\tremaining: 25s\n",
      "19:\tlearn: 1514.1604845\ttotal: 6.14s\tremaining: 24.6s\n",
      "20:\tlearn: 1510.5689906\ttotal: 6.4s\tremaining: 24.1s\n",
      "21:\tlearn: 1505.6278556\ttotal: 6.65s\tremaining: 23.6s\n",
      "22:\tlearn: 1501.8270403\ttotal: 6.91s\tremaining: 23.1s\n",
      "23:\tlearn: 1497.2971083\ttotal: 7.17s\tremaining: 22.7s\n",
      "24:\tlearn: 1489.7749148\ttotal: 7.46s\tremaining: 22.4s\n",
      "25:\tlearn: 1486.1422678\ttotal: 7.76s\tremaining: 22.1s\n",
      "26:\tlearn: 1481.6111172\ttotal: 8.03s\tremaining: 21.7s\n",
      "27:\tlearn: 1480.1358251\ttotal: 8.24s\tremaining: 21.2s\n",
      "28:\tlearn: 1478.0478849\ttotal: 8.46s\tremaining: 20.7s\n",
      "29:\tlearn: 1475.8449500\ttotal: 8.7s\tremaining: 20.3s\n",
      "30:\tlearn: 1469.8774790\ttotal: 9s\tremaining: 20s\n",
      "31:\tlearn: 1462.7444742\ttotal: 9.32s\tremaining: 19.8s\n",
      "32:\tlearn: 1460.3483800\ttotal: 9.54s\tremaining: 19.4s\n",
      "33:\tlearn: 1457.2272621\ttotal: 9.8s\tremaining: 19s\n",
      "34:\tlearn: 1451.3854751\ttotal: 10.1s\tremaining: 18.7s\n",
      "35:\tlearn: 1450.1232641\ttotal: 10.3s\tremaining: 18.3s\n",
      "36:\tlearn: 1446.7116903\ttotal: 10.6s\tremaining: 18s\n",
      "37:\tlearn: 1440.6329309\ttotal: 10.8s\tremaining: 17.7s\n",
      "38:\tlearn: 1432.6279065\ttotal: 11.1s\tremaining: 17.4s\n",
      "39:\tlearn: 1428.2542885\ttotal: 11.4s\tremaining: 17.1s\n",
      "40:\tlearn: 1427.2505277\ttotal: 11.6s\tremaining: 16.7s\n",
      "41:\tlearn: 1423.0056193\ttotal: 11.9s\tremaining: 16.4s\n",
      "42:\tlearn: 1411.8266155\ttotal: 12.2s\tremaining: 16.2s\n",
      "43:\tlearn: 1408.4389691\ttotal: 12.5s\tremaining: 15.9s\n",
      "44:\tlearn: 1407.8666332\ttotal: 12.7s\tremaining: 15.5s\n",
      "45:\tlearn: 1405.6622509\ttotal: 12.9s\tremaining: 15.1s\n",
      "46:\tlearn: 1402.5575132\ttotal: 13.1s\tremaining: 14.8s\n",
      "47:\tlearn: 1393.0662361\ttotal: 13.5s\tremaining: 14.6s\n",
      "48:\tlearn: 1388.7994757\ttotal: 13.7s\tremaining: 14.3s\n",
      "49:\tlearn: 1386.8981612\ttotal: 14s\tremaining: 14s\n",
      "50:\tlearn: 1379.7749832\ttotal: 14.3s\tremaining: 13.7s\n",
      "51:\tlearn: 1373.2429564\ttotal: 14.6s\tremaining: 13.4s\n",
      "52:\tlearn: 1369.8937436\ttotal: 14.8s\tremaining: 13.1s\n",
      "53:\tlearn: 1363.0457602\ttotal: 15.1s\tremaining: 12.8s\n",
      "54:\tlearn: 1358.7210477\ttotal: 15.3s\tremaining: 12.5s\n",
      "55:\tlearn: 1350.4733075\ttotal: 15.7s\tremaining: 12.3s\n",
      "56:\tlearn: 1343.8737176\ttotal: 15.9s\tremaining: 12s\n",
      "57:\tlearn: 1341.4645030\ttotal: 16.2s\tremaining: 11.7s\n",
      "58:\tlearn: 1337.9491180\ttotal: 16.5s\tremaining: 11.4s\n",
      "59:\tlearn: 1336.1895441\ttotal: 16.7s\tremaining: 11.1s\n",
      "60:\tlearn: 1330.7181444\ttotal: 16.9s\tremaining: 10.8s\n",
      "61:\tlearn: 1324.2086300\ttotal: 17.2s\tremaining: 10.6s\n",
      "62:\tlearn: 1318.8611903\ttotal: 17.5s\tremaining: 10.3s\n",
      "63:\tlearn: 1313.4009394\ttotal: 17.8s\tremaining: 10s\n",
      "64:\tlearn: 1311.9492167\ttotal: 18.1s\tremaining: 9.73s\n",
      "65:\tlearn: 1310.2049641\ttotal: 18.3s\tremaining: 9.42s\n",
      "66:\tlearn: 1304.1202071\ttotal: 18.6s\tremaining: 9.16s\n",
      "67:\tlearn: 1302.7652564\ttotal: 18.9s\tremaining: 8.88s\n",
      "68:\tlearn: 1297.2733378\ttotal: 19.2s\tremaining: 8.61s\n",
      "69:\tlearn: 1296.3625898\ttotal: 19.4s\tremaining: 8.3s\n",
      "70:\tlearn: 1296.0173796\ttotal: 19.5s\tremaining: 7.98s\n",
      "71:\tlearn: 1293.8495783\ttotal: 19.8s\tremaining: 7.7s\n",
      "72:\tlearn: 1291.3816883\ttotal: 20s\tremaining: 7.41s\n",
      "73:\tlearn: 1290.2431993\ttotal: 20.2s\tremaining: 7.11s\n",
      "74:\tlearn: 1288.4601287\ttotal: 20.5s\tremaining: 6.82s\n",
      "75:\tlearn: 1285.3116470\ttotal: 20.7s\tremaining: 6.54s\n",
      "76:\tlearn: 1284.6109463\ttotal: 20.9s\tremaining: 6.24s\n",
      "77:\tlearn: 1282.1100556\ttotal: 21.1s\tremaining: 5.96s\n",
      "78:\tlearn: 1282.0523482\ttotal: 21.3s\tremaining: 5.67s\n",
      "79:\tlearn: 1279.9616524\ttotal: 21.5s\tremaining: 5.38s\n",
      "80:\tlearn: 1274.7186817\ttotal: 21.8s\tremaining: 5.12s\n",
      "81:\tlearn: 1271.6961036\ttotal: 22.1s\tremaining: 4.85s\n",
      "82:\tlearn: 1269.8003556\ttotal: 22.3s\tremaining: 4.57s\n",
      "83:\tlearn: 1266.9140137\ttotal: 22.6s\tremaining: 4.29s\n",
      "84:\tlearn: 1264.9174413\ttotal: 22.8s\tremaining: 4.02s\n",
      "85:\tlearn: 1264.4075533\ttotal: 23s\tremaining: 3.74s\n",
      "86:\tlearn: 1258.7167298\ttotal: 23.3s\tremaining: 3.48s\n",
      "87:\tlearn: 1255.4827741\ttotal: 23.5s\tremaining: 3.21s\n",
      "88:\tlearn: 1252.9506663\ttotal: 23.8s\tremaining: 2.94s\n",
      "89:\tlearn: 1250.9793396\ttotal: 24s\tremaining: 2.67s\n",
      "90:\tlearn: 1249.2156351\ttotal: 24.3s\tremaining: 2.4s\n",
      "91:\tlearn: 1243.2888736\ttotal: 24.6s\tremaining: 2.14s\n",
      "92:\tlearn: 1242.9199322\ttotal: 24.8s\tremaining: 1.87s\n",
      "93:\tlearn: 1239.4424299\ttotal: 25.1s\tremaining: 1.6s\n",
      "94:\tlearn: 1237.3229284\ttotal: 25.3s\tremaining: 1.33s\n",
      "95:\tlearn: 1235.3474400\ttotal: 25.5s\tremaining: 1.06s\n",
      "96:\tlearn: 1233.0540771\ttotal: 25.8s\tremaining: 797ms\n",
      "97:\tlearn: 1230.9483143\ttotal: 26s\tremaining: 531ms\n",
      "98:\tlearn: 1227.7775841\ttotal: 26.3s\tremaining: 266ms\n",
      "99:\tlearn: 1225.6240379\ttotal: 26.5s\tremaining: 0us\n",
      "CPU times: user 26.8 s, sys: 263 ms, total: 27 s\n",
      "Wall time: 27.5 s\n"
     ]
    },
    {
     "data": {
      "text/plain": [
       "<catboost.core.CatBoostRegressor at 0x7ff78b649ca0>"
      ]
     },
     "execution_count": 51,
     "metadata": {},
     "output_type": "execute_result"
    }
   ],
   "source": [
    "%%time\n",
    "cat_features = ['VehicleType', 'Gearbox', 'Model',\n",
    "                'FuelType', 'Brand', 'NotRepaired']\n",
    "\n",
    "#model = cat(loss_function='RMSE', n_estimators = 100,l2_leaf_reg=1,depth=10,learning_rate=0.1)\n",
    "model = cat(**params_best)\n",
    "model.fit(features_train, target_train, cat_features=cat_features)\n"
   ]
  },
  {
   "cell_type": "code",
   "execution_count": 52,
   "metadata": {},
   "outputs": [
    {
     "name": "stdout",
     "output_type": "stream",
     "text": [
      "1579.967149283192\n",
      "CPU times: user 332 ms, sys: 4.02 ms, total: 336 ms\n",
      "Wall time: 334 ms\n"
     ]
    }
   ],
   "source": [
    "%%time\n",
    "predict_valid = model.predict(features_valid)\n",
    "print(mean_squared_error(target_valid, predict_valid)**0.5)"
   ]
  },
  {
   "cell_type": "markdown",
   "metadata": {},
   "source": [
    "### LGBMRegressor\n",
    "<a id='sec'></a>"
   ]
  },
  {
   "cell_type": "code",
   "execution_count": 53,
   "metadata": {},
   "outputs": [
    {
     "name": "stderr",
     "output_type": "stream",
     "text": [
      "/tmp/ipykernel_355/2163153131.py:3: SettingWithCopyWarning: \n",
      "A value is trying to be set on a copy of a slice from a DataFrame.\n",
      "Try using .loc[row_indexer,col_indexer] = value instead\n",
      "\n",
      "See the caveats in the documentation: https://pandas.pydata.org/pandas-docs/stable/user_guide/indexing.html#returning-a-view-versus-a-copy\n",
      "  features_train[i] = features_train[i].astype('category')\n",
      "/tmp/ipykernel_355/2163153131.py:4: SettingWithCopyWarning: \n",
      "A value is trying to be set on a copy of a slice from a DataFrame.\n",
      "Try using .loc[row_indexer,col_indexer] = value instead\n",
      "\n",
      "See the caveats in the documentation: https://pandas.pydata.org/pandas-docs/stable/user_guide/indexing.html#returning-a-view-versus-a-copy\n",
      "  features_valid[i] = features_valid[i].astype('category')\n"
     ]
    }
   ],
   "source": [
    "for i in cat_features:\n",
    "    df_features[i] = df_features[i].astype('category')\n",
    "    features_train[i] = features_train[i].astype('category')\n",
    "    features_valid[i] = features_valid[i].astype('category')\n",
    "    "
   ]
  },
  {
   "cell_type": "code",
   "execution_count": 54,
   "metadata": {},
   "outputs": [
    {
     "name": "stdout",
     "output_type": "stream",
     "text": [
      "<class 'pandas.core.frame.DataFrame'>\n",
      "Int64Index: 321978 entries, 0 to 354368\n",
      "Data columns (total 13 columns):\n",
      " #   Column             Non-Null Count   Dtype   \n",
      "---  ------             --------------   -----   \n",
      " 0   VehicleType        321978 non-null  category\n",
      " 1   RegistrationYear   321978 non-null  int64   \n",
      " 2   Gearbox            321978 non-null  category\n",
      " 3   Power              321978 non-null  int64   \n",
      " 4   Model              321978 non-null  category\n",
      " 5   Kilometer          321978 non-null  int64   \n",
      " 6   RegistrationMonth  321978 non-null  int64   \n",
      " 7   FuelType           321978 non-null  category\n",
      " 8   Brand              321978 non-null  category\n",
      " 9   NotRepaired        321978 non-null  category\n",
      " 10  PostalCode         321978 non-null  int64   \n",
      " 11  DateCreated_y      321978 non-null  int64   \n",
      " 12  DateCreated_m      321978 non-null  int64   \n",
      "dtypes: category(6), int64(7)\n",
      "memory usage: 21.8 MB\n"
     ]
    }
   ],
   "source": [
    "df_features.info()"
   ]
  },
  {
   "cell_type": "code",
   "execution_count": 55,
   "metadata": {},
   "outputs": [
    {
     "name": "stdout",
     "output_type": "stream",
     "text": [
      "<class 'pandas.core.frame.DataFrame'>\n",
      "Int64Index: 241483 entries, 135637 to 239552\n",
      "Data columns (total 13 columns):\n",
      " #   Column             Non-Null Count   Dtype   \n",
      "---  ------             --------------   -----   \n",
      " 0   VehicleType        241483 non-null  category\n",
      " 1   RegistrationYear   241483 non-null  int64   \n",
      " 2   Gearbox            241483 non-null  category\n",
      " 3   Power              241483 non-null  int64   \n",
      " 4   Model              241483 non-null  category\n",
      " 5   Kilometer          241483 non-null  int64   \n",
      " 6   RegistrationMonth  241483 non-null  int64   \n",
      " 7   FuelType           241483 non-null  category\n",
      " 8   Brand              241483 non-null  category\n",
      " 9   NotRepaired        241483 non-null  category\n",
      " 10  PostalCode         241483 non-null  int64   \n",
      " 11  DateCreated_y      241483 non-null  int64   \n",
      " 12  DateCreated_m      241483 non-null  int64   \n",
      "dtypes: category(6), int64(7)\n",
      "memory usage: 16.4 MB\n"
     ]
    }
   ],
   "source": [
    "features_train.info()"
   ]
  },
  {
   "cell_type": "code",
   "execution_count": 56,
   "metadata": {},
   "outputs": [
    {
     "name": "stdout",
     "output_type": "stream",
     "text": [
      "<class 'pandas.core.frame.DataFrame'>\n",
      "Int64Index: 80495 entries, 114906 to 337084\n",
      "Data columns (total 13 columns):\n",
      " #   Column             Non-Null Count  Dtype   \n",
      "---  ------             --------------  -----   \n",
      " 0   VehicleType        80495 non-null  category\n",
      " 1   RegistrationYear   80495 non-null  int64   \n",
      " 2   Gearbox            80495 non-null  category\n",
      " 3   Power              80495 non-null  int64   \n",
      " 4   Model              80495 non-null  category\n",
      " 5   Kilometer          80495 non-null  int64   \n",
      " 6   RegistrationMonth  80495 non-null  int64   \n",
      " 7   FuelType           80495 non-null  category\n",
      " 8   Brand              80495 non-null  category\n",
      " 9   NotRepaired        80495 non-null  category\n",
      " 10  PostalCode         80495 non-null  int64   \n",
      " 11  DateCreated_y      80495 non-null  int64   \n",
      " 12  DateCreated_m      80495 non-null  int64   \n",
      "dtypes: category(6), int64(7)\n",
      "memory usage: 5.5 MB\n"
     ]
    }
   ],
   "source": [
    "features_valid.info()"
   ]
  },
  {
   "cell_type": "code",
   "execution_count": 57,
   "metadata": {},
   "outputs": [
    {
     "name": "stderr",
     "output_type": "stream",
     "text": [
      "/opt/conda/lib/python3.9/site-packages/lightgbm/basic.py:2065: UserWarning: Using categorical_feature in Dataset.\n",
      "  _log_warning('Using categorical_feature in Dataset.')\n",
      "/opt/conda/lib/python3.9/site-packages/lightgbm/basic.py:2065: UserWarning: Using categorical_feature in Dataset.\n",
      "  _log_warning('Using categorical_feature in Dataset.')\n",
      "/opt/conda/lib/python3.9/site-packages/lightgbm/basic.py:2065: UserWarning: Using categorical_feature in Dataset.\n",
      "  _log_warning('Using categorical_feature in Dataset.')\n",
      "/opt/conda/lib/python3.9/site-packages/lightgbm/basic.py:2065: UserWarning: Using categorical_feature in Dataset.\n",
      "  _log_warning('Using categorical_feature in Dataset.')\n",
      "/opt/conda/lib/python3.9/site-packages/lightgbm/basic.py:2065: UserWarning: Using categorical_feature in Dataset.\n",
      "  _log_warning('Using categorical_feature in Dataset.')\n",
      "/opt/conda/lib/python3.9/site-packages/lightgbm/basic.py:2065: UserWarning: Using categorical_feature in Dataset.\n",
      "  _log_warning('Using categorical_feature in Dataset.')\n",
      "/opt/conda/lib/python3.9/site-packages/lightgbm/basic.py:2065: UserWarning: Using categorical_feature in Dataset.\n",
      "  _log_warning('Using categorical_feature in Dataset.')\n",
      "/opt/conda/lib/python3.9/site-packages/lightgbm/basic.py:2065: UserWarning: Using categorical_feature in Dataset.\n",
      "  _log_warning('Using categorical_feature in Dataset.')\n",
      "/opt/conda/lib/python3.9/site-packages/lightgbm/basic.py:2065: UserWarning: Using categorical_feature in Dataset.\n",
      "  _log_warning('Using categorical_feature in Dataset.')\n",
      "/opt/conda/lib/python3.9/site-packages/lightgbm/basic.py:2065: UserWarning: Using categorical_feature in Dataset.\n",
      "  _log_warning('Using categorical_feature in Dataset.')\n",
      "/opt/conda/lib/python3.9/site-packages/lightgbm/basic.py:2065: UserWarning: Using categorical_feature in Dataset.\n",
      "  _log_warning('Using categorical_feature in Dataset.')\n",
      "/opt/conda/lib/python3.9/site-packages/lightgbm/basic.py:2065: UserWarning: Using categorical_feature in Dataset.\n",
      "  _log_warning('Using categorical_feature in Dataset.')\n",
      "/opt/conda/lib/python3.9/site-packages/lightgbm/basic.py:2065: UserWarning: Using categorical_feature in Dataset.\n",
      "  _log_warning('Using categorical_feature in Dataset.')\n",
      "/opt/conda/lib/python3.9/site-packages/lightgbm/basic.py:2065: UserWarning: Using categorical_feature in Dataset.\n",
      "  _log_warning('Using categorical_feature in Dataset.')\n",
      "/opt/conda/lib/python3.9/site-packages/lightgbm/basic.py:2065: UserWarning: Using categorical_feature in Dataset.\n",
      "  _log_warning('Using categorical_feature in Dataset.')\n",
      "/opt/conda/lib/python3.9/site-packages/lightgbm/basic.py:2065: UserWarning: Using categorical_feature in Dataset.\n",
      "  _log_warning('Using categorical_feature in Dataset.')\n",
      "/opt/conda/lib/python3.9/site-packages/lightgbm/basic.py:2065: UserWarning: Using categorical_feature in Dataset.\n",
      "  _log_warning('Using categorical_feature in Dataset.')\n",
      "/opt/conda/lib/python3.9/site-packages/lightgbm/basic.py:2065: UserWarning: Using categorical_feature in Dataset.\n",
      "  _log_warning('Using categorical_feature in Dataset.')\n",
      "/opt/conda/lib/python3.9/site-packages/lightgbm/basic.py:2065: UserWarning: Using categorical_feature in Dataset.\n",
      "  _log_warning('Using categorical_feature in Dataset.')\n",
      "/opt/conda/lib/python3.9/site-packages/lightgbm/basic.py:2065: UserWarning: Using categorical_feature in Dataset.\n",
      "  _log_warning('Using categorical_feature in Dataset.')\n",
      "/opt/conda/lib/python3.9/site-packages/lightgbm/basic.py:2065: UserWarning: Using categorical_feature in Dataset.\n",
      "  _log_warning('Using categorical_feature in Dataset.')\n",
      "/opt/conda/lib/python3.9/site-packages/lightgbm/basic.py:2065: UserWarning: Using categorical_feature in Dataset.\n",
      "  _log_warning('Using categorical_feature in Dataset.')\n",
      "/opt/conda/lib/python3.9/site-packages/lightgbm/basic.py:2065: UserWarning: Using categorical_feature in Dataset.\n",
      "  _log_warning('Using categorical_feature in Dataset.')\n",
      "/opt/conda/lib/python3.9/site-packages/lightgbm/basic.py:2065: UserWarning: Using categorical_feature in Dataset.\n",
      "  _log_warning('Using categorical_feature in Dataset.')\n",
      "/opt/conda/lib/python3.9/site-packages/lightgbm/basic.py:2065: UserWarning: Using categorical_feature in Dataset.\n",
      "  _log_warning('Using categorical_feature in Dataset.')\n",
      "/opt/conda/lib/python3.9/site-packages/lightgbm/basic.py:2065: UserWarning: Using categorical_feature in Dataset.\n",
      "  _log_warning('Using categorical_feature in Dataset.')\n",
      "/opt/conda/lib/python3.9/site-packages/lightgbm/basic.py:2065: UserWarning: Using categorical_feature in Dataset.\n",
      "  _log_warning('Using categorical_feature in Dataset.')\n",
      "/opt/conda/lib/python3.9/site-packages/lightgbm/basic.py:2065: UserWarning: Using categorical_feature in Dataset.\n",
      "  _log_warning('Using categorical_feature in Dataset.')\n",
      "/opt/conda/lib/python3.9/site-packages/lightgbm/basic.py:2065: UserWarning: Using categorical_feature in Dataset.\n",
      "  _log_warning('Using categorical_feature in Dataset.')\n",
      "/opt/conda/lib/python3.9/site-packages/lightgbm/basic.py:2065: UserWarning: Using categorical_feature in Dataset.\n",
      "  _log_warning('Using categorical_feature in Dataset.')\n",
      "/opt/conda/lib/python3.9/site-packages/lightgbm/basic.py:2065: UserWarning: Using categorical_feature in Dataset.\n",
      "  _log_warning('Using categorical_feature in Dataset.')\n",
      "/opt/conda/lib/python3.9/site-packages/lightgbm/basic.py:2065: UserWarning: Using categorical_feature in Dataset.\n",
      "  _log_warning('Using categorical_feature in Dataset.')\n",
      "/opt/conda/lib/python3.9/site-packages/lightgbm/basic.py:2065: UserWarning: Using categorical_feature in Dataset.\n",
      "  _log_warning('Using categorical_feature in Dataset.')\n",
      "/opt/conda/lib/python3.9/site-packages/lightgbm/basic.py:2065: UserWarning: Using categorical_feature in Dataset.\n",
      "  _log_warning('Using categorical_feature in Dataset.')\n",
      "/opt/conda/lib/python3.9/site-packages/lightgbm/basic.py:2065: UserWarning: Using categorical_feature in Dataset.\n",
      "  _log_warning('Using categorical_feature in Dataset.')\n",
      "/opt/conda/lib/python3.9/site-packages/lightgbm/basic.py:2065: UserWarning: Using categorical_feature in Dataset.\n",
      "  _log_warning('Using categorical_feature in Dataset.')\n",
      "/opt/conda/lib/python3.9/site-packages/lightgbm/basic.py:2065: UserWarning: Using categorical_feature in Dataset.\n",
      "  _log_warning('Using categorical_feature in Dataset.')\n",
      "/opt/conda/lib/python3.9/site-packages/lightgbm/basic.py:2065: UserWarning: Using categorical_feature in Dataset.\n",
      "  _log_warning('Using categorical_feature in Dataset.')\n",
      "/opt/conda/lib/python3.9/site-packages/lightgbm/basic.py:2065: UserWarning: Using categorical_feature in Dataset.\n",
      "  _log_warning('Using categorical_feature in Dataset.')\n",
      "/opt/conda/lib/python3.9/site-packages/lightgbm/basic.py:2065: UserWarning: Using categorical_feature in Dataset.\n",
      "  _log_warning('Using categorical_feature in Dataset.')\n",
      "/opt/conda/lib/python3.9/site-packages/lightgbm/basic.py:2065: UserWarning: Using categorical_feature in Dataset.\n",
      "  _log_warning('Using categorical_feature in Dataset.')\n",
      "/opt/conda/lib/python3.9/site-packages/lightgbm/basic.py:2065: UserWarning: Using categorical_feature in Dataset.\n",
      "  _log_warning('Using categorical_feature in Dataset.')\n",
      "/opt/conda/lib/python3.9/site-packages/lightgbm/basic.py:2065: UserWarning: Using categorical_feature in Dataset.\n",
      "  _log_warning('Using categorical_feature in Dataset.')\n",
      "/opt/conda/lib/python3.9/site-packages/lightgbm/basic.py:2065: UserWarning: Using categorical_feature in Dataset.\n",
      "  _log_warning('Using categorical_feature in Dataset.')\n",
      "/opt/conda/lib/python3.9/site-packages/lightgbm/basic.py:2065: UserWarning: Using categorical_feature in Dataset.\n",
      "  _log_warning('Using categorical_feature in Dataset.')\n",
      "/opt/conda/lib/python3.9/site-packages/lightgbm/basic.py:2065: UserWarning: Using categorical_feature in Dataset.\n",
      "  _log_warning('Using categorical_feature in Dataset.')\n",
      "/opt/conda/lib/python3.9/site-packages/lightgbm/basic.py:2065: UserWarning: Using categorical_feature in Dataset.\n",
      "  _log_warning('Using categorical_feature in Dataset.')\n",
      "/opt/conda/lib/python3.9/site-packages/lightgbm/basic.py:2065: UserWarning: Using categorical_feature in Dataset.\n",
      "  _log_warning('Using categorical_feature in Dataset.')\n",
      "/opt/conda/lib/python3.9/site-packages/lightgbm/basic.py:2065: UserWarning: Using categorical_feature in Dataset.\n",
      "  _log_warning('Using categorical_feature in Dataset.')\n",
      "/opt/conda/lib/python3.9/site-packages/lightgbm/basic.py:2065: UserWarning: Using categorical_feature in Dataset.\n",
      "  _log_warning('Using categorical_feature in Dataset.')\n",
      "/opt/conda/lib/python3.9/site-packages/lightgbm/basic.py:2065: UserWarning: Using categorical_feature in Dataset.\n",
      "  _log_warning('Using categorical_feature in Dataset.')\n",
      "/opt/conda/lib/python3.9/site-packages/lightgbm/basic.py:2065: UserWarning: Using categorical_feature in Dataset.\n",
      "  _log_warning('Using categorical_feature in Dataset.')\n",
      "/opt/conda/lib/python3.9/site-packages/lightgbm/basic.py:2065: UserWarning: Using categorical_feature in Dataset.\n",
      "  _log_warning('Using categorical_feature in Dataset.')\n",
      "/opt/conda/lib/python3.9/site-packages/lightgbm/basic.py:2065: UserWarning: Using categorical_feature in Dataset.\n",
      "  _log_warning('Using categorical_feature in Dataset.')\n",
      "/opt/conda/lib/python3.9/site-packages/lightgbm/basic.py:2065: UserWarning: Using categorical_feature in Dataset.\n",
      "  _log_warning('Using categorical_feature in Dataset.')\n",
      "/opt/conda/lib/python3.9/site-packages/lightgbm/basic.py:2065: UserWarning: Using categorical_feature in Dataset.\n",
      "  _log_warning('Using categorical_feature in Dataset.')\n",
      "/opt/conda/lib/python3.9/site-packages/lightgbm/basic.py:2065: UserWarning: Using categorical_feature in Dataset.\n",
      "  _log_warning('Using categorical_feature in Dataset.')\n",
      "/opt/conda/lib/python3.9/site-packages/lightgbm/basic.py:2065: UserWarning: Using categorical_feature in Dataset.\n",
      "  _log_warning('Using categorical_feature in Dataset.')\n",
      "/opt/conda/lib/python3.9/site-packages/lightgbm/basic.py:2065: UserWarning: Using categorical_feature in Dataset.\n",
      "  _log_warning('Using categorical_feature in Dataset.')\n",
      "/opt/conda/lib/python3.9/site-packages/lightgbm/basic.py:2065: UserWarning: Using categorical_feature in Dataset.\n",
      "  _log_warning('Using categorical_feature in Dataset.')\n",
      "/opt/conda/lib/python3.9/site-packages/lightgbm/basic.py:2065: UserWarning: Using categorical_feature in Dataset.\n",
      "  _log_warning('Using categorical_feature in Dataset.')\n",
      "/opt/conda/lib/python3.9/site-packages/lightgbm/basic.py:2065: UserWarning: Using categorical_feature in Dataset.\n",
      "  _log_warning('Using categorical_feature in Dataset.')\n",
      "/opt/conda/lib/python3.9/site-packages/lightgbm/basic.py:2065: UserWarning: Using categorical_feature in Dataset.\n",
      "  _log_warning('Using categorical_feature in Dataset.')\n",
      "/opt/conda/lib/python3.9/site-packages/lightgbm/basic.py:2065: UserWarning: Using categorical_feature in Dataset.\n",
      "  _log_warning('Using categorical_feature in Dataset.')\n",
      "/opt/conda/lib/python3.9/site-packages/lightgbm/basic.py:2065: UserWarning: Using categorical_feature in Dataset.\n",
      "  _log_warning('Using categorical_feature in Dataset.')\n",
      "/opt/conda/lib/python3.9/site-packages/lightgbm/basic.py:2065: UserWarning: Using categorical_feature in Dataset.\n",
      "  _log_warning('Using categorical_feature in Dataset.')\n",
      "/opt/conda/lib/python3.9/site-packages/lightgbm/basic.py:2065: UserWarning: Using categorical_feature in Dataset.\n",
      "  _log_warning('Using categorical_feature in Dataset.')\n",
      "/opt/conda/lib/python3.9/site-packages/lightgbm/basic.py:2065: UserWarning: Using categorical_feature in Dataset.\n",
      "  _log_warning('Using categorical_feature in Dataset.')\n",
      "/opt/conda/lib/python3.9/site-packages/lightgbm/basic.py:2065: UserWarning: Using categorical_feature in Dataset.\n",
      "  _log_warning('Using categorical_feature in Dataset.')\n",
      "/opt/conda/lib/python3.9/site-packages/lightgbm/basic.py:2065: UserWarning: Using categorical_feature in Dataset.\n",
      "  _log_warning('Using categorical_feature in Dataset.')\n",
      "/opt/conda/lib/python3.9/site-packages/lightgbm/basic.py:2065: UserWarning: Using categorical_feature in Dataset.\n",
      "  _log_warning('Using categorical_feature in Dataset.')\n",
      "/opt/conda/lib/python3.9/site-packages/lightgbm/basic.py:2065: UserWarning: Using categorical_feature in Dataset.\n",
      "  _log_warning('Using categorical_feature in Dataset.')\n",
      "/opt/conda/lib/python3.9/site-packages/lightgbm/basic.py:2065: UserWarning: Using categorical_feature in Dataset.\n",
      "  _log_warning('Using categorical_feature in Dataset.')\n",
      "/opt/conda/lib/python3.9/site-packages/lightgbm/basic.py:2065: UserWarning: Using categorical_feature in Dataset.\n",
      "  _log_warning('Using categorical_feature in Dataset.')\n",
      "/opt/conda/lib/python3.9/site-packages/lightgbm/basic.py:2065: UserWarning: Using categorical_feature in Dataset.\n",
      "  _log_warning('Using categorical_feature in Dataset.')\n",
      "/opt/conda/lib/python3.9/site-packages/lightgbm/basic.py:2065: UserWarning: Using categorical_feature in Dataset.\n",
      "  _log_warning('Using categorical_feature in Dataset.')\n",
      "/opt/conda/lib/python3.9/site-packages/lightgbm/basic.py:2065: UserWarning: Using categorical_feature in Dataset.\n",
      "  _log_warning('Using categorical_feature in Dataset.')\n",
      "/opt/conda/lib/python3.9/site-packages/lightgbm/basic.py:2065: UserWarning: Using categorical_feature in Dataset.\n",
      "  _log_warning('Using categorical_feature in Dataset.')\n",
      "/opt/conda/lib/python3.9/site-packages/lightgbm/basic.py:2065: UserWarning: Using categorical_feature in Dataset.\n",
      "  _log_warning('Using categorical_feature in Dataset.')\n",
      "/opt/conda/lib/python3.9/site-packages/lightgbm/basic.py:2065: UserWarning: Using categorical_feature in Dataset.\n",
      "  _log_warning('Using categorical_feature in Dataset.')\n",
      "/opt/conda/lib/python3.9/site-packages/lightgbm/basic.py:2065: UserWarning: Using categorical_feature in Dataset.\n",
      "  _log_warning('Using categorical_feature in Dataset.')\n",
      "/opt/conda/lib/python3.9/site-packages/lightgbm/basic.py:2065: UserWarning: Using categorical_feature in Dataset.\n",
      "  _log_warning('Using categorical_feature in Dataset.')\n",
      "/opt/conda/lib/python3.9/site-packages/lightgbm/basic.py:2065: UserWarning: Using categorical_feature in Dataset.\n",
      "  _log_warning('Using categorical_feature in Dataset.')\n",
      "/opt/conda/lib/python3.9/site-packages/lightgbm/basic.py:2065: UserWarning: Using categorical_feature in Dataset.\n",
      "  _log_warning('Using categorical_feature in Dataset.')\n",
      "/opt/conda/lib/python3.9/site-packages/lightgbm/basic.py:2065: UserWarning: Using categorical_feature in Dataset.\n",
      "  _log_warning('Using categorical_feature in Dataset.')\n",
      "/opt/conda/lib/python3.9/site-packages/lightgbm/basic.py:2065: UserWarning: Using categorical_feature in Dataset.\n",
      "  _log_warning('Using categorical_feature in Dataset.')\n",
      "/opt/conda/lib/python3.9/site-packages/lightgbm/basic.py:2065: UserWarning: Using categorical_feature in Dataset.\n",
      "  _log_warning('Using categorical_feature in Dataset.')\n",
      "/opt/conda/lib/python3.9/site-packages/lightgbm/basic.py:2065: UserWarning: Using categorical_feature in Dataset.\n",
      "  _log_warning('Using categorical_feature in Dataset.')\n",
      "/opt/conda/lib/python3.9/site-packages/lightgbm/basic.py:2065: UserWarning: Using categorical_feature in Dataset.\n",
      "  _log_warning('Using categorical_feature in Dataset.')\n",
      "/opt/conda/lib/python3.9/site-packages/lightgbm/basic.py:2065: UserWarning: Using categorical_feature in Dataset.\n",
      "  _log_warning('Using categorical_feature in Dataset.')\n",
      "/opt/conda/lib/python3.9/site-packages/lightgbm/basic.py:2065: UserWarning: Using categorical_feature in Dataset.\n",
      "  _log_warning('Using categorical_feature in Dataset.')\n",
      "/opt/conda/lib/python3.9/site-packages/lightgbm/basic.py:2065: UserWarning: Using categorical_feature in Dataset.\n",
      "  _log_warning('Using categorical_feature in Dataset.')\n",
      "/opt/conda/lib/python3.9/site-packages/lightgbm/basic.py:2065: UserWarning: Using categorical_feature in Dataset.\n",
      "  _log_warning('Using categorical_feature in Dataset.')\n",
      "/opt/conda/lib/python3.9/site-packages/lightgbm/basic.py:2065: UserWarning: Using categorical_feature in Dataset.\n",
      "  _log_warning('Using categorical_feature in Dataset.')\n",
      "/opt/conda/lib/python3.9/site-packages/lightgbm/basic.py:2065: UserWarning: Using categorical_feature in Dataset.\n",
      "  _log_warning('Using categorical_feature in Dataset.')\n",
      "/opt/conda/lib/python3.9/site-packages/lightgbm/basic.py:2065: UserWarning: Using categorical_feature in Dataset.\n",
      "  _log_warning('Using categorical_feature in Dataset.')\n",
      "/opt/conda/lib/python3.9/site-packages/lightgbm/basic.py:2065: UserWarning: Using categorical_feature in Dataset.\n",
      "  _log_warning('Using categorical_feature in Dataset.')\n",
      "/opt/conda/lib/python3.9/site-packages/lightgbm/basic.py:2065: UserWarning: Using categorical_feature in Dataset.\n",
      "  _log_warning('Using categorical_feature in Dataset.')\n",
      "/opt/conda/lib/python3.9/site-packages/lightgbm/basic.py:2065: UserWarning: Using categorical_feature in Dataset.\n",
      "  _log_warning('Using categorical_feature in Dataset.')\n",
      "/opt/conda/lib/python3.9/site-packages/lightgbm/basic.py:2065: UserWarning: Using categorical_feature in Dataset.\n",
      "  _log_warning('Using categorical_feature in Dataset.')\n",
      "/opt/conda/lib/python3.9/site-packages/lightgbm/basic.py:2065: UserWarning: Using categorical_feature in Dataset.\n",
      "  _log_warning('Using categorical_feature in Dataset.')\n",
      "/opt/conda/lib/python3.9/site-packages/lightgbm/basic.py:2065: UserWarning: Using categorical_feature in Dataset.\n",
      "  _log_warning('Using categorical_feature in Dataset.')\n",
      "/opt/conda/lib/python3.9/site-packages/lightgbm/basic.py:2065: UserWarning: Using categorical_feature in Dataset.\n",
      "  _log_warning('Using categorical_feature in Dataset.')\n",
      "/opt/conda/lib/python3.9/site-packages/lightgbm/basic.py:2065: UserWarning: Using categorical_feature in Dataset.\n",
      "  _log_warning('Using categorical_feature in Dataset.')\n",
      "/opt/conda/lib/python3.9/site-packages/lightgbm/basic.py:2065: UserWarning: Using categorical_feature in Dataset.\n",
      "  _log_warning('Using categorical_feature in Dataset.')\n",
      "/opt/conda/lib/python3.9/site-packages/lightgbm/basic.py:2065: UserWarning: Using categorical_feature in Dataset.\n",
      "  _log_warning('Using categorical_feature in Dataset.')\n",
      "/opt/conda/lib/python3.9/site-packages/lightgbm/basic.py:2065: UserWarning: Using categorical_feature in Dataset.\n",
      "  _log_warning('Using categorical_feature in Dataset.')\n",
      "/opt/conda/lib/python3.9/site-packages/lightgbm/basic.py:2065: UserWarning: Using categorical_feature in Dataset.\n",
      "  _log_warning('Using categorical_feature in Dataset.')\n",
      "/opt/conda/lib/python3.9/site-packages/lightgbm/basic.py:2065: UserWarning: Using categorical_feature in Dataset.\n",
      "  _log_warning('Using categorical_feature in Dataset.')\n",
      "/opt/conda/lib/python3.9/site-packages/lightgbm/basic.py:2065: UserWarning: Using categorical_feature in Dataset.\n",
      "  _log_warning('Using categorical_feature in Dataset.')\n",
      "/opt/conda/lib/python3.9/site-packages/lightgbm/basic.py:2065: UserWarning: Using categorical_feature in Dataset.\n",
      "  _log_warning('Using categorical_feature in Dataset.')\n",
      "/opt/conda/lib/python3.9/site-packages/lightgbm/basic.py:2065: UserWarning: Using categorical_feature in Dataset.\n",
      "  _log_warning('Using categorical_feature in Dataset.')\n",
      "/opt/conda/lib/python3.9/site-packages/lightgbm/basic.py:2065: UserWarning: Using categorical_feature in Dataset.\n",
      "  _log_warning('Using categorical_feature in Dataset.')\n",
      "/opt/conda/lib/python3.9/site-packages/lightgbm/basic.py:2065: UserWarning: Using categorical_feature in Dataset.\n",
      "  _log_warning('Using categorical_feature in Dataset.')\n",
      "/opt/conda/lib/python3.9/site-packages/lightgbm/basic.py:2065: UserWarning: Using categorical_feature in Dataset.\n",
      "  _log_warning('Using categorical_feature in Dataset.')\n",
      "/opt/conda/lib/python3.9/site-packages/lightgbm/basic.py:2065: UserWarning: Using categorical_feature in Dataset.\n",
      "  _log_warning('Using categorical_feature in Dataset.')\n",
      "/opt/conda/lib/python3.9/site-packages/lightgbm/basic.py:2065: UserWarning: Using categorical_feature in Dataset.\n",
      "  _log_warning('Using categorical_feature in Dataset.')\n",
      "/opt/conda/lib/python3.9/site-packages/lightgbm/basic.py:2065: UserWarning: Using categorical_feature in Dataset.\n",
      "  _log_warning('Using categorical_feature in Dataset.')\n",
      "/opt/conda/lib/python3.9/site-packages/lightgbm/basic.py:2065: UserWarning: Using categorical_feature in Dataset.\n",
      "  _log_warning('Using categorical_feature in Dataset.')\n",
      "/opt/conda/lib/python3.9/site-packages/lightgbm/basic.py:2065: UserWarning: Using categorical_feature in Dataset.\n",
      "  _log_warning('Using categorical_feature in Dataset.')\n",
      "/opt/conda/lib/python3.9/site-packages/lightgbm/basic.py:2065: UserWarning: Using categorical_feature in Dataset.\n",
      "  _log_warning('Using categorical_feature in Dataset.')\n",
      "/opt/conda/lib/python3.9/site-packages/lightgbm/basic.py:2065: UserWarning: Using categorical_feature in Dataset.\n",
      "  _log_warning('Using categorical_feature in Dataset.')\n",
      "/opt/conda/lib/python3.9/site-packages/lightgbm/basic.py:2065: UserWarning: Using categorical_feature in Dataset.\n",
      "  _log_warning('Using categorical_feature in Dataset.')\n",
      "/opt/conda/lib/python3.9/site-packages/lightgbm/basic.py:2065: UserWarning: Using categorical_feature in Dataset.\n",
      "  _log_warning('Using categorical_feature in Dataset.')\n",
      "/opt/conda/lib/python3.9/site-packages/lightgbm/basic.py:2065: UserWarning: Using categorical_feature in Dataset.\n",
      "  _log_warning('Using categorical_feature in Dataset.')\n",
      "/opt/conda/lib/python3.9/site-packages/lightgbm/basic.py:2065: UserWarning: Using categorical_feature in Dataset.\n",
      "  _log_warning('Using categorical_feature in Dataset.')\n",
      "/opt/conda/lib/python3.9/site-packages/lightgbm/basic.py:2065: UserWarning: Using categorical_feature in Dataset.\n",
      "  _log_warning('Using categorical_feature in Dataset.')\n",
      "/opt/conda/lib/python3.9/site-packages/lightgbm/basic.py:2065: UserWarning: Using categorical_feature in Dataset.\n",
      "  _log_warning('Using categorical_feature in Dataset.')\n",
      "/opt/conda/lib/python3.9/site-packages/lightgbm/basic.py:2065: UserWarning: Using categorical_feature in Dataset.\n",
      "  _log_warning('Using categorical_feature in Dataset.')\n",
      "/opt/conda/lib/python3.9/site-packages/lightgbm/basic.py:2065: UserWarning: Using categorical_feature in Dataset.\n",
      "  _log_warning('Using categorical_feature in Dataset.')\n",
      "/opt/conda/lib/python3.9/site-packages/lightgbm/basic.py:2065: UserWarning: Using categorical_feature in Dataset.\n",
      "  _log_warning('Using categorical_feature in Dataset.')\n",
      "/opt/conda/lib/python3.9/site-packages/lightgbm/basic.py:2065: UserWarning: Using categorical_feature in Dataset.\n",
      "  _log_warning('Using categorical_feature in Dataset.')\n",
      "/opt/conda/lib/python3.9/site-packages/lightgbm/basic.py:2065: UserWarning: Using categorical_feature in Dataset.\n",
      "  _log_warning('Using categorical_feature in Dataset.')\n",
      "/opt/conda/lib/python3.9/site-packages/lightgbm/basic.py:2065: UserWarning: Using categorical_feature in Dataset.\n",
      "  _log_warning('Using categorical_feature in Dataset.')\n",
      "/opt/conda/lib/python3.9/site-packages/lightgbm/basic.py:2065: UserWarning: Using categorical_feature in Dataset.\n",
      "  _log_warning('Using categorical_feature in Dataset.')\n",
      "/opt/conda/lib/python3.9/site-packages/lightgbm/basic.py:2065: UserWarning: Using categorical_feature in Dataset.\n",
      "  _log_warning('Using categorical_feature in Dataset.')\n",
      "/opt/conda/lib/python3.9/site-packages/lightgbm/basic.py:2065: UserWarning: Using categorical_feature in Dataset.\n",
      "  _log_warning('Using categorical_feature in Dataset.')\n",
      "/opt/conda/lib/python3.9/site-packages/lightgbm/basic.py:2065: UserWarning: Using categorical_feature in Dataset.\n",
      "  _log_warning('Using categorical_feature in Dataset.')\n",
      "/opt/conda/lib/python3.9/site-packages/lightgbm/basic.py:2065: UserWarning: Using categorical_feature in Dataset.\n",
      "  _log_warning('Using categorical_feature in Dataset.')\n",
      "/opt/conda/lib/python3.9/site-packages/lightgbm/basic.py:2065: UserWarning: Using categorical_feature in Dataset.\n",
      "  _log_warning('Using categorical_feature in Dataset.')\n",
      "/opt/conda/lib/python3.9/site-packages/lightgbm/basic.py:2065: UserWarning: Using categorical_feature in Dataset.\n",
      "  _log_warning('Using categorical_feature in Dataset.')\n",
      "/opt/conda/lib/python3.9/site-packages/lightgbm/basic.py:2065: UserWarning: Using categorical_feature in Dataset.\n",
      "  _log_warning('Using categorical_feature in Dataset.')\n",
      "/opt/conda/lib/python3.9/site-packages/lightgbm/basic.py:2065: UserWarning: Using categorical_feature in Dataset.\n",
      "  _log_warning('Using categorical_feature in Dataset.')\n",
      "/opt/conda/lib/python3.9/site-packages/lightgbm/basic.py:2065: UserWarning: Using categorical_feature in Dataset.\n",
      "  _log_warning('Using categorical_feature in Dataset.')\n",
      "/opt/conda/lib/python3.9/site-packages/lightgbm/basic.py:2065: UserWarning: Using categorical_feature in Dataset.\n",
      "  _log_warning('Using categorical_feature in Dataset.')\n",
      "/opt/conda/lib/python3.9/site-packages/lightgbm/basic.py:2065: UserWarning: Using categorical_feature in Dataset.\n",
      "  _log_warning('Using categorical_feature in Dataset.')\n",
      "/opt/conda/lib/python3.9/site-packages/lightgbm/basic.py:2065: UserWarning: Using categorical_feature in Dataset.\n",
      "  _log_warning('Using categorical_feature in Dataset.')\n",
      "/opt/conda/lib/python3.9/site-packages/lightgbm/basic.py:2065: UserWarning: Using categorical_feature in Dataset.\n",
      "  _log_warning('Using categorical_feature in Dataset.')\n",
      "/opt/conda/lib/python3.9/site-packages/lightgbm/basic.py:2065: UserWarning: Using categorical_feature in Dataset.\n",
      "  _log_warning('Using categorical_feature in Dataset.')\n",
      "/opt/conda/lib/python3.9/site-packages/lightgbm/basic.py:2065: UserWarning: Using categorical_feature in Dataset.\n",
      "  _log_warning('Using categorical_feature in Dataset.')\n",
      "/opt/conda/lib/python3.9/site-packages/lightgbm/basic.py:2065: UserWarning: Using categorical_feature in Dataset.\n",
      "  _log_warning('Using categorical_feature in Dataset.')\n",
      "/opt/conda/lib/python3.9/site-packages/lightgbm/basic.py:2065: UserWarning: Using categorical_feature in Dataset.\n",
      "  _log_warning('Using categorical_feature in Dataset.')\n",
      "/opt/conda/lib/python3.9/site-packages/lightgbm/basic.py:2065: UserWarning: Using categorical_feature in Dataset.\n",
      "  _log_warning('Using categorical_feature in Dataset.')\n",
      "/opt/conda/lib/python3.9/site-packages/lightgbm/basic.py:2065: UserWarning: Using categorical_feature in Dataset.\n",
      "  _log_warning('Using categorical_feature in Dataset.')\n",
      "/opt/conda/lib/python3.9/site-packages/lightgbm/basic.py:2065: UserWarning: Using categorical_feature in Dataset.\n",
      "  _log_warning('Using categorical_feature in Dataset.')\n",
      "/opt/conda/lib/python3.9/site-packages/lightgbm/basic.py:2065: UserWarning: Using categorical_feature in Dataset.\n",
      "  _log_warning('Using categorical_feature in Dataset.')\n",
      "/opt/conda/lib/python3.9/site-packages/lightgbm/basic.py:2065: UserWarning: Using categorical_feature in Dataset.\n",
      "  _log_warning('Using categorical_feature in Dataset.')\n",
      "/opt/conda/lib/python3.9/site-packages/lightgbm/basic.py:2065: UserWarning: Using categorical_feature in Dataset.\n",
      "  _log_warning('Using categorical_feature in Dataset.')\n",
      "/opt/conda/lib/python3.9/site-packages/lightgbm/basic.py:2065: UserWarning: Using categorical_feature in Dataset.\n",
      "  _log_warning('Using categorical_feature in Dataset.')\n",
      "/opt/conda/lib/python3.9/site-packages/lightgbm/basic.py:2065: UserWarning: Using categorical_feature in Dataset.\n",
      "  _log_warning('Using categorical_feature in Dataset.')\n",
      "/opt/conda/lib/python3.9/site-packages/lightgbm/basic.py:2065: UserWarning: Using categorical_feature in Dataset.\n",
      "  _log_warning('Using categorical_feature in Dataset.')\n",
      "/opt/conda/lib/python3.9/site-packages/lightgbm/basic.py:2065: UserWarning: Using categorical_feature in Dataset.\n",
      "  _log_warning('Using categorical_feature in Dataset.')\n",
      "/opt/conda/lib/python3.9/site-packages/lightgbm/basic.py:2065: UserWarning: Using categorical_feature in Dataset.\n",
      "  _log_warning('Using categorical_feature in Dataset.')\n",
      "/opt/conda/lib/python3.9/site-packages/lightgbm/basic.py:2065: UserWarning: Using categorical_feature in Dataset.\n",
      "  _log_warning('Using categorical_feature in Dataset.')\n",
      "/opt/conda/lib/python3.9/site-packages/lightgbm/basic.py:2065: UserWarning: Using categorical_feature in Dataset.\n",
      "  _log_warning('Using categorical_feature in Dataset.')\n",
      "/opt/conda/lib/python3.9/site-packages/lightgbm/basic.py:2065: UserWarning: Using categorical_feature in Dataset.\n",
      "  _log_warning('Using categorical_feature in Dataset.')\n",
      "/opt/conda/lib/python3.9/site-packages/lightgbm/basic.py:2065: UserWarning: Using categorical_feature in Dataset.\n",
      "  _log_warning('Using categorical_feature in Dataset.')\n",
      "/opt/conda/lib/python3.9/site-packages/lightgbm/basic.py:2065: UserWarning: Using categorical_feature in Dataset.\n",
      "  _log_warning('Using categorical_feature in Dataset.')\n",
      "/opt/conda/lib/python3.9/site-packages/lightgbm/basic.py:2065: UserWarning: Using categorical_feature in Dataset.\n",
      "  _log_warning('Using categorical_feature in Dataset.')\n",
      "/opt/conda/lib/python3.9/site-packages/lightgbm/basic.py:2065: UserWarning: Using categorical_feature in Dataset.\n",
      "  _log_warning('Using categorical_feature in Dataset.')\n",
      "/opt/conda/lib/python3.9/site-packages/lightgbm/basic.py:2065: UserWarning: Using categorical_feature in Dataset.\n",
      "  _log_warning('Using categorical_feature in Dataset.')\n",
      "/opt/conda/lib/python3.9/site-packages/lightgbm/basic.py:2065: UserWarning: Using categorical_feature in Dataset.\n",
      "  _log_warning('Using categorical_feature in Dataset.')\n",
      "/opt/conda/lib/python3.9/site-packages/lightgbm/basic.py:2065: UserWarning: Using categorical_feature in Dataset.\n",
      "  _log_warning('Using categorical_feature in Dataset.')\n",
      "/opt/conda/lib/python3.9/site-packages/lightgbm/basic.py:2065: UserWarning: Using categorical_feature in Dataset.\n",
      "  _log_warning('Using categorical_feature in Dataset.')\n",
      "/opt/conda/lib/python3.9/site-packages/lightgbm/basic.py:2065: UserWarning: Using categorical_feature in Dataset.\n",
      "  _log_warning('Using categorical_feature in Dataset.')\n",
      "/opt/conda/lib/python3.9/site-packages/lightgbm/basic.py:2065: UserWarning: Using categorical_feature in Dataset.\n",
      "  _log_warning('Using categorical_feature in Dataset.')\n",
      "/opt/conda/lib/python3.9/site-packages/lightgbm/basic.py:2065: UserWarning: Using categorical_feature in Dataset.\n",
      "  _log_warning('Using categorical_feature in Dataset.')\n",
      "/opt/conda/lib/python3.9/site-packages/lightgbm/basic.py:2065: UserWarning: Using categorical_feature in Dataset.\n",
      "  _log_warning('Using categorical_feature in Dataset.')\n",
      "/opt/conda/lib/python3.9/site-packages/lightgbm/basic.py:2065: UserWarning: Using categorical_feature in Dataset.\n",
      "  _log_warning('Using categorical_feature in Dataset.')\n",
      "/opt/conda/lib/python3.9/site-packages/lightgbm/basic.py:2065: UserWarning: Using categorical_feature in Dataset.\n",
      "  _log_warning('Using categorical_feature in Dataset.')\n",
      "/opt/conda/lib/python3.9/site-packages/lightgbm/basic.py:2065: UserWarning: Using categorical_feature in Dataset.\n",
      "  _log_warning('Using categorical_feature in Dataset.')\n",
      "/opt/conda/lib/python3.9/site-packages/lightgbm/basic.py:2065: UserWarning: Using categorical_feature in Dataset.\n",
      "  _log_warning('Using categorical_feature in Dataset.')\n",
      "/opt/conda/lib/python3.9/site-packages/lightgbm/basic.py:2065: UserWarning: Using categorical_feature in Dataset.\n",
      "  _log_warning('Using categorical_feature in Dataset.')\n",
      "/opt/conda/lib/python3.9/site-packages/lightgbm/basic.py:2065: UserWarning: Using categorical_feature in Dataset.\n",
      "  _log_warning('Using categorical_feature in Dataset.')\n",
      "/opt/conda/lib/python3.9/site-packages/lightgbm/basic.py:2065: UserWarning: Using categorical_feature in Dataset.\n",
      "  _log_warning('Using categorical_feature in Dataset.')\n",
      "/opt/conda/lib/python3.9/site-packages/lightgbm/basic.py:2065: UserWarning: Using categorical_feature in Dataset.\n",
      "  _log_warning('Using categorical_feature in Dataset.')\n",
      "/opt/conda/lib/python3.9/site-packages/lightgbm/basic.py:2065: UserWarning: Using categorical_feature in Dataset.\n",
      "  _log_warning('Using categorical_feature in Dataset.')\n",
      "/opt/conda/lib/python3.9/site-packages/lightgbm/basic.py:2065: UserWarning: Using categorical_feature in Dataset.\n",
      "  _log_warning('Using categorical_feature in Dataset.')\n",
      "/opt/conda/lib/python3.9/site-packages/lightgbm/basic.py:2065: UserWarning: Using categorical_feature in Dataset.\n",
      "  _log_warning('Using categorical_feature in Dataset.')\n",
      "/opt/conda/lib/python3.9/site-packages/lightgbm/basic.py:2065: UserWarning: Using categorical_feature in Dataset.\n",
      "  _log_warning('Using categorical_feature in Dataset.')\n",
      "/opt/conda/lib/python3.9/site-packages/lightgbm/basic.py:2065: UserWarning: Using categorical_feature in Dataset.\n",
      "  _log_warning('Using categorical_feature in Dataset.')\n",
      "/opt/conda/lib/python3.9/site-packages/lightgbm/basic.py:2065: UserWarning: Using categorical_feature in Dataset.\n",
      "  _log_warning('Using categorical_feature in Dataset.')\n",
      "/opt/conda/lib/python3.9/site-packages/lightgbm/basic.py:2065: UserWarning: Using categorical_feature in Dataset.\n",
      "  _log_warning('Using categorical_feature in Dataset.')\n",
      "/opt/conda/lib/python3.9/site-packages/lightgbm/basic.py:2065: UserWarning: Using categorical_feature in Dataset.\n",
      "  _log_warning('Using categorical_feature in Dataset.')\n",
      "/opt/conda/lib/python3.9/site-packages/lightgbm/basic.py:2065: UserWarning: Using categorical_feature in Dataset.\n",
      "  _log_warning('Using categorical_feature in Dataset.')\n",
      "/opt/conda/lib/python3.9/site-packages/lightgbm/basic.py:2065: UserWarning: Using categorical_feature in Dataset.\n",
      "  _log_warning('Using categorical_feature in Dataset.')\n",
      "/opt/conda/lib/python3.9/site-packages/lightgbm/basic.py:2065: UserWarning: Using categorical_feature in Dataset.\n",
      "  _log_warning('Using categorical_feature in Dataset.')\n",
      "/opt/conda/lib/python3.9/site-packages/lightgbm/basic.py:2065: UserWarning: Using categorical_feature in Dataset.\n",
      "  _log_warning('Using categorical_feature in Dataset.')\n",
      "/opt/conda/lib/python3.9/site-packages/lightgbm/basic.py:2065: UserWarning: Using categorical_feature in Dataset.\n",
      "  _log_warning('Using categorical_feature in Dataset.')\n",
      "/opt/conda/lib/python3.9/site-packages/lightgbm/basic.py:2065: UserWarning: Using categorical_feature in Dataset.\n",
      "  _log_warning('Using categorical_feature in Dataset.')\n",
      "/opt/conda/lib/python3.9/site-packages/lightgbm/basic.py:2065: UserWarning: Using categorical_feature in Dataset.\n",
      "  _log_warning('Using categorical_feature in Dataset.')\n",
      "/opt/conda/lib/python3.9/site-packages/lightgbm/basic.py:2065: UserWarning: Using categorical_feature in Dataset.\n",
      "  _log_warning('Using categorical_feature in Dataset.')\n",
      "/opt/conda/lib/python3.9/site-packages/lightgbm/basic.py:2065: UserWarning: Using categorical_feature in Dataset.\n",
      "  _log_warning('Using categorical_feature in Dataset.')\n",
      "/opt/conda/lib/python3.9/site-packages/lightgbm/basic.py:2065: UserWarning: Using categorical_feature in Dataset.\n",
      "  _log_warning('Using categorical_feature in Dataset.')\n",
      "/opt/conda/lib/python3.9/site-packages/lightgbm/basic.py:2065: UserWarning: Using categorical_feature in Dataset.\n",
      "  _log_warning('Using categorical_feature in Dataset.')\n",
      "/opt/conda/lib/python3.9/site-packages/lightgbm/basic.py:2065: UserWarning: Using categorical_feature in Dataset.\n",
      "  _log_warning('Using categorical_feature in Dataset.')\n",
      "/opt/conda/lib/python3.9/site-packages/lightgbm/basic.py:2065: UserWarning: Using categorical_feature in Dataset.\n",
      "  _log_warning('Using categorical_feature in Dataset.')\n",
      "/opt/conda/lib/python3.9/site-packages/lightgbm/basic.py:2065: UserWarning: Using categorical_feature in Dataset.\n",
      "  _log_warning('Using categorical_feature in Dataset.')\n",
      "/opt/conda/lib/python3.9/site-packages/lightgbm/basic.py:2065: UserWarning: Using categorical_feature in Dataset.\n",
      "  _log_warning('Using categorical_feature in Dataset.')\n",
      "/opt/conda/lib/python3.9/site-packages/lightgbm/basic.py:2065: UserWarning: Using categorical_feature in Dataset.\n",
      "  _log_warning('Using categorical_feature in Dataset.')\n",
      "/opt/conda/lib/python3.9/site-packages/lightgbm/basic.py:2065: UserWarning: Using categorical_feature in Dataset.\n",
      "  _log_warning('Using categorical_feature in Dataset.')\n",
      "/opt/conda/lib/python3.9/site-packages/lightgbm/basic.py:2065: UserWarning: Using categorical_feature in Dataset.\n",
      "  _log_warning('Using categorical_feature in Dataset.')\n",
      "/opt/conda/lib/python3.9/site-packages/lightgbm/basic.py:2065: UserWarning: Using categorical_feature in Dataset.\n",
      "  _log_warning('Using categorical_feature in Dataset.')\n",
      "/opt/conda/lib/python3.9/site-packages/lightgbm/basic.py:2065: UserWarning: Using categorical_feature in Dataset.\n",
      "  _log_warning('Using categorical_feature in Dataset.')\n",
      "/opt/conda/lib/python3.9/site-packages/lightgbm/basic.py:2065: UserWarning: Using categorical_feature in Dataset.\n",
      "  _log_warning('Using categorical_feature in Dataset.')\n",
      "/opt/conda/lib/python3.9/site-packages/lightgbm/basic.py:2065: UserWarning: Using categorical_feature in Dataset.\n",
      "  _log_warning('Using categorical_feature in Dataset.')\n",
      "/opt/conda/lib/python3.9/site-packages/lightgbm/basic.py:2065: UserWarning: Using categorical_feature in Dataset.\n",
      "  _log_warning('Using categorical_feature in Dataset.')\n",
      "/opt/conda/lib/python3.9/site-packages/lightgbm/basic.py:2065: UserWarning: Using categorical_feature in Dataset.\n",
      "  _log_warning('Using categorical_feature in Dataset.')\n",
      "/opt/conda/lib/python3.9/site-packages/lightgbm/basic.py:2065: UserWarning: Using categorical_feature in Dataset.\n",
      "  _log_warning('Using categorical_feature in Dataset.')\n",
      "/opt/conda/lib/python3.9/site-packages/lightgbm/basic.py:2065: UserWarning: Using categorical_feature in Dataset.\n",
      "  _log_warning('Using categorical_feature in Dataset.')\n",
      "/opt/conda/lib/python3.9/site-packages/lightgbm/basic.py:2065: UserWarning: Using categorical_feature in Dataset.\n",
      "  _log_warning('Using categorical_feature in Dataset.')\n",
      "/opt/conda/lib/python3.9/site-packages/lightgbm/basic.py:2065: UserWarning: Using categorical_feature in Dataset.\n",
      "  _log_warning('Using categorical_feature in Dataset.')\n",
      "/opt/conda/lib/python3.9/site-packages/lightgbm/basic.py:2065: UserWarning: Using categorical_feature in Dataset.\n",
      "  _log_warning('Using categorical_feature in Dataset.')\n",
      "/opt/conda/lib/python3.9/site-packages/lightgbm/basic.py:2065: UserWarning: Using categorical_feature in Dataset.\n",
      "  _log_warning('Using categorical_feature in Dataset.')\n",
      "/opt/conda/lib/python3.9/site-packages/lightgbm/basic.py:2065: UserWarning: Using categorical_feature in Dataset.\n",
      "  _log_warning('Using categorical_feature in Dataset.')\n",
      "/opt/conda/lib/python3.9/site-packages/lightgbm/basic.py:2065: UserWarning: Using categorical_feature in Dataset.\n",
      "  _log_warning('Using categorical_feature in Dataset.')\n",
      "/opt/conda/lib/python3.9/site-packages/lightgbm/basic.py:2065: UserWarning: Using categorical_feature in Dataset.\n",
      "  _log_warning('Using categorical_feature in Dataset.')\n",
      "/opt/conda/lib/python3.9/site-packages/lightgbm/basic.py:2065: UserWarning: Using categorical_feature in Dataset.\n",
      "  _log_warning('Using categorical_feature in Dataset.')\n",
      "/opt/conda/lib/python3.9/site-packages/lightgbm/basic.py:2065: UserWarning: Using categorical_feature in Dataset.\n",
      "  _log_warning('Using categorical_feature in Dataset.')\n",
      "/opt/conda/lib/python3.9/site-packages/lightgbm/basic.py:2065: UserWarning: Using categorical_feature in Dataset.\n",
      "  _log_warning('Using categorical_feature in Dataset.')\n",
      "/opt/conda/lib/python3.9/site-packages/lightgbm/basic.py:2065: UserWarning: Using categorical_feature in Dataset.\n",
      "  _log_warning('Using categorical_feature in Dataset.')\n",
      "/opt/conda/lib/python3.9/site-packages/lightgbm/basic.py:2065: UserWarning: Using categorical_feature in Dataset.\n",
      "  _log_warning('Using categorical_feature in Dataset.')\n",
      "/opt/conda/lib/python3.9/site-packages/lightgbm/basic.py:2065: UserWarning: Using categorical_feature in Dataset.\n",
      "  _log_warning('Using categorical_feature in Dataset.')\n",
      "/opt/conda/lib/python3.9/site-packages/lightgbm/basic.py:2065: UserWarning: Using categorical_feature in Dataset.\n",
      "  _log_warning('Using categorical_feature in Dataset.')\n",
      "/opt/conda/lib/python3.9/site-packages/lightgbm/basic.py:2065: UserWarning: Using categorical_feature in Dataset.\n",
      "  _log_warning('Using categorical_feature in Dataset.')\n",
      "/opt/conda/lib/python3.9/site-packages/lightgbm/basic.py:2065: UserWarning: Using categorical_feature in Dataset.\n",
      "  _log_warning('Using categorical_feature in Dataset.')\n",
      "/opt/conda/lib/python3.9/site-packages/lightgbm/basic.py:2065: UserWarning: Using categorical_feature in Dataset.\n",
      "  _log_warning('Using categorical_feature in Dataset.')\n",
      "/opt/conda/lib/python3.9/site-packages/lightgbm/basic.py:2065: UserWarning: Using categorical_feature in Dataset.\n",
      "  _log_warning('Using categorical_feature in Dataset.')\n",
      "/opt/conda/lib/python3.9/site-packages/lightgbm/basic.py:2065: UserWarning: Using categorical_feature in Dataset.\n",
      "  _log_warning('Using categorical_feature in Dataset.')\n",
      "/opt/conda/lib/python3.9/site-packages/lightgbm/basic.py:2065: UserWarning: Using categorical_feature in Dataset.\n",
      "  _log_warning('Using categorical_feature in Dataset.')\n",
      "/opt/conda/lib/python3.9/site-packages/lightgbm/basic.py:2065: UserWarning: Using categorical_feature in Dataset.\n",
      "  _log_warning('Using categorical_feature in Dataset.')\n",
      "/opt/conda/lib/python3.9/site-packages/lightgbm/basic.py:2065: UserWarning: Using categorical_feature in Dataset.\n",
      "  _log_warning('Using categorical_feature in Dataset.')\n",
      "/opt/conda/lib/python3.9/site-packages/lightgbm/basic.py:2065: UserWarning: Using categorical_feature in Dataset.\n",
      "  _log_warning('Using categorical_feature in Dataset.')\n",
      "/opt/conda/lib/python3.9/site-packages/lightgbm/basic.py:2065: UserWarning: Using categorical_feature in Dataset.\n",
      "  _log_warning('Using categorical_feature in Dataset.')\n",
      "/opt/conda/lib/python3.9/site-packages/lightgbm/basic.py:2065: UserWarning: Using categorical_feature in Dataset.\n",
      "  _log_warning('Using categorical_feature in Dataset.')\n",
      "/opt/conda/lib/python3.9/site-packages/lightgbm/basic.py:2065: UserWarning: Using categorical_feature in Dataset.\n",
      "  _log_warning('Using categorical_feature in Dataset.')\n",
      "/opt/conda/lib/python3.9/site-packages/lightgbm/basic.py:2065: UserWarning: Using categorical_feature in Dataset.\n",
      "  _log_warning('Using categorical_feature in Dataset.')\n",
      "/opt/conda/lib/python3.9/site-packages/lightgbm/basic.py:2065: UserWarning: Using categorical_feature in Dataset.\n",
      "  _log_warning('Using categorical_feature in Dataset.')\n",
      "/opt/conda/lib/python3.9/site-packages/lightgbm/basic.py:2065: UserWarning: Using categorical_feature in Dataset.\n",
      "  _log_warning('Using categorical_feature in Dataset.')\n",
      "/opt/conda/lib/python3.9/site-packages/lightgbm/basic.py:2065: UserWarning: Using categorical_feature in Dataset.\n",
      "  _log_warning('Using categorical_feature in Dataset.')\n",
      "/opt/conda/lib/python3.9/site-packages/lightgbm/basic.py:2065: UserWarning: Using categorical_feature in Dataset.\n",
      "  _log_warning('Using categorical_feature in Dataset.')\n",
      "/opt/conda/lib/python3.9/site-packages/lightgbm/basic.py:2065: UserWarning: Using categorical_feature in Dataset.\n",
      "  _log_warning('Using categorical_feature in Dataset.')\n",
      "/opt/conda/lib/python3.9/site-packages/lightgbm/basic.py:2065: UserWarning: Using categorical_feature in Dataset.\n",
      "  _log_warning('Using categorical_feature in Dataset.')\n",
      "/opt/conda/lib/python3.9/site-packages/lightgbm/basic.py:2065: UserWarning: Using categorical_feature in Dataset.\n",
      "  _log_warning('Using categorical_feature in Dataset.')\n",
      "/opt/conda/lib/python3.9/site-packages/lightgbm/basic.py:2065: UserWarning: Using categorical_feature in Dataset.\n",
      "  _log_warning('Using categorical_feature in Dataset.')\n",
      "/opt/conda/lib/python3.9/site-packages/lightgbm/basic.py:2065: UserWarning: Using categorical_feature in Dataset.\n",
      "  _log_warning('Using categorical_feature in Dataset.')\n",
      "/opt/conda/lib/python3.9/site-packages/lightgbm/basic.py:2065: UserWarning: Using categorical_feature in Dataset.\n",
      "  _log_warning('Using categorical_feature in Dataset.')\n",
      "/opt/conda/lib/python3.9/site-packages/lightgbm/basic.py:2065: UserWarning: Using categorical_feature in Dataset.\n",
      "  _log_warning('Using categorical_feature in Dataset.')\n",
      "/opt/conda/lib/python3.9/site-packages/lightgbm/basic.py:2065: UserWarning: Using categorical_feature in Dataset.\n",
      "  _log_warning('Using categorical_feature in Dataset.')\n",
      "/opt/conda/lib/python3.9/site-packages/lightgbm/basic.py:2065: UserWarning: Using categorical_feature in Dataset.\n",
      "  _log_warning('Using categorical_feature in Dataset.')\n",
      "/opt/conda/lib/python3.9/site-packages/lightgbm/basic.py:2065: UserWarning: Using categorical_feature in Dataset.\n",
      "  _log_warning('Using categorical_feature in Dataset.')\n",
      "/opt/conda/lib/python3.9/site-packages/lightgbm/basic.py:2065: UserWarning: Using categorical_feature in Dataset.\n",
      "  _log_warning('Using categorical_feature in Dataset.')\n",
      "/opt/conda/lib/python3.9/site-packages/lightgbm/basic.py:2065: UserWarning: Using categorical_feature in Dataset.\n",
      "  _log_warning('Using categorical_feature in Dataset.')\n",
      "/opt/conda/lib/python3.9/site-packages/lightgbm/basic.py:2065: UserWarning: Using categorical_feature in Dataset.\n",
      "  _log_warning('Using categorical_feature in Dataset.')\n",
      "/opt/conda/lib/python3.9/site-packages/lightgbm/basic.py:2065: UserWarning: Using categorical_feature in Dataset.\n",
      "  _log_warning('Using categorical_feature in Dataset.')\n",
      "/opt/conda/lib/python3.9/site-packages/lightgbm/basic.py:2065: UserWarning: Using categorical_feature in Dataset.\n",
      "  _log_warning('Using categorical_feature in Dataset.')\n",
      "/opt/conda/lib/python3.9/site-packages/lightgbm/basic.py:2065: UserWarning: Using categorical_feature in Dataset.\n",
      "  _log_warning('Using categorical_feature in Dataset.')\n",
      "/opt/conda/lib/python3.9/site-packages/lightgbm/basic.py:2065: UserWarning: Using categorical_feature in Dataset.\n",
      "  _log_warning('Using categorical_feature in Dataset.')\n",
      "/opt/conda/lib/python3.9/site-packages/lightgbm/basic.py:2065: UserWarning: Using categorical_feature in Dataset.\n",
      "  _log_warning('Using categorical_feature in Dataset.')\n",
      "/opt/conda/lib/python3.9/site-packages/lightgbm/basic.py:2065: UserWarning: Using categorical_feature in Dataset.\n",
      "  _log_warning('Using categorical_feature in Dataset.')\n",
      "/opt/conda/lib/python3.9/site-packages/lightgbm/basic.py:2065: UserWarning: Using categorical_feature in Dataset.\n",
      "  _log_warning('Using categorical_feature in Dataset.')\n"
     ]
    },
    {
     "name": "stdout",
     "output_type": "stream",
     "text": [
      "Best hyperparams:  {'learning_rate': 0.1, 'max_depth': 25, 'n_estimators': 100, 'num_leaves': 127, 'random_state': 12345}\n",
      "RMSE score on train sample: nan\n"
     ]
    },
    {
     "name": "stderr",
     "output_type": "stream",
     "text": [
      "/tmp/ipykernel_355/3021188306.py:11: RuntimeWarning: invalid value encountered in double_scalars\n",
      "  print('RMSE score on train sample: {:.2f}'.format((grid_cv.best_score_) ** 0.5))\n"
     ]
    }
   ],
   "source": [
    "model = LGBMRegressor()\n",
    "params = {'n_estimators' : [50, 100],\n",
    "        'max_depth' : [3, 5, 6, 7, 9, 12, 15, 17, 25],\n",
    "        'random_state' : [12345],\n",
    "        'num_leaves' : [127],\n",
    "        'learning_rate': [0.01, 0.015, 0.025, 0.05, 0.1]}\n",
    "grid_cv = GridSearchCV(estimator=model, param_grid=params, cv=3, n_jobs=-1, scoring='neg_mean_squared_error')\n",
    "grid_cv.fit(df_features, df_target,categorical_feature = ['VehicleType', 'Gearbox', 'Model','FuelType', 'Brand', 'NotRepaired'])\n",
    "print('Best hyperparams: ', grid_cv.best_params_)\n",
    "parameters = grid_cv.best_params_\n",
    "print('RMSE score on train sample: {:.2f}'.format((grid_cv.best_score_) ** 0.5))\n",
    "\n"
   ]
  },
  {
   "cell_type": "code",
   "execution_count": 58,
   "metadata": {},
   "outputs": [
    {
     "name": "stdout",
     "output_type": "stream",
     "text": [
      "CPU times: user 9.93 s, sys: 13.5 ms, total: 9.94 s\n",
      "Wall time: 10.1 s\n"
     ]
    },
    {
     "data": {
      "text/plain": [
       "LGBMRegressor(max_depth=12, num_leaves=127, random_state=12345)"
      ]
     },
     "execution_count": 58,
     "metadata": {},
     "output_type": "execute_result"
    }
   ],
   "source": [
    "%%time\n",
    "model = LGBMRegressor(learning_rate=0.1, max_depth=12, n_estimators=100, num_leaves=127, random_state=12345)\n",
    "model.fit(features_train,target_train)\n"
   ]
  },
  {
   "cell_type": "code",
   "execution_count": 59,
   "metadata": {},
   "outputs": [
    {
     "name": "stdout",
     "output_type": "stream",
     "text": [
      "1554.6486711858959\n",
      "CPU times: user 1.21 s, sys: 0 ns, total: 1.21 s\n",
      "Wall time: 1.2 s\n"
     ]
    }
   ],
   "source": [
    "%%time\n",
    "predict = model.predict(features_valid)\n",
    "print(mean_squared_error(target_valid,predict)**0.5)"
   ]
  },
  {
   "cell_type": "markdown",
   "metadata": {},
   "source": [
    "## Анализ моделей\n",
    "<a id='section'></a>"
   ]
  },
  {
   "cell_type": "code",
   "execution_count": 3,
   "metadata": {},
   "outputs": [
    {
     "data": {
      "text/html": [
       "<div>\n",
       "<style scoped>\n",
       "    .dataframe tbody tr th:only-of-type {\n",
       "        vertical-align: middle;\n",
       "    }\n",
       "\n",
       "    .dataframe tbody tr th {\n",
       "        vertical-align: top;\n",
       "    }\n",
       "\n",
       "    .dataframe thead th {\n",
       "        text-align: right;\n",
       "    }\n",
       "</style>\n",
       "<table border=\"1\" class=\"dataframe\">\n",
       "  <thead>\n",
       "    <tr style=\"text-align: right;\">\n",
       "      <th></th>\n",
       "      <th>Model</th>\n",
       "      <th>Wall_time_fit</th>\n",
       "      <th>Wall time_pred</th>\n",
       "      <th>Rmse</th>\n",
       "    </tr>\n",
       "  </thead>\n",
       "  <tbody>\n",
       "    <tr>\n",
       "      <th>0</th>\n",
       "      <td>LGBMRegressor</td>\n",
       "      <td>10.4 s</td>\n",
       "      <td>1.15 s</td>\n",
       "      <td>1554.6486711858959</td>\n",
       "    </tr>\n",
       "    <tr>\n",
       "      <th>1</th>\n",
       "      <td>CatBoostRegressor</td>\n",
       "      <td>27.2 s</td>\n",
       "      <td>293ms</td>\n",
       "      <td>1579.967149283192</td>\n",
       "    </tr>\n",
       "    <tr>\n",
       "      <th>2</th>\n",
       "      <td>LinearRegression</td>\n",
       "      <td>20.7 s</td>\n",
       "      <td>135 ms</td>\n",
       "      <td>4283.770308916413</td>\n",
       "    </tr>\n",
       "    <tr>\n",
       "      <th>3</th>\n",
       "      <td>RandomForestRegressor</td>\n",
       "      <td>7.68 s</td>\n",
       "      <td>409 ms</td>\n",
       "      <td>3356.9753490965627</td>\n",
       "    </tr>\n",
       "  </tbody>\n",
       "</table>\n",
       "</div>"
      ],
      "text/plain": [
       "                   Model Wall_time_fit Wall time_pred                Rmse\n",
       "0          LGBMRegressor        10.4 s         1.15 s  1554.6486711858959\n",
       "1      CatBoostRegressor        27.2 s          293ms   1579.967149283192\n",
       "2       LinearRegression        20.7 s         135 ms   4283.770308916413\n",
       "3  RandomForestRegressor        7.68 s         409 ms  3356.9753490965627"
      ]
     },
     "execution_count": 3,
     "metadata": {},
     "output_type": "execute_result"
    }
   ],
   "source": [
    "pd.DataFrame({\n",
    "    'Model' : ['LGBMRegressor','CatBoostRegressor','LinearRegression','RandomForestRegressor'],\n",
    "    'Wall_time_fit': ['10.4 s','27.2 s','20.7 s','7.68 s'],\n",
    "    'Wall time_pred': ['1.15 s','293ms','135 ms','409 ms'],\n",
    "    'Rmse':['1554.6486711858959','1579.967149283192','4283.770308916413','3356.9753490965627']})\n"
   ]
  },
  {
   "cell_type": "markdown",
   "metadata": {},
   "source": [
    " LGBMRegressor результат лучше чем CatBoostRegressor.Обучение по сравнению c CatBoostRegressor,занимает меньше времени , CatBoostRegressor в 2,72 раза дольше обучается .CatBoostRegressor даёт предсказания в 3,5 разa быстрее чем LGBMRegressor.\n",
    "Для данной задачи рекомендован LGBMRegressor, показал результат лучше и требует меньше времени"
   ]
  }
 ],
 "metadata": {
  "ExecuteTimeLog": [
   {
    "duration": 10,
    "start_time": "2022-07-07T12:39:23.867Z"
   },
   {
    "duration": 342,
    "start_time": "2022-07-07T12:40:22.304Z"
   },
   {
    "duration": 2959,
    "start_time": "2022-07-07T12:40:23.705Z"
   },
   {
    "duration": 844,
    "start_time": "2022-07-07T12:40:58.595Z"
   },
   {
    "duration": 101,
    "start_time": "2022-07-07T12:41:08.392Z"
   },
   {
    "duration": 22,
    "start_time": "2022-07-07T12:49:17.442Z"
   },
   {
    "duration": 6,
    "start_time": "2022-07-07T12:50:03.770Z"
   },
   {
    "duration": 84,
    "start_time": "2022-07-07T12:50:24.703Z"
   },
   {
    "duration": 458,
    "start_time": "2022-07-08T14:16:14.423Z"
   },
   {
    "duration": 1332,
    "start_time": "2022-07-08T14:16:14.883Z"
   },
   {
    "duration": 263,
    "start_time": "2022-07-08T14:16:16.218Z"
   },
   {
    "duration": 148,
    "start_time": "2022-07-08T14:16:16.483Z"
   },
   {
    "duration": 939,
    "start_time": "2022-07-08T14:16:16.633Z"
   },
   {
    "duration": 25,
    "start_time": "2022-07-08T14:20:20.069Z"
   },
   {
    "duration": 33,
    "start_time": "2022-07-08T14:21:31.992Z"
   },
   {
    "duration": 21,
    "start_time": "2022-07-08T14:23:07.611Z"
   },
   {
    "duration": 8,
    "start_time": "2022-07-08T14:23:19.444Z"
   },
   {
    "duration": 71,
    "start_time": "2022-07-08T14:23:26.182Z"
   },
   {
    "duration": 29,
    "start_time": "2022-07-08T14:23:47.778Z"
   },
   {
    "duration": 123,
    "start_time": "2022-07-08T14:34:33.141Z"
   },
   {
    "duration": 9,
    "start_time": "2022-07-08T14:57:43.806Z"
   },
   {
    "duration": 4,
    "start_time": "2022-07-08T14:57:58.790Z"
   },
   {
    "duration": 186,
    "start_time": "2022-07-08T14:58:01.470Z"
   },
   {
    "duration": 57,
    "start_time": "2022-07-08T15:01:34.059Z"
   },
   {
    "duration": 11,
    "start_time": "2022-07-08T15:02:02.155Z"
   },
   {
    "duration": 11,
    "start_time": "2022-07-08T15:58:50.355Z"
   },
   {
    "duration": 27,
    "start_time": "2022-07-08T15:58:59.000Z"
   },
   {
    "duration": 406,
    "start_time": "2022-07-08T16:01:03.018Z"
   },
   {
    "duration": 914,
    "start_time": "2022-07-08T16:01:03.426Z"
   },
   {
    "duration": 175,
    "start_time": "2022-07-08T16:01:04.342Z"
   },
   {
    "duration": 190,
    "start_time": "2022-07-08T16:01:04.520Z"
   },
   {
    "duration": 111,
    "start_time": "2022-07-08T16:01:04.713Z"
   },
   {
    "duration": 6,
    "start_time": "2022-07-08T16:01:04.826Z"
   },
   {
    "duration": 55,
    "start_time": "2022-07-08T16:01:04.834Z"
   },
   {
    "duration": 472,
    "start_time": "2022-07-08T16:11:47.881Z"
   },
   {
    "duration": 587,
    "start_time": "2022-07-08T16:11:56.092Z"
   },
   {
    "duration": 540,
    "start_time": "2022-07-08T16:12:12.255Z"
   },
   {
    "duration": 564,
    "start_time": "2022-07-08T16:14:03.506Z"
   },
   {
    "duration": 539,
    "start_time": "2022-07-08T16:15:01.757Z"
   },
   {
    "duration": 525,
    "start_time": "2022-07-08T16:16:00.110Z"
   },
   {
    "duration": 631,
    "start_time": "2022-07-08T16:16:06.259Z"
   },
   {
    "duration": 428,
    "start_time": "2022-07-20T13:32:48.511Z"
   },
   {
    "duration": 1561,
    "start_time": "2022-07-20T13:32:48.941Z"
   },
   {
    "duration": 134,
    "start_time": "2022-07-20T13:32:50.504Z"
   },
   {
    "duration": 142,
    "start_time": "2022-07-20T13:32:50.640Z"
   },
   {
    "duration": 108,
    "start_time": "2022-07-20T13:32:50.783Z"
   },
   {
    "duration": 5,
    "start_time": "2022-07-20T13:32:50.893Z"
   },
   {
    "duration": 51,
    "start_time": "2022-07-20T13:32:50.899Z"
   },
   {
    "duration": 504,
    "start_time": "2022-07-20T13:32:50.959Z"
   },
   {
    "duration": 524,
    "start_time": "2022-07-20T13:32:51.465Z"
   },
   {
    "duration": 397,
    "start_time": "2022-07-21T08:16:47.153Z"
   },
   {
    "duration": 2994,
    "start_time": "2022-07-21T08:16:47.552Z"
   },
   {
    "duration": 118,
    "start_time": "2022-07-21T08:16:50.548Z"
   },
   {
    "duration": 123,
    "start_time": "2022-07-21T08:16:50.668Z"
   },
   {
    "duration": 119,
    "start_time": "2022-07-21T08:16:50.792Z"
   },
   {
    "duration": 5,
    "start_time": "2022-07-21T08:16:50.913Z"
   },
   {
    "duration": 41,
    "start_time": "2022-07-21T08:16:50.919Z"
   },
   {
    "duration": 479,
    "start_time": "2022-07-21T08:16:50.961Z"
   },
   {
    "duration": 507,
    "start_time": "2022-07-21T08:16:51.441Z"
   },
   {
    "duration": 72,
    "start_time": "2022-07-21T08:19:20.001Z"
   },
   {
    "duration": 619,
    "start_time": "2022-07-21T08:19:45.127Z"
   },
   {
    "duration": 10,
    "start_time": "2022-07-21T08:24:49.632Z"
   },
   {
    "duration": 22,
    "start_time": "2022-07-21T08:25:02.960Z"
   },
   {
    "duration": 91,
    "start_time": "2022-07-21T08:25:23.170Z"
   },
   {
    "duration": 22,
    "start_time": "2022-07-21T08:27:01.535Z"
   },
   {
    "duration": 10,
    "start_time": "2022-07-21T08:27:39.868Z"
   },
   {
    "duration": 825,
    "start_time": "2022-07-21T08:28:50.945Z"
   },
   {
    "duration": 430,
    "start_time": "2022-07-21T08:50:42.942Z"
   },
   {
    "duration": 856,
    "start_time": "2022-07-21T08:50:43.374Z"
   },
   {
    "duration": 142,
    "start_time": "2022-07-21T08:50:44.232Z"
   },
   {
    "duration": 121,
    "start_time": "2022-07-21T08:50:44.376Z"
   },
   {
    "duration": 113,
    "start_time": "2022-07-21T08:50:44.498Z"
   },
   {
    "duration": 6,
    "start_time": "2022-07-21T08:50:44.612Z"
   },
   {
    "duration": 25,
    "start_time": "2022-07-21T08:50:44.619Z"
   },
   {
    "duration": 30,
    "start_time": "2022-07-21T08:50:44.646Z"
   },
   {
    "duration": 530,
    "start_time": "2022-07-21T08:50:44.677Z"
   },
   {
    "duration": 491,
    "start_time": "2022-07-21T08:50:45.209Z"
   },
   {
    "duration": 77,
    "start_time": "2022-07-21T08:50:45.701Z"
   },
   {
    "duration": 92,
    "start_time": "2022-07-21T08:56:19.827Z"
   },
   {
    "duration": 1171,
    "start_time": "2022-07-21T08:56:30.135Z"
   },
   {
    "duration": 111,
    "start_time": "2022-07-21T09:12:01.366Z"
   },
   {
    "duration": 1130,
    "start_time": "2022-07-21T09:14:07.952Z"
   },
   {
    "duration": 13,
    "start_time": "2022-07-21T09:14:10.728Z"
   },
   {
    "duration": 410,
    "start_time": "2022-07-21T09:14:19.862Z"
   },
   {
    "duration": 963,
    "start_time": "2022-07-21T09:14:20.274Z"
   },
   {
    "duration": 179,
    "start_time": "2022-07-21T09:14:21.240Z"
   },
   {
    "duration": 154,
    "start_time": "2022-07-21T09:14:21.421Z"
   },
   {
    "duration": 125,
    "start_time": "2022-07-21T09:14:21.578Z"
   },
   {
    "duration": 7,
    "start_time": "2022-07-21T09:14:21.705Z"
   },
   {
    "duration": 30,
    "start_time": "2022-07-21T09:14:21.714Z"
   },
   {
    "duration": 41,
    "start_time": "2022-07-21T09:14:21.745Z"
   },
   {
    "duration": 542,
    "start_time": "2022-07-21T09:14:21.788Z"
   },
   {
    "duration": 557,
    "start_time": "2022-07-21T09:14:22.331Z"
   },
   {
    "duration": 1229,
    "start_time": "2022-07-21T09:14:22.891Z"
   },
   {
    "duration": 73,
    "start_time": "2022-07-21T09:14:24.122Z"
   },
   {
    "duration": 61,
    "start_time": "2022-07-21T09:14:37.893Z"
   },
   {
    "duration": 25,
    "start_time": "2022-07-21T09:16:24.773Z"
   },
   {
    "duration": 12,
    "start_time": "2022-07-21T09:22:02.405Z"
   },
   {
    "duration": 12,
    "start_time": "2022-07-21T09:22:13.552Z"
   },
   {
    "duration": 11,
    "start_time": "2022-07-21T09:23:29.038Z"
   },
   {
    "duration": 445,
    "start_time": "2022-07-21T11:16:57.621Z"
   },
   {
    "duration": 3156,
    "start_time": "2022-07-21T11:16:58.069Z"
   },
   {
    "duration": 122,
    "start_time": "2022-07-21T11:17:01.227Z"
   },
   {
    "duration": 172,
    "start_time": "2022-07-21T11:17:01.351Z"
   },
   {
    "duration": 124,
    "start_time": "2022-07-21T11:17:01.525Z"
   },
   {
    "duration": 7,
    "start_time": "2022-07-21T11:17:01.651Z"
   },
   {
    "duration": 84,
    "start_time": "2022-07-21T11:17:01.660Z"
   },
   {
    "duration": 62,
    "start_time": "2022-07-21T11:17:01.746Z"
   },
   {
    "duration": 588,
    "start_time": "2022-07-21T11:17:01.810Z"
   },
   {
    "duration": 572,
    "start_time": "2022-07-21T11:17:02.405Z"
   },
   {
    "duration": 1161,
    "start_time": "2022-07-21T11:17:02.979Z"
   },
   {
    "duration": 2951,
    "start_time": "2022-07-21T11:17:04.143Z"
   },
   {
    "duration": 5081,
    "start_time": "2022-07-21T11:17:07.096Z"
   },
   {
    "duration": 0,
    "start_time": "2022-07-21T11:17:12.180Z"
   },
   {
    "duration": 0,
    "start_time": "2022-07-21T11:17:12.181Z"
   },
   {
    "duration": 360,
    "start_time": "2022-07-21T11:21:59.458Z"
   },
   {
    "duration": 917,
    "start_time": "2022-07-21T11:21:59.820Z"
   },
   {
    "duration": 132,
    "start_time": "2022-07-21T11:22:00.739Z"
   },
   {
    "duration": 149,
    "start_time": "2022-07-21T11:22:00.874Z"
   },
   {
    "duration": 123,
    "start_time": "2022-07-21T11:22:01.026Z"
   },
   {
    "duration": 6,
    "start_time": "2022-07-21T11:22:01.151Z"
   },
   {
    "duration": 25,
    "start_time": "2022-07-21T11:22:01.158Z"
   },
   {
    "duration": 39,
    "start_time": "2022-07-21T11:22:01.185Z"
   },
   {
    "duration": 549,
    "start_time": "2022-07-21T11:22:01.225Z"
   },
   {
    "duration": 607,
    "start_time": "2022-07-21T11:22:01.777Z"
   },
   {
    "duration": 1206,
    "start_time": "2022-07-21T11:22:02.386Z"
   },
   {
    "duration": 2808,
    "start_time": "2022-07-21T11:22:03.593Z"
   },
   {
    "duration": 23195,
    "start_time": "2022-07-21T11:22:06.404Z"
   },
   {
    "duration": 0,
    "start_time": "2022-07-21T11:22:29.601Z"
   },
   {
    "duration": 0,
    "start_time": "2022-07-21T11:22:29.602Z"
   },
   {
    "duration": 22,
    "start_time": "2022-07-21T11:23:32.535Z"
   },
   {
    "duration": 23,
    "start_time": "2022-07-21T11:23:42.757Z"
   },
   {
    "duration": 393,
    "start_time": "2022-07-21T11:23:58.134Z"
   },
   {
    "duration": 908,
    "start_time": "2022-07-21T11:23:58.529Z"
   },
   {
    "duration": 122,
    "start_time": "2022-07-21T11:23:59.439Z"
   },
   {
    "duration": 142,
    "start_time": "2022-07-21T11:23:59.564Z"
   },
   {
    "duration": 108,
    "start_time": "2022-07-21T11:23:59.707Z"
   },
   {
    "duration": 7,
    "start_time": "2022-07-21T11:23:59.816Z"
   },
   {
    "duration": 23,
    "start_time": "2022-07-21T11:23:59.825Z"
   },
   {
    "duration": 60,
    "start_time": "2022-07-21T11:23:59.850Z"
   },
   {
    "duration": 546,
    "start_time": "2022-07-21T11:23:59.912Z"
   },
   {
    "duration": 574,
    "start_time": "2022-07-21T11:24:00.462Z"
   },
   {
    "duration": 1341,
    "start_time": "2022-07-21T11:24:01.039Z"
   },
   {
    "duration": 34,
    "start_time": "2022-07-21T11:24:02.382Z"
   },
   {
    "duration": 2641,
    "start_time": "2022-07-21T11:24:02.418Z"
   },
   {
    "duration": 28,
    "start_time": "2022-07-21T11:24:05.061Z"
   },
   {
    "duration": 24314,
    "start_time": "2022-07-21T11:24:05.107Z"
   },
   {
    "duration": 0,
    "start_time": "2022-07-21T11:24:29.424Z"
   },
   {
    "duration": 0,
    "start_time": "2022-07-21T11:24:29.425Z"
   },
   {
    "duration": 0,
    "start_time": "2022-07-21T11:24:29.427Z"
   },
   {
    "duration": 168,
    "start_time": "2022-07-21T11:24:55.251Z"
   },
   {
    "duration": 155,
    "start_time": "2022-07-21T11:25:08.759Z"
   },
   {
    "duration": 465,
    "start_time": "2022-07-21T11:25:16.988Z"
   },
   {
    "duration": 979,
    "start_time": "2022-07-21T11:25:17.455Z"
   },
   {
    "duration": 133,
    "start_time": "2022-07-21T11:25:18.436Z"
   },
   {
    "duration": 150,
    "start_time": "2022-07-21T11:25:18.572Z"
   },
   {
    "duration": 118,
    "start_time": "2022-07-21T11:25:18.728Z"
   },
   {
    "duration": 8,
    "start_time": "2022-07-21T11:25:18.848Z"
   },
   {
    "duration": 18,
    "start_time": "2022-07-21T11:25:18.858Z"
   },
   {
    "duration": 54,
    "start_time": "2022-07-21T11:25:18.878Z"
   },
   {
    "duration": 554,
    "start_time": "2022-07-21T11:25:18.934Z"
   },
   {
    "duration": 576,
    "start_time": "2022-07-21T11:25:19.492Z"
   },
   {
    "duration": 1361,
    "start_time": "2022-07-21T11:25:20.069Z"
   },
   {
    "duration": 127,
    "start_time": "2022-07-21T11:25:21.432Z"
   },
   {
    "duration": 2961,
    "start_time": "2022-07-21T11:25:21.561Z"
   },
   {
    "duration": 122,
    "start_time": "2022-07-21T11:25:24.524Z"
   },
   {
    "duration": 22938,
    "start_time": "2022-07-21T11:25:24.648Z"
   },
   {
    "duration": 0,
    "start_time": "2022-07-21T11:25:47.588Z"
   },
   {
    "duration": 0,
    "start_time": "2022-07-21T11:25:47.589Z"
   },
   {
    "duration": 0,
    "start_time": "2022-07-21T11:25:47.590Z"
   },
   {
    "duration": 533,
    "start_time": "2022-07-21T11:26:13.785Z"
   },
   {
    "duration": 965,
    "start_time": "2022-07-21T11:26:14.320Z"
   },
   {
    "duration": 149,
    "start_time": "2022-07-21T11:26:15.287Z"
   },
   {
    "duration": 156,
    "start_time": "2022-07-21T11:26:15.439Z"
   },
   {
    "duration": 165,
    "start_time": "2022-07-21T11:26:15.597Z"
   },
   {
    "duration": 8,
    "start_time": "2022-07-21T11:26:15.764Z"
   },
   {
    "duration": 12,
    "start_time": "2022-07-21T11:26:15.775Z"
   },
   {
    "duration": 55,
    "start_time": "2022-07-21T11:26:15.790Z"
   },
   {
    "duration": 595,
    "start_time": "2022-07-21T11:26:15.847Z"
   },
   {
    "duration": 655,
    "start_time": "2022-07-21T11:26:16.444Z"
   },
   {
    "duration": 1339,
    "start_time": "2022-07-21T11:26:17.101Z"
   },
   {
    "duration": 79,
    "start_time": "2022-07-21T11:26:18.444Z"
   },
   {
    "duration": 0,
    "start_time": "2022-07-21T11:26:18.525Z"
   },
   {
    "duration": 0,
    "start_time": "2022-07-21T11:26:18.527Z"
   },
   {
    "duration": 0,
    "start_time": "2022-07-21T11:26:18.528Z"
   },
   {
    "duration": 0,
    "start_time": "2022-07-21T11:26:18.530Z"
   },
   {
    "duration": 0,
    "start_time": "2022-07-21T11:26:18.531Z"
   },
   {
    "duration": 1,
    "start_time": "2022-07-21T11:26:18.532Z"
   },
   {
    "duration": 429,
    "start_time": "2022-07-21T11:27:31.938Z"
   },
   {
    "duration": 880,
    "start_time": "2022-07-21T11:27:32.369Z"
   },
   {
    "duration": 115,
    "start_time": "2022-07-21T11:27:33.250Z"
   },
   {
    "duration": 150,
    "start_time": "2022-07-21T11:27:33.367Z"
   },
   {
    "duration": 139,
    "start_time": "2022-07-21T11:27:33.519Z"
   },
   {
    "duration": 6,
    "start_time": "2022-07-21T11:27:33.660Z"
   },
   {
    "duration": 12,
    "start_time": "2022-07-21T11:27:33.667Z"
   },
   {
    "duration": 49,
    "start_time": "2022-07-21T11:27:33.681Z"
   },
   {
    "duration": 516,
    "start_time": "2022-07-21T11:27:33.732Z"
   },
   {
    "duration": 563,
    "start_time": "2022-07-21T11:27:34.251Z"
   },
   {
    "duration": 1231,
    "start_time": "2022-07-21T11:27:34.816Z"
   },
   {
    "duration": 125,
    "start_time": "2022-07-21T11:27:36.049Z"
   },
   {
    "duration": 2689,
    "start_time": "2022-07-21T11:27:36.175Z"
   },
   {
    "duration": 143,
    "start_time": "2022-07-21T11:27:38.866Z"
   },
   {
    "duration": 23990,
    "start_time": "2022-07-21T11:27:39.010Z"
   },
   {
    "duration": 114,
    "start_time": "2022-07-21T11:28:03.005Z"
   },
   {
    "duration": 6422,
    "start_time": "2022-07-21T11:28:03.121Z"
   },
   {
    "duration": 22,
    "start_time": "2022-07-21T11:28:09.545Z"
   },
   {
    "duration": 112,
    "start_time": "2022-07-21T11:28:09.569Z"
   },
   {
    "duration": 111,
    "start_time": "2022-07-21T11:28:27.712Z"
   },
   {
    "duration": 20,
    "start_time": "2022-07-21T11:29:01.594Z"
   },
   {
    "duration": 24,
    "start_time": "2022-07-21T11:29:26.686Z"
   },
   {
    "duration": 109,
    "start_time": "2022-07-21T11:29:46.107Z"
   },
   {
    "duration": 409,
    "start_time": "2022-07-21T11:29:57.431Z"
   },
   {
    "duration": 915,
    "start_time": "2022-07-21T11:29:57.842Z"
   },
   {
    "duration": 133,
    "start_time": "2022-07-21T11:29:58.758Z"
   },
   {
    "duration": 132,
    "start_time": "2022-07-21T11:29:58.893Z"
   },
   {
    "duration": 119,
    "start_time": "2022-07-21T11:29:59.026Z"
   },
   {
    "duration": 6,
    "start_time": "2022-07-21T11:29:59.147Z"
   },
   {
    "duration": 14,
    "start_time": "2022-07-21T11:29:59.155Z"
   },
   {
    "duration": 50,
    "start_time": "2022-07-21T11:29:59.171Z"
   },
   {
    "duration": 510,
    "start_time": "2022-07-21T11:29:59.222Z"
   },
   {
    "duration": 575,
    "start_time": "2022-07-21T11:29:59.736Z"
   },
   {
    "duration": 1199,
    "start_time": "2022-07-21T11:30:00.313Z"
   },
   {
    "duration": 116,
    "start_time": "2022-07-21T11:30:01.514Z"
   },
   {
    "duration": 2790,
    "start_time": "2022-07-21T11:30:01.632Z"
   },
   {
    "duration": 119,
    "start_time": "2022-07-21T11:30:04.425Z"
   },
   {
    "duration": 24042,
    "start_time": "2022-07-21T11:30:04.546Z"
   },
   {
    "duration": 122,
    "start_time": "2022-07-21T11:30:28.590Z"
   },
   {
    "duration": 6322,
    "start_time": "2022-07-21T11:30:28.714Z"
   },
   {
    "duration": 125,
    "start_time": "2022-07-21T11:30:35.038Z"
   },
   {
    "duration": 20,
    "start_time": "2022-07-21T11:30:35.164Z"
   },
   {
    "duration": 20,
    "start_time": "2022-07-21T11:30:35.205Z"
   },
   {
    "duration": 163,
    "start_time": "2022-07-21T11:30:35.227Z"
   },
   {
    "duration": 36,
    "start_time": "2022-07-21T14:19:22.936Z"
   },
   {
    "duration": 53,
    "start_time": "2022-07-21T14:19:40.208Z"
   },
   {
    "duration": 108,
    "start_time": "2022-07-21T14:22:03.519Z"
   },
   {
    "duration": 760,
    "start_time": "2022-07-21T14:25:17.374Z"
   },
   {
    "duration": 216,
    "start_time": "2022-07-21T14:25:25.905Z"
   },
   {
    "duration": 225,
    "start_time": "2022-07-21T14:40:32.251Z"
   },
   {
    "duration": 10,
    "start_time": "2022-07-21T14:43:53.299Z"
   },
   {
    "duration": 1114,
    "start_time": "2022-07-21T14:44:00.882Z"
   },
   {
    "duration": 1351,
    "start_time": "2022-07-21T14:49:19.731Z"
   },
   {
    "duration": 1132,
    "start_time": "2022-07-21T14:49:58.991Z"
   },
   {
    "duration": 1058,
    "start_time": "2022-07-21T14:50:00.126Z"
   },
   {
    "duration": 126,
    "start_time": "2022-07-21T14:50:01.186Z"
   },
   {
    "duration": 126,
    "start_time": "2022-07-21T14:50:01.314Z"
   },
   {
    "duration": 112,
    "start_time": "2022-07-21T14:50:01.442Z"
   },
   {
    "duration": 5,
    "start_time": "2022-07-21T14:50:01.556Z"
   },
   {
    "duration": 23,
    "start_time": "2022-07-21T14:50:01.563Z"
   },
   {
    "duration": 49,
    "start_time": "2022-07-21T14:50:01.588Z"
   },
   {
    "duration": 502,
    "start_time": "2022-07-21T14:50:01.638Z"
   },
   {
    "duration": 556,
    "start_time": "2022-07-21T14:50:02.144Z"
   },
   {
    "duration": 1123,
    "start_time": "2022-07-21T14:50:02.702Z"
   },
   {
    "duration": 116,
    "start_time": "2022-07-21T14:50:03.827Z"
   },
   {
    "duration": 2831,
    "start_time": "2022-07-21T14:50:03.945Z"
   },
   {
    "duration": 108,
    "start_time": "2022-07-21T14:50:06.778Z"
   },
   {
    "duration": 23551,
    "start_time": "2022-07-21T14:50:06.888Z"
   },
   {
    "duration": 114,
    "start_time": "2022-07-21T14:50:30.441Z"
   },
   {
    "duration": 6300,
    "start_time": "2022-07-21T14:50:30.556Z"
   },
   {
    "duration": 120,
    "start_time": "2022-07-21T14:50:36.858Z"
   },
   {
    "duration": 35,
    "start_time": "2022-07-21T14:50:36.980Z"
   },
   {
    "duration": 87,
    "start_time": "2022-07-21T14:50:37.017Z"
   },
   {
    "duration": 162,
    "start_time": "2022-07-21T14:50:37.106Z"
   },
   {
    "duration": 250,
    "start_time": "2022-07-21T14:50:37.270Z"
   },
   {
    "duration": 298,
    "start_time": "2022-07-21T14:50:37.522Z"
   },
   {
    "duration": 1011,
    "start_time": "2022-07-22T11:28:20.701Z"
   },
   {
    "duration": 3,
    "start_time": "2022-07-22T11:31:04.777Z"
   },
   {
    "duration": 3,
    "start_time": "2022-07-22T11:31:08.459Z"
   },
   {
    "duration": 128,
    "start_time": "2022-07-22T11:42:02.942Z"
   },
   {
    "duration": 1020,
    "start_time": "2022-07-22T11:42:12.818Z"
   },
   {
    "duration": 3140,
    "start_time": "2022-07-22T11:42:13.840Z"
   },
   {
    "duration": 113,
    "start_time": "2022-07-22T11:42:16.982Z"
   },
   {
    "duration": 104,
    "start_time": "2022-07-22T11:42:17.097Z"
   },
   {
    "duration": 96,
    "start_time": "2022-07-22T11:42:17.203Z"
   },
   {
    "duration": 6,
    "start_time": "2022-07-22T11:42:17.301Z"
   },
   {
    "duration": 15,
    "start_time": "2022-07-22T11:42:17.309Z"
   },
   {
    "duration": 42,
    "start_time": "2022-07-22T11:42:17.325Z"
   },
   {
    "duration": 414,
    "start_time": "2022-07-22T11:42:17.369Z"
   },
   {
    "duration": 452,
    "start_time": "2022-07-22T11:42:17.785Z"
   },
   {
    "duration": 1321,
    "start_time": "2022-07-22T11:42:18.238Z"
   },
   {
    "duration": 0,
    "start_time": "2022-07-22T11:42:19.562Z"
   },
   {
    "duration": 0,
    "start_time": "2022-07-22T11:42:19.563Z"
   },
   {
    "duration": 0,
    "start_time": "2022-07-22T11:42:19.565Z"
   },
   {
    "duration": 0,
    "start_time": "2022-07-22T11:42:19.567Z"
   },
   {
    "duration": 0,
    "start_time": "2022-07-22T11:42:19.568Z"
   },
   {
    "duration": 0,
    "start_time": "2022-07-22T11:42:19.569Z"
   },
   {
    "duration": 0,
    "start_time": "2022-07-22T11:42:19.570Z"
   },
   {
    "duration": 0,
    "start_time": "2022-07-22T11:42:19.572Z"
   },
   {
    "duration": 0,
    "start_time": "2022-07-22T11:42:19.573Z"
   },
   {
    "duration": 0,
    "start_time": "2022-07-22T11:42:19.576Z"
   },
   {
    "duration": 0,
    "start_time": "2022-07-22T11:42:19.577Z"
   },
   {
    "duration": 0,
    "start_time": "2022-07-22T11:42:19.578Z"
   },
   {
    "duration": 0,
    "start_time": "2022-07-22T11:42:19.580Z"
   },
   {
    "duration": 3,
    "start_time": "2022-07-22T11:44:17.553Z"
   },
   {
    "duration": 788,
    "start_time": "2022-07-22T11:44:29.754Z"
   },
   {
    "duration": 901,
    "start_time": "2022-07-22T11:47:50.051Z"
   },
   {
    "duration": 894,
    "start_time": "2022-07-22T11:51:28.008Z"
   },
   {
    "duration": 1019,
    "start_time": "2022-07-22T11:52:04.446Z"
   },
   {
    "duration": 10,
    "start_time": "2022-07-22T11:52:24.298Z"
   },
   {
    "duration": 1096,
    "start_time": "2022-07-22T11:53:23.996Z"
   },
   {
    "duration": 1133,
    "start_time": "2022-07-22T11:53:30.509Z"
   },
   {
    "duration": 14,
    "start_time": "2022-07-22T11:54:14.706Z"
   },
   {
    "duration": 1433,
    "start_time": "2022-07-22T11:54:41.958Z"
   },
   {
    "duration": 1418,
    "start_time": "2022-07-22T11:55:13.046Z"
   },
   {
    "duration": 9,
    "start_time": "2022-07-22T11:55:34.046Z"
   },
   {
    "duration": 75,
    "start_time": "2022-07-22T11:56:50.710Z"
   },
   {
    "duration": 1474,
    "start_time": "2022-07-22T11:57:06.290Z"
   },
   {
    "duration": 1087,
    "start_time": "2022-07-22T11:57:28.362Z"
   },
   {
    "duration": 778,
    "start_time": "2022-07-22T11:57:29.451Z"
   },
   {
    "duration": 109,
    "start_time": "2022-07-22T11:57:30.230Z"
   },
   {
    "duration": 113,
    "start_time": "2022-07-22T11:57:30.341Z"
   },
   {
    "duration": 98,
    "start_time": "2022-07-22T11:57:30.455Z"
   },
   {
    "duration": 5,
    "start_time": "2022-07-22T11:57:30.555Z"
   },
   {
    "duration": 53,
    "start_time": "2022-07-22T11:57:30.562Z"
   },
   {
    "duration": 42,
    "start_time": "2022-07-22T11:57:30.617Z"
   },
   {
    "duration": 423,
    "start_time": "2022-07-22T11:57:30.661Z"
   },
   {
    "duration": 438,
    "start_time": "2022-07-22T11:57:31.087Z"
   },
   {
    "duration": 990,
    "start_time": "2022-07-22T11:57:31.526Z"
   },
   {
    "duration": 100,
    "start_time": "2022-07-22T11:57:32.518Z"
   },
   {
    "duration": 2416,
    "start_time": "2022-07-22T11:57:32.620Z"
   },
   {
    "duration": 114,
    "start_time": "2022-07-22T11:57:35.038Z"
   },
   {
    "duration": 20843,
    "start_time": "2022-07-22T11:57:35.154Z"
   },
   {
    "duration": 125,
    "start_time": "2022-07-22T11:57:55.999Z"
   },
   {
    "duration": 5311,
    "start_time": "2022-07-22T11:57:56.128Z"
   },
   {
    "duration": 114,
    "start_time": "2022-07-22T11:58:01.441Z"
   },
   {
    "duration": 17,
    "start_time": "2022-07-22T11:58:01.556Z"
   },
   {
    "duration": 30,
    "start_time": "2022-07-22T11:58:01.574Z"
   },
   {
    "duration": 108,
    "start_time": "2022-07-22T11:58:01.605Z"
   },
   {
    "duration": 197,
    "start_time": "2022-07-22T11:58:01.714Z"
   },
   {
    "duration": 242,
    "start_time": "2022-07-22T11:58:01.913Z"
   },
   {
    "duration": 1622,
    "start_time": "2022-07-22T12:03:29.450Z"
   },
   {
    "duration": 10,
    "start_time": "2022-07-22T12:03:46.478Z"
   },
   {
    "duration": 11,
    "start_time": "2022-07-22T12:04:01.779Z"
   },
   {
    "duration": 1083,
    "start_time": "2022-07-22T12:04:33.074Z"
   },
   {
    "duration": 1008,
    "start_time": "2022-07-22T12:06:06.971Z"
   },
   {
    "duration": 963,
    "start_time": "2022-07-22T12:06:51.367Z"
   },
   {
    "duration": 1056,
    "start_time": "2022-07-22T12:07:19.677Z"
   },
   {
    "duration": 931,
    "start_time": "2022-07-22T12:09:36.946Z"
   },
   {
    "duration": 91,
    "start_time": "2022-07-22T12:18:15.956Z"
   },
   {
    "duration": 1321,
    "start_time": "2022-07-22T12:18:29.656Z"
   },
   {
    "duration": 1239,
    "start_time": "2022-07-22T12:18:40.667Z"
   },
   {
    "duration": 893,
    "start_time": "2022-07-22T12:18:50.176Z"
   },
   {
    "duration": 1088,
    "start_time": "2022-07-22T12:18:56.046Z"
   },
   {
    "duration": 1171,
    "start_time": "2022-07-22T12:19:25.464Z"
   },
   {
    "duration": 1300,
    "start_time": "2022-07-22T12:19:32.309Z"
   },
   {
    "duration": 1267,
    "start_time": "2022-07-22T12:19:45.737Z"
   },
   {
    "duration": 4,
    "start_time": "2022-07-22T12:19:54.238Z"
   },
   {
    "duration": 3874,
    "start_time": "2022-07-22T12:20:10.746Z"
   },
   {
    "duration": 1240,
    "start_time": "2022-07-22T12:27:50.608Z"
   },
   {
    "duration": 1153,
    "start_time": "2022-07-22T12:28:11.941Z"
   },
   {
    "duration": 1127,
    "start_time": "2022-07-22T12:28:21.336Z"
   },
   {
    "duration": 777,
    "start_time": "2022-07-22T12:28:22.465Z"
   },
   {
    "duration": 112,
    "start_time": "2022-07-22T12:28:23.244Z"
   },
   {
    "duration": 114,
    "start_time": "2022-07-22T12:28:23.358Z"
   },
   {
    "duration": 125,
    "start_time": "2022-07-22T12:28:23.474Z"
   },
   {
    "duration": 7,
    "start_time": "2022-07-22T12:28:23.601Z"
   },
   {
    "duration": 16,
    "start_time": "2022-07-22T12:28:23.609Z"
   },
   {
    "duration": 34,
    "start_time": "2022-07-22T12:28:23.626Z"
   },
   {
    "duration": 481,
    "start_time": "2022-07-22T12:28:23.663Z"
   },
   {
    "duration": 537,
    "start_time": "2022-07-22T12:28:24.151Z"
   },
   {
    "duration": 1363,
    "start_time": "2022-07-22T12:28:24.689Z"
   },
   {
    "duration": 1042,
    "start_time": "2022-07-22T12:28:26.054Z"
   },
   {
    "duration": 100,
    "start_time": "2022-07-22T12:28:27.097Z"
   },
   {
    "duration": 2423,
    "start_time": "2022-07-22T12:28:27.199Z"
   },
   {
    "duration": 97,
    "start_time": "2022-07-22T12:28:29.624Z"
   },
   {
    "duration": 21138,
    "start_time": "2022-07-22T12:28:29.723Z"
   },
   {
    "duration": 108,
    "start_time": "2022-07-22T12:28:50.863Z"
   },
   {
    "duration": 5754,
    "start_time": "2022-07-22T12:28:50.973Z"
   },
   {
    "duration": 96,
    "start_time": "2022-07-22T12:28:56.728Z"
   },
   {
    "duration": 26,
    "start_time": "2022-07-22T12:28:56.826Z"
   },
   {
    "duration": 18,
    "start_time": "2022-07-22T12:28:56.853Z"
   },
   {
    "duration": 107,
    "start_time": "2022-07-22T12:28:56.872Z"
   },
   {
    "duration": 199,
    "start_time": "2022-07-22T12:28:56.980Z"
   },
   {
    "duration": 235,
    "start_time": "2022-07-22T12:28:57.180Z"
   },
   {
    "duration": 1260,
    "start_time": "2022-07-22T12:29:46.008Z"
   },
   {
    "duration": 1318,
    "start_time": "2022-07-22T12:30:29.866Z"
   },
   {
    "duration": 1843,
    "start_time": "2022-07-22T12:30:56.256Z"
   },
   {
    "duration": 1809,
    "start_time": "2022-07-22T12:33:35.495Z"
   },
   {
    "duration": 1143,
    "start_time": "2022-07-22T12:35:21.947Z"
   },
   {
    "duration": 810,
    "start_time": "2022-07-22T12:35:23.092Z"
   },
   {
    "duration": 131,
    "start_time": "2022-07-22T12:35:23.904Z"
   },
   {
    "duration": 130,
    "start_time": "2022-07-22T12:35:24.038Z"
   },
   {
    "duration": 113,
    "start_time": "2022-07-22T12:35:24.170Z"
   },
   {
    "duration": 5,
    "start_time": "2022-07-22T12:35:24.285Z"
   },
   {
    "duration": 11,
    "start_time": "2022-07-22T12:35:24.292Z"
   },
   {
    "duration": 31,
    "start_time": "2022-07-22T12:35:24.305Z"
   },
   {
    "duration": 508,
    "start_time": "2022-07-22T12:35:24.353Z"
   },
   {
    "duration": 555,
    "start_time": "2022-07-22T12:35:24.863Z"
   },
   {
    "duration": 1502,
    "start_time": "2022-07-22T12:35:25.419Z"
   },
   {
    "duration": 934,
    "start_time": "2022-07-22T12:35:26.923Z"
   },
   {
    "duration": 102,
    "start_time": "2022-07-22T12:35:27.859Z"
   },
   {
    "duration": 2380,
    "start_time": "2022-07-22T12:35:27.962Z"
   },
   {
    "duration": 100,
    "start_time": "2022-07-22T12:35:30.344Z"
   },
   {
    "duration": 21354,
    "start_time": "2022-07-22T12:35:30.446Z"
   },
   {
    "duration": 111,
    "start_time": "2022-07-22T12:35:51.802Z"
   },
   {
    "duration": 5510,
    "start_time": "2022-07-22T12:35:51.915Z"
   },
   {
    "duration": 100,
    "start_time": "2022-07-22T12:35:57.427Z"
   },
   {
    "duration": 29,
    "start_time": "2022-07-22T12:35:57.529Z"
   },
   {
    "duration": 20,
    "start_time": "2022-07-22T12:35:57.559Z"
   },
   {
    "duration": 100,
    "start_time": "2022-07-22T12:35:57.580Z"
   },
   {
    "duration": 194,
    "start_time": "2022-07-22T12:35:57.682Z"
   },
   {
    "duration": 232,
    "start_time": "2022-07-22T12:35:57.878Z"
   },
   {
    "duration": 1002,
    "start_time": "2022-07-22T12:36:50.770Z"
   },
   {
    "duration": 785,
    "start_time": "2022-07-22T12:36:51.774Z"
   },
   {
    "duration": 134,
    "start_time": "2022-07-22T12:36:52.561Z"
   },
   {
    "duration": 121,
    "start_time": "2022-07-22T12:36:52.697Z"
   },
   {
    "duration": 104,
    "start_time": "2022-07-22T12:36:52.820Z"
   },
   {
    "duration": 7,
    "start_time": "2022-07-22T12:36:52.926Z"
   },
   {
    "duration": 24,
    "start_time": "2022-07-22T12:36:52.935Z"
   },
   {
    "duration": 30,
    "start_time": "2022-07-22T12:36:52.961Z"
   },
   {
    "duration": 465,
    "start_time": "2022-07-22T12:36:52.993Z"
   },
   {
    "duration": 478,
    "start_time": "2022-07-22T12:36:53.460Z"
   },
   {
    "duration": 1398,
    "start_time": "2022-07-22T12:36:53.939Z"
   },
   {
    "duration": 1125,
    "start_time": "2022-07-22T12:36:55.339Z"
   },
   {
    "duration": 117,
    "start_time": "2022-07-22T12:36:56.465Z"
   },
   {
    "duration": 2313,
    "start_time": "2022-07-22T12:36:56.584Z"
   },
   {
    "duration": 101,
    "start_time": "2022-07-22T12:36:58.899Z"
   },
   {
    "duration": 20551,
    "start_time": "2022-07-22T12:36:59.001Z"
   },
   {
    "duration": 107,
    "start_time": "2022-07-22T12:37:19.553Z"
   },
   {
    "duration": 5660,
    "start_time": "2022-07-22T12:37:19.661Z"
   },
   {
    "duration": 130,
    "start_time": "2022-07-22T12:37:25.323Z"
   },
   {
    "duration": 20,
    "start_time": "2022-07-22T12:37:25.455Z"
   },
   {
    "duration": 22,
    "start_time": "2022-07-22T12:37:25.477Z"
   },
   {
    "duration": 127,
    "start_time": "2022-07-22T12:37:25.501Z"
   },
   {
    "duration": 203,
    "start_time": "2022-07-22T12:37:25.630Z"
   },
   {
    "duration": 278,
    "start_time": "2022-07-22T12:37:25.835Z"
   },
   {
    "duration": 31,
    "start_time": "2022-07-22T12:43:03.587Z"
   },
   {
    "duration": 1070,
    "start_time": "2022-07-23T09:58:19.189Z"
   },
   {
    "duration": 1217,
    "start_time": "2022-07-23T09:58:20.261Z"
   },
   {
    "duration": 130,
    "start_time": "2022-07-23T09:58:21.480Z"
   },
   {
    "duration": 154,
    "start_time": "2022-07-23T09:58:21.613Z"
   },
   {
    "duration": 109,
    "start_time": "2022-07-23T09:58:21.769Z"
   },
   {
    "duration": 7,
    "start_time": "2022-07-23T09:58:21.880Z"
   },
   {
    "duration": 18,
    "start_time": "2022-07-23T09:58:21.889Z"
   },
   {
    "duration": 34,
    "start_time": "2022-07-23T09:58:21.908Z"
   },
   {
    "duration": 490,
    "start_time": "2022-07-23T09:58:21.944Z"
   },
   {
    "duration": 588,
    "start_time": "2022-07-23T09:58:22.437Z"
   },
   {
    "duration": 1464,
    "start_time": "2022-07-23T09:58:23.027Z"
   },
   {
    "duration": 1056,
    "start_time": "2022-07-23T09:58:24.493Z"
   },
   {
    "duration": 135,
    "start_time": "2022-07-23T09:58:25.550Z"
   },
   {
    "duration": 2557,
    "start_time": "2022-07-23T09:58:25.687Z"
   },
   {
    "duration": 135,
    "start_time": "2022-07-23T09:58:28.246Z"
   },
   {
    "duration": 21792,
    "start_time": "2022-07-23T09:58:28.383Z"
   },
   {
    "duration": 134,
    "start_time": "2022-07-23T09:58:50.177Z"
   },
   {
    "duration": 5628,
    "start_time": "2022-07-23T09:58:50.313Z"
   },
   {
    "duration": 132,
    "start_time": "2022-07-23T09:58:55.943Z"
   },
   {
    "duration": 28,
    "start_time": "2022-07-23T09:58:56.076Z"
   },
   {
    "duration": 25,
    "start_time": "2022-07-23T09:58:56.106Z"
   },
   {
    "duration": 146,
    "start_time": "2022-07-23T09:58:56.132Z"
   },
   {
    "duration": 20,
    "start_time": "2022-07-23T09:58:56.280Z"
   },
   {
    "duration": 54,
    "start_time": "2022-07-23T09:58:56.302Z"
   },
   {
    "duration": 0,
    "start_time": "2022-07-23T09:58:56.358Z"
   },
   {
    "duration": 0,
    "start_time": "2022-07-23T09:58:56.361Z"
   },
   {
    "duration": 1108,
    "start_time": "2022-07-23T09:59:28.481Z"
   },
   {
    "duration": 846,
    "start_time": "2022-07-23T09:59:29.591Z"
   },
   {
    "duration": 136,
    "start_time": "2022-07-23T09:59:30.439Z"
   },
   {
    "duration": 149,
    "start_time": "2022-07-23T09:59:30.577Z"
   },
   {
    "duration": 161,
    "start_time": "2022-07-23T09:59:30.728Z"
   },
   {
    "duration": 6,
    "start_time": "2022-07-23T09:59:30.890Z"
   },
   {
    "duration": 11,
    "start_time": "2022-07-23T09:59:30.897Z"
   },
   {
    "duration": 35,
    "start_time": "2022-07-23T09:59:30.910Z"
   },
   {
    "duration": 536,
    "start_time": "2022-07-23T09:59:30.947Z"
   },
   {
    "duration": 529,
    "start_time": "2022-07-23T09:59:31.486Z"
   },
   {
    "duration": 3,
    "start_time": "2022-07-23T09:59:32.017Z"
   },
   {
    "duration": 1313,
    "start_time": "2022-07-23T09:59:32.021Z"
   },
   {
    "duration": 164,
    "start_time": "2022-07-23T09:59:33.336Z"
   },
   {
    "duration": 2959,
    "start_time": "2022-07-23T09:59:33.502Z"
   },
   {
    "duration": 157,
    "start_time": "2022-07-23T09:59:36.464Z"
   },
   {
    "duration": 22504,
    "start_time": "2022-07-23T09:59:36.623Z"
   },
   {
    "duration": 135,
    "start_time": "2022-07-23T09:59:59.129Z"
   },
   {
    "duration": 5592,
    "start_time": "2022-07-23T09:59:59.266Z"
   },
   {
    "duration": 129,
    "start_time": "2022-07-23T10:00:04.859Z"
   },
   {
    "duration": 19,
    "start_time": "2022-07-23T10:00:04.990Z"
   },
   {
    "duration": 29,
    "start_time": "2022-07-23T10:00:05.010Z"
   },
   {
    "duration": 141,
    "start_time": "2022-07-23T10:00:05.040Z"
   },
   {
    "duration": 19,
    "start_time": "2022-07-23T10:00:05.183Z"
   },
   {
    "duration": 53,
    "start_time": "2022-07-23T10:00:05.204Z"
   },
   {
    "duration": 0,
    "start_time": "2022-07-23T10:00:05.258Z"
   },
   {
    "duration": 0,
    "start_time": "2022-07-23T10:00:05.260Z"
   },
   {
    "duration": 899,
    "start_time": "2022-07-23T10:04:09.462Z"
   },
   {
    "duration": 22,
    "start_time": "2022-07-23T10:04:25.986Z"
   },
   {
    "duration": 27,
    "start_time": "2022-07-23T10:06:14.814Z"
   },
   {
    "duration": 25,
    "start_time": "2022-07-23T10:06:58.404Z"
   },
   {
    "duration": 402,
    "start_time": "2022-07-23T10:07:45.754Z"
   },
   {
    "duration": 468,
    "start_time": "2022-07-23T10:09:00.337Z"
   },
   {
    "duration": 471,
    "start_time": "2022-07-23T10:10:31.054Z"
   },
   {
    "duration": 510,
    "start_time": "2022-07-23T10:11:00.031Z"
   },
   {
    "duration": 560,
    "start_time": "2022-07-23T10:12:58.899Z"
   },
   {
    "duration": 91,
    "start_time": "2022-07-23T10:13:55.132Z"
   },
   {
    "duration": 590,
    "start_time": "2022-07-23T10:14:11.832Z"
   },
   {
    "duration": 10,
    "start_time": "2022-07-23T10:14:34.885Z"
   },
   {
    "duration": 52,
    "start_time": "2022-07-23T10:14:49.800Z"
   },
   {
    "duration": 101,
    "start_time": "2022-07-23T10:14:57.010Z"
   },
   {
    "duration": 19,
    "start_time": "2022-07-23T10:15:20.970Z"
   },
   {
    "duration": 1018,
    "start_time": "2022-07-23T10:16:43.524Z"
   },
   {
    "duration": 809,
    "start_time": "2022-07-23T10:16:44.544Z"
   },
   {
    "duration": 146,
    "start_time": "2022-07-23T10:16:45.355Z"
   },
   {
    "duration": 134,
    "start_time": "2022-07-23T10:16:45.504Z"
   },
   {
    "duration": 100,
    "start_time": "2022-07-23T10:16:45.640Z"
   },
   {
    "duration": 6,
    "start_time": "2022-07-23T10:16:45.742Z"
   },
   {
    "duration": 24,
    "start_time": "2022-07-23T10:16:45.750Z"
   },
   {
    "duration": 33,
    "start_time": "2022-07-23T10:16:45.776Z"
   },
   {
    "duration": 491,
    "start_time": "2022-07-23T10:16:45.811Z"
   },
   {
    "duration": 508,
    "start_time": "2022-07-23T10:16:46.304Z"
   },
   {
    "duration": 2,
    "start_time": "2022-07-23T10:16:46.813Z"
   },
   {
    "duration": 1066,
    "start_time": "2022-07-23T10:16:46.817Z"
   },
   {
    "duration": 126,
    "start_time": "2022-07-23T10:16:47.884Z"
   },
   {
    "duration": 2526,
    "start_time": "2022-07-23T10:16:48.011Z"
   },
   {
    "duration": 136,
    "start_time": "2022-07-23T10:16:50.538Z"
   },
   {
    "duration": 21715,
    "start_time": "2022-07-23T10:16:50.676Z"
   },
   {
    "duration": 133,
    "start_time": "2022-07-23T10:17:12.392Z"
   },
   {
    "duration": 5422,
    "start_time": "2022-07-23T10:17:12.527Z"
   },
   {
    "duration": 123,
    "start_time": "2022-07-23T10:17:17.950Z"
   },
   {
    "duration": 19,
    "start_time": "2022-07-23T10:17:18.075Z"
   },
   {
    "duration": 27,
    "start_time": "2022-07-23T10:17:18.095Z"
   },
   {
    "duration": 144,
    "start_time": "2022-07-23T10:17:18.124Z"
   },
   {
    "duration": 20,
    "start_time": "2022-07-23T10:17:18.269Z"
   },
   {
    "duration": 122,
    "start_time": "2022-07-23T10:17:18.291Z"
   },
   {
    "duration": 103,
    "start_time": "2022-07-23T10:17:18.415Z"
   },
   {
    "duration": 0,
    "start_time": "2022-07-23T10:17:18.520Z"
   },
   {
    "duration": 0,
    "start_time": "2022-07-23T10:17:18.521Z"
   },
   {
    "duration": 0,
    "start_time": "2022-07-23T10:17:18.522Z"
   },
   {
    "duration": 20,
    "start_time": "2022-07-23T10:18:56.033Z"
   },
   {
    "duration": 19,
    "start_time": "2022-07-23T10:23:47.440Z"
   },
   {
    "duration": 73,
    "start_time": "2022-07-23T10:24:31.125Z"
   },
   {
    "duration": 127,
    "start_time": "2022-07-23T10:24:52.327Z"
   },
   {
    "duration": 19,
    "start_time": "2022-07-23T10:25:20.331Z"
   },
   {
    "duration": 169,
    "start_time": "2022-07-23T10:26:10.230Z"
   },
   {
    "duration": 87,
    "start_time": "2022-07-23T10:26:24.712Z"
   },
   {
    "duration": 32,
    "start_time": "2022-07-23T10:27:31.327Z"
   },
   {
    "duration": 14,
    "start_time": "2022-07-23T10:31:08.072Z"
   },
   {
    "duration": 45,
    "start_time": "2022-07-23T10:32:16.428Z"
   },
   {
    "duration": 18,
    "start_time": "2022-07-23T10:34:03.087Z"
   },
   {
    "duration": 1449,
    "start_time": "2022-07-23T10:37:13.031Z"
   },
   {
    "duration": 13,
    "start_time": "2022-07-23T10:39:05.436Z"
   },
   {
    "duration": 1036,
    "start_time": "2022-07-23T10:39:17.688Z"
   },
   {
    "duration": 20,
    "start_time": "2022-07-23T10:39:43.648Z"
   },
   {
    "duration": 90,
    "start_time": "2022-07-23T10:40:46.669Z"
   },
   {
    "duration": 1078,
    "start_time": "2022-07-23T10:41:23.993Z"
   },
   {
    "duration": 13,
    "start_time": "2022-07-23T10:41:37.263Z"
   },
   {
    "duration": 58,
    "start_time": "2022-07-23T10:45:52.703Z"
   },
   {
    "duration": 1102,
    "start_time": "2022-07-23T10:47:01.309Z"
   },
   {
    "duration": 859,
    "start_time": "2022-07-23T10:47:02.413Z"
   },
   {
    "duration": 155,
    "start_time": "2022-07-23T10:47:03.274Z"
   },
   {
    "duration": 141,
    "start_time": "2022-07-23T10:47:03.432Z"
   },
   {
    "duration": 100,
    "start_time": "2022-07-23T10:47:03.575Z"
   },
   {
    "duration": 6,
    "start_time": "2022-07-23T10:47:03.676Z"
   },
   {
    "duration": 11,
    "start_time": "2022-07-23T10:47:03.683Z"
   },
   {
    "duration": 29,
    "start_time": "2022-07-23T10:47:03.695Z"
   },
   {
    "duration": 484,
    "start_time": "2022-07-23T10:47:03.725Z"
   },
   {
    "duration": 519,
    "start_time": "2022-07-23T10:47:04.211Z"
   },
   {
    "duration": 2,
    "start_time": "2022-07-23T10:47:04.732Z"
   },
   {
    "duration": 103,
    "start_time": "2022-07-23T10:47:04.736Z"
   },
   {
    "duration": 0,
    "start_time": "2022-07-23T10:47:04.841Z"
   },
   {
    "duration": 0,
    "start_time": "2022-07-23T10:47:04.842Z"
   },
   {
    "duration": 0,
    "start_time": "2022-07-23T10:47:04.843Z"
   },
   {
    "duration": 0,
    "start_time": "2022-07-23T10:47:04.844Z"
   },
   {
    "duration": 0,
    "start_time": "2022-07-23T10:47:04.845Z"
   },
   {
    "duration": 0,
    "start_time": "2022-07-23T10:47:04.846Z"
   },
   {
    "duration": 0,
    "start_time": "2022-07-23T10:47:04.863Z"
   },
   {
    "duration": 0,
    "start_time": "2022-07-23T10:47:04.864Z"
   },
   {
    "duration": 0,
    "start_time": "2022-07-23T10:47:04.866Z"
   },
   {
    "duration": 0,
    "start_time": "2022-07-23T10:47:04.867Z"
   },
   {
    "duration": 0,
    "start_time": "2022-07-23T10:47:04.868Z"
   },
   {
    "duration": 0,
    "start_time": "2022-07-23T10:47:04.869Z"
   },
   {
    "duration": 0,
    "start_time": "2022-07-23T10:47:04.870Z"
   },
   {
    "duration": 0,
    "start_time": "2022-07-23T10:47:04.871Z"
   },
   {
    "duration": 0,
    "start_time": "2022-07-23T10:47:04.873Z"
   },
   {
    "duration": 0,
    "start_time": "2022-07-23T10:47:04.874Z"
   },
   {
    "duration": 0,
    "start_time": "2022-07-23T10:47:04.874Z"
   },
   {
    "duration": 0,
    "start_time": "2022-07-23T10:47:04.875Z"
   },
   {
    "duration": 11,
    "start_time": "2022-07-23T10:47:53.810Z"
   },
   {
    "duration": 1140,
    "start_time": "2022-07-23T10:48:14.645Z"
   },
   {
    "duration": 803,
    "start_time": "2022-07-23T10:50:10.979Z"
   },
   {
    "duration": 1037,
    "start_time": "2022-07-23T10:50:43.286Z"
   },
   {
    "duration": 818,
    "start_time": "2022-07-23T10:50:44.324Z"
   },
   {
    "duration": 132,
    "start_time": "2022-07-23T10:50:45.144Z"
   },
   {
    "duration": 149,
    "start_time": "2022-07-23T10:50:45.279Z"
   },
   {
    "duration": 134,
    "start_time": "2022-07-23T10:50:45.430Z"
   },
   {
    "duration": 5,
    "start_time": "2022-07-23T10:50:45.566Z"
   },
   {
    "duration": 11,
    "start_time": "2022-07-23T10:50:45.573Z"
   },
   {
    "duration": 32,
    "start_time": "2022-07-23T10:50:45.586Z"
   },
   {
    "duration": 486,
    "start_time": "2022-07-23T10:50:45.619Z"
   },
   {
    "duration": 514,
    "start_time": "2022-07-23T10:50:46.108Z"
   },
   {
    "duration": 2,
    "start_time": "2022-07-23T10:50:46.625Z"
   },
   {
    "duration": 921,
    "start_time": "2022-07-23T10:50:46.629Z"
   },
   {
    "duration": 0,
    "start_time": "2022-07-23T10:50:47.551Z"
   },
   {
    "duration": 0,
    "start_time": "2022-07-23T10:50:47.553Z"
   },
   {
    "duration": 0,
    "start_time": "2022-07-23T10:50:47.554Z"
   },
   {
    "duration": 0,
    "start_time": "2022-07-23T10:50:47.556Z"
   },
   {
    "duration": 0,
    "start_time": "2022-07-23T10:50:47.558Z"
   },
   {
    "duration": 0,
    "start_time": "2022-07-23T10:50:47.559Z"
   },
   {
    "duration": 0,
    "start_time": "2022-07-23T10:50:47.560Z"
   },
   {
    "duration": 0,
    "start_time": "2022-07-23T10:50:47.562Z"
   },
   {
    "duration": 0,
    "start_time": "2022-07-23T10:50:47.564Z"
   },
   {
    "duration": 0,
    "start_time": "2022-07-23T10:50:47.565Z"
   },
   {
    "duration": 0,
    "start_time": "2022-07-23T10:50:47.566Z"
   },
   {
    "duration": 0,
    "start_time": "2022-07-23T10:50:47.568Z"
   },
   {
    "duration": 1,
    "start_time": "2022-07-23T10:50:47.569Z"
   },
   {
    "duration": 0,
    "start_time": "2022-07-23T10:50:47.571Z"
   },
   {
    "duration": 0,
    "start_time": "2022-07-23T10:50:47.573Z"
   },
   {
    "duration": 0,
    "start_time": "2022-07-23T10:50:47.574Z"
   },
   {
    "duration": 0,
    "start_time": "2022-07-23T10:50:47.575Z"
   },
   {
    "duration": 0,
    "start_time": "2022-07-23T10:50:47.577Z"
   },
   {
    "duration": 0,
    "start_time": "2022-07-23T10:50:47.578Z"
   },
   {
    "duration": 658,
    "start_time": "2022-07-23T10:51:29.582Z"
   },
   {
    "duration": 1184,
    "start_time": "2022-07-23T10:53:12.159Z"
   },
   {
    "duration": 1059,
    "start_time": "2022-07-23T10:57:04.812Z"
   },
   {
    "duration": 856,
    "start_time": "2022-07-23T10:57:05.873Z"
   },
   {
    "duration": 144,
    "start_time": "2022-07-23T10:57:06.731Z"
   },
   {
    "duration": 143,
    "start_time": "2022-07-23T10:57:06.878Z"
   },
   {
    "duration": 105,
    "start_time": "2022-07-23T10:57:07.022Z"
   },
   {
    "duration": 5,
    "start_time": "2022-07-23T10:57:07.129Z"
   },
   {
    "duration": 10,
    "start_time": "2022-07-23T10:57:07.135Z"
   },
   {
    "duration": 53,
    "start_time": "2022-07-23T10:57:07.147Z"
   },
   {
    "duration": 512,
    "start_time": "2022-07-23T10:57:07.201Z"
   },
   {
    "duration": 519,
    "start_time": "2022-07-23T10:57:07.716Z"
   },
   {
    "duration": 3,
    "start_time": "2022-07-23T10:57:08.236Z"
   },
   {
    "duration": 1173,
    "start_time": "2022-07-23T10:57:08.240Z"
   },
   {
    "duration": 149,
    "start_time": "2022-07-23T10:57:09.416Z"
   },
   {
    "duration": 2707,
    "start_time": "2022-07-23T10:57:09.568Z"
   },
   {
    "duration": 141,
    "start_time": "2022-07-23T10:57:12.278Z"
   },
   {
    "duration": 22387,
    "start_time": "2022-07-23T10:57:12.421Z"
   },
   {
    "duration": 0,
    "start_time": "2022-07-23T10:57:34.809Z"
   },
   {
    "duration": 0,
    "start_time": "2022-07-23T10:57:34.811Z"
   },
   {
    "duration": 0,
    "start_time": "2022-07-23T10:57:34.811Z"
   },
   {
    "duration": 0,
    "start_time": "2022-07-23T10:57:34.812Z"
   },
   {
    "duration": 0,
    "start_time": "2022-07-23T10:57:34.813Z"
   },
   {
    "duration": 0,
    "start_time": "2022-07-23T10:57:34.814Z"
   },
   {
    "duration": 0,
    "start_time": "2022-07-23T10:57:34.815Z"
   },
   {
    "duration": 0,
    "start_time": "2022-07-23T10:57:34.816Z"
   },
   {
    "duration": 0,
    "start_time": "2022-07-23T10:57:34.817Z"
   },
   {
    "duration": 0,
    "start_time": "2022-07-23T10:57:34.818Z"
   },
   {
    "duration": 0,
    "start_time": "2022-07-23T10:57:34.819Z"
   },
   {
    "duration": 0,
    "start_time": "2022-07-23T10:57:34.820Z"
   },
   {
    "duration": 0,
    "start_time": "2022-07-23T10:57:34.821Z"
   },
   {
    "duration": 0,
    "start_time": "2022-07-23T10:57:34.822Z"
   },
   {
    "duration": 482,
    "start_time": "2022-07-23T11:00:42.577Z"
   },
   {
    "duration": 634,
    "start_time": "2022-07-23T11:02:12.105Z"
   },
   {
    "duration": 14,
    "start_time": "2022-07-23T11:03:09.081Z"
   },
   {
    "duration": 97,
    "start_time": "2022-07-23T11:07:40.792Z"
   },
   {
    "duration": 633,
    "start_time": "2022-07-23T11:07:51.189Z"
   },
   {
    "duration": 15,
    "start_time": "2022-07-23T11:08:06.879Z"
   },
   {
    "duration": 13,
    "start_time": "2022-07-23T11:08:13.486Z"
   },
   {
    "duration": 753,
    "start_time": "2022-07-23T11:08:27.693Z"
   },
   {
    "duration": 1110,
    "start_time": "2022-07-23T11:09:23.646Z"
   },
   {
    "duration": 960,
    "start_time": "2022-07-23T11:09:24.758Z"
   },
   {
    "duration": 150,
    "start_time": "2022-07-23T11:09:25.719Z"
   },
   {
    "duration": 150,
    "start_time": "2022-07-23T11:09:25.873Z"
   },
   {
    "duration": 153,
    "start_time": "2022-07-23T11:09:26.025Z"
   },
   {
    "duration": 9,
    "start_time": "2022-07-23T11:09:26.180Z"
   },
   {
    "duration": 9,
    "start_time": "2022-07-23T11:09:26.190Z"
   },
   {
    "duration": 30,
    "start_time": "2022-07-23T11:09:26.201Z"
   },
   {
    "duration": 597,
    "start_time": "2022-07-23T11:09:26.233Z"
   },
   {
    "duration": 613,
    "start_time": "2022-07-23T11:09:26.832Z"
   },
   {
    "duration": 3,
    "start_time": "2022-07-23T11:09:27.447Z"
   },
   {
    "duration": 666,
    "start_time": "2022-07-23T11:09:27.452Z"
   },
   {
    "duration": 1096,
    "start_time": "2022-07-23T11:09:28.120Z"
   },
   {
    "duration": 137,
    "start_time": "2022-07-23T11:09:29.218Z"
   },
   {
    "duration": 2707,
    "start_time": "2022-07-23T11:09:29.363Z"
   },
   {
    "duration": 134,
    "start_time": "2022-07-23T11:09:32.072Z"
   },
   {
    "duration": 25094,
    "start_time": "2022-07-23T11:09:32.208Z"
   },
   {
    "duration": 142,
    "start_time": "2022-07-23T11:09:57.304Z"
   },
   {
    "duration": 6999,
    "start_time": "2022-07-23T11:09:57.448Z"
   },
   {
    "duration": 141,
    "start_time": "2022-07-23T11:10:04.448Z"
   },
   {
    "duration": 19,
    "start_time": "2022-07-23T11:10:04.590Z"
   },
   {
    "duration": 28,
    "start_time": "2022-07-23T11:10:04.611Z"
   },
   {
    "duration": 147,
    "start_time": "2022-07-23T11:10:04.640Z"
   },
   {
    "duration": 23,
    "start_time": "2022-07-23T11:10:04.789Z"
   },
   {
    "duration": 404,
    "start_time": "2022-07-23T11:10:04.813Z"
   },
   {
    "duration": 100,
    "start_time": "2022-07-23T11:10:05.218Z"
   },
   {
    "duration": 86,
    "start_time": "2022-07-23T11:10:05.320Z"
   },
   {
    "duration": 98,
    "start_time": "2022-07-23T11:10:05.410Z"
   },
   {
    "duration": 46,
    "start_time": "2022-07-23T11:10:05.510Z"
   },
   {
    "duration": 0,
    "start_time": "2022-07-23T11:10:05.557Z"
   },
   {
    "duration": 0,
    "start_time": "2022-07-23T11:10:05.558Z"
   },
   {
    "duration": 1152,
    "start_time": "2022-07-23T11:10:09.454Z"
   },
   {
    "duration": 853,
    "start_time": "2022-07-23T11:10:10.608Z"
   },
   {
    "duration": 169,
    "start_time": "2022-07-23T11:10:11.462Z"
   },
   {
    "duration": 170,
    "start_time": "2022-07-23T11:10:11.633Z"
   },
   {
    "duration": 112,
    "start_time": "2022-07-23T11:10:11.804Z"
   },
   {
    "duration": 5,
    "start_time": "2022-07-23T11:10:11.917Z"
   },
   {
    "duration": 10,
    "start_time": "2022-07-23T11:10:11.924Z"
   },
   {
    "duration": 54,
    "start_time": "2022-07-23T11:10:11.936Z"
   },
   {
    "duration": 511,
    "start_time": "2022-07-23T11:10:11.992Z"
   },
   {
    "duration": 584,
    "start_time": "2022-07-23T11:10:12.505Z"
   },
   {
    "duration": 4,
    "start_time": "2022-07-23T11:10:13.091Z"
   },
   {
    "duration": 8,
    "start_time": "2022-07-23T11:10:13.097Z"
   },
   {
    "duration": 1143,
    "start_time": "2022-07-23T11:10:13.107Z"
   },
   {
    "duration": 133,
    "start_time": "2022-07-23T11:10:14.251Z"
   },
   {
    "duration": 2762,
    "start_time": "2022-07-23T11:10:14.387Z"
   },
   {
    "duration": 150,
    "start_time": "2022-07-23T11:10:17.151Z"
   },
   {
    "duration": 22692,
    "start_time": "2022-07-23T11:10:17.303Z"
   },
   {
    "duration": 135,
    "start_time": "2022-07-23T11:10:39.996Z"
   },
   {
    "duration": 5853,
    "start_time": "2022-07-23T11:10:40.133Z"
   },
   {
    "duration": 147,
    "start_time": "2022-07-23T11:10:45.988Z"
   },
   {
    "duration": 30,
    "start_time": "2022-07-23T11:10:46.137Z"
   },
   {
    "duration": 27,
    "start_time": "2022-07-23T11:10:46.169Z"
   },
   {
    "duration": 156,
    "start_time": "2022-07-23T11:10:46.198Z"
   },
   {
    "duration": 39,
    "start_time": "2022-07-23T11:10:46.356Z"
   },
   {
    "duration": 288,
    "start_time": "2022-07-23T11:10:46.396Z"
   },
   {
    "duration": 103,
    "start_time": "2022-07-23T11:10:46.686Z"
   },
   {
    "duration": 59,
    "start_time": "2022-07-23T11:10:46.791Z"
   },
   {
    "duration": 128,
    "start_time": "2022-07-23T11:10:46.853Z"
   },
   {
    "duration": 134,
    "start_time": "2022-07-23T11:10:46.983Z"
   },
   {
    "duration": 0,
    "start_time": "2022-07-23T11:10:47.119Z"
   },
   {
    "duration": 0,
    "start_time": "2022-07-23T11:10:47.120Z"
   },
   {
    "duration": 1507,
    "start_time": "2022-07-23T11:12:39.994Z"
   },
   {
    "duration": 11,
    "start_time": "2022-07-23T11:15:36.211Z"
   },
   {
    "duration": 12,
    "start_time": "2022-07-23T11:15:55.141Z"
   },
   {
    "duration": 1428,
    "start_time": "2022-07-23T11:16:06.997Z"
   },
   {
    "duration": 3,
    "start_time": "2022-07-23T11:17:38.739Z"
   },
   {
    "duration": 1108,
    "start_time": "2022-07-23T11:17:44.613Z"
   },
   {
    "duration": 748,
    "start_time": "2022-07-23T11:18:02.338Z"
   },
   {
    "duration": 111,
    "start_time": "2022-07-23T11:21:45.950Z"
   },
   {
    "duration": 14,
    "start_time": "2022-07-23T11:22:46.675Z"
   },
   {
    "duration": 17,
    "start_time": "2022-07-23T11:22:56.861Z"
   },
   {
    "duration": 12,
    "start_time": "2022-07-23T11:23:10.505Z"
   },
   {
    "duration": 55,
    "start_time": "2022-07-23T11:26:30.590Z"
   },
   {
    "duration": 104,
    "start_time": "2022-07-23T11:26:44.651Z"
   },
   {
    "duration": 22,
    "start_time": "2022-07-23T11:27:17.186Z"
   },
   {
    "duration": 23,
    "start_time": "2022-07-23T11:28:50.346Z"
   },
   {
    "duration": 983,
    "start_time": "2022-07-23T11:29:21.074Z"
   },
   {
    "duration": 1079,
    "start_time": "2022-07-23T11:36:27.067Z"
   },
   {
    "duration": 17,
    "start_time": "2022-07-23T11:36:53.114Z"
   },
   {
    "duration": 973,
    "start_time": "2022-07-23T11:55:18.010Z"
   },
   {
    "duration": 23,
    "start_time": "2022-07-23T11:55:50.234Z"
   },
   {
    "duration": 101,
    "start_time": "2022-07-23T11:56:42.030Z"
   },
   {
    "duration": 23,
    "start_time": "2022-07-23T11:56:50.435Z"
   },
   {
    "duration": 180,
    "start_time": "2022-07-23T11:58:53.780Z"
   },
   {
    "duration": 98,
    "start_time": "2022-07-23T11:58:57.831Z"
   },
   {
    "duration": 18,
    "start_time": "2022-07-23T11:59:29.195Z"
   },
   {
    "duration": 145,
    "start_time": "2022-07-23T11:59:37.434Z"
   },
   {
    "duration": 61,
    "start_time": "2022-07-23T12:02:23.476Z"
   },
   {
    "duration": 14,
    "start_time": "2022-07-23T12:02:30.047Z"
   },
   {
    "duration": 1060,
    "start_time": "2022-07-23T12:02:43.255Z"
   },
   {
    "duration": 811,
    "start_time": "2022-07-23T12:02:44.317Z"
   },
   {
    "duration": 137,
    "start_time": "2022-07-23T12:02:45.130Z"
   },
   {
    "duration": 134,
    "start_time": "2022-07-23T12:02:45.269Z"
   },
   {
    "duration": 107,
    "start_time": "2022-07-23T12:02:45.405Z"
   },
   {
    "duration": 6,
    "start_time": "2022-07-23T12:02:45.513Z"
   },
   {
    "duration": 11,
    "start_time": "2022-07-23T12:02:45.520Z"
   },
   {
    "duration": 47,
    "start_time": "2022-07-23T12:02:45.533Z"
   },
   {
    "duration": 478,
    "start_time": "2022-07-23T12:02:45.581Z"
   },
   {
    "duration": 514,
    "start_time": "2022-07-23T12:02:46.063Z"
   },
   {
    "duration": 2,
    "start_time": "2022-07-23T12:02:46.579Z"
   },
   {
    "duration": 6,
    "start_time": "2022-07-23T12:02:46.582Z"
   },
   {
    "duration": 6,
    "start_time": "2022-07-23T12:02:46.590Z"
   },
   {
    "duration": 1114,
    "start_time": "2022-07-23T12:02:46.597Z"
   },
   {
    "duration": 125,
    "start_time": "2022-07-23T12:02:47.713Z"
   },
   {
    "duration": 2410,
    "start_time": "2022-07-23T12:02:47.840Z"
   },
   {
    "duration": 142,
    "start_time": "2022-07-23T12:02:50.251Z"
   },
   {
    "duration": 21789,
    "start_time": "2022-07-23T12:02:50.394Z"
   },
   {
    "duration": 126,
    "start_time": "2022-07-23T12:03:12.185Z"
   },
   {
    "duration": 5568,
    "start_time": "2022-07-23T12:03:12.312Z"
   },
   {
    "duration": 145,
    "start_time": "2022-07-23T12:03:17.882Z"
   },
   {
    "duration": 37,
    "start_time": "2022-07-23T12:03:18.029Z"
   },
   {
    "duration": 25,
    "start_time": "2022-07-23T12:03:18.068Z"
   },
   {
    "duration": 150,
    "start_time": "2022-07-23T12:03:18.095Z"
   },
   {
    "duration": 33,
    "start_time": "2022-07-23T12:03:18.246Z"
   },
   {
    "duration": 273,
    "start_time": "2022-07-23T12:03:18.280Z"
   },
   {
    "duration": 95,
    "start_time": "2022-07-23T12:03:18.555Z"
   },
   {
    "duration": 177,
    "start_time": "2022-07-23T12:03:18.653Z"
   },
   {
    "duration": 157,
    "start_time": "2022-07-23T12:03:18.832Z"
   },
   {
    "duration": 133,
    "start_time": "2022-07-23T12:03:18.991Z"
   },
   {
    "duration": 261,
    "start_time": "2022-07-23T12:03:19.126Z"
   },
   {
    "duration": 134,
    "start_time": "2022-07-23T12:04:00.933Z"
   },
   {
    "duration": 31,
    "start_time": "2022-07-23T12:06:24.334Z"
   },
   {
    "duration": 11,
    "start_time": "2022-07-23T12:07:04.398Z"
   },
   {
    "duration": 51,
    "start_time": "2022-07-23T12:14:11.545Z"
   },
   {
    "duration": 9,
    "start_time": "2022-07-23T12:14:47.037Z"
   },
   {
    "duration": 9,
    "start_time": "2022-07-23T12:14:52.828Z"
   },
   {
    "duration": 880,
    "start_time": "2022-07-23T12:15:42.376Z"
   },
   {
    "duration": 20,
    "start_time": "2022-07-23T12:27:48.478Z"
   },
   {
    "duration": 355,
    "start_time": "2022-07-23T12:29:45.982Z"
   },
   {
    "duration": 116,
    "start_time": "2022-07-23T12:31:42.041Z"
   },
   {
    "duration": 93,
    "start_time": "2022-07-23T12:31:51.736Z"
   },
   {
    "duration": 223,
    "start_time": "2022-07-23T12:32:08.940Z"
   },
   {
    "duration": 325,
    "start_time": "2022-07-23T12:33:12.162Z"
   },
   {
    "duration": 101,
    "start_time": "2022-07-23T12:34:33.244Z"
   },
   {
    "duration": 43,
    "start_time": "2022-07-23T12:35:26.437Z"
   },
   {
    "duration": 165,
    "start_time": "2022-07-23T12:35:36.732Z"
   },
   {
    "duration": 28,
    "start_time": "2022-07-23T12:35:49.676Z"
   },
   {
    "duration": 1479,
    "start_time": "2022-07-23T12:35:57.188Z"
   },
   {
    "duration": 976,
    "start_time": "2022-07-23T12:35:58.675Z"
   },
   {
    "duration": 171,
    "start_time": "2022-07-23T12:35:59.653Z"
   },
   {
    "duration": 173,
    "start_time": "2022-07-23T12:35:59.826Z"
   },
   {
    "duration": 123,
    "start_time": "2022-07-23T12:36:00.001Z"
   },
   {
    "duration": 5,
    "start_time": "2022-07-23T12:36:00.125Z"
   },
   {
    "duration": 19,
    "start_time": "2022-07-23T12:36:00.131Z"
   },
   {
    "duration": 57,
    "start_time": "2022-07-23T12:36:00.152Z"
   },
   {
    "duration": 577,
    "start_time": "2022-07-23T12:36:00.210Z"
   },
   {
    "duration": 601,
    "start_time": "2022-07-23T12:36:00.793Z"
   },
   {
    "duration": 3,
    "start_time": "2022-07-23T12:36:01.396Z"
   },
   {
    "duration": 26,
    "start_time": "2022-07-23T12:36:01.401Z"
   },
   {
    "duration": 29,
    "start_time": "2022-07-23T12:36:01.430Z"
   },
   {
    "duration": 1301,
    "start_time": "2022-07-23T12:36:01.461Z"
   },
   {
    "duration": 172,
    "start_time": "2022-07-23T12:36:02.771Z"
   },
   {
    "duration": 2867,
    "start_time": "2022-07-23T12:36:02.945Z"
   },
   {
    "duration": 126,
    "start_time": "2022-07-23T12:36:05.814Z"
   },
   {
    "duration": 26130,
    "start_time": "2022-07-23T12:36:05.942Z"
   },
   {
    "duration": 151,
    "start_time": "2022-07-23T12:36:32.077Z"
   },
   {
    "duration": 6710,
    "start_time": "2022-07-23T12:36:32.230Z"
   },
   {
    "duration": 165,
    "start_time": "2022-07-23T12:36:38.942Z"
   },
   {
    "duration": 20,
    "start_time": "2022-07-23T12:36:39.109Z"
   },
   {
    "duration": 45,
    "start_time": "2022-07-23T12:36:39.130Z"
   },
   {
    "duration": 145,
    "start_time": "2022-07-23T12:36:39.176Z"
   },
   {
    "duration": 20,
    "start_time": "2022-07-23T12:36:39.323Z"
   },
   {
    "duration": 304,
    "start_time": "2022-07-23T12:36:39.345Z"
   },
   {
    "duration": 113,
    "start_time": "2022-07-23T12:36:39.651Z"
   },
   {
    "duration": 206,
    "start_time": "2022-07-23T12:36:39.769Z"
   },
   {
    "duration": 217,
    "start_time": "2022-07-23T12:36:39.977Z"
   },
   {
    "duration": 155,
    "start_time": "2022-07-23T12:36:40.196Z"
   },
   {
    "duration": 56,
    "start_time": "2022-07-23T12:36:40.353Z"
   },
   {
    "duration": 139,
    "start_time": "2022-07-23T12:36:40.411Z"
   },
   {
    "duration": 197,
    "start_time": "2022-07-23T12:36:40.552Z"
   },
   {
    "duration": 138,
    "start_time": "2022-07-23T12:36:40.752Z"
   },
   {
    "duration": 300,
    "start_time": "2022-07-23T12:36:40.893Z"
   },
   {
    "duration": 23,
    "start_time": "2022-07-23T12:38:04.135Z"
   },
   {
    "duration": 1605,
    "start_time": "2022-07-23T12:40:18.832Z"
   },
   {
    "duration": 981,
    "start_time": "2022-07-23T12:40:31.981Z"
   },
   {
    "duration": 1437,
    "start_time": "2022-07-23T12:40:54.042Z"
   },
   {
    "duration": 922,
    "start_time": "2022-07-23T12:40:55.482Z"
   },
   {
    "duration": 158,
    "start_time": "2022-07-23T12:40:56.407Z"
   },
   {
    "duration": 194,
    "start_time": "2022-07-23T12:40:56.567Z"
   },
   {
    "duration": 126,
    "start_time": "2022-07-23T12:40:56.763Z"
   },
   {
    "duration": 7,
    "start_time": "2022-07-23T12:40:56.891Z"
   },
   {
    "duration": 14,
    "start_time": "2022-07-23T12:40:56.912Z"
   },
   {
    "duration": 41,
    "start_time": "2022-07-23T12:40:56.928Z"
   },
   {
    "duration": 522,
    "start_time": "2022-07-23T12:40:56.971Z"
   },
   {
    "duration": 559,
    "start_time": "2022-07-23T12:40:57.496Z"
   },
   {
    "duration": 8,
    "start_time": "2022-07-23T12:40:58.056Z"
   },
   {
    "duration": 38,
    "start_time": "2022-07-23T12:40:58.066Z"
   },
   {
    "duration": 11,
    "start_time": "2022-07-23T12:40:58.105Z"
   },
   {
    "duration": 1198,
    "start_time": "2022-07-23T12:40:58.118Z"
   },
   {
    "duration": 166,
    "start_time": "2022-07-23T12:40:59.318Z"
   },
   {
    "duration": 2804,
    "start_time": "2022-07-23T12:40:59.491Z"
   },
   {
    "duration": 142,
    "start_time": "2022-07-23T12:41:02.297Z"
   },
   {
    "duration": 24512,
    "start_time": "2022-07-23T12:41:02.441Z"
   },
   {
    "duration": 181,
    "start_time": "2022-07-23T12:41:26.955Z"
   },
   {
    "duration": 6548,
    "start_time": "2022-07-23T12:41:27.138Z"
   },
   {
    "duration": 137,
    "start_time": "2022-07-23T12:41:33.688Z"
   },
   {
    "duration": 18,
    "start_time": "2022-07-23T12:41:33.827Z"
   },
   {
    "duration": 49,
    "start_time": "2022-07-23T12:41:33.847Z"
   },
   {
    "duration": 147,
    "start_time": "2022-07-23T12:41:33.897Z"
   },
   {
    "duration": 48,
    "start_time": "2022-07-23T12:41:34.045Z"
   },
   {
    "duration": 270,
    "start_time": "2022-07-23T12:41:34.096Z"
   },
   {
    "duration": 99,
    "start_time": "2022-07-23T12:41:34.370Z"
   },
   {
    "duration": 198,
    "start_time": "2022-07-23T12:41:34.472Z"
   },
   {
    "duration": 170,
    "start_time": "2022-07-23T12:41:34.674Z"
   },
   {
    "duration": 150,
    "start_time": "2022-07-23T12:41:34.845Z"
   },
   {
    "duration": 42,
    "start_time": "2022-07-23T12:41:34.997Z"
   },
   {
    "duration": 135,
    "start_time": "2022-07-23T12:41:35.041Z"
   },
   {
    "duration": 160,
    "start_time": "2022-07-23T12:41:35.179Z"
   },
   {
    "duration": 33,
    "start_time": "2022-07-23T12:41:35.341Z"
   },
   {
    "duration": 880,
    "start_time": "2022-07-23T12:41:35.376Z"
   },
   {
    "duration": 136,
    "start_time": "2022-07-23T12:41:36.258Z"
   },
   {
    "duration": 284,
    "start_time": "2022-07-23T12:41:36.396Z"
   },
   {
    "duration": 21,
    "start_time": "2022-07-23T12:41:59.051Z"
   },
   {
    "duration": 60,
    "start_time": "2022-07-23T12:42:28.436Z"
   },
   {
    "duration": 801,
    "start_time": "2022-07-23T12:42:34.770Z"
   },
   {
    "duration": 32,
    "start_time": "2022-07-23T12:42:36.873Z"
   },
   {
    "duration": 17,
    "start_time": "2022-07-23T12:42:43.469Z"
   },
   {
    "duration": 1355,
    "start_time": "2022-07-23T12:43:03.641Z"
   },
   {
    "duration": 861,
    "start_time": "2022-07-23T12:43:04.998Z"
   },
   {
    "duration": 140,
    "start_time": "2022-07-23T12:43:05.861Z"
   },
   {
    "duration": 155,
    "start_time": "2022-07-23T12:43:06.003Z"
   },
   {
    "duration": 103,
    "start_time": "2022-07-23T12:43:06.164Z"
   },
   {
    "duration": 10,
    "start_time": "2022-07-23T12:43:06.269Z"
   },
   {
    "duration": 14,
    "start_time": "2022-07-23T12:43:06.281Z"
   },
   {
    "duration": 29,
    "start_time": "2022-07-23T12:43:06.297Z"
   },
   {
    "duration": 531,
    "start_time": "2022-07-23T12:43:06.328Z"
   },
   {
    "duration": 548,
    "start_time": "2022-07-23T12:43:06.861Z"
   },
   {
    "duration": 3,
    "start_time": "2022-07-23T12:43:07.410Z"
   },
   {
    "duration": 8,
    "start_time": "2022-07-23T12:43:07.414Z"
   },
   {
    "duration": 9,
    "start_time": "2022-07-23T12:43:07.423Z"
   },
   {
    "duration": 1097,
    "start_time": "2022-07-23T12:43:07.435Z"
   },
   {
    "duration": 131,
    "start_time": "2022-07-23T12:43:08.533Z"
   },
   {
    "duration": 2719,
    "start_time": "2022-07-23T12:43:08.667Z"
   },
   {
    "duration": 145,
    "start_time": "2022-07-23T12:43:11.388Z"
   },
   {
    "duration": 23723,
    "start_time": "2022-07-23T12:43:11.534Z"
   },
   {
    "duration": 156,
    "start_time": "2022-07-23T12:43:35.259Z"
   },
   {
    "duration": 6059,
    "start_time": "2022-07-23T12:43:35.417Z"
   },
   {
    "duration": 133,
    "start_time": "2022-07-23T12:43:41.478Z"
   },
   {
    "duration": 19,
    "start_time": "2022-07-23T12:43:41.613Z"
   },
   {
    "duration": 47,
    "start_time": "2022-07-23T12:43:41.634Z"
   },
   {
    "duration": 145,
    "start_time": "2022-07-23T12:43:41.683Z"
   },
   {
    "duration": 20,
    "start_time": "2022-07-23T12:43:41.830Z"
   },
   {
    "duration": 283,
    "start_time": "2022-07-23T12:43:41.851Z"
   },
   {
    "duration": 108,
    "start_time": "2022-07-23T12:43:42.136Z"
   },
   {
    "duration": 199,
    "start_time": "2022-07-23T12:43:42.246Z"
   },
   {
    "duration": 190,
    "start_time": "2022-07-23T12:43:42.447Z"
   },
   {
    "duration": 197,
    "start_time": "2022-07-23T12:43:42.639Z"
   },
   {
    "duration": 55,
    "start_time": "2022-07-23T12:43:42.838Z"
   },
   {
    "duration": 118,
    "start_time": "2022-07-23T12:43:42.895Z"
   },
   {
    "duration": 180,
    "start_time": "2022-07-23T12:43:43.015Z"
   },
   {
    "duration": 18,
    "start_time": "2022-07-23T12:43:43.197Z"
   },
   {
    "duration": 833,
    "start_time": "2022-07-23T12:43:43.217Z"
   },
   {
    "duration": 114,
    "start_time": "2022-07-23T12:43:44.052Z"
   },
   {
    "duration": 0,
    "start_time": "2022-07-23T12:43:44.168Z"
   },
   {
    "duration": 42,
    "start_time": "2022-07-23T12:54:46.257Z"
   },
   {
    "duration": 13,
    "start_time": "2022-07-23T12:54:59.777Z"
   },
   {
    "duration": 1425,
    "start_time": "2022-07-23T12:55:15.490Z"
   },
   {
    "duration": 953,
    "start_time": "2022-07-23T12:55:16.917Z"
   },
   {
    "duration": 156,
    "start_time": "2022-07-23T12:55:17.872Z"
   },
   {
    "duration": 168,
    "start_time": "2022-07-23T12:55:18.030Z"
   },
   {
    "duration": 105,
    "start_time": "2022-07-23T12:55:18.200Z"
   },
   {
    "duration": 6,
    "start_time": "2022-07-23T12:55:18.307Z"
   },
   {
    "duration": 29,
    "start_time": "2022-07-23T12:55:18.314Z"
   },
   {
    "duration": 34,
    "start_time": "2022-07-23T12:55:18.345Z"
   },
   {
    "duration": 600,
    "start_time": "2022-07-23T12:55:18.382Z"
   },
   {
    "duration": 614,
    "start_time": "2022-07-23T12:55:18.984Z"
   },
   {
    "duration": 3,
    "start_time": "2022-07-23T12:55:19.600Z"
   },
   {
    "duration": 10,
    "start_time": "2022-07-23T12:55:19.605Z"
   },
   {
    "duration": 7,
    "start_time": "2022-07-23T12:55:19.617Z"
   },
   {
    "duration": 1269,
    "start_time": "2022-07-23T12:55:19.625Z"
   },
   {
    "duration": 143,
    "start_time": "2022-07-23T12:55:20.896Z"
   },
   {
    "duration": 4362,
    "start_time": "2022-07-23T12:55:21.040Z"
   },
   {
    "duration": 135,
    "start_time": "2022-07-23T12:55:25.404Z"
   },
   {
    "duration": 25691,
    "start_time": "2022-07-23T12:55:25.542Z"
   },
   {
    "duration": 153,
    "start_time": "2022-07-23T12:55:51.235Z"
   },
   {
    "duration": 6297,
    "start_time": "2022-07-23T12:55:51.390Z"
   },
   {
    "duration": 146,
    "start_time": "2022-07-23T12:55:57.688Z"
   },
   {
    "duration": 32,
    "start_time": "2022-07-23T12:55:57.836Z"
   },
   {
    "duration": 33,
    "start_time": "2022-07-23T12:55:57.870Z"
   },
   {
    "duration": 146,
    "start_time": "2022-07-23T12:55:57.905Z"
   },
   {
    "duration": 35,
    "start_time": "2022-07-23T12:55:58.052Z"
   },
   {
    "duration": 311,
    "start_time": "2022-07-23T12:55:58.089Z"
   },
   {
    "duration": 123,
    "start_time": "2022-07-23T12:55:58.401Z"
   },
   {
    "duration": 241,
    "start_time": "2022-07-23T12:55:58.527Z"
   },
   {
    "duration": 186,
    "start_time": "2022-07-23T12:55:58.770Z"
   },
   {
    "duration": 162,
    "start_time": "2022-07-23T12:55:58.957Z"
   },
   {
    "duration": 44,
    "start_time": "2022-07-23T12:55:59.121Z"
   },
   {
    "duration": 125,
    "start_time": "2022-07-23T12:55:59.167Z"
   },
   {
    "duration": 194,
    "start_time": "2022-07-23T12:55:59.293Z"
   },
   {
    "duration": 20,
    "start_time": "2022-07-23T12:55:59.489Z"
   },
   {
    "duration": 939,
    "start_time": "2022-07-23T12:55:59.510Z"
   },
   {
    "duration": 30,
    "start_time": "2022-07-23T12:56:00.451Z"
   },
   {
    "duration": 161,
    "start_time": "2022-07-23T12:56:00.483Z"
   },
   {
    "duration": 309,
    "start_time": "2022-07-23T12:56:00.647Z"
   },
   {
    "duration": 1521,
    "start_time": "2022-07-23T12:57:01.535Z"
   },
   {
    "duration": 965,
    "start_time": "2022-07-23T12:57:03.059Z"
   },
   {
    "duration": 161,
    "start_time": "2022-07-23T12:57:04.025Z"
   },
   {
    "duration": 155,
    "start_time": "2022-07-23T12:57:04.189Z"
   },
   {
    "duration": 99,
    "start_time": "2022-07-23T12:57:04.345Z"
   },
   {
    "duration": 20,
    "start_time": "2022-07-23T12:57:04.445Z"
   },
   {
    "duration": 14,
    "start_time": "2022-07-23T12:57:04.467Z"
   },
   {
    "duration": 47,
    "start_time": "2022-07-23T12:57:04.484Z"
   },
   {
    "duration": 550,
    "start_time": "2022-07-23T12:57:04.533Z"
   },
   {
    "duration": 618,
    "start_time": "2022-07-23T12:57:05.086Z"
   },
   {
    "duration": 3,
    "start_time": "2022-07-23T12:57:05.706Z"
   },
   {
    "duration": 6,
    "start_time": "2022-07-23T12:57:05.711Z"
   },
   {
    "duration": 7,
    "start_time": "2022-07-23T12:57:05.718Z"
   },
   {
    "duration": 1148,
    "start_time": "2022-07-23T12:57:05.727Z"
   },
   {
    "duration": 142,
    "start_time": "2022-07-23T12:57:06.877Z"
   },
   {
    "duration": 2801,
    "start_time": "2022-07-23T12:57:07.020Z"
   },
   {
    "duration": 150,
    "start_time": "2022-07-23T12:57:09.823Z"
   },
   {
    "duration": 24484,
    "start_time": "2022-07-23T12:57:09.976Z"
   },
   {
    "duration": 152,
    "start_time": "2022-07-23T12:57:34.462Z"
   },
   {
    "duration": 6500,
    "start_time": "2022-07-23T12:57:34.615Z"
   },
   {
    "duration": 148,
    "start_time": "2022-07-23T12:57:41.117Z"
   },
   {
    "duration": 29,
    "start_time": "2022-07-23T12:57:41.267Z"
   },
   {
    "duration": 23,
    "start_time": "2022-07-23T12:57:41.298Z"
   },
   {
    "duration": 172,
    "start_time": "2022-07-23T12:57:41.323Z"
   },
   {
    "duration": 22,
    "start_time": "2022-07-23T12:57:41.496Z"
   },
   {
    "duration": 313,
    "start_time": "2022-07-23T12:57:41.520Z"
   },
   {
    "duration": 119,
    "start_time": "2022-07-23T12:57:41.835Z"
   },
   {
    "duration": 202,
    "start_time": "2022-07-23T12:57:41.957Z"
   },
   {
    "duration": 182,
    "start_time": "2022-07-23T12:57:42.162Z"
   },
   {
    "duration": 190,
    "start_time": "2022-07-23T12:57:42.346Z"
   },
   {
    "duration": 54,
    "start_time": "2022-07-23T12:57:42.537Z"
   },
   {
    "duration": 146,
    "start_time": "2022-07-23T12:57:42.593Z"
   },
   {
    "duration": 203,
    "start_time": "2022-07-23T12:57:42.741Z"
   },
   {
    "duration": 26,
    "start_time": "2022-07-23T12:57:42.946Z"
   },
   {
    "duration": 877,
    "start_time": "2022-07-23T12:57:42.974Z"
   },
   {
    "duration": 595,
    "start_time": "2022-07-23T12:57:43.853Z"
   },
   {
    "duration": 33236,
    "start_time": "2022-07-23T12:57:44.450Z"
   },
   {
    "duration": 4,
    "start_time": "2022-07-23T12:58:28.783Z"
   },
   {
    "duration": 113,
    "start_time": "2022-07-23T13:06:33.117Z"
   },
   {
    "duration": 43589,
    "start_time": "2022-07-23T13:07:14.584Z"
   },
   {
    "duration": 79,
    "start_time": "2022-07-23T13:09:08.937Z"
   },
   {
    "duration": 3,
    "start_time": "2022-07-23T13:10:09.786Z"
   },
   {
    "duration": 17,
    "start_time": "2022-07-23T13:11:26.636Z"
   },
   {
    "duration": 1189,
    "start_time": "2022-07-23T13:12:09.944Z"
   },
   {
    "duration": 4,
    "start_time": "2022-07-23T13:12:20.303Z"
   },
   {
    "duration": 1455,
    "start_time": "2022-07-23T13:14:09.365Z"
   },
   {
    "duration": 968,
    "start_time": "2022-07-23T13:14:10.823Z"
   },
   {
    "duration": 163,
    "start_time": "2022-07-23T13:14:11.793Z"
   },
   {
    "duration": 177,
    "start_time": "2022-07-23T13:14:11.964Z"
   },
   {
    "duration": 109,
    "start_time": "2022-07-23T13:14:12.142Z"
   },
   {
    "duration": 11,
    "start_time": "2022-07-23T13:14:12.252Z"
   },
   {
    "duration": 27,
    "start_time": "2022-07-23T13:14:12.265Z"
   },
   {
    "duration": 32,
    "start_time": "2022-07-23T13:14:12.294Z"
   },
   {
    "duration": 631,
    "start_time": "2022-07-23T13:14:12.328Z"
   },
   {
    "duration": 582,
    "start_time": "2022-07-23T13:14:12.963Z"
   },
   {
    "duration": 3,
    "start_time": "2022-07-23T13:14:13.546Z"
   },
   {
    "duration": 11,
    "start_time": "2022-07-23T13:14:13.550Z"
   },
   {
    "duration": 29,
    "start_time": "2022-07-23T13:14:13.562Z"
   },
   {
    "duration": 1168,
    "start_time": "2022-07-23T13:14:13.593Z"
   },
   {
    "duration": 158,
    "start_time": "2022-07-23T13:14:14.762Z"
   },
   {
    "duration": 2771,
    "start_time": "2022-07-23T13:14:14.922Z"
   },
   {
    "duration": 140,
    "start_time": "2022-07-23T13:14:17.695Z"
   },
   {
    "duration": 24079,
    "start_time": "2022-07-23T13:14:17.837Z"
   },
   {
    "duration": 147,
    "start_time": "2022-07-23T13:14:41.918Z"
   },
   {
    "duration": 5978,
    "start_time": "2022-07-23T13:14:42.068Z"
   },
   {
    "duration": 148,
    "start_time": "2022-07-23T13:14:48.048Z"
   },
   {
    "duration": 18,
    "start_time": "2022-07-23T13:14:48.198Z"
   },
   {
    "duration": 25,
    "start_time": "2022-07-23T13:14:48.217Z"
   },
   {
    "duration": 159,
    "start_time": "2022-07-23T13:14:48.243Z"
   },
   {
    "duration": 19,
    "start_time": "2022-07-23T13:14:48.403Z"
   },
   {
    "duration": 307,
    "start_time": "2022-07-23T13:14:48.423Z"
   },
   {
    "duration": 101,
    "start_time": "2022-07-23T13:14:48.731Z"
   },
   {
    "duration": 196,
    "start_time": "2022-07-23T13:14:48.837Z"
   },
   {
    "duration": 178,
    "start_time": "2022-07-23T13:14:49.035Z"
   },
   {
    "duration": 149,
    "start_time": "2022-07-23T13:14:49.215Z"
   },
   {
    "duration": 43,
    "start_time": "2022-07-23T13:14:49.366Z"
   },
   {
    "duration": 129,
    "start_time": "2022-07-23T13:14:49.411Z"
   },
   {
    "duration": 188,
    "start_time": "2022-07-23T13:14:49.542Z"
   },
   {
    "duration": 19,
    "start_time": "2022-07-23T13:14:49.732Z"
   },
   {
    "duration": 935,
    "start_time": "2022-07-23T13:14:49.753Z"
   },
   {
    "duration": 3958,
    "start_time": "2022-07-23T13:14:50.690Z"
   },
   {
    "duration": 112,
    "start_time": "2022-07-23T13:14:54.650Z"
   },
   {
    "duration": 0,
    "start_time": "2022-07-23T13:14:54.764Z"
   },
   {
    "duration": 0,
    "start_time": "2022-07-23T13:14:54.766Z"
   },
   {
    "duration": 1,
    "start_time": "2022-07-23T13:14:54.767Z"
   },
   {
    "duration": 0,
    "start_time": "2022-07-23T13:14:54.769Z"
   },
   {
    "duration": 0,
    "start_time": "2022-07-23T13:14:54.771Z"
   },
   {
    "duration": 0,
    "start_time": "2022-07-23T13:14:54.773Z"
   },
   {
    "duration": 15,
    "start_time": "2022-07-23T13:15:35.441Z"
   },
   {
    "duration": 3909,
    "start_time": "2022-07-23T13:20:52.809Z"
   },
   {
    "duration": 9,
    "start_time": "2022-07-23T13:21:17.753Z"
   },
   {
    "duration": 5,
    "start_time": "2022-07-23T13:21:33.486Z"
   },
   {
    "duration": 1362,
    "start_time": "2022-07-23T13:21:53.560Z"
   },
   {
    "duration": 920,
    "start_time": "2022-07-23T13:21:54.924Z"
   },
   {
    "duration": 164,
    "start_time": "2022-07-23T13:21:55.846Z"
   },
   {
    "duration": 157,
    "start_time": "2022-07-23T13:21:56.012Z"
   },
   {
    "duration": 104,
    "start_time": "2022-07-23T13:21:56.175Z"
   },
   {
    "duration": 6,
    "start_time": "2022-07-23T13:21:56.281Z"
   },
   {
    "duration": 13,
    "start_time": "2022-07-23T13:21:56.288Z"
   },
   {
    "duration": 30,
    "start_time": "2022-07-23T13:21:56.303Z"
   },
   {
    "duration": 539,
    "start_time": "2022-07-23T13:21:56.334Z"
   },
   {
    "duration": 604,
    "start_time": "2022-07-23T13:21:56.877Z"
   },
   {
    "duration": 3,
    "start_time": "2022-07-23T13:21:57.482Z"
   },
   {
    "duration": 7,
    "start_time": "2022-07-23T13:21:57.486Z"
   },
   {
    "duration": 7,
    "start_time": "2022-07-23T13:21:57.494Z"
   },
   {
    "duration": 1090,
    "start_time": "2022-07-23T13:21:57.502Z"
   },
   {
    "duration": 143,
    "start_time": "2022-07-23T13:21:58.594Z"
   },
   {
    "duration": 2778,
    "start_time": "2022-07-23T13:21:58.739Z"
   },
   {
    "duration": 146,
    "start_time": "2022-07-23T13:22:01.519Z"
   },
   {
    "duration": 23633,
    "start_time": "2022-07-23T13:22:01.667Z"
   },
   {
    "duration": 151,
    "start_time": "2022-07-23T13:22:25.302Z"
   },
   {
    "duration": 6205,
    "start_time": "2022-07-23T13:22:25.454Z"
   },
   {
    "duration": 145,
    "start_time": "2022-07-23T13:22:31.663Z"
   },
   {
    "duration": 19,
    "start_time": "2022-07-23T13:22:31.810Z"
   },
   {
    "duration": 46,
    "start_time": "2022-07-23T13:22:31.831Z"
   },
   {
    "duration": 145,
    "start_time": "2022-07-23T13:22:31.879Z"
   },
   {
    "duration": 43,
    "start_time": "2022-07-23T13:22:32.026Z"
   },
   {
    "duration": 284,
    "start_time": "2022-07-23T13:22:32.073Z"
   },
   {
    "duration": 101,
    "start_time": "2022-07-23T13:22:32.363Z"
   },
   {
    "duration": 213,
    "start_time": "2022-07-23T13:22:32.472Z"
   },
   {
    "duration": 178,
    "start_time": "2022-07-23T13:22:32.687Z"
   },
   {
    "duration": 157,
    "start_time": "2022-07-23T13:22:32.868Z"
   },
   {
    "duration": 51,
    "start_time": "2022-07-23T13:22:33.027Z"
   },
   {
    "duration": 115,
    "start_time": "2022-07-23T13:22:33.081Z"
   },
   {
    "duration": 182,
    "start_time": "2022-07-23T13:22:33.197Z"
   },
   {
    "duration": 23,
    "start_time": "2022-07-23T13:22:33.381Z"
   },
   {
    "duration": 838,
    "start_time": "2022-07-23T13:22:33.405Z"
   },
   {
    "duration": 3942,
    "start_time": "2022-07-23T13:22:34.244Z"
   },
   {
    "duration": 8,
    "start_time": "2022-07-23T13:22:38.188Z"
   },
   {
    "duration": 112,
    "start_time": "2022-07-23T13:22:38.197Z"
   },
   {
    "duration": 0,
    "start_time": "2022-07-23T13:22:38.311Z"
   },
   {
    "duration": 0,
    "start_time": "2022-07-23T13:22:38.312Z"
   },
   {
    "duration": 0,
    "start_time": "2022-07-23T13:22:38.313Z"
   },
   {
    "duration": 0,
    "start_time": "2022-07-23T13:22:38.314Z"
   },
   {
    "duration": 0,
    "start_time": "2022-07-23T13:22:38.315Z"
   },
   {
    "duration": 0,
    "start_time": "2022-07-23T13:22:38.316Z"
   },
   {
    "duration": 1534,
    "start_time": "2022-07-23T13:28:01.843Z"
   },
   {
    "duration": 970,
    "start_time": "2022-07-23T13:28:03.380Z"
   },
   {
    "duration": 139,
    "start_time": "2022-07-23T13:28:04.352Z"
   },
   {
    "duration": 190,
    "start_time": "2022-07-23T13:28:04.495Z"
   },
   {
    "duration": 173,
    "start_time": "2022-07-23T13:28:04.686Z"
   },
   {
    "duration": 5,
    "start_time": "2022-07-23T13:28:04.864Z"
   },
   {
    "duration": 9,
    "start_time": "2022-07-23T13:28:04.871Z"
   },
   {
    "duration": 31,
    "start_time": "2022-07-23T13:28:04.882Z"
   },
   {
    "duration": 632,
    "start_time": "2022-07-23T13:28:04.915Z"
   },
   {
    "duration": 712,
    "start_time": "2022-07-23T13:28:05.549Z"
   },
   {
    "duration": 3,
    "start_time": "2022-07-23T13:28:06.263Z"
   },
   {
    "duration": 9,
    "start_time": "2022-07-23T13:28:06.268Z"
   },
   {
    "duration": 8,
    "start_time": "2022-07-23T13:28:06.279Z"
   },
   {
    "duration": 1200,
    "start_time": "2022-07-23T13:28:06.289Z"
   },
   {
    "duration": 137,
    "start_time": "2022-07-23T13:28:07.491Z"
   },
   {
    "duration": 2829,
    "start_time": "2022-07-23T13:28:07.630Z"
   },
   {
    "duration": 164,
    "start_time": "2022-07-23T13:28:10.461Z"
   },
   {
    "duration": 25059,
    "start_time": "2022-07-23T13:28:10.627Z"
   },
   {
    "duration": 135,
    "start_time": "2022-07-23T13:28:35.687Z"
   },
   {
    "duration": 6269,
    "start_time": "2022-07-23T13:28:35.824Z"
   },
   {
    "duration": 175,
    "start_time": "2022-07-23T13:28:42.095Z"
   },
   {
    "duration": 24,
    "start_time": "2022-07-23T13:28:42.273Z"
   },
   {
    "duration": 28,
    "start_time": "2022-07-23T13:28:42.299Z"
   },
   {
    "duration": 172,
    "start_time": "2022-07-23T13:28:42.329Z"
   },
   {
    "duration": 34,
    "start_time": "2022-07-23T13:28:42.503Z"
   },
   {
    "duration": 417,
    "start_time": "2022-07-23T13:28:42.540Z"
   },
   {
    "duration": 120,
    "start_time": "2022-07-23T13:28:42.959Z"
   },
   {
    "duration": 204,
    "start_time": "2022-07-23T13:28:43.083Z"
   },
   {
    "duration": 174,
    "start_time": "2022-07-23T13:28:43.289Z"
   },
   {
    "duration": 160,
    "start_time": "2022-07-23T13:28:43.465Z"
   },
   {
    "duration": 47,
    "start_time": "2022-07-23T13:28:43.627Z"
   },
   {
    "duration": 131,
    "start_time": "2022-07-23T13:28:43.677Z"
   },
   {
    "duration": 184,
    "start_time": "2022-07-23T13:28:43.809Z"
   },
   {
    "duration": 18,
    "start_time": "2022-07-23T13:28:43.995Z"
   },
   {
    "duration": 907,
    "start_time": "2022-07-23T13:28:44.015Z"
   },
   {
    "duration": 112,
    "start_time": "2022-07-23T13:28:44.924Z"
   },
   {
    "duration": 0,
    "start_time": "2022-07-23T13:28:45.037Z"
   },
   {
    "duration": 0,
    "start_time": "2022-07-23T13:28:45.039Z"
   },
   {
    "duration": 0,
    "start_time": "2022-07-23T13:28:45.040Z"
   },
   {
    "duration": 0,
    "start_time": "2022-07-23T13:28:45.041Z"
   },
   {
    "duration": 0,
    "start_time": "2022-07-23T13:28:45.042Z"
   },
   {
    "duration": 0,
    "start_time": "2022-07-23T13:28:45.043Z"
   },
   {
    "duration": 0,
    "start_time": "2022-07-23T13:28:45.044Z"
   },
   {
    "duration": 597,
    "start_time": "2022-07-23T13:29:03.464Z"
   },
   {
    "duration": 3219,
    "start_time": "2022-07-23T13:29:05.336Z"
   },
   {
    "duration": 37626,
    "start_time": "2022-07-23T13:29:10.744Z"
   },
   {
    "duration": 5,
    "start_time": "2022-07-23T13:29:59.266Z"
   },
   {
    "duration": 23771,
    "start_time": "2022-07-23T13:30:08.499Z"
   },
   {
    "duration": 4,
    "start_time": "2022-07-23T13:30:36.091Z"
   },
   {
    "duration": 880,
    "start_time": "2022-07-23T13:30:37.533Z"
   },
   {
    "duration": 4,
    "start_time": "2022-07-23T13:30:39.160Z"
   },
   {
    "duration": 20,
    "start_time": "2022-07-23T13:33:53.280Z"
   },
   {
    "duration": 1355,
    "start_time": "2022-07-23T13:34:02.705Z"
   },
   {
    "duration": 939,
    "start_time": "2022-07-23T13:34:04.062Z"
   },
   {
    "duration": 145,
    "start_time": "2022-07-23T13:34:05.003Z"
   },
   {
    "duration": 154,
    "start_time": "2022-07-23T13:34:05.150Z"
   },
   {
    "duration": 104,
    "start_time": "2022-07-23T13:34:05.306Z"
   },
   {
    "duration": 5,
    "start_time": "2022-07-23T13:34:05.412Z"
   },
   {
    "duration": 11,
    "start_time": "2022-07-23T13:34:05.419Z"
   },
   {
    "duration": 54,
    "start_time": "2022-07-23T13:34:05.432Z"
   },
   {
    "duration": 527,
    "start_time": "2022-07-23T13:34:05.487Z"
   },
   {
    "duration": 577,
    "start_time": "2022-07-23T13:34:06.016Z"
   },
   {
    "duration": 2,
    "start_time": "2022-07-23T13:34:06.594Z"
   },
   {
    "duration": 24,
    "start_time": "2022-07-23T13:34:06.598Z"
   },
   {
    "duration": 18,
    "start_time": "2022-07-23T13:34:06.624Z"
   },
   {
    "duration": 1096,
    "start_time": "2022-07-23T13:34:06.643Z"
   },
   {
    "duration": 137,
    "start_time": "2022-07-23T13:34:07.740Z"
   },
   {
    "duration": 2703,
    "start_time": "2022-07-23T13:34:07.880Z"
   },
   {
    "duration": 144,
    "start_time": "2022-07-23T13:34:10.585Z"
   },
   {
    "duration": 23574,
    "start_time": "2022-07-23T13:34:10.731Z"
   },
   {
    "duration": 136,
    "start_time": "2022-07-23T13:34:34.307Z"
   },
   {
    "duration": 6051,
    "start_time": "2022-07-23T13:34:34.445Z"
   },
   {
    "duration": 138,
    "start_time": "2022-07-23T13:34:40.498Z"
   },
   {
    "duration": 35,
    "start_time": "2022-07-23T13:34:40.638Z"
   },
   {
    "duration": 37,
    "start_time": "2022-07-23T13:34:40.674Z"
   },
   {
    "duration": 158,
    "start_time": "2022-07-23T13:34:40.713Z"
   },
   {
    "duration": 23,
    "start_time": "2022-07-23T13:34:40.873Z"
   },
   {
    "duration": 298,
    "start_time": "2022-07-23T13:34:40.898Z"
   },
   {
    "duration": 97,
    "start_time": "2022-07-23T13:34:41.197Z"
   },
   {
    "duration": 194,
    "start_time": "2022-07-23T13:34:41.297Z"
   },
   {
    "duration": 158,
    "start_time": "2022-07-23T13:34:41.493Z"
   },
   {
    "duration": 154,
    "start_time": "2022-07-23T13:34:41.653Z"
   },
   {
    "duration": 39,
    "start_time": "2022-07-23T13:34:41.809Z"
   },
   {
    "duration": 135,
    "start_time": "2022-07-23T13:34:41.850Z"
   },
   {
    "duration": 179,
    "start_time": "2022-07-23T13:34:41.986Z"
   },
   {
    "duration": 24,
    "start_time": "2022-07-23T13:34:42.168Z"
   },
   {
    "duration": 946,
    "start_time": "2022-07-23T13:34:42.194Z"
   },
   {
    "duration": 124,
    "start_time": "2022-07-23T13:34:43.141Z"
   },
   {
    "duration": 289,
    "start_time": "2022-07-23T13:34:43.268Z"
   },
   {
    "duration": 0,
    "start_time": "2022-07-23T13:34:43.558Z"
   },
   {
    "duration": 0,
    "start_time": "2022-07-23T13:34:43.564Z"
   },
   {
    "duration": 0,
    "start_time": "2022-07-23T13:34:43.566Z"
   },
   {
    "duration": 0,
    "start_time": "2022-07-23T13:34:43.567Z"
   },
   {
    "duration": 0,
    "start_time": "2022-07-23T13:34:43.569Z"
   },
   {
    "duration": 0,
    "start_time": "2022-07-23T13:34:43.571Z"
   },
   {
    "duration": 69,
    "start_time": "2022-07-23T13:48:54.444Z"
   },
   {
    "duration": 3,
    "start_time": "2022-07-23T13:49:31.043Z"
   },
   {
    "duration": 1598,
    "start_time": "2022-07-23T13:49:39.092Z"
   },
   {
    "duration": 1089,
    "start_time": "2022-07-23T13:49:40.693Z"
   },
   {
    "duration": 173,
    "start_time": "2022-07-23T13:49:41.784Z"
   },
   {
    "duration": 186,
    "start_time": "2022-07-23T13:49:41.967Z"
   },
   {
    "duration": 179,
    "start_time": "2022-07-23T13:49:42.156Z"
   },
   {
    "duration": 9,
    "start_time": "2022-07-23T13:49:42.337Z"
   },
   {
    "duration": 25,
    "start_time": "2022-07-23T13:49:42.348Z"
   },
   {
    "duration": 42,
    "start_time": "2022-07-23T13:49:42.376Z"
   },
   {
    "duration": 702,
    "start_time": "2022-07-23T13:49:42.420Z"
   },
   {
    "duration": 711,
    "start_time": "2022-07-23T13:49:43.125Z"
   },
   {
    "duration": 3,
    "start_time": "2022-07-23T13:49:43.838Z"
   },
   {
    "duration": 9,
    "start_time": "2022-07-23T13:49:43.843Z"
   },
   {
    "duration": 25,
    "start_time": "2022-07-23T13:49:43.854Z"
   },
   {
    "duration": 1314,
    "start_time": "2022-07-23T13:49:43.902Z"
   },
   {
    "duration": 168,
    "start_time": "2022-07-23T13:49:45.217Z"
   },
   {
    "duration": 3390,
    "start_time": "2022-07-23T13:49:45.387Z"
   },
   {
    "duration": 254,
    "start_time": "2022-07-23T13:49:48.779Z"
   },
   {
    "duration": 26994,
    "start_time": "2022-07-23T13:49:49.035Z"
   },
   {
    "duration": 185,
    "start_time": "2022-07-23T13:50:16.031Z"
   },
   {
    "duration": 6807,
    "start_time": "2022-07-23T13:50:16.218Z"
   },
   {
    "duration": 199,
    "start_time": "2022-07-23T13:50:23.028Z"
   },
   {
    "duration": 23,
    "start_time": "2022-07-23T13:50:23.229Z"
   },
   {
    "duration": 51,
    "start_time": "2022-07-23T13:50:23.253Z"
   },
   {
    "duration": 156,
    "start_time": "2022-07-23T13:50:23.306Z"
   },
   {
    "duration": 36,
    "start_time": "2022-07-23T13:50:23.464Z"
   },
   {
    "duration": 355,
    "start_time": "2022-07-23T13:50:23.501Z"
   },
   {
    "duration": 128,
    "start_time": "2022-07-23T13:50:23.858Z"
   },
   {
    "duration": 218,
    "start_time": "2022-07-23T13:50:23.992Z"
   },
   {
    "duration": 191,
    "start_time": "2022-07-23T13:50:24.212Z"
   },
   {
    "duration": 161,
    "start_time": "2022-07-23T13:50:24.405Z"
   },
   {
    "duration": 52,
    "start_time": "2022-07-23T13:50:24.570Z"
   },
   {
    "duration": 136,
    "start_time": "2022-07-23T13:50:24.623Z"
   },
   {
    "duration": 192,
    "start_time": "2022-07-23T13:50:24.761Z"
   },
   {
    "duration": 31,
    "start_time": "2022-07-23T13:50:24.955Z"
   },
   {
    "duration": 949,
    "start_time": "2022-07-23T13:50:24.988Z"
   },
   {
    "duration": 618,
    "start_time": "2022-07-23T13:50:25.939Z"
   },
   {
    "duration": 3289,
    "start_time": "2022-07-23T13:50:26.559Z"
   },
   {
    "duration": 44417,
    "start_time": "2022-07-23T13:50:29.850Z"
   },
   {
    "duration": 98,
    "start_time": "2022-07-23T13:51:14.270Z"
   },
   {
    "duration": 100538,
    "start_time": "2022-07-23T13:51:14.378Z"
   },
   {
    "duration": 6,
    "start_time": "2022-07-23T13:52:54.918Z"
   },
   {
    "duration": 884,
    "start_time": "2022-07-23T13:52:54.926Z"
   },
   {
    "duration": 4,
    "start_time": "2022-07-23T13:52:55.812Z"
   },
   {
    "duration": 36,
    "start_time": "2022-07-23T13:53:05.392Z"
   },
   {
    "duration": 144,
    "start_time": "2022-07-23T13:57:41.288Z"
   },
   {
    "duration": 20,
    "start_time": "2022-07-23T13:57:55.940Z"
   },
   {
    "duration": 133,
    "start_time": "2022-07-23T13:59:30.397Z"
   },
   {
    "duration": 3412,
    "start_time": "2022-07-23T13:59:33.737Z"
   },
   {
    "duration": 2658,
    "start_time": "2022-07-23T14:01:26.050Z"
   },
   {
    "duration": 2819,
    "start_time": "2022-07-23T14:03:01.688Z"
   },
   {
    "duration": 2961,
    "start_time": "2022-07-23T14:03:59.691Z"
   },
   {
    "duration": 1409,
    "start_time": "2022-07-24T14:49:11.493Z"
   },
   {
    "duration": 1057,
    "start_time": "2022-07-24T14:49:12.904Z"
   },
   {
    "duration": 142,
    "start_time": "2022-07-24T14:49:13.966Z"
   },
   {
    "duration": 126,
    "start_time": "2022-07-24T14:49:14.110Z"
   },
   {
    "duration": 96,
    "start_time": "2022-07-24T14:49:14.237Z"
   },
   {
    "duration": 12,
    "start_time": "2022-07-24T14:49:14.334Z"
   },
   {
    "duration": 9,
    "start_time": "2022-07-24T14:49:14.347Z"
   },
   {
    "duration": 30,
    "start_time": "2022-07-24T14:49:14.357Z"
   },
   {
    "duration": 442,
    "start_time": "2022-07-24T14:49:14.389Z"
   },
   {
    "duration": 475,
    "start_time": "2022-07-24T14:49:14.833Z"
   },
   {
    "duration": 3,
    "start_time": "2022-07-24T14:49:15.310Z"
   },
   {
    "duration": 13,
    "start_time": "2022-07-24T14:49:15.314Z"
   },
   {
    "duration": 17,
    "start_time": "2022-07-24T14:49:15.329Z"
   },
   {
    "duration": 1012,
    "start_time": "2022-07-24T14:49:15.347Z"
   },
   {
    "duration": 121,
    "start_time": "2022-07-24T14:49:16.361Z"
   },
   {
    "duration": 2682,
    "start_time": "2022-07-24T14:49:16.484Z"
   },
   {
    "duration": 123,
    "start_time": "2022-07-24T14:49:19.168Z"
   },
   {
    "duration": 21289,
    "start_time": "2022-07-24T14:49:19.292Z"
   },
   {
    "duration": 119,
    "start_time": "2022-07-24T14:49:40.583Z"
   },
   {
    "duration": 5429,
    "start_time": "2022-07-24T14:49:40.704Z"
   },
   {
    "duration": 128,
    "start_time": "2022-07-24T14:49:46.135Z"
   },
   {
    "duration": 20,
    "start_time": "2022-07-24T14:49:46.265Z"
   },
   {
    "duration": 30,
    "start_time": "2022-07-24T14:49:46.287Z"
   },
   {
    "duration": 134,
    "start_time": "2022-07-24T14:49:46.318Z"
   },
   {
    "duration": 20,
    "start_time": "2022-07-24T14:49:46.453Z"
   },
   {
    "duration": 256,
    "start_time": "2022-07-24T14:49:46.474Z"
   },
   {
    "duration": 92,
    "start_time": "2022-07-24T14:49:46.733Z"
   },
   {
    "duration": 180,
    "start_time": "2022-07-24T14:49:46.826Z"
   },
   {
    "duration": 150,
    "start_time": "2022-07-24T14:49:47.007Z"
   },
   {
    "duration": 133,
    "start_time": "2022-07-24T14:49:47.159Z"
   },
   {
    "duration": 36,
    "start_time": "2022-07-24T14:49:47.294Z"
   },
   {
    "duration": 115,
    "start_time": "2022-07-24T14:49:47.332Z"
   },
   {
    "duration": 162,
    "start_time": "2022-07-24T14:49:47.449Z"
   },
   {
    "duration": 18,
    "start_time": "2022-07-24T14:49:47.613Z"
   },
   {
    "duration": 769,
    "start_time": "2022-07-24T14:49:47.646Z"
   },
   {
    "duration": 561,
    "start_time": "2022-07-24T14:49:48.417Z"
   },
   {
    "duration": 3089,
    "start_time": "2022-07-24T14:49:48.980Z"
   },
   {
    "duration": 24379,
    "start_time": "2022-07-24T14:49:52.073Z"
   },
   {
    "duration": 92,
    "start_time": "2022-07-24T14:50:16.456Z"
   },
   {
    "duration": 45663,
    "start_time": "2022-07-24T14:50:16.550Z"
   },
   {
    "duration": 3,
    "start_time": "2022-07-24T14:51:02.215Z"
   },
   {
    "duration": 824,
    "start_time": "2022-07-24T14:51:02.219Z"
   },
   {
    "duration": 4,
    "start_time": "2022-07-24T14:51:03.046Z"
   },
   {
    "duration": 134,
    "start_time": "2022-07-24T14:51:03.051Z"
   },
   {
    "duration": 2290,
    "start_time": "2022-07-24T14:51:03.186Z"
   },
   {
    "duration": 1576,
    "start_time": "2022-07-24T17:18:06.401Z"
   },
   {
    "duration": 2734,
    "start_time": "2022-07-24T17:18:07.979Z"
   },
   {
    "duration": 115,
    "start_time": "2022-07-24T17:18:10.714Z"
   },
   {
    "duration": 123,
    "start_time": "2022-07-24T17:18:10.832Z"
   },
   {
    "duration": 111,
    "start_time": "2022-07-24T17:18:10.957Z"
   },
   {
    "duration": 7,
    "start_time": "2022-07-24T17:18:11.070Z"
   },
   {
    "duration": 29,
    "start_time": "2022-07-24T17:18:11.079Z"
   },
   {
    "duration": 30,
    "start_time": "2022-07-24T17:18:11.109Z"
   },
   {
    "duration": 477,
    "start_time": "2022-07-24T17:18:11.141Z"
   },
   {
    "duration": 476,
    "start_time": "2022-07-24T17:18:11.621Z"
   },
   {
    "duration": 6,
    "start_time": "2022-07-24T17:18:12.098Z"
   },
   {
    "duration": 12,
    "start_time": "2022-07-24T17:18:12.105Z"
   },
   {
    "duration": 5,
    "start_time": "2022-07-24T17:18:12.119Z"
   },
   {
    "duration": 1132,
    "start_time": "2022-07-24T17:18:12.125Z"
   },
   {
    "duration": 115,
    "start_time": "2022-07-24T17:18:13.259Z"
   },
   {
    "duration": 3044,
    "start_time": "2022-07-24T17:18:13.376Z"
   },
   {
    "duration": 130,
    "start_time": "2022-07-24T17:18:16.422Z"
   },
   {
    "duration": 23298,
    "start_time": "2022-07-24T17:18:16.554Z"
   },
   {
    "duration": 130,
    "start_time": "2022-07-24T17:18:39.854Z"
   },
   {
    "duration": 5875,
    "start_time": "2022-07-24T17:18:39.986Z"
   },
   {
    "duration": 112,
    "start_time": "2022-07-24T17:18:45.863Z"
   },
   {
    "duration": 31,
    "start_time": "2022-07-24T17:18:45.977Z"
   },
   {
    "duration": 23,
    "start_time": "2022-07-24T17:18:46.010Z"
   },
   {
    "duration": 128,
    "start_time": "2022-07-24T17:18:46.034Z"
   },
   {
    "duration": 41,
    "start_time": "2022-07-24T17:18:46.164Z"
   },
   {
    "duration": 275,
    "start_time": "2022-07-24T17:18:46.207Z"
   },
   {
    "duration": 120,
    "start_time": "2022-07-24T17:18:46.486Z"
   },
   {
    "duration": 217,
    "start_time": "2022-07-24T17:18:46.611Z"
   },
   {
    "duration": 145,
    "start_time": "2022-07-24T17:18:46.829Z"
   },
   {
    "duration": 163,
    "start_time": "2022-07-24T17:18:46.976Z"
   },
   {
    "duration": 39,
    "start_time": "2022-07-24T17:18:47.140Z"
   },
   {
    "duration": 130,
    "start_time": "2022-07-24T17:18:47.181Z"
   },
   {
    "duration": 179,
    "start_time": "2022-07-24T17:18:47.313Z"
   },
   {
    "duration": 27,
    "start_time": "2022-07-24T17:18:47.493Z"
   },
   {
    "duration": 857,
    "start_time": "2022-07-24T17:18:47.522Z"
   },
   {
    "duration": 545,
    "start_time": "2022-07-24T17:18:48.380Z"
   },
   {
    "duration": 2950,
    "start_time": "2022-07-24T17:18:48.926Z"
   },
   {
    "duration": 22939,
    "start_time": "2022-07-24T17:18:51.878Z"
   },
   {
    "duration": 4,
    "start_time": "2022-07-24T17:19:14.905Z"
   },
   {
    "duration": 68270,
    "start_time": "2022-07-24T17:19:14.911Z"
   },
   {
    "duration": 3,
    "start_time": "2022-07-24T17:20:23.182Z"
   },
   {
    "duration": 780,
    "start_time": "2022-07-24T17:20:23.187Z"
   },
   {
    "duration": 4,
    "start_time": "2022-07-24T17:20:23.968Z"
   },
   {
    "duration": 117,
    "start_time": "2022-07-24T17:20:23.974Z"
   },
   {
    "duration": 2586,
    "start_time": "2022-07-24T17:20:24.093Z"
   },
   {
    "duration": 141,
    "start_time": "2022-07-24T17:20:26.680Z"
   },
   {
    "duration": 0,
    "start_time": "2022-07-24T17:20:26.823Z"
   },
   {
    "duration": 13,
    "start_time": "2022-07-24T17:20:46.350Z"
   },
   {
    "duration": 10,
    "start_time": "2022-07-24T17:24:08.571Z"
   },
   {
    "duration": 11,
    "start_time": "2022-07-24T17:24:43.373Z"
   },
   {
    "duration": 4,
    "start_time": "2022-07-24T17:25:21.203Z"
   },
   {
    "duration": 16,
    "start_time": "2022-07-24T17:25:28.153Z"
   },
   {
    "duration": 12,
    "start_time": "2022-07-24T17:26:53.066Z"
   },
   {
    "duration": 13,
    "start_time": "2022-07-24T17:27:12.606Z"
   },
   {
    "duration": 24,
    "start_time": "2022-07-24T17:27:38.599Z"
   },
   {
    "duration": 1403,
    "start_time": "2022-07-24T17:30:23.284Z"
   },
   {
    "duration": 34,
    "start_time": "2022-07-24T17:32:27.608Z"
   },
   {
    "duration": 75,
    "start_time": "2022-07-24T17:33:00.155Z"
   },
   {
    "duration": 431,
    "start_time": "2022-07-24T17:33:08.508Z"
   },
   {
    "duration": 1417,
    "start_time": "2022-07-24T17:33:12.056Z"
   },
   {
    "duration": 1444,
    "start_time": "2022-07-24T17:33:37.942Z"
   },
   {
    "duration": 95,
    "start_time": "2022-07-24T17:55:47.055Z"
   },
   {
    "duration": 1430,
    "start_time": "2022-07-24T17:57:01.951Z"
   },
   {
    "duration": 11,
    "start_time": "2022-07-24T18:04:16.585Z"
   },
   {
    "duration": 130,
    "start_time": "2022-07-24T18:04:25.800Z"
   },
   {
    "duration": 5,
    "start_time": "2022-07-24T18:04:34.923Z"
   },
   {
    "duration": 1457,
    "start_time": "2022-07-24T18:05:07.208Z"
   },
   {
    "duration": 870,
    "start_time": "2022-07-24T18:05:08.666Z"
   },
   {
    "duration": 145,
    "start_time": "2022-07-24T18:05:09.537Z"
   },
   {
    "duration": 151,
    "start_time": "2022-07-24T18:05:09.687Z"
   },
   {
    "duration": 122,
    "start_time": "2022-07-24T18:05:09.839Z"
   },
   {
    "duration": 6,
    "start_time": "2022-07-24T18:05:09.963Z"
   },
   {
    "duration": 55,
    "start_time": "2022-07-24T18:05:09.970Z"
   },
   {
    "duration": 56,
    "start_time": "2022-07-24T18:05:10.028Z"
   },
   {
    "duration": 561,
    "start_time": "2022-07-24T18:05:10.085Z"
   },
   {
    "duration": 556,
    "start_time": "2022-07-24T18:05:10.649Z"
   },
   {
    "duration": 5,
    "start_time": "2022-07-24T18:05:11.208Z"
   },
   {
    "duration": 14,
    "start_time": "2022-07-24T18:05:11.215Z"
   },
   {
    "duration": 1066,
    "start_time": "2022-07-24T18:05:11.231Z"
   },
   {
    "duration": 115,
    "start_time": "2022-07-24T18:05:12.298Z"
   },
   {
    "duration": 2705,
    "start_time": "2022-07-24T18:05:12.415Z"
   },
   {
    "duration": 137,
    "start_time": "2022-07-24T18:05:15.122Z"
   },
   {
    "duration": 25154,
    "start_time": "2022-07-24T18:05:15.261Z"
   },
   {
    "duration": 140,
    "start_time": "2022-07-24T18:05:40.418Z"
   },
   {
    "duration": 7093,
    "start_time": "2022-07-24T18:05:40.561Z"
   },
   {
    "duration": 133,
    "start_time": "2022-07-24T18:05:47.656Z"
   },
   {
    "duration": 39,
    "start_time": "2022-07-24T18:05:47.791Z"
   },
   {
    "duration": 28,
    "start_time": "2022-07-24T18:05:47.833Z"
   },
   {
    "duration": 141,
    "start_time": "2022-07-24T18:05:47.863Z"
   },
   {
    "duration": 23,
    "start_time": "2022-07-24T18:05:48.007Z"
   },
   {
    "duration": 301,
    "start_time": "2022-07-24T18:05:48.032Z"
   },
   {
    "duration": 90,
    "start_time": "2022-07-24T18:05:48.335Z"
   },
   {
    "duration": 205,
    "start_time": "2022-07-24T18:05:48.427Z"
   },
   {
    "duration": 149,
    "start_time": "2022-07-24T18:05:48.635Z"
   },
   {
    "duration": 167,
    "start_time": "2022-07-24T18:05:48.785Z"
   },
   {
    "duration": 51,
    "start_time": "2022-07-24T18:05:48.954Z"
   },
   {
    "duration": 131,
    "start_time": "2022-07-24T18:05:49.006Z"
   },
   {
    "duration": 192,
    "start_time": "2022-07-24T18:05:49.139Z"
   },
   {
    "duration": 19,
    "start_time": "2022-07-24T18:05:49.333Z"
   },
   {
    "duration": 933,
    "start_time": "2022-07-24T18:05:49.353Z"
   },
   {
    "duration": 552,
    "start_time": "2022-07-24T18:05:50.287Z"
   },
   {
    "duration": 3385,
    "start_time": "2022-07-24T18:05:50.841Z"
   },
   {
    "duration": 55488,
    "start_time": "2022-07-24T18:05:54.228Z"
   },
   {
    "duration": 88,
    "start_time": "2022-07-24T18:06:49.719Z"
   },
   {
    "duration": 91399,
    "start_time": "2022-07-24T18:06:49.810Z"
   },
   {
    "duration": 4,
    "start_time": "2022-07-24T18:08:21.211Z"
   },
   {
    "duration": 880,
    "start_time": "2022-07-24T18:08:21.216Z"
   },
   {
    "duration": 8,
    "start_time": "2022-07-24T18:08:22.098Z"
   },
   {
    "duration": 143,
    "start_time": "2022-07-24T18:08:22.108Z"
   },
   {
    "duration": 2590,
    "start_time": "2022-07-24T18:08:22.253Z"
   },
   {
    "duration": 171,
    "start_time": "2022-07-24T18:08:24.845Z"
   },
   {
    "duration": 3,
    "start_time": "2022-07-24T18:08:25.018Z"
   },
   {
    "duration": 1568,
    "start_time": "2022-07-24T18:08:25.023Z"
   },
   {
    "duration": 33,
    "start_time": "2022-07-24T18:09:02.555Z"
   },
   {
    "duration": 842,
    "start_time": "2022-07-24T18:12:41.056Z"
   },
   {
    "duration": 1427,
    "start_time": "2022-07-24T18:13:06.873Z"
   },
   {
    "duration": 879,
    "start_time": "2022-07-24T18:13:08.302Z"
   },
   {
    "duration": 135,
    "start_time": "2022-07-24T18:13:09.183Z"
   },
   {
    "duration": 121,
    "start_time": "2022-07-24T18:13:09.324Z"
   },
   {
    "duration": 110,
    "start_time": "2022-07-24T18:13:09.446Z"
   },
   {
    "duration": 6,
    "start_time": "2022-07-24T18:13:09.557Z"
   },
   {
    "duration": 16,
    "start_time": "2022-07-24T18:13:09.564Z"
   },
   {
    "duration": 44,
    "start_time": "2022-07-24T18:13:09.582Z"
   },
   {
    "duration": 459,
    "start_time": "2022-07-24T18:13:09.628Z"
   },
   {
    "duration": 565,
    "start_time": "2022-07-24T18:13:10.090Z"
   },
   {
    "duration": 2,
    "start_time": "2022-07-24T18:13:10.657Z"
   },
   {
    "duration": 7,
    "start_time": "2022-07-24T18:13:10.660Z"
   },
   {
    "duration": 1248,
    "start_time": "2022-07-24T18:13:10.669Z"
   },
   {
    "duration": 134,
    "start_time": "2022-07-24T18:13:11.919Z"
   },
   {
    "duration": 3073,
    "start_time": "2022-07-24T18:13:12.054Z"
   },
   {
    "duration": 134,
    "start_time": "2022-07-24T18:13:15.129Z"
   },
   {
    "duration": 27175,
    "start_time": "2022-07-24T18:13:15.265Z"
   },
   {
    "duration": 132,
    "start_time": "2022-07-24T18:13:42.441Z"
   },
   {
    "duration": 6533,
    "start_time": "2022-07-24T18:13:42.575Z"
   },
   {
    "duration": 122,
    "start_time": "2022-07-24T18:13:49.110Z"
   },
   {
    "duration": 21,
    "start_time": "2022-07-24T18:13:49.234Z"
   },
   {
    "duration": 22,
    "start_time": "2022-07-24T18:13:49.257Z"
   },
   {
    "duration": 123,
    "start_time": "2022-07-24T18:13:49.303Z"
   },
   {
    "duration": 26,
    "start_time": "2022-07-24T18:13:49.428Z"
   },
   {
    "duration": 283,
    "start_time": "2022-07-24T18:13:49.455Z"
   },
   {
    "duration": 85,
    "start_time": "2022-07-24T18:13:49.740Z"
   },
   {
    "duration": 221,
    "start_time": "2022-07-24T18:13:49.828Z"
   },
   {
    "duration": 191,
    "start_time": "2022-07-24T18:13:50.053Z"
   },
   {
    "duration": 185,
    "start_time": "2022-07-24T18:13:50.246Z"
   },
   {
    "duration": 38,
    "start_time": "2022-07-24T18:13:50.433Z"
   },
   {
    "duration": 152,
    "start_time": "2022-07-24T18:13:50.473Z"
   },
   {
    "duration": 193,
    "start_time": "2022-07-24T18:13:50.627Z"
   },
   {
    "duration": 21,
    "start_time": "2022-07-24T18:13:50.822Z"
   },
   {
    "duration": 915,
    "start_time": "2022-07-24T18:13:50.845Z"
   },
   {
    "duration": 557,
    "start_time": "2022-07-24T18:13:51.762Z"
   },
   {
    "duration": 3154,
    "start_time": "2022-07-24T18:13:52.321Z"
   },
   {
    "duration": 58835,
    "start_time": "2022-07-24T18:13:55.477Z"
   },
   {
    "duration": 90,
    "start_time": "2022-07-24T18:14:54.316Z"
   },
   {
    "duration": 76883,
    "start_time": "2022-07-24T18:14:54.408Z"
   },
   {
    "duration": 13,
    "start_time": "2022-07-24T18:16:11.293Z"
   },
   {
    "duration": 871,
    "start_time": "2022-07-24T18:16:11.308Z"
   },
   {
    "duration": 7,
    "start_time": "2022-07-24T18:16:12.181Z"
   },
   {
    "duration": 131,
    "start_time": "2022-07-24T18:16:12.190Z"
   },
   {
    "duration": 2545,
    "start_time": "2022-07-24T18:16:12.325Z"
   },
   {
    "duration": 77,
    "start_time": "2022-07-24T18:16:14.872Z"
   },
   {
    "duration": 0,
    "start_time": "2022-07-24T18:16:14.950Z"
   },
   {
    "duration": 0,
    "start_time": "2022-07-24T18:16:14.952Z"
   },
   {
    "duration": 0,
    "start_time": "2022-07-24T18:16:14.953Z"
   },
   {
    "duration": 0,
    "start_time": "2022-07-24T18:16:14.954Z"
   },
   {
    "duration": 3,
    "start_time": "2022-07-24T18:16:39.570Z"
   },
   {
    "duration": 885,
    "start_time": "2022-07-24T18:16:40.997Z"
   },
   {
    "duration": 90,
    "start_time": "2022-07-24T18:16:43.167Z"
   },
   {
    "duration": 940,
    "start_time": "2022-07-24T18:17:10.518Z"
   },
   {
    "duration": 133,
    "start_time": "2022-07-24T18:17:12.410Z"
   },
   {
    "duration": 10,
    "start_time": "2022-07-24T18:17:16.857Z"
   },
   {
    "duration": 11,
    "start_time": "2022-07-24T18:17:51.618Z"
   },
   {
    "duration": 1482,
    "start_time": "2022-07-24T18:18:27.270Z"
   },
   {
    "duration": 898,
    "start_time": "2022-07-24T18:18:28.754Z"
   },
   {
    "duration": 113,
    "start_time": "2022-07-24T18:18:29.654Z"
   },
   {
    "duration": 135,
    "start_time": "2022-07-24T18:18:29.769Z"
   },
   {
    "duration": 148,
    "start_time": "2022-07-24T18:18:29.905Z"
   },
   {
    "duration": 6,
    "start_time": "2022-07-24T18:18:30.054Z"
   },
   {
    "duration": 9,
    "start_time": "2022-07-24T18:18:30.062Z"
   },
   {
    "duration": 49,
    "start_time": "2022-07-24T18:18:30.073Z"
   },
   {
    "duration": 532,
    "start_time": "2022-07-24T18:18:30.124Z"
   },
   {
    "duration": 562,
    "start_time": "2022-07-24T18:18:30.658Z"
   },
   {
    "duration": 3,
    "start_time": "2022-07-24T18:18:31.222Z"
   },
   {
    "duration": 64,
    "start_time": "2022-07-24T18:18:31.226Z"
   },
   {
    "duration": 1158,
    "start_time": "2022-07-24T18:18:31.292Z"
   },
   {
    "duration": 122,
    "start_time": "2022-07-24T18:18:32.452Z"
   },
   {
    "duration": 2705,
    "start_time": "2022-07-24T18:18:32.576Z"
   },
   {
    "duration": 138,
    "start_time": "2022-07-24T18:18:35.283Z"
   },
   {
    "duration": 23751,
    "start_time": "2022-07-24T18:18:35.423Z"
   },
   {
    "duration": 111,
    "start_time": "2022-07-24T18:18:59.176Z"
   },
   {
    "duration": 5959,
    "start_time": "2022-07-24T18:18:59.288Z"
   },
   {
    "duration": 113,
    "start_time": "2022-07-24T18:19:05.248Z"
   },
   {
    "duration": 20,
    "start_time": "2022-07-24T18:19:05.363Z"
   },
   {
    "duration": 40,
    "start_time": "2022-07-24T18:19:05.385Z"
   },
   {
    "duration": 106,
    "start_time": "2022-07-24T18:19:05.427Z"
   },
   {
    "duration": 21,
    "start_time": "2022-07-24T18:19:05.535Z"
   },
   {
    "duration": 301,
    "start_time": "2022-07-24T18:19:05.558Z"
   },
   {
    "duration": 77,
    "start_time": "2022-07-24T18:19:05.861Z"
   },
   {
    "duration": 193,
    "start_time": "2022-07-24T18:19:05.940Z"
   },
   {
    "duration": 145,
    "start_time": "2022-07-24T18:19:06.136Z"
   },
   {
    "duration": 152,
    "start_time": "2022-07-24T18:19:06.283Z"
   },
   {
    "duration": 45,
    "start_time": "2022-07-24T18:19:06.437Z"
   },
   {
    "duration": 163,
    "start_time": "2022-07-24T18:19:06.484Z"
   },
   {
    "duration": 196,
    "start_time": "2022-07-24T18:19:06.653Z"
   },
   {
    "duration": 25,
    "start_time": "2022-07-24T18:19:06.851Z"
   },
   {
    "duration": 859,
    "start_time": "2022-07-24T18:19:06.878Z"
   },
   {
    "duration": 568,
    "start_time": "2022-07-24T18:19:07.739Z"
   },
   {
    "duration": 2904,
    "start_time": "2022-07-24T18:19:08.309Z"
   },
   {
    "duration": 23190,
    "start_time": "2022-07-24T18:19:11.214Z"
   },
   {
    "duration": 4,
    "start_time": "2022-07-24T18:19:34.406Z"
   },
   {
    "duration": 30855,
    "start_time": "2022-07-24T18:19:34.411Z"
   },
   {
    "duration": 0,
    "start_time": "2022-07-24T18:20:05.267Z"
   },
   {
    "duration": 0,
    "start_time": "2022-07-24T18:20:05.269Z"
   },
   {
    "duration": 0,
    "start_time": "2022-07-24T18:20:05.269Z"
   },
   {
    "duration": 0,
    "start_time": "2022-07-24T18:20:05.270Z"
   },
   {
    "duration": 0,
    "start_time": "2022-07-24T18:20:05.271Z"
   },
   {
    "duration": 0,
    "start_time": "2022-07-24T18:20:05.272Z"
   },
   {
    "duration": 0,
    "start_time": "2022-07-24T18:20:05.273Z"
   },
   {
    "duration": 0,
    "start_time": "2022-07-24T18:20:05.274Z"
   },
   {
    "duration": 0,
    "start_time": "2022-07-24T18:20:05.275Z"
   },
   {
    "duration": 0,
    "start_time": "2022-07-24T18:20:05.277Z"
   },
   {
    "duration": 3929,
    "start_time": "2022-07-24T18:20:10.437Z"
   },
   {
    "duration": 1064,
    "start_time": "2022-07-24T18:20:44.622Z"
   },
   {
    "duration": 23,
    "start_time": "2022-07-24T18:20:49.601Z"
   },
   {
    "duration": 42,
    "start_time": "2022-07-24T18:20:56.986Z"
   },
   {
    "duration": 115,
    "start_time": "2022-07-24T18:21:04.572Z"
   },
   {
    "duration": 12820,
    "start_time": "2022-07-24T18:21:11.108Z"
   },
   {
    "duration": 1472,
    "start_time": "2022-07-24T18:22:41.551Z"
   },
   {
    "duration": 842,
    "start_time": "2022-07-24T18:22:43.024Z"
   },
   {
    "duration": 138,
    "start_time": "2022-07-24T18:22:43.867Z"
   },
   {
    "duration": 153,
    "start_time": "2022-07-24T18:22:44.007Z"
   },
   {
    "duration": 113,
    "start_time": "2022-07-24T18:22:44.162Z"
   },
   {
    "duration": 6,
    "start_time": "2022-07-24T18:22:44.276Z"
   },
   {
    "duration": 24,
    "start_time": "2022-07-24T18:22:44.284Z"
   },
   {
    "duration": 35,
    "start_time": "2022-07-24T18:22:44.310Z"
   },
   {
    "duration": 525,
    "start_time": "2022-07-24T18:22:44.347Z"
   },
   {
    "duration": 581,
    "start_time": "2022-07-24T18:22:44.876Z"
   },
   {
    "duration": 2,
    "start_time": "2022-07-24T18:22:45.459Z"
   },
   {
    "duration": 7,
    "start_time": "2022-07-24T18:22:45.463Z"
   },
   {
    "duration": 1134,
    "start_time": "2022-07-24T18:22:45.471Z"
   },
   {
    "duration": 219,
    "start_time": "2022-07-24T18:22:46.608Z"
   },
   {
    "duration": 2766,
    "start_time": "2022-07-24T18:22:46.829Z"
   },
   {
    "duration": 130,
    "start_time": "2022-07-24T18:22:49.604Z"
   },
   {
    "duration": 23958,
    "start_time": "2022-07-24T18:22:49.737Z"
   },
   {
    "duration": 111,
    "start_time": "2022-07-24T18:23:13.703Z"
   },
   {
    "duration": 6185,
    "start_time": "2022-07-24T18:23:13.816Z"
   },
   {
    "duration": 114,
    "start_time": "2022-07-24T18:23:20.005Z"
   },
   {
    "duration": 32,
    "start_time": "2022-07-24T18:23:20.121Z"
   },
   {
    "duration": 38,
    "start_time": "2022-07-24T18:23:20.156Z"
   },
   {
    "duration": 118,
    "start_time": "2022-07-24T18:23:20.204Z"
   },
   {
    "duration": 22,
    "start_time": "2022-07-24T18:23:20.325Z"
   },
   {
    "duration": 287,
    "start_time": "2022-07-24T18:23:20.349Z"
   },
   {
    "duration": 80,
    "start_time": "2022-07-24T18:23:20.638Z"
   },
   {
    "duration": 199,
    "start_time": "2022-07-24T18:23:20.720Z"
   },
   {
    "duration": 147,
    "start_time": "2022-07-24T18:23:20.922Z"
   },
   {
    "duration": 165,
    "start_time": "2022-07-24T18:23:21.071Z"
   },
   {
    "duration": 37,
    "start_time": "2022-07-24T18:23:21.237Z"
   },
   {
    "duration": 122,
    "start_time": "2022-07-24T18:23:21.276Z"
   },
   {
    "duration": 182,
    "start_time": "2022-07-24T18:23:21.403Z"
   },
   {
    "duration": 25,
    "start_time": "2022-07-24T18:23:21.587Z"
   },
   {
    "duration": 883,
    "start_time": "2022-07-24T18:23:21.614Z"
   },
   {
    "duration": 554,
    "start_time": "2022-07-24T18:23:22.499Z"
   },
   {
    "duration": 3035,
    "start_time": "2022-07-24T18:23:23.055Z"
   },
   {
    "duration": 26217,
    "start_time": "2022-07-24T18:23:26.092Z"
   },
   {
    "duration": 94,
    "start_time": "2022-07-24T18:23:52.311Z"
   },
   {
    "duration": 75523,
    "start_time": "2022-07-24T18:23:52.408Z"
   },
   {
    "duration": 3,
    "start_time": "2022-07-24T18:25:07.933Z"
   },
   {
    "duration": 791,
    "start_time": "2022-07-24T18:25:07.938Z"
   },
   {
    "duration": 5,
    "start_time": "2022-07-24T18:25:08.733Z"
   },
   {
    "duration": 127,
    "start_time": "2022-07-24T18:25:08.740Z"
   },
   {
    "duration": 2543,
    "start_time": "2022-07-24T18:25:08.869Z"
   },
   {
    "duration": 3,
    "start_time": "2022-07-24T18:25:11.414Z"
   },
   {
    "duration": 992,
    "start_time": "2022-07-24T18:25:11.418Z"
   },
   {
    "duration": 21,
    "start_time": "2022-07-24T18:25:12.411Z"
   },
   {
    "duration": 103,
    "start_time": "2022-07-24T18:25:12.433Z"
   },
   {
    "duration": 3,
    "start_time": "2022-07-24T18:25:12.537Z"
   },
   {
    "duration": 34668,
    "start_time": "2022-07-24T18:25:12.542Z"
   },
   {
    "duration": 206109,
    "start_time": "2022-07-24T18:28:57.008Z"
   },
   {
    "duration": 0,
    "start_time": "2022-07-24T18:32:23.120Z"
   },
   {
    "duration": 41,
    "start_time": "2022-07-24T18:32:28.640Z"
   },
   {
    "duration": 28,
    "start_time": "2022-07-24T18:32:31.223Z"
   },
   {
    "duration": 81,
    "start_time": "2022-07-24T18:32:35.540Z"
   },
   {
    "duration": 6923,
    "start_time": "2022-07-24T18:32:38.110Z"
   },
   {
    "duration": 280479,
    "start_time": "2022-07-24T18:37:53.950Z"
   },
   {
    "duration": 12,
    "start_time": "2022-07-24T18:58:28.894Z"
   },
   {
    "duration": 12704,
    "start_time": "2022-07-24T18:59:09.626Z"
   },
   {
    "duration": 15214,
    "start_time": "2022-07-24T18:59:35.919Z"
   },
   {
    "duration": 2159,
    "start_time": "2022-07-24T19:05:14.256Z"
   },
   {
    "duration": 1476,
    "start_time": "2022-07-24T19:05:56.227Z"
   },
   {
    "duration": 888,
    "start_time": "2022-07-24T19:05:57.705Z"
   },
   {
    "duration": 141,
    "start_time": "2022-07-24T19:05:58.595Z"
   },
   {
    "duration": 135,
    "start_time": "2022-07-24T19:05:58.739Z"
   },
   {
    "duration": 112,
    "start_time": "2022-07-24T19:05:58.876Z"
   },
   {
    "duration": 15,
    "start_time": "2022-07-24T19:05:58.989Z"
   },
   {
    "duration": 28,
    "start_time": "2022-07-24T19:05:59.006Z"
   },
   {
    "duration": 505,
    "start_time": "2022-07-24T19:05:59.036Z"
   },
   {
    "duration": 529,
    "start_time": "2022-07-24T19:05:59.543Z"
   },
   {
    "duration": 136,
    "start_time": "2022-07-24T19:06:00.075Z"
   },
   {
    "duration": 32,
    "start_time": "2022-07-24T19:06:00.213Z"
   },
   {
    "duration": 75,
    "start_time": "2022-07-24T19:06:00.247Z"
   },
   {
    "duration": 2,
    "start_time": "2022-07-24T19:06:00.324Z"
   },
   {
    "duration": 27,
    "start_time": "2022-07-24T19:06:00.328Z"
   },
   {
    "duration": 1050,
    "start_time": "2022-07-24T19:06:00.357Z"
   },
   {
    "duration": 111,
    "start_time": "2022-07-24T19:06:01.409Z"
   },
   {
    "duration": 2044,
    "start_time": "2022-07-24T19:06:01.522Z"
   },
   {
    "duration": 105,
    "start_time": "2022-07-24T19:06:03.568Z"
   },
   {
    "duration": 20501,
    "start_time": "2022-07-24T19:06:03.675Z"
   },
   {
    "duration": 104,
    "start_time": "2022-07-24T19:06:24.178Z"
   },
   {
    "duration": 5421,
    "start_time": "2022-07-24T19:06:24.284Z"
   },
   {
    "duration": 118,
    "start_time": "2022-07-24T19:06:29.707Z"
   },
   {
    "duration": 19,
    "start_time": "2022-07-24T19:06:29.827Z"
   },
   {
    "duration": 30,
    "start_time": "2022-07-24T19:06:29.848Z"
   },
   {
    "duration": 134,
    "start_time": "2022-07-24T19:06:29.881Z"
   },
   {
    "duration": 252,
    "start_time": "2022-07-24T19:06:30.017Z"
   },
   {
    "duration": 82,
    "start_time": "2022-07-24T19:06:30.271Z"
   },
   {
    "duration": 290,
    "start_time": "2022-07-24T19:06:30.357Z"
   },
   {
    "duration": 141,
    "start_time": "2022-07-24T19:06:30.648Z"
   },
   {
    "duration": 961,
    "start_time": "2022-07-24T19:06:30.791Z"
   },
   {
    "duration": 554,
    "start_time": "2022-07-24T19:06:31.754Z"
   },
   {
    "duration": 3056,
    "start_time": "2022-07-24T19:06:32.310Z"
   },
   {
    "duration": 23141,
    "start_time": "2022-07-24T19:06:35.368Z"
   },
   {
    "duration": 3,
    "start_time": "2022-07-24T19:06:58.512Z"
   },
   {
    "duration": 76878,
    "start_time": "2022-07-24T19:06:58.603Z"
   },
   {
    "duration": 2,
    "start_time": "2022-07-24T19:08:15.483Z"
   },
   {
    "duration": 888,
    "start_time": "2022-07-24T19:08:15.487Z"
   },
   {
    "duration": 4,
    "start_time": "2022-07-24T19:08:16.377Z"
   },
   {
    "duration": 109,
    "start_time": "2022-07-24T19:08:16.382Z"
   },
   {
    "duration": 2370,
    "start_time": "2022-07-24T19:08:16.493Z"
   },
   {
    "duration": 156,
    "start_time": "2022-07-24T19:08:18.865Z"
   },
   {
    "duration": 25,
    "start_time": "2022-07-24T19:08:19.023Z"
   },
   {
    "duration": 83,
    "start_time": "2022-07-24T19:08:19.050Z"
   },
   {
    "duration": 152985,
    "start_time": "2022-07-24T19:08:19.135Z"
   },
   {
    "duration": 16199,
    "start_time": "2022-07-24T19:10:52.121Z"
   },
   {
    "duration": 1527,
    "start_time": "2022-07-25T09:01:15.595Z"
   },
   {
    "duration": 3135,
    "start_time": "2022-07-25T09:01:17.124Z"
   },
   {
    "duration": 101,
    "start_time": "2022-07-25T09:01:20.260Z"
   },
   {
    "duration": 99,
    "start_time": "2022-07-25T09:01:20.363Z"
   },
   {
    "duration": 76,
    "start_time": "2022-07-25T09:01:20.464Z"
   },
   {
    "duration": 11,
    "start_time": "2022-07-25T09:01:20.542Z"
   },
   {
    "duration": 8,
    "start_time": "2022-07-25T09:01:20.555Z"
   },
   {
    "duration": 435,
    "start_time": "2022-07-25T09:01:20.565Z"
   },
   {
    "duration": 439,
    "start_time": "2022-07-25T09:01:21.001Z"
   },
   {
    "duration": 103,
    "start_time": "2022-07-25T09:01:21.443Z"
   },
   {
    "duration": 26,
    "start_time": "2022-07-25T09:01:21.552Z"
   },
   {
    "duration": 50,
    "start_time": "2022-07-25T09:01:21.579Z"
   },
   {
    "duration": 3,
    "start_time": "2022-07-25T09:01:21.630Z"
   },
   {
    "duration": 19,
    "start_time": "2022-07-25T09:01:21.634Z"
   },
   {
    "duration": 986,
    "start_time": "2022-07-25T09:01:21.655Z"
   },
   {
    "duration": 93,
    "start_time": "2022-07-25T09:01:22.643Z"
   },
   {
    "duration": 1930,
    "start_time": "2022-07-25T09:01:22.738Z"
   },
   {
    "duration": 104,
    "start_time": "2022-07-25T09:01:24.670Z"
   },
   {
    "duration": 17996,
    "start_time": "2022-07-25T09:01:24.776Z"
   },
   {
    "duration": 91,
    "start_time": "2022-07-25T09:01:42.773Z"
   },
   {
    "duration": 4599,
    "start_time": "2022-07-25T09:01:42.866Z"
   },
   {
    "duration": 96,
    "start_time": "2022-07-25T09:01:47.467Z"
   },
   {
    "duration": 17,
    "start_time": "2022-07-25T09:01:47.565Z"
   },
   {
    "duration": 23,
    "start_time": "2022-07-25T09:01:47.584Z"
   },
   {
    "duration": 107,
    "start_time": "2022-07-25T09:01:47.608Z"
   },
   {
    "duration": 204,
    "start_time": "2022-07-25T09:01:47.716Z"
   },
   {
    "duration": 70,
    "start_time": "2022-07-25T09:01:47.921Z"
   },
   {
    "duration": 169,
    "start_time": "2022-07-25T09:01:47.995Z"
   },
   {
    "duration": 135,
    "start_time": "2022-07-25T09:01:48.166Z"
   },
   {
    "duration": 834,
    "start_time": "2022-07-25T09:01:48.302Z"
   },
   {
    "duration": 527,
    "start_time": "2022-07-25T09:01:49.137Z"
   },
   {
    "duration": 2841,
    "start_time": "2022-07-25T09:01:49.665Z"
   },
   {
    "duration": 19947,
    "start_time": "2022-07-25T09:01:52.508Z"
   },
   {
    "duration": 80846,
    "start_time": "2022-07-25T09:02:12.456Z"
   },
   {
    "duration": 3,
    "start_time": "2022-07-25T09:03:33.303Z"
   },
   {
    "duration": 729,
    "start_time": "2022-07-25T09:03:33.307Z"
   },
   {
    "duration": 3,
    "start_time": "2022-07-25T09:03:34.037Z"
   },
   {
    "duration": 105,
    "start_time": "2022-07-25T09:03:34.052Z"
   },
   {
    "duration": 18635,
    "start_time": "2022-07-25T09:03:34.159Z"
   },
   {
    "duration": 0,
    "start_time": "2022-07-25T09:03:52.796Z"
   },
   {
    "duration": 0,
    "start_time": "2022-07-25T09:03:52.797Z"
   },
   {
    "duration": 0,
    "start_time": "2022-07-25T09:03:52.798Z"
   },
   {
    "duration": 0,
    "start_time": "2022-07-25T09:03:52.799Z"
   },
   {
    "duration": 0,
    "start_time": "2022-07-25T09:03:52.800Z"
   },
   {
    "duration": 0,
    "start_time": "2022-07-25T09:03:52.801Z"
   },
   {
    "duration": 33,
    "start_time": "2022-07-25T09:09:00.121Z"
   },
   {
    "duration": 18637,
    "start_time": "2022-07-25T09:09:09.280Z"
   },
   {
    "duration": 17940,
    "start_time": "2022-07-25T09:11:44.809Z"
   },
   {
    "duration": 11,
    "start_time": "2022-07-25T09:13:50.836Z"
   },
   {
    "duration": 12,
    "start_time": "2022-07-25T09:14:06.041Z"
   },
   {
    "duration": 10,
    "start_time": "2022-07-25T09:14:30.258Z"
   },
   {
    "duration": 12,
    "start_time": "2022-07-25T09:16:07.828Z"
   },
   {
    "duration": 2243,
    "start_time": "2022-07-25T09:16:20.125Z"
   },
   {
    "duration": 11,
    "start_time": "2022-07-25T09:16:45.602Z"
   },
   {
    "duration": 363928,
    "start_time": "2022-07-25T09:17:24.790Z"
   },
   {
    "duration": 75,
    "start_time": "2022-07-25T09:23:39.059Z"
   },
   {
    "duration": 0,
    "start_time": "2022-07-25T09:24:32.600Z"
   },
   {
    "duration": 21487,
    "start_time": "2022-07-25T09:24:35.173Z"
   },
   {
    "duration": 81,
    "start_time": "2022-07-25T09:26:46.957Z"
   },
   {
    "duration": 24225,
    "start_time": "2022-07-25T09:27:17.264Z"
   },
   {
    "duration": 1005720,
    "start_time": "2022-07-25T09:27:43.106Z"
   },
   {
    "duration": 170,
    "start_time": "2022-07-25T09:44:41.958Z"
   },
   {
    "duration": 91,
    "start_time": "2022-07-25T09:44:50.146Z"
   },
   {
    "duration": 148906,
    "start_time": "2022-07-25T09:46:09.011Z"
   },
   {
    "duration": 339842,
    "start_time": "2022-07-25T09:55:11.068Z"
   },
   {
    "duration": 83512,
    "start_time": "2022-07-25T10:00:52.674Z"
   },
   {
    "duration": 1377,
    "start_time": "2022-07-25T10:03:11.911Z"
   },
   {
    "duration": 752,
    "start_time": "2022-07-25T10:03:13.289Z"
   },
   {
    "duration": 130,
    "start_time": "2022-07-25T10:03:14.043Z"
   },
   {
    "duration": 111,
    "start_time": "2022-07-25T10:03:14.177Z"
   },
   {
    "duration": 96,
    "start_time": "2022-07-25T10:03:14.289Z"
   },
   {
    "duration": 5,
    "start_time": "2022-07-25T10:03:14.386Z"
   },
   {
    "duration": 9,
    "start_time": "2022-07-25T10:03:14.393Z"
   },
   {
    "duration": 458,
    "start_time": "2022-07-25T10:03:14.403Z"
   },
   {
    "duration": 479,
    "start_time": "2022-07-25T10:03:14.863Z"
   },
   {
    "duration": 124,
    "start_time": "2022-07-25T10:03:15.344Z"
   },
   {
    "duration": 30,
    "start_time": "2022-07-25T10:03:15.469Z"
   },
   {
    "duration": 64,
    "start_time": "2022-07-25T10:03:15.501Z"
   },
   {
    "duration": 6,
    "start_time": "2022-07-25T10:03:15.567Z"
   },
   {
    "duration": 5,
    "start_time": "2022-07-25T10:03:15.575Z"
   },
   {
    "duration": 1151,
    "start_time": "2022-07-25T10:03:15.581Z"
   },
   {
    "duration": 103,
    "start_time": "2022-07-25T10:03:16.734Z"
   },
   {
    "duration": 2115,
    "start_time": "2022-07-25T10:03:16.839Z"
   },
   {
    "duration": 111,
    "start_time": "2022-07-25T10:03:18.956Z"
   },
   {
    "duration": 19618,
    "start_time": "2022-07-25T10:03:19.069Z"
   },
   {
    "duration": 113,
    "start_time": "2022-07-25T10:03:38.689Z"
   },
   {
    "duration": 5038,
    "start_time": "2022-07-25T10:03:38.804Z"
   },
   {
    "duration": 93,
    "start_time": "2022-07-25T10:03:43.844Z"
   },
   {
    "duration": 25,
    "start_time": "2022-07-25T10:03:43.938Z"
   },
   {
    "duration": 20,
    "start_time": "2022-07-25T10:03:43.967Z"
   },
   {
    "duration": 111,
    "start_time": "2022-07-25T10:03:43.989Z"
   },
   {
    "duration": 215,
    "start_time": "2022-07-25T10:03:44.101Z"
   },
   {
    "duration": 78,
    "start_time": "2022-07-25T10:03:44.318Z"
   },
   {
    "duration": 175,
    "start_time": "2022-07-25T10:03:44.399Z"
   },
   {
    "duration": 130,
    "start_time": "2022-07-25T10:03:44.576Z"
   },
   {
    "duration": 832,
    "start_time": "2022-07-25T10:03:44.707Z"
   },
   {
    "duration": 535,
    "start_time": "2022-07-25T10:03:45.541Z"
   },
   {
    "duration": 2844,
    "start_time": "2022-07-25T10:03:46.081Z"
   },
   {
    "duration": 58226,
    "start_time": "2022-07-25T10:03:48.927Z"
   },
   {
    "duration": 71707,
    "start_time": "2022-07-25T10:04:47.158Z"
   },
   {
    "duration": 3,
    "start_time": "2022-07-25T10:05:58.867Z"
   },
   {
    "duration": 793,
    "start_time": "2022-07-25T10:05:58.871Z"
   },
   {
    "duration": 4,
    "start_time": "2022-07-25T10:05:59.666Z"
   },
   {
    "duration": 122,
    "start_time": "2022-07-25T10:05:59.671Z"
   },
   {
    "duration": 1447206,
    "start_time": "2022-07-25T10:05:59.795Z"
   },
   {
    "duration": 2770,
    "start_time": "2022-07-25T10:30:07.003Z"
   },
   {
    "duration": 149,
    "start_time": "2022-07-25T10:30:09.775Z"
   },
   {
    "duration": 27,
    "start_time": "2022-07-25T10:30:09.926Z"
   },
   {
    "duration": 75,
    "start_time": "2022-07-25T10:30:09.959Z"
   },
   {
    "duration": 6242054,
    "start_time": "2022-07-25T10:30:10.036Z"
   },
   {
    "duration": 380697,
    "start_time": "2022-07-25T12:14:12.092Z"
   },
   {
    "duration": 6,
    "start_time": "2022-07-25T12:20:32.792Z"
   },
   {
    "duration": 5,
    "start_time": "2022-07-25T12:27:07.960Z"
   },
   {
    "duration": 17927,
    "start_time": "2022-07-25T12:27:13.779Z"
   },
   {
    "duration": 114,
    "start_time": "2022-07-25T13:23:33.469Z"
   },
   {
    "duration": 126,
    "start_time": "2022-07-25T13:23:57.977Z"
   },
   {
    "duration": 11,
    "start_time": "2022-07-25T13:24:16.026Z"
   },
   {
    "duration": 86,
    "start_time": "2022-07-26T11:32:21.754Z"
   },
   {
    "duration": 1767,
    "start_time": "2022-07-26T11:32:30.625Z"
   },
   {
    "duration": 1188,
    "start_time": "2022-07-26T11:32:32.395Z"
   },
   {
    "duration": 128,
    "start_time": "2022-07-26T11:32:33.584Z"
   },
   {
    "duration": 147,
    "start_time": "2022-07-26T11:32:33.715Z"
   },
   {
    "duration": 116,
    "start_time": "2022-07-26T11:32:33.864Z"
   },
   {
    "duration": 8,
    "start_time": "2022-07-26T11:32:33.981Z"
   },
   {
    "duration": 25,
    "start_time": "2022-07-26T11:32:33.991Z"
   },
   {
    "duration": 493,
    "start_time": "2022-07-26T11:32:34.017Z"
   },
   {
    "duration": 503,
    "start_time": "2022-07-26T11:32:34.512Z"
   },
   {
    "duration": 24,
    "start_time": "2022-07-26T11:32:35.018Z"
   },
   {
    "duration": 122,
    "start_time": "2022-07-26T11:32:35.044Z"
   },
   {
    "duration": 39,
    "start_time": "2022-07-26T11:32:35.169Z"
   },
   {
    "duration": 80,
    "start_time": "2022-07-26T11:32:35.210Z"
   },
   {
    "duration": 3,
    "start_time": "2022-07-26T11:32:35.292Z"
   },
   {
    "duration": 51,
    "start_time": "2022-07-26T11:32:35.297Z"
   },
   {
    "duration": 1130,
    "start_time": "2022-07-26T11:32:35.350Z"
   },
   {
    "duration": 215,
    "start_time": "2022-07-26T11:32:36.483Z"
   },
   {
    "duration": 1984,
    "start_time": "2022-07-26T11:32:36.701Z"
   },
   {
    "duration": 11885,
    "start_time": "2022-07-26T11:32:38.687Z"
   },
   {
    "duration": 0,
    "start_time": "2022-07-26T11:32:50.574Z"
   },
   {
    "duration": 0,
    "start_time": "2022-07-26T11:32:50.575Z"
   },
   {
    "duration": 0,
    "start_time": "2022-07-26T11:32:50.576Z"
   },
   {
    "duration": 0,
    "start_time": "2022-07-26T11:32:50.577Z"
   },
   {
    "duration": 0,
    "start_time": "2022-07-26T11:32:50.578Z"
   },
   {
    "duration": 0,
    "start_time": "2022-07-26T11:32:50.579Z"
   },
   {
    "duration": 0,
    "start_time": "2022-07-26T11:32:50.580Z"
   },
   {
    "duration": 0,
    "start_time": "2022-07-26T11:32:50.582Z"
   },
   {
    "duration": 0,
    "start_time": "2022-07-26T11:32:50.583Z"
   },
   {
    "duration": 0,
    "start_time": "2022-07-26T11:32:50.584Z"
   },
   {
    "duration": 0,
    "start_time": "2022-07-26T11:32:50.585Z"
   },
   {
    "duration": 0,
    "start_time": "2022-07-26T11:32:50.587Z"
   },
   {
    "duration": 0,
    "start_time": "2022-07-26T11:32:50.588Z"
   },
   {
    "duration": 0,
    "start_time": "2022-07-26T11:32:50.589Z"
   },
   {
    "duration": 0,
    "start_time": "2022-07-26T11:32:50.590Z"
   },
   {
    "duration": 0,
    "start_time": "2022-07-26T11:32:50.591Z"
   },
   {
    "duration": 0,
    "start_time": "2022-07-26T11:32:50.592Z"
   },
   {
    "duration": 0,
    "start_time": "2022-07-26T11:32:50.594Z"
   },
   {
    "duration": 0,
    "start_time": "2022-07-26T11:32:50.595Z"
   },
   {
    "duration": 0,
    "start_time": "2022-07-26T11:32:50.596Z"
   },
   {
    "duration": 0,
    "start_time": "2022-07-26T11:32:50.597Z"
   },
   {
    "duration": 0,
    "start_time": "2022-07-26T11:32:50.598Z"
   },
   {
    "duration": 0,
    "start_time": "2022-07-26T11:32:50.599Z"
   },
   {
    "duration": 0,
    "start_time": "2022-07-26T11:32:50.600Z"
   },
   {
    "duration": 28,
    "start_time": "2022-07-26T11:34:03.324Z"
   },
   {
    "duration": 21,
    "start_time": "2022-07-26T11:34:17.777Z"
   },
   {
    "duration": 19004,
    "start_time": "2022-07-26T11:35:24.532Z"
   },
   {
    "duration": 1781,
    "start_time": "2022-07-28T14:06:08.737Z"
   },
   {
    "duration": 1254,
    "start_time": "2022-07-28T14:06:10.522Z"
   },
   {
    "duration": 121,
    "start_time": "2022-07-28T14:06:11.778Z"
   },
   {
    "duration": 142,
    "start_time": "2022-07-28T14:06:11.901Z"
   },
   {
    "duration": 114,
    "start_time": "2022-07-28T14:06:12.045Z"
   },
   {
    "duration": 6,
    "start_time": "2022-07-28T14:06:12.161Z"
   },
   {
    "duration": 9,
    "start_time": "2022-07-28T14:06:12.168Z"
   },
   {
    "duration": 559,
    "start_time": "2022-07-28T14:06:12.179Z"
   },
   {
    "duration": 535,
    "start_time": "2022-07-28T14:06:12.740Z"
   },
   {
    "duration": 27,
    "start_time": "2022-07-28T14:06:13.279Z"
   },
   {
    "duration": 141,
    "start_time": "2022-07-28T14:06:13.308Z"
   },
   {
    "duration": 30,
    "start_time": "2022-07-28T14:06:13.452Z"
   },
   {
    "duration": 78,
    "start_time": "2022-07-28T14:06:13.484Z"
   },
   {
    "duration": 3,
    "start_time": "2022-07-28T14:06:13.564Z"
   },
   {
    "duration": 6,
    "start_time": "2022-07-28T14:06:13.568Z"
   },
   {
    "duration": 1161,
    "start_time": "2022-07-28T14:06:13.576Z"
   },
   {
    "duration": 116,
    "start_time": "2022-07-28T14:06:14.739Z"
   },
   {
    "duration": 2313,
    "start_time": "2022-07-28T14:06:14.857Z"
   },
   {
    "duration": 21318,
    "start_time": "2022-07-28T14:06:17.172Z"
   },
   {
    "duration": 5659,
    "start_time": "2022-07-28T14:06:38.492Z"
   },
   {
    "duration": 20,
    "start_time": "2022-07-28T14:06:44.152Z"
   },
   {
    "duration": 23,
    "start_time": "2022-07-28T14:06:44.174Z"
   },
   {
    "duration": 133,
    "start_time": "2022-07-28T14:06:44.200Z"
   },
   {
    "duration": 225,
    "start_time": "2022-07-28T14:06:44.334Z"
   },
   {
    "duration": 77,
    "start_time": "2022-07-28T14:06:44.561Z"
   },
   {
    "duration": 198,
    "start_time": "2022-07-28T14:06:44.639Z"
   },
   {
    "duration": 144,
    "start_time": "2022-07-28T14:06:44.839Z"
   },
   {
    "duration": 850,
    "start_time": "2022-07-28T14:06:44.986Z"
   },
   {
    "duration": 547,
    "start_time": "2022-07-28T14:06:45.837Z"
   },
   {
    "duration": 4398,
    "start_time": "2022-07-28T14:06:46.386Z"
   },
   {
    "duration": 46839,
    "start_time": "2022-07-28T14:06:50.786Z"
   },
   {
    "duration": 129560,
    "start_time": "2022-07-28T14:07:37.634Z"
   },
   {
    "duration": 4,
    "start_time": "2022-07-28T14:09:47.195Z"
   },
   {
    "duration": 792,
    "start_time": "2022-07-28T14:09:47.200Z"
   },
   {
    "duration": 113,
    "start_time": "2022-07-28T14:09:47.994Z"
   },
   {
    "duration": 1827,
    "start_time": "2022-07-28T14:20:58.642Z"
   },
   {
    "duration": 1558,
    "start_time": "2022-07-28T14:21:00.471Z"
   },
   {
    "duration": 160,
    "start_time": "2022-07-28T14:21:02.031Z"
   },
   {
    "duration": 157,
    "start_time": "2022-07-28T14:21:02.194Z"
   },
   {
    "duration": 114,
    "start_time": "2022-07-28T14:21:02.353Z"
   },
   {
    "duration": 6,
    "start_time": "2022-07-28T14:21:02.468Z"
   },
   {
    "duration": 13,
    "start_time": "2022-07-28T14:21:02.476Z"
   },
   {
    "duration": 567,
    "start_time": "2022-07-28T14:21:02.491Z"
   },
   {
    "duration": 543,
    "start_time": "2022-07-28T14:21:03.060Z"
   },
   {
    "duration": 44,
    "start_time": "2022-07-28T14:21:03.607Z"
   },
   {
    "duration": 71,
    "start_time": "2022-07-28T14:21:03.654Z"
   },
   {
    "duration": 53,
    "start_time": "2022-07-28T14:21:03.727Z"
   },
   {
    "duration": 177,
    "start_time": "2022-07-28T14:21:03.782Z"
   },
   {
    "duration": 34,
    "start_time": "2022-07-28T14:21:03.961Z"
   },
   {
    "duration": 76,
    "start_time": "2022-07-28T14:21:03.997Z"
   },
   {
    "duration": 3,
    "start_time": "2022-07-28T14:21:04.075Z"
   },
   {
    "duration": 8,
    "start_time": "2022-07-28T14:21:04.080Z"
   },
   {
    "duration": 1229,
    "start_time": "2022-07-28T14:21:04.089Z"
   },
   {
    "duration": 132,
    "start_time": "2022-07-28T14:21:05.322Z"
   },
   {
    "duration": 2323,
    "start_time": "2022-07-28T14:21:05.456Z"
   },
   {
    "duration": 22829,
    "start_time": "2022-07-28T14:21:07.781Z"
   },
   {
    "duration": 5853,
    "start_time": "2022-07-28T14:21:30.613Z"
   },
   {
    "duration": 21,
    "start_time": "2022-07-28T14:21:36.468Z"
   },
   {
    "duration": 32,
    "start_time": "2022-07-28T14:21:36.491Z"
   },
   {
    "duration": 135,
    "start_time": "2022-07-28T14:21:36.525Z"
   },
   {
    "duration": 237,
    "start_time": "2022-07-28T14:21:36.662Z"
   },
   {
    "duration": 91,
    "start_time": "2022-07-28T14:21:36.901Z"
   },
   {
    "duration": 195,
    "start_time": "2022-07-28T14:21:36.996Z"
   },
   {
    "duration": 145,
    "start_time": "2022-07-28T14:21:37.193Z"
   },
   {
    "duration": 827,
    "start_time": "2022-07-28T14:21:37.349Z"
   },
   {
    "duration": 615,
    "start_time": "2022-07-28T14:21:38.178Z"
   },
   {
    "duration": 3333,
    "start_time": "2022-07-28T14:21:38.795Z"
   },
   {
    "duration": 1694,
    "start_time": "2022-07-28T14:23:10.769Z"
   },
   {
    "duration": 926,
    "start_time": "2022-07-28T14:23:12.465Z"
   },
   {
    "duration": 145,
    "start_time": "2022-07-28T14:23:13.393Z"
   },
   {
    "duration": 127,
    "start_time": "2022-07-28T14:23:13.544Z"
   },
   {
    "duration": 109,
    "start_time": "2022-07-28T14:23:13.673Z"
   },
   {
    "duration": 5,
    "start_time": "2022-07-28T14:23:13.784Z"
   },
   {
    "duration": 12,
    "start_time": "2022-07-28T14:23:13.791Z"
   },
   {
    "duration": 542,
    "start_time": "2022-07-28T14:23:13.805Z"
   },
   {
    "duration": 505,
    "start_time": "2022-07-28T14:23:14.349Z"
   },
   {
    "duration": 23,
    "start_time": "2022-07-28T14:23:14.857Z"
   },
   {
    "duration": 23,
    "start_time": "2022-07-28T14:23:14.882Z"
   },
   {
    "duration": 56,
    "start_time": "2022-07-28T14:23:14.906Z"
   },
   {
    "duration": 136,
    "start_time": "2022-07-28T14:23:14.964Z"
   },
   {
    "duration": 36,
    "start_time": "2022-07-28T14:23:15.101Z"
   },
   {
    "duration": 65,
    "start_time": "2022-07-28T14:23:15.138Z"
   },
   {
    "duration": 3,
    "start_time": "2022-07-28T14:23:15.205Z"
   },
   {
    "duration": 31,
    "start_time": "2022-07-28T14:23:15.210Z"
   },
   {
    "duration": 1164,
    "start_time": "2022-07-28T14:23:15.243Z"
   },
   {
    "duration": 134,
    "start_time": "2022-07-28T14:23:16.409Z"
   },
   {
    "duration": 2262,
    "start_time": "2022-07-28T14:23:16.545Z"
   },
   {
    "duration": 11510,
    "start_time": "2022-07-28T14:23:18.809Z"
   },
   {
    "duration": 0,
    "start_time": "2022-07-28T14:23:30.321Z"
   },
   {
    "duration": 0,
    "start_time": "2022-07-28T14:23:30.322Z"
   },
   {
    "duration": 0,
    "start_time": "2022-07-28T14:23:30.323Z"
   },
   {
    "duration": 0,
    "start_time": "2022-07-28T14:23:30.323Z"
   },
   {
    "duration": 0,
    "start_time": "2022-07-28T14:23:30.324Z"
   },
   {
    "duration": 0,
    "start_time": "2022-07-28T14:23:30.327Z"
   },
   {
    "duration": 0,
    "start_time": "2022-07-28T14:23:30.328Z"
   },
   {
    "duration": 0,
    "start_time": "2022-07-28T14:23:30.329Z"
   },
   {
    "duration": 0,
    "start_time": "2022-07-28T14:23:30.330Z"
   },
   {
    "duration": 0,
    "start_time": "2022-07-28T14:23:30.330Z"
   },
   {
    "duration": 0,
    "start_time": "2022-07-28T14:23:30.331Z"
   },
   {
    "duration": 0,
    "start_time": "2022-07-28T14:23:30.332Z"
   },
   {
    "duration": 0,
    "start_time": "2022-07-28T14:23:30.332Z"
   },
   {
    "duration": 0,
    "start_time": "2022-07-28T14:23:30.333Z"
   },
   {
    "duration": 0,
    "start_time": "2022-07-28T14:23:30.334Z"
   },
   {
    "duration": 0,
    "start_time": "2022-07-28T14:23:30.337Z"
   },
   {
    "duration": 0,
    "start_time": "2022-07-28T14:23:30.338Z"
   },
   {
    "duration": 0,
    "start_time": "2022-07-28T14:23:30.338Z"
   },
   {
    "duration": 0,
    "start_time": "2022-07-28T14:23:30.339Z"
   },
   {
    "duration": 0,
    "start_time": "2022-07-28T14:23:30.343Z"
   },
   {
    "duration": 0,
    "start_time": "2022-07-28T14:23:30.348Z"
   },
   {
    "duration": 0,
    "start_time": "2022-07-28T14:23:30.350Z"
   },
   {
    "duration": 0,
    "start_time": "2022-07-28T14:23:30.351Z"
   },
   {
    "duration": 0,
    "start_time": "2022-07-28T14:23:30.352Z"
   },
   {
    "duration": 1585,
    "start_time": "2022-07-28T14:26:56.846Z"
   },
   {
    "duration": 1038,
    "start_time": "2022-07-28T14:26:58.433Z"
   },
   {
    "duration": 132,
    "start_time": "2022-07-28T14:26:59.473Z"
   },
   {
    "duration": 199,
    "start_time": "2022-07-28T14:26:59.608Z"
   },
   {
    "duration": 129,
    "start_time": "2022-07-28T14:26:59.809Z"
   },
   {
    "duration": 9,
    "start_time": "2022-07-28T14:26:59.942Z"
   },
   {
    "duration": 11,
    "start_time": "2022-07-28T14:26:59.953Z"
   },
   {
    "duration": 573,
    "start_time": "2022-07-28T14:26:59.966Z"
   },
   {
    "duration": 543,
    "start_time": "2022-07-28T14:27:00.543Z"
   },
   {
    "duration": 42,
    "start_time": "2022-07-28T14:27:01.089Z"
   },
   {
    "duration": 49,
    "start_time": "2022-07-28T14:27:01.132Z"
   },
   {
    "duration": 41,
    "start_time": "2022-07-28T14:27:01.183Z"
   },
   {
    "duration": 48,
    "start_time": "2022-07-28T14:27:01.235Z"
   },
   {
    "duration": 64,
    "start_time": "2022-07-28T14:27:01.285Z"
   },
   {
    "duration": 0,
    "start_time": "2022-07-28T14:27:01.352Z"
   },
   {
    "duration": 0,
    "start_time": "2022-07-28T14:27:01.354Z"
   },
   {
    "duration": 0,
    "start_time": "2022-07-28T14:27:01.355Z"
   },
   {
    "duration": 0,
    "start_time": "2022-07-28T14:27:01.357Z"
   },
   {
    "duration": 0,
    "start_time": "2022-07-28T14:27:01.358Z"
   },
   {
    "duration": 0,
    "start_time": "2022-07-28T14:27:01.359Z"
   },
   {
    "duration": 0,
    "start_time": "2022-07-28T14:27:01.361Z"
   },
   {
    "duration": 0,
    "start_time": "2022-07-28T14:27:01.362Z"
   },
   {
    "duration": 0,
    "start_time": "2022-07-28T14:27:01.364Z"
   },
   {
    "duration": 0,
    "start_time": "2022-07-28T14:27:01.365Z"
   },
   {
    "duration": 0,
    "start_time": "2022-07-28T14:27:01.366Z"
   },
   {
    "duration": 0,
    "start_time": "2022-07-28T14:27:01.367Z"
   },
   {
    "duration": 0,
    "start_time": "2022-07-28T14:27:01.369Z"
   },
   {
    "duration": 0,
    "start_time": "2022-07-28T14:27:01.370Z"
   },
   {
    "duration": 0,
    "start_time": "2022-07-28T14:27:01.371Z"
   },
   {
    "duration": 0,
    "start_time": "2022-07-28T14:27:01.373Z"
   },
   {
    "duration": 0,
    "start_time": "2022-07-28T14:27:01.374Z"
   },
   {
    "duration": 0,
    "start_time": "2022-07-28T14:27:01.375Z"
   },
   {
    "duration": 0,
    "start_time": "2022-07-28T14:27:01.376Z"
   },
   {
    "duration": 0,
    "start_time": "2022-07-28T14:27:01.378Z"
   },
   {
    "duration": 0,
    "start_time": "2022-07-28T14:27:01.379Z"
   },
   {
    "duration": 0,
    "start_time": "2022-07-28T14:27:01.380Z"
   },
   {
    "duration": 0,
    "start_time": "2022-07-28T14:27:01.381Z"
   },
   {
    "duration": 0,
    "start_time": "2022-07-28T14:27:01.383Z"
   },
   {
    "duration": 0,
    "start_time": "2022-07-28T14:27:01.384Z"
   },
   {
    "duration": 0,
    "start_time": "2022-07-28T14:27:01.385Z"
   },
   {
    "duration": 0,
    "start_time": "2022-07-28T14:27:01.387Z"
   },
   {
    "duration": 0,
    "start_time": "2022-07-28T14:27:01.388Z"
   },
   {
    "duration": 0,
    "start_time": "2022-07-28T14:27:01.423Z"
   },
   {
    "duration": 0,
    "start_time": "2022-07-28T14:27:01.424Z"
   },
   {
    "duration": 0,
    "start_time": "2022-07-28T14:27:01.428Z"
   },
   {
    "duration": 0,
    "start_time": "2022-07-28T14:27:01.429Z"
   },
   {
    "duration": 0,
    "start_time": "2022-07-28T14:27:01.430Z"
   },
   {
    "duration": 160,
    "start_time": "2022-07-28T14:30:40.309Z"
   },
   {
    "duration": 29,
    "start_time": "2022-07-28T14:32:39.847Z"
   },
   {
    "duration": 27,
    "start_time": "2022-07-28T14:32:45.769Z"
   },
   {
    "duration": 1892,
    "start_time": "2022-07-28T14:34:42.021Z"
   },
   {
    "duration": 1282,
    "start_time": "2022-07-28T14:34:43.916Z"
   },
   {
    "duration": 132,
    "start_time": "2022-07-28T14:34:45.200Z"
   },
   {
    "duration": 144,
    "start_time": "2022-07-28T14:34:45.337Z"
   },
   {
    "duration": 131,
    "start_time": "2022-07-28T14:34:45.483Z"
   },
   {
    "duration": 11,
    "start_time": "2022-07-28T14:34:45.619Z"
   },
   {
    "duration": 23,
    "start_time": "2022-07-28T14:34:45.633Z"
   },
   {
    "duration": 563,
    "start_time": "2022-07-28T14:34:45.657Z"
   },
   {
    "duration": 517,
    "start_time": "2022-07-28T14:34:46.222Z"
   },
   {
    "duration": 25,
    "start_time": "2022-07-28T14:34:46.743Z"
   },
   {
    "duration": 161,
    "start_time": "2022-07-28T14:34:46.770Z"
   },
   {
    "duration": 0,
    "start_time": "2022-07-28T14:34:46.940Z"
   },
   {
    "duration": 1,
    "start_time": "2022-07-28T14:34:46.940Z"
   },
   {
    "duration": 0,
    "start_time": "2022-07-28T14:34:46.941Z"
   },
   {
    "duration": 0,
    "start_time": "2022-07-28T14:34:46.942Z"
   },
   {
    "duration": 0,
    "start_time": "2022-07-28T14:34:46.942Z"
   },
   {
    "duration": 0,
    "start_time": "2022-07-28T14:34:46.943Z"
   },
   {
    "duration": 0,
    "start_time": "2022-07-28T14:34:46.944Z"
   },
   {
    "duration": 0,
    "start_time": "2022-07-28T14:34:46.945Z"
   },
   {
    "duration": 0,
    "start_time": "2022-07-28T14:34:46.948Z"
   },
   {
    "duration": 0,
    "start_time": "2022-07-28T14:34:46.950Z"
   },
   {
    "duration": 0,
    "start_time": "2022-07-28T14:34:46.951Z"
   },
   {
    "duration": 0,
    "start_time": "2022-07-28T14:34:46.952Z"
   },
   {
    "duration": 0,
    "start_time": "2022-07-28T14:34:46.957Z"
   },
   {
    "duration": 0,
    "start_time": "2022-07-28T14:34:46.959Z"
   },
   {
    "duration": 0,
    "start_time": "2022-07-28T14:34:46.961Z"
   },
   {
    "duration": 0,
    "start_time": "2022-07-28T14:34:46.963Z"
   },
   {
    "duration": 0,
    "start_time": "2022-07-28T14:34:46.964Z"
   },
   {
    "duration": 0,
    "start_time": "2022-07-28T14:34:46.969Z"
   },
   {
    "duration": 0,
    "start_time": "2022-07-28T14:34:46.971Z"
   },
   {
    "duration": 0,
    "start_time": "2022-07-28T14:34:46.973Z"
   },
   {
    "duration": 0,
    "start_time": "2022-07-28T14:34:46.975Z"
   },
   {
    "duration": 0,
    "start_time": "2022-07-28T14:34:46.977Z"
   },
   {
    "duration": 0,
    "start_time": "2022-07-28T14:34:46.978Z"
   },
   {
    "duration": 0,
    "start_time": "2022-07-28T14:34:46.980Z"
   },
   {
    "duration": 0,
    "start_time": "2022-07-28T14:34:46.981Z"
   },
   {
    "duration": 0,
    "start_time": "2022-07-28T14:34:47.025Z"
   },
   {
    "duration": 0,
    "start_time": "2022-07-28T14:34:47.029Z"
   },
   {
    "duration": 0,
    "start_time": "2022-07-28T14:34:47.030Z"
   },
   {
    "duration": 0,
    "start_time": "2022-07-28T14:34:47.032Z"
   },
   {
    "duration": 0,
    "start_time": "2022-07-28T14:34:47.033Z"
   },
   {
    "duration": 0,
    "start_time": "2022-07-28T14:34:47.034Z"
   },
   {
    "duration": 0,
    "start_time": "2022-07-28T14:34:47.036Z"
   },
   {
    "duration": 0,
    "start_time": "2022-07-28T14:34:47.037Z"
   },
   {
    "duration": 1462,
    "start_time": "2022-07-28T14:57:43.435Z"
   },
   {
    "duration": 884,
    "start_time": "2022-07-28T14:57:44.899Z"
   },
   {
    "duration": 162,
    "start_time": "2022-07-28T14:57:45.785Z"
   },
   {
    "duration": 156,
    "start_time": "2022-07-28T14:57:45.949Z"
   },
   {
    "duration": 106,
    "start_time": "2022-07-28T14:57:46.107Z"
   },
   {
    "duration": 26,
    "start_time": "2022-07-28T14:57:46.214Z"
   },
   {
    "duration": 30,
    "start_time": "2022-07-28T14:57:46.242Z"
   },
   {
    "duration": 507,
    "start_time": "2022-07-28T14:57:46.274Z"
   },
   {
    "duration": 507,
    "start_time": "2022-07-28T14:57:46.782Z"
   },
   {
    "duration": 42,
    "start_time": "2022-07-28T14:57:47.292Z"
   },
   {
    "duration": 144,
    "start_time": "2022-07-28T14:57:47.336Z"
   },
   {
    "duration": 0,
    "start_time": "2022-07-28T14:57:47.482Z"
   },
   {
    "duration": 0,
    "start_time": "2022-07-28T14:57:47.483Z"
   },
   {
    "duration": 0,
    "start_time": "2022-07-28T14:57:47.484Z"
   },
   {
    "duration": 0,
    "start_time": "2022-07-28T14:57:47.486Z"
   },
   {
    "duration": 0,
    "start_time": "2022-07-28T14:57:47.487Z"
   },
   {
    "duration": 0,
    "start_time": "2022-07-28T14:57:47.488Z"
   },
   {
    "duration": 0,
    "start_time": "2022-07-28T14:57:47.489Z"
   },
   {
    "duration": 0,
    "start_time": "2022-07-28T14:57:47.490Z"
   },
   {
    "duration": 0,
    "start_time": "2022-07-28T14:57:47.491Z"
   },
   {
    "duration": 0,
    "start_time": "2022-07-28T14:57:47.493Z"
   },
   {
    "duration": 0,
    "start_time": "2022-07-28T14:57:47.494Z"
   },
   {
    "duration": 0,
    "start_time": "2022-07-28T14:57:47.495Z"
   },
   {
    "duration": 0,
    "start_time": "2022-07-28T14:57:47.496Z"
   },
   {
    "duration": 0,
    "start_time": "2022-07-28T14:57:47.497Z"
   },
   {
    "duration": 0,
    "start_time": "2022-07-28T14:57:47.498Z"
   },
   {
    "duration": 0,
    "start_time": "2022-07-28T14:57:47.499Z"
   },
   {
    "duration": 0,
    "start_time": "2022-07-28T14:57:47.526Z"
   },
   {
    "duration": 0,
    "start_time": "2022-07-28T14:57:47.528Z"
   },
   {
    "duration": 0,
    "start_time": "2022-07-28T14:57:47.529Z"
   },
   {
    "duration": 0,
    "start_time": "2022-07-28T14:57:47.531Z"
   },
   {
    "duration": 0,
    "start_time": "2022-07-28T14:57:47.532Z"
   },
   {
    "duration": 0,
    "start_time": "2022-07-28T14:57:47.533Z"
   },
   {
    "duration": 0,
    "start_time": "2022-07-28T14:57:47.534Z"
   },
   {
    "duration": 0,
    "start_time": "2022-07-28T14:57:47.535Z"
   },
   {
    "duration": 0,
    "start_time": "2022-07-28T14:57:47.536Z"
   },
   {
    "duration": 0,
    "start_time": "2022-07-28T14:57:47.538Z"
   },
   {
    "duration": 0,
    "start_time": "2022-07-28T14:57:47.540Z"
   },
   {
    "duration": 0,
    "start_time": "2022-07-28T14:57:47.542Z"
   },
   {
    "duration": 0,
    "start_time": "2022-07-28T14:57:47.543Z"
   },
   {
    "duration": 0,
    "start_time": "2022-07-28T14:57:47.545Z"
   },
   {
    "duration": 1,
    "start_time": "2022-07-28T14:57:47.545Z"
   },
   {
    "duration": 0,
    "start_time": "2022-07-28T14:57:47.547Z"
   },
   {
    "duration": 0,
    "start_time": "2022-07-28T14:57:47.549Z"
   },
   {
    "duration": 25,
    "start_time": "2022-07-28T15:00:12.975Z"
   },
   {
    "duration": 20,
    "start_time": "2022-07-28T15:01:57.337Z"
   },
   {
    "duration": 27,
    "start_time": "2022-07-28T15:02:07.414Z"
   },
   {
    "duration": 22,
    "start_time": "2022-07-28T15:02:19.746Z"
   },
   {
    "duration": 20,
    "start_time": "2022-07-28T15:02:23.689Z"
   },
   {
    "duration": 30,
    "start_time": "2022-07-28T15:02:33.403Z"
   },
   {
    "duration": 21,
    "start_time": "2022-07-28T15:02:55.274Z"
   },
   {
    "duration": 117,
    "start_time": "2022-07-28T15:03:03.197Z"
   },
   {
    "duration": 22,
    "start_time": "2022-07-28T15:03:23.678Z"
   },
   {
    "duration": 32,
    "start_time": "2022-07-28T15:04:33.365Z"
   },
   {
    "duration": 1580,
    "start_time": "2022-07-28T15:04:45.590Z"
   },
   {
    "duration": 928,
    "start_time": "2022-07-28T15:04:47.171Z"
   },
   {
    "duration": 149,
    "start_time": "2022-07-28T15:04:48.101Z"
   },
   {
    "duration": 139,
    "start_time": "2022-07-28T15:04:48.252Z"
   },
   {
    "duration": 112,
    "start_time": "2022-07-28T15:04:48.393Z"
   },
   {
    "duration": 6,
    "start_time": "2022-07-28T15:04:48.507Z"
   },
   {
    "duration": 13,
    "start_time": "2022-07-28T15:04:48.523Z"
   },
   {
    "duration": 576,
    "start_time": "2022-07-28T15:04:48.539Z"
   },
   {
    "duration": 549,
    "start_time": "2022-07-28T15:04:49.117Z"
   },
   {
    "duration": 24,
    "start_time": "2022-07-28T15:04:49.669Z"
   },
   {
    "duration": 45,
    "start_time": "2022-07-28T15:04:49.695Z"
   },
   {
    "duration": 130,
    "start_time": "2022-07-28T15:04:49.742Z"
   },
   {
    "duration": 30,
    "start_time": "2022-07-28T15:04:49.873Z"
   },
   {
    "duration": 80,
    "start_time": "2022-07-28T15:04:49.905Z"
   },
   {
    "duration": 3,
    "start_time": "2022-07-28T15:04:49.987Z"
   },
   {
    "duration": 6,
    "start_time": "2022-07-28T15:04:49.991Z"
   },
   {
    "duration": 1111,
    "start_time": "2022-07-28T15:04:49.999Z"
   },
   {
    "duration": 126,
    "start_time": "2022-07-28T15:04:51.111Z"
   },
   {
    "duration": 2257,
    "start_time": "2022-07-28T15:04:51.238Z"
   },
   {
    "duration": 21542,
    "start_time": "2022-07-28T15:04:53.497Z"
   },
   {
    "duration": 5668,
    "start_time": "2022-07-28T15:05:15.041Z"
   },
   {
    "duration": 22,
    "start_time": "2022-07-28T15:05:20.710Z"
   },
   {
    "duration": 47,
    "start_time": "2022-07-28T15:05:20.734Z"
   },
   {
    "duration": 112,
    "start_time": "2022-07-28T15:05:20.783Z"
   },
   {
    "duration": 413,
    "start_time": "2022-07-28T15:05:20.897Z"
   },
   {
    "duration": 0,
    "start_time": "2022-07-28T15:05:21.314Z"
   },
   {
    "duration": 0,
    "start_time": "2022-07-28T15:05:21.315Z"
   },
   {
    "duration": 0,
    "start_time": "2022-07-28T15:05:21.317Z"
   },
   {
    "duration": 0,
    "start_time": "2022-07-28T15:05:21.318Z"
   },
   {
    "duration": 0,
    "start_time": "2022-07-28T15:05:21.319Z"
   },
   {
    "duration": 0,
    "start_time": "2022-07-28T15:05:21.321Z"
   },
   {
    "duration": 0,
    "start_time": "2022-07-28T15:05:21.322Z"
   },
   {
    "duration": 0,
    "start_time": "2022-07-28T15:05:21.326Z"
   },
   {
    "duration": 0,
    "start_time": "2022-07-28T15:05:21.327Z"
   },
   {
    "duration": 0,
    "start_time": "2022-07-28T15:05:21.329Z"
   },
   {
    "duration": 0,
    "start_time": "2022-07-28T15:05:21.330Z"
   },
   {
    "duration": 0,
    "start_time": "2022-07-28T15:05:21.331Z"
   },
   {
    "duration": 1,
    "start_time": "2022-07-28T15:05:21.332Z"
   },
   {
    "duration": 0,
    "start_time": "2022-07-28T15:05:21.333Z"
   },
   {
    "duration": 0,
    "start_time": "2022-07-28T15:05:21.336Z"
   },
   {
    "duration": 0,
    "start_time": "2022-07-28T15:05:21.344Z"
   },
   {
    "duration": 0,
    "start_time": "2022-07-28T15:05:21.346Z"
   },
   {
    "duration": 0,
    "start_time": "2022-07-28T15:05:21.347Z"
   },
   {
    "duration": 0,
    "start_time": "2022-07-28T15:05:21.348Z"
   },
   {
    "duration": 1515,
    "start_time": "2022-07-28T15:06:22.290Z"
   },
   {
    "duration": 912,
    "start_time": "2022-07-28T15:06:23.806Z"
   },
   {
    "duration": 156,
    "start_time": "2022-07-28T15:06:24.720Z"
   },
   {
    "duration": 164,
    "start_time": "2022-07-28T15:06:24.879Z"
   },
   {
    "duration": 115,
    "start_time": "2022-07-28T15:06:25.045Z"
   },
   {
    "duration": 7,
    "start_time": "2022-07-28T15:06:25.162Z"
   },
   {
    "duration": 42,
    "start_time": "2022-07-28T15:06:25.171Z"
   },
   {
    "duration": 555,
    "start_time": "2022-07-28T15:06:25.215Z"
   },
   {
    "duration": 530,
    "start_time": "2022-07-28T15:06:25.772Z"
   },
   {
    "duration": 34,
    "start_time": "2022-07-28T15:06:26.306Z"
   },
   {
    "duration": 133,
    "start_time": "2022-07-28T15:06:26.342Z"
   },
   {
    "duration": 0,
    "start_time": "2022-07-28T15:06:26.478Z"
   },
   {
    "duration": 0,
    "start_time": "2022-07-28T15:06:26.479Z"
   },
   {
    "duration": 0,
    "start_time": "2022-07-28T15:06:26.480Z"
   },
   {
    "duration": 0,
    "start_time": "2022-07-28T15:06:26.481Z"
   },
   {
    "duration": 0,
    "start_time": "2022-07-28T15:06:26.482Z"
   },
   {
    "duration": 0,
    "start_time": "2022-07-28T15:06:26.484Z"
   },
   {
    "duration": 0,
    "start_time": "2022-07-28T15:06:26.484Z"
   },
   {
    "duration": 0,
    "start_time": "2022-07-28T15:06:26.485Z"
   },
   {
    "duration": 0,
    "start_time": "2022-07-28T15:06:26.486Z"
   },
   {
    "duration": 0,
    "start_time": "2022-07-28T15:06:26.487Z"
   },
   {
    "duration": 0,
    "start_time": "2022-07-28T15:06:26.488Z"
   },
   {
    "duration": 0,
    "start_time": "2022-07-28T15:06:26.489Z"
   },
   {
    "duration": 0,
    "start_time": "2022-07-28T15:06:26.490Z"
   },
   {
    "duration": 0,
    "start_time": "2022-07-28T15:06:26.491Z"
   },
   {
    "duration": 0,
    "start_time": "2022-07-28T15:06:26.492Z"
   },
   {
    "duration": 0,
    "start_time": "2022-07-28T15:06:26.493Z"
   },
   {
    "duration": 0,
    "start_time": "2022-07-28T15:06:26.495Z"
   },
   {
    "duration": 0,
    "start_time": "2022-07-28T15:06:26.524Z"
   },
   {
    "duration": 0,
    "start_time": "2022-07-28T15:06:26.525Z"
   },
   {
    "duration": 0,
    "start_time": "2022-07-28T15:06:26.526Z"
   },
   {
    "duration": 0,
    "start_time": "2022-07-28T15:06:26.527Z"
   },
   {
    "duration": 0,
    "start_time": "2022-07-28T15:06:26.528Z"
   },
   {
    "duration": 0,
    "start_time": "2022-07-28T15:06:26.529Z"
   },
   {
    "duration": 0,
    "start_time": "2022-07-28T15:06:26.530Z"
   },
   {
    "duration": 0,
    "start_time": "2022-07-28T15:06:26.531Z"
   },
   {
    "duration": 0,
    "start_time": "2022-07-28T15:06:26.532Z"
   },
   {
    "duration": 0,
    "start_time": "2022-07-28T15:06:26.533Z"
   },
   {
    "duration": 0,
    "start_time": "2022-07-28T15:06:26.533Z"
   },
   {
    "duration": 0,
    "start_time": "2022-07-28T15:06:26.534Z"
   },
   {
    "duration": 0,
    "start_time": "2022-07-28T15:06:26.535Z"
   },
   {
    "duration": 0,
    "start_time": "2022-07-28T15:06:26.535Z"
   },
   {
    "duration": 0,
    "start_time": "2022-07-28T15:06:26.536Z"
   },
   {
    "duration": 0,
    "start_time": "2022-07-28T15:06:26.537Z"
   },
   {
    "duration": 1421,
    "start_time": "2022-07-28T15:08:52.951Z"
   },
   {
    "duration": 894,
    "start_time": "2022-07-28T15:08:54.373Z"
   },
   {
    "duration": 147,
    "start_time": "2022-07-28T15:08:55.268Z"
   },
   {
    "duration": 135,
    "start_time": "2022-07-28T15:08:55.424Z"
   },
   {
    "duration": 108,
    "start_time": "2022-07-28T15:08:55.561Z"
   },
   {
    "duration": 6,
    "start_time": "2022-07-28T15:08:55.670Z"
   },
   {
    "duration": 13,
    "start_time": "2022-07-28T15:08:55.677Z"
   },
   {
    "duration": 540,
    "start_time": "2022-07-28T15:08:55.692Z"
   },
   {
    "duration": 480,
    "start_time": "2022-07-28T15:08:56.239Z"
   },
   {
    "duration": 29,
    "start_time": "2022-07-28T15:08:56.724Z"
   },
   {
    "duration": 138,
    "start_time": "2022-07-28T15:08:56.754Z"
   },
   {
    "duration": 0,
    "start_time": "2022-07-28T15:08:56.895Z"
   },
   {
    "duration": 0,
    "start_time": "2022-07-28T15:08:56.897Z"
   },
   {
    "duration": 0,
    "start_time": "2022-07-28T15:08:56.898Z"
   },
   {
    "duration": 0,
    "start_time": "2022-07-28T15:08:56.900Z"
   },
   {
    "duration": 0,
    "start_time": "2022-07-28T15:08:56.901Z"
   },
   {
    "duration": 0,
    "start_time": "2022-07-28T15:08:56.903Z"
   },
   {
    "duration": 0,
    "start_time": "2022-07-28T15:08:56.904Z"
   },
   {
    "duration": 0,
    "start_time": "2022-07-28T15:08:56.906Z"
   },
   {
    "duration": 0,
    "start_time": "2022-07-28T15:08:56.926Z"
   },
   {
    "duration": 0,
    "start_time": "2022-07-28T15:08:56.927Z"
   },
   {
    "duration": 0,
    "start_time": "2022-07-28T15:08:56.928Z"
   },
   {
    "duration": 0,
    "start_time": "2022-07-28T15:08:56.929Z"
   },
   {
    "duration": 1,
    "start_time": "2022-07-28T15:08:56.932Z"
   },
   {
    "duration": 0,
    "start_time": "2022-07-28T15:08:56.936Z"
   },
   {
    "duration": 0,
    "start_time": "2022-07-28T15:08:56.942Z"
   },
   {
    "duration": 0,
    "start_time": "2022-07-28T15:08:56.943Z"
   },
   {
    "duration": 0,
    "start_time": "2022-07-28T15:08:56.944Z"
   },
   {
    "duration": 0,
    "start_time": "2022-07-28T15:08:56.946Z"
   },
   {
    "duration": 0,
    "start_time": "2022-07-28T15:08:56.947Z"
   },
   {
    "duration": 0,
    "start_time": "2022-07-28T15:08:56.948Z"
   },
   {
    "duration": 0,
    "start_time": "2022-07-28T15:08:56.949Z"
   },
   {
    "duration": 0,
    "start_time": "2022-07-28T15:08:56.950Z"
   },
   {
    "duration": 0,
    "start_time": "2022-07-28T15:08:56.951Z"
   },
   {
    "duration": 0,
    "start_time": "2022-07-28T15:08:56.952Z"
   },
   {
    "duration": 0,
    "start_time": "2022-07-28T15:08:56.954Z"
   },
   {
    "duration": 0,
    "start_time": "2022-07-28T15:08:56.955Z"
   },
   {
    "duration": 0,
    "start_time": "2022-07-28T15:08:56.956Z"
   },
   {
    "duration": 0,
    "start_time": "2022-07-28T15:08:56.957Z"
   },
   {
    "duration": 0,
    "start_time": "2022-07-28T15:08:56.958Z"
   },
   {
    "duration": 0,
    "start_time": "2022-07-28T15:08:56.960Z"
   },
   {
    "duration": 0,
    "start_time": "2022-07-28T15:08:56.961Z"
   },
   {
    "duration": 0,
    "start_time": "2022-07-28T15:08:56.962Z"
   },
   {
    "duration": 0,
    "start_time": "2022-07-28T15:08:56.963Z"
   },
   {
    "duration": 21,
    "start_time": "2022-07-28T15:09:59.972Z"
   },
   {
    "duration": 1457,
    "start_time": "2022-07-28T15:10:40.562Z"
   },
   {
    "duration": 926,
    "start_time": "2022-07-28T15:10:42.021Z"
   },
   {
    "duration": 127,
    "start_time": "2022-07-28T15:10:42.949Z"
   },
   {
    "duration": 135,
    "start_time": "2022-07-28T15:10:43.080Z"
   },
   {
    "duration": 118,
    "start_time": "2022-07-28T15:10:43.217Z"
   },
   {
    "duration": 6,
    "start_time": "2022-07-28T15:10:43.336Z"
   },
   {
    "duration": 12,
    "start_time": "2022-07-28T15:10:43.343Z"
   },
   {
    "duration": 527,
    "start_time": "2022-07-28T15:10:43.357Z"
   },
   {
    "duration": 508,
    "start_time": "2022-07-28T15:10:43.886Z"
   },
   {
    "duration": 38,
    "start_time": "2022-07-28T15:10:44.397Z"
   },
   {
    "duration": 19,
    "start_time": "2022-07-28T15:10:44.437Z"
   },
   {
    "duration": 125,
    "start_time": "2022-07-28T15:10:44.458Z"
   },
   {
    "duration": 30,
    "start_time": "2022-07-28T15:10:44.584Z"
   },
   {
    "duration": 65,
    "start_time": "2022-07-28T15:10:44.629Z"
   },
   {
    "duration": 2,
    "start_time": "2022-07-28T15:10:44.696Z"
   },
   {
    "duration": 5,
    "start_time": "2022-07-28T15:10:44.700Z"
   },
   {
    "duration": 1098,
    "start_time": "2022-07-28T15:10:44.707Z"
   },
   {
    "duration": 112,
    "start_time": "2022-07-28T15:10:45.806Z"
   },
   {
    "duration": 2142,
    "start_time": "2022-07-28T15:10:45.923Z"
   },
   {
    "duration": 19153,
    "start_time": "2022-07-28T15:10:48.067Z"
   },
   {
    "duration": 0,
    "start_time": "2022-07-28T15:11:07.225Z"
   },
   {
    "duration": 0,
    "start_time": "2022-07-28T15:11:07.225Z"
   },
   {
    "duration": 0,
    "start_time": "2022-07-28T15:11:07.226Z"
   },
   {
    "duration": 0,
    "start_time": "2022-07-28T15:11:07.229Z"
   },
   {
    "duration": 0,
    "start_time": "2022-07-28T15:11:07.230Z"
   },
   {
    "duration": 0,
    "start_time": "2022-07-28T15:11:07.230Z"
   },
   {
    "duration": 1,
    "start_time": "2022-07-28T15:11:07.233Z"
   },
   {
    "duration": 0,
    "start_time": "2022-07-28T15:11:07.234Z"
   },
   {
    "duration": 0,
    "start_time": "2022-07-28T15:11:07.235Z"
   },
   {
    "duration": 0,
    "start_time": "2022-07-28T15:11:07.236Z"
   },
   {
    "duration": 0,
    "start_time": "2022-07-28T15:11:07.237Z"
   },
   {
    "duration": 0,
    "start_time": "2022-07-28T15:11:07.238Z"
   },
   {
    "duration": 0,
    "start_time": "2022-07-28T15:11:07.240Z"
   },
   {
    "duration": 0,
    "start_time": "2022-07-28T15:11:07.242Z"
   },
   {
    "duration": 0,
    "start_time": "2022-07-28T15:11:07.243Z"
   },
   {
    "duration": 0,
    "start_time": "2022-07-28T15:11:07.245Z"
   },
   {
    "duration": 0,
    "start_time": "2022-07-28T15:11:07.246Z"
   },
   {
    "duration": 0,
    "start_time": "2022-07-28T15:11:07.248Z"
   },
   {
    "duration": 0,
    "start_time": "2022-07-28T15:11:07.249Z"
   },
   {
    "duration": 0,
    "start_time": "2022-07-28T15:11:07.251Z"
   },
   {
    "duration": 0,
    "start_time": "2022-07-28T15:11:07.252Z"
   },
   {
    "duration": 0,
    "start_time": "2022-07-28T15:11:07.253Z"
   },
   {
    "duration": 0,
    "start_time": "2022-07-28T15:11:07.255Z"
   },
   {
    "duration": 0,
    "start_time": "2022-07-28T15:11:07.257Z"
   },
   {
    "duration": 23,
    "start_time": "2022-07-28T15:11:30.357Z"
   },
   {
    "duration": 1437,
    "start_time": "2022-07-28T15:13:24.150Z"
   },
   {
    "duration": 919,
    "start_time": "2022-07-28T15:13:25.589Z"
   },
   {
    "duration": 133,
    "start_time": "2022-07-28T15:13:26.510Z"
   },
   {
    "duration": 144,
    "start_time": "2022-07-28T15:13:26.645Z"
   },
   {
    "duration": 113,
    "start_time": "2022-07-28T15:13:26.790Z"
   },
   {
    "duration": 6,
    "start_time": "2022-07-28T15:13:26.905Z"
   },
   {
    "duration": 20,
    "start_time": "2022-07-28T15:13:26.913Z"
   },
   {
    "duration": 511,
    "start_time": "2022-07-28T15:13:26.939Z"
   },
   {
    "duration": 505,
    "start_time": "2022-07-28T15:13:27.452Z"
   },
   {
    "duration": 24,
    "start_time": "2022-07-28T15:13:27.959Z"
   },
   {
    "duration": 20,
    "start_time": "2022-07-28T15:13:27.985Z"
   },
   {
    "duration": 144,
    "start_time": "2022-07-28T15:13:28.006Z"
   },
   {
    "duration": 32,
    "start_time": "2022-07-28T15:13:28.151Z"
   },
   {
    "duration": 74,
    "start_time": "2022-07-28T15:13:28.185Z"
   },
   {
    "duration": 3,
    "start_time": "2022-07-28T15:13:28.261Z"
   },
   {
    "duration": 8,
    "start_time": "2022-07-28T15:13:28.265Z"
   },
   {
    "duration": 1169,
    "start_time": "2022-07-28T15:13:28.275Z"
   },
   {
    "duration": 110,
    "start_time": "2022-07-28T15:13:29.446Z"
   },
   {
    "duration": 2186,
    "start_time": "2022-07-28T15:13:29.558Z"
   },
   {
    "duration": 16011,
    "start_time": "2022-07-28T15:13:31.746Z"
   },
   {
    "duration": 0,
    "start_time": "2022-07-28T15:13:47.760Z"
   },
   {
    "duration": 0,
    "start_time": "2022-07-28T15:13:47.761Z"
   },
   {
    "duration": 0,
    "start_time": "2022-07-28T15:13:47.763Z"
   },
   {
    "duration": 0,
    "start_time": "2022-07-28T15:13:47.764Z"
   },
   {
    "duration": 0,
    "start_time": "2022-07-28T15:13:47.765Z"
   },
   {
    "duration": 0,
    "start_time": "2022-07-28T15:13:47.767Z"
   },
   {
    "duration": 0,
    "start_time": "2022-07-28T15:13:47.768Z"
   },
   {
    "duration": 0,
    "start_time": "2022-07-28T15:13:47.770Z"
   },
   {
    "duration": 0,
    "start_time": "2022-07-28T15:13:47.771Z"
   },
   {
    "duration": 0,
    "start_time": "2022-07-28T15:13:47.772Z"
   },
   {
    "duration": 0,
    "start_time": "2022-07-28T15:13:47.773Z"
   },
   {
    "duration": 0,
    "start_time": "2022-07-28T15:13:47.775Z"
   },
   {
    "duration": 0,
    "start_time": "2022-07-28T15:13:47.776Z"
   },
   {
    "duration": 0,
    "start_time": "2022-07-28T15:13:47.777Z"
   },
   {
    "duration": 0,
    "start_time": "2022-07-28T15:13:47.778Z"
   },
   {
    "duration": 0,
    "start_time": "2022-07-28T15:13:47.779Z"
   },
   {
    "duration": 0,
    "start_time": "2022-07-28T15:13:47.780Z"
   },
   {
    "duration": 0,
    "start_time": "2022-07-28T15:13:47.781Z"
   },
   {
    "duration": 0,
    "start_time": "2022-07-28T15:13:47.783Z"
   },
   {
    "duration": 0,
    "start_time": "2022-07-28T15:13:47.785Z"
   },
   {
    "duration": 0,
    "start_time": "2022-07-28T15:13:47.786Z"
   },
   {
    "duration": 0,
    "start_time": "2022-07-28T15:13:47.787Z"
   },
   {
    "duration": 0,
    "start_time": "2022-07-28T15:13:47.789Z"
   },
   {
    "duration": 0,
    "start_time": "2022-07-28T15:13:47.790Z"
   },
   {
    "duration": 25,
    "start_time": "2022-07-28T15:14:12.480Z"
   },
   {
    "duration": 15,
    "start_time": "2022-07-28T15:21:45.869Z"
   },
   {
    "duration": 37,
    "start_time": "2022-07-28T15:23:13.411Z"
   },
   {
    "duration": 12,
    "start_time": "2022-07-28T15:23:25.221Z"
   },
   {
    "duration": 26,
    "start_time": "2022-07-28T15:23:26.891Z"
   },
   {
    "duration": 979,
    "start_time": "2022-07-28T16:48:45.327Z"
   },
   {
    "duration": 628,
    "start_time": "2022-07-28T16:49:01.283Z"
   },
   {
    "duration": 1969,
    "start_time": "2022-07-28T16:49:05.194Z"
   },
   {
    "duration": 95,
    "start_time": "2022-07-28T16:49:24.733Z"
   },
   {
    "duration": 1440,
    "start_time": "2022-07-28T16:50:41.413Z"
   },
   {
    "duration": 847,
    "start_time": "2022-07-28T16:50:42.855Z"
   },
   {
    "duration": 131,
    "start_time": "2022-07-28T16:50:43.703Z"
   },
   {
    "duration": 123,
    "start_time": "2022-07-28T16:50:43.835Z"
   },
   {
    "duration": 106,
    "start_time": "2022-07-28T16:50:43.961Z"
   },
   {
    "duration": 5,
    "start_time": "2022-07-28T16:50:44.069Z"
   },
   {
    "duration": 11,
    "start_time": "2022-07-28T16:50:44.076Z"
   },
   {
    "duration": 496,
    "start_time": "2022-07-28T16:50:44.089Z"
   },
   {
    "duration": 472,
    "start_time": "2022-07-28T16:50:44.587Z"
   },
   {
    "duration": 24,
    "start_time": "2022-07-28T16:50:45.061Z"
   },
   {
    "duration": 143,
    "start_time": "2022-07-28T16:50:45.087Z"
   },
   {
    "duration": 0,
    "start_time": "2022-07-28T16:50:45.233Z"
   },
   {
    "duration": 0,
    "start_time": "2022-07-28T16:50:45.235Z"
   },
   {
    "duration": 0,
    "start_time": "2022-07-28T16:50:45.236Z"
   },
   {
    "duration": 0,
    "start_time": "2022-07-28T16:50:45.237Z"
   },
   {
    "duration": 0,
    "start_time": "2022-07-28T16:50:45.239Z"
   },
   {
    "duration": 0,
    "start_time": "2022-07-28T16:50:45.240Z"
   },
   {
    "duration": 0,
    "start_time": "2022-07-28T16:50:45.242Z"
   },
   {
    "duration": 0,
    "start_time": "2022-07-28T16:50:45.243Z"
   },
   {
    "duration": 0,
    "start_time": "2022-07-28T16:50:45.245Z"
   },
   {
    "duration": 0,
    "start_time": "2022-07-28T16:50:45.247Z"
   },
   {
    "duration": 0,
    "start_time": "2022-07-28T16:50:45.249Z"
   },
   {
    "duration": 0,
    "start_time": "2022-07-28T16:50:45.250Z"
   },
   {
    "duration": 0,
    "start_time": "2022-07-28T16:50:45.252Z"
   },
   {
    "duration": 0,
    "start_time": "2022-07-28T16:50:45.253Z"
   },
   {
    "duration": 0,
    "start_time": "2022-07-28T16:50:45.255Z"
   },
   {
    "duration": 0,
    "start_time": "2022-07-28T16:50:45.257Z"
   },
   {
    "duration": 0,
    "start_time": "2022-07-28T16:50:45.258Z"
   },
   {
    "duration": 0,
    "start_time": "2022-07-28T16:50:45.260Z"
   },
   {
    "duration": 0,
    "start_time": "2022-07-28T16:50:45.261Z"
   },
   {
    "duration": 0,
    "start_time": "2022-07-28T16:50:45.262Z"
   },
   {
    "duration": 0,
    "start_time": "2022-07-28T16:50:45.263Z"
   },
   {
    "duration": 0,
    "start_time": "2022-07-28T16:50:45.264Z"
   },
   {
    "duration": 0,
    "start_time": "2022-07-28T16:50:45.265Z"
   },
   {
    "duration": 0,
    "start_time": "2022-07-28T16:50:45.267Z"
   },
   {
    "duration": 0,
    "start_time": "2022-07-28T16:50:45.268Z"
   },
   {
    "duration": 0,
    "start_time": "2022-07-28T16:50:45.269Z"
   },
   {
    "duration": 0,
    "start_time": "2022-07-28T16:50:45.270Z"
   },
   {
    "duration": 0,
    "start_time": "2022-07-28T16:50:45.271Z"
   },
   {
    "duration": 0,
    "start_time": "2022-07-28T16:50:45.271Z"
   },
   {
    "duration": 0,
    "start_time": "2022-07-28T16:50:45.324Z"
   },
   {
    "duration": 0,
    "start_time": "2022-07-28T16:50:45.325Z"
   },
   {
    "duration": 0,
    "start_time": "2022-07-28T16:50:45.326Z"
   },
   {
    "duration": 0,
    "start_time": "2022-07-28T16:50:45.327Z"
   },
   {
    "duration": 0,
    "start_time": "2022-07-28T16:50:45.328Z"
   },
   {
    "duration": 1,
    "start_time": "2022-07-28T16:50:45.329Z"
   },
   {
    "duration": 21,
    "start_time": "2022-07-28T16:51:56.763Z"
   },
   {
    "duration": 24,
    "start_time": "2022-07-28T16:52:52.411Z"
   },
   {
    "duration": 24,
    "start_time": "2022-07-28T16:53:11.764Z"
   },
   {
    "duration": 1611,
    "start_time": "2022-07-28T16:53:18.744Z"
   },
   {
    "duration": 946,
    "start_time": "2022-07-28T16:53:20.357Z"
   },
   {
    "duration": 153,
    "start_time": "2022-07-28T16:53:21.305Z"
   },
   {
    "duration": 120,
    "start_time": "2022-07-28T16:53:21.461Z"
   },
   {
    "duration": 109,
    "start_time": "2022-07-28T16:53:21.583Z"
   },
   {
    "duration": 6,
    "start_time": "2022-07-28T16:53:21.694Z"
   },
   {
    "duration": 36,
    "start_time": "2022-07-28T16:53:21.701Z"
   },
   {
    "duration": 518,
    "start_time": "2022-07-28T16:53:21.739Z"
   },
   {
    "duration": 528,
    "start_time": "2022-07-28T16:53:22.258Z"
   },
   {
    "duration": 23,
    "start_time": "2022-07-28T16:53:22.789Z"
   },
   {
    "duration": 36,
    "start_time": "2022-07-28T16:53:22.814Z"
   },
   {
    "duration": 16,
    "start_time": "2022-07-28T16:53:22.853Z"
   },
   {
    "duration": 26,
    "start_time": "2022-07-28T16:53:22.871Z"
   },
   {
    "duration": 160,
    "start_time": "2022-07-28T16:53:22.899Z"
   },
   {
    "duration": 61,
    "start_time": "2022-07-28T16:53:23.062Z"
   },
   {
    "duration": 57,
    "start_time": "2022-07-28T16:53:23.125Z"
   },
   {
    "duration": 2,
    "start_time": "2022-07-28T16:53:23.184Z"
   },
   {
    "duration": 6,
    "start_time": "2022-07-28T16:53:23.188Z"
   },
   {
    "duration": 1171,
    "start_time": "2022-07-28T16:53:23.195Z"
   },
   {
    "duration": 110,
    "start_time": "2022-07-28T16:53:24.368Z"
   },
   {
    "duration": 2265,
    "start_time": "2022-07-28T16:53:24.480Z"
   },
   {
    "duration": 21779,
    "start_time": "2022-07-28T16:53:26.747Z"
   },
   {
    "duration": 6021,
    "start_time": "2022-07-28T16:53:48.528Z"
   },
   {
    "duration": 20,
    "start_time": "2022-07-28T16:53:54.551Z"
   },
   {
    "duration": 24,
    "start_time": "2022-07-28T16:53:54.573Z"
   },
   {
    "duration": 130,
    "start_time": "2022-07-28T16:53:54.598Z"
   },
   {
    "duration": 258,
    "start_time": "2022-07-28T16:53:54.731Z"
   },
   {
    "duration": 87,
    "start_time": "2022-07-28T16:53:54.993Z"
   },
   {
    "duration": 76,
    "start_time": "2022-07-28T16:53:55.082Z"
   },
   {
    "duration": 115,
    "start_time": "2022-07-28T16:53:55.159Z"
   },
   {
    "duration": 842,
    "start_time": "2022-07-28T16:53:55.275Z"
   },
   {
    "duration": 548,
    "start_time": "2022-07-28T16:53:56.118Z"
   },
   {
    "duration": 56339,
    "start_time": "2022-07-28T16:53:56.668Z"
   },
   {
    "duration": 0,
    "start_time": "2022-07-28T16:54:53.009Z"
   },
   {
    "duration": 0,
    "start_time": "2022-07-28T16:54:53.010Z"
   },
   {
    "duration": 0,
    "start_time": "2022-07-28T16:54:53.011Z"
   },
   {
    "duration": 0,
    "start_time": "2022-07-28T16:54:53.024Z"
   },
   {
    "duration": 0,
    "start_time": "2022-07-28T16:54:53.025Z"
   },
   {
    "duration": 0,
    "start_time": "2022-07-28T16:54:53.027Z"
   },
   {
    "duration": 0,
    "start_time": "2022-07-28T16:54:53.029Z"
   },
   {
    "duration": 0,
    "start_time": "2022-07-28T16:54:53.031Z"
   },
   {
    "duration": 0,
    "start_time": "2022-07-28T16:54:53.032Z"
   },
   {
    "duration": 0,
    "start_time": "2022-07-28T16:54:53.034Z"
   },
   {
    "duration": 0,
    "start_time": "2022-07-28T16:54:53.035Z"
   },
   {
    "duration": 0,
    "start_time": "2022-07-28T16:54:53.037Z"
   },
   {
    "duration": 0,
    "start_time": "2022-07-28T16:54:53.038Z"
   },
   {
    "duration": 108,
    "start_time": "2022-07-28T16:56:21.824Z"
   },
   {
    "duration": 73,
    "start_time": "2022-07-28T17:38:38.980Z"
   },
   {
    "duration": 52,
    "start_time": "2022-07-28T17:42:15.655Z"
   },
   {
    "duration": 804,
    "start_time": "2022-07-28T17:48:50.921Z"
   },
   {
    "duration": 1704,
    "start_time": "2022-07-28T17:49:06.651Z"
   },
   {
    "duration": 1058,
    "start_time": "2022-07-28T17:49:08.358Z"
   },
   {
    "duration": 145,
    "start_time": "2022-07-28T17:49:09.417Z"
   },
   {
    "duration": 147,
    "start_time": "2022-07-28T17:49:09.564Z"
   },
   {
    "duration": 128,
    "start_time": "2022-07-28T17:49:09.713Z"
   },
   {
    "duration": 8,
    "start_time": "2022-07-28T17:49:09.842Z"
   },
   {
    "duration": 39,
    "start_time": "2022-07-28T17:49:09.856Z"
   },
   {
    "duration": 518,
    "start_time": "2022-07-28T17:49:09.896Z"
   },
   {
    "duration": 542,
    "start_time": "2022-07-28T17:49:10.417Z"
   },
   {
    "duration": 32,
    "start_time": "2022-07-28T17:49:10.960Z"
   },
   {
    "duration": 43,
    "start_time": "2022-07-28T17:49:10.994Z"
   },
   {
    "duration": 936,
    "start_time": "2022-07-28T17:49:11.040Z"
   },
   {
    "duration": 0,
    "start_time": "2022-07-28T17:49:11.978Z"
   },
   {
    "duration": 0,
    "start_time": "2022-07-28T17:49:11.980Z"
   },
   {
    "duration": 0,
    "start_time": "2022-07-28T17:49:11.981Z"
   },
   {
    "duration": 0,
    "start_time": "2022-07-28T17:49:11.982Z"
   },
   {
    "duration": 0,
    "start_time": "2022-07-28T17:49:11.983Z"
   },
   {
    "duration": 0,
    "start_time": "2022-07-28T17:49:11.985Z"
   },
   {
    "duration": 0,
    "start_time": "2022-07-28T17:49:11.986Z"
   },
   {
    "duration": 0,
    "start_time": "2022-07-28T17:49:11.987Z"
   },
   {
    "duration": 0,
    "start_time": "2022-07-28T17:49:11.989Z"
   },
   {
    "duration": 0,
    "start_time": "2022-07-28T17:49:11.990Z"
   },
   {
    "duration": 0,
    "start_time": "2022-07-28T17:49:11.990Z"
   },
   {
    "duration": 0,
    "start_time": "2022-07-28T17:49:11.992Z"
   },
   {
    "duration": 0,
    "start_time": "2022-07-28T17:49:11.993Z"
   },
   {
    "duration": 0,
    "start_time": "2022-07-28T17:49:11.994Z"
   },
   {
    "duration": 0,
    "start_time": "2022-07-28T17:49:11.995Z"
   },
   {
    "duration": 0,
    "start_time": "2022-07-28T17:49:11.996Z"
   },
   {
    "duration": 0,
    "start_time": "2022-07-28T17:49:11.997Z"
   },
   {
    "duration": 0,
    "start_time": "2022-07-28T17:49:11.999Z"
   },
   {
    "duration": 0,
    "start_time": "2022-07-28T17:49:12.000Z"
   },
   {
    "duration": 0,
    "start_time": "2022-07-28T17:49:12.001Z"
   },
   {
    "duration": 0,
    "start_time": "2022-07-28T17:49:12.003Z"
   },
   {
    "duration": 0,
    "start_time": "2022-07-28T17:49:12.004Z"
   },
   {
    "duration": 0,
    "start_time": "2022-07-28T17:49:12.006Z"
   },
   {
    "duration": 0,
    "start_time": "2022-07-28T17:49:12.007Z"
   },
   {
    "duration": 0,
    "start_time": "2022-07-28T17:49:12.009Z"
   },
   {
    "duration": 0,
    "start_time": "2022-07-28T17:49:12.010Z"
   },
   {
    "duration": 0,
    "start_time": "2022-07-28T17:49:12.011Z"
   },
   {
    "duration": 0,
    "start_time": "2022-07-28T17:49:12.013Z"
   },
   {
    "duration": 0,
    "start_time": "2022-07-28T17:49:12.014Z"
   },
   {
    "duration": 0,
    "start_time": "2022-07-28T17:49:12.015Z"
   },
   {
    "duration": 0,
    "start_time": "2022-07-28T17:49:12.023Z"
   },
   {
    "duration": 0,
    "start_time": "2022-07-28T17:49:12.023Z"
   },
   {
    "duration": 0,
    "start_time": "2022-07-28T17:49:12.024Z"
   },
   {
    "duration": 0,
    "start_time": "2022-07-28T17:49:12.025Z"
   },
   {
    "duration": 33,
    "start_time": "2022-07-28T17:49:43.822Z"
   },
   {
    "duration": 935,
    "start_time": "2022-07-28T17:50:38.718Z"
   },
   {
    "duration": 1216,
    "start_time": "2022-07-28T17:51:28.584Z"
   },
   {
    "duration": 17,
    "start_time": "2022-07-28T17:51:36.388Z"
   },
   {
    "duration": 19,
    "start_time": "2022-07-28T17:58:43.281Z"
   },
   {
    "duration": 12,
    "start_time": "2022-07-28T18:51:07.848Z"
   },
   {
    "duration": 1409,
    "start_time": "2022-07-28T18:51:14.571Z"
   },
   {
    "duration": 860,
    "start_time": "2022-07-28T18:51:15.982Z"
   },
   {
    "duration": 133,
    "start_time": "2022-07-28T18:51:16.844Z"
   },
   {
    "duration": 135,
    "start_time": "2022-07-28T18:51:16.980Z"
   },
   {
    "duration": 110,
    "start_time": "2022-07-28T18:51:17.117Z"
   },
   {
    "duration": 6,
    "start_time": "2022-07-28T18:51:17.229Z"
   },
   {
    "duration": 7,
    "start_time": "2022-07-28T18:51:17.236Z"
   },
   {
    "duration": 503,
    "start_time": "2022-07-28T18:51:17.245Z"
   },
   {
    "duration": 529,
    "start_time": "2022-07-28T18:51:17.750Z"
   },
   {
    "duration": 25,
    "start_time": "2022-07-28T18:51:18.282Z"
   },
   {
    "duration": 35,
    "start_time": "2022-07-28T18:51:18.309Z"
   },
   {
    "duration": 18,
    "start_time": "2022-07-28T18:51:18.347Z"
   },
   {
    "duration": 26,
    "start_time": "2022-07-28T18:51:18.367Z"
   },
   {
    "duration": 138,
    "start_time": "2022-07-28T18:51:18.394Z"
   },
   {
    "duration": 32,
    "start_time": "2022-07-28T18:51:18.534Z"
   },
   {
    "duration": 77,
    "start_time": "2022-07-28T18:51:18.568Z"
   },
   {
    "duration": 3,
    "start_time": "2022-07-28T18:51:18.647Z"
   },
   {
    "duration": 4,
    "start_time": "2022-07-28T18:51:18.652Z"
   },
   {
    "duration": 1142,
    "start_time": "2022-07-28T18:51:18.658Z"
   },
   {
    "duration": 121,
    "start_time": "2022-07-28T18:51:19.802Z"
   },
   {
    "duration": 2251,
    "start_time": "2022-07-28T18:51:19.925Z"
   },
   {
    "duration": 20646,
    "start_time": "2022-07-28T18:51:22.177Z"
   },
   {
    "duration": 5326,
    "start_time": "2022-07-28T18:51:42.825Z"
   },
   {
    "duration": 20,
    "start_time": "2022-07-28T18:51:48.153Z"
   },
   {
    "duration": 26,
    "start_time": "2022-07-28T18:51:48.175Z"
   },
   {
    "duration": 123,
    "start_time": "2022-07-28T18:51:48.204Z"
   },
   {
    "duration": 224,
    "start_time": "2022-07-28T18:51:48.329Z"
   },
   {
    "duration": 81,
    "start_time": "2022-07-28T18:51:48.556Z"
   },
   {
    "duration": 56,
    "start_time": "2022-07-28T18:51:48.639Z"
   },
   {
    "duration": 120,
    "start_time": "2022-07-28T18:51:48.697Z"
   },
   {
    "duration": 107,
    "start_time": "2022-07-28T18:51:48.818Z"
   },
   {
    "duration": 710,
    "start_time": "2022-07-28T18:51:48.927Z"
   },
   {
    "duration": 74,
    "start_time": "2022-07-28T18:51:49.639Z"
   },
   {
    "duration": 0,
    "start_time": "2022-07-28T18:51:49.715Z"
   },
   {
    "duration": 0,
    "start_time": "2022-07-28T18:51:49.716Z"
   },
   {
    "duration": 0,
    "start_time": "2022-07-28T18:51:49.717Z"
   },
   {
    "duration": 0,
    "start_time": "2022-07-28T18:51:49.718Z"
   },
   {
    "duration": 0,
    "start_time": "2022-07-28T18:51:49.719Z"
   },
   {
    "duration": 0,
    "start_time": "2022-07-28T18:51:49.720Z"
   },
   {
    "duration": 0,
    "start_time": "2022-07-28T18:51:49.721Z"
   },
   {
    "duration": 1,
    "start_time": "2022-07-28T18:51:49.722Z"
   },
   {
    "duration": 0,
    "start_time": "2022-07-28T18:51:49.724Z"
   },
   {
    "duration": 0,
    "start_time": "2022-07-28T18:51:49.725Z"
   },
   {
    "duration": 0,
    "start_time": "2022-07-28T18:51:49.726Z"
   },
   {
    "duration": 0,
    "start_time": "2022-07-28T18:51:49.727Z"
   },
   {
    "duration": 0,
    "start_time": "2022-07-28T18:51:49.728Z"
   },
   {
    "duration": 21,
    "start_time": "2022-07-28T18:52:25.401Z"
   },
   {
    "duration": 219,
    "start_time": "2022-07-28T18:55:06.351Z"
   },
   {
    "duration": 94,
    "start_time": "2022-07-28T18:56:19.012Z"
   },
   {
    "duration": 81,
    "start_time": "2022-07-28T18:57:08.312Z"
   },
   {
    "duration": 771,
    "start_time": "2022-07-28T18:58:53.395Z"
   },
   {
    "duration": 14,
    "start_time": "2022-07-28T18:59:16.914Z"
   },
   {
    "duration": 775,
    "start_time": "2022-07-28T18:59:38.469Z"
   },
   {
    "duration": 1469,
    "start_time": "2022-07-28T18:59:47.506Z"
   },
   {
    "duration": 913,
    "start_time": "2022-07-28T18:59:48.978Z"
   },
   {
    "duration": 131,
    "start_time": "2022-07-28T18:59:49.892Z"
   },
   {
    "duration": 124,
    "start_time": "2022-07-28T18:59:50.025Z"
   },
   {
    "duration": 109,
    "start_time": "2022-07-28T18:59:50.151Z"
   },
   {
    "duration": 6,
    "start_time": "2022-07-28T18:59:50.261Z"
   },
   {
    "duration": 10,
    "start_time": "2022-07-28T18:59:50.268Z"
   },
   {
    "duration": 500,
    "start_time": "2022-07-28T18:59:50.279Z"
   },
   {
    "duration": 480,
    "start_time": "2022-07-28T18:59:50.781Z"
   },
   {
    "duration": 24,
    "start_time": "2022-07-28T18:59:51.262Z"
   },
   {
    "duration": 37,
    "start_time": "2022-07-28T18:59:51.287Z"
   },
   {
    "duration": 15,
    "start_time": "2022-07-28T18:59:51.326Z"
   },
   {
    "duration": 31,
    "start_time": "2022-07-28T18:59:51.343Z"
   },
   {
    "duration": 129,
    "start_time": "2022-07-28T18:59:51.377Z"
   },
   {
    "duration": 31,
    "start_time": "2022-07-28T18:59:51.508Z"
   },
   {
    "duration": 52,
    "start_time": "2022-07-28T18:59:51.541Z"
   },
   {
    "duration": 2,
    "start_time": "2022-07-28T18:59:51.595Z"
   },
   {
    "duration": 8,
    "start_time": "2022-07-28T18:59:51.599Z"
   },
   {
    "duration": 1013,
    "start_time": "2022-07-28T18:59:51.623Z"
   },
   {
    "duration": 98,
    "start_time": "2022-07-28T18:59:52.638Z"
   },
   {
    "duration": 2076,
    "start_time": "2022-07-28T18:59:52.738Z"
   },
   {
    "duration": 20251,
    "start_time": "2022-07-28T18:59:54.816Z"
   },
   {
    "duration": 5339,
    "start_time": "2022-07-28T19:00:15.069Z"
   },
   {
    "duration": 20,
    "start_time": "2022-07-28T19:00:20.410Z"
   },
   {
    "duration": 21,
    "start_time": "2022-07-28T19:00:20.433Z"
   },
   {
    "duration": 116,
    "start_time": "2022-07-28T19:00:20.456Z"
   },
   {
    "duration": 224,
    "start_time": "2022-07-28T19:00:20.574Z"
   },
   {
    "duration": 77,
    "start_time": "2022-07-28T19:00:20.800Z"
   },
   {
    "duration": 80,
    "start_time": "2022-07-28T19:00:20.879Z"
   },
   {
    "duration": 43,
    "start_time": "2022-07-28T19:00:20.961Z"
   },
   {
    "duration": 83,
    "start_time": "2022-07-28T19:00:21.006Z"
   },
   {
    "duration": 105,
    "start_time": "2022-07-28T19:00:21.091Z"
   },
   {
    "duration": 646,
    "start_time": "2022-07-28T19:00:21.198Z"
   },
   {
    "duration": 1227,
    "start_time": "2022-07-28T19:00:21.846Z"
   },
   {
    "duration": 0,
    "start_time": "2022-07-28T19:00:23.076Z"
   },
   {
    "duration": 0,
    "start_time": "2022-07-28T19:00:23.078Z"
   },
   {
    "duration": 0,
    "start_time": "2022-07-28T19:00:23.079Z"
   },
   {
    "duration": 0,
    "start_time": "2022-07-28T19:00:23.081Z"
   },
   {
    "duration": 0,
    "start_time": "2022-07-28T19:00:23.082Z"
   },
   {
    "duration": 0,
    "start_time": "2022-07-28T19:00:23.084Z"
   },
   {
    "duration": 0,
    "start_time": "2022-07-28T19:00:23.085Z"
   },
   {
    "duration": 0,
    "start_time": "2022-07-28T19:00:23.087Z"
   },
   {
    "duration": 0,
    "start_time": "2022-07-28T19:00:23.089Z"
   },
   {
    "duration": 0,
    "start_time": "2022-07-28T19:00:23.090Z"
   },
   {
    "duration": 0,
    "start_time": "2022-07-28T19:00:23.091Z"
   },
   {
    "duration": 0,
    "start_time": "2022-07-28T19:00:23.093Z"
   },
   {
    "duration": 0,
    "start_time": "2022-07-28T19:00:23.094Z"
   },
   {
    "duration": 1441,
    "start_time": "2022-07-28T19:00:36.866Z"
   },
   {
    "duration": 937,
    "start_time": "2022-07-28T19:00:38.309Z"
   },
   {
    "duration": 129,
    "start_time": "2022-07-28T19:00:39.247Z"
   },
   {
    "duration": 119,
    "start_time": "2022-07-28T19:00:39.379Z"
   },
   {
    "duration": 108,
    "start_time": "2022-07-28T19:00:39.499Z"
   },
   {
    "duration": 18,
    "start_time": "2022-07-28T19:00:39.609Z"
   },
   {
    "duration": 10,
    "start_time": "2022-07-28T19:00:39.629Z"
   },
   {
    "duration": 518,
    "start_time": "2022-07-28T19:00:39.641Z"
   },
   {
    "duration": 475,
    "start_time": "2022-07-28T19:00:40.162Z"
   },
   {
    "duration": 25,
    "start_time": "2022-07-28T19:00:40.641Z"
   },
   {
    "duration": 26,
    "start_time": "2022-07-28T19:00:40.669Z"
   },
   {
    "duration": 37,
    "start_time": "2022-07-28T19:00:40.697Z"
   },
   {
    "duration": 25,
    "start_time": "2022-07-28T19:00:40.736Z"
   },
   {
    "duration": 132,
    "start_time": "2022-07-28T19:00:40.763Z"
   },
   {
    "duration": 38,
    "start_time": "2022-07-28T19:00:40.898Z"
   },
   {
    "duration": 51,
    "start_time": "2022-07-28T19:00:40.938Z"
   },
   {
    "duration": 2,
    "start_time": "2022-07-28T19:00:40.991Z"
   },
   {
    "duration": 9,
    "start_time": "2022-07-28T19:00:40.995Z"
   },
   {
    "duration": 1068,
    "start_time": "2022-07-28T19:00:41.005Z"
   },
   {
    "duration": 109,
    "start_time": "2022-07-28T19:00:42.075Z"
   },
   {
    "duration": 2161,
    "start_time": "2022-07-28T19:00:42.186Z"
   },
   {
    "duration": 21057,
    "start_time": "2022-07-28T19:00:44.349Z"
   },
   {
    "duration": 5370,
    "start_time": "2022-07-28T19:01:05.408Z"
   },
   {
    "duration": 19,
    "start_time": "2022-07-28T19:01:10.780Z"
   },
   {
    "duration": 35,
    "start_time": "2022-07-28T19:01:10.800Z"
   },
   {
    "duration": 115,
    "start_time": "2022-07-28T19:01:10.837Z"
   },
   {
    "duration": 241,
    "start_time": "2022-07-28T19:01:10.955Z"
   },
   {
    "duration": 80,
    "start_time": "2022-07-28T19:01:11.199Z"
   },
   {
    "duration": 67,
    "start_time": "2022-07-28T19:01:11.280Z"
   },
   {
    "duration": 42,
    "start_time": "2022-07-28T19:01:11.349Z"
   },
   {
    "duration": 82,
    "start_time": "2022-07-28T19:01:11.393Z"
   },
   {
    "duration": 102,
    "start_time": "2022-07-28T19:01:11.476Z"
   },
   {
    "duration": 636,
    "start_time": "2022-07-28T19:01:11.580Z"
   },
   {
    "duration": 1083,
    "start_time": "2022-07-28T19:01:12.218Z"
   },
   {
    "duration": 0,
    "start_time": "2022-07-28T19:01:13.302Z"
   },
   {
    "duration": 0,
    "start_time": "2022-07-28T19:01:13.304Z"
   },
   {
    "duration": 0,
    "start_time": "2022-07-28T19:01:13.305Z"
   },
   {
    "duration": 0,
    "start_time": "2022-07-28T19:01:13.306Z"
   },
   {
    "duration": 0,
    "start_time": "2022-07-28T19:01:13.307Z"
   },
   {
    "duration": 0,
    "start_time": "2022-07-28T19:01:13.308Z"
   },
   {
    "duration": 0,
    "start_time": "2022-07-28T19:01:13.309Z"
   },
   {
    "duration": 0,
    "start_time": "2022-07-28T19:01:13.310Z"
   },
   {
    "duration": 0,
    "start_time": "2022-07-28T19:01:13.311Z"
   },
   {
    "duration": 0,
    "start_time": "2022-07-28T19:01:13.313Z"
   },
   {
    "duration": 0,
    "start_time": "2022-07-28T19:01:13.314Z"
   },
   {
    "duration": 0,
    "start_time": "2022-07-28T19:01:13.315Z"
   },
   {
    "duration": 0,
    "start_time": "2022-07-28T19:01:13.315Z"
   },
   {
    "duration": 14,
    "start_time": "2022-07-28T19:03:03.190Z"
   },
   {
    "duration": 915,
    "start_time": "2022-07-28T19:03:32.678Z"
   },
   {
    "duration": 837,
    "start_time": "2022-07-28T19:06:49.235Z"
   },
   {
    "duration": 1442,
    "start_time": "2022-07-28T19:07:08.277Z"
   },
   {
    "duration": 899,
    "start_time": "2022-07-28T19:07:09.721Z"
   },
   {
    "duration": 132,
    "start_time": "2022-07-28T19:07:10.623Z"
   },
   {
    "duration": 129,
    "start_time": "2022-07-28T19:07:10.758Z"
   },
   {
    "duration": 117,
    "start_time": "2022-07-28T19:07:10.889Z"
   },
   {
    "duration": 6,
    "start_time": "2022-07-28T19:07:11.007Z"
   },
   {
    "duration": 9,
    "start_time": "2022-07-28T19:07:11.024Z"
   },
   {
    "duration": 515,
    "start_time": "2022-07-28T19:07:11.034Z"
   },
   {
    "duration": 474,
    "start_time": "2022-07-28T19:07:11.551Z"
   },
   {
    "duration": 24,
    "start_time": "2022-07-28T19:07:12.028Z"
   },
   {
    "duration": 25,
    "start_time": "2022-07-28T19:07:12.054Z"
   },
   {
    "duration": 17,
    "start_time": "2022-07-28T19:07:12.080Z"
   },
   {
    "duration": 43,
    "start_time": "2022-07-28T19:07:12.098Z"
   },
   {
    "duration": 129,
    "start_time": "2022-07-28T19:07:12.142Z"
   },
   {
    "duration": 32,
    "start_time": "2022-07-28T19:07:12.272Z"
   },
   {
    "duration": 66,
    "start_time": "2022-07-28T19:07:12.306Z"
   },
   {
    "duration": 2,
    "start_time": "2022-07-28T19:07:12.374Z"
   },
   {
    "duration": 5,
    "start_time": "2022-07-28T19:07:12.378Z"
   },
   {
    "duration": 1102,
    "start_time": "2022-07-28T19:07:12.384Z"
   },
   {
    "duration": 118,
    "start_time": "2022-07-28T19:07:13.487Z"
   },
   {
    "duration": 2112,
    "start_time": "2022-07-28T19:07:13.607Z"
   },
   {
    "duration": 20450,
    "start_time": "2022-07-28T19:07:15.720Z"
   },
   {
    "duration": 5527,
    "start_time": "2022-07-28T19:07:36.172Z"
   },
   {
    "duration": 23,
    "start_time": "2022-07-28T19:07:41.701Z"
   },
   {
    "duration": 23,
    "start_time": "2022-07-28T19:07:41.726Z"
   },
   {
    "duration": 112,
    "start_time": "2022-07-28T19:07:41.751Z"
   },
   {
    "duration": 235,
    "start_time": "2022-07-28T19:07:41.864Z"
   },
   {
    "duration": 73,
    "start_time": "2022-07-28T19:07:42.103Z"
   },
   {
    "duration": 72,
    "start_time": "2022-07-28T19:07:42.178Z"
   },
   {
    "duration": 45,
    "start_time": "2022-07-28T19:07:42.252Z"
   },
   {
    "duration": 91,
    "start_time": "2022-07-28T19:07:42.299Z"
   },
   {
    "duration": 112,
    "start_time": "2022-07-28T19:07:42.392Z"
   },
   {
    "duration": 658,
    "start_time": "2022-07-28T19:07:42.505Z"
   },
   {
    "duration": 908,
    "start_time": "2022-07-28T19:07:43.165Z"
   },
   {
    "duration": 0,
    "start_time": "2022-07-28T19:07:44.074Z"
   },
   {
    "duration": 0,
    "start_time": "2022-07-28T19:07:44.075Z"
   },
   {
    "duration": 0,
    "start_time": "2022-07-28T19:07:44.077Z"
   },
   {
    "duration": 0,
    "start_time": "2022-07-28T19:07:44.078Z"
   },
   {
    "duration": 0,
    "start_time": "2022-07-28T19:07:44.079Z"
   },
   {
    "duration": 0,
    "start_time": "2022-07-28T19:07:44.080Z"
   },
   {
    "duration": 0,
    "start_time": "2022-07-28T19:07:44.082Z"
   },
   {
    "duration": 0,
    "start_time": "2022-07-28T19:07:44.083Z"
   },
   {
    "duration": 0,
    "start_time": "2022-07-28T19:07:44.084Z"
   },
   {
    "duration": 0,
    "start_time": "2022-07-28T19:07:44.085Z"
   },
   {
    "duration": 0,
    "start_time": "2022-07-28T19:07:44.087Z"
   },
   {
    "duration": 0,
    "start_time": "2022-07-28T19:07:44.088Z"
   },
   {
    "duration": 0,
    "start_time": "2022-07-28T19:07:44.089Z"
   },
   {
    "duration": 57,
    "start_time": "2022-07-28T19:08:34.253Z"
   },
   {
    "duration": 952,
    "start_time": "2022-07-28T19:08:41.245Z"
   },
   {
    "duration": 22,
    "start_time": "2022-07-28T19:16:04.617Z"
   },
   {
    "duration": 19,
    "start_time": "2022-07-28T19:16:45.125Z"
   },
   {
    "duration": 1628,
    "start_time": "2022-07-28T19:17:27.906Z"
   },
   {
    "duration": 890,
    "start_time": "2022-07-28T19:17:29.537Z"
   },
   {
    "duration": 121,
    "start_time": "2022-07-28T19:17:30.429Z"
   },
   {
    "duration": 136,
    "start_time": "2022-07-28T19:17:30.553Z"
   },
   {
    "duration": 111,
    "start_time": "2022-07-28T19:17:30.691Z"
   },
   {
    "duration": 6,
    "start_time": "2022-07-28T19:17:30.804Z"
   },
   {
    "duration": 43,
    "start_time": "2022-07-28T19:17:30.811Z"
   },
   {
    "duration": 515,
    "start_time": "2022-07-28T19:17:30.856Z"
   },
   {
    "duration": 554,
    "start_time": "2022-07-28T19:17:31.373Z"
   },
   {
    "duration": 25,
    "start_time": "2022-07-28T19:17:31.930Z"
   },
   {
    "duration": 37,
    "start_time": "2022-07-28T19:17:31.957Z"
   },
   {
    "duration": 37,
    "start_time": "2022-07-28T19:17:31.996Z"
   },
   {
    "duration": 39,
    "start_time": "2022-07-28T19:17:32.036Z"
   },
   {
    "duration": 150,
    "start_time": "2022-07-28T19:17:32.077Z"
   },
   {
    "duration": 37,
    "start_time": "2022-07-28T19:17:32.230Z"
   },
   {
    "duration": 78,
    "start_time": "2022-07-28T19:17:32.269Z"
   },
   {
    "duration": 3,
    "start_time": "2022-07-28T19:17:32.349Z"
   },
   {
    "duration": 16,
    "start_time": "2022-07-28T19:17:32.353Z"
   },
   {
    "duration": 1236,
    "start_time": "2022-07-28T19:17:32.371Z"
   },
   {
    "duration": 147,
    "start_time": "2022-07-28T19:17:33.609Z"
   },
   {
    "duration": 2204,
    "start_time": "2022-07-28T19:17:33.758Z"
   },
   {
    "duration": 22043,
    "start_time": "2022-07-28T19:17:35.964Z"
   },
   {
    "duration": 5922,
    "start_time": "2022-07-28T19:17:58.009Z"
   },
   {
    "duration": 33,
    "start_time": "2022-07-28T19:18:03.934Z"
   },
   {
    "duration": 25,
    "start_time": "2022-07-28T19:18:03.969Z"
   },
   {
    "duration": 173,
    "start_time": "2022-07-28T19:18:03.996Z"
   },
   {
    "duration": 227,
    "start_time": "2022-07-28T19:18:04.171Z"
   },
   {
    "duration": 75,
    "start_time": "2022-07-28T19:18:04.402Z"
   },
   {
    "duration": 66,
    "start_time": "2022-07-28T19:18:04.479Z"
   },
   {
    "duration": 39,
    "start_time": "2022-07-28T19:18:04.547Z"
   },
   {
    "duration": 84,
    "start_time": "2022-07-28T19:18:04.588Z"
   },
   {
    "duration": 103,
    "start_time": "2022-07-28T19:18:04.674Z"
   },
   {
    "duration": 705,
    "start_time": "2022-07-28T19:18:04.779Z"
   },
   {
    "duration": 134,
    "start_time": "2022-07-28T19:18:05.486Z"
   },
   {
    "duration": 0,
    "start_time": "2022-07-28T19:18:05.623Z"
   },
   {
    "duration": 0,
    "start_time": "2022-07-28T19:18:05.625Z"
   },
   {
    "duration": 0,
    "start_time": "2022-07-28T19:18:05.626Z"
   },
   {
    "duration": 0,
    "start_time": "2022-07-28T19:18:05.629Z"
   },
   {
    "duration": 0,
    "start_time": "2022-07-28T19:18:05.631Z"
   },
   {
    "duration": 0,
    "start_time": "2022-07-28T19:18:05.632Z"
   },
   {
    "duration": 0,
    "start_time": "2022-07-28T19:18:05.633Z"
   },
   {
    "duration": 0,
    "start_time": "2022-07-28T19:18:05.635Z"
   },
   {
    "duration": 0,
    "start_time": "2022-07-28T19:18:05.636Z"
   },
   {
    "duration": 0,
    "start_time": "2022-07-28T19:18:05.637Z"
   },
   {
    "duration": 0,
    "start_time": "2022-07-28T19:18:05.638Z"
   },
   {
    "duration": 0,
    "start_time": "2022-07-28T19:18:05.639Z"
   },
   {
    "duration": 0,
    "start_time": "2022-07-28T19:18:05.641Z"
   },
   {
    "duration": 420,
    "start_time": "2022-07-28T19:20:22.215Z"
   },
   {
    "duration": 27365,
    "start_time": "2022-07-28T19:20:25.995Z"
   },
   {
    "duration": 1611,
    "start_time": "2022-07-28T21:43:08.795Z"
   },
   {
    "duration": 1160,
    "start_time": "2022-07-28T21:43:10.408Z"
   },
   {
    "duration": 124,
    "start_time": "2022-07-28T21:43:11.570Z"
   },
   {
    "duration": 142,
    "start_time": "2022-07-28T21:43:11.696Z"
   },
   {
    "duration": 97,
    "start_time": "2022-07-28T21:43:11.841Z"
   },
   {
    "duration": 6,
    "start_time": "2022-07-28T21:43:11.940Z"
   },
   {
    "duration": 10,
    "start_time": "2022-07-28T21:43:11.961Z"
   },
   {
    "duration": 490,
    "start_time": "2022-07-28T21:43:11.973Z"
   },
   {
    "duration": 498,
    "start_time": "2022-07-28T21:43:12.465Z"
   },
   {
    "duration": 23,
    "start_time": "2022-07-28T21:43:12.964Z"
   },
   {
    "duration": 24,
    "start_time": "2022-07-28T21:43:12.988Z"
   },
   {
    "duration": 16,
    "start_time": "2022-07-28T21:43:13.013Z"
   },
   {
    "duration": 45,
    "start_time": "2022-07-28T21:43:13.032Z"
   },
   {
    "duration": 117,
    "start_time": "2022-07-28T21:43:13.081Z"
   },
   {
    "duration": 29,
    "start_time": "2022-07-28T21:43:13.200Z"
   },
   {
    "duration": 69,
    "start_time": "2022-07-28T21:43:13.231Z"
   },
   {
    "duration": 3,
    "start_time": "2022-07-28T21:43:13.302Z"
   },
   {
    "duration": 8,
    "start_time": "2022-07-28T21:43:13.306Z"
   },
   {
    "duration": 1002,
    "start_time": "2022-07-28T21:43:13.316Z"
   },
   {
    "duration": 116,
    "start_time": "2022-07-28T21:43:14.320Z"
   },
   {
    "duration": 2043,
    "start_time": "2022-07-28T21:43:14.438Z"
   },
   {
    "duration": 18664,
    "start_time": "2022-07-28T21:43:16.483Z"
   },
   {
    "duration": 4939,
    "start_time": "2022-07-28T21:43:35.148Z"
   },
   {
    "duration": 18,
    "start_time": "2022-07-28T21:43:40.088Z"
   },
   {
    "duration": 23,
    "start_time": "2022-07-28T21:43:40.107Z"
   },
   {
    "duration": 129,
    "start_time": "2022-07-28T21:43:40.131Z"
   },
   {
    "duration": 210,
    "start_time": "2022-07-28T21:43:40.262Z"
   },
   {
    "duration": 95,
    "start_time": "2022-07-28T21:43:40.474Z"
   },
   {
    "duration": 52,
    "start_time": "2022-07-28T21:43:40.573Z"
   },
   {
    "duration": 40,
    "start_time": "2022-07-28T21:43:40.627Z"
   },
   {
    "duration": 80,
    "start_time": "2022-07-28T21:43:40.668Z"
   },
   {
    "duration": 93,
    "start_time": "2022-07-28T21:43:40.749Z"
   },
   {
    "duration": 583,
    "start_time": "2022-07-28T21:43:40.844Z"
   },
   {
    "duration": 392,
    "start_time": "2022-07-28T21:43:41.429Z"
   },
   {
    "duration": 28468,
    "start_time": "2022-07-28T21:43:41.822Z"
   },
   {
    "duration": 0,
    "start_time": "2022-07-28T21:44:10.292Z"
   },
   {
    "duration": 0,
    "start_time": "2022-07-28T21:44:10.294Z"
   },
   {
    "duration": 0,
    "start_time": "2022-07-28T21:44:10.295Z"
   },
   {
    "duration": 0,
    "start_time": "2022-07-28T21:44:10.296Z"
   },
   {
    "duration": 0,
    "start_time": "2022-07-28T21:44:10.298Z"
   },
   {
    "duration": 0,
    "start_time": "2022-07-28T21:44:10.299Z"
   },
   {
    "duration": 0,
    "start_time": "2022-07-28T21:44:10.301Z"
   },
   {
    "duration": 0,
    "start_time": "2022-07-28T21:44:10.302Z"
   },
   {
    "duration": 0,
    "start_time": "2022-07-28T21:44:10.303Z"
   },
   {
    "duration": 0,
    "start_time": "2022-07-28T21:44:10.305Z"
   },
   {
    "duration": 0,
    "start_time": "2022-07-28T21:44:10.307Z"
   },
   {
    "duration": 0,
    "start_time": "2022-07-28T21:44:10.308Z"
   },
   {
    "duration": 0,
    "start_time": "2022-07-28T21:44:10.310Z"
   },
   {
    "duration": 483,
    "start_time": "2022-07-28T21:47:18.194Z"
   },
   {
    "duration": 546,
    "start_time": "2022-07-28T21:48:54.995Z"
   },
   {
    "duration": 1361,
    "start_time": "2022-07-28T21:49:08.014Z"
   },
   {
    "duration": 855,
    "start_time": "2022-07-28T21:49:09.378Z"
   },
   {
    "duration": 137,
    "start_time": "2022-07-28T21:49:10.236Z"
   },
   {
    "duration": 140,
    "start_time": "2022-07-28T21:49:10.376Z"
   },
   {
    "duration": 148,
    "start_time": "2022-07-28T21:49:10.518Z"
   },
   {
    "duration": 5,
    "start_time": "2022-07-28T21:49:10.668Z"
   },
   {
    "duration": 7,
    "start_time": "2022-07-28T21:49:10.675Z"
   },
   {
    "duration": 501,
    "start_time": "2022-07-28T21:49:10.684Z"
   },
   {
    "duration": 795,
    "start_time": "2022-07-28T21:49:11.186Z"
   },
   {
    "duration": 78,
    "start_time": "2022-07-28T21:49:11.983Z"
   },
   {
    "duration": 24,
    "start_time": "2022-07-28T21:49:12.063Z"
   },
   {
    "duration": 75,
    "start_time": "2022-07-28T21:49:12.088Z"
   },
   {
    "duration": 27,
    "start_time": "2022-07-28T21:49:12.164Z"
   },
   {
    "duration": 270,
    "start_time": "2022-07-28T21:49:12.193Z"
   },
   {
    "duration": 28,
    "start_time": "2022-07-28T21:49:12.464Z"
   },
   {
    "duration": 167,
    "start_time": "2022-07-28T21:49:12.494Z"
   },
   {
    "duration": 3,
    "start_time": "2022-07-28T21:49:12.662Z"
   },
   {
    "duration": 22,
    "start_time": "2022-07-28T21:49:12.667Z"
   },
   {
    "duration": 1279,
    "start_time": "2022-07-28T21:49:12.692Z"
   },
   {
    "duration": 118,
    "start_time": "2022-07-28T21:49:13.973Z"
   },
   {
    "duration": 1957,
    "start_time": "2022-07-28T21:49:14.092Z"
   },
   {
    "duration": 18657,
    "start_time": "2022-07-28T21:49:16.050Z"
   },
   {
    "duration": 5034,
    "start_time": "2022-07-28T21:49:34.709Z"
   },
   {
    "duration": 18,
    "start_time": "2022-07-28T21:49:39.745Z"
   },
   {
    "duration": 26,
    "start_time": "2022-07-28T21:49:39.765Z"
   },
   {
    "duration": 117,
    "start_time": "2022-07-28T21:49:39.792Z"
   },
   {
    "duration": 203,
    "start_time": "2022-07-28T21:49:39.911Z"
   },
   {
    "duration": 85,
    "start_time": "2022-07-28T21:49:40.117Z"
   },
   {
    "duration": 62,
    "start_time": "2022-07-28T21:49:40.204Z"
   },
   {
    "duration": 44,
    "start_time": "2022-07-28T21:49:40.268Z"
   },
   {
    "duration": 90,
    "start_time": "2022-07-28T21:49:40.314Z"
   },
   {
    "duration": 103,
    "start_time": "2022-07-28T21:49:40.406Z"
   },
   {
    "duration": 564,
    "start_time": "2022-07-28T21:49:40.511Z"
   },
   {
    "duration": 391,
    "start_time": "2022-07-28T21:49:41.077Z"
   },
   {
    "duration": 30345,
    "start_time": "2022-07-28T21:49:41.469Z"
   },
   {
    "duration": 0,
    "start_time": "2022-07-28T21:50:11.815Z"
   },
   {
    "duration": 0,
    "start_time": "2022-07-28T21:50:11.817Z"
   },
   {
    "duration": 0,
    "start_time": "2022-07-28T21:50:11.818Z"
   },
   {
    "duration": 0,
    "start_time": "2022-07-28T21:50:11.819Z"
   },
   {
    "duration": 0,
    "start_time": "2022-07-28T21:50:11.820Z"
   },
   {
    "duration": 0,
    "start_time": "2022-07-28T21:50:11.821Z"
   },
   {
    "duration": 0,
    "start_time": "2022-07-28T21:50:11.822Z"
   },
   {
    "duration": 0,
    "start_time": "2022-07-28T21:50:11.823Z"
   },
   {
    "duration": 0,
    "start_time": "2022-07-28T21:50:11.825Z"
   },
   {
    "duration": 0,
    "start_time": "2022-07-28T21:50:11.826Z"
   },
   {
    "duration": 0,
    "start_time": "2022-07-28T21:50:11.828Z"
   },
   {
    "duration": 0,
    "start_time": "2022-07-28T21:50:11.829Z"
   },
   {
    "duration": 0,
    "start_time": "2022-07-28T21:50:11.830Z"
   },
   {
    "duration": 11,
    "start_time": "2022-07-28T21:51:10.928Z"
   },
   {
    "duration": 771,
    "start_time": "2022-07-28T21:51:41.910Z"
   },
   {
    "duration": 431,
    "start_time": "2022-07-28T21:54:34.821Z"
   },
   {
    "duration": 19219,
    "start_time": "2022-07-28T21:54:58.798Z"
   },
   {
    "duration": 4,
    "start_time": "2022-07-28T21:56:10.290Z"
   },
   {
    "duration": 78,
    "start_time": "2022-07-28T21:56:27.756Z"
   },
   {
    "duration": 11,
    "start_time": "2022-07-28T22:02:21.011Z"
   },
   {
    "duration": 442,
    "start_time": "2022-07-28T22:02:32.729Z"
   },
   {
    "duration": 8412,
    "start_time": "2022-07-28T22:02:35.402Z"
   },
   {
    "duration": 5461,
    "start_time": "2022-07-28T22:08:18.621Z"
   },
   {
    "duration": 6882,
    "start_time": "2022-07-28T22:09:23.319Z"
   },
   {
    "duration": 1435,
    "start_time": "2022-07-28T22:10:30.632Z"
   },
   {
    "duration": 801,
    "start_time": "2022-07-28T22:10:32.069Z"
   },
   {
    "duration": 137,
    "start_time": "2022-07-28T22:10:32.871Z"
   },
   {
    "duration": 138,
    "start_time": "2022-07-28T22:10:33.010Z"
   },
   {
    "duration": 96,
    "start_time": "2022-07-28T22:10:33.151Z"
   },
   {
    "duration": 16,
    "start_time": "2022-07-28T22:10:33.249Z"
   },
   {
    "duration": 23,
    "start_time": "2022-07-28T22:10:33.267Z"
   },
   {
    "duration": 445,
    "start_time": "2022-07-28T22:10:33.292Z"
   },
   {
    "duration": 436,
    "start_time": "2022-07-28T22:10:33.739Z"
   },
   {
    "duration": 24,
    "start_time": "2022-07-28T22:10:34.177Z"
   },
   {
    "duration": 24,
    "start_time": "2022-07-28T22:10:34.203Z"
   },
   {
    "duration": 38,
    "start_time": "2022-07-28T22:10:34.229Z"
   },
   {
    "duration": 23,
    "start_time": "2022-07-28T22:10:34.269Z"
   },
   {
    "duration": 109,
    "start_time": "2022-07-28T22:10:34.295Z"
   },
   {
    "duration": 28,
    "start_time": "2022-07-28T22:10:34.405Z"
   },
   {
    "duration": 64,
    "start_time": "2022-07-28T22:10:34.434Z"
   },
   {
    "duration": 2,
    "start_time": "2022-07-28T22:10:34.500Z"
   },
   {
    "duration": 6,
    "start_time": "2022-07-28T22:10:34.503Z"
   },
   {
    "duration": 985,
    "start_time": "2022-07-28T22:10:34.510Z"
   },
   {
    "duration": 117,
    "start_time": "2022-07-28T22:10:35.497Z"
   },
   {
    "duration": 1925,
    "start_time": "2022-07-28T22:10:35.616Z"
   },
   {
    "duration": 18343,
    "start_time": "2022-07-28T22:10:37.543Z"
   },
   {
    "duration": 4975,
    "start_time": "2022-07-28T22:10:55.888Z"
   },
   {
    "duration": 20,
    "start_time": "2022-07-28T22:11:00.865Z"
   },
   {
    "duration": 33,
    "start_time": "2022-07-28T22:11:00.886Z"
   },
   {
    "duration": 132,
    "start_time": "2022-07-28T22:11:00.920Z"
   },
   {
    "duration": 215,
    "start_time": "2022-07-28T22:11:01.054Z"
   },
   {
    "duration": 77,
    "start_time": "2022-07-28T22:11:01.271Z"
   },
   {
    "duration": 52,
    "start_time": "2022-07-28T22:11:01.361Z"
   },
   {
    "duration": 55,
    "start_time": "2022-07-28T22:11:01.415Z"
   },
   {
    "duration": 77,
    "start_time": "2022-07-28T22:11:01.472Z"
   },
   {
    "duration": 93,
    "start_time": "2022-07-28T22:11:01.551Z"
   },
   {
    "duration": 642,
    "start_time": "2022-07-28T22:11:01.645Z"
   },
   {
    "duration": 408,
    "start_time": "2022-07-28T22:11:02.289Z"
   },
   {
    "duration": 23188,
    "start_time": "2022-07-28T22:11:02.698Z"
   },
   {
    "duration": 0,
    "start_time": "2022-07-28T22:11:25.888Z"
   },
   {
    "duration": 0,
    "start_time": "2022-07-28T22:11:25.889Z"
   },
   {
    "duration": 0,
    "start_time": "2022-07-28T22:11:25.890Z"
   },
   {
    "duration": 0,
    "start_time": "2022-07-28T22:11:25.892Z"
   },
   {
    "duration": 0,
    "start_time": "2022-07-28T22:11:25.893Z"
   },
   {
    "duration": 0,
    "start_time": "2022-07-28T22:11:25.893Z"
   },
   {
    "duration": 0,
    "start_time": "2022-07-28T22:11:25.895Z"
   },
   {
    "duration": 0,
    "start_time": "2022-07-28T22:11:25.896Z"
   },
   {
    "duration": 0,
    "start_time": "2022-07-28T22:11:25.897Z"
   },
   {
    "duration": 0,
    "start_time": "2022-07-28T22:11:25.898Z"
   },
   {
    "duration": 0,
    "start_time": "2022-07-28T22:11:25.899Z"
   },
   {
    "duration": 0,
    "start_time": "2022-07-28T22:11:25.900Z"
   },
   {
    "duration": 0,
    "start_time": "2022-07-28T22:11:25.901Z"
   },
   {
    "duration": 413,
    "start_time": "2022-07-28T22:11:33.277Z"
   },
   {
    "duration": 6913,
    "start_time": "2022-07-28T22:11:35.008Z"
   },
   {
    "duration": 13176,
    "start_time": "2022-07-28T22:12:11.566Z"
   },
   {
    "duration": 416,
    "start_time": "2022-07-28T22:14:07.724Z"
   },
   {
    "duration": 16044,
    "start_time": "2022-07-28T22:14:09.825Z"
   },
   {
    "duration": 65,
    "start_time": "2022-07-28T22:16:59.885Z"
   },
   {
    "duration": 57,
    "start_time": "2022-07-28T22:17:07.883Z"
   },
   {
    "duration": 4,
    "start_time": "2022-07-28T22:20:28.679Z"
   },
   {
    "duration": 146,
    "start_time": "2022-07-28T22:20:46.837Z"
   },
   {
    "duration": 878,
    "start_time": "2022-07-28T22:21:11.918Z"
   },
   {
    "duration": 17940,
    "start_time": "2022-07-28T22:21:14.808Z"
   },
   {
    "duration": 332,
    "start_time": "2022-07-28T22:23:03.963Z"
   },
   {
    "duration": 12276,
    "start_time": "2022-07-28T22:23:50.164Z"
   },
   {
    "duration": 18368,
    "start_time": "2022-07-28T22:25:59.398Z"
   },
   {
    "duration": 1420,
    "start_time": "2022-07-28T22:27:42.459Z"
   },
   {
    "duration": 830,
    "start_time": "2022-07-28T22:27:43.880Z"
   },
   {
    "duration": 132,
    "start_time": "2022-07-28T22:27:44.712Z"
   },
   {
    "duration": 142,
    "start_time": "2022-07-28T22:27:44.846Z"
   },
   {
    "duration": 144,
    "start_time": "2022-07-28T22:27:44.989Z"
   },
   {
    "duration": 5,
    "start_time": "2022-07-28T22:27:45.135Z"
   },
   {
    "duration": 35,
    "start_time": "2022-07-28T22:27:45.141Z"
   },
   {
    "duration": 514,
    "start_time": "2022-07-28T22:27:45.178Z"
   },
   {
    "duration": 519,
    "start_time": "2022-07-28T22:27:45.694Z"
   },
   {
    "duration": 32,
    "start_time": "2022-07-28T22:27:46.216Z"
   },
   {
    "duration": 47,
    "start_time": "2022-07-28T22:27:46.250Z"
   },
   {
    "duration": 39,
    "start_time": "2022-07-28T22:27:46.299Z"
   },
   {
    "duration": 49,
    "start_time": "2022-07-28T22:27:46.340Z"
   },
   {
    "duration": 148,
    "start_time": "2022-07-28T22:27:46.391Z"
   },
   {
    "duration": 34,
    "start_time": "2022-07-28T22:27:46.541Z"
   },
   {
    "duration": 53,
    "start_time": "2022-07-28T22:27:46.577Z"
   },
   {
    "duration": 2,
    "start_time": "2022-07-28T22:27:46.632Z"
   },
   {
    "duration": 32,
    "start_time": "2022-07-28T22:27:46.636Z"
   },
   {
    "duration": 987,
    "start_time": "2022-07-28T22:27:46.669Z"
   },
   {
    "duration": 110,
    "start_time": "2022-07-28T22:27:47.658Z"
   },
   {
    "duration": 1947,
    "start_time": "2022-07-28T22:27:47.771Z"
   },
   {
    "duration": 18618,
    "start_time": "2022-07-28T22:27:49.719Z"
   },
   {
    "duration": 4803,
    "start_time": "2022-07-28T22:28:08.339Z"
   },
   {
    "duration": 19,
    "start_time": "2022-07-28T22:28:13.143Z"
   },
   {
    "duration": 22,
    "start_time": "2022-07-28T22:28:13.164Z"
   },
   {
    "duration": 121,
    "start_time": "2022-07-28T22:28:13.188Z"
   },
   {
    "duration": 208,
    "start_time": "2022-07-28T22:28:13.311Z"
   },
   {
    "duration": 84,
    "start_time": "2022-07-28T22:28:13.522Z"
   },
   {
    "duration": 59,
    "start_time": "2022-07-28T22:28:13.607Z"
   },
   {
    "duration": 39,
    "start_time": "2022-07-28T22:28:13.668Z"
   },
   {
    "duration": 88,
    "start_time": "2022-07-28T22:28:13.709Z"
   },
   {
    "duration": 100,
    "start_time": "2022-07-28T22:28:13.798Z"
   },
   {
    "duration": 598,
    "start_time": "2022-07-28T22:28:13.900Z"
   },
   {
    "duration": 411,
    "start_time": "2022-07-28T22:28:14.500Z"
   },
   {
    "duration": 21521,
    "start_time": "2022-07-28T22:28:14.913Z"
   },
   {
    "duration": 0,
    "start_time": "2022-07-28T22:28:36.435Z"
   },
   {
    "duration": 0,
    "start_time": "2022-07-28T22:28:36.437Z"
   },
   {
    "duration": 0,
    "start_time": "2022-07-28T22:28:36.439Z"
   },
   {
    "duration": 0,
    "start_time": "2022-07-28T22:28:36.440Z"
   },
   {
    "duration": 0,
    "start_time": "2022-07-28T22:28:36.442Z"
   },
   {
    "duration": 0,
    "start_time": "2022-07-28T22:28:36.443Z"
   },
   {
    "duration": 0,
    "start_time": "2022-07-28T22:28:36.445Z"
   },
   {
    "duration": 0,
    "start_time": "2022-07-28T22:28:36.447Z"
   },
   {
    "duration": 0,
    "start_time": "2022-07-28T22:28:36.461Z"
   },
   {
    "duration": 0,
    "start_time": "2022-07-28T22:28:36.462Z"
   },
   {
    "duration": 0,
    "start_time": "2022-07-28T22:28:36.464Z"
   },
   {
    "duration": 0,
    "start_time": "2022-07-28T22:28:36.465Z"
   },
   {
    "duration": 0,
    "start_time": "2022-07-28T22:28:36.467Z"
   },
   {
    "duration": 0,
    "start_time": "2022-07-28T22:28:36.468Z"
   },
   {
    "duration": 858,
    "start_time": "2022-07-28T22:28:45.246Z"
   },
   {
    "duration": 10546,
    "start_time": "2022-07-28T22:28:48.877Z"
   },
   {
    "duration": 12226,
    "start_time": "2022-07-28T22:32:01.368Z"
   },
   {
    "duration": 1464,
    "start_time": "2022-07-28T22:32:29.546Z"
   },
   {
    "duration": 47047,
    "start_time": "2022-07-28T22:33:25.397Z"
   },
   {
    "duration": 2814,
    "start_time": "2022-07-28T22:34:12.446Z"
   },
   {
    "duration": 6319,
    "start_time": "2022-07-28T22:35:17.900Z"
   },
   {
    "duration": 2709,
    "start_time": "2022-07-28T22:35:49.122Z"
   },
   {
    "duration": 2834,
    "start_time": "2022-07-28T22:36:15.638Z"
   },
   {
    "duration": 41,
    "start_time": "2022-07-28T22:37:42.430Z"
   },
   {
    "duration": 23,
    "start_time": "2022-07-28T22:38:00.610Z"
   },
   {
    "duration": 3,
    "start_time": "2022-07-28T22:39:28.516Z"
   },
   {
    "duration": 4,
    "start_time": "2022-07-28T22:39:46.905Z"
   },
   {
    "duration": 3,
    "start_time": "2022-07-28T22:40:07.421Z"
   },
   {
    "duration": 3,
    "start_time": "2022-07-28T22:40:12.230Z"
   },
   {
    "duration": 4,
    "start_time": "2022-07-28T22:40:28.369Z"
   },
   {
    "duration": 4,
    "start_time": "2022-07-28T22:40:33.271Z"
   },
   {
    "duration": 5,
    "start_time": "2022-07-28T22:41:06.300Z"
   },
   {
    "duration": 4,
    "start_time": "2022-07-28T22:41:24.048Z"
   },
   {
    "duration": 4,
    "start_time": "2022-07-28T22:43:47.751Z"
   },
   {
    "duration": 4,
    "start_time": "2022-07-28T22:43:55.201Z"
   },
   {
    "duration": 4,
    "start_time": "2022-07-28T22:47:40.559Z"
   },
   {
    "duration": 5,
    "start_time": "2022-07-28T22:48:33.203Z"
   },
   {
    "duration": 4,
    "start_time": "2022-07-28T22:48:37.398Z"
   },
   {
    "duration": 321,
    "start_time": "2022-07-28T22:48:55.199Z"
   },
   {
    "duration": 21229,
    "start_time": "2022-07-28T22:48:58.431Z"
   },
   {
    "duration": 1424,
    "start_time": "2022-07-28T22:49:55.929Z"
   },
   {
    "duration": 799,
    "start_time": "2022-07-28T22:49:57.355Z"
   },
   {
    "duration": 122,
    "start_time": "2022-07-28T22:49:58.156Z"
   },
   {
    "duration": 139,
    "start_time": "2022-07-28T22:49:58.281Z"
   },
   {
    "duration": 92,
    "start_time": "2022-07-28T22:49:58.422Z"
   },
   {
    "duration": 5,
    "start_time": "2022-07-28T22:49:58.516Z"
   },
   {
    "duration": 12,
    "start_time": "2022-07-28T22:49:58.522Z"
   },
   {
    "duration": 460,
    "start_time": "2022-07-28T22:49:58.536Z"
   },
   {
    "duration": 516,
    "start_time": "2022-07-28T22:49:58.998Z"
   },
   {
    "duration": 26,
    "start_time": "2022-07-28T22:49:59.517Z"
   },
   {
    "duration": 40,
    "start_time": "2022-07-28T22:49:59.547Z"
   },
   {
    "duration": 27,
    "start_time": "2022-07-28T22:49:59.589Z"
   },
   {
    "duration": 23,
    "start_time": "2022-07-28T22:49:59.617Z"
   },
   {
    "duration": 109,
    "start_time": "2022-07-28T22:49:59.642Z"
   },
   {
    "duration": 30,
    "start_time": "2022-07-28T22:49:59.752Z"
   },
   {
    "duration": 57,
    "start_time": "2022-07-28T22:49:59.784Z"
   },
   {
    "duration": 3,
    "start_time": "2022-07-28T22:49:59.842Z"
   },
   {
    "duration": 16,
    "start_time": "2022-07-28T22:49:59.846Z"
   },
   {
    "duration": 1011,
    "start_time": "2022-07-28T22:49:59.863Z"
   },
   {
    "duration": 113,
    "start_time": "2022-07-28T22:50:00.876Z"
   },
   {
    "duration": 1981,
    "start_time": "2022-07-28T22:50:00.991Z"
   },
   {
    "duration": 18730,
    "start_time": "2022-07-28T22:50:02.973Z"
   },
   {
    "duration": 4830,
    "start_time": "2022-07-28T22:50:21.704Z"
   },
   {
    "duration": 17,
    "start_time": "2022-07-28T22:50:26.536Z"
   },
   {
    "duration": 41,
    "start_time": "2022-07-28T22:50:26.560Z"
   },
   {
    "duration": 115,
    "start_time": "2022-07-28T22:50:26.603Z"
   },
   {
    "duration": 194,
    "start_time": "2022-07-28T22:50:26.720Z"
   },
   {
    "duration": 77,
    "start_time": "2022-07-28T22:50:26.917Z"
   },
   {
    "duration": 65,
    "start_time": "2022-07-28T22:50:26.996Z"
   },
   {
    "duration": 43,
    "start_time": "2022-07-28T22:50:27.062Z"
   },
   {
    "duration": 84,
    "start_time": "2022-07-28T22:50:27.107Z"
   },
   {
    "duration": 92,
    "start_time": "2022-07-28T22:50:27.192Z"
   },
   {
    "duration": 4,
    "start_time": "2022-07-28T22:50:27.286Z"
   },
   {
    "duration": 15,
    "start_time": "2022-07-28T22:50:27.291Z"
   },
   {
    "duration": 569,
    "start_time": "2022-07-28T22:50:27.307Z"
   },
   {
    "duration": 5,
    "start_time": "2022-07-28T22:50:27.877Z"
   },
   {
    "duration": 13,
    "start_time": "2022-07-28T22:50:27.883Z"
   },
   {
    "duration": 4,
    "start_time": "2022-07-28T22:50:27.898Z"
   },
   {
    "duration": 6,
    "start_time": "2022-07-28T22:50:27.904Z"
   },
   {
    "duration": 409,
    "start_time": "2022-07-28T22:50:27.912Z"
   },
   {
    "duration": 20839,
    "start_time": "2022-07-28T22:50:28.322Z"
   },
   {
    "duration": 523,
    "start_time": "2022-07-28T22:50:49.163Z"
   },
   {
    "duration": 12235,
    "start_time": "2022-07-28T22:50:49.688Z"
   },
   {
    "duration": 502,
    "start_time": "2022-07-28T22:51:01.925Z"
   },
   {
    "duration": 102,
    "start_time": "2022-07-28T22:51:02.428Z"
   },
   {
    "duration": 114773,
    "start_time": "2022-07-28T22:51:02.532Z"
   },
   {
    "duration": 15528,
    "start_time": "2022-07-28T22:52:57.307Z"
   },
   {
    "duration": 133,
    "start_time": "2022-07-28T22:53:12.837Z"
   },
   {
    "duration": 24,
    "start_time": "2022-07-28T22:53:12.972Z"
   },
   {
    "duration": 71,
    "start_time": "2022-07-28T22:53:12.997Z"
   },
   {
    "duration": 294725,
    "start_time": "2022-07-28T22:53:13.070Z"
   },
   {
    "duration": 0,
    "start_time": "2022-07-28T22:58:07.797Z"
   },
   {
    "duration": 0,
    "start_time": "2022-07-28T22:58:07.799Z"
   },
   {
    "duration": 1376,
    "start_time": "2022-07-28T22:58:17.615Z"
   },
   {
    "duration": 859,
    "start_time": "2022-07-28T22:58:18.993Z"
   },
   {
    "duration": 140,
    "start_time": "2022-07-28T22:58:19.854Z"
   },
   {
    "duration": 133,
    "start_time": "2022-07-28T22:58:19.996Z"
   },
   {
    "duration": 101,
    "start_time": "2022-07-28T22:58:20.130Z"
   },
   {
    "duration": 5,
    "start_time": "2022-07-28T22:58:20.233Z"
   },
   {
    "duration": 23,
    "start_time": "2022-07-28T22:58:20.240Z"
   },
   {
    "duration": 461,
    "start_time": "2022-07-28T22:58:20.265Z"
   },
   {
    "duration": 678,
    "start_time": "2022-07-28T22:58:20.727Z"
   },
   {
    "duration": 25,
    "start_time": "2022-07-28T22:58:21.460Z"
   },
   {
    "duration": 77,
    "start_time": "2022-07-28T22:58:21.486Z"
   },
   {
    "duration": 31,
    "start_time": "2022-07-28T22:58:21.565Z"
   },
   {
    "duration": 73,
    "start_time": "2022-07-28T22:58:21.598Z"
   },
   {
    "duration": 290,
    "start_time": "2022-07-28T22:58:21.673Z"
   },
   {
    "duration": 28,
    "start_time": "2022-07-28T22:58:21.965Z"
   },
   {
    "duration": 104,
    "start_time": "2022-07-28T22:58:21.995Z"
   },
   {
    "duration": 2,
    "start_time": "2022-07-28T22:58:22.101Z"
   },
   {
    "duration": 3,
    "start_time": "2022-07-28T22:58:22.160Z"
   },
   {
    "duration": 1237,
    "start_time": "2022-07-28T22:58:22.164Z"
   },
   {
    "duration": 111,
    "start_time": "2022-07-28T22:58:23.402Z"
   },
   {
    "duration": 1998,
    "start_time": "2022-07-28T22:58:23.515Z"
   },
   {
    "duration": 18274,
    "start_time": "2022-07-28T22:58:25.515Z"
   },
   {
    "duration": 4799,
    "start_time": "2022-07-28T22:58:43.791Z"
   },
   {
    "duration": 18,
    "start_time": "2022-07-28T22:58:48.592Z"
   },
   {
    "duration": 21,
    "start_time": "2022-07-28T22:58:48.612Z"
   },
   {
    "duration": 138,
    "start_time": "2022-07-28T22:58:48.635Z"
   },
   {
    "duration": 204,
    "start_time": "2022-07-28T22:58:48.774Z"
   },
   {
    "duration": 86,
    "start_time": "2022-07-28T22:58:48.981Z"
   },
   {
    "duration": 48,
    "start_time": "2022-07-28T22:58:49.068Z"
   },
   {
    "duration": 51,
    "start_time": "2022-07-28T22:58:49.117Z"
   },
   {
    "duration": 74,
    "start_time": "2022-07-28T22:58:49.170Z"
   },
   {
    "duration": 93,
    "start_time": "2022-07-28T22:58:49.246Z"
   },
   {
    "duration": 4,
    "start_time": "2022-07-28T22:58:49.340Z"
   },
   {
    "duration": 21,
    "start_time": "2022-07-28T22:58:49.346Z"
   },
   {
    "duration": 568,
    "start_time": "2022-07-28T22:58:49.368Z"
   },
   {
    "duration": 4,
    "start_time": "2022-07-28T22:58:49.938Z"
   },
   {
    "duration": 6,
    "start_time": "2022-07-28T22:58:49.943Z"
   },
   {
    "duration": 14,
    "start_time": "2022-07-28T22:58:49.951Z"
   },
   {
    "duration": 8,
    "start_time": "2022-07-28T22:58:49.966Z"
   },
   {
    "duration": 397,
    "start_time": "2022-07-28T22:58:49.975Z"
   },
   {
    "duration": 29687,
    "start_time": "2022-07-28T22:58:50.374Z"
   },
   {
    "duration": 521,
    "start_time": "2022-07-28T22:59:20.063Z"
   },
   {
    "duration": 55715,
    "start_time": "2022-07-28T22:59:20.586Z"
   },
   {
    "duration": 0,
    "start_time": "2022-07-28T23:00:16.303Z"
   },
   {
    "duration": 0,
    "start_time": "2022-07-28T23:00:16.304Z"
   },
   {
    "duration": 0,
    "start_time": "2022-07-28T23:00:16.306Z"
   },
   {
    "duration": 0,
    "start_time": "2022-07-28T23:00:16.307Z"
   },
   {
    "duration": 0,
    "start_time": "2022-07-28T23:00:16.309Z"
   },
   {
    "duration": 0,
    "start_time": "2022-07-28T23:00:16.310Z"
   },
   {
    "duration": 0,
    "start_time": "2022-07-28T23:00:16.313Z"
   },
   {
    "duration": 0,
    "start_time": "2022-07-28T23:00:16.314Z"
   },
   {
    "duration": 0,
    "start_time": "2022-07-28T23:00:16.316Z"
   },
   {
    "duration": 0,
    "start_time": "2022-07-28T23:00:16.318Z"
   },
   {
    "duration": 40896,
    "start_time": "2022-07-28T23:00:58.187Z"
   },
   {
    "duration": 8006,
    "start_time": "2022-07-28T23:02:02.547Z"
   },
   {
    "duration": 77,
    "start_time": "2022-07-28T23:08:49.156Z"
   },
   {
    "duration": 5247,
    "start_time": "2022-07-28T23:10:47.463Z"
   },
   {
    "duration": 15365,
    "start_time": "2022-07-28T23:13:09.066Z"
   },
   {
    "duration": 30371,
    "start_time": "2022-07-28T23:13:26.419Z"
   },
   {
    "duration": 3980,
    "start_time": "2022-07-28T23:13:58.754Z"
   },
   {
    "duration": 107870,
    "start_time": "2022-07-28T23:15:11.430Z"
   },
   {
    "duration": 69,
    "start_time": "2022-07-28T23:17:15.711Z"
   },
   {
    "duration": 248320,
    "start_time": "2022-07-28T23:18:45.790Z"
   },
   {
    "duration": 66,
    "start_time": "2022-07-28T23:24:46.390Z"
   },
   {
    "duration": 2362951,
    "start_time": "2022-07-28T23:24:50.110Z"
   },
   {
    "duration": 28615,
    "start_time": "2022-07-29T00:04:13.063Z"
   },
   {
    "duration": 133,
    "start_time": "2022-07-29T00:06:52.675Z"
   },
   {
    "duration": 25,
    "start_time": "2022-07-29T00:06:54.498Z"
   },
   {
    "duration": 15489,
    "start_time": "2022-07-29T00:07:08.234Z"
   },
   {
    "duration": 144,
    "start_time": "2022-07-29T00:08:44.340Z"
   },
   {
    "duration": 28,
    "start_time": "2022-07-29T00:08:46.219Z"
   },
   {
    "duration": 23,
    "start_time": "2022-07-29T00:08:57.186Z"
   },
   {
    "duration": 242104,
    "start_time": "2022-07-29T00:09:01.481Z"
   },
   {
    "duration": 131433,
    "start_time": "2022-07-29T00:14:20.153Z"
   },
   {
    "duration": 0,
    "start_time": "2022-07-29T00:16:31.588Z"
   },
   {
    "duration": 144,
    "start_time": "2022-07-29T00:16:41.122Z"
   },
   {
    "duration": 22,
    "start_time": "2022-07-29T00:16:59.263Z"
   },
   {
    "duration": 20,
    "start_time": "2022-07-29T00:18:09.311Z"
   },
   {
    "duration": 18,
    "start_time": "2022-07-29T00:18:12.031Z"
   },
   {
    "duration": 1486782,
    "start_time": "2022-07-29T00:18:18.383Z"
   },
   {
    "duration": 6405,
    "start_time": "2022-07-29T00:43:05.167Z"
   },
   {
    "duration": 5465,
    "start_time": "2022-07-29T00:45:49.405Z"
   },
   {
    "duration": 741,
    "start_time": "2022-07-29T00:45:55.230Z"
   },
   {
    "duration": 27164,
    "start_time": "2022-07-29T01:01:25.667Z"
   },
   {
    "duration": 297,
    "start_time": "2022-07-29T01:01:59.987Z"
   },
   {
    "duration": 20747,
    "start_time": "2022-07-29T01:06:11.115Z"
   },
   {
    "duration": 139,
    "start_time": "2022-07-29T01:06:38.028Z"
   },
   {
    "duration": 7680,
    "start_time": "2022-07-29T01:08:04.305Z"
   },
   {
    "duration": 412,
    "start_time": "2022-07-29T01:08:18.680Z"
   },
   {
    "duration": 54,
    "start_time": "2022-07-29T01:11:00.708Z"
   },
   {
    "duration": 9,
    "start_time": "2022-07-29T01:11:31.188Z"
   },
   {
    "duration": 10423,
    "start_time": "2022-07-29T01:18:02.251Z"
   },
   {
    "duration": 1156,
    "start_time": "2022-07-29T01:18:19.916Z"
   },
   {
    "duration": 10,
    "start_time": "2022-07-29T01:19:24.116Z"
   },
   {
    "duration": 54,
    "start_time": "2022-07-29T01:35:19.508Z"
   },
   {
    "duration": 378,
    "start_time": "2022-07-29T01:37:30.517Z"
   },
   {
    "duration": 11,
    "start_time": "2022-07-29T01:37:31.908Z"
   },
   {
    "duration": 10,
    "start_time": "2022-07-29T01:38:55.956Z"
   },
   {
    "duration": 10,
    "start_time": "2022-07-29T01:41:28.429Z"
   },
   {
    "duration": 1393,
    "start_time": "2022-07-29T01:41:41.839Z"
   },
   {
    "duration": 817,
    "start_time": "2022-07-29T01:41:43.234Z"
   },
   {
    "duration": 145,
    "start_time": "2022-07-29T01:41:44.053Z"
   },
   {
    "duration": 132,
    "start_time": "2022-07-29T01:41:44.200Z"
   },
   {
    "duration": 101,
    "start_time": "2022-07-29T01:41:44.333Z"
   },
   {
    "duration": 7,
    "start_time": "2022-07-29T01:41:44.436Z"
   },
   {
    "duration": 10,
    "start_time": "2022-07-29T01:41:44.461Z"
   },
   {
    "duration": 472,
    "start_time": "2022-07-29T01:41:44.472Z"
   },
   {
    "duration": 452,
    "start_time": "2022-07-29T01:41:44.945Z"
   },
   {
    "duration": 21,
    "start_time": "2022-07-29T01:41:45.400Z"
   },
   {
    "duration": 34,
    "start_time": "2022-07-29T01:41:45.423Z"
   },
   {
    "duration": 15,
    "start_time": "2022-07-29T01:41:45.458Z"
   },
   {
    "duration": 23,
    "start_time": "2022-07-29T01:41:45.476Z"
   },
   {
    "duration": 123,
    "start_time": "2022-07-29T01:41:45.501Z"
   },
   {
    "duration": 37,
    "start_time": "2022-07-29T01:41:45.626Z"
   },
   {
    "duration": 52,
    "start_time": "2022-07-29T01:41:45.664Z"
   },
   {
    "duration": 3,
    "start_time": "2022-07-29T01:41:45.717Z"
   },
   {
    "duration": 6,
    "start_time": "2022-07-29T01:41:45.721Z"
   },
   {
    "duration": 1000,
    "start_time": "2022-07-29T01:41:45.728Z"
   },
   {
    "duration": 112,
    "start_time": "2022-07-29T01:41:46.730Z"
   },
   {
    "duration": 2553,
    "start_time": "2022-07-29T01:41:46.843Z"
   },
   {
    "duration": 18081,
    "start_time": "2022-07-29T01:41:49.397Z"
   },
   {
    "duration": 4801,
    "start_time": "2022-07-29T01:42:07.480Z"
   },
   {
    "duration": 20,
    "start_time": "2022-07-29T01:42:12.282Z"
   },
   {
    "duration": 27,
    "start_time": "2022-07-29T01:42:12.304Z"
   },
   {
    "duration": 132,
    "start_time": "2022-07-29T01:42:12.333Z"
   },
   {
    "duration": 209,
    "start_time": "2022-07-29T01:42:12.467Z"
   },
   {
    "duration": 89,
    "start_time": "2022-07-29T01:42:12.681Z"
   },
   {
    "duration": 62,
    "start_time": "2022-07-29T01:42:12.771Z"
   },
   {
    "duration": 41,
    "start_time": "2022-07-29T01:42:12.835Z"
   },
   {
    "duration": 88,
    "start_time": "2022-07-29T01:42:12.877Z"
   },
   {
    "duration": 94,
    "start_time": "2022-07-29T01:42:12.966Z"
   },
   {
    "duration": 4,
    "start_time": "2022-07-29T01:42:13.062Z"
   },
   {
    "duration": 7,
    "start_time": "2022-07-29T01:42:13.067Z"
   },
   {
    "duration": 582,
    "start_time": "2022-07-29T01:42:13.075Z"
   },
   {
    "duration": 4,
    "start_time": "2022-07-29T01:42:13.660Z"
   },
   {
    "duration": 8,
    "start_time": "2022-07-29T01:42:13.665Z"
   },
   {
    "duration": 7,
    "start_time": "2022-07-29T01:42:13.675Z"
   },
   {
    "duration": 9,
    "start_time": "2022-07-29T01:42:13.684Z"
   },
   {
    "duration": 419,
    "start_time": "2022-07-29T01:42:13.695Z"
   },
   {
    "duration": 27649,
    "start_time": "2022-07-29T01:42:14.115Z"
   },
   {
    "duration": 197,
    "start_time": "2022-07-29T01:42:41.765Z"
   },
   {
    "duration": 518,
    "start_time": "2022-07-29T01:42:41.964Z"
   },
   {
    "duration": 107,
    "start_time": "2022-07-29T01:42:42.483Z"
   },
   {
    "duration": 0,
    "start_time": "2022-07-29T01:42:42.591Z"
   },
   {
    "duration": 0,
    "start_time": "2022-07-29T01:42:42.592Z"
   },
   {
    "duration": 0,
    "start_time": "2022-07-29T01:42:42.593Z"
   },
   {
    "duration": 0,
    "start_time": "2022-07-29T01:42:42.594Z"
   },
   {
    "duration": 0,
    "start_time": "2022-07-29T01:42:42.595Z"
   },
   {
    "duration": 0,
    "start_time": "2022-07-29T01:42:42.596Z"
   },
   {
    "duration": 0,
    "start_time": "2022-07-29T01:42:42.597Z"
   },
   {
    "duration": 0,
    "start_time": "2022-07-29T01:42:42.598Z"
   },
   {
    "duration": 0,
    "start_time": "2022-07-29T01:42:42.599Z"
   },
   {
    "duration": 0,
    "start_time": "2022-07-29T01:42:42.600Z"
   },
   {
    "duration": 0,
    "start_time": "2022-07-29T01:42:42.601Z"
   },
   {
    "duration": 0,
    "start_time": "2022-07-29T01:42:42.602Z"
   },
   {
    "duration": 0,
    "start_time": "2022-07-29T01:42:42.603Z"
   },
   {
    "duration": 0,
    "start_time": "2022-07-29T01:42:42.604Z"
   },
   {
    "duration": 10,
    "start_time": "2022-07-29T01:44:55.682Z"
   },
   {
    "duration": 10,
    "start_time": "2022-07-29T01:45:51.511Z"
   },
   {
    "duration": 302,
    "start_time": "2022-07-29T01:47:12.710Z"
   },
   {
    "duration": 4,
    "start_time": "2022-07-29T01:47:54.081Z"
   },
   {
    "duration": 1357,
    "start_time": "2022-07-29T01:48:19.278Z"
   },
   {
    "duration": 799,
    "start_time": "2022-07-29T01:48:20.637Z"
   },
   {
    "duration": 130,
    "start_time": "2022-07-29T01:48:21.438Z"
   },
   {
    "duration": 131,
    "start_time": "2022-07-29T01:48:21.570Z"
   },
   {
    "duration": 182,
    "start_time": "2022-07-29T01:48:21.702Z"
   },
   {
    "duration": 6,
    "start_time": "2022-07-29T01:48:21.886Z"
   },
   {
    "duration": 13,
    "start_time": "2022-07-29T01:48:21.893Z"
   },
   {
    "duration": 906,
    "start_time": "2022-07-29T01:48:21.960Z"
   },
   {
    "duration": 674,
    "start_time": "2022-07-29T01:48:22.867Z"
   },
   {
    "duration": 24,
    "start_time": "2022-07-29T01:48:23.544Z"
   },
   {
    "duration": 25,
    "start_time": "2022-07-29T01:48:23.570Z"
   },
   {
    "duration": 18,
    "start_time": "2022-07-29T01:48:23.596Z"
   },
   {
    "duration": 23,
    "start_time": "2022-07-29T01:48:23.616Z"
   },
   {
    "duration": 122,
    "start_time": "2022-07-29T01:48:23.641Z"
   },
   {
    "duration": 30,
    "start_time": "2022-07-29T01:48:23.764Z"
   },
   {
    "duration": 68,
    "start_time": "2022-07-29T01:48:23.795Z"
   },
   {
    "duration": 2,
    "start_time": "2022-07-29T01:48:23.865Z"
   },
   {
    "duration": 6,
    "start_time": "2022-07-29T01:48:23.869Z"
   },
   {
    "duration": 939,
    "start_time": "2022-07-29T01:48:23.877Z"
   },
   {
    "duration": 112,
    "start_time": "2022-07-29T01:48:24.817Z"
   },
   {
    "duration": 1869,
    "start_time": "2022-07-29T01:48:24.930Z"
   },
   {
    "duration": 17527,
    "start_time": "2022-07-29T01:48:26.801Z"
   },
   {
    "duration": 4628,
    "start_time": "2022-07-29T01:48:44.329Z"
   },
   {
    "duration": 17,
    "start_time": "2022-07-29T01:48:48.959Z"
   },
   {
    "duration": 21,
    "start_time": "2022-07-29T01:48:48.977Z"
   },
   {
    "duration": 119,
    "start_time": "2022-07-29T01:48:49.000Z"
   },
   {
    "duration": 203,
    "start_time": "2022-07-29T01:48:49.121Z"
   },
   {
    "duration": 75,
    "start_time": "2022-07-29T01:48:49.328Z"
   },
   {
    "duration": 56,
    "start_time": "2022-07-29T01:48:49.405Z"
   },
   {
    "duration": 38,
    "start_time": "2022-07-29T01:48:49.463Z"
   },
   {
    "duration": 85,
    "start_time": "2022-07-29T01:48:49.503Z"
   },
   {
    "duration": 96,
    "start_time": "2022-07-29T01:48:49.589Z"
   },
   {
    "duration": 4,
    "start_time": "2022-07-29T01:48:49.687Z"
   },
   {
    "duration": 10,
    "start_time": "2022-07-29T01:48:49.692Z"
   },
   {
    "duration": 601,
    "start_time": "2022-07-29T01:48:49.703Z"
   },
   {
    "duration": 3,
    "start_time": "2022-07-29T01:48:50.306Z"
   },
   {
    "duration": 13,
    "start_time": "2022-07-29T01:48:50.311Z"
   },
   {
    "duration": 7,
    "start_time": "2022-07-29T01:48:50.326Z"
   },
   {
    "duration": 16,
    "start_time": "2022-07-29T01:48:50.334Z"
   },
   {
    "duration": 405,
    "start_time": "2022-07-29T01:48:50.352Z"
   },
   {
    "duration": 21908,
    "start_time": "2022-07-29T01:48:50.758Z"
   },
   {
    "duration": 199,
    "start_time": "2022-07-29T01:49:12.668Z"
   },
   {
    "duration": 502,
    "start_time": "2022-07-29T01:49:12.960Z"
   },
   {
    "duration": 4,
    "start_time": "2022-07-29T01:49:13.464Z"
   },
   {
    "duration": 5,
    "start_time": "2022-07-29T01:49:13.470Z"
   },
   {
    "duration": 112,
    "start_time": "2022-07-29T01:49:13.477Z"
   },
   {
    "duration": 0,
    "start_time": "2022-07-29T01:49:13.591Z"
   },
   {
    "duration": 1,
    "start_time": "2022-07-29T01:49:13.592Z"
   },
   {
    "duration": 0,
    "start_time": "2022-07-29T01:49:13.593Z"
   },
   {
    "duration": 0,
    "start_time": "2022-07-29T01:49:13.594Z"
   },
   {
    "duration": 0,
    "start_time": "2022-07-29T01:49:13.595Z"
   },
   {
    "duration": 0,
    "start_time": "2022-07-29T01:49:13.596Z"
   },
   {
    "duration": 0,
    "start_time": "2022-07-29T01:49:13.597Z"
   },
   {
    "duration": 0,
    "start_time": "2022-07-29T01:49:13.598Z"
   },
   {
    "duration": 0,
    "start_time": "2022-07-29T01:49:13.599Z"
   },
   {
    "duration": 0,
    "start_time": "2022-07-29T01:49:13.600Z"
   },
   {
    "duration": 0,
    "start_time": "2022-07-29T01:49:13.601Z"
   },
   {
    "duration": 0,
    "start_time": "2022-07-29T01:49:13.601Z"
   },
   {
    "duration": 0,
    "start_time": "2022-07-29T01:49:13.603Z"
   },
   {
    "duration": 0,
    "start_time": "2022-07-29T01:49:13.604Z"
   },
   {
    "duration": 12,
    "start_time": "2022-07-29T01:51:37.318Z"
   },
   {
    "duration": 326,
    "start_time": "2022-07-29T01:51:38.749Z"
   },
   {
    "duration": 428,
    "start_time": "2022-07-29T01:51:41.969Z"
   },
   {
    "duration": 3673,
    "start_time": "2022-07-29T01:51:46.839Z"
   },
   {
    "duration": 1454,
    "start_time": "2022-07-29T01:52:09.634Z"
   },
   {
    "duration": 815,
    "start_time": "2022-07-29T01:52:11.090Z"
   },
   {
    "duration": 127,
    "start_time": "2022-07-29T01:52:11.907Z"
   },
   {
    "duration": 143,
    "start_time": "2022-07-29T01:52:12.036Z"
   },
   {
    "duration": 132,
    "start_time": "2022-07-29T01:52:12.180Z"
   },
   {
    "duration": 5,
    "start_time": "2022-07-29T01:52:12.314Z"
   },
   {
    "duration": 8,
    "start_time": "2022-07-29T01:52:12.320Z"
   },
   {
    "duration": 500,
    "start_time": "2022-07-29T01:52:12.329Z"
   },
   {
    "duration": 484,
    "start_time": "2022-07-29T01:52:12.831Z"
   },
   {
    "duration": 44,
    "start_time": "2022-07-29T01:52:13.318Z"
   },
   {
    "duration": 24,
    "start_time": "2022-07-29T01:52:13.364Z"
   },
   {
    "duration": 72,
    "start_time": "2022-07-29T01:52:13.389Z"
   },
   {
    "duration": 24,
    "start_time": "2022-07-29T01:52:13.463Z"
   },
   {
    "duration": 206,
    "start_time": "2022-07-29T01:52:13.488Z"
   },
   {
    "duration": 78,
    "start_time": "2022-07-29T01:52:13.696Z"
   },
   {
    "duration": 108,
    "start_time": "2022-07-29T01:52:13.775Z"
   },
   {
    "duration": 3,
    "start_time": "2022-07-29T01:52:13.884Z"
   },
   {
    "duration": 10,
    "start_time": "2022-07-29T01:52:13.888Z"
   },
   {
    "duration": 1566,
    "start_time": "2022-07-29T01:52:13.899Z"
   },
   {
    "duration": 116,
    "start_time": "2022-07-29T01:52:15.467Z"
   },
   {
    "duration": 1884,
    "start_time": "2022-07-29T01:52:15.584Z"
   },
   {
    "duration": 17650,
    "start_time": "2022-07-29T01:52:17.470Z"
   },
   {
    "duration": 4670,
    "start_time": "2022-07-29T01:52:35.122Z"
   },
   {
    "duration": 17,
    "start_time": "2022-07-29T01:52:39.794Z"
   },
   {
    "duration": 26,
    "start_time": "2022-07-29T01:52:39.813Z"
   },
   {
    "duration": 122,
    "start_time": "2022-07-29T01:52:39.841Z"
   },
   {
    "duration": 196,
    "start_time": "2022-07-29T01:52:39.965Z"
   },
   {
    "duration": 88,
    "start_time": "2022-07-29T01:52:40.165Z"
   },
   {
    "duration": 51,
    "start_time": "2022-07-29T01:52:40.261Z"
   },
   {
    "duration": 51,
    "start_time": "2022-07-29T01:52:40.314Z"
   },
   {
    "duration": 74,
    "start_time": "2022-07-29T01:52:40.366Z"
   },
   {
    "duration": 91,
    "start_time": "2022-07-29T01:52:40.441Z"
   },
   {
    "duration": 4,
    "start_time": "2022-07-29T01:52:40.534Z"
   },
   {
    "duration": 21,
    "start_time": "2022-07-29T01:52:40.539Z"
   },
   {
    "duration": 581,
    "start_time": "2022-07-29T01:52:40.562Z"
   },
   {
    "duration": 3,
    "start_time": "2022-07-29T01:52:41.145Z"
   },
   {
    "duration": 7,
    "start_time": "2022-07-29T01:52:41.150Z"
   },
   {
    "duration": 6,
    "start_time": "2022-07-29T01:52:41.158Z"
   },
   {
    "duration": 7,
    "start_time": "2022-07-29T01:52:41.166Z"
   },
   {
    "duration": 414,
    "start_time": "2022-07-29T01:52:41.175Z"
   },
   {
    "duration": 21376,
    "start_time": "2022-07-29T01:52:41.590Z"
   },
   {
    "duration": 198,
    "start_time": "2022-07-29T01:53:02.968Z"
   },
   {
    "duration": 100,
    "start_time": "2022-07-29T01:53:03.168Z"
   },
   {
    "duration": 321,
    "start_time": "2022-07-29T01:53:03.270Z"
   },
   {
    "duration": 428,
    "start_time": "2022-07-29T01:53:03.593Z"
   },
   {
    "duration": 3187,
    "start_time": "2022-07-29T01:53:04.023Z"
   },
   {
    "duration": 0,
    "start_time": "2022-07-29T01:53:07.212Z"
   },
   {
    "duration": 0,
    "start_time": "2022-07-29T01:53:07.212Z"
   },
   {
    "duration": 0,
    "start_time": "2022-07-29T01:53:07.214Z"
   },
   {
    "duration": 0,
    "start_time": "2022-07-29T01:53:07.214Z"
   },
   {
    "duration": 0,
    "start_time": "2022-07-29T01:53:07.215Z"
   },
   {
    "duration": 0,
    "start_time": "2022-07-29T01:53:07.216Z"
   },
   {
    "duration": 0,
    "start_time": "2022-07-29T01:53:07.217Z"
   },
   {
    "duration": 0,
    "start_time": "2022-07-29T01:53:07.218Z"
   },
   {
    "duration": 0,
    "start_time": "2022-07-29T01:53:07.219Z"
   },
   {
    "duration": 0,
    "start_time": "2022-07-29T01:53:07.220Z"
   },
   {
    "duration": 0,
    "start_time": "2022-07-29T01:53:07.221Z"
   },
   {
    "duration": 0,
    "start_time": "2022-07-29T01:53:07.222Z"
   },
   {
    "duration": 0,
    "start_time": "2022-07-29T01:53:07.223Z"
   },
   {
    "duration": 1354,
    "start_time": "2022-07-29T01:54:21.558Z"
   },
   {
    "duration": 800,
    "start_time": "2022-07-29T01:54:22.913Z"
   },
   {
    "duration": 140,
    "start_time": "2022-07-29T01:54:23.715Z"
   },
   {
    "duration": 136,
    "start_time": "2022-07-29T01:54:23.856Z"
   },
   {
    "duration": 99,
    "start_time": "2022-07-29T01:54:23.995Z"
   },
   {
    "duration": 5,
    "start_time": "2022-07-29T01:54:24.096Z"
   },
   {
    "duration": 12,
    "start_time": "2022-07-29T01:54:24.103Z"
   },
   {
    "duration": 449,
    "start_time": "2022-07-29T01:54:24.117Z"
   },
   {
    "duration": 431,
    "start_time": "2022-07-29T01:54:24.567Z"
   },
   {
    "duration": 25,
    "start_time": "2022-07-29T01:54:25.000Z"
   },
   {
    "duration": 35,
    "start_time": "2022-07-29T01:54:25.026Z"
   },
   {
    "duration": 12,
    "start_time": "2022-07-29T01:54:25.063Z"
   },
   {
    "duration": 34,
    "start_time": "2022-07-29T01:54:25.077Z"
   },
   {
    "duration": 111,
    "start_time": "2022-07-29T01:54:25.114Z"
   },
   {
    "duration": 36,
    "start_time": "2022-07-29T01:54:25.227Z"
   },
   {
    "duration": 53,
    "start_time": "2022-07-29T01:54:25.265Z"
   },
   {
    "duration": 2,
    "start_time": "2022-07-29T01:54:25.320Z"
   },
   {
    "duration": 9,
    "start_time": "2022-07-29T01:54:25.324Z"
   },
   {
    "duration": 944,
    "start_time": "2022-07-29T01:54:25.335Z"
   },
   {
    "duration": 141,
    "start_time": "2022-07-29T01:54:26.281Z"
   },
   {
    "duration": 1781,
    "start_time": "2022-07-29T01:54:26.423Z"
   },
   {
    "duration": 18422,
    "start_time": "2022-07-29T01:54:28.205Z"
   },
   {
    "duration": 4525,
    "start_time": "2022-07-29T01:54:46.629Z"
   },
   {
    "duration": 20,
    "start_time": "2022-07-29T01:54:51.155Z"
   },
   {
    "duration": 26,
    "start_time": "2022-07-29T01:54:51.176Z"
   },
   {
    "duration": 113,
    "start_time": "2022-07-29T01:54:51.204Z"
   },
   {
    "duration": 203,
    "start_time": "2022-07-29T01:54:51.319Z"
   },
   {
    "duration": 77,
    "start_time": "2022-07-29T01:54:51.524Z"
   },
   {
    "duration": 64,
    "start_time": "2022-07-29T01:54:51.602Z"
   },
   {
    "duration": 38,
    "start_time": "2022-07-29T01:54:51.667Z"
   },
   {
    "duration": 84,
    "start_time": "2022-07-29T01:54:51.706Z"
   },
   {
    "duration": 99,
    "start_time": "2022-07-29T01:54:51.791Z"
   },
   {
    "duration": 4,
    "start_time": "2022-07-29T01:54:51.892Z"
   },
   {
    "duration": 6,
    "start_time": "2022-07-29T01:54:51.898Z"
   },
   {
    "duration": 583,
    "start_time": "2022-07-29T01:54:51.906Z"
   },
   {
    "duration": 4,
    "start_time": "2022-07-29T01:54:52.491Z"
   },
   {
    "duration": 38,
    "start_time": "2022-07-29T01:54:52.497Z"
   },
   {
    "duration": 6,
    "start_time": "2022-07-29T01:54:52.537Z"
   },
   {
    "duration": 9,
    "start_time": "2022-07-29T01:54:52.544Z"
   },
   {
    "duration": 433,
    "start_time": "2022-07-29T01:54:52.554Z"
   },
   {
    "duration": 20776,
    "start_time": "2022-07-29T01:54:52.990Z"
   },
   {
    "duration": 199,
    "start_time": "2022-07-29T01:55:13.768Z"
   },
   {
    "duration": 102,
    "start_time": "2022-07-29T01:55:13.970Z"
   },
   {
    "duration": 405,
    "start_time": "2022-07-29T01:55:14.075Z"
   },
   {
    "duration": 486,
    "start_time": "2022-07-29T01:55:14.482Z"
   },
   {
    "duration": 1183,
    "start_time": "2022-07-29T01:55:14.969Z"
   },
   {
    "duration": 0,
    "start_time": "2022-07-29T01:55:16.153Z"
   },
   {
    "duration": 0,
    "start_time": "2022-07-29T01:55:16.154Z"
   },
   {
    "duration": 0,
    "start_time": "2022-07-29T01:55:16.160Z"
   },
   {
    "duration": 0,
    "start_time": "2022-07-29T01:55:16.161Z"
   },
   {
    "duration": 0,
    "start_time": "2022-07-29T01:55:16.163Z"
   },
   {
    "duration": 0,
    "start_time": "2022-07-29T01:55:16.164Z"
   },
   {
    "duration": 0,
    "start_time": "2022-07-29T01:55:16.165Z"
   },
   {
    "duration": 0,
    "start_time": "2022-07-29T01:55:16.166Z"
   },
   {
    "duration": 0,
    "start_time": "2022-07-29T01:55:16.166Z"
   },
   {
    "duration": 0,
    "start_time": "2022-07-29T01:55:16.167Z"
   },
   {
    "duration": 0,
    "start_time": "2022-07-29T01:55:16.169Z"
   },
   {
    "duration": 0,
    "start_time": "2022-07-29T01:55:16.170Z"
   },
   {
    "duration": 0,
    "start_time": "2022-07-29T01:55:16.171Z"
   },
   {
    "duration": 65152,
    "start_time": "2022-07-29T01:55:27.559Z"
   },
   {
    "duration": 3818,
    "start_time": "2022-07-29T01:56:39.897Z"
   },
   {
    "duration": 242,
    "start_time": "2022-07-29T01:56:48.253Z"
   },
   {
    "duration": 2325160,
    "start_time": "2022-07-29T01:57:31.755Z"
   },
   {
    "duration": 27539,
    "start_time": "2022-07-29T02:36:16.917Z"
   },
   {
    "duration": 337,
    "start_time": "2022-07-29T02:36:44.457Z"
   },
   {
    "duration": 275,
    "start_time": "2022-07-29T02:36:44.796Z"
   },
   {
    "duration": 20,
    "start_time": "2022-07-29T02:36:45.072Z"
   },
   {
    "duration": 18,
    "start_time": "2022-07-29T02:36:45.094Z"
   },
   {
    "duration": 17,
    "start_time": "2022-07-29T02:36:45.114Z"
   },
   {
    "duration": 2130744,
    "start_time": "2022-07-29T02:36:45.133Z"
   },
   {
    "duration": 10088,
    "start_time": "2022-07-29T03:12:15.878Z"
   },
   {
    "duration": 1208,
    "start_time": "2022-07-29T03:12:25.969Z"
   },
   {
    "duration": 84,
    "start_time": "2022-07-29T07:59:11.526Z"
   },
   {
    "duration": 53,
    "start_time": "2022-11-04T20:23:42.706Z"
   },
   {
    "duration": 1585,
    "start_time": "2022-11-04T20:23:49.870Z"
   },
   {
    "duration": 16,
    "start_time": "2022-11-04T20:23:54.035Z"
   }
  ],
  "kernelspec": {
   "display_name": "Python 3 (ipykernel)",
   "language": "python",
   "name": "python3"
  },
  "language_info": {
   "codemirror_mode": {
    "name": "ipython",
    "version": 3
   },
   "file_extension": ".py",
   "mimetype": "text/x-python",
   "name": "python",
   "nbconvert_exporter": "python",
   "pygments_lexer": "ipython3",
   "version": "3.9.12"
  },
  "toc": {
   "base_numbering": 1,
   "nav_menu": {
    "height": "85.4688px",
    "width": "172.48px"
   },
   "number_sections": true,
   "sideBar": true,
   "skip_h1_title": true,
   "title_cell": "Table of Contents",
   "title_sidebar": "Contents",
   "toc_cell": false,
   "toc_position": {
    "height": "calc(100% - 180px)",
    "left": "10px",
    "top": "150px",
    "width": "165px"
   },
   "toc_section_display": true,
   "toc_window_display": true
  }
 },
 "nbformat": 4,
 "nbformat_minor": 2
}
