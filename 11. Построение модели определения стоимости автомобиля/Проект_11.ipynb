{
 "cells": [
  {
   "cell_type": "markdown",
   "metadata": {},
   "source": [
    "# Определение стоимости автомобилей"
   ]
  },
  {
   "cell_type": "markdown",
   "metadata": {},
   "source": [
    "Сервис по продаже автомобилей с пробегом «Не бит, не крашен» разрабатывает приложение для привлечения новых клиентов. В нём можно быстро узнать рыночную стоимость своего автомобиля. В вашем распоряжении исторические данные: технические характеристики, комплектации и цены автомобилей. Вам нужно построить модель для определения стоимости. \n",
    "\n",
    "Заказчику важны:\n",
    "\n",
    "- качество предсказания;\n",
    "- скорость предсказания;\n",
    "- время обучения."
   ]
  },
  {
   "cell_type": "markdown",
   "metadata": {},
   "source": [
    "Признаки\n",
    "- DateCrawled — дата скачивания анкеты из базы\n",
    "- VehicleType — тип автомобильного кузова\n",
    "- RegistrationYear — год регистрации автомобиля\n",
    "- Gearbox — тип коробки передач\n",
    "- Power — мощность (л. с.)\n",
    "- Model — модель автомобиля\n",
    "- Kilometer — пробег (км)\n",
    "- RegistrationMonth — месяц регистрации автомобиля\n",
    "- FuelType — тип топлива\n",
    "- Brand — марка автомобиля\n",
    "- NotRepaired — была машина в ремонте или нет\n",
    "- DateCreated — дата создания анкеты\n",
    "- NumberOfPictures — количество фотографий автомобиля\n",
    "- PostalCode — почтовый индекс владельца анкеты (пользователя)\n",
    "- LastSeen — дата последней активности пользователя\n",
    "\n",
    "Целевой признак\n",
    "- Price — цена (евро)"
   ]
  },
  {
   "cell_type": "markdown",
   "metadata": {},
   "source": [
    "<h1>Содержание<span class=\"tocSkip\"></span></h1>\n",
    "\n",
    "\n",
    "[1.Подготовка данных](#section_id)\n",
    "\n",
    "[2.Обучение моделей](#section_i)\n",
    "\n",
    "[2.1 LinearRegression](#sectio)\n",
    "\n",
    "[2.2 RandomForestRegressor](#secti)\n",
    "\n",
    "[2.3 CatBoostRegressor](#sect)\n",
    "\n",
    "[2.4 LGBMRegressor](#sec)\n",
    "\n",
    "[3.Анализ моделей](#section)\n"
   ]
  },
  {
   "cell_type": "markdown",
   "metadata": {},
   "source": [
    "## Подготовка данных\n",
    "<a id='section_id'></a>"
   ]
  },
  {
   "cell_type": "code",
   "execution_count": 2,
   "metadata": {},
   "outputs": [],
   "source": [
    "import pandas as pd\n",
    "import numpy as np\n",
    "import matplotlib.pyplot as plt\n",
    "import lightgbm as lgb\n",
    "from scipy.stats import mode\n",
    "\n",
    "from sklearn.preprocessing import StandardScaler,OrdinalEncoder\n",
    "from sklearn.model_selection import train_test_split,GridSearchCV,RandomizedSearchCV\n",
    "from sklearn.ensemble import RandomForestRegressor\n",
    "from sklearn.metrics import mean_squared_error\n",
    "from sklearn.linear_model import LinearRegression\n",
    "\n",
    "from catboost import CatBoostRegressor as cat\n",
    "from lightgbm import LGBMRegressor "
   ]
  },
  {
   "cell_type": "code",
   "execution_count": 2,
   "metadata": {},
   "outputs": [
    {
     "data": {
      "text/html": [
       "<div>\n",
       "<style scoped>\n",
       "    .dataframe tbody tr th:only-of-type {\n",
       "        vertical-align: middle;\n",
       "    }\n",
       "\n",
       "    .dataframe tbody tr th {\n",
       "        vertical-align: top;\n",
       "    }\n",
       "\n",
       "    .dataframe thead th {\n",
       "        text-align: right;\n",
       "    }\n",
       "</style>\n",
       "<table border=\"1\" class=\"dataframe\">\n",
       "  <thead>\n",
       "    <tr style=\"text-align: right;\">\n",
       "      <th></th>\n",
       "      <th>DateCrawled</th>\n",
       "      <th>Price</th>\n",
       "      <th>VehicleType</th>\n",
       "      <th>RegistrationYear</th>\n",
       "      <th>Gearbox</th>\n",
       "      <th>Power</th>\n",
       "      <th>Model</th>\n",
       "      <th>Kilometer</th>\n",
       "      <th>RegistrationMonth</th>\n",
       "      <th>FuelType</th>\n",
       "      <th>Brand</th>\n",
       "      <th>NotRepaired</th>\n",
       "      <th>DateCreated</th>\n",
       "      <th>NumberOfPictures</th>\n",
       "      <th>PostalCode</th>\n",
       "      <th>LastSeen</th>\n",
       "    </tr>\n",
       "  </thead>\n",
       "  <tbody>\n",
       "    <tr>\n",
       "      <th>0</th>\n",
       "      <td>2016-03-24 11:52:17</td>\n",
       "      <td>480</td>\n",
       "      <td>NaN</td>\n",
       "      <td>1993</td>\n",
       "      <td>manual</td>\n",
       "      <td>0</td>\n",
       "      <td>golf</td>\n",
       "      <td>150000</td>\n",
       "      <td>0</td>\n",
       "      <td>petrol</td>\n",
       "      <td>volkswagen</td>\n",
       "      <td>NaN</td>\n",
       "      <td>2016-03-24 00:00:00</td>\n",
       "      <td>0</td>\n",
       "      <td>70435</td>\n",
       "      <td>2016-04-07 03:16:57</td>\n",
       "    </tr>\n",
       "    <tr>\n",
       "      <th>1</th>\n",
       "      <td>2016-03-24 10:58:45</td>\n",
       "      <td>18300</td>\n",
       "      <td>coupe</td>\n",
       "      <td>2011</td>\n",
       "      <td>manual</td>\n",
       "      <td>190</td>\n",
       "      <td>NaN</td>\n",
       "      <td>125000</td>\n",
       "      <td>5</td>\n",
       "      <td>gasoline</td>\n",
       "      <td>audi</td>\n",
       "      <td>yes</td>\n",
       "      <td>2016-03-24 00:00:00</td>\n",
       "      <td>0</td>\n",
       "      <td>66954</td>\n",
       "      <td>2016-04-07 01:46:50</td>\n",
       "    </tr>\n",
       "    <tr>\n",
       "      <th>2</th>\n",
       "      <td>2016-03-14 12:52:21</td>\n",
       "      <td>9800</td>\n",
       "      <td>suv</td>\n",
       "      <td>2004</td>\n",
       "      <td>auto</td>\n",
       "      <td>163</td>\n",
       "      <td>grand</td>\n",
       "      <td>125000</td>\n",
       "      <td>8</td>\n",
       "      <td>gasoline</td>\n",
       "      <td>jeep</td>\n",
       "      <td>NaN</td>\n",
       "      <td>2016-03-14 00:00:00</td>\n",
       "      <td>0</td>\n",
       "      <td>90480</td>\n",
       "      <td>2016-04-05 12:47:46</td>\n",
       "    </tr>\n",
       "    <tr>\n",
       "      <th>3</th>\n",
       "      <td>2016-03-17 16:54:04</td>\n",
       "      <td>1500</td>\n",
       "      <td>small</td>\n",
       "      <td>2001</td>\n",
       "      <td>manual</td>\n",
       "      <td>75</td>\n",
       "      <td>golf</td>\n",
       "      <td>150000</td>\n",
       "      <td>6</td>\n",
       "      <td>petrol</td>\n",
       "      <td>volkswagen</td>\n",
       "      <td>no</td>\n",
       "      <td>2016-03-17 00:00:00</td>\n",
       "      <td>0</td>\n",
       "      <td>91074</td>\n",
       "      <td>2016-03-17 17:40:17</td>\n",
       "    </tr>\n",
       "    <tr>\n",
       "      <th>4</th>\n",
       "      <td>2016-03-31 17:25:20</td>\n",
       "      <td>3600</td>\n",
       "      <td>small</td>\n",
       "      <td>2008</td>\n",
       "      <td>manual</td>\n",
       "      <td>69</td>\n",
       "      <td>fabia</td>\n",
       "      <td>90000</td>\n",
       "      <td>7</td>\n",
       "      <td>gasoline</td>\n",
       "      <td>skoda</td>\n",
       "      <td>no</td>\n",
       "      <td>2016-03-31 00:00:00</td>\n",
       "      <td>0</td>\n",
       "      <td>60437</td>\n",
       "      <td>2016-04-06 10:17:21</td>\n",
       "    </tr>\n",
       "    <tr>\n",
       "      <th>...</th>\n",
       "      <td>...</td>\n",
       "      <td>...</td>\n",
       "      <td>...</td>\n",
       "      <td>...</td>\n",
       "      <td>...</td>\n",
       "      <td>...</td>\n",
       "      <td>...</td>\n",
       "      <td>...</td>\n",
       "      <td>...</td>\n",
       "      <td>...</td>\n",
       "      <td>...</td>\n",
       "      <td>...</td>\n",
       "      <td>...</td>\n",
       "      <td>...</td>\n",
       "      <td>...</td>\n",
       "      <td>...</td>\n",
       "    </tr>\n",
       "    <tr>\n",
       "      <th>354364</th>\n",
       "      <td>2016-03-21 09:50:58</td>\n",
       "      <td>0</td>\n",
       "      <td>NaN</td>\n",
       "      <td>2005</td>\n",
       "      <td>manual</td>\n",
       "      <td>0</td>\n",
       "      <td>colt</td>\n",
       "      <td>150000</td>\n",
       "      <td>7</td>\n",
       "      <td>petrol</td>\n",
       "      <td>mitsubishi</td>\n",
       "      <td>yes</td>\n",
       "      <td>2016-03-21 00:00:00</td>\n",
       "      <td>0</td>\n",
       "      <td>2694</td>\n",
       "      <td>2016-03-21 10:42:49</td>\n",
       "    </tr>\n",
       "    <tr>\n",
       "      <th>354365</th>\n",
       "      <td>2016-03-14 17:48:27</td>\n",
       "      <td>2200</td>\n",
       "      <td>NaN</td>\n",
       "      <td>2005</td>\n",
       "      <td>NaN</td>\n",
       "      <td>0</td>\n",
       "      <td>NaN</td>\n",
       "      <td>20000</td>\n",
       "      <td>1</td>\n",
       "      <td>NaN</td>\n",
       "      <td>sonstige_autos</td>\n",
       "      <td>NaN</td>\n",
       "      <td>2016-03-14 00:00:00</td>\n",
       "      <td>0</td>\n",
       "      <td>39576</td>\n",
       "      <td>2016-04-06 00:46:52</td>\n",
       "    </tr>\n",
       "    <tr>\n",
       "      <th>354366</th>\n",
       "      <td>2016-03-05 19:56:21</td>\n",
       "      <td>1199</td>\n",
       "      <td>convertible</td>\n",
       "      <td>2000</td>\n",
       "      <td>auto</td>\n",
       "      <td>101</td>\n",
       "      <td>fortwo</td>\n",
       "      <td>125000</td>\n",
       "      <td>3</td>\n",
       "      <td>petrol</td>\n",
       "      <td>smart</td>\n",
       "      <td>no</td>\n",
       "      <td>2016-03-05 00:00:00</td>\n",
       "      <td>0</td>\n",
       "      <td>26135</td>\n",
       "      <td>2016-03-11 18:17:12</td>\n",
       "    </tr>\n",
       "    <tr>\n",
       "      <th>354367</th>\n",
       "      <td>2016-03-19 18:57:12</td>\n",
       "      <td>9200</td>\n",
       "      <td>bus</td>\n",
       "      <td>1996</td>\n",
       "      <td>manual</td>\n",
       "      <td>102</td>\n",
       "      <td>transporter</td>\n",
       "      <td>150000</td>\n",
       "      <td>3</td>\n",
       "      <td>gasoline</td>\n",
       "      <td>volkswagen</td>\n",
       "      <td>no</td>\n",
       "      <td>2016-03-19 00:00:00</td>\n",
       "      <td>0</td>\n",
       "      <td>87439</td>\n",
       "      <td>2016-04-07 07:15:26</td>\n",
       "    </tr>\n",
       "    <tr>\n",
       "      <th>354368</th>\n",
       "      <td>2016-03-20 19:41:08</td>\n",
       "      <td>3400</td>\n",
       "      <td>wagon</td>\n",
       "      <td>2002</td>\n",
       "      <td>manual</td>\n",
       "      <td>100</td>\n",
       "      <td>golf</td>\n",
       "      <td>150000</td>\n",
       "      <td>6</td>\n",
       "      <td>gasoline</td>\n",
       "      <td>volkswagen</td>\n",
       "      <td>NaN</td>\n",
       "      <td>2016-03-20 00:00:00</td>\n",
       "      <td>0</td>\n",
       "      <td>40764</td>\n",
       "      <td>2016-03-24 12:45:21</td>\n",
       "    </tr>\n",
       "  </tbody>\n",
       "</table>\n",
       "<p>354369 rows × 16 columns</p>\n",
       "</div>"
      ],
      "text/plain": [
       "                DateCrawled  Price  VehicleType  RegistrationYear Gearbox  \\\n",
       "0       2016-03-24 11:52:17    480          NaN              1993  manual   \n",
       "1       2016-03-24 10:58:45  18300        coupe              2011  manual   \n",
       "2       2016-03-14 12:52:21   9800          suv              2004    auto   \n",
       "3       2016-03-17 16:54:04   1500        small              2001  manual   \n",
       "4       2016-03-31 17:25:20   3600        small              2008  manual   \n",
       "...                     ...    ...          ...               ...     ...   \n",
       "354364  2016-03-21 09:50:58      0          NaN              2005  manual   \n",
       "354365  2016-03-14 17:48:27   2200          NaN              2005     NaN   \n",
       "354366  2016-03-05 19:56:21   1199  convertible              2000    auto   \n",
       "354367  2016-03-19 18:57:12   9200          bus              1996  manual   \n",
       "354368  2016-03-20 19:41:08   3400        wagon              2002  manual   \n",
       "\n",
       "        Power        Model  Kilometer  RegistrationMonth  FuelType  \\\n",
       "0           0         golf     150000                  0    petrol   \n",
       "1         190          NaN     125000                  5  gasoline   \n",
       "2         163        grand     125000                  8  gasoline   \n",
       "3          75         golf     150000                  6    petrol   \n",
       "4          69        fabia      90000                  7  gasoline   \n",
       "...       ...          ...        ...                ...       ...   \n",
       "354364      0         colt     150000                  7    petrol   \n",
       "354365      0          NaN      20000                  1       NaN   \n",
       "354366    101       fortwo     125000                  3    petrol   \n",
       "354367    102  transporter     150000                  3  gasoline   \n",
       "354368    100         golf     150000                  6  gasoline   \n",
       "\n",
       "                 Brand NotRepaired          DateCreated  NumberOfPictures  \\\n",
       "0           volkswagen         NaN  2016-03-24 00:00:00                 0   \n",
       "1                 audi         yes  2016-03-24 00:00:00                 0   \n",
       "2                 jeep         NaN  2016-03-14 00:00:00                 0   \n",
       "3           volkswagen          no  2016-03-17 00:00:00                 0   \n",
       "4                skoda          no  2016-03-31 00:00:00                 0   \n",
       "...                ...         ...                  ...               ...   \n",
       "354364      mitsubishi         yes  2016-03-21 00:00:00                 0   \n",
       "354365  sonstige_autos         NaN  2016-03-14 00:00:00                 0   \n",
       "354366           smart          no  2016-03-05 00:00:00                 0   \n",
       "354367      volkswagen          no  2016-03-19 00:00:00                 0   \n",
       "354368      volkswagen         NaN  2016-03-20 00:00:00                 0   \n",
       "\n",
       "        PostalCode             LastSeen  \n",
       "0            70435  2016-04-07 03:16:57  \n",
       "1            66954  2016-04-07 01:46:50  \n",
       "2            90480  2016-04-05 12:47:46  \n",
       "3            91074  2016-03-17 17:40:17  \n",
       "4            60437  2016-04-06 10:17:21  \n",
       "...            ...                  ...  \n",
       "354364        2694  2016-03-21 10:42:49  \n",
       "354365       39576  2016-04-06 00:46:52  \n",
       "354366       26135  2016-03-11 18:17:12  \n",
       "354367       87439  2016-04-07 07:15:26  \n",
       "354368       40764  2016-03-24 12:45:21  \n",
       "\n",
       "[354369 rows x 16 columns]"
      ]
     },
     "execution_count": 2,
     "metadata": {},
     "output_type": "execute_result"
    }
   ],
   "source": [
    "df = pd.read_csv('/datasets/autos.csv')\n",
    "df"
   ]
  },
  {
   "cell_type": "code",
   "execution_count": 3,
   "metadata": {},
   "outputs": [
    {
     "name": "stdout",
     "output_type": "stream",
     "text": [
      "<class 'pandas.core.frame.DataFrame'>\n",
      "RangeIndex: 354369 entries, 0 to 354368\n",
      "Data columns (total 16 columns):\n",
      " #   Column             Non-Null Count   Dtype \n",
      "---  ------             --------------   ----- \n",
      " 0   DateCrawled        354369 non-null  object\n",
      " 1   Price              354369 non-null  int64 \n",
      " 2   VehicleType        316879 non-null  object\n",
      " 3   RegistrationYear   354369 non-null  int64 \n",
      " 4   Gearbox            334536 non-null  object\n",
      " 5   Power              354369 non-null  int64 \n",
      " 6   Model              334664 non-null  object\n",
      " 7   Kilometer          354369 non-null  int64 \n",
      " 8   RegistrationMonth  354369 non-null  int64 \n",
      " 9   FuelType           321474 non-null  object\n",
      " 10  Brand              354369 non-null  object\n",
      " 11  NotRepaired        283215 non-null  object\n",
      " 12  DateCreated        354369 non-null  object\n",
      " 13  NumberOfPictures   354369 non-null  int64 \n",
      " 14  PostalCode         354369 non-null  int64 \n",
      " 15  LastSeen           354369 non-null  object\n",
      "dtypes: int64(7), object(9)\n",
      "memory usage: 43.3+ MB\n"
     ]
    }
   ],
   "source": [
    "df.info()"
   ]
  },
  {
   "cell_type": "code",
   "execution_count": 4,
   "metadata": {},
   "outputs": [
    {
     "name": "stdout",
     "output_type": "stream",
     "text": [
      "DateCrawled - 0%\n",
      "Price - 0%\n",
      "VehicleType - 11%\n",
      "RegistrationYear - 0%\n",
      "Gearbox - 6%\n",
      "Power - 0%\n",
      "Model - 6%\n",
      "Kilometer - 0%\n",
      "RegistrationMonth - 0%\n",
      "FuelType - 9%\n",
      "Brand - 0%\n",
      "NotRepaired - 20%\n",
      "DateCreated - 0%\n",
      "NumberOfPictures - 0%\n",
      "PostalCode - 0%\n",
      "LastSeen - 0%\n"
     ]
    }
   ],
   "source": [
    "for column in df.columns:\n",
    "    missing_values = np.mean(df[column].isna())\n",
    "    print('{} - {}%'.format(column, round(missing_values*100)))"
   ]
  },
  {
   "cell_type": "markdown",
   "metadata": {},
   "source": [
    "Имеются пропуски в столбцах:  \n",
    "    VehicleType - тип автомобильного кузова  \n",
    "    Gearbox -  тип коробки передач  \n",
    "    Model - модель автомобиля  \n",
    "    FuelType - тип топлива  \n",
    "    NotRepaired - была машина в ремонте или нет  \n",
    "    \n",
    "Можно заменить данными для других автомобилей со схожими характеристиками, пропуски в NotRepaired заменим на 'no'"
   ]
  },
  {
   "cell_type": "code",
   "execution_count": 5,
   "metadata": {},
   "outputs": [
    {
     "data": {
      "text/html": [
       "<div>\n",
       "<style scoped>\n",
       "    .dataframe tbody tr th:only-of-type {\n",
       "        vertical-align: middle;\n",
       "    }\n",
       "\n",
       "    .dataframe tbody tr th {\n",
       "        vertical-align: top;\n",
       "    }\n",
       "\n",
       "    .dataframe thead th {\n",
       "        text-align: right;\n",
       "    }\n",
       "</style>\n",
       "<table border=\"1\" class=\"dataframe\">\n",
       "  <thead>\n",
       "    <tr style=\"text-align: right;\">\n",
       "      <th></th>\n",
       "      <th>Price</th>\n",
       "      <th>RegistrationYear</th>\n",
       "      <th>Power</th>\n",
       "      <th>Kilometer</th>\n",
       "      <th>RegistrationMonth</th>\n",
       "      <th>NumberOfPictures</th>\n",
       "      <th>PostalCode</th>\n",
       "    </tr>\n",
       "  </thead>\n",
       "  <tbody>\n",
       "    <tr>\n",
       "      <th>count</th>\n",
       "      <td>354369.000000</td>\n",
       "      <td>354369.000000</td>\n",
       "      <td>354369.000000</td>\n",
       "      <td>354369.000000</td>\n",
       "      <td>354369.000000</td>\n",
       "      <td>354369.0</td>\n",
       "      <td>354369.000000</td>\n",
       "    </tr>\n",
       "    <tr>\n",
       "      <th>mean</th>\n",
       "      <td>4416.656776</td>\n",
       "      <td>2004.234448</td>\n",
       "      <td>110.094337</td>\n",
       "      <td>128211.172535</td>\n",
       "      <td>5.714645</td>\n",
       "      <td>0.0</td>\n",
       "      <td>50508.689087</td>\n",
       "    </tr>\n",
       "    <tr>\n",
       "      <th>std</th>\n",
       "      <td>4514.158514</td>\n",
       "      <td>90.227958</td>\n",
       "      <td>189.850405</td>\n",
       "      <td>37905.341530</td>\n",
       "      <td>3.726421</td>\n",
       "      <td>0.0</td>\n",
       "      <td>25783.096248</td>\n",
       "    </tr>\n",
       "    <tr>\n",
       "      <th>min</th>\n",
       "      <td>0.000000</td>\n",
       "      <td>1000.000000</td>\n",
       "      <td>0.000000</td>\n",
       "      <td>5000.000000</td>\n",
       "      <td>0.000000</td>\n",
       "      <td>0.0</td>\n",
       "      <td>1067.000000</td>\n",
       "    </tr>\n",
       "    <tr>\n",
       "      <th>25%</th>\n",
       "      <td>1050.000000</td>\n",
       "      <td>1999.000000</td>\n",
       "      <td>69.000000</td>\n",
       "      <td>125000.000000</td>\n",
       "      <td>3.000000</td>\n",
       "      <td>0.0</td>\n",
       "      <td>30165.000000</td>\n",
       "    </tr>\n",
       "    <tr>\n",
       "      <th>50%</th>\n",
       "      <td>2700.000000</td>\n",
       "      <td>2003.000000</td>\n",
       "      <td>105.000000</td>\n",
       "      <td>150000.000000</td>\n",
       "      <td>6.000000</td>\n",
       "      <td>0.0</td>\n",
       "      <td>49413.000000</td>\n",
       "    </tr>\n",
       "    <tr>\n",
       "      <th>75%</th>\n",
       "      <td>6400.000000</td>\n",
       "      <td>2008.000000</td>\n",
       "      <td>143.000000</td>\n",
       "      <td>150000.000000</td>\n",
       "      <td>9.000000</td>\n",
       "      <td>0.0</td>\n",
       "      <td>71083.000000</td>\n",
       "    </tr>\n",
       "    <tr>\n",
       "      <th>max</th>\n",
       "      <td>20000.000000</td>\n",
       "      <td>9999.000000</td>\n",
       "      <td>20000.000000</td>\n",
       "      <td>150000.000000</td>\n",
       "      <td>12.000000</td>\n",
       "      <td>0.0</td>\n",
       "      <td>99998.000000</td>\n",
       "    </tr>\n",
       "  </tbody>\n",
       "</table>\n",
       "</div>"
      ],
      "text/plain": [
       "               Price  RegistrationYear          Power      Kilometer  \\\n",
       "count  354369.000000     354369.000000  354369.000000  354369.000000   \n",
       "mean     4416.656776       2004.234448     110.094337  128211.172535   \n",
       "std      4514.158514         90.227958     189.850405   37905.341530   \n",
       "min         0.000000       1000.000000       0.000000    5000.000000   \n",
       "25%      1050.000000       1999.000000      69.000000  125000.000000   \n",
       "50%      2700.000000       2003.000000     105.000000  150000.000000   \n",
       "75%      6400.000000       2008.000000     143.000000  150000.000000   \n",
       "max     20000.000000       9999.000000   20000.000000  150000.000000   \n",
       "\n",
       "       RegistrationMonth  NumberOfPictures     PostalCode  \n",
       "count      354369.000000          354369.0  354369.000000  \n",
       "mean            5.714645               0.0   50508.689087  \n",
       "std             3.726421               0.0   25783.096248  \n",
       "min             0.000000               0.0    1067.000000  \n",
       "25%             3.000000               0.0   30165.000000  \n",
       "50%             6.000000               0.0   49413.000000  \n",
       "75%             9.000000               0.0   71083.000000  \n",
       "max            12.000000               0.0   99998.000000  "
      ]
     },
     "execution_count": 5,
     "metadata": {},
     "output_type": "execute_result"
    }
   ],
   "source": [
    "df.describe()"
   ]
  },
  {
   "cell_type": "markdown",
   "metadata": {},
   "source": [
    "Выбросы RegistrationYear,минимум и максимум не соответсвуют действительности.\n",
    "Выбросы Power,максимум не соответсвует действительности, 0 лошадиных сил может быть в прицепе.\n",
    "Столбец NumberOfPictures принимает исключительно нулевые значения,его можно удалить"
   ]
  },
  {
   "cell_type": "code",
   "execution_count": 6,
   "metadata": {},
   "outputs": [
    {
     "data": {
      "text/plain": [
       "array([0])"
      ]
     },
     "execution_count": 6,
     "metadata": {},
     "output_type": "execute_result"
    }
   ],
   "source": [
    "df['NumberOfPictures'].unique()"
   ]
  },
  {
   "cell_type": "code",
   "execution_count": 7,
   "metadata": {},
   "outputs": [],
   "source": [
    "del df['NumberOfPictures']"
   ]
  },
  {
   "cell_type": "code",
   "execution_count": 8,
   "metadata": {},
   "outputs": [
    {
     "data": {
      "text/html": [
       "<div>\n",
       "<style scoped>\n",
       "    .dataframe tbody tr th:only-of-type {\n",
       "        vertical-align: middle;\n",
       "    }\n",
       "\n",
       "    .dataframe tbody tr th {\n",
       "        vertical-align: top;\n",
       "    }\n",
       "\n",
       "    .dataframe thead th {\n",
       "        text-align: right;\n",
       "    }\n",
       "</style>\n",
       "<table border=\"1\" class=\"dataframe\">\n",
       "  <thead>\n",
       "    <tr style=\"text-align: right;\">\n",
       "      <th></th>\n",
       "      <th>DateCrawled</th>\n",
       "      <th>Price</th>\n",
       "      <th>VehicleType</th>\n",
       "      <th>RegistrationYear</th>\n",
       "      <th>Gearbox</th>\n",
       "      <th>Power</th>\n",
       "      <th>Model</th>\n",
       "      <th>Kilometer</th>\n",
       "      <th>RegistrationMonth</th>\n",
       "      <th>FuelType</th>\n",
       "      <th>Brand</th>\n",
       "      <th>NotRepaired</th>\n",
       "      <th>DateCreated</th>\n",
       "      <th>PostalCode</th>\n",
       "      <th>LastSeen</th>\n",
       "    </tr>\n",
       "  </thead>\n",
       "  <tbody>\n",
       "    <tr>\n",
       "      <th>41529</th>\n",
       "      <td>2016-03-18 18:46:15</td>\n",
       "      <td>1999</td>\n",
       "      <td>wagon</td>\n",
       "      <td>2001</td>\n",
       "      <td>manual</td>\n",
       "      <td>131</td>\n",
       "      <td>passat</td>\n",
       "      <td>150000</td>\n",
       "      <td>7</td>\n",
       "      <td>gasoline</td>\n",
       "      <td>volkswagen</td>\n",
       "      <td>no</td>\n",
       "      <td>2016-03-18 00:00:00</td>\n",
       "      <td>36391</td>\n",
       "      <td>2016-03-18 18:46:15</td>\n",
       "    </tr>\n",
       "    <tr>\n",
       "      <th>325651</th>\n",
       "      <td>2016-03-18 18:46:15</td>\n",
       "      <td>1999</td>\n",
       "      <td>wagon</td>\n",
       "      <td>2001</td>\n",
       "      <td>manual</td>\n",
       "      <td>131</td>\n",
       "      <td>passat</td>\n",
       "      <td>150000</td>\n",
       "      <td>7</td>\n",
       "      <td>gasoline</td>\n",
       "      <td>volkswagen</td>\n",
       "      <td>no</td>\n",
       "      <td>2016-03-18 00:00:00</td>\n",
       "      <td>36391</td>\n",
       "      <td>2016-03-18 18:46:15</td>\n",
       "    </tr>\n",
       "    <tr>\n",
       "      <th>90964</th>\n",
       "      <td>2016-03-28 00:56:10</td>\n",
       "      <td>1000</td>\n",
       "      <td>small</td>\n",
       "      <td>2002</td>\n",
       "      <td>manual</td>\n",
       "      <td>83</td>\n",
       "      <td>other</td>\n",
       "      <td>150000</td>\n",
       "      <td>1</td>\n",
       "      <td>petrol</td>\n",
       "      <td>suzuki</td>\n",
       "      <td>no</td>\n",
       "      <td>2016-03-28 00:00:00</td>\n",
       "      <td>66589</td>\n",
       "      <td>2016-03-28 08:46:21</td>\n",
       "    </tr>\n",
       "    <tr>\n",
       "      <th>231258</th>\n",
       "      <td>2016-03-28 00:56:10</td>\n",
       "      <td>1000</td>\n",
       "      <td>small</td>\n",
       "      <td>2002</td>\n",
       "      <td>manual</td>\n",
       "      <td>83</td>\n",
       "      <td>other</td>\n",
       "      <td>150000</td>\n",
       "      <td>1</td>\n",
       "      <td>petrol</td>\n",
       "      <td>suzuki</td>\n",
       "      <td>no</td>\n",
       "      <td>2016-03-28 00:00:00</td>\n",
       "      <td>66589</td>\n",
       "      <td>2016-03-28 08:46:21</td>\n",
       "    </tr>\n",
       "    <tr>\n",
       "      <th>187735</th>\n",
       "      <td>2016-04-03 09:01:15</td>\n",
       "      <td>4699</td>\n",
       "      <td>coupe</td>\n",
       "      <td>2003</td>\n",
       "      <td>auto</td>\n",
       "      <td>218</td>\n",
       "      <td>clk</td>\n",
       "      <td>125000</td>\n",
       "      <td>6</td>\n",
       "      <td>petrol</td>\n",
       "      <td>mercedes_benz</td>\n",
       "      <td>yes</td>\n",
       "      <td>2016-04-03 00:00:00</td>\n",
       "      <td>75196</td>\n",
       "      <td>2016-04-07 09:44:54</td>\n",
       "    </tr>\n",
       "    <tr>\n",
       "      <th>258109</th>\n",
       "      <td>2016-04-03 09:01:15</td>\n",
       "      <td>4699</td>\n",
       "      <td>coupe</td>\n",
       "      <td>2003</td>\n",
       "      <td>auto</td>\n",
       "      <td>218</td>\n",
       "      <td>clk</td>\n",
       "      <td>125000</td>\n",
       "      <td>6</td>\n",
       "      <td>petrol</td>\n",
       "      <td>mercedes_benz</td>\n",
       "      <td>yes</td>\n",
       "      <td>2016-04-03 00:00:00</td>\n",
       "      <td>75196</td>\n",
       "      <td>2016-04-07 09:44:54</td>\n",
       "    </tr>\n",
       "    <tr>\n",
       "      <th>88087</th>\n",
       "      <td>2016-03-08 18:42:48</td>\n",
       "      <td>1799</td>\n",
       "      <td>coupe</td>\n",
       "      <td>1999</td>\n",
       "      <td>auto</td>\n",
       "      <td>193</td>\n",
       "      <td>clk</td>\n",
       "      <td>20000</td>\n",
       "      <td>7</td>\n",
       "      <td>petrol</td>\n",
       "      <td>mercedes_benz</td>\n",
       "      <td>no</td>\n",
       "      <td>2016-03-08 00:00:00</td>\n",
       "      <td>89518</td>\n",
       "      <td>2016-03-09 09:46:57</td>\n",
       "    </tr>\n",
       "    <tr>\n",
       "      <th>171088</th>\n",
       "      <td>2016-03-08 18:42:48</td>\n",
       "      <td>1799</td>\n",
       "      <td>coupe</td>\n",
       "      <td>1999</td>\n",
       "      <td>auto</td>\n",
       "      <td>193</td>\n",
       "      <td>clk</td>\n",
       "      <td>20000</td>\n",
       "      <td>7</td>\n",
       "      <td>petrol</td>\n",
       "      <td>mercedes_benz</td>\n",
       "      <td>no</td>\n",
       "      <td>2016-03-08 00:00:00</td>\n",
       "      <td>89518</td>\n",
       "      <td>2016-03-09 09:46:57</td>\n",
       "    </tr>\n",
       "  </tbody>\n",
       "</table>\n",
       "</div>"
      ],
      "text/plain": [
       "                DateCrawled  Price VehicleType  RegistrationYear Gearbox  \\\n",
       "41529   2016-03-18 18:46:15   1999       wagon              2001  manual   \n",
       "325651  2016-03-18 18:46:15   1999       wagon              2001  manual   \n",
       "90964   2016-03-28 00:56:10   1000       small              2002  manual   \n",
       "231258  2016-03-28 00:56:10   1000       small              2002  manual   \n",
       "187735  2016-04-03 09:01:15   4699       coupe              2003    auto   \n",
       "258109  2016-04-03 09:01:15   4699       coupe              2003    auto   \n",
       "88087   2016-03-08 18:42:48   1799       coupe              1999    auto   \n",
       "171088  2016-03-08 18:42:48   1799       coupe              1999    auto   \n",
       "\n",
       "        Power   Model  Kilometer  RegistrationMonth  FuelType          Brand  \\\n",
       "41529     131  passat     150000                  7  gasoline     volkswagen   \n",
       "325651    131  passat     150000                  7  gasoline     volkswagen   \n",
       "90964      83   other     150000                  1    petrol         suzuki   \n",
       "231258     83   other     150000                  1    petrol         suzuki   \n",
       "187735    218     clk     125000                  6    petrol  mercedes_benz   \n",
       "258109    218     clk     125000                  6    petrol  mercedes_benz   \n",
       "88087     193     clk      20000                  7    petrol  mercedes_benz   \n",
       "171088    193     clk      20000                  7    petrol  mercedes_benz   \n",
       "\n",
       "       NotRepaired          DateCreated  PostalCode             LastSeen  \n",
       "41529           no  2016-03-18 00:00:00       36391  2016-03-18 18:46:15  \n",
       "325651          no  2016-03-18 00:00:00       36391  2016-03-18 18:46:15  \n",
       "90964           no  2016-03-28 00:00:00       66589  2016-03-28 08:46:21  \n",
       "231258          no  2016-03-28 00:00:00       66589  2016-03-28 08:46:21  \n",
       "187735         yes  2016-04-03 00:00:00       75196  2016-04-07 09:44:54  \n",
       "258109         yes  2016-04-03 00:00:00       75196  2016-04-07 09:44:54  \n",
       "88087           no  2016-03-08 00:00:00       89518  2016-03-09 09:46:57  \n",
       "171088          no  2016-03-08 00:00:00       89518  2016-03-09 09:46:57  "
      ]
     },
     "execution_count": 8,
     "metadata": {},
     "output_type": "execute_result"
    }
   ],
   "source": [
    "df.loc[df.duplicated(keep=False)].sort_values('PostalCode')"
   ]
  },
  {
   "cell_type": "markdown",
   "metadata": {},
   "source": [
    "Дубликатов немного,удалим их"
   ]
  },
  {
   "cell_type": "code",
   "execution_count": 9,
   "metadata": {},
   "outputs": [],
   "source": [
    "df = df.drop_duplicates()"
   ]
  },
  {
   "cell_type": "code",
   "execution_count": 10,
   "metadata": {},
   "outputs": [
    {
     "data": {
      "text/plain": [
       "array(['volkswagen', 'audi', 'jeep', 'skoda', 'bmw', 'peugeot', 'ford',\n",
       "       'mazda', 'nissan', 'renault', 'mercedes_benz', 'opel', 'seat',\n",
       "       'citroen', 'honda', 'fiat', 'mini', 'smart', 'hyundai',\n",
       "       'sonstige_autos', 'alfa_romeo', 'subaru', 'volvo', 'mitsubishi',\n",
       "       'kia', 'suzuki', 'lancia', 'toyota', 'chevrolet', 'dacia',\n",
       "       'daihatsu', 'trabant', 'saab', 'chrysler', 'jaguar', 'daewoo',\n",
       "       'porsche', 'rover', 'land_rover', 'lada'], dtype=object)"
      ]
     },
     "execution_count": 10,
     "metadata": {},
     "output_type": "execute_result"
    }
   ],
   "source": [
    "df['Brand'].unique()"
   ]
  },
  {
   "cell_type": "code",
   "execution_count": null,
   "metadata": {},
   "outputs": [],
   "source": [
    "sorted(df['Model'].unique().astype('str'))\n",
    "\n"
   ]
  },
  {
   "cell_type": "code",
   "execution_count": null,
   "metadata": {},
   "outputs": [],
   "source": [
    "df['Model'] = df.loc[:,'Model'].replace('rangerover', 'range_rover')"
   ]
  },
  {
   "cell_type": "code",
   "execution_count": 13,
   "metadata": {},
   "outputs": [
    {
     "data": {
      "text/html": [
       "<div>\n",
       "<style scoped>\n",
       "    .dataframe tbody tr th:only-of-type {\n",
       "        vertical-align: middle;\n",
       "    }\n",
       "\n",
       "    .dataframe tbody tr th {\n",
       "        vertical-align: top;\n",
       "    }\n",
       "\n",
       "    .dataframe thead th {\n",
       "        text-align: right;\n",
       "    }\n",
       "</style>\n",
       "<table border=\"1\" class=\"dataframe\">\n",
       "  <thead>\n",
       "    <tr style=\"text-align: right;\">\n",
       "      <th></th>\n",
       "      <th>DateCrawled</th>\n",
       "      <th>Price</th>\n",
       "      <th>VehicleType</th>\n",
       "      <th>RegistrationYear</th>\n",
       "      <th>Gearbox</th>\n",
       "      <th>Power</th>\n",
       "      <th>Model</th>\n",
       "      <th>Kilometer</th>\n",
       "      <th>RegistrationMonth</th>\n",
       "      <th>FuelType</th>\n",
       "      <th>Brand</th>\n",
       "      <th>NotRepaired</th>\n",
       "      <th>DateCreated</th>\n",
       "      <th>PostalCode</th>\n",
       "      <th>LastSeen</th>\n",
       "    </tr>\n",
       "  </thead>\n",
       "  <tbody>\n",
       "  </tbody>\n",
       "</table>\n",
       "</div>"
      ],
      "text/plain": [
       "Empty DataFrame\n",
       "Columns: [DateCrawled, Price, VehicleType, RegistrationYear, Gearbox, Power, Model, Kilometer, RegistrationMonth, FuelType, Brand, NotRepaired, DateCreated, PostalCode, LastSeen]\n",
       "Index: []"
      ]
     },
     "execution_count": 13,
     "metadata": {},
     "output_type": "execute_result"
    }
   ],
   "source": [
    "df[df['Model']=='rangerover']"
   ]
  },
  {
   "cell_type": "code",
   "execution_count": 14,
   "metadata": {},
   "outputs": [
    {
     "data": {
      "image/png": "[encoded data removed]",
      "text/plain": [
       "<Figure size 432x288 with 1 Axes>"
      ]
     },
     "metadata": {
      "needs_background": "light"
     },
     "output_type": "display_data"
    }
   ],
   "source": [
    "plt.boxplot(df.Power.dropna() , labels = ['Power'])\n",
    "plt.ylim([0,300])\n",
    "plt.show()\n"
   ]
  },
  {
   "cell_type": "markdown",
   "metadata": {},
   "source": [
    "Мощность свыше 250 является выбросами"
   ]
  },
  {
   "cell_type": "code",
   "execution_count": 15,
   "metadata": {},
   "outputs": [
    {
     "data": {
      "text/html": [
       "<div>\n",
       "<style scoped>\n",
       "    .dataframe tbody tr th:only-of-type {\n",
       "        vertical-align: middle;\n",
       "    }\n",
       "\n",
       "    .dataframe tbody tr th {\n",
       "        vertical-align: top;\n",
       "    }\n",
       "\n",
       "    .dataframe thead th {\n",
       "        text-align: right;\n",
       "    }\n",
       "</style>\n",
       "<table border=\"1\" class=\"dataframe\">\n",
       "  <thead>\n",
       "    <tr style=\"text-align: right;\">\n",
       "      <th></th>\n",
       "      <th>DateCrawled</th>\n",
       "      <th>Price</th>\n",
       "      <th>VehicleType</th>\n",
       "      <th>RegistrationYear</th>\n",
       "      <th>Gearbox</th>\n",
       "      <th>Power</th>\n",
       "      <th>Model</th>\n",
       "      <th>Kilometer</th>\n",
       "      <th>RegistrationMonth</th>\n",
       "      <th>FuelType</th>\n",
       "      <th>Brand</th>\n",
       "      <th>NotRepaired</th>\n",
       "      <th>DateCreated</th>\n",
       "      <th>PostalCode</th>\n",
       "      <th>LastSeen</th>\n",
       "    </tr>\n",
       "  </thead>\n",
       "  <tbody>\n",
       "    <tr>\n",
       "      <th>7</th>\n",
       "      <td>2016-03-21 18:54:38</td>\n",
       "      <td>0</td>\n",
       "      <td>sedan</td>\n",
       "      <td>1980</td>\n",
       "      <td>manual</td>\n",
       "      <td>50</td>\n",
       "      <td>other</td>\n",
       "      <td>40000</td>\n",
       "      <td>7</td>\n",
       "      <td>petrol</td>\n",
       "      <td>volkswagen</td>\n",
       "      <td>no</td>\n",
       "      <td>2016-03-21 00:00:00</td>\n",
       "      <td>19348</td>\n",
       "      <td>2016-03-25 16:47:58</td>\n",
       "    </tr>\n",
       "    <tr>\n",
       "      <th>40</th>\n",
       "      <td>2016-03-26 22:06:17</td>\n",
       "      <td>0</td>\n",
       "      <td>NaN</td>\n",
       "      <td>1990</td>\n",
       "      <td>NaN</td>\n",
       "      <td>0</td>\n",
       "      <td>corsa</td>\n",
       "      <td>150000</td>\n",
       "      <td>1</td>\n",
       "      <td>petrol</td>\n",
       "      <td>opel</td>\n",
       "      <td>NaN</td>\n",
       "      <td>2016-03-26 00:00:00</td>\n",
       "      <td>56412</td>\n",
       "      <td>2016-03-27 17:43:34</td>\n",
       "    </tr>\n",
       "    <tr>\n",
       "      <th>111</th>\n",
       "      <td>2016-03-19 18:40:12</td>\n",
       "      <td>0</td>\n",
       "      <td>NaN</td>\n",
       "      <td>2017</td>\n",
       "      <td>manual</td>\n",
       "      <td>0</td>\n",
       "      <td>golf</td>\n",
       "      <td>5000</td>\n",
       "      <td>12</td>\n",
       "      <td>petrol</td>\n",
       "      <td>volkswagen</td>\n",
       "      <td>NaN</td>\n",
       "      <td>2016-03-19 00:00:00</td>\n",
       "      <td>21698</td>\n",
       "      <td>2016-04-01 08:47:05</td>\n",
       "    </tr>\n",
       "    <tr>\n",
       "      <th>115</th>\n",
       "      <td>2016-03-20 18:53:27</td>\n",
       "      <td>0</td>\n",
       "      <td>small</td>\n",
       "      <td>1999</td>\n",
       "      <td>NaN</td>\n",
       "      <td>0</td>\n",
       "      <td>NaN</td>\n",
       "      <td>5000</td>\n",
       "      <td>0</td>\n",
       "      <td>petrol</td>\n",
       "      <td>volkswagen</td>\n",
       "      <td>NaN</td>\n",
       "      <td>2016-03-20 00:00:00</td>\n",
       "      <td>37520</td>\n",
       "      <td>2016-04-07 02:45:22</td>\n",
       "    </tr>\n",
       "    <tr>\n",
       "      <th>152</th>\n",
       "      <td>2016-03-11 18:55:53</td>\n",
       "      <td>0</td>\n",
       "      <td>bus</td>\n",
       "      <td>2004</td>\n",
       "      <td>manual</td>\n",
       "      <td>101</td>\n",
       "      <td>meriva</td>\n",
       "      <td>150000</td>\n",
       "      <td>10</td>\n",
       "      <td>lpg</td>\n",
       "      <td>opel</td>\n",
       "      <td>yes</td>\n",
       "      <td>2016-03-11 00:00:00</td>\n",
       "      <td>27432</td>\n",
       "      <td>2016-03-12 23:47:10</td>\n",
       "    </tr>\n",
       "    <tr>\n",
       "      <th>...</th>\n",
       "      <td>...</td>\n",
       "      <td>...</td>\n",
       "      <td>...</td>\n",
       "      <td>...</td>\n",
       "      <td>...</td>\n",
       "      <td>...</td>\n",
       "      <td>...</td>\n",
       "      <td>...</td>\n",
       "      <td>...</td>\n",
       "      <td>...</td>\n",
       "      <td>...</td>\n",
       "      <td>...</td>\n",
       "      <td>...</td>\n",
       "      <td>...</td>\n",
       "      <td>...</td>\n",
       "    </tr>\n",
       "    <tr>\n",
       "      <th>354205</th>\n",
       "      <td>2016-03-09 15:56:30</td>\n",
       "      <td>0</td>\n",
       "      <td>NaN</td>\n",
       "      <td>2000</td>\n",
       "      <td>manual</td>\n",
       "      <td>65</td>\n",
       "      <td>corsa</td>\n",
       "      <td>150000</td>\n",
       "      <td>0</td>\n",
       "      <td>NaN</td>\n",
       "      <td>opel</td>\n",
       "      <td>yes</td>\n",
       "      <td>2016-03-09 00:00:00</td>\n",
       "      <td>23758</td>\n",
       "      <td>2016-03-30 11:16:08</td>\n",
       "    </tr>\n",
       "    <tr>\n",
       "      <th>354238</th>\n",
       "      <td>2016-03-20 14:55:07</td>\n",
       "      <td>0</td>\n",
       "      <td>small</td>\n",
       "      <td>2002</td>\n",
       "      <td>manual</td>\n",
       "      <td>60</td>\n",
       "      <td>fiesta</td>\n",
       "      <td>150000</td>\n",
       "      <td>3</td>\n",
       "      <td>petrol</td>\n",
       "      <td>ford</td>\n",
       "      <td>NaN</td>\n",
       "      <td>2016-03-20 00:00:00</td>\n",
       "      <td>33659</td>\n",
       "      <td>2016-04-06 18:45:23</td>\n",
       "    </tr>\n",
       "    <tr>\n",
       "      <th>354248</th>\n",
       "      <td>2016-03-24 13:48:05</td>\n",
       "      <td>0</td>\n",
       "      <td>small</td>\n",
       "      <td>1999</td>\n",
       "      <td>manual</td>\n",
       "      <td>53</td>\n",
       "      <td>swift</td>\n",
       "      <td>150000</td>\n",
       "      <td>3</td>\n",
       "      <td>petrol</td>\n",
       "      <td>suzuki</td>\n",
       "      <td>NaN</td>\n",
       "      <td>2016-03-24 00:00:00</td>\n",
       "      <td>42329</td>\n",
       "      <td>2016-04-07 05:17:24</td>\n",
       "    </tr>\n",
       "    <tr>\n",
       "      <th>354277</th>\n",
       "      <td>2016-03-10 22:55:50</td>\n",
       "      <td>0</td>\n",
       "      <td>small</td>\n",
       "      <td>1999</td>\n",
       "      <td>manual</td>\n",
       "      <td>37</td>\n",
       "      <td>arosa</td>\n",
       "      <td>150000</td>\n",
       "      <td>7</td>\n",
       "      <td>petrol</td>\n",
       "      <td>seat</td>\n",
       "      <td>yes</td>\n",
       "      <td>2016-03-10 00:00:00</td>\n",
       "      <td>22559</td>\n",
       "      <td>2016-03-12 23:46:32</td>\n",
       "    </tr>\n",
       "    <tr>\n",
       "      <th>354364</th>\n",
       "      <td>2016-03-21 09:50:58</td>\n",
       "      <td>0</td>\n",
       "      <td>NaN</td>\n",
       "      <td>2005</td>\n",
       "      <td>manual</td>\n",
       "      <td>0</td>\n",
       "      <td>colt</td>\n",
       "      <td>150000</td>\n",
       "      <td>7</td>\n",
       "      <td>petrol</td>\n",
       "      <td>mitsubishi</td>\n",
       "      <td>yes</td>\n",
       "      <td>2016-03-21 00:00:00</td>\n",
       "      <td>2694</td>\n",
       "      <td>2016-03-21 10:42:49</td>\n",
       "    </tr>\n",
       "  </tbody>\n",
       "</table>\n",
       "<p>10772 rows × 15 columns</p>\n",
       "</div>"
      ],
      "text/plain": [
       "                DateCrawled  Price VehicleType  RegistrationYear Gearbox  \\\n",
       "7       2016-03-21 18:54:38      0       sedan              1980  manual   \n",
       "40      2016-03-26 22:06:17      0         NaN              1990     NaN   \n",
       "111     2016-03-19 18:40:12      0         NaN              2017  manual   \n",
       "115     2016-03-20 18:53:27      0       small              1999     NaN   \n",
       "152     2016-03-11 18:55:53      0         bus              2004  manual   \n",
       "...                     ...    ...         ...               ...     ...   \n",
       "354205  2016-03-09 15:56:30      0         NaN              2000  manual   \n",
       "354238  2016-03-20 14:55:07      0       small              2002  manual   \n",
       "354248  2016-03-24 13:48:05      0       small              1999  manual   \n",
       "354277  2016-03-10 22:55:50      0       small              1999  manual   \n",
       "354364  2016-03-21 09:50:58      0         NaN              2005  manual   \n",
       "\n",
       "        Power   Model  Kilometer  RegistrationMonth FuelType       Brand  \\\n",
       "7          50   other      40000                  7   petrol  volkswagen   \n",
       "40          0   corsa     150000                  1   petrol        opel   \n",
       "111         0    golf       5000                 12   petrol  volkswagen   \n",
       "115         0     NaN       5000                  0   petrol  volkswagen   \n",
       "152       101  meriva     150000                 10      lpg        opel   \n",
       "...       ...     ...        ...                ...      ...         ...   \n",
       "354205     65   corsa     150000                  0      NaN        opel   \n",
       "354238     60  fiesta     150000                  3   petrol        ford   \n",
       "354248     53   swift     150000                  3   petrol      suzuki   \n",
       "354277     37   arosa     150000                  7   petrol        seat   \n",
       "354364      0    colt     150000                  7   petrol  mitsubishi   \n",
       "\n",
       "       NotRepaired          DateCreated  PostalCode             LastSeen  \n",
       "7               no  2016-03-21 00:00:00       19348  2016-03-25 16:47:58  \n",
       "40             NaN  2016-03-26 00:00:00       56412  2016-03-27 17:43:34  \n",
       "111            NaN  2016-03-19 00:00:00       21698  2016-04-01 08:47:05  \n",
       "115            NaN  2016-03-20 00:00:00       37520  2016-04-07 02:45:22  \n",
       "152            yes  2016-03-11 00:00:00       27432  2016-03-12 23:47:10  \n",
       "...            ...                  ...         ...                  ...  \n",
       "354205         yes  2016-03-09 00:00:00       23758  2016-03-30 11:16:08  \n",
       "354238         NaN  2016-03-20 00:00:00       33659  2016-04-06 18:45:23  \n",
       "354248         NaN  2016-03-24 00:00:00       42329  2016-04-07 05:17:24  \n",
       "354277         yes  2016-03-10 00:00:00       22559  2016-03-12 23:46:32  \n",
       "354364         yes  2016-03-21 00:00:00        2694  2016-03-21 10:42:49  \n",
       "\n",
       "[10772 rows x 15 columns]"
      ]
     },
     "execution_count": 15,
     "metadata": {},
     "output_type": "execute_result"
    }
   ],
   "source": [
    "df[df['Price']==0]"
   ]
  },
  {
   "cell_type": "code",
   "execution_count": 16,
   "metadata": {},
   "outputs": [],
   "source": [
    "df = df[(df['RegistrationYear'] < 2017)&(df['RegistrationYear'] > 1900)&(df['Power'] < 250)&(df['Price'] > 0)] #Удалим выбросы"
   ]
  },
  {
   "cell_type": "markdown",
   "metadata": {},
   "source": [
    "Возможно выбросы появились из-за человеческого фактора,например,цену или мощность вносили в год"
   ]
  },
  {
   "cell_type": "code",
   "execution_count": 19,
   "metadata": {},
   "outputs": [],
   "source": [
    "df['Model']  = df.groupby(['Brand','RegistrationYear'])['Model'].transform(\n",
    "lambda x: x.fillna((x.mode()[0] if x.count() != 0 else'unknow')))"
   ]
  },
  {
   "cell_type": "code",
   "execution_count": 20,
   "metadata": {},
   "outputs": [
    {
     "name": "stdout",
     "output_type": "stream",
     "text": [
      "<class 'pandas.core.frame.DataFrame'>\n",
      "Int64Index: 321978 entries, 0 to 354368\n",
      "Data columns (total 15 columns):\n",
      " #   Column             Non-Null Count   Dtype \n",
      "---  ------             --------------   ----- \n",
      " 0   DateCrawled        321978 non-null  object\n",
      " 1   Price              321978 non-null  int64 \n",
      " 2   VehicleType        302244 non-null  object\n",
      " 3   RegistrationYear   321978 non-null  int64 \n",
      " 4   Gearbox            306472 non-null  object\n",
      " 5   Power              321978 non-null  int64 \n",
      " 6   Model              321978 non-null  object\n",
      " 7   Kilometer          321978 non-null  int64 \n",
      " 8   RegistrationMonth  321978 non-null  int64 \n",
      " 9   FuelType           298162 non-null  object\n",
      " 10  Brand              321978 non-null  object\n",
      " 11  NotRepaired        263045 non-null  object\n",
      " 12  DateCreated        321978 non-null  object\n",
      " 13  PostalCode         321978 non-null  int64 \n",
      " 14  LastSeen           321978 non-null  object\n",
      "dtypes: int64(6), object(9)\n",
      "memory usage: 39.3+ MB\n"
     ]
    }
   ],
   "source": [
    "df.info() # из-за ошибки перепроверяла сохранение,ошибку исправить не смогла.Так и не поняла,куда вставлять .loc"
   ]
  },
  {
   "cell_type": "code",
   "execution_count": 21,
   "metadata": {},
   "outputs": [],
   "source": [
    "df['VehicleType'] = df.groupby(['Brand','Power'])['VehicleType'].transform(\n",
    "lambda x: x.fillna((x.mode()[0] if x.count() != 0 else'unknow')))"
   ]
  },
  {
   "cell_type": "code",
   "execution_count": 22,
   "metadata": {},
   "outputs": [],
   "source": [
    "df['Gearbox'] = df.groupby(['Brand','Model','Power','RegistrationYear'])['Gearbox'].transform(\n",
    "lambda x: x.fillna((x.mode()[0] if x.count() != 0 else'unknow')))"
   ]
  },
  {
   "cell_type": "code",
   "execution_count": 23,
   "metadata": {},
   "outputs": [],
   "source": [
    "df['FuelType'] = df.groupby(['Brand','Model','Power'])['FuelType'].transform(\n",
    "lambda x: x.fillna((x.mode()[0] if x.count() != 0 else'unknow')))"
   ]
  },
  {
   "cell_type": "code",
   "execution_count": 24,
   "metadata": {},
   "outputs": [
    {
     "data": {
      "text/plain": [
       "array([nan, 'yes', 'no'], dtype=object)"
      ]
     },
     "execution_count": 24,
     "metadata": {},
     "output_type": "execute_result"
    }
   ],
   "source": [
    "df['NotRepaired'].unique()"
   ]
  },
  {
   "cell_type": "code",
   "execution_count": 25,
   "metadata": {},
   "outputs": [],
   "source": [
    "df['NotRepaired'] = df.loc[:,'NotRepaired'].fillna('no')"
   ]
  },
  {
   "cell_type": "code",
   "execution_count": 26,
   "metadata": {},
   "outputs": [
    {
     "name": "stdout",
     "output_type": "stream",
     "text": [
      "<class 'pandas.core.frame.DataFrame'>\n",
      "Int64Index: 321978 entries, 0 to 354368\n",
      "Data columns (total 15 columns):\n",
      " #   Column             Non-Null Count   Dtype \n",
      "---  ------             --------------   ----- \n",
      " 0   DateCrawled        321978 non-null  object\n",
      " 1   Price              321978 non-null  int64 \n",
      " 2   VehicleType        321978 non-null  object\n",
      " 3   RegistrationYear   321978 non-null  int64 \n",
      " 4   Gearbox            321978 non-null  object\n",
      " 5   Power              321978 non-null  int64 \n",
      " 6   Model              321978 non-null  object\n",
      " 7   Kilometer          321978 non-null  int64 \n",
      " 8   RegistrationMonth  321978 non-null  int64 \n",
      " 9   FuelType           321978 non-null  object\n",
      " 10  Brand              321978 non-null  object\n",
      " 11  NotRepaired        321978 non-null  object\n",
      " 12  DateCreated        321978 non-null  object\n",
      " 13  PostalCode         321978 non-null  int64 \n",
      " 14  LastSeen           321978 non-null  object\n",
      "dtypes: int64(6), object(9)\n",
      "memory usage: 39.3+ MB\n"
     ]
    }
   ],
   "source": [
    "df.info() # пропуски все заполнены"
   ]
  },
  {
   "cell_type": "code",
   "execution_count": 27,
   "metadata": {},
   "outputs": [],
   "source": [
    "df['DateCrawled'] = pd.to_datetime(df['DateCrawled'])# перевела в дату,чтобы разбить по столбцам на годы и месяца, \n",
    "df['DateCreated'] = pd.to_datetime(df['DateCreated']) #на дни и часы не разбивала,не хотела перегружать компьютер\n",
    "df['LastSeen'] = pd.to_datetime(df['LastSeen'])"
   ]
  },
  {
   "cell_type": "code",
   "execution_count": 28,
   "metadata": {},
   "outputs": [
    {
     "name": "stdout",
     "output_type": "stream",
     "text": [
      "<class 'pandas.core.frame.DataFrame'>\n",
      "Int64Index: 321978 entries, 0 to 354368\n",
      "Data columns (total 15 columns):\n",
      " #   Column             Non-Null Count   Dtype         \n",
      "---  ------             --------------   -----         \n",
      " 0   DateCrawled        321978 non-null  datetime64[ns]\n",
      " 1   Price              321978 non-null  int64         \n",
      " 2   VehicleType        321978 non-null  object        \n",
      " 3   RegistrationYear   321978 non-null  int64         \n",
      " 4   Gearbox            321978 non-null  object        \n",
      " 5   Power              321978 non-null  int64         \n",
      " 6   Model              321978 non-null  object        \n",
      " 7   Kilometer          321978 non-null  int64         \n",
      " 8   RegistrationMonth  321978 non-null  int64         \n",
      " 9   FuelType           321978 non-null  object        \n",
      " 10  Brand              321978 non-null  object        \n",
      " 11  NotRepaired        321978 non-null  object        \n",
      " 12  DateCreated        321978 non-null  datetime64[ns]\n",
      " 13  PostalCode         321978 non-null  int64         \n",
      " 14  LastSeen           321978 non-null  datetime64[ns]\n",
      "dtypes: datetime64[ns](3), int64(6), object(6)\n",
      "memory usage: 39.3+ MB\n"
     ]
    }
   ],
   "source": [
    "df.info()"
   ]
  },
  {
   "cell_type": "code",
   "execution_count": 29,
   "metadata": {},
   "outputs": [],
   "source": [
    "df['DateCreated_y'] = df['DateCreated'].dt.year\n",
    "df['DateCreated_m'] = df['DateCreated'].dt.month\n"
   ]
  },
  {
   "cell_type": "code",
   "execution_count": 30,
   "metadata": {},
   "outputs": [],
   "source": [
    "df = df.drop(['DateCrawled','DateCreated','LastSeen'],axis=1)"
   ]
  },
  {
   "cell_type": "code",
   "execution_count": 31,
   "metadata": {},
   "outputs": [
    {
     "name": "stdout",
     "output_type": "stream",
     "text": [
      "<class 'pandas.core.frame.DataFrame'>\n",
      "Int64Index: 321978 entries, 0 to 354368\n",
      "Data columns (total 14 columns):\n",
      " #   Column             Non-Null Count   Dtype \n",
      "---  ------             --------------   ----- \n",
      " 0   Price              321978 non-null  int64 \n",
      " 1   VehicleType        321978 non-null  object\n",
      " 2   RegistrationYear   321978 non-null  int64 \n",
      " 3   Gearbox            321978 non-null  object\n",
      " 4   Power              321978 non-null  int64 \n",
      " 5   Model              321978 non-null  object\n",
      " 6   Kilometer          321978 non-null  int64 \n",
      " 7   RegistrationMonth  321978 non-null  int64 \n",
      " 8   FuelType           321978 non-null  object\n",
      " 9   Brand              321978 non-null  object\n",
      " 10  NotRepaired        321978 non-null  object\n",
      " 11  PostalCode         321978 non-null  int64 \n",
      " 12  DateCreated_y      321978 non-null  int64 \n",
      " 13  DateCreated_m      321978 non-null  int64 \n",
      "dtypes: int64(8), object(6)\n",
      "memory usage: 36.8+ MB\n"
     ]
    }
   ],
   "source": [
    "df.info()"
   ]
  },
  {
   "cell_type": "markdown",
   "metadata": {},
   "source": [
    "## Обучение моделей\n",
    "<a id='section_i'></a>"
   ]
  },
  {
   "cell_type": "code",
   "execution_count": 32,
   "metadata": {},
   "outputs": [],
   "source": [
    "df_features = df.drop('Price',axis=1)\n",
    "df_target = df['Price']\n",
    "features_train, features_valid, target_train, target_valid = train_test_split(df_features,df_target,\n",
    "                                                                              test_size = 0.25,random_state = 12345)\n"
   ]
  },
  {
   "cell_type": "code",
   "execution_count": 33,
   "metadata": {},
   "outputs": [
    {
     "data": {
      "text/plain": [
       "(241483, 13)"
      ]
     },
     "execution_count": 33,
     "metadata": {},
     "output_type": "execute_result"
    }
   ],
   "source": [
    "features_train.shape"
   ]
  },
  {
   "cell_type": "code",
   "execution_count": 34,
   "metadata": {},
   "outputs": [
    {
     "data": {
      "text/plain": [
       "(80495, 13)"
      ]
     },
     "execution_count": 34,
     "metadata": {},
     "output_type": "execute_result"
    }
   ],
   "source": [
    "features_valid.shape"
   ]
  },
  {
   "cell_type": "markdown",
   "metadata": {},
   "source": [
    "### LinearRegression\n",
    "<a id='sectio'></a>"
   ]
  },
  {
   "cell_type": "code",
   "execution_count": 35,
   "metadata": {},
   "outputs": [],
   "source": [
    "features_train_linear = pd.get_dummies(features_train, columns = ['VehicleType','Gearbox','Model',\n",
    "                                                                  'FuelType','Brand','NotRepaired'],drop_first=True)\n",
    "features_valid_linear = pd.get_dummies(features_valid, columns = ['VehicleType','Gearbox','Model',\n",
    "                                                                  'FuelType','Brand','NotRepaired'],drop_first=True)\n"
   ]
  },
  {
   "cell_type": "code",
   "execution_count": 36,
   "metadata": {},
   "outputs": [
    {
     "data": {
      "text/plain": [
       "(241483, 312)"
      ]
     },
     "execution_count": 36,
     "metadata": {},
     "output_type": "execute_result"
    }
   ],
   "source": [
    "features_train_linear.shape"
   ]
  },
  {
   "cell_type": "code",
   "execution_count": 37,
   "metadata": {},
   "outputs": [
    {
     "data": {
      "text/plain": [
       "(80495, 311)"
      ]
     },
     "execution_count": 37,
     "metadata": {},
     "output_type": "execute_result"
    }
   ],
   "source": [
    "features_valid_linear.shape"
   ]
  },
  {
   "cell_type": "code",
   "execution_count": 38,
   "metadata": {},
   "outputs": [
    {
     "name": "stdout",
     "output_type": "stream",
     "text": [
      "['Model_serie_1']\n"
     ]
    }
   ],
   "source": [
    "o = []\n",
    "for column in features_train_linear:\n",
    "    if column not in features_valid_linear:\n",
    "        o.append(column)\n",
    "        \n",
    "print(o)"
   ]
  },
  {
   "cell_type": "markdown",
   "metadata": {},
   "source": [
    "Пои разделении выборки на обучающую и валидационную , в валидационную выборку не попало не одной['Model_serie_1'].\n",
    "Добавила в валидационную выборку пустой столбец , и заполнила 0"
   ]
  },
  {
   "cell_type": "code",
   "execution_count": 39,
   "metadata": {},
   "outputs": [],
   "source": [
    "\n",
    "features_valid_linear['Model_serie_1'] = np.nan\n",
    "features_valid_linear['Model_serie_1'] = features_valid_linear['Model_serie_1'].fillna(0)"
   ]
  },
  {
   "cell_type": "code",
   "execution_count": 40,
   "metadata": {},
   "outputs": [],
   "source": [
    "numeric = ['RegistrationYear','Power','Kilometer','RegistrationMonth','PostalCode','DateCreated_y','DateCreated_m']\n",
    "scaler = StandardScaler()\n",
    "scaler.fit(features_train_linear[numeric]) \n",
    "features_train_linear[numeric] = scaler.transform(features_train_linear[numeric])\n",
    "features_valid_linear[numeric] = scaler.transform(features_valid_linear[numeric])"
   ]
  },
  {
   "cell_type": "code",
   "execution_count": 41,
   "metadata": {},
   "outputs": [
    {
     "name": "stdout",
     "output_type": "stream",
     "text": [
      "CPU times: user 16.5 s, sys: 4.02 s, total: 20.5 s\n",
      "Wall time: 20.8 s\n"
     ]
    },
    {
     "data": {
      "text/plain": [
       "LinearRegression()"
      ]
     },
     "execution_count": 41,
     "metadata": {},
     "output_type": "execute_result"
    }
   ],
   "source": [
    "%%time\n",
    "model = LinearRegression()\n",
    "model.fit(features_train_linear,target_train)\n"
   ]
  },
  {
   "cell_type": "code",
   "execution_count": 42,
   "metadata": {},
   "outputs": [
    {
     "name": "stdout",
     "output_type": "stream",
     "text": [
      "4283.770308916413\n",
      "CPU times: user 83.8 ms, sys: 129 ms, total: 213 ms\n",
      "Wall time: 195 ms\n"
     ]
    }
   ],
   "source": [
    "%%time\n",
    "predict = model.predict(features_valid_linear)\n",
    "rmse = mean_squared_error(target_valid,predict)**0.5\n",
    "print(rmse)"
   ]
  },
  {
   "cell_type": "markdown",
   "metadata": {},
   "source": [
    "### RandomForestRegressor\n",
    "<a id='secti'></a>"
   ]
  },
  {
   "cell_type": "code",
   "execution_count": 43,
   "metadata": {},
   "outputs": [],
   "source": [
    "features_train_tree = features_train.copy()\n",
    "features_valid_tree = features_valid.copy()"
   ]
  },
  {
   "cell_type": "code",
   "execution_count": 44,
   "metadata": {},
   "outputs": [],
   "source": [
    "numeric = ['RegistrationYear','Power','Kilometer','RegistrationMonth','PostalCode','DateCreated_y','DateCreated_m']\n",
    "scaler = StandardScaler()\n",
    "scaler.fit(features_train_tree[numeric] ) \n",
    "features_train_tree[numeric]  = scaler.transform(features_train_tree[numeric])\n",
    "features_valid_tree[numeric] = scaler.transform(features_valid_tree[numeric])"
   ]
  },
  {
   "cell_type": "code",
   "execution_count": 45,
   "metadata": {},
   "outputs": [],
   "source": [
    "encoder = OrdinalEncoder()\n",
    "#features_tree = encoder.fit_transform(df_features[['VehicleType','Gearbox','Model','FuelType','Brand','NotRepaired']])\n",
    "\n",
    "encoder.fit(features_train_tree[['VehicleType','Gearbox','Model','FuelType','Brand','NotRepaired']])\n",
    "features_train_tree = encoder.transform(features_train_tree[['VehicleType','Gearbox','Model','FuelType','Brand','NotRepaired']])\n",
    "features_valid_tree = encoder.transform(features_valid_tree[['VehicleType','Gearbox','Model','FuelType','Brand','NotRepaired']])"
   ]
  },
  {
   "cell_type": "code",
   "execution_count": null,
   "metadata": {},
   "outputs": [],
   "source": [
    "model = RandomForestRegressor(random_state=12345)\n",
    "param_dist = {'n_estimators': range(1,50),\n",
    "               'max_features': range(1,30),\n",
    "               'max_depth': range(1,50),\n",
    "               'min_samples_split': range(2,20,2),\n",
    "               'min_samples_leaf': range(2,20,2),\n",
    "               'bootstrap': [True, False]}\n",
    "rs =  RandomizedSearchCV(model,param_distributions = param_dist, cv=5,scoring = mean_squared_error, verbose=3)\n",
    "rs.fit(features_train_tree, target_train)\n",
    "best_params = rs.best_params_"
   ]
  },
  {
   "cell_type": "code",
   "execution_count": 48,
   "metadata": {
    "scrolled": true
   },
   "outputs": [
    {
     "name": "stdout",
     "output_type": "stream",
     "text": [
      "CPU times: user 3.81 s, sys: 3.36 ms, total: 3.81 s\n",
      "Wall time: 3.81 s\n"
     ]
    },
    {
     "data": {
      "text/plain": [
       "RandomForestRegressor(bootstrap=False, max_depth=10, max_features=2,\n",
       "                      min_samples_leaf=12, min_samples_split=12,\n",
       "                      n_estimators=49)"
      ]
     },
     "execution_count": 48,
     "metadata": {},
     "output_type": "execute_result"
    }
   ],
   "source": [
    "%%time\n",
    "model = RandomForestRegressor(**best_params)\n",
    "model.fit(features_train_tree,target_train)\n"
   ]
  },
  {
   "cell_type": "code",
   "execution_count": 49,
   "metadata": {},
   "outputs": [
    {
     "name": "stdout",
     "output_type": "stream",
     "text": [
      "RMSE для RandomForestRegressor 3611.017237230683\n",
      "CPU times: user 240 ms, sys: 157 µs, total: 240 ms\n",
      "Wall time: 238 ms\n"
     ]
    }
   ],
   "source": [
    "%%time\n",
    "predict = model.predict(features_valid_tree)\n",
    "rmse = mean_squared_error(target_valid,predict)**0.5\n",
    "print('RMSE для RandomForestRegressor',rmse )"
   ]
  },
  {
   "cell_type": "markdown",
   "metadata": {},
   "source": [
    "### CatBoostRegressor\n",
    "<a id='sect'></a>"
   ]
  },
  {
   "cell_type": "code",
   "execution_count": null,
   "metadata": {},
   "outputs": [],
   "source": [
    "%%time\n",
    "model = cat(eval_metric='RMSE',random_state=12345,verbose=10)\n",
    "params = {'learning_rate': [0.01, 0.3],\n",
    "        'depth': [4, 6, 10],\n",
    "        'l2_leaf_reg': [1, 3, 5, 7, 9],\n",
    "        'n_estimators' : [50, 100],\n",
    "         'grow_policy' : ['Depthwise']}\n",
    "grid_cv = GridSearchCV(estimator=model, param_grid=params, cv=3, n_jobs=-1, scoring='neg_mean_squared_error')\n",
    "grid_cv.fit(df_features, df_target,cat_features=['VehicleType','Gearbox','Model','FuelType','Brand','NotRepaired'])\n",
    "print('Best hyperparams: ', grid_cv.best_params_)\n",
    "params_best =  grid_cv.best_params_\n",
    "print('RMSE score on train sample: {:.2f}'.format((grid_cv.best_score_) ** 0.5))"
   ]
  },
  {
   "cell_type": "code",
   "execution_count": 51,
   "metadata": {
    "scrolled": true
   },
   "outputs": [
    {
     "name": "stdout",
     "output_type": "stream",
     "text": [
      "0:\tlearn: 3435.2200496\ttotal: 363ms\tremaining: 35.9s\n",
      "1:\tlearn: 2782.8977291\ttotal: 684ms\tremaining: 33.5s\n",
      "2:\tlearn: 2357.8141999\ttotal: 1s\tremaining: 32.4s\n",
      "3:\tlearn: 2082.1234705\ttotal: 1.34s\tremaining: 32.1s\n",
      "4:\tlearn: 1904.8015095\ttotal: 1.66s\tremaining: 31.6s\n",
      "5:\tlearn: 1795.7690786\ttotal: 1.99s\tremaining: 31.2s\n",
      "6:\tlearn: 1723.7524789\ttotal: 2.31s\tremaining: 30.6s\n",
      "7:\tlearn: 1676.3572113\ttotal: 2.63s\tremaining: 30.3s\n",
      "8:\tlearn: 1642.6720427\ttotal: 2.93s\tremaining: 29.6s\n",
      "9:\tlearn: 1618.3474547\ttotal: 3.27s\tremaining: 29.4s\n",
      "10:\tlearn: 1600.5702380\ttotal: 3.59s\tremaining: 29s\n",
      "11:\tlearn: 1584.1357658\ttotal: 3.87s\tremaining: 28.4s\n",
      "12:\tlearn: 1570.4834139\ttotal: 4.17s\tremaining: 27.9s\n",
      "13:\tlearn: 1561.1342090\ttotal: 4.46s\tremaining: 27.4s\n",
      "14:\tlearn: 1553.1247535\ttotal: 4.74s\tremaining: 26.9s\n",
      "15:\tlearn: 1544.3714307\ttotal: 5.02s\tremaining: 26.4s\n",
      "16:\tlearn: 1537.0678322\ttotal: 5.31s\tremaining: 25.9s\n",
      "17:\tlearn: 1529.9213171\ttotal: 5.58s\tremaining: 25.4s\n",
      "18:\tlearn: 1521.2084098\ttotal: 5.86s\tremaining: 25s\n",
      "19:\tlearn: 1514.1604845\ttotal: 6.14s\tremaining: 24.6s\n",
      "20:\tlearn: 1510.5689906\ttotal: 6.4s\tremaining: 24.1s\n",
      "21:\tlearn: 1505.6278556\ttotal: 6.65s\tremaining: 23.6s\n",
      "22:\tlearn: 1501.8270403\ttotal: 6.91s\tremaining: 23.1s\n",
      "23:\tlearn: 1497.2971083\ttotal: 7.17s\tremaining: 22.7s\n",
      "24:\tlearn: 1489.7749148\ttotal: 7.46s\tremaining: 22.4s\n",
      "25:\tlearn: 1486.1422678\ttotal: 7.76s\tremaining: 22.1s\n",
      "26:\tlearn: 1481.6111172\ttotal: 8.03s\tremaining: 21.7s\n",
      "27:\tlearn: 1480.1358251\ttotal: 8.24s\tremaining: 21.2s\n",
      "28:\tlearn: 1478.0478849\ttotal: 8.46s\tremaining: 20.7s\n",
      "29:\tlearn: 1475.8449500\ttotal: 8.7s\tremaining: 20.3s\n",
      "30:\tlearn: 1469.8774790\ttotal: 9s\tremaining: 20s\n",
      "31:\tlearn: 1462.7444742\ttotal: 9.32s\tremaining: 19.8s\n",
      "32:\tlearn: 1460.3483800\ttotal: 9.54s\tremaining: 19.4s\n",
      "33:\tlearn: 1457.2272621\ttotal: 9.8s\tremaining: 19s\n",
      "34:\tlearn: 1451.3854751\ttotal: 10.1s\tremaining: 18.7s\n",
      "35:\tlearn: 1450.1232641\ttotal: 10.3s\tremaining: 18.3s\n",
      "36:\tlearn: 1446.7116903\ttotal: 10.6s\tremaining: 18s\n",
      "37:\tlearn: 1440.6329309\ttotal: 10.8s\tremaining: 17.7s\n",
      "38:\tlearn: 1432.6279065\ttotal: 11.1s\tremaining: 17.4s\n",
      "39:\tlearn: 1428.2542885\ttotal: 11.4s\tremaining: 17.1s\n",
      "40:\tlearn: 1427.2505277\ttotal: 11.6s\tremaining: 16.7s\n",
      "41:\tlearn: 1423.0056193\ttotal: 11.9s\tremaining: 16.4s\n",
      "42:\tlearn: 1411.8266155\ttotal: 12.2s\tremaining: 16.2s\n",
      "43:\tlearn: 1408.4389691\ttotal: 12.5s\tremaining: 15.9s\n",
      "44:\tlearn: 1407.8666332\ttotal: 12.7s\tremaining: 15.5s\n",
      "45:\tlearn: 1405.6622509\ttotal: 12.9s\tremaining: 15.1s\n",
      "46:\tlearn: 1402.5575132\ttotal: 13.1s\tremaining: 14.8s\n",
      "47:\tlearn: 1393.0662361\ttotal: 13.5s\tremaining: 14.6s\n",
      "48:\tlearn: 1388.7994757\ttotal: 13.7s\tremaining: 14.3s\n",
      "49:\tlearn: 1386.8981612\ttotal: 14s\tremaining: 14s\n",
      "50:\tlearn: 1379.7749832\ttotal: 14.3s\tremaining: 13.7s\n",
      "51:\tlearn: 1373.2429564\ttotal: 14.6s\tremaining: 13.4s\n",
      "52:\tlearn: 1369.8937436\ttotal: 14.8s\tremaining: 13.1s\n",
      "53:\tlearn: 1363.0457602\ttotal: 15.1s\tremaining: 12.8s\n",
      "54:\tlearn: 1358.7210477\ttotal: 15.3s\tremaining: 12.5s\n",
      "55:\tlearn: 1350.4733075\ttotal: 15.7s\tremaining: 12.3s\n",
      "56:\tlearn: 1343.8737176\ttotal: 15.9s\tremaining: 12s\n",
      "57:\tlearn: 1341.4645030\ttotal: 16.2s\tremaining: 11.7s\n",
      "58:\tlearn: 1337.9491180\ttotal: 16.5s\tremaining: 11.4s\n",
      "59:\tlearn: 1336.1895441\ttotal: 16.7s\tremaining: 11.1s\n",
      "60:\tlearn: 1330.7181444\ttotal: 16.9s\tremaining: 10.8s\n",
      "61:\tlearn: 1324.2086300\ttotal: 17.2s\tremaining: 10.6s\n",
      "62:\tlearn: 1318.8611903\ttotal: 17.5s\tremaining: 10.3s\n",
      "63:\tlearn: 1313.4009394\ttotal: 17.8s\tremaining: 10s\n",
      "64:\tlearn: 1311.9492167\ttotal: 18.1s\tremaining: 9.73s\n",
      "65:\tlearn: 1310.2049641\ttotal: 18.3s\tremaining: 9.42s\n",
      "66:\tlearn: 1304.1202071\ttotal: 18.6s\tremaining: 9.16s\n",
      "67:\tlearn: 1302.7652564\ttotal: 18.9s\tremaining: 8.88s\n",
      "68:\tlearn: 1297.2733378\ttotal: 19.2s\tremaining: 8.61s\n",
      "69:\tlearn: 1296.3625898\ttotal: 19.4s\tremaining: 8.3s\n",
      "70:\tlearn: 1296.0173796\ttotal: 19.5s\tremaining: 7.98s\n",
      "71:\tlearn: 1293.8495783\ttotal: 19.8s\tremaining: 7.7s\n",
      "72:\tlearn: 1291.3816883\ttotal: 20s\tremaining: 7.41s\n",
      "73:\tlearn: 1290.2431993\ttotal: 20.2s\tremaining: 7.11s\n",
      "74:\tlearn: 1288.4601287\ttotal: 20.5s\tremaining: 6.82s\n",
      "75:\tlearn: 1285.3116470\ttotal: 20.7s\tremaining: 6.54s\n",
      "76:\tlearn: 1284.6109463\ttotal: 20.9s\tremaining: 6.24s\n",
      "77:\tlearn: 1282.1100556\ttotal: 21.1s\tremaining: 5.96s\n",
      "78:\tlearn: 1282.0523482\ttotal: 21.3s\tremaining: 5.67s\n",
      "79:\tlearn: 1279.9616524\ttotal: 21.5s\tremaining: 5.38s\n",
      "80:\tlearn: 1274.7186817\ttotal: 21.8s\tremaining: 5.12s\n",
      "81:\tlearn: 1271.6961036\ttotal: 22.1s\tremaining: 4.85s\n",
      "82:\tlearn: 1269.8003556\ttotal: 22.3s\tremaining: 4.57s\n",
      "83:\tlearn: 1266.9140137\ttotal: 22.6s\tremaining: 4.29s\n",
      "84:\tlearn: 1264.9174413\ttotal: 22.8s\tremaining: 4.02s\n",
      "85:\tlearn: 1264.4075533\ttotal: 23s\tremaining: 3.74s\n",
      "86:\tlearn: 1258.7167298\ttotal: 23.3s\tremaining: 3.48s\n",
      "87:\tlearn: 1255.4827741\ttotal: 23.5s\tremaining: 3.21s\n",
      "88:\tlearn: 1252.9506663\ttotal: 23.8s\tremaining: 2.94s\n",
      "89:\tlearn: 1250.9793396\ttotal: 24s\tremaining: 2.67s\n",
      "90:\tlearn: 1249.2156351\ttotal: 24.3s\tremaining: 2.4s\n",
      "91:\tlearn: 1243.2888736\ttotal: 24.6s\tremaining: 2.14s\n",
      "92:\tlearn: 1242.9199322\ttotal: 24.8s\tremaining: 1.87s\n",
      "93:\tlearn: 1239.4424299\ttotal: 25.1s\tremaining: 1.6s\n",
      "94:\tlearn: 1237.3229284\ttotal: 25.3s\tremaining: 1.33s\n",
      "95:\tlearn: 1235.3474400\ttotal: 25.5s\tremaining: 1.06s\n",
      "96:\tlearn: 1233.0540771\ttotal: 25.8s\tremaining: 797ms\n",
      "97:\tlearn: 1230.9483143\ttotal: 26s\tremaining: 531ms\n",
      "98:\tlearn: 1227.7775841\ttotal: 26.3s\tremaining: 266ms\n",
      "99:\tlearn: 1225.6240379\ttotal: 26.5s\tremaining: 0us\n",
      "CPU times: user 26.8 s, sys: 263 ms, total: 27 s\n",
      "Wall time: 27.5 s\n"
     ]
    },
    {
     "data": {
      "text/plain": [
       "<catboost.core.CatBoostRegressor at 0x7ff78b649ca0>"
      ]
     },
     "execution_count": 51,
     "metadata": {},
     "output_type": "execute_result"
    }
   ],
   "source": [
    "%%time\n",
    "cat_features = ['VehicleType', 'Gearbox', 'Model',\n",
    "                'FuelType', 'Brand', 'NotRepaired']\n",
    "model = cat(**params_best)\n",
    "model.fit(features_train, target_train, cat_features=cat_features)\n"
   ]
  },
  {
   "cell_type": "code",
   "execution_count": 52,
   "metadata": {},
   "outputs": [
    {
     "name": "stdout",
     "output_type": "stream",
     "text": [
      "1579.967149283192\n",
      "CPU times: user 332 ms, sys: 4.02 ms, total: 336 ms\n",
      "Wall time: 334 ms\n"
     ]
    }
   ],
   "source": [
    "%%time\n",
    "predict_valid = model.predict(features_valid)\n",
    "print(mean_squared_error(target_valid, predict_valid)**0.5)"
   ]
  },
  {
   "cell_type": "markdown",
   "metadata": {},
   "source": [
    "### LGBMRegressor\n",
    "<a id='sec'></a>"
   ]
  },
  {
   "cell_type": "code",
   "execution_count": null,
   "metadata": {},
   "outputs": [],
   "source": [
    "for i in cat_features:\n",
    "    df_features[i] = df_features[i].astype('category')\n",
    "    features_train[i] = features_train[i].astype('category')\n",
    "    features_valid[i] = features_valid[i].astype('category')\n",
    "    "
   ]
  },
  {
   "cell_type": "code",
   "execution_count": 54,
   "metadata": {},
   "outputs": [
    {
     "name": "stdout",
     "output_type": "stream",
     "text": [
      "<class 'pandas.core.frame.DataFrame'>\n",
      "Int64Index: 321978 entries, 0 to 354368\n",
      "Data columns (total 13 columns):\n",
      " #   Column             Non-Null Count   Dtype   \n",
      "---  ------             --------------   -----   \n",
      " 0   VehicleType        321978 non-null  category\n",
      " 1   RegistrationYear   321978 non-null  int64   \n",
      " 2   Gearbox            321978 non-null  category\n",
      " 3   Power              321978 non-null  int64   \n",
      " 4   Model              321978 non-null  category\n",
      " 5   Kilometer          321978 non-null  int64   \n",
      " 6   RegistrationMonth  321978 non-null  int64   \n",
      " 7   FuelType           321978 non-null  category\n",
      " 8   Brand              321978 non-null  category\n",
      " 9   NotRepaired        321978 non-null  category\n",
      " 10  PostalCode         321978 non-null  int64   \n",
      " 11  DateCreated_y      321978 non-null  int64   \n",
      " 12  DateCreated_m      321978 non-null  int64   \n",
      "dtypes: category(6), int64(7)\n",
      "memory usage: 21.8 MB\n"
     ]
    }
   ],
   "source": [
    "df_features.info()"
   ]
  },
  {
   "cell_type": "code",
   "execution_count": 55,
   "metadata": {},
   "outputs": [
    {
     "name": "stdout",
     "output_type": "stream",
     "text": [
      "<class 'pandas.core.frame.DataFrame'>\n",
      "Int64Index: 241483 entries, 135637 to 239552\n",
      "Data columns (total 13 columns):\n",
      " #   Column             Non-Null Count   Dtype   \n",
      "---  ------             --------------   -----   \n",
      " 0   VehicleType        241483 non-null  category\n",
      " 1   RegistrationYear   241483 non-null  int64   \n",
      " 2   Gearbox            241483 non-null  category\n",
      " 3   Power              241483 non-null  int64   \n",
      " 4   Model              241483 non-null  category\n",
      " 5   Kilometer          241483 non-null  int64   \n",
      " 6   RegistrationMonth  241483 non-null  int64   \n",
      " 7   FuelType           241483 non-null  category\n",
      " 8   Brand              241483 non-null  category\n",
      " 9   NotRepaired        241483 non-null  category\n",
      " 10  PostalCode         241483 non-null  int64   \n",
      " 11  DateCreated_y      241483 non-null  int64   \n",
      " 12  DateCreated_m      241483 non-null  int64   \n",
      "dtypes: category(6), int64(7)\n",
      "memory usage: 16.4 MB\n"
     ]
    }
   ],
   "source": [
    "features_train.info()"
   ]
  },
  {
   "cell_type": "code",
   "execution_count": 56,
   "metadata": {},
   "outputs": [
    {
     "name": "stdout",
     "output_type": "stream",
     "text": [
      "<class 'pandas.core.frame.DataFrame'>\n",
      "Int64Index: 80495 entries, 114906 to 337084\n",
      "Data columns (total 13 columns):\n",
      " #   Column             Non-Null Count  Dtype   \n",
      "---  ------             --------------  -----   \n",
      " 0   VehicleType        80495 non-null  category\n",
      " 1   RegistrationYear   80495 non-null  int64   \n",
      " 2   Gearbox            80495 non-null  category\n",
      " 3   Power              80495 non-null  int64   \n",
      " 4   Model              80495 non-null  category\n",
      " 5   Kilometer          80495 non-null  int64   \n",
      " 6   RegistrationMonth  80495 non-null  int64   \n",
      " 7   FuelType           80495 non-null  category\n",
      " 8   Brand              80495 non-null  category\n",
      " 9   NotRepaired        80495 non-null  category\n",
      " 10  PostalCode         80495 non-null  int64   \n",
      " 11  DateCreated_y      80495 non-null  int64   \n",
      " 12  DateCreated_m      80495 non-null  int64   \n",
      "dtypes: category(6), int64(7)\n",
      "memory usage: 5.5 MB\n"
     ]
    }
   ],
   "source": [
    "features_valid.info()"
   ]
  },
  {
   "cell_type": "code",
   "execution_count": null,
   "metadata": {},
   "outputs": [],
   "source": [
    "model = LGBMRegressor()\n",
    "params = {'n_estimators' : [50, 100],\n",
    "        'max_depth' : [3, 5, 6, 7, 9, 12, 15, 17, 25],\n",
    "        'random_state' : [12345],\n",
    "        'num_leaves' : [127],\n",
    "        'learning_rate': [0.01, 0.015, 0.025, 0.05, 0.1]}\n",
    "grid_cv = GridSearchCV(estimator=model, param_grid=params, cv=3, n_jobs=-1, scoring='neg_mean_squared_error')\n",
    "grid_cv.fit(df_features, df_target,categorical_feature = ['VehicleType', 'Gearbox', 'Model','FuelType', 'Brand', 'NotRepaired'])\n",
    "print('Best hyperparams: ', grid_cv.best_params_)\n",
    "parameters = grid_cv.best_params_\n",
    "print('RMSE score on train sample: {:.2f}'.format((grid_cv.best_score_) ** 0.5))\n",
    "\n"
   ]
  },
  {
   "cell_type": "code",
   "execution_count": 58,
   "metadata": {},
   "outputs": [
    {
     "name": "stdout",
     "output_type": "stream",
     "text": [
      "CPU times: user 9.93 s, sys: 13.5 ms, total: 9.94 s\n",
      "Wall time: 10.1 s\n"
     ]
    },
    {
     "data": {
      "text/plain": [
       "LGBMRegressor(max_depth=12, num_leaves=127, random_state=12345)"
      ]
     },
     "execution_count": 58,
     "metadata": {},
     "output_type": "execute_result"
    }
   ],
   "source": [
    "%%time\n",
    "model = LGBMRegressor(learning_rate=0.1, max_depth=12, n_estimators=100, num_leaves=127, random_state=12345)\n",
    "model.fit(features_train,target_train)\n"
   ]
  },
  {
   "cell_type": "code",
   "execution_count": 59,
   "metadata": {},
   "outputs": [
    {
     "name": "stdout",
     "output_type": "stream",
     "text": [
      "1554.6486711858959\n",
      "CPU times: user 1.21 s, sys: 0 ns, total: 1.21 s\n",
      "Wall time: 1.2 s\n"
     ]
    }
   ],
   "source": [
    "%%time\n",
    "predict = model.predict(features_valid)\n",
    "print(mean_squared_error(target_valid,predict)**0.5)"
   ]
  },
  {
   "cell_type": "markdown",
   "metadata": {},
   "source": [
    "## Анализ моделей\n",
    "<a id='section'></a>"
   ]
  },
  {
   "cell_type": "code",
   "execution_count": 3,
   "metadata": {},
   "outputs": [
    {
     "data": {
      "text/html": [
       "<div>\n",
       "<style scoped>\n",
       "    .dataframe tbody tr th:only-of-type {\n",
       "        vertical-align: middle;\n",
       "    }\n",
       "\n",
       "    .dataframe tbody tr th {\n",
       "        vertical-align: top;\n",
       "    }\n",
       "\n",
       "    .dataframe thead th {\n",
       "        text-align: right;\n",
       "    }\n",
       "</style>\n",
       "<table border=\"1\" class=\"dataframe\">\n",
       "  <thead>\n",
       "    <tr style=\"text-align: right;\">\n",
       "      <th></th>\n",
       "      <th>Model</th>\n",
       "      <th>Wall_time_fit</th>\n",
       "      <th>Wall time_pred</th>\n",
       "      <th>Rmse</th>\n",
       "    </tr>\n",
       "  </thead>\n",
       "  <tbody>\n",
       "    <tr>\n",
       "      <th>0</th>\n",
       "      <td>LGBMRegressor</td>\n",
       "      <td>10.4 s</td>\n",
       "      <td>1.15 s</td>\n",
       "      <td>1554.6486711858959</td>\n",
       "    </tr>\n",
       "    <tr>\n",
       "      <th>1</th>\n",
       "      <td>CatBoostRegressor</td>\n",
       "      <td>27.2 s</td>\n",
       "      <td>293ms</td>\n",
       "      <td>1579.967149283192</td>\n",
       "    </tr>\n",
       "    <tr>\n",
       "      <th>2</th>\n",
       "      <td>LinearRegression</td>\n",
       "      <td>20.7 s</td>\n",
       "      <td>135 ms</td>\n",
       "      <td>4283.770308916413</td>\n",
       "    </tr>\n",
       "    <tr>\n",
       "      <th>3</th>\n",
       "      <td>RandomForestRegressor</td>\n",
       "      <td>7.68 s</td>\n",
       "      <td>409 ms</td>\n",
       "      <td>3356.9753490965627</td>\n",
       "    </tr>\n",
       "  </tbody>\n",
       "</table>\n",
       "</div>"
      ],
      "text/plain": [
       "                   Model Wall_time_fit Wall time_pred                Rmse\n",
       "0          LGBMRegressor        10.4 s         1.15 s  1554.6486711858959\n",
       "1      CatBoostRegressor        27.2 s          293ms   1579.967149283192\n",
       "2       LinearRegression        20.7 s         135 ms   4283.770308916413\n",
       "3  RandomForestRegressor        7.68 s         409 ms  3356.9753490965627"
      ]
     },
     "execution_count": 3,
     "metadata": {},
     "output_type": "execute_result"
    }
   ],
   "source": [
    "pd.DataFrame({\n",
    "    'Model' : ['LGBMRegressor','CatBoostRegressor','LinearRegression','RandomForestRegressor'],\n",
    "    'Wall_time_fit': ['10.4 s','27.2 s','20.7 s','7.68 s'],\n",
    "    'Wall time_pred': ['1.15 s','293ms','135 ms','409 ms'],\n",
    "    'Rmse':['1554.6486711858959','1579.967149283192','4283.770308916413','3356.9753490965627']})\n"
   ]
  },
  {
   "cell_type": "markdown",
   "metadata": {},
   "source": [
    " LGBMRegressor результат лучше чем CatBoostRegressor.Обучение по сравнению c CatBoostRegressor,занимает меньше времени , CatBoostRegressor в 2,72 раза дольше обучается .CatBoostRegressor даёт предсказания в 3,5 разa быстрее чем LGBMRegressor.\n",
    "Для данной задачи рекомендован LGBMRegressor, показал результат лучше и требует меньше времени"
   ]
  }
 ],
 "metadata": {
  "ExecuteTimeLog": [
   {
    "duration": 10,
    "start_time": "2022-07-07T12:39:23.867Z"
   },
   {
    "duration": 342,
    "start_time": "2022-07-07T12:40:22.304Z"
   },
   {
    "duration": 2959,
    "start_time": "2022-07-07T12:40:23.705Z"
   },
   {
    "duration": 844,
    "start_time": "2022-07-07T12:40:58.595Z"
   },
   {
    "duration": 101,
    "start_time": "2022-07-07T12:41:08.392Z"
   },
   {
    "duration": 22,
    "start_time": "2022-07-07T12:49:17.442Z"
   },
   {
    "duration": 6,
    "start_time": "2022-07-07T12:50:03.770Z"
   },
   {
    "duration": 84,
    "start_time": "2022-07-07T12:50:24.703Z"
   },
   {
    "duration": 458,
    "start_time": "2022-07-08T14:16:14.423Z"
   },
   {
    "duration": 1332,
    "start_time": "2022-07-08T14:16:14.883Z"
   },
   {
    "duration": 263,
    "start_time": "2022-07-08T14:16:16.218Z"
   },
   {
    "duration": 148,
    "start_time": "2022-07-08T14:16:16.483Z"
   },
   {
    "duration": 939,
    "start_time": "2022-07-08T14:16:16.633Z"
   },
   {
    "duration": 25,
    "start_time": "2022-07-08T14:20:20.069Z"
   },
   {
    "duration": 33,
    "start_time": "2022-07-08T14:21:31.992Z"
   },
   {
    "duration": 21,
    "start_time": "2022-07-08T14:23:07.611Z"
   },
   {
    "duration": 8,
    "start_time": "2022-07-08T14:23:19.444Z"
   },
   {
    "duration": 71,
    "start_time": "2022-07-08T14:23:26.182Z"
   },
   {
    "duration": 29,
    "start_time": "2022-07-08T14:23:47.778Z"
   },
   {
    "duration": 123,
    "start_time": "2022-07-08T14:34:33.141Z"
   },
   {
    "duration": 9,
    "start_time": "2022-07-08T14:57:43.806Z"
   },
   {
    "duration": 4,
    "start_time": "2022-07-08T14:57:58.790Z"
   },
   {
    "duration": 186,
    "start_time": "2022-07-08T14:58:01.470Z"
   },
   {
    "duration": 57,
    "start_time": "2022-07-08T15:01:34.059Z"
   },
   {
    "duration": 11,
    "start_time": "2022-07-08T15:02:02.155Z"
   },
   {
    "duration": 11,
    "start_time": "2022-07-08T15:58:50.355Z"
   },
   {
    "duration": 27,
    "start_time": "2022-07-08T15:58:59.000Z"
   },
   {
    "duration": 406,
    "start_time": "2022-07-08T16:01:03.018Z"
   },
   {
    "duration": 914,
    "start_time": "2022-07-08T16:01:03.426Z"
   },
   {
    "duration": 175,
    "start_time": "2022-07-08T16:01:04.342Z"
   },
   {
    "duration": 190,
    "start_time": "2022-07-08T16:01:04.520Z"
   },
   {
    "duration": 111,
    "start_time": "2022-07-08T16:01:04.713Z"
   },
   {
    "duration": 6,
    "start_time": "2022-07-08T16:01:04.826Z"
   },
   {
    "duration": 55,
    "start_time": "2022-07-08T16:01:04.834Z"
   },
   {
    "duration": 472,
    "start_time": "2022-07-08T16:11:47.881Z"
   },
   {
    "duration": 587,
    "start_time": "2022-07-08T16:11:56.092Z"
   },
   {
    "duration": 540,
    "start_time": "2022-07-08T16:12:12.255Z"
   },
   {
    "duration": 564,
    "start_time": "2022-07-08T16:14:03.506Z"
   },
   {
    "duration": 539,
    "start_time": "2022-07-08T16:15:01.757Z"
   },
   {
    "duration": 525,
    "start_time": "2022-07-08T16:16:00.110Z"
   },
   {
    "duration": 631,
    "start_time": "2022-07-08T16:16:06.259Z"
   },
   {
    "duration": 428,
    "start_time": "2022-07-20T13:32:48.511Z"
   },
   {
    "duration": 1561,
    "start_time": "2022-07-20T13:32:48.941Z"
   },
   {
    "duration": 134,
    "start_time": "2022-07-20T13:32:50.504Z"
   },
   {
    "duration": 142,
    "start_time": "2022-07-20T13:32:50.640Z"
   },
   {
    "duration": 108,
    "start_time": "2022-07-20T13:32:50.783Z"
   },
   {
    "duration": 5,
    "start_time": "2022-07-20T13:32:50.893Z"
   },
   {
    "duration": 51,
    "start_time": "2022-07-20T13:32:50.899Z"
   },
   {
    "duration": 504,
    "start_time": "2022-07-20T13:32:50.959Z"
   },
   {
    "duration": 524,
    "start_time": "2022-07-20T13:32:51.465Z"
   },
   {
    "duration": 397,
    "start_time": "2022-07-21T08:16:47.153Z"
   },
   {
    "duration": 2994,
    "start_time": "2022-07-21T08:16:47.552Z"
   },
   {
    "duration": 118,
    "start_time": "2022-07-21T08:16:50.548Z"
   },
   {
    "duration": 123,
    "start_time": "2022-07-21T08:16:50.668Z"
   },
   {
    "duration": 119,
    "start_time": "2022-07-21T08:16:50.792Z"
   },
   {
    "duration": 5,
    "start_time": "2022-07-21T08:16:50.913Z"
   },
   {
    "duration": 41,
    "start_time": "2022-07-21T08:16:50.919Z"
   },
   {
    "duration": 479,
    "start_time": "2022-07-21T08:16:50.961Z"
   },
   {
    "duration": 507,
    "start_time": "2022-07-21T08:16:51.441Z"
   },
   {
    "duration": 72,
    "start_time": "2022-07-21T08:19:20.001Z"
   },
   {
    "duration": 619,
    "start_time": "2022-07-21T08:19:45.127Z"
   },
   {
    "duration": 10,
    "start_time": "2022-07-21T08:24:49.632Z"
   },
   {
    "duration": 22,
    "start_time": "2022-07-21T08:25:02.960Z"
   },
   {
    "duration": 91,
    "start_time": "2022-07-21T08:25:23.170Z"
   },
   {
    "duration": 22,
    "start_time": "2022-07-21T08:27:01.535Z"
   },
   {
    "duration": 10,
    "start_time": "2022-07-21T08:27:39.868Z"
   },
   {
    "duration": 825,
    "start_time": "2022-07-21T08:28:50.945Z"
   },
   {
    "duration": 430,
    "start_time": "2022-07-21T08:50:42.942Z"
   },
   {
    "duration": 856,
    "start_time": "2022-07-21T08:50:43.374Z"
   },
   {
    "duration": 142,
    "start_time": "2022-07-21T08:50:44.232Z"
   },
   {
    "duration": 121,
    "start_time": "2022-07-21T08:50:44.376Z"
   },
   {
    "duration": 113,
    "start_time": "2022-07-21T08:50:44.498Z"
   },
   {
    "duration": 6,
    "start_time": "2022-07-21T08:50:44.612Z"
   },
   {
    "duration": 25,
    "start_time": "2022-07-21T08:50:44.619Z"
   },
   {
    "duration": 30,
    "start_time": "2022-07-21T08:50:44.646Z"
   },
   {
    "duration": 530,
    "start_time": "2022-07-21T08:50:44.677Z"
   },
   {
    "duration": 491,
    "start_time": "2022-07-21T08:50:45.209Z"
   },
   {
    "duration": 77,
    "start_time": "2022-07-21T08:50:45.701Z"
   },
   {
    "duration": 92,
    "start_time": "2022-07-21T08:56:19.827Z"
   },
   {
    "duration": 1171,
    "start_time": "2022-07-21T08:56:30.135Z"
   },
   {
    "duration": 111,
    "start_time": "2022-07-21T09:12:01.366Z"
   },
   {
    "duration": 1130,
    "start_time": "2022-07-21T09:14:07.952Z"
   },
   {
    "duration": 13,
    "start_time": "2022-07-21T09:14:10.728Z"
   },
   {
    "duration": 410,
    "start_time": "2022-07-21T09:14:19.862Z"
   },
   {
    "duration": 963,
    "start_time": "2022-07-21T09:14:20.274Z"
   },
   {
    "duration": 179,
    "start_time": "2022-07-21T09:14:21.240Z"
   },
   {
    "duration": 154,
    "start_time": "2022-07-21T09:14:21.421Z"
   },
   {
    "duration": 125,
    "start_time": "2022-07-21T09:14:21.578Z"
   },
   {
    "duration": 7,
    "start_time": "2022-07-21T09:14:21.705Z"
   },
   {
    "duration": 30,
    "start_time": "2022-07-21T09:14:21.714Z"
   },
   {
    "duration": 41,
    "start_time": "2022-07-21T09:14:21.745Z"
   },
   {
    "duration": 542,
    "start_time": "2022-07-21T09:14:21.788Z"
   },
   {
    "duration": 557,
    "start_time": "2022-07-21T09:14:22.331Z"
   },
   {
    "duration": 1229,
    "start_time": "2022-07-21T09:14:22.891Z"
   },
   {
    "duration": 73,
    "start_time": "2022-07-21T09:14:24.122Z"
   },
   {
    "duration": 61,
    "start_time": "2022-07-21T09:14:37.893Z"
   },
   {
    "duration": 25,
    "start_time": "2022-07-21T09:16:24.773Z"
   },
   {
    "duration": 12,
    "start_time": "2022-07-21T09:22:02.405Z"
   },
   {
    "duration": 12,
    "start_time": "2022-07-21T09:22:13.552Z"
   },
   {
    "duration": 11,
    "start_time": "2022-07-21T09:23:29.038Z"
   },
   {
    "duration": 445,
    "start_time": "2022-07-21T11:16:57.621Z"
   },
   {
    "duration": 3156,
    "start_time": "2022-07-21T11:16:58.069Z"
   },
   {
    "duration": 122,
    "start_time": "2022-07-21T11:17:01.227Z"
   },
   {
    "duration": 172,
    "start_time": "2022-07-21T11:17:01.351Z"
   },
   {
    "duration": 124,
    "start_time": "2022-07-21T11:17:01.525Z"
   },
   {
    "duration": 7,
    "start_time": "2022-07-21T11:17:01.651Z"
   },
   {
    "duration": 84,
    "start_time": "2022-07-21T11:17:01.660Z"
   },
   {
    "duration": 62,
    "start_time": "2022-07-21T11:17:01.746Z"
   },
   {
    "duration": 588,
    "start_time": "2022-07-21T11:17:01.810Z"
   },
   {
    "duration": 572,
    "start_time": "2022-07-21T11:17:02.405Z"
   },
   {
    "duration": 1161,
    "start_time": "2022-07-21T11:17:02.979Z"
   },
   {
    "duration": 2951,
    "start_time": "2022-07-21T11:17:04.143Z"
   },
   {
    "duration": 5081,
    "start_time": "2022-07-21T11:17:07.096Z"
   },
   {
    "duration": 0,
    "start_time": "2022-07-21T11:17:12.180Z"
   },
   {
    "duration": 0,
    "start_time": "2022-07-21T11:17:12.181Z"
   },
   {
    "duration": 360,
    "start_time": "2022-07-21T11:21:59.458Z"
   },
   {
    "duration": 917,
    "start_time": "2022-07-21T11:21:59.820Z"
   },
   {
    "duration": 132,
    "start_time": "2022-07-21T11:22:00.739Z"
   },
   {
    "duration": 149,
    "start_time": "2022-07-21T11:22:00.874Z"
   },
   {
    "duration": 123,
    "start_time": "2022-07-21T11:22:01.026Z"
   },
   {
    "duration": 6,
    "start_time": "2022-07-21T11:22:01.151Z"
   },
   {
    "duration": 25,
    "start_time": "2022-07-21T11:22:01.158Z"
   },
   {
    "duration": 39,
    "start_time": "2022-07-21T11:22:01.185Z"
   },
   {
    "duration": 549,
    "start_time": "2022-07-21T11:22:01.225Z"
   },
   {
    "duration": 607,
    "start_time": "2022-07-21T11:22:01.777Z"
   },
   {
    "duration": 1206,
    "start_time": "2022-07-21T11:22:02.386Z"
   },
   {
    "duration": 2808,
    "start_time": "2022-07-21T11:22:03.593Z"
   },
   {
    "duration": 23195,
    "start_time": "2022-07-21T11:22:06.404Z"
   },
   {
    "duration": 0,
    "start_time": "2022-07-21T11:22:29.601Z"
   },
   {
    "duration": 0,
    "start_time": "2022-07-21T11:22:29.602Z"
   },
   {
    "duration": 22,
    "start_time": "2022-07-21T11:23:32.535Z"
   },
   {
    "duration": 23,
    "start_time": "2022-07-21T11:23:42.757Z"
   },
   {
    "duration": 393,
    "start_time": "2022-07-21T11:23:58.134Z"
   },
   {
    "duration": 908,
    "start_time": "2022-07-21T11:23:58.529Z"
   },
   {
    "duration": 122,
    "start_time": "2022-07-21T11:23:59.439Z"
   },
   {
    "duration": 142,
    "start_time": "2022-07-21T11:23:59.564Z"
   },
   {
    "duration": 108,
    "start_time": "2022-07-21T11:23:59.707Z"
   },
   {
    "duration": 7,
    "start_time": "2022-07-21T11:23:59.816Z"
   },
   {
    "duration": 23,
    "start_time": "2022-07-21T11:23:59.825Z"
   },
   {
    "duration": 60,
    "start_time": "2022-07-21T11:23:59.850Z"
   },
   {
    "duration": 546,
    "start_time": "2022-07-21T11:23:59.912Z"
   },
   {
    "duration": 574,
    "start_time": "2022-07-21T11:24:00.462Z"
   },
   {
    "duration": 1341,
    "start_time": "2022-07-21T11:24:01.039Z"
   },
   {
    "duration": 34,
    "start_time": "2022-07-21T11:24:02.382Z"
   },
   {
    "duration": 2641,
    "start_time": "2022-07-21T11:24:02.418Z"
   },
   {
    "duration": 28,
    "start_time": "2022-07-21T11:24:05.061Z"
   },
   {
    "duration": 24314,
    "start_time": "2022-07-21T11:24:05.107Z"
   },
   {
    "duration": 0,
    "start_time": "2022-07-21T11:24:29.424Z"
   },
   {
    "duration": 0,
    "start_time": "2022-07-21T11:24:29.425Z"
   },
   {
    "duration": 0,
    "start_time": "2022-07-21T11:24:29.427Z"
   },
   {
    "duration": 168,
    "start_time": "2022-07-21T11:24:55.251Z"
   },
   {
    "duration": 155,
    "start_time": "2022-07-21T11:25:08.759Z"
   },
   {
    "duration": 465,
    "start_time": "2022-07-21T11:25:16.988Z"
   },
   {
    "duration": 979,
    "start_time": "2022-07-21T11:25:17.455Z"
   },
   {
    "duration": 133,
    "start_time": "2022-07-21T11:25:18.436Z"
   },
   {
    "duration": 150,
    "start_time": "2022-07-21T11:25:18.572Z"
   },
   {
    "duration": 118,
    "start_time": "2022-07-21T11:25:18.728Z"
   },
   {
    "duration": 8,
    "start_time": "2022-07-21T11:25:18.848Z"
   },
   {
    "duration": 18,
    "start_time": "2022-07-21T11:25:18.858Z"
   },
   {
    "duration": 54,
    "start_time": "2022-07-21T11:25:18.878Z"
   },
   {
    "duration": 554,
    "start_time": "2022-07-21T11:25:18.934Z"
   },
   {
    "duration": 576,
    "start_time": "2022-07-21T11:25:19.492Z"
   },
   {
    "duration": 1361,
    "start_time": "2022-07-21T11:25:20.069Z"
   },
   {
    "duration": 127,
    "start_time": "2022-07-21T11:25:21.432Z"
   },
   {
    "duration": 2961,
    "start_time": "2022-07-21T11:25:21.561Z"
   },
   {
    "duration": 122,
    "start_time": "2022-07-21T11:25:24.524Z"
   },
   {
    "duration": 22938,
    "start_time": "2022-07-21T11:25:24.648Z"
   },
   {
    "duration": 0,
    "start_time": "2022-07-21T11:25:47.588Z"
   },
   {
    "duration": 0,
    "start_time": "2022-07-21T11:25:47.589Z"
   },
   {
    "duration": 0,
    "start_time": "2022-07-21T11:25:47.590Z"
   },
   {
    "duration": 533,
    "start_time": "2022-07-21T11:26:13.785Z"
   },
   {
    "duration": 965,
    "start_time": "2022-07-21T11:26:14.320Z"
   },
   {
    "duration": 149,
    "start_time": "2022-07-21T11:26:15.287Z"
   },
   {
    "duration": 156,
    "start_time": "2022-07-21T11:26:15.439Z"
   },
   {
    "duration": 165,
    "start_time": "2022-07-21T11:26:15.597Z"
   },
   {
    "duration": 8,
    "start_time": "2022-07-21T11:26:15.764Z"
   },
   {
    "duration": 12,
    "start_time": "2022-07-21T11:26:15.775Z"
   },
   {
    "duration": 55,
    "start_time": "2022-07-21T11:26:15.790Z"
   },
   {
    "duration": 595,
    "start_time": "2022-07-21T11:26:15.847Z"
   },
   {
    "duration": 655,
    "start_time": "2022-07-21T11:26:16.444Z"
   },
   {
    "duration": 1339,
    "start_time": "2022-07-21T11:26:17.101Z"
   },
   {
    "duration": 79,
    "start_time": "2022-07-21T11:26:18.444Z"
   },
   {
    "duration": 0,
    "start_time": "2022-07-21T11:26:18.525Z"
   },
   {
    "duration": 0,
    "start_time": "2022-07-21T11:26:18.527Z"
   },
   {
    "duration": 0,
    "start_time": "2022-07-21T11:26:18.528Z"
   },
   {
    "duration": 0,
    "start_time": "2022-07-21T11:26:18.530Z"
   },
   {
    "duration": 0,
    "start_time": "2022-07-21T11:26:18.531Z"
   },
   {
    "duration": 1,
    "start_time": "2022-07-21T11:26:18.532Z"
   },
   {
    "duration": 429,
    "start_time": "2022-07-21T11:27:31.938Z"
   },
   {
    "duration": 880,
    "start_time": "2022-07-21T11:27:32.369Z"
   },
   {
    "duration": 115,
    "start_time": "2022-07-21T11:27:33.250Z"
   },
   {
    "duration": 150,
    "start_time": "2022-07-21T11:27:33.367Z"
   },
   {
    "duration": 139,
    "start_time": "2022-07-21T11:27:33.519Z"
   },
   {
    "duration": 6,
    "start_time": "2022-07-21T11:27:33.660Z"
   },
   {
    "duration": 12,
    "start_time": "2022-07-21T11:27:33.667Z"
   },
   {
    "duration": 49,
    "start_time": "2022-07-21T11:27:33.681Z"
   },
   {
    "duration": 516,
    "start_time": "2022-07-21T11:27:33.732Z"
   },
   {
    "duration": 563,
    "start_time": "2022-07-21T11:27:34.251Z"
   },
   {
    "duration": 1231,
    "start_time": "2022-07-21T11:27:34.816Z"
   },
   {
    "duration": 125,
    "start_time": "2022-07-21T11:27:36.049Z"
   },
   {
    "duration": 2689,
    "start_time": "2022-07-21T11:27:36.175Z"
   },
   {
    "duration": 143,
    "start_time": "2022-07-21T11:27:38.866Z"
   },
   {
    "duration": 23990,
    "start_time": "2022-07-21T11:27:39.010Z"
   },
   {
    "duration": 114,
    "start_time": "2022-07-21T11:28:03.005Z"
   },
   {
    "duration": 6422,
    "start_time": "2022-07-21T11:28:03.121Z"
   },
   {
    "duration": 22,
    "start_time": "2022-07-21T11:28:09.545Z"
   },
   {
    "duration": 112,
    "start_time": "2022-07-21T11:28:09.569Z"
   },
   {
    "duration": 111,
    "start_time": "2022-07-21T11:28:27.712Z"
   },
   {
    "duration": 20,
    "start_time": "2022-07-21T11:29:01.594Z"
   },
   {
    "duration": 24,
    "start_time": "2022-07-21T11:29:26.686Z"
   },
   {
    "duration": 109,
    "start_time": "2022-07-21T11:29:46.107Z"
   },
   {
    "duration": 409,
    "start_time": "2022-07-21T11:29:57.431Z"
   },
   {
    "duration": 915,
    "start_time": "2022-07-21T11:29:57.842Z"
   },
   {
    "duration": 133,
    "start_time": "2022-07-21T11:29:58.758Z"
   },
   {
    "duration": 132,
    "start_time": "2022-07-21T11:29:58.893Z"
   },
   {
    "duration": 119,
    "start_time": "2022-07-21T11:29:59.026Z"
   },
   {
    "duration": 6,
    "start_time": "2022-07-21T11:29:59.147Z"
   },
   {
    "duration": 14,
    "start_time": "2022-07-21T11:29:59.155Z"
   },
   {
    "duration": 50,
    "start_time": "2022-07-21T11:29:59.171Z"
   },
   {
    "duration": 510,
    "start_time": "2022-07-21T11:29:59.222Z"
   },
   {
    "duration": 575,
    "start_time": "2022-07-21T11:29:59.736Z"
   },
   {
    "duration": 1199,
    "start_time": "2022-07-21T11:30:00.313Z"
   },
   {
    "duration": 116,
    "start_time": "2022-07-21T11:30:01.514Z"
   },
   {
    "duration": 2790,
    "start_time": "2022-07-21T11:30:01.632Z"
   },
   {
    "duration": 119,
    "start_time": "2022-07-21T11:30:04.425Z"
   },
   {
    "duration": 24042,
    "start_time": "2022-07-21T11:30:04.546Z"
   },
   {
    "duration": 122,
    "start_time": "2022-07-21T11:30:28.590Z"
   },
   {
    "duration": 6322,
    "start_time": "2022-07-21T11:30:28.714Z"
   },
   {
    "duration": 125,
    "start_time": "2022-07-21T11:30:35.038Z"
   },
   {
    "duration": 20,
    "start_time": "2022-07-21T11:30:35.164Z"
   },
   {
    "duration": 20,
    "start_time": "2022-07-21T11:30:35.205Z"
   },
   {
    "duration": 163,
    "start_time": "2022-07-21T11:30:35.227Z"
   },
   {
    "duration": 36,
    "start_time": "2022-07-21T14:19:22.936Z"
   },
   {
    "duration": 53,
    "start_time": "2022-07-21T14:19:40.208Z"
   },
   {
    "duration": 108,
    "start_time": "2022-07-21T14:22:03.519Z"
   },
   {
    "duration": 760,
    "start_time": "2022-07-21T14:25:17.374Z"
   },
   {
    "duration": 216,
    "start_time": "2022-07-21T14:25:25.905Z"
   },
   {
    "duration": 225,
    "start_time": "2022-07-21T14:40:32.251Z"
   },
   {
    "duration": 10,
    "start_time": "2022-07-21T14:43:53.299Z"
   },
   {
    "duration": 1114,
    "start_time": "2022-07-21T14:44:00.882Z"
   },
   {
    "duration": 1351,
    "start_time": "2022-07-21T14:49:19.731Z"
   },
   {
    "duration": 1132,
    "start_time": "2022-07-21T14:49:58.991Z"
   },
   {
    "duration": 1058,
    "start_time": "2022-07-21T14:50:00.126Z"
   },
   {
    "duration": 126,
    "start_time": "2022-07-21T14:50:01.186Z"
   },
   {
    "duration": 126,
    "start_time": "2022-07-21T14:50:01.314Z"
   },
   {
    "duration": 112,
    "start_time": "2022-07-21T14:50:01.442Z"
   },
   {
    "duration": 5,
    "start_time": "2022-07-21T14:50:01.556Z"
   },
   {
    "duration": 23,
    "start_time": "2022-07-21T14:50:01.563Z"
   },
   {
    "duration": 49,
    "start_time": "2022-07-21T14:50:01.588Z"
   },
   {
    "duration": 502,
    "start_time": "2022-07-21T14:50:01.638Z"
   },
   {
    "duration": 556,
    "start_time": "2022-07-21T14:50:02.144Z"
   },
   {
    "duration": 1123,
    "start_time": "2022-07-21T14:50:02.702Z"
   },
   {
    "duration": 116,
    "start_time": "2022-07-21T14:50:03.827Z"
   },
   {
    "duration": 2831,
    "start_time": "2022-07-21T14:50:03.945Z"
   },
   {
    "duration": 108,
    "start_time": "2022-07-21T14:50:06.778Z"
   },
   {
    "duration": 23551,
    "start_time": "2022-07-21T14:50:06.888Z"
   },
   {
    "duration": 114,
    "start_time": "2022-07-21T14:50:30.441Z"
   },
   {
    "duration": 6300,
    "start_time": "2022-07-21T14:50:30.556Z"
   },
   {
    "duration": 120,
    "start_time": "2022-07-21T14:50:36.858Z"
   },
   {
    "duration": 35,
    "start_time": "2022-07-21T14:50:36.980Z"
   },
   {
    "duration": 87,
    "start_time": "2022-07-21T14:50:37.017Z"
   },
   {
    "duration": 162,
    "start_time": "2022-07-21T14:50:37.106Z"
   },
   {
    "duration": 250,
    "start_time": "2022-07-21T14:50:37.270Z"
   },
   {
    "duration": 298,
    "start_time": "2022-07-21T14:50:37.522Z"
   },
   {
    "duration": 1011,
    "start_time": "2022-07-22T11:28:20.701Z"
   },
   {
    "duration": 3,
    "start_time": "2022-07-22T11:31:04.777Z"
   },
   {
    "duration": 3,
    "start_time": "2022-07-22T11:31:08.459Z"
   },
   {
    "duration": 128,
    "start_time": "2022-07-22T11:42:02.942Z"
   },
   {
    "duration": 1020,
    "start_time": "2022-07-22T11:42:12.818Z"
   },
   {
    "duration": 3140,
    "start_time": "2022-07-22T11:42:13.840Z"
   },
   {
    "duration": 113,
    "start_time": "2022-07-22T11:42:16.982Z"
   },
   {
    "duration": 104,
    "start_time": "2022-07-22T11:42:17.097Z"
   },
   {
    "duration": 96,
    "start_time": "2022-07-22T11:42:17.203Z"
   },
   {
    "duration": 6,
    "start_time": "2022-07-22T11:42:17.301Z"
   },
   {
    "duration": 15,
    "start_time": "2022-07-22T11:42:17.309Z"
   },
   {
    "duration": 42,
    "start_time": "2022-07-22T11:42:17.325Z"
   },
   {
    "duration": 414,
    "start_time": "2022-07-22T11:42:17.369Z"
   },
   {
    "duration": 452,
    "start_time": "2022-07-22T11:42:17.785Z"
   },
   {
    "duration": 1321,
    "start_time": "2022-07-22T11:42:18.238Z"
   },
   {
    "duration": 0,
    "start_time": "2022-07-22T11:42:19.562Z"
   },
   {
    "duration": 0,
    "start_time": "2022-07-22T11:42:19.563Z"
   },
   {
    "duration": 0,
    "start_time": "2022-07-22T11:42:19.565Z"
   },
   {
    "duration": 0,
    "start_time": "2022-07-22T11:42:19.567Z"
   },
   {
    "duration": 0,
    "start_time": "2022-07-22T11:42:19.568Z"
   },
   {
    "duration": 0,
    "start_time": "2022-07-22T11:42:19.569Z"
   },
   {
    "duration": 0,
    "start_time": "2022-07-22T11:42:19.570Z"
   },
   {
    "duration": 0,
    "start_time": "2022-07-22T11:42:19.572Z"
   },
   {
    "duration": 0,
    "start_time": "2022-07-22T11:42:19.573Z"
   },
   {
    "duration": 0,
    "start_time": "2022-07-22T11:42:19.576Z"
   },
   {
    "duration": 0,
    "start_time": "2022-07-22T11:42:19.577Z"
   },
   {
    "duration": 0,
    "start_time": "2022-07-22T11:42:19.578Z"
   },
   {
    "duration": 0,
    "start_time": "2022-07-22T11:42:19.580Z"
   },
   {
    "duration": 3,
    "start_time": "2022-07-22T11:44:17.553Z"
   },
   {
    "duration": 788,
    "start_time": "2022-07-22T11:44:29.754Z"
   },
   {
    "duration": 901,
    "start_time": "2022-07-22T11:47:50.051Z"
   },
   {
    "duration": 894,
    "start_time": "2022-07-22T11:51:28.008Z"
   },
   {
    "duration": 1019,
    "start_time": "2022-07-22T11:52:04.446Z"
   },
   {
    "duration": 10,
    "start_time": "2022-07-22T11:52:24.298Z"
   },
   {
    "duration": 1096,
    "start_time": "2022-07-22T11:53:23.996Z"
   },
   {
    "duration": 1133,
    "start_time": "2022-07-22T11:53:30.509Z"
   },
   {
    "duration": 14,
    "start_time": "2022-07-22T11:54:14.706Z"
   },
   {
    "duration": 1433,
    "start_time": "2022-07-22T11:54:41.958Z"
   },
   {
    "duration": 1418,
    "start_time": "2022-07-22T11:55:13.046Z"
   },
   {
    "duration": 9,
    "start_time": "2022-07-22T11:55:34.046Z"
   },
   {
    "duration": 75,
    "start_time": "2022-07-22T11:56:50.710Z"
   },
   {
    "duration": 1474,
    "start_time": "2022-07-22T11:57:06.290Z"
   },
   {
    "duration": 1087,
    "start_time": "2022-07-22T11:57:28.362Z"
   },
   {
    "duration": 778,
    "start_time": "2022-07-22T11:57:29.451Z"
   },
   {
    "duration": 109,
    "start_time": "2022-07-22T11:57:30.230Z"
   },
   {
    "duration": 113,
    "start_time": "2022-07-22T11:57:30.341Z"
   },
   {
    "duration": 98,
    "start_time": "2022-07-22T11:57:30.455Z"
   },
   {
    "duration": 5,
    "start_time": "2022-07-22T11:57:30.555Z"
   },
   {
    "duration": 53,
    "start_time": "2022-07-22T11:57:30.562Z"
   },
   {
    "duration": 42,
    "start_time": "2022-07-22T11:57:30.617Z"
   },
   {
    "duration": 423,
    "start_time": "2022-07-22T11:57:30.661Z"
   },
   {
    "duration": 438,
    "start_time": "2022-07-22T11:57:31.087Z"
   },
   {
    "duration": 990,
    "start_time": "2022-07-22T11:57:31.526Z"
   },
   {
    "duration": 100,
    "start_time": "2022-07-22T11:57:32.518Z"
   },
   {
    "duration": 2416,
    "start_time": "2022-07-22T11:57:32.620Z"
   },
   {
    "duration": 114,
    "start_time": "2022-07-22T11:57:35.038Z"
   },
   {
    "duration": 20843,
    "start_time": "2022-07-22T11:57:35.154Z"
   },
   {
    "duration": 125,
    "start_time": "2022-07-22T11:57:55.999Z"
   },
   {
    "duration": 5311,
    "start_time": "2022-07-22T11:57:56.128Z"
   },
   {
    "duration": 114,
    "start_time": "2022-07-22T11:58:01.441Z"
   },
   {
    "duration": 17,
    "start_time": "2022-07-22T11:58:01.556Z"
   },
   {
    "duration": 30,
    "start_time": "2022-07-22T11:58:01.574Z"
   },
   {
    "duration": 108,
    "start_time": "2022-07-22T11:58:01.605Z"
   },
   {
    "duration": 197,
    "start_time": "2022-07-22T11:58:01.714Z"
   },
   {
    "duration": 242,
    "start_time": "2022-07-22T11:58:01.913Z"
   },
   {
    "duration": 1622,
    "start_time": "2022-07-22T12:03:29.450Z"
   },
   {
    "duration": 10,
    "start_time": "2022-07-22T12:03:46.478Z"
   },
   {
    "duration": 11,
    "start_time": "2022-07-22T12:04:01.779Z"
   },
   {
    "duration": 1083,
    "start_time": "2022-07-22T12:04:33.074Z"
   },
   {
    "duration": 1008,
    "start_time": "2022-07-22T12:06:06.971Z"
   },
   {
    "duration": 963,
    "start_time": "2022-07-22T12:06:51.367Z"
   },
   {
    "duration": 1056,
    "start_time": "2022-07-22T12:07:19.677Z"
   },
   {
    "duration": 931,
    "start_time": "2022-07-22T12:09:36.946Z"
   },
   {
    "duration": 91,
    "start_time": "2022-07-22T12:18:15.956Z"
   },
   {
    "duration": 1321,
    "start_time": "2022-07-22T12:18:29.656Z"
   },
   {
    "duration": 1239,
    "start_time": "2022-07-22T12:18:40.667Z"
   },
   {
    "duration": 893,
    "start_time": "2022-07-22T12:18:50.176Z"
   },
   {
    "duration": 1088,
    "start_time": "2022-07-22T12:18:56.046Z"
   },
   {
    "duration": 1171,
    "start_time": "2022-07-22T12:19:25.464Z"
   },
   {
    "duration": 1300,
    "start_time": "2022-07-22T12:19:32.309Z"
   },
   {
    "duration": 1267,
    "start_time": "2022-07-22T12:19:45.737Z"
   },
   {
    "duration": 4,
    "start_time": "2022-07-22T12:19:54.238Z"
   },
   {
    "duration": 3874,
    "start_time": "2022-07-22T12:20:10.746Z"
   },
   {
    "duration": 1240,
    "start_time": "2022-07-22T12:27:50.608Z"
   },
   {
    "duration": 1153,
    "start_time": "2022-07-22T12:28:11.941Z"
   },
   {
    "duration": 1127,
    "start_time": "2022-07-22T12:28:21.336Z"
   },
   {
    "duration": 777,
    "start_time": "2022-07-22T12:28:22.465Z"
   },
   {
    "duration": 112,
    "start_time": "2022-07-22T12:28:23.244Z"
   },
   {
    "duration": 114,
    "start_time": "2022-07-22T12:28:23.358Z"
   },
   {
    "duration": 125,
    "start_time": "2022-07-22T12:28:23.474Z"
   },
   {
    "duration": 7,
    "start_time": "2022-07-22T12:28:23.601Z"
   },
   {
    "duration": 16,
    "start_time": "2022-07-22T12:28:23.609Z"
   },
   {
    "duration": 34,
    "start_time": "2022-07-22T12:28:23.626Z"
   },
   {
    "duration": 481,
    "start_time": "2022-07-22T12:28:23.663Z"
   },
   {
    "duration": 537,
    "start_time": "2022-07-22T12:28:24.151Z"
   },
   {
    "duration": 1363,
    "start_time": "2022-07-22T12:28:24.689Z"
   },
   {
    "duration": 1042,
    "start_time": "2022-07-22T12:28:26.054Z"
   },
   {
    "duration": 100,
    "start_time": "2022-07-22T12:28:27.097Z"
   },
   {
    "duration": 2423,
    "start_time": "2022-07-22T12:28:27.199Z"
   },
   {
    "duration": 97,
    "start_time": "2022-07-22T12:28:29.624Z"
   },
   {
    "duration": 21138,
    "start_time": "2022-07-22T12:28:29.723Z"
   },
   {
    "duration": 108,
    "start_time": "2022-07-22T12:28:50.863Z"
   },
   {
    "duration": 5754,
    "start_time": "2022-07-22T12:28:50.973Z"
   },
   {
    "duration": 96,
    "start_time": "2022-07-22T12:28:56.728Z"
   },
   {
    "duration": 26,
    "start_time": "2022-07-22T12:28:56.826Z"
   },
   {
    "duration": 18,
    "start_time": "2022-07-22T12:28:56.853Z"
   },
   {
    "duration": 107,
    "start_time": "2022-07-22T12:28:56.872Z"
   },
   {
    "duration": 199,
    "start_time": "2022-07-22T12:28:56.980Z"
   },
   {
    "duration": 235,
    "start_time": "2022-07-22T12:28:57.180Z"
   },
   {
    "duration": 1260,
    "start_time": "2022-07-22T12:29:46.008Z"
   },
   {
    "duration": 1318,
    "start_time": "2022-07-22T12:30:29.866Z"
   },
   {
    "duration": 1843,
    "start_time": "2022-07-22T12:30:56.256Z"
   },
   {
    "duration": 1809,
    "start_time": "2022-07-22T12:33:35.495Z"
   },
   {
    "duration": 1143,
    "start_time": "2022-07-22T12:35:21.947Z"
   },
   {
    "duration": 810,
    "start_time": "2022-07-22T12:35:23.092Z"
   },
   {
    "duration": 131,
    "start_time": "2022-07-22T12:35:23.904Z"
   },
   {
    "duration": 130,
    "start_time": "2022-07-22T12:35:24.038Z"
   },
   {
    "duration": 113,
    "start_time": "2022-07-22T12:35:24.170Z"
   },
   {
    "duration": 5,
    "start_time": "2022-07-22T12:35:24.285Z"
   },
   {
    "duration": 11,
    "start_time": "2022-07-22T12:35:24.292Z"
   },
   {
    "duration": 31,
    "start_time": "2022-07-22T12:35:24.305Z"
   },
   {
    "duration": 508,
    "start_time": "2022-07-22T12:35:24.353Z"
   },
   {
    "duration": 555,
    "start_time": "2022-07-22T12:35:24.863Z"
   },
   {
    "duration": 1502,
    "start_time": "2022-07-22T12:35:25.419Z"
   },
   {
    "duration": 934,
    "start_time": "2022-07-22T12:35:26.923Z"
   },
   {
    "duration": 102,
    "start_time": "2022-07-22T12:35:27.859Z"
   },
   {
    "duration": 2380,
    "start_time": "2022-07-22T12:35:27.962Z"
   },
   {
    "duration": 100,
    "start_time": "2022-07-22T12:35:30.344Z"
   },
   {
    "duration": 21354,
    "start_time": "2022-07-22T12:35:30.446Z"
   },
   {
    "duration": 111,
    "start_time": "2022-07-22T12:35:51.802Z"
   },
   {
    "duration": 5510,
    "start_time": "2022-07-22T12:35:51.915Z"
   },
   {
    "duration": 100,
    "start_time": "2022-07-22T12:35:57.427Z"
   },
   {
    "duration": 29,
    "start_time": "2022-07-22T12:35:57.529Z"
   },
   {
    "duration": 20,
    "start_time": "2022-07-22T12:35:57.559Z"
   },
   {
    "duration": 100,
    "start_time": "2022-07-22T12:35:57.580Z"
   },
   {
    "duration": 194,
    "start_time": "2022-07-22T12:35:57.682Z"
   },
   {
    "duration": 232,
    "start_time": "2022-07-22T12:35:57.878Z"
   },
   {
    "duration": 1002,
    "start_time": "2022-07-22T12:36:50.770Z"
   },
   {
    "duration": 785,
    "start_time": "2022-07-22T12:36:51.774Z"
   },
   {
    "duration": 134,
    "start_time": "2022-07-22T12:36:52.561Z"
   },
   {
    "duration": 121,
    "start_time": "2022-07-22T12:36:52.697Z"
   },
   {
    "duration": 104,
    "start_time": "2022-07-22T12:36:52.820Z"
   },
   {
    "duration": 7,
    "start_time": "2022-07-22T12:36:52.926Z"
   },
   {
    "duration": 24,
    "start_time": "2022-07-22T12:36:52.935Z"
   },
   {
    "duration": 30,
    "start_time": "2022-07-22T12:36:52.961Z"
   },
   {
    "duration": 465,
    "start_time": "2022-07-22T12:36:52.993Z"
   },
   {
    "duration": 478,
    "start_time": "2022-07-22T12:36:53.460Z"
   },
   {
    "duration": 1398,
    "start_time": "2022-07-22T12:36:53.939Z"
   },
   {
    "duration": 1125,
    "start_time": "2022-07-22T12:36:55.339Z"
   },
   {
    "duration": 117,
    "start_time": "2022-07-22T12:36:56.465Z"
   },
   {
    "duration": 2313,
    "start_time": "2022-07-22T12:36:56.584Z"
   },
   {
    "duration": 101,
    "start_time": "2022-07-22T12:36:58.899Z"
   },
   {
    "duration": 20551,
    "start_time": "2022-07-22T12:36:59.001Z"
   },
   {
    "duration": 107,
    "start_time": "2022-07-22T12:37:19.553Z"
   },
   {
    "duration": 5660,
    "start_time": "2022-07-22T12:37:19.661Z"
   },
   {
    "duration": 130,
    "start_time": "2022-07-22T12:37:25.323Z"
   },
   {
    "duration": 20,
    "start_time": "2022-07-22T12:37:25.455Z"
   },
   {
    "duration": 22,
    "start_time": "2022-07-22T12:37:25.477Z"
   },
   {
    "duration": 127,
    "start_time": "2022-07-22T12:37:25.501Z"
   },
   {
    "duration": 203,
    "start_time": "2022-07-22T12:37:25.630Z"
   },
   {
    "duration": 278,
    "start_time": "2022-07-22T12:37:25.835Z"
   },
   {
    "duration": 31,
    "start_time": "2022-07-22T12:43:03.587Z"
   },
   {
    "duration": 1070,
    "start_time": "2022-07-23T09:58:19.189Z"
   },
   {
    "duration": 1217,
    "start_time": "2022-07-23T09:58:20.261Z"
   },
   {
    "duration": 130,
    "start_time": "2022-07-23T09:58:21.480Z"
   },
   {
    "duration": 154,
    "start_time": "2022-07-23T09:58:21.613Z"
   },
   {
    "duration": 109,
    "start_time": "2022-07-23T09:58:21.769Z"
   },
   {
    "duration": 7,
    "start_time": "2022-07-23T09:58:21.880Z"
   },
   {
    "duration": 18,
    "start_time": "2022-07-23T09:58:21.889Z"
   },
   {
    "duration": 34,
    "start_time": "2022-07-23T09:58:21.908Z"
   },
   {
    "duration": 490,
    "start_time": "2022-07-23T09:58:21.944Z"
   },
   {
    "duration": 588,
    "start_time": "2022-07-23T09:58:22.437Z"
   },
   {
    "duration": 1464,
    "start_time": "2022-07-23T09:58:23.027Z"
   },
   {
    "duration": 1056,
    "start_time": "2022-07-23T09:58:24.493Z"
   },
   {
    "duration": 135,
    "start_time": "2022-07-23T09:58:25.550Z"
   },
   {
    "duration": 2557,
    "start_time": "2022-07-23T09:58:25.687Z"
   },
   {
    "duration": 135,
    "start_time": "2022-07-23T09:58:28.246Z"
   },
   {
    "duration": 21792,
    "start_time": "2022-07-23T09:58:28.383Z"
   },
   {
    "duration": 134,
    "start_time": "2022-07-23T09:58:50.177Z"
   },
   {
    "duration": 5628,
    "start_time": "2022-07-23T09:58:50.313Z"
   },
   {
    "duration": 132,
    "start_time": "2022-07-23T09:58:55.943Z"
   },
   {
    "duration": 28,
    "start_time": "2022-07-23T09:58:56.076Z"
   },
   {
    "duration": 25,
    "start_time": "2022-07-23T09:58:56.106Z"
   },
   {
    "duration": 146,
    "start_time": "2022-07-23T09:58:56.132Z"
   },
   {
    "duration": 20,
    "start_time": "2022-07-23T09:58:56.280Z"
   },
   {
    "duration": 54,
    "start_time": "2022-07-23T09:58:56.302Z"
   },
   {
    "duration": 0,
    "start_time": "2022-07-23T09:58:56.358Z"
   },
   {
    "duration": 0,
    "start_time": "2022-07-23T09:58:56.361Z"
   },
   {
    "duration": 1108,
    "start_time": "2022-07-23T09:59:28.481Z"
   },
   {
    "duration": 846,
    "start_time": "2022-07-23T09:59:29.591Z"
   },
   {
    "duration": 136,
    "start_time": "2022-07-23T09:59:30.439Z"
   },
   {
    "duration": 149,
    "start_time": "2022-07-23T09:59:30.577Z"
   },
   {
    "duration": 161,
    "start_time": "2022-07-23T09:59:30.728Z"
   },
   {
    "duration": 6,
    "start_time": "2022-07-23T09:59:30.890Z"
   },
   {
    "duration": 11,
    "start_time": "2022-07-23T09:59:30.897Z"
   },
   {
    "duration": 35,
    "start_time": "2022-07-23T09:59:30.910Z"
   },
   {
    "duration": 536,
    "start_time": "2022-07-23T09:59:30.947Z"
   },
   {
    "duration": 529,
    "start_time": "2022-07-23T09:59:31.486Z"
   },
   {
    "duration": 3,
    "start_time": "2022-07-23T09:59:32.017Z"
   },
   {
    "duration": 1313,
    "start_time": "2022-07-23T09:59:32.021Z"
   },
   {
    "duration": 164,
    "start_time": "2022-07-23T09:59:33.336Z"
   },
   {
    "duration": 2959,
    "start_time": "2022-07-23T09:59:33.502Z"
   },
   {
    "duration": 157,
    "start_time": "2022-07-23T09:59:36.464Z"
   },
   {
    "duration": 22504,
    "start_time": "2022-07-23T09:59:36.623Z"
   },
   {
    "duration": 135,
    "start_time": "2022-07-23T09:59:59.129Z"
   },
   {
    "duration": 5592,
    "start_time": "2022-07-23T09:59:59.266Z"
   },
   {
    "duration": 129,
    "start_time": "2022-07-23T10:00:04.859Z"
   },
   {
    "duration": 19,
    "start_time": "2022-07-23T10:00:04.990Z"
   },
   {
    "duration": 29,
    "start_time": "2022-07-23T10:00:05.010Z"
   },
   {
    "duration": 141,
    "start_time": "2022-07-23T10:00:05.040Z"
   },
   {
    "duration": 19,
    "start_time": "2022-07-23T10:00:05.183Z"
   },
   {
    "duration": 53,
    "start_time": "2022-07-23T10:00:05.204Z"
   },
   {
    "duration": 0,
    "start_time": "2022-07-23T10:00:05.258Z"
   },
   {
    "duration": 0,
    "start_time": "2022-07-23T10:00:05.260Z"
   },
   {
    "duration": 899,
    "start_time": "2022-07-23T10:04:09.462Z"
   },
   {
    "duration": 22,
    "start_time": "2022-07-23T10:04:25.986Z"
   },
   {
    "duration": 27,
    "start_time": "2022-07-23T10:06:14.814Z"
   },
   {
    "duration": 25,
    "start_time": "2022-07-23T10:06:58.404Z"
   },
   {
    "duration": 402,
    "start_time": "2022-07-23T10:07:45.754Z"
   },
   {
    "duration": 468,
    "start_time": "2022-07-23T10:09:00.337Z"
   },
   {
    "duration": 471,
    "start_time": "2022-07-23T10:10:31.054Z"
   },
   {
    "duration": 510,
    "start_time": "2022-07-23T10:11:00.031Z"
   },
   {
    "duration": 560,
    "start_time": "2022-07-23T10:12:58.899Z"
   },
   {
    "duration": 91,
    "start_time": "2022-07-23T10:13:55.132Z"
   },
   {
    "duration": 590,
    "start_time": "2022-07-23T10:14:11.832Z"
   },
   {
    "duration": 10,
    "start_time": "2022-07-23T10:14:34.885Z"
   },
   {
    "duration": 52,
    "start_time": "2022-07-23T10:14:49.800Z"
   },
   {
    "duration": 101,
    "start_time": "2022-07-23T10:14:57.010Z"
   },
   {
    "duration": 19,
    "start_time": "2022-07-23T10:15:20.970Z"
   },
   {
    "duration": 1018,
    "start_time": "2022-07-23T10:16:43.524Z"
   },
   {
    "duration": 809,
    "start_time": "2022-07-23T10:16:44.544Z"
   },
   {
    "duration": 146,
    "start_time": "2022-07-23T10:16:45.355Z"
   },
   {
    "duration": 134,
    "start_time": "2022-07-23T10:16:45.504Z"
   },
   {
    "duration": 100,
    "start_time": "2022-07-23T10:16:45.640Z"
   },
   {
    "duration": 6,
    "start_time": "2022-07-23T10:16:45.742Z"
   },
   {
    "duration": 24,
    "start_time": "2022-07-23T10:16:45.750Z"
   },
   {
    "duration": 33,
    "start_time": "2022-07-23T10:16:45.776Z"
   },
   {
    "duration": 491,
    "start_time": "2022-07-23T10:16:45.811Z"
   },
   {
    "duration": 508,
    "start_time": "2022-07-23T10:16:46.304Z"
   },
   {
    "duration": 2,
    "start_time": "2022-07-23T10:16:46.813Z"
   },
   {
    "duration": 1066,
    "start_time": "2022-07-23T10:16:46.817Z"
   },
   {
    "duration": 126,
    "start_time": "2022-07-23T10:16:47.884Z"
   },
   {
    "duration": 2526,
    "start_time": "2022-07-23T10:16:48.011Z"
   },
   {
    "duration": 136,
    "start_time": "2022-07-23T10:16:50.538Z"
   },
   {
    "duration": 21715,
    "start_time": "2022-07-23T10:16:50.676Z"
   },
   {
    "duration": 133,
    "start_time": "2022-07-23T10:17:12.392Z"
   },
   {
    "duration": 5422,
    "start_time": "2022-07-23T10:17:12.527Z"
   },
   {
    "duration": 123,
    "start_time": "2022-07-23T10:17:17.950Z"
   },
   {
    "duration": 19,
    "start_time": "2022-07-23T10:17:18.075Z"
   },
   {
    "duration": 27,
    "start_time": "2022-07-23T10:17:18.095Z"
   },
   {
    "duration": 144,
    "start_time": "2022-07-23T10:17:18.124Z"
   },
   {
    "duration": 20,
    "start_time": "2022-07-23T10:17:18.269Z"
   },
   {
    "duration": 122,
    "start_time": "2022-07-23T10:17:18.291Z"
   },
   {
    "duration": 103,
    "start_time": "2022-07-23T10:17:18.415Z"
   },
   {
    "duration": 0,
    "start_time": "2022-07-23T10:17:18.520Z"
   },
   {
    "duration": 0,
    "start_time": "2022-07-23T10:17:18.521Z"
   },
   {
    "duration": 0,
    "start_time": "2022-07-23T10:17:18.522Z"
   },
   {
    "duration": 20,
    "start_time": "2022-07-23T10:18:56.033Z"
   },
   {
    "duration": 19,
    "start_time": "2022-07-23T10:23:47.440Z"
   },
   {
    "duration": 73,
    "start_time": "2022-07-23T10:24:31.125Z"
   },
   {
    "duration": 127,
    "start_time": "2022-07-23T10:24:52.327Z"
   },
   {
    "duration": 19,
    "start_time": "2022-07-23T10:25:20.331Z"
   },
   {
    "duration": 169,
    "start_time": "2022-07-23T10:26:10.230Z"
   },
   {
    "duration": 87,
    "start_time": "2022-07-23T10:26:24.712Z"
   },
   {
    "duration": 32,
    "start_time": "2022-07-23T10:27:31.327Z"
   },
   {
    "duration": 14,
    "start_time": "2022-07-23T10:31:08.072Z"
   },
   {
    "duration": 45,
    "start_time": "2022-07-23T10:32:16.428Z"
   },
   {
    "duration": 18,
    "start_time": "2022-07-23T10:34:03.087Z"
   },
   {
    "duration": 1449,
    "start_time": "2022-07-23T10:37:13.031Z"
   },
   {
    "duration": 13,
    "start_time": "2022-07-23T10:39:05.436Z"
   },
   {
    "duration": 1036,
    "start_time": "2022-07-23T10:39:17.688Z"
   },
   {
    "duration": 20,
    "start_time": "2022-07-23T10:39:43.648Z"
   },
   {
    "duration": 90,
    "start_time": "2022-07-23T10:40:46.669Z"
   },
   {
    "duration": 1078,
    "start_time": "2022-07-23T10:41:23.993Z"
   },
   {
    "duration": 13,
    "start_time": "2022-07-23T10:41:37.263Z"
   },
   {
    "duration": 58,
    "start_time": "2022-07-23T10:45:52.703Z"
   },
   {
    "duration": 1102,
    "start_time": "2022-07-23T10:47:01.309Z"
   },
   {
    "duration": 859,
    "start_time": "2022-07-23T10:47:02.413Z"
   },
   {
    "duration": 155,
    "start_time": "2022-07-23T10:47:03.274Z"
   },
   {
    "duration": 141,
    "start_time": "2022-07-23T10:47:03.432Z"
   },
   {
    "duration": 100,
    "start_time": "2022-07-23T10:47:03.575Z"
   },
   {
    "duration": 6,
    "start_time": "2022-07-23T10:47:03.676Z"
   },
   {
    "duration": 11,
    "start_time": "2022-07-23T10:47:03.683Z"
   },
   {
    "duration": 29,
    "start_time": "2022-07-23T10:47:03.695Z"
   },
   {
    "duration": 484,
    "start_time": "2022-07-23T10:47:03.725Z"
   },
   {
    "duration": 519,
    "start_time": "2022-07-23T10:47:04.211Z"
   },
   {
    "duration": 2,
    "start_time": "2022-07-23T10:47:04.732Z"
   },
   {
    "duration": 103,
    "start_time": "2022-07-23T10:47:04.736Z"
   },
   {
    "duration": 0,
    "start_time": "2022-07-23T10:47:04.841Z"
   },
   {
    "duration": 0,
    "start_time": "2022-07-23T10:47:04.842Z"
   },
   {
    "duration": 0,
    "start_time": "2022-07-23T10:47:04.843Z"
   },
   {
    "duration": 0,
    "start_time": "2022-07-23T10:47:04.844Z"
   },
   {
    "duration": 0,
    "start_time": "2022-07-23T10:47:04.845Z"
   },
   {
    "duration": 0,
    "start_time": "2022-07-23T10:47:04.846Z"
   },
   {
    "duration": 0,
    "start_time": "2022-07-23T10:47:04.863Z"
   },
   {
    "duration": 0,
    "start_time": "2022-07-23T10:47:04.864Z"
   },
   {
    "duration": 0,
    "start_time": "2022-07-23T10:47:04.866Z"
   },
   {
    "duration": 0,
    "start_time": "2022-07-23T10:47:04.867Z"
   },
   {
    "duration": 0,
    "start_time": "2022-07-23T10:47:04.868Z"
   },
   {
    "duration": 0,
    "start_time": "2022-07-23T10:47:04.869Z"
   },
   {
    "duration": 0,
    "start_time": "2022-07-23T10:47:04.870Z"
   },
   {
    "duration": 0,
    "start_time": "2022-07-23T10:47:04.871Z"
   },
   {
    "duration": 0,
    "start_time": "2022-07-23T10:47:04.873Z"
   },
   {
    "duration": 0,
    "start_time": "2022-07-23T10:47:04.874Z"
   },
   {
    "duration": 0,
    "start_time": "2022-07-23T10:47:04.874Z"
   },
   {
    "duration": 0,
    "start_time": "2022-07-23T10:47:04.875Z"
   },
   {
    "duration": 11,
    "start_time": "2022-07-23T10:47:53.810Z"
   },
   {
    "duration": 1140,
    "start_time": "2022-07-23T10:48:14.645Z"
   },
   {
    "duration": 803,
    "start_time": "2022-07-23T10:50:10.979Z"
   },
   {
    "duration": 1037,
    "start_time": "2022-07-23T10:50:43.286Z"
   },
   {
    "duration": 818,
    "start_time": "2022-07-23T10:50:44.324Z"
   },
   {
    "duration": 132,
    "start_time": "2022-07-23T10:50:45.144Z"
   },
   {
    "duration": 149,
    "start_time": "2022-07-23T10:50:45.279Z"
   },
   {
    "duration": 134,
    "start_time": "2022-07-23T10:50:45.430Z"
   },
   {
    "duration": 5,
    "start_time": "2022-07-23T10:50:45.566Z"
   },
   {
    "duration": 11,
    "start_time": "2022-07-23T10:50:45.573Z"
   },
   {
    "duration": 32,
    "start_time": "2022-07-23T10:50:45.586Z"
   },
   {
    "duration": 486,
    "start_time": "2022-07-23T10:50:45.619Z"
   },
   {
    "duration": 514,
    "start_time": "2022-07-23T10:50:46.108Z"
   },
   {
    "duration": 2,
    "start_time": "2022-07-23T10:50:46.625Z"
   },
   {
    "duration": 921,
    "start_time": "2022-07-23T10:50:46.629Z"
   },
   {
    "duration": 0,
    "start_time": "2022-07-23T10:50:47.551Z"
   },
   {
    "duration": 0,
    "start_time": "2022-07-23T10:50:47.553Z"
   },
   {
    "duration": 0,
    "start_time": "2022-07-23T10:50:47.554Z"
   },
   {
    "duration": 0,
    "start_time": "2022-07-23T10:50:47.556Z"
   },
   {
    "duration": 0,
    "start_time": "2022-07-23T10:50:47.558Z"
   },
   {
    "duration": 0,
    "start_time": "2022-07-23T10:50:47.559Z"
   },
   {
    "duration": 0,
    "start_time": "2022-07-23T10:50:47.560Z"
   },
   {
    "duration": 0,
    "start_time": "2022-07-23T10:50:47.562Z"
   },
   {
    "duration": 0,
    "start_time": "2022-07-23T10:50:47.564Z"
   },
   {
    "duration": 0,
    "start_time": "2022-07-23T10:50:47.565Z"
   },
   {
    "duration": 0,
    "start_time": "2022-07-23T10:50:47.566Z"
   },
   {
    "duration": 0,
    "start_time": "2022-07-23T10:50:47.568Z"
   },
   {
    "duration": 1,
    "start_time": "2022-07-23T10:50:47.569Z"
   },
   {
    "duration": 0,
    "start_time": "2022-07-23T10:50:47.571Z"
   },
   {
    "duration": 0,
    "start_time": "2022-07-23T10:50:47.573Z"
   },
   {
    "duration": 0,
    "start_time": "2022-07-23T10:50:47.574Z"
   },
   {
    "duration": 0,
    "start_time": "2022-07-23T10:50:47.575Z"
   },
   {
    "duration": 0,
    "start_time": "2022-07-23T10:50:47.577Z"
   },
   {
    "duration": 0,
    "start_time": "2022-07-23T10:50:47.578Z"
   },
   {
    "duration": 658,
    "start_time": "2022-07-23T10:51:29.582Z"
   },
   {
    "duration": 1184,
    "start_time": "2022-07-23T10:53:12.159Z"
   },
   {
    "duration": 1059,
    "start_time": "2022-07-23T10:57:04.812Z"
   },
   {
    "duration": 856,
    "start_time": "2022-07-23T10:57:05.873Z"
   },
   {
    "duration": 144,
    "start_time": "2022-07-23T10:57:06.731Z"
   },
   {
    "duration": 143,
    "start_time": "2022-07-23T10:57:06.878Z"
   },
   {
    "duration": 105,
    "start_time": "2022-07-23T10:57:07.022Z"
   },
   {
    "duration": 5,
    "start_time": "2022-07-23T10:57:07.129Z"
   },
   {
    "duration": 10,
    "start_time": "2022-07-23T10:57:07.135Z"
   },
   {
    "duration": 53,
    "start_time": "2022-07-23T10:57:07.147Z"
   },
   {
    "duration": 512,
    "start_time": "2022-07-23T10:57:07.201Z"
   },
   {
    "duration": 519,
    "start_time": "2022-07-23T10:57:07.716Z"
   },
   {
    "duration": 3,
    "start_time": "2022-07-23T10:57:08.236Z"
   },
   {
    "duration": 1173,
    "start_time": "2022-07-23T10:57:08.240Z"
   },
   {
    "duration": 149,
    "start_time": "2022-07-23T10:57:09.416Z"
   },
   {
    "duration": 2707,
    "start_time": "2022-07-23T10:57:09.568Z"
   },
   {
    "duration": 141,
    "start_time": "2022-07-23T10:57:12.278Z"
   },
   {
    "duration": 22387,
    "start_time": "2022-07-23T10:57:12.421Z"
   },
   {
    "duration": 0,
    "start_time": "2022-07-23T10:57:34.809Z"
   },
   {
    "duration": 0,
    "start_time": "2022-07-23T10:57:34.811Z"
   },
   {
    "duration": 0,
    "start_time": "2022-07-23T10:57:34.811Z"
   },
   {
    "duration": 0,
    "start_time": "2022-07-23T10:57:34.812Z"
   },
   {
    "duration": 0,
    "start_time": "2022-07-23T10:57:34.813Z"
   },
   {
    "duration": 0,
    "start_time": "2022-07-23T10:57:34.814Z"
   },
   {
    "duration": 0,
    "start_time": "2022-07-23T10:57:34.815Z"
   },
   {
    "duration": 0,
    "start_time": "2022-07-23T10:57:34.816Z"
   },
   {
    "duration": 0,
    "start_time": "2022-07-23T10:57:34.817Z"
   },
   {
    "duration": 0,
    "start_time": "2022-07-23T10:57:34.818Z"
   },
   {
    "duration": 0,
    "start_time": "2022-07-23T10:57:34.819Z"
   },
   {
    "duration": 0,
    "start_time": "2022-07-23T10:57:34.820Z"
   },
   {
    "duration": 0,
    "start_time": "2022-07-23T10:57:34.821Z"
   },
   {
    "duration": 0,
    "start_time": "2022-07-23T10:57:34.822Z"
   },
   {
    "duration": 482,
    "start_time": "2022-07-23T11:00:42.577Z"
   },
   {
    "duration": 634,
    "start_time": "2022-07-23T11:02:12.105Z"
   },
   {
    "duration": 14,
    "start_time": "2022-07-23T11:03:09.081Z"
   },
   {
    "duration": 97,
    "start_time": "2022-07-23T11:07:40.792Z"
   },
   {
    "duration": 633,
    "start_time": "2022-07-23T11:07:51.189Z"
   },
   {
    "duration": 15,
    "start_time": "2022-07-23T11:08:06.879Z"
   },
   {
    "duration": 13,
    "start_time": "2022-07-23T11:08:13.486Z"
   },
   {
    "duration": 753,
    "start_time": "2022-07-23T11:08:27.693Z"
   },
   {
    "duration": 1110,
    "start_time": "2022-07-23T11:09:23.646Z"
   },
   {
    "duration": 960,
    "start_time": "2022-07-23T11:09:24.758Z"
   },
   {
    "duration": 150,
    "start_time": "2022-07-23T11:09:25.719Z"
   },
   {
    "duration": 150,
    "start_time": "2022-07-23T11:09:25.873Z"
   },
   {
    "duration": 153,
    "start_time": "2022-07-23T11:09:26.025Z"
   },
   {
    "duration": 9,
    "start_time": "2022-07-23T11:09:26.180Z"
   },
   {
    "duration": 9,
    "start_time": "2022-07-23T11:09:26.190Z"
   },
   {
    "duration": 30,
    "start_time": "2022-07-23T11:09:26.201Z"
   },
   {
    "duration": 597,
    "start_time": "2022-07-23T11:09:26.233Z"
   },
   {
    "duration": 613,
    "start_time": "2022-07-23T11:09:26.832Z"
   },
   {
    "duration": 3,
    "start_time": "2022-07-23T11:09:27.447Z"
   },
   {
    "duration": 666,
    "start_time": "2022-07-23T11:09:27.452Z"
   },
   {
    "duration": 1096,
    "start_time": "2022-07-23T11:09:28.120Z"
   },
   {
    "duration": 137,
    "start_time": "2022-07-23T11:09:29.218Z"
   },
   {
    "duration": 2707,
    "start_time": "2022-07-23T11:09:29.363Z"
   },
   {
    "duration": 134,
    "start_time": "2022-07-23T11:09:32.072Z"
   },
   {
    "duration": 25094,
    "start_time": "2022-07-23T11:09:32.208Z"
   },
   {
    "duration": 142,
    "start_time": "2022-07-23T11:09:57.304Z"
   },
   {
    "duration": 6999,
    "start_time": "2022-07-23T11:09:57.448Z"
   },
   {
    "duration": 141,
    "start_time": "2022-07-23T11:10:04.448Z"
   },
   {
    "duration": 19,
    "start_time": "2022-07-23T11:10:04.590Z"
   },
   {
    "duration": 28,
    "start_time": "2022-07-23T11:10:04.611Z"
   },
   {
    "duration": 147,
    "start_time": "2022-07-23T11:10:04.640Z"
   },
   {
    "duration": 23,
    "start_time": "2022-07-23T11:10:04.789Z"
   },
   {
    "duration": 404,
    "start_time": "2022-07-23T11:10:04.813Z"
   },
   {
    "duration": 100,
    "start_time": "2022-07-23T11:10:05.218Z"
   },
   {
    "duration": 86,
    "start_time": "2022-07-23T11:10:05.320Z"
   },
   {
    "duration": 98,
    "start_time": "2022-07-23T11:10:05.410Z"
   },
   {
    "duration": 46,
    "start_time": "2022-07-23T11:10:05.510Z"
   },
   {
    "duration": 0,
    "start_time": "2022-07-23T11:10:05.557Z"
   },
   {
    "duration": 0,
    "start_time": "2022-07-23T11:10:05.558Z"
   },
   {
    "duration": 1152,
    "start_time": "2022-07-23T11:10:09.454Z"
   },
   {
    "duration": 853,
    "start_time": "2022-07-23T11:10:10.608Z"
   },
   {
    "duration": 169,
    "start_time": "2022-07-23T11:10:11.462Z"
   },
   {
    "duration": 170,
    "start_time": "2022-07-23T11:10:11.633Z"
   },
   {
    "duration": 112,
    "start_time": "2022-07-23T11:10:11.804Z"
   },
   {
    "duration": 5,
    "start_time": "2022-07-23T11:10:11.917Z"
   },
   {
    "duration": 10,
    "start_time": "2022-07-23T11:10:11.924Z"
   },
   {
    "duration": 54,
    "start_time": "2022-07-23T11:10:11.936Z"
   },
   {
    "duration": 511,
    "start_time": "2022-07-23T11:10:11.992Z"
   },
   {
    "duration": 584,
    "start_time": "2022-07-23T11:10:12.505Z"
   },
   {
    "duration": 4,
    "start_time": "2022-07-23T11:10:13.091Z"
   },
   {
    "duration": 8,
    "start_time": "2022-07-23T11:10:13.097Z"
   },
   {
    "duration": 1143,
    "start_time": "2022-07-23T11:10:13.107Z"
   },
   {
    "duration": 133,
    "start_time": "2022-07-23T11:10:14.251Z"
   },
   {
    "duration": 2762,
    "start_time": "2022-07-23T11:10:14.387Z"
   },
   {
    "duration": 150,
    "start_time": "2022-07-23T11:10:17.151Z"
   },
   {
    "duration": 22692,
    "start_time": "2022-07-23T11:10:17.303Z"
   },
   {
    "duration": 135,
    "start_time": "2022-07-23T11:10:39.996Z"
   },
   {
    "duration": 5853,
    "start_time": "2022-07-23T11:10:40.133Z"
   },
   {
    "duration": 147,
    "start_time": "2022-07-23T11:10:45.988Z"
   },
   {
    "duration": 30,
    "start_time": "2022-07-23T11:10:46.137Z"
   },
   {
    "duration": 27,
    "start_time": "2022-07-23T11:10:46.169Z"
   },
   {
    "duration": 156,
    "start_time": "2022-07-23T11:10:46.198Z"
   },
   {
    "duration": 39,
    "start_time": "2022-07-23T11:10:46.356Z"
   },
   {
    "duration": 288,
    "start_time": "2022-07-23T11:10:46.396Z"
   },
   {
    "duration": 103,
    "start_time": "2022-07-23T11:10:46.686Z"
   },
   {
    "duration": 59,
    "start_time": "2022-07-23T11:10:46.791Z"
   },
   {
    "duration": 128,
    "start_time": "2022-07-23T11:10:46.853Z"
   },
   {
    "duration": 134,
    "start_time": "2022-07-23T11:10:46.983Z"
   },
   {
    "duration": 0,
    "start_time": "2022-07-23T11:10:47.119Z"
   },
   {
    "duration": 0,
    "start_time": "2022-07-23T11:10:47.120Z"
   },
   {
    "duration": 1507,
    "start_time": "2022-07-23T11:12:39.994Z"
   },
   {
    "duration": 11,
    "start_time": "2022-07-23T11:15:36.211Z"
   },
   {
    "duration": 12,
    "start_time": "2022-07-23T11:15:55.141Z"
   },
   {
    "duration": 1428,
    "start_time": "2022-07-23T11:16:06.997Z"
   },
   {
    "duration": 3,
    "start_time": "2022-07-23T11:17:38.739Z"
   },
   {
    "duration": 1108,
    "start_time": "2022-07-23T11:17:44.613Z"
   },
   {
    "duration": 748,
    "start_time": "2022-07-23T11:18:02.338Z"
   },
   {
    "duration": 111,
    "start_time": "2022-07-23T11:21:45.950Z"
   },
   {
    "duration": 14,
    "start_time": "2022-07-23T11:22:46.675Z"
   },
   {
    "duration": 17,
    "start_time": "2022-07-23T11:22:56.861Z"
   },
   {
    "duration": 12,
    "start_time": "2022-07-23T11:23:10.505Z"
   },
   {
    "duration": 55,
    "start_time": "2022-07-23T11:26:30.590Z"
   },
   {
    "duration": 104,
    "start_time": "2022-07-23T11:26:44.651Z"
   },
   {
    "duration": 22,
    "start_time": "2022-07-23T11:27:17.186Z"
   },
   {
    "duration": 23,
    "start_time": "2022-07-23T11:28:50.346Z"
   },
   {
    "duration": 983,
    "start_time": "2022-07-23T11:29:21.074Z"
   },
   {
    "duration": 1079,
    "start_time": "2022-07-23T11:36:27.067Z"
   },
   {
    "duration": 17,
    "start_time": "2022-07-23T11:36:53.114Z"
   },
   {
    "duration": 973,
    "start_time": "2022-07-23T11:55:18.010Z"
   },
   {
    "duration": 23,
    "start_time": "2022-07-23T11:55:50.234Z"
   },
   {
    "duration": 101,
    "start_time": "2022-07-23T11:56:42.030Z"
   },
   {
    "duration": 23,
    "start_time": "2022-07-23T11:56:50.435Z"
   },
   {
    "duration": 180,
    "start_time": "2022-07-23T11:58:53.780Z"
   },
   {
    "duration": 98,
    "start_time": "2022-07-23T11:58:57.831Z"
   },
   {
    "duration": 18,
    "start_time": "2022-07-23T11:59:29.195Z"
   },
   {
    "duration": 145,
    "start_time": "2022-07-23T11:59:37.434Z"
   },
   {
    "duration": 61,
    "start_time": "2022-07-23T12:02:23.476Z"
   },
   {
    "duration": 14,
    "start_time": "2022-07-23T12:02:30.047Z"
   },
   {
    "duration": 1060,
    "start_time": "2022-07-23T12:02:43.255Z"
   },
   {
    "duration": 811,
    "start_time": "2022-07-23T12:02:44.317Z"
   },
   {
    "duration": 137,
    "start_time": "2022-07-23T12:02:45.130Z"
   },
   {
    "duration": 134,
    "start_time": "2022-07-23T12:02:45.269Z"
   },
   {
    "duration": 107,
    "start_time": "2022-07-23T12:02:45.405Z"
   },
   {
    "duration": 6,
    "start_time": "2022-07-23T12:02:45.513Z"
   },
   {
    "duration": 11,
    "start_time": "2022-07-23T12:02:45.520Z"
   },
   {
    "duration": 47,
    "start_time": "2022-07-23T12:02:45.533Z"
   },
   {
    "duration": 478,
    "start_time": "2022-07-23T12:02:45.581Z"
   },
   {
    "duration": 514,
    "start_time": "2022-07-23T12:02:46.063Z"
   },
   {
    "duration": 2,
    "start_time": "2022-07-23T12:02:46.579Z"
   },
   {
    "duration": 6,
    "start_time": "2022-07-23T12:02:46.582Z"
   },
   {
    "duration": 6,
    "start_time": "2022-07-23T12:02:46.590Z"
   },
   {
    "duration": 1114,
    "start_time": "2022-07-23T12:02:46.597Z"
   },
   {
    "duration": 125,
    "start_time": "2022-07-23T12:02:47.713Z"
   },
   {
    "duration": 2410,
    "start_time": "2022-07-23T12:02:47.840Z"
   },
   {
    "duration": 142,
    "start_time": "2022-07-23T12:02:50.251Z"
   },
   {
    "duration": 21789,
    "start_time": "2022-07-23T12:02:50.394Z"
   },
   {
    "duration": 126,
    "start_time": "2022-07-23T12:03:12.185Z"
   },
   {
    "duration": 5568,
    "start_time": "2022-07-23T12:03:12.312Z"
   },
   {
    "duration": 145,
    "start_time": "2022-07-23T12:03:17.882Z"
   },
   {
    "duration": 37,
    "start_time": "2022-07-23T12:03:18.029Z"
   },
   {
    "duration": 25,
    "start_time": "2022-07-23T12:03:18.068Z"
   },
   {
    "duration": 150,
    "start_time": "2022-07-23T12:03:18.095Z"
   },
   {
    "duration": 33,
    "start_time": "2022-07-23T12:03:18.246Z"
   },
   {
    "duration": 273,
    "start_time": "2022-07-23T12:03:18.280Z"
   },
   {
    "duration": 95,
    "start_time": "2022-07-23T12:03:18.555Z"
   },
   {
    "duration": 177,
    "start_time": "2022-07-23T12:03:18.653Z"
   },
   {
    "duration": 157,
    "start_time": "2022-07-23T12:03:18.832Z"
   },
   {
    "duration": 133,
    "start_time": "2022-07-23T12:03:18.991Z"
   },
   {
    "duration": 261,
    "start_time": "2022-07-23T12:03:19.126Z"
   },
   {
    "duration": 134,
    "start_time": "2022-07-23T12:04:00.933Z"
   },
   {
    "duration": 31,
    "start_time": "2022-07-23T12:06:24.334Z"
   },
   {
    "duration": 11,
    "start_time": "2022-07-23T12:07:04.398Z"
   },
   {
    "duration": 51,
    "start_time": "2022-07-23T12:14:11.545Z"
   },
   {
    "duration": 9,
    "start_time": "2022-07-23T12:14:47.037Z"
   },
   {
    "duration": 9,
    "start_time": "2022-07-23T12:14:52.828Z"
   },
   {
    "duration": 880,
    "start_time": "2022-07-23T12:15:42.376Z"
   },
   {
    "duration": 20,
    "start_time": "2022-07-23T12:27:48.478Z"
   },
   {
    "duration": 355,
    "start_time": "2022-07-23T12:29:45.982Z"
   },
   {
    "duration": 116,
    "start_time": "2022-07-23T12:31:42.041Z"
   },
   {
    "duration": 93,
    "start_time": "2022-07-23T12:31:51.736Z"
   },
   {
    "duration": 223,
    "start_time": "2022-07-23T12:32:08.940Z"
   },
   {
    "duration": 325,
    "start_time": "2022-07-23T12:33:12.162Z"
   },
   {
    "duration": 101,
    "start_time": "2022-07-23T12:34:33.244Z"
   },
   {
    "duration": 43,
    "start_time": "2022-07-23T12:35:26.437Z"
   },
   {
    "duration": 165,
    "start_time": "2022-07-23T12:35:36.732Z"
   },
   {
    "duration": 28,
    "start_time": "2022-07-23T12:35:49.676Z"
   },
   {
    "duration": 1479,
    "start_time": "2022-07-23T12:35:57.188Z"
   },
   {
    "duration": 976,
    "start_time": "2022-07-23T12:35:58.675Z"
   },
   {
    "duration": 171,
    "start_time": "2022-07-23T12:35:59.653Z"
   },
   {
    "duration": 173,
    "start_time": "2022-07-23T12:35:59.826Z"
   },
   {
    "duration": 123,
    "start_time": "2022-07-23T12:36:00.001Z"
   },
   {
    "duration": 5,
    "start_time": "2022-07-23T12:36:00.125Z"
   },
   {
    "duration": 19,
    "start_time": "2022-07-23T12:36:00.131Z"
   },
   {
    "duration": 57,
    "start_time": "2022-07-23T12:36:00.152Z"
   },
   {
    "duration": 577,
    "start_time": "2022-07-23T12:36:00.210Z"
   },
   {
    "duration": 601,
    "start_time": "2022-07-23T12:36:00.793Z"
   },
   {
    "duration": 3,
    "start_time": "2022-07-23T12:36:01.396Z"
   },
   {
    "duration": 26,
    "start_time": "2022-07-23T12:36:01.401Z"
   },
   {
    "duration": 29,
    "start_time": "2022-07-23T12:36:01.430Z"
   },
   {
    "duration": 1301,
    "start_time": "2022-07-23T12:36:01.461Z"
   },
   {
    "duration": 172,
    "start_time": "2022-07-23T12:36:02.771Z"
   },
   {
    "duration": 2867,
    "start_time": "2022-07-23T12:36:02.945Z"
   },
   {
    "duration": 126,
    "start_time": "2022-07-23T12:36:05.814Z"
   },
   {
    "duration": 26130,
    "start_time": "2022-07-23T12:36:05.942Z"
   },
   {
    "duration": 151,
    "start_time": "2022-07-23T12:36:32.077Z"
   },
   {
    "duration": 6710,
    "start_time": "2022-07-23T12:36:32.230Z"
   },
   {
    "duration": 165,
    "start_time": "2022-07-23T12:36:38.942Z"
   },
   {
    "duration": 20,
    "start_time": "2022-07-23T12:36:39.109Z"
   },
   {
    "duration": 45,
    "start_time": "2022-07-23T12:36:39.130Z"
   },
   {
    "duration": 145,
    "start_time": "2022-07-23T12:36:39.176Z"
   },
   {
    "duration": 20,
    "start_time": "2022-07-23T12:36:39.323Z"
   },
   {
    "duration": 304,
    "start_time": "2022-07-23T12:36:39.345Z"
   },
   {
    "duration": 113,
    "start_time": "2022-07-23T12:36:39.651Z"
   },
   {
    "duration": 206,
    "start_time": "2022-07-23T12:36:39.769Z"
   },
   {
    "duration": 217,
    "start_time": "2022-07-23T12:36:39.977Z"
   },
   {
    "duration": 155,
    "start_time": "2022-07-23T12:36:40.196Z"
   },
   {
    "duration": 56,
    "start_time": "2022-07-23T12:36:40.353Z"
   },
   {
    "duration": 139,
    "start_time": "2022-07-23T12:36:40.411Z"
   },
   {
    "duration": 197,
    "start_time": "2022-07-23T12:36:40.552Z"
   },
   {
    "duration": 138,
    "start_time": "2022-07-23T12:36:40.752Z"
   },
   {
    "duration": 300,
    "start_time": "2022-07-23T12:36:40.893Z"
   },
   {
    "duration": 23,
    "start_time": "2022-07-23T12:38:04.135Z"
   },
   {
    "duration": 1605,
    "start_time": "2022-07-23T12:40:18.832Z"
   },
   {
    "duration": 981,
    "start_time": "2022-07-23T12:40:31.981Z"
   },
   {
    "duration": 1437,
    "start_time": "2022-07-23T12:40:54.042Z"
   },
   {
    "duration": 922,
    "start_time": "2022-07-23T12:40:55.482Z"
   },
   {
    "duration": 158,
    "start_time": "2022-07-23T12:40:56.407Z"
   },
   {
    "duration": 194,
    "start_time": "2022-07-23T12:40:56.567Z"
   },
   {
    "duration": 126,
    "start_time": "2022-07-23T12:40:56.763Z"
   },
   {
    "duration": 7,
    "start_time": "2022-07-23T12:40:56.891Z"
   },
   {
    "duration": 14,
    "start_time": "2022-07-23T12:40:56.912Z"
   },
   {
    "duration": 41,
    "start_time": "2022-07-23T12:40:56.928Z"
   },
   {
    "duration": 522,
    "start_time": "2022-07-23T12:40:56.971Z"
   },
   {
    "duration": 559,
    "start_time": "2022-07-23T12:40:57.496Z"
   },
   {
    "duration": 8,
    "start_time": "2022-07-23T12:40:58.056Z"
   },
   {
    "duration": 38,
    "start_time": "2022-07-23T12:40:58.066Z"
   },
   {
    "duration": 11,
    "start_time": "2022-07-23T12:40:58.105Z"
   },
   {
    "duration": 1198,
    "start_time": "2022-07-23T12:40:58.118Z"
   },
   {
    "duration": 166,
    "start_time": "2022-07-23T12:40:59.318Z"
   },
   {
    "duration": 2804,
    "start_time": "2022-07-23T12:40:59.491Z"
   },
   {
    "duration": 142,
    "start_time": "2022-07-23T12:41:02.297Z"
   },
   {
    "duration": 24512,
    "start_time": "2022-07-23T12:41:02.441Z"
   },
   {
    "duration": 181,
    "start_time": "2022-07-23T12:41:26.955Z"
   },
   {
    "duration": 6548,
    "start_time": "2022-07-23T12:41:27.138Z"
   },
   {
    "duration": 137,
    "start_time": "2022-07-23T12:41:33.688Z"
   },
   {
    "duration": 18,
    "start_time": "2022-07-23T12:41:33.827Z"
   },
   {
    "duration": 49,
    "start_time": "2022-07-23T12:41:33.847Z"
   },
   {
    "duration": 147,
    "start_time": "2022-07-23T12:41:33.897Z"
   },
   {
    "duration": 48,
    "start_time": "2022-07-23T12:41:34.045Z"
   },
   {
    "duration": 270,
    "start_time": "2022-07-23T12:41:34.096Z"
   },
   {
    "duration": 99,
    "start_time": "2022-07-23T12:41:34.370Z"
   },
   {
    "duration": 198,
    "start_time": "2022-07-23T12:41:34.472Z"
   },
   {
    "duration": 170,
    "start_time": "2022-07-23T12:41:34.674Z"
   },
   {
    "duration": 150,
    "start_time": "2022-07-23T12:41:34.845Z"
   },
   {
    "duration": 42,
    "start_time": "2022-07-23T12:41:34.997Z"
   },
   {
    "duration": 135,
    "start_time": "2022-07-23T12:41:35.041Z"
   },
   {
    "duration": 160,
    "start_time": "2022-07-23T12:41:35.179Z"
   },
   {
    "duration": 33,
    "start_time": "2022-07-23T12:41:35.341Z"
   },
   {
    "duration": 880,
    "start_time": "2022-07-23T12:41:35.376Z"
   },
   {
    "duration": 136,
    "start_time": "2022-07-23T12:41:36.258Z"
   },
   {
    "duration": 284,
    "start_time": "2022-07-23T12:41:36.396Z"
   },
   {
    "duration": 21,
    "start_time": "2022-07-23T12:41:59.051Z"
   },
   {
    "duration": 60,
    "start_time": "2022-07-23T12:42:28.436Z"
   },
   {
    "duration": 801,
    "start_time": "2022-07-23T12:42:34.770Z"
   },
   {
    "duration": 32,
    "start_time": "2022-07-23T12:42:36.873Z"
   },
   {
    "duration": 17,
    "start_time": "2022-07-23T12:42:43.469Z"
   },
   {
    "duration": 1355,
    "start_time": "2022-07-23T12:43:03.641Z"
   },
   {
    "duration": 861,
    "start_time": "2022-07-23T12:43:04.998Z"
   },
   {
    "duration": 140,
    "start_time": "2022-07-23T12:43:05.861Z"
   },
   {
    "duration": 155,
    "start_time": "2022-07-23T12:43:06.003Z"
   },
   {
    "duration": 103,
    "start_time": "2022-07-23T12:43:06.164Z"
   },
   {
    "duration": 10,
    "start_time": "2022-07-23T12:43:06.269Z"
   },
   {
    "duration": 14,
    "start_time": "2022-07-23T12:43:06.281Z"
   },
   {
    "duration": 29,
    "start_time": "2022-07-23T12:43:06.297Z"
   },
   {
    "duration": 531,
    "start_time": "2022-07-23T12:43:06.328Z"
   },
   {
    "duration": 548,
    "start_time": "2022-07-23T12:43:06.861Z"
   },
   {
    "duration": 3,
    "start_time": "2022-07-23T12:43:07.410Z"
   },
   {
    "duration": 8,
    "start_time": "2022-07-23T12:43:07.414Z"
   },
   {
    "duration": 9,
    "start_time": "2022-07-23T12:43:07.423Z"
   },
   {
    "duration": 1097,
    "start_time": "2022-07-23T12:43:07.435Z"
   },
   {
    "duration": 131,
    "start_time": "2022-07-23T12:43:08.533Z"
   },
   {
    "duration": 2719,
    "start_time": "2022-07-23T12:43:08.667Z"
   },
   {
    "duration": 145,
    "start_time": "2022-07-23T12:43:11.388Z"
   },
   {
    "duration": 23723,
    "start_time": "2022-07-23T12:43:11.534Z"
   },
   {
    "duration": 156,
    "start_time": "2022-07-23T12:43:35.259Z"
   },
   {
    "duration": 6059,
    "start_time": "2022-07-23T12:43:35.417Z"
   },
   {
    "duration": 133,
    "start_time": "2022-07-23T12:43:41.478Z"
   },
   {
    "duration": 19,
    "start_time": "2022-07-23T12:43:41.613Z"
   },
   {
    "duration": 47,
    "start_time": "2022-07-23T12:43:41.634Z"
   },
   {
    "duration": 145,
    "start_time": "2022-07-23T12:43:41.683Z"
   },
   {
    "duration": 20,
    "start_time": "2022-07-23T12:43:41.830Z"
   },
   {
    "duration": 283,
    "start_time": "2022-07-23T12:43:41.851Z"
   },
   {
    "duration": 108,
    "start_time": "2022-07-23T12:43:42.136Z"
   },
   {
    "duration": 199,
    "start_time": "2022-07-23T12:43:42.246Z"
   },
   {
    "duration": 190,
    "start_time": "2022-07-23T12:43:42.447Z"
   },
   {
    "duration": 197,
    "start_time": "2022-07-23T12:43:42.639Z"
   },
   {
    "duration": 55,
    "start_time": "2022-07-23T12:43:42.838Z"
   },
   {
    "duration": 118,
    "start_time": "2022-07-23T12:43:42.895Z"
   },
   {
    "duration": 180,
    "start_time": "2022-07-23T12:43:43.015Z"
   },
   {
    "duration": 18,
    "start_time": "2022-07-23T12:43:43.197Z"
   },
   {
    "duration": 833,
    "start_time": "2022-07-23T12:43:43.217Z"
   },
   {
    "duration": 114,
    "start_time": "2022-07-23T12:43:44.052Z"
   },
   {
    "duration": 0,
    "start_time": "2022-07-23T12:43:44.168Z"
   },
   {
    "duration": 42,
    "start_time": "2022-07-23T12:54:46.257Z"
   },
   {
    "duration": 13,
    "start_time": "2022-07-23T12:54:59.777Z"
   },
   {
    "duration": 1425,
    "start_time": "2022-07-23T12:55:15.490Z"
   },
   {
    "duration": 953,
    "start_time": "2022-07-23T12:55:16.917Z"
   },
   {
    "duration": 156,
    "start_time": "2022-07-23T12:55:17.872Z"
   },
   {
    "duration": 168,
    "start_time": "2022-07-23T12:55:18.030Z"
   },
   {
    "duration": 105,
    "start_time": "2022-07-23T12:55:18.200Z"
   },
   {
    "duration": 6,
    "start_time": "2022-07-23T12:55:18.307Z"
   },
   {
    "duration": 29,
    "start_time": "2022-07-23T12:55:18.314Z"
   },
   {
    "duration": 34,
    "start_time": "2022-07-23T12:55:18.345Z"
   },
   {
    "duration": 600,
    "start_time": "2022-07-23T12:55:18.382Z"
   },
   {
    "duration": 614,
    "start_time": "2022-07-23T12:55:18.984Z"
   },
   {
    "duration": 3,
    "start_time": "2022-07-23T12:55:19.600Z"
   },
   {
    "duration": 10,
    "start_time": "2022-07-23T12:55:19.605Z"
   },
   {
    "duration": 7,
    "start_time": "2022-07-23T12:55:19.617Z"
   },
   {
    "duration": 1269,
    "start_time": "2022-07-23T12:55:19.625Z"
   },
   {
    "duration": 143,
    "start_time": "2022-07-23T12:55:20.896Z"
   },
   {
    "duration": 4362,
    "start_time": "2022-07-23T12:55:21.040Z"
   },
   {
    "duration": 135,
    "start_time": "2022-07-23T12:55:25.404Z"
   },
   {
    "duration": 25691,
    "start_time": "2022-07-23T12:55:25.542Z"
   },
   {
    "duration": 153,
    "start_time": "2022-07-23T12:55:51.235Z"
   },
   {
    "duration": 6297,
    "start_time": "2022-07-23T12:55:51.390Z"
   },
   {
    "duration": 146,
    "start_time": "2022-07-23T12:55:57.688Z"
   },
   {
    "duration": 32,
    "start_time": "2022-07-23T12:55:57.836Z"
   },
   {
    "duration": 33,
    "start_time": "2022-07-23T12:55:57.870Z"
   },
   {
    "duration": 146,
    "start_time": "2022-07-23T12:55:57.905Z"
   },
   {
    "duration": 35,
    "start_time": "2022-07-23T12:55:58.052Z"
   },
   {
    "duration": 311,
    "start_time": "2022-07-23T12:55:58.089Z"
   },
   {
    "duration": 123,
    "start_time": "2022-07-23T12:55:58.401Z"
   },
   {
    "duration": 241,
    "start_time": "2022-07-23T12:55:58.527Z"
   },
   {
    "duration": 186,
    "start_time": "2022-07-23T12:55:58.770Z"
   },
   {
    "duration": 162,
    "start_time": "2022-07-23T12:55:58.957Z"
   },
   {
    "duration": 44,
    "start_time": "2022-07-23T12:55:59.121Z"
   },
   {
    "duration": 125,
    "start_time": "2022-07-23T12:55:59.167Z"
   },
   {
    "duration": 194,
    "start_time": "2022-07-23T12:55:59.293Z"
   },
   {
    "duration": 20,
    "start_time": "2022-07-23T12:55:59.489Z"
   },
   {
    "duration": 939,
    "start_time": "2022-07-23T12:55:59.510Z"
   },
   {
    "duration": 30,
    "start_time": "2022-07-23T12:56:00.451Z"
   },
   {
    "duration": 161,
    "start_time": "2022-07-23T12:56:00.483Z"
   },
   {
    "duration": 309,
    "start_time": "2022-07-23T12:56:00.647Z"
   },
   {
    "duration": 1521,
    "start_time": "2022-07-23T12:57:01.535Z"
   },
   {
    "duration": 965,
    "start_time": "2022-07-23T12:57:03.059Z"
   },
   {
    "duration": 161,
    "start_time": "2022-07-23T12:57:04.025Z"
   },
   {
    "duration": 155,
    "start_time": "2022-07-23T12:57:04.189Z"
   },
   {
    "duration": 99,
    "start_time": "2022-07-23T12:57:04.345Z"
   },
   {
    "duration": 20,
    "start_time": "2022-07-23T12:57:04.445Z"
   },
   {
    "duration": 14,
    "start_time": "2022-07-23T12:57:04.467Z"
   },
   {
    "duration": 47,
    "start_time": "2022-07-23T12:57:04.484Z"
   },
   {
    "duration": 550,
    "start_time": "2022-07-23T12:57:04.533Z"
   },
   {
    "duration": 618,
    "start_time": "2022-07-23T12:57:05.086Z"
   },
   {
    "duration": 3,
    "start_time": "2022-07-23T12:57:05.706Z"
   },
   {
    "duration": 6,
    "start_time": "2022-07-23T12:57:05.711Z"
   },
   {
    "duration": 7,
    "start_time": "2022-07-23T12:57:05.718Z"
   },
   {
    "duration": 1148,
    "start_time": "2022-07-23T12:57:05.727Z"
   },
   {
    "duration": 142,
    "start_time": "2022-07-23T12:57:06.877Z"
   },
   {
    "duration": 2801,
    "start_time": "2022-07-23T12:57:07.020Z"
   },
   {
    "duration": 150,
    "start_time": "2022-07-23T12:57:09.823Z"
   },
   {
    "duration": 24484,
    "start_time": "2022-07-23T12:57:09.976Z"
   },
   {
    "duration": 152,
    "start_time": "2022-07-23T12:57:34.462Z"
   },
   {
    "duration": 6500,
    "start_time": "2022-07-23T12:57:34.615Z"
   },
   {
    "duration": 148,
    "start_time": "2022-07-23T12:57:41.117Z"
   },
   {
    "duration": 29,
    "start_time": "2022-07-23T12:57:41.267Z"
   },
   {
    "duration": 23,
    "start_time": "2022-07-23T12:57:41.298Z"
   },
   {
    "duration": 172,
    "start_time": "2022-07-23T12:57:41.323Z"
   },
   {
    "duration": 22,
    "start_time": "2022-07-23T12:57:41.496Z"
   },
   {
    "duration": 313,
    "start_time": "2022-07-23T12:57:41.520Z"
   },
   {
    "duration": 119,
    "start_time": "2022-07-23T12:57:41.835Z"
   },
   {
    "duration": 202,
    "start_time": "2022-07-23T12:57:41.957Z"
   },
   {
    "duration": 182,
    "start_time": "2022-07-23T12:57:42.162Z"
   },
   {
    "duration": 190,
    "start_time": "2022-07-23T12:57:42.346Z"
   },
   {
    "duration": 54,
    "start_time": "2022-07-23T12:57:42.537Z"
   },
   {
    "duration": 146,
    "start_time": "2022-07-23T12:57:42.593Z"
   },
   {
    "duration": 203,
    "start_time": "2022-07-23T12:57:42.741Z"
   },
   {
    "duration": 26,
    "start_time": "2022-07-23T12:57:42.946Z"
   },
   {
    "duration": 877,
    "start_time": "2022-07-23T12:57:42.974Z"
   },
   {
    "duration": 595,
    "start_time": "2022-07-23T12:57:43.853Z"
   },
   {
    "duration": 33236,
    "start_time": "2022-07-23T12:57:44.450Z"
   },
   {
    "duration": 4,
    "start_time": "2022-07-23T12:58:28.783Z"
   },
   {
    "duration": 113,
    "start_time": "2022-07-23T13:06:33.117Z"
   },
   {
    "duration": 43589,
    "start_time": "2022-07-23T13:07:14.584Z"
   },
   {
    "duration": 79,
    "start_time": "2022-07-23T13:09:08.937Z"
   },
   {
    "duration": 3,
    "start_time": "2022-07-23T13:10:09.786Z"
   },
   {
    "duration": 17,
    "start_time": "2022-07-23T13:11:26.636Z"
   },
   {
    "duration": 1189,
    "start_time": "2022-07-23T13:12:09.944Z"
   },
   {
    "duration": 4,
    "start_time": "2022-07-23T13:12:20.303Z"
   },
   {
    "duration": 1455,
    "start_time": "2022-07-23T13:14:09.365Z"
   },
   {
    "duration": 968,
    "start_time": "2022-07-23T13:14:10.823Z"
   },
   {
    "duration": 163,
    "start_time": "2022-07-23T13:14:11.793Z"
   },
   {
    "duration": 177,
    "start_time": "2022-07-23T13:14:11.964Z"
   },
   {
    "duration": 109,
    "start_time": "2022-07-23T13:14:12.142Z"
   },
   {
    "duration": 11,
    "start_time": "2022-07-23T13:14:12.252Z"
   },
   {
    "duration": 27,
    "start_time": "2022-07-23T13:14:12.265Z"
   },
   {
    "duration": 32,
    "start_time": "2022-07-23T13:14:12.294Z"
   },
   {
    "duration": 631,
    "start_time": "2022-07-23T13:14:12.328Z"
   },
   {
    "duration": 582,
    "start_time": "2022-07-23T13:14:12.963Z"
   },
   {
    "duration": 3,
    "start_time": "2022-07-23T13:14:13.546Z"
   },
   {
    "duration": 11,
    "start_time": "2022-07-23T13:14:13.550Z"
   },
   {
    "duration": 29,
    "start_time": "2022-07-23T13:14:13.562Z"
   },
   {
    "duration": 1168,
    "start_time": "2022-07-23T13:14:13.593Z"
   },
   {
    "duration": 158,
    "start_time": "2022-07-23T13:14:14.762Z"
   },
   {
    "duration": 2771,
    "start_time": "2022-07-23T13:14:14.922Z"
   },
   {
    "duration": 140,
    "start_time": "2022-07-23T13:14:17.695Z"
   },
   {
    "duration": 24079,
    "start_time": "2022-07-23T13:14:17.837Z"
   },
   {
    "duration": 147,
    "start_time": "2022-07-23T13:14:41.918Z"
   },
   {
    "duration": 5978,
    "start_time": "2022-07-23T13:14:42.068Z"
   },
   {
    "duration": 148,
    "start_time": "2022-07-23T13:14:48.048Z"
   },
   {
    "duration": 18,
    "start_time": "2022-07-23T13:14:48.198Z"
   },
   {
    "duration": 25,
    "start_time": "2022-07-23T13:14:48.217Z"
   },
   {
    "duration": 159,
    "start_time": "2022-07-23T13:14:48.243Z"
   },
   {
    "duration": 19,
    "start_time": "2022-07-23T13:14:48.403Z"
   },
   {
    "duration": 307,
    "start_time": "2022-07-23T13:14:48.423Z"
   },
   {
    "duration": 101,
    "start_time": "2022-07-23T13:14:48.731Z"
   },
   {
    "duration": 196,
    "start_time": "2022-07-23T13:14:48.837Z"
   },
   {
    "duration": 178,
    "start_time": "2022-07-23T13:14:49.035Z"
   },
   {
    "duration": 149,
    "start_time": "2022-07-23T13:14:49.215Z"
   },
   {
    "duration": 43,
    "start_time": "2022-07-23T13:14:49.366Z"
   },
   {
    "duration": 129,
    "start_time": "2022-07-23T13:14:49.411Z"
   },
   {
    "duration": 188,
    "start_time": "2022-07-23T13:14:49.542Z"
   },
   {
    "duration": 19,
    "start_time": "2022-07-23T13:14:49.732Z"
   },
   {
    "duration": 935,
    "start_time": "2022-07-23T13:14:49.753Z"
   },
   {
    "duration": 3958,
    "start_time": "2022-07-23T13:14:50.690Z"
   },
   {
    "duration": 112,
    "start_time": "2022-07-23T13:14:54.650Z"
   },
   {
    "duration": 0,
    "start_time": "2022-07-23T13:14:54.764Z"
   },
   {
    "duration": 0,
    "start_time": "2022-07-23T13:14:54.766Z"
   },
   {
    "duration": 1,
    "start_time": "2022-07-23T13:14:54.767Z"
   },
   {
    "duration": 0,
    "start_time": "2022-07-23T13:14:54.769Z"
   },
   {
    "duration": 0,
    "start_time": "2022-07-23T13:14:54.771Z"
   },
   {
    "duration": 0,
    "start_time": "2022-07-23T13:14:54.773Z"
   },
   {
    "duration": 15,
    "start_time": "2022-07-23T13:15:35.441Z"
   },
   {
    "duration": 3909,
    "start_time": "2022-07-23T13:20:52.809Z"
   },
   {
    "duration": 9,
    "start_time": "2022-07-23T13:21:17.753Z"
   },
   {
    "duration": 5,
    "start_time": "2022-07-23T13:21:33.486Z"
   },
   {
    "duration": 1362,
    "start_time": "2022-07-23T13:21:53.560Z"
   },
   {
    "duration": 920,
    "start_time": "2022-07-23T13:21:54.924Z"
   },
   {
    "duration": 164,
    "start_time": "2022-07-23T13:21:55.846Z"
   },
   {
    "duration": 157,
    "start_time": "2022-07-23T13:21:56.012Z"
   },
   {
    "duration": 104,
    "start_time": "2022-07-23T13:21:56.175Z"
   },
   {
    "duration": 6,
    "start_time": "2022-07-23T13:21:56.281Z"
   },
   {
    "duration": 13,
    "start_time": "2022-07-23T13:21:56.288Z"
   },
   {
    "duration": 30,
    "start_time": "2022-07-23T13:21:56.303Z"
   },
   {
    "duration": 539,
    "start_time": "2022-07-23T13:21:56.334Z"
   },
   {
    "duration": 604,
    "start_time": "2022-07-23T13:21:56.877Z"
   },
   {
    "duration": 3,
    "start_time": "2022-07-23T13:21:57.482Z"
   },
   {
    "duration": 7,
    "start_time": "2022-07-23T13:21:57.486Z"
   },
   {
    "duration": 7,
    "start_time": "2022-07-23T13:21:57.494Z"
   },
   {
    "duration": 1090,
    "start_time": "2022-07-23T13:21:57.502Z"
   },
   {
    "duration": 143,
    "start_time": "2022-07-23T13:21:58.594Z"
   },
   {
    "duration": 2778,
    "start_time": "2022-07-23T13:21:58.739Z"
   },
   {
    "duration": 146,
    "start_time": "2022-07-23T13:22:01.519Z"
   },
   {
    "duration": 23633,
    "start_time": "2022-07-23T13:22:01.667Z"
   },
   {
    "duration": 151,
    "start_time": "2022-07-23T13:22:25.302Z"
   },
   {
    "duration": 6205,
    "start_time": "2022-07-23T13:22:25.454Z"
   },
   {
    "duration": 145,
    "start_time": "2022-07-23T13:22:31.663Z"
   },
   {
    "duration": 19,
    "start_time": "2022-07-23T13:22:31.810Z"
   },
   {
    "duration": 46,
    "start_time": "2022-07-23T13:22:31.831Z"
   },
   {
    "duration": 145,
    "start_time": "2022-07-23T13:22:31.879Z"
   },
   {
    "duration": 43,
    "start_time": "2022-07-23T13:22:32.026Z"
   },
   {
    "duration": 284,
    "start_time": "2022-07-23T13:22:32.073Z"
   },
   {
    "duration": 101,
    "start_time": "2022-07-23T13:22:32.363Z"
   },
   {
    "duration": 213,
    "start_time": "2022-07-23T13:22:32.472Z"
   },
   {
    "duration": 178,
    "start_time": "2022-07-23T13:22:32.687Z"
   },
   {
    "duration": 157,
    "start_time": "2022-07-23T13:22:32.868Z"
   },
   {
    "duration": 51,
    "start_time": "2022-07-23T13:22:33.027Z"
   },
   {
    "duration": 115,
    "start_time": "2022-07-23T13:22:33.081Z"
   },
   {
    "duration": 182,
    "start_time": "2022-07-23T13:22:33.197Z"
   },
   {
    "duration": 23,
    "start_time": "2022-07-23T13:22:33.381Z"
   },
   {
    "duration": 838,
    "start_time": "2022-07-23T13:22:33.405Z"
   },
   {
    "duration": 3942,
    "start_time": "2022-07-23T13:22:34.244Z"
   },
   {
    "duration": 8,
    "start_time": "2022-07-23T13:22:38.188Z"
   },
   {
    "duration": 112,
    "start_time": "2022-07-23T13:22:38.197Z"
   },
   {
    "duration": 0,
    "start_time": "2022-07-23T13:22:38.311Z"
   },
   {
    "duration": 0,
    "start_time": "2022-07-23T13:22:38.312Z"
   },
   {
    "duration": 0,
    "start_time": "2022-07-23T13:22:38.313Z"
   },
   {
    "duration": 0,
    "start_time": "2022-07-23T13:22:38.314Z"
   },
   {
    "duration": 0,
    "start_time": "2022-07-23T13:22:38.315Z"
   },
   {
    "duration": 0,
    "start_time": "2022-07-23T13:22:38.316Z"
   },
   {
    "duration": 1534,
    "start_time": "2022-07-23T13:28:01.843Z"
   },
   {
    "duration": 970,
    "start_time": "2022-07-23T13:28:03.380Z"
   },
   {
    "duration": 139,
    "start_time": "2022-07-23T13:28:04.352Z"
   },
   {
    "duration": 190,
    "start_time": "2022-07-23T13:28:04.495Z"
   },
   {
    "duration": 173,
    "start_time": "2022-07-23T13:28:04.686Z"
   },
   {
    "duration": 5,
    "start_time": "2022-07-23T13:28:04.864Z"
   },
   {
    "duration": 9,
    "start_time": "2022-07-23T13:28:04.871Z"
   },
   {
    "duration": 31,
    "start_time": "2022-07-23T13:28:04.882Z"
   },
   {
    "duration": 632,
    "start_time": "2022-07-23T13:28:04.915Z"
   },
   {
    "duration": 712,
    "start_time": "2022-07-23T13:28:05.549Z"
   },
   {
    "duration": 3,
    "start_time": "2022-07-23T13:28:06.263Z"
   },
   {
    "duration": 9,
    "start_time": "2022-07-23T13:28:06.268Z"
   },
   {
    "duration": 8,
    "start_time": "2022-07-23T13:28:06.279Z"
   },
   {
    "duration": 1200,
    "start_time": "2022-07-23T13:28:06.289Z"
   },
   {
    "duration": 137,
    "start_time": "2022-07-23T13:28:07.491Z"
   },
   {
    "duration": 2829,
    "start_time": "2022-07-23T13:28:07.630Z"
   },
   {
    "duration": 164,
    "start_time": "2022-07-23T13:28:10.461Z"
   },
   {
    "duration": 25059,
    "start_time": "2022-07-23T13:28:10.627Z"
   },
   {
    "duration": 135,
    "start_time": "2022-07-23T13:28:35.687Z"
   },
   {
    "duration": 6269,
    "start_time": "2022-07-23T13:28:35.824Z"
   },
   {
    "duration": 175,
    "start_time": "2022-07-23T13:28:42.095Z"
   },
   {
    "duration": 24,
    "start_time": "2022-07-23T13:28:42.273Z"
   },
   {
    "duration": 28,
    "start_time": "2022-07-23T13:28:42.299Z"
   },
   {
    "duration": 172,
    "start_time": "2022-07-23T13:28:42.329Z"
   },
   {
    "duration": 34,
    "start_time": "2022-07-23T13:28:42.503Z"
   },
   {
    "duration": 417,
    "start_time": "2022-07-23T13:28:42.540Z"
   },
   {
    "duration": 120,
    "start_time": "2022-07-23T13:28:42.959Z"
   },
   {
    "duration": 204,
    "start_time": "2022-07-23T13:28:43.083Z"
   },
   {
    "duration": 174,
    "start_time": "2022-07-23T13:28:43.289Z"
   },
   {
    "duration": 160,
    "start_time": "2022-07-23T13:28:43.465Z"
   },
   {
    "duration": 47,
    "start_time": "2022-07-23T13:28:43.627Z"
   },
   {
    "duration": 131,
    "start_time": "2022-07-23T13:28:43.677Z"
   },
   {
    "duration": 184,
    "start_time": "2022-07-23T13:28:43.809Z"
   },
   {
    "duration": 18,
    "start_time": "2022-07-23T13:28:43.995Z"
   },
   {
    "duration": 907,
    "start_time": "2022-07-23T13:28:44.015Z"
   },
   {
    "duration": 112,
    "start_time": "2022-07-23T13:28:44.924Z"
   },
   {
    "duration": 0,
    "start_time": "2022-07-23T13:28:45.037Z"
   },
   {
    "duration": 0,
    "start_time": "2022-07-23T13:28:45.039Z"
   },
   {
    "duration": 0,
    "start_time": "2022-07-23T13:28:45.040Z"
   },
   {
    "duration": 0,
    "start_time": "2022-07-23T13:28:45.041Z"
   },
   {
    "duration": 0,
    "start_time": "2022-07-23T13:28:45.042Z"
   },
   {
    "duration": 0,
    "start_time": "2022-07-23T13:28:45.043Z"
   },
   {
    "duration": 0,
    "start_time": "2022-07-23T13:28:45.044Z"
   },
   {
    "duration": 597,
    "start_time": "2022-07-23T13:29:03.464Z"
   },
   {
    "duration": 3219,
    "start_time": "2022-07-23T13:29:05.336Z"
   },
   {
    "duration": 37626,
    "start_time": "2022-07-23T13:29:10.744Z"
   },
   {
    "duration": 5,
    "start_time": "2022-07-23T13:29:59.266Z"
   },
   {
    "duration": 23771,
    "start_time": "2022-07-23T13:30:08.499Z"
   },
   {
    "duration": 4,
    "start_time": "2022-07-23T13:30:36.091Z"
   },
   {
    "duration": 880,
    "start_time": "2022-07-23T13:30:37.533Z"
   },
   {
    "duration": 4,
    "start_time": "2022-07-23T13:30:39.160Z"
   },
   {
    "duration": 20,
    "start_time": "2022-07-23T13:33:53.280Z"
   },
   {
    "duration": 1355,
    "start_time": "2022-07-23T13:34:02.705Z"
   },
   {
    "duration": 939,
    "start_time": "2022-07-23T13:34:04.062Z"
   },
   {
    "duration": 145,
    "start_time": "2022-07-23T13:34:05.003Z"
   },
   {
    "duration": 154,
    "start_time": "2022-07-23T13:34:05.150Z"
   },
   {
    "duration": 104,
    "start_time": "2022-07-23T13:34:05.306Z"
   },
   {
    "duration": 5,
    "start_time": "2022-07-23T13:34:05.412Z"
   },
   {
    "duration": 11,
    "start_time": "2022-07-23T13:34:05.419Z"
   },
   {
    "duration": 54,
    "start_time": "2022-07-23T13:34:05.432Z"
   },
   {
    "duration": 527,
    "start_time": "2022-07-23T13:34:05.487Z"
   },
   {
    "duration": 577,
    "start_time": "2022-07-23T13:34:06.016Z"
   },
   {
    "duration": 2,
    "start_time": "2022-07-23T13:34:06.594Z"
   },
   {
    "duration": 24,
    "start_time": "2022-07-23T13:34:06.598Z"
   },
   {
    "duration": 18,
    "start_time": "2022-07-23T13:34:06.624Z"
   },
   {
    "duration": 1096,
    "start_time": "2022-07-23T13:34:06.643Z"
   },
   {
    "duration": 137,
    "start_time": "2022-07-23T13:34:07.740Z"
   },
   {
    "duration": 2703,
    "start_time": "2022-07-23T13:34:07.880Z"
   },
   {
    "duration": 144,
    "start_time": "2022-07-23T13:34:10.585Z"
   },
   {
    "duration": 23574,
    "start_time": "2022-07-23T13:34:10.731Z"
   },
   {
    "duration": 136,
    "start_time": "2022-07-23T13:34:34.307Z"
   },
   {
    "duration": 6051,
    "start_time": "2022-07-23T13:34:34.445Z"
   },
   {
    "duration": 138,
    "start_time": "2022-07-23T13:34:40.498Z"
   },
   {
    "duration": 35,
    "start_time": "2022-07-23T13:34:40.638Z"
   },
   {
    "duration": 37,
    "start_time": "2022-07-23T13:34:40.674Z"
   },
   {
    "duration": 158,
    "start_time": "2022-07-23T13:34:40.713Z"
   },
   {
    "duration": 23,
    "start_time": "2022-07-23T13:34:40.873Z"
   },
   {
    "duration": 298,
    "start_time": "2022-07-23T13:34:40.898Z"
   },
   {
    "duration": 97,
    "start_time": "2022-07-23T13:34:41.197Z"
   },
   {
    "duration": 194,
    "start_time": "2022-07-23T13:34:41.297Z"
   },
   {
    "duration": 158,
    "start_time": "2022-07-23T13:34:41.493Z"
   },
   {
    "duration": 154,
    "start_time": "2022-07-23T13:34:41.653Z"
   },
   {
    "duration": 39,
    "start_time": "2022-07-23T13:34:41.809Z"
   },
   {
    "duration": 135,
    "start_time": "2022-07-23T13:34:41.850Z"
   },
   {
    "duration": 179,
    "start_time": "2022-07-23T13:34:41.986Z"
   },
   {
    "duration": 24,
    "start_time": "2022-07-23T13:34:42.168Z"
   },
   {
    "duration": 946,
    "start_time": "2022-07-23T13:34:42.194Z"
   },
   {
    "duration": 124,
    "start_time": "2022-07-23T13:34:43.141Z"
   },
   {
    "duration": 289,
    "start_time": "2022-07-23T13:34:43.268Z"
   },
   {
    "duration": 0,
    "start_time": "2022-07-23T13:34:43.558Z"
   },
   {
    "duration": 0,
    "start_time": "2022-07-23T13:34:43.564Z"
   },
   {
    "duration": 0,
    "start_time": "2022-07-23T13:34:43.566Z"
   },
   {
    "duration": 0,
    "start_time": "2022-07-23T13:34:43.567Z"
   },
   {
    "duration": 0,
    "start_time": "2022-07-23T13:34:43.569Z"
   },
   {
    "duration": 0,
    "start_time": "2022-07-23T13:34:43.571Z"
   },
   {
    "duration": 69,
    "start_time": "2022-07-23T13:48:54.444Z"
   },
   {
    "duration": 3,
    "start_time": "2022-07-23T13:49:31.043Z"
   },
   {
    "duration": 1598,
    "start_time": "2022-07-23T13:49:39.092Z"
   },
   {
    "duration": 1089,
    "start_time": "2022-07-23T13:49:40.693Z"
   },
   {
    "duration": 173,
    "start_time": "2022-07-23T13:49:41.784Z"
   },
   {
    "duration": 186,
    "start_time": "2022-07-23T13:49:41.967Z"
   },
   {
    "duration": 179,
    "start_time": "2022-07-23T13:49:42.156Z"
   },
   {
    "duration": 9,
    "start_time": "2022-07-23T13:49:42.337Z"
   },
   {
    "duration": 25,
    "start_time": "2022-07-23T13:49:42.348Z"
   },
   {
    "duration": 42,
    "start_time": "2022-07-23T13:49:42.376Z"
   },
   {
    "duration": 702,
    "start_time": "2022-07-23T13:49:42.420Z"
   },
   {
    "duration": 711,
    "start_time": "2022-07-23T13:49:43.125Z"
   },
   {
    "duration": 3,
    "start_time": "2022-07-23T13:49:43.838Z"
   },
   {
    "duration": 9,
    "start_time": "2022-07-23T13:49:43.843Z"
   },
   {
    "duration": 25,
    "start_time": "2022-07-23T13:49:43.854Z"
   },
   {
    "duration": 1314,
    "start_time": "2022-07-23T13:49:43.902Z"
   },
   {
    "duration": 168,
    "start_time": "2022-07-23T13:49:45.217Z"
   },
   {
    "duration": 3390,
    "start_time": "2022-07-23T13:49:45.387Z"
   },
   {
    "duration": 254,
    "start_time": "2022-07-23T13:49:48.779Z"
   },
   {
    "duration": 26994,
    "start_time": "2022-07-23T13:49:49.035Z"
   },
   {
    "duration": 185,
    "start_time": "2022-07-23T13:50:16.031Z"
   },
   {
    "duration": 6807,
    "start_time": "2022-07-23T13:50:16.218Z"
   },
   {
    "duration": 199,
    "start_time": "2022-07-23T13:50:23.028Z"
   },
   {
    "duration": 23,
    "start_time": "2022-07-23T13:50:23.229Z"
   },
   {
    "duration": 51,
    "start_time": "2022-07-23T13:50:23.253Z"
   },
   {
    "duration": 156,
    "start_time": "2022-07-23T13:50:23.306Z"
   },
   {
    "duration": 36,
    "start_time": "2022-07-23T13:50:23.464Z"
   },
   {
    "duration": 355,
    "start_time": "2022-07-23T13:50:23.501Z"
   },
   {
    "duration": 128,
    "start_time": "2022-07-23T13:50:23.858Z"
   },
   {
    "duration": 218,
    "start_time": "2022-07-23T13:50:23.992Z"
   },
   {
    "duration": 191,
    "start_time": "2022-07-23T13:50:24.212Z"
   },
   {
    "duration": 161,
    "start_time": "2022-07-23T13:50:24.405Z"
   },
   {
    "duration": 52,
    "start_time": "2022-07-23T13:50:24.570Z"
   },
   {
    "duration": 136,
    "start_time": "2022-07-23T13:50:24.623Z"
   },
   {
    "duration": 192,
    "start_time": "2022-07-23T13:50:24.761Z"
   },
   {
    "duration": 31,
    "start_time": "2022-07-23T13:50:24.955Z"
   },
   {
    "duration": 949,
    "start_time": "2022-07-23T13:50:24.988Z"
   },
   {
    "duration": 618,
    "start_time": "2022-07-23T13:50:25.939Z"
   },
   {
    "duration": 3289,
    "start_time": "2022-07-23T13:50:26.559Z"
   },
   {
    "duration": 44417,
    "start_time": "2022-07-23T13:50:29.850Z"
   },
   {
    "duration": 98,
    "start_time": "2022-07-23T13:51:14.270Z"
   },
   {
    "duration": 100538,
    "start_time": "2022-07-23T13:51:14.378Z"
   },
   {
    "duration": 6,
    "start_time": "2022-07-23T13:52:54.918Z"
   },
   {
    "duration": 884,
    "start_time": "2022-07-23T13:52:54.926Z"
   },
   {
    "duration": 4,
    "start_time": "2022-07-23T13:52:55.812Z"
   },
   {
    "duration": 36,
    "start_time": "2022-07-23T13:53:05.392Z"
   },
   {
    "duration": 144,
    "start_time": "2022-07-23T13:57:41.288Z"
   },
   {
    "duration": 20,
    "start_time": "2022-07-23T13:57:55.940Z"
   },
   {
    "duration": 133,
    "start_time": "2022-07-23T13:59:30.397Z"
   },
   {
    "duration": 3412,
    "start_time": "2022-07-23T13:59:33.737Z"
   },
   {
    "duration": 2658,
    "start_time": "2022-07-23T14:01:26.050Z"
   },
   {
    "duration": 2819,
    "start_time": "2022-07-23T14:03:01.688Z"
   },
   {
    "duration": 2961,
    "start_time": "2022-07-23T14:03:59.691Z"
   },
   {
    "duration": 1409,
    "start_time": "2022-07-24T14:49:11.493Z"
   },
   {
    "duration": 1057,
    "start_time": "2022-07-24T14:49:12.904Z"
   },
   {
    "duration": 142,
    "start_time": "2022-07-24T14:49:13.966Z"
   },
   {
    "duration": 126,
    "start_time": "2022-07-24T14:49:14.110Z"
   },
   {
    "duration": 96,
    "start_time": "2022-07-24T14:49:14.237Z"
   },
   {
    "duration": 12,
    "start_time": "2022-07-24T14:49:14.334Z"
   },
   {
    "duration": 9,
    "start_time": "2022-07-24T14:49:14.347Z"
   },
   {
    "duration": 30,
    "start_time": "2022-07-24T14:49:14.357Z"
   },
   {
    "duration": 442,
    "start_time": "2022-07-24T14:49:14.389Z"
   },
   {
    "duration": 475,
    "start_time": "2022-07-24T14:49:14.833Z"
   },
   {
    "duration": 3,
    "start_time": "2022-07-24T14:49:15.310Z"
   },
   {
    "duration": 13,
    "start_time": "2022-07-24T14:49:15.314Z"
   },
   {
    "duration": 17,
    "start_time": "2022-07-24T14:49:15.329Z"
   },
   {
    "duration": 1012,
    "start_time": "2022-07-24T14:49:15.347Z"
   },
   {
    "duration": 121,
    "start_time": "2022-07-24T14:49:16.361Z"
   },
   {
    "duration": 2682,
    "start_time": "2022-07-24T14:49:16.484Z"
   },
   {
    "duration": 123,
    "start_time": "2022-07-24T14:49:19.168Z"
   },
   {
    "duration": 21289,
    "start_time": "2022-07-24T14:49:19.292Z"
   },
   {
    "duration": 119,
    "start_time": "2022-07-24T14:49:40.583Z"
   },
   {
    "duration": 5429,
    "start_time": "2022-07-24T14:49:40.704Z"
   },
   {
    "duration": 128,
    "start_time": "2022-07-24T14:49:46.135Z"
   },
   {
    "duration": 20,
    "start_time": "2022-07-24T14:49:46.265Z"
   },
   {
    "duration": 30,
    "start_time": "2022-07-24T14:49:46.287Z"
   },
   {
    "duration": 134,
    "start_time": "2022-07-24T14:49:46.318Z"
   },
   {
    "duration": 20,
    "start_time": "2022-07-24T14:49:46.453Z"
   },
   {
    "duration": 256,
    "start_time": "2022-07-24T14:49:46.474Z"
   },
   {
    "duration": 92,
    "start_time": "2022-07-24T14:49:46.733Z"
   },
   {
    "duration": 180,
    "start_time": "2022-07-24T14:49:46.826Z"
   },
   {
    "duration": 150,
    "start_time": "2022-07-24T14:49:47.007Z"
   },
   {
    "duration": 133,
    "start_time": "2022-07-24T14:49:47.159Z"
   },
   {
    "duration": 36,
    "start_time": "2022-07-24T14:49:47.294Z"
   },
   {
    "duration": 115,
    "start_time": "2022-07-24T14:49:47.332Z"
   },
   {
    "duration": 162,
    "start_time": "2022-07-24T14:49:47.449Z"
   },
   {
    "duration": 18,
    "start_time": "2022-07-24T14:49:47.613Z"
   },
   {
    "duration": 769,
    "start_time": "2022-07-24T14:49:47.646Z"
   },
   {
    "duration": 561,
    "start_time": "2022-07-24T14:49:48.417Z"
   },
   {
    "duration": 3089,
    "start_time": "2022-07-24T14:49:48.980Z"
   },
   {
    "duration": 24379,
    "start_time": "2022-07-24T14:49:52.073Z"
   },
   {
    "duration": 92,
    "start_time": "2022-07-24T14:50:16.456Z"
   },
   {
    "duration": 45663,
    "start_time": "2022-07-24T14:50:16.550Z"
   },
   {
    "duration": 3,
    "start_time": "2022-07-24T14:51:02.215Z"
   },
   {
    "duration": 824,
    "start_time": "2022-07-24T14:51:02.219Z"
   },
   {
    "duration": 4,
    "start_time": "2022-07-24T14:51:03.046Z"
   },
   {
    "duration": 134,
    "start_time": "2022-07-24T14:51:03.051Z"
   },
   {
    "duration": 2290,
    "start_time": "2022-07-24T14:51:03.186Z"
   },
   {
    "duration": 1576,
    "start_time": "2022-07-24T17:18:06.401Z"
   },
   {
    "duration": 2734,
    "start_time": "2022-07-24T17:18:07.979Z"
   },
   {
    "duration": 115,
    "start_time": "2022-07-24T17:18:10.714Z"
   },
   {
    "duration": 123,
    "start_time": "2022-07-24T17:18:10.832Z"
   },
   {
    "duration": 111,
    "start_time": "2022-07-24T17:18:10.957Z"
   },
   {
    "duration": 7,
    "start_time": "2022-07-24T17:18:11.070Z"
   },
   {
    "duration": 29,
    "start_time": "2022-07-24T17:18:11.079Z"
   },
   {
    "duration": 30,
    "start_time": "2022-07-24T17:18:11.109Z"
   },
   {
    "duration": 477,
    "start_time": "2022-07-24T17:18:11.141Z"
   },
   {
    "duration": 476,
    "start_time": "2022-07-24T17:18:11.621Z"
   },
   {
    "duration": 6,
    "start_time": "2022-07-24T17:18:12.098Z"
   },
   {
    "duration": 12,
    "start_time": "2022-07-24T17:18:12.105Z"
   },
   {
    "duration": 5,
    "start_time": "2022-07-24T17:18:12.119Z"
   },
   {
    "duration": 1132,
    "start_time": "2022-07-24T17:18:12.125Z"
   },
   {
    "duration": 115,
    "start_time": "2022-07-24T17:18:13.259Z"
   },
   {
    "duration": 3044,
    "start_time": "2022-07-24T17:18:13.376Z"
   },
   {
    "duration": 130,
    "start_time": "2022-07-24T17:18:16.422Z"
   },
   {
    "duration": 23298,
    "start_time": "2022-07-24T17:18:16.554Z"
   },
   {
    "duration": 130,
    "start_time": "2022-07-24T17:18:39.854Z"
   },
   {
    "duration": 5875,
    "start_time": "2022-07-24T17:18:39.986Z"
   },
   {
    "duration": 112,
    "start_time": "2022-07-24T17:18:45.863Z"
   },
   {
    "duration": 31,
    "start_time": "2022-07-24T17:18:45.977Z"
   },
   {
    "duration": 23,
    "start_time": "2022-07-24T17:18:46.010Z"
   },
   {
    "duration": 128,
    "start_time": "2022-07-24T17:18:46.034Z"
   },
   {
    "duration": 41,
    "start_time": "2022-07-24T17:18:46.164Z"
   },
   {
    "duration": 275,
    "start_time": "2022-07-24T17:18:46.207Z"
   },
   {
    "duration": 120,
    "start_time": "2022-07-24T17:18:46.486Z"
   },
   {
    "duration": 217,
    "start_time": "2022-07-24T17:18:46.611Z"
   },
   {
    "duration": 145,
    "start_time": "2022-07-24T17:18:46.829Z"
   },
   {
    "duration": 163,
    "start_time": "2022-07-24T17:18:46.976Z"
   },
   {
    "duration": 39,
    "start_time": "2022-07-24T17:18:47.140Z"
   },
   {
    "duration": 130,
    "start_time": "2022-07-24T17:18:47.181Z"
   },
   {
    "duration": 179,
    "start_time": "2022-07-24T17:18:47.313Z"
   },
   {
    "duration": 27,
    "start_time": "2022-07-24T17:18:47.493Z"
   },
   {
    "duration": 857,
    "start_time": "2022-07-24T17:18:47.522Z"
   },
   {
    "duration": 545,
    "start_time": "2022-07-24T17:18:48.380Z"
   },
   {
    "duration": 2950,
    "start_time": "2022-07-24T17:18:48.926Z"
   },
   {
    "duration": 22939,
    "start_time": "2022-07-24T17:18:51.878Z"
   },
   {
    "duration": 4,
    "start_time": "2022-07-24T17:19:14.905Z"
   },
   {
    "duration": 68270,
    "start_time": "2022-07-24T17:19:14.911Z"
   },
   {
    "duration": 3,
    "start_time": "2022-07-24T17:20:23.182Z"
   },
   {
    "duration": 780,
    "start_time": "2022-07-24T17:20:23.187Z"
   },
   {
    "duration": 4,
    "start_time": "2022-07-24T17:20:23.968Z"
   },
   {
    "duration": 117,
    "start_time": "2022-07-24T17:20:23.974Z"
   },
   {
    "duration": 2586,
    "start_time": "2022-07-24T17:20:24.093Z"
   },
   {
    "duration": 141,
    "start_time": "2022-07-24T17:20:26.680Z"
   },
   {
    "duration": 0,
    "start_time": "2022-07-24T17:20:26.823Z"
   },
   {
    "duration": 13,
    "start_time": "2022-07-24T17:20:46.350Z"
   },
   {
    "duration": 10,
    "start_time": "2022-07-24T17:24:08.571Z"
   },
   {
    "duration": 11,
    "start_time": "2022-07-24T17:24:43.373Z"
   },
   {
    "duration": 4,
    "start_time": "2022-07-24T17:25:21.203Z"
   },
   {
    "duration": 16,
    "start_time": "2022-07-24T17:25:28.153Z"
   },
   {
    "duration": 12,
    "start_time": "2022-07-24T17:26:53.066Z"
   },
   {
    "duration": 13,
    "start_time": "2022-07-24T17:27:12.606Z"
   },
   {
    "duration": 24,
    "start_time": "2022-07-24T17:27:38.599Z"
   },
   {
    "duration": 1403,
    "start_time": "2022-07-24T17:30:23.284Z"
   },
   {
    "duration": 34,
    "start_time": "2022-07-24T17:32:27.608Z"
   },
   {
    "duration": 75,
    "start_time": "2022-07-24T17:33:00.155Z"
   },
   {
    "duration": 431,
    "start_time": "2022-07-24T17:33:08.508Z"
   },
   {
    "duration": 1417,
    "start_time": "2022-07-24T17:33:12.056Z"
   },
   {
    "duration": 1444,
    "start_time": "2022-07-24T17:33:37.942Z"
   },
   {
    "duration": 95,
    "start_time": "2022-07-24T17:55:47.055Z"
   },
   {
    "duration": 1430,
    "start_time": "2022-07-24T17:57:01.951Z"
   },
   {
    "duration": 11,
    "start_time": "2022-07-24T18:04:16.585Z"
   },
   {
    "duration": 130,
    "start_time": "2022-07-24T18:04:25.800Z"
   },
   {
    "duration": 5,
    "start_time": "2022-07-24T18:04:34.923Z"
   },
   {
    "duration": 1457,
    "start_time": "2022-07-24T18:05:07.208Z"
   },
   {
    "duration": 870,
    "start_time": "2022-07-24T18:05:08.666Z"
   },
   {
    "duration": 145,
    "start_time": "2022-07-24T18:05:09.537Z"
   },
   {
    "duration": 151,
    "start_time": "2022-07-24T18:05:09.687Z"
   },
   {
    "duration": 122,
    "start_time": "2022-07-24T18:05:09.839Z"
   },
   {
    "duration": 6,
    "start_time": "2022-07-24T18:05:09.963Z"
   },
   {
    "duration": 55,
    "start_time": "2022-07-24T18:05:09.970Z"
   },
   {
    "duration": 56,
    "start_time": "2022-07-24T18:05:10.028Z"
   },
   {
    "duration": 561,
    "start_time": "2022-07-24T18:05:10.085Z"
   },
   {
    "duration": 556,
    "start_time": "2022-07-24T18:05:10.649Z"
   },
   {
    "duration": 5,
    "start_time": "2022-07-24T18:05:11.208Z"
   },
   {
    "duration": 14,
    "start_time": "2022-07-24T18:05:11.215Z"
   },
   {
    "duration": 1066,
    "start_time": "2022-07-24T18:05:11.231Z"
   },
   {
    "duration": 115,
    "start_time": "2022-07-24T18:05:12.298Z"
   },
   {
    "duration": 2705,
    "start_time": "2022-07-24T18:05:12.415Z"
   },
   {
    "duration": 137,
    "start_time": "2022-07-24T18:05:15.122Z"
   },
   {
    "duration": 25154,
    "start_time": "2022-07-24T18:05:15.261Z"
   },
   {
    "duration": 140,
    "start_time": "2022-07-24T18:05:40.418Z"
   },
   {
    "duration": 7093,
    "start_time": "2022-07-24T18:05:40.561Z"
   },
   {
    "duration": 133,
    "start_time": "2022-07-24T18:05:47.656Z"
   },
   {
    "duration": 39,
    "start_time": "2022-07-24T18:05:47.791Z"
   },
   {
    "duration": 28,
    "start_time": "2022-07-24T18:05:47.833Z"
   },
   {
    "duration": 141,
    "start_time": "2022-07-24T18:05:47.863Z"
   },
   {
    "duration": 23,
    "start_time": "2022-07-24T18:05:48.007Z"
   },
   {
    "duration": 301,
    "start_time": "2022-07-24T18:05:48.032Z"
   },
   {
    "duration": 90,
    "start_time": "2022-07-24T18:05:48.335Z"
   },
   {
    "duration": 205,
    "start_time": "2022-07-24T18:05:48.427Z"
   },
   {
    "duration": 149,
    "start_time": "2022-07-24T18:05:48.635Z"
   },
   {
    "duration": 167,
    "start_time": "2022-07-24T18:05:48.785Z"
   },
   {
    "duration": 51,
    "start_time": "2022-07-24T18:05:48.954Z"
   },
   {
    "duration": 131,
    "start_time": "2022-07-24T18:05:49.006Z"
   },
   {
    "duration": 192,
    "start_time": "2022-07-24T18:05:49.139Z"
   },
   {
    "duration": 19,
    "start_time": "2022-07-24T18:05:49.333Z"
   },
   {
    "duration": 933,
    "start_time": "2022-07-24T18:05:49.353Z"
   },
   {
    "duration": 552,
    "start_time": "2022-07-24T18:05:50.287Z"
   },
   {
    "duration": 3385,
    "start_time": "2022-07-24T18:05:50.841Z"
   },
   {
    "duration": 55488,
    "start_time": "2022-07-24T18:05:54.228Z"
   },
   {
    "duration": 88,
    "start_time": "2022-07-24T18:06:49.719Z"
   },
   {
    "duration": 91399,
    "start_time": "2022-07-24T18:06:49.810Z"
   },
   {
    "duration": 4,
    "start_time": "2022-07-24T18:08:21.211Z"
   },
   {
    "duration": 880,
    "start_time": "2022-07-24T18:08:21.216Z"
   },
   {
    "duration": 8,
    "start_time": "2022-07-24T18:08:22.098Z"
   },
   {
    "duration": 143,
    "start_time": "2022-07-24T18:08:22.108Z"
   },
   {
    "duration": 2590,
    "start_time": "2022-07-24T18:08:22.253Z"
   },
   {
    "duration": 171,
    "start_time": "2022-07-24T18:08:24.845Z"
   },
   {
    "duration": 3,
    "start_time": "2022-07-24T18:08:25.018Z"
   },
   {
    "duration": 1568,
    "start_time": "2022-07-24T18:08:25.023Z"
   },
   {
    "duration": 33,
    "start_time": "2022-07-24T18:09:02.555Z"
   },
   {
    "duration": 842,
    "start_time": "2022-07-24T18:12:41.056Z"
   },
   {
    "duration": 1427,
    "start_time": "2022-07-24T18:13:06.873Z"
   },
   {
    "duration": 879,
    "start_time": "2022-07-24T18:13:08.302Z"
   },
   {
    "duration": 135,
    "start_time": "2022-07-24T18:13:09.183Z"
   },
   {
    "duration": 121,
    "start_time": "2022-07-24T18:13:09.324Z"
   },
   {
    "duration": 110,
    "start_time": "2022-07-24T18:13:09.446Z"
   },
   {
    "duration": 6,
    "start_time": "2022-07-24T18:13:09.557Z"
   },
   {
    "duration": 16,
    "start_time": "2022-07-24T18:13:09.564Z"
   },
   {
    "duration": 44,
    "start_time": "2022-07-24T18:13:09.582Z"
   },
   {
    "duration": 459,
    "start_time": "2022-07-24T18:13:09.628Z"
   },
   {
    "duration": 565,
    "start_time": "2022-07-24T18:13:10.090Z"
   },
   {
    "duration": 2,
    "start_time": "2022-07-24T18:13:10.657Z"
   },
   {
    "duration": 7,
    "start_time": "2022-07-24T18:13:10.660Z"
   },
   {
    "duration": 1248,
    "start_time": "2022-07-24T18:13:10.669Z"
   },
   {
    "duration": 134,
    "start_time": "2022-07-24T18:13:11.919Z"
   },
   {
    "duration": 3073,
    "start_time": "2022-07-24T18:13:12.054Z"
   },
   {
    "duration": 134,
    "start_time": "2022-07-24T18:13:15.129Z"
   },
   {
    "duration": 27175,
    "start_time": "2022-07-24T18:13:15.265Z"
   },
   {
    "duration": 132,
    "start_time": "2022-07-24T18:13:42.441Z"
   },
   {
    "duration": 6533,
    "start_time": "2022-07-24T18:13:42.575Z"
   },
   {
    "duration": 122,
    "start_time": "2022-07-24T18:13:49.110Z"
   },
   {
    "duration": 21,
    "start_time": "2022-07-24T18:13:49.234Z"
   },
   {
    "duration": 22,
    "start_time": "2022-07-24T18:13:49.257Z"
   },
   {
    "duration": 123,
    "start_time": "2022-07-24T18:13:49.303Z"
   },
   {
    "duration": 26,
    "start_time": "2022-07-24T18:13:49.428Z"
   },
   {
    "duration": 283,
    "start_time": "2022-07-24T18:13:49.455Z"
   },
   {
    "duration": 85,
    "start_time": "2022-07-24T18:13:49.740Z"
   },
   {
    "duration": 221,
    "start_time": "2022-07-24T18:13:49.828Z"
   },
   {
    "duration": 191,
    "start_time": "2022-07-24T18:13:50.053Z"
   },
   {
    "duration": 185,
    "start_time": "2022-07-24T18:13:50.246Z"
   },
   {
    "duration": 38,
    "start_time": "2022-07-24T18:13:50.433Z"
   },
   {
    "duration": 152,
    "start_time": "2022-07-24T18:13:50.473Z"
   },
   {
    "duration": 193,
    "start_time": "2022-07-24T18:13:50.627Z"
   },
   {
    "duration": 21,
    "start_time": "2022-07-24T18:13:50.822Z"
   },
   {
    "duration": 915,
    "start_time": "2022-07-24T18:13:50.845Z"
   },
   {
    "duration": 557,
    "start_time": "2022-07-24T18:13:51.762Z"
   },
   {
    "duration": 3154,
    "start_time": "2022-07-24T18:13:52.321Z"
   },
   {
    "duration": 58835,
    "start_time": "2022-07-24T18:13:55.477Z"
   },
   {
    "duration": 90,
    "start_time": "2022-07-24T18:14:54.316Z"
   },
   {
    "duration": 76883,
    "start_time": "2022-07-24T18:14:54.408Z"
   },
   {
    "duration": 13,
    "start_time": "2022-07-24T18:16:11.293Z"
   },
   {
    "duration": 871,
    "start_time": "2022-07-24T18:16:11.308Z"
   },
   {
    "duration": 7,
    "start_time": "2022-07-24T18:16:12.181Z"
   },
   {
    "duration": 131,
    "start_time": "2022-07-24T18:16:12.190Z"
   },
   {
    "duration": 2545,
    "start_time": "2022-07-24T18:16:12.325Z"
   },
   {
    "duration": 77,
    "start_time": "2022-07-24T18:16:14.872Z"
   },
   {
    "duration": 0,
    "start_time": "2022-07-24T18:16:14.950Z"
   },
   {
    "duration": 0,
    "start_time": "2022-07-24T18:16:14.952Z"
   },
   {
    "duration": 0,
    "start_time": "2022-07-24T18:16:14.953Z"
   },
   {
    "duration": 0,
    "start_time": "2022-07-24T18:16:14.954Z"
   },
   {
    "duration": 3,
    "start_time": "2022-07-24T18:16:39.570Z"
   },
   {
    "duration": 885,
    "start_time": "2022-07-24T18:16:40.997Z"
   },
   {
    "duration": 90,
    "start_time": "2022-07-24T18:16:43.167Z"
   },
   {
    "duration": 940,
    "start_time": "2022-07-24T18:17:10.518Z"
   },
   {
    "duration": 133,
    "start_time": "2022-07-24T18:17:12.410Z"
   },
   {
    "duration": 10,
    "start_time": "2022-07-24T18:17:16.857Z"
   },
   {
    "duration": 11,
    "start_time": "2022-07-24T18:17:51.618Z"
   },
   {
    "duration": 1482,
    "start_time": "2022-07-24T18:18:27.270Z"
   },
   {
    "duration": 898,
    "start_time": "2022-07-24T18:18:28.754Z"
   },
   {
    "duration": 113,
    "start_time": "2022-07-24T18:18:29.654Z"
   },
   {
    "duration": 135,
    "start_time": "2022-07-24T18:18:29.769Z"
   },
   {
    "duration": 148,
    "start_time": "2022-07-24T18:18:29.905Z"
   },
   {
    "duration": 6,
    "start_time": "2022-07-24T18:18:30.054Z"
   },
   {
    "duration": 9,
    "start_time": "2022-07-24T18:18:30.062Z"
   },
   {
    "duration": 49,
    "start_time": "2022-07-24T18:18:30.073Z"
   },
   {
    "duration": 532,
    "start_time": "2022-07-24T18:18:30.124Z"
   },
   {
    "duration": 562,
    "start_time": "2022-07-24T18:18:30.658Z"
   },
   {
    "duration": 3,
    "start_time": "2022-07-24T18:18:31.222Z"
   },
   {
    "duration": 64,
    "start_time": "2022-07-24T18:18:31.226Z"
   },
   {
    "duration": 1158,
    "start_time": "2022-07-24T18:18:31.292Z"
   },
   {
    "duration": 122,
    "start_time": "2022-07-24T18:18:32.452Z"
   },
   {
    "duration": 2705,
    "start_time": "2022-07-24T18:18:32.576Z"
   },
   {
    "duration": 138,
    "start_time": "2022-07-24T18:18:35.283Z"
   },
   {
    "duration": 23751,
    "start_time": "2022-07-24T18:18:35.423Z"
   },
   {
    "duration": 111,
    "start_time": "2022-07-24T18:18:59.176Z"
   },
   {
    "duration": 5959,
    "start_time": "2022-07-24T18:18:59.288Z"
   },
   {
    "duration": 113,
    "start_time": "2022-07-24T18:19:05.248Z"
   },
   {
    "duration": 20,
    "start_time": "2022-07-24T18:19:05.363Z"
   },
   {
    "duration": 40,
    "start_time": "2022-07-24T18:19:05.385Z"
   },
   {
    "duration": 106,
    "start_time": "2022-07-24T18:19:05.427Z"
   },
   {
    "duration": 21,
    "start_time": "2022-07-24T18:19:05.535Z"
   },
   {
    "duration": 301,
    "start_time": "2022-07-24T18:19:05.558Z"
   },
   {
    "duration": 77,
    "start_time": "2022-07-24T18:19:05.861Z"
   },
   {
    "duration": 193,
    "start_time": "2022-07-24T18:19:05.940Z"
   },
   {
    "duration": 145,
    "start_time": "2022-07-24T18:19:06.136Z"
   },
   {
    "duration": 152,
    "start_time": "2022-07-24T18:19:06.283Z"
   },
   {
    "duration": 45,
    "start_time": "2022-07-24T18:19:06.437Z"
   },
   {
    "duration": 163,
    "start_time": "2022-07-24T18:19:06.484Z"
   },
   {
    "duration": 196,
    "start_time": "2022-07-24T18:19:06.653Z"
   },
   {
    "duration": 25,
    "start_time": "2022-07-24T18:19:06.851Z"
   },
   {
    "duration": 859,
    "start_time": "2022-07-24T18:19:06.878Z"
   },
   {
    "duration": 568,
    "start_time": "2022-07-24T18:19:07.739Z"
   },
   {
    "duration": 2904,
    "start_time": "2022-07-24T18:19:08.309Z"
   },
   {
    "duration": 23190,
    "start_time": "2022-07-24T18:19:11.214Z"
   },
   {
    "duration": 4,
    "start_time": "2022-07-24T18:19:34.406Z"
   },
   {
    "duration": 30855,
    "start_time": "2022-07-24T18:19:34.411Z"
   },
   {
    "duration": 0,
    "start_time": "2022-07-24T18:20:05.267Z"
   },
   {
    "duration": 0,
    "start_time": "2022-07-24T18:20:05.269Z"
   },
   {
    "duration": 0,
    "start_time": "2022-07-24T18:20:05.269Z"
   },
   {
    "duration": 0,
    "start_time": "2022-07-24T18:20:05.270Z"
   },
   {
    "duration": 0,
    "start_time": "2022-07-24T18:20:05.271Z"
   },
   {
    "duration": 0,
    "start_time": "2022-07-24T18:20:05.272Z"
   },
   {
    "duration": 0,
    "start_time": "2022-07-24T18:20:05.273Z"
   },
   {
    "duration": 0,
    "start_time": "2022-07-24T18:20:05.274Z"
   },
   {
    "duration": 0,
    "start_time": "2022-07-24T18:20:05.275Z"
   },
   {
    "duration": 0,
    "start_time": "2022-07-24T18:20:05.277Z"
   },
   {
    "duration": 3929,
    "start_time": "2022-07-24T18:20:10.437Z"
   },
   {
    "duration": 1064,
    "start_time": "2022-07-24T18:20:44.622Z"
   },
   {
    "duration": 23,
    "start_time": "2022-07-24T18:20:49.601Z"
   },
   {
    "duration": 42,
    "start_time": "2022-07-24T18:20:56.986Z"
   },
   {
    "duration": 115,
    "start_time": "2022-07-24T18:21:04.572Z"
   },
   {
    "duration": 12820,
    "start_time": "2022-07-24T18:21:11.108Z"
   },
   {
    "duration": 1472,
    "start_time": "2022-07-24T18:22:41.551Z"
   },
   {
    "duration": 842,
    "start_time": "2022-07-24T18:22:43.024Z"
   },
   {
    "duration": 138,
    "start_time": "2022-07-24T18:22:43.867Z"
   },
   {
    "duration": 153,
    "start_time": "2022-07-24T18:22:44.007Z"
   },
   {
    "duration": 113,
    "start_time": "2022-07-24T18:22:44.162Z"
   },
   {
    "duration": 6,
    "start_time": "2022-07-24T18:22:44.276Z"
   },
   {
    "duration": 24,
    "start_time": "2022-07-24T18:22:44.284Z"
   },
   {
    "duration": 35,
    "start_time": "2022-07-24T18:22:44.310Z"
   },
   {
    "duration": 525,
    "start_time": "2022-07-24T18:22:44.347Z"
   },
   {
    "duration": 581,
    "start_time": "2022-07-24T18:22:44.876Z"
   },
   {
    "duration": 2,
    "start_time": "2022-07-24T18:22:45.459Z"
   },
   {
    "duration": 7,
    "start_time": "2022-07-24T18:22:45.463Z"
   },
   {
    "duration": 1134,
    "start_time": "2022-07-24T18:22:45.471Z"
   },
   {
    "duration": 219,
    "start_time": "2022-07-24T18:22:46.608Z"
   },
   {
    "duration": 2766,
    "start_time": "2022-07-24T18:22:46.829Z"
   },
   {
    "duration": 130,
    "start_time": "2022-07-24T18:22:49.604Z"
   },
   {
    "duration": 23958,
    "start_time": "2022-07-24T18:22:49.737Z"
   },
   {
    "duration": 111,
    "start_time": "2022-07-24T18:23:13.703Z"
   },
   {
    "duration": 6185,
    "start_time": "2022-07-24T18:23:13.816Z"
   },
   {
    "duration": 114,
    "start_time": "2022-07-24T18:23:20.005Z"
   },
   {
    "duration": 32,
    "start_time": "2022-07-24T18:23:20.121Z"
   },
   {
    "duration": 38,
    "start_time": "2022-07-24T18:23:20.156Z"
   },
   {
    "duration": 118,
    "start_time": "2022-07-24T18:23:20.204Z"
   },
   {
    "duration": 22,
    "start_time": "2022-07-24T18:23:20.325Z"
   },
   {
    "duration": 287,
    "start_time": "2022-07-24T18:23:20.349Z"
   },
   {
    "duration": 80,
    "start_time": "2022-07-24T18:23:20.638Z"
   },
   {
    "duration": 199,
    "start_time": "2022-07-24T18:23:20.720Z"
   },
   {
    "duration": 147,
    "start_time": "2022-07-24T18:23:20.922Z"
   },
   {
    "duration": 165,
    "start_time": "2022-07-24T18:23:21.071Z"
   },
   {
    "duration": 37,
    "start_time": "2022-07-24T18:23:21.237Z"
   },
   {
    "duration": 122,
    "start_time": "2022-07-24T18:23:21.276Z"
   },
   {
    "duration": 182,
    "start_time": "2022-07-24T18:23:21.403Z"
   },
   {
    "duration": 25,
    "start_time": "2022-07-24T18:23:21.587Z"
   },
   {
    "duration": 883,
    "start_time": "2022-07-24T18:23:21.614Z"
   },
   {
    "duration": 554,
    "start_time": "2022-07-24T18:23:22.499Z"
   },
   {
    "duration": 3035,
    "start_time": "2022-07-24T18:23:23.055Z"
   },
   {
    "duration": 26217,
    "start_time": "2022-07-24T18:23:26.092Z"
   },
   {
    "duration": 94,
    "start_time": "2022-07-24T18:23:52.311Z"
   },
   {
    "duration": 75523,
    "start_time": "2022-07-24T18:23:52.408Z"
   },
   {
    "duration": 3,
    "start_time": "2022-07-24T18:25:07.933Z"
   },
   {
    "duration": 791,
    "start_time": "2022-07-24T18:25:07.938Z"
   },
   {
    "duration": 5,
    "start_time": "2022-07-24T18:25:08.733Z"
   },
   {
    "duration": 127,
    "start_time": "2022-07-24T18:25:08.740Z"
   },
   {
    "duration": 2543,
    "start_time": "2022-07-24T18:25:08.869Z"
   },
   {
    "duration": 3,
    "start_time": "2022-07-24T18:25:11.414Z"
   },
   {
    "duration": 992,
    "start_time": "2022-07-24T18:25:11.418Z"
   },
   {
    "duration": 21,
    "start_time": "2022-07-24T18:25:12.411Z"
   },
   {
    "duration": 103,
    "start_time": "2022-07-24T18:25:12.433Z"
   },
   {
    "duration": 3,
    "start_time": "2022-07-24T18:25:12.537Z"
   },
   {
    "duration": 34668,
    "start_time": "2022-07-24T18:25:12.542Z"
   },
   {
    "duration": 206109,
    "start_time": "2022-07-24T18:28:57.008Z"
   },
   {
    "duration": 0,
    "start_time": "2022-07-24T18:32:23.120Z"
   },
   {
    "duration": 41,
    "start_time": "2022-07-24T18:32:28.640Z"
   },
   {
    "duration": 28,
    "start_time": "2022-07-24T18:32:31.223Z"
   },
   {
    "duration": 81,
    "start_time": "2022-07-24T18:32:35.540Z"
   },
   {
    "duration": 6923,
    "start_time": "2022-07-24T18:32:38.110Z"
   },
   {
    "duration": 280479,
    "start_time": "2022-07-24T18:37:53.950Z"
   },
   {
    "duration": 12,
    "start_time": "2022-07-24T18:58:28.894Z"
   },
   {
    "duration": 12704,
    "start_time": "2022-07-24T18:59:09.626Z"
   },
   {
    "duration": 15214,
    "start_time": "2022-07-24T18:59:35.919Z"
   },
   {
    "duration": 2159,
    "start_time": "2022-07-24T19:05:14.256Z"
   },
   {
    "duration": 1476,
    "start_time": "2022-07-24T19:05:56.227Z"
   },
   {
    "duration": 888,
    "start_time": "2022-07-24T19:05:57.705Z"
   },
   {
    "duration": 141,
    "start_time": "2022-07-24T19:05:58.595Z"
   },
   {
    "duration": 135,
    "start_time": "2022-07-24T19:05:58.739Z"
   },
   {
    "duration": 112,
    "start_time": "2022-07-24T19:05:58.876Z"
   },
   {
    "duration": 15,
    "start_time": "2022-07-24T19:05:58.989Z"
   },
   {
    "duration": 28,
    "start_time": "2022-07-24T19:05:59.006Z"
   },
   {
    "duration": 505,
    "start_time": "2022-07-24T19:05:59.036Z"
   },
   {
    "duration": 529,
    "start_time": "2022-07-24T19:05:59.543Z"
   },
   {
    "duration": 136,
    "start_time": "2022-07-24T19:06:00.075Z"
   },
   {
    "duration": 32,
    "start_time": "2022-07-24T19:06:00.213Z"
   },
   {
    "duration": 75,
    "start_time": "2022-07-24T19:06:00.247Z"
   },
   {
    "duration": 2,
    "start_time": "2022-07-24T19:06:00.324Z"
   },
   {
    "duration": 27,
    "start_time": "2022-07-24T19:06:00.328Z"
   },
   {
    "duration": 1050,
    "start_time": "2022-07-24T19:06:00.357Z"
   },
   {
    "duration": 111,
    "start_time": "2022-07-24T19:06:01.409Z"
   },
   {
    "duration": 2044,
    "start_time": "2022-07-24T19:06:01.522Z"
   },
   {
    "duration": 105,
    "start_time": "2022-07-24T19:06:03.568Z"
   },
   {
    "duration": 20501,
    "start_time": "2022-07-24T19:06:03.675Z"
   },
   {
    "duration": 104,
    "start_time": "2022-07-24T19:06:24.178Z"
   },
   {
    "duration": 5421,
    "start_time": "2022-07-24T19:06:24.284Z"
   },
   {
    "duration": 118,
    "start_time": "2022-07-24T19:06:29.707Z"
   },
   {
    "duration": 19,
    "start_time": "2022-07-24T19:06:29.827Z"
   },
   {
    "duration": 30,
    "start_time": "2022-07-24T19:06:29.848Z"
   },
   {
    "duration": 134,
    "start_time": "2022-07-24T19:06:29.881Z"
   },
   {
    "duration": 252,
    "start_time": "2022-07-24T19:06:30.017Z"
   },
   {
    "duration": 82,
    "start_time": "2022-07-24T19:06:30.271Z"
   },
   {
    "duration": 290,
    "start_time": "2022-07-24T19:06:30.357Z"
   },
   {
    "duration": 141,
    "start_time": "2022-07-24T19:06:30.648Z"
   },
   {
    "duration": 961,
    "start_time": "2022-07-24T19:06:30.791Z"
   },
   {
    "duration": 554,
    "start_time": "2022-07-24T19:06:31.754Z"
   },
   {
    "duration": 3056,
    "start_time": "2022-07-24T19:06:32.310Z"
   },
   {
    "duration": 23141,
    "start_time": "2022-07-24T19:06:35.368Z"
   },
   {
    "duration": 3,
    "start_time": "2022-07-24T19:06:58.512Z"
   },
   {
    "duration": 76878,
    "start_time": "2022-07-24T19:06:58.603Z"
   },
   {
    "duration": 2,
    "start_time": "2022-07-24T19:08:15.483Z"
   },
   {
    "duration": 888,
    "start_time": "2022-07-24T19:08:15.487Z"
   },
   {
    "duration": 4,
    "start_time": "2022-07-24T19:08:16.377Z"
   },
   {
    "duration": 109,
    "start_time": "2022-07-24T19:08:16.382Z"
   },
   {
    "duration": 2370,
    "start_time": "2022-07-24T19:08:16.493Z"
   },
   {
    "duration": 156,
    "start_time": "2022-07-24T19:08:18.865Z"
   },
   {
    "duration": 25,
    "start_time": "2022-07-24T19:08:19.023Z"
   },
   {
    "duration": 83,
    "start_time": "2022-07-24T19:08:19.050Z"
   },
   {
    "duration": 152985,
    "start_time": "2022-07-24T19:08:19.135Z"
   },
   {
    "duration": 16199,
    "start_time": "2022-07-24T19:10:52.121Z"
   },
   {
    "duration": 1527,
    "start_time": "2022-07-25T09:01:15.595Z"
   },
   {
    "duration": 3135,
    "start_time": "2022-07-25T09:01:17.124Z"
   },
   {
    "duration": 101,
    "start_time": "2022-07-25T09:01:20.260Z"
   },
   {
    "duration": 99,
    "start_time": "2022-07-25T09:01:20.363Z"
   },
   {
    "duration": 76,
    "start_time": "2022-07-25T09:01:20.464Z"
   },
   {
    "duration": 11,
    "start_time": "2022-07-25T09:01:20.542Z"
   },
   {
    "duration": 8,
    "start_time": "2022-07-25T09:01:20.555Z"
   },
   {
    "duration": 435,
    "start_time": "2022-07-25T09:01:20.565Z"
   },
   {
    "duration": 439,
    "start_time": "2022-07-25T09:01:21.001Z"
   },
   {
    "duration": 103,
    "start_time": "2022-07-25T09:01:21.443Z"
   },
   {
    "duration": 26,
    "start_time": "2022-07-25T09:01:21.552Z"
   },
   {
    "duration": 50,
    "start_time": "2022-07-25T09:01:21.579Z"
   },
   {
    "duration": 3,
    "start_time": "2022-07-25T09:01:21.630Z"
   },
   {
    "duration": 19,
    "start_time": "2022-07-25T09:01:21.634Z"
   },
   {
    "duration": 986,
    "start_time": "2022-07-25T09:01:21.655Z"
   },
   {
    "duration": 93,
    "start_time": "2022-07-25T09:01:22.643Z"
   },
   {
    "duration": 1930,
    "start_time": "2022-07-25T09:01:22.738Z"
   },
   {
    "duration": 104,
    "start_time": "2022-07-25T09:01:24.670Z"
   },
   {
    "duration": 17996,
    "start_time": "2022-07-25T09:01:24.776Z"
   },
   {
    "duration": 91,
    "start_time": "2022-07-25T09:01:42.773Z"
   },
   {
    "duration": 4599,
    "start_time": "2022-07-25T09:01:42.866Z"
   },
   {
    "duration": 96,
    "start_time": "2022-07-25T09:01:47.467Z"
   },
   {
    "duration": 17,
    "start_time": "2022-07-25T09:01:47.565Z"
   },
   {
    "duration": 23,
    "start_time": "2022-07-25T09:01:47.584Z"
   },
   {
    "duration": 107,
    "start_time": "2022-07-25T09:01:47.608Z"
   },
   {
    "duration": 204,
    "start_time": "2022-07-25T09:01:47.716Z"
   },
   {
    "duration": 70,
    "start_time": "2022-07-25T09:01:47.921Z"
   },
   {
    "duration": 169,
    "start_time": "2022-07-25T09:01:47.995Z"
   },
   {
    "duration": 135,
    "start_time": "2022-07-25T09:01:48.166Z"
   },
   {
    "duration": 834,
    "start_time": "2022-07-25T09:01:48.302Z"
   },
   {
    "duration": 527,
    "start_time": "2022-07-25T09:01:49.137Z"
   },
   {
    "duration": 2841,
    "start_time": "2022-07-25T09:01:49.665Z"
   },
   {
    "duration": 19947,
    "start_time": "2022-07-25T09:01:52.508Z"
   },
   {
    "duration": 80846,
    "start_time": "2022-07-25T09:02:12.456Z"
   },
   {
    "duration": 3,
    "start_time": "2022-07-25T09:03:33.303Z"
   },
   {
    "duration": 729,
    "start_time": "2022-07-25T09:03:33.307Z"
   },
   {
    "duration": 3,
    "start_time": "2022-07-25T09:03:34.037Z"
   },
   {
    "duration": 105,
    "start_time": "2022-07-25T09:03:34.052Z"
   },
   {
    "duration": 18635,
    "start_time": "2022-07-25T09:03:34.159Z"
   },
   {
    "duration": 0,
    "start_time": "2022-07-25T09:03:52.796Z"
   },
   {
    "duration": 0,
    "start_time": "2022-07-25T09:03:52.797Z"
   },
   {
    "duration": 0,
    "start_time": "2022-07-25T09:03:52.798Z"
   },
   {
    "duration": 0,
    "start_time": "2022-07-25T09:03:52.799Z"
   },
   {
    "duration": 0,
    "start_time": "2022-07-25T09:03:52.800Z"
   },
   {
    "duration": 0,
    "start_time": "2022-07-25T09:03:52.801Z"
   },
   {
    "duration": 33,
    "start_time": "2022-07-25T09:09:00.121Z"
   },
   {
    "duration": 18637,
    "start_time": "2022-07-25T09:09:09.280Z"
   },
   {
    "duration": 17940,
    "start_time": "2022-07-25T09:11:44.809Z"
   },
   {
    "duration": 11,
    "start_time": "2022-07-25T09:13:50.836Z"
   },
   {
    "duration": 12,
    "start_time": "2022-07-25T09:14:06.041Z"
   },
   {
    "duration": 10,
    "start_time": "2022-07-25T09:14:30.258Z"
   },
   {
    "duration": 12,
    "start_time": "2022-07-25T09:16:07.828Z"
   },
   {
    "duration": 2243,
    "start_time": "2022-07-25T09:16:20.125Z"
   },
   {
    "duration": 11,
    "start_time": "2022-07-25T09:16:45.602Z"
   },
   {
    "duration": 363928,
    "start_time": "2022-07-25T09:17:24.790Z"
   },
   {
    "duration": 75,
    "start_time": "2022-07-25T09:23:39.059Z"
   },
   {
    "duration": 0,
    "start_time": "2022-07-25T09:24:32.600Z"
   },
   {
    "duration": 21487,
    "start_time": "2022-07-25T09:24:35.173Z"
   },
   {
    "duration": 81,
    "start_time": "2022-07-25T09:26:46.957Z"
   },
   {
    "duration": 24225,
    "start_time": "2022-07-25T09:27:17.264Z"
   },
   {
    "duration": 1005720,
    "start_time": "2022-07-25T09:27:43.106Z"
   },
   {
    "duration": 170,
    "start_time": "2022-07-25T09:44:41.958Z"
   },
   {
    "duration": 91,
    "start_time": "2022-07-25T09:44:50.146Z"
   },
   {
    "duration": 148906,
    "start_time": "2022-07-25T09:46:09.011Z"
   },
   {
    "duration": 339842,
    "start_time": "2022-07-25T09:55:11.068Z"
   },
   {
    "duration": 83512,
    "start_time": "2022-07-25T10:00:52.674Z"
   },
   {
    "duration": 1377,
    "start_time": "2022-07-25T10:03:11.911Z"
   },
   {
    "duration": 752,
    "start_time": "2022-07-25T10:03:13.289Z"
   },
   {
    "duration": 130,
    "start_time": "2022-07-25T10:03:14.043Z"
   },
   {
    "duration": 111,
    "start_time": "2022-07-25T10:03:14.177Z"
   },
   {
    "duration": 96,
    "start_time": "2022-07-25T10:03:14.289Z"
   },
   {
    "duration": 5,
    "start_time": "2022-07-25T10:03:14.386Z"
   },
   {
    "duration": 9,
    "start_time": "2022-07-25T10:03:14.393Z"
   },
   {
    "duration": 458,
    "start_time": "2022-07-25T10:03:14.403Z"
   },
   {
    "duration": 479,
    "start_time": "2022-07-25T10:03:14.863Z"
   },
   {
    "duration": 124,
    "start_time": "2022-07-25T10:03:15.344Z"
   },
   {
    "duration": 30,
    "start_time": "2022-07-25T10:03:15.469Z"
   },
   {
    "duration": 64,
    "start_time": "2022-07-25T10:03:15.501Z"
   },
   {
    "duration": 6,
    "start_time": "2022-07-25T10:03:15.567Z"
   },
   {
    "duration": 5,
    "start_time": "2022-07-25T10:03:15.575Z"
   },
   {
    "duration": 1151,
    "start_time": "2022-07-25T10:03:15.581Z"
   },
   {
    "duration": 103,
    "start_time": "2022-07-25T10:03:16.734Z"
   },
   {
    "duration": 2115,
    "start_time": "2022-07-25T10:03:16.839Z"
   },
   {
    "duration": 111,
    "start_time": "2022-07-25T10:03:18.956Z"
   },
   {
    "duration": 19618,
    "start_time": "2022-07-25T10:03:19.069Z"
   },
   {
    "duration": 113,
    "start_time": "2022-07-25T10:03:38.689Z"
   },
   {
    "duration": 5038,
    "start_time": "2022-07-25T10:03:38.804Z"
   },
   {
    "duration": 93,
    "start_time": "2022-07-25T10:03:43.844Z"
   },
   {
    "duration": 25,
    "start_time": "2022-07-25T10:03:43.938Z"
   },
   {
    "duration": 20,
    "start_time": "2022-07-25T10:03:43.967Z"
   },
   {
    "duration": 111,
    "start_time": "2022-07-25T10:03:43.989Z"
   },
   {
    "duration": 215,
    "start_time": "2022-07-25T10:03:44.101Z"
   },
   {
    "duration": 78,
    "start_time": "2022-07-25T10:03:44.318Z"
   },
   {
    "duration": 175,
    "start_time": "2022-07-25T10:03:44.399Z"
   },
   {
    "duration": 130,
    "start_time": "2022-07-25T10:03:44.576Z"
   },
   {
    "duration": 832,
    "start_time": "2022-07-25T10:03:44.707Z"
   },
   {
    "duration": 535,
    "start_time": "2022-07-25T10:03:45.541Z"
   },
   {
    "duration": 2844,
    "start_time": "2022-07-25T10:03:46.081Z"
   },
   {
    "duration": 58226,
    "start_time": "2022-07-25T10:03:48.927Z"
   },
   {
    "duration": 71707,
    "start_time": "2022-07-25T10:04:47.158Z"
   },
   {
    "duration": 3,
    "start_time": "2022-07-25T10:05:58.867Z"
   },
   {
    "duration": 793,
    "start_time": "2022-07-25T10:05:58.871Z"
   },
   {
    "duration": 4,
    "start_time": "2022-07-25T10:05:59.666Z"
   },
   {
    "duration": 122,
    "start_time": "2022-07-25T10:05:59.671Z"
   },
   {
    "duration": 1447206,
    "start_time": "2022-07-25T10:05:59.795Z"
   },
   {
    "duration": 2770,
    "start_time": "2022-07-25T10:30:07.003Z"
   },
   {
    "duration": 149,
    "start_time": "2022-07-25T10:30:09.775Z"
   },
   {
    "duration": 27,
    "start_time": "2022-07-25T10:30:09.926Z"
   },
   {
    "duration": 75,
    "start_time": "2022-07-25T10:30:09.959Z"
   },
   {
    "duration": 6242054,
    "start_time": "2022-07-25T10:30:10.036Z"
   },
   {
    "duration": 380697,
    "start_time": "2022-07-25T12:14:12.092Z"
   },
   {
    "duration": 6,
    "start_time": "2022-07-25T12:20:32.792Z"
   },
   {
    "duration": 5,
    "start_time": "2022-07-25T12:27:07.960Z"
   },
   {
    "duration": 17927,
    "start_time": "2022-07-25T12:27:13.779Z"
   },
   {
    "duration": 114,
    "start_time": "2022-07-25T13:23:33.469Z"
   },
   {
    "duration": 126,
    "start_time": "2022-07-25T13:23:57.977Z"
   },
   {
    "duration": 11,
    "start_time": "2022-07-25T13:24:16.026Z"
   },
   {
    "duration": 86,
    "start_time": "2022-07-26T11:32:21.754Z"
   },
   {
    "duration": 1767,
    "start_time": "2022-07-26T11:32:30.625Z"
   },
   {
    "duration": 1188,
    "start_time": "2022-07-26T11:32:32.395Z"
   },
   {
    "duration": 128,
    "start_time": "2022-07-26T11:32:33.584Z"
   },
   {
    "duration": 147,
    "start_time": "2022-07-26T11:32:33.715Z"
   },
   {
    "duration": 116,
    "start_time": "2022-07-26T11:32:33.864Z"
   },
   {
    "duration": 8,
    "start_time": "2022-07-26T11:32:33.981Z"
   },
   {
    "duration": 25,
    "start_time": "2022-07-26T11:32:33.991Z"
   },
   {
    "duration": 493,
    "start_time": "2022-07-26T11:32:34.017Z"
   },
   {
    "duration": 503,
    "start_time": "2022-07-26T11:32:34.512Z"
   },
   {
    "duration": 24,
    "start_time": "2022-07-26T11:32:35.018Z"
   },
   {
    "duration": 122,
    "start_time": "2022-07-26T11:32:35.044Z"
   },
   {
    "duration": 39,
    "start_time": "2022-07-26T11:32:35.169Z"
   },
   {
    "duration": 80,
    "start_time": "2022-07-26T11:32:35.210Z"
   },
   {
    "duration": 3,
    "start_time": "2022-07-26T11:32:35.292Z"
   },
   {
    "duration": 51,
    "start_time": "2022-07-26T11:32:35.297Z"
   },
   {
    "duration": 1130,
    "start_time": "2022-07-26T11:32:35.350Z"
   },
   {
    "duration": 215,
    "start_time": "2022-07-26T11:32:36.483Z"
   },
   {
    "duration": 1984,
    "start_time": "2022-07-26T11:32:36.701Z"
   },
   {
    "duration": 11885,
    "start_time": "2022-07-26T11:32:38.687Z"
   },
   {
    "duration": 0,
    "start_time": "2022-07-26T11:32:50.574Z"
   },
   {
    "duration": 0,
    "start_time": "2022-07-26T11:32:50.575Z"
   },
   {
    "duration": 0,
    "start_time": "2022-07-26T11:32:50.576Z"
   },
   {
    "duration": 0,
    "start_time": "2022-07-26T11:32:50.577Z"
   },
   {
    "duration": 0,
    "start_time": "2022-07-26T11:32:50.578Z"
   },
   {
    "duration": 0,
    "start_time": "2022-07-26T11:32:50.579Z"
   },
   {
    "duration": 0,
    "start_time": "2022-07-26T11:32:50.580Z"
   },
   {
    "duration": 0,
    "start_time": "2022-07-26T11:32:50.582Z"
   },
   {
    "duration": 0,
    "start_time": "2022-07-26T11:32:50.583Z"
   },
   {
    "duration": 0,
    "start_time": "2022-07-26T11:32:50.584Z"
   },
   {
    "duration": 0,
    "start_time": "2022-07-26T11:32:50.585Z"
   },
   {
    "duration": 0,
    "start_time": "2022-07-26T11:32:50.587Z"
   },
   {
    "duration": 0,
    "start_time": "2022-07-26T11:32:50.588Z"
   },
   {
    "duration": 0,
    "start_time": "2022-07-26T11:32:50.589Z"
   },
   {
    "duration": 0,
    "start_time": "2022-07-26T11:32:50.590Z"
   },
   {
    "duration": 0,
    "start_time": "2022-07-26T11:32:50.591Z"
   },
   {
    "duration": 0,
    "start_time": "2022-07-26T11:32:50.592Z"
   },
   {
    "duration": 0,
    "start_time": "2022-07-26T11:32:50.594Z"
   },
   {
    "duration": 0,
    "start_time": "2022-07-26T11:32:50.595Z"
   },
   {
    "duration": 0,
    "start_time": "2022-07-26T11:32:50.596Z"
   },
   {
    "duration": 0,
    "start_time": "2022-07-26T11:32:50.597Z"
   },
   {
    "duration": 0,
    "start_time": "2022-07-26T11:32:50.598Z"
   },
   {
    "duration": 0,
    "start_time": "2022-07-26T11:32:50.599Z"
   },
   {
    "duration": 0,
    "start_time": "2022-07-26T11:32:50.600Z"
   },
   {
    "duration": 28,
    "start_time": "2022-07-26T11:34:03.324Z"
   },
   {
    "duration": 21,
    "start_time": "2022-07-26T11:34:17.777Z"
   },
   {
    "duration": 19004,
    "start_time": "2022-07-26T11:35:24.532Z"
   },
   {
    "duration": 1781,
    "start_time": "2022-07-28T14:06:08.737Z"
   },
   {
    "duration": 1254,
    "start_time": "2022-07-28T14:06:10.522Z"
   },
   {
    "duration": 121,
    "start_time": "2022-07-28T14:06:11.778Z"
   },
   {
    "duration": 142,
    "start_time": "2022-07-28T14:06:11.901Z"
   },
   {
    "duration": 114,
    "start_time": "2022-07-28T14:06:12.045Z"
   },
   {
    "duration": 6,
    "start_time": "2022-07-28T14:06:12.161Z"
   },
   {
    "duration": 9,
    "start_time": "2022-07-28T14:06:12.168Z"
   },
   {
    "duration": 559,
    "start_time": "2022-07-28T14:06:12.179Z"
   },
   {
    "duration": 535,
    "start_time": "2022-07-28T14:06:12.740Z"
   },
   {
    "duration": 27,
    "start_time": "2022-07-28T14:06:13.279Z"
   },
   {
    "duration": 141,
    "start_time": "2022-07-28T14:06:13.308Z"
   },
   {
    "duration": 30,
    "start_time": "2022-07-28T14:06:13.452Z"
   },
   {
    "duration": 78,
    "start_time": "2022-07-28T14:06:13.484Z"
   },
   {
    "duration": 3,
    "start_time": "2022-07-28T14:06:13.564Z"
   },
   {
    "duration": 6,
    "start_time": "2022-07-28T14:06:13.568Z"
   },
   {
    "duration": 1161,
    "start_time": "2022-07-28T14:06:13.576Z"
   },
   {
    "duration": 116,
    "start_time": "2022-07-28T14:06:14.739Z"
   },
   {
    "duration": 2313,
    "start_time": "2022-07-28T14:06:14.857Z"
   },
   {
    "duration": 21318,
    "start_time": "2022-07-28T14:06:17.172Z"
   },
   {
    "duration": 5659,
    "start_time": "2022-07-28T14:06:38.492Z"
   },
   {
    "duration": 20,
    "start_time": "2022-07-28T14:06:44.152Z"
   },
   {
    "duration": 23,
    "start_time": "2022-07-28T14:06:44.174Z"
   },
   {
    "duration": 133,
    "start_time": "2022-07-28T14:06:44.200Z"
   },
   {
    "duration": 225,
    "start_time": "2022-07-28T14:06:44.334Z"
   },
   {
    "duration": 77,
    "start_time": "2022-07-28T14:06:44.561Z"
   },
   {
    "duration": 198,
    "start_time": "2022-07-28T14:06:44.639Z"
   },
   {
    "duration": 144,
    "start_time": "2022-07-28T14:06:44.839Z"
   },
   {
    "duration": 850,
    "start_time": "2022-07-28T14:06:44.986Z"
   },
   {
    "duration": 547,
    "start_time": "2022-07-28T14:06:45.837Z"
   },
   {
    "duration": 4398,
    "start_time": "2022-07-28T14:06:46.386Z"
   },
   {
    "duration": 46839,
    "start_time": "2022-07-28T14:06:50.786Z"
   },
   {
    "duration": 129560,
    "start_time": "2022-07-28T14:07:37.634Z"
   },
   {
    "duration": 4,
    "start_time": "2022-07-28T14:09:47.195Z"
   },
   {
    "duration": 792,
    "start_time": "2022-07-28T14:09:47.200Z"
   },
   {
    "duration": 113,
    "start_time": "2022-07-28T14:09:47.994Z"
   },
   {
    "duration": 1827,
    "start_time": "2022-07-28T14:20:58.642Z"
   },
   {
    "duration": 1558,
    "start_time": "2022-07-28T14:21:00.471Z"
   },
   {
    "duration": 160,
    "start_time": "2022-07-28T14:21:02.031Z"
   },
   {
    "duration": 157,
    "start_time": "2022-07-28T14:21:02.194Z"
   },
   {
    "duration": 114,
    "start_time": "2022-07-28T14:21:02.353Z"
   },
   {
    "duration": 6,
    "start_time": "2022-07-28T14:21:02.468Z"
   },
   {
    "duration": 13,
    "start_time": "2022-07-28T14:21:02.476Z"
   },
   {
    "duration": 567,
    "start_time": "2022-07-28T14:21:02.491Z"
   },
   {
    "duration": 543,
    "start_time": "2022-07-28T14:21:03.060Z"
   },
   {
    "duration": 44,
    "start_time": "2022-07-28T14:21:03.607Z"
   },
   {
    "duration": 71,
    "start_time": "2022-07-28T14:21:03.654Z"
   },
   {
    "duration": 53,
    "start_time": "2022-07-28T14:21:03.727Z"
   },
   {
    "duration": 177,
    "start_time": "2022-07-28T14:21:03.782Z"
   },
   {
    "duration": 34,
    "start_time": "2022-07-28T14:21:03.961Z"
   },
   {
    "duration": 76,
    "start_time": "2022-07-28T14:21:03.997Z"
   },
   {
    "duration": 3,
    "start_time": "2022-07-28T14:21:04.075Z"
   },
   {
    "duration": 8,
    "start_time": "2022-07-28T14:21:04.080Z"
   },
   {
    "duration": 1229,
    "start_time": "2022-07-28T14:21:04.089Z"
   },
   {
    "duration": 132,
    "start_time": "2022-07-28T14:21:05.322Z"
   },
   {
    "duration": 2323,
    "start_time": "2022-07-28T14:21:05.456Z"
   },
   {
    "duration": 22829,
    "start_time": "2022-07-28T14:21:07.781Z"
   },
   {
    "duration": 5853,
    "start_time": "2022-07-28T14:21:30.613Z"
   },
   {
    "duration": 21,
    "start_time": "2022-07-28T14:21:36.468Z"
   },
   {
    "duration": 32,
    "start_time": "2022-07-28T14:21:36.491Z"
   },
   {
    "duration": 135,
    "start_time": "2022-07-28T14:21:36.525Z"
   },
   {
    "duration": 237,
    "start_time": "2022-07-28T14:21:36.662Z"
   },
   {
    "duration": 91,
    "start_time": "2022-07-28T14:21:36.901Z"
   },
   {
    "duration": 195,
    "start_time": "2022-07-28T14:21:36.996Z"
   },
   {
    "duration": 145,
    "start_time": "2022-07-28T14:21:37.193Z"
   },
   {
    "duration": 827,
    "start_time": "2022-07-28T14:21:37.349Z"
   },
   {
    "duration": 615,
    "start_time": "2022-07-28T14:21:38.178Z"
   },
   {
    "duration": 3333,
    "start_time": "2022-07-28T14:21:38.795Z"
   },
   {
    "duration": 1694,
    "start_time": "2022-07-28T14:23:10.769Z"
   },
   {
    "duration": 926,
    "start_time": "2022-07-28T14:23:12.465Z"
   },
   {
    "duration": 145,
    "start_time": "2022-07-28T14:23:13.393Z"
   },
   {
    "duration": 127,
    "start_time": "2022-07-28T14:23:13.544Z"
   },
   {
    "duration": 109,
    "start_time": "2022-07-28T14:23:13.673Z"
   },
   {
    "duration": 5,
    "start_time": "2022-07-28T14:23:13.784Z"
   },
   {
    "duration": 12,
    "start_time": "2022-07-28T14:23:13.791Z"
   },
   {
    "duration": 542,
    "start_time": "2022-07-28T14:23:13.805Z"
   },
   {
    "duration": 505,
    "start_time": "2022-07-28T14:23:14.349Z"
   },
   {
    "duration": 23,
    "start_time": "2022-07-28T14:23:14.857Z"
   },
   {
    "duration": 23,
    "start_time": "2022-07-28T14:23:14.882Z"
   },
   {
    "duration": 56,
    "start_time": "2022-07-28T14:23:14.906Z"
   },
   {
    "duration": 136,
    "start_time": "2022-07-28T14:23:14.964Z"
   },
   {
    "duration": 36,
    "start_time": "2022-07-28T14:23:15.101Z"
   },
   {
    "duration": 65,
    "start_time": "2022-07-28T14:23:15.138Z"
   },
   {
    "duration": 3,
    "start_time": "2022-07-28T14:23:15.205Z"
   },
   {
    "duration": 31,
    "start_time": "2022-07-28T14:23:15.210Z"
   },
   {
    "duration": 1164,
    "start_time": "2022-07-28T14:23:15.243Z"
   },
   {
    "duration": 134,
    "start_time": "2022-07-28T14:23:16.409Z"
   },
   {
    "duration": 2262,
    "start_time": "2022-07-28T14:23:16.545Z"
   },
   {
    "duration": 11510,
    "start_time": "2022-07-28T14:23:18.809Z"
   },
   {
    "duration": 0,
    "start_time": "2022-07-28T14:23:30.321Z"
   },
   {
    "duration": 0,
    "start_time": "2022-07-28T14:23:30.322Z"
   },
   {
    "duration": 0,
    "start_time": "2022-07-28T14:23:30.323Z"
   },
   {
    "duration": 0,
    "start_time": "2022-07-28T14:23:30.323Z"
   },
   {
    "duration": 0,
    "start_time": "2022-07-28T14:23:30.324Z"
   },
   {
    "duration": 0,
    "start_time": "2022-07-28T14:23:30.327Z"
   },
   {
    "duration": 0,
    "start_time": "2022-07-28T14:23:30.328Z"
   },
   {
    "duration": 0,
    "start_time": "2022-07-28T14:23:30.329Z"
   },
   {
    "duration": 0,
    "start_time": "2022-07-28T14:23:30.330Z"
   },
   {
    "duration": 0,
    "start_time": "2022-07-28T14:23:30.330Z"
   },
   {
    "duration": 0,
    "start_time": "2022-07-28T14:23:30.331Z"
   },
   {
    "duration": 0,
    "start_time": "2022-07-28T14:23:30.332Z"
   },
   {
    "duration": 0,
    "start_time": "2022-07-28T14:23:30.332Z"
   },
   {
    "duration": 0,
    "start_time": "2022-07-28T14:23:30.333Z"
   },
   {
    "duration": 0,
    "start_time": "2022-07-28T14:23:30.334Z"
   },
   {
    "duration": 0,
    "start_time": "2022-07-28T14:23:30.337Z"
   },
   {
    "duration": 0,
    "start_time": "2022-07-28T14:23:30.338Z"
   },
   {
    "duration": 0,
    "start_time": "2022-07-28T14:23:30.338Z"
   },
   {
    "duration": 0,
    "start_time": "2022-07-28T14:23:30.339Z"
   },
   {
    "duration": 0,
    "start_time": "2022-07-28T14:23:30.343Z"
   },
   {
    "duration": 0,
    "start_time": "2022-07-28T14:23:30.348Z"
   },
   {
    "duration": 0,
    "start_time": "2022-07-28T14:23:30.350Z"
   },
   {
    "duration": 0,
    "start_time": "2022-07-28T14:23:30.351Z"
   },
   {
    "duration": 0,
    "start_time": "2022-07-28T14:23:30.352Z"
   },
   {
    "duration": 1585,
    "start_time": "2022-07-28T14:26:56.846Z"
   },
   {
    "duration": 1038,
    "start_time": "2022-07-28T14:26:58.433Z"
   },
   {
    "duration": 132,
    "start_time": "2022-07-28T14:26:59.473Z"
   },
   {
    "duration": 199,
    "start_time": "2022-07-28T14:26:59.608Z"
   },
   {
    "duration": 129,
    "start_time": "2022-07-28T14:26:59.809Z"
   },
   {
    "duration": 9,
    "start_time": "2022-07-28T14:26:59.942Z"
   },
   {
    "duration": 11,
    "start_time": "2022-07-28T14:26:59.953Z"
   },
   {
    "duration": 573,
    "start_time": "2022-07-28T14:26:59.966Z"
   },
   {
    "duration": 543,
    "start_time": "2022-07-28T14:27:00.543Z"
   },
   {
    "duration": 42,
    "start_time": "2022-07-28T14:27:01.089Z"
   },
   {
    "duration": 49,
    "start_time": "2022-07-28T14:27:01.132Z"
   },
   {
    "duration": 41,
    "start_time": "2022-07-28T14:27:01.183Z"
   },
   {
    "duration": 48,
    "start_time": "2022-07-28T14:27:01.235Z"
   },
   {
    "duration": 64,
    "start_time": "2022-07-28T14:27:01.285Z"
   },
   {
    "duration": 0,
    "start_time": "2022-07-28T14:27:01.352Z"
   },
   {
    "duration": 0,
    "start_time": "2022-07-28T14:27:01.354Z"
   },
   {
    "duration": 0,
    "start_time": "2022-07-28T14:27:01.355Z"
   },
   {
    "duration": 0,
    "start_time": "2022-07-28T14:27:01.357Z"
   },
   {
    "duration": 0,
    "start_time": "2022-07-28T14:27:01.358Z"
   },
   {
    "duration": 0,
    "start_time": "2022-07-28T14:27:01.359Z"
   },
   {
    "duration": 0,
    "start_time": "2022-07-28T14:27:01.361Z"
   },
   {
    "duration": 0,
    "start_time": "2022-07-28T14:27:01.362Z"
   },
   {
    "duration": 0,
    "start_time": "2022-07-28T14:27:01.364Z"
   },
   {
    "duration": 0,
    "start_time": "2022-07-28T14:27:01.365Z"
   },
   {
    "duration": 0,
    "start_time": "2022-07-28T14:27:01.366Z"
   },
   {
    "duration": 0,
    "start_time": "2022-07-28T14:27:01.367Z"
   },
   {
    "duration": 0,
    "start_time": "2022-07-28T14:27:01.369Z"
   },
   {
    "duration": 0,
    "start_time": "2022-07-28T14:27:01.370Z"
   },
   {
    "duration": 0,
    "start_time": "2022-07-28T14:27:01.371Z"
   },
   {
    "duration": 0,
    "start_time": "2022-07-28T14:27:01.373Z"
   },
   {
    "duration": 0,
    "start_time": "2022-07-28T14:27:01.374Z"
   },
   {
    "duration": 0,
    "start_time": "2022-07-28T14:27:01.375Z"
   },
   {
    "duration": 0,
    "start_time": "2022-07-28T14:27:01.376Z"
   },
   {
    "duration": 0,
    "start_time": "2022-07-28T14:27:01.378Z"
   },
   {
    "duration": 0,
    "start_time": "2022-07-28T14:27:01.379Z"
   },
   {
    "duration": 0,
    "start_time": "2022-07-28T14:27:01.380Z"
   },
   {
    "duration": 0,
    "start_time": "2022-07-28T14:27:01.381Z"
   },
   {
    "duration": 0,
    "start_time": "2022-07-28T14:27:01.383Z"
   },
   {
    "duration": 0,
    "start_time": "2022-07-28T14:27:01.384Z"
   },
   {
    "duration": 0,
    "start_time": "2022-07-28T14:27:01.385Z"
   },
   {
    "duration": 0,
    "start_time": "2022-07-28T14:27:01.387Z"
   },
   {
    "duration": 0,
    "start_time": "2022-07-28T14:27:01.388Z"
   },
   {
    "duration": 0,
    "start_time": "2022-07-28T14:27:01.423Z"
   },
   {
    "duration": 0,
    "start_time": "2022-07-28T14:27:01.424Z"
   },
   {
    "duration": 0,
    "start_time": "2022-07-28T14:27:01.428Z"
   },
   {
    "duration": 0,
    "start_time": "2022-07-28T14:27:01.429Z"
   },
   {
    "duration": 0,
    "start_time": "2022-07-28T14:27:01.430Z"
   },
   {
    "duration": 160,
    "start_time": "2022-07-28T14:30:40.309Z"
   },
   {
    "duration": 29,
    "start_time": "2022-07-28T14:32:39.847Z"
   },
   {
    "duration": 27,
    "start_time": "2022-07-28T14:32:45.769Z"
   },
   {
    "duration": 1892,
    "start_time": "2022-07-28T14:34:42.021Z"
   },
   {
    "duration": 1282,
    "start_time": "2022-07-28T14:34:43.916Z"
   },
   {
    "duration": 132,
    "start_time": "2022-07-28T14:34:45.200Z"
   },
   {
    "duration": 144,
    "start_time": "2022-07-28T14:34:45.337Z"
   },
   {
    "duration": 131,
    "start_time": "2022-07-28T14:34:45.483Z"
   },
   {
    "duration": 11,
    "start_time": "2022-07-28T14:34:45.619Z"
   },
   {
    "duration": 23,
    "start_time": "2022-07-28T14:34:45.633Z"
   },
   {
    "duration": 563,
    "start_time": "2022-07-28T14:34:45.657Z"
   },
   {
    "duration": 517,
    "start_time": "2022-07-28T14:34:46.222Z"
   },
   {
    "duration": 25,
    "start_time": "2022-07-28T14:34:46.743Z"
   },
   {
    "duration": 161,
    "start_time": "2022-07-28T14:34:46.770Z"
   },
   {
    "duration": 0,
    "start_time": "2022-07-28T14:34:46.940Z"
   },
   {
    "duration": 1,
    "start_time": "2022-07-28T14:34:46.940Z"
   },
   {
    "duration": 0,
    "start_time": "2022-07-28T14:34:46.941Z"
   },
   {
    "duration": 0,
    "start_time": "2022-07-28T14:34:46.942Z"
   },
   {
    "duration": 0,
    "start_time": "2022-07-28T14:34:46.942Z"
   },
   {
    "duration": 0,
    "start_time": "2022-07-28T14:34:46.943Z"
   },
   {
    "duration": 0,
    "start_time": "2022-07-28T14:34:46.944Z"
   },
   {
    "duration": 0,
    "start_time": "2022-07-28T14:34:46.945Z"
   },
   {
    "duration": 0,
    "start_time": "2022-07-28T14:34:46.948Z"
   },
   {
    "duration": 0,
    "start_time": "2022-07-28T14:34:46.950Z"
   },
   {
    "duration": 0,
    "start_time": "2022-07-28T14:34:46.951Z"
   },
   {
    "duration": 0,
    "start_time": "2022-07-28T14:34:46.952Z"
   },
   {
    "duration": 0,
    "start_time": "2022-07-28T14:34:46.957Z"
   },
   {
    "duration": 0,
    "start_time": "2022-07-28T14:34:46.959Z"
   },
   {
    "duration": 0,
    "start_time": "2022-07-28T14:34:46.961Z"
   },
   {
    "duration": 0,
    "start_time": "2022-07-28T14:34:46.963Z"
   },
   {
    "duration": 0,
    "start_time": "2022-07-28T14:34:46.964Z"
   },
   {
    "duration": 0,
    "start_time": "2022-07-28T14:34:46.969Z"
   },
   {
    "duration": 0,
    "start_time": "2022-07-28T14:34:46.971Z"
   },
   {
    "duration": 0,
    "start_time": "2022-07-28T14:34:46.973Z"
   },
   {
    "duration": 0,
    "start_time": "2022-07-28T14:34:46.975Z"
   },
   {
    "duration": 0,
    "start_time": "2022-07-28T14:34:46.977Z"
   },
   {
    "duration": 0,
    "start_time": "2022-07-28T14:34:46.978Z"
   },
   {
    "duration": 0,
    "start_time": "2022-07-28T14:34:46.980Z"
   },
   {
    "duration": 0,
    "start_time": "2022-07-28T14:34:46.981Z"
   },
   {
    "duration": 0,
    "start_time": "2022-07-28T14:34:47.025Z"
   },
   {
    "duration": 0,
    "start_time": "2022-07-28T14:34:47.029Z"
   },
   {
    "duration": 0,
    "start_time": "2022-07-28T14:34:47.030Z"
   },
   {
    "duration": 0,
    "start_time": "2022-07-28T14:34:47.032Z"
   },
   {
    "duration": 0,
    "start_time": "2022-07-28T14:34:47.033Z"
   },
   {
    "duration": 0,
    "start_time": "2022-07-28T14:34:47.034Z"
   },
   {
    "duration": 0,
    "start_time": "2022-07-28T14:34:47.036Z"
   },
   {
    "duration": 0,
    "start_time": "2022-07-28T14:34:47.037Z"
   },
   {
    "duration": 1462,
    "start_time": "2022-07-28T14:57:43.435Z"
   },
   {
    "duration": 884,
    "start_time": "2022-07-28T14:57:44.899Z"
   },
   {
    "duration": 162,
    "start_time": "2022-07-28T14:57:45.785Z"
   },
   {
    "duration": 156,
    "start_time": "2022-07-28T14:57:45.949Z"
   },
   {
    "duration": 106,
    "start_time": "2022-07-28T14:57:46.107Z"
   },
   {
    "duration": 26,
    "start_time": "2022-07-28T14:57:46.214Z"
   },
   {
    "duration": 30,
    "start_time": "2022-07-28T14:57:46.242Z"
   },
   {
    "duration": 507,
    "start_time": "2022-07-28T14:57:46.274Z"
   },
   {
    "duration": 507,
    "start_time": "2022-07-28T14:57:46.782Z"
   },
   {
    "duration": 42,
    "start_time": "2022-07-28T14:57:47.292Z"
   },
   {
    "duration": 144,
    "start_time": "2022-07-28T14:57:47.336Z"
   },
   {
    "duration": 0,
    "start_time": "2022-07-28T14:57:47.482Z"
   },
   {
    "duration": 0,
    "start_time": "2022-07-28T14:57:47.483Z"
   },
   {
    "duration": 0,
    "start_time": "2022-07-28T14:57:47.484Z"
   },
   {
    "duration": 0,
    "start_time": "2022-07-28T14:57:47.486Z"
   },
   {
    "duration": 0,
    "start_time": "2022-07-28T14:57:47.487Z"
   },
   {
    "duration": 0,
    "start_time": "2022-07-28T14:57:47.488Z"
   },
   {
    "duration": 0,
    "start_time": "2022-07-28T14:57:47.489Z"
   },
   {
    "duration": 0,
    "start_time": "2022-07-28T14:57:47.490Z"
   },
   {
    "duration": 0,
    "start_time": "2022-07-28T14:57:47.491Z"
   },
   {
    "duration": 0,
    "start_time": "2022-07-28T14:57:47.493Z"
   },
   {
    "duration": 0,
    "start_time": "2022-07-28T14:57:47.494Z"
   },
   {
    "duration": 0,
    "start_time": "2022-07-28T14:57:47.495Z"
   },
   {
    "duration": 0,
    "start_time": "2022-07-28T14:57:47.496Z"
   },
   {
    "duration": 0,
    "start_time": "2022-07-28T14:57:47.497Z"
   },
   {
    "duration": 0,
    "start_time": "2022-07-28T14:57:47.498Z"
   },
   {
    "duration": 0,
    "start_time": "2022-07-28T14:57:47.499Z"
   },
   {
    "duration": 0,
    "start_time": "2022-07-28T14:57:47.526Z"
   },
   {
    "duration": 0,
    "start_time": "2022-07-28T14:57:47.528Z"
   },
   {
    "duration": 0,
    "start_time": "2022-07-28T14:57:47.529Z"
   },
   {
    "duration": 0,
    "start_time": "2022-07-28T14:57:47.531Z"
   },
   {
    "duration": 0,
    "start_time": "2022-07-28T14:57:47.532Z"
   },
   {
    "duration": 0,
    "start_time": "2022-07-28T14:57:47.533Z"
   },
   {
    "duration": 0,
    "start_time": "2022-07-28T14:57:47.534Z"
   },
   {
    "duration": 0,
    "start_time": "2022-07-28T14:57:47.535Z"
   },
   {
    "duration": 0,
    "start_time": "2022-07-28T14:57:47.536Z"
   },
   {
    "duration": 0,
    "start_time": "2022-07-28T14:57:47.538Z"
   },
   {
    "duration": 0,
    "start_time": "2022-07-28T14:57:47.540Z"
   },
   {
    "duration": 0,
    "start_time": "2022-07-28T14:57:47.542Z"
   },
   {
    "duration": 0,
    "start_time": "2022-07-28T14:57:47.543Z"
   },
   {
    "duration": 0,
    "start_time": "2022-07-28T14:57:47.545Z"
   },
   {
    "duration": 1,
    "start_time": "2022-07-28T14:57:47.545Z"
   },
   {
    "duration": 0,
    "start_time": "2022-07-28T14:57:47.547Z"
   },
   {
    "duration": 0,
    "start_time": "2022-07-28T14:57:47.549Z"
   },
   {
    "duration": 25,
    "start_time": "2022-07-28T15:00:12.975Z"
   },
   {
    "duration": 20,
    "start_time": "2022-07-28T15:01:57.337Z"
   },
   {
    "duration": 27,
    "start_time": "2022-07-28T15:02:07.414Z"
   },
   {
    "duration": 22,
    "start_time": "2022-07-28T15:02:19.746Z"
   },
   {
    "duration": 20,
    "start_time": "2022-07-28T15:02:23.689Z"
   },
   {
    "duration": 30,
    "start_time": "2022-07-28T15:02:33.403Z"
   },
   {
    "duration": 21,
    "start_time": "2022-07-28T15:02:55.274Z"
   },
   {
    "duration": 117,
    "start_time": "2022-07-28T15:03:03.197Z"
   },
   {
    "duration": 22,
    "start_time": "2022-07-28T15:03:23.678Z"
   },
   {
    "duration": 32,
    "start_time": "2022-07-28T15:04:33.365Z"
   },
   {
    "duration": 1580,
    "start_time": "2022-07-28T15:04:45.590Z"
   },
   {
    "duration": 928,
    "start_time": "2022-07-28T15:04:47.171Z"
   },
   {
    "duration": 149,
    "start_time": "2022-07-28T15:04:48.101Z"
   },
   {
    "duration": 139,
    "start_time": "2022-07-28T15:04:48.252Z"
   },
   {
    "duration": 112,
    "start_time": "2022-07-28T15:04:48.393Z"
   },
   {
    "duration": 6,
    "start_time": "2022-07-28T15:04:48.507Z"
   },
   {
    "duration": 13,
    "start_time": "2022-07-28T15:04:48.523Z"
   },
   {
    "duration": 576,
    "start_time": "2022-07-28T15:04:48.539Z"
   },
   {
    "duration": 549,
    "start_time": "2022-07-28T15:04:49.117Z"
   },
   {
    "duration": 24,
    "start_time": "2022-07-28T15:04:49.669Z"
   },
   {
    "duration": 45,
    "start_time": "2022-07-28T15:04:49.695Z"
   },
   {
    "duration": 130,
    "start_time": "2022-07-28T15:04:49.742Z"
   },
   {
    "duration": 30,
    "start_time": "2022-07-28T15:04:49.873Z"
   },
   {
    "duration": 80,
    "start_time": "2022-07-28T15:04:49.905Z"
   },
   {
    "duration": 3,
    "start_time": "2022-07-28T15:04:49.987Z"
   },
   {
    "duration": 6,
    "start_time": "2022-07-28T15:04:49.991Z"
   },
   {
    "duration": 1111,
    "start_time": "2022-07-28T15:04:49.999Z"
   },
   {
    "duration": 126,
    "start_time": "2022-07-28T15:04:51.111Z"
   },
   {
    "duration": 2257,
    "start_time": "2022-07-28T15:04:51.238Z"
   },
   {
    "duration": 21542,
    "start_time": "2022-07-28T15:04:53.497Z"
   },
   {
    "duration": 5668,
    "start_time": "2022-07-28T15:05:15.041Z"
   },
   {
    "duration": 22,
    "start_time": "2022-07-28T15:05:20.710Z"
   },
   {
    "duration": 47,
    "start_time": "2022-07-28T15:05:20.734Z"
   },
   {
    "duration": 112,
    "start_time": "2022-07-28T15:05:20.783Z"
   },
   {
    "duration": 413,
    "start_time": "2022-07-28T15:05:20.897Z"
   },
   {
    "duration": 0,
    "start_time": "2022-07-28T15:05:21.314Z"
   },
   {
    "duration": 0,
    "start_time": "2022-07-28T15:05:21.315Z"
   },
   {
    "duration": 0,
    "start_time": "2022-07-28T15:05:21.317Z"
   },
   {
    "duration": 0,
    "start_time": "2022-07-28T15:05:21.318Z"
   },
   {
    "duration": 0,
    "start_time": "2022-07-28T15:05:21.319Z"
   },
   {
    "duration": 0,
    "start_time": "2022-07-28T15:05:21.321Z"
   },
   {
    "duration": 0,
    "start_time": "2022-07-28T15:05:21.322Z"
   },
   {
    "duration": 0,
    "start_time": "2022-07-28T15:05:21.326Z"
   },
   {
    "duration": 0,
    "start_time": "2022-07-28T15:05:21.327Z"
   },
   {
    "duration": 0,
    "start_time": "2022-07-28T15:05:21.329Z"
   },
   {
    "duration": 0,
    "start_time": "2022-07-28T15:05:21.330Z"
   },
   {
    "duration": 0,
    "start_time": "2022-07-28T15:05:21.331Z"
   },
   {
    "duration": 1,
    "start_time": "2022-07-28T15:05:21.332Z"
   },
   {
    "duration": 0,
    "start_time": "2022-07-28T15:05:21.333Z"
   },
   {
    "duration": 0,
    "start_time": "2022-07-28T15:05:21.336Z"
   },
   {
    "duration": 0,
    "start_time": "2022-07-28T15:05:21.344Z"
   },
   {
    "duration": 0,
    "start_time": "2022-07-28T15:05:21.346Z"
   },
   {
    "duration": 0,
    "start_time": "2022-07-28T15:05:21.347Z"
   },
   {
    "duration": 0,
    "start_time": "2022-07-28T15:05:21.348Z"
   },
   {
    "duration": 1515,
    "start_time": "2022-07-28T15:06:22.290Z"
   },
   {
    "duration": 912,
    "start_time": "2022-07-28T15:06:23.806Z"
   },
   {
    "duration": 156,
    "start_time": "2022-07-28T15:06:24.720Z"
   },
   {
    "duration": 164,
    "start_time": "2022-07-28T15:06:24.879Z"
   },
   {
    "duration": 115,
    "start_time": "2022-07-28T15:06:25.045Z"
   },
   {
    "duration": 7,
    "start_time": "2022-07-28T15:06:25.162Z"
   },
   {
    "duration": 42,
    "start_time": "2022-07-28T15:06:25.171Z"
   },
   {
    "duration": 555,
    "start_time": "2022-07-28T15:06:25.215Z"
   },
   {
    "duration": 530,
    "start_time": "2022-07-28T15:06:25.772Z"
   },
   {
    "duration": 34,
    "start_time": "2022-07-28T15:06:26.306Z"
   },
   {
    "duration": 133,
    "start_time": "2022-07-28T15:06:26.342Z"
   },
   {
    "duration": 0,
    "start_time": "2022-07-28T15:06:26.478Z"
   },
   {
    "duration": 0,
    "start_time": "2022-07-28T15:06:26.479Z"
   },
   {
    "duration": 0,
    "start_time": "2022-07-28T15:06:26.480Z"
   },
   {
    "duration": 0,
    "start_time": "2022-07-28T15:06:26.481Z"
   },
   {
    "duration": 0,
    "start_time": "2022-07-28T15:06:26.482Z"
   },
   {
    "duration": 0,
    "start_time": "2022-07-28T15:06:26.484Z"
   },
   {
    "duration": 0,
    "start_time": "2022-07-28T15:06:26.484Z"
   },
   {
    "duration": 0,
    "start_time": "2022-07-28T15:06:26.485Z"
   },
   {
    "duration": 0,
    "start_time": "2022-07-28T15:06:26.486Z"
   },
   {
    "duration": 0,
    "start_time": "2022-07-28T15:06:26.487Z"
   },
   {
    "duration": 0,
    "start_time": "2022-07-28T15:06:26.488Z"
   },
   {
    "duration": 0,
    "start_time": "2022-07-28T15:06:26.489Z"
   },
   {
    "duration": 0,
    "start_time": "2022-07-28T15:06:26.490Z"
   },
   {
    "duration": 0,
    "start_time": "2022-07-28T15:06:26.491Z"
   },
   {
    "duration": 0,
    "start_time": "2022-07-28T15:06:26.492Z"
   },
   {
    "duration": 0,
    "start_time": "2022-07-28T15:06:26.493Z"
   },
   {
    "duration": 0,
    "start_time": "2022-07-28T15:06:26.495Z"
   },
   {
    "duration": 0,
    "start_time": "2022-07-28T15:06:26.524Z"
   },
   {
    "duration": 0,
    "start_time": "2022-07-28T15:06:26.525Z"
   },
   {
    "duration": 0,
    "start_time": "2022-07-28T15:06:26.526Z"
   },
   {
    "duration": 0,
    "start_time": "2022-07-28T15:06:26.527Z"
   },
   {
    "duration": 0,
    "start_time": "2022-07-28T15:06:26.528Z"
   },
   {
    "duration": 0,
    "start_time": "2022-07-28T15:06:26.529Z"
   },
   {
    "duration": 0,
    "start_time": "2022-07-28T15:06:26.530Z"
   },
   {
    "duration": 0,
    "start_time": "2022-07-28T15:06:26.531Z"
   },
   {
    "duration": 0,
    "start_time": "2022-07-28T15:06:26.532Z"
   },
   {
    "duration": 0,
    "start_time": "2022-07-28T15:06:26.533Z"
   },
   {
    "duration": 0,
    "start_time": "2022-07-28T15:06:26.533Z"
   },
   {
    "duration": 0,
    "start_time": "2022-07-28T15:06:26.534Z"
   },
   {
    "duration": 0,
    "start_time": "2022-07-28T15:06:26.535Z"
   },
   {
    "duration": 0,
    "start_time": "2022-07-28T15:06:26.535Z"
   },
   {
    "duration": 0,
    "start_time": "2022-07-28T15:06:26.536Z"
   },
   {
    "duration": 0,
    "start_time": "2022-07-28T15:06:26.537Z"
   },
   {
    "duration": 1421,
    "start_time": "2022-07-28T15:08:52.951Z"
   },
   {
    "duration": 894,
    "start_time": "2022-07-28T15:08:54.373Z"
   },
   {
    "duration": 147,
    "start_time": "2022-07-28T15:08:55.268Z"
   },
   {
    "duration": 135,
    "start_time": "2022-07-28T15:08:55.424Z"
   },
   {
    "duration": 108,
    "start_time": "2022-07-28T15:08:55.561Z"
   },
   {
    "duration": 6,
    "start_time": "2022-07-28T15:08:55.670Z"
   },
   {
    "duration": 13,
    "start_time": "2022-07-28T15:08:55.677Z"
   },
   {
    "duration": 540,
    "start_time": "2022-07-28T15:08:55.692Z"
   },
   {
    "duration": 480,
    "start_time": "2022-07-28T15:08:56.239Z"
   },
   {
    "duration": 29,
    "start_time": "2022-07-28T15:08:56.724Z"
   },
   {
    "duration": 138,
    "start_time": "2022-07-28T15:08:56.754Z"
   },
   {
    "duration": 0,
    "start_time": "2022-07-28T15:08:56.895Z"
   },
   {
    "duration": 0,
    "start_time": "2022-07-28T15:08:56.897Z"
   },
   {
    "duration": 0,
    "start_time": "2022-07-28T15:08:56.898Z"
   },
   {
    "duration": 0,
    "start_time": "2022-07-28T15:08:56.900Z"
   },
   {
    "duration": 0,
    "start_time": "2022-07-28T15:08:56.901Z"
   },
   {
    "duration": 0,
    "start_time": "2022-07-28T15:08:56.903Z"
   },
   {
    "duration": 0,
    "start_time": "2022-07-28T15:08:56.904Z"
   },
   {
    "duration": 0,
    "start_time": "2022-07-28T15:08:56.906Z"
   },
   {
    "duration": 0,
    "start_time": "2022-07-28T15:08:56.926Z"
   },
   {
    "duration": 0,
    "start_time": "2022-07-28T15:08:56.927Z"
   },
   {
    "duration": 0,
    "start_time": "2022-07-28T15:08:56.928Z"
   },
   {
    "duration": 0,
    "start_time": "2022-07-28T15:08:56.929Z"
   },
   {
    "duration": 1,
    "start_time": "2022-07-28T15:08:56.932Z"
   },
   {
    "duration": 0,
    "start_time": "2022-07-28T15:08:56.936Z"
   },
   {
    "duration": 0,
    "start_time": "2022-07-28T15:08:56.942Z"
   },
   {
    "duration": 0,
    "start_time": "2022-07-28T15:08:56.943Z"
   },
   {
    "duration": 0,
    "start_time": "2022-07-28T15:08:56.944Z"
   },
   {
    "duration": 0,
    "start_time": "2022-07-28T15:08:56.946Z"
   },
   {
    "duration": 0,
    "start_time": "2022-07-28T15:08:56.947Z"
   },
   {
    "duration": 0,
    "start_time": "2022-07-28T15:08:56.948Z"
   },
   {
    "duration": 0,
    "start_time": "2022-07-28T15:08:56.949Z"
   },
   {
    "duration": 0,
    "start_time": "2022-07-28T15:08:56.950Z"
   },
   {
    "duration": 0,
    "start_time": "2022-07-28T15:08:56.951Z"
   },
   {
    "duration": 0,
    "start_time": "2022-07-28T15:08:56.952Z"
   },
   {
    "duration": 0,
    "start_time": "2022-07-28T15:08:56.954Z"
   },
   {
    "duration": 0,
    "start_time": "2022-07-28T15:08:56.955Z"
   },
   {
    "duration": 0,
    "start_time": "2022-07-28T15:08:56.956Z"
   },
   {
    "duration": 0,
    "start_time": "2022-07-28T15:08:56.957Z"
   },
   {
    "duration": 0,
    "start_time": "2022-07-28T15:08:56.958Z"
   },
   {
    "duration": 0,
    "start_time": "2022-07-28T15:08:56.960Z"
   },
   {
    "duration": 0,
    "start_time": "2022-07-28T15:08:56.961Z"
   },
   {
    "duration": 0,
    "start_time": "2022-07-28T15:08:56.962Z"
   },
   {
    "duration": 0,
    "start_time": "2022-07-28T15:08:56.963Z"
   },
   {
    "duration": 21,
    "start_time": "2022-07-28T15:09:59.972Z"
   },
   {
    "duration": 1457,
    "start_time": "2022-07-28T15:10:40.562Z"
   },
   {
    "duration": 926,
    "start_time": "2022-07-28T15:10:42.021Z"
   },
   {
    "duration": 127,
    "start_time": "2022-07-28T15:10:42.949Z"
   },
   {
    "duration": 135,
    "start_time": "2022-07-28T15:10:43.080Z"
   },
   {
    "duration": 118,
    "start_time": "2022-07-28T15:10:43.217Z"
   },
   {
    "duration": 6,
    "start_time": "2022-07-28T15:10:43.336Z"
   },
   {
    "duration": 12,
    "start_time": "2022-07-28T15:10:43.343Z"
   },
   {
    "duration": 527,
    "start_time": "2022-07-28T15:10:43.357Z"
   },
   {
    "duration": 508,
    "start_time": "2022-07-28T15:10:43.886Z"
   },
   {
    "duration": 38,
    "start_time": "2022-07-28T15:10:44.397Z"
   },
   {
    "duration": 19,
    "start_time": "2022-07-28T15:10:44.437Z"
   },
   {
    "duration": 125,
    "start_time": "2022-07-28T15:10:44.458Z"
   },
   {
    "duration": 30,
    "start_time": "2022-07-28T15:10:44.584Z"
   },
   {
    "duration": 65,
    "start_time": "2022-07-28T15:10:44.629Z"
   },
   {
    "duration": 2,
    "start_time": "2022-07-28T15:10:44.696Z"
   },
   {
    "duration": 5,
    "start_time": "2022-07-28T15:10:44.700Z"
   },
   {
    "duration": 1098,
    "start_time": "2022-07-28T15:10:44.707Z"
   },
   {
    "duration": 112,
    "start_time": "2022-07-28T15:10:45.806Z"
   },
   {
    "duration": 2142,
    "start_time": "2022-07-28T15:10:45.923Z"
   },
   {
    "duration": 19153,
    "start_time": "2022-07-28T15:10:48.067Z"
   },
   {
    "duration": 0,
    "start_time": "2022-07-28T15:11:07.225Z"
   },
   {
    "duration": 0,
    "start_time": "2022-07-28T15:11:07.225Z"
   },
   {
    "duration": 0,
    "start_time": "2022-07-28T15:11:07.226Z"
   },
   {
    "duration": 0,
    "start_time": "2022-07-28T15:11:07.229Z"
   },
   {
    "duration": 0,
    "start_time": "2022-07-28T15:11:07.230Z"
   },
   {
    "duration": 0,
    "start_time": "2022-07-28T15:11:07.230Z"
   },
   {
    "duration": 1,
    "start_time": "2022-07-28T15:11:07.233Z"
   },
   {
    "duration": 0,
    "start_time": "2022-07-28T15:11:07.234Z"
   },
   {
    "duration": 0,
    "start_time": "2022-07-28T15:11:07.235Z"
   },
   {
    "duration": 0,
    "start_time": "2022-07-28T15:11:07.236Z"
   },
   {
    "duration": 0,
    "start_time": "2022-07-28T15:11:07.237Z"
   },
   {
    "duration": 0,
    "start_time": "2022-07-28T15:11:07.238Z"
   },
   {
    "duration": 0,
    "start_time": "2022-07-28T15:11:07.240Z"
   },
   {
    "duration": 0,
    "start_time": "2022-07-28T15:11:07.242Z"
   },
   {
    "duration": 0,
    "start_time": "2022-07-28T15:11:07.243Z"
   },
   {
    "duration": 0,
    "start_time": "2022-07-28T15:11:07.245Z"
   },
   {
    "duration": 0,
    "start_time": "2022-07-28T15:11:07.246Z"
   },
   {
    "duration": 0,
    "start_time": "2022-07-28T15:11:07.248Z"
   },
   {
    "duration": 0,
    "start_time": "2022-07-28T15:11:07.249Z"
   },
   {
    "duration": 0,
    "start_time": "2022-07-28T15:11:07.251Z"
   },
   {
    "duration": 0,
    "start_time": "2022-07-28T15:11:07.252Z"
   },
   {
    "duration": 0,
    "start_time": "2022-07-28T15:11:07.253Z"
   },
   {
    "duration": 0,
    "start_time": "2022-07-28T15:11:07.255Z"
   },
   {
    "duration": 0,
    "start_time": "2022-07-28T15:11:07.257Z"
   },
   {
    "duration": 23,
    "start_time": "2022-07-28T15:11:30.357Z"
   },
   {
    "duration": 1437,
    "start_time": "2022-07-28T15:13:24.150Z"
   },
   {
    "duration": 919,
    "start_time": "2022-07-28T15:13:25.589Z"
   },
   {
    "duration": 133,
    "start_time": "2022-07-28T15:13:26.510Z"
   },
   {
    "duration": 144,
    "start_time": "2022-07-28T15:13:26.645Z"
   },
   {
    "duration": 113,
    "start_time": "2022-07-28T15:13:26.790Z"
   },
   {
    "duration": 6,
    "start_time": "2022-07-28T15:13:26.905Z"
   },
   {
    "duration": 20,
    "start_time": "2022-07-28T15:13:26.913Z"
   },
   {
    "duration": 511,
    "start_time": "2022-07-28T15:13:26.939Z"
   },
   {
    "duration": 505,
    "start_time": "2022-07-28T15:13:27.452Z"
   },
   {
    "duration": 24,
    "start_time": "2022-07-28T15:13:27.959Z"
   },
   {
    "duration": 20,
    "start_time": "2022-07-28T15:13:27.985Z"
   },
   {
    "duration": 144,
    "start_time": "2022-07-28T15:13:28.006Z"
   },
   {
    "duration": 32,
    "start_time": "2022-07-28T15:13:28.151Z"
   },
   {
    "duration": 74,
    "start_time": "2022-07-28T15:13:28.185Z"
   },
   {
    "duration": 3,
    "start_time": "2022-07-28T15:13:28.261Z"
   },
   {
    "duration": 8,
    "start_time": "2022-07-28T15:13:28.265Z"
   },
   {
    "duration": 1169,
    "start_time": "2022-07-28T15:13:28.275Z"
   },
   {
    "duration": 110,
    "start_time": "2022-07-28T15:13:29.446Z"
   },
   {
    "duration": 2186,
    "start_time": "2022-07-28T15:13:29.558Z"
   },
   {
    "duration": 16011,
    "start_time": "2022-07-28T15:13:31.746Z"
   },
   {
    "duration": 0,
    "start_time": "2022-07-28T15:13:47.760Z"
   },
   {
    "duration": 0,
    "start_time": "2022-07-28T15:13:47.761Z"
   },
   {
    "duration": 0,
    "start_time": "2022-07-28T15:13:47.763Z"
   },
   {
    "duration": 0,
    "start_time": "2022-07-28T15:13:47.764Z"
   },
   {
    "duration": 0,
    "start_time": "2022-07-28T15:13:47.765Z"
   },
   {
    "duration": 0,
    "start_time": "2022-07-28T15:13:47.767Z"
   },
   {
    "duration": 0,
    "start_time": "2022-07-28T15:13:47.768Z"
   },
   {
    "duration": 0,
    "start_time": "2022-07-28T15:13:47.770Z"
   },
   {
    "duration": 0,
    "start_time": "2022-07-28T15:13:47.771Z"
   },
   {
    "duration": 0,
    "start_time": "2022-07-28T15:13:47.772Z"
   },
   {
    "duration": 0,
    "start_time": "2022-07-28T15:13:47.773Z"
   },
   {
    "duration": 0,
    "start_time": "2022-07-28T15:13:47.775Z"
   },
   {
    "duration": 0,
    "start_time": "2022-07-28T15:13:47.776Z"
   },
   {
    "duration": 0,
    "start_time": "2022-07-28T15:13:47.777Z"
   },
   {
    "duration": 0,
    "start_time": "2022-07-28T15:13:47.778Z"
   },
   {
    "duration": 0,
    "start_time": "2022-07-28T15:13:47.779Z"
   },
   {
    "duration": 0,
    "start_time": "2022-07-28T15:13:47.780Z"
   },
   {
    "duration": 0,
    "start_time": "2022-07-28T15:13:47.781Z"
   },
   {
    "duration": 0,
    "start_time": "2022-07-28T15:13:47.783Z"
   },
   {
    "duration": 0,
    "start_time": "2022-07-28T15:13:47.785Z"
   },
   {
    "duration": 0,
    "start_time": "2022-07-28T15:13:47.786Z"
   },
   {
    "duration": 0,
    "start_time": "2022-07-28T15:13:47.787Z"
   },
   {
    "duration": 0,
    "start_time": "2022-07-28T15:13:47.789Z"
   },
   {
    "duration": 0,
    "start_time": "2022-07-28T15:13:47.790Z"
   },
   {
    "duration": 25,
    "start_time": "2022-07-28T15:14:12.480Z"
   },
   {
    "duration": 15,
    "start_time": "2022-07-28T15:21:45.869Z"
   },
   {
    "duration": 37,
    "start_time": "2022-07-28T15:23:13.411Z"
   },
   {
    "duration": 12,
    "start_time": "2022-07-28T15:23:25.221Z"
   },
   {
    "duration": 26,
    "start_time": "2022-07-28T15:23:26.891Z"
   },
   {
    "duration": 979,
    "start_time": "2022-07-28T16:48:45.327Z"
   },
   {
    "duration": 628,
    "start_time": "2022-07-28T16:49:01.283Z"
   },
   {
    "duration": 1969,
    "start_time": "2022-07-28T16:49:05.194Z"
   },
   {
    "duration": 95,
    "start_time": "2022-07-28T16:49:24.733Z"
   },
   {
    "duration": 1440,
    "start_time": "2022-07-28T16:50:41.413Z"
   },
   {
    "duration": 847,
    "start_time": "2022-07-28T16:50:42.855Z"
   },
   {
    "duration": 131,
    "start_time": "2022-07-28T16:50:43.703Z"
   },
   {
    "duration": 123,
    "start_time": "2022-07-28T16:50:43.835Z"
   },
   {
    "duration": 106,
    "start_time": "2022-07-28T16:50:43.961Z"
   },
   {
    "duration": 5,
    "start_time": "2022-07-28T16:50:44.069Z"
   },
   {
    "duration": 11,
    "start_time": "2022-07-28T16:50:44.076Z"
   },
   {
    "duration": 496,
    "start_time": "2022-07-28T16:50:44.089Z"
   },
   {
    "duration": 472,
    "start_time": "2022-07-28T16:50:44.587Z"
   },
   {
    "duration": 24,
    "start_time": "2022-07-28T16:50:45.061Z"
   },
   {
    "duration": 143,
    "start_time": "2022-07-28T16:50:45.087Z"
   },
   {
    "duration": 0,
    "start_time": "2022-07-28T16:50:45.233Z"
   },
   {
    "duration": 0,
    "start_time": "2022-07-28T16:50:45.235Z"
   },
   {
    "duration": 0,
    "start_time": "2022-07-28T16:50:45.236Z"
   },
   {
    "duration": 0,
    "start_time": "2022-07-28T16:50:45.237Z"
   },
   {
    "duration": 0,
    "start_time": "2022-07-28T16:50:45.239Z"
   },
   {
    "duration": 0,
    "start_time": "2022-07-28T16:50:45.240Z"
   },
   {
    "duration": 0,
    "start_time": "2022-07-28T16:50:45.242Z"
   },
   {
    "duration": 0,
    "start_time": "2022-07-28T16:50:45.243Z"
   },
   {
    "duration": 0,
    "start_time": "2022-07-28T16:50:45.245Z"
   },
   {
    "duration": 0,
    "start_time": "2022-07-28T16:50:45.247Z"
   },
   {
    "duration": 0,
    "start_time": "2022-07-28T16:50:45.249Z"
   },
   {
    "duration": 0,
    "start_time": "2022-07-28T16:50:45.250Z"
   },
   {
    "duration": 0,
    "start_time": "2022-07-28T16:50:45.252Z"
   },
   {
    "duration": 0,
    "start_time": "2022-07-28T16:50:45.253Z"
   },
   {
    "duration": 0,
    "start_time": "2022-07-28T16:50:45.255Z"
   },
   {
    "duration": 0,
    "start_time": "2022-07-28T16:50:45.257Z"
   },
   {
    "duration": 0,
    "start_time": "2022-07-28T16:50:45.258Z"
   },
   {
    "duration": 0,
    "start_time": "2022-07-28T16:50:45.260Z"
   },
   {
    "duration": 0,
    "start_time": "2022-07-28T16:50:45.261Z"
   },
   {
    "duration": 0,
    "start_time": "2022-07-28T16:50:45.262Z"
   },
   {
    "duration": 0,
    "start_time": "2022-07-28T16:50:45.263Z"
   },
   {
    "duration": 0,
    "start_time": "2022-07-28T16:50:45.264Z"
   },
   {
    "duration": 0,
    "start_time": "2022-07-28T16:50:45.265Z"
   },
   {
    "duration": 0,
    "start_time": "2022-07-28T16:50:45.267Z"
   },
   {
    "duration": 0,
    "start_time": "2022-07-28T16:50:45.268Z"
   },
   {
    "duration": 0,
    "start_time": "2022-07-28T16:50:45.269Z"
   },
   {
    "duration": 0,
    "start_time": "2022-07-28T16:50:45.270Z"
   },
   {
    "duration": 0,
    "start_time": "2022-07-28T16:50:45.271Z"
   },
   {
    "duration": 0,
    "start_time": "2022-07-28T16:50:45.271Z"
   },
   {
    "duration": 0,
    "start_time": "2022-07-28T16:50:45.324Z"
   },
   {
    "duration": 0,
    "start_time": "2022-07-28T16:50:45.325Z"
   },
   {
    "duration": 0,
    "start_time": "2022-07-28T16:50:45.326Z"
   },
   {
    "duration": 0,
    "start_time": "2022-07-28T16:50:45.327Z"
   },
   {
    "duration": 0,
    "start_time": "2022-07-28T16:50:45.328Z"
   },
   {
    "duration": 1,
    "start_time": "2022-07-28T16:50:45.329Z"
   },
   {
    "duration": 21,
    "start_time": "2022-07-28T16:51:56.763Z"
   },
   {
    "duration": 24,
    "start_time": "2022-07-28T16:52:52.411Z"
   },
   {
    "duration": 24,
    "start_time": "2022-07-28T16:53:11.764Z"
   },
   {
    "duration": 1611,
    "start_time": "2022-07-28T16:53:18.744Z"
   },
   {
    "duration": 946,
    "start_time": "2022-07-28T16:53:20.357Z"
   },
   {
    "duration": 153,
    "start_time": "2022-07-28T16:53:21.305Z"
   },
   {
    "duration": 120,
    "start_time": "2022-07-28T16:53:21.461Z"
   },
   {
    "duration": 109,
    "start_time": "2022-07-28T16:53:21.583Z"
   },
   {
    "duration": 6,
    "start_time": "2022-07-28T16:53:21.694Z"
   },
   {
    "duration": 36,
    "start_time": "2022-07-28T16:53:21.701Z"
   },
   {
    "duration": 518,
    "start_time": "2022-07-28T16:53:21.739Z"
   },
   {
    "duration": 528,
    "start_time": "2022-07-28T16:53:22.258Z"
   },
   {
    "duration": 23,
    "start_time": "2022-07-28T16:53:22.789Z"
   },
   {
    "duration": 36,
    "start_time": "2022-07-28T16:53:22.814Z"
   },
   {
    "duration": 16,
    "start_time": "2022-07-28T16:53:22.853Z"
   },
   {
    "duration": 26,
    "start_time": "2022-07-28T16:53:22.871Z"
   },
   {
    "duration": 160,
    "start_time": "2022-07-28T16:53:22.899Z"
   },
   {
    "duration": 61,
    "start_time": "2022-07-28T16:53:23.062Z"
   },
   {
    "duration": 57,
    "start_time": "2022-07-28T16:53:23.125Z"
   },
   {
    "duration": 2,
    "start_time": "2022-07-28T16:53:23.184Z"
   },
   {
    "duration": 6,
    "start_time": "2022-07-28T16:53:23.188Z"
   },
   {
    "duration": 1171,
    "start_time": "2022-07-28T16:53:23.195Z"
   },
   {
    "duration": 110,
    "start_time": "2022-07-28T16:53:24.368Z"
   },
   {
    "duration": 2265,
    "start_time": "2022-07-28T16:53:24.480Z"
   },
   {
    "duration": 21779,
    "start_time": "2022-07-28T16:53:26.747Z"
   },
   {
    "duration": 6021,
    "start_time": "2022-07-28T16:53:48.528Z"
   },
   {
    "duration": 20,
    "start_time": "2022-07-28T16:53:54.551Z"
   },
   {
    "duration": 24,
    "start_time": "2022-07-28T16:53:54.573Z"
   },
   {
    "duration": 130,
    "start_time": "2022-07-28T16:53:54.598Z"
   },
   {
    "duration": 258,
    "start_time": "2022-07-28T16:53:54.731Z"
   },
   {
    "duration": 87,
    "start_time": "2022-07-28T16:53:54.993Z"
   },
   {
    "duration": 76,
    "start_time": "2022-07-28T16:53:55.082Z"
   },
   {
    "duration": 115,
    "start_time": "2022-07-28T16:53:55.159Z"
   },
   {
    "duration": 842,
    "start_time": "2022-07-28T16:53:55.275Z"
   },
   {
    "duration": 548,
    "start_time": "2022-07-28T16:53:56.118Z"
   },
   {
    "duration": 56339,
    "start_time": "2022-07-28T16:53:56.668Z"
   },
   {
    "duration": 0,
    "start_time": "2022-07-28T16:54:53.009Z"
   },
   {
    "duration": 0,
    "start_time": "2022-07-28T16:54:53.010Z"
   },
   {
    "duration": 0,
    "start_time": "2022-07-28T16:54:53.011Z"
   },
   {
    "duration": 0,
    "start_time": "2022-07-28T16:54:53.024Z"
   },
   {
    "duration": 0,
    "start_time": "2022-07-28T16:54:53.025Z"
   },
   {
    "duration": 0,
    "start_time": "2022-07-28T16:54:53.027Z"
   },
   {
    "duration": 0,
    "start_time": "2022-07-28T16:54:53.029Z"
   },
   {
    "duration": 0,
    "start_time": "2022-07-28T16:54:53.031Z"
   },
   {
    "duration": 0,
    "start_time": "2022-07-28T16:54:53.032Z"
   },
   {
    "duration": 0,
    "start_time": "2022-07-28T16:54:53.034Z"
   },
   {
    "duration": 0,
    "start_time": "2022-07-28T16:54:53.035Z"
   },
   {
    "duration": 0,
    "start_time": "2022-07-28T16:54:53.037Z"
   },
   {
    "duration": 0,
    "start_time": "2022-07-28T16:54:53.038Z"
   },
   {
    "duration": 108,
    "start_time": "2022-07-28T16:56:21.824Z"
   },
   {
    "duration": 73,
    "start_time": "2022-07-28T17:38:38.980Z"
   },
   {
    "duration": 52,
    "start_time": "2022-07-28T17:42:15.655Z"
   },
   {
    "duration": 804,
    "start_time": "2022-07-28T17:48:50.921Z"
   },
   {
    "duration": 1704,
    "start_time": "2022-07-28T17:49:06.651Z"
   },
   {
    "duration": 1058,
    "start_time": "2022-07-28T17:49:08.358Z"
   },
   {
    "duration": 145,
    "start_time": "2022-07-28T17:49:09.417Z"
   },
   {
    "duration": 147,
    "start_time": "2022-07-28T17:49:09.564Z"
   },
   {
    "duration": 128,
    "start_time": "2022-07-28T17:49:09.713Z"
   },
   {
    "duration": 8,
    "start_time": "2022-07-28T17:49:09.842Z"
   },
   {
    "duration": 39,
    "start_time": "2022-07-28T17:49:09.856Z"
   },
   {
    "duration": 518,
    "start_time": "2022-07-28T17:49:09.896Z"
   },
   {
    "duration": 542,
    "start_time": "2022-07-28T17:49:10.417Z"
   },
   {
    "duration": 32,
    "start_time": "2022-07-28T17:49:10.960Z"
   },
   {
    "duration": 43,
    "start_time": "2022-07-28T17:49:10.994Z"
   },
   {
    "duration": 936,
    "start_time": "2022-07-28T17:49:11.040Z"
   },
   {
    "duration": 0,
    "start_time": "2022-07-28T17:49:11.978Z"
   },
   {
    "duration": 0,
    "start_time": "2022-07-28T17:49:11.980Z"
   },
   {
    "duration": 0,
    "start_time": "2022-07-28T17:49:11.981Z"
   },
   {
    "duration": 0,
    "start_time": "2022-07-28T17:49:11.982Z"
   },
   {
    "duration": 0,
    "start_time": "2022-07-28T17:49:11.983Z"
   },
   {
    "duration": 0,
    "start_time": "2022-07-28T17:49:11.985Z"
   },
   {
    "duration": 0,
    "start_time": "2022-07-28T17:49:11.986Z"
   },
   {
    "duration": 0,
    "start_time": "2022-07-28T17:49:11.987Z"
   },
   {
    "duration": 0,
    "start_time": "2022-07-28T17:49:11.989Z"
   },
   {
    "duration": 0,
    "start_time": "2022-07-28T17:49:11.990Z"
   },
   {
    "duration": 0,
    "start_time": "2022-07-28T17:49:11.990Z"
   },
   {
    "duration": 0,
    "start_time": "2022-07-28T17:49:11.992Z"
   },
   {
    "duration": 0,
    "start_time": "2022-07-28T17:49:11.993Z"
   },
   {
    "duration": 0,
    "start_time": "2022-07-28T17:49:11.994Z"
   },
   {
    "duration": 0,
    "start_time": "2022-07-28T17:49:11.995Z"
   },
   {
    "duration": 0,
    "start_time": "2022-07-28T17:49:11.996Z"
   },
   {
    "duration": 0,
    "start_time": "2022-07-28T17:49:11.997Z"
   },
   {
    "duration": 0,
    "start_time": "2022-07-28T17:49:11.999Z"
   },
   {
    "duration": 0,
    "start_time": "2022-07-28T17:49:12.000Z"
   },
   {
    "duration": 0,
    "start_time": "2022-07-28T17:49:12.001Z"
   },
   {
    "duration": 0,
    "start_time": "2022-07-28T17:49:12.003Z"
   },
   {
    "duration": 0,
    "start_time": "2022-07-28T17:49:12.004Z"
   },
   {
    "duration": 0,
    "start_time": "2022-07-28T17:49:12.006Z"
   },
   {
    "duration": 0,
    "start_time": "2022-07-28T17:49:12.007Z"
   },
   {
    "duration": 0,
    "start_time": "2022-07-28T17:49:12.009Z"
   },
   {
    "duration": 0,
    "start_time": "2022-07-28T17:49:12.010Z"
   },
   {
    "duration": 0,
    "start_time": "2022-07-28T17:49:12.011Z"
   },
   {
    "duration": 0,
    "start_time": "2022-07-28T17:49:12.013Z"
   },
   {
    "duration": 0,
    "start_time": "2022-07-28T17:49:12.014Z"
   },
   {
    "duration": 0,
    "start_time": "2022-07-28T17:49:12.015Z"
   },
   {
    "duration": 0,
    "start_time": "2022-07-28T17:49:12.023Z"
   },
   {
    "duration": 0,
    "start_time": "2022-07-28T17:49:12.023Z"
   },
   {
    "duration": 0,
    "start_time": "2022-07-28T17:49:12.024Z"
   },
   {
    "duration": 0,
    "start_time": "2022-07-28T17:49:12.025Z"
   },
   {
    "duration": 33,
    "start_time": "2022-07-28T17:49:43.822Z"
   },
   {
    "duration": 935,
    "start_time": "2022-07-28T17:50:38.718Z"
   },
   {
    "duration": 1216,
    "start_time": "2022-07-28T17:51:28.584Z"
   },
   {
    "duration": 17,
    "start_time": "2022-07-28T17:51:36.388Z"
   },
   {
    "duration": 19,
    "start_time": "2022-07-28T17:58:43.281Z"
   },
   {
    "duration": 12,
    "start_time": "2022-07-28T18:51:07.848Z"
   },
   {
    "duration": 1409,
    "start_time": "2022-07-28T18:51:14.571Z"
   },
   {
    "duration": 860,
    "start_time": "2022-07-28T18:51:15.982Z"
   },
   {
    "duration": 133,
    "start_time": "2022-07-28T18:51:16.844Z"
   },
   {
    "duration": 135,
    "start_time": "2022-07-28T18:51:16.980Z"
   },
   {
    "duration": 110,
    "start_time": "2022-07-28T18:51:17.117Z"
   },
   {
    "duration": 6,
    "start_time": "2022-07-28T18:51:17.229Z"
   },
   {
    "duration": 7,
    "start_time": "2022-07-28T18:51:17.236Z"
   },
   {
    "duration": 503,
    "start_time": "2022-07-28T18:51:17.245Z"
   },
   {
    "duration": 529,
    "start_time": "2022-07-28T18:51:17.750Z"
   },
   {
    "duration": 25,
    "start_time": "2022-07-28T18:51:18.282Z"
   },
   {
    "duration": 35,
    "start_time": "2022-07-28T18:51:18.309Z"
   },
   {
    "duration": 18,
    "start_time": "2022-07-28T18:51:18.347Z"
   },
   {
    "duration": 26,
    "start_time": "2022-07-28T18:51:18.367Z"
   },
   {
    "duration": 138,
    "start_time": "2022-07-28T18:51:18.394Z"
   },
   {
    "duration": 32,
    "start_time": "2022-07-28T18:51:18.534Z"
   },
   {
    "duration": 77,
    "start_time": "2022-07-28T18:51:18.568Z"
   },
   {
    "duration": 3,
    "start_time": "2022-07-28T18:51:18.647Z"
   },
   {
    "duration": 4,
    "start_time": "2022-07-28T18:51:18.652Z"
   },
   {
    "duration": 1142,
    "start_time": "2022-07-28T18:51:18.658Z"
   },
   {
    "duration": 121,
    "start_time": "2022-07-28T18:51:19.802Z"
   },
   {
    "duration": 2251,
    "start_time": "2022-07-28T18:51:19.925Z"
   },
   {
    "duration": 20646,
    "start_time": "2022-07-28T18:51:22.177Z"
   },
   {
    "duration": 5326,
    "start_time": "2022-07-28T18:51:42.825Z"
   },
   {
    "duration": 20,
    "start_time": "2022-07-28T18:51:48.153Z"
   },
   {
    "duration": 26,
    "start_time": "2022-07-28T18:51:48.175Z"
   },
   {
    "duration": 123,
    "start_time": "2022-07-28T18:51:48.204Z"
   },
   {
    "duration": 224,
    "start_time": "2022-07-28T18:51:48.329Z"
   },
   {
    "duration": 81,
    "start_time": "2022-07-28T18:51:48.556Z"
   },
   {
    "duration": 56,
    "start_time": "2022-07-28T18:51:48.639Z"
   },
   {
    "duration": 120,
    "start_time": "2022-07-28T18:51:48.697Z"
   },
   {
    "duration": 107,
    "start_time": "2022-07-28T18:51:48.818Z"
   },
   {
    "duration": 710,
    "start_time": "2022-07-28T18:51:48.927Z"
   },
   {
    "duration": 74,
    "start_time": "2022-07-28T18:51:49.639Z"
   },
   {
    "duration": 0,
    "start_time": "2022-07-28T18:51:49.715Z"
   },
   {
    "duration": 0,
    "start_time": "2022-07-28T18:51:49.716Z"
   },
   {
    "duration": 0,
    "start_time": "2022-07-28T18:51:49.717Z"
   },
   {
    "duration": 0,
    "start_time": "2022-07-28T18:51:49.718Z"
   },
   {
    "duration": 0,
    "start_time": "2022-07-28T18:51:49.719Z"
   },
   {
    "duration": 0,
    "start_time": "2022-07-28T18:51:49.720Z"
   },
   {
    "duration": 0,
    "start_time": "2022-07-28T18:51:49.721Z"
   },
   {
    "duration": 1,
    "start_time": "2022-07-28T18:51:49.722Z"
   },
   {
    "duration": 0,
    "start_time": "2022-07-28T18:51:49.724Z"
   },
   {
    "duration": 0,
    "start_time": "2022-07-28T18:51:49.725Z"
   },
   {
    "duration": 0,
    "start_time": "2022-07-28T18:51:49.726Z"
   },
   {
    "duration": 0,
    "start_time": "2022-07-28T18:51:49.727Z"
   },
   {
    "duration": 0,
    "start_time": "2022-07-28T18:51:49.728Z"
   },
   {
    "duration": 21,
    "start_time": "2022-07-28T18:52:25.401Z"
   },
   {
    "duration": 219,
    "start_time": "2022-07-28T18:55:06.351Z"
   },
   {
    "duration": 94,
    "start_time": "2022-07-28T18:56:19.012Z"
   },
   {
    "duration": 81,
    "start_time": "2022-07-28T18:57:08.312Z"
   },
   {
    "duration": 771,
    "start_time": "2022-07-28T18:58:53.395Z"
   },
   {
    "duration": 14,
    "start_time": "2022-07-28T18:59:16.914Z"
   },
   {
    "duration": 775,
    "start_time": "2022-07-28T18:59:38.469Z"
   },
   {
    "duration": 1469,
    "start_time": "2022-07-28T18:59:47.506Z"
   },
   {
    "duration": 913,
    "start_time": "2022-07-28T18:59:48.978Z"
   },
   {
    "duration": 131,
    "start_time": "2022-07-28T18:59:49.892Z"
   },
   {
    "duration": 124,
    "start_time": "2022-07-28T18:59:50.025Z"
   },
   {
    "duration": 109,
    "start_time": "2022-07-28T18:59:50.151Z"
   },
   {
    "duration": 6,
    "start_time": "2022-07-28T18:59:50.261Z"
   },
   {
    "duration": 10,
    "start_time": "2022-07-28T18:59:50.268Z"
   },
   {
    "duration": 500,
    "start_time": "2022-07-28T18:59:50.279Z"
   },
   {
    "duration": 480,
    "start_time": "2022-07-28T18:59:50.781Z"
   },
   {
    "duration": 24,
    "start_time": "2022-07-28T18:59:51.262Z"
   },
   {
    "duration": 37,
    "start_time": "2022-07-28T18:59:51.287Z"
   },
   {
    "duration": 15,
    "start_time": "2022-07-28T18:59:51.326Z"
   },
   {
    "duration": 31,
    "start_time": "2022-07-28T18:59:51.343Z"
   },
   {
    "duration": 129,
    "start_time": "2022-07-28T18:59:51.377Z"
   },
   {
    "duration": 31,
    "start_time": "2022-07-28T18:59:51.508Z"
   },
   {
    "duration": 52,
    "start_time": "2022-07-28T18:59:51.541Z"
   },
   {
    "duration": 2,
    "start_time": "2022-07-28T18:59:51.595Z"
   },
   {
    "duration": 8,
    "start_time": "2022-07-28T18:59:51.599Z"
   },
   {
    "duration": 1013,
    "start_time": "2022-07-28T18:59:51.623Z"
   },
   {
    "duration": 98,
    "start_time": "2022-07-28T18:59:52.638Z"
   },
   {
    "duration": 2076,
    "start_time": "2022-07-28T18:59:52.738Z"
   },
   {
    "duration": 20251,
    "start_time": "2022-07-28T18:59:54.816Z"
   },
   {
    "duration": 5339,
    "start_time": "2022-07-28T19:00:15.069Z"
   },
   {
    "duration": 20,
    "start_time": "2022-07-28T19:00:20.410Z"
   },
   {
    "duration": 21,
    "start_time": "2022-07-28T19:00:20.433Z"
   },
   {
    "duration": 116,
    "start_time": "2022-07-28T19:00:20.456Z"
   },
   {
    "duration": 224,
    "start_time": "2022-07-28T19:00:20.574Z"
   },
   {
    "duration": 77,
    "start_time": "2022-07-28T19:00:20.800Z"
   },
   {
    "duration": 80,
    "start_time": "2022-07-28T19:00:20.879Z"
   },
   {
    "duration": 43,
    "start_time": "2022-07-28T19:00:20.961Z"
   },
   {
    "duration": 83,
    "start_time": "2022-07-28T19:00:21.006Z"
   },
   {
    "duration": 105,
    "start_time": "2022-07-28T19:00:21.091Z"
   },
   {
    "duration": 646,
    "start_time": "2022-07-28T19:00:21.198Z"
   },
   {
    "duration": 1227,
    "start_time": "2022-07-28T19:00:21.846Z"
   },
   {
    "duration": 0,
    "start_time": "2022-07-28T19:00:23.076Z"
   },
   {
    "duration": 0,
    "start_time": "2022-07-28T19:00:23.078Z"
   },
   {
    "duration": 0,
    "start_time": "2022-07-28T19:00:23.079Z"
   },
   {
    "duration": 0,
    "start_time": "2022-07-28T19:00:23.081Z"
   },
   {
    "duration": 0,
    "start_time": "2022-07-28T19:00:23.082Z"
   },
   {
    "duration": 0,
    "start_time": "2022-07-28T19:00:23.084Z"
   },
   {
    "duration": 0,
    "start_time": "2022-07-28T19:00:23.085Z"
   },
   {
    "duration": 0,
    "start_time": "2022-07-28T19:00:23.087Z"
   },
   {
    "duration": 0,
    "start_time": "2022-07-28T19:00:23.089Z"
   },
   {
    "duration": 0,
    "start_time": "2022-07-28T19:00:23.090Z"
   },
   {
    "duration": 0,
    "start_time": "2022-07-28T19:00:23.091Z"
   },
   {
    "duration": 0,
    "start_time": "2022-07-28T19:00:23.093Z"
   },
   {
    "duration": 0,
    "start_time": "2022-07-28T19:00:23.094Z"
   },
   {
    "duration": 1441,
    "start_time": "2022-07-28T19:00:36.866Z"
   },
   {
    "duration": 937,
    "start_time": "2022-07-28T19:00:38.309Z"
   },
   {
    "duration": 129,
    "start_time": "2022-07-28T19:00:39.247Z"
   },
   {
    "duration": 119,
    "start_time": "2022-07-28T19:00:39.379Z"
   },
   {
    "duration": 108,
    "start_time": "2022-07-28T19:00:39.499Z"
   },
   {
    "duration": 18,
    "start_time": "2022-07-28T19:00:39.609Z"
   },
   {
    "duration": 10,
    "start_time": "2022-07-28T19:00:39.629Z"
   },
   {
    "duration": 518,
    "start_time": "2022-07-28T19:00:39.641Z"
   },
   {
    "duration": 475,
    "start_time": "2022-07-28T19:00:40.162Z"
   },
   {
    "duration": 25,
    "start_time": "2022-07-28T19:00:40.641Z"
   },
   {
    "duration": 26,
    "start_time": "2022-07-28T19:00:40.669Z"
   },
   {
    "duration": 37,
    "start_time": "2022-07-28T19:00:40.697Z"
   },
   {
    "duration": 25,
    "start_time": "2022-07-28T19:00:40.736Z"
   },
   {
    "duration": 132,
    "start_time": "2022-07-28T19:00:40.763Z"
   },
   {
    "duration": 38,
    "start_time": "2022-07-28T19:00:40.898Z"
   },
   {
    "duration": 51,
    "start_time": "2022-07-28T19:00:40.938Z"
   },
   {
    "duration": 2,
    "start_time": "2022-07-28T19:00:40.991Z"
   },
   {
    "duration": 9,
    "start_time": "2022-07-28T19:00:40.995Z"
   },
   {
    "duration": 1068,
    "start_time": "2022-07-28T19:00:41.005Z"
   },
   {
    "duration": 109,
    "start_time": "2022-07-28T19:00:42.075Z"
   },
   {
    "duration": 2161,
    "start_time": "2022-07-28T19:00:42.186Z"
   },
   {
    "duration": 21057,
    "start_time": "2022-07-28T19:00:44.349Z"
   },
   {
    "duration": 5370,
    "start_time": "2022-07-28T19:01:05.408Z"
   },
   {
    "duration": 19,
    "start_time": "2022-07-28T19:01:10.780Z"
   },
   {
    "duration": 35,
    "start_time": "2022-07-28T19:01:10.800Z"
   },
   {
    "duration": 115,
    "start_time": "2022-07-28T19:01:10.837Z"
   },
   {
    "duration": 241,
    "start_time": "2022-07-28T19:01:10.955Z"
   },
   {
    "duration": 80,
    "start_time": "2022-07-28T19:01:11.199Z"
   },
   {
    "duration": 67,
    "start_time": "2022-07-28T19:01:11.280Z"
   },
   {
    "duration": 42,
    "start_time": "2022-07-28T19:01:11.349Z"
   },
   {
    "duration": 82,
    "start_time": "2022-07-28T19:01:11.393Z"
   },
   {
    "duration": 102,
    "start_time": "2022-07-28T19:01:11.476Z"
   },
   {
    "duration": 636,
    "start_time": "2022-07-28T19:01:11.580Z"
   },
   {
    "duration": 1083,
    "start_time": "2022-07-28T19:01:12.218Z"
   },
   {
    "duration": 0,
    "start_time": "2022-07-28T19:01:13.302Z"
   },
   {
    "duration": 0,
    "start_time": "2022-07-28T19:01:13.304Z"
   },
   {
    "duration": 0,
    "start_time": "2022-07-28T19:01:13.305Z"
   },
   {
    "duration": 0,
    "start_time": "2022-07-28T19:01:13.306Z"
   },
   {
    "duration": 0,
    "start_time": "2022-07-28T19:01:13.307Z"
   },
   {
    "duration": 0,
    "start_time": "2022-07-28T19:01:13.308Z"
   },
   {
    "duration": 0,
    "start_time": "2022-07-28T19:01:13.309Z"
   },
   {
    "duration": 0,
    "start_time": "2022-07-28T19:01:13.310Z"
   },
   {
    "duration": 0,
    "start_time": "2022-07-28T19:01:13.311Z"
   },
   {
    "duration": 0,
    "start_time": "2022-07-28T19:01:13.313Z"
   },
   {
    "duration": 0,
    "start_time": "2022-07-28T19:01:13.314Z"
   },
   {
    "duration": 0,
    "start_time": "2022-07-28T19:01:13.315Z"
   },
   {
    "duration": 0,
    "start_time": "2022-07-28T19:01:13.315Z"
   },
   {
    "duration": 14,
    "start_time": "2022-07-28T19:03:03.190Z"
   },
   {
    "duration": 915,
    "start_time": "2022-07-28T19:03:32.678Z"
   },
   {
    "duration": 837,
    "start_time": "2022-07-28T19:06:49.235Z"
   },
   {
    "duration": 1442,
    "start_time": "2022-07-28T19:07:08.277Z"
   },
   {
    "duration": 899,
    "start_time": "2022-07-28T19:07:09.721Z"
   },
   {
    "duration": 132,
    "start_time": "2022-07-28T19:07:10.623Z"
   },
   {
    "duration": 129,
    "start_time": "2022-07-28T19:07:10.758Z"
   },
   {
    "duration": 117,
    "start_time": "2022-07-28T19:07:10.889Z"
   },
   {
    "duration": 6,
    "start_time": "2022-07-28T19:07:11.007Z"
   },
   {
    "duration": 9,
    "start_time": "2022-07-28T19:07:11.024Z"
   },
   {
    "duration": 515,
    "start_time": "2022-07-28T19:07:11.034Z"
   },
   {
    "duration": 474,
    "start_time": "2022-07-28T19:07:11.551Z"
   },
   {
    "duration": 24,
    "start_time": "2022-07-28T19:07:12.028Z"
   },
   {
    "duration": 25,
    "start_time": "2022-07-28T19:07:12.054Z"
   },
   {
    "duration": 17,
    "start_time": "2022-07-28T19:07:12.080Z"
   },
   {
    "duration": 43,
    "start_time": "2022-07-28T19:07:12.098Z"
   },
   {
    "duration": 129,
    "start_time": "2022-07-28T19:07:12.142Z"
   },
   {
    "duration": 32,
    "start_time": "2022-07-28T19:07:12.272Z"
   },
   {
    "duration": 66,
    "start_time": "2022-07-28T19:07:12.306Z"
   },
   {
    "duration": 2,
    "start_time": "2022-07-28T19:07:12.374Z"
   },
   {
    "duration": 5,
    "start_time": "2022-07-28T19:07:12.378Z"
   },
   {
    "duration": 1102,
    "start_time": "2022-07-28T19:07:12.384Z"
   },
   {
    "duration": 118,
    "start_time": "2022-07-28T19:07:13.487Z"
   },
   {
    "duration": 2112,
    "start_time": "2022-07-28T19:07:13.607Z"
   },
   {
    "duration": 20450,
    "start_time": "2022-07-28T19:07:15.720Z"
   },
   {
    "duration": 5527,
    "start_time": "2022-07-28T19:07:36.172Z"
   },
   {
    "duration": 23,
    "start_time": "2022-07-28T19:07:41.701Z"
   },
   {
    "duration": 23,
    "start_time": "2022-07-28T19:07:41.726Z"
   },
   {
    "duration": 112,
    "start_time": "2022-07-28T19:07:41.751Z"
   },
   {
    "duration": 235,
    "start_time": "2022-07-28T19:07:41.864Z"
   },
   {
    "duration": 73,
    "start_time": "2022-07-28T19:07:42.103Z"
   },
   {
    "duration": 72,
    "start_time": "2022-07-28T19:07:42.178Z"
   },
   {
    "duration": 45,
    "start_time": "2022-07-28T19:07:42.252Z"
   },
   {
    "duration": 91,
    "start_time": "2022-07-28T19:07:42.299Z"
   },
   {
    "duration": 112,
    "start_time": "2022-07-28T19:07:42.392Z"
   },
   {
    "duration": 658,
    "start_time": "2022-07-28T19:07:42.505Z"
   },
   {
    "duration": 908,
    "start_time": "2022-07-28T19:07:43.165Z"
   },
   {
    "duration": 0,
    "start_time": "2022-07-28T19:07:44.074Z"
   },
   {
    "duration": 0,
    "start_time": "2022-07-28T19:07:44.075Z"
   },
   {
    "duration": 0,
    "start_time": "2022-07-28T19:07:44.077Z"
   },
   {
    "duration": 0,
    "start_time": "2022-07-28T19:07:44.078Z"
   },
   {
    "duration": 0,
    "start_time": "2022-07-28T19:07:44.079Z"
   },
   {
    "duration": 0,
    "start_time": "2022-07-28T19:07:44.080Z"
   },
   {
    "duration": 0,
    "start_time": "2022-07-28T19:07:44.082Z"
   },
   {
    "duration": 0,
    "start_time": "2022-07-28T19:07:44.083Z"
   },
   {
    "duration": 0,
    "start_time": "2022-07-28T19:07:44.084Z"
   },
   {
    "duration": 0,
    "start_time": "2022-07-28T19:07:44.085Z"
   },
   {
    "duration": 0,
    "start_time": "2022-07-28T19:07:44.087Z"
   },
   {
    "duration": 0,
    "start_time": "2022-07-28T19:07:44.088Z"
   },
   {
    "duration": 0,
    "start_time": "2022-07-28T19:07:44.089Z"
   },
   {
    "duration": 57,
    "start_time": "2022-07-28T19:08:34.253Z"
   },
   {
    "duration": 952,
    "start_time": "2022-07-28T19:08:41.245Z"
   },
   {
    "duration": 22,
    "start_time": "2022-07-28T19:16:04.617Z"
   },
   {
    "duration": 19,
    "start_time": "2022-07-28T19:16:45.125Z"
   },
   {
    "duration": 1628,
    "start_time": "2022-07-28T19:17:27.906Z"
   },
   {
    "duration": 890,
    "start_time": "2022-07-28T19:17:29.537Z"
   },
   {
    "duration": 121,
    "start_time": "2022-07-28T19:17:30.429Z"
   },
   {
    "duration": 136,
    "start_time": "2022-07-28T19:17:30.553Z"
   },
   {
    "duration": 111,
    "start_time": "2022-07-28T19:17:30.691Z"
   },
   {
    "duration": 6,
    "start_time": "2022-07-28T19:17:30.804Z"
   },
   {
    "duration": 43,
    "start_time": "2022-07-28T19:17:30.811Z"
   },
   {
    "duration": 515,
    "start_time": "2022-07-28T19:17:30.856Z"
   },
   {
    "duration": 554,
    "start_time": "2022-07-28T19:17:31.373Z"
   },
   {
    "duration": 25,
    "start_time": "2022-07-28T19:17:31.930Z"
   },
   {
    "duration": 37,
    "start_time": "2022-07-28T19:17:31.957Z"
   },
   {
    "duration": 37,
    "start_time": "2022-07-28T19:17:31.996Z"
   },
   {
    "duration": 39,
    "start_time": "2022-07-28T19:17:32.036Z"
   },
   {
    "duration": 150,
    "start_time": "2022-07-28T19:17:32.077Z"
   },
   {
    "duration": 37,
    "start_time": "2022-07-28T19:17:32.230Z"
   },
   {
    "duration": 78,
    "start_time": "2022-07-28T19:17:32.269Z"
   },
   {
    "duration": 3,
    "start_time": "2022-07-28T19:17:32.349Z"
   },
   {
    "duration": 16,
    "start_time": "2022-07-28T19:17:32.353Z"
   },
   {
    "duration": 1236,
    "start_time": "2022-07-28T19:17:32.371Z"
   },
   {
    "duration": 147,
    "start_time": "2022-07-28T19:17:33.609Z"
   },
   {
    "duration": 2204,
    "start_time": "2022-07-28T19:17:33.758Z"
   },
   {
    "duration": 22043,
    "start_time": "2022-07-28T19:17:35.964Z"
   },
   {
    "duration": 5922,
    "start_time": "2022-07-28T19:17:58.009Z"
   },
   {
    "duration": 33,
    "start_time": "2022-07-28T19:18:03.934Z"
   },
   {
    "duration": 25,
    "start_time": "2022-07-28T19:18:03.969Z"
   },
   {
    "duration": 173,
    "start_time": "2022-07-28T19:18:03.996Z"
   },
   {
    "duration": 227,
    "start_time": "2022-07-28T19:18:04.171Z"
   },
   {
    "duration": 75,
    "start_time": "2022-07-28T19:18:04.402Z"
   },
   {
    "duration": 66,
    "start_time": "2022-07-28T19:18:04.479Z"
   },
   {
    "duration": 39,
    "start_time": "2022-07-28T19:18:04.547Z"
   },
   {
    "duration": 84,
    "start_time": "2022-07-28T19:18:04.588Z"
   },
   {
    "duration": 103,
    "start_time": "2022-07-28T19:18:04.674Z"
   },
   {
    "duration": 705,
    "start_time": "2022-07-28T19:18:04.779Z"
   },
   {
    "duration": 134,
    "start_time": "2022-07-28T19:18:05.486Z"
   },
   {
    "duration": 0,
    "start_time": "2022-07-28T19:18:05.623Z"
   },
   {
    "duration": 0,
    "start_time": "2022-07-28T19:18:05.625Z"
   },
   {
    "duration": 0,
    "start_time": "2022-07-28T19:18:05.626Z"
   },
   {
    "duration": 0,
    "start_time": "2022-07-28T19:18:05.629Z"
   },
   {
    "duration": 0,
    "start_time": "2022-07-28T19:18:05.631Z"
   },
   {
    "duration": 0,
    "start_time": "2022-07-28T19:18:05.632Z"
   },
   {
    "duration": 0,
    "start_time": "2022-07-28T19:18:05.633Z"
   },
   {
    "duration": 0,
    "start_time": "2022-07-28T19:18:05.635Z"
   },
   {
    "duration": 0,
    "start_time": "2022-07-28T19:18:05.636Z"
   },
   {
    "duration": 0,
    "start_time": "2022-07-28T19:18:05.637Z"
   },
   {
    "duration": 0,
    "start_time": "2022-07-28T19:18:05.638Z"
   },
   {
    "duration": 0,
    "start_time": "2022-07-28T19:18:05.639Z"
   },
   {
    "duration": 0,
    "start_time": "2022-07-28T19:18:05.641Z"
   },
   {
    "duration": 420,
    "start_time": "2022-07-28T19:20:22.215Z"
   },
   {
    "duration": 27365,
    "start_time": "2022-07-28T19:20:25.995Z"
   },
   {
    "duration": 1611,
    "start_time": "2022-07-28T21:43:08.795Z"
   },
   {
    "duration": 1160,
    "start_time": "2022-07-28T21:43:10.408Z"
   },
   {
    "duration": 124,
    "start_time": "2022-07-28T21:43:11.570Z"
   },
   {
    "duration": 142,
    "start_time": "2022-07-28T21:43:11.696Z"
   },
   {
    "duration": 97,
    "start_time": "2022-07-28T21:43:11.841Z"
   },
   {
    "duration": 6,
    "start_time": "2022-07-28T21:43:11.940Z"
   },
   {
    "duration": 10,
    "start_time": "2022-07-28T21:43:11.961Z"
   },
   {
    "duration": 490,
    "start_time": "2022-07-28T21:43:11.973Z"
   },
   {
    "duration": 498,
    "start_time": "2022-07-28T21:43:12.465Z"
   },
   {
    "duration": 23,
    "start_time": "2022-07-28T21:43:12.964Z"
   },
   {
    "duration": 24,
    "start_time": "2022-07-28T21:43:12.988Z"
   },
   {
    "duration": 16,
    "start_time": "2022-07-28T21:43:13.013Z"
   },
   {
    "duration": 45,
    "start_time": "2022-07-28T21:43:13.032Z"
   },
   {
    "duration": 117,
    "start_time": "2022-07-28T21:43:13.081Z"
   },
   {
    "duration": 29,
    "start_time": "2022-07-28T21:43:13.200Z"
   },
   {
    "duration": 69,
    "start_time": "2022-07-28T21:43:13.231Z"
   },
   {
    "duration": 3,
    "start_time": "2022-07-28T21:43:13.302Z"
   },
   {
    "duration": 8,
    "start_time": "2022-07-28T21:43:13.306Z"
   },
   {
    "duration": 1002,
    "start_time": "2022-07-28T21:43:13.316Z"
   },
   {
    "duration": 116,
    "start_time": "2022-07-28T21:43:14.320Z"
   },
   {
    "duration": 2043,
    "start_time": "2022-07-28T21:43:14.438Z"
   },
   {
    "duration": 18664,
    "start_time": "2022-07-28T21:43:16.483Z"
   },
   {
    "duration": 4939,
    "start_time": "2022-07-28T21:43:35.148Z"
   },
   {
    "duration": 18,
    "start_time": "2022-07-28T21:43:40.088Z"
   },
   {
    "duration": 23,
    "start_time": "2022-07-28T21:43:40.107Z"
   },
   {
    "duration": 129,
    "start_time": "2022-07-28T21:43:40.131Z"
   },
   {
    "duration": 210,
    "start_time": "2022-07-28T21:43:40.262Z"
   },
   {
    "duration": 95,
    "start_time": "2022-07-28T21:43:40.474Z"
   },
   {
    "duration": 52,
    "start_time": "2022-07-28T21:43:40.573Z"
   },
   {
    "duration": 40,
    "start_time": "2022-07-28T21:43:40.627Z"
   },
   {
    "duration": 80,
    "start_time": "2022-07-28T21:43:40.668Z"
   },
   {
    "duration": 93,
    "start_time": "2022-07-28T21:43:40.749Z"
   },
   {
    "duration": 583,
    "start_time": "2022-07-28T21:43:40.844Z"
   },
   {
    "duration": 392,
    "start_time": "2022-07-28T21:43:41.429Z"
   },
   {
    "duration": 28468,
    "start_time": "2022-07-28T21:43:41.822Z"
   },
   {
    "duration": 0,
    "start_time": "2022-07-28T21:44:10.292Z"
   },
   {
    "duration": 0,
    "start_time": "2022-07-28T21:44:10.294Z"
   },
   {
    "duration": 0,
    "start_time": "2022-07-28T21:44:10.295Z"
   },
   {
    "duration": 0,
    "start_time": "2022-07-28T21:44:10.296Z"
   },
   {
    "duration": 0,
    "start_time": "2022-07-28T21:44:10.298Z"
   },
   {
    "duration": 0,
    "start_time": "2022-07-28T21:44:10.299Z"
   },
   {
    "duration": 0,
    "start_time": "2022-07-28T21:44:10.301Z"
   },
   {
    "duration": 0,
    "start_time": "2022-07-28T21:44:10.302Z"
   },
   {
    "duration": 0,
    "start_time": "2022-07-28T21:44:10.303Z"
   },
   {
    "duration": 0,
    "start_time": "2022-07-28T21:44:10.305Z"
   },
   {
    "duration": 0,
    "start_time": "2022-07-28T21:44:10.307Z"
   },
   {
    "duration": 0,
    "start_time": "2022-07-28T21:44:10.308Z"
   },
   {
    "duration": 0,
    "start_time": "2022-07-28T21:44:10.310Z"
   },
   {
    "duration": 483,
    "start_time": "2022-07-28T21:47:18.194Z"
   },
   {
    "duration": 546,
    "start_time": "2022-07-28T21:48:54.995Z"
   },
   {
    "duration": 1361,
    "start_time": "2022-07-28T21:49:08.014Z"
   },
   {
    "duration": 855,
    "start_time": "2022-07-28T21:49:09.378Z"
   },
   {
    "duration": 137,
    "start_time": "2022-07-28T21:49:10.236Z"
   },
   {
    "duration": 140,
    "start_time": "2022-07-28T21:49:10.376Z"
   },
   {
    "duration": 148,
    "start_time": "2022-07-28T21:49:10.518Z"
   },
   {
    "duration": 5,
    "start_time": "2022-07-28T21:49:10.668Z"
   },
   {
    "duration": 7,
    "start_time": "2022-07-28T21:49:10.675Z"
   },
   {
    "duration": 501,
    "start_time": "2022-07-28T21:49:10.684Z"
   },
   {
    "duration": 795,
    "start_time": "2022-07-28T21:49:11.186Z"
   },
   {
    "duration": 78,
    "start_time": "2022-07-28T21:49:11.983Z"
   },
   {
    "duration": 24,
    "start_time": "2022-07-28T21:49:12.063Z"
   },
   {
    "duration": 75,
    "start_time": "2022-07-28T21:49:12.088Z"
   },
   {
    "duration": 27,
    "start_time": "2022-07-28T21:49:12.164Z"
   },
   {
    "duration": 270,
    "start_time": "2022-07-28T21:49:12.193Z"
   },
   {
    "duration": 28,
    "start_time": "2022-07-28T21:49:12.464Z"
   },
   {
    "duration": 167,
    "start_time": "2022-07-28T21:49:12.494Z"
   },
   {
    "duration": 3,
    "start_time": "2022-07-28T21:49:12.662Z"
   },
   {
    "duration": 22,
    "start_time": "2022-07-28T21:49:12.667Z"
   },
   {
    "duration": 1279,
    "start_time": "2022-07-28T21:49:12.692Z"
   },
   {
    "duration": 118,
    "start_time": "2022-07-28T21:49:13.973Z"
   },
   {
    "duration": 1957,
    "start_time": "2022-07-28T21:49:14.092Z"
   },
   {
    "duration": 18657,
    "start_time": "2022-07-28T21:49:16.050Z"
   },
   {
    "duration": 5034,
    "start_time": "2022-07-28T21:49:34.709Z"
   },
   {
    "duration": 18,
    "start_time": "2022-07-28T21:49:39.745Z"
   },
   {
    "duration": 26,
    "start_time": "2022-07-28T21:49:39.765Z"
   },
   {
    "duration": 117,
    "start_time": "2022-07-28T21:49:39.792Z"
   },
   {
    "duration": 203,
    "start_time": "2022-07-28T21:49:39.911Z"
   },
   {
    "duration": 85,
    "start_time": "2022-07-28T21:49:40.117Z"
   },
   {
    "duration": 62,
    "start_time": "2022-07-28T21:49:40.204Z"
   },
   {
    "duration": 44,
    "start_time": "2022-07-28T21:49:40.268Z"
   },
   {
    "duration": 90,
    "start_time": "2022-07-28T21:49:40.314Z"
   },
   {
    "duration": 103,
    "start_time": "2022-07-28T21:49:40.406Z"
   },
   {
    "duration": 564,
    "start_time": "2022-07-28T21:49:40.511Z"
   },
   {
    "duration": 391,
    "start_time": "2022-07-28T21:49:41.077Z"
   },
   {
    "duration": 30345,
    "start_time": "2022-07-28T21:49:41.469Z"
   },
   {
    "duration": 0,
    "start_time": "2022-07-28T21:50:11.815Z"
   },
   {
    "duration": 0,
    "start_time": "2022-07-28T21:50:11.817Z"
   },
   {
    "duration": 0,
    "start_time": "2022-07-28T21:50:11.818Z"
   },
   {
    "duration": 0,
    "start_time": "2022-07-28T21:50:11.819Z"
   },
   {
    "duration": 0,
    "start_time": "2022-07-28T21:50:11.820Z"
   },
   {
    "duration": 0,
    "start_time": "2022-07-28T21:50:11.821Z"
   },
   {
    "duration": 0,
    "start_time": "2022-07-28T21:50:11.822Z"
   },
   {
    "duration": 0,
    "start_time": "2022-07-28T21:50:11.823Z"
   },
   {
    "duration": 0,
    "start_time": "2022-07-28T21:50:11.825Z"
   },
   {
    "duration": 0,
    "start_time": "2022-07-28T21:50:11.826Z"
   },
   {
    "duration": 0,
    "start_time": "2022-07-28T21:50:11.828Z"
   },
   {
    "duration": 0,
    "start_time": "2022-07-28T21:50:11.829Z"
   },
   {
    "duration": 0,
    "start_time": "2022-07-28T21:50:11.830Z"
   },
   {
    "duration": 11,
    "start_time": "2022-07-28T21:51:10.928Z"
   },
   {
    "duration": 771,
    "start_time": "2022-07-28T21:51:41.910Z"
   },
   {
    "duration": 431,
    "start_time": "2022-07-28T21:54:34.821Z"
   },
   {
    "duration": 19219,
    "start_time": "2022-07-28T21:54:58.798Z"
   },
   {
    "duration": 4,
    "start_time": "2022-07-28T21:56:10.290Z"
   },
   {
    "duration": 78,
    "start_time": "2022-07-28T21:56:27.756Z"
   },
   {
    "duration": 11,
    "start_time": "2022-07-28T22:02:21.011Z"
   },
   {
    "duration": 442,
    "start_time": "2022-07-28T22:02:32.729Z"
   },
   {
    "duration": 8412,
    "start_time": "2022-07-28T22:02:35.402Z"
   },
   {
    "duration": 5461,
    "start_time": "2022-07-28T22:08:18.621Z"
   },
   {
    "duration": 6882,
    "start_time": "2022-07-28T22:09:23.319Z"
   },
   {
    "duration": 1435,
    "start_time": "2022-07-28T22:10:30.632Z"
   },
   {
    "duration": 801,
    "start_time": "2022-07-28T22:10:32.069Z"
   },
   {
    "duration": 137,
    "start_time": "2022-07-28T22:10:32.871Z"
   },
   {
    "duration": 138,
    "start_time": "2022-07-28T22:10:33.010Z"
   },
   {
    "duration": 96,
    "start_time": "2022-07-28T22:10:33.151Z"
   },
   {
    "duration": 16,
    "start_time": "2022-07-28T22:10:33.249Z"
   },
   {
    "duration": 23,
    "start_time": "2022-07-28T22:10:33.267Z"
   },
   {
    "duration": 445,
    "start_time": "2022-07-28T22:10:33.292Z"
   },
   {
    "duration": 436,
    "start_time": "2022-07-28T22:10:33.739Z"
   },
   {
    "duration": 24,
    "start_time": "2022-07-28T22:10:34.177Z"
   },
   {
    "duration": 24,
    "start_time": "2022-07-28T22:10:34.203Z"
   },
   {
    "duration": 38,
    "start_time": "2022-07-28T22:10:34.229Z"
   },
   {
    "duration": 23,
    "start_time": "2022-07-28T22:10:34.269Z"
   },
   {
    "duration": 109,
    "start_time": "2022-07-28T22:10:34.295Z"
   },
   {
    "duration": 28,
    "start_time": "2022-07-28T22:10:34.405Z"
   },
   {
    "duration": 64,
    "start_time": "2022-07-28T22:10:34.434Z"
   },
   {
    "duration": 2,
    "start_time": "2022-07-28T22:10:34.500Z"
   },
   {
    "duration": 6,
    "start_time": "2022-07-28T22:10:34.503Z"
   },
   {
    "duration": 985,
    "start_time": "2022-07-28T22:10:34.510Z"
   },
   {
    "duration": 117,
    "start_time": "2022-07-28T22:10:35.497Z"
   },
   {
    "duration": 1925,
    "start_time": "2022-07-28T22:10:35.616Z"
   },
   {
    "duration": 18343,
    "start_time": "2022-07-28T22:10:37.543Z"
   },
   {
    "duration": 4975,
    "start_time": "2022-07-28T22:10:55.888Z"
   },
   {
    "duration": 20,
    "start_time": "2022-07-28T22:11:00.865Z"
   },
   {
    "duration": 33,
    "start_time": "2022-07-28T22:11:00.886Z"
   },
   {
    "duration": 132,
    "start_time": "2022-07-28T22:11:00.920Z"
   },
   {
    "duration": 215,
    "start_time": "2022-07-28T22:11:01.054Z"
   },
   {
    "duration": 77,
    "start_time": "2022-07-28T22:11:01.271Z"
   },
   {
    "duration": 52,
    "start_time": "2022-07-28T22:11:01.361Z"
   },
   {
    "duration": 55,
    "start_time": "2022-07-28T22:11:01.415Z"
   },
   {
    "duration": 77,
    "start_time": "2022-07-28T22:11:01.472Z"
   },
   {
    "duration": 93,
    "start_time": "2022-07-28T22:11:01.551Z"
   },
   {
    "duration": 642,
    "start_time": "2022-07-28T22:11:01.645Z"
   },
   {
    "duration": 408,
    "start_time": "2022-07-28T22:11:02.289Z"
   },
   {
    "duration": 23188,
    "start_time": "2022-07-28T22:11:02.698Z"
   },
   {
    "duration": 0,
    "start_time": "2022-07-28T22:11:25.888Z"
   },
   {
    "duration": 0,
    "start_time": "2022-07-28T22:11:25.889Z"
   },
   {
    "duration": 0,
    "start_time": "2022-07-28T22:11:25.890Z"
   },
   {
    "duration": 0,
    "start_time": "2022-07-28T22:11:25.892Z"
   },
   {
    "duration": 0,
    "start_time": "2022-07-28T22:11:25.893Z"
   },
   {
    "duration": 0,
    "start_time": "2022-07-28T22:11:25.893Z"
   },
   {
    "duration": 0,
    "start_time": "2022-07-28T22:11:25.895Z"
   },
   {
    "duration": 0,
    "start_time": "2022-07-28T22:11:25.896Z"
   },
   {
    "duration": 0,
    "start_time": "2022-07-28T22:11:25.897Z"
   },
   {
    "duration": 0,
    "start_time": "2022-07-28T22:11:25.898Z"
   },
   {
    "duration": 0,
    "start_time": "2022-07-28T22:11:25.899Z"
   },
   {
    "duration": 0,
    "start_time": "2022-07-28T22:11:25.900Z"
   },
   {
    "duration": 0,
    "start_time": "2022-07-28T22:11:25.901Z"
   },
   {
    "duration": 413,
    "start_time": "2022-07-28T22:11:33.277Z"
   },
   {
    "duration": 6913,
    "start_time": "2022-07-28T22:11:35.008Z"
   },
   {
    "duration": 13176,
    "start_time": "2022-07-28T22:12:11.566Z"
   },
   {
    "duration": 416,
    "start_time": "2022-07-28T22:14:07.724Z"
   },
   {
    "duration": 16044,
    "start_time": "2022-07-28T22:14:09.825Z"
   },
   {
    "duration": 65,
    "start_time": "2022-07-28T22:16:59.885Z"
   },
   {
    "duration": 57,
    "start_time": "2022-07-28T22:17:07.883Z"
   },
   {
    "duration": 4,
    "start_time": "2022-07-28T22:20:28.679Z"
   },
   {
    "duration": 146,
    "start_time": "2022-07-28T22:20:46.837Z"
   },
   {
    "duration": 878,
    "start_time": "2022-07-28T22:21:11.918Z"
   },
   {
    "duration": 17940,
    "start_time": "2022-07-28T22:21:14.808Z"
   },
   {
    "duration": 332,
    "start_time": "2022-07-28T22:23:03.963Z"
   },
   {
    "duration": 12276,
    "start_time": "2022-07-28T22:23:50.164Z"
   },
   {
    "duration": 18368,
    "start_time": "2022-07-28T22:25:59.398Z"
   },
   {
    "duration": 1420,
    "start_time": "2022-07-28T22:27:42.459Z"
   },
   {
    "duration": 830,
    "start_time": "2022-07-28T22:27:43.880Z"
   },
   {
    "duration": 132,
    "start_time": "2022-07-28T22:27:44.712Z"
   },
   {
    "duration": 142,
    "start_time": "2022-07-28T22:27:44.846Z"
   },
   {
    "duration": 144,
    "start_time": "2022-07-28T22:27:44.989Z"
   },
   {
    "duration": 5,
    "start_time": "2022-07-28T22:27:45.135Z"
   },
   {
    "duration": 35,
    "start_time": "2022-07-28T22:27:45.141Z"
   },
   {
    "duration": 514,
    "start_time": "2022-07-28T22:27:45.178Z"
   },
   {
    "duration": 519,
    "start_time": "2022-07-28T22:27:45.694Z"
   },
   {
    "duration": 32,
    "start_time": "2022-07-28T22:27:46.216Z"
   },
   {
    "duration": 47,
    "start_time": "2022-07-28T22:27:46.250Z"
   },
   {
    "duration": 39,
    "start_time": "2022-07-28T22:27:46.299Z"
   },
   {
    "duration": 49,
    "start_time": "2022-07-28T22:27:46.340Z"
   },
   {
    "duration": 148,
    "start_time": "2022-07-28T22:27:46.391Z"
   },
   {
    "duration": 34,
    "start_time": "2022-07-28T22:27:46.541Z"
   },
   {
    "duration": 53,
    "start_time": "2022-07-28T22:27:46.577Z"
   },
   {
    "duration": 2,
    "start_time": "2022-07-28T22:27:46.632Z"
   },
   {
    "duration": 32,
    "start_time": "2022-07-28T22:27:46.636Z"
   },
   {
    "duration": 987,
    "start_time": "2022-07-28T22:27:46.669Z"
   },
   {
    "duration": 110,
    "start_time": "2022-07-28T22:27:47.658Z"
   },
   {
    "duration": 1947,
    "start_time": "2022-07-28T22:27:47.771Z"
   },
   {
    "duration": 18618,
    "start_time": "2022-07-28T22:27:49.719Z"
   },
   {
    "duration": 4803,
    "start_time": "2022-07-28T22:28:08.339Z"
   },
   {
    "duration": 19,
    "start_time": "2022-07-28T22:28:13.143Z"
   },
   {
    "duration": 22,
    "start_time": "2022-07-28T22:28:13.164Z"
   },
   {
    "duration": 121,
    "start_time": "2022-07-28T22:28:13.188Z"
   },
   {
    "duration": 208,
    "start_time": "2022-07-28T22:28:13.311Z"
   },
   {
    "duration": 84,
    "start_time": "2022-07-28T22:28:13.522Z"
   },
   {
    "duration": 59,
    "start_time": "2022-07-28T22:28:13.607Z"
   },
   {
    "duration": 39,
    "start_time": "2022-07-28T22:28:13.668Z"
   },
   {
    "duration": 88,
    "start_time": "2022-07-28T22:28:13.709Z"
   },
   {
    "duration": 100,
    "start_time": "2022-07-28T22:28:13.798Z"
   },
   {
    "duration": 598,
    "start_time": "2022-07-28T22:28:13.900Z"
   },
   {
    "duration": 411,
    "start_time": "2022-07-28T22:28:14.500Z"
   },
   {
    "duration": 21521,
    "start_time": "2022-07-28T22:28:14.913Z"
   },
   {
    "duration": 0,
    "start_time": "2022-07-28T22:28:36.435Z"
   },
   {
    "duration": 0,
    "start_time": "2022-07-28T22:28:36.437Z"
   },
   {
    "duration": 0,
    "start_time": "2022-07-28T22:28:36.439Z"
   },
   {
    "duration": 0,
    "start_time": "2022-07-28T22:28:36.440Z"
   },
   {
    "duration": 0,
    "start_time": "2022-07-28T22:28:36.442Z"
   },
   {
    "duration": 0,
    "start_time": "2022-07-28T22:28:36.443Z"
   },
   {
    "duration": 0,
    "start_time": "2022-07-28T22:28:36.445Z"
   },
   {
    "duration": 0,
    "start_time": "2022-07-28T22:28:36.447Z"
   },
   {
    "duration": 0,
    "start_time": "2022-07-28T22:28:36.461Z"
   },
   {
    "duration": 0,
    "start_time": "2022-07-28T22:28:36.462Z"
   },
   {
    "duration": 0,
    "start_time": "2022-07-28T22:28:36.464Z"
   },
   {
    "duration": 0,
    "start_time": "2022-07-28T22:28:36.465Z"
   },
   {
    "duration": 0,
    "start_time": "2022-07-28T22:28:36.467Z"
   },
   {
    "duration": 0,
    "start_time": "2022-07-28T22:28:36.468Z"
   },
   {
    "duration": 858,
    "start_time": "2022-07-28T22:28:45.246Z"
   },
   {
    "duration": 10546,
    "start_time": "2022-07-28T22:28:48.877Z"
   },
   {
    "duration": 12226,
    "start_time": "2022-07-28T22:32:01.368Z"
   },
   {
    "duration": 1464,
    "start_time": "2022-07-28T22:32:29.546Z"
   },
   {
    "duration": 47047,
    "start_time": "2022-07-28T22:33:25.397Z"
   },
   {
    "duration": 2814,
    "start_time": "2022-07-28T22:34:12.446Z"
   },
   {
    "duration": 6319,
    "start_time": "2022-07-28T22:35:17.900Z"
   },
   {
    "duration": 2709,
    "start_time": "2022-07-28T22:35:49.122Z"
   },
   {
    "duration": 2834,
    "start_time": "2022-07-28T22:36:15.638Z"
   },
   {
    "duration": 41,
    "start_time": "2022-07-28T22:37:42.430Z"
   },
   {
    "duration": 23,
    "start_time": "2022-07-28T22:38:00.610Z"
   },
   {
    "duration": 3,
    "start_time": "2022-07-28T22:39:28.516Z"
   },
   {
    "duration": 4,
    "start_time": "2022-07-28T22:39:46.905Z"
   },
   {
    "duration": 3,
    "start_time": "2022-07-28T22:40:07.421Z"
   },
   {
    "duration": 3,
    "start_time": "2022-07-28T22:40:12.230Z"
   },
   {
    "duration": 4,
    "start_time": "2022-07-28T22:40:28.369Z"
   },
   {
    "duration": 4,
    "start_time": "2022-07-28T22:40:33.271Z"
   },
   {
    "duration": 5,
    "start_time": "2022-07-28T22:41:06.300Z"
   },
   {
    "duration": 4,
    "start_time": "2022-07-28T22:41:24.048Z"
   },
   {
    "duration": 4,
    "start_time": "2022-07-28T22:43:47.751Z"
   },
   {
    "duration": 4,
    "start_time": "2022-07-28T22:43:55.201Z"
   },
   {
    "duration": 4,
    "start_time": "2022-07-28T22:47:40.559Z"
   },
   {
    "duration": 5,
    "start_time": "2022-07-28T22:48:33.203Z"
   },
   {
    "duration": 4,
    "start_time": "2022-07-28T22:48:37.398Z"
   },
   {
    "duration": 321,
    "start_time": "2022-07-28T22:48:55.199Z"
   },
   {
    "duration": 21229,
    "start_time": "2022-07-28T22:48:58.431Z"
   },
   {
    "duration": 1424,
    "start_time": "2022-07-28T22:49:55.929Z"
   },
   {
    "duration": 799,
    "start_time": "2022-07-28T22:49:57.355Z"
   },
   {
    "duration": 122,
    "start_time": "2022-07-28T22:49:58.156Z"
   },
   {
    "duration": 139,
    "start_time": "2022-07-28T22:49:58.281Z"
   },
   {
    "duration": 92,
    "start_time": "2022-07-28T22:49:58.422Z"
   },
   {
    "duration": 5,
    "start_time": "2022-07-28T22:49:58.516Z"
   },
   {
    "duration": 12,
    "start_time": "2022-07-28T22:49:58.522Z"
   },
   {
    "duration": 460,
    "start_time": "2022-07-28T22:49:58.536Z"
   },
   {
    "duration": 516,
    "start_time": "2022-07-28T22:49:58.998Z"
   },
   {
    "duration": 26,
    "start_time": "2022-07-28T22:49:59.517Z"
   },
   {
    "duration": 40,
    "start_time": "2022-07-28T22:49:59.547Z"
   },
   {
    "duration": 27,
    "start_time": "2022-07-28T22:49:59.589Z"
   },
   {
    "duration": 23,
    "start_time": "2022-07-28T22:49:59.617Z"
   },
   {
    "duration": 109,
    "start_time": "2022-07-28T22:49:59.642Z"
   },
   {
    "duration": 30,
    "start_time": "2022-07-28T22:49:59.752Z"
   },
   {
    "duration": 57,
    "start_time": "2022-07-28T22:49:59.784Z"
   },
   {
    "duration": 3,
    "start_time": "2022-07-28T22:49:59.842Z"
   },
   {
    "duration": 16,
    "start_time": "2022-07-28T22:49:59.846Z"
   },
   {
    "duration": 1011,
    "start_time": "2022-07-28T22:49:59.863Z"
   },
   {
    "duration": 113,
    "start_time": "2022-07-28T22:50:00.876Z"
   },
   {
    "duration": 1981,
    "start_time": "2022-07-28T22:50:00.991Z"
   },
   {
    "duration": 18730,
    "start_time": "2022-07-28T22:50:02.973Z"
   },
   {
    "duration": 4830,
    "start_time": "2022-07-28T22:50:21.704Z"
   },
   {
    "duration": 17,
    "start_time": "2022-07-28T22:50:26.536Z"
   },
   {
    "duration": 41,
    "start_time": "2022-07-28T22:50:26.560Z"
   },
   {
    "duration": 115,
    "start_time": "2022-07-28T22:50:26.603Z"
   },
   {
    "duration": 194,
    "start_time": "2022-07-28T22:50:26.720Z"
   },
   {
    "duration": 77,
    "start_time": "2022-07-28T22:50:26.917Z"
   },
   {
    "duration": 65,
    "start_time": "2022-07-28T22:50:26.996Z"
   },
   {
    "duration": 43,
    "start_time": "2022-07-28T22:50:27.062Z"
   },
   {
    "duration": 84,
    "start_time": "2022-07-28T22:50:27.107Z"
   },
   {
    "duration": 92,
    "start_time": "2022-07-28T22:50:27.192Z"
   },
   {
    "duration": 4,
    "start_time": "2022-07-28T22:50:27.286Z"
   },
   {
    "duration": 15,
    "start_time": "2022-07-28T22:50:27.291Z"
   },
   {
    "duration": 569,
    "start_time": "2022-07-28T22:50:27.307Z"
   },
   {
    "duration": 5,
    "start_time": "2022-07-28T22:50:27.877Z"
   },
   {
    "duration": 13,
    "start_time": "2022-07-28T22:50:27.883Z"
   },
   {
    "duration": 4,
    "start_time": "2022-07-28T22:50:27.898Z"
   },
   {
    "duration": 6,
    "start_time": "2022-07-28T22:50:27.904Z"
   },
   {
    "duration": 409,
    "start_time": "2022-07-28T22:50:27.912Z"
   },
   {
    "duration": 20839,
    "start_time": "2022-07-28T22:50:28.322Z"
   },
   {
    "duration": 523,
    "start_time": "2022-07-28T22:50:49.163Z"
   },
   {
    "duration": 12235,
    "start_time": "2022-07-28T22:50:49.688Z"
   },
   {
    "duration": 502,
    "start_time": "2022-07-28T22:51:01.925Z"
   },
   {
    "duration": 102,
    "start_time": "2022-07-28T22:51:02.428Z"
   },
   {
    "duration": 114773,
    "start_time": "2022-07-28T22:51:02.532Z"
   },
   {
    "duration": 15528,
    "start_time": "2022-07-28T22:52:57.307Z"
   },
   {
    "duration": 133,
    "start_time": "2022-07-28T22:53:12.837Z"
   },
   {
    "duration": 24,
    "start_time": "2022-07-28T22:53:12.972Z"
   },
   {
    "duration": 71,
    "start_time": "2022-07-28T22:53:12.997Z"
   },
   {
    "duration": 294725,
    "start_time": "2022-07-28T22:53:13.070Z"
   },
   {
    "duration": 0,
    "start_time": "2022-07-28T22:58:07.797Z"
   },
   {
    "duration": 0,
    "start_time": "2022-07-28T22:58:07.799Z"
   },
   {
    "duration": 1376,
    "start_time": "2022-07-28T22:58:17.615Z"
   },
   {
    "duration": 859,
    "start_time": "2022-07-28T22:58:18.993Z"
   },
   {
    "duration": 140,
    "start_time": "2022-07-28T22:58:19.854Z"
   },
   {
    "duration": 133,
    "start_time": "2022-07-28T22:58:19.996Z"
   },
   {
    "duration": 101,
    "start_time": "2022-07-28T22:58:20.130Z"
   },
   {
    "duration": 5,
    "start_time": "2022-07-28T22:58:20.233Z"
   },
   {
    "duration": 23,
    "start_time": "2022-07-28T22:58:20.240Z"
   },
   {
    "duration": 461,
    "start_time": "2022-07-28T22:58:20.265Z"
   },
   {
    "duration": 678,
    "start_time": "2022-07-28T22:58:20.727Z"
   },
   {
    "duration": 25,
    "start_time": "2022-07-28T22:58:21.460Z"
   },
   {
    "duration": 77,
    "start_time": "2022-07-28T22:58:21.486Z"
   },
   {
    "duration": 31,
    "start_time": "2022-07-28T22:58:21.565Z"
   },
   {
    "duration": 73,
    "start_time": "2022-07-28T22:58:21.598Z"
   },
   {
    "duration": 290,
    "start_time": "2022-07-28T22:58:21.673Z"
   },
   {
    "duration": 28,
    "start_time": "2022-07-28T22:58:21.965Z"
   },
   {
    "duration": 104,
    "start_time": "2022-07-28T22:58:21.995Z"
   },
   {
    "duration": 2,
    "start_time": "2022-07-28T22:58:22.101Z"
   },
   {
    "duration": 3,
    "start_time": "2022-07-28T22:58:22.160Z"
   },
   {
    "duration": 1237,
    "start_time": "2022-07-28T22:58:22.164Z"
   },
   {
    "duration": 111,
    "start_time": "2022-07-28T22:58:23.402Z"
   },
   {
    "duration": 1998,
    "start_time": "2022-07-28T22:58:23.515Z"
   },
   {
    "duration": 18274,
    "start_time": "2022-07-28T22:58:25.515Z"
   },
   {
    "duration": 4799,
    "start_time": "2022-07-28T22:58:43.791Z"
   },
   {
    "duration": 18,
    "start_time": "2022-07-28T22:58:48.592Z"
   },
   {
    "duration": 21,
    "start_time": "2022-07-28T22:58:48.612Z"
   },
   {
    "duration": 138,
    "start_time": "2022-07-28T22:58:48.635Z"
   },
   {
    "duration": 204,
    "start_time": "2022-07-28T22:58:48.774Z"
   },
   {
    "duration": 86,
    "start_time": "2022-07-28T22:58:48.981Z"
   },
   {
    "duration": 48,
    "start_time": "2022-07-28T22:58:49.068Z"
   },
   {
    "duration": 51,
    "start_time": "2022-07-28T22:58:49.117Z"
   },
   {
    "duration": 74,
    "start_time": "2022-07-28T22:58:49.170Z"
   },
   {
    "duration": 93,
    "start_time": "2022-07-28T22:58:49.246Z"
   },
   {
    "duration": 4,
    "start_time": "2022-07-28T22:58:49.340Z"
   },
   {
    "duration": 21,
    "start_time": "2022-07-28T22:58:49.346Z"
   },
   {
    "duration": 568,
    "start_time": "2022-07-28T22:58:49.368Z"
   },
   {
    "duration": 4,
    "start_time": "2022-07-28T22:58:49.938Z"
   },
   {
    "duration": 6,
    "start_time": "2022-07-28T22:58:49.943Z"
   },
   {
    "duration": 14,
    "start_time": "2022-07-28T22:58:49.951Z"
   },
   {
    "duration": 8,
    "start_time": "2022-07-28T22:58:49.966Z"
   },
   {
    "duration": 397,
    "start_time": "2022-07-28T22:58:49.975Z"
   },
   {
    "duration": 29687,
    "start_time": "2022-07-28T22:58:50.374Z"
   },
   {
    "duration": 521,
    "start_time": "2022-07-28T22:59:20.063Z"
   },
   {
    "duration": 55715,
    "start_time": "2022-07-28T22:59:20.586Z"
   },
   {
    "duration": 0,
    "start_time": "2022-07-28T23:00:16.303Z"
   },
   {
    "duration": 0,
    "start_time": "2022-07-28T23:00:16.304Z"
   },
   {
    "duration": 0,
    "start_time": "2022-07-28T23:00:16.306Z"
   },
   {
    "duration": 0,
    "start_time": "2022-07-28T23:00:16.307Z"
   },
   {
    "duration": 0,
    "start_time": "2022-07-28T23:00:16.309Z"
   },
   {
    "duration": 0,
    "start_time": "2022-07-28T23:00:16.310Z"
   },
   {
    "duration": 0,
    "start_time": "2022-07-28T23:00:16.313Z"
   },
   {
    "duration": 0,
    "start_time": "2022-07-28T23:00:16.314Z"
   },
   {
    "duration": 0,
    "start_time": "2022-07-28T23:00:16.316Z"
   },
   {
    "duration": 0,
    "start_time": "2022-07-28T23:00:16.318Z"
   },
   {
    "duration": 40896,
    "start_time": "2022-07-28T23:00:58.187Z"
   },
   {
    "duration": 8006,
    "start_time": "2022-07-28T23:02:02.547Z"
   },
   {
    "duration": 77,
    "start_time": "2022-07-28T23:08:49.156Z"
   },
   {
    "duration": 5247,
    "start_time": "2022-07-28T23:10:47.463Z"
   },
   {
    "duration": 15365,
    "start_time": "2022-07-28T23:13:09.066Z"
   },
   {
    "duration": 30371,
    "start_time": "2022-07-28T23:13:26.419Z"
   },
   {
    "duration": 3980,
    "start_time": "2022-07-28T23:13:58.754Z"
   },
   {
    "duration": 107870,
    "start_time": "2022-07-28T23:15:11.430Z"
   },
   {
    "duration": 69,
    "start_time": "2022-07-28T23:17:15.711Z"
   },
   {
    "duration": 248320,
    "start_time": "2022-07-28T23:18:45.790Z"
   },
   {
    "duration": 66,
    "start_time": "2022-07-28T23:24:46.390Z"
   },
   {
    "duration": 2362951,
    "start_time": "2022-07-28T23:24:50.110Z"
   },
   {
    "duration": 28615,
    "start_time": "2022-07-29T00:04:13.063Z"
   },
   {
    "duration": 133,
    "start_time": "2022-07-29T00:06:52.675Z"
   },
   {
    "duration": 25,
    "start_time": "2022-07-29T00:06:54.498Z"
   },
   {
    "duration": 15489,
    "start_time": "2022-07-29T00:07:08.234Z"
   },
   {
    "duration": 144,
    "start_time": "2022-07-29T00:08:44.340Z"
   },
   {
    "duration": 28,
    "start_time": "2022-07-29T00:08:46.219Z"
   },
   {
    "duration": 23,
    "start_time": "2022-07-29T00:08:57.186Z"
   },
   {
    "duration": 242104,
    "start_time": "2022-07-29T00:09:01.481Z"
   },
   {
    "duration": 131433,
    "start_time": "2022-07-29T00:14:20.153Z"
   },
   {
    "duration": 0,
    "start_time": "2022-07-29T00:16:31.588Z"
   },
   {
    "duration": 144,
    "start_time": "2022-07-29T00:16:41.122Z"
   },
   {
    "duration": 22,
    "start_time": "2022-07-29T00:16:59.263Z"
   },
   {
    "duration": 20,
    "start_time": "2022-07-29T00:18:09.311Z"
   },
   {
    "duration": 18,
    "start_time": "2022-07-29T00:18:12.031Z"
   },
   {
    "duration": 1486782,
    "start_time": "2022-07-29T00:18:18.383Z"
   },
   {
    "duration": 6405,
    "start_time": "2022-07-29T00:43:05.167Z"
   },
   {
    "duration": 5465,
    "start_time": "2022-07-29T00:45:49.405Z"
   },
   {
    "duration": 741,
    "start_time": "2022-07-29T00:45:55.230Z"
   },
   {
    "duration": 27164,
    "start_time": "2022-07-29T01:01:25.667Z"
   },
   {
    "duration": 297,
    "start_time": "2022-07-29T01:01:59.987Z"
   },
   {
    "duration": 20747,
    "start_time": "2022-07-29T01:06:11.115Z"
   },
   {
    "duration": 139,
    "start_time": "2022-07-29T01:06:38.028Z"
   },
   {
    "duration": 7680,
    "start_time": "2022-07-29T01:08:04.305Z"
   },
   {
    "duration": 412,
    "start_time": "2022-07-29T01:08:18.680Z"
   },
   {
    "duration": 54,
    "start_time": "2022-07-29T01:11:00.708Z"
   },
   {
    "duration": 9,
    "start_time": "2022-07-29T01:11:31.188Z"
   },
   {
    "duration": 10423,
    "start_time": "2022-07-29T01:18:02.251Z"
   },
   {
    "duration": 1156,
    "start_time": "2022-07-29T01:18:19.916Z"
   },
   {
    "duration": 10,
    "start_time": "2022-07-29T01:19:24.116Z"
   },
   {
    "duration": 54,
    "start_time": "2022-07-29T01:35:19.508Z"
   },
   {
    "duration": 378,
    "start_time": "2022-07-29T01:37:30.517Z"
   },
   {
    "duration": 11,
    "start_time": "2022-07-29T01:37:31.908Z"
   },
   {
    "duration": 10,
    "start_time": "2022-07-29T01:38:55.956Z"
   },
   {
    "duration": 10,
    "start_time": "2022-07-29T01:41:28.429Z"
   },
   {
    "duration": 1393,
    "start_time": "2022-07-29T01:41:41.839Z"
   },
   {
    "duration": 817,
    "start_time": "2022-07-29T01:41:43.234Z"
   },
   {
    "duration": 145,
    "start_time": "2022-07-29T01:41:44.053Z"
   },
   {
    "duration": 132,
    "start_time": "2022-07-29T01:41:44.200Z"
   },
   {
    "duration": 101,
    "start_time": "2022-07-29T01:41:44.333Z"
   },
   {
    "duration": 7,
    "start_time": "2022-07-29T01:41:44.436Z"
   },
   {
    "duration": 10,
    "start_time": "2022-07-29T01:41:44.461Z"
   },
   {
    "duration": 472,
    "start_time": "2022-07-29T01:41:44.472Z"
   },
   {
    "duration": 452,
    "start_time": "2022-07-29T01:41:44.945Z"
   },
   {
    "duration": 21,
    "start_time": "2022-07-29T01:41:45.400Z"
   },
   {
    "duration": 34,
    "start_time": "2022-07-29T01:41:45.423Z"
   },
   {
    "duration": 15,
    "start_time": "2022-07-29T01:41:45.458Z"
   },
   {
    "duration": 23,
    "start_time": "2022-07-29T01:41:45.476Z"
   },
   {
    "duration": 123,
    "start_time": "2022-07-29T01:41:45.501Z"
   },
   {
    "duration": 37,
    "start_time": "2022-07-29T01:41:45.626Z"
   },
   {
    "duration": 52,
    "start_time": "2022-07-29T01:41:45.664Z"
   },
   {
    "duration": 3,
    "start_time": "2022-07-29T01:41:45.717Z"
   },
   {
    "duration": 6,
    "start_time": "2022-07-29T01:41:45.721Z"
   },
   {
    "duration": 1000,
    "start_time": "2022-07-29T01:41:45.728Z"
   },
   {
    "duration": 112,
    "start_time": "2022-07-29T01:41:46.730Z"
   },
   {
    "duration": 2553,
    "start_time": "2022-07-29T01:41:46.843Z"
   },
   {
    "duration": 18081,
    "start_time": "2022-07-29T01:41:49.397Z"
   },
   {
    "duration": 4801,
    "start_time": "2022-07-29T01:42:07.480Z"
   },
   {
    "duration": 20,
    "start_time": "2022-07-29T01:42:12.282Z"
   },
   {
    "duration": 27,
    "start_time": "2022-07-29T01:42:12.304Z"
   },
   {
    "duration": 132,
    "start_time": "2022-07-29T01:42:12.333Z"
   },
   {
    "duration": 209,
    "start_time": "2022-07-29T01:42:12.467Z"
   },
   {
    "duration": 89,
    "start_time": "2022-07-29T01:42:12.681Z"
   },
   {
    "duration": 62,
    "start_time": "2022-07-29T01:42:12.771Z"
   },
   {
    "duration": 41,
    "start_time": "2022-07-29T01:42:12.835Z"
   },
   {
    "duration": 88,
    "start_time": "2022-07-29T01:42:12.877Z"
   },
   {
    "duration": 94,
    "start_time": "2022-07-29T01:42:12.966Z"
   },
   {
    "duration": 4,
    "start_time": "2022-07-29T01:42:13.062Z"
   },
   {
    "duration": 7,
    "start_time": "2022-07-29T01:42:13.067Z"
   },
   {
    "duration": 582,
    "start_time": "2022-07-29T01:42:13.075Z"
   },
   {
    "duration": 4,
    "start_time": "2022-07-29T01:42:13.660Z"
   },
   {
    "duration": 8,
    "start_time": "2022-07-29T01:42:13.665Z"
   },
   {
    "duration": 7,
    "start_time": "2022-07-29T01:42:13.675Z"
   },
   {
    "duration": 9,
    "start_time": "2022-07-29T01:42:13.684Z"
   },
   {
    "duration": 419,
    "start_time": "2022-07-29T01:42:13.695Z"
   },
   {
    "duration": 27649,
    "start_time": "2022-07-29T01:42:14.115Z"
   },
   {
    "duration": 197,
    "start_time": "2022-07-29T01:42:41.765Z"
   },
   {
    "duration": 518,
    "start_time": "2022-07-29T01:42:41.964Z"
   },
   {
    "duration": 107,
    "start_time": "2022-07-29T01:42:42.483Z"
   },
   {
    "duration": 0,
    "start_time": "2022-07-29T01:42:42.591Z"
   },
   {
    "duration": 0,
    "start_time": "2022-07-29T01:42:42.592Z"
   },
   {
    "duration": 0,
    "start_time": "2022-07-29T01:42:42.593Z"
   },
   {
    "duration": 0,
    "start_time": "2022-07-29T01:42:42.594Z"
   },
   {
    "duration": 0,
    "start_time": "2022-07-29T01:42:42.595Z"
   },
   {
    "duration": 0,
    "start_time": "2022-07-29T01:42:42.596Z"
   },
   {
    "duration": 0,
    "start_time": "2022-07-29T01:42:42.597Z"
   },
   {
    "duration": 0,
    "start_time": "2022-07-29T01:42:42.598Z"
   },
   {
    "duration": 0,
    "start_time": "2022-07-29T01:42:42.599Z"
   },
   {
    "duration": 0,
    "start_time": "2022-07-29T01:42:42.600Z"
   },
   {
    "duration": 0,
    "start_time": "2022-07-29T01:42:42.601Z"
   },
   {
    "duration": 0,
    "start_time": "2022-07-29T01:42:42.602Z"
   },
   {
    "duration": 0,
    "start_time": "2022-07-29T01:42:42.603Z"
   },
   {
    "duration": 0,
    "start_time": "2022-07-29T01:42:42.604Z"
   },
   {
    "duration": 10,
    "start_time": "2022-07-29T01:44:55.682Z"
   },
   {
    "duration": 10,
    "start_time": "2022-07-29T01:45:51.511Z"
   },
   {
    "duration": 302,
    "start_time": "2022-07-29T01:47:12.710Z"
   },
   {
    "duration": 4,
    "start_time": "2022-07-29T01:47:54.081Z"
   },
   {
    "duration": 1357,
    "start_time": "2022-07-29T01:48:19.278Z"
   },
   {
    "duration": 799,
    "start_time": "2022-07-29T01:48:20.637Z"
   },
   {
    "duration": 130,
    "start_time": "2022-07-29T01:48:21.438Z"
   },
   {
    "duration": 131,
    "start_time": "2022-07-29T01:48:21.570Z"
   },
   {
    "duration": 182,
    "start_time": "2022-07-29T01:48:21.702Z"
   },
   {
    "duration": 6,
    "start_time": "2022-07-29T01:48:21.886Z"
   },
   {
    "duration": 13,
    "start_time": "2022-07-29T01:48:21.893Z"
   },
   {
    "duration": 906,
    "start_time": "2022-07-29T01:48:21.960Z"
   },
   {
    "duration": 674,
    "start_time": "2022-07-29T01:48:22.867Z"
   },
   {
    "duration": 24,
    "start_time": "2022-07-29T01:48:23.544Z"
   },
   {
    "duration": 25,
    "start_time": "2022-07-29T01:48:23.570Z"
   },
   {
    "duration": 18,
    "start_time": "2022-07-29T01:48:23.596Z"
   },
   {
    "duration": 23,
    "start_time": "2022-07-29T01:48:23.616Z"
   },
   {
    "duration": 122,
    "start_time": "2022-07-29T01:48:23.641Z"
   },
   {
    "duration": 30,
    "start_time": "2022-07-29T01:48:23.764Z"
   },
   {
    "duration": 68,
    "start_time": "2022-07-29T01:48:23.795Z"
   },
   {
    "duration": 2,
    "start_time": "2022-07-29T01:48:23.865Z"
   },
   {
    "duration": 6,
    "start_time": "2022-07-29T01:48:23.869Z"
   },
   {
    "duration": 939,
    "start_time": "2022-07-29T01:48:23.877Z"
   },
   {
    "duration": 112,
    "start_time": "2022-07-29T01:48:24.817Z"
   },
   {
    "duration": 1869,
    "start_time": "2022-07-29T01:48:24.930Z"
   },
   {
    "duration": 17527,
    "start_time": "2022-07-29T01:48:26.801Z"
   },
   {
    "duration": 4628,
    "start_time": "2022-07-29T01:48:44.329Z"
   },
   {
    "duration": 17,
    "start_time": "2022-07-29T01:48:48.959Z"
   },
   {
    "duration": 21,
    "start_time": "2022-07-29T01:48:48.977Z"
   },
   {
    "duration": 119,
    "start_time": "2022-07-29T01:48:49.000Z"
   },
   {
    "duration": 203,
    "start_time": "2022-07-29T01:48:49.121Z"
   },
   {
    "duration": 75,
    "start_time": "2022-07-29T01:48:49.328Z"
   },
   {
    "duration": 56,
    "start_time": "2022-07-29T01:48:49.405Z"
   },
   {
    "duration": 38,
    "start_time": "2022-07-29T01:48:49.463Z"
   },
   {
    "duration": 85,
    "start_time": "2022-07-29T01:48:49.503Z"
   },
   {
    "duration": 96,
    "start_time": "2022-07-29T01:48:49.589Z"
   },
   {
    "duration": 4,
    "start_time": "2022-07-29T01:48:49.687Z"
   },
   {
    "duration": 10,
    "start_time": "2022-07-29T01:48:49.692Z"
   },
   {
    "duration": 601,
    "start_time": "2022-07-29T01:48:49.703Z"
   },
   {
    "duration": 3,
    "start_time": "2022-07-29T01:48:50.306Z"
   },
   {
    "duration": 13,
    "start_time": "2022-07-29T01:48:50.311Z"
   },
   {
    "duration": 7,
    "start_time": "2022-07-29T01:48:50.326Z"
   },
   {
    "duration": 16,
    "start_time": "2022-07-29T01:48:50.334Z"
   },
   {
    "duration": 405,
    "start_time": "2022-07-29T01:48:50.352Z"
   },
   {
    "duration": 21908,
    "start_time": "2022-07-29T01:48:50.758Z"
   },
   {
    "duration": 199,
    "start_time": "2022-07-29T01:49:12.668Z"
   },
   {
    "duration": 502,
    "start_time": "2022-07-29T01:49:12.960Z"
   },
   {
    "duration": 4,
    "start_time": "2022-07-29T01:49:13.464Z"
   },
   {
    "duration": 5,
    "start_time": "2022-07-29T01:49:13.470Z"
   },
   {
    "duration": 112,
    "start_time": "2022-07-29T01:49:13.477Z"
   },
   {
    "duration": 0,
    "start_time": "2022-07-29T01:49:13.591Z"
   },
   {
    "duration": 1,
    "start_time": "2022-07-29T01:49:13.592Z"
   },
   {
    "duration": 0,
    "start_time": "2022-07-29T01:49:13.593Z"
   },
   {
    "duration": 0,
    "start_time": "2022-07-29T01:49:13.594Z"
   },
   {
    "duration": 0,
    "start_time": "2022-07-29T01:49:13.595Z"
   },
   {
    "duration": 0,
    "start_time": "2022-07-29T01:49:13.596Z"
   },
   {
    "duration": 0,
    "start_time": "2022-07-29T01:49:13.597Z"
   },
   {
    "duration": 0,
    "start_time": "2022-07-29T01:49:13.598Z"
   },
   {
    "duration": 0,
    "start_time": "2022-07-29T01:49:13.599Z"
   },
   {
    "duration": 0,
    "start_time": "2022-07-29T01:49:13.600Z"
   },
   {
    "duration": 0,
    "start_time": "2022-07-29T01:49:13.601Z"
   },
   {
    "duration": 0,
    "start_time": "2022-07-29T01:49:13.601Z"
   },
   {
    "duration": 0,
    "start_time": "2022-07-29T01:49:13.603Z"
   },
   {
    "duration": 0,
    "start_time": "2022-07-29T01:49:13.604Z"
   },
   {
    "duration": 12,
    "start_time": "2022-07-29T01:51:37.318Z"
   },
   {
    "duration": 326,
    "start_time": "2022-07-29T01:51:38.749Z"
   },
   {
    "duration": 428,
    "start_time": "2022-07-29T01:51:41.969Z"
   },
   {
    "duration": 3673,
    "start_time": "2022-07-29T01:51:46.839Z"
   },
   {
    "duration": 1454,
    "start_time": "2022-07-29T01:52:09.634Z"
   },
   {
    "duration": 815,
    "start_time": "2022-07-29T01:52:11.090Z"
   },
   {
    "duration": 127,
    "start_time": "2022-07-29T01:52:11.907Z"
   },
   {
    "duration": 143,
    "start_time": "2022-07-29T01:52:12.036Z"
   },
   {
    "duration": 132,
    "start_time": "2022-07-29T01:52:12.180Z"
   },
   {
    "duration": 5,
    "start_time": "2022-07-29T01:52:12.314Z"
   },
   {
    "duration": 8,
    "start_time": "2022-07-29T01:52:12.320Z"
   },
   {
    "duration": 500,
    "start_time": "2022-07-29T01:52:12.329Z"
   },
   {
    "duration": 484,
    "start_time": "2022-07-29T01:52:12.831Z"
   },
   {
    "duration": 44,
    "start_time": "2022-07-29T01:52:13.318Z"
   },
   {
    "duration": 24,
    "start_time": "2022-07-29T01:52:13.364Z"
   },
   {
    "duration": 72,
    "start_time": "2022-07-29T01:52:13.389Z"
   },
   {
    "duration": 24,
    "start_time": "2022-07-29T01:52:13.463Z"
   },
   {
    "duration": 206,
    "start_time": "2022-07-29T01:52:13.488Z"
   },
   {
    "duration": 78,
    "start_time": "2022-07-29T01:52:13.696Z"
   },
   {
    "duration": 108,
    "start_time": "2022-07-29T01:52:13.775Z"
   },
   {
    "duration": 3,
    "start_time": "2022-07-29T01:52:13.884Z"
   },
   {
    "duration": 10,
    "start_time": "2022-07-29T01:52:13.888Z"
   },
   {
    "duration": 1566,
    "start_time": "2022-07-29T01:52:13.899Z"
   },
   {
    "duration": 116,
    "start_time": "2022-07-29T01:52:15.467Z"
   },
   {
    "duration": 1884,
    "start_time": "2022-07-29T01:52:15.584Z"
   },
   {
    "duration": 17650,
    "start_time": "2022-07-29T01:52:17.470Z"
   },
   {
    "duration": 4670,
    "start_time": "2022-07-29T01:52:35.122Z"
   },
   {
    "duration": 17,
    "start_time": "2022-07-29T01:52:39.794Z"
   },
   {
    "duration": 26,
    "start_time": "2022-07-29T01:52:39.813Z"
   },
   {
    "duration": 122,
    "start_time": "2022-07-29T01:52:39.841Z"
   },
   {
    "duration": 196,
    "start_time": "2022-07-29T01:52:39.965Z"
   },
   {
    "duration": 88,
    "start_time": "2022-07-29T01:52:40.165Z"
   },
   {
    "duration": 51,
    "start_time": "2022-07-29T01:52:40.261Z"
   },
   {
    "duration": 51,
    "start_time": "2022-07-29T01:52:40.314Z"
   },
   {
    "duration": 74,
    "start_time": "2022-07-29T01:52:40.366Z"
   },
   {
    "duration": 91,
    "start_time": "2022-07-29T01:52:40.441Z"
   },
   {
    "duration": 4,
    "start_time": "2022-07-29T01:52:40.534Z"
   },
   {
    "duration": 21,
    "start_time": "2022-07-29T01:52:40.539Z"
   },
   {
    "duration": 581,
    "start_time": "2022-07-29T01:52:40.562Z"
   },
   {
    "duration": 3,
    "start_time": "2022-07-29T01:52:41.145Z"
   },
   {
    "duration": 7,
    "start_time": "2022-07-29T01:52:41.150Z"
   },
   {
    "duration": 6,
    "start_time": "2022-07-29T01:52:41.158Z"
   },
   {
    "duration": 7,
    "start_time": "2022-07-29T01:52:41.166Z"
   },
   {
    "duration": 414,
    "start_time": "2022-07-29T01:52:41.175Z"
   },
   {
    "duration": 21376,
    "start_time": "2022-07-29T01:52:41.590Z"
   },
   {
    "duration": 198,
    "start_time": "2022-07-29T01:53:02.968Z"
   },
   {
    "duration": 100,
    "start_time": "2022-07-29T01:53:03.168Z"
   },
   {
    "duration": 321,
    "start_time": "2022-07-29T01:53:03.270Z"
   },
   {
    "duration": 428,
    "start_time": "2022-07-29T01:53:03.593Z"
   },
   {
    "duration": 3187,
    "start_time": "2022-07-29T01:53:04.023Z"
   },
   {
    "duration": 0,
    "start_time": "2022-07-29T01:53:07.212Z"
   },
   {
    "duration": 0,
    "start_time": "2022-07-29T01:53:07.212Z"
   },
   {
    "duration": 0,
    "start_time": "2022-07-29T01:53:07.214Z"
   },
   {
    "duration": 0,
    "start_time": "2022-07-29T01:53:07.214Z"
   },
   {
    "duration": 0,
    "start_time": "2022-07-29T01:53:07.215Z"
   },
   {
    "duration": 0,
    "start_time": "2022-07-29T01:53:07.216Z"
   },
   {
    "duration": 0,
    "start_time": "2022-07-29T01:53:07.217Z"
   },
   {
    "duration": 0,
    "start_time": "2022-07-29T01:53:07.218Z"
   },
   {
    "duration": 0,
    "start_time": "2022-07-29T01:53:07.219Z"
   },
   {
    "duration": 0,
    "start_time": "2022-07-29T01:53:07.220Z"
   },
   {
    "duration": 0,
    "start_time": "2022-07-29T01:53:07.221Z"
   },
   {
    "duration": 0,
    "start_time": "2022-07-29T01:53:07.222Z"
   },
   {
    "duration": 0,
    "start_time": "2022-07-29T01:53:07.223Z"
   },
   {
    "duration": 1354,
    "start_time": "2022-07-29T01:54:21.558Z"
   },
   {
    "duration": 800,
    "start_time": "2022-07-29T01:54:22.913Z"
   },
   {
    "duration": 140,
    "start_time": "2022-07-29T01:54:23.715Z"
   },
   {
    "duration": 136,
    "start_time": "2022-07-29T01:54:23.856Z"
   },
   {
    "duration": 99,
    "start_time": "2022-07-29T01:54:23.995Z"
   },
   {
    "duration": 5,
    "start_time": "2022-07-29T01:54:24.096Z"
   },
   {
    "duration": 12,
    "start_time": "2022-07-29T01:54:24.103Z"
   },
   {
    "duration": 449,
    "start_time": "2022-07-29T01:54:24.117Z"
   },
   {
    "duration": 431,
    "start_time": "2022-07-29T01:54:24.567Z"
   },
   {
    "duration": 25,
    "start_time": "2022-07-29T01:54:25.000Z"
   },
   {
    "duration": 35,
    "start_time": "2022-07-29T01:54:25.026Z"
   },
   {
    "duration": 12,
    "start_time": "2022-07-29T01:54:25.063Z"
   },
   {
    "duration": 34,
    "start_time": "2022-07-29T01:54:25.077Z"
   },
   {
    "duration": 111,
    "start_time": "2022-07-29T01:54:25.114Z"
   },
   {
    "duration": 36,
    "start_time": "2022-07-29T01:54:25.227Z"
   },
   {
    "duration": 53,
    "start_time": "2022-07-29T01:54:25.265Z"
   },
   {
    "duration": 2,
    "start_time": "2022-07-29T01:54:25.320Z"
   },
   {
    "duration": 9,
    "start_time": "2022-07-29T01:54:25.324Z"
   },
   {
    "duration": 944,
    "start_time": "2022-07-29T01:54:25.335Z"
   },
   {
    "duration": 141,
    "start_time": "2022-07-29T01:54:26.281Z"
   },
   {
    "duration": 1781,
    "start_time": "2022-07-29T01:54:26.423Z"
   },
   {
    "duration": 18422,
    "start_time": "2022-07-29T01:54:28.205Z"
   },
   {
    "duration": 4525,
    "start_time": "2022-07-29T01:54:46.629Z"
   },
   {
    "duration": 20,
    "start_time": "2022-07-29T01:54:51.155Z"
   },
   {
    "duration": 26,
    "start_time": "2022-07-29T01:54:51.176Z"
   },
   {
    "duration": 113,
    "start_time": "2022-07-29T01:54:51.204Z"
   },
   {
    "duration": 203,
    "start_time": "2022-07-29T01:54:51.319Z"
   },
   {
    "duration": 77,
    "start_time": "2022-07-29T01:54:51.524Z"
   },
   {
    "duration": 64,
    "start_time": "2022-07-29T01:54:51.602Z"
   },
   {
    "duration": 38,
    "start_time": "2022-07-29T01:54:51.667Z"
   },
   {
    "duration": 84,
    "start_time": "2022-07-29T01:54:51.706Z"
   },
   {
    "duration": 99,
    "start_time": "2022-07-29T01:54:51.791Z"
   },
   {
    "duration": 4,
    "start_time": "2022-07-29T01:54:51.892Z"
   },
   {
    "duration": 6,
    "start_time": "2022-07-29T01:54:51.898Z"
   },
   {
    "duration": 583,
    "start_time": "2022-07-29T01:54:51.906Z"
   },
   {
    "duration": 4,
    "start_time": "2022-07-29T01:54:52.491Z"
   },
   {
    "duration": 38,
    "start_time": "2022-07-29T01:54:52.497Z"
   },
   {
    "duration": 6,
    "start_time": "2022-07-29T01:54:52.537Z"
   },
   {
    "duration": 9,
    "start_time": "2022-07-29T01:54:52.544Z"
   },
   {
    "duration": 433,
    "start_time": "2022-07-29T01:54:52.554Z"
   },
   {
    "duration": 20776,
    "start_time": "2022-07-29T01:54:52.990Z"
   },
   {
    "duration": 199,
    "start_time": "2022-07-29T01:55:13.768Z"
   },
   {
    "duration": 102,
    "start_time": "2022-07-29T01:55:13.970Z"
   },
   {
    "duration": 405,
    "start_time": "2022-07-29T01:55:14.075Z"
   },
   {
    "duration": 486,
    "start_time": "2022-07-29T01:55:14.482Z"
   },
   {
    "duration": 1183,
    "start_time": "2022-07-29T01:55:14.969Z"
   },
   {
    "duration": 0,
    "start_time": "2022-07-29T01:55:16.153Z"
   },
   {
    "duration": 0,
    "start_time": "2022-07-29T01:55:16.154Z"
   },
   {
    "duration": 0,
    "start_time": "2022-07-29T01:55:16.160Z"
   },
   {
    "duration": 0,
    "start_time": "2022-07-29T01:55:16.161Z"
   },
   {
    "duration": 0,
    "start_time": "2022-07-29T01:55:16.163Z"
   },
   {
    "duration": 0,
    "start_time": "2022-07-29T01:55:16.164Z"
   },
   {
    "duration": 0,
    "start_time": "2022-07-29T01:55:16.165Z"
   },
   {
    "duration": 0,
    "start_time": "2022-07-29T01:55:16.166Z"
   },
   {
    "duration": 0,
    "start_time": "2022-07-29T01:55:16.166Z"
   },
   {
    "duration": 0,
    "start_time": "2022-07-29T01:55:16.167Z"
   },
   {
    "duration": 0,
    "start_time": "2022-07-29T01:55:16.169Z"
   },
   {
    "duration": 0,
    "start_time": "2022-07-29T01:55:16.170Z"
   },
   {
    "duration": 0,
    "start_time": "2022-07-29T01:55:16.171Z"
   },
   {
    "duration": 65152,
    "start_time": "2022-07-29T01:55:27.559Z"
   },
   {
    "duration": 3818,
    "start_time": "2022-07-29T01:56:39.897Z"
   },
   {
    "duration": 242,
    "start_time": "2022-07-29T01:56:48.253Z"
   },
   {
    "duration": 2325160,
    "start_time": "2022-07-29T01:57:31.755Z"
   },
   {
    "duration": 27539,
    "start_time": "2022-07-29T02:36:16.917Z"
   },
   {
    "duration": 337,
    "start_time": "2022-07-29T02:36:44.457Z"
   },
   {
    "duration": 275,
    "start_time": "2022-07-29T02:36:44.796Z"
   },
   {
    "duration": 20,
    "start_time": "2022-07-29T02:36:45.072Z"
   },
   {
    "duration": 18,
    "start_time": "2022-07-29T02:36:45.094Z"
   },
   {
    "duration": 17,
    "start_time": "2022-07-29T02:36:45.114Z"
   },
   {
    "duration": 2130744,
    "start_time": "2022-07-29T02:36:45.133Z"
   },
   {
    "duration": 10088,
    "start_time": "2022-07-29T03:12:15.878Z"
   },
   {
    "duration": 1208,
    "start_time": "2022-07-29T03:12:25.969Z"
   },
   {
    "duration": 84,
    "start_time": "2022-07-29T07:59:11.526Z"
   },
   {
    "duration": 53,
    "start_time": "2022-11-04T20:23:42.706Z"
   },
   {
    "duration": 1585,
    "start_time": "2022-11-04T20:23:49.870Z"
   },
   {
    "duration": 16,
    "start_time": "2022-11-04T20:23:54.035Z"
   }
  ],
  "kernelspec": {
   "display_name": "Python 3 (ipykernel)",
   "language": "python",
   "name": "python3"
  },
  "language_info": {
   "codemirror_mode": {
    "name": "ipython",
    "version": 3
   },
   "file_extension": ".py",
   "mimetype": "text/x-python",
   "name": "python",
   "nbconvert_exporter": "python",
   "pygments_lexer": "ipython3",
   "version": "3.9.12"
  },
  "toc": {
   "base_numbering": 1,
   "nav_menu": {
    "height": "85.4688px",
    "width": "172.48px"
   },
   "number_sections": true,
   "sideBar": true,
   "skip_h1_title": true,
   "title_cell": "Table of Contents",
   "title_sidebar": "Contents",
   "toc_cell": false,
   "toc_position": {
    "height": "calc(100% - 180px)",
    "left": "10px",
    "top": "150px",
    "width": "165px"
   },
   "toc_section_display": true,
   "toc_window_display": true
  }
 },
 "nbformat": 4,
 "nbformat_minor": 2
}
