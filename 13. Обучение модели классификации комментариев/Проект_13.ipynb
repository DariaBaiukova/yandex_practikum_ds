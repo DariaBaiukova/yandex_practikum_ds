{
 "cells": [
  {
   "cell_type": "markdown",
   "metadata": {
    "toc": true
   },
   "source": [
    "<h1>Содержание<span class=\"tocSkip\"></span></h1>\n",
    "<div class=\"toc\"><ul class=\"toc-item\"><li><ul class=\"toc-item\"><li><span><a href=\"#Общее-впечатление\" data-toc-modified-id=\"Общее-впечатление-0.1\"><span class=\"toc-item-num\">0.1&nbsp;&nbsp;</span><font color=\"orange\">Общее впечатление</font></a></span></li><li><span><a href=\"#Общее-впечатление-(ревью-2)\" data-toc-modified-id=\"Общее-впечатление-(ревью-2)-0.2\"><span class=\"toc-item-num\">0.2&nbsp;&nbsp;</span><font color=\"orange\">Общее впечатление (ревью 2)</font></a></span></li></ul></li><li><span><a href=\"#Подготовка\" data-toc-modified-id=\"Подготовка-1\"><span class=\"toc-item-num\">1&nbsp;&nbsp;</span>Подготовка</a></span></li><li><span><a href=\"#Обучение\" data-toc-modified-id=\"Обучение-2\"><span class=\"toc-item-num\">2&nbsp;&nbsp;</span>Обучение</a></span><ul class=\"toc-item\"><li><span><a href=\"#LogisticRegression\" data-toc-modified-id=\"LogisticRegression-2.1\"><span class=\"toc-item-num\">2.1&nbsp;&nbsp;</span>LogisticRegression</a></span></li><li><span><a href=\"#RandomForestClassifier\" data-toc-modified-id=\"RandomForestClassifier-2.2\"><span class=\"toc-item-num\">2.2&nbsp;&nbsp;</span>RandomForestClassifier</a></span></li><li><span><a href=\"#CatBoostclassifier\" data-toc-modified-id=\"CatBoostclassifier-2.3\"><span class=\"toc-item-num\">2.3&nbsp;&nbsp;</span>CatBoostclassifier</a></span></li></ul></li><li><span><a href=\"#BERT\" data-toc-modified-id=\"BERT-3\"><span class=\"toc-item-num\">3&nbsp;&nbsp;</span>BERT</a></span></li><li><span><a href=\"#Выводы\" data-toc-modified-id=\"Выводы-4\"><span class=\"toc-item-num\">4&nbsp;&nbsp;</span>Выводы</a></span></li><li><span><a href=\"#Чек-лист-проверки\" data-toc-modified-id=\"Чек-лист-проверки-5\"><span class=\"toc-item-num\">5&nbsp;&nbsp;</span>Чек-лист проверки</a></span></li></ul></div>"
   ]
  },
  {
   "cell_type": "markdown",
   "metadata": {},
   "source": [
    "# Проект для «Викишоп»"
   ]
  },
  {
   "cell_type": "markdown",
   "metadata": {},
   "source": [
    "Интернет-магазин «Викишоп» запускает новый сервис. Теперь пользователи могут редактировать и дополнять описания товаров, как в вики-сообществах. То есть клиенты предлагают свои правки и комментируют изменения других. Магазину нужен инструмент, который будет искать токсичные комментарии и отправлять их на модерацию. \n",
    "\n",
    "Обучите модель классифицировать комментарии на позитивные и негативные. В вашем распоряжении набор данных с разметкой о токсичности правок.\n",
    "\n",
    "Постройте модель со значением метрики качества *F1* не меньше 0.75. \n",
    "\n",
    "**Инструкция по выполнению проекта**\n",
    "\n",
    "1. Загрузите и подготовьте данные.\n",
    "2. Обучите разные модели. \n",
    "3. Сделайте выводы.\n",
    "\n",
    "Для выполнения проекта применять *BERT* необязательно, но вы можете попробовать.\n",
    "\n",
    "**Описание данных**\n",
    "\n",
    "Данные находятся в файле `toxic_comments.csv`. Столбец *text* в нём содержит текст комментария, а *toxic* — целевой признак."
   ]
  },
  {
   "cell_type": "markdown",
   "metadata": {},
   "source": [
    "## Подготовка"
   ]
  },
  {
   "cell_type": "code",
   "execution_count": 1,
   "metadata": {},
   "outputs": [],
   "source": [
    "import pandas as pd\n",
    "import numpy as np\n",
    "import matplotlib.pyplot as plt\n",
    "import re\n",
    "\n",
    "from sklearn.model_selection import train_test_split,RandomizedSearchCV,GridSearchCV\n",
    "from sklearn.ensemble import RandomForestClassifier\n",
    "from sklearn.linear_model import LogisticRegression\n",
    "from sklearn.metrics import f1_score\n",
    "from sklearn.feature_extraction.text import CountVectorizer,TfidfVectorizer,TfidfTransformer\n",
    "from sklearn.pipeline import Pipeline\n",
    "\n",
    "import nltk\n",
    "from nltk.stem import WordNetLemmatizer\n",
    "from nltk.corpus import wordnet,stopwords\n",
    "\n",
    "from lightgbm import LGBMClassifier\n",
    "from catboost import CatBoostClassifier\n"
   ]
  },
  {
   "cell_type": "code",
   "execution_count": 2,
   "metadata": {},
   "outputs": [],
   "source": [
    "df = pd.read_csv('/datasets/toxic_comments.csv')"
   ]
  },
  {
   "cell_type": "code",
   "execution_count": 3,
   "metadata": {},
   "outputs": [
    {
     "data": {
      "text/html": [
       "<div>\n",
       "<style scoped>\n",
       "    .dataframe tbody tr th:only-of-type {\n",
       "        vertical-align: middle;\n",
       "    }\n",
       "\n",
       "    .dataframe tbody tr th {\n",
       "        vertical-align: top;\n",
       "    }\n",
       "\n",
       "    .dataframe thead th {\n",
       "        text-align: right;\n",
       "    }\n",
       "</style>\n",
       "<table border=\"1\" class=\"dataframe\">\n",
       "  <thead>\n",
       "    <tr style=\"text-align: right;\">\n",
       "      <th></th>\n",
       "      <th>text</th>\n",
       "      <th>toxic</th>\n",
       "    </tr>\n",
       "  </thead>\n",
       "  <tbody>\n",
       "    <tr>\n",
       "      <th>0</th>\n",
       "      <td>Explanation\\nWhy the edits made under my usern...</td>\n",
       "      <td>0</td>\n",
       "    </tr>\n",
       "    <tr>\n",
       "      <th>1</th>\n",
       "      <td>D'aww! He matches this background colour I'm s...</td>\n",
       "      <td>0</td>\n",
       "    </tr>\n",
       "    <tr>\n",
       "      <th>2</th>\n",
       "      <td>Hey man, I'm really not trying to edit war. It...</td>\n",
       "      <td>0</td>\n",
       "    </tr>\n",
       "    <tr>\n",
       "      <th>3</th>\n",
       "      <td>\"\\nMore\\nI can't make any real suggestions on ...</td>\n",
       "      <td>0</td>\n",
       "    </tr>\n",
       "    <tr>\n",
       "      <th>4</th>\n",
       "      <td>You, sir, are my hero. Any chance you remember...</td>\n",
       "      <td>0</td>\n",
       "    </tr>\n",
       "  </tbody>\n",
       "</table>\n",
       "</div>"
      ],
      "text/plain": [
       "                                                text  toxic\n",
       "0  Explanation\\nWhy the edits made under my usern...      0\n",
       "1  D'aww! He matches this background colour I'm s...      0\n",
       "2  Hey man, I'm really not trying to edit war. It...      0\n",
       "3  \"\\nMore\\nI can't make any real suggestions on ...      0\n",
       "4  You, sir, are my hero. Any chance you remember...      0"
      ]
     },
     "execution_count": 3,
     "metadata": {},
     "output_type": "execute_result"
    }
   ],
   "source": [
    "df.head()"
   ]
  },
  {
   "cell_type": "code",
   "execution_count": 4,
   "metadata": {},
   "outputs": [
    {
     "name": "stdout",
     "output_type": "stream",
     "text": [
      "Процент позитивных комментариев: 90%\n",
      "Процент негативных комментариев: 10%\n"
     ]
    }
   ],
   "source": [
    "count_toxic = 0\n",
    "count_notoxic = 0\n",
    "for i in df['toxic']:\n",
    "    if i==0:\n",
    "        count_notoxic +=1\n",
    "    else:\n",
    "        count_toxic +=1\n",
    "print('Процент позитивных комментариев:','{0:.000%}'.format(count_notoxic/len(df['toxic'])))\n",
    "print('Процент негативных комментариев:','{0:.000%}'.format(count_toxic/len(df['toxic'])))"
   ]
  },
  {
   "cell_type": "code",
   "execution_count": 6,
   "metadata": {
    "scrolled": true
   },
   "outputs": [
    {
     "name": "stderr",
     "output_type": "stream",
     "text": [
      "[nltk_data] Downloading package wordnet to /home/jovyan/nltk_data...\n",
      "[nltk_data]   Package wordnet is already up-to-date!\n",
      "[nltk_data] Downloading package averaged_perceptron_tagger to\n",
      "[nltk_data]     /home/jovyan/nltk_data...\n",
      "[nltk_data]   Package averaged_perceptron_tagger is already up-to-\n",
      "[nltk_data]       date!\n"
     ]
    }
   ],
   "source": [
    "nltk.download('wordnet') \n",
    "import nltk\n",
    "nltk.download('averaged_perceptron_tagger')\n",
    "\n",
    "def get_wordnet_pos(word):\n",
    "    tag = nltk.pos_tag([word])[0][1][0].upper()\n",
    "    tag_dict = {\"J\": wordnet.ADJ,\n",
    "                \"N\": wordnet.NOUN,\n",
    "                \"V\": wordnet.VERB,\n",
    "                \"R\": wordnet.ADV}\n",
    "    return tag_dict.get(tag, wordnet.NOUN)\n",
    "\n",
    "lemmatizer = WordNetLemmatizer()\n",
    "def clear(text):\n",
    "    text = text.lower()\n",
    "    text  = re.sub(r'[^a-zA-z]',' ',str(text))\n",
    "    text = ' '.join(text.split())\n",
    "    return ' '.join([lemmatizer.lemmatize(w, get_wordnet_pos(w)) for w in nltk.word_tokenize(text)])\n",
    "    \n",
    "               "
   ]
  },
  {
   "cell_type": "code",
   "execution_count": 7,
   "metadata": {
    "scrolled": true
   },
   "outputs": [],
   "source": [
    "df['lemm_text'] = df['text'].apply(clear)"
   ]
  },
  {
   "cell_type": "code",
   "execution_count": 8,
   "metadata": {},
   "outputs": [
    {
     "data": {
      "text/html": [
       "<div>\n",
       "<style scoped>\n",
       "    .dataframe tbody tr th:only-of-type {\n",
       "        vertical-align: middle;\n",
       "    }\n",
       "\n",
       "    .dataframe tbody tr th {\n",
       "        vertical-align: top;\n",
       "    }\n",
       "\n",
       "    .dataframe thead th {\n",
       "        text-align: right;\n",
       "    }\n",
       "</style>\n",
       "<table border=\"1\" class=\"dataframe\">\n",
       "  <thead>\n",
       "    <tr style=\"text-align: right;\">\n",
       "      <th></th>\n",
       "      <th>text</th>\n",
       "      <th>toxic</th>\n",
       "      <th>lemm_text</th>\n",
       "    </tr>\n",
       "  </thead>\n",
       "  <tbody>\n",
       "    <tr>\n",
       "      <th>0</th>\n",
       "      <td>Explanation\\nWhy the edits made under my usern...</td>\n",
       "      <td>0</td>\n",
       "      <td>explanation why the edits make under my userna...</td>\n",
       "    </tr>\n",
       "    <tr>\n",
       "      <th>1</th>\n",
       "      <td>D'aww! He matches this background colour I'm s...</td>\n",
       "      <td>0</td>\n",
       "      <td>d aww he match this background colour i m seem...</td>\n",
       "    </tr>\n",
       "    <tr>\n",
       "      <th>2</th>\n",
       "      <td>Hey man, I'm really not trying to edit war. It...</td>\n",
       "      <td>0</td>\n",
       "      <td>hey man i m really not try to edit war it s ju...</td>\n",
       "    </tr>\n",
       "    <tr>\n",
       "      <th>3</th>\n",
       "      <td>\"\\nMore\\nI can't make any real suggestions on ...</td>\n",
       "      <td>0</td>\n",
       "      <td>more i can t make any real suggestion on impro...</td>\n",
       "    </tr>\n",
       "    <tr>\n",
       "      <th>4</th>\n",
       "      <td>You, sir, are my hero. Any chance you remember...</td>\n",
       "      <td>0</td>\n",
       "      <td>you sir be my hero any chance you remember wha...</td>\n",
       "    </tr>\n",
       "    <tr>\n",
       "      <th>...</th>\n",
       "      <td>...</td>\n",
       "      <td>...</td>\n",
       "      <td>...</td>\n",
       "    </tr>\n",
       "    <tr>\n",
       "      <th>159566</th>\n",
       "      <td>\":::::And for the second time of asking, when ...</td>\n",
       "      <td>0</td>\n",
       "      <td>and for the second time of ask when your view ...</td>\n",
       "    </tr>\n",
       "    <tr>\n",
       "      <th>159567</th>\n",
       "      <td>You should be ashamed of yourself \\n\\nThat is ...</td>\n",
       "      <td>0</td>\n",
       "      <td>you should be ashamed of yourself that be a ho...</td>\n",
       "    </tr>\n",
       "    <tr>\n",
       "      <th>159568</th>\n",
       "      <td>Spitzer \\n\\nUmm, theres no actual article for ...</td>\n",
       "      <td>0</td>\n",
       "      <td>spitzer umm there no actual article for prosti...</td>\n",
       "    </tr>\n",
       "    <tr>\n",
       "      <th>159569</th>\n",
       "      <td>And it looks like it was actually you who put ...</td>\n",
       "      <td>0</td>\n",
       "      <td>and it look like it be actually you who put on...</td>\n",
       "    </tr>\n",
       "    <tr>\n",
       "      <th>159570</th>\n",
       "      <td>\"\\nAnd ... I really don't think you understand...</td>\n",
       "      <td>0</td>\n",
       "      <td>and i really don t think you understand i come...</td>\n",
       "    </tr>\n",
       "  </tbody>\n",
       "</table>\n",
       "<p>159571 rows × 3 columns</p>\n",
       "</div>"
      ],
      "text/plain": [
       "                                                     text  toxic  \\\n",
       "0       Explanation\\nWhy the edits made under my usern...      0   \n",
       "1       D'aww! He matches this background colour I'm s...      0   \n",
       "2       Hey man, I'm really not trying to edit war. It...      0   \n",
       "3       \"\\nMore\\nI can't make any real suggestions on ...      0   \n",
       "4       You, sir, are my hero. Any chance you remember...      0   \n",
       "...                                                   ...    ...   \n",
       "159566  \":::::And for the second time of asking, when ...      0   \n",
       "159567  You should be ashamed of yourself \\n\\nThat is ...      0   \n",
       "159568  Spitzer \\n\\nUmm, theres no actual article for ...      0   \n",
       "159569  And it looks like it was actually you who put ...      0   \n",
       "159570  \"\\nAnd ... I really don't think you understand...      0   \n",
       "\n",
       "                                                lemm_text  \n",
       "0       explanation why the edits make under my userna...  \n",
       "1       d aww he match this background colour i m seem...  \n",
       "2       hey man i m really not try to edit war it s ju...  \n",
       "3       more i can t make any real suggestion on impro...  \n",
       "4       you sir be my hero any chance you remember wha...  \n",
       "...                                                   ...  \n",
       "159566  and for the second time of ask when your view ...  \n",
       "159567  you should be ashamed of yourself that be a ho...  \n",
       "159568  spitzer umm there no actual article for prosti...  \n",
       "159569  and it look like it be actually you who put on...  \n",
       "159570  and i really don t think you understand i come...  \n",
       "\n",
       "[159571 rows x 3 columns]"
      ]
     },
     "execution_count": 8,
     "metadata": {},
     "output_type": "execute_result"
    }
   ],
   "source": [
    "df"
   ]
  },
  {
   "cell_type": "markdown",
   "metadata": {},
   "source": [
    "Визуально некоторые слова поменялись,но у меня остались сомнения в успешной лемматизации."
   ]
  },
  {
   "cell_type": "markdown",
   "metadata": {},
   "source": [
    "## Обучение"
   ]
  },
  {
   "cell_type": "code",
   "execution_count": 9,
   "metadata": {
    "scrolled": true
   },
   "outputs": [
    {
     "name": "stderr",
     "output_type": "stream",
     "text": [
      "[nltk_data] Downloading package stopwords to /home/jovyan/nltk_data...\n",
      "[nltk_data]   Package stopwords is already up-to-date!\n"
     ]
    }
   ],
   "source": [
    "features = df['lemm_text']\n",
    "target = df['toxic']\n",
    "\n",
    "nltk.download('stopwords')\n",
    "stop_words = set(stopwords.words('english'))\n",
    "#count_vect = CountVectorizer(stop_words=stop_words)\n",
    "#features = count_vect.fit_transform(features)"
   ]
  },
  {
   "cell_type": "code",
   "execution_count": 10,
   "metadata": {},
   "outputs": [],
   "source": [
    "features_train,features_test,target_train,target_test = train_test_split(features,target,test_size = 0.25,\n",
    "                                                                         random_state=12345,stratify=target)"
   ]
  },
  {
   "cell_type": "code",
   "execution_count": 11,
   "metadata": {},
   "outputs": [],
   "source": [
    "count_tf_idf = TfidfVectorizer(stop_words = stop_words)\n",
    "features_train_tfidf  = count_tf_idf.fit_transform(features_train)\n",
    "features_test_tfidf  = count_tf_idf.transform(features_test)"
   ]
  },
  {
   "cell_type": "markdown",
   "metadata": {},
   "source": [
    "### LogisticRegression"
   ]
  },
  {
   "cell_type": "code",
   "execution_count": 12,
   "metadata": {},
   "outputs": [
    {
     "data": {
      "text/plain": [
       "LogisticRegression(class_weight='balanced')"
      ]
     },
     "execution_count": 12,
     "metadata": {},
     "output_type": "execute_result"
    }
   ],
   "source": [
    "model = LogisticRegression(class_weight='balanced')\n",
    "model.fit(features_train_tfidf,target_train)"
   ]
  },
  {
   "cell_type": "code",
   "execution_count": 13,
   "metadata": {},
   "outputs": [
    {
     "name": "stdout",
     "output_type": "stream",
     "text": [
      "f1_score на обучающей выборке: 0.8228986631864837\n",
      "f1_score на тестовой выборке: 0.7557874144114769\n"
     ]
    }
   ],
   "source": [
    "pred_train = model.predict(features_train_tfidf)\n",
    "pred_test = model.predict(features_test_tfidf)\n",
    "print('f1_score на обучающей выборке:',f1_score(target_train,pred_train))\n",
    "print('f1_score на тестовой выборке:',f1_score(target_test,pred_test))"
   ]
  },
  {
   "cell_type": "markdown",
   "metadata": {},
   "source": [
    "### RandomForestClassifier"
   ]
  },
  {
   "cell_type": "code",
   "execution_count": null,
   "metadata": {},
   "outputs": [],
   "source": [
    "pipeline_rd = Pipeline(\n",
    " steps=[\n",
    " (\"tfidf\", TfidfVectorizer()),\n",
    " (\"classifier\", RandomForestClassifier(class_weight='balanced',random_state=12345)), # final estimator is a classifier\n",
    " ]\n",
    ")\n",
    "\n"
   ]
  },
  {
   "cell_type": "code",
   "execution_count": null,
   "metadata": {},
   "outputs": [],
   "source": [
    "%%time\n",
    "random_search = {'classifier__criterion': ['entropy', 'gini'],\n",
    "               'classifier__max_depth': range(1, 100, 5),\n",
    "               'classifier__max_features': ['auto', 'sqrt','log2', None],\n",
    "               'classifier__min_samples_leaf': [6,8,14,16,18,20],\n",
    "               'classifier__min_samples_split': [3,5,7,9,14],\n",
    "               'classifier__n_estimators': range(1, 100, 5),\n",
    "               'classifier__bootstrap':[True]}\n",
    "\n",
    "\n",
    "\n",
    "search = RandomizedSearchCV(pipeline_rd, param_distributions = random_search,n_jobs = -1,n_iter=50,\n",
    "                               cv = 4)\n",
    "search.fit(features,target)\n",
    "best_params = search.best_params_\n",
    "print(best_params)"
   ]
  },
  {
   "cell_type": "code",
   "execution_count": 14,
   "metadata": {},
   "outputs": [
    {
     "name": "stdout",
     "output_type": "stream",
     "text": [
      "f1_score на обучающей выборке: 0.812156812667603\n",
      "f1_score на тестовой выборке: 0.7104603614298907\n",
      "CPU times: user 21min 49s, sys: 2.11 s, total: 21min 51s\n",
      "Wall time: 21min 52s\n"
     ]
    }
   ],
   "source": [
    "%%time\n",
    "model = RandomForestClassifier(n_estimators= 45,max_depth = 60,class_weight='balanced',random_state=12345,min_samples_split=17,min_samples_leaf= 4,\n",
    "                               max_features=None, criterion = 'entropy', bootstrap= True)\n",
    "model.fit(features_train_tfidf,target_train)\n",
    "pred_train = model.predict(features_train_tfidf)\n",
    "pred_test = model.predict(features_test_tfidf)\n",
    "print('f1_score на обучающей выборке:',f1_score(target_train,pred_train))\n",
    "print('f1_score на тестовой выборке:',f1_score(target_test,pred_test))"
   ]
  },
  {
   "cell_type": "code",
   "execution_count": null,
   "metadata": {},
   "outputs": [],
   "source": [
    "model = RandomForestClassifier(class_weight='balanced',random_state=12345,n_estimators= 460,min_samples_split=14, min_samples_leaf= 4,\n",
    "                               max_features=None, max_depth=10, criterion = 'entropy', bootstrap= True)\n",
    "model.fit(features_train_tfidf,target_train)\n",
    "pred_train = model.predict(features_train_tfidf)\n",
    "pred_test = model.predict(features_test_tfidf)\n",
    "print('f1_score на обучающей выборке:',f1_score(target_train,pred_train))\n",
    "print('f1_score на тестовой выборке:',f1_score(target_test,pred_test))"
   ]
  },
  {
   "cell_type": "markdown",
   "metadata": {},
   "source": [
    "### CatBoostclassifier"
   ]
  },
  {
   "cell_type": "code",
   "execution_count": null,
   "metadata": {},
   "outputs": [],
   "source": [
    "pipeline_cat = Pipeline(\n",
    " steps=[\n",
    "     ('vect', CountVectorizer()),\n",
    " (\"tfidf\", TfidfTransformer()),\n",
    " (\"classifier\", CatBoostClassifier(random_state=12345)), # final estimator is a classifier\n",
    " ]\n",
    ")\n"
   ]
  },
  {
   "cell_type": "code",
   "execution_count": null,
   "metadata": {},
   "outputs": [],
   "source": [
    "params = {'classifier__learning_rate': [0.01,0.03,0.05,0.3,0.5],\n",
    "        'classifier__depth': range(1,10),\n",
    "        'classifier__l2_leaf_reg': range(1,20),\n",
    "        'classifier__n_estimators' : range(1,50),\n",
    "        'classifier__grow_policy' : ['Depthwise','SymmetricTree']}\n",
    "rd = RandomizedSearchCV(estimator=pipeline_cat, param_distributions=params, cv=5, n_jobs=-1, scoring='f1',verbose=False)\n",
    "rd.fit(features_train,target_train)\n",
    "parameters = rd.best_params_\n",
    "print(parameters)"
   ]
  },
  {
   "cell_type": "code",
   "execution_count": 15,
   "metadata": {},
   "outputs": [
    {
     "name": "stdout",
     "output_type": "stream",
     "text": [
      "0:\tlearn: 0.6609093\ttotal: 3.34s\tremaining: 5m 30s\n",
      "1:\tlearn: 0.6302246\ttotal: 6.13s\tremaining: 5m\n",
      "2:\tlearn: 0.6025496\ttotal: 8.88s\tremaining: 4m 47s\n",
      "3:\tlearn: 0.5766563\ttotal: 11s\tremaining: 4m 24s\n",
      "4:\tlearn: 0.5523812\ttotal: 13.8s\tremaining: 4m 21s\n",
      "5:\tlearn: 0.5294797\ttotal: 16s\tremaining: 4m 10s\n",
      "6:\tlearn: 0.5085418\ttotal: 18.8s\tremaining: 4m 9s\n",
      "7:\tlearn: 0.4897451\ttotal: 21.6s\tremaining: 4m 8s\n",
      "8:\tlearn: 0.4716246\ttotal: 23.8s\tremaining: 4m\n",
      "9:\tlearn: 0.4552234\ttotal: 26.4s\tremaining: 3m 57s\n",
      "10:\tlearn: 0.4388797\ttotal: 29.2s\tremaining: 3m 56s\n",
      "11:\tlearn: 0.4244294\ttotal: 32.1s\tremaining: 3m 55s\n",
      "12:\tlearn: 0.4095933\ttotal: 35.1s\tremaining: 3m 54s\n",
      "13:\tlearn: 0.3962034\ttotal: 37.9s\tremaining: 3m 52s\n",
      "14:\tlearn: 0.3840544\ttotal: 40.5s\tremaining: 3m 49s\n",
      "15:\tlearn: 0.3730895\ttotal: 44s\tremaining: 3m 51s\n",
      "16:\tlearn: 0.3632407\ttotal: 47.2s\tremaining: 3m 50s\n",
      "17:\tlearn: 0.3534635\ttotal: 49.8s\tremaining: 3m 46s\n",
      "18:\tlearn: 0.3448342\ttotal: 52s\tremaining: 3m 41s\n",
      "19:\tlearn: 0.3360397\ttotal: 54.3s\tremaining: 3m 37s\n",
      "20:\tlearn: 0.3282922\ttotal: 56.8s\tremaining: 3m 33s\n",
      "21:\tlearn: 0.3211616\ttotal: 1m\tremaining: 3m 32s\n",
      "22:\tlearn: 0.3143252\ttotal: 1m 2s\tremaining: 3m 29s\n",
      "23:\tlearn: 0.3081427\ttotal: 1m 5s\tremaining: 3m 28s\n",
      "24:\tlearn: 0.3021024\ttotal: 1m 8s\tremaining: 3m 26s\n",
      "25:\tlearn: 0.2965982\ttotal: 1m 12s\tremaining: 3m 25s\n",
      "26:\tlearn: 0.2913516\ttotal: 1m 15s\tremaining: 3m 23s\n",
      "27:\tlearn: 0.2863403\ttotal: 1m 18s\tremaining: 3m 21s\n",
      "28:\tlearn: 0.2817219\ttotal: 1m 21s\tremaining: 3m 18s\n",
      "29:\tlearn: 0.2773435\ttotal: 1m 24s\tremaining: 3m 16s\n",
      "30:\tlearn: 0.2733535\ttotal: 1m 27s\tremaining: 3m 15s\n",
      "31:\tlearn: 0.2691563\ttotal: 1m 31s\tremaining: 3m 13s\n",
      "32:\tlearn: 0.2657101\ttotal: 1m 33s\tremaining: 3m 10s\n",
      "33:\tlearn: 0.2625998\ttotal: 1m 36s\tremaining: 3m 7s\n",
      "34:\tlearn: 0.2595363\ttotal: 1m 38s\tremaining: 3m 3s\n",
      "35:\tlearn: 0.2565051\ttotal: 1m 42s\tremaining: 3m 1s\n",
      "36:\tlearn: 0.2534804\ttotal: 1m 44s\tremaining: 2m 58s\n",
      "37:\tlearn: 0.2507672\ttotal: 1m 47s\tremaining: 2m 56s\n",
      "38:\tlearn: 0.2484307\ttotal: 1m 50s\tremaining: 2m 52s\n",
      "39:\tlearn: 0.2457478\ttotal: 1m 52s\tremaining: 2m 49s\n",
      "40:\tlearn: 0.2435741\ttotal: 1m 55s\tremaining: 2m 46s\n",
      "41:\tlearn: 0.2414907\ttotal: 1m 58s\tremaining: 2m 43s\n",
      "42:\tlearn: 0.2393803\ttotal: 2m\tremaining: 2m 40s\n",
      "43:\tlearn: 0.2375510\ttotal: 2m 3s\tremaining: 2m 37s\n",
      "44:\tlearn: 0.2357493\ttotal: 2m 5s\tremaining: 2m 33s\n",
      "45:\tlearn: 0.2341052\ttotal: 2m 9s\tremaining: 2m 31s\n",
      "46:\tlearn: 0.2323406\ttotal: 2m 12s\tremaining: 2m 28s\n",
      "47:\tlearn: 0.2307697\ttotal: 2m 15s\tremaining: 2m 26s\n",
      "48:\tlearn: 0.2292774\ttotal: 2m 17s\tremaining: 2m 23s\n",
      "49:\tlearn: 0.2279273\ttotal: 2m 20s\tremaining: 2m 20s\n",
      "50:\tlearn: 0.2264994\ttotal: 2m 23s\tremaining: 2m 17s\n",
      "51:\tlearn: 0.2250333\ttotal: 2m 26s\tremaining: 2m 15s\n",
      "52:\tlearn: 0.2237249\ttotal: 2m 29s\tremaining: 2m 12s\n",
      "53:\tlearn: 0.2224100\ttotal: 2m 32s\tremaining: 2m 10s\n",
      "54:\tlearn: 0.2211942\ttotal: 2m 35s\tremaining: 2m 7s\n",
      "55:\tlearn: 0.2200609\ttotal: 2m 38s\tremaining: 2m 4s\n",
      "56:\tlearn: 0.2190615\ttotal: 2m 41s\tremaining: 2m 1s\n",
      "57:\tlearn: 0.2180713\ttotal: 2m 44s\tremaining: 1m 59s\n",
      "58:\tlearn: 0.2169770\ttotal: 2m 47s\tremaining: 1m 56s\n",
      "59:\tlearn: 0.2159950\ttotal: 2m 50s\tremaining: 1m 54s\n",
      "60:\tlearn: 0.2152399\ttotal: 2m 53s\tremaining: 1m 50s\n",
      "61:\tlearn: 0.2143542\ttotal: 2m 56s\tremaining: 1m 47s\n",
      "62:\tlearn: 0.2135089\ttotal: 2m 58s\tremaining: 1m 44s\n",
      "63:\tlearn: 0.2127102\ttotal: 3m 1s\tremaining: 1m 42s\n",
      "64:\tlearn: 0.2120196\ttotal: 3m 4s\tremaining: 1m 39s\n",
      "65:\tlearn: 0.2111781\ttotal: 3m 6s\tremaining: 1m 36s\n",
      "66:\tlearn: 0.2104544\ttotal: 3m 8s\tremaining: 1m 33s\n",
      "67:\tlearn: 0.2097070\ttotal: 3m 11s\tremaining: 1m 30s\n",
      "68:\tlearn: 0.2090415\ttotal: 3m 13s\tremaining: 1m 27s\n",
      "69:\tlearn: 0.2082898\ttotal: 3m 16s\tremaining: 1m 24s\n",
      "70:\tlearn: 0.2076270\ttotal: 3m 18s\tremaining: 1m 21s\n",
      "71:\tlearn: 0.2070146\ttotal: 3m 21s\tremaining: 1m 18s\n",
      "72:\tlearn: 0.2063637\ttotal: 3m 25s\tremaining: 1m 15s\n",
      "73:\tlearn: 0.2057983\ttotal: 3m 27s\tremaining: 1m 13s\n",
      "74:\tlearn: 0.2051365\ttotal: 3m 30s\tremaining: 1m 10s\n",
      "75:\tlearn: 0.2045748\ttotal: 3m 32s\tremaining: 1m 7s\n",
      "76:\tlearn: 0.2040751\ttotal: 3m 36s\tremaining: 1m 4s\n",
      "77:\tlearn: 0.2034360\ttotal: 3m 38s\tremaining: 1m 1s\n",
      "78:\tlearn: 0.2028922\ttotal: 3m 41s\tremaining: 58.8s\n",
      "79:\tlearn: 0.2022537\ttotal: 3m 44s\tremaining: 56.1s\n",
      "80:\tlearn: 0.2017441\ttotal: 3m 48s\tremaining: 53.5s\n",
      "81:\tlearn: 0.2013107\ttotal: 3m 50s\tremaining: 50.6s\n",
      "82:\tlearn: 0.2007686\ttotal: 3m 52s\tremaining: 47.7s\n",
      "83:\tlearn: 0.2003575\ttotal: 3m 55s\tremaining: 44.8s\n",
      "84:\tlearn: 0.1998755\ttotal: 3m 57s\tremaining: 42s\n",
      "85:\tlearn: 0.1993446\ttotal: 4m\tremaining: 39.2s\n",
      "86:\tlearn: 0.1988141\ttotal: 4m 3s\tremaining: 36.4s\n",
      "87:\tlearn: 0.1983687\ttotal: 4m 6s\tremaining: 33.6s\n",
      "88:\tlearn: 0.1978275\ttotal: 4m 9s\tremaining: 30.8s\n",
      "89:\tlearn: 0.1974756\ttotal: 4m 11s\tremaining: 27.9s\n",
      "90:\tlearn: 0.1971184\ttotal: 4m 13s\tremaining: 25.1s\n",
      "91:\tlearn: 0.1966662\ttotal: 4m 15s\tremaining: 22.3s\n",
      "92:\tlearn: 0.1962740\ttotal: 4m 18s\tremaining: 19.5s\n",
      "93:\tlearn: 0.1957875\ttotal: 4m 21s\tremaining: 16.7s\n",
      "94:\tlearn: 0.1953614\ttotal: 4m 24s\tremaining: 13.9s\n",
      "95:\tlearn: 0.1950227\ttotal: 4m 27s\tremaining: 11.1s\n",
      "96:\tlearn: 0.1945978\ttotal: 4m 30s\tremaining: 8.36s\n",
      "97:\tlearn: 0.1941454\ttotal: 4m 33s\tremaining: 5.58s\n",
      "98:\tlearn: 0.1937912\ttotal: 4m 35s\tremaining: 2.79s\n",
      "99:\tlearn: 0.1934825\ttotal: 4m 38s\tremaining: 0us\n",
      "f1_score на обучающей выборке: 0.6005500364820114\n",
      "f1_score на тестовой выборке: 0.5987882867721306\n"
     ]
    }
   ],
   "source": [
    "model = CatBoostClassifier(n_estimators=100, learning_rate=0.03, l2_leaf_reg=8, max_bin = 3,grow_policy='Depthwise',\n",
    "                           depth=10)\n",
    "model.fit(features_train_tfidf,target_train)\n",
    "pred_train = model.predict(features_train_tfidf)\n",
    "pred_test = model.predict(features_test_tfidf)\n",
    "print('f1_score на обучающей выборке:',f1_score(target_train,pred_train))\n",
    "print('f1_score на тестовой выборке:',f1_score(target_test,pred_test))"
   ]
  },
  {
   "cell_type": "markdown",
   "metadata": {},
   "source": [
    "## Выводы"
   ]
  },
  {
   "cell_type": "markdown",
   "metadata": {},
   "source": [
    "Для классификации текста на позитивные и негативные комментарии, была проведена лемматизация WordNetLemmatizer()+POS.  \n",
    "Разделение на тестовую и тренировочную с учетом дисбаланса класса.  \n",
    "Наилучший результат дала логистическая регрессия на полном датасете  \n",
    "f1_score на обучающей выборке: 0.8228986631864837  \n",
    "f1_score на тестовой выборке: 0.7557874144114769  \n",
    "Результаты RandomForestClassifier:  \n",
    "f1_score на обучающей выборке: 0.812156812667603  \n",
    "f1_score на тестовой выборке: 0.7104603614298907  \n",
    "Результаты CatBoostClassifier:  \n",
    "f1_score на обучающей выборке: 0.6005500364820114  \n",
    "f1_score на тестовой выборке: 0.5987882867721306"
   ]
  },
  {
   "cell_type": "markdown",
   "metadata": {},
   "source": [
    "## Чек-лист проверки"
   ]
  },
  {
   "cell_type": "markdown",
   "metadata": {},
   "source": [
    "- [x]  Jupyter Notebook открыт\n",
    "- [x]  Весь код выполняется без ошибок\n",
    "- [x]  Ячейки с кодом расположены в порядке исполнения\n",
    "- [x]  Данные загружены и подготовлены\n",
    "- [x]  Модели обучены\n",
    "- [x]  Значение метрики *F1* не меньше 0.75\n",
    "- [x]  Выводы написаны"
   ]
  }
 ],
 "metadata": {
  "ExecuteTimeLog": [
   {
    "duration": 388,
    "start_time": "2022-08-15T10:23:27.825Z"
   },
   {
    "duration": 2633,
    "start_time": "2022-08-15T10:24:02.832Z"
   },
   {
    "duration": 15,
    "start_time": "2022-08-15T10:24:50.250Z"
   },
   {
    "duration": 6,
    "start_time": "2022-08-15T10:26:53.230Z"
   },
   {
    "duration": 742,
    "start_time": "2022-08-15T10:28:39.624Z"
   },
   {
    "duration": 81,
    "start_time": "2022-08-15T10:30:52.344Z"
   },
   {
    "duration": 3,
    "start_time": "2022-08-15T10:31:26.197Z"
   },
   {
    "duration": 7,
    "start_time": "2022-08-15T10:31:31.088Z"
   },
   {
    "duration": 8,
    "start_time": "2022-08-15T10:32:03.423Z"
   },
   {
    "duration": 6,
    "start_time": "2022-08-15T10:33:35.790Z"
   },
   {
    "duration": 7,
    "start_time": "2022-08-15T10:34:00.077Z"
   },
   {
    "duration": 2,
    "start_time": "2022-08-15T10:34:13.537Z"
   },
   {
    "duration": 146059,
    "start_time": "2022-08-15T10:34:15.424Z"
   },
   {
    "duration": 48,
    "start_time": "2022-08-15T10:36:48.105Z"
   },
   {
    "duration": 603,
    "start_time": "2022-08-15T10:37:00.930Z"
   },
   {
    "duration": 905,
    "start_time": "2022-08-15T10:37:01.534Z"
   },
   {
    "duration": 11,
    "start_time": "2022-08-15T10:37:02.441Z"
   },
   {
    "duration": 0,
    "start_time": "2022-08-15T10:38:08.006Z"
   },
   {
    "duration": 398912,
    "start_time": "2022-08-15T10:38:11.941Z"
   },
   {
    "duration": 51805,
    "start_time": "2022-08-15T10:44:50.855Z"
   },
   {
    "duration": 0,
    "start_time": "2022-08-15T10:45:42.662Z"
   },
   {
    "duration": 45,
    "start_time": "2022-08-15T10:52:22.945Z"
   },
   {
    "duration": 27,
    "start_time": "2022-08-15T10:52:45.363Z"
   },
   {
    "duration": 50,
    "start_time": "2022-08-15T10:53:36.058Z"
   },
   {
    "duration": 5,
    "start_time": "2022-08-15T11:13:33.524Z"
   },
   {
    "duration": 19,
    "start_time": "2022-08-15T11:19:49.258Z"
   },
   {
    "duration": 21,
    "start_time": "2022-08-15T11:21:23.067Z"
   },
   {
    "duration": 20,
    "start_time": "2022-08-15T11:23:06.224Z"
   },
   {
    "duration": 2,
    "start_time": "2022-08-15T11:24:01.342Z"
   },
   {
    "duration": 19,
    "start_time": "2022-08-15T11:24:03.624Z"
   },
   {
    "duration": 415,
    "start_time": "2022-08-15T11:36:56.494Z"
   },
   {
    "duration": 6,
    "start_time": "2022-08-15T11:38:31.374Z"
   },
   {
    "duration": 361,
    "start_time": "2022-08-15T11:39:44.187Z"
   },
   {
    "duration": 3,
    "start_time": "2022-08-15T11:43:18.478Z"
   },
   {
    "duration": 21,
    "start_time": "2022-08-15T11:43:51.952Z"
   },
   {
    "duration": 1015,
    "start_time": "2022-08-15T11:47:07.324Z"
   },
   {
    "duration": 337433,
    "start_time": "2022-08-15T11:49:24.163Z"
   },
   {
    "duration": 67,
    "start_time": "2022-08-15T11:55:53.283Z"
   },
   {
    "duration": 141,
    "start_time": "2022-08-15T11:56:33.644Z"
   },
   {
    "duration": 5,
    "start_time": "2022-08-15T11:56:52.730Z"
   },
   {
    "duration": 4,
    "start_time": "2022-08-15T11:57:27.724Z"
   },
   {
    "duration": 4,
    "start_time": "2022-08-15T11:57:40.868Z"
   },
   {
    "duration": 6,
    "start_time": "2022-08-15T11:58:02.567Z"
   },
   {
    "duration": 5,
    "start_time": "2022-08-15T11:58:03.457Z"
   },
   {
    "duration": 3,
    "start_time": "2022-08-15T11:58:04.370Z"
   },
   {
    "duration": 5,
    "start_time": "2022-08-15T12:11:27.956Z"
   },
   {
    "duration": 26,
    "start_time": "2022-08-15T12:11:29.109Z"
   },
   {
    "duration": 91,
    "start_time": "2022-08-15T12:11:53.280Z"
   },
   {
    "duration": 3,
    "start_time": "2022-08-15T12:12:02.232Z"
   },
   {
    "duration": 20,
    "start_time": "2022-08-15T12:12:03.654Z"
   },
   {
    "duration": 70,
    "start_time": "2022-08-15T12:26:10.329Z"
   },
   {
    "duration": 669059,
    "start_time": "2022-08-15T12:29:17.670Z"
   },
   {
    "duration": 0,
    "start_time": "2022-08-15T12:40:26.731Z"
   },
   {
    "duration": 3,
    "start_time": "2022-08-15T12:43:09.246Z"
   },
   {
    "duration": 226,
    "start_time": "2022-08-15T12:49:09.156Z"
   },
   {
    "duration": 127,
    "start_time": "2022-08-15T12:50:12.141Z"
   },
   {
    "duration": 3,
    "start_time": "2022-08-15T12:52:46.137Z"
   },
   {
    "duration": 27,
    "start_time": "2022-08-15T12:53:04.659Z"
   },
   {
    "duration": 227,
    "start_time": "2022-08-15T16:58:16.936Z"
   },
   {
    "duration": 45,
    "start_time": "2022-08-15T16:58:21.696Z"
   },
   {
    "duration": 5,
    "start_time": "2022-08-15T16:59:09.634Z"
   },
   {
    "duration": 43,
    "start_time": "2022-08-15T16:59:10.792Z"
   },
   {
    "duration": 6,
    "start_time": "2022-08-15T17:00:32.672Z"
   },
   {
    "duration": 38,
    "start_time": "2022-08-15T17:00:33.661Z"
   },
   {
    "duration": 4,
    "start_time": "2022-08-15T17:10:14.883Z"
   },
   {
    "duration": 28,
    "start_time": "2022-08-15T17:10:15.979Z"
   },
   {
    "duration": 25,
    "start_time": "2022-08-15T17:15:14.294Z"
   },
   {
    "duration": 9,
    "start_time": "2022-08-15T17:16:02.705Z"
   },
   {
    "duration": 4,
    "start_time": "2022-08-15T17:20:16.093Z"
   },
   {
    "duration": 211980,
    "start_time": "2022-08-15T17:20:35.500Z"
   },
   {
    "duration": 4,
    "start_time": "2022-08-15T17:25:15.033Z"
   },
   {
    "duration": 204896,
    "start_time": "2022-08-15T17:25:16.157Z"
   },
   {
    "duration": 5,
    "start_time": "2022-08-15T17:33:24.134Z"
   },
   {
    "duration": 201830,
    "start_time": "2022-08-15T17:33:25.230Z"
   },
   {
    "duration": 4,
    "start_time": "2022-08-15T17:37:09.480Z"
   },
   {
    "duration": 209855,
    "start_time": "2022-08-15T17:37:20.552Z"
   },
   {
    "duration": 1826,
    "start_time": "2022-08-16T10:29:10.312Z"
   },
   {
    "duration": 2514,
    "start_time": "2022-08-16T10:29:12.141Z"
   },
   {
    "duration": 10,
    "start_time": "2022-08-16T10:29:14.657Z"
   },
   {
    "duration": 31,
    "start_time": "2022-08-16T10:29:14.669Z"
   },
   {
    "duration": 3,
    "start_time": "2022-08-16T10:29:14.702Z"
   },
   {
    "duration": 222,
    "start_time": "2022-08-16T10:29:14.707Z"
   },
   {
    "duration": 158782,
    "start_time": "2022-08-16T10:29:14.931Z"
   },
   {
    "duration": 3,
    "start_time": "2022-08-16T10:32:36.022Z"
   },
   {
    "duration": 4,
    "start_time": "2022-08-16T10:35:26.034Z"
   },
   {
    "duration": 4,
    "start_time": "2022-08-16T10:35:33.568Z"
   },
   {
    "duration": 149,
    "start_time": "2022-08-16T10:35:36.897Z"
   },
   {
    "duration": 4,
    "start_time": "2022-08-16T10:38:05.165Z"
   },
   {
    "duration": 24,
    "start_time": "2022-08-16T10:38:06.905Z"
   },
   {
    "duration": 51,
    "start_time": "2022-08-16T10:39:28.747Z"
   },
   {
    "duration": 6,
    "start_time": "2022-08-16T10:39:33.603Z"
   },
   {
    "duration": 25,
    "start_time": "2022-08-16T10:39:38.218Z"
   },
   {
    "duration": 1432,
    "start_time": "2022-08-16T10:41:01.503Z"
   },
   {
    "duration": 762,
    "start_time": "2022-08-16T10:41:02.937Z"
   },
   {
    "duration": 11,
    "start_time": "2022-08-16T10:41:03.701Z"
   },
   {
    "duration": 52,
    "start_time": "2022-08-16T10:41:03.714Z"
   },
   {
    "duration": 159,
    "start_time": "2022-08-16T10:41:03.768Z"
   },
   {
    "duration": 130,
    "start_time": "2022-08-16T10:41:03.929Z"
   },
   {
    "duration": 423,
    "start_time": "2022-08-16T10:41:52.119Z"
   },
   {
    "duration": 1985497,
    "start_time": "2022-08-16T10:41:54.855Z"
   },
   {
    "duration": 1572,
    "start_time": "2022-08-16T11:59:51.941Z"
   },
   {
    "duration": 795,
    "start_time": "2022-08-16T11:59:53.515Z"
   },
   {
    "duration": 13,
    "start_time": "2022-08-16T11:59:54.312Z"
   },
   {
    "duration": 61,
    "start_time": "2022-08-16T11:59:54.328Z"
   },
   {
    "duration": 10,
    "start_time": "2022-08-16T11:59:54.391Z"
   },
   {
    "duration": 237,
    "start_time": "2022-08-16T11:59:54.403Z"
   },
   {
    "duration": 230720,
    "start_time": "2022-08-16T11:59:54.642Z"
   },
   {
    "duration": 254,
    "start_time": "2022-08-16T12:03:45.364Z"
   },
   {
    "duration": 12,
    "start_time": "2022-08-16T12:05:41.368Z"
   },
   {
    "duration": 6,
    "start_time": "2022-08-16T12:07:11.101Z"
   },
   {
    "duration": 102,
    "start_time": "2022-08-16T12:07:14.095Z"
   },
   {
    "duration": 12,
    "start_time": "2022-08-16T12:07:14.974Z"
   },
   {
    "duration": 7,
    "start_time": "2022-08-16T12:07:43.188Z"
   },
   {
    "duration": 105,
    "start_time": "2022-08-16T12:07:45.543Z"
   },
   {
    "duration": 11,
    "start_time": "2022-08-16T12:07:46.822Z"
   },
   {
    "duration": 11,
    "start_time": "2022-08-16T12:08:04.010Z"
   },
   {
    "duration": 1334,
    "start_time": "2022-08-16T12:08:16.285Z"
   },
   {
    "duration": 6,
    "start_time": "2022-08-16T12:10:26.913Z"
   },
   {
    "duration": 74,
    "start_time": "2022-08-16T12:10:28.857Z"
   },
   {
    "duration": 12,
    "start_time": "2022-08-16T12:10:36.445Z"
   },
   {
    "duration": 5,
    "start_time": "2022-08-16T12:11:30.920Z"
   },
   {
    "duration": 24,
    "start_time": "2022-08-16T12:11:33.003Z"
   },
   {
    "duration": 6,
    "start_time": "2022-08-16T12:12:01.615Z"
   },
   {
    "duration": 13,
    "start_time": "2022-08-16T12:12:03.631Z"
   },
   {
    "duration": 15,
    "start_time": "2022-08-16T12:12:05.344Z"
   },
   {
    "duration": 1404,
    "start_time": "2022-08-16T12:12:15.484Z"
   },
   {
    "duration": 744,
    "start_time": "2022-08-16T12:12:16.890Z"
   },
   {
    "duration": 10,
    "start_time": "2022-08-16T12:12:17.636Z"
   },
   {
    "duration": 38,
    "start_time": "2022-08-16T12:12:17.648Z"
   },
   {
    "duration": 11,
    "start_time": "2022-08-16T12:12:17.687Z"
   },
   {
    "duration": 156,
    "start_time": "2022-08-16T12:12:17.700Z"
   },
   {
    "duration": 1361,
    "start_time": "2022-08-16T12:12:17.858Z"
   },
   {
    "duration": 11,
    "start_time": "2022-08-16T12:12:19.221Z"
   },
   {
    "duration": 126,
    "start_time": "2022-08-16T12:12:19.234Z"
   },
   {
    "duration": 6,
    "start_time": "2022-08-16T12:13:29.311Z"
   },
   {
    "duration": 81,
    "start_time": "2022-08-16T12:13:32.342Z"
   },
   {
    "duration": 12,
    "start_time": "2022-08-16T12:13:33.281Z"
   },
   {
    "duration": 5,
    "start_time": "2022-08-16T12:14:10.357Z"
   },
   {
    "duration": 4551,
    "start_time": "2022-08-16T12:14:15.525Z"
   },
   {
    "duration": 10,
    "start_time": "2022-08-16T12:14:20.078Z"
   },
   {
    "duration": 5285,
    "start_time": "2022-08-16T12:16:53.724Z"
   },
   {
    "duration": 11,
    "start_time": "2022-08-16T12:16:59.011Z"
   },
   {
    "duration": 7,
    "start_time": "2022-08-16T12:17:35.311Z"
   },
   {
    "duration": 295158,
    "start_time": "2022-08-16T12:17:40.430Z"
   },
   {
    "duration": 14,
    "start_time": "2022-08-16T12:22:35.590Z"
   },
   {
    "duration": 11,
    "start_time": "2022-08-16T12:23:37.991Z"
   },
   {
    "duration": 10,
    "start_time": "2022-08-16T12:24:15.870Z"
   },
   {
    "duration": 4,
    "start_time": "2022-08-16T12:24:29.861Z"
   },
   {
    "duration": 1502,
    "start_time": "2022-08-16T12:25:10.677Z"
   },
   {
    "duration": 777,
    "start_time": "2022-08-16T12:25:12.181Z"
   },
   {
    "duration": 12,
    "start_time": "2022-08-16T12:25:12.966Z"
   },
   {
    "duration": 35,
    "start_time": "2022-08-16T12:25:12.980Z"
   },
   {
    "duration": 9,
    "start_time": "2022-08-16T12:25:13.017Z"
   },
   {
    "duration": 148,
    "start_time": "2022-08-16T12:25:13.028Z"
   },
   {
    "duration": 344553,
    "start_time": "2022-08-16T12:25:13.177Z"
   },
   {
    "duration": 12,
    "start_time": "2022-08-16T12:30:57.732Z"
   },
   {
    "duration": 23,
    "start_time": "2022-08-16T12:30:57.746Z"
   },
   {
    "duration": 142,
    "start_time": "2022-08-16T12:30:57.776Z"
   },
   {
    "duration": 6,
    "start_time": "2022-08-16T12:34:02.508Z"
   },
   {
    "duration": 41601,
    "start_time": "2022-08-16T12:34:05.661Z"
   },
   {
    "duration": 13,
    "start_time": "2022-08-16T12:34:47.264Z"
   },
   {
    "duration": 6,
    "start_time": "2022-08-16T12:36:06.817Z"
   },
   {
    "duration": 6,
    "start_time": "2022-08-16T12:36:46.840Z"
   },
   {
    "duration": 40809,
    "start_time": "2022-08-16T12:36:49.783Z"
   },
   {
    "duration": 11,
    "start_time": "2022-08-16T12:37:30.594Z"
   },
   {
    "duration": 11,
    "start_time": "2022-08-16T12:41:01.630Z"
   },
   {
    "duration": 12,
    "start_time": "2022-08-16T12:41:34.002Z"
   },
   {
    "duration": 15,
    "start_time": "2022-08-16T12:41:43.165Z"
   },
   {
    "duration": 14,
    "start_time": "2022-08-16T12:41:51.491Z"
   },
   {
    "duration": 5,
    "start_time": "2022-08-16T12:43:44.631Z"
   },
   {
    "duration": 16,
    "start_time": "2022-08-16T12:43:54.967Z"
   },
   {
    "duration": 11,
    "start_time": "2022-08-16T12:44:17.839Z"
   },
   {
    "duration": 301,
    "start_time": "2022-08-16T12:44:24.999Z"
   },
   {
    "duration": 198,
    "start_time": "2022-08-16T13:15:46.982Z"
   },
   {
    "duration": 53,
    "start_time": "2022-08-16T13:15:48.121Z"
   },
   {
    "duration": 13,
    "start_time": "2022-08-16T13:15:49.040Z"
   },
   {
    "duration": 3,
    "start_time": "2022-08-16T13:16:50.279Z"
   },
   {
    "duration": 2218,
    "start_time": "2022-08-16T13:16:56.341Z"
   },
   {
    "duration": 4,
    "start_time": "2022-08-16T13:17:01.941Z"
   },
   {
    "duration": 5,
    "start_time": "2022-08-16T13:17:02.979Z"
   },
   {
    "duration": 4,
    "start_time": "2022-08-16T13:17:10.516Z"
   },
   {
    "duration": 12,
    "start_time": "2022-08-16T13:17:47.827Z"
   },
   {
    "duration": 3546,
    "start_time": "2022-08-16T13:18:31.819Z"
   },
   {
    "duration": 4,
    "start_time": "2022-08-16T13:18:37.316Z"
   },
   {
    "duration": 5,
    "start_time": "2022-08-16T13:18:38.756Z"
   },
   {
    "duration": 4,
    "start_time": "2022-08-16T13:18:39.543Z"
   },
   {
    "duration": 20,
    "start_time": "2022-08-16T13:19:38.327Z"
   },
   {
    "duration": 25,
    "start_time": "2022-08-16T13:19:51.243Z"
   },
   {
    "duration": 3,
    "start_time": "2022-08-16T13:19:53.306Z"
   },
   {
    "duration": 5,
    "start_time": "2022-08-16T13:19:54.108Z"
   },
   {
    "duration": 4,
    "start_time": "2022-08-16T13:19:54.884Z"
   },
   {
    "duration": 4,
    "start_time": "2022-08-16T13:21:02.200Z"
   },
   {
    "duration": 419,
    "start_time": "2022-08-16T13:21:11.048Z"
   },
   {
    "duration": 4,
    "start_time": "2022-08-16T13:21:12.789Z"
   },
   {
    "duration": 5,
    "start_time": "2022-08-16T13:21:13.671Z"
   },
   {
    "duration": 4,
    "start_time": "2022-08-16T13:21:14.395Z"
   },
   {
    "duration": 34,
    "start_time": "2022-08-16T13:23:02.657Z"
   },
   {
    "duration": 6,
    "start_time": "2022-08-16T13:23:05.150Z"
   },
   {
    "duration": 5,
    "start_time": "2022-08-16T13:23:05.872Z"
   },
   {
    "duration": 4,
    "start_time": "2022-08-16T13:23:06.616Z"
   },
   {
    "duration": 19,
    "start_time": "2022-08-16T13:23:55.151Z"
   },
   {
    "duration": 944,
    "start_time": "2022-08-16T13:24:20.219Z"
   },
   {
    "duration": 4,
    "start_time": "2022-08-16T13:24:22.145Z"
   },
   {
    "duration": 4,
    "start_time": "2022-08-16T13:24:23.666Z"
   },
   {
    "duration": 4,
    "start_time": "2022-08-16T13:24:24.512Z"
   },
   {
    "duration": 1468,
    "start_time": "2022-08-16T13:24:34.698Z"
   },
   {
    "duration": 1412,
    "start_time": "2022-08-16T13:25:35.124Z"
   },
   {
    "duration": 728,
    "start_time": "2022-08-16T13:25:36.538Z"
   },
   {
    "duration": 11,
    "start_time": "2022-08-16T13:25:37.267Z"
   },
   {
    "duration": 28,
    "start_time": "2022-08-16T13:25:37.281Z"
   },
   {
    "duration": 19,
    "start_time": "2022-08-16T13:25:37.311Z"
   },
   {
    "duration": 161,
    "start_time": "2022-08-16T13:25:37.331Z"
   },
   {
    "duration": 343722,
    "start_time": "2022-08-16T13:25:37.493Z"
   },
   {
    "duration": 12,
    "start_time": "2022-08-16T13:31:21.217Z"
   },
   {
    "duration": 1926,
    "start_time": "2022-08-16T13:31:21.230Z"
   },
   {
    "duration": 23,
    "start_time": "2022-08-16T13:31:23.159Z"
   },
   {
    "duration": 140,
    "start_time": "2022-08-16T13:31:23.184Z"
   },
   {
    "duration": 0,
    "start_time": "2022-08-16T13:31:23.326Z"
   },
   {
    "duration": 0,
    "start_time": "2022-08-16T13:31:23.327Z"
   },
   {
    "duration": 0,
    "start_time": "2022-08-16T13:31:23.328Z"
   },
   {
    "duration": 0,
    "start_time": "2022-08-16T13:31:23.329Z"
   },
   {
    "duration": 0,
    "start_time": "2022-08-16T13:31:23.330Z"
   },
   {
    "duration": 15,
    "start_time": "2022-08-16T13:36:38.872Z"
   },
   {
    "duration": 4,
    "start_time": "2022-08-16T13:37:27.353Z"
   },
   {
    "duration": 22,
    "start_time": "2022-08-16T13:37:28.955Z"
   },
   {
    "duration": 1522,
    "start_time": "2022-08-16T13:37:30.262Z"
   },
   {
    "duration": 557,
    "start_time": "2022-08-16T13:37:35.218Z"
   },
   {
    "duration": 19788,
    "start_time": "2022-08-16T13:37:36.870Z"
   },
   {
    "duration": 8,
    "start_time": "2022-08-16T13:37:56.660Z"
   },
   {
    "duration": 7,
    "start_time": "2022-08-16T13:37:56.669Z"
   },
   {
    "duration": 4,
    "start_time": "2022-08-16T13:37:56.679Z"
   },
   {
    "duration": 1740,
    "start_time": "2022-08-17T11:42:05.298Z"
   },
   {
    "duration": 2195,
    "start_time": "2022-08-17T11:42:07.040Z"
   },
   {
    "duration": 12,
    "start_time": "2022-08-17T11:42:09.237Z"
   },
   {
    "duration": 35,
    "start_time": "2022-08-17T11:42:09.251Z"
   },
   {
    "duration": 10,
    "start_time": "2022-08-17T11:42:09.288Z"
   },
   {
    "duration": 660,
    "start_time": "2022-08-17T11:42:09.300Z"
   },
   {
    "duration": 4662,
    "start_time": "2022-08-17T11:42:09.962Z"
   },
   {
    "duration": 15,
    "start_time": "2022-08-17T11:42:14.625Z"
   },
   {
    "duration": 99,
    "start_time": "2022-08-17T11:42:14.642Z"
   },
   {
    "duration": 5,
    "start_time": "2022-08-17T11:42:14.744Z"
   },
   {
    "duration": 32,
    "start_time": "2022-08-17T11:42:14.751Z"
   },
   {
    "duration": 20,
    "start_time": "2022-08-17T11:42:14.785Z"
   },
   {
    "duration": 8,
    "start_time": "2022-08-17T11:42:14.807Z"
   },
   {
    "duration": 29,
    "start_time": "2022-08-17T11:49:27.930Z"
   },
   {
    "duration": 125,
    "start_time": "2022-08-17T11:56:21.026Z"
   },
   {
    "duration": 4,
    "start_time": "2022-08-17T11:56:57.464Z"
   },
   {
    "duration": 15,
    "start_time": "2022-08-17T11:57:04.236Z"
   },
   {
    "duration": 16,
    "start_time": "2022-08-17T12:01:14.618Z"
   },
   {
    "duration": 1548,
    "start_time": "2022-08-17T12:09:26.112Z"
   },
   {
    "duration": 872,
    "start_time": "2022-08-17T12:09:27.662Z"
   },
   {
    "duration": 11,
    "start_time": "2022-08-17T12:09:28.537Z"
   },
   {
    "duration": 30,
    "start_time": "2022-08-17T12:09:28.550Z"
   },
   {
    "duration": 21,
    "start_time": "2022-08-17T12:09:28.582Z"
   },
   {
    "duration": 225,
    "start_time": "2022-08-17T12:09:28.605Z"
   },
   {
    "duration": 4426,
    "start_time": "2022-08-17T12:09:28.831Z"
   },
   {
    "duration": 11,
    "start_time": "2022-08-17T12:09:33.259Z"
   },
   {
    "duration": 29,
    "start_time": "2022-08-17T12:09:33.273Z"
   },
   {
    "duration": 22,
    "start_time": "2022-08-17T12:09:33.304Z"
   },
   {
    "duration": 55,
    "start_time": "2022-08-17T12:09:33.328Z"
   },
   {
    "duration": 36,
    "start_time": "2022-08-17T12:09:33.385Z"
   },
   {
    "duration": 7,
    "start_time": "2022-08-17T12:09:33.424Z"
   },
   {
    "duration": 129,
    "start_time": "2022-08-17T12:12:40.745Z"
   },
   {
    "duration": 13,
    "start_time": "2022-08-17T12:13:21.599Z"
   },
   {
    "duration": 7590,
    "start_time": "2022-08-17T12:13:36.864Z"
   },
   {
    "duration": 10,
    "start_time": "2022-08-17T12:14:46.686Z"
   },
   {
    "duration": 7,
    "start_time": "2022-08-17T12:14:58.292Z"
   },
   {
    "duration": 5,
    "start_time": "2022-08-17T12:15:06.147Z"
   },
   {
    "duration": 7303,
    "start_time": "2022-08-17T12:15:25.429Z"
   },
   {
    "duration": 6,
    "start_time": "2022-08-17T12:15:32.734Z"
   },
   {
    "duration": 8,
    "start_time": "2022-08-17T12:15:32.742Z"
   },
   {
    "duration": 5142,
    "start_time": "2022-08-17T12:16:41.520Z"
   },
   {
    "duration": 7,
    "start_time": "2022-08-17T12:16:46.664Z"
   },
   {
    "duration": 4,
    "start_time": "2022-08-17T12:16:47.417Z"
   },
   {
    "duration": 5312,
    "start_time": "2022-08-17T12:16:55.637Z"
   },
   {
    "duration": 7,
    "start_time": "2022-08-17T12:17:00.951Z"
   },
   {
    "duration": 33,
    "start_time": "2022-08-17T12:17:00.960Z"
   },
   {
    "duration": 1492,
    "start_time": "2022-08-17T20:01:43.175Z"
   },
   {
    "duration": 3165,
    "start_time": "2022-08-17T20:01:44.669Z"
   },
   {
    "duration": 9,
    "start_time": "2022-08-17T20:01:47.836Z"
   },
   {
    "duration": 25,
    "start_time": "2022-08-17T20:01:47.847Z"
   },
   {
    "duration": 8,
    "start_time": "2022-08-17T20:01:47.873Z"
   },
   {
    "duration": 1001,
    "start_time": "2022-08-17T20:01:47.882Z"
   },
   {
    "duration": 3668,
    "start_time": "2022-08-17T20:01:48.884Z"
   },
   {
    "duration": 14,
    "start_time": "2022-08-17T20:01:52.553Z"
   },
   {
    "duration": 231,
    "start_time": "2022-08-17T20:01:52.568Z"
   },
   {
    "duration": 4,
    "start_time": "2022-08-17T20:01:52.802Z"
   },
   {
    "duration": 26,
    "start_time": "2022-08-17T20:01:52.807Z"
   },
   {
    "duration": 33,
    "start_time": "2022-08-17T20:01:52.834Z"
   },
   {
    "duration": 6,
    "start_time": "2022-08-17T20:01:52.868Z"
   },
   {
    "duration": 4291,
    "start_time": "2022-08-17T20:01:52.875Z"
   },
   {
    "duration": 9,
    "start_time": "2022-08-17T20:01:57.167Z"
   },
   {
    "duration": 11,
    "start_time": "2022-08-17T20:01:57.177Z"
   },
   {
    "duration": 538,
    "start_time": "2022-08-17T20:09:11.185Z"
   },
   {
    "duration": 7,
    "start_time": "2022-08-17T20:09:14.760Z"
   },
   {
    "duration": 4,
    "start_time": "2022-08-17T20:09:15.573Z"
   },
   {
    "duration": 489,
    "start_time": "2022-08-17T20:10:05.966Z"
   },
   {
    "duration": 5,
    "start_time": "2022-08-17T20:10:09.601Z"
   },
   {
    "duration": 3,
    "start_time": "2022-08-17T20:10:10.453Z"
   },
   {
    "duration": 550,
    "start_time": "2022-08-17T20:13:46.569Z"
   },
   {
    "duration": 6,
    "start_time": "2022-08-17T20:13:49.981Z"
   },
   {
    "duration": 3,
    "start_time": "2022-08-17T20:13:50.695Z"
   },
   {
    "duration": 647,
    "start_time": "2022-08-17T20:15:17.236Z"
   },
   {
    "duration": 515,
    "start_time": "2022-08-17T20:15:59.851Z"
   },
   {
    "duration": 516,
    "start_time": "2022-08-17T20:16:29.489Z"
   },
   {
    "duration": 9,
    "start_time": "2022-08-17T20:16:31.886Z"
   },
   {
    "duration": 19,
    "start_time": "2022-08-17T20:16:54.575Z"
   },
   {
    "duration": 4,
    "start_time": "2022-08-17T20:16:56.224Z"
   },
   {
    "duration": 21,
    "start_time": "2022-08-17T20:17:27.346Z"
   },
   {
    "duration": 3,
    "start_time": "2022-08-17T20:18:40.823Z"
   },
   {
    "duration": 57674,
    "start_time": "2022-08-17T20:18:48.461Z"
   },
   {
    "duration": 6054,
    "start_time": "2022-08-17T20:19:46.137Z"
   },
   {
    "duration": 2,
    "start_time": "2022-08-17T20:23:02.128Z"
   },
   {
    "duration": 353989,
    "start_time": "2022-08-17T20:30:59.141Z"
   },
   {
    "duration": 10,
    "start_time": "2022-08-17T22:03:31.025Z"
   },
   {
    "duration": 10,
    "start_time": "2022-08-17T22:04:07.324Z"
   },
   {
    "duration": 25,
    "start_time": "2022-08-17T22:04:28.637Z"
   },
   {
    "duration": 13,
    "start_time": "2022-08-17T22:04:33.025Z"
   },
   {
    "duration": 3,
    "start_time": "2022-08-17T22:05:00.957Z"
   },
   {
    "duration": 51817,
    "start_time": "2022-08-17T22:05:06.077Z"
   },
   {
    "duration": 0,
    "start_time": "2022-08-17T22:05:57.896Z"
   },
   {
    "duration": 96,
    "start_time": "2022-08-17T22:06:44.984Z"
   },
   {
    "duration": 10,
    "start_time": "2022-08-17T22:06:57.110Z"
   },
   {
    "duration": 38169,
    "start_time": "2022-08-17T22:07:58.891Z"
   },
   {
    "duration": 101,
    "start_time": "2022-08-17T22:08:37.062Z"
   },
   {
    "duration": 86,
    "start_time": "2022-08-17T22:09:36.938Z"
   },
   {
    "duration": 46047,
    "start_time": "2022-08-17T22:09:43.018Z"
   },
   {
    "duration": 100,
    "start_time": "2022-08-17T22:10:29.066Z"
   },
   {
    "duration": 35898,
    "start_time": "2022-08-17T22:30:21.185Z"
   },
   {
    "duration": 0,
    "start_time": "2022-08-17T22:30:57.085Z"
   },
   {
    "duration": 10,
    "start_time": "2022-08-17T22:31:14.132Z"
   },
   {
    "duration": 41444,
    "start_time": "2022-08-17T22:31:23.824Z"
   },
   {
    "duration": 202,
    "start_time": "2022-08-17T22:32:05.270Z"
   },
   {
    "duration": 37833,
    "start_time": "2022-08-17T22:43:06.526Z"
   },
   {
    "duration": 303,
    "start_time": "2022-08-17T22:43:44.361Z"
   },
   {
    "duration": 70,
    "start_time": "2022-08-17T22:46:27.838Z"
   },
   {
    "duration": 11,
    "start_time": "2022-08-17T22:47:37.763Z"
   },
   {
    "duration": 3531,
    "start_time": "2022-08-17T22:47:57.738Z"
   },
   {
    "duration": 101328,
    "start_time": "2022-08-17T22:48:53.794Z"
   },
   {
    "duration": 6430,
    "start_time": "2022-08-17T22:50:35.124Z"
   },
   {
    "duration": 78531,
    "start_time": "2022-08-17T23:20:57.296Z"
   },
   {
    "duration": 185,
    "start_time": "2022-08-17T23:40:16.831Z"
   },
   {
    "duration": 435,
    "start_time": "2022-08-17T23:40:30.190Z"
   },
   {
    "duration": 16,
    "start_time": "2022-08-17T23:45:10.199Z"
   },
   {
    "duration": 5955,
    "start_time": "2022-08-17T23:45:24.413Z"
   },
   {
    "duration": 18,
    "start_time": "2022-08-17T23:46:11.999Z"
   },
   {
    "duration": 63,
    "start_time": "2022-08-17T23:50:55.913Z"
   },
   {
    "duration": 2580,
    "start_time": "2022-08-17T23:51:46.991Z"
   },
   {
    "duration": 1720,
    "start_time": "2022-08-19T10:56:31.022Z"
   },
   {
    "duration": 3331,
    "start_time": "2022-08-19T10:56:32.745Z"
   },
   {
    "duration": 12,
    "start_time": "2022-08-19T10:56:36.077Z"
   },
   {
    "duration": 29,
    "start_time": "2022-08-19T10:56:36.091Z"
   },
   {
    "duration": 11,
    "start_time": "2022-08-19T10:56:36.122Z"
   },
   {
    "duration": 649,
    "start_time": "2022-08-19T10:56:36.135Z"
   },
   {
    "duration": 4779,
    "start_time": "2022-08-19T10:56:36.787Z"
   },
   {
    "duration": 13,
    "start_time": "2022-08-19T10:56:41.567Z"
   },
   {
    "duration": 208,
    "start_time": "2022-08-19T10:56:41.581Z"
   },
   {
    "duration": 6,
    "start_time": "2022-08-19T10:56:41.791Z"
   },
   {
    "duration": 34,
    "start_time": "2022-08-19T10:56:41.799Z"
   },
   {
    "duration": 26,
    "start_time": "2022-08-19T10:56:41.835Z"
   },
   {
    "duration": 8,
    "start_time": "2022-08-19T10:56:41.863Z"
   },
   {
    "duration": 231770,
    "start_time": "2022-08-19T10:56:41.872Z"
   },
   {
    "duration": 0,
    "start_time": "2022-08-19T11:00:33.643Z"
   },
   {
    "duration": 0,
    "start_time": "2022-08-19T11:00:33.645Z"
   },
   {
    "duration": 0,
    "start_time": "2022-08-19T11:00:33.646Z"
   },
   {
    "duration": 0,
    "start_time": "2022-08-19T11:00:33.647Z"
   },
   {
    "duration": 0,
    "start_time": "2022-08-19T11:00:33.648Z"
   },
   {
    "duration": 0,
    "start_time": "2022-08-19T11:00:33.649Z"
   },
   {
    "duration": 0,
    "start_time": "2022-08-19T11:00:33.650Z"
   },
   {
    "duration": 0,
    "start_time": "2022-08-19T11:00:33.651Z"
   },
   {
    "duration": 0,
    "start_time": "2022-08-19T11:00:33.652Z"
   },
   {
    "duration": 93797,
    "start_time": "2022-08-19T11:31:25.481Z"
   },
   {
    "duration": 5754,
    "start_time": "2022-08-19T11:32:59.280Z"
   },
   {
    "duration": 213,
    "start_time": "2022-08-19T11:34:23.696Z"
   },
   {
    "duration": 15076,
    "start_time": "2022-08-19T11:35:20.047Z"
   },
   {
    "duration": 9940,
    "start_time": "2022-08-19T11:36:14.346Z"
   },
   {
    "duration": 27,
    "start_time": "2022-08-19T11:39:56.390Z"
   },
   {
    "duration": 22,
    "start_time": "2022-08-19T11:41:38.159Z"
   },
   {
    "duration": 4892,
    "start_time": "2022-08-19T11:41:45.177Z"
   },
   {
    "duration": 908,
    "start_time": "2022-08-19T11:52:04.937Z"
   },
   {
    "duration": 20,
    "start_time": "2022-08-19T11:53:05.548Z"
   },
   {
    "duration": 8145,
    "start_time": "2022-08-19T11:53:31.166Z"
   },
   {
    "duration": 5336,
    "start_time": "2022-08-19T12:04:49.636Z"
   },
   {
    "duration": 4830,
    "start_time": "2022-08-19T12:05:43.533Z"
   },
   {
    "duration": 1010,
    "start_time": "2022-08-19T12:06:05.269Z"
   },
   {
    "duration": 1598,
    "start_time": "2022-08-19T12:21:54.033Z"
   },
   {
    "duration": 3329,
    "start_time": "2022-08-19T12:21:55.633Z"
   },
   {
    "duration": 10,
    "start_time": "2022-08-19T12:21:58.964Z"
   },
   {
    "duration": 27,
    "start_time": "2022-08-19T12:21:58.976Z"
   },
   {
    "duration": 9,
    "start_time": "2022-08-19T12:21:59.005Z"
   },
   {
    "duration": 277,
    "start_time": "2022-08-19T12:21:59.016Z"
   },
   {
    "duration": 4270,
    "start_time": "2022-08-19T12:21:59.295Z"
   },
   {
    "duration": 13,
    "start_time": "2022-08-19T12:22:03.566Z"
   },
   {
    "duration": 22,
    "start_time": "2022-08-19T12:22:03.580Z"
   },
   {
    "duration": 5,
    "start_time": "2022-08-19T12:22:03.605Z"
   },
   {
    "duration": 36,
    "start_time": "2022-08-19T12:22:03.611Z"
   },
   {
    "duration": 25,
    "start_time": "2022-08-19T12:22:03.649Z"
   },
   {
    "duration": 7,
    "start_time": "2022-08-19T12:22:03.676Z"
   },
   {
    "duration": 433430,
    "start_time": "2022-08-19T12:22:03.684Z"
   },
   {
    "duration": 6219,
    "start_time": "2022-08-19T12:29:17.116Z"
   },
   {
    "duration": 66967,
    "start_time": "2022-08-19T12:29:23.337Z"
   },
   {
    "duration": 1381,
    "start_time": "2022-08-19T12:30:30.306Z"
   },
   {
    "duration": 87070,
    "start_time": "2022-08-19T12:30:31.688Z"
   },
   {
    "duration": 312,
    "start_time": "2022-08-19T12:31:58.846Z"
   },
   {
    "duration": 84808,
    "start_time": "2022-08-19T12:31:59.160Z"
   },
   {
    "duration": 4777,
    "start_time": "2022-08-19T12:33:23.970Z"
   },
   {
    "duration": 989,
    "start_time": "2022-08-19T12:33:28.749Z"
   },
   {
    "duration": 2010,
    "start_time": "2022-08-19T13:50:55.164Z"
   },
   {
    "duration": 1773,
    "start_time": "2022-08-19T14:45:39.535Z"
   },
   {
    "duration": 3411,
    "start_time": "2022-08-19T14:45:41.310Z"
   },
   {
    "duration": 11,
    "start_time": "2022-08-19T14:45:44.723Z"
   },
   {
    "duration": 41,
    "start_time": "2022-08-19T14:45:44.736Z"
   },
   {
    "duration": 7,
    "start_time": "2022-08-19T14:45:44.780Z"
   },
   {
    "duration": 293,
    "start_time": "2022-08-19T14:45:44.789Z"
   },
   {
    "duration": 4691,
    "start_time": "2022-08-19T14:45:45.083Z"
   },
   {
    "duration": 12,
    "start_time": "2022-08-19T14:45:49.776Z"
   },
   {
    "duration": 21,
    "start_time": "2022-08-19T14:45:49.790Z"
   },
   {
    "duration": 6,
    "start_time": "2022-08-19T14:45:49.815Z"
   },
   {
    "duration": 49,
    "start_time": "2022-08-19T14:45:49.823Z"
   },
   {
    "duration": 32,
    "start_time": "2022-08-19T14:45:49.874Z"
   },
   {
    "duration": 8,
    "start_time": "2022-08-19T14:45:49.908Z"
   },
   {
    "duration": 6704,
    "start_time": "2022-08-19T14:45:49.945Z"
   },
   {
    "duration": 0,
    "start_time": "2022-08-19T14:45:56.651Z"
   },
   {
    "duration": 0,
    "start_time": "2022-08-19T14:45:56.653Z"
   },
   {
    "duration": 0,
    "start_time": "2022-08-19T14:45:56.655Z"
   },
   {
    "duration": 0,
    "start_time": "2022-08-19T14:45:56.656Z"
   },
   {
    "duration": 0,
    "start_time": "2022-08-19T14:45:56.657Z"
   },
   {
    "duration": 0,
    "start_time": "2022-08-19T14:45:56.659Z"
   },
   {
    "duration": 0,
    "start_time": "2022-08-19T14:45:56.660Z"
   },
   {
    "duration": 0,
    "start_time": "2022-08-19T14:45:56.661Z"
   },
   {
    "duration": 0,
    "start_time": "2022-08-19T14:45:56.663Z"
   },
   {
    "duration": 0,
    "start_time": "2022-08-19T14:45:56.665Z"
   },
   {
    "duration": 0,
    "start_time": "2022-08-19T14:45:56.667Z"
   },
   {
    "duration": 1741,
    "start_time": "2022-08-19T14:46:14.674Z"
   },
   {
    "duration": 795,
    "start_time": "2022-08-19T14:46:16.417Z"
   },
   {
    "duration": 11,
    "start_time": "2022-08-19T14:46:17.213Z"
   },
   {
    "duration": 47,
    "start_time": "2022-08-19T14:46:17.227Z"
   },
   {
    "duration": 17,
    "start_time": "2022-08-19T14:46:17.276Z"
   },
   {
    "duration": 208,
    "start_time": "2022-08-19T14:46:17.294Z"
   },
   {
    "duration": 405552,
    "start_time": "2022-08-19T14:46:17.504Z"
   },
   {
    "duration": 14,
    "start_time": "2022-08-19T14:53:03.058Z"
   },
   {
    "duration": 18,
    "start_time": "2022-08-19T14:53:03.074Z"
   },
   {
    "duration": 50,
    "start_time": "2022-08-19T14:53:03.095Z"
   },
   {
    "duration": 2533,
    "start_time": "2022-08-19T14:53:03.147Z"
   },
   {
    "duration": 16465,
    "start_time": "2022-08-19T14:53:05.681Z"
   },
   {
    "duration": 34,
    "start_time": "2022-08-19T14:53:22.148Z"
   },
   {
    "duration": 337297,
    "start_time": "2022-08-19T14:53:22.184Z"
   },
   {
    "duration": 0,
    "start_time": "2022-08-19T14:58:59.483Z"
   },
   {
    "duration": 0,
    "start_time": "2022-08-19T14:58:59.484Z"
   },
   {
    "duration": 0,
    "start_time": "2022-08-19T14:58:59.486Z"
   },
   {
    "duration": 0,
    "start_time": "2022-08-19T14:58:59.487Z"
   },
   {
    "duration": 0,
    "start_time": "2022-08-19T14:58:59.488Z"
   },
   {
    "duration": 0,
    "start_time": "2022-08-19T14:58:59.489Z"
   },
   {
    "duration": 0,
    "start_time": "2022-08-19T14:58:59.490Z"
   },
   {
    "duration": 0,
    "start_time": "2022-08-19T14:58:59.491Z"
   },
   {
    "duration": 0,
    "start_time": "2022-08-19T14:58:59.492Z"
   },
   {
    "duration": 0,
    "start_time": "2022-08-19T14:58:59.493Z"
   },
   {
    "duration": 0,
    "start_time": "2022-08-19T14:58:59.494Z"
   },
   {
    "duration": 29239,
    "start_time": "2022-08-19T15:02:56.686Z"
   },
   {
    "duration": 0,
    "start_time": "2022-08-19T15:03:25.928Z"
   },
   {
    "duration": 0,
    "start_time": "2022-08-19T15:03:25.931Z"
   },
   {
    "duration": 0,
    "start_time": "2022-08-19T15:03:25.932Z"
   },
   {
    "duration": 0,
    "start_time": "2022-08-19T15:03:25.933Z"
   },
   {
    "duration": 0,
    "start_time": "2022-08-19T15:03:25.944Z"
   },
   {
    "duration": 0,
    "start_time": "2022-08-19T15:03:25.945Z"
   },
   {
    "duration": 0,
    "start_time": "2022-08-19T15:03:25.946Z"
   },
   {
    "duration": 0,
    "start_time": "2022-08-19T15:03:25.947Z"
   },
   {
    "duration": 0,
    "start_time": "2022-08-19T15:03:25.949Z"
   },
   {
    "duration": 0,
    "start_time": "2022-08-19T15:03:25.950Z"
   },
   {
    "duration": 0,
    "start_time": "2022-08-19T15:03:25.951Z"
   },
   {
    "duration": 0,
    "start_time": "2022-08-19T15:03:25.952Z"
   },
   {
    "duration": 0,
    "start_time": "2022-08-19T15:03:25.953Z"
   },
   {
    "duration": 0,
    "start_time": "2022-08-19T15:03:25.954Z"
   },
   {
    "duration": 0,
    "start_time": "2022-08-19T15:03:25.955Z"
   },
   {
    "duration": 0,
    "start_time": "2022-08-19T15:03:25.956Z"
   },
   {
    "duration": 0,
    "start_time": "2022-08-19T15:03:25.957Z"
   },
   {
    "duration": 0,
    "start_time": "2022-08-19T15:03:25.958Z"
   },
   {
    "duration": 0,
    "start_time": "2022-08-19T15:03:25.959Z"
   },
   {
    "duration": 0,
    "start_time": "2022-08-19T15:03:25.960Z"
   },
   {
    "duration": 0,
    "start_time": "2022-08-19T15:03:25.961Z"
   },
   {
    "duration": 0,
    "start_time": "2022-08-19T15:03:25.962Z"
   },
   {
    "duration": 0,
    "start_time": "2022-08-19T15:03:25.963Z"
   },
   {
    "duration": 95675,
    "start_time": "2022-08-19T15:03:59.028Z"
   },
   {
    "duration": 744,
    "start_time": "2022-08-19T15:05:34.705Z"
   },
   {
    "duration": 12,
    "start_time": "2022-08-19T15:05:35.453Z"
   },
   {
    "duration": 33,
    "start_time": "2022-08-19T15:05:35.467Z"
   },
   {
    "duration": 21,
    "start_time": "2022-08-19T15:05:35.502Z"
   },
   {
    "duration": 268,
    "start_time": "2022-08-19T15:05:35.546Z"
   },
   {
    "duration": 524610,
    "start_time": "2022-08-19T15:05:35.816Z"
   },
   {
    "duration": 19,
    "start_time": "2022-08-19T15:14:20.427Z"
   },
   {
    "duration": 18,
    "start_time": "2022-08-19T15:14:20.449Z"
   },
   {
    "duration": 46,
    "start_time": "2022-08-19T15:14:20.469Z"
   },
   {
    "duration": 3035,
    "start_time": "2022-08-19T15:14:20.516Z"
   },
   {
    "duration": 11196,
    "start_time": "2022-08-19T15:14:23.553Z"
   },
   {
    "duration": 32,
    "start_time": "2022-08-19T15:14:34.757Z"
   },
   {
    "duration": 79876,
    "start_time": "2022-08-19T16:47:32.091Z"
   },
   {
    "duration": 773,
    "start_time": "2022-08-19T16:48:51.969Z"
   },
   {
    "duration": 12,
    "start_time": "2022-08-19T16:48:52.743Z"
   },
   {
    "duration": 30,
    "start_time": "2022-08-19T16:48:52.757Z"
   },
   {
    "duration": 19,
    "start_time": "2022-08-19T16:48:52.789Z"
   },
   {
    "duration": 288,
    "start_time": "2022-08-19T16:48:52.810Z"
   },
   {
    "duration": 537024,
    "start_time": "2022-08-19T16:48:53.100Z"
   },
   {
    "duration": 13,
    "start_time": "2022-08-19T16:57:50.126Z"
   },
   {
    "duration": 10,
    "start_time": "2022-08-19T16:57:50.146Z"
   },
   {
    "duration": 31,
    "start_time": "2022-08-19T16:57:50.158Z"
   },
   {
    "duration": 3084,
    "start_time": "2022-08-19T16:57:50.191Z"
   },
   {
    "duration": 15685,
    "start_time": "2022-08-19T16:57:53.277Z"
   },
   {
    "duration": 118,
    "start_time": "2022-08-19T16:58:09.045Z"
   },
   {
    "duration": 1909384,
    "start_time": "2022-08-19T16:58:09.164Z"
   },
   {
    "duration": 0,
    "start_time": "2022-08-19T17:29:58.550Z"
   },
   {
    "duration": 0,
    "start_time": "2022-08-19T17:29:58.551Z"
   },
   {
    "duration": 0,
    "start_time": "2022-08-19T17:29:58.552Z"
   },
   {
    "duration": 0,
    "start_time": "2022-08-19T17:29:58.553Z"
   },
   {
    "duration": 0,
    "start_time": "2022-08-19T17:29:58.555Z"
   },
   {
    "duration": 0,
    "start_time": "2022-08-19T17:29:58.556Z"
   },
   {
    "duration": 0,
    "start_time": "2022-08-19T17:29:58.557Z"
   },
   {
    "duration": 0,
    "start_time": "2022-08-19T17:29:58.558Z"
   },
   {
    "duration": 0,
    "start_time": "2022-08-19T17:29:58.559Z"
   },
   {
    "duration": 0,
    "start_time": "2022-08-19T17:29:58.560Z"
   },
   {
    "duration": 0,
    "start_time": "2022-08-19T17:29:58.561Z"
   },
   {
    "duration": 44366,
    "start_time": "2022-08-19T17:30:18.288Z"
   },
   {
    "duration": 0,
    "start_time": "2022-08-19T17:31:02.657Z"
   },
   {
    "duration": 0,
    "start_time": "2022-08-19T17:31:02.658Z"
   },
   {
    "duration": 0,
    "start_time": "2022-08-19T17:31:02.659Z"
   },
   {
    "duration": 0,
    "start_time": "2022-08-19T17:31:02.660Z"
   },
   {
    "duration": 0,
    "start_time": "2022-08-19T17:31:02.661Z"
   },
   {
    "duration": 0,
    "start_time": "2022-08-19T17:31:02.662Z"
   },
   {
    "duration": 0,
    "start_time": "2022-08-19T17:31:02.663Z"
   },
   {
    "duration": 0,
    "start_time": "2022-08-19T17:31:02.664Z"
   },
   {
    "duration": 0,
    "start_time": "2022-08-19T17:31:02.665Z"
   },
   {
    "duration": 0,
    "start_time": "2022-08-19T17:31:02.667Z"
   },
   {
    "duration": 0,
    "start_time": "2022-08-19T17:31:02.668Z"
   },
   {
    "duration": 0,
    "start_time": "2022-08-19T17:31:02.670Z"
   },
   {
    "duration": 0,
    "start_time": "2022-08-19T17:31:02.670Z"
   },
   {
    "duration": 0,
    "start_time": "2022-08-19T17:31:02.672Z"
   },
   {
    "duration": 0,
    "start_time": "2022-08-19T17:31:02.673Z"
   },
   {
    "duration": 0,
    "start_time": "2022-08-19T17:31:02.674Z"
   },
   {
    "duration": 0,
    "start_time": "2022-08-19T17:31:02.675Z"
   },
   {
    "duration": 0,
    "start_time": "2022-08-19T17:31:02.676Z"
   },
   {
    "duration": 0,
    "start_time": "2022-08-19T17:31:02.677Z"
   },
   {
    "duration": 0,
    "start_time": "2022-08-19T17:31:02.678Z"
   },
   {
    "duration": 0,
    "start_time": "2022-08-19T17:31:02.679Z"
   },
   {
    "duration": 0,
    "start_time": "2022-08-19T17:31:02.680Z"
   },
   {
    "duration": 0,
    "start_time": "2022-08-19T17:31:02.681Z"
   },
   {
    "duration": 74593,
    "start_time": "2022-08-19T17:31:28.724Z"
   },
   {
    "duration": 768,
    "start_time": "2022-08-19T17:32:43.319Z"
   },
   {
    "duration": 12,
    "start_time": "2022-08-19T17:32:44.092Z"
   },
   {
    "duration": 46,
    "start_time": "2022-08-19T17:32:44.105Z"
   },
   {
    "duration": 9,
    "start_time": "2022-08-19T17:32:44.152Z"
   },
   {
    "duration": 189,
    "start_time": "2022-08-19T17:32:44.162Z"
   },
   {
    "duration": 4113,
    "start_time": "2022-08-19T17:32:44.353Z"
   },
   {
    "duration": 11,
    "start_time": "2022-08-19T17:32:48.468Z"
   },
   {
    "duration": 11,
    "start_time": "2022-08-19T17:32:48.482Z"
   },
   {
    "duration": 15,
    "start_time": "2022-08-19T17:32:48.494Z"
   },
   {
    "duration": 38,
    "start_time": "2022-08-19T17:32:48.511Z"
   },
   {
    "duration": 21,
    "start_time": "2022-08-19T17:32:48.551Z"
   },
   {
    "duration": 8,
    "start_time": "2022-08-19T17:32:48.573Z"
   },
   {
    "duration": 395762,
    "start_time": "2022-08-19T17:32:48.583Z"
   },
   {
    "duration": 2723,
    "start_time": "2022-08-19T17:39:24.346Z"
   },
   {
    "duration": 78345,
    "start_time": "2022-08-19T17:39:27.071Z"
   },
   {
    "duration": 3450,
    "start_time": "2022-08-19T17:40:45.418Z"
   },
   {
    "duration": 18187,
    "start_time": "2022-08-19T17:40:48.869Z"
   },
   {
    "duration": 191,
    "start_time": "2022-08-19T17:41:07.058Z"
   },
   {
    "duration": 4785,
    "start_time": "2022-08-19T17:41:07.250Z"
   },
   {
    "duration": 971,
    "start_time": "2022-08-19T17:41:12.037Z"
   },
   {
    "duration": 50819,
    "start_time": "2022-08-19T17:46:33.785Z"
   },
   {
    "duration": 0,
    "start_time": "2022-08-19T17:47:24.607Z"
   },
   {
    "duration": 0,
    "start_time": "2022-08-19T17:47:24.609Z"
   },
   {
    "duration": 0,
    "start_time": "2022-08-19T17:47:24.610Z"
   },
   {
    "duration": 0,
    "start_time": "2022-08-19T17:47:24.611Z"
   },
   {
    "duration": 0,
    "start_time": "2022-08-19T17:47:24.612Z"
   },
   {
    "duration": 0,
    "start_time": "2022-08-19T17:47:24.613Z"
   },
   {
    "duration": 0,
    "start_time": "2022-08-19T17:47:24.614Z"
   },
   {
    "duration": 0,
    "start_time": "2022-08-19T17:47:24.615Z"
   },
   {
    "duration": 0,
    "start_time": "2022-08-19T17:47:24.616Z"
   },
   {
    "duration": 0,
    "start_time": "2022-08-19T17:47:24.618Z"
   },
   {
    "duration": 0,
    "start_time": "2022-08-19T17:47:24.645Z"
   },
   {
    "duration": 0,
    "start_time": "2022-08-19T17:47:24.646Z"
   },
   {
    "duration": 0,
    "start_time": "2022-08-19T17:47:24.648Z"
   },
   {
    "duration": 0,
    "start_time": "2022-08-19T17:47:24.649Z"
   },
   {
    "duration": 0,
    "start_time": "2022-08-19T17:47:24.650Z"
   },
   {
    "duration": 0,
    "start_time": "2022-08-19T17:47:24.651Z"
   },
   {
    "duration": 0,
    "start_time": "2022-08-19T17:47:24.652Z"
   },
   {
    "duration": 0,
    "start_time": "2022-08-19T17:47:24.652Z"
   },
   {
    "duration": 0,
    "start_time": "2022-08-19T17:47:24.653Z"
   },
   {
    "duration": 0,
    "start_time": "2022-08-19T17:47:24.655Z"
   },
   {
    "duration": 0,
    "start_time": "2022-08-19T17:47:24.656Z"
   },
   {
    "duration": 0,
    "start_time": "2022-08-19T17:47:24.657Z"
   },
   {
    "duration": 0,
    "start_time": "2022-08-19T17:47:24.658Z"
   },
   {
    "duration": 0,
    "start_time": "2022-08-19T17:47:24.662Z"
   },
   {
    "duration": 72585,
    "start_time": "2022-08-19T17:47:40.472Z"
   },
   {
    "duration": 3285,
    "start_time": "2022-08-19T17:48:53.059Z"
   },
   {
    "duration": 11,
    "start_time": "2022-08-19T17:48:56.346Z"
   },
   {
    "duration": 31,
    "start_time": "2022-08-19T17:48:56.360Z"
   },
   {
    "duration": 27,
    "start_time": "2022-08-19T17:48:56.392Z"
   },
   {
    "duration": 265,
    "start_time": "2022-08-19T17:48:56.421Z"
   },
   {
    "duration": 557740,
    "start_time": "2022-08-19T17:48:56.688Z"
   },
   {
    "duration": 18,
    "start_time": "2022-08-19T17:58:14.430Z"
   },
   {
    "duration": 14,
    "start_time": "2022-08-19T17:58:14.450Z"
   },
   {
    "duration": 32,
    "start_time": "2022-08-19T17:58:14.468Z"
   },
   {
    "duration": 3157,
    "start_time": "2022-08-19T17:58:14.502Z"
   },
   {
    "duration": 19989,
    "start_time": "2022-08-19T17:58:17.661Z"
   },
   {
    "duration": 124,
    "start_time": "2022-08-19T17:58:37.651Z"
   },
   {
    "duration": 6214458,
    "start_time": "2022-08-19T17:58:37.777Z"
   },
   {
    "duration": 0,
    "start_time": "2022-08-19T19:42:12.237Z"
   },
   {
    "duration": 0,
    "start_time": "2022-08-19T19:42:12.239Z"
   },
   {
    "duration": 0,
    "start_time": "2022-08-19T19:42:12.240Z"
   },
   {
    "duration": 0,
    "start_time": "2022-08-19T19:42:12.241Z"
   },
   {
    "duration": 0,
    "start_time": "2022-08-19T19:42:12.253Z"
   },
   {
    "duration": 0,
    "start_time": "2022-08-19T19:42:12.254Z"
   },
   {
    "duration": 0,
    "start_time": "2022-08-19T19:42:12.255Z"
   },
   {
    "duration": 0,
    "start_time": "2022-08-19T19:42:12.256Z"
   },
   {
    "duration": 0,
    "start_time": "2022-08-19T19:42:12.257Z"
   },
   {
    "duration": 0,
    "start_time": "2022-08-19T19:42:12.258Z"
   },
   {
    "duration": 19307,
    "start_time": "2022-08-19T20:17:57.787Z"
   },
   {
    "duration": 191562,
    "start_time": "2022-08-19T20:18:19.578Z"
   },
   {
    "duration": 22,
    "start_time": "2022-08-19T20:21:31.142Z"
   },
   {
    "duration": 88376,
    "start_time": "2022-08-19T20:23:59.562Z"
   },
   {
    "duration": 803,
    "start_time": "2022-08-19T20:25:27.940Z"
   },
   {
    "duration": 12,
    "start_time": "2022-08-19T20:25:28.745Z"
   },
   {
    "duration": 31,
    "start_time": "2022-08-19T20:25:28.759Z"
   },
   {
    "duration": 21,
    "start_time": "2022-08-19T20:25:28.792Z"
   },
   {
    "duration": 206,
    "start_time": "2022-08-19T20:25:28.816Z"
   },
   {
    "duration": 316566,
    "start_time": "2022-08-19T20:25:29.024Z"
   },
   {
    "duration": 0,
    "start_time": "2022-08-19T20:30:45.592Z"
   },
   {
    "duration": 0,
    "start_time": "2022-08-19T20:30:45.593Z"
   },
   {
    "duration": 0,
    "start_time": "2022-08-19T20:30:45.594Z"
   },
   {
    "duration": 0,
    "start_time": "2022-08-19T20:30:45.596Z"
   },
   {
    "duration": 0,
    "start_time": "2022-08-19T20:30:45.597Z"
   },
   {
    "duration": 0,
    "start_time": "2022-08-19T20:30:45.598Z"
   },
   {
    "duration": 0,
    "start_time": "2022-08-19T20:30:45.599Z"
   },
   {
    "duration": 0,
    "start_time": "2022-08-19T20:30:45.600Z"
   },
   {
    "duration": 0,
    "start_time": "2022-08-19T20:30:45.601Z"
   },
   {
    "duration": 0,
    "start_time": "2022-08-19T20:30:45.602Z"
   },
   {
    "duration": 0,
    "start_time": "2022-08-19T20:30:45.603Z"
   },
   {
    "duration": 0,
    "start_time": "2022-08-19T20:30:45.604Z"
   },
   {
    "duration": 12,
    "start_time": "2022-08-19T20:31:16.963Z"
   },
   {
    "duration": 8,
    "start_time": "2022-08-19T20:31:17.698Z"
   },
   {
    "duration": 286350,
    "start_time": "2022-08-19T20:31:21.016Z"
   },
   {
    "duration": 12,
    "start_time": "2022-08-19T20:36:07.368Z"
   },
   {
    "duration": 24,
    "start_time": "2022-08-19T20:36:07.382Z"
   },
   {
    "duration": 34,
    "start_time": "2022-08-19T20:36:07.409Z"
   },
   {
    "duration": 1731,
    "start_time": "2022-08-19T20:36:07.445Z"
   },
   {
    "duration": 11168,
    "start_time": "2022-08-19T20:36:09.178Z"
   },
   {
    "duration": 107,
    "start_time": "2022-08-19T20:36:20.348Z"
   },
   {
    "duration": 18457895,
    "start_time": "2022-08-19T20:36:20.457Z"
   },
   {
    "duration": 5363945,
    "start_time": "2022-08-20T01:43:58.354Z"
   },
   {
    "duration": 3736860,
    "start_time": "2022-08-20T03:13:22.301Z"
   },
   {
    "duration": 330521,
    "start_time": "2022-08-20T04:15:39.162Z"
   },
   {
    "duration": 46718,
    "start_time": "2022-08-20T12:27:17.992Z"
   },
   {
    "duration": 2020,
    "start_time": "2022-08-20T12:28:04.712Z"
   },
   {
    "duration": 13,
    "start_time": "2022-08-20T12:28:06.734Z"
   },
   {
    "duration": 28,
    "start_time": "2022-08-20T12:28:06.749Z"
   },
   {
    "duration": 13,
    "start_time": "2022-08-20T12:28:06.778Z"
   },
   {
    "duration": 435,
    "start_time": "2022-08-20T12:28:06.793Z"
   },
   {
    "duration": 18798,
    "start_time": "2022-08-20T12:28:07.230Z"
   },
   {
    "duration": 1,
    "start_time": "2022-08-20T12:28:26.031Z"
   },
   {
    "duration": 0,
    "start_time": "2022-08-20T12:28:26.032Z"
   },
   {
    "duration": 0,
    "start_time": "2022-08-20T12:28:26.033Z"
   },
   {
    "duration": 0,
    "start_time": "2022-08-20T12:28:26.035Z"
   },
   {
    "duration": 0,
    "start_time": "2022-08-20T12:28:26.036Z"
   },
   {
    "duration": 0,
    "start_time": "2022-08-20T12:28:26.037Z"
   },
   {
    "duration": 0,
    "start_time": "2022-08-20T12:28:26.038Z"
   },
   {
    "duration": 0,
    "start_time": "2022-08-20T12:28:26.039Z"
   },
   {
    "duration": 0,
    "start_time": "2022-08-20T12:28:26.040Z"
   },
   {
    "duration": 0,
    "start_time": "2022-08-20T12:28:26.041Z"
   },
   {
    "duration": 0,
    "start_time": "2022-08-20T12:28:26.042Z"
   },
   {
    "duration": 0,
    "start_time": "2022-08-20T12:28:26.043Z"
   },
   {
    "duration": 71386,
    "start_time": "2022-08-20T12:29:00.770Z"
   },
   {
    "duration": 10,
    "start_time": "2022-08-20T12:31:03.698Z"
   },
   {
    "duration": 104,
    "start_time": "2022-08-20T12:31:20.106Z"
   },
   {
    "duration": 7,
    "start_time": "2022-08-20T12:31:21.113Z"
   },
   {
    "duration": 446,
    "start_time": "2022-08-20T12:31:22.521Z"
   },
   {
    "duration": 4368,
    "start_time": "2022-08-20T12:31:26.852Z"
   },
   {
    "duration": 9,
    "start_time": "2022-08-20T12:31:31.312Z"
   },
   {
    "duration": 17,
    "start_time": "2022-08-20T12:32:21.796Z"
   },
   {
    "duration": 221,
    "start_time": "2022-08-20T12:33:11.192Z"
   },
   {
    "duration": 9,
    "start_time": "2022-08-20T12:33:14.571Z"
   },
   {
    "duration": 130,
    "start_time": "2022-08-20T12:33:38.656Z"
   },
   {
    "duration": 9,
    "start_time": "2022-08-20T12:33:40.820Z"
   },
   {
    "duration": 352,
    "start_time": "2022-08-20T12:33:45.670Z"
   },
   {
    "duration": 9,
    "start_time": "2022-08-20T12:33:47.821Z"
   },
   {
    "duration": 1953,
    "start_time": "2022-08-20T12:35:07.127Z"
   },
   {
    "duration": 9,
    "start_time": "2022-08-20T12:35:10.344Z"
   },
   {
    "duration": 16,
    "start_time": "2022-08-20T12:35:29.067Z"
   },
   {
    "duration": 55,
    "start_time": "2022-08-20T12:35:38.118Z"
   },
   {
    "duration": 18,
    "start_time": "2022-08-20T12:35:43.565Z"
   },
   {
    "duration": 350,
    "start_time": "2022-08-20T12:35:52.088Z"
   },
   {
    "duration": 9,
    "start_time": "2022-08-20T12:35:54.071Z"
   },
   {
    "duration": 2648,
    "start_time": "2022-08-20T12:36:07.366Z"
   },
   {
    "duration": 100,
    "start_time": "2022-08-20T12:36:10.017Z"
   },
   {
    "duration": 206,
    "start_time": "2022-08-20T12:36:29.626Z"
   },
   {
    "duration": 47794,
    "start_time": "2022-08-20T12:36:41.144Z"
   },
   {
    "duration": 742,
    "start_time": "2022-08-20T12:37:28.940Z"
   },
   {
    "duration": 10,
    "start_time": "2022-08-20T12:37:29.683Z"
   },
   {
    "duration": 41,
    "start_time": "2022-08-20T12:37:29.695Z"
   },
   {
    "duration": 31,
    "start_time": "2022-08-20T12:37:29.739Z"
   },
   {
    "duration": 224,
    "start_time": "2022-08-20T12:37:29.772Z"
   },
   {
    "duration": 139800,
    "start_time": "2022-08-20T12:37:29.997Z"
   },
   {
    "duration": 15,
    "start_time": "2022-08-20T12:39:49.799Z"
   },
   {
    "duration": 22,
    "start_time": "2022-08-20T12:39:49.815Z"
   },
   {
    "duration": 15,
    "start_time": "2022-08-20T12:39:49.839Z"
   },
   {
    "duration": 743,
    "start_time": "2022-08-20T12:39:49.856Z"
   },
   {
    "duration": 3516,
    "start_time": "2022-08-20T12:39:50.601Z"
   },
   {
    "duration": 97,
    "start_time": "2022-08-20T12:39:54.119Z"
   },
   {
    "duration": 858721,
    "start_time": "2022-08-20T12:39:54.219Z"
   },
   {
    "duration": 15,
    "start_time": "2022-08-20T12:54:12.942Z"
   },
   {
    "duration": 0,
    "start_time": "2022-08-20T12:54:12.959Z"
   },
   {
    "duration": 0,
    "start_time": "2022-08-20T12:54:12.960Z"
   },
   {
    "duration": 0,
    "start_time": "2022-08-20T12:54:12.961Z"
   },
   {
    "duration": 0,
    "start_time": "2022-08-20T12:54:12.961Z"
   },
   {
    "duration": 46872,
    "start_time": "2022-08-20T12:57:21.205Z"
   },
   {
    "duration": 753,
    "start_time": "2022-08-20T12:58:08.079Z"
   },
   {
    "duration": 10,
    "start_time": "2022-08-20T12:58:08.833Z"
   },
   {
    "duration": 65,
    "start_time": "2022-08-20T12:58:08.845Z"
   },
   {
    "duration": 8,
    "start_time": "2022-08-20T12:58:08.912Z"
   },
   {
    "duration": 225,
    "start_time": "2022-08-20T12:58:08.922Z"
   },
   {
    "duration": 71933,
    "start_time": "2022-08-20T12:58:09.148Z"
   },
   {
    "duration": 11,
    "start_time": "2022-08-20T12:59:21.082Z"
   },
   {
    "duration": 25,
    "start_time": "2022-08-20T12:59:21.095Z"
   },
   {
    "duration": 11,
    "start_time": "2022-08-20T12:59:21.123Z"
   },
   {
    "duration": 419,
    "start_time": "2022-08-20T12:59:21.135Z"
   },
   {
    "duration": 5357,
    "start_time": "2022-08-20T12:59:21.555Z"
   },
   {
    "duration": 9,
    "start_time": "2022-08-20T12:59:26.913Z"
   },
   {
    "duration": 1951049,
    "start_time": "2022-08-20T12:59:26.923Z"
   },
   {
    "duration": 11179,
    "start_time": "2022-08-20T13:31:57.973Z"
   },
   {
    "duration": 347,
    "start_time": "2022-08-20T13:32:09.154Z"
   },
   {
    "duration": 0,
    "start_time": "2022-08-20T13:32:09.503Z"
   },
   {
    "duration": 0,
    "start_time": "2022-08-20T13:32:09.504Z"
   },
   {
    "duration": 0,
    "start_time": "2022-08-20T13:32:09.505Z"
   },
   {
    "duration": 2789491,
    "start_time": "2022-08-20T13:39:15.051Z"
   },
   {
    "duration": 13541,
    "start_time": "2022-08-20T14:25:44.544Z"
   },
   {
    "duration": 8581131,
    "start_time": "2022-08-20T14:28:53.390Z"
   },
   {
    "duration": 372112,
    "start_time": "2022-08-20T16:51:54.523Z"
   },
   {
    "duration": 17844,
    "start_time": "2022-08-20T17:35:39.528Z"
   },
   {
    "duration": 2147696,
    "start_time": "2022-08-20T17:41:58.815Z"
   },
   {
    "duration": 3200,
    "start_time": "2022-08-20T18:17:46.512Z"
   },
   {
    "duration": 20401321,
    "start_time": "2022-08-20T18:47:37.457Z"
   },
   {
    "duration": 241034,
    "start_time": "2022-08-21T00:27:38.779Z"
   },
   {
    "duration": 1219982,
    "start_time": "2022-08-21T00:31:39.815Z"
   },
   {
    "duration": 84066,
    "start_time": "2022-08-21T00:51:59.799Z"
   },
   {
    "duration": 43,
    "start_time": "2022-08-21T00:53:23.868Z"
   },
   {
    "duration": 0,
    "start_time": "2022-08-21T00:53:23.913Z"
   },
   {
    "duration": 50,
    "start_time": "2022-08-22T09:31:02.640Z"
   },
   {
    "duration": 78055,
    "start_time": "2022-08-22T09:31:11.562Z"
   },
   {
    "duration": 3,
    "start_time": "2022-08-22T09:32:59.340Z"
   },
   {
    "duration": 30102,
    "start_time": "2022-08-22T10:13:03.003Z"
   },
   {
    "duration": 0,
    "start_time": "2022-08-22T10:13:33.107Z"
   },
   {
    "duration": 0,
    "start_time": "2022-08-22T10:13:33.108Z"
   },
   {
    "duration": 0,
    "start_time": "2022-08-22T10:13:33.110Z"
   },
   {
    "duration": 0,
    "start_time": "2022-08-22T10:13:33.111Z"
   },
   {
    "duration": 0,
    "start_time": "2022-08-22T10:13:33.112Z"
   },
   {
    "duration": 0,
    "start_time": "2022-08-22T10:13:33.113Z"
   },
   {
    "duration": 0,
    "start_time": "2022-08-22T10:13:33.114Z"
   },
   {
    "duration": 0,
    "start_time": "2022-08-22T10:13:33.117Z"
   },
   {
    "duration": 0,
    "start_time": "2022-08-22T10:13:33.118Z"
   },
   {
    "duration": 0,
    "start_time": "2022-08-22T10:13:33.119Z"
   },
   {
    "duration": 0,
    "start_time": "2022-08-22T10:13:33.120Z"
   },
   {
    "duration": 0,
    "start_time": "2022-08-22T10:13:33.121Z"
   },
   {
    "duration": 0,
    "start_time": "2022-08-22T10:13:33.122Z"
   },
   {
    "duration": 0,
    "start_time": "2022-08-22T10:13:33.123Z"
   },
   {
    "duration": 0,
    "start_time": "2022-08-22T10:13:33.125Z"
   },
   {
    "duration": 0,
    "start_time": "2022-08-22T10:13:33.125Z"
   },
   {
    "duration": 0,
    "start_time": "2022-08-22T10:13:33.126Z"
   },
   {
    "duration": 0,
    "start_time": "2022-08-22T10:13:33.127Z"
   },
   {
    "duration": 0,
    "start_time": "2022-08-22T10:13:33.168Z"
   },
   {
    "duration": 0,
    "start_time": "2022-08-22T10:13:33.169Z"
   },
   {
    "duration": 0,
    "start_time": "2022-08-22T10:13:33.170Z"
   },
   {
    "duration": 0,
    "start_time": "2022-08-22T10:13:33.171Z"
   },
   {
    "duration": 4,
    "start_time": "2022-08-22T10:13:49.497Z"
   },
   {
    "duration": 4,
    "start_time": "2022-08-22T10:13:52.835Z"
   },
   {
    "duration": 3094,
    "start_time": "2022-08-22T10:13:54.980Z"
   },
   {
    "duration": 13,
    "start_time": "2022-08-22T10:13:58.076Z"
   },
   {
    "duration": 33,
    "start_time": "2022-08-22T10:13:58.091Z"
   },
   {
    "duration": 9,
    "start_time": "2022-08-22T10:14:00.798Z"
   },
   {
    "duration": 750,
    "start_time": "2022-08-22T10:14:02.289Z"
   },
   {
    "duration": 4779,
    "start_time": "2022-08-22T10:14:04.011Z"
   },
   {
    "duration": 14,
    "start_time": "2022-08-22T10:14:08.793Z"
   },
   {
    "duration": 194,
    "start_time": "2022-08-22T10:14:08.809Z"
   },
   {
    "duration": 6,
    "start_time": "2022-08-22T10:14:09.006Z"
   },
   {
    "duration": 27,
    "start_time": "2022-08-22T10:14:13.914Z"
   },
   {
    "duration": 21,
    "start_time": "2022-08-22T10:14:15.512Z"
   },
   {
    "duration": 20,
    "start_time": "2022-08-22T10:14:29.638Z"
   },
   {
    "duration": 8,
    "start_time": "2022-08-22T10:14:31.011Z"
   },
   {
    "duration": 22,
    "start_time": "2022-08-22T10:14:38.055Z"
   },
   {
    "duration": 8,
    "start_time": "2022-08-22T10:14:39.266Z"
   },
   {
    "duration": 36,
    "start_time": "2022-08-22T10:14:46.613Z"
   },
   {
    "duration": 7,
    "start_time": "2022-08-22T10:14:47.462Z"
   },
   {
    "duration": 36,
    "start_time": "2022-08-22T10:14:53.616Z"
   },
   {
    "duration": 8,
    "start_time": "2022-08-22T10:14:54.456Z"
   },
   {
    "duration": 20,
    "start_time": "2022-08-22T10:15:00.525Z"
   },
   {
    "duration": 9,
    "start_time": "2022-08-22T10:15:01.375Z"
   },
   {
    "duration": 32,
    "start_time": "2022-08-22T10:15:13.561Z"
   },
   {
    "duration": 7,
    "start_time": "2022-08-22T10:15:14.589Z"
   },
   {
    "duration": 44,
    "start_time": "2022-08-22T10:15:20.770Z"
   },
   {
    "duration": 8,
    "start_time": "2022-08-22T10:15:21.873Z"
   },
   {
    "duration": 18,
    "start_time": "2022-08-22T10:15:29.984Z"
   },
   {
    "duration": 8,
    "start_time": "2022-08-22T10:15:30.999Z"
   },
   {
    "duration": 19,
    "start_time": "2022-08-22T10:15:37.493Z"
   },
   {
    "duration": 8,
    "start_time": "2022-08-22T10:15:38.513Z"
   },
   {
    "duration": 15,
    "start_time": "2022-08-22T10:15:44.681Z"
   },
   {
    "duration": 8,
    "start_time": "2022-08-22T10:15:45.519Z"
   },
   {
    "duration": 20,
    "start_time": "2022-08-22T10:15:53.166Z"
   },
   {
    "duration": 8,
    "start_time": "2022-08-22T10:15:54.058Z"
   },
   {
    "duration": 17,
    "start_time": "2022-08-22T10:16:01.476Z"
   },
   {
    "duration": 8,
    "start_time": "2022-08-22T10:16:02.280Z"
   },
   {
    "duration": 32,
    "start_time": "2022-08-22T10:16:17.476Z"
   },
   {
    "duration": 7,
    "start_time": "2022-08-22T10:16:18.780Z"
   },
   {
    "duration": 16,
    "start_time": "2022-08-22T10:16:27.989Z"
   },
   {
    "duration": 9,
    "start_time": "2022-08-22T10:16:28.930Z"
   },
   {
    "duration": 14,
    "start_time": "2022-08-22T10:16:42.964Z"
   },
   {
    "duration": 7,
    "start_time": "2022-08-22T10:16:44.117Z"
   },
   {
    "duration": 14,
    "start_time": "2022-08-22T10:16:50.013Z"
   },
   {
    "duration": 9,
    "start_time": "2022-08-22T10:16:50.743Z"
   },
   {
    "duration": 17,
    "start_time": "2022-08-22T10:16:56.017Z"
   },
   {
    "duration": 9,
    "start_time": "2022-08-22T10:16:57.117Z"
   },
   {
    "duration": 14,
    "start_time": "2022-08-22T10:17:06.332Z"
   },
   {
    "duration": 7,
    "start_time": "2022-08-22T10:17:07.316Z"
   },
   {
    "duration": 13,
    "start_time": "2022-08-22T10:17:13.310Z"
   },
   {
    "duration": 8,
    "start_time": "2022-08-22T10:17:14.038Z"
   },
   {
    "duration": 14,
    "start_time": "2022-08-22T10:17:19.618Z"
   },
   {
    "duration": 8,
    "start_time": "2022-08-22T10:17:20.295Z"
   },
   {
    "duration": 18,
    "start_time": "2022-08-22T10:17:29.181Z"
   },
   {
    "duration": 8,
    "start_time": "2022-08-22T10:17:29.909Z"
   },
   {
    "duration": 393203,
    "start_time": "2022-08-22T10:17:52.474Z"
   },
   {
    "duration": 647,
    "start_time": "2022-08-22T10:24:25.680Z"
   },
   {
    "duration": 81420,
    "start_time": "2022-08-22T10:25:41.454Z"
   },
   {
    "duration": 8153,
    "start_time": "2022-08-22T10:28:25.771Z"
   },
   {
    "duration": 994,
    "start_time": "2022-08-22T10:29:01.200Z"
   },
   {
    "duration": 176,
    "start_time": "2022-08-22T10:29:10.347Z"
   },
   {
    "duration": 4,
    "start_time": "2022-08-22T10:29:39.294Z"
   },
   {
    "duration": 83652,
    "start_time": "2022-08-22T16:22:55.807Z"
   },
   {
    "duration": 4,
    "start_time": "2022-08-22T16:24:19.461Z"
   },
   {
    "duration": 895,
    "start_time": "2022-08-22T16:24:19.467Z"
   },
   {
    "duration": 15,
    "start_time": "2022-08-22T16:24:20.364Z"
   },
   {
    "duration": 79,
    "start_time": "2022-08-22T16:24:20.381Z"
   },
   {
    "duration": 36,
    "start_time": "2022-08-22T16:24:20.463Z"
   },
   {
    "duration": 274,
    "start_time": "2022-08-22T16:24:20.501Z"
   },
   {
    "duration": 4531,
    "start_time": "2022-08-22T16:24:20.777Z"
   },
   {
    "duration": 13,
    "start_time": "2022-08-22T16:24:25.310Z"
   },
   {
    "duration": 8,
    "start_time": "2022-08-22T16:24:25.326Z"
   },
   {
    "duration": 6,
    "start_time": "2022-08-22T16:24:25.335Z"
   },
   {
    "duration": 47,
    "start_time": "2022-08-22T16:24:25.343Z"
   },
   {
    "duration": 20,
    "start_time": "2022-08-22T16:24:25.392Z"
   },
   {
    "duration": 9,
    "start_time": "2022-08-22T16:24:25.414Z"
   },
   {
    "duration": 35831,
    "start_time": "2022-08-22T16:24:25.425Z"
   },
   {
    "duration": 28,
    "start_time": "2022-08-22T16:25:01.259Z"
   },
   {
    "duration": 0,
    "start_time": "2022-08-22T16:25:01.289Z"
   },
   {
    "duration": 0,
    "start_time": "2022-08-22T16:25:01.291Z"
   },
   {
    "duration": 0,
    "start_time": "2022-08-22T16:25:01.292Z"
   },
   {
    "duration": 0,
    "start_time": "2022-08-22T16:25:01.294Z"
   },
   {
    "duration": 0,
    "start_time": "2022-08-22T16:25:01.296Z"
   },
   {
    "duration": 0,
    "start_time": "2022-08-22T16:25:01.297Z"
   },
   {
    "duration": 0,
    "start_time": "2022-08-22T16:25:01.298Z"
   },
   {
    "duration": 0,
    "start_time": "2022-08-22T16:25:01.299Z"
   },
   {
    "duration": 20,
    "start_time": "2022-08-22T16:25:57.712Z"
   },
   {
    "duration": 6,
    "start_time": "2022-08-22T16:26:39.544Z"
   },
   {
    "duration": 25,
    "start_time": "2022-08-22T16:26:45.670Z"
   },
   {
    "duration": 4,
    "start_time": "2022-08-22T16:30:37.641Z"
   },
   {
    "duration": 4,
    "start_time": "2022-08-22T16:31:06.363Z"
   },
   {
    "duration": 215,
    "start_time": "2022-08-22T16:33:00.571Z"
   },
   {
    "duration": 3,
    "start_time": "2022-08-22T16:33:33.812Z"
   },
   {
    "duration": 126,
    "start_time": "2022-08-22T16:33:34.971Z"
   },
   {
    "duration": 126,
    "start_time": "2022-08-22T16:47:08.964Z"
   },
   {
    "duration": 3,
    "start_time": "2022-08-22T16:47:13.512Z"
   },
   {
    "duration": 133,
    "start_time": "2022-08-22T16:47:16.059Z"
   },
   {
    "duration": 26,
    "start_time": "2022-08-22T16:53:41.531Z"
   },
   {
    "duration": 23,
    "start_time": "2022-08-22T16:54:06.381Z"
   },
   {
    "duration": 4,
    "start_time": "2022-08-22T16:54:30.386Z"
   },
   {
    "duration": 136,
    "start_time": "2022-08-22T16:54:43.066Z"
   },
   {
    "duration": 21,
    "start_time": "2022-08-22T16:55:24.594Z"
   },
   {
    "duration": 23,
    "start_time": "2022-08-22T16:59:15.012Z"
   },
   {
    "duration": 32,
    "start_time": "2022-08-22T16:59:50.969Z"
   },
   {
    "duration": 18,
    "start_time": "2022-08-22T17:06:03.442Z"
   },
   {
    "duration": 3,
    "start_time": "2022-08-22T17:06:15.366Z"
   },
   {
    "duration": 110,
    "start_time": "2022-08-22T17:06:19.229Z"
   },
   {
    "duration": 18,
    "start_time": "2022-08-22T17:07:07.357Z"
   },
   {
    "duration": 3,
    "start_time": "2022-08-22T17:07:32.419Z"
   },
   {
    "duration": 117,
    "start_time": "2022-08-22T17:07:33.217Z"
   },
   {
    "duration": 5,
    "start_time": "2022-08-22T17:07:36.431Z"
   },
   {
    "duration": 5,
    "start_time": "2022-08-22T17:07:57.420Z"
   },
   {
    "duration": 4,
    "start_time": "2022-08-22T17:10:11.406Z"
   },
   {
    "duration": 142,
    "start_time": "2022-08-22T17:10:11.888Z"
   },
   {
    "duration": 137,
    "start_time": "2022-08-22T17:10:51.609Z"
   },
   {
    "duration": 3,
    "start_time": "2022-08-22T17:14:49.390Z"
   },
   {
    "duration": 109,
    "start_time": "2022-08-22T17:14:50.734Z"
   },
   {
    "duration": 141,
    "start_time": "2022-08-22T17:15:20.577Z"
   },
   {
    "duration": 106,
    "start_time": "2022-08-22T17:15:57.600Z"
   },
   {
    "duration": 323,
    "start_time": "2022-08-22T17:16:07.075Z"
   },
   {
    "duration": 24,
    "start_time": "2022-08-22T17:20:53.411Z"
   },
   {
    "duration": 5,
    "start_time": "2022-08-22T17:21:10.758Z"
   },
   {
    "duration": 178,
    "start_time": "2022-08-22T17:22:26.843Z"
   },
   {
    "duration": 116,
    "start_time": "2022-08-22T17:24:56.968Z"
   },
   {
    "duration": 126,
    "start_time": "2022-08-22T19:33:24.195Z"
   },
   {
    "duration": 129,
    "start_time": "2022-08-22T19:34:21.487Z"
   },
   {
    "duration": 4,
    "start_time": "2022-08-22T19:36:23.333Z"
   },
   {
    "duration": 96,
    "start_time": "2022-08-22T19:36:30.162Z"
   },
   {
    "duration": 19,
    "start_time": "2022-08-22T19:39:13.848Z"
   },
   {
    "duration": 21,
    "start_time": "2022-08-22T19:39:27.485Z"
   },
   {
    "duration": 3,
    "start_time": "2022-08-22T19:39:43.319Z"
   },
   {
    "duration": 18,
    "start_time": "2022-08-22T19:39:45.775Z"
   },
   {
    "duration": 650,
    "start_time": "2022-08-22T19:40:11.189Z"
   },
   {
    "duration": 3,
    "start_time": "2022-08-22T19:40:18.172Z"
   },
   {
    "duration": 118,
    "start_time": "2022-08-22T19:40:44.891Z"
   },
   {
    "duration": 186,
    "start_time": "2022-08-22T19:41:12.991Z"
   },
   {
    "duration": 3,
    "start_time": "2022-08-22T19:41:53.084Z"
   },
   {
    "duration": 114,
    "start_time": "2022-08-22T19:41:54.291Z"
   },
   {
    "duration": 4,
    "start_time": "2022-08-22T19:42:21.828Z"
   },
   {
    "duration": 3,
    "start_time": "2022-08-22T19:42:22.910Z"
   },
   {
    "duration": 5,
    "start_time": "2022-08-22T19:43:06.089Z"
   },
   {
    "duration": 4,
    "start_time": "2022-08-22T19:43:43.767Z"
   },
   {
    "duration": 44,
    "start_time": "2022-08-22T19:44:29.664Z"
   },
   {
    "duration": 38,
    "start_time": "2022-08-22T19:44:48.968Z"
   },
   {
    "duration": 40,
    "start_time": "2022-08-22T19:45:01.753Z"
   },
   {
    "duration": 4,
    "start_time": "2022-08-22T19:45:38.270Z"
   },
   {
    "duration": 37,
    "start_time": "2022-08-22T19:47:03.287Z"
   },
   {
    "duration": 3,
    "start_time": "2022-08-22T19:48:19.102Z"
   },
   {
    "duration": 41,
    "start_time": "2022-08-22T19:48:20.269Z"
   },
   {
    "duration": 22,
    "start_time": "2022-08-22T19:51:24.960Z"
   },
   {
    "duration": 22,
    "start_time": "2022-08-22T19:53:30.177Z"
   },
   {
    "duration": 28,
    "start_time": "2022-08-22T19:53:41.918Z"
   },
   {
    "duration": 30,
    "start_time": "2022-08-22T19:54:13.320Z"
   },
   {
    "duration": 3,
    "start_time": "2022-08-22T19:54:23.136Z"
   },
   {
    "duration": 24,
    "start_time": "2022-08-22T19:54:23.964Z"
   },
   {
    "duration": 25,
    "start_time": "2022-08-22T19:55:19.438Z"
   },
   {
    "duration": 28,
    "start_time": "2022-08-22T19:56:10.633Z"
   },
   {
    "duration": 74,
    "start_time": "2022-08-22T19:57:25.567Z"
   },
   {
    "duration": 86,
    "start_time": "2022-08-22T19:57:34.993Z"
   },
   {
    "duration": 34,
    "start_time": "2022-08-22T19:57:48.569Z"
   },
   {
    "duration": 3,
    "start_time": "2022-08-22T20:03:09.229Z"
   },
   {
    "duration": 4,
    "start_time": "2022-08-22T20:03:11.661Z"
   },
   {
    "duration": 22860,
    "start_time": "2022-08-22T20:03:37.824Z"
   },
   {
    "duration": 1699,
    "start_time": "2022-08-22T20:04:18.682Z"
   },
   {
    "duration": 130,
    "start_time": "2022-08-22T20:04:20.383Z"
   },
   {
    "duration": 0,
    "start_time": "2022-08-22T20:04:20.516Z"
   },
   {
    "duration": 0,
    "start_time": "2022-08-22T20:04:20.517Z"
   },
   {
    "duration": 0,
    "start_time": "2022-08-22T20:04:20.519Z"
   },
   {
    "duration": 0,
    "start_time": "2022-08-22T20:04:20.519Z"
   },
   {
    "duration": 0,
    "start_time": "2022-08-22T20:04:20.520Z"
   },
   {
    "duration": 0,
    "start_time": "2022-08-22T20:04:20.522Z"
   },
   {
    "duration": 0,
    "start_time": "2022-08-22T20:04:20.523Z"
   },
   {
    "duration": 0,
    "start_time": "2022-08-22T20:04:20.524Z"
   },
   {
    "duration": 0,
    "start_time": "2022-08-22T20:04:20.525Z"
   },
   {
    "duration": 0,
    "start_time": "2022-08-22T20:04:20.526Z"
   },
   {
    "duration": 0,
    "start_time": "2022-08-22T20:04:20.527Z"
   },
   {
    "duration": 0,
    "start_time": "2022-08-22T20:04:20.528Z"
   },
   {
    "duration": 0,
    "start_time": "2022-08-22T20:04:20.529Z"
   },
   {
    "duration": 0,
    "start_time": "2022-08-22T20:04:20.530Z"
   },
   {
    "duration": 0,
    "start_time": "2022-08-22T20:04:20.531Z"
   },
   {
    "duration": 0,
    "start_time": "2022-08-22T20:04:20.533Z"
   },
   {
    "duration": 0,
    "start_time": "2022-08-22T20:04:20.534Z"
   },
   {
    "duration": 0,
    "start_time": "2022-08-22T20:04:20.535Z"
   },
   {
    "duration": 0,
    "start_time": "2022-08-22T20:04:20.569Z"
   },
   {
    "duration": 0,
    "start_time": "2022-08-22T20:04:20.570Z"
   },
   {
    "duration": 0,
    "start_time": "2022-08-22T20:04:20.570Z"
   },
   {
    "duration": 0,
    "start_time": "2022-08-22T20:04:20.571Z"
   },
   {
    "duration": 0,
    "start_time": "2022-08-22T20:04:20.572Z"
   },
   {
    "duration": 0,
    "start_time": "2022-08-22T20:04:20.574Z"
   },
   {
    "duration": 1713,
    "start_time": "2022-08-22T20:04:43.722Z"
   },
   {
    "duration": 3,
    "start_time": "2022-08-22T20:04:45.437Z"
   },
   {
    "duration": 793,
    "start_time": "2022-08-22T20:04:45.441Z"
   },
   {
    "duration": 11,
    "start_time": "2022-08-22T20:04:46.237Z"
   },
   {
    "duration": 41,
    "start_time": "2022-08-22T20:04:46.250Z"
   },
   {
    "duration": 11,
    "start_time": "2022-08-22T20:04:46.293Z"
   },
   {
    "duration": 272,
    "start_time": "2022-08-22T20:04:46.306Z"
   },
   {
    "duration": 5155,
    "start_time": "2022-08-22T20:04:46.580Z"
   },
   {
    "duration": 12,
    "start_time": "2022-08-22T20:04:51.736Z"
   },
   {
    "duration": 20,
    "start_time": "2022-08-22T20:04:51.751Z"
   },
   {
    "duration": 7,
    "start_time": "2022-08-22T20:04:51.772Z"
   },
   {
    "duration": 26,
    "start_time": "2022-08-22T20:04:51.781Z"
   },
   {
    "duration": 23,
    "start_time": "2022-08-22T20:04:51.809Z"
   },
   {
    "duration": 34,
    "start_time": "2022-08-22T20:04:51.834Z"
   },
   {
    "duration": 3,
    "start_time": "2022-08-22T20:04:51.870Z"
   },
   {
    "duration": 31815,
    "start_time": "2022-08-22T20:04:51.874Z"
   },
   {
    "duration": 6,
    "start_time": "2022-08-22T20:05:23.691Z"
   },
   {
    "duration": 18,
    "start_time": "2022-08-22T20:05:23.700Z"
   },
   {
    "duration": 0,
    "start_time": "2022-08-22T20:05:23.719Z"
   },
   {
    "duration": 0,
    "start_time": "2022-08-22T20:05:23.721Z"
   },
   {
    "duration": 0,
    "start_time": "2022-08-22T20:05:23.722Z"
   },
   {
    "duration": 0,
    "start_time": "2022-08-22T20:05:23.723Z"
   },
   {
    "duration": 0,
    "start_time": "2022-08-22T20:05:23.725Z"
   },
   {
    "duration": 0,
    "start_time": "2022-08-22T20:05:23.726Z"
   },
   {
    "duration": 0,
    "start_time": "2022-08-22T20:05:23.728Z"
   },
   {
    "duration": 0,
    "start_time": "2022-08-22T20:05:23.730Z"
   },
   {
    "duration": 3,
    "start_time": "2022-08-22T20:06:02.820Z"
   },
   {
    "duration": 320774,
    "start_time": "2022-08-22T20:06:06.242Z"
   },
   {
    "duration": 12,
    "start_time": "2022-08-22T20:21:42.341Z"
   },
   {
    "duration": 14,
    "start_time": "2022-08-22T20:24:44.744Z"
   },
   {
    "duration": 2258,
    "start_time": "2022-08-22T20:25:00.160Z"
   },
   {
    "duration": 397200,
    "start_time": "2022-08-22T20:26:14.279Z"
   },
   {
    "duration": 549,
    "start_time": "2022-08-22T20:37:32.482Z"
   },
   {
    "duration": 2041,
    "start_time": "2022-08-22T20:38:23.352Z"
   },
   {
    "duration": 291684,
    "start_time": "2022-08-22T20:39:37.927Z"
   },
   {
    "duration": 43,
    "start_time": "2022-08-22T20:44:31.289Z"
   },
   {
    "duration": 42,
    "start_time": "2022-08-22T20:44:41.570Z"
   },
   {
    "duration": 420383,
    "start_time": "2022-08-22T20:44:59.333Z"
   },
   {
    "duration": 4766,
    "start_time": "2022-08-22T20:56:52.372Z"
   },
   {
    "duration": 88609,
    "start_time": "2022-08-22T20:57:26.713Z"
   },
   {
    "duration": 182112,
    "start_time": "2022-08-22T20:59:27.159Z"
   },
   {
    "duration": 3021,
    "start_time": "2022-08-22T21:03:10.501Z"
   },
   {
    "duration": 1269,
    "start_time": "2022-08-22T21:04:01.502Z"
   },
   {
    "duration": 40070,
    "start_time": "2022-08-22T21:04:24.661Z"
   },
   {
    "duration": 611,
    "start_time": "2022-08-22T21:05:33.223Z"
   },
   {
    "duration": 22218,
    "start_time": "2022-08-22T21:05:57.137Z"
   },
   {
    "duration": 598,
    "start_time": "2022-08-22T21:06:33.605Z"
   },
   {
    "duration": 531,
    "start_time": "2022-08-22T21:06:44.080Z"
   },
   {
    "duration": 69,
    "start_time": "2022-08-22T21:06:59.104Z"
   },
   {
    "duration": 78,
    "start_time": "2022-08-22T21:07:07.074Z"
   },
   {
    "duration": 79,
    "start_time": "2022-08-22T21:07:14.892Z"
   },
   {
    "duration": 236,
    "start_time": "2022-08-22T21:07:24.321Z"
   },
   {
    "duration": 264,
    "start_time": "2022-08-22T21:07:48.465Z"
   },
   {
    "duration": 2499,
    "start_time": "2022-08-22T21:07:57.340Z"
   },
   {
    "duration": 3600,
    "start_time": "2022-08-22T21:08:12.655Z"
   },
   {
    "duration": 6369,
    "start_time": "2022-08-22T21:08:29.555Z"
   },
   {
    "duration": 7257,
    "start_time": "2022-08-22T21:08:50.937Z"
   },
   {
    "duration": 6610,
    "start_time": "2022-08-22T21:09:15.563Z"
   },
   {
    "duration": 426,
    "start_time": "2022-08-22T21:10:02.471Z"
   },
   {
    "duration": 400,
    "start_time": "2022-08-22T21:10:31.302Z"
   },
   {
    "duration": 338,
    "start_time": "2022-08-22T21:10:39.298Z"
   },
   {
    "duration": 269,
    "start_time": "2022-08-22T21:10:47.174Z"
   },
   {
    "duration": 262,
    "start_time": "2022-08-22T21:10:54.434Z"
   },
   {
    "duration": 290,
    "start_time": "2022-08-22T21:11:02.222Z"
   },
   {
    "duration": 292,
    "start_time": "2022-08-22T21:11:09.931Z"
   },
   {
    "duration": 305,
    "start_time": "2022-08-22T21:11:15.917Z"
   },
   {
    "duration": 309,
    "start_time": "2022-08-22T21:11:22.027Z"
   },
   {
    "duration": 306,
    "start_time": "2022-08-22T21:11:28.194Z"
   },
   {
    "duration": 353,
    "start_time": "2022-08-22T21:11:39.938Z"
   },
   {
    "duration": 351,
    "start_time": "2022-08-22T21:11:47.218Z"
   },
   {
    "duration": 357,
    "start_time": "2022-08-22T21:11:54.029Z"
   },
   {
    "duration": 398,
    "start_time": "2022-08-22T21:11:59.587Z"
   },
   {
    "duration": 411,
    "start_time": "2022-08-22T21:12:05.744Z"
   },
   {
    "duration": 419,
    "start_time": "2022-08-22T21:12:12.853Z"
   },
   {
    "duration": 459,
    "start_time": "2022-08-22T21:12:19.562Z"
   },
   {
    "duration": 330,
    "start_time": "2022-08-22T21:12:27.448Z"
   },
   {
    "duration": 317,
    "start_time": "2022-08-22T21:12:44.460Z"
   },
   {
    "duration": 313,
    "start_time": "2022-08-22T21:12:50.682Z"
   },
   {
    "duration": 317,
    "start_time": "2022-08-22T21:12:58.542Z"
   },
   {
    "duration": 348,
    "start_time": "2022-08-22T21:13:05.202Z"
   },
   {
    "duration": 312,
    "start_time": "2022-08-22T21:13:11.761Z"
   },
   {
    "duration": 317,
    "start_time": "2022-08-22T21:13:18.031Z"
   },
   {
    "duration": 323,
    "start_time": "2022-08-22T21:13:28.955Z"
   },
   {
    "duration": 316,
    "start_time": "2022-08-22T21:13:36.798Z"
   },
   {
    "duration": 330,
    "start_time": "2022-08-22T21:13:44.855Z"
   },
   {
    "duration": 323,
    "start_time": "2022-08-22T21:13:52.078Z"
   },
   {
    "duration": 3044,
    "start_time": "2022-08-22T21:13:59.338Z"
   },
   {
    "duration": 3062,
    "start_time": "2022-08-22T21:14:15.849Z"
   },
   {
    "duration": 341,
    "start_time": "2022-08-22T21:14:30.062Z"
   },
   {
    "duration": 609,
    "start_time": "2022-08-22T21:14:37.739Z"
   },
   {
    "duration": 368,
    "start_time": "2022-08-22T21:14:50.838Z"
   },
   {
    "duration": 397,
    "start_time": "2022-08-22T21:14:58.578Z"
   },
   {
    "duration": 374,
    "start_time": "2022-08-22T21:15:08.799Z"
   },
   {
    "duration": 312,
    "start_time": "2022-08-22T21:15:20.615Z"
   },
   {
    "duration": 83,
    "start_time": "2022-08-22T21:18:04.816Z"
   },
   {
    "duration": 4,
    "start_time": "2022-08-22T21:18:08.459Z"
   },
   {
    "duration": 17973,
    "start_time": "2022-08-22T21:18:09.512Z"
   },
   {
    "duration": 12,
    "start_time": "2022-08-22T21:20:39.459Z"
   },
   {
    "duration": 4,
    "start_time": "2022-08-22T21:20:47.973Z"
   },
   {
    "duration": 96,
    "start_time": "2022-08-22T21:22:10.531Z"
   },
   {
    "duration": 87,
    "start_time": "2022-08-22T21:23:15.318Z"
   },
   {
    "duration": 99,
    "start_time": "2022-08-22T21:29:43.872Z"
   },
   {
    "duration": 13,
    "start_time": "2022-08-22T21:31:07.061Z"
   },
   {
    "duration": 5,
    "start_time": "2022-08-22T21:33:33.872Z"
   },
   {
    "duration": 4,
    "start_time": "2022-08-22T21:34:00.007Z"
   },
   {
    "duration": 4,
    "start_time": "2022-08-22T21:34:05.568Z"
   },
   {
    "duration": 52939,
    "start_time": "2022-08-22T21:34:25.464Z"
   },
   {
    "duration": 34427,
    "start_time": "2022-08-22T21:35:36.849Z"
   },
   {
    "duration": 73,
    "start_time": "2022-08-22T21:37:14.521Z"
   },
   {
    "duration": 23365,
    "start_time": "2022-08-22T21:38:02.195Z"
   },
   {
    "duration": 70,
    "start_time": "2022-08-22T21:39:14.437Z"
   },
   {
    "duration": 3,
    "start_time": "2022-08-22T21:40:15.464Z"
   },
   {
    "duration": 70,
    "start_time": "2022-08-22T21:40:25.128Z"
   },
   {
    "duration": 90,
    "start_time": "2022-08-22T21:40:47.916Z"
   },
   {
    "duration": 4,
    "start_time": "2022-08-22T21:43:46.728Z"
   },
   {
    "duration": 4,
    "start_time": "2022-08-22T21:44:41.015Z"
   },
   {
    "duration": 14,
    "start_time": "2022-08-22T21:44:48.916Z"
   },
   {
    "duration": 4,
    "start_time": "2022-08-22T21:45:09.854Z"
   },
   {
    "duration": 88421,
    "start_time": "2022-08-22T21:45:13.860Z"
   },
   {
    "duration": 1867,
    "start_time": "2022-08-22T21:48:17.673Z"
   },
   {
    "duration": 38852,
    "start_time": "2022-08-22T21:49:00.326Z"
   },
   {
    "duration": 3089,
    "start_time": "2022-08-22T21:50:28.802Z"
   },
   {
    "duration": 24789,
    "start_time": "2022-08-22T21:51:15.331Z"
   },
   {
    "duration": 630,
    "start_time": "2022-08-22T21:52:00.553Z"
   },
   {
    "duration": 79,
    "start_time": "2022-08-22T21:52:54.733Z"
   },
   {
    "duration": 12,
    "start_time": "2022-08-22T21:53:17.401Z"
   },
   {
    "duration": 100008,
    "start_time": "2022-08-22T21:53:57.815Z"
   },
   {
    "duration": 5429,
    "start_time": "2022-08-22T21:55:58.883Z"
   },
   {
    "duration": 109524,
    "start_time": "2022-08-22T21:56:56.667Z"
   },
   {
    "duration": 6638,
    "start_time": "2022-08-22T21:59:14.799Z"
   },
   {
    "duration": 3377,
    "start_time": "2022-08-22T21:59:41.125Z"
   },
   {
    "duration": 3658,
    "start_time": "2022-08-22T22:00:00.182Z"
   },
   {
    "duration": 3920,
    "start_time": "2022-08-22T22:00:57.460Z"
   },
   {
    "duration": 5009,
    "start_time": "2022-08-22T22:01:16.047Z"
   },
   {
    "duration": 1273,
    "start_time": "2022-08-22T22:01:49.259Z"
   },
   {
    "duration": 1047,
    "start_time": "2022-08-22T22:02:28.132Z"
   },
   {
    "duration": 893,
    "start_time": "2022-08-22T22:02:37.273Z"
   },
   {
    "duration": 637,
    "start_time": "2022-08-22T22:02:46.005Z"
   },
   {
    "duration": 605,
    "start_time": "2022-08-22T22:02:55.996Z"
   },
   {
    "duration": 535,
    "start_time": "2022-08-22T22:03:06.291Z"
   },
   {
    "duration": 2395,
    "start_time": "2022-08-22T22:03:15.239Z"
   },
   {
    "duration": 2821,
    "start_time": "2022-08-22T22:03:25.015Z"
   },
   {
    "duration": 669,
    "start_time": "2022-08-22T22:06:34.111Z"
   },
   {
    "duration": 562,
    "start_time": "2022-08-22T22:09:40.405Z"
   },
   {
    "duration": 643,
    "start_time": "2022-08-22T22:09:48.417Z"
   },
   {
    "duration": 556,
    "start_time": "2022-08-22T22:09:56.309Z"
   },
   {
    "duration": 881,
    "start_time": "2022-08-22T22:10:02.376Z"
   },
   {
    "duration": 1149,
    "start_time": "2022-08-22T22:10:17.902Z"
   },
   {
    "duration": 687,
    "start_time": "2022-08-22T22:10:27.664Z"
   },
   {
    "duration": 698,
    "start_time": "2022-08-22T22:11:37.676Z"
   },
   {
    "duration": 1713,
    "start_time": "2022-08-22T22:12:40.855Z"
   },
   {
    "duration": 3,
    "start_time": "2022-08-22T22:12:42.570Z"
   },
   {
    "duration": 785,
    "start_time": "2022-08-22T22:12:42.574Z"
   },
   {
    "duration": 16,
    "start_time": "2022-08-22T22:12:43.361Z"
   },
   {
    "duration": 54,
    "start_time": "2022-08-22T22:12:43.379Z"
   },
   {
    "duration": 57,
    "start_time": "2022-08-22T22:12:43.435Z"
   },
   {
    "duration": 239,
    "start_time": "2022-08-22T22:12:43.493Z"
   },
   {
    "duration": 138336,
    "start_time": "2022-08-22T22:12:43.734Z"
   },
   {
    "duration": 13,
    "start_time": "2022-08-22T22:15:02.072Z"
   },
   {
    "duration": 11,
    "start_time": "2022-08-22T22:15:02.088Z"
   },
   {
    "duration": 28,
    "start_time": "2022-08-22T22:15:02.101Z"
   },
   {
    "duration": 817,
    "start_time": "2022-08-22T22:15:02.131Z"
   },
   {
    "duration": 4325,
    "start_time": "2022-08-22T22:15:02.950Z"
   },
   {
    "duration": 99,
    "start_time": "2022-08-22T22:15:07.278Z"
   },
   {
    "duration": 123456,
    "start_time": "2022-08-22T22:15:07.379Z"
   },
   {
    "duration": 3399,
    "start_time": "2022-08-22T22:17:10.837Z"
   },
   {
    "duration": 8,
    "start_time": "2022-08-22T22:17:14.238Z"
   },
   {
    "duration": 136,
    "start_time": "2022-08-22T22:17:14.248Z"
   },
   {
    "duration": 0,
    "start_time": "2022-08-22T22:17:14.386Z"
   },
   {
    "duration": 0,
    "start_time": "2022-08-22T22:17:14.387Z"
   },
   {
    "duration": 0,
    "start_time": "2022-08-22T22:17:14.388Z"
   },
   {
    "duration": 0,
    "start_time": "2022-08-22T22:17:14.389Z"
   },
   {
    "duration": 46704,
    "start_time": "2022-08-22T22:18:04.626Z"
   },
   {
    "duration": 216766,
    "start_time": "2022-08-22T22:19:04.908Z"
   },
   {
    "duration": 318018,
    "start_time": "2022-08-22T22:23:18.139Z"
   },
   {
    "duration": 319579,
    "start_time": "2022-08-22T22:28:56.530Z"
   },
   {
    "duration": 318401,
    "start_time": "2022-08-22T22:34:58.600Z"
   },
   {
    "duration": 21202,
    "start_time": "2022-08-22T22:40:28.837Z"
   },
   {
    "duration": 25158,
    "start_time": "2022-08-22T22:41:07.323Z"
   },
   {
    "duration": 25700,
    "start_time": "2022-08-22T22:41:44.757Z"
   },
   {
    "duration": 26135,
    "start_time": "2022-08-22T22:42:26.676Z"
   },
   {
    "duration": 24924,
    "start_time": "2022-08-22T22:43:17.200Z"
   },
   {
    "duration": 24290,
    "start_time": "2022-08-22T22:43:52.786Z"
   },
   {
    "duration": 24544,
    "start_time": "2022-08-22T22:44:27.470Z"
   },
   {
    "duration": 25479,
    "start_time": "2022-08-22T22:45:10.752Z"
   },
   {
    "duration": 181,
    "start_time": "2022-08-22T22:46:05.587Z"
   },
   {
    "duration": 179,
    "start_time": "2022-08-22T22:46:11.458Z"
   },
   {
    "duration": 323,
    "start_time": "2022-08-22T22:46:16.533Z"
   },
   {
    "duration": 1252,
    "start_time": "2022-08-22T22:46:23.513Z"
   },
   {
    "duration": 429,
    "start_time": "2022-08-22T22:46:36.094Z"
   },
   {
    "duration": 24993,
    "start_time": "2022-08-22T22:46:45.757Z"
   },
   {
    "duration": 94,
    "start_time": "2022-08-22T22:47:41.462Z"
   },
   {
    "duration": 25549,
    "start_time": "2022-08-22T22:47:58.990Z"
   },
   {
    "duration": 123,
    "start_time": "2022-08-22T22:48:34.917Z"
   },
   {
    "duration": 150,
    "start_time": "2022-08-22T22:50:12.279Z"
   },
   {
    "duration": 108,
    "start_time": "2022-08-22T22:51:04.976Z"
   },
   {
    "duration": 397,
    "start_time": "2022-08-22T22:51:14.021Z"
   },
   {
    "duration": 232,
    "start_time": "2022-08-22T22:51:41.403Z"
   },
   {
    "duration": 25051,
    "start_time": "2022-08-22T22:51:59.446Z"
   },
   {
    "duration": 52702,
    "start_time": "2022-08-22T22:53:04.924Z"
   },
   {
    "duration": 37247,
    "start_time": "2022-08-22T22:54:37.983Z"
   },
   {
    "duration": 45884,
    "start_time": "2022-08-22T22:55:57.667Z"
   },
   {
    "duration": 43949,
    "start_time": "2022-08-22T22:56:55.255Z"
   },
   {
    "duration": 36683,
    "start_time": "2022-08-22T22:57:47.420Z"
   },
   {
    "duration": 42759,
    "start_time": "2022-08-22T22:59:04.605Z"
   },
   {
    "duration": 47280,
    "start_time": "2022-08-22T23:00:01.302Z"
   },
   {
    "duration": 52186,
    "start_time": "2022-08-22T23:00:58.710Z"
   },
   {
    "duration": 56907,
    "start_time": "2022-08-22T23:02:05.728Z"
   },
   {
    "duration": 4789,
    "start_time": "2022-08-22T23:03:02.637Z"
   },
   {
    "duration": 54569,
    "start_time": "2022-08-22T23:03:18.113Z"
   },
   {
    "duration": 26486,
    "start_time": "2022-08-22T23:04:12.684Z"
   },
   {
    "duration": 145369,
    "start_time": "2022-08-22T23:04:39.172Z"
   },
   {
    "duration": 431926,
    "start_time": "2022-08-22T23:07:37.723Z"
   },
   {
    "duration": 72386,
    "start_time": "2022-08-22T23:15:25.505Z"
   },
   {
    "duration": 54519,
    "start_time": "2022-08-22T23:16:50.602Z"
   },
   {
    "duration": 25872,
    "start_time": "2022-08-22T23:17:45.123Z"
   },
   {
    "duration": 25367,
    "start_time": "2022-08-22T23:18:47.390Z"
   },
   {
    "duration": 3618,
    "start_time": "2022-08-22T23:19:32.113Z"
   },
   {
    "duration": 4612,
    "start_time": "2022-08-22T23:19:42.157Z"
   },
   {
    "duration": 5848,
    "start_time": "2022-08-22T23:19:50.956Z"
   },
   {
    "duration": 10737,
    "start_time": "2022-08-22T23:20:02.998Z"
   },
   {
    "duration": 57928,
    "start_time": "2022-08-22T23:20:26.294Z"
   },
   {
    "duration": 78103,
    "start_time": "2022-08-22T23:21:41.089Z"
   },
   {
    "duration": 42488,
    "start_time": "2022-08-22T23:23:14.273Z"
   },
   {
    "duration": 63170,
    "start_time": "2022-08-22T23:24:09.966Z"
   },
   {
    "duration": 78,
    "start_time": "2022-08-22T23:26:56.052Z"
   },
   {
    "duration": 75940,
    "start_time": "2022-08-22T23:27:11.617Z"
   },
   {
    "duration": 3,
    "start_time": "2022-08-22T23:29:04.728Z"
   },
   {
    "duration": 513,
    "start_time": "2022-08-22T23:29:17.399Z"
   },
   {
    "duration": 783,
    "start_time": "2022-08-22T23:29:29.689Z"
   },
   {
    "duration": 10,
    "start_time": "2022-08-22T23:29:30.559Z"
   },
   {
    "duration": 9,
    "start_time": "2022-08-22T23:29:37.191Z"
   },
   {
    "duration": 4679,
    "start_time": "2022-08-22T23:29:48.028Z"
   },
   {
    "duration": 1533,
    "start_time": "2022-08-22T23:29:58.565Z"
   },
   {
    "duration": 45,
    "start_time": "2022-08-22T23:30:02.603Z"
   },
   {
    "duration": 3,
    "start_time": "2022-08-22T23:30:34.896Z"
   },
   {
    "duration": 1948,
    "start_time": "2022-08-23T08:29:02.751Z"
   },
   {
    "duration": 3,
    "start_time": "2022-08-23T08:29:04.701Z"
   },
   {
    "duration": 3073,
    "start_time": "2022-08-23T08:29:04.706Z"
   },
   {
    "duration": 11,
    "start_time": "2022-08-23T08:29:07.782Z"
   },
   {
    "duration": 30,
    "start_time": "2022-08-23T08:29:07.794Z"
   },
   {
    "duration": 22,
    "start_time": "2022-08-23T08:29:07.825Z"
   },
   {
    "duration": 569,
    "start_time": "2022-08-23T08:29:07.849Z"
   },
   {
    "duration": 516101,
    "start_time": "2022-08-23T08:29:08.420Z"
   },
   {
    "duration": 12,
    "start_time": "2022-08-23T08:37:44.524Z"
   },
   {
    "duration": 210,
    "start_time": "2022-08-23T08:37:44.538Z"
   },
   {
    "duration": 33,
    "start_time": "2022-08-23T08:37:44.750Z"
   },
   {
    "duration": 3068,
    "start_time": "2022-08-23T08:37:44.785Z"
   },
   {
    "duration": 21017,
    "start_time": "2022-08-23T08:37:47.854Z"
   },
   {
    "duration": 121,
    "start_time": "2022-08-23T08:38:08.876Z"
   },
   {
    "duration": 374084,
    "start_time": "2022-08-23T08:38:08.999Z"
   },
   {
    "duration": 180293,
    "start_time": "2022-08-23T08:44:23.085Z"
   },
   {
    "duration": 142731,
    "start_time": "2022-08-23T08:47:46.900Z"
   },
   {
    "duration": 143778,
    "start_time": "2022-08-23T08:50:45.537Z"
   },
   {
    "duration": 1728,
    "start_time": "2022-08-23T08:56:30.380Z"
   },
   {
    "duration": 3,
    "start_time": "2022-08-23T08:56:32.110Z"
   },
   {
    "duration": 764,
    "start_time": "2022-08-23T08:56:32.114Z"
   },
   {
    "duration": 11,
    "start_time": "2022-08-23T08:56:32.880Z"
   },
   {
    "duration": 30,
    "start_time": "2022-08-23T08:56:32.893Z"
   },
   {
    "duration": 7,
    "start_time": "2022-08-23T08:56:32.925Z"
   },
   {
    "duration": 219,
    "start_time": "2022-08-23T08:56:32.934Z"
   },
   {
    "duration": 1181654,
    "start_time": "2022-08-23T08:56:33.155Z"
   },
   {
    "duration": 14,
    "start_time": "2022-08-23T09:16:14.811Z"
   },
   {
    "duration": 14,
    "start_time": "2022-08-23T09:16:14.829Z"
   },
   {
    "duration": 83,
    "start_time": "2022-08-23T09:16:14.845Z"
   },
   {
    "duration": 6897,
    "start_time": "2022-08-23T09:16:14.930Z"
   },
   {
    "duration": 41742,
    "start_time": "2022-08-23T09:16:21.829Z"
   },
   {
    "duration": 148,
    "start_time": "2022-08-23T09:17:03.573Z"
   },
   {
    "duration": 1375976,
    "start_time": "2022-08-23T09:17:03.723Z"
   },
   {
    "duration": 337943,
    "start_time": "2022-08-23T09:39:59.701Z"
   },
   {
    "duration": 217739,
    "start_time": "2022-08-23T10:17:03.041Z"
   },
   {
    "duration": 4,
    "start_time": "2022-08-23T10:21:00.823Z"
   },
   {
    "duration": 763,
    "start_time": "2022-08-23T10:21:44.834Z"
   },
   {
    "duration": 19,
    "start_time": "2022-08-23T10:22:01.214Z"
   },
   {
    "duration": 4604,
    "start_time": "2022-08-23T10:22:02.663Z"
   },
   {
    "duration": 1627,
    "start_time": "2022-08-23T10:22:10.415Z"
   },
   {
    "duration": 366,
    "start_time": "2022-08-23T10:22:13.972Z"
   },
   {
    "duration": 3,
    "start_time": "2022-08-23T10:22:25.958Z"
   },
   {
    "duration": 2331,
    "start_time": "2022-08-23T10:49:29.618Z"
   },
   {
    "duration": 0,
    "start_time": "2022-08-23T10:49:31.952Z"
   },
   {
    "duration": 0,
    "start_time": "2022-08-23T10:49:31.954Z"
   },
   {
    "duration": 0,
    "start_time": "2022-08-23T10:49:31.955Z"
   },
   {
    "duration": 0,
    "start_time": "2022-08-23T10:49:31.967Z"
   },
   {
    "duration": 0,
    "start_time": "2022-08-23T10:49:31.968Z"
   },
   {
    "duration": 0,
    "start_time": "2022-08-23T10:49:31.969Z"
   },
   {
    "duration": 0,
    "start_time": "2022-08-23T10:49:31.970Z"
   },
   {
    "duration": 0,
    "start_time": "2022-08-23T10:49:31.971Z"
   },
   {
    "duration": 0,
    "start_time": "2022-08-23T10:49:31.972Z"
   },
   {
    "duration": 0,
    "start_time": "2022-08-23T10:49:31.973Z"
   },
   {
    "duration": 0,
    "start_time": "2022-08-23T10:49:31.974Z"
   },
   {
    "duration": 0,
    "start_time": "2022-08-23T10:49:31.975Z"
   },
   {
    "duration": 0,
    "start_time": "2022-08-23T10:49:31.976Z"
   },
   {
    "duration": 0,
    "start_time": "2022-08-23T10:49:31.977Z"
   },
   {
    "duration": 0,
    "start_time": "2022-08-23T10:49:31.978Z"
   },
   {
    "duration": 0,
    "start_time": "2022-08-23T10:49:31.979Z"
   },
   {
    "duration": 0,
    "start_time": "2022-08-23T10:49:31.980Z"
   },
   {
    "duration": 0,
    "start_time": "2022-08-23T10:49:31.981Z"
   },
   {
    "duration": 0,
    "start_time": "2022-08-23T10:49:31.982Z"
   },
   {
    "duration": 0,
    "start_time": "2022-08-23T10:49:31.983Z"
   },
   {
    "duration": 0,
    "start_time": "2022-08-23T10:49:31.984Z"
   },
   {
    "duration": 14,
    "start_time": "2022-08-23T10:49:41.182Z"
   },
   {
    "duration": 14,
    "start_time": "2022-08-23T10:49:47.107Z"
   },
   {
    "duration": 12,
    "start_time": "2022-08-23T10:50:01.185Z"
   },
   {
    "duration": 14,
    "start_time": "2022-08-23T10:50:03.290Z"
   },
   {
    "duration": 13,
    "start_time": "2022-08-23T10:50:20.382Z"
   },
   {
    "duration": 4,
    "start_time": "2022-08-23T10:50:34.909Z"
   },
   {
    "duration": 13,
    "start_time": "2022-08-23T10:51:24.636Z"
   },
   {
    "duration": 1783,
    "start_time": "2022-08-23T10:57:15.285Z"
   },
   {
    "duration": 756,
    "start_time": "2022-08-23T10:57:17.070Z"
   },
   {
    "duration": 10,
    "start_time": "2022-08-23T10:57:17.828Z"
   },
   {
    "duration": 38,
    "start_time": "2022-08-23T10:57:17.840Z"
   },
   {
    "duration": 3,
    "start_time": "2022-08-23T10:57:17.880Z"
   },
   {
    "duration": 201,
    "start_time": "2022-08-23T10:57:17.885Z"
   },
   {
    "duration": 1166964,
    "start_time": "2022-08-23T10:57:18.088Z"
   },
   {
    "duration": 16,
    "start_time": "2022-08-23T11:16:45.054Z"
   },
   {
    "duration": 11,
    "start_time": "2022-08-23T11:16:45.072Z"
   },
   {
    "duration": 63,
    "start_time": "2022-08-23T11:16:45.086Z"
   },
   {
    "duration": 6603,
    "start_time": "2022-08-23T11:16:45.151Z"
   },
   {
    "duration": 39524,
    "start_time": "2022-08-23T11:16:51.756Z"
   },
   {
    "duration": 206,
    "start_time": "2022-08-23T11:17:31.282Z"
   },
   {
    "duration": 1312465,
    "start_time": "2022-08-23T11:17:31.490Z"
   },
   {
    "duration": 318742,
    "start_time": "2022-08-23T11:39:23.957Z"
   },
   {
    "duration": 124,
    "start_time": "2022-08-23T12:08:28.417Z"
   },
   {
    "duration": 167,
    "start_time": "2022-08-23T12:12:53.730Z"
   }
  ],
  "kernelspec": {
   "display_name": "Python 3 (ipykernel)",
   "language": "python",
   "name": "python3"
  },
  "language_info": {
   "codemirror_mode": {
    "name": "ipython",
    "version": 3
   },
   "file_extension": ".py",
   "mimetype": "text/x-python",
   "name": "python",
   "nbconvert_exporter": "python",
   "pygments_lexer": "ipython3",
   "version": "3.9.12"
  },
  "toc": {
   "base_numbering": 1,
   "nav_menu": {},
   "number_sections": true,
   "sideBar": true,
   "skip_h1_title": true,
   "title_cell": "Содержание",
   "title_sidebar": "Contents",
   "toc_cell": true,
   "toc_position": {
    "height": "calc(100% - 180px)",
    "left": "10px",
    "top": "150px",
    "width": "302.391px"
   },
   "toc_section_display": true,
   "toc_window_display": false
  }
 },
 "nbformat": 4,
 "nbformat_minor": 2
}
