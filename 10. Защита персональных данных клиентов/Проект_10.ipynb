{
 "cells": [
  {
   "cell_type": "markdown",
   "metadata": {
    "toc": true
   },
   "source": [
    "<h1>Содержание<span class=\"tocSkip\"></span></h1>\n",
    "<div class=\"toc\"><ul class=\"toc-item\"><li><span><a href=\"#Загрузка-данных\" data-toc-modified-id=\"Загрузка-данных-1\"><span class=\"toc-item-num\">1&nbsp;&nbsp;</span>Загрузка данных</a></span></li><li><span><a href=\"#Умножение-матриц\" data-toc-modified-id=\"Умножение-матриц-2\"><span class=\"toc-item-num\">2&nbsp;&nbsp;</span>Умножение матриц</a></span></li><li><span><a href=\"#Алгоритм-преобразования\" data-toc-modified-id=\"Алгоритм-преобразования-3\"><span class=\"toc-item-num\">3&nbsp;&nbsp;</span>Алгоритм преобразования</a></span></li><li><span><a href=\"#Проверка-алгоритма\" data-toc-modified-id=\"Проверка-алгоритма-4\"><span class=\"toc-item-num\">4&nbsp;&nbsp;</span>Проверка алгоритма</a></span></li><li><span><a href=\"#Чек-лист-проверки\" data-toc-modified-id=\"Чек-лист-проверки-5\"><span class=\"toc-item-num\">5&nbsp;&nbsp;</span>Чек-лист проверки</a></span></li></ul></div>"
   ]
  },
  {
   "cell_type": "markdown",
   "metadata": {},
   "source": [
    "# Защита персональных данных клиентов"
   ]
  },
  {
   "cell_type": "markdown",
   "metadata": {},
   "source": [
    "Вам нужно защитить данные клиентов страховой компании «Хоть потоп». Разработайте такой метод преобразования данных, чтобы по ним было сложно восстановить персональную информацию. Обоснуйте корректность его работы.\n",
    "\n",
    "Нужно защитить данные, чтобы при преобразовании качество моделей машинного обучения не ухудшилось. Подбирать наилучшую модель не требуется."
   ]
  },
  {
   "cell_type": "markdown",
   "metadata": {},
   "source": [
    "## Загрузка данных"
   ]
  },
  {
   "cell_type": "code",
   "execution_count": 1,
   "metadata": {},
   "outputs": [],
   "source": [
    "import pandas as pd\n",
    "import numpy as np\n",
    "import seaborn as sns\n",
    "import matplotlib.pyplot as plt\n",
    "from sklearn.linear_model import LinearRegression\n",
    "from sklearn.metrics import r2_score"
   ]
  },
  {
   "cell_type": "code",
   "execution_count": 2,
   "metadata": {},
   "outputs": [
    {
     "data": {
      "text/html": [
       "<div>\n",
       "<style scoped>\n",
       "    .dataframe tbody tr th:only-of-type {\n",
       "        vertical-align: middle;\n",
       "    }\n",
       "\n",
       "    .dataframe tbody tr th {\n",
       "        vertical-align: top;\n",
       "    }\n",
       "\n",
       "    .dataframe thead th {\n",
       "        text-align: right;\n",
       "    }\n",
       "</style>\n",
       "<table border=\"1\" class=\"dataframe\">\n",
       "  <thead>\n",
       "    <tr style=\"text-align: right;\">\n",
       "      <th></th>\n",
       "      <th>Пол</th>\n",
       "      <th>Возраст</th>\n",
       "      <th>Зарплата</th>\n",
       "      <th>Члены семьи</th>\n",
       "      <th>Страховые выплаты</th>\n",
       "    </tr>\n",
       "  </thead>\n",
       "  <tbody>\n",
       "    <tr>\n",
       "      <th>0</th>\n",
       "      <td>1</td>\n",
       "      <td>41.0</td>\n",
       "      <td>49600.0</td>\n",
       "      <td>1</td>\n",
       "      <td>0</td>\n",
       "    </tr>\n",
       "    <tr>\n",
       "      <th>1</th>\n",
       "      <td>0</td>\n",
       "      <td>46.0</td>\n",
       "      <td>38000.0</td>\n",
       "      <td>1</td>\n",
       "      <td>1</td>\n",
       "    </tr>\n",
       "    <tr>\n",
       "      <th>2</th>\n",
       "      <td>0</td>\n",
       "      <td>29.0</td>\n",
       "      <td>21000.0</td>\n",
       "      <td>0</td>\n",
       "      <td>0</td>\n",
       "    </tr>\n",
       "    <tr>\n",
       "      <th>3</th>\n",
       "      <td>0</td>\n",
       "      <td>21.0</td>\n",
       "      <td>41700.0</td>\n",
       "      <td>2</td>\n",
       "      <td>0</td>\n",
       "    </tr>\n",
       "    <tr>\n",
       "      <th>4</th>\n",
       "      <td>1</td>\n",
       "      <td>28.0</td>\n",
       "      <td>26100.0</td>\n",
       "      <td>0</td>\n",
       "      <td>0</td>\n",
       "    </tr>\n",
       "  </tbody>\n",
       "</table>\n",
       "</div>"
      ],
      "text/plain": [
       "   Пол  Возраст  Зарплата  Члены семьи  Страховые выплаты\n",
       "0    1     41.0   49600.0            1                  0\n",
       "1    0     46.0   38000.0            1                  1\n",
       "2    0     29.0   21000.0            0                  0\n",
       "3    0     21.0   41700.0            2                  0\n",
       "4    1     28.0   26100.0            0                  0"
      ]
     },
     "execution_count": 2,
     "metadata": {},
     "output_type": "execute_result"
    }
   ],
   "source": [
    "df = pd.read_csv('/datasets/insurance.csv')\n",
    "df.head()"
   ]
  },
  {
   "cell_type": "code",
   "execution_count": 3,
   "metadata": {},
   "outputs": [
    {
     "name": "stdout",
     "output_type": "stream",
     "text": [
      "<class 'pandas.core.frame.DataFrame'>\n",
      "RangeIndex: 5000 entries, 0 to 4999\n",
      "Data columns (total 5 columns):\n",
      " #   Column             Non-Null Count  Dtype  \n",
      "---  ------             --------------  -----  \n",
      " 0   Пол                5000 non-null   int64  \n",
      " 1   Возраст            5000 non-null   float64\n",
      " 2   Зарплата           5000 non-null   float64\n",
      " 3   Члены семьи        5000 non-null   int64  \n",
      " 4   Страховые выплаты  5000 non-null   int64  \n",
      "dtypes: float64(2), int64(3)\n",
      "memory usage: 195.4 KB\n"
     ]
    }
   ],
   "source": [
    "df.info()"
   ]
  },
  {
   "cell_type": "markdown",
   "metadata": {},
   "source": [
    "Пропуски в данных не обнаружены. "
   ]
  },
  {
   "cell_type": "code",
   "execution_count": 4,
   "metadata": {},
   "outputs": [
    {
     "data": {
      "text/plain": [
       "153"
      ]
     },
     "execution_count": 4,
     "metadata": {},
     "output_type": "execute_result"
    }
   ],
   "source": [
    "df.duplicated().sum()# поиск дубликатов"
   ]
  },
  {
   "cell_type": "code",
   "execution_count": 5,
   "metadata": {
    "scrolled": false
   },
   "outputs": [
    {
     "data": {
      "text/html": [
       "<div>\n",
       "<style scoped>\n",
       "    .dataframe tbody tr th:only-of-type {\n",
       "        vertical-align: middle;\n",
       "    }\n",
       "\n",
       "    .dataframe tbody tr th {\n",
       "        vertical-align: top;\n",
       "    }\n",
       "\n",
       "    .dataframe thead th {\n",
       "        text-align: right;\n",
       "    }\n",
       "</style>\n",
       "<table border=\"1\" class=\"dataframe\">\n",
       "  <thead>\n",
       "    <tr style=\"text-align: right;\">\n",
       "      <th></th>\n",
       "      <th>Пол</th>\n",
       "      <th>Возраст</th>\n",
       "      <th>Зарплата</th>\n",
       "      <th>Члены семьи</th>\n",
       "      <th>Страховые выплаты</th>\n",
       "    </tr>\n",
       "  </thead>\n",
       "  <tbody>\n",
       "    <tr>\n",
       "      <th>2955</th>\n",
       "      <td>1</td>\n",
       "      <td>32.0</td>\n",
       "      <td>21600.0</td>\n",
       "      <td>0</td>\n",
       "      <td>0</td>\n",
       "    </tr>\n",
       "    <tr>\n",
       "      <th>2988</th>\n",
       "      <td>1</td>\n",
       "      <td>32.0</td>\n",
       "      <td>21600.0</td>\n",
       "      <td>0</td>\n",
       "      <td>0</td>\n",
       "    </tr>\n",
       "    <tr>\n",
       "      <th>361</th>\n",
       "      <td>0</td>\n",
       "      <td>50.0</td>\n",
       "      <td>24700.0</td>\n",
       "      <td>1</td>\n",
       "      <td>2</td>\n",
       "    </tr>\n",
       "    <tr>\n",
       "      <th>2869</th>\n",
       "      <td>0</td>\n",
       "      <td>50.0</td>\n",
       "      <td>24700.0</td>\n",
       "      <td>1</td>\n",
       "      <td>2</td>\n",
       "    </tr>\n",
       "    <tr>\n",
       "      <th>333</th>\n",
       "      <td>0</td>\n",
       "      <td>32.0</td>\n",
       "      <td>25600.0</td>\n",
       "      <td>1</td>\n",
       "      <td>0</td>\n",
       "    </tr>\n",
       "    <tr>\n",
       "      <th>...</th>\n",
       "      <td>...</td>\n",
       "      <td>...</td>\n",
       "      <td>...</td>\n",
       "      <td>...</td>\n",
       "      <td>...</td>\n",
       "    </tr>\n",
       "    <tr>\n",
       "      <th>2465</th>\n",
       "      <td>0</td>\n",
       "      <td>40.0</td>\n",
       "      <td>54000.0</td>\n",
       "      <td>2</td>\n",
       "      <td>0</td>\n",
       "    </tr>\n",
       "    <tr>\n",
       "      <th>1042</th>\n",
       "      <td>0</td>\n",
       "      <td>33.0</td>\n",
       "      <td>59300.0</td>\n",
       "      <td>2</td>\n",
       "      <td>0</td>\n",
       "    </tr>\n",
       "    <tr>\n",
       "      <th>2231</th>\n",
       "      <td>0</td>\n",
       "      <td>33.0</td>\n",
       "      <td>59300.0</td>\n",
       "      <td>2</td>\n",
       "      <td>0</td>\n",
       "    </tr>\n",
       "    <tr>\n",
       "      <th>1418</th>\n",
       "      <td>1</td>\n",
       "      <td>28.0</td>\n",
       "      <td>59900.0</td>\n",
       "      <td>0</td>\n",
       "      <td>0</td>\n",
       "    </tr>\n",
       "    <tr>\n",
       "      <th>1742</th>\n",
       "      <td>1</td>\n",
       "      <td>28.0</td>\n",
       "      <td>59900.0</td>\n",
       "      <td>0</td>\n",
       "      <td>0</td>\n",
       "    </tr>\n",
       "  </tbody>\n",
       "</table>\n",
       "<p>300 rows × 5 columns</p>\n",
       "</div>"
      ],
      "text/plain": [
       "      Пол  Возраст  Зарплата  Члены семьи  Страховые выплаты\n",
       "2955    1     32.0   21600.0            0                  0\n",
       "2988    1     32.0   21600.0            0                  0\n",
       "361     0     50.0   24700.0            1                  2\n",
       "2869    0     50.0   24700.0            1                  2\n",
       "333     0     32.0   25600.0            1                  0\n",
       "...   ...      ...       ...          ...                ...\n",
       "2465    0     40.0   54000.0            2                  0\n",
       "1042    0     33.0   59300.0            2                  0\n",
       "2231    0     33.0   59300.0            2                  0\n",
       "1418    1     28.0   59900.0            0                  0\n",
       "1742    1     28.0   59900.0            0                  0\n",
       "\n",
       "[300 rows x 5 columns]"
      ]
     },
     "execution_count": 5,
     "metadata": {},
     "output_type": "execute_result"
    }
   ],
   "source": [
    "df.loc[df.duplicated(keep=False)].sort_values('Зарплата') "
   ]
  },
  {
   "cell_type": "code",
   "execution_count": 6,
   "metadata": {},
   "outputs": [],
   "source": [
    "df = df.drop_duplicates() #удаление дубликатов"
   ]
  },
  {
   "cell_type": "code",
   "execution_count": 7,
   "metadata": {
    "scrolled": true
   },
   "outputs": [
    {
     "data": {
      "text/html": [
       "<div>\n",
       "<style scoped>\n",
       "    .dataframe tbody tr th:only-of-type {\n",
       "        vertical-align: middle;\n",
       "    }\n",
       "\n",
       "    .dataframe tbody tr th {\n",
       "        vertical-align: top;\n",
       "    }\n",
       "\n",
       "    .dataframe thead th {\n",
       "        text-align: right;\n",
       "    }\n",
       "</style>\n",
       "<table border=\"1\" class=\"dataframe\">\n",
       "  <thead>\n",
       "    <tr style=\"text-align: right;\">\n",
       "      <th></th>\n",
       "      <th>Пол</th>\n",
       "      <th>Возраст</th>\n",
       "      <th>Зарплата</th>\n",
       "      <th>Члены семьи</th>\n",
       "      <th>Страховые выплаты</th>\n",
       "    </tr>\n",
       "  </thead>\n",
       "  <tbody>\n",
       "    <tr>\n",
       "      <th>count</th>\n",
       "      <td>4847.000000</td>\n",
       "      <td>4847.000000</td>\n",
       "      <td>4847.000000</td>\n",
       "      <td>4847.000000</td>\n",
       "      <td>4847.000000</td>\n",
       "    </tr>\n",
       "    <tr>\n",
       "      <th>mean</th>\n",
       "      <td>0.498453</td>\n",
       "      <td>31.023932</td>\n",
       "      <td>39895.811842</td>\n",
       "      <td>1.203425</td>\n",
       "      <td>0.152259</td>\n",
       "    </tr>\n",
       "    <tr>\n",
       "      <th>std</th>\n",
       "      <td>0.500049</td>\n",
       "      <td>8.487995</td>\n",
       "      <td>9972.953985</td>\n",
       "      <td>1.098664</td>\n",
       "      <td>0.468934</td>\n",
       "    </tr>\n",
       "    <tr>\n",
       "      <th>min</th>\n",
       "      <td>0.000000</td>\n",
       "      <td>18.000000</td>\n",
       "      <td>5300.000000</td>\n",
       "      <td>0.000000</td>\n",
       "      <td>0.000000</td>\n",
       "    </tr>\n",
       "    <tr>\n",
       "      <th>25%</th>\n",
       "      <td>0.000000</td>\n",
       "      <td>24.000000</td>\n",
       "      <td>33200.000000</td>\n",
       "      <td>0.000000</td>\n",
       "      <td>0.000000</td>\n",
       "    </tr>\n",
       "    <tr>\n",
       "      <th>50%</th>\n",
       "      <td>0.000000</td>\n",
       "      <td>30.000000</td>\n",
       "      <td>40200.000000</td>\n",
       "      <td>1.000000</td>\n",
       "      <td>0.000000</td>\n",
       "    </tr>\n",
       "    <tr>\n",
       "      <th>75%</th>\n",
       "      <td>1.000000</td>\n",
       "      <td>37.000000</td>\n",
       "      <td>46600.000000</td>\n",
       "      <td>2.000000</td>\n",
       "      <td>0.000000</td>\n",
       "    </tr>\n",
       "    <tr>\n",
       "      <th>max</th>\n",
       "      <td>1.000000</td>\n",
       "      <td>65.000000</td>\n",
       "      <td>79000.000000</td>\n",
       "      <td>6.000000</td>\n",
       "      <td>5.000000</td>\n",
       "    </tr>\n",
       "  </tbody>\n",
       "</table>\n",
       "</div>"
      ],
      "text/plain": [
       "               Пол      Возраст      Зарплата  Члены семьи  Страховые выплаты\n",
       "count  4847.000000  4847.000000   4847.000000  4847.000000        4847.000000\n",
       "mean      0.498453    31.023932  39895.811842     1.203425           0.152259\n",
       "std       0.500049     8.487995   9972.953985     1.098664           0.468934\n",
       "min       0.000000    18.000000   5300.000000     0.000000           0.000000\n",
       "25%       0.000000    24.000000  33200.000000     0.000000           0.000000\n",
       "50%       0.000000    30.000000  40200.000000     1.000000           0.000000\n",
       "75%       1.000000    37.000000  46600.000000     2.000000           0.000000\n",
       "max       1.000000    65.000000  79000.000000     6.000000           5.000000"
      ]
     },
     "execution_count": 7,
     "metadata": {},
     "output_type": "execute_result"
    }
   ],
   "source": [
    "df.describe()"
   ]
  },
  {
   "cell_type": "code",
   "execution_count": 8,
   "metadata": {},
   "outputs": [],
   "source": [
    "def without_hue(ax, feature): # добавим функция для подсчета процентов\n",
    "    total = len(feature)\n",
    "    for p in ax.patches:\n",
    "        percentage = '{:.2f}%'.format(100 * p.get_height()/total)\n",
    "        x = p.get_x() + p.get_width() / 2 - 0.05\n",
    "        y = p.get_y() + p.get_height()\n",
    "        ax.annotate(percentage, (x, y), size = 12)"
   ]
  },
  {
   "cell_type": "code",
   "execution_count": 9,
   "metadata": {
    "scrolled": true
   },
   "outputs": [
    {
     "data": {
      "image/png": "[encoded data removed]",
      "text/plain": [
       "<Figure size 504x360 with 1 Axes>"
      ]
     },
     "metadata": {
      "needs_background": "light"
     },
     "output_type": "display_data"
    }
   ],
   "source": [
    "plt.figure(figsize = (7,5))\n",
    "ax = sns.countplot(x = df['Пол'])\n",
    "plt.xticks(size=12)\n",
    "plt.xlabel('Пол',size=12)\n",
    "plt.yticks(size=12)\n",
    "plt.ylabel('Количество',size=12)\n",
    "plt.title('Распределение клиентов по полу')\n",
    "without_hue(ax,df['Пол'])"
   ]
  },
  {
   "cell_type": "code",
   "execution_count": 10,
   "metadata": {
    "scrolled": true
   },
   "outputs": [
    {
     "data": {
      "image/png": "[encoded data removed]",
      "text/plain": [
       "<Figure size 432x288 with 1 Axes>"
      ]
     },
     "metadata": {
      "needs_background": "light"
     },
     "output_type": "display_data"
    }
   ],
   "source": [
    "df['Возраст'].hist(grid=True, bins=40);\n"
   ]
  },
  {
   "cell_type": "code",
   "execution_count": 11,
   "metadata": {
    "scrolled": true
   },
   "outputs": [
    {
     "data": {
      "image/png": "[encoded data removed]",
      "text/plain": [
       "<Figure size 432x288 with 1 Axes>"
      ]
     },
     "metadata": {
      "needs_background": "light"
     },
     "output_type": "display_data"
    }
   ],
   "source": [
    "df['Зарплата'].hist(grid=True, bins=40);"
   ]
  },
  {
   "cell_type": "code",
   "execution_count": 12,
   "metadata": {
    "scrolled": false
   },
   "outputs": [
    {
     "data": {
      "image/png": "[encoded data removed]",
      "text/plain": [
       "<Figure size 504x360 with 1 Axes>"
      ]
     },
     "metadata": {
      "needs_background": "light"
     },
     "output_type": "display_data"
    }
   ],
   "source": [
    "plt.figure(figsize = (7,5))\n",
    "ax = sns.countplot(x = df['Члены семьи'])\n",
    "plt.xticks(size=12)\n",
    "plt.xlabel('Количество детей',size=12)\n",
    "plt.yticks(size=12)\n",
    "plt.ylabel('Количество',size=12)\n",
    "plt.title('Распределение клиентов по количеству детей')\n",
    "without_hue(ax,df['Члены семьи'])"
   ]
  },
  {
   "cell_type": "code",
   "execution_count": 13,
   "metadata": {},
   "outputs": [
    {
     "data": {
      "image/png": "[encoded data removed]",
      "text/plain": [
       "<Figure size 504x360 with 1 Axes>"
      ]
     },
     "metadata": {
      "needs_background": "light"
     },
     "output_type": "display_data"
    }
   ],
   "source": [
    "plt.figure(figsize = (7,5))\n",
    "ax = sns.countplot(x = df['Страховые выплаты'])\n",
    "plt.xticks(size=12)\n",
    "plt.xlabel('Страховые выплаты',size=12)\n",
    "plt.yticks(size=12)\n",
    "plt.ylabel('Количество',size=12)\n",
    "plt.title('Распределение клиентов по количеству запрашиваемых выплат')\n",
    "without_hue(ax,df['Страховые выплаты'])"
   ]
  },
  {
   "cell_type": "code",
   "execution_count": 14,
   "metadata": {},
   "outputs": [
    {
     "data": {
      "image/png": "[encoded data removed]",
      "text/plain": [
       "<Figure size 432x288 with 2 Axes>"
      ]
     },
     "metadata": {
      "needs_background": "light"
     },
     "output_type": "display_data"
    }
   ],
   "source": [
    "sns.heatmap(df.corr(), annot=True);"
   ]
  },
  {
   "cell_type": "markdown",
   "metadata": {},
   "source": [
    "Умеренная положительная корреляция между страховыми выплатами и возрастом.В остальных случаях никакой корреляции."
   ]
  },
  {
   "cell_type": "markdown",
   "metadata": {},
   "source": [
    "В данной выборке соотношение мужчин и женщин практически одинаковое -  49,85/50,15  \n",
    "Средний возраст клиентов 31 год, 75% имеют возраст 37 год  \n",
    "Медианная зарплата ~39900р  \n",
    "Распределение клиентов по количеству детей:\n",
    " - 30% клиентов не имеют детей\n",
    " - 36% имеют 1 ребенка\n",
    " - 21% имеют 2 ребенка\n",
    " - 9% имеют 3 детей\n",
    " - имеют больше 3 детей < 4%  \n",
    " \n",
    "В 88% клиенты не запрашивают выплаты.  \n",
    "Существует умеренная положительная корреляция между страховыми выплатами и возрастом.В остальных случаях никакой корреляции."
   ]
  },
  {
   "cell_type": "markdown",
   "metadata": {},
   "source": [
    "## Умножение матриц"
   ]
  },
  {
   "cell_type": "markdown",
   "metadata": {},
   "source": [
    "В этом задании вы можете записывать формулы в *Jupyter Notebook.*\n",
    "\n",
    "Чтобы записать формулу внутри текста, окружите её символами доллара \\\\$; если снаружи —  двойными символами \\\\$\\\\$. Эти формулы записываются на языке вёрстки *LaTeX.* \n",
    "\n",
    "Для примера мы записали формулы линейной регрессии. Можете их скопировать и отредактировать, чтобы решить задачу.\n",
    "\n",
    "Работать в *LaTeX* необязательно."
   ]
  },
  {
   "cell_type": "markdown",
   "metadata": {},
   "source": [
    "Обозначения:\n",
    "\n",
    "- $X$ — матрица признаков (нулевой столбец состоит из единиц)\n",
    "\n",
    "- $y$ — вектор целевого признака\n",
    "\n",
    "- $P$ — матрица, на которую умножаются признаки\n",
    "\n",
    "- $w$ — вектор весов линейной регрессии (нулевой элемент равен сдвигу)"
   ]
  },
  {
   "cell_type": "markdown",
   "metadata": {},
   "source": [
    "Предсказания:\n",
    "\n",
    "$$\n",
    "a = Xw\n",
    "$$\n",
    "\n",
    "Задача обучения:\n",
    "\n",
    "$$\n",
    "w = \\arg\\min_w MSE(Xw, y)\n",
    "$$\n",
    "\n",
    "Формула обучения:\n",
    "\n",
    "$$\n",
    "w = (X^T X)^{-1} X^T y\n",
    "$$"
   ]
  },
  {
   "cell_type": "markdown",
   "metadata": {},
   "source": [
    "**Ответ:** Не изменится\n",
    "\n",
    "**Обоснование:** Так как P обратимая матрица,используя свойства обратимых матриц  "
   ]
  },
  {
   "cell_type": "markdown",
   "metadata": {},
   "source": [
    "$$\n",
    "w* = ((XP)^T XP)^{-1} (XP)^T y\n",
    "$$\n",
    "\n",
    "$$\n",
    "w* = (P^TX^T XP)^{-1} P^T X^T y\n",
    "$$\n",
    "\n",
    "$$\n",
    "w* = P^{-1} (X^T X)^{-1} (P^T)^{-1} P^T X^T y\n",
    "$$\n",
    "\n",
    "$$\n",
    "(P^T)^{-1}P^T=E\n",
    "$$\n",
    "\n",
    "$$\n",
    "w* = (P)^{-1}(X^T X)^{-1} X^T y\n",
    "$$\n",
    "\n",
    "$$\n",
    "w* = (P)^{-1}w\n",
    "$$\n",
    "\n",
    "$$\n",
    "a* = XPw*\n",
    "$$\n",
    "\n",
    "$$\n",
    "a* = XP (P)^{-1}w\n",
    "$$\n",
    "\n",
    "$$\n",
    "P (P)^{-1} = E\n",
    "$$\n",
    "\n",
    "$$\n",
    "a* = Xw\n",
    "$$\n",
    "\n",
    "$$\n",
    "a* = a\n",
    "$$"
   ]
  },
  {
   "cell_type": "markdown",
   "metadata": {},
   "source": [
    "Если умножать матрицу на обратимую матрицу, предсказания линейной регрессии для матрицы и преобразованной матрицы  не будут значительно отличаться."
   ]
  },
  {
   "cell_type": "markdown",
   "metadata": {},
   "source": [
    "## Алгоритм преобразования"
   ]
  },
  {
   "cell_type": "markdown",
   "metadata": {},
   "source": [
    "**Алгоритм**\n",
    "1. Создадим рандомно матрицу matrix\n",
    "2. Проверим на обратимость,если матрица необратима,она нам не подходит.\n",
    "3. Создадим исходную матрицу'features' из признаков датафрейма,без целевого признака.\n",
    "4. Исходную матрицу 'features' умножим на обратимую матрицу 'matrix_invert',получим 'features_new'.\n",
    "5. Посчитаем R2 на исходной матрице 'features'.\n",
    "6. Посчитаем R2 на 'features_new'."
   ]
  },
  {
   "cell_type": "code",
   "execution_count": 15,
   "metadata": {},
   "outputs": [],
   "source": [
    "class LinearRegression:\n",
    "    def fit(self, features_train, target_train):\n",
    "        X = np.concatenate((np.ones((features_train.shape[0], 1)), features_train), axis=1)\n",
    "        y = target_train\n",
    "        w = np.linalg.inv(X.T.dot(X)).dot(X.T).dot(y)\n",
    "        self.w = w[1:]\n",
    "        self.w0 = w[0]\n",
    "\n",
    "    def predict(self, features_test):\n",
    "        return features_test.dot(self.w) + self.w0\n"
   ]
  },
  {
   "cell_type": "markdown",
   "metadata": {},
   "source": [
    "## Проверка алгоритма"
   ]
  },
  {
   "cell_type": "code",
   "execution_count": 16,
   "metadata": {},
   "outputs": [],
   "source": [
    "features = df.drop('Страховые выплаты',axis=1)\n",
    "target = df['Страховые выплаты']"
   ]
  },
  {
   "cell_type": "code",
   "execution_count": 17,
   "metadata": {},
   "outputs": [
    {
     "data": {
      "text/html": [
       "<div>\n",
       "<style scoped>\n",
       "    .dataframe tbody tr th:only-of-type {\n",
       "        vertical-align: middle;\n",
       "    }\n",
       "\n",
       "    .dataframe tbody tr th {\n",
       "        vertical-align: top;\n",
       "    }\n",
       "\n",
       "    .dataframe thead th {\n",
       "        text-align: right;\n",
       "    }\n",
       "</style>\n",
       "<table border=\"1\" class=\"dataframe\">\n",
       "  <thead>\n",
       "    <tr style=\"text-align: right;\">\n",
       "      <th></th>\n",
       "      <th>Пол</th>\n",
       "      <th>Возраст</th>\n",
       "      <th>Зарплата</th>\n",
       "      <th>Члены семьи</th>\n",
       "    </tr>\n",
       "  </thead>\n",
       "  <tbody>\n",
       "    <tr>\n",
       "      <th>0</th>\n",
       "      <td>-11008.479823</td>\n",
       "      <td>21227.335348</td>\n",
       "      <td>10982.950865</td>\n",
       "      <td>15379.648233</td>\n",
       "    </tr>\n",
       "    <tr>\n",
       "      <th>1</th>\n",
       "      <td>-8421.670608</td>\n",
       "      <td>16253.691050</td>\n",
       "      <td>8403.357769</td>\n",
       "      <td>11764.558127</td>\n",
       "    </tr>\n",
       "    <tr>\n",
       "      <th>2</th>\n",
       "      <td>-4650.837326</td>\n",
       "      <td>8979.843397</td>\n",
       "      <td>4642.202481</td>\n",
       "      <td>6497.410377</td>\n",
       "    </tr>\n",
       "    <tr>\n",
       "      <th>3</th>\n",
       "      <td>-9266.307034</td>\n",
       "      <td>17854.716209</td>\n",
       "      <td>9239.206931</td>\n",
       "      <td>12945.936618</td>\n",
       "    </tr>\n",
       "    <tr>\n",
       "      <th>4</th>\n",
       "      <td>-5787.486371</td>\n",
       "      <td>11166.099449</td>\n",
       "      <td>5776.821710</td>\n",
       "      <td>8085.333161</td>\n",
       "    </tr>\n",
       "    <tr>\n",
       "      <th>...</th>\n",
       "      <td>...</td>\n",
       "      <td>...</td>\n",
       "      <td>...</td>\n",
       "      <td>...</td>\n",
       "    </tr>\n",
       "    <tr>\n",
       "      <th>4842</th>\n",
       "      <td>-7924.991761</td>\n",
       "      <td>15279.725406</td>\n",
       "      <td>7903.319747</td>\n",
       "      <td>11070.610427</td>\n",
       "    </tr>\n",
       "    <tr>\n",
       "      <th>4843</th>\n",
       "      <td>-11636.900584</td>\n",
       "      <td>22430.741928</td>\n",
       "      <td>11606.490137</td>\n",
       "      <td>16259.398740</td>\n",
       "    </tr>\n",
       "    <tr>\n",
       "      <th>4844</th>\n",
       "      <td>-7530.859570</td>\n",
       "      <td>14513.387167</td>\n",
       "      <td>7508.859515</td>\n",
       "      <td>10520.516047</td>\n",
       "    </tr>\n",
       "    <tr>\n",
       "      <th>4845</th>\n",
       "      <td>-7263.257962</td>\n",
       "      <td>13999.056937</td>\n",
       "      <td>7242.651568</td>\n",
       "      <td>10144.053524</td>\n",
       "    </tr>\n",
       "    <tr>\n",
       "      <th>4846</th>\n",
       "      <td>-9015.731288</td>\n",
       "      <td>17379.179493</td>\n",
       "      <td>8993.792286</td>\n",
       "      <td>12595.751196</td>\n",
       "    </tr>\n",
       "  </tbody>\n",
       "</table>\n",
       "<p>4847 rows × 4 columns</p>\n",
       "</div>"
      ],
      "text/plain": [
       "               Пол       Возраст      Зарплата   Члены семьи\n",
       "0    -11008.479823  21227.335348  10982.950865  15379.648233\n",
       "1     -8421.670608  16253.691050   8403.357769  11764.558127\n",
       "2     -4650.837326   8979.843397   4642.202481   6497.410377\n",
       "3     -9266.307034  17854.716209   9239.206931  12945.936618\n",
       "4     -5787.486371  11166.099449   5776.821710   8085.333161\n",
       "...            ...           ...           ...           ...\n",
       "4842  -7924.991761  15279.725406   7903.319747  11070.610427\n",
       "4843 -11636.900584  22430.741928  11606.490137  16259.398740\n",
       "4844  -7530.859570  14513.387167   7508.859515  10520.516047\n",
       "4845  -7263.257962  13999.056937   7242.651568  10144.053524\n",
       "4846  -9015.731288  17379.179493   8993.792286  12595.751196\n",
       "\n",
       "[4847 rows x 4 columns]"
      ]
     },
     "execution_count": 17,
     "metadata": {},
     "output_type": "execute_result"
    }
   ],
   "source": [
    "matrix = np.random.normal(size = (4,4))\n",
    "matrix_invert = np.linalg.inv(matrix)\n",
    "features_new = features.values @ matrix\n",
    "features_new = pd.DataFrame(features_new,columns = features.columns)\n",
    "features_new"
   ]
  },
  {
   "cell_type": "code",
   "execution_count": 18,
   "metadata": {},
   "outputs": [
    {
     "data": {
      "text/plain": [
       "array([[-11008.47982298,  21227.33534765,  10982.95086456,\n",
       "         15379.64823315],\n",
       "       [ -8421.67060831,  16253.69104965,   8403.35776936,\n",
       "         11764.55812732],\n",
       "       [ -4650.83732583,   8979.84339651,   4642.20248087,\n",
       "          6497.41037706],\n",
       "       ...,\n",
       "       [ -7530.8595699 ,  14513.38716669,   7508.85951511,\n",
       "         10520.51604697],\n",
       "       [ -7263.25796248,  13999.05693744,   7242.6515681 ,\n",
       "         10144.0535237 ],\n",
       "       [ -9015.73128821,  17379.17949324,   8993.79228638,\n",
       "         12595.75119618]])"
      ]
     },
     "execution_count": 18,
     "metadata": {},
     "output_type": "execute_result"
    }
   ],
   "source": [
    "features_new = features_new.values\n",
    "features_new"
   ]
  },
  {
   "cell_type": "code",
   "execution_count": 19,
   "metadata": {},
   "outputs": [
    {
     "data": {
      "text/plain": [
       "0.4302010044852068"
      ]
     },
     "execution_count": 19,
     "metadata": {},
     "output_type": "execute_result"
    }
   ],
   "source": [
    "model = LinearRegression()\n",
    "model.fit(features,target)\n",
    "predict = model.predict(features)\n",
    "r2_score(target,predict)\n"
   ]
  },
  {
   "cell_type": "code",
   "execution_count": 20,
   "metadata": {},
   "outputs": [
    {
     "data": {
      "text/plain": [
       "0.4302010044852034"
      ]
     },
     "execution_count": 20,
     "metadata": {},
     "output_type": "execute_result"
    }
   ],
   "source": [
    "model = LinearRegression()\n",
    "model.fit(features_new,target)\n",
    "predict = model.predict(features_new)\n",
    "r2_score(target,predict)\n"
   ]
  },
  {
   "cell_type": "markdown",
   "metadata": {},
   "source": [
    "Качество линейной регрессии отличается в пределах вычислительной погрешности. Из этого следует, что для защиты персональных данных, данные можно умножать на обратимую матрицу, при этом качество линейной регрессии не изменится."
   ]
  },
  {
   "cell_type": "markdown",
   "metadata": {},
   "source": [
    "## Чек-лист проверки"
   ]
  },
  {
   "cell_type": "markdown",
   "metadata": {},
   "source": [
    "Поставьте 'x' в выполненных пунктах. Далее нажмите Shift+Enter."
   ]
  },
  {
   "cell_type": "markdown",
   "metadata": {},
   "source": [
    "- [x]  Jupyter Notebook открыт\n",
    "- [x]  Весь код выполняется без ошибок\n",
    "- [x]  Ячейки с кодом расположены в порядке исполнения\n",
    "- [x]  Выполнен шаг 1: данные загружены\n",
    "- [x]  Выполнен шаг 2: получен ответ на вопрос об умножении матриц\n",
    "    - [x]  Указан правильный вариант ответа\n",
    "    - [x]  Вариант обоснован\n",
    "- [x]  Выполнен шаг 3: предложен алгоритм преобразования\n",
    "    - [x]  Алгоритм описан\n",
    "    - [x]  Алгоритм обоснован\n",
    "- [x]  Выполнен шаг 4: алгоритм проверен\n",
    "    - [x]  Алгоритм реализован\n",
    "    - [x]  Проведено сравнение качества моделей до и после преобразования"
   ]
  }
 ],
 "metadata": {
  "ExecuteTimeLog": [
   {
    "duration": 464,
    "start_time": "2022-06-25T11:21:26.843Z"
   },
   {
    "duration": 46,
    "start_time": "2022-06-25T11:21:27.576Z"
   },
   {
    "duration": 44,
    "start_time": "2022-06-25T11:21:33.681Z"
   },
   {
    "duration": 59,
    "start_time": "2022-06-25T11:21:39.587Z"
   },
   {
    "duration": 88,
    "start_time": "2022-06-25T11:21:50.896Z"
   },
   {
    "duration": 41,
    "start_time": "2022-06-25T11:21:57.891Z"
   },
   {
    "duration": 12,
    "start_time": "2022-06-25T11:22:22.480Z"
   },
   {
    "duration": 6,
    "start_time": "2022-06-25T11:22:46.855Z"
   },
   {
    "duration": 10,
    "start_time": "2022-06-25T11:23:05.268Z"
   },
   {
    "duration": 14,
    "start_time": "2022-06-25T11:23:41.977Z"
   },
   {
    "duration": 13,
    "start_time": "2022-06-25T11:24:14.307Z"
   },
   {
    "duration": 360,
    "start_time": "2022-06-26T17:07:14.705Z"
   },
   {
    "duration": 120,
    "start_time": "2022-06-26T17:07:15.067Z"
   },
   {
    "duration": 12,
    "start_time": "2022-06-26T17:07:15.189Z"
   },
   {
    "duration": 72,
    "start_time": "2022-06-26T17:07:15.203Z"
   },
   {
    "duration": 2,
    "start_time": "2022-06-26T17:08:09.437Z"
   },
   {
    "duration": 7,
    "start_time": "2022-06-26T17:08:14.824Z"
   },
   {
    "duration": 4,
    "start_time": "2022-06-26T17:08:21.555Z"
   },
   {
    "duration": 3,
    "start_time": "2022-06-26T17:12:24.706Z"
   },
   {
    "duration": 80,
    "start_time": "2022-06-28T10:30:24.226Z"
   },
   {
    "duration": 56,
    "start_time": "2022-06-28T10:45:59.228Z"
   },
   {
    "duration": 474,
    "start_time": "2022-06-28T10:46:07.872Z"
   },
   {
    "duration": 117,
    "start_time": "2022-06-28T10:46:08.348Z"
   },
   {
    "duration": 16,
    "start_time": "2022-06-28T10:46:08.467Z"
   },
   {
    "duration": 120,
    "start_time": "2022-06-28T10:46:08.486Z"
   },
   {
    "duration": 22,
    "start_time": "2022-06-28T10:46:42.384Z"
   },
   {
    "duration": 21,
    "start_time": "2022-06-28T10:47:02.326Z"
   },
   {
    "duration": 16,
    "start_time": "2022-06-28T10:47:19.715Z"
   },
   {
    "duration": 21,
    "start_time": "2022-06-28T10:47:31.676Z"
   },
   {
    "duration": 10,
    "start_time": "2022-06-28T10:47:45.127Z"
   },
   {
    "duration": 10,
    "start_time": "2022-06-28T10:47:52.240Z"
   },
   {
    "duration": 5,
    "start_time": "2022-06-28T10:51:45.777Z"
   },
   {
    "duration": 5,
    "start_time": "2022-06-28T10:52:05.525Z"
   },
   {
    "duration": 89,
    "start_time": "2022-06-28T10:56:24.835Z"
   },
   {
    "duration": 16,
    "start_time": "2022-06-28T10:57:22.954Z"
   },
   {
    "duration": 6,
    "start_time": "2022-06-28T10:57:30.912Z"
   },
   {
    "duration": 95,
    "start_time": "2022-06-28T11:03:47.706Z"
   },
   {
    "duration": 236,
    "start_time": "2022-06-28T11:03:53.580Z"
   },
   {
    "duration": 307,
    "start_time": "2022-06-28T11:04:03.748Z"
   },
   {
    "duration": 5,
    "start_time": "2022-06-28T11:04:10.195Z"
   },
   {
    "duration": 5,
    "start_time": "2022-06-28T11:04:13.827Z"
   },
   {
    "duration": 6,
    "start_time": "2022-06-28T11:04:31.157Z"
   },
   {
    "duration": 8,
    "start_time": "2022-06-28T11:04:35.127Z"
   },
   {
    "duration": 36,
    "start_time": "2022-06-28T11:04:40.888Z"
   },
   {
    "duration": 15,
    "start_time": "2022-06-28T11:04:44.984Z"
   },
   {
    "duration": 5,
    "start_time": "2022-06-28T11:04:48.150Z"
   },
   {
    "duration": 6,
    "start_time": "2022-06-28T11:04:49.588Z"
   },
   {
    "duration": 114,
    "start_time": "2022-06-28T11:07:49.503Z"
   },
   {
    "duration": 891,
    "start_time": "2022-06-28T11:16:10.504Z"
   },
   {
    "duration": 65,
    "start_time": "2022-06-28T11:17:12.225Z"
   },
   {
    "duration": 33,
    "start_time": "2022-06-28T11:17:21.584Z"
   },
   {
    "duration": 4,
    "start_time": "2022-06-28T11:18:16.817Z"
   },
   {
    "duration": 11,
    "start_time": "2022-06-28T11:18:45.701Z"
   },
   {
    "duration": 5,
    "start_time": "2022-06-28T11:19:35.349Z"
   },
   {
    "duration": 3,
    "start_time": "2022-06-28T11:24:25.683Z"
   },
   {
    "duration": 8,
    "start_time": "2022-06-28T11:24:27.745Z"
   },
   {
    "duration": 5,
    "start_time": "2022-06-28T11:24:30.950Z"
   },
   {
    "duration": 129,
    "start_time": "2022-06-28T11:24:31.950Z"
   },
   {
    "duration": 41,
    "start_time": "2022-06-28T11:24:44.521Z"
   },
   {
    "duration": 45,
    "start_time": "2022-06-28T11:25:13.436Z"
   },
   {
    "duration": 1085,
    "start_time": "2022-06-28T11:25:26.816Z"
   },
   {
    "duration": 39,
    "start_time": "2022-06-28T11:25:27.903Z"
   },
   {
    "duration": 18,
    "start_time": "2022-06-28T11:25:27.944Z"
   },
   {
    "duration": 65,
    "start_time": "2022-06-28T11:25:27.964Z"
   },
   {
    "duration": 10,
    "start_time": "2022-06-28T11:25:28.031Z"
   },
   {
    "duration": 12,
    "start_time": "2022-06-28T11:25:28.043Z"
   },
   {
    "duration": 38,
    "start_time": "2022-06-28T11:25:28.058Z"
   },
   {
    "duration": 108,
    "start_time": "2022-06-28T11:25:28.169Z"
   },
   {
    "duration": 75,
    "start_time": "2022-06-28T11:25:28.288Z"
   },
   {
    "duration": 24,
    "start_time": "2022-06-28T11:25:28.366Z"
   },
   {
    "duration": 258,
    "start_time": "2022-06-28T11:25:28.391Z"
   },
   {
    "duration": 1101,
    "start_time": "2022-06-28T11:25:53.274Z"
   },
   {
    "duration": 40,
    "start_time": "2022-06-28T11:25:54.379Z"
   },
   {
    "duration": 17,
    "start_time": "2022-06-28T11:25:54.421Z"
   },
   {
    "duration": 31,
    "start_time": "2022-06-28T11:25:54.441Z"
   },
   {
    "duration": 6,
    "start_time": "2022-06-28T11:25:54.476Z"
   },
   {
    "duration": 16,
    "start_time": "2022-06-28T11:25:54.483Z"
   },
   {
    "duration": 62,
    "start_time": "2022-06-28T11:25:54.502Z"
   },
   {
    "duration": 118,
    "start_time": "2022-06-28T11:25:54.567Z"
   },
   {
    "duration": 73,
    "start_time": "2022-06-28T11:25:54.688Z"
   },
   {
    "duration": 24,
    "start_time": "2022-06-28T11:25:54.774Z"
   },
   {
    "duration": 276,
    "start_time": "2022-06-28T11:25:54.863Z"
   },
   {
    "duration": 71,
    "start_time": "2022-06-28T11:26:03.488Z"
   },
   {
    "duration": 1205,
    "start_time": "2022-06-28T11:26:36.448Z"
   },
   {
    "duration": 53,
    "start_time": "2022-06-28T11:26:37.662Z"
   },
   {
    "duration": 22,
    "start_time": "2022-06-28T11:26:37.718Z"
   },
   {
    "duration": 24,
    "start_time": "2022-06-28T11:26:37.743Z"
   },
   {
    "duration": 27,
    "start_time": "2022-06-28T11:26:37.769Z"
   },
   {
    "duration": 18,
    "start_time": "2022-06-28T11:26:37.798Z"
   },
   {
    "duration": 46,
    "start_time": "2022-06-28T11:26:37.819Z"
   },
   {
    "duration": 128,
    "start_time": "2022-06-28T11:26:37.867Z"
   },
   {
    "duration": 120,
    "start_time": "2022-06-28T11:26:38.063Z"
   },
   {
    "duration": 18,
    "start_time": "2022-06-28T11:26:38.186Z"
   },
   {
    "duration": 409,
    "start_time": "2022-06-28T11:26:38.206Z"
   },
   {
    "duration": 1128,
    "start_time": "2022-06-28T12:08:48.193Z"
   },
   {
    "duration": 32,
    "start_time": "2022-06-28T12:08:49.323Z"
   },
   {
    "duration": 14,
    "start_time": "2022-06-28T12:08:49.357Z"
   },
   {
    "duration": 56,
    "start_time": "2022-06-28T12:08:49.373Z"
   },
   {
    "duration": 3,
    "start_time": "2022-06-28T12:08:49.432Z"
   },
   {
    "duration": 65,
    "start_time": "2022-06-28T12:08:49.437Z"
   },
   {
    "duration": 11,
    "start_time": "2022-06-28T12:08:49.504Z"
   },
   {
    "duration": 79,
    "start_time": "2022-06-28T12:08:49.516Z"
   },
   {
    "duration": 54,
    "start_time": "2022-06-28T12:08:49.658Z"
   },
   {
    "duration": 8,
    "start_time": "2022-06-28T12:08:49.713Z"
   },
   {
    "duration": 256,
    "start_time": "2022-06-28T12:08:49.722Z"
   },
   {
    "duration": 1140,
    "start_time": "2022-06-28T14:22:59.407Z"
   },
   {
    "duration": 46,
    "start_time": "2022-06-28T14:23:00.548Z"
   },
   {
    "duration": 15,
    "start_time": "2022-06-28T14:23:00.596Z"
   },
   {
    "duration": 22,
    "start_time": "2022-06-28T14:23:00.614Z"
   },
   {
    "duration": 3,
    "start_time": "2022-06-28T14:23:00.638Z"
   },
   {
    "duration": 28,
    "start_time": "2022-06-28T14:23:00.643Z"
   },
   {
    "duration": 86,
    "start_time": "2022-06-28T14:23:00.678Z"
   },
   {
    "duration": 112,
    "start_time": "2022-06-28T14:23:00.766Z"
   },
   {
    "duration": 20,
    "start_time": "2022-06-28T14:23:00.961Z"
   },
   {
    "duration": 15,
    "start_time": "2022-06-28T14:23:00.984Z"
   },
   {
    "duration": 272,
    "start_time": "2022-06-28T14:23:01.001Z"
   },
   {
    "duration": 16,
    "start_time": "2022-06-28T14:23:16.521Z"
   },
   {
    "duration": 24,
    "start_time": "2022-06-28T14:24:31.554Z"
   },
   {
    "duration": 1072,
    "start_time": "2022-06-28T14:24:40.575Z"
   },
   {
    "duration": 44,
    "start_time": "2022-06-28T14:24:41.649Z"
   },
   {
    "duration": 10,
    "start_time": "2022-06-28T14:24:41.695Z"
   },
   {
    "duration": 15,
    "start_time": "2022-06-28T14:24:41.707Z"
   },
   {
    "duration": 2,
    "start_time": "2022-06-28T14:24:41.724Z"
   },
   {
    "duration": 11,
    "start_time": "2022-06-28T14:24:41.728Z"
   },
   {
    "duration": 25,
    "start_time": "2022-06-28T14:24:41.763Z"
   },
   {
    "duration": 23,
    "start_time": "2022-06-28T14:24:41.860Z"
   },
   {
    "duration": 180,
    "start_time": "2022-06-28T14:24:41.885Z"
   },
   {
    "duration": 9,
    "start_time": "2022-06-28T14:24:42.069Z"
   },
   {
    "duration": 259,
    "start_time": "2022-06-28T14:24:42.080Z"
   },
   {
    "duration": 4,
    "start_time": "2022-06-28T14:42:31.978Z"
   },
   {
    "duration": 17,
    "start_time": "2022-06-28T14:43:47.178Z"
   },
   {
    "duration": 4,
    "start_time": "2022-06-28T14:44:07.202Z"
   },
   {
    "duration": 6,
    "start_time": "2022-06-28T14:45:22.246Z"
   },
   {
    "duration": 17,
    "start_time": "2022-06-28T14:45:24.379Z"
   },
   {
    "duration": 80,
    "start_time": "2022-06-28T14:46:21.576Z"
   },
   {
    "duration": 1120,
    "start_time": "2022-06-28T14:46:43.934Z"
   },
   {
    "duration": 46,
    "start_time": "2022-06-28T14:46:45.056Z"
   },
   {
    "duration": 10,
    "start_time": "2022-06-28T14:46:45.104Z"
   },
   {
    "duration": 17,
    "start_time": "2022-06-28T14:46:45.116Z"
   },
   {
    "duration": 4,
    "start_time": "2022-06-28T14:46:45.134Z"
   },
   {
    "duration": 27,
    "start_time": "2022-06-28T14:46:45.139Z"
   },
   {
    "duration": 192,
    "start_time": "2022-06-28T14:46:45.174Z"
   },
   {
    "duration": 276,
    "start_time": "2022-06-28T14:46:45.369Z"
   },
   {
    "duration": 4,
    "start_time": "2022-06-28T14:56:46.187Z"
   },
   {
    "duration": 1192,
    "start_time": "2022-06-28T14:56:53.078Z"
   },
   {
    "duration": 33,
    "start_time": "2022-06-28T14:56:54.274Z"
   },
   {
    "duration": 11,
    "start_time": "2022-06-28T14:56:54.309Z"
   },
   {
    "duration": 12,
    "start_time": "2022-06-28T14:56:54.322Z"
   },
   {
    "duration": 3,
    "start_time": "2022-06-28T14:56:54.336Z"
   },
   {
    "duration": 24,
    "start_time": "2022-06-28T14:56:54.341Z"
   },
   {
    "duration": 189,
    "start_time": "2022-06-28T14:56:54.371Z"
   },
   {
    "duration": 111,
    "start_time": "2022-06-28T14:56:54.567Z"
   },
   {
    "duration": 0,
    "start_time": "2022-06-28T14:56:54.680Z"
   },
   {
    "duration": 14,
    "start_time": "2022-06-28T14:57:21.606Z"
   },
   {
    "duration": 9,
    "start_time": "2022-06-28T14:57:33.379Z"
   },
   {
    "duration": 73,
    "start_time": "2022-06-28T14:57:41.475Z"
   },
   {
    "duration": 11,
    "start_time": "2022-06-28T14:59:50.455Z"
   },
   {
    "duration": 50,
    "start_time": "2022-06-28T14:59:52.813Z"
   },
   {
    "duration": 1102,
    "start_time": "2022-06-28T15:00:01.298Z"
   },
   {
    "duration": 33,
    "start_time": "2022-06-28T15:00:02.401Z"
   },
   {
    "duration": 39,
    "start_time": "2022-06-28T15:00:02.435Z"
   },
   {
    "duration": 36,
    "start_time": "2022-06-28T15:00:02.477Z"
   },
   {
    "duration": 12,
    "start_time": "2022-06-28T15:00:02.515Z"
   },
   {
    "duration": 56,
    "start_time": "2022-06-28T15:00:02.529Z"
   },
   {
    "duration": 95,
    "start_time": "2022-06-28T15:00:02.588Z"
   },
   {
    "duration": 218,
    "start_time": "2022-06-28T15:00:02.760Z"
   },
   {
    "duration": 311,
    "start_time": "2022-06-28T15:00:02.980Z"
   },
   {
    "duration": 6,
    "start_time": "2022-06-28T15:04:11.490Z"
   },
   {
    "duration": 52,
    "start_time": "2022-06-28T15:04:17.435Z"
   },
   {
    "duration": 88,
    "start_time": "2022-06-28T15:04:19.193Z"
   },
   {
    "duration": 1116,
    "start_time": "2022-06-28T15:04:30.724Z"
   },
   {
    "duration": 41,
    "start_time": "2022-06-28T15:04:31.841Z"
   },
   {
    "duration": 25,
    "start_time": "2022-06-28T15:04:31.884Z"
   },
   {
    "duration": 17,
    "start_time": "2022-06-28T15:04:31.911Z"
   },
   {
    "duration": 6,
    "start_time": "2022-06-28T15:04:31.929Z"
   },
   {
    "duration": 33,
    "start_time": "2022-06-28T15:04:31.936Z"
   },
   {
    "duration": 11,
    "start_time": "2022-06-28T15:04:31.975Z"
   },
   {
    "duration": 181,
    "start_time": "2022-06-28T15:04:31.990Z"
   },
   {
    "duration": 280,
    "start_time": "2022-06-28T15:04:32.176Z"
   },
   {
    "duration": 13,
    "start_time": "2022-06-28T15:09:10.819Z"
   },
   {
    "duration": 18,
    "start_time": "2022-06-28T15:09:22.411Z"
   },
   {
    "duration": 1128,
    "start_time": "2022-06-28T15:09:33.920Z"
   },
   {
    "duration": 54,
    "start_time": "2022-06-28T15:09:35.050Z"
   },
   {
    "duration": 11,
    "start_time": "2022-06-28T15:09:35.105Z"
   },
   {
    "duration": 18,
    "start_time": "2022-06-28T15:09:35.118Z"
   },
   {
    "duration": 3,
    "start_time": "2022-06-28T15:09:35.138Z"
   },
   {
    "duration": 22,
    "start_time": "2022-06-28T15:09:35.143Z"
   },
   {
    "duration": 29,
    "start_time": "2022-06-28T15:09:35.167Z"
   },
   {
    "duration": 103,
    "start_time": "2022-06-28T15:09:35.198Z"
   },
   {
    "duration": 361,
    "start_time": "2022-06-28T15:09:35.371Z"
   },
   {
    "duration": 1177,
    "start_time": "2022-06-28T15:12:29.979Z"
   },
   {
    "duration": 45,
    "start_time": "2022-06-28T15:12:31.160Z"
   },
   {
    "duration": 11,
    "start_time": "2022-06-28T15:12:31.207Z"
   },
   {
    "duration": 27,
    "start_time": "2022-06-28T15:12:31.220Z"
   },
   {
    "duration": 4,
    "start_time": "2022-06-28T15:12:31.249Z"
   },
   {
    "duration": 40,
    "start_time": "2022-06-28T15:12:31.255Z"
   },
   {
    "duration": 67,
    "start_time": "2022-06-28T15:12:31.297Z"
   },
   {
    "duration": 107,
    "start_time": "2022-06-28T15:12:31.366Z"
   },
   {
    "duration": 373,
    "start_time": "2022-06-28T15:12:31.475Z"
   },
   {
    "duration": 4,
    "start_time": "2022-06-28T15:18:07.993Z"
   },
   {
    "duration": 6,
    "start_time": "2022-06-28T15:18:17.883Z"
   },
   {
    "duration": 1076,
    "start_time": "2022-06-28T15:19:14.501Z"
   },
   {
    "duration": 32,
    "start_time": "2022-06-28T15:19:15.583Z"
   },
   {
    "duration": 12,
    "start_time": "2022-06-28T15:19:15.617Z"
   },
   {
    "duration": 36,
    "start_time": "2022-06-28T15:19:15.633Z"
   },
   {
    "duration": 5,
    "start_time": "2022-06-28T15:19:15.674Z"
   },
   {
    "duration": 13,
    "start_time": "2022-06-28T15:19:15.680Z"
   },
   {
    "duration": 21,
    "start_time": "2022-06-28T15:19:15.695Z"
   },
   {
    "duration": 6,
    "start_time": "2022-06-28T15:19:15.759Z"
   },
   {
    "duration": 112,
    "start_time": "2022-06-28T15:19:15.767Z"
   },
   {
    "duration": 457,
    "start_time": "2022-06-28T15:19:15.882Z"
   },
   {
    "duration": 14,
    "start_time": "2022-06-28T15:23:02.443Z"
   },
   {
    "duration": 17,
    "start_time": "2022-06-28T15:23:03.982Z"
   },
   {
    "duration": 1070,
    "start_time": "2022-06-28T15:23:11.626Z"
   },
   {
    "duration": 34,
    "start_time": "2022-06-28T15:23:12.698Z"
   },
   {
    "duration": 12,
    "start_time": "2022-06-28T15:23:12.733Z"
   },
   {
    "duration": 25,
    "start_time": "2022-06-28T15:23:12.748Z"
   },
   {
    "duration": 9,
    "start_time": "2022-06-28T15:23:12.776Z"
   },
   {
    "duration": 16,
    "start_time": "2022-06-28T15:23:12.787Z"
   },
   {
    "duration": 57,
    "start_time": "2022-06-28T15:23:12.804Z"
   },
   {
    "duration": 7,
    "start_time": "2022-06-28T15:23:12.863Z"
   },
   {
    "duration": 189,
    "start_time": "2022-06-28T15:23:12.873Z"
   },
   {
    "duration": 22,
    "start_time": "2022-06-28T15:23:13.070Z"
   },
   {
    "duration": 15,
    "start_time": "2022-06-28T15:24:46.697Z"
   },
   {
    "duration": 15,
    "start_time": "2022-06-28T15:25:16.278Z"
   },
   {
    "duration": 5,
    "start_time": "2022-06-28T15:26:40.649Z"
   },
   {
    "duration": 4,
    "start_time": "2022-06-28T15:27:14.317Z"
   },
   {
    "duration": 14,
    "start_time": "2022-06-28T15:27:19.522Z"
   },
   {
    "duration": 7,
    "start_time": "2022-06-28T15:27:51.614Z"
   },
   {
    "duration": 19,
    "start_time": "2022-06-28T15:28:10.973Z"
   },
   {
    "duration": 1051,
    "start_time": "2022-06-28T15:28:20.987Z"
   },
   {
    "duration": 36,
    "start_time": "2022-06-28T15:28:22.040Z"
   },
   {
    "duration": 12,
    "start_time": "2022-06-28T15:28:22.078Z"
   },
   {
    "duration": 7,
    "start_time": "2022-06-28T15:28:22.092Z"
   },
   {
    "duration": 16,
    "start_time": "2022-06-28T15:28:22.100Z"
   },
   {
    "duration": 44,
    "start_time": "2022-06-28T15:28:22.117Z"
   },
   {
    "duration": 6,
    "start_time": "2022-06-28T15:28:22.164Z"
   },
   {
    "duration": 10,
    "start_time": "2022-06-28T15:28:22.173Z"
   },
   {
    "duration": 14,
    "start_time": "2022-06-28T15:28:22.185Z"
   },
   {
    "duration": 64,
    "start_time": "2022-06-28T15:28:22.202Z"
   },
   {
    "duration": 289,
    "start_time": "2022-06-28T15:28:22.272Z"
   },
   {
    "duration": 12,
    "start_time": "2022-06-28T15:28:22.571Z"
   },
   {
    "duration": 1055,
    "start_time": "2022-06-30T09:39:39.209Z"
   },
   {
    "duration": 69,
    "start_time": "2022-06-30T09:39:40.266Z"
   },
   {
    "duration": 11,
    "start_time": "2022-06-30T09:39:40.337Z"
   },
   {
    "duration": 11,
    "start_time": "2022-06-30T09:39:40.350Z"
   },
   {
    "duration": 51,
    "start_time": "2022-06-30T09:39:40.363Z"
   },
   {
    "duration": 0,
    "start_time": "2022-06-30T09:39:40.415Z"
   },
   {
    "duration": 0,
    "start_time": "2022-06-30T09:39:40.417Z"
   },
   {
    "duration": 0,
    "start_time": "2022-06-30T09:39:40.418Z"
   },
   {
    "duration": 0,
    "start_time": "2022-06-30T09:39:40.419Z"
   },
   {
    "duration": 0,
    "start_time": "2022-06-30T09:39:40.420Z"
   },
   {
    "duration": 0,
    "start_time": "2022-06-30T09:39:40.421Z"
   },
   {
    "duration": 0,
    "start_time": "2022-06-30T09:39:40.422Z"
   },
   {
    "duration": 15,
    "start_time": "2022-06-30T09:40:02.045Z"
   },
   {
    "duration": 14,
    "start_time": "2022-06-30T09:40:05.202Z"
   },
   {
    "duration": 4,
    "start_time": "2022-06-30T09:40:10.981Z"
   },
   {
    "duration": 5,
    "start_time": "2022-06-30T09:40:12.693Z"
   },
   {
    "duration": 14,
    "start_time": "2022-06-30T09:40:15.993Z"
   },
   {
    "duration": 14,
    "start_time": "2022-06-30T09:40:18.881Z"
   },
   {
    "duration": 9,
    "start_time": "2022-06-30T09:40:20.382Z"
   },
   {
    "duration": 25,
    "start_time": "2022-06-30T09:43:43.695Z"
   },
   {
    "duration": 3,
    "start_time": "2022-06-30T09:58:02.693Z"
   },
   {
    "duration": 1032,
    "start_time": "2022-06-30T10:09:24.515Z"
   },
   {
    "duration": 34,
    "start_time": "2022-06-30T10:09:25.549Z"
   },
   {
    "duration": 16,
    "start_time": "2022-06-30T10:09:25.585Z"
   },
   {
    "duration": 16,
    "start_time": "2022-06-30T10:09:25.603Z"
   },
   {
    "duration": 18,
    "start_time": "2022-06-30T10:09:25.621Z"
   },
   {
    "duration": 14,
    "start_time": "2022-06-30T10:09:25.640Z"
   },
   {
    "duration": 23,
    "start_time": "2022-06-30T10:09:25.667Z"
   },
   {
    "duration": 4,
    "start_time": "2022-06-30T10:09:25.692Z"
   },
   {
    "duration": 9,
    "start_time": "2022-06-30T10:09:25.698Z"
   },
   {
    "duration": 60,
    "start_time": "2022-06-30T10:09:25.710Z"
   },
   {
    "duration": 6,
    "start_time": "2022-06-30T10:09:25.772Z"
   },
   {
    "duration": 93,
    "start_time": "2022-06-30T10:09:25.780Z"
   },
   {
    "duration": 205,
    "start_time": "2022-06-30T10:09:25.876Z"
   },
   {
    "duration": 1086,
    "start_time": "2022-06-30T10:10:24.151Z"
   },
   {
    "duration": 34,
    "start_time": "2022-06-30T10:10:25.238Z"
   },
   {
    "duration": 11,
    "start_time": "2022-06-30T10:10:25.273Z"
   },
   {
    "duration": 9,
    "start_time": "2022-06-30T10:10:25.286Z"
   },
   {
    "duration": 16,
    "start_time": "2022-06-30T10:10:25.296Z"
   },
   {
    "duration": 16,
    "start_time": "2022-06-30T10:10:25.314Z"
   },
   {
    "duration": 57,
    "start_time": "2022-06-30T10:10:25.332Z"
   },
   {
    "duration": 4,
    "start_time": "2022-06-30T10:10:25.390Z"
   },
   {
    "duration": 7,
    "start_time": "2022-06-30T10:10:25.396Z"
   },
   {
    "duration": 64,
    "start_time": "2022-06-30T10:10:25.405Z"
   },
   {
    "duration": 8,
    "start_time": "2022-06-30T10:10:25.471Z"
   },
   {
    "duration": 103,
    "start_time": "2022-06-30T10:10:25.481Z"
   },
   {
    "duration": 197,
    "start_time": "2022-06-30T10:10:25.586Z"
   },
   {
    "duration": 1156,
    "start_time": "2022-06-30T10:11:03.842Z"
   },
   {
    "duration": 34,
    "start_time": "2022-06-30T10:11:05.000Z"
   },
   {
    "duration": 14,
    "start_time": "2022-06-30T10:11:05.036Z"
   },
   {
    "duration": 16,
    "start_time": "2022-06-30T10:11:05.052Z"
   },
   {
    "duration": 16,
    "start_time": "2022-06-30T10:11:05.070Z"
   },
   {
    "duration": 5,
    "start_time": "2022-06-30T10:11:05.087Z"
   },
   {
    "duration": 25,
    "start_time": "2022-06-30T10:11:05.093Z"
   },
   {
    "duration": 6,
    "start_time": "2022-06-30T10:11:05.120Z"
   },
   {
    "duration": 39,
    "start_time": "2022-06-30T10:11:05.128Z"
   },
   {
    "duration": 17,
    "start_time": "2022-06-30T10:11:05.170Z"
   },
   {
    "duration": 95,
    "start_time": "2022-06-30T10:11:05.189Z"
   },
   {
    "duration": 185,
    "start_time": "2022-06-30T10:11:05.286Z"
   },
   {
    "duration": 109,
    "start_time": "2022-06-30T10:11:05.473Z"
   },
   {
    "duration": 1204,
    "start_time": "2022-06-30T21:28:34.347Z"
   },
   {
    "duration": 66,
    "start_time": "2022-06-30T21:28:35.552Z"
   },
   {
    "duration": 13,
    "start_time": "2022-06-30T21:28:35.620Z"
   },
   {
    "duration": 18,
    "start_time": "2022-06-30T21:28:35.637Z"
   },
   {
    "duration": 14,
    "start_time": "2022-06-30T21:28:35.656Z"
   },
   {
    "duration": 4,
    "start_time": "2022-06-30T21:28:35.672Z"
   },
   {
    "duration": 25,
    "start_time": "2022-06-30T21:28:35.677Z"
   },
   {
    "duration": 4,
    "start_time": "2022-06-30T21:28:35.703Z"
   },
   {
    "duration": 23,
    "start_time": "2022-06-30T21:28:35.709Z"
   },
   {
    "duration": 27,
    "start_time": "2022-06-30T21:28:35.735Z"
   },
   {
    "duration": 11,
    "start_time": "2022-06-30T21:28:48.182Z"
   },
   {
    "duration": 5,
    "start_time": "2022-06-30T21:30:48.246Z"
   },
   {
    "duration": 12,
    "start_time": "2022-06-30T21:30:50.848Z"
   },
   {
    "duration": 8,
    "start_time": "2022-06-30T21:30:52.786Z"
   },
   {
    "duration": 1215,
    "start_time": "2022-06-30T21:36:57.363Z"
   },
   {
    "duration": 32,
    "start_time": "2022-06-30T21:36:58.580Z"
   },
   {
    "duration": 12,
    "start_time": "2022-06-30T21:36:58.614Z"
   },
   {
    "duration": 25,
    "start_time": "2022-06-30T21:36:58.628Z"
   },
   {
    "duration": 15,
    "start_time": "2022-06-30T21:36:58.655Z"
   },
   {
    "duration": 4,
    "start_time": "2022-06-30T21:36:58.671Z"
   },
   {
    "duration": 27,
    "start_time": "2022-06-30T21:36:58.677Z"
   },
   {
    "duration": 4,
    "start_time": "2022-06-30T21:36:58.705Z"
   },
   {
    "duration": 9,
    "start_time": "2022-06-30T21:36:58.711Z"
   },
   {
    "duration": 29,
    "start_time": "2022-06-30T21:36:58.731Z"
   },
   {
    "duration": 5,
    "start_time": "2022-06-30T21:36:58.762Z"
   },
   {
    "duration": 159,
    "start_time": "2022-06-30T21:36:58.769Z"
   },
   {
    "duration": 116,
    "start_time": "2022-06-30T21:36:58.930Z"
   },
   {
    "duration": 1081,
    "start_time": "2022-07-01T07:23:09.871Z"
   },
   {
    "duration": 64,
    "start_time": "2022-07-01T07:23:10.953Z"
   },
   {
    "duration": 10,
    "start_time": "2022-07-01T07:23:11.019Z"
   },
   {
    "duration": 14,
    "start_time": "2022-07-01T07:23:11.031Z"
   },
   {
    "duration": 15,
    "start_time": "2022-07-01T07:23:11.047Z"
   },
   {
    "duration": 13,
    "start_time": "2022-07-01T07:23:11.064Z"
   },
   {
    "duration": 31,
    "start_time": "2022-07-01T07:23:11.079Z"
   },
   {
    "duration": 4,
    "start_time": "2022-07-01T07:23:11.112Z"
   },
   {
    "duration": 9,
    "start_time": "2022-07-01T07:23:11.118Z"
   },
   {
    "duration": 36,
    "start_time": "2022-07-01T07:23:11.129Z"
   },
   {
    "duration": 4,
    "start_time": "2022-07-01T07:23:11.167Z"
   },
   {
    "duration": 179,
    "start_time": "2022-07-01T07:23:11.173Z"
   },
   {
    "duration": 113,
    "start_time": "2022-07-01T07:23:11.354Z"
   },
   {
    "duration": 10,
    "start_time": "2022-07-01T09:26:04.532Z"
   },
   {
    "duration": 1062,
    "start_time": "2022-07-01T09:38:50.981Z"
   },
   {
    "duration": 31,
    "start_time": "2022-07-01T09:38:52.045Z"
   },
   {
    "duration": 10,
    "start_time": "2022-07-01T09:38:52.078Z"
   },
   {
    "duration": 11,
    "start_time": "2022-07-01T09:38:52.090Z"
   },
   {
    "duration": 15,
    "start_time": "2022-07-01T09:38:52.103Z"
   },
   {
    "duration": 4,
    "start_time": "2022-07-01T09:38:52.120Z"
   },
   {
    "duration": 42,
    "start_time": "2022-07-01T09:38:52.125Z"
   },
   {
    "duration": 10,
    "start_time": "2022-07-01T09:38:52.168Z"
   },
   {
    "duration": 5,
    "start_time": "2022-07-01T09:38:52.179Z"
   },
   {
    "duration": 16,
    "start_time": "2022-07-01T09:38:52.187Z"
   },
   {
    "duration": 47,
    "start_time": "2022-07-01T09:38:52.205Z"
   },
   {
    "duration": 5,
    "start_time": "2022-07-01T09:38:52.254Z"
   },
   {
    "duration": 98,
    "start_time": "2022-07-01T09:38:52.261Z"
   },
   {
    "duration": 90,
    "start_time": "2022-07-01T09:38:52.361Z"
   },
   {
    "duration": 1241,
    "start_time": "2022-11-10T20:58:56.161Z"
   },
   {
    "duration": 105,
    "start_time": "2022-11-10T20:58:57.404Z"
   },
   {
    "duration": 13,
    "start_time": "2022-11-10T20:58:57.511Z"
   },
   {
    "duration": 18,
    "start_time": "2022-11-10T20:58:57.529Z"
   },
   {
    "duration": 29,
    "start_time": "2022-11-10T20:58:57.549Z"
   },
   {
    "duration": 23,
    "start_time": "2022-11-10T20:58:57.580Z"
   },
   {
    "duration": 52,
    "start_time": "2022-11-10T20:58:57.605Z"
   },
   {
    "duration": 12,
    "start_time": "2022-11-10T20:58:57.659Z"
   },
   {
    "duration": 129,
    "start_time": "2022-11-10T20:58:57.673Z"
   },
   {
    "duration": 0,
    "start_time": "2022-11-10T20:58:57.805Z"
   },
   {
    "duration": 0,
    "start_time": "2022-11-10T20:58:57.807Z"
   },
   {
    "duration": 0,
    "start_time": "2022-11-10T20:58:57.808Z"
   },
   {
    "duration": 0,
    "start_time": "2022-11-10T20:58:57.810Z"
   },
   {
    "duration": 0,
    "start_time": "2022-11-10T20:58:57.811Z"
   },
   {
    "duration": 0,
    "start_time": "2022-11-10T20:58:57.812Z"
   },
   {
    "duration": 346,
    "start_time": "2022-11-10T20:59:16.371Z"
   },
   {
    "duration": 13,
    "start_time": "2022-11-10T20:59:21.798Z"
   },
   {
    "duration": 368,
    "start_time": "2022-11-10T20:59:25.028Z"
   },
   {
    "duration": 317,
    "start_time": "2022-11-10T20:59:55.201Z"
   },
   {
    "duration": 422,
    "start_time": "2022-11-10T21:00:22.273Z"
   },
   {
    "duration": 157,
    "start_time": "2022-11-10T21:03:43.467Z"
   },
   {
    "duration": 284,
    "start_time": "2022-11-10T21:03:53.588Z"
   },
   {
    "duration": 286,
    "start_time": "2022-11-10T21:04:18.321Z"
   },
   {
    "duration": 102,
    "start_time": "2022-11-10T21:05:43.896Z"
   },
   {
    "duration": 29,
    "start_time": "2022-11-10T21:07:11.847Z"
   },
   {
    "duration": 5,
    "start_time": "2022-11-10T21:07:30.863Z"
   },
   {
    "duration": 11,
    "start_time": "2022-11-10T21:07:38.311Z"
   },
   {
    "duration": 10,
    "start_time": "2022-11-10T21:07:47.340Z"
   },
   {
    "duration": 210,
    "start_time": "2022-11-10T21:09:38.893Z"
   },
   {
    "duration": 239,
    "start_time": "2022-11-10T21:10:16.125Z"
   },
   {
    "duration": 157,
    "start_time": "2022-11-10T21:11:17.065Z"
   },
   {
    "duration": 137,
    "start_time": "2022-11-10T21:12:24.643Z"
   },
   {
    "duration": 20,
    "start_time": "2022-11-10T21:13:14.323Z"
   },
   {
    "duration": 149,
    "start_time": "2022-11-10T21:13:26.835Z"
   },
   {
    "duration": 230,
    "start_time": "2022-11-10T21:13:53.929Z"
   },
   {
    "duration": 118,
    "start_time": "2022-11-10T21:14:35.996Z"
   },
   {
    "duration": 39,
    "start_time": "2022-11-10T21:15:02.121Z"
   },
   {
    "duration": 5,
    "start_time": "2022-11-10T21:15:37.015Z"
   },
   {
    "duration": 1508,
    "start_time": "2022-11-11T11:16:23.975Z"
   },
   {
    "duration": 125,
    "start_time": "2022-11-11T11:16:25.485Z"
   },
   {
    "duration": 11,
    "start_time": "2022-11-11T11:16:25.612Z"
   },
   {
    "duration": 10,
    "start_time": "2022-11-11T11:16:25.625Z"
   },
   {
    "duration": 24,
    "start_time": "2022-11-11T11:16:25.636Z"
   },
   {
    "duration": 4,
    "start_time": "2022-11-11T11:16:25.663Z"
   },
   {
    "duration": 30,
    "start_time": "2022-11-11T11:16:25.669Z"
   },
   {
    "duration": 144,
    "start_time": "2022-11-11T11:16:25.700Z"
   },
   {
    "duration": 196,
    "start_time": "2022-11-11T11:16:25.845Z"
   },
   {
    "duration": 205,
    "start_time": "2022-11-11T11:16:26.043Z"
   },
   {
    "duration": 243,
    "start_time": "2022-11-11T11:16:26.250Z"
   },
   {
    "duration": 128,
    "start_time": "2022-11-11T11:16:26.495Z"
   },
   {
    "duration": 6,
    "start_time": "2022-11-11T11:16:26.624Z"
   },
   {
    "duration": 437,
    "start_time": "2022-11-11T11:16:26.631Z"
   },
   {
    "duration": 4,
    "start_time": "2022-11-11T11:16:27.069Z"
   },
   {
    "duration": 22,
    "start_time": "2022-11-11T11:16:27.075Z"
   },
   {
    "duration": 25,
    "start_time": "2022-11-11T11:16:27.099Z"
   },
   {
    "duration": 96,
    "start_time": "2022-11-11T11:16:27.126Z"
   },
   {
    "duration": 97,
    "start_time": "2022-11-11T11:16:27.224Z"
   },
   {
    "duration": 101,
    "start_time": "2022-11-11T11:16:27.322Z"
   },
   {
    "duration": 114,
    "start_time": "2022-11-11T11:18:47.606Z"
   },
   {
    "duration": 8,
    "start_time": "2022-11-11T11:19:20.315Z"
   },
   {
    "duration": 288,
    "start_time": "2022-11-11T11:22:16.986Z"
   },
   {
    "duration": 118,
    "start_time": "2022-11-11T11:36:43.836Z"
   },
   {
    "duration": 95,
    "start_time": "2022-11-11T11:36:50.125Z"
   },
   {
    "duration": 13,
    "start_time": "2022-11-11T11:38:02.531Z"
   },
   {
    "duration": 120,
    "start_time": "2022-11-11T11:40:40.316Z"
   },
   {
    "duration": 116,
    "start_time": "2022-11-11T11:40:43.876Z"
   },
   {
    "duration": 258,
    "start_time": "2022-11-11T11:40:57.902Z"
   },
   {
    "duration": 286,
    "start_time": "2022-11-11T11:41:22.755Z"
   },
   {
    "duration": 281,
    "start_time": "2022-11-11T11:42:56.495Z"
   },
   {
    "duration": 1443,
    "start_time": "2022-11-11T11:46:23.615Z"
   },
   {
    "duration": 307,
    "start_time": "2022-11-11T11:46:47.895Z"
   },
   {
    "duration": 225,
    "start_time": "2022-11-11T11:46:54.446Z"
   },
   {
    "duration": 307,
    "start_time": "2022-11-11T11:47:03.326Z"
   },
   {
    "duration": 181,
    "start_time": "2022-11-11T11:47:33.805Z"
   },
   {
    "duration": 134,
    "start_time": "2022-11-11T11:47:46.506Z"
   },
   {
    "duration": 14,
    "start_time": "2022-11-11T11:51:25.215Z"
   },
   {
    "duration": 9,
    "start_time": "2022-11-11T11:54:21.235Z"
   },
   {
    "duration": 11,
    "start_time": "2022-11-11T11:54:32.534Z"
   },
   {
    "duration": 306,
    "start_time": "2022-11-11T11:59:12.489Z"
   },
   {
    "duration": 186,
    "start_time": "2022-11-11T11:59:23.539Z"
   },
   {
    "duration": 81,
    "start_time": "2022-11-11T12:03:46.525Z"
   },
   {
    "duration": 12,
    "start_time": "2022-11-11T12:03:50.613Z"
   },
   {
    "duration": 174,
    "start_time": "2022-11-11T12:04:43.532Z"
   },
   {
    "duration": 167,
    "start_time": "2022-11-11T12:05:17.016Z"
   },
   {
    "duration": 198,
    "start_time": "2022-11-11T12:05:35.365Z"
   },
   {
    "duration": 197,
    "start_time": "2022-11-11T12:05:42.196Z"
   },
   {
    "duration": 185,
    "start_time": "2022-11-11T12:05:49.308Z"
   },
   {
    "duration": 240,
    "start_time": "2022-11-11T12:06:09.319Z"
   },
   {
    "duration": 181,
    "start_time": "2022-11-11T12:06:48.505Z"
   },
   {
    "duration": 202,
    "start_time": "2022-11-11T12:06:56.845Z"
   },
   {
    "duration": 380,
    "start_time": "2022-11-11T12:08:17.856Z"
   },
   {
    "duration": 211,
    "start_time": "2022-11-11T12:09:26.295Z"
   },
   {
    "duration": 220,
    "start_time": "2022-11-11T12:09:52.021Z"
   },
   {
    "duration": 201,
    "start_time": "2022-11-11T12:10:00.379Z"
   },
   {
    "duration": 219,
    "start_time": "2022-11-11T12:10:46.488Z"
   },
   {
    "duration": 184,
    "start_time": "2022-11-11T12:11:21.598Z"
   },
   {
    "duration": 183,
    "start_time": "2022-11-11T12:11:38.053Z"
   },
   {
    "duration": 10,
    "start_time": "2022-11-11T12:12:35.348Z"
   },
   {
    "duration": 8,
    "start_time": "2022-11-11T12:22:30.563Z"
   },
   {
    "duration": 8,
    "start_time": "2022-11-11T12:23:17.712Z"
   },
   {
    "duration": 9,
    "start_time": "2022-11-11T12:24:40.905Z"
   },
   {
    "duration": 15,
    "start_time": "2022-11-11T12:27:25.330Z"
   },
   {
    "duration": 54,
    "start_time": "2022-11-11T12:36:04.533Z"
   },
   {
    "duration": 256,
    "start_time": "2022-11-11T12:36:10.643Z"
   },
   {
    "duration": 190,
    "start_time": "2022-11-11T12:37:01.673Z"
   },
   {
    "duration": 10,
    "start_time": "2022-11-11T12:52:24.490Z"
   },
   {
    "duration": 11,
    "start_time": "2022-11-11T12:52:29.199Z"
   },
   {
    "duration": 3,
    "start_time": "2022-11-11T12:52:44.460Z"
   },
   {
    "duration": 41173,
    "start_time": "2022-11-11T12:52:51.821Z"
   },
   {
    "duration": 365,
    "start_time": "2022-11-11T12:53:37.563Z"
   },
   {
    "duration": 59071,
    "start_time": "2022-11-11T12:54:36.758Z"
   },
   {
    "duration": 50,
    "start_time": "2022-11-11T13:07:23.363Z"
   },
   {
    "duration": 57,
    "start_time": "2022-11-11T13:07:35.709Z"
   },
   {
    "duration": 12,
    "start_time": "2022-11-11T13:08:05.110Z"
   },
   {
    "duration": 9,
    "start_time": "2022-11-11T13:08:15.853Z"
   },
   {
    "duration": 54,
    "start_time": "2022-11-11T15:09:35.836Z"
   },
   {
    "duration": 43,
    "start_time": "2022-11-11T15:09:40.574Z"
   },
   {
    "duration": 1524,
    "start_time": "2022-11-11T15:09:51.755Z"
   },
   {
    "duration": 116,
    "start_time": "2022-11-11T15:09:53.281Z"
   },
   {
    "duration": 13,
    "start_time": "2022-11-11T15:09:53.398Z"
   },
   {
    "duration": 8,
    "start_time": "2022-11-11T15:09:53.412Z"
   },
   {
    "duration": 31,
    "start_time": "2022-11-11T15:09:53.421Z"
   },
   {
    "duration": 7,
    "start_time": "2022-11-11T15:09:53.454Z"
   },
   {
    "duration": 31,
    "start_time": "2022-11-11T15:09:53.463Z"
   },
   {
    "duration": 313,
    "start_time": "2022-11-11T15:09:53.496Z"
   },
   {
    "duration": 180,
    "start_time": "2022-11-11T15:09:53.811Z"
   },
   {
    "duration": 181,
    "start_time": "2022-11-11T15:09:53.993Z"
   },
   {
    "duration": 130,
    "start_time": "2022-11-11T15:09:54.175Z"
   },
   {
    "duration": 313,
    "start_time": "2022-11-11T15:09:54.307Z"
   },
   {
    "duration": 370,
    "start_time": "2022-11-11T15:09:54.622Z"
   },
   {
    "duration": 410,
    "start_time": "2022-11-11T15:09:54.993Z"
   },
   {
    "duration": 5,
    "start_time": "2022-11-11T15:09:55.404Z"
   },
   {
    "duration": 12,
    "start_time": "2022-11-11T15:09:55.410Z"
   },
   {
    "duration": 27,
    "start_time": "2022-11-11T15:09:55.423Z"
   },
   {
    "duration": 82,
    "start_time": "2022-11-11T15:09:55.452Z"
   },
   {
    "duration": 197,
    "start_time": "2022-11-11T15:09:55.537Z"
   },
   {
    "duration": 21,
    "start_time": "2022-11-11T15:09:55.736Z"
   },
   {
    "duration": 203,
    "start_time": "2022-11-11T15:43:44.668Z"
   },
   {
    "duration": 94,
    "start_time": "2022-11-11T15:44:57.787Z"
   },
   {
    "duration": 3,
    "start_time": "2022-11-11T15:45:54.407Z"
   },
   {
    "duration": 95,
    "start_time": "2022-11-11T15:45:55.409Z"
   },
   {
    "duration": 113,
    "start_time": "2022-11-11T15:46:18.465Z"
   },
   {
    "duration": 4,
    "start_time": "2022-11-11T15:46:46.833Z"
   },
   {
    "duration": 105,
    "start_time": "2022-11-11T15:46:47.735Z"
   },
   {
    "duration": 154,
    "start_time": "2022-11-11T15:47:53.542Z"
   },
   {
    "duration": 147,
    "start_time": "2022-11-11T15:48:49.678Z"
   },
   {
    "duration": 1411,
    "start_time": "2022-11-11T15:55:58.903Z"
   },
   {
    "duration": 40,
    "start_time": "2022-11-11T15:56:00.316Z"
   },
   {
    "duration": 12,
    "start_time": "2022-11-11T15:56:00.357Z"
   },
   {
    "duration": 30,
    "start_time": "2022-11-11T15:56:00.371Z"
   },
   {
    "duration": 35,
    "start_time": "2022-11-11T15:56:00.403Z"
   },
   {
    "duration": 16,
    "start_time": "2022-11-11T15:56:00.440Z"
   },
   {
    "duration": 43,
    "start_time": "2022-11-11T15:56:00.458Z"
   },
   {
    "duration": 6,
    "start_time": "2022-11-11T15:56:00.503Z"
   },
   {
    "duration": 151,
    "start_time": "2022-11-11T15:56:00.511Z"
   },
   {
    "duration": 200,
    "start_time": "2022-11-11T15:56:00.666Z"
   },
   {
    "duration": 195,
    "start_time": "2022-11-11T15:56:00.867Z"
   },
   {
    "duration": 176,
    "start_time": "2022-11-11T15:56:01.064Z"
   },
   {
    "duration": 302,
    "start_time": "2022-11-11T15:56:01.242Z"
   },
   {
    "duration": 244,
    "start_time": "2022-11-11T15:56:01.546Z"
   },
   {
    "duration": 408,
    "start_time": "2022-11-11T15:56:01.791Z"
   },
   {
    "duration": 4,
    "start_time": "2022-11-11T15:56:02.200Z"
   },
   {
    "duration": 26,
    "start_time": "2022-11-11T15:56:02.206Z"
   },
   {
    "duration": 48,
    "start_time": "2022-11-11T15:56:02.234Z"
   },
   {
    "duration": 48,
    "start_time": "2022-11-11T15:56:02.284Z"
   },
   {
    "duration": 11,
    "start_time": "2022-11-11T15:56:02.335Z"
   },
   {
    "duration": 110,
    "start_time": "2022-11-11T15:56:02.433Z"
   },
   {
    "duration": 104,
    "start_time": "2022-11-11T15:56:35.046Z"
   },
   {
    "duration": 211,
    "start_time": "2022-11-11T15:56:49.978Z"
   },
   {
    "duration": 105,
    "start_time": "2022-11-11T15:57:10.190Z"
   },
   {
    "duration": 182,
    "start_time": "2022-11-11T15:57:18.498Z"
   },
   {
    "duration": 110,
    "start_time": "2022-11-11T15:57:35.700Z"
   },
   {
    "duration": 110,
    "start_time": "2022-11-11T15:58:28.891Z"
   },
   {
    "duration": 174,
    "start_time": "2022-11-11T15:58:53.076Z"
   },
   {
    "duration": 163,
    "start_time": "2022-11-11T15:59:13.403Z"
   },
   {
    "duration": 191,
    "start_time": "2022-11-11T16:01:54.931Z"
   },
   {
    "duration": 188,
    "start_time": "2022-11-11T16:02:02.050Z"
   },
   {
    "duration": 1401,
    "start_time": "2022-11-11T16:02:47.461Z"
   },
   {
    "duration": 39,
    "start_time": "2022-11-11T16:02:48.864Z"
   },
   {
    "duration": 13,
    "start_time": "2022-11-11T16:02:48.904Z"
   },
   {
    "duration": 6,
    "start_time": "2022-11-11T16:02:48.919Z"
   },
   {
    "duration": 22,
    "start_time": "2022-11-11T16:02:48.926Z"
   },
   {
    "duration": 10,
    "start_time": "2022-11-11T16:02:48.950Z"
   },
   {
    "duration": 25,
    "start_time": "2022-11-11T16:02:48.962Z"
   },
   {
    "duration": 5,
    "start_time": "2022-11-11T16:02:48.988Z"
   },
   {
    "duration": 154,
    "start_time": "2022-11-11T16:02:48.994Z"
   },
   {
    "duration": 210,
    "start_time": "2022-11-11T16:02:49.151Z"
   },
   {
    "duration": 197,
    "start_time": "2022-11-11T16:02:49.363Z"
   },
   {
    "duration": 166,
    "start_time": "2022-11-11T16:02:49.561Z"
   },
   {
    "duration": 196,
    "start_time": "2022-11-11T16:02:49.729Z"
   },
   {
    "duration": 524,
    "start_time": "2022-11-11T16:02:49.927Z"
   },
   {
    "duration": 7,
    "start_time": "2022-11-11T16:02:50.453Z"
   },
   {
    "duration": 10,
    "start_time": "2022-11-11T16:02:50.462Z"
   },
   {
    "duration": 72,
    "start_time": "2022-11-11T16:02:50.474Z"
   },
   {
    "duration": 9,
    "start_time": "2022-11-11T16:02:50.553Z"
   },
   {
    "duration": 181,
    "start_time": "2022-11-11T16:02:50.564Z"
   },
   {
    "duration": 126,
    "start_time": "2022-11-11T16:02:50.747Z"
   },
   {
    "duration": 101,
    "start_time": "2022-11-11T16:09:52.972Z"
   },
   {
    "duration": 111,
    "start_time": "2022-11-11T16:10:48.977Z"
   },
   {
    "duration": 108,
    "start_time": "2022-11-11T16:11:05.373Z"
   },
   {
    "duration": 104,
    "start_time": "2022-11-11T16:11:33.754Z"
   },
   {
    "duration": 169,
    "start_time": "2022-11-11T16:12:13.131Z"
   },
   {
    "duration": 164,
    "start_time": "2022-11-11T16:13:35.474Z"
   },
   {
    "duration": 173,
    "start_time": "2022-11-11T16:14:33.864Z"
   },
   {
    "duration": 181,
    "start_time": "2022-11-11T16:14:35.189Z"
   },
   {
    "duration": 208,
    "start_time": "2022-11-11T16:39:16.758Z"
   },
   {
    "duration": 189,
    "start_time": "2022-11-11T16:42:21.943Z"
   },
   {
    "duration": 253,
    "start_time": "2022-11-11T16:51:41.560Z"
   },
   {
    "duration": 1324,
    "start_time": "2022-11-11T16:56:14.579Z"
   },
   {
    "duration": 38,
    "start_time": "2022-11-11T16:56:15.905Z"
   },
   {
    "duration": 11,
    "start_time": "2022-11-11T16:56:15.945Z"
   },
   {
    "duration": 9,
    "start_time": "2022-11-11T16:56:15.958Z"
   },
   {
    "duration": 26,
    "start_time": "2022-11-11T16:56:15.969Z"
   },
   {
    "duration": 5,
    "start_time": "2022-11-11T16:56:15.997Z"
   },
   {
    "duration": 31,
    "start_time": "2022-11-11T16:56:16.003Z"
   },
   {
    "duration": 4,
    "start_time": "2022-11-11T16:56:16.035Z"
   },
   {
    "duration": 130,
    "start_time": "2022-11-11T16:56:16.041Z"
   },
   {
    "duration": 191,
    "start_time": "2022-11-11T16:56:16.174Z"
   },
   {
    "duration": 232,
    "start_time": "2022-11-11T16:56:16.366Z"
   },
   {
    "duration": 174,
    "start_time": "2022-11-11T16:56:16.600Z"
   },
   {
    "duration": 168,
    "start_time": "2022-11-11T16:56:16.776Z"
   },
   {
    "duration": 465,
    "start_time": "2022-11-11T16:56:16.945Z"
   },
   {
    "duration": 4,
    "start_time": "2022-11-11T16:56:17.412Z"
   },
   {
    "duration": 15,
    "start_time": "2022-11-11T16:56:17.418Z"
   },
   {
    "duration": 24,
    "start_time": "2022-11-11T16:56:17.434Z"
   },
   {
    "duration": 77,
    "start_time": "2022-11-11T16:56:17.460Z"
   },
   {
    "duration": 96,
    "start_time": "2022-11-11T16:56:17.540Z"
   },
   {
    "duration": 103,
    "start_time": "2022-11-11T16:56:17.638Z"
   },
   {
    "duration": 1387,
    "start_time": "2022-11-11T17:03:50.603Z"
   },
   {
    "duration": 39,
    "start_time": "2022-11-11T17:03:51.992Z"
   },
   {
    "duration": 11,
    "start_time": "2022-11-11T17:03:52.033Z"
   },
   {
    "duration": 10,
    "start_time": "2022-11-11T17:03:52.046Z"
   },
   {
    "duration": 14,
    "start_time": "2022-11-11T17:03:52.057Z"
   },
   {
    "duration": 4,
    "start_time": "2022-11-11T17:03:52.073Z"
   },
   {
    "duration": 28,
    "start_time": "2022-11-11T17:03:52.078Z"
   },
   {
    "duration": 4,
    "start_time": "2022-11-11T17:03:52.107Z"
   },
   {
    "duration": 138,
    "start_time": "2022-11-11T17:03:52.113Z"
   },
   {
    "duration": 191,
    "start_time": "2022-11-11T17:03:52.254Z"
   },
   {
    "duration": 211,
    "start_time": "2022-11-11T17:03:52.447Z"
   },
   {
    "duration": 228,
    "start_time": "2022-11-11T17:03:52.660Z"
   },
   {
    "duration": 166,
    "start_time": "2022-11-11T17:03:52.890Z"
   },
   {
    "duration": 428,
    "start_time": "2022-11-11T17:03:53.057Z"
   },
   {
    "duration": 5,
    "start_time": "2022-11-11T17:03:53.487Z"
   },
   {
    "duration": 13,
    "start_time": "2022-11-11T17:03:53.494Z"
   },
   {
    "duration": 32,
    "start_time": "2022-11-11T17:03:53.509Z"
   },
   {
    "duration": 90,
    "start_time": "2022-11-11T17:03:53.543Z"
   },
   {
    "duration": 98,
    "start_time": "2022-11-11T17:03:53.636Z"
   },
   {
    "duration": 98,
    "start_time": "2022-11-11T17:03:53.736Z"
   }
  ],
  "kernelspec": {
   "display_name": "Python 3 (ipykernel)",
   "language": "python",
   "name": "python3"
  },
  "language_info": {
   "codemirror_mode": {
    "name": "ipython",
    "version": 3
   },
   "file_extension": ".py",
   "mimetype": "text/x-python",
   "name": "python",
   "nbconvert_exporter": "python",
   "pygments_lexer": "ipython3",
   "version": "3.9.12"
  },
  "toc": {
   "base_numbering": 1,
   "nav_menu": {},
   "number_sections": true,
   "sideBar": true,
   "skip_h1_title": true,
   "title_cell": "Содержание",
   "title_sidebar": "Contents",
   "toc_cell": true,
   "toc_position": {},
   "toc_section_display": true,
   "toc_window_display": true
  }
 },
 "nbformat": 4,
 "nbformat_minor": 2
}
