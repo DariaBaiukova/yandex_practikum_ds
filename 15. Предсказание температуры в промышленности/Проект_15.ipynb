{
 "cells": [
  {
   "cell_type": "markdown",
   "metadata": {},
   "source": [
    "# Описание задачи"
   ]
  },
  {
   "cell_type": "markdown",
   "metadata": {},
   "source": [
    "Чтобы оптимизировать производственные расходы, металлургический комбинат ООО «Так закаляем сталь» решил уменьшить потребление электроэнергии на этапе обработки стали. Вам предстоит построить модель, которая предскажет температуру стали."
   ]
  },
  {
   "cell_type": "markdown",
   "metadata": {},
   "source": [
    "Сталь обрабатывают в металлическом ковше вместимостью около 100 тонн. Чтобы ковш выдерживал высокие температуры, изнутри его облицовывают огнеупорным кирпичом. Расплавленную сталь заливают в ковш и подогревают до нужной температуры графитовыми электродами. Они установлены в крышке ковша.\n",
    "\n",
    "Из сплава выводится сера (десульфурация), добавлением примесей корректируется химический состав и отбираются пробы. Сталь легируют — изменяют её состав — подавая куски сплава из бункера для сыпучих материалов или проволоку через специальный трайб-аппарат (англ. tribe, «масса»).\n",
    "\n",
    "Перед тем как первый раз ввести легирующие добавки, измеряют температуру стали и производят её химический анализ. Потом температуру на несколько минут повышают, добавляют легирующие материалы и продувают сплав инертным газом. Затем его перемешивают и снова проводят измерения. Такой цикл повторяется до достижения целевого химического состава и оптимальной температуры плавки.\n",
    "\n",
    "Тогда расплавленная сталь отправляется на доводку металла или поступает в машину непрерывной разливки. Оттуда готовый продукт выходит в виде заготовок-слябов (англ. *slab*, «плита»).\n"
   ]
  },
  {
   "cell_type": "markdown",
   "metadata": {},
   "source": [
    "# Описание данных\n",
    "\n",
    "Данные состоят из файлов, полученных из разных источников:\n",
    "\n",
    "- `data_arc.csv` — данные об электродах;\n",
    "- `data_bulk.csv` — данные о подаче сыпучих материалов (объём);\n",
    "- `data_bulk_time.csv` *—* данные о подаче сыпучих материалов (время);\n",
    "- `data_gas.csv` — данные о продувке сплава газом;\n",
    "- `data_temp.csv` — результаты измерения температуры;\n",
    "- `data_wire.csv` — данные о проволочных материалах (объём);\n",
    "- `data_wire_time.csv` — данные о проволочных материалах (время).\n",
    "\n",
    "Во всех файлах столбец `key` содержит номер партии. В файлах может быть несколько строк с одинаковым значением `key`: они соответствуют разным итерациям обработки.\n"
   ]
  },
  {
   "cell_type": "markdown",
   "metadata": {},
   "source": [
    "# План работы"
   ]
  },
  {
   "cell_type": "markdown",
   "metadata": {},
   "source": [
    "1.Изучение данных.Заполнение и удаление пропусков.  \n",
    "2.Подготовка данных.Объединение данных по ключу. Разделение данных на обучающую и тестовую выборку,выделение целевого признака.  \n",
    "3.Обучение регрессионных моделей RandomForestRegressor,CatBoost.  \n",
    "4.Оценка эффективности лучшей модели на тестовой выборке,сравнение с константной моделью.  \n",
    "5.Отчет."
   ]
  },
  {
   "cell_type": "markdown",
   "metadata": {},
   "source": [
    "## Подготовка"
   ]
  },
  {
   "cell_type": "code",
   "execution_count": 1,
   "metadata": {},
   "outputs": [],
   "source": [
    "import pandas as pd\n",
    "import matplotlib.pyplot as plt\n",
    "import seaborn as sns\n",
    "from sklearn.model_selection import train_test_split,RandomizedSearchCV\n",
    "from sklearn.dummy import DummyRegressor\n",
    "from sklearn.metrics import mean_absolute_error\n",
    "from sklearn.ensemble import RandomForestRegressor\n",
    "from catboost import CatBoostRegressor as cat"
   ]
  },
  {
   "cell_type": "code",
   "execution_count": 2,
   "metadata": {},
   "outputs": [],
   "source": [
    "random_state = 120922"
   ]
  },
  {
   "cell_type": "markdown",
   "metadata": {},
   "source": [
    "### Изучение данных об электродах"
   ]
  },
  {
   "cell_type": "code",
   "execution_count": 3,
   "metadata": {
    "scrolled": true
   },
   "outputs": [
    {
     "data": {
      "text/html": [
       "<div>\n",
       "<style scoped>\n",
       "    .dataframe tbody tr th:only-of-type {\n",
       "        vertical-align: middle;\n",
       "    }\n",
       "\n",
       "    .dataframe tbody tr th {\n",
       "        vertical-align: top;\n",
       "    }\n",
       "\n",
       "    .dataframe thead th {\n",
       "        text-align: right;\n",
       "    }\n",
       "</style>\n",
       "<table border=\"1\" class=\"dataframe\">\n",
       "  <thead>\n",
       "    <tr style=\"text-align: right;\">\n",
       "      <th></th>\n",
       "      <th>key</th>\n",
       "      <th>Начало нагрева дугой</th>\n",
       "      <th>Конец нагрева дугой</th>\n",
       "      <th>Активная мощность</th>\n",
       "      <th>Реактивная мощность</th>\n",
       "    </tr>\n",
       "  </thead>\n",
       "  <tbody>\n",
       "    <tr>\n",
       "      <th>0</th>\n",
       "      <td>1</td>\n",
       "      <td>2019-05-03 11:02:14</td>\n",
       "      <td>2019-05-03 11:06:02</td>\n",
       "      <td>0.976059</td>\n",
       "      <td>0.687084</td>\n",
       "    </tr>\n",
       "    <tr>\n",
       "      <th>1</th>\n",
       "      <td>1</td>\n",
       "      <td>2019-05-03 11:07:28</td>\n",
       "      <td>2019-05-03 11:10:33</td>\n",
       "      <td>0.805607</td>\n",
       "      <td>0.520285</td>\n",
       "    </tr>\n",
       "    <tr>\n",
       "      <th>2</th>\n",
       "      <td>1</td>\n",
       "      <td>2019-05-03 11:11:44</td>\n",
       "      <td>2019-05-03 11:14:36</td>\n",
       "      <td>0.744363</td>\n",
       "      <td>0.498805</td>\n",
       "    </tr>\n",
       "    <tr>\n",
       "      <th>3</th>\n",
       "      <td>1</td>\n",
       "      <td>2019-05-03 11:18:14</td>\n",
       "      <td>2019-05-03 11:24:19</td>\n",
       "      <td>1.659363</td>\n",
       "      <td>1.062669</td>\n",
       "    </tr>\n",
       "    <tr>\n",
       "      <th>4</th>\n",
       "      <td>1</td>\n",
       "      <td>2019-05-03 11:26:09</td>\n",
       "      <td>2019-05-03 11:28:37</td>\n",
       "      <td>0.692755</td>\n",
       "      <td>0.414397</td>\n",
       "    </tr>\n",
       "  </tbody>\n",
       "</table>\n",
       "</div>"
      ],
      "text/plain": [
       "   key Начало нагрева дугой  Конец нагрева дугой  Активная мощность  \\\n",
       "0    1  2019-05-03 11:02:14  2019-05-03 11:06:02           0.976059   \n",
       "1    1  2019-05-03 11:07:28  2019-05-03 11:10:33           0.805607   \n",
       "2    1  2019-05-03 11:11:44  2019-05-03 11:14:36           0.744363   \n",
       "3    1  2019-05-03 11:18:14  2019-05-03 11:24:19           1.659363   \n",
       "4    1  2019-05-03 11:26:09  2019-05-03 11:28:37           0.692755   \n",
       "\n",
       "   Реактивная мощность  \n",
       "0             0.687084  \n",
       "1             0.520285  \n",
       "2             0.498805  \n",
       "3             1.062669  \n",
       "4             0.414397  "
      ]
     },
     "execution_count": 3,
     "metadata": {},
     "output_type": "execute_result"
    }
   ],
   "source": [
    "data_arc = pd.read_csv('/datasets/final_steel/data_arc.csv')\n",
    "data_arc.head()"
   ]
  },
  {
   "cell_type": "code",
   "execution_count": 4,
   "metadata": {},
   "outputs": [
    {
     "name": "stdout",
     "output_type": "stream",
     "text": [
      "<class 'pandas.core.frame.DataFrame'>\n",
      "RangeIndex: 14876 entries, 0 to 14875\n",
      "Data columns (total 5 columns):\n",
      " #   Column                Non-Null Count  Dtype  \n",
      "---  ------                --------------  -----  \n",
      " 0   key                   14876 non-null  int64  \n",
      " 1   Начало нагрева дугой  14876 non-null  object \n",
      " 2   Конец нагрева дугой   14876 non-null  object \n",
      " 3   Активная мощность     14876 non-null  float64\n",
      " 4   Реактивная мощность   14876 non-null  float64\n",
      "dtypes: float64(2), int64(1), object(2)\n",
      "memory usage: 581.2+ KB\n"
     ]
    }
   ],
   "source": [
    "data_arc.info()"
   ]
  },
  {
   "cell_type": "code",
   "execution_count": 5,
   "metadata": {},
   "outputs": [
    {
     "data": {
      "text/html": [
       "<div>\n",
       "<style scoped>\n",
       "    .dataframe tbody tr th:only-of-type {\n",
       "        vertical-align: middle;\n",
       "    }\n",
       "\n",
       "    .dataframe tbody tr th {\n",
       "        vertical-align: top;\n",
       "    }\n",
       "\n",
       "    .dataframe thead th {\n",
       "        text-align: right;\n",
       "    }\n",
       "</style>\n",
       "<table border=\"1\" class=\"dataframe\">\n",
       "  <thead>\n",
       "    <tr style=\"text-align: right;\">\n",
       "      <th></th>\n",
       "      <th>key</th>\n",
       "      <th>Активная мощность</th>\n",
       "      <th>Реактивная мощность</th>\n",
       "    </tr>\n",
       "  </thead>\n",
       "  <tbody>\n",
       "    <tr>\n",
       "      <th>count</th>\n",
       "      <td>14876.000000</td>\n",
       "      <td>14876.000000</td>\n",
       "      <td>14876.000000</td>\n",
       "    </tr>\n",
       "    <tr>\n",
       "      <th>mean</th>\n",
       "      <td>1615.220422</td>\n",
       "      <td>0.670441</td>\n",
       "      <td>0.452592</td>\n",
       "    </tr>\n",
       "    <tr>\n",
       "      <th>std</th>\n",
       "      <td>934.571502</td>\n",
       "      <td>0.408159</td>\n",
       "      <td>5.878702</td>\n",
       "    </tr>\n",
       "    <tr>\n",
       "      <th>min</th>\n",
       "      <td>1.000000</td>\n",
       "      <td>0.030002</td>\n",
       "      <td>-715.504924</td>\n",
       "    </tr>\n",
       "    <tr>\n",
       "      <th>25%</th>\n",
       "      <td>806.000000</td>\n",
       "      <td>0.395297</td>\n",
       "      <td>0.290991</td>\n",
       "    </tr>\n",
       "    <tr>\n",
       "      <th>50%</th>\n",
       "      <td>1617.000000</td>\n",
       "      <td>0.555517</td>\n",
       "      <td>0.415962</td>\n",
       "    </tr>\n",
       "    <tr>\n",
       "      <th>75%</th>\n",
       "      <td>2429.000000</td>\n",
       "      <td>0.857034</td>\n",
       "      <td>0.637371</td>\n",
       "    </tr>\n",
       "    <tr>\n",
       "      <th>max</th>\n",
       "      <td>3241.000000</td>\n",
       "      <td>3.731596</td>\n",
       "      <td>2.676388</td>\n",
       "    </tr>\n",
       "  </tbody>\n",
       "</table>\n",
       "</div>"
      ],
      "text/plain": [
       "                key  Активная мощность  Реактивная мощность\n",
       "count  14876.000000       14876.000000         14876.000000\n",
       "mean    1615.220422           0.670441             0.452592\n",
       "std      934.571502           0.408159             5.878702\n",
       "min        1.000000           0.030002          -715.504924\n",
       "25%      806.000000           0.395297             0.290991\n",
       "50%     1617.000000           0.555517             0.415962\n",
       "75%     2429.000000           0.857034             0.637371\n",
       "max     3241.000000           3.731596             2.676388"
      ]
     },
     "execution_count": 5,
     "metadata": {},
     "output_type": "execute_result"
    }
   ],
   "source": [
    "data_arc.describe()"
   ]
  },
  {
   "cell_type": "code",
   "execution_count": 6,
   "metadata": {},
   "outputs": [],
   "source": [
    "data_arc = data_arc[data_arc['Реактивная мощность']> 0] #уберем отрицательную мощность\n"
   ]
  },
  {
   "cell_type": "code",
   "execution_count": 7,
   "metadata": {},
   "outputs": [
    {
     "data": {
      "text/html": [
       "<div>\n",
       "<style scoped>\n",
       "    .dataframe tbody tr th:only-of-type {\n",
       "        vertical-align: middle;\n",
       "    }\n",
       "\n",
       "    .dataframe tbody tr th {\n",
       "        vertical-align: top;\n",
       "    }\n",
       "\n",
       "    .dataframe thead th {\n",
       "        text-align: right;\n",
       "    }\n",
       "</style>\n",
       "<table border=\"1\" class=\"dataframe\">\n",
       "  <thead>\n",
       "    <tr style=\"text-align: right;\">\n",
       "      <th></th>\n",
       "      <th>key</th>\n",
       "      <th>Активная мощность</th>\n",
       "      <th>Реактивная мощность</th>\n",
       "    </tr>\n",
       "  </thead>\n",
       "  <tbody>\n",
       "    <tr>\n",
       "      <th>count</th>\n",
       "      <td>14875.000000</td>\n",
       "      <td>14875.000000</td>\n",
       "      <td>14875.000000</td>\n",
       "    </tr>\n",
       "    <tr>\n",
       "      <th>mean</th>\n",
       "      <td>1615.186756</td>\n",
       "      <td>0.670453</td>\n",
       "      <td>0.500723</td>\n",
       "    </tr>\n",
       "    <tr>\n",
       "      <th>std</th>\n",
       "      <td>934.593897</td>\n",
       "      <td>0.408170</td>\n",
       "      <td>0.310880</td>\n",
       "    </tr>\n",
       "    <tr>\n",
       "      <th>min</th>\n",
       "      <td>1.000000</td>\n",
       "      <td>0.030002</td>\n",
       "      <td>0.020806</td>\n",
       "    </tr>\n",
       "    <tr>\n",
       "      <th>25%</th>\n",
       "      <td>806.000000</td>\n",
       "      <td>0.395295</td>\n",
       "      <td>0.291003</td>\n",
       "    </tr>\n",
       "    <tr>\n",
       "      <th>50%</th>\n",
       "      <td>1617.000000</td>\n",
       "      <td>0.555565</td>\n",
       "      <td>0.415984</td>\n",
       "    </tr>\n",
       "    <tr>\n",
       "      <th>75%</th>\n",
       "      <td>2429.000000</td>\n",
       "      <td>0.857049</td>\n",
       "      <td>0.637403</td>\n",
       "    </tr>\n",
       "    <tr>\n",
       "      <th>max</th>\n",
       "      <td>3241.000000</td>\n",
       "      <td>3.731596</td>\n",
       "      <td>2.676388</td>\n",
       "    </tr>\n",
       "  </tbody>\n",
       "</table>\n",
       "</div>"
      ],
      "text/plain": [
       "                key  Активная мощность  Реактивная мощность\n",
       "count  14875.000000       14875.000000         14875.000000\n",
       "mean    1615.186756           0.670453             0.500723\n",
       "std      934.593897           0.408170             0.310880\n",
       "min        1.000000           0.030002             0.020806\n",
       "25%      806.000000           0.395295             0.291003\n",
       "50%     1617.000000           0.555565             0.415984\n",
       "75%     2429.000000           0.857049             0.637403\n",
       "max     3241.000000           3.731596             2.676388"
      ]
     },
     "execution_count": 7,
     "metadata": {},
     "output_type": "execute_result"
    }
   ],
   "source": [
    "data_arc.describe()"
   ]
  },
  {
   "cell_type": "code",
   "execution_count": 8,
   "metadata": {
    "scrolled": true
   },
   "outputs": [
    {
     "data": {
      "image/png": "[encoded data removed]",
      "text/plain": [
       "<Figure size 432x288 with 1 Axes>"
      ]
     },
     "metadata": {
      "needs_background": "light"
     },
     "output_type": "display_data"
    }
   ],
   "source": [
    "plt.hist(data_arc['key'].value_counts(),bins=16)\n",
    "plt.title('Количество итераций для каждого ключа')\n",
    "plt.show()\n"
   ]
  },
  {
   "cell_type": "code",
   "execution_count": 9,
   "metadata": {},
   "outputs": [
    {
     "data": {
      "image/png": "[encoded data removed]",
      "text/plain": [
       "<Figure size 432x288 with 1 Axes>"
      ]
     },
     "metadata": {
      "needs_background": "light"
     },
     "output_type": "display_data"
    }
   ],
   "source": [
    "sns.histplot(data_arc[['Реактивная мощность','Активная мощность']])\n",
    "plt.title('Распределение мощностей')\n",
    "plt.show()"
   ]
  },
  {
   "cell_type": "markdown",
   "metadata": {},
   "source": [
    "В таблице data_arc удален выброс по мощности,отсутствуют пропуски в данных. На каждый ключ,в основном,приходится несколько итераций.Чаще всего количество итераций = 4 ,максимальное количество итераций 14.Медианная активная мощность 0,56.Медианная реактивная мощность 0,41."
   ]
  },
  {
   "cell_type": "markdown",
   "metadata": {},
   "source": [
    "### Изучение данных о подаче сыпучих материалов"
   ]
  },
  {
   "cell_type": "code",
   "execution_count": 10,
   "metadata": {},
   "outputs": [
    {
     "data": {
      "text/html": [
       "<div>\n",
       "<style scoped>\n",
       "    .dataframe tbody tr th:only-of-type {\n",
       "        vertical-align: middle;\n",
       "    }\n",
       "\n",
       "    .dataframe tbody tr th {\n",
       "        vertical-align: top;\n",
       "    }\n",
       "\n",
       "    .dataframe thead th {\n",
       "        text-align: right;\n",
       "    }\n",
       "</style>\n",
       "<table border=\"1\" class=\"dataframe\">\n",
       "  <thead>\n",
       "    <tr style=\"text-align: right;\">\n",
       "      <th></th>\n",
       "      <th>key</th>\n",
       "      <th>Bulk 1</th>\n",
       "      <th>Bulk 2</th>\n",
       "      <th>Bulk 3</th>\n",
       "      <th>Bulk 4</th>\n",
       "      <th>Bulk 5</th>\n",
       "      <th>Bulk 6</th>\n",
       "      <th>Bulk 7</th>\n",
       "      <th>Bulk 8</th>\n",
       "      <th>Bulk 9</th>\n",
       "      <th>Bulk 10</th>\n",
       "      <th>Bulk 11</th>\n",
       "      <th>Bulk 12</th>\n",
       "      <th>Bulk 13</th>\n",
       "      <th>Bulk 14</th>\n",
       "      <th>Bulk 15</th>\n",
       "    </tr>\n",
       "  </thead>\n",
       "  <tbody>\n",
       "    <tr>\n",
       "      <th>0</th>\n",
       "      <td>1</td>\n",
       "      <td>NaN</td>\n",
       "      <td>NaN</td>\n",
       "      <td>NaN</td>\n",
       "      <td>43.0</td>\n",
       "      <td>NaN</td>\n",
       "      <td>NaN</td>\n",
       "      <td>NaN</td>\n",
       "      <td>NaN</td>\n",
       "      <td>NaN</td>\n",
       "      <td>NaN</td>\n",
       "      <td>NaN</td>\n",
       "      <td>206.0</td>\n",
       "      <td>NaN</td>\n",
       "      <td>150.0</td>\n",
       "      <td>154.0</td>\n",
       "    </tr>\n",
       "    <tr>\n",
       "      <th>1</th>\n",
       "      <td>2</td>\n",
       "      <td>NaN</td>\n",
       "      <td>NaN</td>\n",
       "      <td>NaN</td>\n",
       "      <td>73.0</td>\n",
       "      <td>NaN</td>\n",
       "      <td>NaN</td>\n",
       "      <td>NaN</td>\n",
       "      <td>NaN</td>\n",
       "      <td>NaN</td>\n",
       "      <td>NaN</td>\n",
       "      <td>NaN</td>\n",
       "      <td>206.0</td>\n",
       "      <td>NaN</td>\n",
       "      <td>149.0</td>\n",
       "      <td>154.0</td>\n",
       "    </tr>\n",
       "    <tr>\n",
       "      <th>2</th>\n",
       "      <td>3</td>\n",
       "      <td>NaN</td>\n",
       "      <td>NaN</td>\n",
       "      <td>NaN</td>\n",
       "      <td>34.0</td>\n",
       "      <td>NaN</td>\n",
       "      <td>NaN</td>\n",
       "      <td>NaN</td>\n",
       "      <td>NaN</td>\n",
       "      <td>NaN</td>\n",
       "      <td>NaN</td>\n",
       "      <td>NaN</td>\n",
       "      <td>205.0</td>\n",
       "      <td>NaN</td>\n",
       "      <td>152.0</td>\n",
       "      <td>153.0</td>\n",
       "    </tr>\n",
       "    <tr>\n",
       "      <th>3</th>\n",
       "      <td>4</td>\n",
       "      <td>NaN</td>\n",
       "      <td>NaN</td>\n",
       "      <td>NaN</td>\n",
       "      <td>81.0</td>\n",
       "      <td>NaN</td>\n",
       "      <td>NaN</td>\n",
       "      <td>NaN</td>\n",
       "      <td>NaN</td>\n",
       "      <td>NaN</td>\n",
       "      <td>NaN</td>\n",
       "      <td>NaN</td>\n",
       "      <td>207.0</td>\n",
       "      <td>NaN</td>\n",
       "      <td>153.0</td>\n",
       "      <td>154.0</td>\n",
       "    </tr>\n",
       "    <tr>\n",
       "      <th>4</th>\n",
       "      <td>5</td>\n",
       "      <td>NaN</td>\n",
       "      <td>NaN</td>\n",
       "      <td>NaN</td>\n",
       "      <td>78.0</td>\n",
       "      <td>NaN</td>\n",
       "      <td>NaN</td>\n",
       "      <td>NaN</td>\n",
       "      <td>NaN</td>\n",
       "      <td>NaN</td>\n",
       "      <td>NaN</td>\n",
       "      <td>NaN</td>\n",
       "      <td>203.0</td>\n",
       "      <td>NaN</td>\n",
       "      <td>151.0</td>\n",
       "      <td>152.0</td>\n",
       "    </tr>\n",
       "  </tbody>\n",
       "</table>\n",
       "</div>"
      ],
      "text/plain": [
       "   key  Bulk 1  Bulk 2  Bulk 3  Bulk 4  Bulk 5  Bulk 6  Bulk 7  Bulk 8  \\\n",
       "0    1     NaN     NaN     NaN    43.0     NaN     NaN     NaN     NaN   \n",
       "1    2     NaN     NaN     NaN    73.0     NaN     NaN     NaN     NaN   \n",
       "2    3     NaN     NaN     NaN    34.0     NaN     NaN     NaN     NaN   \n",
       "3    4     NaN     NaN     NaN    81.0     NaN     NaN     NaN     NaN   \n",
       "4    5     NaN     NaN     NaN    78.0     NaN     NaN     NaN     NaN   \n",
       "\n",
       "   Bulk 9  Bulk 10  Bulk 11  Bulk 12  Bulk 13  Bulk 14  Bulk 15  \n",
       "0     NaN      NaN      NaN    206.0      NaN    150.0    154.0  \n",
       "1     NaN      NaN      NaN    206.0      NaN    149.0    154.0  \n",
       "2     NaN      NaN      NaN    205.0      NaN    152.0    153.0  \n",
       "3     NaN      NaN      NaN    207.0      NaN    153.0    154.0  \n",
       "4     NaN      NaN      NaN    203.0      NaN    151.0    152.0  "
      ]
     },
     "execution_count": 10,
     "metadata": {},
     "output_type": "execute_result"
    }
   ],
   "source": [
    "data_bulk = pd.read_csv('/datasets/final_steel/data_bulk.csv')\n",
    "data_bulk.head()"
   ]
  },
  {
   "cell_type": "code",
   "execution_count": 11,
   "metadata": {},
   "outputs": [
    {
     "name": "stdout",
     "output_type": "stream",
     "text": [
      "<class 'pandas.core.frame.DataFrame'>\n",
      "RangeIndex: 3129 entries, 0 to 3128\n",
      "Data columns (total 16 columns):\n",
      " #   Column   Non-Null Count  Dtype  \n",
      "---  ------   --------------  -----  \n",
      " 0   key      3129 non-null   int64  \n",
      " 1   Bulk 1   252 non-null    float64\n",
      " 2   Bulk 2   22 non-null     float64\n",
      " 3   Bulk 3   1298 non-null   float64\n",
      " 4   Bulk 4   1014 non-null   float64\n",
      " 5   Bulk 5   77 non-null     float64\n",
      " 6   Bulk 6   576 non-null    float64\n",
      " 7   Bulk 7   25 non-null     float64\n",
      " 8   Bulk 8   1 non-null      float64\n",
      " 9   Bulk 9   19 non-null     float64\n",
      " 10  Bulk 10  176 non-null    float64\n",
      " 11  Bulk 11  177 non-null    float64\n",
      " 12  Bulk 12  2450 non-null   float64\n",
      " 13  Bulk 13  18 non-null     float64\n",
      " 14  Bulk 14  2806 non-null   float64\n",
      " 15  Bulk 15  2248 non-null   float64\n",
      "dtypes: float64(15), int64(1)\n",
      "memory usage: 391.2 KB\n"
     ]
    }
   ],
   "source": [
    "data_bulk.info()"
   ]
  },
  {
   "cell_type": "code",
   "execution_count": 12,
   "metadata": {},
   "outputs": [
    {
     "data": {
      "image/png": "[encoded data removed]",
      "text/plain": [
       "<Figure size 432x288 with 1 Axes>"
      ]
     },
     "metadata": {
      "needs_background": "light"
     },
     "output_type": "display_data"
    }
   ],
   "source": [
    "plt.hist(data_bulk['key'].value_counts())\n",
    "plt.title('Количество итераций для каждого ключа')\n",
    "plt.show()"
   ]
  },
  {
   "cell_type": "code",
   "execution_count": 13,
   "metadata": {},
   "outputs": [
    {
     "data": {
      "text/html": [
       "<div>\n",
       "<style scoped>\n",
       "    .dataframe tbody tr th:only-of-type {\n",
       "        vertical-align: middle;\n",
       "    }\n",
       "\n",
       "    .dataframe tbody tr th {\n",
       "        vertical-align: top;\n",
       "    }\n",
       "\n",
       "    .dataframe thead th {\n",
       "        text-align: right;\n",
       "    }\n",
       "</style>\n",
       "<table border=\"1\" class=\"dataframe\">\n",
       "  <thead>\n",
       "    <tr style=\"text-align: right;\">\n",
       "      <th></th>\n",
       "      <th>Bulk 1</th>\n",
       "      <th>Bulk 2</th>\n",
       "      <th>Bulk 3</th>\n",
       "      <th>Bulk 4</th>\n",
       "      <th>Bulk 5</th>\n",
       "      <th>Bulk 6</th>\n",
       "      <th>Bulk 7</th>\n",
       "      <th>Bulk 8</th>\n",
       "      <th>Bulk 9</th>\n",
       "      <th>Bulk 10</th>\n",
       "      <th>Bulk 11</th>\n",
       "      <th>Bulk 12</th>\n",
       "      <th>Bulk 13</th>\n",
       "      <th>Bulk 14</th>\n",
       "      <th>Bulk 15</th>\n",
       "    </tr>\n",
       "    <tr>\n",
       "      <th>key</th>\n",
       "      <th></th>\n",
       "      <th></th>\n",
       "      <th></th>\n",
       "      <th></th>\n",
       "      <th></th>\n",
       "      <th></th>\n",
       "      <th></th>\n",
       "      <th></th>\n",
       "      <th></th>\n",
       "      <th></th>\n",
       "      <th></th>\n",
       "      <th></th>\n",
       "      <th></th>\n",
       "      <th></th>\n",
       "      <th></th>\n",
       "    </tr>\n",
       "  </thead>\n",
       "  <tbody>\n",
       "    <tr>\n",
       "      <th>1</th>\n",
       "      <td>NaN</td>\n",
       "      <td>NaN</td>\n",
       "      <td>NaN</td>\n",
       "      <td>43.0</td>\n",
       "      <td>NaN</td>\n",
       "      <td>NaN</td>\n",
       "      <td>NaN</td>\n",
       "      <td>NaN</td>\n",
       "      <td>NaN</td>\n",
       "      <td>NaN</td>\n",
       "      <td>NaN</td>\n",
       "      <td>206.0</td>\n",
       "      <td>NaN</td>\n",
       "      <td>150.0</td>\n",
       "      <td>154.0</td>\n",
       "    </tr>\n",
       "    <tr>\n",
       "      <th>2</th>\n",
       "      <td>NaN</td>\n",
       "      <td>NaN</td>\n",
       "      <td>NaN</td>\n",
       "      <td>73.0</td>\n",
       "      <td>NaN</td>\n",
       "      <td>NaN</td>\n",
       "      <td>NaN</td>\n",
       "      <td>NaN</td>\n",
       "      <td>NaN</td>\n",
       "      <td>NaN</td>\n",
       "      <td>NaN</td>\n",
       "      <td>206.0</td>\n",
       "      <td>NaN</td>\n",
       "      <td>149.0</td>\n",
       "      <td>154.0</td>\n",
       "    </tr>\n",
       "    <tr>\n",
       "      <th>3</th>\n",
       "      <td>NaN</td>\n",
       "      <td>NaN</td>\n",
       "      <td>NaN</td>\n",
       "      <td>34.0</td>\n",
       "      <td>NaN</td>\n",
       "      <td>NaN</td>\n",
       "      <td>NaN</td>\n",
       "      <td>NaN</td>\n",
       "      <td>NaN</td>\n",
       "      <td>NaN</td>\n",
       "      <td>NaN</td>\n",
       "      <td>205.0</td>\n",
       "      <td>NaN</td>\n",
       "      <td>152.0</td>\n",
       "      <td>153.0</td>\n",
       "    </tr>\n",
       "    <tr>\n",
       "      <th>4</th>\n",
       "      <td>NaN</td>\n",
       "      <td>NaN</td>\n",
       "      <td>NaN</td>\n",
       "      <td>81.0</td>\n",
       "      <td>NaN</td>\n",
       "      <td>NaN</td>\n",
       "      <td>NaN</td>\n",
       "      <td>NaN</td>\n",
       "      <td>NaN</td>\n",
       "      <td>NaN</td>\n",
       "      <td>NaN</td>\n",
       "      <td>207.0</td>\n",
       "      <td>NaN</td>\n",
       "      <td>153.0</td>\n",
       "      <td>154.0</td>\n",
       "    </tr>\n",
       "    <tr>\n",
       "      <th>5</th>\n",
       "      <td>NaN</td>\n",
       "      <td>NaN</td>\n",
       "      <td>NaN</td>\n",
       "      <td>78.0</td>\n",
       "      <td>NaN</td>\n",
       "      <td>NaN</td>\n",
       "      <td>NaN</td>\n",
       "      <td>NaN</td>\n",
       "      <td>NaN</td>\n",
       "      <td>NaN</td>\n",
       "      <td>NaN</td>\n",
       "      <td>203.0</td>\n",
       "      <td>NaN</td>\n",
       "      <td>151.0</td>\n",
       "      <td>152.0</td>\n",
       "    </tr>\n",
       "  </tbody>\n",
       "</table>\n",
       "</div>"
      ],
      "text/plain": [
       "     Bulk 1  Bulk 2  Bulk 3  Bulk 4  Bulk 5  Bulk 6  Bulk 7  Bulk 8  Bulk 9  \\\n",
       "key                                                                           \n",
       "1       NaN     NaN     NaN    43.0     NaN     NaN     NaN     NaN     NaN   \n",
       "2       NaN     NaN     NaN    73.0     NaN     NaN     NaN     NaN     NaN   \n",
       "3       NaN     NaN     NaN    34.0     NaN     NaN     NaN     NaN     NaN   \n",
       "4       NaN     NaN     NaN    81.0     NaN     NaN     NaN     NaN     NaN   \n",
       "5       NaN     NaN     NaN    78.0     NaN     NaN     NaN     NaN     NaN   \n",
       "\n",
       "     Bulk 10  Bulk 11  Bulk 12  Bulk 13  Bulk 14  Bulk 15  \n",
       "key                                                        \n",
       "1        NaN      NaN    206.0      NaN    150.0    154.0  \n",
       "2        NaN      NaN    206.0      NaN    149.0    154.0  \n",
       "3        NaN      NaN    205.0      NaN    152.0    153.0  \n",
       "4        NaN      NaN    207.0      NaN    153.0    154.0  \n",
       "5        NaN      NaN    203.0      NaN    151.0    152.0  "
      ]
     },
     "execution_count": 13,
     "metadata": {},
     "output_type": "execute_result"
    }
   ],
   "source": [
    "data_bulk = data_bulk.set_index('key')\n",
    "data_bulk.head()"
   ]
  },
  {
   "cell_type": "code",
   "execution_count": 14,
   "metadata": {
    "scrolled": true
   },
   "outputs": [
    {
     "data": {
      "image/png": "[encoded data removed]",
      "text/plain": [
       "<Figure size 720x432 with 1 Axes>"
      ]
     },
     "metadata": {
      "needs_background": "light"
     },
     "output_type": "display_data"
    }
   ],
   "source": [
    "plt.figure(figsize=(10,6))\n",
    "sns.boxplot(data = data_bulk,palette='Set2')\n",
    "plt.title('Диаграмма размаха использования сыпучих материалов')\n",
    "plt.show()"
   ]
  },
  {
   "cell_type": "code",
   "execution_count": 15,
   "metadata": {},
   "outputs": [
    {
     "name": "stdout",
     "output_type": "stream",
     "text": [
      "<class 'pandas.core.frame.DataFrame'>\n",
      "Int64Index: 3129 entries, 1 to 3241\n",
      "Data columns (total 15 columns):\n",
      " #   Column   Non-Null Count  Dtype  \n",
      "---  ------   --------------  -----  \n",
      " 0   Bulk 1   3129 non-null   float64\n",
      " 1   Bulk 2   3129 non-null   float64\n",
      " 2   Bulk 3   3129 non-null   float64\n",
      " 3   Bulk 4   3129 non-null   float64\n",
      " 4   Bulk 5   3129 non-null   float64\n",
      " 5   Bulk 6   3129 non-null   float64\n",
      " 6   Bulk 7   3129 non-null   float64\n",
      " 7   Bulk 8   3129 non-null   float64\n",
      " 8   Bulk 9   3129 non-null   float64\n",
      " 9   Bulk 10  3129 non-null   float64\n",
      " 10  Bulk 11  3129 non-null   float64\n",
      " 11  Bulk 12  3129 non-null   float64\n",
      " 12  Bulk 13  3129 non-null   float64\n",
      " 13  Bulk 14  3129 non-null   float64\n",
      " 14  Bulk 15  3129 non-null   float64\n",
      "dtypes: float64(15)\n",
      "memory usage: 391.1 KB\n"
     ]
    }
   ],
   "source": [
    "data_bulk = data_bulk.fillna(0)\n",
    "data_bulk.info()"
   ]
  },
  {
   "cell_type": "markdown",
   "metadata": {},
   "source": [
    "В таблице data_bulk на каждый ключ приходится одна запись/итерация.  Исходя из количества пропусков  в столбцах и диаграммы boxplot,некоторые материалы редко участвуют в производственном процессе. Пропуски заполнены 0."
   ]
  },
  {
   "cell_type": "markdown",
   "metadata": {},
   "source": [
    "### Изучение данных о продувке сплава газом"
   ]
  },
  {
   "cell_type": "code",
   "execution_count": 16,
   "metadata": {},
   "outputs": [
    {
     "data": {
      "text/html": [
       "<div>\n",
       "<style scoped>\n",
       "    .dataframe tbody tr th:only-of-type {\n",
       "        vertical-align: middle;\n",
       "    }\n",
       "\n",
       "    .dataframe tbody tr th {\n",
       "        vertical-align: top;\n",
       "    }\n",
       "\n",
       "    .dataframe thead th {\n",
       "        text-align: right;\n",
       "    }\n",
       "</style>\n",
       "<table border=\"1\" class=\"dataframe\">\n",
       "  <thead>\n",
       "    <tr style=\"text-align: right;\">\n",
       "      <th></th>\n",
       "      <th>key</th>\n",
       "      <th>Газ 1</th>\n",
       "    </tr>\n",
       "  </thead>\n",
       "  <tbody>\n",
       "    <tr>\n",
       "      <th>0</th>\n",
       "      <td>1</td>\n",
       "      <td>29.749986</td>\n",
       "    </tr>\n",
       "    <tr>\n",
       "      <th>1</th>\n",
       "      <td>2</td>\n",
       "      <td>12.555561</td>\n",
       "    </tr>\n",
       "    <tr>\n",
       "      <th>2</th>\n",
       "      <td>3</td>\n",
       "      <td>28.554793</td>\n",
       "    </tr>\n",
       "    <tr>\n",
       "      <th>3</th>\n",
       "      <td>4</td>\n",
       "      <td>18.841219</td>\n",
       "    </tr>\n",
       "    <tr>\n",
       "      <th>4</th>\n",
       "      <td>5</td>\n",
       "      <td>5.413692</td>\n",
       "    </tr>\n",
       "  </tbody>\n",
       "</table>\n",
       "</div>"
      ],
      "text/plain": [
       "   key      Газ 1\n",
       "0    1  29.749986\n",
       "1    2  12.555561\n",
       "2    3  28.554793\n",
       "3    4  18.841219\n",
       "4    5   5.413692"
      ]
     },
     "execution_count": 16,
     "metadata": {},
     "output_type": "execute_result"
    }
   ],
   "source": [
    "data_gas = pd.read_csv('/datasets/final_steel/data_gas.csv')\n",
    "data_gas.head()"
   ]
  },
  {
   "cell_type": "code",
   "execution_count": 17,
   "metadata": {},
   "outputs": [
    {
     "name": "stdout",
     "output_type": "stream",
     "text": [
      "<class 'pandas.core.frame.DataFrame'>\n",
      "RangeIndex: 3239 entries, 0 to 3238\n",
      "Data columns (total 2 columns):\n",
      " #   Column  Non-Null Count  Dtype  \n",
      "---  ------  --------------  -----  \n",
      " 0   key     3239 non-null   int64  \n",
      " 1   Газ 1   3239 non-null   float64\n",
      "dtypes: float64(1), int64(1)\n",
      "memory usage: 50.7 KB\n"
     ]
    }
   ],
   "source": [
    "data_gas.info()"
   ]
  },
  {
   "cell_type": "code",
   "execution_count": 18,
   "metadata": {},
   "outputs": [
    {
     "data": {
      "image/png": "[encoded data removed]",
      "text/plain": [
       "<Figure size 432x288 with 1 Axes>"
      ]
     },
     "metadata": {
      "needs_background": "light"
     },
     "output_type": "display_data"
    }
   ],
   "source": [
    "plt.hist(data_gas['key'].value_counts())\n",
    "plt.title('Количество итераций для каждого ключа')\n",
    "plt.show()"
   ]
  },
  {
   "cell_type": "code",
   "execution_count": 19,
   "metadata": {},
   "outputs": [
    {
     "data": {
      "text/html": [
       "<div>\n",
       "<style scoped>\n",
       "    .dataframe tbody tr th:only-of-type {\n",
       "        vertical-align: middle;\n",
       "    }\n",
       "\n",
       "    .dataframe tbody tr th {\n",
       "        vertical-align: top;\n",
       "    }\n",
       "\n",
       "    .dataframe thead th {\n",
       "        text-align: right;\n",
       "    }\n",
       "</style>\n",
       "<table border=\"1\" class=\"dataframe\">\n",
       "  <thead>\n",
       "    <tr style=\"text-align: right;\">\n",
       "      <th></th>\n",
       "      <th>Газ 1</th>\n",
       "    </tr>\n",
       "    <tr>\n",
       "      <th>key</th>\n",
       "      <th></th>\n",
       "    </tr>\n",
       "  </thead>\n",
       "  <tbody>\n",
       "    <tr>\n",
       "      <th>1</th>\n",
       "      <td>29.749986</td>\n",
       "    </tr>\n",
       "    <tr>\n",
       "      <th>2</th>\n",
       "      <td>12.555561</td>\n",
       "    </tr>\n",
       "    <tr>\n",
       "      <th>3</th>\n",
       "      <td>28.554793</td>\n",
       "    </tr>\n",
       "    <tr>\n",
       "      <th>4</th>\n",
       "      <td>18.841219</td>\n",
       "    </tr>\n",
       "    <tr>\n",
       "      <th>5</th>\n",
       "      <td>5.413692</td>\n",
       "    </tr>\n",
       "  </tbody>\n",
       "</table>\n",
       "</div>"
      ],
      "text/plain": [
       "         Газ 1\n",
       "key           \n",
       "1    29.749986\n",
       "2    12.555561\n",
       "3    28.554793\n",
       "4    18.841219\n",
       "5     5.413692"
      ]
     },
     "execution_count": 19,
     "metadata": {},
     "output_type": "execute_result"
    }
   ],
   "source": [
    "data_gas = data_gas.set_index('key')\n",
    "data_gas.head()"
   ]
  },
  {
   "cell_type": "code",
   "execution_count": 20,
   "metadata": {
    "scrolled": true
   },
   "outputs": [
    {
     "data": {
      "text/html": [
       "<div>\n",
       "<style scoped>\n",
       "    .dataframe tbody tr th:only-of-type {\n",
       "        vertical-align: middle;\n",
       "    }\n",
       "\n",
       "    .dataframe tbody tr th {\n",
       "        vertical-align: top;\n",
       "    }\n",
       "\n",
       "    .dataframe thead th {\n",
       "        text-align: right;\n",
       "    }\n",
       "</style>\n",
       "<table border=\"1\" class=\"dataframe\">\n",
       "  <thead>\n",
       "    <tr style=\"text-align: right;\">\n",
       "      <th></th>\n",
       "      <th>Газ 1</th>\n",
       "    </tr>\n",
       "  </thead>\n",
       "  <tbody>\n",
       "    <tr>\n",
       "      <th>count</th>\n",
       "      <td>3239.000000</td>\n",
       "    </tr>\n",
       "    <tr>\n",
       "      <th>mean</th>\n",
       "      <td>11.002062</td>\n",
       "    </tr>\n",
       "    <tr>\n",
       "      <th>std</th>\n",
       "      <td>6.220327</td>\n",
       "    </tr>\n",
       "    <tr>\n",
       "      <th>min</th>\n",
       "      <td>0.008399</td>\n",
       "    </tr>\n",
       "    <tr>\n",
       "      <th>25%</th>\n",
       "      <td>7.043089</td>\n",
       "    </tr>\n",
       "    <tr>\n",
       "      <th>50%</th>\n",
       "      <td>9.836267</td>\n",
       "    </tr>\n",
       "    <tr>\n",
       "      <th>75%</th>\n",
       "      <td>13.769915</td>\n",
       "    </tr>\n",
       "    <tr>\n",
       "      <th>max</th>\n",
       "      <td>77.995040</td>\n",
       "    </tr>\n",
       "  </tbody>\n",
       "</table>\n",
       "</div>"
      ],
      "text/plain": [
       "             Газ 1\n",
       "count  3239.000000\n",
       "mean     11.002062\n",
       "std       6.220327\n",
       "min       0.008399\n",
       "25%       7.043089\n",
       "50%       9.836267\n",
       "75%      13.769915\n",
       "max      77.995040"
      ]
     },
     "execution_count": 20,
     "metadata": {},
     "output_type": "execute_result"
    }
   ],
   "source": [
    "data_gas.describe()"
   ]
  },
  {
   "cell_type": "code",
   "execution_count": 21,
   "metadata": {
    "scrolled": true
   },
   "outputs": [
    {
     "data": {
      "image/png": "[encoded data removed]",
      "text/plain": [
       "<Figure size 432x288 with 1 Axes>"
      ]
     },
     "metadata": {
      "needs_background": "light"
     },
     "output_type": "display_data"
    }
   ],
   "source": [
    "plt.boxplot(data_gas['Газ 1'].values)\n",
    "plt.title('Диаграмма размаха объема газа на этапе продувки')\n",
    "plt.show()\n"
   ]
  },
  {
   "cell_type": "markdown",
   "metadata": {},
   "source": [
    "В таблице data_gas на каждый ключ приходится одна запись/итерация. Пропусков нет."
   ]
  },
  {
   "cell_type": "markdown",
   "metadata": {},
   "source": [
    "### Изучение результатов измерения температуры;"
   ]
  },
  {
   "cell_type": "code",
   "execution_count": 22,
   "metadata": {},
   "outputs": [
    {
     "data": {
      "text/html": [
       "<div>\n",
       "<style scoped>\n",
       "    .dataframe tbody tr th:only-of-type {\n",
       "        vertical-align: middle;\n",
       "    }\n",
       "\n",
       "    .dataframe tbody tr th {\n",
       "        vertical-align: top;\n",
       "    }\n",
       "\n",
       "    .dataframe thead th {\n",
       "        text-align: right;\n",
       "    }\n",
       "</style>\n",
       "<table border=\"1\" class=\"dataframe\">\n",
       "  <thead>\n",
       "    <tr style=\"text-align: right;\">\n",
       "      <th></th>\n",
       "      <th>key</th>\n",
       "      <th>Время замера</th>\n",
       "      <th>Температура</th>\n",
       "    </tr>\n",
       "  </thead>\n",
       "  <tbody>\n",
       "    <tr>\n",
       "      <th>0</th>\n",
       "      <td>1</td>\n",
       "      <td>2019-05-03 11:16:18</td>\n",
       "      <td>1571.0</td>\n",
       "    </tr>\n",
       "    <tr>\n",
       "      <th>1</th>\n",
       "      <td>1</td>\n",
       "      <td>2019-05-03 11:25:53</td>\n",
       "      <td>1604.0</td>\n",
       "    </tr>\n",
       "    <tr>\n",
       "      <th>2</th>\n",
       "      <td>1</td>\n",
       "      <td>2019-05-03 11:29:11</td>\n",
       "      <td>1618.0</td>\n",
       "    </tr>\n",
       "    <tr>\n",
       "      <th>3</th>\n",
       "      <td>1</td>\n",
       "      <td>2019-05-03 11:30:01</td>\n",
       "      <td>1601.0</td>\n",
       "    </tr>\n",
       "    <tr>\n",
       "      <th>4</th>\n",
       "      <td>1</td>\n",
       "      <td>2019-05-03 11:30:39</td>\n",
       "      <td>1613.0</td>\n",
       "    </tr>\n",
       "    <tr>\n",
       "      <th>...</th>\n",
       "      <td>...</td>\n",
       "      <td>...</td>\n",
       "      <td>...</td>\n",
       "    </tr>\n",
       "    <tr>\n",
       "      <th>15902</th>\n",
       "      <td>3241</td>\n",
       "      <td>2019-09-01 04:03:30</td>\n",
       "      <td>1586.0</td>\n",
       "    </tr>\n",
       "    <tr>\n",
       "      <th>15903</th>\n",
       "      <td>3241</td>\n",
       "      <td>2019-09-01 04:16:12</td>\n",
       "      <td>NaN</td>\n",
       "    </tr>\n",
       "    <tr>\n",
       "      <th>15904</th>\n",
       "      <td>3241</td>\n",
       "      <td>2019-09-01 04:22:39</td>\n",
       "      <td>NaN</td>\n",
       "    </tr>\n",
       "    <tr>\n",
       "      <th>15905</th>\n",
       "      <td>3241</td>\n",
       "      <td>2019-09-01 04:33:42</td>\n",
       "      <td>NaN</td>\n",
       "    </tr>\n",
       "    <tr>\n",
       "      <th>15906</th>\n",
       "      <td>3241</td>\n",
       "      <td>2019-09-01 04:38:08</td>\n",
       "      <td>NaN</td>\n",
       "    </tr>\n",
       "  </tbody>\n",
       "</table>\n",
       "<p>15907 rows × 3 columns</p>\n",
       "</div>"
      ],
      "text/plain": [
       "        key         Время замера  Температура\n",
       "0         1  2019-05-03 11:16:18       1571.0\n",
       "1         1  2019-05-03 11:25:53       1604.0\n",
       "2         1  2019-05-03 11:29:11       1618.0\n",
       "3         1  2019-05-03 11:30:01       1601.0\n",
       "4         1  2019-05-03 11:30:39       1613.0\n",
       "...     ...                  ...          ...\n",
       "15902  3241  2019-09-01 04:03:30       1586.0\n",
       "15903  3241  2019-09-01 04:16:12          NaN\n",
       "15904  3241  2019-09-01 04:22:39          NaN\n",
       "15905  3241  2019-09-01 04:33:42          NaN\n",
       "15906  3241  2019-09-01 04:38:08          NaN\n",
       "\n",
       "[15907 rows x 3 columns]"
      ]
     },
     "execution_count": 22,
     "metadata": {},
     "output_type": "execute_result"
    }
   ],
   "source": [
    "data_temp = pd.read_csv('/datasets/final_steel/data_temp.csv')\n",
    "data_temp"
   ]
  },
  {
   "cell_type": "code",
   "execution_count": 23,
   "metadata": {},
   "outputs": [
    {
     "data": {
      "text/html": [
       "<div>\n",
       "<style scoped>\n",
       "    .dataframe tbody tr th:only-of-type {\n",
       "        vertical-align: middle;\n",
       "    }\n",
       "\n",
       "    .dataframe tbody tr th {\n",
       "        vertical-align: top;\n",
       "    }\n",
       "\n",
       "    .dataframe thead th {\n",
       "        text-align: right;\n",
       "    }\n",
       "</style>\n",
       "<table border=\"1\" class=\"dataframe\">\n",
       "  <thead>\n",
       "    <tr style=\"text-align: right;\">\n",
       "      <th></th>\n",
       "      <th>key</th>\n",
       "      <th>Температура</th>\n",
       "    </tr>\n",
       "  </thead>\n",
       "  <tbody>\n",
       "    <tr>\n",
       "      <th>count</th>\n",
       "      <td>15907.000000</td>\n",
       "      <td>13006.000000</td>\n",
       "    </tr>\n",
       "    <tr>\n",
       "      <th>mean</th>\n",
       "      <td>1607.880870</td>\n",
       "      <td>1591.840920</td>\n",
       "    </tr>\n",
       "    <tr>\n",
       "      <th>std</th>\n",
       "      <td>942.212073</td>\n",
       "      <td>21.375851</td>\n",
       "    </tr>\n",
       "    <tr>\n",
       "      <th>min</th>\n",
       "      <td>1.000000</td>\n",
       "      <td>1191.000000</td>\n",
       "    </tr>\n",
       "    <tr>\n",
       "      <th>25%</th>\n",
       "      <td>790.000000</td>\n",
       "      <td>1581.000000</td>\n",
       "    </tr>\n",
       "    <tr>\n",
       "      <th>50%</th>\n",
       "      <td>1618.000000</td>\n",
       "      <td>1591.000000</td>\n",
       "    </tr>\n",
       "    <tr>\n",
       "      <th>75%</th>\n",
       "      <td>2427.000000</td>\n",
       "      <td>1601.000000</td>\n",
       "    </tr>\n",
       "    <tr>\n",
       "      <th>max</th>\n",
       "      <td>3241.000000</td>\n",
       "      <td>1705.000000</td>\n",
       "    </tr>\n",
       "  </tbody>\n",
       "</table>\n",
       "</div>"
      ],
      "text/plain": [
       "                key   Температура\n",
       "count  15907.000000  13006.000000\n",
       "mean    1607.880870   1591.840920\n",
       "std      942.212073     21.375851\n",
       "min        1.000000   1191.000000\n",
       "25%      790.000000   1581.000000\n",
       "50%     1618.000000   1591.000000\n",
       "75%     2427.000000   1601.000000\n",
       "max     3241.000000   1705.000000"
      ]
     },
     "execution_count": 23,
     "metadata": {},
     "output_type": "execute_result"
    }
   ],
   "source": [
    "data_temp.describe()"
   ]
  },
  {
   "cell_type": "code",
   "execution_count": 24,
   "metadata": {},
   "outputs": [
    {
     "name": "stdout",
     "output_type": "stream",
     "text": [
      "<class 'pandas.core.frame.DataFrame'>\n",
      "RangeIndex: 15907 entries, 0 to 15906\n",
      "Data columns (total 3 columns):\n",
      " #   Column        Non-Null Count  Dtype  \n",
      "---  ------        --------------  -----  \n",
      " 0   key           15907 non-null  int64  \n",
      " 1   Время замера  15907 non-null  object \n",
      " 2   Температура   13006 non-null  float64\n",
      "dtypes: float64(1), int64(1), object(1)\n",
      "memory usage: 372.9+ KB\n"
     ]
    }
   ],
   "source": [
    "data_temp.info()"
   ]
  },
  {
   "cell_type": "code",
   "execution_count": 25,
   "metadata": {
    "scrolled": false
   },
   "outputs": [
    {
     "data": {
      "image/png": "[encoded data removed]",
      "text/plain": [
       "<Figure size 432x288 with 1 Axes>"
      ]
     },
     "metadata": {
      "needs_background": "light"
     },
     "output_type": "display_data"
    }
   ],
   "source": [
    "plt.hist(data_temp['key'].value_counts())\n",
    "plt.title('Количество записей для каждого ключа')\n",
    "plt.show()"
   ]
  },
  {
   "cell_type": "code",
   "execution_count": 26,
   "metadata": {},
   "outputs": [
    {
     "data": {
      "text/html": [
       "<div>\n",
       "<style scoped>\n",
       "    .dataframe tbody tr th:only-of-type {\n",
       "        vertical-align: middle;\n",
       "    }\n",
       "\n",
       "    .dataframe tbody tr th {\n",
       "        vertical-align: top;\n",
       "    }\n",
       "\n",
       "    .dataframe thead th {\n",
       "        text-align: right;\n",
       "    }\n",
       "</style>\n",
       "<table border=\"1\" class=\"dataframe\">\n",
       "  <thead>\n",
       "    <tr style=\"text-align: right;\">\n",
       "      <th></th>\n",
       "      <th>key</th>\n",
       "      <th>Время замера</th>\n",
       "      <th>Температура</th>\n",
       "    </tr>\n",
       "  </thead>\n",
       "  <tbody>\n",
       "    <tr>\n",
       "      <th>4350</th>\n",
       "      <td>867</td>\n",
       "      <td>2019-06-04 14:21:00</td>\n",
       "      <td>1191.0</td>\n",
       "    </tr>\n",
       "    <tr>\n",
       "      <th>5978</th>\n",
       "      <td>1214</td>\n",
       "      <td>2019-06-16 05:32:00</td>\n",
       "      <td>1208.0</td>\n",
       "    </tr>\n",
       "    <tr>\n",
       "      <th>7958</th>\n",
       "      <td>1619</td>\n",
       "      <td>2019-06-30 11:03:54</td>\n",
       "      <td>1218.0</td>\n",
       "    </tr>\n",
       "    <tr>\n",
       "      <th>8913</th>\n",
       "      <td>1818</td>\n",
       "      <td>2019-07-07 00:30:49</td>\n",
       "      <td>1383.0</td>\n",
       "    </tr>\n",
       "    <tr>\n",
       "      <th>8914</th>\n",
       "      <td>1818</td>\n",
       "      <td>2019-07-07 00:31:40</td>\n",
       "      <td>1383.0</td>\n",
       "    </tr>\n",
       "    <tr>\n",
       "      <th>10127</th>\n",
       "      <td>2052</td>\n",
       "      <td>2019-07-21 14:51:40</td>\n",
       "      <td>1227.0</td>\n",
       "    </tr>\n",
       "    <tr>\n",
       "      <th>12564</th>\n",
       "      <td>2561</td>\n",
       "      <td>2019-08-08 07:34:15</td>\n",
       "      <td>1204.0</td>\n",
       "    </tr>\n",
       "  </tbody>\n",
       "</table>\n",
       "</div>"
      ],
      "text/plain": [
       "        key         Время замера  Температура\n",
       "4350    867  2019-06-04 14:21:00       1191.0\n",
       "5978   1214  2019-06-16 05:32:00       1208.0\n",
       "7958   1619  2019-06-30 11:03:54       1218.0\n",
       "8913   1818  2019-07-07 00:30:49       1383.0\n",
       "8914   1818  2019-07-07 00:31:40       1383.0\n",
       "10127  2052  2019-07-21 14:51:40       1227.0\n",
       "12564  2561  2019-08-08 07:34:15       1204.0"
      ]
     },
     "execution_count": 26,
     "metadata": {},
     "output_type": "execute_result"
    }
   ],
   "source": [
    "data_temp[data_temp['Температура'] < 1500]"
   ]
  },
  {
   "cell_type": "code",
   "execution_count": 27,
   "metadata": {
    "scrolled": false
   },
   "outputs": [
    {
     "data": {
      "image/png": "[encoded data removed]",
      "text/plain": [
       "<Figure size 432x288 with 1 Axes>"
      ]
     },
     "metadata": {
      "needs_background": "light"
     },
     "output_type": "display_data"
    }
   ],
   "source": [
    "data_temp['Температура'].hist(bins=100)\n",
    "plt.xlim([1190,1710])\n",
    "plt.title('График распределения температур')\n",
    "plt.show()"
   ]
  },
  {
   "cell_type": "code",
   "execution_count": 28,
   "metadata": {},
   "outputs": [],
   "source": [
    "data_temp = data_temp[data_temp['Температура'] >1499]"
   ]
  },
  {
   "cell_type": "markdown",
   "metadata": {},
   "source": [
    "Температура на графике имеет нормальное распределение.Температура ниже 1500 встречается редко,на графике ее не видно.Выброс температуры 1191 градус - удален. "
   ]
  },
  {
   "cell_type": "markdown",
   "metadata": {},
   "source": [
    "### Изучение данных о подаче проволочных материалов"
   ]
  },
  {
   "cell_type": "code",
   "execution_count": 29,
   "metadata": {},
   "outputs": [
    {
     "data": {
      "text/html": [
       "<div>\n",
       "<style scoped>\n",
       "    .dataframe tbody tr th:only-of-type {\n",
       "        vertical-align: middle;\n",
       "    }\n",
       "\n",
       "    .dataframe tbody tr th {\n",
       "        vertical-align: top;\n",
       "    }\n",
       "\n",
       "    .dataframe thead th {\n",
       "        text-align: right;\n",
       "    }\n",
       "</style>\n",
       "<table border=\"1\" class=\"dataframe\">\n",
       "  <thead>\n",
       "    <tr style=\"text-align: right;\">\n",
       "      <th></th>\n",
       "      <th>key</th>\n",
       "      <th>Wire 1</th>\n",
       "      <th>Wire 2</th>\n",
       "      <th>Wire 3</th>\n",
       "      <th>Wire 4</th>\n",
       "      <th>Wire 5</th>\n",
       "      <th>Wire 6</th>\n",
       "      <th>Wire 7</th>\n",
       "      <th>Wire 8</th>\n",
       "      <th>Wire 9</th>\n",
       "    </tr>\n",
       "  </thead>\n",
       "  <tbody>\n",
       "    <tr>\n",
       "      <th>0</th>\n",
       "      <td>1</td>\n",
       "      <td>60.059998</td>\n",
       "      <td>NaN</td>\n",
       "      <td>NaN</td>\n",
       "      <td>NaN</td>\n",
       "      <td>NaN</td>\n",
       "      <td>NaN</td>\n",
       "      <td>NaN</td>\n",
       "      <td>NaN</td>\n",
       "      <td>NaN</td>\n",
       "    </tr>\n",
       "    <tr>\n",
       "      <th>1</th>\n",
       "      <td>2</td>\n",
       "      <td>96.052315</td>\n",
       "      <td>NaN</td>\n",
       "      <td>NaN</td>\n",
       "      <td>NaN</td>\n",
       "      <td>NaN</td>\n",
       "      <td>NaN</td>\n",
       "      <td>NaN</td>\n",
       "      <td>NaN</td>\n",
       "      <td>NaN</td>\n",
       "    </tr>\n",
       "    <tr>\n",
       "      <th>2</th>\n",
       "      <td>3</td>\n",
       "      <td>91.160157</td>\n",
       "      <td>NaN</td>\n",
       "      <td>NaN</td>\n",
       "      <td>NaN</td>\n",
       "      <td>NaN</td>\n",
       "      <td>NaN</td>\n",
       "      <td>NaN</td>\n",
       "      <td>NaN</td>\n",
       "      <td>NaN</td>\n",
       "    </tr>\n",
       "    <tr>\n",
       "      <th>3</th>\n",
       "      <td>4</td>\n",
       "      <td>89.063515</td>\n",
       "      <td>NaN</td>\n",
       "      <td>NaN</td>\n",
       "      <td>NaN</td>\n",
       "      <td>NaN</td>\n",
       "      <td>NaN</td>\n",
       "      <td>NaN</td>\n",
       "      <td>NaN</td>\n",
       "      <td>NaN</td>\n",
       "    </tr>\n",
       "    <tr>\n",
       "      <th>4</th>\n",
       "      <td>5</td>\n",
       "      <td>89.238236</td>\n",
       "      <td>9.11456</td>\n",
       "      <td>NaN</td>\n",
       "      <td>NaN</td>\n",
       "      <td>NaN</td>\n",
       "      <td>NaN</td>\n",
       "      <td>NaN</td>\n",
       "      <td>NaN</td>\n",
       "      <td>NaN</td>\n",
       "    </tr>\n",
       "  </tbody>\n",
       "</table>\n",
       "</div>"
      ],
      "text/plain": [
       "   key     Wire 1   Wire 2  Wire 3  Wire 4  Wire 5  Wire 6  Wire 7  Wire 8  \\\n",
       "0    1  60.059998      NaN     NaN     NaN     NaN     NaN     NaN     NaN   \n",
       "1    2  96.052315      NaN     NaN     NaN     NaN     NaN     NaN     NaN   \n",
       "2    3  91.160157      NaN     NaN     NaN     NaN     NaN     NaN     NaN   \n",
       "3    4  89.063515      NaN     NaN     NaN     NaN     NaN     NaN     NaN   \n",
       "4    5  89.238236  9.11456     NaN     NaN     NaN     NaN     NaN     NaN   \n",
       "\n",
       "   Wire 9  \n",
       "0     NaN  \n",
       "1     NaN  \n",
       "2     NaN  \n",
       "3     NaN  \n",
       "4     NaN  "
      ]
     },
     "execution_count": 29,
     "metadata": {},
     "output_type": "execute_result"
    }
   ],
   "source": [
    "data_wire = pd.read_csv('/datasets/final_steel/data_wire.csv')\n",
    "data_wire.head()"
   ]
  },
  {
   "cell_type": "code",
   "execution_count": 30,
   "metadata": {},
   "outputs": [
    {
     "data": {
      "image/png": "[encoded data removed]",
      "text/plain": [
       "<Figure size 432x288 with 1 Axes>"
      ]
     },
     "metadata": {
      "needs_background": "light"
     },
     "output_type": "display_data"
    }
   ],
   "source": [
    "plt.hist(data_wire['key'].value_counts())\n",
    "plt.title('Количество итераций для каждого ключа')\n",
    "plt.show()"
   ]
  },
  {
   "cell_type": "code",
   "execution_count": 31,
   "metadata": {
    "scrolled": true
   },
   "outputs": [
    {
     "name": "stdout",
     "output_type": "stream",
     "text": [
      "<class 'pandas.core.frame.DataFrame'>\n",
      "RangeIndex: 3081 entries, 0 to 3080\n",
      "Data columns (total 10 columns):\n",
      " #   Column  Non-Null Count  Dtype  \n",
      "---  ------  --------------  -----  \n",
      " 0   key     3081 non-null   int64  \n",
      " 1   Wire 1  3055 non-null   float64\n",
      " 2   Wire 2  1079 non-null   float64\n",
      " 3   Wire 3  63 non-null     float64\n",
      " 4   Wire 4  14 non-null     float64\n",
      " 5   Wire 5  1 non-null      float64\n",
      " 6   Wire 6  73 non-null     float64\n",
      " 7   Wire 7  11 non-null     float64\n",
      " 8   Wire 8  19 non-null     float64\n",
      " 9   Wire 9  29 non-null     float64\n",
      "dtypes: float64(9), int64(1)\n",
      "memory usage: 240.8 KB\n"
     ]
    }
   ],
   "source": [
    "data_wire.info()"
   ]
  },
  {
   "cell_type": "code",
   "execution_count": 32,
   "metadata": {},
   "outputs": [
    {
     "data": {
      "text/html": [
       "<div>\n",
       "<style scoped>\n",
       "    .dataframe tbody tr th:only-of-type {\n",
       "        vertical-align: middle;\n",
       "    }\n",
       "\n",
       "    .dataframe tbody tr th {\n",
       "        vertical-align: top;\n",
       "    }\n",
       "\n",
       "    .dataframe thead th {\n",
       "        text-align: right;\n",
       "    }\n",
       "</style>\n",
       "<table border=\"1\" class=\"dataframe\">\n",
       "  <thead>\n",
       "    <tr style=\"text-align: right;\">\n",
       "      <th></th>\n",
       "      <th>Wire 1</th>\n",
       "      <th>Wire 2</th>\n",
       "      <th>Wire 3</th>\n",
       "      <th>Wire 4</th>\n",
       "      <th>Wire 5</th>\n",
       "      <th>Wire 6</th>\n",
       "      <th>Wire 7</th>\n",
       "      <th>Wire 8</th>\n",
       "      <th>Wire 9</th>\n",
       "    </tr>\n",
       "    <tr>\n",
       "      <th>key</th>\n",
       "      <th></th>\n",
       "      <th></th>\n",
       "      <th></th>\n",
       "      <th></th>\n",
       "      <th></th>\n",
       "      <th></th>\n",
       "      <th></th>\n",
       "      <th></th>\n",
       "      <th></th>\n",
       "    </tr>\n",
       "  </thead>\n",
       "  <tbody>\n",
       "    <tr>\n",
       "      <th>1</th>\n",
       "      <td>60.059998</td>\n",
       "      <td>NaN</td>\n",
       "      <td>NaN</td>\n",
       "      <td>NaN</td>\n",
       "      <td>NaN</td>\n",
       "      <td>NaN</td>\n",
       "      <td>NaN</td>\n",
       "      <td>NaN</td>\n",
       "      <td>NaN</td>\n",
       "    </tr>\n",
       "    <tr>\n",
       "      <th>2</th>\n",
       "      <td>96.052315</td>\n",
       "      <td>NaN</td>\n",
       "      <td>NaN</td>\n",
       "      <td>NaN</td>\n",
       "      <td>NaN</td>\n",
       "      <td>NaN</td>\n",
       "      <td>NaN</td>\n",
       "      <td>NaN</td>\n",
       "      <td>NaN</td>\n",
       "    </tr>\n",
       "    <tr>\n",
       "      <th>3</th>\n",
       "      <td>91.160157</td>\n",
       "      <td>NaN</td>\n",
       "      <td>NaN</td>\n",
       "      <td>NaN</td>\n",
       "      <td>NaN</td>\n",
       "      <td>NaN</td>\n",
       "      <td>NaN</td>\n",
       "      <td>NaN</td>\n",
       "      <td>NaN</td>\n",
       "    </tr>\n",
       "    <tr>\n",
       "      <th>4</th>\n",
       "      <td>89.063515</td>\n",
       "      <td>NaN</td>\n",
       "      <td>NaN</td>\n",
       "      <td>NaN</td>\n",
       "      <td>NaN</td>\n",
       "      <td>NaN</td>\n",
       "      <td>NaN</td>\n",
       "      <td>NaN</td>\n",
       "      <td>NaN</td>\n",
       "    </tr>\n",
       "    <tr>\n",
       "      <th>5</th>\n",
       "      <td>89.238236</td>\n",
       "      <td>9.11456</td>\n",
       "      <td>NaN</td>\n",
       "      <td>NaN</td>\n",
       "      <td>NaN</td>\n",
       "      <td>NaN</td>\n",
       "      <td>NaN</td>\n",
       "      <td>NaN</td>\n",
       "      <td>NaN</td>\n",
       "    </tr>\n",
       "    <tr>\n",
       "      <th>...</th>\n",
       "      <td>...</td>\n",
       "      <td>...</td>\n",
       "      <td>...</td>\n",
       "      <td>...</td>\n",
       "      <td>...</td>\n",
       "      <td>...</td>\n",
       "      <td>...</td>\n",
       "      <td>...</td>\n",
       "      <td>...</td>\n",
       "    </tr>\n",
       "    <tr>\n",
       "      <th>3237</th>\n",
       "      <td>38.088959</td>\n",
       "      <td>NaN</td>\n",
       "      <td>NaN</td>\n",
       "      <td>NaN</td>\n",
       "      <td>NaN</td>\n",
       "      <td>NaN</td>\n",
       "      <td>NaN</td>\n",
       "      <td>NaN</td>\n",
       "      <td>NaN</td>\n",
       "    </tr>\n",
       "    <tr>\n",
       "      <th>3238</th>\n",
       "      <td>56.128799</td>\n",
       "      <td>NaN</td>\n",
       "      <td>NaN</td>\n",
       "      <td>NaN</td>\n",
       "      <td>NaN</td>\n",
       "      <td>NaN</td>\n",
       "      <td>NaN</td>\n",
       "      <td>NaN</td>\n",
       "      <td>NaN</td>\n",
       "    </tr>\n",
       "    <tr>\n",
       "      <th>3239</th>\n",
       "      <td>143.357761</td>\n",
       "      <td>NaN</td>\n",
       "      <td>NaN</td>\n",
       "      <td>NaN</td>\n",
       "      <td>NaN</td>\n",
       "      <td>NaN</td>\n",
       "      <td>NaN</td>\n",
       "      <td>NaN</td>\n",
       "      <td>NaN</td>\n",
       "    </tr>\n",
       "    <tr>\n",
       "      <th>3240</th>\n",
       "      <td>34.070400</td>\n",
       "      <td>NaN</td>\n",
       "      <td>NaN</td>\n",
       "      <td>NaN</td>\n",
       "      <td>NaN</td>\n",
       "      <td>NaN</td>\n",
       "      <td>NaN</td>\n",
       "      <td>NaN</td>\n",
       "      <td>NaN</td>\n",
       "    </tr>\n",
       "    <tr>\n",
       "      <th>3241</th>\n",
       "      <td>63.117595</td>\n",
       "      <td>NaN</td>\n",
       "      <td>NaN</td>\n",
       "      <td>NaN</td>\n",
       "      <td>NaN</td>\n",
       "      <td>NaN</td>\n",
       "      <td>NaN</td>\n",
       "      <td>NaN</td>\n",
       "      <td>NaN</td>\n",
       "    </tr>\n",
       "  </tbody>\n",
       "</table>\n",
       "<p>3081 rows × 9 columns</p>\n",
       "</div>"
      ],
      "text/plain": [
       "          Wire 1   Wire 2  Wire 3  Wire 4  Wire 5  Wire 6  Wire 7  Wire 8  \\\n",
       "key                                                                         \n",
       "1      60.059998      NaN     NaN     NaN     NaN     NaN     NaN     NaN   \n",
       "2      96.052315      NaN     NaN     NaN     NaN     NaN     NaN     NaN   \n",
       "3      91.160157      NaN     NaN     NaN     NaN     NaN     NaN     NaN   \n",
       "4      89.063515      NaN     NaN     NaN     NaN     NaN     NaN     NaN   \n",
       "5      89.238236  9.11456     NaN     NaN     NaN     NaN     NaN     NaN   \n",
       "...          ...      ...     ...     ...     ...     ...     ...     ...   \n",
       "3237   38.088959      NaN     NaN     NaN     NaN     NaN     NaN     NaN   \n",
       "3238   56.128799      NaN     NaN     NaN     NaN     NaN     NaN     NaN   \n",
       "3239  143.357761      NaN     NaN     NaN     NaN     NaN     NaN     NaN   \n",
       "3240   34.070400      NaN     NaN     NaN     NaN     NaN     NaN     NaN   \n",
       "3241   63.117595      NaN     NaN     NaN     NaN     NaN     NaN     NaN   \n",
       "\n",
       "      Wire 9  \n",
       "key           \n",
       "1        NaN  \n",
       "2        NaN  \n",
       "3        NaN  \n",
       "4        NaN  \n",
       "5        NaN  \n",
       "...      ...  \n",
       "3237     NaN  \n",
       "3238     NaN  \n",
       "3239     NaN  \n",
       "3240     NaN  \n",
       "3241     NaN  \n",
       "\n",
       "[3081 rows x 9 columns]"
      ]
     },
     "execution_count": 32,
     "metadata": {},
     "output_type": "execute_result"
    }
   ],
   "source": [
    "data_wire = data_wire.set_index('key')\n",
    "data_wire "
   ]
  },
  {
   "cell_type": "code",
   "execution_count": 33,
   "metadata": {
    "scrolled": true
   },
   "outputs": [
    {
     "data": {
      "image/png": "[encoded data removed]",
      "text/plain": [
       "<Figure size 720x432 with 1 Axes>"
      ]
     },
     "metadata": {
      "needs_background": "light"
     },
     "output_type": "display_data"
    }
   ],
   "source": [
    "plt.figure(figsize=(10,6))\n",
    "sns.boxplot(data = data_wire,palette='Set2')\n",
    "plt.title('Диаграмма размаха использования проволочных материалов')\n",
    "plt.show()"
   ]
  },
  {
   "cell_type": "code",
   "execution_count": 34,
   "metadata": {},
   "outputs": [
    {
     "name": "stdout",
     "output_type": "stream",
     "text": [
      "<class 'pandas.core.frame.DataFrame'>\n",
      "Int64Index: 3081 entries, 1 to 3241\n",
      "Data columns (total 9 columns):\n",
      " #   Column  Non-Null Count  Dtype  \n",
      "---  ------  --------------  -----  \n",
      " 0   Wire 1  3081 non-null   float64\n",
      " 1   Wire 2  3081 non-null   float64\n",
      " 2   Wire 3  3081 non-null   float64\n",
      " 3   Wire 4  3081 non-null   float64\n",
      " 4   Wire 5  3081 non-null   float64\n",
      " 5   Wire 6  3081 non-null   float64\n",
      " 6   Wire 7  3081 non-null   float64\n",
      " 7   Wire 8  3081 non-null   float64\n",
      " 8   Wire 9  3081 non-null   float64\n",
      "dtypes: float64(9)\n",
      "memory usage: 240.7 KB\n"
     ]
    }
   ],
   "source": [
    "data_wire = data_wire.fillna(0)\n",
    "data_wire.info()"
   ]
  },
  {
   "cell_type": "markdown",
   "metadata": {},
   "source": [
    "В таблице data_wire на каждый ключ приходится одна запись/итерация. Исходя из количества пропусков  в столбцах и диаграммы boxplot,некоторые материалы редко участвуют в производственном процессе. Пропуски заполнены 0."
   ]
  },
  {
   "cell_type": "markdown",
   "metadata": {},
   "source": [
    "### Вывод\n",
    "Датасеты data_bulk и data_wire имеют большое количество пропусков,это связано с особенностями производственного процесса.Некоторые материалы редко используют в процессе производства.Пропуски заполнены 0.  \n",
    "Датасет data_temp,пропуски и партии, в которых указана только одна температура, необходимо удалить.Последняя измеряемая температура для каждого ключа является целевым признаком.  \n",
    "Датасет data_arc каждый ключ имеет несколько итераций,необходимо сформировать один признак для каждого ключа.\n",
    "Все датасеты необходимо объединить по ключу,для этого ключ сделать индексом."
   ]
  },
  {
   "cell_type": "markdown",
   "metadata": {},
   "source": [
    "## Подготовка данных"
   ]
  },
  {
   "cell_type": "code",
   "execution_count": 35,
   "metadata": {},
   "outputs": [
    {
     "data": {
      "text/html": [
       "<div>\n",
       "<style scoped>\n",
       "    .dataframe tbody tr th:only-of-type {\n",
       "        vertical-align: middle;\n",
       "    }\n",
       "\n",
       "    .dataframe tbody tr th {\n",
       "        vertical-align: top;\n",
       "    }\n",
       "\n",
       "    .dataframe thead th {\n",
       "        text-align: right;\n",
       "    }\n",
       "</style>\n",
       "<table border=\"1\" class=\"dataframe\">\n",
       "  <thead>\n",
       "    <tr style=\"text-align: right;\">\n",
       "      <th></th>\n",
       "      <th>Активная мощность</th>\n",
       "      <th>Реактивная мощность</th>\n",
       "    </tr>\n",
       "    <tr>\n",
       "      <th>key</th>\n",
       "      <th></th>\n",
       "      <th></th>\n",
       "    </tr>\n",
       "  </thead>\n",
       "  <tbody>\n",
       "    <tr>\n",
       "      <th>1</th>\n",
       "      <td>0.975629</td>\n",
       "      <td>0.636648</td>\n",
       "    </tr>\n",
       "    <tr>\n",
       "      <th>2</th>\n",
       "      <td>0.763150</td>\n",
       "      <td>0.499528</td>\n",
       "    </tr>\n",
       "    <tr>\n",
       "      <th>3</th>\n",
       "      <td>0.505176</td>\n",
       "      <td>0.319815</td>\n",
       "    </tr>\n",
       "    <tr>\n",
       "      <th>4</th>\n",
       "      <td>0.802313</td>\n",
       "      <td>0.515074</td>\n",
       "    </tr>\n",
       "    <tr>\n",
       "      <th>5</th>\n",
       "      <td>0.836793</td>\n",
       "      <td>0.563161</td>\n",
       "    </tr>\n",
       "    <tr>\n",
       "      <th>...</th>\n",
       "      <td>...</td>\n",
       "      <td>...</td>\n",
       "    </tr>\n",
       "    <tr>\n",
       "      <th>3237</th>\n",
       "      <td>0.786493</td>\n",
       "      <td>0.565692</td>\n",
       "    </tr>\n",
       "    <tr>\n",
       "      <th>3238</th>\n",
       "      <td>0.702176</td>\n",
       "      <td>0.560394</td>\n",
       "    </tr>\n",
       "    <tr>\n",
       "      <th>3239</th>\n",
       "      <td>0.583344</td>\n",
       "      <td>0.388952</td>\n",
       "    </tr>\n",
       "    <tr>\n",
       "      <th>3240</th>\n",
       "      <td>0.596817</td>\n",
       "      <td>0.496653</td>\n",
       "    </tr>\n",
       "    <tr>\n",
       "      <th>3241</th>\n",
       "      <td>0.494289</td>\n",
       "      <td>0.339240</td>\n",
       "    </tr>\n",
       "  </tbody>\n",
       "</table>\n",
       "<p>3214 rows × 2 columns</p>\n",
       "</div>"
      ],
      "text/plain": [
       "      Активная мощность  Реактивная мощность\n",
       "key                                         \n",
       "1              0.975629             0.636648\n",
       "2              0.763150             0.499528\n",
       "3              0.505176             0.319815\n",
       "4              0.802313             0.515074\n",
       "5              0.836793             0.563161\n",
       "...                 ...                  ...\n",
       "3237           0.786493             0.565692\n",
       "3238           0.702176             0.560394\n",
       "3239           0.583344             0.388952\n",
       "3240           0.596817             0.496653\n",
       "3241           0.494289             0.339240\n",
       "\n",
       "[3214 rows x 2 columns]"
      ]
     },
     "execution_count": 35,
     "metadata": {},
     "output_type": "execute_result"
    }
   ],
   "source": [
    "new_arc = pd.pivot_table(data_arc,index='key',values =['Активная мощность','Реактивная мощность'],aggfunc = 'mean')\n",
    "new_arc"
   ]
  },
  {
   "cell_type": "code",
   "execution_count": 36,
   "metadata": {},
   "outputs": [
    {
     "name": "stdout",
     "output_type": "stream",
     "text": [
      "<class 'pandas.core.frame.DataFrame'>\n",
      "Int64Index: 12999 entries, 0 to 15902\n",
      "Data columns (total 3 columns):\n",
      " #   Column        Non-Null Count  Dtype  \n",
      "---  ------        --------------  -----  \n",
      " 0   key           12999 non-null  int64  \n",
      " 1   Время замера  12999 non-null  object \n",
      " 2   Температура   12999 non-null  float64\n",
      "dtypes: float64(1), int64(1), object(1)\n",
      "memory usage: 406.2+ KB\n"
     ]
    }
   ],
   "source": [
    "data_temp.info()"
   ]
  },
  {
   "cell_type": "code",
   "execution_count": 37,
   "metadata": {},
   "outputs": [],
   "source": [
    "new_key = pd.DataFrame(data_temp['key'].value_counts().reset_index())\n",
    "new_key  = new_key[new_key['key'] > 1]\n",
    "n = list(new_key['index'])"
   ]
  },
  {
   "cell_type": "code",
   "execution_count": 38,
   "metadata": {},
   "outputs": [
    {
     "data": {
      "text/html": [
       "<div>\n",
       "<style scoped>\n",
       "    .dataframe tbody tr th:only-of-type {\n",
       "        vertical-align: middle;\n",
       "    }\n",
       "\n",
       "    .dataframe tbody tr th {\n",
       "        vertical-align: top;\n",
       "    }\n",
       "\n",
       "    .dataframe thead th {\n",
       "        text-align: right;\n",
       "    }\n",
       "</style>\n",
       "<table border=\"1\" class=\"dataframe\">\n",
       "  <thead>\n",
       "    <tr style=\"text-align: right;\">\n",
       "      <th></th>\n",
       "      <th>key</th>\n",
       "      <th>Время замера</th>\n",
       "      <th>Температура</th>\n",
       "    </tr>\n",
       "  </thead>\n",
       "  <tbody>\n",
       "    <tr>\n",
       "      <th>0</th>\n",
       "      <td>1</td>\n",
       "      <td>2019-05-03 11:16:18</td>\n",
       "      <td>1571.0</td>\n",
       "    </tr>\n",
       "    <tr>\n",
       "      <th>1</th>\n",
       "      <td>1</td>\n",
       "      <td>2019-05-03 11:25:53</td>\n",
       "      <td>1604.0</td>\n",
       "    </tr>\n",
       "    <tr>\n",
       "      <th>2</th>\n",
       "      <td>1</td>\n",
       "      <td>2019-05-03 11:29:11</td>\n",
       "      <td>1618.0</td>\n",
       "    </tr>\n",
       "    <tr>\n",
       "      <th>3</th>\n",
       "      <td>1</td>\n",
       "      <td>2019-05-03 11:30:01</td>\n",
       "      <td>1601.0</td>\n",
       "    </tr>\n",
       "    <tr>\n",
       "      <th>4</th>\n",
       "      <td>1</td>\n",
       "      <td>2019-05-03 11:30:39</td>\n",
       "      <td>1613.0</td>\n",
       "    </tr>\n",
       "    <tr>\n",
       "      <th>...</th>\n",
       "      <td>...</td>\n",
       "      <td>...</td>\n",
       "      <td>...</td>\n",
       "    </tr>\n",
       "    <tr>\n",
       "      <th>12262</th>\n",
       "      <td>2498</td>\n",
       "      <td>2019-08-06 02:19:26</td>\n",
       "      <td>1593.0</td>\n",
       "    </tr>\n",
       "    <tr>\n",
       "      <th>12263</th>\n",
       "      <td>2498</td>\n",
       "      <td>2019-08-06 02:25:31</td>\n",
       "      <td>1594.0</td>\n",
       "    </tr>\n",
       "    <tr>\n",
       "      <th>12264</th>\n",
       "      <td>2499</td>\n",
       "      <td>2019-08-06 02:40:25</td>\n",
       "      <td>1569.0</td>\n",
       "    </tr>\n",
       "    <tr>\n",
       "      <th>12265</th>\n",
       "      <td>2499</td>\n",
       "      <td>2019-08-06 02:54:24</td>\n",
       "      <td>1604.0</td>\n",
       "    </tr>\n",
       "    <tr>\n",
       "      <th>12266</th>\n",
       "      <td>2499</td>\n",
       "      <td>2019-08-06 03:00:28</td>\n",
       "      <td>1603.0</td>\n",
       "    </tr>\n",
       "  </tbody>\n",
       "</table>\n",
       "<p>12259 rows × 3 columns</p>\n",
       "</div>"
      ],
      "text/plain": [
       "        key         Время замера  Температура\n",
       "0         1  2019-05-03 11:16:18       1571.0\n",
       "1         1  2019-05-03 11:25:53       1604.0\n",
       "2         1  2019-05-03 11:29:11       1618.0\n",
       "3         1  2019-05-03 11:30:01       1601.0\n",
       "4         1  2019-05-03 11:30:39       1613.0\n",
       "...     ...                  ...          ...\n",
       "12262  2498  2019-08-06 02:19:26       1593.0\n",
       "12263  2498  2019-08-06 02:25:31       1594.0\n",
       "12264  2499  2019-08-06 02:40:25       1569.0\n",
       "12265  2499  2019-08-06 02:54:24       1604.0\n",
       "12266  2499  2019-08-06 03:00:28       1603.0\n",
       "\n",
       "[12259 rows x 3 columns]"
      ]
     },
     "execution_count": 38,
     "metadata": {},
     "output_type": "execute_result"
    }
   ],
   "source": [
    "new_temp = data_temp.query('key in @n')\n",
    "new_temp"
   ]
  },
  {
   "cell_type": "code",
   "execution_count": 39,
   "metadata": {
    "scrolled": true
   },
   "outputs": [
    {
     "data": {
      "image/png": "[encoded data removed]",
      "text/plain": [
       "<Figure size 432x288 with 1 Axes>"
      ]
     },
     "metadata": {
      "needs_background": "light"
     },
     "output_type": "display_data"
    }
   ],
   "source": [
    "plt.hist(new_temp['key'].value_counts())\n",
    "plt.title('Количество записей для каждого ключа')\n",
    "plt.show()"
   ]
  },
  {
   "cell_type": "code",
   "execution_count": 40,
   "metadata": {},
   "outputs": [],
   "source": [
    "first_temp = new_temp.groupby('key').first()\n",
    "first_temp = first_temp.drop('Время замера',axis=1)\n",
    "first_temp.rename(columns={'Температура':'Начальная температура'},inplace=True)\n"
   ]
  },
  {
   "cell_type": "code",
   "execution_count": 41,
   "metadata": {
    "scrolled": true
   },
   "outputs": [],
   "source": [
    "last_temp = new_temp.groupby('key').last()\n",
    "last_temp = last_temp.drop('Время замера',axis=1)\n",
    "last_temp.rename(columns={'Температура':'Последняя температура'},inplace=True)"
   ]
  },
  {
   "cell_type": "code",
   "execution_count": 42,
   "metadata": {},
   "outputs": [
    {
     "data": {
      "text/html": [
       "<div>\n",
       "<style scoped>\n",
       "    .dataframe tbody tr th:only-of-type {\n",
       "        vertical-align: middle;\n",
       "    }\n",
       "\n",
       "    .dataframe tbody tr th {\n",
       "        vertical-align: top;\n",
       "    }\n",
       "\n",
       "    .dataframe thead th {\n",
       "        text-align: right;\n",
       "    }\n",
       "</style>\n",
       "<table border=\"1\" class=\"dataframe\">\n",
       "  <thead>\n",
       "    <tr style=\"text-align: right;\">\n",
       "      <th></th>\n",
       "      <th>Последняя температура</th>\n",
       "      <th>Начальная температура</th>\n",
       "    </tr>\n",
       "    <tr>\n",
       "      <th>key</th>\n",
       "      <th></th>\n",
       "      <th></th>\n",
       "    </tr>\n",
       "  </thead>\n",
       "  <tbody>\n",
       "    <tr>\n",
       "      <th>1</th>\n",
       "      <td>1613.0</td>\n",
       "      <td>1571.0</td>\n",
       "    </tr>\n",
       "    <tr>\n",
       "      <th>2</th>\n",
       "      <td>1602.0</td>\n",
       "      <td>1581.0</td>\n",
       "    </tr>\n",
       "    <tr>\n",
       "      <th>3</th>\n",
       "      <td>1599.0</td>\n",
       "      <td>1596.0</td>\n",
       "    </tr>\n",
       "    <tr>\n",
       "      <th>4</th>\n",
       "      <td>1625.0</td>\n",
       "      <td>1601.0</td>\n",
       "    </tr>\n",
       "    <tr>\n",
       "      <th>5</th>\n",
       "      <td>1602.0</td>\n",
       "      <td>1576.0</td>\n",
       "    </tr>\n",
       "    <tr>\n",
       "      <th>...</th>\n",
       "      <td>...</td>\n",
       "      <td>...</td>\n",
       "    </tr>\n",
       "    <tr>\n",
       "      <th>2495</th>\n",
       "      <td>1591.0</td>\n",
       "      <td>1570.0</td>\n",
       "    </tr>\n",
       "    <tr>\n",
       "      <th>2496</th>\n",
       "      <td>1591.0</td>\n",
       "      <td>1554.0</td>\n",
       "    </tr>\n",
       "    <tr>\n",
       "      <th>2497</th>\n",
       "      <td>1589.0</td>\n",
       "      <td>1571.0</td>\n",
       "    </tr>\n",
       "    <tr>\n",
       "      <th>2498</th>\n",
       "      <td>1594.0</td>\n",
       "      <td>1591.0</td>\n",
       "    </tr>\n",
       "    <tr>\n",
       "      <th>2499</th>\n",
       "      <td>1603.0</td>\n",
       "      <td>1569.0</td>\n",
       "    </tr>\n",
       "  </tbody>\n",
       "</table>\n",
       "<p>2475 rows × 2 columns</p>\n",
       "</div>"
      ],
      "text/plain": [
       "      Последняя температура  Начальная температура\n",
       "key                                               \n",
       "1                    1613.0                 1571.0\n",
       "2                    1602.0                 1581.0\n",
       "3                    1599.0                 1596.0\n",
       "4                    1625.0                 1601.0\n",
       "5                    1602.0                 1576.0\n",
       "...                     ...                    ...\n",
       "2495                 1591.0                 1570.0\n",
       "2496                 1591.0                 1554.0\n",
       "2497                 1589.0                 1571.0\n",
       "2498                 1594.0                 1591.0\n",
       "2499                 1603.0                 1569.0\n",
       "\n",
       "[2475 rows x 2 columns]"
      ]
     },
     "execution_count": 42,
     "metadata": {},
     "output_type": "execute_result"
    }
   ],
   "source": [
    "df = pd.merge(last_temp,first_temp,left_index=True, right_index=True, how='inner')\n",
    "df"
   ]
  },
  {
   "cell_type": "code",
   "execution_count": 43,
   "metadata": {},
   "outputs": [
    {
     "data": {
      "text/html": [
       "<div>\n",
       "<style scoped>\n",
       "    .dataframe tbody tr th:only-of-type {\n",
       "        vertical-align: middle;\n",
       "    }\n",
       "\n",
       "    .dataframe tbody tr th {\n",
       "        vertical-align: top;\n",
       "    }\n",
       "\n",
       "    .dataframe thead th {\n",
       "        text-align: right;\n",
       "    }\n",
       "</style>\n",
       "<table border=\"1\" class=\"dataframe\">\n",
       "  <thead>\n",
       "    <tr style=\"text-align: right;\">\n",
       "      <th></th>\n",
       "      <th>Последняя температура</th>\n",
       "      <th>Начальная температура</th>\n",
       "      <th>Активная мощность</th>\n",
       "      <th>Реактивная мощность</th>\n",
       "    </tr>\n",
       "    <tr>\n",
       "      <th>key</th>\n",
       "      <th></th>\n",
       "      <th></th>\n",
       "      <th></th>\n",
       "      <th></th>\n",
       "    </tr>\n",
       "  </thead>\n",
       "  <tbody>\n",
       "    <tr>\n",
       "      <th>1</th>\n",
       "      <td>1613.0</td>\n",
       "      <td>1571.0</td>\n",
       "      <td>0.975629</td>\n",
       "      <td>0.636648</td>\n",
       "    </tr>\n",
       "    <tr>\n",
       "      <th>2</th>\n",
       "      <td>1602.0</td>\n",
       "      <td>1581.0</td>\n",
       "      <td>0.763150</td>\n",
       "      <td>0.499528</td>\n",
       "    </tr>\n",
       "    <tr>\n",
       "      <th>3</th>\n",
       "      <td>1599.0</td>\n",
       "      <td>1596.0</td>\n",
       "      <td>0.505176</td>\n",
       "      <td>0.319815</td>\n",
       "    </tr>\n",
       "    <tr>\n",
       "      <th>4</th>\n",
       "      <td>1625.0</td>\n",
       "      <td>1601.0</td>\n",
       "      <td>0.802313</td>\n",
       "      <td>0.515074</td>\n",
       "    </tr>\n",
       "    <tr>\n",
       "      <th>5</th>\n",
       "      <td>1602.0</td>\n",
       "      <td>1576.0</td>\n",
       "      <td>0.836793</td>\n",
       "      <td>0.563161</td>\n",
       "    </tr>\n",
       "    <tr>\n",
       "      <th>...</th>\n",
       "      <td>...</td>\n",
       "      <td>...</td>\n",
       "      <td>...</td>\n",
       "      <td>...</td>\n",
       "    </tr>\n",
       "    <tr>\n",
       "      <th>2495</th>\n",
       "      <td>1591.0</td>\n",
       "      <td>1570.0</td>\n",
       "      <td>0.802673</td>\n",
       "      <td>0.590194</td>\n",
       "    </tr>\n",
       "    <tr>\n",
       "      <th>2496</th>\n",
       "      <td>1591.0</td>\n",
       "      <td>1554.0</td>\n",
       "      <td>0.700511</td>\n",
       "      <td>0.468364</td>\n",
       "    </tr>\n",
       "    <tr>\n",
       "      <th>2497</th>\n",
       "      <td>1589.0</td>\n",
       "      <td>1571.0</td>\n",
       "      <td>0.737460</td>\n",
       "      <td>0.617090</td>\n",
       "    </tr>\n",
       "    <tr>\n",
       "      <th>2498</th>\n",
       "      <td>1594.0</td>\n",
       "      <td>1591.0</td>\n",
       "      <td>0.681745</td>\n",
       "      <td>0.471086</td>\n",
       "    </tr>\n",
       "    <tr>\n",
       "      <th>2499</th>\n",
       "      <td>1603.0</td>\n",
       "      <td>1569.0</td>\n",
       "      <td>1.024608</td>\n",
       "      <td>0.694466</td>\n",
       "    </tr>\n",
       "  </tbody>\n",
       "</table>\n",
       "<p>2475 rows × 4 columns</p>\n",
       "</div>"
      ],
      "text/plain": [
       "      Последняя температура  Начальная температура  Активная мощность  \\\n",
       "key                                                                     \n",
       "1                    1613.0                 1571.0           0.975629   \n",
       "2                    1602.0                 1581.0           0.763150   \n",
       "3                    1599.0                 1596.0           0.505176   \n",
       "4                    1625.0                 1601.0           0.802313   \n",
       "5                    1602.0                 1576.0           0.836793   \n",
       "...                     ...                    ...                ...   \n",
       "2495                 1591.0                 1570.0           0.802673   \n",
       "2496                 1591.0                 1554.0           0.700511   \n",
       "2497                 1589.0                 1571.0           0.737460   \n",
       "2498                 1594.0                 1591.0           0.681745   \n",
       "2499                 1603.0                 1569.0           1.024608   \n",
       "\n",
       "      Реактивная мощность  \n",
       "key                        \n",
       "1                0.636648  \n",
       "2                0.499528  \n",
       "3                0.319815  \n",
       "4                0.515074  \n",
       "5                0.563161  \n",
       "...                   ...  \n",
       "2495             0.590194  \n",
       "2496             0.468364  \n",
       "2497             0.617090  \n",
       "2498             0.471086  \n",
       "2499             0.694466  \n",
       "\n",
       "[2475 rows x 4 columns]"
      ]
     },
     "execution_count": 43,
     "metadata": {},
     "output_type": "execute_result"
    }
   ],
   "source": [
    "df = pd.merge(df,new_arc,left_index=True, right_index=True, how='inner')\n",
    "df"
   ]
  },
  {
   "cell_type": "code",
   "execution_count": 44,
   "metadata": {},
   "outputs": [
    {
     "data": {
      "text/html": [
       "<div>\n",
       "<style scoped>\n",
       "    .dataframe tbody tr th:only-of-type {\n",
       "        vertical-align: middle;\n",
       "    }\n",
       "\n",
       "    .dataframe tbody tr th {\n",
       "        vertical-align: top;\n",
       "    }\n",
       "\n",
       "    .dataframe thead th {\n",
       "        text-align: right;\n",
       "    }\n",
       "</style>\n",
       "<table border=\"1\" class=\"dataframe\">\n",
       "  <thead>\n",
       "    <tr style=\"text-align: right;\">\n",
       "      <th></th>\n",
       "      <th>Последняя температура</th>\n",
       "      <th>Начальная температура</th>\n",
       "      <th>Активная мощность</th>\n",
       "      <th>Реактивная мощность</th>\n",
       "      <th>Wire 1</th>\n",
       "      <th>Wire 2</th>\n",
       "      <th>Wire 3</th>\n",
       "      <th>Wire 4</th>\n",
       "      <th>Wire 5</th>\n",
       "      <th>Wire 6</th>\n",
       "      <th>Wire 7</th>\n",
       "      <th>Wire 8</th>\n",
       "      <th>Wire 9</th>\n",
       "    </tr>\n",
       "    <tr>\n",
       "      <th>key</th>\n",
       "      <th></th>\n",
       "      <th></th>\n",
       "      <th></th>\n",
       "      <th></th>\n",
       "      <th></th>\n",
       "      <th></th>\n",
       "      <th></th>\n",
       "      <th></th>\n",
       "      <th></th>\n",
       "      <th></th>\n",
       "      <th></th>\n",
       "      <th></th>\n",
       "      <th></th>\n",
       "    </tr>\n",
       "  </thead>\n",
       "  <tbody>\n",
       "    <tr>\n",
       "      <th>1</th>\n",
       "      <td>1613.0</td>\n",
       "      <td>1571.0</td>\n",
       "      <td>0.975629</td>\n",
       "      <td>0.636648</td>\n",
       "      <td>60.059998</td>\n",
       "      <td>0.00000</td>\n",
       "      <td>0.0</td>\n",
       "      <td>0.0</td>\n",
       "      <td>0.0</td>\n",
       "      <td>0.0</td>\n",
       "      <td>0.0</td>\n",
       "      <td>0.0</td>\n",
       "      <td>0.0</td>\n",
       "    </tr>\n",
       "    <tr>\n",
       "      <th>2</th>\n",
       "      <td>1602.0</td>\n",
       "      <td>1581.0</td>\n",
       "      <td>0.763150</td>\n",
       "      <td>0.499528</td>\n",
       "      <td>96.052315</td>\n",
       "      <td>0.00000</td>\n",
       "      <td>0.0</td>\n",
       "      <td>0.0</td>\n",
       "      <td>0.0</td>\n",
       "      <td>0.0</td>\n",
       "      <td>0.0</td>\n",
       "      <td>0.0</td>\n",
       "      <td>0.0</td>\n",
       "    </tr>\n",
       "    <tr>\n",
       "      <th>3</th>\n",
       "      <td>1599.0</td>\n",
       "      <td>1596.0</td>\n",
       "      <td>0.505176</td>\n",
       "      <td>0.319815</td>\n",
       "      <td>91.160157</td>\n",
       "      <td>0.00000</td>\n",
       "      <td>0.0</td>\n",
       "      <td>0.0</td>\n",
       "      <td>0.0</td>\n",
       "      <td>0.0</td>\n",
       "      <td>0.0</td>\n",
       "      <td>0.0</td>\n",
       "      <td>0.0</td>\n",
       "    </tr>\n",
       "    <tr>\n",
       "      <th>4</th>\n",
       "      <td>1625.0</td>\n",
       "      <td>1601.0</td>\n",
       "      <td>0.802313</td>\n",
       "      <td>0.515074</td>\n",
       "      <td>89.063515</td>\n",
       "      <td>0.00000</td>\n",
       "      <td>0.0</td>\n",
       "      <td>0.0</td>\n",
       "      <td>0.0</td>\n",
       "      <td>0.0</td>\n",
       "      <td>0.0</td>\n",
       "      <td>0.0</td>\n",
       "      <td>0.0</td>\n",
       "    </tr>\n",
       "    <tr>\n",
       "      <th>5</th>\n",
       "      <td>1602.0</td>\n",
       "      <td>1576.0</td>\n",
       "      <td>0.836793</td>\n",
       "      <td>0.563161</td>\n",
       "      <td>89.238236</td>\n",
       "      <td>9.11456</td>\n",
       "      <td>0.0</td>\n",
       "      <td>0.0</td>\n",
       "      <td>0.0</td>\n",
       "      <td>0.0</td>\n",
       "      <td>0.0</td>\n",
       "      <td>0.0</td>\n",
       "      <td>0.0</td>\n",
       "    </tr>\n",
       "    <tr>\n",
       "      <th>...</th>\n",
       "      <td>...</td>\n",
       "      <td>...</td>\n",
       "      <td>...</td>\n",
       "      <td>...</td>\n",
       "      <td>...</td>\n",
       "      <td>...</td>\n",
       "      <td>...</td>\n",
       "      <td>...</td>\n",
       "      <td>...</td>\n",
       "      <td>...</td>\n",
       "      <td>...</td>\n",
       "      <td>...</td>\n",
       "      <td>...</td>\n",
       "    </tr>\n",
       "    <tr>\n",
       "      <th>2495</th>\n",
       "      <td>1591.0</td>\n",
       "      <td>1570.0</td>\n",
       "      <td>0.802673</td>\n",
       "      <td>0.590194</td>\n",
       "      <td>89.150879</td>\n",
       "      <td>0.00000</td>\n",
       "      <td>0.0</td>\n",
       "      <td>0.0</td>\n",
       "      <td>0.0</td>\n",
       "      <td>0.0</td>\n",
       "      <td>0.0</td>\n",
       "      <td>0.0</td>\n",
       "      <td>0.0</td>\n",
       "    </tr>\n",
       "    <tr>\n",
       "      <th>2496</th>\n",
       "      <td>1591.0</td>\n",
       "      <td>1554.0</td>\n",
       "      <td>0.700511</td>\n",
       "      <td>0.468364</td>\n",
       "      <td>114.179527</td>\n",
       "      <td>0.00000</td>\n",
       "      <td>0.0</td>\n",
       "      <td>0.0</td>\n",
       "      <td>0.0</td>\n",
       "      <td>0.0</td>\n",
       "      <td>0.0</td>\n",
       "      <td>0.0</td>\n",
       "      <td>0.0</td>\n",
       "    </tr>\n",
       "    <tr>\n",
       "      <th>2497</th>\n",
       "      <td>1589.0</td>\n",
       "      <td>1571.0</td>\n",
       "      <td>0.737460</td>\n",
       "      <td>0.617090</td>\n",
       "      <td>94.086723</td>\n",
       "      <td>9.04800</td>\n",
       "      <td>0.0</td>\n",
       "      <td>0.0</td>\n",
       "      <td>0.0</td>\n",
       "      <td>0.0</td>\n",
       "      <td>0.0</td>\n",
       "      <td>0.0</td>\n",
       "      <td>0.0</td>\n",
       "    </tr>\n",
       "    <tr>\n",
       "      <th>2498</th>\n",
       "      <td>1594.0</td>\n",
       "      <td>1591.0</td>\n",
       "      <td>0.681745</td>\n",
       "      <td>0.471086</td>\n",
       "      <td>118.110717</td>\n",
       "      <td>0.00000</td>\n",
       "      <td>0.0</td>\n",
       "      <td>0.0</td>\n",
       "      <td>0.0</td>\n",
       "      <td>0.0</td>\n",
       "      <td>0.0</td>\n",
       "      <td>0.0</td>\n",
       "      <td>0.0</td>\n",
       "    </tr>\n",
       "    <tr>\n",
       "      <th>2499</th>\n",
       "      <td>1603.0</td>\n",
       "      <td>1569.0</td>\n",
       "      <td>1.024608</td>\n",
       "      <td>0.694466</td>\n",
       "      <td>110.160958</td>\n",
       "      <td>50.00528</td>\n",
       "      <td>0.0</td>\n",
       "      <td>0.0</td>\n",
       "      <td>0.0</td>\n",
       "      <td>0.0</td>\n",
       "      <td>0.0</td>\n",
       "      <td>0.0</td>\n",
       "      <td>0.0</td>\n",
       "    </tr>\n",
       "  </tbody>\n",
       "</table>\n",
       "<p>2372 rows × 13 columns</p>\n",
       "</div>"
      ],
      "text/plain": [
       "      Последняя температура  Начальная температура  Активная мощность  \\\n",
       "key                                                                     \n",
       "1                    1613.0                 1571.0           0.975629   \n",
       "2                    1602.0                 1581.0           0.763150   \n",
       "3                    1599.0                 1596.0           0.505176   \n",
       "4                    1625.0                 1601.0           0.802313   \n",
       "5                    1602.0                 1576.0           0.836793   \n",
       "...                     ...                    ...                ...   \n",
       "2495                 1591.0                 1570.0           0.802673   \n",
       "2496                 1591.0                 1554.0           0.700511   \n",
       "2497                 1589.0                 1571.0           0.737460   \n",
       "2498                 1594.0                 1591.0           0.681745   \n",
       "2499                 1603.0                 1569.0           1.024608   \n",
       "\n",
       "      Реактивная мощность      Wire 1    Wire 2  Wire 3  Wire 4  Wire 5  \\\n",
       "key                                                                       \n",
       "1                0.636648   60.059998   0.00000     0.0     0.0     0.0   \n",
       "2                0.499528   96.052315   0.00000     0.0     0.0     0.0   \n",
       "3                0.319815   91.160157   0.00000     0.0     0.0     0.0   \n",
       "4                0.515074   89.063515   0.00000     0.0     0.0     0.0   \n",
       "5                0.563161   89.238236   9.11456     0.0     0.0     0.0   \n",
       "...                   ...         ...       ...     ...     ...     ...   \n",
       "2495             0.590194   89.150879   0.00000     0.0     0.0     0.0   \n",
       "2496             0.468364  114.179527   0.00000     0.0     0.0     0.0   \n",
       "2497             0.617090   94.086723   9.04800     0.0     0.0     0.0   \n",
       "2498             0.471086  118.110717   0.00000     0.0     0.0     0.0   \n",
       "2499             0.694466  110.160958  50.00528     0.0     0.0     0.0   \n",
       "\n",
       "      Wire 6  Wire 7  Wire 8  Wire 9  \n",
       "key                                   \n",
       "1        0.0     0.0     0.0     0.0  \n",
       "2        0.0     0.0     0.0     0.0  \n",
       "3        0.0     0.0     0.0     0.0  \n",
       "4        0.0     0.0     0.0     0.0  \n",
       "5        0.0     0.0     0.0     0.0  \n",
       "...      ...     ...     ...     ...  \n",
       "2495     0.0     0.0     0.0     0.0  \n",
       "2496     0.0     0.0     0.0     0.0  \n",
       "2497     0.0     0.0     0.0     0.0  \n",
       "2498     0.0     0.0     0.0     0.0  \n",
       "2499     0.0     0.0     0.0     0.0  \n",
       "\n",
       "[2372 rows x 13 columns]"
      ]
     },
     "execution_count": 44,
     "metadata": {},
     "output_type": "execute_result"
    }
   ],
   "source": [
    "df = pd.merge(df,data_wire,left_index=True, right_index=True, how='inner')\n",
    "df"
   ]
  },
  {
   "cell_type": "code",
   "execution_count": 45,
   "metadata": {},
   "outputs": [
    {
     "data": {
      "text/html": [
       "<div>\n",
       "<style scoped>\n",
       "    .dataframe tbody tr th:only-of-type {\n",
       "        vertical-align: middle;\n",
       "    }\n",
       "\n",
       "    .dataframe tbody tr th {\n",
       "        vertical-align: top;\n",
       "    }\n",
       "\n",
       "    .dataframe thead th {\n",
       "        text-align: right;\n",
       "    }\n",
       "</style>\n",
       "<table border=\"1\" class=\"dataframe\">\n",
       "  <thead>\n",
       "    <tr style=\"text-align: right;\">\n",
       "      <th></th>\n",
       "      <th>Последняя температура</th>\n",
       "      <th>Начальная температура</th>\n",
       "      <th>Активная мощность</th>\n",
       "      <th>Реактивная мощность</th>\n",
       "      <th>Wire 1</th>\n",
       "      <th>Wire 2</th>\n",
       "      <th>Wire 3</th>\n",
       "      <th>Wire 4</th>\n",
       "      <th>Wire 5</th>\n",
       "      <th>Wire 6</th>\n",
       "      <th>Wire 7</th>\n",
       "      <th>Wire 8</th>\n",
       "      <th>Wire 9</th>\n",
       "      <th>Газ 1</th>\n",
       "    </tr>\n",
       "    <tr>\n",
       "      <th>key</th>\n",
       "      <th></th>\n",
       "      <th></th>\n",
       "      <th></th>\n",
       "      <th></th>\n",
       "      <th></th>\n",
       "      <th></th>\n",
       "      <th></th>\n",
       "      <th></th>\n",
       "      <th></th>\n",
       "      <th></th>\n",
       "      <th></th>\n",
       "      <th></th>\n",
       "      <th></th>\n",
       "      <th></th>\n",
       "    </tr>\n",
       "  </thead>\n",
       "  <tbody>\n",
       "    <tr>\n",
       "      <th>1</th>\n",
       "      <td>1613.0</td>\n",
       "      <td>1571.0</td>\n",
       "      <td>0.975629</td>\n",
       "      <td>0.636648</td>\n",
       "      <td>60.059998</td>\n",
       "      <td>0.00000</td>\n",
       "      <td>0.0</td>\n",
       "      <td>0.0</td>\n",
       "      <td>0.0</td>\n",
       "      <td>0.0</td>\n",
       "      <td>0.0</td>\n",
       "      <td>0.0</td>\n",
       "      <td>0.0</td>\n",
       "      <td>29.749986</td>\n",
       "    </tr>\n",
       "    <tr>\n",
       "      <th>2</th>\n",
       "      <td>1602.0</td>\n",
       "      <td>1581.0</td>\n",
       "      <td>0.763150</td>\n",
       "      <td>0.499528</td>\n",
       "      <td>96.052315</td>\n",
       "      <td>0.00000</td>\n",
       "      <td>0.0</td>\n",
       "      <td>0.0</td>\n",
       "      <td>0.0</td>\n",
       "      <td>0.0</td>\n",
       "      <td>0.0</td>\n",
       "      <td>0.0</td>\n",
       "      <td>0.0</td>\n",
       "      <td>12.555561</td>\n",
       "    </tr>\n",
       "    <tr>\n",
       "      <th>3</th>\n",
       "      <td>1599.0</td>\n",
       "      <td>1596.0</td>\n",
       "      <td>0.505176</td>\n",
       "      <td>0.319815</td>\n",
       "      <td>91.160157</td>\n",
       "      <td>0.00000</td>\n",
       "      <td>0.0</td>\n",
       "      <td>0.0</td>\n",
       "      <td>0.0</td>\n",
       "      <td>0.0</td>\n",
       "      <td>0.0</td>\n",
       "      <td>0.0</td>\n",
       "      <td>0.0</td>\n",
       "      <td>28.554793</td>\n",
       "    </tr>\n",
       "    <tr>\n",
       "      <th>4</th>\n",
       "      <td>1625.0</td>\n",
       "      <td>1601.0</td>\n",
       "      <td>0.802313</td>\n",
       "      <td>0.515074</td>\n",
       "      <td>89.063515</td>\n",
       "      <td>0.00000</td>\n",
       "      <td>0.0</td>\n",
       "      <td>0.0</td>\n",
       "      <td>0.0</td>\n",
       "      <td>0.0</td>\n",
       "      <td>0.0</td>\n",
       "      <td>0.0</td>\n",
       "      <td>0.0</td>\n",
       "      <td>18.841219</td>\n",
       "    </tr>\n",
       "    <tr>\n",
       "      <th>5</th>\n",
       "      <td>1602.0</td>\n",
       "      <td>1576.0</td>\n",
       "      <td>0.836793</td>\n",
       "      <td>0.563161</td>\n",
       "      <td>89.238236</td>\n",
       "      <td>9.11456</td>\n",
       "      <td>0.0</td>\n",
       "      <td>0.0</td>\n",
       "      <td>0.0</td>\n",
       "      <td>0.0</td>\n",
       "      <td>0.0</td>\n",
       "      <td>0.0</td>\n",
       "      <td>0.0</td>\n",
       "      <td>5.413692</td>\n",
       "    </tr>\n",
       "    <tr>\n",
       "      <th>...</th>\n",
       "      <td>...</td>\n",
       "      <td>...</td>\n",
       "      <td>...</td>\n",
       "      <td>...</td>\n",
       "      <td>...</td>\n",
       "      <td>...</td>\n",
       "      <td>...</td>\n",
       "      <td>...</td>\n",
       "      <td>...</td>\n",
       "      <td>...</td>\n",
       "      <td>...</td>\n",
       "      <td>...</td>\n",
       "      <td>...</td>\n",
       "      <td>...</td>\n",
       "    </tr>\n",
       "    <tr>\n",
       "      <th>2495</th>\n",
       "      <td>1591.0</td>\n",
       "      <td>1570.0</td>\n",
       "      <td>0.802673</td>\n",
       "      <td>0.590194</td>\n",
       "      <td>89.150879</td>\n",
       "      <td>0.00000</td>\n",
       "      <td>0.0</td>\n",
       "      <td>0.0</td>\n",
       "      <td>0.0</td>\n",
       "      <td>0.0</td>\n",
       "      <td>0.0</td>\n",
       "      <td>0.0</td>\n",
       "      <td>0.0</td>\n",
       "      <td>7.125735</td>\n",
       "    </tr>\n",
       "    <tr>\n",
       "      <th>2496</th>\n",
       "      <td>1591.0</td>\n",
       "      <td>1554.0</td>\n",
       "      <td>0.700511</td>\n",
       "      <td>0.468364</td>\n",
       "      <td>114.179527</td>\n",
       "      <td>0.00000</td>\n",
       "      <td>0.0</td>\n",
       "      <td>0.0</td>\n",
       "      <td>0.0</td>\n",
       "      <td>0.0</td>\n",
       "      <td>0.0</td>\n",
       "      <td>0.0</td>\n",
       "      <td>0.0</td>\n",
       "      <td>9.412616</td>\n",
       "    </tr>\n",
       "    <tr>\n",
       "      <th>2497</th>\n",
       "      <td>1589.0</td>\n",
       "      <td>1571.0</td>\n",
       "      <td>0.737460</td>\n",
       "      <td>0.617090</td>\n",
       "      <td>94.086723</td>\n",
       "      <td>9.04800</td>\n",
       "      <td>0.0</td>\n",
       "      <td>0.0</td>\n",
       "      <td>0.0</td>\n",
       "      <td>0.0</td>\n",
       "      <td>0.0</td>\n",
       "      <td>0.0</td>\n",
       "      <td>0.0</td>\n",
       "      <td>6.271699</td>\n",
       "    </tr>\n",
       "    <tr>\n",
       "      <th>2498</th>\n",
       "      <td>1594.0</td>\n",
       "      <td>1591.0</td>\n",
       "      <td>0.681745</td>\n",
       "      <td>0.471086</td>\n",
       "      <td>118.110717</td>\n",
       "      <td>0.00000</td>\n",
       "      <td>0.0</td>\n",
       "      <td>0.0</td>\n",
       "      <td>0.0</td>\n",
       "      <td>0.0</td>\n",
       "      <td>0.0</td>\n",
       "      <td>0.0</td>\n",
       "      <td>0.0</td>\n",
       "      <td>14.953657</td>\n",
       "    </tr>\n",
       "    <tr>\n",
       "      <th>2499</th>\n",
       "      <td>1603.0</td>\n",
       "      <td>1569.0</td>\n",
       "      <td>1.024608</td>\n",
       "      <td>0.694466</td>\n",
       "      <td>110.160958</td>\n",
       "      <td>50.00528</td>\n",
       "      <td>0.0</td>\n",
       "      <td>0.0</td>\n",
       "      <td>0.0</td>\n",
       "      <td>0.0</td>\n",
       "      <td>0.0</td>\n",
       "      <td>0.0</td>\n",
       "      <td>0.0</td>\n",
       "      <td>11.336151</td>\n",
       "    </tr>\n",
       "  </tbody>\n",
       "</table>\n",
       "<p>2370 rows × 14 columns</p>\n",
       "</div>"
      ],
      "text/plain": [
       "      Последняя температура  Начальная температура  Активная мощность  \\\n",
       "key                                                                     \n",
       "1                    1613.0                 1571.0           0.975629   \n",
       "2                    1602.0                 1581.0           0.763150   \n",
       "3                    1599.0                 1596.0           0.505176   \n",
       "4                    1625.0                 1601.0           0.802313   \n",
       "5                    1602.0                 1576.0           0.836793   \n",
       "...                     ...                    ...                ...   \n",
       "2495                 1591.0                 1570.0           0.802673   \n",
       "2496                 1591.0                 1554.0           0.700511   \n",
       "2497                 1589.0                 1571.0           0.737460   \n",
       "2498                 1594.0                 1591.0           0.681745   \n",
       "2499                 1603.0                 1569.0           1.024608   \n",
       "\n",
       "      Реактивная мощность      Wire 1    Wire 2  Wire 3  Wire 4  Wire 5  \\\n",
       "key                                                                       \n",
       "1                0.636648   60.059998   0.00000     0.0     0.0     0.0   \n",
       "2                0.499528   96.052315   0.00000     0.0     0.0     0.0   \n",
       "3                0.319815   91.160157   0.00000     0.0     0.0     0.0   \n",
       "4                0.515074   89.063515   0.00000     0.0     0.0     0.0   \n",
       "5                0.563161   89.238236   9.11456     0.0     0.0     0.0   \n",
       "...                   ...         ...       ...     ...     ...     ...   \n",
       "2495             0.590194   89.150879   0.00000     0.0     0.0     0.0   \n",
       "2496             0.468364  114.179527   0.00000     0.0     0.0     0.0   \n",
       "2497             0.617090   94.086723   9.04800     0.0     0.0     0.0   \n",
       "2498             0.471086  118.110717   0.00000     0.0     0.0     0.0   \n",
       "2499             0.694466  110.160958  50.00528     0.0     0.0     0.0   \n",
       "\n",
       "      Wire 6  Wire 7  Wire 8  Wire 9      Газ 1  \n",
       "key                                              \n",
       "1        0.0     0.0     0.0     0.0  29.749986  \n",
       "2        0.0     0.0     0.0     0.0  12.555561  \n",
       "3        0.0     0.0     0.0     0.0  28.554793  \n",
       "4        0.0     0.0     0.0     0.0  18.841219  \n",
       "5        0.0     0.0     0.0     0.0   5.413692  \n",
       "...      ...     ...     ...     ...        ...  \n",
       "2495     0.0     0.0     0.0     0.0   7.125735  \n",
       "2496     0.0     0.0     0.0     0.0   9.412616  \n",
       "2497     0.0     0.0     0.0     0.0   6.271699  \n",
       "2498     0.0     0.0     0.0     0.0  14.953657  \n",
       "2499     0.0     0.0     0.0     0.0  11.336151  \n",
       "\n",
       "[2370 rows x 14 columns]"
      ]
     },
     "execution_count": 45,
     "metadata": {},
     "output_type": "execute_result"
    }
   ],
   "source": [
    "df = pd.merge(df,data_gas,left_index=True, right_index=True, how='inner')\n",
    "df"
   ]
  },
  {
   "cell_type": "code",
   "execution_count": 46,
   "metadata": {
    "scrolled": true
   },
   "outputs": [
    {
     "data": {
      "text/html": [
       "<div>\n",
       "<style scoped>\n",
       "    .dataframe tbody tr th:only-of-type {\n",
       "        vertical-align: middle;\n",
       "    }\n",
       "\n",
       "    .dataframe tbody tr th {\n",
       "        vertical-align: top;\n",
       "    }\n",
       "\n",
       "    .dataframe thead th {\n",
       "        text-align: right;\n",
       "    }\n",
       "</style>\n",
       "<table border=\"1\" class=\"dataframe\">\n",
       "  <thead>\n",
       "    <tr style=\"text-align: right;\">\n",
       "      <th></th>\n",
       "      <th>Последняя температура</th>\n",
       "      <th>Начальная температура</th>\n",
       "      <th>Активная мощность</th>\n",
       "      <th>Реактивная мощность</th>\n",
       "      <th>Wire 1</th>\n",
       "      <th>Wire 2</th>\n",
       "      <th>Wire 3</th>\n",
       "      <th>Wire 4</th>\n",
       "      <th>Wire 5</th>\n",
       "      <th>Wire 6</th>\n",
       "      <th>...</th>\n",
       "      <th>Bulk 6</th>\n",
       "      <th>Bulk 7</th>\n",
       "      <th>Bulk 8</th>\n",
       "      <th>Bulk 9</th>\n",
       "      <th>Bulk 10</th>\n",
       "      <th>Bulk 11</th>\n",
       "      <th>Bulk 12</th>\n",
       "      <th>Bulk 13</th>\n",
       "      <th>Bulk 14</th>\n",
       "      <th>Bulk 15</th>\n",
       "    </tr>\n",
       "    <tr>\n",
       "      <th>key</th>\n",
       "      <th></th>\n",
       "      <th></th>\n",
       "      <th></th>\n",
       "      <th></th>\n",
       "      <th></th>\n",
       "      <th></th>\n",
       "      <th></th>\n",
       "      <th></th>\n",
       "      <th></th>\n",
       "      <th></th>\n",
       "      <th></th>\n",
       "      <th></th>\n",
       "      <th></th>\n",
       "      <th></th>\n",
       "      <th></th>\n",
       "      <th></th>\n",
       "      <th></th>\n",
       "      <th></th>\n",
       "      <th></th>\n",
       "      <th></th>\n",
       "      <th></th>\n",
       "    </tr>\n",
       "  </thead>\n",
       "  <tbody>\n",
       "    <tr>\n",
       "      <th>1</th>\n",
       "      <td>1613.0</td>\n",
       "      <td>1571.0</td>\n",
       "      <td>0.975629</td>\n",
       "      <td>0.636648</td>\n",
       "      <td>60.059998</td>\n",
       "      <td>0.00000</td>\n",
       "      <td>0.0</td>\n",
       "      <td>0.0</td>\n",
       "      <td>0.0</td>\n",
       "      <td>0.0</td>\n",
       "      <td>...</td>\n",
       "      <td>0.0</td>\n",
       "      <td>0.0</td>\n",
       "      <td>0.0</td>\n",
       "      <td>0.0</td>\n",
       "      <td>0.0</td>\n",
       "      <td>0.0</td>\n",
       "      <td>206.0</td>\n",
       "      <td>0.0</td>\n",
       "      <td>150.0</td>\n",
       "      <td>154.0</td>\n",
       "    </tr>\n",
       "    <tr>\n",
       "      <th>2</th>\n",
       "      <td>1602.0</td>\n",
       "      <td>1581.0</td>\n",
       "      <td>0.763150</td>\n",
       "      <td>0.499528</td>\n",
       "      <td>96.052315</td>\n",
       "      <td>0.00000</td>\n",
       "      <td>0.0</td>\n",
       "      <td>0.0</td>\n",
       "      <td>0.0</td>\n",
       "      <td>0.0</td>\n",
       "      <td>...</td>\n",
       "      <td>0.0</td>\n",
       "      <td>0.0</td>\n",
       "      <td>0.0</td>\n",
       "      <td>0.0</td>\n",
       "      <td>0.0</td>\n",
       "      <td>0.0</td>\n",
       "      <td>206.0</td>\n",
       "      <td>0.0</td>\n",
       "      <td>149.0</td>\n",
       "      <td>154.0</td>\n",
       "    </tr>\n",
       "    <tr>\n",
       "      <th>3</th>\n",
       "      <td>1599.0</td>\n",
       "      <td>1596.0</td>\n",
       "      <td>0.505176</td>\n",
       "      <td>0.319815</td>\n",
       "      <td>91.160157</td>\n",
       "      <td>0.00000</td>\n",
       "      <td>0.0</td>\n",
       "      <td>0.0</td>\n",
       "      <td>0.0</td>\n",
       "      <td>0.0</td>\n",
       "      <td>...</td>\n",
       "      <td>0.0</td>\n",
       "      <td>0.0</td>\n",
       "      <td>0.0</td>\n",
       "      <td>0.0</td>\n",
       "      <td>0.0</td>\n",
       "      <td>0.0</td>\n",
       "      <td>205.0</td>\n",
       "      <td>0.0</td>\n",
       "      <td>152.0</td>\n",
       "      <td>153.0</td>\n",
       "    </tr>\n",
       "    <tr>\n",
       "      <th>4</th>\n",
       "      <td>1625.0</td>\n",
       "      <td>1601.0</td>\n",
       "      <td>0.802313</td>\n",
       "      <td>0.515074</td>\n",
       "      <td>89.063515</td>\n",
       "      <td>0.00000</td>\n",
       "      <td>0.0</td>\n",
       "      <td>0.0</td>\n",
       "      <td>0.0</td>\n",
       "      <td>0.0</td>\n",
       "      <td>...</td>\n",
       "      <td>0.0</td>\n",
       "      <td>0.0</td>\n",
       "      <td>0.0</td>\n",
       "      <td>0.0</td>\n",
       "      <td>0.0</td>\n",
       "      <td>0.0</td>\n",
       "      <td>207.0</td>\n",
       "      <td>0.0</td>\n",
       "      <td>153.0</td>\n",
       "      <td>154.0</td>\n",
       "    </tr>\n",
       "    <tr>\n",
       "      <th>5</th>\n",
       "      <td>1602.0</td>\n",
       "      <td>1576.0</td>\n",
       "      <td>0.836793</td>\n",
       "      <td>0.563161</td>\n",
       "      <td>89.238236</td>\n",
       "      <td>9.11456</td>\n",
       "      <td>0.0</td>\n",
       "      <td>0.0</td>\n",
       "      <td>0.0</td>\n",
       "      <td>0.0</td>\n",
       "      <td>...</td>\n",
       "      <td>0.0</td>\n",
       "      <td>0.0</td>\n",
       "      <td>0.0</td>\n",
       "      <td>0.0</td>\n",
       "      <td>0.0</td>\n",
       "      <td>0.0</td>\n",
       "      <td>203.0</td>\n",
       "      <td>0.0</td>\n",
       "      <td>151.0</td>\n",
       "      <td>152.0</td>\n",
       "    </tr>\n",
       "    <tr>\n",
       "      <th>...</th>\n",
       "      <td>...</td>\n",
       "      <td>...</td>\n",
       "      <td>...</td>\n",
       "      <td>...</td>\n",
       "      <td>...</td>\n",
       "      <td>...</td>\n",
       "      <td>...</td>\n",
       "      <td>...</td>\n",
       "      <td>...</td>\n",
       "      <td>...</td>\n",
       "      <td>...</td>\n",
       "      <td>...</td>\n",
       "      <td>...</td>\n",
       "      <td>...</td>\n",
       "      <td>...</td>\n",
       "      <td>...</td>\n",
       "      <td>...</td>\n",
       "      <td>...</td>\n",
       "      <td>...</td>\n",
       "      <td>...</td>\n",
       "      <td>...</td>\n",
       "    </tr>\n",
       "    <tr>\n",
       "      <th>2495</th>\n",
       "      <td>1591.0</td>\n",
       "      <td>1570.0</td>\n",
       "      <td>0.802673</td>\n",
       "      <td>0.590194</td>\n",
       "      <td>89.150879</td>\n",
       "      <td>0.00000</td>\n",
       "      <td>0.0</td>\n",
       "      <td>0.0</td>\n",
       "      <td>0.0</td>\n",
       "      <td>0.0</td>\n",
       "      <td>...</td>\n",
       "      <td>0.0</td>\n",
       "      <td>0.0</td>\n",
       "      <td>0.0</td>\n",
       "      <td>0.0</td>\n",
       "      <td>90.0</td>\n",
       "      <td>0.0</td>\n",
       "      <td>256.0</td>\n",
       "      <td>0.0</td>\n",
       "      <td>129.0</td>\n",
       "      <td>223.0</td>\n",
       "    </tr>\n",
       "    <tr>\n",
       "      <th>2496</th>\n",
       "      <td>1591.0</td>\n",
       "      <td>1554.0</td>\n",
       "      <td>0.700511</td>\n",
       "      <td>0.468364</td>\n",
       "      <td>114.179527</td>\n",
       "      <td>0.00000</td>\n",
       "      <td>0.0</td>\n",
       "      <td>0.0</td>\n",
       "      <td>0.0</td>\n",
       "      <td>0.0</td>\n",
       "      <td>...</td>\n",
       "      <td>0.0</td>\n",
       "      <td>0.0</td>\n",
       "      <td>0.0</td>\n",
       "      <td>0.0</td>\n",
       "      <td>122.0</td>\n",
       "      <td>0.0</td>\n",
       "      <td>256.0</td>\n",
       "      <td>0.0</td>\n",
       "      <td>129.0</td>\n",
       "      <td>226.0</td>\n",
       "    </tr>\n",
       "    <tr>\n",
       "      <th>2497</th>\n",
       "      <td>1589.0</td>\n",
       "      <td>1571.0</td>\n",
       "      <td>0.737460</td>\n",
       "      <td>0.617090</td>\n",
       "      <td>94.086723</td>\n",
       "      <td>9.04800</td>\n",
       "      <td>0.0</td>\n",
       "      <td>0.0</td>\n",
       "      <td>0.0</td>\n",
       "      <td>0.0</td>\n",
       "      <td>...</td>\n",
       "      <td>0.0</td>\n",
       "      <td>0.0</td>\n",
       "      <td>0.0</td>\n",
       "      <td>0.0</td>\n",
       "      <td>0.0</td>\n",
       "      <td>0.0</td>\n",
       "      <td>230.0</td>\n",
       "      <td>0.0</td>\n",
       "      <td>124.0</td>\n",
       "      <td>226.0</td>\n",
       "    </tr>\n",
       "    <tr>\n",
       "      <th>2498</th>\n",
       "      <td>1594.0</td>\n",
       "      <td>1591.0</td>\n",
       "      <td>0.681745</td>\n",
       "      <td>0.471086</td>\n",
       "      <td>118.110717</td>\n",
       "      <td>0.00000</td>\n",
       "      <td>0.0</td>\n",
       "      <td>0.0</td>\n",
       "      <td>0.0</td>\n",
       "      <td>0.0</td>\n",
       "      <td>...</td>\n",
       "      <td>0.0</td>\n",
       "      <td>0.0</td>\n",
       "      <td>0.0</td>\n",
       "      <td>0.0</td>\n",
       "      <td>101.0</td>\n",
       "      <td>0.0</td>\n",
       "      <td>206.0</td>\n",
       "      <td>0.0</td>\n",
       "      <td>129.0</td>\n",
       "      <td>207.0</td>\n",
       "    </tr>\n",
       "    <tr>\n",
       "      <th>2499</th>\n",
       "      <td>1603.0</td>\n",
       "      <td>1569.0</td>\n",
       "      <td>1.024608</td>\n",
       "      <td>0.694466</td>\n",
       "      <td>110.160958</td>\n",
       "      <td>50.00528</td>\n",
       "      <td>0.0</td>\n",
       "      <td>0.0</td>\n",
       "      <td>0.0</td>\n",
       "      <td>0.0</td>\n",
       "      <td>...</td>\n",
       "      <td>0.0</td>\n",
       "      <td>0.0</td>\n",
       "      <td>0.0</td>\n",
       "      <td>0.0</td>\n",
       "      <td>0.0</td>\n",
       "      <td>0.0</td>\n",
       "      <td>233.0</td>\n",
       "      <td>0.0</td>\n",
       "      <td>126.0</td>\n",
       "      <td>227.0</td>\n",
       "    </tr>\n",
       "  </tbody>\n",
       "</table>\n",
       "<p>2329 rows × 29 columns</p>\n",
       "</div>"
      ],
      "text/plain": [
       "      Последняя температура  Начальная температура  Активная мощность  \\\n",
       "key                                                                     \n",
       "1                    1613.0                 1571.0           0.975629   \n",
       "2                    1602.0                 1581.0           0.763150   \n",
       "3                    1599.0                 1596.0           0.505176   \n",
       "4                    1625.0                 1601.0           0.802313   \n",
       "5                    1602.0                 1576.0           0.836793   \n",
       "...                     ...                    ...                ...   \n",
       "2495                 1591.0                 1570.0           0.802673   \n",
       "2496                 1591.0                 1554.0           0.700511   \n",
       "2497                 1589.0                 1571.0           0.737460   \n",
       "2498                 1594.0                 1591.0           0.681745   \n",
       "2499                 1603.0                 1569.0           1.024608   \n",
       "\n",
       "      Реактивная мощность      Wire 1    Wire 2  Wire 3  Wire 4  Wire 5  \\\n",
       "key                                                                       \n",
       "1                0.636648   60.059998   0.00000     0.0     0.0     0.0   \n",
       "2                0.499528   96.052315   0.00000     0.0     0.0     0.0   \n",
       "3                0.319815   91.160157   0.00000     0.0     0.0     0.0   \n",
       "4                0.515074   89.063515   0.00000     0.0     0.0     0.0   \n",
       "5                0.563161   89.238236   9.11456     0.0     0.0     0.0   \n",
       "...                   ...         ...       ...     ...     ...     ...   \n",
       "2495             0.590194   89.150879   0.00000     0.0     0.0     0.0   \n",
       "2496             0.468364  114.179527   0.00000     0.0     0.0     0.0   \n",
       "2497             0.617090   94.086723   9.04800     0.0     0.0     0.0   \n",
       "2498             0.471086  118.110717   0.00000     0.0     0.0     0.0   \n",
       "2499             0.694466  110.160958  50.00528     0.0     0.0     0.0   \n",
       "\n",
       "      Wire 6  ...  Bulk 6  Bulk 7  Bulk 8  Bulk 9  Bulk 10  Bulk 11  Bulk 12  \\\n",
       "key           ...                                                              \n",
       "1        0.0  ...     0.0     0.0     0.0     0.0      0.0      0.0    206.0   \n",
       "2        0.0  ...     0.0     0.0     0.0     0.0      0.0      0.0    206.0   \n",
       "3        0.0  ...     0.0     0.0     0.0     0.0      0.0      0.0    205.0   \n",
       "4        0.0  ...     0.0     0.0     0.0     0.0      0.0      0.0    207.0   \n",
       "5        0.0  ...     0.0     0.0     0.0     0.0      0.0      0.0    203.0   \n",
       "...      ...  ...     ...     ...     ...     ...      ...      ...      ...   \n",
       "2495     0.0  ...     0.0     0.0     0.0     0.0     90.0      0.0    256.0   \n",
       "2496     0.0  ...     0.0     0.0     0.0     0.0    122.0      0.0    256.0   \n",
       "2497     0.0  ...     0.0     0.0     0.0     0.0      0.0      0.0    230.0   \n",
       "2498     0.0  ...     0.0     0.0     0.0     0.0    101.0      0.0    206.0   \n",
       "2499     0.0  ...     0.0     0.0     0.0     0.0      0.0      0.0    233.0   \n",
       "\n",
       "      Bulk 13  Bulk 14  Bulk 15  \n",
       "key                              \n",
       "1         0.0    150.0    154.0  \n",
       "2         0.0    149.0    154.0  \n",
       "3         0.0    152.0    153.0  \n",
       "4         0.0    153.0    154.0  \n",
       "5         0.0    151.0    152.0  \n",
       "...       ...      ...      ...  \n",
       "2495      0.0    129.0    223.0  \n",
       "2496      0.0    129.0    226.0  \n",
       "2497      0.0    124.0    226.0  \n",
       "2498      0.0    129.0    207.0  \n",
       "2499      0.0    126.0    227.0  \n",
       "\n",
       "[2329 rows x 29 columns]"
      ]
     },
     "execution_count": 46,
     "metadata": {},
     "output_type": "execute_result"
    }
   ],
   "source": [
    "df = pd.merge(df,data_bulk,left_index=True, right_index=True, how='inner')\n",
    "df"
   ]
  },
  {
   "cell_type": "code",
   "execution_count": 47,
   "metadata": {
    "scrolled": true
   },
   "outputs": [
    {
     "data": {
      "text/html": [
       "<div>\n",
       "<style scoped>\n",
       "    .dataframe tbody tr th:only-of-type {\n",
       "        vertical-align: middle;\n",
       "    }\n",
       "\n",
       "    .dataframe tbody tr th {\n",
       "        vertical-align: top;\n",
       "    }\n",
       "\n",
       "    .dataframe thead th {\n",
       "        text-align: right;\n",
       "    }\n",
       "</style>\n",
       "<table border=\"1\" class=\"dataframe\">\n",
       "  <thead>\n",
       "    <tr style=\"text-align: right;\">\n",
       "      <th></th>\n",
       "      <th>Последняя температура</th>\n",
       "      <th>Начальная температура</th>\n",
       "      <th>Активная мощность</th>\n",
       "      <th>Реактивная мощность</th>\n",
       "      <th>Wire 1</th>\n",
       "      <th>Wire 2</th>\n",
       "      <th>Wire 3</th>\n",
       "      <th>Wire 4</th>\n",
       "      <th>Wire 5</th>\n",
       "      <th>Wire 6</th>\n",
       "      <th>...</th>\n",
       "      <th>Bulk 6</th>\n",
       "      <th>Bulk 7</th>\n",
       "      <th>Bulk 8</th>\n",
       "      <th>Bulk 9</th>\n",
       "      <th>Bulk 10</th>\n",
       "      <th>Bulk 11</th>\n",
       "      <th>Bulk 12</th>\n",
       "      <th>Bulk 13</th>\n",
       "      <th>Bulk 14</th>\n",
       "      <th>Bulk 15</th>\n",
       "    </tr>\n",
       "  </thead>\n",
       "  <tbody>\n",
       "    <tr>\n",
       "      <th>count</th>\n",
       "      <td>2329.000000</td>\n",
       "      <td>2329.000000</td>\n",
       "      <td>2329.000000</td>\n",
       "      <td>2329.000000</td>\n",
       "      <td>2329.000000</td>\n",
       "      <td>2329.000000</td>\n",
       "      <td>2329.000000</td>\n",
       "      <td>2329.000000</td>\n",
       "      <td>2329.0</td>\n",
       "      <td>2329.000000</td>\n",
       "      <td>...</td>\n",
       "      <td>2329.000000</td>\n",
       "      <td>2329.000000</td>\n",
       "      <td>2329.000000</td>\n",
       "      <td>2329.000000</td>\n",
       "      <td>2329.000000</td>\n",
       "      <td>2329.000000</td>\n",
       "      <td>2329.000000</td>\n",
       "      <td>2329.000000</td>\n",
       "      <td>2329.000000</td>\n",
       "      <td>2329.000000</td>\n",
       "    </tr>\n",
       "    <tr>\n",
       "      <th>mean</th>\n",
       "      <td>1593.365393</td>\n",
       "      <td>1587.386003</td>\n",
       "      <td>0.669044</td>\n",
       "      <td>0.499276</td>\n",
       "      <td>102.443601</td>\n",
       "      <td>17.609859</td>\n",
       "      <td>3.234916</td>\n",
       "      <td>0.306550</td>\n",
       "      <td>0.0</td>\n",
       "      <td>0.978820</td>\n",
       "      <td>...</td>\n",
       "      <td>22.430228</td>\n",
       "      <td>2.004723</td>\n",
       "      <td>0.021039</td>\n",
       "      <td>0.444826</td>\n",
       "      <td>5.052812</td>\n",
       "      <td>4.245170</td>\n",
       "      <td>208.415629</td>\n",
       "      <td>1.067411</td>\n",
       "      <td>153.853585</td>\n",
       "      <td>119.952769</td>\n",
       "    </tr>\n",
       "    <tr>\n",
       "      <th>std</th>\n",
       "      <td>11.200915</td>\n",
       "      <td>23.619841</td>\n",
       "      <td>0.196943</td>\n",
       "      <td>0.147383</td>\n",
       "      <td>43.539993</td>\n",
       "      <td>33.624771</td>\n",
       "      <td>27.942871</td>\n",
       "      <td>4.757746</td>\n",
       "      <td>0.0</td>\n",
       "      <td>8.693299</td>\n",
       "      <td>...</td>\n",
       "      <td>55.790873</td>\n",
       "      <td>30.676234</td>\n",
       "      <td>1.015340</td>\n",
       "      <td>6.220641</td>\n",
       "      <td>20.917800</td>\n",
       "      <td>22.515487</td>\n",
       "      <td>157.062272</td>\n",
       "      <td>14.235055</td>\n",
       "      <td>81.404354</td>\n",
       "      <td>84.640443</td>\n",
       "    </tr>\n",
       "    <tr>\n",
       "      <th>min</th>\n",
       "      <td>1541.000000</td>\n",
       "      <td>1519.000000</td>\n",
       "      <td>0.186226</td>\n",
       "      <td>0.130062</td>\n",
       "      <td>0.000000</td>\n",
       "      <td>0.000000</td>\n",
       "      <td>0.000000</td>\n",
       "      <td>0.000000</td>\n",
       "      <td>0.0</td>\n",
       "      <td>0.000000</td>\n",
       "      <td>...</td>\n",
       "      <td>0.000000</td>\n",
       "      <td>0.000000</td>\n",
       "      <td>0.000000</td>\n",
       "      <td>0.000000</td>\n",
       "      <td>0.000000</td>\n",
       "      <td>0.000000</td>\n",
       "      <td>0.000000</td>\n",
       "      <td>0.000000</td>\n",
       "      <td>0.000000</td>\n",
       "      <td>0.000000</td>\n",
       "    </tr>\n",
       "    <tr>\n",
       "      <th>25%</th>\n",
       "      <td>1587.000000</td>\n",
       "      <td>1571.000000</td>\n",
       "      <td>0.526430</td>\n",
       "      <td>0.392506</td>\n",
       "      <td>73.207679</td>\n",
       "      <td>0.000000</td>\n",
       "      <td>0.000000</td>\n",
       "      <td>0.000000</td>\n",
       "      <td>0.0</td>\n",
       "      <td>0.000000</td>\n",
       "      <td>...</td>\n",
       "      <td>0.000000</td>\n",
       "      <td>0.000000</td>\n",
       "      <td>0.000000</td>\n",
       "      <td>0.000000</td>\n",
       "      <td>0.000000</td>\n",
       "      <td>0.000000</td>\n",
       "      <td>105.000000</td>\n",
       "      <td>0.000000</td>\n",
       "      <td>105.000000</td>\n",
       "      <td>0.000000</td>\n",
       "    </tr>\n",
       "    <tr>\n",
       "      <th>50%</th>\n",
       "      <td>1593.000000</td>\n",
       "      <td>1587.000000</td>\n",
       "      <td>0.644404</td>\n",
       "      <td>0.487685</td>\n",
       "      <td>101.119201</td>\n",
       "      <td>0.000000</td>\n",
       "      <td>0.000000</td>\n",
       "      <td>0.000000</td>\n",
       "      <td>0.0</td>\n",
       "      <td>0.000000</td>\n",
       "      <td>...</td>\n",
       "      <td>0.000000</td>\n",
       "      <td>0.000000</td>\n",
       "      <td>0.000000</td>\n",
       "      <td>0.000000</td>\n",
       "      <td>0.000000</td>\n",
       "      <td>0.000000</td>\n",
       "      <td>206.000000</td>\n",
       "      <td>0.000000</td>\n",
       "      <td>149.000000</td>\n",
       "      <td>107.000000</td>\n",
       "    </tr>\n",
       "    <tr>\n",
       "      <th>75%</th>\n",
       "      <td>1598.000000</td>\n",
       "      <td>1603.000000</td>\n",
       "      <td>0.792065</td>\n",
       "      <td>0.592351</td>\n",
       "      <td>128.091599</td>\n",
       "      <td>23.102560</td>\n",
       "      <td>0.000000</td>\n",
       "      <td>0.000000</td>\n",
       "      <td>0.0</td>\n",
       "      <td>0.000000</td>\n",
       "      <td>...</td>\n",
       "      <td>0.000000</td>\n",
       "      <td>0.000000</td>\n",
       "      <td>0.000000</td>\n",
       "      <td>0.000000</td>\n",
       "      <td>0.000000</td>\n",
       "      <td>0.000000</td>\n",
       "      <td>282.000000</td>\n",
       "      <td>0.000000</td>\n",
       "      <td>204.000000</td>\n",
       "      <td>204.000000</td>\n",
       "    </tr>\n",
       "    <tr>\n",
       "      <th>max</th>\n",
       "      <td>1653.000000</td>\n",
       "      <td>1660.000000</td>\n",
       "      <td>1.421416</td>\n",
       "      <td>1.134983</td>\n",
       "      <td>330.314424</td>\n",
       "      <td>282.780152</td>\n",
       "      <td>385.008668</td>\n",
       "      <td>113.231044</td>\n",
       "      <td>0.0</td>\n",
       "      <td>180.454575</td>\n",
       "      <td>...</td>\n",
       "      <td>503.000000</td>\n",
       "      <td>772.000000</td>\n",
       "      <td>49.000000</td>\n",
       "      <td>147.000000</td>\n",
       "      <td>159.000000</td>\n",
       "      <td>313.000000</td>\n",
       "      <td>1849.000000</td>\n",
       "      <td>305.000000</td>\n",
       "      <td>636.000000</td>\n",
       "      <td>405.000000</td>\n",
       "    </tr>\n",
       "  </tbody>\n",
       "</table>\n",
       "<p>8 rows × 29 columns</p>\n",
       "</div>"
      ],
      "text/plain": [
       "       Последняя температура  Начальная температура  Активная мощность  \\\n",
       "count            2329.000000            2329.000000        2329.000000   \n",
       "mean             1593.365393            1587.386003           0.669044   \n",
       "std                11.200915              23.619841           0.196943   \n",
       "min              1541.000000            1519.000000           0.186226   \n",
       "25%              1587.000000            1571.000000           0.526430   \n",
       "50%              1593.000000            1587.000000           0.644404   \n",
       "75%              1598.000000            1603.000000           0.792065   \n",
       "max              1653.000000            1660.000000           1.421416   \n",
       "\n",
       "       Реактивная мощность       Wire 1       Wire 2       Wire 3  \\\n",
       "count          2329.000000  2329.000000  2329.000000  2329.000000   \n",
       "mean              0.499276   102.443601    17.609859     3.234916   \n",
       "std               0.147383    43.539993    33.624771    27.942871   \n",
       "min               0.130062     0.000000     0.000000     0.000000   \n",
       "25%               0.392506    73.207679     0.000000     0.000000   \n",
       "50%               0.487685   101.119201     0.000000     0.000000   \n",
       "75%               0.592351   128.091599    23.102560     0.000000   \n",
       "max               1.134983   330.314424   282.780152   385.008668   \n",
       "\n",
       "            Wire 4  Wire 5       Wire 6  ...       Bulk 6       Bulk 7  \\\n",
       "count  2329.000000  2329.0  2329.000000  ...  2329.000000  2329.000000   \n",
       "mean      0.306550     0.0     0.978820  ...    22.430228     2.004723   \n",
       "std       4.757746     0.0     8.693299  ...    55.790873    30.676234   \n",
       "min       0.000000     0.0     0.000000  ...     0.000000     0.000000   \n",
       "25%       0.000000     0.0     0.000000  ...     0.000000     0.000000   \n",
       "50%       0.000000     0.0     0.000000  ...     0.000000     0.000000   \n",
       "75%       0.000000     0.0     0.000000  ...     0.000000     0.000000   \n",
       "max     113.231044     0.0   180.454575  ...   503.000000   772.000000   \n",
       "\n",
       "            Bulk 8       Bulk 9      Bulk 10      Bulk 11      Bulk 12  \\\n",
       "count  2329.000000  2329.000000  2329.000000  2329.000000  2329.000000   \n",
       "mean      0.021039     0.444826     5.052812     4.245170   208.415629   \n",
       "std       1.015340     6.220641    20.917800    22.515487   157.062272   \n",
       "min       0.000000     0.000000     0.000000     0.000000     0.000000   \n",
       "25%       0.000000     0.000000     0.000000     0.000000   105.000000   \n",
       "50%       0.000000     0.000000     0.000000     0.000000   206.000000   \n",
       "75%       0.000000     0.000000     0.000000     0.000000   282.000000   \n",
       "max      49.000000   147.000000   159.000000   313.000000  1849.000000   \n",
       "\n",
       "           Bulk 13      Bulk 14      Bulk 15  \n",
       "count  2329.000000  2329.000000  2329.000000  \n",
       "mean      1.067411   153.853585   119.952769  \n",
       "std      14.235055    81.404354    84.640443  \n",
       "min       0.000000     0.000000     0.000000  \n",
       "25%       0.000000   105.000000     0.000000  \n",
       "50%       0.000000   149.000000   107.000000  \n",
       "75%       0.000000   204.000000   204.000000  \n",
       "max     305.000000   636.000000   405.000000  \n",
       "\n",
       "[8 rows x 29 columns]"
      ]
     },
     "execution_count": 47,
     "metadata": {},
     "output_type": "execute_result"
    }
   ],
   "source": [
    "df.describe()"
   ]
  },
  {
   "cell_type": "code",
   "execution_count": 48,
   "metadata": {},
   "outputs": [],
   "source": [
    "features = df.drop('Последняя температура',axis=1)\n",
    "target = df['Последняя температура']"
   ]
  },
  {
   "cell_type": "code",
   "execution_count": 49,
   "metadata": {},
   "outputs": [],
   "source": [
    "features_train,features_test,target_train,target_test = train_test_split(features,target,test_size = 0.25,random_state = random_state)"
   ]
  },
  {
   "cell_type": "code",
   "execution_count": 50,
   "metadata": {},
   "outputs": [
    {
     "data": {
      "text/plain": [
       "(1746, 28)"
      ]
     },
     "execution_count": 50,
     "metadata": {},
     "output_type": "execute_result"
    }
   ],
   "source": [
    "features_train.shape"
   ]
  },
  {
   "cell_type": "code",
   "execution_count": 51,
   "metadata": {},
   "outputs": [
    {
     "data": {
      "text/plain": [
       "(583, 28)"
      ]
     },
     "execution_count": 51,
     "metadata": {},
     "output_type": "execute_result"
    }
   ],
   "source": [
    "features_test.shape"
   ]
  },
  {
   "cell_type": "markdown",
   "metadata": {},
   "source": [
    "## Обучение регрессионых моделей"
   ]
  },
  {
   "cell_type": "code",
   "execution_count": 53,
   "metadata": {},
   "outputs": [
    {
     "name": "stdout",
     "output_type": "stream",
     "text": [
      "0:\tlearn: 11.1449314\ttotal: 375ms\tremaining: 5m 22s\n",
      "10:\tlearn: 10.3437055\ttotal: 3.33s\tremaining: 4m 17s\n",
      "20:\tlearn: 9.6955844\ttotal: 6.5s\tremaining: 4m 19s\n",
      "30:\tlearn: 9.1661044\ttotal: 9.64s\tremaining: 4m 18s\n",
      "40:\tlearn: 8.7038031\ttotal: 12.9s\tremaining: 4m 18s\n",
      "50:\tlearn: 8.2973697\ttotal: 16.1s\tremaining: 4m 15s\n",
      "60:\tlearn: 7.9568220\ttotal: 19.3s\tremaining: 4m 12s\n",
      "70:\tlearn: 7.6642196\ttotal: 22.5s\tremaining: 4m 10s\n",
      "80:\tlearn: 7.4080220\ttotal: 25.2s\tremaining: 4m 2s\n",
      "90:\tlearn: 7.1868713\ttotal: 28.2s\tremaining: 3m 58s\n",
      "100:\tlearn: 6.9891378\ttotal: 31.4s\tremaining: 3m 56s\n",
      "110:\tlearn: 6.7980748\ttotal: 34.6s\tremaining: 3m 53s\n",
      "120:\tlearn: 6.6453189\ttotal: 37.8s\tremaining: 3m 50s\n",
      "130:\tlearn: 6.5386030\ttotal: 40.7s\tremaining: 3m 46s\n",
      "140:\tlearn: 6.4357956\ttotal: 44.1s\tremaining: 3m 45s\n",
      "150:\tlearn: 6.3335423\ttotal: 47.2s\tremaining: 3m 41s\n",
      "160:\tlearn: 6.2509824\ttotal: 50.2s\tremaining: 3m 38s\n",
      "170:\tlearn: 6.1528988\ttotal: 53s\tremaining: 3m 33s\n",
      "180:\tlearn: 6.0645354\ttotal: 56s\tremaining: 3m 30s\n",
      "190:\tlearn: 5.9647969\ttotal: 59.1s\tremaining: 3m 27s\n",
      "200:\tlearn: 5.8593587\ttotal: 1m 2s\tremaining: 3m 24s\n",
      "210:\tlearn: 5.7567732\ttotal: 1m 5s\tremaining: 3m 21s\n",
      "220:\tlearn: 5.6643629\ttotal: 1m 8s\tremaining: 3m 18s\n",
      "230:\tlearn: 5.5622649\ttotal: 1m 11s\tremaining: 3m 15s\n",
      "240:\tlearn: 5.4698101\ttotal: 1m 14s\tremaining: 3m 12s\n",
      "250:\tlearn: 5.3675242\ttotal: 1m 18s\tremaining: 3m 9s\n",
      "260:\tlearn: 5.2849165\ttotal: 1m 21s\tremaining: 3m 6s\n",
      "270:\tlearn: 5.2071599\ttotal: 1m 24s\tremaining: 3m 3s\n",
      "280:\tlearn: 5.1133735\ttotal: 1m 27s\tremaining: 3m\n",
      "290:\tlearn: 5.0147373\ttotal: 1m 30s\tremaining: 2m 56s\n",
      "300:\tlearn: 4.9292340\ttotal: 1m 33s\tremaining: 2m 53s\n",
      "310:\tlearn: 4.8144487\ttotal: 1m 36s\tremaining: 2m 50s\n",
      "320:\tlearn: 4.7476003\ttotal: 1m 39s\tremaining: 2m 47s\n",
      "330:\tlearn: 4.6511652\ttotal: 1m 42s\tremaining: 2m 44s\n",
      "340:\tlearn: 4.5652514\ttotal: 1m 45s\tremaining: 2m 40s\n",
      "350:\tlearn: 4.4889818\ttotal: 1m 48s\tremaining: 2m 37s\n",
      "360:\tlearn: 4.4375890\ttotal: 1m 51s\tremaining: 2m 34s\n",
      "370:\tlearn: 4.3505126\ttotal: 1m 54s\tremaining: 2m 31s\n",
      "380:\tlearn: 4.2991815\ttotal: 1m 57s\tremaining: 2m 28s\n",
      "390:\tlearn: 4.2515475\ttotal: 2m\tremaining: 2m 25s\n",
      "400:\tlearn: 4.1859868\ttotal: 2m 3s\tremaining: 2m 22s\n",
      "410:\tlearn: 4.1187852\ttotal: 2m 6s\tremaining: 2m 18s\n",
      "420:\tlearn: 4.0508380\ttotal: 2m 9s\tremaining: 2m 15s\n",
      "430:\tlearn: 3.9897611\ttotal: 2m 13s\tremaining: 2m 12s\n",
      "440:\tlearn: 3.9272149\ttotal: 2m 16s\tremaining: 2m 9s\n",
      "450:\tlearn: 3.8679697\ttotal: 2m 18s\tremaining: 2m 6s\n",
      "460:\tlearn: 3.8118949\ttotal: 2m 21s\tremaining: 2m 3s\n",
      "470:\tlearn: 3.7481932\ttotal: 2m 24s\tremaining: 1m 59s\n",
      "480:\tlearn: 3.6935344\ttotal: 2m 27s\tremaining: 1m 56s\n",
      "490:\tlearn: 3.6318831\ttotal: 2m 30s\tremaining: 1m 53s\n",
      "500:\tlearn: 3.5666955\ttotal: 2m 34s\tremaining: 1m 50s\n",
      "510:\tlearn: 3.5087102\ttotal: 2m 37s\tremaining: 1m 47s\n",
      "520:\tlearn: 3.4519814\ttotal: 2m 40s\tremaining: 1m 44s\n",
      "530:\tlearn: 3.3978562\ttotal: 2m 43s\tremaining: 1m 41s\n",
      "540:\tlearn: 3.3478417\ttotal: 2m 46s\tremaining: 1m 38s\n",
      "550:\tlearn: 3.2972323\ttotal: 2m 49s\tremaining: 1m 35s\n",
      "560:\tlearn: 3.2525431\ttotal: 2m 52s\tremaining: 1m 32s\n",
      "570:\tlearn: 3.1904534\ttotal: 2m 55s\tremaining: 1m 29s\n",
      "580:\tlearn: 3.1385949\ttotal: 2m 58s\tremaining: 1m 25s\n",
      "590:\tlearn: 3.0923272\ttotal: 3m 1s\tremaining: 1m 22s\n",
      "600:\tlearn: 3.0348729\ttotal: 3m 4s\tremaining: 1m 19s\n",
      "610:\tlearn: 2.9906851\ttotal: 3m 7s\tremaining: 1m 16s\n",
      "620:\tlearn: 2.9475909\ttotal: 3m 11s\tremaining: 1m 13s\n",
      "630:\tlearn: 2.9058862\ttotal: 3m 14s\tremaining: 1m 10s\n",
      "640:\tlearn: 2.8529932\ttotal: 3m 17s\tremaining: 1m 7s\n",
      "650:\tlearn: 2.8007374\ttotal: 3m 20s\tremaining: 1m 4s\n",
      "660:\tlearn: 2.7679962\ttotal: 3m 23s\tremaining: 1m 1s\n",
      "670:\tlearn: 2.7176679\ttotal: 3m 26s\tremaining: 58.5s\n",
      "680:\tlearn: 2.6815010\ttotal: 3m 29s\tremaining: 55.4s\n",
      "690:\tlearn: 2.6527090\ttotal: 3m 32s\tremaining: 52.3s\n",
      "700:\tlearn: 2.6060031\ttotal: 3m 35s\tremaining: 49.2s\n",
      "710:\tlearn: 2.5661843\ttotal: 3m 38s\tremaining: 46.1s\n",
      "720:\tlearn: 2.5200097\ttotal: 3m 41s\tremaining: 43.1s\n",
      "730:\tlearn: 2.4968150\ttotal: 3m 44s\tremaining: 40s\n",
      "740:\tlearn: 2.4768696\ttotal: 3m 47s\tremaining: 36.9s\n",
      "750:\tlearn: 2.4506306\ttotal: 3m 50s\tremaining: 33.8s\n",
      "760:\tlearn: 2.4246659\ttotal: 3m 53s\tremaining: 30.7s\n",
      "770:\tlearn: 2.3981944\ttotal: 3m 56s\tremaining: 27.6s\n",
      "780:\tlearn: 2.3695398\ttotal: 3m 59s\tremaining: 24.6s\n",
      "790:\tlearn: 2.3434336\ttotal: 4m 3s\tremaining: 21.5s\n",
      "800:\tlearn: 2.3233220\ttotal: 4m 6s\tremaining: 18.5s\n",
      "810:\tlearn: 2.3074536\ttotal: 4m 9s\tremaining: 15.4s\n",
      "820:\tlearn: 2.2794408\ttotal: 4m 12s\tremaining: 12.3s\n",
      "830:\tlearn: 2.2568419\ttotal: 4m 16s\tremaining: 9.24s\n",
      "840:\tlearn: 2.2376563\ttotal: 4m 19s\tremaining: 6.16s\n",
      "850:\tlearn: 2.2070350\ttotal: 4m 22s\tremaining: 3.08s\n",
      "860:\tlearn: 2.1840070\ttotal: 4m 25s\tremaining: 0us\n",
      "0:\tlearn: 11.1534672\ttotal: 303ms\tremaining: 4m 20s\n",
      "10:\tlearn: 10.3889131\ttotal: 3.36s\tremaining: 4m 19s\n",
      "20:\tlearn: 9.6964826\ttotal: 6.61s\tremaining: 4m 24s\n",
      "30:\tlearn: 9.1592615\ttotal: 9.85s\tremaining: 4m 23s\n",
      "40:\tlearn: 8.6890104\ttotal: 12.9s\tremaining: 4m 18s\n",
      "50:\tlearn: 8.3037012\ttotal: 16.2s\tremaining: 4m 17s\n",
      "60:\tlearn: 7.9821382\ttotal: 19.3s\tremaining: 4m 13s\n",
      "70:\tlearn: 7.6960206\ttotal: 22.3s\tremaining: 4m 8s\n",
      "80:\tlearn: 7.4786392\ttotal: 25.2s\tremaining: 4m 2s\n",
      "90:\tlearn: 7.2582614\ttotal: 28.2s\tremaining: 3m 58s\n",
      "100:\tlearn: 7.0885655\ttotal: 31.3s\tremaining: 3m 55s\n",
      "110:\tlearn: 6.9122466\ttotal: 34.1s\tremaining: 3m 50s\n",
      "120:\tlearn: 6.7755845\ttotal: 37.1s\tremaining: 3m 46s\n",
      "130:\tlearn: 6.6444261\ttotal: 40.2s\tremaining: 3m 44s\n",
      "140:\tlearn: 6.5324170\ttotal: 43.3s\tremaining: 3m 41s\n",
      "150:\tlearn: 6.4035400\ttotal: 45.9s\tremaining: 3m 35s\n",
      "160:\tlearn: 6.2976312\ttotal: 48.7s\tremaining: 3m 31s\n",
      "170:\tlearn: 6.2096934\ttotal: 51.5s\tremaining: 3m 27s\n",
      "180:\tlearn: 6.1285010\ttotal: 54.6s\tremaining: 3m 24s\n",
      "190:\tlearn: 6.0241175\ttotal: 57.5s\tremaining: 3m 21s\n",
      "200:\tlearn: 5.9471053\ttotal: 1m\tremaining: 3m 18s\n",
      "210:\tlearn: 5.8476259\ttotal: 1m 2s\tremaining: 3m 14s\n",
      "220:\tlearn: 5.7415218\ttotal: 1m 6s\tremaining: 3m 11s\n",
      "230:\tlearn: 5.6253473\ttotal: 1m 9s\tremaining: 3m 8s\n",
      "240:\tlearn: 5.5133074\ttotal: 1m 11s\tremaining: 3m 5s\n",
      "250:\tlearn: 5.4262001\ttotal: 1m 15s\tremaining: 3m 2s\n",
      "260:\tlearn: 5.3501547\ttotal: 1m 17s\tremaining: 2m 57s\n",
      "270:\tlearn: 5.2248126\ttotal: 1m 19s\tremaining: 2m 53s\n",
      "280:\tlearn: 5.1557348\ttotal: 1m 22s\tremaining: 2m 50s\n",
      "290:\tlearn: 5.0684538\ttotal: 1m 25s\tremaining: 2m 46s\n",
      "300:\tlearn: 4.9740268\ttotal: 1m 27s\tremaining: 2m 43s\n",
      "310:\tlearn: 4.8608328\ttotal: 1m 31s\tremaining: 2m 40s\n",
      "320:\tlearn: 4.7559599\ttotal: 1m 34s\tremaining: 2m 38s\n",
      "330:\tlearn: 4.7023989\ttotal: 1m 37s\tremaining: 2m 35s\n",
      "340:\tlearn: 4.6389483\ttotal: 1m 40s\tremaining: 2m 32s\n",
      "350:\tlearn: 4.5610299\ttotal: 1m 43s\tremaining: 2m 30s\n",
      "360:\tlearn: 4.4837919\ttotal: 1m 46s\tremaining: 2m 27s\n",
      "370:\tlearn: 4.4211272\ttotal: 1m 49s\tremaining: 2m 24s\n",
      "380:\tlearn: 4.3493487\ttotal: 1m 52s\tremaining: 2m 21s\n",
      "390:\tlearn: 4.2767917\ttotal: 1m 55s\tremaining: 2m 19s\n",
      "400:\tlearn: 4.2032130\ttotal: 1m 58s\tremaining: 2m 16s\n",
      "410:\tlearn: 4.1377453\ttotal: 2m 1s\tremaining: 2m 13s\n",
      "420:\tlearn: 4.0689312\ttotal: 2m 4s\tremaining: 2m 10s\n",
      "430:\tlearn: 4.0063398\ttotal: 2m 8s\tremaining: 2m 7s\n",
      "440:\tlearn: 3.9381820\ttotal: 2m 11s\tremaining: 2m 4s\n",
      "450:\tlearn: 3.8910897\ttotal: 2m 14s\tremaining: 2m 2s\n",
      "460:\tlearn: 3.8196210\ttotal: 2m 17s\tremaining: 1m 59s\n",
      "470:\tlearn: 3.7630019\ttotal: 2m 20s\tremaining: 1m 56s\n",
      "480:\tlearn: 3.7158795\ttotal: 2m 22s\tremaining: 1m 52s\n",
      "490:\tlearn: 3.6601335\ttotal: 2m 25s\tremaining: 1m 49s\n",
      "500:\tlearn: 3.5984937\ttotal: 2m 28s\tremaining: 1m 46s\n",
      "510:\tlearn: 3.5394089\ttotal: 2m 31s\tremaining: 1m 44s\n",
      "520:\tlearn: 3.4733661\ttotal: 2m 35s\tremaining: 1m 41s\n",
      "530:\tlearn: 3.3996750\ttotal: 2m 38s\tremaining: 1m 38s\n",
      "540:\tlearn: 3.3432922\ttotal: 2m 41s\tremaining: 1m 35s\n",
      "550:\tlearn: 3.2853884\ttotal: 2m 44s\tremaining: 1m 32s\n",
      "560:\tlearn: 3.2465870\ttotal: 2m 47s\tremaining: 1m 29s\n",
      "570:\tlearn: 3.1894917\ttotal: 2m 50s\tremaining: 1m 26s\n",
      "580:\tlearn: 3.1202713\ttotal: 2m 53s\tremaining: 1m 23s\n",
      "590:\tlearn: 3.0634381\ttotal: 2m 56s\tremaining: 1m 20s\n",
      "600:\tlearn: 3.0252988\ttotal: 2m 59s\tremaining: 1m 17s\n",
      "610:\tlearn: 2.9774399\ttotal: 3m 2s\tremaining: 1m 14s\n",
      "620:\tlearn: 2.9428019\ttotal: 3m 5s\tremaining: 1m 11s\n",
      "630:\tlearn: 2.8992187\ttotal: 3m 9s\tremaining: 1m 8s\n",
      "640:\tlearn: 2.8662651\ttotal: 3m 12s\tremaining: 1m 6s\n",
      "650:\tlearn: 2.8290801\ttotal: 3m 15s\tremaining: 1m 3s\n",
      "660:\tlearn: 2.7827133\ttotal: 3m 18s\tremaining: 1m\n",
      "670:\tlearn: 2.7414380\ttotal: 3m 21s\tremaining: 57.1s\n",
      "680:\tlearn: 2.6871853\ttotal: 3m 24s\tremaining: 54.1s\n",
      "690:\tlearn: 2.6394571\ttotal: 3m 27s\tremaining: 51.1s\n",
      "700:\tlearn: 2.6142786\ttotal: 3m 30s\tremaining: 48s\n",
      "710:\tlearn: 2.5855392\ttotal: 3m 32s\tremaining: 44.9s\n",
      "720:\tlearn: 2.5637541\ttotal: 3m 35s\tremaining: 41.8s\n",
      "730:\tlearn: 2.5280624\ttotal: 3m 38s\tremaining: 38.9s\n",
      "740:\tlearn: 2.4860232\ttotal: 3m 41s\tremaining: 35.9s\n",
      "750:\tlearn: 2.4561499\ttotal: 3m 44s\tremaining: 32.9s\n",
      "760:\tlearn: 2.4223756\ttotal: 3m 47s\tremaining: 29.9s\n",
      "770:\tlearn: 2.3914386\ttotal: 3m 50s\tremaining: 26.9s\n",
      "780:\tlearn: 2.3604803\ttotal: 3m 53s\tremaining: 23.9s\n",
      "790:\tlearn: 2.3299710\ttotal: 3m 56s\tremaining: 20.9s\n",
      "800:\tlearn: 2.2887728\ttotal: 3m 59s\tremaining: 17.9s\n",
      "810:\tlearn: 2.2705993\ttotal: 4m 2s\tremaining: 14.9s\n",
      "820:\tlearn: 2.2293799\ttotal: 4m 5s\tremaining: 12s\n",
      "830:\tlearn: 2.2004775\ttotal: 4m 8s\tremaining: 8.97s\n",
      "840:\tlearn: 2.1813343\ttotal: 4m 11s\tremaining: 5.98s\n",
      "850:\tlearn: 2.1549069\ttotal: 4m 14s\tremaining: 2.99s\n",
      "860:\tlearn: 2.1234315\ttotal: 4m 17s\tremaining: 0us\n",
      "0:\tlearn: 11.2539067\ttotal: 303ms\tremaining: 4m 20s\n",
      "10:\tlearn: 10.4306840\ttotal: 3.31s\tremaining: 4m 16s\n",
      "20:\tlearn: 9.7752767\ttotal: 6.47s\tremaining: 4m 18s\n",
      "30:\tlearn: 9.2372472\ttotal: 9.14s\tremaining: 4m 4s\n",
      "40:\tlearn: 8.7788450\ttotal: 12.2s\tremaining: 4m 3s\n",
      "50:\tlearn: 8.3924860\ttotal: 14.9s\tremaining: 3m 57s\n",
      "60:\tlearn: 8.1229952\ttotal: 18s\tremaining: 3m 55s\n",
      "70:\tlearn: 7.8848822\ttotal: 21s\tremaining: 3m 53s\n",
      "80:\tlearn: 7.6550401\ttotal: 24.2s\tremaining: 3m 52s\n",
      "90:\tlearn: 7.4981542\ttotal: 27.3s\tremaining: 3m 51s\n",
      "100:\tlearn: 7.3253290\ttotal: 30.4s\tremaining: 3m 49s\n",
      "110:\tlearn: 7.1432045\ttotal: 33.6s\tremaining: 3m 46s\n",
      "120:\tlearn: 7.0101727\ttotal: 36.6s\tremaining: 3m 43s\n",
      "130:\tlearn: 6.8813860\ttotal: 39.4s\tremaining: 3m 39s\n",
      "140:\tlearn: 6.7982399\ttotal: 42.2s\tremaining: 3m 35s\n",
      "150:\tlearn: 6.6905162\ttotal: 44.8s\tremaining: 3m 30s\n",
      "160:\tlearn: 6.5844083\ttotal: 47.6s\tremaining: 3m 27s\n",
      "170:\tlearn: 6.4928992\ttotal: 50.8s\tremaining: 3m 24s\n",
      "180:\tlearn: 6.3990660\ttotal: 54.1s\tremaining: 3m 23s\n",
      "190:\tlearn: 6.3023635\ttotal: 57.3s\tremaining: 3m 21s\n",
      "200:\tlearn: 6.1605724\ttotal: 1m\tremaining: 3m 18s\n",
      "210:\tlearn: 6.0436323\ttotal: 1m 2s\tremaining: 3m 13s\n",
      "220:\tlearn: 5.9203932\ttotal: 1m 5s\tremaining: 3m 10s\n",
      "230:\tlearn: 5.8054198\ttotal: 1m 8s\tremaining: 3m 7s\n",
      "240:\tlearn: 5.6923777\ttotal: 1m 11s\tremaining: 3m 5s\n",
      "250:\tlearn: 5.5706488\ttotal: 1m 15s\tremaining: 3m 2s\n",
      "260:\tlearn: 5.4868640\ttotal: 1m 17s\tremaining: 2m 58s\n",
      "270:\tlearn: 5.3548760\ttotal: 1m 20s\tremaining: 2m 55s\n",
      "280:\tlearn: 5.2371223\ttotal: 1m 23s\tremaining: 2m 53s\n",
      "290:\tlearn: 5.1446582\ttotal: 1m 26s\tremaining: 2m 49s\n",
      "300:\tlearn: 5.0565005\ttotal: 1m 29s\tremaining: 2m 46s\n",
      "310:\tlearn: 4.9590638\ttotal: 1m 32s\tremaining: 2m 44s\n",
      "320:\tlearn: 4.8757861\ttotal: 1m 36s\tremaining: 2m 41s\n",
      "330:\tlearn: 4.8079255\ttotal: 1m 39s\tremaining: 2m 38s\n",
      "340:\tlearn: 4.7350587\ttotal: 1m 42s\tremaining: 2m 35s\n",
      "350:\tlearn: 4.6608741\ttotal: 1m 45s\tremaining: 2m 32s\n",
      "360:\tlearn: 4.5864833\ttotal: 1m 48s\tremaining: 2m 30s\n",
      "370:\tlearn: 4.5175829\ttotal: 1m 51s\tremaining: 2m 27s\n",
      "380:\tlearn: 4.4188735\ttotal: 1m 54s\tremaining: 2m 24s\n",
      "390:\tlearn: 4.3316250\ttotal: 1m 57s\tremaining: 2m 21s\n",
      "400:\tlearn: 4.2656970\ttotal: 2m\tremaining: 2m 18s\n",
      "410:\tlearn: 4.1915715\ttotal: 2m 3s\tremaining: 2m 15s\n",
      "420:\tlearn: 4.1347133\ttotal: 2m 6s\tremaining: 2m 12s\n",
      "430:\tlearn: 4.0667859\ttotal: 2m 9s\tremaining: 2m 9s\n",
      "440:\tlearn: 4.0065860\ttotal: 2m 12s\tremaining: 2m 6s\n",
      "450:\tlearn: 3.9441760\ttotal: 2m 15s\tremaining: 2m 3s\n",
      "460:\tlearn: 3.8835688\ttotal: 2m 18s\tremaining: 2m\n",
      "470:\tlearn: 3.8309059\ttotal: 2m 21s\tremaining: 1m 57s\n",
      "480:\tlearn: 3.7719119\ttotal: 2m 24s\tremaining: 1m 54s\n",
      "490:\tlearn: 3.7060194\ttotal: 2m 27s\tremaining: 1m 51s\n",
      "500:\tlearn: 3.6324616\ttotal: 2m 30s\tremaining: 1m 48s\n",
      "510:\tlearn: 3.5634011\ttotal: 2m 33s\tremaining: 1m 45s\n",
      "520:\tlearn: 3.5152707\ttotal: 2m 37s\tremaining: 1m 42s\n",
      "530:\tlearn: 3.4534796\ttotal: 2m 40s\tremaining: 1m 39s\n",
      "540:\tlearn: 3.4133917\ttotal: 2m 43s\tremaining: 1m 36s\n",
      "550:\tlearn: 3.3728614\ttotal: 2m 46s\tremaining: 1m 33s\n",
      "560:\tlearn: 3.3155721\ttotal: 2m 49s\tremaining: 1m 30s\n",
      "570:\tlearn: 3.2795736\ttotal: 2m 52s\tremaining: 1m 27s\n",
      "580:\tlearn: 3.2457954\ttotal: 2m 55s\tremaining: 1m 24s\n",
      "590:\tlearn: 3.1893399\ttotal: 2m 58s\tremaining: 1m 21s\n",
      "600:\tlearn: 3.1446156\ttotal: 3m 1s\tremaining: 1m 18s\n",
      "610:\tlearn: 3.0982973\ttotal: 3m 4s\tremaining: 1m 15s\n",
      "620:\tlearn: 3.0431792\ttotal: 3m 7s\tremaining: 1m 12s\n",
      "630:\tlearn: 2.9868543\ttotal: 3m 10s\tremaining: 1m 9s\n",
      "640:\tlearn: 2.9444625\ttotal: 3m 13s\tremaining: 1m 6s\n",
      "650:\tlearn: 2.9021078\ttotal: 3m 16s\tremaining: 1m 3s\n",
      "660:\tlearn: 2.8514767\ttotal: 3m 19s\tremaining: 1m\n",
      "670:\tlearn: 2.8073914\ttotal: 3m 22s\tremaining: 57.3s\n",
      "680:\tlearn: 2.7755598\ttotal: 3m 25s\tremaining: 54.2s\n",
      "690:\tlearn: 2.7313933\ttotal: 3m 28s\tremaining: 51.2s\n",
      "700:\tlearn: 2.6944059\ttotal: 3m 31s\tremaining: 48.2s\n",
      "710:\tlearn: 2.6732995\ttotal: 3m 33s\tremaining: 45.1s\n",
      "720:\tlearn: 2.6356191\ttotal: 3m 36s\tremaining: 42.1s\n",
      "730:\tlearn: 2.5911611\ttotal: 3m 39s\tremaining: 39s\n",
      "740:\tlearn: 2.5498750\ttotal: 3m 42s\tremaining: 36s\n",
      "750:\tlearn: 2.5174224\ttotal: 3m 45s\tremaining: 33s\n",
      "760:\tlearn: 2.4869420\ttotal: 3m 48s\tremaining: 30s\n",
      "770:\tlearn: 2.4573762\ttotal: 3m 51s\tremaining: 27s\n",
      "780:\tlearn: 2.4290922\ttotal: 3m 54s\tremaining: 24s\n",
      "790:\tlearn: 2.4002460\ttotal: 3m 57s\tremaining: 21s\n",
      "800:\tlearn: 2.3780503\ttotal: 3m 59s\tremaining: 17.9s\n",
      "810:\tlearn: 2.3572243\ttotal: 4m 2s\tremaining: 14.9s\n",
      "820:\tlearn: 2.3275877\ttotal: 4m 5s\tremaining: 11.9s\n",
      "830:\tlearn: 2.3009236\ttotal: 4m 8s\tremaining: 8.96s\n",
      "840:\tlearn: 2.2664295\ttotal: 4m 11s\tremaining: 5.97s\n",
      "850:\tlearn: 2.2366199\ttotal: 4m 14s\tremaining: 2.99s\n",
      "860:\tlearn: 2.2154354\ttotal: 4m 17s\tremaining: 0us\n",
      "0:\tlearn: 11.0086255\ttotal: 297ms\tremaining: 4m 15s\n",
      "10:\tlearn: 10.2096040\ttotal: 3.35s\tremaining: 4m 19s\n",
      "20:\tlearn: 9.6045191\ttotal: 6.44s\tremaining: 4m 17s\n",
      "30:\tlearn: 9.0761680\ttotal: 9.49s\tremaining: 4m 14s\n",
      "40:\tlearn: 8.6378975\ttotal: 12.3s\tremaining: 4m 6s\n",
      "50:\tlearn: 8.2988673\ttotal: 15.1s\tremaining: 4m\n",
      "60:\tlearn: 7.9760014\ttotal: 18.1s\tremaining: 3m 57s\n",
      "70:\tlearn: 7.7412891\ttotal: 20.7s\tremaining: 3m 50s\n",
      "80:\tlearn: 7.5489607\ttotal: 23.6s\tremaining: 3m 47s\n",
      "90:\tlearn: 7.3551904\ttotal: 26.3s\tremaining: 3m 42s\n",
      "100:\tlearn: 7.1814762\ttotal: 29.1s\tremaining: 3m 38s\n",
      "110:\tlearn: 7.0359753\ttotal: 32s\tremaining: 3m 35s\n",
      "120:\tlearn: 6.8807656\ttotal: 34.7s\tremaining: 3m 32s\n",
      "130:\tlearn: 6.7620114\ttotal: 37.1s\tremaining: 3m 26s\n",
      "140:\tlearn: 6.6572309\ttotal: 39.2s\tremaining: 3m 20s\n",
      "150:\tlearn: 6.5353078\ttotal: 41.6s\tremaining: 3m 15s\n",
      "160:\tlearn: 6.4555738\ttotal: 43.9s\tremaining: 3m 11s\n",
      "170:\tlearn: 6.3564425\ttotal: 46.3s\tremaining: 3m 6s\n",
      "180:\tlearn: 6.2685575\ttotal: 48.7s\tremaining: 3m 3s\n",
      "190:\tlearn: 6.1492814\ttotal: 51.5s\tremaining: 3m\n",
      "200:\tlearn: 6.0188152\ttotal: 54.2s\tremaining: 2m 57s\n",
      "210:\tlearn: 5.8976791\ttotal: 56.8s\tremaining: 2m 55s\n",
      "220:\tlearn: 5.7997108\ttotal: 59.5s\tremaining: 2m 52s\n",
      "230:\tlearn: 5.6988330\ttotal: 1m 2s\tremaining: 2m 50s\n",
      "240:\tlearn: 5.5925897\ttotal: 1m 5s\tremaining: 2m 48s\n",
      "250:\tlearn: 5.4830621\ttotal: 1m 8s\tremaining: 2m 46s\n",
      "260:\tlearn: 5.3738999\ttotal: 1m 11s\tremaining: 2m 44s\n",
      "270:\tlearn: 5.2838097\ttotal: 1m 14s\tremaining: 2m 42s\n",
      "280:\tlearn: 5.1866329\ttotal: 1m 17s\tremaining: 2m 40s\n",
      "290:\tlearn: 5.1057271\ttotal: 1m 20s\tremaining: 2m 37s\n",
      "300:\tlearn: 5.0150611\ttotal: 1m 23s\tremaining: 2m 34s\n",
      "310:\tlearn: 4.9374483\ttotal: 1m 26s\tremaining: 2m 32s\n",
      "320:\tlearn: 4.8452148\ttotal: 1m 29s\tremaining: 2m 30s\n",
      "330:\tlearn: 4.7694919\ttotal: 1m 32s\tremaining: 2m 27s\n",
      "340:\tlearn: 4.6778744\ttotal: 1m 35s\tremaining: 2m 25s\n",
      "350:\tlearn: 4.6163310\ttotal: 1m 38s\tremaining: 2m 22s\n",
      "360:\tlearn: 4.5259677\ttotal: 1m 41s\tremaining: 2m 20s\n",
      "370:\tlearn: 4.4424012\ttotal: 1m 43s\tremaining: 2m 17s\n",
      "380:\tlearn: 4.3945652\ttotal: 1m 46s\tremaining: 2m 14s\n",
      "390:\tlearn: 4.3184896\ttotal: 1m 49s\tremaining: 2m 11s\n",
      "400:\tlearn: 4.2403964\ttotal: 1m 52s\tremaining: 2m 8s\n",
      "410:\tlearn: 4.1883729\ttotal: 1m 55s\tremaining: 2m 6s\n",
      "420:\tlearn: 4.1266113\ttotal: 1m 58s\tremaining: 2m 3s\n",
      "430:\tlearn: 4.0459394\ttotal: 2m\tremaining: 2m\n",
      "440:\tlearn: 3.9640633\ttotal: 2m 3s\tremaining: 1m 58s\n",
      "450:\tlearn: 3.8896613\ttotal: 2m 6s\tremaining: 1m 55s\n",
      "460:\tlearn: 3.8172712\ttotal: 2m 9s\tremaining: 1m 52s\n",
      "470:\tlearn: 3.7604339\ttotal: 2m 12s\tremaining: 1m 49s\n",
      "480:\tlearn: 3.6995246\ttotal: 2m 14s\tremaining: 1m 46s\n",
      "490:\tlearn: 3.6462876\ttotal: 2m 17s\tremaining: 1m 43s\n",
      "500:\tlearn: 3.5771685\ttotal: 2m 20s\tremaining: 1m 41s\n",
      "510:\tlearn: 3.5251692\ttotal: 2m 23s\tremaining: 1m 38s\n",
      "520:\tlearn: 3.4683392\ttotal: 2m 26s\tremaining: 1m 35s\n",
      "530:\tlearn: 3.4203512\ttotal: 2m 29s\tremaining: 1m 32s\n",
      "540:\tlearn: 3.3662683\ttotal: 2m 32s\tremaining: 1m 30s\n",
      "550:\tlearn: 3.3137812\ttotal: 2m 35s\tremaining: 1m 27s\n",
      "560:\tlearn: 3.2697922\ttotal: 2m 38s\tremaining: 1m 24s\n",
      "570:\tlearn: 3.2162620\ttotal: 2m 41s\tremaining: 1m 21s\n",
      "580:\tlearn: 3.1683999\ttotal: 2m 43s\tremaining: 1m 19s\n",
      "590:\tlearn: 3.1271146\ttotal: 2m 46s\tremaining: 1m 16s\n",
      "600:\tlearn: 3.0890356\ttotal: 2m 49s\tremaining: 1m 13s\n",
      "610:\tlearn: 3.0366859\ttotal: 2m 52s\tremaining: 1m 10s\n",
      "620:\tlearn: 2.9997766\ttotal: 2m 55s\tremaining: 1m 7s\n",
      "630:\tlearn: 2.9561177\ttotal: 2m 58s\tremaining: 1m 5s\n",
      "640:\tlearn: 2.9148560\ttotal: 3m 1s\tremaining: 1m 2s\n",
      "650:\tlearn: 2.8720060\ttotal: 3m 4s\tremaining: 59.5s\n",
      "660:\tlearn: 2.8273553\ttotal: 3m 7s\tremaining: 56.7s\n",
      "670:\tlearn: 2.7770584\ttotal: 3m 10s\tremaining: 53.9s\n",
      "680:\tlearn: 2.7428873\ttotal: 3m 13s\tremaining: 51.2s\n",
      "690:\tlearn: 2.7084359\ttotal: 3m 16s\tremaining: 48.4s\n",
      "700:\tlearn: 2.6662639\ttotal: 3m 19s\tremaining: 45.5s\n",
      "710:\tlearn: 2.6320870\ttotal: 3m 22s\tremaining: 42.7s\n",
      "720:\tlearn: 2.5994396\ttotal: 3m 24s\tremaining: 39.8s\n",
      "730:\tlearn: 2.5577593\ttotal: 3m 27s\tremaining: 37s\n",
      "740:\tlearn: 2.5312822\ttotal: 3m 30s\tremaining: 34.1s\n",
      "750:\tlearn: 2.5087213\ttotal: 3m 33s\tremaining: 31.3s\n",
      "760:\tlearn: 2.4941799\ttotal: 3m 36s\tremaining: 28.5s\n",
      "770:\tlearn: 2.4594982\ttotal: 3m 39s\tremaining: 25.6s\n",
      "780:\tlearn: 2.4250324\ttotal: 3m 42s\tremaining: 22.8s\n",
      "790:\tlearn: 2.3853772\ttotal: 3m 45s\tremaining: 19.9s\n",
      "800:\tlearn: 2.3583962\ttotal: 3m 48s\tremaining: 17.1s\n",
      "810:\tlearn: 2.3301229\ttotal: 3m 51s\tremaining: 14.2s\n",
      "820:\tlearn: 2.2970138\ttotal: 3m 54s\tremaining: 11.4s\n",
      "830:\tlearn: 2.2706356\ttotal: 3m 56s\tremaining: 8.55s\n",
      "840:\tlearn: 2.2474610\ttotal: 3m 59s\tremaining: 5.7s\n",
      "850:\tlearn: 2.2140448\ttotal: 4m 2s\tremaining: 2.85s\n",
      "860:\tlearn: 2.1746585\ttotal: 4m 5s\tremaining: 0us\n",
      "0:\tlearn: 10.9489465\ttotal: 287ms\tremaining: 4m 6s\n",
      "10:\tlearn: 10.2094555\ttotal: 2.87s\tremaining: 3m 41s\n",
      "20:\tlearn: 9.6322834\ttotal: 5.91s\tremaining: 3m 56s\n",
      "30:\tlearn: 9.1277562\ttotal: 8.89s\tremaining: 3m 58s\n",
      "40:\tlearn: 8.6826670\ttotal: 11.8s\tremaining: 3m 56s\n",
      "50:\tlearn: 8.3046166\ttotal: 15s\tremaining: 3m 57s\n",
      "60:\tlearn: 7.9633141\ttotal: 17.9s\tremaining: 3m 55s\n",
      "70:\tlearn: 7.6861815\ttotal: 20.7s\tremaining: 3m 50s\n",
      "80:\tlearn: 7.4365593\ttotal: 23.6s\tremaining: 3m 47s\n",
      "90:\tlearn: 7.2471404\ttotal: 26.3s\tremaining: 3m 42s\n",
      "100:\tlearn: 7.0633080\ttotal: 29.3s\tremaining: 3m 40s\n",
      "110:\tlearn: 6.8774409\ttotal: 32s\tremaining: 3m 36s\n",
      "120:\tlearn: 6.7160187\ttotal: 35s\tremaining: 3m 33s\n",
      "130:\tlearn: 6.5765711\ttotal: 37.8s\tremaining: 3m 30s\n",
      "140:\tlearn: 6.4295617\ttotal: 40.4s\tremaining: 3m 26s\n",
      "150:\tlearn: 6.2923910\ttotal: 43.3s\tremaining: 3m 23s\n",
      "160:\tlearn: 6.1801619\ttotal: 46s\tremaining: 3m 19s\n",
      "170:\tlearn: 6.0545215\ttotal: 49s\tremaining: 3m 17s\n",
      "180:\tlearn: 5.9430172\ttotal: 51.4s\tremaining: 3m 12s\n",
      "190:\tlearn: 5.8395369\ttotal: 53.8s\tremaining: 3m 8s\n",
      "200:\tlearn: 5.7456451\ttotal: 56.6s\tremaining: 3m 5s\n",
      "210:\tlearn: 5.6243659\ttotal: 59.5s\tremaining: 3m 3s\n",
      "220:\tlearn: 5.5246029\ttotal: 1m 2s\tremaining: 3m\n",
      "230:\tlearn: 5.4273935\ttotal: 1m 5s\tremaining: 2m 58s\n",
      "240:\tlearn: 5.3665003\ttotal: 1m 8s\tremaining: 2m 54s\n",
      "250:\tlearn: 5.2811627\ttotal: 1m 10s\tremaining: 2m 52s\n",
      "260:\tlearn: 5.2010502\ttotal: 1m 13s\tremaining: 2m 48s\n",
      "270:\tlearn: 5.1284903\ttotal: 1m 16s\tremaining: 2m 46s\n",
      "280:\tlearn: 5.0439992\ttotal: 1m 19s\tremaining: 2m 43s\n",
      "290:\tlearn: 4.9576495\ttotal: 1m 22s\tremaining: 2m 41s\n",
      "300:\tlearn: 4.8745129\ttotal: 1m 25s\tremaining: 2m 38s\n",
      "310:\tlearn: 4.7977597\ttotal: 1m 27s\tremaining: 2m 34s\n",
      "320:\tlearn: 4.6965713\ttotal: 1m 30s\tremaining: 2m 32s\n",
      "330:\tlearn: 4.6125331\ttotal: 1m 33s\tremaining: 2m 28s\n",
      "340:\tlearn: 4.5470871\ttotal: 1m 35s\tremaining: 2m 25s\n",
      "350:\tlearn: 4.4745896\ttotal: 1m 38s\tremaining: 2m 22s\n",
      "360:\tlearn: 4.3967487\ttotal: 1m 41s\tremaining: 2m 19s\n",
      "370:\tlearn: 4.3012282\ttotal: 1m 43s\tremaining: 2m 17s\n",
      "380:\tlearn: 4.2246503\ttotal: 1m 46s\tremaining: 2m 14s\n",
      "390:\tlearn: 4.1459350\ttotal: 1m 49s\tremaining: 2m 11s\n",
      "400:\tlearn: 4.0823453\ttotal: 1m 52s\tremaining: 2m 8s\n",
      "410:\tlearn: 4.0240397\ttotal: 1m 54s\tremaining: 2m 5s\n",
      "420:\tlearn: 3.9731606\ttotal: 1m 57s\tremaining: 2m 2s\n",
      "430:\tlearn: 3.9159683\ttotal: 2m\tremaining: 1m 59s\n",
      "440:\tlearn: 3.8574100\ttotal: 2m 2s\tremaining: 1m 56s\n",
      "450:\tlearn: 3.7949620\ttotal: 2m 5s\tremaining: 1m 54s\n",
      "460:\tlearn: 3.7283154\ttotal: 2m 8s\tremaining: 1m 51s\n",
      "470:\tlearn: 3.6688366\ttotal: 2m 11s\tremaining: 1m 49s\n",
      "480:\tlearn: 3.6193802\ttotal: 2m 15s\tremaining: 1m 46s\n",
      "490:\tlearn: 3.5527763\ttotal: 2m 17s\tremaining: 1m 43s\n",
      "500:\tlearn: 3.5062809\ttotal: 2m 20s\tremaining: 1m 41s\n",
      "510:\tlearn: 3.4646097\ttotal: 2m 23s\tremaining: 1m 38s\n",
      "520:\tlearn: 3.4115028\ttotal: 2m 26s\tremaining: 1m 35s\n",
      "530:\tlearn: 3.3612409\ttotal: 2m 29s\tremaining: 1m 32s\n",
      "540:\tlearn: 3.3178671\ttotal: 2m 32s\tremaining: 1m 30s\n",
      "550:\tlearn: 3.2613919\ttotal: 2m 35s\tremaining: 1m 27s\n",
      "560:\tlearn: 3.2163535\ttotal: 2m 37s\tremaining: 1m 24s\n",
      "570:\tlearn: 3.1702984\ttotal: 2m 40s\tremaining: 1m 21s\n",
      "580:\tlearn: 3.1298156\ttotal: 2m 43s\tremaining: 1m 18s\n",
      "590:\tlearn: 3.0760596\ttotal: 2m 46s\tremaining: 1m 16s\n",
      "600:\tlearn: 3.0223742\ttotal: 2m 49s\tremaining: 1m 13s\n",
      "610:\tlearn: 2.9775763\ttotal: 2m 52s\tremaining: 1m 10s\n",
      "620:\tlearn: 2.9316049\ttotal: 2m 55s\tremaining: 1m 7s\n",
      "630:\tlearn: 2.8796784\ttotal: 2m 58s\tremaining: 1m 5s\n",
      "640:\tlearn: 2.8326547\ttotal: 3m 1s\tremaining: 1m 2s\n",
      "650:\tlearn: 2.7845024\ttotal: 3m 4s\tremaining: 59.6s\n",
      "660:\tlearn: 2.7400609\ttotal: 3m 7s\tremaining: 56.7s\n",
      "670:\tlearn: 2.7043195\ttotal: 3m 10s\tremaining: 53.9s\n",
      "680:\tlearn: 2.6665404\ttotal: 3m 13s\tremaining: 51.1s\n",
      "690:\tlearn: 2.6398605\ttotal: 3m 16s\tremaining: 48.3s\n",
      "700:\tlearn: 2.6028324\ttotal: 3m 19s\tremaining: 45.5s\n",
      "710:\tlearn: 2.5740574\ttotal: 3m 22s\tremaining: 42.7s\n",
      "720:\tlearn: 2.5411050\ttotal: 3m 25s\tremaining: 39.8s\n",
      "730:\tlearn: 2.5104446\ttotal: 3m 28s\tremaining: 37s\n",
      "740:\tlearn: 2.4819113\ttotal: 3m 30s\tremaining: 34.1s\n",
      "750:\tlearn: 2.4494972\ttotal: 3m 33s\tremaining: 31.3s\n",
      "760:\tlearn: 2.4220035\ttotal: 3m 36s\tremaining: 28.4s\n",
      "770:\tlearn: 2.3875769\ttotal: 3m 39s\tremaining: 25.6s\n",
      "780:\tlearn: 2.3609122\ttotal: 3m 41s\tremaining: 22.7s\n",
      "790:\tlearn: 2.3226190\ttotal: 3m 44s\tremaining: 19.8s\n",
      "800:\tlearn: 2.2912193\ttotal: 3m 47s\tremaining: 17s\n",
      "810:\tlearn: 2.2624407\ttotal: 3m 50s\tremaining: 14.2s\n",
      "820:\tlearn: 2.2297320\ttotal: 3m 53s\tremaining: 11.4s\n",
      "830:\tlearn: 2.1973799\ttotal: 3m 55s\tremaining: 8.51s\n",
      "840:\tlearn: 2.1640685\ttotal: 3m 58s\tremaining: 5.67s\n",
      "850:\tlearn: 2.1384483\ttotal: 4m 1s\tremaining: 2.83s\n",
      "860:\tlearn: 2.1081192\ttotal: 4m 4s\tremaining: 0us\n",
      "0:\tlearn: 11.2224276\ttotal: 887us\tremaining: 43.5ms\n",
      "10:\tlearn: 11.0891583\ttotal: 9.95ms\tremaining: 35.3ms\n",
      "20:\tlearn: 10.9624107\ttotal: 20.5ms\tremaining: 28.2ms\n",
      "30:\tlearn: 10.8448170\ttotal: 30.6ms\tremaining: 18.7ms\n",
      "40:\tlearn: 10.7393777\ttotal: 37.5ms\tremaining: 8.23ms\n",
      "49:\tlearn: 10.6532632\ttotal: 43.8ms\tremaining: 0us\n",
      "0:\tlearn: 11.2327309\ttotal: 916us\tremaining: 44.9ms\n",
      "10:\tlearn: 11.1052711\ttotal: 8.44ms\tremaining: 29.9ms\n",
      "20:\tlearn: 10.9874606\ttotal: 18ms\tremaining: 24.9ms\n",
      "30:\tlearn: 10.8820294\ttotal: 28.3ms\tremaining: 17.3ms\n",
      "40:\tlearn: 10.7860671\ttotal: 38.7ms\tremaining: 8.48ms\n",
      "49:\tlearn: 10.7042566\ttotal: 48.5ms\tremaining: 0us\n",
      "0:\tlearn: 11.3421423\ttotal: 947us\tremaining: 46.4ms\n",
      "10:\tlearn: 11.2198901\ttotal: 8.25ms\tremaining: 29.3ms\n",
      "20:\tlearn: 11.1057369\ttotal: 15.5ms\tremaining: 21.4ms\n",
      "30:\tlearn: 10.9976401\ttotal: 22.7ms\tremaining: 13.9ms\n",
      "40:\tlearn: 10.8940625\ttotal: 30ms\tremaining: 6.59ms\n",
      "49:\tlearn: 10.8028434\ttotal: 36.7ms\tremaining: 0us\n",
      "0:\tlearn: 11.0747492\ttotal: 843us\tremaining: 41.3ms\n",
      "10:\tlearn: 10.9507222\ttotal: 8.37ms\tremaining: 29.7ms\n",
      "20:\tlearn: 10.8390251\ttotal: 15.3ms\tremaining: 21.2ms\n",
      "30:\tlearn: 10.7387489\ttotal: 22.5ms\tremaining: 13.8ms\n",
      "40:\tlearn: 10.6568276\ttotal: 29.5ms\tremaining: 6.47ms\n",
      "49:\tlearn: 10.5797901\ttotal: 36.1ms\tremaining: 0us\n",
      "0:\tlearn: 11.0280610\ttotal: 985us\tremaining: 48.3ms\n",
      "10:\tlearn: 10.8943270\ttotal: 8.41ms\tremaining: 29.8ms\n",
      "20:\tlearn: 10.7752599\ttotal: 15.9ms\tremaining: 22ms\n",
      "30:\tlearn: 10.6699985\ttotal: 24.8ms\tremaining: 15.2ms\n",
      "40:\tlearn: 10.5810022\ttotal: 35.1ms\tremaining: 7.71ms\n",
      "49:\tlearn: 10.5087242\ttotal: 44.2ms\tremaining: 0us\n",
      "0:\tlearn: 10.7724165\ttotal: 1.35ms\tremaining: 125ms\n",
      "10:\tlearn: 8.8805510\ttotal: 13ms\tremaining: 98.2ms\n",
      "20:\tlearn: 8.3693644\ttotal: 23.1ms\tremaining: 80.2ms\n",
      "30:\tlearn: 8.1168379\ttotal: 35.9ms\tremaining: 73ms\n",
      "40:\tlearn: 7.8914147\ttotal: 46ms\tremaining: 59.4ms\n",
      "50:\tlearn: 7.6851703\ttotal: 59.8ms\tremaining: 50.4ms\n",
      "60:\tlearn: 7.5572130\ttotal: 70.3ms\tremaining: 38ms\n",
      "70:\tlearn: 7.4172019\ttotal: 80.2ms\tremaining: 26ms\n",
      "80:\tlearn: 7.2986115\ttotal: 90.5ms\tremaining: 14.5ms\n",
      "90:\tlearn: 7.1996894\ttotal: 101ms\tremaining: 3.33ms\n",
      "93:\tlearn: 7.1693096\ttotal: 104ms\tremaining: 0us\n",
      "0:\tlearn: 10.7073383\ttotal: 1.28ms\tremaining: 119ms\n",
      "10:\tlearn: 8.9013895\ttotal: 12.9ms\tremaining: 97.5ms\n",
      "20:\tlearn: 8.3559687\ttotal: 23.3ms\tremaining: 81.2ms\n",
      "30:\tlearn: 8.0662457\ttotal: 37.7ms\tremaining: 76.6ms\n",
      "40:\tlearn: 7.7835799\ttotal: 49.6ms\tremaining: 64.1ms\n",
      "50:\tlearn: 7.5927609\ttotal: 62ms\tremaining: 52.3ms\n",
      "60:\tlearn: 7.4431355\ttotal: 74.1ms\tremaining: 40.1ms\n",
      "70:\tlearn: 7.2995264\ttotal: 89.8ms\tremaining: 29.1ms\n",
      "80:\tlearn: 7.2030278\ttotal: 103ms\tremaining: 16.5ms\n",
      "90:\tlearn: 7.1059121\ttotal: 113ms\tremaining: 3.72ms\n",
      "93:\tlearn: 7.0595293\ttotal: 116ms\tremaining: 0us\n",
      "0:\tlearn: 10.8732316\ttotal: 1.18ms\tremaining: 110ms\n",
      "10:\tlearn: 9.2102067\ttotal: 14.5ms\tremaining: 110ms\n",
      "20:\tlearn: 8.6059308\ttotal: 26.6ms\tremaining: 92.6ms\n",
      "30:\tlearn: 8.3574481\ttotal: 38.8ms\tremaining: 78.9ms\n",
      "40:\tlearn: 8.1198354\ttotal: 49.5ms\tremaining: 64ms\n",
      "50:\tlearn: 7.9038383\ttotal: 61.1ms\tremaining: 51.5ms\n",
      "60:\tlearn: 7.7600505\ttotal: 71.6ms\tremaining: 38.8ms\n",
      "70:\tlearn: 7.5893605\ttotal: 82.2ms\tremaining: 26.6ms\n",
      "80:\tlearn: 7.4376725\ttotal: 93.6ms\tremaining: 15ms\n",
      "90:\tlearn: 7.3408483\ttotal: 107ms\tremaining: 3.53ms\n",
      "93:\tlearn: 7.2775398\ttotal: 112ms\tremaining: 0us\n",
      "0:\tlearn: 10.6828927\ttotal: 1.76ms\tremaining: 163ms\n",
      "10:\tlearn: 8.9533680\ttotal: 12.1ms\tremaining: 91.7ms\n",
      "20:\tlearn: 8.4955924\ttotal: 22.9ms\tremaining: 79.4ms\n",
      "30:\tlearn: 8.1984916\ttotal: 32.8ms\tremaining: 66.6ms\n",
      "40:\tlearn: 7.9128797\ttotal: 44.6ms\tremaining: 57.7ms\n",
      "50:\tlearn: 7.7316876\ttotal: 56ms\tremaining: 47.2ms\n",
      "60:\tlearn: 7.6107151\ttotal: 69.3ms\tremaining: 37.5ms\n",
      "70:\tlearn: 7.4873671\ttotal: 81.8ms\tremaining: 26.5ms\n",
      "80:\tlearn: 7.3378492\ttotal: 92.5ms\tremaining: 14.9ms\n",
      "90:\tlearn: 7.2292538\ttotal: 103ms\tremaining: 3.4ms\n",
      "93:\tlearn: 7.2067948\ttotal: 106ms\tremaining: 0us\n",
      "0:\tlearn: 10.5688820\ttotal: 1.3ms\tremaining: 121ms\n",
      "10:\tlearn: 8.9527265\ttotal: 11.5ms\tremaining: 86.7ms\n",
      "20:\tlearn: 8.4594415\ttotal: 22.2ms\tremaining: 77ms\n",
      "30:\tlearn: 8.1733390\ttotal: 32.6ms\tremaining: 66.2ms\n",
      "40:\tlearn: 7.8979690\ttotal: 43.3ms\tremaining: 56ms\n",
      "50:\tlearn: 7.7039753\ttotal: 53.5ms\tremaining: 45.1ms\n",
      "60:\tlearn: 7.5658541\ttotal: 65.5ms\tremaining: 35.4ms\n",
      "70:\tlearn: 7.4421078\ttotal: 80.6ms\tremaining: 26.1ms\n",
      "80:\tlearn: 7.3141964\ttotal: 91.9ms\tremaining: 14.8ms\n",
      "90:\tlearn: 7.2362526\ttotal: 102ms\tremaining: 3.37ms\n",
      "93:\tlearn: 7.1823362\ttotal: 105ms\tremaining: 0us\n",
      "0:\tlearn: 11.0479241\ttotal: 66.6ms\tremaining: 7.99s\n",
      "10:\tlearn: 9.4900447\ttotal: 651ms\tremaining: 6.51s\n",
      "20:\tlearn: 8.5904614\ttotal: 1.37s\tremaining: 6.51s\n",
      "30:\tlearn: 8.0710647\ttotal: 2.06s\tremaining: 5.99s\n",
      "40:\tlearn: 7.6512835\ttotal: 2.82s\tremaining: 5.5s\n",
      "50:\tlearn: 7.3308783\ttotal: 3.5s\tremaining: 4.8s\n",
      "60:\tlearn: 7.1372984\ttotal: 4.18s\tremaining: 4.11s\n",
      "70:\tlearn: 6.9051899\ttotal: 4.86s\tremaining: 3.42s\n",
      "80:\tlearn: 6.7328793\ttotal: 5.46s\tremaining: 2.7s\n",
      "90:\tlearn: 6.5793483\ttotal: 6.14s\tremaining: 2.02s\n",
      "100:\tlearn: 6.4217438\ttotal: 6.78s\tremaining: 1.34s\n",
      "110:\tlearn: 6.2986768\ttotal: 7.44s\tremaining: 671ms\n",
      "120:\tlearn: 6.1485877\ttotal: 8.1s\tremaining: 0us\n",
      "0:\tlearn: 11.0410751\ttotal: 70ms\tremaining: 8.4s\n",
      "10:\tlearn: 9.5398443\ttotal: 814ms\tremaining: 8.14s\n",
      "20:\tlearn: 8.6493123\ttotal: 1.46s\tremaining: 6.94s\n",
      "30:\tlearn: 8.0715543\ttotal: 2.15s\tremaining: 6.23s\n",
      "40:\tlearn: 7.7050074\ttotal: 2.76s\tremaining: 5.39s\n",
      "50:\tlearn: 7.4409326\ttotal: 3.33s\tremaining: 4.57s\n",
      "60:\tlearn: 7.2291611\ttotal: 4.07s\tremaining: 4s\n",
      "70:\tlearn: 7.0222743\ttotal: 4.79s\tremaining: 3.38s\n",
      "80:\tlearn: 6.8061060\ttotal: 5.46s\tremaining: 2.7s\n",
      "90:\tlearn: 6.5777496\ttotal: 6.17s\tremaining: 2.03s\n",
      "100:\tlearn: 6.3583228\ttotal: 6.85s\tremaining: 1.36s\n",
      "110:\tlearn: 6.1626950\ttotal: 7.53s\tremaining: 678ms\n",
      "120:\tlearn: 6.0001993\ttotal: 8.21s\tremaining: 0us\n",
      "0:\tlearn: 11.1273825\ttotal: 68.4ms\tremaining: 8.21s\n",
      "10:\tlearn: 9.6793680\ttotal: 722ms\tremaining: 7.22s\n",
      "20:\tlearn: 8.7810782\ttotal: 1.42s\tremaining: 6.78s\n",
      "30:\tlearn: 8.2314781\ttotal: 2.09s\tremaining: 6.07s\n",
      "40:\tlearn: 7.9057580\ttotal: 2.69s\tremaining: 5.24s\n",
      "50:\tlearn: 7.5921969\ttotal: 3.35s\tremaining: 4.6s\n",
      "60:\tlearn: 7.3147907\ttotal: 3.98s\tremaining: 3.91s\n",
      "70:\tlearn: 7.0968843\ttotal: 4.75s\tremaining: 3.34s\n",
      "80:\tlearn: 6.9014337\ttotal: 5.44s\tremaining: 2.69s\n",
      "90:\tlearn: 6.7303072\ttotal: 6.06s\tremaining: 2s\n",
      "100:\tlearn: 6.5434914\ttotal: 6.7s\tremaining: 1.33s\n",
      "110:\tlearn: 6.3304721\ttotal: 7.36s\tremaining: 663ms\n",
      "120:\tlearn: 6.1810259\ttotal: 8.02s\tremaining: 0us\n",
      "0:\tlearn: 10.8910842\ttotal: 61.8ms\tremaining: 7.42s\n",
      "10:\tlearn: 9.5470019\ttotal: 630ms\tremaining: 6.3s\n",
      "20:\tlearn: 8.6615998\ttotal: 1.27s\tremaining: 6.04s\n",
      "30:\tlearn: 8.1483884\ttotal: 1.91s\tremaining: 5.54s\n",
      "40:\tlearn: 7.8196258\ttotal: 2.47s\tremaining: 4.83s\n",
      "50:\tlearn: 7.5640209\ttotal: 3.08s\tremaining: 4.22s\n",
      "60:\tlearn: 7.3172881\ttotal: 3.65s\tremaining: 3.59s\n",
      "70:\tlearn: 7.1319252\ttotal: 4.29s\tremaining: 3.02s\n",
      "80:\tlearn: 6.9463124\ttotal: 4.92s\tremaining: 2.43s\n",
      "90:\tlearn: 6.7297058\ttotal: 5.56s\tremaining: 1.83s\n",
      "100:\tlearn: 6.4750955\ttotal: 6.31s\tremaining: 1.25s\n",
      "110:\tlearn: 6.2729730\ttotal: 6.98s\tremaining: 629ms\n",
      "120:\tlearn: 6.1051973\ttotal: 7.55s\tremaining: 0us\n",
      "0:\tlearn: 10.8441376\ttotal: 63.2ms\tremaining: 7.58s\n",
      "10:\tlearn: 9.5163834\ttotal: 767ms\tremaining: 7.67s\n",
      "20:\tlearn: 8.6613888\ttotal: 1.41s\tremaining: 6.72s\n",
      "30:\tlearn: 8.0857751\ttotal: 2.05s\tremaining: 5.96s\n",
      "40:\tlearn: 7.6831207\ttotal: 2.65s\tremaining: 5.18s\n",
      "50:\tlearn: 7.3880056\ttotal: 3.25s\tremaining: 4.46s\n",
      "60:\tlearn: 7.1143603\ttotal: 3.81s\tremaining: 3.75s\n",
      "70:\tlearn: 6.8759654\ttotal: 4.46s\tremaining: 3.14s\n",
      "80:\tlearn: 6.7080154\ttotal: 5.14s\tremaining: 2.54s\n",
      "90:\tlearn: 6.5736959\ttotal: 5.66s\tremaining: 1.86s\n",
      "100:\tlearn: 6.3928042\ttotal: 6.31s\tremaining: 1.25s\n",
      "110:\tlearn: 6.2644647\ttotal: 6.93s\tremaining: 624ms\n",
      "120:\tlearn: 6.0751706\ttotal: 7.57s\tremaining: 0us\n",
      "0:\tlearn: 11.1671144\ttotal: 11.6ms\tremaining: 1.21s\n",
      "10:\tlearn: 10.5649743\ttotal: 117ms\tremaining: 1000ms\n",
      "20:\tlearn: 10.0813254\ttotal: 230ms\tremaining: 922ms\n",
      "30:\tlearn: 9.6491881\ttotal: 352ms\tremaining: 839ms\n",
      "40:\tlearn: 9.3150368\ttotal: 459ms\tremaining: 717ms\n",
      "50:\tlearn: 9.0083986\ttotal: 574ms\tremaining: 607ms\n",
      "60:\tlearn: 8.7581027\ttotal: 678ms\tremaining: 489ms\n",
      "70:\tlearn: 8.5326054\ttotal: 793ms\tremaining: 380ms\n",
      "80:\tlearn: 8.3204660\ttotal: 895ms\tremaining: 265ms\n",
      "90:\tlearn: 8.1480615\ttotal: 1s\tremaining: 155ms\n",
      "100:\tlearn: 8.0106136\ttotal: 1.11s\tremaining: 44.1ms\n",
      "104:\tlearn: 7.9564641\ttotal: 1.15s\tremaining: 0us\n",
      "0:\tlearn: 11.1853416\ttotal: 11.2ms\tremaining: 1.16s\n",
      "10:\tlearn: 10.5874862\ttotal: 117ms\tremaining: 998ms\n",
      "20:\tlearn: 10.0787729\ttotal: 219ms\tremaining: 876ms\n",
      "30:\tlearn: 9.6786587\ttotal: 339ms\tremaining: 810ms\n",
      "40:\tlearn: 9.3271824\ttotal: 458ms\tremaining: 715ms\n",
      "50:\tlearn: 9.0157427\ttotal: 570ms\tremaining: 604ms\n",
      "60:\tlearn: 8.7679464\ttotal: 677ms\tremaining: 488ms\n",
      "70:\tlearn: 8.5544549\ttotal: 788ms\tremaining: 377ms\n",
      "80:\tlearn: 8.3628789\ttotal: 910ms\tremaining: 270ms\n",
      "90:\tlearn: 8.1899153\ttotal: 1.02s\tremaining: 157ms\n",
      "100:\tlearn: 8.0392313\ttotal: 1.13s\tremaining: 44.8ms\n",
      "104:\tlearn: 7.9852891\ttotal: 1.17s\tremaining: 0us\n",
      "0:\tlearn: 11.2947961\ttotal: 11.3ms\tremaining: 1.18s\n",
      "10:\tlearn: 10.7195752\ttotal: 132ms\tremaining: 1.13s\n",
      "20:\tlearn: 10.2163014\ttotal: 240ms\tremaining: 961ms\n",
      "30:\tlearn: 9.7926578\ttotal: 346ms\tremaining: 825ms\n",
      "40:\tlearn: 9.4526820\ttotal: 451ms\tremaining: 704ms\n",
      "50:\tlearn: 9.1517555\ttotal: 557ms\tremaining: 590ms\n",
      "60:\tlearn: 8.8928271\ttotal: 664ms\tremaining: 479ms\n",
      "70:\tlearn: 8.6705224\ttotal: 778ms\tremaining: 372ms\n",
      "80:\tlearn: 8.4852772\ttotal: 886ms\tremaining: 262ms\n",
      "90:\tlearn: 8.3186729\ttotal: 993ms\tremaining: 153ms\n",
      "100:\tlearn: 8.1676099\ttotal: 1.1s\tremaining: 43.7ms\n",
      "104:\tlearn: 8.1134436\ttotal: 1.14s\tremaining: 0us\n",
      "0:\tlearn: 11.0177578\ttotal: 11.1ms\tremaining: 1.16s\n",
      "10:\tlearn: 10.4424949\ttotal: 117ms\tremaining: 999ms\n",
      "20:\tlearn: 9.9668666\ttotal: 240ms\tremaining: 958ms\n",
      "30:\tlearn: 9.5934775\ttotal: 344ms\tremaining: 821ms\n",
      "40:\tlearn: 9.2863134\ttotal: 450ms\tremaining: 702ms\n",
      "50:\tlearn: 9.0066429\ttotal: 553ms\tremaining: 585ms\n",
      "60:\tlearn: 8.7805930\ttotal: 654ms\tremaining: 472ms\n",
      "70:\tlearn: 8.5636139\ttotal: 770ms\tremaining: 369ms\n",
      "80:\tlearn: 8.3873201\ttotal: 880ms\tremaining: 261ms\n",
      "90:\tlearn: 8.2228898\ttotal: 986ms\tremaining: 152ms\n",
      "100:\tlearn: 8.0836060\ttotal: 1.12s\tremaining: 44.2ms\n",
      "104:\tlearn: 8.0333760\ttotal: 1.16s\tremaining: 0us\n",
      "0:\tlearn: 10.9860152\ttotal: 10.4ms\tremaining: 1.08s\n",
      "10:\tlearn: 10.4104403\ttotal: 125ms\tremaining: 1.07s\n",
      "20:\tlearn: 9.9522777\ttotal: 230ms\tremaining: 922ms\n",
      "30:\tlearn: 9.5521093\ttotal: 331ms\tremaining: 789ms\n",
      "40:\tlearn: 9.2154357\ttotal: 433ms\tremaining: 676ms\n",
      "50:\tlearn: 8.9445051\ttotal: 536ms\tremaining: 568ms\n",
      "60:\tlearn: 8.7038458\ttotal: 639ms\tremaining: 461ms\n",
      "70:\tlearn: 8.4918191\ttotal: 739ms\tremaining: 354ms\n",
      "80:\tlearn: 8.3215568\ttotal: 839ms\tremaining: 249ms\n",
      "90:\tlearn: 8.1631960\ttotal: 938ms\tremaining: 144ms\n",
      "100:\tlearn: 8.0234288\ttotal: 1.04s\tremaining: 41ms\n",
      "104:\tlearn: 7.9638485\ttotal: 1.08s\tremaining: 0us\n",
      "0:\tlearn: 11.2169992\ttotal: 6.43ms\tremaining: 4.9s\n",
      "10:\tlearn: 11.0036353\ttotal: 69.1ms\tremaining: 4.72s\n",
      "20:\tlearn: 10.7969156\ttotal: 124ms\tremaining: 4.38s\n",
      "30:\tlearn: 10.6098888\ttotal: 183ms\tremaining: 4.31s\n",
      "40:\tlearn: 10.4315119\ttotal: 240ms\tremaining: 4.22s\n",
      "50:\tlearn: 10.2711273\ttotal: 294ms\tremaining: 4.1s\n",
      "60:\tlearn: 10.1199445\ttotal: 353ms\tremaining: 4.06s\n",
      "70:\tlearn: 9.9817632\ttotal: 419ms\tremaining: 4.08s\n",
      "80:\tlearn: 9.8568409\ttotal: 479ms\tremaining: 4.03s\n",
      "90:\tlearn: 9.7385220\ttotal: 558ms\tremaining: 4.11s\n",
      "100:\tlearn: 9.6361769\ttotal: 636ms\tremaining: 4.16s\n",
      "110:\tlearn: 9.5415599\ttotal: 712ms\tremaining: 4.17s\n",
      "120:\tlearn: 9.4493149\ttotal: 792ms\tremaining: 4.2s\n",
      "130:\tlearn: 9.3644145\ttotal: 892ms\tremaining: 4.29s\n",
      "140:\tlearn: 9.2749485\ttotal: 959ms\tremaining: 4.22s\n",
      "150:\tlearn: 9.1983438\ttotal: 1.02s\tremaining: 4.13s\n",
      "160:\tlearn: 9.1304770\ttotal: 1.07s\tremaining: 4.01s\n",
      "170:\tlearn: 9.0762922\ttotal: 1.13s\tremaining: 3.9s\n",
      "180:\tlearn: 9.0143592\ttotal: 1.24s\tremaining: 3.96s\n",
      "190:\tlearn: 8.9633351\ttotal: 1.34s\tremaining: 4s\n",
      "200:\tlearn: 8.9101745\ttotal: 1.4s\tremaining: 3.92s\n",
      "210:\tlearn: 8.8607976\ttotal: 1.46s\tremaining: 3.82s\n",
      "220:\tlearn: 8.8203416\ttotal: 1.52s\tremaining: 3.72s\n",
      "230:\tlearn: 8.7759886\ttotal: 1.58s\tremaining: 3.63s\n",
      "240:\tlearn: 8.7349432\ttotal: 1.63s\tremaining: 3.53s\n",
      "250:\tlearn: 8.6943149\ttotal: 1.68s\tremaining: 3.43s\n",
      "260:\tlearn: 8.6557303\ttotal: 1.74s\tremaining: 3.34s\n",
      "270:\tlearn: 8.6224200\ttotal: 1.8s\tremaining: 3.26s\n",
      "280:\tlearn: 8.5929056\ttotal: 1.86s\tremaining: 3.18s\n",
      "290:\tlearn: 8.5691826\ttotal: 1.93s\tremaining: 3.12s\n",
      "300:\tlearn: 8.5339988\ttotal: 1.98s\tremaining: 3.04s\n",
      "310:\tlearn: 8.4966904\ttotal: 2.04s\tremaining: 2.96s\n",
      "320:\tlearn: 8.4661404\ttotal: 2.09s\tremaining: 2.88s\n",
      "330:\tlearn: 8.4368780\ttotal: 2.15s\tremaining: 2.8s\n",
      "340:\tlearn: 8.4169433\ttotal: 2.21s\tremaining: 2.73s\n",
      "350:\tlearn: 8.3939144\ttotal: 2.27s\tremaining: 2.65s\n",
      "360:\tlearn: 8.3692358\ttotal: 2.32s\tremaining: 2.58s\n",
      "370:\tlearn: 8.3371479\ttotal: 2.38s\tremaining: 2.51s\n",
      "380:\tlearn: 8.3116968\ttotal: 2.43s\tremaining: 2.43s\n",
      "390:\tlearn: 8.2891611\ttotal: 2.48s\tremaining: 2.36s\n",
      "400:\tlearn: 8.2644275\ttotal: 2.54s\tremaining: 2.29s\n",
      "410:\tlearn: 8.2430808\ttotal: 2.6s\tremaining: 2.22s\n",
      "420:\tlearn: 8.2187441\ttotal: 2.66s\tremaining: 2.15s\n",
      "430:\tlearn: 8.1945685\ttotal: 2.72s\tremaining: 2.09s\n",
      "440:\tlearn: 8.1761951\ttotal: 2.79s\tremaining: 2.03s\n",
      "450:\tlearn: 8.1547532\ttotal: 2.85s\tremaining: 1.97s\n",
      "460:\tlearn: 8.1345196\ttotal: 2.91s\tremaining: 1.9s\n",
      "470:\tlearn: 8.1115826\ttotal: 2.97s\tremaining: 1.84s\n",
      "480:\tlearn: 8.0889819\ttotal: 3.03s\tremaining: 1.77s\n",
      "490:\tlearn: 8.0720491\ttotal: 3.08s\tremaining: 1.7s\n",
      "500:\tlearn: 8.0519227\ttotal: 3.15s\tremaining: 1.64s\n",
      "510:\tlearn: 8.0267583\ttotal: 3.22s\tremaining: 1.58s\n",
      "520:\tlearn: 8.0077452\ttotal: 3.28s\tremaining: 1.52s\n",
      "530:\tlearn: 7.9931960\ttotal: 3.33s\tremaining: 1.45s\n",
      "540:\tlearn: 7.9762144\ttotal: 3.38s\tremaining: 1.38s\n",
      "550:\tlearn: 7.9576077\ttotal: 3.44s\tremaining: 1.32s\n",
      "560:\tlearn: 7.9402270\ttotal: 3.49s\tremaining: 1.25s\n",
      "570:\tlearn: 7.9228662\ttotal: 3.55s\tremaining: 1.19s\n",
      "580:\tlearn: 7.9036584\ttotal: 3.62s\tremaining: 1.13s\n",
      "590:\tlearn: 7.8861991\ttotal: 3.68s\tremaining: 1.06s\n",
      "600:\tlearn: 7.8733061\ttotal: 3.74s\tremaining: 1s\n",
      "610:\tlearn: 7.8644088\ttotal: 3.8s\tremaining: 940ms\n",
      "620:\tlearn: 7.8442848\ttotal: 3.86s\tremaining: 876ms\n",
      "630:\tlearn: 7.8257868\ttotal: 3.92s\tremaining: 814ms\n",
      "640:\tlearn: 7.8069687\ttotal: 3.99s\tremaining: 753ms\n",
      "650:\tlearn: 7.7945587\ttotal: 4.05s\tremaining: 691ms\n",
      "660:\tlearn: 7.7777485\ttotal: 4.12s\tremaining: 629ms\n",
      "670:\tlearn: 7.7663261\ttotal: 4.18s\tremaining: 568ms\n",
      "680:\tlearn: 7.7567058\ttotal: 4.24s\tremaining: 504ms\n",
      "690:\tlearn: 7.7460741\ttotal: 4.29s\tremaining: 441ms\n",
      "700:\tlearn: 7.7359224\ttotal: 4.35s\tremaining: 378ms\n",
      "710:\tlearn: 7.7172100\ttotal: 4.4s\tremaining: 316ms\n",
      "720:\tlearn: 7.7060621\ttotal: 4.46s\tremaining: 254ms\n",
      "730:\tlearn: 7.6928877\ttotal: 4.52s\tremaining: 192ms\n",
      "740:\tlearn: 7.6816361\ttotal: 4.58s\tremaining: 130ms\n",
      "750:\tlearn: 7.6723686\ttotal: 4.63s\tremaining: 67.9ms\n",
      "760:\tlearn: 7.6564509\ttotal: 4.69s\tremaining: 6.16ms\n",
      "761:\tlearn: 7.6543612\ttotal: 4.69s\tremaining: 0us\n",
      "0:\tlearn: 11.2225051\ttotal: 5.75ms\tremaining: 4.37s\n",
      "10:\tlearn: 11.0087810\ttotal: 61.8ms\tremaining: 4.22s\n",
      "20:\tlearn: 10.8102253\ttotal: 117ms\tremaining: 4.12s\n",
      "30:\tlearn: 10.6347796\ttotal: 173ms\tremaining: 4.08s\n",
      "40:\tlearn: 10.4620996\ttotal: 231ms\tremaining: 4.06s\n",
      "50:\tlearn: 10.3061883\ttotal: 288ms\tremaining: 4.01s\n",
      "60:\tlearn: 10.1573069\ttotal: 343ms\tremaining: 3.94s\n",
      "70:\tlearn: 10.0204694\ttotal: 399ms\tremaining: 3.88s\n",
      "80:\tlearn: 9.8938527\ttotal: 456ms\tremaining: 3.83s\n",
      "90:\tlearn: 9.7823832\ttotal: 514ms\tremaining: 3.79s\n",
      "100:\tlearn: 9.6712183\ttotal: 579ms\tremaining: 3.79s\n",
      "110:\tlearn: 9.5767332\ttotal: 632ms\tremaining: 3.71s\n",
      "120:\tlearn: 9.4795089\ttotal: 687ms\tremaining: 3.64s\n",
      "130:\tlearn: 9.3929502\ttotal: 742ms\tremaining: 3.57s\n",
      "140:\tlearn: 9.3271340\ttotal: 797ms\tremaining: 3.51s\n",
      "150:\tlearn: 9.2553326\ttotal: 852ms\tremaining: 3.44s\n",
      "160:\tlearn: 9.1929390\ttotal: 902ms\tremaining: 3.37s\n",
      "170:\tlearn: 9.1190406\ttotal: 955ms\tremaining: 3.3s\n",
      "180:\tlearn: 9.0591259\ttotal: 1.01s\tremaining: 3.25s\n",
      "190:\tlearn: 8.9991542\ttotal: 1.07s\tremaining: 3.19s\n",
      "200:\tlearn: 8.9480235\ttotal: 1.13s\tremaining: 3.14s\n",
      "210:\tlearn: 8.9013133\ttotal: 1.18s\tremaining: 3.08s\n",
      "220:\tlearn: 8.8533646\ttotal: 1.24s\tremaining: 3.03s\n",
      "230:\tlearn: 8.8118743\ttotal: 1.29s\tremaining: 2.97s\n",
      "240:\tlearn: 8.7795927\ttotal: 1.34s\tremaining: 2.9s\n",
      "250:\tlearn: 8.7363927\ttotal: 1.4s\tremaining: 2.84s\n",
      "260:\tlearn: 8.7073068\ttotal: 1.45s\tremaining: 2.79s\n",
      "270:\tlearn: 8.6711251\ttotal: 1.51s\tremaining: 2.74s\n",
      "280:\tlearn: 8.6357415\ttotal: 1.57s\tremaining: 2.69s\n",
      "290:\tlearn: 8.6019223\ttotal: 1.64s\tremaining: 2.65s\n",
      "300:\tlearn: 8.5670436\ttotal: 1.69s\tremaining: 2.59s\n",
      "310:\tlearn: 8.5297471\ttotal: 1.75s\tremaining: 2.54s\n",
      "320:\tlearn: 8.4948996\ttotal: 1.81s\tremaining: 2.49s\n",
      "330:\tlearn: 8.4664934\ttotal: 1.87s\tremaining: 2.43s\n",
      "340:\tlearn: 8.4319544\ttotal: 1.92s\tremaining: 2.38s\n",
      "350:\tlearn: 8.4013288\ttotal: 1.98s\tremaining: 2.32s\n",
      "360:\tlearn: 8.3697745\ttotal: 2.05s\tremaining: 2.27s\n",
      "370:\tlearn: 8.3427441\ttotal: 2.11s\tremaining: 2.23s\n",
      "380:\tlearn: 8.3166272\ttotal: 2.18s\tremaining: 2.18s\n",
      "390:\tlearn: 8.2953865\ttotal: 2.24s\tremaining: 2.13s\n",
      "400:\tlearn: 8.2698928\ttotal: 2.3s\tremaining: 2.07s\n",
      "410:\tlearn: 8.2404571\ttotal: 2.37s\tremaining: 2.02s\n",
      "420:\tlearn: 8.2160020\ttotal: 2.42s\tremaining: 1.96s\n",
      "430:\tlearn: 8.1919296\ttotal: 2.48s\tremaining: 1.9s\n",
      "440:\tlearn: 8.1699349\ttotal: 2.54s\tremaining: 1.85s\n",
      "450:\tlearn: 8.1413704\ttotal: 2.59s\tremaining: 1.79s\n",
      "460:\tlearn: 8.1240182\ttotal: 2.66s\tremaining: 1.73s\n",
      "470:\tlearn: 8.1051774\ttotal: 2.71s\tremaining: 1.68s\n",
      "480:\tlearn: 8.0867126\ttotal: 2.77s\tremaining: 1.62s\n",
      "490:\tlearn: 8.0631797\ttotal: 2.83s\tremaining: 1.56s\n",
      "500:\tlearn: 8.0456838\ttotal: 2.88s\tremaining: 1.5s\n",
      "510:\tlearn: 8.0265889\ttotal: 2.94s\tremaining: 1.44s\n",
      "520:\tlearn: 8.0052596\ttotal: 3s\tremaining: 1.39s\n",
      "530:\tlearn: 7.9891115\ttotal: 3.05s\tremaining: 1.33s\n",
      "540:\tlearn: 7.9721184\ttotal: 3.11s\tremaining: 1.27s\n",
      "550:\tlearn: 7.9557134\ttotal: 3.16s\tremaining: 1.21s\n",
      "560:\tlearn: 7.9373087\ttotal: 3.21s\tremaining: 1.15s\n",
      "570:\tlearn: 7.9214062\ttotal: 3.26s\tremaining: 1.09s\n",
      "580:\tlearn: 7.9037421\ttotal: 3.32s\tremaining: 1.03s\n",
      "590:\tlearn: 7.8878855\ttotal: 3.37s\tremaining: 976ms\n",
      "600:\tlearn: 7.8719400\ttotal: 3.45s\tremaining: 924ms\n",
      "610:\tlearn: 7.8565985\ttotal: 3.51s\tremaining: 867ms\n",
      "620:\tlearn: 7.8392308\ttotal: 3.56s\tremaining: 809ms\n",
      "630:\tlearn: 7.8217646\ttotal: 3.63s\tremaining: 754ms\n",
      "640:\tlearn: 7.8039491\ttotal: 3.69s\tremaining: 698ms\n",
      "650:\tlearn: 7.7875099\ttotal: 3.76s\tremaining: 642ms\n",
      "660:\tlearn: 7.7746801\ttotal: 3.83s\tremaining: 585ms\n",
      "670:\tlearn: 7.7587677\ttotal: 3.89s\tremaining: 528ms\n",
      "680:\tlearn: 7.7454562\ttotal: 3.95s\tremaining: 470ms\n",
      "690:\tlearn: 7.7318330\ttotal: 4.01s\tremaining: 412ms\n",
      "700:\tlearn: 7.7196231\ttotal: 4.07s\tremaining: 354ms\n",
      "710:\tlearn: 7.7056690\ttotal: 4.13s\tremaining: 296ms\n",
      "720:\tlearn: 7.6889059\ttotal: 4.18s\tremaining: 238ms\n",
      "730:\tlearn: 7.6752807\ttotal: 4.24s\tremaining: 180ms\n",
      "740:\tlearn: 7.6597224\ttotal: 4.3s\tremaining: 122ms\n",
      "750:\tlearn: 7.6469865\ttotal: 4.38s\tremaining: 64.1ms\n",
      "760:\tlearn: 7.6345388\ttotal: 4.44s\tremaining: 5.83ms\n",
      "761:\tlearn: 7.6323694\ttotal: 4.45s\tremaining: 0us\n",
      "0:\tlearn: 11.3324434\ttotal: 6.04ms\tremaining: 4.59s\n",
      "10:\tlearn: 11.1090821\ttotal: 80.9ms\tremaining: 5.53s\n",
      "20:\tlearn: 10.9009641\ttotal: 145ms\tremaining: 5.11s\n",
      "30:\tlearn: 10.7169867\ttotal: 209ms\tremaining: 4.94s\n",
      "40:\tlearn: 10.5481141\ttotal: 278ms\tremaining: 4.89s\n",
      "50:\tlearn: 10.4010124\ttotal: 336ms\tremaining: 4.68s\n",
      "60:\tlearn: 10.2556847\ttotal: 392ms\tremaining: 4.5s\n",
      "70:\tlearn: 10.1213500\ttotal: 450ms\tremaining: 4.38s\n",
      "80:\tlearn: 9.9946039\ttotal: 514ms\tremaining: 4.32s\n",
      "90:\tlearn: 9.8838280\ttotal: 588ms\tremaining: 4.33s\n",
      "100:\tlearn: 9.7853238\ttotal: 656ms\tremaining: 4.29s\n",
      "110:\tlearn: 9.6844153\ttotal: 722ms\tremaining: 4.23s\n",
      "120:\tlearn: 9.5920424\ttotal: 810ms\tremaining: 4.29s\n",
      "130:\tlearn: 9.5191792\ttotal: 884ms\tremaining: 4.26s\n",
      "140:\tlearn: 9.4464758\ttotal: 952ms\tremaining: 4.19s\n",
      "150:\tlearn: 9.3761549\ttotal: 1.01s\tremaining: 4.09s\n",
      "160:\tlearn: 9.2990630\ttotal: 1.07s\tremaining: 4s\n",
      "170:\tlearn: 9.2385913\ttotal: 1.14s\tremaining: 3.94s\n",
      "180:\tlearn: 9.1827517\ttotal: 1.2s\tremaining: 3.86s\n",
      "190:\tlearn: 9.1372612\ttotal: 1.27s\tremaining: 3.79s\n",
      "200:\tlearn: 9.0907453\ttotal: 1.32s\tremaining: 3.69s\n",
      "210:\tlearn: 9.0420733\ttotal: 1.39s\tremaining: 3.63s\n",
      "220:\tlearn: 8.9903267\ttotal: 1.45s\tremaining: 3.55s\n",
      "230:\tlearn: 8.9518808\ttotal: 1.51s\tremaining: 3.48s\n",
      "240:\tlearn: 8.9108046\ttotal: 1.58s\tremaining: 3.42s\n",
      "250:\tlearn: 8.8728163\ttotal: 1.67s\tremaining: 3.4s\n",
      "260:\tlearn: 8.8391405\ttotal: 1.75s\tremaining: 3.36s\n",
      "270:\tlearn: 8.8061898\ttotal: 1.82s\tremaining: 3.3s\n",
      "280:\tlearn: 8.7759312\ttotal: 1.89s\tremaining: 3.23s\n",
      "290:\tlearn: 8.7403119\ttotal: 1.95s\tremaining: 3.16s\n",
      "300:\tlearn: 8.7140828\ttotal: 2.01s\tremaining: 3.08s\n",
      "310:\tlearn: 8.6839134\ttotal: 2.07s\tremaining: 3s\n",
      "320:\tlearn: 8.6564746\ttotal: 2.13s\tremaining: 2.92s\n",
      "330:\tlearn: 8.6184088\ttotal: 2.2s\tremaining: 2.86s\n",
      "340:\tlearn: 8.5954462\ttotal: 2.26s\tremaining: 2.79s\n",
      "350:\tlearn: 8.5683743\ttotal: 2.32s\tremaining: 2.71s\n",
      "360:\tlearn: 8.5446319\ttotal: 2.39s\tremaining: 2.65s\n",
      "370:\tlearn: 8.5187394\ttotal: 2.46s\tremaining: 2.59s\n",
      "380:\tlearn: 8.4944146\ttotal: 2.52s\tremaining: 2.52s\n",
      "390:\tlearn: 8.4695916\ttotal: 2.58s\tremaining: 2.45s\n",
      "400:\tlearn: 8.4481431\ttotal: 2.65s\tremaining: 2.38s\n",
      "410:\tlearn: 8.4245768\ttotal: 2.71s\tremaining: 2.31s\n",
      "420:\tlearn: 8.4026222\ttotal: 2.77s\tremaining: 2.24s\n",
      "430:\tlearn: 8.3717036\ttotal: 2.83s\tremaining: 2.17s\n",
      "440:\tlearn: 8.3553537\ttotal: 2.88s\tremaining: 2.1s\n",
      "450:\tlearn: 8.3366319\ttotal: 2.94s\tremaining: 2.03s\n",
      "460:\tlearn: 8.3122547\ttotal: 3s\tremaining: 1.96s\n",
      "470:\tlearn: 8.2896021\ttotal: 3.07s\tremaining: 1.89s\n",
      "480:\tlearn: 8.2696835\ttotal: 3.15s\tremaining: 1.84s\n",
      "490:\tlearn: 8.2503902\ttotal: 3.22s\tremaining: 1.78s\n",
      "500:\tlearn: 8.2285588\ttotal: 3.28s\tremaining: 1.71s\n",
      "510:\tlearn: 8.2076980\ttotal: 3.34s\tremaining: 1.64s\n",
      "520:\tlearn: 8.1897319\ttotal: 3.41s\tremaining: 1.57s\n",
      "530:\tlearn: 8.1740690\ttotal: 3.46s\tremaining: 1.51s\n",
      "540:\tlearn: 8.1581146\ttotal: 3.52s\tremaining: 1.44s\n",
      "550:\tlearn: 8.1427295\ttotal: 3.58s\tremaining: 1.37s\n",
      "560:\tlearn: 8.1192483\ttotal: 3.64s\tremaining: 1.3s\n",
      "570:\tlearn: 8.1032776\ttotal: 3.7s\tremaining: 1.24s\n",
      "580:\tlearn: 8.0862428\ttotal: 3.76s\tremaining: 1.17s\n",
      "590:\tlearn: 8.0638423\ttotal: 3.81s\tremaining: 1.1s\n",
      "600:\tlearn: 8.0466370\ttotal: 3.88s\tremaining: 1.04s\n",
      "610:\tlearn: 8.0278974\ttotal: 3.94s\tremaining: 974ms\n",
      "620:\tlearn: 8.0102438\ttotal: 4s\tremaining: 908ms\n",
      "630:\tlearn: 7.9951747\ttotal: 4.05s\tremaining: 841ms\n",
      "640:\tlearn: 7.9815520\ttotal: 4.11s\tremaining: 777ms\n",
      "650:\tlearn: 7.9632628\ttotal: 4.17s\tremaining: 712ms\n",
      "660:\tlearn: 7.9514845\ttotal: 4.25s\tremaining: 649ms\n",
      "670:\tlearn: 7.9365333\ttotal: 4.3s\tremaining: 583ms\n",
      "680:\tlearn: 7.9210057\ttotal: 4.36s\tremaining: 518ms\n",
      "690:\tlearn: 7.9084431\ttotal: 4.42s\tremaining: 454ms\n",
      "700:\tlearn: 7.8952661\ttotal: 4.47s\tremaining: 389ms\n",
      "710:\tlearn: 7.8770277\ttotal: 4.53s\tremaining: 325ms\n",
      "720:\tlearn: 7.8603018\ttotal: 4.58s\tremaining: 261ms\n",
      "730:\tlearn: 7.8468537\ttotal: 4.64s\tremaining: 197ms\n",
      "740:\tlearn: 7.8331265\ttotal: 4.7s\tremaining: 133ms\n",
      "750:\tlearn: 7.8238853\ttotal: 4.75s\tremaining: 69.7ms\n",
      "760:\tlearn: 7.8095077\ttotal: 4.83s\tremaining: 6.34ms\n",
      "761:\tlearn: 7.8091621\ttotal: 4.83s\tremaining: 0us\n",
      "0:\tlearn: 11.0648928\ttotal: 6.54ms\tremaining: 4.98s\n",
      "10:\tlearn: 10.8603118\ttotal: 74ms\tremaining: 5.05s\n",
      "20:\tlearn: 10.6723857\ttotal: 129ms\tremaining: 4.55s\n",
      "30:\tlearn: 10.5036700\ttotal: 184ms\tremaining: 4.35s\n",
      "40:\tlearn: 10.3573513\ttotal: 240ms\tremaining: 4.22s\n",
      "50:\tlearn: 10.2068748\ttotal: 301ms\tremaining: 4.2s\n",
      "60:\tlearn: 10.0810645\ttotal: 372ms\tremaining: 4.27s\n",
      "70:\tlearn: 9.9539212\ttotal: 443ms\tremaining: 4.31s\n",
      "80:\tlearn: 9.8307055\ttotal: 502ms\tremaining: 4.22s\n",
      "90:\tlearn: 9.7285217\ttotal: 559ms\tremaining: 4.13s\n",
      "100:\tlearn: 9.6316852\ttotal: 625ms\tremaining: 4.09s\n",
      "110:\tlearn: 9.5397262\ttotal: 680ms\tremaining: 3.99s\n",
      "120:\tlearn: 9.4513953\ttotal: 736ms\tremaining: 3.9s\n",
      "130:\tlearn: 9.3749303\ttotal: 790ms\tremaining: 3.8s\n",
      "140:\tlearn: 9.3095671\ttotal: 846ms\tremaining: 3.73s\n",
      "150:\tlearn: 9.2507917\ttotal: 900ms\tremaining: 3.64s\n",
      "160:\tlearn: 9.1888827\ttotal: 954ms\tremaining: 3.56s\n",
      "170:\tlearn: 9.1415290\ttotal: 1.01s\tremaining: 3.48s\n",
      "180:\tlearn: 9.0916947\ttotal: 1.06s\tremaining: 3.4s\n",
      "190:\tlearn: 9.0321034\ttotal: 1.11s\tremaining: 3.34s\n",
      "200:\tlearn: 8.9861578\ttotal: 1.18s\tremaining: 3.29s\n",
      "210:\tlearn: 8.9479556\ttotal: 1.23s\tremaining: 3.22s\n",
      "220:\tlearn: 8.9145227\ttotal: 1.29s\tremaining: 3.17s\n",
      "230:\tlearn: 8.8772094\ttotal: 1.35s\tremaining: 3.11s\n",
      "240:\tlearn: 8.8447075\ttotal: 1.41s\tremaining: 3.04s\n",
      "250:\tlearn: 8.8136448\ttotal: 1.46s\tremaining: 2.98s\n",
      "260:\tlearn: 8.7817903\ttotal: 1.53s\tremaining: 2.94s\n",
      "270:\tlearn: 8.7467892\ttotal: 1.6s\tremaining: 2.89s\n",
      "280:\tlearn: 8.7163394\ttotal: 1.65s\tremaining: 2.83s\n",
      "290:\tlearn: 8.6844535\ttotal: 1.71s\tremaining: 2.77s\n",
      "300:\tlearn: 8.6548990\ttotal: 1.76s\tremaining: 2.69s\n",
      "310:\tlearn: 8.6197348\ttotal: 1.82s\tremaining: 2.64s\n",
      "320:\tlearn: 8.5920079\ttotal: 1.88s\tremaining: 2.58s\n",
      "330:\tlearn: 8.5688915\ttotal: 1.94s\tremaining: 2.52s\n",
      "340:\tlearn: 8.5452546\ttotal: 1.99s\tremaining: 2.46s\n",
      "350:\tlearn: 8.5110454\ttotal: 2.05s\tremaining: 2.4s\n",
      "360:\tlearn: 8.4879747\ttotal: 2.11s\tremaining: 2.35s\n",
      "370:\tlearn: 8.4589001\ttotal: 2.18s\tremaining: 2.3s\n",
      "380:\tlearn: 8.4292757\ttotal: 2.24s\tremaining: 2.24s\n",
      "390:\tlearn: 8.4078964\ttotal: 2.3s\tremaining: 2.18s\n",
      "400:\tlearn: 8.3882974\ttotal: 2.36s\tremaining: 2.12s\n",
      "410:\tlearn: 8.3716784\ttotal: 2.42s\tremaining: 2.06s\n",
      "420:\tlearn: 8.3465737\ttotal: 2.47s\tremaining: 2s\n",
      "430:\tlearn: 8.3282297\ttotal: 2.53s\tremaining: 1.94s\n",
      "440:\tlearn: 8.3116677\ttotal: 2.58s\tremaining: 1.88s\n",
      "450:\tlearn: 8.2842013\ttotal: 2.64s\tremaining: 1.82s\n",
      "460:\tlearn: 8.2577152\ttotal: 2.69s\tremaining: 1.76s\n",
      "470:\tlearn: 8.2369845\ttotal: 2.74s\tremaining: 1.69s\n",
      "480:\tlearn: 8.2186688\ttotal: 2.81s\tremaining: 1.64s\n",
      "490:\tlearn: 8.1994409\ttotal: 2.86s\tremaining: 1.58s\n",
      "500:\tlearn: 8.1754713\ttotal: 2.92s\tremaining: 1.52s\n",
      "510:\tlearn: 8.1579258\ttotal: 2.97s\tremaining: 1.46s\n",
      "520:\tlearn: 8.1403457\ttotal: 3.02s\tremaining: 1.4s\n",
      "530:\tlearn: 8.1230331\ttotal: 3.08s\tremaining: 1.34s\n",
      "540:\tlearn: 8.1037252\ttotal: 3.15s\tremaining: 1.29s\n",
      "550:\tlearn: 8.0860284\ttotal: 3.23s\tremaining: 1.24s\n",
      "560:\tlearn: 8.0730880\ttotal: 3.31s\tremaining: 1.19s\n",
      "570:\tlearn: 8.0555953\ttotal: 3.38s\tremaining: 1.13s\n",
      "580:\tlearn: 8.0382335\ttotal: 3.45s\tremaining: 1.07s\n",
      "590:\tlearn: 8.0218648\ttotal: 3.51s\tremaining: 1.01s\n",
      "600:\tlearn: 8.0036894\ttotal: 3.56s\tremaining: 954ms\n",
      "610:\tlearn: 7.9889449\ttotal: 3.62s\tremaining: 894ms\n",
      "620:\tlearn: 7.9721633\ttotal: 3.67s\tremaining: 833ms\n",
      "630:\tlearn: 7.9587839\ttotal: 3.73s\tremaining: 775ms\n",
      "640:\tlearn: 7.9419351\ttotal: 3.79s\tremaining: 716ms\n",
      "650:\tlearn: 7.9312835\ttotal: 3.87s\tremaining: 659ms\n",
      "660:\tlearn: 7.9155918\ttotal: 3.93s\tremaining: 601ms\n",
      "670:\tlearn: 7.8980026\ttotal: 3.99s\tremaining: 541ms\n",
      "680:\tlearn: 7.8863977\ttotal: 4.06s\tremaining: 483ms\n",
      "690:\tlearn: 7.8694095\ttotal: 4.13s\tremaining: 424ms\n",
      "700:\tlearn: 7.8546204\ttotal: 4.18s\tremaining: 364ms\n",
      "710:\tlearn: 7.8371414\ttotal: 4.24s\tremaining: 304ms\n",
      "720:\tlearn: 7.8251268\ttotal: 4.29s\tremaining: 244ms\n",
      "730:\tlearn: 7.8146620\ttotal: 4.34s\tremaining: 184ms\n",
      "740:\tlearn: 7.8001610\ttotal: 4.4s\tremaining: 125ms\n",
      "750:\tlearn: 7.7884097\ttotal: 4.46s\tremaining: 65.3ms\n",
      "760:\tlearn: 7.7755212\ttotal: 4.52s\tremaining: 5.94ms\n",
      "761:\tlearn: 7.7748118\ttotal: 4.53s\tremaining: 0us\n",
      "0:\tlearn: 11.0217442\ttotal: 9.31ms\tremaining: 7.09s\n",
      "10:\tlearn: 10.8217105\ttotal: 65.7ms\tremaining: 4.49s\n",
      "20:\tlearn: 10.6257098\ttotal: 128ms\tremaining: 4.51s\n",
      "30:\tlearn: 10.4536873\ttotal: 184ms\tremaining: 4.35s\n",
      "40:\tlearn: 10.2979329\ttotal: 238ms\tremaining: 4.18s\n",
      "50:\tlearn: 10.1582250\ttotal: 291ms\tremaining: 4.06s\n",
      "60:\tlearn: 10.0261829\ttotal: 344ms\tremaining: 3.95s\n",
      "70:\tlearn: 9.9018414\ttotal: 405ms\tremaining: 3.94s\n",
      "80:\tlearn: 9.7895705\ttotal: 468ms\tremaining: 3.93s\n",
      "90:\tlearn: 9.6834444\ttotal: 528ms\tremaining: 3.89s\n",
      "100:\tlearn: 9.5800958\ttotal: 589ms\tremaining: 3.85s\n",
      "110:\tlearn: 9.4867697\ttotal: 647ms\tremaining: 3.8s\n",
      "120:\tlearn: 9.3912068\ttotal: 714ms\tremaining: 3.78s\n",
      "130:\tlearn: 9.3097205\ttotal: 773ms\tremaining: 3.73s\n",
      "140:\tlearn: 9.2273119\ttotal: 828ms\tremaining: 3.65s\n",
      "150:\tlearn: 9.1525900\ttotal: 885ms\tremaining: 3.58s\n",
      "160:\tlearn: 9.0859547\ttotal: 941ms\tremaining: 3.51s\n",
      "170:\tlearn: 9.0218891\ttotal: 996ms\tremaining: 3.44s\n",
      "180:\tlearn: 8.9596750\ttotal: 1.05s\tremaining: 3.37s\n",
      "190:\tlearn: 8.9057059\ttotal: 1.11s\tremaining: 3.31s\n",
      "200:\tlearn: 8.8597550\ttotal: 1.17s\tremaining: 3.26s\n",
      "210:\tlearn: 8.8134628\ttotal: 1.22s\tremaining: 3.19s\n",
      "220:\tlearn: 8.7663620\ttotal: 1.28s\tremaining: 3.15s\n",
      "230:\tlearn: 8.7237391\ttotal: 1.35s\tremaining: 3.11s\n",
      "240:\tlearn: 8.6847843\ttotal: 1.41s\tremaining: 3.04s\n",
      "250:\tlearn: 8.6476090\ttotal: 1.47s\tremaining: 2.99s\n",
      "260:\tlearn: 8.6114896\ttotal: 1.53s\tremaining: 2.94s\n",
      "270:\tlearn: 8.5800933\ttotal: 1.59s\tremaining: 2.88s\n",
      "280:\tlearn: 8.5506717\ttotal: 1.64s\tremaining: 2.81s\n",
      "290:\tlearn: 8.5196453\ttotal: 1.69s\tremaining: 2.74s\n",
      "300:\tlearn: 8.4827876\ttotal: 1.76s\tremaining: 2.69s\n",
      "310:\tlearn: 8.4507198\ttotal: 1.82s\tremaining: 2.64s\n",
      "320:\tlearn: 8.4214804\ttotal: 1.89s\tremaining: 2.59s\n",
      "330:\tlearn: 8.3966341\ttotal: 1.94s\tremaining: 2.52s\n",
      "340:\tlearn: 8.3749821\ttotal: 2s\tremaining: 2.46s\n",
      "350:\tlearn: 8.3465681\ttotal: 2.05s\tremaining: 2.4s\n",
      "360:\tlearn: 8.3259602\ttotal: 2.11s\tremaining: 2.35s\n",
      "370:\tlearn: 8.3031521\ttotal: 2.16s\tremaining: 2.28s\n",
      "380:\tlearn: 8.2799309\ttotal: 2.21s\tremaining: 2.21s\n",
      "390:\tlearn: 8.2563334\ttotal: 2.27s\tremaining: 2.15s\n",
      "400:\tlearn: 8.2407966\ttotal: 2.31s\tremaining: 2.08s\n",
      "410:\tlearn: 8.2200033\ttotal: 2.36s\tremaining: 2.02s\n",
      "420:\tlearn: 8.1955431\ttotal: 2.42s\tremaining: 1.96s\n",
      "430:\tlearn: 8.1765479\ttotal: 2.47s\tremaining: 1.9s\n",
      "440:\tlearn: 8.1572259\ttotal: 2.53s\tremaining: 1.84s\n",
      "450:\tlearn: 8.1362088\ttotal: 2.59s\tremaining: 1.78s\n",
      "460:\tlearn: 8.1181579\ttotal: 2.64s\tremaining: 1.73s\n",
      "470:\tlearn: 8.1029515\ttotal: 2.7s\tremaining: 1.67s\n",
      "480:\tlearn: 8.0857224\ttotal: 2.76s\tremaining: 1.61s\n",
      "490:\tlearn: 8.0641292\ttotal: 2.83s\tremaining: 1.56s\n",
      "500:\tlearn: 8.0454996\ttotal: 2.89s\tremaining: 1.5s\n",
      "510:\tlearn: 8.0279173\ttotal: 2.95s\tremaining: 1.45s\n",
      "520:\tlearn: 8.0050396\ttotal: 3s\tremaining: 1.39s\n",
      "530:\tlearn: 7.9869154\ttotal: 3.06s\tremaining: 1.33s\n",
      "540:\tlearn: 7.9688728\ttotal: 3.13s\tremaining: 1.28s\n",
      "550:\tlearn: 7.9491976\ttotal: 3.18s\tremaining: 1.22s\n",
      "560:\tlearn: 7.9348679\ttotal: 3.24s\tremaining: 1.16s\n",
      "570:\tlearn: 7.9160558\ttotal: 3.29s\tremaining: 1.1s\n",
      "580:\tlearn: 7.8995981\ttotal: 3.35s\tremaining: 1.04s\n",
      "590:\tlearn: 7.8841076\ttotal: 3.41s\tremaining: 987ms\n",
      "600:\tlearn: 7.8671857\ttotal: 3.47s\tremaining: 929ms\n",
      "610:\tlearn: 7.8483712\ttotal: 3.53s\tremaining: 872ms\n",
      "620:\tlearn: 7.8372250\ttotal: 3.59s\tremaining: 815ms\n",
      "630:\tlearn: 7.8214883\ttotal: 3.66s\tremaining: 760ms\n",
      "640:\tlearn: 7.8068048\ttotal: 3.73s\tremaining: 704ms\n",
      "650:\tlearn: 7.7883769\ttotal: 3.8s\tremaining: 647ms\n",
      "660:\tlearn: 7.7722725\ttotal: 3.87s\tremaining: 592ms\n",
      "670:\tlearn: 7.7582544\ttotal: 3.94s\tremaining: 534ms\n",
      "680:\tlearn: 7.7475652\ttotal: 4s\tremaining: 476ms\n",
      "690:\tlearn: 7.7356478\ttotal: 4.07s\tremaining: 418ms\n",
      "700:\tlearn: 7.7236350\ttotal: 4.13s\tremaining: 360ms\n",
      "710:\tlearn: 7.7145069\ttotal: 4.18s\tremaining: 300ms\n",
      "720:\tlearn: 7.6977657\ttotal: 4.25s\tremaining: 242ms\n",
      "730:\tlearn: 7.6852932\ttotal: 4.33s\tremaining: 184ms\n",
      "740:\tlearn: 7.6753495\ttotal: 4.39s\tremaining: 124ms\n",
      "750:\tlearn: 7.6631911\ttotal: 4.47s\tremaining: 65.4ms\n",
      "760:\tlearn: 7.6489468\ttotal: 4.53s\tremaining: 5.96ms\n",
      "761:\tlearn: 7.6475206\ttotal: 4.54s\tremaining: 0us\n",
      "0:\tlearn: 11.1262993\ttotal: 32ms\tremaining: 2.53s\n",
      "10:\tlearn: 10.1203777\ttotal: 353ms\tremaining: 2.21s\n",
      "20:\tlearn: 9.3704919\ttotal: 674ms\tremaining: 1.89s\n",
      "30:\tlearn: 8.7865942\ttotal: 995ms\tremaining: 1.57s\n",
      "40:\tlearn: 8.3065198\ttotal: 1.34s\tremaining: 1.27s\n",
      "50:\tlearn: 7.9125014\ttotal: 1.66s\tremaining: 946ms\n",
      "60:\tlearn: 7.5753901\ttotal: 2s\tremaining: 623ms\n",
      "70:\tlearn: 7.2971543\ttotal: 2.39s\tremaining: 303ms\n",
      "79:\tlearn: 7.1032477\ttotal: 2.7s\tremaining: 0us\n",
      "0:\tlearn: 11.1389588\ttotal: 36.6ms\tremaining: 2.89s\n",
      "10:\tlearn: 10.1610217\ttotal: 376ms\tremaining: 2.36s\n",
      "20:\tlearn: 9.4225072\ttotal: 727ms\tremaining: 2.04s\n",
      "30:\tlearn: 8.8141990\ttotal: 1.05s\tremaining: 1.66s\n",
      "40:\tlearn: 8.3380219\ttotal: 1.4s\tremaining: 1.33s\n",
      "50:\tlearn: 8.0045340\ttotal: 1.73s\tremaining: 982ms\n",
      "60:\tlearn: 7.7134937\ttotal: 2.04s\tremaining: 637ms\n",
      "70:\tlearn: 7.4624171\ttotal: 2.38s\tremaining: 302ms\n",
      "79:\tlearn: 7.2479457\ttotal: 2.68s\tremaining: 0us\n",
      "0:\tlearn: 11.2550675\ttotal: 32.1ms\tremaining: 2.53s\n",
      "10:\tlearn: 10.2948658\ttotal: 383ms\tremaining: 2.4s\n",
      "20:\tlearn: 9.5274736\ttotal: 718ms\tremaining: 2.02s\n",
      "30:\tlearn: 8.9338982\ttotal: 1.05s\tremaining: 1.66s\n",
      "40:\tlearn: 8.4581185\ttotal: 1.37s\tremaining: 1.31s\n",
      "50:\tlearn: 8.0560063\ttotal: 1.7s\tremaining: 967ms\n",
      "60:\tlearn: 7.7313410\ttotal: 2.03s\tremaining: 631ms\n",
      "70:\tlearn: 7.4642079\ttotal: 2.35s\tremaining: 298ms\n",
      "79:\tlearn: 7.2842787\ttotal: 2.65s\tremaining: 0us\n",
      "0:\tlearn: 10.9704325\ttotal: 33.2ms\tremaining: 2.62s\n",
      "10:\tlearn: 10.0292987\ttotal: 368ms\tremaining: 2.31s\n",
      "20:\tlearn: 9.3194210\ttotal: 706ms\tremaining: 1.98s\n",
      "30:\tlearn: 8.7583524\ttotal: 1.03s\tremaining: 1.62s\n",
      "40:\tlearn: 8.3347802\ttotal: 1.36s\tremaining: 1.29s\n",
      "50:\tlearn: 8.0070168\ttotal: 1.7s\tremaining: 968ms\n",
      "60:\tlearn: 7.7033848\ttotal: 2.03s\tremaining: 632ms\n",
      "70:\tlearn: 7.4309861\ttotal: 2.37s\tremaining: 301ms\n",
      "79:\tlearn: 7.2634298\ttotal: 2.7s\tremaining: 0us\n",
      "0:\tlearn: 10.9432123\ttotal: 30.8ms\tremaining: 2.44s\n",
      "10:\tlearn: 10.0079676\ttotal: 355ms\tremaining: 2.22s\n",
      "20:\tlearn: 9.2745089\ttotal: 664ms\tremaining: 1.86s\n",
      "30:\tlearn: 8.7269427\ttotal: 973ms\tremaining: 1.54s\n",
      "40:\tlearn: 8.2626669\ttotal: 1.29s\tremaining: 1.23s\n",
      "50:\tlearn: 7.8700567\ttotal: 1.59s\tremaining: 906ms\n",
      "60:\tlearn: 7.5707110\ttotal: 1.91s\tremaining: 594ms\n",
      "70:\tlearn: 7.2791056\ttotal: 2.23s\tremaining: 282ms\n",
      "79:\tlearn: 7.0870471\ttotal: 2.5s\tremaining: 0us\n",
      "0:\tlearn: 10.6886060\ttotal: 5.89ms\tremaining: 489ms\n",
      "10:\tlearn: 8.5051620\ttotal: 48.4ms\tremaining: 321ms\n",
      "20:\tlearn: 8.0517916\ttotal: 84.1ms\tremaining: 252ms\n",
      "30:\tlearn: 7.6989484\ttotal: 128ms\tremaining: 219ms\n",
      "40:\tlearn: 7.3472651\ttotal: 159ms\tremaining: 166ms\n",
      "50:\tlearn: 7.1187567\ttotal: 205ms\tremaining: 132ms\n",
      "60:\tlearn: 6.7516193\ttotal: 241ms\tremaining: 90.9ms\n",
      "70:\tlearn: 6.4917691\ttotal: 279ms\tremaining: 51ms\n",
      "80:\tlearn: 6.2221269\ttotal: 316ms\tremaining: 11.7ms\n",
      "83:\tlearn: 6.1560258\ttotal: 327ms\tremaining: 0us\n",
      "0:\tlearn: 10.6322886\ttotal: 3.62ms\tremaining: 300ms\n",
      "10:\tlearn: 8.5648232\ttotal: 36.2ms\tremaining: 240ms\n",
      "20:\tlearn: 7.9489396\ttotal: 69.6ms\tremaining: 209ms\n",
      "30:\tlearn: 7.5861000\ttotal: 105ms\tremaining: 179ms\n",
      "40:\tlearn: 7.3068485\ttotal: 137ms\tremaining: 144ms\n",
      "50:\tlearn: 7.1306493\ttotal: 169ms\tremaining: 109ms\n",
      "60:\tlearn: 6.8188527\ttotal: 203ms\tremaining: 76.5ms\n",
      "70:\tlearn: 6.4975578\ttotal: 237ms\tremaining: 43.4ms\n",
      "80:\tlearn: 6.2266693\ttotal: 268ms\tremaining: 9.94ms\n",
      "83:\tlearn: 6.1542803\ttotal: 278ms\tremaining: 0us\n",
      "0:\tlearn: 10.7694849\ttotal: 4.29ms\tremaining: 356ms\n",
      "10:\tlearn: 8.7849267\ttotal: 37.6ms\tremaining: 249ms\n",
      "20:\tlearn: 8.1849669\ttotal: 71.2ms\tremaining: 214ms\n",
      "30:\tlearn: 7.8259351\ttotal: 106ms\tremaining: 181ms\n",
      "40:\tlearn: 7.4904439\ttotal: 138ms\tremaining: 144ms\n",
      "50:\tlearn: 7.2646652\ttotal: 170ms\tremaining: 110ms\n",
      "60:\tlearn: 6.9609924\ttotal: 206ms\tremaining: 77.9ms\n",
      "70:\tlearn: 6.7080564\ttotal: 239ms\tremaining: 43.8ms\n",
      "80:\tlearn: 6.5267587\ttotal: 279ms\tremaining: 10.3ms\n",
      "83:\tlearn: 6.4603487\ttotal: 290ms\tremaining: 0us\n",
      "0:\tlearn: 10.4443312\ttotal: 3.83ms\tremaining: 318ms\n",
      "10:\tlearn: 8.6517876\ttotal: 36.4ms\tremaining: 242ms\n",
      "20:\tlearn: 8.1617458\ttotal: 68ms\tremaining: 204ms\n",
      "30:\tlearn: 7.7800092\ttotal: 99ms\tremaining: 169ms\n",
      "40:\tlearn: 7.5187433\ttotal: 129ms\tremaining: 135ms\n",
      "50:\tlearn: 7.1081353\ttotal: 163ms\tremaining: 106ms\n",
      "60:\tlearn: 6.8599791\ttotal: 201ms\tremaining: 75.6ms\n",
      "70:\tlearn: 6.5590614\ttotal: 233ms\tremaining: 42.6ms\n",
      "80:\tlearn: 6.3617851\ttotal: 266ms\tremaining: 9.84ms\n",
      "83:\tlearn: 6.3297960\ttotal: 275ms\tremaining: 0us\n",
      "0:\tlearn: 10.4668400\ttotal: 3.52ms\tremaining: 292ms\n",
      "10:\tlearn: 8.5028658\ttotal: 35.2ms\tremaining: 234ms\n",
      "20:\tlearn: 8.0175063\ttotal: 63.9ms\tremaining: 192ms\n",
      "30:\tlearn: 7.6473000\ttotal: 95.1ms\tremaining: 163ms\n",
      "40:\tlearn: 7.2969378\ttotal: 131ms\tremaining: 137ms\n",
      "50:\tlearn: 7.0611401\ttotal: 163ms\tremaining: 105ms\n",
      "60:\tlearn: 6.8193587\ttotal: 194ms\tremaining: 73.2ms\n",
      "70:\tlearn: 6.6562500\ttotal: 227ms\tremaining: 41.5ms\n",
      "80:\tlearn: 6.4842210\ttotal: 261ms\tremaining: 9.67ms\n",
      "83:\tlearn: 6.4384217\ttotal: 271ms\tremaining: 0us\n",
      "0:\tlearn: 11.1307964\ttotal: 147ms\tremaining: 2m 22s\n",
      "10:\tlearn: 10.1691385\ttotal: 1.39s\tremaining: 2m\n",
      "20:\tlearn: 9.4419547\ttotal: 2.77s\tremaining: 2m 5s\n",
      "30:\tlearn: 8.8665054\ttotal: 4.12s\tremaining: 2m 4s\n",
      "40:\tlearn: 8.4004977\ttotal: 5.53s\tremaining: 2m 5s\n",
      "50:\tlearn: 8.0229101\ttotal: 6.95s\tremaining: 2m 5s\n",
      "60:\tlearn: 7.7032781\ttotal: 8.31s\tremaining: 2m 4s\n",
      "70:\tlearn: 7.4495876\ttotal: 9.72s\tremaining: 2m 3s\n",
      "80:\tlearn: 7.2102164\ttotal: 11s\tremaining: 2m\n",
      "90:\tlearn: 7.0363462\ttotal: 12.5s\tremaining: 2m\n",
      "100:\tlearn: 6.8808088\ttotal: 13.7s\tremaining: 1m 58s\n",
      "110:\tlearn: 6.7344787\ttotal: 15.1s\tremaining: 1m 57s\n",
      "120:\tlearn: 6.6019939\ttotal: 16.5s\tremaining: 1m 55s\n",
      "130:\tlearn: 6.4541315\ttotal: 17.9s\tremaining: 1m 54s\n",
      "140:\tlearn: 6.3179176\ttotal: 19.2s\tremaining: 1m 52s\n",
      "150:\tlearn: 6.2043547\ttotal: 20.6s\tremaining: 1m 51s\n",
      "160:\tlearn: 6.0891226\ttotal: 22.1s\tremaining: 1m 51s\n",
      "170:\tlearn: 5.9827396\ttotal: 23.5s\tremaining: 1m 50s\n",
      "180:\tlearn: 5.8946637\ttotal: 24.8s\tremaining: 1m 48s\n",
      "190:\tlearn: 5.8100616\ttotal: 26.2s\tremaining: 1m 47s\n",
      "200:\tlearn: 5.6862263\ttotal: 27.6s\tremaining: 1m 45s\n",
      "210:\tlearn: 5.5768945\ttotal: 29.1s\tremaining: 1m 44s\n",
      "220:\tlearn: 5.4718000\ttotal: 30.4s\tremaining: 1m 43s\n",
      "230:\tlearn: 5.3560935\ttotal: 31.9s\tremaining: 1m 42s\n",
      "240:\tlearn: 5.2553743\ttotal: 33.2s\tremaining: 1m 40s\n",
      "250:\tlearn: 5.1407899\ttotal: 34.5s\tremaining: 1m 38s\n",
      "260:\tlearn: 5.0576651\ttotal: 35.9s\tremaining: 1m 37s\n",
      "270:\tlearn: 4.9814444\ttotal: 37.2s\tremaining: 1m 36s\n",
      "280:\tlearn: 4.8681351\ttotal: 38.6s\tremaining: 1m 34s\n",
      "290:\tlearn: 4.7626838\ttotal: 39.9s\tremaining: 1m 33s\n",
      "300:\tlearn: 4.6568446\ttotal: 41.4s\tremaining: 1m 32s\n",
      "310:\tlearn: 4.5587820\ttotal: 43s\tremaining: 1m 31s\n",
      "320:\tlearn: 4.4616524\ttotal: 44.3s\tremaining: 1m 29s\n",
      "330:\tlearn: 4.3773167\ttotal: 45.8s\tremaining: 1m 28s\n",
      "340:\tlearn: 4.3257818\ttotal: 47.1s\tremaining: 1m 27s\n",
      "350:\tlearn: 4.2264831\ttotal: 48.5s\tremaining: 1m 25s\n",
      "360:\tlearn: 4.1308768\ttotal: 50s\tremaining: 1m 24s\n",
      "370:\tlearn: 4.0661704\ttotal: 51.4s\tremaining: 1m 23s\n",
      "380:\tlearn: 3.9826711\ttotal: 52.7s\tremaining: 1m 21s\n",
      "390:\tlearn: 3.9105734\ttotal: 54.3s\tremaining: 1m 20s\n",
      "400:\tlearn: 3.8357504\ttotal: 55.7s\tremaining: 1m 19s\n",
      "410:\tlearn: 3.7627080\ttotal: 57.1s\tremaining: 1m 17s\n",
      "420:\tlearn: 3.7006458\ttotal: 58.5s\tremaining: 1m 16s\n",
      "430:\tlearn: 3.6633364\ttotal: 59.9s\tremaining: 1m 15s\n",
      "440:\tlearn: 3.5887865\ttotal: 1m 1s\tremaining: 1m 13s\n",
      "450:\tlearn: 3.5204823\ttotal: 1m 2s\tremaining: 1m 12s\n",
      "460:\tlearn: 3.4496820\ttotal: 1m 4s\tremaining: 1m 11s\n",
      "470:\tlearn: 3.4029653\ttotal: 1m 5s\tremaining: 1m 9s\n",
      "480:\tlearn: 3.3457062\ttotal: 1m 7s\tremaining: 1m 8s\n",
      "490:\tlearn: 3.2985031\ttotal: 1m 8s\tremaining: 1m 6s\n",
      "500:\tlearn: 3.2487066\ttotal: 1m 9s\tremaining: 1m 5s\n",
      "510:\tlearn: 3.2083318\ttotal: 1m 11s\tremaining: 1m 3s\n",
      "520:\tlearn: 3.1671524\ttotal: 1m 12s\tremaining: 1m 2s\n",
      "530:\tlearn: 3.1112058\ttotal: 1m 14s\tremaining: 1m 1s\n",
      "540:\tlearn: 3.0643998\ttotal: 1m 15s\tremaining: 59.9s\n",
      "550:\tlearn: 3.0370368\ttotal: 1m 16s\tremaining: 58.4s\n",
      "560:\tlearn: 3.0116047\ttotal: 1m 18s\tremaining: 57s\n",
      "570:\tlearn: 2.9771763\ttotal: 1m 19s\tremaining: 55.7s\n",
      "580:\tlearn: 2.9549189\ttotal: 1m 20s\tremaining: 54.3s\n",
      "590:\tlearn: 2.9269465\ttotal: 1m 22s\tremaining: 52.9s\n",
      "600:\tlearn: 2.8874852\ttotal: 1m 23s\tremaining: 51.5s\n",
      "610:\tlearn: 2.8610085\ttotal: 1m 24s\tremaining: 50.1s\n",
      "620:\tlearn: 2.8462093\ttotal: 1m 26s\tremaining: 48.5s\n",
      "630:\tlearn: 2.8146679\ttotal: 1m 27s\tremaining: 47s\n",
      "640:\tlearn: 2.7822627\ttotal: 1m 28s\tremaining: 45.7s\n",
      "650:\tlearn: 2.7408258\ttotal: 1m 30s\tremaining: 44.3s\n",
      "660:\tlearn: 2.6949125\ttotal: 1m 31s\tremaining: 42.9s\n",
      "670:\tlearn: 2.6650449\ttotal: 1m 32s\tremaining: 41.5s\n",
      "680:\tlearn: 2.6295420\ttotal: 1m 34s\tremaining: 40.1s\n",
      "690:\tlearn: 2.5804908\ttotal: 1m 35s\tremaining: 38.7s\n",
      "700:\tlearn: 2.5444295\ttotal: 1m 36s\tremaining: 37.4s\n",
      "710:\tlearn: 2.4980158\ttotal: 1m 38s\tremaining: 36s\n",
      "720:\tlearn: 2.4517305\ttotal: 1m 39s\tremaining: 34.6s\n",
      "730:\tlearn: 2.4209616\ttotal: 1m 41s\tremaining: 33.2s\n",
      "740:\tlearn: 2.3778321\ttotal: 1m 42s\tremaining: 31.9s\n",
      "750:\tlearn: 2.3443346\ttotal: 1m 43s\tremaining: 30.5s\n",
      "760:\tlearn: 2.3033502\ttotal: 1m 45s\tremaining: 29.1s\n",
      "770:\tlearn: 2.2702522\ttotal: 1m 46s\tremaining: 27.7s\n",
      "780:\tlearn: 2.2410177\ttotal: 1m 47s\tremaining: 26.3s\n",
      "790:\tlearn: 2.2162998\ttotal: 1m 49s\tremaining: 24.8s\n",
      "800:\tlearn: 2.1897623\ttotal: 1m 50s\tremaining: 23.5s\n",
      "810:\tlearn: 2.1728613\ttotal: 1m 51s\tremaining: 22.1s\n",
      "820:\tlearn: 2.1351210\ttotal: 1m 53s\tremaining: 20.7s\n",
      "830:\tlearn: 2.1087959\ttotal: 1m 54s\tremaining: 19.3s\n",
      "840:\tlearn: 2.0767302\ttotal: 1m 56s\tremaining: 17.9s\n",
      "850:\tlearn: 2.0449632\ttotal: 1m 57s\tremaining: 16.5s\n",
      "860:\tlearn: 2.0264266\ttotal: 1m 58s\tremaining: 15.2s\n",
      "870:\tlearn: 2.0064223\ttotal: 2m\tremaining: 13.8s\n",
      "880:\tlearn: 1.9733786\ttotal: 2m 1s\tremaining: 12.4s\n",
      "890:\tlearn: 1.9379991\ttotal: 2m 3s\tremaining: 11.1s\n",
      "900:\tlearn: 1.9060458\ttotal: 2m 4s\tremaining: 9.68s\n",
      "910:\tlearn: 1.8810114\ttotal: 2m 5s\tremaining: 8.29s\n",
      "920:\tlearn: 1.8590973\ttotal: 2m 7s\tremaining: 6.91s\n",
      "930:\tlearn: 1.8343552\ttotal: 2m 8s\tremaining: 5.53s\n",
      "940:\tlearn: 1.8210874\ttotal: 2m 10s\tremaining: 4.15s\n",
      "950:\tlearn: 1.7988353\ttotal: 2m 11s\tremaining: 2.77s\n",
      "960:\tlearn: 1.7789074\ttotal: 2m 13s\tremaining: 1.39s\n",
      "970:\tlearn: 1.7478787\ttotal: 2m 14s\tremaining: 0us\n",
      "0:\tlearn: 11.1343378\ttotal: 170ms\tremaining: 2m 44s\n",
      "10:\tlearn: 10.1991676\ttotal: 1.68s\tremaining: 2m 26s\n",
      "20:\tlearn: 9.4810937\ttotal: 3.1s\tremaining: 2m 20s\n",
      "30:\tlearn: 8.9079779\ttotal: 4.54s\tremaining: 2m 17s\n",
      "40:\tlearn: 8.4211748\ttotal: 6.05s\tremaining: 2m 17s\n",
      "50:\tlearn: 8.0267103\ttotal: 7.49s\tremaining: 2m 15s\n",
      "60:\tlearn: 7.6882387\ttotal: 8.9s\tremaining: 2m 12s\n",
      "70:\tlearn: 7.4324951\ttotal: 10.3s\tremaining: 2m 10s\n",
      "80:\tlearn: 7.1948506\ttotal: 11.7s\tremaining: 2m 8s\n",
      "90:\tlearn: 7.0164824\ttotal: 13s\tremaining: 2m 5s\n",
      "100:\tlearn: 6.8578277\ttotal: 14.3s\tremaining: 2m 3s\n",
      "110:\tlearn: 6.7107680\ttotal: 15.6s\tremaining: 2m\n",
      "120:\tlearn: 6.6061705\ttotal: 17s\tremaining: 1m 59s\n",
      "130:\tlearn: 6.4968966\ttotal: 18.4s\tremaining: 1m 57s\n",
      "140:\tlearn: 6.4017609\ttotal: 19.5s\tremaining: 1m 54s\n",
      "150:\tlearn: 6.2896372\ttotal: 20.8s\tremaining: 1m 52s\n",
      "160:\tlearn: 6.1820718\ttotal: 22s\tremaining: 1m 50s\n",
      "170:\tlearn: 6.0814537\ttotal: 23.4s\tremaining: 1m 49s\n",
      "180:\tlearn: 5.9901498\ttotal: 24.8s\tremaining: 1m 48s\n",
      "190:\tlearn: 5.8820707\ttotal: 26.3s\tremaining: 1m 47s\n",
      "200:\tlearn: 5.7662569\ttotal: 27.7s\tremaining: 1m 46s\n",
      "210:\tlearn: 5.6388436\ttotal: 29.1s\tremaining: 1m 44s\n",
      "220:\tlearn: 5.5172323\ttotal: 30.4s\tremaining: 1m 43s\n",
      "230:\tlearn: 5.4219006\ttotal: 31.8s\tremaining: 1m 41s\n",
      "240:\tlearn: 5.2819694\ttotal: 33.2s\tremaining: 1m 40s\n",
      "250:\tlearn: 5.1733032\ttotal: 34.6s\tremaining: 1m 39s\n",
      "260:\tlearn: 5.0869097\ttotal: 36.1s\tremaining: 1m 38s\n",
      "270:\tlearn: 4.9643997\ttotal: 37.6s\tremaining: 1m 37s\n",
      "280:\tlearn: 4.8910269\ttotal: 39.1s\tremaining: 1m 35s\n",
      "290:\tlearn: 4.8031386\ttotal: 40.5s\tremaining: 1m 34s\n",
      "300:\tlearn: 4.7300528\ttotal: 41.9s\tremaining: 1m 33s\n",
      "310:\tlearn: 4.6450881\ttotal: 43.3s\tremaining: 1m 31s\n",
      "320:\tlearn: 4.5622158\ttotal: 44.9s\tremaining: 1m 30s\n",
      "330:\tlearn: 4.5057422\ttotal: 46.7s\tremaining: 1m 30s\n",
      "340:\tlearn: 4.4221432\ttotal: 48.1s\tremaining: 1m 28s\n",
      "350:\tlearn: 4.3346905\ttotal: 49.5s\tremaining: 1m 27s\n",
      "360:\tlearn: 4.2547851\ttotal: 50.9s\tremaining: 1m 25s\n",
      "370:\tlearn: 4.1907493\ttotal: 52.2s\tremaining: 1m 24s\n",
      "380:\tlearn: 4.1330509\ttotal: 53.6s\tremaining: 1m 23s\n",
      "390:\tlearn: 4.0633715\ttotal: 54.9s\tremaining: 1m 21s\n",
      "400:\tlearn: 3.9871916\ttotal: 56.6s\tremaining: 1m 20s\n",
      "410:\tlearn: 3.8945902\ttotal: 58s\tremaining: 1m 19s\n",
      "420:\tlearn: 3.8172817\ttotal: 59.5s\tremaining: 1m 17s\n",
      "430:\tlearn: 3.7667402\ttotal: 1m\tremaining: 1m 16s\n",
      "440:\tlearn: 3.7162104\ttotal: 1m 2s\tremaining: 1m 14s\n",
      "450:\tlearn: 3.6448540\ttotal: 1m 3s\tremaining: 1m 13s\n",
      "460:\tlearn: 3.5945100\ttotal: 1m 4s\tremaining: 1m 11s\n",
      "470:\tlearn: 3.5250517\ttotal: 1m 6s\tremaining: 1m 10s\n",
      "480:\tlearn: 3.4613421\ttotal: 1m 7s\tremaining: 1m 9s\n",
      "490:\tlearn: 3.4164392\ttotal: 1m 9s\tremaining: 1m 7s\n",
      "500:\tlearn: 3.3680678\ttotal: 1m 10s\tremaining: 1m 6s\n",
      "510:\tlearn: 3.3108555\ttotal: 1m 12s\tremaining: 1m 4s\n",
      "520:\tlearn: 3.2446884\ttotal: 1m 13s\tremaining: 1m 3s\n",
      "530:\tlearn: 3.1948375\ttotal: 1m 14s\tremaining: 1m 2s\n",
      "540:\tlearn: 3.1269048\ttotal: 1m 16s\tremaining: 1m\n",
      "550:\tlearn: 3.0746259\ttotal: 1m 17s\tremaining: 59.2s\n",
      "560:\tlearn: 3.0421081\ttotal: 1m 19s\tremaining: 57.8s\n",
      "570:\tlearn: 3.0018339\ttotal: 1m 20s\tremaining: 56.4s\n",
      "580:\tlearn: 2.9622140\ttotal: 1m 21s\tremaining: 54.9s\n",
      "590:\tlearn: 2.9073613\ttotal: 1m 23s\tremaining: 53.5s\n",
      "600:\tlearn: 2.8689150\ttotal: 1m 24s\tremaining: 52.1s\n",
      "610:\tlearn: 2.8215591\ttotal: 1m 26s\tremaining: 50.7s\n",
      "620:\tlearn: 2.7922834\ttotal: 1m 27s\tremaining: 49.3s\n",
      "630:\tlearn: 2.7468870\ttotal: 1m 28s\tremaining: 47.8s\n",
      "640:\tlearn: 2.6951912\ttotal: 1m 30s\tremaining: 46.4s\n",
      "650:\tlearn: 2.6674640\ttotal: 1m 31s\tremaining: 44.9s\n",
      "660:\tlearn: 2.6218685\ttotal: 1m 32s\tremaining: 43.5s\n",
      "670:\tlearn: 2.5854426\ttotal: 1m 34s\tremaining: 42.1s\n",
      "680:\tlearn: 2.5404966\ttotal: 1m 35s\tremaining: 40.7s\n",
      "690:\tlearn: 2.4972415\ttotal: 1m 36s\tremaining: 39.3s\n",
      "700:\tlearn: 2.4494579\ttotal: 1m 38s\tremaining: 37.9s\n",
      "710:\tlearn: 2.4186438\ttotal: 1m 39s\tremaining: 36.5s\n",
      "720:\tlearn: 2.3858035\ttotal: 1m 41s\tremaining: 35.1s\n",
      "730:\tlearn: 2.3501907\ttotal: 1m 42s\tremaining: 33.7s\n",
      "740:\tlearn: 2.3170117\ttotal: 1m 44s\tremaining: 32.3s\n",
      "750:\tlearn: 2.2902024\ttotal: 1m 45s\tremaining: 30.9s\n",
      "760:\tlearn: 2.2671820\ttotal: 1m 46s\tremaining: 29.5s\n",
      "770:\tlearn: 2.2446257\ttotal: 1m 47s\tremaining: 28s\n",
      "780:\tlearn: 2.2205086\ttotal: 1m 49s\tremaining: 26.6s\n",
      "790:\tlearn: 2.1888233\ttotal: 1m 50s\tremaining: 25.2s\n",
      "800:\tlearn: 2.1629190\ttotal: 1m 52s\tremaining: 23.8s\n",
      "810:\tlearn: 2.1436264\ttotal: 1m 53s\tremaining: 22.4s\n",
      "820:\tlearn: 2.1168778\ttotal: 1m 54s\tremaining: 20.9s\n",
      "830:\tlearn: 2.0898753\ttotal: 1m 55s\tremaining: 19.5s\n",
      "840:\tlearn: 2.0547869\ttotal: 1m 57s\tremaining: 18.1s\n",
      "850:\tlearn: 2.0284454\ttotal: 1m 58s\tremaining: 16.7s\n",
      "860:\tlearn: 2.0055383\ttotal: 1m 59s\tremaining: 15.3s\n",
      "870:\tlearn: 1.9755145\ttotal: 2m 1s\tremaining: 13.9s\n",
      "880:\tlearn: 1.9496275\ttotal: 2m 2s\tremaining: 12.5s\n",
      "890:\tlearn: 1.9128648\ttotal: 2m 3s\tremaining: 11.1s\n",
      "900:\tlearn: 1.8892577\ttotal: 2m 5s\tremaining: 9.73s\n",
      "910:\tlearn: 1.8612209\ttotal: 2m 6s\tremaining: 8.34s\n",
      "920:\tlearn: 1.8310283\ttotal: 2m 8s\tremaining: 6.95s\n",
      "930:\tlearn: 1.8092674\ttotal: 2m 9s\tremaining: 5.56s\n",
      "940:\tlearn: 1.7848013\ttotal: 2m 10s\tremaining: 4.17s\n",
      "950:\tlearn: 1.7633179\ttotal: 2m 12s\tremaining: 2.78s\n",
      "960:\tlearn: 1.7409754\ttotal: 2m 13s\tremaining: 1.39s\n",
      "970:\tlearn: 1.7084076\ttotal: 2m 14s\tremaining: 0us\n",
      "0:\tlearn: 11.2351941\ttotal: 149ms\tremaining: 2m 24s\n",
      "10:\tlearn: 10.2948376\ttotal: 1.5s\tremaining: 2m 11s\n",
      "20:\tlearn: 9.5664065\ttotal: 2.94s\tremaining: 2m 13s\n",
      "30:\tlearn: 8.9591860\ttotal: 4.48s\tremaining: 2m 15s\n",
      "40:\tlearn: 8.5038215\ttotal: 5.89s\tremaining: 2m 13s\n",
      "50:\tlearn: 8.1120984\ttotal: 7.42s\tremaining: 2m 13s\n",
      "60:\tlearn: 7.8346165\ttotal: 8.89s\tremaining: 2m 12s\n",
      "70:\tlearn: 7.5899824\ttotal: 10.4s\tremaining: 2m 12s\n",
      "80:\tlearn: 7.4052739\ttotal: 11.9s\tremaining: 2m 10s\n",
      "90:\tlearn: 7.2188184\ttotal: 13.3s\tremaining: 2m 8s\n",
      "100:\tlearn: 7.0636816\ttotal: 14.8s\tremaining: 2m 7s\n",
      "110:\tlearn: 6.9265046\ttotal: 16s\tremaining: 2m 3s\n",
      "120:\tlearn: 6.7732192\ttotal: 17.4s\tremaining: 2m 2s\n",
      "130:\tlearn: 6.6229863\ttotal: 18.6s\tremaining: 1m 59s\n",
      "140:\tlearn: 6.4979320\ttotal: 20.1s\tremaining: 1m 58s\n",
      "150:\tlearn: 6.3972310\ttotal: 21.5s\tremaining: 1m 56s\n",
      "160:\tlearn: 6.2975969\ttotal: 22.9s\tremaining: 1m 55s\n",
      "170:\tlearn: 6.1946331\ttotal: 24.3s\tremaining: 1m 53s\n",
      "180:\tlearn: 6.0946921\ttotal: 25.7s\tremaining: 1m 52s\n",
      "190:\tlearn: 5.9454423\ttotal: 27s\tremaining: 1m 50s\n",
      "200:\tlearn: 5.8556677\ttotal: 28.3s\tremaining: 1m 48s\n",
      "210:\tlearn: 5.7278153\ttotal: 29.9s\tremaining: 1m 47s\n",
      "220:\tlearn: 5.6411890\ttotal: 31.3s\tremaining: 1m 46s\n",
      "230:\tlearn: 5.5374278\ttotal: 32.8s\tremaining: 1m 45s\n",
      "240:\tlearn: 5.4419567\ttotal: 34.2s\tremaining: 1m 43s\n",
      "250:\tlearn: 5.3370984\ttotal: 35.7s\tremaining: 1m 42s\n",
      "260:\tlearn: 5.2475693\ttotal: 37.1s\tremaining: 1m 40s\n",
      "270:\tlearn: 5.1626155\ttotal: 38.6s\tremaining: 1m 39s\n",
      "280:\tlearn: 5.0391589\ttotal: 40.4s\tremaining: 1m 39s\n",
      "290:\tlearn: 4.9322840\ttotal: 41.9s\tremaining: 1m 37s\n",
      "300:\tlearn: 4.8507622\ttotal: 43.3s\tremaining: 1m 36s\n",
      "310:\tlearn: 4.7727827\ttotal: 44.7s\tremaining: 1m 34s\n",
      "320:\tlearn: 4.6963420\ttotal: 46.1s\tremaining: 1m 33s\n",
      "330:\tlearn: 4.5911467\ttotal: 47.6s\tremaining: 1m 31s\n",
      "340:\tlearn: 4.5064853\ttotal: 49s\tremaining: 1m 30s\n",
      "350:\tlearn: 4.3949884\ttotal: 50.5s\tremaining: 1m 29s\n",
      "360:\tlearn: 4.2986258\ttotal: 52s\tremaining: 1m 27s\n",
      "370:\tlearn: 4.2247415\ttotal: 53.4s\tremaining: 1m 26s\n",
      "380:\tlearn: 4.1616804\ttotal: 54.8s\tremaining: 1m 24s\n",
      "390:\tlearn: 4.1097068\ttotal: 56.3s\tremaining: 1m 23s\n",
      "400:\tlearn: 4.0397493\ttotal: 57.8s\tremaining: 1m 22s\n",
      "410:\tlearn: 3.9705367\ttotal: 59.3s\tremaining: 1m 20s\n",
      "420:\tlearn: 3.8898151\ttotal: 1m\tremaining: 1m 19s\n",
      "430:\tlearn: 3.8469685\ttotal: 1m 2s\tremaining: 1m 17s\n",
      "440:\tlearn: 3.8020736\ttotal: 1m 3s\tremaining: 1m 16s\n",
      "450:\tlearn: 3.7247685\ttotal: 1m 4s\tremaining: 1m 14s\n",
      "460:\tlearn: 3.6920422\ttotal: 1m 6s\tremaining: 1m 13s\n",
      "470:\tlearn: 3.6422064\ttotal: 1m 7s\tremaining: 1m 11s\n",
      "480:\tlearn: 3.5753359\ttotal: 1m 9s\tremaining: 1m 10s\n",
      "490:\tlearn: 3.5118008\ttotal: 1m 10s\tremaining: 1m 9s\n",
      "500:\tlearn: 3.4620691\ttotal: 1m 12s\tremaining: 1m 7s\n",
      "510:\tlearn: 3.4057666\ttotal: 1m 13s\tremaining: 1m 6s\n",
      "520:\tlearn: 3.3729890\ttotal: 1m 14s\tremaining: 1m 4s\n",
      "530:\tlearn: 3.3203991\ttotal: 1m 16s\tremaining: 1m 3s\n",
      "540:\tlearn: 3.2637597\ttotal: 1m 17s\tremaining: 1m 1s\n",
      "550:\tlearn: 3.2173408\ttotal: 1m 18s\tremaining: 60s\n",
      "560:\tlearn: 3.1647732\ttotal: 1m 20s\tremaining: 58.7s\n",
      "570:\tlearn: 3.1044249\ttotal: 1m 21s\tremaining: 57.3s\n",
      "580:\tlearn: 3.0728855\ttotal: 1m 22s\tremaining: 55.7s\n",
      "590:\tlearn: 3.0197733\ttotal: 1m 24s\tremaining: 54.2s\n",
      "600:\tlearn: 2.9940888\ttotal: 1m 25s\tremaining: 52.8s\n",
      "610:\tlearn: 2.9561845\ttotal: 1m 27s\tremaining: 51.4s\n",
      "620:\tlearn: 2.9235500\ttotal: 1m 28s\tremaining: 49.8s\n",
      "630:\tlearn: 2.8883276\ttotal: 1m 29s\tremaining: 48.4s\n",
      "640:\tlearn: 2.8634997\ttotal: 1m 31s\tremaining: 47s\n",
      "650:\tlearn: 2.8289564\ttotal: 1m 32s\tremaining: 45.4s\n",
      "660:\tlearn: 2.7961152\ttotal: 1m 33s\tremaining: 44s\n",
      "670:\tlearn: 2.7502511\ttotal: 1m 35s\tremaining: 42.6s\n",
      "680:\tlearn: 2.7229342\ttotal: 1m 36s\tremaining: 41.1s\n",
      "690:\tlearn: 2.6817619\ttotal: 1m 38s\tremaining: 39.7s\n",
      "700:\tlearn: 2.6652582\ttotal: 1m 39s\tremaining: 38.3s\n",
      "710:\tlearn: 2.6308026\ttotal: 1m 40s\tremaining: 36.9s\n",
      "720:\tlearn: 2.5954145\ttotal: 1m 42s\tremaining: 35.4s\n",
      "730:\tlearn: 2.5493643\ttotal: 1m 43s\tremaining: 34s\n",
      "740:\tlearn: 2.5176041\ttotal: 1m 44s\tremaining: 32.6s\n",
      "750:\tlearn: 2.4749314\ttotal: 1m 46s\tremaining: 31.1s\n",
      "760:\tlearn: 2.4361615\ttotal: 1m 47s\tremaining: 29.7s\n",
      "770:\tlearn: 2.4038195\ttotal: 1m 49s\tremaining: 28.3s\n",
      "780:\tlearn: 2.3619964\ttotal: 1m 50s\tremaining: 26.9s\n",
      "790:\tlearn: 2.3289206\ttotal: 1m 52s\tremaining: 25.5s\n",
      "800:\tlearn: 2.2810185\ttotal: 1m 53s\tremaining: 24.2s\n",
      "810:\tlearn: 2.2409417\ttotal: 1m 55s\tremaining: 22.7s\n",
      "820:\tlearn: 2.2197889\ttotal: 1m 56s\tremaining: 21.3s\n",
      "830:\tlearn: 2.2032530\ttotal: 1m 58s\tremaining: 19.9s\n",
      "840:\tlearn: 2.1784412\ttotal: 1m 59s\tremaining: 18.5s\n",
      "850:\tlearn: 2.1570999\ttotal: 2m\tremaining: 17s\n",
      "860:\tlearn: 2.1390007\ttotal: 2m 2s\tremaining: 15.6s\n",
      "870:\tlearn: 2.1134721\ttotal: 2m 3s\tremaining: 14.2s\n",
      "880:\tlearn: 2.0905532\ttotal: 2m 5s\tremaining: 12.8s\n",
      "890:\tlearn: 2.0688441\ttotal: 2m 6s\tremaining: 11.3s\n",
      "900:\tlearn: 2.0411245\ttotal: 2m 7s\tremaining: 9.93s\n",
      "910:\tlearn: 2.0089685\ttotal: 2m 9s\tremaining: 8.52s\n",
      "920:\tlearn: 1.9756781\ttotal: 2m 10s\tremaining: 7.1s\n",
      "930:\tlearn: 1.9512929\ttotal: 2m 12s\tremaining: 5.68s\n",
      "940:\tlearn: 1.9198034\ttotal: 2m 13s\tremaining: 4.26s\n",
      "950:\tlearn: 1.8860743\ttotal: 2m 15s\tremaining: 2.84s\n",
      "960:\tlearn: 1.8557991\ttotal: 2m 16s\tremaining: 1.42s\n",
      "970:\tlearn: 1.8237326\ttotal: 2m 17s\tremaining: 0us\n",
      "0:\tlearn: 10.9814597\ttotal: 194ms\tremaining: 3m 7s\n",
      "10:\tlearn: 10.0822043\ttotal: 1.76s\tremaining: 2m 33s\n",
      "20:\tlearn: 9.3699143\ttotal: 3.3s\tremaining: 2m 29s\n",
      "30:\tlearn: 8.8263028\ttotal: 4.74s\tremaining: 2m 23s\n",
      "40:\tlearn: 8.4008548\ttotal: 6.15s\tremaining: 2m 19s\n",
      "50:\tlearn: 8.0430926\ttotal: 7.61s\tremaining: 2m 17s\n",
      "60:\tlearn: 7.7610978\ttotal: 8.94s\tremaining: 2m 13s\n",
      "70:\tlearn: 7.5218726\ttotal: 10.5s\tremaining: 2m 13s\n",
      "80:\tlearn: 7.2904824\ttotal: 12s\tremaining: 2m 12s\n",
      "90:\tlearn: 7.1178526\ttotal: 13.5s\tremaining: 2m 10s\n",
      "100:\tlearn: 6.9592004\ttotal: 15s\tremaining: 2m 9s\n",
      "110:\tlearn: 6.8046519\ttotal: 16.5s\tremaining: 2m 8s\n",
      "120:\tlearn: 6.6849471\ttotal: 17.7s\tremaining: 2m 4s\n",
      "130:\tlearn: 6.5653964\ttotal: 19.1s\tremaining: 2m 2s\n",
      "140:\tlearn: 6.4602110\ttotal: 20.4s\tremaining: 1m 59s\n",
      "150:\tlearn: 6.3171447\ttotal: 22.1s\tremaining: 1m 59s\n",
      "160:\tlearn: 6.1985538\ttotal: 23.6s\tremaining: 1m 58s\n",
      "170:\tlearn: 6.1066435\ttotal: 25s\tremaining: 1m 56s\n",
      "180:\tlearn: 5.9988564\ttotal: 26.4s\tremaining: 1m 55s\n",
      "190:\tlearn: 5.8754677\ttotal: 27.9s\tremaining: 1m 53s\n",
      "200:\tlearn: 5.7664920\ttotal: 29.3s\tremaining: 1m 52s\n",
      "210:\tlearn: 5.6586143\ttotal: 30.8s\tremaining: 1m 50s\n",
      "220:\tlearn: 5.5447754\ttotal: 32.4s\tremaining: 1m 49s\n",
      "230:\tlearn: 5.4481897\ttotal: 33.9s\tremaining: 1m 48s\n",
      "240:\tlearn: 5.3428764\ttotal: 35.4s\tremaining: 1m 47s\n",
      "250:\tlearn: 5.2205512\ttotal: 37s\tremaining: 1m 46s\n",
      "260:\tlearn: 5.1273215\ttotal: 38.5s\tremaining: 1m 44s\n",
      "270:\tlearn: 5.0081192\ttotal: 40.1s\tremaining: 1m 43s\n",
      "280:\tlearn: 4.9008524\ttotal: 41.6s\tremaining: 1m 42s\n",
      "290:\tlearn: 4.8197921\ttotal: 43.2s\tremaining: 1m 41s\n",
      "300:\tlearn: 4.7391378\ttotal: 44.8s\tremaining: 1m 39s\n",
      "310:\tlearn: 4.6655515\ttotal: 46.2s\tremaining: 1m 38s\n",
      "320:\tlearn: 4.5760901\ttotal: 47.5s\tremaining: 1m 36s\n",
      "330:\tlearn: 4.4848357\ttotal: 49s\tremaining: 1m 34s\n",
      "340:\tlearn: 4.4362515\ttotal: 50.3s\tremaining: 1m 32s\n",
      "350:\tlearn: 4.3541153\ttotal: 51.7s\tremaining: 1m 31s\n",
      "360:\tlearn: 4.2829985\ttotal: 53.2s\tremaining: 1m 29s\n",
      "370:\tlearn: 4.2102262\ttotal: 54.7s\tremaining: 1m 28s\n",
      "380:\tlearn: 4.1332033\ttotal: 56.1s\tremaining: 1m 26s\n",
      "390:\tlearn: 4.0803279\ttotal: 57.5s\tremaining: 1m 25s\n",
      "400:\tlearn: 3.9996370\ttotal: 59s\tremaining: 1m 23s\n",
      "410:\tlearn: 3.9252088\ttotal: 1m\tremaining: 1m 22s\n",
      "420:\tlearn: 3.8472377\ttotal: 1m 2s\tremaining: 1m 21s\n",
      "430:\tlearn: 3.7627304\ttotal: 1m 3s\tremaining: 1m 19s\n",
      "440:\tlearn: 3.7098142\ttotal: 1m 4s\tremaining: 1m 18s\n",
      "450:\tlearn: 3.6479058\ttotal: 1m 6s\tremaining: 1m 16s\n",
      "460:\tlearn: 3.5689237\ttotal: 1m 7s\tremaining: 1m 14s\n",
      "470:\tlearn: 3.5062334\ttotal: 1m 9s\tremaining: 1m 13s\n",
      "480:\tlearn: 3.4616598\ttotal: 1m 10s\tremaining: 1m 12s\n",
      "490:\tlearn: 3.4167220\ttotal: 1m 12s\tremaining: 1m 10s\n",
      "500:\tlearn: 3.3488968\ttotal: 1m 14s\tremaining: 1m 9s\n",
      "510:\tlearn: 3.3037218\ttotal: 1m 15s\tremaining: 1m 8s\n",
      "520:\tlearn: 3.2376012\ttotal: 1m 17s\tremaining: 1m 6s\n",
      "530:\tlearn: 3.1911929\ttotal: 1m 18s\tremaining: 1m 5s\n",
      "540:\tlearn: 3.1386078\ttotal: 1m 20s\tremaining: 1m 3s\n",
      "550:\tlearn: 3.0977442\ttotal: 1m 21s\tremaining: 1m 2s\n",
      "560:\tlearn: 3.0443194\ttotal: 1m 22s\tremaining: 1m\n",
      "570:\tlearn: 3.0011937\ttotal: 1m 24s\tremaining: 59.1s\n",
      "580:\tlearn: 2.9368749\ttotal: 1m 25s\tremaining: 57.7s\n",
      "590:\tlearn: 2.8811683\ttotal: 1m 27s\tremaining: 56.2s\n",
      "600:\tlearn: 2.8386902\ttotal: 1m 28s\tremaining: 54.7s\n",
      "610:\tlearn: 2.8033392\ttotal: 1m 30s\tremaining: 53.3s\n",
      "620:\tlearn: 2.7625372\ttotal: 1m 31s\tremaining: 51.8s\n",
      "630:\tlearn: 2.7029239\ttotal: 1m 33s\tremaining: 50.4s\n",
      "640:\tlearn: 2.6599704\ttotal: 1m 34s\tremaining: 48.9s\n",
      "650:\tlearn: 2.6180356\ttotal: 1m 36s\tremaining: 47.3s\n",
      "660:\tlearn: 2.5887405\ttotal: 1m 37s\tremaining: 45.9s\n",
      "670:\tlearn: 2.5418294\ttotal: 1m 39s\tremaining: 44.4s\n",
      "680:\tlearn: 2.5014864\ttotal: 1m 40s\tremaining: 42.9s\n",
      "690:\tlearn: 2.4561660\ttotal: 1m 42s\tremaining: 41.4s\n",
      "700:\tlearn: 2.4242386\ttotal: 1m 43s\tremaining: 39.9s\n",
      "710:\tlearn: 2.3785088\ttotal: 1m 44s\tremaining: 38.4s\n",
      "720:\tlearn: 2.3389930\ttotal: 1m 46s\tremaining: 36.9s\n",
      "730:\tlearn: 2.2989055\ttotal: 1m 47s\tremaining: 35.4s\n",
      "740:\tlearn: 2.2673103\ttotal: 1m 49s\tremaining: 34s\n",
      "750:\tlearn: 2.2284955\ttotal: 1m 51s\tremaining: 32.5s\n",
      "760:\tlearn: 2.1901874\ttotal: 1m 52s\tremaining: 31.1s\n",
      "770:\tlearn: 2.1572277\ttotal: 1m 54s\tremaining: 29.6s\n",
      "780:\tlearn: 2.1281843\ttotal: 1m 55s\tremaining: 28.1s\n",
      "790:\tlearn: 2.1042080\ttotal: 1m 57s\tremaining: 26.6s\n",
      "800:\tlearn: 2.0758119\ttotal: 1m 58s\tremaining: 25.1s\n",
      "810:\tlearn: 2.0261457\ttotal: 1m 59s\tremaining: 23.6s\n",
      "820:\tlearn: 1.9984342\ttotal: 2m 1s\tremaining: 22.1s\n",
      "830:\tlearn: 1.9576273\ttotal: 2m 2s\tremaining: 20.7s\n",
      "840:\tlearn: 1.9228330\ttotal: 2m 4s\tremaining: 19.2s\n",
      "850:\tlearn: 1.8843716\ttotal: 2m 5s\tremaining: 17.7s\n",
      "860:\tlearn: 1.8518763\ttotal: 2m 6s\tremaining: 16.2s\n",
      "870:\tlearn: 1.8197396\ttotal: 2m 8s\tremaining: 14.7s\n",
      "880:\tlearn: 1.7888175\ttotal: 2m 9s\tremaining: 13.3s\n",
      "890:\tlearn: 1.7576310\ttotal: 2m 11s\tremaining: 11.8s\n",
      "900:\tlearn: 1.7352132\ttotal: 2m 12s\tremaining: 10.3s\n",
      "910:\tlearn: 1.7051615\ttotal: 2m 14s\tremaining: 8.83s\n",
      "920:\tlearn: 1.6721290\ttotal: 2m 15s\tremaining: 7.36s\n",
      "930:\tlearn: 1.6501929\ttotal: 2m 16s\tremaining: 5.88s\n",
      "940:\tlearn: 1.6188090\ttotal: 2m 18s\tremaining: 4.41s\n",
      "950:\tlearn: 1.5949539\ttotal: 2m 19s\tremaining: 2.94s\n",
      "960:\tlearn: 1.5721438\ttotal: 2m 21s\tremaining: 1.47s\n",
      "970:\tlearn: 1.5445679\ttotal: 2m 22s\tremaining: 0us\n",
      "0:\tlearn: 10.9451358\ttotal: 149ms\tremaining: 2m 24s\n",
      "10:\tlearn: 10.0852797\ttotal: 1.48s\tremaining: 2m 8s\n",
      "20:\tlearn: 9.4039072\ttotal: 2.96s\tremaining: 2m 14s\n",
      "30:\tlearn: 8.8315208\ttotal: 4.35s\tremaining: 2m 11s\n",
      "40:\tlearn: 8.3767906\ttotal: 5.77s\tremaining: 2m 10s\n",
      "50:\tlearn: 7.9849953\ttotal: 7.27s\tremaining: 2m 11s\n",
      "60:\tlearn: 7.6505355\ttotal: 8.67s\tremaining: 2m 9s\n",
      "70:\tlearn: 7.3674417\ttotal: 10s\tremaining: 2m 7s\n",
      "80:\tlearn: 7.1144878\ttotal: 11.5s\tremaining: 2m 5s\n",
      "90:\tlearn: 6.9240577\ttotal: 12.9s\tremaining: 2m 4s\n",
      "100:\tlearn: 6.7584766\ttotal: 14.2s\tremaining: 2m 2s\n",
      "110:\tlearn: 6.5944690\ttotal: 15.6s\tremaining: 2m\n",
      "120:\tlearn: 6.4654222\ttotal: 17s\tremaining: 1m 59s\n",
      "130:\tlearn: 6.3456009\ttotal: 18.3s\tremaining: 1m 57s\n",
      "140:\tlearn: 6.2407146\ttotal: 19.8s\tremaining: 1m 56s\n",
      "150:\tlearn: 6.1434792\ttotal: 21s\tremaining: 1m 54s\n",
      "160:\tlearn: 6.0226808\ttotal: 22.4s\tremaining: 1m 52s\n",
      "170:\tlearn: 5.9312004\ttotal: 23.8s\tremaining: 1m 51s\n",
      "180:\tlearn: 5.8326498\ttotal: 25.1s\tremaining: 1m 49s\n",
      "190:\tlearn: 5.7110931\ttotal: 26.5s\tremaining: 1m 48s\n",
      "200:\tlearn: 5.6166211\ttotal: 27.9s\tremaining: 1m 46s\n",
      "210:\tlearn: 5.4900296\ttotal: 29.2s\tremaining: 1m 45s\n",
      "220:\tlearn: 5.3823637\ttotal: 30.4s\tremaining: 1m 43s\n",
      "230:\tlearn: 5.2679603\ttotal: 31.8s\tremaining: 1m 42s\n",
      "240:\tlearn: 5.1817393\ttotal: 33.2s\tremaining: 1m 40s\n",
      "250:\tlearn: 5.0763470\ttotal: 34.5s\tremaining: 1m 38s\n",
      "260:\tlearn: 4.9552805\ttotal: 36s\tremaining: 1m 37s\n",
      "270:\tlearn: 4.8477010\ttotal: 37.4s\tremaining: 1m 36s\n",
      "280:\tlearn: 4.7684825\ttotal: 38.8s\tremaining: 1m 35s\n",
      "290:\tlearn: 4.7037222\ttotal: 40.2s\tremaining: 1m 33s\n",
      "300:\tlearn: 4.6104052\ttotal: 41.5s\tremaining: 1m 32s\n",
      "310:\tlearn: 4.5168514\ttotal: 42.9s\tremaining: 1m 31s\n",
      "320:\tlearn: 4.4453805\ttotal: 44.4s\tremaining: 1m 29s\n",
      "330:\tlearn: 4.3556082\ttotal: 45.9s\tremaining: 1m 28s\n",
      "340:\tlearn: 4.2620887\ttotal: 47.4s\tremaining: 1m 27s\n",
      "350:\tlearn: 4.1730061\ttotal: 48.9s\tremaining: 1m 26s\n",
      "360:\tlearn: 4.0800902\ttotal: 50.4s\tremaining: 1m 25s\n",
      "370:\tlearn: 4.0196984\ttotal: 51.7s\tremaining: 1m 23s\n",
      "380:\tlearn: 3.9475189\ttotal: 53s\tremaining: 1m 22s\n",
      "390:\tlearn: 3.8874126\ttotal: 54.8s\tremaining: 1m 21s\n",
      "400:\tlearn: 3.8043304\ttotal: 56.3s\tremaining: 1m 20s\n",
      "410:\tlearn: 3.7457806\ttotal: 57.8s\tremaining: 1m 18s\n",
      "420:\tlearn: 3.6898713\ttotal: 59.4s\tremaining: 1m 17s\n",
      "430:\tlearn: 3.6540370\ttotal: 1m 1s\tremaining: 1m 16s\n",
      "440:\tlearn: 3.5799631\ttotal: 1m 2s\tremaining: 1m 15s\n",
      "450:\tlearn: 3.5066330\ttotal: 1m 4s\tremaining: 1m 14s\n",
      "460:\tlearn: 3.4310154\ttotal: 1m 5s\tremaining: 1m 12s\n",
      "470:\tlearn: 3.3799468\ttotal: 1m 7s\tremaining: 1m 11s\n",
      "480:\tlearn: 3.3158487\ttotal: 1m 8s\tremaining: 1m 10s\n",
      "490:\tlearn: 3.2492514\ttotal: 1m 10s\tremaining: 1m 8s\n",
      "500:\tlearn: 3.2098659\ttotal: 1m 11s\tremaining: 1m 6s\n",
      "510:\tlearn: 3.1587518\ttotal: 1m 12s\tremaining: 1m 5s\n",
      "520:\tlearn: 3.1159104\ttotal: 1m 14s\tremaining: 1m 4s\n",
      "530:\tlearn: 3.0766399\ttotal: 1m 15s\tremaining: 1m 2s\n",
      "540:\tlearn: 3.0432961\ttotal: 1m 16s\tremaining: 1m 1s\n",
      "550:\tlearn: 3.0039352\ttotal: 1m 18s\tremaining: 59.7s\n",
      "560:\tlearn: 2.9618397\ttotal: 1m 19s\tremaining: 58.3s\n",
      "570:\tlearn: 2.9079216\ttotal: 1m 21s\tremaining: 56.8s\n",
      "580:\tlearn: 2.8562932\ttotal: 1m 22s\tremaining: 55.4s\n",
      "590:\tlearn: 2.8098646\ttotal: 1m 23s\tremaining: 53.9s\n",
      "600:\tlearn: 2.7582790\ttotal: 1m 25s\tremaining: 52.5s\n",
      "610:\tlearn: 2.7177871\ttotal: 1m 26s\tremaining: 51.1s\n",
      "620:\tlearn: 2.6787020\ttotal: 1m 28s\tremaining: 49.6s\n",
      "630:\tlearn: 2.6311834\ttotal: 1m 29s\tremaining: 48.2s\n",
      "640:\tlearn: 2.5956508\ttotal: 1m 30s\tremaining: 46.8s\n",
      "650:\tlearn: 2.5682066\ttotal: 1m 32s\tremaining: 45.5s\n",
      "660:\tlearn: 2.5313573\ttotal: 1m 34s\tremaining: 44.2s\n",
      "670:\tlearn: 2.4857700\ttotal: 1m 35s\tremaining: 42.8s\n",
      "680:\tlearn: 2.4359893\ttotal: 1m 37s\tremaining: 41.3s\n",
      "690:\tlearn: 2.3974488\ttotal: 1m 38s\tremaining: 39.9s\n",
      "700:\tlearn: 2.3635003\ttotal: 1m 39s\tremaining: 38.4s\n",
      "710:\tlearn: 2.3282324\ttotal: 1m 41s\tremaining: 37s\n",
      "720:\tlearn: 2.2978249\ttotal: 1m 42s\tremaining: 35.6s\n",
      "730:\tlearn: 2.2782646\ttotal: 1m 43s\tremaining: 34s\n",
      "740:\tlearn: 2.2472444\ttotal: 1m 45s\tremaining: 32.7s\n",
      "750:\tlearn: 2.2183410\ttotal: 1m 46s\tremaining: 31.2s\n",
      "760:\tlearn: 2.1884655\ttotal: 1m 47s\tremaining: 29.8s\n",
      "770:\tlearn: 2.1472787\ttotal: 1m 49s\tremaining: 28.4s\n",
      "780:\tlearn: 2.1130793\ttotal: 1m 50s\tremaining: 27s\n",
      "790:\tlearn: 2.0887321\ttotal: 1m 52s\tremaining: 25.6s\n",
      "800:\tlearn: 2.0619296\ttotal: 1m 53s\tremaining: 24.1s\n",
      "810:\tlearn: 2.0300705\ttotal: 1m 55s\tremaining: 22.7s\n",
      "820:\tlearn: 2.0114622\ttotal: 1m 56s\tremaining: 21.3s\n",
      "830:\tlearn: 1.9884151\ttotal: 1m 57s\tremaining: 19.9s\n",
      "840:\tlearn: 1.9560087\ttotal: 1m 59s\tremaining: 18.4s\n",
      "850:\tlearn: 1.9335626\ttotal: 2m\tremaining: 17.1s\n",
      "860:\tlearn: 1.9087517\ttotal: 2m 2s\tremaining: 15.7s\n",
      "870:\tlearn: 1.8816466\ttotal: 2m 3s\tremaining: 14.2s\n",
      "880:\tlearn: 1.8688627\ttotal: 2m 5s\tremaining: 12.8s\n",
      "890:\tlearn: 1.8420940\ttotal: 2m 6s\tremaining: 11.4s\n",
      "900:\tlearn: 1.8179234\ttotal: 2m 8s\tremaining: 9.95s\n",
      "910:\tlearn: 1.7961959\ttotal: 2m 9s\tremaining: 8.52s\n",
      "920:\tlearn: 1.7687233\ttotal: 2m 10s\tremaining: 7.1s\n",
      "930:\tlearn: 1.7501317\ttotal: 2m 12s\tremaining: 5.67s\n",
      "940:\tlearn: 1.7325955\ttotal: 2m 13s\tremaining: 4.25s\n",
      "950:\tlearn: 1.7104554\ttotal: 2m 14s\tremaining: 2.83s\n",
      "960:\tlearn: 1.6867104\ttotal: 2m 15s\tremaining: 1.42s\n",
      "970:\tlearn: 1.6669779\ttotal: 2m 17s\tremaining: 0us\n",
      "0:\tlearn: 11.2104047\ttotal: 10.3ms\tremaining: 921ms\n",
      "10:\tlearn: 10.9514209\ttotal: 116ms\tremaining: 831ms\n",
      "20:\tlearn: 10.7143831\ttotal: 219ms\tremaining: 721ms\n",
      "30:\tlearn: 10.4976798\ttotal: 325ms\tremaining: 619ms\n",
      "40:\tlearn: 10.2998568\ttotal: 430ms\tremaining: 514ms\n",
      "50:\tlearn: 10.1145493\ttotal: 533ms\tremaining: 408ms\n",
      "60:\tlearn: 9.9513262\ttotal: 644ms\tremaining: 306ms\n",
      "70:\tlearn: 9.8009278\ttotal: 753ms\tremaining: 202ms\n",
      "80:\tlearn: 9.6565478\ttotal: 872ms\tremaining: 96.8ms\n",
      "89:\tlearn: 9.5399048\ttotal: 965ms\tremaining: 0us\n",
      "0:\tlearn: 11.2203815\ttotal: 11.6ms\tremaining: 1.03s\n",
      "10:\tlearn: 10.9748378\ttotal: 117ms\tremaining: 837ms\n",
      "20:\tlearn: 10.7458238\ttotal: 228ms\tremaining: 748ms\n",
      "30:\tlearn: 10.5389227\ttotal: 336ms\tremaining: 639ms\n",
      "40:\tlearn: 10.3444453\ttotal: 453ms\tremaining: 542ms\n",
      "50:\tlearn: 10.1626252\ttotal: 577ms\tremaining: 441ms\n",
      "60:\tlearn: 9.9936280\ttotal: 688ms\tremaining: 327ms\n",
      "70:\tlearn: 9.8377988\ttotal: 802ms\tremaining: 215ms\n",
      "80:\tlearn: 9.6943205\ttotal: 917ms\tremaining: 102ms\n",
      "89:\tlearn: 9.5689734\ttotal: 1.03s\tremaining: 0us\n",
      "0:\tlearn: 11.3288143\ttotal: 10.4ms\tremaining: 925ms\n",
      "10:\tlearn: 11.0856676\ttotal: 129ms\tremaining: 923ms\n",
      "20:\tlearn: 10.8514054\ttotal: 258ms\tremaining: 848ms\n",
      "30:\tlearn: 10.6392468\ttotal: 386ms\tremaining: 734ms\n",
      "40:\tlearn: 10.4465346\ttotal: 497ms\tremaining: 594ms\n",
      "50:\tlearn: 10.2636779\ttotal: 614ms\tremaining: 470ms\n",
      "60:\tlearn: 10.0939454\ttotal: 730ms\tremaining: 347ms\n",
      "70:\tlearn: 9.9439417\ttotal: 843ms\tremaining: 226ms\n",
      "80:\tlearn: 9.8032109\ttotal: 977ms\tremaining: 109ms\n",
      "89:\tlearn: 9.6829034\ttotal: 1.1s\tremaining: 0us\n",
      "0:\tlearn: 11.0614527\ttotal: 11ms\tremaining: 983ms\n",
      "10:\tlearn: 10.8283820\ttotal: 121ms\tremaining: 868ms\n",
      "20:\tlearn: 10.6117819\ttotal: 255ms\tremaining: 839ms\n",
      "30:\tlearn: 10.4109710\ttotal: 397ms\tremaining: 756ms\n",
      "40:\tlearn: 10.2369728\ttotal: 515ms\tremaining: 615ms\n",
      "50:\tlearn: 10.0639272\ttotal: 651ms\tremaining: 498ms\n",
      "60:\tlearn: 9.9099393\ttotal: 766ms\tremaining: 364ms\n",
      "70:\tlearn: 9.7654868\ttotal: 879ms\tremaining: 235ms\n",
      "80:\tlearn: 9.6352198\ttotal: 1.01s\tremaining: 112ms\n",
      "89:\tlearn: 9.5285761\ttotal: 1.13s\tremaining: 0us\n",
      "0:\tlearn: 11.0199583\ttotal: 11.6ms\tremaining: 1.03s\n",
      "10:\tlearn: 10.7904693\ttotal: 118ms\tremaining: 848ms\n",
      "20:\tlearn: 10.5777452\ttotal: 222ms\tremaining: 730ms\n",
      "30:\tlearn: 10.3801593\ttotal: 328ms\tremaining: 624ms\n",
      "40:\tlearn: 10.2059543\ttotal: 441ms\tremaining: 527ms\n",
      "50:\tlearn: 10.0371372\ttotal: 568ms\tremaining: 435ms\n",
      "60:\tlearn: 9.8839587\ttotal: 674ms\tremaining: 320ms\n",
      "70:\tlearn: 9.7376473\ttotal: 775ms\tremaining: 207ms\n",
      "80:\tlearn: 9.6092442\ttotal: 874ms\tremaining: 97.1ms\n",
      "89:\tlearn: 9.4980434\ttotal: 962ms\tremaining: 0us\n",
      "0:\tlearn: 10.7336614\ttotal: 1.51ms\tremaining: 141ms\n",
      "10:\tlearn: 8.9662290\ttotal: 13.7ms\tremaining: 103ms\n",
      "20:\tlearn: 8.4668368\ttotal: 25.5ms\tremaining: 88.7ms\n",
      "30:\tlearn: 8.1863148\ttotal: 36.7ms\tremaining: 74.5ms\n",
      "40:\tlearn: 7.9404888\ttotal: 48.1ms\tremaining: 62.1ms\n",
      "50:\tlearn: 7.8073521\ttotal: 59.2ms\tremaining: 49.9ms\n",
      "60:\tlearn: 7.7112985\ttotal: 70.3ms\tremaining: 38ms\n",
      "70:\tlearn: 7.5839719\ttotal: 81.7ms\tremaining: 26.5ms\n",
      "80:\tlearn: 7.4716359\ttotal: 92.9ms\tremaining: 14.9ms\n",
      "90:\tlearn: 7.3605591\ttotal: 104ms\tremaining: 3.44ms\n",
      "93:\tlearn: 7.3408943\ttotal: 108ms\tremaining: 0us\n",
      "Best hyperparams:  {'n_estimators': 94, 'min_child_samples': 1, 'learning_rate': 0.3, 'l2_leaf_reg': 7, 'depth': 3}\n",
      "Best score: -6.616273178356025\n"
     ]
    }
   ],
   "source": [
    "model = cat(random_state=random_state,verbose=10)\n",
    "params = {'learning_rate': [0.01,0.02, 0.03,0.05,0.1,0.3],\n",
    "        'depth': range(1, 16),\n",
    "        'l2_leaf_reg': range(1,15),\n",
    "        'n_estimators' : range(1, 1000),\n",
    "         'min_child_samples':range(1,50)}\n",
    "\n",
    "r_cv = RandomizedSearchCV(estimator=model, param_distributions=params, cv=5, n_jobs=-1, scoring='neg_mean_absolute_error')\n",
    "r_cv.fit(features,target)\n",
    "print('Best hyperparams: ', r_cv.best_params_)\n",
    "print('Best score:',r_cv.best_score_)\n",
    "params_best =  r_cv.best_params_"
   ]
  },
  {
   "cell_type": "code",
   "execution_count": 54,
   "metadata": {
    "scrolled": false
   },
   "outputs": [
    {
     "name": "stdout",
     "output_type": "stream",
     "text": [
      "Fitting 5 folds for each of 10 candidates, totalling 50 fits\n",
      "[CV 1/5; 1/10] START max_depth=54, max_features=auto, min_samples_leaf=27, min_samples_split=13, n_estimators=968\n",
      "[CV 1/5; 1/10] END max_depth=54, max_features=auto, min_samples_leaf=27, min_samples_split=13, n_estimators=968; total time=   4.0s\n",
      "[CV 2/5; 1/10] START max_depth=54, max_features=auto, min_samples_leaf=27, min_samples_split=13, n_estimators=968\n",
      "[CV 2/5; 1/10] END max_depth=54, max_features=auto, min_samples_leaf=27, min_samples_split=13, n_estimators=968; total time=   3.9s\n",
      "[CV 3/5; 1/10] START max_depth=54, max_features=auto, min_samples_leaf=27, min_samples_split=13, n_estimators=968\n",
      "[CV 3/5; 1/10] END max_depth=54, max_features=auto, min_samples_leaf=27, min_samples_split=13, n_estimators=968; total time=   4.0s\n",
      "[CV 4/5; 1/10] START max_depth=54, max_features=auto, min_samples_leaf=27, min_samples_split=13, n_estimators=968\n",
      "[CV 4/5; 1/10] END max_depth=54, max_features=auto, min_samples_leaf=27, min_samples_split=13, n_estimators=968; total time=   4.1s\n",
      "[CV 5/5; 1/10] START max_depth=54, max_features=auto, min_samples_leaf=27, min_samples_split=13, n_estimators=968\n",
      "[CV 5/5; 1/10] END max_depth=54, max_features=auto, min_samples_leaf=27, min_samples_split=13, n_estimators=968; total time=   3.9s\n",
      "[CV 1/5; 2/10] START max_depth=80, max_features=auto, min_samples_leaf=12, min_samples_split=13, n_estimators=974\n",
      "[CV 1/5; 2/10] END max_depth=80, max_features=auto, min_samples_leaf=12, min_samples_split=13, n_estimators=974; total time=   5.1s\n",
      "[CV 2/5; 2/10] START max_depth=80, max_features=auto, min_samples_leaf=12, min_samples_split=13, n_estimators=974\n",
      "[CV 2/5; 2/10] END max_depth=80, max_features=auto, min_samples_leaf=12, min_samples_split=13, n_estimators=974; total time=   4.8s\n",
      "[CV 3/5; 2/10] START max_depth=80, max_features=auto, min_samples_leaf=12, min_samples_split=13, n_estimators=974\n",
      "[CV 3/5; 2/10] END max_depth=80, max_features=auto, min_samples_leaf=12, min_samples_split=13, n_estimators=974; total time=   4.9s\n",
      "[CV 4/5; 2/10] START max_depth=80, max_features=auto, min_samples_leaf=12, min_samples_split=13, n_estimators=974\n",
      "[CV 4/5; 2/10] END max_depth=80, max_features=auto, min_samples_leaf=12, min_samples_split=13, n_estimators=974; total time=   4.8s\n",
      "[CV 5/5; 2/10] START max_depth=80, max_features=auto, min_samples_leaf=12, min_samples_split=13, n_estimators=974\n",
      "[CV 5/5; 2/10] END max_depth=80, max_features=auto, min_samples_leaf=12, min_samples_split=13, n_estimators=974; total time=   4.9s\n",
      "[CV 1/5; 3/10] START max_depth=96, max_features=auto, min_samples_leaf=19, min_samples_split=25, n_estimators=159\n",
      "[CV 1/5; 3/10] END max_depth=96, max_features=auto, min_samples_leaf=19, min_samples_split=25, n_estimators=159; total time=   0.7s\n",
      "[CV 2/5; 3/10] START max_depth=96, max_features=auto, min_samples_leaf=19, min_samples_split=25, n_estimators=159\n",
      "[CV 2/5; 3/10] END max_depth=96, max_features=auto, min_samples_leaf=19, min_samples_split=25, n_estimators=159; total time=   0.7s\n",
      "[CV 3/5; 3/10] START max_depth=96, max_features=auto, min_samples_leaf=19, min_samples_split=25, n_estimators=159\n",
      "[CV 3/5; 3/10] END max_depth=96, max_features=auto, min_samples_leaf=19, min_samples_split=25, n_estimators=159; total time=   0.7s\n",
      "[CV 4/5; 3/10] START max_depth=96, max_features=auto, min_samples_leaf=19, min_samples_split=25, n_estimators=159\n",
      "[CV 4/5; 3/10] END max_depth=96, max_features=auto, min_samples_leaf=19, min_samples_split=25, n_estimators=159; total time=   0.7s\n",
      "[CV 5/5; 3/10] START max_depth=96, max_features=auto, min_samples_leaf=19, min_samples_split=25, n_estimators=159\n",
      "[CV 5/5; 3/10] END max_depth=96, max_features=auto, min_samples_leaf=19, min_samples_split=25, n_estimators=159; total time=   0.7s\n",
      "[CV 1/5; 4/10] START max_depth=8, max_features=None, min_samples_leaf=11, min_samples_split=18, n_estimators=489\n",
      "[CV 1/5; 4/10] END max_depth=8, max_features=None, min_samples_leaf=11, min_samples_split=18, n_estimators=489; total time=   2.3s\n",
      "[CV 2/5; 4/10] START max_depth=8, max_features=None, min_samples_leaf=11, min_samples_split=18, n_estimators=489\n",
      "[CV 2/5; 4/10] END max_depth=8, max_features=None, min_samples_leaf=11, min_samples_split=18, n_estimators=489; total time=   2.4s\n",
      "[CV 3/5; 4/10] START max_depth=8, max_features=None, min_samples_leaf=11, min_samples_split=18, n_estimators=489\n",
      "[CV 3/5; 4/10] END max_depth=8, max_features=None, min_samples_leaf=11, min_samples_split=18, n_estimators=489; total time=   2.3s\n",
      "[CV 4/5; 4/10] START max_depth=8, max_features=None, min_samples_leaf=11, min_samples_split=18, n_estimators=489\n",
      "[CV 4/5; 4/10] END max_depth=8, max_features=None, min_samples_leaf=11, min_samples_split=18, n_estimators=489; total time=   2.4s\n",
      "[CV 5/5; 4/10] START max_depth=8, max_features=None, min_samples_leaf=11, min_samples_split=18, n_estimators=489\n",
      "[CV 5/5; 4/10] END max_depth=8, max_features=None, min_samples_leaf=11, min_samples_split=18, n_estimators=489; total time=   2.3s\n",
      "[CV 1/5; 5/10] START max_depth=134, max_features=log2, min_samples_leaf=27, min_samples_split=17, n_estimators=89\n",
      "[CV 1/5; 5/10] END max_depth=134, max_features=log2, min_samples_leaf=27, min_samples_split=17, n_estimators=89; total time=   0.1s\n",
      "[CV 2/5; 5/10] START max_depth=134, max_features=log2, min_samples_leaf=27, min_samples_split=17, n_estimators=89\n",
      "[CV 2/5; 5/10] END max_depth=134, max_features=log2, min_samples_leaf=27, min_samples_split=17, n_estimators=89; total time=   0.1s\n",
      "[CV 3/5; 5/10] START max_depth=134, max_features=log2, min_samples_leaf=27, min_samples_split=17, n_estimators=89\n",
      "[CV 3/5; 5/10] END max_depth=134, max_features=log2, min_samples_leaf=27, min_samples_split=17, n_estimators=89; total time=   0.1s\n",
      "[CV 4/5; 5/10] START max_depth=134, max_features=log2, min_samples_leaf=27, min_samples_split=17, n_estimators=89\n",
      "[CV 4/5; 5/10] END max_depth=134, max_features=log2, min_samples_leaf=27, min_samples_split=17, n_estimators=89; total time=   0.1s\n",
      "[CV 5/5; 5/10] START max_depth=134, max_features=log2, min_samples_leaf=27, min_samples_split=17, n_estimators=89\n",
      "[CV 5/5; 5/10] END max_depth=134, max_features=log2, min_samples_leaf=27, min_samples_split=17, n_estimators=89; total time=   0.1s\n",
      "[CV 1/5; 6/10] START max_depth=88, max_features=auto, min_samples_leaf=12, min_samples_split=19, n_estimators=110\n",
      "[CV 1/5; 6/10] END max_depth=88, max_features=auto, min_samples_leaf=12, min_samples_split=19, n_estimators=110; total time=   0.6s\n",
      "[CV 2/5; 6/10] START max_depth=88, max_features=auto, min_samples_leaf=12, min_samples_split=19, n_estimators=110\n",
      "[CV 2/5; 6/10] END max_depth=88, max_features=auto, min_samples_leaf=12, min_samples_split=19, n_estimators=110; total time=   0.6s\n",
      "[CV 3/5; 6/10] START max_depth=88, max_features=auto, min_samples_leaf=12, min_samples_split=19, n_estimators=110\n",
      "[CV 3/5; 6/10] END max_depth=88, max_features=auto, min_samples_leaf=12, min_samples_split=19, n_estimators=110; total time=   0.6s\n",
      "[CV 4/5; 6/10] START max_depth=88, max_features=auto, min_samples_leaf=12, min_samples_split=19, n_estimators=110\n",
      "[CV 4/5; 6/10] END max_depth=88, max_features=auto, min_samples_leaf=12, min_samples_split=19, n_estimators=110; total time=   0.6s\n",
      "[CV 5/5; 6/10] START max_depth=88, max_features=auto, min_samples_leaf=12, min_samples_split=19, n_estimators=110\n",
      "[CV 5/5; 6/10] END max_depth=88, max_features=auto, min_samples_leaf=12, min_samples_split=19, n_estimators=110; total time=   0.6s\n",
      "[CV 1/5; 7/10] START max_depth=44, max_features=log2, min_samples_leaf=26, min_samples_split=21, n_estimators=541\n",
      "[CV 1/5; 7/10] END max_depth=44, max_features=log2, min_samples_leaf=26, min_samples_split=21, n_estimators=541; total time=   0.8s\n",
      "[CV 2/5; 7/10] START max_depth=44, max_features=log2, min_samples_leaf=26, min_samples_split=21, n_estimators=541\n",
      "[CV 2/5; 7/10] END max_depth=44, max_features=log2, min_samples_leaf=26, min_samples_split=21, n_estimators=541; total time=   0.8s\n",
      "[CV 3/5; 7/10] START max_depth=44, max_features=log2, min_samples_leaf=26, min_samples_split=21, n_estimators=541\n",
      "[CV 3/5; 7/10] END max_depth=44, max_features=log2, min_samples_leaf=26, min_samples_split=21, n_estimators=541; total time=   0.9s\n",
      "[CV 4/5; 7/10] START max_depth=44, max_features=log2, min_samples_leaf=26, min_samples_split=21, n_estimators=541\n",
      "[CV 4/5; 7/10] END max_depth=44, max_features=log2, min_samples_leaf=26, min_samples_split=21, n_estimators=541; total time=   0.9s\n",
      "[CV 5/5; 7/10] START max_depth=44, max_features=log2, min_samples_leaf=26, min_samples_split=21, n_estimators=541\n",
      "[CV 5/5; 7/10] END max_depth=44, max_features=log2, min_samples_leaf=26, min_samples_split=21, n_estimators=541; total time=   0.8s\n",
      "[CV 1/5; 8/10] START max_depth=32, max_features=None, min_samples_leaf=10, min_samples_split=28, n_estimators=710\n",
      "[CV 1/5; 8/10] END max_depth=32, max_features=None, min_samples_leaf=10, min_samples_split=28, n_estimators=710; total time=   3.5s\n",
      "[CV 2/5; 8/10] START max_depth=32, max_features=None, min_samples_leaf=10, min_samples_split=28, n_estimators=710\n",
      "[CV 2/5; 8/10] END max_depth=32, max_features=None, min_samples_leaf=10, min_samples_split=28, n_estimators=710; total time=   3.6s\n",
      "[CV 3/5; 8/10] START max_depth=32, max_features=None, min_samples_leaf=10, min_samples_split=28, n_estimators=710\n",
      "[CV 3/5; 8/10] END max_depth=32, max_features=None, min_samples_leaf=10, min_samples_split=28, n_estimators=710; total time=   3.7s\n",
      "[CV 4/5; 8/10] START max_depth=32, max_features=None, min_samples_leaf=10, min_samples_split=28, n_estimators=710\n",
      "[CV 4/5; 8/10] END max_depth=32, max_features=None, min_samples_leaf=10, min_samples_split=28, n_estimators=710; total time=   3.6s\n",
      "[CV 5/5; 8/10] START max_depth=32, max_features=None, min_samples_leaf=10, min_samples_split=28, n_estimators=710\n",
      "[CV 5/5; 8/10] END max_depth=32, max_features=None, min_samples_leaf=10, min_samples_split=28, n_estimators=710; total time=   3.8s\n",
      "[CV 1/5; 9/10] START max_depth=102, max_features=sqrt, min_samples_leaf=24, min_samples_split=1, n_estimators=954\n"
     ]
    },
    {
     "name": "stderr",
     "output_type": "stream",
     "text": [
      "/opt/conda/lib/python3.9/site-packages/sklearn/model_selection/_validation.py:610: FitFailedWarning: Estimator fit failed. The score on this train-test partition for these parameters will be set to nan. Details: \n",
      "Traceback (most recent call last):\n",
      "  File \"/opt/conda/lib/python3.9/site-packages/sklearn/model_selection/_validation.py\", line 593, in _fit_and_score\n",
      "    estimator.fit(X_train, y_train, **fit_params)\n",
      "  File \"/opt/conda/lib/python3.9/site-packages/sklearn/ensemble/_forest.py\", line 387, in fit\n",
      "    trees = Parallel(n_jobs=self.n_jobs, verbose=self.verbose,\n",
      "  File \"/opt/conda/lib/python3.9/site-packages/joblib/parallel.py\", line 1043, in __call__\n",
      "    if self.dispatch_one_batch(iterator):\n",
      "  File \"/opt/conda/lib/python3.9/site-packages/joblib/parallel.py\", line 861, in dispatch_one_batch\n",
      "    self._dispatch(tasks)\n",
      "  File \"/opt/conda/lib/python3.9/site-packages/joblib/parallel.py\", line 779, in _dispatch\n",
      "    job = self._backend.apply_async(batch, callback=cb)\n",
      "  File \"/opt/conda/lib/python3.9/site-packages/joblib/_parallel_backends.py\", line 208, in apply_async\n",
      "    result = ImmediateResult(func)\n",
      "  File \"/opt/conda/lib/python3.9/site-packages/joblib/_parallel_backends.py\", line 572, in __init__\n",
      "    self.results = batch()\n",
      "  File \"/opt/conda/lib/python3.9/site-packages/joblib/parallel.py\", line 262, in __call__\n",
      "    return [func(*args, **kwargs)\n",
      "  File \"/opt/conda/lib/python3.9/site-packages/joblib/parallel.py\", line 262, in <listcomp>\n",
      "    return [func(*args, **kwargs)\n",
      "  File \"/opt/conda/lib/python3.9/site-packages/sklearn/utils/fixes.py\", line 222, in __call__\n",
      "    return self.function(*args, **kwargs)\n",
      "  File \"/opt/conda/lib/python3.9/site-packages/sklearn/ensemble/_forest.py\", line 169, in _parallel_build_trees\n",
      "    tree.fit(X, y, sample_weight=curr_sample_weight, check_input=False)\n",
      "  File \"/opt/conda/lib/python3.9/site-packages/sklearn/tree/_classes.py\", line 1247, in fit\n",
      "    super().fit(\n",
      "  File \"/opt/conda/lib/python3.9/site-packages/sklearn/tree/_classes.py\", line 237, in fit\n",
      "    raise ValueError(\"min_samples_split must be an integer \"\n",
      "ValueError: min_samples_split must be an integer greater than 1 or a float in (0.0, 1.0]; got the integer 1\n",
      "\n",
      "  warnings.warn(\"Estimator fit failed. The score on this train-test\"\n"
     ]
    },
    {
     "name": "stdout",
     "output_type": "stream",
     "text": [
      "[CV 1/5; 9/10] END max_depth=102, max_features=sqrt, min_samples_leaf=24, min_samples_split=1, n_estimators=954; total time=   0.3s\n",
      "[CV 2/5; 9/10] START max_depth=102, max_features=sqrt, min_samples_leaf=24, min_samples_split=1, n_estimators=954\n"
     ]
    },
    {
     "name": "stderr",
     "output_type": "stream",
     "text": [
      "/opt/conda/lib/python3.9/site-packages/sklearn/model_selection/_validation.py:610: FitFailedWarning: Estimator fit failed. The score on this train-test partition for these parameters will be set to nan. Details: \n",
      "Traceback (most recent call last):\n",
      "  File \"/opt/conda/lib/python3.9/site-packages/sklearn/model_selection/_validation.py\", line 593, in _fit_and_score\n",
      "    estimator.fit(X_train, y_train, **fit_params)\n",
      "  File \"/opt/conda/lib/python3.9/site-packages/sklearn/ensemble/_forest.py\", line 387, in fit\n",
      "    trees = Parallel(n_jobs=self.n_jobs, verbose=self.verbose,\n",
      "  File \"/opt/conda/lib/python3.9/site-packages/joblib/parallel.py\", line 1043, in __call__\n",
      "    if self.dispatch_one_batch(iterator):\n",
      "  File \"/opt/conda/lib/python3.9/site-packages/joblib/parallel.py\", line 861, in dispatch_one_batch\n",
      "    self._dispatch(tasks)\n",
      "  File \"/opt/conda/lib/python3.9/site-packages/joblib/parallel.py\", line 779, in _dispatch\n",
      "    job = self._backend.apply_async(batch, callback=cb)\n",
      "  File \"/opt/conda/lib/python3.9/site-packages/joblib/_parallel_backends.py\", line 208, in apply_async\n",
      "    result = ImmediateResult(func)\n",
      "  File \"/opt/conda/lib/python3.9/site-packages/joblib/_parallel_backends.py\", line 572, in __init__\n",
      "    self.results = batch()\n",
      "  File \"/opt/conda/lib/python3.9/site-packages/joblib/parallel.py\", line 262, in __call__\n",
      "    return [func(*args, **kwargs)\n",
      "  File \"/opt/conda/lib/python3.9/site-packages/joblib/parallel.py\", line 262, in <listcomp>\n",
      "    return [func(*args, **kwargs)\n",
      "  File \"/opt/conda/lib/python3.9/site-packages/sklearn/utils/fixes.py\", line 222, in __call__\n",
      "    return self.function(*args, **kwargs)\n",
      "  File \"/opt/conda/lib/python3.9/site-packages/sklearn/ensemble/_forest.py\", line 169, in _parallel_build_trees\n",
      "    tree.fit(X, y, sample_weight=curr_sample_weight, check_input=False)\n",
      "  File \"/opt/conda/lib/python3.9/site-packages/sklearn/tree/_classes.py\", line 1247, in fit\n",
      "    super().fit(\n",
      "  File \"/opt/conda/lib/python3.9/site-packages/sklearn/tree/_classes.py\", line 237, in fit\n",
      "    raise ValueError(\"min_samples_split must be an integer \"\n",
      "ValueError: min_samples_split must be an integer greater than 1 or a float in (0.0, 1.0]; got the integer 1\n",
      "\n",
      "  warnings.warn(\"Estimator fit failed. The score on this train-test\"\n"
     ]
    },
    {
     "name": "stdout",
     "output_type": "stream",
     "text": [
      "[CV 2/5; 9/10] END max_depth=102, max_features=sqrt, min_samples_leaf=24, min_samples_split=1, n_estimators=954; total time=   0.3s\n",
      "[CV 3/5; 9/10] START max_depth=102, max_features=sqrt, min_samples_leaf=24, min_samples_split=1, n_estimators=954\n"
     ]
    },
    {
     "name": "stderr",
     "output_type": "stream",
     "text": [
      "/opt/conda/lib/python3.9/site-packages/sklearn/model_selection/_validation.py:610: FitFailedWarning: Estimator fit failed. The score on this train-test partition for these parameters will be set to nan. Details: \n",
      "Traceback (most recent call last):\n",
      "  File \"/opt/conda/lib/python3.9/site-packages/sklearn/model_selection/_validation.py\", line 593, in _fit_and_score\n",
      "    estimator.fit(X_train, y_train, **fit_params)\n",
      "  File \"/opt/conda/lib/python3.9/site-packages/sklearn/ensemble/_forest.py\", line 387, in fit\n",
      "    trees = Parallel(n_jobs=self.n_jobs, verbose=self.verbose,\n",
      "  File \"/opt/conda/lib/python3.9/site-packages/joblib/parallel.py\", line 1043, in __call__\n",
      "    if self.dispatch_one_batch(iterator):\n",
      "  File \"/opt/conda/lib/python3.9/site-packages/joblib/parallel.py\", line 861, in dispatch_one_batch\n",
      "    self._dispatch(tasks)\n",
      "  File \"/opt/conda/lib/python3.9/site-packages/joblib/parallel.py\", line 779, in _dispatch\n",
      "    job = self._backend.apply_async(batch, callback=cb)\n",
      "  File \"/opt/conda/lib/python3.9/site-packages/joblib/_parallel_backends.py\", line 208, in apply_async\n",
      "    result = ImmediateResult(func)\n",
      "  File \"/opt/conda/lib/python3.9/site-packages/joblib/_parallel_backends.py\", line 572, in __init__\n",
      "    self.results = batch()\n",
      "  File \"/opt/conda/lib/python3.9/site-packages/joblib/parallel.py\", line 262, in __call__\n",
      "    return [func(*args, **kwargs)\n",
      "  File \"/opt/conda/lib/python3.9/site-packages/joblib/parallel.py\", line 262, in <listcomp>\n",
      "    return [func(*args, **kwargs)\n",
      "  File \"/opt/conda/lib/python3.9/site-packages/sklearn/utils/fixes.py\", line 222, in __call__\n",
      "    return self.function(*args, **kwargs)\n",
      "  File \"/opt/conda/lib/python3.9/site-packages/sklearn/ensemble/_forest.py\", line 169, in _parallel_build_trees\n",
      "    tree.fit(X, y, sample_weight=curr_sample_weight, check_input=False)\n",
      "  File \"/opt/conda/lib/python3.9/site-packages/sklearn/tree/_classes.py\", line 1247, in fit\n",
      "    super().fit(\n",
      "  File \"/opt/conda/lib/python3.9/site-packages/sklearn/tree/_classes.py\", line 237, in fit\n",
      "    raise ValueError(\"min_samples_split must be an integer \"\n",
      "ValueError: min_samples_split must be an integer greater than 1 or a float in (0.0, 1.0]; got the integer 1\n",
      "\n",
      "  warnings.warn(\"Estimator fit failed. The score on this train-test\"\n"
     ]
    },
    {
     "name": "stdout",
     "output_type": "stream",
     "text": [
      "[CV 3/5; 9/10] END max_depth=102, max_features=sqrt, min_samples_leaf=24, min_samples_split=1, n_estimators=954; total time=   0.3s\n",
      "[CV 4/5; 9/10] START max_depth=102, max_features=sqrt, min_samples_leaf=24, min_samples_split=1, n_estimators=954\n"
     ]
    },
    {
     "name": "stderr",
     "output_type": "stream",
     "text": [
      "/opt/conda/lib/python3.9/site-packages/sklearn/model_selection/_validation.py:610: FitFailedWarning: Estimator fit failed. The score on this train-test partition for these parameters will be set to nan. Details: \n",
      "Traceback (most recent call last):\n",
      "  File \"/opt/conda/lib/python3.9/site-packages/sklearn/model_selection/_validation.py\", line 593, in _fit_and_score\n",
      "    estimator.fit(X_train, y_train, **fit_params)\n",
      "  File \"/opt/conda/lib/python3.9/site-packages/sklearn/ensemble/_forest.py\", line 387, in fit\n",
      "    trees = Parallel(n_jobs=self.n_jobs, verbose=self.verbose,\n",
      "  File \"/opt/conda/lib/python3.9/site-packages/joblib/parallel.py\", line 1043, in __call__\n",
      "    if self.dispatch_one_batch(iterator):\n",
      "  File \"/opt/conda/lib/python3.9/site-packages/joblib/parallel.py\", line 861, in dispatch_one_batch\n",
      "    self._dispatch(tasks)\n",
      "  File \"/opt/conda/lib/python3.9/site-packages/joblib/parallel.py\", line 779, in _dispatch\n",
      "    job = self._backend.apply_async(batch, callback=cb)\n",
      "  File \"/opt/conda/lib/python3.9/site-packages/joblib/_parallel_backends.py\", line 208, in apply_async\n",
      "    result = ImmediateResult(func)\n",
      "  File \"/opt/conda/lib/python3.9/site-packages/joblib/_parallel_backends.py\", line 572, in __init__\n",
      "    self.results = batch()\n",
      "  File \"/opt/conda/lib/python3.9/site-packages/joblib/parallel.py\", line 262, in __call__\n",
      "    return [func(*args, **kwargs)\n",
      "  File \"/opt/conda/lib/python3.9/site-packages/joblib/parallel.py\", line 262, in <listcomp>\n",
      "    return [func(*args, **kwargs)\n",
      "  File \"/opt/conda/lib/python3.9/site-packages/sklearn/utils/fixes.py\", line 222, in __call__\n",
      "    return self.function(*args, **kwargs)\n",
      "  File \"/opt/conda/lib/python3.9/site-packages/sklearn/ensemble/_forest.py\", line 169, in _parallel_build_trees\n",
      "    tree.fit(X, y, sample_weight=curr_sample_weight, check_input=False)\n",
      "  File \"/opt/conda/lib/python3.9/site-packages/sklearn/tree/_classes.py\", line 1247, in fit\n",
      "    super().fit(\n",
      "  File \"/opt/conda/lib/python3.9/site-packages/sklearn/tree/_classes.py\", line 237, in fit\n",
      "    raise ValueError(\"min_samples_split must be an integer \"\n",
      "ValueError: min_samples_split must be an integer greater than 1 or a float in (0.0, 1.0]; got the integer 1\n",
      "\n",
      "  warnings.warn(\"Estimator fit failed. The score on this train-test\"\n"
     ]
    },
    {
     "name": "stdout",
     "output_type": "stream",
     "text": [
      "[CV 4/5; 9/10] END max_depth=102, max_features=sqrt, min_samples_leaf=24, min_samples_split=1, n_estimators=954; total time=   0.3s\n",
      "[CV 5/5; 9/10] START max_depth=102, max_features=sqrt, min_samples_leaf=24, min_samples_split=1, n_estimators=954\n"
     ]
    },
    {
     "name": "stderr",
     "output_type": "stream",
     "text": [
      "/opt/conda/lib/python3.9/site-packages/sklearn/model_selection/_validation.py:610: FitFailedWarning: Estimator fit failed. The score on this train-test partition for these parameters will be set to nan. Details: \n",
      "Traceback (most recent call last):\n",
      "  File \"/opt/conda/lib/python3.9/site-packages/sklearn/model_selection/_validation.py\", line 593, in _fit_and_score\n",
      "    estimator.fit(X_train, y_train, **fit_params)\n",
      "  File \"/opt/conda/lib/python3.9/site-packages/sklearn/ensemble/_forest.py\", line 387, in fit\n",
      "    trees = Parallel(n_jobs=self.n_jobs, verbose=self.verbose,\n",
      "  File \"/opt/conda/lib/python3.9/site-packages/joblib/parallel.py\", line 1043, in __call__\n",
      "    if self.dispatch_one_batch(iterator):\n",
      "  File \"/opt/conda/lib/python3.9/site-packages/joblib/parallel.py\", line 861, in dispatch_one_batch\n",
      "    self._dispatch(tasks)\n",
      "  File \"/opt/conda/lib/python3.9/site-packages/joblib/parallel.py\", line 779, in _dispatch\n",
      "    job = self._backend.apply_async(batch, callback=cb)\n",
      "  File \"/opt/conda/lib/python3.9/site-packages/joblib/_parallel_backends.py\", line 208, in apply_async\n",
      "    result = ImmediateResult(func)\n",
      "  File \"/opt/conda/lib/python3.9/site-packages/joblib/_parallel_backends.py\", line 572, in __init__\n",
      "    self.results = batch()\n",
      "  File \"/opt/conda/lib/python3.9/site-packages/joblib/parallel.py\", line 262, in __call__\n",
      "    return [func(*args, **kwargs)\n",
      "  File \"/opt/conda/lib/python3.9/site-packages/joblib/parallel.py\", line 262, in <listcomp>\n",
      "    return [func(*args, **kwargs)\n",
      "  File \"/opt/conda/lib/python3.9/site-packages/sklearn/utils/fixes.py\", line 222, in __call__\n",
      "    return self.function(*args, **kwargs)\n",
      "  File \"/opt/conda/lib/python3.9/site-packages/sklearn/ensemble/_forest.py\", line 169, in _parallel_build_trees\n",
      "    tree.fit(X, y, sample_weight=curr_sample_weight, check_input=False)\n",
      "  File \"/opt/conda/lib/python3.9/site-packages/sklearn/tree/_classes.py\", line 1247, in fit\n",
      "    super().fit(\n",
      "  File \"/opt/conda/lib/python3.9/site-packages/sklearn/tree/_classes.py\", line 237, in fit\n",
      "    raise ValueError(\"min_samples_split must be an integer \"\n",
      "ValueError: min_samples_split must be an integer greater than 1 or a float in (0.0, 1.0]; got the integer 1\n",
      "\n",
      "  warnings.warn(\"Estimator fit failed. The score on this train-test\"\n"
     ]
    },
    {
     "name": "stdout",
     "output_type": "stream",
     "text": [
      "[CV 5/5; 9/10] END max_depth=102, max_features=sqrt, min_samples_leaf=24, min_samples_split=1, n_estimators=954; total time=   0.3s\n",
      "[CV 1/5; 10/10] START max_depth=66, max_features=log2, min_samples_leaf=4, min_samples_split=12, n_estimators=198\n",
      "[CV 1/5; 10/10] END max_depth=66, max_features=log2, min_samples_leaf=4, min_samples_split=12, n_estimators=198; total time=   0.4s\n",
      "[CV 2/5; 10/10] START max_depth=66, max_features=log2, min_samples_leaf=4, min_samples_split=12, n_estimators=198\n",
      "[CV 2/5; 10/10] END max_depth=66, max_features=log2, min_samples_leaf=4, min_samples_split=12, n_estimators=198; total time=   0.4s\n",
      "[CV 3/5; 10/10] START max_depth=66, max_features=log2, min_samples_leaf=4, min_samples_split=12, n_estimators=198\n",
      "[CV 3/5; 10/10] END max_depth=66, max_features=log2, min_samples_leaf=4, min_samples_split=12, n_estimators=198; total time=   0.4s\n",
      "[CV 4/5; 10/10] START max_depth=66, max_features=log2, min_samples_leaf=4, min_samples_split=12, n_estimators=198\n",
      "[CV 4/5; 10/10] END max_depth=66, max_features=log2, min_samples_leaf=4, min_samples_split=12, n_estimators=198; total time=   0.4s\n",
      "[CV 5/5; 10/10] START max_depth=66, max_features=log2, min_samples_leaf=4, min_samples_split=12, n_estimators=198\n",
      "[CV 5/5; 10/10] END max_depth=66, max_features=log2, min_samples_leaf=4, min_samples_split=12, n_estimators=198; total time=   0.4s\n"
     ]
    },
    {
     "name": "stderr",
     "output_type": "stream",
     "text": [
      "/opt/conda/lib/python3.9/site-packages/sklearn/model_selection/_search.py:918: UserWarning: One or more of the test scores are non-finite: [-6.7917433  -6.67347131 -6.73404302 -6.67011581 -7.14969289 -6.7013485\n",
      " -7.11965221 -6.67027505         nan -6.84368738]\n",
      "  warnings.warn(\n"
     ]
    },
    {
     "name": "stdout",
     "output_type": "stream",
     "text": [
      "Best hyperparams RandomForestRegressor:  {'n_estimators': 489, 'min_samples_split': 18, 'min_samples_leaf': 11, 'max_features': None, 'max_depth': 8}\n",
      "Best score RandomForestRegressor: -6.6701158079650185\n"
     ]
    }
   ],
   "source": [
    "model = RandomForestRegressor(random_state=random_state)\n",
    "param_dist = {'n_estimators': range(1,1000),\n",
    "               'max_features': ['auto', 'sqrt', 'log2', None],\n",
    "               'max_depth': range(1,150),\n",
    "               'min_samples_split': range(1,30),\n",
    "               'min_samples_leaf': range(1,30)}\n",
    "rs =  RandomizedSearchCV(model,param_distributions = param_dist, cv=5,scoring='neg_mean_absolute_error', verbose=10)\n",
    "rs.fit(features_train, target_train)\n",
    "best_params = rs.best_params_\n",
    "print('Best hyperparams RandomForestRegressor: ', rs.best_params_)\n",
    "print('Best score RandomForestRegressor:',rs.best_score_)"
   ]
  },
  {
   "cell_type": "markdown",
   "metadata": {},
   "source": [
    "## Оценка эффективности модели"
   ]
  },
  {
   "cell_type": "code",
   "execution_count": 55,
   "metadata": {},
   "outputs": [
    {
     "name": "stdout",
     "output_type": "stream",
     "text": [
      "MAE на тесте 8.110664120292613\n",
      "MAE на тесте 8.04459691252144\n"
     ]
    }
   ],
   "source": [
    "strategy = ['mean', 'median']\n",
    "for s in strategy:\n",
    "    model_dummy = DummyRegressor(strategy = s)\n",
    "    model_dummy.fit(features_train,target_train)\n",
    "    predict = model_dummy.predict(features_test)\n",
    "    mae = mean_absolute_error(target_test,predict)\n",
    "    print('MAE на тесте',mae)"
   ]
  },
  {
   "cell_type": "code",
   "execution_count": 56,
   "metadata": {},
   "outputs": [
    {
     "name": "stdout",
     "output_type": "stream",
     "text": [
      "0:\tlearn: 10.6908465\ttotal: 1.19ms\tremaining: 111ms\n",
      "1:\tlearn: 10.4201653\ttotal: 2.44ms\tremaining: 112ms\n",
      "2:\tlearn: 10.0506478\ttotal: 3.6ms\tremaining: 109ms\n",
      "3:\tlearn: 9.9644544\ttotal: 4.73ms\tremaining: 106ms\n",
      "4:\tlearn: 9.7053472\ttotal: 5.72ms\tremaining: 102ms\n",
      "5:\tlearn: 9.5118721\ttotal: 6.75ms\tremaining: 99ms\n",
      "6:\tlearn: 9.3907515\ttotal: 7.77ms\tremaining: 96.5ms\n",
      "7:\tlearn: 9.2683804\ttotal: 8.72ms\tremaining: 93.7ms\n",
      "8:\tlearn: 9.2356839\ttotal: 9.77ms\tremaining: 92.2ms\n",
      "9:\tlearn: 9.1681340\ttotal: 10.8ms\tremaining: 90.7ms\n",
      "10:\tlearn: 9.0386549\ttotal: 11.8ms\tremaining: 89.4ms\n",
      "11:\tlearn: 8.9980179\ttotal: 12.9ms\tremaining: 88.3ms\n",
      "12:\tlearn: 8.9165355\ttotal: 14ms\tremaining: 87.1ms\n",
      "13:\tlearn: 8.8171426\ttotal: 15.1ms\tremaining: 86.1ms\n",
      "14:\tlearn: 8.7346758\ttotal: 16ms\tremaining: 84.4ms\n",
      "15:\tlearn: 8.6984682\ttotal: 17.2ms\tremaining: 84.1ms\n",
      "16:\tlearn: 8.6178267\ttotal: 18.3ms\tremaining: 83.1ms\n",
      "17:\tlearn: 8.6002532\ttotal: 19.4ms\tremaining: 81.9ms\n",
      "18:\tlearn: 8.5427260\ttotal: 20.5ms\tremaining: 81ms\n",
      "19:\tlearn: 8.5020321\ttotal: 21.5ms\tremaining: 79.7ms\n",
      "20:\tlearn: 8.4956727\ttotal: 22.6ms\tremaining: 78.7ms\n",
      "21:\tlearn: 8.4761557\ttotal: 23.7ms\tremaining: 77.4ms\n",
      "22:\tlearn: 8.4386760\ttotal: 24.7ms\tremaining: 76.2ms\n",
      "23:\tlearn: 8.4191861\ttotal: 26.4ms\tremaining: 76.9ms\n",
      "24:\tlearn: 8.3646086\ttotal: 28.1ms\tremaining: 77.4ms\n",
      "25:\tlearn: 8.3377116\ttotal: 29.6ms\tremaining: 77.5ms\n",
      "26:\tlearn: 8.3093326\ttotal: 31.3ms\tremaining: 77.6ms\n",
      "27:\tlearn: 8.2697029\ttotal: 32.8ms\tremaining: 77.4ms\n",
      "28:\tlearn: 8.2307228\ttotal: 34.4ms\tremaining: 77.1ms\n",
      "29:\tlearn: 8.1800717\ttotal: 36ms\tremaining: 76.9ms\n",
      "30:\tlearn: 8.1236206\ttotal: 37.7ms\tremaining: 76.5ms\n",
      "31:\tlearn: 8.1068570\ttotal: 39.1ms\tremaining: 75.7ms\n",
      "32:\tlearn: 8.0753400\ttotal: 40.7ms\tremaining: 75.2ms\n",
      "33:\tlearn: 8.0646323\ttotal: 42.2ms\tremaining: 74.5ms\n",
      "34:\tlearn: 8.0324105\ttotal: 43.6ms\tremaining: 73.6ms\n",
      "35:\tlearn: 8.0051998\ttotal: 45.2ms\tremaining: 72.8ms\n",
      "36:\tlearn: 7.9896364\ttotal: 46.3ms\tremaining: 71.3ms\n",
      "37:\tlearn: 7.9743294\ttotal: 47.2ms\tremaining: 69.6ms\n",
      "38:\tlearn: 7.9444219\ttotal: 48.2ms\tremaining: 67.9ms\n",
      "39:\tlearn: 7.9315085\ttotal: 49.2ms\tremaining: 66.4ms\n",
      "40:\tlearn: 7.9046992\ttotal: 50.2ms\tremaining: 64.9ms\n",
      "41:\tlearn: 7.8683401\ttotal: 51.2ms\tremaining: 63.4ms\n",
      "42:\tlearn: 7.8383775\ttotal: 52.3ms\tremaining: 62ms\n",
      "43:\tlearn: 7.8235510\ttotal: 53.2ms\tremaining: 60.5ms\n",
      "44:\tlearn: 7.8061841\ttotal: 54.2ms\tremaining: 59ms\n",
      "45:\tlearn: 7.7973287\ttotal: 55.2ms\tremaining: 57.6ms\n",
      "46:\tlearn: 7.7854009\ttotal: 56.3ms\tremaining: 56.3ms\n",
      "47:\tlearn: 7.7714623\ttotal: 57.3ms\tremaining: 54.9ms\n",
      "48:\tlearn: 7.7395072\ttotal: 58.3ms\tremaining: 53.6ms\n",
      "49:\tlearn: 7.7176070\ttotal: 59.3ms\tremaining: 52.2ms\n",
      "50:\tlearn: 7.7108815\ttotal: 60.3ms\tremaining: 50.8ms\n",
      "51:\tlearn: 7.6964824\ttotal: 61.3ms\tremaining: 49.5ms\n",
      "52:\tlearn: 7.6707048\ttotal: 62.4ms\tremaining: 48.3ms\n",
      "53:\tlearn: 7.6275188\ttotal: 63.4ms\tremaining: 47ms\n",
      "54:\tlearn: 7.6176806\ttotal: 64.4ms\tremaining: 45.7ms\n",
      "55:\tlearn: 7.5975361\ttotal: 65.5ms\tremaining: 44.4ms\n",
      "56:\tlearn: 7.5825710\ttotal: 66.6ms\tremaining: 43.2ms\n",
      "57:\tlearn: 7.5709717\ttotal: 67.7ms\tremaining: 42ms\n",
      "58:\tlearn: 7.5496370\ttotal: 68.8ms\tremaining: 40.8ms\n",
      "59:\tlearn: 7.5414218\ttotal: 69.9ms\tremaining: 39.6ms\n",
      "60:\tlearn: 7.5355069\ttotal: 70.9ms\tremaining: 38.4ms\n",
      "61:\tlearn: 7.4962240\ttotal: 71.9ms\tremaining: 37.1ms\n",
      "62:\tlearn: 7.4893646\ttotal: 73.1ms\tremaining: 36ms\n",
      "63:\tlearn: 7.4838138\ttotal: 74.1ms\tremaining: 34.7ms\n",
      "64:\tlearn: 7.4713049\ttotal: 75ms\tremaining: 33.5ms\n",
      "65:\tlearn: 7.4507801\ttotal: 76.1ms\tremaining: 32.3ms\n",
      "66:\tlearn: 7.4465871\ttotal: 77.1ms\tremaining: 31.1ms\n",
      "67:\tlearn: 7.4231523\ttotal: 78.1ms\tremaining: 29.9ms\n",
      "68:\tlearn: 7.4167165\ttotal: 79.2ms\tremaining: 28.7ms\n",
      "69:\tlearn: 7.4115201\ttotal: 80.3ms\tremaining: 27.5ms\n",
      "70:\tlearn: 7.4074251\ttotal: 81.3ms\tremaining: 26.3ms\n",
      "71:\tlearn: 7.3781334\ttotal: 82.5ms\tremaining: 25.2ms\n",
      "72:\tlearn: 7.3699936\ttotal: 83.4ms\tremaining: 24ms\n",
      "73:\tlearn: 7.3457576\ttotal: 84.5ms\tremaining: 22.8ms\n",
      "74:\tlearn: 7.3422763\ttotal: 85.4ms\tremaining: 21.6ms\n",
      "75:\tlearn: 7.3224057\ttotal: 86.4ms\tremaining: 20.5ms\n",
      "76:\tlearn: 7.3108050\ttotal: 87.5ms\tremaining: 19.3ms\n",
      "77:\tlearn: 7.3077365\ttotal: 88.5ms\tremaining: 18.1ms\n",
      "78:\tlearn: 7.3000331\ttotal: 89.4ms\tremaining: 17ms\n",
      "79:\tlearn: 7.2860204\ttotal: 90.3ms\tremaining: 15.8ms\n",
      "80:\tlearn: 7.2668802\ttotal: 91.4ms\tremaining: 14.7ms\n",
      "81:\tlearn: 7.2636579\ttotal: 92.4ms\tremaining: 13.5ms\n",
      "82:\tlearn: 7.2592583\ttotal: 93.4ms\tremaining: 12.4ms\n",
      "83:\tlearn: 7.2429280\ttotal: 94.4ms\tremaining: 11.2ms\n",
      "84:\tlearn: 7.2384837\ttotal: 95.4ms\tremaining: 10.1ms\n",
      "85:\tlearn: 7.2108077\ttotal: 96.4ms\tremaining: 8.96ms\n",
      "86:\tlearn: 7.2094537\ttotal: 97.4ms\tremaining: 7.83ms\n",
      "87:\tlearn: 7.2066029\ttotal: 98.4ms\tremaining: 6.71ms\n",
      "88:\tlearn: 7.2032054\ttotal: 99.4ms\tremaining: 5.58ms\n",
      "89:\tlearn: 7.1891104\ttotal: 101ms\tremaining: 4.47ms\n",
      "90:\tlearn: 7.1709359\ttotal: 102ms\tremaining: 3.35ms\n",
      "91:\tlearn: 7.1684779\ttotal: 103ms\tremaining: 2.23ms\n",
      "92:\tlearn: 7.1462488\ttotal: 104ms\tremaining: 1.12ms\n",
      "93:\tlearn: 7.1428816\ttotal: 105ms\tremaining: 0us\n"
     ]
    },
    {
     "data": {
      "text/plain": [
       "<catboost.core.CatBoostRegressor at 0x7fb075c6e130>"
      ]
     },
     "execution_count": 56,
     "metadata": {},
     "output_type": "execute_result"
    }
   ],
   "source": [
    "model_cat = cat(**params_best)\n",
    "model_cat.fit(features_train,target_train)"
   ]
  },
  {
   "cell_type": "code",
   "execution_count": 57,
   "metadata": {},
   "outputs": [
    {
     "name": "stdout",
     "output_type": "stream",
     "text": [
      "MAE на тестовой выборке 6.663233054539539\n"
     ]
    }
   ],
   "source": [
    "pred = model_cat.predict(features_test)\n",
    "mae = mean_absolute_error(target_test,pred)\n",
    "print('MAE на тестовой выборке',mae )"
   ]
  },
  {
   "cell_type": "code",
   "execution_count": 58,
   "metadata": {
    "scrolled": true
   },
   "outputs": [
    {
     "data": {
      "text/html": [
       "<div>\n",
       "<style scoped>\n",
       "    .dataframe tbody tr th:only-of-type {\n",
       "        vertical-align: middle;\n",
       "    }\n",
       "\n",
       "    .dataframe tbody tr th {\n",
       "        vertical-align: top;\n",
       "    }\n",
       "\n",
       "    .dataframe thead th {\n",
       "        text-align: right;\n",
       "    }\n",
       "</style>\n",
       "<table border=\"1\" class=\"dataframe\">\n",
       "  <thead>\n",
       "    <tr style=\"text-align: right;\">\n",
       "      <th></th>\n",
       "      <th>0</th>\n",
       "    </tr>\n",
       "  </thead>\n",
       "  <tbody>\n",
       "    <tr>\n",
       "      <th>Начальная температура</th>\n",
       "      <td>27.498354</td>\n",
       "    </tr>\n",
       "    <tr>\n",
       "      <th>Активная мощность</th>\n",
       "      <td>19.896717</td>\n",
       "    </tr>\n",
       "    <tr>\n",
       "      <th>Wire 1</th>\n",
       "      <td>10.159056</td>\n",
       "    </tr>\n",
       "    <tr>\n",
       "      <th>Bulk 12</th>\n",
       "      <td>8.460055</td>\n",
       "    </tr>\n",
       "    <tr>\n",
       "      <th>Bulk 15</th>\n",
       "      <td>6.308040</td>\n",
       "    </tr>\n",
       "    <tr>\n",
       "      <th>Bulk 6</th>\n",
       "      <td>5.364061</td>\n",
       "    </tr>\n",
       "    <tr>\n",
       "      <th>Bulk 1</th>\n",
       "      <td>4.040463</td>\n",
       "    </tr>\n",
       "    <tr>\n",
       "      <th>Газ 1</th>\n",
       "      <td>3.680342</td>\n",
       "    </tr>\n",
       "    <tr>\n",
       "      <th>Wire 2</th>\n",
       "      <td>3.280679</td>\n",
       "    </tr>\n",
       "    <tr>\n",
       "      <th>Bulk 14</th>\n",
       "      <td>2.715660</td>\n",
       "    </tr>\n",
       "    <tr>\n",
       "      <th>Реактивная мощность</th>\n",
       "      <td>2.282035</td>\n",
       "    </tr>\n",
       "    <tr>\n",
       "      <th>Bulk 4</th>\n",
       "      <td>2.122581</td>\n",
       "    </tr>\n",
       "    <tr>\n",
       "      <th>Bulk 11</th>\n",
       "      <td>1.439811</td>\n",
       "    </tr>\n",
       "    <tr>\n",
       "      <th>Wire 4</th>\n",
       "      <td>0.937569</td>\n",
       "    </tr>\n",
       "    <tr>\n",
       "      <th>Bulk 7</th>\n",
       "      <td>0.827180</td>\n",
       "    </tr>\n",
       "    <tr>\n",
       "      <th>Bulk 3</th>\n",
       "      <td>0.375205</td>\n",
       "    </tr>\n",
       "    <tr>\n",
       "      <th>Bulk 10</th>\n",
       "      <td>0.254105</td>\n",
       "    </tr>\n",
       "    <tr>\n",
       "      <th>Bulk 2</th>\n",
       "      <td>0.226895</td>\n",
       "    </tr>\n",
       "    <tr>\n",
       "      <th>Wire 7</th>\n",
       "      <td>0.050407</td>\n",
       "    </tr>\n",
       "    <tr>\n",
       "      <th>Wire 6</th>\n",
       "      <td>0.042061</td>\n",
       "    </tr>\n",
       "    <tr>\n",
       "      <th>Wire 3</th>\n",
       "      <td>0.025552</td>\n",
       "    </tr>\n",
       "    <tr>\n",
       "      <th>Bulk 13</th>\n",
       "      <td>0.012418</td>\n",
       "    </tr>\n",
       "    <tr>\n",
       "      <th>Wire 9</th>\n",
       "      <td>0.000753</td>\n",
       "    </tr>\n",
       "    <tr>\n",
       "      <th>Bulk 5</th>\n",
       "      <td>0.000000</td>\n",
       "    </tr>\n",
       "    <tr>\n",
       "      <th>Bulk 8</th>\n",
       "      <td>0.000000</td>\n",
       "    </tr>\n",
       "    <tr>\n",
       "      <th>Bulk 9</th>\n",
       "      <td>0.000000</td>\n",
       "    </tr>\n",
       "    <tr>\n",
       "      <th>Wire 8</th>\n",
       "      <td>0.000000</td>\n",
       "    </tr>\n",
       "    <tr>\n",
       "      <th>Wire 5</th>\n",
       "      <td>0.000000</td>\n",
       "    </tr>\n",
       "  </tbody>\n",
       "</table>\n",
       "</div>"
      ],
      "text/plain": [
       "                               0\n",
       "Начальная температура  27.498354\n",
       "Активная мощность      19.896717\n",
       "Wire 1                 10.159056\n",
       "Bulk 12                 8.460055\n",
       "Bulk 15                 6.308040\n",
       "Bulk 6                  5.364061\n",
       "Bulk 1                  4.040463\n",
       "Газ 1                   3.680342\n",
       "Wire 2                  3.280679\n",
       "Bulk 14                 2.715660\n",
       "Реактивная мощность     2.282035\n",
       "Bulk 4                  2.122581\n",
       "Bulk 11                 1.439811\n",
       "Wire 4                  0.937569\n",
       "Bulk 7                  0.827180\n",
       "Bulk 3                  0.375205\n",
       "Bulk 10                 0.254105\n",
       "Bulk 2                  0.226895\n",
       "Wire 7                  0.050407\n",
       "Wire 6                  0.042061\n",
       "Wire 3                  0.025552\n",
       "Bulk 13                 0.012418\n",
       "Wire 9                  0.000753\n",
       "Bulk 5                  0.000000\n",
       "Bulk 8                  0.000000\n",
       "Bulk 9                  0.000000\n",
       "Wire 8                  0.000000\n",
       "Wire 5                  0.000000"
      ]
     },
     "execution_count": 58,
     "metadata": {},
     "output_type": "execute_result"
    }
   ],
   "source": [
    "feature_importance = pd.Series(model_cat.feature_importances_,index=features_train.columns).sort_values(ascending=False).to_frame()\n",
    "feature_importance"
   ]
  },
  {
   "cell_type": "code",
   "execution_count": 60,
   "metadata": {},
   "outputs": [
    {
     "data": {
      "image/png": "[encoded data removed]",
      "text/plain": [
       "<Figure size 432x288 with 1 Axes>"
      ]
     },
     "metadata": {
      "needs_background": "light"
     },
     "output_type": "display_data"
    }
   ],
   "source": [
    "feature_importance.plot(title ='Важность признаков',kind='bar');"
   ]
  },
  {
   "cell_type": "markdown",
   "metadata": {},
   "source": [
    "# Вывод"
   ]
  },
  {
   "cell_type": "markdown",
   "metadata": {},
   "source": [
    "Лучшая модель CatBoostRegressor с гиперпараметрами:\n",
    "    n_estimators = 94, min_child_samples = 1,  \n",
    "    learning_rate = 0.3, l2_leaf_reg = 7, depth = 3  \n",
    "    MAE на тестовой выборке 6.663233054539539  \n",
    "    Анализ важности признаков показал,что самыми важными признаками являются:  \n",
    "    Начальная температура  \n",
    "    Активная мощность  \n",
    "    Wire 1\n",
    "    "
   ]
  },
  {
   "cell_type": "markdown",
   "metadata": {},
   "source": [
    "## Отчет"
   ]
  },
  {
   "cell_type": "markdown",
   "metadata": {},
   "source": [
    "В этом проекте нам необходимо предсказать температуру стали,для оптимизации производственных расходов.Данные состоят из 7 файлов.  \n",
    "data_arc — данные об электродах(содержит активную и реактивную мощность, время начала и конец нагрева)  \n",
    "data_bulk — данные о подаче сыпучих материалов (объём);  \n",
    "data_bulk_time — данные о подаче сыпучих материалов (время);  \n",
    "data_gas — данные о продувке сплава газом;  \n",
    "data_temp — результаты измерения температуры(время и температура на каждом этапе);  \n",
    "data_wire — данные о проволочных материалах (объём);  \n",
    "data_wire_time — данные о проволочных материалах (время).\n",
    "\n",
    "# Какие пункты плана были выполнены, а какие — нет (поясните почему)?\n",
    "В данном проекте выполнены были все пункты плана.План состоял из основных пунктов по предобработке и изучению моделей.\n",
    "\n",
    "# Какие трудности возникли и как вы их преодолели?\n",
    "Трудности возникли в понимании производственного процесса,о том как соотносить между собой разные этапы для партий.Получив более подробную информацию,трудности были преодалены.\n",
    "\n",
    "# Какие ключевые шаги в решении задачи выделили?\n",
    "На этапе изучения данных ,выявлено несколько выбросов ,которые являются аномальными для данного производственного процесса,температура меньше 1500 градусов,большая отрицательная активная мощность.Данные были почищены.\n",
    "Датасеты data_bulk и data_wire содержат информацию о материалах,которые добавляют в сплав. Материалы используют в разных количествах,из-за особенностей производственного процесса,некоторые материалы практически не используют.\n",
    "\n",
    "На этапе подготовки данных для модели,данные из таблиц об электродах(data_arc.),о объемах сыпучих материалов (data_bulk),о объеме проволочных материалах(data_wire),данные о продувке сплава газом(data_gas), и результатов измерения температуры на разных этапах (data_temp),были соеденены в одну таблицу по номеру партии. При этом,для каждой партии,из всех этапов найдена средняя активная и реактивная мощность ,из таблицы об электродах. Первая измеряемая температура ,стала признаком для модели.Последняя измеряемая температура стала целевым признаком.Данные поделены на обучающую и тренировочную выборку в соотношении 75/25.\n",
    "\n",
    "На этапе обучения моделей,было выбрано 2 модели,CatBoostRegressor и RandomForestRegressor.\n",
    "Для выбора лучшей модели,ориентир на метрику на кросс-валидации.\n",
    "CatBoostRegressor -6.616273178356025\n",
    "RandomForestRegressor -6.6701158079650185\n",
    "\n",
    "\n",
    "# Какая ваша итоговая модель и какое у неё качество? \n",
    "Лучшая модель CatBoostRegressor с гиперпараметрами: n_estimators = 94, min_child_samples = 1, learning_rate = 0.3, l2_leaf_reg = 7, depth = 3 MAE на тестовой выборке 6.663233054539539 Анализ важности признаков показал,что самыми важными признаками являются: Начальная температура Активная мощность Wire 1 При этом констатные модели выдавали 8.04459691252144 на медиане, 8.110664120292613 на среднем Лучшая модель примерно на 17% лучше константной"
   ]
  }
 ],
 "metadata": {
  "ExecuteTimeLog": [
   {
    "duration": 399,
    "start_time": "2022-09-13T16:00:02.262Z"
   },
   {
    "duration": 115,
    "start_time": "2022-09-13T16:01:00.262Z"
   },
   {
    "duration": 75,
    "start_time": "2022-09-13T16:01:08.544Z"
   },
   {
    "duration": 117,
    "start_time": "2022-09-13T16:02:34.051Z"
   },
   {
    "duration": 117,
    "start_time": "2022-09-13T16:02:44.400Z"
   },
   {
    "duration": 48,
    "start_time": "2022-09-13T16:03:59.920Z"
   },
   {
    "duration": 119,
    "start_time": "2022-09-13T16:04:07.703Z"
   },
   {
    "duration": 101,
    "start_time": "2022-09-13T16:05:32.606Z"
   },
   {
    "duration": 83,
    "start_time": "2022-09-13T16:06:54.961Z"
   },
   {
    "duration": 104,
    "start_time": "2022-09-13T16:07:40.507Z"
   },
   {
    "duration": 128,
    "start_time": "2022-09-13T16:08:37.248Z"
   },
   {
    "duration": 689,
    "start_time": "2022-09-13T16:20:32.964Z"
   },
   {
    "duration": 31,
    "start_time": "2022-09-13T16:21:05.144Z"
   },
   {
    "duration": 33,
    "start_time": "2022-09-13T16:21:31.397Z"
   },
   {
    "duration": 70,
    "start_time": "2022-09-13T16:22:19.496Z"
   },
   {
    "duration": 23,
    "start_time": "2022-09-13T16:24:49.360Z"
   },
   {
    "duration": 16,
    "start_time": "2022-09-13T16:25:13.695Z"
   },
   {
    "duration": 44,
    "start_time": "2022-09-13T16:26:16.116Z"
   },
   {
    "duration": 2,
    "start_time": "2022-09-13T17:05:39.575Z"
   },
   {
    "duration": 13,
    "start_time": "2022-09-13T17:11:11.389Z"
   },
   {
    "duration": 14,
    "start_time": "2022-09-13T17:15:19.816Z"
   },
   {
    "duration": 53,
    "start_time": "2022-09-13T17:26:37.779Z"
   },
   {
    "duration": 49,
    "start_time": "2022-09-13T17:31:18.539Z"
   },
   {
    "duration": 12,
    "start_time": "2022-09-13T17:32:24.034Z"
   },
   {
    "duration": 15,
    "start_time": "2022-09-13T17:33:31.047Z"
   },
   {
    "duration": 56,
    "start_time": "2022-09-13T17:35:15.910Z"
   },
   {
    "duration": 8,
    "start_time": "2022-09-16T16:16:57.434Z"
   },
   {
    "duration": 482,
    "start_time": "2022-09-16T16:17:33.561Z"
   },
   {
    "duration": 425,
    "start_time": "2022-09-16T16:17:34.049Z"
   },
   {
    "duration": 45,
    "start_time": "2022-09-16T16:17:34.481Z"
   },
   {
    "duration": 289,
    "start_time": "2022-09-16T16:17:34.533Z"
   },
   {
    "duration": 28,
    "start_time": "2022-09-16T16:17:34.826Z"
   },
   {
    "duration": 161,
    "start_time": "2022-09-16T16:17:34.860Z"
   },
   {
    "duration": 232,
    "start_time": "2022-09-16T16:17:35.030Z"
   },
   {
    "duration": 129,
    "start_time": "2022-09-16T16:17:35.268Z"
   },
   {
    "duration": 47,
    "start_time": "2022-09-16T16:17:35.399Z"
   },
   {
    "duration": 233,
    "start_time": "2022-09-16T16:17:35.447Z"
   },
   {
    "duration": 27,
    "start_time": "2022-09-16T16:17:35.684Z"
   },
   {
    "duration": 29,
    "start_time": "2022-09-16T16:17:35.713Z"
   },
   {
    "duration": 56,
    "start_time": "2022-09-16T16:17:35.747Z"
   },
   {
    "duration": 223,
    "start_time": "2022-09-16T16:17:35.806Z"
   },
   {
    "duration": 66,
    "start_time": "2022-09-16T16:17:36.031Z"
   },
   {
    "duration": 139,
    "start_time": "2022-09-16T16:17:36.102Z"
   },
   {
    "duration": 24,
    "start_time": "2022-09-16T16:18:01.791Z"
   },
   {
    "duration": 45,
    "start_time": "2022-09-16T16:19:36.699Z"
   },
   {
    "duration": 10,
    "start_time": "2022-09-16T16:19:59.261Z"
   },
   {
    "duration": 20,
    "start_time": "2022-09-16T16:20:20.599Z"
   },
   {
    "duration": 24,
    "start_time": "2022-09-16T16:20:38.191Z"
   },
   {
    "duration": 4,
    "start_time": "2022-09-16T16:20:50.374Z"
   },
   {
    "duration": 92,
    "start_time": "2022-09-16T16:21:06.066Z"
   },
   {
    "duration": 14,
    "start_time": "2022-09-16T16:21:23.455Z"
   },
   {
    "duration": 24,
    "start_time": "2022-09-16T16:21:33.905Z"
   },
   {
    "duration": 9,
    "start_time": "2022-09-16T16:21:41.568Z"
   },
   {
    "duration": 19,
    "start_time": "2022-09-16T16:21:54.451Z"
   },
   {
    "duration": 411,
    "start_time": "2022-09-16T16:22:01.964Z"
   },
   {
    "duration": 120,
    "start_time": "2022-09-16T16:22:02.377Z"
   },
   {
    "duration": 27,
    "start_time": "2022-09-16T16:22:02.499Z"
   },
   {
    "duration": 61,
    "start_time": "2022-09-16T16:22:02.537Z"
   },
   {
    "duration": 24,
    "start_time": "2022-09-16T16:22:02.599Z"
   },
   {
    "duration": 64,
    "start_time": "2022-09-16T16:22:02.624Z"
   },
   {
    "duration": 58,
    "start_time": "2022-09-16T16:22:02.690Z"
   },
   {
    "duration": 41,
    "start_time": "2022-09-16T16:22:02.750Z"
   },
   {
    "duration": 81,
    "start_time": "2022-09-16T16:22:02.793Z"
   },
   {
    "duration": 48,
    "start_time": "2022-09-16T16:22:02.877Z"
   },
   {
    "duration": 90,
    "start_time": "2022-09-16T16:22:02.927Z"
   },
   {
    "duration": 24,
    "start_time": "2022-09-16T16:22:03.019Z"
   },
   {
    "duration": 85,
    "start_time": "2022-09-16T16:22:03.045Z"
   },
   {
    "duration": 26,
    "start_time": "2022-09-16T16:22:03.135Z"
   },
   {
    "duration": 24,
    "start_time": "2022-09-16T16:22:03.166Z"
   },
   {
    "duration": 18,
    "start_time": "2022-09-16T16:22:03.192Z"
   },
   {
    "duration": 72,
    "start_time": "2022-09-16T16:22:03.213Z"
   },
   {
    "duration": 62,
    "start_time": "2022-09-16T16:22:03.287Z"
   },
   {
    "duration": 66,
    "start_time": "2022-09-16T16:22:03.358Z"
   },
   {
    "duration": 6,
    "start_time": "2022-09-16T16:22:23.675Z"
   },
   {
    "duration": 38,
    "start_time": "2022-09-16T16:22:25.127Z"
   },
   {
    "duration": 60,
    "start_time": "2022-09-16T16:23:13.843Z"
   },
   {
    "duration": 86,
    "start_time": "2022-09-16T16:24:01.835Z"
   },
   {
    "duration": 120,
    "start_time": "2022-09-16T16:24:17.081Z"
   },
   {
    "duration": 73,
    "start_time": "2022-09-16T16:25:04.101Z"
   },
   {
    "duration": 68,
    "start_time": "2022-09-16T16:25:41.664Z"
   },
   {
    "duration": 4,
    "start_time": "2022-09-16T16:34:38.952Z"
   },
   {
    "duration": 98,
    "start_time": "2022-09-16T16:36:51.585Z"
   },
   {
    "duration": 76,
    "start_time": "2022-09-16T16:37:08.742Z"
   },
   {
    "duration": 103,
    "start_time": "2022-09-16T16:37:46.574Z"
   },
   {
    "duration": 14,
    "start_time": "2022-09-16T16:39:10.537Z"
   },
   {
    "duration": 5,
    "start_time": "2022-09-16T16:40:48.386Z"
   },
   {
    "duration": 90,
    "start_time": "2022-09-16T16:40:57.239Z"
   },
   {
    "duration": 6,
    "start_time": "2022-09-16T16:48:01.159Z"
   },
   {
    "duration": 619,
    "start_time": "2022-09-16T16:48:39.567Z"
   },
   {
    "duration": 24,
    "start_time": "2022-09-16T16:48:47.182Z"
   },
   {
    "duration": 130,
    "start_time": "2022-09-16T16:48:59.235Z"
   },
   {
    "duration": 92,
    "start_time": "2022-09-16T16:50:10.738Z"
   },
   {
    "duration": 7,
    "start_time": "2022-09-16T16:50:52.167Z"
   },
   {
    "duration": 22,
    "start_time": "2022-09-16T16:51:01.098Z"
   },
   {
    "duration": 753,
    "start_time": "2022-09-16T16:51:11.391Z"
   },
   {
    "duration": 3,
    "start_time": "2022-09-16T16:51:12.146Z"
   },
   {
    "duration": 223,
    "start_time": "2022-09-16T16:51:12.150Z"
   },
   {
    "duration": 16,
    "start_time": "2022-09-16T16:51:12.376Z"
   },
   {
    "duration": 35,
    "start_time": "2022-09-16T16:51:12.394Z"
   },
   {
    "duration": 22,
    "start_time": "2022-09-16T16:51:12.435Z"
   },
   {
    "duration": 36,
    "start_time": "2022-09-16T16:51:12.459Z"
   },
   {
    "duration": 60,
    "start_time": "2022-09-16T16:51:12.497Z"
   },
   {
    "duration": 13,
    "start_time": "2022-09-16T16:51:12.559Z"
   },
   {
    "duration": 83,
    "start_time": "2022-09-16T16:51:12.575Z"
   },
   {
    "duration": 38,
    "start_time": "2022-09-16T16:51:12.660Z"
   },
   {
    "duration": 16,
    "start_time": "2022-09-16T16:51:12.700Z"
   },
   {
    "duration": 53,
    "start_time": "2022-09-16T16:51:12.717Z"
   },
   {
    "duration": 114,
    "start_time": "2022-09-16T16:51:12.772Z"
   },
   {
    "duration": 53,
    "start_time": "2022-09-16T16:51:12.888Z"
   },
   {
    "duration": 22,
    "start_time": "2022-09-16T16:51:12.943Z"
   },
   {
    "duration": 11,
    "start_time": "2022-09-16T16:51:12.968Z"
   },
   {
    "duration": 36,
    "start_time": "2022-09-16T16:51:12.981Z"
   },
   {
    "duration": 42,
    "start_time": "2022-09-16T16:51:13.022Z"
   },
   {
    "duration": 40,
    "start_time": "2022-09-16T16:51:13.067Z"
   },
   {
    "duration": 35,
    "start_time": "2022-09-16T16:51:13.108Z"
   },
   {
    "duration": 40,
    "start_time": "2022-09-16T17:10:47.535Z"
   },
   {
    "duration": 723,
    "start_time": "2022-09-16T17:11:09.170Z"
   },
   {
    "duration": 5,
    "start_time": "2022-09-16T17:11:09.895Z"
   },
   {
    "duration": 128,
    "start_time": "2022-09-16T17:11:09.901Z"
   },
   {
    "duration": 23,
    "start_time": "2022-09-16T17:11:10.032Z"
   },
   {
    "duration": 40,
    "start_time": "2022-09-16T17:11:10.059Z"
   },
   {
    "duration": 20,
    "start_time": "2022-09-16T17:11:10.100Z"
   },
   {
    "duration": 51,
    "start_time": "2022-09-16T17:11:10.127Z"
   },
   {
    "duration": 48,
    "start_time": "2022-09-16T17:11:10.179Z"
   },
   {
    "duration": 18,
    "start_time": "2022-09-16T17:11:10.229Z"
   },
   {
    "duration": 92,
    "start_time": "2022-09-16T17:11:10.250Z"
   },
   {
    "duration": 11,
    "start_time": "2022-09-16T17:11:10.347Z"
   },
   {
    "duration": 21,
    "start_time": "2022-09-16T17:11:10.362Z"
   },
   {
    "duration": 148,
    "start_time": "2022-09-16T17:11:10.385Z"
   },
   {
    "duration": 51,
    "start_time": "2022-09-16T17:11:10.535Z"
   },
   {
    "duration": 32,
    "start_time": "2022-09-16T17:11:10.589Z"
   },
   {
    "duration": 22,
    "start_time": "2022-09-16T17:11:10.631Z"
   },
   {
    "duration": 23,
    "start_time": "2022-09-16T17:11:10.658Z"
   },
   {
    "duration": 70,
    "start_time": "2022-09-16T17:11:10.683Z"
   },
   {
    "duration": 12,
    "start_time": "2022-09-16T17:11:10.760Z"
   },
   {
    "duration": 122,
    "start_time": "2022-09-16T17:12:54.470Z"
   },
   {
    "duration": 38,
    "start_time": "2022-09-16T17:14:00.583Z"
   },
   {
    "duration": 13,
    "start_time": "2022-09-16T17:14:11.049Z"
   },
   {
    "duration": 669,
    "start_time": "2022-09-16T17:16:54.959Z"
   },
   {
    "duration": 118,
    "start_time": "2022-09-16T17:17:22.421Z"
   },
   {
    "duration": 31,
    "start_time": "2022-09-16T17:17:34.300Z"
   },
   {
    "duration": 16,
    "start_time": "2022-09-16T17:48:20.434Z"
   },
   {
    "duration": 184,
    "start_time": "2022-09-16T17:48:39.228Z"
   },
   {
    "duration": 263,
    "start_time": "2022-09-16T17:50:16.034Z"
   },
   {
    "duration": 235,
    "start_time": "2022-09-16T17:50:31.374Z"
   },
   {
    "duration": 222,
    "start_time": "2022-09-16T17:51:03.577Z"
   },
   {
    "duration": 21,
    "start_time": "2022-09-16T17:54:00.624Z"
   },
   {
    "duration": 10,
    "start_time": "2022-09-16T17:54:15.443Z"
   },
   {
    "duration": 8,
    "start_time": "2022-09-16T17:54:24.291Z"
   },
   {
    "duration": 70,
    "start_time": "2022-09-16T17:55:35.397Z"
   },
   {
    "duration": 29,
    "start_time": "2022-09-16T17:56:00.530Z"
   },
   {
    "duration": 8,
    "start_time": "2022-09-16T17:56:19.601Z"
   },
   {
    "duration": 30,
    "start_time": "2022-09-16T17:56:34.123Z"
   },
   {
    "duration": 2065,
    "start_time": "2022-09-16T17:57:12.681Z"
   },
   {
    "duration": 947,
    "start_time": "2022-09-16T17:58:17.336Z"
   },
   {
    "duration": 6,
    "start_time": "2022-09-16T17:58:18.289Z"
   },
   {
    "duration": 346,
    "start_time": "2022-09-16T17:58:18.300Z"
   },
   {
    "duration": 32,
    "start_time": "2022-09-16T17:58:18.653Z"
   },
   {
    "duration": 152,
    "start_time": "2022-09-16T17:58:18.692Z"
   },
   {
    "duration": 43,
    "start_time": "2022-09-16T17:58:18.856Z"
   },
   {
    "duration": 69,
    "start_time": "2022-09-16T17:58:18.901Z"
   },
   {
    "duration": 273,
    "start_time": "2022-09-16T17:58:18.972Z"
   },
   {
    "duration": 57,
    "start_time": "2022-09-16T17:58:19.249Z"
   },
   {
    "duration": 34,
    "start_time": "2022-09-16T17:58:19.313Z"
   },
   {
    "duration": 51,
    "start_time": "2022-09-16T17:58:19.354Z"
   },
   {
    "duration": 118,
    "start_time": "2022-09-16T17:58:19.410Z"
   },
   {
    "duration": 18,
    "start_time": "2022-09-16T17:58:19.546Z"
   },
   {
    "duration": 72,
    "start_time": "2022-09-16T17:58:19.568Z"
   },
   {
    "duration": 147,
    "start_time": "2022-09-16T17:58:19.649Z"
   },
   {
    "duration": 82,
    "start_time": "2022-09-16T17:58:19.802Z"
   },
   {
    "duration": 21,
    "start_time": "2022-09-16T17:58:19.887Z"
   },
   {
    "duration": 19,
    "start_time": "2022-09-16T17:58:19.914Z"
   },
   {
    "duration": 241,
    "start_time": "2022-09-16T17:58:19.939Z"
   },
   {
    "duration": 39,
    "start_time": "2022-09-16T17:58:20.186Z"
   },
   {
    "duration": 71,
    "start_time": "2022-09-16T17:58:20.231Z"
   },
   {
    "duration": 23,
    "start_time": "2022-09-16T18:00:50.447Z"
   },
   {
    "duration": 986,
    "start_time": "2022-09-16T18:01:07.281Z"
   },
   {
    "duration": 9,
    "start_time": "2022-09-16T18:01:08.275Z"
   },
   {
    "duration": 183,
    "start_time": "2022-09-16T18:01:08.290Z"
   },
   {
    "duration": 25,
    "start_time": "2022-09-16T18:01:08.481Z"
   },
   {
    "duration": 37,
    "start_time": "2022-09-16T18:01:08.514Z"
   },
   {
    "duration": 46,
    "start_time": "2022-09-16T18:01:08.557Z"
   },
   {
    "duration": 96,
    "start_time": "2022-09-16T18:01:08.609Z"
   },
   {
    "duration": 274,
    "start_time": "2022-09-16T18:01:08.717Z"
   },
   {
    "duration": 66,
    "start_time": "2022-09-16T18:01:08.996Z"
   },
   {
    "duration": 65,
    "start_time": "2022-09-16T18:01:09.078Z"
   },
   {
    "duration": 118,
    "start_time": "2022-09-16T18:01:09.149Z"
   },
   {
    "duration": 114,
    "start_time": "2022-09-16T18:01:09.276Z"
   },
   {
    "duration": 24,
    "start_time": "2022-09-16T18:01:09.395Z"
   },
   {
    "duration": 90,
    "start_time": "2022-09-16T18:01:09.422Z"
   },
   {
    "duration": 84,
    "start_time": "2022-09-16T18:01:09.515Z"
   },
   {
    "duration": 191,
    "start_time": "2022-09-16T18:01:09.601Z"
   },
   {
    "duration": 132,
    "start_time": "2022-09-16T18:01:09.794Z"
   },
   {
    "duration": 42,
    "start_time": "2022-09-16T18:01:09.942Z"
   },
   {
    "duration": 26,
    "start_time": "2022-09-16T18:01:09.989Z"
   },
   {
    "duration": 267,
    "start_time": "2022-09-16T18:01:10.017Z"
   },
   {
    "duration": 29,
    "start_time": "2022-09-16T18:01:10.289Z"
   },
   {
    "duration": 121,
    "start_time": "2022-09-16T18:01:10.324Z"
   },
   {
    "duration": 99,
    "start_time": "2022-09-16T18:05:34.868Z"
   },
   {
    "duration": 10,
    "start_time": "2022-09-16T18:05:39.871Z"
   },
   {
    "duration": 12,
    "start_time": "2022-09-16T18:05:45.642Z"
   },
   {
    "duration": 2208,
    "start_time": "2022-09-16T18:06:36.547Z"
   },
   {
    "duration": 715,
    "start_time": "2022-09-16T18:07:38.953Z"
   },
   {
    "duration": 4,
    "start_time": "2022-09-16T18:07:39.671Z"
   },
   {
    "duration": 91,
    "start_time": "2022-09-16T18:07:39.677Z"
   },
   {
    "duration": 15,
    "start_time": "2022-09-16T18:07:39.770Z"
   },
   {
    "duration": 24,
    "start_time": "2022-09-16T18:07:39.788Z"
   },
   {
    "duration": 62,
    "start_time": "2022-09-16T18:07:39.814Z"
   },
   {
    "duration": 30,
    "start_time": "2022-09-16T18:07:39.879Z"
   },
   {
    "duration": 240,
    "start_time": "2022-09-16T18:07:39.915Z"
   },
   {
    "duration": 43,
    "start_time": "2022-09-16T18:07:40.159Z"
   },
   {
    "duration": 32,
    "start_time": "2022-09-16T18:07:40.208Z"
   },
   {
    "duration": 185,
    "start_time": "2022-09-16T18:07:40.242Z"
   },
   {
    "duration": 22,
    "start_time": "2022-09-16T18:07:40.429Z"
   },
   {
    "duration": 58,
    "start_time": "2022-09-16T18:07:40.456Z"
   },
   {
    "duration": 21,
    "start_time": "2022-09-16T18:07:40.519Z"
   },
   {
    "duration": 25,
    "start_time": "2022-09-16T18:07:40.543Z"
   },
   {
    "duration": 23,
    "start_time": "2022-09-16T18:07:40.570Z"
   },
   {
    "duration": 158,
    "start_time": "2022-09-16T18:07:40.595Z"
   },
   {
    "duration": 73,
    "start_time": "2022-09-16T18:07:40.756Z"
   },
   {
    "duration": 24,
    "start_time": "2022-09-16T18:07:40.831Z"
   },
   {
    "duration": 20,
    "start_time": "2022-09-16T18:07:40.857Z"
   },
   {
    "duration": 199,
    "start_time": "2022-09-16T18:07:40.879Z"
   },
   {
    "duration": 33,
    "start_time": "2022-09-16T18:07:41.080Z"
   },
   {
    "duration": 85,
    "start_time": "2022-09-16T18:07:41.115Z"
   },
   {
    "duration": 827,
    "start_time": "2022-09-16T18:09:03.163Z"
   },
   {
    "duration": 3,
    "start_time": "2022-09-16T18:09:03.993Z"
   },
   {
    "duration": 139,
    "start_time": "2022-09-16T18:09:03.998Z"
   },
   {
    "duration": 19,
    "start_time": "2022-09-16T18:09:04.140Z"
   },
   {
    "duration": 27,
    "start_time": "2022-09-16T18:09:04.161Z"
   },
   {
    "duration": 22,
    "start_time": "2022-09-16T18:09:04.192Z"
   },
   {
    "duration": 57,
    "start_time": "2022-09-16T18:09:04.220Z"
   },
   {
    "duration": 249,
    "start_time": "2022-09-16T18:09:04.278Z"
   },
   {
    "duration": 48,
    "start_time": "2022-09-16T18:09:04.530Z"
   },
   {
    "duration": 19,
    "start_time": "2022-09-16T18:09:04.587Z"
   },
   {
    "duration": 233,
    "start_time": "2022-09-16T18:09:04.614Z"
   },
   {
    "duration": 30,
    "start_time": "2022-09-16T18:09:04.851Z"
   },
   {
    "duration": 66,
    "start_time": "2022-09-16T18:09:04.884Z"
   },
   {
    "duration": 27,
    "start_time": "2022-09-16T18:09:04.953Z"
   },
   {
    "duration": 209,
    "start_time": "2022-09-16T18:09:04.983Z"
   },
   {
    "duration": 28,
    "start_time": "2022-09-16T18:09:05.194Z"
   },
   {
    "duration": 32,
    "start_time": "2022-09-16T18:09:05.230Z"
   },
   {
    "duration": 134,
    "start_time": "2022-09-16T18:09:05.268Z"
   },
   {
    "duration": 83,
    "start_time": "2022-09-16T18:09:05.404Z"
   },
   {
    "duration": 29,
    "start_time": "2022-09-16T18:09:05.490Z"
   },
   {
    "duration": 34,
    "start_time": "2022-09-16T18:09:05.522Z"
   },
   {
    "duration": 233,
    "start_time": "2022-09-16T18:09:05.558Z"
   },
   {
    "duration": 28,
    "start_time": "2022-09-16T18:09:05.793Z"
   },
   {
    "duration": 182,
    "start_time": "2022-09-16T18:09:05.831Z"
   },
   {
    "duration": 17,
    "start_time": "2022-09-16T18:09:06.024Z"
   },
   {
    "duration": 48,
    "start_time": "2022-09-16T18:09:06.046Z"
   },
   {
    "duration": 160,
    "start_time": "2022-09-16T18:13:50.400Z"
   },
   {
    "duration": 167,
    "start_time": "2022-09-16T18:14:18.221Z"
   },
   {
    "duration": 151,
    "start_time": "2022-09-16T18:14:25.668Z"
   },
   {
    "duration": 168,
    "start_time": "2022-09-16T18:14:34.490Z"
   },
   {
    "duration": 144,
    "start_time": "2022-09-16T18:14:45.291Z"
   },
   {
    "duration": 164,
    "start_time": "2022-09-16T18:15:00.040Z"
   },
   {
    "duration": 186,
    "start_time": "2022-09-16T18:17:42.964Z"
   },
   {
    "duration": 190,
    "start_time": "2022-09-16T18:18:07.074Z"
   },
   {
    "duration": 142,
    "start_time": "2022-09-16T18:19:06.870Z"
   },
   {
    "duration": 247,
    "start_time": "2022-09-16T18:20:08.889Z"
   },
   {
    "duration": 89,
    "start_time": "2022-09-16T18:23:57.578Z"
   },
   {
    "duration": 64,
    "start_time": "2022-09-17T15:24:44.505Z"
   },
   {
    "duration": 1205,
    "start_time": "2022-09-17T15:24:53.930Z"
   },
   {
    "duration": 3,
    "start_time": "2022-09-17T15:24:55.138Z"
   },
   {
    "duration": 185,
    "start_time": "2022-09-17T15:24:55.142Z"
   },
   {
    "duration": 19,
    "start_time": "2022-09-17T15:24:55.345Z"
   },
   {
    "duration": 35,
    "start_time": "2022-09-17T15:24:55.366Z"
   },
   {
    "duration": 5,
    "start_time": "2022-09-17T15:24:55.402Z"
   },
   {
    "duration": 69,
    "start_time": "2022-09-17T15:24:55.412Z"
   },
   {
    "duration": 179,
    "start_time": "2022-09-17T15:24:55.483Z"
   },
   {
    "duration": 137,
    "start_time": "2022-09-17T15:24:55.664Z"
   },
   {
    "duration": 86,
    "start_time": "2022-09-17T15:24:55.803Z"
   },
   {
    "duration": 9,
    "start_time": "2022-09-17T15:24:55.891Z"
   },
   {
    "duration": 162,
    "start_time": "2022-09-17T15:24:55.902Z"
   },
   {
    "duration": 14,
    "start_time": "2022-09-17T15:24:56.066Z"
   },
   {
    "duration": 101,
    "start_time": "2022-09-17T15:24:56.082Z"
   },
   {
    "duration": 9,
    "start_time": "2022-09-17T15:24:56.185Z"
   },
   {
    "duration": 150,
    "start_time": "2022-09-17T15:24:56.196Z"
   },
   {
    "duration": 14,
    "start_time": "2022-09-17T15:24:56.348Z"
   },
   {
    "duration": 16,
    "start_time": "2022-09-17T15:24:56.364Z"
   },
   {
    "duration": 167,
    "start_time": "2022-09-17T15:24:56.381Z"
   },
   {
    "duration": 99,
    "start_time": "2022-09-17T15:24:56.557Z"
   },
   {
    "duration": 13,
    "start_time": "2022-09-17T15:24:56.658Z"
   },
   {
    "duration": 9,
    "start_time": "2022-09-17T15:24:56.673Z"
   },
   {
    "duration": 140,
    "start_time": "2022-09-17T15:24:56.684Z"
   },
   {
    "duration": 128,
    "start_time": "2022-09-17T15:24:56.826Z"
   },
   {
    "duration": 131,
    "start_time": "2022-09-17T15:24:56.956Z"
   },
   {
    "duration": 9,
    "start_time": "2022-09-17T15:24:57.088Z"
   },
   {
    "duration": 37,
    "start_time": "2022-09-17T15:24:57.098Z"
   },
   {
    "duration": 155,
    "start_time": "2022-09-17T15:26:01.208Z"
   },
   {
    "duration": 402,
    "start_time": "2022-09-17T15:26:27.437Z"
   },
   {
    "duration": 7,
    "start_time": "2022-09-17T15:29:14.889Z"
   },
   {
    "duration": 7,
    "start_time": "2022-09-17T15:29:25.456Z"
   },
   {
    "duration": 13,
    "start_time": "2022-09-17T15:30:47.736Z"
   },
   {
    "duration": 21,
    "start_time": "2022-09-17T15:30:52.937Z"
   },
   {
    "duration": 8,
    "start_time": "2022-09-17T15:31:06.752Z"
   },
   {
    "duration": 116,
    "start_time": "2022-09-17T15:35:17.052Z"
   },
   {
    "duration": 113,
    "start_time": "2022-09-17T15:35:29.439Z"
   },
   {
    "duration": 215,
    "start_time": "2022-09-17T15:36:19.079Z"
   },
   {
    "duration": 271,
    "start_time": "2022-09-17T15:37:17.433Z"
   },
   {
    "duration": 265,
    "start_time": "2022-09-17T15:38:17.293Z"
   },
   {
    "duration": 251,
    "start_time": "2022-09-17T15:38:24.550Z"
   },
   {
    "duration": 182,
    "start_time": "2022-09-17T15:42:18.484Z"
   },
   {
    "duration": 133,
    "start_time": "2022-09-17T15:42:28.702Z"
   },
   {
    "duration": 152,
    "start_time": "2022-09-17T15:43:42.192Z"
   },
   {
    "duration": 144,
    "start_time": "2022-09-17T15:44:00.363Z"
   },
   {
    "duration": 130,
    "start_time": "2022-09-17T15:44:11.150Z"
   },
   {
    "duration": 138,
    "start_time": "2022-09-17T15:44:54.580Z"
   },
   {
    "duration": 686,
    "start_time": "2022-09-17T15:46:45.393Z"
   },
   {
    "duration": 3,
    "start_time": "2022-09-17T15:46:46.080Z"
   },
   {
    "duration": 104,
    "start_time": "2022-09-17T15:46:46.084Z"
   },
   {
    "duration": 12,
    "start_time": "2022-09-17T15:46:46.190Z"
   },
   {
    "duration": 35,
    "start_time": "2022-09-17T15:46:46.204Z"
   },
   {
    "duration": 25,
    "start_time": "2022-09-17T15:46:46.241Z"
   },
   {
    "duration": 19,
    "start_time": "2022-09-17T15:46:46.268Z"
   },
   {
    "duration": 159,
    "start_time": "2022-09-17T15:46:46.289Z"
   },
   {
    "duration": 259,
    "start_time": "2022-09-17T15:46:46.450Z"
   },
   {
    "duration": 62,
    "start_time": "2022-09-17T15:46:46.711Z"
   },
   {
    "duration": 12,
    "start_time": "2022-09-17T15:46:46.775Z"
   },
   {
    "duration": 140,
    "start_time": "2022-09-17T15:46:46.789Z"
   },
   {
    "duration": 27,
    "start_time": "2022-09-17T15:46:46.931Z"
   },
   {
    "duration": 44,
    "start_time": "2022-09-17T15:46:46.961Z"
   },
   {
    "duration": 21,
    "start_time": "2022-09-17T15:46:47.006Z"
   },
   {
    "duration": 158,
    "start_time": "2022-09-17T15:46:47.032Z"
   },
   {
    "duration": 8,
    "start_time": "2022-09-17T15:46:47.192Z"
   },
   {
    "duration": 38,
    "start_time": "2022-09-17T15:46:47.201Z"
   },
   {
    "duration": 185,
    "start_time": "2022-09-17T15:46:47.241Z"
   },
   {
    "duration": 68,
    "start_time": "2022-09-17T15:46:47.427Z"
   },
   {
    "duration": 20,
    "start_time": "2022-09-17T15:46:47.496Z"
   },
   {
    "duration": 13,
    "start_time": "2022-09-17T15:46:47.517Z"
   },
   {
    "duration": 168,
    "start_time": "2022-09-17T15:46:47.532Z"
   },
   {
    "duration": 167,
    "start_time": "2022-09-17T15:46:47.702Z"
   },
   {
    "duration": 25,
    "start_time": "2022-09-17T15:46:47.870Z"
   },
   {
    "duration": 156,
    "start_time": "2022-09-17T15:46:47.896Z"
   },
   {
    "duration": 10,
    "start_time": "2022-09-17T15:46:48.056Z"
   },
   {
    "duration": 13,
    "start_time": "2022-09-17T15:46:48.069Z"
   },
   {
    "duration": 237,
    "start_time": "2022-09-17T15:47:08.505Z"
   },
   {
    "duration": 680,
    "start_time": "2022-09-17T15:47:47.802Z"
   },
   {
    "duration": 3,
    "start_time": "2022-09-17T15:47:48.484Z"
   },
   {
    "duration": 101,
    "start_time": "2022-09-17T15:47:48.489Z"
   },
   {
    "duration": 12,
    "start_time": "2022-09-17T15:47:48.592Z"
   },
   {
    "duration": 71,
    "start_time": "2022-09-17T15:47:48.605Z"
   },
   {
    "duration": 5,
    "start_time": "2022-09-17T15:47:48.678Z"
   },
   {
    "duration": 67,
    "start_time": "2022-09-17T15:47:48.684Z"
   },
   {
    "duration": 191,
    "start_time": "2022-09-17T15:47:48.753Z"
   },
   {
    "duration": 274,
    "start_time": "2022-09-17T15:47:48.945Z"
   },
   {
    "duration": 40,
    "start_time": "2022-09-17T15:47:49.229Z"
   },
   {
    "duration": 9,
    "start_time": "2022-09-17T15:47:49.271Z"
   },
   {
    "duration": 199,
    "start_time": "2022-09-17T15:47:49.282Z"
   },
   {
    "duration": 15,
    "start_time": "2022-09-17T15:47:49.483Z"
   },
   {
    "duration": 120,
    "start_time": "2022-09-17T15:47:49.499Z"
   },
   {
    "duration": 14,
    "start_time": "2022-09-17T15:47:49.621Z"
   },
   {
    "duration": 155,
    "start_time": "2022-09-17T15:47:49.637Z"
   },
   {
    "duration": 9,
    "start_time": "2022-09-17T15:47:49.794Z"
   },
   {
    "duration": 58,
    "start_time": "2022-09-17T15:47:49.804Z"
   },
   {
    "duration": 177,
    "start_time": "2022-09-17T15:47:49.864Z"
   },
   {
    "duration": 41,
    "start_time": "2022-09-17T15:47:50.046Z"
   },
   {
    "duration": 14,
    "start_time": "2022-09-17T15:47:50.089Z"
   },
   {
    "duration": 221,
    "start_time": "2022-09-17T15:47:50.104Z"
   },
   {
    "duration": 29,
    "start_time": "2022-09-17T15:47:50.327Z"
   },
   {
    "duration": 170,
    "start_time": "2022-09-17T15:47:50.361Z"
   },
   {
    "duration": 36,
    "start_time": "2022-09-17T15:47:50.533Z"
   },
   {
    "duration": 135,
    "start_time": "2022-09-17T15:47:50.570Z"
   },
   {
    "duration": 42,
    "start_time": "2022-09-17T15:47:50.707Z"
   },
   {
    "duration": 29,
    "start_time": "2022-09-17T15:47:50.758Z"
   },
   {
    "duration": 262,
    "start_time": "2022-09-17T15:48:31.381Z"
   },
   {
    "duration": 242,
    "start_time": "2022-09-17T15:48:47.162Z"
   },
   {
    "duration": 257,
    "start_time": "2022-09-17T15:49:16.702Z"
   },
   {
    "duration": 490,
    "start_time": "2022-09-17T15:49:44.942Z"
   },
   {
    "duration": 381,
    "start_time": "2022-09-17T15:52:29.906Z"
   },
   {
    "duration": 119,
    "start_time": "2022-09-17T15:54:42.265Z"
   },
   {
    "duration": 597,
    "start_time": "2022-09-17T15:55:04.277Z"
   },
   {
    "duration": 647,
    "start_time": "2022-09-17T15:55:23.174Z"
   },
   {
    "duration": 1408,
    "start_time": "2022-09-17T15:55:50.675Z"
   },
   {
    "duration": 618,
    "start_time": "2022-09-17T15:56:05.241Z"
   },
   {
    "duration": 212,
    "start_time": "2022-09-17T15:57:11.473Z"
   },
   {
    "duration": 782,
    "start_time": "2022-09-17T15:57:20.271Z"
   },
   {
    "duration": 526,
    "start_time": "2022-09-17T15:57:28.805Z"
   },
   {
    "duration": 602,
    "start_time": "2022-09-17T16:54:03.234Z"
   },
   {
    "duration": 458,
    "start_time": "2022-09-17T16:54:41.599Z"
   },
   {
    "duration": 446,
    "start_time": "2022-09-17T16:56:11.990Z"
   },
   {
    "duration": 965,
    "start_time": "2022-09-17T16:56:21.242Z"
   },
   {
    "duration": 344,
    "start_time": "2022-09-17T16:56:35.028Z"
   },
   {
    "duration": 118,
    "start_time": "2022-09-17T16:57:12.053Z"
   },
   {
    "duration": 11,
    "start_time": "2022-09-17T16:57:49.758Z"
   },
   {
    "duration": 117,
    "start_time": "2022-09-17T16:58:08.522Z"
   },
   {
    "duration": 130,
    "start_time": "2022-09-17T16:58:18.797Z"
   },
   {
    "duration": 997,
    "start_time": "2022-09-17T16:59:56.455Z"
   },
   {
    "duration": 139,
    "start_time": "2022-09-17T17:00:11.300Z"
   },
   {
    "duration": 249,
    "start_time": "2022-09-17T17:00:52.644Z"
   },
   {
    "duration": 255,
    "start_time": "2022-09-17T17:06:21.531Z"
   },
   {
    "duration": 399,
    "start_time": "2022-09-17T17:06:46.180Z"
   },
   {
    "duration": 350,
    "start_time": "2022-09-17T17:07:22.785Z"
   },
   {
    "duration": 10,
    "start_time": "2022-09-17T17:07:29.939Z"
   },
   {
    "duration": 264,
    "start_time": "2022-09-17T17:07:36.237Z"
   },
   {
    "duration": 17,
    "start_time": "2022-09-17T17:09:00.788Z"
   },
   {
    "duration": 10,
    "start_time": "2022-09-17T17:10:30.077Z"
   },
   {
    "duration": 104,
    "start_time": "2022-09-17T17:10:34.992Z"
   },
   {
    "duration": 16,
    "start_time": "2022-09-17T17:10:39.329Z"
   },
   {
    "duration": 13,
    "start_time": "2022-09-17T17:10:43.868Z"
   },
   {
    "duration": 236,
    "start_time": "2022-09-17T17:14:41.681Z"
   },
   {
    "duration": 995,
    "start_time": "2022-09-17T17:15:04.557Z"
   },
   {
    "duration": 276,
    "start_time": "2022-09-17T17:15:13.605Z"
   },
   {
    "duration": 109,
    "start_time": "2022-09-17T17:26:47.644Z"
   },
   {
    "duration": 108,
    "start_time": "2022-09-17T17:26:58.552Z"
   },
   {
    "duration": 135,
    "start_time": "2022-09-17T17:27:41.306Z"
   },
   {
    "duration": 468,
    "start_time": "2022-09-17T17:28:55.689Z"
   },
   {
    "duration": 306,
    "start_time": "2022-09-17T17:29:04.691Z"
   },
   {
    "duration": 280,
    "start_time": "2022-09-17T17:29:31.562Z"
   },
   {
    "duration": 274,
    "start_time": "2022-09-17T17:30:05.071Z"
   },
   {
    "duration": 292,
    "start_time": "2022-09-17T17:30:14.870Z"
   },
   {
    "duration": 279,
    "start_time": "2022-09-17T17:30:25.382Z"
   },
   {
    "duration": 271,
    "start_time": "2022-09-17T17:30:40.978Z"
   },
   {
    "duration": 276,
    "start_time": "2022-09-17T17:31:40.231Z"
   },
   {
    "duration": 376,
    "start_time": "2022-09-17T17:31:50.906Z"
   },
   {
    "duration": 444,
    "start_time": "2022-09-17T17:32:03.551Z"
   },
   {
    "duration": 361,
    "start_time": "2022-09-17T17:32:20.158Z"
   },
   {
    "duration": 581,
    "start_time": "2022-09-17T17:32:43.838Z"
   },
   {
    "duration": 264,
    "start_time": "2022-09-17T17:32:59.236Z"
   },
   {
    "duration": 263,
    "start_time": "2022-09-17T17:33:07.423Z"
   },
   {
    "duration": 316,
    "start_time": "2022-09-17T17:33:14.435Z"
   },
   {
    "duration": 340,
    "start_time": "2022-09-17T17:33:23.702Z"
   },
   {
    "duration": 348,
    "start_time": "2022-09-17T17:33:38.204Z"
   },
   {
    "duration": 409,
    "start_time": "2022-09-17T17:33:46.943Z"
   },
   {
    "duration": 157,
    "start_time": "2022-09-17T17:34:17.993Z"
   },
   {
    "duration": 2,
    "start_time": "2022-09-17T17:40:58.536Z"
   },
   {
    "duration": 2,
    "start_time": "2022-09-17T17:42:03.682Z"
   },
   {
    "duration": 436,
    "start_time": "2022-09-17T18:31:57.560Z"
   },
   {
    "duration": 411,
    "start_time": "2022-09-17T18:32:06.333Z"
   },
   {
    "duration": 387,
    "start_time": "2022-09-17T18:32:15.083Z"
   },
   {
    "duration": 391,
    "start_time": "2022-09-17T18:32:44.661Z"
   },
   {
    "duration": 237,
    "start_time": "2022-09-17T18:32:57.003Z"
   },
   {
    "duration": 19,
    "start_time": "2022-09-17T18:33:14.796Z"
   },
   {
    "duration": 217,
    "start_time": "2022-09-17T18:33:22.235Z"
   },
   {
    "duration": 164,
    "start_time": "2022-09-17T18:33:51.972Z"
   },
   {
    "duration": 553,
    "start_time": "2022-09-17T18:34:21.883Z"
   },
   {
    "duration": 307,
    "start_time": "2022-09-17T18:34:54.408Z"
   },
   {
    "duration": 243,
    "start_time": "2022-09-17T18:35:26.999Z"
   },
   {
    "duration": 1069,
    "start_time": "2022-09-17T18:35:46.754Z"
   },
   {
    "duration": 3,
    "start_time": "2022-09-17T18:35:47.831Z"
   },
   {
    "duration": 70,
    "start_time": "2022-09-17T18:35:47.836Z"
   },
   {
    "duration": 32,
    "start_time": "2022-09-17T18:35:47.908Z"
   },
   {
    "duration": 16,
    "start_time": "2022-09-17T18:35:47.942Z"
   },
   {
    "duration": 5,
    "start_time": "2022-09-17T18:35:47.960Z"
   },
   {
    "duration": 18,
    "start_time": "2022-09-17T18:35:47.966Z"
   },
   {
    "duration": 154,
    "start_time": "2022-09-17T18:35:47.985Z"
   },
   {
    "duration": 555,
    "start_time": "2022-09-17T18:35:48.141Z"
   },
   {
    "duration": 56,
    "start_time": "2022-09-17T18:35:48.698Z"
   },
   {
    "duration": 9,
    "start_time": "2022-09-17T18:35:48.756Z"
   },
   {
    "duration": 131,
    "start_time": "2022-09-17T18:35:48.766Z"
   },
   {
    "duration": 14,
    "start_time": "2022-09-17T18:35:48.898Z"
   },
   {
    "duration": 384,
    "start_time": "2022-09-17T18:35:48.913Z"
   },
   {
    "duration": 83,
    "start_time": "2022-09-17T18:35:49.299Z"
   },
   {
    "duration": 10,
    "start_time": "2022-09-17T18:35:49.384Z"
   },
   {
    "duration": 127,
    "start_time": "2022-09-17T18:35:49.395Z"
   },
   {
    "duration": 15,
    "start_time": "2022-09-17T18:35:49.524Z"
   },
   {
    "duration": 13,
    "start_time": "2022-09-17T18:35:49.541Z"
   },
   {
    "duration": 118,
    "start_time": "2022-09-17T18:35:49.556Z"
   },
   {
    "duration": 71,
    "start_time": "2022-09-17T18:35:49.676Z"
   },
   {
    "duration": 15,
    "start_time": "2022-09-17T18:35:49.749Z"
   },
   {
    "duration": 231,
    "start_time": "2022-09-17T18:35:49.765Z"
   },
   {
    "duration": 12,
    "start_time": "2022-09-17T18:35:49.997Z"
   },
   {
    "duration": 163,
    "start_time": "2022-09-17T18:35:50.010Z"
   },
   {
    "duration": 25,
    "start_time": "2022-09-17T18:35:50.174Z"
   },
   {
    "duration": 132,
    "start_time": "2022-09-17T18:35:50.200Z"
   },
   {
    "duration": 10,
    "start_time": "2022-09-17T18:35:50.336Z"
   },
   {
    "duration": 15,
    "start_time": "2022-09-17T18:35:50.347Z"
   },
   {
    "duration": 210,
    "start_time": "2022-09-17T18:35:50.363Z"
   },
   {
    "duration": 210,
    "start_time": "2022-09-17T18:40:06.582Z"
   },
   {
    "duration": 199,
    "start_time": "2022-09-17T18:40:49.892Z"
   },
   {
    "duration": 124,
    "start_time": "2022-09-17T18:40:56.961Z"
   },
   {
    "duration": 4,
    "start_time": "2022-09-17T18:43:03.162Z"
   },
   {
    "duration": 9,
    "start_time": "2022-09-17T18:43:08.172Z"
   },
   {
    "duration": 231,
    "start_time": "2022-09-17T18:43:42.905Z"
   },
   {
    "duration": 7,
    "start_time": "2022-09-17T18:44:18.499Z"
   },
   {
    "duration": 8,
    "start_time": "2022-09-17T18:44:50.199Z"
   },
   {
    "duration": 13,
    "start_time": "2022-09-17T18:46:01.401Z"
   },
   {
    "duration": 5,
    "start_time": "2022-09-17T18:48:03.194Z"
   },
   {
    "duration": 144,
    "start_time": "2022-09-17T19:07:13.130Z"
   },
   {
    "duration": 127,
    "start_time": "2022-09-17T19:07:28.153Z"
   },
   {
    "duration": 145,
    "start_time": "2022-09-17T19:20:57.285Z"
   },
   {
    "duration": 325,
    "start_time": "2022-09-17T19:23:18.821Z"
   },
   {
    "duration": 5,
    "start_time": "2022-09-17T19:26:26.038Z"
   },
   {
    "duration": 5,
    "start_time": "2022-09-17T19:26:38.552Z"
   },
   {
    "duration": 1109,
    "start_time": "2022-09-17T19:32:15.188Z"
   },
   {
    "duration": 2,
    "start_time": "2022-09-17T19:32:16.299Z"
   },
   {
    "duration": 92,
    "start_time": "2022-09-17T19:32:16.302Z"
   },
   {
    "duration": 11,
    "start_time": "2022-09-17T19:32:16.396Z"
   },
   {
    "duration": 24,
    "start_time": "2022-09-17T19:32:16.419Z"
   },
   {
    "duration": 6,
    "start_time": "2022-09-17T19:32:16.444Z"
   },
   {
    "duration": 17,
    "start_time": "2022-09-17T19:32:16.451Z"
   },
   {
    "duration": 166,
    "start_time": "2022-09-17T19:32:16.470Z"
   },
   {
    "duration": 588,
    "start_time": "2022-09-17T19:32:16.640Z"
   },
   {
    "duration": 32,
    "start_time": "2022-09-17T19:32:17.231Z"
   },
   {
    "duration": 10,
    "start_time": "2022-09-17T19:32:17.264Z"
   },
   {
    "duration": 129,
    "start_time": "2022-09-17T19:32:17.276Z"
   },
   {
    "duration": 24,
    "start_time": "2022-09-17T19:32:17.407Z"
   },
   {
    "duration": 364,
    "start_time": "2022-09-17T19:32:17.432Z"
   },
   {
    "duration": 87,
    "start_time": "2022-09-17T19:32:17.798Z"
   },
   {
    "duration": 8,
    "start_time": "2022-09-17T19:32:17.887Z"
   },
   {
    "duration": 157,
    "start_time": "2022-09-17T19:32:17.897Z"
   },
   {
    "duration": 7,
    "start_time": "2022-09-17T19:32:18.056Z"
   },
   {
    "duration": 40,
    "start_time": "2022-09-17T19:32:18.065Z"
   },
   {
    "duration": 157,
    "start_time": "2022-09-17T19:32:18.107Z"
   },
   {
    "duration": 32,
    "start_time": "2022-09-17T19:32:18.266Z"
   },
   {
    "duration": 23,
    "start_time": "2022-09-17T19:32:18.300Z"
   },
   {
    "duration": 26,
    "start_time": "2022-09-17T19:32:18.324Z"
   },
   {
    "duration": 154,
    "start_time": "2022-09-17T19:32:18.352Z"
   },
   {
    "duration": 28,
    "start_time": "2022-09-17T19:32:18.512Z"
   },
   {
    "duration": 236,
    "start_time": "2022-09-17T19:32:18.548Z"
   },
   {
    "duration": 4,
    "start_time": "2022-09-17T19:32:18.785Z"
   },
   {
    "duration": 35,
    "start_time": "2022-09-17T19:32:18.792Z"
   },
   {
    "duration": 124,
    "start_time": "2022-09-17T19:32:18.829Z"
   },
   {
    "duration": 11,
    "start_time": "2022-09-17T19:32:18.954Z"
   },
   {
    "duration": 17,
    "start_time": "2022-09-17T19:32:18.966Z"
   },
   {
    "duration": 261,
    "start_time": "2022-09-17T19:32:18.984Z"
   },
   {
    "duration": 24,
    "start_time": "2022-09-17T19:35:24.803Z"
   },
   {
    "duration": 10,
    "start_time": "2022-09-17T19:36:37.875Z"
   },
   {
    "duration": 1067,
    "start_time": "2022-09-17T19:43:06.553Z"
   },
   {
    "duration": 7,
    "start_time": "2022-09-17T19:43:07.625Z"
   },
   {
    "duration": 67,
    "start_time": "2022-09-17T19:43:07.635Z"
   },
   {
    "duration": 32,
    "start_time": "2022-09-17T19:43:07.704Z"
   },
   {
    "duration": 18,
    "start_time": "2022-09-17T19:43:07.738Z"
   },
   {
    "duration": 4,
    "start_time": "2022-09-17T19:43:07.757Z"
   },
   {
    "duration": 15,
    "start_time": "2022-09-17T19:43:07.763Z"
   },
   {
    "duration": 156,
    "start_time": "2022-09-17T19:43:07.780Z"
   },
   {
    "duration": 553,
    "start_time": "2022-09-17T19:43:07.938Z"
   },
   {
    "duration": 38,
    "start_time": "2022-09-17T19:43:08.493Z"
   },
   {
    "duration": 10,
    "start_time": "2022-09-17T19:43:08.532Z"
   },
   {
    "duration": 114,
    "start_time": "2022-09-17T19:43:08.544Z"
   },
   {
    "duration": 14,
    "start_time": "2022-09-17T19:43:08.659Z"
   },
   {
    "duration": 365,
    "start_time": "2022-09-17T19:43:08.675Z"
   },
   {
    "duration": 9,
    "start_time": "2022-09-17T19:43:09.042Z"
   },
   {
    "duration": 81,
    "start_time": "2022-09-17T19:43:09.052Z"
   },
   {
    "duration": 10,
    "start_time": "2022-09-17T19:43:09.135Z"
   },
   {
    "duration": 112,
    "start_time": "2022-09-17T19:43:09.146Z"
   },
   {
    "duration": 8,
    "start_time": "2022-09-17T19:43:09.259Z"
   },
   {
    "duration": 11,
    "start_time": "2022-09-17T19:43:09.268Z"
   },
   {
    "duration": 118,
    "start_time": "2022-09-17T19:43:09.280Z"
   },
   {
    "duration": 53,
    "start_time": "2022-09-17T19:43:09.400Z"
   },
   {
    "duration": 13,
    "start_time": "2022-09-17T19:43:09.454Z"
   },
   {
    "duration": 10,
    "start_time": "2022-09-17T19:43:09.469Z"
   },
   {
    "duration": 126,
    "start_time": "2022-09-17T19:43:09.481Z"
   },
   {
    "duration": 22,
    "start_time": "2022-09-17T19:43:09.613Z"
   },
   {
    "duration": 212,
    "start_time": "2022-09-17T19:43:09.637Z"
   },
   {
    "duration": 5,
    "start_time": "2022-09-17T19:43:09.851Z"
   },
   {
    "duration": 26,
    "start_time": "2022-09-17T19:43:09.857Z"
   },
   {
    "duration": 147,
    "start_time": "2022-09-17T19:43:09.884Z"
   },
   {
    "duration": 11,
    "start_time": "2022-09-17T19:43:10.037Z"
   },
   {
    "duration": 29,
    "start_time": "2022-09-17T19:43:10.049Z"
   },
   {
    "duration": 219,
    "start_time": "2022-09-17T19:43:10.080Z"
   },
   {
    "duration": 27,
    "start_time": "2022-09-17T19:43:10.300Z"
   },
   {
    "duration": 42,
    "start_time": "2022-09-19T10:05:45.039Z"
   },
   {
    "duration": 1143,
    "start_time": "2022-09-19T10:05:51.464Z"
   },
   {
    "duration": 2,
    "start_time": "2022-09-19T10:05:52.609Z"
   },
   {
    "duration": 195,
    "start_time": "2022-09-19T10:05:52.612Z"
   },
   {
    "duration": 11,
    "start_time": "2022-09-19T10:05:52.809Z"
   },
   {
    "duration": 20,
    "start_time": "2022-09-19T10:05:52.821Z"
   },
   {
    "duration": 4,
    "start_time": "2022-09-19T10:05:52.843Z"
   },
   {
    "duration": 17,
    "start_time": "2022-09-19T10:05:52.848Z"
   },
   {
    "duration": 136,
    "start_time": "2022-09-19T10:05:52.867Z"
   },
   {
    "duration": 545,
    "start_time": "2022-09-19T10:05:53.004Z"
   },
   {
    "duration": 82,
    "start_time": "2022-09-19T10:05:53.551Z"
   },
   {
    "duration": 10,
    "start_time": "2022-09-19T10:05:53.635Z"
   },
   {
    "duration": 125,
    "start_time": "2022-09-19T10:05:53.647Z"
   },
   {
    "duration": 15,
    "start_time": "2022-09-19T10:05:53.774Z"
   },
   {
    "duration": 353,
    "start_time": "2022-09-19T10:05:53.791Z"
   },
   {
    "duration": 10,
    "start_time": "2022-09-19T10:05:54.146Z"
   },
   {
    "duration": 91,
    "start_time": "2022-09-19T10:05:54.158Z"
   },
   {
    "duration": 9,
    "start_time": "2022-09-19T10:05:54.251Z"
   },
   {
    "duration": 112,
    "start_time": "2022-09-19T10:05:54.261Z"
   },
   {
    "duration": 6,
    "start_time": "2022-09-19T10:05:54.375Z"
   },
   {
    "duration": 15,
    "start_time": "2022-09-19T10:05:54.382Z"
   },
   {
    "duration": 100,
    "start_time": "2022-09-19T10:05:54.398Z"
   },
   {
    "duration": 103,
    "start_time": "2022-09-19T10:05:54.500Z"
   },
   {
    "duration": 13,
    "start_time": "2022-09-19T10:05:54.605Z"
   },
   {
    "duration": 9,
    "start_time": "2022-09-19T10:05:54.620Z"
   },
   {
    "duration": 126,
    "start_time": "2022-09-19T10:05:54.631Z"
   },
   {
    "duration": 8,
    "start_time": "2022-09-19T10:05:54.758Z"
   },
   {
    "duration": 215,
    "start_time": "2022-09-19T10:05:54.768Z"
   },
   {
    "duration": 4,
    "start_time": "2022-09-19T10:05:54.986Z"
   },
   {
    "duration": 49,
    "start_time": "2022-09-19T10:05:54.992Z"
   },
   {
    "duration": 120,
    "start_time": "2022-09-19T10:05:55.043Z"
   },
   {
    "duration": 10,
    "start_time": "2022-09-19T10:05:55.165Z"
   },
   {
    "duration": 14,
    "start_time": "2022-09-19T10:05:55.176Z"
   },
   {
    "duration": 270,
    "start_time": "2022-09-19T10:05:55.192Z"
   },
   {
    "duration": 11,
    "start_time": "2022-09-19T10:05:55.464Z"
   },
   {
    "duration": 12,
    "start_time": "2022-09-19T10:05:55.476Z"
   },
   {
    "duration": 6,
    "start_time": "2022-09-19T10:09:34.086Z"
   },
   {
    "duration": 97,
    "start_time": "2022-09-19T10:11:08.882Z"
   },
   {
    "duration": 4,
    "start_time": "2022-09-19T10:13:14.716Z"
   },
   {
    "duration": 13,
    "start_time": "2022-09-19T10:13:23.420Z"
   },
   {
    "duration": 29,
    "start_time": "2022-09-19T10:13:35.260Z"
   },
   {
    "duration": 14,
    "start_time": "2022-09-19T10:14:05.137Z"
   },
   {
    "duration": 10,
    "start_time": "2022-09-19T10:14:31.912Z"
   },
   {
    "duration": 11,
    "start_time": "2022-09-19T10:15:29.096Z"
   },
   {
    "duration": 8,
    "start_time": "2022-09-19T10:20:05.267Z"
   },
   {
    "duration": 7,
    "start_time": "2022-09-19T10:20:17.038Z"
   },
   {
    "duration": 7,
    "start_time": "2022-09-19T10:20:31.478Z"
   },
   {
    "duration": 15,
    "start_time": "2022-09-19T10:20:41.119Z"
   },
   {
    "duration": 6,
    "start_time": "2022-09-19T10:21:16.940Z"
   },
   {
    "duration": 7,
    "start_time": "2022-09-19T10:21:23.411Z"
   },
   {
    "duration": 13,
    "start_time": "2022-09-19T10:21:52.537Z"
   },
   {
    "duration": 6,
    "start_time": "2022-09-19T10:22:10.152Z"
   },
   {
    "duration": 6,
    "start_time": "2022-09-19T10:23:45.233Z"
   },
   {
    "duration": 8,
    "start_time": "2022-09-19T10:23:50.700Z"
   },
   {
    "duration": 7,
    "start_time": "2022-09-19T10:24:10.974Z"
   },
   {
    "duration": 337,
    "start_time": "2022-09-19T10:24:41.480Z"
   },
   {
    "duration": 10,
    "start_time": "2022-09-19T10:24:46.459Z"
   },
   {
    "duration": 7,
    "start_time": "2022-09-19T10:25:02.678Z"
   },
   {
    "duration": 13,
    "start_time": "2022-09-19T10:25:08.358Z"
   },
   {
    "duration": 16,
    "start_time": "2022-09-19T10:25:19.220Z"
   },
   {
    "duration": 13,
    "start_time": "2022-09-19T10:25:57.132Z"
   },
   {
    "duration": 9,
    "start_time": "2022-09-19T10:26:10.851Z"
   },
   {
    "duration": 13,
    "start_time": "2022-09-19T10:28:21.249Z"
   },
   {
    "duration": 11,
    "start_time": "2022-09-19T10:34:18.196Z"
   },
   {
    "duration": 15,
    "start_time": "2022-09-19T10:34:30.952Z"
   },
   {
    "duration": 9,
    "start_time": "2022-09-19T10:36:55.647Z"
   },
   {
    "duration": 219,
    "start_time": "2022-09-19T10:38:54.564Z"
   },
   {
    "duration": 26,
    "start_time": "2022-09-19T10:39:23.493Z"
   },
   {
    "duration": 7,
    "start_time": "2022-09-19T10:39:28.412Z"
   },
   {
    "duration": 25,
    "start_time": "2022-09-19T10:39:29.518Z"
   },
   {
    "duration": 217,
    "start_time": "2022-09-19T10:51:37.518Z"
   },
   {
    "duration": 120,
    "start_time": "2022-09-19T10:52:06.906Z"
   },
   {
    "duration": 6,
    "start_time": "2022-09-19T10:52:19.609Z"
   },
   {
    "duration": 12,
    "start_time": "2022-09-19T10:52:27.416Z"
   },
   {
    "duration": 148,
    "start_time": "2022-09-19T10:54:40.284Z"
   },
   {
    "duration": 13,
    "start_time": "2022-09-19T12:15:10.258Z"
   },
   {
    "duration": 7,
    "start_time": "2022-09-19T12:16:23.207Z"
   },
   {
    "duration": 12,
    "start_time": "2022-09-19T12:16:29.697Z"
   },
   {
    "duration": 13,
    "start_time": "2022-09-19T12:17:00.835Z"
   },
   {
    "duration": 8,
    "start_time": "2022-09-19T12:17:06.043Z"
   },
   {
    "duration": 13,
    "start_time": "2022-09-19T12:17:13.050Z"
   },
   {
    "duration": 16,
    "start_time": "2022-09-19T12:17:33.177Z"
   },
   {
    "duration": 7,
    "start_time": "2022-09-19T12:17:38.333Z"
   },
   {
    "duration": 8,
    "start_time": "2022-09-19T12:18:20.769Z"
   },
   {
    "duration": 18,
    "start_time": "2022-09-19T12:18:28.317Z"
   },
   {
    "duration": 13,
    "start_time": "2022-09-19T12:19:06.280Z"
   },
   {
    "duration": 29,
    "start_time": "2022-09-19T22:10:28.515Z"
   },
   {
    "duration": 3,
    "start_time": "2022-09-19T22:12:01.315Z"
   },
   {
    "duration": 11,
    "start_time": "2022-09-19T22:12:06.997Z"
   },
   {
    "duration": 19,
    "start_time": "2022-09-19T22:13:19.116Z"
   },
   {
    "duration": 23,
    "start_time": "2022-09-19T22:13:56.465Z"
   },
   {
    "duration": 21,
    "start_time": "2022-09-19T22:14:16.349Z"
   },
   {
    "duration": 32,
    "start_time": "2022-09-19T22:14:40.253Z"
   },
   {
    "duration": 7,
    "start_time": "2022-09-19T22:18:44.714Z"
   },
   {
    "duration": 8,
    "start_time": "2022-09-19T22:18:50.058Z"
   },
   {
    "duration": 2,
    "start_time": "2022-09-19T22:18:59.875Z"
   },
   {
    "duration": 3,
    "start_time": "2022-09-19T22:19:11.105Z"
   },
   {
    "duration": 1059,
    "start_time": "2022-09-19T22:19:42.136Z"
   },
   {
    "duration": 3,
    "start_time": "2022-09-19T22:19:43.197Z"
   },
   {
    "duration": 81,
    "start_time": "2022-09-19T22:19:43.201Z"
   },
   {
    "duration": 10,
    "start_time": "2022-09-19T22:19:43.284Z"
   },
   {
    "duration": 15,
    "start_time": "2022-09-19T22:19:43.295Z"
   },
   {
    "duration": 4,
    "start_time": "2022-09-19T22:19:43.312Z"
   },
   {
    "duration": 28,
    "start_time": "2022-09-19T22:19:43.317Z"
   },
   {
    "duration": 126,
    "start_time": "2022-09-19T22:19:43.351Z"
   },
   {
    "duration": 576,
    "start_time": "2022-09-19T22:19:43.478Z"
   },
   {
    "duration": 30,
    "start_time": "2022-09-19T22:19:44.057Z"
   },
   {
    "duration": 9,
    "start_time": "2022-09-19T22:19:44.088Z"
   },
   {
    "duration": 120,
    "start_time": "2022-09-19T22:19:44.098Z"
   },
   {
    "duration": 20,
    "start_time": "2022-09-19T22:19:44.227Z"
   },
   {
    "duration": 368,
    "start_time": "2022-09-19T22:19:44.248Z"
   },
   {
    "duration": 12,
    "start_time": "2022-09-19T22:19:44.618Z"
   },
   {
    "duration": 84,
    "start_time": "2022-09-19T22:19:44.632Z"
   },
   {
    "duration": 20,
    "start_time": "2022-09-19T22:19:44.718Z"
   },
   {
    "duration": 113,
    "start_time": "2022-09-19T22:19:44.742Z"
   },
   {
    "duration": 6,
    "start_time": "2022-09-19T22:19:44.857Z"
   },
   {
    "duration": 11,
    "start_time": "2022-09-19T22:19:44.865Z"
   },
   {
    "duration": 101,
    "start_time": "2022-09-19T22:19:44.877Z"
   },
   {
    "duration": 31,
    "start_time": "2022-09-19T22:19:44.979Z"
   },
   {
    "duration": 20,
    "start_time": "2022-09-19T22:19:45.012Z"
   },
   {
    "duration": 19,
    "start_time": "2022-09-19T22:19:45.037Z"
   },
   {
    "duration": 122,
    "start_time": "2022-09-19T22:19:45.057Z"
   },
   {
    "duration": 9,
    "start_time": "2022-09-19T22:19:45.180Z"
   },
   {
    "duration": 220,
    "start_time": "2022-09-19T22:19:45.190Z"
   },
   {
    "duration": 25,
    "start_time": "2022-09-19T22:19:45.413Z"
   },
   {
    "duration": 27,
    "start_time": "2022-09-19T22:19:45.447Z"
   },
   {
    "duration": 170,
    "start_time": "2022-09-19T22:19:45.476Z"
   },
   {
    "duration": 10,
    "start_time": "2022-09-19T22:19:45.651Z"
   },
   {
    "duration": 15,
    "start_time": "2022-09-19T22:19:45.663Z"
   },
   {
    "duration": 530,
    "start_time": "2022-09-19T22:19:45.731Z"
   },
   {
    "duration": 65,
    "start_time": "2022-09-19T22:19:46.263Z"
   },
   {
    "duration": 13,
    "start_time": "2022-09-19T22:19:46.330Z"
   },
   {
    "duration": 16,
    "start_time": "2022-09-19T22:19:46.351Z"
   },
   {
    "duration": 9,
    "start_time": "2022-09-19T22:19:46.368Z"
   },
   {
    "duration": 12,
    "start_time": "2022-09-19T22:19:46.425Z"
   },
   {
    "duration": 23,
    "start_time": "2022-09-19T22:19:46.439Z"
   },
   {
    "duration": 15,
    "start_time": "2022-09-19T22:19:46.464Z"
   },
   {
    "duration": 240,
    "start_time": "2022-09-19T22:19:46.522Z"
   },
   {
    "duration": 60,
    "start_time": "2022-09-19T22:19:46.764Z"
   },
   {
    "duration": 41,
    "start_time": "2022-09-19T22:19:46.827Z"
   },
   {
    "duration": 11,
    "start_time": "2022-09-19T22:19:46.869Z"
   },
   {
    "duration": 53,
    "start_time": "2022-09-19T22:19:46.881Z"
   },
   {
    "duration": 40,
    "start_time": "2022-09-19T22:19:46.936Z"
   },
   {
    "duration": 73,
    "start_time": "2022-09-19T22:19:46.977Z"
   },
   {
    "duration": 100,
    "start_time": "2022-09-19T22:19:47.051Z"
   },
   {
    "duration": 206,
    "start_time": "2022-09-19T22:19:47.153Z"
   },
   {
    "duration": 7,
    "start_time": "2022-09-19T22:20:43.702Z"
   },
   {
    "duration": 1031,
    "start_time": "2022-09-19T22:20:51.457Z"
   },
   {
    "duration": 2,
    "start_time": "2022-09-19T22:20:52.490Z"
   },
   {
    "duration": 98,
    "start_time": "2022-09-19T22:20:52.493Z"
   },
   {
    "duration": 10,
    "start_time": "2022-09-19T22:20:52.593Z"
   },
   {
    "duration": 19,
    "start_time": "2022-09-19T22:20:52.605Z"
   },
   {
    "duration": 23,
    "start_time": "2022-09-19T22:20:52.627Z"
   },
   {
    "duration": 19,
    "start_time": "2022-09-19T22:20:52.652Z"
   },
   {
    "duration": 125,
    "start_time": "2022-09-19T22:20:52.672Z"
   },
   {
    "duration": 545,
    "start_time": "2022-09-19T22:20:52.798Z"
   },
   {
    "duration": 35,
    "start_time": "2022-09-19T22:20:53.345Z"
   },
   {
    "duration": 10,
    "start_time": "2022-09-19T22:20:53.382Z"
   },
   {
    "duration": 122,
    "start_time": "2022-09-19T22:20:53.393Z"
   },
   {
    "duration": 42,
    "start_time": "2022-09-19T22:20:53.517Z"
   },
   {
    "duration": 352,
    "start_time": "2022-09-19T22:20:53.561Z"
   },
   {
    "duration": 15,
    "start_time": "2022-09-19T22:20:53.915Z"
   },
   {
    "duration": 71,
    "start_time": "2022-09-19T22:20:53.932Z"
   },
   {
    "duration": 9,
    "start_time": "2022-09-19T22:20:54.004Z"
   },
   {
    "duration": 116,
    "start_time": "2022-09-19T22:20:54.014Z"
   },
   {
    "duration": 18,
    "start_time": "2022-09-19T22:20:54.132Z"
   },
   {
    "duration": 13,
    "start_time": "2022-09-19T22:20:54.152Z"
   },
   {
    "duration": 92,
    "start_time": "2022-09-19T22:20:54.166Z"
   },
   {
    "duration": 30,
    "start_time": "2022-09-19T22:20:54.260Z"
   },
   {
    "duration": 13,
    "start_time": "2022-09-19T22:20:54.292Z"
   },
   {
    "duration": 9,
    "start_time": "2022-09-19T22:20:54.306Z"
   },
   {
    "duration": 145,
    "start_time": "2022-09-19T22:20:54.316Z"
   },
   {
    "duration": 8,
    "start_time": "2022-09-19T22:20:54.463Z"
   },
   {
    "duration": 226,
    "start_time": "2022-09-19T22:20:54.472Z"
   },
   {
    "duration": 4,
    "start_time": "2022-09-19T22:20:54.701Z"
   },
   {
    "duration": 41,
    "start_time": "2022-09-19T22:20:54.706Z"
   },
   {
    "duration": 113,
    "start_time": "2022-09-19T22:20:54.749Z"
   },
   {
    "duration": 9,
    "start_time": "2022-09-19T22:20:54.864Z"
   },
   {
    "duration": 15,
    "start_time": "2022-09-19T22:20:54.874Z"
   },
   {
    "duration": 215,
    "start_time": "2022-09-19T22:20:54.891Z"
   },
   {
    "duration": 21,
    "start_time": "2022-09-19T22:20:55.108Z"
   },
   {
    "duration": 16,
    "start_time": "2022-09-19T22:20:55.139Z"
   },
   {
    "duration": 14,
    "start_time": "2022-09-19T22:20:55.157Z"
   },
   {
    "duration": 9,
    "start_time": "2022-09-19T22:20:55.173Z"
   },
   {
    "duration": 11,
    "start_time": "2022-09-19T22:20:55.183Z"
   },
   {
    "duration": 5,
    "start_time": "2022-09-19T22:20:55.195Z"
   },
   {
    "duration": 32,
    "start_time": "2022-09-19T22:20:55.201Z"
   },
   {
    "duration": 152,
    "start_time": "2022-09-19T22:20:55.235Z"
   },
   {
    "duration": 5,
    "start_time": "2022-09-19T22:20:55.389Z"
   },
   {
    "duration": 9,
    "start_time": "2022-09-19T22:20:55.396Z"
   },
   {
    "duration": 11,
    "start_time": "2022-09-19T22:20:55.406Z"
   },
   {
    "duration": 38,
    "start_time": "2022-09-19T22:20:55.421Z"
   },
   {
    "duration": 24,
    "start_time": "2022-09-19T22:20:55.461Z"
   },
   {
    "duration": 22,
    "start_time": "2022-09-19T22:20:55.487Z"
   },
   {
    "duration": 40,
    "start_time": "2022-09-19T22:20:55.510Z"
   },
   {
    "duration": 101,
    "start_time": "2022-09-19T22:20:55.552Z"
   },
   {
    "duration": 5,
    "start_time": "2022-09-19T22:21:39.485Z"
   },
   {
    "duration": 4,
    "start_time": "2022-09-19T22:21:55.702Z"
   },
   {
    "duration": 8,
    "start_time": "2022-09-19T22:23:30.113Z"
   },
   {
    "duration": 346,
    "start_time": "2022-09-19T22:24:38.762Z"
   },
   {
    "duration": 25,
    "start_time": "2022-09-19T22:24:51.422Z"
   },
   {
    "duration": 5,
    "start_time": "2022-09-19T22:25:05.009Z"
   },
   {
    "duration": 41,
    "start_time": "2022-09-19T22:28:50.879Z"
   },
   {
    "duration": 18,
    "start_time": "2022-09-19T22:30:23.577Z"
   },
   {
    "duration": 2,
    "start_time": "2022-09-19T22:30:50.600Z"
   },
   {
    "duration": 14,
    "start_time": "2022-09-19T22:42:13.799Z"
   },
   {
    "duration": 10,
    "start_time": "2022-09-19T22:42:28.742Z"
   },
   {
    "duration": 3,
    "start_time": "2022-09-19T22:42:34.681Z"
   },
   {
    "duration": 54986,
    "start_time": "2022-09-19T22:43:23.194Z"
   },
   {
    "duration": 22139,
    "start_time": "2022-09-19T22:44:31.235Z"
   },
   {
    "duration": 1318,
    "start_time": "2022-09-19T22:47:03.345Z"
   },
   {
    "duration": 101,
    "start_time": "2022-09-19T22:48:02.491Z"
   },
   {
    "duration": 29,
    "start_time": "2022-09-19T22:48:08.509Z"
   },
   {
    "duration": 3,
    "start_time": "2022-09-19T22:49:56.298Z"
   },
   {
    "duration": 11,
    "start_time": "2022-09-19T22:50:35.839Z"
   },
   {
    "duration": 22379,
    "start_time": "2022-09-19T22:51:33.539Z"
   },
   {
    "duration": 106,
    "start_time": "2022-09-19T22:52:04.374Z"
   },
   {
    "duration": 682,
    "start_time": "2022-09-19T22:52:19.456Z"
   },
   {
    "duration": 5,
    "start_time": "2022-09-19T22:52:38.190Z"
   },
   {
    "duration": 744,
    "start_time": "2022-09-19T22:53:00.006Z"
   },
   {
    "duration": 20738,
    "start_time": "2022-09-19T22:53:08.476Z"
   },
   {
    "duration": 633,
    "start_time": "2022-09-19T22:53:29.215Z"
   },
   {
    "duration": 5,
    "start_time": "2022-09-19T22:53:29.850Z"
   },
   {
    "duration": 22023,
    "start_time": "2022-09-19T22:55:09.050Z"
   },
   {
    "duration": 595,
    "start_time": "2022-09-19T22:55:31.075Z"
   },
   {
    "duration": 5,
    "start_time": "2022-09-19T22:55:31.671Z"
   },
   {
    "duration": 7,
    "start_time": "2022-09-19T22:56:31.339Z"
   },
   {
    "duration": 6,
    "start_time": "2022-09-19T22:56:54.065Z"
   },
   {
    "duration": 16787,
    "start_time": "2022-09-19T22:57:41.929Z"
   },
   {
    "duration": 548,
    "start_time": "2022-09-19T22:57:58.718Z"
   },
   {
    "duration": 7,
    "start_time": "2022-09-19T22:57:59.267Z"
   },
   {
    "duration": 12015,
    "start_time": "2022-09-19T22:59:50.082Z"
   },
   {
    "duration": 878,
    "start_time": "2022-09-19T23:00:02.099Z"
   },
   {
    "duration": 7,
    "start_time": "2022-09-19T23:00:02.978Z"
   },
   {
    "duration": 26470,
    "start_time": "2022-09-19T23:00:44.936Z"
   },
   {
    "duration": 579,
    "start_time": "2022-09-19T23:01:11.408Z"
   },
   {
    "duration": 8,
    "start_time": "2022-09-19T23:01:11.989Z"
   },
   {
    "duration": 34044,
    "start_time": "2022-09-19T23:01:43.112Z"
   },
   {
    "duration": 554,
    "start_time": "2022-09-19T23:02:17.158Z"
   },
   {
    "duration": 10,
    "start_time": "2022-09-19T23:02:17.714Z"
   },
   {
    "duration": 19831,
    "start_time": "2022-09-19T23:03:03.124Z"
   },
   {
    "duration": 581,
    "start_time": "2022-09-19T23:03:22.958Z"
   },
   {
    "duration": 6,
    "start_time": "2022-09-19T23:03:23.540Z"
   },
   {
    "duration": 43543,
    "start_time": "2022-09-19T23:04:07.695Z"
   },
   {
    "duration": 3968,
    "start_time": "2022-09-19T23:04:51.240Z"
   },
   {
    "duration": 8,
    "start_time": "2022-09-19T23:04:55.210Z"
   },
   {
    "duration": 3136,
    "start_time": "2022-09-19T23:06:16.132Z"
   },
   {
    "duration": 17705,
    "start_time": "2022-09-19T23:08:28.714Z"
   },
   {
    "duration": 597,
    "start_time": "2022-09-19T23:08:46.421Z"
   },
   {
    "duration": 7,
    "start_time": "2022-09-19T23:08:47.020Z"
   },
   {
    "duration": 18,
    "start_time": "2022-09-19T23:10:03.833Z"
   },
   {
    "duration": 14,
    "start_time": "2022-09-19T23:10:25.838Z"
   },
   {
    "duration": 10,
    "start_time": "2022-09-19T23:10:56.764Z"
   },
   {
    "duration": 3167,
    "start_time": "2022-09-19T23:11:26.504Z"
   },
   {
    "duration": 115,
    "start_time": "2022-09-19T23:13:56.207Z"
   },
   {
    "duration": 8060,
    "start_time": "2022-09-19T23:14:03.857Z"
   },
   {
    "duration": 788,
    "start_time": "2022-09-19T23:14:22.451Z"
   },
   {
    "duration": 7,
    "start_time": "2022-09-19T23:14:27.557Z"
   },
   {
    "duration": 15,
    "start_time": "2022-09-19T23:14:45.846Z"
   },
   {
    "duration": 750,
    "start_time": "2022-09-19T23:14:46.847Z"
   },
   {
    "duration": 18690,
    "start_time": "2022-09-19T23:14:58.713Z"
   },
   {
    "duration": 553,
    "start_time": "2022-09-19T23:15:17.405Z"
   },
   {
    "duration": 6,
    "start_time": "2022-09-19T23:15:17.960Z"
   },
   {
    "duration": 7716,
    "start_time": "2022-09-19T23:16:02.751Z"
   },
   {
    "duration": 605,
    "start_time": "2022-09-19T23:16:10.469Z"
   },
   {
    "duration": 8,
    "start_time": "2022-09-19T23:16:11.076Z"
   },
   {
    "duration": 14748,
    "start_time": "2022-09-19T23:16:31.294Z"
   },
   {
    "duration": 555,
    "start_time": "2022-09-19T23:16:46.045Z"
   },
   {
    "duration": 7,
    "start_time": "2022-09-19T23:16:46.601Z"
   },
   {
    "duration": 31119,
    "start_time": "2022-09-19T23:17:19.163Z"
   },
   {
    "duration": 780,
    "start_time": "2022-09-19T23:17:50.284Z"
   },
   {
    "duration": 9,
    "start_time": "2022-09-19T23:17:51.066Z"
   },
   {
    "duration": 23107,
    "start_time": "2022-09-19T23:18:12.077Z"
   },
   {
    "duration": 1044,
    "start_time": "2022-09-19T23:18:35.186Z"
   },
   {
    "duration": 9,
    "start_time": "2022-09-19T23:18:36.234Z"
   },
   {
    "duration": 25928,
    "start_time": "2022-09-19T23:19:12.532Z"
   },
   {
    "duration": 996,
    "start_time": "2022-09-19T23:19:38.463Z"
   },
   {
    "duration": 6,
    "start_time": "2022-09-19T23:19:39.460Z"
   },
   {
    "duration": 37132,
    "start_time": "2022-09-19T23:20:17.806Z"
   },
   {
    "duration": 1201,
    "start_time": "2022-09-19T23:20:54.940Z"
   },
   {
    "duration": 7,
    "start_time": "2022-09-19T23:20:56.142Z"
   },
   {
    "duration": 4,
    "start_time": "2022-09-19T23:25:01.314Z"
   },
   {
    "duration": 4,
    "start_time": "2022-09-19T23:25:21.301Z"
   },
   {
    "duration": 4,
    "start_time": "2022-09-19T23:32:56.807Z"
   },
   {
    "duration": 5,
    "start_time": "2022-09-19T23:33:11.681Z"
   },
   {
    "duration": 9,
    "start_time": "2022-09-19T23:33:50.670Z"
   },
   {
    "duration": 1501,
    "start_time": "2022-09-20T14:46:39.179Z"
   },
   {
    "duration": 3,
    "start_time": "2022-09-20T14:46:40.682Z"
   },
   {
    "duration": 105,
    "start_time": "2022-09-20T14:46:40.686Z"
   },
   {
    "duration": 10,
    "start_time": "2022-09-20T14:46:40.793Z"
   },
   {
    "duration": 15,
    "start_time": "2022-09-20T14:46:40.805Z"
   },
   {
    "duration": 4,
    "start_time": "2022-09-20T14:46:40.822Z"
   },
   {
    "duration": 17,
    "start_time": "2022-09-20T14:46:40.827Z"
   },
   {
    "duration": 138,
    "start_time": "2022-09-20T14:46:40.846Z"
   },
   {
    "duration": 649,
    "start_time": "2022-09-20T14:46:40.985Z"
   },
   {
    "duration": 73,
    "start_time": "2022-09-20T14:46:41.636Z"
   },
   {
    "duration": 11,
    "start_time": "2022-09-20T14:46:41.710Z"
   },
   {
    "duration": 113,
    "start_time": "2022-09-20T14:46:41.723Z"
   },
   {
    "duration": 14,
    "start_time": "2022-09-20T14:46:41.838Z"
   },
   {
    "duration": 287,
    "start_time": "2022-09-20T14:46:41.853Z"
   },
   {
    "duration": 9,
    "start_time": "2022-09-20T14:46:42.142Z"
   },
   {
    "duration": 93,
    "start_time": "2022-09-20T14:46:42.152Z"
   },
   {
    "duration": 10,
    "start_time": "2022-09-20T14:46:42.246Z"
   },
   {
    "duration": 115,
    "start_time": "2022-09-20T14:46:42.257Z"
   },
   {
    "duration": 8,
    "start_time": "2022-09-20T14:46:42.373Z"
   },
   {
    "duration": 19,
    "start_time": "2022-09-20T14:46:42.382Z"
   },
   {
    "duration": 106,
    "start_time": "2022-09-20T14:46:42.403Z"
   },
   {
    "duration": 57,
    "start_time": "2022-09-20T14:46:42.510Z"
   },
   {
    "duration": 12,
    "start_time": "2022-09-20T14:46:42.569Z"
   },
   {
    "duration": 9,
    "start_time": "2022-09-20T14:46:42.583Z"
   },
   {
    "duration": 127,
    "start_time": "2022-09-20T14:46:42.593Z"
   },
   {
    "duration": 8,
    "start_time": "2022-09-20T14:46:42.721Z"
   },
   {
    "duration": 210,
    "start_time": "2022-09-20T14:46:42.730Z"
   },
   {
    "duration": 3,
    "start_time": "2022-09-20T14:46:42.943Z"
   },
   {
    "duration": 82,
    "start_time": "2022-09-20T14:46:42.948Z"
   },
   {
    "duration": 199,
    "start_time": "2022-09-20T14:46:43.031Z"
   },
   {
    "duration": 10,
    "start_time": "2022-09-20T14:46:43.231Z"
   },
   {
    "duration": 15,
    "start_time": "2022-09-20T14:46:43.243Z"
   },
   {
    "duration": 462,
    "start_time": "2022-09-20T14:46:43.259Z"
   },
   {
    "duration": 9,
    "start_time": "2022-09-20T14:46:43.723Z"
   },
   {
    "duration": 11,
    "start_time": "2022-09-20T14:46:43.734Z"
   },
   {
    "duration": 15,
    "start_time": "2022-09-20T14:46:43.800Z"
   },
   {
    "duration": 10,
    "start_time": "2022-09-20T14:46:43.817Z"
   },
   {
    "duration": 11,
    "start_time": "2022-09-20T14:46:43.828Z"
   },
   {
    "duration": 60,
    "start_time": "2022-09-20T14:46:43.840Z"
   },
   {
    "duration": 12,
    "start_time": "2022-09-20T14:46:43.902Z"
   },
   {
    "duration": 292,
    "start_time": "2022-09-20T14:46:43.916Z"
   },
   {
    "duration": 6,
    "start_time": "2022-09-20T14:46:44.210Z"
   },
   {
    "duration": 8,
    "start_time": "2022-09-20T14:46:44.217Z"
   },
   {
    "duration": 14,
    "start_time": "2022-09-20T14:46:44.226Z"
   },
   {
    "duration": 62,
    "start_time": "2022-09-20T14:46:44.241Z"
   },
   {
    "duration": 22,
    "start_time": "2022-09-20T14:46:44.305Z"
   },
   {
    "duration": 75,
    "start_time": "2022-09-20T14:46:44.328Z"
   },
   {
    "duration": 108,
    "start_time": "2022-09-20T14:46:44.404Z"
   },
   {
    "duration": 4,
    "start_time": "2022-09-20T14:46:44.514Z"
   },
   {
    "duration": 11,
    "start_time": "2022-09-20T14:46:44.519Z"
   },
   {
    "duration": 37825,
    "start_time": "2022-09-20T14:46:44.532Z"
   },
   {
    "duration": 960,
    "start_time": "2022-09-20T14:47:22.359Z"
   },
   {
    "duration": 7,
    "start_time": "2022-09-20T14:47:23.321Z"
   },
   {
    "duration": 1408,
    "start_time": "2022-09-20T14:47:23.330Z"
   },
   {
    "duration": 28,
    "start_time": "2022-09-20T14:47:24.740Z"
   },
   {
    "duration": 8,
    "start_time": "2022-09-20T14:47:24.770Z"
   },
   {
    "duration": 24,
    "start_time": "2022-09-20T14:47:24.779Z"
   },
   {
    "duration": 7,
    "start_time": "2022-09-20T14:47:24.804Z"
   },
   {
    "duration": 112,
    "start_time": "2022-09-20T14:47:24.812Z"
   },
   {
    "duration": 8,
    "start_time": "2022-09-20T14:48:25.546Z"
   },
   {
    "duration": 10,
    "start_time": "2022-09-20T14:49:10.977Z"
   },
   {
    "duration": 1310,
    "start_time": "2022-09-20T14:49:56.296Z"
   },
   {
    "duration": 2,
    "start_time": "2022-09-20T14:49:57.608Z"
   },
   {
    "duration": 66,
    "start_time": "2022-09-20T14:49:57.611Z"
   },
   {
    "duration": 12,
    "start_time": "2022-09-20T14:49:57.679Z"
   },
   {
    "duration": 23,
    "start_time": "2022-09-20T14:49:57.692Z"
   },
   {
    "duration": 4,
    "start_time": "2022-09-20T14:49:57.716Z"
   },
   {
    "duration": 18,
    "start_time": "2022-09-20T14:49:57.722Z"
   },
   {
    "duration": 132,
    "start_time": "2022-09-20T14:49:57.741Z"
   },
   {
    "duration": 600,
    "start_time": "2022-09-20T14:49:57.874Z"
   },
   {
    "duration": 30,
    "start_time": "2022-09-20T14:49:58.476Z"
   },
   {
    "duration": 9,
    "start_time": "2022-09-20T14:49:58.507Z"
   },
   {
    "duration": 109,
    "start_time": "2022-09-20T14:49:58.518Z"
   },
   {
    "duration": 16,
    "start_time": "2022-09-20T14:49:58.629Z"
   },
   {
    "duration": 282,
    "start_time": "2022-09-20T14:49:58.647Z"
   },
   {
    "duration": 9,
    "start_time": "2022-09-20T14:49:58.931Z"
   },
   {
    "duration": 62,
    "start_time": "2022-09-20T14:49:58.942Z"
   },
   {
    "duration": 10,
    "start_time": "2022-09-20T14:49:59.006Z"
   },
   {
    "duration": 128,
    "start_time": "2022-09-20T14:49:59.018Z"
   },
   {
    "duration": 7,
    "start_time": "2022-09-20T14:49:59.148Z"
   },
   {
    "duration": 13,
    "start_time": "2022-09-20T14:49:59.157Z"
   },
   {
    "duration": 107,
    "start_time": "2022-09-20T14:49:59.171Z"
   },
   {
    "duration": 30,
    "start_time": "2022-09-20T14:49:59.279Z"
   },
   {
    "duration": 13,
    "start_time": "2022-09-20T14:49:59.311Z"
   },
   {
    "duration": 9,
    "start_time": "2022-09-20T14:49:59.325Z"
   },
   {
    "duration": 136,
    "start_time": "2022-09-20T14:49:59.336Z"
   },
   {
    "duration": 8,
    "start_time": "2022-09-20T14:49:59.474Z"
   },
   {
    "duration": 225,
    "start_time": "2022-09-20T14:49:59.483Z"
   },
   {
    "duration": 4,
    "start_time": "2022-09-20T14:49:59.711Z"
   },
   {
    "duration": 33,
    "start_time": "2022-09-20T14:49:59.716Z"
   },
   {
    "duration": 192,
    "start_time": "2022-09-20T14:49:59.750Z"
   },
   {
    "duration": 10,
    "start_time": "2022-09-20T14:49:59.943Z"
   },
   {
    "duration": 15,
    "start_time": "2022-09-20T14:49:59.954Z"
   },
   {
    "duration": 231,
    "start_time": "2022-09-20T14:49:59.970Z"
   },
   {
    "duration": 10,
    "start_time": "2022-09-20T14:50:00.203Z"
   },
   {
    "duration": 25,
    "start_time": "2022-09-20T14:50:00.214Z"
   },
   {
    "duration": 37,
    "start_time": "2022-09-20T14:50:00.240Z"
   },
   {
    "duration": 15,
    "start_time": "2022-09-20T14:50:00.279Z"
   },
   {
    "duration": 26,
    "start_time": "2022-09-20T14:50:00.296Z"
   },
   {
    "duration": 32,
    "start_time": "2022-09-20T14:50:00.323Z"
   },
   {
    "duration": 34,
    "start_time": "2022-09-20T14:50:00.356Z"
   },
   {
    "duration": 128,
    "start_time": "2022-09-20T14:50:00.392Z"
   },
   {
    "duration": 7,
    "start_time": "2022-09-20T14:50:00.522Z"
   },
   {
    "duration": 29,
    "start_time": "2022-09-20T14:50:00.531Z"
   },
   {
    "duration": 38,
    "start_time": "2022-09-20T14:50:00.562Z"
   },
   {
    "duration": 35,
    "start_time": "2022-09-20T14:50:00.602Z"
   },
   {
    "duration": 30,
    "start_time": "2022-09-20T14:50:00.638Z"
   },
   {
    "duration": 30,
    "start_time": "2022-09-20T14:50:00.670Z"
   },
   {
    "duration": 35,
    "start_time": "2022-09-20T14:50:00.701Z"
   },
   {
    "duration": 4,
    "start_time": "2022-09-20T14:50:00.737Z"
   },
   {
    "duration": 21,
    "start_time": "2022-09-20T14:50:00.742Z"
   },
   {
    "duration": 647897,
    "start_time": "2022-09-20T14:50:00.765Z"
   },
   {
    "duration": 3162,
    "start_time": "2022-09-20T15:00:48.664Z"
   },
   {
    "duration": 10,
    "start_time": "2022-09-20T15:00:51.828Z"
   },
   {
    "duration": 4277,
    "start_time": "2022-09-20T15:00:51.839Z"
   },
   {
    "duration": 215,
    "start_time": "2022-09-20T15:00:56.118Z"
   },
   {
    "duration": 23,
    "start_time": "2022-09-20T15:00:56.335Z"
   },
   {
    "duration": 12,
    "start_time": "2022-09-20T15:00:56.360Z"
   },
   {
    "duration": 10,
    "start_time": "2022-09-20T15:00:56.374Z"
   },
   {
    "duration": 107,
    "start_time": "2022-09-20T15:00:56.386Z"
   },
   {
    "duration": 31,
    "start_time": "2022-09-20T15:04:39.440Z"
   },
   {
    "duration": 3,
    "start_time": "2022-09-20T15:06:48.672Z"
   },
   {
    "duration": 9,
    "start_time": "2022-09-20T15:07:04.818Z"
   },
   {
    "duration": 1504,
    "start_time": "2022-09-20T16:04:16.969Z"
   },
   {
    "duration": 131,
    "start_time": "2022-09-20T16:04:22.596Z"
   },
   {
    "duration": 17,
    "start_time": "2022-09-20T16:04:23.985Z"
   },
   {
    "duration": 2871,
    "start_time": "2022-09-20T16:04:33.529Z"
   },
   {
    "duration": 99,
    "start_time": "2022-09-20T16:04:36.402Z"
   },
   {
    "duration": 19,
    "start_time": "2022-09-20T16:04:36.503Z"
   },
   {
    "duration": 4027,
    "start_time": "2022-09-20T16:04:57.611Z"
   },
   {
    "duration": 161,
    "start_time": "2022-09-20T16:05:01.640Z"
   },
   {
    "duration": 20,
    "start_time": "2022-09-20T16:05:01.802Z"
   },
   {
    "duration": 12227,
    "start_time": "2022-09-20T16:05:14.776Z"
   },
   {
    "duration": 508,
    "start_time": "2022-09-20T16:05:27.005Z"
   },
   {
    "duration": 38,
    "start_time": "2022-09-20T16:05:27.515Z"
   },
   {
    "duration": 55479,
    "start_time": "2022-09-20T16:06:56.322Z"
   },
   {
    "duration": 192,
    "start_time": "2022-09-20T16:07:51.803Z"
   },
   {
    "duration": 32,
    "start_time": "2022-09-20T16:07:51.997Z"
   },
   {
    "duration": 81451,
    "start_time": "2022-09-20T16:08:20.914Z"
   },
   {
    "duration": 218,
    "start_time": "2022-09-20T16:09:42.366Z"
   },
   {
    "duration": 26,
    "start_time": "2022-09-20T16:09:42.585Z"
   },
   {
    "duration": 249003,
    "start_time": "2022-09-20T16:10:46.308Z"
   },
   {
    "duration": 7688,
    "start_time": "2022-09-20T16:14:55.313Z"
   },
   {
    "duration": 464,
    "start_time": "2022-09-20T16:15:03.003Z"
   },
   {
    "duration": 161517,
    "start_time": "2022-09-20T16:16:10.899Z"
   },
   {
    "duration": 7295,
    "start_time": "2022-09-20T16:18:52.418Z"
   },
   {
    "duration": 405,
    "start_time": "2022-09-20T16:18:59.714Z"
   },
   {
    "duration": 121298,
    "start_time": "2022-09-20T16:20:18.936Z"
   },
   {
    "duration": 7046,
    "start_time": "2022-09-20T16:22:20.236Z"
   },
   {
    "duration": 422,
    "start_time": "2022-09-20T16:22:27.284Z"
   },
   {
    "duration": 61097,
    "start_time": "2022-09-20T16:22:55.153Z"
   },
   {
    "duration": 3445,
    "start_time": "2022-09-20T16:23:56.252Z"
   },
   {
    "duration": 209,
    "start_time": "2022-09-20T16:23:59.700Z"
   },
   {
    "duration": 82183,
    "start_time": "2022-09-20T16:24:23.799Z"
   },
   {
    "duration": 5361,
    "start_time": "2022-09-20T16:25:45.984Z"
   },
   {
    "duration": 306,
    "start_time": "2022-09-20T16:25:51.346Z"
   },
   {
    "duration": 33568,
    "start_time": "2022-09-20T16:26:13.559Z"
   },
   {
    "duration": 1363,
    "start_time": "2022-09-20T16:26:47.129Z"
   },
   {
    "duration": 84,
    "start_time": "2022-09-20T16:26:48.493Z"
   },
   {
    "duration": 92860,
    "start_time": "2022-09-20T16:27:10.733Z"
   },
   {
    "duration": 6674,
    "start_time": "2022-09-20T16:28:43.595Z"
   },
   {
    "duration": 358,
    "start_time": "2022-09-20T16:28:50.271Z"
   },
   {
    "duration": 100231,
    "start_time": "2022-09-20T16:29:26.057Z"
   },
   {
    "duration": 3974,
    "start_time": "2022-09-20T16:31:06.290Z"
   },
   {
    "duration": 9,
    "start_time": "2022-09-20T16:31:10.265Z"
   },
   {
    "duration": 149434,
    "start_time": "2022-09-20T16:31:56.571Z"
   },
   {
    "duration": 3524,
    "start_time": "2022-09-20T16:34:26.007Z"
   },
   {
    "duration": 9,
    "start_time": "2022-09-20T16:34:29.532Z"
   },
   {
    "duration": 10855,
    "start_time": "2022-09-20T16:35:06.704Z"
   },
   {
    "duration": 1052,
    "start_time": "2022-09-20T16:35:17.561Z"
   },
   {
    "duration": 11,
    "start_time": "2022-09-20T16:35:18.615Z"
   },
   {
    "duration": 6456,
    "start_time": "2022-09-20T16:35:34.240Z"
   },
   {
    "duration": 0,
    "start_time": "2022-09-20T16:35:40.698Z"
   },
   {
    "duration": 0,
    "start_time": "2022-09-20T16:35:40.699Z"
   },
   {
    "duration": 4022,
    "start_time": "2022-09-20T16:35:59.505Z"
   },
   {
    "duration": 0,
    "start_time": "2022-09-20T16:36:03.529Z"
   },
   {
    "duration": 0,
    "start_time": "2022-09-20T16:36:03.531Z"
   },
   {
    "duration": 13789,
    "start_time": "2022-09-20T16:36:12.496Z"
   },
   {
    "duration": 1663,
    "start_time": "2022-09-20T16:36:26.287Z"
   },
   {
    "duration": 8,
    "start_time": "2022-09-20T16:36:27.951Z"
   },
   {
    "duration": 3660,
    "start_time": "2022-09-20T16:36:46.176Z"
   },
   {
    "duration": 0,
    "start_time": "2022-09-20T16:36:49.838Z"
   },
   {
    "duration": 0,
    "start_time": "2022-09-20T16:36:49.839Z"
   },
   {
    "duration": 1334611,
    "start_time": "2022-09-20T16:37:14.847Z"
   },
   {
    "duration": 2283,
    "start_time": "2022-09-20T16:59:29.460Z"
   },
   {
    "duration": 8,
    "start_time": "2022-09-20T16:59:31.744Z"
   },
   {
    "duration": 9,
    "start_time": "2022-09-20T16:59:50.518Z"
   },
   {
    "duration": 5,
    "start_time": "2022-09-20T16:59:57.001Z"
   },
   {
    "duration": 5,
    "start_time": "2022-09-20T17:01:18.993Z"
   },
   {
    "duration": 5,
    "start_time": "2022-09-20T17:01:49.896Z"
   },
   {
    "duration": 6,
    "start_time": "2022-09-20T17:02:02.006Z"
   },
   {
    "duration": 6,
    "start_time": "2022-09-20T17:02:40.861Z"
   },
   {
    "duration": 7,
    "start_time": "2022-09-20T17:02:47.307Z"
   },
   {
    "duration": 6,
    "start_time": "2022-09-20T17:03:38.997Z"
   },
   {
    "duration": 6,
    "start_time": "2022-09-20T19:11:57.508Z"
   },
   {
    "duration": 3,
    "start_time": "2022-09-20T19:11:58.454Z"
   },
   {
    "duration": 2573,
    "start_time": "2022-09-20T19:12:59.936Z"
   },
   {
    "duration": 1304,
    "start_time": "2022-09-20T19:17:01.244Z"
   },
   {
    "duration": 3,
    "start_time": "2022-09-20T19:17:02.549Z"
   },
   {
    "duration": 85,
    "start_time": "2022-09-20T19:17:02.553Z"
   },
   {
    "duration": 11,
    "start_time": "2022-09-20T19:17:02.640Z"
   },
   {
    "duration": 24,
    "start_time": "2022-09-20T19:17:02.652Z"
   },
   {
    "duration": 5,
    "start_time": "2022-09-20T19:17:02.677Z"
   },
   {
    "duration": 23,
    "start_time": "2022-09-20T19:17:02.683Z"
   },
   {
    "duration": 129,
    "start_time": "2022-09-20T19:17:02.708Z"
   },
   {
    "duration": 663,
    "start_time": "2022-09-20T19:17:02.839Z"
   },
   {
    "duration": 31,
    "start_time": "2022-09-20T19:17:03.504Z"
   },
   {
    "duration": 10,
    "start_time": "2022-09-20T19:17:03.537Z"
   },
   {
    "duration": 127,
    "start_time": "2022-09-20T19:17:03.549Z"
   },
   {
    "duration": 15,
    "start_time": "2022-09-20T19:17:03.678Z"
   },
   {
    "duration": 278,
    "start_time": "2022-09-20T19:17:03.700Z"
   },
   {
    "duration": 20,
    "start_time": "2022-09-20T19:17:03.980Z"
   },
   {
    "duration": 62,
    "start_time": "2022-09-20T19:17:04.002Z"
   },
   {
    "duration": 9,
    "start_time": "2022-09-20T19:17:04.066Z"
   },
   {
    "duration": 139,
    "start_time": "2022-09-20T19:17:04.076Z"
   },
   {
    "duration": 7,
    "start_time": "2022-09-20T19:17:04.217Z"
   },
   {
    "duration": 11,
    "start_time": "2022-09-20T19:17:04.226Z"
   },
   {
    "duration": 103,
    "start_time": "2022-09-20T19:17:04.239Z"
   },
   {
    "duration": 30,
    "start_time": "2022-09-20T19:17:04.344Z"
   },
   {
    "duration": 15,
    "start_time": "2022-09-20T19:17:04.376Z"
   },
   {
    "duration": 16,
    "start_time": "2022-09-20T19:17:04.392Z"
   },
   {
    "duration": 219,
    "start_time": "2022-09-20T19:17:04.410Z"
   },
   {
    "duration": 11,
    "start_time": "2022-09-20T19:17:04.630Z"
   },
   {
    "duration": 270,
    "start_time": "2022-09-20T19:17:04.643Z"
   },
   {
    "duration": 4,
    "start_time": "2022-09-20T19:17:04.916Z"
   },
   {
    "duration": 25,
    "start_time": "2022-09-20T19:17:04.922Z"
   },
   {
    "duration": 204,
    "start_time": "2022-09-20T19:17:04.949Z"
   },
   {
    "duration": 10,
    "start_time": "2022-09-20T19:17:05.155Z"
   },
   {
    "duration": 16,
    "start_time": "2022-09-20T19:17:05.167Z"
   },
   {
    "duration": 221,
    "start_time": "2022-09-20T19:17:05.184Z"
   },
   {
    "duration": 10,
    "start_time": "2022-09-20T19:17:05.406Z"
   },
   {
    "duration": 18,
    "start_time": "2022-09-20T19:17:05.417Z"
   },
   {
    "duration": 12,
    "start_time": "2022-09-20T19:17:05.437Z"
   },
   {
    "duration": 13,
    "start_time": "2022-09-20T19:17:05.450Z"
   },
   {
    "duration": 36,
    "start_time": "2022-09-20T19:17:05.464Z"
   },
   {
    "duration": 124,
    "start_time": "2022-09-20T19:17:05.502Z"
   },
   {
    "duration": 7,
    "start_time": "2022-09-20T19:17:05.628Z"
   },
   {
    "duration": 11,
    "start_time": "2022-09-20T19:17:05.637Z"
   },
   {
    "duration": 11,
    "start_time": "2022-09-20T19:17:05.650Z"
   },
   {
    "duration": 15,
    "start_time": "2022-09-20T19:17:05.662Z"
   },
   {
    "duration": 39,
    "start_time": "2022-09-20T19:17:05.679Z"
   },
   {
    "duration": 25,
    "start_time": "2022-09-20T19:17:05.720Z"
   },
   {
    "duration": 54,
    "start_time": "2022-09-20T19:17:05.746Z"
   },
   {
    "duration": 5,
    "start_time": "2022-09-20T19:17:05.801Z"
   },
   {
    "duration": 7,
    "start_time": "2022-09-20T19:17:05.807Z"
   },
   {
    "duration": 5,
    "start_time": "2022-09-20T19:17:05.815Z"
   },
   {
    "duration": 7,
    "start_time": "2022-09-20T19:17:05.822Z"
   },
   {
    "duration": 866243,
    "start_time": "2022-09-20T19:17:05.830Z"
   },
   {
    "duration": 10767,
    "start_time": "2022-09-20T19:31:32.075Z"
   },
   {
    "duration": 8,
    "start_time": "2022-09-20T19:31:42.843Z"
   },
   {
    "duration": 131509,
    "start_time": "2022-09-20T19:31:42.852Z"
   },
   {
    "duration": 6202,
    "start_time": "2022-09-20T19:33:54.363Z"
   },
   {
    "duration": 248,
    "start_time": "2022-09-20T19:34:00.567Z"
   },
   {
    "duration": 6,
    "start_time": "2022-09-20T19:34:00.819Z"
   },
   {
    "duration": 9,
    "start_time": "2022-09-20T19:34:00.827Z"
   },
   {
    "duration": 12,
    "start_time": "2022-09-20T19:34:00.837Z"
   },
   {
    "duration": 132,
    "start_time": "2022-09-20T19:34:00.850Z"
   },
   {
    "duration": 8,
    "start_time": "2022-09-20T21:49:54.283Z"
   },
   {
    "duration": 2136,
    "start_time": "2022-09-21T09:21:52.832Z"
   },
   {
    "duration": 3,
    "start_time": "2022-09-21T09:21:54.970Z"
   },
   {
    "duration": 85,
    "start_time": "2022-09-21T09:21:54.974Z"
   },
   {
    "duration": 14,
    "start_time": "2022-09-21T09:21:55.061Z"
   },
   {
    "duration": 29,
    "start_time": "2022-09-21T09:21:55.077Z"
   },
   {
    "duration": 5,
    "start_time": "2022-09-21T09:21:55.108Z"
   },
   {
    "duration": 21,
    "start_time": "2022-09-21T09:21:55.115Z"
   },
   {
    "duration": 169,
    "start_time": "2022-09-21T09:21:55.137Z"
   },
   {
    "duration": 775,
    "start_time": "2022-09-21T09:21:55.309Z"
   },
   {
    "duration": 62,
    "start_time": "2022-09-21T09:21:56.093Z"
   },
   {
    "duration": 11,
    "start_time": "2022-09-21T09:21:56.157Z"
   },
   {
    "duration": 142,
    "start_time": "2022-09-21T09:21:56.170Z"
   },
   {
    "duration": 17,
    "start_time": "2022-09-21T09:21:56.314Z"
   },
   {
    "duration": 323,
    "start_time": "2022-09-21T09:21:56.333Z"
   },
   {
    "duration": 10,
    "start_time": "2022-09-21T09:21:56.659Z"
   },
   {
    "duration": 65,
    "start_time": "2022-09-21T09:21:57.302Z"
   },
   {
    "duration": 11,
    "start_time": "2022-09-21T09:21:57.504Z"
   },
   {
    "duration": 130,
    "start_time": "2022-09-21T09:21:57.683Z"
   },
   {
    "duration": 8,
    "start_time": "2022-09-21T09:21:57.902Z"
   },
   {
    "duration": 12,
    "start_time": "2022-09-21T09:21:58.122Z"
   },
   {
    "duration": 133,
    "start_time": "2022-09-21T09:21:58.371Z"
   },
   {
    "duration": 58,
    "start_time": "2022-09-21T09:21:59.402Z"
   },
   {
    "duration": 16,
    "start_time": "2022-09-21T09:21:59.627Z"
   },
   {
    "duration": 12,
    "start_time": "2022-09-21T09:21:59.876Z"
   },
   {
    "duration": 159,
    "start_time": "2022-09-21T09:22:00.157Z"
   },
   {
    "duration": 11,
    "start_time": "2022-09-21T09:22:00.452Z"
   },
   {
    "duration": 271,
    "start_time": "2022-09-21T09:22:00.738Z"
   },
   {
    "duration": 5,
    "start_time": "2022-09-21T09:22:01.261Z"
   },
   {
    "duration": 58,
    "start_time": "2022-09-21T09:22:02.659Z"
   },
   {
    "duration": 247,
    "start_time": "2022-09-21T09:22:02.959Z"
   },
   {
    "duration": 17,
    "start_time": "2022-09-21T09:22:03.284Z"
   },
   {
    "duration": 17,
    "start_time": "2022-09-21T09:22:03.558Z"
   },
   {
    "duration": 239,
    "start_time": "2022-09-21T09:22:03.824Z"
   },
   {
    "duration": 12,
    "start_time": "2022-09-21T09:22:04.185Z"
   },
   {
    "duration": 17,
    "start_time": "2022-09-21T09:22:08.216Z"
   },
   {
    "duration": 12,
    "start_time": "2022-09-21T09:22:08.556Z"
   },
   {
    "duration": 8,
    "start_time": "2022-09-21T09:22:08.905Z"
   },
   {
    "duration": 13,
    "start_time": "2022-09-21T09:22:09.470Z"
   },
   {
    "duration": 139,
    "start_time": "2022-09-21T09:22:09.739Z"
   },
   {
    "duration": 8,
    "start_time": "2022-09-21T09:22:10.027Z"
   },
   {
    "duration": 9,
    "start_time": "2022-09-21T09:22:10.337Z"
   },
   {
    "duration": 12,
    "start_time": "2022-09-21T09:22:10.636Z"
   },
   {
    "duration": 17,
    "start_time": "2022-09-21T09:22:11.128Z"
   },
   {
    "duration": 28,
    "start_time": "2022-09-21T09:22:14.041Z"
   },
   {
    "duration": 27,
    "start_time": "2022-09-21T09:22:14.653Z"
   },
   {
    "duration": 39,
    "start_time": "2022-09-21T09:22:15.140Z"
   },
   {
    "duration": 81,
    "start_time": "2022-09-21T09:22:15.601Z"
   },
   {
    "duration": 4,
    "start_time": "2022-09-21T09:22:16.340Z"
   },
   {
    "duration": 8,
    "start_time": "2022-09-21T09:22:16.873Z"
   },
   {
    "duration": 73,
    "start_time": "2022-09-22T12:06:18.739Z"
   },
   {
    "duration": 1744,
    "start_time": "2022-09-22T12:06:52.388Z"
   },
   {
    "duration": 3,
    "start_time": "2022-09-22T12:06:54.135Z"
   },
   {
    "duration": 127,
    "start_time": "2022-09-22T12:06:54.140Z"
   },
   {
    "duration": 13,
    "start_time": "2022-09-22T12:06:54.270Z"
   },
   {
    "duration": 36,
    "start_time": "2022-09-22T12:06:54.285Z"
   },
   {
    "duration": 7,
    "start_time": "2022-09-22T12:06:54.322Z"
   },
   {
    "duration": 29,
    "start_time": "2022-09-22T12:06:54.331Z"
   },
   {
    "duration": 196,
    "start_time": "2022-09-22T12:06:54.362Z"
   },
   {
    "duration": 849,
    "start_time": "2022-09-22T12:06:54.560Z"
   },
   {
    "duration": 97,
    "start_time": "2022-09-22T12:06:55.412Z"
   },
   {
    "duration": 15,
    "start_time": "2022-09-22T12:06:55.511Z"
   },
   {
    "duration": 335,
    "start_time": "2022-09-22T12:06:55.529Z"
   },
   {
    "duration": 77,
    "start_time": "2022-09-22T12:06:55.866Z"
   },
   {
    "duration": 1081,
    "start_time": "2022-09-22T12:06:55.945Z"
   },
   {
    "duration": 16,
    "start_time": "2022-09-22T12:06:57.028Z"
   },
   {
    "duration": 106,
    "start_time": "2022-09-22T12:06:57.047Z"
   },
   {
    "duration": 15,
    "start_time": "2022-09-22T12:06:57.156Z"
   },
   {
    "duration": 363,
    "start_time": "2022-09-22T12:06:57.173Z"
   },
   {
    "duration": 9,
    "start_time": "2022-09-22T12:06:57.538Z"
   },
   {
    "duration": 72,
    "start_time": "2022-09-22T12:06:57.549Z"
   },
   {
    "duration": 296,
    "start_time": "2022-09-22T12:06:57.624Z"
   },
   {
    "duration": 99,
    "start_time": "2022-09-22T12:06:57.923Z"
   },
   {
    "duration": 20,
    "start_time": "2022-09-22T12:06:58.023Z"
   },
   {
    "duration": 13,
    "start_time": "2022-09-22T12:06:58.044Z"
   },
   {
    "duration": 422,
    "start_time": "2022-09-22T12:06:58.060Z"
   },
   {
    "duration": 10,
    "start_time": "2022-09-22T12:06:58.483Z"
   },
   {
    "duration": 301,
    "start_time": "2022-09-22T12:06:58.494Z"
   },
   {
    "duration": 6,
    "start_time": "2022-09-22T12:06:58.801Z"
   },
   {
    "duration": 143,
    "start_time": "2022-09-22T12:06:58.809Z"
   },
   {
    "duration": 317,
    "start_time": "2022-09-22T12:06:58.955Z"
   },
   {
    "duration": 13,
    "start_time": "2022-09-22T12:06:59.275Z"
   },
   {
    "duration": 32,
    "start_time": "2022-09-22T12:06:59.290Z"
   },
   {
    "duration": 284,
    "start_time": "2022-09-22T12:06:59.325Z"
   },
   {
    "duration": 21,
    "start_time": "2022-09-22T12:06:59.610Z"
   },
   {
    "duration": 21,
    "start_time": "2022-09-22T12:06:59.634Z"
   },
   {
    "duration": 12,
    "start_time": "2022-09-22T12:06:59.657Z"
   },
   {
    "duration": 12,
    "start_time": "2022-09-22T12:06:59.672Z"
   },
   {
    "duration": 36,
    "start_time": "2022-09-22T12:06:59.686Z"
   },
   {
    "duration": 163,
    "start_time": "2022-09-22T12:06:59.724Z"
   },
   {
    "duration": 10,
    "start_time": "2022-09-22T12:06:59.890Z"
   },
   {
    "duration": 26,
    "start_time": "2022-09-22T12:06:59.902Z"
   },
   {
    "duration": 17,
    "start_time": "2022-09-22T12:06:59.930Z"
   },
   {
    "duration": 24,
    "start_time": "2022-09-22T12:06:59.948Z"
   },
   {
    "duration": 28,
    "start_time": "2022-09-22T12:06:59.974Z"
   },
   {
    "duration": 40,
    "start_time": "2022-09-22T12:07:00.004Z"
   },
   {
    "duration": 37,
    "start_time": "2022-09-22T12:07:00.046Z"
   },
   {
    "duration": 121,
    "start_time": "2022-09-22T12:07:00.085Z"
   },
   {
    "duration": 13,
    "start_time": "2022-09-22T12:07:00.208Z"
   },
   {
    "duration": 11,
    "start_time": "2022-09-22T12:07:00.223Z"
   },
   {
    "duration": 30,
    "start_time": "2022-09-22T12:07:00.236Z"
   },
   {
    "duration": 20,
    "start_time": "2022-09-22T12:07:00.268Z"
   },
   {
    "duration": 552761,
    "start_time": "2022-09-22T12:07:00.290Z"
   },
   {
    "duration": 0,
    "start_time": "2022-09-22T12:16:13.053Z"
   },
   {
    "duration": 0,
    "start_time": "2022-09-22T12:16:13.055Z"
   },
   {
    "duration": 0,
    "start_time": "2022-09-22T12:16:13.056Z"
   },
   {
    "duration": 0,
    "start_time": "2022-09-22T12:16:13.058Z"
   },
   {
    "duration": 0,
    "start_time": "2022-09-22T12:16:13.059Z"
   },
   {
    "duration": 0,
    "start_time": "2022-09-22T12:16:13.060Z"
   },
   {
    "duration": 0,
    "start_time": "2022-09-22T12:16:13.062Z"
   },
   {
    "duration": 0,
    "start_time": "2022-09-22T12:16:13.063Z"
   },
   {
    "duration": 0,
    "start_time": "2022-09-22T12:16:13.064Z"
   },
   {
    "duration": 1322237,
    "start_time": "2022-09-22T12:17:30.361Z"
   },
   {
    "duration": 1308,
    "start_time": "2022-09-22T12:45:04.248Z"
   },
   {
    "duration": 13,
    "start_time": "2022-09-22T12:45:08.990Z"
   },
   {
    "duration": 8,
    "start_time": "2022-09-22T12:45:31.315Z"
   },
   {
    "duration": 4,
    "start_time": "2022-09-22T12:45:36.680Z"
   },
   {
    "duration": 55,
    "start_time": "2022-09-22T12:46:02.769Z"
   },
   {
    "duration": 9,
    "start_time": "2022-09-22T12:46:20.297Z"
   },
   {
    "duration": 9,
    "start_time": "2022-09-22T12:47:03.269Z"
   },
   {
    "duration": 1493,
    "start_time": "2022-09-22T12:49:03.869Z"
   },
   {
    "duration": 3,
    "start_time": "2022-09-22T12:49:05.364Z"
   },
   {
    "duration": 91,
    "start_time": "2022-09-22T12:49:05.368Z"
   },
   {
    "duration": 15,
    "start_time": "2022-09-22T12:49:05.461Z"
   },
   {
    "duration": 49,
    "start_time": "2022-09-22T12:49:05.478Z"
   },
   {
    "duration": 16,
    "start_time": "2022-09-22T12:49:05.529Z"
   },
   {
    "duration": 27,
    "start_time": "2022-09-22T12:49:05.547Z"
   },
   {
    "duration": 164,
    "start_time": "2022-09-22T12:49:05.576Z"
   },
   {
    "duration": 844,
    "start_time": "2022-09-22T12:49:05.742Z"
   },
   {
    "duration": 56,
    "start_time": "2022-09-22T12:49:06.590Z"
   },
   {
    "duration": 13,
    "start_time": "2022-09-22T12:49:06.648Z"
   },
   {
    "duration": 146,
    "start_time": "2022-09-22T12:49:06.663Z"
   },
   {
    "duration": 25,
    "start_time": "2022-09-22T12:49:06.812Z"
   },
   {
    "duration": 359,
    "start_time": "2022-09-22T12:49:06.839Z"
   },
   {
    "duration": 21,
    "start_time": "2022-09-22T12:49:07.200Z"
   },
   {
    "duration": 44,
    "start_time": "2022-09-22T12:49:07.223Z"
   },
   {
    "duration": 13,
    "start_time": "2022-09-22T12:49:07.268Z"
   },
   {
    "duration": 141,
    "start_time": "2022-09-22T12:49:07.283Z"
   },
   {
    "duration": 11,
    "start_time": "2022-09-22T12:49:07.426Z"
   },
   {
    "duration": 17,
    "start_time": "2022-09-22T12:49:07.439Z"
   },
   {
    "duration": 152,
    "start_time": "2022-09-22T12:49:07.458Z"
   },
   {
    "duration": 73,
    "start_time": "2022-09-22T12:49:07.612Z"
   },
   {
    "duration": 17,
    "start_time": "2022-09-22T12:49:07.687Z"
   },
   {
    "duration": 14,
    "start_time": "2022-09-22T12:49:07.706Z"
   },
   {
    "duration": 176,
    "start_time": "2022-09-22T12:49:07.722Z"
   },
   {
    "duration": 20,
    "start_time": "2022-09-22T12:49:07.900Z"
   },
   {
    "duration": 261,
    "start_time": "2022-09-22T12:49:07.923Z"
   },
   {
    "duration": 4,
    "start_time": "2022-09-22T12:49:08.189Z"
   },
   {
    "duration": 34,
    "start_time": "2022-09-22T12:49:08.195Z"
   },
   {
    "duration": 255,
    "start_time": "2022-09-22T12:49:08.230Z"
   },
   {
    "duration": 12,
    "start_time": "2022-09-22T12:49:08.487Z"
   },
   {
    "duration": 34,
    "start_time": "2022-09-22T12:49:08.501Z"
   },
   {
    "duration": 267,
    "start_time": "2022-09-22T12:49:08.536Z"
   },
   {
    "duration": 23,
    "start_time": "2022-09-22T12:49:08.805Z"
   },
   {
    "duration": 20,
    "start_time": "2022-09-22T12:49:08.831Z"
   },
   {
    "duration": 18,
    "start_time": "2022-09-22T12:49:08.853Z"
   },
   {
    "duration": 28,
    "start_time": "2022-09-22T12:49:08.874Z"
   },
   {
    "duration": 28,
    "start_time": "2022-09-22T12:49:08.904Z"
   },
   {
    "duration": 203,
    "start_time": "2022-09-22T12:49:08.934Z"
   },
   {
    "duration": 11,
    "start_time": "2022-09-22T12:49:09.140Z"
   },
   {
    "duration": 20,
    "start_time": "2022-09-22T12:49:09.153Z"
   },
   {
    "duration": 14,
    "start_time": "2022-09-22T12:49:09.176Z"
   },
   {
    "duration": 32,
    "start_time": "2022-09-22T12:49:09.192Z"
   },
   {
    "duration": 28,
    "start_time": "2022-09-22T12:49:09.226Z"
   },
   {
    "duration": 28,
    "start_time": "2022-09-22T12:49:09.257Z"
   },
   {
    "duration": 61,
    "start_time": "2022-09-22T12:49:09.287Z"
   },
   {
    "duration": 110,
    "start_time": "2022-09-22T12:49:09.350Z"
   },
   {
    "duration": 4,
    "start_time": "2022-09-22T12:49:09.463Z"
   },
   {
    "duration": 10,
    "start_time": "2022-09-22T12:49:09.470Z"
   },
   {
    "duration": 11,
    "start_time": "2022-09-22T12:49:09.482Z"
   },
   {
    "duration": 6,
    "start_time": "2022-09-22T12:49:09.495Z"
   },
   {
    "duration": 59,
    "start_time": "2022-09-22T12:49:09.502Z"
   },
   {
    "duration": 0,
    "start_time": "2022-09-22T12:49:09.563Z"
   },
   {
    "duration": 0,
    "start_time": "2022-09-22T12:49:09.565Z"
   },
   {
    "duration": 0,
    "start_time": "2022-09-22T12:49:09.566Z"
   },
   {
    "duration": 0,
    "start_time": "2022-09-22T12:49:09.568Z"
   },
   {
    "duration": 0,
    "start_time": "2022-09-22T12:49:09.569Z"
   },
   {
    "duration": 0,
    "start_time": "2022-09-22T12:49:09.570Z"
   },
   {
    "duration": 0,
    "start_time": "2022-09-22T12:49:09.571Z"
   },
   {
    "duration": 0,
    "start_time": "2022-09-22T12:49:09.572Z"
   },
   {
    "duration": 0,
    "start_time": "2022-09-22T12:49:09.573Z"
   },
   {
    "duration": 0,
    "start_time": "2022-09-22T12:49:09.575Z"
   },
   {
    "duration": 0,
    "start_time": "2022-09-22T12:49:09.576Z"
   },
   {
    "duration": 0,
    "start_time": "2022-09-22T12:49:09.577Z"
   },
   {
    "duration": 2099101,
    "start_time": "2022-09-22T12:51:27.480Z"
   },
   {
    "duration": 92259,
    "start_time": "2022-09-22T13:26:26.583Z"
   },
   {
    "duration": 7,
    "start_time": "2022-09-22T13:32:13.881Z"
   },
   {
    "duration": 656,
    "start_time": "2022-09-22T13:32:19.149Z"
   },
   {
    "duration": 8,
    "start_time": "2022-09-22T13:32:23.219Z"
   },
   {
    "duration": 11,
    "start_time": "2022-09-22T13:32:50.504Z"
   },
   {
    "duration": 285,
    "start_time": "2022-09-22T21:55:21.010Z"
   },
   {
    "duration": 265,
    "start_time": "2022-09-22T21:55:31.394Z"
   },
   {
    "duration": 110,
    "start_time": "2022-09-23T18:29:07.426Z"
   }
  ],
  "kernelspec": {
   "display_name": "Python 3 (ipykernel)",
   "language": "python",
   "name": "python3"
  },
  "language_info": {
   "codemirror_mode": {
    "name": "ipython",
    "version": 3
   },
   "file_extension": ".py",
   "mimetype": "text/x-python",
   "name": "python",
   "nbconvert_exporter": "python",
   "pygments_lexer": "ipython3",
   "version": "3.9.12"
  },
  "toc": {
   "base_numbering": 1,
   "nav_menu": {},
   "number_sections": true,
   "sideBar": true,
   "skip_h1_title": true,
   "title_cell": "Table of Contents",
   "title_sidebar": "Contents",
   "toc_cell": false,
   "toc_position": {
    "height": "calc(100% - 180px)",
    "left": "10px",
    "top": "150px",
    "width": "285.764px"
   },
   "toc_section_display": true,
   "toc_window_display": true
  }
 },
 "nbformat": 4,
 "nbformat_minor": 2
}
