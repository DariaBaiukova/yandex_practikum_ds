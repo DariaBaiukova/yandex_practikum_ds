{
 "cells": [
  {
   "cell_type": "markdown",
   "metadata": {},
   "source": [
    "## Описание проекта <a name=\"description\"></a>\n",
    "\n",
    "Вы аналитик компании «Мегалайн» — федерального оператора сотовой связи. Клиентам предлагают два тарифных плана: «Смарт» и «Ультра». Чтобы скорректировать рекламный бюджет, коммерческий департамент хочет понять, какой тариф приносит больше денег.\n",
    "Вам предстоит сделать предварительный анализ тарифов на небольшой выборке клиентов. В вашем распоряжении данные 500 пользователей «Мегалайна»: кто они, откуда, каким тарифом пользуются, сколько звонков и сообщений каждый отправил за 2018 год. Нужно проанализировать поведение клиентов и сделать вывод — какой тариф лучше."
   ]
  },
  {
   "cell_type": "markdown",
   "metadata": {},
   "source": [
    "# Описание тарифов\n",
    "Тариф «Смарт»  \n",
    "Ежемесячная плата: 550 рублей  \n",
    "Включено 500 минут разговора, 50 сообщений и 15 Гб интернет-трафика\n",
    "Стоимость услуг сверх тарифного пакета:\n",
    " - минута разговора: 3 рубля\n",
    " - сообщение: 3 рубля\n",
    " - 1 Гб интернет-трафика: 200 рублей\n",
    "\n",
    "Тариф «Ультра»  \n",
    "Ежемесячная плата: 1950 рублей  \n",
    "Включено 3000 минут разговора, 1000 сообщений и 30 Гб интернет-трафика  \n",
    "Стоимость услуг сверх тарифного пакета:\n",
    " - минута разговора: 1 рубль\n",
    " - сообщение: 1 рубль\n",
    " - 1 Гб интернет-трафика: 150 рублей"
   ]
  },
  {
   "cell_type": "markdown",
   "metadata": {},
   "source": [
    "# Примечание к тарифу\n",
    "\n",
    "«Мегалайн» всегда округляет секунды до минут, а мегабайты — до гигабайт. Каждый звонок округляется отдельно: даже если он длился всего 1 секунду, будет засчитан как 1 минута.\n",
    "Для веб-трафика отдельные сессии не считаются. Вместо этого общая сумма за месяц округляется в бо́льшую сторону. Если абонент использует 1025 мегабайт в этом месяце, с него возьмут плату за 2 гигабайта. Примите, что неиспользованные за предыдущий месяц звонки, смс, интернет на следующий месяц не переносятся."
   ]
  },
  {
   "cell_type": "markdown",
   "metadata": {},
   "source": [
    "## Предобработка данных"
   ]
  },
  {
   "cell_type": "code",
   "execution_count": 1,
   "metadata": {},
   "outputs": [],
   "source": [
    "import pandas as pd\n",
    "import numpy as np\n",
    "import matplotlib.pyplot as plt\n",
    "from scipy import stats as st\n"
   ]
  },
  {
   "cell_type": "code",
   "execution_count": 2,
   "metadata": {},
   "outputs": [],
   "source": [
    "calls = pd.read_csv('/datasets/calls.csv')\n",
    "internet = pd.read_csv('/datasets/internet.csv')\n",
    "messages = pd.read_csv('/datasets/messages.csv')\n",
    "tariffs = pd.read_csv('/datasets/tariffs.csv')\n",
    "users = pd.read_csv('/datasets/users.csv')"
   ]
  },
  {
   "cell_type": "code",
   "execution_count": 3,
   "metadata": {},
   "outputs": [
    {
     "name": "stdout",
     "output_type": "stream",
     "text": [
      "<class 'pandas.core.frame.DataFrame'>\n",
      "RangeIndex: 202607 entries, 0 to 202606\n",
      "Data columns (total 4 columns):\n",
      " #   Column     Non-Null Count   Dtype  \n",
      "---  ------     --------------   -----  \n",
      " 0   id         202607 non-null  object \n",
      " 1   call_date  202607 non-null  object \n",
      " 2   duration   202607 non-null  float64\n",
      " 3   user_id    202607 non-null  int64  \n",
      "dtypes: float64(1), int64(1), object(2)\n",
      "memory usage: 6.2+ MB\n"
     ]
    }
   ],
   "source": [
    "calls.info()"
   ]
  },
  {
   "cell_type": "code",
   "execution_count": 4,
   "metadata": {},
   "outputs": [
    {
     "name": "stdout",
     "output_type": "stream",
     "text": [
      "<class 'pandas.core.frame.DataFrame'>\n",
      "RangeIndex: 149396 entries, 0 to 149395\n",
      "Data columns (total 5 columns):\n",
      " #   Column        Non-Null Count   Dtype  \n",
      "---  ------        --------------   -----  \n",
      " 0   Unnamed: 0    149396 non-null  int64  \n",
      " 1   id            149396 non-null  object \n",
      " 2   mb_used       149396 non-null  float64\n",
      " 3   session_date  149396 non-null  object \n",
      " 4   user_id       149396 non-null  int64  \n",
      "dtypes: float64(1), int64(2), object(2)\n",
      "memory usage: 5.7+ MB\n"
     ]
    }
   ],
   "source": [
    "internet.info()"
   ]
  },
  {
   "cell_type": "code",
   "execution_count": 5,
   "metadata": {},
   "outputs": [
    {
     "name": "stdout",
     "output_type": "stream",
     "text": [
      "<class 'pandas.core.frame.DataFrame'>\n",
      "RangeIndex: 123036 entries, 0 to 123035\n",
      "Data columns (total 3 columns):\n",
      " #   Column        Non-Null Count   Dtype \n",
      "---  ------        --------------   ----- \n",
      " 0   id            123036 non-null  object\n",
      " 1   message_date  123036 non-null  object\n",
      " 2   user_id       123036 non-null  int64 \n",
      "dtypes: int64(1), object(2)\n",
      "memory usage: 2.8+ MB\n"
     ]
    }
   ],
   "source": [
    "messages.info()"
   ]
  },
  {
   "cell_type": "code",
   "execution_count": 6,
   "metadata": {},
   "outputs": [
    {
     "name": "stdout",
     "output_type": "stream",
     "text": [
      "<class 'pandas.core.frame.DataFrame'>\n",
      "RangeIndex: 2 entries, 0 to 1\n",
      "Data columns (total 8 columns):\n",
      " #   Column                 Non-Null Count  Dtype \n",
      "---  ------                 --------------  ----- \n",
      " 0   messages_included      2 non-null      int64 \n",
      " 1   mb_per_month_included  2 non-null      int64 \n",
      " 2   minutes_included       2 non-null      int64 \n",
      " 3   rub_monthly_fee        2 non-null      int64 \n",
      " 4   rub_per_gb             2 non-null      int64 \n",
      " 5   rub_per_message        2 non-null      int64 \n",
      " 6   rub_per_minute         2 non-null      int64 \n",
      " 7   tariff_name            2 non-null      object\n",
      "dtypes: int64(7), object(1)\n",
      "memory usage: 256.0+ bytes\n"
     ]
    }
   ],
   "source": [
    "tariffs.info()"
   ]
  },
  {
   "cell_type": "code",
   "execution_count": 7,
   "metadata": {},
   "outputs": [
    {
     "name": "stdout",
     "output_type": "stream",
     "text": [
      "<class 'pandas.core.frame.DataFrame'>\n",
      "RangeIndex: 500 entries, 0 to 499\n",
      "Data columns (total 8 columns):\n",
      " #   Column      Non-Null Count  Dtype \n",
      "---  ------      --------------  ----- \n",
      " 0   user_id     500 non-null    int64 \n",
      " 1   age         500 non-null    int64 \n",
      " 2   churn_date  38 non-null     object\n",
      " 3   city        500 non-null    object\n",
      " 4   first_name  500 non-null    object\n",
      " 5   last_name   500 non-null    object\n",
      " 6   reg_date    500 non-null    object\n",
      " 7   tariff      500 non-null    object\n",
      "dtypes: int64(2), object(6)\n",
      "memory usage: 31.4+ KB\n"
     ]
    }
   ],
   "source": [
    "users.info()"
   ]
  },
  {
   "cell_type": "markdown",
   "metadata": {},
   "source": [
    "Все даты в приведенных таблицах имеют тип object, их необходимо перевести в datetime. В таблицах нет пропусков, за исключением users['churn_date'], дата прекращения пользования тарифом, если значение пропущено, то тариф ещё действовал на момент выгрузки данных."
   ]
  },
  {
   "cell_type": "code",
   "execution_count": 8,
   "metadata": {},
   "outputs": [],
   "source": [
    "calls['call_date'] = pd.to_datetime(calls['call_date'], format ='%Y-%m-%d')\n",
    "messages['message_date'] =  pd.to_datetime(messages['message_date'], format ='%Y-%m-%d')\n",
    "internet['session_date'] =  pd.to_datetime(internet['session_date'], format ='%Y-%m-%d')\n",
    "users['reg_date'] =  pd.to_datetime(users['reg_date'], format ='%Y-%m-%d')\n",
    "users['churn_date'] =  pd.to_datetime(users['churn_date'], format ='%Y-%m-%d')"
   ]
  },
  {
   "cell_type": "code",
   "execution_count": 9,
   "metadata": {},
   "outputs": [
    {
     "data": {
      "text/html": [
       "<div>\n",
       "<style scoped>\n",
       "    .dataframe tbody tr th:only-of-type {\n",
       "        vertical-align: middle;\n",
       "    }\n",
       "\n",
       "    .dataframe tbody tr th {\n",
       "        vertical-align: top;\n",
       "    }\n",
       "\n",
       "    .dataframe thead th {\n",
       "        text-align: right;\n",
       "    }\n",
       "</style>\n",
       "<table border=\"1\" class=\"dataframe\">\n",
       "  <thead>\n",
       "    <tr style=\"text-align: right;\">\n",
       "      <th></th>\n",
       "      <th>id</th>\n",
       "      <th>call_date</th>\n",
       "      <th>duration</th>\n",
       "      <th>user_id</th>\n",
       "    </tr>\n",
       "  </thead>\n",
       "  <tbody>\n",
       "  </tbody>\n",
       "</table>\n",
       "</div>"
      ],
      "text/plain": [
       "Empty DataFrame\n",
       "Columns: [id, call_date, duration, user_id]\n",
       "Index: []"
      ]
     },
     "execution_count": 9,
     "metadata": {},
     "output_type": "execute_result"
    }
   ],
   "source": [
    "calls[calls.duplicated()]"
   ]
  },
  {
   "cell_type": "code",
   "execution_count": 10,
   "metadata": {},
   "outputs": [
    {
     "data": {
      "text/html": [
       "<div>\n",
       "<style scoped>\n",
       "    .dataframe tbody tr th:only-of-type {\n",
       "        vertical-align: middle;\n",
       "    }\n",
       "\n",
       "    .dataframe tbody tr th {\n",
       "        vertical-align: top;\n",
       "    }\n",
       "\n",
       "    .dataframe thead th {\n",
       "        text-align: right;\n",
       "    }\n",
       "</style>\n",
       "<table border=\"1\" class=\"dataframe\">\n",
       "  <thead>\n",
       "    <tr style=\"text-align: right;\">\n",
       "      <th></th>\n",
       "      <th>id</th>\n",
       "      <th>message_date</th>\n",
       "      <th>user_id</th>\n",
       "    </tr>\n",
       "  </thead>\n",
       "  <tbody>\n",
       "  </tbody>\n",
       "</table>\n",
       "</div>"
      ],
      "text/plain": [
       "Empty DataFrame\n",
       "Columns: [id, message_date, user_id]\n",
       "Index: []"
      ]
     },
     "execution_count": 10,
     "metadata": {},
     "output_type": "execute_result"
    }
   ],
   "source": [
    "messages[messages.duplicated()]"
   ]
  },
  {
   "cell_type": "code",
   "execution_count": 11,
   "metadata": {},
   "outputs": [
    {
     "data": {
      "text/html": [
       "<div>\n",
       "<style scoped>\n",
       "    .dataframe tbody tr th:only-of-type {\n",
       "        vertical-align: middle;\n",
       "    }\n",
       "\n",
       "    .dataframe tbody tr th {\n",
       "        vertical-align: top;\n",
       "    }\n",
       "\n",
       "    .dataframe thead th {\n",
       "        text-align: right;\n",
       "    }\n",
       "</style>\n",
       "<table border=\"1\" class=\"dataframe\">\n",
       "  <thead>\n",
       "    <tr style=\"text-align: right;\">\n",
       "      <th></th>\n",
       "      <th>Unnamed: 0</th>\n",
       "      <th>id</th>\n",
       "      <th>mb_used</th>\n",
       "      <th>session_date</th>\n",
       "      <th>user_id</th>\n",
       "    </tr>\n",
       "  </thead>\n",
       "  <tbody>\n",
       "  </tbody>\n",
       "</table>\n",
       "</div>"
      ],
      "text/plain": [
       "Empty DataFrame\n",
       "Columns: [Unnamed: 0, id, mb_used, session_date, user_id]\n",
       "Index: []"
      ]
     },
     "execution_count": 11,
     "metadata": {},
     "output_type": "execute_result"
    }
   ],
   "source": [
    "internet[internet.duplicated()]"
   ]
  },
  {
   "cell_type": "code",
   "execution_count": 12,
   "metadata": {},
   "outputs": [
    {
     "data": {
      "text/html": [
       "<div>\n",
       "<style scoped>\n",
       "    .dataframe tbody tr th:only-of-type {\n",
       "        vertical-align: middle;\n",
       "    }\n",
       "\n",
       "    .dataframe tbody tr th {\n",
       "        vertical-align: top;\n",
       "    }\n",
       "\n",
       "    .dataframe thead th {\n",
       "        text-align: right;\n",
       "    }\n",
       "</style>\n",
       "<table border=\"1\" class=\"dataframe\">\n",
       "  <thead>\n",
       "    <tr style=\"text-align: right;\">\n",
       "      <th></th>\n",
       "      <th>user_id</th>\n",
       "      <th>age</th>\n",
       "      <th>churn_date</th>\n",
       "      <th>city</th>\n",
       "      <th>first_name</th>\n",
       "      <th>last_name</th>\n",
       "      <th>reg_date</th>\n",
       "      <th>tariff</th>\n",
       "    </tr>\n",
       "  </thead>\n",
       "  <tbody>\n",
       "  </tbody>\n",
       "</table>\n",
       "</div>"
      ],
      "text/plain": [
       "Empty DataFrame\n",
       "Columns: [user_id, age, churn_date, city, first_name, last_name, reg_date, tariff]\n",
       "Index: []"
      ]
     },
     "execution_count": 12,
     "metadata": {},
     "output_type": "execute_result"
    }
   ],
   "source": [
    "users[users.duplicated()]"
   ]
  },
  {
   "cell_type": "markdown",
   "metadata": {},
   "source": [
    "Дубликаты не обнаружены"
   ]
  },
  {
   "cell_type": "code",
   "execution_count": 13,
   "metadata": {},
   "outputs": [],
   "source": [
    "calls['duration'] = np.ceil(calls['duration'])"
   ]
  },
  {
   "cell_type": "markdown",
   "metadata": {},
   "source": [
    "Мегалайн округляет звонки по минутам, время звонка округлено в большую сторону"
   ]
  },
  {
   "cell_type": "code",
   "execution_count": 14,
   "metadata": {},
   "outputs": [],
   "source": [
    "calls['month'] = pd.DatetimeIndex(calls['call_date']).month\n",
    "messages['month'] = pd.DatetimeIndex(messages['message_date']).month\n",
    "internet['month'] = pd.DatetimeIndex(internet['session_date']).month\n"
   ]
  },
  {
   "cell_type": "markdown",
   "metadata": {},
   "source": [
    "## Посчитаем для каждого пользователя смс,минуты и гб"
   ]
  },
  {
   "cell_type": "code",
   "execution_count": 15,
   "metadata": {},
   "outputs": [
    {
     "data": {
      "text/html": [
       "<div>\n",
       "<style scoped>\n",
       "    .dataframe tbody tr th:only-of-type {\n",
       "        vertical-align: middle;\n",
       "    }\n",
       "\n",
       "    .dataframe tbody tr th {\n",
       "        vertical-align: top;\n",
       "    }\n",
       "\n",
       "    .dataframe thead th {\n",
       "        text-align: right;\n",
       "    }\n",
       "</style>\n",
       "<table border=\"1\" class=\"dataframe\">\n",
       "  <thead>\n",
       "    <tr style=\"text-align: right;\">\n",
       "      <th></th>\n",
       "      <th></th>\n",
       "      <th>sum_duration</th>\n",
       "      <th>count_duration</th>\n",
       "    </tr>\n",
       "    <tr>\n",
       "      <th>user_id</th>\n",
       "      <th>month</th>\n",
       "      <th></th>\n",
       "      <th></th>\n",
       "    </tr>\n",
       "  </thead>\n",
       "  <tbody>\n",
       "    <tr>\n",
       "      <th rowspan=\"5\" valign=\"top\">1000</th>\n",
       "      <th>5</th>\n",
       "      <td>159.0</td>\n",
       "      <td>22</td>\n",
       "    </tr>\n",
       "    <tr>\n",
       "      <th>6</th>\n",
       "      <td>172.0</td>\n",
       "      <td>43</td>\n",
       "    </tr>\n",
       "    <tr>\n",
       "      <th>7</th>\n",
       "      <td>340.0</td>\n",
       "      <td>47</td>\n",
       "    </tr>\n",
       "    <tr>\n",
       "      <th>8</th>\n",
       "      <td>408.0</td>\n",
       "      <td>52</td>\n",
       "    </tr>\n",
       "    <tr>\n",
       "      <th>9</th>\n",
       "      <td>466.0</td>\n",
       "      <td>58</td>\n",
       "    </tr>\n",
       "    <tr>\n",
       "      <th>...</th>\n",
       "      <th>...</th>\n",
       "      <td>...</td>\n",
       "      <td>...</td>\n",
       "    </tr>\n",
       "    <tr>\n",
       "      <th>1498</th>\n",
       "      <th>10</th>\n",
       "      <td>247.0</td>\n",
       "      <td>41</td>\n",
       "    </tr>\n",
       "    <tr>\n",
       "      <th rowspan=\"4\" valign=\"top\">1499</th>\n",
       "      <th>9</th>\n",
       "      <td>70.0</td>\n",
       "      <td>9</td>\n",
       "    </tr>\n",
       "    <tr>\n",
       "      <th>10</th>\n",
       "      <td>449.0</td>\n",
       "      <td>68</td>\n",
       "    </tr>\n",
       "    <tr>\n",
       "      <th>11</th>\n",
       "      <td>612.0</td>\n",
       "      <td>74</td>\n",
       "    </tr>\n",
       "    <tr>\n",
       "      <th>12</th>\n",
       "      <td>492.0</td>\n",
       "      <td>69</td>\n",
       "    </tr>\n",
       "  </tbody>\n",
       "</table>\n",
       "<p>3174 rows × 2 columns</p>\n",
       "</div>"
      ],
      "text/plain": [
       "               sum_duration  count_duration\n",
       "user_id month                              \n",
       "1000    5             159.0              22\n",
       "        6             172.0              43\n",
       "        7             340.0              47\n",
       "        8             408.0              52\n",
       "        9             466.0              58\n",
       "...                     ...             ...\n",
       "1498    10            247.0              41\n",
       "1499    9              70.0               9\n",
       "        10            449.0              68\n",
       "        11            612.0              74\n",
       "        12            492.0              69\n",
       "\n",
       "[3174 rows x 2 columns]"
      ]
     },
     "execution_count": 15,
     "metadata": {},
     "output_type": "execute_result"
    }
   ],
   "source": [
    "calls_pivot_table = calls.pivot_table(index = ['user_id','month'], values = 'duration',aggfunc = ['sum','count'])\n",
    "calls_pivot_table.columns = ['sum_duration','count_duration']\n",
    "calls_pivot_table\n"
   ]
  },
  {
   "cell_type": "code",
   "execution_count": 16,
   "metadata": {},
   "outputs": [
    {
     "data": {
      "text/html": [
       "<div>\n",
       "<style scoped>\n",
       "    .dataframe tbody tr th:only-of-type {\n",
       "        vertical-align: middle;\n",
       "    }\n",
       "\n",
       "    .dataframe tbody tr th {\n",
       "        vertical-align: top;\n",
       "    }\n",
       "\n",
       "    .dataframe thead th {\n",
       "        text-align: right;\n",
       "    }\n",
       "</style>\n",
       "<table border=\"1\" class=\"dataframe\">\n",
       "  <thead>\n",
       "    <tr style=\"text-align: right;\">\n",
       "      <th></th>\n",
       "      <th></th>\n",
       "      <th>number_of_messages</th>\n",
       "    </tr>\n",
       "    <tr>\n",
       "      <th>user_id</th>\n",
       "      <th>month</th>\n",
       "      <th></th>\n",
       "    </tr>\n",
       "  </thead>\n",
       "  <tbody>\n",
       "    <tr>\n",
       "      <th rowspan=\"5\" valign=\"top\">1000</th>\n",
       "      <th>5</th>\n",
       "      <td>22</td>\n",
       "    </tr>\n",
       "    <tr>\n",
       "      <th>6</th>\n",
       "      <td>60</td>\n",
       "    </tr>\n",
       "    <tr>\n",
       "      <th>7</th>\n",
       "      <td>75</td>\n",
       "    </tr>\n",
       "    <tr>\n",
       "      <th>8</th>\n",
       "      <td>81</td>\n",
       "    </tr>\n",
       "    <tr>\n",
       "      <th>9</th>\n",
       "      <td>57</td>\n",
       "    </tr>\n",
       "    <tr>\n",
       "      <th>...</th>\n",
       "      <th>...</th>\n",
       "      <td>...</td>\n",
       "    </tr>\n",
       "    <tr>\n",
       "      <th>1498</th>\n",
       "      <th>10</th>\n",
       "      <td>42</td>\n",
       "    </tr>\n",
       "    <tr>\n",
       "      <th rowspan=\"4\" valign=\"top\">1499</th>\n",
       "      <th>9</th>\n",
       "      <td>11</td>\n",
       "    </tr>\n",
       "    <tr>\n",
       "      <th>10</th>\n",
       "      <td>48</td>\n",
       "    </tr>\n",
       "    <tr>\n",
       "      <th>11</th>\n",
       "      <td>59</td>\n",
       "    </tr>\n",
       "    <tr>\n",
       "      <th>12</th>\n",
       "      <td>66</td>\n",
       "    </tr>\n",
       "  </tbody>\n",
       "</table>\n",
       "<p>2717 rows × 1 columns</p>\n",
       "</div>"
      ],
      "text/plain": [
       "               number_of_messages\n",
       "user_id month                    \n",
       "1000    5                      22\n",
       "        6                      60\n",
       "        7                      75\n",
       "        8                      81\n",
       "        9                      57\n",
       "...                           ...\n",
       "1498    10                     42\n",
       "1499    9                      11\n",
       "        10                     48\n",
       "        11                     59\n",
       "        12                     66\n",
       "\n",
       "[2717 rows x 1 columns]"
      ]
     },
     "execution_count": 16,
     "metadata": {},
     "output_type": "execute_result"
    }
   ],
   "source": [
    "messages_pivot_table = messages.pivot_table(index = ['user_id','month'],values ='id', aggfunc = 'count' )\n",
    "messages_pivot_table = messages_pivot_table.rename(columns = {'id':'number_of_messages'})\n",
    "messages_pivot_table"
   ]
  },
  {
   "cell_type": "code",
   "execution_count": 17,
   "metadata": {},
   "outputs": [
    {
     "data": {
      "text/html": [
       "<div>\n",
       "<style scoped>\n",
       "    .dataframe tbody tr th:only-of-type {\n",
       "        vertical-align: middle;\n",
       "    }\n",
       "\n",
       "    .dataframe tbody tr th {\n",
       "        vertical-align: top;\n",
       "    }\n",
       "\n",
       "    .dataframe thead th {\n",
       "        text-align: right;\n",
       "    }\n",
       "</style>\n",
       "<table border=\"1\" class=\"dataframe\">\n",
       "  <thead>\n",
       "    <tr style=\"text-align: right;\">\n",
       "      <th></th>\n",
       "      <th></th>\n",
       "      <th>mb_used</th>\n",
       "    </tr>\n",
       "    <tr>\n",
       "      <th>user_id</th>\n",
       "      <th>month</th>\n",
       "      <th></th>\n",
       "    </tr>\n",
       "  </thead>\n",
       "  <tbody>\n",
       "    <tr>\n",
       "      <th rowspan=\"5\" valign=\"top\">1000</th>\n",
       "      <th>5</th>\n",
       "      <td>2253.49</td>\n",
       "    </tr>\n",
       "    <tr>\n",
       "      <th>6</th>\n",
       "      <td>23233.77</td>\n",
       "    </tr>\n",
       "    <tr>\n",
       "      <th>7</th>\n",
       "      <td>14003.64</td>\n",
       "    </tr>\n",
       "    <tr>\n",
       "      <th>8</th>\n",
       "      <td>14055.93</td>\n",
       "    </tr>\n",
       "    <tr>\n",
       "      <th>9</th>\n",
       "      <td>14568.91</td>\n",
       "    </tr>\n",
       "    <tr>\n",
       "      <th>...</th>\n",
       "      <th>...</th>\n",
       "      <td>...</td>\n",
       "    </tr>\n",
       "    <tr>\n",
       "      <th>1498</th>\n",
       "      <th>10</th>\n",
       "      <td>20579.36</td>\n",
       "    </tr>\n",
       "    <tr>\n",
       "      <th rowspan=\"4\" valign=\"top\">1499</th>\n",
       "      <th>9</th>\n",
       "      <td>1845.75</td>\n",
       "    </tr>\n",
       "    <tr>\n",
       "      <th>10</th>\n",
       "      <td>17788.51</td>\n",
       "    </tr>\n",
       "    <tr>\n",
       "      <th>11</th>\n",
       "      <td>17963.31</td>\n",
       "    </tr>\n",
       "    <tr>\n",
       "      <th>12</th>\n",
       "      <td>13055.58</td>\n",
       "    </tr>\n",
       "  </tbody>\n",
       "</table>\n",
       "<p>3203 rows × 1 columns</p>\n",
       "</div>"
      ],
      "text/plain": [
       "                mb_used\n",
       "user_id month          \n",
       "1000    5       2253.49\n",
       "        6      23233.77\n",
       "        7      14003.64\n",
       "        8      14055.93\n",
       "        9      14568.91\n",
       "...                 ...\n",
       "1498    10     20579.36\n",
       "1499    9       1845.75\n",
       "        10     17788.51\n",
       "        11     17963.31\n",
       "        12     13055.58\n",
       "\n",
       "[3203 rows x 1 columns]"
      ]
     },
     "execution_count": 17,
     "metadata": {},
     "output_type": "execute_result"
    }
   ],
   "source": [
    "internet_pivot_table = internet.pivot_table(index = ['user_id','month'], values = 'mb_used', aggfunc = 'sum')\n",
    "internet_pivot_table"
   ]
  },
  {
   "cell_type": "code",
   "execution_count": 18,
   "metadata": {},
   "outputs": [],
   "source": [
    "df = internet_pivot_table.join(messages_pivot_table, on = ['user_id','month'], how='outer')"
   ]
  },
  {
   "cell_type": "code",
   "execution_count": 19,
   "metadata": {},
   "outputs": [],
   "source": [
    "df = df.join(calls_pivot_table, on = ['user_id','month'], how='outer')"
   ]
  },
  {
   "cell_type": "code",
   "execution_count": 20,
   "metadata": {},
   "outputs": [
    {
     "data": {
      "text/html": [
       "<div>\n",
       "<style scoped>\n",
       "    .dataframe tbody tr th:only-of-type {\n",
       "        vertical-align: middle;\n",
       "    }\n",
       "\n",
       "    .dataframe tbody tr th {\n",
       "        vertical-align: top;\n",
       "    }\n",
       "\n",
       "    .dataframe thead th {\n",
       "        text-align: right;\n",
       "    }\n",
       "</style>\n",
       "<table border=\"1\" class=\"dataframe\">\n",
       "  <thead>\n",
       "    <tr style=\"text-align: right;\">\n",
       "      <th></th>\n",
       "      <th></th>\n",
       "      <th>mb_used</th>\n",
       "      <th>number_of_messages</th>\n",
       "      <th>sum_duration</th>\n",
       "      <th>count_duration</th>\n",
       "      <th>gb_used</th>\n",
       "    </tr>\n",
       "    <tr>\n",
       "      <th>user_id</th>\n",
       "      <th>month</th>\n",
       "      <th></th>\n",
       "      <th></th>\n",
       "      <th></th>\n",
       "      <th></th>\n",
       "      <th></th>\n",
       "    </tr>\n",
       "  </thead>\n",
       "  <tbody>\n",
       "    <tr>\n",
       "      <th rowspan=\"5\" valign=\"top\">1000</th>\n",
       "      <th>5</th>\n",
       "      <td>2253.49</td>\n",
       "      <td>22.0</td>\n",
       "      <td>159.0</td>\n",
       "      <td>22.0</td>\n",
       "      <td>3.0</td>\n",
       "    </tr>\n",
       "    <tr>\n",
       "      <th>6</th>\n",
       "      <td>23233.77</td>\n",
       "      <td>60.0</td>\n",
       "      <td>172.0</td>\n",
       "      <td>43.0</td>\n",
       "      <td>23.0</td>\n",
       "    </tr>\n",
       "    <tr>\n",
       "      <th>7</th>\n",
       "      <td>14003.64</td>\n",
       "      <td>75.0</td>\n",
       "      <td>340.0</td>\n",
       "      <td>47.0</td>\n",
       "      <td>14.0</td>\n",
       "    </tr>\n",
       "    <tr>\n",
       "      <th>8</th>\n",
       "      <td>14055.93</td>\n",
       "      <td>81.0</td>\n",
       "      <td>408.0</td>\n",
       "      <td>52.0</td>\n",
       "      <td>14.0</td>\n",
       "    </tr>\n",
       "    <tr>\n",
       "      <th>9</th>\n",
       "      <td>14568.91</td>\n",
       "      <td>57.0</td>\n",
       "      <td>466.0</td>\n",
       "      <td>58.0</td>\n",
       "      <td>15.0</td>\n",
       "    </tr>\n",
       "    <tr>\n",
       "      <th>...</th>\n",
       "      <th>...</th>\n",
       "      <td>...</td>\n",
       "      <td>...</td>\n",
       "      <td>...</td>\n",
       "      <td>...</td>\n",
       "      <td>...</td>\n",
       "    </tr>\n",
       "    <tr>\n",
       "      <th rowspan=\"2\" valign=\"top\">1273</th>\n",
       "      <th>11</th>\n",
       "      <td>NaN</td>\n",
       "      <td>29.0</td>\n",
       "      <td>272.0</td>\n",
       "      <td>45.0</td>\n",
       "      <td>NaN</td>\n",
       "    </tr>\n",
       "    <tr>\n",
       "      <th>12</th>\n",
       "      <td>NaN</td>\n",
       "      <td>39.0</td>\n",
       "      <td>260.0</td>\n",
       "      <td>41.0</td>\n",
       "      <td>NaN</td>\n",
       "    </tr>\n",
       "    <tr>\n",
       "      <th>1377</th>\n",
       "      <th>2</th>\n",
       "      <td>NaN</td>\n",
       "      <td>2.0</td>\n",
       "      <td>179.0</td>\n",
       "      <td>23.0</td>\n",
       "      <td>NaN</td>\n",
       "    </tr>\n",
       "    <tr>\n",
       "      <th>1392</th>\n",
       "      <th>2</th>\n",
       "      <td>NaN</td>\n",
       "      <td>3.0</td>\n",
       "      <td>13.0</td>\n",
       "      <td>2.0</td>\n",
       "      <td>NaN</td>\n",
       "    </tr>\n",
       "    <tr>\n",
       "      <th>1446</th>\n",
       "      <th>8</th>\n",
       "      <td>NaN</td>\n",
       "      <td>1.0</td>\n",
       "      <td>50.0</td>\n",
       "      <td>4.0</td>\n",
       "      <td>NaN</td>\n",
       "    </tr>\n",
       "  </tbody>\n",
       "</table>\n",
       "<p>3214 rows × 5 columns</p>\n",
       "</div>"
      ],
      "text/plain": [
       "                mb_used  number_of_messages  sum_duration  count_duration  \\\n",
       "user_id month                                                               \n",
       "1000    5       2253.49                22.0         159.0            22.0   \n",
       "        6      23233.77                60.0         172.0            43.0   \n",
       "        7      14003.64                75.0         340.0            47.0   \n",
       "        8      14055.93                81.0         408.0            52.0   \n",
       "        9      14568.91                57.0         466.0            58.0   \n",
       "...                 ...                 ...           ...             ...   \n",
       "1273    11          NaN                29.0         272.0            45.0   \n",
       "        12          NaN                39.0         260.0            41.0   \n",
       "1377    2           NaN                 2.0         179.0            23.0   \n",
       "1392    2           NaN                 3.0          13.0             2.0   \n",
       "1446    8           NaN                 1.0          50.0             4.0   \n",
       "\n",
       "               gb_used  \n",
       "user_id month           \n",
       "1000    5          3.0  \n",
       "        6         23.0  \n",
       "        7         14.0  \n",
       "        8         14.0  \n",
       "        9         15.0  \n",
       "...                ...  \n",
       "1273    11         NaN  \n",
       "        12         NaN  \n",
       "1377    2          NaN  \n",
       "1392    2          NaN  \n",
       "1446    8          NaN  \n",
       "\n",
       "[3214 rows x 5 columns]"
      ]
     },
     "execution_count": 20,
     "metadata": {},
     "output_type": "execute_result"
    }
   ],
   "source": [
    "df['gb_used'] = np.ceil(df['mb_used']/1024)\n",
    "df"
   ]
  },
  {
   "cell_type": "markdown",
   "metadata": {},
   "source": [
    "Мегабайты приведены к гигабайтам и округлены в большую сторону."
   ]
  },
  {
   "cell_type": "code",
   "execution_count": 21,
   "metadata": {},
   "outputs": [
    {
     "data": {
      "text/html": [
       "<div>\n",
       "<style scoped>\n",
       "    .dataframe tbody tr th:only-of-type {\n",
       "        vertical-align: middle;\n",
       "    }\n",
       "\n",
       "    .dataframe tbody tr th {\n",
       "        vertical-align: top;\n",
       "    }\n",
       "\n",
       "    .dataframe thead th {\n",
       "        text-align: right;\n",
       "    }\n",
       "</style>\n",
       "<table border=\"1\" class=\"dataframe\">\n",
       "  <thead>\n",
       "    <tr style=\"text-align: right;\">\n",
       "      <th></th>\n",
       "      <th>user_id</th>\n",
       "      <th>month</th>\n",
       "      <th>mb_used</th>\n",
       "      <th>number_of_messages</th>\n",
       "      <th>sum_duration</th>\n",
       "      <th>count_duration</th>\n",
       "      <th>gb_used</th>\n",
       "    </tr>\n",
       "  </thead>\n",
       "  <tbody>\n",
       "    <tr>\n",
       "      <th>0</th>\n",
       "      <td>1000</td>\n",
       "      <td>5</td>\n",
       "      <td>2253.49</td>\n",
       "      <td>22.0</td>\n",
       "      <td>159.0</td>\n",
       "      <td>22.0</td>\n",
       "      <td>3.0</td>\n",
       "    </tr>\n",
       "    <tr>\n",
       "      <th>1</th>\n",
       "      <td>1000</td>\n",
       "      <td>6</td>\n",
       "      <td>23233.77</td>\n",
       "      <td>60.0</td>\n",
       "      <td>172.0</td>\n",
       "      <td>43.0</td>\n",
       "      <td>23.0</td>\n",
       "    </tr>\n",
       "    <tr>\n",
       "      <th>2</th>\n",
       "      <td>1000</td>\n",
       "      <td>7</td>\n",
       "      <td>14003.64</td>\n",
       "      <td>75.0</td>\n",
       "      <td>340.0</td>\n",
       "      <td>47.0</td>\n",
       "      <td>14.0</td>\n",
       "    </tr>\n",
       "    <tr>\n",
       "      <th>3</th>\n",
       "      <td>1000</td>\n",
       "      <td>8</td>\n",
       "      <td>14055.93</td>\n",
       "      <td>81.0</td>\n",
       "      <td>408.0</td>\n",
       "      <td>52.0</td>\n",
       "      <td>14.0</td>\n",
       "    </tr>\n",
       "    <tr>\n",
       "      <th>4</th>\n",
       "      <td>1000</td>\n",
       "      <td>9</td>\n",
       "      <td>14568.91</td>\n",
       "      <td>57.0</td>\n",
       "      <td>466.0</td>\n",
       "      <td>58.0</td>\n",
       "      <td>15.0</td>\n",
       "    </tr>\n",
       "    <tr>\n",
       "      <th>...</th>\n",
       "      <td>...</td>\n",
       "      <td>...</td>\n",
       "      <td>...</td>\n",
       "      <td>...</td>\n",
       "      <td>...</td>\n",
       "      <td>...</td>\n",
       "      <td>...</td>\n",
       "    </tr>\n",
       "    <tr>\n",
       "      <th>3209</th>\n",
       "      <td>1273</td>\n",
       "      <td>11</td>\n",
       "      <td>NaN</td>\n",
       "      <td>29.0</td>\n",
       "      <td>272.0</td>\n",
       "      <td>45.0</td>\n",
       "      <td>NaN</td>\n",
       "    </tr>\n",
       "    <tr>\n",
       "      <th>3210</th>\n",
       "      <td>1273</td>\n",
       "      <td>12</td>\n",
       "      <td>NaN</td>\n",
       "      <td>39.0</td>\n",
       "      <td>260.0</td>\n",
       "      <td>41.0</td>\n",
       "      <td>NaN</td>\n",
       "    </tr>\n",
       "    <tr>\n",
       "      <th>3211</th>\n",
       "      <td>1377</td>\n",
       "      <td>2</td>\n",
       "      <td>NaN</td>\n",
       "      <td>2.0</td>\n",
       "      <td>179.0</td>\n",
       "      <td>23.0</td>\n",
       "      <td>NaN</td>\n",
       "    </tr>\n",
       "    <tr>\n",
       "      <th>3212</th>\n",
       "      <td>1392</td>\n",
       "      <td>2</td>\n",
       "      <td>NaN</td>\n",
       "      <td>3.0</td>\n",
       "      <td>13.0</td>\n",
       "      <td>2.0</td>\n",
       "      <td>NaN</td>\n",
       "    </tr>\n",
       "    <tr>\n",
       "      <th>3213</th>\n",
       "      <td>1446</td>\n",
       "      <td>8</td>\n",
       "      <td>NaN</td>\n",
       "      <td>1.0</td>\n",
       "      <td>50.0</td>\n",
       "      <td>4.0</td>\n",
       "      <td>NaN</td>\n",
       "    </tr>\n",
       "  </tbody>\n",
       "</table>\n",
       "<p>3214 rows × 7 columns</p>\n",
       "</div>"
      ],
      "text/plain": [
       "      user_id  month   mb_used  number_of_messages  sum_duration  \\\n",
       "0        1000      5   2253.49                22.0         159.0   \n",
       "1        1000      6  23233.77                60.0         172.0   \n",
       "2        1000      7  14003.64                75.0         340.0   \n",
       "3        1000      8  14055.93                81.0         408.0   \n",
       "4        1000      9  14568.91                57.0         466.0   \n",
       "...       ...    ...       ...                 ...           ...   \n",
       "3209     1273     11       NaN                29.0         272.0   \n",
       "3210     1273     12       NaN                39.0         260.0   \n",
       "3211     1377      2       NaN                 2.0         179.0   \n",
       "3212     1392      2       NaN                 3.0          13.0   \n",
       "3213     1446      8       NaN                 1.0          50.0   \n",
       "\n",
       "      count_duration  gb_used  \n",
       "0               22.0      3.0  \n",
       "1               43.0     23.0  \n",
       "2               47.0     14.0  \n",
       "3               52.0     14.0  \n",
       "4               58.0     15.0  \n",
       "...              ...      ...  \n",
       "3209            45.0      NaN  \n",
       "3210            41.0      NaN  \n",
       "3211            23.0      NaN  \n",
       "3212             2.0      NaN  \n",
       "3213             4.0      NaN  \n",
       "\n",
       "[3214 rows x 7 columns]"
      ]
     },
     "execution_count": 21,
     "metadata": {},
     "output_type": "execute_result"
    }
   ],
   "source": [
    "df = pd.DataFrame(df.to_records())\n",
    "df"
   ]
  },
  {
   "cell_type": "code",
   "execution_count": 22,
   "metadata": {},
   "outputs": [
    {
     "data": {
      "text/plain": [
       "Index(['user_id', 'month', 'mb_used', 'number_of_messages', 'sum_duration',\n",
       "       'count_duration', 'gb_used'],\n",
       "      dtype='object')"
      ]
     },
     "execution_count": 22,
     "metadata": {},
     "output_type": "execute_result"
    }
   ],
   "source": [
    "df.columns"
   ]
  },
  {
   "cell_type": "code",
   "execution_count": 23,
   "metadata": {},
   "outputs": [],
   "source": [
    "df = df.merge(users, on = 'user_id',how = 'outer')"
   ]
  },
  {
   "cell_type": "code",
   "execution_count": 24,
   "metadata": {},
   "outputs": [
    {
     "data": {
      "text/html": [
       "<div>\n",
       "<style scoped>\n",
       "    .dataframe tbody tr th:only-of-type {\n",
       "        vertical-align: middle;\n",
       "    }\n",
       "\n",
       "    .dataframe tbody tr th {\n",
       "        vertical-align: top;\n",
       "    }\n",
       "\n",
       "    .dataframe thead th {\n",
       "        text-align: right;\n",
       "    }\n",
       "</style>\n",
       "<table border=\"1\" class=\"dataframe\">\n",
       "  <thead>\n",
       "    <tr style=\"text-align: right;\">\n",
       "      <th></th>\n",
       "      <th>user_id</th>\n",
       "      <th>month</th>\n",
       "      <th>mb_used</th>\n",
       "      <th>number_of_messages</th>\n",
       "      <th>sum_duration</th>\n",
       "      <th>count_duration</th>\n",
       "      <th>gb_used</th>\n",
       "      <th>age</th>\n",
       "      <th>churn_date</th>\n",
       "      <th>city</th>\n",
       "      <th>first_name</th>\n",
       "      <th>last_name</th>\n",
       "      <th>reg_date</th>\n",
       "      <th>tariff</th>\n",
       "    </tr>\n",
       "  </thead>\n",
       "  <tbody>\n",
       "    <tr>\n",
       "      <th>0</th>\n",
       "      <td>1000</td>\n",
       "      <td>5.0</td>\n",
       "      <td>2253.49</td>\n",
       "      <td>22.0</td>\n",
       "      <td>159.0</td>\n",
       "      <td>22.0</td>\n",
       "      <td>3.0</td>\n",
       "      <td>52</td>\n",
       "      <td>0</td>\n",
       "      <td>Краснодар</td>\n",
       "      <td>Рафаил</td>\n",
       "      <td>Верещагин</td>\n",
       "      <td>2018-05-25</td>\n",
       "      <td>ultra</td>\n",
       "    </tr>\n",
       "    <tr>\n",
       "      <th>1</th>\n",
       "      <td>1000</td>\n",
       "      <td>6.0</td>\n",
       "      <td>23233.77</td>\n",
       "      <td>60.0</td>\n",
       "      <td>172.0</td>\n",
       "      <td>43.0</td>\n",
       "      <td>23.0</td>\n",
       "      <td>52</td>\n",
       "      <td>0</td>\n",
       "      <td>Краснодар</td>\n",
       "      <td>Рафаил</td>\n",
       "      <td>Верещагин</td>\n",
       "      <td>2018-05-25</td>\n",
       "      <td>ultra</td>\n",
       "    </tr>\n",
       "    <tr>\n",
       "      <th>2</th>\n",
       "      <td>1000</td>\n",
       "      <td>7.0</td>\n",
       "      <td>14003.64</td>\n",
       "      <td>75.0</td>\n",
       "      <td>340.0</td>\n",
       "      <td>47.0</td>\n",
       "      <td>14.0</td>\n",
       "      <td>52</td>\n",
       "      <td>0</td>\n",
       "      <td>Краснодар</td>\n",
       "      <td>Рафаил</td>\n",
       "      <td>Верещагин</td>\n",
       "      <td>2018-05-25</td>\n",
       "      <td>ultra</td>\n",
       "    </tr>\n",
       "    <tr>\n",
       "      <th>3</th>\n",
       "      <td>1000</td>\n",
       "      <td>8.0</td>\n",
       "      <td>14055.93</td>\n",
       "      <td>81.0</td>\n",
       "      <td>408.0</td>\n",
       "      <td>52.0</td>\n",
       "      <td>14.0</td>\n",
       "      <td>52</td>\n",
       "      <td>0</td>\n",
       "      <td>Краснодар</td>\n",
       "      <td>Рафаил</td>\n",
       "      <td>Верещагин</td>\n",
       "      <td>2018-05-25</td>\n",
       "      <td>ultra</td>\n",
       "    </tr>\n",
       "    <tr>\n",
       "      <th>4</th>\n",
       "      <td>1000</td>\n",
       "      <td>9.0</td>\n",
       "      <td>14568.91</td>\n",
       "      <td>57.0</td>\n",
       "      <td>466.0</td>\n",
       "      <td>58.0</td>\n",
       "      <td>15.0</td>\n",
       "      <td>52</td>\n",
       "      <td>0</td>\n",
       "      <td>Краснодар</td>\n",
       "      <td>Рафаил</td>\n",
       "      <td>Верещагин</td>\n",
       "      <td>2018-05-25</td>\n",
       "      <td>ultra</td>\n",
       "    </tr>\n",
       "    <tr>\n",
       "      <th>...</th>\n",
       "      <td>...</td>\n",
       "      <td>...</td>\n",
       "      <td>...</td>\n",
       "      <td>...</td>\n",
       "      <td>...</td>\n",
       "      <td>...</td>\n",
       "      <td>...</td>\n",
       "      <td>...</td>\n",
       "      <td>...</td>\n",
       "      <td>...</td>\n",
       "      <td>...</td>\n",
       "      <td>...</td>\n",
       "      <td>...</td>\n",
       "      <td>...</td>\n",
       "    </tr>\n",
       "    <tr>\n",
       "      <th>3211</th>\n",
       "      <td>1273</td>\n",
       "      <td>10.0</td>\n",
       "      <td>0.00</td>\n",
       "      <td>35.0</td>\n",
       "      <td>315.0</td>\n",
       "      <td>40.0</td>\n",
       "      <td>0.0</td>\n",
       "      <td>46</td>\n",
       "      <td>0</td>\n",
       "      <td>Курган</td>\n",
       "      <td>Рэм</td>\n",
       "      <td>Корнилов</td>\n",
       "      <td>2018-05-15</td>\n",
       "      <td>ultra</td>\n",
       "    </tr>\n",
       "    <tr>\n",
       "      <th>3212</th>\n",
       "      <td>1273</td>\n",
       "      <td>11.0</td>\n",
       "      <td>0.00</td>\n",
       "      <td>29.0</td>\n",
       "      <td>272.0</td>\n",
       "      <td>45.0</td>\n",
       "      <td>0.0</td>\n",
       "      <td>46</td>\n",
       "      <td>0</td>\n",
       "      <td>Курган</td>\n",
       "      <td>Рэм</td>\n",
       "      <td>Корнилов</td>\n",
       "      <td>2018-05-15</td>\n",
       "      <td>ultra</td>\n",
       "    </tr>\n",
       "    <tr>\n",
       "      <th>3213</th>\n",
       "      <td>1273</td>\n",
       "      <td>12.0</td>\n",
       "      <td>0.00</td>\n",
       "      <td>39.0</td>\n",
       "      <td>260.0</td>\n",
       "      <td>41.0</td>\n",
       "      <td>0.0</td>\n",
       "      <td>46</td>\n",
       "      <td>0</td>\n",
       "      <td>Курган</td>\n",
       "      <td>Рэм</td>\n",
       "      <td>Корнилов</td>\n",
       "      <td>2018-05-15</td>\n",
       "      <td>ultra</td>\n",
       "    </tr>\n",
       "    <tr>\n",
       "      <th>3214</th>\n",
       "      <td>1128</td>\n",
       "      <td>0.0</td>\n",
       "      <td>0.00</td>\n",
       "      <td>0.0</td>\n",
       "      <td>0.0</td>\n",
       "      <td>0.0</td>\n",
       "      <td>0.0</td>\n",
       "      <td>51</td>\n",
       "      <td>2018-12-23 00:00:00</td>\n",
       "      <td>Волжский</td>\n",
       "      <td>Ксения</td>\n",
       "      <td>Агаева</td>\n",
       "      <td>2018-12-15</td>\n",
       "      <td>ultra</td>\n",
       "    </tr>\n",
       "    <tr>\n",
       "      <th>3215</th>\n",
       "      <td>1371</td>\n",
       "      <td>0.0</td>\n",
       "      <td>0.00</td>\n",
       "      <td>0.0</td>\n",
       "      <td>0.0</td>\n",
       "      <td>0.0</td>\n",
       "      <td>0.0</td>\n",
       "      <td>50</td>\n",
       "      <td>2018-12-30 00:00:00</td>\n",
       "      <td>Омск</td>\n",
       "      <td>Ириней</td>\n",
       "      <td>Трофимов</td>\n",
       "      <td>2018-12-25</td>\n",
       "      <td>smart</td>\n",
       "    </tr>\n",
       "  </tbody>\n",
       "</table>\n",
       "<p>3216 rows × 14 columns</p>\n",
       "</div>"
      ],
      "text/plain": [
       "      user_id  month   mb_used  number_of_messages  sum_duration  \\\n",
       "0        1000    5.0   2253.49                22.0         159.0   \n",
       "1        1000    6.0  23233.77                60.0         172.0   \n",
       "2        1000    7.0  14003.64                75.0         340.0   \n",
       "3        1000    8.0  14055.93                81.0         408.0   \n",
       "4        1000    9.0  14568.91                57.0         466.0   \n",
       "...       ...    ...       ...                 ...           ...   \n",
       "3211     1273   10.0      0.00                35.0         315.0   \n",
       "3212     1273   11.0      0.00                29.0         272.0   \n",
       "3213     1273   12.0      0.00                39.0         260.0   \n",
       "3214     1128    0.0      0.00                 0.0           0.0   \n",
       "3215     1371    0.0      0.00                 0.0           0.0   \n",
       "\n",
       "      count_duration  gb_used  age           churn_date       city first_name  \\\n",
       "0               22.0      3.0   52                    0  Краснодар     Рафаил   \n",
       "1               43.0     23.0   52                    0  Краснодар     Рафаил   \n",
       "2               47.0     14.0   52                    0  Краснодар     Рафаил   \n",
       "3               52.0     14.0   52                    0  Краснодар     Рафаил   \n",
       "4               58.0     15.0   52                    0  Краснодар     Рафаил   \n",
       "...              ...      ...  ...                  ...        ...        ...   \n",
       "3211            40.0      0.0   46                    0     Курган        Рэм   \n",
       "3212            45.0      0.0   46                    0     Курган        Рэм   \n",
       "3213            41.0      0.0   46                    0     Курган        Рэм   \n",
       "3214             0.0      0.0   51  2018-12-23 00:00:00   Волжский     Ксения   \n",
       "3215             0.0      0.0   50  2018-12-30 00:00:00       Омск     Ириней   \n",
       "\n",
       "      last_name   reg_date tariff  \n",
       "0     Верещагин 2018-05-25  ultra  \n",
       "1     Верещагин 2018-05-25  ultra  \n",
       "2     Верещагин 2018-05-25  ultra  \n",
       "3     Верещагин 2018-05-25  ultra  \n",
       "4     Верещагин 2018-05-25  ultra  \n",
       "...         ...        ...    ...  \n",
       "3211   Корнилов 2018-05-15  ultra  \n",
       "3212   Корнилов 2018-05-15  ultra  \n",
       "3213   Корнилов 2018-05-15  ultra  \n",
       "3214     Агаева 2018-12-15  ultra  \n",
       "3215   Трофимов 2018-12-25  smart  \n",
       "\n",
       "[3216 rows x 14 columns]"
      ]
     },
     "execution_count": 24,
     "metadata": {},
     "output_type": "execute_result"
    }
   ],
   "source": [
    "df = df.fillna(0)\n",
    "df"
   ]
  },
  {
   "cell_type": "code",
   "execution_count": 25,
   "metadata": {},
   "outputs": [],
   "source": [
    "df['month'] = df['month'].astype('int')\n",
    "df['number_of_messages'] = df['number_of_messages'].astype('int')\n",
    "df['sum_duration'] = df['sum_duration'].astype('int')\n",
    "df['count_duration'] = df['count_duration'].astype('int')\n",
    "df['gb_used'] = df['gb_used'].astype('int')"
   ]
  },
  {
   "cell_type": "code",
   "execution_count": 26,
   "metadata": {},
   "outputs": [
    {
     "data": {
      "text/html": [
       "<div>\n",
       "<style scoped>\n",
       "    .dataframe tbody tr th:only-of-type {\n",
       "        vertical-align: middle;\n",
       "    }\n",
       "\n",
       "    .dataframe tbody tr th {\n",
       "        vertical-align: top;\n",
       "    }\n",
       "\n",
       "    .dataframe thead th {\n",
       "        text-align: right;\n",
       "    }\n",
       "</style>\n",
       "<table border=\"1\" class=\"dataframe\">\n",
       "  <thead>\n",
       "    <tr style=\"text-align: right;\">\n",
       "      <th></th>\n",
       "      <th>messages_included</th>\n",
       "      <th>mb_per_month_included</th>\n",
       "      <th>minutes_included</th>\n",
       "      <th>rub_monthly_fee</th>\n",
       "      <th>rub_per_gb</th>\n",
       "      <th>rub_per_message</th>\n",
       "      <th>rub_per_minute</th>\n",
       "      <th>tariff_name</th>\n",
       "      <th>gb_included</th>\n",
       "    </tr>\n",
       "  </thead>\n",
       "  <tbody>\n",
       "    <tr>\n",
       "      <th>0</th>\n",
       "      <td>50</td>\n",
       "      <td>15360</td>\n",
       "      <td>500</td>\n",
       "      <td>550</td>\n",
       "      <td>200</td>\n",
       "      <td>3</td>\n",
       "      <td>3</td>\n",
       "      <td>smart</td>\n",
       "      <td>15.0</td>\n",
       "    </tr>\n",
       "    <tr>\n",
       "      <th>1</th>\n",
       "      <td>1000</td>\n",
       "      <td>30720</td>\n",
       "      <td>3000</td>\n",
       "      <td>1950</td>\n",
       "      <td>150</td>\n",
       "      <td>1</td>\n",
       "      <td>1</td>\n",
       "      <td>ultra</td>\n",
       "      <td>30.0</td>\n",
       "    </tr>\n",
       "  </tbody>\n",
       "</table>\n",
       "</div>"
      ],
      "text/plain": [
       "   messages_included  mb_per_month_included  minutes_included  \\\n",
       "0                 50                  15360               500   \n",
       "1               1000                  30720              3000   \n",
       "\n",
       "   rub_monthly_fee  rub_per_gb  rub_per_message  rub_per_minute tariff_name  \\\n",
       "0              550         200                3               3       smart   \n",
       "1             1950         150                1               1       ultra   \n",
       "\n",
       "   gb_included  \n",
       "0         15.0  \n",
       "1         30.0  "
      ]
     },
     "execution_count": 26,
     "metadata": {},
     "output_type": "execute_result"
    }
   ],
   "source": [
    "tariffs['gb_included'] = np.ceil(tariffs['mb_per_month_included']/1024)\n",
    "tariffs"
   ]
  },
  {
   "cell_type": "code",
   "execution_count": 27,
   "metadata": {},
   "outputs": [
    {
     "data": {
      "text/html": [
       "<div>\n",
       "<style scoped>\n",
       "    .dataframe tbody tr th:only-of-type {\n",
       "        vertical-align: middle;\n",
       "    }\n",
       "\n",
       "    .dataframe tbody tr th {\n",
       "        vertical-align: top;\n",
       "    }\n",
       "\n",
       "    .dataframe thead th {\n",
       "        text-align: right;\n",
       "    }\n",
       "</style>\n",
       "<table border=\"1\" class=\"dataframe\">\n",
       "  <thead>\n",
       "    <tr style=\"text-align: right;\">\n",
       "      <th></th>\n",
       "      <th>user_id</th>\n",
       "      <th>month</th>\n",
       "      <th>mb_used</th>\n",
       "      <th>number_of_messages</th>\n",
       "      <th>sum_duration</th>\n",
       "      <th>count_duration</th>\n",
       "      <th>gb_used</th>\n",
       "      <th>age</th>\n",
       "      <th>churn_date</th>\n",
       "      <th>city</th>\n",
       "      <th>first_name</th>\n",
       "      <th>last_name</th>\n",
       "      <th>reg_date</th>\n",
       "      <th>tariff</th>\n",
       "      <th>revenue</th>\n",
       "    </tr>\n",
       "  </thead>\n",
       "  <tbody>\n",
       "    <tr>\n",
       "      <th>0</th>\n",
       "      <td>1000</td>\n",
       "      <td>5</td>\n",
       "      <td>2253.49</td>\n",
       "      <td>22</td>\n",
       "      <td>159</td>\n",
       "      <td>22</td>\n",
       "      <td>3</td>\n",
       "      <td>52</td>\n",
       "      <td>0</td>\n",
       "      <td>Краснодар</td>\n",
       "      <td>Рафаил</td>\n",
       "      <td>Верещагин</td>\n",
       "      <td>2018-05-25</td>\n",
       "      <td>ultra</td>\n",
       "      <td>1950.0</td>\n",
       "    </tr>\n",
       "    <tr>\n",
       "      <th>1</th>\n",
       "      <td>1000</td>\n",
       "      <td>6</td>\n",
       "      <td>23233.77</td>\n",
       "      <td>60</td>\n",
       "      <td>172</td>\n",
       "      <td>43</td>\n",
       "      <td>23</td>\n",
       "      <td>52</td>\n",
       "      <td>0</td>\n",
       "      <td>Краснодар</td>\n",
       "      <td>Рафаил</td>\n",
       "      <td>Верещагин</td>\n",
       "      <td>2018-05-25</td>\n",
       "      <td>ultra</td>\n",
       "      <td>1950.0</td>\n",
       "    </tr>\n",
       "    <tr>\n",
       "      <th>2</th>\n",
       "      <td>1000</td>\n",
       "      <td>7</td>\n",
       "      <td>14003.64</td>\n",
       "      <td>75</td>\n",
       "      <td>340</td>\n",
       "      <td>47</td>\n",
       "      <td>14</td>\n",
       "      <td>52</td>\n",
       "      <td>0</td>\n",
       "      <td>Краснодар</td>\n",
       "      <td>Рафаил</td>\n",
       "      <td>Верещагин</td>\n",
       "      <td>2018-05-25</td>\n",
       "      <td>ultra</td>\n",
       "      <td>1950.0</td>\n",
       "    </tr>\n",
       "    <tr>\n",
       "      <th>3</th>\n",
       "      <td>1000</td>\n",
       "      <td>8</td>\n",
       "      <td>14055.93</td>\n",
       "      <td>81</td>\n",
       "      <td>408</td>\n",
       "      <td>52</td>\n",
       "      <td>14</td>\n",
       "      <td>52</td>\n",
       "      <td>0</td>\n",
       "      <td>Краснодар</td>\n",
       "      <td>Рафаил</td>\n",
       "      <td>Верещагин</td>\n",
       "      <td>2018-05-25</td>\n",
       "      <td>ultra</td>\n",
       "      <td>1950.0</td>\n",
       "    </tr>\n",
       "    <tr>\n",
       "      <th>4</th>\n",
       "      <td>1000</td>\n",
       "      <td>9</td>\n",
       "      <td>14568.91</td>\n",
       "      <td>57</td>\n",
       "      <td>466</td>\n",
       "      <td>58</td>\n",
       "      <td>15</td>\n",
       "      <td>52</td>\n",
       "      <td>0</td>\n",
       "      <td>Краснодар</td>\n",
       "      <td>Рафаил</td>\n",
       "      <td>Верещагин</td>\n",
       "      <td>2018-05-25</td>\n",
       "      <td>ultra</td>\n",
       "      <td>1950.0</td>\n",
       "    </tr>\n",
       "    <tr>\n",
       "      <th>...</th>\n",
       "      <td>...</td>\n",
       "      <td>...</td>\n",
       "      <td>...</td>\n",
       "      <td>...</td>\n",
       "      <td>...</td>\n",
       "      <td>...</td>\n",
       "      <td>...</td>\n",
       "      <td>...</td>\n",
       "      <td>...</td>\n",
       "      <td>...</td>\n",
       "      <td>...</td>\n",
       "      <td>...</td>\n",
       "      <td>...</td>\n",
       "      <td>...</td>\n",
       "      <td>...</td>\n",
       "    </tr>\n",
       "    <tr>\n",
       "      <th>3211</th>\n",
       "      <td>1273</td>\n",
       "      <td>10</td>\n",
       "      <td>0.00</td>\n",
       "      <td>35</td>\n",
       "      <td>315</td>\n",
       "      <td>40</td>\n",
       "      <td>0</td>\n",
       "      <td>46</td>\n",
       "      <td>0</td>\n",
       "      <td>Курган</td>\n",
       "      <td>Рэм</td>\n",
       "      <td>Корнилов</td>\n",
       "      <td>2018-05-15</td>\n",
       "      <td>ultra</td>\n",
       "      <td>1950.0</td>\n",
       "    </tr>\n",
       "    <tr>\n",
       "      <th>3212</th>\n",
       "      <td>1273</td>\n",
       "      <td>11</td>\n",
       "      <td>0.00</td>\n",
       "      <td>29</td>\n",
       "      <td>272</td>\n",
       "      <td>45</td>\n",
       "      <td>0</td>\n",
       "      <td>46</td>\n",
       "      <td>0</td>\n",
       "      <td>Курган</td>\n",
       "      <td>Рэм</td>\n",
       "      <td>Корнилов</td>\n",
       "      <td>2018-05-15</td>\n",
       "      <td>ultra</td>\n",
       "      <td>1950.0</td>\n",
       "    </tr>\n",
       "    <tr>\n",
       "      <th>3213</th>\n",
       "      <td>1273</td>\n",
       "      <td>12</td>\n",
       "      <td>0.00</td>\n",
       "      <td>39</td>\n",
       "      <td>260</td>\n",
       "      <td>41</td>\n",
       "      <td>0</td>\n",
       "      <td>46</td>\n",
       "      <td>0</td>\n",
       "      <td>Курган</td>\n",
       "      <td>Рэм</td>\n",
       "      <td>Корнилов</td>\n",
       "      <td>2018-05-15</td>\n",
       "      <td>ultra</td>\n",
       "      <td>1950.0</td>\n",
       "    </tr>\n",
       "    <tr>\n",
       "      <th>3214</th>\n",
       "      <td>1128</td>\n",
       "      <td>0</td>\n",
       "      <td>0.00</td>\n",
       "      <td>0</td>\n",
       "      <td>0</td>\n",
       "      <td>0</td>\n",
       "      <td>0</td>\n",
       "      <td>51</td>\n",
       "      <td>2018-12-23 00:00:00</td>\n",
       "      <td>Волжский</td>\n",
       "      <td>Ксения</td>\n",
       "      <td>Агаева</td>\n",
       "      <td>2018-12-15</td>\n",
       "      <td>ultra</td>\n",
       "      <td>1950.0</td>\n",
       "    </tr>\n",
       "    <tr>\n",
       "      <th>3215</th>\n",
       "      <td>1371</td>\n",
       "      <td>0</td>\n",
       "      <td>0.00</td>\n",
       "      <td>0</td>\n",
       "      <td>0</td>\n",
       "      <td>0</td>\n",
       "      <td>0</td>\n",
       "      <td>50</td>\n",
       "      <td>2018-12-30 00:00:00</td>\n",
       "      <td>Омск</td>\n",
       "      <td>Ириней</td>\n",
       "      <td>Трофимов</td>\n",
       "      <td>2018-12-25</td>\n",
       "      <td>smart</td>\n",
       "      <td>550.0</td>\n",
       "    </tr>\n",
       "  </tbody>\n",
       "</table>\n",
       "<p>3216 rows × 15 columns</p>\n",
       "</div>"
      ],
      "text/plain": [
       "      user_id  month   mb_used  number_of_messages  sum_duration  \\\n",
       "0        1000      5   2253.49                  22           159   \n",
       "1        1000      6  23233.77                  60           172   \n",
       "2        1000      7  14003.64                  75           340   \n",
       "3        1000      8  14055.93                  81           408   \n",
       "4        1000      9  14568.91                  57           466   \n",
       "...       ...    ...       ...                 ...           ...   \n",
       "3211     1273     10      0.00                  35           315   \n",
       "3212     1273     11      0.00                  29           272   \n",
       "3213     1273     12      0.00                  39           260   \n",
       "3214     1128      0      0.00                   0             0   \n",
       "3215     1371      0      0.00                   0             0   \n",
       "\n",
       "      count_duration  gb_used  age           churn_date       city first_name  \\\n",
       "0                 22        3   52                    0  Краснодар     Рафаил   \n",
       "1                 43       23   52                    0  Краснодар     Рафаил   \n",
       "2                 47       14   52                    0  Краснодар     Рафаил   \n",
       "3                 52       14   52                    0  Краснодар     Рафаил   \n",
       "4                 58       15   52                    0  Краснодар     Рафаил   \n",
       "...              ...      ...  ...                  ...        ...        ...   \n",
       "3211              40        0   46                    0     Курган        Рэм   \n",
       "3212              45        0   46                    0     Курган        Рэм   \n",
       "3213              41        0   46                    0     Курган        Рэм   \n",
       "3214               0        0   51  2018-12-23 00:00:00   Волжский     Ксения   \n",
       "3215               0        0   50  2018-12-30 00:00:00       Омск     Ириней   \n",
       "\n",
       "      last_name   reg_date tariff  revenue  \n",
       "0     Верещагин 2018-05-25  ultra   1950.0  \n",
       "1     Верещагин 2018-05-25  ultra   1950.0  \n",
       "2     Верещагин 2018-05-25  ultra   1950.0  \n",
       "3     Верещагин 2018-05-25  ultra   1950.0  \n",
       "4     Верещагин 2018-05-25  ultra   1950.0  \n",
       "...         ...        ...    ...      ...  \n",
       "3211   Корнилов 2018-05-15  ultra   1950.0  \n",
       "3212   Корнилов 2018-05-15  ultra   1950.0  \n",
       "3213   Корнилов 2018-05-15  ultra   1950.0  \n",
       "3214     Агаева 2018-12-15  ultra   1950.0  \n",
       "3215   Трофимов 2018-12-25  smart    550.0  \n",
       "\n",
       "[3216 rows x 15 columns]"
      ]
     },
     "execution_count": 27,
     "metadata": {},
     "output_type": "execute_result"
    }
   ],
   "source": [
    "def revenue(df):\n",
    "    if df['tariff'] == 'smart':\n",
    "        if df['number_of_messages'] > tariffs['messages_included'][0]:\n",
    "            df['revenue_messages'] = (df.loc['number_of_messages'] - tariffs['messages_included'][0])*3\n",
    "        else:\n",
    "            df['revenue_messages'] = 0\n",
    "        if df['sum_duration'] > tariffs['minutes_included'][0]:\n",
    "            df['revenue_duration'] = (df.loc['sum_duration'] - tariffs['minutes_included'][0]) * 3\n",
    "        else:\n",
    "            df['revenue_duration'] = 0\n",
    "        if df['gb_used'] > tariffs['gb_included'][0]:\n",
    "            df['revenue_gb'] = (df.loc['gb_used'] - tariffs['gb_included'][0])*200\n",
    "        else:\n",
    "            df['revenue_gb'] = 0\n",
    "        return df['revenue_messages'] + df['revenue_duration'] + df['revenue_gb'] +550\n",
    "\n",
    "\n",
    "    else:\n",
    "        if df['number_of_messages'] > tariffs['messages_included'][1]:\n",
    "            df['revenue_messages'] = df.loc['number_of_messages'] - tariffs['messages_included'][1]\n",
    "        else:\n",
    "            df['revenue_messages'] = 0\n",
    "        if df['sum_duration'] > tariffs['minutes_included'][1]:\n",
    "            df['revenue_duration'] = df.loc['sum_duration'] - tariffs['minutes_included'][1]\n",
    "        else:\n",
    "            df['revenue_duration'] = 0\n",
    "        if df['gb_used'] > tariffs['gb_included'][1]:\n",
    "            df['revenue_gb'] = (df.loc['gb_used'] - tariffs['gb_included'][1])*150\n",
    "        else:\n",
    "            df['revenue_gb'] = 0\n",
    "        return df['revenue_messages'] + df['revenue_duration'] + df['revenue_gb'] + 1950\n",
    "df['revenue'] = df.apply(revenue,axis=1)\n",
    "df"
   ]
  },
  {
   "cell_type": "markdown",
   "metadata": {},
   "source": [
    "## Анализ данных"
   ]
  },
  {
   "cell_type": "markdown",
   "metadata": {},
   "source": [
    "### Сравнение израсходованных минут,сообщений и гб между тарифами"
   ]
  },
  {
   "cell_type": "code",
   "execution_count": 28,
   "metadata": {
    "scrolled": true
   },
   "outputs": [
    {
     "data": {
      "text/html": [
       "<div>\n",
       "<style scoped>\n",
       "    .dataframe tbody tr th:only-of-type {\n",
       "        vertical-align: middle;\n",
       "    }\n",
       "\n",
       "    .dataframe tbody tr th {\n",
       "        vertical-align: top;\n",
       "    }\n",
       "\n",
       "    .dataframe thead th {\n",
       "        text-align: right;\n",
       "    }\n",
       "</style>\n",
       "<table border=\"1\" class=\"dataframe\">\n",
       "  <thead>\n",
       "    <tr style=\"text-align: right;\">\n",
       "      <th></th>\n",
       "      <th>user_id</th>\n",
       "      <th>month</th>\n",
       "      <th>mb_used</th>\n",
       "      <th>number_of_messages</th>\n",
       "      <th>sum_duration</th>\n",
       "      <th>count_duration</th>\n",
       "      <th>gb_used</th>\n",
       "      <th>age</th>\n",
       "      <th>churn_date</th>\n",
       "      <th>city</th>\n",
       "      <th>first_name</th>\n",
       "      <th>last_name</th>\n",
       "      <th>reg_date</th>\n",
       "      <th>tariff</th>\n",
       "      <th>revenue</th>\n",
       "    </tr>\n",
       "  </thead>\n",
       "  <tbody>\n",
       "    <tr>\n",
       "      <th>3214</th>\n",
       "      <td>1128</td>\n",
       "      <td>0</td>\n",
       "      <td>0.0</td>\n",
       "      <td>0</td>\n",
       "      <td>0</td>\n",
       "      <td>0</td>\n",
       "      <td>0</td>\n",
       "      <td>51</td>\n",
       "      <td>2018-12-23 00:00:00</td>\n",
       "      <td>Волжский</td>\n",
       "      <td>Ксения</td>\n",
       "      <td>Агаева</td>\n",
       "      <td>2018-12-15</td>\n",
       "      <td>ultra</td>\n",
       "      <td>1950.0</td>\n",
       "    </tr>\n",
       "    <tr>\n",
       "      <th>3215</th>\n",
       "      <td>1371</td>\n",
       "      <td>0</td>\n",
       "      <td>0.0</td>\n",
       "      <td>0</td>\n",
       "      <td>0</td>\n",
       "      <td>0</td>\n",
       "      <td>0</td>\n",
       "      <td>50</td>\n",
       "      <td>2018-12-30 00:00:00</td>\n",
       "      <td>Омск</td>\n",
       "      <td>Ириней</td>\n",
       "      <td>Трофимов</td>\n",
       "      <td>2018-12-25</td>\n",
       "      <td>smart</td>\n",
       "      <td>550.0</td>\n",
       "    </tr>\n",
       "  </tbody>\n",
       "</table>\n",
       "</div>"
      ],
      "text/plain": [
       "      user_id  month  mb_used  number_of_messages  sum_duration  \\\n",
       "3214     1128      0      0.0                   0             0   \n",
       "3215     1371      0      0.0                   0             0   \n",
       "\n",
       "      count_duration  gb_used  age           churn_date      city first_name  \\\n",
       "3214               0        0   51  2018-12-23 00:00:00  Волжский     Ксения   \n",
       "3215               0        0   50  2018-12-30 00:00:00      Омск     Ириней   \n",
       "\n",
       "     last_name   reg_date tariff  revenue  \n",
       "3214    Агаева 2018-12-15  ultra   1950.0  \n",
       "3215  Трофимов 2018-12-25  smart    550.0  "
      ]
     },
     "execution_count": 28,
     "metadata": {},
     "output_type": "execute_result"
    }
   ],
   "source": [
    "df[df['month']==0]"
   ]
  },
  {
   "cell_type": "markdown",
   "metadata": {},
   "source": [
    "Два пользователя,которые оплатили тариф, ни разу им не пользовались и заблокировали меньше чем через месяц.Именно поэтому в данных о месяце стоит \"0\""
   ]
  },
  {
   "cell_type": "code",
   "execution_count": 29,
   "metadata": {},
   "outputs": [
    {
     "data": {
      "text/html": [
       "<div>\n",
       "<style scoped>\n",
       "    .dataframe tbody tr th:only-of-type {\n",
       "        vertical-align: middle;\n",
       "    }\n",
       "\n",
       "    .dataframe tbody tr th {\n",
       "        vertical-align: top;\n",
       "    }\n",
       "\n",
       "    .dataframe thead tr th {\n",
       "        text-align: left;\n",
       "    }\n",
       "\n",
       "    .dataframe thead tr:last-of-type th {\n",
       "        text-align: right;\n",
       "    }\n",
       "</style>\n",
       "<table border=\"1\" class=\"dataframe\">\n",
       "  <thead>\n",
       "    <tr>\n",
       "      <th></th>\n",
       "      <th colspan=\"3\" halign=\"left\">mean</th>\n",
       "      <th colspan=\"3\" halign=\"left\">std</th>\n",
       "      <th colspan=\"3\" halign=\"left\">var</th>\n",
       "      <th colspan=\"3\" halign=\"left\">median</th>\n",
       "    </tr>\n",
       "    <tr>\n",
       "      <th></th>\n",
       "      <th>gb_used</th>\n",
       "      <th>number_of_messages</th>\n",
       "      <th>sum_duration</th>\n",
       "      <th>gb_used</th>\n",
       "      <th>number_of_messages</th>\n",
       "      <th>sum_duration</th>\n",
       "      <th>gb_used</th>\n",
       "      <th>number_of_messages</th>\n",
       "      <th>sum_duration</th>\n",
       "      <th>gb_used</th>\n",
       "      <th>number_of_messages</th>\n",
       "      <th>sum_duration</th>\n",
       "    </tr>\n",
       "    <tr>\n",
       "      <th>tariff</th>\n",
       "      <th></th>\n",
       "      <th></th>\n",
       "      <th></th>\n",
       "      <th></th>\n",
       "      <th></th>\n",
       "      <th></th>\n",
       "      <th></th>\n",
       "      <th></th>\n",
       "      <th></th>\n",
       "      <th></th>\n",
       "      <th></th>\n",
       "      <th></th>\n",
       "    </tr>\n",
       "  </thead>\n",
       "  <tbody>\n",
       "    <tr>\n",
       "      <th>smart</th>\n",
       "      <td>16.321525</td>\n",
       "      <td>33.369058</td>\n",
       "      <td>417.747534</td>\n",
       "      <td>5.756167</td>\n",
       "      <td>28.230396</td>\n",
       "      <td>190.476754</td>\n",
       "      <td>33.133453</td>\n",
       "      <td>796.955256</td>\n",
       "      <td>36281.393836</td>\n",
       "      <td>17</td>\n",
       "      <td>28</td>\n",
       "      <td>421.5</td>\n",
       "    </tr>\n",
       "    <tr>\n",
       "      <th>ultra</th>\n",
       "      <td>19.474645</td>\n",
       "      <td>49.313387</td>\n",
       "      <td>526.089249</td>\n",
       "      <td>9.868057</td>\n",
       "      <td>47.806040</td>\n",
       "      <td>317.887549</td>\n",
       "      <td>97.378544</td>\n",
       "      <td>2285.417425</td>\n",
       "      <td>101052.493549</td>\n",
       "      <td>19</td>\n",
       "      <td>38</td>\n",
       "      <td>518.0</td>\n",
       "    </tr>\n",
       "  </tbody>\n",
       "</table>\n",
       "</div>"
      ],
      "text/plain": [
       "             mean                                       std  \\\n",
       "          gb_used number_of_messages sum_duration   gb_used   \n",
       "tariff                                                        \n",
       "smart   16.321525          33.369058   417.747534  5.756167   \n",
       "ultra   19.474645          49.313387   526.089249  9.868057   \n",
       "\n",
       "                                              var                     \\\n",
       "       number_of_messages sum_duration    gb_used number_of_messages   \n",
       "tariff                                                                 \n",
       "smart           28.230396   190.476754  33.133453         796.955256   \n",
       "ultra           47.806040   317.887549  97.378544        2285.417425   \n",
       "\n",
       "                       median                                  \n",
       "         sum_duration gb_used number_of_messages sum_duration  \n",
       "tariff                                                         \n",
       "smart    36281.393836      17                 28        421.5  \n",
       "ultra   101052.493549      19                 38        518.0  "
      ]
     },
     "execution_count": 29,
     "metadata": {},
     "output_type": "execute_result"
    }
   ],
   "source": [
    "pivot_table_df = df.pivot_table(index='tariff',\n",
    "                                values = ['number_of_messages','sum_duration','gb_used'],\n",
    "                                aggfunc = ['mean','std','var','median'])\n",
    "pivot_table_df"
   ]
  },
  {
   "cell_type": "markdown",
   "metadata": {},
   "source": [
    "В среднем пользователи тарифа \"Ультра\" больше использовали минут,сообщений и гб,чем пользователи тарифа \"Смарт\"."
   ]
  },
  {
   "cell_type": "code",
   "execution_count": 30,
   "metadata": {},
   "outputs": [
    {
     "name": "stdout",
     "output_type": "stream",
     "text": [
      "986\n",
      "2230\n"
     ]
    }
   ],
   "source": [
    "df_ultra = df[df['tariff']=='ultra']\n",
    "df_smart = df[df['tariff']=='smart']\n",
    "print(len(df_ultra))\n",
    "print(len(df_smart))"
   ]
  },
  {
   "cell_type": "code",
   "execution_count": 31,
   "metadata": {},
   "outputs": [
    {
     "data": {
      "image/png": "[encoded data removed]",
      "text/plain": [
       "<Figure size 432x288 with 1 Axes>"
      ]
     },
     "metadata": {
      "needs_background": "light"
     },
     "output_type": "display_data"
    }
   ],
   "source": [
    "df_ultra['number_of_messages'].hist(bins=25,alpha=0.5,label='ultra')\n",
    "df_smart['number_of_messages'].hist(bins=25,alpha=0.7,label='smart')\n",
    "plt.legend(loc='upper right')\n",
    "plt.title('Количество сообщений отправленных за один месяц')\n",
    "plt.xlabel('Количество сообщений')\n",
    "plt.show()"
   ]
  },
  {
   "cell_type": "markdown",
   "metadata": {},
   "source": [
    "Гистограмма пользователей тарифа 'Ультра' более вытянутая ,по сравнению с гистограммой 'Смарт'. Пик на 0,означает что пользователи некоторые пользователи совсем не пользуются сообщениями.На гистограмме \"распределение Пуассона\"."
   ]
  },
  {
   "cell_type": "code",
   "execution_count": 32,
   "metadata": {},
   "outputs": [
    {
     "data": {
      "image/png": "[encoded data removed]",
      "text/plain": [
       "<Figure size 432x288 with 1 Axes>"
      ]
     },
     "metadata": {
      "needs_background": "light"
     },
     "output_type": "display_data"
    }
   ],
   "source": [
    "df_ultra['sum_duration'].hist(bins=25,alpha=0.5,label = 'ultra')\n",
    "df_smart['sum_duration'].hist(bins=25,alpha=0.5,label = 'smart')\n",
    "plt.legend(loc ='upper right')\n",
    "plt.title('Количество израсходованных минут за месяц')\n",
    "plt.xlabel('Количество минут')\n",
    "plt.show()\n"
   ]
  },
  {
   "cell_type": "markdown",
   "metadata": {},
   "source": [
    "Гистограмма пользователей тарифа 'Ультра' более вытянутая ,по сравнению с гистограммой 'Смарт'."
   ]
  },
  {
   "cell_type": "code",
   "execution_count": 33,
   "metadata": {},
   "outputs": [
    {
     "data": {
      "image/png": "[encoded data removed]",
      "text/plain": [
       "<Figure size 432x288 with 1 Axes>"
      ]
     },
     "metadata": {
      "needs_background": "light"
     },
     "output_type": "display_data"
    }
   ],
   "source": [
    "df_ultra['gb_used'].hist(bins=25,alpha=0.5,label = 'ultra')\n",
    "df_smart['gb_used'].hist(bins=25,alpha=0.5,label = 'smart')\n",
    "plt.legend(loc = 'upper right')\n",
    "plt.title('Количество израсходованных Гб за месяц')\n",
    "plt.xlabel('Количество Гб')\n",
    "plt.show()"
   ]
  },
  {
   "cell_type": "markdown",
   "metadata": {},
   "source": [
    "Гистограмма пользователей тарифа 'Ультра' более вытянутая ,по сравнению с гистограммой 'Смарт'.На гистограмме нормальное распределение."
   ]
  },
  {
   "cell_type": "markdown",
   "metadata": {},
   "source": [
    "### Сравнение выручек между тарифами"
   ]
  },
  {
   "cell_type": "code",
   "execution_count": 34,
   "metadata": {},
   "outputs": [],
   "source": [
    "ultra = df.loc[df['tariff'] == 'ultra','revenue']\n",
    "smart = df.loc[df['tariff'] == 'smart','revenue']\n",
    "moscow = df.loc[df['city'] == 'Москва','revenue']\n",
    "no_moscow = df.loc[df['city'] != 'Москва','revenue']\n"
   ]
  },
  {
   "cell_type": "code",
   "execution_count": 35,
   "metadata": {},
   "outputs": [
    {
     "data": {
      "image/png": "[encoded data removed]",
      "text/plain": [
       "<Figure size 432x288 with 1 Axes>"
      ]
     },
     "metadata": {
      "needs_background": "light"
     },
     "output_type": "display_data"
    }
   ],
   "source": [
    "ultra.hist(bins=50,range=(1950,4000))\n",
    "plt.title('Сумма потраченная за месяц на одного пользователя на тарифе \"Ультра\"')\n",
    "plt.xlabel('Сумма потраченная за месяц')\n",
    "plt.show()\n",
    "           "
   ]
  },
  {
   "cell_type": "code",
   "execution_count": 36,
   "metadata": {},
   "outputs": [
    {
     "name": "stdout",
     "output_type": "stream",
     "text": [
      "Выручка не равная 1950 в выборке встречается - 134\n",
      "Выручка равная 1950 в выборке встречается - 852\n",
      "Средняя выручка в выборке на тарифе \"Ультра\"- 2070.030425963489\n"
     ]
    }
   ],
   "source": [
    "print('Выручка не равная 1950 в выборке встречается -',len(ultra[ultra != 1950]))\n",
    "print('Выручка равная 1950 в выборке встречается -',len(ultra[ultra == 1950]))\n",
    "print('Средняя выручка в выборке на тарифе \"Ультра\"-',ultra.mean())"
   ]
  },
  {
   "cell_type": "markdown",
   "metadata": {},
   "source": [
    "В выборке тарифа \"Ультра\", в 852 случах из 986  укладываются в лимиты тарифа,это 86,4%.Средняя выручка в выборке на тарифе ультра 2070."
   ]
  },
  {
   "cell_type": "code",
   "execution_count": 37,
   "metadata": {
    "scrolled": true
   },
   "outputs": [
    {
     "data": {
      "image/png": "[encoded data removed]",
      "text/plain": [
       "<Figure size 432x288 with 1 Axes>"
      ]
     },
     "metadata": {
      "needs_background": "light"
     },
     "output_type": "display_data"
    }
   ],
   "source": [
    "smart.hist(bins=50,range=(500,7000))\n",
    "plt.title('Сумма потраченная за месяц на одного пользователя на тарифе \"Смарт\"')\n",
    "plt.xlabel('Сумма потраченная за месяц')\n",
    "plt.show()"
   ]
  },
  {
   "cell_type": "code",
   "execution_count": 38,
   "metadata": {},
   "outputs": [
    {
     "name": "stdout",
     "output_type": "stream",
     "text": [
      "count    2230.000000\n",
      "mean     1289.641704\n",
      "std       818.370799\n",
      "min       550.000000\n",
      "25%       550.000000\n",
      "50%      1021.000000\n",
      "75%      1750.000000\n",
      "max      6770.000000\n",
      "Name: revenue, dtype: float64\n",
      "Количество пользователей укладывающихся в лимиты тарифа- 568\n"
     ]
    }
   ],
   "source": [
    "print(smart.describe())\n",
    "print('Количество пользователей укладывающихся в лимиты тарифа-',len(smart[smart==550]))"
   ]
  },
  {
   "cell_type": "markdown",
   "metadata": {},
   "source": [
    "Средняя выручка по тарифу \"Смарт\" равна 1290р, в лимиты тарифа укладываются 568 раз из 2230,это 25,6% .Медиана 1021р,а в 75% случаев укладываются в 1750р"
   ]
  },
  {
   "cell_type": "markdown",
   "metadata": {},
   "source": [
    "## Проверяем гипотезы"
   ]
  },
  {
   "cell_type": "markdown",
   "metadata": {},
   "source": [
    "### Проверим гипотезу о равенстве средней выручки пользователей тарифов «Ультра» и «Смарт»"
   ]
  },
  {
   "cell_type": "code",
   "execution_count": 39,
   "metadata": {},
   "outputs": [
    {
     "data": {
      "text/plain": [
       "141244.31956107615"
      ]
     },
     "execution_count": 39,
     "metadata": {},
     "output_type": "execute_result"
    }
   ],
   "source": [
    "ultra_var = np.var(ultra)\n",
    "ultra_var"
   ]
  },
  {
   "cell_type": "code",
   "execution_count": 40,
   "metadata": {},
   "outputs": [
    {
     "data": {
      "text/plain": [
       "669430.4361979931"
      ]
     },
     "execution_count": 40,
     "metadata": {},
     "output_type": "execute_result"
    }
   ],
   "source": [
    "smart_var = np.var(smart)\n",
    "smart_var"
   ]
  },
  {
   "cell_type": "markdown",
   "metadata": {},
   "source": [
    "Нулевая гипотеза - средняя выручка пользователей тарифов «Ультра» и «Смарт» одинаковая.\n",
    "Альтернативная гипотеза средняя выручка пользователей тарифов «Ультра» и «Смарт» различается."
   ]
  },
  {
   "cell_type": "code",
   "execution_count": 41,
   "metadata": {},
   "outputs": [
    {
     "name": "stdout",
     "output_type": "stream",
     "text": [
      "р-значение: 1.927011394420941e-250\n",
      "Отвергаем нулевую гипотезу\n"
     ]
    }
   ],
   "source": [
    "alpha = .05\n",
    "\n",
    "results = st.ttest_ind(ultra,smart,equal_var = False)\n",
    "\n",
    "print('р-значение:',results.pvalue)\n",
    "\n",
    "if results.pvalue < alpha:\n",
    "    print('Отвергаем нулевую гипотезу')\n",
    "else:\n",
    "    print('Не получилось отвергнуть нулевую гипотезу')\n",
    "    \n",
    "  "
   ]
  },
  {
   "cell_type": "markdown",
   "metadata": {},
   "source": [
    "H0: средняя выручка на тарифе ультра равна 1950 \n",
    "\n",
    "H1: средняя выручка на тарифе ультра отличается от 1950 в большую сторону"
   ]
  },
  {
   "cell_type": "code",
   "execution_count": 42,
   "metadata": {},
   "outputs": [
    {
     "name": "stdout",
     "output_type": "stream",
     "text": [
      "р-значение: 6.945354723724928e-23\n",
      "Отвергаем нулевую гипотезу\n"
     ]
    }
   ],
   "source": [
    "value = 1950\n",
    "alpha =0.05\n",
    "\n",
    "results = st.ttest_1samp(ultra,value,alternative = 'greater')\n",
    "\n",
    "print('р-значение:',results.pvalue)\n",
    "\n",
    "if results.pvalue < alpha and ultra.mean()>value:\n",
    "    print('Отвергаем нулевую гипотезу')\n",
    "else:\n",
    "    print('Не получилось отвергнуть нулевую гипотезу')\n",
    "    "
   ]
  },
  {
   "cell_type": "markdown",
   "metadata": {},
   "source": [
    "Отвергаем нулевую гипотезу в пользу альтернативной,средняя выручка на тарифе \"Ультра\" отличается от 1950 в большую сторону.Что в целом логично,так как минимальный платеж 1950,и средняя выручка никак не может быть меньше этого числа.\n",
    "Проверим следующую гипотезу.\n",
    "\n",
    "H0: Средняя выручка на тарифе \"Смарт\" равна 1950.\n",
    "\n",
    "H1: Средняя выручка на тарифе \"Смарт\" отличается от 1950 в меньшую сторону."
   ]
  },
  {
   "cell_type": "code",
   "execution_count": 43,
   "metadata": {},
   "outputs": [
    {
     "name": "stdout",
     "output_type": "stream",
     "text": [
      "р-значение: 2.1353762946519057e-245\n",
      "Отвергаем нулевую гипотезу\n"
     ]
    }
   ],
   "source": [
    "value = 1950\n",
    "alpha =0.05\n",
    "\n",
    "results = st.ttest_1samp(smart,value,alternative = 'less')\n",
    "\n",
    "print('р-значение:',results.pvalue)\n",
    "\n",
    "if results.pvalue < alpha and smart.mean()<value:\n",
    "    print('Отвергаем нулевую гипотезу')\n",
    "else:\n",
    "    print('Не получилось отвергнуть нулевую гипотезу')\n",
    "    "
   ]
  },
  {
   "cell_type": "markdown",
   "metadata": {},
   "source": [
    "Отвергаем нулевую гипотезу в пользу альтернативной.Средняя выручка на тарифе \"Смарт\" отличается от 1950 в меньшую сторону.Следует,что средняя выручка на тарифе\"Смарт\" меньше средней выручки на тарифе \"Ультра\"."
   ]
  },
  {
   "cell_type": "markdown",
   "metadata": {},
   "source": [
    "### Сравнение выручек между пользователями из Москвы и из других городов"
   ]
  },
  {
   "cell_type": "code",
   "execution_count": 44,
   "metadata": {},
   "outputs": [
    {
     "data": {
      "text/plain": [
       "564710.7117467273"
      ]
     },
     "execution_count": 44,
     "metadata": {},
     "output_type": "execute_result"
    }
   ],
   "source": [
    "moscow_var = np.var(moscow)\n",
    "moscow_var"
   ]
  },
  {
   "cell_type": "code",
   "execution_count": 45,
   "metadata": {},
   "outputs": [
    {
     "data": {
      "text/plain": [
       "653818.4925923498"
      ]
     },
     "execution_count": 45,
     "metadata": {},
     "output_type": "execute_result"
    }
   ],
   "source": [
    "no_moscow_var = np.var(no_moscow)\n",
    "no_moscow_var"
   ]
  },
  {
   "cell_type": "markdown",
   "metadata": {},
   "source": [
    "H0:средняя выручка пользователей города Москвы = средней выручке пользователей других город.\n",
    "\n",
    "H1:средние выручки различаются."
   ]
  },
  {
   "cell_type": "code",
   "execution_count": 46,
   "metadata": {},
   "outputs": [
    {
     "name": "stdout",
     "output_type": "stream",
     "text": [
      "р-значение: 0.5216952110000278\n",
      "Не получилось отвергнуть нулевую гипотезу\n"
     ]
    }
   ],
   "source": [
    "alpha = 0.05\n",
    "\n",
    "results = st.ttest_ind(moscow,no_moscow,equal_var=False)\n",
    "\n",
    "\n",
    "print('р-значение:',results.pvalue)\n",
    "\n",
    "if results.pvalue < alpha:\n",
    "    print('Отвергаем нулевую гипотезу')\n",
    "else:\n",
    "    print('Не получилось отвергнуть нулевую гипотезу')\n"
   ]
  },
  {
   "cell_type": "markdown",
   "metadata": {},
   "source": [
    "Принимаем нулевую гипотезу,средняя выручка от пользователей города Москвы не отличается от средней выручки пользователей других городов."
   ]
  },
  {
   "cell_type": "code",
   "execution_count": 47,
   "metadata": {},
   "outputs": [
    {
     "data": {
      "image/png": "[encoded data removed]",
      "text/plain": [
       "<Figure size 432x288 with 1 Axes>"
      ]
     },
     "metadata": {
      "needs_background": "light"
     },
     "output_type": "display_data"
    }
   ],
   "source": [
    "moscow.hist(bins=50)\n",
    "plt.title('Средняя выручка по Москве')\n",
    "plt.xlabel('Сумма потраченная за месяц')\n",
    "plt.show()"
   ]
  },
  {
   "cell_type": "code",
   "execution_count": 48,
   "metadata": {},
   "outputs": [
    {
     "data": {
      "image/png": "[encoded data removed]",
      "text/plain": [
       "<Figure size 432x288 with 1 Axes>"
      ]
     },
     "metadata": {
      "needs_background": "light"
     },
     "output_type": "display_data"
    }
   ],
   "source": [
    "no_moscow.hist(bins=50)\n",
    "plt.title('Средняя выручка по другим городам')\n",
    "plt.xlabel('Сумма потраченная за месяц')\n",
    "plt.show()"
   ]
  },
  {
   "cell_type": "markdown",
   "metadata": {},
   "source": [
    "## Общий вывод <a name=\"conclusion\"></a>"
   ]
  },
  {
   "cell_type": "markdown",
   "metadata": {},
   "source": [
    "В среднем пользователи тарифа \"Ультра\" больше использовали минут,сообщений и гб,чем пользователи тарифа \"Смарт\".В выборке тарифа \"Ультра\", в 852 случах из 986  укладываются в лимиты тарифа,это 86,4%.Средняя выручка в выборке на тарифе ультра 2070.В выборке средняя выручка по тарифу \"Смарт\" равна 1290р, в лимиты тарифа укладываются 568 раз из 2230,это 25,6% .Медиана 1021р,а в 75% случаев укладываются в 1750р.\n",
    "Средняя выручка на тарифе\"Смарт\" меньше средней выручки на тарифе \"Ультра\".Средняя выручка от пользователей города Москвы не отличается от средней выручки пользователей других городов.  \n",
    "Для компании \"Мегалайн\" выгоднее рекламировать тариф \"Ультра\". Рекламу необходимо запускать не только в  Москве,но и в других городах."
   ]
  }
 ],
 "metadata": {
  "ExecuteTimeLog": [
   {
    "duration": 640,
    "start_time": "2022-05-03T11:28:22.784Z"
   },
   {
    "duration": 153,
    "start_time": "2022-05-03T11:28:28.543Z"
   },
   {
    "duration": 381,
    "start_time": "2022-05-03T11:30:24.221Z"
   },
   {
    "duration": 19,
    "start_time": "2022-05-03T11:31:05.242Z"
   },
   {
    "duration": 112,
    "start_time": "2022-05-03T11:31:56.555Z"
   },
   {
    "duration": 13,
    "start_time": "2022-05-03T11:32:42.024Z"
   },
   {
    "duration": 10,
    "start_time": "2022-05-03T11:32:56.348Z"
   },
   {
    "duration": 8,
    "start_time": "2022-05-03T11:33:13.483Z"
   },
   {
    "duration": 14,
    "start_time": "2022-05-03T11:33:30.586Z"
   },
   {
    "duration": 29,
    "start_time": "2022-05-03T11:51:12.019Z"
   },
   {
    "duration": 22,
    "start_time": "2022-05-03T11:52:05.497Z"
   },
   {
    "duration": 20,
    "start_time": "2022-05-03T11:53:14.001Z"
   },
   {
    "duration": 11,
    "start_time": "2022-05-03T11:53:45.684Z"
   },
   {
    "duration": 10,
    "start_time": "2022-05-03T11:54:06.532Z"
   },
   {
    "duration": 70,
    "start_time": "2022-05-04T14:02:05.683Z"
   },
   {
    "duration": 5949,
    "start_time": "2022-05-04T14:02:12.765Z"
   },
   {
    "duration": 29,
    "start_time": "2022-05-04T14:02:18.717Z"
   },
   {
    "duration": 39,
    "start_time": "2022-05-04T14:02:18.749Z"
   },
   {
    "duration": 60,
    "start_time": "2022-05-04T14:02:18.791Z"
   },
   {
    "duration": 21,
    "start_time": "2022-05-04T14:02:18.853Z"
   },
   {
    "duration": 55,
    "start_time": "2022-05-04T14:02:18.877Z"
   },
   {
    "duration": 20,
    "start_time": "2022-05-04T14:02:18.935Z"
   },
   {
    "duration": 38,
    "start_time": "2022-05-04T14:02:18.958Z"
   },
   {
    "duration": 40,
    "start_time": "2022-05-04T14:02:18.999Z"
   },
   {
    "duration": 15,
    "start_time": "2022-05-04T14:02:19.042Z"
   },
   {
    "duration": 22,
    "start_time": "2022-05-04T14:02:19.059Z"
   },
   {
    "duration": 41,
    "start_time": "2022-05-04T14:02:19.083Z"
   },
   {
    "duration": 39,
    "start_time": "2022-05-04T14:03:39.292Z"
   },
   {
    "duration": 128,
    "start_time": "2022-05-04T14:55:41.000Z"
   },
   {
    "duration": 1906,
    "start_time": "2022-05-04T14:55:54.775Z"
   },
   {
    "duration": 1972,
    "start_time": "2022-05-04T14:56:23.881Z"
   },
   {
    "duration": 2662,
    "start_time": "2022-05-04T14:57:26.368Z"
   },
   {
    "duration": 2113,
    "start_time": "2022-05-04T14:58:57.782Z"
   },
   {
    "duration": 2935,
    "start_time": "2022-05-04T14:59:36.493Z"
   },
   {
    "duration": 507,
    "start_time": "2022-05-04T14:59:42.798Z"
   },
   {
    "duration": 16,
    "start_time": "2022-05-04T14:59:43.308Z"
   },
   {
    "duration": 40,
    "start_time": "2022-05-04T14:59:43.326Z"
   },
   {
    "duration": 55,
    "start_time": "2022-05-04T14:59:43.369Z"
   },
   {
    "duration": 21,
    "start_time": "2022-05-04T14:59:43.427Z"
   },
   {
    "duration": 39,
    "start_time": "2022-05-04T14:59:43.449Z"
   },
   {
    "duration": 54,
    "start_time": "2022-05-04T14:59:43.490Z"
   },
   {
    "duration": 14,
    "start_time": "2022-05-04T14:59:43.546Z"
   },
   {
    "duration": 32,
    "start_time": "2022-05-04T14:59:43.562Z"
   },
   {
    "duration": 35,
    "start_time": "2022-05-04T14:59:43.598Z"
   },
   {
    "duration": 18,
    "start_time": "2022-05-04T14:59:43.636Z"
   },
   {
    "duration": 41,
    "start_time": "2022-05-04T14:59:43.656Z"
   },
   {
    "duration": 26,
    "start_time": "2022-05-04T14:59:43.699Z"
   },
   {
    "duration": 2403,
    "start_time": "2022-05-04T14:59:43.727Z"
   },
   {
    "duration": 3957,
    "start_time": "2022-05-04T15:01:34.121Z"
   },
   {
    "duration": 5570,
    "start_time": "2022-05-04T15:01:50.142Z"
   },
   {
    "duration": 1118,
    "start_time": "2022-05-04T15:03:34.259Z"
   },
   {
    "duration": 1234,
    "start_time": "2022-05-04T15:04:34.073Z"
   },
   {
    "duration": 1363,
    "start_time": "2022-05-04T15:08:33.256Z"
   },
   {
    "duration": 89,
    "start_time": "2022-05-04T15:10:03.165Z"
   },
   {
    "duration": 32,
    "start_time": "2022-05-04T15:12:41.452Z"
   },
   {
    "duration": 69,
    "start_time": "2022-05-04T15:14:04.963Z"
   },
   {
    "duration": 14,
    "start_time": "2022-05-04T16:34:23.105Z"
   },
   {
    "duration": 42,
    "start_time": "2022-05-04T16:34:43.465Z"
   },
   {
    "duration": 52,
    "start_time": "2022-05-04T16:34:53.536Z"
   },
   {
    "duration": 64,
    "start_time": "2022-05-04T16:35:03.704Z"
   },
   {
    "duration": 21,
    "start_time": "2022-05-04T16:35:30.748Z"
   },
   {
    "duration": 77,
    "start_time": "2022-05-04T16:35:36.975Z"
   },
   {
    "duration": 87,
    "start_time": "2022-05-04T16:36:45.772Z"
   },
   {
    "duration": 88,
    "start_time": "2022-05-04T16:37:21.543Z"
   },
   {
    "duration": 94,
    "start_time": "2022-05-04T17:49:34.260Z"
   },
   {
    "duration": 96,
    "start_time": "2022-05-04T17:49:38.770Z"
   },
   {
    "duration": 29,
    "start_time": "2022-05-04T17:54:52.563Z"
   },
   {
    "duration": 60,
    "start_time": "2022-05-04T17:55:30.819Z"
   },
   {
    "duration": 36,
    "start_time": "2022-05-04T17:56:37.455Z"
   },
   {
    "duration": 94,
    "start_time": "2022-05-04T18:12:26.874Z"
   },
   {
    "duration": 17,
    "start_time": "2022-05-04T18:17:25.300Z"
   },
   {
    "duration": 42,
    "start_time": "2022-05-04T18:18:17.690Z"
   },
   {
    "duration": 22,
    "start_time": "2022-05-04T18:21:02.727Z"
   },
   {
    "duration": 59,
    "start_time": "2022-05-04T18:21:39.014Z"
   },
   {
    "duration": 14,
    "start_time": "2022-05-04T20:14:14.766Z"
   },
   {
    "duration": 10,
    "start_time": "2022-05-04T20:22:24.438Z"
   },
   {
    "duration": 9,
    "start_time": "2022-05-04T20:22:42.048Z"
   },
   {
    "duration": 9,
    "start_time": "2022-05-04T20:22:46.666Z"
   },
   {
    "duration": 17,
    "start_time": "2022-05-04T20:23:22.665Z"
   },
   {
    "duration": 13,
    "start_time": "2022-05-04T20:27:48.832Z"
   },
   {
    "duration": 16,
    "start_time": "2022-05-04T20:28:33.404Z"
   },
   {
    "duration": 39,
    "start_time": "2022-05-04T20:31:12.310Z"
   },
   {
    "duration": 63,
    "start_time": "2022-05-04T20:31:41.752Z"
   },
   {
    "duration": 66,
    "start_time": "2022-05-04T20:33:27.543Z"
   },
   {
    "duration": 62,
    "start_time": "2022-05-04T20:33:37.735Z"
   },
   {
    "duration": 49,
    "start_time": "2022-05-04T20:33:59.329Z"
   },
   {
    "duration": 22,
    "start_time": "2022-05-04T20:34:07.263Z"
   },
   {
    "duration": 50,
    "start_time": "2022-05-04T20:34:36.062Z"
   },
   {
    "duration": 22,
    "start_time": "2022-05-04T20:34:36.933Z"
   },
   {
    "duration": 21,
    "start_time": "2022-05-04T20:34:40.133Z"
   },
   {
    "duration": 57,
    "start_time": "2022-05-04T20:34:59.950Z"
   },
   {
    "duration": 523,
    "start_time": "2022-05-04T20:38:09.248Z"
   },
   {
    "duration": 49,
    "start_time": "2022-05-04T20:38:58.908Z"
   },
   {
    "duration": 19,
    "start_time": "2022-05-04T20:39:03.577Z"
   },
   {
    "duration": 77,
    "start_time": "2022-05-04T20:39:51.143Z"
   },
   {
    "duration": 12,
    "start_time": "2022-05-04T20:48:57.557Z"
   },
   {
    "duration": 18,
    "start_time": "2022-05-04T20:49:03.803Z"
   },
   {
    "duration": 13,
    "start_time": "2022-05-04T20:49:55.383Z"
   },
   {
    "duration": 26,
    "start_time": "2022-05-04T20:49:59.364Z"
   },
   {
    "duration": 6,
    "start_time": "2022-05-04T20:51:24.052Z"
   },
   {
    "duration": 9,
    "start_time": "2022-05-04T20:52:32.376Z"
   },
   {
    "duration": 9,
    "start_time": "2022-05-04T21:18:14.562Z"
   },
   {
    "duration": 516,
    "start_time": "2022-05-04T21:18:19.090Z"
   },
   {
    "duration": 17,
    "start_time": "2022-05-04T21:18:19.609Z"
   },
   {
    "duration": 14,
    "start_time": "2022-05-04T21:18:19.628Z"
   },
   {
    "duration": 1,
    "start_time": "2022-05-04T21:18:19.645Z"
   },
   {
    "duration": 0,
    "start_time": "2022-05-04T21:18:19.647Z"
   },
   {
    "duration": 0,
    "start_time": "2022-05-04T21:18:19.648Z"
   },
   {
    "duration": 0,
    "start_time": "2022-05-04T21:18:19.650Z"
   },
   {
    "duration": 0,
    "start_time": "2022-05-04T21:18:19.651Z"
   },
   {
    "duration": 0,
    "start_time": "2022-05-04T21:18:19.653Z"
   },
   {
    "duration": 0,
    "start_time": "2022-05-04T21:18:19.655Z"
   },
   {
    "duration": 0,
    "start_time": "2022-05-04T21:18:19.657Z"
   },
   {
    "duration": 0,
    "start_time": "2022-05-04T21:18:19.658Z"
   },
   {
    "duration": 0,
    "start_time": "2022-05-04T21:18:19.660Z"
   },
   {
    "duration": 0,
    "start_time": "2022-05-04T21:18:19.662Z"
   },
   {
    "duration": 0,
    "start_time": "2022-05-04T21:18:19.664Z"
   },
   {
    "duration": 0,
    "start_time": "2022-05-04T21:18:19.665Z"
   },
   {
    "duration": 0,
    "start_time": "2022-05-04T21:18:19.667Z"
   },
   {
    "duration": 0,
    "start_time": "2022-05-04T21:18:19.725Z"
   },
   {
    "duration": 0,
    "start_time": "2022-05-04T21:18:19.726Z"
   },
   {
    "duration": 0,
    "start_time": "2022-05-04T21:18:19.727Z"
   },
   {
    "duration": 0,
    "start_time": "2022-05-04T21:18:19.729Z"
   },
   {
    "duration": 0,
    "start_time": "2022-05-04T21:18:19.730Z"
   },
   {
    "duration": 61,
    "start_time": "2022-05-04T21:25:57.281Z"
   },
   {
    "duration": 17,
    "start_time": "2022-05-04T21:26:11.366Z"
   },
   {
    "duration": 558,
    "start_time": "2022-05-04T21:29:02.084Z"
   },
   {
    "duration": 18,
    "start_time": "2022-05-04T21:29:02.644Z"
   },
   {
    "duration": 65,
    "start_time": "2022-05-04T21:29:02.665Z"
   },
   {
    "duration": 20,
    "start_time": "2022-05-04T21:29:02.732Z"
   },
   {
    "duration": 47,
    "start_time": "2022-05-04T21:29:02.755Z"
   },
   {
    "duration": 41,
    "start_time": "2022-05-04T21:29:02.824Z"
   },
   {
    "duration": 21,
    "start_time": "2022-05-04T21:29:02.868Z"
   },
   {
    "duration": 37,
    "start_time": "2022-05-04T21:29:02.924Z"
   },
   {
    "duration": 62,
    "start_time": "2022-05-04T21:29:02.963Z"
   },
   {
    "duration": 16,
    "start_time": "2022-05-04T21:29:03.027Z"
   },
   {
    "duration": 42,
    "start_time": "2022-05-04T21:29:03.045Z"
   },
   {
    "duration": 37,
    "start_time": "2022-05-04T21:29:03.090Z"
   },
   {
    "duration": 29,
    "start_time": "2022-05-04T21:29:03.129Z"
   },
   {
    "duration": 54,
    "start_time": "2022-05-04T21:29:03.160Z"
   },
   {
    "duration": 20,
    "start_time": "2022-05-04T21:29:03.216Z"
   },
   {
    "duration": 127,
    "start_time": "2022-05-04T21:29:03.238Z"
   },
   {
    "duration": 82,
    "start_time": "2022-05-04T21:29:03.367Z"
   },
   {
    "duration": 93,
    "start_time": "2022-05-04T21:29:03.452Z"
   },
   {
    "duration": 45,
    "start_time": "2022-05-04T21:29:03.548Z"
   },
   {
    "duration": 67,
    "start_time": "2022-05-04T21:29:03.595Z"
   },
   {
    "duration": 12,
    "start_time": "2022-05-04T21:29:03.664Z"
   },
   {
    "duration": 47,
    "start_time": "2022-05-04T21:29:03.679Z"
   },
   {
    "duration": 27,
    "start_time": "2022-05-04T21:29:03.728Z"
   },
   {
    "duration": 56,
    "start_time": "2022-05-04T21:29:21.751Z"
   },
   {
    "duration": 18,
    "start_time": "2022-05-04T21:29:23.591Z"
   },
   {
    "duration": 189,
    "start_time": "2022-05-04T21:33:28.929Z"
   },
   {
    "duration": 113206,
    "start_time": "2022-05-04T21:34:04.915Z"
   },
   {
    "duration": 122538,
    "start_time": "2022-05-04T21:36:07.021Z"
   },
   {
    "duration": 10,
    "start_time": "2022-05-04T21:39:42.771Z"
   },
   {
    "duration": 13,
    "start_time": "2022-05-04T21:40:16.529Z"
   },
   {
    "duration": 510,
    "start_time": "2022-05-04T21:40:40.748Z"
   },
   {
    "duration": 578,
    "start_time": "2022-05-04T21:40:50.019Z"
   },
   {
    "duration": 17,
    "start_time": "2022-05-04T21:40:52.328Z"
   },
   {
    "duration": 6,
    "start_time": "2022-05-04T21:41:02.571Z"
   },
   {
    "duration": 18,
    "start_time": "2022-05-04T21:41:04.440Z"
   },
   {
    "duration": 534,
    "start_time": "2022-05-04T21:41:32.525Z"
   },
   {
    "duration": 17,
    "start_time": "2022-05-04T21:41:33.062Z"
   },
   {
    "duration": 16,
    "start_time": "2022-05-04T21:41:33.082Z"
   },
   {
    "duration": 29,
    "start_time": "2022-05-04T21:41:33.102Z"
   },
   {
    "duration": 52,
    "start_time": "2022-05-04T21:41:33.134Z"
   },
   {
    "duration": 59,
    "start_time": "2022-05-04T21:41:33.189Z"
   },
   {
    "duration": 25,
    "start_time": "2022-05-04T21:41:33.250Z"
   },
   {
    "duration": 63,
    "start_time": "2022-05-04T21:41:33.278Z"
   },
   {
    "duration": 31,
    "start_time": "2022-05-04T21:41:33.343Z"
   },
   {
    "duration": 20,
    "start_time": "2022-05-04T21:41:33.377Z"
   },
   {
    "duration": 30,
    "start_time": "2022-05-04T21:41:33.425Z"
   },
   {
    "duration": 24,
    "start_time": "2022-05-04T21:41:33.458Z"
   },
   {
    "duration": 48,
    "start_time": "2022-05-04T21:41:33.484Z"
   },
   {
    "duration": 20,
    "start_time": "2022-05-04T21:41:33.534Z"
   },
   {
    "duration": 31,
    "start_time": "2022-05-04T21:41:33.556Z"
   },
   {
    "duration": 136,
    "start_time": "2022-05-04T21:41:33.589Z"
   },
   {
    "duration": 70,
    "start_time": "2022-05-04T21:41:33.728Z"
   },
   {
    "duration": 94,
    "start_time": "2022-05-04T21:41:33.801Z"
   },
   {
    "duration": 66,
    "start_time": "2022-05-04T21:41:33.898Z"
   },
   {
    "duration": 37,
    "start_time": "2022-05-04T21:41:33.966Z"
   },
   {
    "duration": 15,
    "start_time": "2022-05-04T21:41:34.024Z"
   },
   {
    "duration": 13,
    "start_time": "2022-05-04T21:41:34.042Z"
   },
   {
    "duration": 25,
    "start_time": "2022-05-04T21:41:34.057Z"
   },
   {
    "duration": 5,
    "start_time": "2022-05-04T21:45:08.175Z"
   },
   {
    "duration": 27,
    "start_time": "2022-05-04T21:45:12.282Z"
   },
   {
    "duration": 169,
    "start_time": "2022-05-04T21:50:32.091Z"
   },
   {
    "duration": 19,
    "start_time": "2022-05-04T21:50:40.621Z"
   },
   {
    "duration": 179,
    "start_time": "2022-05-04T21:50:44.651Z"
   },
   {
    "duration": 25,
    "start_time": "2022-05-04T21:50:58.278Z"
   },
   {
    "duration": 25,
    "start_time": "2022-05-04T21:51:18.884Z"
   },
   {
    "duration": 63,
    "start_time": "2022-05-04T21:54:56.216Z"
   },
   {
    "duration": 20,
    "start_time": "2022-05-04T21:55:11.676Z"
   },
   {
    "duration": 17,
    "start_time": "2022-05-04T21:55:22.871Z"
   },
   {
    "duration": 12,
    "start_time": "2022-05-04T22:00:14.970Z"
   },
   {
    "duration": 14,
    "start_time": "2022-05-04T22:00:21.881Z"
   },
   {
    "duration": 25,
    "start_time": "2022-05-04T22:00:25.129Z"
   },
   {
    "duration": 5,
    "start_time": "2022-05-04T22:00:47.684Z"
   },
   {
    "duration": 28,
    "start_time": "2022-05-04T22:01:09.144Z"
   },
   {
    "duration": 3973,
    "start_time": "2022-05-04T22:01:56.732Z"
   },
   {
    "duration": 17,
    "start_time": "2022-05-04T22:02:20.270Z"
   },
   {
    "duration": 28,
    "start_time": "2022-05-04T22:02:42.730Z"
   },
   {
    "duration": 16,
    "start_time": "2022-05-04T22:02:53.550Z"
   },
   {
    "duration": 26,
    "start_time": "2022-05-04T22:03:44.469Z"
   },
   {
    "duration": 14,
    "start_time": "2022-05-04T22:06:24.682Z"
   },
   {
    "duration": 24,
    "start_time": "2022-05-04T22:08:56.948Z"
   },
   {
    "duration": 78,
    "start_time": "2022-05-04T22:09:27.606Z"
   },
   {
    "duration": 39,
    "start_time": "2022-05-04T22:09:40.534Z"
   },
   {
    "duration": 753,
    "start_time": "2022-05-04T22:09:45.689Z"
   },
   {
    "duration": 10,
    "start_time": "2022-05-04T22:09:46.445Z"
   },
   {
    "duration": 35,
    "start_time": "2022-05-04T22:09:46.458Z"
   },
   {
    "duration": 58,
    "start_time": "2022-05-04T22:09:46.497Z"
   },
   {
    "duration": 69,
    "start_time": "2022-05-04T22:09:46.558Z"
   },
   {
    "duration": 48,
    "start_time": "2022-05-04T22:09:46.629Z"
   },
   {
    "duration": 70,
    "start_time": "2022-05-04T22:09:46.681Z"
   },
   {
    "duration": 31,
    "start_time": "2022-05-04T22:09:46.754Z"
   },
   {
    "duration": 79,
    "start_time": "2022-05-04T22:09:46.796Z"
   },
   {
    "duration": 61,
    "start_time": "2022-05-04T22:09:46.881Z"
   },
   {
    "duration": 23,
    "start_time": "2022-05-04T22:09:46.945Z"
   },
   {
    "duration": 70,
    "start_time": "2022-05-04T22:09:46.972Z"
   },
   {
    "duration": 13,
    "start_time": "2022-05-04T22:09:47.045Z"
   },
   {
    "duration": 33,
    "start_time": "2022-05-04T22:09:47.061Z"
   },
   {
    "duration": 58,
    "start_time": "2022-05-04T22:09:47.096Z"
   },
   {
    "duration": 35,
    "start_time": "2022-05-04T22:09:47.158Z"
   },
   {
    "duration": 150,
    "start_time": "2022-05-04T22:09:47.196Z"
   },
   {
    "duration": 93,
    "start_time": "2022-05-04T22:09:47.348Z"
   },
   {
    "duration": 126,
    "start_time": "2022-05-04T22:09:47.445Z"
   },
   {
    "duration": 67,
    "start_time": "2022-05-04T22:09:47.574Z"
   },
   {
    "duration": 124,
    "start_time": "2022-05-04T22:09:47.644Z"
   },
   {
    "duration": 14,
    "start_time": "2022-05-04T22:09:47.770Z"
   },
   {
    "duration": 43,
    "start_time": "2022-05-04T22:09:47.786Z"
   },
   {
    "duration": 41,
    "start_time": "2022-05-04T22:09:47.832Z"
   },
   {
    "duration": 63,
    "start_time": "2022-05-04T22:09:47.876Z"
   },
   {
    "duration": 16,
    "start_time": "2022-05-04T22:09:47.942Z"
   },
   {
    "duration": 1067,
    "start_time": "2022-05-04T22:10:09.590Z"
   },
   {
    "duration": 8,
    "start_time": "2022-05-04T22:10:10.660Z"
   },
   {
    "duration": 46,
    "start_time": "2022-05-04T22:10:10.670Z"
   },
   {
    "duration": 37,
    "start_time": "2022-05-04T22:10:10.719Z"
   },
   {
    "duration": 34,
    "start_time": "2022-05-04T22:10:10.758Z"
   },
   {
    "duration": 42,
    "start_time": "2022-05-04T22:10:10.794Z"
   },
   {
    "duration": 43,
    "start_time": "2022-05-04T22:10:10.838Z"
   },
   {
    "duration": 54,
    "start_time": "2022-05-04T22:10:10.883Z"
   },
   {
    "duration": 63,
    "start_time": "2022-05-04T22:10:10.939Z"
   },
   {
    "duration": 31,
    "start_time": "2022-05-04T22:10:11.027Z"
   },
   {
    "duration": 15,
    "start_time": "2022-05-04T22:10:11.061Z"
   },
   {
    "duration": 65,
    "start_time": "2022-05-04T22:10:11.078Z"
   },
   {
    "duration": 12,
    "start_time": "2022-05-04T22:10:11.145Z"
   },
   {
    "duration": 16,
    "start_time": "2022-05-04T22:10:11.159Z"
   },
   {
    "duration": 55,
    "start_time": "2022-05-04T22:10:11.177Z"
   },
   {
    "duration": 16,
    "start_time": "2022-05-04T22:10:11.235Z"
   },
   {
    "duration": 139,
    "start_time": "2022-05-04T22:10:11.253Z"
   },
   {
    "duration": 82,
    "start_time": "2022-05-04T22:10:11.394Z"
   },
   {
    "duration": 100,
    "start_time": "2022-05-04T22:10:11.478Z"
   },
   {
    "duration": 61,
    "start_time": "2022-05-04T22:10:11.581Z"
   },
   {
    "duration": 99,
    "start_time": "2022-05-04T22:10:11.644Z"
   },
   {
    "duration": 14,
    "start_time": "2022-05-04T22:10:11.745Z"
   },
   {
    "duration": 14,
    "start_time": "2022-05-04T22:10:11.761Z"
   },
   {
    "duration": 64,
    "start_time": "2022-05-04T22:10:11.777Z"
   },
   {
    "duration": 27,
    "start_time": "2022-05-04T22:10:11.843Z"
   },
   {
    "duration": 52,
    "start_time": "2022-05-04T22:10:11.873Z"
   },
   {
    "duration": 109,
    "start_time": "2022-05-04T22:11:31.200Z"
   },
   {
    "duration": 43,
    "start_time": "2022-05-04T22:16:13.401Z"
   },
   {
    "duration": 146,
    "start_time": "2022-05-04T22:18:07.321Z"
   },
   {
    "duration": 25,
    "start_time": "2022-05-04T22:18:14.876Z"
   },
   {
    "duration": 15,
    "start_time": "2022-05-04T22:18:33.662Z"
   },
   {
    "duration": 30,
    "start_time": "2022-05-04T22:19:01.552Z"
   },
   {
    "duration": 43,
    "start_time": "2022-05-04T22:19:13.874Z"
   },
   {
    "duration": 1067,
    "start_time": "2022-05-04T22:26:20.375Z"
   },
   {
    "duration": 8,
    "start_time": "2022-05-04T22:26:21.445Z"
   },
   {
    "duration": 30,
    "start_time": "2022-05-04T22:26:21.455Z"
   },
   {
    "duration": 52,
    "start_time": "2022-05-04T22:26:21.488Z"
   },
   {
    "duration": 34,
    "start_time": "2022-05-04T22:26:21.543Z"
   },
   {
    "duration": 48,
    "start_time": "2022-05-04T22:26:21.579Z"
   },
   {
    "duration": 46,
    "start_time": "2022-05-04T22:26:21.629Z"
   },
   {
    "duration": 51,
    "start_time": "2022-05-04T22:26:21.677Z"
   },
   {
    "duration": 21,
    "start_time": "2022-05-04T22:26:21.731Z"
   },
   {
    "duration": 16,
    "start_time": "2022-05-04T22:26:21.756Z"
   },
   {
    "duration": 67,
    "start_time": "2022-05-04T22:26:21.774Z"
   },
   {
    "duration": 12,
    "start_time": "2022-05-04T22:26:21.843Z"
   },
   {
    "duration": 22,
    "start_time": "2022-05-04T22:26:21.857Z"
   },
   {
    "duration": 52,
    "start_time": "2022-05-04T22:26:21.881Z"
   },
   {
    "duration": 19,
    "start_time": "2022-05-04T22:26:21.935Z"
   },
   {
    "duration": 142,
    "start_time": "2022-05-04T22:26:21.956Z"
   },
   {
    "duration": 84,
    "start_time": "2022-05-04T22:26:22.100Z"
   },
   {
    "duration": 103,
    "start_time": "2022-05-04T22:26:22.186Z"
   },
   {
    "duration": 56,
    "start_time": "2022-05-04T22:26:22.292Z"
   },
   {
    "duration": 44,
    "start_time": "2022-05-04T22:26:22.351Z"
   },
   {
    "duration": 37,
    "start_time": "2022-05-04T22:26:22.397Z"
   },
   {
    "duration": 13,
    "start_time": "2022-05-04T22:26:22.437Z"
   },
   {
    "duration": 29,
    "start_time": "2022-05-04T22:26:22.452Z"
   },
   {
    "duration": 64,
    "start_time": "2022-05-04T22:26:22.483Z"
   },
   {
    "duration": 15,
    "start_time": "2022-05-04T22:26:22.549Z"
   },
   {
    "duration": 125,
    "start_time": "2022-05-04T22:26:22.566Z"
   },
   {
    "duration": 112,
    "start_time": "2022-05-04T22:27:20.025Z"
   },
   {
    "duration": 96,
    "start_time": "2022-05-04T22:31:57.579Z"
   },
   {
    "duration": 11,
    "start_time": "2022-05-04T22:32:08.843Z"
   },
   {
    "duration": 11,
    "start_time": "2022-05-04T22:32:37.793Z"
   },
   {
    "duration": 16,
    "start_time": "2022-05-04T22:33:18.446Z"
   },
   {
    "duration": 254,
    "start_time": "2022-05-04T22:34:04.830Z"
   },
   {
    "duration": 74,
    "start_time": "2022-05-04T22:35:26.772Z"
   },
   {
    "duration": 1015,
    "start_time": "2022-05-04T22:35:38.852Z"
   },
   {
    "duration": 124,
    "start_time": "2022-05-04T22:35:39.869Z"
   },
   {
    "duration": 6,
    "start_time": "2022-05-04T22:35:39.995Z"
   },
   {
    "duration": 107,
    "start_time": "2022-05-04T22:35:40.005Z"
   },
   {
    "duration": 0,
    "start_time": "2022-05-04T22:35:40.115Z"
   },
   {
    "duration": 0,
    "start_time": "2022-05-04T22:35:40.117Z"
   },
   {
    "duration": 0,
    "start_time": "2022-05-04T22:35:40.125Z"
   },
   {
    "duration": 0,
    "start_time": "2022-05-04T22:35:40.126Z"
   },
   {
    "duration": 0,
    "start_time": "2022-05-04T22:35:40.128Z"
   },
   {
    "duration": 0,
    "start_time": "2022-05-04T22:35:40.130Z"
   },
   {
    "duration": 0,
    "start_time": "2022-05-04T22:35:40.131Z"
   },
   {
    "duration": 0,
    "start_time": "2022-05-04T22:35:40.133Z"
   },
   {
    "duration": 0,
    "start_time": "2022-05-04T22:35:40.134Z"
   },
   {
    "duration": 0,
    "start_time": "2022-05-04T22:35:40.135Z"
   },
   {
    "duration": 0,
    "start_time": "2022-05-04T22:35:40.137Z"
   },
   {
    "duration": 10,
    "start_time": "2022-05-04T22:36:09.351Z"
   },
   {
    "duration": 10,
    "start_time": "2022-05-04T22:36:14.936Z"
   },
   {
    "duration": 43,
    "start_time": "2022-05-05T10:08:41.533Z"
   },
   {
    "duration": 784,
    "start_time": "2022-05-05T10:08:54.571Z"
   },
   {
    "duration": 69,
    "start_time": "2022-05-05T10:08:55.357Z"
   },
   {
    "duration": 5,
    "start_time": "2022-05-05T10:08:55.427Z"
   },
   {
    "duration": 47,
    "start_time": "2022-05-05T10:09:19.333Z"
   },
   {
    "duration": 813,
    "start_time": "2022-05-05T10:10:40.393Z"
   },
   {
    "duration": 75,
    "start_time": "2022-05-05T10:10:42.460Z"
   },
   {
    "duration": 5,
    "start_time": "2022-05-05T10:10:43.837Z"
   },
   {
    "duration": 68,
    "start_time": "2022-05-05T10:11:01.948Z"
   },
   {
    "duration": 797,
    "start_time": "2022-05-05T10:11:18.585Z"
   },
   {
    "duration": 71,
    "start_time": "2022-05-05T10:11:19.384Z"
   },
   {
    "duration": 5,
    "start_time": "2022-05-05T10:11:19.456Z"
   },
   {
    "duration": 61,
    "start_time": "2022-05-05T10:11:19.463Z"
   },
   {
    "duration": 63,
    "start_time": "2022-05-05T10:11:19.525Z"
   },
   {
    "duration": 38,
    "start_time": "2022-05-05T10:11:19.589Z"
   },
   {
    "duration": 28,
    "start_time": "2022-05-05T10:11:19.629Z"
   },
   {
    "duration": 8,
    "start_time": "2022-05-05T10:11:19.658Z"
   },
   {
    "duration": 37,
    "start_time": "2022-05-05T10:11:19.667Z"
   },
   {
    "duration": 17,
    "start_time": "2022-05-05T10:11:19.706Z"
   },
   {
    "duration": 15,
    "start_time": "2022-05-05T10:11:19.725Z"
   },
   {
    "duration": 10,
    "start_time": "2022-05-05T10:11:19.741Z"
   },
   {
    "duration": 8,
    "start_time": "2022-05-05T10:17:42.435Z"
   },
   {
    "duration": 21,
    "start_time": "2022-05-05T10:17:55.472Z"
   },
   {
    "duration": 8,
    "start_time": "2022-05-05T10:18:47.855Z"
   },
   {
    "duration": 28,
    "start_time": "2022-05-05T10:18:49.545Z"
   },
   {
    "duration": 12,
    "start_time": "2022-05-05T10:19:26.634Z"
   },
   {
    "duration": 8,
    "start_time": "2022-05-05T10:24:45.300Z"
   },
   {
    "duration": 31,
    "start_time": "2022-05-05T10:24:50.577Z"
   },
   {
    "duration": 9,
    "start_time": "2022-05-05T10:25:36.588Z"
   },
   {
    "duration": 38,
    "start_time": "2022-05-05T10:25:37.666Z"
   },
   {
    "duration": 796,
    "start_time": "2022-05-05T10:25:56.409Z"
   },
   {
    "duration": 74,
    "start_time": "2022-05-05T10:25:57.208Z"
   },
   {
    "duration": 4,
    "start_time": "2022-05-05T10:25:57.284Z"
   },
   {
    "duration": 55,
    "start_time": "2022-05-05T10:25:57.290Z"
   },
   {
    "duration": 86,
    "start_time": "2022-05-05T10:25:57.347Z"
   },
   {
    "duration": 30,
    "start_time": "2022-05-05T10:25:57.435Z"
   },
   {
    "duration": 55,
    "start_time": "2022-05-05T10:25:57.466Z"
   },
   {
    "duration": 8,
    "start_time": "2022-05-05T10:25:57.522Z"
   },
   {
    "duration": 8,
    "start_time": "2022-05-05T10:25:57.532Z"
   },
   {
    "duration": 19,
    "start_time": "2022-05-05T10:25:57.543Z"
   },
   {
    "duration": 51,
    "start_time": "2022-05-05T10:25:57.563Z"
   },
   {
    "duration": 7,
    "start_time": "2022-05-05T10:25:57.616Z"
   },
   {
    "duration": 21,
    "start_time": "2022-05-05T10:25:57.625Z"
   },
   {
    "duration": 14,
    "start_time": "2022-05-05T10:25:57.647Z"
   },
   {
    "duration": 169,
    "start_time": "2022-05-05T10:27:38.361Z"
   },
   {
    "duration": 9,
    "start_time": "2022-05-05T10:27:48.942Z"
   },
   {
    "duration": 30,
    "start_time": "2022-05-05T10:27:50.187Z"
   },
   {
    "duration": 27,
    "start_time": "2022-05-05T10:28:37.575Z"
   },
   {
    "duration": 13,
    "start_time": "2022-05-05T10:28:46.812Z"
   },
   {
    "duration": 979,
    "start_time": "2022-05-05T10:29:26.708Z"
   },
   {
    "duration": 72,
    "start_time": "2022-05-05T10:29:27.689Z"
   },
   {
    "duration": 4,
    "start_time": "2022-05-05T10:29:27.763Z"
   },
   {
    "duration": 63,
    "start_time": "2022-05-05T10:29:27.768Z"
   },
   {
    "duration": 68,
    "start_time": "2022-05-05T10:29:27.832Z"
   },
   {
    "duration": 33,
    "start_time": "2022-05-05T10:29:27.901Z"
   },
   {
    "duration": 27,
    "start_time": "2022-05-05T10:29:27.936Z"
   },
   {
    "duration": 7,
    "start_time": "2022-05-05T10:29:27.964Z"
   },
   {
    "duration": 8,
    "start_time": "2022-05-05T10:29:27.999Z"
   },
   {
    "duration": 17,
    "start_time": "2022-05-05T10:29:28.010Z"
   },
   {
    "duration": 18,
    "start_time": "2022-05-05T10:29:28.029Z"
   },
   {
    "duration": 8,
    "start_time": "2022-05-05T10:29:28.048Z"
   },
   {
    "duration": 14,
    "start_time": "2022-05-05T10:29:46.801Z"
   },
   {
    "duration": 9,
    "start_time": "2022-05-05T10:29:59.626Z"
   },
   {
    "duration": 9,
    "start_time": "2022-05-05T10:30:11.388Z"
   },
   {
    "duration": 4,
    "start_time": "2022-05-05T10:30:23.623Z"
   },
   {
    "duration": 181,
    "start_time": "2022-05-05T10:31:33.229Z"
   },
   {
    "duration": 3188,
    "start_time": "2022-05-05T10:31:45.728Z"
   },
   {
    "duration": 39,
    "start_time": "2022-05-05T10:32:09.867Z"
   },
   {
    "duration": 22,
    "start_time": "2022-05-05T10:34:07.765Z"
   },
   {
    "duration": 37,
    "start_time": "2022-05-05T10:40:23.456Z"
   },
   {
    "duration": 8,
    "start_time": "2022-05-05T10:40:48.707Z"
   },
   {
    "duration": 9,
    "start_time": "2022-05-05T10:41:00.858Z"
   },
   {
    "duration": 16,
    "start_time": "2022-05-05T10:41:04.762Z"
   },
   {
    "duration": 18,
    "start_time": "2022-05-05T10:41:31.253Z"
   },
   {
    "duration": 14,
    "start_time": "2022-05-05T10:41:33.772Z"
   },
   {
    "duration": 3,
    "start_time": "2022-05-05T10:41:37.297Z"
   },
   {
    "duration": 7,
    "start_time": "2022-05-05T10:42:36.421Z"
   },
   {
    "duration": 15,
    "start_time": "2022-05-05T10:42:42.149Z"
   },
   {
    "duration": 4,
    "start_time": "2022-05-05T10:42:49.512Z"
   },
   {
    "duration": 8,
    "start_time": "2022-05-05T10:43:14.455Z"
   },
   {
    "duration": 25,
    "start_time": "2022-05-05T10:43:20.365Z"
   },
   {
    "duration": 25,
    "start_time": "2022-05-05T10:43:47.037Z"
   },
   {
    "duration": 25,
    "start_time": "2022-05-05T10:43:58.332Z"
   },
   {
    "duration": 77,
    "start_time": "2022-05-05T10:44:20.220Z"
   },
   {
    "duration": 8,
    "start_time": "2022-05-05T10:47:29.154Z"
   },
   {
    "duration": 9,
    "start_time": "2022-05-05T10:47:40.408Z"
   },
   {
    "duration": 14,
    "start_time": "2022-05-05T10:48:01.089Z"
   },
   {
    "duration": 11,
    "start_time": "2022-05-05T10:49:03.374Z"
   },
   {
    "duration": 29,
    "start_time": "2022-05-05T10:49:31.866Z"
   },
   {
    "duration": 4,
    "start_time": "2022-05-05T10:49:32.918Z"
   },
   {
    "duration": 37,
    "start_time": "2022-05-05T10:50:03.289Z"
   },
   {
    "duration": 8,
    "start_time": "2022-05-05T10:51:46.704Z"
   },
   {
    "duration": 7,
    "start_time": "2022-05-05T10:52:18.029Z"
   },
   {
    "duration": 18,
    "start_time": "2022-05-05T10:53:50.860Z"
   },
   {
    "duration": 11,
    "start_time": "2022-05-05T11:14:27.873Z"
   },
   {
    "duration": 11,
    "start_time": "2022-05-05T11:15:21.874Z"
   },
   {
    "duration": 12,
    "start_time": "2022-05-05T11:16:47.217Z"
   },
   {
    "duration": 10,
    "start_time": "2022-05-05T11:18:07.168Z"
   },
   {
    "duration": 9,
    "start_time": "2022-05-05T11:25:00.264Z"
   },
   {
    "duration": 6,
    "start_time": "2022-05-05T11:33:35.902Z"
   },
   {
    "duration": 5,
    "start_time": "2022-05-05T11:34:00.647Z"
   },
   {
    "duration": 238,
    "start_time": "2022-05-05T11:35:00.245Z"
   },
   {
    "duration": 10,
    "start_time": "2022-05-05T11:35:11.858Z"
   },
   {
    "duration": 9,
    "start_time": "2022-05-05T11:35:20.640Z"
   },
   {
    "duration": 867,
    "start_time": "2022-05-05T11:36:27.919Z"
   },
   {
    "duration": 163,
    "start_time": "2022-05-05T11:54:49.251Z"
   },
   {
    "duration": 220,
    "start_time": "2022-05-05T11:55:16.587Z"
   },
   {
    "duration": 157,
    "start_time": "2022-05-05T11:55:27.702Z"
   },
   {
    "duration": 3,
    "start_time": "2022-05-05T11:55:33.899Z"
   },
   {
    "duration": 3,
    "start_time": "2022-05-05T11:56:01.077Z"
   },
   {
    "duration": 4,
    "start_time": "2022-05-05T11:57:51.499Z"
   },
   {
    "duration": 4,
    "start_time": "2022-05-05T11:57:55.354Z"
   },
   {
    "duration": 5,
    "start_time": "2022-05-05T12:57:45.554Z"
   },
   {
    "duration": 20,
    "start_time": "2022-05-05T12:57:53.943Z"
   },
   {
    "duration": 5,
    "start_time": "2022-05-05T12:58:28.871Z"
   },
   {
    "duration": 22,
    "start_time": "2022-05-05T12:58:30.133Z"
   },
   {
    "duration": 1018,
    "start_time": "2022-05-05T12:58:57.516Z"
   },
   {
    "duration": 122,
    "start_time": "2022-05-05T12:58:58.543Z"
   },
   {
    "duration": 4,
    "start_time": "2022-05-05T12:58:58.667Z"
   },
   {
    "duration": 56,
    "start_time": "2022-05-05T12:58:58.672Z"
   },
   {
    "duration": 84,
    "start_time": "2022-05-05T12:58:58.731Z"
   },
   {
    "duration": 39,
    "start_time": "2022-05-05T12:58:58.817Z"
   },
   {
    "duration": 28,
    "start_time": "2022-05-05T12:58:58.857Z"
   },
   {
    "duration": 19,
    "start_time": "2022-05-05T12:58:58.887Z"
   },
   {
    "duration": 40,
    "start_time": "2022-05-05T12:58:58.907Z"
   },
   {
    "duration": 28,
    "start_time": "2022-05-05T12:58:58.949Z"
   },
   {
    "duration": 27,
    "start_time": "2022-05-05T12:58:58.979Z"
   },
   {
    "duration": 7,
    "start_time": "2022-05-05T12:58:59.007Z"
   },
   {
    "duration": 40,
    "start_time": "2022-05-05T12:58:59.016Z"
   },
   {
    "duration": 100,
    "start_time": "2022-05-05T12:58:59.059Z"
   },
   {
    "duration": 4113,
    "start_time": "2022-05-05T12:58:59.161Z"
   },
   {
    "duration": 0,
    "start_time": "2022-05-05T12:59:03.275Z"
   },
   {
    "duration": 0,
    "start_time": "2022-05-05T12:59:03.277Z"
   },
   {
    "duration": 0,
    "start_time": "2022-05-05T12:59:03.278Z"
   },
   {
    "duration": 917,
    "start_time": "2022-05-05T12:59:53.139Z"
   },
   {
    "duration": 97,
    "start_time": "2022-05-05T12:59:54.058Z"
   },
   {
    "duration": 5,
    "start_time": "2022-05-05T12:59:54.156Z"
   },
   {
    "duration": 67,
    "start_time": "2022-05-05T12:59:54.163Z"
   },
   {
    "duration": 85,
    "start_time": "2022-05-05T12:59:54.234Z"
   },
   {
    "duration": 44,
    "start_time": "2022-05-05T12:59:54.321Z"
   },
   {
    "duration": 55,
    "start_time": "2022-05-05T12:59:54.366Z"
   },
   {
    "duration": 10,
    "start_time": "2022-05-05T12:59:54.423Z"
   },
   {
    "duration": 30,
    "start_time": "2022-05-05T12:59:54.435Z"
   },
   {
    "duration": 16,
    "start_time": "2022-05-05T12:59:54.467Z"
   },
   {
    "duration": 23,
    "start_time": "2022-05-05T12:59:54.484Z"
   },
   {
    "duration": 4,
    "start_time": "2022-05-05T12:59:54.509Z"
   },
   {
    "duration": 39,
    "start_time": "2022-05-05T12:59:54.515Z"
   },
   {
    "duration": 95,
    "start_time": "2022-05-05T12:59:54.555Z"
   },
   {
    "duration": 6,
    "start_time": "2022-05-05T12:59:54.652Z"
   },
   {
    "duration": 22,
    "start_time": "2022-05-05T12:59:54.660Z"
   },
   {
    "duration": 6,
    "start_time": "2022-05-05T12:59:54.683Z"
   },
   {
    "duration": 43,
    "start_time": "2022-05-05T12:59:54.690Z"
   },
   {
    "duration": 301,
    "start_time": "2022-05-05T13:00:37.625Z"
   },
   {
    "duration": 206,
    "start_time": "2022-05-05T13:02:35.753Z"
   },
   {
    "duration": 8,
    "start_time": "2022-05-05T13:05:52.641Z"
   },
   {
    "duration": 24,
    "start_time": "2022-05-05T13:05:59.119Z"
   },
   {
    "duration": 73,
    "start_time": "2022-05-05T13:06:49.922Z"
   },
   {
    "duration": 8,
    "start_time": "2022-05-05T13:07:06.530Z"
   },
   {
    "duration": 18,
    "start_time": "2022-05-05T13:07:07.733Z"
   },
   {
    "duration": 9,
    "start_time": "2022-05-05T13:07:21.230Z"
   },
   {
    "duration": 8,
    "start_time": "2022-05-05T13:07:38.125Z"
   },
   {
    "duration": 17,
    "start_time": "2022-05-05T13:07:43.043Z"
   },
   {
    "duration": 6279,
    "start_time": "2022-05-05T13:09:11.762Z"
   },
   {
    "duration": 23,
    "start_time": "2022-05-05T13:09:18.043Z"
   },
   {
    "duration": 5398,
    "start_time": "2022-05-05T13:09:56.772Z"
   },
   {
    "duration": 3841,
    "start_time": "2022-05-05T13:12:19.284Z"
   },
   {
    "duration": 155,
    "start_time": "2022-05-05T13:21:05.611Z"
   },
   {
    "duration": 725,
    "start_time": "2022-05-05T13:21:11.561Z"
   },
   {
    "duration": 1978,
    "start_time": "2022-05-05T13:30:48.473Z"
   },
   {
    "duration": 1942,
    "start_time": "2022-05-05T13:39:37.687Z"
   },
   {
    "duration": 3101,
    "start_time": "2022-05-05T13:40:00.426Z"
   },
   {
    "duration": 10,
    "start_time": "2022-05-05T13:40:34.334Z"
   },
   {
    "duration": 13,
    "start_time": "2022-05-05T13:40:40.385Z"
   },
   {
    "duration": 12,
    "start_time": "2022-05-05T13:40:50.854Z"
   },
   {
    "duration": 2548,
    "start_time": "2022-05-05T13:41:08.885Z"
   },
   {
    "duration": 179,
    "start_time": "2022-05-05T13:41:29.282Z"
   },
   {
    "duration": 157,
    "start_time": "2022-05-05T13:47:53.425Z"
   },
   {
    "duration": 6,
    "start_time": "2022-05-05T13:49:05.083Z"
   },
   {
    "duration": 10,
    "start_time": "2022-05-05T13:49:14.297Z"
   },
   {
    "duration": 6,
    "start_time": "2022-05-05T13:49:19.544Z"
   },
   {
    "duration": 6,
    "start_time": "2022-05-05T13:49:21.559Z"
   },
   {
    "duration": 7,
    "start_time": "2022-05-05T13:50:46.314Z"
   },
   {
    "duration": 5,
    "start_time": "2022-05-05T13:50:47.997Z"
   },
   {
    "duration": 169,
    "start_time": "2022-05-05T13:50:53.518Z"
   },
   {
    "duration": 2178,
    "start_time": "2022-05-05T13:51:16.221Z"
   },
   {
    "duration": 1045,
    "start_time": "2022-05-05T13:51:38.816Z"
   },
   {
    "duration": 117,
    "start_time": "2022-05-05T13:51:39.864Z"
   },
   {
    "duration": 5,
    "start_time": "2022-05-05T13:51:39.983Z"
   },
   {
    "duration": 62,
    "start_time": "2022-05-05T13:51:39.991Z"
   },
   {
    "duration": 107,
    "start_time": "2022-05-05T13:51:40.055Z"
   },
   {
    "duration": 51,
    "start_time": "2022-05-05T13:51:40.164Z"
   },
   {
    "duration": 45,
    "start_time": "2022-05-05T13:51:40.217Z"
   },
   {
    "duration": 11,
    "start_time": "2022-05-05T13:51:40.264Z"
   },
   {
    "duration": 37,
    "start_time": "2022-05-05T13:51:40.276Z"
   },
   {
    "duration": 25,
    "start_time": "2022-05-05T13:51:40.315Z"
   },
   {
    "duration": 23,
    "start_time": "2022-05-05T13:51:40.342Z"
   },
   {
    "duration": 4,
    "start_time": "2022-05-05T13:51:40.367Z"
   },
   {
    "duration": 34,
    "start_time": "2022-05-05T13:51:40.372Z"
   },
   {
    "duration": 73,
    "start_time": "2022-05-05T13:51:40.408Z"
   },
   {
    "duration": 20,
    "start_time": "2022-05-05T13:51:40.482Z"
   },
   {
    "duration": 21,
    "start_time": "2022-05-05T13:51:40.504Z"
   },
   {
    "duration": 135,
    "start_time": "2022-05-05T13:51:40.527Z"
   },
   {
    "duration": 0,
    "start_time": "2022-05-05T13:51:40.664Z"
   },
   {
    "duration": 5,
    "start_time": "2022-05-05T13:59:31.584Z"
   },
   {
    "duration": 6,
    "start_time": "2022-05-05T13:59:40.544Z"
   },
   {
    "duration": 22,
    "start_time": "2022-05-05T13:59:47.953Z"
   },
   {
    "duration": 6,
    "start_time": "2022-05-05T14:00:11.378Z"
   },
   {
    "duration": 19,
    "start_time": "2022-05-05T14:00:18.047Z"
   },
   {
    "duration": 3061,
    "start_time": "2022-05-05T14:01:31.994Z"
   },
   {
    "duration": 0,
    "start_time": "2022-05-05T14:01:35.057Z"
   },
   {
    "duration": 14,
    "start_time": "2022-05-05T14:01:51.757Z"
   },
   {
    "duration": 20,
    "start_time": "2022-05-05T14:01:59.395Z"
   },
   {
    "duration": 202,
    "start_time": "2022-05-05T14:02:13.709Z"
   },
   {
    "duration": 7,
    "start_time": "2022-05-05T14:02:21.868Z"
   },
   {
    "duration": 26,
    "start_time": "2022-05-05T14:02:23.720Z"
   },
   {
    "duration": 9,
    "start_time": "2022-05-05T15:58:29.366Z"
   },
   {
    "duration": 166,
    "start_time": "2022-05-05T15:58:50.054Z"
   },
   {
    "duration": 8,
    "start_time": "2022-05-05T15:59:26.939Z"
   },
   {
    "duration": 8,
    "start_time": "2022-05-05T16:00:09.241Z"
   },
   {
    "duration": 10,
    "start_time": "2022-05-05T16:00:21.897Z"
   },
   {
    "duration": 9,
    "start_time": "2022-05-05T16:01:08.642Z"
   },
   {
    "duration": 9,
    "start_time": "2022-05-05T16:01:18.648Z"
   },
   {
    "duration": 18,
    "start_time": "2022-05-05T16:01:27.954Z"
   },
   {
    "duration": 225,
    "start_time": "2022-05-05T16:13:24.775Z"
   },
   {
    "duration": 171,
    "start_time": "2022-05-05T16:13:32.528Z"
   },
   {
    "duration": 18,
    "start_time": "2022-05-05T16:13:40.145Z"
   },
   {
    "duration": 10,
    "start_time": "2022-05-05T16:18:03.944Z"
   },
   {
    "duration": 13,
    "start_time": "2022-05-05T16:18:15.879Z"
   },
   {
    "duration": 11,
    "start_time": "2022-05-05T16:18:25.813Z"
   },
   {
    "duration": 5027,
    "start_time": "2022-05-05T16:25:53.696Z"
   },
   {
    "duration": 5426,
    "start_time": "2022-05-05T16:26:28.355Z"
   },
   {
    "duration": 5008,
    "start_time": "2022-05-05T16:28:34.987Z"
   },
   {
    "duration": 4776,
    "start_time": "2022-05-05T16:30:33.440Z"
   },
   {
    "duration": 5,
    "start_time": "2022-05-05T16:31:59.122Z"
   },
   {
    "duration": 12,
    "start_time": "2022-05-05T16:32:19.769Z"
   },
   {
    "duration": 10,
    "start_time": "2022-05-05T16:34:04.089Z"
   },
   {
    "duration": 8,
    "start_time": "2022-05-05T16:35:23.367Z"
   },
   {
    "duration": 10,
    "start_time": "2022-05-05T16:35:39.510Z"
   },
   {
    "duration": 4,
    "start_time": "2022-05-05T19:26:50.126Z"
   },
   {
    "duration": 4,
    "start_time": "2022-05-05T19:27:02.482Z"
   },
   {
    "duration": 4,
    "start_time": "2022-05-05T19:28:34.451Z"
   },
   {
    "duration": 6,
    "start_time": "2022-05-05T19:28:38.601Z"
   },
   {
    "duration": 8,
    "start_time": "2022-05-05T19:29:43.069Z"
   },
   {
    "duration": 3,
    "start_time": "2022-05-05T19:30:40.410Z"
   },
   {
    "duration": 5,
    "start_time": "2022-05-05T19:30:48.015Z"
   },
   {
    "duration": 3,
    "start_time": "2022-05-05T19:31:40.008Z"
   },
   {
    "duration": 5,
    "start_time": "2022-05-05T19:31:47.563Z"
   },
   {
    "duration": 561,
    "start_time": "2022-05-05T19:34:55.343Z"
   },
   {
    "duration": 178,
    "start_time": "2022-05-05T19:35:14.087Z"
   },
   {
    "duration": 110,
    "start_time": "2022-05-05T19:35:39.560Z"
   },
   {
    "duration": 154,
    "start_time": "2022-05-05T19:35:45.442Z"
   },
   {
    "duration": 158,
    "start_time": "2022-05-05T19:35:49.533Z"
   },
   {
    "duration": 172,
    "start_time": "2022-05-05T19:36:40.088Z"
   },
   {
    "duration": 212,
    "start_time": "2022-05-05T19:36:56.509Z"
   },
   {
    "duration": 155,
    "start_time": "2022-05-05T19:37:05.115Z"
   },
   {
    "duration": 222,
    "start_time": "2022-05-05T19:37:57.509Z"
   },
   {
    "duration": 5,
    "start_time": "2022-05-05T19:43:05.843Z"
   },
   {
    "duration": 4,
    "start_time": "2022-05-05T19:44:09.102Z"
   },
   {
    "duration": 5,
    "start_time": "2022-05-05T19:44:18.038Z"
   },
   {
    "duration": 5,
    "start_time": "2022-05-05T19:46:08.396Z"
   },
   {
    "duration": 164,
    "start_time": "2022-05-05T19:46:27.104Z"
   },
   {
    "duration": 242,
    "start_time": "2022-05-05T19:46:44.927Z"
   },
   {
    "duration": 8,
    "start_time": "2022-05-05T19:56:59.934Z"
   },
   {
    "duration": 3,
    "start_time": "2022-05-05T19:57:07.481Z"
   },
   {
    "duration": 4,
    "start_time": "2022-05-05T19:57:14.601Z"
   },
   {
    "duration": 5,
    "start_time": "2022-05-05T19:57:59.119Z"
   },
   {
    "duration": 6,
    "start_time": "2022-05-05T19:58:59.367Z"
   },
   {
    "duration": 99,
    "start_time": "2022-05-05T19:59:56.966Z"
   },
   {
    "duration": 197,
    "start_time": "2022-05-05T20:00:34.488Z"
   },
   {
    "duration": 16,
    "start_time": "2022-05-05T20:04:30.117Z"
   },
   {
    "duration": 136,
    "start_time": "2022-05-05T20:04:52.471Z"
   },
   {
    "duration": 196,
    "start_time": "2022-05-05T20:06:12.183Z"
   },
   {
    "duration": 119,
    "start_time": "2022-05-05T20:07:49.744Z"
   },
   {
    "duration": 116,
    "start_time": "2022-05-05T20:08:12.057Z"
   },
   {
    "duration": 132,
    "start_time": "2022-05-05T20:09:35.307Z"
   },
   {
    "duration": 2011,
    "start_time": "2022-05-05T20:39:46.856Z"
   },
   {
    "duration": 1693,
    "start_time": "2022-05-05T20:40:34.218Z"
   },
   {
    "duration": 1422,
    "start_time": "2022-05-05T20:41:38.148Z"
   },
   {
    "duration": 8,
    "start_time": "2022-05-05T20:44:07.374Z"
   },
   {
    "duration": 8,
    "start_time": "2022-05-05T20:44:28.078Z"
   },
   {
    "duration": 4,
    "start_time": "2022-05-05T20:44:39.120Z"
   },
   {
    "duration": 11,
    "start_time": "2022-05-05T20:44:53.771Z"
   },
   {
    "duration": 4,
    "start_time": "2022-05-05T20:51:10.129Z"
   },
   {
    "duration": 6,
    "start_time": "2022-05-05T20:51:20.372Z"
   },
   {
    "duration": 7,
    "start_time": "2022-05-05T20:53:51.902Z"
   },
   {
    "duration": 7,
    "start_time": "2022-05-05T20:55:47.834Z"
   },
   {
    "duration": 109,
    "start_time": "2022-05-06T11:56:17.796Z"
   },
   {
    "duration": 972,
    "start_time": "2022-05-06T11:56:25.088Z"
   },
   {
    "duration": 1110,
    "start_time": "2022-05-06T11:56:34.911Z"
   },
   {
    "duration": 78,
    "start_time": "2022-05-06T11:56:36.023Z"
   },
   {
    "duration": 4,
    "start_time": "2022-05-06T11:56:36.103Z"
   },
   {
    "duration": 54,
    "start_time": "2022-05-06T11:56:36.109Z"
   },
   {
    "duration": 67,
    "start_time": "2022-05-06T11:56:36.165Z"
   },
   {
    "duration": 56,
    "start_time": "2022-05-06T11:56:36.233Z"
   },
   {
    "duration": 57,
    "start_time": "2022-05-06T11:56:36.291Z"
   },
   {
    "duration": 11,
    "start_time": "2022-05-06T11:56:36.350Z"
   },
   {
    "duration": 10,
    "start_time": "2022-05-06T11:56:36.363Z"
   },
   {
    "duration": 26,
    "start_time": "2022-05-06T11:56:36.376Z"
   },
   {
    "duration": 49,
    "start_time": "2022-05-06T11:56:36.404Z"
   },
   {
    "duration": 5,
    "start_time": "2022-05-06T11:56:36.454Z"
   },
   {
    "duration": 12,
    "start_time": "2022-05-06T11:56:36.460Z"
   },
   {
    "duration": 132,
    "start_time": "2022-05-06T11:56:36.474Z"
   },
   {
    "duration": 6,
    "start_time": "2022-05-06T11:56:36.608Z"
   },
   {
    "duration": 32,
    "start_time": "2022-05-06T11:56:36.616Z"
   },
   {
    "duration": 4518,
    "start_time": "2022-05-06T11:56:36.650Z"
   },
   {
    "duration": 13,
    "start_time": "2022-05-06T11:56:41.170Z"
   },
   {
    "duration": 7,
    "start_time": "2022-05-06T11:56:41.185Z"
   },
   {
    "duration": 5,
    "start_time": "2022-05-06T11:56:41.194Z"
   },
   {
    "duration": 6,
    "start_time": "2022-05-06T11:56:41.201Z"
   },
   {
    "duration": 1119,
    "start_time": "2022-05-06T11:56:41.209Z"
   },
   {
    "duration": 7,
    "start_time": "2022-05-06T11:56:42.330Z"
   },
   {
    "duration": 9,
    "start_time": "2022-05-06T11:56:42.338Z"
   },
   {
    "duration": 13,
    "start_time": "2022-05-06T11:56:42.349Z"
   },
   {
    "duration": 338,
    "start_time": "2022-05-06T11:56:42.364Z"
   },
   {
    "duration": 5,
    "start_time": "2022-05-06T11:56:42.704Z"
   },
   {
    "duration": 5,
    "start_time": "2022-05-06T11:56:42.713Z"
   },
   {
    "duration": 8,
    "start_time": "2022-05-06T11:56:42.720Z"
   },
   {
    "duration": 230,
    "start_time": "2022-05-06T11:56:42.747Z"
   },
   {
    "duration": 16,
    "start_time": "2022-05-06T11:56:42.979Z"
   },
   {
    "duration": 535,
    "start_time": "2022-05-06T11:56:42.997Z"
   },
   {
    "duration": 9,
    "start_time": "2022-05-06T11:56:43.535Z"
   },
   {
    "duration": 9,
    "start_time": "2022-05-06T11:57:21.160Z"
   },
   {
    "duration": 7,
    "start_time": "2022-05-06T11:58:40.157Z"
   },
   {
    "duration": 7,
    "start_time": "2022-05-06T12:13:54.026Z"
   },
   {
    "duration": 94,
    "start_time": "2022-05-06T12:14:13.769Z"
   },
   {
    "duration": 6,
    "start_time": "2022-05-06T12:14:27.438Z"
   },
   {
    "duration": 4,
    "start_time": "2022-05-06T12:14:49.598Z"
   },
   {
    "duration": 4,
    "start_time": "2022-05-06T12:15:09.621Z"
   },
   {
    "duration": 7,
    "start_time": "2022-05-06T12:15:49.737Z"
   },
   {
    "duration": 4,
    "start_time": "2022-05-06T12:19:14.447Z"
   },
   {
    "duration": 4,
    "start_time": "2022-05-06T12:19:47.063Z"
   },
   {
    "duration": 188,
    "start_time": "2022-05-06T12:29:29.849Z"
   },
   {
    "duration": 124,
    "start_time": "2022-05-06T12:29:46.293Z"
   },
   {
    "duration": 183,
    "start_time": "2022-05-06T12:29:59.642Z"
   },
   {
    "duration": 10,
    "start_time": "2022-05-06T12:30:07.309Z"
   },
   {
    "duration": 176,
    "start_time": "2022-05-06T12:30:31.209Z"
   },
   {
    "duration": 121,
    "start_time": "2022-05-06T12:30:56.131Z"
   },
   {
    "duration": 139,
    "start_time": "2022-05-06T12:31:04.138Z"
   },
   {
    "duration": 153,
    "start_time": "2022-05-06T12:31:25.169Z"
   },
   {
    "duration": 157,
    "start_time": "2022-05-06T12:31:44.074Z"
   },
   {
    "duration": 6,
    "start_time": "2022-05-06T12:34:32.614Z"
   },
   {
    "duration": 5,
    "start_time": "2022-05-06T12:34:52.831Z"
   },
   {
    "duration": 5,
    "start_time": "2022-05-06T12:35:35.386Z"
   },
   {
    "duration": 1205,
    "start_time": "2022-05-07T15:30:56.225Z"
   },
   {
    "duration": 139,
    "start_time": "2022-05-07T15:30:57.433Z"
   },
   {
    "duration": 7,
    "start_time": "2022-05-07T15:30:57.574Z"
   },
   {
    "duration": 82,
    "start_time": "2022-05-07T15:30:57.584Z"
   },
   {
    "duration": 113,
    "start_time": "2022-05-07T15:30:57.668Z"
   },
   {
    "duration": 50,
    "start_time": "2022-05-07T15:30:57.784Z"
   },
   {
    "duration": 62,
    "start_time": "2022-05-07T15:30:57.836Z"
   },
   {
    "duration": 11,
    "start_time": "2022-05-07T15:30:57.901Z"
   },
   {
    "duration": 13,
    "start_time": "2022-05-07T15:30:57.914Z"
   },
   {
    "duration": 29,
    "start_time": "2022-05-07T15:30:57.954Z"
   },
   {
    "duration": 28,
    "start_time": "2022-05-07T15:30:57.986Z"
   },
   {
    "duration": 5,
    "start_time": "2022-05-07T15:30:58.017Z"
   },
   {
    "duration": 35,
    "start_time": "2022-05-07T15:30:58.024Z"
   },
   {
    "duration": 165,
    "start_time": "2022-05-07T15:30:58.061Z"
   },
   {
    "duration": 10,
    "start_time": "2022-05-07T15:30:58.228Z"
   },
   {
    "duration": 38,
    "start_time": "2022-05-07T15:30:58.240Z"
   },
   {
    "duration": 7960,
    "start_time": "2022-05-07T15:30:58.281Z"
   },
   {
    "duration": 29,
    "start_time": "2022-05-07T15:31:06.243Z"
   },
   {
    "duration": 8,
    "start_time": "2022-05-07T15:31:06.274Z"
   },
   {
    "duration": 11,
    "start_time": "2022-05-07T15:31:06.284Z"
   },
   {
    "duration": 9,
    "start_time": "2022-05-07T15:31:06.296Z"
   },
   {
    "duration": 609,
    "start_time": "2022-05-07T15:31:06.307Z"
   },
   {
    "duration": 6,
    "start_time": "2022-05-07T15:31:06.918Z"
   },
   {
    "duration": 13,
    "start_time": "2022-05-07T15:31:06.925Z"
   },
   {
    "duration": 20,
    "start_time": "2022-05-07T15:31:06.940Z"
   },
   {
    "duration": 274,
    "start_time": "2022-05-07T15:31:06.963Z"
   },
   {
    "duration": 5,
    "start_time": "2022-05-07T15:31:07.239Z"
   },
   {
    "duration": 5,
    "start_time": "2022-05-07T15:31:07.258Z"
   },
   {
    "duration": 24,
    "start_time": "2022-05-07T15:31:07.265Z"
   },
   {
    "duration": 222,
    "start_time": "2022-05-07T15:31:07.291Z"
   },
   {
    "duration": 34,
    "start_time": "2022-05-07T15:31:07.531Z"
   },
   {
    "duration": 104,
    "start_time": "2022-05-07T15:31:07.567Z"
   },
   {
    "duration": 0,
    "start_time": "2022-05-07T15:31:07.673Z"
   },
   {
    "duration": 0,
    "start_time": "2022-05-07T15:31:07.674Z"
   },
   {
    "duration": 0,
    "start_time": "2022-05-07T15:31:07.675Z"
   },
   {
    "duration": 0,
    "start_time": "2022-05-07T15:31:07.676Z"
   },
   {
    "duration": 0,
    "start_time": "2022-05-07T15:31:07.677Z"
   },
   {
    "duration": 0,
    "start_time": "2022-05-07T15:31:07.679Z"
   },
   {
    "duration": 0,
    "start_time": "2022-05-07T15:31:07.680Z"
   },
   {
    "duration": 0,
    "start_time": "2022-05-07T15:31:07.681Z"
   },
   {
    "duration": 0,
    "start_time": "2022-05-07T15:31:07.682Z"
   },
   {
    "duration": 0,
    "start_time": "2022-05-07T15:31:07.683Z"
   },
   {
    "duration": 26,
    "start_time": "2022-05-07T15:55:08.867Z"
   },
   {
    "duration": 37,
    "start_time": "2022-05-07T15:55:39.317Z"
   },
   {
    "duration": 34,
    "start_time": "2022-05-07T17:52:59.452Z"
   },
   {
    "duration": 122,
    "start_time": "2022-05-07T17:57:34.671Z"
   },
   {
    "duration": 118,
    "start_time": "2022-05-07T17:58:16.724Z"
   },
   {
    "duration": 107,
    "start_time": "2022-05-07T17:58:51.013Z"
   },
   {
    "duration": 122,
    "start_time": "2022-05-07T17:59:01.868Z"
   },
   {
    "duration": 124,
    "start_time": "2022-05-07T17:59:12.741Z"
   },
   {
    "duration": 107,
    "start_time": "2022-05-07T17:59:41.641Z"
   },
   {
    "duration": 26,
    "start_time": "2022-05-07T17:59:54.205Z"
   },
   {
    "duration": 147,
    "start_time": "2022-05-07T18:00:23.549Z"
   },
   {
    "duration": 25,
    "start_time": "2022-05-07T18:00:28.733Z"
   },
   {
    "duration": 37,
    "start_time": "2022-05-07T18:00:59.238Z"
   },
   {
    "duration": 236,
    "start_time": "2022-05-07T18:02:28.709Z"
   },
   {
    "duration": 258,
    "start_time": "2022-05-07T18:03:06.965Z"
   },
   {
    "duration": 5,
    "start_time": "2022-05-07T18:03:39.114Z"
   },
   {
    "duration": 6,
    "start_time": "2022-05-07T18:03:54.279Z"
   },
   {
    "duration": 38,
    "start_time": "2022-05-07T18:04:13.556Z"
   },
   {
    "duration": 7,
    "start_time": "2022-05-07T18:05:35.470Z"
   },
   {
    "duration": 185,
    "start_time": "2022-05-07T18:05:36.845Z"
   },
   {
    "duration": 121,
    "start_time": "2022-05-07T18:05:52.388Z"
   },
   {
    "duration": 6,
    "start_time": "2022-05-07T18:06:05.740Z"
   },
   {
    "duration": 4,
    "start_time": "2022-05-07T18:06:08.156Z"
   },
   {
    "duration": 129,
    "start_time": "2022-05-07T18:06:09.397Z"
   },
   {
    "duration": 531,
    "start_time": "2022-05-07T18:06:20.007Z"
   },
   {
    "duration": 5,
    "start_time": "2022-05-07T18:08:12.791Z"
   },
   {
    "duration": 5,
    "start_time": "2022-05-07T18:08:32.094Z"
   },
   {
    "duration": 5,
    "start_time": "2022-05-07T18:11:14.414Z"
   },
   {
    "duration": 5,
    "start_time": "2022-05-07T18:11:15.527Z"
   },
   {
    "duration": 63,
    "start_time": "2022-05-07T18:24:52.855Z"
   },
   {
    "duration": 44,
    "start_time": "2022-05-07T18:26:10.827Z"
   },
   {
    "duration": 10,
    "start_time": "2022-05-07T18:27:09.724Z"
   },
   {
    "duration": 12,
    "start_time": "2022-05-07T18:27:33.236Z"
   },
   {
    "duration": 312,
    "start_time": "2022-05-07T18:27:34.515Z"
   },
   {
    "duration": 13,
    "start_time": "2022-05-07T18:27:39.437Z"
   },
   {
    "duration": 9,
    "start_time": "2022-05-07T18:27:44.985Z"
   },
   {
    "duration": 49,
    "start_time": "2022-05-07T18:27:58.404Z"
   },
   {
    "duration": 12,
    "start_time": "2022-05-07T18:28:21.819Z"
   },
   {
    "duration": 32,
    "start_time": "2022-05-07T18:28:32.285Z"
   },
   {
    "duration": 29,
    "start_time": "2022-05-07T18:28:38.190Z"
   },
   {
    "duration": 34,
    "start_time": "2022-05-07T18:28:44.140Z"
   },
   {
    "duration": 5,
    "start_time": "2022-05-07T18:51:58.634Z"
   },
   {
    "duration": 6,
    "start_time": "2022-05-07T19:04:25.619Z"
   },
   {
    "duration": 5,
    "start_time": "2022-05-07T19:06:57.345Z"
   },
   {
    "duration": 6,
    "start_time": "2022-05-07T19:07:10.466Z"
   },
   {
    "duration": 5,
    "start_time": "2022-05-07T19:09:22.595Z"
   },
   {
    "duration": 6,
    "start_time": "2022-05-07T19:13:55.481Z"
   },
   {
    "duration": 10,
    "start_time": "2022-05-07T19:14:40.769Z"
   },
   {
    "duration": 127,
    "start_time": "2022-05-07T19:15:25.885Z"
   },
   {
    "duration": 135,
    "start_time": "2022-05-07T19:15:28.613Z"
   },
   {
    "duration": 174,
    "start_time": "2022-05-07T19:15:39.675Z"
   },
   {
    "duration": 275,
    "start_time": "2022-05-07T19:16:14.336Z"
   },
   {
    "duration": 11,
    "start_time": "2022-05-07T19:17:50.576Z"
   },
   {
    "duration": 6,
    "start_time": "2022-05-07T19:18:11.328Z"
   },
   {
    "duration": 11,
    "start_time": "2022-05-07T19:23:20.626Z"
   },
   {
    "duration": 7,
    "start_time": "2022-05-07T19:24:07.155Z"
   },
   {
    "duration": 6,
    "start_time": "2022-05-07T19:24:18.452Z"
   },
   {
    "duration": 8,
    "start_time": "2022-05-07T19:26:47.650Z"
   },
   {
    "duration": 864,
    "start_time": "2022-05-07T19:31:57.853Z"
   },
   {
    "duration": 82,
    "start_time": "2022-05-07T19:31:58.719Z"
   },
   {
    "duration": 5,
    "start_time": "2022-05-07T19:31:58.803Z"
   },
   {
    "duration": 81,
    "start_time": "2022-05-07T19:31:58.810Z"
   },
   {
    "duration": 76,
    "start_time": "2022-05-07T19:31:58.893Z"
   },
   {
    "duration": 33,
    "start_time": "2022-05-07T19:31:58.971Z"
   },
   {
    "duration": 52,
    "start_time": "2022-05-07T19:31:59.006Z"
   },
   {
    "duration": 8,
    "start_time": "2022-05-07T19:31:59.060Z"
   },
   {
    "duration": 23,
    "start_time": "2022-05-07T19:31:59.070Z"
   },
   {
    "duration": 35,
    "start_time": "2022-05-07T19:31:59.096Z"
   },
   {
    "duration": 31,
    "start_time": "2022-05-07T19:31:59.133Z"
   },
   {
    "duration": 19,
    "start_time": "2022-05-07T19:31:59.166Z"
   },
   {
    "duration": 32,
    "start_time": "2022-05-07T19:31:59.187Z"
   },
   {
    "duration": 102,
    "start_time": "2022-05-07T19:31:59.221Z"
   },
   {
    "duration": 7,
    "start_time": "2022-05-07T19:31:59.324Z"
   },
   {
    "duration": 51,
    "start_time": "2022-05-07T19:31:59.333Z"
   },
   {
    "duration": 4894,
    "start_time": "2022-05-07T19:31:59.386Z"
   },
   {
    "duration": 13,
    "start_time": "2022-05-07T19:32:04.281Z"
   },
   {
    "duration": 55,
    "start_time": "2022-05-07T19:32:04.296Z"
   },
   {
    "duration": 391,
    "start_time": "2022-05-07T19:32:04.353Z"
   },
   {
    "duration": 203,
    "start_time": "2022-05-07T19:32:04.746Z"
   },
   {
    "duration": 232,
    "start_time": "2022-05-07T19:32:04.955Z"
   },
   {
    "duration": 13,
    "start_time": "2022-05-07T19:32:05.189Z"
   },
   {
    "duration": 45,
    "start_time": "2022-05-07T19:32:05.204Z"
   },
   {
    "duration": 265,
    "start_time": "2022-05-07T19:32:05.251Z"
   },
   {
    "duration": 138,
    "start_time": "2022-05-07T19:32:05.518Z"
   },
   {
    "duration": 6,
    "start_time": "2022-05-07T19:32:05.658Z"
   },
   {
    "duration": 14,
    "start_time": "2022-05-07T19:32:05.668Z"
   },
   {
    "duration": 34,
    "start_time": "2022-05-07T19:32:05.684Z"
   },
   {
    "duration": 35,
    "start_time": "2022-05-07T19:32:05.719Z"
   },
   {
    "duration": 451,
    "start_time": "2022-05-07T19:32:05.756Z"
   },
   {
    "duration": 6,
    "start_time": "2022-05-07T19:32:06.208Z"
   },
   {
    "duration": 25,
    "start_time": "2022-05-07T19:32:06.216Z"
   },
   {
    "duration": 19,
    "start_time": "2022-05-07T19:32:06.242Z"
   },
   {
    "duration": 41,
    "start_time": "2022-05-07T19:32:06.264Z"
   },
   {
    "duration": 209,
    "start_time": "2022-05-07T19:32:06.307Z"
   },
   {
    "duration": 280,
    "start_time": "2022-05-07T19:32:06.518Z"
   },
   {
    "duration": 5,
    "start_time": "2022-05-07T19:32:06.800Z"
   },
   {
    "duration": 36,
    "start_time": "2022-05-07T19:59:23.422Z"
   },
   {
    "duration": 633,
    "start_time": "2022-05-07T20:03:04.141Z"
   },
   {
    "duration": 274,
    "start_time": "2022-05-07T20:03:28.891Z"
   },
   {
    "duration": 10,
    "start_time": "2022-05-07T20:04:45.648Z"
   },
   {
    "duration": 1521,
    "start_time": "2022-05-07T20:05:16.169Z"
   },
   {
    "duration": 6,
    "start_time": "2022-05-07T20:06:01.372Z"
   },
   {
    "duration": 934,
    "start_time": "2022-05-07T20:06:43.571Z"
   },
   {
    "duration": 125,
    "start_time": "2022-05-07T20:07:54.068Z"
   },
   {
    "duration": 207,
    "start_time": "2022-05-07T20:09:13.064Z"
   },
   {
    "duration": 217,
    "start_time": "2022-05-07T20:09:25.620Z"
   },
   {
    "duration": 164,
    "start_time": "2022-05-07T20:09:36.035Z"
   },
   {
    "duration": 265,
    "start_time": "2022-05-07T20:09:46.861Z"
   },
   {
    "duration": 201,
    "start_time": "2022-05-07T20:09:57.894Z"
   },
   {
    "duration": 155,
    "start_time": "2022-05-07T20:10:36.201Z"
   },
   {
    "duration": 177,
    "start_time": "2022-05-07T20:11:19.968Z"
   },
   {
    "duration": 181,
    "start_time": "2022-05-07T20:11:51.662Z"
   },
   {
    "duration": 158,
    "start_time": "2022-05-07T20:18:41.789Z"
   },
   {
    "duration": 256,
    "start_time": "2022-05-07T20:18:58.428Z"
   },
   {
    "duration": 23,
    "start_time": "2022-05-07T20:20:22.901Z"
   },
   {
    "duration": 194,
    "start_time": "2022-05-07T20:20:28.401Z"
   },
   {
    "duration": 163,
    "start_time": "2022-05-07T20:20:38.777Z"
   },
   {
    "duration": 166,
    "start_time": "2022-05-07T20:22:00.221Z"
   },
   {
    "duration": 154,
    "start_time": "2022-05-07T20:22:43.148Z"
   },
   {
    "duration": 522,
    "start_time": "2022-05-07T20:22:50.442Z"
   },
   {
    "duration": 284,
    "start_time": "2022-05-07T20:24:22.709Z"
   },
   {
    "duration": 180,
    "start_time": "2022-05-07T20:25:13.577Z"
   },
   {
    "duration": 190,
    "start_time": "2022-05-07T20:25:36.931Z"
   },
   {
    "duration": 214,
    "start_time": "2022-05-07T20:25:45.585Z"
   },
   {
    "duration": 178,
    "start_time": "2022-05-07T20:26:56.803Z"
   },
   {
    "duration": 154,
    "start_time": "2022-05-07T20:27:06.482Z"
   },
   {
    "duration": 233,
    "start_time": "2022-05-07T20:27:36.275Z"
   },
   {
    "duration": 264,
    "start_time": "2022-05-07T20:27:40.932Z"
   },
   {
    "duration": 262,
    "start_time": "2022-05-07T20:27:41.786Z"
   },
   {
    "duration": 49,
    "start_time": "2022-05-07T20:28:03.793Z"
   },
   {
    "duration": 465,
    "start_time": "2022-05-07T20:28:45.854Z"
   },
   {
    "duration": 236,
    "start_time": "2022-05-07T20:28:56.107Z"
   },
   {
    "duration": 161,
    "start_time": "2022-05-07T20:29:01.915Z"
   },
   {
    "duration": 157,
    "start_time": "2022-05-07T20:40:59.522Z"
   },
   {
    "duration": 9,
    "start_time": "2022-05-07T20:41:56.549Z"
   },
   {
    "duration": 7,
    "start_time": "2022-05-07T20:42:13.815Z"
   },
   {
    "duration": 126,
    "start_time": "2022-05-07T21:03:51.326Z"
   },
   {
    "duration": 142,
    "start_time": "2022-05-07T21:06:00.053Z"
   },
   {
    "duration": 194,
    "start_time": "2022-05-07T21:06:11.337Z"
   },
   {
    "duration": 6,
    "start_time": "2022-05-07T21:11:25.329Z"
   },
   {
    "duration": 4,
    "start_time": "2022-05-07T21:11:39.248Z"
   },
   {
    "duration": 7,
    "start_time": "2022-05-07T21:12:27.664Z"
   },
   {
    "duration": 7,
    "start_time": "2022-05-07T21:17:02.837Z"
   },
   {
    "duration": 128,
    "start_time": "2022-05-07T21:17:51.268Z"
   },
   {
    "duration": 11,
    "start_time": "2022-05-07T21:18:45.060Z"
   },
   {
    "duration": 867,
    "start_time": "2022-05-07T21:27:24.807Z"
   },
   {
    "duration": 88,
    "start_time": "2022-05-07T21:27:25.676Z"
   },
   {
    "duration": 6,
    "start_time": "2022-05-07T21:27:25.766Z"
   },
   {
    "duration": 55,
    "start_time": "2022-05-07T21:27:25.774Z"
   },
   {
    "duration": 95,
    "start_time": "2022-05-07T21:27:25.831Z"
   },
   {
    "duration": 47,
    "start_time": "2022-05-07T21:27:25.928Z"
   },
   {
    "duration": 36,
    "start_time": "2022-05-07T21:27:25.977Z"
   },
   {
    "duration": 10,
    "start_time": "2022-05-07T21:27:26.015Z"
   },
   {
    "duration": 37,
    "start_time": "2022-05-07T21:27:26.027Z"
   },
   {
    "duration": 22,
    "start_time": "2022-05-07T21:27:26.066Z"
   },
   {
    "duration": 20,
    "start_time": "2022-05-07T21:27:26.090Z"
   },
   {
    "duration": 6,
    "start_time": "2022-05-07T21:27:26.112Z"
   },
   {
    "duration": 9,
    "start_time": "2022-05-07T21:27:26.155Z"
   },
   {
    "duration": 110,
    "start_time": "2022-05-07T21:27:26.168Z"
   },
   {
    "duration": 7,
    "start_time": "2022-05-07T21:27:26.280Z"
   },
   {
    "duration": 5125,
    "start_time": "2022-05-07T21:27:26.288Z"
   },
   {
    "duration": 15,
    "start_time": "2022-05-07T21:27:31.415Z"
   },
   {
    "duration": 99,
    "start_time": "2022-05-07T21:27:31.432Z"
   },
   {
    "duration": 9,
    "start_time": "2022-05-07T21:27:31.532Z"
   },
   {
    "duration": 473,
    "start_time": "2022-05-07T21:27:31.543Z"
   },
   {
    "duration": 209,
    "start_time": "2022-05-07T21:27:32.018Z"
   },
   {
    "duration": 291,
    "start_time": "2022-05-07T21:27:32.228Z"
   },
   {
    "duration": 8,
    "start_time": "2022-05-07T21:27:32.521Z"
   },
   {
    "duration": 203,
    "start_time": "2022-05-07T21:27:32.532Z"
   },
   {
    "duration": 215,
    "start_time": "2022-05-07T21:27:32.737Z"
   },
   {
    "duration": 9,
    "start_time": "2022-05-07T21:27:32.955Z"
   },
   {
    "duration": 6,
    "start_time": "2022-05-07T21:27:32.966Z"
   },
   {
    "duration": 5,
    "start_time": "2022-05-07T21:27:32.975Z"
   },
   {
    "duration": 11,
    "start_time": "2022-05-07T21:27:32.982Z"
   },
   {
    "duration": 475,
    "start_time": "2022-05-07T21:27:32.995Z"
   },
   {
    "duration": 6,
    "start_time": "2022-05-07T21:27:33.471Z"
   },
   {
    "duration": 10,
    "start_time": "2022-05-07T21:27:33.479Z"
   },
   {
    "duration": 12,
    "start_time": "2022-05-07T21:27:33.491Z"
   },
   {
    "duration": 6,
    "start_time": "2022-05-07T21:27:33.505Z"
   },
   {
    "duration": 217,
    "start_time": "2022-05-07T21:27:33.513Z"
   },
   {
    "duration": 276,
    "start_time": "2022-05-07T21:27:33.732Z"
   },
   {
    "duration": 6,
    "start_time": "2022-05-07T21:27:34.010Z"
   },
   {
    "duration": 127,
    "start_time": "2022-05-07T21:29:01.126Z"
   },
   {
    "duration": 194,
    "start_time": "2022-05-08T19:26:34.186Z"
   },
   {
    "duration": 825,
    "start_time": "2022-05-08T19:26:37.848Z"
   },
   {
    "duration": 79,
    "start_time": "2022-05-08T19:26:38.675Z"
   },
   {
    "duration": 6,
    "start_time": "2022-05-08T19:26:38.756Z"
   },
   {
    "duration": 69,
    "start_time": "2022-05-08T19:26:38.765Z"
   },
   {
    "duration": 71,
    "start_time": "2022-05-08T19:26:38.836Z"
   },
   {
    "duration": 42,
    "start_time": "2022-05-08T19:26:38.909Z"
   },
   {
    "duration": 32,
    "start_time": "2022-05-08T19:26:38.953Z"
   },
   {
    "duration": 9,
    "start_time": "2022-05-08T19:26:38.987Z"
   },
   {
    "duration": 38,
    "start_time": "2022-05-08T19:26:38.998Z"
   },
   {
    "duration": 39,
    "start_time": "2022-05-08T19:26:39.039Z"
   },
   {
    "duration": 24,
    "start_time": "2022-05-08T19:26:39.080Z"
   },
   {
    "duration": 28,
    "start_time": "2022-05-08T19:26:39.105Z"
   },
   {
    "duration": 24,
    "start_time": "2022-05-08T19:26:39.135Z"
   },
   {
    "duration": 102,
    "start_time": "2022-05-08T19:26:39.161Z"
   },
   {
    "duration": 7,
    "start_time": "2022-05-08T19:26:39.265Z"
   },
   {
    "duration": 4793,
    "start_time": "2022-05-08T19:26:39.273Z"
   },
   {
    "duration": 14,
    "start_time": "2022-05-08T19:26:44.068Z"
   },
   {
    "duration": 59,
    "start_time": "2022-05-08T19:26:44.084Z"
   },
   {
    "duration": 7,
    "start_time": "2022-05-08T19:26:44.145Z"
   },
   {
    "duration": 587,
    "start_time": "2022-05-08T19:26:44.153Z"
   },
   {
    "duration": 229,
    "start_time": "2022-05-08T19:26:44.742Z"
   },
   {
    "duration": 170,
    "start_time": "2022-05-08T19:26:44.973Z"
   },
   {
    "duration": 7,
    "start_time": "2022-05-08T19:26:45.145Z"
   },
   {
    "duration": 184,
    "start_time": "2022-05-08T19:26:45.154Z"
   },
   {
    "duration": 130,
    "start_time": "2022-05-08T19:26:45.340Z"
   },
   {
    "duration": 6,
    "start_time": "2022-05-08T19:26:45.471Z"
   },
   {
    "duration": 5,
    "start_time": "2022-05-08T19:26:45.479Z"
   },
   {
    "duration": 4,
    "start_time": "2022-05-08T19:26:45.487Z"
   },
   {
    "duration": 31,
    "start_time": "2022-05-08T19:26:45.493Z"
   },
   {
    "duration": 406,
    "start_time": "2022-05-08T19:26:45.525Z"
   },
   {
    "duration": 5,
    "start_time": "2022-05-08T19:26:45.933Z"
   },
   {
    "duration": 7,
    "start_time": "2022-05-08T19:26:45.940Z"
   },
   {
    "duration": 6,
    "start_time": "2022-05-08T19:26:45.949Z"
   },
   {
    "duration": 7,
    "start_time": "2022-05-08T19:26:45.957Z"
   },
   {
    "duration": 280,
    "start_time": "2022-05-08T19:26:45.966Z"
   },
   {
    "duration": 185,
    "start_time": "2022-05-08T19:26:46.248Z"
   },
   {
    "duration": 6,
    "start_time": "2022-05-08T19:26:46.435Z"
   },
   {
    "duration": 277,
    "start_time": "2022-05-08T19:27:04.915Z"
   },
   {
    "duration": 191,
    "start_time": "2022-05-08T19:31:52.920Z"
   },
   {
    "duration": 207,
    "start_time": "2022-05-08T19:32:47.114Z"
   },
   {
    "duration": 382,
    "start_time": "2022-05-08T19:33:25.941Z"
   },
   {
    "duration": 9,
    "start_time": "2022-05-08T19:35:43.826Z"
   },
   {
    "duration": 9,
    "start_time": "2022-05-08T19:35:45.179Z"
   },
   {
    "duration": 21,
    "start_time": "2022-05-08T19:35:47.273Z"
   },
   {
    "duration": 20,
    "start_time": "2022-05-08T19:36:01.748Z"
   },
   {
    "duration": 195,
    "start_time": "2022-05-08T19:37:20.234Z"
   },
   {
    "duration": 4972,
    "start_time": "2022-05-08T19:38:19.334Z"
   },
   {
    "duration": 33,
    "start_time": "2022-05-08T19:38:35.615Z"
   },
   {
    "duration": 8,
    "start_time": "2022-05-08T19:38:35.752Z"
   },
   {
    "duration": 8,
    "start_time": "2022-05-08T19:38:35.888Z"
   },
   {
    "duration": 18,
    "start_time": "2022-05-08T19:38:36.250Z"
   },
   {
    "duration": 21,
    "start_time": "2022-05-08T19:38:37.287Z"
   },
   {
    "duration": 4,
    "start_time": "2022-05-08T19:38:38.318Z"
   },
   {
    "duration": 9,
    "start_time": "2022-05-08T19:38:38.462Z"
   },
   {
    "duration": 49,
    "start_time": "2022-05-08T19:38:38.728Z"
   },
   {
    "duration": 6,
    "start_time": "2022-05-08T19:38:39.696Z"
   },
   {
    "duration": 4893,
    "start_time": "2022-05-08T19:38:40.365Z"
   },
   {
    "duration": 16,
    "start_time": "2022-05-08T19:38:56.103Z"
   },
   {
    "duration": 8,
    "start_time": "2022-05-08T19:39:25.839Z"
   },
   {
    "duration": 191,
    "start_time": "2022-05-08T19:41:43.424Z"
   },
   {
    "duration": 5,
    "start_time": "2022-05-08T19:55:38.800Z"
   },
   {
    "duration": 186,
    "start_time": "2022-05-08T19:58:47.472Z"
   },
   {
    "duration": 5,
    "start_time": "2022-05-08T20:01:33.838Z"
   },
   {
    "duration": 5,
    "start_time": "2022-05-08T20:01:39.751Z"
   },
   {
    "duration": 5,
    "start_time": "2022-05-08T20:05:19.820Z"
   },
   {
    "duration": 5,
    "start_time": "2022-05-08T20:05:23.656Z"
   },
   {
    "duration": 7,
    "start_time": "2022-05-08T20:05:32.124Z"
   },
   {
    "duration": 6,
    "start_time": "2022-05-08T20:05:39.039Z"
   },
   {
    "duration": 5,
    "start_time": "2022-05-08T20:05:42.207Z"
   },
   {
    "duration": 178,
    "start_time": "2022-05-08T20:07:03.672Z"
   },
   {
    "duration": 44,
    "start_time": "2022-05-09T17:49:15.881Z"
   },
   {
    "duration": 731,
    "start_time": "2022-05-09T17:49:24.151Z"
   },
   {
    "duration": 115,
    "start_time": "2022-05-09T17:49:24.885Z"
   },
   {
    "duration": 5,
    "start_time": "2022-05-09T17:49:25.002Z"
   },
   {
    "duration": 70,
    "start_time": "2022-05-09T17:49:25.010Z"
   },
   {
    "duration": 87,
    "start_time": "2022-05-09T17:49:25.083Z"
   },
   {
    "duration": 32,
    "start_time": "2022-05-09T17:49:25.172Z"
   },
   {
    "duration": 40,
    "start_time": "2022-05-09T17:49:25.206Z"
   },
   {
    "duration": 9,
    "start_time": "2022-05-09T17:49:25.248Z"
   },
   {
    "duration": 9,
    "start_time": "2022-05-09T17:49:25.258Z"
   },
   {
    "duration": 18,
    "start_time": "2022-05-09T17:49:25.269Z"
   },
   {
    "duration": 49,
    "start_time": "2022-05-09T17:49:25.288Z"
   },
   {
    "duration": 4,
    "start_time": "2022-05-09T17:49:25.339Z"
   },
   {
    "duration": 10,
    "start_time": "2022-05-09T17:49:25.344Z"
   },
   {
    "duration": 101,
    "start_time": "2022-05-09T17:49:25.355Z"
   },
   {
    "duration": 7,
    "start_time": "2022-05-09T17:49:25.458Z"
   },
   {
    "duration": 80,
    "start_time": "2022-05-09T17:49:25.466Z"
   },
   {
    "duration": 0,
    "start_time": "2022-05-09T17:49:25.548Z"
   },
   {
    "duration": 0,
    "start_time": "2022-05-09T17:49:25.550Z"
   },
   {
    "duration": 0,
    "start_time": "2022-05-09T17:49:25.551Z"
   },
   {
    "duration": 0,
    "start_time": "2022-05-09T17:49:25.552Z"
   },
   {
    "duration": 0,
    "start_time": "2022-05-09T17:49:25.553Z"
   },
   {
    "duration": 0,
    "start_time": "2022-05-09T17:49:25.554Z"
   },
   {
    "duration": 0,
    "start_time": "2022-05-09T17:49:25.555Z"
   },
   {
    "duration": 0,
    "start_time": "2022-05-09T17:49:25.556Z"
   },
   {
    "duration": 0,
    "start_time": "2022-05-09T17:49:25.557Z"
   },
   {
    "duration": 0,
    "start_time": "2022-05-09T17:49:25.559Z"
   },
   {
    "duration": 0,
    "start_time": "2022-05-09T17:49:25.560Z"
   },
   {
    "duration": 0,
    "start_time": "2022-05-09T17:49:25.561Z"
   },
   {
    "duration": 0,
    "start_time": "2022-05-09T17:49:25.562Z"
   },
   {
    "duration": 0,
    "start_time": "2022-05-09T17:49:25.563Z"
   },
   {
    "duration": 0,
    "start_time": "2022-05-09T17:49:25.564Z"
   },
   {
    "duration": 0,
    "start_time": "2022-05-09T17:49:25.565Z"
   },
   {
    "duration": 0,
    "start_time": "2022-05-09T17:49:25.566Z"
   },
   {
    "duration": 0,
    "start_time": "2022-05-09T17:49:25.567Z"
   },
   {
    "duration": 0,
    "start_time": "2022-05-09T17:49:25.568Z"
   },
   {
    "duration": 0,
    "start_time": "2022-05-09T17:49:25.568Z"
   },
   {
    "duration": 0,
    "start_time": "2022-05-09T17:49:25.570Z"
   },
   {
    "duration": 0,
    "start_time": "2022-05-09T17:49:25.571Z"
   },
   {
    "duration": 0,
    "start_time": "2022-05-09T17:49:25.572Z"
   },
   {
    "duration": 11,
    "start_time": "2022-05-09T17:50:10.815Z"
   },
   {
    "duration": 6,
    "start_time": "2022-05-09T17:54:10.556Z"
   },
   {
    "duration": 4,
    "start_time": "2022-05-09T17:54:37.337Z"
   },
   {
    "duration": 4,
    "start_time": "2022-05-09T17:54:45.865Z"
   },
   {
    "duration": 9,
    "start_time": "2022-05-09T17:58:43.598Z"
   },
   {
    "duration": 3,
    "start_time": "2022-05-09T17:59:26.105Z"
   },
   {
    "duration": 10,
    "start_time": "2022-05-09T17:59:35.387Z"
   },
   {
    "duration": 5102,
    "start_time": "2022-05-09T18:01:06.436Z"
   },
   {
    "duration": 774,
    "start_time": "2022-05-09T18:03:33.679Z"
   },
   {
    "duration": 71,
    "start_time": "2022-05-09T18:03:34.455Z"
   },
   {
    "duration": 5,
    "start_time": "2022-05-09T18:03:34.528Z"
   },
   {
    "duration": 50,
    "start_time": "2022-05-09T18:03:34.535Z"
   },
   {
    "duration": 81,
    "start_time": "2022-05-09T18:03:34.587Z"
   },
   {
    "duration": 28,
    "start_time": "2022-05-09T18:03:34.670Z"
   },
   {
    "duration": 46,
    "start_time": "2022-05-09T18:03:34.700Z"
   },
   {
    "duration": 8,
    "start_time": "2022-05-09T18:03:34.747Z"
   },
   {
    "duration": 8,
    "start_time": "2022-05-09T18:03:34.756Z"
   },
   {
    "duration": 15,
    "start_time": "2022-05-09T18:03:34.766Z"
   },
   {
    "duration": 49,
    "start_time": "2022-05-09T18:03:34.783Z"
   },
   {
    "duration": 4,
    "start_time": "2022-05-09T18:03:34.834Z"
   },
   {
    "duration": 12,
    "start_time": "2022-05-09T18:03:34.840Z"
   },
   {
    "duration": 105,
    "start_time": "2022-05-09T18:03:34.854Z"
   },
   {
    "duration": 9,
    "start_time": "2022-05-09T18:03:34.961Z"
   },
   {
    "duration": 12,
    "start_time": "2022-05-09T18:03:34.971Z"
   },
   {
    "duration": 4907,
    "start_time": "2022-05-09T18:03:34.984Z"
   },
   {
    "duration": 15,
    "start_time": "2022-05-09T18:03:39.893Z"
   },
   {
    "duration": 42,
    "start_time": "2022-05-09T18:03:39.924Z"
   },
   {
    "duration": 7,
    "start_time": "2022-05-09T18:03:39.968Z"
   },
   {
    "duration": 581,
    "start_time": "2022-05-09T18:03:39.977Z"
   },
   {
    "duration": 226,
    "start_time": "2022-05-09T18:03:40.561Z"
   },
   {
    "duration": 172,
    "start_time": "2022-05-09T18:03:40.788Z"
   },
   {
    "duration": 7,
    "start_time": "2022-05-09T18:03:40.962Z"
   },
   {
    "duration": 185,
    "start_time": "2022-05-09T18:03:40.971Z"
   },
   {
    "duration": 138,
    "start_time": "2022-05-09T18:03:41.158Z"
   },
   {
    "duration": 6,
    "start_time": "2022-05-09T18:03:41.299Z"
   },
   {
    "duration": 4,
    "start_time": "2022-05-09T18:03:41.326Z"
   },
   {
    "duration": 6,
    "start_time": "2022-05-09T18:03:41.332Z"
   },
   {
    "duration": 6,
    "start_time": "2022-05-09T18:03:41.340Z"
   },
   {
    "duration": 364,
    "start_time": "2022-05-09T18:03:41.348Z"
   },
   {
    "duration": 11,
    "start_time": "2022-05-09T18:03:41.715Z"
   },
   {
    "duration": 6,
    "start_time": "2022-05-09T18:03:41.728Z"
   },
   {
    "duration": 9,
    "start_time": "2022-05-09T18:03:41.736Z"
   },
   {
    "duration": 4,
    "start_time": "2022-05-09T18:03:41.747Z"
   },
   {
    "duration": 7,
    "start_time": "2022-05-09T18:03:41.753Z"
   },
   {
    "duration": 272,
    "start_time": "2022-05-09T18:03:41.761Z"
   },
   {
    "duration": 189,
    "start_time": "2022-05-09T18:03:42.034Z"
   },
   {
    "duration": 5,
    "start_time": "2022-05-09T18:03:42.225Z"
   },
   {
    "duration": 158,
    "start_time": "2022-05-09T18:05:45.794Z"
   },
   {
    "duration": 101,
    "start_time": "2022-05-09T18:14:31.767Z"
   },
   {
    "duration": 231,
    "start_time": "2022-05-09T18:14:45.499Z"
   },
   {
    "duration": 162,
    "start_time": "2022-05-09T18:15:07.015Z"
   },
   {
    "duration": 165,
    "start_time": "2022-05-09T18:17:16.687Z"
   },
   {
    "duration": 151,
    "start_time": "2022-05-09T18:17:45.877Z"
   },
   {
    "duration": 141,
    "start_time": "2022-05-09T18:17:52.593Z"
   },
   {
    "duration": 16471,
    "start_time": "2022-05-09T18:19:46.547Z"
   },
   {
    "duration": 18027,
    "start_time": "2022-05-09T18:20:18.775Z"
   },
   {
    "duration": 150,
    "start_time": "2022-05-09T18:20:56.862Z"
   },
   {
    "duration": 151,
    "start_time": "2022-05-09T18:21:16.357Z"
   },
   {
    "duration": 151,
    "start_time": "2022-05-09T18:21:53.679Z"
   },
   {
    "duration": 162,
    "start_time": "2022-05-09T18:23:10.971Z"
   },
   {
    "duration": 152,
    "start_time": "2022-05-09T18:23:24.453Z"
   },
   {
    "duration": 208,
    "start_time": "2022-05-09T18:24:32.802Z"
   },
   {
    "duration": 191,
    "start_time": "2022-05-09T18:24:59.832Z"
   },
   {
    "duration": 1395,
    "start_time": "2022-05-09T18:25:16.621Z"
   },
   {
    "duration": 191,
    "start_time": "2022-05-09T18:25:36.071Z"
   },
   {
    "duration": 168,
    "start_time": "2022-05-09T18:25:52.482Z"
   },
   {
    "duration": 156,
    "start_time": "2022-05-09T18:26:41.150Z"
   },
   {
    "duration": 163,
    "start_time": "2022-05-09T18:26:54.225Z"
   },
   {
    "duration": 169,
    "start_time": "2022-05-09T18:27:22.720Z"
   },
   {
    "duration": 6,
    "start_time": "2022-05-09T18:27:50.300Z"
   },
   {
    "duration": 159,
    "start_time": "2022-05-09T18:27:51.665Z"
   },
   {
    "duration": 746,
    "start_time": "2022-05-09T18:28:10.494Z"
   },
   {
    "duration": 70,
    "start_time": "2022-05-09T18:28:11.242Z"
   },
   {
    "duration": 4,
    "start_time": "2022-05-09T18:28:11.314Z"
   },
   {
    "duration": 47,
    "start_time": "2022-05-09T18:28:11.324Z"
   },
   {
    "duration": 76,
    "start_time": "2022-05-09T18:28:11.372Z"
   },
   {
    "duration": 29,
    "start_time": "2022-05-09T18:28:11.449Z"
   },
   {
    "duration": 44,
    "start_time": "2022-05-09T18:28:11.480Z"
   },
   {
    "duration": 8,
    "start_time": "2022-05-09T18:28:11.526Z"
   },
   {
    "duration": 7,
    "start_time": "2022-05-09T18:28:11.536Z"
   },
   {
    "duration": 17,
    "start_time": "2022-05-09T18:28:11.546Z"
   },
   {
    "duration": 15,
    "start_time": "2022-05-09T18:28:11.564Z"
   },
   {
    "duration": 4,
    "start_time": "2022-05-09T18:28:11.580Z"
   },
   {
    "duration": 43,
    "start_time": "2022-05-09T18:28:11.585Z"
   },
   {
    "duration": 74,
    "start_time": "2022-05-09T18:28:11.629Z"
   },
   {
    "duration": 23,
    "start_time": "2022-05-09T18:28:11.705Z"
   },
   {
    "duration": 12,
    "start_time": "2022-05-09T18:28:11.730Z"
   },
   {
    "duration": 5156,
    "start_time": "2022-05-09T18:28:11.743Z"
   },
   {
    "duration": 24,
    "start_time": "2022-05-09T18:28:16.900Z"
   },
   {
    "duration": 41,
    "start_time": "2022-05-09T18:28:16.925Z"
   },
   {
    "duration": 6,
    "start_time": "2022-05-09T18:28:16.967Z"
   },
   {
    "duration": 370,
    "start_time": "2022-05-09T18:28:16.974Z"
   },
   {
    "duration": 170,
    "start_time": "2022-05-09T18:28:17.346Z"
   },
   {
    "duration": 215,
    "start_time": "2022-05-09T18:28:17.518Z"
   },
   {
    "duration": 6,
    "start_time": "2022-05-09T18:28:17.734Z"
   },
   {
    "duration": 191,
    "start_time": "2022-05-09T18:28:17.741Z"
   },
   {
    "duration": 185,
    "start_time": "2022-05-09T18:28:17.934Z"
   },
   {
    "duration": 7,
    "start_time": "2022-05-09T18:28:18.123Z"
   },
   {
    "duration": 4,
    "start_time": "2022-05-09T18:28:18.134Z"
   },
   {
    "duration": 8,
    "start_time": "2022-05-09T18:28:18.140Z"
   },
   {
    "duration": 4,
    "start_time": "2022-05-09T18:28:18.149Z"
   },
   {
    "duration": 394,
    "start_time": "2022-05-09T18:28:18.155Z"
   },
   {
    "duration": 5,
    "start_time": "2022-05-09T18:28:18.550Z"
   },
   {
    "duration": 6,
    "start_time": "2022-05-09T18:28:18.557Z"
   },
   {
    "duration": 6,
    "start_time": "2022-05-09T18:28:18.565Z"
   },
   {
    "duration": 6,
    "start_time": "2022-05-09T18:28:18.573Z"
   },
   {
    "duration": 5,
    "start_time": "2022-05-09T18:28:18.581Z"
   },
   {
    "duration": 200,
    "start_time": "2022-05-09T18:28:18.588Z"
   },
   {
    "duration": 235,
    "start_time": "2022-05-09T18:28:18.790Z"
   },
   {
    "duration": 5,
    "start_time": "2022-05-09T18:28:19.027Z"
   },
   {
    "duration": 109,
    "start_time": "2022-05-09T18:33:38.641Z"
   },
   {
    "duration": 103,
    "start_time": "2022-05-09T18:33:50.479Z"
   },
   {
    "duration": 152,
    "start_time": "2022-05-09T18:34:09.949Z"
   },
   {
    "duration": 3,
    "start_time": "2022-05-09T18:35:20.855Z"
   },
   {
    "duration": 1254,
    "start_time": "2022-05-09T18:36:09.451Z"
   },
   {
    "duration": 4,
    "start_time": "2022-05-09T18:36:28.917Z"
   },
   {
    "duration": 3,
    "start_time": "2022-05-09T18:36:43.520Z"
   },
   {
    "duration": 4,
    "start_time": "2022-05-09T18:36:52.442Z"
   },
   {
    "duration": 5,
    "start_time": "2022-05-09T18:36:57.398Z"
   },
   {
    "duration": 114,
    "start_time": "2022-05-09T18:37:12.195Z"
   },
   {
    "duration": 5,
    "start_time": "2022-05-09T18:37:46.138Z"
   },
   {
    "duration": 6,
    "start_time": "2022-05-09T18:37:57.933Z"
   },
   {
    "duration": 94,
    "start_time": "2022-05-09T18:38:21.092Z"
   },
   {
    "duration": 6,
    "start_time": "2022-05-09T18:38:28.008Z"
   },
   {
    "duration": 99,
    "start_time": "2022-05-09T18:38:36.053Z"
   },
   {
    "duration": 6,
    "start_time": "2022-05-09T18:38:40.923Z"
   },
   {
    "duration": 5,
    "start_time": "2022-05-09T18:38:55.041Z"
   },
   {
    "duration": 6,
    "start_time": "2022-05-09T18:39:12.903Z"
   },
   {
    "duration": 6,
    "start_time": "2022-05-09T18:39:22.731Z"
   },
   {
    "duration": 4,
    "start_time": "2022-05-09T18:39:32.004Z"
   },
   {
    "duration": 5,
    "start_time": "2022-05-09T18:39:55.725Z"
   },
   {
    "duration": 8,
    "start_time": "2022-05-09T18:41:39.354Z"
   },
   {
    "duration": 153,
    "start_time": "2022-05-09T18:41:58.406Z"
   },
   {
    "duration": 4,
    "start_time": "2022-05-09T18:42:49.025Z"
   },
   {
    "duration": 101,
    "start_time": "2022-05-09T18:43:39.388Z"
   },
   {
    "duration": 5,
    "start_time": "2022-05-09T18:43:46.550Z"
   },
   {
    "duration": 9,
    "start_time": "2022-05-09T18:46:25.432Z"
   },
   {
    "duration": 7,
    "start_time": "2022-05-09T18:59:31.882Z"
   },
   {
    "duration": 4,
    "start_time": "2022-05-09T18:59:43.419Z"
   },
   {
    "duration": 8,
    "start_time": "2022-05-09T19:06:00.868Z"
   },
   {
    "duration": 4,
    "start_time": "2022-05-09T19:07:04.960Z"
   },
   {
    "duration": 5,
    "start_time": "2022-05-09T19:07:50.070Z"
   },
   {
    "duration": 4,
    "start_time": "2022-05-09T19:08:36.681Z"
   },
   {
    "duration": 5,
    "start_time": "2022-05-09T19:09:33.574Z"
   },
   {
    "duration": 6,
    "start_time": "2022-05-09T19:12:08.533Z"
   },
   {
    "duration": 5,
    "start_time": "2022-05-09T19:15:57.621Z"
   },
   {
    "duration": 6,
    "start_time": "2022-05-09T19:16:27.318Z"
   },
   {
    "duration": 700,
    "start_time": "2022-05-09T19:16:40.967Z"
   },
   {
    "duration": 74,
    "start_time": "2022-05-09T19:16:41.669Z"
   },
   {
    "duration": 5,
    "start_time": "2022-05-09T19:16:41.744Z"
   },
   {
    "duration": 47,
    "start_time": "2022-05-09T19:16:41.751Z"
   },
   {
    "duration": 84,
    "start_time": "2022-05-09T19:16:41.799Z"
   },
   {
    "duration": 46,
    "start_time": "2022-05-09T19:16:41.884Z"
   },
   {
    "duration": 28,
    "start_time": "2022-05-09T19:16:41.931Z"
   },
   {
    "duration": 8,
    "start_time": "2022-05-09T19:16:41.961Z"
   },
   {
    "duration": 10,
    "start_time": "2022-05-09T19:16:41.970Z"
   },
   {
    "duration": 53,
    "start_time": "2022-05-09T19:16:41.983Z"
   },
   {
    "duration": 16,
    "start_time": "2022-05-09T19:16:42.037Z"
   },
   {
    "duration": 4,
    "start_time": "2022-05-09T19:16:42.054Z"
   },
   {
    "duration": 10,
    "start_time": "2022-05-09T19:16:42.059Z"
   },
   {
    "duration": 120,
    "start_time": "2022-05-09T19:16:42.071Z"
   },
   {
    "duration": 6,
    "start_time": "2022-05-09T19:16:42.193Z"
   },
   {
    "duration": 28,
    "start_time": "2022-05-09T19:16:42.201Z"
   },
   {
    "duration": 5003,
    "start_time": "2022-05-09T19:16:42.231Z"
   },
   {
    "duration": 13,
    "start_time": "2022-05-09T19:16:47.236Z"
   },
   {
    "duration": 41,
    "start_time": "2022-05-09T19:16:47.250Z"
   },
   {
    "duration": 34,
    "start_time": "2022-05-09T19:16:47.293Z"
   },
   {
    "duration": 350,
    "start_time": "2022-05-09T19:16:47.328Z"
   },
   {
    "duration": 182,
    "start_time": "2022-05-09T19:16:47.680Z"
   },
   {
    "duration": 214,
    "start_time": "2022-05-09T19:16:47.864Z"
   },
   {
    "duration": 6,
    "start_time": "2022-05-09T19:16:48.080Z"
   },
   {
    "duration": 165,
    "start_time": "2022-05-09T19:16:48.087Z"
   },
   {
    "duration": 4,
    "start_time": "2022-05-09T19:16:48.254Z"
   },
   {
    "duration": 181,
    "start_time": "2022-05-09T19:16:48.259Z"
   },
   {
    "duration": 7,
    "start_time": "2022-05-09T19:16:48.444Z"
   },
   {
    "duration": 6,
    "start_time": "2022-05-09T19:16:48.453Z"
   },
   {
    "duration": 7,
    "start_time": "2022-05-09T19:16:48.460Z"
   },
   {
    "duration": 471,
    "start_time": "2022-05-09T19:16:48.468Z"
   },
   {
    "duration": 96,
    "start_time": "2022-05-09T19:16:48.940Z"
   },
   {
    "duration": 0,
    "start_time": "2022-05-09T19:16:49.037Z"
   },
   {
    "duration": 0,
    "start_time": "2022-05-09T19:16:49.039Z"
   },
   {
    "duration": 0,
    "start_time": "2022-05-09T19:16:49.040Z"
   },
   {
    "duration": 0,
    "start_time": "2022-05-09T19:16:49.041Z"
   },
   {
    "duration": 0,
    "start_time": "2022-05-09T19:16:49.042Z"
   },
   {
    "duration": 0,
    "start_time": "2022-05-09T19:16:49.043Z"
   },
   {
    "duration": 0,
    "start_time": "2022-05-09T19:16:49.045Z"
   },
   {
    "duration": 0,
    "start_time": "2022-05-09T19:16:49.046Z"
   },
   {
    "duration": 0,
    "start_time": "2022-05-09T19:16:49.047Z"
   },
   {
    "duration": 5,
    "start_time": "2022-05-09T19:18:37.629Z"
   },
   {
    "duration": 7,
    "start_time": "2022-05-09T19:18:50.558Z"
   },
   {
    "duration": 6,
    "start_time": "2022-05-09T19:19:23.979Z"
   },
   {
    "duration": 6,
    "start_time": "2022-05-09T19:20:14.697Z"
   },
   {
    "duration": 730,
    "start_time": "2022-05-09T19:29:32.753Z"
   },
   {
    "duration": 84,
    "start_time": "2022-05-09T19:29:33.485Z"
   },
   {
    "duration": 5,
    "start_time": "2022-05-09T19:29:33.571Z"
   },
   {
    "duration": 65,
    "start_time": "2022-05-09T19:29:33.579Z"
   },
   {
    "duration": 78,
    "start_time": "2022-05-09T19:29:33.646Z"
   },
   {
    "duration": 31,
    "start_time": "2022-05-09T19:29:33.726Z"
   },
   {
    "duration": 30,
    "start_time": "2022-05-09T19:29:33.759Z"
   },
   {
    "duration": 34,
    "start_time": "2022-05-09T19:29:33.791Z"
   },
   {
    "duration": 11,
    "start_time": "2022-05-09T19:29:33.827Z"
   },
   {
    "duration": 23,
    "start_time": "2022-05-09T19:29:33.841Z"
   },
   {
    "duration": 22,
    "start_time": "2022-05-09T19:29:33.866Z"
   },
   {
    "duration": 36,
    "start_time": "2022-05-09T19:29:33.891Z"
   },
   {
    "duration": 11,
    "start_time": "2022-05-09T19:29:33.930Z"
   },
   {
    "duration": 109,
    "start_time": "2022-05-09T19:29:33.942Z"
   },
   {
    "duration": 7,
    "start_time": "2022-05-09T19:29:34.053Z"
   },
   {
    "duration": 15,
    "start_time": "2022-05-09T19:29:34.061Z"
   },
   {
    "duration": 6080,
    "start_time": "2022-05-09T19:29:34.078Z"
   },
   {
    "duration": 14,
    "start_time": "2022-05-09T19:29:40.160Z"
   },
   {
    "duration": 59,
    "start_time": "2022-05-09T19:29:40.176Z"
   },
   {
    "duration": 7,
    "start_time": "2022-05-09T19:29:40.236Z"
   },
   {
    "duration": 413,
    "start_time": "2022-05-09T19:29:40.245Z"
   },
   {
    "duration": 186,
    "start_time": "2022-05-09T19:29:40.660Z"
   },
   {
    "duration": 227,
    "start_time": "2022-05-09T19:29:40.848Z"
   },
   {
    "duration": 5,
    "start_time": "2022-05-09T19:29:41.077Z"
   },
   {
    "duration": 173,
    "start_time": "2022-05-09T19:29:41.084Z"
   },
   {
    "duration": 5,
    "start_time": "2022-05-09T19:29:41.259Z"
   },
   {
    "duration": 186,
    "start_time": "2022-05-09T19:29:41.267Z"
   },
   {
    "duration": 8,
    "start_time": "2022-05-09T19:29:41.458Z"
   },
   {
    "duration": 8,
    "start_time": "2022-05-09T19:29:41.467Z"
   },
   {
    "duration": 7,
    "start_time": "2022-05-09T19:29:41.477Z"
   },
   {
    "duration": 420,
    "start_time": "2022-05-09T19:29:41.485Z"
   },
   {
    "duration": 4,
    "start_time": "2022-05-09T19:29:41.907Z"
   },
   {
    "duration": 22,
    "start_time": "2022-05-09T19:29:41.912Z"
   },
   {
    "duration": 15,
    "start_time": "2022-05-09T19:29:41.935Z"
   },
   {
    "duration": 9,
    "start_time": "2022-05-09T19:29:41.951Z"
   },
   {
    "duration": 15,
    "start_time": "2022-05-09T19:29:41.962Z"
   },
   {
    "duration": 5,
    "start_time": "2022-05-09T19:29:41.979Z"
   },
   {
    "duration": 177,
    "start_time": "2022-05-09T19:29:41.985Z"
   },
   {
    "duration": 180,
    "start_time": "2022-05-09T19:29:42.163Z"
   },
   {
    "duration": 4,
    "start_time": "2022-05-09T19:29:42.345Z"
   },
   {
    "duration": 5,
    "start_time": "2022-05-09T19:31:15.741Z"
   },
   {
    "duration": 6,
    "start_time": "2022-05-09T19:31:52.262Z"
   },
   {
    "duration": 6,
    "start_time": "2022-05-09T19:31:55.745Z"
   },
   {
    "duration": 6,
    "start_time": "2022-05-09T19:32:13.795Z"
   },
   {
    "duration": 6,
    "start_time": "2022-05-09T19:32:21.135Z"
   },
   {
    "duration": 132,
    "start_time": "2022-05-09T20:13:51.216Z"
   },
   {
    "duration": 17,
    "start_time": "2022-05-09T20:14:07.541Z"
   },
   {
    "duration": 21,
    "start_time": "2022-05-09T20:14:22.730Z"
   },
   {
    "duration": 16,
    "start_time": "2022-05-09T20:14:44.860Z"
   },
   {
    "duration": 10,
    "start_time": "2022-05-09T20:14:55.897Z"
   },
   {
    "duration": 10,
    "start_time": "2022-05-09T20:15:06.534Z"
   },
   {
    "duration": 826,
    "start_time": "2022-05-09T20:16:12.388Z"
   },
   {
    "duration": 26,
    "start_time": "2022-05-09T20:16:13.216Z"
   },
   {
    "duration": 18,
    "start_time": "2022-05-09T20:16:13.244Z"
   },
   {
    "duration": 15,
    "start_time": "2022-05-09T20:16:13.265Z"
   },
   {
    "duration": 9,
    "start_time": "2022-05-09T20:16:13.282Z"
   },
   {
    "duration": 42,
    "start_time": "2022-05-09T20:16:13.293Z"
   },
   {
    "duration": 91,
    "start_time": "2022-05-09T20:16:13.337Z"
   },
   {
    "duration": 6,
    "start_time": "2022-05-09T20:16:13.429Z"
   },
   {
    "duration": 56,
    "start_time": "2022-05-09T20:16:13.436Z"
   },
   {
    "duration": 85,
    "start_time": "2022-05-09T20:16:13.495Z"
   },
   {
    "duration": 30,
    "start_time": "2022-05-09T20:16:13.582Z"
   },
   {
    "duration": 37,
    "start_time": "2022-05-09T20:16:13.624Z"
   },
   {
    "duration": 8,
    "start_time": "2022-05-09T20:16:13.663Z"
   },
   {
    "duration": 10,
    "start_time": "2022-05-09T20:16:13.672Z"
   },
   {
    "duration": 51,
    "start_time": "2022-05-09T20:16:13.684Z"
   },
   {
    "duration": 16,
    "start_time": "2022-05-09T20:16:13.737Z"
   },
   {
    "duration": 4,
    "start_time": "2022-05-09T20:16:13.754Z"
   },
   {
    "duration": 8,
    "start_time": "2022-05-09T20:16:13.760Z"
   },
   {
    "duration": 107,
    "start_time": "2022-05-09T20:16:13.770Z"
   },
   {
    "duration": 6,
    "start_time": "2022-05-09T20:16:13.879Z"
   },
   {
    "duration": 9,
    "start_time": "2022-05-09T20:16:13.887Z"
   },
   {
    "duration": 5583,
    "start_time": "2022-05-09T20:16:13.898Z"
   },
   {
    "duration": 12,
    "start_time": "2022-05-09T20:16:19.482Z"
   },
   {
    "duration": 53,
    "start_time": "2022-05-09T20:16:19.496Z"
   },
   {
    "duration": 6,
    "start_time": "2022-05-09T20:16:19.551Z"
   },
   {
    "duration": 350,
    "start_time": "2022-05-09T20:16:19.559Z"
   },
   {
    "duration": 177,
    "start_time": "2022-05-09T20:16:19.911Z"
   },
   {
    "duration": 225,
    "start_time": "2022-05-09T20:16:20.092Z"
   },
   {
    "duration": 9,
    "start_time": "2022-05-09T20:16:20.319Z"
   },
   {
    "duration": 194,
    "start_time": "2022-05-09T20:16:20.330Z"
   },
   {
    "duration": 5,
    "start_time": "2022-05-09T20:16:20.525Z"
   },
   {
    "duration": 184,
    "start_time": "2022-05-09T20:16:20.532Z"
   },
   {
    "duration": 10,
    "start_time": "2022-05-09T20:16:20.717Z"
   },
   {
    "duration": 4,
    "start_time": "2022-05-09T20:16:20.729Z"
   },
   {
    "duration": 6,
    "start_time": "2022-05-09T20:16:20.735Z"
   },
   {
    "duration": 383,
    "start_time": "2022-05-09T20:16:20.743Z"
   },
   {
    "duration": 5,
    "start_time": "2022-05-09T20:16:21.128Z"
   },
   {
    "duration": 13,
    "start_time": "2022-05-09T20:16:21.135Z"
   },
   {
    "duration": 8,
    "start_time": "2022-05-09T20:16:21.150Z"
   },
   {
    "duration": 11,
    "start_time": "2022-05-09T20:16:21.160Z"
   },
   {
    "duration": 6,
    "start_time": "2022-05-09T20:16:21.173Z"
   },
   {
    "duration": 200,
    "start_time": "2022-05-09T20:16:21.181Z"
   },
   {
    "duration": 181,
    "start_time": "2022-05-09T20:16:21.383Z"
   },
   {
    "duration": 18,
    "start_time": "2022-05-09T20:23:05.469Z"
   },
   {
    "duration": 83,
    "start_time": "2022-05-09T21:07:17.701Z"
   },
   {
    "duration": 98,
    "start_time": "2022-05-09T21:09:30.410Z"
   },
   {
    "duration": 111,
    "start_time": "2022-05-09T21:09:49.265Z"
   },
   {
    "duration": 49,
    "start_time": "2022-05-09T21:10:16.656Z"
   },
   {
    "duration": 90,
    "start_time": "2022-05-09T21:10:49.912Z"
   },
   {
    "duration": 93,
    "start_time": "2022-05-09T21:11:18.466Z"
   },
   {
    "duration": 5,
    "start_time": "2022-05-09T21:19:30.109Z"
   },
   {
    "duration": 916,
    "start_time": "2022-05-09T21:20:08.417Z"
   },
   {
    "duration": 40,
    "start_time": "2022-05-09T21:20:09.335Z"
   },
   {
    "duration": 30,
    "start_time": "2022-05-09T21:20:09.377Z"
   },
   {
    "duration": 24,
    "start_time": "2022-05-09T21:20:09.424Z"
   },
   {
    "duration": 18,
    "start_time": "2022-05-09T21:20:09.450Z"
   },
   {
    "duration": 34,
    "start_time": "2022-05-09T21:20:09.469Z"
   },
   {
    "duration": 114,
    "start_time": "2022-05-09T21:20:09.505Z"
   },
   {
    "duration": 122,
    "start_time": "2022-05-09T21:20:09.621Z"
   },
   {
    "duration": 90,
    "start_time": "2022-05-09T21:20:09.745Z"
   },
   {
    "duration": 121,
    "start_time": "2022-05-09T21:20:09.841Z"
   },
   {
    "duration": 14,
    "start_time": "2022-05-09T21:20:09.964Z"
   },
   {
    "duration": 4,
    "start_time": "2022-05-09T21:20:09.981Z"
   },
   {
    "duration": 83,
    "start_time": "2022-05-09T21:20:09.987Z"
   },
   {
    "duration": 87,
    "start_time": "2022-05-09T21:20:10.073Z"
   },
   {
    "duration": 46,
    "start_time": "2022-05-09T21:20:10.162Z"
   },
   {
    "duration": 54,
    "start_time": "2022-05-09T21:20:10.210Z"
   },
   {
    "duration": 10,
    "start_time": "2022-05-09T21:20:10.266Z"
   },
   {
    "duration": 11,
    "start_time": "2022-05-09T21:20:10.278Z"
   },
   {
    "duration": 52,
    "start_time": "2022-05-09T21:20:10.291Z"
   },
   {
    "duration": 18,
    "start_time": "2022-05-09T21:20:10.345Z"
   },
   {
    "duration": 4,
    "start_time": "2022-05-09T21:20:10.365Z"
   },
   {
    "duration": 10,
    "start_time": "2022-05-09T21:20:10.371Z"
   },
   {
    "duration": 128,
    "start_time": "2022-05-09T21:20:10.383Z"
   },
   {
    "duration": 15,
    "start_time": "2022-05-09T21:20:10.513Z"
   },
   {
    "duration": 19,
    "start_time": "2022-05-09T21:20:10.534Z"
   },
   {
    "duration": 5475,
    "start_time": "2022-05-09T21:20:10.555Z"
   },
   {
    "duration": 15,
    "start_time": "2022-05-09T21:20:16.031Z"
   },
   {
    "duration": 48,
    "start_time": "2022-05-09T21:20:16.051Z"
   },
   {
    "duration": 29,
    "start_time": "2022-05-09T21:20:16.101Z"
   },
   {
    "duration": 469,
    "start_time": "2022-05-09T21:20:16.133Z"
   },
   {
    "duration": 203,
    "start_time": "2022-05-09T21:20:16.604Z"
   },
   {
    "duration": 265,
    "start_time": "2022-05-09T21:20:16.810Z"
   },
   {
    "duration": 10,
    "start_time": "2022-05-09T21:20:17.076Z"
   },
   {
    "duration": 194,
    "start_time": "2022-05-09T21:20:17.088Z"
   },
   {
    "duration": 5,
    "start_time": "2022-05-09T21:20:17.283Z"
   },
   {
    "duration": 187,
    "start_time": "2022-05-09T21:20:17.290Z"
   },
   {
    "duration": 12,
    "start_time": "2022-05-09T21:20:17.479Z"
   },
   {
    "duration": 29,
    "start_time": "2022-05-09T21:20:17.493Z"
   },
   {
    "duration": 21,
    "start_time": "2022-05-09T21:20:17.527Z"
   },
   {
    "duration": 545,
    "start_time": "2022-05-09T21:20:17.550Z"
   },
   {
    "duration": 6,
    "start_time": "2022-05-09T21:20:18.097Z"
   },
   {
    "duration": 48,
    "start_time": "2022-05-09T21:20:18.105Z"
   },
   {
    "duration": 12,
    "start_time": "2022-05-09T21:20:18.155Z"
   },
   {
    "duration": 23,
    "start_time": "2022-05-09T21:20:18.169Z"
   },
   {
    "duration": 19,
    "start_time": "2022-05-09T21:20:18.194Z"
   },
   {
    "duration": 204,
    "start_time": "2022-05-09T21:20:18.215Z"
   },
   {
    "duration": 194,
    "start_time": "2022-05-09T21:20:18.421Z"
   },
   {
    "duration": 107,
    "start_time": "2022-05-09T21:22:14.616Z"
   },
   {
    "duration": 139,
    "start_time": "2022-05-09T21:39:54.064Z"
   },
   {
    "duration": 108,
    "start_time": "2022-05-09T21:51:57.016Z"
   },
   {
    "duration": 1758,
    "start_time": "2022-05-09T22:26:53.022Z"
   },
   {
    "duration": 5,
    "start_time": "2022-05-09T22:27:14.884Z"
   },
   {
    "duration": 20,
    "start_time": "2022-05-09T22:27:26.164Z"
   },
   {
    "duration": 28,
    "start_time": "2022-05-09T22:28:38.911Z"
   },
   {
    "duration": 5,
    "start_time": "2022-05-09T22:28:56.472Z"
   },
   {
    "duration": 103,
    "start_time": "2022-05-09T22:29:02.769Z"
   },
   {
    "duration": 9,
    "start_time": "2022-05-09T22:30:50.524Z"
   },
   {
    "duration": 12,
    "start_time": "2022-05-09T22:31:25.165Z"
   },
   {
    "duration": 20,
    "start_time": "2022-05-09T22:32:45.443Z"
   },
   {
    "duration": 7,
    "start_time": "2022-05-09T22:33:28.537Z"
   },
   {
    "duration": 26,
    "start_time": "2022-05-09T22:33:57.016Z"
   },
   {
    "duration": 31,
    "start_time": "2022-05-09T22:34:13.100Z"
   },
   {
    "duration": 7,
    "start_time": "2022-05-09T22:34:59.453Z"
   },
   {
    "duration": 25,
    "start_time": "2022-05-09T22:35:06.469Z"
   },
   {
    "duration": 23,
    "start_time": "2022-05-09T22:36:08.137Z"
   },
   {
    "duration": 8,
    "start_time": "2022-05-09T22:36:23.868Z"
   },
   {
    "duration": 1046,
    "start_time": "2022-05-10T09:47:36.164Z"
   },
   {
    "duration": 45,
    "start_time": "2022-05-10T09:47:37.212Z"
   },
   {
    "duration": 47,
    "start_time": "2022-05-10T09:47:37.259Z"
   },
   {
    "duration": 32,
    "start_time": "2022-05-10T09:47:37.308Z"
   },
   {
    "duration": 14,
    "start_time": "2022-05-10T09:47:37.342Z"
   },
   {
    "duration": 15,
    "start_time": "2022-05-10T09:47:37.357Z"
   },
   {
    "duration": 158,
    "start_time": "2022-05-10T09:47:37.374Z"
   },
   {
    "duration": 137,
    "start_time": "2022-05-10T09:47:37.534Z"
   },
   {
    "duration": 52,
    "start_time": "2022-05-10T09:47:37.672Z"
   },
   {
    "duration": 54,
    "start_time": "2022-05-10T09:47:37.727Z"
   },
   {
    "duration": 18,
    "start_time": "2022-05-10T09:47:37.783Z"
   },
   {
    "duration": 5,
    "start_time": "2022-05-10T09:47:37.803Z"
   },
   {
    "duration": 56,
    "start_time": "2022-05-10T09:47:37.809Z"
   },
   {
    "duration": 74,
    "start_time": "2022-05-10T09:47:37.866Z"
   },
   {
    "duration": 29,
    "start_time": "2022-05-10T09:47:37.942Z"
   },
   {
    "duration": 43,
    "start_time": "2022-05-10T09:47:37.973Z"
   },
   {
    "duration": 7,
    "start_time": "2022-05-10T09:47:38.017Z"
   },
   {
    "duration": 7,
    "start_time": "2022-05-10T09:47:38.025Z"
   },
   {
    "duration": 17,
    "start_time": "2022-05-10T09:47:38.033Z"
   },
   {
    "duration": 15,
    "start_time": "2022-05-10T09:47:38.051Z"
   },
   {
    "duration": 5,
    "start_time": "2022-05-10T09:47:38.101Z"
   },
   {
    "duration": 9,
    "start_time": "2022-05-10T09:47:38.107Z"
   },
   {
    "duration": 83,
    "start_time": "2022-05-10T09:47:38.118Z"
   },
   {
    "duration": 6,
    "start_time": "2022-05-10T09:47:38.203Z"
   },
   {
    "duration": 11,
    "start_time": "2022-05-10T09:47:38.210Z"
   },
   {
    "duration": 4711,
    "start_time": "2022-05-10T09:47:38.222Z"
   },
   {
    "duration": 11,
    "start_time": "2022-05-10T09:47:42.935Z"
   },
   {
    "duration": 57,
    "start_time": "2022-05-10T09:47:42.950Z"
   },
   {
    "duration": 6,
    "start_time": "2022-05-10T09:47:43.008Z"
   },
   {
    "duration": 374,
    "start_time": "2022-05-10T09:47:43.015Z"
   },
   {
    "duration": 248,
    "start_time": "2022-05-10T09:47:43.391Z"
   },
   {
    "duration": 303,
    "start_time": "2022-05-10T09:47:43.640Z"
   },
   {
    "duration": 8,
    "start_time": "2022-05-10T09:47:43.945Z"
   },
   {
    "duration": 228,
    "start_time": "2022-05-10T09:47:43.955Z"
   },
   {
    "duration": 16,
    "start_time": "2022-05-10T09:47:44.185Z"
   },
   {
    "duration": 226,
    "start_time": "2022-05-10T09:47:44.202Z"
   },
   {
    "duration": 8,
    "start_time": "2022-05-10T09:47:44.430Z"
   },
   {
    "duration": 6,
    "start_time": "2022-05-10T09:47:44.440Z"
   },
   {
    "duration": 5,
    "start_time": "2022-05-10T09:47:44.448Z"
   },
   {
    "duration": 462,
    "start_time": "2022-05-10T09:47:44.455Z"
   },
   {
    "duration": 5,
    "start_time": "2022-05-10T09:47:44.918Z"
   },
   {
    "duration": 6,
    "start_time": "2022-05-10T09:47:44.925Z"
   },
   {
    "duration": 7,
    "start_time": "2022-05-10T09:47:44.933Z"
   },
   {
    "duration": 7,
    "start_time": "2022-05-10T09:47:44.941Z"
   },
   {
    "duration": 8,
    "start_time": "2022-05-10T09:47:44.949Z"
   },
   {
    "duration": 174,
    "start_time": "2022-05-10T09:47:44.959Z"
   },
   {
    "duration": 157,
    "start_time": "2022-05-10T09:47:45.135Z"
   },
   {
    "duration": 52,
    "start_time": "2022-05-10T22:08:05.713Z"
   },
   {
    "duration": 895,
    "start_time": "2022-05-10T22:08:08.805Z"
   },
   {
    "duration": 29,
    "start_time": "2022-05-10T22:08:09.702Z"
   },
   {
    "duration": 24,
    "start_time": "2022-05-10T22:08:09.732Z"
   },
   {
    "duration": 21,
    "start_time": "2022-05-10T22:08:09.758Z"
   },
   {
    "duration": 10,
    "start_time": "2022-05-10T22:08:09.781Z"
   },
   {
    "duration": 13,
    "start_time": "2022-05-10T22:08:09.793Z"
   },
   {
    "duration": 105,
    "start_time": "2022-05-10T22:08:09.808Z"
   },
   {
    "duration": 126,
    "start_time": "2022-05-10T22:08:09.915Z"
   },
   {
    "duration": 55,
    "start_time": "2022-05-10T22:08:10.043Z"
   },
   {
    "duration": 84,
    "start_time": "2022-05-10T22:08:10.101Z"
   },
   {
    "duration": 9,
    "start_time": "2022-05-10T22:08:10.187Z"
   },
   {
    "duration": 4,
    "start_time": "2022-05-10T22:08:10.198Z"
   },
   {
    "duration": 65,
    "start_time": "2022-05-10T22:08:10.204Z"
   },
   {
    "duration": 72,
    "start_time": "2022-05-10T22:08:10.270Z"
   },
   {
    "duration": 31,
    "start_time": "2022-05-10T22:08:10.343Z"
   },
   {
    "duration": 29,
    "start_time": "2022-05-10T22:08:10.375Z"
   },
   {
    "duration": 29,
    "start_time": "2022-05-10T22:08:10.406Z"
   },
   {
    "duration": 8,
    "start_time": "2022-05-10T22:08:10.437Z"
   },
   {
    "duration": 18,
    "start_time": "2022-05-10T22:08:10.447Z"
   },
   {
    "duration": 21,
    "start_time": "2022-05-10T22:08:10.467Z"
   },
   {
    "duration": 4,
    "start_time": "2022-05-10T22:08:10.489Z"
   },
   {
    "duration": 38,
    "start_time": "2022-05-10T22:08:10.495Z"
   },
   {
    "duration": 89,
    "start_time": "2022-05-10T22:08:10.535Z"
   },
   {
    "duration": 10,
    "start_time": "2022-05-10T22:08:10.626Z"
   },
   {
    "duration": 12,
    "start_time": "2022-05-10T22:08:10.638Z"
   },
   {
    "duration": 5094,
    "start_time": "2022-05-10T22:08:10.651Z"
   },
   {
    "duration": 17,
    "start_time": "2022-05-10T22:08:15.747Z"
   },
   {
    "duration": 16,
    "start_time": "2022-05-10T22:08:15.768Z"
   },
   {
    "duration": 67,
    "start_time": "2022-05-10T22:08:15.785Z"
   },
   {
    "duration": 6,
    "start_time": "2022-05-10T22:08:15.854Z"
   },
   {
    "duration": 437,
    "start_time": "2022-05-10T22:08:15.862Z"
   },
   {
    "duration": 218,
    "start_time": "2022-05-10T22:08:16.301Z"
   },
   {
    "duration": 270,
    "start_time": "2022-05-10T22:08:16.520Z"
   },
   {
    "duration": 7,
    "start_time": "2022-05-10T22:08:16.791Z"
   },
   {
    "duration": 196,
    "start_time": "2022-05-10T22:08:16.800Z"
   },
   {
    "duration": 6,
    "start_time": "2022-05-10T22:08:16.997Z"
   },
   {
    "duration": 201,
    "start_time": "2022-05-10T22:08:17.005Z"
   },
   {
    "duration": 9,
    "start_time": "2022-05-10T22:08:17.208Z"
   },
   {
    "duration": 15,
    "start_time": "2022-05-10T22:08:17.219Z"
   },
   {
    "duration": 7,
    "start_time": "2022-05-10T22:08:17.236Z"
   },
   {
    "duration": 397,
    "start_time": "2022-05-10T22:08:17.244Z"
   },
   {
    "duration": 5,
    "start_time": "2022-05-10T22:08:17.643Z"
   },
   {
    "duration": 10,
    "start_time": "2022-05-10T22:08:17.650Z"
   },
   {
    "duration": 7,
    "start_time": "2022-05-10T22:08:17.661Z"
   },
   {
    "duration": 6,
    "start_time": "2022-05-10T22:08:17.670Z"
   },
   {
    "duration": 6,
    "start_time": "2022-05-10T22:08:17.678Z"
   },
   {
    "duration": 207,
    "start_time": "2022-05-10T22:08:17.686Z"
   },
   {
    "duration": 192,
    "start_time": "2022-05-10T22:08:17.894Z"
   },
   {
    "duration": 1062,
    "start_time": "2022-11-10T17:46:29.336Z"
   },
   {
    "duration": 772,
    "start_time": "2022-11-10T17:51:12.603Z"
   },
   {
    "duration": 1116,
    "start_time": "2022-11-10T17:51:13.377Z"
   },
   {
    "duration": 44,
    "start_time": "2022-11-10T17:51:14.495Z"
   },
   {
    "duration": 35,
    "start_time": "2022-11-10T17:51:14.542Z"
   },
   {
    "duration": 24,
    "start_time": "2022-11-10T17:51:14.580Z"
   },
   {
    "duration": 22,
    "start_time": "2022-11-10T17:51:14.606Z"
   },
   {
    "duration": 36,
    "start_time": "2022-11-10T17:51:14.631Z"
   },
   {
    "duration": 157,
    "start_time": "2022-11-10T17:51:14.669Z"
   },
   {
    "duration": 258,
    "start_time": "2022-11-10T17:51:14.828Z"
   },
   {
    "duration": 79,
    "start_time": "2022-11-10T17:51:15.092Z"
   },
   {
    "duration": 432,
    "start_time": "2022-11-10T17:51:15.174Z"
   },
   {
    "duration": 14,
    "start_time": "2022-11-10T17:51:15.608Z"
   },
   {
    "duration": 25,
    "start_time": "2022-11-10T17:51:15.624Z"
   },
   {
    "duration": 65,
    "start_time": "2022-11-10T17:51:15.651Z"
   },
   {
    "duration": 89,
    "start_time": "2022-11-10T17:51:15.718Z"
   },
   {
    "duration": 45,
    "start_time": "2022-11-10T17:51:15.811Z"
   },
   {
    "duration": 44,
    "start_time": "2022-11-10T17:51:15.858Z"
   },
   {
    "duration": 10,
    "start_time": "2022-11-10T17:51:15.904Z"
   },
   {
    "duration": 16,
    "start_time": "2022-11-10T17:51:15.916Z"
   },
   {
    "duration": 46,
    "start_time": "2022-11-10T17:51:15.934Z"
   },
   {
    "duration": 42,
    "start_time": "2022-11-10T17:51:15.982Z"
   },
   {
    "duration": 5,
    "start_time": "2022-11-10T17:51:16.026Z"
   },
   {
    "duration": 18,
    "start_time": "2022-11-10T17:51:16.034Z"
   },
   {
    "duration": 83,
    "start_time": "2022-11-10T17:51:16.054Z"
   },
   {
    "duration": 18,
    "start_time": "2022-11-10T17:51:16.139Z"
   },
   {
    "duration": 32,
    "start_time": "2022-11-10T17:51:16.159Z"
   },
   {
    "duration": 8452,
    "start_time": "2022-11-10T17:51:16.193Z"
   },
   {
    "duration": 21,
    "start_time": "2022-11-10T17:51:24.653Z"
   },
   {
    "duration": 86,
    "start_time": "2022-11-10T17:51:24.676Z"
   },
   {
    "duration": 9,
    "start_time": "2022-11-10T17:51:24.765Z"
   },
   {
    "duration": 449,
    "start_time": "2022-11-10T17:51:24.776Z"
   },
   {
    "duration": 0,
    "start_time": "2022-11-10T17:51:25.228Z"
   },
   {
    "duration": 0,
    "start_time": "2022-11-10T17:51:25.229Z"
   },
   {
    "duration": 0,
    "start_time": "2022-11-10T17:51:25.231Z"
   },
   {
    "duration": 0,
    "start_time": "2022-11-10T17:51:25.232Z"
   },
   {
    "duration": 0,
    "start_time": "2022-11-10T17:51:25.233Z"
   },
   {
    "duration": 0,
    "start_time": "2022-11-10T17:51:25.235Z"
   },
   {
    "duration": 0,
    "start_time": "2022-11-10T17:51:25.251Z"
   },
   {
    "duration": 0,
    "start_time": "2022-11-10T17:51:25.254Z"
   },
   {
    "duration": 0,
    "start_time": "2022-11-10T17:51:25.256Z"
   },
   {
    "duration": 0,
    "start_time": "2022-11-10T17:51:25.258Z"
   },
   {
    "duration": 0,
    "start_time": "2022-11-10T17:51:25.259Z"
   },
   {
    "duration": 0,
    "start_time": "2022-11-10T17:51:25.261Z"
   },
   {
    "duration": 0,
    "start_time": "2022-11-10T17:51:25.262Z"
   },
   {
    "duration": 0,
    "start_time": "2022-11-10T17:51:25.264Z"
   },
   {
    "duration": 0,
    "start_time": "2022-11-10T17:51:25.267Z"
   },
   {
    "duration": 0,
    "start_time": "2022-11-10T17:51:25.269Z"
   },
   {
    "duration": 0,
    "start_time": "2022-11-10T17:51:25.270Z"
   },
   {
    "duration": 242,
    "start_time": "2022-11-10T17:51:46.062Z"
   },
   {
    "duration": 1299,
    "start_time": "2022-11-10T17:55:47.382Z"
   },
   {
    "duration": 543,
    "start_time": "2022-11-10T17:55:48.686Z"
   },
   {
    "duration": 37,
    "start_time": "2022-11-10T17:55:49.231Z"
   },
   {
    "duration": 29,
    "start_time": "2022-11-10T17:55:49.271Z"
   },
   {
    "duration": 49,
    "start_time": "2022-11-10T17:55:49.303Z"
   },
   {
    "duration": 15,
    "start_time": "2022-11-10T17:55:49.354Z"
   },
   {
    "duration": 19,
    "start_time": "2022-11-10T17:55:49.372Z"
   },
   {
    "duration": 122,
    "start_time": "2022-11-10T17:55:49.394Z"
   },
   {
    "duration": 181,
    "start_time": "2022-11-10T17:55:49.518Z"
   },
   {
    "duration": 80,
    "start_time": "2022-11-10T17:55:49.703Z"
   },
   {
    "duration": 102,
    "start_time": "2022-11-10T17:55:49.785Z"
   },
   {
    "duration": 15,
    "start_time": "2022-11-10T17:55:49.889Z"
   },
   {
    "duration": 13,
    "start_time": "2022-11-10T17:55:49.906Z"
   },
   {
    "duration": 86,
    "start_time": "2022-11-10T17:55:49.921Z"
   },
   {
    "duration": 101,
    "start_time": "2022-11-10T17:55:50.009Z"
   },
   {
    "duration": 63,
    "start_time": "2022-11-10T17:55:50.112Z"
   },
   {
    "duration": 38,
    "start_time": "2022-11-10T17:55:50.177Z"
   },
   {
    "duration": 33,
    "start_time": "2022-11-10T17:55:50.218Z"
   },
   {
    "duration": 13,
    "start_time": "2022-11-10T17:55:50.254Z"
   },
   {
    "duration": 32,
    "start_time": "2022-11-10T17:55:50.270Z"
   },
   {
    "duration": 55,
    "start_time": "2022-11-10T17:55:50.305Z"
   },
   {
    "duration": 6,
    "start_time": "2022-11-10T17:55:50.363Z"
   },
   {
    "duration": 20,
    "start_time": "2022-11-10T17:55:50.371Z"
   },
   {
    "duration": 85,
    "start_time": "2022-11-10T17:55:50.394Z"
   },
   {
    "duration": 11,
    "start_time": "2022-11-10T17:55:50.481Z"
   },
   {
    "duration": 17,
    "start_time": "2022-11-10T17:55:50.494Z"
   },
   {
    "duration": 6380,
    "start_time": "2022-11-10T17:55:50.513Z"
   },
   {
    "duration": 16,
    "start_time": "2022-11-10T17:55:56.897Z"
   },
   {
    "duration": 83,
    "start_time": "2022-11-10T17:55:56.915Z"
   },
   {
    "duration": 8,
    "start_time": "2022-11-10T17:55:57.001Z"
   },
   {
    "duration": 262,
    "start_time": "2022-11-10T17:55:57.011Z"
   },
   {
    "duration": 269,
    "start_time": "2022-11-10T17:55:57.275Z"
   },
   {
    "duration": 298,
    "start_time": "2022-11-10T17:55:57.546Z"
   },
   {
    "duration": 9,
    "start_time": "2022-11-10T17:55:57.851Z"
   },
   {
    "duration": 254,
    "start_time": "2022-11-10T17:55:57.862Z"
   },
   {
    "duration": 8,
    "start_time": "2022-11-10T17:55:58.119Z"
   },
   {
    "duration": 276,
    "start_time": "2022-11-10T17:55:58.129Z"
   },
   {
    "duration": 11,
    "start_time": "2022-11-10T17:55:58.407Z"
   },
   {
    "duration": 9,
    "start_time": "2022-11-10T17:55:58.420Z"
   },
   {
    "duration": 24,
    "start_time": "2022-11-10T17:55:58.431Z"
   },
   {
    "duration": 8,
    "start_time": "2022-11-10T17:55:58.457Z"
   },
   {
    "duration": 10,
    "start_time": "2022-11-10T17:55:58.467Z"
   },
   {
    "duration": 12,
    "start_time": "2022-11-10T17:55:58.479Z"
   },
   {
    "duration": 8,
    "start_time": "2022-11-10T17:55:58.493Z"
   },
   {
    "duration": 9,
    "start_time": "2022-11-10T17:55:58.503Z"
   },
   {
    "duration": 10,
    "start_time": "2022-11-10T17:55:58.551Z"
   },
   {
    "duration": 314,
    "start_time": "2022-11-10T17:55:58.564Z"
   },
   {
    "duration": 221,
    "start_time": "2022-11-10T17:55:58.880Z"
   },
   {
    "duration": 247,
    "start_time": "2022-11-10T18:48:03.354Z"
   },
   {
    "duration": 254,
    "start_time": "2022-11-10T18:48:23.655Z"
   },
   {
    "duration": 322,
    "start_time": "2022-11-10T18:51:22.553Z"
   },
   {
    "duration": 259,
    "start_time": "2022-11-10T18:52:26.199Z"
   },
   {
    "duration": 264,
    "start_time": "2022-11-10T18:53:02.450Z"
   },
   {
    "duration": 90,
    "start_time": "2022-11-10T19:12:04.625Z"
   },
   {
    "duration": 231,
    "start_time": "2022-11-10T19:12:44.080Z"
   },
   {
    "duration": 212,
    "start_time": "2022-11-10T19:13:12.190Z"
   },
   {
    "duration": 345,
    "start_time": "2022-11-10T19:13:39.823Z"
   },
   {
    "duration": 231,
    "start_time": "2022-11-10T19:14:34.043Z"
   },
   {
    "duration": 225,
    "start_time": "2022-11-10T19:14:58.229Z"
   },
   {
    "duration": 252,
    "start_time": "2022-11-10T19:15:16.214Z"
   },
   {
    "duration": 211,
    "start_time": "2022-11-10T19:19:06.724Z"
   },
   {
    "duration": 1292,
    "start_time": "2022-11-10T19:19:29.782Z"
   },
   {
    "duration": 478,
    "start_time": "2022-11-10T19:19:31.077Z"
   },
   {
    "duration": 32,
    "start_time": "2022-11-10T19:19:31.557Z"
   },
   {
    "duration": 28,
    "start_time": "2022-11-10T19:19:31.591Z"
   },
   {
    "duration": 38,
    "start_time": "2022-11-10T19:19:31.621Z"
   },
   {
    "duration": 13,
    "start_time": "2022-11-10T19:19:31.661Z"
   },
   {
    "duration": 19,
    "start_time": "2022-11-10T19:19:31.676Z"
   },
   {
    "duration": 113,
    "start_time": "2022-11-10T19:19:31.697Z"
   },
   {
    "duration": 132,
    "start_time": "2022-11-10T19:19:31.812Z"
   },
   {
    "duration": 58,
    "start_time": "2022-11-10T19:19:31.950Z"
   },
   {
    "duration": 92,
    "start_time": "2022-11-10T19:19:32.009Z"
   },
   {
    "duration": 13,
    "start_time": "2022-11-10T19:19:32.103Z"
   },
   {
    "duration": 8,
    "start_time": "2022-11-10T19:19:32.117Z"
   },
   {
    "duration": 94,
    "start_time": "2022-11-10T19:19:32.127Z"
   },
   {
    "duration": 108,
    "start_time": "2022-11-10T19:19:32.223Z"
   },
   {
    "duration": 44,
    "start_time": "2022-11-10T19:19:32.333Z"
   },
   {
    "duration": 34,
    "start_time": "2022-11-10T19:19:32.378Z"
   },
   {
    "duration": 9,
    "start_time": "2022-11-10T19:19:32.414Z"
   },
   {
    "duration": 41,
    "start_time": "2022-11-10T19:19:32.425Z"
   },
   {
    "duration": 21,
    "start_time": "2022-11-10T19:19:32.469Z"
   },
   {
    "duration": 32,
    "start_time": "2022-11-10T19:19:32.492Z"
   },
   {
    "duration": 5,
    "start_time": "2022-11-10T19:19:32.525Z"
   },
   {
    "duration": 21,
    "start_time": "2022-11-10T19:19:32.531Z"
   },
   {
    "duration": 59,
    "start_time": "2022-11-10T19:19:32.554Z"
   },
   {
    "duration": 9,
    "start_time": "2022-11-10T19:19:32.614Z"
   },
   {
    "duration": 31,
    "start_time": "2022-11-10T19:19:32.625Z"
   },
   {
    "duration": 5914,
    "start_time": "2022-11-10T19:19:32.658Z"
   },
   {
    "duration": 17,
    "start_time": "2022-11-10T19:19:38.575Z"
   },
   {
    "duration": 73,
    "start_time": "2022-11-10T19:19:38.594Z"
   },
   {
    "duration": 8,
    "start_time": "2022-11-10T19:19:38.669Z"
   },
   {
    "duration": 278,
    "start_time": "2022-11-10T19:19:38.679Z"
   },
   {
    "duration": 260,
    "start_time": "2022-11-10T19:19:38.959Z"
   },
   {
    "duration": 244,
    "start_time": "2022-11-10T19:19:39.222Z"
   },
   {
    "duration": 8,
    "start_time": "2022-11-10T19:19:39.472Z"
   },
   {
    "duration": 271,
    "start_time": "2022-11-10T19:19:39.482Z"
   },
   {
    "duration": 9,
    "start_time": "2022-11-10T19:19:39.755Z"
   },
   {
    "duration": 337,
    "start_time": "2022-11-10T19:19:39.766Z"
   },
   {
    "duration": 9,
    "start_time": "2022-11-10T19:19:40.104Z"
   },
   {
    "duration": 9,
    "start_time": "2022-11-10T19:19:40.115Z"
   },
   {
    "duration": 25,
    "start_time": "2022-11-10T19:19:40.126Z"
   },
   {
    "duration": 9,
    "start_time": "2022-11-10T19:19:40.152Z"
   },
   {
    "duration": 8,
    "start_time": "2022-11-10T19:19:40.164Z"
   },
   {
    "duration": 12,
    "start_time": "2022-11-10T19:19:40.174Z"
   },
   {
    "duration": 7,
    "start_time": "2022-11-10T19:19:40.188Z"
   },
   {
    "duration": 7,
    "start_time": "2022-11-10T19:19:40.196Z"
   },
   {
    "duration": 16,
    "start_time": "2022-11-10T19:19:40.205Z"
   },
   {
    "duration": 235,
    "start_time": "2022-11-10T19:19:40.223Z"
   },
   {
    "duration": 247,
    "start_time": "2022-11-10T19:19:40.460Z"
   }
  ],
  "kernelspec": {
   "display_name": "Python 3 (ipykernel)",
   "language": "python",
   "name": "python3"
  },
  "language_info": {
   "codemirror_mode": {
    "name": "ipython",
    "version": 3
   },
   "file_extension": ".py",
   "mimetype": "text/x-python",
   "name": "python",
   "nbconvert_exporter": "python",
   "pygments_lexer": "ipython3",
   "version": "3.9.12"
  },
  "toc": {
   "base_numbering": 1,
   "nav_menu": {},
   "number_sections": true,
   "sideBar": true,
   "skip_h1_title": true,
   "title_cell": "Table of Contents",
   "title_sidebar": "Contents",
   "toc_cell": false,
   "toc_position": {},
   "toc_section_display": true,
   "toc_window_display": true
  }
 },
 "nbformat": 4,
 "nbformat_minor": 2
}
