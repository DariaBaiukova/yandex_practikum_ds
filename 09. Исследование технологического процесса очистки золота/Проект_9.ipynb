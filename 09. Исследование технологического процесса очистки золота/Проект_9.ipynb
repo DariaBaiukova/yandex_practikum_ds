{
 "cells": [
  {
   "cell_type": "markdown",
   "metadata": {
    "toc": true
   },
   "source": [
    "<h1>Содержание<span class=\"tocSkip\"></span></h1>\n",
    "<div class=\"toc\"><ul class=\"toc-item\"><li><span><a href=\"#Подготовка-данных\" data-toc-modified-id=\"Подготовка-данных-1\"><span class=\"toc-item-num\">1&nbsp;&nbsp;</span>Подготовка данных</a></span><ul class=\"toc-item\"><li><span><a href=\"#Изучение-файлов\" data-toc-modified-id=\"Изучение-файлов-1.1\"><span class=\"toc-item-num\">1.1&nbsp;&nbsp;</span>Изучение файлов</a></span></li><li><span><a href=\"#Проверка-,-что-эффективность-обогащения-рассчитана-правильно.-Вычисление-эффективности-на-обучающей-выборке-для-признака-rougher.output.recovery.-MAE-между-вашими-расчётами-и-значением-признака.\" data-toc-modified-id=\"Проверка-,-что-эффективность-обогащения-рассчитана-правильно.-Вычисление-эффективности-на-обучающей-выборке-для-признака-rougher.output.recovery.-MAE-между-вашими-расчётами-и-значением-признака.-1.2\"><span class=\"toc-item-num\">1.2&nbsp;&nbsp;</span>Проверка , что эффективность обогащения рассчитана правильно. Вычисление эффективности на обучающей выборке для признака rougher.output.recovery. MAE между вашими расчётами и значением признака.</a></span></li><li><span><a href=\"#Анализ-признаков,-недоступных-в-тестовой-выборке.\" data-toc-modified-id=\"Анализ-признаков,-недоступных-в-тестовой-выборке.-1.3\"><span class=\"toc-item-num\">1.3&nbsp;&nbsp;</span>Анализ признаков, недоступных в тестовой выборке.</a></span></li></ul></li><li><span><a href=\"#Анализ-данных\" data-toc-modified-id=\"Анализ-данных-2\"><span class=\"toc-item-num\">2&nbsp;&nbsp;</span>Анализ данных</a></span><ul class=\"toc-item\"><li><span><a href=\"#Как-меняется-концентрация-металлов-(Au,-Ag,-Pb)-на-различных-этапах-очистки.\" data-toc-modified-id=\"Как-меняется-концентрация-металлов-(Au,-Ag,-Pb)-на-различных-этапах-очистки.-2.1\"><span class=\"toc-item-num\">2.1&nbsp;&nbsp;</span>Как меняется концентрация металлов (Au, Ag, Pb) на различных этапах очистки.</a></span></li><li><span><a href=\"#Сравнение-распределения-размеров-гранул-сырья-на-обучающей-и-тестовой-выборках.-Если-распределения-сильно-отличаются-друг-от-друга,-оценка-модели-будет-неправильной.\" data-toc-modified-id=\"Сравнение-распределения-размеров-гранул-сырья-на-обучающей-и-тестовой-выборках.-Если-распределения-сильно-отличаются-друг-от-друга,-оценка-модели-будет-неправильной.-2.2\"><span class=\"toc-item-num\">2.2&nbsp;&nbsp;</span>Сравнение распределения размеров гранул сырья на обучающей и тестовой выборках. Если распределения сильно отличаются друг от друга, оценка модели будет неправильной.</a></span></li><li><span><a href=\"#Исследование-суммарной-концентрацию-всех-веществ-на-разных-стадиях:-в-сырье,-в-черновом-и-финальном-концентратах.\" data-toc-modified-id=\"Исследование-суммарной-концентрацию-всех-веществ-на-разных-стадиях:-в-сырье,-в-черновом-и-финальном-концентратах.-2.3\"><span class=\"toc-item-num\">2.3&nbsp;&nbsp;</span>Исследование суммарной концентрацию всех веществ на разных стадиях: в сырье, в черновом и финальном концентратах.</a></span></li></ul></li><li><span><a href=\"#Модель\" data-toc-modified-id=\"Модель-3\"><span class=\"toc-item-num\">3&nbsp;&nbsp;</span>Модель</a></span><ul class=\"toc-item\"><li><span><a href=\"#Функция-для-вычисления-итоговой-sMAPE\" data-toc-modified-id=\"Функция-для-вычисления-итоговой-sMAPE-3.1\"><span class=\"toc-item-num\">3.1&nbsp;&nbsp;</span>Функция для вычисления итоговой sMAPE</a></span></li><li><span><a href=\"#Обучение-разных-моделей-и-оценка-их-качество-кросс-валидацией.-Выберите-лучшую-модель-и-проверьте-её-на-тестовой-выборке.\" data-toc-modified-id=\"Обучение-разных-моделей-и-оценка-их-качество-кросс-валидацией.-Выберите-лучшую-модель-и-проверьте-её-на-тестовой-выборке.-3.2\"><span class=\"toc-item-num\">3.2&nbsp;&nbsp;</span>Обучение разных моделей и оценка их качество кросс-валидацией. Выберите лучшую модель и проверьте её на тестовой выборке.</a></span></li></ul></li><li><span><a href=\"#Чек-лист-готовности-проекта\" data-toc-modified-id=\"Чек-лист-готовности-проекта-4\"><span class=\"toc-item-num\">4&nbsp;&nbsp;</span>Чек-лист готовности проекта</a></span></li></ul></div>"
   ]
  },
  {
   "cell_type": "markdown",
   "metadata": {},
   "source": [
    "# Восстановление золота из руды"
   ]
  },
  {
   "cell_type": "markdown",
   "metadata": {},
   "source": [
    "Подготовьте прототип модели машинного обучения для «Цифры». Компания разрабатывает решения для эффективной работы промышленных предприятий.\n",
    "\n",
    "Модель должна предсказать коэффициент восстановления золота из золотосодержащей руды. Используйте данные с параметрами добычи и очистки. \n",
    "\n",
    "Модель поможет оптимизировать производство, чтобы не запускать предприятие с убыточными характеристиками.\n",
    "\n",
    "Вам нужно:\n",
    "\n",
    "1. Подготовить данные;\n",
    "2. Провести исследовательский анализ данных;\n",
    "3. Построить и обучить модель.\n",
    "\n",
    "Чтобы выполнить проект, обращайтесь к библиотекам *pandas*, *matplotlib* и *sklearn.* Вам поможет их документация."
   ]
  },
  {
   "cell_type": "markdown",
   "metadata": {},
   "source": [
    "## Подготовка данных"
   ]
  },
  {
   "cell_type": "markdown",
   "metadata": {},
   "source": [
    "### Изучение файлов"
   ]
  },
  {
   "cell_type": "code",
   "execution_count": 1,
   "metadata": {},
   "outputs": [],
   "source": [
    "import pandas as pd\n",
    "import matplotlib.pyplot as plt\n",
    "import seaborn as sns\n",
    "import numpy as np\n",
    "from scipy import stats as st\n",
    "from sklearn.metrics import mean_absolute_error\n",
    "from sklearn.model_selection import cross_val_score\n",
    "from sklearn.tree import DecisionTreeRegressor\n",
    "from sklearn.metrics import make_scorer\n",
    "from sklearn.model_selection import GridSearchCV\n",
    "from sklearn.ensemble import RandomForestRegressor\n",
    "from sklearn.preprocessing import StandardScaler\n",
    "from sklearn.linear_model import LinearRegression\n",
    "from sklearn.dummy import DummyRegressor\n",
    "from scipy.stats import ks_2samp\n",
    "from sklearn.model_selection import RandomizedSearchCV\n",
    "\n"
   ]
  },
  {
   "cell_type": "code",
   "execution_count": 57,
   "metadata": {},
   "outputs": [],
   "source": [
    "df_train = pd.read_csv('/datasets/gold_recovery_train_new.csv')\n",
    "df_test = pd.read_csv('/datasets/gold_recovery_test_new.csv')\n",
    "df_full = pd.read_csv('/datasets/gold_recovery_full_new.csv')"
   ]
  },
  {
   "cell_type": "code",
   "execution_count": 58,
   "metadata": {},
   "outputs": [
    {
     "data": {
      "text/html": [
       "<div>\n",
       "<style scoped>\n",
       "    .dataframe tbody tr th:only-of-type {\n",
       "        vertical-align: middle;\n",
       "    }\n",
       "\n",
       "    .dataframe tbody tr th {\n",
       "        vertical-align: top;\n",
       "    }\n",
       "\n",
       "    .dataframe thead th {\n",
       "        text-align: right;\n",
       "    }\n",
       "</style>\n",
       "<table border=\"1\" class=\"dataframe\">\n",
       "  <thead>\n",
       "    <tr style=\"text-align: right;\">\n",
       "      <th></th>\n",
       "      <th>date</th>\n",
       "      <th>final.output.concentrate_ag</th>\n",
       "      <th>final.output.concentrate_pb</th>\n",
       "      <th>final.output.concentrate_sol</th>\n",
       "      <th>final.output.concentrate_au</th>\n",
       "      <th>final.output.recovery</th>\n",
       "      <th>final.output.tail_ag</th>\n",
       "      <th>final.output.tail_pb</th>\n",
       "      <th>final.output.tail_sol</th>\n",
       "      <th>final.output.tail_au</th>\n",
       "      <th>...</th>\n",
       "      <th>secondary_cleaner.state.floatbank4_a_air</th>\n",
       "      <th>secondary_cleaner.state.floatbank4_a_level</th>\n",
       "      <th>secondary_cleaner.state.floatbank4_b_air</th>\n",
       "      <th>secondary_cleaner.state.floatbank4_b_level</th>\n",
       "      <th>secondary_cleaner.state.floatbank5_a_air</th>\n",
       "      <th>secondary_cleaner.state.floatbank5_a_level</th>\n",
       "      <th>secondary_cleaner.state.floatbank5_b_air</th>\n",
       "      <th>secondary_cleaner.state.floatbank5_b_level</th>\n",
       "      <th>secondary_cleaner.state.floatbank6_a_air</th>\n",
       "      <th>secondary_cleaner.state.floatbank6_a_level</th>\n",
       "    </tr>\n",
       "  </thead>\n",
       "  <tbody>\n",
       "    <tr>\n",
       "      <th>0</th>\n",
       "      <td>2016-01-15 00:00:00</td>\n",
       "      <td>6.055403</td>\n",
       "      <td>9.889648</td>\n",
       "      <td>5.507324</td>\n",
       "      <td>42.192020</td>\n",
       "      <td>70.541216</td>\n",
       "      <td>10.411962</td>\n",
       "      <td>0.895447</td>\n",
       "      <td>16.904297</td>\n",
       "      <td>2.143149</td>\n",
       "      <td>...</td>\n",
       "      <td>14.016835</td>\n",
       "      <td>-502.488007</td>\n",
       "      <td>12.099931</td>\n",
       "      <td>-504.715942</td>\n",
       "      <td>9.925633</td>\n",
       "      <td>-498.310211</td>\n",
       "      <td>8.079666</td>\n",
       "      <td>-500.470978</td>\n",
       "      <td>14.151341</td>\n",
       "      <td>-605.841980</td>\n",
       "    </tr>\n",
       "    <tr>\n",
       "      <th>1</th>\n",
       "      <td>2016-01-15 01:00:00</td>\n",
       "      <td>6.029369</td>\n",
       "      <td>9.968944</td>\n",
       "      <td>5.257781</td>\n",
       "      <td>42.701629</td>\n",
       "      <td>69.266198</td>\n",
       "      <td>10.462676</td>\n",
       "      <td>0.927452</td>\n",
       "      <td>16.634514</td>\n",
       "      <td>2.224930</td>\n",
       "      <td>...</td>\n",
       "      <td>13.992281</td>\n",
       "      <td>-505.503262</td>\n",
       "      <td>11.950531</td>\n",
       "      <td>-501.331529</td>\n",
       "      <td>10.039245</td>\n",
       "      <td>-500.169983</td>\n",
       "      <td>7.984757</td>\n",
       "      <td>-500.582168</td>\n",
       "      <td>13.998353</td>\n",
       "      <td>-599.787184</td>\n",
       "    </tr>\n",
       "    <tr>\n",
       "      <th>2</th>\n",
       "      <td>2016-01-15 02:00:00</td>\n",
       "      <td>6.055926</td>\n",
       "      <td>10.213995</td>\n",
       "      <td>5.383759</td>\n",
       "      <td>42.657501</td>\n",
       "      <td>68.116445</td>\n",
       "      <td>10.507046</td>\n",
       "      <td>0.953716</td>\n",
       "      <td>16.208849</td>\n",
       "      <td>2.257889</td>\n",
       "      <td>...</td>\n",
       "      <td>14.015015</td>\n",
       "      <td>-502.520901</td>\n",
       "      <td>11.912783</td>\n",
       "      <td>-501.133383</td>\n",
       "      <td>10.070913</td>\n",
       "      <td>-500.129135</td>\n",
       "      <td>8.013877</td>\n",
       "      <td>-500.517572</td>\n",
       "      <td>14.028663</td>\n",
       "      <td>-601.427363</td>\n",
       "    </tr>\n",
       "    <tr>\n",
       "      <th>3</th>\n",
       "      <td>2016-01-15 03:00:00</td>\n",
       "      <td>6.047977</td>\n",
       "      <td>9.977019</td>\n",
       "      <td>4.858634</td>\n",
       "      <td>42.689819</td>\n",
       "      <td>68.347543</td>\n",
       "      <td>10.422762</td>\n",
       "      <td>0.883763</td>\n",
       "      <td>16.532835</td>\n",
       "      <td>2.146849</td>\n",
       "      <td>...</td>\n",
       "      <td>14.036510</td>\n",
       "      <td>-500.857308</td>\n",
       "      <td>11.999550</td>\n",
       "      <td>-501.193686</td>\n",
       "      <td>9.970366</td>\n",
       "      <td>-499.201640</td>\n",
       "      <td>7.977324</td>\n",
       "      <td>-500.255908</td>\n",
       "      <td>14.005551</td>\n",
       "      <td>-599.996129</td>\n",
       "    </tr>\n",
       "    <tr>\n",
       "      <th>4</th>\n",
       "      <td>2016-01-15 04:00:00</td>\n",
       "      <td>6.148599</td>\n",
       "      <td>10.142511</td>\n",
       "      <td>4.939416</td>\n",
       "      <td>42.774141</td>\n",
       "      <td>66.927016</td>\n",
       "      <td>10.360302</td>\n",
       "      <td>0.792826</td>\n",
       "      <td>16.525686</td>\n",
       "      <td>2.055292</td>\n",
       "      <td>...</td>\n",
       "      <td>14.027298</td>\n",
       "      <td>-499.838632</td>\n",
       "      <td>11.953070</td>\n",
       "      <td>-501.053894</td>\n",
       "      <td>9.925709</td>\n",
       "      <td>-501.686727</td>\n",
       "      <td>7.894242</td>\n",
       "      <td>-500.356035</td>\n",
       "      <td>13.996647</td>\n",
       "      <td>-601.496691</td>\n",
       "    </tr>\n",
       "    <tr>\n",
       "      <th>...</th>\n",
       "      <td>...</td>\n",
       "      <td>...</td>\n",
       "      <td>...</td>\n",
       "      <td>...</td>\n",
       "      <td>...</td>\n",
       "      <td>...</td>\n",
       "      <td>...</td>\n",
       "      <td>...</td>\n",
       "      <td>...</td>\n",
       "      <td>...</td>\n",
       "      <td>...</td>\n",
       "      <td>...</td>\n",
       "      <td>...</td>\n",
       "      <td>...</td>\n",
       "      <td>...</td>\n",
       "      <td>...</td>\n",
       "      <td>...</td>\n",
       "      <td>...</td>\n",
       "      <td>...</td>\n",
       "      <td>...</td>\n",
       "      <td>...</td>\n",
       "    </tr>\n",
       "    <tr>\n",
       "      <th>14144</th>\n",
       "      <td>2018-08-18 06:59:59</td>\n",
       "      <td>3.224920</td>\n",
       "      <td>11.356233</td>\n",
       "      <td>6.803482</td>\n",
       "      <td>46.713954</td>\n",
       "      <td>73.755150</td>\n",
       "      <td>8.769645</td>\n",
       "      <td>3.141541</td>\n",
       "      <td>10.403181</td>\n",
       "      <td>1.529220</td>\n",
       "      <td>...</td>\n",
       "      <td>23.031497</td>\n",
       "      <td>-501.167942</td>\n",
       "      <td>20.007571</td>\n",
       "      <td>-499.740028</td>\n",
       "      <td>18.006038</td>\n",
       "      <td>-499.834374</td>\n",
       "      <td>13.001114</td>\n",
       "      <td>-500.155694</td>\n",
       "      <td>20.007840</td>\n",
       "      <td>-501.296428</td>\n",
       "    </tr>\n",
       "    <tr>\n",
       "      <th>14145</th>\n",
       "      <td>2018-08-18 07:59:59</td>\n",
       "      <td>3.195978</td>\n",
       "      <td>11.349355</td>\n",
       "      <td>6.862249</td>\n",
       "      <td>46.866780</td>\n",
       "      <td>69.049291</td>\n",
       "      <td>8.897321</td>\n",
       "      <td>3.130493</td>\n",
       "      <td>10.549470</td>\n",
       "      <td>1.612542</td>\n",
       "      <td>...</td>\n",
       "      <td>22.960095</td>\n",
       "      <td>-501.612783</td>\n",
       "      <td>20.035660</td>\n",
       "      <td>-500.251357</td>\n",
       "      <td>17.998535</td>\n",
       "      <td>-500.395178</td>\n",
       "      <td>12.954048</td>\n",
       "      <td>-499.895163</td>\n",
       "      <td>19.968498</td>\n",
       "      <td>-501.041608</td>\n",
       "    </tr>\n",
       "    <tr>\n",
       "      <th>14146</th>\n",
       "      <td>2018-08-18 08:59:59</td>\n",
       "      <td>3.109998</td>\n",
       "      <td>11.434366</td>\n",
       "      <td>6.886013</td>\n",
       "      <td>46.795691</td>\n",
       "      <td>67.002189</td>\n",
       "      <td>8.529606</td>\n",
       "      <td>2.911418</td>\n",
       "      <td>11.115147</td>\n",
       "      <td>1.596616</td>\n",
       "      <td>...</td>\n",
       "      <td>23.015718</td>\n",
       "      <td>-501.711599</td>\n",
       "      <td>19.951231</td>\n",
       "      <td>-499.857027</td>\n",
       "      <td>18.019543</td>\n",
       "      <td>-500.451156</td>\n",
       "      <td>13.023431</td>\n",
       "      <td>-499.914391</td>\n",
       "      <td>19.990885</td>\n",
       "      <td>-501.518452</td>\n",
       "    </tr>\n",
       "    <tr>\n",
       "      <th>14147</th>\n",
       "      <td>2018-08-18 09:59:59</td>\n",
       "      <td>3.367241</td>\n",
       "      <td>11.625587</td>\n",
       "      <td>6.799433</td>\n",
       "      <td>46.408188</td>\n",
       "      <td>65.523246</td>\n",
       "      <td>8.777171</td>\n",
       "      <td>2.819214</td>\n",
       "      <td>10.463847</td>\n",
       "      <td>1.602879</td>\n",
       "      <td>...</td>\n",
       "      <td>23.024963</td>\n",
       "      <td>-501.153409</td>\n",
       "      <td>20.054122</td>\n",
       "      <td>-500.314711</td>\n",
       "      <td>17.979515</td>\n",
       "      <td>-499.272871</td>\n",
       "      <td>12.992404</td>\n",
       "      <td>-499.976268</td>\n",
       "      <td>20.013986</td>\n",
       "      <td>-500.625471</td>\n",
       "    </tr>\n",
       "    <tr>\n",
       "      <th>14148</th>\n",
       "      <td>2018-08-18 10:59:59</td>\n",
       "      <td>3.598375</td>\n",
       "      <td>11.737832</td>\n",
       "      <td>6.717509</td>\n",
       "      <td>46.299438</td>\n",
       "      <td>70.281454</td>\n",
       "      <td>8.406690</td>\n",
       "      <td>2.517518</td>\n",
       "      <td>10.652193</td>\n",
       "      <td>1.389434</td>\n",
       "      <td>...</td>\n",
       "      <td>23.018622</td>\n",
       "      <td>-500.492702</td>\n",
       "      <td>20.020205</td>\n",
       "      <td>-500.220296</td>\n",
       "      <td>17.963512</td>\n",
       "      <td>-499.939490</td>\n",
       "      <td>12.990306</td>\n",
       "      <td>-500.080993</td>\n",
       "      <td>19.990336</td>\n",
       "      <td>-499.191575</td>\n",
       "    </tr>\n",
       "  </tbody>\n",
       "</table>\n",
       "<p>14149 rows × 87 columns</p>\n",
       "</div>"
      ],
      "text/plain": [
       "                      date  final.output.concentrate_ag  \\\n",
       "0      2016-01-15 00:00:00                     6.055403   \n",
       "1      2016-01-15 01:00:00                     6.029369   \n",
       "2      2016-01-15 02:00:00                     6.055926   \n",
       "3      2016-01-15 03:00:00                     6.047977   \n",
       "4      2016-01-15 04:00:00                     6.148599   \n",
       "...                    ...                          ...   \n",
       "14144  2018-08-18 06:59:59                     3.224920   \n",
       "14145  2018-08-18 07:59:59                     3.195978   \n",
       "14146  2018-08-18 08:59:59                     3.109998   \n",
       "14147  2018-08-18 09:59:59                     3.367241   \n",
       "14148  2018-08-18 10:59:59                     3.598375   \n",
       "\n",
       "       final.output.concentrate_pb  final.output.concentrate_sol  \\\n",
       "0                         9.889648                      5.507324   \n",
       "1                         9.968944                      5.257781   \n",
       "2                        10.213995                      5.383759   \n",
       "3                         9.977019                      4.858634   \n",
       "4                        10.142511                      4.939416   \n",
       "...                            ...                           ...   \n",
       "14144                    11.356233                      6.803482   \n",
       "14145                    11.349355                      6.862249   \n",
       "14146                    11.434366                      6.886013   \n",
       "14147                    11.625587                      6.799433   \n",
       "14148                    11.737832                      6.717509   \n",
       "\n",
       "       final.output.concentrate_au  final.output.recovery  \\\n",
       "0                        42.192020              70.541216   \n",
       "1                        42.701629              69.266198   \n",
       "2                        42.657501              68.116445   \n",
       "3                        42.689819              68.347543   \n",
       "4                        42.774141              66.927016   \n",
       "...                            ...                    ...   \n",
       "14144                    46.713954              73.755150   \n",
       "14145                    46.866780              69.049291   \n",
       "14146                    46.795691              67.002189   \n",
       "14147                    46.408188              65.523246   \n",
       "14148                    46.299438              70.281454   \n",
       "\n",
       "       final.output.tail_ag  final.output.tail_pb  final.output.tail_sol  \\\n",
       "0                 10.411962              0.895447              16.904297   \n",
       "1                 10.462676              0.927452              16.634514   \n",
       "2                 10.507046              0.953716              16.208849   \n",
       "3                 10.422762              0.883763              16.532835   \n",
       "4                 10.360302              0.792826              16.525686   \n",
       "...                     ...                   ...                    ...   \n",
       "14144              8.769645              3.141541              10.403181   \n",
       "14145              8.897321              3.130493              10.549470   \n",
       "14146              8.529606              2.911418              11.115147   \n",
       "14147              8.777171              2.819214              10.463847   \n",
       "14148              8.406690              2.517518              10.652193   \n",
       "\n",
       "       final.output.tail_au  ...  secondary_cleaner.state.floatbank4_a_air  \\\n",
       "0                  2.143149  ...                                 14.016835   \n",
       "1                  2.224930  ...                                 13.992281   \n",
       "2                  2.257889  ...                                 14.015015   \n",
       "3                  2.146849  ...                                 14.036510   \n",
       "4                  2.055292  ...                                 14.027298   \n",
       "...                     ...  ...                                       ...   \n",
       "14144              1.529220  ...                                 23.031497   \n",
       "14145              1.612542  ...                                 22.960095   \n",
       "14146              1.596616  ...                                 23.015718   \n",
       "14147              1.602879  ...                                 23.024963   \n",
       "14148              1.389434  ...                                 23.018622   \n",
       "\n",
       "       secondary_cleaner.state.floatbank4_a_level  \\\n",
       "0                                     -502.488007   \n",
       "1                                     -505.503262   \n",
       "2                                     -502.520901   \n",
       "3                                     -500.857308   \n",
       "4                                     -499.838632   \n",
       "...                                           ...   \n",
       "14144                                 -501.167942   \n",
       "14145                                 -501.612783   \n",
       "14146                                 -501.711599   \n",
       "14147                                 -501.153409   \n",
       "14148                                 -500.492702   \n",
       "\n",
       "       secondary_cleaner.state.floatbank4_b_air  \\\n",
       "0                                     12.099931   \n",
       "1                                     11.950531   \n",
       "2                                     11.912783   \n",
       "3                                     11.999550   \n",
       "4                                     11.953070   \n",
       "...                                         ...   \n",
       "14144                                 20.007571   \n",
       "14145                                 20.035660   \n",
       "14146                                 19.951231   \n",
       "14147                                 20.054122   \n",
       "14148                                 20.020205   \n",
       "\n",
       "       secondary_cleaner.state.floatbank4_b_level  \\\n",
       "0                                     -504.715942   \n",
       "1                                     -501.331529   \n",
       "2                                     -501.133383   \n",
       "3                                     -501.193686   \n",
       "4                                     -501.053894   \n",
       "...                                           ...   \n",
       "14144                                 -499.740028   \n",
       "14145                                 -500.251357   \n",
       "14146                                 -499.857027   \n",
       "14147                                 -500.314711   \n",
       "14148                                 -500.220296   \n",
       "\n",
       "       secondary_cleaner.state.floatbank5_a_air  \\\n",
       "0                                      9.925633   \n",
       "1                                     10.039245   \n",
       "2                                     10.070913   \n",
       "3                                      9.970366   \n",
       "4                                      9.925709   \n",
       "...                                         ...   \n",
       "14144                                 18.006038   \n",
       "14145                                 17.998535   \n",
       "14146                                 18.019543   \n",
       "14147                                 17.979515   \n",
       "14148                                 17.963512   \n",
       "\n",
       "       secondary_cleaner.state.floatbank5_a_level  \\\n",
       "0                                     -498.310211   \n",
       "1                                     -500.169983   \n",
       "2                                     -500.129135   \n",
       "3                                     -499.201640   \n",
       "4                                     -501.686727   \n",
       "...                                           ...   \n",
       "14144                                 -499.834374   \n",
       "14145                                 -500.395178   \n",
       "14146                                 -500.451156   \n",
       "14147                                 -499.272871   \n",
       "14148                                 -499.939490   \n",
       "\n",
       "       secondary_cleaner.state.floatbank5_b_air  \\\n",
       "0                                      8.079666   \n",
       "1                                      7.984757   \n",
       "2                                      8.013877   \n",
       "3                                      7.977324   \n",
       "4                                      7.894242   \n",
       "...                                         ...   \n",
       "14144                                 13.001114   \n",
       "14145                                 12.954048   \n",
       "14146                                 13.023431   \n",
       "14147                                 12.992404   \n",
       "14148                                 12.990306   \n",
       "\n",
       "       secondary_cleaner.state.floatbank5_b_level  \\\n",
       "0                                     -500.470978   \n",
       "1                                     -500.582168   \n",
       "2                                     -500.517572   \n",
       "3                                     -500.255908   \n",
       "4                                     -500.356035   \n",
       "...                                           ...   \n",
       "14144                                 -500.155694   \n",
       "14145                                 -499.895163   \n",
       "14146                                 -499.914391   \n",
       "14147                                 -499.976268   \n",
       "14148                                 -500.080993   \n",
       "\n",
       "       secondary_cleaner.state.floatbank6_a_air  \\\n",
       "0                                     14.151341   \n",
       "1                                     13.998353   \n",
       "2                                     14.028663   \n",
       "3                                     14.005551   \n",
       "4                                     13.996647   \n",
       "...                                         ...   \n",
       "14144                                 20.007840   \n",
       "14145                                 19.968498   \n",
       "14146                                 19.990885   \n",
       "14147                                 20.013986   \n",
       "14148                                 19.990336   \n",
       "\n",
       "       secondary_cleaner.state.floatbank6_a_level  \n",
       "0                                     -605.841980  \n",
       "1                                     -599.787184  \n",
       "2                                     -601.427363  \n",
       "3                                     -599.996129  \n",
       "4                                     -601.496691  \n",
       "...                                           ...  \n",
       "14144                                 -501.296428  \n",
       "14145                                 -501.041608  \n",
       "14146                                 -501.518452  \n",
       "14147                                 -500.625471  \n",
       "14148                                 -499.191575  \n",
       "\n",
       "[14149 rows x 87 columns]"
      ]
     },
     "execution_count": 58,
     "metadata": {},
     "output_type": "execute_result"
    }
   ],
   "source": [
    "df_train"
   ]
  },
  {
   "cell_type": "code",
   "execution_count": 59,
   "metadata": {},
   "outputs": [
    {
     "name": "stdout",
     "output_type": "stream",
     "text": [
      "<class 'pandas.core.frame.DataFrame'>\n",
      "RangeIndex: 14149 entries, 0 to 14148\n",
      "Data columns (total 87 columns):\n",
      " #   Column                                              Non-Null Count  Dtype  \n",
      "---  ------                                              --------------  -----  \n",
      " 0   date                                                14149 non-null  object \n",
      " 1   final.output.concentrate_ag                         14148 non-null  float64\n",
      " 2   final.output.concentrate_pb                         14148 non-null  float64\n",
      " 3   final.output.concentrate_sol                        13938 non-null  float64\n",
      " 4   final.output.concentrate_au                         14149 non-null  float64\n",
      " 5   final.output.recovery                               14149 non-null  float64\n",
      " 6   final.output.tail_ag                                14149 non-null  float64\n",
      " 7   final.output.tail_pb                                14049 non-null  float64\n",
      " 8   final.output.tail_sol                               14144 non-null  float64\n",
      " 9   final.output.tail_au                                14149 non-null  float64\n",
      " 10  primary_cleaner.input.sulfate                       14129 non-null  float64\n",
      " 11  primary_cleaner.input.depressant                    14117 non-null  float64\n",
      " 12  primary_cleaner.input.feed_size                     14149 non-null  float64\n",
      " 13  primary_cleaner.input.xanthate                      14049 non-null  float64\n",
      " 14  primary_cleaner.output.concentrate_ag               14149 non-null  float64\n",
      " 15  primary_cleaner.output.concentrate_pb               14063 non-null  float64\n",
      " 16  primary_cleaner.output.concentrate_sol              13863 non-null  float64\n",
      " 17  primary_cleaner.output.concentrate_au               14149 non-null  float64\n",
      " 18  primary_cleaner.output.tail_ag                      14148 non-null  float64\n",
      " 19  primary_cleaner.output.tail_pb                      14134 non-null  float64\n",
      " 20  primary_cleaner.output.tail_sol                     14103 non-null  float64\n",
      " 21  primary_cleaner.output.tail_au                      14149 non-null  float64\n",
      " 22  primary_cleaner.state.floatbank8_a_air              14145 non-null  float64\n",
      " 23  primary_cleaner.state.floatbank8_a_level            14148 non-null  float64\n",
      " 24  primary_cleaner.state.floatbank8_b_air              14145 non-null  float64\n",
      " 25  primary_cleaner.state.floatbank8_b_level            14148 non-null  float64\n",
      " 26  primary_cleaner.state.floatbank8_c_air              14147 non-null  float64\n",
      " 27  primary_cleaner.state.floatbank8_c_level            14148 non-null  float64\n",
      " 28  primary_cleaner.state.floatbank8_d_air              14146 non-null  float64\n",
      " 29  primary_cleaner.state.floatbank8_d_level            14148 non-null  float64\n",
      " 30  rougher.calculation.sulfate_to_au_concentrate       14148 non-null  float64\n",
      " 31  rougher.calculation.floatbank10_sulfate_to_au_feed  14148 non-null  float64\n",
      " 32  rougher.calculation.floatbank11_sulfate_to_au_feed  14148 non-null  float64\n",
      " 33  rougher.calculation.au_pb_ratio                     14149 non-null  float64\n",
      " 34  rougher.input.feed_ag                               14149 non-null  float64\n",
      " 35  rougher.input.feed_pb                               14049 non-null  float64\n",
      " 36  rougher.input.feed_rate                             14141 non-null  float64\n",
      " 37  rougher.input.feed_size                             14005 non-null  float64\n",
      " 38  rougher.input.feed_sol                              14071 non-null  float64\n",
      " 39  rougher.input.feed_au                               14149 non-null  float64\n",
      " 40  rougher.input.floatbank10_sulfate                   14120 non-null  float64\n",
      " 41  rougher.input.floatbank10_xanthate                  14141 non-null  float64\n",
      " 42  rougher.input.floatbank11_sulfate                   14113 non-null  float64\n",
      " 43  rougher.input.floatbank11_xanthate                  13721 non-null  float64\n",
      " 44  rougher.output.concentrate_ag                       14149 non-null  float64\n",
      " 45  rougher.output.concentrate_pb                       14149 non-null  float64\n",
      " 46  rougher.output.concentrate_sol                      14127 non-null  float64\n",
      " 47  rougher.output.concentrate_au                       14149 non-null  float64\n",
      " 48  rougher.output.recovery                             14149 non-null  float64\n",
      " 49  rougher.output.tail_ag                              14148 non-null  float64\n",
      " 50  rougher.output.tail_pb                              14149 non-null  float64\n",
      " 51  rougher.output.tail_sol                             14149 non-null  float64\n",
      " 52  rougher.output.tail_au                              14149 non-null  float64\n",
      " 53  rougher.state.floatbank10_a_air                     14148 non-null  float64\n",
      " 54  rougher.state.floatbank10_a_level                   14148 non-null  float64\n",
      " 55  rougher.state.floatbank10_b_air                     14148 non-null  float64\n",
      " 56  rougher.state.floatbank10_b_level                   14148 non-null  float64\n",
      " 57  rougher.state.floatbank10_c_air                     14148 non-null  float64\n",
      " 58  rougher.state.floatbank10_c_level                   14148 non-null  float64\n",
      " 59  rougher.state.floatbank10_d_air                     14149 non-null  float64\n",
      " 60  rougher.state.floatbank10_d_level                   14149 non-null  float64\n",
      " 61  rougher.state.floatbank10_e_air                     13713 non-null  float64\n",
      " 62  rougher.state.floatbank10_e_level                   14149 non-null  float64\n",
      " 63  rougher.state.floatbank10_f_air                     14149 non-null  float64\n",
      " 64  rougher.state.floatbank10_f_level                   14149 non-null  float64\n",
      " 65  secondary_cleaner.output.tail_ag                    14147 non-null  float64\n",
      " 66  secondary_cleaner.output.tail_pb                    14139 non-null  float64\n",
      " 67  secondary_cleaner.output.tail_sol                   12544 non-null  float64\n",
      " 68  secondary_cleaner.output.tail_au                    14149 non-null  float64\n",
      " 69  secondary_cleaner.state.floatbank2_a_air            13932 non-null  float64\n",
      " 70  secondary_cleaner.state.floatbank2_a_level          14148 non-null  float64\n",
      " 71  secondary_cleaner.state.floatbank2_b_air            14128 non-null  float64\n",
      " 72  secondary_cleaner.state.floatbank2_b_level          14148 non-null  float64\n",
      " 73  secondary_cleaner.state.floatbank3_a_air            14145 non-null  float64\n",
      " 74  secondary_cleaner.state.floatbank3_a_level          14148 non-null  float64\n",
      " 75  secondary_cleaner.state.floatbank3_b_air            14148 non-null  float64\n",
      " 76  secondary_cleaner.state.floatbank3_b_level          14148 non-null  float64\n",
      " 77  secondary_cleaner.state.floatbank4_a_air            14143 non-null  float64\n",
      " 78  secondary_cleaner.state.floatbank4_a_level          14148 non-null  float64\n",
      " 79  secondary_cleaner.state.floatbank4_b_air            14148 non-null  float64\n",
      " 80  secondary_cleaner.state.floatbank4_b_level          14148 non-null  float64\n",
      " 81  secondary_cleaner.state.floatbank5_a_air            14148 non-null  float64\n",
      " 82  secondary_cleaner.state.floatbank5_a_level          14148 non-null  float64\n",
      " 83  secondary_cleaner.state.floatbank5_b_air            14148 non-null  float64\n",
      " 84  secondary_cleaner.state.floatbank5_b_level          14148 non-null  float64\n",
      " 85  secondary_cleaner.state.floatbank6_a_air            14147 non-null  float64\n",
      " 86  secondary_cleaner.state.floatbank6_a_level          14148 non-null  float64\n",
      "dtypes: float64(86), object(1)\n",
      "memory usage: 9.4+ MB\n"
     ]
    }
   ],
   "source": [
    "df_train.info()"
   ]
  },
  {
   "cell_type": "code",
   "execution_count": 60,
   "metadata": {},
   "outputs": [
    {
     "name": "stdout",
     "output_type": "stream",
     "text": [
      "<class 'pandas.core.frame.DataFrame'>\n",
      "RangeIndex: 14149 entries, 0 to 14148\n",
      "Data columns (total 87 columns):\n",
      " #   Column                                              Non-Null Count  Dtype  \n",
      "---  ------                                              --------------  -----  \n",
      " 0   date                                                14149 non-null  object \n",
      " 1   final.output.concentrate_ag                         14149 non-null  float64\n",
      " 2   final.output.concentrate_pb                         14149 non-null  float64\n",
      " 3   final.output.concentrate_sol                        14149 non-null  float64\n",
      " 4   final.output.concentrate_au                         14149 non-null  float64\n",
      " 5   final.output.recovery                               14149 non-null  float64\n",
      " 6   final.output.tail_ag                                14149 non-null  float64\n",
      " 7   final.output.tail_pb                                14149 non-null  float64\n",
      " 8   final.output.tail_sol                               14149 non-null  float64\n",
      " 9   final.output.tail_au                                14149 non-null  float64\n",
      " 10  primary_cleaner.input.sulfate                       14149 non-null  float64\n",
      " 11  primary_cleaner.input.depressant                    14149 non-null  float64\n",
      " 12  primary_cleaner.input.feed_size                     14149 non-null  float64\n",
      " 13  primary_cleaner.input.xanthate                      14149 non-null  float64\n",
      " 14  primary_cleaner.output.concentrate_ag               14149 non-null  float64\n",
      " 15  primary_cleaner.output.concentrate_pb               14149 non-null  float64\n",
      " 16  primary_cleaner.output.concentrate_sol              14149 non-null  float64\n",
      " 17  primary_cleaner.output.concentrate_au               14149 non-null  float64\n",
      " 18  primary_cleaner.output.tail_ag                      14149 non-null  float64\n",
      " 19  primary_cleaner.output.tail_pb                      14149 non-null  float64\n",
      " 20  primary_cleaner.output.tail_sol                     14149 non-null  float64\n",
      " 21  primary_cleaner.output.tail_au                      14149 non-null  float64\n",
      " 22  primary_cleaner.state.floatbank8_a_air              14149 non-null  float64\n",
      " 23  primary_cleaner.state.floatbank8_a_level            14149 non-null  float64\n",
      " 24  primary_cleaner.state.floatbank8_b_air              14149 non-null  float64\n",
      " 25  primary_cleaner.state.floatbank8_b_level            14149 non-null  float64\n",
      " 26  primary_cleaner.state.floatbank8_c_air              14149 non-null  float64\n",
      " 27  primary_cleaner.state.floatbank8_c_level            14149 non-null  float64\n",
      " 28  primary_cleaner.state.floatbank8_d_air              14149 non-null  float64\n",
      " 29  primary_cleaner.state.floatbank8_d_level            14149 non-null  float64\n",
      " 30  rougher.calculation.sulfate_to_au_concentrate       14149 non-null  float64\n",
      " 31  rougher.calculation.floatbank10_sulfate_to_au_feed  14149 non-null  float64\n",
      " 32  rougher.calculation.floatbank11_sulfate_to_au_feed  14149 non-null  float64\n",
      " 33  rougher.calculation.au_pb_ratio                     14149 non-null  float64\n",
      " 34  rougher.input.feed_ag                               14149 non-null  float64\n",
      " 35  rougher.input.feed_pb                               14149 non-null  float64\n",
      " 36  rougher.input.feed_rate                             14149 non-null  float64\n",
      " 37  rougher.input.feed_size                             14149 non-null  float64\n",
      " 38  rougher.input.feed_sol                              14149 non-null  float64\n",
      " 39  rougher.input.feed_au                               14149 non-null  float64\n",
      " 40  rougher.input.floatbank10_sulfate                   14149 non-null  float64\n",
      " 41  rougher.input.floatbank10_xanthate                  14149 non-null  float64\n",
      " 42  rougher.input.floatbank11_sulfate                   14149 non-null  float64\n",
      " 43  rougher.input.floatbank11_xanthate                  14149 non-null  float64\n",
      " 44  rougher.output.concentrate_ag                       14149 non-null  float64\n",
      " 45  rougher.output.concentrate_pb                       14149 non-null  float64\n",
      " 46  rougher.output.concentrate_sol                      14149 non-null  float64\n",
      " 47  rougher.output.concentrate_au                       14149 non-null  float64\n",
      " 48  rougher.output.recovery                             14149 non-null  float64\n",
      " 49  rougher.output.tail_ag                              14149 non-null  float64\n",
      " 50  rougher.output.tail_pb                              14149 non-null  float64\n",
      " 51  rougher.output.tail_sol                             14149 non-null  float64\n",
      " 52  rougher.output.tail_au                              14149 non-null  float64\n",
      " 53  rougher.state.floatbank10_a_air                     14149 non-null  float64\n",
      " 54  rougher.state.floatbank10_a_level                   14149 non-null  float64\n",
      " 55  rougher.state.floatbank10_b_air                     14149 non-null  float64\n",
      " 56  rougher.state.floatbank10_b_level                   14149 non-null  float64\n",
      " 57  rougher.state.floatbank10_c_air                     14149 non-null  float64\n",
      " 58  rougher.state.floatbank10_c_level                   14149 non-null  float64\n",
      " 59  rougher.state.floatbank10_d_air                     14149 non-null  float64\n",
      " 60  rougher.state.floatbank10_d_level                   14149 non-null  float64\n",
      " 61  rougher.state.floatbank10_e_air                     14149 non-null  float64\n",
      " 62  rougher.state.floatbank10_e_level                   14149 non-null  float64\n",
      " 63  rougher.state.floatbank10_f_air                     14149 non-null  float64\n",
      " 64  rougher.state.floatbank10_f_level                   14149 non-null  float64\n",
      " 65  secondary_cleaner.output.tail_ag                    14149 non-null  float64\n",
      " 66  secondary_cleaner.output.tail_pb                    14149 non-null  float64\n",
      " 67  secondary_cleaner.output.tail_sol                   14149 non-null  float64\n",
      " 68  secondary_cleaner.output.tail_au                    14149 non-null  float64\n",
      " 69  secondary_cleaner.state.floatbank2_a_air            14149 non-null  float64\n",
      " 70  secondary_cleaner.state.floatbank2_a_level          14149 non-null  float64\n",
      " 71  secondary_cleaner.state.floatbank2_b_air            14149 non-null  float64\n",
      " 72  secondary_cleaner.state.floatbank2_b_level          14149 non-null  float64\n",
      " 73  secondary_cleaner.state.floatbank3_a_air            14149 non-null  float64\n",
      " 74  secondary_cleaner.state.floatbank3_a_level          14149 non-null  float64\n",
      " 75  secondary_cleaner.state.floatbank3_b_air            14149 non-null  float64\n",
      " 76  secondary_cleaner.state.floatbank3_b_level          14149 non-null  float64\n",
      " 77  secondary_cleaner.state.floatbank4_a_air            14149 non-null  float64\n",
      " 78  secondary_cleaner.state.floatbank4_a_level          14149 non-null  float64\n",
      " 79  secondary_cleaner.state.floatbank4_b_air            14149 non-null  float64\n",
      " 80  secondary_cleaner.state.floatbank4_b_level          14149 non-null  float64\n",
      " 81  secondary_cleaner.state.floatbank5_a_air            14149 non-null  float64\n",
      " 82  secondary_cleaner.state.floatbank5_a_level          14149 non-null  float64\n",
      " 83  secondary_cleaner.state.floatbank5_b_air            14149 non-null  float64\n",
      " 84  secondary_cleaner.state.floatbank5_b_level          14149 non-null  float64\n",
      " 85  secondary_cleaner.state.floatbank6_a_air            14149 non-null  float64\n",
      " 86  secondary_cleaner.state.floatbank6_a_level          14149 non-null  float64\n",
      "dtypes: float64(86), object(1)\n",
      "memory usage: 9.4+ MB\n"
     ]
    }
   ],
   "source": [
    "df_train = df_train.ffill(axis = 0)\n",
    "df_train.info()"
   ]
  },
  {
   "cell_type": "code",
   "execution_count": 61,
   "metadata": {},
   "outputs": [
    {
     "name": "stdout",
     "output_type": "stream",
     "text": [
      "<class 'pandas.core.frame.DataFrame'>\n",
      "RangeIndex: 5290 entries, 0 to 5289\n",
      "Data columns (total 53 columns):\n",
      " #   Column                                      Non-Null Count  Dtype  \n",
      "---  ------                                      --------------  -----  \n",
      " 0   date                                        5290 non-null   object \n",
      " 1   primary_cleaner.input.sulfate               5286 non-null   float64\n",
      " 2   primary_cleaner.input.depressant            5285 non-null   float64\n",
      " 3   primary_cleaner.input.feed_size             5290 non-null   float64\n",
      " 4   primary_cleaner.input.xanthate              5286 non-null   float64\n",
      " 5   primary_cleaner.state.floatbank8_a_air      5290 non-null   float64\n",
      " 6   primary_cleaner.state.floatbank8_a_level    5290 non-null   float64\n",
      " 7   primary_cleaner.state.floatbank8_b_air      5290 non-null   float64\n",
      " 8   primary_cleaner.state.floatbank8_b_level    5290 non-null   float64\n",
      " 9   primary_cleaner.state.floatbank8_c_air      5290 non-null   float64\n",
      " 10  primary_cleaner.state.floatbank8_c_level    5290 non-null   float64\n",
      " 11  primary_cleaner.state.floatbank8_d_air      5290 non-null   float64\n",
      " 12  primary_cleaner.state.floatbank8_d_level    5290 non-null   float64\n",
      " 13  rougher.input.feed_ag                       5290 non-null   float64\n",
      " 14  rougher.input.feed_pb                       5290 non-null   float64\n",
      " 15  rougher.input.feed_rate                     5287 non-null   float64\n",
      " 16  rougher.input.feed_size                     5289 non-null   float64\n",
      " 17  rougher.input.feed_sol                      5269 non-null   float64\n",
      " 18  rougher.input.feed_au                       5290 non-null   float64\n",
      " 19  rougher.input.floatbank10_sulfate           5285 non-null   float64\n",
      " 20  rougher.input.floatbank10_xanthate          5290 non-null   float64\n",
      " 21  rougher.input.floatbank11_sulfate           5282 non-null   float64\n",
      " 22  rougher.input.floatbank11_xanthate          5265 non-null   float64\n",
      " 23  rougher.state.floatbank10_a_air             5290 non-null   float64\n",
      " 24  rougher.state.floatbank10_a_level           5290 non-null   float64\n",
      " 25  rougher.state.floatbank10_b_air             5290 non-null   float64\n",
      " 26  rougher.state.floatbank10_b_level           5290 non-null   float64\n",
      " 27  rougher.state.floatbank10_c_air             5290 non-null   float64\n",
      " 28  rougher.state.floatbank10_c_level           5290 non-null   float64\n",
      " 29  rougher.state.floatbank10_d_air             5290 non-null   float64\n",
      " 30  rougher.state.floatbank10_d_level           5290 non-null   float64\n",
      " 31  rougher.state.floatbank10_e_air             5290 non-null   float64\n",
      " 32  rougher.state.floatbank10_e_level           5290 non-null   float64\n",
      " 33  rougher.state.floatbank10_f_air             5290 non-null   float64\n",
      " 34  rougher.state.floatbank10_f_level           5290 non-null   float64\n",
      " 35  secondary_cleaner.state.floatbank2_a_air    5287 non-null   float64\n",
      " 36  secondary_cleaner.state.floatbank2_a_level  5290 non-null   float64\n",
      " 37  secondary_cleaner.state.floatbank2_b_air    5288 non-null   float64\n",
      " 38  secondary_cleaner.state.floatbank2_b_level  5290 non-null   float64\n",
      " 39  secondary_cleaner.state.floatbank3_a_air    5281 non-null   float64\n",
      " 40  secondary_cleaner.state.floatbank3_a_level  5290 non-null   float64\n",
      " 41  secondary_cleaner.state.floatbank3_b_air    5290 non-null   float64\n",
      " 42  secondary_cleaner.state.floatbank3_b_level  5290 non-null   float64\n",
      " 43  secondary_cleaner.state.floatbank4_a_air    5290 non-null   float64\n",
      " 44  secondary_cleaner.state.floatbank4_a_level  5290 non-null   float64\n",
      " 45  secondary_cleaner.state.floatbank4_b_air    5290 non-null   float64\n",
      " 46  secondary_cleaner.state.floatbank4_b_level  5290 non-null   float64\n",
      " 47  secondary_cleaner.state.floatbank5_a_air    5290 non-null   float64\n",
      " 48  secondary_cleaner.state.floatbank5_a_level  5290 non-null   float64\n",
      " 49  secondary_cleaner.state.floatbank5_b_air    5290 non-null   float64\n",
      " 50  secondary_cleaner.state.floatbank5_b_level  5290 non-null   float64\n",
      " 51  secondary_cleaner.state.floatbank6_a_air    5290 non-null   float64\n",
      " 52  secondary_cleaner.state.floatbank6_a_level  5290 non-null   float64\n",
      "dtypes: float64(52), object(1)\n",
      "memory usage: 2.1+ MB\n"
     ]
    }
   ],
   "source": [
    "df_test.info()"
   ]
  },
  {
   "cell_type": "code",
   "execution_count": 62,
   "metadata": {},
   "outputs": [
    {
     "name": "stdout",
     "output_type": "stream",
     "text": [
      "<class 'pandas.core.frame.DataFrame'>\n",
      "RangeIndex: 5290 entries, 0 to 5289\n",
      "Data columns (total 53 columns):\n",
      " #   Column                                      Non-Null Count  Dtype  \n",
      "---  ------                                      --------------  -----  \n",
      " 0   date                                        5290 non-null   object \n",
      " 1   primary_cleaner.input.sulfate               5290 non-null   float64\n",
      " 2   primary_cleaner.input.depressant            5290 non-null   float64\n",
      " 3   primary_cleaner.input.feed_size             5290 non-null   float64\n",
      " 4   primary_cleaner.input.xanthate              5290 non-null   float64\n",
      " 5   primary_cleaner.state.floatbank8_a_air      5290 non-null   float64\n",
      " 6   primary_cleaner.state.floatbank8_a_level    5290 non-null   float64\n",
      " 7   primary_cleaner.state.floatbank8_b_air      5290 non-null   float64\n",
      " 8   primary_cleaner.state.floatbank8_b_level    5290 non-null   float64\n",
      " 9   primary_cleaner.state.floatbank8_c_air      5290 non-null   float64\n",
      " 10  primary_cleaner.state.floatbank8_c_level    5290 non-null   float64\n",
      " 11  primary_cleaner.state.floatbank8_d_air      5290 non-null   float64\n",
      " 12  primary_cleaner.state.floatbank8_d_level    5290 non-null   float64\n",
      " 13  rougher.input.feed_ag                       5290 non-null   float64\n",
      " 14  rougher.input.feed_pb                       5290 non-null   float64\n",
      " 15  rougher.input.feed_rate                     5290 non-null   float64\n",
      " 16  rougher.input.feed_size                     5290 non-null   float64\n",
      " 17  rougher.input.feed_sol                      5290 non-null   float64\n",
      " 18  rougher.input.feed_au                       5290 non-null   float64\n",
      " 19  rougher.input.floatbank10_sulfate           5290 non-null   float64\n",
      " 20  rougher.input.floatbank10_xanthate          5290 non-null   float64\n",
      " 21  rougher.input.floatbank11_sulfate           5290 non-null   float64\n",
      " 22  rougher.input.floatbank11_xanthate          5290 non-null   float64\n",
      " 23  rougher.state.floatbank10_a_air             5290 non-null   float64\n",
      " 24  rougher.state.floatbank10_a_level           5290 non-null   float64\n",
      " 25  rougher.state.floatbank10_b_air             5290 non-null   float64\n",
      " 26  rougher.state.floatbank10_b_level           5290 non-null   float64\n",
      " 27  rougher.state.floatbank10_c_air             5290 non-null   float64\n",
      " 28  rougher.state.floatbank10_c_level           5290 non-null   float64\n",
      " 29  rougher.state.floatbank10_d_air             5290 non-null   float64\n",
      " 30  rougher.state.floatbank10_d_level           5290 non-null   float64\n",
      " 31  rougher.state.floatbank10_e_air             5290 non-null   float64\n",
      " 32  rougher.state.floatbank10_e_level           5290 non-null   float64\n",
      " 33  rougher.state.floatbank10_f_air             5290 non-null   float64\n",
      " 34  rougher.state.floatbank10_f_level           5290 non-null   float64\n",
      " 35  secondary_cleaner.state.floatbank2_a_air    5290 non-null   float64\n",
      " 36  secondary_cleaner.state.floatbank2_a_level  5290 non-null   float64\n",
      " 37  secondary_cleaner.state.floatbank2_b_air    5290 non-null   float64\n",
      " 38  secondary_cleaner.state.floatbank2_b_level  5290 non-null   float64\n",
      " 39  secondary_cleaner.state.floatbank3_a_air    5290 non-null   float64\n",
      " 40  secondary_cleaner.state.floatbank3_a_level  5290 non-null   float64\n",
      " 41  secondary_cleaner.state.floatbank3_b_air    5290 non-null   float64\n",
      " 42  secondary_cleaner.state.floatbank3_b_level  5290 non-null   float64\n",
      " 43  secondary_cleaner.state.floatbank4_a_air    5290 non-null   float64\n",
      " 44  secondary_cleaner.state.floatbank4_a_level  5290 non-null   float64\n",
      " 45  secondary_cleaner.state.floatbank4_b_air    5290 non-null   float64\n",
      " 46  secondary_cleaner.state.floatbank4_b_level  5290 non-null   float64\n",
      " 47  secondary_cleaner.state.floatbank5_a_air    5290 non-null   float64\n",
      " 48  secondary_cleaner.state.floatbank5_a_level  5290 non-null   float64\n",
      " 49  secondary_cleaner.state.floatbank5_b_air    5290 non-null   float64\n",
      " 50  secondary_cleaner.state.floatbank5_b_level  5290 non-null   float64\n",
      " 51  secondary_cleaner.state.floatbank6_a_air    5290 non-null   float64\n",
      " 52  secondary_cleaner.state.floatbank6_a_level  5290 non-null   float64\n",
      "dtypes: float64(52), object(1)\n",
      "memory usage: 2.1+ MB\n"
     ]
    }
   ],
   "source": [
    "df_test = df_test.ffill(axis = 0)\n",
    "df_test.info()"
   ]
  },
  {
   "cell_type": "markdown",
   "metadata": {},
   "source": [
    "В тестовой и обучающей выборке в столбцах есть пропуски,заполнила пропуски методом ffill,по столбцам"
   ]
  },
  {
   "cell_type": "markdown",
   "metadata": {},
   "source": [
    "### Проверка , что эффективность обогащения рассчитана правильно. Вычисление эффективности на обучающей выборке для признака rougher.output.recovery. MAE между вашими расчётами и значением признака."
   ]
  },
  {
   "cell_type": "code",
   "execution_count": 63,
   "metadata": {},
   "outputs": [
    {
     "data": {
      "text/plain": [
       "0        87.107763\n",
       "1        86.843261\n",
       "2        86.842308\n",
       "3        87.226430\n",
       "4        86.688794\n",
       "           ...    \n",
       "14144    89.574376\n",
       "14145    87.724007\n",
       "14146    88.890579\n",
       "14147    89.858126\n",
       "14148    89.514960\n",
       "Name: rougher.output.recovery, Length: 14149, dtype: float64"
      ]
     },
     "execution_count": 63,
     "metadata": {},
     "output_type": "execute_result"
    }
   ],
   "source": [
    "c = df_train['rougher.output.concentrate_au']\n",
    "f = df_train['rougher.input.feed_au']\n",
    "t = df_train['rougher.output.tail_au']\n",
    "\n",
    "df_train['rougher.output.recovery']"
   ]
  },
  {
   "cell_type": "code",
   "execution_count": 64,
   "metadata": {},
   "outputs": [
    {
     "data": {
      "text/plain": [
       "9.73512347450521e-15"
      ]
     },
     "execution_count": 64,
     "metadata": {},
     "output_type": "execute_result"
    }
   ],
   "source": [
    "df_train['recovery'] = (c*(f-t))/(f*(c-t))*100\n",
    "df_train['recovery'] \n",
    "mean_absolute_error(df_train['rougher.output.recovery'],df_train['recovery'])"
   ]
  },
  {
   "cell_type": "markdown",
   "metadata": {},
   "source": [
    "Расхождение порядка вычислительной погрешности.Формула правильная"
   ]
  },
  {
   "cell_type": "markdown",
   "metadata": {},
   "source": [
    "### Анализ признаков, недоступных в тестовой выборке. \n",
    "Что это за параметры? К какому типу относятся?"
   ]
  },
  {
   "cell_type": "code",
   "execution_count": 65,
   "metadata": {},
   "outputs": [],
   "source": [
    "df_train_columns = df_train.columns\n",
    "df_test_columns = df_test.columns\n",
    "total_columns = []\n",
    "no_columns = []\n",
    "for columns in df_train_columns:\n",
    "    if columns in df_test_columns :\n",
    "        total_columns.append(columns)\n",
    "    else:\n",
    "        no_columns.append(columns)\n",
    "        "
   ]
  },
  {
   "cell_type": "code",
   "execution_count": 66,
   "metadata": {},
   "outputs": [
    {
     "data": {
      "text/plain": [
       "['date',\n",
       " 'primary_cleaner.input.sulfate',\n",
       " 'primary_cleaner.input.depressant',\n",
       " 'primary_cleaner.input.feed_size',\n",
       " 'primary_cleaner.input.xanthate',\n",
       " 'primary_cleaner.state.floatbank8_a_air',\n",
       " 'primary_cleaner.state.floatbank8_a_level',\n",
       " 'primary_cleaner.state.floatbank8_b_air',\n",
       " 'primary_cleaner.state.floatbank8_b_level',\n",
       " 'primary_cleaner.state.floatbank8_c_air',\n",
       " 'primary_cleaner.state.floatbank8_c_level',\n",
       " 'primary_cleaner.state.floatbank8_d_air',\n",
       " 'primary_cleaner.state.floatbank8_d_level',\n",
       " 'rougher.input.feed_ag',\n",
       " 'rougher.input.feed_pb',\n",
       " 'rougher.input.feed_rate',\n",
       " 'rougher.input.feed_size',\n",
       " 'rougher.input.feed_sol',\n",
       " 'rougher.input.feed_au',\n",
       " 'rougher.input.floatbank10_sulfate',\n",
       " 'rougher.input.floatbank10_xanthate',\n",
       " 'rougher.input.floatbank11_sulfate',\n",
       " 'rougher.input.floatbank11_xanthate',\n",
       " 'rougher.state.floatbank10_a_air',\n",
       " 'rougher.state.floatbank10_a_level',\n",
       " 'rougher.state.floatbank10_b_air',\n",
       " 'rougher.state.floatbank10_b_level',\n",
       " 'rougher.state.floatbank10_c_air',\n",
       " 'rougher.state.floatbank10_c_level',\n",
       " 'rougher.state.floatbank10_d_air',\n",
       " 'rougher.state.floatbank10_d_level',\n",
       " 'rougher.state.floatbank10_e_air',\n",
       " 'rougher.state.floatbank10_e_level',\n",
       " 'rougher.state.floatbank10_f_air',\n",
       " 'rougher.state.floatbank10_f_level',\n",
       " 'secondary_cleaner.state.floatbank2_a_air',\n",
       " 'secondary_cleaner.state.floatbank2_a_level',\n",
       " 'secondary_cleaner.state.floatbank2_b_air',\n",
       " 'secondary_cleaner.state.floatbank2_b_level',\n",
       " 'secondary_cleaner.state.floatbank3_a_air',\n",
       " 'secondary_cleaner.state.floatbank3_a_level',\n",
       " 'secondary_cleaner.state.floatbank3_b_air',\n",
       " 'secondary_cleaner.state.floatbank3_b_level',\n",
       " 'secondary_cleaner.state.floatbank4_a_air',\n",
       " 'secondary_cleaner.state.floatbank4_a_level',\n",
       " 'secondary_cleaner.state.floatbank4_b_air',\n",
       " 'secondary_cleaner.state.floatbank4_b_level',\n",
       " 'secondary_cleaner.state.floatbank5_a_air',\n",
       " 'secondary_cleaner.state.floatbank5_a_level',\n",
       " 'secondary_cleaner.state.floatbank5_b_air',\n",
       " 'secondary_cleaner.state.floatbank5_b_level',\n",
       " 'secondary_cleaner.state.floatbank6_a_air',\n",
       " 'secondary_cleaner.state.floatbank6_a_level']"
      ]
     },
     "execution_count": 66,
     "metadata": {},
     "output_type": "execute_result"
    }
   ],
   "source": [
    "total_columns"
   ]
  },
  {
   "cell_type": "code",
   "execution_count": 67,
   "metadata": {
    "scrolled": true
   },
   "outputs": [
    {
     "data": {
      "text/plain": [
       "['final.output.concentrate_ag',\n",
       " 'final.output.concentrate_pb',\n",
       " 'final.output.concentrate_sol',\n",
       " 'final.output.concentrate_au',\n",
       " 'final.output.recovery',\n",
       " 'final.output.tail_ag',\n",
       " 'final.output.tail_pb',\n",
       " 'final.output.tail_sol',\n",
       " 'final.output.tail_au',\n",
       " 'primary_cleaner.output.concentrate_ag',\n",
       " 'primary_cleaner.output.concentrate_pb',\n",
       " 'primary_cleaner.output.concentrate_sol',\n",
       " 'primary_cleaner.output.concentrate_au',\n",
       " 'primary_cleaner.output.tail_ag',\n",
       " 'primary_cleaner.output.tail_pb',\n",
       " 'primary_cleaner.output.tail_sol',\n",
       " 'primary_cleaner.output.tail_au',\n",
       " 'rougher.calculation.sulfate_to_au_concentrate',\n",
       " 'rougher.calculation.floatbank10_sulfate_to_au_feed',\n",
       " 'rougher.calculation.floatbank11_sulfate_to_au_feed',\n",
       " 'rougher.calculation.au_pb_ratio',\n",
       " 'rougher.output.concentrate_ag',\n",
       " 'rougher.output.concentrate_pb',\n",
       " 'rougher.output.concentrate_sol',\n",
       " 'rougher.output.concentrate_au',\n",
       " 'rougher.output.recovery',\n",
       " 'rougher.output.tail_ag',\n",
       " 'rougher.output.tail_pb',\n",
       " 'rougher.output.tail_sol',\n",
       " 'rougher.output.tail_au',\n",
       " 'secondary_cleaner.output.tail_ag',\n",
       " 'secondary_cleaner.output.tail_pb',\n",
       " 'secondary_cleaner.output.tail_sol',\n",
       " 'secondary_cleaner.output.tail_au',\n",
       " 'recovery']"
      ]
     },
     "execution_count": 67,
     "metadata": {},
     "output_type": "execute_result"
    }
   ],
   "source": [
    "no_columns"
   ]
  },
  {
   "cell_type": "code",
   "execution_count": 68,
   "metadata": {},
   "outputs": [],
   "source": [
    "total_columns.append('final.output.recovery')\n",
    "total_columns.append('rougher.output.recovery')"
   ]
  },
  {
   "cell_type": "code",
   "execution_count": 69,
   "metadata": {},
   "outputs": [
    {
     "data": {
      "text/html": [
       "<div>\n",
       "<style scoped>\n",
       "    .dataframe tbody tr th:only-of-type {\n",
       "        vertical-align: middle;\n",
       "    }\n",
       "\n",
       "    .dataframe tbody tr th {\n",
       "        vertical-align: top;\n",
       "    }\n",
       "\n",
       "    .dataframe thead th {\n",
       "        text-align: right;\n",
       "    }\n",
       "</style>\n",
       "<table border=\"1\" class=\"dataframe\">\n",
       "  <thead>\n",
       "    <tr style=\"text-align: right;\">\n",
       "      <th></th>\n",
       "      <th>date</th>\n",
       "      <th>primary_cleaner.input.sulfate</th>\n",
       "      <th>primary_cleaner.input.depressant</th>\n",
       "      <th>primary_cleaner.input.feed_size</th>\n",
       "      <th>primary_cleaner.input.xanthate</th>\n",
       "      <th>primary_cleaner.state.floatbank8_a_air</th>\n",
       "      <th>primary_cleaner.state.floatbank8_a_level</th>\n",
       "      <th>primary_cleaner.state.floatbank8_b_air</th>\n",
       "      <th>primary_cleaner.state.floatbank8_b_level</th>\n",
       "      <th>primary_cleaner.state.floatbank8_c_air</th>\n",
       "      <th>...</th>\n",
       "      <th>secondary_cleaner.state.floatbank4_b_air</th>\n",
       "      <th>secondary_cleaner.state.floatbank4_b_level</th>\n",
       "      <th>secondary_cleaner.state.floatbank5_a_air</th>\n",
       "      <th>secondary_cleaner.state.floatbank5_a_level</th>\n",
       "      <th>secondary_cleaner.state.floatbank5_b_air</th>\n",
       "      <th>secondary_cleaner.state.floatbank5_b_level</th>\n",
       "      <th>secondary_cleaner.state.floatbank6_a_air</th>\n",
       "      <th>secondary_cleaner.state.floatbank6_a_level</th>\n",
       "      <th>final.output.recovery</th>\n",
       "      <th>rougher.output.recovery</th>\n",
       "    </tr>\n",
       "  </thead>\n",
       "  <tbody>\n",
       "    <tr>\n",
       "      <th>0</th>\n",
       "      <td>2016-01-15 00:00:00</td>\n",
       "      <td>127.092003</td>\n",
       "      <td>10.128295</td>\n",
       "      <td>7.25</td>\n",
       "      <td>0.988759</td>\n",
       "      <td>1549.775757</td>\n",
       "      <td>-498.912140</td>\n",
       "      <td>1551.434204</td>\n",
       "      <td>-516.403442</td>\n",
       "      <td>1549.873901</td>\n",
       "      <td>...</td>\n",
       "      <td>12.099931</td>\n",
       "      <td>-504.715942</td>\n",
       "      <td>9.925633</td>\n",
       "      <td>-498.310211</td>\n",
       "      <td>8.079666</td>\n",
       "      <td>-500.470978</td>\n",
       "      <td>14.151341</td>\n",
       "      <td>-605.841980</td>\n",
       "      <td>70.541216</td>\n",
       "      <td>87.107763</td>\n",
       "    </tr>\n",
       "    <tr>\n",
       "      <th>1</th>\n",
       "      <td>2016-01-15 01:00:00</td>\n",
       "      <td>125.629232</td>\n",
       "      <td>10.296251</td>\n",
       "      <td>7.25</td>\n",
       "      <td>1.002663</td>\n",
       "      <td>1576.166671</td>\n",
       "      <td>-500.904965</td>\n",
       "      <td>1575.950626</td>\n",
       "      <td>-499.865889</td>\n",
       "      <td>1575.994189</td>\n",
       "      <td>...</td>\n",
       "      <td>11.950531</td>\n",
       "      <td>-501.331529</td>\n",
       "      <td>10.039245</td>\n",
       "      <td>-500.169983</td>\n",
       "      <td>7.984757</td>\n",
       "      <td>-500.582168</td>\n",
       "      <td>13.998353</td>\n",
       "      <td>-599.787184</td>\n",
       "      <td>69.266198</td>\n",
       "      <td>86.843261</td>\n",
       "    </tr>\n",
       "    <tr>\n",
       "      <th>2</th>\n",
       "      <td>2016-01-15 02:00:00</td>\n",
       "      <td>123.819808</td>\n",
       "      <td>11.316280</td>\n",
       "      <td>7.25</td>\n",
       "      <td>0.991265</td>\n",
       "      <td>1601.556163</td>\n",
       "      <td>-499.997791</td>\n",
       "      <td>1600.386685</td>\n",
       "      <td>-500.607762</td>\n",
       "      <td>1602.003542</td>\n",
       "      <td>...</td>\n",
       "      <td>11.912783</td>\n",
       "      <td>-501.133383</td>\n",
       "      <td>10.070913</td>\n",
       "      <td>-500.129135</td>\n",
       "      <td>8.013877</td>\n",
       "      <td>-500.517572</td>\n",
       "      <td>14.028663</td>\n",
       "      <td>-601.427363</td>\n",
       "      <td>68.116445</td>\n",
       "      <td>86.842308</td>\n",
       "    </tr>\n",
       "    <tr>\n",
       "      <th>3</th>\n",
       "      <td>2016-01-15 03:00:00</td>\n",
       "      <td>122.270188</td>\n",
       "      <td>11.322140</td>\n",
       "      <td>7.25</td>\n",
       "      <td>0.996739</td>\n",
       "      <td>1599.968720</td>\n",
       "      <td>-500.951778</td>\n",
       "      <td>1600.659236</td>\n",
       "      <td>-499.677094</td>\n",
       "      <td>1600.304144</td>\n",
       "      <td>...</td>\n",
       "      <td>11.999550</td>\n",
       "      <td>-501.193686</td>\n",
       "      <td>9.970366</td>\n",
       "      <td>-499.201640</td>\n",
       "      <td>7.977324</td>\n",
       "      <td>-500.255908</td>\n",
       "      <td>14.005551</td>\n",
       "      <td>-599.996129</td>\n",
       "      <td>68.347543</td>\n",
       "      <td>87.226430</td>\n",
       "    </tr>\n",
       "    <tr>\n",
       "      <th>4</th>\n",
       "      <td>2016-01-15 04:00:00</td>\n",
       "      <td>117.988169</td>\n",
       "      <td>11.913613</td>\n",
       "      <td>7.25</td>\n",
       "      <td>1.009869</td>\n",
       "      <td>1601.339707</td>\n",
       "      <td>-498.975456</td>\n",
       "      <td>1601.437854</td>\n",
       "      <td>-500.323246</td>\n",
       "      <td>1599.581894</td>\n",
       "      <td>...</td>\n",
       "      <td>11.953070</td>\n",
       "      <td>-501.053894</td>\n",
       "      <td>9.925709</td>\n",
       "      <td>-501.686727</td>\n",
       "      <td>7.894242</td>\n",
       "      <td>-500.356035</td>\n",
       "      <td>13.996647</td>\n",
       "      <td>-601.496691</td>\n",
       "      <td>66.927016</td>\n",
       "      <td>86.688794</td>\n",
       "    </tr>\n",
       "    <tr>\n",
       "      <th>...</th>\n",
       "      <td>...</td>\n",
       "      <td>...</td>\n",
       "      <td>...</td>\n",
       "      <td>...</td>\n",
       "      <td>...</td>\n",
       "      <td>...</td>\n",
       "      <td>...</td>\n",
       "      <td>...</td>\n",
       "      <td>...</td>\n",
       "      <td>...</td>\n",
       "      <td>...</td>\n",
       "      <td>...</td>\n",
       "      <td>...</td>\n",
       "      <td>...</td>\n",
       "      <td>...</td>\n",
       "      <td>...</td>\n",
       "      <td>...</td>\n",
       "      <td>...</td>\n",
       "      <td>...</td>\n",
       "      <td>...</td>\n",
       "      <td>...</td>\n",
       "    </tr>\n",
       "    <tr>\n",
       "      <th>14144</th>\n",
       "      <td>2018-08-18 06:59:59</td>\n",
       "      <td>123.381787</td>\n",
       "      <td>8.028927</td>\n",
       "      <td>6.50</td>\n",
       "      <td>1.304232</td>\n",
       "      <td>1648.421193</td>\n",
       "      <td>-400.382169</td>\n",
       "      <td>1648.742005</td>\n",
       "      <td>-400.359661</td>\n",
       "      <td>1648.578230</td>\n",
       "      <td>...</td>\n",
       "      <td>20.007571</td>\n",
       "      <td>-499.740028</td>\n",
       "      <td>18.006038</td>\n",
       "      <td>-499.834374</td>\n",
       "      <td>13.001114</td>\n",
       "      <td>-500.155694</td>\n",
       "      <td>20.007840</td>\n",
       "      <td>-501.296428</td>\n",
       "      <td>73.755150</td>\n",
       "      <td>89.574376</td>\n",
       "    </tr>\n",
       "    <tr>\n",
       "      <th>14145</th>\n",
       "      <td>2018-08-18 07:59:59</td>\n",
       "      <td>120.878188</td>\n",
       "      <td>7.962636</td>\n",
       "      <td>6.50</td>\n",
       "      <td>1.302419</td>\n",
       "      <td>1649.820162</td>\n",
       "      <td>-399.930973</td>\n",
       "      <td>1649.357538</td>\n",
       "      <td>-399.721222</td>\n",
       "      <td>1648.656192</td>\n",
       "      <td>...</td>\n",
       "      <td>20.035660</td>\n",
       "      <td>-500.251357</td>\n",
       "      <td>17.998535</td>\n",
       "      <td>-500.395178</td>\n",
       "      <td>12.954048</td>\n",
       "      <td>-499.895163</td>\n",
       "      <td>19.968498</td>\n",
       "      <td>-501.041608</td>\n",
       "      <td>69.049291</td>\n",
       "      <td>87.724007</td>\n",
       "    </tr>\n",
       "    <tr>\n",
       "      <th>14146</th>\n",
       "      <td>2018-08-18 08:59:59</td>\n",
       "      <td>105.666118</td>\n",
       "      <td>7.955111</td>\n",
       "      <td>6.50</td>\n",
       "      <td>1.315926</td>\n",
       "      <td>1649.166761</td>\n",
       "      <td>-399.888631</td>\n",
       "      <td>1649.196904</td>\n",
       "      <td>-399.677571</td>\n",
       "      <td>1647.896999</td>\n",
       "      <td>...</td>\n",
       "      <td>19.951231</td>\n",
       "      <td>-499.857027</td>\n",
       "      <td>18.019543</td>\n",
       "      <td>-500.451156</td>\n",
       "      <td>13.023431</td>\n",
       "      <td>-499.914391</td>\n",
       "      <td>19.990885</td>\n",
       "      <td>-501.518452</td>\n",
       "      <td>67.002189</td>\n",
       "      <td>88.890579</td>\n",
       "    </tr>\n",
       "    <tr>\n",
       "      <th>14147</th>\n",
       "      <td>2018-08-18 09:59:59</td>\n",
       "      <td>98.880538</td>\n",
       "      <td>7.984164</td>\n",
       "      <td>6.50</td>\n",
       "      <td>1.241969</td>\n",
       "      <td>1646.547763</td>\n",
       "      <td>-398.977083</td>\n",
       "      <td>1648.212240</td>\n",
       "      <td>-400.383265</td>\n",
       "      <td>1648.917387</td>\n",
       "      <td>...</td>\n",
       "      <td>20.054122</td>\n",
       "      <td>-500.314711</td>\n",
       "      <td>17.979515</td>\n",
       "      <td>-499.272871</td>\n",
       "      <td>12.992404</td>\n",
       "      <td>-499.976268</td>\n",
       "      <td>20.013986</td>\n",
       "      <td>-500.625471</td>\n",
       "      <td>65.523246</td>\n",
       "      <td>89.858126</td>\n",
       "    </tr>\n",
       "    <tr>\n",
       "      <th>14148</th>\n",
       "      <td>2018-08-18 10:59:59</td>\n",
       "      <td>95.248427</td>\n",
       "      <td>8.078957</td>\n",
       "      <td>6.50</td>\n",
       "      <td>1.283045</td>\n",
       "      <td>1648.759906</td>\n",
       "      <td>-399.862053</td>\n",
       "      <td>1650.135395</td>\n",
       "      <td>-399.957321</td>\n",
       "      <td>1648.831890</td>\n",
       "      <td>...</td>\n",
       "      <td>20.020205</td>\n",
       "      <td>-500.220296</td>\n",
       "      <td>17.963512</td>\n",
       "      <td>-499.939490</td>\n",
       "      <td>12.990306</td>\n",
       "      <td>-500.080993</td>\n",
       "      <td>19.990336</td>\n",
       "      <td>-499.191575</td>\n",
       "      <td>70.281454</td>\n",
       "      <td>89.514960</td>\n",
       "    </tr>\n",
       "  </tbody>\n",
       "</table>\n",
       "<p>14149 rows × 55 columns</p>\n",
       "</div>"
      ],
      "text/plain": [
       "                      date  primary_cleaner.input.sulfate  \\\n",
       "0      2016-01-15 00:00:00                     127.092003   \n",
       "1      2016-01-15 01:00:00                     125.629232   \n",
       "2      2016-01-15 02:00:00                     123.819808   \n",
       "3      2016-01-15 03:00:00                     122.270188   \n",
       "4      2016-01-15 04:00:00                     117.988169   \n",
       "...                    ...                            ...   \n",
       "14144  2018-08-18 06:59:59                     123.381787   \n",
       "14145  2018-08-18 07:59:59                     120.878188   \n",
       "14146  2018-08-18 08:59:59                     105.666118   \n",
       "14147  2018-08-18 09:59:59                      98.880538   \n",
       "14148  2018-08-18 10:59:59                      95.248427   \n",
       "\n",
       "       primary_cleaner.input.depressant  primary_cleaner.input.feed_size  \\\n",
       "0                             10.128295                             7.25   \n",
       "1                             10.296251                             7.25   \n",
       "2                             11.316280                             7.25   \n",
       "3                             11.322140                             7.25   \n",
       "4                             11.913613                             7.25   \n",
       "...                                 ...                              ...   \n",
       "14144                          8.028927                             6.50   \n",
       "14145                          7.962636                             6.50   \n",
       "14146                          7.955111                             6.50   \n",
       "14147                          7.984164                             6.50   \n",
       "14148                          8.078957                             6.50   \n",
       "\n",
       "       primary_cleaner.input.xanthate  primary_cleaner.state.floatbank8_a_air  \\\n",
       "0                            0.988759                             1549.775757   \n",
       "1                            1.002663                             1576.166671   \n",
       "2                            0.991265                             1601.556163   \n",
       "3                            0.996739                             1599.968720   \n",
       "4                            1.009869                             1601.339707   \n",
       "...                               ...                                     ...   \n",
       "14144                        1.304232                             1648.421193   \n",
       "14145                        1.302419                             1649.820162   \n",
       "14146                        1.315926                             1649.166761   \n",
       "14147                        1.241969                             1646.547763   \n",
       "14148                        1.283045                             1648.759906   \n",
       "\n",
       "       primary_cleaner.state.floatbank8_a_level  \\\n",
       "0                                   -498.912140   \n",
       "1                                   -500.904965   \n",
       "2                                   -499.997791   \n",
       "3                                   -500.951778   \n",
       "4                                   -498.975456   \n",
       "...                                         ...   \n",
       "14144                               -400.382169   \n",
       "14145                               -399.930973   \n",
       "14146                               -399.888631   \n",
       "14147                               -398.977083   \n",
       "14148                               -399.862053   \n",
       "\n",
       "       primary_cleaner.state.floatbank8_b_air  \\\n",
       "0                                 1551.434204   \n",
       "1                                 1575.950626   \n",
       "2                                 1600.386685   \n",
       "3                                 1600.659236   \n",
       "4                                 1601.437854   \n",
       "...                                       ...   \n",
       "14144                             1648.742005   \n",
       "14145                             1649.357538   \n",
       "14146                             1649.196904   \n",
       "14147                             1648.212240   \n",
       "14148                             1650.135395   \n",
       "\n",
       "       primary_cleaner.state.floatbank8_b_level  \\\n",
       "0                                   -516.403442   \n",
       "1                                   -499.865889   \n",
       "2                                   -500.607762   \n",
       "3                                   -499.677094   \n",
       "4                                   -500.323246   \n",
       "...                                         ...   \n",
       "14144                               -400.359661   \n",
       "14145                               -399.721222   \n",
       "14146                               -399.677571   \n",
       "14147                               -400.383265   \n",
       "14148                               -399.957321   \n",
       "\n",
       "       primary_cleaner.state.floatbank8_c_air  ...  \\\n",
       "0                                 1549.873901  ...   \n",
       "1                                 1575.994189  ...   \n",
       "2                                 1602.003542  ...   \n",
       "3                                 1600.304144  ...   \n",
       "4                                 1599.581894  ...   \n",
       "...                                       ...  ...   \n",
       "14144                             1648.578230  ...   \n",
       "14145                             1648.656192  ...   \n",
       "14146                             1647.896999  ...   \n",
       "14147                             1648.917387  ...   \n",
       "14148                             1648.831890  ...   \n",
       "\n",
       "       secondary_cleaner.state.floatbank4_b_air  \\\n",
       "0                                     12.099931   \n",
       "1                                     11.950531   \n",
       "2                                     11.912783   \n",
       "3                                     11.999550   \n",
       "4                                     11.953070   \n",
       "...                                         ...   \n",
       "14144                                 20.007571   \n",
       "14145                                 20.035660   \n",
       "14146                                 19.951231   \n",
       "14147                                 20.054122   \n",
       "14148                                 20.020205   \n",
       "\n",
       "       secondary_cleaner.state.floatbank4_b_level  \\\n",
       "0                                     -504.715942   \n",
       "1                                     -501.331529   \n",
       "2                                     -501.133383   \n",
       "3                                     -501.193686   \n",
       "4                                     -501.053894   \n",
       "...                                           ...   \n",
       "14144                                 -499.740028   \n",
       "14145                                 -500.251357   \n",
       "14146                                 -499.857027   \n",
       "14147                                 -500.314711   \n",
       "14148                                 -500.220296   \n",
       "\n",
       "       secondary_cleaner.state.floatbank5_a_air  \\\n",
       "0                                      9.925633   \n",
       "1                                     10.039245   \n",
       "2                                     10.070913   \n",
       "3                                      9.970366   \n",
       "4                                      9.925709   \n",
       "...                                         ...   \n",
       "14144                                 18.006038   \n",
       "14145                                 17.998535   \n",
       "14146                                 18.019543   \n",
       "14147                                 17.979515   \n",
       "14148                                 17.963512   \n",
       "\n",
       "       secondary_cleaner.state.floatbank5_a_level  \\\n",
       "0                                     -498.310211   \n",
       "1                                     -500.169983   \n",
       "2                                     -500.129135   \n",
       "3                                     -499.201640   \n",
       "4                                     -501.686727   \n",
       "...                                           ...   \n",
       "14144                                 -499.834374   \n",
       "14145                                 -500.395178   \n",
       "14146                                 -500.451156   \n",
       "14147                                 -499.272871   \n",
       "14148                                 -499.939490   \n",
       "\n",
       "       secondary_cleaner.state.floatbank5_b_air  \\\n",
       "0                                      8.079666   \n",
       "1                                      7.984757   \n",
       "2                                      8.013877   \n",
       "3                                      7.977324   \n",
       "4                                      7.894242   \n",
       "...                                         ...   \n",
       "14144                                 13.001114   \n",
       "14145                                 12.954048   \n",
       "14146                                 13.023431   \n",
       "14147                                 12.992404   \n",
       "14148                                 12.990306   \n",
       "\n",
       "       secondary_cleaner.state.floatbank5_b_level  \\\n",
       "0                                     -500.470978   \n",
       "1                                     -500.582168   \n",
       "2                                     -500.517572   \n",
       "3                                     -500.255908   \n",
       "4                                     -500.356035   \n",
       "...                                           ...   \n",
       "14144                                 -500.155694   \n",
       "14145                                 -499.895163   \n",
       "14146                                 -499.914391   \n",
       "14147                                 -499.976268   \n",
       "14148                                 -500.080993   \n",
       "\n",
       "       secondary_cleaner.state.floatbank6_a_air  \\\n",
       "0                                     14.151341   \n",
       "1                                     13.998353   \n",
       "2                                     14.028663   \n",
       "3                                     14.005551   \n",
       "4                                     13.996647   \n",
       "...                                         ...   \n",
       "14144                                 20.007840   \n",
       "14145                                 19.968498   \n",
       "14146                                 19.990885   \n",
       "14147                                 20.013986   \n",
       "14148                                 19.990336   \n",
       "\n",
       "       secondary_cleaner.state.floatbank6_a_level  final.output.recovery  \\\n",
       "0                                     -605.841980              70.541216   \n",
       "1                                     -599.787184              69.266198   \n",
       "2                                     -601.427363              68.116445   \n",
       "3                                     -599.996129              68.347543   \n",
       "4                                     -601.496691              66.927016   \n",
       "...                                           ...                    ...   \n",
       "14144                                 -501.296428              73.755150   \n",
       "14145                                 -501.041608              69.049291   \n",
       "14146                                 -501.518452              67.002189   \n",
       "14147                                 -500.625471              65.523246   \n",
       "14148                                 -499.191575              70.281454   \n",
       "\n",
       "       rougher.output.recovery  \n",
       "0                    87.107763  \n",
       "1                    86.843261  \n",
       "2                    86.842308  \n",
       "3                    87.226430  \n",
       "4                    86.688794  \n",
       "...                        ...  \n",
       "14144                89.574376  \n",
       "14145                87.724007  \n",
       "14146                88.890579  \n",
       "14147                89.858126  \n",
       "14148                89.514960  \n",
       "\n",
       "[14149 rows x 55 columns]"
      ]
     },
     "execution_count": 69,
     "metadata": {},
     "output_type": "execute_result"
    }
   ],
   "source": [
    "new_df_train = df_train.loc[:,total_columns]\n",
    "new_df_train"
   ]
  },
  {
   "cell_type": "markdown",
   "metadata": {},
   "source": [
    "В тестовой выборке нет параметров продукта:\n",
    "rougher.output.recovery,final.output.recovery\n",
    "final.output.concentrate\n",
    "final.output.tail\n",
    "primary_cleaner.output.concentrate\n",
    "primary_cleaner.output.tail\n",
    "rougher.output.concentrate\n",
    "rougher.output.tail\n",
    "secondary_cleaner.output.tail\n",
    "\n",
    "Так же нет расчётных характеристик для золота,на этапе флотаци \n",
    "rougher.calculation.sulfate_to_au_concentrate,\n",
    "rougher.calculation.floatbank10_sulfate_to_au_feed,\n",
    "rougher.calculation.floatbank11_sulfate_to_au_feed,\n",
    "rougher.calculation.au_pb_ratio\n",
    "\n",
    " "
   ]
  },
  {
   "cell_type": "markdown",
   "metadata": {},
   "source": [
    "## Анализ данных"
   ]
  },
  {
   "cell_type": "markdown",
   "metadata": {},
   "source": [
    "### Как меняется концентрация металлов (Au, Ag, Pb) на различных этапах очистки. "
   ]
  },
  {
   "cell_type": "code",
   "execution_count": 70,
   "metadata": {
    "scrolled": false
   },
   "outputs": [
    {
     "data": {
      "image/png": "[encoded data removed]",
      "text/plain": [
       "<Figure size 432x288 with 1 Axes>"
      ]
     },
     "metadata": {
      "needs_background": "light"
     },
     "output_type": "display_data"
    }
   ],
   "source": [
    "au_pivot_table = df_train.pivot_table(index = 'final.output.recovery', values = ['rougher.input.feed_au','rougher.output.concentrate_au',\n",
    "                                      'primary_cleaner.output.concentrate_au','final.output.concentrate_au'], aggfunc = 'mean')\n",
    "sns.histplot(au_pivot_table)     \n",
    "plt.title('Гистограмма концентрации золота на разных этапах очистки')\n",
    "plt.show()"
   ]
  },
  {
   "cell_type": "code",
   "execution_count": 71,
   "metadata": {},
   "outputs": [
    {
     "data": {
      "text/html": [
       "<div>\n",
       "<style scoped>\n",
       "    .dataframe tbody tr th:only-of-type {\n",
       "        vertical-align: middle;\n",
       "    }\n",
       "\n",
       "    .dataframe tbody tr th {\n",
       "        vertical-align: top;\n",
       "    }\n",
       "\n",
       "    .dataframe thead th {\n",
       "        text-align: right;\n",
       "    }\n",
       "</style>\n",
       "<table border=\"1\" class=\"dataframe\">\n",
       "  <thead>\n",
       "    <tr style=\"text-align: right;\">\n",
       "      <th></th>\n",
       "      <th>final.output.concentrate_au</th>\n",
       "      <th>primary_cleaner.output.concentrate_au</th>\n",
       "      <th>rougher.input.feed_au</th>\n",
       "      <th>rougher.output.concentrate_au</th>\n",
       "    </tr>\n",
       "  </thead>\n",
       "  <tbody>\n",
       "    <tr>\n",
       "      <th>count</th>\n",
       "      <td>14008.000000</td>\n",
       "      <td>14008.000000</td>\n",
       "      <td>14008.000000</td>\n",
       "      <td>14008.000000</td>\n",
       "    </tr>\n",
       "    <tr>\n",
       "      <th>mean</th>\n",
       "      <td>44.203325</td>\n",
       "      <td>32.440278</td>\n",
       "      <td>7.868563</td>\n",
       "      <td>19.451433</td>\n",
       "    </tr>\n",
       "    <tr>\n",
       "      <th>std</th>\n",
       "      <td>3.966916</td>\n",
       "      <td>5.658258</td>\n",
       "      <td>1.915553</td>\n",
       "      <td>3.741901</td>\n",
       "    </tr>\n",
       "    <tr>\n",
       "      <th>min</th>\n",
       "      <td>0.000000</td>\n",
       "      <td>0.000000</td>\n",
       "      <td>0.588152</td>\n",
       "      <td>0.000000</td>\n",
       "    </tr>\n",
       "    <tr>\n",
       "      <th>25%</th>\n",
       "      <td>43.306831</td>\n",
       "      <td>30.870615</td>\n",
       "      <td>6.595120</td>\n",
       "      <td>18.448096</td>\n",
       "    </tr>\n",
       "    <tr>\n",
       "      <th>50%</th>\n",
       "      <td>44.887827</td>\n",
       "      <td>33.227699</td>\n",
       "      <td>7.650237</td>\n",
       "      <td>19.950575</td>\n",
       "    </tr>\n",
       "    <tr>\n",
       "      <th>75%</th>\n",
       "      <td>46.172780</td>\n",
       "      <td>35.336657</td>\n",
       "      <td>9.064652</td>\n",
       "      <td>21.391533</td>\n",
       "    </tr>\n",
       "    <tr>\n",
       "      <th>max</th>\n",
       "      <td>52.756638</td>\n",
       "      <td>45.933934</td>\n",
       "      <td>13.126043</td>\n",
       "      <td>28.146838</td>\n",
       "    </tr>\n",
       "  </tbody>\n",
       "</table>\n",
       "</div>"
      ],
      "text/plain": [
       "       final.output.concentrate_au  primary_cleaner.output.concentrate_au  \\\n",
       "count                 14008.000000                           14008.000000   \n",
       "mean                     44.203325                              32.440278   \n",
       "std                       3.966916                               5.658258   \n",
       "min                       0.000000                               0.000000   \n",
       "25%                      43.306831                              30.870615   \n",
       "50%                      44.887827                              33.227699   \n",
       "75%                      46.172780                              35.336657   \n",
       "max                      52.756638                              45.933934   \n",
       "\n",
       "       rougher.input.feed_au  rougher.output.concentrate_au  \n",
       "count           14008.000000                   14008.000000  \n",
       "mean                7.868563                      19.451433  \n",
       "std                 1.915553                       3.741901  \n",
       "min                 0.588152                       0.000000  \n",
       "25%                 6.595120                      18.448096  \n",
       "50%                 7.650237                      19.950575  \n",
       "75%                 9.064652                      21.391533  \n",
       "max                13.126043                      28.146838  "
      ]
     },
     "execution_count": 71,
     "metadata": {},
     "output_type": "execute_result"
    }
   ],
   "source": [
    "au_pivot_table.describe()"
   ]
  },
  {
   "cell_type": "markdown",
   "metadata": {},
   "source": [
    "Концентрация золота с каждым этатом увеличивается\n",
    "1 этап:rougher.input.feed_au, медианная концентрация равна 7,7\n",
    "2 этап:rougher.output.concentrate_au, медианная концентрация равна 20\n",
    "3 этап:primary_cleaner.output.concentrate_au, медианная концентрация равна 33,2\n",
    "4 этап:final.output.concentrate_au, медианная концентрация равна 44,9"
   ]
  },
  {
   "cell_type": "code",
   "execution_count": 72,
   "metadata": {},
   "outputs": [
    {
     "data": {
      "image/png": "[encoded data removed]",
      "text/plain": [
       "<Figure size 432x288 with 1 Axes>"
      ]
     },
     "metadata": {
      "needs_background": "light"
     },
     "output_type": "display_data"
    }
   ],
   "source": [
    "ag_pivot_table = df_train.pivot_table(index = 'final.output.recovery', values = ['rougher.input.feed_ag','rougher.output.concentrate_ag',\n",
    "                                      'primary_cleaner.output.concentrate_ag','final.output.concentrate_ag'], aggfunc = 'mean')\n",
    "sns.histplot(ag_pivot_table)     \n",
    "plt.title('Гистограмма концентрации серебра на разных этапах очистки')\n",
    "plt.show()"
   ]
  },
  {
   "cell_type": "code",
   "execution_count": 73,
   "metadata": {},
   "outputs": [
    {
     "data": {
      "text/html": [
       "<div>\n",
       "<style scoped>\n",
       "    .dataframe tbody tr th:only-of-type {\n",
       "        vertical-align: middle;\n",
       "    }\n",
       "\n",
       "    .dataframe tbody tr th {\n",
       "        vertical-align: top;\n",
       "    }\n",
       "\n",
       "    .dataframe thead th {\n",
       "        text-align: right;\n",
       "    }\n",
       "</style>\n",
       "<table border=\"1\" class=\"dataframe\">\n",
       "  <thead>\n",
       "    <tr style=\"text-align: right;\">\n",
       "      <th></th>\n",
       "      <th>final.output.concentrate_ag</th>\n",
       "      <th>primary_cleaner.output.concentrate_ag</th>\n",
       "      <th>rougher.input.feed_ag</th>\n",
       "      <th>rougher.output.concentrate_ag</th>\n",
       "    </tr>\n",
       "  </thead>\n",
       "  <tbody>\n",
       "    <tr>\n",
       "      <th>count</th>\n",
       "      <td>14008.000000</td>\n",
       "      <td>14008.000000</td>\n",
       "      <td>14008.000000</td>\n",
       "      <td>14008.000000</td>\n",
       "    </tr>\n",
       "    <tr>\n",
       "      <th>mean</th>\n",
       "      <td>5.162086</td>\n",
       "      <td>8.217239</td>\n",
       "      <td>8.583109</td>\n",
       "      <td>11.780235</td>\n",
       "    </tr>\n",
       "    <tr>\n",
       "      <th>std</th>\n",
       "      <td>1.331469</td>\n",
       "      <td>1.978648</td>\n",
       "      <td>1.890095</td>\n",
       "      <td>2.717629</td>\n",
       "    </tr>\n",
       "    <tr>\n",
       "      <th>min</th>\n",
       "      <td>0.000000</td>\n",
       "      <td>0.000000</td>\n",
       "      <td>1.106758</td>\n",
       "      <td>0.000000</td>\n",
       "    </tr>\n",
       "    <tr>\n",
       "      <th>25%</th>\n",
       "      <td>4.221662</td>\n",
       "      <td>7.114319</td>\n",
       "      <td>7.132741</td>\n",
       "      <td>10.490409</td>\n",
       "    </tr>\n",
       "    <tr>\n",
       "      <th>50%</th>\n",
       "      <td>4.998757</td>\n",
       "      <td>8.228293</td>\n",
       "      <td>8.158453</td>\n",
       "      <td>11.746149</td>\n",
       "    </tr>\n",
       "    <tr>\n",
       "      <th>75%</th>\n",
       "      <td>5.858258</td>\n",
       "      <td>9.509923</td>\n",
       "      <td>9.921406</td>\n",
       "      <td>13.418226</td>\n",
       "    </tr>\n",
       "    <tr>\n",
       "      <th>max</th>\n",
       "      <td>16.001945</td>\n",
       "      <td>16.081632</td>\n",
       "      <td>14.596026</td>\n",
       "      <td>24.480271</td>\n",
       "    </tr>\n",
       "  </tbody>\n",
       "</table>\n",
       "</div>"
      ],
      "text/plain": [
       "       final.output.concentrate_ag  primary_cleaner.output.concentrate_ag  \\\n",
       "count                 14008.000000                           14008.000000   \n",
       "mean                      5.162086                               8.217239   \n",
       "std                       1.331469                               1.978648   \n",
       "min                       0.000000                               0.000000   \n",
       "25%                       4.221662                               7.114319   \n",
       "50%                       4.998757                               8.228293   \n",
       "75%                       5.858258                               9.509923   \n",
       "max                      16.001945                              16.081632   \n",
       "\n",
       "       rougher.input.feed_ag  rougher.output.concentrate_ag  \n",
       "count           14008.000000                   14008.000000  \n",
       "mean                8.583109                      11.780235  \n",
       "std                 1.890095                       2.717629  \n",
       "min                 1.106758                       0.000000  \n",
       "25%                 7.132741                      10.490409  \n",
       "50%                 8.158453                      11.746149  \n",
       "75%                 9.921406                      13.418226  \n",
       "max                14.596026                      24.480271  "
      ]
     },
     "execution_count": 73,
     "metadata": {},
     "output_type": "execute_result"
    }
   ],
   "source": [
    "ag_pivot_table.describe()"
   ]
  },
  {
   "cell_type": "markdown",
   "metadata": {},
   "source": [
    "Концентрация серебра с каждым этапом\n",
    "1 этап:rougher.input.feed_ag, медианная концентрация равна 8,7\n",
    "2 этап:rougher.output.concentrate_ag, медианная концентрация равна 11,8\n",
    "3 этап:primary_cleaner.output.concentrate_ag, медианная концентрация равна 8,2\n",
    "4 этап:final.output.concentrate_ag, медианная концентрация равна 5"
   ]
  },
  {
   "cell_type": "code",
   "execution_count": 74,
   "metadata": {},
   "outputs": [
    {
     "data": {
      "image/png": "[encoded data removed]",
      "text/plain": [
       "<Figure size 432x288 with 1 Axes>"
      ]
     },
     "metadata": {
      "needs_background": "light"
     },
     "output_type": "display_data"
    }
   ],
   "source": [
    "pb_pivot_table = df_train.pivot_table(index = 'final.output.recovery', values = ['rougher.input.feed_pb','rougher.output.concentrate_pb',\n",
    "                                      'primary_cleaner.output.concentrate_pb','final.output.concentrate_pb'], aggfunc = 'mean')\n",
    "sns.histplot(pb_pivot_table)     \n",
    "plt.title('Гистограмма концентрации свинца на разных этапах очистки')\n",
    "plt.show()"
   ]
  },
  {
   "cell_type": "code",
   "execution_count": 75,
   "metadata": {},
   "outputs": [
    {
     "data": {
      "text/html": [
       "<div>\n",
       "<style scoped>\n",
       "    .dataframe tbody tr th:only-of-type {\n",
       "        vertical-align: middle;\n",
       "    }\n",
       "\n",
       "    .dataframe tbody tr th {\n",
       "        vertical-align: top;\n",
       "    }\n",
       "\n",
       "    .dataframe thead th {\n",
       "        text-align: right;\n",
       "    }\n",
       "</style>\n",
       "<table border=\"1\" class=\"dataframe\">\n",
       "  <thead>\n",
       "    <tr style=\"text-align: right;\">\n",
       "      <th></th>\n",
       "      <th>final.output.concentrate_pb</th>\n",
       "      <th>primary_cleaner.output.concentrate_pb</th>\n",
       "      <th>rougher.input.feed_pb</th>\n",
       "      <th>rougher.output.concentrate_pb</th>\n",
       "    </tr>\n",
       "  </thead>\n",
       "  <tbody>\n",
       "    <tr>\n",
       "      <th>count</th>\n",
       "      <td>14008.000000</td>\n",
       "      <td>14008.000000</td>\n",
       "      <td>14008.000000</td>\n",
       "      <td>14008.000000</td>\n",
       "    </tr>\n",
       "    <tr>\n",
       "      <th>mean</th>\n",
       "      <td>10.174488</td>\n",
       "      <td>9.589048</td>\n",
       "      <td>3.505768</td>\n",
       "      <td>7.661082</td>\n",
       "    </tr>\n",
       "    <tr>\n",
       "      <th>std</th>\n",
       "      <td>1.515397</td>\n",
       "      <td>2.682807</td>\n",
       "      <td>1.088251</td>\n",
       "      <td>1.843454</td>\n",
       "    </tr>\n",
       "    <tr>\n",
       "      <th>min</th>\n",
       "      <td>0.000000</td>\n",
       "      <td>0.000000</td>\n",
       "      <td>0.088552</td>\n",
       "      <td>0.000000</td>\n",
       "    </tr>\n",
       "    <tr>\n",
       "      <th>25%</th>\n",
       "      <td>9.311250</td>\n",
       "      <td>8.324822</td>\n",
       "      <td>2.765942</td>\n",
       "      <td>6.850866</td>\n",
       "    </tr>\n",
       "    <tr>\n",
       "      <th>50%</th>\n",
       "      <td>10.307226</td>\n",
       "      <td>9.931411</td>\n",
       "      <td>3.411535</td>\n",
       "      <td>7.757770</td>\n",
       "    </tr>\n",
       "    <tr>\n",
       "      <th>75%</th>\n",
       "      <td>11.173448</td>\n",
       "      <td>11.311819</td>\n",
       "      <td>4.220713</td>\n",
       "      <td>8.599945</td>\n",
       "    </tr>\n",
       "    <tr>\n",
       "      <th>max</th>\n",
       "      <td>17.031899</td>\n",
       "      <td>17.081278</td>\n",
       "      <td>7.142594</td>\n",
       "      <td>13.617072</td>\n",
       "    </tr>\n",
       "  </tbody>\n",
       "</table>\n",
       "</div>"
      ],
      "text/plain": [
       "       final.output.concentrate_pb  primary_cleaner.output.concentrate_pb  \\\n",
       "count                 14008.000000                           14008.000000   \n",
       "mean                     10.174488                               9.589048   \n",
       "std                       1.515397                               2.682807   \n",
       "min                       0.000000                               0.000000   \n",
       "25%                       9.311250                               8.324822   \n",
       "50%                      10.307226                               9.931411   \n",
       "75%                      11.173448                              11.311819   \n",
       "max                      17.031899                              17.081278   \n",
       "\n",
       "       rougher.input.feed_pb  rougher.output.concentrate_pb  \n",
       "count           14008.000000                   14008.000000  \n",
       "mean                3.505768                       7.661082  \n",
       "std                 1.088251                       1.843454  \n",
       "min                 0.088552                       0.000000  \n",
       "25%                 2.765942                       6.850866  \n",
       "50%                 3.411535                       7.757770  \n",
       "75%                 4.220713                       8.599945  \n",
       "max                 7.142594                      13.617072  "
      ]
     },
     "execution_count": 75,
     "metadata": {},
     "output_type": "execute_result"
    }
   ],
   "source": [
    "pb_pivot_table.describe()"
   ]
  },
  {
   "cell_type": "markdown",
   "metadata": {},
   "source": [
    "Концентрация свинца с каждым этатом увеличивается\n",
    "1 этап:rougher.input.feed_pb, медианная концентрация равна 3.4\n",
    "2 этап:rougher.output.concentrate_pb, медианная концентрация равна 7.8\n",
    "3 этап:primary_cleaner.output.concentrate_pb, медианная концентрация равна 9.9\n",
    "4 этап:final.output.concentrate_pb, медианная концентрация равна 11.2"
   ]
  },
  {
   "cell_type": "code",
   "execution_count": 76,
   "metadata": {},
   "outputs": [
    {
     "data": {
      "image/png": "[encoded data removed]",
      "text/plain": [
       "<Figure size 432x288 with 1 Axes>"
      ]
     },
     "metadata": {
      "needs_background": "light"
     },
     "output_type": "display_data"
    }
   ],
   "source": [
    "sol_pivot_table = df_train.pivot_table(index = 'final.output.recovery', values = ['rougher.input.feed_sol','rougher.output.concentrate_sol',\n",
    "                                      'primary_cleaner.output.concentrate_sol','final.output.concentrate_sol'], aggfunc = 'mean')\n",
    "sns.histplot(sol_pivot_table)     \n",
    "plt.title('Гистограмма концентрации соли на разных этапах очистки')\n",
    "plt.show()"
   ]
  },
  {
   "cell_type": "code",
   "execution_count": 77,
   "metadata": {},
   "outputs": [
    {
     "data": {
      "text/html": [
       "<div>\n",
       "<style scoped>\n",
       "    .dataframe tbody tr th:only-of-type {\n",
       "        vertical-align: middle;\n",
       "    }\n",
       "\n",
       "    .dataframe tbody tr th {\n",
       "        vertical-align: top;\n",
       "    }\n",
       "\n",
       "    .dataframe thead th {\n",
       "        text-align: right;\n",
       "    }\n",
       "</style>\n",
       "<table border=\"1\" class=\"dataframe\">\n",
       "  <thead>\n",
       "    <tr style=\"text-align: right;\">\n",
       "      <th></th>\n",
       "      <th>final.output.concentrate_sol</th>\n",
       "      <th>primary_cleaner.output.concentrate_sol</th>\n",
       "      <th>rougher.input.feed_sol</th>\n",
       "      <th>rougher.output.concentrate_sol</th>\n",
       "    </tr>\n",
       "  </thead>\n",
       "  <tbody>\n",
       "    <tr>\n",
       "      <th>count</th>\n",
       "      <td>14008.000000</td>\n",
       "      <td>14008.000000</td>\n",
       "      <td>14008.000000</td>\n",
       "      <td>14008.000000</td>\n",
       "    </tr>\n",
       "    <tr>\n",
       "      <th>mean</th>\n",
       "      <td>9.150440</td>\n",
       "      <td>10.040067</td>\n",
       "      <td>36.314245</td>\n",
       "      <td>28.315916</td>\n",
       "    </tr>\n",
       "    <tr>\n",
       "      <th>std</th>\n",
       "      <td>2.832823</td>\n",
       "      <td>4.100281</td>\n",
       "      <td>4.913229</td>\n",
       "      <td>6.067794</td>\n",
       "    </tr>\n",
       "    <tr>\n",
       "      <th>min</th>\n",
       "      <td>0.000000</td>\n",
       "      <td>0.000000</td>\n",
       "      <td>0.463867</td>\n",
       "      <td>0.000000</td>\n",
       "    </tr>\n",
       "    <tr>\n",
       "      <th>25%</th>\n",
       "      <td>7.445348</td>\n",
       "      <td>7.385972</td>\n",
       "      <td>34.102653</td>\n",
       "      <td>26.704318</td>\n",
       "    </tr>\n",
       "    <tr>\n",
       "      <th>50%</th>\n",
       "      <td>8.816340</td>\n",
       "      <td>9.651685</td>\n",
       "      <td>37.014365</td>\n",
       "      <td>29.256485</td>\n",
       "    </tr>\n",
       "    <tr>\n",
       "      <th>75%</th>\n",
       "      <td>10.463133</td>\n",
       "      <td>12.999241</td>\n",
       "      <td>39.415607</td>\n",
       "      <td>31.740116</td>\n",
       "    </tr>\n",
       "    <tr>\n",
       "      <th>max</th>\n",
       "      <td>18.124851</td>\n",
       "      <td>22.280845</td>\n",
       "      <td>48.363177</td>\n",
       "      <td>38.351193</td>\n",
       "    </tr>\n",
       "  </tbody>\n",
       "</table>\n",
       "</div>"
      ],
      "text/plain": [
       "       final.output.concentrate_sol  primary_cleaner.output.concentrate_sol  \\\n",
       "count                  14008.000000                            14008.000000   \n",
       "mean                       9.150440                               10.040067   \n",
       "std                        2.832823                                4.100281   \n",
       "min                        0.000000                                0.000000   \n",
       "25%                        7.445348                                7.385972   \n",
       "50%                        8.816340                                9.651685   \n",
       "75%                       10.463133                               12.999241   \n",
       "max                       18.124851                               22.280845   \n",
       "\n",
       "       rougher.input.feed_sol  rougher.output.concentrate_sol  \n",
       "count            14008.000000                    14008.000000  \n",
       "mean                36.314245                       28.315916  \n",
       "std                  4.913229                        6.067794  \n",
       "min                  0.463867                        0.000000  \n",
       "25%                 34.102653                       26.704318  \n",
       "50%                 37.014365                       29.256485  \n",
       "75%                 39.415607                       31.740116  \n",
       "max                 48.363177                       38.351193  "
      ]
     },
     "execution_count": 77,
     "metadata": {},
     "output_type": "execute_result"
    }
   ],
   "source": [
    "sol_pivot_table.describe()"
   ]
  },
  {
   "cell_type": "markdown",
   "metadata": {},
   "source": [
    "Концентрация соли с каждым этатом уменьшается\n",
    "1 этап:rougher.input.feed_sol, медианная концентрация равна 37\n",
    "2 этап:rougher.output.concentrate_sol, медианная концентрация равна 29,5\n",
    "3 этап:primary_cleaner.output.concentrate_sol, медианная концентрация равна 9,7\n",
    "4 этап:final.output.concentrate_sol, медианная концентрация равна 8,8"
   ]
  },
  {
   "cell_type": "markdown",
   "metadata": {},
   "source": [
    "### Сравнение распределения размеров гранул сырья на обучающей и тестовой выборках. Если распределения сильно отличаются друг от друга, оценка модели будет неправильной."
   ]
  },
  {
   "cell_type": "code",
   "execution_count": 78,
   "metadata": {},
   "outputs": [
    {
     "data": {
      "image/png": "[encoded data removed]",
      "text/plain": [
       "<Figure size 432x288 with 1 Axes>"
      ]
     },
     "metadata": {
      "needs_background": "light"
     },
     "output_type": "display_data"
    }
   ],
   "source": [
    "df_train['rougher.input.feed_size'].hist(bins=200,alpha=0.5,density=True)\n",
    "df_test['rougher.input.feed_size'].hist(bins=200,alpha=0.5,density=True)\n",
    "plt.xlim(0,100);\n",
    "plt.title('Гистограмма сравнения частиц обучающей и тестовой выборки');"
   ]
  },
  {
   "cell_type": "markdown",
   "metadata": {},
   "source": [
    "H0: размеров гранул сырья на обучающей и тестовой выборках одинаковый\n",
    "\n",
    "H1: размеров гранул сырья на обучающей и тестовой выборках отличается"
   ]
  },
  {
   "cell_type": "code",
   "execution_count": 79,
   "metadata": {},
   "outputs": [
    {
     "name": "stdout",
     "output_type": "stream",
     "text": [
      "р-значение: 3.134338776805464e-39\n",
      "Отвергаем нулевую гипотезу\n",
      "60.23985599255732\n",
      "55.952754028895136\n"
     ]
    }
   ],
   "source": [
    "train_feed_size = df_train['rougher.input.feed_size']\n",
    "test_feed_size = df_test['rougher.input.feed_size']\n",
    "\n",
    "alpha =0.05\n",
    "\n",
    "results = st.ttest_ind(train_feed_size, test_feed_size, equal_var = False)\n",
    "\n",
    "print('р-значение:',results.pvalue)\n",
    "\n",
    "if results.pvalue < alpha:\n",
    "    print('Отвергаем нулевую гипотезу')\n",
    "else:\n",
    "    print('Не получилось отвергнуть нулевую гипотезу')\n",
    "    \n",
    "  \n",
    "    \n",
    "\n",
    "\n",
    "print(df_train['rougher.input.feed_size'].mean())\n",
    "print(df_test['rougher.input.feed_size'].mean())"
   ]
  },
  {
   "cell_type": "code",
   "execution_count": 80,
   "metadata": {},
   "outputs": [
    {
     "data": {
      "text/plain": [
       "count    14149.000000\n",
       "mean        60.239856\n",
       "std         23.005310\n",
       "min          9.659576\n",
       "25%         48.966751\n",
       "50%         55.269784\n",
       "75%         66.007526\n",
       "max        484.967466\n",
       "Name: rougher.input.feed_size, dtype: float64"
      ]
     },
     "execution_count": 80,
     "metadata": {},
     "output_type": "execute_result"
    }
   ],
   "source": [
    "df_train['rougher.input.feed_size'].describe()\n"
   ]
  },
  {
   "cell_type": "code",
   "execution_count": 81,
   "metadata": {},
   "outputs": [
    {
     "data": {
      "text/plain": [
       "count    5290.000000\n",
       "mean       55.952754\n",
       "std        19.080334\n",
       "min         0.046369\n",
       "25%        43.906504\n",
       "50%        50.846843\n",
       "75%        62.451165\n",
       "max       392.494040\n",
       "Name: rougher.input.feed_size, dtype: float64"
      ]
     },
     "execution_count": 81,
     "metadata": {},
     "output_type": "execute_result"
    }
   ],
   "source": [
    "df_test['rougher.input.feed_size'].describe()"
   ]
  },
  {
   "cell_type": "markdown",
   "metadata": {},
   "source": [
    "Исходя из проведенных исследований,можно сделать вывод, что гранулы сырья между выборками различаются.Но так как размер указан в микронах,то различия незначительны"
   ]
  },
  {
   "cell_type": "markdown",
   "metadata": {},
   "source": [
    "H0:два распределения идентичны\n",
    "H1:два распределения не идентичны"
   ]
  },
  {
   "cell_type": "code",
   "execution_count": 82,
   "metadata": {},
   "outputs": [
    {
     "data": {
      "text/plain": [
       "KstestResult(statistic=0.2502993057549405, pvalue=5.1997046130555955e-213)"
      ]
     },
     "execution_count": 82,
     "metadata": {},
     "output_type": "execute_result"
    }
   ],
   "source": [
    "ks_2samp(train_feed_size, test_feed_size)\n"
   ]
  },
  {
   "cell_type": "markdown",
   "metadata": {},
   "source": [
    "Так как значение pvalue мало,то мы отклоняем нулевую гипотезу в пользу альтернативной."
   ]
  },
  {
   "cell_type": "markdown",
   "metadata": {},
   "source": [
    "### Исследование суммарной концентрацию всех веществ на разных стадиях: в сырье, в черновом и финальном концентратах."
   ]
  },
  {
   "cell_type": "code",
   "execution_count": 83,
   "metadata": {
    "scrolled": true
   },
   "outputs": [
    {
     "data": {
      "image/png": "[encoded data removed]",
      "text/plain": [
       "<Figure size 432x288 with 1 Axes>"
      ]
     },
     "metadata": {
      "needs_background": "light"
     },
     "output_type": "display_data"
    }
   ],
   "source": [
    "df_train['rougher_input_feed_sum'] = df_train[['rougher.input.feed_ag','rougher.input.feed_pb',\n",
    "                                               'rougher.input.feed_sol','rougher.input.feed_au']].sum(1)\n",
    "df_train['rougher_input_feed_sum'].hist(bins=100);"
   ]
  },
  {
   "cell_type": "code",
   "execution_count": 84,
   "metadata": {},
   "outputs": [
    {
     "data": {
      "text/plain": [
       "<AxesSubplot:>"
      ]
     },
     "execution_count": 84,
     "metadata": {},
     "output_type": "execute_result"
    },
    {
     "data": {
      "image/png": "[encoded data removed]",
      "text/plain": [
       "<Figure size 432x288 with 1 Axes>"
      ]
     },
     "metadata": {
      "needs_background": "light"
     },
     "output_type": "display_data"
    }
   ],
   "source": [
    "df_train['rougher_output_concentrate_sum'] = df_train[['rougher.output.concentrate_ag','rougher.output.concentrate_pb','rougher.output.concentrate_sol', 'rougher.output.concentrate_au']].sum(1)\n",
    "df_train['rougher_output_concentrate_sum'].hist(bins=100)"
   ]
  },
  {
   "cell_type": "code",
   "execution_count": 85,
   "metadata": {},
   "outputs": [
    {
     "data": {
      "text/plain": [
       "<AxesSubplot:>"
      ]
     },
     "execution_count": 85,
     "metadata": {},
     "output_type": "execute_result"
    },
    {
     "data": {
      "image/png": "[encoded data removed]",
      "text/plain": [
       "<Figure size 432x288 with 1 Axes>"
      ]
     },
     "metadata": {
      "needs_background": "light"
     },
     "output_type": "display_data"
    }
   ],
   "source": [
    "df_train['primary_cleaner_output_concentrate_sum'] = df_train[['primary_cleaner.output.concentrate_ag','primary_cleaner.output.concentrate_pb',\n",
    "              'primary_cleaner.output.concentrate_sol','primary_cleaner.output.concentrate_au']].sum(1)\n",
    "df_train['primary_cleaner_output_concentrate_sum'].hist(bins=100)"
   ]
  },
  {
   "cell_type": "code",
   "execution_count": 86,
   "metadata": {},
   "outputs": [
    {
     "data": {
      "text/plain": [
       "<AxesSubplot:>"
      ]
     },
     "execution_count": 86,
     "metadata": {},
     "output_type": "execute_result"
    },
    {
     "data": {
      "image/png": "[encoded data removed]",
      "text/plain": [
       "<Figure size 432x288 with 1 Axes>"
      ]
     },
     "metadata": {
      "needs_background": "light"
     },
     "output_type": "display_data"
    }
   ],
   "source": [
    "df_train['final_output_concentrate_sum'] = df_train[['final.output.concentrate_ag',\n",
    "                                                     'final.output.concentrate_pb',\n",
    "                                                     'final.output.concentrate_sol',\n",
    "                                                     'final.output.concentrate_au']].sum(1)\n",
    "df_train['final_output_concentrate_sum'].hist(bins=100)"
   ]
  },
  {
   "cell_type": "code",
   "execution_count": 87,
   "metadata": {},
   "outputs": [
    {
     "name": "stdout",
     "output_type": "stream",
     "text": [
      "<class 'pandas.core.frame.DataFrame'>\n",
      "RangeIndex: 14149 entries, 0 to 14148\n",
      "Data columns (total 92 columns):\n",
      " #   Column                                              Non-Null Count  Dtype  \n",
      "---  ------                                              --------------  -----  \n",
      " 0   date                                                14149 non-null  object \n",
      " 1   final.output.concentrate_ag                         14149 non-null  float64\n",
      " 2   final.output.concentrate_pb                         14149 non-null  float64\n",
      " 3   final.output.concentrate_sol                        14149 non-null  float64\n",
      " 4   final.output.concentrate_au                         14149 non-null  float64\n",
      " 5   final.output.recovery                               14149 non-null  float64\n",
      " 6   final.output.tail_ag                                14149 non-null  float64\n",
      " 7   final.output.tail_pb                                14149 non-null  float64\n",
      " 8   final.output.tail_sol                               14149 non-null  float64\n",
      " 9   final.output.tail_au                                14149 non-null  float64\n",
      " 10  primary_cleaner.input.sulfate                       14149 non-null  float64\n",
      " 11  primary_cleaner.input.depressant                    14149 non-null  float64\n",
      " 12  primary_cleaner.input.feed_size                     14149 non-null  float64\n",
      " 13  primary_cleaner.input.xanthate                      14149 non-null  float64\n",
      " 14  primary_cleaner.output.concentrate_ag               14149 non-null  float64\n",
      " 15  primary_cleaner.output.concentrate_pb               14149 non-null  float64\n",
      " 16  primary_cleaner.output.concentrate_sol              14149 non-null  float64\n",
      " 17  primary_cleaner.output.concentrate_au               14149 non-null  float64\n",
      " 18  primary_cleaner.output.tail_ag                      14149 non-null  float64\n",
      " 19  primary_cleaner.output.tail_pb                      14149 non-null  float64\n",
      " 20  primary_cleaner.output.tail_sol                     14149 non-null  float64\n",
      " 21  primary_cleaner.output.tail_au                      14149 non-null  float64\n",
      " 22  primary_cleaner.state.floatbank8_a_air              14149 non-null  float64\n",
      " 23  primary_cleaner.state.floatbank8_a_level            14149 non-null  float64\n",
      " 24  primary_cleaner.state.floatbank8_b_air              14149 non-null  float64\n",
      " 25  primary_cleaner.state.floatbank8_b_level            14149 non-null  float64\n",
      " 26  primary_cleaner.state.floatbank8_c_air              14149 non-null  float64\n",
      " 27  primary_cleaner.state.floatbank8_c_level            14149 non-null  float64\n",
      " 28  primary_cleaner.state.floatbank8_d_air              14149 non-null  float64\n",
      " 29  primary_cleaner.state.floatbank8_d_level            14149 non-null  float64\n",
      " 30  rougher.calculation.sulfate_to_au_concentrate       14149 non-null  float64\n",
      " 31  rougher.calculation.floatbank10_sulfate_to_au_feed  14149 non-null  float64\n",
      " 32  rougher.calculation.floatbank11_sulfate_to_au_feed  14149 non-null  float64\n",
      " 33  rougher.calculation.au_pb_ratio                     14149 non-null  float64\n",
      " 34  rougher.input.feed_ag                               14149 non-null  float64\n",
      " 35  rougher.input.feed_pb                               14149 non-null  float64\n",
      " 36  rougher.input.feed_rate                             14149 non-null  float64\n",
      " 37  rougher.input.feed_size                             14149 non-null  float64\n",
      " 38  rougher.input.feed_sol                              14149 non-null  float64\n",
      " 39  rougher.input.feed_au                               14149 non-null  float64\n",
      " 40  rougher.input.floatbank10_sulfate                   14149 non-null  float64\n",
      " 41  rougher.input.floatbank10_xanthate                  14149 non-null  float64\n",
      " 42  rougher.input.floatbank11_sulfate                   14149 non-null  float64\n",
      " 43  rougher.input.floatbank11_xanthate                  14149 non-null  float64\n",
      " 44  rougher.output.concentrate_ag                       14149 non-null  float64\n",
      " 45  rougher.output.concentrate_pb                       14149 non-null  float64\n",
      " 46  rougher.output.concentrate_sol                      14149 non-null  float64\n",
      " 47  rougher.output.concentrate_au                       14149 non-null  float64\n",
      " 48  rougher.output.recovery                             14149 non-null  float64\n",
      " 49  rougher.output.tail_ag                              14149 non-null  float64\n",
      " 50  rougher.output.tail_pb                              14149 non-null  float64\n",
      " 51  rougher.output.tail_sol                             14149 non-null  float64\n",
      " 52  rougher.output.tail_au                              14149 non-null  float64\n",
      " 53  rougher.state.floatbank10_a_air                     14149 non-null  float64\n",
      " 54  rougher.state.floatbank10_a_level                   14149 non-null  float64\n",
      " 55  rougher.state.floatbank10_b_air                     14149 non-null  float64\n",
      " 56  rougher.state.floatbank10_b_level                   14149 non-null  float64\n",
      " 57  rougher.state.floatbank10_c_air                     14149 non-null  float64\n",
      " 58  rougher.state.floatbank10_c_level                   14149 non-null  float64\n",
      " 59  rougher.state.floatbank10_d_air                     14149 non-null  float64\n",
      " 60  rougher.state.floatbank10_d_level                   14149 non-null  float64\n",
      " 61  rougher.state.floatbank10_e_air                     14149 non-null  float64\n",
      " 62  rougher.state.floatbank10_e_level                   14149 non-null  float64\n",
      " 63  rougher.state.floatbank10_f_air                     14149 non-null  float64\n",
      " 64  rougher.state.floatbank10_f_level                   14149 non-null  float64\n",
      " 65  secondary_cleaner.output.tail_ag                    14149 non-null  float64\n",
      " 66  secondary_cleaner.output.tail_pb                    14149 non-null  float64\n",
      " 67  secondary_cleaner.output.tail_sol                   14149 non-null  float64\n",
      " 68  secondary_cleaner.output.tail_au                    14149 non-null  float64\n",
      " 69  secondary_cleaner.state.floatbank2_a_air            14149 non-null  float64\n",
      " 70  secondary_cleaner.state.floatbank2_a_level          14149 non-null  float64\n",
      " 71  secondary_cleaner.state.floatbank2_b_air            14149 non-null  float64\n",
      " 72  secondary_cleaner.state.floatbank2_b_level          14149 non-null  float64\n",
      " 73  secondary_cleaner.state.floatbank3_a_air            14149 non-null  float64\n",
      " 74  secondary_cleaner.state.floatbank3_a_level          14149 non-null  float64\n",
      " 75  secondary_cleaner.state.floatbank3_b_air            14149 non-null  float64\n",
      " 76  secondary_cleaner.state.floatbank3_b_level          14149 non-null  float64\n",
      " 77  secondary_cleaner.state.floatbank4_a_air            14149 non-null  float64\n",
      " 78  secondary_cleaner.state.floatbank4_a_level          14149 non-null  float64\n",
      " 79  secondary_cleaner.state.floatbank4_b_air            14149 non-null  float64\n",
      " 80  secondary_cleaner.state.floatbank4_b_level          14149 non-null  float64\n",
      " 81  secondary_cleaner.state.floatbank5_a_air            14149 non-null  float64\n",
      " 82  secondary_cleaner.state.floatbank5_a_level          14149 non-null  float64\n",
      " 83  secondary_cleaner.state.floatbank5_b_air            14149 non-null  float64\n",
      " 84  secondary_cleaner.state.floatbank5_b_level          14149 non-null  float64\n",
      " 85  secondary_cleaner.state.floatbank6_a_air            14149 non-null  float64\n",
      " 86  secondary_cleaner.state.floatbank6_a_level          14149 non-null  float64\n",
      " 87  recovery                                            14149 non-null  float64\n",
      " 88  rougher_input_feed_sum                              14149 non-null  float64\n",
      " 89  rougher_output_concentrate_sum                      14149 non-null  float64\n",
      " 90  primary_cleaner_output_concentrate_sum              14149 non-null  float64\n",
      " 91  final_output_concentrate_sum                        14149 non-null  float64\n",
      "dtypes: float64(91), object(1)\n",
      "memory usage: 9.9+ MB\n"
     ]
    }
   ],
   "source": [
    "df_train.info()"
   ]
  },
  {
   "cell_type": "code",
   "execution_count": 88,
   "metadata": {},
   "outputs": [],
   "source": [
    "df_train.query('final_output_concentrate_sum > 0 and primary_cleaner_output_concentrate_sum > 0 and rougher_output_concentrate_sum > 0 and rougher_input_feed_sum > 0'\n",
    "                          , inplace = True) \n"
   ]
  },
  {
   "cell_type": "code",
   "execution_count": 89,
   "metadata": {},
   "outputs": [
    {
     "name": "stdout",
     "output_type": "stream",
     "text": [
      "<class 'pandas.core.frame.DataFrame'>\n",
      "Int64Index: 13725 entries, 0 to 14148\n",
      "Data columns (total 92 columns):\n",
      " #   Column                                              Non-Null Count  Dtype  \n",
      "---  ------                                              --------------  -----  \n",
      " 0   date                                                13725 non-null  object \n",
      " 1   final.output.concentrate_ag                         13725 non-null  float64\n",
      " 2   final.output.concentrate_pb                         13725 non-null  float64\n",
      " 3   final.output.concentrate_sol                        13725 non-null  float64\n",
      " 4   final.output.concentrate_au                         13725 non-null  float64\n",
      " 5   final.output.recovery                               13725 non-null  float64\n",
      " 6   final.output.tail_ag                                13725 non-null  float64\n",
      " 7   final.output.tail_pb                                13725 non-null  float64\n",
      " 8   final.output.tail_sol                               13725 non-null  float64\n",
      " 9   final.output.tail_au                                13725 non-null  float64\n",
      " 10  primary_cleaner.input.sulfate                       13725 non-null  float64\n",
      " 11  primary_cleaner.input.depressant                    13725 non-null  float64\n",
      " 12  primary_cleaner.input.feed_size                     13725 non-null  float64\n",
      " 13  primary_cleaner.input.xanthate                      13725 non-null  float64\n",
      " 14  primary_cleaner.output.concentrate_ag               13725 non-null  float64\n",
      " 15  primary_cleaner.output.concentrate_pb               13725 non-null  float64\n",
      " 16  primary_cleaner.output.concentrate_sol              13725 non-null  float64\n",
      " 17  primary_cleaner.output.concentrate_au               13725 non-null  float64\n",
      " 18  primary_cleaner.output.tail_ag                      13725 non-null  float64\n",
      " 19  primary_cleaner.output.tail_pb                      13725 non-null  float64\n",
      " 20  primary_cleaner.output.tail_sol                     13725 non-null  float64\n",
      " 21  primary_cleaner.output.tail_au                      13725 non-null  float64\n",
      " 22  primary_cleaner.state.floatbank8_a_air              13725 non-null  float64\n",
      " 23  primary_cleaner.state.floatbank8_a_level            13725 non-null  float64\n",
      " 24  primary_cleaner.state.floatbank8_b_air              13725 non-null  float64\n",
      " 25  primary_cleaner.state.floatbank8_b_level            13725 non-null  float64\n",
      " 26  primary_cleaner.state.floatbank8_c_air              13725 non-null  float64\n",
      " 27  primary_cleaner.state.floatbank8_c_level            13725 non-null  float64\n",
      " 28  primary_cleaner.state.floatbank8_d_air              13725 non-null  float64\n",
      " 29  primary_cleaner.state.floatbank8_d_level            13725 non-null  float64\n",
      " 30  rougher.calculation.sulfate_to_au_concentrate       13725 non-null  float64\n",
      " 31  rougher.calculation.floatbank10_sulfate_to_au_feed  13725 non-null  float64\n",
      " 32  rougher.calculation.floatbank11_sulfate_to_au_feed  13725 non-null  float64\n",
      " 33  rougher.calculation.au_pb_ratio                     13725 non-null  float64\n",
      " 34  rougher.input.feed_ag                               13725 non-null  float64\n",
      " 35  rougher.input.feed_pb                               13725 non-null  float64\n",
      " 36  rougher.input.feed_rate                             13725 non-null  float64\n",
      " 37  rougher.input.feed_size                             13725 non-null  float64\n",
      " 38  rougher.input.feed_sol                              13725 non-null  float64\n",
      " 39  rougher.input.feed_au                               13725 non-null  float64\n",
      " 40  rougher.input.floatbank10_sulfate                   13725 non-null  float64\n",
      " 41  rougher.input.floatbank10_xanthate                  13725 non-null  float64\n",
      " 42  rougher.input.floatbank11_sulfate                   13725 non-null  float64\n",
      " 43  rougher.input.floatbank11_xanthate                  13725 non-null  float64\n",
      " 44  rougher.output.concentrate_ag                       13725 non-null  float64\n",
      " 45  rougher.output.concentrate_pb                       13725 non-null  float64\n",
      " 46  rougher.output.concentrate_sol                      13725 non-null  float64\n",
      " 47  rougher.output.concentrate_au                       13725 non-null  float64\n",
      " 48  rougher.output.recovery                             13725 non-null  float64\n",
      " 49  rougher.output.tail_ag                              13725 non-null  float64\n",
      " 50  rougher.output.tail_pb                              13725 non-null  float64\n",
      " 51  rougher.output.tail_sol                             13725 non-null  float64\n",
      " 52  rougher.output.tail_au                              13725 non-null  float64\n",
      " 53  rougher.state.floatbank10_a_air                     13725 non-null  float64\n",
      " 54  rougher.state.floatbank10_a_level                   13725 non-null  float64\n",
      " 55  rougher.state.floatbank10_b_air                     13725 non-null  float64\n",
      " 56  rougher.state.floatbank10_b_level                   13725 non-null  float64\n",
      " 57  rougher.state.floatbank10_c_air                     13725 non-null  float64\n",
      " 58  rougher.state.floatbank10_c_level                   13725 non-null  float64\n",
      " 59  rougher.state.floatbank10_d_air                     13725 non-null  float64\n",
      " 60  rougher.state.floatbank10_d_level                   13725 non-null  float64\n",
      " 61  rougher.state.floatbank10_e_air                     13725 non-null  float64\n",
      " 62  rougher.state.floatbank10_e_level                   13725 non-null  float64\n",
      " 63  rougher.state.floatbank10_f_air                     13725 non-null  float64\n",
      " 64  rougher.state.floatbank10_f_level                   13725 non-null  float64\n",
      " 65  secondary_cleaner.output.tail_ag                    13725 non-null  float64\n",
      " 66  secondary_cleaner.output.tail_pb                    13725 non-null  float64\n",
      " 67  secondary_cleaner.output.tail_sol                   13725 non-null  float64\n",
      " 68  secondary_cleaner.output.tail_au                    13725 non-null  float64\n",
      " 69  secondary_cleaner.state.floatbank2_a_air            13725 non-null  float64\n",
      " 70  secondary_cleaner.state.floatbank2_a_level          13725 non-null  float64\n",
      " 71  secondary_cleaner.state.floatbank2_b_air            13725 non-null  float64\n",
      " 72  secondary_cleaner.state.floatbank2_b_level          13725 non-null  float64\n",
      " 73  secondary_cleaner.state.floatbank3_a_air            13725 non-null  float64\n",
      " 74  secondary_cleaner.state.floatbank3_a_level          13725 non-null  float64\n",
      " 75  secondary_cleaner.state.floatbank3_b_air            13725 non-null  float64\n",
      " 76  secondary_cleaner.state.floatbank3_b_level          13725 non-null  float64\n",
      " 77  secondary_cleaner.state.floatbank4_a_air            13725 non-null  float64\n",
      " 78  secondary_cleaner.state.floatbank4_a_level          13725 non-null  float64\n",
      " 79  secondary_cleaner.state.floatbank4_b_air            13725 non-null  float64\n",
      " 80  secondary_cleaner.state.floatbank4_b_level          13725 non-null  float64\n",
      " 81  secondary_cleaner.state.floatbank5_a_air            13725 non-null  float64\n",
      " 82  secondary_cleaner.state.floatbank5_a_level          13725 non-null  float64\n",
      " 83  secondary_cleaner.state.floatbank5_b_air            13725 non-null  float64\n",
      " 84  secondary_cleaner.state.floatbank5_b_level          13725 non-null  float64\n",
      " 85  secondary_cleaner.state.floatbank6_a_air            13725 non-null  float64\n",
      " 86  secondary_cleaner.state.floatbank6_a_level          13725 non-null  float64\n",
      " 87  recovery                                            13725 non-null  float64\n",
      " 88  rougher_input_feed_sum                              13725 non-null  float64\n",
      " 89  rougher_output_concentrate_sum                      13725 non-null  float64\n",
      " 90  primary_cleaner_output_concentrate_sum              13725 non-null  float64\n",
      " 91  final_output_concentrate_sum                        13725 non-null  float64\n",
      "dtypes: float64(91), object(1)\n",
      "memory usage: 9.7+ MB\n"
     ]
    }
   ],
   "source": [
    "df_train.info()"
   ]
  },
  {
   "cell_type": "markdown",
   "metadata": {},
   "source": [
    "На разных стадиях суммарная концентрация веществ была 0.Нулевые выбросы составляли около 3%"
   ]
  },
  {
   "cell_type": "markdown",
   "metadata": {},
   "source": [
    "## Модель"
   ]
  },
  {
   "cell_type": "markdown",
   "metadata": {},
   "source": [
    "### Функция для вычисления итоговой sMAPE"
   ]
  },
  {
   "cell_type": "code",
   "execution_count": 90,
   "metadata": {},
   "outputs": [],
   "source": [
    "def smape (target,predictions):\n",
    "    predictions_rougher = predictions[:,0]\n",
    "    target_rougher = np.array(target)[:,0]\n",
    "    predictions_final = predictions[:,1]\n",
    "    target_final = np.array(target)[:,1]\n",
    "    \n",
    "    \n",
    "    smape_rougher = abs(target_rougher -predictions_rougher)/(abs(target_rougher) + abs(predictions_rougher))/2\n",
    "    smape_rougher = (sum(smape_rougher) * 100)/ len(smape_rougher)\n",
    "    smape_final = abs(target_final - predictions_final)/(abs(target_final)+abs(predictions_final))/2\n",
    "    smape_final = (sum(smape_final) * 100)/ len(smape_final)\n",
    "    smape =  0.25*smape_rougher + 0.75*smape_final\n",
    "    return smape"
   ]
  },
  {
   "cell_type": "markdown",
   "metadata": {},
   "source": [
    "### Обучение разных моделей и оценка их качество кросс-валидацией. Выберите лучшую модель и проверьте её на тестовой выборке. "
   ]
  },
  {
   "cell_type": "code",
   "execution_count": 36,
   "metadata": {},
   "outputs": [
    {
     "data": {
      "text/html": [
       "<div>\n",
       "<style scoped>\n",
       "    .dataframe tbody tr th:only-of-type {\n",
       "        vertical-align: middle;\n",
       "    }\n",
       "\n",
       "    .dataframe tbody tr th {\n",
       "        vertical-align: top;\n",
       "    }\n",
       "\n",
       "    .dataframe thead th {\n",
       "        text-align: right;\n",
       "    }\n",
       "</style>\n",
       "<table border=\"1\" class=\"dataframe\">\n",
       "  <thead>\n",
       "    <tr style=\"text-align: right;\">\n",
       "      <th></th>\n",
       "      <th>date</th>\n",
       "      <th>primary_cleaner.input.sulfate</th>\n",
       "      <th>primary_cleaner.input.depressant</th>\n",
       "      <th>primary_cleaner.input.feed_size</th>\n",
       "      <th>primary_cleaner.input.xanthate</th>\n",
       "      <th>primary_cleaner.state.floatbank8_a_air</th>\n",
       "      <th>primary_cleaner.state.floatbank8_a_level</th>\n",
       "      <th>primary_cleaner.state.floatbank8_b_air</th>\n",
       "      <th>primary_cleaner.state.floatbank8_b_level</th>\n",
       "      <th>primary_cleaner.state.floatbank8_c_air</th>\n",
       "      <th>...</th>\n",
       "      <th>secondary_cleaner.state.floatbank4_b_air</th>\n",
       "      <th>secondary_cleaner.state.floatbank4_b_level</th>\n",
       "      <th>secondary_cleaner.state.floatbank5_a_air</th>\n",
       "      <th>secondary_cleaner.state.floatbank5_a_level</th>\n",
       "      <th>secondary_cleaner.state.floatbank5_b_air</th>\n",
       "      <th>secondary_cleaner.state.floatbank5_b_level</th>\n",
       "      <th>secondary_cleaner.state.floatbank6_a_air</th>\n",
       "      <th>secondary_cleaner.state.floatbank6_a_level</th>\n",
       "      <th>final.output.recovery</th>\n",
       "      <th>rougher.output.recovery</th>\n",
       "    </tr>\n",
       "  </thead>\n",
       "  <tbody>\n",
       "    <tr>\n",
       "      <th>0</th>\n",
       "      <td>2016-01-15 00:00:00</td>\n",
       "      <td>127.092003</td>\n",
       "      <td>10.128295</td>\n",
       "      <td>7.25</td>\n",
       "      <td>0.988759</td>\n",
       "      <td>1549.775757</td>\n",
       "      <td>-498.912140</td>\n",
       "      <td>1551.434204</td>\n",
       "      <td>-516.403442</td>\n",
       "      <td>1549.873901</td>\n",
       "      <td>...</td>\n",
       "      <td>12.099931</td>\n",
       "      <td>-504.715942</td>\n",
       "      <td>9.925633</td>\n",
       "      <td>-498.310211</td>\n",
       "      <td>8.079666</td>\n",
       "      <td>-500.470978</td>\n",
       "      <td>14.151341</td>\n",
       "      <td>-605.841980</td>\n",
       "      <td>70.541216</td>\n",
       "      <td>87.107763</td>\n",
       "    </tr>\n",
       "    <tr>\n",
       "      <th>1</th>\n",
       "      <td>2016-01-15 01:00:00</td>\n",
       "      <td>125.629232</td>\n",
       "      <td>10.296251</td>\n",
       "      <td>7.25</td>\n",
       "      <td>1.002663</td>\n",
       "      <td>1576.166671</td>\n",
       "      <td>-500.904965</td>\n",
       "      <td>1575.950626</td>\n",
       "      <td>-499.865889</td>\n",
       "      <td>1575.994189</td>\n",
       "      <td>...</td>\n",
       "      <td>11.950531</td>\n",
       "      <td>-501.331529</td>\n",
       "      <td>10.039245</td>\n",
       "      <td>-500.169983</td>\n",
       "      <td>7.984757</td>\n",
       "      <td>-500.582168</td>\n",
       "      <td>13.998353</td>\n",
       "      <td>-599.787184</td>\n",
       "      <td>69.266198</td>\n",
       "      <td>86.843261</td>\n",
       "    </tr>\n",
       "    <tr>\n",
       "      <th>2</th>\n",
       "      <td>2016-01-15 02:00:00</td>\n",
       "      <td>123.819808</td>\n",
       "      <td>11.316280</td>\n",
       "      <td>7.25</td>\n",
       "      <td>0.991265</td>\n",
       "      <td>1601.556163</td>\n",
       "      <td>-499.997791</td>\n",
       "      <td>1600.386685</td>\n",
       "      <td>-500.607762</td>\n",
       "      <td>1602.003542</td>\n",
       "      <td>...</td>\n",
       "      <td>11.912783</td>\n",
       "      <td>-501.133383</td>\n",
       "      <td>10.070913</td>\n",
       "      <td>-500.129135</td>\n",
       "      <td>8.013877</td>\n",
       "      <td>-500.517572</td>\n",
       "      <td>14.028663</td>\n",
       "      <td>-601.427363</td>\n",
       "      <td>68.116445</td>\n",
       "      <td>86.842308</td>\n",
       "    </tr>\n",
       "    <tr>\n",
       "      <th>3</th>\n",
       "      <td>2016-01-15 03:00:00</td>\n",
       "      <td>122.270188</td>\n",
       "      <td>11.322140</td>\n",
       "      <td>7.25</td>\n",
       "      <td>0.996739</td>\n",
       "      <td>1599.968720</td>\n",
       "      <td>-500.951778</td>\n",
       "      <td>1600.659236</td>\n",
       "      <td>-499.677094</td>\n",
       "      <td>1600.304144</td>\n",
       "      <td>...</td>\n",
       "      <td>11.999550</td>\n",
       "      <td>-501.193686</td>\n",
       "      <td>9.970366</td>\n",
       "      <td>-499.201640</td>\n",
       "      <td>7.977324</td>\n",
       "      <td>-500.255908</td>\n",
       "      <td>14.005551</td>\n",
       "      <td>-599.996129</td>\n",
       "      <td>68.347543</td>\n",
       "      <td>87.226430</td>\n",
       "    </tr>\n",
       "    <tr>\n",
       "      <th>4</th>\n",
       "      <td>2016-01-15 04:00:00</td>\n",
       "      <td>117.988169</td>\n",
       "      <td>11.913613</td>\n",
       "      <td>7.25</td>\n",
       "      <td>1.009869</td>\n",
       "      <td>1601.339707</td>\n",
       "      <td>-498.975456</td>\n",
       "      <td>1601.437854</td>\n",
       "      <td>-500.323246</td>\n",
       "      <td>1599.581894</td>\n",
       "      <td>...</td>\n",
       "      <td>11.953070</td>\n",
       "      <td>-501.053894</td>\n",
       "      <td>9.925709</td>\n",
       "      <td>-501.686727</td>\n",
       "      <td>7.894242</td>\n",
       "      <td>-500.356035</td>\n",
       "      <td>13.996647</td>\n",
       "      <td>-601.496691</td>\n",
       "      <td>66.927016</td>\n",
       "      <td>86.688794</td>\n",
       "    </tr>\n",
       "    <tr>\n",
       "      <th>...</th>\n",
       "      <td>...</td>\n",
       "      <td>...</td>\n",
       "      <td>...</td>\n",
       "      <td>...</td>\n",
       "      <td>...</td>\n",
       "      <td>...</td>\n",
       "      <td>...</td>\n",
       "      <td>...</td>\n",
       "      <td>...</td>\n",
       "      <td>...</td>\n",
       "      <td>...</td>\n",
       "      <td>...</td>\n",
       "      <td>...</td>\n",
       "      <td>...</td>\n",
       "      <td>...</td>\n",
       "      <td>...</td>\n",
       "      <td>...</td>\n",
       "      <td>...</td>\n",
       "      <td>...</td>\n",
       "      <td>...</td>\n",
       "      <td>...</td>\n",
       "    </tr>\n",
       "    <tr>\n",
       "      <th>5285</th>\n",
       "      <td>2016-10-05 11:59:59</td>\n",
       "      <td>176.784985</td>\n",
       "      <td>3.973467</td>\n",
       "      <td>7.90</td>\n",
       "      <td>0.696449</td>\n",
       "      <td>1650.456016</td>\n",
       "      <td>-500.060026</td>\n",
       "      <td>1652.679159</td>\n",
       "      <td>-499.767057</td>\n",
       "      <td>1652.175644</td>\n",
       "      <td>...</td>\n",
       "      <td>13.013075</td>\n",
       "      <td>-498.090013</td>\n",
       "      <td>10.247711</td>\n",
       "      <td>-500.610413</td>\n",
       "      <td>8.019958</td>\n",
       "      <td>-500.831979</td>\n",
       "      <td>22.978282</td>\n",
       "      <td>-500.539111</td>\n",
       "      <td>64.948104</td>\n",
       "      <td>87.837931</td>\n",
       "    </tr>\n",
       "    <tr>\n",
       "      <th>5286</th>\n",
       "      <td>2016-10-05 12:59:59</td>\n",
       "      <td>146.853107</td>\n",
       "      <td>4.052811</td>\n",
       "      <td>7.90</td>\n",
       "      <td>0.702597</td>\n",
       "      <td>1649.712867</td>\n",
       "      <td>-500.687334</td>\n",
       "      <td>1649.458421</td>\n",
       "      <td>-498.500111</td>\n",
       "      <td>1651.220499</td>\n",
       "      <td>...</td>\n",
       "      <td>13.010903</td>\n",
       "      <td>-503.994917</td>\n",
       "      <td>10.377915</td>\n",
       "      <td>-502.403176</td>\n",
       "      <td>8.026704</td>\n",
       "      <td>-499.441425</td>\n",
       "      <td>22.924731</td>\n",
       "      <td>-500.793659</td>\n",
       "      <td>69.161741</td>\n",
       "      <td>88.164912</td>\n",
       "    </tr>\n",
       "    <tr>\n",
       "      <th>5287</th>\n",
       "      <td>2016-10-05 13:59:59</td>\n",
       "      <td>139.107186</td>\n",
       "      <td>3.990775</td>\n",
       "      <td>7.90</td>\n",
       "      <td>0.708235</td>\n",
       "      <td>1648.910259</td>\n",
       "      <td>-499.510005</td>\n",
       "      <td>1649.911890</td>\n",
       "      <td>-499.975091</td>\n",
       "      <td>1651.832422</td>\n",
       "      <td>...</td>\n",
       "      <td>13.047292</td>\n",
       "      <td>-499.887647</td>\n",
       "      <td>10.156377</td>\n",
       "      <td>-496.754539</td>\n",
       "      <td>8.101550</td>\n",
       "      <td>-498.995886</td>\n",
       "      <td>22.986707</td>\n",
       "      <td>-497.613423</td>\n",
       "      <td>68.821663</td>\n",
       "      <td>86.169553</td>\n",
       "    </tr>\n",
       "    <tr>\n",
       "      <th>5288</th>\n",
       "      <td>2016-10-05 14:59:59</td>\n",
       "      <td>140.007101</td>\n",
       "      <td>3.979277</td>\n",
       "      <td>7.70</td>\n",
       "      <td>0.708514</td>\n",
       "      <td>1647.365841</td>\n",
       "      <td>-500.171743</td>\n",
       "      <td>1649.768811</td>\n",
       "      <td>-501.620993</td>\n",
       "      <td>1652.650901</td>\n",
       "      <td>...</td>\n",
       "      <td>13.056807</td>\n",
       "      <td>-499.620543</td>\n",
       "      <td>10.153498</td>\n",
       "      <td>-499.344968</td>\n",
       "      <td>8.081079</td>\n",
       "      <td>-500.251137</td>\n",
       "      <td>23.003805</td>\n",
       "      <td>-502.176509</td>\n",
       "      <td>65.828202</td>\n",
       "      <td>87.176137</td>\n",
       "    </tr>\n",
       "    <tr>\n",
       "      <th>5289</th>\n",
       "      <td>2016-10-05 15:59:59</td>\n",
       "      <td>135.307942</td>\n",
       "      <td>4.049922</td>\n",
       "      <td>7.70</td>\n",
       "      <td>0.708050</td>\n",
       "      <td>1650.953954</td>\n",
       "      <td>-499.990959</td>\n",
       "      <td>1652.224774</td>\n",
       "      <td>-499.767533</td>\n",
       "      <td>1650.981905</td>\n",
       "      <td>...</td>\n",
       "      <td>13.066322</td>\n",
       "      <td>-497.990275</td>\n",
       "      <td>10.155902</td>\n",
       "      <td>-500.635179</td>\n",
       "      <td>8.018280</td>\n",
       "      <td>-500.849959</td>\n",
       "      <td>23.038458</td>\n",
       "      <td>-499.867281</td>\n",
       "      <td>66.985033</td>\n",
       "      <td>87.908066</td>\n",
       "    </tr>\n",
       "  </tbody>\n",
       "</table>\n",
       "<p>5290 rows × 55 columns</p>\n",
       "</div>"
      ],
      "text/plain": [
       "                     date  primary_cleaner.input.sulfate  \\\n",
       "0     2016-01-15 00:00:00                     127.092003   \n",
       "1     2016-01-15 01:00:00                     125.629232   \n",
       "2     2016-01-15 02:00:00                     123.819808   \n",
       "3     2016-01-15 03:00:00                     122.270188   \n",
       "4     2016-01-15 04:00:00                     117.988169   \n",
       "...                   ...                            ...   \n",
       "5285  2016-10-05 11:59:59                     176.784985   \n",
       "5286  2016-10-05 12:59:59                     146.853107   \n",
       "5287  2016-10-05 13:59:59                     139.107186   \n",
       "5288  2016-10-05 14:59:59                     140.007101   \n",
       "5289  2016-10-05 15:59:59                     135.307942   \n",
       "\n",
       "      primary_cleaner.input.depressant  primary_cleaner.input.feed_size  \\\n",
       "0                            10.128295                             7.25   \n",
       "1                            10.296251                             7.25   \n",
       "2                            11.316280                             7.25   \n",
       "3                            11.322140                             7.25   \n",
       "4                            11.913613                             7.25   \n",
       "...                                ...                              ...   \n",
       "5285                          3.973467                             7.90   \n",
       "5286                          4.052811                             7.90   \n",
       "5287                          3.990775                             7.90   \n",
       "5288                          3.979277                             7.70   \n",
       "5289                          4.049922                             7.70   \n",
       "\n",
       "      primary_cleaner.input.xanthate  primary_cleaner.state.floatbank8_a_air  \\\n",
       "0                           0.988759                             1549.775757   \n",
       "1                           1.002663                             1576.166671   \n",
       "2                           0.991265                             1601.556163   \n",
       "3                           0.996739                             1599.968720   \n",
       "4                           1.009869                             1601.339707   \n",
       "...                              ...                                     ...   \n",
       "5285                        0.696449                             1650.456016   \n",
       "5286                        0.702597                             1649.712867   \n",
       "5287                        0.708235                             1648.910259   \n",
       "5288                        0.708514                             1647.365841   \n",
       "5289                        0.708050                             1650.953954   \n",
       "\n",
       "      primary_cleaner.state.floatbank8_a_level  \\\n",
       "0                                  -498.912140   \n",
       "1                                  -500.904965   \n",
       "2                                  -499.997791   \n",
       "3                                  -500.951778   \n",
       "4                                  -498.975456   \n",
       "...                                        ...   \n",
       "5285                               -500.060026   \n",
       "5286                               -500.687334   \n",
       "5287                               -499.510005   \n",
       "5288                               -500.171743   \n",
       "5289                               -499.990959   \n",
       "\n",
       "      primary_cleaner.state.floatbank8_b_air  \\\n",
       "0                                1551.434204   \n",
       "1                                1575.950626   \n",
       "2                                1600.386685   \n",
       "3                                1600.659236   \n",
       "4                                1601.437854   \n",
       "...                                      ...   \n",
       "5285                             1652.679159   \n",
       "5286                             1649.458421   \n",
       "5287                             1649.911890   \n",
       "5288                             1649.768811   \n",
       "5289                             1652.224774   \n",
       "\n",
       "      primary_cleaner.state.floatbank8_b_level  \\\n",
       "0                                  -516.403442   \n",
       "1                                  -499.865889   \n",
       "2                                  -500.607762   \n",
       "3                                  -499.677094   \n",
       "4                                  -500.323246   \n",
       "...                                        ...   \n",
       "5285                               -499.767057   \n",
       "5286                               -498.500111   \n",
       "5287                               -499.975091   \n",
       "5288                               -501.620993   \n",
       "5289                               -499.767533   \n",
       "\n",
       "      primary_cleaner.state.floatbank8_c_air  ...  \\\n",
       "0                                1549.873901  ...   \n",
       "1                                1575.994189  ...   \n",
       "2                                1602.003542  ...   \n",
       "3                                1600.304144  ...   \n",
       "4                                1599.581894  ...   \n",
       "...                                      ...  ...   \n",
       "5285                             1652.175644  ...   \n",
       "5286                             1651.220499  ...   \n",
       "5287                             1651.832422  ...   \n",
       "5288                             1652.650901  ...   \n",
       "5289                             1650.981905  ...   \n",
       "\n",
       "      secondary_cleaner.state.floatbank4_b_air  \\\n",
       "0                                    12.099931   \n",
       "1                                    11.950531   \n",
       "2                                    11.912783   \n",
       "3                                    11.999550   \n",
       "4                                    11.953070   \n",
       "...                                        ...   \n",
       "5285                                 13.013075   \n",
       "5286                                 13.010903   \n",
       "5287                                 13.047292   \n",
       "5288                                 13.056807   \n",
       "5289                                 13.066322   \n",
       "\n",
       "      secondary_cleaner.state.floatbank4_b_level  \\\n",
       "0                                    -504.715942   \n",
       "1                                    -501.331529   \n",
       "2                                    -501.133383   \n",
       "3                                    -501.193686   \n",
       "4                                    -501.053894   \n",
       "...                                          ...   \n",
       "5285                                 -498.090013   \n",
       "5286                                 -503.994917   \n",
       "5287                                 -499.887647   \n",
       "5288                                 -499.620543   \n",
       "5289                                 -497.990275   \n",
       "\n",
       "      secondary_cleaner.state.floatbank5_a_air  \\\n",
       "0                                     9.925633   \n",
       "1                                    10.039245   \n",
       "2                                    10.070913   \n",
       "3                                     9.970366   \n",
       "4                                     9.925709   \n",
       "...                                        ...   \n",
       "5285                                 10.247711   \n",
       "5286                                 10.377915   \n",
       "5287                                 10.156377   \n",
       "5288                                 10.153498   \n",
       "5289                                 10.155902   \n",
       "\n",
       "      secondary_cleaner.state.floatbank5_a_level  \\\n",
       "0                                    -498.310211   \n",
       "1                                    -500.169983   \n",
       "2                                    -500.129135   \n",
       "3                                    -499.201640   \n",
       "4                                    -501.686727   \n",
       "...                                          ...   \n",
       "5285                                 -500.610413   \n",
       "5286                                 -502.403176   \n",
       "5287                                 -496.754539   \n",
       "5288                                 -499.344968   \n",
       "5289                                 -500.635179   \n",
       "\n",
       "      secondary_cleaner.state.floatbank5_b_air  \\\n",
       "0                                     8.079666   \n",
       "1                                     7.984757   \n",
       "2                                     8.013877   \n",
       "3                                     7.977324   \n",
       "4                                     7.894242   \n",
       "...                                        ...   \n",
       "5285                                  8.019958   \n",
       "5286                                  8.026704   \n",
       "5287                                  8.101550   \n",
       "5288                                  8.081079   \n",
       "5289                                  8.018280   \n",
       "\n",
       "      secondary_cleaner.state.floatbank5_b_level  \\\n",
       "0                                    -500.470978   \n",
       "1                                    -500.582168   \n",
       "2                                    -500.517572   \n",
       "3                                    -500.255908   \n",
       "4                                    -500.356035   \n",
       "...                                          ...   \n",
       "5285                                 -500.831979   \n",
       "5286                                 -499.441425   \n",
       "5287                                 -498.995886   \n",
       "5288                                 -500.251137   \n",
       "5289                                 -500.849959   \n",
       "\n",
       "      secondary_cleaner.state.floatbank6_a_air  \\\n",
       "0                                    14.151341   \n",
       "1                                    13.998353   \n",
       "2                                    14.028663   \n",
       "3                                    14.005551   \n",
       "4                                    13.996647   \n",
       "...                                        ...   \n",
       "5285                                 22.978282   \n",
       "5286                                 22.924731   \n",
       "5287                                 22.986707   \n",
       "5288                                 23.003805   \n",
       "5289                                 23.038458   \n",
       "\n",
       "      secondary_cleaner.state.floatbank6_a_level  final.output.recovery  \\\n",
       "0                                    -605.841980              70.541216   \n",
       "1                                    -599.787184              69.266198   \n",
       "2                                    -601.427363              68.116445   \n",
       "3                                    -599.996129              68.347543   \n",
       "4                                    -601.496691              66.927016   \n",
       "...                                          ...                    ...   \n",
       "5285                                 -500.539111              64.948104   \n",
       "5286                                 -500.793659              69.161741   \n",
       "5287                                 -497.613423              68.821663   \n",
       "5288                                 -502.176509              65.828202   \n",
       "5289                                 -499.867281              66.985033   \n",
       "\n",
       "      rougher.output.recovery  \n",
       "0                   87.107763  \n",
       "1                   86.843261  \n",
       "2                   86.842308  \n",
       "3                   87.226430  \n",
       "4                   86.688794  \n",
       "...                       ...  \n",
       "5285                87.837931  \n",
       "5286                88.164912  \n",
       "5287                86.169553  \n",
       "5288                87.176137  \n",
       "5289                87.908066  \n",
       "\n",
       "[5290 rows x 55 columns]"
      ]
     },
     "execution_count": 36,
     "metadata": {},
     "output_type": "execute_result"
    }
   ],
   "source": [
    "df_test.set_index('date')\n",
    "df_full_new = df_full.loc[:,total_columns]\n",
    "df_full_new.set_index('date')\n",
    "df_test = df_full_new.loc[df_test.index].reset_index(drop=True)\n",
    "df_test\n"
   ]
  },
  {
   "cell_type": "code",
   "execution_count": 91,
   "metadata": {},
   "outputs": [],
   "source": [
    "df_full_new = df_full[['date','rougher.output.recovery','final.output.recovery']]\n",
    "df_test = df_test.merge(df_full_new,on=['date'], how='left')"
   ]
  },
  {
   "cell_type": "code",
   "execution_count": 93,
   "metadata": {},
   "outputs": [
    {
     "data": {
      "text/plain": [
       "(4682     89.993421\n",
       " 4683     88.089657\n",
       " 4684     88.412756\n",
       " 4685     87.360133\n",
       " 4686     83.236367\n",
       "            ...    \n",
       " 15055    95.172585\n",
       " 15056    94.575036\n",
       " 15057    93.018138\n",
       " 15058    92.599042\n",
       " 15059    91.177695\n",
       " Name: rougher.output.recovery, Length: 5290, dtype: float64,\n",
       " 0       89.993421\n",
       " 1       88.089657\n",
       " 2       88.412756\n",
       " 3       87.360133\n",
       " 4       83.236367\n",
       "           ...    \n",
       " 5285    95.172585\n",
       " 5286    94.575036\n",
       " 5287    93.018138\n",
       " 5288    92.599042\n",
       " 5289    91.177695\n",
       " Name: rougher.output.recovery, Length: 5290, dtype: float64)"
      ]
     },
     "execution_count": 93,
     "metadata": {},
     "output_type": "execute_result"
    }
   ],
   "source": [
    "df_full_new[df_full_new['date'].isin(df_test['date'])]['rougher.output.recovery'], df_test['rougher.output.recovery']"
   ]
  },
  {
   "cell_type": "code",
   "execution_count": 94,
   "metadata": {},
   "outputs": [
    {
     "data": {
      "text/plain": [
       "rougher.output.recovery    0\n",
       "final.output.recovery      0\n",
       "dtype: int64"
      ]
     },
     "execution_count": 94,
     "metadata": {},
     "output_type": "execute_result"
    }
   ],
   "source": [
    "target_test = df_test[['rougher.output.recovery','final.output.recovery']]\n",
    "features_test = df_test.drop(['rougher.output.recovery','final.output.recovery','date'],axis=1)\n",
    "target_test.isna().sum()"
   ]
  },
  {
   "cell_type": "code",
   "execution_count": 95,
   "metadata": {},
   "outputs": [
    {
     "data": {
      "text/plain": [
       "primary_cleaner.input.sulfate                 0\n",
       "primary_cleaner.input.depressant              0\n",
       "primary_cleaner.input.feed_size               0\n",
       "primary_cleaner.input.xanthate                0\n",
       "primary_cleaner.state.floatbank8_a_air        0\n",
       "primary_cleaner.state.floatbank8_a_level      0\n",
       "primary_cleaner.state.floatbank8_b_air        0\n",
       "primary_cleaner.state.floatbank8_b_level      0\n",
       "primary_cleaner.state.floatbank8_c_air        0\n",
       "primary_cleaner.state.floatbank8_c_level      0\n",
       "primary_cleaner.state.floatbank8_d_air        0\n",
       "primary_cleaner.state.floatbank8_d_level      0\n",
       "rougher.input.feed_ag                         0\n",
       "rougher.input.feed_pb                         0\n",
       "rougher.input.feed_rate                       0\n",
       "rougher.input.feed_size                       0\n",
       "rougher.input.feed_sol                        0\n",
       "rougher.input.feed_au                         0\n",
       "rougher.input.floatbank10_sulfate             0\n",
       "rougher.input.floatbank10_xanthate            0\n",
       "rougher.input.floatbank11_sulfate             0\n",
       "rougher.input.floatbank11_xanthate            0\n",
       "rougher.state.floatbank10_a_air               0\n",
       "rougher.state.floatbank10_a_level             0\n",
       "rougher.state.floatbank10_b_air               0\n",
       "rougher.state.floatbank10_b_level             0\n",
       "rougher.state.floatbank10_c_air               0\n",
       "rougher.state.floatbank10_c_level             0\n",
       "rougher.state.floatbank10_d_air               0\n",
       "rougher.state.floatbank10_d_level             0\n",
       "rougher.state.floatbank10_e_air               0\n",
       "rougher.state.floatbank10_e_level             0\n",
       "rougher.state.floatbank10_f_air               0\n",
       "rougher.state.floatbank10_f_level             0\n",
       "secondary_cleaner.state.floatbank2_a_air      0\n",
       "secondary_cleaner.state.floatbank2_a_level    0\n",
       "secondary_cleaner.state.floatbank2_b_air      0\n",
       "secondary_cleaner.state.floatbank2_b_level    0\n",
       "secondary_cleaner.state.floatbank3_a_air      0\n",
       "secondary_cleaner.state.floatbank3_a_level    0\n",
       "secondary_cleaner.state.floatbank3_b_air      0\n",
       "secondary_cleaner.state.floatbank3_b_level    0\n",
       "secondary_cleaner.state.floatbank4_a_air      0\n",
       "secondary_cleaner.state.floatbank4_a_level    0\n",
       "secondary_cleaner.state.floatbank4_b_air      0\n",
       "secondary_cleaner.state.floatbank4_b_level    0\n",
       "secondary_cleaner.state.floatbank5_a_air      0\n",
       "secondary_cleaner.state.floatbank5_a_level    0\n",
       "secondary_cleaner.state.floatbank5_b_air      0\n",
       "secondary_cleaner.state.floatbank5_b_level    0\n",
       "secondary_cleaner.state.floatbank6_a_air      0\n",
       "secondary_cleaner.state.floatbank6_a_level    0\n",
       "dtype: int64"
      ]
     },
     "execution_count": 95,
     "metadata": {},
     "output_type": "execute_result"
    }
   ],
   "source": [
    "features_test.isnull().sum()"
   ]
  },
  {
   "cell_type": "code",
   "execution_count": 96,
   "metadata": {},
   "outputs": [],
   "source": [
    "features_test = features_test.ffill(axis = 0)"
   ]
  },
  {
   "cell_type": "code",
   "execution_count": 97,
   "metadata": {},
   "outputs": [
    {
     "data": {
      "text/plain": [
       "primary_cleaner.input.sulfate                 0\n",
       "primary_cleaner.input.depressant              0\n",
       "primary_cleaner.input.feed_size               0\n",
       "primary_cleaner.input.xanthate                0\n",
       "primary_cleaner.state.floatbank8_a_air        0\n",
       "primary_cleaner.state.floatbank8_a_level      0\n",
       "primary_cleaner.state.floatbank8_b_air        0\n",
       "primary_cleaner.state.floatbank8_b_level      0\n",
       "primary_cleaner.state.floatbank8_c_air        0\n",
       "primary_cleaner.state.floatbank8_c_level      0\n",
       "primary_cleaner.state.floatbank8_d_air        0\n",
       "primary_cleaner.state.floatbank8_d_level      0\n",
       "rougher.input.feed_ag                         0\n",
       "rougher.input.feed_pb                         0\n",
       "rougher.input.feed_rate                       0\n",
       "rougher.input.feed_size                       0\n",
       "rougher.input.feed_sol                        0\n",
       "rougher.input.feed_au                         0\n",
       "rougher.input.floatbank10_sulfate             0\n",
       "rougher.input.floatbank10_xanthate            0\n",
       "rougher.input.floatbank11_sulfate             0\n",
       "rougher.input.floatbank11_xanthate            0\n",
       "rougher.state.floatbank10_a_air               0\n",
       "rougher.state.floatbank10_a_level             0\n",
       "rougher.state.floatbank10_b_air               0\n",
       "rougher.state.floatbank10_b_level             0\n",
       "rougher.state.floatbank10_c_air               0\n",
       "rougher.state.floatbank10_c_level             0\n",
       "rougher.state.floatbank10_d_air               0\n",
       "rougher.state.floatbank10_d_level             0\n",
       "rougher.state.floatbank10_e_air               0\n",
       "rougher.state.floatbank10_e_level             0\n",
       "rougher.state.floatbank10_f_air               0\n",
       "rougher.state.floatbank10_f_level             0\n",
       "secondary_cleaner.state.floatbank2_a_air      0\n",
       "secondary_cleaner.state.floatbank2_a_level    0\n",
       "secondary_cleaner.state.floatbank2_b_air      0\n",
       "secondary_cleaner.state.floatbank2_b_level    0\n",
       "secondary_cleaner.state.floatbank3_a_air      0\n",
       "secondary_cleaner.state.floatbank3_a_level    0\n",
       "secondary_cleaner.state.floatbank3_b_air      0\n",
       "secondary_cleaner.state.floatbank3_b_level    0\n",
       "secondary_cleaner.state.floatbank4_a_air      0\n",
       "secondary_cleaner.state.floatbank4_a_level    0\n",
       "secondary_cleaner.state.floatbank4_b_air      0\n",
       "secondary_cleaner.state.floatbank4_b_level    0\n",
       "secondary_cleaner.state.floatbank5_a_air      0\n",
       "secondary_cleaner.state.floatbank5_a_level    0\n",
       "secondary_cleaner.state.floatbank5_b_air      0\n",
       "secondary_cleaner.state.floatbank5_b_level    0\n",
       "secondary_cleaner.state.floatbank6_a_air      0\n",
       "secondary_cleaner.state.floatbank6_a_level    0\n",
       "dtype: int64"
      ]
     },
     "execution_count": 97,
     "metadata": {},
     "output_type": "execute_result"
    }
   ],
   "source": [
    "features_test.isna().sum()"
   ]
  },
  {
   "cell_type": "code",
   "execution_count": 98,
   "metadata": {},
   "outputs": [],
   "source": [
    "target_train = new_df_train[['rougher.output.recovery','final.output.recovery']]\n",
    "\n",
    "features_train = new_df_train.drop(['rougher.output.recovery','final.output.recovery','date'],axis=1)\n"
   ]
  },
  {
   "cell_type": "code",
   "execution_count": 99,
   "metadata": {},
   "outputs": [],
   "source": [
    "scorer = make_scorer(smape,greater_is_better=False)"
   ]
  },
  {
   "cell_type": "code",
   "execution_count": 100,
   "metadata": {},
   "outputs": [
    {
     "data": {
      "text/plain": [
       "rougher.output.recovery    0\n",
       "final.output.recovery      0\n",
       "dtype: int64"
      ]
     },
     "execution_count": 100,
     "metadata": {},
     "output_type": "execute_result"
    }
   ],
   "source": [
    "target_train.isna().sum()"
   ]
  },
  {
   "cell_type": "code",
   "execution_count": 101,
   "metadata": {},
   "outputs": [
    {
     "data": {
      "text/plain": [
       "primary_cleaner.input.sulfate                 0\n",
       "primary_cleaner.input.depressant              0\n",
       "primary_cleaner.input.feed_size               0\n",
       "primary_cleaner.input.xanthate                0\n",
       "primary_cleaner.state.floatbank8_a_air        0\n",
       "primary_cleaner.state.floatbank8_a_level      0\n",
       "primary_cleaner.state.floatbank8_b_air        0\n",
       "primary_cleaner.state.floatbank8_b_level      0\n",
       "primary_cleaner.state.floatbank8_c_air        0\n",
       "primary_cleaner.state.floatbank8_c_level      0\n",
       "primary_cleaner.state.floatbank8_d_air        0\n",
       "primary_cleaner.state.floatbank8_d_level      0\n",
       "rougher.input.feed_ag                         0\n",
       "rougher.input.feed_pb                         0\n",
       "rougher.input.feed_rate                       0\n",
       "rougher.input.feed_size                       0\n",
       "rougher.input.feed_sol                        0\n",
       "rougher.input.feed_au                         0\n",
       "rougher.input.floatbank10_sulfate             0\n",
       "rougher.input.floatbank10_xanthate            0\n",
       "rougher.input.floatbank11_sulfate             0\n",
       "rougher.input.floatbank11_xanthate            0\n",
       "rougher.state.floatbank10_a_air               0\n",
       "rougher.state.floatbank10_a_level             0\n",
       "rougher.state.floatbank10_b_air               0\n",
       "rougher.state.floatbank10_b_level             0\n",
       "rougher.state.floatbank10_c_air               0\n",
       "rougher.state.floatbank10_c_level             0\n",
       "rougher.state.floatbank10_d_air               0\n",
       "rougher.state.floatbank10_d_level             0\n",
       "rougher.state.floatbank10_e_air               0\n",
       "rougher.state.floatbank10_e_level             0\n",
       "rougher.state.floatbank10_f_air               0\n",
       "rougher.state.floatbank10_f_level             0\n",
       "secondary_cleaner.state.floatbank2_a_air      0\n",
       "secondary_cleaner.state.floatbank2_a_level    0\n",
       "secondary_cleaner.state.floatbank2_b_air      0\n",
       "secondary_cleaner.state.floatbank2_b_level    0\n",
       "secondary_cleaner.state.floatbank3_a_air      0\n",
       "secondary_cleaner.state.floatbank3_a_level    0\n",
       "secondary_cleaner.state.floatbank3_b_air      0\n",
       "secondary_cleaner.state.floatbank3_b_level    0\n",
       "secondary_cleaner.state.floatbank4_a_air      0\n",
       "secondary_cleaner.state.floatbank4_a_level    0\n",
       "secondary_cleaner.state.floatbank4_b_air      0\n",
       "secondary_cleaner.state.floatbank4_b_level    0\n",
       "secondary_cleaner.state.floatbank5_a_air      0\n",
       "secondary_cleaner.state.floatbank5_a_level    0\n",
       "secondary_cleaner.state.floatbank5_b_air      0\n",
       "secondary_cleaner.state.floatbank5_b_level    0\n",
       "secondary_cleaner.state.floatbank6_a_air      0\n",
       "secondary_cleaner.state.floatbank6_a_level    0\n",
       "dtype: int64"
      ]
     },
     "execution_count": 101,
     "metadata": {},
     "output_type": "execute_result"
    }
   ],
   "source": [
    "features_train.isna().sum()"
   ]
  },
  {
   "cell_type": "code",
   "execution_count": 102,
   "metadata": {},
   "outputs": [
    {
     "data": {
      "text/plain": [
       "primary_cleaner.input.sulfate                 0\n",
       "primary_cleaner.input.depressant              0\n",
       "primary_cleaner.input.feed_size               0\n",
       "primary_cleaner.input.xanthate                0\n",
       "primary_cleaner.state.floatbank8_a_air        0\n",
       "primary_cleaner.state.floatbank8_a_level      0\n",
       "primary_cleaner.state.floatbank8_b_air        0\n",
       "primary_cleaner.state.floatbank8_b_level      0\n",
       "primary_cleaner.state.floatbank8_c_air        0\n",
       "primary_cleaner.state.floatbank8_c_level      0\n",
       "primary_cleaner.state.floatbank8_d_air        0\n",
       "primary_cleaner.state.floatbank8_d_level      0\n",
       "rougher.input.feed_ag                         0\n",
       "rougher.input.feed_pb                         0\n",
       "rougher.input.feed_rate                       0\n",
       "rougher.input.feed_size                       0\n",
       "rougher.input.feed_sol                        0\n",
       "rougher.input.feed_au                         0\n",
       "rougher.input.floatbank10_sulfate             0\n",
       "rougher.input.floatbank10_xanthate            0\n",
       "rougher.input.floatbank11_sulfate             0\n",
       "rougher.input.floatbank11_xanthate            0\n",
       "rougher.state.floatbank10_a_air               0\n",
       "rougher.state.floatbank10_a_level             0\n",
       "rougher.state.floatbank10_b_air               0\n",
       "rougher.state.floatbank10_b_level             0\n",
       "rougher.state.floatbank10_c_air               0\n",
       "rougher.state.floatbank10_c_level             0\n",
       "rougher.state.floatbank10_d_air               0\n",
       "rougher.state.floatbank10_d_level             0\n",
       "rougher.state.floatbank10_e_air               0\n",
       "rougher.state.floatbank10_e_level             0\n",
       "rougher.state.floatbank10_f_air               0\n",
       "rougher.state.floatbank10_f_level             0\n",
       "secondary_cleaner.state.floatbank2_a_air      0\n",
       "secondary_cleaner.state.floatbank2_a_level    0\n",
       "secondary_cleaner.state.floatbank2_b_air      0\n",
       "secondary_cleaner.state.floatbank2_b_level    0\n",
       "secondary_cleaner.state.floatbank3_a_air      0\n",
       "secondary_cleaner.state.floatbank3_a_level    0\n",
       "secondary_cleaner.state.floatbank3_b_air      0\n",
       "secondary_cleaner.state.floatbank3_b_level    0\n",
       "secondary_cleaner.state.floatbank4_a_air      0\n",
       "secondary_cleaner.state.floatbank4_a_level    0\n",
       "secondary_cleaner.state.floatbank4_b_air      0\n",
       "secondary_cleaner.state.floatbank4_b_level    0\n",
       "secondary_cleaner.state.floatbank5_a_air      0\n",
       "secondary_cleaner.state.floatbank5_a_level    0\n",
       "secondary_cleaner.state.floatbank5_b_air      0\n",
       "secondary_cleaner.state.floatbank5_b_level    0\n",
       "secondary_cleaner.state.floatbank6_a_air      0\n",
       "secondary_cleaner.state.floatbank6_a_level    0\n",
       "dtype: int64"
      ]
     },
     "execution_count": 102,
     "metadata": {},
     "output_type": "execute_result"
    }
   ],
   "source": [
    "features_train.isna().sum()"
   ]
  },
  {
   "cell_type": "code",
   "execution_count": 103,
   "metadata": {},
   "outputs": [],
   "source": [
    "scaler = StandardScaler()\n",
    "scaler.fit(features_train) \n",
    "features_train = scaler.transform(features_train)\n",
    "features_test = scaler.transform(features_test)#маштабируем на обучающей,и применяем к тестовой"
   ]
  },
  {
   "cell_type": "code",
   "execution_count": 104,
   "metadata": {},
   "outputs": [
    {
     "data": {
      "text/plain": [
       "-2.752096640029925"
      ]
     },
     "execution_count": 104,
     "metadata": {},
     "output_type": "execute_result"
    }
   ],
   "source": [
    "model = DecisionTreeRegressor(random_state=12345,max_depth = 4)\n",
    "scores = cross_val_score(model,features_train,target_train,cv = 5,scoring = scorer)\n",
    "final_score = scores.mean()\n",
    "final_score "
   ]
  },
  {
   "cell_type": "code",
   "execution_count": 105,
   "metadata": {},
   "outputs": [
    {
     "data": {
      "text/plain": [
       "-3.096149026211799"
      ]
     },
     "execution_count": 105,
     "metadata": {},
     "output_type": "execute_result"
    }
   ],
   "source": [
    "model = LinearRegression()\n",
    "scores = cross_val_score(model,features_train,target_train,cv = 5,scoring = scorer)\n",
    "final_score = scores.mean()\n",
    "final_score "
   ]
  },
  {
   "cell_type": "code",
   "execution_count": 107,
   "metadata": {},
   "outputs": [
    {
     "name": "stdout",
     "output_type": "stream",
     "text": [
      "Fitting 5 folds for each of 10 candidates, totalling 50 fits\n",
      "[CV 1/5] END bootstrap=True, max_depth=4, max_features=3, min_samples_leaf=8, min_samples_split=8, n_estimators=7; total time=   0.1s\n",
      "[CV 2/5] END bootstrap=True, max_depth=4, max_features=3, min_samples_leaf=8, min_samples_split=8, n_estimators=7; total time=   0.1s\n",
      "[CV 3/5] END bootstrap=True, max_depth=4, max_features=3, min_samples_leaf=8, min_samples_split=8, n_estimators=7; total time=   0.1s\n",
      "[CV 4/5] END bootstrap=True, max_depth=4, max_features=3, min_samples_leaf=8, min_samples_split=8, n_estimators=7; total time=   0.1s\n",
      "[CV 5/5] END bootstrap=True, max_depth=4, max_features=3, min_samples_leaf=8, min_samples_split=8, n_estimators=7; total time=   0.1s\n",
      "[CV 1/5] END bootstrap=True, max_depth=13, max_features=7, min_samples_leaf=4, min_samples_split=8, n_estimators=4; total time=   0.2s\n",
      "[CV 2/5] END bootstrap=True, max_depth=13, max_features=7, min_samples_leaf=4, min_samples_split=8, n_estimators=4; total time=   0.2s\n",
      "[CV 3/5] END bootstrap=True, max_depth=13, max_features=7, min_samples_leaf=4, min_samples_split=8, n_estimators=4; total time=   0.2s\n",
      "[CV 4/5] END bootstrap=True, max_depth=13, max_features=7, min_samples_leaf=4, min_samples_split=8, n_estimators=4; total time=   0.2s\n",
      "[CV 5/5] END bootstrap=True, max_depth=13, max_features=7, min_samples_leaf=4, min_samples_split=8, n_estimators=4; total time=   0.2s\n",
      "[CV 1/5] END bootstrap=False, max_depth=8, max_features=7, min_samples_leaf=2, min_samples_split=6, n_estimators=7; total time=   0.4s\n",
      "[CV 2/5] END bootstrap=False, max_depth=8, max_features=7, min_samples_leaf=2, min_samples_split=6, n_estimators=7; total time=   0.5s\n",
      "[CV 3/5] END bootstrap=False, max_depth=8, max_features=7, min_samples_leaf=2, min_samples_split=6, n_estimators=7; total time=   0.5s\n",
      "[CV 4/5] END bootstrap=False, max_depth=8, max_features=7, min_samples_leaf=2, min_samples_split=6, n_estimators=7; total time=   0.5s\n",
      "[CV 5/5] END bootstrap=False, max_depth=8, max_features=7, min_samples_leaf=2, min_samples_split=6, n_estimators=7; total time=   0.5s\n",
      "[CV 1/5] END bootstrap=False, max_depth=2, max_features=3, min_samples_leaf=8, min_samples_split=6, n_estimators=8; total time=   0.1s\n",
      "[CV 2/5] END bootstrap=False, max_depth=2, max_features=3, min_samples_leaf=8, min_samples_split=6, n_estimators=8; total time=   0.1s\n",
      "[CV 3/5] END bootstrap=False, max_depth=2, max_features=3, min_samples_leaf=8, min_samples_split=6, n_estimators=8; total time=   0.1s\n",
      "[CV 4/5] END bootstrap=False, max_depth=2, max_features=3, min_samples_leaf=8, min_samples_split=6, n_estimators=8; total time=   0.1s\n",
      "[CV 5/5] END bootstrap=False, max_depth=2, max_features=3, min_samples_leaf=8, min_samples_split=6, n_estimators=8; total time=   0.1s\n",
      "[CV 1/5] END bootstrap=True, max_depth=6, max_features=5, min_samples_leaf=8, min_samples_split=2, n_estimators=4; total time=   0.1s\n",
      "[CV 2/5] END bootstrap=True, max_depth=6, max_features=5, min_samples_leaf=8, min_samples_split=2, n_estimators=4; total time=   0.1s\n",
      "[CV 3/5] END bootstrap=True, max_depth=6, max_features=5, min_samples_leaf=8, min_samples_split=2, n_estimators=4; total time=   0.1s\n",
      "[CV 4/5] END bootstrap=True, max_depth=6, max_features=5, min_samples_leaf=8, min_samples_split=2, n_estimators=4; total time=   0.1s\n",
      "[CV 5/5] END bootstrap=True, max_depth=6, max_features=5, min_samples_leaf=8, min_samples_split=2, n_estimators=4; total time=   0.1s\n",
      "[CV 1/5] END bootstrap=False, max_depth=9, max_features=9, min_samples_leaf=6, min_samples_split=8, n_estimators=2; total time=   0.2s\n",
      "[CV 2/5] END bootstrap=False, max_depth=9, max_features=9, min_samples_leaf=6, min_samples_split=8, n_estimators=2; total time=   0.2s\n",
      "[CV 3/5] END bootstrap=False, max_depth=9, max_features=9, min_samples_leaf=6, min_samples_split=8, n_estimators=2; total time=   0.2s\n",
      "[CV 4/5] END bootstrap=False, max_depth=9, max_features=9, min_samples_leaf=6, min_samples_split=8, n_estimators=2; total time=   0.2s\n",
      "[CV 5/5] END bootstrap=False, max_depth=9, max_features=9, min_samples_leaf=6, min_samples_split=8, n_estimators=2; total time=   0.2s\n",
      "[CV 1/5] END bootstrap=True, max_depth=8, max_features=1, min_samples_leaf=6, min_samples_split=2, n_estimators=13; total time=   0.1s\n",
      "[CV 2/5] END bootstrap=True, max_depth=8, max_features=1, min_samples_leaf=6, min_samples_split=2, n_estimators=13; total time=   0.1s\n",
      "[CV 3/5] END bootstrap=True, max_depth=8, max_features=1, min_samples_leaf=6, min_samples_split=2, n_estimators=13; total time=   0.1s\n",
      "[CV 4/5] END bootstrap=True, max_depth=8, max_features=1, min_samples_leaf=6, min_samples_split=2, n_estimators=13; total time=   0.1s\n",
      "[CV 5/5] END bootstrap=True, max_depth=8, max_features=1, min_samples_leaf=6, min_samples_split=2, n_estimators=13; total time=   0.1s\n",
      "[CV 1/5] END bootstrap=True, max_depth=6, max_features=3, min_samples_leaf=8, min_samples_split=4, n_estimators=14; total time=   0.2s\n",
      "[CV 2/5] END bootstrap=True, max_depth=6, max_features=3, min_samples_leaf=8, min_samples_split=4, n_estimators=14; total time=   0.2s\n",
      "[CV 3/5] END bootstrap=True, max_depth=6, max_features=3, min_samples_leaf=8, min_samples_split=4, n_estimators=14; total time=   0.2s\n",
      "[CV 4/5] END bootstrap=True, max_depth=6, max_features=3, min_samples_leaf=8, min_samples_split=4, n_estimators=14; total time=   0.2s\n",
      "[CV 5/5] END bootstrap=True, max_depth=6, max_features=3, min_samples_leaf=8, min_samples_split=4, n_estimators=14; total time=   0.2s\n",
      "[CV 1/5] END bootstrap=False, max_depth=12, max_features=3, min_samples_leaf=8, min_samples_split=6, n_estimators=1; total time=   0.0s\n",
      "[CV 2/5] END bootstrap=False, max_depth=12, max_features=3, min_samples_leaf=8, min_samples_split=6, n_estimators=1; total time=   0.0s\n",
      "[CV 3/5] END bootstrap=False, max_depth=12, max_features=3, min_samples_leaf=8, min_samples_split=6, n_estimators=1; total time=   0.0s\n",
      "[CV 4/5] END bootstrap=False, max_depth=12, max_features=3, min_samples_leaf=8, min_samples_split=6, n_estimators=1; total time=   0.0s\n",
      "[CV 5/5] END bootstrap=False, max_depth=12, max_features=3, min_samples_leaf=8, min_samples_split=6, n_estimators=1; total time=   0.0s\n",
      "[CV 1/5] END bootstrap=True, max_depth=14, max_features=1, min_samples_leaf=4, min_samples_split=8, n_estimators=1; total time=   0.0s\n",
      "[CV 2/5] END bootstrap=True, max_depth=14, max_features=1, min_samples_leaf=4, min_samples_split=8, n_estimators=1; total time=   0.0s\n",
      "[CV 3/5] END bootstrap=True, max_depth=14, max_features=1, min_samples_leaf=4, min_samples_split=8, n_estimators=1; total time=   0.0s\n",
      "[CV 4/5] END bootstrap=True, max_depth=14, max_features=1, min_samples_leaf=4, min_samples_split=8, n_estimators=1; total time=   0.0s\n",
      "[CV 5/5] END bootstrap=True, max_depth=14, max_features=1, min_samples_leaf=4, min_samples_split=8, n_estimators=1; total time=   0.0s\n"
     ]
    },
    {
     "data": {
      "text/plain": [
       "{'n_estimators': 14,\n",
       " 'min_samples_split': 4,\n",
       " 'min_samples_leaf': 8,\n",
       " 'max_features': 3,\n",
       " 'max_depth': 6,\n",
       " 'bootstrap': True}"
      ]
     },
     "execution_count": 107,
     "metadata": {},
     "output_type": "execute_result"
    }
   ],
   "source": [
    "model = RandomForestRegressor(random_state=12345)\n",
    "param_dist = {'n_estimators': range(1,15),\n",
    "               'max_features': range(1,10,2),\n",
    "               'max_depth': range(1,15),\n",
    "               'min_samples_split': range(2,10,2),\n",
    "               'min_samples_leaf': range(2,10,2),\n",
    "               'bootstrap': [True, False]}\n",
    "rs =  RandomizedSearchCV(model,param_distributions = param_dist, cv=5,scoring = scorer, verbose=3)\n",
    "rs.fit(features_train, target_train)\n",
    "rs.best_params_"
   ]
  },
  {
   "cell_type": "code",
   "execution_count": 52,
   "metadata": {},
   "outputs": [
    {
     "data": {
      "text/plain": [
       "-2.628459094086845"
      ]
     },
     "execution_count": 52,
     "metadata": {},
     "output_type": "execute_result"
    }
   ],
   "source": [
    "model = RandomForestRegressor(random_state=12345,n_estimators= 5,min_samples_split= 9,\n",
    "                      min_samples_leaf = 5, max_features = 9, max_depth = 9,bootstrap = False)\n",
    "scores = cross_val_score(model,features_train,target_train,cv = 5,scoring = scorer)\n",
    "final_score = scores.mean()\n",
    "final_score"
   ]
  },
  {
   "cell_type": "code",
   "execution_count": 53,
   "metadata": {},
   "outputs": [
    {
     "data": {
      "text/plain": [
       "-2.6307431375451875"
      ]
     },
     "execution_count": 53,
     "metadata": {},
     "output_type": "execute_result"
    }
   ],
   "source": [
    "model = RandomForestRegressor(random_state=12345,n_estimators= 11,min_samples_split= 9,\n",
    "                      min_samples_leaf = 3, max_features = 3, max_depth = 5,bootstrap = False)\n",
    "scores = cross_val_score(model,features_train,target_train,cv = 5,scoring = scorer)\n",
    "final_score = scores.mean()\n",
    "final_score"
   ]
  },
  {
   "cell_type": "code",
   "execution_count": null,
   "metadata": {},
   "outputs": [],
   "source": [
    "clf = RandomForestRegressor(random_state=12345)\n",
    "\n",
    "parametrs = { 'n_estimators': range (1,15),\n",
    "              'max_depth': range (1,15),\n",
    "              'min_samples_leaf': range (1,8),\n",
    "              'min_samples_split': range (2,10,2)}\n",
    "\n",
    "grid = GridSearchCV(clf, param_grid = parametrs, cv=5,scoring = scorer ) #error_score = 'raise'\n",
    "grid.fit(features_train,target_train)\n",
    "grid.best_params_"
   ]
  },
  {
   "cell_type": "code",
   "execution_count": 55,
   "metadata": {},
   "outputs": [
    {
     "data": {
      "text/plain": [
       "-2.721326404674297"
      ]
     },
     "execution_count": 55,
     "metadata": {},
     "output_type": "execute_result"
    }
   ],
   "source": [
    "model = RandomForestRegressor(random_state=12345,n_estimators= 5,min_samples_split= 9,\n",
    "                      min_samples_leaf = 5, max_features = 9, max_depth = 9,bootstrap = False)\n",
    "scores = cross_val_score(model,features_test,target_test,cv = 5,scoring = scorer)\n",
    "final_score = scores.mean()\n",
    "final_score"
   ]
  },
  {
   "cell_type": "code",
   "execution_count": 56,
   "metadata": {},
   "outputs": [
    {
     "name": "stdout",
     "output_type": "stream",
     "text": [
      "Smape mean: 2.7285066731823004\n",
      "Smape median: 2.837605128618015\n"
     ]
    }
   ],
   "source": [
    "dummy_mean = DummyRegressor(strategy='mean')\n",
    "dummy_median = DummyRegressor(strategy='median')\n",
    "dummy_mean.fit(features_train, target_train)\n",
    "dummy_median.fit(features_train, target_train)\n",
    "predict_mean = dummy_mean.predict(features_test)\n",
    "predict_median = dummy_median.predict(features_test)\n",
    "\n",
    "print('Smape mean:',smape(target_test,predict_mean))\n",
    "print('Smape median:',smape(target_test,predict_median))"
   ]
  },
  {
   "cell_type": "markdown",
   "metadata": {},
   "source": [
    "Модель RandomForestRegressor(random_state=12345,n_estimators= 5,min_samples_split= 9,min_samples_leaf = 5, max_features = 9, max_depth = 9,bootstrap = False),дает результат незначительно лучше чем Dummy Models."
   ]
  },
  {
   "cell_type": "markdown",
   "metadata": {},
   "source": [
    "## Чек-лист готовности проекта"
   ]
  },
  {
   "cell_type": "markdown",
   "metadata": {},
   "source": [
    "- [x]  Jupyter Notebook открыт\n",
    "- [x]  Весь код выполняется без ошибок\n",
    "- [x]  Ячейки с кодом расположены в порядке выполнения\n",
    "- [x]  Выполнен шаг 1: данные подготовлены\n",
    "    - [x]  Проверена формула вычисления эффективности обогащения\n",
    "    - [x]  Проанализированы признаки, недоступные в тестовой выборке\n",
    "    - [x]  Проведена предобработка данных\n",
    "- [x]  Выполнен шаг 2: данные проанализированы\n",
    "    - [x]  Исследовано изменение концентрации элементов на каждом этапе\n",
    "    - [x]  Проанализированы распределения размеров гранул на обучающей и тестовой выборках\n",
    "    - [x]  Исследованы суммарные концентрации\n",
    "- [x]  Выполнен шаг 3: построена модель прогнозирования\n",
    "    - [x]  Написана функция для вычисления итогового *sMAPE*\n",
    "    - [x]  Обучено и проверено несколько моделей\n",
    "    - [x]  Выбрана лучшая модель, её качество проверено на тестовой выборке"
   ]
  },
  {
   "cell_type": "code",
   "execution_count": null,
   "metadata": {},
   "outputs": [],
   "source": []
  }
 ],
 "metadata": {
  "ExecuteTimeLog": [
   {
    "duration": 3,
    "start_time": "2022-06-07T11:10:34.166Z"
   },
   {
    "duration": 15,
    "start_time": "2022-06-07T11:10:35.801Z"
   },
   {
    "duration": 424,
    "start_time": "2022-06-07T11:13:02.214Z"
   },
   {
    "duration": 75,
    "start_time": "2022-06-07T11:13:02.640Z"
   },
   {
    "duration": 3000,
    "start_time": "2022-06-07T11:13:34.488Z"
   },
   {
    "duration": 34,
    "start_time": "2022-06-07T11:14:16.668Z"
   },
   {
    "duration": 17,
    "start_time": "2022-06-07T11:14:45.142Z"
   },
   {
    "duration": 12,
    "start_time": "2022-06-07T11:15:08.666Z"
   },
   {
    "duration": 10,
    "start_time": "2022-06-07T11:19:00.748Z"
   },
   {
    "duration": 4,
    "start_time": "2022-06-07T11:19:07.716Z"
   },
   {
    "duration": 6,
    "start_time": "2022-06-07T11:19:16.809Z"
   },
   {
    "duration": 2,
    "start_time": "2022-06-07T11:19:47.811Z"
   },
   {
    "duration": 4,
    "start_time": "2022-06-07T11:22:51.974Z"
   },
   {
    "duration": 4,
    "start_time": "2022-06-07T11:23:05.905Z"
   },
   {
    "duration": 3,
    "start_time": "2022-06-07T11:23:16.084Z"
   },
   {
    "duration": 4,
    "start_time": "2022-06-07T11:23:22.831Z"
   },
   {
    "duration": 2,
    "start_time": "2022-06-07T11:27:18.506Z"
   },
   {
    "duration": 55,
    "start_time": "2022-06-07T16:01:57.714Z"
   },
   {
    "duration": 83,
    "start_time": "2022-06-07T16:02:04.089Z"
   },
   {
    "duration": 411,
    "start_time": "2022-06-07T16:02:16.960Z"
   },
   {
    "duration": 3321,
    "start_time": "2022-06-07T16:02:17.374Z"
   },
   {
    "duration": 24,
    "start_time": "2022-06-07T16:02:20.697Z"
   },
   {
    "duration": 16,
    "start_time": "2022-06-07T16:02:20.724Z"
   },
   {
    "duration": 21,
    "start_time": "2022-06-07T16:02:20.742Z"
   },
   {
    "duration": 4,
    "start_time": "2022-06-07T16:02:20.765Z"
   },
   {
    "duration": 11,
    "start_time": "2022-06-07T16:02:20.771Z"
   },
   {
    "duration": 11,
    "start_time": "2022-06-07T16:02:34.518Z"
   },
   {
    "duration": 8,
    "start_time": "2022-06-07T16:03:57.009Z"
   },
   {
    "duration": 8,
    "start_time": "2022-06-07T16:04:13.786Z"
   },
   {
    "duration": 482,
    "start_time": "2022-06-07T16:06:25.166Z"
   },
   {
    "duration": 112,
    "start_time": "2022-06-07T16:08:16.890Z"
   },
   {
    "duration": 25,
    "start_time": "2022-06-07T16:09:31.795Z"
   },
   {
    "duration": 9,
    "start_time": "2022-06-07T16:09:44.009Z"
   },
   {
    "duration": 8,
    "start_time": "2022-06-07T16:10:19.117Z"
   },
   {
    "duration": 9,
    "start_time": "2022-06-07T16:10:30.313Z"
   },
   {
    "duration": 54,
    "start_time": "2022-06-07T16:11:23.370Z"
   },
   {
    "duration": 13,
    "start_time": "2022-06-07T16:11:35.658Z"
   },
   {
    "duration": 17,
    "start_time": "2022-06-07T16:11:41.258Z"
   },
   {
    "duration": 410,
    "start_time": "2022-06-07T16:14:40.757Z"
   },
   {
    "duration": 472,
    "start_time": "2022-06-07T16:15:31.515Z"
   },
   {
    "duration": 383,
    "start_time": "2022-06-07T16:16:43.643Z"
   },
   {
    "duration": 4,
    "start_time": "2022-06-07T16:17:01.147Z"
   },
   {
    "duration": 9,
    "start_time": "2022-06-07T16:18:14.850Z"
   },
   {
    "duration": 9,
    "start_time": "2022-06-07T16:18:55.057Z"
   },
   {
    "duration": 9,
    "start_time": "2022-06-07T16:21:13.378Z"
   },
   {
    "duration": 401,
    "start_time": "2022-06-07T16:21:20.280Z"
   },
   {
    "duration": 11,
    "start_time": "2022-06-07T16:22:54.058Z"
   },
   {
    "duration": 18,
    "start_time": "2022-06-07T16:23:52.831Z"
   },
   {
    "duration": 4,
    "start_time": "2022-06-07T16:24:35.212Z"
   },
   {
    "duration": 23,
    "start_time": "2022-06-07T16:24:56.170Z"
   },
   {
    "duration": 29,
    "start_time": "2022-06-07T16:25:35.406Z"
   },
   {
    "duration": 861,
    "start_time": "2022-06-07T16:25:59.643Z"
   },
   {
    "duration": 833,
    "start_time": "2022-06-07T16:26:00.507Z"
   },
   {
    "duration": 20,
    "start_time": "2022-06-07T16:26:01.342Z"
   },
   {
    "duration": 25,
    "start_time": "2022-06-07T16:26:01.364Z"
   },
   {
    "duration": 28,
    "start_time": "2022-06-07T16:26:01.390Z"
   },
   {
    "duration": 49,
    "start_time": "2022-06-07T16:26:01.420Z"
   },
   {
    "duration": 71,
    "start_time": "2022-06-07T16:26:01.471Z"
   },
   {
    "duration": 161,
    "start_time": "2022-06-07T16:26:01.548Z"
   },
   {
    "duration": 0,
    "start_time": "2022-06-07T16:26:01.712Z"
   },
   {
    "duration": 0,
    "start_time": "2022-06-07T16:26:01.714Z"
   },
   {
    "duration": 23,
    "start_time": "2022-06-07T16:27:56.024Z"
   },
   {
    "duration": 4,
    "start_time": "2022-06-07T16:29:37.649Z"
   },
   {
    "duration": 5,
    "start_time": "2022-06-07T16:29:38.382Z"
   },
   {
    "duration": 5,
    "start_time": "2022-06-07T16:34:54.458Z"
   },
   {
    "duration": 12,
    "start_time": "2022-06-07T16:36:00.770Z"
   },
   {
    "duration": 7,
    "start_time": "2022-06-07T16:36:09.880Z"
   },
   {
    "duration": 28,
    "start_time": "2022-06-07T16:38:37.959Z"
   },
   {
    "duration": 5,
    "start_time": "2022-06-07T16:39:07.985Z"
   },
   {
    "duration": 10,
    "start_time": "2022-06-07T16:39:13.184Z"
   },
   {
    "duration": 8,
    "start_time": "2022-06-07T16:39:24.816Z"
   },
   {
    "duration": 12,
    "start_time": "2022-06-07T16:39:31.628Z"
   },
   {
    "duration": 16,
    "start_time": "2022-06-07T16:41:25.863Z"
   },
   {
    "duration": 11,
    "start_time": "2022-06-07T16:45:43.186Z"
   },
   {
    "duration": 780,
    "start_time": "2022-06-07T16:45:55.646Z"
   },
   {
    "duration": 932,
    "start_time": "2022-06-07T16:46:28.213Z"
   },
   {
    "duration": 804,
    "start_time": "2022-06-07T16:46:29.147Z"
   },
   {
    "duration": 19,
    "start_time": "2022-06-07T16:46:29.953Z"
   },
   {
    "duration": 13,
    "start_time": "2022-06-07T16:46:29.975Z"
   },
   {
    "duration": 38,
    "start_time": "2022-06-07T16:46:29.989Z"
   },
   {
    "duration": 8,
    "start_time": "2022-06-07T16:46:30.030Z"
   },
   {
    "duration": 512,
    "start_time": "2022-06-07T16:46:30.039Z"
   },
   {
    "duration": 7,
    "start_time": "2022-06-07T16:46:30.553Z"
   },
   {
    "duration": 187,
    "start_time": "2022-06-07T16:46:30.562Z"
   },
   {
    "duration": 0,
    "start_time": "2022-06-07T16:46:30.751Z"
   },
   {
    "duration": 0,
    "start_time": "2022-06-07T16:46:30.752Z"
   },
   {
    "duration": 0,
    "start_time": "2022-06-07T16:46:30.753Z"
   },
   {
    "duration": 43,
    "start_time": "2022-06-07T16:52:25.467Z"
   },
   {
    "duration": 20,
    "start_time": "2022-06-07T16:52:51.878Z"
   },
   {
    "duration": 3,
    "start_time": "2022-06-07T17:14:44.594Z"
   },
   {
    "duration": 5,
    "start_time": "2022-06-07T17:14:45.411Z"
   },
   {
    "duration": 4,
    "start_time": "2022-06-07T17:14:46.348Z"
   },
   {
    "duration": 36,
    "start_time": "2022-06-07T17:17:44.044Z"
   },
   {
    "duration": 85,
    "start_time": "2022-06-07T17:17:56.086Z"
   },
   {
    "duration": 34,
    "start_time": "2022-06-07T17:33:02.798Z"
   },
   {
    "duration": 862,
    "start_time": "2022-06-07T17:33:41.777Z"
   },
   {
    "duration": 697,
    "start_time": "2022-06-07T17:33:42.641Z"
   },
   {
    "duration": 17,
    "start_time": "2022-06-07T17:33:43.339Z"
   },
   {
    "duration": 12,
    "start_time": "2022-06-07T17:33:43.358Z"
   },
   {
    "duration": 12,
    "start_time": "2022-06-07T17:33:43.371Z"
   },
   {
    "duration": 4,
    "start_time": "2022-06-07T17:33:43.384Z"
   },
   {
    "duration": 445,
    "start_time": "2022-06-07T17:33:43.389Z"
   },
   {
    "duration": 6,
    "start_time": "2022-06-07T17:33:43.836Z"
   },
   {
    "duration": 125,
    "start_time": "2022-06-07T17:33:43.844Z"
   },
   {
    "duration": 0,
    "start_time": "2022-06-07T17:33:43.971Z"
   },
   {
    "duration": 0,
    "start_time": "2022-06-07T17:33:43.972Z"
   },
   {
    "duration": 0,
    "start_time": "2022-06-07T17:33:43.973Z"
   },
   {
    "duration": 0,
    "start_time": "2022-06-07T17:33:43.974Z"
   },
   {
    "duration": 877,
    "start_time": "2022-06-07T17:34:05.446Z"
   },
   {
    "duration": 686,
    "start_time": "2022-06-07T17:34:06.325Z"
   },
   {
    "duration": 21,
    "start_time": "2022-06-07T17:34:07.012Z"
   },
   {
    "duration": 14,
    "start_time": "2022-06-07T17:34:07.034Z"
   },
   {
    "duration": 14,
    "start_time": "2022-06-07T17:34:07.051Z"
   },
   {
    "duration": 3,
    "start_time": "2022-06-07T17:34:07.067Z"
   },
   {
    "duration": 465,
    "start_time": "2022-06-07T17:34:07.072Z"
   },
   {
    "duration": 17,
    "start_time": "2022-06-07T17:34:07.538Z"
   },
   {
    "duration": 121,
    "start_time": "2022-06-07T17:34:07.558Z"
   },
   {
    "duration": 0,
    "start_time": "2022-06-07T17:34:07.681Z"
   },
   {
    "duration": 0,
    "start_time": "2022-06-07T17:34:07.682Z"
   },
   {
    "duration": 0,
    "start_time": "2022-06-07T17:34:07.683Z"
   },
   {
    "duration": 0,
    "start_time": "2022-06-07T17:34:07.684Z"
   },
   {
    "duration": 882,
    "start_time": "2022-06-07T17:34:30.031Z"
   },
   {
    "duration": 779,
    "start_time": "2022-06-07T17:34:30.915Z"
   },
   {
    "duration": 16,
    "start_time": "2022-06-07T17:34:31.696Z"
   },
   {
    "duration": 22,
    "start_time": "2022-06-07T17:34:31.714Z"
   },
   {
    "duration": 21,
    "start_time": "2022-06-07T17:34:31.738Z"
   },
   {
    "duration": 9,
    "start_time": "2022-06-07T17:34:31.761Z"
   },
   {
    "duration": 466,
    "start_time": "2022-06-07T17:34:31.771Z"
   },
   {
    "duration": 7,
    "start_time": "2022-06-07T17:34:32.239Z"
   },
   {
    "duration": 17,
    "start_time": "2022-06-07T17:34:32.248Z"
   },
   {
    "duration": 31,
    "start_time": "2022-06-07T17:34:32.268Z"
   },
   {
    "duration": 15,
    "start_time": "2022-06-07T17:34:32.300Z"
   },
   {
    "duration": 218,
    "start_time": "2022-06-07T17:34:32.317Z"
   },
   {
    "duration": 4,
    "start_time": "2022-06-07T17:35:34.057Z"
   },
   {
    "duration": 33,
    "start_time": "2022-06-07T17:35:59.744Z"
   },
   {
    "duration": 3,
    "start_time": "2022-06-07T17:36:19.767Z"
   },
   {
    "duration": 4,
    "start_time": "2022-06-07T17:36:20.709Z"
   },
   {
    "duration": 42,
    "start_time": "2022-06-07T17:36:21.514Z"
   },
   {
    "duration": 24,
    "start_time": "2022-06-07T17:36:36.622Z"
   },
   {
    "duration": 28,
    "start_time": "2022-06-07T17:36:48.167Z"
   },
   {
    "duration": 7,
    "start_time": "2022-06-07T17:38:02.377Z"
   },
   {
    "duration": 5,
    "start_time": "2022-06-07T17:38:03.580Z"
   },
   {
    "duration": 18,
    "start_time": "2022-06-07T17:41:10.520Z"
   },
   {
    "duration": 14,
    "start_time": "2022-06-07T17:41:17.074Z"
   },
   {
    "duration": 6,
    "start_time": "2022-06-07T17:48:33.759Z"
   },
   {
    "duration": 42,
    "start_time": "2022-06-07T17:48:47.062Z"
   },
   {
    "duration": 16,
    "start_time": "2022-06-07T17:50:02.366Z"
   },
   {
    "duration": 12,
    "start_time": "2022-06-07T17:50:26.943Z"
   },
   {
    "duration": 4,
    "start_time": "2022-06-07T17:51:13.674Z"
   },
   {
    "duration": 7,
    "start_time": "2022-06-07T17:51:23.082Z"
   },
   {
    "duration": 13,
    "start_time": "2022-06-07T17:52:08.635Z"
   },
   {
    "duration": 5,
    "start_time": "2022-06-07T17:52:18.642Z"
   },
   {
    "duration": 10,
    "start_time": "2022-06-07T17:53:16.698Z"
   },
   {
    "duration": 4,
    "start_time": "2022-06-07T17:54:25.473Z"
   },
   {
    "duration": 913,
    "start_time": "2022-06-07T17:54:36.146Z"
   },
   {
    "duration": 689,
    "start_time": "2022-06-07T17:54:37.061Z"
   },
   {
    "duration": 18,
    "start_time": "2022-06-07T17:54:37.752Z"
   },
   {
    "duration": 14,
    "start_time": "2022-06-07T17:54:37.772Z"
   },
   {
    "duration": 16,
    "start_time": "2022-06-07T17:54:37.788Z"
   },
   {
    "duration": 30,
    "start_time": "2022-06-07T17:54:37.806Z"
   },
   {
    "duration": 499,
    "start_time": "2022-06-07T17:54:37.843Z"
   },
   {
    "duration": 6,
    "start_time": "2022-06-07T17:54:38.346Z"
   },
   {
    "duration": 6,
    "start_time": "2022-06-07T17:54:38.353Z"
   },
   {
    "duration": 9,
    "start_time": "2022-06-07T17:54:38.361Z"
   },
   {
    "duration": 10,
    "start_time": "2022-06-07T17:54:38.372Z"
   },
   {
    "duration": 14,
    "start_time": "2022-06-07T17:54:38.383Z"
   },
   {
    "duration": 143,
    "start_time": "2022-06-07T17:54:38.399Z"
   },
   {
    "duration": 121,
    "start_time": "2022-06-07T17:55:11.282Z"
   },
   {
    "duration": 4,
    "start_time": "2022-06-07T17:55:24.502Z"
   },
   {
    "duration": 3,
    "start_time": "2022-06-07T17:55:59.721Z"
   },
   {
    "duration": 7,
    "start_time": "2022-06-07T17:56:07.939Z"
   },
   {
    "duration": 902,
    "start_time": "2022-06-07T17:56:41.348Z"
   },
   {
    "duration": 783,
    "start_time": "2022-06-07T17:56:42.252Z"
   },
   {
    "duration": 20,
    "start_time": "2022-06-07T17:56:43.037Z"
   },
   {
    "duration": 20,
    "start_time": "2022-06-07T17:56:43.060Z"
   },
   {
    "duration": 19,
    "start_time": "2022-06-07T17:56:43.082Z"
   },
   {
    "duration": 26,
    "start_time": "2022-06-07T17:56:43.104Z"
   },
   {
    "duration": 504,
    "start_time": "2022-06-07T17:56:43.132Z"
   },
   {
    "duration": 19,
    "start_time": "2022-06-07T17:56:43.638Z"
   },
   {
    "duration": 7,
    "start_time": "2022-06-07T17:56:43.659Z"
   },
   {
    "duration": 7,
    "start_time": "2022-06-07T17:56:43.669Z"
   },
   {
    "duration": 9,
    "start_time": "2022-06-07T17:56:43.678Z"
   },
   {
    "duration": 7,
    "start_time": "2022-06-07T17:56:43.688Z"
   },
   {
    "duration": 172,
    "start_time": "2022-06-07T17:56:43.697Z"
   },
   {
    "duration": 899,
    "start_time": "2022-06-07T17:57:12.346Z"
   },
   {
    "duration": 797,
    "start_time": "2022-06-07T17:57:13.253Z"
   },
   {
    "duration": 26,
    "start_time": "2022-06-07T17:57:14.053Z"
   },
   {
    "duration": 16,
    "start_time": "2022-06-07T17:57:14.081Z"
   },
   {
    "duration": 44,
    "start_time": "2022-06-07T17:57:14.098Z"
   },
   {
    "duration": 4,
    "start_time": "2022-06-07T17:57:14.145Z"
   },
   {
    "duration": 532,
    "start_time": "2022-06-07T17:57:14.151Z"
   },
   {
    "duration": 8,
    "start_time": "2022-06-07T17:57:14.685Z"
   },
   {
    "duration": 13,
    "start_time": "2022-06-07T17:57:14.694Z"
   },
   {
    "duration": 35,
    "start_time": "2022-06-07T17:57:14.709Z"
   },
   {
    "duration": 160,
    "start_time": "2022-06-07T17:57:14.745Z"
   },
   {
    "duration": 0,
    "start_time": "2022-06-07T17:57:14.907Z"
   },
   {
    "duration": 0,
    "start_time": "2022-06-07T17:57:14.909Z"
   },
   {
    "duration": 15,
    "start_time": "2022-06-07T17:57:26.018Z"
   },
   {
    "duration": 4,
    "start_time": "2022-06-07T17:58:27.064Z"
   },
   {
    "duration": 795,
    "start_time": "2022-06-07T17:59:13.546Z"
   },
   {
    "duration": 725,
    "start_time": "2022-06-07T17:59:14.342Z"
   },
   {
    "duration": 17,
    "start_time": "2022-06-07T17:59:15.069Z"
   },
   {
    "duration": 12,
    "start_time": "2022-06-07T17:59:15.088Z"
   },
   {
    "duration": 27,
    "start_time": "2022-06-07T17:59:15.102Z"
   },
   {
    "duration": 4,
    "start_time": "2022-06-07T17:59:15.131Z"
   },
   {
    "duration": 475,
    "start_time": "2022-06-07T17:59:15.136Z"
   },
   {
    "duration": 5,
    "start_time": "2022-06-07T17:59:15.613Z"
   },
   {
    "duration": 3,
    "start_time": "2022-06-07T17:59:15.627Z"
   },
   {
    "duration": 7,
    "start_time": "2022-06-07T17:59:15.632Z"
   },
   {
    "duration": 13,
    "start_time": "2022-06-07T17:59:15.641Z"
   },
   {
    "duration": 4,
    "start_time": "2022-06-07T17:59:15.656Z"
   },
   {
    "duration": 124,
    "start_time": "2022-06-07T17:59:15.662Z"
   },
   {
    "duration": 16,
    "start_time": "2022-06-07T19:59:55.169Z"
   },
   {
    "duration": 26,
    "start_time": "2022-06-07T20:07:24.787Z"
   },
   {
    "duration": 110,
    "start_time": "2022-06-07T20:09:44.662Z"
   },
   {
    "duration": 15,
    "start_time": "2022-06-07T20:09:56.574Z"
   },
   {
    "duration": 35,
    "start_time": "2022-06-07T20:10:10.652Z"
   },
   {
    "duration": 23,
    "start_time": "2022-06-07T20:10:15.428Z"
   },
   {
    "duration": 327,
    "start_time": "2022-06-07T20:10:35.624Z"
   },
   {
    "duration": 370,
    "start_time": "2022-06-07T20:11:32.580Z"
   },
   {
    "duration": 342,
    "start_time": "2022-06-07T20:13:05.919Z"
   },
   {
    "duration": 20,
    "start_time": "2022-06-07T20:13:40.907Z"
   },
   {
    "duration": 23,
    "start_time": "2022-06-07T20:15:30.655Z"
   },
   {
    "duration": 621,
    "start_time": "2022-06-07T20:15:44.407Z"
   },
   {
    "duration": 193,
    "start_time": "2022-06-07T20:15:59.813Z"
   },
   {
    "duration": 315,
    "start_time": "2022-06-07T20:16:39.170Z"
   },
   {
    "duration": 318,
    "start_time": "2022-06-07T20:17:14.859Z"
   },
   {
    "duration": 387,
    "start_time": "2022-06-07T20:19:27.084Z"
   },
   {
    "duration": 161,
    "start_time": "2022-06-07T20:20:59.060Z"
   },
   {
    "duration": 239,
    "start_time": "2022-06-07T20:22:43.703Z"
   },
   {
    "duration": 132,
    "start_time": "2022-06-07T20:23:00.200Z"
   },
   {
    "duration": 150,
    "start_time": "2022-06-07T20:23:10.895Z"
   },
   {
    "duration": 20,
    "start_time": "2022-06-07T20:25:59.217Z"
   },
   {
    "duration": 21,
    "start_time": "2022-06-07T20:26:11.820Z"
   },
   {
    "duration": 419,
    "start_time": "2022-06-07T20:29:50.603Z"
   },
   {
    "duration": 577,
    "start_time": "2022-06-07T20:35:43.540Z"
   },
   {
    "duration": 446,
    "start_time": "2022-06-07T20:36:24.364Z"
   },
   {
    "duration": 470,
    "start_time": "2022-06-07T20:37:03.039Z"
   },
   {
    "duration": 452,
    "start_time": "2022-06-07T20:39:04.813Z"
   },
   {
    "duration": 577,
    "start_time": "2022-06-07T20:39:33.703Z"
   },
   {
    "duration": 430,
    "start_time": "2022-06-07T20:40:01.190Z"
   },
   {
    "duration": 13,
    "start_time": "2022-06-07T20:43:50.098Z"
   },
   {
    "duration": 5,
    "start_time": "2022-06-07T20:46:07.712Z"
   },
   {
    "duration": 23,
    "start_time": "2022-06-07T20:50:56.260Z"
   },
   {
    "duration": 13,
    "start_time": "2022-06-07T20:51:22.734Z"
   },
   {
    "duration": 18,
    "start_time": "2022-06-07T20:51:32.001Z"
   },
   {
    "duration": 787,
    "start_time": "2022-06-07T20:52:06.587Z"
   },
   {
    "duration": 326,
    "start_time": "2022-06-07T20:53:02.753Z"
   },
   {
    "duration": 17,
    "start_time": "2022-06-07T20:54:16.126Z"
   },
   {
    "duration": 1241,
    "start_time": "2022-06-08T21:39:26.625Z"
   },
   {
    "duration": 1733,
    "start_time": "2022-06-08T21:39:27.868Z"
   },
   {
    "duration": 43,
    "start_time": "2022-06-08T21:39:29.603Z"
   },
   {
    "duration": 19,
    "start_time": "2022-06-08T21:39:29.649Z"
   },
   {
    "duration": 15,
    "start_time": "2022-06-08T21:39:29.669Z"
   },
   {
    "duration": 13,
    "start_time": "2022-06-08T21:39:29.686Z"
   },
   {
    "duration": 25,
    "start_time": "2022-06-08T21:39:29.701Z"
   },
   {
    "duration": 164,
    "start_time": "2022-06-08T21:39:29.728Z"
   },
   {
    "duration": 5,
    "start_time": "2022-06-08T21:39:29.895Z"
   },
   {
    "duration": 5,
    "start_time": "2022-06-08T21:39:29.902Z"
   },
   {
    "duration": 18,
    "start_time": "2022-06-08T21:39:29.908Z"
   },
   {
    "duration": 5,
    "start_time": "2022-06-08T21:39:29.928Z"
   },
   {
    "duration": 4,
    "start_time": "2022-06-08T21:39:29.935Z"
   },
   {
    "duration": 30,
    "start_time": "2022-06-08T21:39:29.941Z"
   },
   {
    "duration": 125,
    "start_time": "2022-06-08T21:39:29.972Z"
   },
   {
    "duration": 0,
    "start_time": "2022-06-08T21:39:30.098Z"
   },
   {
    "duration": 0,
    "start_time": "2022-06-08T21:39:30.099Z"
   },
   {
    "duration": 0,
    "start_time": "2022-06-08T21:39:30.100Z"
   },
   {
    "duration": 0,
    "start_time": "2022-06-08T21:39:30.101Z"
   },
   {
    "duration": 0,
    "start_time": "2022-06-08T21:39:30.103Z"
   },
   {
    "duration": 482,
    "start_time": "2022-06-08T21:50:34.610Z"
   },
   {
    "duration": 468,
    "start_time": "2022-06-08T21:51:10.186Z"
   },
   {
    "duration": 454,
    "start_time": "2022-06-08T21:51:52.241Z"
   },
   {
    "duration": 482,
    "start_time": "2022-06-08T21:53:41.214Z"
   },
   {
    "duration": 437,
    "start_time": "2022-06-08T21:53:59.099Z"
   },
   {
    "duration": 390,
    "start_time": "2022-06-08T21:55:56.800Z"
   },
   {
    "duration": 469,
    "start_time": "2022-06-08T21:56:10.127Z"
   },
   {
    "duration": 1186,
    "start_time": "2022-06-08T21:56:48.762Z"
   },
   {
    "duration": 618,
    "start_time": "2022-06-08T21:56:49.949Z"
   },
   {
    "duration": 31,
    "start_time": "2022-06-08T21:56:50.568Z"
   },
   {
    "duration": 31,
    "start_time": "2022-06-08T21:56:50.600Z"
   },
   {
    "duration": 12,
    "start_time": "2022-06-08T21:56:50.634Z"
   },
   {
    "duration": 14,
    "start_time": "2022-06-08T21:56:50.647Z"
   },
   {
    "duration": 3,
    "start_time": "2022-06-08T21:56:50.662Z"
   },
   {
    "duration": 182,
    "start_time": "2022-06-08T21:56:50.667Z"
   },
   {
    "duration": 6,
    "start_time": "2022-06-08T21:56:50.851Z"
   },
   {
    "duration": 12,
    "start_time": "2022-06-08T21:56:50.858Z"
   },
   {
    "duration": 7,
    "start_time": "2022-06-08T21:56:50.872Z"
   },
   {
    "duration": 7,
    "start_time": "2022-06-08T21:56:50.881Z"
   },
   {
    "duration": 7,
    "start_time": "2022-06-08T21:56:50.889Z"
   },
   {
    "duration": 41,
    "start_time": "2022-06-08T21:56:50.898Z"
   },
   {
    "duration": 463,
    "start_time": "2022-06-08T21:56:50.941Z"
   },
   {
    "duration": 505,
    "start_time": "2022-06-08T21:56:51.406Z"
   },
   {
    "duration": 5,
    "start_time": "2022-06-08T21:56:51.912Z"
   },
   {
    "duration": 5,
    "start_time": "2022-06-08T21:56:51.925Z"
   },
   {
    "duration": 6,
    "start_time": "2022-06-08T21:56:51.931Z"
   },
   {
    "duration": 0,
    "start_time": "2022-06-08T21:56:51.938Z"
   },
   {
    "duration": 0,
    "start_time": "2022-06-08T21:56:51.940Z"
   },
   {
    "duration": 739,
    "start_time": "2022-06-08T21:58:14.766Z"
   },
   {
    "duration": 580,
    "start_time": "2022-06-08T21:59:18.430Z"
   },
   {
    "duration": 538,
    "start_time": "2022-06-08T22:00:35.499Z"
   },
   {
    "duration": 9,
    "start_time": "2022-06-08T22:07:51.125Z"
   },
   {
    "duration": 9,
    "start_time": "2022-06-08T22:14:11.047Z"
   },
   {
    "duration": 7,
    "start_time": "2022-06-08T22:14:53.187Z"
   },
   {
    "duration": 8,
    "start_time": "2022-06-08T22:15:16.714Z"
   },
   {
    "duration": 8,
    "start_time": "2022-06-08T22:15:40.808Z"
   },
   {
    "duration": 8,
    "start_time": "2022-06-08T22:23:24.566Z"
   },
   {
    "duration": 6,
    "start_time": "2022-06-08T22:24:08.362Z"
   },
   {
    "duration": 1209,
    "start_time": "2022-06-08T22:24:17.206Z"
   },
   {
    "duration": 664,
    "start_time": "2022-06-08T22:24:18.417Z"
   },
   {
    "duration": 33,
    "start_time": "2022-06-08T22:24:19.082Z"
   },
   {
    "duration": 17,
    "start_time": "2022-06-08T22:24:19.126Z"
   },
   {
    "duration": 13,
    "start_time": "2022-06-08T22:24:19.144Z"
   },
   {
    "duration": 14,
    "start_time": "2022-06-08T22:24:19.158Z"
   },
   {
    "duration": 4,
    "start_time": "2022-06-08T22:24:19.173Z"
   },
   {
    "duration": 354,
    "start_time": "2022-06-08T22:24:19.178Z"
   },
   {
    "duration": 6,
    "start_time": "2022-06-08T22:24:19.533Z"
   },
   {
    "duration": 8,
    "start_time": "2022-06-08T22:24:19.541Z"
   },
   {
    "duration": 10,
    "start_time": "2022-06-08T22:24:19.550Z"
   },
   {
    "duration": 10,
    "start_time": "2022-06-08T22:24:19.562Z"
   },
   {
    "duration": 55,
    "start_time": "2022-06-08T22:24:19.573Z"
   },
   {
    "duration": 33,
    "start_time": "2022-06-08T22:24:19.630Z"
   },
   {
    "duration": 980,
    "start_time": "2022-06-08T22:24:19.665Z"
   },
   {
    "duration": 954,
    "start_time": "2022-06-08T22:24:20.647Z"
   },
   {
    "duration": 620,
    "start_time": "2022-06-08T22:24:21.602Z"
   },
   {
    "duration": 427,
    "start_time": "2022-06-08T22:24:22.225Z"
   },
   {
    "duration": 7,
    "start_time": "2022-06-08T22:24:22.654Z"
   },
   {
    "duration": 5,
    "start_time": "2022-06-08T22:24:22.662Z"
   },
   {
    "duration": 5,
    "start_time": "2022-06-08T22:24:22.668Z"
   },
   {
    "duration": 0,
    "start_time": "2022-06-08T22:24:22.675Z"
   },
   {
    "duration": 0,
    "start_time": "2022-06-08T22:24:22.676Z"
   },
   {
    "duration": 7,
    "start_time": "2022-06-08T22:26:05.027Z"
   },
   {
    "duration": 10,
    "start_time": "2022-06-08T22:26:55.036Z"
   },
   {
    "duration": 16,
    "start_time": "2022-06-08T22:29:58.112Z"
   },
   {
    "duration": 866,
    "start_time": "2022-06-08T22:30:17.584Z"
   },
   {
    "duration": 939,
    "start_time": "2022-06-08T22:30:36.330Z"
   },
   {
    "duration": 105,
    "start_time": "2022-06-08T22:32:41.959Z"
   },
   {
    "duration": 491,
    "start_time": "2022-06-08T22:33:17.886Z"
   },
   {
    "duration": 702,
    "start_time": "2022-06-08T22:35:00.119Z"
   },
   {
    "duration": 852,
    "start_time": "2022-06-08T22:35:07.021Z"
   },
   {
    "duration": 55,
    "start_time": "2022-06-08T23:03:58.290Z"
   },
   {
    "duration": 29,
    "start_time": "2022-06-08T23:04:14.216Z"
   },
   {
    "duration": 3,
    "start_time": "2022-06-08T23:04:22.808Z"
   },
   {
    "duration": 5,
    "start_time": "2022-06-08T23:04:42.038Z"
   },
   {
    "duration": 4,
    "start_time": "2022-06-08T23:05:13.155Z"
   },
   {
    "duration": 459,
    "start_time": "2022-06-08T23:07:28.080Z"
   },
   {
    "duration": 10,
    "start_time": "2022-06-08T23:07:43.606Z"
   },
   {
    "duration": 8,
    "start_time": "2022-06-08T23:09:01.109Z"
   },
   {
    "duration": 8,
    "start_time": "2022-06-08T23:10:25.286Z"
   },
   {
    "duration": 7,
    "start_time": "2022-06-08T23:18:24.318Z"
   },
   {
    "duration": 93,
    "start_time": "2022-06-08T23:22:16.276Z"
   },
   {
    "duration": 1582,
    "start_time": "2022-06-09T12:00:23.124Z"
   },
   {
    "duration": 3201,
    "start_time": "2022-06-09T12:00:24.712Z"
   },
   {
    "duration": 37,
    "start_time": "2022-06-09T12:00:27.914Z"
   },
   {
    "duration": 22,
    "start_time": "2022-06-09T12:00:27.954Z"
   },
   {
    "duration": 36,
    "start_time": "2022-06-09T12:00:27.979Z"
   },
   {
    "duration": 22,
    "start_time": "2022-06-09T12:00:28.017Z"
   },
   {
    "duration": 5,
    "start_time": "2022-06-09T12:00:28.042Z"
   },
   {
    "duration": 263,
    "start_time": "2022-06-09T12:00:28.049Z"
   },
   {
    "duration": 7,
    "start_time": "2022-06-09T12:00:28.314Z"
   },
   {
    "duration": 16,
    "start_time": "2022-06-09T12:00:28.324Z"
   },
   {
    "duration": 12,
    "start_time": "2022-06-09T12:00:28.342Z"
   },
   {
    "duration": 14,
    "start_time": "2022-06-09T12:00:28.356Z"
   },
   {
    "duration": 11,
    "start_time": "2022-06-09T12:00:28.372Z"
   },
   {
    "duration": 49,
    "start_time": "2022-06-09T12:00:28.385Z"
   },
   {
    "duration": 615,
    "start_time": "2022-06-09T12:00:28.436Z"
   },
   {
    "duration": 1146,
    "start_time": "2022-06-09T12:00:29.053Z"
   },
   {
    "duration": 766,
    "start_time": "2022-06-09T12:00:30.203Z"
   },
   {
    "duration": 555,
    "start_time": "2022-06-09T12:00:30.972Z"
   },
   {
    "duration": 9,
    "start_time": "2022-06-09T12:00:31.529Z"
   },
   {
    "duration": 1187,
    "start_time": "2022-06-09T12:00:31.540Z"
   },
   {
    "duration": 608,
    "start_time": "2022-06-09T12:00:32.729Z"
   },
   {
    "duration": 950,
    "start_time": "2022-06-09T12:00:33.339Z"
   },
   {
    "duration": 819,
    "start_time": "2022-06-09T12:00:34.295Z"
   },
   {
    "duration": 7,
    "start_time": "2022-06-09T12:00:35.116Z"
   },
   {
    "duration": 14,
    "start_time": "2022-06-09T12:00:35.125Z"
   },
   {
    "duration": 226,
    "start_time": "2022-06-09T12:00:35.141Z"
   },
   {
    "duration": 15,
    "start_time": "2022-06-09T12:05:09.658Z"
   },
   {
    "duration": 12,
    "start_time": "2022-06-09T12:05:29.954Z"
   },
   {
    "duration": 33,
    "start_time": "2022-06-09T12:05:46.336Z"
   },
   {
    "duration": 5,
    "start_time": "2022-06-09T12:09:14.849Z"
   },
   {
    "duration": 13,
    "start_time": "2022-06-09T12:09:22.236Z"
   },
   {
    "duration": 10,
    "start_time": "2022-06-09T12:10:07.282Z"
   },
   {
    "duration": 92,
    "start_time": "2022-06-09T12:10:29.219Z"
   },
   {
    "duration": 6,
    "start_time": "2022-06-09T12:11:17.945Z"
   },
   {
    "duration": 7,
    "start_time": "2022-06-09T12:11:18.664Z"
   },
   {
    "duration": 894,
    "start_time": "2022-06-09T12:11:20.413Z"
   },
   {
    "duration": 165,
    "start_time": "2022-06-09T12:12:01.007Z"
   },
   {
    "duration": 186,
    "start_time": "2022-06-09T12:12:05.583Z"
   },
   {
    "duration": 226,
    "start_time": "2022-06-09T12:12:10.663Z"
   },
   {
    "duration": 262,
    "start_time": "2022-06-09T12:12:16.009Z"
   },
   {
    "duration": 298,
    "start_time": "2022-06-09T12:12:21.544Z"
   },
   {
    "duration": 337,
    "start_time": "2022-06-09T12:12:29.449Z"
   },
   {
    "duration": 396,
    "start_time": "2022-06-09T12:12:34.781Z"
   },
   {
    "duration": 444,
    "start_time": "2022-06-09T12:12:40.318Z"
   },
   {
    "duration": 450,
    "start_time": "2022-06-09T12:12:45.842Z"
   },
   {
    "duration": 526,
    "start_time": "2022-06-09T12:12:50.410Z"
   },
   {
    "duration": 517,
    "start_time": "2022-06-09T12:12:55.047Z"
   },
   {
    "duration": 572,
    "start_time": "2022-06-09T12:13:00.487Z"
   },
   {
    "duration": 759,
    "start_time": "2022-06-09T12:13:06.940Z"
   },
   {
    "duration": 832,
    "start_time": "2022-06-09T12:13:14.063Z"
   },
   {
    "duration": 861,
    "start_time": "2022-06-09T12:13:19.649Z"
   },
   {
    "duration": 201,
    "start_time": "2022-06-09T12:13:52.051Z"
   },
   {
    "duration": 21,
    "start_time": "2022-06-09T12:26:26.286Z"
   },
   {
    "duration": 3829,
    "start_time": "2022-06-09T12:26:42.256Z"
   },
   {
    "duration": 3866,
    "start_time": "2022-06-09T12:28:46.333Z"
   },
   {
    "duration": 25817,
    "start_time": "2022-06-09T12:31:03.736Z"
   },
   {
    "duration": 16191,
    "start_time": "2022-06-09T12:32:54.635Z"
   },
   {
    "duration": 583,
    "start_time": "2022-06-09T12:34:11.696Z"
   },
   {
    "duration": 34,
    "start_time": "2022-06-09T12:43:35.354Z"
   },
   {
    "duration": 52,
    "start_time": "2022-06-09T12:45:35.657Z"
   },
   {
    "duration": 1407,
    "start_time": "2022-06-09T12:45:43.389Z"
   },
   {
    "duration": 827,
    "start_time": "2022-06-09T12:45:44.800Z"
   },
   {
    "duration": 36,
    "start_time": "2022-06-09T12:45:45.629Z"
   },
   {
    "duration": 46,
    "start_time": "2022-06-09T12:45:45.667Z"
   },
   {
    "duration": 16,
    "start_time": "2022-06-09T12:45:45.715Z"
   },
   {
    "duration": 39,
    "start_time": "2022-06-09T12:45:45.733Z"
   },
   {
    "duration": 52,
    "start_time": "2022-06-09T12:45:45.774Z"
   },
   {
    "duration": 15,
    "start_time": "2022-06-09T12:45:45.828Z"
   },
   {
    "duration": 4,
    "start_time": "2022-06-09T12:45:45.845Z"
   },
   {
    "duration": 233,
    "start_time": "2022-06-09T12:45:45.852Z"
   },
   {
    "duration": 35,
    "start_time": "2022-06-09T12:45:46.087Z"
   },
   {
    "duration": 36,
    "start_time": "2022-06-09T12:45:46.125Z"
   },
   {
    "duration": 12,
    "start_time": "2022-06-09T12:45:46.163Z"
   },
   {
    "duration": 9,
    "start_time": "2022-06-09T12:45:46.177Z"
   },
   {
    "duration": 15,
    "start_time": "2022-06-09T12:45:46.188Z"
   },
   {
    "duration": 67,
    "start_time": "2022-06-09T12:45:46.207Z"
   },
   {
    "duration": 509,
    "start_time": "2022-06-09T12:45:46.275Z"
   },
   {
    "duration": 978,
    "start_time": "2022-06-09T12:45:46.785Z"
   },
   {
    "duration": 780,
    "start_time": "2022-06-09T12:45:47.765Z"
   },
   {
    "duration": 509,
    "start_time": "2022-06-09T12:45:48.547Z"
   },
   {
    "duration": 9,
    "start_time": "2022-06-09T12:45:49.057Z"
   },
   {
    "duration": 1205,
    "start_time": "2022-06-09T12:45:49.068Z"
   },
   {
    "duration": 927,
    "start_time": "2022-06-09T12:45:50.275Z"
   },
   {
    "duration": 2116,
    "start_time": "2022-06-09T12:45:51.204Z"
   },
   {
    "duration": 905,
    "start_time": "2022-06-09T12:45:53.322Z"
   },
   {
    "duration": 24,
    "start_time": "2022-06-09T12:45:54.229Z"
   },
   {
    "duration": 0,
    "start_time": "2022-06-09T12:45:54.256Z"
   },
   {
    "duration": 0,
    "start_time": "2022-06-09T12:45:54.257Z"
   },
   {
    "duration": 0,
    "start_time": "2022-06-09T12:45:54.259Z"
   },
   {
    "duration": 0,
    "start_time": "2022-06-09T12:45:54.260Z"
   },
   {
    "duration": 23,
    "start_time": "2022-06-09T12:46:18.656Z"
   },
   {
    "duration": 1294,
    "start_time": "2022-06-09T12:47:00.537Z"
   },
   {
    "duration": 792,
    "start_time": "2022-06-09T12:47:01.834Z"
   },
   {
    "duration": 37,
    "start_time": "2022-06-09T12:47:02.629Z"
   },
   {
    "duration": 39,
    "start_time": "2022-06-09T12:47:02.669Z"
   },
   {
    "duration": 14,
    "start_time": "2022-06-09T12:47:02.710Z"
   },
   {
    "duration": 27,
    "start_time": "2022-06-09T12:47:02.726Z"
   },
   {
    "duration": 63,
    "start_time": "2022-06-09T12:47:02.755Z"
   },
   {
    "duration": 3,
    "start_time": "2022-06-09T12:47:02.820Z"
   },
   {
    "duration": 212,
    "start_time": "2022-06-09T12:47:02.824Z"
   },
   {
    "duration": 6,
    "start_time": "2022-06-09T12:47:03.039Z"
   },
   {
    "duration": 68,
    "start_time": "2022-06-09T12:47:03.046Z"
   },
   {
    "duration": 11,
    "start_time": "2022-06-09T12:47:03.116Z"
   },
   {
    "duration": 7,
    "start_time": "2022-06-09T12:47:03.128Z"
   },
   {
    "duration": 5,
    "start_time": "2022-06-09T12:47:03.136Z"
   },
   {
    "duration": 38,
    "start_time": "2022-06-09T12:47:03.143Z"
   },
   {
    "duration": 569,
    "start_time": "2022-06-09T12:47:03.183Z"
   },
   {
    "duration": 1091,
    "start_time": "2022-06-09T12:47:03.755Z"
   },
   {
    "duration": 706,
    "start_time": "2022-06-09T12:47:04.848Z"
   },
   {
    "duration": 1260,
    "start_time": "2022-06-09T12:47:05.556Z"
   },
   {
    "duration": 9,
    "start_time": "2022-06-09T12:47:06.818Z"
   },
   {
    "duration": 2000,
    "start_time": "2022-06-09T12:47:06.829Z"
   },
   {
    "duration": 1384,
    "start_time": "2022-06-09T12:47:08.830Z"
   },
   {
    "duration": 1772,
    "start_time": "2022-06-09T12:47:10.216Z"
   },
   {
    "duration": 865,
    "start_time": "2022-06-09T12:47:11.990Z"
   },
   {
    "duration": 5,
    "start_time": "2022-06-09T12:47:12.857Z"
   },
   {
    "duration": 0,
    "start_time": "2022-06-09T12:47:12.864Z"
   },
   {
    "duration": 1,
    "start_time": "2022-06-09T12:47:12.865Z"
   },
   {
    "duration": 0,
    "start_time": "2022-06-09T12:47:12.866Z"
   },
   {
    "duration": 0,
    "start_time": "2022-06-09T12:47:12.867Z"
   },
   {
    "duration": 145,
    "start_time": "2022-06-09T12:47:31.843Z"
   },
   {
    "duration": 14,
    "start_time": "2022-06-09T12:47:59.919Z"
   },
   {
    "duration": 134,
    "start_time": "2022-06-09T12:56:01.509Z"
   },
   {
    "duration": 23,
    "start_time": "2022-06-09T12:58:11.893Z"
   },
   {
    "duration": 24,
    "start_time": "2022-06-09T12:58:36.066Z"
   },
   {
    "duration": 4,
    "start_time": "2022-06-09T12:59:28.385Z"
   },
   {
    "duration": 5,
    "start_time": "2022-06-09T12:59:50.668Z"
   },
   {
    "duration": 16,
    "start_time": "2022-06-09T13:00:02.024Z"
   },
   {
    "duration": 11,
    "start_time": "2022-06-09T13:00:25.620Z"
   },
   {
    "duration": 9,
    "start_time": "2022-06-09T13:01:27.192Z"
   },
   {
    "duration": 12,
    "start_time": "2022-06-09T13:01:39.359Z"
   },
   {
    "duration": 15,
    "start_time": "2022-06-09T13:01:57.018Z"
   },
   {
    "duration": 13,
    "start_time": "2022-06-09T13:02:27.922Z"
   },
   {
    "duration": 6,
    "start_time": "2022-06-09T13:02:36.063Z"
   },
   {
    "duration": 20,
    "start_time": "2022-06-09T13:02:40.057Z"
   },
   {
    "duration": 14,
    "start_time": "2022-06-09T13:02:46.821Z"
   },
   {
    "duration": 190,
    "start_time": "2022-06-09T13:03:05.749Z"
   },
   {
    "duration": 5,
    "start_time": "2022-06-09T13:04:00.148Z"
   },
   {
    "duration": 15,
    "start_time": "2022-06-09T13:04:10.219Z"
   },
   {
    "duration": 21,
    "start_time": "2022-06-09T13:04:56.822Z"
   },
   {
    "duration": 14,
    "start_time": "2022-06-09T13:05:07.250Z"
   },
   {
    "duration": 45,
    "start_time": "2022-06-09T13:06:03.710Z"
   },
   {
    "duration": 24,
    "start_time": "2022-06-09T13:06:31.116Z"
   },
   {
    "duration": 10,
    "start_time": "2022-06-09T13:07:39.824Z"
   },
   {
    "duration": 12,
    "start_time": "2022-06-09T13:07:57.808Z"
   },
   {
    "duration": 22,
    "start_time": "2022-06-09T13:23:07.416Z"
   },
   {
    "duration": 20,
    "start_time": "2022-06-09T13:26:22.913Z"
   },
   {
    "duration": 18,
    "start_time": "2022-06-09T13:26:36.749Z"
   },
   {
    "duration": 8,
    "start_time": "2022-06-09T13:27:12.381Z"
   },
   {
    "duration": 22,
    "start_time": "2022-06-09T13:39:51.950Z"
   },
   {
    "duration": 30,
    "start_time": "2022-06-09T13:40:12.058Z"
   },
   {
    "duration": 6,
    "start_time": "2022-06-09T13:41:03.580Z"
   },
   {
    "duration": 5,
    "start_time": "2022-06-09T13:41:13.965Z"
   },
   {
    "duration": 4,
    "start_time": "2022-06-09T13:41:40.546Z"
   },
   {
    "duration": 8,
    "start_time": "2022-06-09T13:41:41.379Z"
   },
   {
    "duration": 13,
    "start_time": "2022-06-09T13:42:05.577Z"
   },
   {
    "duration": 4,
    "start_time": "2022-06-09T13:42:10.287Z"
   },
   {
    "duration": 13,
    "start_time": "2022-06-09T13:42:19.516Z"
   },
   {
    "duration": 22,
    "start_time": "2022-06-09T13:43:25.628Z"
   },
   {
    "duration": 4,
    "start_time": "2022-06-09T13:43:31.457Z"
   },
   {
    "duration": 22,
    "start_time": "2022-06-09T13:43:32.555Z"
   },
   {
    "duration": 4,
    "start_time": "2022-06-09T13:51:40.939Z"
   },
   {
    "duration": 9,
    "start_time": "2022-06-09T13:51:54.713Z"
   },
   {
    "duration": 8,
    "start_time": "2022-06-09T13:51:55.519Z"
   },
   {
    "duration": 10,
    "start_time": "2022-06-09T13:51:57.019Z"
   },
   {
    "duration": 652,
    "start_time": "2022-06-09T13:52:01.496Z"
   },
   {
    "duration": 43,
    "start_time": "2022-06-09T13:52:04.088Z"
   },
   {
    "duration": 37,
    "start_time": "2022-06-09T13:55:55.518Z"
   },
   {
    "duration": 46,
    "start_time": "2022-06-09T13:55:59.030Z"
   },
   {
    "duration": 1557,
    "start_time": "2022-06-09T17:42:22.703Z"
   },
   {
    "duration": 3430,
    "start_time": "2022-06-09T17:42:24.261Z"
   },
   {
    "duration": 35,
    "start_time": "2022-06-09T17:42:27.693Z"
   },
   {
    "duration": 17,
    "start_time": "2022-06-09T17:42:27.730Z"
   },
   {
    "duration": 12,
    "start_time": "2022-06-09T17:42:27.748Z"
   },
   {
    "duration": 53,
    "start_time": "2022-06-09T17:42:27.761Z"
   },
   {
    "duration": 14,
    "start_time": "2022-06-09T17:42:27.815Z"
   },
   {
    "duration": 13,
    "start_time": "2022-06-09T17:42:27.830Z"
   },
   {
    "duration": 3,
    "start_time": "2022-06-09T17:42:27.845Z"
   },
   {
    "duration": 6,
    "start_time": "2022-06-09T17:42:27.852Z"
   },
   {
    "duration": 5,
    "start_time": "2022-06-09T17:42:27.860Z"
   },
   {
    "duration": 11,
    "start_time": "2022-06-09T17:42:27.899Z"
   },
   {
    "duration": 8,
    "start_time": "2022-06-09T17:42:27.911Z"
   },
   {
    "duration": 5,
    "start_time": "2022-06-09T17:42:27.921Z"
   },
   {
    "duration": 39,
    "start_time": "2022-06-09T17:42:27.927Z"
   },
   {
    "duration": 551,
    "start_time": "2022-06-09T17:42:27.968Z"
   },
   {
    "duration": 1486,
    "start_time": "2022-06-09T17:42:28.520Z"
   },
   {
    "duration": 1591,
    "start_time": "2022-06-09T17:42:30.008Z"
   },
   {
    "duration": 584,
    "start_time": "2022-06-09T17:42:31.601Z"
   },
   {
    "duration": 12,
    "start_time": "2022-06-09T17:42:32.186Z"
   },
   {
    "duration": 1056,
    "start_time": "2022-06-09T17:42:32.200Z"
   },
   {
    "duration": 619,
    "start_time": "2022-06-09T17:42:33.258Z"
   },
   {
    "duration": 970,
    "start_time": "2022-06-09T17:42:33.879Z"
   },
   {
    "duration": 948,
    "start_time": "2022-06-09T17:42:34.852Z"
   },
   {
    "duration": 5,
    "start_time": "2022-06-09T17:42:35.806Z"
   },
   {
    "duration": 14,
    "start_time": "2022-06-09T17:42:35.813Z"
   },
   {
    "duration": 9,
    "start_time": "2022-06-09T17:42:35.828Z"
   },
   {
    "duration": 116,
    "start_time": "2022-06-09T17:42:35.840Z"
   },
   {
    "duration": 0,
    "start_time": "2022-06-09T17:42:35.958Z"
   },
   {
    "duration": 10,
    "start_time": "2022-06-09T17:45:09.907Z"
   },
   {
    "duration": 12,
    "start_time": "2022-06-09T17:45:21.407Z"
   },
   {
    "duration": 17,
    "start_time": "2022-06-09T17:45:50.296Z"
   },
   {
    "duration": 9,
    "start_time": "2022-06-09T17:49:48.447Z"
   },
   {
    "duration": 38,
    "start_time": "2022-06-09T17:56:05.421Z"
   },
   {
    "duration": 26,
    "start_time": "2022-06-09T17:56:21.120Z"
   },
   {
    "duration": 71,
    "start_time": "2022-06-09T17:56:30.259Z"
   },
   {
    "duration": 10,
    "start_time": "2022-06-09T17:57:29.948Z"
   },
   {
    "duration": 17,
    "start_time": "2022-06-09T17:59:04.409Z"
   },
   {
    "duration": 50,
    "start_time": "2022-06-09T18:00:01.769Z"
   },
   {
    "duration": 39,
    "start_time": "2022-06-09T18:00:23.828Z"
   },
   {
    "duration": 39,
    "start_time": "2022-06-09T18:02:13.416Z"
   },
   {
    "duration": 4,
    "start_time": "2022-06-09T18:03:32.548Z"
   },
   {
    "duration": 6,
    "start_time": "2022-06-09T18:04:32.806Z"
   },
   {
    "duration": 17,
    "start_time": "2022-06-09T18:06:38.206Z"
   },
   {
    "duration": 1255,
    "start_time": "2022-06-09T18:07:25.415Z"
   },
   {
    "duration": 762,
    "start_time": "2022-06-09T18:07:26.672Z"
   },
   {
    "duration": 32,
    "start_time": "2022-06-09T18:07:27.436Z"
   },
   {
    "duration": 31,
    "start_time": "2022-06-09T18:07:27.470Z"
   },
   {
    "duration": 14,
    "start_time": "2022-06-09T18:07:27.503Z"
   },
   {
    "duration": 25,
    "start_time": "2022-06-09T18:07:27.518Z"
   },
   {
    "duration": 14,
    "start_time": "2022-06-09T18:07:27.545Z"
   },
   {
    "duration": 2,
    "start_time": "2022-06-09T18:07:27.561Z"
   },
   {
    "duration": 116,
    "start_time": "2022-06-09T18:07:27.597Z"
   },
   {
    "duration": 0,
    "start_time": "2022-06-09T18:07:27.715Z"
   },
   {
    "duration": 0,
    "start_time": "2022-06-09T18:07:27.716Z"
   },
   {
    "duration": 0,
    "start_time": "2022-06-09T18:07:27.717Z"
   },
   {
    "duration": 0,
    "start_time": "2022-06-09T18:07:27.718Z"
   },
   {
    "duration": 0,
    "start_time": "2022-06-09T18:07:27.719Z"
   },
   {
    "duration": 0,
    "start_time": "2022-06-09T18:07:27.720Z"
   },
   {
    "duration": 0,
    "start_time": "2022-06-09T18:07:27.720Z"
   },
   {
    "duration": 0,
    "start_time": "2022-06-09T18:07:27.721Z"
   },
   {
    "duration": 0,
    "start_time": "2022-06-09T18:07:27.722Z"
   },
   {
    "duration": 0,
    "start_time": "2022-06-09T18:07:27.723Z"
   },
   {
    "duration": 0,
    "start_time": "2022-06-09T18:07:27.724Z"
   },
   {
    "duration": 0,
    "start_time": "2022-06-09T18:07:27.724Z"
   },
   {
    "duration": 0,
    "start_time": "2022-06-09T18:07:27.725Z"
   },
   {
    "duration": 0,
    "start_time": "2022-06-09T18:07:27.726Z"
   },
   {
    "duration": 0,
    "start_time": "2022-06-09T18:07:27.727Z"
   },
   {
    "duration": 0,
    "start_time": "2022-06-09T18:07:27.728Z"
   },
   {
    "duration": 0,
    "start_time": "2022-06-09T18:07:27.729Z"
   },
   {
    "duration": 0,
    "start_time": "2022-06-09T18:07:27.730Z"
   },
   {
    "duration": 0,
    "start_time": "2022-06-09T18:07:27.731Z"
   },
   {
    "duration": 9,
    "start_time": "2022-06-09T18:08:12.163Z"
   },
   {
    "duration": 7,
    "start_time": "2022-06-09T18:08:30.410Z"
   },
   {
    "duration": 6,
    "start_time": "2022-06-09T18:09:26.119Z"
   },
   {
    "duration": 13,
    "start_time": "2022-06-09T18:09:46.271Z"
   },
   {
    "duration": 9,
    "start_time": "2022-06-09T18:10:18.726Z"
   },
   {
    "duration": 8,
    "start_time": "2022-06-09T18:11:02.035Z"
   },
   {
    "duration": 22,
    "start_time": "2022-06-09T18:11:10.191Z"
   },
   {
    "duration": 12,
    "start_time": "2022-06-09T18:11:43.699Z"
   },
   {
    "duration": 13,
    "start_time": "2022-06-09T18:13:03.991Z"
   },
   {
    "duration": 10,
    "start_time": "2022-06-09T18:13:13.751Z"
   },
   {
    "duration": 11,
    "start_time": "2022-06-09T18:13:41.739Z"
   },
   {
    "duration": 19,
    "start_time": "2022-06-09T18:16:04.842Z"
   },
   {
    "duration": 5,
    "start_time": "2022-06-09T18:16:05.817Z"
   },
   {
    "duration": 8,
    "start_time": "2022-06-09T18:16:08.415Z"
   },
   {
    "duration": 18,
    "start_time": "2022-06-09T18:16:16.240Z"
   },
   {
    "duration": 10,
    "start_time": "2022-06-09T18:17:02.951Z"
   },
   {
    "duration": 14,
    "start_time": "2022-06-09T18:17:05.983Z"
   },
   {
    "duration": 10,
    "start_time": "2022-06-09T18:17:11.851Z"
   },
   {
    "duration": 17,
    "start_time": "2022-06-09T18:19:32.923Z"
   },
   {
    "duration": 22,
    "start_time": "2022-06-09T18:20:25.686Z"
   },
   {
    "duration": 10,
    "start_time": "2022-06-09T18:22:47.114Z"
   },
   {
    "duration": 10,
    "start_time": "2022-06-09T18:23:36.007Z"
   },
   {
    "duration": 131,
    "start_time": "2022-06-09T18:23:51.931Z"
   },
   {
    "duration": 10,
    "start_time": "2022-06-09T18:28:19.823Z"
   },
   {
    "duration": 7,
    "start_time": "2022-06-09T18:28:20.674Z"
   },
   {
    "duration": 7,
    "start_time": "2022-06-09T18:28:21.871Z"
   },
   {
    "duration": 9,
    "start_time": "2022-06-09T18:28:55.475Z"
   },
   {
    "duration": 9,
    "start_time": "2022-06-09T18:28:58.108Z"
   },
   {
    "duration": 3,
    "start_time": "2022-06-09T18:39:15.391Z"
   },
   {
    "duration": 5,
    "start_time": "2022-06-09T18:44:08.631Z"
   },
   {
    "duration": 7,
    "start_time": "2022-06-09T18:44:11.637Z"
   },
   {
    "duration": 8,
    "start_time": "2022-06-09T18:44:12.597Z"
   },
   {
    "duration": 664,
    "start_time": "2022-06-09T18:44:13.405Z"
   },
   {
    "duration": 665,
    "start_time": "2022-06-09T18:44:23.815Z"
   },
   {
    "duration": 6896,
    "start_time": "2022-06-09T18:44:26.719Z"
   },
   {
    "duration": 4,
    "start_time": "2022-06-09T18:52:19.467Z"
   },
   {
    "duration": 13,
    "start_time": "2022-06-09T18:53:16.479Z"
   },
   {
    "duration": 0,
    "start_time": "2022-06-09T19:07:05.251Z"
   },
   {
    "duration": 29027,
    "start_time": "2022-06-09T19:07:25.538Z"
   },
   {
    "duration": 651,
    "start_time": "2022-06-09T19:15:24.455Z"
   },
   {
    "duration": 6,
    "start_time": "2022-06-09T19:19:25.952Z"
   },
   {
    "duration": 666,
    "start_time": "2022-06-09T19:19:30.988Z"
   },
   {
    "duration": 4,
    "start_time": "2022-06-09T19:20:11.416Z"
   },
   {
    "duration": 645,
    "start_time": "2022-06-09T19:20:16.215Z"
   },
   {
    "duration": 4814,
    "start_time": "2022-06-09T19:20:20.825Z"
   },
   {
    "duration": 10,
    "start_time": "2022-06-09T19:23:12.289Z"
   },
   {
    "duration": 688,
    "start_time": "2022-06-09T19:23:18.726Z"
   },
   {
    "duration": 4,
    "start_time": "2022-06-09T19:26:44.410Z"
   },
   {
    "duration": 676,
    "start_time": "2022-06-09T19:26:49.237Z"
   },
   {
    "duration": 4,
    "start_time": "2022-06-09T19:28:23.730Z"
   },
   {
    "duration": 751,
    "start_time": "2022-06-09T19:28:28.517Z"
   },
   {
    "duration": 28,
    "start_time": "2022-06-09T19:29:00.821Z"
   },
   {
    "duration": 12,
    "start_time": "2022-06-09T19:29:07.607Z"
   },
   {
    "duration": 1286,
    "start_time": "2022-06-09T21:02:15.125Z"
   },
   {
    "duration": 751,
    "start_time": "2022-06-09T21:02:16.413Z"
   },
   {
    "duration": 43,
    "start_time": "2022-06-09T21:02:17.166Z"
   },
   {
    "duration": 17,
    "start_time": "2022-06-09T21:02:17.212Z"
   },
   {
    "duration": 12,
    "start_time": "2022-06-09T21:02:17.231Z"
   },
   {
    "duration": 24,
    "start_time": "2022-06-09T21:02:17.244Z"
   },
   {
    "duration": 18,
    "start_time": "2022-06-09T21:02:17.295Z"
   },
   {
    "duration": 117,
    "start_time": "2022-06-09T21:02:17.314Z"
   },
   {
    "duration": 8,
    "start_time": "2022-06-09T21:02:17.433Z"
   },
   {
    "duration": 7,
    "start_time": "2022-06-09T21:02:17.444Z"
   },
   {
    "duration": 10,
    "start_time": "2022-06-09T21:02:17.452Z"
   },
   {
    "duration": 38,
    "start_time": "2022-06-09T21:02:17.464Z"
   },
   {
    "duration": 12,
    "start_time": "2022-06-09T21:02:17.506Z"
   },
   {
    "duration": 5,
    "start_time": "2022-06-09T21:02:17.520Z"
   },
   {
    "duration": 9,
    "start_time": "2022-06-09T21:02:17.526Z"
   },
   {
    "duration": 6,
    "start_time": "2022-06-09T21:02:17.537Z"
   },
   {
    "duration": 5,
    "start_time": "2022-06-09T21:02:17.544Z"
   },
   {
    "duration": 54,
    "start_time": "2022-06-09T21:02:17.550Z"
   },
   {
    "duration": 519,
    "start_time": "2022-06-09T21:02:17.606Z"
   },
   {
    "duration": 1065,
    "start_time": "2022-06-09T21:02:18.127Z"
   },
   {
    "duration": 685,
    "start_time": "2022-06-09T21:02:19.194Z"
   },
   {
    "duration": 632,
    "start_time": "2022-06-09T21:02:19.881Z"
   },
   {
    "duration": 8,
    "start_time": "2022-06-09T21:02:20.514Z"
   },
   {
    "duration": 865,
    "start_time": "2022-06-09T21:02:20.523Z"
   },
   {
    "duration": 582,
    "start_time": "2022-06-09T21:02:21.394Z"
   },
   {
    "duration": 926,
    "start_time": "2022-06-09T21:02:21.978Z"
   },
   {
    "duration": 1626,
    "start_time": "2022-06-09T21:02:22.905Z"
   },
   {
    "duration": 5,
    "start_time": "2022-06-09T21:02:24.534Z"
   },
   {
    "duration": 0,
    "start_time": "2022-06-09T21:02:24.594Z"
   },
   {
    "duration": 0,
    "start_time": "2022-06-09T21:02:24.595Z"
   },
   {
    "duration": 0,
    "start_time": "2022-06-09T21:02:24.596Z"
   },
   {
    "duration": 0,
    "start_time": "2022-06-09T21:02:24.597Z"
   },
   {
    "duration": 6,
    "start_time": "2022-06-09T21:02:40.133Z"
   },
   {
    "duration": 7,
    "start_time": "2022-06-09T21:02:42.836Z"
   },
   {
    "duration": 7,
    "start_time": "2022-06-09T21:02:43.726Z"
   },
   {
    "duration": 115,
    "start_time": "2022-06-09T21:02:51.113Z"
   },
   {
    "duration": 8,
    "start_time": "2022-06-09T21:03:10.670Z"
   },
   {
    "duration": 679,
    "start_time": "2022-06-09T21:03:11.818Z"
   },
   {
    "duration": 5,
    "start_time": "2022-06-09T21:03:39.611Z"
   },
   {
    "duration": 754,
    "start_time": "2022-06-09T21:03:45.422Z"
   },
   {
    "duration": 653,
    "start_time": "2022-06-09T21:03:50.427Z"
   },
   {
    "duration": 683,
    "start_time": "2022-06-09T21:04:34.756Z"
   },
   {
    "duration": 1297,
    "start_time": "2022-06-09T21:04:49.811Z"
   },
   {
    "duration": 727,
    "start_time": "2022-06-09T21:04:51.110Z"
   },
   {
    "duration": 31,
    "start_time": "2022-06-09T21:04:51.839Z"
   },
   {
    "duration": 35,
    "start_time": "2022-06-09T21:04:51.872Z"
   },
   {
    "duration": 13,
    "start_time": "2022-06-09T21:04:51.909Z"
   },
   {
    "duration": 24,
    "start_time": "2022-06-09T21:04:51.923Z"
   },
   {
    "duration": 14,
    "start_time": "2022-06-09T21:04:51.948Z"
   },
   {
    "duration": 130,
    "start_time": "2022-06-09T21:04:51.963Z"
   },
   {
    "duration": 16,
    "start_time": "2022-06-09T21:04:52.098Z"
   },
   {
    "duration": 12,
    "start_time": "2022-06-09T21:04:52.116Z"
   },
   {
    "duration": 12,
    "start_time": "2022-06-09T21:04:52.130Z"
   },
   {
    "duration": 6,
    "start_time": "2022-06-09T21:04:52.143Z"
   },
   {
    "duration": 10,
    "start_time": "2022-06-09T21:04:52.151Z"
   },
   {
    "duration": 4,
    "start_time": "2022-06-09T21:04:52.163Z"
   },
   {
    "duration": 20,
    "start_time": "2022-06-09T21:04:52.195Z"
   },
   {
    "duration": 7,
    "start_time": "2022-06-09T21:04:52.217Z"
   },
   {
    "duration": 9,
    "start_time": "2022-06-09T21:04:52.226Z"
   },
   {
    "duration": 40,
    "start_time": "2022-06-09T21:04:52.236Z"
   },
   {
    "duration": 536,
    "start_time": "2022-06-09T21:04:52.278Z"
   },
   {
    "duration": 1042,
    "start_time": "2022-06-09T21:04:52.815Z"
   },
   {
    "duration": 705,
    "start_time": "2022-06-09T21:04:53.858Z"
   },
   {
    "duration": 589,
    "start_time": "2022-06-09T21:04:54.565Z"
   },
   {
    "duration": 7,
    "start_time": "2022-06-09T21:04:55.156Z"
   },
   {
    "duration": 859,
    "start_time": "2022-06-09T21:04:55.164Z"
   },
   {
    "duration": 608,
    "start_time": "2022-06-09T21:04:56.025Z"
   },
   {
    "duration": 1882,
    "start_time": "2022-06-09T21:04:56.635Z"
   },
   {
    "duration": 993,
    "start_time": "2022-06-09T21:04:58.519Z"
   },
   {
    "duration": 4,
    "start_time": "2022-06-09T21:04:59.515Z"
   },
   {
    "duration": 11,
    "start_time": "2022-06-09T21:04:59.520Z"
   },
   {
    "duration": 15,
    "start_time": "2022-06-09T21:04:59.532Z"
   },
   {
    "duration": 379,
    "start_time": "2022-06-09T21:04:59.549Z"
   },
   {
    "duration": 0,
    "start_time": "2022-06-09T21:04:59.929Z"
   },
   {
    "duration": 153,
    "start_time": "2022-06-09T21:35:45.781Z"
   },
   {
    "duration": 4,
    "start_time": "2022-06-09T21:37:40.087Z"
   },
   {
    "duration": 6,
    "start_time": "2022-06-09T21:37:47.289Z"
   },
   {
    "duration": 8,
    "start_time": "2022-06-09T21:37:47.973Z"
   },
   {
    "duration": 153,
    "start_time": "2022-06-09T21:37:48.657Z"
   },
   {
    "duration": 4,
    "start_time": "2022-06-09T21:40:29.427Z"
   },
   {
    "duration": 162,
    "start_time": "2022-06-09T21:40:32.342Z"
   },
   {
    "duration": 155,
    "start_time": "2022-06-09T21:42:19.019Z"
   },
   {
    "duration": 26,
    "start_time": "2022-06-09T21:45:21.594Z"
   },
   {
    "duration": 115,
    "start_time": "2022-06-09T21:45:37.992Z"
   },
   {
    "duration": 21,
    "start_time": "2022-06-09T21:46:04.455Z"
   },
   {
    "duration": 28,
    "start_time": "2022-06-09T21:46:42.279Z"
   },
   {
    "duration": 1328,
    "start_time": "2022-06-09T21:47:03.275Z"
   },
   {
    "duration": 755,
    "start_time": "2022-06-09T21:47:04.607Z"
   },
   {
    "duration": 63,
    "start_time": "2022-06-09T21:47:05.364Z"
   },
   {
    "duration": 17,
    "start_time": "2022-06-09T21:47:05.430Z"
   },
   {
    "duration": 13,
    "start_time": "2022-06-09T21:47:05.449Z"
   },
   {
    "duration": 42,
    "start_time": "2022-06-09T21:47:05.463Z"
   },
   {
    "duration": 13,
    "start_time": "2022-06-09T21:47:05.506Z"
   },
   {
    "duration": 108,
    "start_time": "2022-06-09T21:47:05.521Z"
   },
   {
    "duration": 9,
    "start_time": "2022-06-09T21:47:05.630Z"
   },
   {
    "duration": 7,
    "start_time": "2022-06-09T21:47:05.642Z"
   },
   {
    "duration": 11,
    "start_time": "2022-06-09T21:47:05.650Z"
   },
   {
    "duration": 41,
    "start_time": "2022-06-09T21:47:05.662Z"
   },
   {
    "duration": 8,
    "start_time": "2022-06-09T21:47:05.707Z"
   },
   {
    "duration": 4,
    "start_time": "2022-06-09T21:47:05.716Z"
   },
   {
    "duration": 6,
    "start_time": "2022-06-09T21:47:05.722Z"
   },
   {
    "duration": 5,
    "start_time": "2022-06-09T21:47:05.730Z"
   },
   {
    "duration": 6,
    "start_time": "2022-06-09T21:47:05.737Z"
   },
   {
    "duration": 43,
    "start_time": "2022-06-09T21:47:05.744Z"
   },
   {
    "duration": 528,
    "start_time": "2022-06-09T21:47:05.798Z"
   },
   {
    "duration": 1579,
    "start_time": "2022-06-09T21:47:06.328Z"
   },
   {
    "duration": 1303,
    "start_time": "2022-06-09T21:47:07.909Z"
   },
   {
    "duration": 602,
    "start_time": "2022-06-09T21:47:09.213Z"
   },
   {
    "duration": 6,
    "start_time": "2022-06-09T21:47:09.817Z"
   },
   {
    "duration": 915,
    "start_time": "2022-06-09T21:47:09.824Z"
   },
   {
    "duration": 585,
    "start_time": "2022-06-09T21:47:10.741Z"
   },
   {
    "duration": 893,
    "start_time": "2022-06-09T21:47:11.328Z"
   },
   {
    "duration": 811,
    "start_time": "2022-06-09T21:47:12.223Z"
   },
   {
    "duration": 5,
    "start_time": "2022-06-09T21:47:13.036Z"
   },
   {
    "duration": 119,
    "start_time": "2022-06-09T21:47:13.042Z"
   },
   {
    "duration": 0,
    "start_time": "2022-06-09T21:47:13.163Z"
   },
   {
    "duration": 0,
    "start_time": "2022-06-09T21:47:13.164Z"
   },
   {
    "duration": 0,
    "start_time": "2022-06-09T21:47:13.165Z"
   },
   {
    "duration": 7,
    "start_time": "2022-06-09T21:47:41.552Z"
   },
   {
    "duration": 9,
    "start_time": "2022-06-09T21:47:42.783Z"
   },
   {
    "duration": 28,
    "start_time": "2022-06-09T21:47:43.633Z"
   },
   {
    "duration": 661,
    "start_time": "2022-06-09T21:47:44.608Z"
   },
   {
    "duration": 172880,
    "start_time": "2022-06-09T21:47:55.837Z"
   },
   {
    "duration": 0,
    "start_time": "2022-06-09T21:50:48.720Z"
   },
   {
    "duration": 955,
    "start_time": "2022-06-09T21:50:52.724Z"
   },
   {
    "duration": 1223,
    "start_time": "2022-06-09T21:51:00.350Z"
   },
   {
    "duration": 369,
    "start_time": "2022-06-09T21:51:08.385Z"
   },
   {
    "duration": 1211,
    "start_time": "2022-06-09T21:51:13.410Z"
   },
   {
    "duration": 1453,
    "start_time": "2022-06-09T21:51:19.580Z"
   },
   {
    "duration": 1754,
    "start_time": "2022-06-09T21:51:28.096Z"
   },
   {
    "duration": 1907,
    "start_time": "2022-06-09T21:51:35.134Z"
   },
   {
    "duration": 2155,
    "start_time": "2022-06-09T21:52:20.414Z"
   },
   {
    "duration": 2474,
    "start_time": "2022-06-09T21:52:28.264Z"
   },
   {
    "duration": 932,
    "start_time": "2022-06-09T21:52:34.689Z"
   },
   {
    "duration": 16606,
    "start_time": "2022-06-09T21:54:40.556Z"
   },
   {
    "duration": 27455,
    "start_time": "2022-06-09T21:56:25.454Z"
   },
   {
    "duration": 10,
    "start_time": "2022-06-09T21:57:36.396Z"
   },
   {
    "duration": 4,
    "start_time": "2022-06-09T21:57:48.305Z"
   },
   {
    "duration": 7,
    "start_time": "2022-06-09T21:57:54.707Z"
   },
   {
    "duration": 6,
    "start_time": "2022-06-09T21:57:55.429Z"
   },
   {
    "duration": 21,
    "start_time": "2022-06-09T21:57:56.510Z"
   },
   {
    "duration": 971,
    "start_time": "2022-06-09T21:57:58.317Z"
   },
   {
    "duration": 15884,
    "start_time": "2022-06-09T21:58:01.295Z"
   },
   {
    "duration": 4,
    "start_time": "2022-06-09T22:01:06.914Z"
   },
   {
    "duration": 9,
    "start_time": "2022-06-09T22:01:09.836Z"
   },
   {
    "duration": 7,
    "start_time": "2022-06-09T22:01:10.537Z"
   },
   {
    "duration": 23,
    "start_time": "2022-06-09T22:01:11.237Z"
   },
   {
    "duration": 951,
    "start_time": "2022-06-09T22:01:11.987Z"
   },
   {
    "duration": 10430,
    "start_time": "2022-06-09T22:01:12.941Z"
   },
   {
    "duration": 13,
    "start_time": "2022-06-09T22:07:19.094Z"
   },
   {
    "duration": 9,
    "start_time": "2022-06-09T22:07:28.314Z"
   },
   {
    "duration": 9,
    "start_time": "2022-06-09T22:07:45.408Z"
   },
   {
    "duration": 8,
    "start_time": "2022-06-09T22:07:53.100Z"
   },
   {
    "duration": 6,
    "start_time": "2022-06-09T22:08:13.984Z"
   },
   {
    "duration": 12712,
    "start_time": "2022-06-09T22:08:25.690Z"
   },
   {
    "duration": 9,
    "start_time": "2022-06-09T22:11:12.718Z"
   },
   {
    "duration": 8,
    "start_time": "2022-06-09T22:11:28.574Z"
   },
   {
    "duration": 6,
    "start_time": "2022-06-09T22:11:29.376Z"
   },
   {
    "duration": 7,
    "start_time": "2022-06-09T22:11:30.913Z"
   },
   {
    "duration": 10,
    "start_time": "2022-06-09T22:11:51.900Z"
   },
   {
    "duration": 8,
    "start_time": "2022-06-09T22:11:54.710Z"
   },
   {
    "duration": 7,
    "start_time": "2022-06-09T22:11:57.936Z"
   },
   {
    "duration": 6,
    "start_time": "2022-06-09T22:11:58.776Z"
   },
   {
    "duration": 8,
    "start_time": "2022-06-09T22:11:59.488Z"
   },
   {
    "duration": 935,
    "start_time": "2022-06-09T22:12:03.027Z"
   },
   {
    "duration": 10642,
    "start_time": "2022-06-09T22:12:06.020Z"
   },
   {
    "duration": 5,
    "start_time": "2022-06-09T22:13:33.233Z"
   },
   {
    "duration": 7,
    "start_time": "2022-06-09T22:13:35.183Z"
   },
   {
    "duration": 7,
    "start_time": "2022-06-09T22:13:36.012Z"
   },
   {
    "duration": 7,
    "start_time": "2022-06-09T22:13:36.936Z"
   },
   {
    "duration": 7,
    "start_time": "2022-06-09T22:13:37.672Z"
   },
   {
    "duration": 6,
    "start_time": "2022-06-09T22:13:39.762Z"
   },
   {
    "duration": 8,
    "start_time": "2022-06-09T22:13:40.574Z"
   },
   {
    "duration": 22,
    "start_time": "2022-06-09T22:13:43.237Z"
   },
   {
    "duration": 908,
    "start_time": "2022-06-09T22:13:44.104Z"
   },
   {
    "duration": 12381,
    "start_time": "2022-06-09T22:13:46.830Z"
   },
   {
    "duration": 43,
    "start_time": "2022-06-09T22:16:25.392Z"
   },
   {
    "duration": 3904,
    "start_time": "2022-06-09T22:16:49.126Z"
   },
   {
    "duration": 438837,
    "start_time": "2022-06-09T22:21:59.376Z"
   },
   {
    "duration": 21,
    "start_time": "2022-06-09T22:30:30.709Z"
   },
   {
    "duration": 19149,
    "start_time": "2022-06-09T22:31:04.760Z"
   },
   {
    "duration": 19471,
    "start_time": "2022-06-09T22:31:46.604Z"
   },
   {
    "duration": 1178,
    "start_time": "2022-06-09T22:33:26.310Z"
   },
   {
    "duration": 12767,
    "start_time": "2022-06-09T22:34:02.066Z"
   },
   {
    "duration": 30,
    "start_time": "2022-06-09T22:56:01.680Z"
   },
   {
    "duration": 48,
    "start_time": "2022-06-09T22:56:08.783Z"
   },
   {
    "duration": 53,
    "start_time": "2022-06-09T22:56:21.139Z"
   },
   {
    "duration": 63,
    "start_time": "2022-06-09T22:56:48.193Z"
   },
   {
    "duration": 143,
    "start_time": "2022-06-09T22:56:56.501Z"
   },
   {
    "duration": 47,
    "start_time": "2022-06-09T22:57:13.766Z"
   },
   {
    "duration": 3214820,
    "start_time": "2022-06-09T22:57:24.623Z"
   },
   {
    "duration": 0,
    "start_time": "2022-06-09T23:50:59.447Z"
   },
   {
    "duration": 12,
    "start_time": "2022-06-09T23:51:21.538Z"
   },
   {
    "duration": 13,
    "start_time": "2022-06-09T23:51:33.044Z"
   },
   {
    "duration": 1601,
    "start_time": "2022-06-09T23:51:46.408Z"
   },
   {
    "duration": 59769,
    "start_time": "2022-06-09T23:51:56.712Z"
   },
   {
    "duration": 1721859,
    "start_time": "2022-06-09T23:52:57.815Z"
   },
   {
    "duration": 1472,
    "start_time": "2022-06-10T10:46:12.956Z"
   },
   {
    "duration": 3301,
    "start_time": "2022-06-10T10:46:14.429Z"
   },
   {
    "duration": 35,
    "start_time": "2022-06-10T10:46:17.732Z"
   },
   {
    "duration": 19,
    "start_time": "2022-06-10T10:46:17.768Z"
   },
   {
    "duration": 15,
    "start_time": "2022-06-10T10:46:17.789Z"
   },
   {
    "duration": 37,
    "start_time": "2022-06-10T10:46:17.806Z"
   },
   {
    "duration": 14,
    "start_time": "2022-06-10T10:46:17.845Z"
   },
   {
    "duration": 131,
    "start_time": "2022-06-10T10:46:17.860Z"
   },
   {
    "duration": 10,
    "start_time": "2022-06-10T10:46:17.993Z"
   },
   {
    "duration": 9,
    "start_time": "2022-06-10T10:46:18.022Z"
   },
   {
    "duration": 10,
    "start_time": "2022-06-10T10:46:18.033Z"
   },
   {
    "duration": 7,
    "start_time": "2022-06-10T10:46:18.044Z"
   },
   {
    "duration": 9,
    "start_time": "2022-06-10T10:46:18.053Z"
   },
   {
    "duration": 4,
    "start_time": "2022-06-10T10:46:18.064Z"
   },
   {
    "duration": 9,
    "start_time": "2022-06-10T10:46:18.069Z"
   },
   {
    "duration": 45,
    "start_time": "2022-06-10T10:46:18.079Z"
   },
   {
    "duration": 4,
    "start_time": "2022-06-10T10:46:18.126Z"
   },
   {
    "duration": 41,
    "start_time": "2022-06-10T10:46:18.132Z"
   },
   {
    "duration": 562,
    "start_time": "2022-06-10T10:46:18.175Z"
   },
   {
    "duration": 1140,
    "start_time": "2022-06-10T10:46:18.739Z"
   },
   {
    "duration": 702,
    "start_time": "2022-06-10T10:46:19.881Z"
   },
   {
    "duration": 596,
    "start_time": "2022-06-10T10:46:20.585Z"
   },
   {
    "duration": 7,
    "start_time": "2022-06-10T10:46:21.183Z"
   },
   {
    "duration": 908,
    "start_time": "2022-06-10T10:46:21.192Z"
   },
   {
    "duration": 618,
    "start_time": "2022-06-10T10:46:22.102Z"
   },
   {
    "duration": 883,
    "start_time": "2022-06-10T10:46:22.723Z"
   },
   {
    "duration": 844,
    "start_time": "2022-06-10T10:46:23.607Z"
   },
   {
    "duration": 5,
    "start_time": "2022-06-10T10:46:24.454Z"
   },
   {
    "duration": 14,
    "start_time": "2022-06-10T10:46:24.461Z"
   },
   {
    "duration": 7,
    "start_time": "2022-06-10T10:46:24.477Z"
   },
   {
    "duration": 9,
    "start_time": "2022-06-10T10:46:24.485Z"
   },
   {
    "duration": 7,
    "start_time": "2022-06-10T10:46:24.496Z"
   },
   {
    "duration": 8,
    "start_time": "2022-06-10T10:46:24.522Z"
   },
   {
    "duration": 20,
    "start_time": "2022-06-10T10:46:24.531Z"
   },
   {
    "duration": 126,
    "start_time": "2022-06-10T10:46:24.553Z"
   },
   {
    "duration": 890,
    "start_time": "2022-06-10T10:46:24.681Z"
   },
   {
    "duration": 16731,
    "start_time": "2022-06-10T10:46:25.573Z"
   },
   {
    "duration": 0,
    "start_time": "2022-06-10T10:46:42.306Z"
   },
   {
    "duration": 0,
    "start_time": "2022-06-10T10:46:42.307Z"
   },
   {
    "duration": 21066,
    "start_time": "2022-06-10T10:46:51.287Z"
   },
   {
    "duration": 1474,
    "start_time": "2022-06-10T10:47:12.355Z"
   },
   {
    "duration": 1710612,
    "start_time": "2022-06-10T10:48:03.179Z"
   },
   {
    "duration": 1117,
    "start_time": "2022-06-10T11:16:33.794Z"
   },
   {
    "duration": 4080,
    "start_time": "2022-06-10T11:18:24.790Z"
   },
   {
    "duration": 1131,
    "start_time": "2022-06-10T11:25:39.060Z"
   },
   {
    "duration": 26330,
    "start_time": "2022-06-10T11:29:20.782Z"
   },
   {
    "duration": 21,
    "start_time": "2022-06-10T11:34:45.043Z"
   },
   {
    "duration": 1335,
    "start_time": "2022-06-10T11:46:23.319Z"
   },
   {
    "duration": 702,
    "start_time": "2022-06-10T11:46:24.656Z"
   },
   {
    "duration": 31,
    "start_time": "2022-06-10T11:46:25.360Z"
   },
   {
    "duration": 37,
    "start_time": "2022-06-10T11:46:25.393Z"
   },
   {
    "duration": 24,
    "start_time": "2022-06-10T11:46:25.435Z"
   },
   {
    "duration": 12,
    "start_time": "2022-06-10T11:46:25.461Z"
   },
   {
    "duration": 14,
    "start_time": "2022-06-10T11:46:25.474Z"
   },
   {
    "duration": 122,
    "start_time": "2022-06-10T11:46:25.489Z"
   },
   {
    "duration": 19,
    "start_time": "2022-06-10T11:46:25.613Z"
   },
   {
    "duration": 9,
    "start_time": "2022-06-10T11:46:25.634Z"
   },
   {
    "duration": 12,
    "start_time": "2022-06-10T11:46:25.644Z"
   },
   {
    "duration": 6,
    "start_time": "2022-06-10T11:46:25.658Z"
   },
   {
    "duration": 8,
    "start_time": "2022-06-10T11:46:25.666Z"
   },
   {
    "duration": 2,
    "start_time": "2022-06-10T11:46:25.676Z"
   },
   {
    "duration": 6,
    "start_time": "2022-06-10T11:46:25.680Z"
   },
   {
    "duration": 5,
    "start_time": "2022-06-10T11:46:25.688Z"
   },
   {
    "duration": 41,
    "start_time": "2022-06-10T11:46:25.694Z"
   },
   {
    "duration": 45,
    "start_time": "2022-06-10T11:46:25.736Z"
   },
   {
    "duration": 528,
    "start_time": "2022-06-10T11:46:25.783Z"
   },
   {
    "duration": 1039,
    "start_time": "2022-06-10T11:46:26.313Z"
   },
   {
    "duration": 683,
    "start_time": "2022-06-10T11:46:27.354Z"
   },
   {
    "duration": 602,
    "start_time": "2022-06-10T11:46:28.039Z"
   },
   {
    "duration": 8,
    "start_time": "2022-06-10T11:46:28.642Z"
   },
   {
    "duration": 917,
    "start_time": "2022-06-10T11:46:28.651Z"
   },
   {
    "duration": 595,
    "start_time": "2022-06-10T11:46:29.570Z"
   },
   {
    "duration": 887,
    "start_time": "2022-06-10T11:46:30.166Z"
   },
   {
    "duration": 824,
    "start_time": "2022-06-10T11:46:31.055Z"
   },
   {
    "duration": 4,
    "start_time": "2022-06-10T11:46:31.883Z"
   },
   {
    "duration": 25,
    "start_time": "2022-06-10T11:46:31.888Z"
   },
   {
    "duration": 38,
    "start_time": "2022-06-10T11:46:31.915Z"
   },
   {
    "duration": 13,
    "start_time": "2022-06-10T11:46:31.955Z"
   },
   {
    "duration": 7,
    "start_time": "2022-06-10T11:46:31.970Z"
   },
   {
    "duration": 10,
    "start_time": "2022-06-10T11:46:31.979Z"
   },
   {
    "duration": 14,
    "start_time": "2022-06-10T11:46:31.991Z"
   },
   {
    "duration": 137,
    "start_time": "2022-06-10T11:46:32.007Z"
   },
   {
    "duration": 951,
    "start_time": "2022-06-10T11:46:32.146Z"
   },
   {
    "duration": 206412,
    "start_time": "2022-06-10T11:46:33.098Z"
   },
   {
    "duration": 0,
    "start_time": "2022-06-10T11:49:59.512Z"
   },
   {
    "duration": 0,
    "start_time": "2022-06-10T11:49:59.513Z"
   },
   {
    "duration": 9,
    "start_time": "2022-06-10T11:52:30.245Z"
   },
   {
    "duration": 87,
    "start_time": "2022-06-10T11:53:03.271Z"
   },
   {
    "duration": 88,
    "start_time": "2022-06-10T11:53:49.354Z"
   },
   {
    "duration": 9,
    "start_time": "2022-06-10T11:58:15.877Z"
   },
   {
    "duration": 6,
    "start_time": "2022-06-10T11:58:17.689Z"
   },
   {
    "duration": 8,
    "start_time": "2022-06-10T11:58:20.959Z"
   },
   {
    "duration": 16,
    "start_time": "2022-06-10T11:58:36.577Z"
   },
   {
    "duration": 11,
    "start_time": "2022-06-10T11:59:29.774Z"
   },
   {
    "duration": 4,
    "start_time": "2022-06-10T12:11:44.554Z"
   },
   {
    "duration": 21,
    "start_time": "2022-06-10T12:11:51.056Z"
   },
   {
    "duration": 22,
    "start_time": "2022-06-10T12:21:44.300Z"
   },
   {
    "duration": 958,
    "start_time": "2022-06-10T12:27:00.603Z"
   },
   {
    "duration": 13,
    "start_time": "2022-06-10T12:27:21.036Z"
   },
   {
    "duration": 12,
    "start_time": "2022-06-10T12:27:26.623Z"
   },
   {
    "duration": 993,
    "start_time": "2022-06-10T12:27:30.339Z"
   },
   {
    "duration": 11,
    "start_time": "2022-06-10T12:27:32.810Z"
   },
   {
    "duration": 22,
    "start_time": "2022-06-10T12:27:56.606Z"
   },
   {
    "duration": 29,
    "start_time": "2022-06-10T12:32:31.306Z"
   },
   {
    "duration": 686,
    "start_time": "2022-06-10T12:33:31.690Z"
   },
   {
    "duration": 23,
    "start_time": "2022-06-10T12:33:49.912Z"
   },
   {
    "duration": 25,
    "start_time": "2022-06-10T12:36:34.798Z"
   },
   {
    "duration": 95,
    "start_time": "2022-06-10T12:41:06.044Z"
   },
   {
    "duration": 109,
    "start_time": "2022-06-10T12:41:27.994Z"
   },
   {
    "duration": 711,
    "start_time": "2022-06-10T12:42:17.723Z"
   },
   {
    "duration": 914,
    "start_time": "2022-06-10T12:42:31.286Z"
   },
   {
    "duration": 1105,
    "start_time": "2022-06-10T12:43:00.291Z"
   },
   {
    "duration": 878,
    "start_time": "2022-06-10T12:43:26.630Z"
   },
   {
    "duration": 114,
    "start_time": "2022-06-10T12:44:49.498Z"
   },
   {
    "duration": 110,
    "start_time": "2022-06-10T12:44:54.694Z"
   },
   {
    "duration": 120,
    "start_time": "2022-06-10T12:44:58.586Z"
   },
   {
    "duration": 142,
    "start_time": "2022-06-10T12:45:03.335Z"
   },
   {
    "duration": 785,
    "start_time": "2022-06-10T12:45:16.229Z"
   },
   {
    "duration": 10,
    "start_time": "2022-06-10T12:45:40.798Z"
   },
   {
    "duration": 906,
    "start_time": "2022-06-10T12:45:50.542Z"
   },
   {
    "duration": 118,
    "start_time": "2022-06-10T12:46:36.727Z"
   },
   {
    "duration": 119,
    "start_time": "2022-06-10T12:46:47.570Z"
   },
   {
    "duration": 123,
    "start_time": "2022-06-10T12:46:58.229Z"
   },
   {
    "duration": 456,
    "start_time": "2022-06-10T12:47:17.498Z"
   },
   {
    "duration": 229,
    "start_time": "2022-06-10T12:47:34.036Z"
   },
   {
    "duration": 315,
    "start_time": "2022-06-10T12:47:41.297Z"
   },
   {
    "duration": 318,
    "start_time": "2022-06-10T12:47:48.513Z"
   },
   {
    "duration": 327,
    "start_time": "2022-06-10T12:48:06.325Z"
   },
   {
    "duration": 994,
    "start_time": "2022-06-10T12:51:53.436Z"
   },
   {
    "duration": 739,
    "start_time": "2022-06-10T12:52:26.891Z"
   },
   {
    "duration": 1064,
    "start_time": "2022-06-10T12:53:08.919Z"
   },
   {
    "duration": 11,
    "start_time": "2022-06-10T12:53:21.486Z"
   },
   {
    "duration": 10,
    "start_time": "2022-06-10T12:53:32.190Z"
   },
   {
    "duration": 786,
    "start_time": "2022-06-10T12:53:59.286Z"
   },
   {
    "duration": 31,
    "start_time": "2022-06-10T12:54:11.707Z"
   },
   {
    "duration": 10,
    "start_time": "2022-06-10T12:54:51.135Z"
   },
   {
    "duration": 407,
    "start_time": "2022-06-10T12:54:57.786Z"
   },
   {
    "duration": 21,
    "start_time": "2022-06-10T12:55:10.516Z"
   },
   {
    "duration": 224,
    "start_time": "2022-06-10T12:55:20.422Z"
   },
   {
    "duration": 324,
    "start_time": "2022-06-10T12:55:38.423Z"
   },
   {
    "duration": 352,
    "start_time": "2022-06-10T12:55:53.824Z"
   },
   {
    "duration": 79,
    "start_time": "2022-06-10T12:56:03.215Z"
   },
   {
    "duration": 380,
    "start_time": "2022-06-10T12:56:08.894Z"
   },
   {
    "duration": 1030,
    "start_time": "2022-06-10T12:56:35.141Z"
   },
   {
    "duration": 810,
    "start_time": "2022-06-10T12:58:06.089Z"
   },
   {
    "duration": 1230,
    "start_time": "2022-06-10T12:58:24.990Z"
   },
   {
    "duration": 953,
    "start_time": "2022-06-10T12:58:32.399Z"
   },
   {
    "duration": 11,
    "start_time": "2022-06-10T12:59:57.791Z"
   },
   {
    "duration": 10,
    "start_time": "2022-06-10T13:00:08.509Z"
   },
   {
    "duration": 9,
    "start_time": "2022-06-10T13:00:15.582Z"
   },
   {
    "duration": 3,
    "start_time": "2022-06-10T13:02:58.597Z"
   },
   {
    "duration": 145,
    "start_time": "2022-06-10T13:03:33.656Z"
   },
   {
    "duration": 657,
    "start_time": "2022-06-10T13:03:50.792Z"
   },
   {
    "duration": 316,
    "start_time": "2022-06-10T13:05:46.901Z"
   },
   {
    "duration": 349,
    "start_time": "2022-06-10T13:06:32.685Z"
   },
   {
    "duration": 325,
    "start_time": "2022-06-10T13:06:43.738Z"
   },
   {
    "duration": 329,
    "start_time": "2022-06-10T13:07:16.343Z"
   },
   {
    "duration": 324,
    "start_time": "2022-06-10T13:07:26.485Z"
   },
   {
    "duration": 385,
    "start_time": "2022-06-10T13:07:48.093Z"
   },
   {
    "duration": 23,
    "start_time": "2022-06-10T13:13:22.093Z"
   },
   {
    "duration": 22,
    "start_time": "2022-06-10T13:17:55.420Z"
   },
   {
    "duration": 1119,
    "start_time": "2022-06-10T13:21:44.026Z"
   },
   {
    "duration": 497,
    "start_time": "2022-06-10T13:23:16.996Z"
   },
   {
    "duration": 892,
    "start_time": "2022-06-10T13:24:09.101Z"
   },
   {
    "duration": 1325,
    "start_time": "2022-06-10T13:24:20.917Z"
   },
   {
    "duration": 615,
    "start_time": "2022-06-10T13:25:01.251Z"
   },
   {
    "duration": 803,
    "start_time": "2022-06-10T13:30:36.145Z"
   },
   {
    "duration": 823,
    "start_time": "2022-06-10T13:30:45.093Z"
   },
   {
    "duration": 24,
    "start_time": "2022-06-10T13:31:04.092Z"
   },
   {
    "duration": 881,
    "start_time": "2022-06-10T13:33:27.152Z"
   },
   {
    "duration": 27,
    "start_time": "2022-06-10T13:34:13.413Z"
   },
   {
    "duration": 7,
    "start_time": "2022-06-10T13:37:03.349Z"
   },
   {
    "duration": 6,
    "start_time": "2022-06-10T13:37:04.861Z"
   },
   {
    "duration": 18,
    "start_time": "2022-06-10T13:37:51.826Z"
   },
   {
    "duration": 436,
    "start_time": "2022-06-10T13:39:13.623Z"
   },
   {
    "duration": 1249,
    "start_time": "2022-06-10T13:39:26.353Z"
   },
   {
    "duration": 695,
    "start_time": "2022-06-10T13:39:27.604Z"
   },
   {
    "duration": 36,
    "start_time": "2022-06-10T13:39:28.301Z"
   },
   {
    "duration": 17,
    "start_time": "2022-06-10T13:39:28.338Z"
   },
   {
    "duration": 24,
    "start_time": "2022-06-10T13:39:28.357Z"
   },
   {
    "duration": 12,
    "start_time": "2022-06-10T13:39:28.383Z"
   },
   {
    "duration": 41,
    "start_time": "2022-06-10T13:39:28.397Z"
   },
   {
    "duration": 107,
    "start_time": "2022-06-10T13:39:28.439Z"
   },
   {
    "duration": 102,
    "start_time": "2022-06-10T13:39:28.547Z"
   },
   {
    "duration": 101,
    "start_time": "2022-06-10T13:39:28.651Z"
   },
   {
    "duration": 10,
    "start_time": "2022-06-10T13:39:28.754Z"
   },
   {
    "duration": 15,
    "start_time": "2022-06-10T13:39:28.766Z"
   },
   {
    "duration": 5,
    "start_time": "2022-06-10T13:39:28.782Z"
   },
   {
    "duration": 15,
    "start_time": "2022-06-10T13:39:28.788Z"
   },
   {
    "duration": 20,
    "start_time": "2022-06-10T13:39:28.804Z"
   },
   {
    "duration": 10,
    "start_time": "2022-06-10T13:39:28.826Z"
   },
   {
    "duration": 12,
    "start_time": "2022-06-10T13:39:28.837Z"
   },
   {
    "duration": 5,
    "start_time": "2022-06-10T13:39:28.850Z"
   },
   {
    "duration": 41,
    "start_time": "2022-06-10T13:39:28.856Z"
   },
   {
    "duration": 635,
    "start_time": "2022-06-10T13:39:28.899Z"
   },
   {
    "duration": 23,
    "start_time": "2022-06-10T13:39:29.535Z"
   },
   {
    "duration": 844,
    "start_time": "2022-06-10T13:39:29.560Z"
   },
   {
    "duration": 24,
    "start_time": "2022-06-10T13:39:30.406Z"
   },
   {
    "duration": 790,
    "start_time": "2022-06-10T13:39:30.432Z"
   },
   {
    "duration": 22,
    "start_time": "2022-06-10T13:39:31.224Z"
   },
   {
    "duration": 487,
    "start_time": "2022-06-10T13:39:31.249Z"
   },
   {
    "duration": 22,
    "start_time": "2022-06-10T13:39:31.738Z"
   },
   {
    "duration": 406,
    "start_time": "2022-06-10T13:39:31.763Z"
   },
   {
    "duration": 7,
    "start_time": "2022-06-10T13:39:32.170Z"
   },
   {
    "duration": 11,
    "start_time": "2022-06-10T13:39:32.178Z"
   },
   {
    "duration": 7,
    "start_time": "2022-06-10T13:39:32.190Z"
   },
   {
    "duration": 1074,
    "start_time": "2022-06-10T13:39:32.199Z"
   },
   {
    "duration": 23,
    "start_time": "2022-06-10T13:39:33.274Z"
   },
   {
    "duration": 592,
    "start_time": "2022-06-10T13:39:33.299Z"
   },
   {
    "duration": 20,
    "start_time": "2022-06-10T13:39:33.892Z"
   },
   {
    "duration": 735,
    "start_time": "2022-06-10T13:39:33.913Z"
   },
   {
    "duration": 20,
    "start_time": "2022-06-10T13:39:34.650Z"
   },
   {
    "duration": 904,
    "start_time": "2022-06-10T13:39:34.672Z"
   },
   {
    "duration": 20,
    "start_time": "2022-06-10T13:39:35.578Z"
   },
   {
    "duration": 6,
    "start_time": "2022-06-10T13:39:35.600Z"
   },
   {
    "duration": 24,
    "start_time": "2022-06-10T13:39:35.608Z"
   },
   {
    "duration": 10,
    "start_time": "2022-06-10T13:39:35.633Z"
   },
   {
    "duration": 8,
    "start_time": "2022-06-10T13:39:35.645Z"
   },
   {
    "duration": 16,
    "start_time": "2022-06-10T13:39:35.655Z"
   },
   {
    "duration": 27,
    "start_time": "2022-06-10T13:39:35.672Z"
   },
   {
    "duration": 10,
    "start_time": "2022-06-10T13:39:35.701Z"
   },
   {
    "duration": 22,
    "start_time": "2022-06-10T13:39:35.712Z"
   },
   {
    "duration": 879,
    "start_time": "2022-06-10T13:39:35.735Z"
   },
   {
    "duration": 1463,
    "start_time": "2022-06-10T14:01:11.708Z"
   },
   {
    "duration": 677,
    "start_time": "2022-06-10T14:01:13.173Z"
   },
   {
    "duration": 32,
    "start_time": "2022-06-10T14:01:13.852Z"
   },
   {
    "duration": 16,
    "start_time": "2022-06-10T14:01:13.886Z"
   },
   {
    "duration": 48,
    "start_time": "2022-06-10T14:01:13.904Z"
   },
   {
    "duration": 14,
    "start_time": "2022-06-10T14:01:13.954Z"
   },
   {
    "duration": 25,
    "start_time": "2022-06-10T14:01:13.971Z"
   },
   {
    "duration": 142,
    "start_time": "2022-06-10T14:01:13.998Z"
   },
   {
    "duration": 116,
    "start_time": "2022-06-10T14:01:14.143Z"
   },
   {
    "duration": 104,
    "start_time": "2022-06-10T14:01:14.263Z"
   },
   {
    "duration": 12,
    "start_time": "2022-06-10T14:01:14.369Z"
   },
   {
    "duration": 15,
    "start_time": "2022-06-10T14:01:14.382Z"
   },
   {
    "duration": 28,
    "start_time": "2022-06-10T14:01:14.398Z"
   },
   {
    "duration": 20,
    "start_time": "2022-06-10T14:01:14.428Z"
   },
   {
    "duration": 3,
    "start_time": "2022-06-10T14:01:14.450Z"
   },
   {
    "duration": 9,
    "start_time": "2022-06-10T14:01:14.455Z"
   },
   {
    "duration": 11,
    "start_time": "2022-06-10T14:01:14.465Z"
   },
   {
    "duration": 16,
    "start_time": "2022-06-10T14:01:14.478Z"
   },
   {
    "duration": 52,
    "start_time": "2022-06-10T14:01:14.496Z"
   },
   {
    "duration": 628,
    "start_time": "2022-06-10T14:01:14.550Z"
   },
   {
    "duration": 23,
    "start_time": "2022-06-10T14:01:15.180Z"
   },
   {
    "duration": 932,
    "start_time": "2022-06-10T14:01:15.205Z"
   },
   {
    "duration": 22,
    "start_time": "2022-06-10T14:01:16.139Z"
   },
   {
    "duration": 856,
    "start_time": "2022-06-10T14:01:16.164Z"
   },
   {
    "duration": 26,
    "start_time": "2022-06-10T14:01:17.026Z"
   },
   {
    "duration": 701,
    "start_time": "2022-06-10T14:01:17.054Z"
   },
   {
    "duration": 81,
    "start_time": "2022-06-10T14:01:17.757Z"
   },
   {
    "duration": 897,
    "start_time": "2022-06-10T14:01:17.842Z"
   },
   {
    "duration": 8,
    "start_time": "2022-06-10T14:01:18.744Z"
   },
   {
    "duration": 72,
    "start_time": "2022-06-10T14:01:18.754Z"
   },
   {
    "duration": 11,
    "start_time": "2022-06-10T14:01:18.832Z"
   },
   {
    "duration": 1918,
    "start_time": "2022-06-10T14:01:18.844Z"
   },
   {
    "duration": 78,
    "start_time": "2022-06-10T14:01:20.764Z"
   },
   {
    "duration": 1224,
    "start_time": "2022-06-10T14:01:20.844Z"
   },
   {
    "duration": 22,
    "start_time": "2022-06-10T14:01:22.070Z"
   },
   {
    "duration": 867,
    "start_time": "2022-06-10T14:01:22.094Z"
   },
   {
    "duration": 22,
    "start_time": "2022-06-10T14:01:22.963Z"
   },
   {
    "duration": 998,
    "start_time": "2022-06-10T14:01:22.987Z"
   },
   {
    "duration": 21,
    "start_time": "2022-06-10T14:01:23.987Z"
   },
   {
    "duration": 18,
    "start_time": "2022-06-10T14:01:24.010Z"
   },
   {
    "duration": 31,
    "start_time": "2022-06-10T14:01:24.030Z"
   },
   {
    "duration": 12,
    "start_time": "2022-06-10T14:01:24.063Z"
   },
   {
    "duration": 25,
    "start_time": "2022-06-10T14:01:24.077Z"
   },
   {
    "duration": 25,
    "start_time": "2022-06-10T14:01:24.104Z"
   },
   {
    "duration": 12,
    "start_time": "2022-06-10T14:01:24.131Z"
   },
   {
    "duration": 15,
    "start_time": "2022-06-10T14:01:24.145Z"
   },
   {
    "duration": 41,
    "start_time": "2022-06-10T14:01:24.162Z"
   },
   {
    "duration": 917,
    "start_time": "2022-06-10T14:01:24.205Z"
   },
   {
    "duration": 2200,
    "start_time": "2022-06-10T14:01:25.124Z"
   },
   {
    "duration": 1690659,
    "start_time": "2022-06-10T14:01:27.331Z"
   },
   {
    "duration": 1145,
    "start_time": "2022-06-10T14:29:37.993Z"
   },
   {
    "duration": 455,
    "start_time": "2022-06-10T14:29:39.140Z"
   },
   {
    "duration": 50,
    "start_time": "2022-06-10T14:29:39.597Z"
   },
   {
    "duration": 1952,
    "start_time": "2022-06-10T14:32:08.829Z"
   },
   {
    "duration": 1089,
    "start_time": "2022-06-10T14:32:49.768Z"
   },
   {
    "duration": 27,
    "start_time": "2022-06-10T14:33:03.087Z"
   },
   {
    "duration": 1293,
    "start_time": "2022-06-10T17:08:56.587Z"
   },
   {
    "duration": 3017,
    "start_time": "2022-06-10T17:08:57.883Z"
   },
   {
    "duration": 32,
    "start_time": "2022-06-10T17:09:00.902Z"
   },
   {
    "duration": 16,
    "start_time": "2022-06-10T17:09:00.936Z"
   },
   {
    "duration": 30,
    "start_time": "2022-06-10T17:09:00.954Z"
   },
   {
    "duration": 20,
    "start_time": "2022-06-10T17:09:00.986Z"
   },
   {
    "duration": 25,
    "start_time": "2022-06-10T17:09:01.008Z"
   },
   {
    "duration": 120,
    "start_time": "2022-06-10T17:09:01.034Z"
   },
   {
    "duration": 106,
    "start_time": "2022-06-10T17:09:01.156Z"
   },
   {
    "duration": 98,
    "start_time": "2022-06-10T17:09:01.264Z"
   },
   {
    "duration": 11,
    "start_time": "2022-06-10T17:09:01.363Z"
   },
   {
    "duration": 26,
    "start_time": "2022-06-10T17:09:01.376Z"
   },
   {
    "duration": 5,
    "start_time": "2022-06-10T17:09:01.404Z"
   },
   {
    "duration": 25,
    "start_time": "2022-06-10T17:09:01.411Z"
   },
   {
    "duration": 9,
    "start_time": "2022-06-10T17:09:01.437Z"
   },
   {
    "duration": 25,
    "start_time": "2022-06-10T17:09:01.448Z"
   },
   {
    "duration": 14,
    "start_time": "2022-06-10T17:09:01.475Z"
   },
   {
    "duration": 5,
    "start_time": "2022-06-10T17:09:01.491Z"
   },
   {
    "duration": 47,
    "start_time": "2022-06-10T17:09:01.498Z"
   },
   {
    "duration": 587,
    "start_time": "2022-06-10T17:09:01.546Z"
   },
   {
    "duration": 31,
    "start_time": "2022-06-10T17:09:02.135Z"
   },
   {
    "duration": 875,
    "start_time": "2022-06-10T17:09:02.167Z"
   },
   {
    "duration": 26,
    "start_time": "2022-06-10T17:09:03.043Z"
   },
   {
    "duration": 796,
    "start_time": "2022-06-10T17:09:03.071Z"
   },
   {
    "duration": 21,
    "start_time": "2022-06-10T17:09:03.869Z"
   },
   {
    "duration": 489,
    "start_time": "2022-06-10T17:09:03.891Z"
   },
   {
    "duration": 21,
    "start_time": "2022-06-10T17:09:04.381Z"
   },
   {
    "duration": 343,
    "start_time": "2022-06-10T17:09:04.406Z"
   },
   {
    "duration": 6,
    "start_time": "2022-06-10T17:09:04.752Z"
   },
   {
    "duration": 32,
    "start_time": "2022-06-10T17:09:04.760Z"
   },
   {
    "duration": 21,
    "start_time": "2022-06-10T17:09:04.793Z"
   },
   {
    "duration": 1028,
    "start_time": "2022-06-10T17:09:04.815Z"
   },
   {
    "duration": 35,
    "start_time": "2022-06-10T17:09:05.844Z"
   },
   {
    "duration": 577,
    "start_time": "2022-06-10T17:09:05.881Z"
   },
   {
    "duration": 22,
    "start_time": "2022-06-10T17:09:06.460Z"
   },
   {
    "duration": 752,
    "start_time": "2022-06-10T17:09:06.484Z"
   },
   {
    "duration": 29,
    "start_time": "2022-06-10T17:09:07.238Z"
   },
   {
    "duration": 912,
    "start_time": "2022-06-10T17:09:07.269Z"
   },
   {
    "duration": 22,
    "start_time": "2022-06-10T17:09:08.184Z"
   },
   {
    "duration": 5,
    "start_time": "2022-06-10T17:09:08.208Z"
   },
   {
    "duration": 13,
    "start_time": "2022-06-10T17:09:08.215Z"
   },
   {
    "duration": 23,
    "start_time": "2022-06-10T17:09:08.230Z"
   },
   {
    "duration": 10,
    "start_time": "2022-06-10T17:09:08.255Z"
   },
   {
    "duration": 7,
    "start_time": "2022-06-10T17:09:08.266Z"
   },
   {
    "duration": 11,
    "start_time": "2022-06-10T17:09:08.275Z"
   },
   {
    "duration": 7,
    "start_time": "2022-06-10T17:09:08.288Z"
   },
   {
    "duration": 18,
    "start_time": "2022-06-10T17:09:08.297Z"
   },
   {
    "duration": 862,
    "start_time": "2022-06-10T17:09:08.317Z"
   },
   {
    "duration": 1270,
    "start_time": "2022-06-10T17:09:09.181Z"
   },
   {
    "duration": 1546766,
    "start_time": "2022-06-10T17:09:10.454Z"
   },
   {
    "duration": 0,
    "start_time": "2022-06-10T17:34:57.222Z"
   },
   {
    "duration": 0,
    "start_time": "2022-06-10T17:34:57.223Z"
   },
   {
    "duration": 0,
    "start_time": "2022-06-10T17:34:57.224Z"
   },
   {
    "duration": 14,
    "start_time": "2022-06-10T17:35:07.214Z"
   },
   {
    "duration": 4,
    "start_time": "2022-06-10T17:42:59.223Z"
   },
   {
    "duration": 5,
    "start_time": "2022-06-10T17:43:18.212Z"
   },
   {
    "duration": 4,
    "start_time": "2022-06-10T17:45:58.880Z"
   },
   {
    "duration": 9,
    "start_time": "2022-06-10T17:48:10.024Z"
   },
   {
    "duration": 30,
    "start_time": "2022-06-10T17:48:21.829Z"
   },
   {
    "duration": 17,
    "start_time": "2022-06-10T17:48:53.593Z"
   },
   {
    "duration": 25,
    "start_time": "2022-06-10T17:49:20.145Z"
   },
   {
    "duration": 21,
    "start_time": "2022-06-10T17:49:29.799Z"
   },
   {
    "duration": 10,
    "start_time": "2022-06-10T17:51:07.002Z"
   },
   {
    "duration": 37,
    "start_time": "2022-06-10T17:51:12.414Z"
   },
   {
    "duration": 26,
    "start_time": "2022-06-10T17:51:44.750Z"
   },
   {
    "duration": 32,
    "start_time": "2022-06-10T17:52:06.850Z"
   },
   {
    "duration": 31,
    "start_time": "2022-06-10T17:52:49.631Z"
   },
   {
    "duration": 107,
    "start_time": "2022-06-17T09:30:47.388Z"
   },
   {
    "duration": 1214,
    "start_time": "2022-06-17T09:30:57.754Z"
   },
   {
    "duration": 654,
    "start_time": "2022-06-17T09:30:58.969Z"
   },
   {
    "duration": 34,
    "start_time": "2022-06-17T09:30:59.625Z"
   },
   {
    "duration": 15,
    "start_time": "2022-06-17T09:30:59.662Z"
   },
   {
    "duration": 24,
    "start_time": "2022-06-17T09:30:59.695Z"
   },
   {
    "duration": 12,
    "start_time": "2022-06-17T09:30:59.721Z"
   },
   {
    "duration": 13,
    "start_time": "2022-06-17T09:30:59.735Z"
   },
   {
    "duration": 6,
    "start_time": "2022-06-17T09:30:59.750Z"
   },
   {
    "duration": 42,
    "start_time": "2022-06-17T09:30:59.758Z"
   },
   {
    "duration": 3,
    "start_time": "2022-06-17T09:30:59.804Z"
   },
   {
    "duration": 6,
    "start_time": "2022-06-17T09:30:59.809Z"
   },
   {
    "duration": 6,
    "start_time": "2022-06-17T09:30:59.817Z"
   },
   {
    "duration": 5,
    "start_time": "2022-06-17T09:30:59.824Z"
   },
   {
    "duration": 39,
    "start_time": "2022-06-17T09:30:59.831Z"
   },
   {
    "duration": 547,
    "start_time": "2022-06-17T09:30:59.872Z"
   },
   {
    "duration": 22,
    "start_time": "2022-06-17T09:31:00.421Z"
   },
   {
    "duration": 927,
    "start_time": "2022-06-17T09:31:00.444Z"
   },
   {
    "duration": 25,
    "start_time": "2022-06-17T09:31:01.373Z"
   },
   {
    "duration": 610,
    "start_time": "2022-06-17T09:31:01.400Z"
   },
   {
    "duration": 21,
    "start_time": "2022-06-17T09:31:02.012Z"
   },
   {
    "duration": 546,
    "start_time": "2022-06-17T09:31:02.035Z"
   },
   {
    "duration": 27,
    "start_time": "2022-06-17T09:31:02.583Z"
   },
   {
    "duration": 322,
    "start_time": "2022-06-17T09:31:02.612Z"
   },
   {
    "duration": 7,
    "start_time": "2022-06-17T09:31:02.935Z"
   },
   {
    "duration": 21,
    "start_time": "2022-06-17T09:31:02.943Z"
   },
   {
    "duration": 7,
    "start_time": "2022-06-17T09:31:02.966Z"
   },
   {
    "duration": 4,
    "start_time": "2022-06-17T09:31:02.974Z"
   },
   {
    "duration": 0,
    "start_time": "2022-06-17T09:31:02.980Z"
   },
   {
    "duration": 0,
    "start_time": "2022-06-17T09:31:02.982Z"
   },
   {
    "duration": 0,
    "start_time": "2022-06-17T09:31:02.994Z"
   },
   {
    "duration": 0,
    "start_time": "2022-06-17T09:31:02.995Z"
   },
   {
    "duration": 0,
    "start_time": "2022-06-17T09:31:02.996Z"
   },
   {
    "duration": 0,
    "start_time": "2022-06-17T09:31:02.997Z"
   },
   {
    "duration": 0,
    "start_time": "2022-06-17T09:31:02.998Z"
   },
   {
    "duration": 0,
    "start_time": "2022-06-17T09:31:03.000Z"
   },
   {
    "duration": 0,
    "start_time": "2022-06-17T09:31:03.001Z"
   },
   {
    "duration": 0,
    "start_time": "2022-06-17T09:31:03.001Z"
   },
   {
    "duration": 0,
    "start_time": "2022-06-17T09:31:03.002Z"
   },
   {
    "duration": 0,
    "start_time": "2022-06-17T09:31:03.003Z"
   },
   {
    "duration": 0,
    "start_time": "2022-06-17T09:31:03.004Z"
   },
   {
    "duration": 0,
    "start_time": "2022-06-17T09:31:03.005Z"
   },
   {
    "duration": 0,
    "start_time": "2022-06-17T09:31:03.006Z"
   },
   {
    "duration": 0,
    "start_time": "2022-06-17T09:31:03.006Z"
   },
   {
    "duration": 0,
    "start_time": "2022-06-17T09:31:03.007Z"
   },
   {
    "duration": 0,
    "start_time": "2022-06-17T09:31:03.008Z"
   },
   {
    "duration": 0,
    "start_time": "2022-06-17T09:31:03.009Z"
   },
   {
    "duration": 0,
    "start_time": "2022-06-17T09:31:03.010Z"
   },
   {
    "duration": 0,
    "start_time": "2022-06-17T09:31:03.011Z"
   },
   {
    "duration": 0,
    "start_time": "2022-06-17T09:31:03.012Z"
   },
   {
    "duration": 0,
    "start_time": "2022-06-17T09:31:03.013Z"
   },
   {
    "duration": 101,
    "start_time": "2022-06-17T09:32:13.251Z"
   },
   {
    "duration": 9,
    "start_time": "2022-06-17T09:32:22.745Z"
   },
   {
    "duration": 814,
    "start_time": "2022-06-17T09:32:57.044Z"
   },
   {
    "duration": 1242,
    "start_time": "2022-06-17T09:33:05.491Z"
   },
   {
    "duration": 644,
    "start_time": "2022-06-17T09:33:06.736Z"
   },
   {
    "duration": 44,
    "start_time": "2022-06-17T09:33:07.382Z"
   },
   {
    "duration": 18,
    "start_time": "2022-06-17T09:33:07.428Z"
   },
   {
    "duration": 25,
    "start_time": "2022-06-17T09:33:07.448Z"
   },
   {
    "duration": 31,
    "start_time": "2022-06-17T09:33:07.474Z"
   },
   {
    "duration": 15,
    "start_time": "2022-06-17T09:33:07.507Z"
   },
   {
    "duration": 5,
    "start_time": "2022-06-17T09:33:07.523Z"
   },
   {
    "duration": 11,
    "start_time": "2022-06-17T09:33:07.529Z"
   },
   {
    "duration": 4,
    "start_time": "2022-06-17T09:33:07.542Z"
   },
   {
    "duration": 7,
    "start_time": "2022-06-17T09:33:07.547Z"
   },
   {
    "duration": 10,
    "start_time": "2022-06-17T09:33:07.555Z"
   },
   {
    "duration": 8,
    "start_time": "2022-06-17T09:33:07.567Z"
   },
   {
    "duration": 40,
    "start_time": "2022-06-17T09:33:07.594Z"
   },
   {
    "duration": 485,
    "start_time": "2022-06-17T09:33:07.636Z"
   },
   {
    "duration": 21,
    "start_time": "2022-06-17T09:33:08.122Z"
   },
   {
    "duration": 931,
    "start_time": "2022-06-17T09:33:08.145Z"
   },
   {
    "duration": 32,
    "start_time": "2022-06-17T09:33:09.077Z"
   },
   {
    "duration": 590,
    "start_time": "2022-06-17T09:33:09.111Z"
   },
   {
    "duration": 19,
    "start_time": "2022-06-17T09:33:09.703Z"
   },
   {
    "duration": 584,
    "start_time": "2022-06-17T09:33:09.724Z"
   },
   {
    "duration": 21,
    "start_time": "2022-06-17T09:33:10.309Z"
   },
   {
    "duration": 308,
    "start_time": "2022-06-17T09:33:10.331Z"
   },
   {
    "duration": 6,
    "start_time": "2022-06-17T09:33:10.641Z"
   },
   {
    "duration": 7,
    "start_time": "2022-06-17T09:33:10.648Z"
   },
   {
    "duration": 6,
    "start_time": "2022-06-17T09:33:10.657Z"
   },
   {
    "duration": 788,
    "start_time": "2022-06-17T09:33:10.665Z"
   },
   {
    "duration": 10,
    "start_time": "2022-06-17T09:33:11.456Z"
   },
   {
    "duration": 31,
    "start_time": "2022-06-17T09:33:11.468Z"
   },
   {
    "duration": 638,
    "start_time": "2022-06-17T09:33:11.501Z"
   },
   {
    "duration": 19,
    "start_time": "2022-06-17T09:33:12.141Z"
   },
   {
    "duration": 692,
    "start_time": "2022-06-17T09:33:12.162Z"
   },
   {
    "duration": 20,
    "start_time": "2022-06-17T09:33:12.856Z"
   },
   {
    "duration": 861,
    "start_time": "2022-06-17T09:33:12.877Z"
   },
   {
    "duration": 20,
    "start_time": "2022-06-17T09:33:13.740Z"
   },
   {
    "duration": 4,
    "start_time": "2022-06-17T09:33:13.761Z"
   },
   {
    "duration": 9,
    "start_time": "2022-06-17T09:33:13.767Z"
   },
   {
    "duration": 21,
    "start_time": "2022-06-17T09:33:13.777Z"
   },
   {
    "duration": 42,
    "start_time": "2022-06-17T09:33:13.799Z"
   },
   {
    "duration": 5,
    "start_time": "2022-06-17T09:33:13.842Z"
   },
   {
    "duration": 7,
    "start_time": "2022-06-17T09:33:13.849Z"
   },
   {
    "duration": 5,
    "start_time": "2022-06-17T09:33:13.858Z"
   },
   {
    "duration": 9,
    "start_time": "2022-06-17T09:33:13.864Z"
   },
   {
    "duration": 7,
    "start_time": "2022-06-17T09:33:13.894Z"
   },
   {
    "duration": 21,
    "start_time": "2022-06-17T09:33:13.903Z"
   },
   {
    "duration": 881,
    "start_time": "2022-06-17T09:33:13.926Z"
   },
   {
    "duration": 1089,
    "start_time": "2022-06-17T09:33:14.809Z"
   },
   {
    "duration": 267245,
    "start_time": "2022-06-17T09:33:15.900Z"
   },
   {
    "duration": 0,
    "start_time": "2022-06-17T09:37:43.147Z"
   },
   {
    "duration": 0,
    "start_time": "2022-06-17T09:37:43.148Z"
   },
   {
    "duration": 0,
    "start_time": "2022-06-17T09:37:43.149Z"
   },
   {
    "duration": 146686,
    "start_time": "2022-06-17T09:37:44.879Z"
   },
   {
    "duration": 7,
    "start_time": "2022-06-17T09:40:11.566Z"
   },
   {
    "duration": 13,
    "start_time": "2022-06-17T09:41:18.180Z"
   },
   {
    "duration": 5,
    "start_time": "2022-06-17T09:41:36.800Z"
   },
   {
    "duration": 13669,
    "start_time": "2022-06-17T09:41:49.774Z"
   },
   {
    "duration": 9,
    "start_time": "2022-06-17T09:47:16.071Z"
   },
   {
    "duration": 122,
    "start_time": "2022-06-17T09:47:33.392Z"
   },
   {
    "duration": 111,
    "start_time": "2022-06-17T09:47:57.123Z"
   },
   {
    "duration": 116,
    "start_time": "2022-06-17T09:52:45.021Z"
   },
   {
    "duration": 148,
    "start_time": "2022-06-17T09:54:28.500Z"
   },
   {
    "duration": 457,
    "start_time": "2022-06-17T09:56:33.488Z"
   },
   {
    "duration": 123,
    "start_time": "2022-06-17T09:56:50.119Z"
   },
   {
    "duration": 119,
    "start_time": "2022-06-17T09:57:36.321Z"
   },
   {
    "duration": 228,
    "start_time": "2022-06-17T10:05:43.814Z"
   },
   {
    "duration": 208,
    "start_time": "2022-06-17T10:05:56.801Z"
   },
   {
    "duration": 305,
    "start_time": "2022-06-17T10:06:14.802Z"
   },
   {
    "duration": 234,
    "start_time": "2022-06-17T10:06:30.762Z"
   },
   {
    "duration": 19,
    "start_time": "2022-06-17T10:16:33.573Z"
   },
   {
    "duration": 11,
    "start_time": "2022-06-17T10:35:35.113Z"
   },
   {
    "duration": 14,
    "start_time": "2022-06-17T10:35:50.532Z"
   },
   {
    "duration": 72,
    "start_time": "2022-06-17T10:43:41.265Z"
   },
   {
    "duration": 679,
    "start_time": "2022-06-17T10:44:28.299Z"
   },
   {
    "duration": 4,
    "start_time": "2022-06-17T10:45:01.319Z"
   },
   {
    "duration": 10,
    "start_time": "2022-06-17T10:45:13.213Z"
   },
   {
    "duration": 1386,
    "start_time": "2022-06-17T10:45:26.881Z"
   },
   {
    "duration": 678,
    "start_time": "2022-06-17T10:45:28.269Z"
   },
   {
    "duration": 58,
    "start_time": "2022-06-17T10:45:28.949Z"
   },
   {
    "duration": 29,
    "start_time": "2022-06-17T10:45:29.012Z"
   },
   {
    "duration": 61,
    "start_time": "2022-06-17T10:45:29.044Z"
   },
   {
    "duration": 13,
    "start_time": "2022-06-17T10:45:29.111Z"
   },
   {
    "duration": 27,
    "start_time": "2022-06-17T10:45:29.125Z"
   },
   {
    "duration": 32,
    "start_time": "2022-06-17T10:45:29.154Z"
   },
   {
    "duration": 34,
    "start_time": "2022-06-17T10:45:29.188Z"
   },
   {
    "duration": 24,
    "start_time": "2022-06-17T10:45:29.225Z"
   },
   {
    "duration": 25,
    "start_time": "2022-06-17T10:45:29.251Z"
   },
   {
    "duration": 39,
    "start_time": "2022-06-17T10:45:29.278Z"
   },
   {
    "duration": 31,
    "start_time": "2022-06-17T10:45:29.319Z"
   },
   {
    "duration": 88,
    "start_time": "2022-06-17T10:45:29.352Z"
   },
   {
    "duration": 521,
    "start_time": "2022-06-17T10:45:29.442Z"
   },
   {
    "duration": 34,
    "start_time": "2022-06-17T10:45:29.965Z"
   },
   {
    "duration": 1697,
    "start_time": "2022-06-17T10:45:30.010Z"
   },
   {
    "duration": 22,
    "start_time": "2022-06-17T10:45:31.708Z"
   },
   {
    "duration": 1450,
    "start_time": "2022-06-17T10:45:31.733Z"
   },
   {
    "duration": 33,
    "start_time": "2022-06-17T10:45:33.184Z"
   },
   {
    "duration": 631,
    "start_time": "2022-06-17T10:45:33.220Z"
   },
   {
    "duration": 57,
    "start_time": "2022-06-17T10:45:33.854Z"
   },
   {
    "duration": 429,
    "start_time": "2022-06-17T10:45:33.913Z"
   },
   {
    "duration": 6,
    "start_time": "2022-06-17T10:45:34.345Z"
   },
   {
    "duration": 25,
    "start_time": "2022-06-17T10:45:34.352Z"
   },
   {
    "duration": 30,
    "start_time": "2022-06-17T10:45:34.378Z"
   },
   {
    "duration": 225,
    "start_time": "2022-06-17T10:45:34.412Z"
   },
   {
    "duration": 258,
    "start_time": "2022-06-17T10:45:34.640Z"
   },
   {
    "duration": 250,
    "start_time": "2022-06-17T10:45:34.899Z"
   },
   {
    "duration": 367,
    "start_time": "2022-06-17T10:45:35.150Z"
   },
   {
    "duration": 4,
    "start_time": "2022-06-17T10:45:35.519Z"
   },
   {
    "duration": 8,
    "start_time": "2022-06-17T10:45:35.525Z"
   },
   {
    "duration": 21,
    "start_time": "2022-06-17T10:45:35.535Z"
   },
   {
    "duration": 55,
    "start_time": "2022-06-17T10:45:35.558Z"
   },
   {
    "duration": 126,
    "start_time": "2022-06-17T10:45:35.615Z"
   },
   {
    "duration": 0,
    "start_time": "2022-06-17T10:45:35.742Z"
   },
   {
    "duration": 0,
    "start_time": "2022-06-17T10:45:35.745Z"
   },
   {
    "duration": 0,
    "start_time": "2022-06-17T10:45:35.746Z"
   },
   {
    "duration": 0,
    "start_time": "2022-06-17T10:45:35.747Z"
   },
   {
    "duration": 0,
    "start_time": "2022-06-17T10:45:35.748Z"
   },
   {
    "duration": 0,
    "start_time": "2022-06-17T10:45:35.750Z"
   },
   {
    "duration": 0,
    "start_time": "2022-06-17T10:45:35.751Z"
   },
   {
    "duration": 0,
    "start_time": "2022-06-17T10:45:35.752Z"
   },
   {
    "duration": 0,
    "start_time": "2022-06-17T10:45:35.753Z"
   },
   {
    "duration": 0,
    "start_time": "2022-06-17T10:45:35.753Z"
   },
   {
    "duration": 0,
    "start_time": "2022-06-17T10:45:35.754Z"
   },
   {
    "duration": 0,
    "start_time": "2022-06-17T10:45:35.755Z"
   },
   {
    "duration": 0,
    "start_time": "2022-06-17T10:45:35.756Z"
   },
   {
    "duration": 17,
    "start_time": "2022-06-17T10:47:49.313Z"
   },
   {
    "duration": 1385,
    "start_time": "2022-06-17T10:48:03.081Z"
   },
   {
    "duration": 672,
    "start_time": "2022-06-17T10:48:04.468Z"
   },
   {
    "duration": 29,
    "start_time": "2022-06-17T10:48:05.142Z"
   },
   {
    "duration": 33,
    "start_time": "2022-06-17T10:48:05.173Z"
   },
   {
    "duration": 24,
    "start_time": "2022-06-17T10:48:05.214Z"
   },
   {
    "duration": 12,
    "start_time": "2022-06-17T10:48:05.239Z"
   },
   {
    "duration": 15,
    "start_time": "2022-06-17T10:48:05.253Z"
   },
   {
    "duration": 6,
    "start_time": "2022-06-17T10:48:05.270Z"
   },
   {
    "duration": 18,
    "start_time": "2022-06-17T10:48:05.296Z"
   },
   {
    "duration": 12,
    "start_time": "2022-06-17T10:48:05.316Z"
   },
   {
    "duration": 9,
    "start_time": "2022-06-17T10:48:05.329Z"
   },
   {
    "duration": 20,
    "start_time": "2022-06-17T10:48:05.340Z"
   },
   {
    "duration": 7,
    "start_time": "2022-06-17T10:48:05.361Z"
   },
   {
    "duration": 47,
    "start_time": "2022-06-17T10:48:05.370Z"
   },
   {
    "duration": 500,
    "start_time": "2022-06-17T10:48:05.419Z"
   },
   {
    "duration": 29,
    "start_time": "2022-06-17T10:48:05.921Z"
   },
   {
    "duration": 1043,
    "start_time": "2022-06-17T10:48:05.951Z"
   },
   {
    "duration": 41,
    "start_time": "2022-06-17T10:48:06.995Z"
   },
   {
    "duration": 792,
    "start_time": "2022-06-17T10:48:07.038Z"
   },
   {
    "duration": 29,
    "start_time": "2022-06-17T10:48:07.833Z"
   },
   {
    "duration": 649,
    "start_time": "2022-06-17T10:48:07.865Z"
   },
   {
    "duration": 22,
    "start_time": "2022-06-17T10:48:08.516Z"
   },
   {
    "duration": 343,
    "start_time": "2022-06-17T10:48:08.539Z"
   },
   {
    "duration": 19,
    "start_time": "2022-06-17T10:48:08.883Z"
   },
   {
    "duration": 28,
    "start_time": "2022-06-17T10:48:08.909Z"
   },
   {
    "duration": 16,
    "start_time": "2022-06-17T10:48:08.940Z"
   },
   {
    "duration": 256,
    "start_time": "2022-06-17T10:48:08.958Z"
   },
   {
    "duration": 238,
    "start_time": "2022-06-17T10:48:09.220Z"
   },
   {
    "duration": 236,
    "start_time": "2022-06-17T10:48:09.459Z"
   },
   {
    "duration": 377,
    "start_time": "2022-06-17T10:48:09.702Z"
   },
   {
    "duration": 5,
    "start_time": "2022-06-17T10:48:10.080Z"
   },
   {
    "duration": 16,
    "start_time": "2022-06-17T10:48:10.087Z"
   },
   {
    "duration": 26,
    "start_time": "2022-06-17T10:48:10.105Z"
   },
   {
    "duration": 35,
    "start_time": "2022-06-17T10:48:10.133Z"
   },
   {
    "duration": 138,
    "start_time": "2022-06-17T10:48:10.170Z"
   },
   {
    "duration": 0,
    "start_time": "2022-06-17T10:48:10.310Z"
   },
   {
    "duration": 0,
    "start_time": "2022-06-17T10:48:10.311Z"
   },
   {
    "duration": 0,
    "start_time": "2022-06-17T10:48:10.313Z"
   },
   {
    "duration": 0,
    "start_time": "2022-06-17T10:48:10.314Z"
   },
   {
    "duration": 0,
    "start_time": "2022-06-17T10:48:10.316Z"
   },
   {
    "duration": 0,
    "start_time": "2022-06-17T10:48:10.318Z"
   },
   {
    "duration": 0,
    "start_time": "2022-06-17T10:48:10.319Z"
   },
   {
    "duration": 0,
    "start_time": "2022-06-17T10:48:10.321Z"
   },
   {
    "duration": 0,
    "start_time": "2022-06-17T10:48:10.322Z"
   },
   {
    "duration": 0,
    "start_time": "2022-06-17T10:48:10.324Z"
   },
   {
    "duration": 0,
    "start_time": "2022-06-17T10:48:10.325Z"
   },
   {
    "duration": 0,
    "start_time": "2022-06-17T10:48:10.326Z"
   },
   {
    "duration": 0,
    "start_time": "2022-06-17T10:48:10.328Z"
   },
   {
    "duration": 37,
    "start_time": "2022-06-17T10:50:15.613Z"
   },
   {
    "duration": 17,
    "start_time": "2022-06-17T10:50:21.410Z"
   },
   {
    "duration": 17,
    "start_time": "2022-06-17T10:50:57.419Z"
   },
   {
    "duration": 1430,
    "start_time": "2022-06-17T10:51:31.519Z"
   },
   {
    "duration": 742,
    "start_time": "2022-06-17T10:51:32.951Z"
   },
   {
    "duration": 49,
    "start_time": "2022-06-17T10:51:33.698Z"
   },
   {
    "duration": 18,
    "start_time": "2022-06-17T10:51:33.750Z"
   },
   {
    "duration": 50,
    "start_time": "2022-06-17T10:51:33.769Z"
   },
   {
    "duration": 15,
    "start_time": "2022-06-17T10:51:33.821Z"
   },
   {
    "duration": 32,
    "start_time": "2022-06-17T10:51:33.838Z"
   },
   {
    "duration": 6,
    "start_time": "2022-06-17T10:51:33.872Z"
   },
   {
    "duration": 17,
    "start_time": "2022-06-17T10:51:33.880Z"
   },
   {
    "duration": 44,
    "start_time": "2022-06-17T10:51:33.900Z"
   },
   {
    "duration": 15,
    "start_time": "2022-06-17T10:51:33.945Z"
   },
   {
    "duration": 13,
    "start_time": "2022-06-17T10:51:33.962Z"
   },
   {
    "duration": 12,
    "start_time": "2022-06-17T10:51:33.977Z"
   },
   {
    "duration": 66,
    "start_time": "2022-06-17T10:51:33.992Z"
   },
   {
    "duration": 540,
    "start_time": "2022-06-17T10:51:34.060Z"
   },
   {
    "duration": 25,
    "start_time": "2022-06-17T10:51:34.601Z"
   },
   {
    "duration": 1286,
    "start_time": "2022-06-17T10:51:34.629Z"
   },
   {
    "duration": 26,
    "start_time": "2022-06-17T10:51:35.917Z"
   },
   {
    "duration": 1641,
    "start_time": "2022-06-17T10:51:35.995Z"
   },
   {
    "duration": 24,
    "start_time": "2022-06-17T10:51:37.640Z"
   },
   {
    "duration": 777,
    "start_time": "2022-06-17T10:51:37.666Z"
   },
   {
    "duration": 22,
    "start_time": "2022-06-17T10:51:38.444Z"
   },
   {
    "duration": 360,
    "start_time": "2022-06-17T10:51:38.467Z"
   },
   {
    "duration": 6,
    "start_time": "2022-06-17T10:51:38.829Z"
   },
   {
    "duration": 15,
    "start_time": "2022-06-17T10:51:38.836Z"
   },
   {
    "duration": 12,
    "start_time": "2022-06-17T10:51:38.852Z"
   },
   {
    "duration": 300,
    "start_time": "2022-06-17T10:51:38.866Z"
   },
   {
    "duration": 262,
    "start_time": "2022-06-17T10:51:39.169Z"
   },
   {
    "duration": 255,
    "start_time": "2022-06-17T10:51:39.433Z"
   },
   {
    "duration": 397,
    "start_time": "2022-06-17T10:51:39.689Z"
   },
   {
    "duration": 6,
    "start_time": "2022-06-17T10:51:40.088Z"
   },
   {
    "duration": 36,
    "start_time": "2022-06-17T10:51:40.096Z"
   },
   {
    "duration": 11,
    "start_time": "2022-06-17T10:51:40.135Z"
   },
   {
    "duration": 35,
    "start_time": "2022-06-17T10:51:40.148Z"
   },
   {
    "duration": 125,
    "start_time": "2022-06-17T10:51:40.184Z"
   },
   {
    "duration": 0,
    "start_time": "2022-06-17T10:51:40.316Z"
   },
   {
    "duration": 0,
    "start_time": "2022-06-17T10:51:40.318Z"
   },
   {
    "duration": 0,
    "start_time": "2022-06-17T10:51:40.320Z"
   },
   {
    "duration": 0,
    "start_time": "2022-06-17T10:51:40.322Z"
   },
   {
    "duration": 0,
    "start_time": "2022-06-17T10:51:40.323Z"
   },
   {
    "duration": 0,
    "start_time": "2022-06-17T10:51:40.324Z"
   },
   {
    "duration": 0,
    "start_time": "2022-06-17T10:51:40.325Z"
   },
   {
    "duration": 0,
    "start_time": "2022-06-17T10:51:40.325Z"
   },
   {
    "duration": 0,
    "start_time": "2022-06-17T10:51:40.326Z"
   },
   {
    "duration": 0,
    "start_time": "2022-06-17T10:51:40.326Z"
   },
   {
    "duration": 0,
    "start_time": "2022-06-17T10:51:40.327Z"
   },
   {
    "duration": 0,
    "start_time": "2022-06-17T10:51:40.328Z"
   },
   {
    "duration": 0,
    "start_time": "2022-06-17T10:51:40.329Z"
   },
   {
    "duration": 10,
    "start_time": "2022-06-17T10:52:06.529Z"
   },
   {
    "duration": 1322,
    "start_time": "2022-06-17T10:52:51.678Z"
   },
   {
    "duration": 672,
    "start_time": "2022-06-17T10:52:53.004Z"
   },
   {
    "duration": 46,
    "start_time": "2022-06-17T10:52:53.678Z"
   },
   {
    "duration": 19,
    "start_time": "2022-06-17T10:52:53.726Z"
   },
   {
    "duration": 31,
    "start_time": "2022-06-17T10:52:53.746Z"
   },
   {
    "duration": 29,
    "start_time": "2022-06-17T10:52:53.779Z"
   },
   {
    "duration": 32,
    "start_time": "2022-06-17T10:52:53.810Z"
   },
   {
    "duration": 6,
    "start_time": "2022-06-17T10:52:53.844Z"
   },
   {
    "duration": 12,
    "start_time": "2022-06-17T10:52:53.851Z"
   },
   {
    "duration": 5,
    "start_time": "2022-06-17T10:52:53.869Z"
   },
   {
    "duration": 35,
    "start_time": "2022-06-17T10:52:53.876Z"
   },
   {
    "duration": 12,
    "start_time": "2022-06-17T10:52:53.914Z"
   },
   {
    "duration": 4,
    "start_time": "2022-06-17T10:52:53.928Z"
   },
   {
    "duration": 40,
    "start_time": "2022-06-17T10:52:53.934Z"
   },
   {
    "duration": 498,
    "start_time": "2022-06-17T10:52:53.976Z"
   },
   {
    "duration": 39,
    "start_time": "2022-06-17T10:52:54.476Z"
   },
   {
    "duration": 991,
    "start_time": "2022-06-17T10:52:54.517Z"
   },
   {
    "duration": 34,
    "start_time": "2022-06-17T10:52:55.511Z"
   },
   {
    "duration": 1454,
    "start_time": "2022-06-17T10:52:55.546Z"
   },
   {
    "duration": 90,
    "start_time": "2022-06-17T10:52:57.007Z"
   },
   {
    "duration": 848,
    "start_time": "2022-06-17T10:52:57.099Z"
   },
   {
    "duration": 20,
    "start_time": "2022-06-17T10:52:57.948Z"
   },
   {
    "duration": 365,
    "start_time": "2022-06-17T10:52:57.971Z"
   },
   {
    "duration": 7,
    "start_time": "2022-06-17T10:52:58.338Z"
   },
   {
    "duration": 16,
    "start_time": "2022-06-17T10:52:58.347Z"
   },
   {
    "duration": 10,
    "start_time": "2022-06-17T10:52:58.366Z"
   },
   {
    "duration": 222,
    "start_time": "2022-06-17T10:52:58.403Z"
   },
   {
    "duration": 240,
    "start_time": "2022-06-17T10:52:58.627Z"
   },
   {
    "duration": 245,
    "start_time": "2022-06-17T10:52:58.869Z"
   },
   {
    "duration": 375,
    "start_time": "2022-06-17T10:52:59.115Z"
   },
   {
    "duration": 15,
    "start_time": "2022-06-17T10:52:59.492Z"
   },
   {
    "duration": 12,
    "start_time": "2022-06-17T10:52:59.508Z"
   },
   {
    "duration": 12,
    "start_time": "2022-06-17T10:52:59.521Z"
   },
   {
    "duration": 11,
    "start_time": "2022-06-17T10:52:59.534Z"
   },
   {
    "duration": 142,
    "start_time": "2022-06-17T10:52:59.547Z"
   },
   {
    "duration": 0,
    "start_time": "2022-06-17T10:52:59.691Z"
   },
   {
    "duration": 0,
    "start_time": "2022-06-17T10:52:59.704Z"
   },
   {
    "duration": 0,
    "start_time": "2022-06-17T10:52:59.704Z"
   },
   {
    "duration": 0,
    "start_time": "2022-06-17T10:52:59.705Z"
   },
   {
    "duration": 0,
    "start_time": "2022-06-17T10:52:59.706Z"
   },
   {
    "duration": 0,
    "start_time": "2022-06-17T10:52:59.709Z"
   },
   {
    "duration": 0,
    "start_time": "2022-06-17T10:52:59.710Z"
   },
   {
    "duration": 0,
    "start_time": "2022-06-17T10:52:59.710Z"
   },
   {
    "duration": 0,
    "start_time": "2022-06-17T10:52:59.711Z"
   },
   {
    "duration": 0,
    "start_time": "2022-06-17T10:52:59.712Z"
   },
   {
    "duration": 0,
    "start_time": "2022-06-17T10:52:59.714Z"
   },
   {
    "duration": 0,
    "start_time": "2022-06-17T10:52:59.716Z"
   },
   {
    "duration": 0,
    "start_time": "2022-06-17T10:52:59.717Z"
   },
   {
    "duration": 26,
    "start_time": "2022-06-17T10:53:26.233Z"
   },
   {
    "duration": 13,
    "start_time": "2022-06-17T10:53:42.309Z"
   },
   {
    "duration": 540,
    "start_time": "2022-06-17T10:54:05.252Z"
   },
   {
    "duration": 5,
    "start_time": "2022-06-17T10:55:17.830Z"
   },
   {
    "duration": 5,
    "start_time": "2022-06-17T10:55:23.221Z"
   },
   {
    "duration": 16,
    "start_time": "2022-06-17T10:55:26.404Z"
   },
   {
    "duration": 7,
    "start_time": "2022-06-17T10:55:35.510Z"
   },
   {
    "duration": 7,
    "start_time": "2022-06-17T10:55:36.212Z"
   },
   {
    "duration": 8,
    "start_time": "2022-06-17T10:55:39.781Z"
   },
   {
    "duration": 6,
    "start_time": "2022-06-17T10:55:42.948Z"
   },
   {
    "duration": 19,
    "start_time": "2022-06-17T10:55:43.688Z"
   },
   {
    "duration": 23,
    "start_time": "2022-06-17T10:55:50.410Z"
   },
   {
    "duration": 899,
    "start_time": "2022-06-17T10:55:56.227Z"
   },
   {
    "duration": 2452,
    "start_time": "2022-06-17T10:56:45.660Z"
   },
   {
    "duration": 11,
    "start_time": "2022-06-17T11:09:32.860Z"
   },
   {
    "duration": 10,
    "start_time": "2022-06-17T11:09:40.445Z"
   },
   {
    "duration": 1239,
    "start_time": "2022-06-17T11:09:54.933Z"
   },
   {
    "duration": 690,
    "start_time": "2022-06-17T11:09:56.174Z"
   },
   {
    "duration": 42,
    "start_time": "2022-06-17T11:09:56.865Z"
   },
   {
    "duration": 17,
    "start_time": "2022-06-17T11:09:56.913Z"
   },
   {
    "duration": 25,
    "start_time": "2022-06-17T11:09:56.931Z"
   },
   {
    "duration": 11,
    "start_time": "2022-06-17T11:09:56.957Z"
   },
   {
    "duration": 33,
    "start_time": "2022-06-17T11:09:56.970Z"
   },
   {
    "duration": 6,
    "start_time": "2022-06-17T11:09:57.011Z"
   },
   {
    "duration": 14,
    "start_time": "2022-06-17T11:09:57.018Z"
   },
   {
    "duration": 3,
    "start_time": "2022-06-17T11:09:57.034Z"
   },
   {
    "duration": 7,
    "start_time": "2022-06-17T11:09:57.039Z"
   },
   {
    "duration": 8,
    "start_time": "2022-06-17T11:09:57.048Z"
   },
   {
    "duration": 11,
    "start_time": "2022-06-17T11:09:57.058Z"
   },
   {
    "duration": 53,
    "start_time": "2022-06-17T11:09:57.071Z"
   },
   {
    "duration": 590,
    "start_time": "2022-06-17T11:09:57.125Z"
   },
   {
    "duration": 20,
    "start_time": "2022-06-17T11:09:57.719Z"
   },
   {
    "duration": 1015,
    "start_time": "2022-06-17T11:09:57.740Z"
   },
   {
    "duration": 62,
    "start_time": "2022-06-17T11:09:58.757Z"
   },
   {
    "duration": 1513,
    "start_time": "2022-06-17T11:09:58.824Z"
   },
   {
    "duration": 90,
    "start_time": "2022-06-17T11:10:00.338Z"
   },
   {
    "duration": 722,
    "start_time": "2022-06-17T11:10:00.430Z"
   },
   {
    "duration": 21,
    "start_time": "2022-06-17T11:10:01.154Z"
   },
   {
    "duration": 370,
    "start_time": "2022-06-17T11:10:01.176Z"
   },
   {
    "duration": 6,
    "start_time": "2022-06-17T11:10:01.548Z"
   },
   {
    "duration": 24,
    "start_time": "2022-06-17T11:10:01.556Z"
   },
   {
    "duration": 33,
    "start_time": "2022-06-17T11:10:01.581Z"
   },
   {
    "duration": 268,
    "start_time": "2022-06-17T11:10:01.619Z"
   },
   {
    "duration": 289,
    "start_time": "2022-06-17T11:10:01.890Z"
   },
   {
    "duration": 344,
    "start_time": "2022-06-17T11:10:02.181Z"
   },
   {
    "duration": 444,
    "start_time": "2022-06-17T11:10:02.527Z"
   },
   {
    "duration": 4,
    "start_time": "2022-06-17T11:10:02.973Z"
   },
   {
    "duration": 17,
    "start_time": "2022-06-17T11:10:02.979Z"
   },
   {
    "duration": 54,
    "start_time": "2022-06-17T11:10:03.000Z"
   },
   {
    "duration": 30,
    "start_time": "2022-06-17T11:10:03.056Z"
   },
   {
    "duration": 74,
    "start_time": "2022-06-17T11:10:03.088Z"
   },
   {
    "duration": 25,
    "start_time": "2022-06-17T11:10:03.164Z"
   },
   {
    "duration": 57,
    "start_time": "2022-06-17T11:10:03.191Z"
   },
   {
    "duration": 136,
    "start_time": "2022-06-17T11:10:03.250Z"
   },
   {
    "duration": 0,
    "start_time": "2022-06-17T11:10:03.388Z"
   },
   {
    "duration": 0,
    "start_time": "2022-06-17T11:10:03.389Z"
   },
   {
    "duration": 0,
    "start_time": "2022-06-17T11:10:03.394Z"
   },
   {
    "duration": 0,
    "start_time": "2022-06-17T11:10:03.395Z"
   },
   {
    "duration": 0,
    "start_time": "2022-06-17T11:10:03.398Z"
   },
   {
    "duration": 0,
    "start_time": "2022-06-17T11:10:03.398Z"
   },
   {
    "duration": 0,
    "start_time": "2022-06-17T11:10:03.399Z"
   },
   {
    "duration": 0,
    "start_time": "2022-06-17T11:10:03.400Z"
   },
   {
    "duration": 0,
    "start_time": "2022-06-17T11:10:03.401Z"
   },
   {
    "duration": 0,
    "start_time": "2022-06-17T11:10:03.402Z"
   },
   {
    "duration": 0,
    "start_time": "2022-06-17T11:10:03.406Z"
   },
   {
    "duration": 7,
    "start_time": "2022-06-17T11:10:45.225Z"
   },
   {
    "duration": 20,
    "start_time": "2022-06-17T11:10:56.037Z"
   },
   {
    "duration": 911,
    "start_time": "2022-06-17T11:10:58.325Z"
   },
   {
    "duration": 2481,
    "start_time": "2022-06-17T11:11:59.344Z"
   },
   {
    "duration": 1218,
    "start_time": "2022-06-17T11:26:05.060Z"
   },
   {
    "duration": 686,
    "start_time": "2022-06-17T11:26:06.280Z"
   },
   {
    "duration": 45,
    "start_time": "2022-06-17T11:26:06.968Z"
   },
   {
    "duration": 17,
    "start_time": "2022-06-17T11:26:07.015Z"
   },
   {
    "duration": 21,
    "start_time": "2022-06-17T11:26:07.033Z"
   },
   {
    "duration": 10,
    "start_time": "2022-06-17T11:26:07.056Z"
   },
   {
    "duration": 38,
    "start_time": "2022-06-17T11:26:07.067Z"
   },
   {
    "duration": 11,
    "start_time": "2022-06-17T11:26:07.113Z"
   },
   {
    "duration": 9,
    "start_time": "2022-06-17T11:26:07.125Z"
   },
   {
    "duration": 3,
    "start_time": "2022-06-17T11:26:07.137Z"
   },
   {
    "duration": 9,
    "start_time": "2022-06-17T11:26:07.141Z"
   },
   {
    "duration": 6,
    "start_time": "2022-06-17T11:26:07.152Z"
   },
   {
    "duration": 4,
    "start_time": "2022-06-17T11:26:07.159Z"
   },
   {
    "duration": 53,
    "start_time": "2022-06-17T11:26:07.165Z"
   },
   {
    "duration": 556,
    "start_time": "2022-06-17T11:26:07.220Z"
   },
   {
    "duration": 31,
    "start_time": "2022-06-17T11:26:07.777Z"
   },
   {
    "duration": 979,
    "start_time": "2022-06-17T11:26:07.810Z"
   },
   {
    "duration": 29,
    "start_time": "2022-06-17T11:26:08.795Z"
   },
   {
    "duration": 661,
    "start_time": "2022-06-17T11:26:08.826Z"
   },
   {
    "duration": 35,
    "start_time": "2022-06-17T11:26:09.488Z"
   },
   {
    "duration": 567,
    "start_time": "2022-06-17T11:26:09.525Z"
   },
   {
    "duration": 30,
    "start_time": "2022-06-17T11:26:10.093Z"
   },
   {
    "duration": 324,
    "start_time": "2022-06-17T11:26:10.125Z"
   },
   {
    "duration": 6,
    "start_time": "2022-06-17T11:26:10.451Z"
   },
   {
    "duration": 11,
    "start_time": "2022-06-17T11:26:10.459Z"
   },
   {
    "duration": 7,
    "start_time": "2022-06-17T11:26:10.472Z"
   },
   {
    "duration": 244,
    "start_time": "2022-06-17T11:26:10.481Z"
   },
   {
    "duration": 242,
    "start_time": "2022-06-17T11:26:10.727Z"
   },
   {
    "duration": 247,
    "start_time": "2022-06-17T11:26:10.971Z"
   },
   {
    "duration": 347,
    "start_time": "2022-06-17T11:26:11.220Z"
   },
   {
    "duration": 4,
    "start_time": "2022-06-17T11:26:11.568Z"
   },
   {
    "duration": 8,
    "start_time": "2022-06-17T11:26:11.574Z"
   },
   {
    "duration": 26,
    "start_time": "2022-06-17T11:26:11.584Z"
   },
   {
    "duration": 20,
    "start_time": "2022-06-17T11:26:11.612Z"
   },
   {
    "duration": 12,
    "start_time": "2022-06-17T11:26:11.634Z"
   },
   {
    "duration": 7,
    "start_time": "2022-06-17T11:26:11.647Z"
   },
   {
    "duration": 4,
    "start_time": "2022-06-17T11:26:11.655Z"
   },
   {
    "duration": 6,
    "start_time": "2022-06-17T11:26:11.661Z"
   },
   {
    "duration": 9,
    "start_time": "2022-06-17T11:26:11.668Z"
   },
   {
    "duration": 21,
    "start_time": "2022-06-17T11:26:11.679Z"
   },
   {
    "duration": 23,
    "start_time": "2022-06-17T11:26:11.706Z"
   },
   {
    "duration": 12,
    "start_time": "2022-06-17T11:26:11.731Z"
   },
   {
    "duration": 6,
    "start_time": "2022-06-17T11:26:11.744Z"
   },
   {
    "duration": 23,
    "start_time": "2022-06-17T11:26:11.752Z"
   },
   {
    "duration": 945,
    "start_time": "2022-06-17T11:26:11.777Z"
   },
   {
    "duration": 2396,
    "start_time": "2022-06-17T11:26:12.724Z"
   },
   {
    "duration": 138329,
    "start_time": "2022-06-17T11:26:15.195Z"
   },
   {
    "duration": 0,
    "start_time": "2022-06-17T11:28:33.526Z"
   },
   {
    "duration": 0,
    "start_time": "2022-06-17T11:28:33.527Z"
   },
   {
    "duration": 1094,
    "start_time": "2022-06-17T11:28:38.102Z"
   },
   {
    "duration": 414,
    "start_time": "2022-06-17T11:28:42.271Z"
   },
   {
    "duration": 14,
    "start_time": "2022-06-17T11:33:10.238Z"
   },
   {
    "duration": 218,
    "start_time": "2022-06-17T11:33:16.619Z"
   },
   {
    "duration": 236,
    "start_time": "2022-06-17T11:33:20.076Z"
   },
   {
    "duration": 240,
    "start_time": "2022-06-17T11:33:30.415Z"
   },
   {
    "duration": 227,
    "start_time": "2022-06-17T11:33:34.141Z"
   },
   {
    "duration": 342,
    "start_time": "2022-06-17T11:33:40.274Z"
   },
   {
    "duration": 20,
    "start_time": "2022-06-17T11:35:34.287Z"
   },
   {
    "duration": 30,
    "start_time": "2022-06-17T11:35:48.743Z"
   },
   {
    "duration": 231,
    "start_time": "2022-06-17T11:35:58.552Z"
   },
   {
    "duration": 221,
    "start_time": "2022-06-17T11:36:01.644Z"
   },
   {
    "duration": 234,
    "start_time": "2022-06-17T11:36:13.198Z"
   },
   {
    "duration": 35,
    "start_time": "2022-06-17T11:36:16.774Z"
   },
   {
    "duration": 224,
    "start_time": "2022-06-17T11:36:21.050Z"
   },
   {
    "duration": 374,
    "start_time": "2022-06-17T11:36:23.273Z"
   },
   {
    "duration": 242,
    "start_time": "2022-06-17T11:36:26.700Z"
   },
   {
    "duration": 246,
    "start_time": "2022-06-17T11:36:28.753Z"
   },
   {
    "duration": 34,
    "start_time": "2022-06-17T11:36:49.854Z"
   },
   {
    "duration": 237,
    "start_time": "2022-06-17T11:36:58.673Z"
   },
   {
    "duration": 241,
    "start_time": "2022-06-17T11:37:07.181Z"
   },
   {
    "duration": 934,
    "start_time": "2022-06-17T11:37:31.774Z"
   },
   {
    "duration": 33,
    "start_time": "2022-06-17T11:39:16.559Z"
   },
   {
    "duration": 19,
    "start_time": "2022-06-17T11:39:25.852Z"
   },
   {
    "duration": 9,
    "start_time": "2022-06-17T12:54:44.752Z"
   },
   {
    "duration": 10,
    "start_time": "2022-06-17T12:54:58.464Z"
   },
   {
    "duration": 7,
    "start_time": "2022-06-17T12:57:03.929Z"
   },
   {
    "duration": 9,
    "start_time": "2022-06-17T12:58:13.668Z"
   },
   {
    "duration": 15,
    "start_time": "2022-06-17T13:13:07.392Z"
   },
   {
    "duration": 9,
    "start_time": "2022-06-17T13:13:13.744Z"
   },
   {
    "duration": 9,
    "start_time": "2022-06-17T13:21:32.983Z"
   },
   {
    "duration": 8,
    "start_time": "2022-06-17T13:21:55.339Z"
   },
   {
    "duration": 321,
    "start_time": "2022-06-17T13:33:15.139Z"
   },
   {
    "duration": 422,
    "start_time": "2022-06-17T13:35:22.247Z"
   },
   {
    "duration": 650,
    "start_time": "2022-06-17T13:35:28.338Z"
   },
   {
    "duration": 457,
    "start_time": "2022-06-17T13:39:53.710Z"
   },
   {
    "duration": 17,
    "start_time": "2022-06-17T13:40:25.688Z"
   },
   {
    "duration": 14,
    "start_time": "2022-06-17T13:40:47.705Z"
   },
   {
    "duration": 12,
    "start_time": "2022-06-17T13:40:56.576Z"
   },
   {
    "duration": 12,
    "start_time": "2022-06-17T13:41:03.917Z"
   },
   {
    "duration": 1236,
    "start_time": "2022-06-17T13:41:31.411Z"
   },
   {
    "duration": 642,
    "start_time": "2022-06-17T13:41:32.648Z"
   },
   {
    "duration": 30,
    "start_time": "2022-06-17T13:41:33.292Z"
   },
   {
    "duration": 15,
    "start_time": "2022-06-17T13:41:33.324Z"
   },
   {
    "duration": 23,
    "start_time": "2022-06-17T13:41:33.340Z"
   },
   {
    "duration": 39,
    "start_time": "2022-06-17T13:41:33.365Z"
   },
   {
    "duration": 13,
    "start_time": "2022-06-17T13:41:33.405Z"
   },
   {
    "duration": 5,
    "start_time": "2022-06-17T13:41:33.419Z"
   },
   {
    "duration": 10,
    "start_time": "2022-06-17T13:41:33.426Z"
   },
   {
    "duration": 3,
    "start_time": "2022-06-17T13:41:33.438Z"
   },
   {
    "duration": 6,
    "start_time": "2022-06-17T13:41:33.443Z"
   },
   {
    "duration": 6,
    "start_time": "2022-06-17T13:41:33.450Z"
   },
   {
    "duration": 3,
    "start_time": "2022-06-17T13:41:33.494Z"
   },
   {
    "duration": 64,
    "start_time": "2022-06-17T13:41:33.498Z"
   },
   {
    "duration": 481,
    "start_time": "2022-06-17T13:41:33.563Z"
   },
   {
    "duration": 19,
    "start_time": "2022-06-17T13:41:34.046Z"
   },
   {
    "duration": 907,
    "start_time": "2022-06-17T13:41:34.067Z"
   },
   {
    "duration": 28,
    "start_time": "2022-06-17T13:41:34.976Z"
   },
   {
    "duration": 606,
    "start_time": "2022-06-17T13:41:35.006Z"
   },
   {
    "duration": 19,
    "start_time": "2022-06-17T13:41:35.613Z"
   },
   {
    "duration": 589,
    "start_time": "2022-06-17T13:41:35.633Z"
   },
   {
    "duration": 18,
    "start_time": "2022-06-17T13:41:36.224Z"
   },
   {
    "duration": 513,
    "start_time": "2022-06-17T13:41:36.244Z"
   },
   {
    "duration": 6,
    "start_time": "2022-06-17T13:41:36.758Z"
   },
   {
    "duration": 7,
    "start_time": "2022-06-17T13:41:36.766Z"
   },
   {
    "duration": 25,
    "start_time": "2022-06-17T13:41:36.775Z"
   },
   {
    "duration": 9,
    "start_time": "2022-06-17T13:41:36.801Z"
   },
   {
    "duration": 216,
    "start_time": "2022-06-17T13:41:36.814Z"
   },
   {
    "duration": 208,
    "start_time": "2022-06-17T13:41:37.032Z"
   },
   {
    "duration": 379,
    "start_time": "2022-06-17T13:41:37.241Z"
   },
   {
    "duration": 230,
    "start_time": "2022-06-17T13:41:37.621Z"
   },
   {
    "duration": 14,
    "start_time": "2022-06-17T13:41:37.852Z"
   },
   {
    "duration": 4,
    "start_time": "2022-06-17T13:41:37.868Z"
   },
   {
    "duration": 22,
    "start_time": "2022-06-17T13:41:37.873Z"
   },
   {
    "duration": 9,
    "start_time": "2022-06-17T13:41:37.896Z"
   },
   {
    "duration": 16,
    "start_time": "2022-06-17T13:41:37.906Z"
   },
   {
    "duration": 11,
    "start_time": "2022-06-17T13:41:37.924Z"
   },
   {
    "duration": 7,
    "start_time": "2022-06-17T13:41:37.936Z"
   },
   {
    "duration": 4,
    "start_time": "2022-06-17T13:41:37.944Z"
   },
   {
    "duration": 4,
    "start_time": "2022-06-17T13:41:37.949Z"
   },
   {
    "duration": 41,
    "start_time": "2022-06-17T13:41:37.954Z"
   },
   {
    "duration": 6,
    "start_time": "2022-06-17T13:41:37.996Z"
   },
   {
    "duration": 7,
    "start_time": "2022-06-17T13:41:38.003Z"
   },
   {
    "duration": 20,
    "start_time": "2022-06-17T13:41:38.011Z"
   },
   {
    "duration": 7,
    "start_time": "2022-06-17T13:41:38.033Z"
   },
   {
    "duration": 23,
    "start_time": "2022-06-17T13:41:38.042Z"
   },
   {
    "duration": 876,
    "start_time": "2022-06-17T13:41:38.067Z"
   },
   {
    "duration": 1256,
    "start_time": "2022-06-17T13:41:38.944Z"
   },
   {
    "duration": 27232,
    "start_time": "2022-06-17T13:41:40.201Z"
   },
   {
    "duration": 0,
    "start_time": "2022-06-17T13:42:07.434Z"
   },
   {
    "duration": 0,
    "start_time": "2022-06-17T13:42:07.436Z"
   },
   {
    "duration": 0,
    "start_time": "2022-06-17T13:42:07.437Z"
   },
   {
    "duration": 12,
    "start_time": "2022-06-17T13:42:10.503Z"
   },
   {
    "duration": 13,
    "start_time": "2022-06-17T13:42:12.828Z"
   },
   {
    "duration": 1225,
    "start_time": "2022-06-17T13:42:25.597Z"
   },
   {
    "duration": 641,
    "start_time": "2022-06-17T13:42:26.823Z"
   },
   {
    "duration": 50,
    "start_time": "2022-06-17T13:42:27.466Z"
   },
   {
    "duration": 18,
    "start_time": "2022-06-17T13:42:27.519Z"
   },
   {
    "duration": 24,
    "start_time": "2022-06-17T13:42:27.539Z"
   },
   {
    "duration": 36,
    "start_time": "2022-06-17T13:42:27.564Z"
   },
   {
    "duration": 11,
    "start_time": "2022-06-17T13:42:27.601Z"
   },
   {
    "duration": 4,
    "start_time": "2022-06-17T13:42:27.614Z"
   },
   {
    "duration": 9,
    "start_time": "2022-06-17T13:42:27.620Z"
   },
   {
    "duration": 3,
    "start_time": "2022-06-17T13:42:27.631Z"
   },
   {
    "duration": 6,
    "start_time": "2022-06-17T13:42:27.635Z"
   },
   {
    "duration": 5,
    "start_time": "2022-06-17T13:42:27.642Z"
   },
   {
    "duration": 45,
    "start_time": "2022-06-17T13:42:27.649Z"
   },
   {
    "duration": 36,
    "start_time": "2022-06-17T13:42:27.697Z"
   },
   {
    "duration": 487,
    "start_time": "2022-06-17T13:42:27.735Z"
   },
   {
    "duration": 19,
    "start_time": "2022-06-17T13:42:28.223Z"
   },
   {
    "duration": 918,
    "start_time": "2022-06-17T13:42:28.244Z"
   },
   {
    "duration": 31,
    "start_time": "2022-06-17T13:42:29.164Z"
   },
   {
    "duration": 578,
    "start_time": "2022-06-17T13:42:29.197Z"
   },
   {
    "duration": 25,
    "start_time": "2022-06-17T13:42:29.777Z"
   },
   {
    "duration": 536,
    "start_time": "2022-06-17T13:42:29.804Z"
   },
   {
    "duration": 22,
    "start_time": "2022-06-17T13:42:30.341Z"
   },
   {
    "duration": 541,
    "start_time": "2022-06-17T13:42:30.365Z"
   },
   {
    "duration": 6,
    "start_time": "2022-06-17T13:42:30.907Z"
   },
   {
    "duration": 9,
    "start_time": "2022-06-17T13:42:30.915Z"
   },
   {
    "duration": 6,
    "start_time": "2022-06-17T13:42:30.926Z"
   },
   {
    "duration": 8,
    "start_time": "2022-06-17T13:42:30.933Z"
   },
   {
    "duration": 243,
    "start_time": "2022-06-17T13:42:30.944Z"
   },
   {
    "duration": 223,
    "start_time": "2022-06-17T13:42:31.194Z"
   },
   {
    "duration": 336,
    "start_time": "2022-06-17T13:42:31.419Z"
   },
   {
    "duration": 271,
    "start_time": "2022-06-17T13:42:31.756Z"
   },
   {
    "duration": 15,
    "start_time": "2022-06-17T13:42:32.029Z"
   },
   {
    "duration": 6,
    "start_time": "2022-06-17T13:42:32.047Z"
   },
   {
    "duration": 9,
    "start_time": "2022-06-17T13:42:32.054Z"
   },
   {
    "duration": 37,
    "start_time": "2022-06-17T13:42:32.064Z"
   },
   {
    "duration": 13,
    "start_time": "2022-06-17T13:42:32.103Z"
   },
   {
    "duration": 13,
    "start_time": "2022-06-17T13:42:32.117Z"
   },
   {
    "duration": 5,
    "start_time": "2022-06-17T13:42:32.132Z"
   },
   {
    "duration": 8,
    "start_time": "2022-06-17T13:42:32.139Z"
   },
   {
    "duration": 11,
    "start_time": "2022-06-17T13:42:32.149Z"
   },
   {
    "duration": 34,
    "start_time": "2022-06-17T13:42:32.161Z"
   },
   {
    "duration": 14,
    "start_time": "2022-06-17T13:42:32.197Z"
   },
   {
    "duration": 8,
    "start_time": "2022-06-17T13:42:32.213Z"
   },
   {
    "duration": 17,
    "start_time": "2022-06-17T13:42:32.223Z"
   },
   {
    "duration": 8,
    "start_time": "2022-06-17T13:42:32.242Z"
   },
   {
    "duration": 44,
    "start_time": "2022-06-17T13:42:32.252Z"
   },
   {
    "duration": 874,
    "start_time": "2022-06-17T13:42:32.298Z"
   },
   {
    "duration": 1122,
    "start_time": "2022-06-17T13:42:33.173Z"
   },
   {
    "duration": 34424,
    "start_time": "2022-06-17T13:42:34.297Z"
   },
   {
    "duration": 0,
    "start_time": "2022-06-17T13:43:08.722Z"
   },
   {
    "duration": 0,
    "start_time": "2022-06-17T13:43:08.723Z"
   },
   {
    "duration": 0,
    "start_time": "2022-06-17T13:43:08.724Z"
   },
   {
    "duration": 9,
    "start_time": "2022-06-17T13:43:09.137Z"
   },
   {
    "duration": 14,
    "start_time": "2022-06-17T13:48:23.184Z"
   },
   {
    "duration": 6,
    "start_time": "2022-06-17T13:48:37.762Z"
   },
   {
    "duration": 14,
    "start_time": "2022-06-17T13:49:36.273Z"
   },
   {
    "duration": 1240,
    "start_time": "2022-06-17T13:50:24.509Z"
   },
   {
    "duration": 626,
    "start_time": "2022-06-17T13:50:25.751Z"
   },
   {
    "duration": 32,
    "start_time": "2022-06-17T13:50:26.378Z"
   },
   {
    "duration": 13,
    "start_time": "2022-06-17T13:50:26.412Z"
   },
   {
    "duration": 22,
    "start_time": "2022-06-17T13:50:26.427Z"
   },
   {
    "duration": 11,
    "start_time": "2022-06-17T13:50:26.450Z"
   },
   {
    "duration": 41,
    "start_time": "2022-06-17T13:50:26.462Z"
   },
   {
    "duration": 6,
    "start_time": "2022-06-17T13:50:26.505Z"
   },
   {
    "duration": 12,
    "start_time": "2022-06-17T13:50:26.513Z"
   },
   {
    "duration": 8,
    "start_time": "2022-06-17T13:50:26.527Z"
   },
   {
    "duration": 14,
    "start_time": "2022-06-17T13:50:26.537Z"
   },
   {
    "duration": 18,
    "start_time": "2022-06-17T13:50:26.552Z"
   },
   {
    "duration": 4,
    "start_time": "2022-06-17T13:50:26.572Z"
   },
   {
    "duration": 50,
    "start_time": "2022-06-17T13:50:26.577Z"
   },
   {
    "duration": 533,
    "start_time": "2022-06-17T13:50:26.628Z"
   },
   {
    "duration": 33,
    "start_time": "2022-06-17T13:50:27.162Z"
   },
   {
    "duration": 1073,
    "start_time": "2022-06-17T13:50:27.197Z"
   },
   {
    "duration": 29,
    "start_time": "2022-06-17T13:50:28.272Z"
   },
   {
    "duration": 603,
    "start_time": "2022-06-17T13:50:28.302Z"
   },
   {
    "duration": 20,
    "start_time": "2022-06-17T13:50:28.906Z"
   },
   {
    "duration": 551,
    "start_time": "2022-06-17T13:50:28.927Z"
   },
   {
    "duration": 25,
    "start_time": "2022-06-17T13:50:29.480Z"
   },
   {
    "duration": 557,
    "start_time": "2022-06-17T13:50:29.507Z"
   },
   {
    "duration": 8,
    "start_time": "2022-06-17T13:50:30.066Z"
   },
   {
    "duration": 30,
    "start_time": "2022-06-17T13:50:30.076Z"
   },
   {
    "duration": 17,
    "start_time": "2022-06-17T13:50:30.108Z"
   },
   {
    "duration": 26,
    "start_time": "2022-06-17T13:50:30.127Z"
   },
   {
    "duration": 218,
    "start_time": "2022-06-17T13:50:30.157Z"
   },
   {
    "duration": 223,
    "start_time": "2022-06-17T13:50:30.377Z"
   },
   {
    "duration": 331,
    "start_time": "2022-06-17T13:50:30.602Z"
   },
   {
    "duration": 231,
    "start_time": "2022-06-17T13:50:30.934Z"
   },
   {
    "duration": 36,
    "start_time": "2022-06-17T13:50:31.166Z"
   },
   {
    "duration": 40,
    "start_time": "2022-06-17T13:50:31.203Z"
   },
   {
    "duration": 4,
    "start_time": "2022-06-17T13:50:31.244Z"
   },
   {
    "duration": 29,
    "start_time": "2022-06-17T13:50:31.250Z"
   },
   {
    "duration": 38,
    "start_time": "2022-06-17T13:50:31.281Z"
   },
   {
    "duration": 27,
    "start_time": "2022-06-17T13:50:31.321Z"
   },
   {
    "duration": 27,
    "start_time": "2022-06-17T13:50:31.350Z"
   },
   {
    "duration": 23,
    "start_time": "2022-06-17T13:50:31.378Z"
   },
   {
    "duration": 29,
    "start_time": "2022-06-17T13:50:31.402Z"
   },
   {
    "duration": 21,
    "start_time": "2022-06-17T13:50:31.432Z"
   },
   {
    "duration": 43,
    "start_time": "2022-06-17T13:50:31.454Z"
   },
   {
    "duration": 19,
    "start_time": "2022-06-17T13:50:31.499Z"
   },
   {
    "duration": 29,
    "start_time": "2022-06-17T13:50:31.519Z"
   },
   {
    "duration": 12,
    "start_time": "2022-06-17T13:50:31.549Z"
   },
   {
    "duration": 11,
    "start_time": "2022-06-17T13:50:31.562Z"
   },
   {
    "duration": 27,
    "start_time": "2022-06-17T13:50:31.574Z"
   },
   {
    "duration": 1114,
    "start_time": "2022-06-17T13:50:31.603Z"
   },
   {
    "duration": 1679,
    "start_time": "2022-06-17T13:50:32.719Z"
   },
   {
    "duration": 72216,
    "start_time": "2022-06-17T13:50:34.400Z"
   },
   {
    "duration": 0,
    "start_time": "2022-06-17T13:51:46.618Z"
   },
   {
    "duration": 0,
    "start_time": "2022-06-17T13:51:46.619Z"
   },
   {
    "duration": 0,
    "start_time": "2022-06-17T13:51:46.620Z"
   },
   {
    "duration": 32,
    "start_time": "2022-06-17T13:51:48.220Z"
   },
   {
    "duration": 225,
    "start_time": "2022-06-17T13:51:55.398Z"
   },
   {
    "duration": 198,
    "start_time": "2022-06-17T13:52:03.411Z"
   },
   {
    "duration": 206,
    "start_time": "2022-06-17T13:52:09.063Z"
   },
   {
    "duration": 302,
    "start_time": "2022-06-17T13:52:16.541Z"
   },
   {
    "duration": 1294,
    "start_time": "2022-06-17T13:53:05.474Z"
   },
   {
    "duration": 687,
    "start_time": "2022-06-17T13:53:06.770Z"
   },
   {
    "duration": 44,
    "start_time": "2022-06-17T13:53:07.459Z"
   },
   {
    "duration": 19,
    "start_time": "2022-06-17T13:53:07.506Z"
   },
   {
    "duration": 38,
    "start_time": "2022-06-17T13:53:07.527Z"
   },
   {
    "duration": 19,
    "start_time": "2022-06-17T13:53:07.593Z"
   },
   {
    "duration": 24,
    "start_time": "2022-06-17T13:53:07.614Z"
   },
   {
    "duration": 8,
    "start_time": "2022-06-17T13:53:07.640Z"
   },
   {
    "duration": 15,
    "start_time": "2022-06-17T13:53:07.650Z"
   },
   {
    "duration": 4,
    "start_time": "2022-06-17T13:53:07.668Z"
   },
   {
    "duration": 4,
    "start_time": "2022-06-17T13:53:07.695Z"
   },
   {
    "duration": 7,
    "start_time": "2022-06-17T13:53:07.701Z"
   },
   {
    "duration": 5,
    "start_time": "2022-06-17T13:53:07.709Z"
   },
   {
    "duration": 47,
    "start_time": "2022-06-17T13:53:07.716Z"
   },
   {
    "duration": 529,
    "start_time": "2022-06-17T13:53:07.796Z"
   },
   {
    "duration": 27,
    "start_time": "2022-06-17T13:53:08.327Z"
   },
   {
    "duration": 1010,
    "start_time": "2022-06-17T13:53:08.356Z"
   },
   {
    "duration": 40,
    "start_time": "2022-06-17T13:53:09.368Z"
   },
   {
    "duration": 676,
    "start_time": "2022-06-17T13:53:09.410Z"
   },
   {
    "duration": 23,
    "start_time": "2022-06-17T13:53:10.094Z"
   },
   {
    "duration": 660,
    "start_time": "2022-06-17T13:53:10.119Z"
   },
   {
    "duration": 32,
    "start_time": "2022-06-17T13:53:10.781Z"
   },
   {
    "duration": 598,
    "start_time": "2022-06-17T13:53:10.816Z"
   },
   {
    "duration": 10,
    "start_time": "2022-06-17T13:53:11.416Z"
   },
   {
    "duration": 16,
    "start_time": "2022-06-17T13:53:11.428Z"
   },
   {
    "duration": 9,
    "start_time": "2022-06-17T13:53:11.446Z"
   },
   {
    "duration": 43,
    "start_time": "2022-06-17T13:53:11.456Z"
   },
   {
    "duration": 251,
    "start_time": "2022-06-17T13:53:11.504Z"
   },
   {
    "duration": 312,
    "start_time": "2022-06-17T13:53:11.757Z"
   },
   {
    "duration": 364,
    "start_time": "2022-06-17T13:53:12.071Z"
   },
   {
    "duration": 268,
    "start_time": "2022-06-17T13:53:12.437Z"
   },
   {
    "duration": 36,
    "start_time": "2022-06-17T13:53:12.707Z"
   },
   {
    "duration": 68,
    "start_time": "2022-06-17T13:53:12.745Z"
   },
   {
    "duration": 4,
    "start_time": "2022-06-17T13:53:12.815Z"
   },
   {
    "duration": 9,
    "start_time": "2022-06-17T13:53:12.821Z"
   },
   {
    "duration": 29,
    "start_time": "2022-06-17T13:53:12.832Z"
   },
   {
    "duration": 35,
    "start_time": "2022-06-17T13:53:12.863Z"
   },
   {
    "duration": 19,
    "start_time": "2022-06-17T13:53:12.901Z"
   },
   {
    "duration": 8,
    "start_time": "2022-06-17T13:53:12.921Z"
   },
   {
    "duration": 8,
    "start_time": "2022-06-17T13:53:12.930Z"
   },
   {
    "duration": 5,
    "start_time": "2022-06-17T13:53:12.941Z"
   },
   {
    "duration": 10,
    "start_time": "2022-06-17T13:53:12.948Z"
   },
   {
    "duration": 37,
    "start_time": "2022-06-17T13:53:12.959Z"
   },
   {
    "duration": 9,
    "start_time": "2022-06-17T13:53:12.999Z"
   },
   {
    "duration": 11,
    "start_time": "2022-06-17T13:53:13.010Z"
   },
   {
    "duration": 7,
    "start_time": "2022-06-17T13:53:13.023Z"
   },
   {
    "duration": 63,
    "start_time": "2022-06-17T13:53:13.031Z"
   },
   {
    "duration": 927,
    "start_time": "2022-06-17T13:53:13.096Z"
   },
   {
    "duration": 1373,
    "start_time": "2022-06-17T13:53:14.025Z"
   },
   {
    "duration": 256854,
    "start_time": "2022-06-17T13:53:15.399Z"
   },
   {
    "duration": 0,
    "start_time": "2022-06-17T13:57:32.255Z"
   },
   {
    "duration": 0,
    "start_time": "2022-06-17T13:57:32.256Z"
   },
   {
    "duration": 621,
    "start_time": "2022-06-17T13:57:33.721Z"
   },
   {
    "duration": 330,
    "start_time": "2022-06-17T13:57:41.782Z"
   },
   {
    "duration": 1159,
    "start_time": "2022-06-17T13:57:46.744Z"
   },
   {
    "duration": 1363,
    "start_time": "2022-06-17T13:57:53.782Z"
   },
   {
    "duration": 1615,
    "start_time": "2022-06-17T13:58:01.757Z"
   },
   {
    "duration": 620,
    "start_time": "2022-06-17T13:58:08.816Z"
   },
   {
    "duration": 1091,
    "start_time": "2022-06-17T13:58:16.134Z"
   },
   {
    "duration": 60,
    "start_time": "2022-06-17T21:46:58.152Z"
   },
   {
    "duration": 1484,
    "start_time": "2022-06-17T21:47:40.344Z"
   },
   {
    "duration": 3017,
    "start_time": "2022-06-17T21:47:41.830Z"
   },
   {
    "duration": 30,
    "start_time": "2022-06-17T21:47:44.848Z"
   },
   {
    "duration": 15,
    "start_time": "2022-06-17T21:47:44.880Z"
   },
   {
    "duration": 30,
    "start_time": "2022-06-17T21:47:44.896Z"
   },
   {
    "duration": 11,
    "start_time": "2022-06-17T21:47:44.927Z"
   },
   {
    "duration": 13,
    "start_time": "2022-06-17T21:47:44.940Z"
   },
   {
    "duration": 6,
    "start_time": "2022-06-17T21:47:44.955Z"
   },
   {
    "duration": 12,
    "start_time": "2022-06-17T21:47:44.962Z"
   },
   {
    "duration": 4,
    "start_time": "2022-06-17T21:47:44.977Z"
   },
   {
    "duration": 14,
    "start_time": "2022-06-17T21:47:44.984Z"
   },
   {
    "duration": 5,
    "start_time": "2022-06-17T21:47:45.027Z"
   },
   {
    "duration": 8,
    "start_time": "2022-06-17T21:47:45.034Z"
   },
   {
    "duration": 54,
    "start_time": "2022-06-17T21:47:45.044Z"
   },
   {
    "duration": 547,
    "start_time": "2022-06-17T21:47:45.100Z"
   },
   {
    "duration": 24,
    "start_time": "2022-06-17T21:47:45.649Z"
   },
   {
    "duration": 1916,
    "start_time": "2022-06-17T21:47:45.675Z"
   },
   {
    "duration": 35,
    "start_time": "2022-06-17T21:47:47.592Z"
   },
   {
    "duration": 663,
    "start_time": "2022-06-17T21:47:47.629Z"
   },
   {
    "duration": 25,
    "start_time": "2022-06-17T21:47:48.297Z"
   },
   {
    "duration": 595,
    "start_time": "2022-06-17T21:47:48.325Z"
   },
   {
    "duration": 23,
    "start_time": "2022-06-17T21:47:48.922Z"
   },
   {
    "duration": 563,
    "start_time": "2022-06-17T21:47:48.947Z"
   },
   {
    "duration": 14,
    "start_time": "2022-06-17T21:47:49.512Z"
   },
   {
    "duration": 8,
    "start_time": "2022-06-17T21:47:49.527Z"
   },
   {
    "duration": 8,
    "start_time": "2022-06-17T21:47:49.536Z"
   },
   {
    "duration": 9,
    "start_time": "2022-06-17T21:47:49.545Z"
   },
   {
    "duration": 247,
    "start_time": "2022-06-17T21:47:49.558Z"
   },
   {
    "duration": 241,
    "start_time": "2022-06-17T21:47:49.807Z"
   },
   {
    "duration": 373,
    "start_time": "2022-06-17T21:47:50.050Z"
   },
   {
    "duration": 255,
    "start_time": "2022-06-17T21:47:50.426Z"
   },
   {
    "duration": 28,
    "start_time": "2022-06-17T21:47:50.683Z"
   },
   {
    "duration": 57,
    "start_time": "2022-06-17T21:47:50.712Z"
   },
   {
    "duration": 4,
    "start_time": "2022-06-17T21:47:50.771Z"
   },
   {
    "duration": 11,
    "start_time": "2022-06-17T21:47:50.777Z"
   },
   {
    "duration": 14,
    "start_time": "2022-06-17T21:47:50.790Z"
   },
   {
    "duration": 26,
    "start_time": "2022-06-17T21:47:50.806Z"
   },
   {
    "duration": 14,
    "start_time": "2022-06-17T21:47:50.834Z"
   },
   {
    "duration": 7,
    "start_time": "2022-06-17T21:47:50.850Z"
   },
   {
    "duration": 9,
    "start_time": "2022-06-17T21:47:50.859Z"
   },
   {
    "duration": 8,
    "start_time": "2022-06-17T21:47:50.869Z"
   },
   {
    "duration": 16,
    "start_time": "2022-06-17T21:47:50.878Z"
   },
   {
    "duration": 8,
    "start_time": "2022-06-17T21:47:50.896Z"
   },
   {
    "duration": 20,
    "start_time": "2022-06-17T21:47:50.906Z"
   },
   {
    "duration": 13,
    "start_time": "2022-06-17T21:47:50.927Z"
   },
   {
    "duration": 6,
    "start_time": "2022-06-17T21:47:50.941Z"
   },
   {
    "duration": 22,
    "start_time": "2022-06-17T21:47:50.949Z"
   },
   {
    "duration": 708,
    "start_time": "2022-06-17T21:47:50.972Z"
   },
   {
    "duration": 1657,
    "start_time": "2022-06-17T21:47:51.681Z"
   },
   {
    "duration": 17297,
    "start_time": "2022-06-17T21:47:53.427Z"
   },
   {
    "duration": 0,
    "start_time": "2022-06-17T21:48:10.728Z"
   },
   {
    "duration": 0,
    "start_time": "2022-06-17T21:48:10.730Z"
   },
   {
    "duration": 0,
    "start_time": "2022-06-17T21:48:10.731Z"
   },
   {
    "duration": 14,
    "start_time": "2022-06-17T21:48:16.494Z"
   },
   {
    "duration": 29,
    "start_time": "2022-06-17T21:49:04.659Z"
   },
   {
    "duration": 0,
    "start_time": "2022-06-17T21:56:43.488Z"
   },
   {
    "duration": 0,
    "start_time": "2022-06-17T21:56:43.489Z"
   },
   {
    "duration": 12,
    "start_time": "2022-06-17T21:56:46.167Z"
   },
   {
    "duration": 13,
    "start_time": "2022-06-17T21:56:48.349Z"
   },
   {
    "duration": 1338,
    "start_time": "2022-06-17T21:57:07.800Z"
   },
   {
    "duration": 733,
    "start_time": "2022-06-17T21:57:09.140Z"
   },
   {
    "duration": 54,
    "start_time": "2022-06-17T21:57:09.875Z"
   },
   {
    "duration": 19,
    "start_time": "2022-06-17T21:57:09.933Z"
   },
   {
    "duration": 80,
    "start_time": "2022-06-17T21:57:09.954Z"
   },
   {
    "duration": 13,
    "start_time": "2022-06-17T21:57:10.038Z"
   },
   {
    "duration": 15,
    "start_time": "2022-06-17T21:57:10.052Z"
   },
   {
    "duration": 62,
    "start_time": "2022-06-17T21:57:10.068Z"
   },
   {
    "duration": 20,
    "start_time": "2022-06-17T21:57:10.132Z"
   },
   {
    "duration": 13,
    "start_time": "2022-06-17T21:57:10.156Z"
   },
   {
    "duration": 14,
    "start_time": "2022-06-17T21:57:10.170Z"
   },
   {
    "duration": 7,
    "start_time": "2022-06-17T21:57:10.226Z"
   },
   {
    "duration": 10,
    "start_time": "2022-06-17T21:57:10.235Z"
   },
   {
    "duration": 101,
    "start_time": "2022-06-17T21:57:10.247Z"
   },
   {
    "duration": 1388,
    "start_time": "2022-06-17T21:57:10.349Z"
   },
   {
    "duration": 23,
    "start_time": "2022-06-17T21:57:11.739Z"
   },
   {
    "duration": 1244,
    "start_time": "2022-06-17T21:57:11.764Z"
   },
   {
    "duration": 37,
    "start_time": "2022-06-17T21:57:13.009Z"
   },
   {
    "duration": 729,
    "start_time": "2022-06-17T21:57:13.049Z"
   },
   {
    "duration": 22,
    "start_time": "2022-06-17T21:57:13.779Z"
   },
   {
    "duration": 666,
    "start_time": "2022-06-17T21:57:13.802Z"
   },
   {
    "duration": 26,
    "start_time": "2022-06-17T21:57:14.470Z"
   },
   {
    "duration": 626,
    "start_time": "2022-06-17T21:57:14.498Z"
   },
   {
    "duration": 10,
    "start_time": "2022-06-17T21:57:15.127Z"
   },
   {
    "duration": 19,
    "start_time": "2022-06-17T21:57:15.139Z"
   },
   {
    "duration": 10,
    "start_time": "2022-06-17T21:57:15.159Z"
   },
   {
    "duration": 12,
    "start_time": "2022-06-17T21:57:15.170Z"
   },
   {
    "duration": 261,
    "start_time": "2022-06-17T21:57:15.185Z"
   },
   {
    "duration": 236,
    "start_time": "2022-06-17T21:57:15.447Z"
   },
   {
    "duration": 401,
    "start_time": "2022-06-17T21:57:15.684Z"
   },
   {
    "duration": 293,
    "start_time": "2022-06-17T21:57:16.087Z"
   },
   {
    "duration": 29,
    "start_time": "2022-06-17T21:57:16.382Z"
   },
   {
    "duration": 65,
    "start_time": "2022-06-17T21:57:16.412Z"
   },
   {
    "duration": 4,
    "start_time": "2022-06-17T21:57:16.479Z"
   },
   {
    "duration": 13,
    "start_time": "2022-06-17T21:57:16.485Z"
   },
   {
    "duration": 22,
    "start_time": "2022-06-17T21:57:16.499Z"
   },
   {
    "duration": 39,
    "start_time": "2022-06-17T21:57:16.522Z"
   },
   {
    "duration": 23,
    "start_time": "2022-06-17T21:57:16.563Z"
   },
   {
    "duration": 8,
    "start_time": "2022-06-17T21:57:16.587Z"
   },
   {
    "duration": 4,
    "start_time": "2022-06-17T21:57:16.596Z"
   },
   {
    "duration": 40,
    "start_time": "2022-06-17T21:57:16.602Z"
   },
   {
    "duration": 6,
    "start_time": "2022-06-17T21:57:16.644Z"
   },
   {
    "duration": 10,
    "start_time": "2022-06-17T21:57:16.651Z"
   },
   {
    "duration": 11,
    "start_time": "2022-06-17T21:57:16.662Z"
   },
   {
    "duration": 14,
    "start_time": "2022-06-17T21:57:16.674Z"
   },
   {
    "duration": 7,
    "start_time": "2022-06-17T21:57:16.690Z"
   },
   {
    "duration": 47,
    "start_time": "2022-06-17T21:57:16.699Z"
   },
   {
    "duration": 694,
    "start_time": "2022-06-17T21:57:16.748Z"
   },
   {
    "duration": 1689,
    "start_time": "2022-06-17T21:57:17.443Z"
   },
   {
    "duration": 214317,
    "start_time": "2022-06-17T21:57:19.140Z"
   },
   {
    "duration": 0,
    "start_time": "2022-06-17T22:00:53.460Z"
   },
   {
    "duration": 0,
    "start_time": "2022-06-17T22:00:53.461Z"
   },
   {
    "duration": 0,
    "start_time": "2022-06-17T22:00:53.461Z"
   },
   {
    "duration": 0,
    "start_time": "2022-06-17T22:00:53.462Z"
   },
   {
    "duration": 42,
    "start_time": "2022-06-17T22:00:54.592Z"
   },
   {
    "duration": 44,
    "start_time": "2022-06-17T22:01:20.647Z"
   },
   {
    "duration": 7,
    "start_time": "2022-06-17T22:09:29.530Z"
   },
   {
    "duration": 12,
    "start_time": "2022-06-17T22:09:33.968Z"
   },
   {
    "duration": 18,
    "start_time": "2022-06-17T22:10:23.884Z"
   },
   {
    "duration": 14,
    "start_time": "2022-06-17T22:10:26.586Z"
   },
   {
    "duration": 1380,
    "start_time": "2022-06-17T22:10:39.573Z"
   },
   {
    "duration": 755,
    "start_time": "2022-06-17T22:10:40.956Z"
   },
   {
    "duration": 36,
    "start_time": "2022-06-17T22:10:41.713Z"
   },
   {
    "duration": 17,
    "start_time": "2022-06-17T22:10:41.752Z"
   },
   {
    "duration": 27,
    "start_time": "2022-06-17T22:10:41.770Z"
   },
   {
    "duration": 40,
    "start_time": "2022-06-17T22:10:41.799Z"
   },
   {
    "duration": 16,
    "start_time": "2022-06-17T22:10:41.842Z"
   },
   {
    "duration": 7,
    "start_time": "2022-06-17T22:10:41.859Z"
   },
   {
    "duration": 14,
    "start_time": "2022-06-17T22:10:41.868Z"
   },
   {
    "duration": 3,
    "start_time": "2022-06-17T22:10:41.885Z"
   },
   {
    "duration": 37,
    "start_time": "2022-06-17T22:10:41.890Z"
   },
   {
    "duration": 11,
    "start_time": "2022-06-17T22:10:41.929Z"
   },
   {
    "duration": 6,
    "start_time": "2022-06-17T22:10:41.942Z"
   },
   {
    "duration": 46,
    "start_time": "2022-06-17T22:10:41.951Z"
   },
   {
    "duration": 595,
    "start_time": "2022-06-17T22:10:42.000Z"
   },
   {
    "duration": 32,
    "start_time": "2022-06-17T22:10:42.597Z"
   },
   {
    "duration": 1130,
    "start_time": "2022-06-17T22:10:42.631Z"
   },
   {
    "duration": 23,
    "start_time": "2022-06-17T22:10:43.763Z"
   },
   {
    "duration": 763,
    "start_time": "2022-06-17T22:10:43.788Z"
   },
   {
    "duration": 30,
    "start_time": "2022-06-17T22:10:44.554Z"
   },
   {
    "duration": 1372,
    "start_time": "2022-06-17T22:10:44.586Z"
   },
   {
    "duration": 72,
    "start_time": "2022-06-17T22:10:45.960Z"
   },
   {
    "duration": 782,
    "start_time": "2022-06-17T22:10:46.034Z"
   },
   {
    "duration": 13,
    "start_time": "2022-06-17T22:10:46.818Z"
   },
   {
    "duration": 17,
    "start_time": "2022-06-17T22:10:46.832Z"
   },
   {
    "duration": 9,
    "start_time": "2022-06-17T22:10:46.851Z"
   },
   {
    "duration": 12,
    "start_time": "2022-06-17T22:10:46.862Z"
   },
   {
    "duration": 286,
    "start_time": "2022-06-17T22:10:46.880Z"
   },
   {
    "duration": 250,
    "start_time": "2022-06-17T22:10:47.167Z"
   },
   {
    "duration": 419,
    "start_time": "2022-06-17T22:10:47.419Z"
   },
   {
    "duration": 315,
    "start_time": "2022-06-17T22:10:47.840Z"
   },
   {
    "duration": 29,
    "start_time": "2022-06-17T22:10:48.156Z"
   },
   {
    "duration": 65,
    "start_time": "2022-06-17T22:10:48.187Z"
   },
   {
    "duration": 4,
    "start_time": "2022-06-17T22:10:48.254Z"
   },
   {
    "duration": 17,
    "start_time": "2022-06-17T22:10:48.260Z"
   },
   {
    "duration": 16,
    "start_time": "2022-06-17T22:10:48.279Z"
   },
   {
    "duration": 33,
    "start_time": "2022-06-17T22:10:48.297Z"
   },
   {
    "duration": 127,
    "start_time": "2022-06-17T22:10:48.332Z"
   },
   {
    "duration": 0,
    "start_time": "2022-06-17T22:10:48.461Z"
   },
   {
    "duration": 0,
    "start_time": "2022-06-17T22:10:48.463Z"
   },
   {
    "duration": 0,
    "start_time": "2022-06-17T22:10:48.464Z"
   },
   {
    "duration": 0,
    "start_time": "2022-06-17T22:10:48.465Z"
   },
   {
    "duration": 0,
    "start_time": "2022-06-17T22:10:48.467Z"
   },
   {
    "duration": 0,
    "start_time": "2022-06-17T22:10:48.468Z"
   },
   {
    "duration": 0,
    "start_time": "2022-06-17T22:10:48.468Z"
   },
   {
    "duration": 0,
    "start_time": "2022-06-17T22:10:48.469Z"
   },
   {
    "duration": 0,
    "start_time": "2022-06-17T22:10:48.470Z"
   },
   {
    "duration": 1,
    "start_time": "2022-06-17T22:10:48.471Z"
   },
   {
    "duration": 0,
    "start_time": "2022-06-17T22:10:48.473Z"
   },
   {
    "duration": 0,
    "start_time": "2022-06-17T22:10:48.474Z"
   },
   {
    "duration": 0,
    "start_time": "2022-06-17T22:10:48.475Z"
   },
   {
    "duration": 0,
    "start_time": "2022-06-17T22:10:48.476Z"
   },
   {
    "duration": 1327,
    "start_time": "2022-06-17T22:11:43.450Z"
   },
   {
    "duration": 721,
    "start_time": "2022-06-17T22:11:44.779Z"
   },
   {
    "duration": 38,
    "start_time": "2022-06-17T22:11:45.502Z"
   },
   {
    "duration": 17,
    "start_time": "2022-06-17T22:11:45.542Z"
   },
   {
    "duration": 24,
    "start_time": "2022-06-17T22:11:45.560Z"
   },
   {
    "duration": 12,
    "start_time": "2022-06-17T22:11:45.585Z"
   },
   {
    "duration": 40,
    "start_time": "2022-06-17T22:11:45.599Z"
   },
   {
    "duration": 6,
    "start_time": "2022-06-17T22:11:45.640Z"
   },
   {
    "duration": 12,
    "start_time": "2022-06-17T22:11:45.647Z"
   },
   {
    "duration": 3,
    "start_time": "2022-06-17T22:11:45.662Z"
   },
   {
    "duration": 8,
    "start_time": "2022-06-17T22:11:45.666Z"
   },
   {
    "duration": 7,
    "start_time": "2022-06-17T22:11:45.675Z"
   },
   {
    "duration": 7,
    "start_time": "2022-06-17T22:11:45.683Z"
   },
   {
    "duration": 73,
    "start_time": "2022-06-17T22:11:45.691Z"
   },
   {
    "duration": 983,
    "start_time": "2022-06-17T22:11:45.765Z"
   },
   {
    "duration": 77,
    "start_time": "2022-06-17T22:11:46.750Z"
   },
   {
    "duration": 1651,
    "start_time": "2022-06-17T22:11:46.829Z"
   },
   {
    "duration": 23,
    "start_time": "2022-06-17T22:11:48.482Z"
   },
   {
    "duration": 725,
    "start_time": "2022-06-17T22:11:48.507Z"
   },
   {
    "duration": 23,
    "start_time": "2022-06-17T22:11:49.234Z"
   },
   {
    "duration": 668,
    "start_time": "2022-06-17T22:11:49.259Z"
   },
   {
    "duration": 29,
    "start_time": "2022-06-17T22:11:49.929Z"
   },
   {
    "duration": 624,
    "start_time": "2022-06-17T22:11:49.960Z"
   },
   {
    "duration": 7,
    "start_time": "2022-06-17T22:11:50.586Z"
   },
   {
    "duration": 10,
    "start_time": "2022-06-17T22:11:50.594Z"
   },
   {
    "duration": 26,
    "start_time": "2022-06-17T22:11:50.606Z"
   },
   {
    "duration": 9,
    "start_time": "2022-06-17T22:11:50.633Z"
   },
   {
    "duration": 297,
    "start_time": "2022-06-17T22:11:50.645Z"
   },
   {
    "duration": 261,
    "start_time": "2022-06-17T22:11:50.944Z"
   },
   {
    "duration": 468,
    "start_time": "2022-06-17T22:11:51.208Z"
   },
   {
    "duration": 286,
    "start_time": "2022-06-17T22:11:51.678Z"
   },
   {
    "duration": 32,
    "start_time": "2022-06-17T22:11:51.966Z"
   },
   {
    "duration": 65,
    "start_time": "2022-06-17T22:11:52.000Z"
   },
   {
    "duration": 4,
    "start_time": "2022-06-17T22:11:52.067Z"
   },
   {
    "duration": 8,
    "start_time": "2022-06-17T22:11:52.073Z"
   },
   {
    "duration": 41,
    "start_time": "2022-06-17T22:11:52.082Z"
   },
   {
    "duration": 12,
    "start_time": "2022-06-17T22:11:52.125Z"
   },
   {
    "duration": 133,
    "start_time": "2022-06-17T22:11:52.140Z"
   },
   {
    "duration": 0,
    "start_time": "2022-06-17T22:11:52.276Z"
   },
   {
    "duration": 0,
    "start_time": "2022-06-17T22:11:52.277Z"
   },
   {
    "duration": 0,
    "start_time": "2022-06-17T22:11:52.279Z"
   },
   {
    "duration": 0,
    "start_time": "2022-06-17T22:11:52.280Z"
   },
   {
    "duration": 0,
    "start_time": "2022-06-17T22:11:52.281Z"
   },
   {
    "duration": 0,
    "start_time": "2022-06-17T22:11:52.283Z"
   },
   {
    "duration": 0,
    "start_time": "2022-06-17T22:11:52.284Z"
   },
   {
    "duration": 0,
    "start_time": "2022-06-17T22:11:52.285Z"
   },
   {
    "duration": 0,
    "start_time": "2022-06-17T22:11:52.293Z"
   },
   {
    "duration": 0,
    "start_time": "2022-06-17T22:11:52.295Z"
   },
   {
    "duration": 0,
    "start_time": "2022-06-17T22:11:52.297Z"
   },
   {
    "duration": 1,
    "start_time": "2022-06-17T22:11:52.326Z"
   },
   {
    "duration": 0,
    "start_time": "2022-06-17T22:11:52.328Z"
   },
   {
    "duration": 0,
    "start_time": "2022-06-17T22:11:52.330Z"
   },
   {
    "duration": 12,
    "start_time": "2022-06-17T22:13:00.743Z"
   },
   {
    "duration": 11,
    "start_time": "2022-06-17T22:13:03.595Z"
   },
   {
    "duration": 13,
    "start_time": "2022-06-17T22:13:47.981Z"
   },
   {
    "duration": 2,
    "start_time": "2022-06-17T22:14:04.444Z"
   },
   {
    "duration": 4,
    "start_time": "2022-06-17T22:14:06.535Z"
   },
   {
    "duration": 15,
    "start_time": "2022-06-17T22:14:08.876Z"
   },
   {
    "duration": 10,
    "start_time": "2022-06-17T22:15:08.753Z"
   },
   {
    "duration": 1434,
    "start_time": "2022-06-17T22:15:23.440Z"
   },
   {
    "duration": 716,
    "start_time": "2022-06-17T22:15:24.876Z"
   },
   {
    "duration": 33,
    "start_time": "2022-06-17T22:15:25.594Z"
   },
   {
    "duration": 17,
    "start_time": "2022-06-17T22:15:25.629Z"
   },
   {
    "duration": 43,
    "start_time": "2022-06-17T22:15:25.647Z"
   },
   {
    "duration": 14,
    "start_time": "2022-06-17T22:15:25.692Z"
   },
   {
    "duration": 29,
    "start_time": "2022-06-17T22:15:25.708Z"
   },
   {
    "duration": 6,
    "start_time": "2022-06-17T22:15:25.739Z"
   },
   {
    "duration": 12,
    "start_time": "2022-06-17T22:15:25.747Z"
   },
   {
    "duration": 15,
    "start_time": "2022-06-17T22:15:25.762Z"
   },
   {
    "duration": 13,
    "start_time": "2022-06-17T22:15:25.779Z"
   },
   {
    "duration": 13,
    "start_time": "2022-06-17T22:15:25.794Z"
   },
   {
    "duration": 6,
    "start_time": "2022-06-17T22:15:25.809Z"
   },
   {
    "duration": 55,
    "start_time": "2022-06-17T22:15:25.817Z"
   },
   {
    "duration": 860,
    "start_time": "2022-06-17T22:15:25.874Z"
   },
   {
    "duration": 21,
    "start_time": "2022-06-17T22:15:26.736Z"
   },
   {
    "duration": 1507,
    "start_time": "2022-06-17T22:15:26.758Z"
   },
   {
    "duration": 23,
    "start_time": "2022-06-17T22:15:28.266Z"
   },
   {
    "duration": 695,
    "start_time": "2022-06-17T22:15:28.291Z"
   },
   {
    "duration": 21,
    "start_time": "2022-06-17T22:15:28.988Z"
   },
   {
    "duration": 611,
    "start_time": "2022-06-17T22:15:29.011Z"
   },
   {
    "duration": 22,
    "start_time": "2022-06-17T22:15:29.626Z"
   },
   {
    "duration": 582,
    "start_time": "2022-06-17T22:15:29.650Z"
   },
   {
    "duration": 8,
    "start_time": "2022-06-17T22:15:30.234Z"
   },
   {
    "duration": 33,
    "start_time": "2022-06-17T22:15:30.243Z"
   },
   {
    "duration": 9,
    "start_time": "2022-06-17T22:15:30.278Z"
   },
   {
    "duration": 11,
    "start_time": "2022-06-17T22:15:30.289Z"
   },
   {
    "duration": 243,
    "start_time": "2022-06-17T22:15:30.305Z"
   },
   {
    "duration": 249,
    "start_time": "2022-06-17T22:15:30.550Z"
   },
   {
    "duration": 393,
    "start_time": "2022-06-17T22:15:30.801Z"
   },
   {
    "duration": 301,
    "start_time": "2022-06-17T22:15:31.197Z"
   },
   {
    "duration": 42,
    "start_time": "2022-06-17T22:15:31.500Z"
   },
   {
    "duration": 52,
    "start_time": "2022-06-17T22:15:31.545Z"
   },
   {
    "duration": 16,
    "start_time": "2022-06-17T22:15:31.598Z"
   },
   {
    "duration": 20,
    "start_time": "2022-06-17T22:15:31.616Z"
   },
   {
    "duration": 20,
    "start_time": "2022-06-17T22:15:31.638Z"
   },
   {
    "duration": 3,
    "start_time": "2022-06-17T22:15:31.660Z"
   },
   {
    "duration": 13,
    "start_time": "2022-06-17T22:15:31.664Z"
   },
   {
    "duration": 55,
    "start_time": "2022-06-17T22:15:31.678Z"
   },
   {
    "duration": 6,
    "start_time": "2022-06-17T22:15:31.734Z"
   },
   {
    "duration": 16,
    "start_time": "2022-06-17T22:15:31.742Z"
   },
   {
    "duration": 31,
    "start_time": "2022-06-17T22:15:31.760Z"
   },
   {
    "duration": 39,
    "start_time": "2022-06-17T22:15:31.793Z"
   },
   {
    "duration": 8,
    "start_time": "2022-06-17T22:15:31.834Z"
   },
   {
    "duration": 178,
    "start_time": "2022-06-17T22:15:31.845Z"
   },
   {
    "duration": 1,
    "start_time": "2022-06-17T22:15:32.025Z"
   },
   {
    "duration": 0,
    "start_time": "2022-06-17T22:15:32.027Z"
   },
   {
    "duration": 0,
    "start_time": "2022-06-17T22:15:32.028Z"
   },
   {
    "duration": 0,
    "start_time": "2022-06-17T22:15:32.030Z"
   },
   {
    "duration": 0,
    "start_time": "2022-06-17T22:15:32.031Z"
   },
   {
    "duration": 0,
    "start_time": "2022-06-17T22:15:32.032Z"
   },
   {
    "duration": 14,
    "start_time": "2022-06-17T22:17:49.289Z"
   },
   {
    "duration": 2,
    "start_time": "2022-06-17T22:17:52.031Z"
   },
   {
    "duration": 4,
    "start_time": "2022-06-17T22:17:54.989Z"
   },
   {
    "duration": 31,
    "start_time": "2022-06-17T22:17:55.994Z"
   },
   {
    "duration": 11,
    "start_time": "2022-06-17T22:20:20.843Z"
   },
   {
    "duration": 5,
    "start_time": "2022-06-17T22:20:25.841Z"
   },
   {
    "duration": 8,
    "start_time": "2022-06-17T22:20:26.821Z"
   },
   {
    "duration": 35,
    "start_time": "2022-06-17T22:20:35.733Z"
   },
   {
    "duration": 36,
    "start_time": "2022-06-17T22:25:27.875Z"
   },
   {
    "duration": 1222,
    "start_time": "2022-06-17T22:27:58.681Z"
   },
   {
    "duration": 707,
    "start_time": "2022-06-17T22:27:59.905Z"
   },
   {
    "duration": 36,
    "start_time": "2022-06-17T22:28:00.614Z"
   },
   {
    "duration": 19,
    "start_time": "2022-06-17T22:28:00.653Z"
   },
   {
    "duration": 52,
    "start_time": "2022-06-17T22:28:00.674Z"
   },
   {
    "duration": 13,
    "start_time": "2022-06-17T22:28:00.728Z"
   },
   {
    "duration": 25,
    "start_time": "2022-06-17T22:28:00.742Z"
   },
   {
    "duration": 5,
    "start_time": "2022-06-17T22:28:00.768Z"
   },
   {
    "duration": 41,
    "start_time": "2022-06-17T22:28:00.775Z"
   },
   {
    "duration": 22,
    "start_time": "2022-06-17T22:28:00.818Z"
   },
   {
    "duration": 35,
    "start_time": "2022-06-17T22:28:00.842Z"
   },
   {
    "duration": 8,
    "start_time": "2022-06-17T22:28:00.879Z"
   },
   {
    "duration": 10,
    "start_time": "2022-06-17T22:28:00.888Z"
   },
   {
    "duration": 44,
    "start_time": "2022-06-17T22:28:00.899Z"
   },
   {
    "duration": 524,
    "start_time": "2022-06-17T22:28:00.945Z"
   },
   {
    "duration": 23,
    "start_time": "2022-06-17T22:28:01.471Z"
   },
   {
    "duration": 1031,
    "start_time": "2022-06-17T22:28:01.496Z"
   },
   {
    "duration": 22,
    "start_time": "2022-06-17T22:28:02.529Z"
   },
   {
    "duration": 692,
    "start_time": "2022-06-17T22:28:02.552Z"
   },
   {
    "duration": 23,
    "start_time": "2022-06-17T22:28:03.246Z"
   },
   {
    "duration": 1071,
    "start_time": "2022-06-17T22:28:03.271Z"
   },
   {
    "duration": 22,
    "start_time": "2022-06-17T22:28:04.344Z"
   },
   {
    "duration": 1040,
    "start_time": "2022-06-17T22:28:04.367Z"
   },
   {
    "duration": 7,
    "start_time": "2022-06-17T22:28:05.410Z"
   },
   {
    "duration": 9,
    "start_time": "2022-06-17T22:28:05.425Z"
   },
   {
    "duration": 9,
    "start_time": "2022-06-17T22:28:05.435Z"
   },
   {
    "duration": 11,
    "start_time": "2022-06-17T22:28:05.445Z"
   },
   {
    "duration": 246,
    "start_time": "2022-06-17T22:28:05.459Z"
   },
   {
    "duration": 245,
    "start_time": "2022-06-17T22:28:05.707Z"
   },
   {
    "duration": 357,
    "start_time": "2022-06-17T22:28:05.954Z"
   },
   {
    "duration": 272,
    "start_time": "2022-06-17T22:28:06.312Z"
   },
   {
    "duration": 29,
    "start_time": "2022-06-17T22:28:06.586Z"
   },
   {
    "duration": 48,
    "start_time": "2022-06-17T22:28:06.626Z"
   },
   {
    "duration": 5,
    "start_time": "2022-06-17T22:28:06.676Z"
   },
   {
    "duration": 9,
    "start_time": "2022-06-17T22:28:06.682Z"
   },
   {
    "duration": 58,
    "start_time": "2022-06-17T22:28:06.692Z"
   },
   {
    "duration": 3,
    "start_time": "2022-06-17T22:28:06.751Z"
   },
   {
    "duration": 17,
    "start_time": "2022-06-17T22:28:06.756Z"
   },
   {
    "duration": 39,
    "start_time": "2022-06-17T22:28:06.774Z"
   },
   {
    "duration": 112,
    "start_time": "2022-06-17T22:28:06.814Z"
   },
   {
    "duration": 0,
    "start_time": "2022-06-17T22:28:06.927Z"
   },
   {
    "duration": 0,
    "start_time": "2022-06-17T22:28:06.929Z"
   },
   {
    "duration": 0,
    "start_time": "2022-06-17T22:28:06.929Z"
   },
   {
    "duration": 0,
    "start_time": "2022-06-17T22:28:06.930Z"
   },
   {
    "duration": 0,
    "start_time": "2022-06-17T22:28:06.931Z"
   },
   {
    "duration": 0,
    "start_time": "2022-06-17T22:28:06.932Z"
   },
   {
    "duration": 0,
    "start_time": "2022-06-17T22:28:06.933Z"
   },
   {
    "duration": 0,
    "start_time": "2022-06-17T22:28:06.935Z"
   },
   {
    "duration": 0,
    "start_time": "2022-06-17T22:28:06.936Z"
   },
   {
    "duration": 0,
    "start_time": "2022-06-17T22:28:06.936Z"
   },
   {
    "duration": 0,
    "start_time": "2022-06-17T22:28:06.938Z"
   },
   {
    "duration": 9,
    "start_time": "2022-06-17T22:29:13.120Z"
   },
   {
    "duration": 6,
    "start_time": "2022-06-17T22:29:16.489Z"
   },
   {
    "duration": 8,
    "start_time": "2022-06-17T22:29:18.593Z"
   },
   {
    "duration": 8,
    "start_time": "2022-06-17T22:29:22.563Z"
   },
   {
    "duration": 8,
    "start_time": "2022-06-17T22:29:25.226Z"
   },
   {
    "duration": 21,
    "start_time": "2022-06-17T22:29:27.619Z"
   },
   {
    "duration": 664,
    "start_time": "2022-06-17T22:29:28.669Z"
   },
   {
    "duration": 984,
    "start_time": "2022-06-17T22:29:36.522Z"
   },
   {
    "duration": 1580,
    "start_time": "2022-06-17T22:29:52.849Z"
   },
   {
    "duration": 671,
    "start_time": "2022-06-17T22:29:59.644Z"
   },
   {
    "duration": 1540,
    "start_time": "2022-06-17T22:30:01.787Z"
   },
   {
    "duration": 1186,
    "start_time": "2022-06-17T22:30:20.420Z"
   },
   {
    "duration": 124,
    "start_time": "2022-06-17T22:37:54.110Z"
   },
   {
    "duration": 4,
    "start_time": "2022-06-17T22:38:02.130Z"
   },
   {
    "duration": 203,
    "start_time": "2022-06-17T22:38:17.636Z"
   },
   {
    "duration": 14,
    "start_time": "2022-06-17T22:51:35.273Z"
   },
   {
    "duration": 9,
    "start_time": "2022-06-17T22:52:06.338Z"
   },
   {
    "duration": 4,
    "start_time": "2022-06-17T22:55:08.394Z"
   },
   {
    "duration": 11,
    "start_time": "2022-06-17T22:55:30.569Z"
   },
   {
    "duration": 11,
    "start_time": "2022-06-17T22:55:42.168Z"
   },
   {
    "duration": 11,
    "start_time": "2022-06-17T22:56:02.485Z"
   },
   {
    "duration": 20,
    "start_time": "2022-06-17T22:56:24.238Z"
   },
   {
    "duration": 12,
    "start_time": "2022-06-17T22:57:25.643Z"
   },
   {
    "duration": 15,
    "start_time": "2022-06-17T22:59:03.623Z"
   },
   {
    "duration": 13,
    "start_time": "2022-06-17T22:59:14.270Z"
   },
   {
    "duration": 14,
    "start_time": "2022-06-17T23:01:42.062Z"
   },
   {
    "duration": 13,
    "start_time": "2022-06-17T23:02:02.888Z"
   },
   {
    "duration": 14,
    "start_time": "2022-06-17T23:04:36.964Z"
   },
   {
    "duration": 1384,
    "start_time": "2022-06-17T23:05:19.321Z"
   },
   {
    "duration": 705,
    "start_time": "2022-06-17T23:05:20.706Z"
   },
   {
    "duration": 36,
    "start_time": "2022-06-17T23:05:21.412Z"
   },
   {
    "duration": 16,
    "start_time": "2022-06-17T23:05:21.450Z"
   },
   {
    "duration": 27,
    "start_time": "2022-06-17T23:05:21.468Z"
   },
   {
    "duration": 40,
    "start_time": "2022-06-17T23:05:21.497Z"
   },
   {
    "duration": 20,
    "start_time": "2022-06-17T23:05:21.540Z"
   },
   {
    "duration": 7,
    "start_time": "2022-06-17T23:05:21.563Z"
   },
   {
    "duration": 11,
    "start_time": "2022-06-17T23:05:21.572Z"
   },
   {
    "duration": 46,
    "start_time": "2022-06-17T23:05:21.586Z"
   },
   {
    "duration": 12,
    "start_time": "2022-06-17T23:05:21.633Z"
   },
   {
    "duration": 12,
    "start_time": "2022-06-17T23:05:21.647Z"
   },
   {
    "duration": 4,
    "start_time": "2022-06-17T23:05:21.660Z"
   },
   {
    "duration": 81,
    "start_time": "2022-06-17T23:05:21.666Z"
   },
   {
    "duration": 598,
    "start_time": "2022-06-17T23:05:21.749Z"
   },
   {
    "duration": 22,
    "start_time": "2022-06-17T23:05:22.348Z"
   },
   {
    "duration": 1024,
    "start_time": "2022-06-17T23:05:22.372Z"
   },
   {
    "duration": 31,
    "start_time": "2022-06-17T23:05:23.398Z"
   },
   {
    "duration": 643,
    "start_time": "2022-06-17T23:05:23.431Z"
   },
   {
    "duration": 22,
    "start_time": "2022-06-17T23:05:24.076Z"
   },
   {
    "duration": 653,
    "start_time": "2022-06-17T23:05:24.099Z"
   },
   {
    "duration": 22,
    "start_time": "2022-06-17T23:05:24.754Z"
   },
   {
    "duration": 561,
    "start_time": "2022-06-17T23:05:24.777Z"
   },
   {
    "duration": 7,
    "start_time": "2022-06-17T23:05:25.339Z"
   },
   {
    "duration": 27,
    "start_time": "2022-06-17T23:05:25.348Z"
   },
   {
    "duration": 20,
    "start_time": "2022-06-17T23:05:25.377Z"
   },
   {
    "duration": 15,
    "start_time": "2022-06-17T23:05:25.399Z"
   },
   {
    "duration": 239,
    "start_time": "2022-06-17T23:05:25.417Z"
   },
   {
    "duration": 239,
    "start_time": "2022-06-17T23:05:25.659Z"
   },
   {
    "duration": 373,
    "start_time": "2022-06-17T23:05:25.901Z"
   },
   {
    "duration": 250,
    "start_time": "2022-06-17T23:05:26.276Z"
   },
   {
    "duration": 28,
    "start_time": "2022-06-17T23:05:26.527Z"
   },
   {
    "duration": 48,
    "start_time": "2022-06-17T23:05:26.557Z"
   },
   {
    "duration": 22,
    "start_time": "2022-06-17T23:05:26.607Z"
   },
   {
    "duration": 13,
    "start_time": "2022-06-17T23:05:26.631Z"
   },
   {
    "duration": 46,
    "start_time": "2022-06-17T23:05:26.645Z"
   },
   {
    "duration": 2,
    "start_time": "2022-06-17T23:05:26.693Z"
   },
   {
    "duration": 15,
    "start_time": "2022-06-17T23:05:26.697Z"
   },
   {
    "duration": 51,
    "start_time": "2022-06-17T23:05:26.713Z"
   },
   {
    "duration": 8,
    "start_time": "2022-06-17T23:05:26.766Z"
   },
   {
    "duration": 13,
    "start_time": "2022-06-17T23:05:26.775Z"
   },
   {
    "duration": 9,
    "start_time": "2022-06-17T23:05:26.790Z"
   },
   {
    "duration": 19,
    "start_time": "2022-06-17T23:05:26.800Z"
   },
   {
    "duration": 21,
    "start_time": "2022-06-17T23:05:26.826Z"
   },
   {
    "duration": 32,
    "start_time": "2022-06-17T23:05:26.849Z"
   },
   {
    "duration": 677,
    "start_time": "2022-06-17T23:05:26.883Z"
   },
   {
    "duration": 1766,
    "start_time": "2022-06-17T23:05:27.562Z"
   },
   {
    "duration": 1270,
    "start_time": "2022-06-17T23:05:29.333Z"
   },
   {
    "duration": 11,
    "start_time": "2022-06-17T23:05:30.606Z"
   },
   {
    "duration": 137,
    "start_time": "2022-06-17T23:05:30.627Z"
   },
   {
    "duration": 0,
    "start_time": "2022-06-17T23:05:30.765Z"
   },
   {
    "duration": 24,
    "start_time": "2022-06-17T23:05:59.601Z"
   },
   {
    "duration": 15,
    "start_time": "2022-06-17T23:06:48.119Z"
   },
   {
    "duration": 1262,
    "start_time": "2022-06-17T23:06:58.526Z"
   },
   {
    "duration": 701,
    "start_time": "2022-06-17T23:06:59.789Z"
   },
   {
    "duration": 37,
    "start_time": "2022-06-17T23:07:00.492Z"
   },
   {
    "duration": 17,
    "start_time": "2022-06-17T23:07:00.531Z"
   },
   {
    "duration": 26,
    "start_time": "2022-06-17T23:07:00.549Z"
   },
   {
    "duration": 12,
    "start_time": "2022-06-17T23:07:00.576Z"
   },
   {
    "duration": 43,
    "start_time": "2022-06-17T23:07:00.589Z"
   },
   {
    "duration": 5,
    "start_time": "2022-06-17T23:07:00.634Z"
   },
   {
    "duration": 21,
    "start_time": "2022-06-17T23:07:00.641Z"
   },
   {
    "duration": 7,
    "start_time": "2022-06-17T23:07:00.665Z"
   },
   {
    "duration": 15,
    "start_time": "2022-06-17T23:07:00.673Z"
   },
   {
    "duration": 16,
    "start_time": "2022-06-17T23:07:00.689Z"
   },
   {
    "duration": 8,
    "start_time": "2022-06-17T23:07:00.706Z"
   },
   {
    "duration": 75,
    "start_time": "2022-06-17T23:07:00.715Z"
   },
   {
    "duration": 506,
    "start_time": "2022-06-17T23:07:00.792Z"
   },
   {
    "duration": 33,
    "start_time": "2022-06-17T23:07:01.300Z"
   },
   {
    "duration": 993,
    "start_time": "2022-06-17T23:07:01.335Z"
   },
   {
    "duration": 21,
    "start_time": "2022-06-17T23:07:02.330Z"
   },
   {
    "duration": 1384,
    "start_time": "2022-06-17T23:07:02.354Z"
   },
   {
    "duration": 22,
    "start_time": "2022-06-17T23:07:03.739Z"
   },
   {
    "duration": 806,
    "start_time": "2022-06-17T23:07:03.763Z"
   },
   {
    "duration": 21,
    "start_time": "2022-06-17T23:07:04.570Z"
   },
   {
    "duration": 556,
    "start_time": "2022-06-17T23:07:04.593Z"
   },
   {
    "duration": 7,
    "start_time": "2022-06-17T23:07:05.150Z"
   },
   {
    "duration": 11,
    "start_time": "2022-06-17T23:07:05.158Z"
   },
   {
    "duration": 7,
    "start_time": "2022-06-17T23:07:05.171Z"
   },
   {
    "duration": 10,
    "start_time": "2022-06-17T23:07:05.179Z"
   },
   {
    "duration": 240,
    "start_time": "2022-06-17T23:07:05.192Z"
   },
   {
    "duration": 238,
    "start_time": "2022-06-17T23:07:05.434Z"
   },
   {
    "duration": 404,
    "start_time": "2022-06-17T23:07:05.673Z"
   },
   {
    "duration": 252,
    "start_time": "2022-06-17T23:07:06.079Z"
   },
   {
    "duration": 29,
    "start_time": "2022-06-17T23:07:06.332Z"
   },
   {
    "duration": 63,
    "start_time": "2022-06-17T23:07:06.363Z"
   },
   {
    "duration": 5,
    "start_time": "2022-06-17T23:07:06.428Z"
   },
   {
    "duration": 7,
    "start_time": "2022-06-17T23:07:06.434Z"
   },
   {
    "duration": 43,
    "start_time": "2022-06-17T23:07:06.443Z"
   },
   {
    "duration": 17,
    "start_time": "2022-06-17T23:07:06.488Z"
   },
   {
    "duration": 8,
    "start_time": "2022-06-17T23:07:06.507Z"
   },
   {
    "duration": 41,
    "start_time": "2022-06-17T23:07:06.526Z"
   },
   {
    "duration": 8,
    "start_time": "2022-06-17T23:07:06.569Z"
   },
   {
    "duration": 11,
    "start_time": "2022-06-17T23:07:06.578Z"
   },
   {
    "duration": 10,
    "start_time": "2022-06-17T23:07:06.590Z"
   },
   {
    "duration": 31,
    "start_time": "2022-06-17T23:07:06.602Z"
   },
   {
    "duration": 11,
    "start_time": "2022-06-17T23:07:06.634Z"
   },
   {
    "duration": 26,
    "start_time": "2022-06-17T23:07:06.646Z"
   },
   {
    "duration": 673,
    "start_time": "2022-06-17T23:07:06.673Z"
   },
   {
    "duration": 1483,
    "start_time": "2022-06-17T23:07:07.348Z"
   },
   {
    "duration": 1281,
    "start_time": "2022-06-17T23:07:08.833Z"
   },
   {
    "duration": 15,
    "start_time": "2022-06-17T23:07:10.116Z"
   },
   {
    "duration": 111,
    "start_time": "2022-06-17T23:07:10.132Z"
   },
   {
    "duration": 361,
    "start_time": "2022-06-17T23:15:42.230Z"
   },
   {
    "duration": 983,
    "start_time": "2022-06-17T23:15:47.527Z"
   },
   {
    "duration": 1207,
    "start_time": "2022-06-17T23:15:54.830Z"
   },
   {
    "duration": 662,
    "start_time": "2022-06-17T23:16:01.576Z"
   },
   {
    "duration": 1507,
    "start_time": "2022-06-17T23:16:07.159Z"
   },
   {
    "duration": 1776,
    "start_time": "2022-06-17T23:16:12.998Z"
   },
   {
    "duration": 2000,
    "start_time": "2022-06-17T23:16:19.618Z"
   },
   {
    "duration": 2220,
    "start_time": "2022-06-17T23:16:26.491Z"
   },
   {
    "duration": 1316,
    "start_time": "2022-06-17T23:16:33.552Z"
   },
   {
    "duration": 1456,
    "start_time": "2022-06-17T23:16:45.070Z"
   },
   {
    "duration": 210740,
    "start_time": "2022-06-17T23:17:01.354Z"
   },
   {
    "duration": 30,
    "start_time": "2022-06-17T23:20:40.626Z"
   },
   {
    "duration": 19,
    "start_time": "2022-06-17T23:20:55.472Z"
   },
   {
    "duration": 42,
    "start_time": "2022-06-17T23:31:39.305Z"
   },
   {
    "duration": 241,
    "start_time": "2022-06-17T23:33:14.237Z"
   },
   {
    "duration": 232,
    "start_time": "2022-06-17T23:33:24.713Z"
   },
   {
    "duration": 26,
    "start_time": "2022-06-17T23:33:31.764Z"
   },
   {
    "duration": 31,
    "start_time": "2022-06-17T23:33:38.902Z"
   },
   {
    "duration": 314,
    "start_time": "2022-06-17T23:35:13.968Z"
   },
   {
    "duration": 228,
    "start_time": "2022-06-17T23:35:36.809Z"
   },
   {
    "duration": 25,
    "start_time": "2022-06-17T23:35:59.978Z"
   },
   {
    "duration": 4,
    "start_time": "2022-06-17T23:36:47.720Z"
   },
   {
    "duration": 4,
    "start_time": "2022-06-17T23:38:01.933Z"
   },
   {
    "duration": 21,
    "start_time": "2022-06-17T23:38:33.860Z"
   },
   {
    "duration": 9,
    "start_time": "2022-06-17T23:38:41.883Z"
   },
   {
    "duration": 1349,
    "start_time": "2022-06-17T23:39:00.466Z"
   },
   {
    "duration": 708,
    "start_time": "2022-06-17T23:39:01.817Z"
   },
   {
    "duration": 30,
    "start_time": "2022-06-17T23:39:02.527Z"
   },
   {
    "duration": 16,
    "start_time": "2022-06-17T23:39:02.560Z"
   },
   {
    "duration": 31,
    "start_time": "2022-06-17T23:39:02.577Z"
   },
   {
    "duration": 26,
    "start_time": "2022-06-17T23:39:02.610Z"
   },
   {
    "duration": 24,
    "start_time": "2022-06-17T23:39:02.638Z"
   },
   {
    "duration": 6,
    "start_time": "2022-06-17T23:39:02.663Z"
   },
   {
    "duration": 13,
    "start_time": "2022-06-17T23:39:02.670Z"
   },
   {
    "duration": 17,
    "start_time": "2022-06-17T23:39:02.685Z"
   },
   {
    "duration": 16,
    "start_time": "2022-06-17T23:39:02.703Z"
   },
   {
    "duration": 9,
    "start_time": "2022-06-17T23:39:02.721Z"
   },
   {
    "duration": 9,
    "start_time": "2022-06-17T23:39:02.731Z"
   },
   {
    "duration": 48,
    "start_time": "2022-06-17T23:39:02.742Z"
   },
   {
    "duration": 533,
    "start_time": "2022-06-17T23:39:02.792Z"
   },
   {
    "duration": 23,
    "start_time": "2022-06-17T23:39:03.327Z"
   },
   {
    "duration": 1890,
    "start_time": "2022-06-17T23:39:03.352Z"
   },
   {
    "duration": 23,
    "start_time": "2022-06-17T23:39:05.243Z"
   },
   {
    "duration": 794,
    "start_time": "2022-06-17T23:39:05.268Z"
   },
   {
    "duration": 21,
    "start_time": "2022-06-17T23:39:06.063Z"
   },
   {
    "duration": 634,
    "start_time": "2022-06-17T23:39:06.085Z"
   },
   {
    "duration": 22,
    "start_time": "2022-06-17T23:39:06.725Z"
   },
   {
    "duration": 550,
    "start_time": "2022-06-17T23:39:06.749Z"
   },
   {
    "duration": 6,
    "start_time": "2022-06-17T23:39:07.301Z"
   },
   {
    "duration": 26,
    "start_time": "2022-06-17T23:39:07.309Z"
   },
   {
    "duration": 24,
    "start_time": "2022-06-17T23:39:07.337Z"
   },
   {
    "duration": 11,
    "start_time": "2022-06-17T23:39:07.362Z"
   },
   {
    "duration": 210,
    "start_time": "2022-06-17T23:39:07.376Z"
   },
   {
    "duration": 230,
    "start_time": "2022-06-17T23:39:07.587Z"
   },
   {
    "duration": 353,
    "start_time": "2022-06-17T23:39:07.819Z"
   },
   {
    "duration": 252,
    "start_time": "2022-06-17T23:39:08.174Z"
   },
   {
    "duration": 30,
    "start_time": "2022-06-17T23:39:08.428Z"
   },
   {
    "duration": 2,
    "start_time": "2022-06-17T23:39:08.460Z"
   },
   {
    "duration": 6,
    "start_time": "2022-06-17T23:39:08.464Z"
   },
   {
    "duration": 8,
    "start_time": "2022-06-17T23:39:08.471Z"
   },
   {
    "duration": 53,
    "start_time": "2022-06-17T23:39:08.481Z"
   },
   {
    "duration": 3,
    "start_time": "2022-06-17T23:39:08.536Z"
   },
   {
    "duration": 47,
    "start_time": "2022-06-17T23:39:08.541Z"
   },
   {
    "duration": 9,
    "start_time": "2022-06-17T23:39:08.590Z"
   },
   {
    "duration": 26,
    "start_time": "2022-06-17T23:39:08.601Z"
   },
   {
    "duration": 8,
    "start_time": "2022-06-17T23:39:08.629Z"
   },
   {
    "duration": 13,
    "start_time": "2022-06-17T23:39:08.639Z"
   },
   {
    "duration": 8,
    "start_time": "2022-06-17T23:39:08.654Z"
   },
   {
    "duration": 25,
    "start_time": "2022-06-17T23:39:08.664Z"
   },
   {
    "duration": 1246,
    "start_time": "2022-06-17T23:39:08.690Z"
   },
   {
    "duration": 1589,
    "start_time": "2022-06-17T23:39:09.937Z"
   },
   {
    "duration": 30734,
    "start_time": "2022-06-17T23:39:11.528Z"
   },
   {
    "duration": 0,
    "start_time": "2022-06-17T23:39:42.264Z"
   },
   {
    "duration": 0,
    "start_time": "2022-06-17T23:39:42.265Z"
   },
   {
    "duration": 0,
    "start_time": "2022-06-17T23:39:42.266Z"
   },
   {
    "duration": 0,
    "start_time": "2022-06-17T23:39:42.268Z"
   },
   {
    "duration": 0,
    "start_time": "2022-06-17T23:39:42.269Z"
   },
   {
    "duration": 1310,
    "start_time": "2022-06-17T23:40:04.990Z"
   },
   {
    "duration": 711,
    "start_time": "2022-06-17T23:40:06.302Z"
   },
   {
    "duration": 31,
    "start_time": "2022-06-17T23:40:07.015Z"
   },
   {
    "duration": 17,
    "start_time": "2022-06-17T23:40:07.048Z"
   },
   {
    "duration": 25,
    "start_time": "2022-06-17T23:40:07.067Z"
   },
   {
    "duration": 39,
    "start_time": "2022-06-17T23:40:07.094Z"
   },
   {
    "duration": 14,
    "start_time": "2022-06-17T23:40:07.135Z"
   },
   {
    "duration": 20,
    "start_time": "2022-06-17T23:40:07.150Z"
   },
   {
    "duration": 23,
    "start_time": "2022-06-17T23:40:07.172Z"
   },
   {
    "duration": 3,
    "start_time": "2022-06-17T23:40:07.197Z"
   },
   {
    "duration": 7,
    "start_time": "2022-06-17T23:40:07.202Z"
   },
   {
    "duration": 7,
    "start_time": "2022-06-17T23:40:07.210Z"
   },
   {
    "duration": 9,
    "start_time": "2022-06-17T23:40:07.219Z"
   },
   {
    "duration": 43,
    "start_time": "2022-06-17T23:40:07.229Z"
   },
   {
    "duration": 476,
    "start_time": "2022-06-17T23:40:07.274Z"
   },
   {
    "duration": 22,
    "start_time": "2022-06-17T23:40:07.752Z"
   },
   {
    "duration": 992,
    "start_time": "2022-06-17T23:40:07.775Z"
   },
   {
    "duration": 22,
    "start_time": "2022-06-17T23:40:08.768Z"
   },
   {
    "duration": 943,
    "start_time": "2022-06-17T23:40:08.791Z"
   },
   {
    "duration": 21,
    "start_time": "2022-06-17T23:40:09.736Z"
   },
   {
    "duration": 1103,
    "start_time": "2022-06-17T23:40:09.758Z"
   },
   {
    "duration": 21,
    "start_time": "2022-06-17T23:40:10.862Z"
   },
   {
    "duration": 560,
    "start_time": "2022-06-17T23:40:10.885Z"
   },
   {
    "duration": 7,
    "start_time": "2022-06-17T23:40:11.446Z"
   },
   {
    "duration": 11,
    "start_time": "2022-06-17T23:40:11.455Z"
   },
   {
    "duration": 7,
    "start_time": "2022-06-17T23:40:11.468Z"
   },
   {
    "duration": 8,
    "start_time": "2022-06-17T23:40:11.477Z"
   },
   {
    "duration": 261,
    "start_time": "2022-06-17T23:40:11.490Z"
   },
   {
    "duration": 234,
    "start_time": "2022-06-17T23:40:11.753Z"
   },
   {
    "duration": 345,
    "start_time": "2022-06-17T23:40:11.989Z"
   },
   {
    "duration": 243,
    "start_time": "2022-06-17T23:40:12.336Z"
   },
   {
    "duration": 17,
    "start_time": "2022-06-17T23:40:12.581Z"
   },
   {
    "duration": 49,
    "start_time": "2022-06-17T23:40:12.600Z"
   },
   {
    "duration": 113,
    "start_time": "2022-06-17T23:40:12.650Z"
   },
   {
    "duration": 0,
    "start_time": "2022-06-17T23:40:12.766Z"
   },
   {
    "duration": 0,
    "start_time": "2022-06-17T23:40:12.768Z"
   },
   {
    "duration": 0,
    "start_time": "2022-06-17T23:40:12.769Z"
   },
   {
    "duration": 0,
    "start_time": "2022-06-17T23:40:12.770Z"
   },
   {
    "duration": 0,
    "start_time": "2022-06-17T23:40:12.772Z"
   },
   {
    "duration": 0,
    "start_time": "2022-06-17T23:40:12.773Z"
   },
   {
    "duration": 0,
    "start_time": "2022-06-17T23:40:12.774Z"
   },
   {
    "duration": 0,
    "start_time": "2022-06-17T23:40:12.775Z"
   },
   {
    "duration": 0,
    "start_time": "2022-06-17T23:40:12.777Z"
   },
   {
    "duration": 0,
    "start_time": "2022-06-17T23:40:12.778Z"
   },
   {
    "duration": 0,
    "start_time": "2022-06-17T23:40:12.780Z"
   },
   {
    "duration": 0,
    "start_time": "2022-06-17T23:40:12.781Z"
   },
   {
    "duration": 0,
    "start_time": "2022-06-17T23:40:12.782Z"
   },
   {
    "duration": 0,
    "start_time": "2022-06-17T23:40:12.784Z"
   },
   {
    "duration": 0,
    "start_time": "2022-06-17T23:40:12.785Z"
   },
   {
    "duration": 0,
    "start_time": "2022-06-17T23:40:12.787Z"
   },
   {
    "duration": 0,
    "start_time": "2022-06-17T23:40:12.788Z"
   },
   {
    "duration": 0,
    "start_time": "2022-06-17T23:40:12.827Z"
   },
   {
    "duration": 3,
    "start_time": "2022-06-17T23:40:35.582Z"
   },
   {
    "duration": 9,
    "start_time": "2022-06-17T23:41:06.013Z"
   },
   {
    "duration": 12,
    "start_time": "2022-06-17T23:41:14.360Z"
   },
   {
    "duration": 10,
    "start_time": "2022-06-17T23:41:32.674Z"
   },
   {
    "duration": 4,
    "start_time": "2022-06-17T23:41:52.510Z"
   },
   {
    "duration": 21,
    "start_time": "2022-06-17T23:42:12.350Z"
   },
   {
    "duration": 14,
    "start_time": "2022-06-17T23:42:34.233Z"
   },
   {
    "duration": 1359,
    "start_time": "2022-06-17T23:44:12.842Z"
   },
   {
    "duration": 728,
    "start_time": "2022-06-17T23:44:14.203Z"
   },
   {
    "duration": 35,
    "start_time": "2022-06-17T23:44:14.933Z"
   },
   {
    "duration": 57,
    "start_time": "2022-06-17T23:44:14.970Z"
   },
   {
    "duration": 28,
    "start_time": "2022-06-17T23:44:15.029Z"
   },
   {
    "duration": 75,
    "start_time": "2022-06-17T23:44:15.059Z"
   },
   {
    "duration": 20,
    "start_time": "2022-06-17T23:44:15.136Z"
   },
   {
    "duration": 6,
    "start_time": "2022-06-17T23:44:15.158Z"
   },
   {
    "duration": 69,
    "start_time": "2022-06-17T23:44:15.166Z"
   },
   {
    "duration": 4,
    "start_time": "2022-06-17T23:44:15.237Z"
   },
   {
    "duration": 19,
    "start_time": "2022-06-17T23:44:15.242Z"
   },
   {
    "duration": 11,
    "start_time": "2022-06-17T23:44:15.262Z"
   },
   {
    "duration": 5,
    "start_time": "2022-06-17T23:44:15.274Z"
   },
   {
    "duration": 89,
    "start_time": "2022-06-17T23:44:15.280Z"
   },
   {
    "duration": 1056,
    "start_time": "2022-06-17T23:44:15.370Z"
   },
   {
    "duration": 21,
    "start_time": "2022-06-17T23:44:16.428Z"
   },
   {
    "duration": 1111,
    "start_time": "2022-06-17T23:44:16.451Z"
   },
   {
    "duration": 21,
    "start_time": "2022-06-17T23:44:17.564Z"
   },
   {
    "duration": 631,
    "start_time": "2022-06-17T23:44:17.587Z"
   },
   {
    "duration": 22,
    "start_time": "2022-06-17T23:44:18.220Z"
   },
   {
    "duration": 574,
    "start_time": "2022-06-17T23:44:18.243Z"
   },
   {
    "duration": 25,
    "start_time": "2022-06-17T23:44:18.819Z"
   },
   {
    "duration": 547,
    "start_time": "2022-06-17T23:44:18.845Z"
   },
   {
    "duration": 7,
    "start_time": "2022-06-17T23:44:19.394Z"
   },
   {
    "duration": 28,
    "start_time": "2022-06-17T23:44:19.402Z"
   },
   {
    "duration": 13,
    "start_time": "2022-06-17T23:44:19.431Z"
   },
   {
    "duration": 26,
    "start_time": "2022-06-17T23:44:19.446Z"
   },
   {
    "duration": 225,
    "start_time": "2022-06-17T23:44:19.476Z"
   },
   {
    "duration": 232,
    "start_time": "2022-06-17T23:44:19.702Z"
   },
   {
    "duration": 369,
    "start_time": "2022-06-17T23:44:19.936Z"
   },
   {
    "duration": 239,
    "start_time": "2022-06-17T23:44:20.307Z"
   },
   {
    "duration": 18,
    "start_time": "2022-06-17T23:44:20.547Z"
   },
   {
    "duration": 26,
    "start_time": "2022-06-17T23:44:20.567Z"
   },
   {
    "duration": 5,
    "start_time": "2022-06-17T23:44:20.595Z"
   },
   {
    "duration": 4,
    "start_time": "2022-06-17T23:44:20.626Z"
   },
   {
    "duration": 7,
    "start_time": "2022-06-17T23:44:20.632Z"
   },
   {
    "duration": 44,
    "start_time": "2022-06-17T23:44:20.640Z"
   },
   {
    "duration": 4,
    "start_time": "2022-06-17T23:44:20.686Z"
   },
   {
    "duration": 56,
    "start_time": "2022-06-17T23:44:20.692Z"
   },
   {
    "duration": 8,
    "start_time": "2022-06-17T23:44:20.750Z"
   },
   {
    "duration": 9,
    "start_time": "2022-06-17T23:44:20.760Z"
   },
   {
    "duration": 11,
    "start_time": "2022-06-17T23:44:20.770Z"
   },
   {
    "duration": 23,
    "start_time": "2022-06-17T23:44:20.782Z"
   },
   {
    "duration": 6,
    "start_time": "2022-06-17T23:44:20.807Z"
   },
   {
    "duration": 32,
    "start_time": "2022-06-17T23:44:20.815Z"
   },
   {
    "duration": 1227,
    "start_time": "2022-06-17T23:44:20.849Z"
   },
   {
    "duration": 1253,
    "start_time": "2022-06-17T23:44:22.077Z"
   },
   {
    "duration": 14681,
    "start_time": "2022-06-17T23:44:23.333Z"
   },
   {
    "duration": 0,
    "start_time": "2022-06-17T23:44:38.025Z"
   },
   {
    "duration": 0,
    "start_time": "2022-06-17T23:44:38.027Z"
   },
   {
    "duration": 0,
    "start_time": "2022-06-17T23:44:38.028Z"
   },
   {
    "duration": 0,
    "start_time": "2022-06-17T23:44:38.029Z"
   },
   {
    "duration": 0,
    "start_time": "2022-06-17T23:44:38.030Z"
   },
   {
    "duration": 18,
    "start_time": "2022-06-17T23:44:40.853Z"
   },
   {
    "duration": 216,
    "start_time": "2022-06-17T23:44:50.278Z"
   },
   {
    "duration": 234,
    "start_time": "2022-06-17T23:44:54.119Z"
   },
   {
    "duration": 231,
    "start_time": "2022-06-17T23:44:57.122Z"
   },
   {
    "duration": 320,
    "start_time": "2022-06-17T23:45:09.326Z"
   },
   {
    "duration": 2061,
    "start_time": "2022-06-18T11:24:48.713Z"
   },
   {
    "duration": 3279,
    "start_time": "2022-06-18T11:24:50.776Z"
   },
   {
    "duration": 31,
    "start_time": "2022-06-18T11:24:54.057Z"
   },
   {
    "duration": 16,
    "start_time": "2022-06-18T11:24:54.090Z"
   },
   {
    "duration": 44,
    "start_time": "2022-06-18T11:24:54.108Z"
   },
   {
    "duration": 12,
    "start_time": "2022-06-18T11:24:54.154Z"
   },
   {
    "duration": 14,
    "start_time": "2022-06-18T11:24:54.168Z"
   },
   {
    "duration": 6,
    "start_time": "2022-06-18T11:24:54.183Z"
   },
   {
    "duration": 10,
    "start_time": "2022-06-18T11:24:54.190Z"
   },
   {
    "duration": 4,
    "start_time": "2022-06-18T11:24:54.228Z"
   },
   {
    "duration": 10,
    "start_time": "2022-06-18T11:24:54.234Z"
   },
   {
    "duration": 6,
    "start_time": "2022-06-18T11:24:54.246Z"
   },
   {
    "duration": 9,
    "start_time": "2022-06-18T11:24:54.254Z"
   },
   {
    "duration": 45,
    "start_time": "2022-06-18T11:24:54.264Z"
   },
   {
    "duration": 534,
    "start_time": "2022-06-18T11:24:54.311Z"
   },
   {
    "duration": 23,
    "start_time": "2022-06-18T11:24:54.847Z"
   },
   {
    "duration": 1064,
    "start_time": "2022-06-18T11:24:54.873Z"
   },
   {
    "duration": 21,
    "start_time": "2022-06-18T11:24:55.940Z"
   },
   {
    "duration": 775,
    "start_time": "2022-06-18T11:24:55.963Z"
   },
   {
    "duration": 21,
    "start_time": "2022-06-18T11:24:56.740Z"
   },
   {
    "duration": 611,
    "start_time": "2022-06-18T11:24:56.763Z"
   },
   {
    "duration": 21,
    "start_time": "2022-06-18T11:24:57.376Z"
   },
   {
    "duration": 600,
    "start_time": "2022-06-18T11:24:57.399Z"
   },
   {
    "duration": 8,
    "start_time": "2022-06-18T11:24:58.001Z"
   },
   {
    "duration": 22,
    "start_time": "2022-06-18T11:24:58.011Z"
   },
   {
    "duration": 8,
    "start_time": "2022-06-18T11:24:58.035Z"
   },
   {
    "duration": 15,
    "start_time": "2022-06-18T11:24:58.045Z"
   },
   {
    "duration": 260,
    "start_time": "2022-06-18T11:24:58.064Z"
   },
   {
    "duration": 253,
    "start_time": "2022-06-18T11:24:58.327Z"
   },
   {
    "duration": 394,
    "start_time": "2022-06-18T11:24:58.582Z"
   },
   {
    "duration": 279,
    "start_time": "2022-06-18T11:24:58.978Z"
   },
   {
    "duration": 21,
    "start_time": "2022-06-18T11:24:59.259Z"
   },
   {
    "duration": 25,
    "start_time": "2022-06-18T11:24:59.282Z"
   },
   {
    "duration": 17,
    "start_time": "2022-06-18T11:24:59.327Z"
   },
   {
    "duration": 5,
    "start_time": "2022-06-18T11:24:59.345Z"
   },
   {
    "duration": 6,
    "start_time": "2022-06-18T11:24:59.351Z"
   },
   {
    "duration": 43,
    "start_time": "2022-06-18T11:24:59.359Z"
   },
   {
    "duration": 26,
    "start_time": "2022-06-18T11:24:59.404Z"
   },
   {
    "duration": 44,
    "start_time": "2022-06-18T11:24:59.431Z"
   },
   {
    "duration": 8,
    "start_time": "2022-06-18T11:24:59.477Z"
   },
   {
    "duration": 9,
    "start_time": "2022-06-18T11:24:59.487Z"
   },
   {
    "duration": 32,
    "start_time": "2022-06-18T11:24:59.497Z"
   },
   {
    "duration": 10,
    "start_time": "2022-06-18T11:24:59.531Z"
   },
   {
    "duration": 7,
    "start_time": "2022-06-18T11:24:59.543Z"
   },
   {
    "duration": 22,
    "start_time": "2022-06-18T11:24:59.552Z"
   },
   {
    "duration": 1304,
    "start_time": "2022-06-18T11:24:59.576Z"
   },
   {
    "duration": 1649,
    "start_time": "2022-06-18T11:25:00.881Z"
   },
   {
    "duration": 0,
    "start_time": "2022-06-18T11:56:55.798Z"
   },
   {
    "duration": 1923860,
    "start_time": "2022-06-18T12:00:46.766Z"
   },
   {
    "duration": 1206,
    "start_time": "2022-06-18T12:34:27.807Z"
   },
   {
    "duration": 3612,
    "start_time": "2022-06-18T12:34:53.832Z"
   },
   {
    "duration": 1380,
    "start_time": "2022-06-18T12:35:05.220Z"
   },
   {
    "duration": 20,
    "start_time": "2022-06-18T12:35:08.030Z"
   },
   {
    "duration": 30,
    "start_time": "2022-06-18T12:35:45.709Z"
   },
   {
    "duration": 19,
    "start_time": "2022-06-18T12:35:54.314Z"
   },
   {
    "duration": 27,
    "start_time": "2022-06-18T12:42:34.622Z"
   },
   {
    "duration": 23,
    "start_time": "2022-06-18T12:43:35.965Z"
   },
   {
    "duration": 28,
    "start_time": "2022-06-18T12:51:07.894Z"
   },
   {
    "duration": 42,
    "start_time": "2022-06-18T13:44:03.598Z"
   },
   {
    "duration": 15,
    "start_time": "2022-06-18T13:48:43.092Z"
   },
   {
    "duration": 13,
    "start_time": "2022-06-18T13:48:49.086Z"
   },
   {
    "duration": 15,
    "start_time": "2022-06-18T13:49:01.781Z"
   },
   {
    "duration": 1345,
    "start_time": "2022-06-18T13:52:02.061Z"
   },
   {
    "duration": 3098,
    "start_time": "2022-06-18T13:52:03.408Z"
   },
   {
    "duration": 32,
    "start_time": "2022-06-18T13:52:06.508Z"
   },
   {
    "duration": 15,
    "start_time": "2022-06-18T13:52:06.542Z"
   },
   {
    "duration": 27,
    "start_time": "2022-06-18T13:52:06.559Z"
   },
   {
    "duration": 13,
    "start_time": "2022-06-18T13:52:06.588Z"
   },
   {
    "duration": 36,
    "start_time": "2022-06-18T13:52:06.603Z"
   },
   {
    "duration": 5,
    "start_time": "2022-06-18T13:52:06.641Z"
   },
   {
    "duration": 11,
    "start_time": "2022-06-18T13:52:06.648Z"
   },
   {
    "duration": 3,
    "start_time": "2022-06-18T13:52:06.661Z"
   },
   {
    "duration": 8,
    "start_time": "2022-06-18T13:52:06.666Z"
   },
   {
    "duration": 8,
    "start_time": "2022-06-18T13:52:06.675Z"
   },
   {
    "duration": 6,
    "start_time": "2022-06-18T13:52:06.684Z"
   },
   {
    "duration": 72,
    "start_time": "2022-06-18T13:52:06.691Z"
   },
   {
    "duration": 546,
    "start_time": "2022-06-18T13:52:06.764Z"
   },
   {
    "duration": 27,
    "start_time": "2022-06-18T13:52:07.311Z"
   },
   {
    "duration": 1037,
    "start_time": "2022-06-18T13:52:07.339Z"
   },
   {
    "duration": 22,
    "start_time": "2022-06-18T13:52:08.377Z"
   },
   {
    "duration": 691,
    "start_time": "2022-06-18T13:52:08.401Z"
   },
   {
    "duration": 23,
    "start_time": "2022-06-18T13:52:09.094Z"
   },
   {
    "duration": 641,
    "start_time": "2022-06-18T13:52:09.127Z"
   },
   {
    "duration": 23,
    "start_time": "2022-06-18T13:52:09.769Z"
   },
   {
    "duration": 604,
    "start_time": "2022-06-18T13:52:09.793Z"
   },
   {
    "duration": 7,
    "start_time": "2022-06-18T13:52:10.398Z"
   },
   {
    "duration": 22,
    "start_time": "2022-06-18T13:52:10.406Z"
   },
   {
    "duration": 8,
    "start_time": "2022-06-18T13:52:10.429Z"
   },
   {
    "duration": 9,
    "start_time": "2022-06-18T13:52:10.438Z"
   },
   {
    "duration": 269,
    "start_time": "2022-06-18T13:52:10.450Z"
   },
   {
    "duration": 248,
    "start_time": "2022-06-18T13:52:10.721Z"
   },
   {
    "duration": 365,
    "start_time": "2022-06-18T13:52:10.970Z"
   },
   {
    "duration": 266,
    "start_time": "2022-06-18T13:52:11.336Z"
   },
   {
    "duration": 26,
    "start_time": "2022-06-18T13:52:11.604Z"
   },
   {
    "duration": 32,
    "start_time": "2022-06-18T13:52:11.632Z"
   },
   {
    "duration": 17,
    "start_time": "2022-06-18T13:52:11.665Z"
   },
   {
    "duration": 5,
    "start_time": "2022-06-18T13:52:11.683Z"
   },
   {
    "duration": 68,
    "start_time": "2022-06-18T13:52:11.690Z"
   },
   {
    "duration": 4,
    "start_time": "2022-06-18T13:52:11.759Z"
   },
   {
    "duration": 40,
    "start_time": "2022-06-18T13:52:11.765Z"
   },
   {
    "duration": 21,
    "start_time": "2022-06-18T13:52:11.807Z"
   },
   {
    "duration": 11,
    "start_time": "2022-06-18T13:52:11.829Z"
   },
   {
    "duration": 6,
    "start_time": "2022-06-18T13:52:11.842Z"
   },
   {
    "duration": 12,
    "start_time": "2022-06-18T13:52:11.850Z"
   },
   {
    "duration": 7,
    "start_time": "2022-06-18T13:52:11.864Z"
   },
   {
    "duration": 66,
    "start_time": "2022-06-18T13:52:11.873Z"
   },
   {
    "duration": 1310,
    "start_time": "2022-06-18T13:52:11.942Z"
   },
   {
    "duration": 1478,
    "start_time": "2022-06-18T13:52:13.254Z"
   },
   {
    "duration": 1585,
    "start_time": "2022-06-18T13:52:14.734Z"
   },
   {
    "duration": 38,
    "start_time": "2022-06-18T13:52:16.321Z"
   },
   {
    "duration": 14,
    "start_time": "2022-06-18T13:52:16.361Z"
   },
   {
    "duration": 164,
    "start_time": "2022-06-18T13:52:16.378Z"
   },
   {
    "duration": 21,
    "start_time": "2022-06-18T13:55:39.962Z"
   },
   {
    "duration": 1321,
    "start_time": "2022-06-18T13:58:11.381Z"
   },
   {
    "duration": 700,
    "start_time": "2022-06-18T13:58:12.704Z"
   },
   {
    "duration": 37,
    "start_time": "2022-06-18T13:58:13.406Z"
   },
   {
    "duration": 18,
    "start_time": "2022-06-18T13:58:13.444Z"
   },
   {
    "duration": 24,
    "start_time": "2022-06-18T13:58:13.463Z"
   },
   {
    "duration": 11,
    "start_time": "2022-06-18T13:58:13.489Z"
   },
   {
    "duration": 37,
    "start_time": "2022-06-18T13:58:13.502Z"
   },
   {
    "duration": 11,
    "start_time": "2022-06-18T13:58:13.541Z"
   },
   {
    "duration": 12,
    "start_time": "2022-06-18T13:58:13.553Z"
   },
   {
    "duration": 3,
    "start_time": "2022-06-18T13:58:13.569Z"
   },
   {
    "duration": 13,
    "start_time": "2022-06-18T13:58:13.574Z"
   },
   {
    "duration": 8,
    "start_time": "2022-06-18T13:58:13.588Z"
   },
   {
    "duration": 6,
    "start_time": "2022-06-18T13:58:13.597Z"
   },
   {
    "duration": 60,
    "start_time": "2022-06-18T13:58:13.604Z"
   },
   {
    "duration": 557,
    "start_time": "2022-06-18T13:58:13.665Z"
   },
   {
    "duration": 22,
    "start_time": "2022-06-18T13:58:14.223Z"
   },
   {
    "duration": 1043,
    "start_time": "2022-06-18T13:58:14.247Z"
   },
   {
    "duration": 36,
    "start_time": "2022-06-18T13:58:15.292Z"
   },
   {
    "duration": 853,
    "start_time": "2022-06-18T13:58:15.330Z"
   },
   {
    "duration": 42,
    "start_time": "2022-06-18T13:58:16.185Z"
   },
   {
    "duration": 692,
    "start_time": "2022-06-18T13:58:16.230Z"
   },
   {
    "duration": 25,
    "start_time": "2022-06-18T13:58:16.924Z"
   },
   {
    "duration": 601,
    "start_time": "2022-06-18T13:58:16.952Z"
   },
   {
    "duration": 7,
    "start_time": "2022-06-18T13:58:17.555Z"
   },
   {
    "duration": 9,
    "start_time": "2022-06-18T13:58:17.564Z"
   },
   {
    "duration": 7,
    "start_time": "2022-06-18T13:58:17.575Z"
   },
   {
    "duration": 9,
    "start_time": "2022-06-18T13:58:17.584Z"
   },
   {
    "duration": 268,
    "start_time": "2022-06-18T13:58:17.596Z"
   },
   {
    "duration": 250,
    "start_time": "2022-06-18T13:58:17.865Z"
   },
   {
    "duration": 361,
    "start_time": "2022-06-18T13:58:18.117Z"
   },
   {
    "duration": 287,
    "start_time": "2022-06-18T13:58:18.480Z"
   },
   {
    "duration": 19,
    "start_time": "2022-06-18T13:58:18.769Z"
   },
   {
    "duration": 46,
    "start_time": "2022-06-18T13:58:18.790Z"
   },
   {
    "duration": 19,
    "start_time": "2022-06-18T13:58:18.839Z"
   },
   {
    "duration": 5,
    "start_time": "2022-06-18T13:58:18.860Z"
   },
   {
    "duration": 65,
    "start_time": "2022-06-18T13:58:18.867Z"
   },
   {
    "duration": 5,
    "start_time": "2022-06-18T13:58:18.934Z"
   },
   {
    "duration": 51,
    "start_time": "2022-06-18T13:58:18.941Z"
   },
   {
    "duration": 9,
    "start_time": "2022-06-18T13:58:18.994Z"
   },
   {
    "duration": 36,
    "start_time": "2022-06-18T13:58:19.005Z"
   },
   {
    "duration": 9,
    "start_time": "2022-06-18T13:58:19.043Z"
   },
   {
    "duration": 16,
    "start_time": "2022-06-18T13:58:19.053Z"
   },
   {
    "duration": 8,
    "start_time": "2022-06-18T13:58:19.071Z"
   },
   {
    "duration": 25,
    "start_time": "2022-06-18T13:58:19.080Z"
   },
   {
    "duration": 1333,
    "start_time": "2022-06-18T13:58:19.107Z"
   },
   {
    "duration": 1786,
    "start_time": "2022-06-18T13:58:20.442Z"
   },
   {
    "duration": 1227,
    "start_time": "2022-06-18T13:58:22.230Z"
   },
   {
    "duration": 20,
    "start_time": "2022-06-18T13:58:23.459Z"
   },
   {
    "duration": 13,
    "start_time": "2022-06-18T13:58:23.480Z"
   },
   {
    "duration": 128,
    "start_time": "2022-06-18T13:58:23.494Z"
   },
   {
    "duration": 1250,
    "start_time": "2022-06-18T21:55:10.778Z"
   },
   {
    "duration": 701,
    "start_time": "2022-06-18T21:55:12.030Z"
   },
   {
    "duration": 30,
    "start_time": "2022-06-18T21:55:12.733Z"
   },
   {
    "duration": 15,
    "start_time": "2022-06-18T21:55:12.765Z"
   },
   {
    "duration": 24,
    "start_time": "2022-06-18T21:55:12.781Z"
   },
   {
    "duration": 13,
    "start_time": "2022-06-18T21:55:12.826Z"
   },
   {
    "duration": 13,
    "start_time": "2022-06-18T21:55:12.841Z"
   },
   {
    "duration": 6,
    "start_time": "2022-06-18T21:55:12.856Z"
   },
   {
    "duration": 9,
    "start_time": "2022-06-18T21:55:12.864Z"
   },
   {
    "duration": 3,
    "start_time": "2022-06-18T21:55:12.876Z"
   },
   {
    "duration": 8,
    "start_time": "2022-06-18T21:55:12.881Z"
   },
   {
    "duration": 40,
    "start_time": "2022-06-18T21:55:12.890Z"
   },
   {
    "duration": 4,
    "start_time": "2022-06-18T21:55:12.932Z"
   },
   {
    "duration": 42,
    "start_time": "2022-06-18T21:55:12.937Z"
   },
   {
    "duration": 538,
    "start_time": "2022-06-18T21:55:12.981Z"
   },
   {
    "duration": 25,
    "start_time": "2022-06-18T21:55:13.521Z"
   },
   {
    "duration": 1043,
    "start_time": "2022-06-18T21:55:13.548Z"
   },
   {
    "duration": 22,
    "start_time": "2022-06-18T21:55:14.593Z"
   },
   {
    "duration": 744,
    "start_time": "2022-06-18T21:55:14.616Z"
   },
   {
    "duration": 21,
    "start_time": "2022-06-18T21:55:15.362Z"
   },
   {
    "duration": 620,
    "start_time": "2022-06-18T21:55:15.385Z"
   },
   {
    "duration": 28,
    "start_time": "2022-06-18T21:55:16.006Z"
   },
   {
    "duration": 677,
    "start_time": "2022-06-18T21:55:16.035Z"
   },
   {
    "duration": 13,
    "start_time": "2022-06-18T21:55:16.714Z"
   },
   {
    "duration": 14,
    "start_time": "2022-06-18T21:55:16.728Z"
   },
   {
    "duration": 25,
    "start_time": "2022-06-18T21:55:16.743Z"
   },
   {
    "duration": 17,
    "start_time": "2022-06-18T21:55:16.770Z"
   },
   {
    "duration": 239,
    "start_time": "2022-06-18T21:55:16.792Z"
   },
   {
    "duration": 244,
    "start_time": "2022-06-18T21:55:17.033Z"
   },
   {
    "duration": 359,
    "start_time": "2022-06-18T21:55:17.279Z"
   },
   {
    "duration": 260,
    "start_time": "2022-06-18T21:55:17.640Z"
   },
   {
    "duration": 26,
    "start_time": "2022-06-18T21:55:17.902Z"
   },
   {
    "duration": 26,
    "start_time": "2022-06-18T21:55:17.930Z"
   },
   {
    "duration": 17,
    "start_time": "2022-06-18T21:55:17.958Z"
   },
   {
    "duration": 5,
    "start_time": "2022-06-18T21:55:17.977Z"
   },
   {
    "duration": 72,
    "start_time": "2022-06-18T21:55:17.984Z"
   },
   {
    "duration": 4,
    "start_time": "2022-06-18T21:55:18.058Z"
   },
   {
    "duration": 49,
    "start_time": "2022-06-18T21:55:18.064Z"
   },
   {
    "duration": 9,
    "start_time": "2022-06-18T21:55:18.126Z"
   },
   {
    "duration": 15,
    "start_time": "2022-06-18T21:55:18.137Z"
   },
   {
    "duration": 8,
    "start_time": "2022-06-18T21:55:18.154Z"
   },
   {
    "duration": 14,
    "start_time": "2022-06-18T21:55:18.164Z"
   },
   {
    "duration": 7,
    "start_time": "2022-06-18T21:55:18.180Z"
   },
   {
    "duration": 49,
    "start_time": "2022-06-18T21:55:18.189Z"
   },
   {
    "duration": 1329,
    "start_time": "2022-06-18T21:55:18.239Z"
   },
   {
    "duration": 1558,
    "start_time": "2022-06-18T21:55:19.570Z"
   },
   {
    "duration": 284683,
    "start_time": "2022-06-18T21:55:21.130Z"
   },
   {
    "duration": 0,
    "start_time": "2022-06-18T22:00:05.815Z"
   },
   {
    "duration": 0,
    "start_time": "2022-06-18T22:00:05.816Z"
   },
   {
    "duration": 0,
    "start_time": "2022-06-18T22:00:05.828Z"
   },
   {
    "duration": 0,
    "start_time": "2022-06-18T22:00:05.829Z"
   },
   {
    "duration": 0,
    "start_time": "2022-06-18T22:00:05.831Z"
   },
   {
    "duration": 0,
    "start_time": "2022-06-18T22:00:05.832Z"
   },
   {
    "duration": 5,
    "start_time": "2022-06-18T22:00:07.082Z"
   },
   {
    "duration": 15168,
    "start_time": "2022-06-18T22:09:02.256Z"
   },
   {
    "duration": 36,
    "start_time": "2022-06-18T22:11:56.366Z"
   },
   {
    "duration": 1210,
    "start_time": "2022-06-18T22:12:13.127Z"
   },
   {
    "duration": 1096,
    "start_time": "2022-06-18T22:12:55.224Z"
   },
   {
    "duration": 1258,
    "start_time": "2022-06-18T22:14:41.438Z"
   },
   {
    "duration": 676,
    "start_time": "2022-06-18T22:14:42.698Z"
   },
   {
    "duration": 29,
    "start_time": "2022-06-18T22:14:43.376Z"
   },
   {
    "duration": 24,
    "start_time": "2022-06-18T22:14:43.407Z"
   },
   {
    "duration": 22,
    "start_time": "2022-06-18T22:14:43.432Z"
   },
   {
    "duration": 11,
    "start_time": "2022-06-18T22:14:43.456Z"
   },
   {
    "duration": 12,
    "start_time": "2022-06-18T22:14:43.468Z"
   },
   {
    "duration": 5,
    "start_time": "2022-06-18T22:14:43.481Z"
   },
   {
    "duration": 41,
    "start_time": "2022-06-18T22:14:43.487Z"
   },
   {
    "duration": 3,
    "start_time": "2022-06-18T22:14:43.530Z"
   },
   {
    "duration": 8,
    "start_time": "2022-06-18T22:14:43.535Z"
   },
   {
    "duration": 6,
    "start_time": "2022-06-18T22:14:43.544Z"
   },
   {
    "duration": 4,
    "start_time": "2022-06-18T22:14:43.552Z"
   },
   {
    "duration": 43,
    "start_time": "2022-06-18T22:14:43.557Z"
   },
   {
    "duration": 511,
    "start_time": "2022-06-18T22:14:43.626Z"
   },
   {
    "duration": 20,
    "start_time": "2022-06-18T22:14:44.139Z"
   },
   {
    "duration": 1050,
    "start_time": "2022-06-18T22:14:44.160Z"
   },
   {
    "duration": 28,
    "start_time": "2022-06-18T22:14:45.211Z"
   },
   {
    "duration": 663,
    "start_time": "2022-06-18T22:14:45.240Z"
   },
   {
    "duration": 26,
    "start_time": "2022-06-18T22:14:45.905Z"
   },
   {
    "duration": 654,
    "start_time": "2022-06-18T22:14:45.932Z"
   },
   {
    "duration": 29,
    "start_time": "2022-06-18T22:14:46.588Z"
   },
   {
    "duration": 586,
    "start_time": "2022-06-18T22:14:46.619Z"
   },
   {
    "duration": 6,
    "start_time": "2022-06-18T22:14:47.207Z"
   },
   {
    "duration": 18,
    "start_time": "2022-06-18T22:14:47.214Z"
   },
   {
    "duration": 7,
    "start_time": "2022-06-18T22:14:47.233Z"
   },
   {
    "duration": 9,
    "start_time": "2022-06-18T22:14:47.242Z"
   },
   {
    "duration": 242,
    "start_time": "2022-06-18T22:14:47.255Z"
   },
   {
    "duration": 245,
    "start_time": "2022-06-18T22:14:47.499Z"
   },
   {
    "duration": 344,
    "start_time": "2022-06-18T22:14:47.746Z"
   },
   {
    "duration": 252,
    "start_time": "2022-06-18T22:14:48.092Z"
   },
   {
    "duration": 16,
    "start_time": "2022-06-18T22:14:48.346Z"
   },
   {
    "duration": 26,
    "start_time": "2022-06-18T22:14:48.364Z"
   },
   {
    "duration": 41,
    "start_time": "2022-06-18T22:14:48.392Z"
   },
   {
    "duration": 5,
    "start_time": "2022-06-18T22:14:48.435Z"
   },
   {
    "duration": 39,
    "start_time": "2022-06-18T22:14:48.442Z"
   },
   {
    "duration": 5,
    "start_time": "2022-06-18T22:14:48.482Z"
   },
   {
    "duration": 59,
    "start_time": "2022-06-18T22:14:48.488Z"
   },
   {
    "duration": 7,
    "start_time": "2022-06-18T22:14:48.549Z"
   },
   {
    "duration": 27,
    "start_time": "2022-06-18T22:14:48.557Z"
   },
   {
    "duration": 6,
    "start_time": "2022-06-18T22:14:48.585Z"
   },
   {
    "duration": 9,
    "start_time": "2022-06-18T22:14:48.592Z"
   },
   {
    "duration": 28,
    "start_time": "2022-06-18T22:14:48.603Z"
   },
   {
    "duration": 7,
    "start_time": "2022-06-18T22:14:48.633Z"
   },
   {
    "duration": 24,
    "start_time": "2022-06-18T22:14:48.641Z"
   },
   {
    "duration": 1290,
    "start_time": "2022-06-18T22:14:48.666Z"
   },
   {
    "duration": 1274,
    "start_time": "2022-06-18T22:14:49.958Z"
   },
   {
    "duration": 272173,
    "start_time": "2022-06-18T22:14:51.234Z"
   },
   {
    "duration": 0,
    "start_time": "2022-06-18T22:19:23.409Z"
   },
   {
    "duration": 0,
    "start_time": "2022-06-18T22:19:23.410Z"
   },
   {
    "duration": 0,
    "start_time": "2022-06-18T22:19:23.411Z"
   },
   {
    "duration": 0,
    "start_time": "2022-06-18T22:19:23.411Z"
   },
   {
    "duration": 0,
    "start_time": "2022-06-18T22:19:23.412Z"
   },
   {
    "duration": 0,
    "start_time": "2022-06-18T22:19:23.413Z"
   },
   {
    "duration": 0,
    "start_time": "2022-06-18T22:19:23.414Z"
   },
   {
    "duration": 11,
    "start_time": "2022-06-18T22:19:25.286Z"
   },
   {
    "duration": 1281,
    "start_time": "2022-06-18T22:19:36.215Z"
   },
   {
    "duration": 698,
    "start_time": "2022-06-18T22:19:37.498Z"
   },
   {
    "duration": 37,
    "start_time": "2022-06-18T22:19:38.197Z"
   },
   {
    "duration": 17,
    "start_time": "2022-06-18T22:19:38.237Z"
   },
   {
    "duration": 25,
    "start_time": "2022-06-18T22:19:38.256Z"
   },
   {
    "duration": 12,
    "start_time": "2022-06-18T22:19:38.282Z"
   },
   {
    "duration": 44,
    "start_time": "2022-06-18T22:19:38.296Z"
   },
   {
    "duration": 6,
    "start_time": "2022-06-18T22:19:38.341Z"
   },
   {
    "duration": 19,
    "start_time": "2022-06-18T22:19:38.348Z"
   },
   {
    "duration": 4,
    "start_time": "2022-06-18T22:19:38.369Z"
   },
   {
    "duration": 8,
    "start_time": "2022-06-18T22:19:38.374Z"
   },
   {
    "duration": 7,
    "start_time": "2022-06-18T22:19:38.383Z"
   },
   {
    "duration": 7,
    "start_time": "2022-06-18T22:19:38.392Z"
   },
   {
    "duration": 63,
    "start_time": "2022-06-18T22:19:38.400Z"
   },
   {
    "duration": 510,
    "start_time": "2022-06-18T22:19:38.464Z"
   },
   {
    "duration": 20,
    "start_time": "2022-06-18T22:19:38.976Z"
   },
   {
    "duration": 968,
    "start_time": "2022-06-18T22:19:38.998Z"
   },
   {
    "duration": 21,
    "start_time": "2022-06-18T22:19:39.968Z"
   },
   {
    "duration": 637,
    "start_time": "2022-06-18T22:19:39.990Z"
   },
   {
    "duration": 20,
    "start_time": "2022-06-18T22:19:40.629Z"
   },
   {
    "duration": 712,
    "start_time": "2022-06-18T22:19:40.650Z"
   },
   {
    "duration": 71,
    "start_time": "2022-06-18T22:19:41.363Z"
   },
   {
    "duration": 1119,
    "start_time": "2022-06-18T22:19:41.435Z"
   },
   {
    "duration": 6,
    "start_time": "2022-06-18T22:19:42.555Z"
   },
   {
    "duration": 64,
    "start_time": "2022-06-18T22:19:42.563Z"
   },
   {
    "duration": 11,
    "start_time": "2022-06-18T22:19:42.629Z"
   },
   {
    "duration": 9,
    "start_time": "2022-06-18T22:19:42.641Z"
   },
   {
    "duration": 307,
    "start_time": "2022-06-18T22:19:42.653Z"
   },
   {
    "duration": 239,
    "start_time": "2022-06-18T22:19:42.962Z"
   },
   {
    "duration": 365,
    "start_time": "2022-06-18T22:19:43.203Z"
   },
   {
    "duration": 261,
    "start_time": "2022-06-18T22:19:43.570Z"
   },
   {
    "duration": 17,
    "start_time": "2022-06-18T22:19:43.834Z"
   },
   {
    "duration": 26,
    "start_time": "2022-06-18T22:19:43.853Z"
   },
   {
    "duration": 19,
    "start_time": "2022-06-18T22:19:43.881Z"
   },
   {
    "duration": 27,
    "start_time": "2022-06-18T22:19:43.901Z"
   },
   {
    "duration": 41,
    "start_time": "2022-06-18T22:19:43.930Z"
   },
   {
    "duration": 3,
    "start_time": "2022-06-18T22:19:43.973Z"
   },
   {
    "duration": 50,
    "start_time": "2022-06-18T22:19:43.978Z"
   },
   {
    "duration": 8,
    "start_time": "2022-06-18T22:19:44.031Z"
   },
   {
    "duration": 25,
    "start_time": "2022-06-18T22:19:44.041Z"
   },
   {
    "duration": 6,
    "start_time": "2022-06-18T22:19:44.068Z"
   },
   {
    "duration": 7,
    "start_time": "2022-06-18T22:19:44.076Z"
   },
   {
    "duration": 43,
    "start_time": "2022-06-18T22:19:44.084Z"
   },
   {
    "duration": 9,
    "start_time": "2022-06-18T22:19:44.129Z"
   },
   {
    "duration": 20,
    "start_time": "2022-06-18T22:19:44.139Z"
   },
   {
    "duration": 1258,
    "start_time": "2022-06-18T22:19:44.161Z"
   },
   {
    "duration": 1215,
    "start_time": "2022-06-18T22:19:45.421Z"
   },
   {
    "duration": 18385,
    "start_time": "2022-06-18T22:19:46.729Z"
   },
   {
    "duration": 0,
    "start_time": "2022-06-18T22:20:05.116Z"
   },
   {
    "duration": 0,
    "start_time": "2022-06-18T22:20:05.117Z"
   },
   {
    "duration": 0,
    "start_time": "2022-06-18T22:20:05.127Z"
   },
   {
    "duration": 0,
    "start_time": "2022-06-18T22:20:05.129Z"
   },
   {
    "duration": 0,
    "start_time": "2022-06-18T22:20:05.131Z"
   },
   {
    "duration": 0,
    "start_time": "2022-06-18T22:20:05.133Z"
   },
   {
    "duration": 9,
    "start_time": "2022-06-18T22:21:48.421Z"
   },
   {
    "duration": 0,
    "start_time": "2022-06-18T22:26:03.183Z"
   },
   {
    "duration": 1346,
    "start_time": "2022-06-18T22:26:36.157Z"
   },
   {
    "duration": 701,
    "start_time": "2022-06-18T22:26:37.505Z"
   },
   {
    "duration": 37,
    "start_time": "2022-06-18T22:26:38.208Z"
   },
   {
    "duration": 17,
    "start_time": "2022-06-18T22:26:38.248Z"
   },
   {
    "duration": 28,
    "start_time": "2022-06-18T22:26:38.267Z"
   },
   {
    "duration": 39,
    "start_time": "2022-06-18T22:26:38.297Z"
   },
   {
    "duration": 13,
    "start_time": "2022-06-18T22:26:38.338Z"
   },
   {
    "duration": 6,
    "start_time": "2022-06-18T22:26:38.353Z"
   },
   {
    "duration": 11,
    "start_time": "2022-06-18T22:26:38.361Z"
   },
   {
    "duration": 4,
    "start_time": "2022-06-18T22:26:38.376Z"
   },
   {
    "duration": 9,
    "start_time": "2022-06-18T22:26:38.382Z"
   },
   {
    "duration": 5,
    "start_time": "2022-06-18T22:26:38.393Z"
   },
   {
    "duration": 2,
    "start_time": "2022-06-18T22:26:38.428Z"
   },
   {
    "duration": 44,
    "start_time": "2022-06-18T22:26:38.432Z"
   },
   {
    "duration": 518,
    "start_time": "2022-06-18T22:26:38.478Z"
   },
   {
    "duration": 31,
    "start_time": "2022-06-18T22:26:38.998Z"
   },
   {
    "duration": 1007,
    "start_time": "2022-06-18T22:26:39.030Z"
   },
   {
    "duration": 23,
    "start_time": "2022-06-18T22:26:40.039Z"
   },
   {
    "duration": 675,
    "start_time": "2022-06-18T22:26:40.064Z"
   },
   {
    "duration": 24,
    "start_time": "2022-06-18T22:26:40.741Z"
   },
   {
    "duration": 1063,
    "start_time": "2022-06-18T22:26:40.767Z"
   },
   {
    "duration": 21,
    "start_time": "2022-06-18T22:26:41.831Z"
   },
   {
    "duration": 994,
    "start_time": "2022-06-18T22:26:41.854Z"
   },
   {
    "duration": 6,
    "start_time": "2022-06-18T22:26:42.850Z"
   },
   {
    "duration": 15,
    "start_time": "2022-06-18T22:26:42.858Z"
   },
   {
    "duration": 9,
    "start_time": "2022-06-18T22:26:42.875Z"
   },
   {
    "duration": 49,
    "start_time": "2022-06-18T22:26:42.886Z"
   },
   {
    "duration": 470,
    "start_time": "2022-06-18T22:26:42.938Z"
   },
   {
    "duration": 239,
    "start_time": "2022-06-18T22:26:43.426Z"
   },
   {
    "duration": 365,
    "start_time": "2022-06-18T22:26:43.666Z"
   },
   {
    "duration": 252,
    "start_time": "2022-06-18T22:26:44.034Z"
   },
   {
    "duration": 15,
    "start_time": "2022-06-18T22:26:44.288Z"
   },
   {
    "duration": 37,
    "start_time": "2022-06-18T22:26:44.305Z"
   },
   {
    "duration": 17,
    "start_time": "2022-06-18T22:26:44.344Z"
   },
   {
    "duration": 4,
    "start_time": "2022-06-18T22:26:44.363Z"
   },
   {
    "duration": 41,
    "start_time": "2022-06-18T22:26:44.369Z"
   },
   {
    "duration": 18,
    "start_time": "2022-06-18T22:26:44.412Z"
   },
   {
    "duration": 41,
    "start_time": "2022-06-18T22:26:44.431Z"
   },
   {
    "duration": 7,
    "start_time": "2022-06-18T22:26:44.474Z"
   },
   {
    "duration": 12,
    "start_time": "2022-06-18T22:26:44.483Z"
   },
   {
    "duration": 3,
    "start_time": "2022-06-18T22:26:44.496Z"
   },
   {
    "duration": 29,
    "start_time": "2022-06-18T22:26:44.500Z"
   },
   {
    "duration": 7,
    "start_time": "2022-06-18T22:26:44.531Z"
   },
   {
    "duration": 7,
    "start_time": "2022-06-18T22:26:44.539Z"
   },
   {
    "duration": 9,
    "start_time": "2022-06-18T22:26:44.548Z"
   },
   {
    "duration": 9,
    "start_time": "2022-06-18T22:26:44.558Z"
   },
   {
    "duration": 6,
    "start_time": "2022-06-18T22:26:44.569Z"
   },
   {
    "duration": 21,
    "start_time": "2022-06-18T22:26:44.577Z"
   },
   {
    "duration": 1260,
    "start_time": "2022-06-18T22:26:44.600Z"
   },
   {
    "duration": 1567,
    "start_time": "2022-06-18T22:26:45.861Z"
   },
   {
    "duration": 5518,
    "start_time": "2022-06-18T22:26:47.430Z"
   },
   {
    "duration": 1080,
    "start_time": "2022-06-18T22:26:52.949Z"
   },
   {
    "duration": 36570993,
    "start_time": "2022-06-18T22:26:54.031Z"
   },
   {
    "duration": 0,
    "start_time": "2022-06-19T08:36:25.028Z"
   },
   {
    "duration": 0,
    "start_time": "2022-06-19T08:36:25.029Z"
   },
   {
    "duration": 0,
    "start_time": "2022-06-19T08:36:25.030Z"
   },
   {
    "duration": 0,
    "start_time": "2022-06-19T08:36:25.031Z"
   },
   {
    "duration": 1471,
    "start_time": "2022-06-19T08:37:44.088Z"
   },
   {
    "duration": 1868,
    "start_time": "2022-06-19T08:37:45.561Z"
   },
   {
    "duration": 34,
    "start_time": "2022-06-19T08:37:47.430Z"
   },
   {
    "duration": 17,
    "start_time": "2022-06-19T08:37:47.466Z"
   },
   {
    "duration": 42,
    "start_time": "2022-06-19T08:37:47.485Z"
   },
   {
    "duration": 13,
    "start_time": "2022-06-19T08:37:47.529Z"
   },
   {
    "duration": 13,
    "start_time": "2022-06-19T08:37:47.543Z"
   },
   {
    "duration": 5,
    "start_time": "2022-06-19T08:37:47.558Z"
   },
   {
    "duration": 11,
    "start_time": "2022-06-19T08:37:47.565Z"
   },
   {
    "duration": 3,
    "start_time": "2022-06-19T08:37:47.578Z"
   },
   {
    "duration": 46,
    "start_time": "2022-06-19T08:37:47.582Z"
   },
   {
    "duration": 5,
    "start_time": "2022-06-19T08:37:47.630Z"
   },
   {
    "duration": 5,
    "start_time": "2022-06-19T08:37:47.636Z"
   },
   {
    "duration": 50,
    "start_time": "2022-06-19T08:37:47.644Z"
   },
   {
    "duration": 544,
    "start_time": "2022-06-19T08:37:47.696Z"
   },
   {
    "duration": 23,
    "start_time": "2022-06-19T08:37:48.242Z"
   },
   {
    "duration": 1385,
    "start_time": "2022-06-19T08:37:48.267Z"
   },
   {
    "duration": 76,
    "start_time": "2022-06-19T08:37:49.655Z"
   },
   {
    "duration": 1364,
    "start_time": "2022-06-19T08:37:49.733Z"
   },
   {
    "duration": 33,
    "start_time": "2022-06-19T08:37:51.098Z"
   },
   {
    "duration": 650,
    "start_time": "2022-06-19T08:37:51.133Z"
   },
   {
    "duration": 22,
    "start_time": "2022-06-19T08:37:51.785Z"
   },
   {
    "duration": 600,
    "start_time": "2022-06-19T08:37:51.808Z"
   },
   {
    "duration": 7,
    "start_time": "2022-06-19T08:37:52.410Z"
   },
   {
    "duration": 11,
    "start_time": "2022-06-19T08:37:52.426Z"
   },
   {
    "duration": 13,
    "start_time": "2022-06-19T08:37:52.439Z"
   },
   {
    "duration": 16,
    "start_time": "2022-06-19T08:37:52.454Z"
   },
   {
    "duration": 289,
    "start_time": "2022-06-19T08:37:52.471Z"
   },
   {
    "duration": 271,
    "start_time": "2022-06-19T08:37:52.763Z"
   },
   {
    "duration": 392,
    "start_time": "2022-06-19T08:37:53.036Z"
   },
   {
    "duration": 260,
    "start_time": "2022-06-19T08:37:53.430Z"
   },
   {
    "duration": 16,
    "start_time": "2022-06-19T08:37:53.692Z"
   },
   {
    "duration": 39,
    "start_time": "2022-06-19T08:37:53.710Z"
   },
   {
    "duration": 18,
    "start_time": "2022-06-19T08:37:53.751Z"
   },
   {
    "duration": 5,
    "start_time": "2022-06-19T08:37:53.771Z"
   },
   {
    "duration": 66,
    "start_time": "2022-06-19T08:37:53.777Z"
   },
   {
    "duration": 4,
    "start_time": "2022-06-19T08:37:53.845Z"
   },
   {
    "duration": 56,
    "start_time": "2022-06-19T08:37:53.851Z"
   },
   {
    "duration": 22,
    "start_time": "2022-06-19T08:37:53.909Z"
   },
   {
    "duration": 10,
    "start_time": "2022-06-19T08:37:53.933Z"
   },
   {
    "duration": 3,
    "start_time": "2022-06-19T08:37:53.947Z"
   },
   {
    "duration": 11,
    "start_time": "2022-06-19T08:37:53.951Z"
   },
   {
    "duration": 7,
    "start_time": "2022-06-19T08:37:53.963Z"
   },
   {
    "duration": 6,
    "start_time": "2022-06-19T08:37:53.972Z"
   },
   {
    "duration": 9,
    "start_time": "2022-06-19T08:37:53.979Z"
   },
   {
    "duration": 39,
    "start_time": "2022-06-19T08:37:53.990Z"
   },
   {
    "duration": 6,
    "start_time": "2022-06-19T08:37:54.031Z"
   },
   {
    "duration": 22,
    "start_time": "2022-06-19T08:37:54.039Z"
   },
   {
    "duration": 1315,
    "start_time": "2022-06-19T08:37:54.063Z"
   },
   {
    "duration": 1652,
    "start_time": "2022-06-19T08:37:55.380Z"
   },
   {
    "duration": 12258,
    "start_time": "2022-06-19T08:37:57.034Z"
   },
   {
    "duration": 2300,
    "start_time": "2022-06-19T08:38:09.297Z"
   },
   {
    "duration": 1145,
    "start_time": "2022-06-19T08:38:11.599Z"
   },
   {
    "duration": 43114,
    "start_time": "2022-06-19T08:38:12.746Z"
   },
   {
    "duration": 0,
    "start_time": "2022-06-19T08:38:55.863Z"
   },
   {
    "duration": 0,
    "start_time": "2022-06-19T08:38:55.864Z"
   },
   {
    "duration": 0,
    "start_time": "2022-06-19T08:38:55.866Z"
   },
   {
    "duration": 0,
    "start_time": "2022-06-19T08:38:55.867Z"
   },
   {
    "duration": 818,
    "start_time": "2022-06-19T08:40:15.386Z"
   },
   {
    "duration": 16,
    "start_time": "2022-06-19T08:40:22.425Z"
   },
   {
    "duration": 15,
    "start_time": "2022-06-19T08:40:29.501Z"
   },
   {
    "duration": 1411,
    "start_time": "2022-06-19T10:07:19.916Z"
   },
   {
    "duration": 3054,
    "start_time": "2022-06-19T10:07:21.329Z"
   },
   {
    "duration": 31,
    "start_time": "2022-06-19T10:07:24.385Z"
   },
   {
    "duration": 16,
    "start_time": "2022-06-19T10:07:24.417Z"
   },
   {
    "duration": 33,
    "start_time": "2022-06-19T10:07:24.434Z"
   },
   {
    "duration": 11,
    "start_time": "2022-06-19T10:07:24.469Z"
   },
   {
    "duration": 13,
    "start_time": "2022-06-19T10:07:24.481Z"
   },
   {
    "duration": 5,
    "start_time": "2022-06-19T10:07:24.495Z"
   },
   {
    "duration": 11,
    "start_time": "2022-06-19T10:07:24.501Z"
   },
   {
    "duration": 3,
    "start_time": "2022-06-19T10:07:24.514Z"
   },
   {
    "duration": 10,
    "start_time": "2022-06-19T10:07:24.518Z"
   },
   {
    "duration": 9,
    "start_time": "2022-06-19T10:07:24.529Z"
   },
   {
    "duration": 26,
    "start_time": "2022-06-19T10:07:24.540Z"
   },
   {
    "duration": 42,
    "start_time": "2022-06-19T10:07:24.567Z"
   },
   {
    "duration": 515,
    "start_time": "2022-06-19T10:07:24.610Z"
   },
   {
    "duration": 21,
    "start_time": "2022-06-19T10:07:25.127Z"
   },
   {
    "duration": 989,
    "start_time": "2022-06-19T10:07:25.149Z"
   },
   {
    "duration": 27,
    "start_time": "2022-06-19T10:07:26.139Z"
   },
   {
    "duration": 667,
    "start_time": "2022-06-19T10:07:26.169Z"
   },
   {
    "duration": 29,
    "start_time": "2022-06-19T10:07:26.838Z"
   },
   {
    "duration": 573,
    "start_time": "2022-06-19T10:07:26.869Z"
   },
   {
    "duration": 30,
    "start_time": "2022-06-19T10:07:27.444Z"
   },
   {
    "duration": 532,
    "start_time": "2022-06-19T10:07:27.882Z"
   },
   {
    "duration": 6,
    "start_time": "2022-06-19T10:07:28.416Z"
   },
   {
    "duration": 7,
    "start_time": "2022-06-19T10:07:29.097Z"
   },
   {
    "duration": 8,
    "start_time": "2022-06-19T10:07:29.250Z"
   },
   {
    "duration": 8,
    "start_time": "2022-06-19T10:07:33.050Z"
   },
   {
    "duration": 229,
    "start_time": "2022-06-19T10:07:34.475Z"
   },
   {
    "duration": 230,
    "start_time": "2022-06-19T10:07:34.911Z"
   },
   {
    "duration": 358,
    "start_time": "2022-06-19T10:07:35.143Z"
   },
   {
    "duration": 265,
    "start_time": "2022-06-19T10:07:35.503Z"
   },
   {
    "duration": 17,
    "start_time": "2022-06-19T10:07:35.770Z"
   },
   {
    "duration": 26,
    "start_time": "2022-06-19T10:07:35.814Z"
   },
   {
    "duration": 15,
    "start_time": "2022-06-19T10:07:36.154Z"
   },
   {
    "duration": 5,
    "start_time": "2022-06-19T10:07:39.218Z"
   },
   {
    "duration": 106,
    "start_time": "2022-06-19T10:08:10.047Z"
   },
   {
    "duration": 28,
    "start_time": "2022-06-19T10:10:45.044Z"
   },
   {
    "duration": 19,
    "start_time": "2022-06-19T10:11:43.722Z"
   },
   {
    "duration": 14,
    "start_time": "2022-06-19T10:11:58.279Z"
   },
   {
    "duration": 4,
    "start_time": "2022-06-19T10:12:11.747Z"
   },
   {
    "duration": 15,
    "start_time": "2022-06-19T10:13:49.404Z"
   },
   {
    "duration": 6,
    "start_time": "2022-06-19T10:14:19.748Z"
   },
   {
    "duration": 7,
    "start_time": "2022-06-19T10:14:36.862Z"
   },
   {
    "duration": 29,
    "start_time": "2022-06-19T10:14:51.008Z"
   },
   {
    "duration": 25,
    "start_time": "2022-06-19T10:15:21.680Z"
   },
   {
    "duration": 15,
    "start_time": "2022-06-19T10:15:44.086Z"
   },
   {
    "duration": 15,
    "start_time": "2022-06-19T10:16:00.746Z"
   },
   {
    "duration": 15,
    "start_time": "2022-06-19T10:16:26.947Z"
   },
   {
    "duration": 17,
    "start_time": "2022-06-19T10:16:38.940Z"
   },
   {
    "duration": 455,
    "start_time": "2022-06-19T10:17:41.909Z"
   },
   {
    "duration": 459,
    "start_time": "2022-06-19T10:18:00.617Z"
   },
   {
    "duration": 453,
    "start_time": "2022-06-19T10:18:42.677Z"
   },
   {
    "duration": 8,
    "start_time": "2022-06-19T10:19:04.261Z"
   },
   {
    "duration": 454,
    "start_time": "2022-06-19T10:19:16.443Z"
   },
   {
    "duration": 10,
    "start_time": "2022-06-19T10:19:49.264Z"
   },
   {
    "duration": 25,
    "start_time": "2022-06-19T10:20:03.621Z"
   },
   {
    "duration": 669,
    "start_time": "2022-06-19T10:20:25.165Z"
   },
   {
    "duration": 34,
    "start_time": "2022-06-19T10:20:25.836Z"
   },
   {
    "duration": 16,
    "start_time": "2022-06-19T10:20:25.872Z"
   },
   {
    "duration": 22,
    "start_time": "2022-06-19T10:20:25.890Z"
   },
   {
    "duration": 12,
    "start_time": "2022-06-19T10:20:25.973Z"
   },
   {
    "duration": 14,
    "start_time": "2022-06-19T10:20:26.378Z"
   },
   {
    "duration": 6,
    "start_time": "2022-06-19T10:20:26.805Z"
   },
   {
    "duration": 9,
    "start_time": "2022-06-19T10:20:26.913Z"
   },
   {
    "duration": 4,
    "start_time": "2022-06-19T10:20:27.285Z"
   },
   {
    "duration": 5,
    "start_time": "2022-06-19T10:20:27.385Z"
   },
   {
    "duration": 4,
    "start_time": "2022-06-19T10:20:27.518Z"
   },
   {
    "duration": 3,
    "start_time": "2022-06-19T10:20:27.656Z"
   },
   {
    "duration": 40,
    "start_time": "2022-06-19T10:20:27.786Z"
   },
   {
    "duration": 607,
    "start_time": "2022-06-19T10:20:28.649Z"
   },
   {
    "duration": 23,
    "start_time": "2022-06-19T10:20:29.265Z"
   },
   {
    "duration": 1124,
    "start_time": "2022-06-19T10:20:29.306Z"
   },
   {
    "duration": 22,
    "start_time": "2022-06-19T10:20:30.431Z"
   },
   {
    "duration": 695,
    "start_time": "2022-06-19T10:20:30.465Z"
   },
   {
    "duration": 22,
    "start_time": "2022-06-19T10:20:31.164Z"
   },
   {
    "duration": 519,
    "start_time": "2022-06-19T10:20:31.188Z"
   },
   {
    "duration": 22,
    "start_time": "2022-06-19T10:20:31.709Z"
   },
   {
    "duration": 712,
    "start_time": "2022-06-19T10:20:31.733Z"
   },
   {
    "duration": 10,
    "start_time": "2022-06-19T10:20:32.447Z"
   },
   {
    "duration": 14,
    "start_time": "2022-06-19T10:20:32.458Z"
   },
   {
    "duration": 11,
    "start_time": "2022-06-19T10:20:32.475Z"
   },
   {
    "duration": 20,
    "start_time": "2022-06-19T10:20:32.488Z"
   },
   {
    "duration": 228,
    "start_time": "2022-06-19T10:20:34.717Z"
   },
   {
    "duration": 245,
    "start_time": "2022-06-19T10:20:34.947Z"
   },
   {
    "duration": 237,
    "start_time": "2022-06-19T10:20:35.194Z"
   },
   {
    "duration": 251,
    "start_time": "2022-06-19T10:20:35.433Z"
   },
   {
    "duration": 132,
    "start_time": "2022-06-19T10:20:36.210Z"
   },
   {
    "duration": 18,
    "start_time": "2022-06-19T10:20:36.381Z"
   },
   {
    "duration": 18,
    "start_time": "2022-06-19T10:20:36.653Z"
   },
   {
    "duration": 4,
    "start_time": "2022-06-19T10:20:38.047Z"
   },
   {
    "duration": 13,
    "start_time": "2022-06-19T10:20:47.901Z"
   },
   {
    "duration": 9,
    "start_time": "2022-06-19T10:20:57.845Z"
   },
   {
    "duration": 9,
    "start_time": "2022-06-19T10:21:17.449Z"
   },
   {
    "duration": 12,
    "start_time": "2022-06-19T10:23:49.552Z"
   },
   {
    "duration": 7,
    "start_time": "2022-06-19T10:23:52.759Z"
   },
   {
    "duration": 3,
    "start_time": "2022-06-19T10:23:53.420Z"
   },
   {
    "duration": 7,
    "start_time": "2022-06-19T10:23:54.076Z"
   },
   {
    "duration": 7,
    "start_time": "2022-06-19T10:23:58.234Z"
   },
   {
    "duration": 3,
    "start_time": "2022-06-19T10:23:58.655Z"
   },
   {
    "duration": 6,
    "start_time": "2022-06-19T10:24:01.152Z"
   },
   {
    "duration": 9,
    "start_time": "2022-06-19T10:24:01.357Z"
   },
   {
    "duration": 9,
    "start_time": "2022-06-19T10:24:01.844Z"
   },
   {
    "duration": 21,
    "start_time": "2022-06-19T10:24:02.352Z"
   },
   {
    "duration": 1230,
    "start_time": "2022-06-19T10:24:02.771Z"
   },
   {
    "duration": 1632,
    "start_time": "2022-06-19T10:24:08.433Z"
   },
   {
    "duration": 3742,
    "start_time": "2022-06-19T10:26:01.558Z"
   },
   {
    "duration": 7798,
    "start_time": "2022-06-19T10:26:16.582Z"
   }
  ],
  "kernelspec": {
   "display_name": "Python 3 (ipykernel)",
   "language": "python",
   "name": "python3"
  },
  "language_info": {
   "codemirror_mode": {
    "name": "ipython",
    "version": 3
   },
   "file_extension": ".py",
   "mimetype": "text/x-python",
   "name": "python",
   "nbconvert_exporter": "python",
   "pygments_lexer": "ipython3",
   "version": "3.9.12"
  },
  "toc": {
   "base_numbering": 1,
   "nav_menu": {},
   "number_sections": true,
   "sideBar": true,
   "skip_h1_title": true,
   "title_cell": "Содержание",
   "title_sidebar": "Contents",
   "toc_cell": true,
   "toc_position": {
    "height": "calc(100% - 180px)",
    "left": "10px",
    "top": "150px",
    "width": "174.594px"
   },
   "toc_section_display": true,
   "toc_window_display": true
  }
 },
 "nbformat": 4,
 "nbformat_minor": 2
}
